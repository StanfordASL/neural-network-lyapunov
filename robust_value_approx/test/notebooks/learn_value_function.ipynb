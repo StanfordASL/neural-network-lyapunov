{
 "cells": [
  {
   "cell_type": "code",
   "execution_count": null,
   "metadata": {},
   "outputs": [],
   "source": [
    "%load_ext autoreload\n",
    "%autoreload 2"
   ]
  },
  {
   "cell_type": "code",
   "execution_count": null,
   "metadata": {},
   "outputs": [],
   "source": [
    "import sys\n",
    "sys.path.append(\"..\")\n",
    "import torch\n",
    "import plotly\n",
    "import plotly.graph_objs as go\n",
    "plotly.offline.init_notebook_mode(connected=True)\n",
    "\n",
    "import robust_value_approx.train_value as train_value"
   ]
  },
  {
   "cell_type": "markdown",
   "metadata": {},
   "source": [
    "# Double Integrator Example"
   ]
  },
  {
   "cell_type": "code",
   "execution_count": null,
   "metadata": {},
   "outputs": [],
   "source": [
    "import double_integrator_utils\n",
    "\n",
    "vf = double_integrator_utils.get_value_function(N=5)\n",
    "\n",
    "x0_lo = -1 * torch.ones(vf.sys.x_dim, dtype=vf.dtype)\n",
    "x0_up = 1 * torch.ones(vf.sys.x_dim, dtype=vf.dtype)\n",
    "\n",
    "# validation options\n",
    "num_breaks_validation = [100] * vf.sys.x_dim\n",
    "\n",
    "# file options\n",
    "x_samples_file = '../data/learn_value_function_double_int_x'\n",
    "v_samples_file = '../data/learn_value_function_double_int_v'\n",
    "model_file = '../data/double_int'\n",
    "\n",
    "# neural network options\n",
    "nn_width = 8\n",
    "nn_depth = 0\n",
    "\n",
    "# setting up adversarial training options\n",
    "train_opt = train_value.AdversarialWithBaselineTrainingOptions()\n",
    "train_opt.num_iter_desired = 1001\n",
    "train_opt.batch_size = 10\n",
    "train_opt.max_buffer_size = 100000\n",
    "train_opt.init_buffer_size = 1\n",
    "train_opt.sample_refresh_rate = 100\n",
    "train_opt.num_rand_extra = 0\n",
    "train_opt.x_adv_max_iter = 2\n",
    "train_opt.x_adv_conv_tol = 1e-5\n",
    "train_opt.x_adv_lr = .25\n",
    "train_opt.x_adv0_noise = 1.\n",
    "\n",
    "num_training_run = 15"
   ]
  },
  {
   "cell_type": "markdown",
   "metadata": {},
   "source": [
    "# Vertical Ball Paddle Example"
   ]
  },
  {
   "cell_type": "code",
   "execution_count": null,
   "metadata": {},
   "outputs": [],
   "source": [
    "import ball_paddle_utils\n",
    "\n",
    "vf = ball_paddle_utils.get_value_function_vertical(N=5)\n",
    "\n",
    "x0_lo = torch.Tensor([1.5, .15, -5., -1.]).type(vf.dtype)\n",
    "x0_up = torch.Tensor([2., .15, 1., 5.]).type(vf.dtype)\n",
    "\n",
    "# validation options\n",
    "num_breaks_validation = [20, 1, 20, 20]\n",
    "\n",
    "# data file options\n",
    "x_samples_file = '../data/learn_value_function_ball_paddle_vertical_x'\n",
    "v_samples_file = '../data/learn_value_function_ball_paddle_vertical_v'\n",
    "model_file = '../data/vertical_ball_paddle'\n",
    "\n",
    "# neural network options\n",
    "nn_width = 16\n",
    "nn_depth = 0\n",
    "\n",
    "# setting up adversarial training options\n",
    "train_opt = train_value.AdversarialWithBaselineTrainingOptions()\n",
    "train_opt.num_iter_desired = 1001\n",
    "train_opt.batch_size = 100\n",
    "train_opt.max_buffer_size = 100000\n",
    "train_opt.init_buffer_size = 100\n",
    "train_opt.sample_refresh_rate = 100\n",
    "train_opt.num_rand_extra = 2\n",
    "train_opt.x_adv_max_iter = 3\n",
    "train_opt.x_adv_conv_tol = 1e-5\n",
    "train_opt.x_adv_lr = .25\n",
    "train_opt.x_adv0_noise = 1.\n",
    "\n",
    "num_training_run = 10"
   ]
  },
  {
   "cell_type": "code",
   "execution_count": null,
   "metadata": {},
   "outputs": [],
   "source": [
    "# checking the spread of trajectories for sanity check\n",
    "V = vf.get_value_function()\n",
    "x_traj_min = float('inf') * torch.ones(vf.sys.x_dim, vf.N).type(vf.dtype)\n",
    "x_traj_max = float('-inf') * torch.ones(vf.sys.x_dim, vf.N).type(vf.dtype)\n",
    "for i in range(50):\n",
    "    x0 = torch.rand(vf.sys.x_dim, dtype=vf.dtype) * (x0_up - x0_lo) + x0_lo\n",
    "    (x_traj, u_traj, _) = vf.sol_to_traj(x0, *V(x0)[1:])\n",
    "    if x_traj is None:\n",
    "        continue\n",
    "    x_traj_min = torch.min(x_traj_min, x_traj)\n",
    "    x_traj_max = torch.max(x_traj_max, x_traj)\n",
    "for x0 in [x0_lo, x0_up]:\n",
    "    (x_traj, u_traj, _) = vf.sol_to_traj(x0, *V(x0)[1:])\n",
    "    if x_traj is None:\n",
    "        continue\n",
    "    x_traj_min = torch.min(x_traj_min, x_traj)\n",
    "    x_traj_max = torch.max(x_traj_max, x_traj)\n",
    "data = [go.Scatter(y=x_traj_min[0,:], marker=dict(color=\"#444\"), line=dict(width=0), mode='lines', name=\"\"),\n",
    "        go.Scatter(y=x_traj_max[0,:], marker=dict(color=\"#444\"), line=dict(width=0), mode='lines', name=\"ball y\", fillcolor='rgba(200, 68, 10, 0.3)', fill='tonexty'),\n",
    "        go.Scatter(y=x_traj_min[1,:], marker=dict(color=\"#444\"), line=dict(width=0), mode='lines', name=\"\"),\n",
    "        go.Scatter(y=x_traj_max[1,:], marker=dict(color=\"#444\"), line=dict(width=0), mode='lines', name=\"paddle y\", fillcolor='rgba(38, 98, 68, 0.3)', fill='tonexty')]\n",
    "x0 = .5 * (x0_lo + x0_up)\n",
    "(x_traj, u_traj, _) = vf.sol_to_traj(x0, *V(x0)[1:])\n",
    "data += [go.Scatter(y=x_traj[0,:], name=\"ball y\"),\n",
    "         go.Scatter(y=x_traj[1,:], name=\"paddle y\")]\n",
    "(x_traj, u_traj, _) = vf.sol_to_traj(x0_lo, *V(x0_lo)[1:])\n",
    "data += [go.Scatter(y=x_traj[0,:], name=\"ball y\"),\n",
    "         go.Scatter(y=x_traj[1,:], name=\"paddle y\")]\n",
    "(x_traj, u_traj, _) = vf.sol_to_traj(x0_up, *V(x0_up)[1:])\n",
    "data += [go.Scatter(y=x_traj[0,:], name=\"ball y\"),\n",
    "         go.Scatter(y=x_traj[1,:], name=\"paddle y\")]\n",
    "plotly.offline.iplot(data)"
   ]
  },
  {
   "cell_type": "markdown",
   "metadata": {},
   "source": [
    "# Generating Validation Data"
   ]
  },
  {
   "cell_type": "code",
   "execution_count": null,
   "metadata": {},
   "outputs": [],
   "source": [
    "x_samples_validation, v_samples_validation = vf.get_value_sample_grid(x0_lo, x0_up, num_breaks_validation, update_progress=True)"
   ]
  },
  {
   "cell_type": "code",
   "execution_count": null,
   "metadata": {},
   "outputs": [],
   "source": [
    "torch.save(x_samples_validation, x_samples_file + '_validation.pt')\n",
    "torch.save(v_samples_validation, v_samples_file + '_validation.pt')"
   ]
  },
  {
   "cell_type": "markdown",
   "metadata": {},
   "source": [
    "# Or Loading It From File"
   ]
  },
  {
   "cell_type": "code",
   "execution_count": null,
   "metadata": {},
   "outputs": [],
   "source": [
    "x_samples_validation = torch.load(x_samples_file + '_validation.pt')\n",
    "v_samples_validation = torch.load(v_samples_file + '_validation.pt')"
   ]
  },
  {
   "cell_type": "markdown",
   "metadata": {},
   "source": [
    "# Adversarial Training"
   ]
  },
  {
   "cell_type": "code",
   "execution_count": null,
   "metadata": {},
   "outputs": [],
   "source": [
    "adv = train_value.AdversarialWithBaseline(vf, x0_lo, x0_up,\n",
    "                                          nn_width=nn_width, nn_depth=nn_depth,\n",
    "                                          x_samples_validation=x_samples_validation,\n",
    "                                          v_samples_validation=v_samples_validation)\n",
    "# for plotting\n",
    "adv_data_buffers = []\n",
    "adv_label_buffers = []\n",
    "rand_data_buffers = []\n",
    "rand_label_buffers = []\n",
    "robust_val_losses = []\n",
    "baseline_val_losses = []\n",
    "robust_losses = []\n",
    "baseline_losses = []"
   ]
  },
  {
   "cell_type": "code",
   "execution_count": null,
   "metadata": {
    "scrolled": false
   },
   "outputs": [],
   "source": [
    "for i in range(num_training_run):\n",
    "    # tranining\n",
    "    adv.train(train_opt)\n",
    "    # logging for plotting\n",
    "    with torch.no_grad():\n",
    "        adv_data_buffers.append(adv.adv_data_buffer.clone())\n",
    "        adv_label_buffers.append(adv.adv_label_buffer.clone())\n",
    "        rand_data_buffers.append(adv.rand_data_buffer.clone())\n",
    "        rand_label_buffers.append(adv.rand_label_buffer.clone())\n",
    "        robust_val_losses.append(torch.pow(adv.v_samples_validation.squeeze() - adv.robust_model(adv.x_samples_validation).squeeze(), 2))\n",
    "        baseline_val_losses.append(torch.pow(adv.v_samples_validation.squeeze() - adv.baseline_model(adv.x_samples_validation).squeeze(), 2))\n",
    "        robust_losses.append(torch.pow(adv.adv_label_buffer[:,0].squeeze() - adv.robust_model(adv.adv_data_buffer).squeeze(), 2))\n",
    "        baseline_losses.append(torch.pow(adv.rand_label_buffer[:,0].squeeze() - adv.baseline_model(adv.rand_data_buffer).squeeze(), 2))"
   ]
  },
  {
   "cell_type": "code",
   "execution_count": null,
   "metadata": {},
   "outputs": [],
   "source": [
    "# plotting options\n",
    "max_scale_down = .01\n",
    "ix = 0\n",
    "iy = 3\n",
    "lim_eps = .5\n",
    "fig = plotly.subplots.make_subplots(rows=1,cols=2,subplot_titles=(\"Adversarial Buffer\", \"Baseline Buffer\"))\n",
    "fig.update_layout(showlegend=False)\n",
    "fig.update_xaxes(showgrid=False, zeroline=True, range=[x0_lo[ix]-lim_eps, x0_up[ix]+lim_eps])\n",
    "fig.update_yaxes(showgrid=False, zeroline=True, range=[x0_lo[iy]-lim_eps, x0_up[iy]+lim_eps])\n",
    "for i in range(len(adv_data_buffers)):\n",
    "    min_robust_val_loss = torch.min(robust_val_losses[i]).item()\n",
    "    max_robust_val_loss = torch.max(robust_val_losses[i]).item()\n",
    "    min_baseline_val_loss = torch.min(baseline_val_losses[i]).item()\n",
    "    max_baseline_val_loss = torch.max(baseline_val_losses[i]).item()\n",
    "    fig.add_trace(go.Scatter(\n",
    "            visible=False,\n",
    "            x=adv_data_buffers[i][:,ix],\n",
    "            y=adv_data_buffers[i][:,iy],\n",
    "            mode='markers',\n",
    "            marker=dict(\n",
    "            size=7,\n",
    "            color=robust_losses[i],\n",
    "            colorscale='Viridis',\n",
    "            cmin=min_robust_val_loss,\n",
    "            cmax=max_robust_val_loss*max_scale_down,\n",
    "            symbol=0,\n",
    "            showscale=False)), row=1, col=1)\n",
    "    fig.add_trace(go.Scatter(\n",
    "            visible=False,\n",
    "            x=rand_data_buffers[i][:,ix],\n",
    "            y=rand_data_buffers[i][:,iy],\n",
    "            mode='markers',\n",
    "            marker=dict(\n",
    "            size=7,\n",
    "            color=baseline_losses[i],\n",
    "            colorscale='Viridis',\n",
    "            cmin=min_baseline_val_loss,\n",
    "            cmax=max_baseline_val_loss*max_scale_down,\n",
    "            showscale=False)), row=1, col=2)\n",
    "fig.data[0].visible = True\n",
    "fig.data[1].visible = True\n",
    "steps = []\n",
    "for i in range(int(len(fig.data)/2)):\n",
    "    step = dict(\n",
    "        method=\"restyle\",\n",
    "        args=[\"visible\", [False] * len(fig.data)],\n",
    "    )\n",
    "    step[\"args\"][1][2*i] = True\n",
    "    step[\"args\"][1][2*i+1] = True\n",
    "    steps.append(step)\n",
    "sliders = [dict(\n",
    "    active=0,\n",
    "    currentvalue={\"prefix\": \"Step: \"},\n",
    "    pad={\"t\": 50},\n",
    "    steps=steps\n",
    ")]\n",
    "fig.update_layout(\n",
    "    sliders=sliders\n",
    ")\n",
    "fig.show()"
   ]
  },
  {
   "cell_type": "code",
   "execution_count": null,
   "metadata": {},
   "outputs": [],
   "source": [
    "advantage = []\n",
    "with torch.no_grad():\n",
    "    for i in range(len(adv_data_buffers)):\n",
    "        advantage.append(torch.mean(baseline_val_losses[i]) - torch.mean(robust_val_losses[i]))\n",
    "data = [go.Scatter(y=advantage, name=\"Advantage\")]\n",
    "plotly.offline.iplot(data)"
   ]
  },
  {
   "cell_type": "markdown",
   "metadata": {},
   "source": [
    "# Saving Models"
   ]
  },
  {
   "cell_type": "code",
   "execution_count": null,
   "metadata": {},
   "outputs": [],
   "source": [
    "torch.save(adv.baseline_model, model_file + '_baseline_model.pt')\n",
    "torch.save(adv.robust_model, model_file + '_robust_model.pt')"
   ]
  }
 ],
 "metadata": {
  "kernelspec": {
   "display_name": "Python 3",
   "language": "python",
   "name": "python3"
  },
  "language_info": {
   "codemirror_mode": {
    "name": "ipython",
    "version": 3
   },
   "file_extension": ".py",
   "mimetype": "text/x-python",
   "name": "python",
   "nbconvert_exporter": "python",
   "pygments_lexer": "ipython3",
   "version": "3.7.5"
  }
 },
 "nbformat": 4,
 "nbformat_minor": 2
}
