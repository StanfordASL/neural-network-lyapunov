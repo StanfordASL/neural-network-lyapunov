{
 "cells": [
  {
   "cell_type": "code",
   "execution_count": null,
   "metadata": {},
   "outputs": [],
   "source": [
    "%load_ext autoreload\n",
    "%autoreload 2\n",
    "%matplotlib inline"
   ]
  },
  {
   "cell_type": "code",
   "execution_count": null,
   "metadata": {},
   "outputs": [],
   "source": [
    "import os\n",
    "import sys\n",
    "import torch\n",
    "import numpy as np\n",
    "from mpl_toolkits.mplot3d import Axes3D\n",
    "import matplotlib.pyplot as plt\n",
    "\n",
    "import neural_network_lyapunov\n",
    "import neural_network_lyapunov.relu_system as relu_system\n",
    "import neural_network_lyapunov.lyapunov as lyapunov\n",
    "import neural_network_lyapunov.encoders as encoders\n",
    "import neural_network_lyapunov.pybullet_data_generation as pybullet_data_generation\n",
    "import neural_network_lyapunov.dynamics_learning as dynamics_learning"
   ]
  },
  {
   "cell_type": "markdown",
   "metadata": {},
   "source": [
    "## Loading options"
   ]
  },
  {
   "cell_type": "code",
   "execution_count": null,
   "metadata": {},
   "outputs": [],
   "source": [
    "folder = \"pendulum_1013\"\n",
    "\n",
    "variant = \"unstable\"\n",
    "device = 'cuda:0'\n",
    "\n",
    "# variant = \"stable\"\n",
    "# device = 'cuda:1'\n",
    "\n",
    "sys.path.insert(0, os.path.join(os.path.dirname(neural_network_lyapunov.__file__), \"..\", \"notebooks\", folder))\n",
    "import options\n",
    "opt = dynamics_learning.DynamicsLearningOptions(options.default)\n",
    "opt.set_options(options.variants[variant])"
   ]
  },
  {
   "cell_type": "code",
   "execution_count": null,
   "metadata": {},
   "outputs": [],
   "source": [
    "print(opt.lyapunov_loss_weight)\n",
    "print(opt.lyapunov_loss_freq)\n",
    "print(opt.lyapunov_loss_optimal)\n",
    "print(opt.encoder_class)\n",
    "print(opt.validation_rollouts_N)\n",
    "print(opt.V_lambda)\n",
    "print(opt.z_lo)\n",
    "print(opt.dyn_nn_depth)\n",
    "print(opt.dyn_nn_width)\n",
    "print(opt.z_equilibrium)\n",
    "print(opt.validation_rollouts_N)"
   ]
  },
  {
   "cell_type": "markdown",
   "metadata": {},
   "source": [
    "## Generating data"
   ]
  },
  {
   "cell_type": "code",
   "execution_count": null,
   "metadata": {},
   "outputs": [],
   "source": [
    "pbsg = pybullet_data_generation.PybulletSampleGenerator(opt.world_cb, opt.joint_space, image_width=opt.image_width, image_height=opt.image_height,\n",
    "                                                        grayscale=opt.grayscale, dtype=opt.dtype,\n",
    "                                                        camera_eye_position=opt.camera_eye_position,\n",
    "                                                        camera_target_position=opt.camera_target_position,\n",
    "                                                        camera_up_vector=opt.camera_up_vector)"
   ]
  },
  {
   "cell_type": "code",
   "execution_count": null,
   "metadata": {},
   "outputs": [],
   "source": [
    "x_data, x_next_data, X_data, X_next_data = pbsg.generate_dataset(opt.pybullet_x_lo, opt.pybullet_x_up, opt.dataset_dt, opt.dataset_N, opt.num_samples)"
   ]
  },
  {
   "cell_type": "code",
   "execution_count": null,
   "metadata": {},
   "outputs": [],
   "source": [
    "x_data_ = dynamics_learning.add_noise(x_data, opt.pybullet_noise)\n",
    "x_next_data_ = dynamics_learning.add_noise(x_next_data, opt.pybullet_noise)\n",
    "x_train_dataloader, x_validation_dataloader = dynamics_learning.get_dataloaders(x_data_, x_next_data_, opt.batch_size, opt.validation_ratio)\n",
    "X_train_dataloader, X_validation_dataloader = dynamics_learning.get_dataloaders(X_data, X_next_data, opt.batch_size, opt.validation_ratio)"
   ]
  },
  {
   "cell_type": "code",
   "execution_count": null,
   "metadata": {},
   "outputs": [],
   "source": [
    "x_data_rollouts_, _, _, _ = pbsg.generate_dataset(opt.pybullet_x_lo, opt.pybullet_x_up, opt.dataset_dt, 1, opt.validation_max_rollouts)\n",
    "X_rollouts, x_rollouts = dynamics_learning.data_to_rollouts(pbsg, x_data_rollouts_, opt.dataset_dt, opt.validation_rollouts_N)"
   ]
  },
  {
   "cell_type": "code",
   "execution_count": null,
   "metadata": {},
   "outputs": [],
   "source": [
    "torch.save(x_data, os.path.join(folder, \"x_data\"))\n",
    "torch.save(x_next_data, os.path.join(folder, \"x_next_data\"))\n",
    "torch.save(X_data, os.path.join(folder, \"X_data\"))\n",
    "torch.save(X_next_data, os.path.join(folder, \"X_next_data\"))\n",
    "torch.save(X_rollouts, os.path.join(folder, \"X_rollouts\"))\n",
    "torch.save(x_rollouts, os.path.join(folder, \"x_rollouts\"))"
   ]
  },
  {
   "cell_type": "code",
   "execution_count": null,
   "metadata": {},
   "outputs": [],
   "source": [
    "torch.save(x_train_dataloader, os.path.join(folder, \"x_train_dataloader\"))\n",
    "torch.save(x_validation_dataloader, os.path.join(folder, \"x_validation_dataloader\"))\n",
    "torch.save(X_train_dataloader, os.path.join(folder, \"X_train_dataloader\"))\n",
    "torch.save(X_validation_dataloader, os.path.join(folder, \"X_validation_dataloader\"))"
   ]
  },
  {
   "cell_type": "code",
   "execution_count": null,
   "metadata": {},
   "outputs": [],
   "source": [
    "x_data = torch.load(os.path.join(folder, \"x_data\"))\n",
    "x_next_data = torch.load(os.path.join(folder, \"x_next_data\"))\n",
    "X_data = torch.load(os.path.join(folder, \"X_data\"))\n",
    "X_next_data = torch.load(os.path.join(folder, \"X_next_data\"))\n",
    "X_rollouts = torch.load(os.path.join(folder, \"X_rollouts\"))\n",
    "x_rollouts = torch.load(os.path.join(folder, \"x_rollouts\"))"
   ]
  },
  {
   "cell_type": "code",
   "execution_count": null,
   "metadata": {},
   "outputs": [],
   "source": [
    "x_train_dataloader = torch.load(os.path.join(folder, \"x_train_dataloader\"))\n",
    "x_validation_dataloader = torch.load(os.path.join(folder, \"x_validation_dataloader\"))\n",
    "X_train_dataloader = torch.load(os.path.join(folder, \"X_train_dataloader\"))\n",
    "X_validation_dataloader = torch.load(os.path.join(folder, \"X_validation_dataloader\"))"
   ]
  },
  {
   "cell_type": "code",
   "execution_count": null,
   "metadata": {},
   "outputs": [],
   "source": [
    "# plot some random sample\n",
    "i = np.random.choice(X_data.shape[0], 1)[0]\n",
    "pybullet_data_generation.show_sample(X_data[i,:], X_next_data[i,:])"
   ]
  },
  {
   "cell_type": "code",
   "execution_count": null,
   "metadata": {},
   "outputs": [],
   "source": [
    "# plot some random rollout\n",
    "i = np.random.choice(X_data.shape[0], 1)[0]\n",
    "# X_traj, x_traj = pbsg.generate_rollout(x_data[i,:], opt.dataset_dt, 2)\n",
    "X_traj, x_traj = pbsg.generate_rollout(torch.tensor(opt.z_equilibrium, dtype=opt.dtype), opt.dataset_dt, 2)\n",
    "for n in range(X_traj.shape[0]):\n",
    "    pybullet_data_generation.show_sample(X_traj[n, :])"
   ]
  },
  {
   "cell_type": "code",
   "execution_count": null,
   "metadata": {},
   "outputs": [],
   "source": [
    "len(x_rollouts)"
   ]
  },
  {
   "cell_type": "markdown",
   "metadata": {},
   "source": [
    "## Learning in state space"
   ]
  },
  {
   "cell_type": "code",
   "execution_count": null,
   "metadata": {},
   "outputs": [],
   "source": [
    "dyn_nn_model = dynamics_learning.get_ff_network(opt.dtype, opt.z_dim, opt.z_dim, opt.dyn_nn_width, opt.dyn_nn_depth)\n",
    "lyap_nn_model = dynamics_learning.get_ff_network(opt.dtype, opt.z_dim, 1, opt.lyap_nn_width, opt.lyap_nn_depth)\n",
    "\n",
    "relu_sys = relu_system.AutonomousReLUSystemGivenEquilibrium(opt.dtype, opt.z_lo, opt.z_up,\n",
    "                                                            dyn_nn_model, opt.z_equilibrium)\n",
    "lyap = lyapunov.LyapunovDiscreteTimeHybridSystem(relu_sys, lyap_nn_model)\n",
    "\n",
    "dyn_learner = dynamics_learning.StateSpaceDynamicsLearning(x_train_dataloader, x_validation_dataloader, relu_sys, lyap, opt)"
   ]
  },
  {
   "cell_type": "code",
   "execution_count": null,
   "metadata": {
    "scrolled": true
   },
   "outputs": [],
   "source": [
    "dyn_learner.train(50, validate=True, device=device, save_rate=5, save_path=os.path.join(folder, variant))"
   ]
  },
  {
   "cell_type": "code",
   "execution_count": null,
   "metadata": {},
   "outputs": [],
   "source": [
    "i = np.random.choice(x_data.shape[0], 1)[0]\n",
    "x0 = x_data[i, :]\n",
    "x_traj, V_traj = dyn_learner.rollout(x0, opt.validation_rollouts_N)\n",
    "plt.plot(x_traj)\n",
    "_, x_traj_exp = pbsg.generate_rollout(x0, opt.dataset_dt, opt.validation_rollouts_N)\n",
    "plt.plot(x_traj_exp)\n",
    "plt.legend(['predicted', 'predicted', 'expected', 'expected'])\n",
    "plt.show()\n",
    "plt.plot(V_traj)\n",
    "plt.show()"
   ]
  },
  {
   "cell_type": "code",
   "execution_count": null,
   "metadata": {},
   "outputs": [],
   "source": [
    "# validation over rollouts\n",
    "dyn_learner.rollout_validation(x_rollouts)"
   ]
  },
  {
   "cell_type": "code",
   "execution_count": null,
   "metadata": {},
   "outputs": [],
   "source": [
    "torch.save(dyn_learner.relu_system.dynamics_relu, os.path.join(folder, variant, \"dynamics\"))\n",
    "torch.save(dyn_learner.lyapunov.lyapunov_relu, os.path.join(folder, variant, \"lyapunov\"))"
   ]
  },
  {
   "cell_type": "markdown",
   "metadata": {},
   "source": [
    "## Learning in image space"
   ]
  },
  {
   "cell_type": "code",
   "execution_count": null,
   "metadata": {},
   "outputs": [],
   "source": [
    "dyn_nn_model = dynamics_learning.get_ff_network(opt.dtype, opt.z_dim, opt.z_dim, opt.dyn_nn_width, opt.dyn_nn_depth)\n",
    "lyap_nn_model = dynamics_learning.get_ff_network(opt.dtype, opt.z_dim, 1, opt.lyap_nn_width, opt.lyap_nn_depth)\n",
    "\n",
    "relu_sys = relu_system.AutonomousReLUSystemGivenEquilibrium(opt.dtype, opt.z_lo, opt.z_up,\n",
    "                                                            dyn_nn_model, opt.z_equilibrium)\n",
    "lyap = lyapunov.LyapunovDiscreteTimeHybridSystem(relu_sys, lyap_nn_model)\n",
    "encoder = opt.encoder_class(opt.z_dim, opt.image_width, opt.image_height, opt.grayscale)\n",
    "decoder = opt.decoder_class(opt.z_dim, opt.image_width, opt.image_height, opt.grayscale)\n",
    "\n",
    "dyn_learner = dynamics_learning.LatentSpaceDynamicsLearning(X_train_dataloader, X_validation_dataloader,\n",
    "                                                            relu_sys, lyap, opt,\n",
    "                                                            encoder, decoder,\n",
    "                                                            use_bce=opt.use_bce, use_variational=opt.use_variational)"
   ]
  },
  {
   "cell_type": "code",
   "execution_count": null,
   "metadata": {},
   "outputs": [],
   "source": [
    "# pre-train encoder-decoder\n",
    "import time\n",
    "start = time.time()\n",
    "dyn_learner.train_encoder(100, validate=True, device=device)\n",
    "end = time.time()\n",
    "print(end - start)"
   ]
  },
  {
   "cell_type": "code",
   "execution_count": null,
   "metadata": {},
   "outputs": [],
   "source": [
    "# plot some encoding-decoding\n",
    "i = np.random.choice(X_data.shape[0], 1)[0]\n",
    "pybullet_data_generation.show_sample(X_data[i,:])\n",
    "X_decoded, z_mu, _ = dyn_learner.encode_decode(X_data[i,:].unsqueeze(0))\n",
    "print(z_mu)\n",
    "X_decoded = X_decoded.squeeze()\n",
    "pybullet_data_generation.show_sample(X_decoded)"
   ]
  },
  {
   "cell_type": "code",
   "execution_count": null,
   "metadata": {},
   "outputs": [],
   "source": [
    "# see how long verification takes\n",
    "import time\n",
    "start = time.time()\n",
    "print(dyn_learner.lyapunov_loss(optimal=opt.lyapunov_loss_optimal))\n",
    "end = time.time()\n",
    "print(end - start)"
   ]
  },
  {
   "cell_type": "code",
   "execution_count": null,
   "metadata": {
    "scrolled": true
   },
   "outputs": [],
   "source": [
    "# train the encoder-dynamics-decoder\n",
    "import time\n",
    "start = time.time()\n",
    "dyn_learner.train(1000, validate=True, device=device, save_rate=5, save_path=os.path.join(folder, variant))\n",
    "end = time.time()\n",
    "print(end - start)"
   ]
  },
  {
   "cell_type": "code",
   "execution_count": null,
   "metadata": {},
   "outputs": [],
   "source": [
    "torch.save(dyn_learner.encoder, os.path.join(folder, variant, \"encoder\"))\n",
    "torch.save(dyn_learner.decoder, os.path.join(folder, variant, \"decoder\"))\n",
    "torch.save(dyn_learner.relu_system.dynamics_relu, os.path.join(folder, variant, \"dynamics\"))\n",
    "torch.save(dyn_learner.lyapunov.lyapunov_relu, os.path.join(folder, variant, \"lyapunov\"))"
   ]
  },
  {
   "cell_type": "code",
   "execution_count": null,
   "metadata": {},
   "outputs": [],
   "source": [
    "dyn_learner.relu_system.dynamics_relu = torch.load(os.path.join(folder, variant, \"dynamics\")).to('cpu')\n",
    "dyn_learner.lyapunov.lyapunov_relu = torch.load(os.path.join(folder, variant, \"lyapunov\")).to('cpu')\n",
    "dyn_learner.encoder = torch.load(os.path.join(folder, variant, \"encoder\")).to('cpu')\n",
    "dyn_learner.decoder = torch.load(os.path.join(folder, variant, \"decoder\")).to('cpu')"
   ]
  },
  {
   "cell_type": "markdown",
   "metadata": {},
   "source": [
    "## Some quick checks"
   ]
  },
  {
   "cell_type": "code",
   "execution_count": null,
   "metadata": {
    "scrolled": false
   },
   "outputs": [],
   "source": [
    "# plot a random rollout\n",
    "i = np.random.choice(X_data.shape[0], 1)[0]\n",
    "x_traj, V_traj, z_traj = dyn_learner.rollout(X_data[i, :], opt.validation_rollouts_N, decode_intermediate=False)\n",
    "for n in range(x_traj.shape[0]):\n",
    "    pybullet_data_generation.show_sample(x_traj[n, :])\n",
    "\n",
    "print(V_traj)\n",
    "plt.plot(V_traj)\n",
    "plt.show()\n",
    "\n",
    "print(z_traj)\n",
    "plt.plot(z_traj[:,0], z_traj[:,1])\n",
    "plt.show()"
   ]
  },
  {
   "cell_type": "code",
   "execution_count": null,
   "metadata": {
    "scrolled": false
   },
   "outputs": [],
   "source": [
    "# plot the same rollout but from the real system\n",
    "x_traj, _ = pbsg.generate_rollout(x_data[i, :], opt.dataset_dt, opt.validation_rollouts_N)\n",
    "for n in range(x_traj.shape[0]):\n",
    "    pybullet_data_generation.show_sample(x_traj[n, :])"
   ]
  },
  {
   "cell_type": "code",
   "execution_count": null,
   "metadata": {
    "scrolled": false
   },
   "outputs": [],
   "source": [
    "# validation over rollouts\n",
    "plt.plot(dyn_learner.rollout_validation(X_rollouts))\n",
    "plt.show()"
   ]
  },
  {
   "cell_type": "code",
   "execution_count": null,
   "metadata": {},
   "outputs": [],
   "source": [
    "# computing adversarial samples\n",
    "z_adv_pos, z_adv_der = dyn_learner.adversarial_samples(optimal=opt.lyapunov_loss_optimal)"
   ]
  },
  {
   "cell_type": "code",
   "execution_count": null,
   "metadata": {
    "scrolled": false
   },
   "outputs": [],
   "source": [
    "# rolling out the adversarial samples\n",
    "\n",
    "# z_adv = z_adv_pos\n",
    "z_adv = z_adv_der\n",
    "i = np.random.choice(z_adv.shape[0], 1)[0]\n",
    "X_adv = dyn_learner.decoder(z_adv[i, :].unsqueeze(0))[0, :]\n",
    "pybullet_data_generation.show_sample(X_adv)\n",
    "\n",
    "print(\"*****\")\n",
    "\n",
    "x_traj = dyn_learner.rollout_latent(X_adv, opt.validation_rollouts_N * 2)\n",
    "for n in range(x_traj.shape[0]):\n",
    "    pybullet_data_generation.show_sample(x_traj[n, :])"
   ]
  },
  {
   "cell_type": "code",
   "execution_count": null,
   "metadata": {},
   "outputs": [],
   "source": [
    "# plotting the Lyapunov\n",
    "import neural_network_lyapunov.test.train_2d_lyapunov_utils as train_2d_lyapunov_utils\n",
    "import matplotlib.pyplot as plt\n",
    "from mpl_toolkits.mplot3d import Axes3D\n",
    "fig = plt.figure(figsize=(16,16), dpi=100)\n",
    "ax = fig.add_subplot(111, projection='3d')\n",
    "train_2d_lyapunov_utils.plot_lyapunov(ax, dyn_learner.lyapunov.lyapunov_relu, opt.V_lambda, opt.z_equilibrium, opt.z_lo, opt.z_up, [20, 20], 1)"
   ]
  }
 ],
 "metadata": {
  "kernelspec": {
   "display_name": "Python 3",
   "language": "python",
   "name": "python3"
  },
  "language_info": {
   "codemirror_mode": {
    "name": "ipython",
    "version": 3
   },
   "file_extension": ".py",
   "mimetype": "text/x-python",
   "name": "python",
   "nbconvert_exporter": "python",
   "pygments_lexer": "ipython3",
   "version": "3.8.5"
  }
 },
 "nbformat": 4,
 "nbformat_minor": 4
}
