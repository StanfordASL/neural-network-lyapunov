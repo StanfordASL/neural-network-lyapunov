{
 "cells": [
  {
   "cell_type": "code",
   "execution_count": 2,
   "metadata": {},
   "outputs": [],
   "source": [
    "%load_ext autoreload\n",
    "%autoreload 2"
   ]
  },
  {
   "cell_type": "code",
   "execution_count": 3,
   "metadata": {},
   "outputs": [
    {
     "data": {
      "text/html": [
       "        <script type=\"text/javascript\">\n",
       "        window.PlotlyConfig = {MathJaxConfig: 'local'};\n",
       "        if (window.MathJax) {MathJax.Hub.Config({SVG: {font: \"STIX-Web\"}});}\n",
       "        if (typeof require !== 'undefined') {\n",
       "        require.undef(\"plotly\");\n",
       "        requirejs.config({\n",
       "            paths: {\n",
       "                'plotly': ['https://cdn.plot.ly/plotly-latest.min']\n",
       "            }\n",
       "        });\n",
       "        require(['plotly'], function(Plotly) {\n",
       "            window._Plotly = Plotly;\n",
       "        });\n",
       "        }\n",
       "        </script>\n",
       "        "
      ]
     },
     "metadata": {},
     "output_type": "display_data"
    },
    {
     "name": "stderr",
     "output_type": "stream",
     "text": [
      "/Users/blandry/Code/robust-value-approx/robust_value_approx/value_approximation.py:2: _DrakeImportWarning:\n",
      "\n",
      "\n",
      "You may have already (directly or indirectly) imported `torch` which uses\n",
      "`RTLD_GLOBAL`. Using `RTLD_GLOBAL` may cause symbol collisions which manifest\n",
      "themselves in bugs like \"free(): invalid pointer\". Please consider importing\n",
      "`pydrake` (and related C++-wrapped libraries like `cv2`, `open3d`, etc.)\n",
      "*before* importing `torch`. For more details, see:\n",
      "https://github.com/pytorch/pytorch/issues/3059#issuecomment-534676459\n",
      "\n",
      "\n"
     ]
    }
   ],
   "source": [
    "import sys\n",
    "sys.path.append(\"..\")\n",
    "sys.path.append(\".\")\n",
    "import torch\n",
    "import numpy as np\n",
    "import copy\n",
    "import plotly\n",
    "import plotly.graph_objs as go\n",
    "import pickle\n",
    "from datetime import datetime\n",
    "plotly.offline.init_notebook_mode(connected=True)\n",
    "\n",
    "import robust_value_approx.samples_generator as samples_generator\n",
    "import robust_value_approx.samples_buffer as samples_buffer\n",
    "import robust_value_approx.value_approximation as value_approximation\n",
    "import robust_value_approx.training_log as training_log\n",
    "import robust_value_approx.controllers as controllers\n",
    "\n",
    "import pendulum_utils\n",
    "import acrobot_utils"
   ]
  },
  {
   "cell_type": "markdown",
   "metadata": {},
   "source": [
    "# Pendulum"
   ]
  },
  {
   "cell_type": "code",
   "execution_count": 3,
   "metadata": {},
   "outputs": [],
   "source": [
    "pendulum = pendulum_utils.PendulumNLP()\n",
    "vf = pendulum_utils.get_value_function(10)\n",
    "V = vf.get_value_function()"
   ]
  },
  {
   "cell_type": "code",
   "execution_count": 15,
   "metadata": {},
   "outputs": [
    {
     "data": {
      "application/vnd.plotly.v1+json": {
       "config": {
        "plotlyServerURL": "https://plot.ly"
       },
       "data": [
        {
         "type": "scatter",
         "y": [
          4.641592502593994,
          7.320984840393066,
          9.283329963684082,
          10.65921401977539,
          11.75413703918457,
          12.585829734802246,
          12.983672142028809,
          12.85823917388916,
          12.297027587890625,
          11.530562400817871
         ]
        },
        {
         "type": "scatter",
         "y": [
          15,
          11.793922424316406,
          7.829528331756592,
          5.929314613342285,
          5.019914627075195,
          3.2970144748687744,
          0.6814101338386536,
          -1.9357430934906006,
          -3.676370620727539,
          -3.988281011581421
         ]
        }
       ],
       "layout": {
        "template": {
         "data": {
          "bar": [
           {
            "error_x": {
             "color": "#2a3f5f"
            },
            "error_y": {
             "color": "#2a3f5f"
            },
            "marker": {
             "line": {
              "color": "#E5ECF6",
              "width": 0.5
             }
            },
            "type": "bar"
           }
          ],
          "barpolar": [
           {
            "marker": {
             "line": {
              "color": "#E5ECF6",
              "width": 0.5
             }
            },
            "type": "barpolar"
           }
          ],
          "carpet": [
           {
            "aaxis": {
             "endlinecolor": "#2a3f5f",
             "gridcolor": "white",
             "linecolor": "white",
             "minorgridcolor": "white",
             "startlinecolor": "#2a3f5f"
            },
            "baxis": {
             "endlinecolor": "#2a3f5f",
             "gridcolor": "white",
             "linecolor": "white",
             "minorgridcolor": "white",
             "startlinecolor": "#2a3f5f"
            },
            "type": "carpet"
           }
          ],
          "choropleth": [
           {
            "colorbar": {
             "outlinewidth": 0,
             "ticks": ""
            },
            "type": "choropleth"
           }
          ],
          "contour": [
           {
            "colorbar": {
             "outlinewidth": 0,
             "ticks": ""
            },
            "colorscale": [
             [
              0,
              "#0d0887"
             ],
             [
              0.1111111111111111,
              "#46039f"
             ],
             [
              0.2222222222222222,
              "#7201a8"
             ],
             [
              0.3333333333333333,
              "#9c179e"
             ],
             [
              0.4444444444444444,
              "#bd3786"
             ],
             [
              0.5555555555555556,
              "#d8576b"
             ],
             [
              0.6666666666666666,
              "#ed7953"
             ],
             [
              0.7777777777777778,
              "#fb9f3a"
             ],
             [
              0.8888888888888888,
              "#fdca26"
             ],
             [
              1,
              "#f0f921"
             ]
            ],
            "type": "contour"
           }
          ],
          "contourcarpet": [
           {
            "colorbar": {
             "outlinewidth": 0,
             "ticks": ""
            },
            "type": "contourcarpet"
           }
          ],
          "heatmap": [
           {
            "colorbar": {
             "outlinewidth": 0,
             "ticks": ""
            },
            "colorscale": [
             [
              0,
              "#0d0887"
             ],
             [
              0.1111111111111111,
              "#46039f"
             ],
             [
              0.2222222222222222,
              "#7201a8"
             ],
             [
              0.3333333333333333,
              "#9c179e"
             ],
             [
              0.4444444444444444,
              "#bd3786"
             ],
             [
              0.5555555555555556,
              "#d8576b"
             ],
             [
              0.6666666666666666,
              "#ed7953"
             ],
             [
              0.7777777777777778,
              "#fb9f3a"
             ],
             [
              0.8888888888888888,
              "#fdca26"
             ],
             [
              1,
              "#f0f921"
             ]
            ],
            "type": "heatmap"
           }
          ],
          "heatmapgl": [
           {
            "colorbar": {
             "outlinewidth": 0,
             "ticks": ""
            },
            "colorscale": [
             [
              0,
              "#0d0887"
             ],
             [
              0.1111111111111111,
              "#46039f"
             ],
             [
              0.2222222222222222,
              "#7201a8"
             ],
             [
              0.3333333333333333,
              "#9c179e"
             ],
             [
              0.4444444444444444,
              "#bd3786"
             ],
             [
              0.5555555555555556,
              "#d8576b"
             ],
             [
              0.6666666666666666,
              "#ed7953"
             ],
             [
              0.7777777777777778,
              "#fb9f3a"
             ],
             [
              0.8888888888888888,
              "#fdca26"
             ],
             [
              1,
              "#f0f921"
             ]
            ],
            "type": "heatmapgl"
           }
          ],
          "histogram": [
           {
            "marker": {
             "colorbar": {
              "outlinewidth": 0,
              "ticks": ""
             }
            },
            "type": "histogram"
           }
          ],
          "histogram2d": [
           {
            "colorbar": {
             "outlinewidth": 0,
             "ticks": ""
            },
            "colorscale": [
             [
              0,
              "#0d0887"
             ],
             [
              0.1111111111111111,
              "#46039f"
             ],
             [
              0.2222222222222222,
              "#7201a8"
             ],
             [
              0.3333333333333333,
              "#9c179e"
             ],
             [
              0.4444444444444444,
              "#bd3786"
             ],
             [
              0.5555555555555556,
              "#d8576b"
             ],
             [
              0.6666666666666666,
              "#ed7953"
             ],
             [
              0.7777777777777778,
              "#fb9f3a"
             ],
             [
              0.8888888888888888,
              "#fdca26"
             ],
             [
              1,
              "#f0f921"
             ]
            ],
            "type": "histogram2d"
           }
          ],
          "histogram2dcontour": [
           {
            "colorbar": {
             "outlinewidth": 0,
             "ticks": ""
            },
            "colorscale": [
             [
              0,
              "#0d0887"
             ],
             [
              0.1111111111111111,
              "#46039f"
             ],
             [
              0.2222222222222222,
              "#7201a8"
             ],
             [
              0.3333333333333333,
              "#9c179e"
             ],
             [
              0.4444444444444444,
              "#bd3786"
             ],
             [
              0.5555555555555556,
              "#d8576b"
             ],
             [
              0.6666666666666666,
              "#ed7953"
             ],
             [
              0.7777777777777778,
              "#fb9f3a"
             ],
             [
              0.8888888888888888,
              "#fdca26"
             ],
             [
              1,
              "#f0f921"
             ]
            ],
            "type": "histogram2dcontour"
           }
          ],
          "mesh3d": [
           {
            "colorbar": {
             "outlinewidth": 0,
             "ticks": ""
            },
            "type": "mesh3d"
           }
          ],
          "parcoords": [
           {
            "line": {
             "colorbar": {
              "outlinewidth": 0,
              "ticks": ""
             }
            },
            "type": "parcoords"
           }
          ],
          "pie": [
           {
            "automargin": true,
            "type": "pie"
           }
          ],
          "scatter": [
           {
            "marker": {
             "colorbar": {
              "outlinewidth": 0,
              "ticks": ""
             }
            },
            "type": "scatter"
           }
          ],
          "scatter3d": [
           {
            "line": {
             "colorbar": {
              "outlinewidth": 0,
              "ticks": ""
             }
            },
            "marker": {
             "colorbar": {
              "outlinewidth": 0,
              "ticks": ""
             }
            },
            "type": "scatter3d"
           }
          ],
          "scattercarpet": [
           {
            "marker": {
             "colorbar": {
              "outlinewidth": 0,
              "ticks": ""
             }
            },
            "type": "scattercarpet"
           }
          ],
          "scattergeo": [
           {
            "marker": {
             "colorbar": {
              "outlinewidth": 0,
              "ticks": ""
             }
            },
            "type": "scattergeo"
           }
          ],
          "scattergl": [
           {
            "marker": {
             "colorbar": {
              "outlinewidth": 0,
              "ticks": ""
             }
            },
            "type": "scattergl"
           }
          ],
          "scattermapbox": [
           {
            "marker": {
             "colorbar": {
              "outlinewidth": 0,
              "ticks": ""
             }
            },
            "type": "scattermapbox"
           }
          ],
          "scatterpolar": [
           {
            "marker": {
             "colorbar": {
              "outlinewidth": 0,
              "ticks": ""
             }
            },
            "type": "scatterpolar"
           }
          ],
          "scatterpolargl": [
           {
            "marker": {
             "colorbar": {
              "outlinewidth": 0,
              "ticks": ""
             }
            },
            "type": "scatterpolargl"
           }
          ],
          "scatterternary": [
           {
            "marker": {
             "colorbar": {
              "outlinewidth": 0,
              "ticks": ""
             }
            },
            "type": "scatterternary"
           }
          ],
          "surface": [
           {
            "colorbar": {
             "outlinewidth": 0,
             "ticks": ""
            },
            "colorscale": [
             [
              0,
              "#0d0887"
             ],
             [
              0.1111111111111111,
              "#46039f"
             ],
             [
              0.2222222222222222,
              "#7201a8"
             ],
             [
              0.3333333333333333,
              "#9c179e"
             ],
             [
              0.4444444444444444,
              "#bd3786"
             ],
             [
              0.5555555555555556,
              "#d8576b"
             ],
             [
              0.6666666666666666,
              "#ed7953"
             ],
             [
              0.7777777777777778,
              "#fb9f3a"
             ],
             [
              0.8888888888888888,
              "#fdca26"
             ],
             [
              1,
              "#f0f921"
             ]
            ],
            "type": "surface"
           }
          ],
          "table": [
           {
            "cells": {
             "fill": {
              "color": "#EBF0F8"
             },
             "line": {
              "color": "white"
             }
            },
            "header": {
             "fill": {
              "color": "#C8D4E3"
             },
             "line": {
              "color": "white"
             }
            },
            "type": "table"
           }
          ]
         },
         "layout": {
          "annotationdefaults": {
           "arrowcolor": "#2a3f5f",
           "arrowhead": 0,
           "arrowwidth": 1
          },
          "coloraxis": {
           "colorbar": {
            "outlinewidth": 0,
            "ticks": ""
           }
          },
          "colorscale": {
           "diverging": [
            [
             0,
             "#8e0152"
            ],
            [
             0.1,
             "#c51b7d"
            ],
            [
             0.2,
             "#de77ae"
            ],
            [
             0.3,
             "#f1b6da"
            ],
            [
             0.4,
             "#fde0ef"
            ],
            [
             0.5,
             "#f7f7f7"
            ],
            [
             0.6,
             "#e6f5d0"
            ],
            [
             0.7,
             "#b8e186"
            ],
            [
             0.8,
             "#7fbc41"
            ],
            [
             0.9,
             "#4d9221"
            ],
            [
             1,
             "#276419"
            ]
           ],
           "sequential": [
            [
             0,
             "#0d0887"
            ],
            [
             0.1111111111111111,
             "#46039f"
            ],
            [
             0.2222222222222222,
             "#7201a8"
            ],
            [
             0.3333333333333333,
             "#9c179e"
            ],
            [
             0.4444444444444444,
             "#bd3786"
            ],
            [
             0.5555555555555556,
             "#d8576b"
            ],
            [
             0.6666666666666666,
             "#ed7953"
            ],
            [
             0.7777777777777778,
             "#fb9f3a"
            ],
            [
             0.8888888888888888,
             "#fdca26"
            ],
            [
             1,
             "#f0f921"
            ]
           ],
           "sequentialminus": [
            [
             0,
             "#0d0887"
            ],
            [
             0.1111111111111111,
             "#46039f"
            ],
            [
             0.2222222222222222,
             "#7201a8"
            ],
            [
             0.3333333333333333,
             "#9c179e"
            ],
            [
             0.4444444444444444,
             "#bd3786"
            ],
            [
             0.5555555555555556,
             "#d8576b"
            ],
            [
             0.6666666666666666,
             "#ed7953"
            ],
            [
             0.7777777777777778,
             "#fb9f3a"
            ],
            [
             0.8888888888888888,
             "#fdca26"
            ],
            [
             1,
             "#f0f921"
            ]
           ]
          },
          "colorway": [
           "#636efa",
           "#EF553B",
           "#00cc96",
           "#ab63fa",
           "#FFA15A",
           "#19d3f3",
           "#FF6692",
           "#B6E880",
           "#FF97FF",
           "#FECB52"
          ],
          "font": {
           "color": "#2a3f5f"
          },
          "geo": {
           "bgcolor": "white",
           "lakecolor": "white",
           "landcolor": "#E5ECF6",
           "showlakes": true,
           "showland": true,
           "subunitcolor": "white"
          },
          "hoverlabel": {
           "align": "left"
          },
          "hovermode": "closest",
          "mapbox": {
           "style": "light"
          },
          "paper_bgcolor": "white",
          "plot_bgcolor": "#E5ECF6",
          "polar": {
           "angularaxis": {
            "gridcolor": "white",
            "linecolor": "white",
            "ticks": ""
           },
           "bgcolor": "#E5ECF6",
           "radialaxis": {
            "gridcolor": "white",
            "linecolor": "white",
            "ticks": ""
           }
          },
          "scene": {
           "xaxis": {
            "backgroundcolor": "#E5ECF6",
            "gridcolor": "white",
            "gridwidth": 2,
            "linecolor": "white",
            "showbackground": true,
            "ticks": "",
            "zerolinecolor": "white"
           },
           "yaxis": {
            "backgroundcolor": "#E5ECF6",
            "gridcolor": "white",
            "gridwidth": 2,
            "linecolor": "white",
            "showbackground": true,
            "ticks": "",
            "zerolinecolor": "white"
           },
           "zaxis": {
            "backgroundcolor": "#E5ECF6",
            "gridcolor": "white",
            "gridwidth": 2,
            "linecolor": "white",
            "showbackground": true,
            "ticks": "",
            "zerolinecolor": "white"
           }
          },
          "shapedefaults": {
           "line": {
            "color": "#2a3f5f"
           }
          },
          "ternary": {
           "aaxis": {
            "gridcolor": "white",
            "linecolor": "white",
            "ticks": ""
           },
           "baxis": {
            "gridcolor": "white",
            "linecolor": "white",
            "ticks": ""
           },
           "bgcolor": "#E5ECF6",
           "caxis": {
            "gridcolor": "white",
            "linecolor": "white",
            "ticks": ""
           }
          },
          "title": {
           "x": 0.05
          },
          "xaxis": {
           "automargin": true,
           "gridcolor": "white",
           "linecolor": "white",
           "ticks": "",
           "title": {
            "standoff": 15
           },
           "zerolinecolor": "white",
           "zerolinewidth": 2
          },
          "yaxis": {
           "automargin": true,
           "gridcolor": "white",
           "linecolor": "white",
           "ticks": "",
           "title": {
            "standoff": 15
           },
           "zerolinecolor": "white",
           "zerolinewidth": 2
          }
         }
        }
       }
      },
      "text/html": [
       "<div>\n",
       "        \n",
       "        \n",
       "            <div id=\"6910dd51-07da-4166-9ee0-c9617be95cd8\" class=\"plotly-graph-div\" style=\"height:525px; width:100%;\"></div>\n",
       "            <script type=\"text/javascript\">\n",
       "                require([\"plotly\"], function(Plotly) {\n",
       "                    window.PLOTLYENV=window.PLOTLYENV || {};\n",
       "                    \n",
       "                if (document.getElementById(\"6910dd51-07da-4166-9ee0-c9617be95cd8\")) {\n",
       "                    Plotly.newPlot(\n",
       "                        '6910dd51-07da-4166-9ee0-c9617be95cd8',\n",
       "                        [{\"type\": \"scatter\", \"y\": [4.641592502593994, 7.320984840393066, 9.283329963684082, 10.65921401977539, 11.75413703918457, 12.585829734802246, 12.983672142028809, 12.85823917388916, 12.297027587890625, 11.530562400817871]}, {\"type\": \"scatter\", \"y\": [15.0, 11.793922424316406, 7.829528331756592, 5.929314613342285, 5.019914627075195, 3.2970144748687744, 0.6814101338386536, -1.9357430934906006, -3.676370620727539, -3.988281011581421]}],\n",
       "                        {\"template\": {\"data\": {\"bar\": [{\"error_x\": {\"color\": \"#2a3f5f\"}, \"error_y\": {\"color\": \"#2a3f5f\"}, \"marker\": {\"line\": {\"color\": \"#E5ECF6\", \"width\": 0.5}}, \"type\": \"bar\"}], \"barpolar\": [{\"marker\": {\"line\": {\"color\": \"#E5ECF6\", \"width\": 0.5}}, \"type\": \"barpolar\"}], \"carpet\": [{\"aaxis\": {\"endlinecolor\": \"#2a3f5f\", \"gridcolor\": \"white\", \"linecolor\": \"white\", \"minorgridcolor\": \"white\", \"startlinecolor\": \"#2a3f5f\"}, \"baxis\": {\"endlinecolor\": \"#2a3f5f\", \"gridcolor\": \"white\", \"linecolor\": \"white\", \"minorgridcolor\": \"white\", \"startlinecolor\": \"#2a3f5f\"}, \"type\": \"carpet\"}], \"choropleth\": [{\"colorbar\": {\"outlinewidth\": 0, \"ticks\": \"\"}, \"type\": \"choropleth\"}], \"contour\": [{\"colorbar\": {\"outlinewidth\": 0, \"ticks\": \"\"}, \"colorscale\": [[0.0, \"#0d0887\"], [0.1111111111111111, \"#46039f\"], [0.2222222222222222, \"#7201a8\"], [0.3333333333333333, \"#9c179e\"], [0.4444444444444444, \"#bd3786\"], [0.5555555555555556, \"#d8576b\"], [0.6666666666666666, \"#ed7953\"], [0.7777777777777778, \"#fb9f3a\"], [0.8888888888888888, \"#fdca26\"], [1.0, \"#f0f921\"]], \"type\": \"contour\"}], \"contourcarpet\": [{\"colorbar\": {\"outlinewidth\": 0, \"ticks\": \"\"}, \"type\": \"contourcarpet\"}], \"heatmap\": [{\"colorbar\": {\"outlinewidth\": 0, \"ticks\": \"\"}, \"colorscale\": [[0.0, \"#0d0887\"], [0.1111111111111111, \"#46039f\"], [0.2222222222222222, \"#7201a8\"], [0.3333333333333333, \"#9c179e\"], [0.4444444444444444, \"#bd3786\"], [0.5555555555555556, \"#d8576b\"], [0.6666666666666666, \"#ed7953\"], [0.7777777777777778, \"#fb9f3a\"], [0.8888888888888888, \"#fdca26\"], [1.0, \"#f0f921\"]], \"type\": \"heatmap\"}], \"heatmapgl\": [{\"colorbar\": {\"outlinewidth\": 0, \"ticks\": \"\"}, \"colorscale\": [[0.0, \"#0d0887\"], [0.1111111111111111, \"#46039f\"], [0.2222222222222222, \"#7201a8\"], [0.3333333333333333, \"#9c179e\"], [0.4444444444444444, \"#bd3786\"], [0.5555555555555556, \"#d8576b\"], [0.6666666666666666, \"#ed7953\"], [0.7777777777777778, \"#fb9f3a\"], [0.8888888888888888, \"#fdca26\"], [1.0, \"#f0f921\"]], \"type\": \"heatmapgl\"}], \"histogram\": [{\"marker\": {\"colorbar\": {\"outlinewidth\": 0, \"ticks\": \"\"}}, \"type\": \"histogram\"}], \"histogram2d\": [{\"colorbar\": {\"outlinewidth\": 0, \"ticks\": \"\"}, \"colorscale\": [[0.0, \"#0d0887\"], [0.1111111111111111, \"#46039f\"], [0.2222222222222222, \"#7201a8\"], [0.3333333333333333, \"#9c179e\"], [0.4444444444444444, \"#bd3786\"], [0.5555555555555556, \"#d8576b\"], [0.6666666666666666, \"#ed7953\"], [0.7777777777777778, \"#fb9f3a\"], [0.8888888888888888, \"#fdca26\"], [1.0, \"#f0f921\"]], \"type\": \"histogram2d\"}], \"histogram2dcontour\": [{\"colorbar\": {\"outlinewidth\": 0, \"ticks\": \"\"}, \"colorscale\": [[0.0, \"#0d0887\"], [0.1111111111111111, \"#46039f\"], [0.2222222222222222, \"#7201a8\"], [0.3333333333333333, \"#9c179e\"], [0.4444444444444444, \"#bd3786\"], [0.5555555555555556, \"#d8576b\"], [0.6666666666666666, \"#ed7953\"], [0.7777777777777778, \"#fb9f3a\"], [0.8888888888888888, \"#fdca26\"], [1.0, \"#f0f921\"]], \"type\": \"histogram2dcontour\"}], \"mesh3d\": [{\"colorbar\": {\"outlinewidth\": 0, \"ticks\": \"\"}, \"type\": \"mesh3d\"}], \"parcoords\": [{\"line\": {\"colorbar\": {\"outlinewidth\": 0, \"ticks\": \"\"}}, \"type\": \"parcoords\"}], \"pie\": [{\"automargin\": true, \"type\": \"pie\"}], \"scatter\": [{\"marker\": {\"colorbar\": {\"outlinewidth\": 0, \"ticks\": \"\"}}, \"type\": \"scatter\"}], \"scatter3d\": [{\"line\": {\"colorbar\": {\"outlinewidth\": 0, \"ticks\": \"\"}}, \"marker\": {\"colorbar\": {\"outlinewidth\": 0, \"ticks\": \"\"}}, \"type\": \"scatter3d\"}], \"scattercarpet\": [{\"marker\": {\"colorbar\": {\"outlinewidth\": 0, \"ticks\": \"\"}}, \"type\": \"scattercarpet\"}], \"scattergeo\": [{\"marker\": {\"colorbar\": {\"outlinewidth\": 0, \"ticks\": \"\"}}, \"type\": \"scattergeo\"}], \"scattergl\": [{\"marker\": {\"colorbar\": {\"outlinewidth\": 0, \"ticks\": \"\"}}, \"type\": \"scattergl\"}], \"scattermapbox\": [{\"marker\": {\"colorbar\": {\"outlinewidth\": 0, \"ticks\": \"\"}}, \"type\": \"scattermapbox\"}], \"scatterpolar\": [{\"marker\": {\"colorbar\": {\"outlinewidth\": 0, \"ticks\": \"\"}}, \"type\": \"scatterpolar\"}], \"scatterpolargl\": [{\"marker\": {\"colorbar\": {\"outlinewidth\": 0, \"ticks\": \"\"}}, \"type\": \"scatterpolargl\"}], \"scatterternary\": [{\"marker\": {\"colorbar\": {\"outlinewidth\": 0, \"ticks\": \"\"}}, \"type\": \"scatterternary\"}], \"surface\": [{\"colorbar\": {\"outlinewidth\": 0, \"ticks\": \"\"}, \"colorscale\": [[0.0, \"#0d0887\"], [0.1111111111111111, \"#46039f\"], [0.2222222222222222, \"#7201a8\"], [0.3333333333333333, \"#9c179e\"], [0.4444444444444444, \"#bd3786\"], [0.5555555555555556, \"#d8576b\"], [0.6666666666666666, \"#ed7953\"], [0.7777777777777778, \"#fb9f3a\"], [0.8888888888888888, \"#fdca26\"], [1.0, \"#f0f921\"]], \"type\": \"surface\"}], \"table\": [{\"cells\": {\"fill\": {\"color\": \"#EBF0F8\"}, \"line\": {\"color\": \"white\"}}, \"header\": {\"fill\": {\"color\": \"#C8D4E3\"}, \"line\": {\"color\": \"white\"}}, \"type\": \"table\"}]}, \"layout\": {\"annotationdefaults\": {\"arrowcolor\": \"#2a3f5f\", \"arrowhead\": 0, \"arrowwidth\": 1}, \"coloraxis\": {\"colorbar\": {\"outlinewidth\": 0, \"ticks\": \"\"}}, \"colorscale\": {\"diverging\": [[0, \"#8e0152\"], [0.1, \"#c51b7d\"], [0.2, \"#de77ae\"], [0.3, \"#f1b6da\"], [0.4, \"#fde0ef\"], [0.5, \"#f7f7f7\"], [0.6, \"#e6f5d0\"], [0.7, \"#b8e186\"], [0.8, \"#7fbc41\"], [0.9, \"#4d9221\"], [1, \"#276419\"]], \"sequential\": [[0.0, \"#0d0887\"], [0.1111111111111111, \"#46039f\"], [0.2222222222222222, \"#7201a8\"], [0.3333333333333333, \"#9c179e\"], [0.4444444444444444, \"#bd3786\"], [0.5555555555555556, \"#d8576b\"], [0.6666666666666666, \"#ed7953\"], [0.7777777777777778, \"#fb9f3a\"], [0.8888888888888888, \"#fdca26\"], [1.0, \"#f0f921\"]], \"sequentialminus\": [[0.0, \"#0d0887\"], [0.1111111111111111, \"#46039f\"], [0.2222222222222222, \"#7201a8\"], [0.3333333333333333, \"#9c179e\"], [0.4444444444444444, \"#bd3786\"], [0.5555555555555556, \"#d8576b\"], [0.6666666666666666, \"#ed7953\"], [0.7777777777777778, \"#fb9f3a\"], [0.8888888888888888, \"#fdca26\"], [1.0, \"#f0f921\"]]}, \"colorway\": [\"#636efa\", \"#EF553B\", \"#00cc96\", \"#ab63fa\", \"#FFA15A\", \"#19d3f3\", \"#FF6692\", \"#B6E880\", \"#FF97FF\", \"#FECB52\"], \"font\": {\"color\": \"#2a3f5f\"}, \"geo\": {\"bgcolor\": \"white\", \"lakecolor\": \"white\", \"landcolor\": \"#E5ECF6\", \"showlakes\": true, \"showland\": true, \"subunitcolor\": \"white\"}, \"hoverlabel\": {\"align\": \"left\"}, \"hovermode\": \"closest\", \"mapbox\": {\"style\": \"light\"}, \"paper_bgcolor\": \"white\", \"plot_bgcolor\": \"#E5ECF6\", \"polar\": {\"angularaxis\": {\"gridcolor\": \"white\", \"linecolor\": \"white\", \"ticks\": \"\"}, \"bgcolor\": \"#E5ECF6\", \"radialaxis\": {\"gridcolor\": \"white\", \"linecolor\": \"white\", \"ticks\": \"\"}}, \"scene\": {\"xaxis\": {\"backgroundcolor\": \"#E5ECF6\", \"gridcolor\": \"white\", \"gridwidth\": 2, \"linecolor\": \"white\", \"showbackground\": true, \"ticks\": \"\", \"zerolinecolor\": \"white\"}, \"yaxis\": {\"backgroundcolor\": \"#E5ECF6\", \"gridcolor\": \"white\", \"gridwidth\": 2, \"linecolor\": \"white\", \"showbackground\": true, \"ticks\": \"\", \"zerolinecolor\": \"white\"}, \"zaxis\": {\"backgroundcolor\": \"#E5ECF6\", \"gridcolor\": \"white\", \"gridwidth\": 2, \"linecolor\": \"white\", \"showbackground\": true, \"ticks\": \"\", \"zerolinecolor\": \"white\"}}, \"shapedefaults\": {\"line\": {\"color\": \"#2a3f5f\"}}, \"ternary\": {\"aaxis\": {\"gridcolor\": \"white\", \"linecolor\": \"white\", \"ticks\": \"\"}, \"baxis\": {\"gridcolor\": \"white\", \"linecolor\": \"white\", \"ticks\": \"\"}, \"bgcolor\": \"#E5ECF6\", \"caxis\": {\"gridcolor\": \"white\", \"linecolor\": \"white\", \"ticks\": \"\"}}, \"title\": {\"x\": 0.05}, \"xaxis\": {\"automargin\": true, \"gridcolor\": \"white\", \"linecolor\": \"white\", \"ticks\": \"\", \"title\": {\"standoff\": 15}, \"zerolinecolor\": \"white\", \"zerolinewidth\": 2}, \"yaxis\": {\"automargin\": true, \"gridcolor\": \"white\", \"linecolor\": \"white\", \"ticks\": \"\", \"title\": {\"standoff\": 15}, \"zerolinecolor\": \"white\", \"zerolinewidth\": 2}}}},\n",
       "                        {\"responsive\": true}\n",
       "                    ).then(function(){\n",
       "                            \n",
       "var gd = document.getElementById('6910dd51-07da-4166-9ee0-c9617be95cd8');\n",
       "var x = new MutationObserver(function (mutations, observer) {{\n",
       "        var display = window.getComputedStyle(gd).display;\n",
       "        if (!display || display === 'none') {{\n",
       "            console.log([gd, 'removed!']);\n",
       "            Plotly.purge(gd);\n",
       "            observer.disconnect();\n",
       "        }}\n",
       "}});\n",
       "\n",
       "// Listen for the removal of the full notebook cells\n",
       "var notebookContainer = gd.closest('#notebook-container');\n",
       "if (notebookContainer) {{\n",
       "    x.observe(notebookContainer, {childList: true});\n",
       "}}\n",
       "\n",
       "// Listen for the clearing of the current output cell\n",
       "var outputEl = gd.closest('.output');\n",
       "if (outputEl) {{\n",
       "    x.observe(outputEl, {childList: true});\n",
       "}}\n",
       "\n",
       "                        })\n",
       "                };\n",
       "                });\n",
       "            </script>\n",
       "        </div>"
      ]
     },
     "metadata": {},
     "output_type": "display_data"
    }
   ],
   "source": [
    "x0 = torch.Tensor([np.pi+1.5, 15.]).double()\n",
    "x_traj, u_traj, alpha_traj = vf.sol_to_traj(x0, *(V(x0)[1:]))\n",
    "fig = go.Figure()\n",
    "for i in range(2):\n",
    "    fig.add_trace(go.Scatter(\n",
    "        y=x_traj[i,:]\n",
    "    ))\n",
    "fig.show()"
   ]
  },
  {
   "cell_type": "code",
   "execution_count": 16,
   "metadata": {},
   "outputs": [
    {
     "data": {
      "application/vnd.plotly.v1+json": {
       "config": {
        "plotlyServerURL": "https://plot.ly"
       },
       "data": [
        {
         "type": "scatter",
         "x": [
          0,
          0.08455713838338852,
          0.10000000149011612,
          0.16833603382110596,
          0.20000000298023224,
          0.27939271926879883,
          0.30000001192092896,
          0.3715820610523224,
          0.4000000059604645,
          0.4665011167526245,
          0.5,
          0.5695305466651917,
          0.6000000238418579,
          0.6830143332481384,
          0.699999988079071,
          0.7929772734642029,
          0.800000011920929,
          0.8743600249290466,
          0.8999999761581421,
          0.9702567458152771,
          1,
          1.0705338716506958,
          1.100000023841858,
          1.1733336448669434,
          1.2000000476837158,
          1.2577636241912842,
          1.2999999523162842,
          1.3601473569869995,
          1.399999976158142,
          1.4648857116699219,
          1.5,
          1.5660552978515625,
          1.600000023841858,
          1.6676883697509766,
          1.7000000476837158,
          1.772133708000183,
          1.7999999523162842,
          1.88346529006958,
          1.899999976158142,
          2,
          2.080979585647583,
          2.0999999046325684,
          2.1728429794311523,
          2.200000047683716,
          2.2698662281036377,
          2.299999952316284,
          2.3690273761749268,
          2.4000000953674316,
          2.4741363525390625,
          2.5,
          2.596123456954956,
          2.5999999046325684,
          2.673945426940918,
          2.700000047683716,
          2.76663875579834,
          2.799999952316284,
          2.8674302101135254,
          2.9000000953674316,
          2.9761605262756348,
          3,
          3.0861148834228516,
          3.0999999046325684,
          3.1745588779449463,
          3.200000047683716,
          3.269608736038208,
          3.299999952316284,
          3.367469072341919,
          3.4000000953674316,
          3.4664478302001953,
          3.5,
          3.5659236907958984,
          3.5999999046325684,
          3.6656272411346436,
          3.700000047683716,
          3.7654380798339844,
          3.799999952316284,
          3.8652966022491455,
          3.9000000953674316,
          3.9651684761047363,
          4,
          4.065042972564697,
          4.099999904632568,
          4.164916038513184,
          4.199999809265137,
          4.264780044555664,
          4.300000190734863,
          4.364637851715088,
          4.400000095367432,
          4.464488983154297,
          4.5,
          4.564341068267822,
          4.599999904632568,
          4.66419792175293,
          4.699999809265137,
          4.764067649841309,
          4.800000190734863,
          4.863974094390869,
          4.900000095367432
         ],
         "y": [
          4.641592502593994,
          5.879409313201904,
          6.096993446350098,
          7.010171890258789,
          7.399203300476074,
          8.265052795410156,
          8.464489936828613,
          9.08626651763916,
          9.306941032409668,
          9.779342651367188,
          9.999282836914062,
          10.429665565490723,
          10.61025333404541,
          11.085417747497559,
          11.180007934570312,
          11.6798677444458,
          11.716124534606934,
          12.082059860229492,
          12.199028015136719,
          12.488436698913574,
          12.595102310180664,
          12.804491996765137,
          12.872392654418945,
          12.988082885742188,
          13.010872840881348,
          13.024863243103027,
          13.004951477050781,
          12.934496879577637,
          12.862188339233398,
          12.705070495605469,
          12.602022171020508,
          12.380019187927246,
          12.254426956176758,
          11.987913131713867,
          11.855781555175781,
          11.556418418884277,
          11.440796852111816,
          11.099892616271973,
          11.033693313598633,
          10.643260955810547,
          10.335290908813477,
          10.263018608093262,
          9.981954574584961,
          9.873913764953613,
          9.581610679626465,
          9.446822166442871,
          9.1105375289917,
          8.9443359375,
          8.498941421508789,
          8.326017379760742,
          7.6194305419921875,
          7.589167594909668,
          6.997257232666016,
          6.785282135009766,
          6.24945068359375,
          5.990927219390869,
          5.50166654586792,
          5.2854437828063965,
          4.836838722229004,
          4.713298797607422,
          4.329959392547607,
          4.276857852935791,
          4.027736186981201,
          3.955435037612915,
          3.7857320308685303,
          3.7230544090270996,
          3.6047253608703613,
          3.5565919876098633,
          3.47330379486084,
          3.4378654956817627,
          3.378977060317993,
          3.3533358573913574,
          3.311594247817993,
          3.29317569732666,
          3.263535976409912,
          3.2503416538238525,
          3.2292628288269043,
          3.2198145389556885,
          3.2048022747039795,
          3.1980295181274414,
          3.187319755554199,
          3.1824564933776855,
          3.1748013496398926,
          3.1713013648986816,
          3.1658172607421875,
          3.1632914543151855,
          3.1593523025512695,
          3.1575236320495605,
          3.1546854972839355,
          3.1533567905426025,
          3.151304244995117,
          3.1503350734710693,
          3.1488442420959473,
          3.148134231567383,
          3.1470460891723633,
          3.1465234756469727,
          3.1457245349884033,
          3.145338296890259
         ]
        },
        {
         "type": "scatter",
         "x": [
          0,
          0.08455713838338852,
          0.10000000149011612,
          0.16833603382110596,
          0.20000000298023224,
          0.27939271926879883,
          0.30000001192092896,
          0.3715820610523224,
          0.4000000059604645,
          0.4665011167526245,
          0.5,
          0.5695305466651917,
          0.6000000238418579,
          0.6830143332481384,
          0.699999988079071,
          0.7929772734642029,
          0.800000011920929,
          0.8743600249290466,
          0.8999999761581421,
          0.9702567458152771,
          1,
          1.0705338716506958,
          1.100000023841858,
          1.1733336448669434,
          1.2000000476837158,
          1.2577636241912842,
          1.2999999523162842,
          1.3601473569869995,
          1.399999976158142,
          1.4648857116699219,
          1.5,
          1.5660552978515625,
          1.600000023841858,
          1.6676883697509766,
          1.7000000476837158,
          1.772133708000183,
          1.7999999523162842,
          1.88346529006958,
          1.899999976158142,
          2,
          2.080979585647583,
          2.0999999046325684,
          2.1728429794311523,
          2.200000047683716,
          2.2698662281036377,
          2.299999952316284,
          2.3690273761749268,
          2.4000000953674316,
          2.4741363525390625,
          2.5,
          2.596123456954956,
          2.5999999046325684,
          2.673945426940918,
          2.700000047683716,
          2.76663875579834,
          2.799999952316284,
          2.8674302101135254,
          2.9000000953674316,
          2.9761605262756348,
          3,
          3.0861148834228516,
          3.0999999046325684,
          3.1745588779449463,
          3.200000047683716,
          3.269608736038208,
          3.299999952316284,
          3.367469072341919,
          3.4000000953674316,
          3.4664478302001953,
          3.5,
          3.5659236907958984,
          3.5999999046325684,
          3.6656272411346436,
          3.700000047683716,
          3.7654380798339844,
          3.799999952316284,
          3.8652966022491455,
          3.9000000953674316,
          3.9651684761047363,
          4,
          4.065042972564697,
          4.099999904632568,
          4.164916038513184,
          4.199999809265137,
          4.264780044555664,
          4.300000190734863,
          4.364637851715088,
          4.400000095367432,
          4.464488983154297,
          4.5,
          4.564341068267822,
          4.599999904632568,
          4.66419792175293,
          4.699999809265137,
          4.764067649841309,
          4.800000190734863,
          4.863974094390869,
          4.900000095367432
         ],
         "y": [
          15,
          14.196806907653809,
          13.97750186920166,
          12.659895896911621,
          11.902508735656738,
          9.92094898223877,
          9.439176559448242,
          7.9994072914123535,
          7.542252540588379,
          6.720294952392578,
          6.422508716583252,
          5.993850231170654,
          5.86427640914917,
          5.594714641571045,
          5.54256534576416,
          5.18060827255249,
          5.144833564758301,
          4.66548490524292,
          4.454338550567627,
          3.7559711933135986,
          3.4121313095092773,
          2.5065691471099854,
          2.1000146865844727,
          1.0486310720443726,
          0.6605803370475769,
          -0.1733366847038269,
          -0.766197144985199,
          -1.566165804862976,
          -2.0565271377563477,
          -2.7662744522094727,
          -3.0962023735046387,
          -3.5988593101501465,
          -3.7936325073242188,
          -4.0530266761779785,
          -4.119815826416016,
          -4.157176971435547,
          -4.138652324676514,
          -4.018398284912109,
          -3.9888803958892822,
          -3.8310887813568115,
          -3.794987678527832,
          -3.805943012237549,
          -3.935822010040283,
          -4.024925708770752,
          -4.372344970703125,
          -4.579751968383789,
          -5.197626113891602,
          -5.541444301605225,
          -6.502225875854492,
          -6.871993541717529,
          -7.791234970092773,
          -7.821726322174072,
          -8.126893043518066,
          -8.134610176086426,
          -7.879961967468262,
          -7.602375507354736,
          -6.859821796417236,
          -6.409901142120361,
          -5.353620529174805,
          -5.010554790496826,
          -3.908195734024048,
          -3.7411048412323,
          -2.96185564994812,
          -2.724371910095215,
          -2.169130325317383,
          -1.9586820602416992,
          -1.5626349449157715,
          -1.3994052410125732,
          -1.1176211833953857,
          -0.9970393180847168,
          -0.7969182729721069,
          -0.7097029089927673,
          -0.567706823348999,
          -0.505226194858551,
          -0.4044948220252991,
          -0.3599286377429962,
          -0.2884539067745209,
          -0.2567216157913208,
          -0.20597954094409943,
          -0.18339255452156067,
          -0.14734108746051788,
          -0.1312592774629593,
          -0.10561768710613251,
          -0.09415996819734573,
          -0.07589836418628693,
          -0.06772690266370773,
          -0.0546998530626297,
          -0.04886544123291969,
          -0.03955414146184921,
          -0.03538290411233902,
          -0.028712375089526176,
          -0.02572685293853283,
          -0.020933382213115692,
          -0.018793022260069847,
          -0.015336036682128906,
          -0.013799167238175869,
          -0.011296112090349197,
          -0.010191579349339008
         ]
        }
       ],
       "layout": {
        "template": {
         "data": {
          "bar": [
           {
            "error_x": {
             "color": "#2a3f5f"
            },
            "error_y": {
             "color": "#2a3f5f"
            },
            "marker": {
             "line": {
              "color": "#E5ECF6",
              "width": 0.5
             }
            },
            "type": "bar"
           }
          ],
          "barpolar": [
           {
            "marker": {
             "line": {
              "color": "#E5ECF6",
              "width": 0.5
             }
            },
            "type": "barpolar"
           }
          ],
          "carpet": [
           {
            "aaxis": {
             "endlinecolor": "#2a3f5f",
             "gridcolor": "white",
             "linecolor": "white",
             "minorgridcolor": "white",
             "startlinecolor": "#2a3f5f"
            },
            "baxis": {
             "endlinecolor": "#2a3f5f",
             "gridcolor": "white",
             "linecolor": "white",
             "minorgridcolor": "white",
             "startlinecolor": "#2a3f5f"
            },
            "type": "carpet"
           }
          ],
          "choropleth": [
           {
            "colorbar": {
             "outlinewidth": 0,
             "ticks": ""
            },
            "type": "choropleth"
           }
          ],
          "contour": [
           {
            "colorbar": {
             "outlinewidth": 0,
             "ticks": ""
            },
            "colorscale": [
             [
              0,
              "#0d0887"
             ],
             [
              0.1111111111111111,
              "#46039f"
             ],
             [
              0.2222222222222222,
              "#7201a8"
             ],
             [
              0.3333333333333333,
              "#9c179e"
             ],
             [
              0.4444444444444444,
              "#bd3786"
             ],
             [
              0.5555555555555556,
              "#d8576b"
             ],
             [
              0.6666666666666666,
              "#ed7953"
             ],
             [
              0.7777777777777778,
              "#fb9f3a"
             ],
             [
              0.8888888888888888,
              "#fdca26"
             ],
             [
              1,
              "#f0f921"
             ]
            ],
            "type": "contour"
           }
          ],
          "contourcarpet": [
           {
            "colorbar": {
             "outlinewidth": 0,
             "ticks": ""
            },
            "type": "contourcarpet"
           }
          ],
          "heatmap": [
           {
            "colorbar": {
             "outlinewidth": 0,
             "ticks": ""
            },
            "colorscale": [
             [
              0,
              "#0d0887"
             ],
             [
              0.1111111111111111,
              "#46039f"
             ],
             [
              0.2222222222222222,
              "#7201a8"
             ],
             [
              0.3333333333333333,
              "#9c179e"
             ],
             [
              0.4444444444444444,
              "#bd3786"
             ],
             [
              0.5555555555555556,
              "#d8576b"
             ],
             [
              0.6666666666666666,
              "#ed7953"
             ],
             [
              0.7777777777777778,
              "#fb9f3a"
             ],
             [
              0.8888888888888888,
              "#fdca26"
             ],
             [
              1,
              "#f0f921"
             ]
            ],
            "type": "heatmap"
           }
          ],
          "heatmapgl": [
           {
            "colorbar": {
             "outlinewidth": 0,
             "ticks": ""
            },
            "colorscale": [
             [
              0,
              "#0d0887"
             ],
             [
              0.1111111111111111,
              "#46039f"
             ],
             [
              0.2222222222222222,
              "#7201a8"
             ],
             [
              0.3333333333333333,
              "#9c179e"
             ],
             [
              0.4444444444444444,
              "#bd3786"
             ],
             [
              0.5555555555555556,
              "#d8576b"
             ],
             [
              0.6666666666666666,
              "#ed7953"
             ],
             [
              0.7777777777777778,
              "#fb9f3a"
             ],
             [
              0.8888888888888888,
              "#fdca26"
             ],
             [
              1,
              "#f0f921"
             ]
            ],
            "type": "heatmapgl"
           }
          ],
          "histogram": [
           {
            "marker": {
             "colorbar": {
              "outlinewidth": 0,
              "ticks": ""
             }
            },
            "type": "histogram"
           }
          ],
          "histogram2d": [
           {
            "colorbar": {
             "outlinewidth": 0,
             "ticks": ""
            },
            "colorscale": [
             [
              0,
              "#0d0887"
             ],
             [
              0.1111111111111111,
              "#46039f"
             ],
             [
              0.2222222222222222,
              "#7201a8"
             ],
             [
              0.3333333333333333,
              "#9c179e"
             ],
             [
              0.4444444444444444,
              "#bd3786"
             ],
             [
              0.5555555555555556,
              "#d8576b"
             ],
             [
              0.6666666666666666,
              "#ed7953"
             ],
             [
              0.7777777777777778,
              "#fb9f3a"
             ],
             [
              0.8888888888888888,
              "#fdca26"
             ],
             [
              1,
              "#f0f921"
             ]
            ],
            "type": "histogram2d"
           }
          ],
          "histogram2dcontour": [
           {
            "colorbar": {
             "outlinewidth": 0,
             "ticks": ""
            },
            "colorscale": [
             [
              0,
              "#0d0887"
             ],
             [
              0.1111111111111111,
              "#46039f"
             ],
             [
              0.2222222222222222,
              "#7201a8"
             ],
             [
              0.3333333333333333,
              "#9c179e"
             ],
             [
              0.4444444444444444,
              "#bd3786"
             ],
             [
              0.5555555555555556,
              "#d8576b"
             ],
             [
              0.6666666666666666,
              "#ed7953"
             ],
             [
              0.7777777777777778,
              "#fb9f3a"
             ],
             [
              0.8888888888888888,
              "#fdca26"
             ],
             [
              1,
              "#f0f921"
             ]
            ],
            "type": "histogram2dcontour"
           }
          ],
          "mesh3d": [
           {
            "colorbar": {
             "outlinewidth": 0,
             "ticks": ""
            },
            "type": "mesh3d"
           }
          ],
          "parcoords": [
           {
            "line": {
             "colorbar": {
              "outlinewidth": 0,
              "ticks": ""
             }
            },
            "type": "parcoords"
           }
          ],
          "pie": [
           {
            "automargin": true,
            "type": "pie"
           }
          ],
          "scatter": [
           {
            "marker": {
             "colorbar": {
              "outlinewidth": 0,
              "ticks": ""
             }
            },
            "type": "scatter"
           }
          ],
          "scatter3d": [
           {
            "line": {
             "colorbar": {
              "outlinewidth": 0,
              "ticks": ""
             }
            },
            "marker": {
             "colorbar": {
              "outlinewidth": 0,
              "ticks": ""
             }
            },
            "type": "scatter3d"
           }
          ],
          "scattercarpet": [
           {
            "marker": {
             "colorbar": {
              "outlinewidth": 0,
              "ticks": ""
             }
            },
            "type": "scattercarpet"
           }
          ],
          "scattergeo": [
           {
            "marker": {
             "colorbar": {
              "outlinewidth": 0,
              "ticks": ""
             }
            },
            "type": "scattergeo"
           }
          ],
          "scattergl": [
           {
            "marker": {
             "colorbar": {
              "outlinewidth": 0,
              "ticks": ""
             }
            },
            "type": "scattergl"
           }
          ],
          "scattermapbox": [
           {
            "marker": {
             "colorbar": {
              "outlinewidth": 0,
              "ticks": ""
             }
            },
            "type": "scattermapbox"
           }
          ],
          "scatterpolar": [
           {
            "marker": {
             "colorbar": {
              "outlinewidth": 0,
              "ticks": ""
             }
            },
            "type": "scatterpolar"
           }
          ],
          "scatterpolargl": [
           {
            "marker": {
             "colorbar": {
              "outlinewidth": 0,
              "ticks": ""
             }
            },
            "type": "scatterpolargl"
           }
          ],
          "scatterternary": [
           {
            "marker": {
             "colorbar": {
              "outlinewidth": 0,
              "ticks": ""
             }
            },
            "type": "scatterternary"
           }
          ],
          "surface": [
           {
            "colorbar": {
             "outlinewidth": 0,
             "ticks": ""
            },
            "colorscale": [
             [
              0,
              "#0d0887"
             ],
             [
              0.1111111111111111,
              "#46039f"
             ],
             [
              0.2222222222222222,
              "#7201a8"
             ],
             [
              0.3333333333333333,
              "#9c179e"
             ],
             [
              0.4444444444444444,
              "#bd3786"
             ],
             [
              0.5555555555555556,
              "#d8576b"
             ],
             [
              0.6666666666666666,
              "#ed7953"
             ],
             [
              0.7777777777777778,
              "#fb9f3a"
             ],
             [
              0.8888888888888888,
              "#fdca26"
             ],
             [
              1,
              "#f0f921"
             ]
            ],
            "type": "surface"
           }
          ],
          "table": [
           {
            "cells": {
             "fill": {
              "color": "#EBF0F8"
             },
             "line": {
              "color": "white"
             }
            },
            "header": {
             "fill": {
              "color": "#C8D4E3"
             },
             "line": {
              "color": "white"
             }
            },
            "type": "table"
           }
          ]
         },
         "layout": {
          "annotationdefaults": {
           "arrowcolor": "#2a3f5f",
           "arrowhead": 0,
           "arrowwidth": 1
          },
          "coloraxis": {
           "colorbar": {
            "outlinewidth": 0,
            "ticks": ""
           }
          },
          "colorscale": {
           "diverging": [
            [
             0,
             "#8e0152"
            ],
            [
             0.1,
             "#c51b7d"
            ],
            [
             0.2,
             "#de77ae"
            ],
            [
             0.3,
             "#f1b6da"
            ],
            [
             0.4,
             "#fde0ef"
            ],
            [
             0.5,
             "#f7f7f7"
            ],
            [
             0.6,
             "#e6f5d0"
            ],
            [
             0.7,
             "#b8e186"
            ],
            [
             0.8,
             "#7fbc41"
            ],
            [
             0.9,
             "#4d9221"
            ],
            [
             1,
             "#276419"
            ]
           ],
           "sequential": [
            [
             0,
             "#0d0887"
            ],
            [
             0.1111111111111111,
             "#46039f"
            ],
            [
             0.2222222222222222,
             "#7201a8"
            ],
            [
             0.3333333333333333,
             "#9c179e"
            ],
            [
             0.4444444444444444,
             "#bd3786"
            ],
            [
             0.5555555555555556,
             "#d8576b"
            ],
            [
             0.6666666666666666,
             "#ed7953"
            ],
            [
             0.7777777777777778,
             "#fb9f3a"
            ],
            [
             0.8888888888888888,
             "#fdca26"
            ],
            [
             1,
             "#f0f921"
            ]
           ],
           "sequentialminus": [
            [
             0,
             "#0d0887"
            ],
            [
             0.1111111111111111,
             "#46039f"
            ],
            [
             0.2222222222222222,
             "#7201a8"
            ],
            [
             0.3333333333333333,
             "#9c179e"
            ],
            [
             0.4444444444444444,
             "#bd3786"
            ],
            [
             0.5555555555555556,
             "#d8576b"
            ],
            [
             0.6666666666666666,
             "#ed7953"
            ],
            [
             0.7777777777777778,
             "#fb9f3a"
            ],
            [
             0.8888888888888888,
             "#fdca26"
            ],
            [
             1,
             "#f0f921"
            ]
           ]
          },
          "colorway": [
           "#636efa",
           "#EF553B",
           "#00cc96",
           "#ab63fa",
           "#FFA15A",
           "#19d3f3",
           "#FF6692",
           "#B6E880",
           "#FF97FF",
           "#FECB52"
          ],
          "font": {
           "color": "#2a3f5f"
          },
          "geo": {
           "bgcolor": "white",
           "lakecolor": "white",
           "landcolor": "#E5ECF6",
           "showlakes": true,
           "showland": true,
           "subunitcolor": "white"
          },
          "hoverlabel": {
           "align": "left"
          },
          "hovermode": "closest",
          "mapbox": {
           "style": "light"
          },
          "paper_bgcolor": "white",
          "plot_bgcolor": "#E5ECF6",
          "polar": {
           "angularaxis": {
            "gridcolor": "white",
            "linecolor": "white",
            "ticks": ""
           },
           "bgcolor": "#E5ECF6",
           "radialaxis": {
            "gridcolor": "white",
            "linecolor": "white",
            "ticks": ""
           }
          },
          "scene": {
           "xaxis": {
            "backgroundcolor": "#E5ECF6",
            "gridcolor": "white",
            "gridwidth": 2,
            "linecolor": "white",
            "showbackground": true,
            "ticks": "",
            "zerolinecolor": "white"
           },
           "yaxis": {
            "backgroundcolor": "#E5ECF6",
            "gridcolor": "white",
            "gridwidth": 2,
            "linecolor": "white",
            "showbackground": true,
            "ticks": "",
            "zerolinecolor": "white"
           },
           "zaxis": {
            "backgroundcolor": "#E5ECF6",
            "gridcolor": "white",
            "gridwidth": 2,
            "linecolor": "white",
            "showbackground": true,
            "ticks": "",
            "zerolinecolor": "white"
           }
          },
          "shapedefaults": {
           "line": {
            "color": "#2a3f5f"
           }
          },
          "ternary": {
           "aaxis": {
            "gridcolor": "white",
            "linecolor": "white",
            "ticks": ""
           },
           "baxis": {
            "gridcolor": "white",
            "linecolor": "white",
            "ticks": ""
           },
           "bgcolor": "#E5ECF6",
           "caxis": {
            "gridcolor": "white",
            "linecolor": "white",
            "ticks": ""
           }
          },
          "title": {
           "x": 0.05
          },
          "xaxis": {
           "automargin": true,
           "gridcolor": "white",
           "linecolor": "white",
           "ticks": "",
           "title": {
            "standoff": 15
           },
           "zerolinecolor": "white",
           "zerolinewidth": 2
          },
          "yaxis": {
           "automargin": true,
           "gridcolor": "white",
           "linecolor": "white",
           "ticks": "",
           "title": {
            "standoff": 15
           },
           "zerolinecolor": "white",
           "zerolinewidth": 2
          }
         }
        }
       }
      },
      "text/html": [
       "<div>\n",
       "        \n",
       "        \n",
       "            <div id=\"f949957f-1268-44ce-b48f-49ec4dda5100\" class=\"plotly-graph-div\" style=\"height:525px; width:100%;\"></div>\n",
       "            <script type=\"text/javascript\">\n",
       "                require([\"plotly\"], function(Plotly) {\n",
       "                    window.PLOTLYENV=window.PLOTLYENV || {};\n",
       "                    \n",
       "                if (document.getElementById(\"f949957f-1268-44ce-b48f-49ec4dda5100\")) {\n",
       "                    Plotly.newPlot(\n",
       "                        'f949957f-1268-44ce-b48f-49ec4dda5100',\n",
       "                        [{\"type\": \"scatter\", \"x\": [0.0, 0.08455713838338852, 0.10000000149011612, 0.16833603382110596, 0.20000000298023224, 0.27939271926879883, 0.30000001192092896, 0.3715820610523224, 0.4000000059604645, 0.4665011167526245, 0.5, 0.5695305466651917, 0.6000000238418579, 0.6830143332481384, 0.699999988079071, 0.7929772734642029, 0.800000011920929, 0.8743600249290466, 0.8999999761581421, 0.9702567458152771, 1.0, 1.0705338716506958, 1.100000023841858, 1.1733336448669434, 1.2000000476837158, 1.2577636241912842, 1.2999999523162842, 1.3601473569869995, 1.399999976158142, 1.4648857116699219, 1.5, 1.5660552978515625, 1.600000023841858, 1.6676883697509766, 1.7000000476837158, 1.772133708000183, 1.7999999523162842, 1.88346529006958, 1.899999976158142, 2.0, 2.080979585647583, 2.0999999046325684, 2.1728429794311523, 2.200000047683716, 2.2698662281036377, 2.299999952316284, 2.3690273761749268, 2.4000000953674316, 2.4741363525390625, 2.5, 2.596123456954956, 2.5999999046325684, 2.673945426940918, 2.700000047683716, 2.76663875579834, 2.799999952316284, 2.8674302101135254, 2.9000000953674316, 2.9761605262756348, 3.0, 3.0861148834228516, 3.0999999046325684, 3.1745588779449463, 3.200000047683716, 3.269608736038208, 3.299999952316284, 3.367469072341919, 3.4000000953674316, 3.4664478302001953, 3.5, 3.5659236907958984, 3.5999999046325684, 3.6656272411346436, 3.700000047683716, 3.7654380798339844, 3.799999952316284, 3.8652966022491455, 3.9000000953674316, 3.9651684761047363, 4.0, 4.065042972564697, 4.099999904632568, 4.164916038513184, 4.199999809265137, 4.264780044555664, 4.300000190734863, 4.364637851715088, 4.400000095367432, 4.464488983154297, 4.5, 4.564341068267822, 4.599999904632568, 4.66419792175293, 4.699999809265137, 4.764067649841309, 4.800000190734863, 4.863974094390869, 4.900000095367432], \"y\": [4.641592502593994, 5.879409313201904, 6.096993446350098, 7.010171890258789, 7.399203300476074, 8.265052795410156, 8.464489936828613, 9.08626651763916, 9.306941032409668, 9.779342651367188, 9.999282836914062, 10.429665565490723, 10.61025333404541, 11.085417747497559, 11.180007934570312, 11.6798677444458, 11.716124534606934, 12.082059860229492, 12.199028015136719, 12.488436698913574, 12.595102310180664, 12.804491996765137, 12.872392654418945, 12.988082885742188, 13.010872840881348, 13.024863243103027, 13.004951477050781, 12.934496879577637, 12.862188339233398, 12.705070495605469, 12.602022171020508, 12.380019187927246, 12.254426956176758, 11.987913131713867, 11.855781555175781, 11.556418418884277, 11.440796852111816, 11.099892616271973, 11.033693313598633, 10.643260955810547, 10.335290908813477, 10.263018608093262, 9.981954574584961, 9.873913764953613, 9.581610679626465, 9.446822166442871, 9.1105375289917, 8.9443359375, 8.498941421508789, 8.326017379760742, 7.6194305419921875, 7.589167594909668, 6.997257232666016, 6.785282135009766, 6.24945068359375, 5.990927219390869, 5.50166654586792, 5.2854437828063965, 4.836838722229004, 4.713298797607422, 4.329959392547607, 4.276857852935791, 4.027736186981201, 3.955435037612915, 3.7857320308685303, 3.7230544090270996, 3.6047253608703613, 3.5565919876098633, 3.47330379486084, 3.4378654956817627, 3.378977060317993, 3.3533358573913574, 3.311594247817993, 3.29317569732666, 3.263535976409912, 3.2503416538238525, 3.2292628288269043, 3.2198145389556885, 3.2048022747039795, 3.1980295181274414, 3.187319755554199, 3.1824564933776855, 3.1748013496398926, 3.1713013648986816, 3.1658172607421875, 3.1632914543151855, 3.1593523025512695, 3.1575236320495605, 3.1546854972839355, 3.1533567905426025, 3.151304244995117, 3.1503350734710693, 3.1488442420959473, 3.148134231567383, 3.1470460891723633, 3.1465234756469727, 3.1457245349884033, 3.145338296890259]}, {\"type\": \"scatter\", \"x\": [0.0, 0.08455713838338852, 0.10000000149011612, 0.16833603382110596, 0.20000000298023224, 0.27939271926879883, 0.30000001192092896, 0.3715820610523224, 0.4000000059604645, 0.4665011167526245, 0.5, 0.5695305466651917, 0.6000000238418579, 0.6830143332481384, 0.699999988079071, 0.7929772734642029, 0.800000011920929, 0.8743600249290466, 0.8999999761581421, 0.9702567458152771, 1.0, 1.0705338716506958, 1.100000023841858, 1.1733336448669434, 1.2000000476837158, 1.2577636241912842, 1.2999999523162842, 1.3601473569869995, 1.399999976158142, 1.4648857116699219, 1.5, 1.5660552978515625, 1.600000023841858, 1.6676883697509766, 1.7000000476837158, 1.772133708000183, 1.7999999523162842, 1.88346529006958, 1.899999976158142, 2.0, 2.080979585647583, 2.0999999046325684, 2.1728429794311523, 2.200000047683716, 2.2698662281036377, 2.299999952316284, 2.3690273761749268, 2.4000000953674316, 2.4741363525390625, 2.5, 2.596123456954956, 2.5999999046325684, 2.673945426940918, 2.700000047683716, 2.76663875579834, 2.799999952316284, 2.8674302101135254, 2.9000000953674316, 2.9761605262756348, 3.0, 3.0861148834228516, 3.0999999046325684, 3.1745588779449463, 3.200000047683716, 3.269608736038208, 3.299999952316284, 3.367469072341919, 3.4000000953674316, 3.4664478302001953, 3.5, 3.5659236907958984, 3.5999999046325684, 3.6656272411346436, 3.700000047683716, 3.7654380798339844, 3.799999952316284, 3.8652966022491455, 3.9000000953674316, 3.9651684761047363, 4.0, 4.065042972564697, 4.099999904632568, 4.164916038513184, 4.199999809265137, 4.264780044555664, 4.300000190734863, 4.364637851715088, 4.400000095367432, 4.464488983154297, 4.5, 4.564341068267822, 4.599999904632568, 4.66419792175293, 4.699999809265137, 4.764067649841309, 4.800000190734863, 4.863974094390869, 4.900000095367432], \"y\": [15.0, 14.196806907653809, 13.97750186920166, 12.659895896911621, 11.902508735656738, 9.92094898223877, 9.439176559448242, 7.9994072914123535, 7.542252540588379, 6.720294952392578, 6.422508716583252, 5.993850231170654, 5.86427640914917, 5.594714641571045, 5.54256534576416, 5.18060827255249, 5.144833564758301, 4.66548490524292, 4.454338550567627, 3.7559711933135986, 3.4121313095092773, 2.5065691471099854, 2.1000146865844727, 1.0486310720443726, 0.6605803370475769, -0.1733366847038269, -0.766197144985199, -1.566165804862976, -2.0565271377563477, -2.7662744522094727, -3.0962023735046387, -3.5988593101501465, -3.7936325073242188, -4.0530266761779785, -4.119815826416016, -4.157176971435547, -4.138652324676514, -4.018398284912109, -3.9888803958892822, -3.8310887813568115, -3.794987678527832, -3.805943012237549, -3.935822010040283, -4.024925708770752, -4.372344970703125, -4.579751968383789, -5.197626113891602, -5.541444301605225, -6.502225875854492, -6.871993541717529, -7.791234970092773, -7.821726322174072, -8.126893043518066, -8.134610176086426, -7.879961967468262, -7.602375507354736, -6.859821796417236, -6.409901142120361, -5.353620529174805, -5.010554790496826, -3.908195734024048, -3.7411048412323, -2.96185564994812, -2.724371910095215, -2.169130325317383, -1.9586820602416992, -1.5626349449157715, -1.3994052410125732, -1.1176211833953857, -0.9970393180847168, -0.7969182729721069, -0.7097029089927673, -0.567706823348999, -0.505226194858551, -0.4044948220252991, -0.3599286377429962, -0.2884539067745209, -0.2567216157913208, -0.20597954094409943, -0.18339255452156067, -0.14734108746051788, -0.1312592774629593, -0.10561768710613251, -0.09415996819734573, -0.07589836418628693, -0.06772690266370773, -0.0546998530626297, -0.04886544123291969, -0.03955414146184921, -0.03538290411233902, -0.028712375089526176, -0.02572685293853283, -0.020933382213115692, -0.018793022260069847, -0.015336036682128906, -0.013799167238175869, -0.011296112090349197, -0.010191579349339008]}],\n",
       "                        {\"template\": {\"data\": {\"bar\": [{\"error_x\": {\"color\": \"#2a3f5f\"}, \"error_y\": {\"color\": \"#2a3f5f\"}, \"marker\": {\"line\": {\"color\": \"#E5ECF6\", \"width\": 0.5}}, \"type\": \"bar\"}], \"barpolar\": [{\"marker\": {\"line\": {\"color\": \"#E5ECF6\", \"width\": 0.5}}, \"type\": \"barpolar\"}], \"carpet\": [{\"aaxis\": {\"endlinecolor\": \"#2a3f5f\", \"gridcolor\": \"white\", \"linecolor\": \"white\", \"minorgridcolor\": \"white\", \"startlinecolor\": \"#2a3f5f\"}, \"baxis\": {\"endlinecolor\": \"#2a3f5f\", \"gridcolor\": \"white\", \"linecolor\": \"white\", \"minorgridcolor\": \"white\", \"startlinecolor\": \"#2a3f5f\"}, \"type\": \"carpet\"}], \"choropleth\": [{\"colorbar\": {\"outlinewidth\": 0, \"ticks\": \"\"}, \"type\": \"choropleth\"}], \"contour\": [{\"colorbar\": {\"outlinewidth\": 0, \"ticks\": \"\"}, \"colorscale\": [[0.0, \"#0d0887\"], [0.1111111111111111, \"#46039f\"], [0.2222222222222222, \"#7201a8\"], [0.3333333333333333, \"#9c179e\"], [0.4444444444444444, \"#bd3786\"], [0.5555555555555556, \"#d8576b\"], [0.6666666666666666, \"#ed7953\"], [0.7777777777777778, \"#fb9f3a\"], [0.8888888888888888, \"#fdca26\"], [1.0, \"#f0f921\"]], \"type\": \"contour\"}], \"contourcarpet\": [{\"colorbar\": {\"outlinewidth\": 0, \"ticks\": \"\"}, \"type\": \"contourcarpet\"}], \"heatmap\": [{\"colorbar\": {\"outlinewidth\": 0, \"ticks\": \"\"}, \"colorscale\": [[0.0, \"#0d0887\"], [0.1111111111111111, \"#46039f\"], [0.2222222222222222, \"#7201a8\"], [0.3333333333333333, \"#9c179e\"], [0.4444444444444444, \"#bd3786\"], [0.5555555555555556, \"#d8576b\"], [0.6666666666666666, \"#ed7953\"], [0.7777777777777778, \"#fb9f3a\"], [0.8888888888888888, \"#fdca26\"], [1.0, \"#f0f921\"]], \"type\": \"heatmap\"}], \"heatmapgl\": [{\"colorbar\": {\"outlinewidth\": 0, \"ticks\": \"\"}, \"colorscale\": [[0.0, \"#0d0887\"], [0.1111111111111111, \"#46039f\"], [0.2222222222222222, \"#7201a8\"], [0.3333333333333333, \"#9c179e\"], [0.4444444444444444, \"#bd3786\"], [0.5555555555555556, \"#d8576b\"], [0.6666666666666666, \"#ed7953\"], [0.7777777777777778, \"#fb9f3a\"], [0.8888888888888888, \"#fdca26\"], [1.0, \"#f0f921\"]], \"type\": \"heatmapgl\"}], \"histogram\": [{\"marker\": {\"colorbar\": {\"outlinewidth\": 0, \"ticks\": \"\"}}, \"type\": \"histogram\"}], \"histogram2d\": [{\"colorbar\": {\"outlinewidth\": 0, \"ticks\": \"\"}, \"colorscale\": [[0.0, \"#0d0887\"], [0.1111111111111111, \"#46039f\"], [0.2222222222222222, \"#7201a8\"], [0.3333333333333333, \"#9c179e\"], [0.4444444444444444, \"#bd3786\"], [0.5555555555555556, \"#d8576b\"], [0.6666666666666666, \"#ed7953\"], [0.7777777777777778, \"#fb9f3a\"], [0.8888888888888888, \"#fdca26\"], [1.0, \"#f0f921\"]], \"type\": \"histogram2d\"}], \"histogram2dcontour\": [{\"colorbar\": {\"outlinewidth\": 0, \"ticks\": \"\"}, \"colorscale\": [[0.0, \"#0d0887\"], [0.1111111111111111, \"#46039f\"], [0.2222222222222222, \"#7201a8\"], [0.3333333333333333, \"#9c179e\"], [0.4444444444444444, \"#bd3786\"], [0.5555555555555556, \"#d8576b\"], [0.6666666666666666, \"#ed7953\"], [0.7777777777777778, \"#fb9f3a\"], [0.8888888888888888, \"#fdca26\"], [1.0, \"#f0f921\"]], \"type\": \"histogram2dcontour\"}], \"mesh3d\": [{\"colorbar\": {\"outlinewidth\": 0, \"ticks\": \"\"}, \"type\": \"mesh3d\"}], \"parcoords\": [{\"line\": {\"colorbar\": {\"outlinewidth\": 0, \"ticks\": \"\"}}, \"type\": \"parcoords\"}], \"pie\": [{\"automargin\": true, \"type\": \"pie\"}], \"scatter\": [{\"marker\": {\"colorbar\": {\"outlinewidth\": 0, \"ticks\": \"\"}}, \"type\": \"scatter\"}], \"scatter3d\": [{\"line\": {\"colorbar\": {\"outlinewidth\": 0, \"ticks\": \"\"}}, \"marker\": {\"colorbar\": {\"outlinewidth\": 0, \"ticks\": \"\"}}, \"type\": \"scatter3d\"}], \"scattercarpet\": [{\"marker\": {\"colorbar\": {\"outlinewidth\": 0, \"ticks\": \"\"}}, \"type\": \"scattercarpet\"}], \"scattergeo\": [{\"marker\": {\"colorbar\": {\"outlinewidth\": 0, \"ticks\": \"\"}}, \"type\": \"scattergeo\"}], \"scattergl\": [{\"marker\": {\"colorbar\": {\"outlinewidth\": 0, \"ticks\": \"\"}}, \"type\": \"scattergl\"}], \"scattermapbox\": [{\"marker\": {\"colorbar\": {\"outlinewidth\": 0, \"ticks\": \"\"}}, \"type\": \"scattermapbox\"}], \"scatterpolar\": [{\"marker\": {\"colorbar\": {\"outlinewidth\": 0, \"ticks\": \"\"}}, \"type\": \"scatterpolar\"}], \"scatterpolargl\": [{\"marker\": {\"colorbar\": {\"outlinewidth\": 0, \"ticks\": \"\"}}, \"type\": \"scatterpolargl\"}], \"scatterternary\": [{\"marker\": {\"colorbar\": {\"outlinewidth\": 0, \"ticks\": \"\"}}, \"type\": \"scatterternary\"}], \"surface\": [{\"colorbar\": {\"outlinewidth\": 0, \"ticks\": \"\"}, \"colorscale\": [[0.0, \"#0d0887\"], [0.1111111111111111, \"#46039f\"], [0.2222222222222222, \"#7201a8\"], [0.3333333333333333, \"#9c179e\"], [0.4444444444444444, \"#bd3786\"], [0.5555555555555556, \"#d8576b\"], [0.6666666666666666, \"#ed7953\"], [0.7777777777777778, \"#fb9f3a\"], [0.8888888888888888, \"#fdca26\"], [1.0, \"#f0f921\"]], \"type\": \"surface\"}], \"table\": [{\"cells\": {\"fill\": {\"color\": \"#EBF0F8\"}, \"line\": {\"color\": \"white\"}}, \"header\": {\"fill\": {\"color\": \"#C8D4E3\"}, \"line\": {\"color\": \"white\"}}, \"type\": \"table\"}]}, \"layout\": {\"annotationdefaults\": {\"arrowcolor\": \"#2a3f5f\", \"arrowhead\": 0, \"arrowwidth\": 1}, \"coloraxis\": {\"colorbar\": {\"outlinewidth\": 0, \"ticks\": \"\"}}, \"colorscale\": {\"diverging\": [[0, \"#8e0152\"], [0.1, \"#c51b7d\"], [0.2, \"#de77ae\"], [0.3, \"#f1b6da\"], [0.4, \"#fde0ef\"], [0.5, \"#f7f7f7\"], [0.6, \"#e6f5d0\"], [0.7, \"#b8e186\"], [0.8, \"#7fbc41\"], [0.9, \"#4d9221\"], [1, \"#276419\"]], \"sequential\": [[0.0, \"#0d0887\"], [0.1111111111111111, \"#46039f\"], [0.2222222222222222, \"#7201a8\"], [0.3333333333333333, \"#9c179e\"], [0.4444444444444444, \"#bd3786\"], [0.5555555555555556, \"#d8576b\"], [0.6666666666666666, \"#ed7953\"], [0.7777777777777778, \"#fb9f3a\"], [0.8888888888888888, \"#fdca26\"], [1.0, \"#f0f921\"]], \"sequentialminus\": [[0.0, \"#0d0887\"], [0.1111111111111111, \"#46039f\"], [0.2222222222222222, \"#7201a8\"], [0.3333333333333333, \"#9c179e\"], [0.4444444444444444, \"#bd3786\"], [0.5555555555555556, \"#d8576b\"], [0.6666666666666666, \"#ed7953\"], [0.7777777777777778, \"#fb9f3a\"], [0.8888888888888888, \"#fdca26\"], [1.0, \"#f0f921\"]]}, \"colorway\": [\"#636efa\", \"#EF553B\", \"#00cc96\", \"#ab63fa\", \"#FFA15A\", \"#19d3f3\", \"#FF6692\", \"#B6E880\", \"#FF97FF\", \"#FECB52\"], \"font\": {\"color\": \"#2a3f5f\"}, \"geo\": {\"bgcolor\": \"white\", \"lakecolor\": \"white\", \"landcolor\": \"#E5ECF6\", \"showlakes\": true, \"showland\": true, \"subunitcolor\": \"white\"}, \"hoverlabel\": {\"align\": \"left\"}, \"hovermode\": \"closest\", \"mapbox\": {\"style\": \"light\"}, \"paper_bgcolor\": \"white\", \"plot_bgcolor\": \"#E5ECF6\", \"polar\": {\"angularaxis\": {\"gridcolor\": \"white\", \"linecolor\": \"white\", \"ticks\": \"\"}, \"bgcolor\": \"#E5ECF6\", \"radialaxis\": {\"gridcolor\": \"white\", \"linecolor\": \"white\", \"ticks\": \"\"}}, \"scene\": {\"xaxis\": {\"backgroundcolor\": \"#E5ECF6\", \"gridcolor\": \"white\", \"gridwidth\": 2, \"linecolor\": \"white\", \"showbackground\": true, \"ticks\": \"\", \"zerolinecolor\": \"white\"}, \"yaxis\": {\"backgroundcolor\": \"#E5ECF6\", \"gridcolor\": \"white\", \"gridwidth\": 2, \"linecolor\": \"white\", \"showbackground\": true, \"ticks\": \"\", \"zerolinecolor\": \"white\"}, \"zaxis\": {\"backgroundcolor\": \"#E5ECF6\", \"gridcolor\": \"white\", \"gridwidth\": 2, \"linecolor\": \"white\", \"showbackground\": true, \"ticks\": \"\", \"zerolinecolor\": \"white\"}}, \"shapedefaults\": {\"line\": {\"color\": \"#2a3f5f\"}}, \"ternary\": {\"aaxis\": {\"gridcolor\": \"white\", \"linecolor\": \"white\", \"ticks\": \"\"}, \"baxis\": {\"gridcolor\": \"white\", \"linecolor\": \"white\", \"ticks\": \"\"}, \"bgcolor\": \"#E5ECF6\", \"caxis\": {\"gridcolor\": \"white\", \"linecolor\": \"white\", \"ticks\": \"\"}}, \"title\": {\"x\": 0.05}, \"xaxis\": {\"automargin\": true, \"gridcolor\": \"white\", \"linecolor\": \"white\", \"ticks\": \"\", \"title\": {\"standoff\": 15}, \"zerolinecolor\": \"white\", \"zerolinewidth\": 2}, \"yaxis\": {\"automargin\": true, \"gridcolor\": \"white\", \"linecolor\": \"white\", \"ticks\": \"\", \"title\": {\"standoff\": 15}, \"zerolinecolor\": \"white\", \"zerolinewidth\": 2}}}},\n",
       "                        {\"responsive\": true}\n",
       "                    ).then(function(){\n",
       "                            \n",
       "var gd = document.getElementById('f949957f-1268-44ce-b48f-49ec4dda5100');\n",
       "var x = new MutationObserver(function (mutations, observer) {{\n",
       "        var display = window.getComputedStyle(gd).display;\n",
       "        if (!display || display === 'none') {{\n",
       "            console.log([gd, 'removed!']);\n",
       "            Plotly.purge(gd);\n",
       "            observer.disconnect();\n",
       "        }}\n",
       "}});\n",
       "\n",
       "// Listen for the removal of the full notebook cells\n",
       "var notebookContainer = gd.closest('#notebook-container');\n",
       "if (notebookContainer) {{\n",
       "    x.observe(notebookContainer, {childList: true});\n",
       "}}\n",
       "\n",
       "// Listen for the clearing of the current output cell\n",
       "var outputEl = gd.closest('.output');\n",
       "if (outputEl) {{\n",
       "    x.observe(outputEl, {childList: true});\n",
       "}}\n",
       "\n",
       "                        })\n",
       "                };\n",
       "                });\n",
       "            </script>\n",
       "        </div>"
      ]
     },
     "metadata": {},
     "output_type": "display_data"
    }
   ],
   "source": [
    "# ctrl = lambda x: (torch.zeros(1), torch.zeros(1), None)\n",
    "ctrl = controllers.get_optimal_controller(vf)\n",
    "\n",
    "x_traj_sim, t_traj_sim = controllers.sim_ctrl(x0, 1, pendulum.dx, ctrl, .1, 50)\n",
    "\n",
    "fig = go.Figure()\n",
    "for i in range(2):\n",
    "    fig.add_trace(go.Scatter(\n",
    "        x=t_traj_sim,\n",
    "        y=x_traj_sim[i,:]\n",
    "    ))\n",
    "fig.show()"
   ]
  },
  {
   "cell_type": "code",
   "execution_count": 14,
   "metadata": {},
   "outputs": [],
   "source": [
    "x0_lo = torch.Tensor([np.pi-1.5, -15.]).type(vf.dtype)\n",
    "x0_up = torch.Tensor([np.pi+1.5, 15.]).type(vf.dtype)\n",
    "\n",
    "# file options\n",
    "sys_name = 'pendulum'\n",
    "x_samples_file = '../data/validation_' + sys_name + '_x.pt'\n",
    "v_samples_file = '../data/validation_' + sys_name + '_v.pt'\n",
    "model_file = '../data/' + sys_name + '.pt'"
   ]
  },
  {
   "cell_type": "code",
   "execution_count": 15,
   "metadata": {},
   "outputs": [],
   "source": [
    "opt = dict(\n",
    "    max_buffer_size = 5,\n",
    "    batch_size = 5,\n",
    "    nn_width = 32,\n",
    "    nn_depth = 0,\n",
    "\n",
    "    init_num_samples = 5,\n",
    "    init_num_trainig_step = 100,\n",
    "    \n",
    "    num_generations = 100,\n",
    "    num_samples_per_generation = 5,\n",
    "    num_train_step_per_gen = 100,\n",
    "    \n",
    "    adv_max_iter = 5,\n",
    "    adv_conv_tol = 1e-5,\n",
    "    adv_learning_rate = .5,\n",
    "    \n",
    "    num_samples_validation = 500,\n",
    ")"
   ]
  },
  {
   "cell_type": "code",
   "execution_count": 16,
   "metadata": {},
   "outputs": [],
   "source": [
    "samples_buff = samples_buffer.SamplesBuffer(x0_lo.shape[0]*(vf.N-1), vf.N-1, vf.dtype, max_size=opt['max_buffer_size'])\n",
    "samples_gen = samples_generator.RandomSampleGenerator(vf, x0_lo, x0_up)\n",
    "vf_approx = value_approximation.InfiniteHorizonValueFunctionApproximation(x0_lo, x0_up, opt['nn_width'], opt['nn_depth'])\n",
    "train_log = training_log.TrainingLog(1, prefix=\"baseline\")"
   ]
  },
  {
   "cell_type": "code",
   "execution_count": 20,
   "metadata": {},
   "outputs": [],
   "source": [
    "x_samples_validation, v_labels_validation = samples_gen.generate_samples(opt['num_samples_validation'])"
   ]
  },
  {
   "cell_type": "code",
   "execution_count": 21,
   "metadata": {},
   "outputs": [],
   "source": [
    "torch.save(x_samples_validation, x_samples_file)\n",
    "torch.save(v_labels_validation, v_samples_file)"
   ]
  },
  {
   "cell_type": "code",
   "execution_count": 17,
   "metadata": {},
   "outputs": [],
   "source": [
    "x_samples_validation = torch.load(x_samples_file)\n",
    "v_labels_validation = torch.load(v_samples_file)"
   ]
  },
  {
   "cell_type": "code",
   "execution_count": 19,
   "metadata": {},
   "outputs": [],
   "source": [
    "(x_samples, v_labels) = samples_gen.generate_samples(opt['init_num_samples'])\n",
    "samples_buff.add_samples(x_samples, v_labels)"
   ]
  },
  {
   "cell_type": "code",
   "execution_count": 20,
   "metadata": {},
   "outputs": [],
   "source": [
    "for train_step_i in range(opt['init_num_trainig_step']):\n",
    "    x, v = samples_buff.get_random_samples(opt['batch_size'])\n",
    "    losses = vf_approx.train_step(x, v)\n",
    "    train_log.add_train_loss(losses)"
   ]
  },
  {
   "cell_type": "code",
   "execution_count": 21,
   "metadata": {},
   "outputs": [],
   "source": [
    "samples_buff_adv = copy.deepcopy(samples_buff)\n",
    "samples_gen_adv = samples_generator.AdversarialSampleGenerator(vf, x0_lo, x0_up, \n",
    "                                                               max_iter=opt['adv_max_iter'],\n",
    "                                                               conv_tol=opt['adv_conv_tol'],\n",
    "                                                               learning_rate=opt['adv_learning_rate'])\n",
    "vf_approx_adv = copy.deepcopy(vf_approx)\n",
    "train_log_adv = training_log.TrainingLog.get_copy(\n",
    "    train_log, prefix=\"adversarial\", keep_writer=True)"
   ]
  },
  {
   "cell_type": "code",
   "execution_count": 24,
   "metadata": {},
   "outputs": [],
   "source": [
    "validation_losses = vf_approx_adv.validation_loss(x_samples_validation, v_labels_validation)\n",
    "train_log_adv.add_validation_loss(validation_losses)\n",
    "validation_losses = vf_approx.validation_loss(x_samples_validation, v_labels_validation)\n",
    "train_log.add_validation_loss(validation_losses)\n",
    "for gen_i in range(opt['num_generations']):\n",
    "    # adverserial samples\n",
    "    (x_samples, v_labels) = samples_gen_adv.generate_samples(opt['num_samples_per_generation'], vf_approx_adv)\n",
    "    samples_buff_adv.add_samples(x_samples, v_labels)\n",
    "    # random samples\n",
    "    (x_samples, v_labels) = samples_gen.generate_samples(opt['num_samples_per_generation'])\n",
    "    samples_buff.add_samples(x_samples, v_labels)\n",
    "    for train_step_i in range(opt['num_train_step_per_gen']):\n",
    "        samples_indices = samples_buff_adv.get_random_sample_indices(opt['batch_size'])\n",
    "        x, v = samples_buff_adv.get_samples_from_indices(samples_indices)\n",
    "        losses = vf_approx_adv.train_step(x, v)\n",
    "        train_log_adv.add_train_loss(losses)\n",
    "        x, v = samples_buff.get_samples_from_indices(samples_indices)\n",
    "        losses = vf_approx.train_step(x, v)\n",
    "        train_log.add_train_loss(losses)\n",
    "    validation_losses = vf_approx_adv.validation_loss(x_samples_validation, v_labels_validation)\n",
    "    train_log_adv.add_validation_loss(validation_losses)\n",
    "    validation_losses = vf_approx.validation_loss(x_samples_validation, v_labels_validation)\n",
    "    train_log.add_validation_loss(validation_losses)"
   ]
  },
  {
   "cell_type": "code",
   "execution_count": 25,
   "metadata": {},
   "outputs": [],
   "source": [
    "# controller params\n",
    "dx = pendulum.dx\n",
    "step_cost = vf.step_cost\n",
    "u_min = torch.Tensor(vf.u_lo[0]).type(vf.dtype)\n",
    "u_max = torch.Tensor(vf.u_up[0]).type(vf.dtype)\n",
    "dt_ctrl = .2\n",
    "num_samples = 25\n",
    "\n",
    "# benchmark params\n",
    "x0 = torch.Tensor([np.pi, 0.]).type(vf.dtype)\n",
    "x0_eps = torch.Tensor([1.5, 15.]).type(vf.dtype)\n",
    "\n",
    "x_goal = torch.Tensor([np.pi, 0.]).type(vf.dtype)\n",
    "num_breaks = [10, 10]\n",
    "dt_sim = .1\n",
    "N = 40"
   ]
  },
  {
   "cell_type": "code",
   "execution_count": 26,
   "metadata": {},
   "outputs": [],
   "source": [
    "ctrl_adv = controllers.get_sampling_infinite_horizon_controller(dx, step_cost, vf_approx_adv.model, u_min, u_max, dt_ctrl, num_samples)\n",
    "bench_adv = controllers.benchmark_controller(u_min.shape[0], dx, ctrl_adv, x0, x0_eps, num_breaks, x_goal, dt_sim, N)"
   ]
  },
  {
   "cell_type": "code",
   "execution_count": 27,
   "metadata": {},
   "outputs": [],
   "source": [
    "ctrl_baseline = controllers.get_sampling_infinite_horizon_controller(dx, step_cost, vf_approx.model, u_min, u_max, dt_ctrl, num_samples)\n",
    "bench_baseline = controllers.benchmark_controller(u_min.shape[0], dx, ctrl_baseline, x0, x0_eps, num_breaks, x_goal, dt_sim, N)"
   ]
  },
  {
   "cell_type": "code",
   "execution_count": 28,
   "metadata": {},
   "outputs": [],
   "source": [
    "ctrl_lqr = controllers.get_lqr_controller(pendulum.dx, x0, torch.zeros(u_min.shape[0]).type(vf.dtype), vf.Q[0], vf.R[0], u_min, u_max)\n",
    "bench_lqr = controllers.benchmark_controller(u_min.shape[0], dx, ctrl_lqr, x0, x0_eps, num_breaks, x_goal, dt_sim, N)"
   ]
  },
  {
   "cell_type": "code",
   "execution_count": 29,
   "metadata": {
    "scrolled": false
   },
   "outputs": [
    {
     "name": "stdout",
     "output_type": "stream",
     "text": [
      "Baseline\n"
     ]
    },
    {
     "data": {
      "application/vnd.plotly.v1+json": {
       "config": {
        "plotlyServerURL": "https://plot.ly"
       },
       "data": [
        {
         "type": "heatmap",
         "z": [
          [
           2.201837462186017,
           8.235735988209559,
           0.2554708111138133,
           0.2729895218523836,
           0.8463933301049184,
           0.21065368914985946,
           0.2742622744897549,
           1.17621147375519,
           0.19015407913178126,
           0.19864861855198737
          ],
          [
           1.4316820740425658,
           8.318526262628993,
           0.3180667897564318,
           0.24673970036195275,
           0.4145121832333295,
           0.19940453508541084,
           0.17989320608970516,
           0.20730011542525992,
           0.16326395689022358,
           0.24023067171457332
          ],
          [
           1.4566871812150348,
           8.330783668396158,
           0.43005838382135053,
           0.2998522346926732,
           1.1918250672095656,
           0.18272367753609553,
           0.2175780483836402,
           0.21182342738379029,
           0.2121123024028599,
           0.26137580466757887
          ],
          [
           2.6067523834967377,
           8.384636682816003,
           0.2744463534113407,
           0.24391193644349363,
           0.2946048907459911,
           0.19806082668106015,
           1.6664793155330953,
           0.1974843793625143,
           0.1547706401977595,
           7.2283834238055285
          ],
          [
           3.236048268799643,
           8.415421984538716,
           0.5767752575162409,
           0.31981687637204015,
           0.16648257000752337,
           0.1376048430455305,
           0.39323489202385714,
           0.20753993311438623,
           0.2150082283268989,
           1.0245330546692903
          ],
          [
           6.503430684924372,
           8.31533821550586,
           0.26126700743627373,
           0.7740554280661014,
           0.24664518284642825,
           0.21930980802462888,
           0.1644498833579359,
           0.17196364112699367,
           0.2143329725191906,
           1.8742873205544581
          ],
          [
           6.837399102339854,
           8.348502862875334,
           0.3343064666363017,
           1.7218872661471272,
           0.23830540658315585,
           2.1457849411517724,
           0.16658212867884195,
           0.18722619991337158,
           0.23165071744299204,
           0.8363273060381626
          ],
          [
           8.217357035547577,
           0.3423802469548343,
           0.2930360636970194,
           0.27160441653048156,
           0.19323451353486523,
           1.843479366057374,
           0.18414502055103876,
           0.13388836340271404,
           0.14098916631618397,
           0.553768296179027
          ],
          [
           8.293583808686709,
           0.3240477769410223,
           0.256371674499208,
           0.31721797068551316,
           0.09950777634157834,
           1.0043401121255977,
           0.1744692766419192,
           0.22747774537198717,
           0.2183189079340876,
           0.48795455655928116
          ],
          [
           8.343198576605973,
           0.36834483654455585,
           0.9028192157971803,
           0.20085292904085839,
           0.17492405358279137,
           0.25161779828411357,
           0.18959713301904552,
           0.20358126829491066,
           0.22351288289789548,
           0.33438957065626007
          ]
         ],
         "zmax": 6,
         "zmin": 0
        }
       ],
       "layout": {
        "template": {
         "data": {
          "bar": [
           {
            "error_x": {
             "color": "#2a3f5f"
            },
            "error_y": {
             "color": "#2a3f5f"
            },
            "marker": {
             "line": {
              "color": "#E5ECF6",
              "width": 0.5
             }
            },
            "type": "bar"
           }
          ],
          "barpolar": [
           {
            "marker": {
             "line": {
              "color": "#E5ECF6",
              "width": 0.5
             }
            },
            "type": "barpolar"
           }
          ],
          "carpet": [
           {
            "aaxis": {
             "endlinecolor": "#2a3f5f",
             "gridcolor": "white",
             "linecolor": "white",
             "minorgridcolor": "white",
             "startlinecolor": "#2a3f5f"
            },
            "baxis": {
             "endlinecolor": "#2a3f5f",
             "gridcolor": "white",
             "linecolor": "white",
             "minorgridcolor": "white",
             "startlinecolor": "#2a3f5f"
            },
            "type": "carpet"
           }
          ],
          "choropleth": [
           {
            "colorbar": {
             "outlinewidth": 0,
             "ticks": ""
            },
            "type": "choropleth"
           }
          ],
          "contour": [
           {
            "colorbar": {
             "outlinewidth": 0,
             "ticks": ""
            },
            "colorscale": [
             [
              0,
              "#0d0887"
             ],
             [
              0.1111111111111111,
              "#46039f"
             ],
             [
              0.2222222222222222,
              "#7201a8"
             ],
             [
              0.3333333333333333,
              "#9c179e"
             ],
             [
              0.4444444444444444,
              "#bd3786"
             ],
             [
              0.5555555555555556,
              "#d8576b"
             ],
             [
              0.6666666666666666,
              "#ed7953"
             ],
             [
              0.7777777777777778,
              "#fb9f3a"
             ],
             [
              0.8888888888888888,
              "#fdca26"
             ],
             [
              1,
              "#f0f921"
             ]
            ],
            "type": "contour"
           }
          ],
          "contourcarpet": [
           {
            "colorbar": {
             "outlinewidth": 0,
             "ticks": ""
            },
            "type": "contourcarpet"
           }
          ],
          "heatmap": [
           {
            "colorbar": {
             "outlinewidth": 0,
             "ticks": ""
            },
            "colorscale": [
             [
              0,
              "#0d0887"
             ],
             [
              0.1111111111111111,
              "#46039f"
             ],
             [
              0.2222222222222222,
              "#7201a8"
             ],
             [
              0.3333333333333333,
              "#9c179e"
             ],
             [
              0.4444444444444444,
              "#bd3786"
             ],
             [
              0.5555555555555556,
              "#d8576b"
             ],
             [
              0.6666666666666666,
              "#ed7953"
             ],
             [
              0.7777777777777778,
              "#fb9f3a"
             ],
             [
              0.8888888888888888,
              "#fdca26"
             ],
             [
              1,
              "#f0f921"
             ]
            ],
            "type": "heatmap"
           }
          ],
          "heatmapgl": [
           {
            "colorbar": {
             "outlinewidth": 0,
             "ticks": ""
            },
            "colorscale": [
             [
              0,
              "#0d0887"
             ],
             [
              0.1111111111111111,
              "#46039f"
             ],
             [
              0.2222222222222222,
              "#7201a8"
             ],
             [
              0.3333333333333333,
              "#9c179e"
             ],
             [
              0.4444444444444444,
              "#bd3786"
             ],
             [
              0.5555555555555556,
              "#d8576b"
             ],
             [
              0.6666666666666666,
              "#ed7953"
             ],
             [
              0.7777777777777778,
              "#fb9f3a"
             ],
             [
              0.8888888888888888,
              "#fdca26"
             ],
             [
              1,
              "#f0f921"
             ]
            ],
            "type": "heatmapgl"
           }
          ],
          "histogram": [
           {
            "marker": {
             "colorbar": {
              "outlinewidth": 0,
              "ticks": ""
             }
            },
            "type": "histogram"
           }
          ],
          "histogram2d": [
           {
            "colorbar": {
             "outlinewidth": 0,
             "ticks": ""
            },
            "colorscale": [
             [
              0,
              "#0d0887"
             ],
             [
              0.1111111111111111,
              "#46039f"
             ],
             [
              0.2222222222222222,
              "#7201a8"
             ],
             [
              0.3333333333333333,
              "#9c179e"
             ],
             [
              0.4444444444444444,
              "#bd3786"
             ],
             [
              0.5555555555555556,
              "#d8576b"
             ],
             [
              0.6666666666666666,
              "#ed7953"
             ],
             [
              0.7777777777777778,
              "#fb9f3a"
             ],
             [
              0.8888888888888888,
              "#fdca26"
             ],
             [
              1,
              "#f0f921"
             ]
            ],
            "type": "histogram2d"
           }
          ],
          "histogram2dcontour": [
           {
            "colorbar": {
             "outlinewidth": 0,
             "ticks": ""
            },
            "colorscale": [
             [
              0,
              "#0d0887"
             ],
             [
              0.1111111111111111,
              "#46039f"
             ],
             [
              0.2222222222222222,
              "#7201a8"
             ],
             [
              0.3333333333333333,
              "#9c179e"
             ],
             [
              0.4444444444444444,
              "#bd3786"
             ],
             [
              0.5555555555555556,
              "#d8576b"
             ],
             [
              0.6666666666666666,
              "#ed7953"
             ],
             [
              0.7777777777777778,
              "#fb9f3a"
             ],
             [
              0.8888888888888888,
              "#fdca26"
             ],
             [
              1,
              "#f0f921"
             ]
            ],
            "type": "histogram2dcontour"
           }
          ],
          "mesh3d": [
           {
            "colorbar": {
             "outlinewidth": 0,
             "ticks": ""
            },
            "type": "mesh3d"
           }
          ],
          "parcoords": [
           {
            "line": {
             "colorbar": {
              "outlinewidth": 0,
              "ticks": ""
             }
            },
            "type": "parcoords"
           }
          ],
          "pie": [
           {
            "automargin": true,
            "type": "pie"
           }
          ],
          "scatter": [
           {
            "marker": {
             "colorbar": {
              "outlinewidth": 0,
              "ticks": ""
             }
            },
            "type": "scatter"
           }
          ],
          "scatter3d": [
           {
            "line": {
             "colorbar": {
              "outlinewidth": 0,
              "ticks": ""
             }
            },
            "marker": {
             "colorbar": {
              "outlinewidth": 0,
              "ticks": ""
             }
            },
            "type": "scatter3d"
           }
          ],
          "scattercarpet": [
           {
            "marker": {
             "colorbar": {
              "outlinewidth": 0,
              "ticks": ""
             }
            },
            "type": "scattercarpet"
           }
          ],
          "scattergeo": [
           {
            "marker": {
             "colorbar": {
              "outlinewidth": 0,
              "ticks": ""
             }
            },
            "type": "scattergeo"
           }
          ],
          "scattergl": [
           {
            "marker": {
             "colorbar": {
              "outlinewidth": 0,
              "ticks": ""
             }
            },
            "type": "scattergl"
           }
          ],
          "scattermapbox": [
           {
            "marker": {
             "colorbar": {
              "outlinewidth": 0,
              "ticks": ""
             }
            },
            "type": "scattermapbox"
           }
          ],
          "scatterpolar": [
           {
            "marker": {
             "colorbar": {
              "outlinewidth": 0,
              "ticks": ""
             }
            },
            "type": "scatterpolar"
           }
          ],
          "scatterpolargl": [
           {
            "marker": {
             "colorbar": {
              "outlinewidth": 0,
              "ticks": ""
             }
            },
            "type": "scatterpolargl"
           }
          ],
          "scatterternary": [
           {
            "marker": {
             "colorbar": {
              "outlinewidth": 0,
              "ticks": ""
             }
            },
            "type": "scatterternary"
           }
          ],
          "surface": [
           {
            "colorbar": {
             "outlinewidth": 0,
             "ticks": ""
            },
            "colorscale": [
             [
              0,
              "#0d0887"
             ],
             [
              0.1111111111111111,
              "#46039f"
             ],
             [
              0.2222222222222222,
              "#7201a8"
             ],
             [
              0.3333333333333333,
              "#9c179e"
             ],
             [
              0.4444444444444444,
              "#bd3786"
             ],
             [
              0.5555555555555556,
              "#d8576b"
             ],
             [
              0.6666666666666666,
              "#ed7953"
             ],
             [
              0.7777777777777778,
              "#fb9f3a"
             ],
             [
              0.8888888888888888,
              "#fdca26"
             ],
             [
              1,
              "#f0f921"
             ]
            ],
            "type": "surface"
           }
          ],
          "table": [
           {
            "cells": {
             "fill": {
              "color": "#EBF0F8"
             },
             "line": {
              "color": "white"
             }
            },
            "header": {
             "fill": {
              "color": "#C8D4E3"
             },
             "line": {
              "color": "white"
             }
            },
            "type": "table"
           }
          ]
         },
         "layout": {
          "annotationdefaults": {
           "arrowcolor": "#2a3f5f",
           "arrowhead": 0,
           "arrowwidth": 1
          },
          "coloraxis": {
           "colorbar": {
            "outlinewidth": 0,
            "ticks": ""
           }
          },
          "colorscale": {
           "diverging": [
            [
             0,
             "#8e0152"
            ],
            [
             0.1,
             "#c51b7d"
            ],
            [
             0.2,
             "#de77ae"
            ],
            [
             0.3,
             "#f1b6da"
            ],
            [
             0.4,
             "#fde0ef"
            ],
            [
             0.5,
             "#f7f7f7"
            ],
            [
             0.6,
             "#e6f5d0"
            ],
            [
             0.7,
             "#b8e186"
            ],
            [
             0.8,
             "#7fbc41"
            ],
            [
             0.9,
             "#4d9221"
            ],
            [
             1,
             "#276419"
            ]
           ],
           "sequential": [
            [
             0,
             "#0d0887"
            ],
            [
             0.1111111111111111,
             "#46039f"
            ],
            [
             0.2222222222222222,
             "#7201a8"
            ],
            [
             0.3333333333333333,
             "#9c179e"
            ],
            [
             0.4444444444444444,
             "#bd3786"
            ],
            [
             0.5555555555555556,
             "#d8576b"
            ],
            [
             0.6666666666666666,
             "#ed7953"
            ],
            [
             0.7777777777777778,
             "#fb9f3a"
            ],
            [
             0.8888888888888888,
             "#fdca26"
            ],
            [
             1,
             "#f0f921"
            ]
           ],
           "sequentialminus": [
            [
             0,
             "#0d0887"
            ],
            [
             0.1111111111111111,
             "#46039f"
            ],
            [
             0.2222222222222222,
             "#7201a8"
            ],
            [
             0.3333333333333333,
             "#9c179e"
            ],
            [
             0.4444444444444444,
             "#bd3786"
            ],
            [
             0.5555555555555556,
             "#d8576b"
            ],
            [
             0.6666666666666666,
             "#ed7953"
            ],
            [
             0.7777777777777778,
             "#fb9f3a"
            ],
            [
             0.8888888888888888,
             "#fdca26"
            ],
            [
             1,
             "#f0f921"
            ]
           ]
          },
          "colorway": [
           "#636efa",
           "#EF553B",
           "#00cc96",
           "#ab63fa",
           "#FFA15A",
           "#19d3f3",
           "#FF6692",
           "#B6E880",
           "#FF97FF",
           "#FECB52"
          ],
          "font": {
           "color": "#2a3f5f"
          },
          "geo": {
           "bgcolor": "white",
           "lakecolor": "white",
           "landcolor": "#E5ECF6",
           "showlakes": true,
           "showland": true,
           "subunitcolor": "white"
          },
          "hoverlabel": {
           "align": "left"
          },
          "hovermode": "closest",
          "mapbox": {
           "style": "light"
          },
          "paper_bgcolor": "white",
          "plot_bgcolor": "#E5ECF6",
          "polar": {
           "angularaxis": {
            "gridcolor": "white",
            "linecolor": "white",
            "ticks": ""
           },
           "bgcolor": "#E5ECF6",
           "radialaxis": {
            "gridcolor": "white",
            "linecolor": "white",
            "ticks": ""
           }
          },
          "scene": {
           "xaxis": {
            "backgroundcolor": "#E5ECF6",
            "gridcolor": "white",
            "gridwidth": 2,
            "linecolor": "white",
            "showbackground": true,
            "ticks": "",
            "zerolinecolor": "white"
           },
           "yaxis": {
            "backgroundcolor": "#E5ECF6",
            "gridcolor": "white",
            "gridwidth": 2,
            "linecolor": "white",
            "showbackground": true,
            "ticks": "",
            "zerolinecolor": "white"
           },
           "zaxis": {
            "backgroundcolor": "#E5ECF6",
            "gridcolor": "white",
            "gridwidth": 2,
            "linecolor": "white",
            "showbackground": true,
            "ticks": "",
            "zerolinecolor": "white"
           }
          },
          "shapedefaults": {
           "line": {
            "color": "#2a3f5f"
           }
          },
          "ternary": {
           "aaxis": {
            "gridcolor": "white",
            "linecolor": "white",
            "ticks": ""
           },
           "baxis": {
            "gridcolor": "white",
            "linecolor": "white",
            "ticks": ""
           },
           "bgcolor": "#E5ECF6",
           "caxis": {
            "gridcolor": "white",
            "linecolor": "white",
            "ticks": ""
           }
          },
          "title": {
           "x": 0.05
          },
          "xaxis": {
           "automargin": true,
           "gridcolor": "white",
           "linecolor": "white",
           "ticks": "",
           "title": {
            "standoff": 15
           },
           "zerolinecolor": "white",
           "zerolinewidth": 2
          },
          "yaxis": {
           "automargin": true,
           "gridcolor": "white",
           "linecolor": "white",
           "ticks": "",
           "title": {
            "standoff": 15
           },
           "zerolinecolor": "white",
           "zerolinewidth": 2
          }
         }
        }
       }
      },
      "text/html": [
       "<div>\n",
       "        \n",
       "        \n",
       "            <div id=\"1ea5c1ff-0e39-4a77-a668-4863679ada41\" class=\"plotly-graph-div\" style=\"height:525px; width:100%;\"></div>\n",
       "            <script type=\"text/javascript\">\n",
       "                require([\"plotly\"], function(Plotly) {\n",
       "                    window.PLOTLYENV=window.PLOTLYENV || {};\n",
       "                    \n",
       "                if (document.getElementById(\"1ea5c1ff-0e39-4a77-a668-4863679ada41\")) {\n",
       "                    Plotly.newPlot(\n",
       "                        '1ea5c1ff-0e39-4a77-a668-4863679ada41',\n",
       "                        [{\"type\": \"heatmap\", \"z\": [[2.201837462186017, 8.235735988209559, 0.2554708111138133, 0.2729895218523836, 0.8463933301049184, 0.21065368914985946, 0.2742622744897549, 1.17621147375519, 0.19015407913178126, 0.19864861855198737], [1.4316820740425658, 8.318526262628993, 0.3180667897564318, 0.24673970036195275, 0.4145121832333295, 0.19940453508541084, 0.17989320608970516, 0.20730011542525992, 0.16326395689022358, 0.24023067171457332], [1.4566871812150348, 8.330783668396158, 0.43005838382135053, 0.2998522346926732, 1.1918250672095656, 0.18272367753609553, 0.2175780483836402, 0.21182342738379029, 0.2121123024028599, 0.26137580466757887], [2.6067523834967377, 8.384636682816003, 0.2744463534113407, 0.24391193644349363, 0.2946048907459911, 0.19806082668106015, 1.6664793155330953, 0.1974843793625143, 0.1547706401977595, 7.2283834238055285], [3.236048268799643, 8.415421984538716, 0.5767752575162409, 0.31981687637204015, 0.16648257000752337, 0.1376048430455305, 0.39323489202385714, 0.20753993311438623, 0.2150082283268989, 1.0245330546692903], [6.503430684924372, 8.31533821550586, 0.26126700743627373, 0.7740554280661014, 0.24664518284642825, 0.21930980802462888, 0.1644498833579359, 0.17196364112699367, 0.2143329725191906, 1.8742873205544581], [6.837399102339854, 8.348502862875334, 0.3343064666363017, 1.7218872661471272, 0.23830540658315585, 2.1457849411517724, 0.16658212867884195, 0.18722619991337158, 0.23165071744299204, 0.8363273060381626], [8.217357035547577, 0.3423802469548343, 0.2930360636970194, 0.27160441653048156, 0.19323451353486523, 1.843479366057374, 0.18414502055103876, 0.13388836340271404, 0.14098916631618397, 0.553768296179027], [8.293583808686709, 0.3240477769410223, 0.256371674499208, 0.31721797068551316, 0.09950777634157834, 1.0043401121255977, 0.1744692766419192, 0.22747774537198717, 0.2183189079340876, 0.48795455655928116], [8.343198576605973, 0.36834483654455585, 0.9028192157971803, 0.20085292904085839, 0.17492405358279137, 0.25161779828411357, 0.18959713301904552, 0.20358126829491066, 0.22351288289789548, 0.33438957065626007]], \"zmax\": 6.0, \"zmin\": 0.0}],\n",
       "                        {\"template\": {\"data\": {\"bar\": [{\"error_x\": {\"color\": \"#2a3f5f\"}, \"error_y\": {\"color\": \"#2a3f5f\"}, \"marker\": {\"line\": {\"color\": \"#E5ECF6\", \"width\": 0.5}}, \"type\": \"bar\"}], \"barpolar\": [{\"marker\": {\"line\": {\"color\": \"#E5ECF6\", \"width\": 0.5}}, \"type\": \"barpolar\"}], \"carpet\": [{\"aaxis\": {\"endlinecolor\": \"#2a3f5f\", \"gridcolor\": \"white\", \"linecolor\": \"white\", \"minorgridcolor\": \"white\", \"startlinecolor\": \"#2a3f5f\"}, \"baxis\": {\"endlinecolor\": \"#2a3f5f\", \"gridcolor\": \"white\", \"linecolor\": \"white\", \"minorgridcolor\": \"white\", \"startlinecolor\": \"#2a3f5f\"}, \"type\": \"carpet\"}], \"choropleth\": [{\"colorbar\": {\"outlinewidth\": 0, \"ticks\": \"\"}, \"type\": \"choropleth\"}], \"contour\": [{\"colorbar\": {\"outlinewidth\": 0, \"ticks\": \"\"}, \"colorscale\": [[0.0, \"#0d0887\"], [0.1111111111111111, \"#46039f\"], [0.2222222222222222, \"#7201a8\"], [0.3333333333333333, \"#9c179e\"], [0.4444444444444444, \"#bd3786\"], [0.5555555555555556, \"#d8576b\"], [0.6666666666666666, \"#ed7953\"], [0.7777777777777778, \"#fb9f3a\"], [0.8888888888888888, \"#fdca26\"], [1.0, \"#f0f921\"]], \"type\": \"contour\"}], \"contourcarpet\": [{\"colorbar\": {\"outlinewidth\": 0, \"ticks\": \"\"}, \"type\": \"contourcarpet\"}], \"heatmap\": [{\"colorbar\": {\"outlinewidth\": 0, \"ticks\": \"\"}, \"colorscale\": [[0.0, \"#0d0887\"], [0.1111111111111111, \"#46039f\"], [0.2222222222222222, \"#7201a8\"], [0.3333333333333333, \"#9c179e\"], [0.4444444444444444, \"#bd3786\"], [0.5555555555555556, \"#d8576b\"], [0.6666666666666666, \"#ed7953\"], [0.7777777777777778, \"#fb9f3a\"], [0.8888888888888888, \"#fdca26\"], [1.0, \"#f0f921\"]], \"type\": \"heatmap\"}], \"heatmapgl\": [{\"colorbar\": {\"outlinewidth\": 0, \"ticks\": \"\"}, \"colorscale\": [[0.0, \"#0d0887\"], [0.1111111111111111, \"#46039f\"], [0.2222222222222222, \"#7201a8\"], [0.3333333333333333, \"#9c179e\"], [0.4444444444444444, \"#bd3786\"], [0.5555555555555556, \"#d8576b\"], [0.6666666666666666, \"#ed7953\"], [0.7777777777777778, \"#fb9f3a\"], [0.8888888888888888, \"#fdca26\"], [1.0, \"#f0f921\"]], \"type\": \"heatmapgl\"}], \"histogram\": [{\"marker\": {\"colorbar\": {\"outlinewidth\": 0, \"ticks\": \"\"}}, \"type\": \"histogram\"}], \"histogram2d\": [{\"colorbar\": {\"outlinewidth\": 0, \"ticks\": \"\"}, \"colorscale\": [[0.0, \"#0d0887\"], [0.1111111111111111, \"#46039f\"], [0.2222222222222222, \"#7201a8\"], [0.3333333333333333, \"#9c179e\"], [0.4444444444444444, \"#bd3786\"], [0.5555555555555556, \"#d8576b\"], [0.6666666666666666, \"#ed7953\"], [0.7777777777777778, \"#fb9f3a\"], [0.8888888888888888, \"#fdca26\"], [1.0, \"#f0f921\"]], \"type\": \"histogram2d\"}], \"histogram2dcontour\": [{\"colorbar\": {\"outlinewidth\": 0, \"ticks\": \"\"}, \"colorscale\": [[0.0, \"#0d0887\"], [0.1111111111111111, \"#46039f\"], [0.2222222222222222, \"#7201a8\"], [0.3333333333333333, \"#9c179e\"], [0.4444444444444444, \"#bd3786\"], [0.5555555555555556, \"#d8576b\"], [0.6666666666666666, \"#ed7953\"], [0.7777777777777778, \"#fb9f3a\"], [0.8888888888888888, \"#fdca26\"], [1.0, \"#f0f921\"]], \"type\": \"histogram2dcontour\"}], \"mesh3d\": [{\"colorbar\": {\"outlinewidth\": 0, \"ticks\": \"\"}, \"type\": \"mesh3d\"}], \"parcoords\": [{\"line\": {\"colorbar\": {\"outlinewidth\": 0, \"ticks\": \"\"}}, \"type\": \"parcoords\"}], \"pie\": [{\"automargin\": true, \"type\": \"pie\"}], \"scatter\": [{\"marker\": {\"colorbar\": {\"outlinewidth\": 0, \"ticks\": \"\"}}, \"type\": \"scatter\"}], \"scatter3d\": [{\"line\": {\"colorbar\": {\"outlinewidth\": 0, \"ticks\": \"\"}}, \"marker\": {\"colorbar\": {\"outlinewidth\": 0, \"ticks\": \"\"}}, \"type\": \"scatter3d\"}], \"scattercarpet\": [{\"marker\": {\"colorbar\": {\"outlinewidth\": 0, \"ticks\": \"\"}}, \"type\": \"scattercarpet\"}], \"scattergeo\": [{\"marker\": {\"colorbar\": {\"outlinewidth\": 0, \"ticks\": \"\"}}, \"type\": \"scattergeo\"}], \"scattergl\": [{\"marker\": {\"colorbar\": {\"outlinewidth\": 0, \"ticks\": \"\"}}, \"type\": \"scattergl\"}], \"scattermapbox\": [{\"marker\": {\"colorbar\": {\"outlinewidth\": 0, \"ticks\": \"\"}}, \"type\": \"scattermapbox\"}], \"scatterpolar\": [{\"marker\": {\"colorbar\": {\"outlinewidth\": 0, \"ticks\": \"\"}}, \"type\": \"scatterpolar\"}], \"scatterpolargl\": [{\"marker\": {\"colorbar\": {\"outlinewidth\": 0, \"ticks\": \"\"}}, \"type\": \"scatterpolargl\"}], \"scatterternary\": [{\"marker\": {\"colorbar\": {\"outlinewidth\": 0, \"ticks\": \"\"}}, \"type\": \"scatterternary\"}], \"surface\": [{\"colorbar\": {\"outlinewidth\": 0, \"ticks\": \"\"}, \"colorscale\": [[0.0, \"#0d0887\"], [0.1111111111111111, \"#46039f\"], [0.2222222222222222, \"#7201a8\"], [0.3333333333333333, \"#9c179e\"], [0.4444444444444444, \"#bd3786\"], [0.5555555555555556, \"#d8576b\"], [0.6666666666666666, \"#ed7953\"], [0.7777777777777778, \"#fb9f3a\"], [0.8888888888888888, \"#fdca26\"], [1.0, \"#f0f921\"]], \"type\": \"surface\"}], \"table\": [{\"cells\": {\"fill\": {\"color\": \"#EBF0F8\"}, \"line\": {\"color\": \"white\"}}, \"header\": {\"fill\": {\"color\": \"#C8D4E3\"}, \"line\": {\"color\": \"white\"}}, \"type\": \"table\"}]}, \"layout\": {\"annotationdefaults\": {\"arrowcolor\": \"#2a3f5f\", \"arrowhead\": 0, \"arrowwidth\": 1}, \"coloraxis\": {\"colorbar\": {\"outlinewidth\": 0, \"ticks\": \"\"}}, \"colorscale\": {\"diverging\": [[0, \"#8e0152\"], [0.1, \"#c51b7d\"], [0.2, \"#de77ae\"], [0.3, \"#f1b6da\"], [0.4, \"#fde0ef\"], [0.5, \"#f7f7f7\"], [0.6, \"#e6f5d0\"], [0.7, \"#b8e186\"], [0.8, \"#7fbc41\"], [0.9, \"#4d9221\"], [1, \"#276419\"]], \"sequential\": [[0.0, \"#0d0887\"], [0.1111111111111111, \"#46039f\"], [0.2222222222222222, \"#7201a8\"], [0.3333333333333333, \"#9c179e\"], [0.4444444444444444, \"#bd3786\"], [0.5555555555555556, \"#d8576b\"], [0.6666666666666666, \"#ed7953\"], [0.7777777777777778, \"#fb9f3a\"], [0.8888888888888888, \"#fdca26\"], [1.0, \"#f0f921\"]], \"sequentialminus\": [[0.0, \"#0d0887\"], [0.1111111111111111, \"#46039f\"], [0.2222222222222222, \"#7201a8\"], [0.3333333333333333, \"#9c179e\"], [0.4444444444444444, \"#bd3786\"], [0.5555555555555556, \"#d8576b\"], [0.6666666666666666, \"#ed7953\"], [0.7777777777777778, \"#fb9f3a\"], [0.8888888888888888, \"#fdca26\"], [1.0, \"#f0f921\"]]}, \"colorway\": [\"#636efa\", \"#EF553B\", \"#00cc96\", \"#ab63fa\", \"#FFA15A\", \"#19d3f3\", \"#FF6692\", \"#B6E880\", \"#FF97FF\", \"#FECB52\"], \"font\": {\"color\": \"#2a3f5f\"}, \"geo\": {\"bgcolor\": \"white\", \"lakecolor\": \"white\", \"landcolor\": \"#E5ECF6\", \"showlakes\": true, \"showland\": true, \"subunitcolor\": \"white\"}, \"hoverlabel\": {\"align\": \"left\"}, \"hovermode\": \"closest\", \"mapbox\": {\"style\": \"light\"}, \"paper_bgcolor\": \"white\", \"plot_bgcolor\": \"#E5ECF6\", \"polar\": {\"angularaxis\": {\"gridcolor\": \"white\", \"linecolor\": \"white\", \"ticks\": \"\"}, \"bgcolor\": \"#E5ECF6\", \"radialaxis\": {\"gridcolor\": \"white\", \"linecolor\": \"white\", \"ticks\": \"\"}}, \"scene\": {\"xaxis\": {\"backgroundcolor\": \"#E5ECF6\", \"gridcolor\": \"white\", \"gridwidth\": 2, \"linecolor\": \"white\", \"showbackground\": true, \"ticks\": \"\", \"zerolinecolor\": \"white\"}, \"yaxis\": {\"backgroundcolor\": \"#E5ECF6\", \"gridcolor\": \"white\", \"gridwidth\": 2, \"linecolor\": \"white\", \"showbackground\": true, \"ticks\": \"\", \"zerolinecolor\": \"white\"}, \"zaxis\": {\"backgroundcolor\": \"#E5ECF6\", \"gridcolor\": \"white\", \"gridwidth\": 2, \"linecolor\": \"white\", \"showbackground\": true, \"ticks\": \"\", \"zerolinecolor\": \"white\"}}, \"shapedefaults\": {\"line\": {\"color\": \"#2a3f5f\"}}, \"ternary\": {\"aaxis\": {\"gridcolor\": \"white\", \"linecolor\": \"white\", \"ticks\": \"\"}, \"baxis\": {\"gridcolor\": \"white\", \"linecolor\": \"white\", \"ticks\": \"\"}, \"bgcolor\": \"#E5ECF6\", \"caxis\": {\"gridcolor\": \"white\", \"linecolor\": \"white\", \"ticks\": \"\"}}, \"title\": {\"x\": 0.05}, \"xaxis\": {\"automargin\": true, \"gridcolor\": \"white\", \"linecolor\": \"white\", \"ticks\": \"\", \"title\": {\"standoff\": 15}, \"zerolinecolor\": \"white\", \"zerolinewidth\": 2}, \"yaxis\": {\"automargin\": true, \"gridcolor\": \"white\", \"linecolor\": \"white\", \"ticks\": \"\", \"title\": {\"standoff\": 15}, \"zerolinecolor\": \"white\", \"zerolinewidth\": 2}}}},\n",
       "                        {\"responsive\": true}\n",
       "                    ).then(function(){\n",
       "                            \n",
       "var gd = document.getElementById('1ea5c1ff-0e39-4a77-a668-4863679ada41');\n",
       "var x = new MutationObserver(function (mutations, observer) {{\n",
       "        var display = window.getComputedStyle(gd).display;\n",
       "        if (!display || display === 'none') {{\n",
       "            console.log([gd, 'removed!']);\n",
       "            Plotly.purge(gd);\n",
       "            observer.disconnect();\n",
       "        }}\n",
       "}});\n",
       "\n",
       "// Listen for the removal of the full notebook cells\n",
       "var notebookContainer = gd.closest('#notebook-container');\n",
       "if (notebookContainer) {{\n",
       "    x.observe(notebookContainer, {childList: true});\n",
       "}}\n",
       "\n",
       "// Listen for the clearing of the current output cell\n",
       "var outputEl = gd.closest('.output');\n",
       "if (outputEl) {{\n",
       "    x.observe(outputEl, {childList: true});\n",
       "}}\n",
       "\n",
       "                        })\n",
       "                };\n",
       "                });\n",
       "            </script>\n",
       "        </div>"
      ]
     },
     "metadata": {},
     "output_type": "display_data"
    },
    {
     "name": "stdout",
     "output_type": "stream",
     "text": [
      "Adversarial\n"
     ]
    },
    {
     "data": {
      "application/vnd.plotly.v1+json": {
       "config": {
        "plotlyServerURL": "https://plot.ly"
       },
       "data": [
        {
         "type": "heatmap",
         "z": [
          [
           7.354964310894158,
           0.483154124793249,
           0.25348118132332953,
           0.19233362447746497,
           1.5007933811804661,
           0.43628606553852967,
           0.35012463919914777,
           2.29050124635433,
           0.4467085352754219,
           0.5032442031048396
          ],
          [
           7.964905790501881,
           0.34622698879979624,
           0.29921079134729517,
           0.3455746475700867,
           1.0513077209703612,
           0.5009622206455451,
           0.3317089889576005,
           0.37205260545479224,
           0.3516122920496523,
           0.48967876911523794
          ],
          [
           7.945421383505931,
           0.35589170285895516,
           0.46700945371895175,
           0.2906305030730061,
           1.9049735376875667,
           0.464545490687313,
           0.3289279021189353,
           0.3774582709932711,
           0.35328754473170054,
           0.5579022187696224
          ],
          [
           7.607831252251239,
           0.3696757544069163,
           0.5768964991804847,
           0.3178764953676012,
           0.474726383557343,
           0.4940592869055597,
           0.36769031102556954,
           0.38241964339587725,
           0.35757129365413076,
           7.122833527753829
          ],
          [
           7.4284623270115,
           0.4968731543899183,
           0.6074056925870871,
           0.21791272599841988,
           0.45113963722215716,
           0.36638458510113575,
           0.3146100076160354,
           0.2703576397561664,
           0.35222633909589396,
           4.075102935420826
          ],
          [
           7.838022407840615,
           0.29984264894052315,
           0.2895694280007274,
           0.2676595978937368,
           0.4741972497867252,
           0.29210876647472284,
           0.32779359271770325,
           0.3589612328252092,
           0.3589169079235755,
           1.6754794091402363
          ],
          [
           7.479209383176508,
           0.32887118631824497,
           0.3306209105548967,
           0.46464014718492563,
           0.35448031626795445,
           0.3141354987032019,
           0.3393173556853745,
           0.3457168629288463,
           0.39235999383824066,
           0.9126779354546577
          ],
          [
           7.934838428568318,
           0.4717607200944448,
           0.3184544416122351,
           0.4710021785582223,
           0.38128903445216455,
           0.3682887839412757,
           0.33377571143076123,
           0.3159240918003709,
           0.38077613385708126,
           0.534972685896876
          ],
          [
           0.22536796470149797,
           0.3266688469226861,
           0.34937273236830824,
           0.4707395400712851,
           0.3640626999426022,
           0.3884375128017301,
           0.3664086386938775,
           0.36789709504522294,
           0.333538671950045,
           0.834706428484589
          ],
          [
           0.3332616974089234,
           0.35580658882554167,
           1.5564558315814503,
           0.5043278742602084,
           0.3815358385525639,
           0.359200774777794,
           0.3286050971977129,
           0.3724424716478252,
           0.3024472609851313,
           0.29816964584889033
          ]
         ],
         "zmax": 6,
         "zmin": 0
        }
       ],
       "layout": {
        "template": {
         "data": {
          "bar": [
           {
            "error_x": {
             "color": "#2a3f5f"
            },
            "error_y": {
             "color": "#2a3f5f"
            },
            "marker": {
             "line": {
              "color": "#E5ECF6",
              "width": 0.5
             }
            },
            "type": "bar"
           }
          ],
          "barpolar": [
           {
            "marker": {
             "line": {
              "color": "#E5ECF6",
              "width": 0.5
             }
            },
            "type": "barpolar"
           }
          ],
          "carpet": [
           {
            "aaxis": {
             "endlinecolor": "#2a3f5f",
             "gridcolor": "white",
             "linecolor": "white",
             "minorgridcolor": "white",
             "startlinecolor": "#2a3f5f"
            },
            "baxis": {
             "endlinecolor": "#2a3f5f",
             "gridcolor": "white",
             "linecolor": "white",
             "minorgridcolor": "white",
             "startlinecolor": "#2a3f5f"
            },
            "type": "carpet"
           }
          ],
          "choropleth": [
           {
            "colorbar": {
             "outlinewidth": 0,
             "ticks": ""
            },
            "type": "choropleth"
           }
          ],
          "contour": [
           {
            "colorbar": {
             "outlinewidth": 0,
             "ticks": ""
            },
            "colorscale": [
             [
              0,
              "#0d0887"
             ],
             [
              0.1111111111111111,
              "#46039f"
             ],
             [
              0.2222222222222222,
              "#7201a8"
             ],
             [
              0.3333333333333333,
              "#9c179e"
             ],
             [
              0.4444444444444444,
              "#bd3786"
             ],
             [
              0.5555555555555556,
              "#d8576b"
             ],
             [
              0.6666666666666666,
              "#ed7953"
             ],
             [
              0.7777777777777778,
              "#fb9f3a"
             ],
             [
              0.8888888888888888,
              "#fdca26"
             ],
             [
              1,
              "#f0f921"
             ]
            ],
            "type": "contour"
           }
          ],
          "contourcarpet": [
           {
            "colorbar": {
             "outlinewidth": 0,
             "ticks": ""
            },
            "type": "contourcarpet"
           }
          ],
          "heatmap": [
           {
            "colorbar": {
             "outlinewidth": 0,
             "ticks": ""
            },
            "colorscale": [
             [
              0,
              "#0d0887"
             ],
             [
              0.1111111111111111,
              "#46039f"
             ],
             [
              0.2222222222222222,
              "#7201a8"
             ],
             [
              0.3333333333333333,
              "#9c179e"
             ],
             [
              0.4444444444444444,
              "#bd3786"
             ],
             [
              0.5555555555555556,
              "#d8576b"
             ],
             [
              0.6666666666666666,
              "#ed7953"
             ],
             [
              0.7777777777777778,
              "#fb9f3a"
             ],
             [
              0.8888888888888888,
              "#fdca26"
             ],
             [
              1,
              "#f0f921"
             ]
            ],
            "type": "heatmap"
           }
          ],
          "heatmapgl": [
           {
            "colorbar": {
             "outlinewidth": 0,
             "ticks": ""
            },
            "colorscale": [
             [
              0,
              "#0d0887"
             ],
             [
              0.1111111111111111,
              "#46039f"
             ],
             [
              0.2222222222222222,
              "#7201a8"
             ],
             [
              0.3333333333333333,
              "#9c179e"
             ],
             [
              0.4444444444444444,
              "#bd3786"
             ],
             [
              0.5555555555555556,
              "#d8576b"
             ],
             [
              0.6666666666666666,
              "#ed7953"
             ],
             [
              0.7777777777777778,
              "#fb9f3a"
             ],
             [
              0.8888888888888888,
              "#fdca26"
             ],
             [
              1,
              "#f0f921"
             ]
            ],
            "type": "heatmapgl"
           }
          ],
          "histogram": [
           {
            "marker": {
             "colorbar": {
              "outlinewidth": 0,
              "ticks": ""
             }
            },
            "type": "histogram"
           }
          ],
          "histogram2d": [
           {
            "colorbar": {
             "outlinewidth": 0,
             "ticks": ""
            },
            "colorscale": [
             [
              0,
              "#0d0887"
             ],
             [
              0.1111111111111111,
              "#46039f"
             ],
             [
              0.2222222222222222,
              "#7201a8"
             ],
             [
              0.3333333333333333,
              "#9c179e"
             ],
             [
              0.4444444444444444,
              "#bd3786"
             ],
             [
              0.5555555555555556,
              "#d8576b"
             ],
             [
              0.6666666666666666,
              "#ed7953"
             ],
             [
              0.7777777777777778,
              "#fb9f3a"
             ],
             [
              0.8888888888888888,
              "#fdca26"
             ],
             [
              1,
              "#f0f921"
             ]
            ],
            "type": "histogram2d"
           }
          ],
          "histogram2dcontour": [
           {
            "colorbar": {
             "outlinewidth": 0,
             "ticks": ""
            },
            "colorscale": [
             [
              0,
              "#0d0887"
             ],
             [
              0.1111111111111111,
              "#46039f"
             ],
             [
              0.2222222222222222,
              "#7201a8"
             ],
             [
              0.3333333333333333,
              "#9c179e"
             ],
             [
              0.4444444444444444,
              "#bd3786"
             ],
             [
              0.5555555555555556,
              "#d8576b"
             ],
             [
              0.6666666666666666,
              "#ed7953"
             ],
             [
              0.7777777777777778,
              "#fb9f3a"
             ],
             [
              0.8888888888888888,
              "#fdca26"
             ],
             [
              1,
              "#f0f921"
             ]
            ],
            "type": "histogram2dcontour"
           }
          ],
          "mesh3d": [
           {
            "colorbar": {
             "outlinewidth": 0,
             "ticks": ""
            },
            "type": "mesh3d"
           }
          ],
          "parcoords": [
           {
            "line": {
             "colorbar": {
              "outlinewidth": 0,
              "ticks": ""
             }
            },
            "type": "parcoords"
           }
          ],
          "pie": [
           {
            "automargin": true,
            "type": "pie"
           }
          ],
          "scatter": [
           {
            "marker": {
             "colorbar": {
              "outlinewidth": 0,
              "ticks": ""
             }
            },
            "type": "scatter"
           }
          ],
          "scatter3d": [
           {
            "line": {
             "colorbar": {
              "outlinewidth": 0,
              "ticks": ""
             }
            },
            "marker": {
             "colorbar": {
              "outlinewidth": 0,
              "ticks": ""
             }
            },
            "type": "scatter3d"
           }
          ],
          "scattercarpet": [
           {
            "marker": {
             "colorbar": {
              "outlinewidth": 0,
              "ticks": ""
             }
            },
            "type": "scattercarpet"
           }
          ],
          "scattergeo": [
           {
            "marker": {
             "colorbar": {
              "outlinewidth": 0,
              "ticks": ""
             }
            },
            "type": "scattergeo"
           }
          ],
          "scattergl": [
           {
            "marker": {
             "colorbar": {
              "outlinewidth": 0,
              "ticks": ""
             }
            },
            "type": "scattergl"
           }
          ],
          "scattermapbox": [
           {
            "marker": {
             "colorbar": {
              "outlinewidth": 0,
              "ticks": ""
             }
            },
            "type": "scattermapbox"
           }
          ],
          "scatterpolar": [
           {
            "marker": {
             "colorbar": {
              "outlinewidth": 0,
              "ticks": ""
             }
            },
            "type": "scatterpolar"
           }
          ],
          "scatterpolargl": [
           {
            "marker": {
             "colorbar": {
              "outlinewidth": 0,
              "ticks": ""
             }
            },
            "type": "scatterpolargl"
           }
          ],
          "scatterternary": [
           {
            "marker": {
             "colorbar": {
              "outlinewidth": 0,
              "ticks": ""
             }
            },
            "type": "scatterternary"
           }
          ],
          "surface": [
           {
            "colorbar": {
             "outlinewidth": 0,
             "ticks": ""
            },
            "colorscale": [
             [
              0,
              "#0d0887"
             ],
             [
              0.1111111111111111,
              "#46039f"
             ],
             [
              0.2222222222222222,
              "#7201a8"
             ],
             [
              0.3333333333333333,
              "#9c179e"
             ],
             [
              0.4444444444444444,
              "#bd3786"
             ],
             [
              0.5555555555555556,
              "#d8576b"
             ],
             [
              0.6666666666666666,
              "#ed7953"
             ],
             [
              0.7777777777777778,
              "#fb9f3a"
             ],
             [
              0.8888888888888888,
              "#fdca26"
             ],
             [
              1,
              "#f0f921"
             ]
            ],
            "type": "surface"
           }
          ],
          "table": [
           {
            "cells": {
             "fill": {
              "color": "#EBF0F8"
             },
             "line": {
              "color": "white"
             }
            },
            "header": {
             "fill": {
              "color": "#C8D4E3"
             },
             "line": {
              "color": "white"
             }
            },
            "type": "table"
           }
          ]
         },
         "layout": {
          "annotationdefaults": {
           "arrowcolor": "#2a3f5f",
           "arrowhead": 0,
           "arrowwidth": 1
          },
          "coloraxis": {
           "colorbar": {
            "outlinewidth": 0,
            "ticks": ""
           }
          },
          "colorscale": {
           "diverging": [
            [
             0,
             "#8e0152"
            ],
            [
             0.1,
             "#c51b7d"
            ],
            [
             0.2,
             "#de77ae"
            ],
            [
             0.3,
             "#f1b6da"
            ],
            [
             0.4,
             "#fde0ef"
            ],
            [
             0.5,
             "#f7f7f7"
            ],
            [
             0.6,
             "#e6f5d0"
            ],
            [
             0.7,
             "#b8e186"
            ],
            [
             0.8,
             "#7fbc41"
            ],
            [
             0.9,
             "#4d9221"
            ],
            [
             1,
             "#276419"
            ]
           ],
           "sequential": [
            [
             0,
             "#0d0887"
            ],
            [
             0.1111111111111111,
             "#46039f"
            ],
            [
             0.2222222222222222,
             "#7201a8"
            ],
            [
             0.3333333333333333,
             "#9c179e"
            ],
            [
             0.4444444444444444,
             "#bd3786"
            ],
            [
             0.5555555555555556,
             "#d8576b"
            ],
            [
             0.6666666666666666,
             "#ed7953"
            ],
            [
             0.7777777777777778,
             "#fb9f3a"
            ],
            [
             0.8888888888888888,
             "#fdca26"
            ],
            [
             1,
             "#f0f921"
            ]
           ],
           "sequentialminus": [
            [
             0,
             "#0d0887"
            ],
            [
             0.1111111111111111,
             "#46039f"
            ],
            [
             0.2222222222222222,
             "#7201a8"
            ],
            [
             0.3333333333333333,
             "#9c179e"
            ],
            [
             0.4444444444444444,
             "#bd3786"
            ],
            [
             0.5555555555555556,
             "#d8576b"
            ],
            [
             0.6666666666666666,
             "#ed7953"
            ],
            [
             0.7777777777777778,
             "#fb9f3a"
            ],
            [
             0.8888888888888888,
             "#fdca26"
            ],
            [
             1,
             "#f0f921"
            ]
           ]
          },
          "colorway": [
           "#636efa",
           "#EF553B",
           "#00cc96",
           "#ab63fa",
           "#FFA15A",
           "#19d3f3",
           "#FF6692",
           "#B6E880",
           "#FF97FF",
           "#FECB52"
          ],
          "font": {
           "color": "#2a3f5f"
          },
          "geo": {
           "bgcolor": "white",
           "lakecolor": "white",
           "landcolor": "#E5ECF6",
           "showlakes": true,
           "showland": true,
           "subunitcolor": "white"
          },
          "hoverlabel": {
           "align": "left"
          },
          "hovermode": "closest",
          "mapbox": {
           "style": "light"
          },
          "paper_bgcolor": "white",
          "plot_bgcolor": "#E5ECF6",
          "polar": {
           "angularaxis": {
            "gridcolor": "white",
            "linecolor": "white",
            "ticks": ""
           },
           "bgcolor": "#E5ECF6",
           "radialaxis": {
            "gridcolor": "white",
            "linecolor": "white",
            "ticks": ""
           }
          },
          "scene": {
           "xaxis": {
            "backgroundcolor": "#E5ECF6",
            "gridcolor": "white",
            "gridwidth": 2,
            "linecolor": "white",
            "showbackground": true,
            "ticks": "",
            "zerolinecolor": "white"
           },
           "yaxis": {
            "backgroundcolor": "#E5ECF6",
            "gridcolor": "white",
            "gridwidth": 2,
            "linecolor": "white",
            "showbackground": true,
            "ticks": "",
            "zerolinecolor": "white"
           },
           "zaxis": {
            "backgroundcolor": "#E5ECF6",
            "gridcolor": "white",
            "gridwidth": 2,
            "linecolor": "white",
            "showbackground": true,
            "ticks": "",
            "zerolinecolor": "white"
           }
          },
          "shapedefaults": {
           "line": {
            "color": "#2a3f5f"
           }
          },
          "ternary": {
           "aaxis": {
            "gridcolor": "white",
            "linecolor": "white",
            "ticks": ""
           },
           "baxis": {
            "gridcolor": "white",
            "linecolor": "white",
            "ticks": ""
           },
           "bgcolor": "#E5ECF6",
           "caxis": {
            "gridcolor": "white",
            "linecolor": "white",
            "ticks": ""
           }
          },
          "title": {
           "x": 0.05
          },
          "xaxis": {
           "automargin": true,
           "gridcolor": "white",
           "linecolor": "white",
           "ticks": "",
           "title": {
            "standoff": 15
           },
           "zerolinecolor": "white",
           "zerolinewidth": 2
          },
          "yaxis": {
           "automargin": true,
           "gridcolor": "white",
           "linecolor": "white",
           "ticks": "",
           "title": {
            "standoff": 15
           },
           "zerolinecolor": "white",
           "zerolinewidth": 2
          }
         }
        }
       }
      },
      "text/html": [
       "<div>\n",
       "        \n",
       "        \n",
       "            <div id=\"406a9c14-8a35-4a05-b893-a1513ec7220f\" class=\"plotly-graph-div\" style=\"height:525px; width:100%;\"></div>\n",
       "            <script type=\"text/javascript\">\n",
       "                require([\"plotly\"], function(Plotly) {\n",
       "                    window.PLOTLYENV=window.PLOTLYENV || {};\n",
       "                    \n",
       "                if (document.getElementById(\"406a9c14-8a35-4a05-b893-a1513ec7220f\")) {\n",
       "                    Plotly.newPlot(\n",
       "                        '406a9c14-8a35-4a05-b893-a1513ec7220f',\n",
       "                        [{\"type\": \"heatmap\", \"z\": [[7.354964310894158, 0.483154124793249, 0.25348118132332953, 0.19233362447746497, 1.5007933811804661, 0.43628606553852967, 0.35012463919914777, 2.29050124635433, 0.4467085352754219, 0.5032442031048396], [7.964905790501881, 0.34622698879979624, 0.29921079134729517, 0.3455746475700867, 1.0513077209703612, 0.5009622206455451, 0.3317089889576005, 0.37205260545479224, 0.3516122920496523, 0.48967876911523794], [7.945421383505931, 0.35589170285895516, 0.46700945371895175, 0.2906305030730061, 1.9049735376875667, 0.464545490687313, 0.3289279021189353, 0.3774582709932711, 0.35328754473170054, 0.5579022187696224], [7.607831252251239, 0.3696757544069163, 0.5768964991804847, 0.3178764953676012, 0.474726383557343, 0.4940592869055597, 0.36769031102556954, 0.38241964339587725, 0.35757129365413076, 7.122833527753829], [7.4284623270115, 0.4968731543899183, 0.6074056925870871, 0.21791272599841988, 0.45113963722215716, 0.36638458510113575, 0.3146100076160354, 0.2703576397561664, 0.35222633909589396, 4.075102935420826], [7.838022407840615, 0.29984264894052315, 0.2895694280007274, 0.2676595978937368, 0.4741972497867252, 0.29210876647472284, 0.32779359271770325, 0.3589612328252092, 0.3589169079235755, 1.6754794091402363], [7.479209383176508, 0.32887118631824497, 0.3306209105548967, 0.46464014718492563, 0.35448031626795445, 0.3141354987032019, 0.3393173556853745, 0.3457168629288463, 0.39235999383824066, 0.9126779354546577], [7.934838428568318, 0.4717607200944448, 0.3184544416122351, 0.4710021785582223, 0.38128903445216455, 0.3682887839412757, 0.33377571143076123, 0.3159240918003709, 0.38077613385708126, 0.534972685896876], [0.22536796470149797, 0.3266688469226861, 0.34937273236830824, 0.4707395400712851, 0.3640626999426022, 0.3884375128017301, 0.3664086386938775, 0.36789709504522294, 0.333538671950045, 0.834706428484589], [0.3332616974089234, 0.35580658882554167, 1.5564558315814503, 0.5043278742602084, 0.3815358385525639, 0.359200774777794, 0.3286050971977129, 0.3724424716478252, 0.3024472609851313, 0.29816964584889033]], \"zmax\": 6.0, \"zmin\": 0.0}],\n",
       "                        {\"template\": {\"data\": {\"bar\": [{\"error_x\": {\"color\": \"#2a3f5f\"}, \"error_y\": {\"color\": \"#2a3f5f\"}, \"marker\": {\"line\": {\"color\": \"#E5ECF6\", \"width\": 0.5}}, \"type\": \"bar\"}], \"barpolar\": [{\"marker\": {\"line\": {\"color\": \"#E5ECF6\", \"width\": 0.5}}, \"type\": \"barpolar\"}], \"carpet\": [{\"aaxis\": {\"endlinecolor\": \"#2a3f5f\", \"gridcolor\": \"white\", \"linecolor\": \"white\", \"minorgridcolor\": \"white\", \"startlinecolor\": \"#2a3f5f\"}, \"baxis\": {\"endlinecolor\": \"#2a3f5f\", \"gridcolor\": \"white\", \"linecolor\": \"white\", \"minorgridcolor\": \"white\", \"startlinecolor\": \"#2a3f5f\"}, \"type\": \"carpet\"}], \"choropleth\": [{\"colorbar\": {\"outlinewidth\": 0, \"ticks\": \"\"}, \"type\": \"choropleth\"}], \"contour\": [{\"colorbar\": {\"outlinewidth\": 0, \"ticks\": \"\"}, \"colorscale\": [[0.0, \"#0d0887\"], [0.1111111111111111, \"#46039f\"], [0.2222222222222222, \"#7201a8\"], [0.3333333333333333, \"#9c179e\"], [0.4444444444444444, \"#bd3786\"], [0.5555555555555556, \"#d8576b\"], [0.6666666666666666, \"#ed7953\"], [0.7777777777777778, \"#fb9f3a\"], [0.8888888888888888, \"#fdca26\"], [1.0, \"#f0f921\"]], \"type\": \"contour\"}], \"contourcarpet\": [{\"colorbar\": {\"outlinewidth\": 0, \"ticks\": \"\"}, \"type\": \"contourcarpet\"}], \"heatmap\": [{\"colorbar\": {\"outlinewidth\": 0, \"ticks\": \"\"}, \"colorscale\": [[0.0, \"#0d0887\"], [0.1111111111111111, \"#46039f\"], [0.2222222222222222, \"#7201a8\"], [0.3333333333333333, \"#9c179e\"], [0.4444444444444444, \"#bd3786\"], [0.5555555555555556, \"#d8576b\"], [0.6666666666666666, \"#ed7953\"], [0.7777777777777778, \"#fb9f3a\"], [0.8888888888888888, \"#fdca26\"], [1.0, \"#f0f921\"]], \"type\": \"heatmap\"}], \"heatmapgl\": [{\"colorbar\": {\"outlinewidth\": 0, \"ticks\": \"\"}, \"colorscale\": [[0.0, \"#0d0887\"], [0.1111111111111111, \"#46039f\"], [0.2222222222222222, \"#7201a8\"], [0.3333333333333333, \"#9c179e\"], [0.4444444444444444, \"#bd3786\"], [0.5555555555555556, \"#d8576b\"], [0.6666666666666666, \"#ed7953\"], [0.7777777777777778, \"#fb9f3a\"], [0.8888888888888888, \"#fdca26\"], [1.0, \"#f0f921\"]], \"type\": \"heatmapgl\"}], \"histogram\": [{\"marker\": {\"colorbar\": {\"outlinewidth\": 0, \"ticks\": \"\"}}, \"type\": \"histogram\"}], \"histogram2d\": [{\"colorbar\": {\"outlinewidth\": 0, \"ticks\": \"\"}, \"colorscale\": [[0.0, \"#0d0887\"], [0.1111111111111111, \"#46039f\"], [0.2222222222222222, \"#7201a8\"], [0.3333333333333333, \"#9c179e\"], [0.4444444444444444, \"#bd3786\"], [0.5555555555555556, \"#d8576b\"], [0.6666666666666666, \"#ed7953\"], [0.7777777777777778, \"#fb9f3a\"], [0.8888888888888888, \"#fdca26\"], [1.0, \"#f0f921\"]], \"type\": \"histogram2d\"}], \"histogram2dcontour\": [{\"colorbar\": {\"outlinewidth\": 0, \"ticks\": \"\"}, \"colorscale\": [[0.0, \"#0d0887\"], [0.1111111111111111, \"#46039f\"], [0.2222222222222222, \"#7201a8\"], [0.3333333333333333, \"#9c179e\"], [0.4444444444444444, \"#bd3786\"], [0.5555555555555556, \"#d8576b\"], [0.6666666666666666, \"#ed7953\"], [0.7777777777777778, \"#fb9f3a\"], [0.8888888888888888, \"#fdca26\"], [1.0, \"#f0f921\"]], \"type\": \"histogram2dcontour\"}], \"mesh3d\": [{\"colorbar\": {\"outlinewidth\": 0, \"ticks\": \"\"}, \"type\": \"mesh3d\"}], \"parcoords\": [{\"line\": {\"colorbar\": {\"outlinewidth\": 0, \"ticks\": \"\"}}, \"type\": \"parcoords\"}], \"pie\": [{\"automargin\": true, \"type\": \"pie\"}], \"scatter\": [{\"marker\": {\"colorbar\": {\"outlinewidth\": 0, \"ticks\": \"\"}}, \"type\": \"scatter\"}], \"scatter3d\": [{\"line\": {\"colorbar\": {\"outlinewidth\": 0, \"ticks\": \"\"}}, \"marker\": {\"colorbar\": {\"outlinewidth\": 0, \"ticks\": \"\"}}, \"type\": \"scatter3d\"}], \"scattercarpet\": [{\"marker\": {\"colorbar\": {\"outlinewidth\": 0, \"ticks\": \"\"}}, \"type\": \"scattercarpet\"}], \"scattergeo\": [{\"marker\": {\"colorbar\": {\"outlinewidth\": 0, \"ticks\": \"\"}}, \"type\": \"scattergeo\"}], \"scattergl\": [{\"marker\": {\"colorbar\": {\"outlinewidth\": 0, \"ticks\": \"\"}}, \"type\": \"scattergl\"}], \"scattermapbox\": [{\"marker\": {\"colorbar\": {\"outlinewidth\": 0, \"ticks\": \"\"}}, \"type\": \"scattermapbox\"}], \"scatterpolar\": [{\"marker\": {\"colorbar\": {\"outlinewidth\": 0, \"ticks\": \"\"}}, \"type\": \"scatterpolar\"}], \"scatterpolargl\": [{\"marker\": {\"colorbar\": {\"outlinewidth\": 0, \"ticks\": \"\"}}, \"type\": \"scatterpolargl\"}], \"scatterternary\": [{\"marker\": {\"colorbar\": {\"outlinewidth\": 0, \"ticks\": \"\"}}, \"type\": \"scatterternary\"}], \"surface\": [{\"colorbar\": {\"outlinewidth\": 0, \"ticks\": \"\"}, \"colorscale\": [[0.0, \"#0d0887\"], [0.1111111111111111, \"#46039f\"], [0.2222222222222222, \"#7201a8\"], [0.3333333333333333, \"#9c179e\"], [0.4444444444444444, \"#bd3786\"], [0.5555555555555556, \"#d8576b\"], [0.6666666666666666, \"#ed7953\"], [0.7777777777777778, \"#fb9f3a\"], [0.8888888888888888, \"#fdca26\"], [1.0, \"#f0f921\"]], \"type\": \"surface\"}], \"table\": [{\"cells\": {\"fill\": {\"color\": \"#EBF0F8\"}, \"line\": {\"color\": \"white\"}}, \"header\": {\"fill\": {\"color\": \"#C8D4E3\"}, \"line\": {\"color\": \"white\"}}, \"type\": \"table\"}]}, \"layout\": {\"annotationdefaults\": {\"arrowcolor\": \"#2a3f5f\", \"arrowhead\": 0, \"arrowwidth\": 1}, \"coloraxis\": {\"colorbar\": {\"outlinewidth\": 0, \"ticks\": \"\"}}, \"colorscale\": {\"diverging\": [[0, \"#8e0152\"], [0.1, \"#c51b7d\"], [0.2, \"#de77ae\"], [0.3, \"#f1b6da\"], [0.4, \"#fde0ef\"], [0.5, \"#f7f7f7\"], [0.6, \"#e6f5d0\"], [0.7, \"#b8e186\"], [0.8, \"#7fbc41\"], [0.9, \"#4d9221\"], [1, \"#276419\"]], \"sequential\": [[0.0, \"#0d0887\"], [0.1111111111111111, \"#46039f\"], [0.2222222222222222, \"#7201a8\"], [0.3333333333333333, \"#9c179e\"], [0.4444444444444444, \"#bd3786\"], [0.5555555555555556, \"#d8576b\"], [0.6666666666666666, \"#ed7953\"], [0.7777777777777778, \"#fb9f3a\"], [0.8888888888888888, \"#fdca26\"], [1.0, \"#f0f921\"]], \"sequentialminus\": [[0.0, \"#0d0887\"], [0.1111111111111111, \"#46039f\"], [0.2222222222222222, \"#7201a8\"], [0.3333333333333333, \"#9c179e\"], [0.4444444444444444, \"#bd3786\"], [0.5555555555555556, \"#d8576b\"], [0.6666666666666666, \"#ed7953\"], [0.7777777777777778, \"#fb9f3a\"], [0.8888888888888888, \"#fdca26\"], [1.0, \"#f0f921\"]]}, \"colorway\": [\"#636efa\", \"#EF553B\", \"#00cc96\", \"#ab63fa\", \"#FFA15A\", \"#19d3f3\", \"#FF6692\", \"#B6E880\", \"#FF97FF\", \"#FECB52\"], \"font\": {\"color\": \"#2a3f5f\"}, \"geo\": {\"bgcolor\": \"white\", \"lakecolor\": \"white\", \"landcolor\": \"#E5ECF6\", \"showlakes\": true, \"showland\": true, \"subunitcolor\": \"white\"}, \"hoverlabel\": {\"align\": \"left\"}, \"hovermode\": \"closest\", \"mapbox\": {\"style\": \"light\"}, \"paper_bgcolor\": \"white\", \"plot_bgcolor\": \"#E5ECF6\", \"polar\": {\"angularaxis\": {\"gridcolor\": \"white\", \"linecolor\": \"white\", \"ticks\": \"\"}, \"bgcolor\": \"#E5ECF6\", \"radialaxis\": {\"gridcolor\": \"white\", \"linecolor\": \"white\", \"ticks\": \"\"}}, \"scene\": {\"xaxis\": {\"backgroundcolor\": \"#E5ECF6\", \"gridcolor\": \"white\", \"gridwidth\": 2, \"linecolor\": \"white\", \"showbackground\": true, \"ticks\": \"\", \"zerolinecolor\": \"white\"}, \"yaxis\": {\"backgroundcolor\": \"#E5ECF6\", \"gridcolor\": \"white\", \"gridwidth\": 2, \"linecolor\": \"white\", \"showbackground\": true, \"ticks\": \"\", \"zerolinecolor\": \"white\"}, \"zaxis\": {\"backgroundcolor\": \"#E5ECF6\", \"gridcolor\": \"white\", \"gridwidth\": 2, \"linecolor\": \"white\", \"showbackground\": true, \"ticks\": \"\", \"zerolinecolor\": \"white\"}}, \"shapedefaults\": {\"line\": {\"color\": \"#2a3f5f\"}}, \"ternary\": {\"aaxis\": {\"gridcolor\": \"white\", \"linecolor\": \"white\", \"ticks\": \"\"}, \"baxis\": {\"gridcolor\": \"white\", \"linecolor\": \"white\", \"ticks\": \"\"}, \"bgcolor\": \"#E5ECF6\", \"caxis\": {\"gridcolor\": \"white\", \"linecolor\": \"white\", \"ticks\": \"\"}}, \"title\": {\"x\": 0.05}, \"xaxis\": {\"automargin\": true, \"gridcolor\": \"white\", \"linecolor\": \"white\", \"ticks\": \"\", \"title\": {\"standoff\": 15}, \"zerolinecolor\": \"white\", \"zerolinewidth\": 2}, \"yaxis\": {\"automargin\": true, \"gridcolor\": \"white\", \"linecolor\": \"white\", \"ticks\": \"\", \"title\": {\"standoff\": 15}, \"zerolinecolor\": \"white\", \"zerolinewidth\": 2}}}},\n",
       "                        {\"responsive\": true}\n",
       "                    ).then(function(){\n",
       "                            \n",
       "var gd = document.getElementById('406a9c14-8a35-4a05-b893-a1513ec7220f');\n",
       "var x = new MutationObserver(function (mutations, observer) {{\n",
       "        var display = window.getComputedStyle(gd).display;\n",
       "        if (!display || display === 'none') {{\n",
       "            console.log([gd, 'removed!']);\n",
       "            Plotly.purge(gd);\n",
       "            observer.disconnect();\n",
       "        }}\n",
       "}});\n",
       "\n",
       "// Listen for the removal of the full notebook cells\n",
       "var notebookContainer = gd.closest('#notebook-container');\n",
       "if (notebookContainer) {{\n",
       "    x.observe(notebookContainer, {childList: true});\n",
       "}}\n",
       "\n",
       "// Listen for the clearing of the current output cell\n",
       "var outputEl = gd.closest('.output');\n",
       "if (outputEl) {{\n",
       "    x.observe(outputEl, {childList: true});\n",
       "}}\n",
       "\n",
       "                        })\n",
       "                };\n",
       "                });\n",
       "            </script>\n",
       "        </div>"
      ]
     },
     "metadata": {},
     "output_type": "display_data"
    },
    {
     "name": "stdout",
     "output_type": "stream",
     "text": [
      "LQR\n"
     ]
    },
    {
     "data": {
      "application/vnd.plotly.v1+json": {
       "config": {
        "plotlyServerURL": "https://plot.ly"
       },
       "data": [
        {
         "type": "heatmap",
         "z": [
          [
           0.09280484259637889,
           0.0008441403727324837,
           0.0005935230213221582,
           0.001203279254766916,
           0.04058128831392177,
           4.265342892643719e-05,
           1.2907684823034786e-05,
           0.0009051353505484562,
           0.002133454801011865,
           0.0017451085630271282
          ],
          [
           0.1642010811934261,
           0.0009187820700145005,
           0.0007149356534360319,
           0.0016290117224895208,
           0.18411540229425866,
           2.1261839417280665e-05,
           7.727836088289059e-06,
           0.030094278552734423,
           0.0015518822905927665,
           0.0019790517443477144
          ],
          [
           0.057735693975380024,
           0.0009649723481897586,
           0.0008101588410498283,
           0.002370738785056735,
           1.2951818833843798,
           1.1823643891918618e-05,
           4.03170827269536e-06,
           0.005334202104799071,
           0.001302273939394337,
           0.002662623944418555
          ],
          [
           0.10623240513566014,
           0.0009801989474661876,
           0.0009959557756819347,
           0.0039985901314148415,
           0.0001110851432429637,
           5.438022571909253e-06,
           0.0001546563511208512,
           0.0025760664860072844,
           0.001088093102042205,
           0.04804071576345591
          ],
          [
           1.9626362007231877,
           0.0009988045146394453,
           0.0012180082670073757,
           0.010010341261151879,
           1.4774765392724082e-05,
           1.5817845807648149e-06,
           0.10252955395581737,
           0.0016282645173731087,
           0.0010330360130660474,
           9.170236765650035
          ],
          [
           9.170195907137902,
           0.0010328278623739234,
           0.0016279257536060915,
           0.10252983863174762,
           1.9203884700476902e-06,
           1.4483294742526437e-05,
           0.010010438240506443,
           0.0012182728171534845,
           0.0009992077926226043,
           1.9625427514769378
          ],
          [
           0.04804365238352639,
           0.0010882502476387073,
           0.0025757490776055114,
           0.00015487956405420432,
           5.1954384160225496e-06,
           0.00011144477951070413,
           0.003998861000561495,
           0.0009956531504117774,
           0.000980420602232317,
           0.10632498232018751
          ],
          [
           0.0026627923565085243,
           0.0013020476148244027,
           0.0053343827189103596,
           4.2307220390251814e-06,
           1.2141424030172477e-05,
           1.2951816457033896,
           0.002370597044457585,
           0.0008105461104582663,
           0.0009653568294987793,
           0.0577375114293559
          ],
          [
           0.0019788170708323555,
           0.0015519325061411312,
           0.03009433799182648,
           8.09247951881806e-06,
           2.0887679541950293e-05,
           0.1841152030775222,
           0.0016286795215619447,
           0.0007147221183637355,
           0.0009190881364622075,
           0.1642195918826246
          ],
          [
           0.001744827249431497,
           0.0021332702317253863,
           0.0009048292361764391,
           1.2730074710350237e-05,
           4.245264183603654e-05,
           0.04058118867034258,
           0.0012036826271548497,
           0.0005939181112322833,
           0.0008439170478238742,
           0.09282816887505199
          ]
         ],
         "zmax": 6,
         "zmin": 0
        }
       ],
       "layout": {
        "template": {
         "data": {
          "bar": [
           {
            "error_x": {
             "color": "#2a3f5f"
            },
            "error_y": {
             "color": "#2a3f5f"
            },
            "marker": {
             "line": {
              "color": "#E5ECF6",
              "width": 0.5
             }
            },
            "type": "bar"
           }
          ],
          "barpolar": [
           {
            "marker": {
             "line": {
              "color": "#E5ECF6",
              "width": 0.5
             }
            },
            "type": "barpolar"
           }
          ],
          "carpet": [
           {
            "aaxis": {
             "endlinecolor": "#2a3f5f",
             "gridcolor": "white",
             "linecolor": "white",
             "minorgridcolor": "white",
             "startlinecolor": "#2a3f5f"
            },
            "baxis": {
             "endlinecolor": "#2a3f5f",
             "gridcolor": "white",
             "linecolor": "white",
             "minorgridcolor": "white",
             "startlinecolor": "#2a3f5f"
            },
            "type": "carpet"
           }
          ],
          "choropleth": [
           {
            "colorbar": {
             "outlinewidth": 0,
             "ticks": ""
            },
            "type": "choropleth"
           }
          ],
          "contour": [
           {
            "colorbar": {
             "outlinewidth": 0,
             "ticks": ""
            },
            "colorscale": [
             [
              0,
              "#0d0887"
             ],
             [
              0.1111111111111111,
              "#46039f"
             ],
             [
              0.2222222222222222,
              "#7201a8"
             ],
             [
              0.3333333333333333,
              "#9c179e"
             ],
             [
              0.4444444444444444,
              "#bd3786"
             ],
             [
              0.5555555555555556,
              "#d8576b"
             ],
             [
              0.6666666666666666,
              "#ed7953"
             ],
             [
              0.7777777777777778,
              "#fb9f3a"
             ],
             [
              0.8888888888888888,
              "#fdca26"
             ],
             [
              1,
              "#f0f921"
             ]
            ],
            "type": "contour"
           }
          ],
          "contourcarpet": [
           {
            "colorbar": {
             "outlinewidth": 0,
             "ticks": ""
            },
            "type": "contourcarpet"
           }
          ],
          "heatmap": [
           {
            "colorbar": {
             "outlinewidth": 0,
             "ticks": ""
            },
            "colorscale": [
             [
              0,
              "#0d0887"
             ],
             [
              0.1111111111111111,
              "#46039f"
             ],
             [
              0.2222222222222222,
              "#7201a8"
             ],
             [
              0.3333333333333333,
              "#9c179e"
             ],
             [
              0.4444444444444444,
              "#bd3786"
             ],
             [
              0.5555555555555556,
              "#d8576b"
             ],
             [
              0.6666666666666666,
              "#ed7953"
             ],
             [
              0.7777777777777778,
              "#fb9f3a"
             ],
             [
              0.8888888888888888,
              "#fdca26"
             ],
             [
              1,
              "#f0f921"
             ]
            ],
            "type": "heatmap"
           }
          ],
          "heatmapgl": [
           {
            "colorbar": {
             "outlinewidth": 0,
             "ticks": ""
            },
            "colorscale": [
             [
              0,
              "#0d0887"
             ],
             [
              0.1111111111111111,
              "#46039f"
             ],
             [
              0.2222222222222222,
              "#7201a8"
             ],
             [
              0.3333333333333333,
              "#9c179e"
             ],
             [
              0.4444444444444444,
              "#bd3786"
             ],
             [
              0.5555555555555556,
              "#d8576b"
             ],
             [
              0.6666666666666666,
              "#ed7953"
             ],
             [
              0.7777777777777778,
              "#fb9f3a"
             ],
             [
              0.8888888888888888,
              "#fdca26"
             ],
             [
              1,
              "#f0f921"
             ]
            ],
            "type": "heatmapgl"
           }
          ],
          "histogram": [
           {
            "marker": {
             "colorbar": {
              "outlinewidth": 0,
              "ticks": ""
             }
            },
            "type": "histogram"
           }
          ],
          "histogram2d": [
           {
            "colorbar": {
             "outlinewidth": 0,
             "ticks": ""
            },
            "colorscale": [
             [
              0,
              "#0d0887"
             ],
             [
              0.1111111111111111,
              "#46039f"
             ],
             [
              0.2222222222222222,
              "#7201a8"
             ],
             [
              0.3333333333333333,
              "#9c179e"
             ],
             [
              0.4444444444444444,
              "#bd3786"
             ],
             [
              0.5555555555555556,
              "#d8576b"
             ],
             [
              0.6666666666666666,
              "#ed7953"
             ],
             [
              0.7777777777777778,
              "#fb9f3a"
             ],
             [
              0.8888888888888888,
              "#fdca26"
             ],
             [
              1,
              "#f0f921"
             ]
            ],
            "type": "histogram2d"
           }
          ],
          "histogram2dcontour": [
           {
            "colorbar": {
             "outlinewidth": 0,
             "ticks": ""
            },
            "colorscale": [
             [
              0,
              "#0d0887"
             ],
             [
              0.1111111111111111,
              "#46039f"
             ],
             [
              0.2222222222222222,
              "#7201a8"
             ],
             [
              0.3333333333333333,
              "#9c179e"
             ],
             [
              0.4444444444444444,
              "#bd3786"
             ],
             [
              0.5555555555555556,
              "#d8576b"
             ],
             [
              0.6666666666666666,
              "#ed7953"
             ],
             [
              0.7777777777777778,
              "#fb9f3a"
             ],
             [
              0.8888888888888888,
              "#fdca26"
             ],
             [
              1,
              "#f0f921"
             ]
            ],
            "type": "histogram2dcontour"
           }
          ],
          "mesh3d": [
           {
            "colorbar": {
             "outlinewidth": 0,
             "ticks": ""
            },
            "type": "mesh3d"
           }
          ],
          "parcoords": [
           {
            "line": {
             "colorbar": {
              "outlinewidth": 0,
              "ticks": ""
             }
            },
            "type": "parcoords"
           }
          ],
          "pie": [
           {
            "automargin": true,
            "type": "pie"
           }
          ],
          "scatter": [
           {
            "marker": {
             "colorbar": {
              "outlinewidth": 0,
              "ticks": ""
             }
            },
            "type": "scatter"
           }
          ],
          "scatter3d": [
           {
            "line": {
             "colorbar": {
              "outlinewidth": 0,
              "ticks": ""
             }
            },
            "marker": {
             "colorbar": {
              "outlinewidth": 0,
              "ticks": ""
             }
            },
            "type": "scatter3d"
           }
          ],
          "scattercarpet": [
           {
            "marker": {
             "colorbar": {
              "outlinewidth": 0,
              "ticks": ""
             }
            },
            "type": "scattercarpet"
           }
          ],
          "scattergeo": [
           {
            "marker": {
             "colorbar": {
              "outlinewidth": 0,
              "ticks": ""
             }
            },
            "type": "scattergeo"
           }
          ],
          "scattergl": [
           {
            "marker": {
             "colorbar": {
              "outlinewidth": 0,
              "ticks": ""
             }
            },
            "type": "scattergl"
           }
          ],
          "scattermapbox": [
           {
            "marker": {
             "colorbar": {
              "outlinewidth": 0,
              "ticks": ""
             }
            },
            "type": "scattermapbox"
           }
          ],
          "scatterpolar": [
           {
            "marker": {
             "colorbar": {
              "outlinewidth": 0,
              "ticks": ""
             }
            },
            "type": "scatterpolar"
           }
          ],
          "scatterpolargl": [
           {
            "marker": {
             "colorbar": {
              "outlinewidth": 0,
              "ticks": ""
             }
            },
            "type": "scatterpolargl"
           }
          ],
          "scatterternary": [
           {
            "marker": {
             "colorbar": {
              "outlinewidth": 0,
              "ticks": ""
             }
            },
            "type": "scatterternary"
           }
          ],
          "surface": [
           {
            "colorbar": {
             "outlinewidth": 0,
             "ticks": ""
            },
            "colorscale": [
             [
              0,
              "#0d0887"
             ],
             [
              0.1111111111111111,
              "#46039f"
             ],
             [
              0.2222222222222222,
              "#7201a8"
             ],
             [
              0.3333333333333333,
              "#9c179e"
             ],
             [
              0.4444444444444444,
              "#bd3786"
             ],
             [
              0.5555555555555556,
              "#d8576b"
             ],
             [
              0.6666666666666666,
              "#ed7953"
             ],
             [
              0.7777777777777778,
              "#fb9f3a"
             ],
             [
              0.8888888888888888,
              "#fdca26"
             ],
             [
              1,
              "#f0f921"
             ]
            ],
            "type": "surface"
           }
          ],
          "table": [
           {
            "cells": {
             "fill": {
              "color": "#EBF0F8"
             },
             "line": {
              "color": "white"
             }
            },
            "header": {
             "fill": {
              "color": "#C8D4E3"
             },
             "line": {
              "color": "white"
             }
            },
            "type": "table"
           }
          ]
         },
         "layout": {
          "annotationdefaults": {
           "arrowcolor": "#2a3f5f",
           "arrowhead": 0,
           "arrowwidth": 1
          },
          "coloraxis": {
           "colorbar": {
            "outlinewidth": 0,
            "ticks": ""
           }
          },
          "colorscale": {
           "diverging": [
            [
             0,
             "#8e0152"
            ],
            [
             0.1,
             "#c51b7d"
            ],
            [
             0.2,
             "#de77ae"
            ],
            [
             0.3,
             "#f1b6da"
            ],
            [
             0.4,
             "#fde0ef"
            ],
            [
             0.5,
             "#f7f7f7"
            ],
            [
             0.6,
             "#e6f5d0"
            ],
            [
             0.7,
             "#b8e186"
            ],
            [
             0.8,
             "#7fbc41"
            ],
            [
             0.9,
             "#4d9221"
            ],
            [
             1,
             "#276419"
            ]
           ],
           "sequential": [
            [
             0,
             "#0d0887"
            ],
            [
             0.1111111111111111,
             "#46039f"
            ],
            [
             0.2222222222222222,
             "#7201a8"
            ],
            [
             0.3333333333333333,
             "#9c179e"
            ],
            [
             0.4444444444444444,
             "#bd3786"
            ],
            [
             0.5555555555555556,
             "#d8576b"
            ],
            [
             0.6666666666666666,
             "#ed7953"
            ],
            [
             0.7777777777777778,
             "#fb9f3a"
            ],
            [
             0.8888888888888888,
             "#fdca26"
            ],
            [
             1,
             "#f0f921"
            ]
           ],
           "sequentialminus": [
            [
             0,
             "#0d0887"
            ],
            [
             0.1111111111111111,
             "#46039f"
            ],
            [
             0.2222222222222222,
             "#7201a8"
            ],
            [
             0.3333333333333333,
             "#9c179e"
            ],
            [
             0.4444444444444444,
             "#bd3786"
            ],
            [
             0.5555555555555556,
             "#d8576b"
            ],
            [
             0.6666666666666666,
             "#ed7953"
            ],
            [
             0.7777777777777778,
             "#fb9f3a"
            ],
            [
             0.8888888888888888,
             "#fdca26"
            ],
            [
             1,
             "#f0f921"
            ]
           ]
          },
          "colorway": [
           "#636efa",
           "#EF553B",
           "#00cc96",
           "#ab63fa",
           "#FFA15A",
           "#19d3f3",
           "#FF6692",
           "#B6E880",
           "#FF97FF",
           "#FECB52"
          ],
          "font": {
           "color": "#2a3f5f"
          },
          "geo": {
           "bgcolor": "white",
           "lakecolor": "white",
           "landcolor": "#E5ECF6",
           "showlakes": true,
           "showland": true,
           "subunitcolor": "white"
          },
          "hoverlabel": {
           "align": "left"
          },
          "hovermode": "closest",
          "mapbox": {
           "style": "light"
          },
          "paper_bgcolor": "white",
          "plot_bgcolor": "#E5ECF6",
          "polar": {
           "angularaxis": {
            "gridcolor": "white",
            "linecolor": "white",
            "ticks": ""
           },
           "bgcolor": "#E5ECF6",
           "radialaxis": {
            "gridcolor": "white",
            "linecolor": "white",
            "ticks": ""
           }
          },
          "scene": {
           "xaxis": {
            "backgroundcolor": "#E5ECF6",
            "gridcolor": "white",
            "gridwidth": 2,
            "linecolor": "white",
            "showbackground": true,
            "ticks": "",
            "zerolinecolor": "white"
           },
           "yaxis": {
            "backgroundcolor": "#E5ECF6",
            "gridcolor": "white",
            "gridwidth": 2,
            "linecolor": "white",
            "showbackground": true,
            "ticks": "",
            "zerolinecolor": "white"
           },
           "zaxis": {
            "backgroundcolor": "#E5ECF6",
            "gridcolor": "white",
            "gridwidth": 2,
            "linecolor": "white",
            "showbackground": true,
            "ticks": "",
            "zerolinecolor": "white"
           }
          },
          "shapedefaults": {
           "line": {
            "color": "#2a3f5f"
           }
          },
          "ternary": {
           "aaxis": {
            "gridcolor": "white",
            "linecolor": "white",
            "ticks": ""
           },
           "baxis": {
            "gridcolor": "white",
            "linecolor": "white",
            "ticks": ""
           },
           "bgcolor": "#E5ECF6",
           "caxis": {
            "gridcolor": "white",
            "linecolor": "white",
            "ticks": ""
           }
          },
          "title": {
           "x": 0.05
          },
          "xaxis": {
           "automargin": true,
           "gridcolor": "white",
           "linecolor": "white",
           "ticks": "",
           "title": {
            "standoff": 15
           },
           "zerolinecolor": "white",
           "zerolinewidth": 2
          },
          "yaxis": {
           "automargin": true,
           "gridcolor": "white",
           "linecolor": "white",
           "ticks": "",
           "title": {
            "standoff": 15
           },
           "zerolinecolor": "white",
           "zerolinewidth": 2
          }
         }
        }
       }
      },
      "text/html": [
       "<div>\n",
       "        \n",
       "        \n",
       "            <div id=\"3f2c49e5-04af-49e3-ab88-897363e39e67\" class=\"plotly-graph-div\" style=\"height:525px; width:100%;\"></div>\n",
       "            <script type=\"text/javascript\">\n",
       "                require([\"plotly\"], function(Plotly) {\n",
       "                    window.PLOTLYENV=window.PLOTLYENV || {};\n",
       "                    \n",
       "                if (document.getElementById(\"3f2c49e5-04af-49e3-ab88-897363e39e67\")) {\n",
       "                    Plotly.newPlot(\n",
       "                        '3f2c49e5-04af-49e3-ab88-897363e39e67',\n",
       "                        [{\"type\": \"heatmap\", \"z\": [[0.09280484259637889, 0.0008441403727324837, 0.0005935230213221582, 0.001203279254766916, 0.04058128831392177, 4.265342892643719e-05, 1.2907684823034786e-05, 0.0009051353505484562, 0.002133454801011865, 0.0017451085630271282], [0.1642010811934261, 0.0009187820700145005, 0.0007149356534360319, 0.0016290117224895208, 0.18411540229425866, 2.1261839417280665e-05, 7.727836088289059e-06, 0.030094278552734423, 0.0015518822905927665, 0.0019790517443477144], [0.057735693975380024, 0.0009649723481897586, 0.0008101588410498283, 0.002370738785056735, 1.2951818833843798, 1.1823643891918618e-05, 4.03170827269536e-06, 0.005334202104799071, 0.001302273939394337, 0.002662623944418555], [0.10623240513566014, 0.0009801989474661876, 0.0009959557756819347, 0.0039985901314148415, 0.0001110851432429637, 5.438022571909253e-06, 0.0001546563511208512, 0.0025760664860072844, 0.001088093102042205, 0.04804071576345591], [1.9626362007231877, 0.0009988045146394453, 0.0012180082670073757, 0.010010341261151879, 1.4774765392724082e-05, 1.5817845807648149e-06, 0.10252955395581737, 0.0016282645173731087, 0.0010330360130660474, 9.170236765650035], [9.170195907137902, 0.0010328278623739234, 0.0016279257536060915, 0.10252983863174762, 1.9203884700476902e-06, 1.4483294742526437e-05, 0.010010438240506443, 0.0012182728171534845, 0.0009992077926226043, 1.9625427514769378], [0.04804365238352639, 0.0010882502476387073, 0.0025757490776055114, 0.00015487956405420432, 5.1954384160225496e-06, 0.00011144477951070413, 0.003998861000561495, 0.0009956531504117774, 0.000980420602232317, 0.10632498232018751], [0.0026627923565085243, 0.0013020476148244027, 0.0053343827189103596, 4.2307220390251814e-06, 1.2141424030172477e-05, 1.2951816457033896, 0.002370597044457585, 0.0008105461104582663, 0.0009653568294987793, 0.0577375114293559], [0.0019788170708323555, 0.0015519325061411312, 0.03009433799182648, 8.09247951881806e-06, 2.0887679541950293e-05, 0.1841152030775222, 0.0016286795215619447, 0.0007147221183637355, 0.0009190881364622075, 0.1642195918826246], [0.001744827249431497, 0.0021332702317253863, 0.0009048292361764391, 1.2730074710350237e-05, 4.245264183603654e-05, 0.04058118867034258, 0.0012036826271548497, 0.0005939181112322833, 0.0008439170478238742, 0.09282816887505199]], \"zmax\": 6.0, \"zmin\": 0.0}],\n",
       "                        {\"template\": {\"data\": {\"bar\": [{\"error_x\": {\"color\": \"#2a3f5f\"}, \"error_y\": {\"color\": \"#2a3f5f\"}, \"marker\": {\"line\": {\"color\": \"#E5ECF6\", \"width\": 0.5}}, \"type\": \"bar\"}], \"barpolar\": [{\"marker\": {\"line\": {\"color\": \"#E5ECF6\", \"width\": 0.5}}, \"type\": \"barpolar\"}], \"carpet\": [{\"aaxis\": {\"endlinecolor\": \"#2a3f5f\", \"gridcolor\": \"white\", \"linecolor\": \"white\", \"minorgridcolor\": \"white\", \"startlinecolor\": \"#2a3f5f\"}, \"baxis\": {\"endlinecolor\": \"#2a3f5f\", \"gridcolor\": \"white\", \"linecolor\": \"white\", \"minorgridcolor\": \"white\", \"startlinecolor\": \"#2a3f5f\"}, \"type\": \"carpet\"}], \"choropleth\": [{\"colorbar\": {\"outlinewidth\": 0, \"ticks\": \"\"}, \"type\": \"choropleth\"}], \"contour\": [{\"colorbar\": {\"outlinewidth\": 0, \"ticks\": \"\"}, \"colorscale\": [[0.0, \"#0d0887\"], [0.1111111111111111, \"#46039f\"], [0.2222222222222222, \"#7201a8\"], [0.3333333333333333, \"#9c179e\"], [0.4444444444444444, \"#bd3786\"], [0.5555555555555556, \"#d8576b\"], [0.6666666666666666, \"#ed7953\"], [0.7777777777777778, \"#fb9f3a\"], [0.8888888888888888, \"#fdca26\"], [1.0, \"#f0f921\"]], \"type\": \"contour\"}], \"contourcarpet\": [{\"colorbar\": {\"outlinewidth\": 0, \"ticks\": \"\"}, \"type\": \"contourcarpet\"}], \"heatmap\": [{\"colorbar\": {\"outlinewidth\": 0, \"ticks\": \"\"}, \"colorscale\": [[0.0, \"#0d0887\"], [0.1111111111111111, \"#46039f\"], [0.2222222222222222, \"#7201a8\"], [0.3333333333333333, \"#9c179e\"], [0.4444444444444444, \"#bd3786\"], [0.5555555555555556, \"#d8576b\"], [0.6666666666666666, \"#ed7953\"], [0.7777777777777778, \"#fb9f3a\"], [0.8888888888888888, \"#fdca26\"], [1.0, \"#f0f921\"]], \"type\": \"heatmap\"}], \"heatmapgl\": [{\"colorbar\": {\"outlinewidth\": 0, \"ticks\": \"\"}, \"colorscale\": [[0.0, \"#0d0887\"], [0.1111111111111111, \"#46039f\"], [0.2222222222222222, \"#7201a8\"], [0.3333333333333333, \"#9c179e\"], [0.4444444444444444, \"#bd3786\"], [0.5555555555555556, \"#d8576b\"], [0.6666666666666666, \"#ed7953\"], [0.7777777777777778, \"#fb9f3a\"], [0.8888888888888888, \"#fdca26\"], [1.0, \"#f0f921\"]], \"type\": \"heatmapgl\"}], \"histogram\": [{\"marker\": {\"colorbar\": {\"outlinewidth\": 0, \"ticks\": \"\"}}, \"type\": \"histogram\"}], \"histogram2d\": [{\"colorbar\": {\"outlinewidth\": 0, \"ticks\": \"\"}, \"colorscale\": [[0.0, \"#0d0887\"], [0.1111111111111111, \"#46039f\"], [0.2222222222222222, \"#7201a8\"], [0.3333333333333333, \"#9c179e\"], [0.4444444444444444, \"#bd3786\"], [0.5555555555555556, \"#d8576b\"], [0.6666666666666666, \"#ed7953\"], [0.7777777777777778, \"#fb9f3a\"], [0.8888888888888888, \"#fdca26\"], [1.0, \"#f0f921\"]], \"type\": \"histogram2d\"}], \"histogram2dcontour\": [{\"colorbar\": {\"outlinewidth\": 0, \"ticks\": \"\"}, \"colorscale\": [[0.0, \"#0d0887\"], [0.1111111111111111, \"#46039f\"], [0.2222222222222222, \"#7201a8\"], [0.3333333333333333, \"#9c179e\"], [0.4444444444444444, \"#bd3786\"], [0.5555555555555556, \"#d8576b\"], [0.6666666666666666, \"#ed7953\"], [0.7777777777777778, \"#fb9f3a\"], [0.8888888888888888, \"#fdca26\"], [1.0, \"#f0f921\"]], \"type\": \"histogram2dcontour\"}], \"mesh3d\": [{\"colorbar\": {\"outlinewidth\": 0, \"ticks\": \"\"}, \"type\": \"mesh3d\"}], \"parcoords\": [{\"line\": {\"colorbar\": {\"outlinewidth\": 0, \"ticks\": \"\"}}, \"type\": \"parcoords\"}], \"pie\": [{\"automargin\": true, \"type\": \"pie\"}], \"scatter\": [{\"marker\": {\"colorbar\": {\"outlinewidth\": 0, \"ticks\": \"\"}}, \"type\": \"scatter\"}], \"scatter3d\": [{\"line\": {\"colorbar\": {\"outlinewidth\": 0, \"ticks\": \"\"}}, \"marker\": {\"colorbar\": {\"outlinewidth\": 0, \"ticks\": \"\"}}, \"type\": \"scatter3d\"}], \"scattercarpet\": [{\"marker\": {\"colorbar\": {\"outlinewidth\": 0, \"ticks\": \"\"}}, \"type\": \"scattercarpet\"}], \"scattergeo\": [{\"marker\": {\"colorbar\": {\"outlinewidth\": 0, \"ticks\": \"\"}}, \"type\": \"scattergeo\"}], \"scattergl\": [{\"marker\": {\"colorbar\": {\"outlinewidth\": 0, \"ticks\": \"\"}}, \"type\": \"scattergl\"}], \"scattermapbox\": [{\"marker\": {\"colorbar\": {\"outlinewidth\": 0, \"ticks\": \"\"}}, \"type\": \"scattermapbox\"}], \"scatterpolar\": [{\"marker\": {\"colorbar\": {\"outlinewidth\": 0, \"ticks\": \"\"}}, \"type\": \"scatterpolar\"}], \"scatterpolargl\": [{\"marker\": {\"colorbar\": {\"outlinewidth\": 0, \"ticks\": \"\"}}, \"type\": \"scatterpolargl\"}], \"scatterternary\": [{\"marker\": {\"colorbar\": {\"outlinewidth\": 0, \"ticks\": \"\"}}, \"type\": \"scatterternary\"}], \"surface\": [{\"colorbar\": {\"outlinewidth\": 0, \"ticks\": \"\"}, \"colorscale\": [[0.0, \"#0d0887\"], [0.1111111111111111, \"#46039f\"], [0.2222222222222222, \"#7201a8\"], [0.3333333333333333, \"#9c179e\"], [0.4444444444444444, \"#bd3786\"], [0.5555555555555556, \"#d8576b\"], [0.6666666666666666, \"#ed7953\"], [0.7777777777777778, \"#fb9f3a\"], [0.8888888888888888, \"#fdca26\"], [1.0, \"#f0f921\"]], \"type\": \"surface\"}], \"table\": [{\"cells\": {\"fill\": {\"color\": \"#EBF0F8\"}, \"line\": {\"color\": \"white\"}}, \"header\": {\"fill\": {\"color\": \"#C8D4E3\"}, \"line\": {\"color\": \"white\"}}, \"type\": \"table\"}]}, \"layout\": {\"annotationdefaults\": {\"arrowcolor\": \"#2a3f5f\", \"arrowhead\": 0, \"arrowwidth\": 1}, \"coloraxis\": {\"colorbar\": {\"outlinewidth\": 0, \"ticks\": \"\"}}, \"colorscale\": {\"diverging\": [[0, \"#8e0152\"], [0.1, \"#c51b7d\"], [0.2, \"#de77ae\"], [0.3, \"#f1b6da\"], [0.4, \"#fde0ef\"], [0.5, \"#f7f7f7\"], [0.6, \"#e6f5d0\"], [0.7, \"#b8e186\"], [0.8, \"#7fbc41\"], [0.9, \"#4d9221\"], [1, \"#276419\"]], \"sequential\": [[0.0, \"#0d0887\"], [0.1111111111111111, \"#46039f\"], [0.2222222222222222, \"#7201a8\"], [0.3333333333333333, \"#9c179e\"], [0.4444444444444444, \"#bd3786\"], [0.5555555555555556, \"#d8576b\"], [0.6666666666666666, \"#ed7953\"], [0.7777777777777778, \"#fb9f3a\"], [0.8888888888888888, \"#fdca26\"], [1.0, \"#f0f921\"]], \"sequentialminus\": [[0.0, \"#0d0887\"], [0.1111111111111111, \"#46039f\"], [0.2222222222222222, \"#7201a8\"], [0.3333333333333333, \"#9c179e\"], [0.4444444444444444, \"#bd3786\"], [0.5555555555555556, \"#d8576b\"], [0.6666666666666666, \"#ed7953\"], [0.7777777777777778, \"#fb9f3a\"], [0.8888888888888888, \"#fdca26\"], [1.0, \"#f0f921\"]]}, \"colorway\": [\"#636efa\", \"#EF553B\", \"#00cc96\", \"#ab63fa\", \"#FFA15A\", \"#19d3f3\", \"#FF6692\", \"#B6E880\", \"#FF97FF\", \"#FECB52\"], \"font\": {\"color\": \"#2a3f5f\"}, \"geo\": {\"bgcolor\": \"white\", \"lakecolor\": \"white\", \"landcolor\": \"#E5ECF6\", \"showlakes\": true, \"showland\": true, \"subunitcolor\": \"white\"}, \"hoverlabel\": {\"align\": \"left\"}, \"hovermode\": \"closest\", \"mapbox\": {\"style\": \"light\"}, \"paper_bgcolor\": \"white\", \"plot_bgcolor\": \"#E5ECF6\", \"polar\": {\"angularaxis\": {\"gridcolor\": \"white\", \"linecolor\": \"white\", \"ticks\": \"\"}, \"bgcolor\": \"#E5ECF6\", \"radialaxis\": {\"gridcolor\": \"white\", \"linecolor\": \"white\", \"ticks\": \"\"}}, \"scene\": {\"xaxis\": {\"backgroundcolor\": \"#E5ECF6\", \"gridcolor\": \"white\", \"gridwidth\": 2, \"linecolor\": \"white\", \"showbackground\": true, \"ticks\": \"\", \"zerolinecolor\": \"white\"}, \"yaxis\": {\"backgroundcolor\": \"#E5ECF6\", \"gridcolor\": \"white\", \"gridwidth\": 2, \"linecolor\": \"white\", \"showbackground\": true, \"ticks\": \"\", \"zerolinecolor\": \"white\"}, \"zaxis\": {\"backgroundcolor\": \"#E5ECF6\", \"gridcolor\": \"white\", \"gridwidth\": 2, \"linecolor\": \"white\", \"showbackground\": true, \"ticks\": \"\", \"zerolinecolor\": \"white\"}}, \"shapedefaults\": {\"line\": {\"color\": \"#2a3f5f\"}}, \"ternary\": {\"aaxis\": {\"gridcolor\": \"white\", \"linecolor\": \"white\", \"ticks\": \"\"}, \"baxis\": {\"gridcolor\": \"white\", \"linecolor\": \"white\", \"ticks\": \"\"}, \"bgcolor\": \"#E5ECF6\", \"caxis\": {\"gridcolor\": \"white\", \"linecolor\": \"white\", \"ticks\": \"\"}}, \"title\": {\"x\": 0.05}, \"xaxis\": {\"automargin\": true, \"gridcolor\": \"white\", \"linecolor\": \"white\", \"ticks\": \"\", \"title\": {\"standoff\": 15}, \"zerolinecolor\": \"white\", \"zerolinewidth\": 2}, \"yaxis\": {\"automargin\": true, \"gridcolor\": \"white\", \"linecolor\": \"white\", \"ticks\": \"\", \"title\": {\"standoff\": 15}, \"zerolinecolor\": \"white\", \"zerolinewidth\": 2}}}},\n",
       "                        {\"responsive\": true}\n",
       "                    ).then(function(){\n",
       "                            \n",
       "var gd = document.getElementById('3f2c49e5-04af-49e3-ab88-897363e39e67');\n",
       "var x = new MutationObserver(function (mutations, observer) {{\n",
       "        var display = window.getComputedStyle(gd).display;\n",
       "        if (!display || display === 'none') {{\n",
       "            console.log([gd, 'removed!']);\n",
       "            Plotly.purge(gd);\n",
       "            observer.disconnect();\n",
       "        }}\n",
       "}});\n",
       "\n",
       "// Listen for the removal of the full notebook cells\n",
       "var notebookContainer = gd.closest('#notebook-container');\n",
       "if (notebookContainer) {{\n",
       "    x.observe(notebookContainer, {childList: true});\n",
       "}}\n",
       "\n",
       "// Listen for the clearing of the current output cell\n",
       "var outputEl = gd.closest('.output');\n",
       "if (outputEl) {{\n",
       "    x.observe(outputEl, {childList: true});\n",
       "}}\n",
       "\n",
       "                        })\n",
       "                };\n",
       "                });\n",
       "            </script>\n",
       "        </div>"
      ]
     },
     "metadata": {},
     "output_type": "display_data"
    },
    {
     "name": "stdout",
     "output_type": "stream",
     "text": [
      "Baseline\n"
     ]
    },
    {
     "data": {
      "application/vnd.plotly.v1+json": {
       "config": {
        "plotlyServerURL": "https://plot.ly"
       },
       "data": [
        {
         "type": "heatmap",
         "z": [
          [
           1,
           1,
           0,
           0,
           0,
           0,
           0,
           1,
           0,
           0
          ],
          [
           1,
           1,
           0,
           0,
           0,
           0,
           0,
           0,
           0,
           0
          ],
          [
           1,
           1,
           0,
           0,
           1,
           0,
           0,
           0,
           0,
           0
          ],
          [
           1,
           1,
           0,
           0,
           0,
           0,
           1,
           0,
           0,
           1
          ],
          [
           1,
           1,
           0,
           0,
           0,
           0,
           0,
           0,
           0,
           1
          ],
          [
           1,
           1,
           0,
           0,
           0,
           0,
           0,
           0,
           0,
           1
          ],
          [
           1,
           1,
           0,
           1,
           0,
           1,
           0,
           0,
           0,
           0
          ],
          [
           1,
           0,
           0,
           0,
           0,
           1,
           0,
           0,
           0,
           0
          ],
          [
           1,
           0,
           0,
           0,
           0,
           1,
           0,
           0,
           0,
           0
          ],
          [
           1,
           0,
           0,
           0,
           0,
           0,
           0,
           0,
           0,
           0
          ]
         ]
        }
       ],
       "layout": {
        "template": {
         "data": {
          "bar": [
           {
            "error_x": {
             "color": "#2a3f5f"
            },
            "error_y": {
             "color": "#2a3f5f"
            },
            "marker": {
             "line": {
              "color": "#E5ECF6",
              "width": 0.5
             }
            },
            "type": "bar"
           }
          ],
          "barpolar": [
           {
            "marker": {
             "line": {
              "color": "#E5ECF6",
              "width": 0.5
             }
            },
            "type": "barpolar"
           }
          ],
          "carpet": [
           {
            "aaxis": {
             "endlinecolor": "#2a3f5f",
             "gridcolor": "white",
             "linecolor": "white",
             "minorgridcolor": "white",
             "startlinecolor": "#2a3f5f"
            },
            "baxis": {
             "endlinecolor": "#2a3f5f",
             "gridcolor": "white",
             "linecolor": "white",
             "minorgridcolor": "white",
             "startlinecolor": "#2a3f5f"
            },
            "type": "carpet"
           }
          ],
          "choropleth": [
           {
            "colorbar": {
             "outlinewidth": 0,
             "ticks": ""
            },
            "type": "choropleth"
           }
          ],
          "contour": [
           {
            "colorbar": {
             "outlinewidth": 0,
             "ticks": ""
            },
            "colorscale": [
             [
              0,
              "#0d0887"
             ],
             [
              0.1111111111111111,
              "#46039f"
             ],
             [
              0.2222222222222222,
              "#7201a8"
             ],
             [
              0.3333333333333333,
              "#9c179e"
             ],
             [
              0.4444444444444444,
              "#bd3786"
             ],
             [
              0.5555555555555556,
              "#d8576b"
             ],
             [
              0.6666666666666666,
              "#ed7953"
             ],
             [
              0.7777777777777778,
              "#fb9f3a"
             ],
             [
              0.8888888888888888,
              "#fdca26"
             ],
             [
              1,
              "#f0f921"
             ]
            ],
            "type": "contour"
           }
          ],
          "contourcarpet": [
           {
            "colorbar": {
             "outlinewidth": 0,
             "ticks": ""
            },
            "type": "contourcarpet"
           }
          ],
          "heatmap": [
           {
            "colorbar": {
             "outlinewidth": 0,
             "ticks": ""
            },
            "colorscale": [
             [
              0,
              "#0d0887"
             ],
             [
              0.1111111111111111,
              "#46039f"
             ],
             [
              0.2222222222222222,
              "#7201a8"
             ],
             [
              0.3333333333333333,
              "#9c179e"
             ],
             [
              0.4444444444444444,
              "#bd3786"
             ],
             [
              0.5555555555555556,
              "#d8576b"
             ],
             [
              0.6666666666666666,
              "#ed7953"
             ],
             [
              0.7777777777777778,
              "#fb9f3a"
             ],
             [
              0.8888888888888888,
              "#fdca26"
             ],
             [
              1,
              "#f0f921"
             ]
            ],
            "type": "heatmap"
           }
          ],
          "heatmapgl": [
           {
            "colorbar": {
             "outlinewidth": 0,
             "ticks": ""
            },
            "colorscale": [
             [
              0,
              "#0d0887"
             ],
             [
              0.1111111111111111,
              "#46039f"
             ],
             [
              0.2222222222222222,
              "#7201a8"
             ],
             [
              0.3333333333333333,
              "#9c179e"
             ],
             [
              0.4444444444444444,
              "#bd3786"
             ],
             [
              0.5555555555555556,
              "#d8576b"
             ],
             [
              0.6666666666666666,
              "#ed7953"
             ],
             [
              0.7777777777777778,
              "#fb9f3a"
             ],
             [
              0.8888888888888888,
              "#fdca26"
             ],
             [
              1,
              "#f0f921"
             ]
            ],
            "type": "heatmapgl"
           }
          ],
          "histogram": [
           {
            "marker": {
             "colorbar": {
              "outlinewidth": 0,
              "ticks": ""
             }
            },
            "type": "histogram"
           }
          ],
          "histogram2d": [
           {
            "colorbar": {
             "outlinewidth": 0,
             "ticks": ""
            },
            "colorscale": [
             [
              0,
              "#0d0887"
             ],
             [
              0.1111111111111111,
              "#46039f"
             ],
             [
              0.2222222222222222,
              "#7201a8"
             ],
             [
              0.3333333333333333,
              "#9c179e"
             ],
             [
              0.4444444444444444,
              "#bd3786"
             ],
             [
              0.5555555555555556,
              "#d8576b"
             ],
             [
              0.6666666666666666,
              "#ed7953"
             ],
             [
              0.7777777777777778,
              "#fb9f3a"
             ],
             [
              0.8888888888888888,
              "#fdca26"
             ],
             [
              1,
              "#f0f921"
             ]
            ],
            "type": "histogram2d"
           }
          ],
          "histogram2dcontour": [
           {
            "colorbar": {
             "outlinewidth": 0,
             "ticks": ""
            },
            "colorscale": [
             [
              0,
              "#0d0887"
             ],
             [
              0.1111111111111111,
              "#46039f"
             ],
             [
              0.2222222222222222,
              "#7201a8"
             ],
             [
              0.3333333333333333,
              "#9c179e"
             ],
             [
              0.4444444444444444,
              "#bd3786"
             ],
             [
              0.5555555555555556,
              "#d8576b"
             ],
             [
              0.6666666666666666,
              "#ed7953"
             ],
             [
              0.7777777777777778,
              "#fb9f3a"
             ],
             [
              0.8888888888888888,
              "#fdca26"
             ],
             [
              1,
              "#f0f921"
             ]
            ],
            "type": "histogram2dcontour"
           }
          ],
          "mesh3d": [
           {
            "colorbar": {
             "outlinewidth": 0,
             "ticks": ""
            },
            "type": "mesh3d"
           }
          ],
          "parcoords": [
           {
            "line": {
             "colorbar": {
              "outlinewidth": 0,
              "ticks": ""
             }
            },
            "type": "parcoords"
           }
          ],
          "pie": [
           {
            "automargin": true,
            "type": "pie"
           }
          ],
          "scatter": [
           {
            "marker": {
             "colorbar": {
              "outlinewidth": 0,
              "ticks": ""
             }
            },
            "type": "scatter"
           }
          ],
          "scatter3d": [
           {
            "line": {
             "colorbar": {
              "outlinewidth": 0,
              "ticks": ""
             }
            },
            "marker": {
             "colorbar": {
              "outlinewidth": 0,
              "ticks": ""
             }
            },
            "type": "scatter3d"
           }
          ],
          "scattercarpet": [
           {
            "marker": {
             "colorbar": {
              "outlinewidth": 0,
              "ticks": ""
             }
            },
            "type": "scattercarpet"
           }
          ],
          "scattergeo": [
           {
            "marker": {
             "colorbar": {
              "outlinewidth": 0,
              "ticks": ""
             }
            },
            "type": "scattergeo"
           }
          ],
          "scattergl": [
           {
            "marker": {
             "colorbar": {
              "outlinewidth": 0,
              "ticks": ""
             }
            },
            "type": "scattergl"
           }
          ],
          "scattermapbox": [
           {
            "marker": {
             "colorbar": {
              "outlinewidth": 0,
              "ticks": ""
             }
            },
            "type": "scattermapbox"
           }
          ],
          "scatterpolar": [
           {
            "marker": {
             "colorbar": {
              "outlinewidth": 0,
              "ticks": ""
             }
            },
            "type": "scatterpolar"
           }
          ],
          "scatterpolargl": [
           {
            "marker": {
             "colorbar": {
              "outlinewidth": 0,
              "ticks": ""
             }
            },
            "type": "scatterpolargl"
           }
          ],
          "scatterternary": [
           {
            "marker": {
             "colorbar": {
              "outlinewidth": 0,
              "ticks": ""
             }
            },
            "type": "scatterternary"
           }
          ],
          "surface": [
           {
            "colorbar": {
             "outlinewidth": 0,
             "ticks": ""
            },
            "colorscale": [
             [
              0,
              "#0d0887"
             ],
             [
              0.1111111111111111,
              "#46039f"
             ],
             [
              0.2222222222222222,
              "#7201a8"
             ],
             [
              0.3333333333333333,
              "#9c179e"
             ],
             [
              0.4444444444444444,
              "#bd3786"
             ],
             [
              0.5555555555555556,
              "#d8576b"
             ],
             [
              0.6666666666666666,
              "#ed7953"
             ],
             [
              0.7777777777777778,
              "#fb9f3a"
             ],
             [
              0.8888888888888888,
              "#fdca26"
             ],
             [
              1,
              "#f0f921"
             ]
            ],
            "type": "surface"
           }
          ],
          "table": [
           {
            "cells": {
             "fill": {
              "color": "#EBF0F8"
             },
             "line": {
              "color": "white"
             }
            },
            "header": {
             "fill": {
              "color": "#C8D4E3"
             },
             "line": {
              "color": "white"
             }
            },
            "type": "table"
           }
          ]
         },
         "layout": {
          "annotationdefaults": {
           "arrowcolor": "#2a3f5f",
           "arrowhead": 0,
           "arrowwidth": 1
          },
          "coloraxis": {
           "colorbar": {
            "outlinewidth": 0,
            "ticks": ""
           }
          },
          "colorscale": {
           "diverging": [
            [
             0,
             "#8e0152"
            ],
            [
             0.1,
             "#c51b7d"
            ],
            [
             0.2,
             "#de77ae"
            ],
            [
             0.3,
             "#f1b6da"
            ],
            [
             0.4,
             "#fde0ef"
            ],
            [
             0.5,
             "#f7f7f7"
            ],
            [
             0.6,
             "#e6f5d0"
            ],
            [
             0.7,
             "#b8e186"
            ],
            [
             0.8,
             "#7fbc41"
            ],
            [
             0.9,
             "#4d9221"
            ],
            [
             1,
             "#276419"
            ]
           ],
           "sequential": [
            [
             0,
             "#0d0887"
            ],
            [
             0.1111111111111111,
             "#46039f"
            ],
            [
             0.2222222222222222,
             "#7201a8"
            ],
            [
             0.3333333333333333,
             "#9c179e"
            ],
            [
             0.4444444444444444,
             "#bd3786"
            ],
            [
             0.5555555555555556,
             "#d8576b"
            ],
            [
             0.6666666666666666,
             "#ed7953"
            ],
            [
             0.7777777777777778,
             "#fb9f3a"
            ],
            [
             0.8888888888888888,
             "#fdca26"
            ],
            [
             1,
             "#f0f921"
            ]
           ],
           "sequentialminus": [
            [
             0,
             "#0d0887"
            ],
            [
             0.1111111111111111,
             "#46039f"
            ],
            [
             0.2222222222222222,
             "#7201a8"
            ],
            [
             0.3333333333333333,
             "#9c179e"
            ],
            [
             0.4444444444444444,
             "#bd3786"
            ],
            [
             0.5555555555555556,
             "#d8576b"
            ],
            [
             0.6666666666666666,
             "#ed7953"
            ],
            [
             0.7777777777777778,
             "#fb9f3a"
            ],
            [
             0.8888888888888888,
             "#fdca26"
            ],
            [
             1,
             "#f0f921"
            ]
           ]
          },
          "colorway": [
           "#636efa",
           "#EF553B",
           "#00cc96",
           "#ab63fa",
           "#FFA15A",
           "#19d3f3",
           "#FF6692",
           "#B6E880",
           "#FF97FF",
           "#FECB52"
          ],
          "font": {
           "color": "#2a3f5f"
          },
          "geo": {
           "bgcolor": "white",
           "lakecolor": "white",
           "landcolor": "#E5ECF6",
           "showlakes": true,
           "showland": true,
           "subunitcolor": "white"
          },
          "hoverlabel": {
           "align": "left"
          },
          "hovermode": "closest",
          "mapbox": {
           "style": "light"
          },
          "paper_bgcolor": "white",
          "plot_bgcolor": "#E5ECF6",
          "polar": {
           "angularaxis": {
            "gridcolor": "white",
            "linecolor": "white",
            "ticks": ""
           },
           "bgcolor": "#E5ECF6",
           "radialaxis": {
            "gridcolor": "white",
            "linecolor": "white",
            "ticks": ""
           }
          },
          "scene": {
           "xaxis": {
            "backgroundcolor": "#E5ECF6",
            "gridcolor": "white",
            "gridwidth": 2,
            "linecolor": "white",
            "showbackground": true,
            "ticks": "",
            "zerolinecolor": "white"
           },
           "yaxis": {
            "backgroundcolor": "#E5ECF6",
            "gridcolor": "white",
            "gridwidth": 2,
            "linecolor": "white",
            "showbackground": true,
            "ticks": "",
            "zerolinecolor": "white"
           },
           "zaxis": {
            "backgroundcolor": "#E5ECF6",
            "gridcolor": "white",
            "gridwidth": 2,
            "linecolor": "white",
            "showbackground": true,
            "ticks": "",
            "zerolinecolor": "white"
           }
          },
          "shapedefaults": {
           "line": {
            "color": "#2a3f5f"
           }
          },
          "ternary": {
           "aaxis": {
            "gridcolor": "white",
            "linecolor": "white",
            "ticks": ""
           },
           "baxis": {
            "gridcolor": "white",
            "linecolor": "white",
            "ticks": ""
           },
           "bgcolor": "#E5ECF6",
           "caxis": {
            "gridcolor": "white",
            "linecolor": "white",
            "ticks": ""
           }
          },
          "title": {
           "x": 0.05
          },
          "xaxis": {
           "automargin": true,
           "gridcolor": "white",
           "linecolor": "white",
           "ticks": "",
           "title": {
            "standoff": 15
           },
           "zerolinecolor": "white",
           "zerolinewidth": 2
          },
          "yaxis": {
           "automargin": true,
           "gridcolor": "white",
           "linecolor": "white",
           "ticks": "",
           "title": {
            "standoff": 15
           },
           "zerolinecolor": "white",
           "zerolinewidth": 2
          }
         }
        }
       }
      },
      "text/html": [
       "<div>\n",
       "        \n",
       "        \n",
       "            <div id=\"2d55c8ed-417f-40f2-b54c-a78249f3d7b9\" class=\"plotly-graph-div\" style=\"height:525px; width:100%;\"></div>\n",
       "            <script type=\"text/javascript\">\n",
       "                require([\"plotly\"], function(Plotly) {\n",
       "                    window.PLOTLYENV=window.PLOTLYENV || {};\n",
       "                    \n",
       "                if (document.getElementById(\"2d55c8ed-417f-40f2-b54c-a78249f3d7b9\")) {\n",
       "                    Plotly.newPlot(\n",
       "                        '2d55c8ed-417f-40f2-b54c-a78249f3d7b9',\n",
       "                        [{\"type\": \"heatmap\", \"z\": [[1.0, 1.0, 0.0, 0.0, 0.0, 0.0, 0.0, 1.0, 0.0, 0.0], [1.0, 1.0, 0.0, 0.0, 0.0, 0.0, 0.0, 0.0, 0.0, 0.0], [1.0, 1.0, 0.0, 0.0, 1.0, 0.0, 0.0, 0.0, 0.0, 0.0], [1.0, 1.0, 0.0, 0.0, 0.0, 0.0, 1.0, 0.0, 0.0, 1.0], [1.0, 1.0, 0.0, 0.0, 0.0, 0.0, 0.0, 0.0, 0.0, 1.0], [1.0, 1.0, 0.0, 0.0, 0.0, 0.0, 0.0, 0.0, 0.0, 1.0], [1.0, 1.0, 0.0, 1.0, 0.0, 1.0, 0.0, 0.0, 0.0, 0.0], [1.0, 0.0, 0.0, 0.0, 0.0, 1.0, 0.0, 0.0, 0.0, 0.0], [1.0, 0.0, 0.0, 0.0, 0.0, 1.0, 0.0, 0.0, 0.0, 0.0], [1.0, 0.0, 0.0, 0.0, 0.0, 0.0, 0.0, 0.0, 0.0, 0.0]]}],\n",
       "                        {\"template\": {\"data\": {\"bar\": [{\"error_x\": {\"color\": \"#2a3f5f\"}, \"error_y\": {\"color\": \"#2a3f5f\"}, \"marker\": {\"line\": {\"color\": \"#E5ECF6\", \"width\": 0.5}}, \"type\": \"bar\"}], \"barpolar\": [{\"marker\": {\"line\": {\"color\": \"#E5ECF6\", \"width\": 0.5}}, \"type\": \"barpolar\"}], \"carpet\": [{\"aaxis\": {\"endlinecolor\": \"#2a3f5f\", \"gridcolor\": \"white\", \"linecolor\": \"white\", \"minorgridcolor\": \"white\", \"startlinecolor\": \"#2a3f5f\"}, \"baxis\": {\"endlinecolor\": \"#2a3f5f\", \"gridcolor\": \"white\", \"linecolor\": \"white\", \"minorgridcolor\": \"white\", \"startlinecolor\": \"#2a3f5f\"}, \"type\": \"carpet\"}], \"choropleth\": [{\"colorbar\": {\"outlinewidth\": 0, \"ticks\": \"\"}, \"type\": \"choropleth\"}], \"contour\": [{\"colorbar\": {\"outlinewidth\": 0, \"ticks\": \"\"}, \"colorscale\": [[0.0, \"#0d0887\"], [0.1111111111111111, \"#46039f\"], [0.2222222222222222, \"#7201a8\"], [0.3333333333333333, \"#9c179e\"], [0.4444444444444444, \"#bd3786\"], [0.5555555555555556, \"#d8576b\"], [0.6666666666666666, \"#ed7953\"], [0.7777777777777778, \"#fb9f3a\"], [0.8888888888888888, \"#fdca26\"], [1.0, \"#f0f921\"]], \"type\": \"contour\"}], \"contourcarpet\": [{\"colorbar\": {\"outlinewidth\": 0, \"ticks\": \"\"}, \"type\": \"contourcarpet\"}], \"heatmap\": [{\"colorbar\": {\"outlinewidth\": 0, \"ticks\": \"\"}, \"colorscale\": [[0.0, \"#0d0887\"], [0.1111111111111111, \"#46039f\"], [0.2222222222222222, \"#7201a8\"], [0.3333333333333333, \"#9c179e\"], [0.4444444444444444, \"#bd3786\"], [0.5555555555555556, \"#d8576b\"], [0.6666666666666666, \"#ed7953\"], [0.7777777777777778, \"#fb9f3a\"], [0.8888888888888888, \"#fdca26\"], [1.0, \"#f0f921\"]], \"type\": \"heatmap\"}], \"heatmapgl\": [{\"colorbar\": {\"outlinewidth\": 0, \"ticks\": \"\"}, \"colorscale\": [[0.0, \"#0d0887\"], [0.1111111111111111, \"#46039f\"], [0.2222222222222222, \"#7201a8\"], [0.3333333333333333, \"#9c179e\"], [0.4444444444444444, \"#bd3786\"], [0.5555555555555556, \"#d8576b\"], [0.6666666666666666, \"#ed7953\"], [0.7777777777777778, \"#fb9f3a\"], [0.8888888888888888, \"#fdca26\"], [1.0, \"#f0f921\"]], \"type\": \"heatmapgl\"}], \"histogram\": [{\"marker\": {\"colorbar\": {\"outlinewidth\": 0, \"ticks\": \"\"}}, \"type\": \"histogram\"}], \"histogram2d\": [{\"colorbar\": {\"outlinewidth\": 0, \"ticks\": \"\"}, \"colorscale\": [[0.0, \"#0d0887\"], [0.1111111111111111, \"#46039f\"], [0.2222222222222222, \"#7201a8\"], [0.3333333333333333, \"#9c179e\"], [0.4444444444444444, \"#bd3786\"], [0.5555555555555556, \"#d8576b\"], [0.6666666666666666, \"#ed7953\"], [0.7777777777777778, \"#fb9f3a\"], [0.8888888888888888, \"#fdca26\"], [1.0, \"#f0f921\"]], \"type\": \"histogram2d\"}], \"histogram2dcontour\": [{\"colorbar\": {\"outlinewidth\": 0, \"ticks\": \"\"}, \"colorscale\": [[0.0, \"#0d0887\"], [0.1111111111111111, \"#46039f\"], [0.2222222222222222, \"#7201a8\"], [0.3333333333333333, \"#9c179e\"], [0.4444444444444444, \"#bd3786\"], [0.5555555555555556, \"#d8576b\"], [0.6666666666666666, \"#ed7953\"], [0.7777777777777778, \"#fb9f3a\"], [0.8888888888888888, \"#fdca26\"], [1.0, \"#f0f921\"]], \"type\": \"histogram2dcontour\"}], \"mesh3d\": [{\"colorbar\": {\"outlinewidth\": 0, \"ticks\": \"\"}, \"type\": \"mesh3d\"}], \"parcoords\": [{\"line\": {\"colorbar\": {\"outlinewidth\": 0, \"ticks\": \"\"}}, \"type\": \"parcoords\"}], \"pie\": [{\"automargin\": true, \"type\": \"pie\"}], \"scatter\": [{\"marker\": {\"colorbar\": {\"outlinewidth\": 0, \"ticks\": \"\"}}, \"type\": \"scatter\"}], \"scatter3d\": [{\"line\": {\"colorbar\": {\"outlinewidth\": 0, \"ticks\": \"\"}}, \"marker\": {\"colorbar\": {\"outlinewidth\": 0, \"ticks\": \"\"}}, \"type\": \"scatter3d\"}], \"scattercarpet\": [{\"marker\": {\"colorbar\": {\"outlinewidth\": 0, \"ticks\": \"\"}}, \"type\": \"scattercarpet\"}], \"scattergeo\": [{\"marker\": {\"colorbar\": {\"outlinewidth\": 0, \"ticks\": \"\"}}, \"type\": \"scattergeo\"}], \"scattergl\": [{\"marker\": {\"colorbar\": {\"outlinewidth\": 0, \"ticks\": \"\"}}, \"type\": \"scattergl\"}], \"scattermapbox\": [{\"marker\": {\"colorbar\": {\"outlinewidth\": 0, \"ticks\": \"\"}}, \"type\": \"scattermapbox\"}], \"scatterpolar\": [{\"marker\": {\"colorbar\": {\"outlinewidth\": 0, \"ticks\": \"\"}}, \"type\": \"scatterpolar\"}], \"scatterpolargl\": [{\"marker\": {\"colorbar\": {\"outlinewidth\": 0, \"ticks\": \"\"}}, \"type\": \"scatterpolargl\"}], \"scatterternary\": [{\"marker\": {\"colorbar\": {\"outlinewidth\": 0, \"ticks\": \"\"}}, \"type\": \"scatterternary\"}], \"surface\": [{\"colorbar\": {\"outlinewidth\": 0, \"ticks\": \"\"}, \"colorscale\": [[0.0, \"#0d0887\"], [0.1111111111111111, \"#46039f\"], [0.2222222222222222, \"#7201a8\"], [0.3333333333333333, \"#9c179e\"], [0.4444444444444444, \"#bd3786\"], [0.5555555555555556, \"#d8576b\"], [0.6666666666666666, \"#ed7953\"], [0.7777777777777778, \"#fb9f3a\"], [0.8888888888888888, \"#fdca26\"], [1.0, \"#f0f921\"]], \"type\": \"surface\"}], \"table\": [{\"cells\": {\"fill\": {\"color\": \"#EBF0F8\"}, \"line\": {\"color\": \"white\"}}, \"header\": {\"fill\": {\"color\": \"#C8D4E3\"}, \"line\": {\"color\": \"white\"}}, \"type\": \"table\"}]}, \"layout\": {\"annotationdefaults\": {\"arrowcolor\": \"#2a3f5f\", \"arrowhead\": 0, \"arrowwidth\": 1}, \"coloraxis\": {\"colorbar\": {\"outlinewidth\": 0, \"ticks\": \"\"}}, \"colorscale\": {\"diverging\": [[0, \"#8e0152\"], [0.1, \"#c51b7d\"], [0.2, \"#de77ae\"], [0.3, \"#f1b6da\"], [0.4, \"#fde0ef\"], [0.5, \"#f7f7f7\"], [0.6, \"#e6f5d0\"], [0.7, \"#b8e186\"], [0.8, \"#7fbc41\"], [0.9, \"#4d9221\"], [1, \"#276419\"]], \"sequential\": [[0.0, \"#0d0887\"], [0.1111111111111111, \"#46039f\"], [0.2222222222222222, \"#7201a8\"], [0.3333333333333333, \"#9c179e\"], [0.4444444444444444, \"#bd3786\"], [0.5555555555555556, \"#d8576b\"], [0.6666666666666666, \"#ed7953\"], [0.7777777777777778, \"#fb9f3a\"], [0.8888888888888888, \"#fdca26\"], [1.0, \"#f0f921\"]], \"sequentialminus\": [[0.0, \"#0d0887\"], [0.1111111111111111, \"#46039f\"], [0.2222222222222222, \"#7201a8\"], [0.3333333333333333, \"#9c179e\"], [0.4444444444444444, \"#bd3786\"], [0.5555555555555556, \"#d8576b\"], [0.6666666666666666, \"#ed7953\"], [0.7777777777777778, \"#fb9f3a\"], [0.8888888888888888, \"#fdca26\"], [1.0, \"#f0f921\"]]}, \"colorway\": [\"#636efa\", \"#EF553B\", \"#00cc96\", \"#ab63fa\", \"#FFA15A\", \"#19d3f3\", \"#FF6692\", \"#B6E880\", \"#FF97FF\", \"#FECB52\"], \"font\": {\"color\": \"#2a3f5f\"}, \"geo\": {\"bgcolor\": \"white\", \"lakecolor\": \"white\", \"landcolor\": \"#E5ECF6\", \"showlakes\": true, \"showland\": true, \"subunitcolor\": \"white\"}, \"hoverlabel\": {\"align\": \"left\"}, \"hovermode\": \"closest\", \"mapbox\": {\"style\": \"light\"}, \"paper_bgcolor\": \"white\", \"plot_bgcolor\": \"#E5ECF6\", \"polar\": {\"angularaxis\": {\"gridcolor\": \"white\", \"linecolor\": \"white\", \"ticks\": \"\"}, \"bgcolor\": \"#E5ECF6\", \"radialaxis\": {\"gridcolor\": \"white\", \"linecolor\": \"white\", \"ticks\": \"\"}}, \"scene\": {\"xaxis\": {\"backgroundcolor\": \"#E5ECF6\", \"gridcolor\": \"white\", \"gridwidth\": 2, \"linecolor\": \"white\", \"showbackground\": true, \"ticks\": \"\", \"zerolinecolor\": \"white\"}, \"yaxis\": {\"backgroundcolor\": \"#E5ECF6\", \"gridcolor\": \"white\", \"gridwidth\": 2, \"linecolor\": \"white\", \"showbackground\": true, \"ticks\": \"\", \"zerolinecolor\": \"white\"}, \"zaxis\": {\"backgroundcolor\": \"#E5ECF6\", \"gridcolor\": \"white\", \"gridwidth\": 2, \"linecolor\": \"white\", \"showbackground\": true, \"ticks\": \"\", \"zerolinecolor\": \"white\"}}, \"shapedefaults\": {\"line\": {\"color\": \"#2a3f5f\"}}, \"ternary\": {\"aaxis\": {\"gridcolor\": \"white\", \"linecolor\": \"white\", \"ticks\": \"\"}, \"baxis\": {\"gridcolor\": \"white\", \"linecolor\": \"white\", \"ticks\": \"\"}, \"bgcolor\": \"#E5ECF6\", \"caxis\": {\"gridcolor\": \"white\", \"linecolor\": \"white\", \"ticks\": \"\"}}, \"title\": {\"x\": 0.05}, \"xaxis\": {\"automargin\": true, \"gridcolor\": \"white\", \"linecolor\": \"white\", \"ticks\": \"\", \"title\": {\"standoff\": 15}, \"zerolinecolor\": \"white\", \"zerolinewidth\": 2}, \"yaxis\": {\"automargin\": true, \"gridcolor\": \"white\", \"linecolor\": \"white\", \"ticks\": \"\", \"title\": {\"standoff\": 15}, \"zerolinecolor\": \"white\", \"zerolinewidth\": 2}}}},\n",
       "                        {\"responsive\": true}\n",
       "                    ).then(function(){\n",
       "                            \n",
       "var gd = document.getElementById('2d55c8ed-417f-40f2-b54c-a78249f3d7b9');\n",
       "var x = new MutationObserver(function (mutations, observer) {{\n",
       "        var display = window.getComputedStyle(gd).display;\n",
       "        if (!display || display === 'none') {{\n",
       "            console.log([gd, 'removed!']);\n",
       "            Plotly.purge(gd);\n",
       "            observer.disconnect();\n",
       "        }}\n",
       "}});\n",
       "\n",
       "// Listen for the removal of the full notebook cells\n",
       "var notebookContainer = gd.closest('#notebook-container');\n",
       "if (notebookContainer) {{\n",
       "    x.observe(notebookContainer, {childList: true});\n",
       "}}\n",
       "\n",
       "// Listen for the clearing of the current output cell\n",
       "var outputEl = gd.closest('.output');\n",
       "if (outputEl) {{\n",
       "    x.observe(outputEl, {childList: true});\n",
       "}}\n",
       "\n",
       "                        })\n",
       "                };\n",
       "                });\n",
       "            </script>\n",
       "        </div>"
      ]
     },
     "metadata": {},
     "output_type": "display_data"
    },
    {
     "name": "stdout",
     "output_type": "stream",
     "text": [
      "Adversarial\n"
     ]
    },
    {
     "data": {
      "application/vnd.plotly.v1+json": {
       "config": {
        "plotlyServerURL": "https://plot.ly"
       },
       "data": [
        {
         "type": "heatmap",
         "z": [
          [
           1,
           0,
           0,
           0,
           1,
           0,
           0,
           1,
           0,
           0
          ],
          [
           1,
           0,
           0,
           0,
           1,
           0,
           0,
           0,
           0,
           0
          ],
          [
           1,
           0,
           0,
           0,
           1,
           0,
           0,
           0,
           0,
           0
          ],
          [
           1,
           0,
           0,
           0,
           0,
           0,
           0,
           0,
           0,
           1
          ],
          [
           1,
           0,
           0,
           0,
           0,
           0,
           0,
           0,
           0,
           1
          ],
          [
           1,
           0,
           0,
           0,
           0,
           0,
           0,
           0,
           0,
           1
          ],
          [
           1,
           0,
           0,
           0,
           0,
           0,
           0,
           0,
           0,
           0
          ],
          [
           1,
           0,
           0,
           0,
           0,
           0,
           0,
           0,
           0,
           0
          ],
          [
           0,
           0,
           0,
           0,
           0,
           0,
           0,
           0,
           0,
           0
          ],
          [
           0,
           0,
           1,
           0,
           0,
           0,
           0,
           0,
           0,
           0
          ]
         ]
        }
       ],
       "layout": {
        "template": {
         "data": {
          "bar": [
           {
            "error_x": {
             "color": "#2a3f5f"
            },
            "error_y": {
             "color": "#2a3f5f"
            },
            "marker": {
             "line": {
              "color": "#E5ECF6",
              "width": 0.5
             }
            },
            "type": "bar"
           }
          ],
          "barpolar": [
           {
            "marker": {
             "line": {
              "color": "#E5ECF6",
              "width": 0.5
             }
            },
            "type": "barpolar"
           }
          ],
          "carpet": [
           {
            "aaxis": {
             "endlinecolor": "#2a3f5f",
             "gridcolor": "white",
             "linecolor": "white",
             "minorgridcolor": "white",
             "startlinecolor": "#2a3f5f"
            },
            "baxis": {
             "endlinecolor": "#2a3f5f",
             "gridcolor": "white",
             "linecolor": "white",
             "minorgridcolor": "white",
             "startlinecolor": "#2a3f5f"
            },
            "type": "carpet"
           }
          ],
          "choropleth": [
           {
            "colorbar": {
             "outlinewidth": 0,
             "ticks": ""
            },
            "type": "choropleth"
           }
          ],
          "contour": [
           {
            "colorbar": {
             "outlinewidth": 0,
             "ticks": ""
            },
            "colorscale": [
             [
              0,
              "#0d0887"
             ],
             [
              0.1111111111111111,
              "#46039f"
             ],
             [
              0.2222222222222222,
              "#7201a8"
             ],
             [
              0.3333333333333333,
              "#9c179e"
             ],
             [
              0.4444444444444444,
              "#bd3786"
             ],
             [
              0.5555555555555556,
              "#d8576b"
             ],
             [
              0.6666666666666666,
              "#ed7953"
             ],
             [
              0.7777777777777778,
              "#fb9f3a"
             ],
             [
              0.8888888888888888,
              "#fdca26"
             ],
             [
              1,
              "#f0f921"
             ]
            ],
            "type": "contour"
           }
          ],
          "contourcarpet": [
           {
            "colorbar": {
             "outlinewidth": 0,
             "ticks": ""
            },
            "type": "contourcarpet"
           }
          ],
          "heatmap": [
           {
            "colorbar": {
             "outlinewidth": 0,
             "ticks": ""
            },
            "colorscale": [
             [
              0,
              "#0d0887"
             ],
             [
              0.1111111111111111,
              "#46039f"
             ],
             [
              0.2222222222222222,
              "#7201a8"
             ],
             [
              0.3333333333333333,
              "#9c179e"
             ],
             [
              0.4444444444444444,
              "#bd3786"
             ],
             [
              0.5555555555555556,
              "#d8576b"
             ],
             [
              0.6666666666666666,
              "#ed7953"
             ],
             [
              0.7777777777777778,
              "#fb9f3a"
             ],
             [
              0.8888888888888888,
              "#fdca26"
             ],
             [
              1,
              "#f0f921"
             ]
            ],
            "type": "heatmap"
           }
          ],
          "heatmapgl": [
           {
            "colorbar": {
             "outlinewidth": 0,
             "ticks": ""
            },
            "colorscale": [
             [
              0,
              "#0d0887"
             ],
             [
              0.1111111111111111,
              "#46039f"
             ],
             [
              0.2222222222222222,
              "#7201a8"
             ],
             [
              0.3333333333333333,
              "#9c179e"
             ],
             [
              0.4444444444444444,
              "#bd3786"
             ],
             [
              0.5555555555555556,
              "#d8576b"
             ],
             [
              0.6666666666666666,
              "#ed7953"
             ],
             [
              0.7777777777777778,
              "#fb9f3a"
             ],
             [
              0.8888888888888888,
              "#fdca26"
             ],
             [
              1,
              "#f0f921"
             ]
            ],
            "type": "heatmapgl"
           }
          ],
          "histogram": [
           {
            "marker": {
             "colorbar": {
              "outlinewidth": 0,
              "ticks": ""
             }
            },
            "type": "histogram"
           }
          ],
          "histogram2d": [
           {
            "colorbar": {
             "outlinewidth": 0,
             "ticks": ""
            },
            "colorscale": [
             [
              0,
              "#0d0887"
             ],
             [
              0.1111111111111111,
              "#46039f"
             ],
             [
              0.2222222222222222,
              "#7201a8"
             ],
             [
              0.3333333333333333,
              "#9c179e"
             ],
             [
              0.4444444444444444,
              "#bd3786"
             ],
             [
              0.5555555555555556,
              "#d8576b"
             ],
             [
              0.6666666666666666,
              "#ed7953"
             ],
             [
              0.7777777777777778,
              "#fb9f3a"
             ],
             [
              0.8888888888888888,
              "#fdca26"
             ],
             [
              1,
              "#f0f921"
             ]
            ],
            "type": "histogram2d"
           }
          ],
          "histogram2dcontour": [
           {
            "colorbar": {
             "outlinewidth": 0,
             "ticks": ""
            },
            "colorscale": [
             [
              0,
              "#0d0887"
             ],
             [
              0.1111111111111111,
              "#46039f"
             ],
             [
              0.2222222222222222,
              "#7201a8"
             ],
             [
              0.3333333333333333,
              "#9c179e"
             ],
             [
              0.4444444444444444,
              "#bd3786"
             ],
             [
              0.5555555555555556,
              "#d8576b"
             ],
             [
              0.6666666666666666,
              "#ed7953"
             ],
             [
              0.7777777777777778,
              "#fb9f3a"
             ],
             [
              0.8888888888888888,
              "#fdca26"
             ],
             [
              1,
              "#f0f921"
             ]
            ],
            "type": "histogram2dcontour"
           }
          ],
          "mesh3d": [
           {
            "colorbar": {
             "outlinewidth": 0,
             "ticks": ""
            },
            "type": "mesh3d"
           }
          ],
          "parcoords": [
           {
            "line": {
             "colorbar": {
              "outlinewidth": 0,
              "ticks": ""
             }
            },
            "type": "parcoords"
           }
          ],
          "pie": [
           {
            "automargin": true,
            "type": "pie"
           }
          ],
          "scatter": [
           {
            "marker": {
             "colorbar": {
              "outlinewidth": 0,
              "ticks": ""
             }
            },
            "type": "scatter"
           }
          ],
          "scatter3d": [
           {
            "line": {
             "colorbar": {
              "outlinewidth": 0,
              "ticks": ""
             }
            },
            "marker": {
             "colorbar": {
              "outlinewidth": 0,
              "ticks": ""
             }
            },
            "type": "scatter3d"
           }
          ],
          "scattercarpet": [
           {
            "marker": {
             "colorbar": {
              "outlinewidth": 0,
              "ticks": ""
             }
            },
            "type": "scattercarpet"
           }
          ],
          "scattergeo": [
           {
            "marker": {
             "colorbar": {
              "outlinewidth": 0,
              "ticks": ""
             }
            },
            "type": "scattergeo"
           }
          ],
          "scattergl": [
           {
            "marker": {
             "colorbar": {
              "outlinewidth": 0,
              "ticks": ""
             }
            },
            "type": "scattergl"
           }
          ],
          "scattermapbox": [
           {
            "marker": {
             "colorbar": {
              "outlinewidth": 0,
              "ticks": ""
             }
            },
            "type": "scattermapbox"
           }
          ],
          "scatterpolar": [
           {
            "marker": {
             "colorbar": {
              "outlinewidth": 0,
              "ticks": ""
             }
            },
            "type": "scatterpolar"
           }
          ],
          "scatterpolargl": [
           {
            "marker": {
             "colorbar": {
              "outlinewidth": 0,
              "ticks": ""
             }
            },
            "type": "scatterpolargl"
           }
          ],
          "scatterternary": [
           {
            "marker": {
             "colorbar": {
              "outlinewidth": 0,
              "ticks": ""
             }
            },
            "type": "scatterternary"
           }
          ],
          "surface": [
           {
            "colorbar": {
             "outlinewidth": 0,
             "ticks": ""
            },
            "colorscale": [
             [
              0,
              "#0d0887"
             ],
             [
              0.1111111111111111,
              "#46039f"
             ],
             [
              0.2222222222222222,
              "#7201a8"
             ],
             [
              0.3333333333333333,
              "#9c179e"
             ],
             [
              0.4444444444444444,
              "#bd3786"
             ],
             [
              0.5555555555555556,
              "#d8576b"
             ],
             [
              0.6666666666666666,
              "#ed7953"
             ],
             [
              0.7777777777777778,
              "#fb9f3a"
             ],
             [
              0.8888888888888888,
              "#fdca26"
             ],
             [
              1,
              "#f0f921"
             ]
            ],
            "type": "surface"
           }
          ],
          "table": [
           {
            "cells": {
             "fill": {
              "color": "#EBF0F8"
             },
             "line": {
              "color": "white"
             }
            },
            "header": {
             "fill": {
              "color": "#C8D4E3"
             },
             "line": {
              "color": "white"
             }
            },
            "type": "table"
           }
          ]
         },
         "layout": {
          "annotationdefaults": {
           "arrowcolor": "#2a3f5f",
           "arrowhead": 0,
           "arrowwidth": 1
          },
          "coloraxis": {
           "colorbar": {
            "outlinewidth": 0,
            "ticks": ""
           }
          },
          "colorscale": {
           "diverging": [
            [
             0,
             "#8e0152"
            ],
            [
             0.1,
             "#c51b7d"
            ],
            [
             0.2,
             "#de77ae"
            ],
            [
             0.3,
             "#f1b6da"
            ],
            [
             0.4,
             "#fde0ef"
            ],
            [
             0.5,
             "#f7f7f7"
            ],
            [
             0.6,
             "#e6f5d0"
            ],
            [
             0.7,
             "#b8e186"
            ],
            [
             0.8,
             "#7fbc41"
            ],
            [
             0.9,
             "#4d9221"
            ],
            [
             1,
             "#276419"
            ]
           ],
           "sequential": [
            [
             0,
             "#0d0887"
            ],
            [
             0.1111111111111111,
             "#46039f"
            ],
            [
             0.2222222222222222,
             "#7201a8"
            ],
            [
             0.3333333333333333,
             "#9c179e"
            ],
            [
             0.4444444444444444,
             "#bd3786"
            ],
            [
             0.5555555555555556,
             "#d8576b"
            ],
            [
             0.6666666666666666,
             "#ed7953"
            ],
            [
             0.7777777777777778,
             "#fb9f3a"
            ],
            [
             0.8888888888888888,
             "#fdca26"
            ],
            [
             1,
             "#f0f921"
            ]
           ],
           "sequentialminus": [
            [
             0,
             "#0d0887"
            ],
            [
             0.1111111111111111,
             "#46039f"
            ],
            [
             0.2222222222222222,
             "#7201a8"
            ],
            [
             0.3333333333333333,
             "#9c179e"
            ],
            [
             0.4444444444444444,
             "#bd3786"
            ],
            [
             0.5555555555555556,
             "#d8576b"
            ],
            [
             0.6666666666666666,
             "#ed7953"
            ],
            [
             0.7777777777777778,
             "#fb9f3a"
            ],
            [
             0.8888888888888888,
             "#fdca26"
            ],
            [
             1,
             "#f0f921"
            ]
           ]
          },
          "colorway": [
           "#636efa",
           "#EF553B",
           "#00cc96",
           "#ab63fa",
           "#FFA15A",
           "#19d3f3",
           "#FF6692",
           "#B6E880",
           "#FF97FF",
           "#FECB52"
          ],
          "font": {
           "color": "#2a3f5f"
          },
          "geo": {
           "bgcolor": "white",
           "lakecolor": "white",
           "landcolor": "#E5ECF6",
           "showlakes": true,
           "showland": true,
           "subunitcolor": "white"
          },
          "hoverlabel": {
           "align": "left"
          },
          "hovermode": "closest",
          "mapbox": {
           "style": "light"
          },
          "paper_bgcolor": "white",
          "plot_bgcolor": "#E5ECF6",
          "polar": {
           "angularaxis": {
            "gridcolor": "white",
            "linecolor": "white",
            "ticks": ""
           },
           "bgcolor": "#E5ECF6",
           "radialaxis": {
            "gridcolor": "white",
            "linecolor": "white",
            "ticks": ""
           }
          },
          "scene": {
           "xaxis": {
            "backgroundcolor": "#E5ECF6",
            "gridcolor": "white",
            "gridwidth": 2,
            "linecolor": "white",
            "showbackground": true,
            "ticks": "",
            "zerolinecolor": "white"
           },
           "yaxis": {
            "backgroundcolor": "#E5ECF6",
            "gridcolor": "white",
            "gridwidth": 2,
            "linecolor": "white",
            "showbackground": true,
            "ticks": "",
            "zerolinecolor": "white"
           },
           "zaxis": {
            "backgroundcolor": "#E5ECF6",
            "gridcolor": "white",
            "gridwidth": 2,
            "linecolor": "white",
            "showbackground": true,
            "ticks": "",
            "zerolinecolor": "white"
           }
          },
          "shapedefaults": {
           "line": {
            "color": "#2a3f5f"
           }
          },
          "ternary": {
           "aaxis": {
            "gridcolor": "white",
            "linecolor": "white",
            "ticks": ""
           },
           "baxis": {
            "gridcolor": "white",
            "linecolor": "white",
            "ticks": ""
           },
           "bgcolor": "#E5ECF6",
           "caxis": {
            "gridcolor": "white",
            "linecolor": "white",
            "ticks": ""
           }
          },
          "title": {
           "x": 0.05
          },
          "xaxis": {
           "automargin": true,
           "gridcolor": "white",
           "linecolor": "white",
           "ticks": "",
           "title": {
            "standoff": 15
           },
           "zerolinecolor": "white",
           "zerolinewidth": 2
          },
          "yaxis": {
           "automargin": true,
           "gridcolor": "white",
           "linecolor": "white",
           "ticks": "",
           "title": {
            "standoff": 15
           },
           "zerolinecolor": "white",
           "zerolinewidth": 2
          }
         }
        }
       }
      },
      "text/html": [
       "<div>\n",
       "        \n",
       "        \n",
       "            <div id=\"475f17e5-32bc-4fb5-b198-cbf22746182f\" class=\"plotly-graph-div\" style=\"height:525px; width:100%;\"></div>\n",
       "            <script type=\"text/javascript\">\n",
       "                require([\"plotly\"], function(Plotly) {\n",
       "                    window.PLOTLYENV=window.PLOTLYENV || {};\n",
       "                    \n",
       "                if (document.getElementById(\"475f17e5-32bc-4fb5-b198-cbf22746182f\")) {\n",
       "                    Plotly.newPlot(\n",
       "                        '475f17e5-32bc-4fb5-b198-cbf22746182f',\n",
       "                        [{\"type\": \"heatmap\", \"z\": [[1.0, 0.0, 0.0, 0.0, 1.0, 0.0, 0.0, 1.0, 0.0, 0.0], [1.0, 0.0, 0.0, 0.0, 1.0, 0.0, 0.0, 0.0, 0.0, 0.0], [1.0, 0.0, 0.0, 0.0, 1.0, 0.0, 0.0, 0.0, 0.0, 0.0], [1.0, 0.0, 0.0, 0.0, 0.0, 0.0, 0.0, 0.0, 0.0, 1.0], [1.0, 0.0, 0.0, 0.0, 0.0, 0.0, 0.0, 0.0, 0.0, 1.0], [1.0, 0.0, 0.0, 0.0, 0.0, 0.0, 0.0, 0.0, 0.0, 1.0], [1.0, 0.0, 0.0, 0.0, 0.0, 0.0, 0.0, 0.0, 0.0, 0.0], [1.0, 0.0, 0.0, 0.0, 0.0, 0.0, 0.0, 0.0, 0.0, 0.0], [0.0, 0.0, 0.0, 0.0, 0.0, 0.0, 0.0, 0.0, 0.0, 0.0], [0.0, 0.0, 1.0, 0.0, 0.0, 0.0, 0.0, 0.0, 0.0, 0.0]]}],\n",
       "                        {\"template\": {\"data\": {\"bar\": [{\"error_x\": {\"color\": \"#2a3f5f\"}, \"error_y\": {\"color\": \"#2a3f5f\"}, \"marker\": {\"line\": {\"color\": \"#E5ECF6\", \"width\": 0.5}}, \"type\": \"bar\"}], \"barpolar\": [{\"marker\": {\"line\": {\"color\": \"#E5ECF6\", \"width\": 0.5}}, \"type\": \"barpolar\"}], \"carpet\": [{\"aaxis\": {\"endlinecolor\": \"#2a3f5f\", \"gridcolor\": \"white\", \"linecolor\": \"white\", \"minorgridcolor\": \"white\", \"startlinecolor\": \"#2a3f5f\"}, \"baxis\": {\"endlinecolor\": \"#2a3f5f\", \"gridcolor\": \"white\", \"linecolor\": \"white\", \"minorgridcolor\": \"white\", \"startlinecolor\": \"#2a3f5f\"}, \"type\": \"carpet\"}], \"choropleth\": [{\"colorbar\": {\"outlinewidth\": 0, \"ticks\": \"\"}, \"type\": \"choropleth\"}], \"contour\": [{\"colorbar\": {\"outlinewidth\": 0, \"ticks\": \"\"}, \"colorscale\": [[0.0, \"#0d0887\"], [0.1111111111111111, \"#46039f\"], [0.2222222222222222, \"#7201a8\"], [0.3333333333333333, \"#9c179e\"], [0.4444444444444444, \"#bd3786\"], [0.5555555555555556, \"#d8576b\"], [0.6666666666666666, \"#ed7953\"], [0.7777777777777778, \"#fb9f3a\"], [0.8888888888888888, \"#fdca26\"], [1.0, \"#f0f921\"]], \"type\": \"contour\"}], \"contourcarpet\": [{\"colorbar\": {\"outlinewidth\": 0, \"ticks\": \"\"}, \"type\": \"contourcarpet\"}], \"heatmap\": [{\"colorbar\": {\"outlinewidth\": 0, \"ticks\": \"\"}, \"colorscale\": [[0.0, \"#0d0887\"], [0.1111111111111111, \"#46039f\"], [0.2222222222222222, \"#7201a8\"], [0.3333333333333333, \"#9c179e\"], [0.4444444444444444, \"#bd3786\"], [0.5555555555555556, \"#d8576b\"], [0.6666666666666666, \"#ed7953\"], [0.7777777777777778, \"#fb9f3a\"], [0.8888888888888888, \"#fdca26\"], [1.0, \"#f0f921\"]], \"type\": \"heatmap\"}], \"heatmapgl\": [{\"colorbar\": {\"outlinewidth\": 0, \"ticks\": \"\"}, \"colorscale\": [[0.0, \"#0d0887\"], [0.1111111111111111, \"#46039f\"], [0.2222222222222222, \"#7201a8\"], [0.3333333333333333, \"#9c179e\"], [0.4444444444444444, \"#bd3786\"], [0.5555555555555556, \"#d8576b\"], [0.6666666666666666, \"#ed7953\"], [0.7777777777777778, \"#fb9f3a\"], [0.8888888888888888, \"#fdca26\"], [1.0, \"#f0f921\"]], \"type\": \"heatmapgl\"}], \"histogram\": [{\"marker\": {\"colorbar\": {\"outlinewidth\": 0, \"ticks\": \"\"}}, \"type\": \"histogram\"}], \"histogram2d\": [{\"colorbar\": {\"outlinewidth\": 0, \"ticks\": \"\"}, \"colorscale\": [[0.0, \"#0d0887\"], [0.1111111111111111, \"#46039f\"], [0.2222222222222222, \"#7201a8\"], [0.3333333333333333, \"#9c179e\"], [0.4444444444444444, \"#bd3786\"], [0.5555555555555556, \"#d8576b\"], [0.6666666666666666, \"#ed7953\"], [0.7777777777777778, \"#fb9f3a\"], [0.8888888888888888, \"#fdca26\"], [1.0, \"#f0f921\"]], \"type\": \"histogram2d\"}], \"histogram2dcontour\": [{\"colorbar\": {\"outlinewidth\": 0, \"ticks\": \"\"}, \"colorscale\": [[0.0, \"#0d0887\"], [0.1111111111111111, \"#46039f\"], [0.2222222222222222, \"#7201a8\"], [0.3333333333333333, \"#9c179e\"], [0.4444444444444444, \"#bd3786\"], [0.5555555555555556, \"#d8576b\"], [0.6666666666666666, \"#ed7953\"], [0.7777777777777778, \"#fb9f3a\"], [0.8888888888888888, \"#fdca26\"], [1.0, \"#f0f921\"]], \"type\": \"histogram2dcontour\"}], \"mesh3d\": [{\"colorbar\": {\"outlinewidth\": 0, \"ticks\": \"\"}, \"type\": \"mesh3d\"}], \"parcoords\": [{\"line\": {\"colorbar\": {\"outlinewidth\": 0, \"ticks\": \"\"}}, \"type\": \"parcoords\"}], \"pie\": [{\"automargin\": true, \"type\": \"pie\"}], \"scatter\": [{\"marker\": {\"colorbar\": {\"outlinewidth\": 0, \"ticks\": \"\"}}, \"type\": \"scatter\"}], \"scatter3d\": [{\"line\": {\"colorbar\": {\"outlinewidth\": 0, \"ticks\": \"\"}}, \"marker\": {\"colorbar\": {\"outlinewidth\": 0, \"ticks\": \"\"}}, \"type\": \"scatter3d\"}], \"scattercarpet\": [{\"marker\": {\"colorbar\": {\"outlinewidth\": 0, \"ticks\": \"\"}}, \"type\": \"scattercarpet\"}], \"scattergeo\": [{\"marker\": {\"colorbar\": {\"outlinewidth\": 0, \"ticks\": \"\"}}, \"type\": \"scattergeo\"}], \"scattergl\": [{\"marker\": {\"colorbar\": {\"outlinewidth\": 0, \"ticks\": \"\"}}, \"type\": \"scattergl\"}], \"scattermapbox\": [{\"marker\": {\"colorbar\": {\"outlinewidth\": 0, \"ticks\": \"\"}}, \"type\": \"scattermapbox\"}], \"scatterpolar\": [{\"marker\": {\"colorbar\": {\"outlinewidth\": 0, \"ticks\": \"\"}}, \"type\": \"scatterpolar\"}], \"scatterpolargl\": [{\"marker\": {\"colorbar\": {\"outlinewidth\": 0, \"ticks\": \"\"}}, \"type\": \"scatterpolargl\"}], \"scatterternary\": [{\"marker\": {\"colorbar\": {\"outlinewidth\": 0, \"ticks\": \"\"}}, \"type\": \"scatterternary\"}], \"surface\": [{\"colorbar\": {\"outlinewidth\": 0, \"ticks\": \"\"}, \"colorscale\": [[0.0, \"#0d0887\"], [0.1111111111111111, \"#46039f\"], [0.2222222222222222, \"#7201a8\"], [0.3333333333333333, \"#9c179e\"], [0.4444444444444444, \"#bd3786\"], [0.5555555555555556, \"#d8576b\"], [0.6666666666666666, \"#ed7953\"], [0.7777777777777778, \"#fb9f3a\"], [0.8888888888888888, \"#fdca26\"], [1.0, \"#f0f921\"]], \"type\": \"surface\"}], \"table\": [{\"cells\": {\"fill\": {\"color\": \"#EBF0F8\"}, \"line\": {\"color\": \"white\"}}, \"header\": {\"fill\": {\"color\": \"#C8D4E3\"}, \"line\": {\"color\": \"white\"}}, \"type\": \"table\"}]}, \"layout\": {\"annotationdefaults\": {\"arrowcolor\": \"#2a3f5f\", \"arrowhead\": 0, \"arrowwidth\": 1}, \"coloraxis\": {\"colorbar\": {\"outlinewidth\": 0, \"ticks\": \"\"}}, \"colorscale\": {\"diverging\": [[0, \"#8e0152\"], [0.1, \"#c51b7d\"], [0.2, \"#de77ae\"], [0.3, \"#f1b6da\"], [0.4, \"#fde0ef\"], [0.5, \"#f7f7f7\"], [0.6, \"#e6f5d0\"], [0.7, \"#b8e186\"], [0.8, \"#7fbc41\"], [0.9, \"#4d9221\"], [1, \"#276419\"]], \"sequential\": [[0.0, \"#0d0887\"], [0.1111111111111111, \"#46039f\"], [0.2222222222222222, \"#7201a8\"], [0.3333333333333333, \"#9c179e\"], [0.4444444444444444, \"#bd3786\"], [0.5555555555555556, \"#d8576b\"], [0.6666666666666666, \"#ed7953\"], [0.7777777777777778, \"#fb9f3a\"], [0.8888888888888888, \"#fdca26\"], [1.0, \"#f0f921\"]], \"sequentialminus\": [[0.0, \"#0d0887\"], [0.1111111111111111, \"#46039f\"], [0.2222222222222222, \"#7201a8\"], [0.3333333333333333, \"#9c179e\"], [0.4444444444444444, \"#bd3786\"], [0.5555555555555556, \"#d8576b\"], [0.6666666666666666, \"#ed7953\"], [0.7777777777777778, \"#fb9f3a\"], [0.8888888888888888, \"#fdca26\"], [1.0, \"#f0f921\"]]}, \"colorway\": [\"#636efa\", \"#EF553B\", \"#00cc96\", \"#ab63fa\", \"#FFA15A\", \"#19d3f3\", \"#FF6692\", \"#B6E880\", \"#FF97FF\", \"#FECB52\"], \"font\": {\"color\": \"#2a3f5f\"}, \"geo\": {\"bgcolor\": \"white\", \"lakecolor\": \"white\", \"landcolor\": \"#E5ECF6\", \"showlakes\": true, \"showland\": true, \"subunitcolor\": \"white\"}, \"hoverlabel\": {\"align\": \"left\"}, \"hovermode\": \"closest\", \"mapbox\": {\"style\": \"light\"}, \"paper_bgcolor\": \"white\", \"plot_bgcolor\": \"#E5ECF6\", \"polar\": {\"angularaxis\": {\"gridcolor\": \"white\", \"linecolor\": \"white\", \"ticks\": \"\"}, \"bgcolor\": \"#E5ECF6\", \"radialaxis\": {\"gridcolor\": \"white\", \"linecolor\": \"white\", \"ticks\": \"\"}}, \"scene\": {\"xaxis\": {\"backgroundcolor\": \"#E5ECF6\", \"gridcolor\": \"white\", \"gridwidth\": 2, \"linecolor\": \"white\", \"showbackground\": true, \"ticks\": \"\", \"zerolinecolor\": \"white\"}, \"yaxis\": {\"backgroundcolor\": \"#E5ECF6\", \"gridcolor\": \"white\", \"gridwidth\": 2, \"linecolor\": \"white\", \"showbackground\": true, \"ticks\": \"\", \"zerolinecolor\": \"white\"}, \"zaxis\": {\"backgroundcolor\": \"#E5ECF6\", \"gridcolor\": \"white\", \"gridwidth\": 2, \"linecolor\": \"white\", \"showbackground\": true, \"ticks\": \"\", \"zerolinecolor\": \"white\"}}, \"shapedefaults\": {\"line\": {\"color\": \"#2a3f5f\"}}, \"ternary\": {\"aaxis\": {\"gridcolor\": \"white\", \"linecolor\": \"white\", \"ticks\": \"\"}, \"baxis\": {\"gridcolor\": \"white\", \"linecolor\": \"white\", \"ticks\": \"\"}, \"bgcolor\": \"#E5ECF6\", \"caxis\": {\"gridcolor\": \"white\", \"linecolor\": \"white\", \"ticks\": \"\"}}, \"title\": {\"x\": 0.05}, \"xaxis\": {\"automargin\": true, \"gridcolor\": \"white\", \"linecolor\": \"white\", \"ticks\": \"\", \"title\": {\"standoff\": 15}, \"zerolinecolor\": \"white\", \"zerolinewidth\": 2}, \"yaxis\": {\"automargin\": true, \"gridcolor\": \"white\", \"linecolor\": \"white\", \"ticks\": \"\", \"title\": {\"standoff\": 15}, \"zerolinecolor\": \"white\", \"zerolinewidth\": 2}}}},\n",
       "                        {\"responsive\": true}\n",
       "                    ).then(function(){\n",
       "                            \n",
       "var gd = document.getElementById('475f17e5-32bc-4fb5-b198-cbf22746182f');\n",
       "var x = new MutationObserver(function (mutations, observer) {{\n",
       "        var display = window.getComputedStyle(gd).display;\n",
       "        if (!display || display === 'none') {{\n",
       "            console.log([gd, 'removed!']);\n",
       "            Plotly.purge(gd);\n",
       "            observer.disconnect();\n",
       "        }}\n",
       "}});\n",
       "\n",
       "// Listen for the removal of the full notebook cells\n",
       "var notebookContainer = gd.closest('#notebook-container');\n",
       "if (notebookContainer) {{\n",
       "    x.observe(notebookContainer, {childList: true});\n",
       "}}\n",
       "\n",
       "// Listen for the clearing of the current output cell\n",
       "var outputEl = gd.closest('.output');\n",
       "if (outputEl) {{\n",
       "    x.observe(outputEl, {childList: true});\n",
       "}}\n",
       "\n",
       "                        })\n",
       "                };\n",
       "                });\n",
       "            </script>\n",
       "        </div>"
      ]
     },
     "metadata": {},
     "output_type": "display_data"
    },
    {
     "name": "stdout",
     "output_type": "stream",
     "text": [
      "LQR\n"
     ]
    },
    {
     "data": {
      "application/vnd.plotly.v1+json": {
       "config": {
        "plotlyServerURL": "https://plot.ly"
       },
       "data": [
        {
         "type": "heatmap",
         "z": [
          [
           0,
           0,
           0,
           0,
           0,
           0,
           0,
           0,
           0,
           0
          ],
          [
           0,
           0,
           0,
           0,
           0,
           0,
           0,
           0,
           0,
           0
          ],
          [
           0,
           0,
           0,
           0,
           1,
           0,
           0,
           0,
           0,
           0
          ],
          [
           0,
           0,
           0,
           0,
           0,
           0,
           0,
           0,
           0,
           0
          ],
          [
           1,
           0,
           0,
           0,
           0,
           0,
           0,
           0,
           0,
           1
          ],
          [
           1,
           0,
           0,
           0,
           0,
           0,
           0,
           0,
           0,
           1
          ],
          [
           0,
           0,
           0,
           0,
           0,
           0,
           0,
           0,
           0,
           0
          ],
          [
           0,
           0,
           0,
           0,
           0,
           1,
           0,
           0,
           0,
           0
          ],
          [
           0,
           0,
           0,
           0,
           0,
           0,
           0,
           0,
           0,
           0
          ],
          [
           0,
           0,
           0,
           0,
           0,
           0,
           0,
           0,
           0,
           0
          ]
         ]
        }
       ],
       "layout": {
        "template": {
         "data": {
          "bar": [
           {
            "error_x": {
             "color": "#2a3f5f"
            },
            "error_y": {
             "color": "#2a3f5f"
            },
            "marker": {
             "line": {
              "color": "#E5ECF6",
              "width": 0.5
             }
            },
            "type": "bar"
           }
          ],
          "barpolar": [
           {
            "marker": {
             "line": {
              "color": "#E5ECF6",
              "width": 0.5
             }
            },
            "type": "barpolar"
           }
          ],
          "carpet": [
           {
            "aaxis": {
             "endlinecolor": "#2a3f5f",
             "gridcolor": "white",
             "linecolor": "white",
             "minorgridcolor": "white",
             "startlinecolor": "#2a3f5f"
            },
            "baxis": {
             "endlinecolor": "#2a3f5f",
             "gridcolor": "white",
             "linecolor": "white",
             "minorgridcolor": "white",
             "startlinecolor": "#2a3f5f"
            },
            "type": "carpet"
           }
          ],
          "choropleth": [
           {
            "colorbar": {
             "outlinewidth": 0,
             "ticks": ""
            },
            "type": "choropleth"
           }
          ],
          "contour": [
           {
            "colorbar": {
             "outlinewidth": 0,
             "ticks": ""
            },
            "colorscale": [
             [
              0,
              "#0d0887"
             ],
             [
              0.1111111111111111,
              "#46039f"
             ],
             [
              0.2222222222222222,
              "#7201a8"
             ],
             [
              0.3333333333333333,
              "#9c179e"
             ],
             [
              0.4444444444444444,
              "#bd3786"
             ],
             [
              0.5555555555555556,
              "#d8576b"
             ],
             [
              0.6666666666666666,
              "#ed7953"
             ],
             [
              0.7777777777777778,
              "#fb9f3a"
             ],
             [
              0.8888888888888888,
              "#fdca26"
             ],
             [
              1,
              "#f0f921"
             ]
            ],
            "type": "contour"
           }
          ],
          "contourcarpet": [
           {
            "colorbar": {
             "outlinewidth": 0,
             "ticks": ""
            },
            "type": "contourcarpet"
           }
          ],
          "heatmap": [
           {
            "colorbar": {
             "outlinewidth": 0,
             "ticks": ""
            },
            "colorscale": [
             [
              0,
              "#0d0887"
             ],
             [
              0.1111111111111111,
              "#46039f"
             ],
             [
              0.2222222222222222,
              "#7201a8"
             ],
             [
              0.3333333333333333,
              "#9c179e"
             ],
             [
              0.4444444444444444,
              "#bd3786"
             ],
             [
              0.5555555555555556,
              "#d8576b"
             ],
             [
              0.6666666666666666,
              "#ed7953"
             ],
             [
              0.7777777777777778,
              "#fb9f3a"
             ],
             [
              0.8888888888888888,
              "#fdca26"
             ],
             [
              1,
              "#f0f921"
             ]
            ],
            "type": "heatmap"
           }
          ],
          "heatmapgl": [
           {
            "colorbar": {
             "outlinewidth": 0,
             "ticks": ""
            },
            "colorscale": [
             [
              0,
              "#0d0887"
             ],
             [
              0.1111111111111111,
              "#46039f"
             ],
             [
              0.2222222222222222,
              "#7201a8"
             ],
             [
              0.3333333333333333,
              "#9c179e"
             ],
             [
              0.4444444444444444,
              "#bd3786"
             ],
             [
              0.5555555555555556,
              "#d8576b"
             ],
             [
              0.6666666666666666,
              "#ed7953"
             ],
             [
              0.7777777777777778,
              "#fb9f3a"
             ],
             [
              0.8888888888888888,
              "#fdca26"
             ],
             [
              1,
              "#f0f921"
             ]
            ],
            "type": "heatmapgl"
           }
          ],
          "histogram": [
           {
            "marker": {
             "colorbar": {
              "outlinewidth": 0,
              "ticks": ""
             }
            },
            "type": "histogram"
           }
          ],
          "histogram2d": [
           {
            "colorbar": {
             "outlinewidth": 0,
             "ticks": ""
            },
            "colorscale": [
             [
              0,
              "#0d0887"
             ],
             [
              0.1111111111111111,
              "#46039f"
             ],
             [
              0.2222222222222222,
              "#7201a8"
             ],
             [
              0.3333333333333333,
              "#9c179e"
             ],
             [
              0.4444444444444444,
              "#bd3786"
             ],
             [
              0.5555555555555556,
              "#d8576b"
             ],
             [
              0.6666666666666666,
              "#ed7953"
             ],
             [
              0.7777777777777778,
              "#fb9f3a"
             ],
             [
              0.8888888888888888,
              "#fdca26"
             ],
             [
              1,
              "#f0f921"
             ]
            ],
            "type": "histogram2d"
           }
          ],
          "histogram2dcontour": [
           {
            "colorbar": {
             "outlinewidth": 0,
             "ticks": ""
            },
            "colorscale": [
             [
              0,
              "#0d0887"
             ],
             [
              0.1111111111111111,
              "#46039f"
             ],
             [
              0.2222222222222222,
              "#7201a8"
             ],
             [
              0.3333333333333333,
              "#9c179e"
             ],
             [
              0.4444444444444444,
              "#bd3786"
             ],
             [
              0.5555555555555556,
              "#d8576b"
             ],
             [
              0.6666666666666666,
              "#ed7953"
             ],
             [
              0.7777777777777778,
              "#fb9f3a"
             ],
             [
              0.8888888888888888,
              "#fdca26"
             ],
             [
              1,
              "#f0f921"
             ]
            ],
            "type": "histogram2dcontour"
           }
          ],
          "mesh3d": [
           {
            "colorbar": {
             "outlinewidth": 0,
             "ticks": ""
            },
            "type": "mesh3d"
           }
          ],
          "parcoords": [
           {
            "line": {
             "colorbar": {
              "outlinewidth": 0,
              "ticks": ""
             }
            },
            "type": "parcoords"
           }
          ],
          "pie": [
           {
            "automargin": true,
            "type": "pie"
           }
          ],
          "scatter": [
           {
            "marker": {
             "colorbar": {
              "outlinewidth": 0,
              "ticks": ""
             }
            },
            "type": "scatter"
           }
          ],
          "scatter3d": [
           {
            "line": {
             "colorbar": {
              "outlinewidth": 0,
              "ticks": ""
             }
            },
            "marker": {
             "colorbar": {
              "outlinewidth": 0,
              "ticks": ""
             }
            },
            "type": "scatter3d"
           }
          ],
          "scattercarpet": [
           {
            "marker": {
             "colorbar": {
              "outlinewidth": 0,
              "ticks": ""
             }
            },
            "type": "scattercarpet"
           }
          ],
          "scattergeo": [
           {
            "marker": {
             "colorbar": {
              "outlinewidth": 0,
              "ticks": ""
             }
            },
            "type": "scattergeo"
           }
          ],
          "scattergl": [
           {
            "marker": {
             "colorbar": {
              "outlinewidth": 0,
              "ticks": ""
             }
            },
            "type": "scattergl"
           }
          ],
          "scattermapbox": [
           {
            "marker": {
             "colorbar": {
              "outlinewidth": 0,
              "ticks": ""
             }
            },
            "type": "scattermapbox"
           }
          ],
          "scatterpolar": [
           {
            "marker": {
             "colorbar": {
              "outlinewidth": 0,
              "ticks": ""
             }
            },
            "type": "scatterpolar"
           }
          ],
          "scatterpolargl": [
           {
            "marker": {
             "colorbar": {
              "outlinewidth": 0,
              "ticks": ""
             }
            },
            "type": "scatterpolargl"
           }
          ],
          "scatterternary": [
           {
            "marker": {
             "colorbar": {
              "outlinewidth": 0,
              "ticks": ""
             }
            },
            "type": "scatterternary"
           }
          ],
          "surface": [
           {
            "colorbar": {
             "outlinewidth": 0,
             "ticks": ""
            },
            "colorscale": [
             [
              0,
              "#0d0887"
             ],
             [
              0.1111111111111111,
              "#46039f"
             ],
             [
              0.2222222222222222,
              "#7201a8"
             ],
             [
              0.3333333333333333,
              "#9c179e"
             ],
             [
              0.4444444444444444,
              "#bd3786"
             ],
             [
              0.5555555555555556,
              "#d8576b"
             ],
             [
              0.6666666666666666,
              "#ed7953"
             ],
             [
              0.7777777777777778,
              "#fb9f3a"
             ],
             [
              0.8888888888888888,
              "#fdca26"
             ],
             [
              1,
              "#f0f921"
             ]
            ],
            "type": "surface"
           }
          ],
          "table": [
           {
            "cells": {
             "fill": {
              "color": "#EBF0F8"
             },
             "line": {
              "color": "white"
             }
            },
            "header": {
             "fill": {
              "color": "#C8D4E3"
             },
             "line": {
              "color": "white"
             }
            },
            "type": "table"
           }
          ]
         },
         "layout": {
          "annotationdefaults": {
           "arrowcolor": "#2a3f5f",
           "arrowhead": 0,
           "arrowwidth": 1
          },
          "coloraxis": {
           "colorbar": {
            "outlinewidth": 0,
            "ticks": ""
           }
          },
          "colorscale": {
           "diverging": [
            [
             0,
             "#8e0152"
            ],
            [
             0.1,
             "#c51b7d"
            ],
            [
             0.2,
             "#de77ae"
            ],
            [
             0.3,
             "#f1b6da"
            ],
            [
             0.4,
             "#fde0ef"
            ],
            [
             0.5,
             "#f7f7f7"
            ],
            [
             0.6,
             "#e6f5d0"
            ],
            [
             0.7,
             "#b8e186"
            ],
            [
             0.8,
             "#7fbc41"
            ],
            [
             0.9,
             "#4d9221"
            ],
            [
             1,
             "#276419"
            ]
           ],
           "sequential": [
            [
             0,
             "#0d0887"
            ],
            [
             0.1111111111111111,
             "#46039f"
            ],
            [
             0.2222222222222222,
             "#7201a8"
            ],
            [
             0.3333333333333333,
             "#9c179e"
            ],
            [
             0.4444444444444444,
             "#bd3786"
            ],
            [
             0.5555555555555556,
             "#d8576b"
            ],
            [
             0.6666666666666666,
             "#ed7953"
            ],
            [
             0.7777777777777778,
             "#fb9f3a"
            ],
            [
             0.8888888888888888,
             "#fdca26"
            ],
            [
             1,
             "#f0f921"
            ]
           ],
           "sequentialminus": [
            [
             0,
             "#0d0887"
            ],
            [
             0.1111111111111111,
             "#46039f"
            ],
            [
             0.2222222222222222,
             "#7201a8"
            ],
            [
             0.3333333333333333,
             "#9c179e"
            ],
            [
             0.4444444444444444,
             "#bd3786"
            ],
            [
             0.5555555555555556,
             "#d8576b"
            ],
            [
             0.6666666666666666,
             "#ed7953"
            ],
            [
             0.7777777777777778,
             "#fb9f3a"
            ],
            [
             0.8888888888888888,
             "#fdca26"
            ],
            [
             1,
             "#f0f921"
            ]
           ]
          },
          "colorway": [
           "#636efa",
           "#EF553B",
           "#00cc96",
           "#ab63fa",
           "#FFA15A",
           "#19d3f3",
           "#FF6692",
           "#B6E880",
           "#FF97FF",
           "#FECB52"
          ],
          "font": {
           "color": "#2a3f5f"
          },
          "geo": {
           "bgcolor": "white",
           "lakecolor": "white",
           "landcolor": "#E5ECF6",
           "showlakes": true,
           "showland": true,
           "subunitcolor": "white"
          },
          "hoverlabel": {
           "align": "left"
          },
          "hovermode": "closest",
          "mapbox": {
           "style": "light"
          },
          "paper_bgcolor": "white",
          "plot_bgcolor": "#E5ECF6",
          "polar": {
           "angularaxis": {
            "gridcolor": "white",
            "linecolor": "white",
            "ticks": ""
           },
           "bgcolor": "#E5ECF6",
           "radialaxis": {
            "gridcolor": "white",
            "linecolor": "white",
            "ticks": ""
           }
          },
          "scene": {
           "xaxis": {
            "backgroundcolor": "#E5ECF6",
            "gridcolor": "white",
            "gridwidth": 2,
            "linecolor": "white",
            "showbackground": true,
            "ticks": "",
            "zerolinecolor": "white"
           },
           "yaxis": {
            "backgroundcolor": "#E5ECF6",
            "gridcolor": "white",
            "gridwidth": 2,
            "linecolor": "white",
            "showbackground": true,
            "ticks": "",
            "zerolinecolor": "white"
           },
           "zaxis": {
            "backgroundcolor": "#E5ECF6",
            "gridcolor": "white",
            "gridwidth": 2,
            "linecolor": "white",
            "showbackground": true,
            "ticks": "",
            "zerolinecolor": "white"
           }
          },
          "shapedefaults": {
           "line": {
            "color": "#2a3f5f"
           }
          },
          "ternary": {
           "aaxis": {
            "gridcolor": "white",
            "linecolor": "white",
            "ticks": ""
           },
           "baxis": {
            "gridcolor": "white",
            "linecolor": "white",
            "ticks": ""
           },
           "bgcolor": "#E5ECF6",
           "caxis": {
            "gridcolor": "white",
            "linecolor": "white",
            "ticks": ""
           }
          },
          "title": {
           "x": 0.05
          },
          "xaxis": {
           "automargin": true,
           "gridcolor": "white",
           "linecolor": "white",
           "ticks": "",
           "title": {
            "standoff": 15
           },
           "zerolinecolor": "white",
           "zerolinewidth": 2
          },
          "yaxis": {
           "automargin": true,
           "gridcolor": "white",
           "linecolor": "white",
           "ticks": "",
           "title": {
            "standoff": 15
           },
           "zerolinecolor": "white",
           "zerolinewidth": 2
          }
         }
        }
       }
      },
      "text/html": [
       "<div>\n",
       "        \n",
       "        \n",
       "            <div id=\"21c1a2dd-da28-4a20-9cca-c0cbe54a231d\" class=\"plotly-graph-div\" style=\"height:525px; width:100%;\"></div>\n",
       "            <script type=\"text/javascript\">\n",
       "                require([\"plotly\"], function(Plotly) {\n",
       "                    window.PLOTLYENV=window.PLOTLYENV || {};\n",
       "                    \n",
       "                if (document.getElementById(\"21c1a2dd-da28-4a20-9cca-c0cbe54a231d\")) {\n",
       "                    Plotly.newPlot(\n",
       "                        '21c1a2dd-da28-4a20-9cca-c0cbe54a231d',\n",
       "                        [{\"type\": \"heatmap\", \"z\": [[0.0, 0.0, 0.0, 0.0, 0.0, 0.0, 0.0, 0.0, 0.0, 0.0], [0.0, 0.0, 0.0, 0.0, 0.0, 0.0, 0.0, 0.0, 0.0, 0.0], [0.0, 0.0, 0.0, 0.0, 1.0, 0.0, 0.0, 0.0, 0.0, 0.0], [0.0, 0.0, 0.0, 0.0, 0.0, 0.0, 0.0, 0.0, 0.0, 0.0], [1.0, 0.0, 0.0, 0.0, 0.0, 0.0, 0.0, 0.0, 0.0, 1.0], [1.0, 0.0, 0.0, 0.0, 0.0, 0.0, 0.0, 0.0, 0.0, 1.0], [0.0, 0.0, 0.0, 0.0, 0.0, 0.0, 0.0, 0.0, 0.0, 0.0], [0.0, 0.0, 0.0, 0.0, 0.0, 1.0, 0.0, 0.0, 0.0, 0.0], [0.0, 0.0, 0.0, 0.0, 0.0, 0.0, 0.0, 0.0, 0.0, 0.0], [0.0, 0.0, 0.0, 0.0, 0.0, 0.0, 0.0, 0.0, 0.0, 0.0]]}],\n",
       "                        {\"template\": {\"data\": {\"bar\": [{\"error_x\": {\"color\": \"#2a3f5f\"}, \"error_y\": {\"color\": \"#2a3f5f\"}, \"marker\": {\"line\": {\"color\": \"#E5ECF6\", \"width\": 0.5}}, \"type\": \"bar\"}], \"barpolar\": [{\"marker\": {\"line\": {\"color\": \"#E5ECF6\", \"width\": 0.5}}, \"type\": \"barpolar\"}], \"carpet\": [{\"aaxis\": {\"endlinecolor\": \"#2a3f5f\", \"gridcolor\": \"white\", \"linecolor\": \"white\", \"minorgridcolor\": \"white\", \"startlinecolor\": \"#2a3f5f\"}, \"baxis\": {\"endlinecolor\": \"#2a3f5f\", \"gridcolor\": \"white\", \"linecolor\": \"white\", \"minorgridcolor\": \"white\", \"startlinecolor\": \"#2a3f5f\"}, \"type\": \"carpet\"}], \"choropleth\": [{\"colorbar\": {\"outlinewidth\": 0, \"ticks\": \"\"}, \"type\": \"choropleth\"}], \"contour\": [{\"colorbar\": {\"outlinewidth\": 0, \"ticks\": \"\"}, \"colorscale\": [[0.0, \"#0d0887\"], [0.1111111111111111, \"#46039f\"], [0.2222222222222222, \"#7201a8\"], [0.3333333333333333, \"#9c179e\"], [0.4444444444444444, \"#bd3786\"], [0.5555555555555556, \"#d8576b\"], [0.6666666666666666, \"#ed7953\"], [0.7777777777777778, \"#fb9f3a\"], [0.8888888888888888, \"#fdca26\"], [1.0, \"#f0f921\"]], \"type\": \"contour\"}], \"contourcarpet\": [{\"colorbar\": {\"outlinewidth\": 0, \"ticks\": \"\"}, \"type\": \"contourcarpet\"}], \"heatmap\": [{\"colorbar\": {\"outlinewidth\": 0, \"ticks\": \"\"}, \"colorscale\": [[0.0, \"#0d0887\"], [0.1111111111111111, \"#46039f\"], [0.2222222222222222, \"#7201a8\"], [0.3333333333333333, \"#9c179e\"], [0.4444444444444444, \"#bd3786\"], [0.5555555555555556, \"#d8576b\"], [0.6666666666666666, \"#ed7953\"], [0.7777777777777778, \"#fb9f3a\"], [0.8888888888888888, \"#fdca26\"], [1.0, \"#f0f921\"]], \"type\": \"heatmap\"}], \"heatmapgl\": [{\"colorbar\": {\"outlinewidth\": 0, \"ticks\": \"\"}, \"colorscale\": [[0.0, \"#0d0887\"], [0.1111111111111111, \"#46039f\"], [0.2222222222222222, \"#7201a8\"], [0.3333333333333333, \"#9c179e\"], [0.4444444444444444, \"#bd3786\"], [0.5555555555555556, \"#d8576b\"], [0.6666666666666666, \"#ed7953\"], [0.7777777777777778, \"#fb9f3a\"], [0.8888888888888888, \"#fdca26\"], [1.0, \"#f0f921\"]], \"type\": \"heatmapgl\"}], \"histogram\": [{\"marker\": {\"colorbar\": {\"outlinewidth\": 0, \"ticks\": \"\"}}, \"type\": \"histogram\"}], \"histogram2d\": [{\"colorbar\": {\"outlinewidth\": 0, \"ticks\": \"\"}, \"colorscale\": [[0.0, \"#0d0887\"], [0.1111111111111111, \"#46039f\"], [0.2222222222222222, \"#7201a8\"], [0.3333333333333333, \"#9c179e\"], [0.4444444444444444, \"#bd3786\"], [0.5555555555555556, \"#d8576b\"], [0.6666666666666666, \"#ed7953\"], [0.7777777777777778, \"#fb9f3a\"], [0.8888888888888888, \"#fdca26\"], [1.0, \"#f0f921\"]], \"type\": \"histogram2d\"}], \"histogram2dcontour\": [{\"colorbar\": {\"outlinewidth\": 0, \"ticks\": \"\"}, \"colorscale\": [[0.0, \"#0d0887\"], [0.1111111111111111, \"#46039f\"], [0.2222222222222222, \"#7201a8\"], [0.3333333333333333, \"#9c179e\"], [0.4444444444444444, \"#bd3786\"], [0.5555555555555556, \"#d8576b\"], [0.6666666666666666, \"#ed7953\"], [0.7777777777777778, \"#fb9f3a\"], [0.8888888888888888, \"#fdca26\"], [1.0, \"#f0f921\"]], \"type\": \"histogram2dcontour\"}], \"mesh3d\": [{\"colorbar\": {\"outlinewidth\": 0, \"ticks\": \"\"}, \"type\": \"mesh3d\"}], \"parcoords\": [{\"line\": {\"colorbar\": {\"outlinewidth\": 0, \"ticks\": \"\"}}, \"type\": \"parcoords\"}], \"pie\": [{\"automargin\": true, \"type\": \"pie\"}], \"scatter\": [{\"marker\": {\"colorbar\": {\"outlinewidth\": 0, \"ticks\": \"\"}}, \"type\": \"scatter\"}], \"scatter3d\": [{\"line\": {\"colorbar\": {\"outlinewidth\": 0, \"ticks\": \"\"}}, \"marker\": {\"colorbar\": {\"outlinewidth\": 0, \"ticks\": \"\"}}, \"type\": \"scatter3d\"}], \"scattercarpet\": [{\"marker\": {\"colorbar\": {\"outlinewidth\": 0, \"ticks\": \"\"}}, \"type\": \"scattercarpet\"}], \"scattergeo\": [{\"marker\": {\"colorbar\": {\"outlinewidth\": 0, \"ticks\": \"\"}}, \"type\": \"scattergeo\"}], \"scattergl\": [{\"marker\": {\"colorbar\": {\"outlinewidth\": 0, \"ticks\": \"\"}}, \"type\": \"scattergl\"}], \"scattermapbox\": [{\"marker\": {\"colorbar\": {\"outlinewidth\": 0, \"ticks\": \"\"}}, \"type\": \"scattermapbox\"}], \"scatterpolar\": [{\"marker\": {\"colorbar\": {\"outlinewidth\": 0, \"ticks\": \"\"}}, \"type\": \"scatterpolar\"}], \"scatterpolargl\": [{\"marker\": {\"colorbar\": {\"outlinewidth\": 0, \"ticks\": \"\"}}, \"type\": \"scatterpolargl\"}], \"scatterternary\": [{\"marker\": {\"colorbar\": {\"outlinewidth\": 0, \"ticks\": \"\"}}, \"type\": \"scatterternary\"}], \"surface\": [{\"colorbar\": {\"outlinewidth\": 0, \"ticks\": \"\"}, \"colorscale\": [[0.0, \"#0d0887\"], [0.1111111111111111, \"#46039f\"], [0.2222222222222222, \"#7201a8\"], [0.3333333333333333, \"#9c179e\"], [0.4444444444444444, \"#bd3786\"], [0.5555555555555556, \"#d8576b\"], [0.6666666666666666, \"#ed7953\"], [0.7777777777777778, \"#fb9f3a\"], [0.8888888888888888, \"#fdca26\"], [1.0, \"#f0f921\"]], \"type\": \"surface\"}], \"table\": [{\"cells\": {\"fill\": {\"color\": \"#EBF0F8\"}, \"line\": {\"color\": \"white\"}}, \"header\": {\"fill\": {\"color\": \"#C8D4E3\"}, \"line\": {\"color\": \"white\"}}, \"type\": \"table\"}]}, \"layout\": {\"annotationdefaults\": {\"arrowcolor\": \"#2a3f5f\", \"arrowhead\": 0, \"arrowwidth\": 1}, \"coloraxis\": {\"colorbar\": {\"outlinewidth\": 0, \"ticks\": \"\"}}, \"colorscale\": {\"diverging\": [[0, \"#8e0152\"], [0.1, \"#c51b7d\"], [0.2, \"#de77ae\"], [0.3, \"#f1b6da\"], [0.4, \"#fde0ef\"], [0.5, \"#f7f7f7\"], [0.6, \"#e6f5d0\"], [0.7, \"#b8e186\"], [0.8, \"#7fbc41\"], [0.9, \"#4d9221\"], [1, \"#276419\"]], \"sequential\": [[0.0, \"#0d0887\"], [0.1111111111111111, \"#46039f\"], [0.2222222222222222, \"#7201a8\"], [0.3333333333333333, \"#9c179e\"], [0.4444444444444444, \"#bd3786\"], [0.5555555555555556, \"#d8576b\"], [0.6666666666666666, \"#ed7953\"], [0.7777777777777778, \"#fb9f3a\"], [0.8888888888888888, \"#fdca26\"], [1.0, \"#f0f921\"]], \"sequentialminus\": [[0.0, \"#0d0887\"], [0.1111111111111111, \"#46039f\"], [0.2222222222222222, \"#7201a8\"], [0.3333333333333333, \"#9c179e\"], [0.4444444444444444, \"#bd3786\"], [0.5555555555555556, \"#d8576b\"], [0.6666666666666666, \"#ed7953\"], [0.7777777777777778, \"#fb9f3a\"], [0.8888888888888888, \"#fdca26\"], [1.0, \"#f0f921\"]]}, \"colorway\": [\"#636efa\", \"#EF553B\", \"#00cc96\", \"#ab63fa\", \"#FFA15A\", \"#19d3f3\", \"#FF6692\", \"#B6E880\", \"#FF97FF\", \"#FECB52\"], \"font\": {\"color\": \"#2a3f5f\"}, \"geo\": {\"bgcolor\": \"white\", \"lakecolor\": \"white\", \"landcolor\": \"#E5ECF6\", \"showlakes\": true, \"showland\": true, \"subunitcolor\": \"white\"}, \"hoverlabel\": {\"align\": \"left\"}, \"hovermode\": \"closest\", \"mapbox\": {\"style\": \"light\"}, \"paper_bgcolor\": \"white\", \"plot_bgcolor\": \"#E5ECF6\", \"polar\": {\"angularaxis\": {\"gridcolor\": \"white\", \"linecolor\": \"white\", \"ticks\": \"\"}, \"bgcolor\": \"#E5ECF6\", \"radialaxis\": {\"gridcolor\": \"white\", \"linecolor\": \"white\", \"ticks\": \"\"}}, \"scene\": {\"xaxis\": {\"backgroundcolor\": \"#E5ECF6\", \"gridcolor\": \"white\", \"gridwidth\": 2, \"linecolor\": \"white\", \"showbackground\": true, \"ticks\": \"\", \"zerolinecolor\": \"white\"}, \"yaxis\": {\"backgroundcolor\": \"#E5ECF6\", \"gridcolor\": \"white\", \"gridwidth\": 2, \"linecolor\": \"white\", \"showbackground\": true, \"ticks\": \"\", \"zerolinecolor\": \"white\"}, \"zaxis\": {\"backgroundcolor\": \"#E5ECF6\", \"gridcolor\": \"white\", \"gridwidth\": 2, \"linecolor\": \"white\", \"showbackground\": true, \"ticks\": \"\", \"zerolinecolor\": \"white\"}}, \"shapedefaults\": {\"line\": {\"color\": \"#2a3f5f\"}}, \"ternary\": {\"aaxis\": {\"gridcolor\": \"white\", \"linecolor\": \"white\", \"ticks\": \"\"}, \"baxis\": {\"gridcolor\": \"white\", \"linecolor\": \"white\", \"ticks\": \"\"}, \"bgcolor\": \"#E5ECF6\", \"caxis\": {\"gridcolor\": \"white\", \"linecolor\": \"white\", \"ticks\": \"\"}}, \"title\": {\"x\": 0.05}, \"xaxis\": {\"automargin\": true, \"gridcolor\": \"white\", \"linecolor\": \"white\", \"ticks\": \"\", \"title\": {\"standoff\": 15}, \"zerolinecolor\": \"white\", \"zerolinewidth\": 2}, \"yaxis\": {\"automargin\": true, \"gridcolor\": \"white\", \"linecolor\": \"white\", \"ticks\": \"\", \"title\": {\"standoff\": 15}, \"zerolinecolor\": \"white\", \"zerolinewidth\": 2}}}},\n",
       "                        {\"responsive\": true}\n",
       "                    ).then(function(){\n",
       "                            \n",
       "var gd = document.getElementById('21c1a2dd-da28-4a20-9cca-c0cbe54a231d');\n",
       "var x = new MutationObserver(function (mutations, observer) {{\n",
       "        var display = window.getComputedStyle(gd).display;\n",
       "        if (!display || display === 'none') {{\n",
       "            console.log([gd, 'removed!']);\n",
       "            Plotly.purge(gd);\n",
       "            observer.disconnect();\n",
       "        }}\n",
       "}});\n",
       "\n",
       "// Listen for the removal of the full notebook cells\n",
       "var notebookContainer = gd.closest('#notebook-container');\n",
       "if (notebookContainer) {{\n",
       "    x.observe(notebookContainer, {childList: true});\n",
       "}}\n",
       "\n",
       "// Listen for the clearing of the current output cell\n",
       "var outputEl = gd.closest('.output');\n",
       "if (outputEl) {{\n",
       "    x.observe(outputEl, {childList: true});\n",
       "}}\n",
       "\n",
       "                        })\n",
       "                };\n",
       "                });\n",
       "            </script>\n",
       "        </div>"
      ]
     },
     "metadata": {},
     "output_type": "display_data"
    }
   ],
   "source": [
    "conv_thresh = 1.\n",
    "zmin = 0.\n",
    "zmax = 6.\n",
    "\n",
    "baseline_plot = True\n",
    "adversarial_plot = True\n",
    "lqr_plot = True\n",
    "\n",
    "if baseline_plot:\n",
    "    print(\"Baseline\")\n",
    "    fig = go.Figure()\n",
    "    fig.add_trace(go.Heatmap(\n",
    "        z = bench_baseline.detach().numpy(),\n",
    "        zmin = zmin,\n",
    "        zmax = zmax,\n",
    "        ))\n",
    "    fig.show()\n",
    "\n",
    "if adversarial_plot:\n",
    "    print(\"Adversarial\")\n",
    "    fig = go.Figure()\n",
    "    fig.add_trace(go.Heatmap(\n",
    "        z = bench_adv.detach().numpy(),\n",
    "        zmin = zmin,\n",
    "        zmax = zmax,\n",
    "        ))\n",
    "    fig.show()\n",
    "\n",
    "if lqr_plot:\n",
    "    print(\"LQR\")\n",
    "    fig = go.Figure()\n",
    "    fig.add_trace(go.Heatmap(\n",
    "        z = bench_lqr.detach().numpy(),\n",
    "        zmin = zmin,\n",
    "        zmax = zmax,\n",
    "        ))\n",
    "    fig.show()\n",
    "\n",
    "if baseline_plot:\n",
    "    print(\"Baseline\")\n",
    "    fig = go.Figure()\n",
    "    fig.add_trace(go.Heatmap(\n",
    "        z = torch.Tensor(bench_baseline.detach().numpy() > conv_thresh).type(vf.dtype),\n",
    "        ))\n",
    "    fig.show()\n",
    "\n",
    "if adversarial_plot:\n",
    "    print(\"Adversarial\")\n",
    "    fig = go.Figure()\n",
    "    fig.add_trace(go.Heatmap(\n",
    "        z = torch.Tensor(bench_adv.detach().numpy() > conv_thresh).type(vf.dtype),\n",
    "        ))\n",
    "    fig.show()\n",
    "\n",
    "if lqr_plot:\n",
    "    print(\"LQR\")\n",
    "    fig = go.Figure()\n",
    "    fig.add_trace(go.Heatmap(\n",
    "        z = torch.Tensor(bench_lqr.detach().numpy() > conv_thresh).type(vf.dtype),\n",
    "        ))\n",
    "    fig.show()"
   ]
  },
  {
   "cell_type": "code",
   "execution_count": 30,
   "metadata": {},
   "outputs": [
    {
     "name": "stdout",
     "output_type": "stream",
     "text": [
      "Baseline\n"
     ]
    },
    {
     "data": {
      "application/vnd.plotly.v1+json": {
       "config": {
        "plotlyServerURL": "https://plot.ly"
       },
       "data": [
        {
         "type": "heatmap",
         "z": [
          [
           -5.153126848708141,
           7.752581863416309,
           0.0019896297904837823,
           0.08065589737491866,
           -0.6544000510755478,
           -0.2256323763886702,
           -0.0758623647093929,
           -1.11428977259914,
           -0.2565544561436407,
           -0.3045955845528523
          ],
          [
           -6.5332237164593145,
           7.972299273829196,
           0.018855998409136654,
           -0.09883494720813396,
           -0.6367955377370317,
           -0.30155768556013424,
           -0.15181578286789532,
           -0.16475249002953232,
           -0.1883483351594287,
           -0.24944809740066462
          ],
          [
           -6.488734202290896,
           7.9748919655372035,
           -0.03695106989760122,
           0.009221731619667106,
           -0.7131484704780011,
           -0.28182181315121746,
           -0.1113498537352951,
           -0.16563484360948083,
           -0.14117524232884066,
           -0.29652641410204356
          ],
          [
           -5.001078868754501,
           8.014960928409087,
           -0.302450145769144,
           -0.07396455892410758,
           -0.18012149281135187,
           -0.2959984602244996,
           1.2987890045075257,
           -0.18493526403336294,
           -0.20280065345637127,
           0.1055498960516994
          ],
          [
           -4.192414058211858,
           7.918548830148797,
           -0.030630435070846174,
           0.10190415037362027,
           -0.2846570672146338,
           -0.22877974205560525,
           0.07862488440782173,
           -0.06281770664178016,
           -0.13721811076899507,
           -3.050569880751536
          ],
          [
           -1.334591722916243,
           8.015495566565338,
           -0.028302420564453645,
           0.5063958301723646,
           -0.22755206694029692,
           -0.07279895845009396,
           -0.16334370935976736,
           -0.18699759169821553,
           -0.1445839354043849,
           0.19880791141422183
          ],
          [
           -0.6418102808366539,
           8.019631676557088,
           0.003685556081405028,
           1.2572471189622014,
           -0.1161749096847986,
           1.8316494424485705,
           -0.17273522700653257,
           -0.1584906630154747,
           -0.16070927639524862,
           -0.07635062941649506
          ],
          [
           0.28251860697925935,
           -0.12938047313961049,
           -0.025418377915215673,
           -0.19939776202774073,
           -0.18805452091729932,
           1.4751905821160984,
           -0.14963069087972247,
           -0.18203572839765686,
           -0.2397869675408973,
           0.018795610282151043
          ],
          [
           8.068215843985211,
           -0.0026210699816637817,
           -0.09300105786910023,
           -0.15352156938577194,
           -0.26455492360102384,
           0.6159025993238676,
           -0.19193936205195833,
           -0.14041934967323577,
           -0.1152197640159574,
           -0.3467518719253078
          ],
          [
           8.009936879197049,
           0.012538247719014184,
           -0.65363661578427,
           -0.30347494521935003,
           -0.20661178496977253,
           -0.10758297649368043,
           -0.1390079641786674,
           -0.16886120335291452,
           -0.07893437808723583,
           0.03621992480736974
          ]
         ]
        }
       ],
       "layout": {
        "template": {
         "data": {
          "bar": [
           {
            "error_x": {
             "color": "#2a3f5f"
            },
            "error_y": {
             "color": "#2a3f5f"
            },
            "marker": {
             "line": {
              "color": "#E5ECF6",
              "width": 0.5
             }
            },
            "type": "bar"
           }
          ],
          "barpolar": [
           {
            "marker": {
             "line": {
              "color": "#E5ECF6",
              "width": 0.5
             }
            },
            "type": "barpolar"
           }
          ],
          "carpet": [
           {
            "aaxis": {
             "endlinecolor": "#2a3f5f",
             "gridcolor": "white",
             "linecolor": "white",
             "minorgridcolor": "white",
             "startlinecolor": "#2a3f5f"
            },
            "baxis": {
             "endlinecolor": "#2a3f5f",
             "gridcolor": "white",
             "linecolor": "white",
             "minorgridcolor": "white",
             "startlinecolor": "#2a3f5f"
            },
            "type": "carpet"
           }
          ],
          "choropleth": [
           {
            "colorbar": {
             "outlinewidth": 0,
             "ticks": ""
            },
            "type": "choropleth"
           }
          ],
          "contour": [
           {
            "colorbar": {
             "outlinewidth": 0,
             "ticks": ""
            },
            "colorscale": [
             [
              0,
              "#0d0887"
             ],
             [
              0.1111111111111111,
              "#46039f"
             ],
             [
              0.2222222222222222,
              "#7201a8"
             ],
             [
              0.3333333333333333,
              "#9c179e"
             ],
             [
              0.4444444444444444,
              "#bd3786"
             ],
             [
              0.5555555555555556,
              "#d8576b"
             ],
             [
              0.6666666666666666,
              "#ed7953"
             ],
             [
              0.7777777777777778,
              "#fb9f3a"
             ],
             [
              0.8888888888888888,
              "#fdca26"
             ],
             [
              1,
              "#f0f921"
             ]
            ],
            "type": "contour"
           }
          ],
          "contourcarpet": [
           {
            "colorbar": {
             "outlinewidth": 0,
             "ticks": ""
            },
            "type": "contourcarpet"
           }
          ],
          "heatmap": [
           {
            "colorbar": {
             "outlinewidth": 0,
             "ticks": ""
            },
            "colorscale": [
             [
              0,
              "#0d0887"
             ],
             [
              0.1111111111111111,
              "#46039f"
             ],
             [
              0.2222222222222222,
              "#7201a8"
             ],
             [
              0.3333333333333333,
              "#9c179e"
             ],
             [
              0.4444444444444444,
              "#bd3786"
             ],
             [
              0.5555555555555556,
              "#d8576b"
             ],
             [
              0.6666666666666666,
              "#ed7953"
             ],
             [
              0.7777777777777778,
              "#fb9f3a"
             ],
             [
              0.8888888888888888,
              "#fdca26"
             ],
             [
              1,
              "#f0f921"
             ]
            ],
            "type": "heatmap"
           }
          ],
          "heatmapgl": [
           {
            "colorbar": {
             "outlinewidth": 0,
             "ticks": ""
            },
            "colorscale": [
             [
              0,
              "#0d0887"
             ],
             [
              0.1111111111111111,
              "#46039f"
             ],
             [
              0.2222222222222222,
              "#7201a8"
             ],
             [
              0.3333333333333333,
              "#9c179e"
             ],
             [
              0.4444444444444444,
              "#bd3786"
             ],
             [
              0.5555555555555556,
              "#d8576b"
             ],
             [
              0.6666666666666666,
              "#ed7953"
             ],
             [
              0.7777777777777778,
              "#fb9f3a"
             ],
             [
              0.8888888888888888,
              "#fdca26"
             ],
             [
              1,
              "#f0f921"
             ]
            ],
            "type": "heatmapgl"
           }
          ],
          "histogram": [
           {
            "marker": {
             "colorbar": {
              "outlinewidth": 0,
              "ticks": ""
             }
            },
            "type": "histogram"
           }
          ],
          "histogram2d": [
           {
            "colorbar": {
             "outlinewidth": 0,
             "ticks": ""
            },
            "colorscale": [
             [
              0,
              "#0d0887"
             ],
             [
              0.1111111111111111,
              "#46039f"
             ],
             [
              0.2222222222222222,
              "#7201a8"
             ],
             [
              0.3333333333333333,
              "#9c179e"
             ],
             [
              0.4444444444444444,
              "#bd3786"
             ],
             [
              0.5555555555555556,
              "#d8576b"
             ],
             [
              0.6666666666666666,
              "#ed7953"
             ],
             [
              0.7777777777777778,
              "#fb9f3a"
             ],
             [
              0.8888888888888888,
              "#fdca26"
             ],
             [
              1,
              "#f0f921"
             ]
            ],
            "type": "histogram2d"
           }
          ],
          "histogram2dcontour": [
           {
            "colorbar": {
             "outlinewidth": 0,
             "ticks": ""
            },
            "colorscale": [
             [
              0,
              "#0d0887"
             ],
             [
              0.1111111111111111,
              "#46039f"
             ],
             [
              0.2222222222222222,
              "#7201a8"
             ],
             [
              0.3333333333333333,
              "#9c179e"
             ],
             [
              0.4444444444444444,
              "#bd3786"
             ],
             [
              0.5555555555555556,
              "#d8576b"
             ],
             [
              0.6666666666666666,
              "#ed7953"
             ],
             [
              0.7777777777777778,
              "#fb9f3a"
             ],
             [
              0.8888888888888888,
              "#fdca26"
             ],
             [
              1,
              "#f0f921"
             ]
            ],
            "type": "histogram2dcontour"
           }
          ],
          "mesh3d": [
           {
            "colorbar": {
             "outlinewidth": 0,
             "ticks": ""
            },
            "type": "mesh3d"
           }
          ],
          "parcoords": [
           {
            "line": {
             "colorbar": {
              "outlinewidth": 0,
              "ticks": ""
             }
            },
            "type": "parcoords"
           }
          ],
          "pie": [
           {
            "automargin": true,
            "type": "pie"
           }
          ],
          "scatter": [
           {
            "marker": {
             "colorbar": {
              "outlinewidth": 0,
              "ticks": ""
             }
            },
            "type": "scatter"
           }
          ],
          "scatter3d": [
           {
            "line": {
             "colorbar": {
              "outlinewidth": 0,
              "ticks": ""
             }
            },
            "marker": {
             "colorbar": {
              "outlinewidth": 0,
              "ticks": ""
             }
            },
            "type": "scatter3d"
           }
          ],
          "scattercarpet": [
           {
            "marker": {
             "colorbar": {
              "outlinewidth": 0,
              "ticks": ""
             }
            },
            "type": "scattercarpet"
           }
          ],
          "scattergeo": [
           {
            "marker": {
             "colorbar": {
              "outlinewidth": 0,
              "ticks": ""
             }
            },
            "type": "scattergeo"
           }
          ],
          "scattergl": [
           {
            "marker": {
             "colorbar": {
              "outlinewidth": 0,
              "ticks": ""
             }
            },
            "type": "scattergl"
           }
          ],
          "scattermapbox": [
           {
            "marker": {
             "colorbar": {
              "outlinewidth": 0,
              "ticks": ""
             }
            },
            "type": "scattermapbox"
           }
          ],
          "scatterpolar": [
           {
            "marker": {
             "colorbar": {
              "outlinewidth": 0,
              "ticks": ""
             }
            },
            "type": "scatterpolar"
           }
          ],
          "scatterpolargl": [
           {
            "marker": {
             "colorbar": {
              "outlinewidth": 0,
              "ticks": ""
             }
            },
            "type": "scatterpolargl"
           }
          ],
          "scatterternary": [
           {
            "marker": {
             "colorbar": {
              "outlinewidth": 0,
              "ticks": ""
             }
            },
            "type": "scatterternary"
           }
          ],
          "surface": [
           {
            "colorbar": {
             "outlinewidth": 0,
             "ticks": ""
            },
            "colorscale": [
             [
              0,
              "#0d0887"
             ],
             [
              0.1111111111111111,
              "#46039f"
             ],
             [
              0.2222222222222222,
              "#7201a8"
             ],
             [
              0.3333333333333333,
              "#9c179e"
             ],
             [
              0.4444444444444444,
              "#bd3786"
             ],
             [
              0.5555555555555556,
              "#d8576b"
             ],
             [
              0.6666666666666666,
              "#ed7953"
             ],
             [
              0.7777777777777778,
              "#fb9f3a"
             ],
             [
              0.8888888888888888,
              "#fdca26"
             ],
             [
              1,
              "#f0f921"
             ]
            ],
            "type": "surface"
           }
          ],
          "table": [
           {
            "cells": {
             "fill": {
              "color": "#EBF0F8"
             },
             "line": {
              "color": "white"
             }
            },
            "header": {
             "fill": {
              "color": "#C8D4E3"
             },
             "line": {
              "color": "white"
             }
            },
            "type": "table"
           }
          ]
         },
         "layout": {
          "annotationdefaults": {
           "arrowcolor": "#2a3f5f",
           "arrowhead": 0,
           "arrowwidth": 1
          },
          "coloraxis": {
           "colorbar": {
            "outlinewidth": 0,
            "ticks": ""
           }
          },
          "colorscale": {
           "diverging": [
            [
             0,
             "#8e0152"
            ],
            [
             0.1,
             "#c51b7d"
            ],
            [
             0.2,
             "#de77ae"
            ],
            [
             0.3,
             "#f1b6da"
            ],
            [
             0.4,
             "#fde0ef"
            ],
            [
             0.5,
             "#f7f7f7"
            ],
            [
             0.6,
             "#e6f5d0"
            ],
            [
             0.7,
             "#b8e186"
            ],
            [
             0.8,
             "#7fbc41"
            ],
            [
             0.9,
             "#4d9221"
            ],
            [
             1,
             "#276419"
            ]
           ],
           "sequential": [
            [
             0,
             "#0d0887"
            ],
            [
             0.1111111111111111,
             "#46039f"
            ],
            [
             0.2222222222222222,
             "#7201a8"
            ],
            [
             0.3333333333333333,
             "#9c179e"
            ],
            [
             0.4444444444444444,
             "#bd3786"
            ],
            [
             0.5555555555555556,
             "#d8576b"
            ],
            [
             0.6666666666666666,
             "#ed7953"
            ],
            [
             0.7777777777777778,
             "#fb9f3a"
            ],
            [
             0.8888888888888888,
             "#fdca26"
            ],
            [
             1,
             "#f0f921"
            ]
           ],
           "sequentialminus": [
            [
             0,
             "#0d0887"
            ],
            [
             0.1111111111111111,
             "#46039f"
            ],
            [
             0.2222222222222222,
             "#7201a8"
            ],
            [
             0.3333333333333333,
             "#9c179e"
            ],
            [
             0.4444444444444444,
             "#bd3786"
            ],
            [
             0.5555555555555556,
             "#d8576b"
            ],
            [
             0.6666666666666666,
             "#ed7953"
            ],
            [
             0.7777777777777778,
             "#fb9f3a"
            ],
            [
             0.8888888888888888,
             "#fdca26"
            ],
            [
             1,
             "#f0f921"
            ]
           ]
          },
          "colorway": [
           "#636efa",
           "#EF553B",
           "#00cc96",
           "#ab63fa",
           "#FFA15A",
           "#19d3f3",
           "#FF6692",
           "#B6E880",
           "#FF97FF",
           "#FECB52"
          ],
          "font": {
           "color": "#2a3f5f"
          },
          "geo": {
           "bgcolor": "white",
           "lakecolor": "white",
           "landcolor": "#E5ECF6",
           "showlakes": true,
           "showland": true,
           "subunitcolor": "white"
          },
          "hoverlabel": {
           "align": "left"
          },
          "hovermode": "closest",
          "mapbox": {
           "style": "light"
          },
          "paper_bgcolor": "white",
          "plot_bgcolor": "#E5ECF6",
          "polar": {
           "angularaxis": {
            "gridcolor": "white",
            "linecolor": "white",
            "ticks": ""
           },
           "bgcolor": "#E5ECF6",
           "radialaxis": {
            "gridcolor": "white",
            "linecolor": "white",
            "ticks": ""
           }
          },
          "scene": {
           "xaxis": {
            "backgroundcolor": "#E5ECF6",
            "gridcolor": "white",
            "gridwidth": 2,
            "linecolor": "white",
            "showbackground": true,
            "ticks": "",
            "zerolinecolor": "white"
           },
           "yaxis": {
            "backgroundcolor": "#E5ECF6",
            "gridcolor": "white",
            "gridwidth": 2,
            "linecolor": "white",
            "showbackground": true,
            "ticks": "",
            "zerolinecolor": "white"
           },
           "zaxis": {
            "backgroundcolor": "#E5ECF6",
            "gridcolor": "white",
            "gridwidth": 2,
            "linecolor": "white",
            "showbackground": true,
            "ticks": "",
            "zerolinecolor": "white"
           }
          },
          "shapedefaults": {
           "line": {
            "color": "#2a3f5f"
           }
          },
          "ternary": {
           "aaxis": {
            "gridcolor": "white",
            "linecolor": "white",
            "ticks": ""
           },
           "baxis": {
            "gridcolor": "white",
            "linecolor": "white",
            "ticks": ""
           },
           "bgcolor": "#E5ECF6",
           "caxis": {
            "gridcolor": "white",
            "linecolor": "white",
            "ticks": ""
           }
          },
          "title": {
           "x": 0.05
          },
          "xaxis": {
           "automargin": true,
           "gridcolor": "white",
           "linecolor": "white",
           "ticks": "",
           "title": {
            "standoff": 15
           },
           "zerolinecolor": "white",
           "zerolinewidth": 2
          },
          "yaxis": {
           "automargin": true,
           "gridcolor": "white",
           "linecolor": "white",
           "ticks": "",
           "title": {
            "standoff": 15
           },
           "zerolinecolor": "white",
           "zerolinewidth": 2
          }
         }
        }
       }
      },
      "text/html": [
       "<div>\n",
       "        \n",
       "        \n",
       "            <div id=\"6b4531ac-75aa-4b33-91cd-67512f15225f\" class=\"plotly-graph-div\" style=\"height:525px; width:100%;\"></div>\n",
       "            <script type=\"text/javascript\">\n",
       "                require([\"plotly\"], function(Plotly) {\n",
       "                    window.PLOTLYENV=window.PLOTLYENV || {};\n",
       "                    \n",
       "                if (document.getElementById(\"6b4531ac-75aa-4b33-91cd-67512f15225f\")) {\n",
       "                    Plotly.newPlot(\n",
       "                        '6b4531ac-75aa-4b33-91cd-67512f15225f',\n",
       "                        [{\"type\": \"heatmap\", \"z\": [[-5.153126848708141, 7.752581863416309, 0.0019896297904837823, 0.08065589737491866, -0.6544000510755478, -0.2256323763886702, -0.0758623647093929, -1.11428977259914, -0.2565544561436407, -0.3045955845528523], [-6.5332237164593145, 7.972299273829196, 0.018855998409136654, -0.09883494720813396, -0.6367955377370317, -0.30155768556013424, -0.15181578286789532, -0.16475249002953232, -0.1883483351594287, -0.24944809740066462], [-6.488734202290896, 7.9748919655372035, -0.03695106989760122, 0.009221731619667106, -0.7131484704780011, -0.28182181315121746, -0.1113498537352951, -0.16563484360948083, -0.14117524232884066, -0.29652641410204356], [-5.001078868754501, 8.014960928409087, -0.302450145769144, -0.07396455892410758, -0.18012149281135187, -0.2959984602244996, 1.2987890045075257, -0.18493526403336294, -0.20280065345637127, 0.1055498960516994], [-4.192414058211858, 7.918548830148797, -0.030630435070846174, 0.10190415037362027, -0.2846570672146338, -0.22877974205560525, 0.07862488440782173, -0.06281770664178016, -0.13721811076899507, -3.050569880751536], [-1.334591722916243, 8.015495566565338, -0.028302420564453645, 0.5063958301723646, -0.22755206694029692, -0.07279895845009396, -0.16334370935976736, -0.18699759169821553, -0.1445839354043849, 0.19880791141422183], [-0.6418102808366539, 8.019631676557088, 0.003685556081405028, 1.2572471189622014, -0.1161749096847986, 1.8316494424485705, -0.17273522700653257, -0.1584906630154747, -0.16070927639524862, -0.07635062941649506], [0.28251860697925935, -0.12938047313961049, -0.025418377915215673, -0.19939776202774073, -0.18805452091729932, 1.4751905821160984, -0.14963069087972247, -0.18203572839765686, -0.2397869675408973, 0.018795610282151043], [8.068215843985211, -0.0026210699816637817, -0.09300105786910023, -0.15352156938577194, -0.26455492360102384, 0.6159025993238676, -0.19193936205195833, -0.14041934967323577, -0.1152197640159574, -0.3467518719253078], [8.009936879197049, 0.012538247719014184, -0.65363661578427, -0.30347494521935003, -0.20661178496977253, -0.10758297649368043, -0.1390079641786674, -0.16886120335291452, -0.07893437808723583, 0.03621992480736974]]}],\n",
       "                        {\"template\": {\"data\": {\"bar\": [{\"error_x\": {\"color\": \"#2a3f5f\"}, \"error_y\": {\"color\": \"#2a3f5f\"}, \"marker\": {\"line\": {\"color\": \"#E5ECF6\", \"width\": 0.5}}, \"type\": \"bar\"}], \"barpolar\": [{\"marker\": {\"line\": {\"color\": \"#E5ECF6\", \"width\": 0.5}}, \"type\": \"barpolar\"}], \"carpet\": [{\"aaxis\": {\"endlinecolor\": \"#2a3f5f\", \"gridcolor\": \"white\", \"linecolor\": \"white\", \"minorgridcolor\": \"white\", \"startlinecolor\": \"#2a3f5f\"}, \"baxis\": {\"endlinecolor\": \"#2a3f5f\", \"gridcolor\": \"white\", \"linecolor\": \"white\", \"minorgridcolor\": \"white\", \"startlinecolor\": \"#2a3f5f\"}, \"type\": \"carpet\"}], \"choropleth\": [{\"colorbar\": {\"outlinewidth\": 0, \"ticks\": \"\"}, \"type\": \"choropleth\"}], \"contour\": [{\"colorbar\": {\"outlinewidth\": 0, \"ticks\": \"\"}, \"colorscale\": [[0.0, \"#0d0887\"], [0.1111111111111111, \"#46039f\"], [0.2222222222222222, \"#7201a8\"], [0.3333333333333333, \"#9c179e\"], [0.4444444444444444, \"#bd3786\"], [0.5555555555555556, \"#d8576b\"], [0.6666666666666666, \"#ed7953\"], [0.7777777777777778, \"#fb9f3a\"], [0.8888888888888888, \"#fdca26\"], [1.0, \"#f0f921\"]], \"type\": \"contour\"}], \"contourcarpet\": [{\"colorbar\": {\"outlinewidth\": 0, \"ticks\": \"\"}, \"type\": \"contourcarpet\"}], \"heatmap\": [{\"colorbar\": {\"outlinewidth\": 0, \"ticks\": \"\"}, \"colorscale\": [[0.0, \"#0d0887\"], [0.1111111111111111, \"#46039f\"], [0.2222222222222222, \"#7201a8\"], [0.3333333333333333, \"#9c179e\"], [0.4444444444444444, \"#bd3786\"], [0.5555555555555556, \"#d8576b\"], [0.6666666666666666, \"#ed7953\"], [0.7777777777777778, \"#fb9f3a\"], [0.8888888888888888, \"#fdca26\"], [1.0, \"#f0f921\"]], \"type\": \"heatmap\"}], \"heatmapgl\": [{\"colorbar\": {\"outlinewidth\": 0, \"ticks\": \"\"}, \"colorscale\": [[0.0, \"#0d0887\"], [0.1111111111111111, \"#46039f\"], [0.2222222222222222, \"#7201a8\"], [0.3333333333333333, \"#9c179e\"], [0.4444444444444444, \"#bd3786\"], [0.5555555555555556, \"#d8576b\"], [0.6666666666666666, \"#ed7953\"], [0.7777777777777778, \"#fb9f3a\"], [0.8888888888888888, \"#fdca26\"], [1.0, \"#f0f921\"]], \"type\": \"heatmapgl\"}], \"histogram\": [{\"marker\": {\"colorbar\": {\"outlinewidth\": 0, \"ticks\": \"\"}}, \"type\": \"histogram\"}], \"histogram2d\": [{\"colorbar\": {\"outlinewidth\": 0, \"ticks\": \"\"}, \"colorscale\": [[0.0, \"#0d0887\"], [0.1111111111111111, \"#46039f\"], [0.2222222222222222, \"#7201a8\"], [0.3333333333333333, \"#9c179e\"], [0.4444444444444444, \"#bd3786\"], [0.5555555555555556, \"#d8576b\"], [0.6666666666666666, \"#ed7953\"], [0.7777777777777778, \"#fb9f3a\"], [0.8888888888888888, \"#fdca26\"], [1.0, \"#f0f921\"]], \"type\": \"histogram2d\"}], \"histogram2dcontour\": [{\"colorbar\": {\"outlinewidth\": 0, \"ticks\": \"\"}, \"colorscale\": [[0.0, \"#0d0887\"], [0.1111111111111111, \"#46039f\"], [0.2222222222222222, \"#7201a8\"], [0.3333333333333333, \"#9c179e\"], [0.4444444444444444, \"#bd3786\"], [0.5555555555555556, \"#d8576b\"], [0.6666666666666666, \"#ed7953\"], [0.7777777777777778, \"#fb9f3a\"], [0.8888888888888888, \"#fdca26\"], [1.0, \"#f0f921\"]], \"type\": \"histogram2dcontour\"}], \"mesh3d\": [{\"colorbar\": {\"outlinewidth\": 0, \"ticks\": \"\"}, \"type\": \"mesh3d\"}], \"parcoords\": [{\"line\": {\"colorbar\": {\"outlinewidth\": 0, \"ticks\": \"\"}}, \"type\": \"parcoords\"}], \"pie\": [{\"automargin\": true, \"type\": \"pie\"}], \"scatter\": [{\"marker\": {\"colorbar\": {\"outlinewidth\": 0, \"ticks\": \"\"}}, \"type\": \"scatter\"}], \"scatter3d\": [{\"line\": {\"colorbar\": {\"outlinewidth\": 0, \"ticks\": \"\"}}, \"marker\": {\"colorbar\": {\"outlinewidth\": 0, \"ticks\": \"\"}}, \"type\": \"scatter3d\"}], \"scattercarpet\": [{\"marker\": {\"colorbar\": {\"outlinewidth\": 0, \"ticks\": \"\"}}, \"type\": \"scattercarpet\"}], \"scattergeo\": [{\"marker\": {\"colorbar\": {\"outlinewidth\": 0, \"ticks\": \"\"}}, \"type\": \"scattergeo\"}], \"scattergl\": [{\"marker\": {\"colorbar\": {\"outlinewidth\": 0, \"ticks\": \"\"}}, \"type\": \"scattergl\"}], \"scattermapbox\": [{\"marker\": {\"colorbar\": {\"outlinewidth\": 0, \"ticks\": \"\"}}, \"type\": \"scattermapbox\"}], \"scatterpolar\": [{\"marker\": {\"colorbar\": {\"outlinewidth\": 0, \"ticks\": \"\"}}, \"type\": \"scatterpolar\"}], \"scatterpolargl\": [{\"marker\": {\"colorbar\": {\"outlinewidth\": 0, \"ticks\": \"\"}}, \"type\": \"scatterpolargl\"}], \"scatterternary\": [{\"marker\": {\"colorbar\": {\"outlinewidth\": 0, \"ticks\": \"\"}}, \"type\": \"scatterternary\"}], \"surface\": [{\"colorbar\": {\"outlinewidth\": 0, \"ticks\": \"\"}, \"colorscale\": [[0.0, \"#0d0887\"], [0.1111111111111111, \"#46039f\"], [0.2222222222222222, \"#7201a8\"], [0.3333333333333333, \"#9c179e\"], [0.4444444444444444, \"#bd3786\"], [0.5555555555555556, \"#d8576b\"], [0.6666666666666666, \"#ed7953\"], [0.7777777777777778, \"#fb9f3a\"], [0.8888888888888888, \"#fdca26\"], [1.0, \"#f0f921\"]], \"type\": \"surface\"}], \"table\": [{\"cells\": {\"fill\": {\"color\": \"#EBF0F8\"}, \"line\": {\"color\": \"white\"}}, \"header\": {\"fill\": {\"color\": \"#C8D4E3\"}, \"line\": {\"color\": \"white\"}}, \"type\": \"table\"}]}, \"layout\": {\"annotationdefaults\": {\"arrowcolor\": \"#2a3f5f\", \"arrowhead\": 0, \"arrowwidth\": 1}, \"coloraxis\": {\"colorbar\": {\"outlinewidth\": 0, \"ticks\": \"\"}}, \"colorscale\": {\"diverging\": [[0, \"#8e0152\"], [0.1, \"#c51b7d\"], [0.2, \"#de77ae\"], [0.3, \"#f1b6da\"], [0.4, \"#fde0ef\"], [0.5, \"#f7f7f7\"], [0.6, \"#e6f5d0\"], [0.7, \"#b8e186\"], [0.8, \"#7fbc41\"], [0.9, \"#4d9221\"], [1, \"#276419\"]], \"sequential\": [[0.0, \"#0d0887\"], [0.1111111111111111, \"#46039f\"], [0.2222222222222222, \"#7201a8\"], [0.3333333333333333, \"#9c179e\"], [0.4444444444444444, \"#bd3786\"], [0.5555555555555556, \"#d8576b\"], [0.6666666666666666, \"#ed7953\"], [0.7777777777777778, \"#fb9f3a\"], [0.8888888888888888, \"#fdca26\"], [1.0, \"#f0f921\"]], \"sequentialminus\": [[0.0, \"#0d0887\"], [0.1111111111111111, \"#46039f\"], [0.2222222222222222, \"#7201a8\"], [0.3333333333333333, \"#9c179e\"], [0.4444444444444444, \"#bd3786\"], [0.5555555555555556, \"#d8576b\"], [0.6666666666666666, \"#ed7953\"], [0.7777777777777778, \"#fb9f3a\"], [0.8888888888888888, \"#fdca26\"], [1.0, \"#f0f921\"]]}, \"colorway\": [\"#636efa\", \"#EF553B\", \"#00cc96\", \"#ab63fa\", \"#FFA15A\", \"#19d3f3\", \"#FF6692\", \"#B6E880\", \"#FF97FF\", \"#FECB52\"], \"font\": {\"color\": \"#2a3f5f\"}, \"geo\": {\"bgcolor\": \"white\", \"lakecolor\": \"white\", \"landcolor\": \"#E5ECF6\", \"showlakes\": true, \"showland\": true, \"subunitcolor\": \"white\"}, \"hoverlabel\": {\"align\": \"left\"}, \"hovermode\": \"closest\", \"mapbox\": {\"style\": \"light\"}, \"paper_bgcolor\": \"white\", \"plot_bgcolor\": \"#E5ECF6\", \"polar\": {\"angularaxis\": {\"gridcolor\": \"white\", \"linecolor\": \"white\", \"ticks\": \"\"}, \"bgcolor\": \"#E5ECF6\", \"radialaxis\": {\"gridcolor\": \"white\", \"linecolor\": \"white\", \"ticks\": \"\"}}, \"scene\": {\"xaxis\": {\"backgroundcolor\": \"#E5ECF6\", \"gridcolor\": \"white\", \"gridwidth\": 2, \"linecolor\": \"white\", \"showbackground\": true, \"ticks\": \"\", \"zerolinecolor\": \"white\"}, \"yaxis\": {\"backgroundcolor\": \"#E5ECF6\", \"gridcolor\": \"white\", \"gridwidth\": 2, \"linecolor\": \"white\", \"showbackground\": true, \"ticks\": \"\", \"zerolinecolor\": \"white\"}, \"zaxis\": {\"backgroundcolor\": \"#E5ECF6\", \"gridcolor\": \"white\", \"gridwidth\": 2, \"linecolor\": \"white\", \"showbackground\": true, \"ticks\": \"\", \"zerolinecolor\": \"white\"}}, \"shapedefaults\": {\"line\": {\"color\": \"#2a3f5f\"}}, \"ternary\": {\"aaxis\": {\"gridcolor\": \"white\", \"linecolor\": \"white\", \"ticks\": \"\"}, \"baxis\": {\"gridcolor\": \"white\", \"linecolor\": \"white\", \"ticks\": \"\"}, \"bgcolor\": \"#E5ECF6\", \"caxis\": {\"gridcolor\": \"white\", \"linecolor\": \"white\", \"ticks\": \"\"}}, \"title\": {\"x\": 0.05}, \"xaxis\": {\"automargin\": true, \"gridcolor\": \"white\", \"linecolor\": \"white\", \"ticks\": \"\", \"title\": {\"standoff\": 15}, \"zerolinecolor\": \"white\", \"zerolinewidth\": 2}, \"yaxis\": {\"automargin\": true, \"gridcolor\": \"white\", \"linecolor\": \"white\", \"ticks\": \"\", \"title\": {\"standoff\": 15}, \"zerolinecolor\": \"white\", \"zerolinewidth\": 2}}}},\n",
       "                        {\"responsive\": true}\n",
       "                    ).then(function(){\n",
       "                            \n",
       "var gd = document.getElementById('6b4531ac-75aa-4b33-91cd-67512f15225f');\n",
       "var x = new MutationObserver(function (mutations, observer) {{\n",
       "        var display = window.getComputedStyle(gd).display;\n",
       "        if (!display || display === 'none') {{\n",
       "            console.log([gd, 'removed!']);\n",
       "            Plotly.purge(gd);\n",
       "            observer.disconnect();\n",
       "        }}\n",
       "}});\n",
       "\n",
       "// Listen for the removal of the full notebook cells\n",
       "var notebookContainer = gd.closest('#notebook-container');\n",
       "if (notebookContainer) {{\n",
       "    x.observe(notebookContainer, {childList: true});\n",
       "}}\n",
       "\n",
       "// Listen for the clearing of the current output cell\n",
       "var outputEl = gd.closest('.output');\n",
       "if (outputEl) {{\n",
       "    x.observe(outputEl, {childList: true});\n",
       "}}\n",
       "\n",
       "                        })\n",
       "                };\n",
       "                });\n",
       "            </script>\n",
       "        </div>"
      ]
     },
     "metadata": {},
     "output_type": "display_data"
    }
   ],
   "source": [
    "if baseline_plot:\n",
    "    print(\"Baseline\")\n",
    "    fig = go.Figure()\n",
    "    fig.add_trace(go.Heatmap(\n",
    "        z = (bench_baseline-bench_adv).detach().numpy(),\n",
    "        ))\n",
    "    fig.show()"
   ]
  },
  {
   "cell_type": "markdown",
   "metadata": {},
   "source": [
    "# Acrobot"
   ]
  },
  {
   "cell_type": "code",
   "execution_count": 16,
   "metadata": {},
   "outputs": [],
   "source": [
    "acrobot = acrobot_utils.AcrobotNLP()\n",
    "vf = acrobot_utils.get_value_function(10)\n",
    "V = vf.get_value_function()"
   ]
  },
  {
   "cell_type": "code",
   "execution_count": 19,
   "metadata": {},
   "outputs": [
    {
     "data": {
      "application/vnd.plotly.v1+json": {
       "config": {
        "plotlyServerURL": "https://plot.ly"
       },
       "data": [
        {
         "type": "scatter",
         "y": [
          3.34159255027771,
          3.1931569576263428,
          2.909846305847168,
          2.741990804672241,
          2.7210869789123535,
          2.771808624267578,
          2.8815243244171143,
          3.070465564727783,
          3.324679136276245,
          3.5836496353149414
         ]
        },
        {
         "type": "scatter",
         "y": [
          0.20000000298023224,
          0.6809230446815491,
          1.7420780658721924,
          2.685340166091919,
          3.1611640453338623,
          3.1287291049957275,
          2.659282684326172,
          1.943707823753357,
          1.2468074560165405,
          0.8211299180984497
         ]
        },
        {
         "type": "scatter",
         "y": [
          0,
          -1.4843560457229614,
          -1.3487510681152344,
          -0.3298022747039795,
          0.12076272070407867,
          0.38645410537719727,
          0.71070396900177,
          1.1787070035934448,
          1.3634284734725952,
          1.2262784242630005
         ]
        },
        {
         "type": "scatter",
         "y": [
          0,
          4.809230804443359,
          5.802319049835205,
          3.6303024291992188,
          1.1279362440109253,
          -1.4522864818572998,
          -3.2421765327453613,
          -3.913572311401367,
          -3.055431365966797,
          -1.2013441324234009
         ]
        }
       ],
       "layout": {
        "template": {
         "data": {
          "bar": [
           {
            "error_x": {
             "color": "#2a3f5f"
            },
            "error_y": {
             "color": "#2a3f5f"
            },
            "marker": {
             "line": {
              "color": "#E5ECF6",
              "width": 0.5
             }
            },
            "type": "bar"
           }
          ],
          "barpolar": [
           {
            "marker": {
             "line": {
              "color": "#E5ECF6",
              "width": 0.5
             }
            },
            "type": "barpolar"
           }
          ],
          "carpet": [
           {
            "aaxis": {
             "endlinecolor": "#2a3f5f",
             "gridcolor": "white",
             "linecolor": "white",
             "minorgridcolor": "white",
             "startlinecolor": "#2a3f5f"
            },
            "baxis": {
             "endlinecolor": "#2a3f5f",
             "gridcolor": "white",
             "linecolor": "white",
             "minorgridcolor": "white",
             "startlinecolor": "#2a3f5f"
            },
            "type": "carpet"
           }
          ],
          "choropleth": [
           {
            "colorbar": {
             "outlinewidth": 0,
             "ticks": ""
            },
            "type": "choropleth"
           }
          ],
          "contour": [
           {
            "colorbar": {
             "outlinewidth": 0,
             "ticks": ""
            },
            "colorscale": [
             [
              0,
              "#0d0887"
             ],
             [
              0.1111111111111111,
              "#46039f"
             ],
             [
              0.2222222222222222,
              "#7201a8"
             ],
             [
              0.3333333333333333,
              "#9c179e"
             ],
             [
              0.4444444444444444,
              "#bd3786"
             ],
             [
              0.5555555555555556,
              "#d8576b"
             ],
             [
              0.6666666666666666,
              "#ed7953"
             ],
             [
              0.7777777777777778,
              "#fb9f3a"
             ],
             [
              0.8888888888888888,
              "#fdca26"
             ],
             [
              1,
              "#f0f921"
             ]
            ],
            "type": "contour"
           }
          ],
          "contourcarpet": [
           {
            "colorbar": {
             "outlinewidth": 0,
             "ticks": ""
            },
            "type": "contourcarpet"
           }
          ],
          "heatmap": [
           {
            "colorbar": {
             "outlinewidth": 0,
             "ticks": ""
            },
            "colorscale": [
             [
              0,
              "#0d0887"
             ],
             [
              0.1111111111111111,
              "#46039f"
             ],
             [
              0.2222222222222222,
              "#7201a8"
             ],
             [
              0.3333333333333333,
              "#9c179e"
             ],
             [
              0.4444444444444444,
              "#bd3786"
             ],
             [
              0.5555555555555556,
              "#d8576b"
             ],
             [
              0.6666666666666666,
              "#ed7953"
             ],
             [
              0.7777777777777778,
              "#fb9f3a"
             ],
             [
              0.8888888888888888,
              "#fdca26"
             ],
             [
              1,
              "#f0f921"
             ]
            ],
            "type": "heatmap"
           }
          ],
          "heatmapgl": [
           {
            "colorbar": {
             "outlinewidth": 0,
             "ticks": ""
            },
            "colorscale": [
             [
              0,
              "#0d0887"
             ],
             [
              0.1111111111111111,
              "#46039f"
             ],
             [
              0.2222222222222222,
              "#7201a8"
             ],
             [
              0.3333333333333333,
              "#9c179e"
             ],
             [
              0.4444444444444444,
              "#bd3786"
             ],
             [
              0.5555555555555556,
              "#d8576b"
             ],
             [
              0.6666666666666666,
              "#ed7953"
             ],
             [
              0.7777777777777778,
              "#fb9f3a"
             ],
             [
              0.8888888888888888,
              "#fdca26"
             ],
             [
              1,
              "#f0f921"
             ]
            ],
            "type": "heatmapgl"
           }
          ],
          "histogram": [
           {
            "marker": {
             "colorbar": {
              "outlinewidth": 0,
              "ticks": ""
             }
            },
            "type": "histogram"
           }
          ],
          "histogram2d": [
           {
            "colorbar": {
             "outlinewidth": 0,
             "ticks": ""
            },
            "colorscale": [
             [
              0,
              "#0d0887"
             ],
             [
              0.1111111111111111,
              "#46039f"
             ],
             [
              0.2222222222222222,
              "#7201a8"
             ],
             [
              0.3333333333333333,
              "#9c179e"
             ],
             [
              0.4444444444444444,
              "#bd3786"
             ],
             [
              0.5555555555555556,
              "#d8576b"
             ],
             [
              0.6666666666666666,
              "#ed7953"
             ],
             [
              0.7777777777777778,
              "#fb9f3a"
             ],
             [
              0.8888888888888888,
              "#fdca26"
             ],
             [
              1,
              "#f0f921"
             ]
            ],
            "type": "histogram2d"
           }
          ],
          "histogram2dcontour": [
           {
            "colorbar": {
             "outlinewidth": 0,
             "ticks": ""
            },
            "colorscale": [
             [
              0,
              "#0d0887"
             ],
             [
              0.1111111111111111,
              "#46039f"
             ],
             [
              0.2222222222222222,
              "#7201a8"
             ],
             [
              0.3333333333333333,
              "#9c179e"
             ],
             [
              0.4444444444444444,
              "#bd3786"
             ],
             [
              0.5555555555555556,
              "#d8576b"
             ],
             [
              0.6666666666666666,
              "#ed7953"
             ],
             [
              0.7777777777777778,
              "#fb9f3a"
             ],
             [
              0.8888888888888888,
              "#fdca26"
             ],
             [
              1,
              "#f0f921"
             ]
            ],
            "type": "histogram2dcontour"
           }
          ],
          "mesh3d": [
           {
            "colorbar": {
             "outlinewidth": 0,
             "ticks": ""
            },
            "type": "mesh3d"
           }
          ],
          "parcoords": [
           {
            "line": {
             "colorbar": {
              "outlinewidth": 0,
              "ticks": ""
             }
            },
            "type": "parcoords"
           }
          ],
          "pie": [
           {
            "automargin": true,
            "type": "pie"
           }
          ],
          "scatter": [
           {
            "marker": {
             "colorbar": {
              "outlinewidth": 0,
              "ticks": ""
             }
            },
            "type": "scatter"
           }
          ],
          "scatter3d": [
           {
            "line": {
             "colorbar": {
              "outlinewidth": 0,
              "ticks": ""
             }
            },
            "marker": {
             "colorbar": {
              "outlinewidth": 0,
              "ticks": ""
             }
            },
            "type": "scatter3d"
           }
          ],
          "scattercarpet": [
           {
            "marker": {
             "colorbar": {
              "outlinewidth": 0,
              "ticks": ""
             }
            },
            "type": "scattercarpet"
           }
          ],
          "scattergeo": [
           {
            "marker": {
             "colorbar": {
              "outlinewidth": 0,
              "ticks": ""
             }
            },
            "type": "scattergeo"
           }
          ],
          "scattergl": [
           {
            "marker": {
             "colorbar": {
              "outlinewidth": 0,
              "ticks": ""
             }
            },
            "type": "scattergl"
           }
          ],
          "scattermapbox": [
           {
            "marker": {
             "colorbar": {
              "outlinewidth": 0,
              "ticks": ""
             }
            },
            "type": "scattermapbox"
           }
          ],
          "scatterpolar": [
           {
            "marker": {
             "colorbar": {
              "outlinewidth": 0,
              "ticks": ""
             }
            },
            "type": "scatterpolar"
           }
          ],
          "scatterpolargl": [
           {
            "marker": {
             "colorbar": {
              "outlinewidth": 0,
              "ticks": ""
             }
            },
            "type": "scatterpolargl"
           }
          ],
          "scatterternary": [
           {
            "marker": {
             "colorbar": {
              "outlinewidth": 0,
              "ticks": ""
             }
            },
            "type": "scatterternary"
           }
          ],
          "surface": [
           {
            "colorbar": {
             "outlinewidth": 0,
             "ticks": ""
            },
            "colorscale": [
             [
              0,
              "#0d0887"
             ],
             [
              0.1111111111111111,
              "#46039f"
             ],
             [
              0.2222222222222222,
              "#7201a8"
             ],
             [
              0.3333333333333333,
              "#9c179e"
             ],
             [
              0.4444444444444444,
              "#bd3786"
             ],
             [
              0.5555555555555556,
              "#d8576b"
             ],
             [
              0.6666666666666666,
              "#ed7953"
             ],
             [
              0.7777777777777778,
              "#fb9f3a"
             ],
             [
              0.8888888888888888,
              "#fdca26"
             ],
             [
              1,
              "#f0f921"
             ]
            ],
            "type": "surface"
           }
          ],
          "table": [
           {
            "cells": {
             "fill": {
              "color": "#EBF0F8"
             },
             "line": {
              "color": "white"
             }
            },
            "header": {
             "fill": {
              "color": "#C8D4E3"
             },
             "line": {
              "color": "white"
             }
            },
            "type": "table"
           }
          ]
         },
         "layout": {
          "annotationdefaults": {
           "arrowcolor": "#2a3f5f",
           "arrowhead": 0,
           "arrowwidth": 1
          },
          "coloraxis": {
           "colorbar": {
            "outlinewidth": 0,
            "ticks": ""
           }
          },
          "colorscale": {
           "diverging": [
            [
             0,
             "#8e0152"
            ],
            [
             0.1,
             "#c51b7d"
            ],
            [
             0.2,
             "#de77ae"
            ],
            [
             0.3,
             "#f1b6da"
            ],
            [
             0.4,
             "#fde0ef"
            ],
            [
             0.5,
             "#f7f7f7"
            ],
            [
             0.6,
             "#e6f5d0"
            ],
            [
             0.7,
             "#b8e186"
            ],
            [
             0.8,
             "#7fbc41"
            ],
            [
             0.9,
             "#4d9221"
            ],
            [
             1,
             "#276419"
            ]
           ],
           "sequential": [
            [
             0,
             "#0d0887"
            ],
            [
             0.1111111111111111,
             "#46039f"
            ],
            [
             0.2222222222222222,
             "#7201a8"
            ],
            [
             0.3333333333333333,
             "#9c179e"
            ],
            [
             0.4444444444444444,
             "#bd3786"
            ],
            [
             0.5555555555555556,
             "#d8576b"
            ],
            [
             0.6666666666666666,
             "#ed7953"
            ],
            [
             0.7777777777777778,
             "#fb9f3a"
            ],
            [
             0.8888888888888888,
             "#fdca26"
            ],
            [
             1,
             "#f0f921"
            ]
           ],
           "sequentialminus": [
            [
             0,
             "#0d0887"
            ],
            [
             0.1111111111111111,
             "#46039f"
            ],
            [
             0.2222222222222222,
             "#7201a8"
            ],
            [
             0.3333333333333333,
             "#9c179e"
            ],
            [
             0.4444444444444444,
             "#bd3786"
            ],
            [
             0.5555555555555556,
             "#d8576b"
            ],
            [
             0.6666666666666666,
             "#ed7953"
            ],
            [
             0.7777777777777778,
             "#fb9f3a"
            ],
            [
             0.8888888888888888,
             "#fdca26"
            ],
            [
             1,
             "#f0f921"
            ]
           ]
          },
          "colorway": [
           "#636efa",
           "#EF553B",
           "#00cc96",
           "#ab63fa",
           "#FFA15A",
           "#19d3f3",
           "#FF6692",
           "#B6E880",
           "#FF97FF",
           "#FECB52"
          ],
          "font": {
           "color": "#2a3f5f"
          },
          "geo": {
           "bgcolor": "white",
           "lakecolor": "white",
           "landcolor": "#E5ECF6",
           "showlakes": true,
           "showland": true,
           "subunitcolor": "white"
          },
          "hoverlabel": {
           "align": "left"
          },
          "hovermode": "closest",
          "mapbox": {
           "style": "light"
          },
          "paper_bgcolor": "white",
          "plot_bgcolor": "#E5ECF6",
          "polar": {
           "angularaxis": {
            "gridcolor": "white",
            "linecolor": "white",
            "ticks": ""
           },
           "bgcolor": "#E5ECF6",
           "radialaxis": {
            "gridcolor": "white",
            "linecolor": "white",
            "ticks": ""
           }
          },
          "scene": {
           "xaxis": {
            "backgroundcolor": "#E5ECF6",
            "gridcolor": "white",
            "gridwidth": 2,
            "linecolor": "white",
            "showbackground": true,
            "ticks": "",
            "zerolinecolor": "white"
           },
           "yaxis": {
            "backgroundcolor": "#E5ECF6",
            "gridcolor": "white",
            "gridwidth": 2,
            "linecolor": "white",
            "showbackground": true,
            "ticks": "",
            "zerolinecolor": "white"
           },
           "zaxis": {
            "backgroundcolor": "#E5ECF6",
            "gridcolor": "white",
            "gridwidth": 2,
            "linecolor": "white",
            "showbackground": true,
            "ticks": "",
            "zerolinecolor": "white"
           }
          },
          "shapedefaults": {
           "line": {
            "color": "#2a3f5f"
           }
          },
          "ternary": {
           "aaxis": {
            "gridcolor": "white",
            "linecolor": "white",
            "ticks": ""
           },
           "baxis": {
            "gridcolor": "white",
            "linecolor": "white",
            "ticks": ""
           },
           "bgcolor": "#E5ECF6",
           "caxis": {
            "gridcolor": "white",
            "linecolor": "white",
            "ticks": ""
           }
          },
          "title": {
           "x": 0.05
          },
          "xaxis": {
           "automargin": true,
           "gridcolor": "white",
           "linecolor": "white",
           "ticks": "",
           "title": {
            "standoff": 15
           },
           "zerolinecolor": "white",
           "zerolinewidth": 2
          },
          "yaxis": {
           "automargin": true,
           "gridcolor": "white",
           "linecolor": "white",
           "ticks": "",
           "title": {
            "standoff": 15
           },
           "zerolinecolor": "white",
           "zerolinewidth": 2
          }
         }
        }
       }
      },
      "text/html": [
       "<div>\n",
       "        \n",
       "        \n",
       "            <div id=\"f072df65-9eca-4294-b05c-23d4882c190f\" class=\"plotly-graph-div\" style=\"height:525px; width:100%;\"></div>\n",
       "            <script type=\"text/javascript\">\n",
       "                require([\"plotly\"], function(Plotly) {\n",
       "                    window.PLOTLYENV=window.PLOTLYENV || {};\n",
       "                    \n",
       "                if (document.getElementById(\"f072df65-9eca-4294-b05c-23d4882c190f\")) {\n",
       "                    Plotly.newPlot(\n",
       "                        'f072df65-9eca-4294-b05c-23d4882c190f',\n",
       "                        [{\"type\": \"scatter\", \"y\": [3.34159255027771, 3.1931569576263428, 2.909846305847168, 2.741990804672241, 2.7210869789123535, 2.771808624267578, 2.8815243244171143, 3.070465564727783, 3.324679136276245, 3.5836496353149414]}, {\"type\": \"scatter\", \"y\": [0.20000000298023224, 0.6809230446815491, 1.7420780658721924, 2.685340166091919, 3.1611640453338623, 3.1287291049957275, 2.659282684326172, 1.943707823753357, 1.2468074560165405, 0.8211299180984497]}, {\"type\": \"scatter\", \"y\": [0.0, -1.4843560457229614, -1.3487510681152344, -0.3298022747039795, 0.12076272070407867, 0.38645410537719727, 0.71070396900177, 1.1787070035934448, 1.3634284734725952, 1.2262784242630005]}, {\"type\": \"scatter\", \"y\": [0.0, 4.809230804443359, 5.802319049835205, 3.6303024291992188, 1.1279362440109253, -1.4522864818572998, -3.2421765327453613, -3.913572311401367, -3.055431365966797, -1.2013441324234009]}],\n",
       "                        {\"template\": {\"data\": {\"bar\": [{\"error_x\": {\"color\": \"#2a3f5f\"}, \"error_y\": {\"color\": \"#2a3f5f\"}, \"marker\": {\"line\": {\"color\": \"#E5ECF6\", \"width\": 0.5}}, \"type\": \"bar\"}], \"barpolar\": [{\"marker\": {\"line\": {\"color\": \"#E5ECF6\", \"width\": 0.5}}, \"type\": \"barpolar\"}], \"carpet\": [{\"aaxis\": {\"endlinecolor\": \"#2a3f5f\", \"gridcolor\": \"white\", \"linecolor\": \"white\", \"minorgridcolor\": \"white\", \"startlinecolor\": \"#2a3f5f\"}, \"baxis\": {\"endlinecolor\": \"#2a3f5f\", \"gridcolor\": \"white\", \"linecolor\": \"white\", \"minorgridcolor\": \"white\", \"startlinecolor\": \"#2a3f5f\"}, \"type\": \"carpet\"}], \"choropleth\": [{\"colorbar\": {\"outlinewidth\": 0, \"ticks\": \"\"}, \"type\": \"choropleth\"}], \"contour\": [{\"colorbar\": {\"outlinewidth\": 0, \"ticks\": \"\"}, \"colorscale\": [[0.0, \"#0d0887\"], [0.1111111111111111, \"#46039f\"], [0.2222222222222222, \"#7201a8\"], [0.3333333333333333, \"#9c179e\"], [0.4444444444444444, \"#bd3786\"], [0.5555555555555556, \"#d8576b\"], [0.6666666666666666, \"#ed7953\"], [0.7777777777777778, \"#fb9f3a\"], [0.8888888888888888, \"#fdca26\"], [1.0, \"#f0f921\"]], \"type\": \"contour\"}], \"contourcarpet\": [{\"colorbar\": {\"outlinewidth\": 0, \"ticks\": \"\"}, \"type\": \"contourcarpet\"}], \"heatmap\": [{\"colorbar\": {\"outlinewidth\": 0, \"ticks\": \"\"}, \"colorscale\": [[0.0, \"#0d0887\"], [0.1111111111111111, \"#46039f\"], [0.2222222222222222, \"#7201a8\"], [0.3333333333333333, \"#9c179e\"], [0.4444444444444444, \"#bd3786\"], [0.5555555555555556, \"#d8576b\"], [0.6666666666666666, \"#ed7953\"], [0.7777777777777778, \"#fb9f3a\"], [0.8888888888888888, \"#fdca26\"], [1.0, \"#f0f921\"]], \"type\": \"heatmap\"}], \"heatmapgl\": [{\"colorbar\": {\"outlinewidth\": 0, \"ticks\": \"\"}, \"colorscale\": [[0.0, \"#0d0887\"], [0.1111111111111111, \"#46039f\"], [0.2222222222222222, \"#7201a8\"], [0.3333333333333333, \"#9c179e\"], [0.4444444444444444, \"#bd3786\"], [0.5555555555555556, \"#d8576b\"], [0.6666666666666666, \"#ed7953\"], [0.7777777777777778, \"#fb9f3a\"], [0.8888888888888888, \"#fdca26\"], [1.0, \"#f0f921\"]], \"type\": \"heatmapgl\"}], \"histogram\": [{\"marker\": {\"colorbar\": {\"outlinewidth\": 0, \"ticks\": \"\"}}, \"type\": \"histogram\"}], \"histogram2d\": [{\"colorbar\": {\"outlinewidth\": 0, \"ticks\": \"\"}, \"colorscale\": [[0.0, \"#0d0887\"], [0.1111111111111111, \"#46039f\"], [0.2222222222222222, \"#7201a8\"], [0.3333333333333333, \"#9c179e\"], [0.4444444444444444, \"#bd3786\"], [0.5555555555555556, \"#d8576b\"], [0.6666666666666666, \"#ed7953\"], [0.7777777777777778, \"#fb9f3a\"], [0.8888888888888888, \"#fdca26\"], [1.0, \"#f0f921\"]], \"type\": \"histogram2d\"}], \"histogram2dcontour\": [{\"colorbar\": {\"outlinewidth\": 0, \"ticks\": \"\"}, \"colorscale\": [[0.0, \"#0d0887\"], [0.1111111111111111, \"#46039f\"], [0.2222222222222222, \"#7201a8\"], [0.3333333333333333, \"#9c179e\"], [0.4444444444444444, \"#bd3786\"], [0.5555555555555556, \"#d8576b\"], [0.6666666666666666, \"#ed7953\"], [0.7777777777777778, \"#fb9f3a\"], [0.8888888888888888, \"#fdca26\"], [1.0, \"#f0f921\"]], \"type\": \"histogram2dcontour\"}], \"mesh3d\": [{\"colorbar\": {\"outlinewidth\": 0, \"ticks\": \"\"}, \"type\": \"mesh3d\"}], \"parcoords\": [{\"line\": {\"colorbar\": {\"outlinewidth\": 0, \"ticks\": \"\"}}, \"type\": \"parcoords\"}], \"pie\": [{\"automargin\": true, \"type\": \"pie\"}], \"scatter\": [{\"marker\": {\"colorbar\": {\"outlinewidth\": 0, \"ticks\": \"\"}}, \"type\": \"scatter\"}], \"scatter3d\": [{\"line\": {\"colorbar\": {\"outlinewidth\": 0, \"ticks\": \"\"}}, \"marker\": {\"colorbar\": {\"outlinewidth\": 0, \"ticks\": \"\"}}, \"type\": \"scatter3d\"}], \"scattercarpet\": [{\"marker\": {\"colorbar\": {\"outlinewidth\": 0, \"ticks\": \"\"}}, \"type\": \"scattercarpet\"}], \"scattergeo\": [{\"marker\": {\"colorbar\": {\"outlinewidth\": 0, \"ticks\": \"\"}}, \"type\": \"scattergeo\"}], \"scattergl\": [{\"marker\": {\"colorbar\": {\"outlinewidth\": 0, \"ticks\": \"\"}}, \"type\": \"scattergl\"}], \"scattermapbox\": [{\"marker\": {\"colorbar\": {\"outlinewidth\": 0, \"ticks\": \"\"}}, \"type\": \"scattermapbox\"}], \"scatterpolar\": [{\"marker\": {\"colorbar\": {\"outlinewidth\": 0, \"ticks\": \"\"}}, \"type\": \"scatterpolar\"}], \"scatterpolargl\": [{\"marker\": {\"colorbar\": {\"outlinewidth\": 0, \"ticks\": \"\"}}, \"type\": \"scatterpolargl\"}], \"scatterternary\": [{\"marker\": {\"colorbar\": {\"outlinewidth\": 0, \"ticks\": \"\"}}, \"type\": \"scatterternary\"}], \"surface\": [{\"colorbar\": {\"outlinewidth\": 0, \"ticks\": \"\"}, \"colorscale\": [[0.0, \"#0d0887\"], [0.1111111111111111, \"#46039f\"], [0.2222222222222222, \"#7201a8\"], [0.3333333333333333, \"#9c179e\"], [0.4444444444444444, \"#bd3786\"], [0.5555555555555556, \"#d8576b\"], [0.6666666666666666, \"#ed7953\"], [0.7777777777777778, \"#fb9f3a\"], [0.8888888888888888, \"#fdca26\"], [1.0, \"#f0f921\"]], \"type\": \"surface\"}], \"table\": [{\"cells\": {\"fill\": {\"color\": \"#EBF0F8\"}, \"line\": {\"color\": \"white\"}}, \"header\": {\"fill\": {\"color\": \"#C8D4E3\"}, \"line\": {\"color\": \"white\"}}, \"type\": \"table\"}]}, \"layout\": {\"annotationdefaults\": {\"arrowcolor\": \"#2a3f5f\", \"arrowhead\": 0, \"arrowwidth\": 1}, \"coloraxis\": {\"colorbar\": {\"outlinewidth\": 0, \"ticks\": \"\"}}, \"colorscale\": {\"diverging\": [[0, \"#8e0152\"], [0.1, \"#c51b7d\"], [0.2, \"#de77ae\"], [0.3, \"#f1b6da\"], [0.4, \"#fde0ef\"], [0.5, \"#f7f7f7\"], [0.6, \"#e6f5d0\"], [0.7, \"#b8e186\"], [0.8, \"#7fbc41\"], [0.9, \"#4d9221\"], [1, \"#276419\"]], \"sequential\": [[0.0, \"#0d0887\"], [0.1111111111111111, \"#46039f\"], [0.2222222222222222, \"#7201a8\"], [0.3333333333333333, \"#9c179e\"], [0.4444444444444444, \"#bd3786\"], [0.5555555555555556, \"#d8576b\"], [0.6666666666666666, \"#ed7953\"], [0.7777777777777778, \"#fb9f3a\"], [0.8888888888888888, \"#fdca26\"], [1.0, \"#f0f921\"]], \"sequentialminus\": [[0.0, \"#0d0887\"], [0.1111111111111111, \"#46039f\"], [0.2222222222222222, \"#7201a8\"], [0.3333333333333333, \"#9c179e\"], [0.4444444444444444, \"#bd3786\"], [0.5555555555555556, \"#d8576b\"], [0.6666666666666666, \"#ed7953\"], [0.7777777777777778, \"#fb9f3a\"], [0.8888888888888888, \"#fdca26\"], [1.0, \"#f0f921\"]]}, \"colorway\": [\"#636efa\", \"#EF553B\", \"#00cc96\", \"#ab63fa\", \"#FFA15A\", \"#19d3f3\", \"#FF6692\", \"#B6E880\", \"#FF97FF\", \"#FECB52\"], \"font\": {\"color\": \"#2a3f5f\"}, \"geo\": {\"bgcolor\": \"white\", \"lakecolor\": \"white\", \"landcolor\": \"#E5ECF6\", \"showlakes\": true, \"showland\": true, \"subunitcolor\": \"white\"}, \"hoverlabel\": {\"align\": \"left\"}, \"hovermode\": \"closest\", \"mapbox\": {\"style\": \"light\"}, \"paper_bgcolor\": \"white\", \"plot_bgcolor\": \"#E5ECF6\", \"polar\": {\"angularaxis\": {\"gridcolor\": \"white\", \"linecolor\": \"white\", \"ticks\": \"\"}, \"bgcolor\": \"#E5ECF6\", \"radialaxis\": {\"gridcolor\": \"white\", \"linecolor\": \"white\", \"ticks\": \"\"}}, \"scene\": {\"xaxis\": {\"backgroundcolor\": \"#E5ECF6\", \"gridcolor\": \"white\", \"gridwidth\": 2, \"linecolor\": \"white\", \"showbackground\": true, \"ticks\": \"\", \"zerolinecolor\": \"white\"}, \"yaxis\": {\"backgroundcolor\": \"#E5ECF6\", \"gridcolor\": \"white\", \"gridwidth\": 2, \"linecolor\": \"white\", \"showbackground\": true, \"ticks\": \"\", \"zerolinecolor\": \"white\"}, \"zaxis\": {\"backgroundcolor\": \"#E5ECF6\", \"gridcolor\": \"white\", \"gridwidth\": 2, \"linecolor\": \"white\", \"showbackground\": true, \"ticks\": \"\", \"zerolinecolor\": \"white\"}}, \"shapedefaults\": {\"line\": {\"color\": \"#2a3f5f\"}}, \"ternary\": {\"aaxis\": {\"gridcolor\": \"white\", \"linecolor\": \"white\", \"ticks\": \"\"}, \"baxis\": {\"gridcolor\": \"white\", \"linecolor\": \"white\", \"ticks\": \"\"}, \"bgcolor\": \"#E5ECF6\", \"caxis\": {\"gridcolor\": \"white\", \"linecolor\": \"white\", \"ticks\": \"\"}}, \"title\": {\"x\": 0.05}, \"xaxis\": {\"automargin\": true, \"gridcolor\": \"white\", \"linecolor\": \"white\", \"ticks\": \"\", \"title\": {\"standoff\": 15}, \"zerolinecolor\": \"white\", \"zerolinewidth\": 2}, \"yaxis\": {\"automargin\": true, \"gridcolor\": \"white\", \"linecolor\": \"white\", \"ticks\": \"\", \"title\": {\"standoff\": 15}, \"zerolinecolor\": \"white\", \"zerolinewidth\": 2}}}},\n",
       "                        {\"responsive\": true}\n",
       "                    ).then(function(){\n",
       "                            \n",
       "var gd = document.getElementById('f072df65-9eca-4294-b05c-23d4882c190f');\n",
       "var x = new MutationObserver(function (mutations, observer) {{\n",
       "        var display = window.getComputedStyle(gd).display;\n",
       "        if (!display || display === 'none') {{\n",
       "            console.log([gd, 'removed!']);\n",
       "            Plotly.purge(gd);\n",
       "            observer.disconnect();\n",
       "        }}\n",
       "}});\n",
       "\n",
       "// Listen for the removal of the full notebook cells\n",
       "var notebookContainer = gd.closest('#notebook-container');\n",
       "if (notebookContainer) {{\n",
       "    x.observe(notebookContainer, {childList: true});\n",
       "}}\n",
       "\n",
       "// Listen for the clearing of the current output cell\n",
       "var outputEl = gd.closest('.output');\n",
       "if (outputEl) {{\n",
       "    x.observe(outputEl, {childList: true});\n",
       "}}\n",
       "\n",
       "                        })\n",
       "                };\n",
       "                });\n",
       "            </script>\n",
       "        </div>"
      ]
     },
     "metadata": {},
     "output_type": "display_data"
    }
   ],
   "source": [
    "eps = .2\n",
    "x0 = torch.Tensor([np.pi+eps, eps, 0., 0.]).double()\n",
    "x_traj, u_traj, alpha_traj = vf.sol_to_traj(x0, *(V(x0)[1:]))\n",
    "fig = go.Figure()\n",
    "for i in range(4):\n",
    "    fig.add_trace(go.Scatter(\n",
    "        y=x_traj[i,:]\n",
    "    ))\n",
    "fig.show()"
   ]
  },
  {
   "cell_type": "code",
   "execution_count": 20,
   "metadata": {},
   "outputs": [
    {
     "data": {
      "application/vnd.plotly.v1+json": {
       "config": {
        "plotlyServerURL": "https://plot.ly"
       },
       "data": [
        {
         "type": "scatter",
         "x": [
          0,
          4.8745510866865516e-05,
          0.0005362005904316902,
          0.005410751793533564,
          0.054156262427568436,
          0.10000000149011612,
          0.14625713229179382,
          0.20000000298023224,
          0.24848313629627228,
          0.30000001192092896,
          0.3502035140991211,
          0.4000000059604645,
          0.45181766152381897,
          0.5,
          0.5527282953262329,
          0.6000000238418579,
          0.6543830037117004,
          0.699999988079071,
          0.7569910883903503,
          0.800000011920929,
          0.8431944251060486,
          0.8999999761581421,
          0.9362322688102722,
          1,
          1.0336284637451172,
          1.100000023841858,
          1.127816081047058,
          1.2000000476837158,
          1.2157164812088013,
          1.2999999523162842,
          1.3380036354064941,
          1.399999976158142,
          1.4373340606689453,
          1.5,
          1.5266929864883423,
          1.600000023841858,
          1.6457972526550293,
          1.7000000476837158,
          1.7579267024993896,
          1.7999999523162842,
          1.8650091886520386,
          1.899999976158142,
          1.9676300287246704,
          2,
          2.073333263397217,
          2.0999999046325684,
          2.1739373207092285,
          2.200000047683716,
          2.257786750793457,
          2.299999952316284,
          2.3509464263916016,
          2.4000000953674316,
          2.4480152130126953,
          2.5,
          2.546414852142334,
          2.5999999046325684,
          2.6454453468322754,
          2.700000047683716,
          2.744621992111206,
          2.799999952316284,
          2.843627691268921,
          2.9000000953674316,
          2.9421706199645996,
          3,
          3.039850950241089,
          3.0999999046325684,
          3.1356565952301025,
          3.200000047683716,
          3.2093069553375244,
          3.299999952316284,
          3.3306214809417725,
          3.4000000953674316,
          3.4404711723327637,
          3.5,
          3.5450103282928467,
          3.5999999046325684,
          3.6483511924743652,
          3.700000047683716,
          3.751121997833252,
          3.799999952316284,
          3.853677272796631,
          3.9000000953674316,
          3.956284284591675,
          4,
          4.059418201446533,
          4.099999904632568,
          4.164065837860107,
          4.199999809265137,
          4.273622035980225,
          4.300000190734863,
          4.389471530914307,
          4.400000095367432,
          4.46903657913208,
          4.5,
          4.560309886932373,
          4.599999904632568,
          4.603030681610107,
          4.633337497711182,
          4.699999809265137,
          4.752538204193115,
          4.800000190734863,
          4.850318908691406,
          4.900000095367432,
          4.948489189147949,
          5,
          5.0468292236328125,
          5.099999904632568,
          5.14514684677124,
          5.199999809265137,
          5.243257522583008,
          5.300000190734863,
          5.3409199714660645,
          5.400000095367432,
          5.437671184539795,
          5.5,
          5.531944751739502,
          5.599999904632568,
          5.624847412109375,
          5.699999809265137,
          5.735284328460693,
          5.800000190734863,
          5.840571403503418,
          5.900000095367432,
          5.944272518157959,
          6,
          6.047372817993164,
          6.099999904632568,
          6.150254249572754,
          6.199999809265137,
          6.253177642822266,
          6.300000190734863,
          6.356426239013672,
          6.400000095367432,
          6.460501194000244,
          6.5,
          6.566392421722412,
          6.599999904632568,
          6.678099155426025,
          6.699999809265137,
          6.793955326080322,
          6.800000190734863,
          6.872894287109375,
          6.900000095367432,
          6.964393138885498,
          7,
          7.059579849243164,
          7.099999904632568,
          7.1213178634643555,
          7.199999809265137,
          7.253542900085449,
          7.300000190734863,
          7.351299285888672,
          7.400000095367432,
          7.449227809906006,
          7.5,
          7.547224521636963,
          7.599999904632568,
          7.645138740539551,
          7.699999809265137,
          7.742829322814941,
          7.800000190734863,
          7.840048789978027,
          7.900000095367432,
          7.936241626739502,
          8,
          8.028939247131348,
          8.100000381469727,
          8.125514030456543,
          8.199999809265137,
          8.236292839050293,
          8.300000190734863,
          8.340815544128418,
          8.399999618530273,
          8.444235801696777,
          8.5,
          8.547225952148438,
          8.600000381469727,
          8.65014362335205,
          8.699999809265137,
          8.753175735473633,
          8.800000190734863,
          8.856607437133789,
          8.899999618530273,
          8.960884094238281,
          9,
          9.067078590393066,
          9.100000381469727,
          9.17933177947998,
          9.199999809265137,
          9.295034408569336,
          9.300000190734863,
          9.373831748962402,
          9.399999618530273,
          9.465371131896973,
          9.5,
          9.560616493225098,
          9.600000381469727,
          9.638787269592285,
          9.699999809265137,
          9.75445556640625,
          9.800000190734863,
          9.852149963378906,
          9.899999618530273
         ],
         "y": [
          3.34159255027771,
          3.34159255027771,
          3.3415913581848145,
          3.3414602279663086,
          3.328737735748291,
          3.2990567684173584,
          3.2549710273742676,
          3.192706346511841,
          3.1307339668273926,
          3.064851760864258,
          3.004063606262207,
          2.9499928951263428,
          2.9018869400024414,
          2.8654584884643555,
          2.8347818851470947,
          2.814959764480591,
          2.7997312545776367,
          2.7917933464050293,
          2.785823106765747,
          2.7829360961914062,
          2.7805733680725098,
          2.77751088142395,
          2.7756454944610596,
          2.7724063396453857,
          2.7711215019226074,
          2.7690956592559814,
          2.768700122833252,
          2.767550468444824,
          2.7673933506011963,
          2.764890432357788,
          2.763131618499756,
          2.7594268321990967,
          2.757382869720459,
          2.755805730819702,
          2.756542921066284,
          2.7651047706604004,
          2.776658058166504,
          2.7971725463867188,
          2.8268675804138184,
          2.8528859615325928,
          2.8984410762786865,
          2.9250662326812744,
          2.978534698486328,
          3.0047082901000977,
          3.0638949871063232,
          3.0851573944091797,
          3.1431190967559814,
          3.16281795501709,
          3.2058279514312744,
          3.2356863021850586,
          3.2705159187316895,
          3.302025556564331,
          3.3311281204223633,
          3.360395908355713,
          3.3845055103302,
          3.4100680351257324,
          3.4296624660491943,
          3.4509918689727783,
          3.466432809829712,
          3.4835293292999268,
          3.495143175125122,
          3.5082242488861084,
          3.5163369178771973,
          3.5256731510162354,
          3.5306320190429688,
          3.5364437103271484,
          3.5386431217193604,
          3.5410213470458984,
          3.54103946685791,
          3.5397698879241943,
          3.538135290145874,
          3.5329251289367676,
          3.528524398803711,
          3.5206141471862793,
          3.5132672786712646,
          3.502915859222412,
          3.4924325942993164,
          3.4799370765686035,
          3.46620774269104,
          3.4518964290618896,
          3.434887647628784,
          3.4191806316375732,
          3.398935317993164,
          3.3823821544647217,
          3.3589119911193848,
          3.342288017272949,
          3.315312147140503,
          3.2998411655426025,
          3.2677013874053955,
          3.256091833114624,
          3.2167348861694336,
          3.212143898010254,
          3.182204246520996,
          3.169098138809204,
          3.1439452171325684,
          3.1279919147491455,
          3.1268081665039062,
          3.1149210929870605,
          3.089728355407715,
          3.070976495742798,
          3.0550167560577393,
          3.0390405654907227,
          3.0243446826934814,
          3.0110180377960205,
          2.997983932495117,
          2.9871740341186523,
          2.976032018661499,
          2.9675962924957275,
          2.958461284637451,
          2.9522390365600586,
          2.9451582431793213,
          2.9409689903259277,
          2.9359586238861084,
          2.9335925579071045,
          2.930666208267212,
          2.929858922958374,
          2.9290666580200195,
          2.9293203353881836,
          2.930931806564331,
          2.9324464797973633,
          2.936018943786621,
          2.9389944076538086,
          2.944068431854248,
          2.948540687561035,
          2.9547994136810303,
          2.960753917694092,
          2.9679062366485596,
          2.9752988815307617,
          2.983058452606201,
          2.991832733154297,
          2.999901056289673,
          3.0100080966949463,
          3.0180563926696777,
          3.029510021209717,
          3.0371339321136475,
          3.0501105785369873,
          3.0567381381988525,
          3.0721616744995117,
          3.07647967338562,
          3.0948214530944824,
          3.09598445892334,
          3.1098718643188477,
          3.1149046421051025,
          3.1266562938690186,
          3.132930278778076,
          3.143155813217163,
          3.149794340133667,
          3.1531872749328613,
          3.1652755737304688,
          3.172950267791748,
          3.1792068481445312,
          3.185718297958374,
          3.1914658546447754,
          3.19686222076416,
          3.201975107192993,
          3.2063114643096924,
          3.210695743560791,
          3.214031219482422,
          3.2176246643066406,
          3.2200303077697754,
          3.222790479660034,
          3.224348783493042,
          3.226247549057007,
          3.2270569801330566,
          3.2280712127685547,
          3.2282614707946777,
          3.2283551692962646,
          3.228147506713867,
          3.22721266746521,
          3.2264370918273926,
          3.224766969680786,
          3.2234015464782715,
          3.2211506366729736,
          3.219198226928711,
          3.216505765914917,
          3.213987350463867,
          3.2109827995300293,
          3.2079241275787354,
          3.204732656478882,
          3.2011637687683105,
          3.1979103088378906,
          3.1938533782958984,
          3.1906702518463135,
          3.186123847961426,
          3.183164119720459,
          3.178053617477417,
          3.1755354404449463,
          3.1694869995117188,
          3.167919635772705,
          3.160809278488159,
          3.1604440212249756,
          3.155074119567871,
          3.153221368789673,
          3.148676872253418,
          3.146352767944336,
          3.1423909664154053,
          3.1399264335632324,
          3.1375732421875,
          3.1340157985687256,
          3.1310296058654785,
          3.128679037094116,
          3.1261353492736816,
          3.1239607334136963
         ]
        },
        {
         "type": "scatter",
         "x": [
          0,
          4.8745510866865516e-05,
          0.0005362005904316902,
          0.005410751793533564,
          0.054156262427568436,
          0.10000000149011612,
          0.14625713229179382,
          0.20000000298023224,
          0.24848313629627228,
          0.30000001192092896,
          0.3502035140991211,
          0.4000000059604645,
          0.45181766152381897,
          0.5,
          0.5527282953262329,
          0.6000000238418579,
          0.6543830037117004,
          0.699999988079071,
          0.7569910883903503,
          0.800000011920929,
          0.8431944251060486,
          0.8999999761581421,
          0.9362322688102722,
          1,
          1.0336284637451172,
          1.100000023841858,
          1.127816081047058,
          1.2000000476837158,
          1.2157164812088013,
          1.2999999523162842,
          1.3380036354064941,
          1.399999976158142,
          1.4373340606689453,
          1.5,
          1.5266929864883423,
          1.600000023841858,
          1.6457972526550293,
          1.7000000476837158,
          1.7579267024993896,
          1.7999999523162842,
          1.8650091886520386,
          1.899999976158142,
          1.9676300287246704,
          2,
          2.073333263397217,
          2.0999999046325684,
          2.1739373207092285,
          2.200000047683716,
          2.257786750793457,
          2.299999952316284,
          2.3509464263916016,
          2.4000000953674316,
          2.4480152130126953,
          2.5,
          2.546414852142334,
          2.5999999046325684,
          2.6454453468322754,
          2.700000047683716,
          2.744621992111206,
          2.799999952316284,
          2.843627691268921,
          2.9000000953674316,
          2.9421706199645996,
          3,
          3.039850950241089,
          3.0999999046325684,
          3.1356565952301025,
          3.200000047683716,
          3.2093069553375244,
          3.299999952316284,
          3.3306214809417725,
          3.4000000953674316,
          3.4404711723327637,
          3.5,
          3.5450103282928467,
          3.5999999046325684,
          3.6483511924743652,
          3.700000047683716,
          3.751121997833252,
          3.799999952316284,
          3.853677272796631,
          3.9000000953674316,
          3.956284284591675,
          4,
          4.059418201446533,
          4.099999904632568,
          4.164065837860107,
          4.199999809265137,
          4.273622035980225,
          4.300000190734863,
          4.389471530914307,
          4.400000095367432,
          4.46903657913208,
          4.5,
          4.560309886932373,
          4.599999904632568,
          4.603030681610107,
          4.633337497711182,
          4.699999809265137,
          4.752538204193115,
          4.800000190734863,
          4.850318908691406,
          4.900000095367432,
          4.948489189147949,
          5,
          5.0468292236328125,
          5.099999904632568,
          5.14514684677124,
          5.199999809265137,
          5.243257522583008,
          5.300000190734863,
          5.3409199714660645,
          5.400000095367432,
          5.437671184539795,
          5.5,
          5.531944751739502,
          5.599999904632568,
          5.624847412109375,
          5.699999809265137,
          5.735284328460693,
          5.800000190734863,
          5.840571403503418,
          5.900000095367432,
          5.944272518157959,
          6,
          6.047372817993164,
          6.099999904632568,
          6.150254249572754,
          6.199999809265137,
          6.253177642822266,
          6.300000190734863,
          6.356426239013672,
          6.400000095367432,
          6.460501194000244,
          6.5,
          6.566392421722412,
          6.599999904632568,
          6.678099155426025,
          6.699999809265137,
          6.793955326080322,
          6.800000190734863,
          6.872894287109375,
          6.900000095367432,
          6.964393138885498,
          7,
          7.059579849243164,
          7.099999904632568,
          7.1213178634643555,
          7.199999809265137,
          7.253542900085449,
          7.300000190734863,
          7.351299285888672,
          7.400000095367432,
          7.449227809906006,
          7.5,
          7.547224521636963,
          7.599999904632568,
          7.645138740539551,
          7.699999809265137,
          7.742829322814941,
          7.800000190734863,
          7.840048789978027,
          7.900000095367432,
          7.936241626739502,
          8,
          8.028939247131348,
          8.100000381469727,
          8.125514030456543,
          8.199999809265137,
          8.236292839050293,
          8.300000190734863,
          8.340815544128418,
          8.399999618530273,
          8.444235801696777,
          8.5,
          8.547225952148438,
          8.600000381469727,
          8.65014362335205,
          8.699999809265137,
          8.753175735473633,
          8.800000190734863,
          8.856607437133789,
          8.899999618530273,
          8.960884094238281,
          9,
          9.067078590393066,
          9.100000381469727,
          9.17933177947998,
          9.199999809265137,
          9.295034408569336,
          9.300000190734863,
          9.373831748962402,
          9.399999618530273,
          9.465371131896973,
          9.5,
          9.560616493225098,
          9.600000381469727,
          9.638787269592285,
          9.699999809265137,
          9.75445556640625,
          9.800000190734863,
          9.852149963378906,
          9.899999618530273
         ],
         "y": [
          0.20000000298023224,
          0.20000003278255463,
          0.2000039517879486,
          0.20040100812911987,
          0.23910114169120789,
          0.3299466371536255,
          0.4666903018951416,
          0.6651778221130371,
          0.8704361319541931,
          1.1014881134033203,
          1.3320475816726685,
          1.5597094297409058,
          1.792252779006958,
          2.002328634262085,
          2.224076986312866,
          2.414424419403076,
          2.6222758293151855,
          2.786008358001709,
          2.9748566150665283,
          3.103659152984619,
          3.2193479537963867,
          3.348081588745117,
          3.414091110229492,
          3.4983110427856445,
          3.524482488632202,
          3.5404393672943115,
          3.53204607963562,
          3.47385573387146,
          3.453742027282715,
          3.309899091720581,
          3.2252461910247803,
          3.0651755332946777,
          2.95630145072937,
          2.7556204795837402,
          2.6637887954711914,
          2.396352529525757,
          2.2201499938964844,
          2.005802869796753,
          1.7738637924194336,
          1.6053849458694458,
          1.3493469953536987,
          1.2141979932785034,
          0.961557149887085,
          0.8445507884025574,
          0.5901952981948853,
          0.5013610124588013,
          0.2641034424304962,
          0.18428102135658264,
          0.011776893399655819,
          -0.10813260823488235,
          -0.24790169298648834,
          -0.3756174147129059,
          -0.4948388636112213,
          -0.6168296933174133,
          -0.7194346785545349,
          -0.83077073097229,
          -0.9186534285545349,
          -1.0170173645019531,
          -1.0908845663070679,
          -1.1753144264221191,
          -1.2352650165557861,
          -1.3052616119384766,
          -1.3511520624160767,
          -1.406301736831665,
          -1.4380733966827393,
          -1.4778729677200317,
          -1.4958293437957764,
          -1.519642949104309,
          -1.5216952562332153,
          -1.5317206382751465,
          -1.5292001962661743,
          -1.5148255825042725,
          -1.4998319149017334,
          -1.4703490734100342,
          -1.4417320489883423,
          -1.4003573656082153,
          -1.3580678701400757,
          -1.3074980974197388,
          -1.2521661520004272,
          -1.194880723953247,
          -1.1274712085723877,
          -1.0659072399139404,
          -0.9874905943870544,
          -0.924146831035614,
          -0.8353707194328308,
          -0.7731940150260925,
          -0.6733196973800659,
          -0.6165701150894165,
          -0.49962934851646423,
          -0.4576643407344818,
          -0.31617358326911926,
          -0.29971426725387573,
          -0.19266986846923828,
          -0.1457725465297699,
          -0.05588169023394585,
          0.0013403421035036445,
          0.005607157945632935,
          0.048316195607185364,
          0.1391364336013794,
          0.2071845531463623,
          0.2655676305294037,
          0.32441988587379456,
          0.3790789544582367,
          0.4291238784790039,
          0.47860395908355713,
          0.5201504826545715,
          0.563487708568573,
          0.5968212485313416,
          0.6334000825881958,
          0.6588490605354309,
          0.68827223777771,
          0.7062514424324036,
          0.7282509207725525,
          0.739307165145874,
          0.7536731958389282,
          0.7585477232933044,
          0.7650570273399353,
          0.765498161315918,
          0.7630903124809265,
          0.7591615915298462,
          0.7486292719841003,
          0.7392857670783997,
          0.7226857542991638,
          0.7077328562736511,
          0.6864097714424133,
          0.6659197807312012,
          0.6410697102546692,
          0.6152542233467102,
          0.5880219340324402,
          0.5571462512016296,
          0.5286841988563538,
          0.49297577142715454,
          0.46450886130332947,
          0.42395511269569397,
          0.3969455361366272,
          0.35092902183532715,
          0.32741567492485046,
          0.2726302146911621,
          0.2572787404060364,
          0.1919662207365036,
          0.18781594932079315,
          0.13823369145393372,
          0.12020353972911835,
          0.07807604223489761,
          0.055490147322416306,
          0.018631236627697945,
          -0.005414003040641546,
          -0.017749132588505745,
          -0.06174016371369362,
          -0.08983766287565231,
          -0.11288217455148697,
          -0.13696905970573425,
          -0.1583724319934845,
          -0.17858806252479553,
          -0.19788366556167603,
          -0.2143862247467041,
          -0.23121407628059387,
          -0.24417413771152496,
          -0.25828367471694946,
          -0.26791319251060486,
          -0.27912405133247375,
          -0.2856757938861847,
          -0.29386356472969055,
          -0.29764315485954285,
          -0.3027172088623047,
          -0.30409765243530273,
          -0.30597367882728577,
          -0.305825799703598,
          -0.3040015995502472,
          -0.30198708176612854,
          -0.2972181737422943,
          -0.2931101322174072,
          -0.28608304262161255,
          -0.2798558473587036,
          -0.2710970342159271,
          -0.26280537247657776,
          -0.2527918815612793,
          -0.24251766502857208,
          -0.23170925676822662,
          -0.21955057978630066,
          -0.20840215682983398,
          -0.19443286955356598,
          -0.18342436850070953,
          -0.1676332652568817,
          -0.15731635689735413,
          -0.13943323493003845,
          -0.1305944323539734,
          -0.10928436368703842,
          -0.10374565422534943,
          -0.07852692902088165,
          -0.07722660154104233,
          -0.05808233097195625,
          -0.05144791677594185,
          -0.03515103459358215,
          -0.026777751743793488,
          -0.012480055913329124,
          -0.0035413294099271297,
          0.005014220252633095,
          0.01798737235367298,
          0.028926411643624306,
          0.03758500888943672,
          0.04698863625526428,
          0.05507691204547882
         ]
        },
        {
         "type": "scatter",
         "x": [
          0,
          4.8745510866865516e-05,
          0.0005362005904316902,
          0.005410751793533564,
          0.054156262427568436,
          0.10000000149011612,
          0.14625713229179382,
          0.20000000298023224,
          0.24848313629627228,
          0.30000001192092896,
          0.3502035140991211,
          0.4000000059604645,
          0.45181766152381897,
          0.5,
          0.5527282953262329,
          0.6000000238418579,
          0.6543830037117004,
          0.699999988079071,
          0.7569910883903503,
          0.800000011920929,
          0.8431944251060486,
          0.8999999761581421,
          0.9362322688102722,
          1,
          1.0336284637451172,
          1.100000023841858,
          1.127816081047058,
          1.2000000476837158,
          1.2157164812088013,
          1.2999999523162842,
          1.3380036354064941,
          1.399999976158142,
          1.4373340606689453,
          1.5,
          1.5266929864883423,
          1.600000023841858,
          1.6457972526550293,
          1.7000000476837158,
          1.7579267024993896,
          1.7999999523162842,
          1.8650091886520386,
          1.899999976158142,
          1.9676300287246704,
          2,
          2.073333263397217,
          2.0999999046325684,
          2.1739373207092285,
          2.200000047683716,
          2.257786750793457,
          2.299999952316284,
          2.3509464263916016,
          2.4000000953674316,
          2.4480152130126953,
          2.5,
          2.546414852142334,
          2.5999999046325684,
          2.6454453468322754,
          2.700000047683716,
          2.744621992111206,
          2.799999952316284,
          2.843627691268921,
          2.9000000953674316,
          2.9421706199645996,
          3,
          3.039850950241089,
          3.0999999046325684,
          3.1356565952301025,
          3.200000047683716,
          3.2093069553375244,
          3.299999952316284,
          3.3306214809417725,
          3.4000000953674316,
          3.4404711723327637,
          3.5,
          3.5450103282928467,
          3.5999999046325684,
          3.6483511924743652,
          3.700000047683716,
          3.751121997833252,
          3.799999952316284,
          3.853677272796631,
          3.9000000953674316,
          3.956284284591675,
          4,
          4.059418201446533,
          4.099999904632568,
          4.164065837860107,
          4.199999809265137,
          4.273622035980225,
          4.300000190734863,
          4.389471530914307,
          4.400000095367432,
          4.46903657913208,
          4.5,
          4.560309886932373,
          4.599999904632568,
          4.603030681610107,
          4.633337497711182,
          4.699999809265137,
          4.752538204193115,
          4.800000190734863,
          4.850318908691406,
          4.900000095367432,
          4.948489189147949,
          5,
          5.0468292236328125,
          5.099999904632568,
          5.14514684677124,
          5.199999809265137,
          5.243257522583008,
          5.300000190734863,
          5.3409199714660645,
          5.400000095367432,
          5.437671184539795,
          5.5,
          5.531944751739502,
          5.599999904632568,
          5.624847412109375,
          5.699999809265137,
          5.735284328460693,
          5.800000190734863,
          5.840571403503418,
          5.900000095367432,
          5.944272518157959,
          6,
          6.047372817993164,
          6.099999904632568,
          6.150254249572754,
          6.199999809265137,
          6.253177642822266,
          6.300000190734863,
          6.356426239013672,
          6.400000095367432,
          6.460501194000244,
          6.5,
          6.566392421722412,
          6.599999904632568,
          6.678099155426025,
          6.699999809265137,
          6.793955326080322,
          6.800000190734863,
          6.872894287109375,
          6.900000095367432,
          6.964393138885498,
          7,
          7.059579849243164,
          7.099999904632568,
          7.1213178634643555,
          7.199999809265137,
          7.253542900085449,
          7.300000190734863,
          7.351299285888672,
          7.400000095367432,
          7.449227809906006,
          7.5,
          7.547224521636963,
          7.599999904632568,
          7.645138740539551,
          7.699999809265137,
          7.742829322814941,
          7.800000190734863,
          7.840048789978027,
          7.900000095367432,
          7.936241626739502,
          8,
          8.028939247131348,
          8.100000381469727,
          8.125514030456543,
          8.199999809265137,
          8.236292839050293,
          8.300000190734863,
          8.340815544128418,
          8.399999618530273,
          8.444235801696777,
          8.5,
          8.547225952148438,
          8.600000381469727,
          8.65014362335205,
          8.699999809265137,
          8.753175735473633,
          8.800000190734863,
          8.856607437133789,
          8.899999618530273,
          8.960884094238281,
          9,
          9.067078590393066,
          9.100000381469727,
          9.17933177947998,
          9.199999809265137,
          9.295034408569336,
          9.300000190734863,
          9.373831748962402,
          9.399999618530273,
          9.465371131896973,
          9.5,
          9.560616493225098,
          9.600000381469727,
          9.638787269592285,
          9.699999809265137,
          9.75445556640625,
          9.800000190734863,
          9.852149963378906,
          9.899999618530273
         ],
         "y": [
          0,
          -0.0004422066849656403,
          -0.00486202584579587,
          -0.048835884779691696,
          -0.466511070728302,
          -0.8220292925834656,
          -1.0676008462905884,
          -1.2268391847610474,
          -1.3036324977874756,
          -1.2304749488830566,
          -1.1677435636520386,
          -0.9878842830657959,
          -0.8517661094665527,
          -0.6513351798057556,
          -0.5023247599601746,
          -0.33287313580513,
          -0.22376464307308197,
          -0.1238485649228096,
          -0.08449182659387589,
          -0.04830629751086235,
          -0.05861577391624451,
          -0.04218420758843422,
          -0.0575321726500988,
          -0.03219214454293251,
          -0.04132000356912613,
          -0.008734699338674545,
          -0.018251702189445496,
          -0.004779881332069635,
          -0.014885764569044113,
          -0.03418559208512306,
          -0.05598529428243637,
          -0.05471478030085564,
          -0.05092751607298851,
          0.013964461162686348,
          0.04394027963280678,
          0.21079769730567932,
          0.30108553171157837,
          0.46713435649871826,
          0.5666626691818237,
          0.6763104796409607,
          0.7338597178459167,
          0.7919722199440002,
          0.7975912690162659,
          0.8225732445716858,
          0.7972813844680786,
          0.798548698425293,
          0.764642596244812,
          0.7465388178825378,
          0.7309346795082092,
          0.6780076622962952,
          0.6754607558250427,
          0.5973998308181763,
          0.6002927422523499,
          0.5105581879615784,
          0.5145894885063171,
          0.42348408699035645,
          0.4266166090965271,
          0.33989417552948,
          0.34165409207344055,
          0.26143577694892883,
          0.2621244490146637,
          0.18863943219184875,
          0.18886339664459229,
          0.1214030534029007,
          0.12174465507268906,
          0.05909578502178192,
          0.06016206741333008,
          0.0006900420412421227,
          0.00292569724842906,
          -0.05507775768637657,
          -0.05422377213835716,
          -0.10938581079244614,
          -0.1122528538107872,
          -0.16301269829273224,
          -0.16831716895103455,
          -0.2160215824842453,
          -0.22297409176826477,
          -0.26760047674179077,
          -0.27522674202919006,
          -0.3161383867263794,
          -0.32346463203430176,
          -0.3595551550388336,
          -0.36562129855155945,
          -0.3955906927585602,
          -0.3998093903064728,
          -0.422288179397583,
          -0.42442676424980164,
          -0.43822523951530457,
          -0.43801048398017883,
          -0.44266682863235474,
          -0.43652868270874023,
          -0.43557971715927124,
          -0.4281519055366516,
          -0.4176456928253174,
          -0.41134923696517944,
          -0.3902880847454071,
          -0.3909555971622467,
          -0.3916969895362854,
          -0.35545286536216736,
          -0.35188689827919006,
          -0.31541791558265686,
          -0.31299683451652527,
          -0.2723449170589447,
          -0.2709429860115051,
          -0.2281186282634735,
          -0.22755593061447144,
          -0.1840403825044632,
          -0.18420858681201935,
          -0.14101019501686096,
          -0.14184623956680298,
          -0.09958293288946152,
          -0.10106947273015976,
          -0.06007714569568634,
          -0.06224755197763443,
          -0.022679639980196953,
          -0.025642063468694687,
          0.012471533380448818,
          0.009202045388519764,
          0.045268282294273376,
          0.04292847961187363,
          0.07553008943796158,
          0.0739937350153923,
          0.10307015478610992,
          0.10205963999032974,
          0.12763679027557373,
          0.1269361972808838,
          0.14895668625831604,
          0.14840050041675568,
          0.16677573323249817,
          0.1662093549966812,
          0.18084174394607544,
          0.18012720346450806,
          0.19097022712230682,
          0.18999966979026794,
          0.19707921147346497,
          0.19566944241523743,
          0.1992179900407791,
          0.19690842926502228,
          0.19751030206680298,
          0.19259920716285706,
          0.19221346080303192,
          0.18748964369297028,
          0.1836741417646408,
          0.1794760823249817,
          0.1723508983850479,
          0.1687198132276535,
          0.1587226688861847,
          0.15925978124141693,
          0.14326465129852295,
          0.14089111983776093,
          0.12654079496860504,
          0.12477690726518631,
          0.10894627124071121,
          0.10780396312475204,
          0.09092828631401062,
          0.09034720063209534,
          0.07280988991260529,
          0.07278148829936981,
          0.05494390428066254,
          0.05542619898915291,
          0.037589263170957565,
          0.03854570537805557,
          0.020969899371266365,
          0.022364577278494835,
          0.005276625044643879,
          0.00704699382185936,
          -0.009347816929221153,
          -0.007525601889938116,
          -0.02269422821700573,
          -0.021165816113352776,
          -0.034740760922431946,
          -0.03344891220331192,
          -0.0453634113073349,
          -0.04425482079386711,
          -0.0544968843460083,
          -0.05350960046052933,
          -0.062079448252916336,
          -0.06120928004384041,
          -0.06812687963247299,
          -0.0673087015748024,
          -0.07260669022798538,
          -0.07179746776819229,
          -0.07554681599140167,
          -0.07469894737005234,
          -0.07701386511325836,
          -0.0760510191321373,
          -0.07709619402885437,
          -0.07580812275409698,
          -0.07588613033294678,
          -0.07362969219684601,
          -0.07349033653736115,
          -0.07148292660713196,
          -0.07006016373634338,
          -0.06830748170614243,
          -0.0657227486371994,
          -0.06419527530670166,
          -0.06061699241399765,
          -0.06032013148069382,
          -0.0548892468214035,
          -0.05385880544781685,
          -0.04870143532752991,
          -0.04791082441806793,
          -0.04218171536922455
         ]
        },
        {
         "type": "scatter",
         "x": [
          0,
          4.8745510866865516e-05,
          0.0005362005904316902,
          0.005410751793533564,
          0.054156262427568436,
          0.10000000149011612,
          0.14625713229179382,
          0.20000000298023224,
          0.24848313629627228,
          0.30000001192092896,
          0.3502035140991211,
          0.4000000059604645,
          0.45181766152381897,
          0.5,
          0.5527282953262329,
          0.6000000238418579,
          0.6543830037117004,
          0.699999988079071,
          0.7569910883903503,
          0.800000011920929,
          0.8431944251060486,
          0.8999999761581421,
          0.9362322688102722,
          1,
          1.0336284637451172,
          1.100000023841858,
          1.127816081047058,
          1.2000000476837158,
          1.2157164812088013,
          1.2999999523162842,
          1.3380036354064941,
          1.399999976158142,
          1.4373340606689453,
          1.5,
          1.5266929864883423,
          1.600000023841858,
          1.6457972526550293,
          1.7000000476837158,
          1.7579267024993896,
          1.7999999523162842,
          1.8650091886520386,
          1.899999976158142,
          1.9676300287246704,
          2,
          2.073333263397217,
          2.0999999046325684,
          2.1739373207092285,
          2.200000047683716,
          2.257786750793457,
          2.299999952316284,
          2.3509464263916016,
          2.4000000953674316,
          2.4480152130126953,
          2.5,
          2.546414852142334,
          2.5999999046325684,
          2.6454453468322754,
          2.700000047683716,
          2.744621992111206,
          2.799999952316284,
          2.843627691268921,
          2.9000000953674316,
          2.9421706199645996,
          3,
          3.039850950241089,
          3.0999999046325684,
          3.1356565952301025,
          3.200000047683716,
          3.2093069553375244,
          3.299999952316284,
          3.3306214809417725,
          3.4000000953674316,
          3.4404711723327637,
          3.5,
          3.5450103282928467,
          3.5999999046325684,
          3.6483511924743652,
          3.700000047683716,
          3.751121997833252,
          3.799999952316284,
          3.853677272796631,
          3.9000000953674316,
          3.956284284591675,
          4,
          4.059418201446533,
          4.099999904632568,
          4.164065837860107,
          4.199999809265137,
          4.273622035980225,
          4.300000190734863,
          4.389471530914307,
          4.400000095367432,
          4.46903657913208,
          4.5,
          4.560309886932373,
          4.599999904632568,
          4.603030681610107,
          4.633337497711182,
          4.699999809265137,
          4.752538204193115,
          4.800000190734863,
          4.850318908691406,
          4.900000095367432,
          4.948489189147949,
          5,
          5.0468292236328125,
          5.099999904632568,
          5.14514684677124,
          5.199999809265137,
          5.243257522583008,
          5.300000190734863,
          5.3409199714660645,
          5.400000095367432,
          5.437671184539795,
          5.5,
          5.531944751739502,
          5.599999904632568,
          5.624847412109375,
          5.699999809265137,
          5.735284328460693,
          5.800000190734863,
          5.840571403503418,
          5.900000095367432,
          5.944272518157959,
          6,
          6.047372817993164,
          6.099999904632568,
          6.150254249572754,
          6.199999809265137,
          6.253177642822266,
          6.300000190734863,
          6.356426239013672,
          6.400000095367432,
          6.460501194000244,
          6.5,
          6.566392421722412,
          6.599999904632568,
          6.678099155426025,
          6.699999809265137,
          6.793955326080322,
          6.800000190734863,
          6.872894287109375,
          6.900000095367432,
          6.964393138885498,
          7,
          7.059579849243164,
          7.099999904632568,
          7.1213178634643555,
          7.199999809265137,
          7.253542900085449,
          7.300000190734863,
          7.351299285888672,
          7.400000095367432,
          7.449227809906006,
          7.5,
          7.547224521636963,
          7.599999904632568,
          7.645138740539551,
          7.699999809265137,
          7.742829322814941,
          7.800000190734863,
          7.840048789978027,
          7.900000095367432,
          7.936241626739502,
          8,
          8.028939247131348,
          8.100000381469727,
          8.125514030456543,
          8.199999809265137,
          8.236292839050293,
          8.300000190734863,
          8.340815544128418,
          8.399999618530273,
          8.444235801696777,
          8.5,
          8.547225952148438,
          8.600000381469727,
          8.65014362335205,
          8.699999809265137,
          8.753175735473633,
          8.800000190734863,
          8.856607437133789,
          8.899999618530273,
          8.960884094238281,
          9,
          9.067078590393066,
          9.100000381469727,
          9.17933177947998,
          9.199999809265137,
          9.295034408569336,
          9.300000190734863,
          9.373831748962402,
          9.399999618530273,
          9.465371131896973,
          9.5,
          9.560616493225098,
          9.600000381469727,
          9.638787269592285,
          9.699999809265137,
          9.75445556640625,
          9.800000190734863,
          9.852149963378906,
          9.899999618530273
         ],
         "y": [
          0,
          0.001339315203949809,
          0.014726463705301285,
          0.14799931645393372,
          1.4223685264587402,
          2.5250742435455322,
          3.3455889225006104,
          3.985366106033325,
          4.417735576629639,
          4.492886066436768,
          4.63350772857666,
          4.4651336669921875,
          4.462259769439697,
          4.222810745239258,
          4.146707534790039,
          3.875755548477173,
          3.728468179702759,
          3.4224181175231934,
          3.1634323596954346,
          2.802109718322754,
          2.531229019165039,
          1.960252285003662,
          1.6677783727645874,
          0.9256110191345215,
          0.6194807291030884,
          -0.18115994334220886,
          -0.42794501781463623,
          -1.2195359468460083,
          -1.3411438465118408,
          -2.1018950939178467,
          -2.356527090072632,
          -2.8168678283691406,
          -3.0181589126586914,
          -3.3959381580352783,
          -3.487394332885742,
          -3.8346450328826904,
          -3.876042127609253,
          -4.0597147941589355,
          -3.979374647140503,
          -4.0494303703308105,
          -3.865973472595215,
          -3.872664451599121,
          -3.634556770324707,
          -3.604975700378418,
          -3.357534408569336,
          -3.309129476547241,
          -3.1027114391326904,
          -3.022096872329712,
          -2.9212467670440674,
          -2.745759963989258,
          -2.7055654525756836,
          -2.470506429672241,
          -2.4572434425354004,
          -2.194890022277832,
          -2.1894891262054443,
          -1.9212515354156494,
          -1.9128398895263672,
          -1.6489336490631104,
          -1.6323047876358032,
          -1.374637246131897,
          -1.3481950759887695,
          -1.0951063632965088,
          -1.0600088834762573,
          -0.8088828325271606,
          -0.7685875296592712,
          -0.5169014930725098,
          -0.47799190878868103,
          -0.22262489795684814,
          -0.21764478087425232,
          0.06850378215312958,
          0.10355909913778305,
          0.3497824966907501,
          0.40312421321868896,
          0.6142292022705078,
          0.6710918545722961,
          0.8553247451782227,
          0.9087861180305481,
          1.0675387382507324,
          1.1127375364303589,
          1.2466644048690796,
          1.2808550596237183,
          1.3900620937347412,
          1.4119669198989868,
          1.4963066577911377,
          1.5063546895980835,
          1.5652985572814941,
          1.5648010969161987,
          1.5979071855545044,
          1.5871608257293701,
          1.5957872867584229,
          1.5654062032699585,
          1.5611906051635742,
          1.5301690101623535,
          1.4970422983169556,
          1.4701831340789795,
          1.4072269201278687,
          1.4084826707839966,
          1.405163288116455,
          1.2963200807571411,
          1.2766683101654053,
          1.169442057609558,
          1.152000904083252,
          1.0313996076583862,
          1.0155279636383057,
          0.8865143656730652,
          0.871630847454071,
          0.737949013710022,
          0.72389817237854,
          0.5882496237754822,
          0.5752347707748413,
          0.4394785165786743,
          0.4280596971511841,
          0.2934356927871704,
          0.28457415103912354,
          0.15183191001415253,
          0.14729900658130646,
          0.01637994684278965,
          0.01571880467236042,
          -0.11129632592201233,
          -0.11774892359972,
          -0.22951190173625946,
          -0.23878969252109528,
          -0.3368036448955536,
          -0.3470114469528198,
          -0.43183019757270813,
          -0.4417286217212677,
          -0.5135058164596558,
          -0.5222495794296265,
          -0.581084668636322,
          -0.5880410075187683,
          -0.6340572834014893,
          -0.6387687921524048,
          -0.6722574830055237,
          -0.6744298338890076,
          -0.695881187915802,
          -0.695027768611908,
          -0.7054990530014038,
          -0.7002768516540527,
          -0.701855480670929,
          -0.6872020959854126,
          -0.6860001683235168,
          -0.6706562042236328,
          -0.6591603755950928,
          -0.6442294120788574,
          -0.6228064298629761,
          -0.6085502505302429,
          -0.5784220695495605,
          -0.5779167413711548,
          -0.527460515499115,
          -0.5152935981750488,
          -0.4716097116470337,
          -0.4606301486492157,
          -0.412119597196579,
          -0.4025011360645294,
          -0.35040155053138733,
          -0.3421315550804138,
          -0.28756141662597656,
          -0.28078171610832214,
          -0.22480839490890503,
          -0.21958447992801666,
          -0.16311702132225037,
          -0.159552201628685,
          -0.10337412357330322,
          -0.1016327291727066,
          -0.046372443437576294,
          -0.04686509445309639,
          0.007240476552397013,
          0.005934323649853468,
          0.0566660575568676,
          0.057310931384563446,
          0.10164320468902588,
          0.10306137055158615,
          0.14167581498622894,
          0.14344608783721924,
          0.17646591365337372,
          0.1782522201538086,
          0.20576585829257965,
          0.20744237303733826,
          0.2295730710029602,
          0.23087894916534424,
          0.24778886139392853,
          0.24854636192321777,
          0.26050499081611633,
          0.2605389356613159,
          0.2679402232170105,
          0.26700347661972046,
          0.2703898251056671,
          0.2678515911102295,
          0.2681733965873718,
          0.2620628774166107,
          0.26165974140167236,
          0.25554025173187256,
          0.25134509801864624,
          0.24539223313331604,
          0.2376669943332672,
          0.23189900815486908,
          0.22109946608543396,
          0.21896116435527802,
          0.20214051008224487,
          0.19711948931217194,
          0.1813325583934784,
          0.1767716407775879,
          0.15912963449954987
         ]
        }
       ],
       "layout": {
        "template": {
         "data": {
          "bar": [
           {
            "error_x": {
             "color": "#2a3f5f"
            },
            "error_y": {
             "color": "#2a3f5f"
            },
            "marker": {
             "line": {
              "color": "#E5ECF6",
              "width": 0.5
             }
            },
            "type": "bar"
           }
          ],
          "barpolar": [
           {
            "marker": {
             "line": {
              "color": "#E5ECF6",
              "width": 0.5
             }
            },
            "type": "barpolar"
           }
          ],
          "carpet": [
           {
            "aaxis": {
             "endlinecolor": "#2a3f5f",
             "gridcolor": "white",
             "linecolor": "white",
             "minorgridcolor": "white",
             "startlinecolor": "#2a3f5f"
            },
            "baxis": {
             "endlinecolor": "#2a3f5f",
             "gridcolor": "white",
             "linecolor": "white",
             "minorgridcolor": "white",
             "startlinecolor": "#2a3f5f"
            },
            "type": "carpet"
           }
          ],
          "choropleth": [
           {
            "colorbar": {
             "outlinewidth": 0,
             "ticks": ""
            },
            "type": "choropleth"
           }
          ],
          "contour": [
           {
            "colorbar": {
             "outlinewidth": 0,
             "ticks": ""
            },
            "colorscale": [
             [
              0,
              "#0d0887"
             ],
             [
              0.1111111111111111,
              "#46039f"
             ],
             [
              0.2222222222222222,
              "#7201a8"
             ],
             [
              0.3333333333333333,
              "#9c179e"
             ],
             [
              0.4444444444444444,
              "#bd3786"
             ],
             [
              0.5555555555555556,
              "#d8576b"
             ],
             [
              0.6666666666666666,
              "#ed7953"
             ],
             [
              0.7777777777777778,
              "#fb9f3a"
             ],
             [
              0.8888888888888888,
              "#fdca26"
             ],
             [
              1,
              "#f0f921"
             ]
            ],
            "type": "contour"
           }
          ],
          "contourcarpet": [
           {
            "colorbar": {
             "outlinewidth": 0,
             "ticks": ""
            },
            "type": "contourcarpet"
           }
          ],
          "heatmap": [
           {
            "colorbar": {
             "outlinewidth": 0,
             "ticks": ""
            },
            "colorscale": [
             [
              0,
              "#0d0887"
             ],
             [
              0.1111111111111111,
              "#46039f"
             ],
             [
              0.2222222222222222,
              "#7201a8"
             ],
             [
              0.3333333333333333,
              "#9c179e"
             ],
             [
              0.4444444444444444,
              "#bd3786"
             ],
             [
              0.5555555555555556,
              "#d8576b"
             ],
             [
              0.6666666666666666,
              "#ed7953"
             ],
             [
              0.7777777777777778,
              "#fb9f3a"
             ],
             [
              0.8888888888888888,
              "#fdca26"
             ],
             [
              1,
              "#f0f921"
             ]
            ],
            "type": "heatmap"
           }
          ],
          "heatmapgl": [
           {
            "colorbar": {
             "outlinewidth": 0,
             "ticks": ""
            },
            "colorscale": [
             [
              0,
              "#0d0887"
             ],
             [
              0.1111111111111111,
              "#46039f"
             ],
             [
              0.2222222222222222,
              "#7201a8"
             ],
             [
              0.3333333333333333,
              "#9c179e"
             ],
             [
              0.4444444444444444,
              "#bd3786"
             ],
             [
              0.5555555555555556,
              "#d8576b"
             ],
             [
              0.6666666666666666,
              "#ed7953"
             ],
             [
              0.7777777777777778,
              "#fb9f3a"
             ],
             [
              0.8888888888888888,
              "#fdca26"
             ],
             [
              1,
              "#f0f921"
             ]
            ],
            "type": "heatmapgl"
           }
          ],
          "histogram": [
           {
            "marker": {
             "colorbar": {
              "outlinewidth": 0,
              "ticks": ""
             }
            },
            "type": "histogram"
           }
          ],
          "histogram2d": [
           {
            "colorbar": {
             "outlinewidth": 0,
             "ticks": ""
            },
            "colorscale": [
             [
              0,
              "#0d0887"
             ],
             [
              0.1111111111111111,
              "#46039f"
             ],
             [
              0.2222222222222222,
              "#7201a8"
             ],
             [
              0.3333333333333333,
              "#9c179e"
             ],
             [
              0.4444444444444444,
              "#bd3786"
             ],
             [
              0.5555555555555556,
              "#d8576b"
             ],
             [
              0.6666666666666666,
              "#ed7953"
             ],
             [
              0.7777777777777778,
              "#fb9f3a"
             ],
             [
              0.8888888888888888,
              "#fdca26"
             ],
             [
              1,
              "#f0f921"
             ]
            ],
            "type": "histogram2d"
           }
          ],
          "histogram2dcontour": [
           {
            "colorbar": {
             "outlinewidth": 0,
             "ticks": ""
            },
            "colorscale": [
             [
              0,
              "#0d0887"
             ],
             [
              0.1111111111111111,
              "#46039f"
             ],
             [
              0.2222222222222222,
              "#7201a8"
             ],
             [
              0.3333333333333333,
              "#9c179e"
             ],
             [
              0.4444444444444444,
              "#bd3786"
             ],
             [
              0.5555555555555556,
              "#d8576b"
             ],
             [
              0.6666666666666666,
              "#ed7953"
             ],
             [
              0.7777777777777778,
              "#fb9f3a"
             ],
             [
              0.8888888888888888,
              "#fdca26"
             ],
             [
              1,
              "#f0f921"
             ]
            ],
            "type": "histogram2dcontour"
           }
          ],
          "mesh3d": [
           {
            "colorbar": {
             "outlinewidth": 0,
             "ticks": ""
            },
            "type": "mesh3d"
           }
          ],
          "parcoords": [
           {
            "line": {
             "colorbar": {
              "outlinewidth": 0,
              "ticks": ""
             }
            },
            "type": "parcoords"
           }
          ],
          "pie": [
           {
            "automargin": true,
            "type": "pie"
           }
          ],
          "scatter": [
           {
            "marker": {
             "colorbar": {
              "outlinewidth": 0,
              "ticks": ""
             }
            },
            "type": "scatter"
           }
          ],
          "scatter3d": [
           {
            "line": {
             "colorbar": {
              "outlinewidth": 0,
              "ticks": ""
             }
            },
            "marker": {
             "colorbar": {
              "outlinewidth": 0,
              "ticks": ""
             }
            },
            "type": "scatter3d"
           }
          ],
          "scattercarpet": [
           {
            "marker": {
             "colorbar": {
              "outlinewidth": 0,
              "ticks": ""
             }
            },
            "type": "scattercarpet"
           }
          ],
          "scattergeo": [
           {
            "marker": {
             "colorbar": {
              "outlinewidth": 0,
              "ticks": ""
             }
            },
            "type": "scattergeo"
           }
          ],
          "scattergl": [
           {
            "marker": {
             "colorbar": {
              "outlinewidth": 0,
              "ticks": ""
             }
            },
            "type": "scattergl"
           }
          ],
          "scattermapbox": [
           {
            "marker": {
             "colorbar": {
              "outlinewidth": 0,
              "ticks": ""
             }
            },
            "type": "scattermapbox"
           }
          ],
          "scatterpolar": [
           {
            "marker": {
             "colorbar": {
              "outlinewidth": 0,
              "ticks": ""
             }
            },
            "type": "scatterpolar"
           }
          ],
          "scatterpolargl": [
           {
            "marker": {
             "colorbar": {
              "outlinewidth": 0,
              "ticks": ""
             }
            },
            "type": "scatterpolargl"
           }
          ],
          "scatterternary": [
           {
            "marker": {
             "colorbar": {
              "outlinewidth": 0,
              "ticks": ""
             }
            },
            "type": "scatterternary"
           }
          ],
          "surface": [
           {
            "colorbar": {
             "outlinewidth": 0,
             "ticks": ""
            },
            "colorscale": [
             [
              0,
              "#0d0887"
             ],
             [
              0.1111111111111111,
              "#46039f"
             ],
             [
              0.2222222222222222,
              "#7201a8"
             ],
             [
              0.3333333333333333,
              "#9c179e"
             ],
             [
              0.4444444444444444,
              "#bd3786"
             ],
             [
              0.5555555555555556,
              "#d8576b"
             ],
             [
              0.6666666666666666,
              "#ed7953"
             ],
             [
              0.7777777777777778,
              "#fb9f3a"
             ],
             [
              0.8888888888888888,
              "#fdca26"
             ],
             [
              1,
              "#f0f921"
             ]
            ],
            "type": "surface"
           }
          ],
          "table": [
           {
            "cells": {
             "fill": {
              "color": "#EBF0F8"
             },
             "line": {
              "color": "white"
             }
            },
            "header": {
             "fill": {
              "color": "#C8D4E3"
             },
             "line": {
              "color": "white"
             }
            },
            "type": "table"
           }
          ]
         },
         "layout": {
          "annotationdefaults": {
           "arrowcolor": "#2a3f5f",
           "arrowhead": 0,
           "arrowwidth": 1
          },
          "coloraxis": {
           "colorbar": {
            "outlinewidth": 0,
            "ticks": ""
           }
          },
          "colorscale": {
           "diverging": [
            [
             0,
             "#8e0152"
            ],
            [
             0.1,
             "#c51b7d"
            ],
            [
             0.2,
             "#de77ae"
            ],
            [
             0.3,
             "#f1b6da"
            ],
            [
             0.4,
             "#fde0ef"
            ],
            [
             0.5,
             "#f7f7f7"
            ],
            [
             0.6,
             "#e6f5d0"
            ],
            [
             0.7,
             "#b8e186"
            ],
            [
             0.8,
             "#7fbc41"
            ],
            [
             0.9,
             "#4d9221"
            ],
            [
             1,
             "#276419"
            ]
           ],
           "sequential": [
            [
             0,
             "#0d0887"
            ],
            [
             0.1111111111111111,
             "#46039f"
            ],
            [
             0.2222222222222222,
             "#7201a8"
            ],
            [
             0.3333333333333333,
             "#9c179e"
            ],
            [
             0.4444444444444444,
             "#bd3786"
            ],
            [
             0.5555555555555556,
             "#d8576b"
            ],
            [
             0.6666666666666666,
             "#ed7953"
            ],
            [
             0.7777777777777778,
             "#fb9f3a"
            ],
            [
             0.8888888888888888,
             "#fdca26"
            ],
            [
             1,
             "#f0f921"
            ]
           ],
           "sequentialminus": [
            [
             0,
             "#0d0887"
            ],
            [
             0.1111111111111111,
             "#46039f"
            ],
            [
             0.2222222222222222,
             "#7201a8"
            ],
            [
             0.3333333333333333,
             "#9c179e"
            ],
            [
             0.4444444444444444,
             "#bd3786"
            ],
            [
             0.5555555555555556,
             "#d8576b"
            ],
            [
             0.6666666666666666,
             "#ed7953"
            ],
            [
             0.7777777777777778,
             "#fb9f3a"
            ],
            [
             0.8888888888888888,
             "#fdca26"
            ],
            [
             1,
             "#f0f921"
            ]
           ]
          },
          "colorway": [
           "#636efa",
           "#EF553B",
           "#00cc96",
           "#ab63fa",
           "#FFA15A",
           "#19d3f3",
           "#FF6692",
           "#B6E880",
           "#FF97FF",
           "#FECB52"
          ],
          "font": {
           "color": "#2a3f5f"
          },
          "geo": {
           "bgcolor": "white",
           "lakecolor": "white",
           "landcolor": "#E5ECF6",
           "showlakes": true,
           "showland": true,
           "subunitcolor": "white"
          },
          "hoverlabel": {
           "align": "left"
          },
          "hovermode": "closest",
          "mapbox": {
           "style": "light"
          },
          "paper_bgcolor": "white",
          "plot_bgcolor": "#E5ECF6",
          "polar": {
           "angularaxis": {
            "gridcolor": "white",
            "linecolor": "white",
            "ticks": ""
           },
           "bgcolor": "#E5ECF6",
           "radialaxis": {
            "gridcolor": "white",
            "linecolor": "white",
            "ticks": ""
           }
          },
          "scene": {
           "xaxis": {
            "backgroundcolor": "#E5ECF6",
            "gridcolor": "white",
            "gridwidth": 2,
            "linecolor": "white",
            "showbackground": true,
            "ticks": "",
            "zerolinecolor": "white"
           },
           "yaxis": {
            "backgroundcolor": "#E5ECF6",
            "gridcolor": "white",
            "gridwidth": 2,
            "linecolor": "white",
            "showbackground": true,
            "ticks": "",
            "zerolinecolor": "white"
           },
           "zaxis": {
            "backgroundcolor": "#E5ECF6",
            "gridcolor": "white",
            "gridwidth": 2,
            "linecolor": "white",
            "showbackground": true,
            "ticks": "",
            "zerolinecolor": "white"
           }
          },
          "shapedefaults": {
           "line": {
            "color": "#2a3f5f"
           }
          },
          "ternary": {
           "aaxis": {
            "gridcolor": "white",
            "linecolor": "white",
            "ticks": ""
           },
           "baxis": {
            "gridcolor": "white",
            "linecolor": "white",
            "ticks": ""
           },
           "bgcolor": "#E5ECF6",
           "caxis": {
            "gridcolor": "white",
            "linecolor": "white",
            "ticks": ""
           }
          },
          "title": {
           "x": 0.05
          },
          "xaxis": {
           "automargin": true,
           "gridcolor": "white",
           "linecolor": "white",
           "ticks": "",
           "title": {
            "standoff": 15
           },
           "zerolinecolor": "white",
           "zerolinewidth": 2
          },
          "yaxis": {
           "automargin": true,
           "gridcolor": "white",
           "linecolor": "white",
           "ticks": "",
           "title": {
            "standoff": 15
           },
           "zerolinecolor": "white",
           "zerolinewidth": 2
          }
         }
        }
       }
      },
      "text/html": [
       "<div>\n",
       "        \n",
       "        \n",
       "            <div id=\"725740ce-e329-44ef-bae8-e211e77d723b\" class=\"plotly-graph-div\" style=\"height:525px; width:100%;\"></div>\n",
       "            <script type=\"text/javascript\">\n",
       "                require([\"plotly\"], function(Plotly) {\n",
       "                    window.PLOTLYENV=window.PLOTLYENV || {};\n",
       "                    \n",
       "                if (document.getElementById(\"725740ce-e329-44ef-bae8-e211e77d723b\")) {\n",
       "                    Plotly.newPlot(\n",
       "                        '725740ce-e329-44ef-bae8-e211e77d723b',\n",
       "                        [{\"type\": \"scatter\", \"x\": [0.0, 4.8745510866865516e-05, 0.0005362005904316902, 0.005410751793533564, 0.054156262427568436, 0.10000000149011612, 0.14625713229179382, 0.20000000298023224, 0.24848313629627228, 0.30000001192092896, 0.3502035140991211, 0.4000000059604645, 0.45181766152381897, 0.5, 0.5527282953262329, 0.6000000238418579, 0.6543830037117004, 0.699999988079071, 0.7569910883903503, 0.800000011920929, 0.8431944251060486, 0.8999999761581421, 0.9362322688102722, 1.0, 1.0336284637451172, 1.100000023841858, 1.127816081047058, 1.2000000476837158, 1.2157164812088013, 1.2999999523162842, 1.3380036354064941, 1.399999976158142, 1.4373340606689453, 1.5, 1.5266929864883423, 1.600000023841858, 1.6457972526550293, 1.7000000476837158, 1.7579267024993896, 1.7999999523162842, 1.8650091886520386, 1.899999976158142, 1.9676300287246704, 2.0, 2.073333263397217, 2.0999999046325684, 2.1739373207092285, 2.200000047683716, 2.257786750793457, 2.299999952316284, 2.3509464263916016, 2.4000000953674316, 2.4480152130126953, 2.5, 2.546414852142334, 2.5999999046325684, 2.6454453468322754, 2.700000047683716, 2.744621992111206, 2.799999952316284, 2.843627691268921, 2.9000000953674316, 2.9421706199645996, 3.0, 3.039850950241089, 3.0999999046325684, 3.1356565952301025, 3.200000047683716, 3.2093069553375244, 3.299999952316284, 3.3306214809417725, 3.4000000953674316, 3.4404711723327637, 3.5, 3.5450103282928467, 3.5999999046325684, 3.6483511924743652, 3.700000047683716, 3.751121997833252, 3.799999952316284, 3.853677272796631, 3.9000000953674316, 3.956284284591675, 4.0, 4.059418201446533, 4.099999904632568, 4.164065837860107, 4.199999809265137, 4.273622035980225, 4.300000190734863, 4.389471530914307, 4.400000095367432, 4.46903657913208, 4.5, 4.560309886932373, 4.599999904632568, 4.603030681610107, 4.633337497711182, 4.699999809265137, 4.752538204193115, 4.800000190734863, 4.850318908691406, 4.900000095367432, 4.948489189147949, 5.0, 5.0468292236328125, 5.099999904632568, 5.14514684677124, 5.199999809265137, 5.243257522583008, 5.300000190734863, 5.3409199714660645, 5.400000095367432, 5.437671184539795, 5.5, 5.531944751739502, 5.599999904632568, 5.624847412109375, 5.699999809265137, 5.735284328460693, 5.800000190734863, 5.840571403503418, 5.900000095367432, 5.944272518157959, 6.0, 6.047372817993164, 6.099999904632568, 6.150254249572754, 6.199999809265137, 6.253177642822266, 6.300000190734863, 6.356426239013672, 6.400000095367432, 6.460501194000244, 6.5, 6.566392421722412, 6.599999904632568, 6.678099155426025, 6.699999809265137, 6.793955326080322, 6.800000190734863, 6.872894287109375, 6.900000095367432, 6.964393138885498, 7.0, 7.059579849243164, 7.099999904632568, 7.1213178634643555, 7.199999809265137, 7.253542900085449, 7.300000190734863, 7.351299285888672, 7.400000095367432, 7.449227809906006, 7.5, 7.547224521636963, 7.599999904632568, 7.645138740539551, 7.699999809265137, 7.742829322814941, 7.800000190734863, 7.840048789978027, 7.900000095367432, 7.936241626739502, 8.0, 8.028939247131348, 8.100000381469727, 8.125514030456543, 8.199999809265137, 8.236292839050293, 8.300000190734863, 8.340815544128418, 8.399999618530273, 8.444235801696777, 8.5, 8.547225952148438, 8.600000381469727, 8.65014362335205, 8.699999809265137, 8.753175735473633, 8.800000190734863, 8.856607437133789, 8.899999618530273, 8.960884094238281, 9.0, 9.067078590393066, 9.100000381469727, 9.17933177947998, 9.199999809265137, 9.295034408569336, 9.300000190734863, 9.373831748962402, 9.399999618530273, 9.465371131896973, 9.5, 9.560616493225098, 9.600000381469727, 9.638787269592285, 9.699999809265137, 9.75445556640625, 9.800000190734863, 9.852149963378906, 9.899999618530273], \"y\": [3.34159255027771, 3.34159255027771, 3.3415913581848145, 3.3414602279663086, 3.328737735748291, 3.2990567684173584, 3.2549710273742676, 3.192706346511841, 3.1307339668273926, 3.064851760864258, 3.004063606262207, 2.9499928951263428, 2.9018869400024414, 2.8654584884643555, 2.8347818851470947, 2.814959764480591, 2.7997312545776367, 2.7917933464050293, 2.785823106765747, 2.7829360961914062, 2.7805733680725098, 2.77751088142395, 2.7756454944610596, 2.7724063396453857, 2.7711215019226074, 2.7690956592559814, 2.768700122833252, 2.767550468444824, 2.7673933506011963, 2.764890432357788, 2.763131618499756, 2.7594268321990967, 2.757382869720459, 2.755805730819702, 2.756542921066284, 2.7651047706604004, 2.776658058166504, 2.7971725463867188, 2.8268675804138184, 2.8528859615325928, 2.8984410762786865, 2.9250662326812744, 2.978534698486328, 3.0047082901000977, 3.0638949871063232, 3.0851573944091797, 3.1431190967559814, 3.16281795501709, 3.2058279514312744, 3.2356863021850586, 3.2705159187316895, 3.302025556564331, 3.3311281204223633, 3.360395908355713, 3.3845055103302, 3.4100680351257324, 3.4296624660491943, 3.4509918689727783, 3.466432809829712, 3.4835293292999268, 3.495143175125122, 3.5082242488861084, 3.5163369178771973, 3.5256731510162354, 3.5306320190429688, 3.5364437103271484, 3.5386431217193604, 3.5410213470458984, 3.54103946685791, 3.5397698879241943, 3.538135290145874, 3.5329251289367676, 3.528524398803711, 3.5206141471862793, 3.5132672786712646, 3.502915859222412, 3.4924325942993164, 3.4799370765686035, 3.46620774269104, 3.4518964290618896, 3.434887647628784, 3.4191806316375732, 3.398935317993164, 3.3823821544647217, 3.3589119911193848, 3.342288017272949, 3.315312147140503, 3.2998411655426025, 3.2677013874053955, 3.256091833114624, 3.2167348861694336, 3.212143898010254, 3.182204246520996, 3.169098138809204, 3.1439452171325684, 3.1279919147491455, 3.1268081665039062, 3.1149210929870605, 3.089728355407715, 3.070976495742798, 3.0550167560577393, 3.0390405654907227, 3.0243446826934814, 3.0110180377960205, 2.997983932495117, 2.9871740341186523, 2.976032018661499, 2.9675962924957275, 2.958461284637451, 2.9522390365600586, 2.9451582431793213, 2.9409689903259277, 2.9359586238861084, 2.9335925579071045, 2.930666208267212, 2.929858922958374, 2.9290666580200195, 2.9293203353881836, 2.930931806564331, 2.9324464797973633, 2.936018943786621, 2.9389944076538086, 2.944068431854248, 2.948540687561035, 2.9547994136810303, 2.960753917694092, 2.9679062366485596, 2.9752988815307617, 2.983058452606201, 2.991832733154297, 2.999901056289673, 3.0100080966949463, 3.0180563926696777, 3.029510021209717, 3.0371339321136475, 3.0501105785369873, 3.0567381381988525, 3.0721616744995117, 3.07647967338562, 3.0948214530944824, 3.09598445892334, 3.1098718643188477, 3.1149046421051025, 3.1266562938690186, 3.132930278778076, 3.143155813217163, 3.149794340133667, 3.1531872749328613, 3.1652755737304688, 3.172950267791748, 3.1792068481445312, 3.185718297958374, 3.1914658546447754, 3.19686222076416, 3.201975107192993, 3.2063114643096924, 3.210695743560791, 3.214031219482422, 3.2176246643066406, 3.2200303077697754, 3.222790479660034, 3.224348783493042, 3.226247549057007, 3.2270569801330566, 3.2280712127685547, 3.2282614707946777, 3.2283551692962646, 3.228147506713867, 3.22721266746521, 3.2264370918273926, 3.224766969680786, 3.2234015464782715, 3.2211506366729736, 3.219198226928711, 3.216505765914917, 3.213987350463867, 3.2109827995300293, 3.2079241275787354, 3.204732656478882, 3.2011637687683105, 3.1979103088378906, 3.1938533782958984, 3.1906702518463135, 3.186123847961426, 3.183164119720459, 3.178053617477417, 3.1755354404449463, 3.1694869995117188, 3.167919635772705, 3.160809278488159, 3.1604440212249756, 3.155074119567871, 3.153221368789673, 3.148676872253418, 3.146352767944336, 3.1423909664154053, 3.1399264335632324, 3.1375732421875, 3.1340157985687256, 3.1310296058654785, 3.128679037094116, 3.1261353492736816, 3.1239607334136963]}, {\"type\": \"scatter\", \"x\": [0.0, 4.8745510866865516e-05, 0.0005362005904316902, 0.005410751793533564, 0.054156262427568436, 0.10000000149011612, 0.14625713229179382, 0.20000000298023224, 0.24848313629627228, 0.30000001192092896, 0.3502035140991211, 0.4000000059604645, 0.45181766152381897, 0.5, 0.5527282953262329, 0.6000000238418579, 0.6543830037117004, 0.699999988079071, 0.7569910883903503, 0.800000011920929, 0.8431944251060486, 0.8999999761581421, 0.9362322688102722, 1.0, 1.0336284637451172, 1.100000023841858, 1.127816081047058, 1.2000000476837158, 1.2157164812088013, 1.2999999523162842, 1.3380036354064941, 1.399999976158142, 1.4373340606689453, 1.5, 1.5266929864883423, 1.600000023841858, 1.6457972526550293, 1.7000000476837158, 1.7579267024993896, 1.7999999523162842, 1.8650091886520386, 1.899999976158142, 1.9676300287246704, 2.0, 2.073333263397217, 2.0999999046325684, 2.1739373207092285, 2.200000047683716, 2.257786750793457, 2.299999952316284, 2.3509464263916016, 2.4000000953674316, 2.4480152130126953, 2.5, 2.546414852142334, 2.5999999046325684, 2.6454453468322754, 2.700000047683716, 2.744621992111206, 2.799999952316284, 2.843627691268921, 2.9000000953674316, 2.9421706199645996, 3.0, 3.039850950241089, 3.0999999046325684, 3.1356565952301025, 3.200000047683716, 3.2093069553375244, 3.299999952316284, 3.3306214809417725, 3.4000000953674316, 3.4404711723327637, 3.5, 3.5450103282928467, 3.5999999046325684, 3.6483511924743652, 3.700000047683716, 3.751121997833252, 3.799999952316284, 3.853677272796631, 3.9000000953674316, 3.956284284591675, 4.0, 4.059418201446533, 4.099999904632568, 4.164065837860107, 4.199999809265137, 4.273622035980225, 4.300000190734863, 4.389471530914307, 4.400000095367432, 4.46903657913208, 4.5, 4.560309886932373, 4.599999904632568, 4.603030681610107, 4.633337497711182, 4.699999809265137, 4.752538204193115, 4.800000190734863, 4.850318908691406, 4.900000095367432, 4.948489189147949, 5.0, 5.0468292236328125, 5.099999904632568, 5.14514684677124, 5.199999809265137, 5.243257522583008, 5.300000190734863, 5.3409199714660645, 5.400000095367432, 5.437671184539795, 5.5, 5.531944751739502, 5.599999904632568, 5.624847412109375, 5.699999809265137, 5.735284328460693, 5.800000190734863, 5.840571403503418, 5.900000095367432, 5.944272518157959, 6.0, 6.047372817993164, 6.099999904632568, 6.150254249572754, 6.199999809265137, 6.253177642822266, 6.300000190734863, 6.356426239013672, 6.400000095367432, 6.460501194000244, 6.5, 6.566392421722412, 6.599999904632568, 6.678099155426025, 6.699999809265137, 6.793955326080322, 6.800000190734863, 6.872894287109375, 6.900000095367432, 6.964393138885498, 7.0, 7.059579849243164, 7.099999904632568, 7.1213178634643555, 7.199999809265137, 7.253542900085449, 7.300000190734863, 7.351299285888672, 7.400000095367432, 7.449227809906006, 7.5, 7.547224521636963, 7.599999904632568, 7.645138740539551, 7.699999809265137, 7.742829322814941, 7.800000190734863, 7.840048789978027, 7.900000095367432, 7.936241626739502, 8.0, 8.028939247131348, 8.100000381469727, 8.125514030456543, 8.199999809265137, 8.236292839050293, 8.300000190734863, 8.340815544128418, 8.399999618530273, 8.444235801696777, 8.5, 8.547225952148438, 8.600000381469727, 8.65014362335205, 8.699999809265137, 8.753175735473633, 8.800000190734863, 8.856607437133789, 8.899999618530273, 8.960884094238281, 9.0, 9.067078590393066, 9.100000381469727, 9.17933177947998, 9.199999809265137, 9.295034408569336, 9.300000190734863, 9.373831748962402, 9.399999618530273, 9.465371131896973, 9.5, 9.560616493225098, 9.600000381469727, 9.638787269592285, 9.699999809265137, 9.75445556640625, 9.800000190734863, 9.852149963378906, 9.899999618530273], \"y\": [0.20000000298023224, 0.20000003278255463, 0.2000039517879486, 0.20040100812911987, 0.23910114169120789, 0.3299466371536255, 0.4666903018951416, 0.6651778221130371, 0.8704361319541931, 1.1014881134033203, 1.3320475816726685, 1.5597094297409058, 1.792252779006958, 2.002328634262085, 2.224076986312866, 2.414424419403076, 2.6222758293151855, 2.786008358001709, 2.9748566150665283, 3.103659152984619, 3.2193479537963867, 3.348081588745117, 3.414091110229492, 3.4983110427856445, 3.524482488632202, 3.5404393672943115, 3.53204607963562, 3.47385573387146, 3.453742027282715, 3.309899091720581, 3.2252461910247803, 3.0651755332946777, 2.95630145072937, 2.7556204795837402, 2.6637887954711914, 2.396352529525757, 2.2201499938964844, 2.005802869796753, 1.7738637924194336, 1.6053849458694458, 1.3493469953536987, 1.2141979932785034, 0.961557149887085, 0.8445507884025574, 0.5901952981948853, 0.5013610124588013, 0.2641034424304962, 0.18428102135658264, 0.011776893399655819, -0.10813260823488235, -0.24790169298648834, -0.3756174147129059, -0.4948388636112213, -0.6168296933174133, -0.7194346785545349, -0.83077073097229, -0.9186534285545349, -1.0170173645019531, -1.0908845663070679, -1.1753144264221191, -1.2352650165557861, -1.3052616119384766, -1.3511520624160767, -1.406301736831665, -1.4380733966827393, -1.4778729677200317, -1.4958293437957764, -1.519642949104309, -1.5216952562332153, -1.5317206382751465, -1.5292001962661743, -1.5148255825042725, -1.4998319149017334, -1.4703490734100342, -1.4417320489883423, -1.4003573656082153, -1.3580678701400757, -1.3074980974197388, -1.2521661520004272, -1.194880723953247, -1.1274712085723877, -1.0659072399139404, -0.9874905943870544, -0.924146831035614, -0.8353707194328308, -0.7731940150260925, -0.6733196973800659, -0.6165701150894165, -0.49962934851646423, -0.4576643407344818, -0.31617358326911926, -0.29971426725387573, -0.19266986846923828, -0.1457725465297699, -0.05588169023394585, 0.0013403421035036445, 0.005607157945632935, 0.048316195607185364, 0.1391364336013794, 0.2071845531463623, 0.2655676305294037, 0.32441988587379456, 0.3790789544582367, 0.4291238784790039, 0.47860395908355713, 0.5201504826545715, 0.563487708568573, 0.5968212485313416, 0.6334000825881958, 0.6588490605354309, 0.68827223777771, 0.7062514424324036, 0.7282509207725525, 0.739307165145874, 0.7536731958389282, 0.7585477232933044, 0.7650570273399353, 0.765498161315918, 0.7630903124809265, 0.7591615915298462, 0.7486292719841003, 0.7392857670783997, 0.7226857542991638, 0.7077328562736511, 0.6864097714424133, 0.6659197807312012, 0.6410697102546692, 0.6152542233467102, 0.5880219340324402, 0.5571462512016296, 0.5286841988563538, 0.49297577142715454, 0.46450886130332947, 0.42395511269569397, 0.3969455361366272, 0.35092902183532715, 0.32741567492485046, 0.2726302146911621, 0.2572787404060364, 0.1919662207365036, 0.18781594932079315, 0.13823369145393372, 0.12020353972911835, 0.07807604223489761, 0.055490147322416306, 0.018631236627697945, -0.005414003040641546, -0.017749132588505745, -0.06174016371369362, -0.08983766287565231, -0.11288217455148697, -0.13696905970573425, -0.1583724319934845, -0.17858806252479553, -0.19788366556167603, -0.2143862247467041, -0.23121407628059387, -0.24417413771152496, -0.25828367471694946, -0.26791319251060486, -0.27912405133247375, -0.2856757938861847, -0.29386356472969055, -0.29764315485954285, -0.3027172088623047, -0.30409765243530273, -0.30597367882728577, -0.305825799703598, -0.3040015995502472, -0.30198708176612854, -0.2972181737422943, -0.2931101322174072, -0.28608304262161255, -0.2798558473587036, -0.2710970342159271, -0.26280537247657776, -0.2527918815612793, -0.24251766502857208, -0.23170925676822662, -0.21955057978630066, -0.20840215682983398, -0.19443286955356598, -0.18342436850070953, -0.1676332652568817, -0.15731635689735413, -0.13943323493003845, -0.1305944323539734, -0.10928436368703842, -0.10374565422534943, -0.07852692902088165, -0.07722660154104233, -0.05808233097195625, -0.05144791677594185, -0.03515103459358215, -0.026777751743793488, -0.012480055913329124, -0.0035413294099271297, 0.005014220252633095, 0.01798737235367298, 0.028926411643624306, 0.03758500888943672, 0.04698863625526428, 0.05507691204547882]}, {\"type\": \"scatter\", \"x\": [0.0, 4.8745510866865516e-05, 0.0005362005904316902, 0.005410751793533564, 0.054156262427568436, 0.10000000149011612, 0.14625713229179382, 0.20000000298023224, 0.24848313629627228, 0.30000001192092896, 0.3502035140991211, 0.4000000059604645, 0.45181766152381897, 0.5, 0.5527282953262329, 0.6000000238418579, 0.6543830037117004, 0.699999988079071, 0.7569910883903503, 0.800000011920929, 0.8431944251060486, 0.8999999761581421, 0.9362322688102722, 1.0, 1.0336284637451172, 1.100000023841858, 1.127816081047058, 1.2000000476837158, 1.2157164812088013, 1.2999999523162842, 1.3380036354064941, 1.399999976158142, 1.4373340606689453, 1.5, 1.5266929864883423, 1.600000023841858, 1.6457972526550293, 1.7000000476837158, 1.7579267024993896, 1.7999999523162842, 1.8650091886520386, 1.899999976158142, 1.9676300287246704, 2.0, 2.073333263397217, 2.0999999046325684, 2.1739373207092285, 2.200000047683716, 2.257786750793457, 2.299999952316284, 2.3509464263916016, 2.4000000953674316, 2.4480152130126953, 2.5, 2.546414852142334, 2.5999999046325684, 2.6454453468322754, 2.700000047683716, 2.744621992111206, 2.799999952316284, 2.843627691268921, 2.9000000953674316, 2.9421706199645996, 3.0, 3.039850950241089, 3.0999999046325684, 3.1356565952301025, 3.200000047683716, 3.2093069553375244, 3.299999952316284, 3.3306214809417725, 3.4000000953674316, 3.4404711723327637, 3.5, 3.5450103282928467, 3.5999999046325684, 3.6483511924743652, 3.700000047683716, 3.751121997833252, 3.799999952316284, 3.853677272796631, 3.9000000953674316, 3.956284284591675, 4.0, 4.059418201446533, 4.099999904632568, 4.164065837860107, 4.199999809265137, 4.273622035980225, 4.300000190734863, 4.389471530914307, 4.400000095367432, 4.46903657913208, 4.5, 4.560309886932373, 4.599999904632568, 4.603030681610107, 4.633337497711182, 4.699999809265137, 4.752538204193115, 4.800000190734863, 4.850318908691406, 4.900000095367432, 4.948489189147949, 5.0, 5.0468292236328125, 5.099999904632568, 5.14514684677124, 5.199999809265137, 5.243257522583008, 5.300000190734863, 5.3409199714660645, 5.400000095367432, 5.437671184539795, 5.5, 5.531944751739502, 5.599999904632568, 5.624847412109375, 5.699999809265137, 5.735284328460693, 5.800000190734863, 5.840571403503418, 5.900000095367432, 5.944272518157959, 6.0, 6.047372817993164, 6.099999904632568, 6.150254249572754, 6.199999809265137, 6.253177642822266, 6.300000190734863, 6.356426239013672, 6.400000095367432, 6.460501194000244, 6.5, 6.566392421722412, 6.599999904632568, 6.678099155426025, 6.699999809265137, 6.793955326080322, 6.800000190734863, 6.872894287109375, 6.900000095367432, 6.964393138885498, 7.0, 7.059579849243164, 7.099999904632568, 7.1213178634643555, 7.199999809265137, 7.253542900085449, 7.300000190734863, 7.351299285888672, 7.400000095367432, 7.449227809906006, 7.5, 7.547224521636963, 7.599999904632568, 7.645138740539551, 7.699999809265137, 7.742829322814941, 7.800000190734863, 7.840048789978027, 7.900000095367432, 7.936241626739502, 8.0, 8.028939247131348, 8.100000381469727, 8.125514030456543, 8.199999809265137, 8.236292839050293, 8.300000190734863, 8.340815544128418, 8.399999618530273, 8.444235801696777, 8.5, 8.547225952148438, 8.600000381469727, 8.65014362335205, 8.699999809265137, 8.753175735473633, 8.800000190734863, 8.856607437133789, 8.899999618530273, 8.960884094238281, 9.0, 9.067078590393066, 9.100000381469727, 9.17933177947998, 9.199999809265137, 9.295034408569336, 9.300000190734863, 9.373831748962402, 9.399999618530273, 9.465371131896973, 9.5, 9.560616493225098, 9.600000381469727, 9.638787269592285, 9.699999809265137, 9.75445556640625, 9.800000190734863, 9.852149963378906, 9.899999618530273], \"y\": [0.0, -0.0004422066849656403, -0.00486202584579587, -0.048835884779691696, -0.466511070728302, -0.8220292925834656, -1.0676008462905884, -1.2268391847610474, -1.3036324977874756, -1.2304749488830566, -1.1677435636520386, -0.9878842830657959, -0.8517661094665527, -0.6513351798057556, -0.5023247599601746, -0.33287313580513, -0.22376464307308197, -0.1238485649228096, -0.08449182659387589, -0.04830629751086235, -0.05861577391624451, -0.04218420758843422, -0.0575321726500988, -0.03219214454293251, -0.04132000356912613, -0.008734699338674545, -0.018251702189445496, -0.004779881332069635, -0.014885764569044113, -0.03418559208512306, -0.05598529428243637, -0.05471478030085564, -0.05092751607298851, 0.013964461162686348, 0.04394027963280678, 0.21079769730567932, 0.30108553171157837, 0.46713435649871826, 0.5666626691818237, 0.6763104796409607, 0.7338597178459167, 0.7919722199440002, 0.7975912690162659, 0.8225732445716858, 0.7972813844680786, 0.798548698425293, 0.764642596244812, 0.7465388178825378, 0.7309346795082092, 0.6780076622962952, 0.6754607558250427, 0.5973998308181763, 0.6002927422523499, 0.5105581879615784, 0.5145894885063171, 0.42348408699035645, 0.4266166090965271, 0.33989417552948, 0.34165409207344055, 0.26143577694892883, 0.2621244490146637, 0.18863943219184875, 0.18886339664459229, 0.1214030534029007, 0.12174465507268906, 0.05909578502178192, 0.06016206741333008, 0.0006900420412421227, 0.00292569724842906, -0.05507775768637657, -0.05422377213835716, -0.10938581079244614, -0.1122528538107872, -0.16301269829273224, -0.16831716895103455, -0.2160215824842453, -0.22297409176826477, -0.26760047674179077, -0.27522674202919006, -0.3161383867263794, -0.32346463203430176, -0.3595551550388336, -0.36562129855155945, -0.3955906927585602, -0.3998093903064728, -0.422288179397583, -0.42442676424980164, -0.43822523951530457, -0.43801048398017883, -0.44266682863235474, -0.43652868270874023, -0.43557971715927124, -0.4281519055366516, -0.4176456928253174, -0.41134923696517944, -0.3902880847454071, -0.3909555971622467, -0.3916969895362854, -0.35545286536216736, -0.35188689827919006, -0.31541791558265686, -0.31299683451652527, -0.2723449170589447, -0.2709429860115051, -0.2281186282634735, -0.22755593061447144, -0.1840403825044632, -0.18420858681201935, -0.14101019501686096, -0.14184623956680298, -0.09958293288946152, -0.10106947273015976, -0.06007714569568634, -0.06224755197763443, -0.022679639980196953, -0.025642063468694687, 0.012471533380448818, 0.009202045388519764, 0.045268282294273376, 0.04292847961187363, 0.07553008943796158, 0.0739937350153923, 0.10307015478610992, 0.10205963999032974, 0.12763679027557373, 0.1269361972808838, 0.14895668625831604, 0.14840050041675568, 0.16677573323249817, 0.1662093549966812, 0.18084174394607544, 0.18012720346450806, 0.19097022712230682, 0.18999966979026794, 0.19707921147346497, 0.19566944241523743, 0.1992179900407791, 0.19690842926502228, 0.19751030206680298, 0.19259920716285706, 0.19221346080303192, 0.18748964369297028, 0.1836741417646408, 0.1794760823249817, 0.1723508983850479, 0.1687198132276535, 0.1587226688861847, 0.15925978124141693, 0.14326465129852295, 0.14089111983776093, 0.12654079496860504, 0.12477690726518631, 0.10894627124071121, 0.10780396312475204, 0.09092828631401062, 0.09034720063209534, 0.07280988991260529, 0.07278148829936981, 0.05494390428066254, 0.05542619898915291, 0.037589263170957565, 0.03854570537805557, 0.020969899371266365, 0.022364577278494835, 0.005276625044643879, 0.00704699382185936, -0.009347816929221153, -0.007525601889938116, -0.02269422821700573, -0.021165816113352776, -0.034740760922431946, -0.03344891220331192, -0.0453634113073349, -0.04425482079386711, -0.0544968843460083, -0.05350960046052933, -0.062079448252916336, -0.06120928004384041, -0.06812687963247299, -0.0673087015748024, -0.07260669022798538, -0.07179746776819229, -0.07554681599140167, -0.07469894737005234, -0.07701386511325836, -0.0760510191321373, -0.07709619402885437, -0.07580812275409698, -0.07588613033294678, -0.07362969219684601, -0.07349033653736115, -0.07148292660713196, -0.07006016373634338, -0.06830748170614243, -0.0657227486371994, -0.06419527530670166, -0.06061699241399765, -0.06032013148069382, -0.0548892468214035, -0.05385880544781685, -0.04870143532752991, -0.04791082441806793, -0.04218171536922455]}, {\"type\": \"scatter\", \"x\": [0.0, 4.8745510866865516e-05, 0.0005362005904316902, 0.005410751793533564, 0.054156262427568436, 0.10000000149011612, 0.14625713229179382, 0.20000000298023224, 0.24848313629627228, 0.30000001192092896, 0.3502035140991211, 0.4000000059604645, 0.45181766152381897, 0.5, 0.5527282953262329, 0.6000000238418579, 0.6543830037117004, 0.699999988079071, 0.7569910883903503, 0.800000011920929, 0.8431944251060486, 0.8999999761581421, 0.9362322688102722, 1.0, 1.0336284637451172, 1.100000023841858, 1.127816081047058, 1.2000000476837158, 1.2157164812088013, 1.2999999523162842, 1.3380036354064941, 1.399999976158142, 1.4373340606689453, 1.5, 1.5266929864883423, 1.600000023841858, 1.6457972526550293, 1.7000000476837158, 1.7579267024993896, 1.7999999523162842, 1.8650091886520386, 1.899999976158142, 1.9676300287246704, 2.0, 2.073333263397217, 2.0999999046325684, 2.1739373207092285, 2.200000047683716, 2.257786750793457, 2.299999952316284, 2.3509464263916016, 2.4000000953674316, 2.4480152130126953, 2.5, 2.546414852142334, 2.5999999046325684, 2.6454453468322754, 2.700000047683716, 2.744621992111206, 2.799999952316284, 2.843627691268921, 2.9000000953674316, 2.9421706199645996, 3.0, 3.039850950241089, 3.0999999046325684, 3.1356565952301025, 3.200000047683716, 3.2093069553375244, 3.299999952316284, 3.3306214809417725, 3.4000000953674316, 3.4404711723327637, 3.5, 3.5450103282928467, 3.5999999046325684, 3.6483511924743652, 3.700000047683716, 3.751121997833252, 3.799999952316284, 3.853677272796631, 3.9000000953674316, 3.956284284591675, 4.0, 4.059418201446533, 4.099999904632568, 4.164065837860107, 4.199999809265137, 4.273622035980225, 4.300000190734863, 4.389471530914307, 4.400000095367432, 4.46903657913208, 4.5, 4.560309886932373, 4.599999904632568, 4.603030681610107, 4.633337497711182, 4.699999809265137, 4.752538204193115, 4.800000190734863, 4.850318908691406, 4.900000095367432, 4.948489189147949, 5.0, 5.0468292236328125, 5.099999904632568, 5.14514684677124, 5.199999809265137, 5.243257522583008, 5.300000190734863, 5.3409199714660645, 5.400000095367432, 5.437671184539795, 5.5, 5.531944751739502, 5.599999904632568, 5.624847412109375, 5.699999809265137, 5.735284328460693, 5.800000190734863, 5.840571403503418, 5.900000095367432, 5.944272518157959, 6.0, 6.047372817993164, 6.099999904632568, 6.150254249572754, 6.199999809265137, 6.253177642822266, 6.300000190734863, 6.356426239013672, 6.400000095367432, 6.460501194000244, 6.5, 6.566392421722412, 6.599999904632568, 6.678099155426025, 6.699999809265137, 6.793955326080322, 6.800000190734863, 6.872894287109375, 6.900000095367432, 6.964393138885498, 7.0, 7.059579849243164, 7.099999904632568, 7.1213178634643555, 7.199999809265137, 7.253542900085449, 7.300000190734863, 7.351299285888672, 7.400000095367432, 7.449227809906006, 7.5, 7.547224521636963, 7.599999904632568, 7.645138740539551, 7.699999809265137, 7.742829322814941, 7.800000190734863, 7.840048789978027, 7.900000095367432, 7.936241626739502, 8.0, 8.028939247131348, 8.100000381469727, 8.125514030456543, 8.199999809265137, 8.236292839050293, 8.300000190734863, 8.340815544128418, 8.399999618530273, 8.444235801696777, 8.5, 8.547225952148438, 8.600000381469727, 8.65014362335205, 8.699999809265137, 8.753175735473633, 8.800000190734863, 8.856607437133789, 8.899999618530273, 8.960884094238281, 9.0, 9.067078590393066, 9.100000381469727, 9.17933177947998, 9.199999809265137, 9.295034408569336, 9.300000190734863, 9.373831748962402, 9.399999618530273, 9.465371131896973, 9.5, 9.560616493225098, 9.600000381469727, 9.638787269592285, 9.699999809265137, 9.75445556640625, 9.800000190734863, 9.852149963378906, 9.899999618530273], \"y\": [0.0, 0.001339315203949809, 0.014726463705301285, 0.14799931645393372, 1.4223685264587402, 2.5250742435455322, 3.3455889225006104, 3.985366106033325, 4.417735576629639, 4.492886066436768, 4.63350772857666, 4.4651336669921875, 4.462259769439697, 4.222810745239258, 4.146707534790039, 3.875755548477173, 3.728468179702759, 3.4224181175231934, 3.1634323596954346, 2.802109718322754, 2.531229019165039, 1.960252285003662, 1.6677783727645874, 0.9256110191345215, 0.6194807291030884, -0.18115994334220886, -0.42794501781463623, -1.2195359468460083, -1.3411438465118408, -2.1018950939178467, -2.356527090072632, -2.8168678283691406, -3.0181589126586914, -3.3959381580352783, -3.487394332885742, -3.8346450328826904, -3.876042127609253, -4.0597147941589355, -3.979374647140503, -4.0494303703308105, -3.865973472595215, -3.872664451599121, -3.634556770324707, -3.604975700378418, -3.357534408569336, -3.309129476547241, -3.1027114391326904, -3.022096872329712, -2.9212467670440674, -2.745759963989258, -2.7055654525756836, -2.470506429672241, -2.4572434425354004, -2.194890022277832, -2.1894891262054443, -1.9212515354156494, -1.9128398895263672, -1.6489336490631104, -1.6323047876358032, -1.374637246131897, -1.3481950759887695, -1.0951063632965088, -1.0600088834762573, -0.8088828325271606, -0.7685875296592712, -0.5169014930725098, -0.47799190878868103, -0.22262489795684814, -0.21764478087425232, 0.06850378215312958, 0.10355909913778305, 0.3497824966907501, 0.40312421321868896, 0.6142292022705078, 0.6710918545722961, 0.8553247451782227, 0.9087861180305481, 1.0675387382507324, 1.1127375364303589, 1.2466644048690796, 1.2808550596237183, 1.3900620937347412, 1.4119669198989868, 1.4963066577911377, 1.5063546895980835, 1.5652985572814941, 1.5648010969161987, 1.5979071855545044, 1.5871608257293701, 1.5957872867584229, 1.5654062032699585, 1.5611906051635742, 1.5301690101623535, 1.4970422983169556, 1.4701831340789795, 1.4072269201278687, 1.4084826707839966, 1.405163288116455, 1.2963200807571411, 1.2766683101654053, 1.169442057609558, 1.152000904083252, 1.0313996076583862, 1.0155279636383057, 0.8865143656730652, 0.871630847454071, 0.737949013710022, 0.72389817237854, 0.5882496237754822, 0.5752347707748413, 0.4394785165786743, 0.4280596971511841, 0.2934356927871704, 0.28457415103912354, 0.15183191001415253, 0.14729900658130646, 0.01637994684278965, 0.01571880467236042, -0.11129632592201233, -0.11774892359972, -0.22951190173625946, -0.23878969252109528, -0.3368036448955536, -0.3470114469528198, -0.43183019757270813, -0.4417286217212677, -0.5135058164596558, -0.5222495794296265, -0.581084668636322, -0.5880410075187683, -0.6340572834014893, -0.6387687921524048, -0.6722574830055237, -0.6744298338890076, -0.695881187915802, -0.695027768611908, -0.7054990530014038, -0.7002768516540527, -0.701855480670929, -0.6872020959854126, -0.6860001683235168, -0.6706562042236328, -0.6591603755950928, -0.6442294120788574, -0.6228064298629761, -0.6085502505302429, -0.5784220695495605, -0.5779167413711548, -0.527460515499115, -0.5152935981750488, -0.4716097116470337, -0.4606301486492157, -0.412119597196579, -0.4025011360645294, -0.35040155053138733, -0.3421315550804138, -0.28756141662597656, -0.28078171610832214, -0.22480839490890503, -0.21958447992801666, -0.16311702132225037, -0.159552201628685, -0.10337412357330322, -0.1016327291727066, -0.046372443437576294, -0.04686509445309639, 0.007240476552397013, 0.005934323649853468, 0.0566660575568676, 0.057310931384563446, 0.10164320468902588, 0.10306137055158615, 0.14167581498622894, 0.14344608783721924, 0.17646591365337372, 0.1782522201538086, 0.20576585829257965, 0.20744237303733826, 0.2295730710029602, 0.23087894916534424, 0.24778886139392853, 0.24854636192321777, 0.26050499081611633, 0.2605389356613159, 0.2679402232170105, 0.26700347661972046, 0.2703898251056671, 0.2678515911102295, 0.2681733965873718, 0.2620628774166107, 0.26165974140167236, 0.25554025173187256, 0.25134509801864624, 0.24539223313331604, 0.2376669943332672, 0.23189900815486908, 0.22109946608543396, 0.21896116435527802, 0.20214051008224487, 0.19711948931217194, 0.1813325583934784, 0.1767716407775879, 0.15912963449954987]}],\n",
       "                        {\"template\": {\"data\": {\"bar\": [{\"error_x\": {\"color\": \"#2a3f5f\"}, \"error_y\": {\"color\": \"#2a3f5f\"}, \"marker\": {\"line\": {\"color\": \"#E5ECF6\", \"width\": 0.5}}, \"type\": \"bar\"}], \"barpolar\": [{\"marker\": {\"line\": {\"color\": \"#E5ECF6\", \"width\": 0.5}}, \"type\": \"barpolar\"}], \"carpet\": [{\"aaxis\": {\"endlinecolor\": \"#2a3f5f\", \"gridcolor\": \"white\", \"linecolor\": \"white\", \"minorgridcolor\": \"white\", \"startlinecolor\": \"#2a3f5f\"}, \"baxis\": {\"endlinecolor\": \"#2a3f5f\", \"gridcolor\": \"white\", \"linecolor\": \"white\", \"minorgridcolor\": \"white\", \"startlinecolor\": \"#2a3f5f\"}, \"type\": \"carpet\"}], \"choropleth\": [{\"colorbar\": {\"outlinewidth\": 0, \"ticks\": \"\"}, \"type\": \"choropleth\"}], \"contour\": [{\"colorbar\": {\"outlinewidth\": 0, \"ticks\": \"\"}, \"colorscale\": [[0.0, \"#0d0887\"], [0.1111111111111111, \"#46039f\"], [0.2222222222222222, \"#7201a8\"], [0.3333333333333333, \"#9c179e\"], [0.4444444444444444, \"#bd3786\"], [0.5555555555555556, \"#d8576b\"], [0.6666666666666666, \"#ed7953\"], [0.7777777777777778, \"#fb9f3a\"], [0.8888888888888888, \"#fdca26\"], [1.0, \"#f0f921\"]], \"type\": \"contour\"}], \"contourcarpet\": [{\"colorbar\": {\"outlinewidth\": 0, \"ticks\": \"\"}, \"type\": \"contourcarpet\"}], \"heatmap\": [{\"colorbar\": {\"outlinewidth\": 0, \"ticks\": \"\"}, \"colorscale\": [[0.0, \"#0d0887\"], [0.1111111111111111, \"#46039f\"], [0.2222222222222222, \"#7201a8\"], [0.3333333333333333, \"#9c179e\"], [0.4444444444444444, \"#bd3786\"], [0.5555555555555556, \"#d8576b\"], [0.6666666666666666, \"#ed7953\"], [0.7777777777777778, \"#fb9f3a\"], [0.8888888888888888, \"#fdca26\"], [1.0, \"#f0f921\"]], \"type\": \"heatmap\"}], \"heatmapgl\": [{\"colorbar\": {\"outlinewidth\": 0, \"ticks\": \"\"}, \"colorscale\": [[0.0, \"#0d0887\"], [0.1111111111111111, \"#46039f\"], [0.2222222222222222, \"#7201a8\"], [0.3333333333333333, \"#9c179e\"], [0.4444444444444444, \"#bd3786\"], [0.5555555555555556, \"#d8576b\"], [0.6666666666666666, \"#ed7953\"], [0.7777777777777778, \"#fb9f3a\"], [0.8888888888888888, \"#fdca26\"], [1.0, \"#f0f921\"]], \"type\": \"heatmapgl\"}], \"histogram\": [{\"marker\": {\"colorbar\": {\"outlinewidth\": 0, \"ticks\": \"\"}}, \"type\": \"histogram\"}], \"histogram2d\": [{\"colorbar\": {\"outlinewidth\": 0, \"ticks\": \"\"}, \"colorscale\": [[0.0, \"#0d0887\"], [0.1111111111111111, \"#46039f\"], [0.2222222222222222, \"#7201a8\"], [0.3333333333333333, \"#9c179e\"], [0.4444444444444444, \"#bd3786\"], [0.5555555555555556, \"#d8576b\"], [0.6666666666666666, \"#ed7953\"], [0.7777777777777778, \"#fb9f3a\"], [0.8888888888888888, \"#fdca26\"], [1.0, \"#f0f921\"]], \"type\": \"histogram2d\"}], \"histogram2dcontour\": [{\"colorbar\": {\"outlinewidth\": 0, \"ticks\": \"\"}, \"colorscale\": [[0.0, \"#0d0887\"], [0.1111111111111111, \"#46039f\"], [0.2222222222222222, \"#7201a8\"], [0.3333333333333333, \"#9c179e\"], [0.4444444444444444, \"#bd3786\"], [0.5555555555555556, \"#d8576b\"], [0.6666666666666666, \"#ed7953\"], [0.7777777777777778, \"#fb9f3a\"], [0.8888888888888888, \"#fdca26\"], [1.0, \"#f0f921\"]], \"type\": \"histogram2dcontour\"}], \"mesh3d\": [{\"colorbar\": {\"outlinewidth\": 0, \"ticks\": \"\"}, \"type\": \"mesh3d\"}], \"parcoords\": [{\"line\": {\"colorbar\": {\"outlinewidth\": 0, \"ticks\": \"\"}}, \"type\": \"parcoords\"}], \"pie\": [{\"automargin\": true, \"type\": \"pie\"}], \"scatter\": [{\"marker\": {\"colorbar\": {\"outlinewidth\": 0, \"ticks\": \"\"}}, \"type\": \"scatter\"}], \"scatter3d\": [{\"line\": {\"colorbar\": {\"outlinewidth\": 0, \"ticks\": \"\"}}, \"marker\": {\"colorbar\": {\"outlinewidth\": 0, \"ticks\": \"\"}}, \"type\": \"scatter3d\"}], \"scattercarpet\": [{\"marker\": {\"colorbar\": {\"outlinewidth\": 0, \"ticks\": \"\"}}, \"type\": \"scattercarpet\"}], \"scattergeo\": [{\"marker\": {\"colorbar\": {\"outlinewidth\": 0, \"ticks\": \"\"}}, \"type\": \"scattergeo\"}], \"scattergl\": [{\"marker\": {\"colorbar\": {\"outlinewidth\": 0, \"ticks\": \"\"}}, \"type\": \"scattergl\"}], \"scattermapbox\": [{\"marker\": {\"colorbar\": {\"outlinewidth\": 0, \"ticks\": \"\"}}, \"type\": \"scattermapbox\"}], \"scatterpolar\": [{\"marker\": {\"colorbar\": {\"outlinewidth\": 0, \"ticks\": \"\"}}, \"type\": \"scatterpolar\"}], \"scatterpolargl\": [{\"marker\": {\"colorbar\": {\"outlinewidth\": 0, \"ticks\": \"\"}}, \"type\": \"scatterpolargl\"}], \"scatterternary\": [{\"marker\": {\"colorbar\": {\"outlinewidth\": 0, \"ticks\": \"\"}}, \"type\": \"scatterternary\"}], \"surface\": [{\"colorbar\": {\"outlinewidth\": 0, \"ticks\": \"\"}, \"colorscale\": [[0.0, \"#0d0887\"], [0.1111111111111111, \"#46039f\"], [0.2222222222222222, \"#7201a8\"], [0.3333333333333333, \"#9c179e\"], [0.4444444444444444, \"#bd3786\"], [0.5555555555555556, \"#d8576b\"], [0.6666666666666666, \"#ed7953\"], [0.7777777777777778, \"#fb9f3a\"], [0.8888888888888888, \"#fdca26\"], [1.0, \"#f0f921\"]], \"type\": \"surface\"}], \"table\": [{\"cells\": {\"fill\": {\"color\": \"#EBF0F8\"}, \"line\": {\"color\": \"white\"}}, \"header\": {\"fill\": {\"color\": \"#C8D4E3\"}, \"line\": {\"color\": \"white\"}}, \"type\": \"table\"}]}, \"layout\": {\"annotationdefaults\": {\"arrowcolor\": \"#2a3f5f\", \"arrowhead\": 0, \"arrowwidth\": 1}, \"coloraxis\": {\"colorbar\": {\"outlinewidth\": 0, \"ticks\": \"\"}}, \"colorscale\": {\"diverging\": [[0, \"#8e0152\"], [0.1, \"#c51b7d\"], [0.2, \"#de77ae\"], [0.3, \"#f1b6da\"], [0.4, \"#fde0ef\"], [0.5, \"#f7f7f7\"], [0.6, \"#e6f5d0\"], [0.7, \"#b8e186\"], [0.8, \"#7fbc41\"], [0.9, \"#4d9221\"], [1, \"#276419\"]], \"sequential\": [[0.0, \"#0d0887\"], [0.1111111111111111, \"#46039f\"], [0.2222222222222222, \"#7201a8\"], [0.3333333333333333, \"#9c179e\"], [0.4444444444444444, \"#bd3786\"], [0.5555555555555556, \"#d8576b\"], [0.6666666666666666, \"#ed7953\"], [0.7777777777777778, \"#fb9f3a\"], [0.8888888888888888, \"#fdca26\"], [1.0, \"#f0f921\"]], \"sequentialminus\": [[0.0, \"#0d0887\"], [0.1111111111111111, \"#46039f\"], [0.2222222222222222, \"#7201a8\"], [0.3333333333333333, \"#9c179e\"], [0.4444444444444444, \"#bd3786\"], [0.5555555555555556, \"#d8576b\"], [0.6666666666666666, \"#ed7953\"], [0.7777777777777778, \"#fb9f3a\"], [0.8888888888888888, \"#fdca26\"], [1.0, \"#f0f921\"]]}, \"colorway\": [\"#636efa\", \"#EF553B\", \"#00cc96\", \"#ab63fa\", \"#FFA15A\", \"#19d3f3\", \"#FF6692\", \"#B6E880\", \"#FF97FF\", \"#FECB52\"], \"font\": {\"color\": \"#2a3f5f\"}, \"geo\": {\"bgcolor\": \"white\", \"lakecolor\": \"white\", \"landcolor\": \"#E5ECF6\", \"showlakes\": true, \"showland\": true, \"subunitcolor\": \"white\"}, \"hoverlabel\": {\"align\": \"left\"}, \"hovermode\": \"closest\", \"mapbox\": {\"style\": \"light\"}, \"paper_bgcolor\": \"white\", \"plot_bgcolor\": \"#E5ECF6\", \"polar\": {\"angularaxis\": {\"gridcolor\": \"white\", \"linecolor\": \"white\", \"ticks\": \"\"}, \"bgcolor\": \"#E5ECF6\", \"radialaxis\": {\"gridcolor\": \"white\", \"linecolor\": \"white\", \"ticks\": \"\"}}, \"scene\": {\"xaxis\": {\"backgroundcolor\": \"#E5ECF6\", \"gridcolor\": \"white\", \"gridwidth\": 2, \"linecolor\": \"white\", \"showbackground\": true, \"ticks\": \"\", \"zerolinecolor\": \"white\"}, \"yaxis\": {\"backgroundcolor\": \"#E5ECF6\", \"gridcolor\": \"white\", \"gridwidth\": 2, \"linecolor\": \"white\", \"showbackground\": true, \"ticks\": \"\", \"zerolinecolor\": \"white\"}, \"zaxis\": {\"backgroundcolor\": \"#E5ECF6\", \"gridcolor\": \"white\", \"gridwidth\": 2, \"linecolor\": \"white\", \"showbackground\": true, \"ticks\": \"\", \"zerolinecolor\": \"white\"}}, \"shapedefaults\": {\"line\": {\"color\": \"#2a3f5f\"}}, \"ternary\": {\"aaxis\": {\"gridcolor\": \"white\", \"linecolor\": \"white\", \"ticks\": \"\"}, \"baxis\": {\"gridcolor\": \"white\", \"linecolor\": \"white\", \"ticks\": \"\"}, \"bgcolor\": \"#E5ECF6\", \"caxis\": {\"gridcolor\": \"white\", \"linecolor\": \"white\", \"ticks\": \"\"}}, \"title\": {\"x\": 0.05}, \"xaxis\": {\"automargin\": true, \"gridcolor\": \"white\", \"linecolor\": \"white\", \"ticks\": \"\", \"title\": {\"standoff\": 15}, \"zerolinecolor\": \"white\", \"zerolinewidth\": 2}, \"yaxis\": {\"automargin\": true, \"gridcolor\": \"white\", \"linecolor\": \"white\", \"ticks\": \"\", \"title\": {\"standoff\": 15}, \"zerolinecolor\": \"white\", \"zerolinewidth\": 2}}}},\n",
       "                        {\"responsive\": true}\n",
       "                    ).then(function(){\n",
       "                            \n",
       "var gd = document.getElementById('725740ce-e329-44ef-bae8-e211e77d723b');\n",
       "var x = new MutationObserver(function (mutations, observer) {{\n",
       "        var display = window.getComputedStyle(gd).display;\n",
       "        if (!display || display === 'none') {{\n",
       "            console.log([gd, 'removed!']);\n",
       "            Plotly.purge(gd);\n",
       "            observer.disconnect();\n",
       "        }}\n",
       "}});\n",
       "\n",
       "// Listen for the removal of the full notebook cells\n",
       "var notebookContainer = gd.closest('#notebook-container');\n",
       "if (notebookContainer) {{\n",
       "    x.observe(notebookContainer, {childList: true});\n",
       "}}\n",
       "\n",
       "// Listen for the clearing of the current output cell\n",
       "var outputEl = gd.closest('.output');\n",
       "if (outputEl) {{\n",
       "    x.observe(outputEl, {childList: true});\n",
       "}}\n",
       "\n",
       "                        })\n",
       "                };\n",
       "                });\n",
       "            </script>\n",
       "        </div>"
      ]
     },
     "metadata": {},
     "output_type": "display_data"
    }
   ],
   "source": [
    "# ctrl = lambda x: (torch.zeros(1), torch.zeros(1), None)\n",
    "\n",
    "ctrl = controllers.get_optimal_controller(vf)\n",
    "\n",
    "# x0 = torch.Tensor([np.pi, 0., 0., 0.]).double()\n",
    "# u_min = torch.Tensor(vf.u_lo[0]).type(vf.dtype)\n",
    "# u_max = torch.Tensor(vf.u_up[0]).type(vf.dtype)\n",
    "# Q = np.diag([1., 1., .1, .1])\n",
    "# R = np.diag([.1])\n",
    "# ctrl = controllers.get_lqr_controller(acrobot.dx, x0, torch.zeros(u_min.shape[0]).type(vf.dtype), Q, R, u_min, u_max)\n",
    "\n",
    "eps = .2\n",
    "x0 = torch.Tensor([np.pi+eps, eps, 0., 0.]).double()\n",
    "x_traj_sim, t_traj_sim = controllers.sim_ctrl(x0, 1, acrobot.dx, ctrl, .1, 100)\n",
    "\n",
    "fig = go.Figure()\n",
    "for i in range(4):\n",
    "    fig.add_trace(go.Scatter(\n",
    "        x=t_traj_sim,\n",
    "        y=x_traj_sim[i,:]\n",
    "    ))\n",
    "fig.show()"
   ]
  },
  {
   "cell_type": "code",
   "execution_count": 23,
   "metadata": {},
   "outputs": [],
   "source": [
    "eps = .2\n",
    "x0_lo = torch.Tensor([np.pi-eps, -eps, -5., -5.]).type(vf.dtype)\n",
    "x0_up = torch.Tensor([np.pi+eps, eps, 5., 5.]).type(vf.dtype)\n",
    "\n",
    "# file options\n",
    "sys_name = 'acrobot'\n",
    "x_samples_file = '../data/validation_' + sys_name + '_x.pt'\n",
    "v_samples_file = '../data/validation_' + sys_name + '_v.pt'\n",
    "model_file = '../data/' + sys_name + '.pt'"
   ]
  },
  {
   "cell_type": "code",
   "execution_count": 53,
   "metadata": {},
   "outputs": [],
   "source": [
    "opt = dict(\n",
    "    max_buffer_size = None,\n",
    "    batch_size = 30,\n",
    "    nn_width = 128,\n",
    "    nn_depth = 1,\n",
    "\n",
    "    init_num_samples = 10,\n",
    "    init_num_trainig_step = 200,\n",
    "    \n",
    "    num_generations = 20,\n",
    "    num_samples_per_generation = 10,\n",
    "    num_train_step_per_gen = 200,\n",
    "    \n",
    "    adv_max_iter = 2,\n",
    "    adv_conv_tol = 1e-5,\n",
    "    adv_learning_rate = .5,\n",
    "    \n",
    "    num_samples_validation = 100,\n",
    ")"
   ]
  },
  {
   "cell_type": "code",
   "execution_count": 54,
   "metadata": {},
   "outputs": [],
   "source": [
    "samples_buff = samples_buffer.SamplesBuffer(x0_lo.shape[0]*(vf.N-1), vf.N-1, vf.dtype, max_size=opt['max_buffer_size'])\n",
    "samples_gen = samples_generator.RandomSampleGenerator(vf, x0_lo, x0_up)"
   ]
  },
  {
   "cell_type": "code",
   "execution_count": 55,
   "metadata": {},
   "outputs": [],
   "source": [
    "vf_approx = value_approximation.InfiniteHorizonValueFunctionApproximation(x0_lo, x0_up, opt['nn_width'], opt['nn_depth'])\n",
    "train_log = training_log.TrainingLog(1, prefix=\"baseline\")"
   ]
  },
  {
   "cell_type": "code",
   "execution_count": 27,
   "metadata": {},
   "outputs": [],
   "source": [
    "x_samples_validation, v_labels_validation = samples_gen.generate_samples(opt['num_samples_validation'])"
   ]
  },
  {
   "cell_type": "code",
   "execution_count": 28,
   "metadata": {},
   "outputs": [],
   "source": [
    "torch.save(x_samples_validation, x_samples_file)\n",
    "torch.save(v_labels_validation, v_samples_file)"
   ]
  },
  {
   "cell_type": "code",
   "execution_count": 56,
   "metadata": {},
   "outputs": [],
   "source": [
    "x_samples_validation = torch.load(x_samples_file)\n",
    "v_labels_validation = torch.load(v_samples_file)"
   ]
  },
  {
   "cell_type": "code",
   "execution_count": 57,
   "metadata": {},
   "outputs": [],
   "source": [
    "(x_samples, v_labels) = samples_gen.generate_samples(opt['init_num_samples'])\n",
    "samples_buff.add_samples(x_samples, v_labels)"
   ]
  },
  {
   "cell_type": "code",
   "execution_count": 58,
   "metadata": {},
   "outputs": [],
   "source": [
    "samples_buff.add_samples(x_samples_validation, v_labels_validation)"
   ]
  },
  {
   "cell_type": "code",
   "execution_count": 59,
   "metadata": {},
   "outputs": [],
   "source": [
    "for train_step_i in range(opt['init_num_trainig_step']):\n",
    "    x, v = samples_buff.get_random_samples(opt['batch_size'])\n",
    "    losses = vf_approx.train_step(x, v)\n",
    "    train_log.add_train_loss(losses)"
   ]
  },
  {
   "cell_type": "code",
   "execution_count": 60,
   "metadata": {},
   "outputs": [],
   "source": [
    "samples_buff_adv = copy.deepcopy(samples_buff)\n",
    "samples_gen_adv = samples_generator.AdversarialSampleGenerator(vf, x0_lo, x0_up, \n",
    "                                                               max_iter=opt['adv_max_iter'],\n",
    "                                                               conv_tol=opt['adv_conv_tol'],\n",
    "                                                               learning_rate=opt['adv_learning_rate'])\n",
    "vf_approx_adv = copy.deepcopy(vf_approx)\n",
    "train_log_adv = training_log.TrainingLog.get_copy(\n",
    "    train_log, prefix=\"adversarial\", keep_writer=True)"
   ]
  },
  {
   "cell_type": "code",
   "execution_count": 62,
   "metadata": {},
   "outputs": [],
   "source": [
    "validation_losses = vf_approx_adv.validation_loss(x_samples_validation, v_labels_validation)\n",
    "train_log_adv.add_validation_loss(validation_losses)\n",
    "validation_losses = vf_approx.validation_loss(x_samples_validation, v_labels_validation)\n",
    "train_log.add_validation_loss(validation_losses)\n",
    "for gen_i in range(opt['num_generations']):\n",
    "    # adverserial samples\n",
    "    (x_samples, v_labels) = samples_gen_adv.generate_samples(opt['num_samples_per_generation'], vf_approx_adv)\n",
    "    samples_buff_adv.add_samples(x_samples, v_labels)\n",
    "    # random samples\n",
    "    (x_samples, v_labels) = samples_gen.generate_samples(opt['num_samples_per_generation'])\n",
    "    samples_buff.add_samples(x_samples, v_labels)\n",
    "    for train_step_i in range(opt['num_train_step_per_gen']):\n",
    "        samples_indices = samples_buff_adv.get_random_sample_indices(opt['batch_size'])\n",
    "        x, v = samples_buff_adv.get_samples_from_indices(samples_indices)\n",
    "        losses = vf_approx_adv.train_step(x, v)\n",
    "        train_log_adv.add_train_loss(losses)\n",
    "        x, v = samples_buff.get_samples_from_indices(samples_indices)\n",
    "        losses = vf_approx.train_step(x, v)\n",
    "        train_log.add_train_loss(losses)\n",
    "    validation_losses = vf_approx_adv.validation_loss(x_samples_validation, v_labels_validation)\n",
    "    train_log_adv.add_validation_loss(validation_losses)\n",
    "    validation_losses = vf_approx.validation_loss(x_samples_validation, v_labels_validation)\n",
    "    train_log.add_validation_loss(validation_losses)"
   ]
  },
  {
   "cell_type": "code",
   "execution_count": 51,
   "metadata": {},
   "outputs": [
    {
     "data": {
      "application/vnd.plotly.v1+json": {
       "config": {
        "plotlyServerURL": "https://plot.ly"
       },
       "data": [
        {
         "type": "scatter",
         "x": [
          0,
          0.00010547317651798949,
          0.0011602049926295877,
          0.01170752290636301,
          0.05000000074505806,
          0.10000000149011612,
          0.14621099829673767,
          0.15000000596046448,
          0.19080829620361328,
          0.20000000298023224,
          0.25,
          0.2988986670970917,
          0.30000001192092896,
          0.3499999940395355,
          0.4000000059604645,
          0.44999998807907104,
          0.5,
          0.5159112811088562,
          0.550000011920929,
          0.6000000238418579,
          0.6168623566627502,
          0.6499999761581421,
          0.6978367567062378,
          0.699999988079071,
          0.75,
          0.800000011920929,
          0.8492712378501892,
          0.8500000238418579,
          0.8592928647994995,
          0.8999999761581421,
          0.914345920085907,
          0.949999988079071,
          0.9913461208343506,
          1,
          1.0066540241241455,
          1.0499999523162842,
          1.0688663721084595,
          1.100000023841858,
          1.101721167564392,
          1.1189332008361816,
          1.149999976158142,
          1.1508454084396362,
          1.1592992544174194,
          1.2000000476837158,
          1.2395292520523071,
          1.25,
          1.26457679271698,
          1.2999999523162842,
          1.3482252359390259,
          1.350000023841858,
          1.399999976158142,
          1.4500000476837158,
          1.5,
          1.5499999523162842,
          1.600000023841858,
          1.6441447734832764,
          1.649999976158142,
          1.6904345750808716,
          1.7000000476837158,
          1.75,
          1.7999999523162842,
          1.850000023841858,
          1.899999976158142,
          1.9500000476837158,
          2,
          2.049999952316284,
          2.0999999046325684,
          2.1500000953674316,
          2.200000047683716,
          2.25,
          2.299999952316284,
          2.3499999046325684,
          2.4000000953674316,
          2.450000047683716,
          2.5,
          2.549999952316284,
          2.5999999046325684,
          2.6500000953674316,
          2.700000047683716,
          2.75,
          2.799999952316284,
          2.8499999046325684,
          2.9000000953674316,
          2.950000047683716,
          3,
          3.049999952316284,
          3.0999999046325684,
          3.1500000953674316,
          3.200000047683716,
          3.25,
          3.299999952316284,
          3.3499999046325684,
          3.4000000953674316,
          3.450000047683716,
          3.5,
          3.549999952316284,
          3.5999999046325684,
          3.6500000953674316,
          3.700000047683716,
          3.7498085498809814,
          3.75,
          3.799999952316284,
          3.8499999046325684,
          3.9000000953674316,
          3.950000047683716,
          4,
          4.050000190734863,
          4.099999904632568,
          4.150000095367432,
          4.181870937347412,
          4.199999809265137,
          4.25,
          4.300000190734863,
          4.349999904632568,
          4.400000095367432,
          4.449999809265137,
          4.5,
          4.550000190734863,
          4.599999904632568,
          4.650000095367432,
          4.699999809265137,
          4.75,
          4.800000190734863,
          4.849999904632568,
          4.900000095367432,
          4.949999809265137
         ],
         "y": [
          3.1415927410125732,
          3.1415927410125732,
          3.141594886779785,
          3.1418209075927734,
          3.145761728286743,
          3.1541736125946045,
          3.160787343978882,
          3.161221504211426,
          3.168776035308838,
          3.1713030338287354,
          3.188009262084961,
          3.2105531692504883,
          3.211156129837036,
          3.2372066974639893,
          3.257356882095337,
          3.2711899280548096,
          3.2759180068969727,
          3.274359941482544,
          3.266019582748413,
          3.2565062046051025,
          3.2564914226531982,
          3.259799003601074,
          3.271486282348633,
          3.2721917629241943,
          3.2909326553344727,
          3.312257766723633,
          3.323477268218994,
          3.3234918117523193,
          3.323810577392578,
          3.329045534133911,
          3.332437038421631,
          3.3447136878967285,
          3.3545491695404053,
          3.3546853065490723,
          3.354689598083496,
          3.362398624420166,
          3.367465019226074,
          3.3705809116363525,
          3.370582342147827,
          3.3717241287231445,
          3.3790037631988525,
          3.379282236099243,
          3.3808257579803467,
          3.3562796115875244,
          3.2926268577575684,
          3.2711575031280518,
          3.24186372756958,
          3.1866509914398193,
          3.1380863189697266,
          3.1367218494415283,
          3.1038990020751953,
          3.0806381702423096,
          3.0664455890655518,
          3.059497594833374,
          3.0588948726654053,
          3.061272382736206,
          3.06156325340271,
          3.065617084503174,
          3.0671820640563965,
          3.0801990032196045,
          3.099496603012085,
          3.1236748695373535,
          3.1492972373962402,
          3.179107904434204,
          3.2215282917022705,
          3.2740871906280518,
          3.3344178199768066,
          3.404496431350708,
          3.485954523086548,
          3.579754114151001,
          3.686342239379883,
          3.8044538497924805,
          3.9342901706695557,
          4.075314044952393,
          4.223888397216797,
          4.377682685852051,
          4.537826061248779,
          4.702118873596191,
          4.8658905029296875,
          5.031065940856934,
          5.199334144592285,
          5.369947910308838,
          5.5408453941345215,
          5.7097368240356445,
          5.87579870223999,
          6.037130832672119,
          6.193789482116699,
          6.35154914855957,
          6.510583400726318,
          6.663865566253662,
          6.802443027496338,
          6.930880069732666,
          7.057991027832031,
          7.1826677322387695,
          7.30801248550415,
          7.431906223297119,
          7.550958633422852,
          7.661078929901123,
          7.759291172027588,
          7.8537774085998535,
          7.8541460037231445,
          7.947040557861328,
          8.030503273010254,
          8.098238945007324,
          8.152783393859863,
          8.202006340026855,
          8.245745658874512,
          8.276073455810547,
          8.288537979125977,
          8.288517951965332,
          8.286054611206055,
          8.268843650817871,
          8.241137504577637,
          8.215170860290527,
          8.187788009643555,
          8.147553443908691,
          8.091692924499512,
          8.017658233642578,
          7.9365386962890625,
          7.84940242767334,
          7.746453762054443,
          7.627876281738281,
          7.492007255554199,
          7.337247371673584,
          7.164682388305664,
          6.97573184967041
         ]
        },
        {
         "type": "scatter",
         "x": [
          0,
          0.00010547317651798949,
          0.0011602049926295877,
          0.01170752290636301,
          0.05000000074505806,
          0.10000000149011612,
          0.14621099829673767,
          0.15000000596046448,
          0.19080829620361328,
          0.20000000298023224,
          0.25,
          0.2988986670970917,
          0.30000001192092896,
          0.3499999940395355,
          0.4000000059604645,
          0.44999998807907104,
          0.5,
          0.5159112811088562,
          0.550000011920929,
          0.6000000238418579,
          0.6168623566627502,
          0.6499999761581421,
          0.6978367567062378,
          0.699999988079071,
          0.75,
          0.800000011920929,
          0.8492712378501892,
          0.8500000238418579,
          0.8592928647994995,
          0.8999999761581421,
          0.914345920085907,
          0.949999988079071,
          0.9913461208343506,
          1,
          1.0066540241241455,
          1.0499999523162842,
          1.0688663721084595,
          1.100000023841858,
          1.101721167564392,
          1.1189332008361816,
          1.149999976158142,
          1.1508454084396362,
          1.1592992544174194,
          1.2000000476837158,
          1.2395292520523071,
          1.25,
          1.26457679271698,
          1.2999999523162842,
          1.3482252359390259,
          1.350000023841858,
          1.399999976158142,
          1.4500000476837158,
          1.5,
          1.5499999523162842,
          1.600000023841858,
          1.6441447734832764,
          1.649999976158142,
          1.6904345750808716,
          1.7000000476837158,
          1.75,
          1.7999999523162842,
          1.850000023841858,
          1.899999976158142,
          1.9500000476837158,
          2,
          2.049999952316284,
          2.0999999046325684,
          2.1500000953674316,
          2.200000047683716,
          2.25,
          2.299999952316284,
          2.3499999046325684,
          2.4000000953674316,
          2.450000047683716,
          2.5,
          2.549999952316284,
          2.5999999046325684,
          2.6500000953674316,
          2.700000047683716,
          2.75,
          2.799999952316284,
          2.8499999046325684,
          2.9000000953674316,
          2.950000047683716,
          3,
          3.049999952316284,
          3.0999999046325684,
          3.1500000953674316,
          3.200000047683716,
          3.25,
          3.299999952316284,
          3.3499999046325684,
          3.4000000953674316,
          3.450000047683716,
          3.5,
          3.549999952316284,
          3.5999999046325684,
          3.6500000953674316,
          3.700000047683716,
          3.7498085498809814,
          3.75,
          3.799999952316284,
          3.8499999046325684,
          3.9000000953674316,
          3.950000047683716,
          4,
          4.050000190734863,
          4.099999904632568,
          4.150000095367432,
          4.181870937347412,
          4.199999809265137,
          4.25,
          4.300000190734863,
          4.349999904632568,
          4.400000095367432,
          4.449999809265137,
          4.5,
          4.550000190734863,
          4.599999904632568,
          4.650000095367432,
          4.699999809265137,
          4.75,
          4.800000190734863,
          4.849999904632568,
          4.900000095367432,
          4.949999809265137
         ],
         "y": [
          0,
          -4.936308783953791e-08,
          -5.97293410464772e-06,
          -0.0006082597537897527,
          -0.011113750748336315,
          -0.03349299356341362,
          -0.05096282809972763,
          -0.05209966003894806,
          -0.07193590700626373,
          -0.07858087867498398,
          -0.12240564078092575,
          -0.18134625256061554,
          -0.1829211711883545,
          -0.25046220421791077,
          -0.301204651594162,
          -0.33372995257377625,
          -0.34033530950546265,
          -0.3338903486728668,
          -0.3061408996582031,
          -0.27144238352775574,
          -0.26794034242630005,
          -0.26945430040359497,
          -0.288804292678833,
          -0.2901134788990021,
          -0.3258242607116699,
          -0.3661908209323883,
          -0.37711209058761597,
          -0.3768466114997864,
          -0.373767614364624,
          -0.3693610429763794,
          -0.3714647591114044,
          -0.38582268357276917,
          -0.38837137818336487,
          -0.3834211230278015,
          -0.3792687654495239,
          -0.37111547589302063,
          -0.3711766302585602,
          -0.35584738850593567,
          -0.35449138283729553,
          -0.3436622619628906,
          -0.3366867005825043,
          -0.3366861343383789,
          -0.333271324634552,
          -0.22934438288211823,
          -0.019487708806991577,
          0.04883049800992012,
          0.14274513721466064,
          0.3305394947528839,
          0.520359456539154,
          0.5263288021087646,
          0.6829213500022888,
          0.8208522200584412,
          0.9417536854743958,
          1.0510127544403076,
          1.1517460346221924,
          1.2409765720367432,
          1.2535498142242432,
          1.3391995429992676,
          1.358961582183838,
          1.456458568572998,
          1.5504499673843384,
          1.6469846963882446,
          1.759405255317688,
          1.88377845287323,
          1.9960241317749023,
          2.1052496433258057,
          2.222797155380249,
          2.345776319503784,
          2.4716334342956543,
          2.59873104095459,
          2.7262089252471924,
          2.8584511280059814,
          2.993157386779785,
          3.1284737586975098,
          3.273742914199829,
          3.430633783340454,
          3.5856220722198486,
          3.7406153678894043,
          3.9051413536071777,
          4.066384792327881,
          4.217728614807129,
          4.3623504638671875,
          4.506056308746338,
          4.653202056884766,
          4.802666664123535,
          4.956706523895264,
          5.111332416534424,
          5.249049663543701,
          5.369608402252197,
          5.4900431632995605,
          5.630098819732666,
          5.772902965545654,
          5.893928527832031,
          5.995437145233154,
          6.068028450012207,
          6.116106986999512,
          6.147198677062988,
          6.170969009399414,
          6.19439697265625,
          6.194291591644287,
          6.194214820861816,
          6.166652202606201,
          6.131786346435547,
          6.106657981872559,
          6.0847487449646,
          6.045409679412842,
          5.989416599273682,
          5.938169479370117,
          5.903652191162109,
          5.886727809906006,
          5.878007888793945,
          5.860490322113037,
          5.839465618133545,
          5.781300067901611,
          5.692890167236328,
          5.6035637855529785,
          5.519623756408691,
          5.447205543518066,
          5.354757785797119,
          5.235102653503418,
          5.112424373626709,
          4.983726501464844,
          4.851415634155273,
          4.719083309173584,
          4.583675861358643,
          4.441023826599121
         ]
        },
        {
         "type": "scatter",
         "x": [
          0,
          0.00010547317651798949,
          0.0011602049926295877,
          0.01170752290636301,
          0.05000000074505806,
          0.10000000149011612,
          0.14621099829673767,
          0.15000000596046448,
          0.19080829620361328,
          0.20000000298023224,
          0.25,
          0.2988986670970917,
          0.30000001192092896,
          0.3499999940395355,
          0.4000000059604645,
          0.44999998807907104,
          0.5,
          0.5159112811088562,
          0.550000011920929,
          0.6000000238418579,
          0.6168623566627502,
          0.6499999761581421,
          0.6978367567062378,
          0.699999988079071,
          0.75,
          0.800000011920929,
          0.8492712378501892,
          0.8500000238418579,
          0.8592928647994995,
          0.8999999761581421,
          0.914345920085907,
          0.949999988079071,
          0.9913461208343506,
          1,
          1.0066540241241455,
          1.0499999523162842,
          1.0688663721084595,
          1.100000023841858,
          1.101721167564392,
          1.1189332008361816,
          1.149999976158142,
          1.1508454084396362,
          1.1592992544174194,
          1.2000000476837158,
          1.2395292520523071,
          1.25,
          1.26457679271698,
          1.2999999523162842,
          1.3482252359390259,
          1.350000023841858,
          1.399999976158142,
          1.4500000476837158,
          1.5,
          1.5499999523162842,
          1.600000023841858,
          1.6441447734832764,
          1.649999976158142,
          1.6904345750808716,
          1.7000000476837158,
          1.75,
          1.7999999523162842,
          1.850000023841858,
          1.899999976158142,
          1.9500000476837158,
          2,
          2.049999952316284,
          2.0999999046325684,
          2.1500000953674316,
          2.200000047683716,
          2.25,
          2.299999952316284,
          2.3499999046325684,
          2.4000000953674316,
          2.450000047683716,
          2.5,
          2.549999952316284,
          2.5999999046325684,
          2.6500000953674316,
          2.700000047683716,
          2.75,
          2.799999952316284,
          2.8499999046325684,
          2.9000000953674316,
          2.950000047683716,
          3,
          3.049999952316284,
          3.0999999046325684,
          3.1500000953674316,
          3.200000047683716,
          3.25,
          3.299999952316284,
          3.3499999046325684,
          3.4000000953674316,
          3.450000047683716,
          3.5,
          3.549999952316284,
          3.5999999046325684,
          3.6500000953674316,
          3.700000047683716,
          3.7498085498809814,
          3.75,
          3.799999952316284,
          3.8499999046325684,
          3.9000000953674316,
          3.950000047683716,
          4,
          4.050000190734863,
          4.099999904632568,
          4.150000095367432,
          4.181870937347412,
          4.199999809265137,
          4.25,
          4.300000190734863,
          4.349999904632568,
          4.400000095367432,
          4.449999809265137,
          4.5,
          4.550000190734863,
          4.599999904632568,
          4.650000095367432,
          4.699999809265137,
          4.75,
          4.800000190734863,
          4.849999904632568,
          4.900000095367432,
          4.949999809265137
         ],
         "y": [
          0,
          0.0003510116948746145,
          0.003861132077872753,
          0.03897121176123619,
          0.16712835431098938,
          0.1700926572084427,
          0.11670051515102386,
          0.11245930939912796,
          0.25828614830970764,
          0.29162275791168213,
          0.3779853880405426,
          0.5456174612045288,
          0.5495030283927917,
          0.494858056306839,
          0.3134031891822815,
          0.24123649299144745,
          -0.05164370685815811,
          -0.14429832994937897,
          -0.3459705412387848,
          -0.034803781658411026,
          0.033042557537555695,
          0.16672001779079437,
          0.3226067125797272,
          0.3297664225101471,
          0.4211655557155609,
          0.43349894881248474,
          0.022904839366674423,
          0.01684774085879326,
          0.05179566890001297,
          0.20568129420280457,
          0.26720598340034485,
          0.42192813754081726,
          0.05425102263689041,
          -0.02283874712884426,
          0.02415216900408268,
          0.3321303427219391,
          0.20501959323883057,
          -0.005193859338760376,
          0.006711695343255997,
          0.12604646384716034,
          0.34295833110809326,
          0.3162367045879364,
          0.0488363541662693,
          -1.2654038667678833,
          -1.9583673477172852,
          -2.1420769691467285,
          -1.8770673274993896,
          -1.2452013492584229,
          -0.7769854068756104,
          -0.7606939673423767,
          -0.5561689138412476,
          -0.37741950154304504,
          -0.1930570751428604,
          -0.08543270081281662,
          0.060474030673503876,
          0.04981371760368347,
          0.049593064934015274,
          0.1513599455356598,
          0.1758936494588852,
          0.3451108932495117,
          0.4300521910190582,
          0.5405731201171875,
          0.49442946910858154,
          0.7009119987487793,
          0.996202290058136,
          1.1139140129089355,
          1.3053390979766846,
          1.5041382312774658,
          1.758140206336975,
          1.9976975917816162,
          2.267259359359741,
          2.4589836597442627,
          2.731670618057251,
          2.905747175216675,
          3.030031204223633,
          3.1106505393981934,
          3.2883400917053223,
          3.2691869735717773,
          3.269923686981201,
          3.3313724994659424,
          3.394118309020996,
          3.42273211479187,
          3.403033971786499,
          3.34195613861084,
          3.2936172485351562,
          3.150916814804077,
          3.1168556213378906,
          3.2007362842559814,
          3.1621060371398926,
          2.967973470687866,
          2.5732243061065674,
          2.577183723449707,
          2.5152130126953125,
          2.4775705337524414,
          2.5395572185516357,
          2.4165127277374268,
          2.345553398132324,
          2.058908462524414,
          1.8698729276657104,
          1.9244863986968994,
          1.9247000217437744,
          1.7914963960647583,
          1.5478655099868774,
          1.1626454591751099,
          1.020320177078247,
          0.9495795965194702,
          0.8007760047912598,
          0.4134974181652069,
          0.08549419045448303,
          -0.08678483217954636,
          -0.18511243164539337,
          -0.5039994716644287,
          -0.6061710119247437,
          -0.4380894899368286,
          -0.6614014506340027,
          -0.9524269104003906,
          -1.2866425514221191,
          -1.678717017173767,
          -1.5839347839355469,
          -1.9118703603744507,
          -2.2185566425323486,
          -2.5377323627471924,
          -2.9076855182647705,
          -3.2904460430145264,
          -3.619950532913208,
          -3.942479133605957
         ]
        },
        {
         "type": "scatter",
         "x": [
          0,
          0.00010547317651798949,
          0.0011602049926295877,
          0.01170752290636301,
          0.05000000074505806,
          0.10000000149011612,
          0.14621099829673767,
          0.15000000596046448,
          0.19080829620361328,
          0.20000000298023224,
          0.25,
          0.2988986670970917,
          0.30000001192092896,
          0.3499999940395355,
          0.4000000059604645,
          0.44999998807907104,
          0.5,
          0.5159112811088562,
          0.550000011920929,
          0.6000000238418579,
          0.6168623566627502,
          0.6499999761581421,
          0.6978367567062378,
          0.699999988079071,
          0.75,
          0.800000011920929,
          0.8492712378501892,
          0.8500000238418579,
          0.8592928647994995,
          0.8999999761581421,
          0.914345920085907,
          0.949999988079071,
          0.9913461208343506,
          1,
          1.0066540241241455,
          1.0499999523162842,
          1.0688663721084595,
          1.100000023841858,
          1.101721167564392,
          1.1189332008361816,
          1.149999976158142,
          1.1508454084396362,
          1.1592992544174194,
          1.2000000476837158,
          1.2395292520523071,
          1.25,
          1.26457679271698,
          1.2999999523162842,
          1.3482252359390259,
          1.350000023841858,
          1.399999976158142,
          1.4500000476837158,
          1.5,
          1.5499999523162842,
          1.600000023841858,
          1.6441447734832764,
          1.649999976158142,
          1.6904345750808716,
          1.7000000476837158,
          1.75,
          1.7999999523162842,
          1.850000023841858,
          1.899999976158142,
          1.9500000476837158,
          2,
          2.049999952316284,
          2.0999999046325684,
          2.1500000953674316,
          2.200000047683716,
          2.25,
          2.299999952316284,
          2.3499999046325684,
          2.4000000953674316,
          2.450000047683716,
          2.5,
          2.549999952316284,
          2.5999999046325684,
          2.6500000953674316,
          2.700000047683716,
          2.75,
          2.799999952316284,
          2.8499999046325684,
          2.9000000953674316,
          2.950000047683716,
          3,
          3.049999952316284,
          3.0999999046325684,
          3.1500000953674316,
          3.200000047683716,
          3.25,
          3.299999952316284,
          3.3499999046325684,
          3.4000000953674316,
          3.450000047683716,
          3.5,
          3.549999952316284,
          3.5999999046325684,
          3.6500000953674316,
          3.700000047683716,
          3.7498085498809814,
          3.75,
          3.799999952316284,
          3.8499999046325684,
          3.9000000953674316,
          3.950000047683716,
          4,
          4.050000190734863,
          4.099999904632568,
          4.150000095367432,
          4.181870937347412,
          4.199999809265137,
          4.25,
          4.300000190734863,
          4.349999904632568,
          4.400000095367432,
          4.449999809265137,
          4.5,
          4.550000190734863,
          4.599999904632568,
          4.650000095367432,
          4.699999809265137,
          4.75,
          4.800000190734863,
          4.849999904632568,
          4.900000095367432,
          4.949999809265137
         ],
         "y": [
          0,
          -0.0009360311087220907,
          -0.010296348482370377,
          -0.10391949862241745,
          -0.44537779688835144,
          -0.4514799416065216,
          -0.3058539628982544,
          -0.2942207455635071,
          -0.6790780425071716,
          -0.7668689489364624,
          -0.989192008972168,
          -1.4250019788742065,
          -1.4350663423538208,
          -1.2717866897583008,
          -0.7628193497657776,
          -0.5409954786300659,
          0.2758796513080597,
          0.5344583988189697,
          1.0957458019256592,
          0.29318201541900635,
          0.12222692370414734,
          -0.2137274146080017,
          -0.59644615650177,
          -0.613942563533783,
          -0.816893458366394,
          -0.8009170889854431,
          0.3557386100292206,
          0.37282538414001465,
          0.2898448705673218,
          -0.07340902835130692,
          -0.2199261486530304,
          -0.5860554575920105,
          0.4621439278125763,
          0.6820348501205444,
          0.5660368800163269,
          -0.1900758594274521,
          0.18351536989212036,
          0.802254319190979,
          0.77340167760849,
          0.4849291741847992,
          -0.03598691150546074,
          0.03732025623321533,
          0.7707099914550781,
          4.358715057373047,
          6.269255638122559,
          6.779659748077393,
          6.106311321258545,
          4.509965419769287,
          3.3829894065856934,
          3.343877077102661,
          2.9315381050109863,
          2.595360517501831,
          2.2490909099578857,
          2.1254665851593018,
          1.9081511497497559,
          2.132831335067749,
          2.1618518829345703,
          2.0757548809051514,
          2.056257724761963,
          1.8452935218811035,
          1.9119395017623901,
          1.946461796760559,
          2.5399887561798096,
          2.431812286376953,
          2.0559003353118896,
          2.3037641048431396,
          2.389167308807373,
          2.5198071002960205,
          2.5048084259033203,
          2.5688610076904297,
          2.5211596488952637,
          2.7600088119506836,
          2.623358964920044,
          2.7873568534851074,
          3.0266547203063965,
          3.2583653926849365,
          2.953256130218506,
          3.2658329010009766,
          3.3372535705566406,
          3.1335644721984863,
          2.9415383338928223,
          2.8654625415802,
          2.904603958129883,
          3.0003230571746826,
          2.9902632236480713,
          3.179753065109253,
          2.9992408752441406,
          2.4937984943389893,
          2.3155407905578613,
          2.488534688949585,
          3.098994731903076,
          2.580524444580078,
          2.2359373569488525,
          1.805259108543396,
          1.0856987237930298,
          0.8310145139694214,
          0.4087694585323334,
          0.5395141243934631,
          0.39530855417251587,
          -0.40053772926330566,
          -0.4036043882369995,
          -0.6994885206222534,
          -0.6965590119361877,
          -0.31080225110054016,
          -0.5673877000808716,
          -1.0075886249542236,
          -1.2336821556091309,
          -0.8190444707870483,
          -0.5628744959831238,
          -0.49919846653938293,
          -0.4627276659011841,
          -0.23677271604537964,
          -0.601219654083252,
          -1.716867446899414,
          -1.8128855228424072,
          -1.752190351486206,
          -1.5956394672393799,
          -1.2901198863983154,
          -2.3791754245758057,
          -2.384856700897217,
          -2.495685577392578,
          -2.6231744289398193,
          -2.641552448272705,
          -2.6267507076263428,
          -2.7667348384857178,
          -2.923335552215576
         ]
        }
       ],
       "layout": {
        "template": {
         "data": {
          "bar": [
           {
            "error_x": {
             "color": "#2a3f5f"
            },
            "error_y": {
             "color": "#2a3f5f"
            },
            "marker": {
             "line": {
              "color": "#E5ECF6",
              "width": 0.5
             }
            },
            "type": "bar"
           }
          ],
          "barpolar": [
           {
            "marker": {
             "line": {
              "color": "#E5ECF6",
              "width": 0.5
             }
            },
            "type": "barpolar"
           }
          ],
          "carpet": [
           {
            "aaxis": {
             "endlinecolor": "#2a3f5f",
             "gridcolor": "white",
             "linecolor": "white",
             "minorgridcolor": "white",
             "startlinecolor": "#2a3f5f"
            },
            "baxis": {
             "endlinecolor": "#2a3f5f",
             "gridcolor": "white",
             "linecolor": "white",
             "minorgridcolor": "white",
             "startlinecolor": "#2a3f5f"
            },
            "type": "carpet"
           }
          ],
          "choropleth": [
           {
            "colorbar": {
             "outlinewidth": 0,
             "ticks": ""
            },
            "type": "choropleth"
           }
          ],
          "contour": [
           {
            "colorbar": {
             "outlinewidth": 0,
             "ticks": ""
            },
            "colorscale": [
             [
              0,
              "#0d0887"
             ],
             [
              0.1111111111111111,
              "#46039f"
             ],
             [
              0.2222222222222222,
              "#7201a8"
             ],
             [
              0.3333333333333333,
              "#9c179e"
             ],
             [
              0.4444444444444444,
              "#bd3786"
             ],
             [
              0.5555555555555556,
              "#d8576b"
             ],
             [
              0.6666666666666666,
              "#ed7953"
             ],
             [
              0.7777777777777778,
              "#fb9f3a"
             ],
             [
              0.8888888888888888,
              "#fdca26"
             ],
             [
              1,
              "#f0f921"
             ]
            ],
            "type": "contour"
           }
          ],
          "contourcarpet": [
           {
            "colorbar": {
             "outlinewidth": 0,
             "ticks": ""
            },
            "type": "contourcarpet"
           }
          ],
          "heatmap": [
           {
            "colorbar": {
             "outlinewidth": 0,
             "ticks": ""
            },
            "colorscale": [
             [
              0,
              "#0d0887"
             ],
             [
              0.1111111111111111,
              "#46039f"
             ],
             [
              0.2222222222222222,
              "#7201a8"
             ],
             [
              0.3333333333333333,
              "#9c179e"
             ],
             [
              0.4444444444444444,
              "#bd3786"
             ],
             [
              0.5555555555555556,
              "#d8576b"
             ],
             [
              0.6666666666666666,
              "#ed7953"
             ],
             [
              0.7777777777777778,
              "#fb9f3a"
             ],
             [
              0.8888888888888888,
              "#fdca26"
             ],
             [
              1,
              "#f0f921"
             ]
            ],
            "type": "heatmap"
           }
          ],
          "heatmapgl": [
           {
            "colorbar": {
             "outlinewidth": 0,
             "ticks": ""
            },
            "colorscale": [
             [
              0,
              "#0d0887"
             ],
             [
              0.1111111111111111,
              "#46039f"
             ],
             [
              0.2222222222222222,
              "#7201a8"
             ],
             [
              0.3333333333333333,
              "#9c179e"
             ],
             [
              0.4444444444444444,
              "#bd3786"
             ],
             [
              0.5555555555555556,
              "#d8576b"
             ],
             [
              0.6666666666666666,
              "#ed7953"
             ],
             [
              0.7777777777777778,
              "#fb9f3a"
             ],
             [
              0.8888888888888888,
              "#fdca26"
             ],
             [
              1,
              "#f0f921"
             ]
            ],
            "type": "heatmapgl"
           }
          ],
          "histogram": [
           {
            "marker": {
             "colorbar": {
              "outlinewidth": 0,
              "ticks": ""
             }
            },
            "type": "histogram"
           }
          ],
          "histogram2d": [
           {
            "colorbar": {
             "outlinewidth": 0,
             "ticks": ""
            },
            "colorscale": [
             [
              0,
              "#0d0887"
             ],
             [
              0.1111111111111111,
              "#46039f"
             ],
             [
              0.2222222222222222,
              "#7201a8"
             ],
             [
              0.3333333333333333,
              "#9c179e"
             ],
             [
              0.4444444444444444,
              "#bd3786"
             ],
             [
              0.5555555555555556,
              "#d8576b"
             ],
             [
              0.6666666666666666,
              "#ed7953"
             ],
             [
              0.7777777777777778,
              "#fb9f3a"
             ],
             [
              0.8888888888888888,
              "#fdca26"
             ],
             [
              1,
              "#f0f921"
             ]
            ],
            "type": "histogram2d"
           }
          ],
          "histogram2dcontour": [
           {
            "colorbar": {
             "outlinewidth": 0,
             "ticks": ""
            },
            "colorscale": [
             [
              0,
              "#0d0887"
             ],
             [
              0.1111111111111111,
              "#46039f"
             ],
             [
              0.2222222222222222,
              "#7201a8"
             ],
             [
              0.3333333333333333,
              "#9c179e"
             ],
             [
              0.4444444444444444,
              "#bd3786"
             ],
             [
              0.5555555555555556,
              "#d8576b"
             ],
             [
              0.6666666666666666,
              "#ed7953"
             ],
             [
              0.7777777777777778,
              "#fb9f3a"
             ],
             [
              0.8888888888888888,
              "#fdca26"
             ],
             [
              1,
              "#f0f921"
             ]
            ],
            "type": "histogram2dcontour"
           }
          ],
          "mesh3d": [
           {
            "colorbar": {
             "outlinewidth": 0,
             "ticks": ""
            },
            "type": "mesh3d"
           }
          ],
          "parcoords": [
           {
            "line": {
             "colorbar": {
              "outlinewidth": 0,
              "ticks": ""
             }
            },
            "type": "parcoords"
           }
          ],
          "pie": [
           {
            "automargin": true,
            "type": "pie"
           }
          ],
          "scatter": [
           {
            "marker": {
             "colorbar": {
              "outlinewidth": 0,
              "ticks": ""
             }
            },
            "type": "scatter"
           }
          ],
          "scatter3d": [
           {
            "line": {
             "colorbar": {
              "outlinewidth": 0,
              "ticks": ""
             }
            },
            "marker": {
             "colorbar": {
              "outlinewidth": 0,
              "ticks": ""
             }
            },
            "type": "scatter3d"
           }
          ],
          "scattercarpet": [
           {
            "marker": {
             "colorbar": {
              "outlinewidth": 0,
              "ticks": ""
             }
            },
            "type": "scattercarpet"
           }
          ],
          "scattergeo": [
           {
            "marker": {
             "colorbar": {
              "outlinewidth": 0,
              "ticks": ""
             }
            },
            "type": "scattergeo"
           }
          ],
          "scattergl": [
           {
            "marker": {
             "colorbar": {
              "outlinewidth": 0,
              "ticks": ""
             }
            },
            "type": "scattergl"
           }
          ],
          "scattermapbox": [
           {
            "marker": {
             "colorbar": {
              "outlinewidth": 0,
              "ticks": ""
             }
            },
            "type": "scattermapbox"
           }
          ],
          "scatterpolar": [
           {
            "marker": {
             "colorbar": {
              "outlinewidth": 0,
              "ticks": ""
             }
            },
            "type": "scatterpolar"
           }
          ],
          "scatterpolargl": [
           {
            "marker": {
             "colorbar": {
              "outlinewidth": 0,
              "ticks": ""
             }
            },
            "type": "scatterpolargl"
           }
          ],
          "scatterternary": [
           {
            "marker": {
             "colorbar": {
              "outlinewidth": 0,
              "ticks": ""
             }
            },
            "type": "scatterternary"
           }
          ],
          "surface": [
           {
            "colorbar": {
             "outlinewidth": 0,
             "ticks": ""
            },
            "colorscale": [
             [
              0,
              "#0d0887"
             ],
             [
              0.1111111111111111,
              "#46039f"
             ],
             [
              0.2222222222222222,
              "#7201a8"
             ],
             [
              0.3333333333333333,
              "#9c179e"
             ],
             [
              0.4444444444444444,
              "#bd3786"
             ],
             [
              0.5555555555555556,
              "#d8576b"
             ],
             [
              0.6666666666666666,
              "#ed7953"
             ],
             [
              0.7777777777777778,
              "#fb9f3a"
             ],
             [
              0.8888888888888888,
              "#fdca26"
             ],
             [
              1,
              "#f0f921"
             ]
            ],
            "type": "surface"
           }
          ],
          "table": [
           {
            "cells": {
             "fill": {
              "color": "#EBF0F8"
             },
             "line": {
              "color": "white"
             }
            },
            "header": {
             "fill": {
              "color": "#C8D4E3"
             },
             "line": {
              "color": "white"
             }
            },
            "type": "table"
           }
          ]
         },
         "layout": {
          "annotationdefaults": {
           "arrowcolor": "#2a3f5f",
           "arrowhead": 0,
           "arrowwidth": 1
          },
          "coloraxis": {
           "colorbar": {
            "outlinewidth": 0,
            "ticks": ""
           }
          },
          "colorscale": {
           "diverging": [
            [
             0,
             "#8e0152"
            ],
            [
             0.1,
             "#c51b7d"
            ],
            [
             0.2,
             "#de77ae"
            ],
            [
             0.3,
             "#f1b6da"
            ],
            [
             0.4,
             "#fde0ef"
            ],
            [
             0.5,
             "#f7f7f7"
            ],
            [
             0.6,
             "#e6f5d0"
            ],
            [
             0.7,
             "#b8e186"
            ],
            [
             0.8,
             "#7fbc41"
            ],
            [
             0.9,
             "#4d9221"
            ],
            [
             1,
             "#276419"
            ]
           ],
           "sequential": [
            [
             0,
             "#0d0887"
            ],
            [
             0.1111111111111111,
             "#46039f"
            ],
            [
             0.2222222222222222,
             "#7201a8"
            ],
            [
             0.3333333333333333,
             "#9c179e"
            ],
            [
             0.4444444444444444,
             "#bd3786"
            ],
            [
             0.5555555555555556,
             "#d8576b"
            ],
            [
             0.6666666666666666,
             "#ed7953"
            ],
            [
             0.7777777777777778,
             "#fb9f3a"
            ],
            [
             0.8888888888888888,
             "#fdca26"
            ],
            [
             1,
             "#f0f921"
            ]
           ],
           "sequentialminus": [
            [
             0,
             "#0d0887"
            ],
            [
             0.1111111111111111,
             "#46039f"
            ],
            [
             0.2222222222222222,
             "#7201a8"
            ],
            [
             0.3333333333333333,
             "#9c179e"
            ],
            [
             0.4444444444444444,
             "#bd3786"
            ],
            [
             0.5555555555555556,
             "#d8576b"
            ],
            [
             0.6666666666666666,
             "#ed7953"
            ],
            [
             0.7777777777777778,
             "#fb9f3a"
            ],
            [
             0.8888888888888888,
             "#fdca26"
            ],
            [
             1,
             "#f0f921"
            ]
           ]
          },
          "colorway": [
           "#636efa",
           "#EF553B",
           "#00cc96",
           "#ab63fa",
           "#FFA15A",
           "#19d3f3",
           "#FF6692",
           "#B6E880",
           "#FF97FF",
           "#FECB52"
          ],
          "font": {
           "color": "#2a3f5f"
          },
          "geo": {
           "bgcolor": "white",
           "lakecolor": "white",
           "landcolor": "#E5ECF6",
           "showlakes": true,
           "showland": true,
           "subunitcolor": "white"
          },
          "hoverlabel": {
           "align": "left"
          },
          "hovermode": "closest",
          "mapbox": {
           "style": "light"
          },
          "paper_bgcolor": "white",
          "plot_bgcolor": "#E5ECF6",
          "polar": {
           "angularaxis": {
            "gridcolor": "white",
            "linecolor": "white",
            "ticks": ""
           },
           "bgcolor": "#E5ECF6",
           "radialaxis": {
            "gridcolor": "white",
            "linecolor": "white",
            "ticks": ""
           }
          },
          "scene": {
           "xaxis": {
            "backgroundcolor": "#E5ECF6",
            "gridcolor": "white",
            "gridwidth": 2,
            "linecolor": "white",
            "showbackground": true,
            "ticks": "",
            "zerolinecolor": "white"
           },
           "yaxis": {
            "backgroundcolor": "#E5ECF6",
            "gridcolor": "white",
            "gridwidth": 2,
            "linecolor": "white",
            "showbackground": true,
            "ticks": "",
            "zerolinecolor": "white"
           },
           "zaxis": {
            "backgroundcolor": "#E5ECF6",
            "gridcolor": "white",
            "gridwidth": 2,
            "linecolor": "white",
            "showbackground": true,
            "ticks": "",
            "zerolinecolor": "white"
           }
          },
          "shapedefaults": {
           "line": {
            "color": "#2a3f5f"
           }
          },
          "ternary": {
           "aaxis": {
            "gridcolor": "white",
            "linecolor": "white",
            "ticks": ""
           },
           "baxis": {
            "gridcolor": "white",
            "linecolor": "white",
            "ticks": ""
           },
           "bgcolor": "#E5ECF6",
           "caxis": {
            "gridcolor": "white",
            "linecolor": "white",
            "ticks": ""
           }
          },
          "title": {
           "x": 0.05
          },
          "xaxis": {
           "automargin": true,
           "gridcolor": "white",
           "linecolor": "white",
           "ticks": "",
           "title": {
            "standoff": 15
           },
           "zerolinecolor": "white",
           "zerolinewidth": 2
          },
          "yaxis": {
           "automargin": true,
           "gridcolor": "white",
           "linecolor": "white",
           "ticks": "",
           "title": {
            "standoff": 15
           },
           "zerolinecolor": "white",
           "zerolinewidth": 2
          }
         }
        }
       }
      },
      "text/html": [
       "<div>\n",
       "        \n",
       "        \n",
       "            <div id=\"77842d52-9ffd-4ed7-88cd-84bdb5a4ecd8\" class=\"plotly-graph-div\" style=\"height:525px; width:100%;\"></div>\n",
       "            <script type=\"text/javascript\">\n",
       "                require([\"plotly\"], function(Plotly) {\n",
       "                    window.PLOTLYENV=window.PLOTLYENV || {};\n",
       "                    \n",
       "                if (document.getElementById(\"77842d52-9ffd-4ed7-88cd-84bdb5a4ecd8\")) {\n",
       "                    Plotly.newPlot(\n",
       "                        '77842d52-9ffd-4ed7-88cd-84bdb5a4ecd8',\n",
       "                        [{\"type\": \"scatter\", \"x\": [0.0, 0.00010547317651798949, 0.0011602049926295877, 0.01170752290636301, 0.05000000074505806, 0.10000000149011612, 0.14621099829673767, 0.15000000596046448, 0.19080829620361328, 0.20000000298023224, 0.25, 0.2988986670970917, 0.30000001192092896, 0.3499999940395355, 0.4000000059604645, 0.44999998807907104, 0.5, 0.5159112811088562, 0.550000011920929, 0.6000000238418579, 0.6168623566627502, 0.6499999761581421, 0.6978367567062378, 0.699999988079071, 0.75, 0.800000011920929, 0.8492712378501892, 0.8500000238418579, 0.8592928647994995, 0.8999999761581421, 0.914345920085907, 0.949999988079071, 0.9913461208343506, 1.0, 1.0066540241241455, 1.0499999523162842, 1.0688663721084595, 1.100000023841858, 1.101721167564392, 1.1189332008361816, 1.149999976158142, 1.1508454084396362, 1.1592992544174194, 1.2000000476837158, 1.2395292520523071, 1.25, 1.26457679271698, 1.2999999523162842, 1.3482252359390259, 1.350000023841858, 1.399999976158142, 1.4500000476837158, 1.5, 1.5499999523162842, 1.600000023841858, 1.6441447734832764, 1.649999976158142, 1.6904345750808716, 1.7000000476837158, 1.75, 1.7999999523162842, 1.850000023841858, 1.899999976158142, 1.9500000476837158, 2.0, 2.049999952316284, 2.0999999046325684, 2.1500000953674316, 2.200000047683716, 2.25, 2.299999952316284, 2.3499999046325684, 2.4000000953674316, 2.450000047683716, 2.5, 2.549999952316284, 2.5999999046325684, 2.6500000953674316, 2.700000047683716, 2.75, 2.799999952316284, 2.8499999046325684, 2.9000000953674316, 2.950000047683716, 3.0, 3.049999952316284, 3.0999999046325684, 3.1500000953674316, 3.200000047683716, 3.25, 3.299999952316284, 3.3499999046325684, 3.4000000953674316, 3.450000047683716, 3.5, 3.549999952316284, 3.5999999046325684, 3.6500000953674316, 3.700000047683716, 3.7498085498809814, 3.75, 3.799999952316284, 3.8499999046325684, 3.9000000953674316, 3.950000047683716, 4.0, 4.050000190734863, 4.099999904632568, 4.150000095367432, 4.181870937347412, 4.199999809265137, 4.25, 4.300000190734863, 4.349999904632568, 4.400000095367432, 4.449999809265137, 4.5, 4.550000190734863, 4.599999904632568, 4.650000095367432, 4.699999809265137, 4.75, 4.800000190734863, 4.849999904632568, 4.900000095367432, 4.949999809265137], \"y\": [3.1415927410125732, 3.1415927410125732, 3.141594886779785, 3.1418209075927734, 3.145761728286743, 3.1541736125946045, 3.160787343978882, 3.161221504211426, 3.168776035308838, 3.1713030338287354, 3.188009262084961, 3.2105531692504883, 3.211156129837036, 3.2372066974639893, 3.257356882095337, 3.2711899280548096, 3.2759180068969727, 3.274359941482544, 3.266019582748413, 3.2565062046051025, 3.2564914226531982, 3.259799003601074, 3.271486282348633, 3.2721917629241943, 3.2909326553344727, 3.312257766723633, 3.323477268218994, 3.3234918117523193, 3.323810577392578, 3.329045534133911, 3.332437038421631, 3.3447136878967285, 3.3545491695404053, 3.3546853065490723, 3.354689598083496, 3.362398624420166, 3.367465019226074, 3.3705809116363525, 3.370582342147827, 3.3717241287231445, 3.3790037631988525, 3.379282236099243, 3.3808257579803467, 3.3562796115875244, 3.2926268577575684, 3.2711575031280518, 3.24186372756958, 3.1866509914398193, 3.1380863189697266, 3.1367218494415283, 3.1038990020751953, 3.0806381702423096, 3.0664455890655518, 3.059497594833374, 3.0588948726654053, 3.061272382736206, 3.06156325340271, 3.065617084503174, 3.0671820640563965, 3.0801990032196045, 3.099496603012085, 3.1236748695373535, 3.1492972373962402, 3.179107904434204, 3.2215282917022705, 3.2740871906280518, 3.3344178199768066, 3.404496431350708, 3.485954523086548, 3.579754114151001, 3.686342239379883, 3.8044538497924805, 3.9342901706695557, 4.075314044952393, 4.223888397216797, 4.377682685852051, 4.537826061248779, 4.702118873596191, 4.8658905029296875, 5.031065940856934, 5.199334144592285, 5.369947910308838, 5.5408453941345215, 5.7097368240356445, 5.87579870223999, 6.037130832672119, 6.193789482116699, 6.35154914855957, 6.510583400726318, 6.663865566253662, 6.802443027496338, 6.930880069732666, 7.057991027832031, 7.1826677322387695, 7.30801248550415, 7.431906223297119, 7.550958633422852, 7.661078929901123, 7.759291172027588, 7.8537774085998535, 7.8541460037231445, 7.947040557861328, 8.030503273010254, 8.098238945007324, 8.152783393859863, 8.202006340026855, 8.245745658874512, 8.276073455810547, 8.288537979125977, 8.288517951965332, 8.286054611206055, 8.268843650817871, 8.241137504577637, 8.215170860290527, 8.187788009643555, 8.147553443908691, 8.091692924499512, 8.017658233642578, 7.9365386962890625, 7.84940242767334, 7.746453762054443, 7.627876281738281, 7.492007255554199, 7.337247371673584, 7.164682388305664, 6.97573184967041]}, {\"type\": \"scatter\", \"x\": [0.0, 0.00010547317651798949, 0.0011602049926295877, 0.01170752290636301, 0.05000000074505806, 0.10000000149011612, 0.14621099829673767, 0.15000000596046448, 0.19080829620361328, 0.20000000298023224, 0.25, 0.2988986670970917, 0.30000001192092896, 0.3499999940395355, 0.4000000059604645, 0.44999998807907104, 0.5, 0.5159112811088562, 0.550000011920929, 0.6000000238418579, 0.6168623566627502, 0.6499999761581421, 0.6978367567062378, 0.699999988079071, 0.75, 0.800000011920929, 0.8492712378501892, 0.8500000238418579, 0.8592928647994995, 0.8999999761581421, 0.914345920085907, 0.949999988079071, 0.9913461208343506, 1.0, 1.0066540241241455, 1.0499999523162842, 1.0688663721084595, 1.100000023841858, 1.101721167564392, 1.1189332008361816, 1.149999976158142, 1.1508454084396362, 1.1592992544174194, 1.2000000476837158, 1.2395292520523071, 1.25, 1.26457679271698, 1.2999999523162842, 1.3482252359390259, 1.350000023841858, 1.399999976158142, 1.4500000476837158, 1.5, 1.5499999523162842, 1.600000023841858, 1.6441447734832764, 1.649999976158142, 1.6904345750808716, 1.7000000476837158, 1.75, 1.7999999523162842, 1.850000023841858, 1.899999976158142, 1.9500000476837158, 2.0, 2.049999952316284, 2.0999999046325684, 2.1500000953674316, 2.200000047683716, 2.25, 2.299999952316284, 2.3499999046325684, 2.4000000953674316, 2.450000047683716, 2.5, 2.549999952316284, 2.5999999046325684, 2.6500000953674316, 2.700000047683716, 2.75, 2.799999952316284, 2.8499999046325684, 2.9000000953674316, 2.950000047683716, 3.0, 3.049999952316284, 3.0999999046325684, 3.1500000953674316, 3.200000047683716, 3.25, 3.299999952316284, 3.3499999046325684, 3.4000000953674316, 3.450000047683716, 3.5, 3.549999952316284, 3.5999999046325684, 3.6500000953674316, 3.700000047683716, 3.7498085498809814, 3.75, 3.799999952316284, 3.8499999046325684, 3.9000000953674316, 3.950000047683716, 4.0, 4.050000190734863, 4.099999904632568, 4.150000095367432, 4.181870937347412, 4.199999809265137, 4.25, 4.300000190734863, 4.349999904632568, 4.400000095367432, 4.449999809265137, 4.5, 4.550000190734863, 4.599999904632568, 4.650000095367432, 4.699999809265137, 4.75, 4.800000190734863, 4.849999904632568, 4.900000095367432, 4.949999809265137], \"y\": [0.0, -4.936308783953791e-08, -5.97293410464772e-06, -0.0006082597537897527, -0.011113750748336315, -0.03349299356341362, -0.05096282809972763, -0.05209966003894806, -0.07193590700626373, -0.07858087867498398, -0.12240564078092575, -0.18134625256061554, -0.1829211711883545, -0.25046220421791077, -0.301204651594162, -0.33372995257377625, -0.34033530950546265, -0.3338903486728668, -0.3061408996582031, -0.27144238352775574, -0.26794034242630005, -0.26945430040359497, -0.288804292678833, -0.2901134788990021, -0.3258242607116699, -0.3661908209323883, -0.37711209058761597, -0.3768466114997864, -0.373767614364624, -0.3693610429763794, -0.3714647591114044, -0.38582268357276917, -0.38837137818336487, -0.3834211230278015, -0.3792687654495239, -0.37111547589302063, -0.3711766302585602, -0.35584738850593567, -0.35449138283729553, -0.3436622619628906, -0.3366867005825043, -0.3366861343383789, -0.333271324634552, -0.22934438288211823, -0.019487708806991577, 0.04883049800992012, 0.14274513721466064, 0.3305394947528839, 0.520359456539154, 0.5263288021087646, 0.6829213500022888, 0.8208522200584412, 0.9417536854743958, 1.0510127544403076, 1.1517460346221924, 1.2409765720367432, 1.2535498142242432, 1.3391995429992676, 1.358961582183838, 1.456458568572998, 1.5504499673843384, 1.6469846963882446, 1.759405255317688, 1.88377845287323, 1.9960241317749023, 2.1052496433258057, 2.222797155380249, 2.345776319503784, 2.4716334342956543, 2.59873104095459, 2.7262089252471924, 2.8584511280059814, 2.993157386779785, 3.1284737586975098, 3.273742914199829, 3.430633783340454, 3.5856220722198486, 3.7406153678894043, 3.9051413536071777, 4.066384792327881, 4.217728614807129, 4.3623504638671875, 4.506056308746338, 4.653202056884766, 4.802666664123535, 4.956706523895264, 5.111332416534424, 5.249049663543701, 5.369608402252197, 5.4900431632995605, 5.630098819732666, 5.772902965545654, 5.893928527832031, 5.995437145233154, 6.068028450012207, 6.116106986999512, 6.147198677062988, 6.170969009399414, 6.19439697265625, 6.194291591644287, 6.194214820861816, 6.166652202606201, 6.131786346435547, 6.106657981872559, 6.0847487449646, 6.045409679412842, 5.989416599273682, 5.938169479370117, 5.903652191162109, 5.886727809906006, 5.878007888793945, 5.860490322113037, 5.839465618133545, 5.781300067901611, 5.692890167236328, 5.6035637855529785, 5.519623756408691, 5.447205543518066, 5.354757785797119, 5.235102653503418, 5.112424373626709, 4.983726501464844, 4.851415634155273, 4.719083309173584, 4.583675861358643, 4.441023826599121]}, {\"type\": \"scatter\", \"x\": [0.0, 0.00010547317651798949, 0.0011602049926295877, 0.01170752290636301, 0.05000000074505806, 0.10000000149011612, 0.14621099829673767, 0.15000000596046448, 0.19080829620361328, 0.20000000298023224, 0.25, 0.2988986670970917, 0.30000001192092896, 0.3499999940395355, 0.4000000059604645, 0.44999998807907104, 0.5, 0.5159112811088562, 0.550000011920929, 0.6000000238418579, 0.6168623566627502, 0.6499999761581421, 0.6978367567062378, 0.699999988079071, 0.75, 0.800000011920929, 0.8492712378501892, 0.8500000238418579, 0.8592928647994995, 0.8999999761581421, 0.914345920085907, 0.949999988079071, 0.9913461208343506, 1.0, 1.0066540241241455, 1.0499999523162842, 1.0688663721084595, 1.100000023841858, 1.101721167564392, 1.1189332008361816, 1.149999976158142, 1.1508454084396362, 1.1592992544174194, 1.2000000476837158, 1.2395292520523071, 1.25, 1.26457679271698, 1.2999999523162842, 1.3482252359390259, 1.350000023841858, 1.399999976158142, 1.4500000476837158, 1.5, 1.5499999523162842, 1.600000023841858, 1.6441447734832764, 1.649999976158142, 1.6904345750808716, 1.7000000476837158, 1.75, 1.7999999523162842, 1.850000023841858, 1.899999976158142, 1.9500000476837158, 2.0, 2.049999952316284, 2.0999999046325684, 2.1500000953674316, 2.200000047683716, 2.25, 2.299999952316284, 2.3499999046325684, 2.4000000953674316, 2.450000047683716, 2.5, 2.549999952316284, 2.5999999046325684, 2.6500000953674316, 2.700000047683716, 2.75, 2.799999952316284, 2.8499999046325684, 2.9000000953674316, 2.950000047683716, 3.0, 3.049999952316284, 3.0999999046325684, 3.1500000953674316, 3.200000047683716, 3.25, 3.299999952316284, 3.3499999046325684, 3.4000000953674316, 3.450000047683716, 3.5, 3.549999952316284, 3.5999999046325684, 3.6500000953674316, 3.700000047683716, 3.7498085498809814, 3.75, 3.799999952316284, 3.8499999046325684, 3.9000000953674316, 3.950000047683716, 4.0, 4.050000190734863, 4.099999904632568, 4.150000095367432, 4.181870937347412, 4.199999809265137, 4.25, 4.300000190734863, 4.349999904632568, 4.400000095367432, 4.449999809265137, 4.5, 4.550000190734863, 4.599999904632568, 4.650000095367432, 4.699999809265137, 4.75, 4.800000190734863, 4.849999904632568, 4.900000095367432, 4.949999809265137], \"y\": [0.0, 0.0003510116948746145, 0.003861132077872753, 0.03897121176123619, 0.16712835431098938, 0.1700926572084427, 0.11670051515102386, 0.11245930939912796, 0.25828614830970764, 0.29162275791168213, 0.3779853880405426, 0.5456174612045288, 0.5495030283927917, 0.494858056306839, 0.3134031891822815, 0.24123649299144745, -0.05164370685815811, -0.14429832994937897, -0.3459705412387848, -0.034803781658411026, 0.033042557537555695, 0.16672001779079437, 0.3226067125797272, 0.3297664225101471, 0.4211655557155609, 0.43349894881248474, 0.022904839366674423, 0.01684774085879326, 0.05179566890001297, 0.20568129420280457, 0.26720598340034485, 0.42192813754081726, 0.05425102263689041, -0.02283874712884426, 0.02415216900408268, 0.3321303427219391, 0.20501959323883057, -0.005193859338760376, 0.006711695343255997, 0.12604646384716034, 0.34295833110809326, 0.3162367045879364, 0.0488363541662693, -1.2654038667678833, -1.9583673477172852, -2.1420769691467285, -1.8770673274993896, -1.2452013492584229, -0.7769854068756104, -0.7606939673423767, -0.5561689138412476, -0.37741950154304504, -0.1930570751428604, -0.08543270081281662, 0.060474030673503876, 0.04981371760368347, 0.049593064934015274, 0.1513599455356598, 0.1758936494588852, 0.3451108932495117, 0.4300521910190582, 0.5405731201171875, 0.49442946910858154, 0.7009119987487793, 0.996202290058136, 1.1139140129089355, 1.3053390979766846, 1.5041382312774658, 1.758140206336975, 1.9976975917816162, 2.267259359359741, 2.4589836597442627, 2.731670618057251, 2.905747175216675, 3.030031204223633, 3.1106505393981934, 3.2883400917053223, 3.2691869735717773, 3.269923686981201, 3.3313724994659424, 3.394118309020996, 3.42273211479187, 3.403033971786499, 3.34195613861084, 3.2936172485351562, 3.150916814804077, 3.1168556213378906, 3.2007362842559814, 3.1621060371398926, 2.967973470687866, 2.5732243061065674, 2.577183723449707, 2.5152130126953125, 2.4775705337524414, 2.5395572185516357, 2.4165127277374268, 2.345553398132324, 2.058908462524414, 1.8698729276657104, 1.9244863986968994, 1.9247000217437744, 1.7914963960647583, 1.5478655099868774, 1.1626454591751099, 1.020320177078247, 0.9495795965194702, 0.8007760047912598, 0.4134974181652069, 0.08549419045448303, -0.08678483217954636, -0.18511243164539337, -0.5039994716644287, -0.6061710119247437, -0.4380894899368286, -0.6614014506340027, -0.9524269104003906, -1.2866425514221191, -1.678717017173767, -1.5839347839355469, -1.9118703603744507, -2.2185566425323486, -2.5377323627471924, -2.9076855182647705, -3.2904460430145264, -3.619950532913208, -3.942479133605957]}, {\"type\": \"scatter\", \"x\": [0.0, 0.00010547317651798949, 0.0011602049926295877, 0.01170752290636301, 0.05000000074505806, 0.10000000149011612, 0.14621099829673767, 0.15000000596046448, 0.19080829620361328, 0.20000000298023224, 0.25, 0.2988986670970917, 0.30000001192092896, 0.3499999940395355, 0.4000000059604645, 0.44999998807907104, 0.5, 0.5159112811088562, 0.550000011920929, 0.6000000238418579, 0.6168623566627502, 0.6499999761581421, 0.6978367567062378, 0.699999988079071, 0.75, 0.800000011920929, 0.8492712378501892, 0.8500000238418579, 0.8592928647994995, 0.8999999761581421, 0.914345920085907, 0.949999988079071, 0.9913461208343506, 1.0, 1.0066540241241455, 1.0499999523162842, 1.0688663721084595, 1.100000023841858, 1.101721167564392, 1.1189332008361816, 1.149999976158142, 1.1508454084396362, 1.1592992544174194, 1.2000000476837158, 1.2395292520523071, 1.25, 1.26457679271698, 1.2999999523162842, 1.3482252359390259, 1.350000023841858, 1.399999976158142, 1.4500000476837158, 1.5, 1.5499999523162842, 1.600000023841858, 1.6441447734832764, 1.649999976158142, 1.6904345750808716, 1.7000000476837158, 1.75, 1.7999999523162842, 1.850000023841858, 1.899999976158142, 1.9500000476837158, 2.0, 2.049999952316284, 2.0999999046325684, 2.1500000953674316, 2.200000047683716, 2.25, 2.299999952316284, 2.3499999046325684, 2.4000000953674316, 2.450000047683716, 2.5, 2.549999952316284, 2.5999999046325684, 2.6500000953674316, 2.700000047683716, 2.75, 2.799999952316284, 2.8499999046325684, 2.9000000953674316, 2.950000047683716, 3.0, 3.049999952316284, 3.0999999046325684, 3.1500000953674316, 3.200000047683716, 3.25, 3.299999952316284, 3.3499999046325684, 3.4000000953674316, 3.450000047683716, 3.5, 3.549999952316284, 3.5999999046325684, 3.6500000953674316, 3.700000047683716, 3.7498085498809814, 3.75, 3.799999952316284, 3.8499999046325684, 3.9000000953674316, 3.950000047683716, 4.0, 4.050000190734863, 4.099999904632568, 4.150000095367432, 4.181870937347412, 4.199999809265137, 4.25, 4.300000190734863, 4.349999904632568, 4.400000095367432, 4.449999809265137, 4.5, 4.550000190734863, 4.599999904632568, 4.650000095367432, 4.699999809265137, 4.75, 4.800000190734863, 4.849999904632568, 4.900000095367432, 4.949999809265137], \"y\": [0.0, -0.0009360311087220907, -0.010296348482370377, -0.10391949862241745, -0.44537779688835144, -0.4514799416065216, -0.3058539628982544, -0.2942207455635071, -0.6790780425071716, -0.7668689489364624, -0.989192008972168, -1.4250019788742065, -1.4350663423538208, -1.2717866897583008, -0.7628193497657776, -0.5409954786300659, 0.2758796513080597, 0.5344583988189697, 1.0957458019256592, 0.29318201541900635, 0.12222692370414734, -0.2137274146080017, -0.59644615650177, -0.613942563533783, -0.816893458366394, -0.8009170889854431, 0.3557386100292206, 0.37282538414001465, 0.2898448705673218, -0.07340902835130692, -0.2199261486530304, -0.5860554575920105, 0.4621439278125763, 0.6820348501205444, 0.5660368800163269, -0.1900758594274521, 0.18351536989212036, 0.802254319190979, 0.77340167760849, 0.4849291741847992, -0.03598691150546074, 0.03732025623321533, 0.7707099914550781, 4.358715057373047, 6.269255638122559, 6.779659748077393, 6.106311321258545, 4.509965419769287, 3.3829894065856934, 3.343877077102661, 2.9315381050109863, 2.595360517501831, 2.2490909099578857, 2.1254665851593018, 1.9081511497497559, 2.132831335067749, 2.1618518829345703, 2.0757548809051514, 2.056257724761963, 1.8452935218811035, 1.9119395017623901, 1.946461796760559, 2.5399887561798096, 2.431812286376953, 2.0559003353118896, 2.3037641048431396, 2.389167308807373, 2.5198071002960205, 2.5048084259033203, 2.5688610076904297, 2.5211596488952637, 2.7600088119506836, 2.623358964920044, 2.7873568534851074, 3.0266547203063965, 3.2583653926849365, 2.953256130218506, 3.2658329010009766, 3.3372535705566406, 3.1335644721984863, 2.9415383338928223, 2.8654625415802, 2.904603958129883, 3.0003230571746826, 2.9902632236480713, 3.179753065109253, 2.9992408752441406, 2.4937984943389893, 2.3155407905578613, 2.488534688949585, 3.098994731903076, 2.580524444580078, 2.2359373569488525, 1.805259108543396, 1.0856987237930298, 0.8310145139694214, 0.4087694585323334, 0.5395141243934631, 0.39530855417251587, -0.40053772926330566, -0.4036043882369995, -0.6994885206222534, -0.6965590119361877, -0.31080225110054016, -0.5673877000808716, -1.0075886249542236, -1.2336821556091309, -0.8190444707870483, -0.5628744959831238, -0.49919846653938293, -0.4627276659011841, -0.23677271604537964, -0.601219654083252, -1.716867446899414, -1.8128855228424072, -1.752190351486206, -1.5956394672393799, -1.2901198863983154, -2.3791754245758057, -2.384856700897217, -2.495685577392578, -2.6231744289398193, -2.641552448272705, -2.6267507076263428, -2.7667348384857178, -2.923335552215576]}],\n",
       "                        {\"template\": {\"data\": {\"bar\": [{\"error_x\": {\"color\": \"#2a3f5f\"}, \"error_y\": {\"color\": \"#2a3f5f\"}, \"marker\": {\"line\": {\"color\": \"#E5ECF6\", \"width\": 0.5}}, \"type\": \"bar\"}], \"barpolar\": [{\"marker\": {\"line\": {\"color\": \"#E5ECF6\", \"width\": 0.5}}, \"type\": \"barpolar\"}], \"carpet\": [{\"aaxis\": {\"endlinecolor\": \"#2a3f5f\", \"gridcolor\": \"white\", \"linecolor\": \"white\", \"minorgridcolor\": \"white\", \"startlinecolor\": \"#2a3f5f\"}, \"baxis\": {\"endlinecolor\": \"#2a3f5f\", \"gridcolor\": \"white\", \"linecolor\": \"white\", \"minorgridcolor\": \"white\", \"startlinecolor\": \"#2a3f5f\"}, \"type\": \"carpet\"}], \"choropleth\": [{\"colorbar\": {\"outlinewidth\": 0, \"ticks\": \"\"}, \"type\": \"choropleth\"}], \"contour\": [{\"colorbar\": {\"outlinewidth\": 0, \"ticks\": \"\"}, \"colorscale\": [[0.0, \"#0d0887\"], [0.1111111111111111, \"#46039f\"], [0.2222222222222222, \"#7201a8\"], [0.3333333333333333, \"#9c179e\"], [0.4444444444444444, \"#bd3786\"], [0.5555555555555556, \"#d8576b\"], [0.6666666666666666, \"#ed7953\"], [0.7777777777777778, \"#fb9f3a\"], [0.8888888888888888, \"#fdca26\"], [1.0, \"#f0f921\"]], \"type\": \"contour\"}], \"contourcarpet\": [{\"colorbar\": {\"outlinewidth\": 0, \"ticks\": \"\"}, \"type\": \"contourcarpet\"}], \"heatmap\": [{\"colorbar\": {\"outlinewidth\": 0, \"ticks\": \"\"}, \"colorscale\": [[0.0, \"#0d0887\"], [0.1111111111111111, \"#46039f\"], [0.2222222222222222, \"#7201a8\"], [0.3333333333333333, \"#9c179e\"], [0.4444444444444444, \"#bd3786\"], [0.5555555555555556, \"#d8576b\"], [0.6666666666666666, \"#ed7953\"], [0.7777777777777778, \"#fb9f3a\"], [0.8888888888888888, \"#fdca26\"], [1.0, \"#f0f921\"]], \"type\": \"heatmap\"}], \"heatmapgl\": [{\"colorbar\": {\"outlinewidth\": 0, \"ticks\": \"\"}, \"colorscale\": [[0.0, \"#0d0887\"], [0.1111111111111111, \"#46039f\"], [0.2222222222222222, \"#7201a8\"], [0.3333333333333333, \"#9c179e\"], [0.4444444444444444, \"#bd3786\"], [0.5555555555555556, \"#d8576b\"], [0.6666666666666666, \"#ed7953\"], [0.7777777777777778, \"#fb9f3a\"], [0.8888888888888888, \"#fdca26\"], [1.0, \"#f0f921\"]], \"type\": \"heatmapgl\"}], \"histogram\": [{\"marker\": {\"colorbar\": {\"outlinewidth\": 0, \"ticks\": \"\"}}, \"type\": \"histogram\"}], \"histogram2d\": [{\"colorbar\": {\"outlinewidth\": 0, \"ticks\": \"\"}, \"colorscale\": [[0.0, \"#0d0887\"], [0.1111111111111111, \"#46039f\"], [0.2222222222222222, \"#7201a8\"], [0.3333333333333333, \"#9c179e\"], [0.4444444444444444, \"#bd3786\"], [0.5555555555555556, \"#d8576b\"], [0.6666666666666666, \"#ed7953\"], [0.7777777777777778, \"#fb9f3a\"], [0.8888888888888888, \"#fdca26\"], [1.0, \"#f0f921\"]], \"type\": \"histogram2d\"}], \"histogram2dcontour\": [{\"colorbar\": {\"outlinewidth\": 0, \"ticks\": \"\"}, \"colorscale\": [[0.0, \"#0d0887\"], [0.1111111111111111, \"#46039f\"], [0.2222222222222222, \"#7201a8\"], [0.3333333333333333, \"#9c179e\"], [0.4444444444444444, \"#bd3786\"], [0.5555555555555556, \"#d8576b\"], [0.6666666666666666, \"#ed7953\"], [0.7777777777777778, \"#fb9f3a\"], [0.8888888888888888, \"#fdca26\"], [1.0, \"#f0f921\"]], \"type\": \"histogram2dcontour\"}], \"mesh3d\": [{\"colorbar\": {\"outlinewidth\": 0, \"ticks\": \"\"}, \"type\": \"mesh3d\"}], \"parcoords\": [{\"line\": {\"colorbar\": {\"outlinewidth\": 0, \"ticks\": \"\"}}, \"type\": \"parcoords\"}], \"pie\": [{\"automargin\": true, \"type\": \"pie\"}], \"scatter\": [{\"marker\": {\"colorbar\": {\"outlinewidth\": 0, \"ticks\": \"\"}}, \"type\": \"scatter\"}], \"scatter3d\": [{\"line\": {\"colorbar\": {\"outlinewidth\": 0, \"ticks\": \"\"}}, \"marker\": {\"colorbar\": {\"outlinewidth\": 0, \"ticks\": \"\"}}, \"type\": \"scatter3d\"}], \"scattercarpet\": [{\"marker\": {\"colorbar\": {\"outlinewidth\": 0, \"ticks\": \"\"}}, \"type\": \"scattercarpet\"}], \"scattergeo\": [{\"marker\": {\"colorbar\": {\"outlinewidth\": 0, \"ticks\": \"\"}}, \"type\": \"scattergeo\"}], \"scattergl\": [{\"marker\": {\"colorbar\": {\"outlinewidth\": 0, \"ticks\": \"\"}}, \"type\": \"scattergl\"}], \"scattermapbox\": [{\"marker\": {\"colorbar\": {\"outlinewidth\": 0, \"ticks\": \"\"}}, \"type\": \"scattermapbox\"}], \"scatterpolar\": [{\"marker\": {\"colorbar\": {\"outlinewidth\": 0, \"ticks\": \"\"}}, \"type\": \"scatterpolar\"}], \"scatterpolargl\": [{\"marker\": {\"colorbar\": {\"outlinewidth\": 0, \"ticks\": \"\"}}, \"type\": \"scatterpolargl\"}], \"scatterternary\": [{\"marker\": {\"colorbar\": {\"outlinewidth\": 0, \"ticks\": \"\"}}, \"type\": \"scatterternary\"}], \"surface\": [{\"colorbar\": {\"outlinewidth\": 0, \"ticks\": \"\"}, \"colorscale\": [[0.0, \"#0d0887\"], [0.1111111111111111, \"#46039f\"], [0.2222222222222222, \"#7201a8\"], [0.3333333333333333, \"#9c179e\"], [0.4444444444444444, \"#bd3786\"], [0.5555555555555556, \"#d8576b\"], [0.6666666666666666, \"#ed7953\"], [0.7777777777777778, \"#fb9f3a\"], [0.8888888888888888, \"#fdca26\"], [1.0, \"#f0f921\"]], \"type\": \"surface\"}], \"table\": [{\"cells\": {\"fill\": {\"color\": \"#EBF0F8\"}, \"line\": {\"color\": \"white\"}}, \"header\": {\"fill\": {\"color\": \"#C8D4E3\"}, \"line\": {\"color\": \"white\"}}, \"type\": \"table\"}]}, \"layout\": {\"annotationdefaults\": {\"arrowcolor\": \"#2a3f5f\", \"arrowhead\": 0, \"arrowwidth\": 1}, \"coloraxis\": {\"colorbar\": {\"outlinewidth\": 0, \"ticks\": \"\"}}, \"colorscale\": {\"diverging\": [[0, \"#8e0152\"], [0.1, \"#c51b7d\"], [0.2, \"#de77ae\"], [0.3, \"#f1b6da\"], [0.4, \"#fde0ef\"], [0.5, \"#f7f7f7\"], [0.6, \"#e6f5d0\"], [0.7, \"#b8e186\"], [0.8, \"#7fbc41\"], [0.9, \"#4d9221\"], [1, \"#276419\"]], \"sequential\": [[0.0, \"#0d0887\"], [0.1111111111111111, \"#46039f\"], [0.2222222222222222, \"#7201a8\"], [0.3333333333333333, \"#9c179e\"], [0.4444444444444444, \"#bd3786\"], [0.5555555555555556, \"#d8576b\"], [0.6666666666666666, \"#ed7953\"], [0.7777777777777778, \"#fb9f3a\"], [0.8888888888888888, \"#fdca26\"], [1.0, \"#f0f921\"]], \"sequentialminus\": [[0.0, \"#0d0887\"], [0.1111111111111111, \"#46039f\"], [0.2222222222222222, \"#7201a8\"], [0.3333333333333333, \"#9c179e\"], [0.4444444444444444, \"#bd3786\"], [0.5555555555555556, \"#d8576b\"], [0.6666666666666666, \"#ed7953\"], [0.7777777777777778, \"#fb9f3a\"], [0.8888888888888888, \"#fdca26\"], [1.0, \"#f0f921\"]]}, \"colorway\": [\"#636efa\", \"#EF553B\", \"#00cc96\", \"#ab63fa\", \"#FFA15A\", \"#19d3f3\", \"#FF6692\", \"#B6E880\", \"#FF97FF\", \"#FECB52\"], \"font\": {\"color\": \"#2a3f5f\"}, \"geo\": {\"bgcolor\": \"white\", \"lakecolor\": \"white\", \"landcolor\": \"#E5ECF6\", \"showlakes\": true, \"showland\": true, \"subunitcolor\": \"white\"}, \"hoverlabel\": {\"align\": \"left\"}, \"hovermode\": \"closest\", \"mapbox\": {\"style\": \"light\"}, \"paper_bgcolor\": \"white\", \"plot_bgcolor\": \"#E5ECF6\", \"polar\": {\"angularaxis\": {\"gridcolor\": \"white\", \"linecolor\": \"white\", \"ticks\": \"\"}, \"bgcolor\": \"#E5ECF6\", \"radialaxis\": {\"gridcolor\": \"white\", \"linecolor\": \"white\", \"ticks\": \"\"}}, \"scene\": {\"xaxis\": {\"backgroundcolor\": \"#E5ECF6\", \"gridcolor\": \"white\", \"gridwidth\": 2, \"linecolor\": \"white\", \"showbackground\": true, \"ticks\": \"\", \"zerolinecolor\": \"white\"}, \"yaxis\": {\"backgroundcolor\": \"#E5ECF6\", \"gridcolor\": \"white\", \"gridwidth\": 2, \"linecolor\": \"white\", \"showbackground\": true, \"ticks\": \"\", \"zerolinecolor\": \"white\"}, \"zaxis\": {\"backgroundcolor\": \"#E5ECF6\", \"gridcolor\": \"white\", \"gridwidth\": 2, \"linecolor\": \"white\", \"showbackground\": true, \"ticks\": \"\", \"zerolinecolor\": \"white\"}}, \"shapedefaults\": {\"line\": {\"color\": \"#2a3f5f\"}}, \"ternary\": {\"aaxis\": {\"gridcolor\": \"white\", \"linecolor\": \"white\", \"ticks\": \"\"}, \"baxis\": {\"gridcolor\": \"white\", \"linecolor\": \"white\", \"ticks\": \"\"}, \"bgcolor\": \"#E5ECF6\", \"caxis\": {\"gridcolor\": \"white\", \"linecolor\": \"white\", \"ticks\": \"\"}}, \"title\": {\"x\": 0.05}, \"xaxis\": {\"automargin\": true, \"gridcolor\": \"white\", \"linecolor\": \"white\", \"ticks\": \"\", \"title\": {\"standoff\": 15}, \"zerolinecolor\": \"white\", \"zerolinewidth\": 2}, \"yaxis\": {\"automargin\": true, \"gridcolor\": \"white\", \"linecolor\": \"white\", \"ticks\": \"\", \"title\": {\"standoff\": 15}, \"zerolinecolor\": \"white\", \"zerolinewidth\": 2}}}},\n",
       "                        {\"responsive\": true}\n",
       "                    ).then(function(){\n",
       "                            \n",
       "var gd = document.getElementById('77842d52-9ffd-4ed7-88cd-84bdb5a4ecd8');\n",
       "var x = new MutationObserver(function (mutations, observer) {{\n",
       "        var display = window.getComputedStyle(gd).display;\n",
       "        if (!display || display === 'none') {{\n",
       "            console.log([gd, 'removed!']);\n",
       "            Plotly.purge(gd);\n",
       "            observer.disconnect();\n",
       "        }}\n",
       "}});\n",
       "\n",
       "// Listen for the removal of the full notebook cells\n",
       "var notebookContainer = gd.closest('#notebook-container');\n",
       "if (notebookContainer) {{\n",
       "    x.observe(notebookContainer, {childList: true});\n",
       "}}\n",
       "\n",
       "// Listen for the clearing of the current output cell\n",
       "var outputEl = gd.closest('.output');\n",
       "if (outputEl) {{\n",
       "    x.observe(outputEl, {childList: true});\n",
       "}}\n",
       "\n",
       "                        })\n",
       "                };\n",
       "                });\n",
       "            </script>\n",
       "        </div>"
      ]
     },
     "metadata": {},
     "output_type": "display_data"
    }
   ],
   "source": [
    "dx = acrobot.dx\n",
    "step_cost = vf.step_cost\n",
    "u_min = torch.Tensor(vf.u_lo[0]).type(vf.dtype)\n",
    "u_max = torch.Tensor(vf.u_up[0]).type(vf.dtype)\n",
    "dt_ctrl = .1\n",
    "num_samples = 50\n",
    "\n",
    "ctrl = controllers.get_sampling_infinite_horizon_controller(dx, step_cost, vf_approx_adv.model, u_min, u_max, dt_ctrl, num_samples)\n",
    "eps = 0.\n",
    "x0 = torch.Tensor([np.pi+eps, eps, 0., 0.]).double()\n",
    "x_traj_sim, t_traj_sim = controllers.sim_ctrl(x0, 1, acrobot.dx, ctrl, .05, 100)\n",
    "\n",
    "fig = go.Figure()\n",
    "for i in range(4):\n",
    "    fig.add_trace(go.Scatter(\n",
    "        x=t_traj_sim,\n",
    "        y=x_traj_sim[i,:]\n",
    "    ))\n",
    "fig.show()"
   ]
  },
  {
   "cell_type": "code",
   "execution_count": 48,
   "metadata": {},
   "outputs": [],
   "source": [
    "# controller params\n",
    "dx = acrobot.dx\n",
    "step_cost = vf.step_cost\n",
    "u_min = torch.Tensor(vf.u_lo[0]).type(vf.dtype)\n",
    "u_max = torch.Tensor(vf.u_up[0]).type(vf.dtype)\n",
    "dt_ctrl = .1\n",
    "num_samples = 10\n",
    "\n",
    "# benchmark params\n",
    "x0 = torch.Tensor([np.pi, 0., 0., 0.]).type(vf.dtype)\n",
    "x0_eps = torch.Tensor([.1, .1, 0., 0.]).type(vf.dtype)\n",
    "x_goal = torch.Tensor([np.pi, 0., 0., 0.]).type(vf.dtype)\n",
    "num_breaks = [5, 5]\n",
    "dt_sim = .1\n",
    "N = 20"
   ]
  },
  {
   "cell_type": "code",
   "execution_count": null,
   "metadata": {},
   "outputs": [],
   "source": [
    "ctrl_adv = controllers.get_sampling_infinite_horizon_controller(dx, step_cost, vf_approx_adv.model, u_min, u_max, dt_ctrl, num_samples)\n",
    "bench_adv = controllers.benchmark_controller(u_min.shape[0], dx, ctrl_adv, x0, x0_eps, num_breaks, x_goal, dt_sim, N)"
   ]
  },
  {
   "cell_type": "code",
   "execution_count": null,
   "metadata": {},
   "outputs": [],
   "source": [
    "ctrl_baseline = controllers.get_sampling_infinite_horizon_controller(dx, step_cost, vf_approx.model, u_min, u_max, dt_ctrl, num_samples)\n",
    "bench_baseline = controllers.benchmark_controller(u_min.shape[0], dx, ctrl_baseline, x0, x0_eps, num_breaks, x_goal, dt_sim, N)"
   ]
  },
  {
   "cell_type": "code",
   "execution_count": null,
   "metadata": {},
   "outputs": [],
   "source": [
    "ctrl_lqr = controllers.get_lqr_controller(pendulum.dx, x0, torch.zeros(u_min.shape[0]).type(vf.dtype), vf.Q[0], vf.R[0], u_min, u_max)\n",
    "bench_lqr = controllers.benchmark_controller(u_min.shape[0], dx, ctrl_lqr, x0, x0_eps, num_breaks, x_goal, dt_sim, N)"
   ]
  },
  {
   "cell_type": "code",
   "execution_count": null,
   "metadata": {
    "scrolled": false
   },
   "outputs": [],
   "source": [
    "conv_thresh = 1.\n",
    "zmin = 0.\n",
    "zmax = 5.\n",
    "\n",
    "print(\"Baseline\")\n",
    "fig = go.Figure()\n",
    "fig.add_trace(go.Heatmap(\n",
    "    z = bench_baseline.detach().numpy(),\n",
    "    zmin = zmin,\n",
    "    zmax = zmax,\n",
    "    ))\n",
    "fig.show()\n",
    "\n",
    "print(\"Adversarial\")\n",
    "fig = go.Figure()\n",
    "fig.add_trace(go.Heatmap(\n",
    "    z = bench_adv.detach().numpy(),\n",
    "    zmin = zmin,\n",
    "    zmax = zmax,\n",
    "    ))\n",
    "fig.show()\n",
    "\n",
    "print(\"LQR\")\n",
    "fig = go.Figure()\n",
    "fig.add_trace(go.Heatmap(\n",
    "    z = bench_lqr.detach().numpy(),\n",
    "    zmin = zmin,\n",
    "    zmax = zmax,\n",
    "    ))\n",
    "fig.show()\n",
    "\n",
    "print(\"Baseline\")\n",
    "fig = go.Figure()\n",
    "fig.add_trace(go.Heatmap(\n",
    "    z = torch.Tensor(bench_baseline.detach().numpy() > conv_thresh).type(vf.dtype),\n",
    "    ))\n",
    "fig.show()\n",
    "\n",
    "print(\"Adversarial\")\n",
    "fig = go.Figure()\n",
    "fig.add_trace(go.Heatmap(\n",
    "    z = torch.Tensor(bench_adv.detach().numpy() > conv_thresh).type(vf.dtype),\n",
    "    ))\n",
    "fig.show()\n",
    "\n",
    "print(\"LQR\")\n",
    "fig = go.Figure()\n",
    "fig.add_trace(go.Heatmap(\n",
    "    z = torch.Tensor(bench_lqr.detach().numpy() > conv_thresh).type(vf.dtype),\n",
    "    ))\n",
    "fig.show()"
   ]
  }
 ],
 "metadata": {
  "kernelspec": {
   "display_name": "Python 3",
   "language": "python",
   "name": "python3"
  },
  "language_info": {
   "codemirror_mode": {
    "name": "ipython",
    "version": 3
   },
   "file_extension": ".py",
   "mimetype": "text/x-python",
   "name": "python",
   "nbconvert_exporter": "python",
   "pygments_lexer": "ipython3",
   "version": "3.7.5"
  }
 },
 "nbformat": 4,
 "nbformat_minor": 2
}
