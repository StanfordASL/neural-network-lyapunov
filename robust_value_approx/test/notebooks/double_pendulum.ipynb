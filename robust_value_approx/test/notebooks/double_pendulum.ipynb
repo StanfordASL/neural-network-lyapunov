{
 "cells": [
  {
   "cell_type": "markdown",
   "metadata": {},
   "source": [
    "# Double Pendulum"
   ]
  },
  {
   "cell_type": "code",
   "execution_count": 1,
   "metadata": {},
   "outputs": [],
   "source": [
    "%load_ext autoreload\n",
    "%autoreload 2"
   ]
  },
  {
   "cell_type": "code",
   "execution_count": 2,
   "metadata": {
    "scrolled": true
   },
   "outputs": [
    {
     "data": {
      "text/html": [
       "        <script type=\"text/javascript\">\n",
       "        window.PlotlyConfig = {MathJaxConfig: 'local'};\n",
       "        if (window.MathJax) {MathJax.Hub.Config({SVG: {font: \"STIX-Web\"}});}\n",
       "        if (typeof require !== 'undefined') {\n",
       "        require.undef(\"plotly\");\n",
       "        requirejs.config({\n",
       "            paths: {\n",
       "                'plotly': ['https://cdn.plot.ly/plotly-latest.min']\n",
       "            }\n",
       "        });\n",
       "        require(['plotly'], function(Plotly) {\n",
       "            window._Plotly = Plotly;\n",
       "        });\n",
       "        }\n",
       "        </script>\n",
       "        "
      ]
     },
     "metadata": {},
     "output_type": "display_data"
    },
    {
     "name": "stderr",
     "output_type": "stream",
     "text": [
      "/Users/blandry/Code/robust-value-approx/robust_value_approx/samples_generator.py:4: _DrakeImportWarning:\n",
      "\n",
      "\n",
      "You may have already (directly or indirectly) imported `torch` which uses\n",
      "`RTLD_GLOBAL`. Using `RTLD_GLOBAL` may cause symbol collisions which manifest\n",
      "themselves in bugs like \"free(): invalid pointer\". Please consider importing\n",
      "`pydrake` (and related C++-wrapped libraries like `cv2`, `open3d`, etc.)\n",
      "*before* importing `torch`. For more details, see:\n",
      "https://github.com/pytorch/pytorch/issues/3059#issuecomment-534676459\n",
      "\n",
      "\n"
     ]
    }
   ],
   "source": [
    "import sys\n",
    "sys.path.append(\"..\")\n",
    "sys.path.append(\".\")\n",
    "import torch\n",
    "import numpy as np\n",
    "import copy\n",
    "import plotly\n",
    "import plotly.graph_objs as go\n",
    "import pickle\n",
    "from datetime import datetime\n",
    "plotly.offline.init_notebook_mode(connected=True)\n",
    "\n",
    "import robust_value_approx.samples_generator as samples_generator\n",
    "import robust_value_approx.samples_buffer as samples_buffer\n",
    "import robust_value_approx.value_approximation as value_approximation\n",
    "import robust_value_approx.training_log as training_log\n",
    "import robust_value_approx.controllers as controllers\n",
    "\n",
    "from double_pendulum_utils import get_value_function"
   ]
  },
  {
   "cell_type": "code",
   "execution_count": 3,
   "metadata": {},
   "outputs": [],
   "source": [
    "offline_horizon = 25\n",
    "vf, sys = get_value_function(offline_horizon)\n",
    "V = vf.get_value_function()"
   ]
  },
  {
   "cell_type": "code",
   "execution_count": 4,
   "metadata": {},
   "outputs": [
    {
     "data": {
      "application/vnd.plotly.v1+json": {
       "config": {
        "plotlyServerURL": "https://plot.ly"
       },
       "data": [
        {
         "name": "theta1",
         "type": "scatter",
         "x": [
          0,
          0.20000000298023224,
          0.4000000059604645,
          0.6000000089406967,
          0.800000011920929,
          1.0000000149011612,
          1.2000000178813934,
          1.4000000208616257,
          1.600000023841858,
          1.8000000268220901,
          2.0000000298023224,
          2.2000000327825546,
          2.400000035762787,
          2.600000038743019,
          2.8000000417232513,
          3.0000000447034836,
          3.200000047683716,
          3.400000050663948,
          3.6000000536441803,
          3.8000000566244125,
          4.000000059604645,
          4.200000062584877,
          4.400000065565109,
          4.6000000685453415,
          4.800000071525574
         ],
         "y": [
          4.641592502593994,
          4.5861005783081055,
          4.4186553955078125,
          4.1880950927734375,
          3.9614150524139404,
          3.764615774154663,
          3.60628342628479,
          3.483802080154419,
          3.3914053440093994,
          3.3227005004882812,
          3.272120952606201,
          3.235135316848755,
          3.2082366943359375,
          3.1887614727020264,
          3.1747260093688965,
          3.164660930633545,
          3.157485246658325,
          3.1524081230163574,
          3.1488561630249023,
          3.146422863006592,
          3.1448237895965576,
          3.143880844116211,
          3.1435015201568604,
          3.1437268257141113,
          3.144688606262207
         ]
        },
        {
         "name": "theta2",
         "type": "scatter",
         "x": [
          0,
          0.20000000298023224,
          0.4000000059604645,
          0.6000000089406967,
          0.800000011920929,
          1.0000000149011612,
          1.2000000178813934,
          1.4000000208616257,
          1.600000023841858,
          1.8000000268220901,
          2.0000000298023224,
          2.2000000327825546,
          2.400000035762787,
          2.600000038743019,
          2.8000000417232513,
          3.0000000447034836,
          3.200000047683716,
          3.400000050663948,
          3.6000000536441803,
          3.8000000566244125,
          4.000000059604645,
          4.200000062584877,
          4.400000065565109,
          4.6000000685453415,
          4.800000071525574
         ],
         "y": [
          1,
          0.9958928823471069,
          0.9617575407028198,
          0.8718120455741882,
          0.748290479183197,
          0.6238158941268921,
          0.5101792812347412,
          0.413118451833725,
          0.3326287865638733,
          0.2671484351158142,
          0.21435074508190155,
          0.17201142013072968,
          0.13814795017242432,
          0.11111241579055786,
          0.08954944461584091,
          0.07237294316291809,
          0.05871918797492981,
          0.047908879816532135,
          0.039407480508089066,
          0.03278973326086998,
          0.02773849293589592,
          0.02401019260287285,
          0.021465077996253967,
          0.0199817456305027,
          0.019684230908751488
         ]
        },
        {
         "name": "theta1_dot",
         "type": "scatter",
         "x": [
          0,
          0.20000000298023224,
          0.4000000059604645,
          0.6000000089406967,
          0.800000011920929,
          1.0000000149011612,
          1.2000000178813934,
          1.4000000208616257,
          1.600000023841858,
          1.8000000268220901,
          2.0000000298023224,
          2.2000000327825546,
          2.400000035762787,
          2.600000038743019,
          2.8000000417232513,
          3.0000000447034836,
          3.200000047683716,
          3.400000050663948,
          3.6000000536441803,
          3.8000000566244125,
          4.000000059604645,
          4.200000062584877,
          4.400000065565109,
          4.6000000685453415,
          4.800000071525574
         ],
         "y": [
          0,
          -0.5549220442771912,
          -1.1195274591445923,
          -1.1860769987106323,
          -1.0807232856750488,
          -0.8872685432434082,
          -0.6960547566413879,
          -0.5287590026855469,
          -0.3952096104621887,
          -0.2918390929698944,
          -0.21395626664161682,
          -0.15589822828769684,
          -0.11308995634317398,
          -0.08166036009788513,
          -0.058694712817668915,
          -0.04195749759674072,
          -0.029797635972499847,
          -0.02097322791814804,
          -0.014547530561685562,
          -0.009784631431102753,
          -0.006206517107784748,
          -0.0032226440962404013,
          -0.0005724442307837307,
          0.0028256322257220745,
          0.006792342755943537
         ]
        },
        {
         "name": "theta2_dot",
         "type": "scatter",
         "x": [
          0,
          0.20000000298023224,
          0.4000000059604645,
          0.6000000089406967,
          0.800000011920929,
          1.0000000149011612,
          1.2000000178813934,
          1.4000000208616257,
          1.600000023841858,
          1.8000000268220901,
          2.0000000298023224,
          2.2000000327825546,
          2.400000035762787,
          2.600000038743019,
          2.8000000417232513,
          3.0000000447034836,
          3.200000047683716,
          3.400000050663948,
          3.6000000536441803,
          3.8000000566244125,
          4.000000059604645,
          4.200000062584877,
          4.400000065565109,
          4.6000000685453415,
          4.800000071525574
         ],
         "y": [
          0,
          -0.04107123985886574,
          -0.30028223991394043,
          -0.599172830581665,
          -0.6360424757003784,
          -0.6087037324905396,
          -0.5276623368263245,
          -0.4429458677768707,
          -0.3619505763053894,
          -0.2928529977798462,
          -0.23512399196624756,
          -0.18826928734779358,
          -0.1503654420375824,
          -0.11998984962701797,
          -0.0956398993730545,
          -0.07612505555152893,
          -0.060412511229515076,
          -0.04769059643149376,
          -0.03732338175177574,
          -0.02885407954454422,
          -0.021658340469002724,
          -0.01562466286122799,
          -0.009826471097767353,
          -0.005006855353713036,
          0.0020317123271524906
         ]
        }
       ],
       "layout": {
        "template": {
         "data": {
          "bar": [
           {
            "error_x": {
             "color": "#2a3f5f"
            },
            "error_y": {
             "color": "#2a3f5f"
            },
            "marker": {
             "line": {
              "color": "#E5ECF6",
              "width": 0.5
             }
            },
            "type": "bar"
           }
          ],
          "barpolar": [
           {
            "marker": {
             "line": {
              "color": "#E5ECF6",
              "width": 0.5
             }
            },
            "type": "barpolar"
           }
          ],
          "carpet": [
           {
            "aaxis": {
             "endlinecolor": "#2a3f5f",
             "gridcolor": "white",
             "linecolor": "white",
             "minorgridcolor": "white",
             "startlinecolor": "#2a3f5f"
            },
            "baxis": {
             "endlinecolor": "#2a3f5f",
             "gridcolor": "white",
             "linecolor": "white",
             "minorgridcolor": "white",
             "startlinecolor": "#2a3f5f"
            },
            "type": "carpet"
           }
          ],
          "choropleth": [
           {
            "colorbar": {
             "outlinewidth": 0,
             "ticks": ""
            },
            "type": "choropleth"
           }
          ],
          "contour": [
           {
            "colorbar": {
             "outlinewidth": 0,
             "ticks": ""
            },
            "colorscale": [
             [
              0,
              "#0d0887"
             ],
             [
              0.1111111111111111,
              "#46039f"
             ],
             [
              0.2222222222222222,
              "#7201a8"
             ],
             [
              0.3333333333333333,
              "#9c179e"
             ],
             [
              0.4444444444444444,
              "#bd3786"
             ],
             [
              0.5555555555555556,
              "#d8576b"
             ],
             [
              0.6666666666666666,
              "#ed7953"
             ],
             [
              0.7777777777777778,
              "#fb9f3a"
             ],
             [
              0.8888888888888888,
              "#fdca26"
             ],
             [
              1,
              "#f0f921"
             ]
            ],
            "type": "contour"
           }
          ],
          "contourcarpet": [
           {
            "colorbar": {
             "outlinewidth": 0,
             "ticks": ""
            },
            "type": "contourcarpet"
           }
          ],
          "heatmap": [
           {
            "colorbar": {
             "outlinewidth": 0,
             "ticks": ""
            },
            "colorscale": [
             [
              0,
              "#0d0887"
             ],
             [
              0.1111111111111111,
              "#46039f"
             ],
             [
              0.2222222222222222,
              "#7201a8"
             ],
             [
              0.3333333333333333,
              "#9c179e"
             ],
             [
              0.4444444444444444,
              "#bd3786"
             ],
             [
              0.5555555555555556,
              "#d8576b"
             ],
             [
              0.6666666666666666,
              "#ed7953"
             ],
             [
              0.7777777777777778,
              "#fb9f3a"
             ],
             [
              0.8888888888888888,
              "#fdca26"
             ],
             [
              1,
              "#f0f921"
             ]
            ],
            "type": "heatmap"
           }
          ],
          "heatmapgl": [
           {
            "colorbar": {
             "outlinewidth": 0,
             "ticks": ""
            },
            "colorscale": [
             [
              0,
              "#0d0887"
             ],
             [
              0.1111111111111111,
              "#46039f"
             ],
             [
              0.2222222222222222,
              "#7201a8"
             ],
             [
              0.3333333333333333,
              "#9c179e"
             ],
             [
              0.4444444444444444,
              "#bd3786"
             ],
             [
              0.5555555555555556,
              "#d8576b"
             ],
             [
              0.6666666666666666,
              "#ed7953"
             ],
             [
              0.7777777777777778,
              "#fb9f3a"
             ],
             [
              0.8888888888888888,
              "#fdca26"
             ],
             [
              1,
              "#f0f921"
             ]
            ],
            "type": "heatmapgl"
           }
          ],
          "histogram": [
           {
            "marker": {
             "colorbar": {
              "outlinewidth": 0,
              "ticks": ""
             }
            },
            "type": "histogram"
           }
          ],
          "histogram2d": [
           {
            "colorbar": {
             "outlinewidth": 0,
             "ticks": ""
            },
            "colorscale": [
             [
              0,
              "#0d0887"
             ],
             [
              0.1111111111111111,
              "#46039f"
             ],
             [
              0.2222222222222222,
              "#7201a8"
             ],
             [
              0.3333333333333333,
              "#9c179e"
             ],
             [
              0.4444444444444444,
              "#bd3786"
             ],
             [
              0.5555555555555556,
              "#d8576b"
             ],
             [
              0.6666666666666666,
              "#ed7953"
             ],
             [
              0.7777777777777778,
              "#fb9f3a"
             ],
             [
              0.8888888888888888,
              "#fdca26"
             ],
             [
              1,
              "#f0f921"
             ]
            ],
            "type": "histogram2d"
           }
          ],
          "histogram2dcontour": [
           {
            "colorbar": {
             "outlinewidth": 0,
             "ticks": ""
            },
            "colorscale": [
             [
              0,
              "#0d0887"
             ],
             [
              0.1111111111111111,
              "#46039f"
             ],
             [
              0.2222222222222222,
              "#7201a8"
             ],
             [
              0.3333333333333333,
              "#9c179e"
             ],
             [
              0.4444444444444444,
              "#bd3786"
             ],
             [
              0.5555555555555556,
              "#d8576b"
             ],
             [
              0.6666666666666666,
              "#ed7953"
             ],
             [
              0.7777777777777778,
              "#fb9f3a"
             ],
             [
              0.8888888888888888,
              "#fdca26"
             ],
             [
              1,
              "#f0f921"
             ]
            ],
            "type": "histogram2dcontour"
           }
          ],
          "mesh3d": [
           {
            "colorbar": {
             "outlinewidth": 0,
             "ticks": ""
            },
            "type": "mesh3d"
           }
          ],
          "parcoords": [
           {
            "line": {
             "colorbar": {
              "outlinewidth": 0,
              "ticks": ""
             }
            },
            "type": "parcoords"
           }
          ],
          "pie": [
           {
            "automargin": true,
            "type": "pie"
           }
          ],
          "scatter": [
           {
            "marker": {
             "colorbar": {
              "outlinewidth": 0,
              "ticks": ""
             }
            },
            "type": "scatter"
           }
          ],
          "scatter3d": [
           {
            "line": {
             "colorbar": {
              "outlinewidth": 0,
              "ticks": ""
             }
            },
            "marker": {
             "colorbar": {
              "outlinewidth": 0,
              "ticks": ""
             }
            },
            "type": "scatter3d"
           }
          ],
          "scattercarpet": [
           {
            "marker": {
             "colorbar": {
              "outlinewidth": 0,
              "ticks": ""
             }
            },
            "type": "scattercarpet"
           }
          ],
          "scattergeo": [
           {
            "marker": {
             "colorbar": {
              "outlinewidth": 0,
              "ticks": ""
             }
            },
            "type": "scattergeo"
           }
          ],
          "scattergl": [
           {
            "marker": {
             "colorbar": {
              "outlinewidth": 0,
              "ticks": ""
             }
            },
            "type": "scattergl"
           }
          ],
          "scattermapbox": [
           {
            "marker": {
             "colorbar": {
              "outlinewidth": 0,
              "ticks": ""
             }
            },
            "type": "scattermapbox"
           }
          ],
          "scatterpolar": [
           {
            "marker": {
             "colorbar": {
              "outlinewidth": 0,
              "ticks": ""
             }
            },
            "type": "scatterpolar"
           }
          ],
          "scatterpolargl": [
           {
            "marker": {
             "colorbar": {
              "outlinewidth": 0,
              "ticks": ""
             }
            },
            "type": "scatterpolargl"
           }
          ],
          "scatterternary": [
           {
            "marker": {
             "colorbar": {
              "outlinewidth": 0,
              "ticks": ""
             }
            },
            "type": "scatterternary"
           }
          ],
          "surface": [
           {
            "colorbar": {
             "outlinewidth": 0,
             "ticks": ""
            },
            "colorscale": [
             [
              0,
              "#0d0887"
             ],
             [
              0.1111111111111111,
              "#46039f"
             ],
             [
              0.2222222222222222,
              "#7201a8"
             ],
             [
              0.3333333333333333,
              "#9c179e"
             ],
             [
              0.4444444444444444,
              "#bd3786"
             ],
             [
              0.5555555555555556,
              "#d8576b"
             ],
             [
              0.6666666666666666,
              "#ed7953"
             ],
             [
              0.7777777777777778,
              "#fb9f3a"
             ],
             [
              0.8888888888888888,
              "#fdca26"
             ],
             [
              1,
              "#f0f921"
             ]
            ],
            "type": "surface"
           }
          ],
          "table": [
           {
            "cells": {
             "fill": {
              "color": "#EBF0F8"
             },
             "line": {
              "color": "white"
             }
            },
            "header": {
             "fill": {
              "color": "#C8D4E3"
             },
             "line": {
              "color": "white"
             }
            },
            "type": "table"
           }
          ]
         },
         "layout": {
          "annotationdefaults": {
           "arrowcolor": "#2a3f5f",
           "arrowhead": 0,
           "arrowwidth": 1
          },
          "coloraxis": {
           "colorbar": {
            "outlinewidth": 0,
            "ticks": ""
           }
          },
          "colorscale": {
           "diverging": [
            [
             0,
             "#8e0152"
            ],
            [
             0.1,
             "#c51b7d"
            ],
            [
             0.2,
             "#de77ae"
            ],
            [
             0.3,
             "#f1b6da"
            ],
            [
             0.4,
             "#fde0ef"
            ],
            [
             0.5,
             "#f7f7f7"
            ],
            [
             0.6,
             "#e6f5d0"
            ],
            [
             0.7,
             "#b8e186"
            ],
            [
             0.8,
             "#7fbc41"
            ],
            [
             0.9,
             "#4d9221"
            ],
            [
             1,
             "#276419"
            ]
           ],
           "sequential": [
            [
             0,
             "#0d0887"
            ],
            [
             0.1111111111111111,
             "#46039f"
            ],
            [
             0.2222222222222222,
             "#7201a8"
            ],
            [
             0.3333333333333333,
             "#9c179e"
            ],
            [
             0.4444444444444444,
             "#bd3786"
            ],
            [
             0.5555555555555556,
             "#d8576b"
            ],
            [
             0.6666666666666666,
             "#ed7953"
            ],
            [
             0.7777777777777778,
             "#fb9f3a"
            ],
            [
             0.8888888888888888,
             "#fdca26"
            ],
            [
             1,
             "#f0f921"
            ]
           ],
           "sequentialminus": [
            [
             0,
             "#0d0887"
            ],
            [
             0.1111111111111111,
             "#46039f"
            ],
            [
             0.2222222222222222,
             "#7201a8"
            ],
            [
             0.3333333333333333,
             "#9c179e"
            ],
            [
             0.4444444444444444,
             "#bd3786"
            ],
            [
             0.5555555555555556,
             "#d8576b"
            ],
            [
             0.6666666666666666,
             "#ed7953"
            ],
            [
             0.7777777777777778,
             "#fb9f3a"
            ],
            [
             0.8888888888888888,
             "#fdca26"
            ],
            [
             1,
             "#f0f921"
            ]
           ]
          },
          "colorway": [
           "#636efa",
           "#EF553B",
           "#00cc96",
           "#ab63fa",
           "#FFA15A",
           "#19d3f3",
           "#FF6692",
           "#B6E880",
           "#FF97FF",
           "#FECB52"
          ],
          "font": {
           "color": "#2a3f5f"
          },
          "geo": {
           "bgcolor": "white",
           "lakecolor": "white",
           "landcolor": "#E5ECF6",
           "showlakes": true,
           "showland": true,
           "subunitcolor": "white"
          },
          "hoverlabel": {
           "align": "left"
          },
          "hovermode": "closest",
          "mapbox": {
           "style": "light"
          },
          "paper_bgcolor": "white",
          "plot_bgcolor": "#E5ECF6",
          "polar": {
           "angularaxis": {
            "gridcolor": "white",
            "linecolor": "white",
            "ticks": ""
           },
           "bgcolor": "#E5ECF6",
           "radialaxis": {
            "gridcolor": "white",
            "linecolor": "white",
            "ticks": ""
           }
          },
          "scene": {
           "xaxis": {
            "backgroundcolor": "#E5ECF6",
            "gridcolor": "white",
            "gridwidth": 2,
            "linecolor": "white",
            "showbackground": true,
            "ticks": "",
            "zerolinecolor": "white"
           },
           "yaxis": {
            "backgroundcolor": "#E5ECF6",
            "gridcolor": "white",
            "gridwidth": 2,
            "linecolor": "white",
            "showbackground": true,
            "ticks": "",
            "zerolinecolor": "white"
           },
           "zaxis": {
            "backgroundcolor": "#E5ECF6",
            "gridcolor": "white",
            "gridwidth": 2,
            "linecolor": "white",
            "showbackground": true,
            "ticks": "",
            "zerolinecolor": "white"
           }
          },
          "shapedefaults": {
           "line": {
            "color": "#2a3f5f"
           }
          },
          "ternary": {
           "aaxis": {
            "gridcolor": "white",
            "linecolor": "white",
            "ticks": ""
           },
           "baxis": {
            "gridcolor": "white",
            "linecolor": "white",
            "ticks": ""
           },
           "bgcolor": "#E5ECF6",
           "caxis": {
            "gridcolor": "white",
            "linecolor": "white",
            "ticks": ""
           }
          },
          "title": {
           "x": 0.05
          },
          "xaxis": {
           "automargin": true,
           "gridcolor": "white",
           "linecolor": "white",
           "ticks": "",
           "title": {
            "standoff": 15
           },
           "zerolinecolor": "white",
           "zerolinewidth": 2
          },
          "yaxis": {
           "automargin": true,
           "gridcolor": "white",
           "linecolor": "white",
           "ticks": "",
           "title": {
            "standoff": 15
           },
           "zerolinecolor": "white",
           "zerolinewidth": 2
          }
         }
        }
       }
      },
      "text/html": [
       "<div>\n",
       "        \n",
       "        \n",
       "            <div id=\"5096bafa-4001-48e6-a0d8-6eeff63c2236\" class=\"plotly-graph-div\" style=\"height:525px; width:100%;\"></div>\n",
       "            <script type=\"text/javascript\">\n",
       "                require([\"plotly\"], function(Plotly) {\n",
       "                    window.PLOTLYENV=window.PLOTLYENV || {};\n",
       "                    \n",
       "                if (document.getElementById(\"5096bafa-4001-48e6-a0d8-6eeff63c2236\")) {\n",
       "                    Plotly.newPlot(\n",
       "                        '5096bafa-4001-48e6-a0d8-6eeff63c2236',\n",
       "                        [{\"name\": \"theta1\", \"type\": \"scatter\", \"x\": [0.0, 0.20000000298023224, 0.4000000059604645, 0.6000000089406967, 0.800000011920929, 1.0000000149011612, 1.2000000178813934, 1.4000000208616257, 1.600000023841858, 1.8000000268220901, 2.0000000298023224, 2.2000000327825546, 2.400000035762787, 2.600000038743019, 2.8000000417232513, 3.0000000447034836, 3.200000047683716, 3.400000050663948, 3.6000000536441803, 3.8000000566244125, 4.000000059604645, 4.200000062584877, 4.400000065565109, 4.6000000685453415, 4.800000071525574], \"y\": [4.641592502593994, 4.5861005783081055, 4.4186553955078125, 4.1880950927734375, 3.9614150524139404, 3.764615774154663, 3.60628342628479, 3.483802080154419, 3.3914053440093994, 3.3227005004882812, 3.272120952606201, 3.235135316848755, 3.2082366943359375, 3.1887614727020264, 3.1747260093688965, 3.164660930633545, 3.157485246658325, 3.1524081230163574, 3.1488561630249023, 3.146422863006592, 3.1448237895965576, 3.143880844116211, 3.1435015201568604, 3.1437268257141113, 3.144688606262207]}, {\"name\": \"theta2\", \"type\": \"scatter\", \"x\": [0.0, 0.20000000298023224, 0.4000000059604645, 0.6000000089406967, 0.800000011920929, 1.0000000149011612, 1.2000000178813934, 1.4000000208616257, 1.600000023841858, 1.8000000268220901, 2.0000000298023224, 2.2000000327825546, 2.400000035762787, 2.600000038743019, 2.8000000417232513, 3.0000000447034836, 3.200000047683716, 3.400000050663948, 3.6000000536441803, 3.8000000566244125, 4.000000059604645, 4.200000062584877, 4.400000065565109, 4.6000000685453415, 4.800000071525574], \"y\": [1.0, 0.9958928823471069, 0.9617575407028198, 0.8718120455741882, 0.748290479183197, 0.6238158941268921, 0.5101792812347412, 0.413118451833725, 0.3326287865638733, 0.2671484351158142, 0.21435074508190155, 0.17201142013072968, 0.13814795017242432, 0.11111241579055786, 0.08954944461584091, 0.07237294316291809, 0.05871918797492981, 0.047908879816532135, 0.039407480508089066, 0.03278973326086998, 0.02773849293589592, 0.02401019260287285, 0.021465077996253967, 0.0199817456305027, 0.019684230908751488]}, {\"name\": \"theta1_dot\", \"type\": \"scatter\", \"x\": [0.0, 0.20000000298023224, 0.4000000059604645, 0.6000000089406967, 0.800000011920929, 1.0000000149011612, 1.2000000178813934, 1.4000000208616257, 1.600000023841858, 1.8000000268220901, 2.0000000298023224, 2.2000000327825546, 2.400000035762787, 2.600000038743019, 2.8000000417232513, 3.0000000447034836, 3.200000047683716, 3.400000050663948, 3.6000000536441803, 3.8000000566244125, 4.000000059604645, 4.200000062584877, 4.400000065565109, 4.6000000685453415, 4.800000071525574], \"y\": [0.0, -0.5549220442771912, -1.1195274591445923, -1.1860769987106323, -1.0807232856750488, -0.8872685432434082, -0.6960547566413879, -0.5287590026855469, -0.3952096104621887, -0.2918390929698944, -0.21395626664161682, -0.15589822828769684, -0.11308995634317398, -0.08166036009788513, -0.058694712817668915, -0.04195749759674072, -0.029797635972499847, -0.02097322791814804, -0.014547530561685562, -0.009784631431102753, -0.006206517107784748, -0.0032226440962404013, -0.0005724442307837307, 0.0028256322257220745, 0.006792342755943537]}, {\"name\": \"theta2_dot\", \"type\": \"scatter\", \"x\": [0.0, 0.20000000298023224, 0.4000000059604645, 0.6000000089406967, 0.800000011920929, 1.0000000149011612, 1.2000000178813934, 1.4000000208616257, 1.600000023841858, 1.8000000268220901, 2.0000000298023224, 2.2000000327825546, 2.400000035762787, 2.600000038743019, 2.8000000417232513, 3.0000000447034836, 3.200000047683716, 3.400000050663948, 3.6000000536441803, 3.8000000566244125, 4.000000059604645, 4.200000062584877, 4.400000065565109, 4.6000000685453415, 4.800000071525574], \"y\": [0.0, -0.04107123985886574, -0.30028223991394043, -0.599172830581665, -0.6360424757003784, -0.6087037324905396, -0.5276623368263245, -0.4429458677768707, -0.3619505763053894, -0.2928529977798462, -0.23512399196624756, -0.18826928734779358, -0.1503654420375824, -0.11998984962701797, -0.0956398993730545, -0.07612505555152893, -0.060412511229515076, -0.04769059643149376, -0.03732338175177574, -0.02885407954454422, -0.021658340469002724, -0.01562466286122799, -0.009826471097767353, -0.005006855353713036, 0.0020317123271524906]}],\n",
       "                        {\"template\": {\"data\": {\"bar\": [{\"error_x\": {\"color\": \"#2a3f5f\"}, \"error_y\": {\"color\": \"#2a3f5f\"}, \"marker\": {\"line\": {\"color\": \"#E5ECF6\", \"width\": 0.5}}, \"type\": \"bar\"}], \"barpolar\": [{\"marker\": {\"line\": {\"color\": \"#E5ECF6\", \"width\": 0.5}}, \"type\": \"barpolar\"}], \"carpet\": [{\"aaxis\": {\"endlinecolor\": \"#2a3f5f\", \"gridcolor\": \"white\", \"linecolor\": \"white\", \"minorgridcolor\": \"white\", \"startlinecolor\": \"#2a3f5f\"}, \"baxis\": {\"endlinecolor\": \"#2a3f5f\", \"gridcolor\": \"white\", \"linecolor\": \"white\", \"minorgridcolor\": \"white\", \"startlinecolor\": \"#2a3f5f\"}, \"type\": \"carpet\"}], \"choropleth\": [{\"colorbar\": {\"outlinewidth\": 0, \"ticks\": \"\"}, \"type\": \"choropleth\"}], \"contour\": [{\"colorbar\": {\"outlinewidth\": 0, \"ticks\": \"\"}, \"colorscale\": [[0.0, \"#0d0887\"], [0.1111111111111111, \"#46039f\"], [0.2222222222222222, \"#7201a8\"], [0.3333333333333333, \"#9c179e\"], [0.4444444444444444, \"#bd3786\"], [0.5555555555555556, \"#d8576b\"], [0.6666666666666666, \"#ed7953\"], [0.7777777777777778, \"#fb9f3a\"], [0.8888888888888888, \"#fdca26\"], [1.0, \"#f0f921\"]], \"type\": \"contour\"}], \"contourcarpet\": [{\"colorbar\": {\"outlinewidth\": 0, \"ticks\": \"\"}, \"type\": \"contourcarpet\"}], \"heatmap\": [{\"colorbar\": {\"outlinewidth\": 0, \"ticks\": \"\"}, \"colorscale\": [[0.0, \"#0d0887\"], [0.1111111111111111, \"#46039f\"], [0.2222222222222222, \"#7201a8\"], [0.3333333333333333, \"#9c179e\"], [0.4444444444444444, \"#bd3786\"], [0.5555555555555556, \"#d8576b\"], [0.6666666666666666, \"#ed7953\"], [0.7777777777777778, \"#fb9f3a\"], [0.8888888888888888, \"#fdca26\"], [1.0, \"#f0f921\"]], \"type\": \"heatmap\"}], \"heatmapgl\": [{\"colorbar\": {\"outlinewidth\": 0, \"ticks\": \"\"}, \"colorscale\": [[0.0, \"#0d0887\"], [0.1111111111111111, \"#46039f\"], [0.2222222222222222, \"#7201a8\"], [0.3333333333333333, \"#9c179e\"], [0.4444444444444444, \"#bd3786\"], [0.5555555555555556, \"#d8576b\"], [0.6666666666666666, \"#ed7953\"], [0.7777777777777778, \"#fb9f3a\"], [0.8888888888888888, \"#fdca26\"], [1.0, \"#f0f921\"]], \"type\": \"heatmapgl\"}], \"histogram\": [{\"marker\": {\"colorbar\": {\"outlinewidth\": 0, \"ticks\": \"\"}}, \"type\": \"histogram\"}], \"histogram2d\": [{\"colorbar\": {\"outlinewidth\": 0, \"ticks\": \"\"}, \"colorscale\": [[0.0, \"#0d0887\"], [0.1111111111111111, \"#46039f\"], [0.2222222222222222, \"#7201a8\"], [0.3333333333333333, \"#9c179e\"], [0.4444444444444444, \"#bd3786\"], [0.5555555555555556, \"#d8576b\"], [0.6666666666666666, \"#ed7953\"], [0.7777777777777778, \"#fb9f3a\"], [0.8888888888888888, \"#fdca26\"], [1.0, \"#f0f921\"]], \"type\": \"histogram2d\"}], \"histogram2dcontour\": [{\"colorbar\": {\"outlinewidth\": 0, \"ticks\": \"\"}, \"colorscale\": [[0.0, \"#0d0887\"], [0.1111111111111111, \"#46039f\"], [0.2222222222222222, \"#7201a8\"], [0.3333333333333333, \"#9c179e\"], [0.4444444444444444, \"#bd3786\"], [0.5555555555555556, \"#d8576b\"], [0.6666666666666666, \"#ed7953\"], [0.7777777777777778, \"#fb9f3a\"], [0.8888888888888888, \"#fdca26\"], [1.0, \"#f0f921\"]], \"type\": \"histogram2dcontour\"}], \"mesh3d\": [{\"colorbar\": {\"outlinewidth\": 0, \"ticks\": \"\"}, \"type\": \"mesh3d\"}], \"parcoords\": [{\"line\": {\"colorbar\": {\"outlinewidth\": 0, \"ticks\": \"\"}}, \"type\": \"parcoords\"}], \"pie\": [{\"automargin\": true, \"type\": \"pie\"}], \"scatter\": [{\"marker\": {\"colorbar\": {\"outlinewidth\": 0, \"ticks\": \"\"}}, \"type\": \"scatter\"}], \"scatter3d\": [{\"line\": {\"colorbar\": {\"outlinewidth\": 0, \"ticks\": \"\"}}, \"marker\": {\"colorbar\": {\"outlinewidth\": 0, \"ticks\": \"\"}}, \"type\": \"scatter3d\"}], \"scattercarpet\": [{\"marker\": {\"colorbar\": {\"outlinewidth\": 0, \"ticks\": \"\"}}, \"type\": \"scattercarpet\"}], \"scattergeo\": [{\"marker\": {\"colorbar\": {\"outlinewidth\": 0, \"ticks\": \"\"}}, \"type\": \"scattergeo\"}], \"scattergl\": [{\"marker\": {\"colorbar\": {\"outlinewidth\": 0, \"ticks\": \"\"}}, \"type\": \"scattergl\"}], \"scattermapbox\": [{\"marker\": {\"colorbar\": {\"outlinewidth\": 0, \"ticks\": \"\"}}, \"type\": \"scattermapbox\"}], \"scatterpolar\": [{\"marker\": {\"colorbar\": {\"outlinewidth\": 0, \"ticks\": \"\"}}, \"type\": \"scatterpolar\"}], \"scatterpolargl\": [{\"marker\": {\"colorbar\": {\"outlinewidth\": 0, \"ticks\": \"\"}}, \"type\": \"scatterpolargl\"}], \"scatterternary\": [{\"marker\": {\"colorbar\": {\"outlinewidth\": 0, \"ticks\": \"\"}}, \"type\": \"scatterternary\"}], \"surface\": [{\"colorbar\": {\"outlinewidth\": 0, \"ticks\": \"\"}, \"colorscale\": [[0.0, \"#0d0887\"], [0.1111111111111111, \"#46039f\"], [0.2222222222222222, \"#7201a8\"], [0.3333333333333333, \"#9c179e\"], [0.4444444444444444, \"#bd3786\"], [0.5555555555555556, \"#d8576b\"], [0.6666666666666666, \"#ed7953\"], [0.7777777777777778, \"#fb9f3a\"], [0.8888888888888888, \"#fdca26\"], [1.0, \"#f0f921\"]], \"type\": \"surface\"}], \"table\": [{\"cells\": {\"fill\": {\"color\": \"#EBF0F8\"}, \"line\": {\"color\": \"white\"}}, \"header\": {\"fill\": {\"color\": \"#C8D4E3\"}, \"line\": {\"color\": \"white\"}}, \"type\": \"table\"}]}, \"layout\": {\"annotationdefaults\": {\"arrowcolor\": \"#2a3f5f\", \"arrowhead\": 0, \"arrowwidth\": 1}, \"coloraxis\": {\"colorbar\": {\"outlinewidth\": 0, \"ticks\": \"\"}}, \"colorscale\": {\"diverging\": [[0, \"#8e0152\"], [0.1, \"#c51b7d\"], [0.2, \"#de77ae\"], [0.3, \"#f1b6da\"], [0.4, \"#fde0ef\"], [0.5, \"#f7f7f7\"], [0.6, \"#e6f5d0\"], [0.7, \"#b8e186\"], [0.8, \"#7fbc41\"], [0.9, \"#4d9221\"], [1, \"#276419\"]], \"sequential\": [[0.0, \"#0d0887\"], [0.1111111111111111, \"#46039f\"], [0.2222222222222222, \"#7201a8\"], [0.3333333333333333, \"#9c179e\"], [0.4444444444444444, \"#bd3786\"], [0.5555555555555556, \"#d8576b\"], [0.6666666666666666, \"#ed7953\"], [0.7777777777777778, \"#fb9f3a\"], [0.8888888888888888, \"#fdca26\"], [1.0, \"#f0f921\"]], \"sequentialminus\": [[0.0, \"#0d0887\"], [0.1111111111111111, \"#46039f\"], [0.2222222222222222, \"#7201a8\"], [0.3333333333333333, \"#9c179e\"], [0.4444444444444444, \"#bd3786\"], [0.5555555555555556, \"#d8576b\"], [0.6666666666666666, \"#ed7953\"], [0.7777777777777778, \"#fb9f3a\"], [0.8888888888888888, \"#fdca26\"], [1.0, \"#f0f921\"]]}, \"colorway\": [\"#636efa\", \"#EF553B\", \"#00cc96\", \"#ab63fa\", \"#FFA15A\", \"#19d3f3\", \"#FF6692\", \"#B6E880\", \"#FF97FF\", \"#FECB52\"], \"font\": {\"color\": \"#2a3f5f\"}, \"geo\": {\"bgcolor\": \"white\", \"lakecolor\": \"white\", \"landcolor\": \"#E5ECF6\", \"showlakes\": true, \"showland\": true, \"subunitcolor\": \"white\"}, \"hoverlabel\": {\"align\": \"left\"}, \"hovermode\": \"closest\", \"mapbox\": {\"style\": \"light\"}, \"paper_bgcolor\": \"white\", \"plot_bgcolor\": \"#E5ECF6\", \"polar\": {\"angularaxis\": {\"gridcolor\": \"white\", \"linecolor\": \"white\", \"ticks\": \"\"}, \"bgcolor\": \"#E5ECF6\", \"radialaxis\": {\"gridcolor\": \"white\", \"linecolor\": \"white\", \"ticks\": \"\"}}, \"scene\": {\"xaxis\": {\"backgroundcolor\": \"#E5ECF6\", \"gridcolor\": \"white\", \"gridwidth\": 2, \"linecolor\": \"white\", \"showbackground\": true, \"ticks\": \"\", \"zerolinecolor\": \"white\"}, \"yaxis\": {\"backgroundcolor\": \"#E5ECF6\", \"gridcolor\": \"white\", \"gridwidth\": 2, \"linecolor\": \"white\", \"showbackground\": true, \"ticks\": \"\", \"zerolinecolor\": \"white\"}, \"zaxis\": {\"backgroundcolor\": \"#E5ECF6\", \"gridcolor\": \"white\", \"gridwidth\": 2, \"linecolor\": \"white\", \"showbackground\": true, \"ticks\": \"\", \"zerolinecolor\": \"white\"}}, \"shapedefaults\": {\"line\": {\"color\": \"#2a3f5f\"}}, \"ternary\": {\"aaxis\": {\"gridcolor\": \"white\", \"linecolor\": \"white\", \"ticks\": \"\"}, \"baxis\": {\"gridcolor\": \"white\", \"linecolor\": \"white\", \"ticks\": \"\"}, \"bgcolor\": \"#E5ECF6\", \"caxis\": {\"gridcolor\": \"white\", \"linecolor\": \"white\", \"ticks\": \"\"}}, \"title\": {\"x\": 0.05}, \"xaxis\": {\"automargin\": true, \"gridcolor\": \"white\", \"linecolor\": \"white\", \"ticks\": \"\", \"title\": {\"standoff\": 15}, \"zerolinecolor\": \"white\", \"zerolinewidth\": 2}, \"yaxis\": {\"automargin\": true, \"gridcolor\": \"white\", \"linecolor\": \"white\", \"ticks\": \"\", \"title\": {\"standoff\": 15}, \"zerolinecolor\": \"white\", \"zerolinewidth\": 2}}}},\n",
       "                        {\"responsive\": true}\n",
       "                    ).then(function(){\n",
       "                            \n",
       "var gd = document.getElementById('5096bafa-4001-48e6-a0d8-6eeff63c2236');\n",
       "var x = new MutationObserver(function (mutations, observer) {{\n",
       "        var display = window.getComputedStyle(gd).display;\n",
       "        if (!display || display === 'none') {{\n",
       "            console.log([gd, 'removed!']);\n",
       "            Plotly.purge(gd);\n",
       "            observer.disconnect();\n",
       "        }}\n",
       "}});\n",
       "\n",
       "// Listen for the removal of the full notebook cells\n",
       "var notebookContainer = gd.closest('#notebook-container');\n",
       "if (notebookContainer) {{\n",
       "    x.observe(notebookContainer, {childList: true});\n",
       "}}\n",
       "\n",
       "// Listen for the clearing of the current output cell\n",
       "var outputEl = gd.closest('.output');\n",
       "if (outputEl) {{\n",
       "    x.observe(outputEl, {childList: true});\n",
       "}}\n",
       "\n",
       "                        })\n",
       "                };\n",
       "                });\n",
       "            </script>\n",
       "        </div>"
      ]
     },
     "metadata": {},
     "output_type": "display_data"
    }
   ],
   "source": [
    "x0 = torch.tensor([np.pi+1.5, 1., 0., 0.], dtype=vf.dtype)\n",
    "v, res = V(x0)\n",
    "sys.plot_result(res).show()"
   ]
  },
  {
   "cell_type": "code",
   "execution_count": 6,
   "metadata": {},
   "outputs": [
    {
     "data": {
      "application/vnd.plotly.v1+json": {
       "config": {
        "plotlyServerURL": "https://plot.ly"
       },
       "data": [
        {
         "type": "scatter",
         "x": [
          0,
          0.0016287926118820906,
          0.017916718497872353,
          0.10000000149011612,
          0.13662011921405792,
          0.20000000298023224,
          0.24346017837524414,
          0.30000001192092896,
          0.34766945242881775,
          0.4000000059604645,
          0.4506663978099823,
          0.5,
          0.5529648065567017,
          0.6000000238418579,
          0.6547490358352661,
          0.699999988079071,
          0.7561151385307312,
          0.800000011920929,
          0.8571366667747498,
          0.8999999761581421,
          0.9578906297683716,
          1,
          1.058414101600647,
          1.100000023841858,
          1.1587529182434082,
          1.2000000476837158,
          1.2589467763900757,
          1.2999999523162842,
          1.359035849571228,
          1.399999976158142,
          1.4590462446212769,
          1.5,
          1.5589935779571533,
          1.600000023841858,
          1.6589057445526123,
          1.7000000476837158,
          1.7587924003601074,
          1.7999999523162842,
          1.8586657047271729,
          1.899999976158142,
          1.9585342407226562,
          2,
          2.0584006309509277,
          2.0999999046325684,
          2.1582703590393066,
          2.200000047683716,
          2.258145570755005,
          2.299999952316284,
          2.3580281734466553,
          2.4000000953674316,
          2.4579224586486816,
          2.5,
          2.557816982269287,
          2.5999999046325684,
          2.6577236652374268,
          2.700000047683716,
          2.757638931274414,
          2.799999952316284,
          2.857562780380249,
          2.9000000953674316,
          2.957495927810669,
          3,
          3.0574347972869873,
          3.0999999046325684,
          3.157382011413574,
          3.200000047683716,
          3.2573347091674805,
          3.299999952316284,
          3.3572921752929688,
          3.4000000953674316,
          3.457254409790039,
          3.5,
          3.5572357177734375,
          3.5999999046325684,
          3.6571948528289795,
          3.700000047683716,
          3.757173776626587,
          3.799999952316284,
          3.8571767807006836,
          3.9000000953674316,
          3.957141637802124,
          4,
          4.057154178619385,
          4.099999904632568,
          4.157125473022461,
          4.199999809265137,
          4.257147789001465,
          4.300000190734863,
          4.3571577072143555,
          4.400000095367432,
          4.457126140594482,
          4.5,
          4.557159900665283,
          4.599999904632568,
          4.657180309295654,
          4.699999809265137,
          4.757157325744629,
          4.800000190734863,
          4.857199668884277,
          4.900000095367432
         ],
         "y": [
          4.641592502593994,
          4.641591548919678,
          4.641439914703369,
          4.631176471710205,
          4.620626449584961,
          4.596307754516602,
          4.5750226974487305,
          4.543301582336426,
          4.513181209564209,
          4.477545738220215,
          4.440835952758789,
          4.403611183166504,
          4.362470626831055,
          4.325260639190674,
          4.281631946563721,
          4.245474338531494,
          4.200987339019775,
          4.166496753692627,
          4.122427463531494,
          4.089929103851318,
          4.047196865081787,
          4.016834259033203,
          3.976067543029785,
          3.947852849960327,
          3.9094367027282715,
          3.8833110332489014,
          3.847442865371704,
          3.823310136795044,
          3.7900500297546387,
          3.7678003311157227,
          3.7371158599853516,
          3.7166290283203125,
          3.6884286403656006,
          3.6695804595947266,
          3.6437299251556396,
          3.626404047012329,
          3.6027514934539795,
          3.5868334770202637,
          3.5652167797088623,
          3.5505974292755127,
          3.530853033065796,
          3.517429828643799,
          3.4994008541107178,
          3.487077236175537,
          3.470613718032837,
          3.4592995643615723,
          3.4442615509033203,
          3.4338724613189697,
          3.4201297760009766,
          3.410587787628174,
          3.3980205059051514,
          3.3892548084259033,
          3.3777568340301514,
          3.3697001934051514,
          3.3591721057891846,
          3.3517649173736572,
          3.342118263244629,
          3.3353054523468018,
          3.3264598846435547,
          3.3201920986175537,
          3.312074899673462,
          3.306305408477783,
          3.298851728439331,
          3.29353928565979,
          3.2866897583007812,
          3.2817959785461426,
          3.2754979133605957,
          3.2709884643554688,
          3.265194892883301,
          3.2610392570495605,
          3.2557075023651123,
          3.2518763542175293,
          3.2469663619995117,
          3.2434351444244385,
          3.238913059234619,
          3.235654354095459,
          3.231485605239868,
          3.228478193283081,
          3.2246339321136475,
          3.2218616008758545,
          3.2183175086975098,
          3.21575665473938,
          3.2124857902526855,
          3.2101240158081055,
          3.207106351852417,
          3.204923391342163,
          3.2021358013153076,
          3.200122356414795,
          3.19754958152771,
          3.1956913471221924,
          3.1933159828186035,
          3.1915972232818604,
          3.189401149749756,
          3.1878151893615723,
          3.185786724090576,
          3.1843228340148926,
          3.1824491024017334,
          3.1810946464538574,
          3.179361581802368,
          3.1781117916107178
         ]
        },
        {
         "type": "scatter",
         "x": [
          0,
          0.0016287926118820906,
          0.017916718497872353,
          0.10000000149011612,
          0.13662011921405792,
          0.20000000298023224,
          0.24346017837524414,
          0.30000001192092896,
          0.34766945242881775,
          0.4000000059604645,
          0.4506663978099823,
          0.5,
          0.5529648065567017,
          0.6000000238418579,
          0.6547490358352661,
          0.699999988079071,
          0.7561151385307312,
          0.800000011920929,
          0.8571366667747498,
          0.8999999761581421,
          0.9578906297683716,
          1,
          1.058414101600647,
          1.100000023841858,
          1.1587529182434082,
          1.2000000476837158,
          1.2589467763900757,
          1.2999999523162842,
          1.359035849571228,
          1.399999976158142,
          1.4590462446212769,
          1.5,
          1.5589935779571533,
          1.600000023841858,
          1.6589057445526123,
          1.7000000476837158,
          1.7587924003601074,
          1.7999999523162842,
          1.8586657047271729,
          1.899999976158142,
          1.9585342407226562,
          2,
          2.0584006309509277,
          2.0999999046325684,
          2.1582703590393066,
          2.200000047683716,
          2.258145570755005,
          2.299999952316284,
          2.3580281734466553,
          2.4000000953674316,
          2.4579224586486816,
          2.5,
          2.557816982269287,
          2.5999999046325684,
          2.6577236652374268,
          2.700000047683716,
          2.757638931274414,
          2.799999952316284,
          2.857562780380249,
          2.9000000953674316,
          2.957495927810669,
          3,
          3.0574347972869873,
          3.0999999046325684,
          3.157382011413574,
          3.200000047683716,
          3.2573347091674805,
          3.299999952316284,
          3.3572921752929688,
          3.4000000953674316,
          3.457254409790039,
          3.5,
          3.5572357177734375,
          3.5999999046325684,
          3.6571948528289795,
          3.700000047683716,
          3.757173776626587,
          3.799999952316284,
          3.8571767807006836,
          3.9000000953674316,
          3.957141637802124,
          4,
          4.057154178619385,
          4.099999904632568,
          4.157125473022461,
          4.199999809265137,
          4.257147789001465,
          4.300000190734863,
          4.3571577072143555,
          4.400000095367432,
          4.457126140594482,
          4.5,
          4.557159900665283,
          4.599999904632568,
          4.657180309295654,
          4.699999809265137,
          4.757157325744629,
          4.800000190734863,
          4.857199668884277,
          4.900000095367432
         ],
         "y": [
          1,
          0.9999993443489075,
          0.9999232292175293,
          0.9982327222824097,
          0.9966115951538086,
          0.9917346835136414,
          0.986790657043457,
          0.9781219363212585,
          0.9688612222671509,
          0.9565974473953247,
          0.9427279233932495,
          0.9274292588233948,
          0.9091988801956177,
          0.8915992379188538,
          0.8696506023406982,
          0.8505005836486816,
          0.8257107138633728,
          0.8056932687759399,
          0.779022753238678,
          0.75871342420578,
          0.7310774326324463,
          0.710944652557373,
          0.6831482648849487,
          0.6635376811027527,
          0.6362268924713135,
          0.6173833012580872,
          0.591033399105072,
          0.5731106400489807,
          0.548034131526947,
          0.5311211943626404,
          0.5075048208236694,
          0.4916415810585022,
          0.4695749878883362,
          0.45475926995277405,
          0.43425479531288147,
          0.4204631447792053,
          0.4014837443828583,
          0.3886745870113373,
          0.37115371227264404,
          0.3592768609523773,
          0.34312915802001953,
          0.3321293890476227,
          0.31726112961769104,
          0.3070791959762573,
          0.29339373111724854,
          0.28397199511528015,
          0.2713756561279297,
          0.2626587748527527,
          0.25106319785118103,
          0.2429996132850647,
          0.23232188820838928,
          0.22486381232738495,
          0.21502962708473206,
          0.2081289142370224,
          0.19906511902809143,
          0.19267967343330383,
          0.1843220442533493,
          0.17841248214244843,
          0.17070135474205017,
          0.1652304083108902,
          0.15811239182949066,
          0.15304812788963318,
          0.14647537469863892,
          0.14178627729415894,
          0.13571424782276154,
          0.13137294352054596,
          0.12576206028461456,
          0.12174167484045029,
          0.11655258387327194,
          0.1128261536359787,
          0.10802438110113144,
          0.10457094013690948,
          0.10012413561344147,
          0.09692253917455673,
          0.09280729293823242,
          0.0898403599858284,
          0.08603149652481079,
          0.08328314125537872,
          0.07975243031978607,
          0.07720255851745605,
          0.07393237948417664,
          0.07156955450773239,
          0.06853747367858887,
          0.06634562462568283,
          0.06353768706321716,
          0.06150813400745392,
          0.05890500918030739,
          0.057022448629140854,
          0.05460537225008011,
          0.05285808816552162,
          0.05062028393149376,
          0.04900318756699562,
          0.04692884162068367,
          0.045429542660713196,
          0.04350327327847481,
          0.04211205616593361,
          0.04032810777425766,
          0.03904031962156296,
          0.03738598898053169,
          0.036192234605550766
         ]
        },
        {
         "type": "scatter",
         "x": [
          0,
          0.0016287926118820906,
          0.017916718497872353,
          0.10000000149011612,
          0.13662011921405792,
          0.20000000298023224,
          0.24346017837524414,
          0.30000001192092896,
          0.34766945242881775,
          0.4000000059604645,
          0.4506663978099823,
          0.5,
          0.5529648065567017,
          0.6000000238418579,
          0.6547490358352661,
          0.699999988079071,
          0.7561151385307312,
          0.800000011920929,
          0.8571366667747498,
          0.8999999761581421,
          0.9578906297683716,
          1,
          1.058414101600647,
          1.100000023841858,
          1.1587529182434082,
          1.2000000476837158,
          1.2589467763900757,
          1.2999999523162842,
          1.359035849571228,
          1.399999976158142,
          1.4590462446212769,
          1.5,
          1.5589935779571533,
          1.600000023841858,
          1.6589057445526123,
          1.7000000476837158,
          1.7587924003601074,
          1.7999999523162842,
          1.8586657047271729,
          1.899999976158142,
          1.9585342407226562,
          2,
          2.0584006309509277,
          2.0999999046325684,
          2.1582703590393066,
          2.200000047683716,
          2.258145570755005,
          2.299999952316284,
          2.3580281734466553,
          2.4000000953674316,
          2.4579224586486816,
          2.5,
          2.557816982269287,
          2.5999999046325684,
          2.6577236652374268,
          2.700000047683716,
          2.757638931274414,
          2.799999952316284,
          2.857562780380249,
          2.9000000953674316,
          2.957495927810669,
          3,
          3.0574347972869873,
          3.0999999046325684,
          3.157382011413574,
          3.200000047683716,
          3.2573347091674805,
          3.299999952316284,
          3.3572921752929688,
          3.4000000953674316,
          3.457254409790039,
          3.5,
          3.5572357177734375,
          3.5999999046325684,
          3.6571948528289795,
          3.700000047683716,
          3.757173776626587,
          3.799999952316284,
          3.8571767807006836,
          3.9000000953674316,
          3.957141637802124,
          4,
          4.057154178619385,
          4.099999904632568,
          4.157125473022461,
          4.199999809265137,
          4.257147789001465,
          4.300000190734863,
          4.3571577072143555,
          4.400000095367432,
          4.457126140594482,
          4.5,
          4.557159900665283,
          4.599999904632568,
          4.657180309295654,
          4.699999809265137,
          4.757157325744629,
          4.800000190734863,
          4.857199668884277,
          4.900000095367432
         ],
         "y": [
          0,
          -0.0012042612070217729,
          -0.019282177090644836,
          -0.27706030011177063,
          -0.3079187572002411,
          -0.4856020510196686,
          -0.5056250095367432,
          -0.6359856128692627,
          -0.6409045457839966,
          -0.7366822361946106,
          -0.7263115048408508,
          -0.795781672000885,
          -0.7718887329101562,
          -0.8213092088699341,
          -0.7865546345710754,
          -0.820963442325592,
          -0.7783303260803223,
          -0.8017372488975525,
          -0.7540493607521057,
          -0.7695425748825073,
          -0.7192903757095337,
          -0.7292097210884094,
          -0.6783223152160645,
          -0.6843798160552979,
          -0.6342864632606506,
          -0.6377275586128235,
          -0.5893757939338684,
          -0.5910611152648926,
          -0.5450643301010132,
          -0.5456011891365051,
          -0.5023336410522461,
          -0.5021653771400452,
          -0.46177488565444946,
          -0.46121498942375183,
          -0.4237178862094879,
          -0.42295199632644653,
          -0.3882976770401001,
          -0.38747766613960266,
          -0.35555848479270935,
          -0.3547714352607727,
          -0.3254413902759552,
          -0.3247400224208832,
          -0.29781755805015564,
          -0.29723086953163147,
          -0.2725510597229004,
          -0.27209168672561646,
          -0.24948975443840027,
          -0.24915891885757446,
          -0.22847343981266022,
          -0.22826232016086578,
          -0.20932501554489136,
          -0.2092195302248001,
          -0.1918829083442688,
          -0.19186758995056152,
          -0.17599545419216156,
          -0.17606014013290405,
          -0.16151881217956543,
          -0.16164880990982056,
          -0.14831207692623138,
          -0.14849449694156647,
          -0.13627620041370392,
          -0.1364995688199997,
          -0.1252850741147995,
          -0.12553736567497253,
          -0.1152476966381073,
          -0.11552521586418152,
          -0.10606703162193298,
          -0.10635482519865036,
          -0.0976390466094017,
          -0.09793134033679962,
          -0.08992597460746765,
          -0.09022358059883118,
          -0.08283767104148865,
          -0.08313623815774918,
          -0.07636592537164688,
          -0.0766611099243164,
          -0.07042985409498215,
          -0.0707172080874443,
          -0.06493119150400162,
          -0.06520484387874603,
          -0.05991916358470917,
          -0.06018848717212677,
          -0.05527495592832565,
          -0.05552943795919418,
          -0.05104699358344078,
          -0.05129650980234146,
          -0.04711383208632469,
          -0.047342512756586075,
          -0.04347981885075569,
          -0.04370185732841492,
          -0.04018759727478027,
          -0.04040122777223587,
          -0.03711502254009247,
          -0.037308551371097565,
          -0.03426966443657875,
          -0.03445543348789215,
          -0.03168472275137901,
          -0.031860027462244034,
          -0.029271550476551056,
          -0.029432173818349838
         ]
        },
        {
         "type": "scatter",
         "x": [
          0,
          0.0016287926118820906,
          0.017916718497872353,
          0.10000000149011612,
          0.13662011921405792,
          0.20000000298023224,
          0.24346017837524414,
          0.30000001192092896,
          0.34766945242881775,
          0.4000000059604645,
          0.4506663978099823,
          0.5,
          0.5529648065567017,
          0.6000000238418579,
          0.6547490358352661,
          0.699999988079071,
          0.7561151385307312,
          0.800000011920929,
          0.8571366667747498,
          0.8999999761581421,
          0.9578906297683716,
          1,
          1.058414101600647,
          1.100000023841858,
          1.1587529182434082,
          1.2000000476837158,
          1.2589467763900757,
          1.2999999523162842,
          1.359035849571228,
          1.399999976158142,
          1.4590462446212769,
          1.5,
          1.5589935779571533,
          1.600000023841858,
          1.6589057445526123,
          1.7000000476837158,
          1.7587924003601074,
          1.7999999523162842,
          1.8586657047271729,
          1.899999976158142,
          1.9585342407226562,
          2,
          2.0584006309509277,
          2.0999999046325684,
          2.1582703590393066,
          2.200000047683716,
          2.258145570755005,
          2.299999952316284,
          2.3580281734466553,
          2.4000000953674316,
          2.4579224586486816,
          2.5,
          2.557816982269287,
          2.5999999046325684,
          2.6577236652374268,
          2.700000047683716,
          2.757638931274414,
          2.799999952316284,
          2.857562780380249,
          2.9000000953674316,
          2.957495927810669,
          3,
          3.0574347972869873,
          3.0999999046325684,
          3.157382011413574,
          3.200000047683716,
          3.2573347091674805,
          3.299999952316284,
          3.3572921752929688,
          3.4000000953674316,
          3.457254409790039,
          3.5,
          3.5572357177734375,
          3.5999999046325684,
          3.6571948528289795,
          3.700000047683716,
          3.757173776626587,
          3.799999952316284,
          3.8571767807006836,
          3.9000000953674316,
          3.957141637802124,
          4,
          4.057154178619385,
          4.099999904632568,
          4.157125473022461,
          4.199999809265137,
          4.257147789001465,
          4.300000190734863,
          4.3571577072143555,
          4.400000095367432,
          4.457126140594482,
          4.5,
          4.557159900665283,
          4.599999904632568,
          4.657180309295654,
          4.699999809265137,
          4.757157325744629,
          4.800000190734863,
          4.857199668884277,
          4.900000095367432
         ],
         "y": [
          0,
          -0.0008165439940057695,
          -0.0083254249766469,
          -0.027806764468550682,
          -0.05904587358236313,
          -0.09021691977977753,
          -0.13446150720119476,
          -0.16787554323673248,
          -0.21707512438297272,
          -0.24782589077949524,
          -0.2957238554954529,
          -0.32127466797828674,
          -0.3632321357727051,
          -0.38256821036338806,
          -0.4156992435455322,
          -0.4287819564342499,
          -0.45180657505989075,
          -0.4591453969478607,
          -0.4721675217151642,
          -0.47465670108795166,
          -0.4785902202129364,
          -0.47724980115890503,
          -0.47363683581352234,
          -0.4694734513759613,
          -0.46001502871513367,
          -0.45392709970474243,
          -0.44040897488594055,
          -0.43318960070610046,
          -0.4170534014701843,
          -0.409284770488739,
          -0.39164790511131287,
          -0.38373973965644836,
          -0.36555853486061096,
          -0.3578023612499237,
          -0.3397001624107361,
          -0.33230912685394287,
          -0.31471601128578186,
          -0.3077705204486847,
          -0.2909489870071411,
          -0.284517765045166,
          -0.2686152756214142,
          -0.26270821690559387,
          -0.2478332668542862,
          -0.24243956804275513,
          -0.2285933792591095,
          -0.22368690371513367,
          -0.2108357697725296,
          -0.2063838392496109,
          -0.19446493685245514,
          -0.1904280036687851,
          -0.17939263582229614,
          -0.17571845650672913,
          -0.1655353307723999,
          -0.16223357617855072,
          -0.1528167873620987,
          -0.1498217135667801,
          -0.14112545549869537,
          -0.13840793073177338,
          -0.1303974986076355,
          -0.12793006002902985,
          -0.12050314992666245,
          -0.11825504153966904,
          -0.11140063405036926,
          -0.10935724526643753,
          -0.10300556570291519,
          -0.10113063454627991,
          -0.09527172893285751,
          -0.09356853365898132,
          -0.08820203691720963,
          -0.08665589243173599,
          -0.08166566491127014,
          -0.08024373650550842,
          -0.07567474246025085,
          -0.07435687631368637,
          -0.07005775719881058,
          -0.06885460764169693,
          -0.06486193835735321,
          -0.06375640630722046,
          -0.06016990542411804,
          -0.05915694311261177,
          -0.05571760982275009,
          -0.054778989404439926,
          -0.05169146507978439,
          -0.050828516483306885,
          -0.04784279316663742,
          -0.04703546687960625,
          -0.04438552260398865,
          -0.04365656524896622,
          -0.04121003299951553,
          -0.040520910173654556,
          -0.03812014311552048,
          -0.0374804325401783,
          -0.03535778075456619,
          -0.034782525151968,
          -0.03282714635133743,
          -0.032284144312143326,
          -0.03037484921514988,
          -0.02987515740096569,
          -0.028176866471767426,
          -0.027721473947167397
         ]
        }
       ],
       "layout": {
        "template": {
         "data": {
          "bar": [
           {
            "error_x": {
             "color": "#2a3f5f"
            },
            "error_y": {
             "color": "#2a3f5f"
            },
            "marker": {
             "line": {
              "color": "#E5ECF6",
              "width": 0.5
             }
            },
            "type": "bar"
           }
          ],
          "barpolar": [
           {
            "marker": {
             "line": {
              "color": "#E5ECF6",
              "width": 0.5
             }
            },
            "type": "barpolar"
           }
          ],
          "carpet": [
           {
            "aaxis": {
             "endlinecolor": "#2a3f5f",
             "gridcolor": "white",
             "linecolor": "white",
             "minorgridcolor": "white",
             "startlinecolor": "#2a3f5f"
            },
            "baxis": {
             "endlinecolor": "#2a3f5f",
             "gridcolor": "white",
             "linecolor": "white",
             "minorgridcolor": "white",
             "startlinecolor": "#2a3f5f"
            },
            "type": "carpet"
           }
          ],
          "choropleth": [
           {
            "colorbar": {
             "outlinewidth": 0,
             "ticks": ""
            },
            "type": "choropleth"
           }
          ],
          "contour": [
           {
            "colorbar": {
             "outlinewidth": 0,
             "ticks": ""
            },
            "colorscale": [
             [
              0,
              "#0d0887"
             ],
             [
              0.1111111111111111,
              "#46039f"
             ],
             [
              0.2222222222222222,
              "#7201a8"
             ],
             [
              0.3333333333333333,
              "#9c179e"
             ],
             [
              0.4444444444444444,
              "#bd3786"
             ],
             [
              0.5555555555555556,
              "#d8576b"
             ],
             [
              0.6666666666666666,
              "#ed7953"
             ],
             [
              0.7777777777777778,
              "#fb9f3a"
             ],
             [
              0.8888888888888888,
              "#fdca26"
             ],
             [
              1,
              "#f0f921"
             ]
            ],
            "type": "contour"
           }
          ],
          "contourcarpet": [
           {
            "colorbar": {
             "outlinewidth": 0,
             "ticks": ""
            },
            "type": "contourcarpet"
           }
          ],
          "heatmap": [
           {
            "colorbar": {
             "outlinewidth": 0,
             "ticks": ""
            },
            "colorscale": [
             [
              0,
              "#0d0887"
             ],
             [
              0.1111111111111111,
              "#46039f"
             ],
             [
              0.2222222222222222,
              "#7201a8"
             ],
             [
              0.3333333333333333,
              "#9c179e"
             ],
             [
              0.4444444444444444,
              "#bd3786"
             ],
             [
              0.5555555555555556,
              "#d8576b"
             ],
             [
              0.6666666666666666,
              "#ed7953"
             ],
             [
              0.7777777777777778,
              "#fb9f3a"
             ],
             [
              0.8888888888888888,
              "#fdca26"
             ],
             [
              1,
              "#f0f921"
             ]
            ],
            "type": "heatmap"
           }
          ],
          "heatmapgl": [
           {
            "colorbar": {
             "outlinewidth": 0,
             "ticks": ""
            },
            "colorscale": [
             [
              0,
              "#0d0887"
             ],
             [
              0.1111111111111111,
              "#46039f"
             ],
             [
              0.2222222222222222,
              "#7201a8"
             ],
             [
              0.3333333333333333,
              "#9c179e"
             ],
             [
              0.4444444444444444,
              "#bd3786"
             ],
             [
              0.5555555555555556,
              "#d8576b"
             ],
             [
              0.6666666666666666,
              "#ed7953"
             ],
             [
              0.7777777777777778,
              "#fb9f3a"
             ],
             [
              0.8888888888888888,
              "#fdca26"
             ],
             [
              1,
              "#f0f921"
             ]
            ],
            "type": "heatmapgl"
           }
          ],
          "histogram": [
           {
            "marker": {
             "colorbar": {
              "outlinewidth": 0,
              "ticks": ""
             }
            },
            "type": "histogram"
           }
          ],
          "histogram2d": [
           {
            "colorbar": {
             "outlinewidth": 0,
             "ticks": ""
            },
            "colorscale": [
             [
              0,
              "#0d0887"
             ],
             [
              0.1111111111111111,
              "#46039f"
             ],
             [
              0.2222222222222222,
              "#7201a8"
             ],
             [
              0.3333333333333333,
              "#9c179e"
             ],
             [
              0.4444444444444444,
              "#bd3786"
             ],
             [
              0.5555555555555556,
              "#d8576b"
             ],
             [
              0.6666666666666666,
              "#ed7953"
             ],
             [
              0.7777777777777778,
              "#fb9f3a"
             ],
             [
              0.8888888888888888,
              "#fdca26"
             ],
             [
              1,
              "#f0f921"
             ]
            ],
            "type": "histogram2d"
           }
          ],
          "histogram2dcontour": [
           {
            "colorbar": {
             "outlinewidth": 0,
             "ticks": ""
            },
            "colorscale": [
             [
              0,
              "#0d0887"
             ],
             [
              0.1111111111111111,
              "#46039f"
             ],
             [
              0.2222222222222222,
              "#7201a8"
             ],
             [
              0.3333333333333333,
              "#9c179e"
             ],
             [
              0.4444444444444444,
              "#bd3786"
             ],
             [
              0.5555555555555556,
              "#d8576b"
             ],
             [
              0.6666666666666666,
              "#ed7953"
             ],
             [
              0.7777777777777778,
              "#fb9f3a"
             ],
             [
              0.8888888888888888,
              "#fdca26"
             ],
             [
              1,
              "#f0f921"
             ]
            ],
            "type": "histogram2dcontour"
           }
          ],
          "mesh3d": [
           {
            "colorbar": {
             "outlinewidth": 0,
             "ticks": ""
            },
            "type": "mesh3d"
           }
          ],
          "parcoords": [
           {
            "line": {
             "colorbar": {
              "outlinewidth": 0,
              "ticks": ""
             }
            },
            "type": "parcoords"
           }
          ],
          "pie": [
           {
            "automargin": true,
            "type": "pie"
           }
          ],
          "scatter": [
           {
            "marker": {
             "colorbar": {
              "outlinewidth": 0,
              "ticks": ""
             }
            },
            "type": "scatter"
           }
          ],
          "scatter3d": [
           {
            "line": {
             "colorbar": {
              "outlinewidth": 0,
              "ticks": ""
             }
            },
            "marker": {
             "colorbar": {
              "outlinewidth": 0,
              "ticks": ""
             }
            },
            "type": "scatter3d"
           }
          ],
          "scattercarpet": [
           {
            "marker": {
             "colorbar": {
              "outlinewidth": 0,
              "ticks": ""
             }
            },
            "type": "scattercarpet"
           }
          ],
          "scattergeo": [
           {
            "marker": {
             "colorbar": {
              "outlinewidth": 0,
              "ticks": ""
             }
            },
            "type": "scattergeo"
           }
          ],
          "scattergl": [
           {
            "marker": {
             "colorbar": {
              "outlinewidth": 0,
              "ticks": ""
             }
            },
            "type": "scattergl"
           }
          ],
          "scattermapbox": [
           {
            "marker": {
             "colorbar": {
              "outlinewidth": 0,
              "ticks": ""
             }
            },
            "type": "scattermapbox"
           }
          ],
          "scatterpolar": [
           {
            "marker": {
             "colorbar": {
              "outlinewidth": 0,
              "ticks": ""
             }
            },
            "type": "scatterpolar"
           }
          ],
          "scatterpolargl": [
           {
            "marker": {
             "colorbar": {
              "outlinewidth": 0,
              "ticks": ""
             }
            },
            "type": "scatterpolargl"
           }
          ],
          "scatterternary": [
           {
            "marker": {
             "colorbar": {
              "outlinewidth": 0,
              "ticks": ""
             }
            },
            "type": "scatterternary"
           }
          ],
          "surface": [
           {
            "colorbar": {
             "outlinewidth": 0,
             "ticks": ""
            },
            "colorscale": [
             [
              0,
              "#0d0887"
             ],
             [
              0.1111111111111111,
              "#46039f"
             ],
             [
              0.2222222222222222,
              "#7201a8"
             ],
             [
              0.3333333333333333,
              "#9c179e"
             ],
             [
              0.4444444444444444,
              "#bd3786"
             ],
             [
              0.5555555555555556,
              "#d8576b"
             ],
             [
              0.6666666666666666,
              "#ed7953"
             ],
             [
              0.7777777777777778,
              "#fb9f3a"
             ],
             [
              0.8888888888888888,
              "#fdca26"
             ],
             [
              1,
              "#f0f921"
             ]
            ],
            "type": "surface"
           }
          ],
          "table": [
           {
            "cells": {
             "fill": {
              "color": "#EBF0F8"
             },
             "line": {
              "color": "white"
             }
            },
            "header": {
             "fill": {
              "color": "#C8D4E3"
             },
             "line": {
              "color": "white"
             }
            },
            "type": "table"
           }
          ]
         },
         "layout": {
          "annotationdefaults": {
           "arrowcolor": "#2a3f5f",
           "arrowhead": 0,
           "arrowwidth": 1
          },
          "coloraxis": {
           "colorbar": {
            "outlinewidth": 0,
            "ticks": ""
           }
          },
          "colorscale": {
           "diverging": [
            [
             0,
             "#8e0152"
            ],
            [
             0.1,
             "#c51b7d"
            ],
            [
             0.2,
             "#de77ae"
            ],
            [
             0.3,
             "#f1b6da"
            ],
            [
             0.4,
             "#fde0ef"
            ],
            [
             0.5,
             "#f7f7f7"
            ],
            [
             0.6,
             "#e6f5d0"
            ],
            [
             0.7,
             "#b8e186"
            ],
            [
             0.8,
             "#7fbc41"
            ],
            [
             0.9,
             "#4d9221"
            ],
            [
             1,
             "#276419"
            ]
           ],
           "sequential": [
            [
             0,
             "#0d0887"
            ],
            [
             0.1111111111111111,
             "#46039f"
            ],
            [
             0.2222222222222222,
             "#7201a8"
            ],
            [
             0.3333333333333333,
             "#9c179e"
            ],
            [
             0.4444444444444444,
             "#bd3786"
            ],
            [
             0.5555555555555556,
             "#d8576b"
            ],
            [
             0.6666666666666666,
             "#ed7953"
            ],
            [
             0.7777777777777778,
             "#fb9f3a"
            ],
            [
             0.8888888888888888,
             "#fdca26"
            ],
            [
             1,
             "#f0f921"
            ]
           ],
           "sequentialminus": [
            [
             0,
             "#0d0887"
            ],
            [
             0.1111111111111111,
             "#46039f"
            ],
            [
             0.2222222222222222,
             "#7201a8"
            ],
            [
             0.3333333333333333,
             "#9c179e"
            ],
            [
             0.4444444444444444,
             "#bd3786"
            ],
            [
             0.5555555555555556,
             "#d8576b"
            ],
            [
             0.6666666666666666,
             "#ed7953"
            ],
            [
             0.7777777777777778,
             "#fb9f3a"
            ],
            [
             0.8888888888888888,
             "#fdca26"
            ],
            [
             1,
             "#f0f921"
            ]
           ]
          },
          "colorway": [
           "#636efa",
           "#EF553B",
           "#00cc96",
           "#ab63fa",
           "#FFA15A",
           "#19d3f3",
           "#FF6692",
           "#B6E880",
           "#FF97FF",
           "#FECB52"
          ],
          "font": {
           "color": "#2a3f5f"
          },
          "geo": {
           "bgcolor": "white",
           "lakecolor": "white",
           "landcolor": "#E5ECF6",
           "showlakes": true,
           "showland": true,
           "subunitcolor": "white"
          },
          "hoverlabel": {
           "align": "left"
          },
          "hovermode": "closest",
          "mapbox": {
           "style": "light"
          },
          "paper_bgcolor": "white",
          "plot_bgcolor": "#E5ECF6",
          "polar": {
           "angularaxis": {
            "gridcolor": "white",
            "linecolor": "white",
            "ticks": ""
           },
           "bgcolor": "#E5ECF6",
           "radialaxis": {
            "gridcolor": "white",
            "linecolor": "white",
            "ticks": ""
           }
          },
          "scene": {
           "xaxis": {
            "backgroundcolor": "#E5ECF6",
            "gridcolor": "white",
            "gridwidth": 2,
            "linecolor": "white",
            "showbackground": true,
            "ticks": "",
            "zerolinecolor": "white"
           },
           "yaxis": {
            "backgroundcolor": "#E5ECF6",
            "gridcolor": "white",
            "gridwidth": 2,
            "linecolor": "white",
            "showbackground": true,
            "ticks": "",
            "zerolinecolor": "white"
           },
           "zaxis": {
            "backgroundcolor": "#E5ECF6",
            "gridcolor": "white",
            "gridwidth": 2,
            "linecolor": "white",
            "showbackground": true,
            "ticks": "",
            "zerolinecolor": "white"
           }
          },
          "shapedefaults": {
           "line": {
            "color": "#2a3f5f"
           }
          },
          "ternary": {
           "aaxis": {
            "gridcolor": "white",
            "linecolor": "white",
            "ticks": ""
           },
           "baxis": {
            "gridcolor": "white",
            "linecolor": "white",
            "ticks": ""
           },
           "bgcolor": "#E5ECF6",
           "caxis": {
            "gridcolor": "white",
            "linecolor": "white",
            "ticks": ""
           }
          },
          "title": {
           "x": 0.05
          },
          "xaxis": {
           "automargin": true,
           "gridcolor": "white",
           "linecolor": "white",
           "ticks": "",
           "title": {
            "standoff": 15
           },
           "zerolinecolor": "white",
           "zerolinewidth": 2
          },
          "yaxis": {
           "automargin": true,
           "gridcolor": "white",
           "linecolor": "white",
           "ticks": "",
           "title": {
            "standoff": 15
           },
           "zerolinecolor": "white",
           "zerolinewidth": 2
          }
         }
        },
        "title": {
         "text": "Full Horizon"
        }
       }
      },
      "text/html": [
       "<div>\n",
       "        \n",
       "        \n",
       "            <div id=\"147cb034-7fba-4ff5-b287-fabd27500bb0\" class=\"plotly-graph-div\" style=\"height:525px; width:100%;\"></div>\n",
       "            <script type=\"text/javascript\">\n",
       "                require([\"plotly\"], function(Plotly) {\n",
       "                    window.PLOTLYENV=window.PLOTLYENV || {};\n",
       "                    \n",
       "                if (document.getElementById(\"147cb034-7fba-4ff5-b287-fabd27500bb0\")) {\n",
       "                    Plotly.newPlot(\n",
       "                        '147cb034-7fba-4ff5-b287-fabd27500bb0',\n",
       "                        [{\"type\": \"scatter\", \"x\": [0.0, 0.0016287926118820906, 0.017916718497872353, 0.10000000149011612, 0.13662011921405792, 0.20000000298023224, 0.24346017837524414, 0.30000001192092896, 0.34766945242881775, 0.4000000059604645, 0.4506663978099823, 0.5, 0.5529648065567017, 0.6000000238418579, 0.6547490358352661, 0.699999988079071, 0.7561151385307312, 0.800000011920929, 0.8571366667747498, 0.8999999761581421, 0.9578906297683716, 1.0, 1.058414101600647, 1.100000023841858, 1.1587529182434082, 1.2000000476837158, 1.2589467763900757, 1.2999999523162842, 1.359035849571228, 1.399999976158142, 1.4590462446212769, 1.5, 1.5589935779571533, 1.600000023841858, 1.6589057445526123, 1.7000000476837158, 1.7587924003601074, 1.7999999523162842, 1.8586657047271729, 1.899999976158142, 1.9585342407226562, 2.0, 2.0584006309509277, 2.0999999046325684, 2.1582703590393066, 2.200000047683716, 2.258145570755005, 2.299999952316284, 2.3580281734466553, 2.4000000953674316, 2.4579224586486816, 2.5, 2.557816982269287, 2.5999999046325684, 2.6577236652374268, 2.700000047683716, 2.757638931274414, 2.799999952316284, 2.857562780380249, 2.9000000953674316, 2.957495927810669, 3.0, 3.0574347972869873, 3.0999999046325684, 3.157382011413574, 3.200000047683716, 3.2573347091674805, 3.299999952316284, 3.3572921752929688, 3.4000000953674316, 3.457254409790039, 3.5, 3.5572357177734375, 3.5999999046325684, 3.6571948528289795, 3.700000047683716, 3.757173776626587, 3.799999952316284, 3.8571767807006836, 3.9000000953674316, 3.957141637802124, 4.0, 4.057154178619385, 4.099999904632568, 4.157125473022461, 4.199999809265137, 4.257147789001465, 4.300000190734863, 4.3571577072143555, 4.400000095367432, 4.457126140594482, 4.5, 4.557159900665283, 4.599999904632568, 4.657180309295654, 4.699999809265137, 4.757157325744629, 4.800000190734863, 4.857199668884277, 4.900000095367432], \"y\": [4.641592502593994, 4.641591548919678, 4.641439914703369, 4.631176471710205, 4.620626449584961, 4.596307754516602, 4.5750226974487305, 4.543301582336426, 4.513181209564209, 4.477545738220215, 4.440835952758789, 4.403611183166504, 4.362470626831055, 4.325260639190674, 4.281631946563721, 4.245474338531494, 4.200987339019775, 4.166496753692627, 4.122427463531494, 4.089929103851318, 4.047196865081787, 4.016834259033203, 3.976067543029785, 3.947852849960327, 3.9094367027282715, 3.8833110332489014, 3.847442865371704, 3.823310136795044, 3.7900500297546387, 3.7678003311157227, 3.7371158599853516, 3.7166290283203125, 3.6884286403656006, 3.6695804595947266, 3.6437299251556396, 3.626404047012329, 3.6027514934539795, 3.5868334770202637, 3.5652167797088623, 3.5505974292755127, 3.530853033065796, 3.517429828643799, 3.4994008541107178, 3.487077236175537, 3.470613718032837, 3.4592995643615723, 3.4442615509033203, 3.4338724613189697, 3.4201297760009766, 3.410587787628174, 3.3980205059051514, 3.3892548084259033, 3.3777568340301514, 3.3697001934051514, 3.3591721057891846, 3.3517649173736572, 3.342118263244629, 3.3353054523468018, 3.3264598846435547, 3.3201920986175537, 3.312074899673462, 3.306305408477783, 3.298851728439331, 3.29353928565979, 3.2866897583007812, 3.2817959785461426, 3.2754979133605957, 3.2709884643554688, 3.265194892883301, 3.2610392570495605, 3.2557075023651123, 3.2518763542175293, 3.2469663619995117, 3.2434351444244385, 3.238913059234619, 3.235654354095459, 3.231485605239868, 3.228478193283081, 3.2246339321136475, 3.2218616008758545, 3.2183175086975098, 3.21575665473938, 3.2124857902526855, 3.2101240158081055, 3.207106351852417, 3.204923391342163, 3.2021358013153076, 3.200122356414795, 3.19754958152771, 3.1956913471221924, 3.1933159828186035, 3.1915972232818604, 3.189401149749756, 3.1878151893615723, 3.185786724090576, 3.1843228340148926, 3.1824491024017334, 3.1810946464538574, 3.179361581802368, 3.1781117916107178]}, {\"type\": \"scatter\", \"x\": [0.0, 0.0016287926118820906, 0.017916718497872353, 0.10000000149011612, 0.13662011921405792, 0.20000000298023224, 0.24346017837524414, 0.30000001192092896, 0.34766945242881775, 0.4000000059604645, 0.4506663978099823, 0.5, 0.5529648065567017, 0.6000000238418579, 0.6547490358352661, 0.699999988079071, 0.7561151385307312, 0.800000011920929, 0.8571366667747498, 0.8999999761581421, 0.9578906297683716, 1.0, 1.058414101600647, 1.100000023841858, 1.1587529182434082, 1.2000000476837158, 1.2589467763900757, 1.2999999523162842, 1.359035849571228, 1.399999976158142, 1.4590462446212769, 1.5, 1.5589935779571533, 1.600000023841858, 1.6589057445526123, 1.7000000476837158, 1.7587924003601074, 1.7999999523162842, 1.8586657047271729, 1.899999976158142, 1.9585342407226562, 2.0, 2.0584006309509277, 2.0999999046325684, 2.1582703590393066, 2.200000047683716, 2.258145570755005, 2.299999952316284, 2.3580281734466553, 2.4000000953674316, 2.4579224586486816, 2.5, 2.557816982269287, 2.5999999046325684, 2.6577236652374268, 2.700000047683716, 2.757638931274414, 2.799999952316284, 2.857562780380249, 2.9000000953674316, 2.957495927810669, 3.0, 3.0574347972869873, 3.0999999046325684, 3.157382011413574, 3.200000047683716, 3.2573347091674805, 3.299999952316284, 3.3572921752929688, 3.4000000953674316, 3.457254409790039, 3.5, 3.5572357177734375, 3.5999999046325684, 3.6571948528289795, 3.700000047683716, 3.757173776626587, 3.799999952316284, 3.8571767807006836, 3.9000000953674316, 3.957141637802124, 4.0, 4.057154178619385, 4.099999904632568, 4.157125473022461, 4.199999809265137, 4.257147789001465, 4.300000190734863, 4.3571577072143555, 4.400000095367432, 4.457126140594482, 4.5, 4.557159900665283, 4.599999904632568, 4.657180309295654, 4.699999809265137, 4.757157325744629, 4.800000190734863, 4.857199668884277, 4.900000095367432], \"y\": [1.0, 0.9999993443489075, 0.9999232292175293, 0.9982327222824097, 0.9966115951538086, 0.9917346835136414, 0.986790657043457, 0.9781219363212585, 0.9688612222671509, 0.9565974473953247, 0.9427279233932495, 0.9274292588233948, 0.9091988801956177, 0.8915992379188538, 0.8696506023406982, 0.8505005836486816, 0.8257107138633728, 0.8056932687759399, 0.779022753238678, 0.75871342420578, 0.7310774326324463, 0.710944652557373, 0.6831482648849487, 0.6635376811027527, 0.6362268924713135, 0.6173833012580872, 0.591033399105072, 0.5731106400489807, 0.548034131526947, 0.5311211943626404, 0.5075048208236694, 0.4916415810585022, 0.4695749878883362, 0.45475926995277405, 0.43425479531288147, 0.4204631447792053, 0.4014837443828583, 0.3886745870113373, 0.37115371227264404, 0.3592768609523773, 0.34312915802001953, 0.3321293890476227, 0.31726112961769104, 0.3070791959762573, 0.29339373111724854, 0.28397199511528015, 0.2713756561279297, 0.2626587748527527, 0.25106319785118103, 0.2429996132850647, 0.23232188820838928, 0.22486381232738495, 0.21502962708473206, 0.2081289142370224, 0.19906511902809143, 0.19267967343330383, 0.1843220442533493, 0.17841248214244843, 0.17070135474205017, 0.1652304083108902, 0.15811239182949066, 0.15304812788963318, 0.14647537469863892, 0.14178627729415894, 0.13571424782276154, 0.13137294352054596, 0.12576206028461456, 0.12174167484045029, 0.11655258387327194, 0.1128261536359787, 0.10802438110113144, 0.10457094013690948, 0.10012413561344147, 0.09692253917455673, 0.09280729293823242, 0.0898403599858284, 0.08603149652481079, 0.08328314125537872, 0.07975243031978607, 0.07720255851745605, 0.07393237948417664, 0.07156955450773239, 0.06853747367858887, 0.06634562462568283, 0.06353768706321716, 0.06150813400745392, 0.05890500918030739, 0.057022448629140854, 0.05460537225008011, 0.05285808816552162, 0.05062028393149376, 0.04900318756699562, 0.04692884162068367, 0.045429542660713196, 0.04350327327847481, 0.04211205616593361, 0.04032810777425766, 0.03904031962156296, 0.03738598898053169, 0.036192234605550766]}, {\"type\": \"scatter\", \"x\": [0.0, 0.0016287926118820906, 0.017916718497872353, 0.10000000149011612, 0.13662011921405792, 0.20000000298023224, 0.24346017837524414, 0.30000001192092896, 0.34766945242881775, 0.4000000059604645, 0.4506663978099823, 0.5, 0.5529648065567017, 0.6000000238418579, 0.6547490358352661, 0.699999988079071, 0.7561151385307312, 0.800000011920929, 0.8571366667747498, 0.8999999761581421, 0.9578906297683716, 1.0, 1.058414101600647, 1.100000023841858, 1.1587529182434082, 1.2000000476837158, 1.2589467763900757, 1.2999999523162842, 1.359035849571228, 1.399999976158142, 1.4590462446212769, 1.5, 1.5589935779571533, 1.600000023841858, 1.6589057445526123, 1.7000000476837158, 1.7587924003601074, 1.7999999523162842, 1.8586657047271729, 1.899999976158142, 1.9585342407226562, 2.0, 2.0584006309509277, 2.0999999046325684, 2.1582703590393066, 2.200000047683716, 2.258145570755005, 2.299999952316284, 2.3580281734466553, 2.4000000953674316, 2.4579224586486816, 2.5, 2.557816982269287, 2.5999999046325684, 2.6577236652374268, 2.700000047683716, 2.757638931274414, 2.799999952316284, 2.857562780380249, 2.9000000953674316, 2.957495927810669, 3.0, 3.0574347972869873, 3.0999999046325684, 3.157382011413574, 3.200000047683716, 3.2573347091674805, 3.299999952316284, 3.3572921752929688, 3.4000000953674316, 3.457254409790039, 3.5, 3.5572357177734375, 3.5999999046325684, 3.6571948528289795, 3.700000047683716, 3.757173776626587, 3.799999952316284, 3.8571767807006836, 3.9000000953674316, 3.957141637802124, 4.0, 4.057154178619385, 4.099999904632568, 4.157125473022461, 4.199999809265137, 4.257147789001465, 4.300000190734863, 4.3571577072143555, 4.400000095367432, 4.457126140594482, 4.5, 4.557159900665283, 4.599999904632568, 4.657180309295654, 4.699999809265137, 4.757157325744629, 4.800000190734863, 4.857199668884277, 4.900000095367432], \"y\": [0.0, -0.0012042612070217729, -0.019282177090644836, -0.27706030011177063, -0.3079187572002411, -0.4856020510196686, -0.5056250095367432, -0.6359856128692627, -0.6409045457839966, -0.7366822361946106, -0.7263115048408508, -0.795781672000885, -0.7718887329101562, -0.8213092088699341, -0.7865546345710754, -0.820963442325592, -0.7783303260803223, -0.8017372488975525, -0.7540493607521057, -0.7695425748825073, -0.7192903757095337, -0.7292097210884094, -0.6783223152160645, -0.6843798160552979, -0.6342864632606506, -0.6377275586128235, -0.5893757939338684, -0.5910611152648926, -0.5450643301010132, -0.5456011891365051, -0.5023336410522461, -0.5021653771400452, -0.46177488565444946, -0.46121498942375183, -0.4237178862094879, -0.42295199632644653, -0.3882976770401001, -0.38747766613960266, -0.35555848479270935, -0.3547714352607727, -0.3254413902759552, -0.3247400224208832, -0.29781755805015564, -0.29723086953163147, -0.2725510597229004, -0.27209168672561646, -0.24948975443840027, -0.24915891885757446, -0.22847343981266022, -0.22826232016086578, -0.20932501554489136, -0.2092195302248001, -0.1918829083442688, -0.19186758995056152, -0.17599545419216156, -0.17606014013290405, -0.16151881217956543, -0.16164880990982056, -0.14831207692623138, -0.14849449694156647, -0.13627620041370392, -0.1364995688199997, -0.1252850741147995, -0.12553736567497253, -0.1152476966381073, -0.11552521586418152, -0.10606703162193298, -0.10635482519865036, -0.0976390466094017, -0.09793134033679962, -0.08992597460746765, -0.09022358059883118, -0.08283767104148865, -0.08313623815774918, -0.07636592537164688, -0.0766611099243164, -0.07042985409498215, -0.0707172080874443, -0.06493119150400162, -0.06520484387874603, -0.05991916358470917, -0.06018848717212677, -0.05527495592832565, -0.05552943795919418, -0.05104699358344078, -0.05129650980234146, -0.04711383208632469, -0.047342512756586075, -0.04347981885075569, -0.04370185732841492, -0.04018759727478027, -0.04040122777223587, -0.03711502254009247, -0.037308551371097565, -0.03426966443657875, -0.03445543348789215, -0.03168472275137901, -0.031860027462244034, -0.029271550476551056, -0.029432173818349838]}, {\"type\": \"scatter\", \"x\": [0.0, 0.0016287926118820906, 0.017916718497872353, 0.10000000149011612, 0.13662011921405792, 0.20000000298023224, 0.24346017837524414, 0.30000001192092896, 0.34766945242881775, 0.4000000059604645, 0.4506663978099823, 0.5, 0.5529648065567017, 0.6000000238418579, 0.6547490358352661, 0.699999988079071, 0.7561151385307312, 0.800000011920929, 0.8571366667747498, 0.8999999761581421, 0.9578906297683716, 1.0, 1.058414101600647, 1.100000023841858, 1.1587529182434082, 1.2000000476837158, 1.2589467763900757, 1.2999999523162842, 1.359035849571228, 1.399999976158142, 1.4590462446212769, 1.5, 1.5589935779571533, 1.600000023841858, 1.6589057445526123, 1.7000000476837158, 1.7587924003601074, 1.7999999523162842, 1.8586657047271729, 1.899999976158142, 1.9585342407226562, 2.0, 2.0584006309509277, 2.0999999046325684, 2.1582703590393066, 2.200000047683716, 2.258145570755005, 2.299999952316284, 2.3580281734466553, 2.4000000953674316, 2.4579224586486816, 2.5, 2.557816982269287, 2.5999999046325684, 2.6577236652374268, 2.700000047683716, 2.757638931274414, 2.799999952316284, 2.857562780380249, 2.9000000953674316, 2.957495927810669, 3.0, 3.0574347972869873, 3.0999999046325684, 3.157382011413574, 3.200000047683716, 3.2573347091674805, 3.299999952316284, 3.3572921752929688, 3.4000000953674316, 3.457254409790039, 3.5, 3.5572357177734375, 3.5999999046325684, 3.6571948528289795, 3.700000047683716, 3.757173776626587, 3.799999952316284, 3.8571767807006836, 3.9000000953674316, 3.957141637802124, 4.0, 4.057154178619385, 4.099999904632568, 4.157125473022461, 4.199999809265137, 4.257147789001465, 4.300000190734863, 4.3571577072143555, 4.400000095367432, 4.457126140594482, 4.5, 4.557159900665283, 4.599999904632568, 4.657180309295654, 4.699999809265137, 4.757157325744629, 4.800000190734863, 4.857199668884277, 4.900000095367432], \"y\": [0.0, -0.0008165439940057695, -0.0083254249766469, -0.027806764468550682, -0.05904587358236313, -0.09021691977977753, -0.13446150720119476, -0.16787554323673248, -0.21707512438297272, -0.24782589077949524, -0.2957238554954529, -0.32127466797828674, -0.3632321357727051, -0.38256821036338806, -0.4156992435455322, -0.4287819564342499, -0.45180657505989075, -0.4591453969478607, -0.4721675217151642, -0.47465670108795166, -0.4785902202129364, -0.47724980115890503, -0.47363683581352234, -0.4694734513759613, -0.46001502871513367, -0.45392709970474243, -0.44040897488594055, -0.43318960070610046, -0.4170534014701843, -0.409284770488739, -0.39164790511131287, -0.38373973965644836, -0.36555853486061096, -0.3578023612499237, -0.3397001624107361, -0.33230912685394287, -0.31471601128578186, -0.3077705204486847, -0.2909489870071411, -0.284517765045166, -0.2686152756214142, -0.26270821690559387, -0.2478332668542862, -0.24243956804275513, -0.2285933792591095, -0.22368690371513367, -0.2108357697725296, -0.2063838392496109, -0.19446493685245514, -0.1904280036687851, -0.17939263582229614, -0.17571845650672913, -0.1655353307723999, -0.16223357617855072, -0.1528167873620987, -0.1498217135667801, -0.14112545549869537, -0.13840793073177338, -0.1303974986076355, -0.12793006002902985, -0.12050314992666245, -0.11825504153966904, -0.11140063405036926, -0.10935724526643753, -0.10300556570291519, -0.10113063454627991, -0.09527172893285751, -0.09356853365898132, -0.08820203691720963, -0.08665589243173599, -0.08166566491127014, -0.08024373650550842, -0.07567474246025085, -0.07435687631368637, -0.07005775719881058, -0.06885460764169693, -0.06486193835735321, -0.06375640630722046, -0.06016990542411804, -0.05915694311261177, -0.05571760982275009, -0.054778989404439926, -0.05169146507978439, -0.050828516483306885, -0.04784279316663742, -0.04703546687960625, -0.04438552260398865, -0.04365656524896622, -0.04121003299951553, -0.040520910173654556, -0.03812014311552048, -0.0374804325401783, -0.03535778075456619, -0.034782525151968, -0.03282714635133743, -0.032284144312143326, -0.03037484921514988, -0.02987515740096569, -0.028176866471767426, -0.027721473947167397]}],\n",
       "                        {\"template\": {\"data\": {\"bar\": [{\"error_x\": {\"color\": \"#2a3f5f\"}, \"error_y\": {\"color\": \"#2a3f5f\"}, \"marker\": {\"line\": {\"color\": \"#E5ECF6\", \"width\": 0.5}}, \"type\": \"bar\"}], \"barpolar\": [{\"marker\": {\"line\": {\"color\": \"#E5ECF6\", \"width\": 0.5}}, \"type\": \"barpolar\"}], \"carpet\": [{\"aaxis\": {\"endlinecolor\": \"#2a3f5f\", \"gridcolor\": \"white\", \"linecolor\": \"white\", \"minorgridcolor\": \"white\", \"startlinecolor\": \"#2a3f5f\"}, \"baxis\": {\"endlinecolor\": \"#2a3f5f\", \"gridcolor\": \"white\", \"linecolor\": \"white\", \"minorgridcolor\": \"white\", \"startlinecolor\": \"#2a3f5f\"}, \"type\": \"carpet\"}], \"choropleth\": [{\"colorbar\": {\"outlinewidth\": 0, \"ticks\": \"\"}, \"type\": \"choropleth\"}], \"contour\": [{\"colorbar\": {\"outlinewidth\": 0, \"ticks\": \"\"}, \"colorscale\": [[0.0, \"#0d0887\"], [0.1111111111111111, \"#46039f\"], [0.2222222222222222, \"#7201a8\"], [0.3333333333333333, \"#9c179e\"], [0.4444444444444444, \"#bd3786\"], [0.5555555555555556, \"#d8576b\"], [0.6666666666666666, \"#ed7953\"], [0.7777777777777778, \"#fb9f3a\"], [0.8888888888888888, \"#fdca26\"], [1.0, \"#f0f921\"]], \"type\": \"contour\"}], \"contourcarpet\": [{\"colorbar\": {\"outlinewidth\": 0, \"ticks\": \"\"}, \"type\": \"contourcarpet\"}], \"heatmap\": [{\"colorbar\": {\"outlinewidth\": 0, \"ticks\": \"\"}, \"colorscale\": [[0.0, \"#0d0887\"], [0.1111111111111111, \"#46039f\"], [0.2222222222222222, \"#7201a8\"], [0.3333333333333333, \"#9c179e\"], [0.4444444444444444, \"#bd3786\"], [0.5555555555555556, \"#d8576b\"], [0.6666666666666666, \"#ed7953\"], [0.7777777777777778, \"#fb9f3a\"], [0.8888888888888888, \"#fdca26\"], [1.0, \"#f0f921\"]], \"type\": \"heatmap\"}], \"heatmapgl\": [{\"colorbar\": {\"outlinewidth\": 0, \"ticks\": \"\"}, \"colorscale\": [[0.0, \"#0d0887\"], [0.1111111111111111, \"#46039f\"], [0.2222222222222222, \"#7201a8\"], [0.3333333333333333, \"#9c179e\"], [0.4444444444444444, \"#bd3786\"], [0.5555555555555556, \"#d8576b\"], [0.6666666666666666, \"#ed7953\"], [0.7777777777777778, \"#fb9f3a\"], [0.8888888888888888, \"#fdca26\"], [1.0, \"#f0f921\"]], \"type\": \"heatmapgl\"}], \"histogram\": [{\"marker\": {\"colorbar\": {\"outlinewidth\": 0, \"ticks\": \"\"}}, \"type\": \"histogram\"}], \"histogram2d\": [{\"colorbar\": {\"outlinewidth\": 0, \"ticks\": \"\"}, \"colorscale\": [[0.0, \"#0d0887\"], [0.1111111111111111, \"#46039f\"], [0.2222222222222222, \"#7201a8\"], [0.3333333333333333, \"#9c179e\"], [0.4444444444444444, \"#bd3786\"], [0.5555555555555556, \"#d8576b\"], [0.6666666666666666, \"#ed7953\"], [0.7777777777777778, \"#fb9f3a\"], [0.8888888888888888, \"#fdca26\"], [1.0, \"#f0f921\"]], \"type\": \"histogram2d\"}], \"histogram2dcontour\": [{\"colorbar\": {\"outlinewidth\": 0, \"ticks\": \"\"}, \"colorscale\": [[0.0, \"#0d0887\"], [0.1111111111111111, \"#46039f\"], [0.2222222222222222, \"#7201a8\"], [0.3333333333333333, \"#9c179e\"], [0.4444444444444444, \"#bd3786\"], [0.5555555555555556, \"#d8576b\"], [0.6666666666666666, \"#ed7953\"], [0.7777777777777778, \"#fb9f3a\"], [0.8888888888888888, \"#fdca26\"], [1.0, \"#f0f921\"]], \"type\": \"histogram2dcontour\"}], \"mesh3d\": [{\"colorbar\": {\"outlinewidth\": 0, \"ticks\": \"\"}, \"type\": \"mesh3d\"}], \"parcoords\": [{\"line\": {\"colorbar\": {\"outlinewidth\": 0, \"ticks\": \"\"}}, \"type\": \"parcoords\"}], \"pie\": [{\"automargin\": true, \"type\": \"pie\"}], \"scatter\": [{\"marker\": {\"colorbar\": {\"outlinewidth\": 0, \"ticks\": \"\"}}, \"type\": \"scatter\"}], \"scatter3d\": [{\"line\": {\"colorbar\": {\"outlinewidth\": 0, \"ticks\": \"\"}}, \"marker\": {\"colorbar\": {\"outlinewidth\": 0, \"ticks\": \"\"}}, \"type\": \"scatter3d\"}], \"scattercarpet\": [{\"marker\": {\"colorbar\": {\"outlinewidth\": 0, \"ticks\": \"\"}}, \"type\": \"scattercarpet\"}], \"scattergeo\": [{\"marker\": {\"colorbar\": {\"outlinewidth\": 0, \"ticks\": \"\"}}, \"type\": \"scattergeo\"}], \"scattergl\": [{\"marker\": {\"colorbar\": {\"outlinewidth\": 0, \"ticks\": \"\"}}, \"type\": \"scattergl\"}], \"scattermapbox\": [{\"marker\": {\"colorbar\": {\"outlinewidth\": 0, \"ticks\": \"\"}}, \"type\": \"scattermapbox\"}], \"scatterpolar\": [{\"marker\": {\"colorbar\": {\"outlinewidth\": 0, \"ticks\": \"\"}}, \"type\": \"scatterpolar\"}], \"scatterpolargl\": [{\"marker\": {\"colorbar\": {\"outlinewidth\": 0, \"ticks\": \"\"}}, \"type\": \"scatterpolargl\"}], \"scatterternary\": [{\"marker\": {\"colorbar\": {\"outlinewidth\": 0, \"ticks\": \"\"}}, \"type\": \"scatterternary\"}], \"surface\": [{\"colorbar\": {\"outlinewidth\": 0, \"ticks\": \"\"}, \"colorscale\": [[0.0, \"#0d0887\"], [0.1111111111111111, \"#46039f\"], [0.2222222222222222, \"#7201a8\"], [0.3333333333333333, \"#9c179e\"], [0.4444444444444444, \"#bd3786\"], [0.5555555555555556, \"#d8576b\"], [0.6666666666666666, \"#ed7953\"], [0.7777777777777778, \"#fb9f3a\"], [0.8888888888888888, \"#fdca26\"], [1.0, \"#f0f921\"]], \"type\": \"surface\"}], \"table\": [{\"cells\": {\"fill\": {\"color\": \"#EBF0F8\"}, \"line\": {\"color\": \"white\"}}, \"header\": {\"fill\": {\"color\": \"#C8D4E3\"}, \"line\": {\"color\": \"white\"}}, \"type\": \"table\"}]}, \"layout\": {\"annotationdefaults\": {\"arrowcolor\": \"#2a3f5f\", \"arrowhead\": 0, \"arrowwidth\": 1}, \"coloraxis\": {\"colorbar\": {\"outlinewidth\": 0, \"ticks\": \"\"}}, \"colorscale\": {\"diverging\": [[0, \"#8e0152\"], [0.1, \"#c51b7d\"], [0.2, \"#de77ae\"], [0.3, \"#f1b6da\"], [0.4, \"#fde0ef\"], [0.5, \"#f7f7f7\"], [0.6, \"#e6f5d0\"], [0.7, \"#b8e186\"], [0.8, \"#7fbc41\"], [0.9, \"#4d9221\"], [1, \"#276419\"]], \"sequential\": [[0.0, \"#0d0887\"], [0.1111111111111111, \"#46039f\"], [0.2222222222222222, \"#7201a8\"], [0.3333333333333333, \"#9c179e\"], [0.4444444444444444, \"#bd3786\"], [0.5555555555555556, \"#d8576b\"], [0.6666666666666666, \"#ed7953\"], [0.7777777777777778, \"#fb9f3a\"], [0.8888888888888888, \"#fdca26\"], [1.0, \"#f0f921\"]], \"sequentialminus\": [[0.0, \"#0d0887\"], [0.1111111111111111, \"#46039f\"], [0.2222222222222222, \"#7201a8\"], [0.3333333333333333, \"#9c179e\"], [0.4444444444444444, \"#bd3786\"], [0.5555555555555556, \"#d8576b\"], [0.6666666666666666, \"#ed7953\"], [0.7777777777777778, \"#fb9f3a\"], [0.8888888888888888, \"#fdca26\"], [1.0, \"#f0f921\"]]}, \"colorway\": [\"#636efa\", \"#EF553B\", \"#00cc96\", \"#ab63fa\", \"#FFA15A\", \"#19d3f3\", \"#FF6692\", \"#B6E880\", \"#FF97FF\", \"#FECB52\"], \"font\": {\"color\": \"#2a3f5f\"}, \"geo\": {\"bgcolor\": \"white\", \"lakecolor\": \"white\", \"landcolor\": \"#E5ECF6\", \"showlakes\": true, \"showland\": true, \"subunitcolor\": \"white\"}, \"hoverlabel\": {\"align\": \"left\"}, \"hovermode\": \"closest\", \"mapbox\": {\"style\": \"light\"}, \"paper_bgcolor\": \"white\", \"plot_bgcolor\": \"#E5ECF6\", \"polar\": {\"angularaxis\": {\"gridcolor\": \"white\", \"linecolor\": \"white\", \"ticks\": \"\"}, \"bgcolor\": \"#E5ECF6\", \"radialaxis\": {\"gridcolor\": \"white\", \"linecolor\": \"white\", \"ticks\": \"\"}}, \"scene\": {\"xaxis\": {\"backgroundcolor\": \"#E5ECF6\", \"gridcolor\": \"white\", \"gridwidth\": 2, \"linecolor\": \"white\", \"showbackground\": true, \"ticks\": \"\", \"zerolinecolor\": \"white\"}, \"yaxis\": {\"backgroundcolor\": \"#E5ECF6\", \"gridcolor\": \"white\", \"gridwidth\": 2, \"linecolor\": \"white\", \"showbackground\": true, \"ticks\": \"\", \"zerolinecolor\": \"white\"}, \"zaxis\": {\"backgroundcolor\": \"#E5ECF6\", \"gridcolor\": \"white\", \"gridwidth\": 2, \"linecolor\": \"white\", \"showbackground\": true, \"ticks\": \"\", \"zerolinecolor\": \"white\"}}, \"shapedefaults\": {\"line\": {\"color\": \"#2a3f5f\"}}, \"ternary\": {\"aaxis\": {\"gridcolor\": \"white\", \"linecolor\": \"white\", \"ticks\": \"\"}, \"baxis\": {\"gridcolor\": \"white\", \"linecolor\": \"white\", \"ticks\": \"\"}, \"bgcolor\": \"#E5ECF6\", \"caxis\": {\"gridcolor\": \"white\", \"linecolor\": \"white\", \"ticks\": \"\"}}, \"title\": {\"x\": 0.05}, \"xaxis\": {\"automargin\": true, \"gridcolor\": \"white\", \"linecolor\": \"white\", \"ticks\": \"\", \"title\": {\"standoff\": 15}, \"zerolinecolor\": \"white\", \"zerolinewidth\": 2}, \"yaxis\": {\"automargin\": true, \"gridcolor\": \"white\", \"linecolor\": \"white\", \"ticks\": \"\", \"title\": {\"standoff\": 15}, \"zerolinecolor\": \"white\", \"zerolinewidth\": 2}}}, \"title\": {\"text\": \"Full Horizon\"}},\n",
       "                        {\"responsive\": true}\n",
       "                    ).then(function(){\n",
       "                            \n",
       "var gd = document.getElementById('147cb034-7fba-4ff5-b287-fabd27500bb0');\n",
       "var x = new MutationObserver(function (mutations, observer) {{\n",
       "        var display = window.getComputedStyle(gd).display;\n",
       "        if (!display || display === 'none') {{\n",
       "            console.log([gd, 'removed!']);\n",
       "            Plotly.purge(gd);\n",
       "            observer.disconnect();\n",
       "        }}\n",
       "}});\n",
       "\n",
       "// Listen for the removal of the full notebook cells\n",
       "var notebookContainer = gd.closest('#notebook-container');\n",
       "if (notebookContainer) {{\n",
       "    x.observe(notebookContainer, {childList: true});\n",
       "}}\n",
       "\n",
       "// Listen for the clearing of the current output cell\n",
       "var outputEl = gd.closest('.output');\n",
       "if (outputEl) {{\n",
       "    x.observe(outputEl, {childList: true});\n",
       "}}\n",
       "\n",
       "                        })\n",
       "                };\n",
       "                });\n",
       "            </script>\n",
       "        </div>"
      ]
     },
     "metadata": {},
     "output_type": "display_data"
    }
   ],
   "source": [
    "# x_nom = torch.tensor([np.pi, 0., 0., 0.], dtype=vf.dtype)\n",
    "# u_nom = torch.zeros(vf.u_dim[0], dtype=vf.dtype)\n",
    "# Q = torch.diag(torch.tensor([.1, .1, .1, .1]))\n",
    "# R = torch.diag(torch.tensor([.001, .001]))\n",
    "# ctrl, S = controllers.get_lqr_controller(sys.dx, x_nom, u_nom, Q, R, vf.u_lo[0], vf.u_up[0])\n",
    "\n",
    "ctrl = controllers.get_limited_lookahead_controller(get_value_function(offline_horizon)[0])\n",
    "\n",
    "x0 = torch.tensor([np.pi+1.5, 1., 0., 0.], dtype=vf.dtype)\n",
    "x_traj_sim, t_traj_sim = controllers.sim_ctrl(x0, vf.u_dim[0], sys.dx, ctrl, .1, 50)\n",
    "controllers.plot_sim(t_traj_sim, x_traj_sim, \"Full Horizon\").show()"
   ]
  },
  {
   "cell_type": "code",
   "execution_count": 255,
   "metadata": {},
   "outputs": [],
   "source": [
    "opt = dict(\n",
    "    batch_size = 100,\n",
    "    learning_rate = 1e-3,\n",
    "    \n",
    "    nn_width = 20,\n",
    "    nn_depth = 2,\n",
    "    \n",
    "    num_samples_validation = 1000,\n",
    "    \n",
    "    max_buffer_size = None,\n",
    "        \n",
    "    init_num_samples = [3, 3, 5, 5], \n",
    "    init_num_trainig_step = 50000,\n",
    "\n",
    "    num_generations = 3,\n",
    "    num_samples_per_generation = 100,\n",
    "    num_train_step_per_gen = 10000,\n",
    "    \n",
    "    adv_max_iter = 3,\n",
    "    adv_conv_tol = 1e-5,\n",
    "    adv_learning_rate = .5,\n",
    ")"
   ]
  },
  {
   "cell_type": "code",
   "execution_count": 256,
   "metadata": {},
   "outputs": [],
   "source": [
    "sys_name = 'double_pendulum'\n",
    "validation_file = '../data/validation_' + sys_name\n",
    "init_file = '../data/init_' + sys_name"
   ]
  },
  {
   "cell_type": "code",
   "execution_count": 257,
   "metadata": {},
   "outputs": [],
   "source": [
    "x0_lo = torch.tensor([np.pi, 0., 0., 0.], dtype=vf.dtype) - 1.\n",
    "x0_up = torch.tensor([np.pi, 0., 0., 0.], dtype=vf.dtype) + 1.\n",
    "\n",
    "samples_gen_rand = samples_generator.RandomSampleGenerator(vf, x0_lo, x0_up)\n",
    "samples_gen_grid = samples_generator.GridSampleGenerator(vf, x0_lo, x0_up)\n",
    "samples_gen_adv = samples_generator.AdversarialSampleGenerator(vf, x0_lo, x0_up, \n",
    "                                                               max_iter=opt['adv_max_iter'],\n",
    "                                                               conv_tol=opt['adv_conv_tol'],\n",
    "                                                               learning_rate=opt['adv_learning_rate'])"
   ]
  },
  {
   "cell_type": "code",
   "execution_count": 10,
   "metadata": {},
   "outputs": [
    {
     "name": "stdout",
     "output_type": "stream",
     "text": [
      "Progress: [########################################] 100.0%\n"
     ]
    }
   ],
   "source": [
    "x_validation, v_validation = samples_gen_rand.generate_samples(opt['num_samples_validation'],\n",
    "                                                               include_time=True,\n",
    "                                                               show_progress=True)"
   ]
  },
  {
   "cell_type": "code",
   "execution_count": 11,
   "metadata": {},
   "outputs": [],
   "source": [
    "torch.save(x_validation, validation_file + '_x.pt')\n",
    "torch.save(v_validation, validation_file + '_v.pt')"
   ]
  },
  {
   "cell_type": "code",
   "execution_count": 258,
   "metadata": {},
   "outputs": [],
   "source": [
    "x_validation = torch.load(validation_file + '_x.pt')\n",
    "v_validation = torch.load(validation_file + '_v.pt')"
   ]
  },
  {
   "cell_type": "code",
   "execution_count": 12,
   "metadata": {},
   "outputs": [
    {
     "name": "stdout",
     "output_type": "stream",
     "text": [
      "Progress: [########################################] 100.0%\n"
     ]
    }
   ],
   "source": [
    "x_init, v_init = samples_gen_grid.generate_samples(opt['init_num_samples'],\n",
    "                                                   include_time=True,\n",
    "                                                   show_progress=True)"
   ]
  },
  {
   "cell_type": "code",
   "execution_count": 13,
   "metadata": {},
   "outputs": [],
   "source": [
    "torch.save(x_init, init_file + '_x.pt')\n",
    "torch.save(v_init, init_file + '_v.pt')"
   ]
  },
  {
   "cell_type": "code",
   "execution_count": 259,
   "metadata": {},
   "outputs": [],
   "source": [
    "x_init = torch.load(init_file + '_x.pt')\n",
    "v_init = torch.load(init_file + '_v.pt')"
   ]
  },
  {
   "cell_type": "code",
   "execution_count": 260,
   "metadata": {},
   "outputs": [],
   "source": [
    "scaling = torch.mean(v_init)\n",
    "\n",
    "# model = value_approximation.QuadraticModel(vf.dtype,\n",
    "#                                            1 + vf.x_dim[0],\n",
    "#                                            scaling=scaling)\n",
    "\n",
    "model = value_approximation.NeuralNetworkModel(vf.dtype,\n",
    "                                               1 + vf.x_dim[0],\n",
    "                                               opt['nn_width'],\n",
    "                                               opt['nn_depth'],\n",
    "                                               scaling=scaling)\n",
    "\n",
    "vf_approx = value_approximation.ValueFunctionApproximation(model, learning_rate=opt['learning_rate'])\n",
    "\n",
    "train_log = training_log.TrainingLog(prefix=\"baseline\")"
   ]
  },
  {
   "cell_type": "code",
   "execution_count": 252,
   "metadata": {},
   "outputs": [],
   "source": [
    "samples_buff = samples_buffer.SamplesBuffer(1 + vf.x_dim[0], 1, vf.dtype, max_size=opt['max_buffer_size'])"
   ]
  },
  {
   "cell_type": "code",
   "execution_count": 148,
   "metadata": {},
   "outputs": [],
   "source": [
    "samples_buff.add_samples(x_init, v_init)"
   ]
  },
  {
   "cell_type": "code",
   "execution_count": 149,
   "metadata": {},
   "outputs": [],
   "source": [
    "for train_step_i in range(opt['init_num_trainig_step']):\n",
    "    x, v = samples_buff.get_random_samples(opt['batch_size'])\n",
    "    loss = vf_approx.train_step(x, v)\n",
    "    train_log.add_train_loss(loss)"
   ]
  },
  {
   "cell_type": "code",
   "execution_count": 261,
   "metadata": {},
   "outputs": [],
   "source": [
    "samples_buff = samples_buffer.SamplesBuffer(1 + vf.x_dim[0], 1, vf.dtype, max_size=opt['num_samples_per_generation']*25)"
   ]
  },
  {
   "cell_type": "code",
   "execution_count": 262,
   "metadata": {},
   "outputs": [],
   "source": [
    "samples_buff_adv = copy.deepcopy(samples_buff)\n",
    "vf_approx_adv = copy.deepcopy(vf_approx)\n",
    "train_log_adv = training_log.TrainingLog.get_copy(train_log,\n",
    "                                                  prefix=\"adversarial\",\n",
    "                                                  keep_writer=True)"
   ]
  },
  {
   "cell_type": "code",
   "execution_count": 263,
   "metadata": {},
   "outputs": [],
   "source": [
    "validation_losses = vf_approx_adv.validation_loss(x_validation, v_validation)\n",
    "train_log_adv.add_validation_loss(validation_losses)\n",
    "validation_losses = vf_approx.validation_loss(x_validation, v_validation)\n",
    "train_log.add_validation_loss(validation_losses)\n",
    "for gen_i in range(opt['num_generations']):\n",
    "    # adverserial samples\n",
    "    (x, v) = samples_gen_adv.generate_samples(opt['num_samples_per_generation'], vf_approx_adv, include_time=True)\n",
    "    samples_buff_adv.add_samples(x, v)\n",
    "    # random samples\n",
    "    (x, v) = samples_gen_rand.generate_samples(opt['num_samples_per_generation'], include_time=True)\n",
    "    samples_buff.add_samples(x, v)\n",
    "    for train_step_i in range(opt['num_train_step_per_gen']):\n",
    "        samples_indices = samples_buff_adv.get_random_sample_indices(opt['batch_size'])\n",
    "        x, v = samples_buff_adv.get_samples_from_indices(samples_indices)\n",
    "        losses = vf_approx_adv.train_step(x, v)\n",
    "        train_log_adv.add_train_loss(losses)\n",
    "        x, v = samples_buff.get_samples_from_indices(samples_indices)\n",
    "        losses = vf_approx.train_step(x, v)\n",
    "        train_log.add_train_loss(losses)\n",
    "    validation_losses = vf_approx_adv.validation_loss(x_validation, v_validation)\n",
    "    train_log_adv.add_validation_loss(validation_losses)\n",
    "    validation_losses = vf_approx.validation_loss(x_validation, v_validation)\n",
    "    train_log.add_validation_loss(validation_losses)"
   ]
  },
  {
   "cell_type": "code",
   "execution_count": 276,
   "metadata": {},
   "outputs": [],
   "source": [
    "x0 = torch.tensor([np.pi+1., 1., 2., 1.], dtype=vf.dtype)\n",
    "dt_sim = .1\n",
    "N = 50\n",
    "online_horizon = 5\n",
    "integration_mode = \"foh\""
   ]
  },
  {
   "cell_type": "code",
   "execution_count": 277,
   "metadata": {},
   "outputs": [
    {
     "data": {
      "application/vnd.plotly.v1+json": {
       "config": {
        "plotlyServerURL": "https://plot.ly"
       },
       "data": [
        {
         "type": "scatter",
         "x": [
          0,
          0.054166942834854126,
          0.10000000149011612,
          0.15179157257080078,
          0.20000000298023224,
          0.24848367273807526,
          0.30000001192092896,
          0.3445296287536621,
          0.4000000059604645,
          0.43978819251060486,
          0.5,
          0.5331918001174927,
          0.6000000238418579,
          0.6099185347557068,
          0.699999988079071,
          0.7335813641548157,
          0.800000011920929,
          0.8369660377502441,
          0.8999999761581421,
          0.9387856721878052,
          1,
          1.0398343801498413,
          1.100000023841858,
          1.1404060125350952,
          1.2000000476837158,
          1.2405742406845093,
          1.2999999523162842,
          1.3399649858474731,
          1.399999976158142,
          1.4348007440567017,
          1.5,
          1.536122441291809,
          1.600000023841858,
          1.6405078172683716,
          1.7000000476837158,
          1.7416613101959229,
          1.7999999523162842,
          1.8421961069107056,
          1.899999976158142,
          1.9424970149993896,
          2,
          2.042634963989258,
          2.0999999046325684,
          2.142629384994507,
          2.200000047683716,
          2.2424771785736084,
          2.299999952316284,
          2.342158317565918,
          2.4000000953674316,
          2.4417123794555664,
          2.5,
          2.541079044342041,
          2.5999999046325684,
          2.640275478363037,
          2.700000047683716,
          2.739290952682495,
          2.799999952316284,
          2.8381149768829346,
          2.9000000953674316,
          2.9367239475250244,
          3,
          3.03507661819458,
          3.0999999046325684,
          3.133090019226074,
          3.200000047683716,
          3.2305562496185303,
          3.299999952316284,
          3.3232312202453613,
          3.4000000953674316,
          3.4117729663848877,
          3.5,
          3.5076212882995605,
          3.583833932876587,
          3.5999999046325684,
          3.6255130767822266,
          3.700000047683716,
          3.728670835494995,
          3.799999952316284,
          3.8302104473114014,
          3.9000000953674316,
          3.9312236309051514,
          4,
          4.031895637512207,
          4.099999904632568,
          4.132317543029785,
          4.199999809265137,
          4.2325439453125,
          4.300000190734863,
          4.332606315612793,
          4.400000095367432,
          4.432515621185303,
          4.5,
          4.532289505004883,
          4.599999904632568,
          4.631938457489014,
          4.699999809265137,
          4.73146915435791,
          4.800000190734863,
          4.830873489379883,
          4.900000095367432
         ],
         "y": [
          4.141592502593994,
          4.2513251304626465,
          4.342302322387695,
          4.443077564239502,
          4.534724235534668,
          4.624680042266846,
          4.717897891998291,
          4.796116828918457,
          4.890895843505859,
          4.956414222717285,
          5.0524678230285645,
          5.103013515472412,
          5.201067924499512,
          5.21478796005249,
          5.335058212280273,
          5.3762526512146,
          5.452936172485352,
          5.4919867515563965,
          5.553543567657471,
          5.587591171264648,
          5.636207580566406,
          5.663954257965088,
          5.700804233551025,
          5.721739768981934,
          5.747761249542236,
          5.761871337890625,
          5.7780046463012695,
          5.785600662231445,
          5.792878150939941,
          5.794609546661377,
          5.794045448303223,
          5.791334629058838,
          5.783390045166016,
          5.7760796546936035,
          5.762918472290039,
          5.75190544128418,
          5.7346720695495605,
          5.720839977264404,
          5.700648307800293,
          5.684842586517334,
          5.662735939025879,
          5.645758628845215,
          5.62266731262207,
          5.605252742767334,
          5.581982135772705,
          5.564781188964844,
          5.542011260986328,
          5.525582313537598,
          5.503869533538818,
          5.488644599914551,
          5.468447208404541,
          5.454771041870117,
          5.436437606811523,
          5.4245405197143555,
          5.4083476066589355,
          5.398361682891846,
          5.384513854980469,
          5.376481056213379,
          5.365123748779297,
          5.359007835388184,
          5.350235462188721,
          5.3459320068359375,
          5.339797019958496,
          5.337142467498779,
          5.333663463592529,
          5.3324384689331055,
          5.331609725952148,
          5.331479549407959,
          5.333346366882324,
          5.333610534667969,
          5.338530540466309,
          5.338924407958984,
          5.345456600189209,
          5.346776485443115,
          5.349114418029785,
          5.357666015625,
          5.361020565032959,
          5.370758056640625,
          5.374892234802246,
          5.38559627532959,
          5.390334129333496,
          5.401717185974121,
          5.40687894821167,
          5.418662071228027,
          5.424068927764893,
          5.435985565185547,
          5.441464424133301,
          5.453264236450195,
          5.458654880523682,
          5.470106601715088,
          5.475261211395264,
          5.4861555099487305,
          5.49094820022583,
          5.5010986328125,
          5.505425930023193,
          5.514672756195068,
          5.518457889556885,
          5.526673316955566,
          5.52986478805542,
          5.536952018737793
         ]
        },
        {
         "type": "scatter",
         "x": [
          0,
          0.054166942834854126,
          0.10000000149011612,
          0.15179157257080078,
          0.20000000298023224,
          0.24848367273807526,
          0.30000001192092896,
          0.3445296287536621,
          0.4000000059604645,
          0.43978819251060486,
          0.5,
          0.5331918001174927,
          0.6000000238418579,
          0.6099185347557068,
          0.699999988079071,
          0.7335813641548157,
          0.800000011920929,
          0.8369660377502441,
          0.8999999761581421,
          0.9387856721878052,
          1,
          1.0398343801498413,
          1.100000023841858,
          1.1404060125350952,
          1.2000000476837158,
          1.2405742406845093,
          1.2999999523162842,
          1.3399649858474731,
          1.399999976158142,
          1.4348007440567017,
          1.5,
          1.536122441291809,
          1.600000023841858,
          1.6405078172683716,
          1.7000000476837158,
          1.7416613101959229,
          1.7999999523162842,
          1.8421961069107056,
          1.899999976158142,
          1.9424970149993896,
          2,
          2.042634963989258,
          2.0999999046325684,
          2.142629384994507,
          2.200000047683716,
          2.2424771785736084,
          2.299999952316284,
          2.342158317565918,
          2.4000000953674316,
          2.4417123794555664,
          2.5,
          2.541079044342041,
          2.5999999046325684,
          2.640275478363037,
          2.700000047683716,
          2.739290952682495,
          2.799999952316284,
          2.8381149768829346,
          2.9000000953674316,
          2.9367239475250244,
          3,
          3.03507661819458,
          3.0999999046325684,
          3.133090019226074,
          3.200000047683716,
          3.2305562496185303,
          3.299999952316284,
          3.3232312202453613,
          3.4000000953674316,
          3.4117729663848877,
          3.5,
          3.5076212882995605,
          3.583833932876587,
          3.5999999046325684,
          3.6255130767822266,
          3.700000047683716,
          3.728670835494995,
          3.799999952316284,
          3.8302104473114014,
          3.9000000953674316,
          3.9312236309051514,
          4,
          4.031895637512207,
          4.099999904632568,
          4.132317543029785,
          4.199999809265137,
          4.2325439453125,
          4.300000190734863,
          4.332606315612793,
          4.400000095367432,
          4.432515621185303,
          4.5,
          4.532289505004883,
          4.599999904632568,
          4.631938457489014,
          4.699999809265137,
          4.73146915435791,
          4.800000190734863,
          4.830873489379883,
          4.900000095367432
         ],
         "y": [
          1,
          1.0476065874099731,
          1.0805387496948242,
          1.1109535694122314,
          1.1338969469070435,
          1.1525015830993652,
          1.1679339408874512,
          1.1782925128936768,
          1.1874334812164307,
          1.192081332206726,
          1.1956876516342163,
          1.1966418027877808,
          1.1952584981918335,
          1.195041537284851,
          1.188280463218689,
          1.185024380683899,
          1.1765637397766113,
          1.171526312828064,
          1.1615831851959229,
          1.1553027629852295,
          1.1444528102874756,
          1.1373460292816162,
          1.1259238719940186,
          1.1182698011398315,
          1.106420874595642,
          1.0983898639678955,
          1.0861047506332397,
          1.0778796672821045,
          1.0649677515029907,
          1.0575759410858154,
          1.0429222583770752,
          1.0348769426345825,
          1.0198770761489868,
          1.0103620290756226,
          0.9958001971244812,
          0.985580325126648,
          0.9707578420639038,
          0.9600391983985901,
          0.9449269771575928,
          0.9338750839233398,
          0.918594479560852,
          0.9074009656906128,
          0.892131507396698,
          0.8810122609138489,
          0.8659632802009583,
          0.8551449775695801,
          0.8405306935310364,
          0.8302335143089294,
          0.816246509552002,
          0.8066589832305908,
          0.7934970259666443,
          0.7847849130630493,
          0.7725891470909119,
          0.7648637294769287,
          0.7537450194358826,
          0.747069239616394,
          0.7371029257774353,
          0.7314967513084412,
          0.7227259278297424,
          0.7181686758995056,
          0.7106043696403503,
          0.7070430517196655,
          0.7006688117980957,
          0.6980264186859131,
          0.692802369594574,
          0.6909886598587036,
          0.6868528127670288,
          0.6859560608863831,
          0.6826434135437012,
          0.6824432015419006,
          0.6799815893173218,
          0.6799784302711487,
          0.678579568862915,
          0.6786669492721558,
          0.6787439584732056,
          0.6784977316856384,
          0.6788394451141357,
          0.6792784929275513,
          0.6798691749572754,
          0.6808164715766907,
          0.6816126108169556,
          0.6829288005828857,
          0.6838804483413696,
          0.6854471564292908,
          0.6865033507347107,
          0.6882179975509644,
          0.6893303394317627,
          0.6911066770553589,
          0.6922308802604675,
          0.6939880847930908,
          0.6950823068618774,
          0.6967505216598511,
          0.6977805495262146,
          0.6993019580841064,
          0.7002410292625427,
          0.7015686631202698,
          0.7023972272872925,
          0.7034916877746582,
          0.7041957378387451,
          0.7050241827964783
         ]
        },
        {
         "type": "scatter",
         "x": [
          0,
          0.054166942834854126,
          0.10000000149011612,
          0.15179157257080078,
          0.20000000298023224,
          0.24848367273807526,
          0.30000001192092896,
          0.3445296287536621,
          0.4000000059604645,
          0.43978819251060486,
          0.5,
          0.5331918001174927,
          0.6000000238418579,
          0.6099185347557068,
          0.699999988079071,
          0.7335813641548157,
          0.800000011920929,
          0.8369660377502441,
          0.8999999761581421,
          0.9387856721878052,
          1,
          1.0398343801498413,
          1.100000023841858,
          1.1404060125350952,
          1.2000000476837158,
          1.2405742406845093,
          1.2999999523162842,
          1.3399649858474731,
          1.399999976158142,
          1.4348007440567017,
          1.5,
          1.536122441291809,
          1.600000023841858,
          1.6405078172683716,
          1.7000000476837158,
          1.7416613101959229,
          1.7999999523162842,
          1.8421961069107056,
          1.899999976158142,
          1.9424970149993896,
          2,
          2.042634963989258,
          2.0999999046325684,
          2.142629384994507,
          2.200000047683716,
          2.2424771785736084,
          2.299999952316284,
          2.342158317565918,
          2.4000000953674316,
          2.4417123794555664,
          2.5,
          2.541079044342041,
          2.5999999046325684,
          2.640275478363037,
          2.700000047683716,
          2.739290952682495,
          2.799999952316284,
          2.8381149768829346,
          2.9000000953674316,
          2.9367239475250244,
          3,
          3.03507661819458,
          3.0999999046325684,
          3.133090019226074,
          3.200000047683716,
          3.2305562496185303,
          3.299999952316284,
          3.3232312202453613,
          3.4000000953674316,
          3.4117729663848877,
          3.5,
          3.5076212882995605,
          3.583833932876587,
          3.5999999046325684,
          3.6255130767822266,
          3.700000047683716,
          3.728670835494995,
          3.799999952316284,
          3.8302104473114014,
          3.9000000953674316,
          3.9312236309051514,
          4,
          4.031895637512207,
          4.099999904632568,
          4.132317543029785,
          4.199999809265137,
          4.2325439453125,
          4.300000190734863,
          4.332606315612793,
          4.400000095367432,
          4.432515621185303,
          4.5,
          4.532289505004883,
          4.599999904632568,
          4.631938457489014,
          4.699999809265137,
          4.73146915435791,
          4.800000190734863,
          4.830873489379883,
          4.900000095367432
         ],
         "y": [
          2,
          2.0259928703308105,
          1.9245660305023193,
          1.944307804107666,
          1.8370970487594604,
          1.8542488813400269,
          1.7417888641357422,
          1.7554314136505127,
          1.6362230777740479,
          1.6449589729309082,
          1.516798734664917,
          1.5208790302276611,
          1.3812851905822754,
          1.3846063613891602,
          1.2297735214233398,
          1.216553807258606,
          1.0646339654922485,
          1.0402915477752686,
          0.8900278806686401,
          0.8577853441238403,
          0.7111659049987793,
          0.6743977069854736,
          0.5335896015167236,
          0.495572954416275,
          0.3625786006450653,
          0.3263656198978424,
          0.20277972519397736,
          0.17141182720661163,
          0.05787065252661705,
          0.037357620894908905,
          -0.06939785927534103,
          -0.08510102331638336,
          -0.17728614807128906,
          -0.18905210494995117,
          -0.26499173045158386,
          -0.2693566381931305,
          -0.3325280547142029,
          -0.32889506220817566,
          -0.3806740343570709,
          -0.36914509534835815,
          -0.4107283651828766,
          -0.3917851746082306,
          -0.4244481921195984,
          -0.3988146185874939,
          -0.42384421825408936,
          -0.3924075663089752,
          -0.41106829047203064,
          -0.37476569414138794,
          -0.3882615566253662,
          -0.34818753600120544,
          -0.3576010763645172,
          -0.31468522548675537,
          -0.32097986340522766,
          -0.276157408952713,
          -0.2801677882671356,
          -0.23431096971035004,
          -0.23676447570323944,
          -0.19067102670669556,
          -0.1921527087688446,
          -0.14654935896396637,
          -0.14752037823200226,
          -0.10308867692947388,
          -0.10387708246707916,
          -0.061303772032260895,
          -0.06207737326622009,
          -0.022185740992426872,
          -0.022834688425064087,
          0.009245938621461391,
          0.013262845575809479,
          0.03099760040640831,
          0.0457422137260437,
          0.05739874020218849,
          0.08790069818496704,
          0.0742267519235611,
          0.10612521320581436,
          0.09843883663415909,
          0.13183042407035828,
          0.11820033192634583,
          0.1513626128435135,
          0.1333710104227066,
          0.16571840643882751,
          0.14396333694458008,
          0.17515520751476288,
          0.1500520408153534,
          0.17989501357078552,
          0.15180723369121552,
          0.18021023273468018,
          0.14950595796108246,
          0.17646025121212006,
          0.14346818625926971,
          0.1690112054347992,
          0.134079247713089,
          0.15830545127391815,
          0.1218065693974495,
          0.14485596120357513,
          0.10718883574008942,
          0.12922385334968567,
          0.09080114960670471,
          0.11198723316192627,
          0.07321792095899582
         ]
        },
        {
         "type": "scatter",
         "x": [
          0,
          0.054166942834854126,
          0.10000000149011612,
          0.15179157257080078,
          0.20000000298023224,
          0.24848367273807526,
          0.30000001192092896,
          0.3445296287536621,
          0.4000000059604645,
          0.43978819251060486,
          0.5,
          0.5331918001174927,
          0.6000000238418579,
          0.6099185347557068,
          0.699999988079071,
          0.7335813641548157,
          0.800000011920929,
          0.8369660377502441,
          0.8999999761581421,
          0.9387856721878052,
          1,
          1.0398343801498413,
          1.100000023841858,
          1.1404060125350952,
          1.2000000476837158,
          1.2405742406845093,
          1.2999999523162842,
          1.3399649858474731,
          1.399999976158142,
          1.4348007440567017,
          1.5,
          1.536122441291809,
          1.600000023841858,
          1.6405078172683716,
          1.7000000476837158,
          1.7416613101959229,
          1.7999999523162842,
          1.8421961069107056,
          1.899999976158142,
          1.9424970149993896,
          2,
          2.042634963989258,
          2.0999999046325684,
          2.142629384994507,
          2.200000047683716,
          2.2424771785736084,
          2.299999952316284,
          2.342158317565918,
          2.4000000953674316,
          2.4417123794555664,
          2.5,
          2.541079044342041,
          2.5999999046325684,
          2.640275478363037,
          2.700000047683716,
          2.739290952682495,
          2.799999952316284,
          2.8381149768829346,
          2.9000000953674316,
          2.9367239475250244,
          3,
          3.03507661819458,
          3.0999999046325684,
          3.133090019226074,
          3.200000047683716,
          3.2305562496185303,
          3.299999952316284,
          3.3232312202453613,
          3.4000000953674316,
          3.4117729663848877,
          3.5,
          3.5076212882995605,
          3.583833932876587,
          3.5999999046325684,
          3.6255130767822266,
          3.700000047683716,
          3.728670835494995,
          3.799999952316284,
          3.8302104473114014,
          3.9000000953674316,
          3.9312236309051514,
          4,
          4.031895637512207,
          4.099999904632568,
          4.132317543029785,
          4.199999809265137,
          4.2325439453125,
          4.300000190734863,
          4.332606315612793,
          4.400000095367432,
          4.432515621185303,
          4.5,
          4.532289505004883,
          4.599999904632568,
          4.631938457489014,
          4.699999809265137,
          4.73146915435791,
          4.800000190734863,
          4.830873489379883,
          4.900000095367432
         ],
         "y": [
          1,
          0.7757182717323303,
          0.6761467456817627,
          0.5138788223266602,
          0.45380324125289917,
          0.32721275091171265,
          0.2899867296218872,
          0.18679627776145935,
          0.16376574337482452,
          0.0790838971734047,
          0.06515557318925858,
          -0.001334990025497973,
          -0.01083094347268343,
          -0.032383158802986145,
          -0.06752361357212067,
          -0.1201513484120369,
          -0.10789830982685089,
          -0.15726523101329803,
          -0.13529451191425323,
          -0.18066389858722687,
          -0.15324196219444275,
          -0.19544866681098938,
          -0.16517676413059235,
          -0.20546914637088776,
          -0.1740434467792511,
          -0.21360956132411957,
          -0.18210376799106598,
          -0.22153796255588531,
          -0.19055819511413574,
          -0.22815607488155365,
          -0.199906125664711,
          -0.23889580368995667,
          -0.20989277958869934,
          -0.25140735507011414,
          -0.21975068747997284,
          -0.26176443696022034,
          -0.2284453958272934,
          -0.2701520323753357,
          -0.2348891943693161,
          -0.27559468150138855,
          -0.23808708786964417,
          -0.27726542949676514,
          -0.2373405396938324,
          -0.2746109664440155,
          -0.23229695856571198,
          -0.26747411489486694,
          -0.22295701503753662,
          -0.25615060329437256,
          -0.20974503457546234,
          -0.2408781796693802,
          -0.1929897665977478,
          -0.22248193621635437,
          -0.1735934615135193,
          -0.20178695023059845,
          -0.15242235362529755,
          -0.1796373724937439,
          -0.1302155703306198,
          -0.15674954652786255,
          -0.10774649679660797,
          -0.13382624089717865,
          -0.08566313982009888,
          -0.1114196702837944,
          -0.06450556963682175,
          -0.08993298560380936,
          -0.04468623176217079,
          -0.06956806033849716,
          -0.026505129411816597,
          -0.048135120421648026,
          -0.01016195584088564,
          -0.02319951169192791,
          0.004218190908432007,
          -0.004779044538736343,
          -0.004557229578495026,
          0.016591759398579597,
          -0.0075129191391170025,
          0.026963217183947563,
          0.0007010754779912531,
          0.03543255478143692,
          0.007911165244877338,
          0.04198908805847168,
          0.013520948588848114,
          0.04679524153470993,
          0.01757817156612873,
          0.04999107867479324,
          0.020181961357593536,
          0.051726773381233215,
          0.021493498235940933,
          0.05221030116081238,
          0.021618138998746872,
          0.05147850140929222,
          0.020663006231188774,
          0.04973693564534187,
          0.018823828548192978,
          0.04717496782541275,
          0.016281303018331528,
          0.043976400047540665,
          0.013197511434555054,
          0.04025644809007645,
          0.009698321111500263,
          0.03614528104662895
         ]
        }
       ],
       "layout": {
        "template": {
         "data": {
          "bar": [
           {
            "error_x": {
             "color": "#2a3f5f"
            },
            "error_y": {
             "color": "#2a3f5f"
            },
            "marker": {
             "line": {
              "color": "#E5ECF6",
              "width": 0.5
             }
            },
            "type": "bar"
           }
          ],
          "barpolar": [
           {
            "marker": {
             "line": {
              "color": "#E5ECF6",
              "width": 0.5
             }
            },
            "type": "barpolar"
           }
          ],
          "carpet": [
           {
            "aaxis": {
             "endlinecolor": "#2a3f5f",
             "gridcolor": "white",
             "linecolor": "white",
             "minorgridcolor": "white",
             "startlinecolor": "#2a3f5f"
            },
            "baxis": {
             "endlinecolor": "#2a3f5f",
             "gridcolor": "white",
             "linecolor": "white",
             "minorgridcolor": "white",
             "startlinecolor": "#2a3f5f"
            },
            "type": "carpet"
           }
          ],
          "choropleth": [
           {
            "colorbar": {
             "outlinewidth": 0,
             "ticks": ""
            },
            "type": "choropleth"
           }
          ],
          "contour": [
           {
            "colorbar": {
             "outlinewidth": 0,
             "ticks": ""
            },
            "colorscale": [
             [
              0,
              "#0d0887"
             ],
             [
              0.1111111111111111,
              "#46039f"
             ],
             [
              0.2222222222222222,
              "#7201a8"
             ],
             [
              0.3333333333333333,
              "#9c179e"
             ],
             [
              0.4444444444444444,
              "#bd3786"
             ],
             [
              0.5555555555555556,
              "#d8576b"
             ],
             [
              0.6666666666666666,
              "#ed7953"
             ],
             [
              0.7777777777777778,
              "#fb9f3a"
             ],
             [
              0.8888888888888888,
              "#fdca26"
             ],
             [
              1,
              "#f0f921"
             ]
            ],
            "type": "contour"
           }
          ],
          "contourcarpet": [
           {
            "colorbar": {
             "outlinewidth": 0,
             "ticks": ""
            },
            "type": "contourcarpet"
           }
          ],
          "heatmap": [
           {
            "colorbar": {
             "outlinewidth": 0,
             "ticks": ""
            },
            "colorscale": [
             [
              0,
              "#0d0887"
             ],
             [
              0.1111111111111111,
              "#46039f"
             ],
             [
              0.2222222222222222,
              "#7201a8"
             ],
             [
              0.3333333333333333,
              "#9c179e"
             ],
             [
              0.4444444444444444,
              "#bd3786"
             ],
             [
              0.5555555555555556,
              "#d8576b"
             ],
             [
              0.6666666666666666,
              "#ed7953"
             ],
             [
              0.7777777777777778,
              "#fb9f3a"
             ],
             [
              0.8888888888888888,
              "#fdca26"
             ],
             [
              1,
              "#f0f921"
             ]
            ],
            "type": "heatmap"
           }
          ],
          "heatmapgl": [
           {
            "colorbar": {
             "outlinewidth": 0,
             "ticks": ""
            },
            "colorscale": [
             [
              0,
              "#0d0887"
             ],
             [
              0.1111111111111111,
              "#46039f"
             ],
             [
              0.2222222222222222,
              "#7201a8"
             ],
             [
              0.3333333333333333,
              "#9c179e"
             ],
             [
              0.4444444444444444,
              "#bd3786"
             ],
             [
              0.5555555555555556,
              "#d8576b"
             ],
             [
              0.6666666666666666,
              "#ed7953"
             ],
             [
              0.7777777777777778,
              "#fb9f3a"
             ],
             [
              0.8888888888888888,
              "#fdca26"
             ],
             [
              1,
              "#f0f921"
             ]
            ],
            "type": "heatmapgl"
           }
          ],
          "histogram": [
           {
            "marker": {
             "colorbar": {
              "outlinewidth": 0,
              "ticks": ""
             }
            },
            "type": "histogram"
           }
          ],
          "histogram2d": [
           {
            "colorbar": {
             "outlinewidth": 0,
             "ticks": ""
            },
            "colorscale": [
             [
              0,
              "#0d0887"
             ],
             [
              0.1111111111111111,
              "#46039f"
             ],
             [
              0.2222222222222222,
              "#7201a8"
             ],
             [
              0.3333333333333333,
              "#9c179e"
             ],
             [
              0.4444444444444444,
              "#bd3786"
             ],
             [
              0.5555555555555556,
              "#d8576b"
             ],
             [
              0.6666666666666666,
              "#ed7953"
             ],
             [
              0.7777777777777778,
              "#fb9f3a"
             ],
             [
              0.8888888888888888,
              "#fdca26"
             ],
             [
              1,
              "#f0f921"
             ]
            ],
            "type": "histogram2d"
           }
          ],
          "histogram2dcontour": [
           {
            "colorbar": {
             "outlinewidth": 0,
             "ticks": ""
            },
            "colorscale": [
             [
              0,
              "#0d0887"
             ],
             [
              0.1111111111111111,
              "#46039f"
             ],
             [
              0.2222222222222222,
              "#7201a8"
             ],
             [
              0.3333333333333333,
              "#9c179e"
             ],
             [
              0.4444444444444444,
              "#bd3786"
             ],
             [
              0.5555555555555556,
              "#d8576b"
             ],
             [
              0.6666666666666666,
              "#ed7953"
             ],
             [
              0.7777777777777778,
              "#fb9f3a"
             ],
             [
              0.8888888888888888,
              "#fdca26"
             ],
             [
              1,
              "#f0f921"
             ]
            ],
            "type": "histogram2dcontour"
           }
          ],
          "mesh3d": [
           {
            "colorbar": {
             "outlinewidth": 0,
             "ticks": ""
            },
            "type": "mesh3d"
           }
          ],
          "parcoords": [
           {
            "line": {
             "colorbar": {
              "outlinewidth": 0,
              "ticks": ""
             }
            },
            "type": "parcoords"
           }
          ],
          "pie": [
           {
            "automargin": true,
            "type": "pie"
           }
          ],
          "scatter": [
           {
            "marker": {
             "colorbar": {
              "outlinewidth": 0,
              "ticks": ""
             }
            },
            "type": "scatter"
           }
          ],
          "scatter3d": [
           {
            "line": {
             "colorbar": {
              "outlinewidth": 0,
              "ticks": ""
             }
            },
            "marker": {
             "colorbar": {
              "outlinewidth": 0,
              "ticks": ""
             }
            },
            "type": "scatter3d"
           }
          ],
          "scattercarpet": [
           {
            "marker": {
             "colorbar": {
              "outlinewidth": 0,
              "ticks": ""
             }
            },
            "type": "scattercarpet"
           }
          ],
          "scattergeo": [
           {
            "marker": {
             "colorbar": {
              "outlinewidth": 0,
              "ticks": ""
             }
            },
            "type": "scattergeo"
           }
          ],
          "scattergl": [
           {
            "marker": {
             "colorbar": {
              "outlinewidth": 0,
              "ticks": ""
             }
            },
            "type": "scattergl"
           }
          ],
          "scattermapbox": [
           {
            "marker": {
             "colorbar": {
              "outlinewidth": 0,
              "ticks": ""
             }
            },
            "type": "scattermapbox"
           }
          ],
          "scatterpolar": [
           {
            "marker": {
             "colorbar": {
              "outlinewidth": 0,
              "ticks": ""
             }
            },
            "type": "scatterpolar"
           }
          ],
          "scatterpolargl": [
           {
            "marker": {
             "colorbar": {
              "outlinewidth": 0,
              "ticks": ""
             }
            },
            "type": "scatterpolargl"
           }
          ],
          "scatterternary": [
           {
            "marker": {
             "colorbar": {
              "outlinewidth": 0,
              "ticks": ""
             }
            },
            "type": "scatterternary"
           }
          ],
          "surface": [
           {
            "colorbar": {
             "outlinewidth": 0,
             "ticks": ""
            },
            "colorscale": [
             [
              0,
              "#0d0887"
             ],
             [
              0.1111111111111111,
              "#46039f"
             ],
             [
              0.2222222222222222,
              "#7201a8"
             ],
             [
              0.3333333333333333,
              "#9c179e"
             ],
             [
              0.4444444444444444,
              "#bd3786"
             ],
             [
              0.5555555555555556,
              "#d8576b"
             ],
             [
              0.6666666666666666,
              "#ed7953"
             ],
             [
              0.7777777777777778,
              "#fb9f3a"
             ],
             [
              0.8888888888888888,
              "#fdca26"
             ],
             [
              1,
              "#f0f921"
             ]
            ],
            "type": "surface"
           }
          ],
          "table": [
           {
            "cells": {
             "fill": {
              "color": "#EBF0F8"
             },
             "line": {
              "color": "white"
             }
            },
            "header": {
             "fill": {
              "color": "#C8D4E3"
             },
             "line": {
              "color": "white"
             }
            },
            "type": "table"
           }
          ]
         },
         "layout": {
          "annotationdefaults": {
           "arrowcolor": "#2a3f5f",
           "arrowhead": 0,
           "arrowwidth": 1
          },
          "coloraxis": {
           "colorbar": {
            "outlinewidth": 0,
            "ticks": ""
           }
          },
          "colorscale": {
           "diverging": [
            [
             0,
             "#8e0152"
            ],
            [
             0.1,
             "#c51b7d"
            ],
            [
             0.2,
             "#de77ae"
            ],
            [
             0.3,
             "#f1b6da"
            ],
            [
             0.4,
             "#fde0ef"
            ],
            [
             0.5,
             "#f7f7f7"
            ],
            [
             0.6,
             "#e6f5d0"
            ],
            [
             0.7,
             "#b8e186"
            ],
            [
             0.8,
             "#7fbc41"
            ],
            [
             0.9,
             "#4d9221"
            ],
            [
             1,
             "#276419"
            ]
           ],
           "sequential": [
            [
             0,
             "#0d0887"
            ],
            [
             0.1111111111111111,
             "#46039f"
            ],
            [
             0.2222222222222222,
             "#7201a8"
            ],
            [
             0.3333333333333333,
             "#9c179e"
            ],
            [
             0.4444444444444444,
             "#bd3786"
            ],
            [
             0.5555555555555556,
             "#d8576b"
            ],
            [
             0.6666666666666666,
             "#ed7953"
            ],
            [
             0.7777777777777778,
             "#fb9f3a"
            ],
            [
             0.8888888888888888,
             "#fdca26"
            ],
            [
             1,
             "#f0f921"
            ]
           ],
           "sequentialminus": [
            [
             0,
             "#0d0887"
            ],
            [
             0.1111111111111111,
             "#46039f"
            ],
            [
             0.2222222222222222,
             "#7201a8"
            ],
            [
             0.3333333333333333,
             "#9c179e"
            ],
            [
             0.4444444444444444,
             "#bd3786"
            ],
            [
             0.5555555555555556,
             "#d8576b"
            ],
            [
             0.6666666666666666,
             "#ed7953"
            ],
            [
             0.7777777777777778,
             "#fb9f3a"
            ],
            [
             0.8888888888888888,
             "#fdca26"
            ],
            [
             1,
             "#f0f921"
            ]
           ]
          },
          "colorway": [
           "#636efa",
           "#EF553B",
           "#00cc96",
           "#ab63fa",
           "#FFA15A",
           "#19d3f3",
           "#FF6692",
           "#B6E880",
           "#FF97FF",
           "#FECB52"
          ],
          "font": {
           "color": "#2a3f5f"
          },
          "geo": {
           "bgcolor": "white",
           "lakecolor": "white",
           "landcolor": "#E5ECF6",
           "showlakes": true,
           "showland": true,
           "subunitcolor": "white"
          },
          "hoverlabel": {
           "align": "left"
          },
          "hovermode": "closest",
          "mapbox": {
           "style": "light"
          },
          "paper_bgcolor": "white",
          "plot_bgcolor": "#E5ECF6",
          "polar": {
           "angularaxis": {
            "gridcolor": "white",
            "linecolor": "white",
            "ticks": ""
           },
           "bgcolor": "#E5ECF6",
           "radialaxis": {
            "gridcolor": "white",
            "linecolor": "white",
            "ticks": ""
           }
          },
          "scene": {
           "xaxis": {
            "backgroundcolor": "#E5ECF6",
            "gridcolor": "white",
            "gridwidth": 2,
            "linecolor": "white",
            "showbackground": true,
            "ticks": "",
            "zerolinecolor": "white"
           },
           "yaxis": {
            "backgroundcolor": "#E5ECF6",
            "gridcolor": "white",
            "gridwidth": 2,
            "linecolor": "white",
            "showbackground": true,
            "ticks": "",
            "zerolinecolor": "white"
           },
           "zaxis": {
            "backgroundcolor": "#E5ECF6",
            "gridcolor": "white",
            "gridwidth": 2,
            "linecolor": "white",
            "showbackground": true,
            "ticks": "",
            "zerolinecolor": "white"
           }
          },
          "shapedefaults": {
           "line": {
            "color": "#2a3f5f"
           }
          },
          "ternary": {
           "aaxis": {
            "gridcolor": "white",
            "linecolor": "white",
            "ticks": ""
           },
           "baxis": {
            "gridcolor": "white",
            "linecolor": "white",
            "ticks": ""
           },
           "bgcolor": "#E5ECF6",
           "caxis": {
            "gridcolor": "white",
            "linecolor": "white",
            "ticks": ""
           }
          },
          "title": {
           "x": 0.05
          },
          "xaxis": {
           "automargin": true,
           "gridcolor": "white",
           "linecolor": "white",
           "ticks": "",
           "title": {
            "standoff": 15
           },
           "zerolinecolor": "white",
           "zerolinewidth": 2
          },
          "yaxis": {
           "automargin": true,
           "gridcolor": "white",
           "linecolor": "white",
           "ticks": "",
           "title": {
            "standoff": 15
           },
           "zerolinecolor": "white",
           "zerolinewidth": 2
          }
         }
        },
        "title": {
         "text": "No lookahead"
        }
       }
      },
      "text/html": [
       "<div>\n",
       "        \n",
       "        \n",
       "            <div id=\"85253546-c983-4d7a-aa9e-df06f02ea7b6\" class=\"plotly-graph-div\" style=\"height:525px; width:100%;\"></div>\n",
       "            <script type=\"text/javascript\">\n",
       "                require([\"plotly\"], function(Plotly) {\n",
       "                    window.PLOTLYENV=window.PLOTLYENV || {};\n",
       "                    \n",
       "                if (document.getElementById(\"85253546-c983-4d7a-aa9e-df06f02ea7b6\")) {\n",
       "                    Plotly.newPlot(\n",
       "                        '85253546-c983-4d7a-aa9e-df06f02ea7b6',\n",
       "                        [{\"type\": \"scatter\", \"x\": [0.0, 0.054166942834854126, 0.10000000149011612, 0.15179157257080078, 0.20000000298023224, 0.24848367273807526, 0.30000001192092896, 0.3445296287536621, 0.4000000059604645, 0.43978819251060486, 0.5, 0.5331918001174927, 0.6000000238418579, 0.6099185347557068, 0.699999988079071, 0.7335813641548157, 0.800000011920929, 0.8369660377502441, 0.8999999761581421, 0.9387856721878052, 1.0, 1.0398343801498413, 1.100000023841858, 1.1404060125350952, 1.2000000476837158, 1.2405742406845093, 1.2999999523162842, 1.3399649858474731, 1.399999976158142, 1.4348007440567017, 1.5, 1.536122441291809, 1.600000023841858, 1.6405078172683716, 1.7000000476837158, 1.7416613101959229, 1.7999999523162842, 1.8421961069107056, 1.899999976158142, 1.9424970149993896, 2.0, 2.042634963989258, 2.0999999046325684, 2.142629384994507, 2.200000047683716, 2.2424771785736084, 2.299999952316284, 2.342158317565918, 2.4000000953674316, 2.4417123794555664, 2.5, 2.541079044342041, 2.5999999046325684, 2.640275478363037, 2.700000047683716, 2.739290952682495, 2.799999952316284, 2.8381149768829346, 2.9000000953674316, 2.9367239475250244, 3.0, 3.03507661819458, 3.0999999046325684, 3.133090019226074, 3.200000047683716, 3.2305562496185303, 3.299999952316284, 3.3232312202453613, 3.4000000953674316, 3.4117729663848877, 3.5, 3.5076212882995605, 3.583833932876587, 3.5999999046325684, 3.6255130767822266, 3.700000047683716, 3.728670835494995, 3.799999952316284, 3.8302104473114014, 3.9000000953674316, 3.9312236309051514, 4.0, 4.031895637512207, 4.099999904632568, 4.132317543029785, 4.199999809265137, 4.2325439453125, 4.300000190734863, 4.332606315612793, 4.400000095367432, 4.432515621185303, 4.5, 4.532289505004883, 4.599999904632568, 4.631938457489014, 4.699999809265137, 4.73146915435791, 4.800000190734863, 4.830873489379883, 4.900000095367432], \"y\": [4.141592502593994, 4.2513251304626465, 4.342302322387695, 4.443077564239502, 4.534724235534668, 4.624680042266846, 4.717897891998291, 4.796116828918457, 4.890895843505859, 4.956414222717285, 5.0524678230285645, 5.103013515472412, 5.201067924499512, 5.21478796005249, 5.335058212280273, 5.3762526512146, 5.452936172485352, 5.4919867515563965, 5.553543567657471, 5.587591171264648, 5.636207580566406, 5.663954257965088, 5.700804233551025, 5.721739768981934, 5.747761249542236, 5.761871337890625, 5.7780046463012695, 5.785600662231445, 5.792878150939941, 5.794609546661377, 5.794045448303223, 5.791334629058838, 5.783390045166016, 5.7760796546936035, 5.762918472290039, 5.75190544128418, 5.7346720695495605, 5.720839977264404, 5.700648307800293, 5.684842586517334, 5.662735939025879, 5.645758628845215, 5.62266731262207, 5.605252742767334, 5.581982135772705, 5.564781188964844, 5.542011260986328, 5.525582313537598, 5.503869533538818, 5.488644599914551, 5.468447208404541, 5.454771041870117, 5.436437606811523, 5.4245405197143555, 5.4083476066589355, 5.398361682891846, 5.384513854980469, 5.376481056213379, 5.365123748779297, 5.359007835388184, 5.350235462188721, 5.3459320068359375, 5.339797019958496, 5.337142467498779, 5.333663463592529, 5.3324384689331055, 5.331609725952148, 5.331479549407959, 5.333346366882324, 5.333610534667969, 5.338530540466309, 5.338924407958984, 5.345456600189209, 5.346776485443115, 5.349114418029785, 5.357666015625, 5.361020565032959, 5.370758056640625, 5.374892234802246, 5.38559627532959, 5.390334129333496, 5.401717185974121, 5.40687894821167, 5.418662071228027, 5.424068927764893, 5.435985565185547, 5.441464424133301, 5.453264236450195, 5.458654880523682, 5.470106601715088, 5.475261211395264, 5.4861555099487305, 5.49094820022583, 5.5010986328125, 5.505425930023193, 5.514672756195068, 5.518457889556885, 5.526673316955566, 5.52986478805542, 5.536952018737793]}, {\"type\": \"scatter\", \"x\": [0.0, 0.054166942834854126, 0.10000000149011612, 0.15179157257080078, 0.20000000298023224, 0.24848367273807526, 0.30000001192092896, 0.3445296287536621, 0.4000000059604645, 0.43978819251060486, 0.5, 0.5331918001174927, 0.6000000238418579, 0.6099185347557068, 0.699999988079071, 0.7335813641548157, 0.800000011920929, 0.8369660377502441, 0.8999999761581421, 0.9387856721878052, 1.0, 1.0398343801498413, 1.100000023841858, 1.1404060125350952, 1.2000000476837158, 1.2405742406845093, 1.2999999523162842, 1.3399649858474731, 1.399999976158142, 1.4348007440567017, 1.5, 1.536122441291809, 1.600000023841858, 1.6405078172683716, 1.7000000476837158, 1.7416613101959229, 1.7999999523162842, 1.8421961069107056, 1.899999976158142, 1.9424970149993896, 2.0, 2.042634963989258, 2.0999999046325684, 2.142629384994507, 2.200000047683716, 2.2424771785736084, 2.299999952316284, 2.342158317565918, 2.4000000953674316, 2.4417123794555664, 2.5, 2.541079044342041, 2.5999999046325684, 2.640275478363037, 2.700000047683716, 2.739290952682495, 2.799999952316284, 2.8381149768829346, 2.9000000953674316, 2.9367239475250244, 3.0, 3.03507661819458, 3.0999999046325684, 3.133090019226074, 3.200000047683716, 3.2305562496185303, 3.299999952316284, 3.3232312202453613, 3.4000000953674316, 3.4117729663848877, 3.5, 3.5076212882995605, 3.583833932876587, 3.5999999046325684, 3.6255130767822266, 3.700000047683716, 3.728670835494995, 3.799999952316284, 3.8302104473114014, 3.9000000953674316, 3.9312236309051514, 4.0, 4.031895637512207, 4.099999904632568, 4.132317543029785, 4.199999809265137, 4.2325439453125, 4.300000190734863, 4.332606315612793, 4.400000095367432, 4.432515621185303, 4.5, 4.532289505004883, 4.599999904632568, 4.631938457489014, 4.699999809265137, 4.73146915435791, 4.800000190734863, 4.830873489379883, 4.900000095367432], \"y\": [1.0, 1.0476065874099731, 1.0805387496948242, 1.1109535694122314, 1.1338969469070435, 1.1525015830993652, 1.1679339408874512, 1.1782925128936768, 1.1874334812164307, 1.192081332206726, 1.1956876516342163, 1.1966418027877808, 1.1952584981918335, 1.195041537284851, 1.188280463218689, 1.185024380683899, 1.1765637397766113, 1.171526312828064, 1.1615831851959229, 1.1553027629852295, 1.1444528102874756, 1.1373460292816162, 1.1259238719940186, 1.1182698011398315, 1.106420874595642, 1.0983898639678955, 1.0861047506332397, 1.0778796672821045, 1.0649677515029907, 1.0575759410858154, 1.0429222583770752, 1.0348769426345825, 1.0198770761489868, 1.0103620290756226, 0.9958001971244812, 0.985580325126648, 0.9707578420639038, 0.9600391983985901, 0.9449269771575928, 0.9338750839233398, 0.918594479560852, 0.9074009656906128, 0.892131507396698, 0.8810122609138489, 0.8659632802009583, 0.8551449775695801, 0.8405306935310364, 0.8302335143089294, 0.816246509552002, 0.8066589832305908, 0.7934970259666443, 0.7847849130630493, 0.7725891470909119, 0.7648637294769287, 0.7537450194358826, 0.747069239616394, 0.7371029257774353, 0.7314967513084412, 0.7227259278297424, 0.7181686758995056, 0.7106043696403503, 0.7070430517196655, 0.7006688117980957, 0.6980264186859131, 0.692802369594574, 0.6909886598587036, 0.6868528127670288, 0.6859560608863831, 0.6826434135437012, 0.6824432015419006, 0.6799815893173218, 0.6799784302711487, 0.678579568862915, 0.6786669492721558, 0.6787439584732056, 0.6784977316856384, 0.6788394451141357, 0.6792784929275513, 0.6798691749572754, 0.6808164715766907, 0.6816126108169556, 0.6829288005828857, 0.6838804483413696, 0.6854471564292908, 0.6865033507347107, 0.6882179975509644, 0.6893303394317627, 0.6911066770553589, 0.6922308802604675, 0.6939880847930908, 0.6950823068618774, 0.6967505216598511, 0.6977805495262146, 0.6993019580841064, 0.7002410292625427, 0.7015686631202698, 0.7023972272872925, 0.7034916877746582, 0.7041957378387451, 0.7050241827964783]}, {\"type\": \"scatter\", \"x\": [0.0, 0.054166942834854126, 0.10000000149011612, 0.15179157257080078, 0.20000000298023224, 0.24848367273807526, 0.30000001192092896, 0.3445296287536621, 0.4000000059604645, 0.43978819251060486, 0.5, 0.5331918001174927, 0.6000000238418579, 0.6099185347557068, 0.699999988079071, 0.7335813641548157, 0.800000011920929, 0.8369660377502441, 0.8999999761581421, 0.9387856721878052, 1.0, 1.0398343801498413, 1.100000023841858, 1.1404060125350952, 1.2000000476837158, 1.2405742406845093, 1.2999999523162842, 1.3399649858474731, 1.399999976158142, 1.4348007440567017, 1.5, 1.536122441291809, 1.600000023841858, 1.6405078172683716, 1.7000000476837158, 1.7416613101959229, 1.7999999523162842, 1.8421961069107056, 1.899999976158142, 1.9424970149993896, 2.0, 2.042634963989258, 2.0999999046325684, 2.142629384994507, 2.200000047683716, 2.2424771785736084, 2.299999952316284, 2.342158317565918, 2.4000000953674316, 2.4417123794555664, 2.5, 2.541079044342041, 2.5999999046325684, 2.640275478363037, 2.700000047683716, 2.739290952682495, 2.799999952316284, 2.8381149768829346, 2.9000000953674316, 2.9367239475250244, 3.0, 3.03507661819458, 3.0999999046325684, 3.133090019226074, 3.200000047683716, 3.2305562496185303, 3.299999952316284, 3.3232312202453613, 3.4000000953674316, 3.4117729663848877, 3.5, 3.5076212882995605, 3.583833932876587, 3.5999999046325684, 3.6255130767822266, 3.700000047683716, 3.728670835494995, 3.799999952316284, 3.8302104473114014, 3.9000000953674316, 3.9312236309051514, 4.0, 4.031895637512207, 4.099999904632568, 4.132317543029785, 4.199999809265137, 4.2325439453125, 4.300000190734863, 4.332606315612793, 4.400000095367432, 4.432515621185303, 4.5, 4.532289505004883, 4.599999904632568, 4.631938457489014, 4.699999809265137, 4.73146915435791, 4.800000190734863, 4.830873489379883, 4.900000095367432], \"y\": [2.0, 2.0259928703308105, 1.9245660305023193, 1.944307804107666, 1.8370970487594604, 1.8542488813400269, 1.7417888641357422, 1.7554314136505127, 1.6362230777740479, 1.6449589729309082, 1.516798734664917, 1.5208790302276611, 1.3812851905822754, 1.3846063613891602, 1.2297735214233398, 1.216553807258606, 1.0646339654922485, 1.0402915477752686, 0.8900278806686401, 0.8577853441238403, 0.7111659049987793, 0.6743977069854736, 0.5335896015167236, 0.495572954416275, 0.3625786006450653, 0.3263656198978424, 0.20277972519397736, 0.17141182720661163, 0.05787065252661705, 0.037357620894908905, -0.06939785927534103, -0.08510102331638336, -0.17728614807128906, -0.18905210494995117, -0.26499173045158386, -0.2693566381931305, -0.3325280547142029, -0.32889506220817566, -0.3806740343570709, -0.36914509534835815, -0.4107283651828766, -0.3917851746082306, -0.4244481921195984, -0.3988146185874939, -0.42384421825408936, -0.3924075663089752, -0.41106829047203064, -0.37476569414138794, -0.3882615566253662, -0.34818753600120544, -0.3576010763645172, -0.31468522548675537, -0.32097986340522766, -0.276157408952713, -0.2801677882671356, -0.23431096971035004, -0.23676447570323944, -0.19067102670669556, -0.1921527087688446, -0.14654935896396637, -0.14752037823200226, -0.10308867692947388, -0.10387708246707916, -0.061303772032260895, -0.06207737326622009, -0.022185740992426872, -0.022834688425064087, 0.009245938621461391, 0.013262845575809479, 0.03099760040640831, 0.0457422137260437, 0.05739874020218849, 0.08790069818496704, 0.0742267519235611, 0.10612521320581436, 0.09843883663415909, 0.13183042407035828, 0.11820033192634583, 0.1513626128435135, 0.1333710104227066, 0.16571840643882751, 0.14396333694458008, 0.17515520751476288, 0.1500520408153534, 0.17989501357078552, 0.15180723369121552, 0.18021023273468018, 0.14950595796108246, 0.17646025121212006, 0.14346818625926971, 0.1690112054347992, 0.134079247713089, 0.15830545127391815, 0.1218065693974495, 0.14485596120357513, 0.10718883574008942, 0.12922385334968567, 0.09080114960670471, 0.11198723316192627, 0.07321792095899582]}, {\"type\": \"scatter\", \"x\": [0.0, 0.054166942834854126, 0.10000000149011612, 0.15179157257080078, 0.20000000298023224, 0.24848367273807526, 0.30000001192092896, 0.3445296287536621, 0.4000000059604645, 0.43978819251060486, 0.5, 0.5331918001174927, 0.6000000238418579, 0.6099185347557068, 0.699999988079071, 0.7335813641548157, 0.800000011920929, 0.8369660377502441, 0.8999999761581421, 0.9387856721878052, 1.0, 1.0398343801498413, 1.100000023841858, 1.1404060125350952, 1.2000000476837158, 1.2405742406845093, 1.2999999523162842, 1.3399649858474731, 1.399999976158142, 1.4348007440567017, 1.5, 1.536122441291809, 1.600000023841858, 1.6405078172683716, 1.7000000476837158, 1.7416613101959229, 1.7999999523162842, 1.8421961069107056, 1.899999976158142, 1.9424970149993896, 2.0, 2.042634963989258, 2.0999999046325684, 2.142629384994507, 2.200000047683716, 2.2424771785736084, 2.299999952316284, 2.342158317565918, 2.4000000953674316, 2.4417123794555664, 2.5, 2.541079044342041, 2.5999999046325684, 2.640275478363037, 2.700000047683716, 2.739290952682495, 2.799999952316284, 2.8381149768829346, 2.9000000953674316, 2.9367239475250244, 3.0, 3.03507661819458, 3.0999999046325684, 3.133090019226074, 3.200000047683716, 3.2305562496185303, 3.299999952316284, 3.3232312202453613, 3.4000000953674316, 3.4117729663848877, 3.5, 3.5076212882995605, 3.583833932876587, 3.5999999046325684, 3.6255130767822266, 3.700000047683716, 3.728670835494995, 3.799999952316284, 3.8302104473114014, 3.9000000953674316, 3.9312236309051514, 4.0, 4.031895637512207, 4.099999904632568, 4.132317543029785, 4.199999809265137, 4.2325439453125, 4.300000190734863, 4.332606315612793, 4.400000095367432, 4.432515621185303, 4.5, 4.532289505004883, 4.599999904632568, 4.631938457489014, 4.699999809265137, 4.73146915435791, 4.800000190734863, 4.830873489379883, 4.900000095367432], \"y\": [1.0, 0.7757182717323303, 0.6761467456817627, 0.5138788223266602, 0.45380324125289917, 0.32721275091171265, 0.2899867296218872, 0.18679627776145935, 0.16376574337482452, 0.0790838971734047, 0.06515557318925858, -0.001334990025497973, -0.01083094347268343, -0.032383158802986145, -0.06752361357212067, -0.1201513484120369, -0.10789830982685089, -0.15726523101329803, -0.13529451191425323, -0.18066389858722687, -0.15324196219444275, -0.19544866681098938, -0.16517676413059235, -0.20546914637088776, -0.1740434467792511, -0.21360956132411957, -0.18210376799106598, -0.22153796255588531, -0.19055819511413574, -0.22815607488155365, -0.199906125664711, -0.23889580368995667, -0.20989277958869934, -0.25140735507011414, -0.21975068747997284, -0.26176443696022034, -0.2284453958272934, -0.2701520323753357, -0.2348891943693161, -0.27559468150138855, -0.23808708786964417, -0.27726542949676514, -0.2373405396938324, -0.2746109664440155, -0.23229695856571198, -0.26747411489486694, -0.22295701503753662, -0.25615060329437256, -0.20974503457546234, -0.2408781796693802, -0.1929897665977478, -0.22248193621635437, -0.1735934615135193, -0.20178695023059845, -0.15242235362529755, -0.1796373724937439, -0.1302155703306198, -0.15674954652786255, -0.10774649679660797, -0.13382624089717865, -0.08566313982009888, -0.1114196702837944, -0.06450556963682175, -0.08993298560380936, -0.04468623176217079, -0.06956806033849716, -0.026505129411816597, -0.048135120421648026, -0.01016195584088564, -0.02319951169192791, 0.004218190908432007, -0.004779044538736343, -0.004557229578495026, 0.016591759398579597, -0.0075129191391170025, 0.026963217183947563, 0.0007010754779912531, 0.03543255478143692, 0.007911165244877338, 0.04198908805847168, 0.013520948588848114, 0.04679524153470993, 0.01757817156612873, 0.04999107867479324, 0.020181961357593536, 0.051726773381233215, 0.021493498235940933, 0.05221030116081238, 0.021618138998746872, 0.05147850140929222, 0.020663006231188774, 0.04973693564534187, 0.018823828548192978, 0.04717496782541275, 0.016281303018331528, 0.043976400047540665, 0.013197511434555054, 0.04025644809007645, 0.009698321111500263, 0.03614528104662895]}],\n",
       "                        {\"template\": {\"data\": {\"bar\": [{\"error_x\": {\"color\": \"#2a3f5f\"}, \"error_y\": {\"color\": \"#2a3f5f\"}, \"marker\": {\"line\": {\"color\": \"#E5ECF6\", \"width\": 0.5}}, \"type\": \"bar\"}], \"barpolar\": [{\"marker\": {\"line\": {\"color\": \"#E5ECF6\", \"width\": 0.5}}, \"type\": \"barpolar\"}], \"carpet\": [{\"aaxis\": {\"endlinecolor\": \"#2a3f5f\", \"gridcolor\": \"white\", \"linecolor\": \"white\", \"minorgridcolor\": \"white\", \"startlinecolor\": \"#2a3f5f\"}, \"baxis\": {\"endlinecolor\": \"#2a3f5f\", \"gridcolor\": \"white\", \"linecolor\": \"white\", \"minorgridcolor\": \"white\", \"startlinecolor\": \"#2a3f5f\"}, \"type\": \"carpet\"}], \"choropleth\": [{\"colorbar\": {\"outlinewidth\": 0, \"ticks\": \"\"}, \"type\": \"choropleth\"}], \"contour\": [{\"colorbar\": {\"outlinewidth\": 0, \"ticks\": \"\"}, \"colorscale\": [[0.0, \"#0d0887\"], [0.1111111111111111, \"#46039f\"], [0.2222222222222222, \"#7201a8\"], [0.3333333333333333, \"#9c179e\"], [0.4444444444444444, \"#bd3786\"], [0.5555555555555556, \"#d8576b\"], [0.6666666666666666, \"#ed7953\"], [0.7777777777777778, \"#fb9f3a\"], [0.8888888888888888, \"#fdca26\"], [1.0, \"#f0f921\"]], \"type\": \"contour\"}], \"contourcarpet\": [{\"colorbar\": {\"outlinewidth\": 0, \"ticks\": \"\"}, \"type\": \"contourcarpet\"}], \"heatmap\": [{\"colorbar\": {\"outlinewidth\": 0, \"ticks\": \"\"}, \"colorscale\": [[0.0, \"#0d0887\"], [0.1111111111111111, \"#46039f\"], [0.2222222222222222, \"#7201a8\"], [0.3333333333333333, \"#9c179e\"], [0.4444444444444444, \"#bd3786\"], [0.5555555555555556, \"#d8576b\"], [0.6666666666666666, \"#ed7953\"], [0.7777777777777778, \"#fb9f3a\"], [0.8888888888888888, \"#fdca26\"], [1.0, \"#f0f921\"]], \"type\": \"heatmap\"}], \"heatmapgl\": [{\"colorbar\": {\"outlinewidth\": 0, \"ticks\": \"\"}, \"colorscale\": [[0.0, \"#0d0887\"], [0.1111111111111111, \"#46039f\"], [0.2222222222222222, \"#7201a8\"], [0.3333333333333333, \"#9c179e\"], [0.4444444444444444, \"#bd3786\"], [0.5555555555555556, \"#d8576b\"], [0.6666666666666666, \"#ed7953\"], [0.7777777777777778, \"#fb9f3a\"], [0.8888888888888888, \"#fdca26\"], [1.0, \"#f0f921\"]], \"type\": \"heatmapgl\"}], \"histogram\": [{\"marker\": {\"colorbar\": {\"outlinewidth\": 0, \"ticks\": \"\"}}, \"type\": \"histogram\"}], \"histogram2d\": [{\"colorbar\": {\"outlinewidth\": 0, \"ticks\": \"\"}, \"colorscale\": [[0.0, \"#0d0887\"], [0.1111111111111111, \"#46039f\"], [0.2222222222222222, \"#7201a8\"], [0.3333333333333333, \"#9c179e\"], [0.4444444444444444, \"#bd3786\"], [0.5555555555555556, \"#d8576b\"], [0.6666666666666666, \"#ed7953\"], [0.7777777777777778, \"#fb9f3a\"], [0.8888888888888888, \"#fdca26\"], [1.0, \"#f0f921\"]], \"type\": \"histogram2d\"}], \"histogram2dcontour\": [{\"colorbar\": {\"outlinewidth\": 0, \"ticks\": \"\"}, \"colorscale\": [[0.0, \"#0d0887\"], [0.1111111111111111, \"#46039f\"], [0.2222222222222222, \"#7201a8\"], [0.3333333333333333, \"#9c179e\"], [0.4444444444444444, \"#bd3786\"], [0.5555555555555556, \"#d8576b\"], [0.6666666666666666, \"#ed7953\"], [0.7777777777777778, \"#fb9f3a\"], [0.8888888888888888, \"#fdca26\"], [1.0, \"#f0f921\"]], \"type\": \"histogram2dcontour\"}], \"mesh3d\": [{\"colorbar\": {\"outlinewidth\": 0, \"ticks\": \"\"}, \"type\": \"mesh3d\"}], \"parcoords\": [{\"line\": {\"colorbar\": {\"outlinewidth\": 0, \"ticks\": \"\"}}, \"type\": \"parcoords\"}], \"pie\": [{\"automargin\": true, \"type\": \"pie\"}], \"scatter\": [{\"marker\": {\"colorbar\": {\"outlinewidth\": 0, \"ticks\": \"\"}}, \"type\": \"scatter\"}], \"scatter3d\": [{\"line\": {\"colorbar\": {\"outlinewidth\": 0, \"ticks\": \"\"}}, \"marker\": {\"colorbar\": {\"outlinewidth\": 0, \"ticks\": \"\"}}, \"type\": \"scatter3d\"}], \"scattercarpet\": [{\"marker\": {\"colorbar\": {\"outlinewidth\": 0, \"ticks\": \"\"}}, \"type\": \"scattercarpet\"}], \"scattergeo\": [{\"marker\": {\"colorbar\": {\"outlinewidth\": 0, \"ticks\": \"\"}}, \"type\": \"scattergeo\"}], \"scattergl\": [{\"marker\": {\"colorbar\": {\"outlinewidth\": 0, \"ticks\": \"\"}}, \"type\": \"scattergl\"}], \"scattermapbox\": [{\"marker\": {\"colorbar\": {\"outlinewidth\": 0, \"ticks\": \"\"}}, \"type\": \"scattermapbox\"}], \"scatterpolar\": [{\"marker\": {\"colorbar\": {\"outlinewidth\": 0, \"ticks\": \"\"}}, \"type\": \"scatterpolar\"}], \"scatterpolargl\": [{\"marker\": {\"colorbar\": {\"outlinewidth\": 0, \"ticks\": \"\"}}, \"type\": \"scatterpolargl\"}], \"scatterternary\": [{\"marker\": {\"colorbar\": {\"outlinewidth\": 0, \"ticks\": \"\"}}, \"type\": \"scatterternary\"}], \"surface\": [{\"colorbar\": {\"outlinewidth\": 0, \"ticks\": \"\"}, \"colorscale\": [[0.0, \"#0d0887\"], [0.1111111111111111, \"#46039f\"], [0.2222222222222222, \"#7201a8\"], [0.3333333333333333, \"#9c179e\"], [0.4444444444444444, \"#bd3786\"], [0.5555555555555556, \"#d8576b\"], [0.6666666666666666, \"#ed7953\"], [0.7777777777777778, \"#fb9f3a\"], [0.8888888888888888, \"#fdca26\"], [1.0, \"#f0f921\"]], \"type\": \"surface\"}], \"table\": [{\"cells\": {\"fill\": {\"color\": \"#EBF0F8\"}, \"line\": {\"color\": \"white\"}}, \"header\": {\"fill\": {\"color\": \"#C8D4E3\"}, \"line\": {\"color\": \"white\"}}, \"type\": \"table\"}]}, \"layout\": {\"annotationdefaults\": {\"arrowcolor\": \"#2a3f5f\", \"arrowhead\": 0, \"arrowwidth\": 1}, \"coloraxis\": {\"colorbar\": {\"outlinewidth\": 0, \"ticks\": \"\"}}, \"colorscale\": {\"diverging\": [[0, \"#8e0152\"], [0.1, \"#c51b7d\"], [0.2, \"#de77ae\"], [0.3, \"#f1b6da\"], [0.4, \"#fde0ef\"], [0.5, \"#f7f7f7\"], [0.6, \"#e6f5d0\"], [0.7, \"#b8e186\"], [0.8, \"#7fbc41\"], [0.9, \"#4d9221\"], [1, \"#276419\"]], \"sequential\": [[0.0, \"#0d0887\"], [0.1111111111111111, \"#46039f\"], [0.2222222222222222, \"#7201a8\"], [0.3333333333333333, \"#9c179e\"], [0.4444444444444444, \"#bd3786\"], [0.5555555555555556, \"#d8576b\"], [0.6666666666666666, \"#ed7953\"], [0.7777777777777778, \"#fb9f3a\"], [0.8888888888888888, \"#fdca26\"], [1.0, \"#f0f921\"]], \"sequentialminus\": [[0.0, \"#0d0887\"], [0.1111111111111111, \"#46039f\"], [0.2222222222222222, \"#7201a8\"], [0.3333333333333333, \"#9c179e\"], [0.4444444444444444, \"#bd3786\"], [0.5555555555555556, \"#d8576b\"], [0.6666666666666666, \"#ed7953\"], [0.7777777777777778, \"#fb9f3a\"], [0.8888888888888888, \"#fdca26\"], [1.0, \"#f0f921\"]]}, \"colorway\": [\"#636efa\", \"#EF553B\", \"#00cc96\", \"#ab63fa\", \"#FFA15A\", \"#19d3f3\", \"#FF6692\", \"#B6E880\", \"#FF97FF\", \"#FECB52\"], \"font\": {\"color\": \"#2a3f5f\"}, \"geo\": {\"bgcolor\": \"white\", \"lakecolor\": \"white\", \"landcolor\": \"#E5ECF6\", \"showlakes\": true, \"showland\": true, \"subunitcolor\": \"white\"}, \"hoverlabel\": {\"align\": \"left\"}, \"hovermode\": \"closest\", \"mapbox\": {\"style\": \"light\"}, \"paper_bgcolor\": \"white\", \"plot_bgcolor\": \"#E5ECF6\", \"polar\": {\"angularaxis\": {\"gridcolor\": \"white\", \"linecolor\": \"white\", \"ticks\": \"\"}, \"bgcolor\": \"#E5ECF6\", \"radialaxis\": {\"gridcolor\": \"white\", \"linecolor\": \"white\", \"ticks\": \"\"}}, \"scene\": {\"xaxis\": {\"backgroundcolor\": \"#E5ECF6\", \"gridcolor\": \"white\", \"gridwidth\": 2, \"linecolor\": \"white\", \"showbackground\": true, \"ticks\": \"\", \"zerolinecolor\": \"white\"}, \"yaxis\": {\"backgroundcolor\": \"#E5ECF6\", \"gridcolor\": \"white\", \"gridwidth\": 2, \"linecolor\": \"white\", \"showbackground\": true, \"ticks\": \"\", \"zerolinecolor\": \"white\"}, \"zaxis\": {\"backgroundcolor\": \"#E5ECF6\", \"gridcolor\": \"white\", \"gridwidth\": 2, \"linecolor\": \"white\", \"showbackground\": true, \"ticks\": \"\", \"zerolinecolor\": \"white\"}}, \"shapedefaults\": {\"line\": {\"color\": \"#2a3f5f\"}}, \"ternary\": {\"aaxis\": {\"gridcolor\": \"white\", \"linecolor\": \"white\", \"ticks\": \"\"}, \"baxis\": {\"gridcolor\": \"white\", \"linecolor\": \"white\", \"ticks\": \"\"}, \"bgcolor\": \"#E5ECF6\", \"caxis\": {\"gridcolor\": \"white\", \"linecolor\": \"white\", \"ticks\": \"\"}}, \"title\": {\"x\": 0.05}, \"xaxis\": {\"automargin\": true, \"gridcolor\": \"white\", \"linecolor\": \"white\", \"ticks\": \"\", \"title\": {\"standoff\": 15}, \"zerolinecolor\": \"white\", \"zerolinewidth\": 2}, \"yaxis\": {\"automargin\": true, \"gridcolor\": \"white\", \"linecolor\": \"white\", \"ticks\": \"\", \"title\": {\"standoff\": 15}, \"zerolinecolor\": \"white\", \"zerolinewidth\": 2}}}, \"title\": {\"text\": \"No lookahead\"}},\n",
       "                        {\"responsive\": true}\n",
       "                    ).then(function(){\n",
       "                            \n",
       "var gd = document.getElementById('85253546-c983-4d7a-aa9e-df06f02ea7b6');\n",
       "var x = new MutationObserver(function (mutations, observer) {{\n",
       "        var display = window.getComputedStyle(gd).display;\n",
       "        if (!display || display === 'none') {{\n",
       "            console.log([gd, 'removed!']);\n",
       "            Plotly.purge(gd);\n",
       "            observer.disconnect();\n",
       "        }}\n",
       "}});\n",
       "\n",
       "// Listen for the removal of the full notebook cells\n",
       "var notebookContainer = gd.closest('#notebook-container');\n",
       "if (notebookContainer) {{\n",
       "    x.observe(notebookContainer, {childList: true});\n",
       "}}\n",
       "\n",
       "// Listen for the clearing of the current output cell\n",
       "var outputEl = gd.closest('.output');\n",
       "if (outputEl) {{\n",
       "    x.observe(outputEl, {childList: true});\n",
       "}}\n",
       "\n",
       "                        })\n",
       "                };\n",
       "                });\n",
       "            </script>\n",
       "        </div>"
      ]
     },
     "metadata": {},
     "output_type": "display_data"
    }
   ],
   "source": [
    "ctrl = controllers.get_limited_lookahead_controller(get_value_function(online_horizon)[0])\n",
    "x_traj_sim, t_traj_sim = controllers.sim_ctrl(x0, vf.u_dim[0], sys.dx,\n",
    "                                              ctrl, dt_sim, N, integration_mode=integration_mode)\n",
    "controllers.plot_sim(t_traj_sim, x_traj_sim, \"No lookahead\").show()"
   ]
  },
  {
   "cell_type": "code",
   "execution_count": 278,
   "metadata": {},
   "outputs": [
    {
     "data": {
      "application/vnd.plotly.v1+json": {
       "config": {
        "plotlyServerURL": "https://plot.ly"
       },
       "data": [
        {
         "type": "scatter",
         "x": [
          0,
          0.05643301084637642,
          0.10000000149011612,
          0.11384978145360947,
          0.20000000298023224,
          0.26170095801353455,
          0.30000001192092896,
          0.3528444766998291,
          0.4000000059604645,
          0.43806883692741394,
          0.5,
          0.5365890860557556,
          0.6000000238418579,
          0.6408361196517944,
          0.699999988079071,
          0.7413209080696106,
          0.800000011920929,
          0.8404622673988342,
          0.8999999761581421,
          0.9383774995803833,
          1,
          1.0291374921798706,
          1.100000023841858,
          1.1348563432693481,
          1.2000000476837158,
          1.2315137386322021,
          1.2999999523162842,
          1.306909441947937,
          1.3760043382644653,
          1.399999976158142,
          1.4476971626281738,
          1.5,
          1.5455141067504883,
          1.600000023841858,
          1.641553282737732,
          1.7000000476837158,
          1.7385181188583374,
          1.7999999523162842,
          1.8358114957809448,
          1.899999976158142,
          1.9502367973327637,
          2,
          2.0487234592437744,
          2.0999999046325684,
          2.1439428329467773,
          2.200000047683716,
          2.2387259006500244,
          2.299999952316284,
          2.3335351943969727,
          2.4000000953674316,
          2.4278712272644043,
          2.5,
          2.5008962154388428,
          2.509857654571533,
          2.599473476409912,
          2.5999999046325684,
          2.64418888092041,
          2.700000047683716,
          2.74505877494812,
          2.799999952316284,
          2.8372015953063965,
          2.9000000953674316,
          2.9261412620544434,
          3,
          3.034804105758667,
          3.0999999046325684,
          3.1369149684906006,
          3.200000047683716,
          3.237586736679077,
          3.299999952316284,
          3.3376541137695312,
          3.4000000953674316,
          3.43912410736084,
          3.5,
          3.52180814743042,
          3.5999999046325684,
          3.638047933578491,
          3.700000047683716,
          3.73164439201355,
          3.799999952316284,
          3.838141441345215,
          3.9000000953674316,
          3.9395415782928467,
          4,
          4.040926933288574,
          4.099999904632568,
          4.137816905975342,
          4.199999809265137,
          4.236352920532227,
          4.300000190734863,
          4.333909511566162,
          4.400000095367432,
          4.407843589782715,
          4.486278533935547,
          4.5,
          4.534375190734863,
          4.599999904632568,
          4.637797832489014,
          4.699999809265137,
          4.7397074699401855,
          4.800000190734863,
          4.8409423828125,
          4.900000095367432
         ],
         "y": [
          4.141592502593994,
          4.26756477355957,
          4.383580207824707,
          4.424038410186768,
          4.715856552124023,
          4.937718868255615,
          5.059659481048584,
          5.212003707885742,
          5.333893775939941,
          5.423186302185059,
          5.554084777832031,
          5.622435569763184,
          5.727802753448486,
          5.786073684692383,
          5.858786106109619,
          5.900785446166992,
          5.949312686920166,
          5.974730491638184,
          6.001492977142334,
          6.011655807495117,
          6.017845630645752,
          6.0160231590271,
          6.0014567375183105,
          5.988485813140869,
          5.9559173583984375,
          5.935908317565918,
          5.885174751281738,
          5.879383563995361,
          5.831249713897705,
          5.818902015686035,
          5.794435024261475,
          5.759871482849121,
          5.724056720733643,
          5.675543785095215,
          5.634793281555176,
          5.573474407196045,
          5.530522346496582,
          5.459425449371338,
          5.419855117797852,
          5.369411945343018,
          5.3389892578125,
          5.303483486175537,
          5.26467752456665,
          5.220578193664551,
          5.180631160736084,
          5.127911567687988,
          5.090317249298096,
          5.030308246612549,
          4.996822834014893,
          4.930965900421143,
          4.902983665466309,
          4.831986904144287,
          4.831080436706543,
          4.82234001159668,
          4.767216205596924,
          4.767065048217773,
          4.753930568695068,
          4.732798099517822,
          4.712589263916016,
          4.685440540313721,
          4.665507793426514,
          4.630670547485352,
          4.615291118621826,
          4.57192325592041,
          4.5507307052612305,
          4.511287212371826,
          4.488505840301514,
          4.450051307678223,
          4.426874160766602,
          4.389029026031494,
          4.366042137145996,
          4.328738212585449,
          4.309115886688232,
          4.297855854034424,
          4.297909259796143,
          4.292737007141113,
          4.28680419921875,
          4.274349212646484,
          4.266375541687012,
          4.247617721557617,
          4.235727787017822,
          4.215569496154785,
          4.201728820800781,
          4.180124282836914,
          4.165907859802246,
          4.149825096130371,
          4.141707420349121,
          4.131988525390625,
          4.127881050109863,
          4.12367582321167,
          4.1225199699401855,
          4.122888088226318,
          4.122987270355225,
          4.127345561981201,
          4.128237247467041,
          4.131176948547363,
          4.138747215270996,
          4.143805027008057,
          4.153725624084473,
          4.160703659057617,
          4.172684669494629,
          4.1814284324646,
          4.195294380187988
         ]
        },
        {
         "type": "scatter",
         "x": [
          0,
          0.05643301084637642,
          0.10000000149011612,
          0.11384978145360947,
          0.20000000298023224,
          0.26170095801353455,
          0.30000001192092896,
          0.3528444766998291,
          0.4000000059604645,
          0.43806883692741394,
          0.5,
          0.5365890860557556,
          0.6000000238418579,
          0.6408361196517944,
          0.699999988079071,
          0.7413209080696106,
          0.800000011920929,
          0.8404622673988342,
          0.8999999761581421,
          0.9383774995803833,
          1,
          1.0291374921798706,
          1.100000023841858,
          1.1348563432693481,
          1.2000000476837158,
          1.2315137386322021,
          1.2999999523162842,
          1.306909441947937,
          1.3760043382644653,
          1.399999976158142,
          1.4476971626281738,
          1.5,
          1.5455141067504883,
          1.600000023841858,
          1.641553282737732,
          1.7000000476837158,
          1.7385181188583374,
          1.7999999523162842,
          1.8358114957809448,
          1.899999976158142,
          1.9502367973327637,
          2,
          2.0487234592437744,
          2.0999999046325684,
          2.1439428329467773,
          2.200000047683716,
          2.2387259006500244,
          2.299999952316284,
          2.3335351943969727,
          2.4000000953674316,
          2.4278712272644043,
          2.5,
          2.5008962154388428,
          2.509857654571533,
          2.599473476409912,
          2.5999999046325684,
          2.64418888092041,
          2.700000047683716,
          2.74505877494812,
          2.799999952316284,
          2.8372015953063965,
          2.9000000953674316,
          2.9261412620544434,
          3,
          3.034804105758667,
          3.0999999046325684,
          3.1369149684906006,
          3.200000047683716,
          3.237586736679077,
          3.299999952316284,
          3.3376541137695312,
          3.4000000953674316,
          3.43912410736084,
          3.5,
          3.52180814743042,
          3.5999999046325684,
          3.638047933578491,
          3.700000047683716,
          3.73164439201355,
          3.799999952316284,
          3.838141441345215,
          3.9000000953674316,
          3.9395415782928467,
          4,
          4.040926933288574,
          4.099999904632568,
          4.137816905975342,
          4.199999809265137,
          4.236352920532227,
          4.300000190734863,
          4.333909511566162,
          4.400000095367432,
          4.407843589782715,
          4.486278533935547,
          4.5,
          4.534375190734863,
          4.599999904632568,
          4.637797832489014,
          4.699999809265137,
          4.7397074699401855,
          4.800000190734863,
          4.8409423828125,
          4.900000095367432
         ],
         "y": [
          1,
          1.0436174869537354,
          1.0570440292358398,
          1.0570156574249268,
          1.0015183687210083,
          0.9359117746353149,
          0.9093097448348999,
          0.8856168985366821,
          0.8743366599082947,
          0.8706892132759094,
          0.8709309101104736,
          0.8744531869888306,
          0.8830096125602722,
          0.8902637958526611,
          0.9012712836265564,
          0.9094919562339783,
          0.9206804037094116,
          0.9283422231674194,
          0.9385514259338379,
          0.944826066493988,
          0.9533708691596985,
          0.9572490453720093,
          0.9641672968864441,
          0.9670845866203308,
          0.9702836871147156,
          0.9714619517326355,
          0.9713371396064758,
          0.9713319540023804,
          0.9514070749282837,
          0.9359886050224304,
          0.9028086066246033,
          0.8738347291946411,
          0.8535830974578857,
          0.8335734009742737,
          0.820972204208374,
          0.8054183125495911,
          0.7967326641082764,
          0.7837046980857849,
          0.7725900411605835,
          0.7254843711853027,
          0.6794919967651367,
          0.6446298956871033,
          0.6185222268104553,
          0.5975915193557739,
          0.5839688181877136,
          0.5706034898757935,
          0.5638251900672913,
          0.5553373694419861,
          0.5521671175956726,
          0.5468617081642151,
          0.5455744862556458,
          0.5423012971878052,
          0.5422964692115784,
          0.5419451594352722,
          0.5091913342475891,
          0.5088465809822083,
          0.4828662574291229,
          0.46009278297424316,
          0.44812262058258057,
          0.4389825463294983,
          0.4356396198272705,
          0.4330679774284363,
          0.43328648805618286,
          0.43514516949653625,
          0.43709778785705566,
          0.44109973311424255,
          0.4439235329627991,
          0.44860604405403137,
          0.4516735076904297,
          0.45635467767715454,
          0.45930641889572144,
          0.4636387228965759,
          0.4637402296066284,
          0.45082348585128784,
          0.44389885663986206,
          0.42831650376319885,
          0.42516013979911804,
          0.4237109124660492,
          0.4245496690273285,
          0.4279928207397461,
          0.43094202876091003,
          0.43617966771125793,
          0.4399391710758209,
          0.4455631971359253,
          0.4491860568523407,
          0.45277851819992065,
          0.45462238788604736,
          0.4570753574371338,
          0.45854508876800537,
          0.46109887957572937,
          0.4627147912979126,
          0.4660840630531311,
          0.4665921628475189,
          0.47146275639533997,
          0.47252410650253296,
          0.47516897320747375,
          0.4805382788181305,
          0.48402297496795654,
          0.49006783962249756,
          0.4942910671234131,
          0.5009798407554626,
          0.5058515071868896,
          0.5131137371063232
         ]
        },
        {
         "type": "scatter",
         "x": [
          0,
          0.05643301084637642,
          0.10000000149011612,
          0.11384978145360947,
          0.20000000298023224,
          0.26170095801353455,
          0.30000001192092896,
          0.3528444766998291,
          0.4000000059604645,
          0.43806883692741394,
          0.5,
          0.5365890860557556,
          0.6000000238418579,
          0.6408361196517944,
          0.699999988079071,
          0.7413209080696106,
          0.800000011920929,
          0.8404622673988342,
          0.8999999761581421,
          0.9383774995803833,
          1,
          1.0291374921798706,
          1.100000023841858,
          1.1348563432693481,
          1.2000000476837158,
          1.2315137386322021,
          1.2999999523162842,
          1.306909441947937,
          1.3760043382644653,
          1.399999976158142,
          1.4476971626281738,
          1.5,
          1.5455141067504883,
          1.600000023841858,
          1.641553282737732,
          1.7000000476837158,
          1.7385181188583374,
          1.7999999523162842,
          1.8358114957809448,
          1.899999976158142,
          1.9502367973327637,
          2,
          2.0487234592437744,
          2.0999999046325684,
          2.1439428329467773,
          2.200000047683716,
          2.2387259006500244,
          2.299999952316284,
          2.3335351943969727,
          2.4000000953674316,
          2.4278712272644043,
          2.5,
          2.5008962154388428,
          2.509857654571533,
          2.599473476409912,
          2.5999999046325684,
          2.64418888092041,
          2.700000047683716,
          2.74505877494812,
          2.799999952316284,
          2.8372015953063965,
          2.9000000953674316,
          2.9261412620544434,
          3,
          3.034804105758667,
          3.0999999046325684,
          3.1369149684906006,
          3.200000047683716,
          3.237586736679077,
          3.299999952316284,
          3.3376541137695312,
          3.4000000953674316,
          3.43912410736084,
          3.5,
          3.52180814743042,
          3.5999999046325684,
          3.638047933578491,
          3.700000047683716,
          3.73164439201355,
          3.799999952316284,
          3.838141441345215,
          3.9000000953674316,
          3.9395415782928467,
          4,
          4.040926933288574,
          4.099999904632568,
          4.137816905975342,
          4.199999809265137,
          4.236352920532227,
          4.300000190734863,
          4.333909511566162,
          4.400000095367432,
          4.407843589782715,
          4.486278533935547,
          4.5,
          4.534375190734863,
          4.599999904632568,
          4.637797832489014,
          4.699999809265137,
          4.7397074699401855,
          4.800000190734863,
          4.8409423828125,
          4.900000095367432
         ],
         "y": [
          2,
          2.470825433731079,
          2.8580410480499268,
          2.984642505645752,
          3.794327735900879,
          3.3635342121124268,
          2.9902007579803467,
          2.7494144439697266,
          2.3984005451202393,
          2.279360294342041,
          1.9114896059036255,
          1.812949299812317,
          1.474928855895996,
          1.3655339479446411,
          1.064562439918518,
          0.9557417631149292,
          0.6736513376235962,
          0.5717527866363525,
          0.30439242720603943,
          0.21609574556350708,
          -0.03772907331585884,
          -0.09234926849603653,
          -0.347012996673584,
          -0.4040926992893219,
          -0.6188988089561462,
          -0.6564497947692871,
          -0.8505085110664368,
          -0.8257885575294495,
          -0.5629469156265259,
          -0.4657537639141083,
          -0.5713673233985901,
          -0.7634047269821167,
          -0.8211418986320496,
          -0.9748883247375488,
          -0.9958736896514893,
          -1.1210315227508545,
          -1.1175588369369507,
          -1.2167390584945679,
          -0.9921650290489197,
          -0.5775418281555176,
          -0.646877110004425,
          -0.7926626205444336,
          -0.8135305643081665,
          -0.9210538268089294,
          -0.9084076881408691,
          -0.990903377532959,
          -0.9597200751304626,
          -1.0217446088790894,
          -0.9822065234184265,
          -1.026733636856079,
          -0.9860568642616272,
          -1.0148009061813354,
          -1.00821852684021,
          -0.9424350261688232,
          -0.28922954201698303,
          -0.2854173183441162,
          -0.31977882981300354,
          -0.45432645082473755,
          -0.4545845687389374,
          -0.5512993335723877,
          -0.528704822063446,
          -0.6046308875083923,
          -0.5762043595314026,
          -0.6314932703971863,
          -0.5937226414680481,
          -0.6421454548835754,
          -0.6003438830375671,
          -0.6426804661750793,
          -0.5989356637001038,
          -0.6367473602294922,
          -0.5923942923545837,
          -0.6266355514526367,
          -0.3770221769809723,
          0.006456540431827307,
          -0.003918654751032591,
          -0.15919482707977295,
          -0.1604377180337906,
          -0.2622874677181244,
          -0.2471921741962433,
          -0.32732927799224854,
          -0.3041563928127289,
          -0.3686433434486389,
          -0.3399360179901123,
          -0.3945977985858917,
          -0.3069179356098175,
          -0.25149720907211304,
          -0.1834326833486557,
          -0.14413288235664368,
          -0.08697759360074997,
          -0.060768261551856995,
          -0.011917108669877052,
          0.006096016615629196,
          0.01901242323219776,
          0.06783095002174377,
          0.061409998685121536,
          0.10485567152500153,
          0.108537457883358,
          0.15318822860717773,
          0.14987118542194366,
          0.19495004415512085,
          0.18715651333332062,
          0.2327054738998413,
          0.22177156805992126
         ]
        },
        {
         "type": "scatter",
         "x": [
          0,
          0.05643301084637642,
          0.10000000149011612,
          0.11384978145360947,
          0.20000000298023224,
          0.26170095801353455,
          0.30000001192092896,
          0.3528444766998291,
          0.4000000059604645,
          0.43806883692741394,
          0.5,
          0.5365890860557556,
          0.6000000238418579,
          0.6408361196517944,
          0.699999988079071,
          0.7413209080696106,
          0.800000011920929,
          0.8404622673988342,
          0.8999999761581421,
          0.9383774995803833,
          1,
          1.0291374921798706,
          1.100000023841858,
          1.1348563432693481,
          1.2000000476837158,
          1.2315137386322021,
          1.2999999523162842,
          1.306909441947937,
          1.3760043382644653,
          1.399999976158142,
          1.4476971626281738,
          1.5,
          1.5455141067504883,
          1.600000023841858,
          1.641553282737732,
          1.7000000476837158,
          1.7385181188583374,
          1.7999999523162842,
          1.8358114957809448,
          1.899999976158142,
          1.9502367973327637,
          2,
          2.0487234592437744,
          2.0999999046325684,
          2.1439428329467773,
          2.200000047683716,
          2.2387259006500244,
          2.299999952316284,
          2.3335351943969727,
          2.4000000953674316,
          2.4278712272644043,
          2.5,
          2.5008962154388428,
          2.509857654571533,
          2.599473476409912,
          2.5999999046325684,
          2.64418888092041,
          2.700000047683716,
          2.74505877494812,
          2.799999952316284,
          2.8372015953063965,
          2.9000000953674316,
          2.9261412620544434,
          3,
          3.034804105758667,
          3.0999999046325684,
          3.1369149684906006,
          3.200000047683716,
          3.237586736679077,
          3.299999952316284,
          3.3376541137695312,
          3.4000000953674316,
          3.43912410736084,
          3.5,
          3.52180814743042,
          3.5999999046325684,
          3.638047933578491,
          3.700000047683716,
          3.73164439201355,
          3.799999952316284,
          3.838141441345215,
          3.9000000953674316,
          3.9395415782928467,
          4,
          4.040926933288574,
          4.099999904632568,
          4.137816905975342,
          4.199999809265137,
          4.236352920532227,
          4.300000190734863,
          4.333909511566162,
          4.400000095367432,
          4.407843589782715,
          4.486278533935547,
          4.5,
          4.534375190734863,
          4.599999904632568,
          4.637797832489014,
          4.699999809265137,
          4.7397074699401855,
          4.800000190734863,
          4.8409423828125,
          4.900000095367432
         ],
         "y": [
          1,
          0.5265064239501953,
          0.07697029411792755,
          -0.08243606239557266,
          -1.2588765621185303,
          -0.8491995930671692,
          -0.5307891964912415,
          -0.35208165645599365,
          -0.11230046302080154,
          -0.07170543074607849,
          0.10390942543745041,
          0.09624242782592773,
          0.19939671456813812,
          0.16595737636089325,
          0.22844934463500977,
          0.180159792304039,
          0.2229280024766922,
          0.1664833426475525,
          0.19907043874263763,
          0.1380130648612976,
          0.16431383788585663,
          0.10804370790719986,
          0.12216546386480331,
          0.05452846363186836,
          0.07495865225791931,
          0.00783490389585495,
          0.025237666442990303,
          -0.026760822162032127,
          -0.5510299205780029,
          -0.7341032028198242,
          -0.6432003974914551,
          -0.44850221276283264,
          -0.4268663227558136,
          -0.2872326672077179,
          -0.3061707019805908,
          -0.20053401589393616,
          -0.23879653215408325,
          -0.1556747406721115,
          -0.4640241265296936,
          -0.9999436140060425,
          -0.8190414905548096,
          -0.5711780190467834,
          -0.4872807562351227,
          -0.315115749835968,
          -0.2932319939136505,
          -0.16523531079292297,
          -0.1754882037639618,
          -0.0788329616189003,
          -0.10325659811496735,
          -0.029737215489149094,
          -0.0579373836517334,
          -0.002308482537046075,
          -0.008477739989757538,
          -0.06981182098388672,
          -0.6531175971031189,
          -0.6564186215400696,
          -0.5144826769828796,
          -0.29430443048477173,
          -0.229682058095932,
          -0.09255792200565338,
          -0.08134282380342484,
          0.01554372813552618,
          0.004232943058013916,
          0.06984587758779526,
          0.047834981232881546,
          0.09361229836940765,
          0.06544499099254608,
          0.10022182762622833,
          0.06912247091531754,
          0.09726502746343613,
          0.06542480736970901,
          0.0892418771982193,
          -0.08278698474168777,
          -0.3404441773891449,
          -0.2939835488796234,
          -0.09647036343812943,
          -0.06595470011234283,
          0.028382545337080956,
          0.02763093076646328,
          0.08692410588264465,
          0.07248447090387344,
          0.1091621145606041,
          0.08628081530332565,
          0.11186875402927399,
          0.07016397267580032,
          0.061386771500110626,
          0.03962457552552223,
          0.048341743648052216,
          0.03538985177874565,
          0.05337448790669441,
          0.044281113892793655,
          0.06636922061443329,
          0.06331441551446915,
          0.07297078520059586,
          0.08209586888551712,
          0.07415074110031128,
          0.0979919582605362,
          0.08931092917919159,
          0.11289927363395691,
          0.10314617305994034,
          0.1263887882232666,
          0.11529166251420975,
          0.138360857963562
         ]
        }
       ],
       "layout": {
        "template": {
         "data": {
          "bar": [
           {
            "error_x": {
             "color": "#2a3f5f"
            },
            "error_y": {
             "color": "#2a3f5f"
            },
            "marker": {
             "line": {
              "color": "#E5ECF6",
              "width": 0.5
             }
            },
            "type": "bar"
           }
          ],
          "barpolar": [
           {
            "marker": {
             "line": {
              "color": "#E5ECF6",
              "width": 0.5
             }
            },
            "type": "barpolar"
           }
          ],
          "carpet": [
           {
            "aaxis": {
             "endlinecolor": "#2a3f5f",
             "gridcolor": "white",
             "linecolor": "white",
             "minorgridcolor": "white",
             "startlinecolor": "#2a3f5f"
            },
            "baxis": {
             "endlinecolor": "#2a3f5f",
             "gridcolor": "white",
             "linecolor": "white",
             "minorgridcolor": "white",
             "startlinecolor": "#2a3f5f"
            },
            "type": "carpet"
           }
          ],
          "choropleth": [
           {
            "colorbar": {
             "outlinewidth": 0,
             "ticks": ""
            },
            "type": "choropleth"
           }
          ],
          "contour": [
           {
            "colorbar": {
             "outlinewidth": 0,
             "ticks": ""
            },
            "colorscale": [
             [
              0,
              "#0d0887"
             ],
             [
              0.1111111111111111,
              "#46039f"
             ],
             [
              0.2222222222222222,
              "#7201a8"
             ],
             [
              0.3333333333333333,
              "#9c179e"
             ],
             [
              0.4444444444444444,
              "#bd3786"
             ],
             [
              0.5555555555555556,
              "#d8576b"
             ],
             [
              0.6666666666666666,
              "#ed7953"
             ],
             [
              0.7777777777777778,
              "#fb9f3a"
             ],
             [
              0.8888888888888888,
              "#fdca26"
             ],
             [
              1,
              "#f0f921"
             ]
            ],
            "type": "contour"
           }
          ],
          "contourcarpet": [
           {
            "colorbar": {
             "outlinewidth": 0,
             "ticks": ""
            },
            "type": "contourcarpet"
           }
          ],
          "heatmap": [
           {
            "colorbar": {
             "outlinewidth": 0,
             "ticks": ""
            },
            "colorscale": [
             [
              0,
              "#0d0887"
             ],
             [
              0.1111111111111111,
              "#46039f"
             ],
             [
              0.2222222222222222,
              "#7201a8"
             ],
             [
              0.3333333333333333,
              "#9c179e"
             ],
             [
              0.4444444444444444,
              "#bd3786"
             ],
             [
              0.5555555555555556,
              "#d8576b"
             ],
             [
              0.6666666666666666,
              "#ed7953"
             ],
             [
              0.7777777777777778,
              "#fb9f3a"
             ],
             [
              0.8888888888888888,
              "#fdca26"
             ],
             [
              1,
              "#f0f921"
             ]
            ],
            "type": "heatmap"
           }
          ],
          "heatmapgl": [
           {
            "colorbar": {
             "outlinewidth": 0,
             "ticks": ""
            },
            "colorscale": [
             [
              0,
              "#0d0887"
             ],
             [
              0.1111111111111111,
              "#46039f"
             ],
             [
              0.2222222222222222,
              "#7201a8"
             ],
             [
              0.3333333333333333,
              "#9c179e"
             ],
             [
              0.4444444444444444,
              "#bd3786"
             ],
             [
              0.5555555555555556,
              "#d8576b"
             ],
             [
              0.6666666666666666,
              "#ed7953"
             ],
             [
              0.7777777777777778,
              "#fb9f3a"
             ],
             [
              0.8888888888888888,
              "#fdca26"
             ],
             [
              1,
              "#f0f921"
             ]
            ],
            "type": "heatmapgl"
           }
          ],
          "histogram": [
           {
            "marker": {
             "colorbar": {
              "outlinewidth": 0,
              "ticks": ""
             }
            },
            "type": "histogram"
           }
          ],
          "histogram2d": [
           {
            "colorbar": {
             "outlinewidth": 0,
             "ticks": ""
            },
            "colorscale": [
             [
              0,
              "#0d0887"
             ],
             [
              0.1111111111111111,
              "#46039f"
             ],
             [
              0.2222222222222222,
              "#7201a8"
             ],
             [
              0.3333333333333333,
              "#9c179e"
             ],
             [
              0.4444444444444444,
              "#bd3786"
             ],
             [
              0.5555555555555556,
              "#d8576b"
             ],
             [
              0.6666666666666666,
              "#ed7953"
             ],
             [
              0.7777777777777778,
              "#fb9f3a"
             ],
             [
              0.8888888888888888,
              "#fdca26"
             ],
             [
              1,
              "#f0f921"
             ]
            ],
            "type": "histogram2d"
           }
          ],
          "histogram2dcontour": [
           {
            "colorbar": {
             "outlinewidth": 0,
             "ticks": ""
            },
            "colorscale": [
             [
              0,
              "#0d0887"
             ],
             [
              0.1111111111111111,
              "#46039f"
             ],
             [
              0.2222222222222222,
              "#7201a8"
             ],
             [
              0.3333333333333333,
              "#9c179e"
             ],
             [
              0.4444444444444444,
              "#bd3786"
             ],
             [
              0.5555555555555556,
              "#d8576b"
             ],
             [
              0.6666666666666666,
              "#ed7953"
             ],
             [
              0.7777777777777778,
              "#fb9f3a"
             ],
             [
              0.8888888888888888,
              "#fdca26"
             ],
             [
              1,
              "#f0f921"
             ]
            ],
            "type": "histogram2dcontour"
           }
          ],
          "mesh3d": [
           {
            "colorbar": {
             "outlinewidth": 0,
             "ticks": ""
            },
            "type": "mesh3d"
           }
          ],
          "parcoords": [
           {
            "line": {
             "colorbar": {
              "outlinewidth": 0,
              "ticks": ""
             }
            },
            "type": "parcoords"
           }
          ],
          "pie": [
           {
            "automargin": true,
            "type": "pie"
           }
          ],
          "scatter": [
           {
            "marker": {
             "colorbar": {
              "outlinewidth": 0,
              "ticks": ""
             }
            },
            "type": "scatter"
           }
          ],
          "scatter3d": [
           {
            "line": {
             "colorbar": {
              "outlinewidth": 0,
              "ticks": ""
             }
            },
            "marker": {
             "colorbar": {
              "outlinewidth": 0,
              "ticks": ""
             }
            },
            "type": "scatter3d"
           }
          ],
          "scattercarpet": [
           {
            "marker": {
             "colorbar": {
              "outlinewidth": 0,
              "ticks": ""
             }
            },
            "type": "scattercarpet"
           }
          ],
          "scattergeo": [
           {
            "marker": {
             "colorbar": {
              "outlinewidth": 0,
              "ticks": ""
             }
            },
            "type": "scattergeo"
           }
          ],
          "scattergl": [
           {
            "marker": {
             "colorbar": {
              "outlinewidth": 0,
              "ticks": ""
             }
            },
            "type": "scattergl"
           }
          ],
          "scattermapbox": [
           {
            "marker": {
             "colorbar": {
              "outlinewidth": 0,
              "ticks": ""
             }
            },
            "type": "scattermapbox"
           }
          ],
          "scatterpolar": [
           {
            "marker": {
             "colorbar": {
              "outlinewidth": 0,
              "ticks": ""
             }
            },
            "type": "scatterpolar"
           }
          ],
          "scatterpolargl": [
           {
            "marker": {
             "colorbar": {
              "outlinewidth": 0,
              "ticks": ""
             }
            },
            "type": "scatterpolargl"
           }
          ],
          "scatterternary": [
           {
            "marker": {
             "colorbar": {
              "outlinewidth": 0,
              "ticks": ""
             }
            },
            "type": "scatterternary"
           }
          ],
          "surface": [
           {
            "colorbar": {
             "outlinewidth": 0,
             "ticks": ""
            },
            "colorscale": [
             [
              0,
              "#0d0887"
             ],
             [
              0.1111111111111111,
              "#46039f"
             ],
             [
              0.2222222222222222,
              "#7201a8"
             ],
             [
              0.3333333333333333,
              "#9c179e"
             ],
             [
              0.4444444444444444,
              "#bd3786"
             ],
             [
              0.5555555555555556,
              "#d8576b"
             ],
             [
              0.6666666666666666,
              "#ed7953"
             ],
             [
              0.7777777777777778,
              "#fb9f3a"
             ],
             [
              0.8888888888888888,
              "#fdca26"
             ],
             [
              1,
              "#f0f921"
             ]
            ],
            "type": "surface"
           }
          ],
          "table": [
           {
            "cells": {
             "fill": {
              "color": "#EBF0F8"
             },
             "line": {
              "color": "white"
             }
            },
            "header": {
             "fill": {
              "color": "#C8D4E3"
             },
             "line": {
              "color": "white"
             }
            },
            "type": "table"
           }
          ]
         },
         "layout": {
          "annotationdefaults": {
           "arrowcolor": "#2a3f5f",
           "arrowhead": 0,
           "arrowwidth": 1
          },
          "coloraxis": {
           "colorbar": {
            "outlinewidth": 0,
            "ticks": ""
           }
          },
          "colorscale": {
           "diverging": [
            [
             0,
             "#8e0152"
            ],
            [
             0.1,
             "#c51b7d"
            ],
            [
             0.2,
             "#de77ae"
            ],
            [
             0.3,
             "#f1b6da"
            ],
            [
             0.4,
             "#fde0ef"
            ],
            [
             0.5,
             "#f7f7f7"
            ],
            [
             0.6,
             "#e6f5d0"
            ],
            [
             0.7,
             "#b8e186"
            ],
            [
             0.8,
             "#7fbc41"
            ],
            [
             0.9,
             "#4d9221"
            ],
            [
             1,
             "#276419"
            ]
           ],
           "sequential": [
            [
             0,
             "#0d0887"
            ],
            [
             0.1111111111111111,
             "#46039f"
            ],
            [
             0.2222222222222222,
             "#7201a8"
            ],
            [
             0.3333333333333333,
             "#9c179e"
            ],
            [
             0.4444444444444444,
             "#bd3786"
            ],
            [
             0.5555555555555556,
             "#d8576b"
            ],
            [
             0.6666666666666666,
             "#ed7953"
            ],
            [
             0.7777777777777778,
             "#fb9f3a"
            ],
            [
             0.8888888888888888,
             "#fdca26"
            ],
            [
             1,
             "#f0f921"
            ]
           ],
           "sequentialminus": [
            [
             0,
             "#0d0887"
            ],
            [
             0.1111111111111111,
             "#46039f"
            ],
            [
             0.2222222222222222,
             "#7201a8"
            ],
            [
             0.3333333333333333,
             "#9c179e"
            ],
            [
             0.4444444444444444,
             "#bd3786"
            ],
            [
             0.5555555555555556,
             "#d8576b"
            ],
            [
             0.6666666666666666,
             "#ed7953"
            ],
            [
             0.7777777777777778,
             "#fb9f3a"
            ],
            [
             0.8888888888888888,
             "#fdca26"
            ],
            [
             1,
             "#f0f921"
            ]
           ]
          },
          "colorway": [
           "#636efa",
           "#EF553B",
           "#00cc96",
           "#ab63fa",
           "#FFA15A",
           "#19d3f3",
           "#FF6692",
           "#B6E880",
           "#FF97FF",
           "#FECB52"
          ],
          "font": {
           "color": "#2a3f5f"
          },
          "geo": {
           "bgcolor": "white",
           "lakecolor": "white",
           "landcolor": "#E5ECF6",
           "showlakes": true,
           "showland": true,
           "subunitcolor": "white"
          },
          "hoverlabel": {
           "align": "left"
          },
          "hovermode": "closest",
          "mapbox": {
           "style": "light"
          },
          "paper_bgcolor": "white",
          "plot_bgcolor": "#E5ECF6",
          "polar": {
           "angularaxis": {
            "gridcolor": "white",
            "linecolor": "white",
            "ticks": ""
           },
           "bgcolor": "#E5ECF6",
           "radialaxis": {
            "gridcolor": "white",
            "linecolor": "white",
            "ticks": ""
           }
          },
          "scene": {
           "xaxis": {
            "backgroundcolor": "#E5ECF6",
            "gridcolor": "white",
            "gridwidth": 2,
            "linecolor": "white",
            "showbackground": true,
            "ticks": "",
            "zerolinecolor": "white"
           },
           "yaxis": {
            "backgroundcolor": "#E5ECF6",
            "gridcolor": "white",
            "gridwidth": 2,
            "linecolor": "white",
            "showbackground": true,
            "ticks": "",
            "zerolinecolor": "white"
           },
           "zaxis": {
            "backgroundcolor": "#E5ECF6",
            "gridcolor": "white",
            "gridwidth": 2,
            "linecolor": "white",
            "showbackground": true,
            "ticks": "",
            "zerolinecolor": "white"
           }
          },
          "shapedefaults": {
           "line": {
            "color": "#2a3f5f"
           }
          },
          "ternary": {
           "aaxis": {
            "gridcolor": "white",
            "linecolor": "white",
            "ticks": ""
           },
           "baxis": {
            "gridcolor": "white",
            "linecolor": "white",
            "ticks": ""
           },
           "bgcolor": "#E5ECF6",
           "caxis": {
            "gridcolor": "white",
            "linecolor": "white",
            "ticks": ""
           }
          },
          "title": {
           "x": 0.05
          },
          "xaxis": {
           "automargin": true,
           "gridcolor": "white",
           "linecolor": "white",
           "ticks": "",
           "title": {
            "standoff": 15
           },
           "zerolinecolor": "white",
           "zerolinewidth": 2
          },
          "yaxis": {
           "automargin": true,
           "gridcolor": "white",
           "linecolor": "white",
           "ticks": "",
           "title": {
            "standoff": 15
           },
           "zerolinecolor": "white",
           "zerolinewidth": 2
          }
         }
        },
        "title": {
         "text": "Baseline"
        }
       }
      },
      "text/html": [
       "<div>\n",
       "        \n",
       "        \n",
       "            <div id=\"7683c3d0-4441-4497-8694-6a076836b27c\" class=\"plotly-graph-div\" style=\"height:525px; width:100%;\"></div>\n",
       "            <script type=\"text/javascript\">\n",
       "                require([\"plotly\"], function(Plotly) {\n",
       "                    window.PLOTLYENV=window.PLOTLYENV || {};\n",
       "                    \n",
       "                if (document.getElementById(\"7683c3d0-4441-4497-8694-6a076836b27c\")) {\n",
       "                    Plotly.newPlot(\n",
       "                        '7683c3d0-4441-4497-8694-6a076836b27c',\n",
       "                        [{\"type\": \"scatter\", \"x\": [0.0, 0.05643301084637642, 0.10000000149011612, 0.11384978145360947, 0.20000000298023224, 0.26170095801353455, 0.30000001192092896, 0.3528444766998291, 0.4000000059604645, 0.43806883692741394, 0.5, 0.5365890860557556, 0.6000000238418579, 0.6408361196517944, 0.699999988079071, 0.7413209080696106, 0.800000011920929, 0.8404622673988342, 0.8999999761581421, 0.9383774995803833, 1.0, 1.0291374921798706, 1.100000023841858, 1.1348563432693481, 1.2000000476837158, 1.2315137386322021, 1.2999999523162842, 1.306909441947937, 1.3760043382644653, 1.399999976158142, 1.4476971626281738, 1.5, 1.5455141067504883, 1.600000023841858, 1.641553282737732, 1.7000000476837158, 1.7385181188583374, 1.7999999523162842, 1.8358114957809448, 1.899999976158142, 1.9502367973327637, 2.0, 2.0487234592437744, 2.0999999046325684, 2.1439428329467773, 2.200000047683716, 2.2387259006500244, 2.299999952316284, 2.3335351943969727, 2.4000000953674316, 2.4278712272644043, 2.5, 2.5008962154388428, 2.509857654571533, 2.599473476409912, 2.5999999046325684, 2.64418888092041, 2.700000047683716, 2.74505877494812, 2.799999952316284, 2.8372015953063965, 2.9000000953674316, 2.9261412620544434, 3.0, 3.034804105758667, 3.0999999046325684, 3.1369149684906006, 3.200000047683716, 3.237586736679077, 3.299999952316284, 3.3376541137695312, 3.4000000953674316, 3.43912410736084, 3.5, 3.52180814743042, 3.5999999046325684, 3.638047933578491, 3.700000047683716, 3.73164439201355, 3.799999952316284, 3.838141441345215, 3.9000000953674316, 3.9395415782928467, 4.0, 4.040926933288574, 4.099999904632568, 4.137816905975342, 4.199999809265137, 4.236352920532227, 4.300000190734863, 4.333909511566162, 4.400000095367432, 4.407843589782715, 4.486278533935547, 4.5, 4.534375190734863, 4.599999904632568, 4.637797832489014, 4.699999809265137, 4.7397074699401855, 4.800000190734863, 4.8409423828125, 4.900000095367432], \"y\": [4.141592502593994, 4.26756477355957, 4.383580207824707, 4.424038410186768, 4.715856552124023, 4.937718868255615, 5.059659481048584, 5.212003707885742, 5.333893775939941, 5.423186302185059, 5.554084777832031, 5.622435569763184, 5.727802753448486, 5.786073684692383, 5.858786106109619, 5.900785446166992, 5.949312686920166, 5.974730491638184, 6.001492977142334, 6.011655807495117, 6.017845630645752, 6.0160231590271, 6.0014567375183105, 5.988485813140869, 5.9559173583984375, 5.935908317565918, 5.885174751281738, 5.879383563995361, 5.831249713897705, 5.818902015686035, 5.794435024261475, 5.759871482849121, 5.724056720733643, 5.675543785095215, 5.634793281555176, 5.573474407196045, 5.530522346496582, 5.459425449371338, 5.419855117797852, 5.369411945343018, 5.3389892578125, 5.303483486175537, 5.26467752456665, 5.220578193664551, 5.180631160736084, 5.127911567687988, 5.090317249298096, 5.030308246612549, 4.996822834014893, 4.930965900421143, 4.902983665466309, 4.831986904144287, 4.831080436706543, 4.82234001159668, 4.767216205596924, 4.767065048217773, 4.753930568695068, 4.732798099517822, 4.712589263916016, 4.685440540313721, 4.665507793426514, 4.630670547485352, 4.615291118621826, 4.57192325592041, 4.5507307052612305, 4.511287212371826, 4.488505840301514, 4.450051307678223, 4.426874160766602, 4.389029026031494, 4.366042137145996, 4.328738212585449, 4.309115886688232, 4.297855854034424, 4.297909259796143, 4.292737007141113, 4.28680419921875, 4.274349212646484, 4.266375541687012, 4.247617721557617, 4.235727787017822, 4.215569496154785, 4.201728820800781, 4.180124282836914, 4.165907859802246, 4.149825096130371, 4.141707420349121, 4.131988525390625, 4.127881050109863, 4.12367582321167, 4.1225199699401855, 4.122888088226318, 4.122987270355225, 4.127345561981201, 4.128237247467041, 4.131176948547363, 4.138747215270996, 4.143805027008057, 4.153725624084473, 4.160703659057617, 4.172684669494629, 4.1814284324646, 4.195294380187988]}, {\"type\": \"scatter\", \"x\": [0.0, 0.05643301084637642, 0.10000000149011612, 0.11384978145360947, 0.20000000298023224, 0.26170095801353455, 0.30000001192092896, 0.3528444766998291, 0.4000000059604645, 0.43806883692741394, 0.5, 0.5365890860557556, 0.6000000238418579, 0.6408361196517944, 0.699999988079071, 0.7413209080696106, 0.800000011920929, 0.8404622673988342, 0.8999999761581421, 0.9383774995803833, 1.0, 1.0291374921798706, 1.100000023841858, 1.1348563432693481, 1.2000000476837158, 1.2315137386322021, 1.2999999523162842, 1.306909441947937, 1.3760043382644653, 1.399999976158142, 1.4476971626281738, 1.5, 1.5455141067504883, 1.600000023841858, 1.641553282737732, 1.7000000476837158, 1.7385181188583374, 1.7999999523162842, 1.8358114957809448, 1.899999976158142, 1.9502367973327637, 2.0, 2.0487234592437744, 2.0999999046325684, 2.1439428329467773, 2.200000047683716, 2.2387259006500244, 2.299999952316284, 2.3335351943969727, 2.4000000953674316, 2.4278712272644043, 2.5, 2.5008962154388428, 2.509857654571533, 2.599473476409912, 2.5999999046325684, 2.64418888092041, 2.700000047683716, 2.74505877494812, 2.799999952316284, 2.8372015953063965, 2.9000000953674316, 2.9261412620544434, 3.0, 3.034804105758667, 3.0999999046325684, 3.1369149684906006, 3.200000047683716, 3.237586736679077, 3.299999952316284, 3.3376541137695312, 3.4000000953674316, 3.43912410736084, 3.5, 3.52180814743042, 3.5999999046325684, 3.638047933578491, 3.700000047683716, 3.73164439201355, 3.799999952316284, 3.838141441345215, 3.9000000953674316, 3.9395415782928467, 4.0, 4.040926933288574, 4.099999904632568, 4.137816905975342, 4.199999809265137, 4.236352920532227, 4.300000190734863, 4.333909511566162, 4.400000095367432, 4.407843589782715, 4.486278533935547, 4.5, 4.534375190734863, 4.599999904632568, 4.637797832489014, 4.699999809265137, 4.7397074699401855, 4.800000190734863, 4.8409423828125, 4.900000095367432], \"y\": [1.0, 1.0436174869537354, 1.0570440292358398, 1.0570156574249268, 1.0015183687210083, 0.9359117746353149, 0.9093097448348999, 0.8856168985366821, 0.8743366599082947, 0.8706892132759094, 0.8709309101104736, 0.8744531869888306, 0.8830096125602722, 0.8902637958526611, 0.9012712836265564, 0.9094919562339783, 0.9206804037094116, 0.9283422231674194, 0.9385514259338379, 0.944826066493988, 0.9533708691596985, 0.9572490453720093, 0.9641672968864441, 0.9670845866203308, 0.9702836871147156, 0.9714619517326355, 0.9713371396064758, 0.9713319540023804, 0.9514070749282837, 0.9359886050224304, 0.9028086066246033, 0.8738347291946411, 0.8535830974578857, 0.8335734009742737, 0.820972204208374, 0.8054183125495911, 0.7967326641082764, 0.7837046980857849, 0.7725900411605835, 0.7254843711853027, 0.6794919967651367, 0.6446298956871033, 0.6185222268104553, 0.5975915193557739, 0.5839688181877136, 0.5706034898757935, 0.5638251900672913, 0.5553373694419861, 0.5521671175956726, 0.5468617081642151, 0.5455744862556458, 0.5423012971878052, 0.5422964692115784, 0.5419451594352722, 0.5091913342475891, 0.5088465809822083, 0.4828662574291229, 0.46009278297424316, 0.44812262058258057, 0.4389825463294983, 0.4356396198272705, 0.4330679774284363, 0.43328648805618286, 0.43514516949653625, 0.43709778785705566, 0.44109973311424255, 0.4439235329627991, 0.44860604405403137, 0.4516735076904297, 0.45635467767715454, 0.45930641889572144, 0.4636387228965759, 0.4637402296066284, 0.45082348585128784, 0.44389885663986206, 0.42831650376319885, 0.42516013979911804, 0.4237109124660492, 0.4245496690273285, 0.4279928207397461, 0.43094202876091003, 0.43617966771125793, 0.4399391710758209, 0.4455631971359253, 0.4491860568523407, 0.45277851819992065, 0.45462238788604736, 0.4570753574371338, 0.45854508876800537, 0.46109887957572937, 0.4627147912979126, 0.4660840630531311, 0.4665921628475189, 0.47146275639533997, 0.47252410650253296, 0.47516897320747375, 0.4805382788181305, 0.48402297496795654, 0.49006783962249756, 0.4942910671234131, 0.5009798407554626, 0.5058515071868896, 0.5131137371063232]}, {\"type\": \"scatter\", \"x\": [0.0, 0.05643301084637642, 0.10000000149011612, 0.11384978145360947, 0.20000000298023224, 0.26170095801353455, 0.30000001192092896, 0.3528444766998291, 0.4000000059604645, 0.43806883692741394, 0.5, 0.5365890860557556, 0.6000000238418579, 0.6408361196517944, 0.699999988079071, 0.7413209080696106, 0.800000011920929, 0.8404622673988342, 0.8999999761581421, 0.9383774995803833, 1.0, 1.0291374921798706, 1.100000023841858, 1.1348563432693481, 1.2000000476837158, 1.2315137386322021, 1.2999999523162842, 1.306909441947937, 1.3760043382644653, 1.399999976158142, 1.4476971626281738, 1.5, 1.5455141067504883, 1.600000023841858, 1.641553282737732, 1.7000000476837158, 1.7385181188583374, 1.7999999523162842, 1.8358114957809448, 1.899999976158142, 1.9502367973327637, 2.0, 2.0487234592437744, 2.0999999046325684, 2.1439428329467773, 2.200000047683716, 2.2387259006500244, 2.299999952316284, 2.3335351943969727, 2.4000000953674316, 2.4278712272644043, 2.5, 2.5008962154388428, 2.509857654571533, 2.599473476409912, 2.5999999046325684, 2.64418888092041, 2.700000047683716, 2.74505877494812, 2.799999952316284, 2.8372015953063965, 2.9000000953674316, 2.9261412620544434, 3.0, 3.034804105758667, 3.0999999046325684, 3.1369149684906006, 3.200000047683716, 3.237586736679077, 3.299999952316284, 3.3376541137695312, 3.4000000953674316, 3.43912410736084, 3.5, 3.52180814743042, 3.5999999046325684, 3.638047933578491, 3.700000047683716, 3.73164439201355, 3.799999952316284, 3.838141441345215, 3.9000000953674316, 3.9395415782928467, 4.0, 4.040926933288574, 4.099999904632568, 4.137816905975342, 4.199999809265137, 4.236352920532227, 4.300000190734863, 4.333909511566162, 4.400000095367432, 4.407843589782715, 4.486278533935547, 4.5, 4.534375190734863, 4.599999904632568, 4.637797832489014, 4.699999809265137, 4.7397074699401855, 4.800000190734863, 4.8409423828125, 4.900000095367432], \"y\": [2.0, 2.470825433731079, 2.8580410480499268, 2.984642505645752, 3.794327735900879, 3.3635342121124268, 2.9902007579803467, 2.7494144439697266, 2.3984005451202393, 2.279360294342041, 1.9114896059036255, 1.812949299812317, 1.474928855895996, 1.3655339479446411, 1.064562439918518, 0.9557417631149292, 0.6736513376235962, 0.5717527866363525, 0.30439242720603943, 0.21609574556350708, -0.03772907331585884, -0.09234926849603653, -0.347012996673584, -0.4040926992893219, -0.6188988089561462, -0.6564497947692871, -0.8505085110664368, -0.8257885575294495, -0.5629469156265259, -0.4657537639141083, -0.5713673233985901, -0.7634047269821167, -0.8211418986320496, -0.9748883247375488, -0.9958736896514893, -1.1210315227508545, -1.1175588369369507, -1.2167390584945679, -0.9921650290489197, -0.5775418281555176, -0.646877110004425, -0.7926626205444336, -0.8135305643081665, -0.9210538268089294, -0.9084076881408691, -0.990903377532959, -0.9597200751304626, -1.0217446088790894, -0.9822065234184265, -1.026733636856079, -0.9860568642616272, -1.0148009061813354, -1.00821852684021, -0.9424350261688232, -0.28922954201698303, -0.2854173183441162, -0.31977882981300354, -0.45432645082473755, -0.4545845687389374, -0.5512993335723877, -0.528704822063446, -0.6046308875083923, -0.5762043595314026, -0.6314932703971863, -0.5937226414680481, -0.6421454548835754, -0.6003438830375671, -0.6426804661750793, -0.5989356637001038, -0.6367473602294922, -0.5923942923545837, -0.6266355514526367, -0.3770221769809723, 0.006456540431827307, -0.003918654751032591, -0.15919482707977295, -0.1604377180337906, -0.2622874677181244, -0.2471921741962433, -0.32732927799224854, -0.3041563928127289, -0.3686433434486389, -0.3399360179901123, -0.3945977985858917, -0.3069179356098175, -0.25149720907211304, -0.1834326833486557, -0.14413288235664368, -0.08697759360074997, -0.060768261551856995, -0.011917108669877052, 0.006096016615629196, 0.01901242323219776, 0.06783095002174377, 0.061409998685121536, 0.10485567152500153, 0.108537457883358, 0.15318822860717773, 0.14987118542194366, 0.19495004415512085, 0.18715651333332062, 0.2327054738998413, 0.22177156805992126]}, {\"type\": \"scatter\", \"x\": [0.0, 0.05643301084637642, 0.10000000149011612, 0.11384978145360947, 0.20000000298023224, 0.26170095801353455, 0.30000001192092896, 0.3528444766998291, 0.4000000059604645, 0.43806883692741394, 0.5, 0.5365890860557556, 0.6000000238418579, 0.6408361196517944, 0.699999988079071, 0.7413209080696106, 0.800000011920929, 0.8404622673988342, 0.8999999761581421, 0.9383774995803833, 1.0, 1.0291374921798706, 1.100000023841858, 1.1348563432693481, 1.2000000476837158, 1.2315137386322021, 1.2999999523162842, 1.306909441947937, 1.3760043382644653, 1.399999976158142, 1.4476971626281738, 1.5, 1.5455141067504883, 1.600000023841858, 1.641553282737732, 1.7000000476837158, 1.7385181188583374, 1.7999999523162842, 1.8358114957809448, 1.899999976158142, 1.9502367973327637, 2.0, 2.0487234592437744, 2.0999999046325684, 2.1439428329467773, 2.200000047683716, 2.2387259006500244, 2.299999952316284, 2.3335351943969727, 2.4000000953674316, 2.4278712272644043, 2.5, 2.5008962154388428, 2.509857654571533, 2.599473476409912, 2.5999999046325684, 2.64418888092041, 2.700000047683716, 2.74505877494812, 2.799999952316284, 2.8372015953063965, 2.9000000953674316, 2.9261412620544434, 3.0, 3.034804105758667, 3.0999999046325684, 3.1369149684906006, 3.200000047683716, 3.237586736679077, 3.299999952316284, 3.3376541137695312, 3.4000000953674316, 3.43912410736084, 3.5, 3.52180814743042, 3.5999999046325684, 3.638047933578491, 3.700000047683716, 3.73164439201355, 3.799999952316284, 3.838141441345215, 3.9000000953674316, 3.9395415782928467, 4.0, 4.040926933288574, 4.099999904632568, 4.137816905975342, 4.199999809265137, 4.236352920532227, 4.300000190734863, 4.333909511566162, 4.400000095367432, 4.407843589782715, 4.486278533935547, 4.5, 4.534375190734863, 4.599999904632568, 4.637797832489014, 4.699999809265137, 4.7397074699401855, 4.800000190734863, 4.8409423828125, 4.900000095367432], \"y\": [1.0, 0.5265064239501953, 0.07697029411792755, -0.08243606239557266, -1.2588765621185303, -0.8491995930671692, -0.5307891964912415, -0.35208165645599365, -0.11230046302080154, -0.07170543074607849, 0.10390942543745041, 0.09624242782592773, 0.19939671456813812, 0.16595737636089325, 0.22844934463500977, 0.180159792304039, 0.2229280024766922, 0.1664833426475525, 0.19907043874263763, 0.1380130648612976, 0.16431383788585663, 0.10804370790719986, 0.12216546386480331, 0.05452846363186836, 0.07495865225791931, 0.00783490389585495, 0.025237666442990303, -0.026760822162032127, -0.5510299205780029, -0.7341032028198242, -0.6432003974914551, -0.44850221276283264, -0.4268663227558136, -0.2872326672077179, -0.3061707019805908, -0.20053401589393616, -0.23879653215408325, -0.1556747406721115, -0.4640241265296936, -0.9999436140060425, -0.8190414905548096, -0.5711780190467834, -0.4872807562351227, -0.315115749835968, -0.2932319939136505, -0.16523531079292297, -0.1754882037639618, -0.0788329616189003, -0.10325659811496735, -0.029737215489149094, -0.0579373836517334, -0.002308482537046075, -0.008477739989757538, -0.06981182098388672, -0.6531175971031189, -0.6564186215400696, -0.5144826769828796, -0.29430443048477173, -0.229682058095932, -0.09255792200565338, -0.08134282380342484, 0.01554372813552618, 0.004232943058013916, 0.06984587758779526, 0.047834981232881546, 0.09361229836940765, 0.06544499099254608, 0.10022182762622833, 0.06912247091531754, 0.09726502746343613, 0.06542480736970901, 0.0892418771982193, -0.08278698474168777, -0.3404441773891449, -0.2939835488796234, -0.09647036343812943, -0.06595470011234283, 0.028382545337080956, 0.02763093076646328, 0.08692410588264465, 0.07248447090387344, 0.1091621145606041, 0.08628081530332565, 0.11186875402927399, 0.07016397267580032, 0.061386771500110626, 0.03962457552552223, 0.048341743648052216, 0.03538985177874565, 0.05337448790669441, 0.044281113892793655, 0.06636922061443329, 0.06331441551446915, 0.07297078520059586, 0.08209586888551712, 0.07415074110031128, 0.0979919582605362, 0.08931092917919159, 0.11289927363395691, 0.10314617305994034, 0.1263887882232666, 0.11529166251420975, 0.138360857963562]}],\n",
       "                        {\"template\": {\"data\": {\"bar\": [{\"error_x\": {\"color\": \"#2a3f5f\"}, \"error_y\": {\"color\": \"#2a3f5f\"}, \"marker\": {\"line\": {\"color\": \"#E5ECF6\", \"width\": 0.5}}, \"type\": \"bar\"}], \"barpolar\": [{\"marker\": {\"line\": {\"color\": \"#E5ECF6\", \"width\": 0.5}}, \"type\": \"barpolar\"}], \"carpet\": [{\"aaxis\": {\"endlinecolor\": \"#2a3f5f\", \"gridcolor\": \"white\", \"linecolor\": \"white\", \"minorgridcolor\": \"white\", \"startlinecolor\": \"#2a3f5f\"}, \"baxis\": {\"endlinecolor\": \"#2a3f5f\", \"gridcolor\": \"white\", \"linecolor\": \"white\", \"minorgridcolor\": \"white\", \"startlinecolor\": \"#2a3f5f\"}, \"type\": \"carpet\"}], \"choropleth\": [{\"colorbar\": {\"outlinewidth\": 0, \"ticks\": \"\"}, \"type\": \"choropleth\"}], \"contour\": [{\"colorbar\": {\"outlinewidth\": 0, \"ticks\": \"\"}, \"colorscale\": [[0.0, \"#0d0887\"], [0.1111111111111111, \"#46039f\"], [0.2222222222222222, \"#7201a8\"], [0.3333333333333333, \"#9c179e\"], [0.4444444444444444, \"#bd3786\"], [0.5555555555555556, \"#d8576b\"], [0.6666666666666666, \"#ed7953\"], [0.7777777777777778, \"#fb9f3a\"], [0.8888888888888888, \"#fdca26\"], [1.0, \"#f0f921\"]], \"type\": \"contour\"}], \"contourcarpet\": [{\"colorbar\": {\"outlinewidth\": 0, \"ticks\": \"\"}, \"type\": \"contourcarpet\"}], \"heatmap\": [{\"colorbar\": {\"outlinewidth\": 0, \"ticks\": \"\"}, \"colorscale\": [[0.0, \"#0d0887\"], [0.1111111111111111, \"#46039f\"], [0.2222222222222222, \"#7201a8\"], [0.3333333333333333, \"#9c179e\"], [0.4444444444444444, \"#bd3786\"], [0.5555555555555556, \"#d8576b\"], [0.6666666666666666, \"#ed7953\"], [0.7777777777777778, \"#fb9f3a\"], [0.8888888888888888, \"#fdca26\"], [1.0, \"#f0f921\"]], \"type\": \"heatmap\"}], \"heatmapgl\": [{\"colorbar\": {\"outlinewidth\": 0, \"ticks\": \"\"}, \"colorscale\": [[0.0, \"#0d0887\"], [0.1111111111111111, \"#46039f\"], [0.2222222222222222, \"#7201a8\"], [0.3333333333333333, \"#9c179e\"], [0.4444444444444444, \"#bd3786\"], [0.5555555555555556, \"#d8576b\"], [0.6666666666666666, \"#ed7953\"], [0.7777777777777778, \"#fb9f3a\"], [0.8888888888888888, \"#fdca26\"], [1.0, \"#f0f921\"]], \"type\": \"heatmapgl\"}], \"histogram\": [{\"marker\": {\"colorbar\": {\"outlinewidth\": 0, \"ticks\": \"\"}}, \"type\": \"histogram\"}], \"histogram2d\": [{\"colorbar\": {\"outlinewidth\": 0, \"ticks\": \"\"}, \"colorscale\": [[0.0, \"#0d0887\"], [0.1111111111111111, \"#46039f\"], [0.2222222222222222, \"#7201a8\"], [0.3333333333333333, \"#9c179e\"], [0.4444444444444444, \"#bd3786\"], [0.5555555555555556, \"#d8576b\"], [0.6666666666666666, \"#ed7953\"], [0.7777777777777778, \"#fb9f3a\"], [0.8888888888888888, \"#fdca26\"], [1.0, \"#f0f921\"]], \"type\": \"histogram2d\"}], \"histogram2dcontour\": [{\"colorbar\": {\"outlinewidth\": 0, \"ticks\": \"\"}, \"colorscale\": [[0.0, \"#0d0887\"], [0.1111111111111111, \"#46039f\"], [0.2222222222222222, \"#7201a8\"], [0.3333333333333333, \"#9c179e\"], [0.4444444444444444, \"#bd3786\"], [0.5555555555555556, \"#d8576b\"], [0.6666666666666666, \"#ed7953\"], [0.7777777777777778, \"#fb9f3a\"], [0.8888888888888888, \"#fdca26\"], [1.0, \"#f0f921\"]], \"type\": \"histogram2dcontour\"}], \"mesh3d\": [{\"colorbar\": {\"outlinewidth\": 0, \"ticks\": \"\"}, \"type\": \"mesh3d\"}], \"parcoords\": [{\"line\": {\"colorbar\": {\"outlinewidth\": 0, \"ticks\": \"\"}}, \"type\": \"parcoords\"}], \"pie\": [{\"automargin\": true, \"type\": \"pie\"}], \"scatter\": [{\"marker\": {\"colorbar\": {\"outlinewidth\": 0, \"ticks\": \"\"}}, \"type\": \"scatter\"}], \"scatter3d\": [{\"line\": {\"colorbar\": {\"outlinewidth\": 0, \"ticks\": \"\"}}, \"marker\": {\"colorbar\": {\"outlinewidth\": 0, \"ticks\": \"\"}}, \"type\": \"scatter3d\"}], \"scattercarpet\": [{\"marker\": {\"colorbar\": {\"outlinewidth\": 0, \"ticks\": \"\"}}, \"type\": \"scattercarpet\"}], \"scattergeo\": [{\"marker\": {\"colorbar\": {\"outlinewidth\": 0, \"ticks\": \"\"}}, \"type\": \"scattergeo\"}], \"scattergl\": [{\"marker\": {\"colorbar\": {\"outlinewidth\": 0, \"ticks\": \"\"}}, \"type\": \"scattergl\"}], \"scattermapbox\": [{\"marker\": {\"colorbar\": {\"outlinewidth\": 0, \"ticks\": \"\"}}, \"type\": \"scattermapbox\"}], \"scatterpolar\": [{\"marker\": {\"colorbar\": {\"outlinewidth\": 0, \"ticks\": \"\"}}, \"type\": \"scatterpolar\"}], \"scatterpolargl\": [{\"marker\": {\"colorbar\": {\"outlinewidth\": 0, \"ticks\": \"\"}}, \"type\": \"scatterpolargl\"}], \"scatterternary\": [{\"marker\": {\"colorbar\": {\"outlinewidth\": 0, \"ticks\": \"\"}}, \"type\": \"scatterternary\"}], \"surface\": [{\"colorbar\": {\"outlinewidth\": 0, \"ticks\": \"\"}, \"colorscale\": [[0.0, \"#0d0887\"], [0.1111111111111111, \"#46039f\"], [0.2222222222222222, \"#7201a8\"], [0.3333333333333333, \"#9c179e\"], [0.4444444444444444, \"#bd3786\"], [0.5555555555555556, \"#d8576b\"], [0.6666666666666666, \"#ed7953\"], [0.7777777777777778, \"#fb9f3a\"], [0.8888888888888888, \"#fdca26\"], [1.0, \"#f0f921\"]], \"type\": \"surface\"}], \"table\": [{\"cells\": {\"fill\": {\"color\": \"#EBF0F8\"}, \"line\": {\"color\": \"white\"}}, \"header\": {\"fill\": {\"color\": \"#C8D4E3\"}, \"line\": {\"color\": \"white\"}}, \"type\": \"table\"}]}, \"layout\": {\"annotationdefaults\": {\"arrowcolor\": \"#2a3f5f\", \"arrowhead\": 0, \"arrowwidth\": 1}, \"coloraxis\": {\"colorbar\": {\"outlinewidth\": 0, \"ticks\": \"\"}}, \"colorscale\": {\"diverging\": [[0, \"#8e0152\"], [0.1, \"#c51b7d\"], [0.2, \"#de77ae\"], [0.3, \"#f1b6da\"], [0.4, \"#fde0ef\"], [0.5, \"#f7f7f7\"], [0.6, \"#e6f5d0\"], [0.7, \"#b8e186\"], [0.8, \"#7fbc41\"], [0.9, \"#4d9221\"], [1, \"#276419\"]], \"sequential\": [[0.0, \"#0d0887\"], [0.1111111111111111, \"#46039f\"], [0.2222222222222222, \"#7201a8\"], [0.3333333333333333, \"#9c179e\"], [0.4444444444444444, \"#bd3786\"], [0.5555555555555556, \"#d8576b\"], [0.6666666666666666, \"#ed7953\"], [0.7777777777777778, \"#fb9f3a\"], [0.8888888888888888, \"#fdca26\"], [1.0, \"#f0f921\"]], \"sequentialminus\": [[0.0, \"#0d0887\"], [0.1111111111111111, \"#46039f\"], [0.2222222222222222, \"#7201a8\"], [0.3333333333333333, \"#9c179e\"], [0.4444444444444444, \"#bd3786\"], [0.5555555555555556, \"#d8576b\"], [0.6666666666666666, \"#ed7953\"], [0.7777777777777778, \"#fb9f3a\"], [0.8888888888888888, \"#fdca26\"], [1.0, \"#f0f921\"]]}, \"colorway\": [\"#636efa\", \"#EF553B\", \"#00cc96\", \"#ab63fa\", \"#FFA15A\", \"#19d3f3\", \"#FF6692\", \"#B6E880\", \"#FF97FF\", \"#FECB52\"], \"font\": {\"color\": \"#2a3f5f\"}, \"geo\": {\"bgcolor\": \"white\", \"lakecolor\": \"white\", \"landcolor\": \"#E5ECF6\", \"showlakes\": true, \"showland\": true, \"subunitcolor\": \"white\"}, \"hoverlabel\": {\"align\": \"left\"}, \"hovermode\": \"closest\", \"mapbox\": {\"style\": \"light\"}, \"paper_bgcolor\": \"white\", \"plot_bgcolor\": \"#E5ECF6\", \"polar\": {\"angularaxis\": {\"gridcolor\": \"white\", \"linecolor\": \"white\", \"ticks\": \"\"}, \"bgcolor\": \"#E5ECF6\", \"radialaxis\": {\"gridcolor\": \"white\", \"linecolor\": \"white\", \"ticks\": \"\"}}, \"scene\": {\"xaxis\": {\"backgroundcolor\": \"#E5ECF6\", \"gridcolor\": \"white\", \"gridwidth\": 2, \"linecolor\": \"white\", \"showbackground\": true, \"ticks\": \"\", \"zerolinecolor\": \"white\"}, \"yaxis\": {\"backgroundcolor\": \"#E5ECF6\", \"gridcolor\": \"white\", \"gridwidth\": 2, \"linecolor\": \"white\", \"showbackground\": true, \"ticks\": \"\", \"zerolinecolor\": \"white\"}, \"zaxis\": {\"backgroundcolor\": \"#E5ECF6\", \"gridcolor\": \"white\", \"gridwidth\": 2, \"linecolor\": \"white\", \"showbackground\": true, \"ticks\": \"\", \"zerolinecolor\": \"white\"}}, \"shapedefaults\": {\"line\": {\"color\": \"#2a3f5f\"}}, \"ternary\": {\"aaxis\": {\"gridcolor\": \"white\", \"linecolor\": \"white\", \"ticks\": \"\"}, \"baxis\": {\"gridcolor\": \"white\", \"linecolor\": \"white\", \"ticks\": \"\"}, \"bgcolor\": \"#E5ECF6\", \"caxis\": {\"gridcolor\": \"white\", \"linecolor\": \"white\", \"ticks\": \"\"}}, \"title\": {\"x\": 0.05}, \"xaxis\": {\"automargin\": true, \"gridcolor\": \"white\", \"linecolor\": \"white\", \"ticks\": \"\", \"title\": {\"standoff\": 15}, \"zerolinecolor\": \"white\", \"zerolinewidth\": 2}, \"yaxis\": {\"automargin\": true, \"gridcolor\": \"white\", \"linecolor\": \"white\", \"ticks\": \"\", \"title\": {\"standoff\": 15}, \"zerolinecolor\": \"white\", \"zerolinewidth\": 2}}}, \"title\": {\"text\": \"Baseline\"}},\n",
       "                        {\"responsive\": true}\n",
       "                    ).then(function(){\n",
       "                            \n",
       "var gd = document.getElementById('7683c3d0-4441-4497-8694-6a076836b27c');\n",
       "var x = new MutationObserver(function (mutations, observer) {{\n",
       "        var display = window.getComputedStyle(gd).display;\n",
       "        if (!display || display === 'none') {{\n",
       "            console.log([gd, 'removed!']);\n",
       "            Plotly.purge(gd);\n",
       "            observer.disconnect();\n",
       "        }}\n",
       "}});\n",
       "\n",
       "// Listen for the removal of the full notebook cells\n",
       "var notebookContainer = gd.closest('#notebook-container');\n",
       "if (notebookContainer) {{\n",
       "    x.observe(notebookContainer, {childList: true});\n",
       "}}\n",
       "\n",
       "// Listen for the clearing of the current output cell\n",
       "var outputEl = gd.closest('.output');\n",
       "if (outputEl) {{\n",
       "    x.observe(outputEl, {childList: true});\n",
       "}}\n",
       "\n",
       "                        })\n",
       "                };\n",
       "                });\n",
       "            </script>\n",
       "        </div>"
      ]
     },
     "metadata": {},
     "output_type": "display_data"
    }
   ],
   "source": [
    "ctrl = controllers.get_limited_lookahead_controller(get_value_function(online_horizon)[0],\n",
    "                                                    vf_approx,\n",
    "                                                    dt_sim*N)\n",
    "x_traj_sim, t_traj_sim = controllers.sim_ctrl(x0, vf.u_dim[0], sys.dx,\n",
    "                                              ctrl, dt_sim, N, integration_mode=integration_mode)\n",
    "controllers.plot_sim(t_traj_sim, x_traj_sim, \"Baseline\").show()"
   ]
  },
  {
   "cell_type": "code",
   "execution_count": 279,
   "metadata": {},
   "outputs": [
    {
     "data": {
      "application/vnd.plotly.v1+json": {
       "config": {
        "plotlyServerURL": "https://plot.ly"
       },
       "data": [
        {
         "type": "scatter",
         "x": [
          0,
          0.05643301084637642,
          0.10000000149011612,
          0.11384978145360947,
          0.20000000298023224,
          0.25630348920822144,
          0.30000001192092896,
          0.361249715089798,
          0.4000000059604645,
          0.45441505312919617,
          0.5,
          0.5395644307136536,
          0.6000000238418579,
          0.6561577320098877,
          0.699999988079071,
          0.7612210512161255,
          0.800000011920929,
          0.8367688655853271,
          0.8999999761581421,
          0.9556293487548828,
          1,
          1.063059687614441,
          1.100000023841858,
          1.1500791311264038,
          1.2000000476837158,
          1.2411525249481201,
          1.2999999523162842,
          1.3439552783966064,
          1.399999976158142,
          1.447731852531433,
          1.5,
          1.5458933115005493,
          1.600000023841858,
          1.6432753801345825,
          1.7000000476837158,
          1.7399346828460693,
          1.7999999523162842,
          1.8325221538543701,
          1.899999976158142,
          1.9376039505004883,
          2,
          2.0490834712982178,
          2.0999999046325684,
          2.155750036239624,
          2.200000047683716,
          2.2606258392333984,
          2.299999952316284,
          2.362070083618164,
          2.4000000953674316,
          2.44897198677063,
          2.5,
          2.561185598373413,
          2.5999999046325684,
          2.6778695583343506,
          2.700000047683716,
          2.781614065170288,
          2.799999952316284,
          2.877478837966919,
          2.9000000953674316,
          2.977003335952759,
          3,
          3.068958282470703,
          3.0999999046325684,
          3.141059637069702,
          3.200000047683716,
          3.274425745010376,
          3.299999952316284,
          3.382533311843872,
          3.4000000953674316,
          3.487409830093384,
          3.5,
          3.5616872310638428,
          3.5999999046325684,
          3.660290479660034,
          3.700000047683716,
          3.750109910964966,
          3.799999952316284,
          3.8447811603546143,
          3.9000000953674316,
          3.9564192295074463,
          4,
          4.062951564788818,
          4.099999904632568,
          4.1614837646484375,
          4.199999809265137,
          4.259995937347412,
          4.300000190734863,
          4.358584880828857,
          4.400000095367432,
          4.457282543182373,
          4.5,
          4.556084156036377,
          4.599999904632568,
          4.654976844787598,
          4.699999809265137,
          4.753945350646973,
          4.800000190734863,
          4.852973937988281,
          4.900000095367432
         ],
         "y": [
          4.141592502593994,
          4.26756477355957,
          4.383580207824707,
          4.424038410186768,
          4.715856552124023,
          4.94447135925293,
          5.142179489135742,
          5.447281837463379,
          5.655220031738281,
          5.961850643157959,
          6.225787162780762,
          6.454586029052734,
          6.793764114379883,
          7.089066505432129,
          7.302141189575195,
          7.569887638092041,
          7.719968795776367,
          7.847630023956299,
          8.033354759216309,
          8.161935806274414,
          8.242179870605469,
          8.324528694152832,
          8.356795310974121,
          8.384786605834961,
          8.39917278289795,
          8.40198802947998,
          8.393010139465332,
          8.376829147338867,
          8.34475326538086,
          8.307578086853027,
          8.256614685058594,
          8.203200340270996,
          8.129756927490234,
          8.0631742477417,
          7.965029716491699,
          7.889016151428223,
          7.763418674468994,
          7.690340518951416,
          7.526609420776367,
          7.429136276245117,
          7.257493019104004,
          7.1148786544799805,
          6.960320472717285,
          6.7841010093688965,
          6.639538764953613,
          6.438056945800781,
          6.306943416595459,
          6.103011131286621,
          5.981533527374268,
          5.829756259918213,
          5.679102420806885,
          5.510367393493652,
          5.410846710205078,
          5.230564594268799,
          5.184335708618164,
          5.034266471862793,
          5.005053520202637,
          4.901340007781982,
          4.877215385437012,
          4.8158183097839355,
          4.803906440734863,
          4.786168575286865,
          4.787048816680908,
          4.796716213226318,
          4.827589511871338,
          4.89539909362793,
          4.926205158233643,
          5.052341938018799,
          5.0843586921691895,
          5.273085594177246,
          5.304182529449463,
          5.437127113342285,
          5.496120929718018,
          5.559308052062988,
          5.583414077758789,
          5.5973029136657715,
          5.5954179763793945,
          5.5821051597595215,
          5.553359508514404,
          5.511982440948486,
          5.473040580749512,
          5.412074565887451,
          5.375729560852051,
          5.315955638885498,
          5.278736591339111,
          5.222097873687744,
          5.185033798217773,
          5.132510185241699,
          5.096386432647705,
          5.048350811004639,
          5.013711929321289,
          4.970179557800293,
          4.937360763549805,
          4.898146629333496,
          4.867326259613037,
          4.832146167755127,
          4.8033928871154785,
          4.77192497253418,
          4.745237350463867
         ]
        },
        {
         "type": "scatter",
         "x": [
          0,
          0.05643301084637642,
          0.10000000149011612,
          0.11384978145360947,
          0.20000000298023224,
          0.25630348920822144,
          0.30000001192092896,
          0.361249715089798,
          0.4000000059604645,
          0.45441505312919617,
          0.5,
          0.5395644307136536,
          0.6000000238418579,
          0.6561577320098877,
          0.699999988079071,
          0.7612210512161255,
          0.800000011920929,
          0.8367688655853271,
          0.8999999761581421,
          0.9556293487548828,
          1,
          1.063059687614441,
          1.100000023841858,
          1.1500791311264038,
          1.2000000476837158,
          1.2411525249481201,
          1.2999999523162842,
          1.3439552783966064,
          1.399999976158142,
          1.447731852531433,
          1.5,
          1.5458933115005493,
          1.600000023841858,
          1.6432753801345825,
          1.7000000476837158,
          1.7399346828460693,
          1.7999999523162842,
          1.8325221538543701,
          1.899999976158142,
          1.9376039505004883,
          2,
          2.0490834712982178,
          2.0999999046325684,
          2.155750036239624,
          2.200000047683716,
          2.2606258392333984,
          2.299999952316284,
          2.362070083618164,
          2.4000000953674316,
          2.44897198677063,
          2.5,
          2.561185598373413,
          2.5999999046325684,
          2.6778695583343506,
          2.700000047683716,
          2.781614065170288,
          2.799999952316284,
          2.877478837966919,
          2.9000000953674316,
          2.977003335952759,
          3,
          3.068958282470703,
          3.0999999046325684,
          3.141059637069702,
          3.200000047683716,
          3.274425745010376,
          3.299999952316284,
          3.382533311843872,
          3.4000000953674316,
          3.487409830093384,
          3.5,
          3.5616872310638428,
          3.5999999046325684,
          3.660290479660034,
          3.700000047683716,
          3.750109910964966,
          3.799999952316284,
          3.8447811603546143,
          3.9000000953674316,
          3.9564192295074463,
          4,
          4.062951564788818,
          4.099999904632568,
          4.1614837646484375,
          4.199999809265137,
          4.259995937347412,
          4.300000190734863,
          4.358584880828857,
          4.400000095367432,
          4.457282543182373,
          4.5,
          4.556084156036377,
          4.599999904632568,
          4.654976844787598,
          4.699999809265137,
          4.753945350646973,
          4.800000190734863,
          4.852973937988281,
          4.900000095367432
         ],
         "y": [
          1,
          1.0436174869537354,
          1.0570440292358398,
          1.0570156574249268,
          1.0015183687210083,
          0.9049957394599915,
          0.792438268661499,
          0.5767626166343689,
          0.4073951542377472,
          0.13685594499111176,
          -0.10359475016593933,
          -0.3078565299510956,
          -0.5865158438682556,
          -0.7899012565612793,
          -0.9054572582244873,
          -1.0029720067977905,
          -1.0283981561660767,
          -1.0287318229675293,
          -0.9812887907028198,
          -0.8966032862663269,
          -0.8050323724746704,
          -0.6445020437240601,
          -0.5363916754722595,
          -0.39074257016181946,
          -0.2669585049152374,
          -0.17996717989444733,
          -0.0749962255358696,
          -0.01038848701864481,
          0.05880197137594223,
          0.10715560615062714,
          0.151338592171669,
          0.1830959916114807,
          0.21399900317192078,
          0.2333751767873764,
          0.25346025824546814,
          0.2632529139518738,
          0.2731742858886719,
          0.2752557098865509,
          0.2746700644493103,
          0.2704334855079651,
          0.2586703598499298,
          0.2445952445268631,
          0.22618408501148224,
          0.2020999938249588,
          0.18056626617908478,
          0.14547160267829895,
          0.11835048347711563,
          0.06785377860069275,
          0.032290637493133545,
          -0.018582932651042938,
          -0.07688417285680771,
          -0.15274687111377716,
          -0.20370207726955414,
          -0.3117573857307434,
          -0.3438858091831207,
          -0.46865779161453247,
          -0.4983587861061096,
          -0.631722629070282,
          -0.6733916997909546,
          -0.8279451727867126,
          -0.8781682252883911,
          -1.0414692163467407,
          -1.1216211318969727,
          -1.2343168258666992,
          -1.4097199440002441,
          -1.6542227268218994,
          -1.7440403699874878,
          -2.053075075149536,
          -2.122049331665039,
          -2.484565019607544,
          -2.539072036743164,
          -2.760439395904541,
          -2.8543522357940674,
          -2.9515748023986816,
          -2.9882192611694336,
          -3.010258197784424,
          -3.0108273029327393,
          -2.996765613555908,
          -2.965027332305908,
          -2.919813632965088,
          -2.8781890869140625,
          -2.8119657039642334,
          -2.7707369327545166,
          -2.7002716064453125,
          -2.6550533771514893,
          -2.5840721130371094,
          -2.53643536567688,
          -2.4669930934906006,
          -2.4180922508239746,
          -2.3512511253356934,
          -2.3019092082977295,
          -2.2381625175476074,
          -2.1889419555664062,
          -2.1284570693969727,
          -2.0797300338745117,
          -2.0224928855895996,
          -1.974494457244873,
          -1.9203954935073853,
          -1.8732635974884033
         ]
        },
        {
         "type": "scatter",
         "x": [
          0,
          0.05643301084637642,
          0.10000000149011612,
          0.11384978145360947,
          0.20000000298023224,
          0.25630348920822144,
          0.30000001192092896,
          0.361249715089798,
          0.4000000059604645,
          0.45441505312919617,
          0.5,
          0.5395644307136536,
          0.6000000238418579,
          0.6561577320098877,
          0.699999988079071,
          0.7612210512161255,
          0.800000011920929,
          0.8367688655853271,
          0.8999999761581421,
          0.9556293487548828,
          1,
          1.063059687614441,
          1.100000023841858,
          1.1500791311264038,
          1.2000000476837158,
          1.2411525249481201,
          1.2999999523162842,
          1.3439552783966064,
          1.399999976158142,
          1.447731852531433,
          1.5,
          1.5458933115005493,
          1.600000023841858,
          1.6432753801345825,
          1.7000000476837158,
          1.7399346828460693,
          1.7999999523162842,
          1.8325221538543701,
          1.899999976158142,
          1.9376039505004883,
          2,
          2.0490834712982178,
          2.0999999046325684,
          2.155750036239624,
          2.200000047683716,
          2.2606258392333984,
          2.299999952316284,
          2.362070083618164,
          2.4000000953674316,
          2.44897198677063,
          2.5,
          2.561185598373413,
          2.5999999046325684,
          2.6778695583343506,
          2.700000047683716,
          2.781614065170288,
          2.799999952316284,
          2.877478837966919,
          2.9000000953674316,
          2.977003335952759,
          3,
          3.068958282470703,
          3.0999999046325684,
          3.141059637069702,
          3.200000047683716,
          3.274425745010376,
          3.299999952316284,
          3.382533311843872,
          3.4000000953674316,
          3.487409830093384,
          3.5,
          3.5616872310638428,
          3.5999999046325684,
          3.660290479660034,
          3.700000047683716,
          3.750109910964966,
          3.799999952316284,
          3.8447811603546143,
          3.9000000953674316,
          3.9564192295074463,
          4,
          4.062951564788818,
          4.099999904632568,
          4.1614837646484375,
          4.199999809265137,
          4.259995937347412,
          4.300000190734863,
          4.358584880828857,
          4.400000095367432,
          4.457282543182373,
          4.5,
          4.556084156036377,
          4.599999904632568,
          4.654976844787598,
          4.699999809265137,
          4.753945350646973,
          4.800000190734863,
          4.852973937988281,
          4.900000095367432
         ],
         "y": [
          2,
          2.470825433731079,
          2.8580410480499268,
          2.984642505645752,
          3.794327735900879,
          4.324516296386719,
          4.7213873863220215,
          5.2281951904296875,
          5.494659900665283,
          5.746908187866211,
          5.8079752922058105,
          5.739858150482178,
          5.452752113342285,
          5.046376705169678,
          4.666012287139893,
          4.070520401000977,
          3.6674153804779053,
          3.275618076324463,
          2.600649118423462,
          2.0269503593444824,
          1.594297170639038,
          1.027347445487976,
          0.7230506539344788,
          0.410005658864975,
          0.1777930110692978,
          -0.03306965157389641,
          -0.2580533027648926,
          -0.4691278338432312,
          -0.6615092158317566,
          -0.8848187923431396,
          -1.0517323017120361,
          -1.2653592824935913,
          -1.4343103170394897,
          -1.6336857080459595,
          -1.8103811740875244,
          -1.9894121885299683,
          -2.1754040718078613,
          -2.3144636154174805,
          -2.518673896789551,
          -2.660564661026001,
          -2.8258631229400635,
          -2.9776549339294434,
          -3.084368944168091,
          -3.2278757095336914,
          -3.2996058464050293,
          -3.3350441455841064,
          -3.31996750831604,
          -3.24025297164917,
          -3.1616756916046143,
          -3.031942367553711,
          -2.868504524230957,
          -2.6420671939849854,
          -2.4842803478240967,
          -2.1404759883880615,
          -2.0369272232055664,
          -1.6358273029327393,
          -1.5417027473449707,
          -1.1322805881500244,
          -1.0099079608917236,
          -0.5827345848083496,
          -0.45308947563171387,
          -0.06057204306125641,
          0.11740128695964813,
          0.3536337912082672,
          0.6943322420120239,
          1.129015564918518,
          1.2803480625152588,
          1.779168725013733,
          1.8869528770446777,
          2.4311983585357666,
          2.508575439453125,
          1.7862612009048462,
          1.2864643335342407,
          0.7928305864334106,
          0.41462424397468567,
          0.1292933225631714,
          -0.2143002301454544,
          -0.388022243976593,
          -0.664116382598877,
          -0.8146848082542419,
          -0.9792343974113464,
          -0.9694445133209229,
          -0.9966608285903931,
          -0.9605387449264526,
          -0.9771397113800049,
          -0.9244920611381531,
          -0.934548020362854,
          -0.8724689483642578,
          -0.878931999206543,
          -0.8122673630714417,
          -0.8172351121902466,
          -0.7491196393966675,
          -0.7539646029472351,
          -0.6863167881965637,
          -0.6918700337409973,
          -0.6257871389389038,
          -0.6324970126152039,
          -0.5685300827026367,
          -0.5765802264213562
         ]
        },
        {
         "type": "scatter",
         "x": [
          0,
          0.05643301084637642,
          0.10000000149011612,
          0.11384978145360947,
          0.20000000298023224,
          0.25630348920822144,
          0.30000001192092896,
          0.361249715089798,
          0.4000000059604645,
          0.45441505312919617,
          0.5,
          0.5395644307136536,
          0.6000000238418579,
          0.6561577320098877,
          0.699999988079071,
          0.7612210512161255,
          0.800000011920929,
          0.8367688655853271,
          0.8999999761581421,
          0.9556293487548828,
          1,
          1.063059687614441,
          1.100000023841858,
          1.1500791311264038,
          1.2000000476837158,
          1.2411525249481201,
          1.2999999523162842,
          1.3439552783966064,
          1.399999976158142,
          1.447731852531433,
          1.5,
          1.5458933115005493,
          1.600000023841858,
          1.6432753801345825,
          1.7000000476837158,
          1.7399346828460693,
          1.7999999523162842,
          1.8325221538543701,
          1.899999976158142,
          1.9376039505004883,
          2,
          2.0490834712982178,
          2.0999999046325684,
          2.155750036239624,
          2.200000047683716,
          2.2606258392333984,
          2.299999952316284,
          2.362070083618164,
          2.4000000953674316,
          2.44897198677063,
          2.5,
          2.561185598373413,
          2.5999999046325684,
          2.6778695583343506,
          2.700000047683716,
          2.781614065170288,
          2.799999952316284,
          2.877478837966919,
          2.9000000953674316,
          2.977003335952759,
          3,
          3.068958282470703,
          3.0999999046325684,
          3.141059637069702,
          3.200000047683716,
          3.274425745010376,
          3.299999952316284,
          3.382533311843872,
          3.4000000953674316,
          3.487409830093384,
          3.5,
          3.5616872310638428,
          3.5999999046325684,
          3.660290479660034,
          3.700000047683716,
          3.750109910964966,
          3.799999952316284,
          3.8447811603546143,
          3.9000000953674316,
          3.9564192295074463,
          4,
          4.062951564788818,
          4.099999904632568,
          4.1614837646484375,
          4.199999809265137,
          4.259995937347412,
          4.300000190734863,
          4.358584880828857,
          4.400000095367432,
          4.457282543182373,
          4.5,
          4.556084156036377,
          4.599999904632568,
          4.654976844787598,
          4.699999809265137,
          4.753945350646973,
          4.800000190734863,
          4.852973937988281,
          4.900000095367432
         ],
         "y": [
          1,
          0.5265064239501953,
          0.07697029411792755,
          -0.08243606239557266,
          -1.2588765621185303,
          -2.1881699562072754,
          -2.9691381454467773,
          -4.060522079467773,
          -4.660910606384277,
          -5.20957088470459,
          -5.272773742675781,
          -5.005422592163086,
          -4.143433570861816,
          -3.076502561569214,
          -2.194573163986206,
          -1.0064488649368286,
          -0.3142702877521515,
          0.28670534491539,
          1.185386300086975,
          1.8388298749923706,
          2.2773923873901367,
          2.7954964637756348,
          3.052851915359497,
          2.7273454666137695,
          2.20107364654541,
          2.0062506198883057,
          1.5222296714782715,
          1.3949520587921143,
          1.0378999710083008,
          0.9618649482727051,
          0.6969185471534729,
          0.6639705300331116,
          0.44563978910446167,
          0.43153053522109985,
          0.24432189762592316,
          0.2331332564353943,
          0.06683921813964844,
          0.054493386298418045,
          -0.10161969065666199,
          -0.1302276998758316,
          -0.26504477858543396,
          -0.3159181773662567,
          -0.4148286283016205,
          -0.4567820131778717,
          -0.5206270217895508,
          -0.6427105069160461,
          -0.7361574769020081,
          -0.8911778926849365,
          -0.9832131862640381,
          -1.0922095775604248,
          -1.1900359392166138,
          -1.2862749099731445,
          -1.3384801149368286,
          -1.4370570182800293,
          -1.4667543172836304,
          -1.5976730585098267,
          -1.6336101293563843,
          -1.8183602094650269,
          -1.8829058408737183,
          -2.1406209468841553,
          -2.227984666824341,
          -2.5136046409606934,
          -2.651273488998413,
          -2.8389337062835693,
          -3.1132748126983643,
          -3.4550158977508545,
          -3.5685951709747314,
          -3.914433002471924,
          -3.9831249713897705,
          -4.306843280792236,
          -4.351836204528809,
          -2.8658108711242676,
          -2.047844886779785,
          -1.189326286315918,
          -0.6609351634979248,
          -0.22191038727760315,
          0.19582030177116394,
          0.4315776228904724,
          0.7169507741928101,
          0.8870856761932373,
          1.0239932537078857,
          1.0863604545593262,
          1.1417138576507568,
          1.1581958532333374,
          1.1931034326553345,
          1.1817166805267334,
          1.2040557861328125,
          1.175826072692871,
          1.1907018423080444,
          1.1526191234588623,
          1.1633801460266113,
          1.1196892261505127,
          1.12848699092865,
          1.0818170309066772,
          1.0899932384490967,
          1.0419892072677612,
          1.0503413677215576,
          1.0020132064819336,
          1.0109615325927734
         ]
        }
       ],
       "layout": {
        "template": {
         "data": {
          "bar": [
           {
            "error_x": {
             "color": "#2a3f5f"
            },
            "error_y": {
             "color": "#2a3f5f"
            },
            "marker": {
             "line": {
              "color": "#E5ECF6",
              "width": 0.5
             }
            },
            "type": "bar"
           }
          ],
          "barpolar": [
           {
            "marker": {
             "line": {
              "color": "#E5ECF6",
              "width": 0.5
             }
            },
            "type": "barpolar"
           }
          ],
          "carpet": [
           {
            "aaxis": {
             "endlinecolor": "#2a3f5f",
             "gridcolor": "white",
             "linecolor": "white",
             "minorgridcolor": "white",
             "startlinecolor": "#2a3f5f"
            },
            "baxis": {
             "endlinecolor": "#2a3f5f",
             "gridcolor": "white",
             "linecolor": "white",
             "minorgridcolor": "white",
             "startlinecolor": "#2a3f5f"
            },
            "type": "carpet"
           }
          ],
          "choropleth": [
           {
            "colorbar": {
             "outlinewidth": 0,
             "ticks": ""
            },
            "type": "choropleth"
           }
          ],
          "contour": [
           {
            "colorbar": {
             "outlinewidth": 0,
             "ticks": ""
            },
            "colorscale": [
             [
              0,
              "#0d0887"
             ],
             [
              0.1111111111111111,
              "#46039f"
             ],
             [
              0.2222222222222222,
              "#7201a8"
             ],
             [
              0.3333333333333333,
              "#9c179e"
             ],
             [
              0.4444444444444444,
              "#bd3786"
             ],
             [
              0.5555555555555556,
              "#d8576b"
             ],
             [
              0.6666666666666666,
              "#ed7953"
             ],
             [
              0.7777777777777778,
              "#fb9f3a"
             ],
             [
              0.8888888888888888,
              "#fdca26"
             ],
             [
              1,
              "#f0f921"
             ]
            ],
            "type": "contour"
           }
          ],
          "contourcarpet": [
           {
            "colorbar": {
             "outlinewidth": 0,
             "ticks": ""
            },
            "type": "contourcarpet"
           }
          ],
          "heatmap": [
           {
            "colorbar": {
             "outlinewidth": 0,
             "ticks": ""
            },
            "colorscale": [
             [
              0,
              "#0d0887"
             ],
             [
              0.1111111111111111,
              "#46039f"
             ],
             [
              0.2222222222222222,
              "#7201a8"
             ],
             [
              0.3333333333333333,
              "#9c179e"
             ],
             [
              0.4444444444444444,
              "#bd3786"
             ],
             [
              0.5555555555555556,
              "#d8576b"
             ],
             [
              0.6666666666666666,
              "#ed7953"
             ],
             [
              0.7777777777777778,
              "#fb9f3a"
             ],
             [
              0.8888888888888888,
              "#fdca26"
             ],
             [
              1,
              "#f0f921"
             ]
            ],
            "type": "heatmap"
           }
          ],
          "heatmapgl": [
           {
            "colorbar": {
             "outlinewidth": 0,
             "ticks": ""
            },
            "colorscale": [
             [
              0,
              "#0d0887"
             ],
             [
              0.1111111111111111,
              "#46039f"
             ],
             [
              0.2222222222222222,
              "#7201a8"
             ],
             [
              0.3333333333333333,
              "#9c179e"
             ],
             [
              0.4444444444444444,
              "#bd3786"
             ],
             [
              0.5555555555555556,
              "#d8576b"
             ],
             [
              0.6666666666666666,
              "#ed7953"
             ],
             [
              0.7777777777777778,
              "#fb9f3a"
             ],
             [
              0.8888888888888888,
              "#fdca26"
             ],
             [
              1,
              "#f0f921"
             ]
            ],
            "type": "heatmapgl"
           }
          ],
          "histogram": [
           {
            "marker": {
             "colorbar": {
              "outlinewidth": 0,
              "ticks": ""
             }
            },
            "type": "histogram"
           }
          ],
          "histogram2d": [
           {
            "colorbar": {
             "outlinewidth": 0,
             "ticks": ""
            },
            "colorscale": [
             [
              0,
              "#0d0887"
             ],
             [
              0.1111111111111111,
              "#46039f"
             ],
             [
              0.2222222222222222,
              "#7201a8"
             ],
             [
              0.3333333333333333,
              "#9c179e"
             ],
             [
              0.4444444444444444,
              "#bd3786"
             ],
             [
              0.5555555555555556,
              "#d8576b"
             ],
             [
              0.6666666666666666,
              "#ed7953"
             ],
             [
              0.7777777777777778,
              "#fb9f3a"
             ],
             [
              0.8888888888888888,
              "#fdca26"
             ],
             [
              1,
              "#f0f921"
             ]
            ],
            "type": "histogram2d"
           }
          ],
          "histogram2dcontour": [
           {
            "colorbar": {
             "outlinewidth": 0,
             "ticks": ""
            },
            "colorscale": [
             [
              0,
              "#0d0887"
             ],
             [
              0.1111111111111111,
              "#46039f"
             ],
             [
              0.2222222222222222,
              "#7201a8"
             ],
             [
              0.3333333333333333,
              "#9c179e"
             ],
             [
              0.4444444444444444,
              "#bd3786"
             ],
             [
              0.5555555555555556,
              "#d8576b"
             ],
             [
              0.6666666666666666,
              "#ed7953"
             ],
             [
              0.7777777777777778,
              "#fb9f3a"
             ],
             [
              0.8888888888888888,
              "#fdca26"
             ],
             [
              1,
              "#f0f921"
             ]
            ],
            "type": "histogram2dcontour"
           }
          ],
          "mesh3d": [
           {
            "colorbar": {
             "outlinewidth": 0,
             "ticks": ""
            },
            "type": "mesh3d"
           }
          ],
          "parcoords": [
           {
            "line": {
             "colorbar": {
              "outlinewidth": 0,
              "ticks": ""
             }
            },
            "type": "parcoords"
           }
          ],
          "pie": [
           {
            "automargin": true,
            "type": "pie"
           }
          ],
          "scatter": [
           {
            "marker": {
             "colorbar": {
              "outlinewidth": 0,
              "ticks": ""
             }
            },
            "type": "scatter"
           }
          ],
          "scatter3d": [
           {
            "line": {
             "colorbar": {
              "outlinewidth": 0,
              "ticks": ""
             }
            },
            "marker": {
             "colorbar": {
              "outlinewidth": 0,
              "ticks": ""
             }
            },
            "type": "scatter3d"
           }
          ],
          "scattercarpet": [
           {
            "marker": {
             "colorbar": {
              "outlinewidth": 0,
              "ticks": ""
             }
            },
            "type": "scattercarpet"
           }
          ],
          "scattergeo": [
           {
            "marker": {
             "colorbar": {
              "outlinewidth": 0,
              "ticks": ""
             }
            },
            "type": "scattergeo"
           }
          ],
          "scattergl": [
           {
            "marker": {
             "colorbar": {
              "outlinewidth": 0,
              "ticks": ""
             }
            },
            "type": "scattergl"
           }
          ],
          "scattermapbox": [
           {
            "marker": {
             "colorbar": {
              "outlinewidth": 0,
              "ticks": ""
             }
            },
            "type": "scattermapbox"
           }
          ],
          "scatterpolar": [
           {
            "marker": {
             "colorbar": {
              "outlinewidth": 0,
              "ticks": ""
             }
            },
            "type": "scatterpolar"
           }
          ],
          "scatterpolargl": [
           {
            "marker": {
             "colorbar": {
              "outlinewidth": 0,
              "ticks": ""
             }
            },
            "type": "scatterpolargl"
           }
          ],
          "scatterternary": [
           {
            "marker": {
             "colorbar": {
              "outlinewidth": 0,
              "ticks": ""
             }
            },
            "type": "scatterternary"
           }
          ],
          "surface": [
           {
            "colorbar": {
             "outlinewidth": 0,
             "ticks": ""
            },
            "colorscale": [
             [
              0,
              "#0d0887"
             ],
             [
              0.1111111111111111,
              "#46039f"
             ],
             [
              0.2222222222222222,
              "#7201a8"
             ],
             [
              0.3333333333333333,
              "#9c179e"
             ],
             [
              0.4444444444444444,
              "#bd3786"
             ],
             [
              0.5555555555555556,
              "#d8576b"
             ],
             [
              0.6666666666666666,
              "#ed7953"
             ],
             [
              0.7777777777777778,
              "#fb9f3a"
             ],
             [
              0.8888888888888888,
              "#fdca26"
             ],
             [
              1,
              "#f0f921"
             ]
            ],
            "type": "surface"
           }
          ],
          "table": [
           {
            "cells": {
             "fill": {
              "color": "#EBF0F8"
             },
             "line": {
              "color": "white"
             }
            },
            "header": {
             "fill": {
              "color": "#C8D4E3"
             },
             "line": {
              "color": "white"
             }
            },
            "type": "table"
           }
          ]
         },
         "layout": {
          "annotationdefaults": {
           "arrowcolor": "#2a3f5f",
           "arrowhead": 0,
           "arrowwidth": 1
          },
          "coloraxis": {
           "colorbar": {
            "outlinewidth": 0,
            "ticks": ""
           }
          },
          "colorscale": {
           "diverging": [
            [
             0,
             "#8e0152"
            ],
            [
             0.1,
             "#c51b7d"
            ],
            [
             0.2,
             "#de77ae"
            ],
            [
             0.3,
             "#f1b6da"
            ],
            [
             0.4,
             "#fde0ef"
            ],
            [
             0.5,
             "#f7f7f7"
            ],
            [
             0.6,
             "#e6f5d0"
            ],
            [
             0.7,
             "#b8e186"
            ],
            [
             0.8,
             "#7fbc41"
            ],
            [
             0.9,
             "#4d9221"
            ],
            [
             1,
             "#276419"
            ]
           ],
           "sequential": [
            [
             0,
             "#0d0887"
            ],
            [
             0.1111111111111111,
             "#46039f"
            ],
            [
             0.2222222222222222,
             "#7201a8"
            ],
            [
             0.3333333333333333,
             "#9c179e"
            ],
            [
             0.4444444444444444,
             "#bd3786"
            ],
            [
             0.5555555555555556,
             "#d8576b"
            ],
            [
             0.6666666666666666,
             "#ed7953"
            ],
            [
             0.7777777777777778,
             "#fb9f3a"
            ],
            [
             0.8888888888888888,
             "#fdca26"
            ],
            [
             1,
             "#f0f921"
            ]
           ],
           "sequentialminus": [
            [
             0,
             "#0d0887"
            ],
            [
             0.1111111111111111,
             "#46039f"
            ],
            [
             0.2222222222222222,
             "#7201a8"
            ],
            [
             0.3333333333333333,
             "#9c179e"
            ],
            [
             0.4444444444444444,
             "#bd3786"
            ],
            [
             0.5555555555555556,
             "#d8576b"
            ],
            [
             0.6666666666666666,
             "#ed7953"
            ],
            [
             0.7777777777777778,
             "#fb9f3a"
            ],
            [
             0.8888888888888888,
             "#fdca26"
            ],
            [
             1,
             "#f0f921"
            ]
           ]
          },
          "colorway": [
           "#636efa",
           "#EF553B",
           "#00cc96",
           "#ab63fa",
           "#FFA15A",
           "#19d3f3",
           "#FF6692",
           "#B6E880",
           "#FF97FF",
           "#FECB52"
          ],
          "font": {
           "color": "#2a3f5f"
          },
          "geo": {
           "bgcolor": "white",
           "lakecolor": "white",
           "landcolor": "#E5ECF6",
           "showlakes": true,
           "showland": true,
           "subunitcolor": "white"
          },
          "hoverlabel": {
           "align": "left"
          },
          "hovermode": "closest",
          "mapbox": {
           "style": "light"
          },
          "paper_bgcolor": "white",
          "plot_bgcolor": "#E5ECF6",
          "polar": {
           "angularaxis": {
            "gridcolor": "white",
            "linecolor": "white",
            "ticks": ""
           },
           "bgcolor": "#E5ECF6",
           "radialaxis": {
            "gridcolor": "white",
            "linecolor": "white",
            "ticks": ""
           }
          },
          "scene": {
           "xaxis": {
            "backgroundcolor": "#E5ECF6",
            "gridcolor": "white",
            "gridwidth": 2,
            "linecolor": "white",
            "showbackground": true,
            "ticks": "",
            "zerolinecolor": "white"
           },
           "yaxis": {
            "backgroundcolor": "#E5ECF6",
            "gridcolor": "white",
            "gridwidth": 2,
            "linecolor": "white",
            "showbackground": true,
            "ticks": "",
            "zerolinecolor": "white"
           },
           "zaxis": {
            "backgroundcolor": "#E5ECF6",
            "gridcolor": "white",
            "gridwidth": 2,
            "linecolor": "white",
            "showbackground": true,
            "ticks": "",
            "zerolinecolor": "white"
           }
          },
          "shapedefaults": {
           "line": {
            "color": "#2a3f5f"
           }
          },
          "ternary": {
           "aaxis": {
            "gridcolor": "white",
            "linecolor": "white",
            "ticks": ""
           },
           "baxis": {
            "gridcolor": "white",
            "linecolor": "white",
            "ticks": ""
           },
           "bgcolor": "#E5ECF6",
           "caxis": {
            "gridcolor": "white",
            "linecolor": "white",
            "ticks": ""
           }
          },
          "title": {
           "x": 0.05
          },
          "xaxis": {
           "automargin": true,
           "gridcolor": "white",
           "linecolor": "white",
           "ticks": "",
           "title": {
            "standoff": 15
           },
           "zerolinecolor": "white",
           "zerolinewidth": 2
          },
          "yaxis": {
           "automargin": true,
           "gridcolor": "white",
           "linecolor": "white",
           "ticks": "",
           "title": {
            "standoff": 15
           },
           "zerolinecolor": "white",
           "zerolinewidth": 2
          }
         }
        },
        "title": {
         "text": "Adversarial"
        }
       }
      },
      "text/html": [
       "<div>\n",
       "        \n",
       "        \n",
       "            <div id=\"8116bbe7-6eff-4cb8-82ba-034b257e83b7\" class=\"plotly-graph-div\" style=\"height:525px; width:100%;\"></div>\n",
       "            <script type=\"text/javascript\">\n",
       "                require([\"plotly\"], function(Plotly) {\n",
       "                    window.PLOTLYENV=window.PLOTLYENV || {};\n",
       "                    \n",
       "                if (document.getElementById(\"8116bbe7-6eff-4cb8-82ba-034b257e83b7\")) {\n",
       "                    Plotly.newPlot(\n",
       "                        '8116bbe7-6eff-4cb8-82ba-034b257e83b7',\n",
       "                        [{\"type\": \"scatter\", \"x\": [0.0, 0.05643301084637642, 0.10000000149011612, 0.11384978145360947, 0.20000000298023224, 0.25630348920822144, 0.30000001192092896, 0.361249715089798, 0.4000000059604645, 0.45441505312919617, 0.5, 0.5395644307136536, 0.6000000238418579, 0.6561577320098877, 0.699999988079071, 0.7612210512161255, 0.800000011920929, 0.8367688655853271, 0.8999999761581421, 0.9556293487548828, 1.0, 1.063059687614441, 1.100000023841858, 1.1500791311264038, 1.2000000476837158, 1.2411525249481201, 1.2999999523162842, 1.3439552783966064, 1.399999976158142, 1.447731852531433, 1.5, 1.5458933115005493, 1.600000023841858, 1.6432753801345825, 1.7000000476837158, 1.7399346828460693, 1.7999999523162842, 1.8325221538543701, 1.899999976158142, 1.9376039505004883, 2.0, 2.0490834712982178, 2.0999999046325684, 2.155750036239624, 2.200000047683716, 2.2606258392333984, 2.299999952316284, 2.362070083618164, 2.4000000953674316, 2.44897198677063, 2.5, 2.561185598373413, 2.5999999046325684, 2.6778695583343506, 2.700000047683716, 2.781614065170288, 2.799999952316284, 2.877478837966919, 2.9000000953674316, 2.977003335952759, 3.0, 3.068958282470703, 3.0999999046325684, 3.141059637069702, 3.200000047683716, 3.274425745010376, 3.299999952316284, 3.382533311843872, 3.4000000953674316, 3.487409830093384, 3.5, 3.5616872310638428, 3.5999999046325684, 3.660290479660034, 3.700000047683716, 3.750109910964966, 3.799999952316284, 3.8447811603546143, 3.9000000953674316, 3.9564192295074463, 4.0, 4.062951564788818, 4.099999904632568, 4.1614837646484375, 4.199999809265137, 4.259995937347412, 4.300000190734863, 4.358584880828857, 4.400000095367432, 4.457282543182373, 4.5, 4.556084156036377, 4.599999904632568, 4.654976844787598, 4.699999809265137, 4.753945350646973, 4.800000190734863, 4.852973937988281, 4.900000095367432], \"y\": [4.141592502593994, 4.26756477355957, 4.383580207824707, 4.424038410186768, 4.715856552124023, 4.94447135925293, 5.142179489135742, 5.447281837463379, 5.655220031738281, 5.961850643157959, 6.225787162780762, 6.454586029052734, 6.793764114379883, 7.089066505432129, 7.302141189575195, 7.569887638092041, 7.719968795776367, 7.847630023956299, 8.033354759216309, 8.161935806274414, 8.242179870605469, 8.324528694152832, 8.356795310974121, 8.384786605834961, 8.39917278289795, 8.40198802947998, 8.393010139465332, 8.376829147338867, 8.34475326538086, 8.307578086853027, 8.256614685058594, 8.203200340270996, 8.129756927490234, 8.0631742477417, 7.965029716491699, 7.889016151428223, 7.763418674468994, 7.690340518951416, 7.526609420776367, 7.429136276245117, 7.257493019104004, 7.1148786544799805, 6.960320472717285, 6.7841010093688965, 6.639538764953613, 6.438056945800781, 6.306943416595459, 6.103011131286621, 5.981533527374268, 5.829756259918213, 5.679102420806885, 5.510367393493652, 5.410846710205078, 5.230564594268799, 5.184335708618164, 5.034266471862793, 5.005053520202637, 4.901340007781982, 4.877215385437012, 4.8158183097839355, 4.803906440734863, 4.786168575286865, 4.787048816680908, 4.796716213226318, 4.827589511871338, 4.89539909362793, 4.926205158233643, 5.052341938018799, 5.0843586921691895, 5.273085594177246, 5.304182529449463, 5.437127113342285, 5.496120929718018, 5.559308052062988, 5.583414077758789, 5.5973029136657715, 5.5954179763793945, 5.5821051597595215, 5.553359508514404, 5.511982440948486, 5.473040580749512, 5.412074565887451, 5.375729560852051, 5.315955638885498, 5.278736591339111, 5.222097873687744, 5.185033798217773, 5.132510185241699, 5.096386432647705, 5.048350811004639, 5.013711929321289, 4.970179557800293, 4.937360763549805, 4.898146629333496, 4.867326259613037, 4.832146167755127, 4.8033928871154785, 4.77192497253418, 4.745237350463867]}, {\"type\": \"scatter\", \"x\": [0.0, 0.05643301084637642, 0.10000000149011612, 0.11384978145360947, 0.20000000298023224, 0.25630348920822144, 0.30000001192092896, 0.361249715089798, 0.4000000059604645, 0.45441505312919617, 0.5, 0.5395644307136536, 0.6000000238418579, 0.6561577320098877, 0.699999988079071, 0.7612210512161255, 0.800000011920929, 0.8367688655853271, 0.8999999761581421, 0.9556293487548828, 1.0, 1.063059687614441, 1.100000023841858, 1.1500791311264038, 1.2000000476837158, 1.2411525249481201, 1.2999999523162842, 1.3439552783966064, 1.399999976158142, 1.447731852531433, 1.5, 1.5458933115005493, 1.600000023841858, 1.6432753801345825, 1.7000000476837158, 1.7399346828460693, 1.7999999523162842, 1.8325221538543701, 1.899999976158142, 1.9376039505004883, 2.0, 2.0490834712982178, 2.0999999046325684, 2.155750036239624, 2.200000047683716, 2.2606258392333984, 2.299999952316284, 2.362070083618164, 2.4000000953674316, 2.44897198677063, 2.5, 2.561185598373413, 2.5999999046325684, 2.6778695583343506, 2.700000047683716, 2.781614065170288, 2.799999952316284, 2.877478837966919, 2.9000000953674316, 2.977003335952759, 3.0, 3.068958282470703, 3.0999999046325684, 3.141059637069702, 3.200000047683716, 3.274425745010376, 3.299999952316284, 3.382533311843872, 3.4000000953674316, 3.487409830093384, 3.5, 3.5616872310638428, 3.5999999046325684, 3.660290479660034, 3.700000047683716, 3.750109910964966, 3.799999952316284, 3.8447811603546143, 3.9000000953674316, 3.9564192295074463, 4.0, 4.062951564788818, 4.099999904632568, 4.1614837646484375, 4.199999809265137, 4.259995937347412, 4.300000190734863, 4.358584880828857, 4.400000095367432, 4.457282543182373, 4.5, 4.556084156036377, 4.599999904632568, 4.654976844787598, 4.699999809265137, 4.753945350646973, 4.800000190734863, 4.852973937988281, 4.900000095367432], \"y\": [1.0, 1.0436174869537354, 1.0570440292358398, 1.0570156574249268, 1.0015183687210083, 0.9049957394599915, 0.792438268661499, 0.5767626166343689, 0.4073951542377472, 0.13685594499111176, -0.10359475016593933, -0.3078565299510956, -0.5865158438682556, -0.7899012565612793, -0.9054572582244873, -1.0029720067977905, -1.0283981561660767, -1.0287318229675293, -0.9812887907028198, -0.8966032862663269, -0.8050323724746704, -0.6445020437240601, -0.5363916754722595, -0.39074257016181946, -0.2669585049152374, -0.17996717989444733, -0.0749962255358696, -0.01038848701864481, 0.05880197137594223, 0.10715560615062714, 0.151338592171669, 0.1830959916114807, 0.21399900317192078, 0.2333751767873764, 0.25346025824546814, 0.2632529139518738, 0.2731742858886719, 0.2752557098865509, 0.2746700644493103, 0.2704334855079651, 0.2586703598499298, 0.2445952445268631, 0.22618408501148224, 0.2020999938249588, 0.18056626617908478, 0.14547160267829895, 0.11835048347711563, 0.06785377860069275, 0.032290637493133545, -0.018582932651042938, -0.07688417285680771, -0.15274687111377716, -0.20370207726955414, -0.3117573857307434, -0.3438858091831207, -0.46865779161453247, -0.4983587861061096, -0.631722629070282, -0.6733916997909546, -0.8279451727867126, -0.8781682252883911, -1.0414692163467407, -1.1216211318969727, -1.2343168258666992, -1.4097199440002441, -1.6542227268218994, -1.7440403699874878, -2.053075075149536, -2.122049331665039, -2.484565019607544, -2.539072036743164, -2.760439395904541, -2.8543522357940674, -2.9515748023986816, -2.9882192611694336, -3.010258197784424, -3.0108273029327393, -2.996765613555908, -2.965027332305908, -2.919813632965088, -2.8781890869140625, -2.8119657039642334, -2.7707369327545166, -2.7002716064453125, -2.6550533771514893, -2.5840721130371094, -2.53643536567688, -2.4669930934906006, -2.4180922508239746, -2.3512511253356934, -2.3019092082977295, -2.2381625175476074, -2.1889419555664062, -2.1284570693969727, -2.0797300338745117, -2.0224928855895996, -1.974494457244873, -1.9203954935073853, -1.8732635974884033]}, {\"type\": \"scatter\", \"x\": [0.0, 0.05643301084637642, 0.10000000149011612, 0.11384978145360947, 0.20000000298023224, 0.25630348920822144, 0.30000001192092896, 0.361249715089798, 0.4000000059604645, 0.45441505312919617, 0.5, 0.5395644307136536, 0.6000000238418579, 0.6561577320098877, 0.699999988079071, 0.7612210512161255, 0.800000011920929, 0.8367688655853271, 0.8999999761581421, 0.9556293487548828, 1.0, 1.063059687614441, 1.100000023841858, 1.1500791311264038, 1.2000000476837158, 1.2411525249481201, 1.2999999523162842, 1.3439552783966064, 1.399999976158142, 1.447731852531433, 1.5, 1.5458933115005493, 1.600000023841858, 1.6432753801345825, 1.7000000476837158, 1.7399346828460693, 1.7999999523162842, 1.8325221538543701, 1.899999976158142, 1.9376039505004883, 2.0, 2.0490834712982178, 2.0999999046325684, 2.155750036239624, 2.200000047683716, 2.2606258392333984, 2.299999952316284, 2.362070083618164, 2.4000000953674316, 2.44897198677063, 2.5, 2.561185598373413, 2.5999999046325684, 2.6778695583343506, 2.700000047683716, 2.781614065170288, 2.799999952316284, 2.877478837966919, 2.9000000953674316, 2.977003335952759, 3.0, 3.068958282470703, 3.0999999046325684, 3.141059637069702, 3.200000047683716, 3.274425745010376, 3.299999952316284, 3.382533311843872, 3.4000000953674316, 3.487409830093384, 3.5, 3.5616872310638428, 3.5999999046325684, 3.660290479660034, 3.700000047683716, 3.750109910964966, 3.799999952316284, 3.8447811603546143, 3.9000000953674316, 3.9564192295074463, 4.0, 4.062951564788818, 4.099999904632568, 4.1614837646484375, 4.199999809265137, 4.259995937347412, 4.300000190734863, 4.358584880828857, 4.400000095367432, 4.457282543182373, 4.5, 4.556084156036377, 4.599999904632568, 4.654976844787598, 4.699999809265137, 4.753945350646973, 4.800000190734863, 4.852973937988281, 4.900000095367432], \"y\": [2.0, 2.470825433731079, 2.8580410480499268, 2.984642505645752, 3.794327735900879, 4.324516296386719, 4.7213873863220215, 5.2281951904296875, 5.494659900665283, 5.746908187866211, 5.8079752922058105, 5.739858150482178, 5.452752113342285, 5.046376705169678, 4.666012287139893, 4.070520401000977, 3.6674153804779053, 3.275618076324463, 2.600649118423462, 2.0269503593444824, 1.594297170639038, 1.027347445487976, 0.7230506539344788, 0.410005658864975, 0.1777930110692978, -0.03306965157389641, -0.2580533027648926, -0.4691278338432312, -0.6615092158317566, -0.8848187923431396, -1.0517323017120361, -1.2653592824935913, -1.4343103170394897, -1.6336857080459595, -1.8103811740875244, -1.9894121885299683, -2.1754040718078613, -2.3144636154174805, -2.518673896789551, -2.660564661026001, -2.8258631229400635, -2.9776549339294434, -3.084368944168091, -3.2278757095336914, -3.2996058464050293, -3.3350441455841064, -3.31996750831604, -3.24025297164917, -3.1616756916046143, -3.031942367553711, -2.868504524230957, -2.6420671939849854, -2.4842803478240967, -2.1404759883880615, -2.0369272232055664, -1.6358273029327393, -1.5417027473449707, -1.1322805881500244, -1.0099079608917236, -0.5827345848083496, -0.45308947563171387, -0.06057204306125641, 0.11740128695964813, 0.3536337912082672, 0.6943322420120239, 1.129015564918518, 1.2803480625152588, 1.779168725013733, 1.8869528770446777, 2.4311983585357666, 2.508575439453125, 1.7862612009048462, 1.2864643335342407, 0.7928305864334106, 0.41462424397468567, 0.1292933225631714, -0.2143002301454544, -0.388022243976593, -0.664116382598877, -0.8146848082542419, -0.9792343974113464, -0.9694445133209229, -0.9966608285903931, -0.9605387449264526, -0.9771397113800049, -0.9244920611381531, -0.934548020362854, -0.8724689483642578, -0.878931999206543, -0.8122673630714417, -0.8172351121902466, -0.7491196393966675, -0.7539646029472351, -0.6863167881965637, -0.6918700337409973, -0.6257871389389038, -0.6324970126152039, -0.5685300827026367, -0.5765802264213562]}, {\"type\": \"scatter\", \"x\": [0.0, 0.05643301084637642, 0.10000000149011612, 0.11384978145360947, 0.20000000298023224, 0.25630348920822144, 0.30000001192092896, 0.361249715089798, 0.4000000059604645, 0.45441505312919617, 0.5, 0.5395644307136536, 0.6000000238418579, 0.6561577320098877, 0.699999988079071, 0.7612210512161255, 0.800000011920929, 0.8367688655853271, 0.8999999761581421, 0.9556293487548828, 1.0, 1.063059687614441, 1.100000023841858, 1.1500791311264038, 1.2000000476837158, 1.2411525249481201, 1.2999999523162842, 1.3439552783966064, 1.399999976158142, 1.447731852531433, 1.5, 1.5458933115005493, 1.600000023841858, 1.6432753801345825, 1.7000000476837158, 1.7399346828460693, 1.7999999523162842, 1.8325221538543701, 1.899999976158142, 1.9376039505004883, 2.0, 2.0490834712982178, 2.0999999046325684, 2.155750036239624, 2.200000047683716, 2.2606258392333984, 2.299999952316284, 2.362070083618164, 2.4000000953674316, 2.44897198677063, 2.5, 2.561185598373413, 2.5999999046325684, 2.6778695583343506, 2.700000047683716, 2.781614065170288, 2.799999952316284, 2.877478837966919, 2.9000000953674316, 2.977003335952759, 3.0, 3.068958282470703, 3.0999999046325684, 3.141059637069702, 3.200000047683716, 3.274425745010376, 3.299999952316284, 3.382533311843872, 3.4000000953674316, 3.487409830093384, 3.5, 3.5616872310638428, 3.5999999046325684, 3.660290479660034, 3.700000047683716, 3.750109910964966, 3.799999952316284, 3.8447811603546143, 3.9000000953674316, 3.9564192295074463, 4.0, 4.062951564788818, 4.099999904632568, 4.1614837646484375, 4.199999809265137, 4.259995937347412, 4.300000190734863, 4.358584880828857, 4.400000095367432, 4.457282543182373, 4.5, 4.556084156036377, 4.599999904632568, 4.654976844787598, 4.699999809265137, 4.753945350646973, 4.800000190734863, 4.852973937988281, 4.900000095367432], \"y\": [1.0, 0.5265064239501953, 0.07697029411792755, -0.08243606239557266, -1.2588765621185303, -2.1881699562072754, -2.9691381454467773, -4.060522079467773, -4.660910606384277, -5.20957088470459, -5.272773742675781, -5.005422592163086, -4.143433570861816, -3.076502561569214, -2.194573163986206, -1.0064488649368286, -0.3142702877521515, 0.28670534491539, 1.185386300086975, 1.8388298749923706, 2.2773923873901367, 2.7954964637756348, 3.052851915359497, 2.7273454666137695, 2.20107364654541, 2.0062506198883057, 1.5222296714782715, 1.3949520587921143, 1.0378999710083008, 0.9618649482727051, 0.6969185471534729, 0.6639705300331116, 0.44563978910446167, 0.43153053522109985, 0.24432189762592316, 0.2331332564353943, 0.06683921813964844, 0.054493386298418045, -0.10161969065666199, -0.1302276998758316, -0.26504477858543396, -0.3159181773662567, -0.4148286283016205, -0.4567820131778717, -0.5206270217895508, -0.6427105069160461, -0.7361574769020081, -0.8911778926849365, -0.9832131862640381, -1.0922095775604248, -1.1900359392166138, -1.2862749099731445, -1.3384801149368286, -1.4370570182800293, -1.4667543172836304, -1.5976730585098267, -1.6336101293563843, -1.8183602094650269, -1.8829058408737183, -2.1406209468841553, -2.227984666824341, -2.5136046409606934, -2.651273488998413, -2.8389337062835693, -3.1132748126983643, -3.4550158977508545, -3.5685951709747314, -3.914433002471924, -3.9831249713897705, -4.306843280792236, -4.351836204528809, -2.8658108711242676, -2.047844886779785, -1.189326286315918, -0.6609351634979248, -0.22191038727760315, 0.19582030177116394, 0.4315776228904724, 0.7169507741928101, 0.8870856761932373, 1.0239932537078857, 1.0863604545593262, 1.1417138576507568, 1.1581958532333374, 1.1931034326553345, 1.1817166805267334, 1.2040557861328125, 1.175826072692871, 1.1907018423080444, 1.1526191234588623, 1.1633801460266113, 1.1196892261505127, 1.12848699092865, 1.0818170309066772, 1.0899932384490967, 1.0419892072677612, 1.0503413677215576, 1.0020132064819336, 1.0109615325927734]}],\n",
       "                        {\"template\": {\"data\": {\"bar\": [{\"error_x\": {\"color\": \"#2a3f5f\"}, \"error_y\": {\"color\": \"#2a3f5f\"}, \"marker\": {\"line\": {\"color\": \"#E5ECF6\", \"width\": 0.5}}, \"type\": \"bar\"}], \"barpolar\": [{\"marker\": {\"line\": {\"color\": \"#E5ECF6\", \"width\": 0.5}}, \"type\": \"barpolar\"}], \"carpet\": [{\"aaxis\": {\"endlinecolor\": \"#2a3f5f\", \"gridcolor\": \"white\", \"linecolor\": \"white\", \"minorgridcolor\": \"white\", \"startlinecolor\": \"#2a3f5f\"}, \"baxis\": {\"endlinecolor\": \"#2a3f5f\", \"gridcolor\": \"white\", \"linecolor\": \"white\", \"minorgridcolor\": \"white\", \"startlinecolor\": \"#2a3f5f\"}, \"type\": \"carpet\"}], \"choropleth\": [{\"colorbar\": {\"outlinewidth\": 0, \"ticks\": \"\"}, \"type\": \"choropleth\"}], \"contour\": [{\"colorbar\": {\"outlinewidth\": 0, \"ticks\": \"\"}, \"colorscale\": [[0.0, \"#0d0887\"], [0.1111111111111111, \"#46039f\"], [0.2222222222222222, \"#7201a8\"], [0.3333333333333333, \"#9c179e\"], [0.4444444444444444, \"#bd3786\"], [0.5555555555555556, \"#d8576b\"], [0.6666666666666666, \"#ed7953\"], [0.7777777777777778, \"#fb9f3a\"], [0.8888888888888888, \"#fdca26\"], [1.0, \"#f0f921\"]], \"type\": \"contour\"}], \"contourcarpet\": [{\"colorbar\": {\"outlinewidth\": 0, \"ticks\": \"\"}, \"type\": \"contourcarpet\"}], \"heatmap\": [{\"colorbar\": {\"outlinewidth\": 0, \"ticks\": \"\"}, \"colorscale\": [[0.0, \"#0d0887\"], [0.1111111111111111, \"#46039f\"], [0.2222222222222222, \"#7201a8\"], [0.3333333333333333, \"#9c179e\"], [0.4444444444444444, \"#bd3786\"], [0.5555555555555556, \"#d8576b\"], [0.6666666666666666, \"#ed7953\"], [0.7777777777777778, \"#fb9f3a\"], [0.8888888888888888, \"#fdca26\"], [1.0, \"#f0f921\"]], \"type\": \"heatmap\"}], \"heatmapgl\": [{\"colorbar\": {\"outlinewidth\": 0, \"ticks\": \"\"}, \"colorscale\": [[0.0, \"#0d0887\"], [0.1111111111111111, \"#46039f\"], [0.2222222222222222, \"#7201a8\"], [0.3333333333333333, \"#9c179e\"], [0.4444444444444444, \"#bd3786\"], [0.5555555555555556, \"#d8576b\"], [0.6666666666666666, \"#ed7953\"], [0.7777777777777778, \"#fb9f3a\"], [0.8888888888888888, \"#fdca26\"], [1.0, \"#f0f921\"]], \"type\": \"heatmapgl\"}], \"histogram\": [{\"marker\": {\"colorbar\": {\"outlinewidth\": 0, \"ticks\": \"\"}}, \"type\": \"histogram\"}], \"histogram2d\": [{\"colorbar\": {\"outlinewidth\": 0, \"ticks\": \"\"}, \"colorscale\": [[0.0, \"#0d0887\"], [0.1111111111111111, \"#46039f\"], [0.2222222222222222, \"#7201a8\"], [0.3333333333333333, \"#9c179e\"], [0.4444444444444444, \"#bd3786\"], [0.5555555555555556, \"#d8576b\"], [0.6666666666666666, \"#ed7953\"], [0.7777777777777778, \"#fb9f3a\"], [0.8888888888888888, \"#fdca26\"], [1.0, \"#f0f921\"]], \"type\": \"histogram2d\"}], \"histogram2dcontour\": [{\"colorbar\": {\"outlinewidth\": 0, \"ticks\": \"\"}, \"colorscale\": [[0.0, \"#0d0887\"], [0.1111111111111111, \"#46039f\"], [0.2222222222222222, \"#7201a8\"], [0.3333333333333333, \"#9c179e\"], [0.4444444444444444, \"#bd3786\"], [0.5555555555555556, \"#d8576b\"], [0.6666666666666666, \"#ed7953\"], [0.7777777777777778, \"#fb9f3a\"], [0.8888888888888888, \"#fdca26\"], [1.0, \"#f0f921\"]], \"type\": \"histogram2dcontour\"}], \"mesh3d\": [{\"colorbar\": {\"outlinewidth\": 0, \"ticks\": \"\"}, \"type\": \"mesh3d\"}], \"parcoords\": [{\"line\": {\"colorbar\": {\"outlinewidth\": 0, \"ticks\": \"\"}}, \"type\": \"parcoords\"}], \"pie\": [{\"automargin\": true, \"type\": \"pie\"}], \"scatter\": [{\"marker\": {\"colorbar\": {\"outlinewidth\": 0, \"ticks\": \"\"}}, \"type\": \"scatter\"}], \"scatter3d\": [{\"line\": {\"colorbar\": {\"outlinewidth\": 0, \"ticks\": \"\"}}, \"marker\": {\"colorbar\": {\"outlinewidth\": 0, \"ticks\": \"\"}}, \"type\": \"scatter3d\"}], \"scattercarpet\": [{\"marker\": {\"colorbar\": {\"outlinewidth\": 0, \"ticks\": \"\"}}, \"type\": \"scattercarpet\"}], \"scattergeo\": [{\"marker\": {\"colorbar\": {\"outlinewidth\": 0, \"ticks\": \"\"}}, \"type\": \"scattergeo\"}], \"scattergl\": [{\"marker\": {\"colorbar\": {\"outlinewidth\": 0, \"ticks\": \"\"}}, \"type\": \"scattergl\"}], \"scattermapbox\": [{\"marker\": {\"colorbar\": {\"outlinewidth\": 0, \"ticks\": \"\"}}, \"type\": \"scattermapbox\"}], \"scatterpolar\": [{\"marker\": {\"colorbar\": {\"outlinewidth\": 0, \"ticks\": \"\"}}, \"type\": \"scatterpolar\"}], \"scatterpolargl\": [{\"marker\": {\"colorbar\": {\"outlinewidth\": 0, \"ticks\": \"\"}}, \"type\": \"scatterpolargl\"}], \"scatterternary\": [{\"marker\": {\"colorbar\": {\"outlinewidth\": 0, \"ticks\": \"\"}}, \"type\": \"scatterternary\"}], \"surface\": [{\"colorbar\": {\"outlinewidth\": 0, \"ticks\": \"\"}, \"colorscale\": [[0.0, \"#0d0887\"], [0.1111111111111111, \"#46039f\"], [0.2222222222222222, \"#7201a8\"], [0.3333333333333333, \"#9c179e\"], [0.4444444444444444, \"#bd3786\"], [0.5555555555555556, \"#d8576b\"], [0.6666666666666666, \"#ed7953\"], [0.7777777777777778, \"#fb9f3a\"], [0.8888888888888888, \"#fdca26\"], [1.0, \"#f0f921\"]], \"type\": \"surface\"}], \"table\": [{\"cells\": {\"fill\": {\"color\": \"#EBF0F8\"}, \"line\": {\"color\": \"white\"}}, \"header\": {\"fill\": {\"color\": \"#C8D4E3\"}, \"line\": {\"color\": \"white\"}}, \"type\": \"table\"}]}, \"layout\": {\"annotationdefaults\": {\"arrowcolor\": \"#2a3f5f\", \"arrowhead\": 0, \"arrowwidth\": 1}, \"coloraxis\": {\"colorbar\": {\"outlinewidth\": 0, \"ticks\": \"\"}}, \"colorscale\": {\"diverging\": [[0, \"#8e0152\"], [0.1, \"#c51b7d\"], [0.2, \"#de77ae\"], [0.3, \"#f1b6da\"], [0.4, \"#fde0ef\"], [0.5, \"#f7f7f7\"], [0.6, \"#e6f5d0\"], [0.7, \"#b8e186\"], [0.8, \"#7fbc41\"], [0.9, \"#4d9221\"], [1, \"#276419\"]], \"sequential\": [[0.0, \"#0d0887\"], [0.1111111111111111, \"#46039f\"], [0.2222222222222222, \"#7201a8\"], [0.3333333333333333, \"#9c179e\"], [0.4444444444444444, \"#bd3786\"], [0.5555555555555556, \"#d8576b\"], [0.6666666666666666, \"#ed7953\"], [0.7777777777777778, \"#fb9f3a\"], [0.8888888888888888, \"#fdca26\"], [1.0, \"#f0f921\"]], \"sequentialminus\": [[0.0, \"#0d0887\"], [0.1111111111111111, \"#46039f\"], [0.2222222222222222, \"#7201a8\"], [0.3333333333333333, \"#9c179e\"], [0.4444444444444444, \"#bd3786\"], [0.5555555555555556, \"#d8576b\"], [0.6666666666666666, \"#ed7953\"], [0.7777777777777778, \"#fb9f3a\"], [0.8888888888888888, \"#fdca26\"], [1.0, \"#f0f921\"]]}, \"colorway\": [\"#636efa\", \"#EF553B\", \"#00cc96\", \"#ab63fa\", \"#FFA15A\", \"#19d3f3\", \"#FF6692\", \"#B6E880\", \"#FF97FF\", \"#FECB52\"], \"font\": {\"color\": \"#2a3f5f\"}, \"geo\": {\"bgcolor\": \"white\", \"lakecolor\": \"white\", \"landcolor\": \"#E5ECF6\", \"showlakes\": true, \"showland\": true, \"subunitcolor\": \"white\"}, \"hoverlabel\": {\"align\": \"left\"}, \"hovermode\": \"closest\", \"mapbox\": {\"style\": \"light\"}, \"paper_bgcolor\": \"white\", \"plot_bgcolor\": \"#E5ECF6\", \"polar\": {\"angularaxis\": {\"gridcolor\": \"white\", \"linecolor\": \"white\", \"ticks\": \"\"}, \"bgcolor\": \"#E5ECF6\", \"radialaxis\": {\"gridcolor\": \"white\", \"linecolor\": \"white\", \"ticks\": \"\"}}, \"scene\": {\"xaxis\": {\"backgroundcolor\": \"#E5ECF6\", \"gridcolor\": \"white\", \"gridwidth\": 2, \"linecolor\": \"white\", \"showbackground\": true, \"ticks\": \"\", \"zerolinecolor\": \"white\"}, \"yaxis\": {\"backgroundcolor\": \"#E5ECF6\", \"gridcolor\": \"white\", \"gridwidth\": 2, \"linecolor\": \"white\", \"showbackground\": true, \"ticks\": \"\", \"zerolinecolor\": \"white\"}, \"zaxis\": {\"backgroundcolor\": \"#E5ECF6\", \"gridcolor\": \"white\", \"gridwidth\": 2, \"linecolor\": \"white\", \"showbackground\": true, \"ticks\": \"\", \"zerolinecolor\": \"white\"}}, \"shapedefaults\": {\"line\": {\"color\": \"#2a3f5f\"}}, \"ternary\": {\"aaxis\": {\"gridcolor\": \"white\", \"linecolor\": \"white\", \"ticks\": \"\"}, \"baxis\": {\"gridcolor\": \"white\", \"linecolor\": \"white\", \"ticks\": \"\"}, \"bgcolor\": \"#E5ECF6\", \"caxis\": {\"gridcolor\": \"white\", \"linecolor\": \"white\", \"ticks\": \"\"}}, \"title\": {\"x\": 0.05}, \"xaxis\": {\"automargin\": true, \"gridcolor\": \"white\", \"linecolor\": \"white\", \"ticks\": \"\", \"title\": {\"standoff\": 15}, \"zerolinecolor\": \"white\", \"zerolinewidth\": 2}, \"yaxis\": {\"automargin\": true, \"gridcolor\": \"white\", \"linecolor\": \"white\", \"ticks\": \"\", \"title\": {\"standoff\": 15}, \"zerolinecolor\": \"white\", \"zerolinewidth\": 2}}}, \"title\": {\"text\": \"Adversarial\"}},\n",
       "                        {\"responsive\": true}\n",
       "                    ).then(function(){\n",
       "                            \n",
       "var gd = document.getElementById('8116bbe7-6eff-4cb8-82ba-034b257e83b7');\n",
       "var x = new MutationObserver(function (mutations, observer) {{\n",
       "        var display = window.getComputedStyle(gd).display;\n",
       "        if (!display || display === 'none') {{\n",
       "            console.log([gd, 'removed!']);\n",
       "            Plotly.purge(gd);\n",
       "            observer.disconnect();\n",
       "        }}\n",
       "}});\n",
       "\n",
       "// Listen for the removal of the full notebook cells\n",
       "var notebookContainer = gd.closest('#notebook-container');\n",
       "if (notebookContainer) {{\n",
       "    x.observe(notebookContainer, {childList: true});\n",
       "}}\n",
       "\n",
       "// Listen for the clearing of the current output cell\n",
       "var outputEl = gd.closest('.output');\n",
       "if (outputEl) {{\n",
       "    x.observe(outputEl, {childList: true});\n",
       "}}\n",
       "\n",
       "                        })\n",
       "                };\n",
       "                });\n",
       "            </script>\n",
       "        </div>"
      ]
     },
     "metadata": {},
     "output_type": "display_data"
    }
   ],
   "source": [
    "ctrl = controllers.get_limited_lookahead_controller(get_value_function(online_horizon)[0],\n",
    "                                                    vf_approx_adv,\n",
    "                                                    dt_sim*N)\n",
    "x_traj_sim, t_traj_sim = controllers.sim_ctrl(x0, vf.u_dim[0], sys.dx,\n",
    "                                              ctrl, dt_sim, N, integration_mode=integration_mode)\n",
    "controllers.plot_sim(t_traj_sim, x_traj_sim, \"Adversarial\").show()"
   ]
  },
  {
   "cell_type": "code",
   "execution_count": 280,
   "metadata": {},
   "outputs": [],
   "source": [
    "# benchmark params\n",
    "x0 = torch.tensor([np.pi, 0., 0. , 0.], dtype=vf.dtype)\n",
    "x0_eps = torch.tensor([2., 2., 4., 4.], dtype=vf.dtype)\n",
    "x_goal = torch.tensor([np.pi, 0., 0., 0.], dtype=vf.dtype)\n",
    "num_breaks = [5, 5, 5, 5]\n",
    "dt_sim = .1\n",
    "N = 50\n",
    "online_horizon = 5\n",
    "integration_mode = \"forward\""
   ]
  },
  {
   "cell_type": "code",
   "execution_count": 281,
   "metadata": {},
   "outputs": [],
   "source": [
    "Q = torch.diag(torch.Tensor([.1, .1, .1, .1]))\n",
    "R = torch.diag(torch.Tensor([.001, .001]))\n",
    "x_nom = torch.Tensor([np.pi, 0., 0., 0.]).type(vf.dtype)\n",
    "u_nom = torch.zeros(vf.u_lo[0].shape[0]).type(vf.dtype)\n",
    "ctrl_lqr, S = controllers.get_lqr_controller(sys.dx, x_nom, u_nom, Q, R, vf.u_lo[0], vf.u_up[0])\n",
    "bench_lqr = controllers.benchmark_controller(vf.u_dim[0], sys.dx,\n",
    "                                             ctrl_lqr, x0, x0_eps, num_breaks,\n",
    "                                             x_goal, dt_sim, N, integration_mode=integration_mode)"
   ]
  },
  {
   "cell_type": "code",
   "execution_count": 282,
   "metadata": {},
   "outputs": [],
   "source": [
    "ctrl_no_model = controllers.get_limited_lookahead_controller(get_value_function(online_horizon)[0])\n",
    "bench_no_model = controllers.benchmark_controller(vf.u_dim[0],\n",
    "                                                  sys.dx,\n",
    "                                                  ctrl_no_model,\n",
    "                                                  x0, x0_eps, num_breaks,\n",
    "                                                  x_goal, dt_sim, N,\n",
    "                                                  integration_mode=integration_mode)"
   ]
  },
  {
   "cell_type": "code",
   "execution_count": 283,
   "metadata": {},
   "outputs": [],
   "source": [
    "ctrl_baseline = controllers.get_limited_lookahead_controller(get_value_function(online_horizon)[0],\n",
    "                                                             vf_approx,\n",
    "                                                             dt_sim*N)\n",
    "bench_baseline = controllers.benchmark_controller(vf.u_dim[0],\n",
    "                                                  sys.dx,\n",
    "                                                  ctrl_baseline,\n",
    "                                                  x0, x0_eps, num_breaks,\n",
    "                                                  x_goal, dt_sim, N,\n",
    "                                                  integration_mode=integration_mode)"
   ]
  },
  {
   "cell_type": "code",
   "execution_count": 284,
   "metadata": {},
   "outputs": [],
   "source": [
    "ctrl_adv = controllers.get_limited_lookahead_controller(get_value_function(online_horizon)[0],\n",
    "                                                        vf_approx_adv,\n",
    "                                                        dt_sim*N)\n",
    "bench_adv = controllers.benchmark_controller(vf.u_dim[0],\n",
    "                                             sys.dx,\n",
    "                                             ctrl_adv,\n",
    "                                             x0, x0_eps, num_breaks,\n",
    "                                             x_goal, dt_sim, N,\n",
    "                                             integration_mode=integration_mode)"
   ]
  },
  {
   "cell_type": "code",
   "execution_count": 285,
   "metadata": {
    "scrolled": false
   },
   "outputs": [
    {
     "data": {
      "application/vnd.plotly.v1+json": {
       "config": {
        "plotlyServerURL": "https://plot.ly"
       },
       "data": [
        {
         "type": "heatmap",
         "z": [
          [
           10.388127617108694,
           13.042902745422998,
           11.200264803374568,
           10.575309234943457,
           10.085925650450628
          ],
          [
           10.031848993558704,
           12.812943295742752,
           11.094214095030287,
           8.965922192867493,
           11.692249897791617
          ],
          [
           10.317788770933529,
           11.547705565810393,
           8.217935474187884,
           11.070708263910204,
           10.103471890130383
          ],
          [
           11.803388495859357,
           10.367370160037048,
           8.196482181578556,
           10.603069129905935,
           10.919287876018375
          ],
          [
           10.18755226012429,
           9.256692352642926,
           10.297885799709906,
           12.094514145765451,
           9.128119222462095
          ]
         ],
         "zmax": 5,
         "zmin": 0
        }
       ],
       "layout": {
        "template": {
         "data": {
          "bar": [
           {
            "error_x": {
             "color": "#2a3f5f"
            },
            "error_y": {
             "color": "#2a3f5f"
            },
            "marker": {
             "line": {
              "color": "#E5ECF6",
              "width": 0.5
             }
            },
            "type": "bar"
           }
          ],
          "barpolar": [
           {
            "marker": {
             "line": {
              "color": "#E5ECF6",
              "width": 0.5
             }
            },
            "type": "barpolar"
           }
          ],
          "carpet": [
           {
            "aaxis": {
             "endlinecolor": "#2a3f5f",
             "gridcolor": "white",
             "linecolor": "white",
             "minorgridcolor": "white",
             "startlinecolor": "#2a3f5f"
            },
            "baxis": {
             "endlinecolor": "#2a3f5f",
             "gridcolor": "white",
             "linecolor": "white",
             "minorgridcolor": "white",
             "startlinecolor": "#2a3f5f"
            },
            "type": "carpet"
           }
          ],
          "choropleth": [
           {
            "colorbar": {
             "outlinewidth": 0,
             "ticks": ""
            },
            "type": "choropleth"
           }
          ],
          "contour": [
           {
            "colorbar": {
             "outlinewidth": 0,
             "ticks": ""
            },
            "colorscale": [
             [
              0,
              "#0d0887"
             ],
             [
              0.1111111111111111,
              "#46039f"
             ],
             [
              0.2222222222222222,
              "#7201a8"
             ],
             [
              0.3333333333333333,
              "#9c179e"
             ],
             [
              0.4444444444444444,
              "#bd3786"
             ],
             [
              0.5555555555555556,
              "#d8576b"
             ],
             [
              0.6666666666666666,
              "#ed7953"
             ],
             [
              0.7777777777777778,
              "#fb9f3a"
             ],
             [
              0.8888888888888888,
              "#fdca26"
             ],
             [
              1,
              "#f0f921"
             ]
            ],
            "type": "contour"
           }
          ],
          "contourcarpet": [
           {
            "colorbar": {
             "outlinewidth": 0,
             "ticks": ""
            },
            "type": "contourcarpet"
           }
          ],
          "heatmap": [
           {
            "colorbar": {
             "outlinewidth": 0,
             "ticks": ""
            },
            "colorscale": [
             [
              0,
              "#0d0887"
             ],
             [
              0.1111111111111111,
              "#46039f"
             ],
             [
              0.2222222222222222,
              "#7201a8"
             ],
             [
              0.3333333333333333,
              "#9c179e"
             ],
             [
              0.4444444444444444,
              "#bd3786"
             ],
             [
              0.5555555555555556,
              "#d8576b"
             ],
             [
              0.6666666666666666,
              "#ed7953"
             ],
             [
              0.7777777777777778,
              "#fb9f3a"
             ],
             [
              0.8888888888888888,
              "#fdca26"
             ],
             [
              1,
              "#f0f921"
             ]
            ],
            "type": "heatmap"
           }
          ],
          "heatmapgl": [
           {
            "colorbar": {
             "outlinewidth": 0,
             "ticks": ""
            },
            "colorscale": [
             [
              0,
              "#0d0887"
             ],
             [
              0.1111111111111111,
              "#46039f"
             ],
             [
              0.2222222222222222,
              "#7201a8"
             ],
             [
              0.3333333333333333,
              "#9c179e"
             ],
             [
              0.4444444444444444,
              "#bd3786"
             ],
             [
              0.5555555555555556,
              "#d8576b"
             ],
             [
              0.6666666666666666,
              "#ed7953"
             ],
             [
              0.7777777777777778,
              "#fb9f3a"
             ],
             [
              0.8888888888888888,
              "#fdca26"
             ],
             [
              1,
              "#f0f921"
             ]
            ],
            "type": "heatmapgl"
           }
          ],
          "histogram": [
           {
            "marker": {
             "colorbar": {
              "outlinewidth": 0,
              "ticks": ""
             }
            },
            "type": "histogram"
           }
          ],
          "histogram2d": [
           {
            "colorbar": {
             "outlinewidth": 0,
             "ticks": ""
            },
            "colorscale": [
             [
              0,
              "#0d0887"
             ],
             [
              0.1111111111111111,
              "#46039f"
             ],
             [
              0.2222222222222222,
              "#7201a8"
             ],
             [
              0.3333333333333333,
              "#9c179e"
             ],
             [
              0.4444444444444444,
              "#bd3786"
             ],
             [
              0.5555555555555556,
              "#d8576b"
             ],
             [
              0.6666666666666666,
              "#ed7953"
             ],
             [
              0.7777777777777778,
              "#fb9f3a"
             ],
             [
              0.8888888888888888,
              "#fdca26"
             ],
             [
              1,
              "#f0f921"
             ]
            ],
            "type": "histogram2d"
           }
          ],
          "histogram2dcontour": [
           {
            "colorbar": {
             "outlinewidth": 0,
             "ticks": ""
            },
            "colorscale": [
             [
              0,
              "#0d0887"
             ],
             [
              0.1111111111111111,
              "#46039f"
             ],
             [
              0.2222222222222222,
              "#7201a8"
             ],
             [
              0.3333333333333333,
              "#9c179e"
             ],
             [
              0.4444444444444444,
              "#bd3786"
             ],
             [
              0.5555555555555556,
              "#d8576b"
             ],
             [
              0.6666666666666666,
              "#ed7953"
             ],
             [
              0.7777777777777778,
              "#fb9f3a"
             ],
             [
              0.8888888888888888,
              "#fdca26"
             ],
             [
              1,
              "#f0f921"
             ]
            ],
            "type": "histogram2dcontour"
           }
          ],
          "mesh3d": [
           {
            "colorbar": {
             "outlinewidth": 0,
             "ticks": ""
            },
            "type": "mesh3d"
           }
          ],
          "parcoords": [
           {
            "line": {
             "colorbar": {
              "outlinewidth": 0,
              "ticks": ""
             }
            },
            "type": "parcoords"
           }
          ],
          "pie": [
           {
            "automargin": true,
            "type": "pie"
           }
          ],
          "scatter": [
           {
            "marker": {
             "colorbar": {
              "outlinewidth": 0,
              "ticks": ""
             }
            },
            "type": "scatter"
           }
          ],
          "scatter3d": [
           {
            "line": {
             "colorbar": {
              "outlinewidth": 0,
              "ticks": ""
             }
            },
            "marker": {
             "colorbar": {
              "outlinewidth": 0,
              "ticks": ""
             }
            },
            "type": "scatter3d"
           }
          ],
          "scattercarpet": [
           {
            "marker": {
             "colorbar": {
              "outlinewidth": 0,
              "ticks": ""
             }
            },
            "type": "scattercarpet"
           }
          ],
          "scattergeo": [
           {
            "marker": {
             "colorbar": {
              "outlinewidth": 0,
              "ticks": ""
             }
            },
            "type": "scattergeo"
           }
          ],
          "scattergl": [
           {
            "marker": {
             "colorbar": {
              "outlinewidth": 0,
              "ticks": ""
             }
            },
            "type": "scattergl"
           }
          ],
          "scattermapbox": [
           {
            "marker": {
             "colorbar": {
              "outlinewidth": 0,
              "ticks": ""
             }
            },
            "type": "scattermapbox"
           }
          ],
          "scatterpolar": [
           {
            "marker": {
             "colorbar": {
              "outlinewidth": 0,
              "ticks": ""
             }
            },
            "type": "scatterpolar"
           }
          ],
          "scatterpolargl": [
           {
            "marker": {
             "colorbar": {
              "outlinewidth": 0,
              "ticks": ""
             }
            },
            "type": "scatterpolargl"
           }
          ],
          "scatterternary": [
           {
            "marker": {
             "colorbar": {
              "outlinewidth": 0,
              "ticks": ""
             }
            },
            "type": "scatterternary"
           }
          ],
          "surface": [
           {
            "colorbar": {
             "outlinewidth": 0,
             "ticks": ""
            },
            "colorscale": [
             [
              0,
              "#0d0887"
             ],
             [
              0.1111111111111111,
              "#46039f"
             ],
             [
              0.2222222222222222,
              "#7201a8"
             ],
             [
              0.3333333333333333,
              "#9c179e"
             ],
             [
              0.4444444444444444,
              "#bd3786"
             ],
             [
              0.5555555555555556,
              "#d8576b"
             ],
             [
              0.6666666666666666,
              "#ed7953"
             ],
             [
              0.7777777777777778,
              "#fb9f3a"
             ],
             [
              0.8888888888888888,
              "#fdca26"
             ],
             [
              1,
              "#f0f921"
             ]
            ],
            "type": "surface"
           }
          ],
          "table": [
           {
            "cells": {
             "fill": {
              "color": "#EBF0F8"
             },
             "line": {
              "color": "white"
             }
            },
            "header": {
             "fill": {
              "color": "#C8D4E3"
             },
             "line": {
              "color": "white"
             }
            },
            "type": "table"
           }
          ]
         },
         "layout": {
          "annotationdefaults": {
           "arrowcolor": "#2a3f5f",
           "arrowhead": 0,
           "arrowwidth": 1
          },
          "coloraxis": {
           "colorbar": {
            "outlinewidth": 0,
            "ticks": ""
           }
          },
          "colorscale": {
           "diverging": [
            [
             0,
             "#8e0152"
            ],
            [
             0.1,
             "#c51b7d"
            ],
            [
             0.2,
             "#de77ae"
            ],
            [
             0.3,
             "#f1b6da"
            ],
            [
             0.4,
             "#fde0ef"
            ],
            [
             0.5,
             "#f7f7f7"
            ],
            [
             0.6,
             "#e6f5d0"
            ],
            [
             0.7,
             "#b8e186"
            ],
            [
             0.8,
             "#7fbc41"
            ],
            [
             0.9,
             "#4d9221"
            ],
            [
             1,
             "#276419"
            ]
           ],
           "sequential": [
            [
             0,
             "#0d0887"
            ],
            [
             0.1111111111111111,
             "#46039f"
            ],
            [
             0.2222222222222222,
             "#7201a8"
            ],
            [
             0.3333333333333333,
             "#9c179e"
            ],
            [
             0.4444444444444444,
             "#bd3786"
            ],
            [
             0.5555555555555556,
             "#d8576b"
            ],
            [
             0.6666666666666666,
             "#ed7953"
            ],
            [
             0.7777777777777778,
             "#fb9f3a"
            ],
            [
             0.8888888888888888,
             "#fdca26"
            ],
            [
             1,
             "#f0f921"
            ]
           ],
           "sequentialminus": [
            [
             0,
             "#0d0887"
            ],
            [
             0.1111111111111111,
             "#46039f"
            ],
            [
             0.2222222222222222,
             "#7201a8"
            ],
            [
             0.3333333333333333,
             "#9c179e"
            ],
            [
             0.4444444444444444,
             "#bd3786"
            ],
            [
             0.5555555555555556,
             "#d8576b"
            ],
            [
             0.6666666666666666,
             "#ed7953"
            ],
            [
             0.7777777777777778,
             "#fb9f3a"
            ],
            [
             0.8888888888888888,
             "#fdca26"
            ],
            [
             1,
             "#f0f921"
            ]
           ]
          },
          "colorway": [
           "#636efa",
           "#EF553B",
           "#00cc96",
           "#ab63fa",
           "#FFA15A",
           "#19d3f3",
           "#FF6692",
           "#B6E880",
           "#FF97FF",
           "#FECB52"
          ],
          "font": {
           "color": "#2a3f5f"
          },
          "geo": {
           "bgcolor": "white",
           "lakecolor": "white",
           "landcolor": "#E5ECF6",
           "showlakes": true,
           "showland": true,
           "subunitcolor": "white"
          },
          "hoverlabel": {
           "align": "left"
          },
          "hovermode": "closest",
          "mapbox": {
           "style": "light"
          },
          "paper_bgcolor": "white",
          "plot_bgcolor": "#E5ECF6",
          "polar": {
           "angularaxis": {
            "gridcolor": "white",
            "linecolor": "white",
            "ticks": ""
           },
           "bgcolor": "#E5ECF6",
           "radialaxis": {
            "gridcolor": "white",
            "linecolor": "white",
            "ticks": ""
           }
          },
          "scene": {
           "xaxis": {
            "backgroundcolor": "#E5ECF6",
            "gridcolor": "white",
            "gridwidth": 2,
            "linecolor": "white",
            "showbackground": true,
            "ticks": "",
            "zerolinecolor": "white"
           },
           "yaxis": {
            "backgroundcolor": "#E5ECF6",
            "gridcolor": "white",
            "gridwidth": 2,
            "linecolor": "white",
            "showbackground": true,
            "ticks": "",
            "zerolinecolor": "white"
           },
           "zaxis": {
            "backgroundcolor": "#E5ECF6",
            "gridcolor": "white",
            "gridwidth": 2,
            "linecolor": "white",
            "showbackground": true,
            "ticks": "",
            "zerolinecolor": "white"
           }
          },
          "shapedefaults": {
           "line": {
            "color": "#2a3f5f"
           }
          },
          "ternary": {
           "aaxis": {
            "gridcolor": "white",
            "linecolor": "white",
            "ticks": ""
           },
           "baxis": {
            "gridcolor": "white",
            "linecolor": "white",
            "ticks": ""
           },
           "bgcolor": "#E5ECF6",
           "caxis": {
            "gridcolor": "white",
            "linecolor": "white",
            "ticks": ""
           }
          },
          "title": {
           "x": 0.05
          },
          "xaxis": {
           "automargin": true,
           "gridcolor": "white",
           "linecolor": "white",
           "ticks": "",
           "title": {
            "standoff": 15
           },
           "zerolinecolor": "white",
           "zerolinewidth": 2
          },
          "yaxis": {
           "automargin": true,
           "gridcolor": "white",
           "linecolor": "white",
           "ticks": "",
           "title": {
            "standoff": 15
           },
           "zerolinecolor": "white",
           "zerolinewidth": 2
          }
         }
        },
        "title": {
         "text": "LQR"
        }
       }
      },
      "text/html": [
       "<div>\n",
       "        \n",
       "        \n",
       "            <div id=\"90384144-881c-497b-8511-e382a0b78c5d\" class=\"plotly-graph-div\" style=\"height:525px; width:100%;\"></div>\n",
       "            <script type=\"text/javascript\">\n",
       "                require([\"plotly\"], function(Plotly) {\n",
       "                    window.PLOTLYENV=window.PLOTLYENV || {};\n",
       "                    \n",
       "                if (document.getElementById(\"90384144-881c-497b-8511-e382a0b78c5d\")) {\n",
       "                    Plotly.newPlot(\n",
       "                        '90384144-881c-497b-8511-e382a0b78c5d',\n",
       "                        [{\"type\": \"heatmap\", \"z\": [[10.388127617108694, 13.042902745422998, 11.200264803374568, 10.575309234943457, 10.085925650450628], [10.031848993558704, 12.812943295742752, 11.094214095030287, 8.965922192867493, 11.692249897791617], [10.317788770933529, 11.547705565810393, 8.217935474187884, 11.070708263910204, 10.103471890130383], [11.803388495859357, 10.367370160037048, 8.196482181578556, 10.603069129905935, 10.919287876018375], [10.18755226012429, 9.256692352642926, 10.297885799709906, 12.094514145765451, 9.128119222462095]], \"zmax\": 5, \"zmin\": 0.0}],\n",
       "                        {\"template\": {\"data\": {\"bar\": [{\"error_x\": {\"color\": \"#2a3f5f\"}, \"error_y\": {\"color\": \"#2a3f5f\"}, \"marker\": {\"line\": {\"color\": \"#E5ECF6\", \"width\": 0.5}}, \"type\": \"bar\"}], \"barpolar\": [{\"marker\": {\"line\": {\"color\": \"#E5ECF6\", \"width\": 0.5}}, \"type\": \"barpolar\"}], \"carpet\": [{\"aaxis\": {\"endlinecolor\": \"#2a3f5f\", \"gridcolor\": \"white\", \"linecolor\": \"white\", \"minorgridcolor\": \"white\", \"startlinecolor\": \"#2a3f5f\"}, \"baxis\": {\"endlinecolor\": \"#2a3f5f\", \"gridcolor\": \"white\", \"linecolor\": \"white\", \"minorgridcolor\": \"white\", \"startlinecolor\": \"#2a3f5f\"}, \"type\": \"carpet\"}], \"choropleth\": [{\"colorbar\": {\"outlinewidth\": 0, \"ticks\": \"\"}, \"type\": \"choropleth\"}], \"contour\": [{\"colorbar\": {\"outlinewidth\": 0, \"ticks\": \"\"}, \"colorscale\": [[0.0, \"#0d0887\"], [0.1111111111111111, \"#46039f\"], [0.2222222222222222, \"#7201a8\"], [0.3333333333333333, \"#9c179e\"], [0.4444444444444444, \"#bd3786\"], [0.5555555555555556, \"#d8576b\"], [0.6666666666666666, \"#ed7953\"], [0.7777777777777778, \"#fb9f3a\"], [0.8888888888888888, \"#fdca26\"], [1.0, \"#f0f921\"]], \"type\": \"contour\"}], \"contourcarpet\": [{\"colorbar\": {\"outlinewidth\": 0, \"ticks\": \"\"}, \"type\": \"contourcarpet\"}], \"heatmap\": [{\"colorbar\": {\"outlinewidth\": 0, \"ticks\": \"\"}, \"colorscale\": [[0.0, \"#0d0887\"], [0.1111111111111111, \"#46039f\"], [0.2222222222222222, \"#7201a8\"], [0.3333333333333333, \"#9c179e\"], [0.4444444444444444, \"#bd3786\"], [0.5555555555555556, \"#d8576b\"], [0.6666666666666666, \"#ed7953\"], [0.7777777777777778, \"#fb9f3a\"], [0.8888888888888888, \"#fdca26\"], [1.0, \"#f0f921\"]], \"type\": \"heatmap\"}], \"heatmapgl\": [{\"colorbar\": {\"outlinewidth\": 0, \"ticks\": \"\"}, \"colorscale\": [[0.0, \"#0d0887\"], [0.1111111111111111, \"#46039f\"], [0.2222222222222222, \"#7201a8\"], [0.3333333333333333, \"#9c179e\"], [0.4444444444444444, \"#bd3786\"], [0.5555555555555556, \"#d8576b\"], [0.6666666666666666, \"#ed7953\"], [0.7777777777777778, \"#fb9f3a\"], [0.8888888888888888, \"#fdca26\"], [1.0, \"#f0f921\"]], \"type\": \"heatmapgl\"}], \"histogram\": [{\"marker\": {\"colorbar\": {\"outlinewidth\": 0, \"ticks\": \"\"}}, \"type\": \"histogram\"}], \"histogram2d\": [{\"colorbar\": {\"outlinewidth\": 0, \"ticks\": \"\"}, \"colorscale\": [[0.0, \"#0d0887\"], [0.1111111111111111, \"#46039f\"], [0.2222222222222222, \"#7201a8\"], [0.3333333333333333, \"#9c179e\"], [0.4444444444444444, \"#bd3786\"], [0.5555555555555556, \"#d8576b\"], [0.6666666666666666, \"#ed7953\"], [0.7777777777777778, \"#fb9f3a\"], [0.8888888888888888, \"#fdca26\"], [1.0, \"#f0f921\"]], \"type\": \"histogram2d\"}], \"histogram2dcontour\": [{\"colorbar\": {\"outlinewidth\": 0, \"ticks\": \"\"}, \"colorscale\": [[0.0, \"#0d0887\"], [0.1111111111111111, \"#46039f\"], [0.2222222222222222, \"#7201a8\"], [0.3333333333333333, \"#9c179e\"], [0.4444444444444444, \"#bd3786\"], [0.5555555555555556, \"#d8576b\"], [0.6666666666666666, \"#ed7953\"], [0.7777777777777778, \"#fb9f3a\"], [0.8888888888888888, \"#fdca26\"], [1.0, \"#f0f921\"]], \"type\": \"histogram2dcontour\"}], \"mesh3d\": [{\"colorbar\": {\"outlinewidth\": 0, \"ticks\": \"\"}, \"type\": \"mesh3d\"}], \"parcoords\": [{\"line\": {\"colorbar\": {\"outlinewidth\": 0, \"ticks\": \"\"}}, \"type\": \"parcoords\"}], \"pie\": [{\"automargin\": true, \"type\": \"pie\"}], \"scatter\": [{\"marker\": {\"colorbar\": {\"outlinewidth\": 0, \"ticks\": \"\"}}, \"type\": \"scatter\"}], \"scatter3d\": [{\"line\": {\"colorbar\": {\"outlinewidth\": 0, \"ticks\": \"\"}}, \"marker\": {\"colorbar\": {\"outlinewidth\": 0, \"ticks\": \"\"}}, \"type\": \"scatter3d\"}], \"scattercarpet\": [{\"marker\": {\"colorbar\": {\"outlinewidth\": 0, \"ticks\": \"\"}}, \"type\": \"scattercarpet\"}], \"scattergeo\": [{\"marker\": {\"colorbar\": {\"outlinewidth\": 0, \"ticks\": \"\"}}, \"type\": \"scattergeo\"}], \"scattergl\": [{\"marker\": {\"colorbar\": {\"outlinewidth\": 0, \"ticks\": \"\"}}, \"type\": \"scattergl\"}], \"scattermapbox\": [{\"marker\": {\"colorbar\": {\"outlinewidth\": 0, \"ticks\": \"\"}}, \"type\": \"scattermapbox\"}], \"scatterpolar\": [{\"marker\": {\"colorbar\": {\"outlinewidth\": 0, \"ticks\": \"\"}}, \"type\": \"scatterpolar\"}], \"scatterpolargl\": [{\"marker\": {\"colorbar\": {\"outlinewidth\": 0, \"ticks\": \"\"}}, \"type\": \"scatterpolargl\"}], \"scatterternary\": [{\"marker\": {\"colorbar\": {\"outlinewidth\": 0, \"ticks\": \"\"}}, \"type\": \"scatterternary\"}], \"surface\": [{\"colorbar\": {\"outlinewidth\": 0, \"ticks\": \"\"}, \"colorscale\": [[0.0, \"#0d0887\"], [0.1111111111111111, \"#46039f\"], [0.2222222222222222, \"#7201a8\"], [0.3333333333333333, \"#9c179e\"], [0.4444444444444444, \"#bd3786\"], [0.5555555555555556, \"#d8576b\"], [0.6666666666666666, \"#ed7953\"], [0.7777777777777778, \"#fb9f3a\"], [0.8888888888888888, \"#fdca26\"], [1.0, \"#f0f921\"]], \"type\": \"surface\"}], \"table\": [{\"cells\": {\"fill\": {\"color\": \"#EBF0F8\"}, \"line\": {\"color\": \"white\"}}, \"header\": {\"fill\": {\"color\": \"#C8D4E3\"}, \"line\": {\"color\": \"white\"}}, \"type\": \"table\"}]}, \"layout\": {\"annotationdefaults\": {\"arrowcolor\": \"#2a3f5f\", \"arrowhead\": 0, \"arrowwidth\": 1}, \"coloraxis\": {\"colorbar\": {\"outlinewidth\": 0, \"ticks\": \"\"}}, \"colorscale\": {\"diverging\": [[0, \"#8e0152\"], [0.1, \"#c51b7d\"], [0.2, \"#de77ae\"], [0.3, \"#f1b6da\"], [0.4, \"#fde0ef\"], [0.5, \"#f7f7f7\"], [0.6, \"#e6f5d0\"], [0.7, \"#b8e186\"], [0.8, \"#7fbc41\"], [0.9, \"#4d9221\"], [1, \"#276419\"]], \"sequential\": [[0.0, \"#0d0887\"], [0.1111111111111111, \"#46039f\"], [0.2222222222222222, \"#7201a8\"], [0.3333333333333333, \"#9c179e\"], [0.4444444444444444, \"#bd3786\"], [0.5555555555555556, \"#d8576b\"], [0.6666666666666666, \"#ed7953\"], [0.7777777777777778, \"#fb9f3a\"], [0.8888888888888888, \"#fdca26\"], [1.0, \"#f0f921\"]], \"sequentialminus\": [[0.0, \"#0d0887\"], [0.1111111111111111, \"#46039f\"], [0.2222222222222222, \"#7201a8\"], [0.3333333333333333, \"#9c179e\"], [0.4444444444444444, \"#bd3786\"], [0.5555555555555556, \"#d8576b\"], [0.6666666666666666, \"#ed7953\"], [0.7777777777777778, \"#fb9f3a\"], [0.8888888888888888, \"#fdca26\"], [1.0, \"#f0f921\"]]}, \"colorway\": [\"#636efa\", \"#EF553B\", \"#00cc96\", \"#ab63fa\", \"#FFA15A\", \"#19d3f3\", \"#FF6692\", \"#B6E880\", \"#FF97FF\", \"#FECB52\"], \"font\": {\"color\": \"#2a3f5f\"}, \"geo\": {\"bgcolor\": \"white\", \"lakecolor\": \"white\", \"landcolor\": \"#E5ECF6\", \"showlakes\": true, \"showland\": true, \"subunitcolor\": \"white\"}, \"hoverlabel\": {\"align\": \"left\"}, \"hovermode\": \"closest\", \"mapbox\": {\"style\": \"light\"}, \"paper_bgcolor\": \"white\", \"plot_bgcolor\": \"#E5ECF6\", \"polar\": {\"angularaxis\": {\"gridcolor\": \"white\", \"linecolor\": \"white\", \"ticks\": \"\"}, \"bgcolor\": \"#E5ECF6\", \"radialaxis\": {\"gridcolor\": \"white\", \"linecolor\": \"white\", \"ticks\": \"\"}}, \"scene\": {\"xaxis\": {\"backgroundcolor\": \"#E5ECF6\", \"gridcolor\": \"white\", \"gridwidth\": 2, \"linecolor\": \"white\", \"showbackground\": true, \"ticks\": \"\", \"zerolinecolor\": \"white\"}, \"yaxis\": {\"backgroundcolor\": \"#E5ECF6\", \"gridcolor\": \"white\", \"gridwidth\": 2, \"linecolor\": \"white\", \"showbackground\": true, \"ticks\": \"\", \"zerolinecolor\": \"white\"}, \"zaxis\": {\"backgroundcolor\": \"#E5ECF6\", \"gridcolor\": \"white\", \"gridwidth\": 2, \"linecolor\": \"white\", \"showbackground\": true, \"ticks\": \"\", \"zerolinecolor\": \"white\"}}, \"shapedefaults\": {\"line\": {\"color\": \"#2a3f5f\"}}, \"ternary\": {\"aaxis\": {\"gridcolor\": \"white\", \"linecolor\": \"white\", \"ticks\": \"\"}, \"baxis\": {\"gridcolor\": \"white\", \"linecolor\": \"white\", \"ticks\": \"\"}, \"bgcolor\": \"#E5ECF6\", \"caxis\": {\"gridcolor\": \"white\", \"linecolor\": \"white\", \"ticks\": \"\"}}, \"title\": {\"x\": 0.05}, \"xaxis\": {\"automargin\": true, \"gridcolor\": \"white\", \"linecolor\": \"white\", \"ticks\": \"\", \"title\": {\"standoff\": 15}, \"zerolinecolor\": \"white\", \"zerolinewidth\": 2}, \"yaxis\": {\"automargin\": true, \"gridcolor\": \"white\", \"linecolor\": \"white\", \"ticks\": \"\", \"title\": {\"standoff\": 15}, \"zerolinecolor\": \"white\", \"zerolinewidth\": 2}}}, \"title\": {\"text\": \"LQR\"}},\n",
       "                        {\"responsive\": true}\n",
       "                    ).then(function(){\n",
       "                            \n",
       "var gd = document.getElementById('90384144-881c-497b-8511-e382a0b78c5d');\n",
       "var x = new MutationObserver(function (mutations, observer) {{\n",
       "        var display = window.getComputedStyle(gd).display;\n",
       "        if (!display || display === 'none') {{\n",
       "            console.log([gd, 'removed!']);\n",
       "            Plotly.purge(gd);\n",
       "            observer.disconnect();\n",
       "        }}\n",
       "}});\n",
       "\n",
       "// Listen for the removal of the full notebook cells\n",
       "var notebookContainer = gd.closest('#notebook-container');\n",
       "if (notebookContainer) {{\n",
       "    x.observe(notebookContainer, {childList: true});\n",
       "}}\n",
       "\n",
       "// Listen for the clearing of the current output cell\n",
       "var outputEl = gd.closest('.output');\n",
       "if (outputEl) {{\n",
       "    x.observe(outputEl, {childList: true});\n",
       "}}\n",
       "\n",
       "                        })\n",
       "                };\n",
       "                });\n",
       "            </script>\n",
       "        </div>"
      ]
     },
     "metadata": {},
     "output_type": "display_data"
    },
    {
     "data": {
      "application/vnd.plotly.v1+json": {
       "config": {
        "plotlyServerURL": "https://plot.ly"
       },
       "data": [
        {
         "type": "heatmap",
         "z": [
          [
           2.675040970828844,
           2.7294287018507757,
           2.7756215003711198,
           2.757499372248427,
           2.5582618582201926
          ],
          [
           2.628670209714654,
           2.691392985060168,
           2.630698819684665,
           2.3757470919350747,
           3.1943604747794545
          ],
          [
           2.940437614777911,
           3.090798894768797,
           0.0014473562942913553,
           3.090788975188103,
           2.9404426145034868
          ],
          [
           3.194349213794639,
           2.3757399220125643,
           2.6306748310053107,
           2.6913947940611864,
           2.6286634618940266
          ],
          [
           2.558261051546388,
           2.7574963692747256,
           2.7756208496148145,
           2.729429679947587,
           2.675042578191844
          ]
         ],
         "zmax": 5,
         "zmin": 0
        }
       ],
       "layout": {
        "template": {
         "data": {
          "bar": [
           {
            "error_x": {
             "color": "#2a3f5f"
            },
            "error_y": {
             "color": "#2a3f5f"
            },
            "marker": {
             "line": {
              "color": "#E5ECF6",
              "width": 0.5
             }
            },
            "type": "bar"
           }
          ],
          "barpolar": [
           {
            "marker": {
             "line": {
              "color": "#E5ECF6",
              "width": 0.5
             }
            },
            "type": "barpolar"
           }
          ],
          "carpet": [
           {
            "aaxis": {
             "endlinecolor": "#2a3f5f",
             "gridcolor": "white",
             "linecolor": "white",
             "minorgridcolor": "white",
             "startlinecolor": "#2a3f5f"
            },
            "baxis": {
             "endlinecolor": "#2a3f5f",
             "gridcolor": "white",
             "linecolor": "white",
             "minorgridcolor": "white",
             "startlinecolor": "#2a3f5f"
            },
            "type": "carpet"
           }
          ],
          "choropleth": [
           {
            "colorbar": {
             "outlinewidth": 0,
             "ticks": ""
            },
            "type": "choropleth"
           }
          ],
          "contour": [
           {
            "colorbar": {
             "outlinewidth": 0,
             "ticks": ""
            },
            "colorscale": [
             [
              0,
              "#0d0887"
             ],
             [
              0.1111111111111111,
              "#46039f"
             ],
             [
              0.2222222222222222,
              "#7201a8"
             ],
             [
              0.3333333333333333,
              "#9c179e"
             ],
             [
              0.4444444444444444,
              "#bd3786"
             ],
             [
              0.5555555555555556,
              "#d8576b"
             ],
             [
              0.6666666666666666,
              "#ed7953"
             ],
             [
              0.7777777777777778,
              "#fb9f3a"
             ],
             [
              0.8888888888888888,
              "#fdca26"
             ],
             [
              1,
              "#f0f921"
             ]
            ],
            "type": "contour"
           }
          ],
          "contourcarpet": [
           {
            "colorbar": {
             "outlinewidth": 0,
             "ticks": ""
            },
            "type": "contourcarpet"
           }
          ],
          "heatmap": [
           {
            "colorbar": {
             "outlinewidth": 0,
             "ticks": ""
            },
            "colorscale": [
             [
              0,
              "#0d0887"
             ],
             [
              0.1111111111111111,
              "#46039f"
             ],
             [
              0.2222222222222222,
              "#7201a8"
             ],
             [
              0.3333333333333333,
              "#9c179e"
             ],
             [
              0.4444444444444444,
              "#bd3786"
             ],
             [
              0.5555555555555556,
              "#d8576b"
             ],
             [
              0.6666666666666666,
              "#ed7953"
             ],
             [
              0.7777777777777778,
              "#fb9f3a"
             ],
             [
              0.8888888888888888,
              "#fdca26"
             ],
             [
              1,
              "#f0f921"
             ]
            ],
            "type": "heatmap"
           }
          ],
          "heatmapgl": [
           {
            "colorbar": {
             "outlinewidth": 0,
             "ticks": ""
            },
            "colorscale": [
             [
              0,
              "#0d0887"
             ],
             [
              0.1111111111111111,
              "#46039f"
             ],
             [
              0.2222222222222222,
              "#7201a8"
             ],
             [
              0.3333333333333333,
              "#9c179e"
             ],
             [
              0.4444444444444444,
              "#bd3786"
             ],
             [
              0.5555555555555556,
              "#d8576b"
             ],
             [
              0.6666666666666666,
              "#ed7953"
             ],
             [
              0.7777777777777778,
              "#fb9f3a"
             ],
             [
              0.8888888888888888,
              "#fdca26"
             ],
             [
              1,
              "#f0f921"
             ]
            ],
            "type": "heatmapgl"
           }
          ],
          "histogram": [
           {
            "marker": {
             "colorbar": {
              "outlinewidth": 0,
              "ticks": ""
             }
            },
            "type": "histogram"
           }
          ],
          "histogram2d": [
           {
            "colorbar": {
             "outlinewidth": 0,
             "ticks": ""
            },
            "colorscale": [
             [
              0,
              "#0d0887"
             ],
             [
              0.1111111111111111,
              "#46039f"
             ],
             [
              0.2222222222222222,
              "#7201a8"
             ],
             [
              0.3333333333333333,
              "#9c179e"
             ],
             [
              0.4444444444444444,
              "#bd3786"
             ],
             [
              0.5555555555555556,
              "#d8576b"
             ],
             [
              0.6666666666666666,
              "#ed7953"
             ],
             [
              0.7777777777777778,
              "#fb9f3a"
             ],
             [
              0.8888888888888888,
              "#fdca26"
             ],
             [
              1,
              "#f0f921"
             ]
            ],
            "type": "histogram2d"
           }
          ],
          "histogram2dcontour": [
           {
            "colorbar": {
             "outlinewidth": 0,
             "ticks": ""
            },
            "colorscale": [
             [
              0,
              "#0d0887"
             ],
             [
              0.1111111111111111,
              "#46039f"
             ],
             [
              0.2222222222222222,
              "#7201a8"
             ],
             [
              0.3333333333333333,
              "#9c179e"
             ],
             [
              0.4444444444444444,
              "#bd3786"
             ],
             [
              0.5555555555555556,
              "#d8576b"
             ],
             [
              0.6666666666666666,
              "#ed7953"
             ],
             [
              0.7777777777777778,
              "#fb9f3a"
             ],
             [
              0.8888888888888888,
              "#fdca26"
             ],
             [
              1,
              "#f0f921"
             ]
            ],
            "type": "histogram2dcontour"
           }
          ],
          "mesh3d": [
           {
            "colorbar": {
             "outlinewidth": 0,
             "ticks": ""
            },
            "type": "mesh3d"
           }
          ],
          "parcoords": [
           {
            "line": {
             "colorbar": {
              "outlinewidth": 0,
              "ticks": ""
             }
            },
            "type": "parcoords"
           }
          ],
          "pie": [
           {
            "automargin": true,
            "type": "pie"
           }
          ],
          "scatter": [
           {
            "marker": {
             "colorbar": {
              "outlinewidth": 0,
              "ticks": ""
             }
            },
            "type": "scatter"
           }
          ],
          "scatter3d": [
           {
            "line": {
             "colorbar": {
              "outlinewidth": 0,
              "ticks": ""
             }
            },
            "marker": {
             "colorbar": {
              "outlinewidth": 0,
              "ticks": ""
             }
            },
            "type": "scatter3d"
           }
          ],
          "scattercarpet": [
           {
            "marker": {
             "colorbar": {
              "outlinewidth": 0,
              "ticks": ""
             }
            },
            "type": "scattercarpet"
           }
          ],
          "scattergeo": [
           {
            "marker": {
             "colorbar": {
              "outlinewidth": 0,
              "ticks": ""
             }
            },
            "type": "scattergeo"
           }
          ],
          "scattergl": [
           {
            "marker": {
             "colorbar": {
              "outlinewidth": 0,
              "ticks": ""
             }
            },
            "type": "scattergl"
           }
          ],
          "scattermapbox": [
           {
            "marker": {
             "colorbar": {
              "outlinewidth": 0,
              "ticks": ""
             }
            },
            "type": "scattermapbox"
           }
          ],
          "scatterpolar": [
           {
            "marker": {
             "colorbar": {
              "outlinewidth": 0,
              "ticks": ""
             }
            },
            "type": "scatterpolar"
           }
          ],
          "scatterpolargl": [
           {
            "marker": {
             "colorbar": {
              "outlinewidth": 0,
              "ticks": ""
             }
            },
            "type": "scatterpolargl"
           }
          ],
          "scatterternary": [
           {
            "marker": {
             "colorbar": {
              "outlinewidth": 0,
              "ticks": ""
             }
            },
            "type": "scatterternary"
           }
          ],
          "surface": [
           {
            "colorbar": {
             "outlinewidth": 0,
             "ticks": ""
            },
            "colorscale": [
             [
              0,
              "#0d0887"
             ],
             [
              0.1111111111111111,
              "#46039f"
             ],
             [
              0.2222222222222222,
              "#7201a8"
             ],
             [
              0.3333333333333333,
              "#9c179e"
             ],
             [
              0.4444444444444444,
              "#bd3786"
             ],
             [
              0.5555555555555556,
              "#d8576b"
             ],
             [
              0.6666666666666666,
              "#ed7953"
             ],
             [
              0.7777777777777778,
              "#fb9f3a"
             ],
             [
              0.8888888888888888,
              "#fdca26"
             ],
             [
              1,
              "#f0f921"
             ]
            ],
            "type": "surface"
           }
          ],
          "table": [
           {
            "cells": {
             "fill": {
              "color": "#EBF0F8"
             },
             "line": {
              "color": "white"
             }
            },
            "header": {
             "fill": {
              "color": "#C8D4E3"
             },
             "line": {
              "color": "white"
             }
            },
            "type": "table"
           }
          ]
         },
         "layout": {
          "annotationdefaults": {
           "arrowcolor": "#2a3f5f",
           "arrowhead": 0,
           "arrowwidth": 1
          },
          "coloraxis": {
           "colorbar": {
            "outlinewidth": 0,
            "ticks": ""
           }
          },
          "colorscale": {
           "diverging": [
            [
             0,
             "#8e0152"
            ],
            [
             0.1,
             "#c51b7d"
            ],
            [
             0.2,
             "#de77ae"
            ],
            [
             0.3,
             "#f1b6da"
            ],
            [
             0.4,
             "#fde0ef"
            ],
            [
             0.5,
             "#f7f7f7"
            ],
            [
             0.6,
             "#e6f5d0"
            ],
            [
             0.7,
             "#b8e186"
            ],
            [
             0.8,
             "#7fbc41"
            ],
            [
             0.9,
             "#4d9221"
            ],
            [
             1,
             "#276419"
            ]
           ],
           "sequential": [
            [
             0,
             "#0d0887"
            ],
            [
             0.1111111111111111,
             "#46039f"
            ],
            [
             0.2222222222222222,
             "#7201a8"
            ],
            [
             0.3333333333333333,
             "#9c179e"
            ],
            [
             0.4444444444444444,
             "#bd3786"
            ],
            [
             0.5555555555555556,
             "#d8576b"
            ],
            [
             0.6666666666666666,
             "#ed7953"
            ],
            [
             0.7777777777777778,
             "#fb9f3a"
            ],
            [
             0.8888888888888888,
             "#fdca26"
            ],
            [
             1,
             "#f0f921"
            ]
           ],
           "sequentialminus": [
            [
             0,
             "#0d0887"
            ],
            [
             0.1111111111111111,
             "#46039f"
            ],
            [
             0.2222222222222222,
             "#7201a8"
            ],
            [
             0.3333333333333333,
             "#9c179e"
            ],
            [
             0.4444444444444444,
             "#bd3786"
            ],
            [
             0.5555555555555556,
             "#d8576b"
            ],
            [
             0.6666666666666666,
             "#ed7953"
            ],
            [
             0.7777777777777778,
             "#fb9f3a"
            ],
            [
             0.8888888888888888,
             "#fdca26"
            ],
            [
             1,
             "#f0f921"
            ]
           ]
          },
          "colorway": [
           "#636efa",
           "#EF553B",
           "#00cc96",
           "#ab63fa",
           "#FFA15A",
           "#19d3f3",
           "#FF6692",
           "#B6E880",
           "#FF97FF",
           "#FECB52"
          ],
          "font": {
           "color": "#2a3f5f"
          },
          "geo": {
           "bgcolor": "white",
           "lakecolor": "white",
           "landcolor": "#E5ECF6",
           "showlakes": true,
           "showland": true,
           "subunitcolor": "white"
          },
          "hoverlabel": {
           "align": "left"
          },
          "hovermode": "closest",
          "mapbox": {
           "style": "light"
          },
          "paper_bgcolor": "white",
          "plot_bgcolor": "#E5ECF6",
          "polar": {
           "angularaxis": {
            "gridcolor": "white",
            "linecolor": "white",
            "ticks": ""
           },
           "bgcolor": "#E5ECF6",
           "radialaxis": {
            "gridcolor": "white",
            "linecolor": "white",
            "ticks": ""
           }
          },
          "scene": {
           "xaxis": {
            "backgroundcolor": "#E5ECF6",
            "gridcolor": "white",
            "gridwidth": 2,
            "linecolor": "white",
            "showbackground": true,
            "ticks": "",
            "zerolinecolor": "white"
           },
           "yaxis": {
            "backgroundcolor": "#E5ECF6",
            "gridcolor": "white",
            "gridwidth": 2,
            "linecolor": "white",
            "showbackground": true,
            "ticks": "",
            "zerolinecolor": "white"
           },
           "zaxis": {
            "backgroundcolor": "#E5ECF6",
            "gridcolor": "white",
            "gridwidth": 2,
            "linecolor": "white",
            "showbackground": true,
            "ticks": "",
            "zerolinecolor": "white"
           }
          },
          "shapedefaults": {
           "line": {
            "color": "#2a3f5f"
           }
          },
          "ternary": {
           "aaxis": {
            "gridcolor": "white",
            "linecolor": "white",
            "ticks": ""
           },
           "baxis": {
            "gridcolor": "white",
            "linecolor": "white",
            "ticks": ""
           },
           "bgcolor": "#E5ECF6",
           "caxis": {
            "gridcolor": "white",
            "linecolor": "white",
            "ticks": ""
           }
          },
          "title": {
           "x": 0.05
          },
          "xaxis": {
           "automargin": true,
           "gridcolor": "white",
           "linecolor": "white",
           "ticks": "",
           "title": {
            "standoff": 15
           },
           "zerolinecolor": "white",
           "zerolinewidth": 2
          },
          "yaxis": {
           "automargin": true,
           "gridcolor": "white",
           "linecolor": "white",
           "ticks": "",
           "title": {
            "standoff": 15
           },
           "zerolinecolor": "white",
           "zerolinewidth": 2
          }
         }
        },
        "title": {
         "text": "No Model"
        }
       }
      },
      "text/html": [
       "<div>\n",
       "        \n",
       "        \n",
       "            <div id=\"0a7152bf-c132-4b19-820b-924e0231bd53\" class=\"plotly-graph-div\" style=\"height:525px; width:100%;\"></div>\n",
       "            <script type=\"text/javascript\">\n",
       "                require([\"plotly\"], function(Plotly) {\n",
       "                    window.PLOTLYENV=window.PLOTLYENV || {};\n",
       "                    \n",
       "                if (document.getElementById(\"0a7152bf-c132-4b19-820b-924e0231bd53\")) {\n",
       "                    Plotly.newPlot(\n",
       "                        '0a7152bf-c132-4b19-820b-924e0231bd53',\n",
       "                        [{\"type\": \"heatmap\", \"z\": [[2.675040970828844, 2.7294287018507757, 2.7756215003711198, 2.757499372248427, 2.5582618582201926], [2.628670209714654, 2.691392985060168, 2.630698819684665, 2.3757470919350747, 3.1943604747794545], [2.940437614777911, 3.090798894768797, 0.0014473562942913553, 3.090788975188103, 2.9404426145034868], [3.194349213794639, 2.3757399220125643, 2.6306748310053107, 2.6913947940611864, 2.6286634618940266], [2.558261051546388, 2.7574963692747256, 2.7756208496148145, 2.729429679947587, 2.675042578191844]], \"zmax\": 5, \"zmin\": 0.0}],\n",
       "                        {\"template\": {\"data\": {\"bar\": [{\"error_x\": {\"color\": \"#2a3f5f\"}, \"error_y\": {\"color\": \"#2a3f5f\"}, \"marker\": {\"line\": {\"color\": \"#E5ECF6\", \"width\": 0.5}}, \"type\": \"bar\"}], \"barpolar\": [{\"marker\": {\"line\": {\"color\": \"#E5ECF6\", \"width\": 0.5}}, \"type\": \"barpolar\"}], \"carpet\": [{\"aaxis\": {\"endlinecolor\": \"#2a3f5f\", \"gridcolor\": \"white\", \"linecolor\": \"white\", \"minorgridcolor\": \"white\", \"startlinecolor\": \"#2a3f5f\"}, \"baxis\": {\"endlinecolor\": \"#2a3f5f\", \"gridcolor\": \"white\", \"linecolor\": \"white\", \"minorgridcolor\": \"white\", \"startlinecolor\": \"#2a3f5f\"}, \"type\": \"carpet\"}], \"choropleth\": [{\"colorbar\": {\"outlinewidth\": 0, \"ticks\": \"\"}, \"type\": \"choropleth\"}], \"contour\": [{\"colorbar\": {\"outlinewidth\": 0, \"ticks\": \"\"}, \"colorscale\": [[0.0, \"#0d0887\"], [0.1111111111111111, \"#46039f\"], [0.2222222222222222, \"#7201a8\"], [0.3333333333333333, \"#9c179e\"], [0.4444444444444444, \"#bd3786\"], [0.5555555555555556, \"#d8576b\"], [0.6666666666666666, \"#ed7953\"], [0.7777777777777778, \"#fb9f3a\"], [0.8888888888888888, \"#fdca26\"], [1.0, \"#f0f921\"]], \"type\": \"contour\"}], \"contourcarpet\": [{\"colorbar\": {\"outlinewidth\": 0, \"ticks\": \"\"}, \"type\": \"contourcarpet\"}], \"heatmap\": [{\"colorbar\": {\"outlinewidth\": 0, \"ticks\": \"\"}, \"colorscale\": [[0.0, \"#0d0887\"], [0.1111111111111111, \"#46039f\"], [0.2222222222222222, \"#7201a8\"], [0.3333333333333333, \"#9c179e\"], [0.4444444444444444, \"#bd3786\"], [0.5555555555555556, \"#d8576b\"], [0.6666666666666666, \"#ed7953\"], [0.7777777777777778, \"#fb9f3a\"], [0.8888888888888888, \"#fdca26\"], [1.0, \"#f0f921\"]], \"type\": \"heatmap\"}], \"heatmapgl\": [{\"colorbar\": {\"outlinewidth\": 0, \"ticks\": \"\"}, \"colorscale\": [[0.0, \"#0d0887\"], [0.1111111111111111, \"#46039f\"], [0.2222222222222222, \"#7201a8\"], [0.3333333333333333, \"#9c179e\"], [0.4444444444444444, \"#bd3786\"], [0.5555555555555556, \"#d8576b\"], [0.6666666666666666, \"#ed7953\"], [0.7777777777777778, \"#fb9f3a\"], [0.8888888888888888, \"#fdca26\"], [1.0, \"#f0f921\"]], \"type\": \"heatmapgl\"}], \"histogram\": [{\"marker\": {\"colorbar\": {\"outlinewidth\": 0, \"ticks\": \"\"}}, \"type\": \"histogram\"}], \"histogram2d\": [{\"colorbar\": {\"outlinewidth\": 0, \"ticks\": \"\"}, \"colorscale\": [[0.0, \"#0d0887\"], [0.1111111111111111, \"#46039f\"], [0.2222222222222222, \"#7201a8\"], [0.3333333333333333, \"#9c179e\"], [0.4444444444444444, \"#bd3786\"], [0.5555555555555556, \"#d8576b\"], [0.6666666666666666, \"#ed7953\"], [0.7777777777777778, \"#fb9f3a\"], [0.8888888888888888, \"#fdca26\"], [1.0, \"#f0f921\"]], \"type\": \"histogram2d\"}], \"histogram2dcontour\": [{\"colorbar\": {\"outlinewidth\": 0, \"ticks\": \"\"}, \"colorscale\": [[0.0, \"#0d0887\"], [0.1111111111111111, \"#46039f\"], [0.2222222222222222, \"#7201a8\"], [0.3333333333333333, \"#9c179e\"], [0.4444444444444444, \"#bd3786\"], [0.5555555555555556, \"#d8576b\"], [0.6666666666666666, \"#ed7953\"], [0.7777777777777778, \"#fb9f3a\"], [0.8888888888888888, \"#fdca26\"], [1.0, \"#f0f921\"]], \"type\": \"histogram2dcontour\"}], \"mesh3d\": [{\"colorbar\": {\"outlinewidth\": 0, \"ticks\": \"\"}, \"type\": \"mesh3d\"}], \"parcoords\": [{\"line\": {\"colorbar\": {\"outlinewidth\": 0, \"ticks\": \"\"}}, \"type\": \"parcoords\"}], \"pie\": [{\"automargin\": true, \"type\": \"pie\"}], \"scatter\": [{\"marker\": {\"colorbar\": {\"outlinewidth\": 0, \"ticks\": \"\"}}, \"type\": \"scatter\"}], \"scatter3d\": [{\"line\": {\"colorbar\": {\"outlinewidth\": 0, \"ticks\": \"\"}}, \"marker\": {\"colorbar\": {\"outlinewidth\": 0, \"ticks\": \"\"}}, \"type\": \"scatter3d\"}], \"scattercarpet\": [{\"marker\": {\"colorbar\": {\"outlinewidth\": 0, \"ticks\": \"\"}}, \"type\": \"scattercarpet\"}], \"scattergeo\": [{\"marker\": {\"colorbar\": {\"outlinewidth\": 0, \"ticks\": \"\"}}, \"type\": \"scattergeo\"}], \"scattergl\": [{\"marker\": {\"colorbar\": {\"outlinewidth\": 0, \"ticks\": \"\"}}, \"type\": \"scattergl\"}], \"scattermapbox\": [{\"marker\": {\"colorbar\": {\"outlinewidth\": 0, \"ticks\": \"\"}}, \"type\": \"scattermapbox\"}], \"scatterpolar\": [{\"marker\": {\"colorbar\": {\"outlinewidth\": 0, \"ticks\": \"\"}}, \"type\": \"scatterpolar\"}], \"scatterpolargl\": [{\"marker\": {\"colorbar\": {\"outlinewidth\": 0, \"ticks\": \"\"}}, \"type\": \"scatterpolargl\"}], \"scatterternary\": [{\"marker\": {\"colorbar\": {\"outlinewidth\": 0, \"ticks\": \"\"}}, \"type\": \"scatterternary\"}], \"surface\": [{\"colorbar\": {\"outlinewidth\": 0, \"ticks\": \"\"}, \"colorscale\": [[0.0, \"#0d0887\"], [0.1111111111111111, \"#46039f\"], [0.2222222222222222, \"#7201a8\"], [0.3333333333333333, \"#9c179e\"], [0.4444444444444444, \"#bd3786\"], [0.5555555555555556, \"#d8576b\"], [0.6666666666666666, \"#ed7953\"], [0.7777777777777778, \"#fb9f3a\"], [0.8888888888888888, \"#fdca26\"], [1.0, \"#f0f921\"]], \"type\": \"surface\"}], \"table\": [{\"cells\": {\"fill\": {\"color\": \"#EBF0F8\"}, \"line\": {\"color\": \"white\"}}, \"header\": {\"fill\": {\"color\": \"#C8D4E3\"}, \"line\": {\"color\": \"white\"}}, \"type\": \"table\"}]}, \"layout\": {\"annotationdefaults\": {\"arrowcolor\": \"#2a3f5f\", \"arrowhead\": 0, \"arrowwidth\": 1}, \"coloraxis\": {\"colorbar\": {\"outlinewidth\": 0, \"ticks\": \"\"}}, \"colorscale\": {\"diverging\": [[0, \"#8e0152\"], [0.1, \"#c51b7d\"], [0.2, \"#de77ae\"], [0.3, \"#f1b6da\"], [0.4, \"#fde0ef\"], [0.5, \"#f7f7f7\"], [0.6, \"#e6f5d0\"], [0.7, \"#b8e186\"], [0.8, \"#7fbc41\"], [0.9, \"#4d9221\"], [1, \"#276419\"]], \"sequential\": [[0.0, \"#0d0887\"], [0.1111111111111111, \"#46039f\"], [0.2222222222222222, \"#7201a8\"], [0.3333333333333333, \"#9c179e\"], [0.4444444444444444, \"#bd3786\"], [0.5555555555555556, \"#d8576b\"], [0.6666666666666666, \"#ed7953\"], [0.7777777777777778, \"#fb9f3a\"], [0.8888888888888888, \"#fdca26\"], [1.0, \"#f0f921\"]], \"sequentialminus\": [[0.0, \"#0d0887\"], [0.1111111111111111, \"#46039f\"], [0.2222222222222222, \"#7201a8\"], [0.3333333333333333, \"#9c179e\"], [0.4444444444444444, \"#bd3786\"], [0.5555555555555556, \"#d8576b\"], [0.6666666666666666, \"#ed7953\"], [0.7777777777777778, \"#fb9f3a\"], [0.8888888888888888, \"#fdca26\"], [1.0, \"#f0f921\"]]}, \"colorway\": [\"#636efa\", \"#EF553B\", \"#00cc96\", \"#ab63fa\", \"#FFA15A\", \"#19d3f3\", \"#FF6692\", \"#B6E880\", \"#FF97FF\", \"#FECB52\"], \"font\": {\"color\": \"#2a3f5f\"}, \"geo\": {\"bgcolor\": \"white\", \"lakecolor\": \"white\", \"landcolor\": \"#E5ECF6\", \"showlakes\": true, \"showland\": true, \"subunitcolor\": \"white\"}, \"hoverlabel\": {\"align\": \"left\"}, \"hovermode\": \"closest\", \"mapbox\": {\"style\": \"light\"}, \"paper_bgcolor\": \"white\", \"plot_bgcolor\": \"#E5ECF6\", \"polar\": {\"angularaxis\": {\"gridcolor\": \"white\", \"linecolor\": \"white\", \"ticks\": \"\"}, \"bgcolor\": \"#E5ECF6\", \"radialaxis\": {\"gridcolor\": \"white\", \"linecolor\": \"white\", \"ticks\": \"\"}}, \"scene\": {\"xaxis\": {\"backgroundcolor\": \"#E5ECF6\", \"gridcolor\": \"white\", \"gridwidth\": 2, \"linecolor\": \"white\", \"showbackground\": true, \"ticks\": \"\", \"zerolinecolor\": \"white\"}, \"yaxis\": {\"backgroundcolor\": \"#E5ECF6\", \"gridcolor\": \"white\", \"gridwidth\": 2, \"linecolor\": \"white\", \"showbackground\": true, \"ticks\": \"\", \"zerolinecolor\": \"white\"}, \"zaxis\": {\"backgroundcolor\": \"#E5ECF6\", \"gridcolor\": \"white\", \"gridwidth\": 2, \"linecolor\": \"white\", \"showbackground\": true, \"ticks\": \"\", \"zerolinecolor\": \"white\"}}, \"shapedefaults\": {\"line\": {\"color\": \"#2a3f5f\"}}, \"ternary\": {\"aaxis\": {\"gridcolor\": \"white\", \"linecolor\": \"white\", \"ticks\": \"\"}, \"baxis\": {\"gridcolor\": \"white\", \"linecolor\": \"white\", \"ticks\": \"\"}, \"bgcolor\": \"#E5ECF6\", \"caxis\": {\"gridcolor\": \"white\", \"linecolor\": \"white\", \"ticks\": \"\"}}, \"title\": {\"x\": 0.05}, \"xaxis\": {\"automargin\": true, \"gridcolor\": \"white\", \"linecolor\": \"white\", \"ticks\": \"\", \"title\": {\"standoff\": 15}, \"zerolinecolor\": \"white\", \"zerolinewidth\": 2}, \"yaxis\": {\"automargin\": true, \"gridcolor\": \"white\", \"linecolor\": \"white\", \"ticks\": \"\", \"title\": {\"standoff\": 15}, \"zerolinecolor\": \"white\", \"zerolinewidth\": 2}}}, \"title\": {\"text\": \"No Model\"}},\n",
       "                        {\"responsive\": true}\n",
       "                    ).then(function(){\n",
       "                            \n",
       "var gd = document.getElementById('0a7152bf-c132-4b19-820b-924e0231bd53');\n",
       "var x = new MutationObserver(function (mutations, observer) {{\n",
       "        var display = window.getComputedStyle(gd).display;\n",
       "        if (!display || display === 'none') {{\n",
       "            console.log([gd, 'removed!']);\n",
       "            Plotly.purge(gd);\n",
       "            observer.disconnect();\n",
       "        }}\n",
       "}});\n",
       "\n",
       "// Listen for the removal of the full notebook cells\n",
       "var notebookContainer = gd.closest('#notebook-container');\n",
       "if (notebookContainer) {{\n",
       "    x.observe(notebookContainer, {childList: true});\n",
       "}}\n",
       "\n",
       "// Listen for the clearing of the current output cell\n",
       "var outputEl = gd.closest('.output');\n",
       "if (outputEl) {{\n",
       "    x.observe(outputEl, {childList: true});\n",
       "}}\n",
       "\n",
       "                        })\n",
       "                };\n",
       "                });\n",
       "            </script>\n",
       "        </div>"
      ]
     },
     "metadata": {},
     "output_type": "display_data"
    },
    {
     "data": {
      "application/vnd.plotly.v1+json": {
       "config": {
        "plotlyServerURL": "https://plot.ly"
       },
       "data": [
        {
         "type": "heatmap",
         "z": [
          [
           2.9953701661343333,
           3.1496237112664307,
           3.3014277251463597,
           5.775749759233768,
           2.317756808718781
          ],
          [
           3.2256025493459393,
           2.8370202848097055,
           10.695317754909711,
           2.6228666046424776,
           2.889745409505365
          ],
          [
           3.4936393590801647,
           15.300185414275267,
           0.009592229372743165,
           2.1365355577007303,
           2.756003947833472
          ],
          [
           2.955390590176351,
           2.737872484804818,
           2.783027145253194,
           2.7961361047272737,
           2.8311406417016225
          ],
          [
           2.983944013491691,
           2.6628380611373843,
           2.73150093768462,
           2.6360274194237117,
           2.7447999568988792
          ]
         ],
         "zmax": 5,
         "zmin": 0
        }
       ],
       "layout": {
        "template": {
         "data": {
          "bar": [
           {
            "error_x": {
             "color": "#2a3f5f"
            },
            "error_y": {
             "color": "#2a3f5f"
            },
            "marker": {
             "line": {
              "color": "#E5ECF6",
              "width": 0.5
             }
            },
            "type": "bar"
           }
          ],
          "barpolar": [
           {
            "marker": {
             "line": {
              "color": "#E5ECF6",
              "width": 0.5
             }
            },
            "type": "barpolar"
           }
          ],
          "carpet": [
           {
            "aaxis": {
             "endlinecolor": "#2a3f5f",
             "gridcolor": "white",
             "linecolor": "white",
             "minorgridcolor": "white",
             "startlinecolor": "#2a3f5f"
            },
            "baxis": {
             "endlinecolor": "#2a3f5f",
             "gridcolor": "white",
             "linecolor": "white",
             "minorgridcolor": "white",
             "startlinecolor": "#2a3f5f"
            },
            "type": "carpet"
           }
          ],
          "choropleth": [
           {
            "colorbar": {
             "outlinewidth": 0,
             "ticks": ""
            },
            "type": "choropleth"
           }
          ],
          "contour": [
           {
            "colorbar": {
             "outlinewidth": 0,
             "ticks": ""
            },
            "colorscale": [
             [
              0,
              "#0d0887"
             ],
             [
              0.1111111111111111,
              "#46039f"
             ],
             [
              0.2222222222222222,
              "#7201a8"
             ],
             [
              0.3333333333333333,
              "#9c179e"
             ],
             [
              0.4444444444444444,
              "#bd3786"
             ],
             [
              0.5555555555555556,
              "#d8576b"
             ],
             [
              0.6666666666666666,
              "#ed7953"
             ],
             [
              0.7777777777777778,
              "#fb9f3a"
             ],
             [
              0.8888888888888888,
              "#fdca26"
             ],
             [
              1,
              "#f0f921"
             ]
            ],
            "type": "contour"
           }
          ],
          "contourcarpet": [
           {
            "colorbar": {
             "outlinewidth": 0,
             "ticks": ""
            },
            "type": "contourcarpet"
           }
          ],
          "heatmap": [
           {
            "colorbar": {
             "outlinewidth": 0,
             "ticks": ""
            },
            "colorscale": [
             [
              0,
              "#0d0887"
             ],
             [
              0.1111111111111111,
              "#46039f"
             ],
             [
              0.2222222222222222,
              "#7201a8"
             ],
             [
              0.3333333333333333,
              "#9c179e"
             ],
             [
              0.4444444444444444,
              "#bd3786"
             ],
             [
              0.5555555555555556,
              "#d8576b"
             ],
             [
              0.6666666666666666,
              "#ed7953"
             ],
             [
              0.7777777777777778,
              "#fb9f3a"
             ],
             [
              0.8888888888888888,
              "#fdca26"
             ],
             [
              1,
              "#f0f921"
             ]
            ],
            "type": "heatmap"
           }
          ],
          "heatmapgl": [
           {
            "colorbar": {
             "outlinewidth": 0,
             "ticks": ""
            },
            "colorscale": [
             [
              0,
              "#0d0887"
             ],
             [
              0.1111111111111111,
              "#46039f"
             ],
             [
              0.2222222222222222,
              "#7201a8"
             ],
             [
              0.3333333333333333,
              "#9c179e"
             ],
             [
              0.4444444444444444,
              "#bd3786"
             ],
             [
              0.5555555555555556,
              "#d8576b"
             ],
             [
              0.6666666666666666,
              "#ed7953"
             ],
             [
              0.7777777777777778,
              "#fb9f3a"
             ],
             [
              0.8888888888888888,
              "#fdca26"
             ],
             [
              1,
              "#f0f921"
             ]
            ],
            "type": "heatmapgl"
           }
          ],
          "histogram": [
           {
            "marker": {
             "colorbar": {
              "outlinewidth": 0,
              "ticks": ""
             }
            },
            "type": "histogram"
           }
          ],
          "histogram2d": [
           {
            "colorbar": {
             "outlinewidth": 0,
             "ticks": ""
            },
            "colorscale": [
             [
              0,
              "#0d0887"
             ],
             [
              0.1111111111111111,
              "#46039f"
             ],
             [
              0.2222222222222222,
              "#7201a8"
             ],
             [
              0.3333333333333333,
              "#9c179e"
             ],
             [
              0.4444444444444444,
              "#bd3786"
             ],
             [
              0.5555555555555556,
              "#d8576b"
             ],
             [
              0.6666666666666666,
              "#ed7953"
             ],
             [
              0.7777777777777778,
              "#fb9f3a"
             ],
             [
              0.8888888888888888,
              "#fdca26"
             ],
             [
              1,
              "#f0f921"
             ]
            ],
            "type": "histogram2d"
           }
          ],
          "histogram2dcontour": [
           {
            "colorbar": {
             "outlinewidth": 0,
             "ticks": ""
            },
            "colorscale": [
             [
              0,
              "#0d0887"
             ],
             [
              0.1111111111111111,
              "#46039f"
             ],
             [
              0.2222222222222222,
              "#7201a8"
             ],
             [
              0.3333333333333333,
              "#9c179e"
             ],
             [
              0.4444444444444444,
              "#bd3786"
             ],
             [
              0.5555555555555556,
              "#d8576b"
             ],
             [
              0.6666666666666666,
              "#ed7953"
             ],
             [
              0.7777777777777778,
              "#fb9f3a"
             ],
             [
              0.8888888888888888,
              "#fdca26"
             ],
             [
              1,
              "#f0f921"
             ]
            ],
            "type": "histogram2dcontour"
           }
          ],
          "mesh3d": [
           {
            "colorbar": {
             "outlinewidth": 0,
             "ticks": ""
            },
            "type": "mesh3d"
           }
          ],
          "parcoords": [
           {
            "line": {
             "colorbar": {
              "outlinewidth": 0,
              "ticks": ""
             }
            },
            "type": "parcoords"
           }
          ],
          "pie": [
           {
            "automargin": true,
            "type": "pie"
           }
          ],
          "scatter": [
           {
            "marker": {
             "colorbar": {
              "outlinewidth": 0,
              "ticks": ""
             }
            },
            "type": "scatter"
           }
          ],
          "scatter3d": [
           {
            "line": {
             "colorbar": {
              "outlinewidth": 0,
              "ticks": ""
             }
            },
            "marker": {
             "colorbar": {
              "outlinewidth": 0,
              "ticks": ""
             }
            },
            "type": "scatter3d"
           }
          ],
          "scattercarpet": [
           {
            "marker": {
             "colorbar": {
              "outlinewidth": 0,
              "ticks": ""
             }
            },
            "type": "scattercarpet"
           }
          ],
          "scattergeo": [
           {
            "marker": {
             "colorbar": {
              "outlinewidth": 0,
              "ticks": ""
             }
            },
            "type": "scattergeo"
           }
          ],
          "scattergl": [
           {
            "marker": {
             "colorbar": {
              "outlinewidth": 0,
              "ticks": ""
             }
            },
            "type": "scattergl"
           }
          ],
          "scattermapbox": [
           {
            "marker": {
             "colorbar": {
              "outlinewidth": 0,
              "ticks": ""
             }
            },
            "type": "scattermapbox"
           }
          ],
          "scatterpolar": [
           {
            "marker": {
             "colorbar": {
              "outlinewidth": 0,
              "ticks": ""
             }
            },
            "type": "scatterpolar"
           }
          ],
          "scatterpolargl": [
           {
            "marker": {
             "colorbar": {
              "outlinewidth": 0,
              "ticks": ""
             }
            },
            "type": "scatterpolargl"
           }
          ],
          "scatterternary": [
           {
            "marker": {
             "colorbar": {
              "outlinewidth": 0,
              "ticks": ""
             }
            },
            "type": "scatterternary"
           }
          ],
          "surface": [
           {
            "colorbar": {
             "outlinewidth": 0,
             "ticks": ""
            },
            "colorscale": [
             [
              0,
              "#0d0887"
             ],
             [
              0.1111111111111111,
              "#46039f"
             ],
             [
              0.2222222222222222,
              "#7201a8"
             ],
             [
              0.3333333333333333,
              "#9c179e"
             ],
             [
              0.4444444444444444,
              "#bd3786"
             ],
             [
              0.5555555555555556,
              "#d8576b"
             ],
             [
              0.6666666666666666,
              "#ed7953"
             ],
             [
              0.7777777777777778,
              "#fb9f3a"
             ],
             [
              0.8888888888888888,
              "#fdca26"
             ],
             [
              1,
              "#f0f921"
             ]
            ],
            "type": "surface"
           }
          ],
          "table": [
           {
            "cells": {
             "fill": {
              "color": "#EBF0F8"
             },
             "line": {
              "color": "white"
             }
            },
            "header": {
             "fill": {
              "color": "#C8D4E3"
             },
             "line": {
              "color": "white"
             }
            },
            "type": "table"
           }
          ]
         },
         "layout": {
          "annotationdefaults": {
           "arrowcolor": "#2a3f5f",
           "arrowhead": 0,
           "arrowwidth": 1
          },
          "coloraxis": {
           "colorbar": {
            "outlinewidth": 0,
            "ticks": ""
           }
          },
          "colorscale": {
           "diverging": [
            [
             0,
             "#8e0152"
            ],
            [
             0.1,
             "#c51b7d"
            ],
            [
             0.2,
             "#de77ae"
            ],
            [
             0.3,
             "#f1b6da"
            ],
            [
             0.4,
             "#fde0ef"
            ],
            [
             0.5,
             "#f7f7f7"
            ],
            [
             0.6,
             "#e6f5d0"
            ],
            [
             0.7,
             "#b8e186"
            ],
            [
             0.8,
             "#7fbc41"
            ],
            [
             0.9,
             "#4d9221"
            ],
            [
             1,
             "#276419"
            ]
           ],
           "sequential": [
            [
             0,
             "#0d0887"
            ],
            [
             0.1111111111111111,
             "#46039f"
            ],
            [
             0.2222222222222222,
             "#7201a8"
            ],
            [
             0.3333333333333333,
             "#9c179e"
            ],
            [
             0.4444444444444444,
             "#bd3786"
            ],
            [
             0.5555555555555556,
             "#d8576b"
            ],
            [
             0.6666666666666666,
             "#ed7953"
            ],
            [
             0.7777777777777778,
             "#fb9f3a"
            ],
            [
             0.8888888888888888,
             "#fdca26"
            ],
            [
             1,
             "#f0f921"
            ]
           ],
           "sequentialminus": [
            [
             0,
             "#0d0887"
            ],
            [
             0.1111111111111111,
             "#46039f"
            ],
            [
             0.2222222222222222,
             "#7201a8"
            ],
            [
             0.3333333333333333,
             "#9c179e"
            ],
            [
             0.4444444444444444,
             "#bd3786"
            ],
            [
             0.5555555555555556,
             "#d8576b"
            ],
            [
             0.6666666666666666,
             "#ed7953"
            ],
            [
             0.7777777777777778,
             "#fb9f3a"
            ],
            [
             0.8888888888888888,
             "#fdca26"
            ],
            [
             1,
             "#f0f921"
            ]
           ]
          },
          "colorway": [
           "#636efa",
           "#EF553B",
           "#00cc96",
           "#ab63fa",
           "#FFA15A",
           "#19d3f3",
           "#FF6692",
           "#B6E880",
           "#FF97FF",
           "#FECB52"
          ],
          "font": {
           "color": "#2a3f5f"
          },
          "geo": {
           "bgcolor": "white",
           "lakecolor": "white",
           "landcolor": "#E5ECF6",
           "showlakes": true,
           "showland": true,
           "subunitcolor": "white"
          },
          "hoverlabel": {
           "align": "left"
          },
          "hovermode": "closest",
          "mapbox": {
           "style": "light"
          },
          "paper_bgcolor": "white",
          "plot_bgcolor": "#E5ECF6",
          "polar": {
           "angularaxis": {
            "gridcolor": "white",
            "linecolor": "white",
            "ticks": ""
           },
           "bgcolor": "#E5ECF6",
           "radialaxis": {
            "gridcolor": "white",
            "linecolor": "white",
            "ticks": ""
           }
          },
          "scene": {
           "xaxis": {
            "backgroundcolor": "#E5ECF6",
            "gridcolor": "white",
            "gridwidth": 2,
            "linecolor": "white",
            "showbackground": true,
            "ticks": "",
            "zerolinecolor": "white"
           },
           "yaxis": {
            "backgroundcolor": "#E5ECF6",
            "gridcolor": "white",
            "gridwidth": 2,
            "linecolor": "white",
            "showbackground": true,
            "ticks": "",
            "zerolinecolor": "white"
           },
           "zaxis": {
            "backgroundcolor": "#E5ECF6",
            "gridcolor": "white",
            "gridwidth": 2,
            "linecolor": "white",
            "showbackground": true,
            "ticks": "",
            "zerolinecolor": "white"
           }
          },
          "shapedefaults": {
           "line": {
            "color": "#2a3f5f"
           }
          },
          "ternary": {
           "aaxis": {
            "gridcolor": "white",
            "linecolor": "white",
            "ticks": ""
           },
           "baxis": {
            "gridcolor": "white",
            "linecolor": "white",
            "ticks": ""
           },
           "bgcolor": "#E5ECF6",
           "caxis": {
            "gridcolor": "white",
            "linecolor": "white",
            "ticks": ""
           }
          },
          "title": {
           "x": 0.05
          },
          "xaxis": {
           "automargin": true,
           "gridcolor": "white",
           "linecolor": "white",
           "ticks": "",
           "title": {
            "standoff": 15
           },
           "zerolinecolor": "white",
           "zerolinewidth": 2
          },
          "yaxis": {
           "automargin": true,
           "gridcolor": "white",
           "linecolor": "white",
           "ticks": "",
           "title": {
            "standoff": 15
           },
           "zerolinecolor": "white",
           "zerolinewidth": 2
          }
         }
        },
        "title": {
         "text": "Baseline"
        }
       }
      },
      "text/html": [
       "<div>\n",
       "        \n",
       "        \n",
       "            <div id=\"d22cd455-6533-43ec-85d1-282f66c7435e\" class=\"plotly-graph-div\" style=\"height:525px; width:100%;\"></div>\n",
       "            <script type=\"text/javascript\">\n",
       "                require([\"plotly\"], function(Plotly) {\n",
       "                    window.PLOTLYENV=window.PLOTLYENV || {};\n",
       "                    \n",
       "                if (document.getElementById(\"d22cd455-6533-43ec-85d1-282f66c7435e\")) {\n",
       "                    Plotly.newPlot(\n",
       "                        'd22cd455-6533-43ec-85d1-282f66c7435e',\n",
       "                        [{\"type\": \"heatmap\", \"z\": [[2.9953701661343333, 3.1496237112664307, 3.3014277251463597, 5.775749759233768, 2.317756808718781], [3.2256025493459393, 2.8370202848097055, 10.695317754909711, 2.6228666046424776, 2.889745409505365], [3.4936393590801647, 15.300185414275267, 0.009592229372743165, 2.1365355577007303, 2.756003947833472], [2.955390590176351, 2.737872484804818, 2.783027145253194, 2.7961361047272737, 2.8311406417016225], [2.983944013491691, 2.6628380611373843, 2.73150093768462, 2.6360274194237117, 2.7447999568988792]], \"zmax\": 5, \"zmin\": 0.0}],\n",
       "                        {\"template\": {\"data\": {\"bar\": [{\"error_x\": {\"color\": \"#2a3f5f\"}, \"error_y\": {\"color\": \"#2a3f5f\"}, \"marker\": {\"line\": {\"color\": \"#E5ECF6\", \"width\": 0.5}}, \"type\": \"bar\"}], \"barpolar\": [{\"marker\": {\"line\": {\"color\": \"#E5ECF6\", \"width\": 0.5}}, \"type\": \"barpolar\"}], \"carpet\": [{\"aaxis\": {\"endlinecolor\": \"#2a3f5f\", \"gridcolor\": \"white\", \"linecolor\": \"white\", \"minorgridcolor\": \"white\", \"startlinecolor\": \"#2a3f5f\"}, \"baxis\": {\"endlinecolor\": \"#2a3f5f\", \"gridcolor\": \"white\", \"linecolor\": \"white\", \"minorgridcolor\": \"white\", \"startlinecolor\": \"#2a3f5f\"}, \"type\": \"carpet\"}], \"choropleth\": [{\"colorbar\": {\"outlinewidth\": 0, \"ticks\": \"\"}, \"type\": \"choropleth\"}], \"contour\": [{\"colorbar\": {\"outlinewidth\": 0, \"ticks\": \"\"}, \"colorscale\": [[0.0, \"#0d0887\"], [0.1111111111111111, \"#46039f\"], [0.2222222222222222, \"#7201a8\"], [0.3333333333333333, \"#9c179e\"], [0.4444444444444444, \"#bd3786\"], [0.5555555555555556, \"#d8576b\"], [0.6666666666666666, \"#ed7953\"], [0.7777777777777778, \"#fb9f3a\"], [0.8888888888888888, \"#fdca26\"], [1.0, \"#f0f921\"]], \"type\": \"contour\"}], \"contourcarpet\": [{\"colorbar\": {\"outlinewidth\": 0, \"ticks\": \"\"}, \"type\": \"contourcarpet\"}], \"heatmap\": [{\"colorbar\": {\"outlinewidth\": 0, \"ticks\": \"\"}, \"colorscale\": [[0.0, \"#0d0887\"], [0.1111111111111111, \"#46039f\"], [0.2222222222222222, \"#7201a8\"], [0.3333333333333333, \"#9c179e\"], [0.4444444444444444, \"#bd3786\"], [0.5555555555555556, \"#d8576b\"], [0.6666666666666666, \"#ed7953\"], [0.7777777777777778, \"#fb9f3a\"], [0.8888888888888888, \"#fdca26\"], [1.0, \"#f0f921\"]], \"type\": \"heatmap\"}], \"heatmapgl\": [{\"colorbar\": {\"outlinewidth\": 0, \"ticks\": \"\"}, \"colorscale\": [[0.0, \"#0d0887\"], [0.1111111111111111, \"#46039f\"], [0.2222222222222222, \"#7201a8\"], [0.3333333333333333, \"#9c179e\"], [0.4444444444444444, \"#bd3786\"], [0.5555555555555556, \"#d8576b\"], [0.6666666666666666, \"#ed7953\"], [0.7777777777777778, \"#fb9f3a\"], [0.8888888888888888, \"#fdca26\"], [1.0, \"#f0f921\"]], \"type\": \"heatmapgl\"}], \"histogram\": [{\"marker\": {\"colorbar\": {\"outlinewidth\": 0, \"ticks\": \"\"}}, \"type\": \"histogram\"}], \"histogram2d\": [{\"colorbar\": {\"outlinewidth\": 0, \"ticks\": \"\"}, \"colorscale\": [[0.0, \"#0d0887\"], [0.1111111111111111, \"#46039f\"], [0.2222222222222222, \"#7201a8\"], [0.3333333333333333, \"#9c179e\"], [0.4444444444444444, \"#bd3786\"], [0.5555555555555556, \"#d8576b\"], [0.6666666666666666, \"#ed7953\"], [0.7777777777777778, \"#fb9f3a\"], [0.8888888888888888, \"#fdca26\"], [1.0, \"#f0f921\"]], \"type\": \"histogram2d\"}], \"histogram2dcontour\": [{\"colorbar\": {\"outlinewidth\": 0, \"ticks\": \"\"}, \"colorscale\": [[0.0, \"#0d0887\"], [0.1111111111111111, \"#46039f\"], [0.2222222222222222, \"#7201a8\"], [0.3333333333333333, \"#9c179e\"], [0.4444444444444444, \"#bd3786\"], [0.5555555555555556, \"#d8576b\"], [0.6666666666666666, \"#ed7953\"], [0.7777777777777778, \"#fb9f3a\"], [0.8888888888888888, \"#fdca26\"], [1.0, \"#f0f921\"]], \"type\": \"histogram2dcontour\"}], \"mesh3d\": [{\"colorbar\": {\"outlinewidth\": 0, \"ticks\": \"\"}, \"type\": \"mesh3d\"}], \"parcoords\": [{\"line\": {\"colorbar\": {\"outlinewidth\": 0, \"ticks\": \"\"}}, \"type\": \"parcoords\"}], \"pie\": [{\"automargin\": true, \"type\": \"pie\"}], \"scatter\": [{\"marker\": {\"colorbar\": {\"outlinewidth\": 0, \"ticks\": \"\"}}, \"type\": \"scatter\"}], \"scatter3d\": [{\"line\": {\"colorbar\": {\"outlinewidth\": 0, \"ticks\": \"\"}}, \"marker\": {\"colorbar\": {\"outlinewidth\": 0, \"ticks\": \"\"}}, \"type\": \"scatter3d\"}], \"scattercarpet\": [{\"marker\": {\"colorbar\": {\"outlinewidth\": 0, \"ticks\": \"\"}}, \"type\": \"scattercarpet\"}], \"scattergeo\": [{\"marker\": {\"colorbar\": {\"outlinewidth\": 0, \"ticks\": \"\"}}, \"type\": \"scattergeo\"}], \"scattergl\": [{\"marker\": {\"colorbar\": {\"outlinewidth\": 0, \"ticks\": \"\"}}, \"type\": \"scattergl\"}], \"scattermapbox\": [{\"marker\": {\"colorbar\": {\"outlinewidth\": 0, \"ticks\": \"\"}}, \"type\": \"scattermapbox\"}], \"scatterpolar\": [{\"marker\": {\"colorbar\": {\"outlinewidth\": 0, \"ticks\": \"\"}}, \"type\": \"scatterpolar\"}], \"scatterpolargl\": [{\"marker\": {\"colorbar\": {\"outlinewidth\": 0, \"ticks\": \"\"}}, \"type\": \"scatterpolargl\"}], \"scatterternary\": [{\"marker\": {\"colorbar\": {\"outlinewidth\": 0, \"ticks\": \"\"}}, \"type\": \"scatterternary\"}], \"surface\": [{\"colorbar\": {\"outlinewidth\": 0, \"ticks\": \"\"}, \"colorscale\": [[0.0, \"#0d0887\"], [0.1111111111111111, \"#46039f\"], [0.2222222222222222, \"#7201a8\"], [0.3333333333333333, \"#9c179e\"], [0.4444444444444444, \"#bd3786\"], [0.5555555555555556, \"#d8576b\"], [0.6666666666666666, \"#ed7953\"], [0.7777777777777778, \"#fb9f3a\"], [0.8888888888888888, \"#fdca26\"], [1.0, \"#f0f921\"]], \"type\": \"surface\"}], \"table\": [{\"cells\": {\"fill\": {\"color\": \"#EBF0F8\"}, \"line\": {\"color\": \"white\"}}, \"header\": {\"fill\": {\"color\": \"#C8D4E3\"}, \"line\": {\"color\": \"white\"}}, \"type\": \"table\"}]}, \"layout\": {\"annotationdefaults\": {\"arrowcolor\": \"#2a3f5f\", \"arrowhead\": 0, \"arrowwidth\": 1}, \"coloraxis\": {\"colorbar\": {\"outlinewidth\": 0, \"ticks\": \"\"}}, \"colorscale\": {\"diverging\": [[0, \"#8e0152\"], [0.1, \"#c51b7d\"], [0.2, \"#de77ae\"], [0.3, \"#f1b6da\"], [0.4, \"#fde0ef\"], [0.5, \"#f7f7f7\"], [0.6, \"#e6f5d0\"], [0.7, \"#b8e186\"], [0.8, \"#7fbc41\"], [0.9, \"#4d9221\"], [1, \"#276419\"]], \"sequential\": [[0.0, \"#0d0887\"], [0.1111111111111111, \"#46039f\"], [0.2222222222222222, \"#7201a8\"], [0.3333333333333333, \"#9c179e\"], [0.4444444444444444, \"#bd3786\"], [0.5555555555555556, \"#d8576b\"], [0.6666666666666666, \"#ed7953\"], [0.7777777777777778, \"#fb9f3a\"], [0.8888888888888888, \"#fdca26\"], [1.0, \"#f0f921\"]], \"sequentialminus\": [[0.0, \"#0d0887\"], [0.1111111111111111, \"#46039f\"], [0.2222222222222222, \"#7201a8\"], [0.3333333333333333, \"#9c179e\"], [0.4444444444444444, \"#bd3786\"], [0.5555555555555556, \"#d8576b\"], [0.6666666666666666, \"#ed7953\"], [0.7777777777777778, \"#fb9f3a\"], [0.8888888888888888, \"#fdca26\"], [1.0, \"#f0f921\"]]}, \"colorway\": [\"#636efa\", \"#EF553B\", \"#00cc96\", \"#ab63fa\", \"#FFA15A\", \"#19d3f3\", \"#FF6692\", \"#B6E880\", \"#FF97FF\", \"#FECB52\"], \"font\": {\"color\": \"#2a3f5f\"}, \"geo\": {\"bgcolor\": \"white\", \"lakecolor\": \"white\", \"landcolor\": \"#E5ECF6\", \"showlakes\": true, \"showland\": true, \"subunitcolor\": \"white\"}, \"hoverlabel\": {\"align\": \"left\"}, \"hovermode\": \"closest\", \"mapbox\": {\"style\": \"light\"}, \"paper_bgcolor\": \"white\", \"plot_bgcolor\": \"#E5ECF6\", \"polar\": {\"angularaxis\": {\"gridcolor\": \"white\", \"linecolor\": \"white\", \"ticks\": \"\"}, \"bgcolor\": \"#E5ECF6\", \"radialaxis\": {\"gridcolor\": \"white\", \"linecolor\": \"white\", \"ticks\": \"\"}}, \"scene\": {\"xaxis\": {\"backgroundcolor\": \"#E5ECF6\", \"gridcolor\": \"white\", \"gridwidth\": 2, \"linecolor\": \"white\", \"showbackground\": true, \"ticks\": \"\", \"zerolinecolor\": \"white\"}, \"yaxis\": {\"backgroundcolor\": \"#E5ECF6\", \"gridcolor\": \"white\", \"gridwidth\": 2, \"linecolor\": \"white\", \"showbackground\": true, \"ticks\": \"\", \"zerolinecolor\": \"white\"}, \"zaxis\": {\"backgroundcolor\": \"#E5ECF6\", \"gridcolor\": \"white\", \"gridwidth\": 2, \"linecolor\": \"white\", \"showbackground\": true, \"ticks\": \"\", \"zerolinecolor\": \"white\"}}, \"shapedefaults\": {\"line\": {\"color\": \"#2a3f5f\"}}, \"ternary\": {\"aaxis\": {\"gridcolor\": \"white\", \"linecolor\": \"white\", \"ticks\": \"\"}, \"baxis\": {\"gridcolor\": \"white\", \"linecolor\": \"white\", \"ticks\": \"\"}, \"bgcolor\": \"#E5ECF6\", \"caxis\": {\"gridcolor\": \"white\", \"linecolor\": \"white\", \"ticks\": \"\"}}, \"title\": {\"x\": 0.05}, \"xaxis\": {\"automargin\": true, \"gridcolor\": \"white\", \"linecolor\": \"white\", \"ticks\": \"\", \"title\": {\"standoff\": 15}, \"zerolinecolor\": \"white\", \"zerolinewidth\": 2}, \"yaxis\": {\"automargin\": true, \"gridcolor\": \"white\", \"linecolor\": \"white\", \"ticks\": \"\", \"title\": {\"standoff\": 15}, \"zerolinecolor\": \"white\", \"zerolinewidth\": 2}}}, \"title\": {\"text\": \"Baseline\"}},\n",
       "                        {\"responsive\": true}\n",
       "                    ).then(function(){\n",
       "                            \n",
       "var gd = document.getElementById('d22cd455-6533-43ec-85d1-282f66c7435e');\n",
       "var x = new MutationObserver(function (mutations, observer) {{\n",
       "        var display = window.getComputedStyle(gd).display;\n",
       "        if (!display || display === 'none') {{\n",
       "            console.log([gd, 'removed!']);\n",
       "            Plotly.purge(gd);\n",
       "            observer.disconnect();\n",
       "        }}\n",
       "}});\n",
       "\n",
       "// Listen for the removal of the full notebook cells\n",
       "var notebookContainer = gd.closest('#notebook-container');\n",
       "if (notebookContainer) {{\n",
       "    x.observe(notebookContainer, {childList: true});\n",
       "}}\n",
       "\n",
       "// Listen for the clearing of the current output cell\n",
       "var outputEl = gd.closest('.output');\n",
       "if (outputEl) {{\n",
       "    x.observe(outputEl, {childList: true});\n",
       "}}\n",
       "\n",
       "                        })\n",
       "                };\n",
       "                });\n",
       "            </script>\n",
       "        </div>"
      ]
     },
     "metadata": {},
     "output_type": "display_data"
    },
    {
     "data": {
      "application/vnd.plotly.v1+json": {
       "config": {
        "plotlyServerURL": "https://plot.ly"
       },
       "data": [
        {
         "type": "heatmap",
         "z": [
          [
           3.010661639898272,
           3.1331040073070606,
           3.1778836430507442,
           3.096374981854973,
           2.757248251810289
          ],
          [
           3.18090293472963,
           2.5493942541806582,
           2.634058853953459,
           2.5825948796382825,
           1.8998220563195376
          ],
          [
           1.9933679352211633,
           2.363428300873361,
           0.0011911205050229839,
           15.300168596129602,
           1.9951186781887085
          ],
          [
           2.143709758693311,
           2.362061972707897,
           10.695356291916752,
           10.957934042408217,
           2.0278690638593946
          ],
          [
           2.426086184720572,
           2.2807833204917576,
           2.105826551639636,
           2.625671008237257,
           2.4766880399783484
          ]
         ],
         "zmax": 5,
         "zmin": 0
        }
       ],
       "layout": {
        "template": {
         "data": {
          "bar": [
           {
            "error_x": {
             "color": "#2a3f5f"
            },
            "error_y": {
             "color": "#2a3f5f"
            },
            "marker": {
             "line": {
              "color": "#E5ECF6",
              "width": 0.5
             }
            },
            "type": "bar"
           }
          ],
          "barpolar": [
           {
            "marker": {
             "line": {
              "color": "#E5ECF6",
              "width": 0.5
             }
            },
            "type": "barpolar"
           }
          ],
          "carpet": [
           {
            "aaxis": {
             "endlinecolor": "#2a3f5f",
             "gridcolor": "white",
             "linecolor": "white",
             "minorgridcolor": "white",
             "startlinecolor": "#2a3f5f"
            },
            "baxis": {
             "endlinecolor": "#2a3f5f",
             "gridcolor": "white",
             "linecolor": "white",
             "minorgridcolor": "white",
             "startlinecolor": "#2a3f5f"
            },
            "type": "carpet"
           }
          ],
          "choropleth": [
           {
            "colorbar": {
             "outlinewidth": 0,
             "ticks": ""
            },
            "type": "choropleth"
           }
          ],
          "contour": [
           {
            "colorbar": {
             "outlinewidth": 0,
             "ticks": ""
            },
            "colorscale": [
             [
              0,
              "#0d0887"
             ],
             [
              0.1111111111111111,
              "#46039f"
             ],
             [
              0.2222222222222222,
              "#7201a8"
             ],
             [
              0.3333333333333333,
              "#9c179e"
             ],
             [
              0.4444444444444444,
              "#bd3786"
             ],
             [
              0.5555555555555556,
              "#d8576b"
             ],
             [
              0.6666666666666666,
              "#ed7953"
             ],
             [
              0.7777777777777778,
              "#fb9f3a"
             ],
             [
              0.8888888888888888,
              "#fdca26"
             ],
             [
              1,
              "#f0f921"
             ]
            ],
            "type": "contour"
           }
          ],
          "contourcarpet": [
           {
            "colorbar": {
             "outlinewidth": 0,
             "ticks": ""
            },
            "type": "contourcarpet"
           }
          ],
          "heatmap": [
           {
            "colorbar": {
             "outlinewidth": 0,
             "ticks": ""
            },
            "colorscale": [
             [
              0,
              "#0d0887"
             ],
             [
              0.1111111111111111,
              "#46039f"
             ],
             [
              0.2222222222222222,
              "#7201a8"
             ],
             [
              0.3333333333333333,
              "#9c179e"
             ],
             [
              0.4444444444444444,
              "#bd3786"
             ],
             [
              0.5555555555555556,
              "#d8576b"
             ],
             [
              0.6666666666666666,
              "#ed7953"
             ],
             [
              0.7777777777777778,
              "#fb9f3a"
             ],
             [
              0.8888888888888888,
              "#fdca26"
             ],
             [
              1,
              "#f0f921"
             ]
            ],
            "type": "heatmap"
           }
          ],
          "heatmapgl": [
           {
            "colorbar": {
             "outlinewidth": 0,
             "ticks": ""
            },
            "colorscale": [
             [
              0,
              "#0d0887"
             ],
             [
              0.1111111111111111,
              "#46039f"
             ],
             [
              0.2222222222222222,
              "#7201a8"
             ],
             [
              0.3333333333333333,
              "#9c179e"
             ],
             [
              0.4444444444444444,
              "#bd3786"
             ],
             [
              0.5555555555555556,
              "#d8576b"
             ],
             [
              0.6666666666666666,
              "#ed7953"
             ],
             [
              0.7777777777777778,
              "#fb9f3a"
             ],
             [
              0.8888888888888888,
              "#fdca26"
             ],
             [
              1,
              "#f0f921"
             ]
            ],
            "type": "heatmapgl"
           }
          ],
          "histogram": [
           {
            "marker": {
             "colorbar": {
              "outlinewidth": 0,
              "ticks": ""
             }
            },
            "type": "histogram"
           }
          ],
          "histogram2d": [
           {
            "colorbar": {
             "outlinewidth": 0,
             "ticks": ""
            },
            "colorscale": [
             [
              0,
              "#0d0887"
             ],
             [
              0.1111111111111111,
              "#46039f"
             ],
             [
              0.2222222222222222,
              "#7201a8"
             ],
             [
              0.3333333333333333,
              "#9c179e"
             ],
             [
              0.4444444444444444,
              "#bd3786"
             ],
             [
              0.5555555555555556,
              "#d8576b"
             ],
             [
              0.6666666666666666,
              "#ed7953"
             ],
             [
              0.7777777777777778,
              "#fb9f3a"
             ],
             [
              0.8888888888888888,
              "#fdca26"
             ],
             [
              1,
              "#f0f921"
             ]
            ],
            "type": "histogram2d"
           }
          ],
          "histogram2dcontour": [
           {
            "colorbar": {
             "outlinewidth": 0,
             "ticks": ""
            },
            "colorscale": [
             [
              0,
              "#0d0887"
             ],
             [
              0.1111111111111111,
              "#46039f"
             ],
             [
              0.2222222222222222,
              "#7201a8"
             ],
             [
              0.3333333333333333,
              "#9c179e"
             ],
             [
              0.4444444444444444,
              "#bd3786"
             ],
             [
              0.5555555555555556,
              "#d8576b"
             ],
             [
              0.6666666666666666,
              "#ed7953"
             ],
             [
              0.7777777777777778,
              "#fb9f3a"
             ],
             [
              0.8888888888888888,
              "#fdca26"
             ],
             [
              1,
              "#f0f921"
             ]
            ],
            "type": "histogram2dcontour"
           }
          ],
          "mesh3d": [
           {
            "colorbar": {
             "outlinewidth": 0,
             "ticks": ""
            },
            "type": "mesh3d"
           }
          ],
          "parcoords": [
           {
            "line": {
             "colorbar": {
              "outlinewidth": 0,
              "ticks": ""
             }
            },
            "type": "parcoords"
           }
          ],
          "pie": [
           {
            "automargin": true,
            "type": "pie"
           }
          ],
          "scatter": [
           {
            "marker": {
             "colorbar": {
              "outlinewidth": 0,
              "ticks": ""
             }
            },
            "type": "scatter"
           }
          ],
          "scatter3d": [
           {
            "line": {
             "colorbar": {
              "outlinewidth": 0,
              "ticks": ""
             }
            },
            "marker": {
             "colorbar": {
              "outlinewidth": 0,
              "ticks": ""
             }
            },
            "type": "scatter3d"
           }
          ],
          "scattercarpet": [
           {
            "marker": {
             "colorbar": {
              "outlinewidth": 0,
              "ticks": ""
             }
            },
            "type": "scattercarpet"
           }
          ],
          "scattergeo": [
           {
            "marker": {
             "colorbar": {
              "outlinewidth": 0,
              "ticks": ""
             }
            },
            "type": "scattergeo"
           }
          ],
          "scattergl": [
           {
            "marker": {
             "colorbar": {
              "outlinewidth": 0,
              "ticks": ""
             }
            },
            "type": "scattergl"
           }
          ],
          "scattermapbox": [
           {
            "marker": {
             "colorbar": {
              "outlinewidth": 0,
              "ticks": ""
             }
            },
            "type": "scattermapbox"
           }
          ],
          "scatterpolar": [
           {
            "marker": {
             "colorbar": {
              "outlinewidth": 0,
              "ticks": ""
             }
            },
            "type": "scatterpolar"
           }
          ],
          "scatterpolargl": [
           {
            "marker": {
             "colorbar": {
              "outlinewidth": 0,
              "ticks": ""
             }
            },
            "type": "scatterpolargl"
           }
          ],
          "scatterternary": [
           {
            "marker": {
             "colorbar": {
              "outlinewidth": 0,
              "ticks": ""
             }
            },
            "type": "scatterternary"
           }
          ],
          "surface": [
           {
            "colorbar": {
             "outlinewidth": 0,
             "ticks": ""
            },
            "colorscale": [
             [
              0,
              "#0d0887"
             ],
             [
              0.1111111111111111,
              "#46039f"
             ],
             [
              0.2222222222222222,
              "#7201a8"
             ],
             [
              0.3333333333333333,
              "#9c179e"
             ],
             [
              0.4444444444444444,
              "#bd3786"
             ],
             [
              0.5555555555555556,
              "#d8576b"
             ],
             [
              0.6666666666666666,
              "#ed7953"
             ],
             [
              0.7777777777777778,
              "#fb9f3a"
             ],
             [
              0.8888888888888888,
              "#fdca26"
             ],
             [
              1,
              "#f0f921"
             ]
            ],
            "type": "surface"
           }
          ],
          "table": [
           {
            "cells": {
             "fill": {
              "color": "#EBF0F8"
             },
             "line": {
              "color": "white"
             }
            },
            "header": {
             "fill": {
              "color": "#C8D4E3"
             },
             "line": {
              "color": "white"
             }
            },
            "type": "table"
           }
          ]
         },
         "layout": {
          "annotationdefaults": {
           "arrowcolor": "#2a3f5f",
           "arrowhead": 0,
           "arrowwidth": 1
          },
          "coloraxis": {
           "colorbar": {
            "outlinewidth": 0,
            "ticks": ""
           }
          },
          "colorscale": {
           "diverging": [
            [
             0,
             "#8e0152"
            ],
            [
             0.1,
             "#c51b7d"
            ],
            [
             0.2,
             "#de77ae"
            ],
            [
             0.3,
             "#f1b6da"
            ],
            [
             0.4,
             "#fde0ef"
            ],
            [
             0.5,
             "#f7f7f7"
            ],
            [
             0.6,
             "#e6f5d0"
            ],
            [
             0.7,
             "#b8e186"
            ],
            [
             0.8,
             "#7fbc41"
            ],
            [
             0.9,
             "#4d9221"
            ],
            [
             1,
             "#276419"
            ]
           ],
           "sequential": [
            [
             0,
             "#0d0887"
            ],
            [
             0.1111111111111111,
             "#46039f"
            ],
            [
             0.2222222222222222,
             "#7201a8"
            ],
            [
             0.3333333333333333,
             "#9c179e"
            ],
            [
             0.4444444444444444,
             "#bd3786"
            ],
            [
             0.5555555555555556,
             "#d8576b"
            ],
            [
             0.6666666666666666,
             "#ed7953"
            ],
            [
             0.7777777777777778,
             "#fb9f3a"
            ],
            [
             0.8888888888888888,
             "#fdca26"
            ],
            [
             1,
             "#f0f921"
            ]
           ],
           "sequentialminus": [
            [
             0,
             "#0d0887"
            ],
            [
             0.1111111111111111,
             "#46039f"
            ],
            [
             0.2222222222222222,
             "#7201a8"
            ],
            [
             0.3333333333333333,
             "#9c179e"
            ],
            [
             0.4444444444444444,
             "#bd3786"
            ],
            [
             0.5555555555555556,
             "#d8576b"
            ],
            [
             0.6666666666666666,
             "#ed7953"
            ],
            [
             0.7777777777777778,
             "#fb9f3a"
            ],
            [
             0.8888888888888888,
             "#fdca26"
            ],
            [
             1,
             "#f0f921"
            ]
           ]
          },
          "colorway": [
           "#636efa",
           "#EF553B",
           "#00cc96",
           "#ab63fa",
           "#FFA15A",
           "#19d3f3",
           "#FF6692",
           "#B6E880",
           "#FF97FF",
           "#FECB52"
          ],
          "font": {
           "color": "#2a3f5f"
          },
          "geo": {
           "bgcolor": "white",
           "lakecolor": "white",
           "landcolor": "#E5ECF6",
           "showlakes": true,
           "showland": true,
           "subunitcolor": "white"
          },
          "hoverlabel": {
           "align": "left"
          },
          "hovermode": "closest",
          "mapbox": {
           "style": "light"
          },
          "paper_bgcolor": "white",
          "plot_bgcolor": "#E5ECF6",
          "polar": {
           "angularaxis": {
            "gridcolor": "white",
            "linecolor": "white",
            "ticks": ""
           },
           "bgcolor": "#E5ECF6",
           "radialaxis": {
            "gridcolor": "white",
            "linecolor": "white",
            "ticks": ""
           }
          },
          "scene": {
           "xaxis": {
            "backgroundcolor": "#E5ECF6",
            "gridcolor": "white",
            "gridwidth": 2,
            "linecolor": "white",
            "showbackground": true,
            "ticks": "",
            "zerolinecolor": "white"
           },
           "yaxis": {
            "backgroundcolor": "#E5ECF6",
            "gridcolor": "white",
            "gridwidth": 2,
            "linecolor": "white",
            "showbackground": true,
            "ticks": "",
            "zerolinecolor": "white"
           },
           "zaxis": {
            "backgroundcolor": "#E5ECF6",
            "gridcolor": "white",
            "gridwidth": 2,
            "linecolor": "white",
            "showbackground": true,
            "ticks": "",
            "zerolinecolor": "white"
           }
          },
          "shapedefaults": {
           "line": {
            "color": "#2a3f5f"
           }
          },
          "ternary": {
           "aaxis": {
            "gridcolor": "white",
            "linecolor": "white",
            "ticks": ""
           },
           "baxis": {
            "gridcolor": "white",
            "linecolor": "white",
            "ticks": ""
           },
           "bgcolor": "#E5ECF6",
           "caxis": {
            "gridcolor": "white",
            "linecolor": "white",
            "ticks": ""
           }
          },
          "title": {
           "x": 0.05
          },
          "xaxis": {
           "automargin": true,
           "gridcolor": "white",
           "linecolor": "white",
           "ticks": "",
           "title": {
            "standoff": 15
           },
           "zerolinecolor": "white",
           "zerolinewidth": 2
          },
          "yaxis": {
           "automargin": true,
           "gridcolor": "white",
           "linecolor": "white",
           "ticks": "",
           "title": {
            "standoff": 15
           },
           "zerolinecolor": "white",
           "zerolinewidth": 2
          }
         }
        },
        "title": {
         "text": "Adversarial"
        }
       }
      },
      "text/html": [
       "<div>\n",
       "        \n",
       "        \n",
       "            <div id=\"3c469d30-5369-4894-ae27-97081310d8b0\" class=\"plotly-graph-div\" style=\"height:525px; width:100%;\"></div>\n",
       "            <script type=\"text/javascript\">\n",
       "                require([\"plotly\"], function(Plotly) {\n",
       "                    window.PLOTLYENV=window.PLOTLYENV || {};\n",
       "                    \n",
       "                if (document.getElementById(\"3c469d30-5369-4894-ae27-97081310d8b0\")) {\n",
       "                    Plotly.newPlot(\n",
       "                        '3c469d30-5369-4894-ae27-97081310d8b0',\n",
       "                        [{\"type\": \"heatmap\", \"z\": [[3.010661639898272, 3.1331040073070606, 3.1778836430507442, 3.096374981854973, 2.757248251810289], [3.18090293472963, 2.5493942541806582, 2.634058853953459, 2.5825948796382825, 1.8998220563195376], [1.9933679352211633, 2.363428300873361, 0.0011911205050229839, 15.300168596129602, 1.9951186781887085], [2.143709758693311, 2.362061972707897, 10.695356291916752, 10.957934042408217, 2.0278690638593946], [2.426086184720572, 2.2807833204917576, 2.105826551639636, 2.625671008237257, 2.4766880399783484]], \"zmax\": 5, \"zmin\": 0.0}],\n",
       "                        {\"template\": {\"data\": {\"bar\": [{\"error_x\": {\"color\": \"#2a3f5f\"}, \"error_y\": {\"color\": \"#2a3f5f\"}, \"marker\": {\"line\": {\"color\": \"#E5ECF6\", \"width\": 0.5}}, \"type\": \"bar\"}], \"barpolar\": [{\"marker\": {\"line\": {\"color\": \"#E5ECF6\", \"width\": 0.5}}, \"type\": \"barpolar\"}], \"carpet\": [{\"aaxis\": {\"endlinecolor\": \"#2a3f5f\", \"gridcolor\": \"white\", \"linecolor\": \"white\", \"minorgridcolor\": \"white\", \"startlinecolor\": \"#2a3f5f\"}, \"baxis\": {\"endlinecolor\": \"#2a3f5f\", \"gridcolor\": \"white\", \"linecolor\": \"white\", \"minorgridcolor\": \"white\", \"startlinecolor\": \"#2a3f5f\"}, \"type\": \"carpet\"}], \"choropleth\": [{\"colorbar\": {\"outlinewidth\": 0, \"ticks\": \"\"}, \"type\": \"choropleth\"}], \"contour\": [{\"colorbar\": {\"outlinewidth\": 0, \"ticks\": \"\"}, \"colorscale\": [[0.0, \"#0d0887\"], [0.1111111111111111, \"#46039f\"], [0.2222222222222222, \"#7201a8\"], [0.3333333333333333, \"#9c179e\"], [0.4444444444444444, \"#bd3786\"], [0.5555555555555556, \"#d8576b\"], [0.6666666666666666, \"#ed7953\"], [0.7777777777777778, \"#fb9f3a\"], [0.8888888888888888, \"#fdca26\"], [1.0, \"#f0f921\"]], \"type\": \"contour\"}], \"contourcarpet\": [{\"colorbar\": {\"outlinewidth\": 0, \"ticks\": \"\"}, \"type\": \"contourcarpet\"}], \"heatmap\": [{\"colorbar\": {\"outlinewidth\": 0, \"ticks\": \"\"}, \"colorscale\": [[0.0, \"#0d0887\"], [0.1111111111111111, \"#46039f\"], [0.2222222222222222, \"#7201a8\"], [0.3333333333333333, \"#9c179e\"], [0.4444444444444444, \"#bd3786\"], [0.5555555555555556, \"#d8576b\"], [0.6666666666666666, \"#ed7953\"], [0.7777777777777778, \"#fb9f3a\"], [0.8888888888888888, \"#fdca26\"], [1.0, \"#f0f921\"]], \"type\": \"heatmap\"}], \"heatmapgl\": [{\"colorbar\": {\"outlinewidth\": 0, \"ticks\": \"\"}, \"colorscale\": [[0.0, \"#0d0887\"], [0.1111111111111111, \"#46039f\"], [0.2222222222222222, \"#7201a8\"], [0.3333333333333333, \"#9c179e\"], [0.4444444444444444, \"#bd3786\"], [0.5555555555555556, \"#d8576b\"], [0.6666666666666666, \"#ed7953\"], [0.7777777777777778, \"#fb9f3a\"], [0.8888888888888888, \"#fdca26\"], [1.0, \"#f0f921\"]], \"type\": \"heatmapgl\"}], \"histogram\": [{\"marker\": {\"colorbar\": {\"outlinewidth\": 0, \"ticks\": \"\"}}, \"type\": \"histogram\"}], \"histogram2d\": [{\"colorbar\": {\"outlinewidth\": 0, \"ticks\": \"\"}, \"colorscale\": [[0.0, \"#0d0887\"], [0.1111111111111111, \"#46039f\"], [0.2222222222222222, \"#7201a8\"], [0.3333333333333333, \"#9c179e\"], [0.4444444444444444, \"#bd3786\"], [0.5555555555555556, \"#d8576b\"], [0.6666666666666666, \"#ed7953\"], [0.7777777777777778, \"#fb9f3a\"], [0.8888888888888888, \"#fdca26\"], [1.0, \"#f0f921\"]], \"type\": \"histogram2d\"}], \"histogram2dcontour\": [{\"colorbar\": {\"outlinewidth\": 0, \"ticks\": \"\"}, \"colorscale\": [[0.0, \"#0d0887\"], [0.1111111111111111, \"#46039f\"], [0.2222222222222222, \"#7201a8\"], [0.3333333333333333, \"#9c179e\"], [0.4444444444444444, \"#bd3786\"], [0.5555555555555556, \"#d8576b\"], [0.6666666666666666, \"#ed7953\"], [0.7777777777777778, \"#fb9f3a\"], [0.8888888888888888, \"#fdca26\"], [1.0, \"#f0f921\"]], \"type\": \"histogram2dcontour\"}], \"mesh3d\": [{\"colorbar\": {\"outlinewidth\": 0, \"ticks\": \"\"}, \"type\": \"mesh3d\"}], \"parcoords\": [{\"line\": {\"colorbar\": {\"outlinewidth\": 0, \"ticks\": \"\"}}, \"type\": \"parcoords\"}], \"pie\": [{\"automargin\": true, \"type\": \"pie\"}], \"scatter\": [{\"marker\": {\"colorbar\": {\"outlinewidth\": 0, \"ticks\": \"\"}}, \"type\": \"scatter\"}], \"scatter3d\": [{\"line\": {\"colorbar\": {\"outlinewidth\": 0, \"ticks\": \"\"}}, \"marker\": {\"colorbar\": {\"outlinewidth\": 0, \"ticks\": \"\"}}, \"type\": \"scatter3d\"}], \"scattercarpet\": [{\"marker\": {\"colorbar\": {\"outlinewidth\": 0, \"ticks\": \"\"}}, \"type\": \"scattercarpet\"}], \"scattergeo\": [{\"marker\": {\"colorbar\": {\"outlinewidth\": 0, \"ticks\": \"\"}}, \"type\": \"scattergeo\"}], \"scattergl\": [{\"marker\": {\"colorbar\": {\"outlinewidth\": 0, \"ticks\": \"\"}}, \"type\": \"scattergl\"}], \"scattermapbox\": [{\"marker\": {\"colorbar\": {\"outlinewidth\": 0, \"ticks\": \"\"}}, \"type\": \"scattermapbox\"}], \"scatterpolar\": [{\"marker\": {\"colorbar\": {\"outlinewidth\": 0, \"ticks\": \"\"}}, \"type\": \"scatterpolar\"}], \"scatterpolargl\": [{\"marker\": {\"colorbar\": {\"outlinewidth\": 0, \"ticks\": \"\"}}, \"type\": \"scatterpolargl\"}], \"scatterternary\": [{\"marker\": {\"colorbar\": {\"outlinewidth\": 0, \"ticks\": \"\"}}, \"type\": \"scatterternary\"}], \"surface\": [{\"colorbar\": {\"outlinewidth\": 0, \"ticks\": \"\"}, \"colorscale\": [[0.0, \"#0d0887\"], [0.1111111111111111, \"#46039f\"], [0.2222222222222222, \"#7201a8\"], [0.3333333333333333, \"#9c179e\"], [0.4444444444444444, \"#bd3786\"], [0.5555555555555556, \"#d8576b\"], [0.6666666666666666, \"#ed7953\"], [0.7777777777777778, \"#fb9f3a\"], [0.8888888888888888, \"#fdca26\"], [1.0, \"#f0f921\"]], \"type\": \"surface\"}], \"table\": [{\"cells\": {\"fill\": {\"color\": \"#EBF0F8\"}, \"line\": {\"color\": \"white\"}}, \"header\": {\"fill\": {\"color\": \"#C8D4E3\"}, \"line\": {\"color\": \"white\"}}, \"type\": \"table\"}]}, \"layout\": {\"annotationdefaults\": {\"arrowcolor\": \"#2a3f5f\", \"arrowhead\": 0, \"arrowwidth\": 1}, \"coloraxis\": {\"colorbar\": {\"outlinewidth\": 0, \"ticks\": \"\"}}, \"colorscale\": {\"diverging\": [[0, \"#8e0152\"], [0.1, \"#c51b7d\"], [0.2, \"#de77ae\"], [0.3, \"#f1b6da\"], [0.4, \"#fde0ef\"], [0.5, \"#f7f7f7\"], [0.6, \"#e6f5d0\"], [0.7, \"#b8e186\"], [0.8, \"#7fbc41\"], [0.9, \"#4d9221\"], [1, \"#276419\"]], \"sequential\": [[0.0, \"#0d0887\"], [0.1111111111111111, \"#46039f\"], [0.2222222222222222, \"#7201a8\"], [0.3333333333333333, \"#9c179e\"], [0.4444444444444444, \"#bd3786\"], [0.5555555555555556, \"#d8576b\"], [0.6666666666666666, \"#ed7953\"], [0.7777777777777778, \"#fb9f3a\"], [0.8888888888888888, \"#fdca26\"], [1.0, \"#f0f921\"]], \"sequentialminus\": [[0.0, \"#0d0887\"], [0.1111111111111111, \"#46039f\"], [0.2222222222222222, \"#7201a8\"], [0.3333333333333333, \"#9c179e\"], [0.4444444444444444, \"#bd3786\"], [0.5555555555555556, \"#d8576b\"], [0.6666666666666666, \"#ed7953\"], [0.7777777777777778, \"#fb9f3a\"], [0.8888888888888888, \"#fdca26\"], [1.0, \"#f0f921\"]]}, \"colorway\": [\"#636efa\", \"#EF553B\", \"#00cc96\", \"#ab63fa\", \"#FFA15A\", \"#19d3f3\", \"#FF6692\", \"#B6E880\", \"#FF97FF\", \"#FECB52\"], \"font\": {\"color\": \"#2a3f5f\"}, \"geo\": {\"bgcolor\": \"white\", \"lakecolor\": \"white\", \"landcolor\": \"#E5ECF6\", \"showlakes\": true, \"showland\": true, \"subunitcolor\": \"white\"}, \"hoverlabel\": {\"align\": \"left\"}, \"hovermode\": \"closest\", \"mapbox\": {\"style\": \"light\"}, \"paper_bgcolor\": \"white\", \"plot_bgcolor\": \"#E5ECF6\", \"polar\": {\"angularaxis\": {\"gridcolor\": \"white\", \"linecolor\": \"white\", \"ticks\": \"\"}, \"bgcolor\": \"#E5ECF6\", \"radialaxis\": {\"gridcolor\": \"white\", \"linecolor\": \"white\", \"ticks\": \"\"}}, \"scene\": {\"xaxis\": {\"backgroundcolor\": \"#E5ECF6\", \"gridcolor\": \"white\", \"gridwidth\": 2, \"linecolor\": \"white\", \"showbackground\": true, \"ticks\": \"\", \"zerolinecolor\": \"white\"}, \"yaxis\": {\"backgroundcolor\": \"#E5ECF6\", \"gridcolor\": \"white\", \"gridwidth\": 2, \"linecolor\": \"white\", \"showbackground\": true, \"ticks\": \"\", \"zerolinecolor\": \"white\"}, \"zaxis\": {\"backgroundcolor\": \"#E5ECF6\", \"gridcolor\": \"white\", \"gridwidth\": 2, \"linecolor\": \"white\", \"showbackground\": true, \"ticks\": \"\", \"zerolinecolor\": \"white\"}}, \"shapedefaults\": {\"line\": {\"color\": \"#2a3f5f\"}}, \"ternary\": {\"aaxis\": {\"gridcolor\": \"white\", \"linecolor\": \"white\", \"ticks\": \"\"}, \"baxis\": {\"gridcolor\": \"white\", \"linecolor\": \"white\", \"ticks\": \"\"}, \"bgcolor\": \"#E5ECF6\", \"caxis\": {\"gridcolor\": \"white\", \"linecolor\": \"white\", \"ticks\": \"\"}}, \"title\": {\"x\": 0.05}, \"xaxis\": {\"automargin\": true, \"gridcolor\": \"white\", \"linecolor\": \"white\", \"ticks\": \"\", \"title\": {\"standoff\": 15}, \"zerolinecolor\": \"white\", \"zerolinewidth\": 2}, \"yaxis\": {\"automargin\": true, \"gridcolor\": \"white\", \"linecolor\": \"white\", \"ticks\": \"\", \"title\": {\"standoff\": 15}, \"zerolinecolor\": \"white\", \"zerolinewidth\": 2}}}, \"title\": {\"text\": \"Adversarial\"}},\n",
       "                        {\"responsive\": true}\n",
       "                    ).then(function(){\n",
       "                            \n",
       "var gd = document.getElementById('3c469d30-5369-4894-ae27-97081310d8b0');\n",
       "var x = new MutationObserver(function (mutations, observer) {{\n",
       "        var display = window.getComputedStyle(gd).display;\n",
       "        if (!display || display === 'none') {{\n",
       "            console.log([gd, 'removed!']);\n",
       "            Plotly.purge(gd);\n",
       "            observer.disconnect();\n",
       "        }}\n",
       "}});\n",
       "\n",
       "// Listen for the removal of the full notebook cells\n",
       "var notebookContainer = gd.closest('#notebook-container');\n",
       "if (notebookContainer) {{\n",
       "    x.observe(notebookContainer, {childList: true});\n",
       "}}\n",
       "\n",
       "// Listen for the clearing of the current output cell\n",
       "var outputEl = gd.closest('.output');\n",
       "if (outputEl) {{\n",
       "    x.observe(outputEl, {childList: true});\n",
       "}}\n",
       "\n",
       "                        })\n",
       "                };\n",
       "                });\n",
       "            </script>\n",
       "        </div>"
      ]
     },
     "metadata": {},
     "output_type": "display_data"
    },
    {
     "data": {
      "application/vnd.plotly.v1+json": {
       "config": {
        "plotlyServerURL": "https://plot.ly"
       },
       "data": [
        {
         "type": "heatmap",
         "z": [
          [
           0,
           0,
           0,
           0,
           0
          ],
          [
           0,
           0,
           0,
           0,
           0
          ],
          [
           0,
           0,
           0,
           0,
           0
          ],
          [
           0,
           0,
           0,
           0,
           0
          ],
          [
           0,
           0,
           0,
           0,
           0
          ]
         ],
         "zmax": 1,
         "zmin": 0
        }
       ],
       "layout": {
        "template": {
         "data": {
          "bar": [
           {
            "error_x": {
             "color": "#2a3f5f"
            },
            "error_y": {
             "color": "#2a3f5f"
            },
            "marker": {
             "line": {
              "color": "#E5ECF6",
              "width": 0.5
             }
            },
            "type": "bar"
           }
          ],
          "barpolar": [
           {
            "marker": {
             "line": {
              "color": "#E5ECF6",
              "width": 0.5
             }
            },
            "type": "barpolar"
           }
          ],
          "carpet": [
           {
            "aaxis": {
             "endlinecolor": "#2a3f5f",
             "gridcolor": "white",
             "linecolor": "white",
             "minorgridcolor": "white",
             "startlinecolor": "#2a3f5f"
            },
            "baxis": {
             "endlinecolor": "#2a3f5f",
             "gridcolor": "white",
             "linecolor": "white",
             "minorgridcolor": "white",
             "startlinecolor": "#2a3f5f"
            },
            "type": "carpet"
           }
          ],
          "choropleth": [
           {
            "colorbar": {
             "outlinewidth": 0,
             "ticks": ""
            },
            "type": "choropleth"
           }
          ],
          "contour": [
           {
            "colorbar": {
             "outlinewidth": 0,
             "ticks": ""
            },
            "colorscale": [
             [
              0,
              "#0d0887"
             ],
             [
              0.1111111111111111,
              "#46039f"
             ],
             [
              0.2222222222222222,
              "#7201a8"
             ],
             [
              0.3333333333333333,
              "#9c179e"
             ],
             [
              0.4444444444444444,
              "#bd3786"
             ],
             [
              0.5555555555555556,
              "#d8576b"
             ],
             [
              0.6666666666666666,
              "#ed7953"
             ],
             [
              0.7777777777777778,
              "#fb9f3a"
             ],
             [
              0.8888888888888888,
              "#fdca26"
             ],
             [
              1,
              "#f0f921"
             ]
            ],
            "type": "contour"
           }
          ],
          "contourcarpet": [
           {
            "colorbar": {
             "outlinewidth": 0,
             "ticks": ""
            },
            "type": "contourcarpet"
           }
          ],
          "heatmap": [
           {
            "colorbar": {
             "outlinewidth": 0,
             "ticks": ""
            },
            "colorscale": [
             [
              0,
              "#0d0887"
             ],
             [
              0.1111111111111111,
              "#46039f"
             ],
             [
              0.2222222222222222,
              "#7201a8"
             ],
             [
              0.3333333333333333,
              "#9c179e"
             ],
             [
              0.4444444444444444,
              "#bd3786"
             ],
             [
              0.5555555555555556,
              "#d8576b"
             ],
             [
              0.6666666666666666,
              "#ed7953"
             ],
             [
              0.7777777777777778,
              "#fb9f3a"
             ],
             [
              0.8888888888888888,
              "#fdca26"
             ],
             [
              1,
              "#f0f921"
             ]
            ],
            "type": "heatmap"
           }
          ],
          "heatmapgl": [
           {
            "colorbar": {
             "outlinewidth": 0,
             "ticks": ""
            },
            "colorscale": [
             [
              0,
              "#0d0887"
             ],
             [
              0.1111111111111111,
              "#46039f"
             ],
             [
              0.2222222222222222,
              "#7201a8"
             ],
             [
              0.3333333333333333,
              "#9c179e"
             ],
             [
              0.4444444444444444,
              "#bd3786"
             ],
             [
              0.5555555555555556,
              "#d8576b"
             ],
             [
              0.6666666666666666,
              "#ed7953"
             ],
             [
              0.7777777777777778,
              "#fb9f3a"
             ],
             [
              0.8888888888888888,
              "#fdca26"
             ],
             [
              1,
              "#f0f921"
             ]
            ],
            "type": "heatmapgl"
           }
          ],
          "histogram": [
           {
            "marker": {
             "colorbar": {
              "outlinewidth": 0,
              "ticks": ""
             }
            },
            "type": "histogram"
           }
          ],
          "histogram2d": [
           {
            "colorbar": {
             "outlinewidth": 0,
             "ticks": ""
            },
            "colorscale": [
             [
              0,
              "#0d0887"
             ],
             [
              0.1111111111111111,
              "#46039f"
             ],
             [
              0.2222222222222222,
              "#7201a8"
             ],
             [
              0.3333333333333333,
              "#9c179e"
             ],
             [
              0.4444444444444444,
              "#bd3786"
             ],
             [
              0.5555555555555556,
              "#d8576b"
             ],
             [
              0.6666666666666666,
              "#ed7953"
             ],
             [
              0.7777777777777778,
              "#fb9f3a"
             ],
             [
              0.8888888888888888,
              "#fdca26"
             ],
             [
              1,
              "#f0f921"
             ]
            ],
            "type": "histogram2d"
           }
          ],
          "histogram2dcontour": [
           {
            "colorbar": {
             "outlinewidth": 0,
             "ticks": ""
            },
            "colorscale": [
             [
              0,
              "#0d0887"
             ],
             [
              0.1111111111111111,
              "#46039f"
             ],
             [
              0.2222222222222222,
              "#7201a8"
             ],
             [
              0.3333333333333333,
              "#9c179e"
             ],
             [
              0.4444444444444444,
              "#bd3786"
             ],
             [
              0.5555555555555556,
              "#d8576b"
             ],
             [
              0.6666666666666666,
              "#ed7953"
             ],
             [
              0.7777777777777778,
              "#fb9f3a"
             ],
             [
              0.8888888888888888,
              "#fdca26"
             ],
             [
              1,
              "#f0f921"
             ]
            ],
            "type": "histogram2dcontour"
           }
          ],
          "mesh3d": [
           {
            "colorbar": {
             "outlinewidth": 0,
             "ticks": ""
            },
            "type": "mesh3d"
           }
          ],
          "parcoords": [
           {
            "line": {
             "colorbar": {
              "outlinewidth": 0,
              "ticks": ""
             }
            },
            "type": "parcoords"
           }
          ],
          "pie": [
           {
            "automargin": true,
            "type": "pie"
           }
          ],
          "scatter": [
           {
            "marker": {
             "colorbar": {
              "outlinewidth": 0,
              "ticks": ""
             }
            },
            "type": "scatter"
           }
          ],
          "scatter3d": [
           {
            "line": {
             "colorbar": {
              "outlinewidth": 0,
              "ticks": ""
             }
            },
            "marker": {
             "colorbar": {
              "outlinewidth": 0,
              "ticks": ""
             }
            },
            "type": "scatter3d"
           }
          ],
          "scattercarpet": [
           {
            "marker": {
             "colorbar": {
              "outlinewidth": 0,
              "ticks": ""
             }
            },
            "type": "scattercarpet"
           }
          ],
          "scattergeo": [
           {
            "marker": {
             "colorbar": {
              "outlinewidth": 0,
              "ticks": ""
             }
            },
            "type": "scattergeo"
           }
          ],
          "scattergl": [
           {
            "marker": {
             "colorbar": {
              "outlinewidth": 0,
              "ticks": ""
             }
            },
            "type": "scattergl"
           }
          ],
          "scattermapbox": [
           {
            "marker": {
             "colorbar": {
              "outlinewidth": 0,
              "ticks": ""
             }
            },
            "type": "scattermapbox"
           }
          ],
          "scatterpolar": [
           {
            "marker": {
             "colorbar": {
              "outlinewidth": 0,
              "ticks": ""
             }
            },
            "type": "scatterpolar"
           }
          ],
          "scatterpolargl": [
           {
            "marker": {
             "colorbar": {
              "outlinewidth": 0,
              "ticks": ""
             }
            },
            "type": "scatterpolargl"
           }
          ],
          "scatterternary": [
           {
            "marker": {
             "colorbar": {
              "outlinewidth": 0,
              "ticks": ""
             }
            },
            "type": "scatterternary"
           }
          ],
          "surface": [
           {
            "colorbar": {
             "outlinewidth": 0,
             "ticks": ""
            },
            "colorscale": [
             [
              0,
              "#0d0887"
             ],
             [
              0.1111111111111111,
              "#46039f"
             ],
             [
              0.2222222222222222,
              "#7201a8"
             ],
             [
              0.3333333333333333,
              "#9c179e"
             ],
             [
              0.4444444444444444,
              "#bd3786"
             ],
             [
              0.5555555555555556,
              "#d8576b"
             ],
             [
              0.6666666666666666,
              "#ed7953"
             ],
             [
              0.7777777777777778,
              "#fb9f3a"
             ],
             [
              0.8888888888888888,
              "#fdca26"
             ],
             [
              1,
              "#f0f921"
             ]
            ],
            "type": "surface"
           }
          ],
          "table": [
           {
            "cells": {
             "fill": {
              "color": "#EBF0F8"
             },
             "line": {
              "color": "white"
             }
            },
            "header": {
             "fill": {
              "color": "#C8D4E3"
             },
             "line": {
              "color": "white"
             }
            },
            "type": "table"
           }
          ]
         },
         "layout": {
          "annotationdefaults": {
           "arrowcolor": "#2a3f5f",
           "arrowhead": 0,
           "arrowwidth": 1
          },
          "coloraxis": {
           "colorbar": {
            "outlinewidth": 0,
            "ticks": ""
           }
          },
          "colorscale": {
           "diverging": [
            [
             0,
             "#8e0152"
            ],
            [
             0.1,
             "#c51b7d"
            ],
            [
             0.2,
             "#de77ae"
            ],
            [
             0.3,
             "#f1b6da"
            ],
            [
             0.4,
             "#fde0ef"
            ],
            [
             0.5,
             "#f7f7f7"
            ],
            [
             0.6,
             "#e6f5d0"
            ],
            [
             0.7,
             "#b8e186"
            ],
            [
             0.8,
             "#7fbc41"
            ],
            [
             0.9,
             "#4d9221"
            ],
            [
             1,
             "#276419"
            ]
           ],
           "sequential": [
            [
             0,
             "#0d0887"
            ],
            [
             0.1111111111111111,
             "#46039f"
            ],
            [
             0.2222222222222222,
             "#7201a8"
            ],
            [
             0.3333333333333333,
             "#9c179e"
            ],
            [
             0.4444444444444444,
             "#bd3786"
            ],
            [
             0.5555555555555556,
             "#d8576b"
            ],
            [
             0.6666666666666666,
             "#ed7953"
            ],
            [
             0.7777777777777778,
             "#fb9f3a"
            ],
            [
             0.8888888888888888,
             "#fdca26"
            ],
            [
             1,
             "#f0f921"
            ]
           ],
           "sequentialminus": [
            [
             0,
             "#0d0887"
            ],
            [
             0.1111111111111111,
             "#46039f"
            ],
            [
             0.2222222222222222,
             "#7201a8"
            ],
            [
             0.3333333333333333,
             "#9c179e"
            ],
            [
             0.4444444444444444,
             "#bd3786"
            ],
            [
             0.5555555555555556,
             "#d8576b"
            ],
            [
             0.6666666666666666,
             "#ed7953"
            ],
            [
             0.7777777777777778,
             "#fb9f3a"
            ],
            [
             0.8888888888888888,
             "#fdca26"
            ],
            [
             1,
             "#f0f921"
            ]
           ]
          },
          "colorway": [
           "#636efa",
           "#EF553B",
           "#00cc96",
           "#ab63fa",
           "#FFA15A",
           "#19d3f3",
           "#FF6692",
           "#B6E880",
           "#FF97FF",
           "#FECB52"
          ],
          "font": {
           "color": "#2a3f5f"
          },
          "geo": {
           "bgcolor": "white",
           "lakecolor": "white",
           "landcolor": "#E5ECF6",
           "showlakes": true,
           "showland": true,
           "subunitcolor": "white"
          },
          "hoverlabel": {
           "align": "left"
          },
          "hovermode": "closest",
          "mapbox": {
           "style": "light"
          },
          "paper_bgcolor": "white",
          "plot_bgcolor": "#E5ECF6",
          "polar": {
           "angularaxis": {
            "gridcolor": "white",
            "linecolor": "white",
            "ticks": ""
           },
           "bgcolor": "#E5ECF6",
           "radialaxis": {
            "gridcolor": "white",
            "linecolor": "white",
            "ticks": ""
           }
          },
          "scene": {
           "xaxis": {
            "backgroundcolor": "#E5ECF6",
            "gridcolor": "white",
            "gridwidth": 2,
            "linecolor": "white",
            "showbackground": true,
            "ticks": "",
            "zerolinecolor": "white"
           },
           "yaxis": {
            "backgroundcolor": "#E5ECF6",
            "gridcolor": "white",
            "gridwidth": 2,
            "linecolor": "white",
            "showbackground": true,
            "ticks": "",
            "zerolinecolor": "white"
           },
           "zaxis": {
            "backgroundcolor": "#E5ECF6",
            "gridcolor": "white",
            "gridwidth": 2,
            "linecolor": "white",
            "showbackground": true,
            "ticks": "",
            "zerolinecolor": "white"
           }
          },
          "shapedefaults": {
           "line": {
            "color": "#2a3f5f"
           }
          },
          "ternary": {
           "aaxis": {
            "gridcolor": "white",
            "linecolor": "white",
            "ticks": ""
           },
           "baxis": {
            "gridcolor": "white",
            "linecolor": "white",
            "ticks": ""
           },
           "bgcolor": "#E5ECF6",
           "caxis": {
            "gridcolor": "white",
            "linecolor": "white",
            "ticks": ""
           }
          },
          "title": {
           "x": 0.05
          },
          "xaxis": {
           "automargin": true,
           "gridcolor": "white",
           "linecolor": "white",
           "ticks": "",
           "title": {
            "standoff": 15
           },
           "zerolinecolor": "white",
           "zerolinewidth": 2
          },
          "yaxis": {
           "automargin": true,
           "gridcolor": "white",
           "linecolor": "white",
           "ticks": "",
           "title": {
            "standoff": 15
           },
           "zerolinecolor": "white",
           "zerolinewidth": 2
          }
         }
        },
        "title": {
         "text": "LQR"
        }
       }
      },
      "text/html": [
       "<div>\n",
       "        \n",
       "        \n",
       "            <div id=\"0041bab2-3632-4f0b-9b29-c53eb3a033cc\" class=\"plotly-graph-div\" style=\"height:525px; width:100%;\"></div>\n",
       "            <script type=\"text/javascript\">\n",
       "                require([\"plotly\"], function(Plotly) {\n",
       "                    window.PLOTLYENV=window.PLOTLYENV || {};\n",
       "                    \n",
       "                if (document.getElementById(\"0041bab2-3632-4f0b-9b29-c53eb3a033cc\")) {\n",
       "                    Plotly.newPlot(\n",
       "                        '0041bab2-3632-4f0b-9b29-c53eb3a033cc',\n",
       "                        [{\"type\": \"heatmap\", \"z\": [[0.0, 0.0, 0.0, 0.0, 0.0], [0.0, 0.0, 0.0, 0.0, 0.0], [0.0, 0.0, 0.0, 0.0, 0.0], [0.0, 0.0, 0.0, 0.0, 0.0], [0.0, 0.0, 0.0, 0.0, 0.0]], \"zmax\": 1, \"zmin\": 0}],\n",
       "                        {\"template\": {\"data\": {\"bar\": [{\"error_x\": {\"color\": \"#2a3f5f\"}, \"error_y\": {\"color\": \"#2a3f5f\"}, \"marker\": {\"line\": {\"color\": \"#E5ECF6\", \"width\": 0.5}}, \"type\": \"bar\"}], \"barpolar\": [{\"marker\": {\"line\": {\"color\": \"#E5ECF6\", \"width\": 0.5}}, \"type\": \"barpolar\"}], \"carpet\": [{\"aaxis\": {\"endlinecolor\": \"#2a3f5f\", \"gridcolor\": \"white\", \"linecolor\": \"white\", \"minorgridcolor\": \"white\", \"startlinecolor\": \"#2a3f5f\"}, \"baxis\": {\"endlinecolor\": \"#2a3f5f\", \"gridcolor\": \"white\", \"linecolor\": \"white\", \"minorgridcolor\": \"white\", \"startlinecolor\": \"#2a3f5f\"}, \"type\": \"carpet\"}], \"choropleth\": [{\"colorbar\": {\"outlinewidth\": 0, \"ticks\": \"\"}, \"type\": \"choropleth\"}], \"contour\": [{\"colorbar\": {\"outlinewidth\": 0, \"ticks\": \"\"}, \"colorscale\": [[0.0, \"#0d0887\"], [0.1111111111111111, \"#46039f\"], [0.2222222222222222, \"#7201a8\"], [0.3333333333333333, \"#9c179e\"], [0.4444444444444444, \"#bd3786\"], [0.5555555555555556, \"#d8576b\"], [0.6666666666666666, \"#ed7953\"], [0.7777777777777778, \"#fb9f3a\"], [0.8888888888888888, \"#fdca26\"], [1.0, \"#f0f921\"]], \"type\": \"contour\"}], \"contourcarpet\": [{\"colorbar\": {\"outlinewidth\": 0, \"ticks\": \"\"}, \"type\": \"contourcarpet\"}], \"heatmap\": [{\"colorbar\": {\"outlinewidth\": 0, \"ticks\": \"\"}, \"colorscale\": [[0.0, \"#0d0887\"], [0.1111111111111111, \"#46039f\"], [0.2222222222222222, \"#7201a8\"], [0.3333333333333333, \"#9c179e\"], [0.4444444444444444, \"#bd3786\"], [0.5555555555555556, \"#d8576b\"], [0.6666666666666666, \"#ed7953\"], [0.7777777777777778, \"#fb9f3a\"], [0.8888888888888888, \"#fdca26\"], [1.0, \"#f0f921\"]], \"type\": \"heatmap\"}], \"heatmapgl\": [{\"colorbar\": {\"outlinewidth\": 0, \"ticks\": \"\"}, \"colorscale\": [[0.0, \"#0d0887\"], [0.1111111111111111, \"#46039f\"], [0.2222222222222222, \"#7201a8\"], [0.3333333333333333, \"#9c179e\"], [0.4444444444444444, \"#bd3786\"], [0.5555555555555556, \"#d8576b\"], [0.6666666666666666, \"#ed7953\"], [0.7777777777777778, \"#fb9f3a\"], [0.8888888888888888, \"#fdca26\"], [1.0, \"#f0f921\"]], \"type\": \"heatmapgl\"}], \"histogram\": [{\"marker\": {\"colorbar\": {\"outlinewidth\": 0, \"ticks\": \"\"}}, \"type\": \"histogram\"}], \"histogram2d\": [{\"colorbar\": {\"outlinewidth\": 0, \"ticks\": \"\"}, \"colorscale\": [[0.0, \"#0d0887\"], [0.1111111111111111, \"#46039f\"], [0.2222222222222222, \"#7201a8\"], [0.3333333333333333, \"#9c179e\"], [0.4444444444444444, \"#bd3786\"], [0.5555555555555556, \"#d8576b\"], [0.6666666666666666, \"#ed7953\"], [0.7777777777777778, \"#fb9f3a\"], [0.8888888888888888, \"#fdca26\"], [1.0, \"#f0f921\"]], \"type\": \"histogram2d\"}], \"histogram2dcontour\": [{\"colorbar\": {\"outlinewidth\": 0, \"ticks\": \"\"}, \"colorscale\": [[0.0, \"#0d0887\"], [0.1111111111111111, \"#46039f\"], [0.2222222222222222, \"#7201a8\"], [0.3333333333333333, \"#9c179e\"], [0.4444444444444444, \"#bd3786\"], [0.5555555555555556, \"#d8576b\"], [0.6666666666666666, \"#ed7953\"], [0.7777777777777778, \"#fb9f3a\"], [0.8888888888888888, \"#fdca26\"], [1.0, \"#f0f921\"]], \"type\": \"histogram2dcontour\"}], \"mesh3d\": [{\"colorbar\": {\"outlinewidth\": 0, \"ticks\": \"\"}, \"type\": \"mesh3d\"}], \"parcoords\": [{\"line\": {\"colorbar\": {\"outlinewidth\": 0, \"ticks\": \"\"}}, \"type\": \"parcoords\"}], \"pie\": [{\"automargin\": true, \"type\": \"pie\"}], \"scatter\": [{\"marker\": {\"colorbar\": {\"outlinewidth\": 0, \"ticks\": \"\"}}, \"type\": \"scatter\"}], \"scatter3d\": [{\"line\": {\"colorbar\": {\"outlinewidth\": 0, \"ticks\": \"\"}}, \"marker\": {\"colorbar\": {\"outlinewidth\": 0, \"ticks\": \"\"}}, \"type\": \"scatter3d\"}], \"scattercarpet\": [{\"marker\": {\"colorbar\": {\"outlinewidth\": 0, \"ticks\": \"\"}}, \"type\": \"scattercarpet\"}], \"scattergeo\": [{\"marker\": {\"colorbar\": {\"outlinewidth\": 0, \"ticks\": \"\"}}, \"type\": \"scattergeo\"}], \"scattergl\": [{\"marker\": {\"colorbar\": {\"outlinewidth\": 0, \"ticks\": \"\"}}, \"type\": \"scattergl\"}], \"scattermapbox\": [{\"marker\": {\"colorbar\": {\"outlinewidth\": 0, \"ticks\": \"\"}}, \"type\": \"scattermapbox\"}], \"scatterpolar\": [{\"marker\": {\"colorbar\": {\"outlinewidth\": 0, \"ticks\": \"\"}}, \"type\": \"scatterpolar\"}], \"scatterpolargl\": [{\"marker\": {\"colorbar\": {\"outlinewidth\": 0, \"ticks\": \"\"}}, \"type\": \"scatterpolargl\"}], \"scatterternary\": [{\"marker\": {\"colorbar\": {\"outlinewidth\": 0, \"ticks\": \"\"}}, \"type\": \"scatterternary\"}], \"surface\": [{\"colorbar\": {\"outlinewidth\": 0, \"ticks\": \"\"}, \"colorscale\": [[0.0, \"#0d0887\"], [0.1111111111111111, \"#46039f\"], [0.2222222222222222, \"#7201a8\"], [0.3333333333333333, \"#9c179e\"], [0.4444444444444444, \"#bd3786\"], [0.5555555555555556, \"#d8576b\"], [0.6666666666666666, \"#ed7953\"], [0.7777777777777778, \"#fb9f3a\"], [0.8888888888888888, \"#fdca26\"], [1.0, \"#f0f921\"]], \"type\": \"surface\"}], \"table\": [{\"cells\": {\"fill\": {\"color\": \"#EBF0F8\"}, \"line\": {\"color\": \"white\"}}, \"header\": {\"fill\": {\"color\": \"#C8D4E3\"}, \"line\": {\"color\": \"white\"}}, \"type\": \"table\"}]}, \"layout\": {\"annotationdefaults\": {\"arrowcolor\": \"#2a3f5f\", \"arrowhead\": 0, \"arrowwidth\": 1}, \"coloraxis\": {\"colorbar\": {\"outlinewidth\": 0, \"ticks\": \"\"}}, \"colorscale\": {\"diverging\": [[0, \"#8e0152\"], [0.1, \"#c51b7d\"], [0.2, \"#de77ae\"], [0.3, \"#f1b6da\"], [0.4, \"#fde0ef\"], [0.5, \"#f7f7f7\"], [0.6, \"#e6f5d0\"], [0.7, \"#b8e186\"], [0.8, \"#7fbc41\"], [0.9, \"#4d9221\"], [1, \"#276419\"]], \"sequential\": [[0.0, \"#0d0887\"], [0.1111111111111111, \"#46039f\"], [0.2222222222222222, \"#7201a8\"], [0.3333333333333333, \"#9c179e\"], [0.4444444444444444, \"#bd3786\"], [0.5555555555555556, \"#d8576b\"], [0.6666666666666666, \"#ed7953\"], [0.7777777777777778, \"#fb9f3a\"], [0.8888888888888888, \"#fdca26\"], [1.0, \"#f0f921\"]], \"sequentialminus\": [[0.0, \"#0d0887\"], [0.1111111111111111, \"#46039f\"], [0.2222222222222222, \"#7201a8\"], [0.3333333333333333, \"#9c179e\"], [0.4444444444444444, \"#bd3786\"], [0.5555555555555556, \"#d8576b\"], [0.6666666666666666, \"#ed7953\"], [0.7777777777777778, \"#fb9f3a\"], [0.8888888888888888, \"#fdca26\"], [1.0, \"#f0f921\"]]}, \"colorway\": [\"#636efa\", \"#EF553B\", \"#00cc96\", \"#ab63fa\", \"#FFA15A\", \"#19d3f3\", \"#FF6692\", \"#B6E880\", \"#FF97FF\", \"#FECB52\"], \"font\": {\"color\": \"#2a3f5f\"}, \"geo\": {\"bgcolor\": \"white\", \"lakecolor\": \"white\", \"landcolor\": \"#E5ECF6\", \"showlakes\": true, \"showland\": true, \"subunitcolor\": \"white\"}, \"hoverlabel\": {\"align\": \"left\"}, \"hovermode\": \"closest\", \"mapbox\": {\"style\": \"light\"}, \"paper_bgcolor\": \"white\", \"plot_bgcolor\": \"#E5ECF6\", \"polar\": {\"angularaxis\": {\"gridcolor\": \"white\", \"linecolor\": \"white\", \"ticks\": \"\"}, \"bgcolor\": \"#E5ECF6\", \"radialaxis\": {\"gridcolor\": \"white\", \"linecolor\": \"white\", \"ticks\": \"\"}}, \"scene\": {\"xaxis\": {\"backgroundcolor\": \"#E5ECF6\", \"gridcolor\": \"white\", \"gridwidth\": 2, \"linecolor\": \"white\", \"showbackground\": true, \"ticks\": \"\", \"zerolinecolor\": \"white\"}, \"yaxis\": {\"backgroundcolor\": \"#E5ECF6\", \"gridcolor\": \"white\", \"gridwidth\": 2, \"linecolor\": \"white\", \"showbackground\": true, \"ticks\": \"\", \"zerolinecolor\": \"white\"}, \"zaxis\": {\"backgroundcolor\": \"#E5ECF6\", \"gridcolor\": \"white\", \"gridwidth\": 2, \"linecolor\": \"white\", \"showbackground\": true, \"ticks\": \"\", \"zerolinecolor\": \"white\"}}, \"shapedefaults\": {\"line\": {\"color\": \"#2a3f5f\"}}, \"ternary\": {\"aaxis\": {\"gridcolor\": \"white\", \"linecolor\": \"white\", \"ticks\": \"\"}, \"baxis\": {\"gridcolor\": \"white\", \"linecolor\": \"white\", \"ticks\": \"\"}, \"bgcolor\": \"#E5ECF6\", \"caxis\": {\"gridcolor\": \"white\", \"linecolor\": \"white\", \"ticks\": \"\"}}, \"title\": {\"x\": 0.05}, \"xaxis\": {\"automargin\": true, \"gridcolor\": \"white\", \"linecolor\": \"white\", \"ticks\": \"\", \"title\": {\"standoff\": 15}, \"zerolinecolor\": \"white\", \"zerolinewidth\": 2}, \"yaxis\": {\"automargin\": true, \"gridcolor\": \"white\", \"linecolor\": \"white\", \"ticks\": \"\", \"title\": {\"standoff\": 15}, \"zerolinecolor\": \"white\", \"zerolinewidth\": 2}}}, \"title\": {\"text\": \"LQR\"}},\n",
       "                        {\"responsive\": true}\n",
       "                    ).then(function(){\n",
       "                            \n",
       "var gd = document.getElementById('0041bab2-3632-4f0b-9b29-c53eb3a033cc');\n",
       "var x = new MutationObserver(function (mutations, observer) {{\n",
       "        var display = window.getComputedStyle(gd).display;\n",
       "        if (!display || display === 'none') {{\n",
       "            console.log([gd, 'removed!']);\n",
       "            Plotly.purge(gd);\n",
       "            observer.disconnect();\n",
       "        }}\n",
       "}});\n",
       "\n",
       "// Listen for the removal of the full notebook cells\n",
       "var notebookContainer = gd.closest('#notebook-container');\n",
       "if (notebookContainer) {{\n",
       "    x.observe(notebookContainer, {childList: true});\n",
       "}}\n",
       "\n",
       "// Listen for the clearing of the current output cell\n",
       "var outputEl = gd.closest('.output');\n",
       "if (outputEl) {{\n",
       "    x.observe(outputEl, {childList: true});\n",
       "}}\n",
       "\n",
       "                        })\n",
       "                };\n",
       "                });\n",
       "            </script>\n",
       "        </div>"
      ]
     },
     "metadata": {},
     "output_type": "display_data"
    },
    {
     "data": {
      "application/vnd.plotly.v1+json": {
       "config": {
        "plotlyServerURL": "https://plot.ly"
       },
       "data": [
        {
         "type": "heatmap",
         "z": [
          [
           0,
           0,
           0,
           0,
           0
          ],
          [
           0,
           0,
           0,
           0,
           0
          ],
          [
           0,
           0,
           1,
           0,
           0
          ],
          [
           0,
           0,
           0,
           0,
           0
          ],
          [
           0,
           0,
           0,
           0,
           0
          ]
         ]
        }
       ],
       "layout": {
        "template": {
         "data": {
          "bar": [
           {
            "error_x": {
             "color": "#2a3f5f"
            },
            "error_y": {
             "color": "#2a3f5f"
            },
            "marker": {
             "line": {
              "color": "#E5ECF6",
              "width": 0.5
             }
            },
            "type": "bar"
           }
          ],
          "barpolar": [
           {
            "marker": {
             "line": {
              "color": "#E5ECF6",
              "width": 0.5
             }
            },
            "type": "barpolar"
           }
          ],
          "carpet": [
           {
            "aaxis": {
             "endlinecolor": "#2a3f5f",
             "gridcolor": "white",
             "linecolor": "white",
             "minorgridcolor": "white",
             "startlinecolor": "#2a3f5f"
            },
            "baxis": {
             "endlinecolor": "#2a3f5f",
             "gridcolor": "white",
             "linecolor": "white",
             "minorgridcolor": "white",
             "startlinecolor": "#2a3f5f"
            },
            "type": "carpet"
           }
          ],
          "choropleth": [
           {
            "colorbar": {
             "outlinewidth": 0,
             "ticks": ""
            },
            "type": "choropleth"
           }
          ],
          "contour": [
           {
            "colorbar": {
             "outlinewidth": 0,
             "ticks": ""
            },
            "colorscale": [
             [
              0,
              "#0d0887"
             ],
             [
              0.1111111111111111,
              "#46039f"
             ],
             [
              0.2222222222222222,
              "#7201a8"
             ],
             [
              0.3333333333333333,
              "#9c179e"
             ],
             [
              0.4444444444444444,
              "#bd3786"
             ],
             [
              0.5555555555555556,
              "#d8576b"
             ],
             [
              0.6666666666666666,
              "#ed7953"
             ],
             [
              0.7777777777777778,
              "#fb9f3a"
             ],
             [
              0.8888888888888888,
              "#fdca26"
             ],
             [
              1,
              "#f0f921"
             ]
            ],
            "type": "contour"
           }
          ],
          "contourcarpet": [
           {
            "colorbar": {
             "outlinewidth": 0,
             "ticks": ""
            },
            "type": "contourcarpet"
           }
          ],
          "heatmap": [
           {
            "colorbar": {
             "outlinewidth": 0,
             "ticks": ""
            },
            "colorscale": [
             [
              0,
              "#0d0887"
             ],
             [
              0.1111111111111111,
              "#46039f"
             ],
             [
              0.2222222222222222,
              "#7201a8"
             ],
             [
              0.3333333333333333,
              "#9c179e"
             ],
             [
              0.4444444444444444,
              "#bd3786"
             ],
             [
              0.5555555555555556,
              "#d8576b"
             ],
             [
              0.6666666666666666,
              "#ed7953"
             ],
             [
              0.7777777777777778,
              "#fb9f3a"
             ],
             [
              0.8888888888888888,
              "#fdca26"
             ],
             [
              1,
              "#f0f921"
             ]
            ],
            "type": "heatmap"
           }
          ],
          "heatmapgl": [
           {
            "colorbar": {
             "outlinewidth": 0,
             "ticks": ""
            },
            "colorscale": [
             [
              0,
              "#0d0887"
             ],
             [
              0.1111111111111111,
              "#46039f"
             ],
             [
              0.2222222222222222,
              "#7201a8"
             ],
             [
              0.3333333333333333,
              "#9c179e"
             ],
             [
              0.4444444444444444,
              "#bd3786"
             ],
             [
              0.5555555555555556,
              "#d8576b"
             ],
             [
              0.6666666666666666,
              "#ed7953"
             ],
             [
              0.7777777777777778,
              "#fb9f3a"
             ],
             [
              0.8888888888888888,
              "#fdca26"
             ],
             [
              1,
              "#f0f921"
             ]
            ],
            "type": "heatmapgl"
           }
          ],
          "histogram": [
           {
            "marker": {
             "colorbar": {
              "outlinewidth": 0,
              "ticks": ""
             }
            },
            "type": "histogram"
           }
          ],
          "histogram2d": [
           {
            "colorbar": {
             "outlinewidth": 0,
             "ticks": ""
            },
            "colorscale": [
             [
              0,
              "#0d0887"
             ],
             [
              0.1111111111111111,
              "#46039f"
             ],
             [
              0.2222222222222222,
              "#7201a8"
             ],
             [
              0.3333333333333333,
              "#9c179e"
             ],
             [
              0.4444444444444444,
              "#bd3786"
             ],
             [
              0.5555555555555556,
              "#d8576b"
             ],
             [
              0.6666666666666666,
              "#ed7953"
             ],
             [
              0.7777777777777778,
              "#fb9f3a"
             ],
             [
              0.8888888888888888,
              "#fdca26"
             ],
             [
              1,
              "#f0f921"
             ]
            ],
            "type": "histogram2d"
           }
          ],
          "histogram2dcontour": [
           {
            "colorbar": {
             "outlinewidth": 0,
             "ticks": ""
            },
            "colorscale": [
             [
              0,
              "#0d0887"
             ],
             [
              0.1111111111111111,
              "#46039f"
             ],
             [
              0.2222222222222222,
              "#7201a8"
             ],
             [
              0.3333333333333333,
              "#9c179e"
             ],
             [
              0.4444444444444444,
              "#bd3786"
             ],
             [
              0.5555555555555556,
              "#d8576b"
             ],
             [
              0.6666666666666666,
              "#ed7953"
             ],
             [
              0.7777777777777778,
              "#fb9f3a"
             ],
             [
              0.8888888888888888,
              "#fdca26"
             ],
             [
              1,
              "#f0f921"
             ]
            ],
            "type": "histogram2dcontour"
           }
          ],
          "mesh3d": [
           {
            "colorbar": {
             "outlinewidth": 0,
             "ticks": ""
            },
            "type": "mesh3d"
           }
          ],
          "parcoords": [
           {
            "line": {
             "colorbar": {
              "outlinewidth": 0,
              "ticks": ""
             }
            },
            "type": "parcoords"
           }
          ],
          "pie": [
           {
            "automargin": true,
            "type": "pie"
           }
          ],
          "scatter": [
           {
            "marker": {
             "colorbar": {
              "outlinewidth": 0,
              "ticks": ""
             }
            },
            "type": "scatter"
           }
          ],
          "scatter3d": [
           {
            "line": {
             "colorbar": {
              "outlinewidth": 0,
              "ticks": ""
             }
            },
            "marker": {
             "colorbar": {
              "outlinewidth": 0,
              "ticks": ""
             }
            },
            "type": "scatter3d"
           }
          ],
          "scattercarpet": [
           {
            "marker": {
             "colorbar": {
              "outlinewidth": 0,
              "ticks": ""
             }
            },
            "type": "scattercarpet"
           }
          ],
          "scattergeo": [
           {
            "marker": {
             "colorbar": {
              "outlinewidth": 0,
              "ticks": ""
             }
            },
            "type": "scattergeo"
           }
          ],
          "scattergl": [
           {
            "marker": {
             "colorbar": {
              "outlinewidth": 0,
              "ticks": ""
             }
            },
            "type": "scattergl"
           }
          ],
          "scattermapbox": [
           {
            "marker": {
             "colorbar": {
              "outlinewidth": 0,
              "ticks": ""
             }
            },
            "type": "scattermapbox"
           }
          ],
          "scatterpolar": [
           {
            "marker": {
             "colorbar": {
              "outlinewidth": 0,
              "ticks": ""
             }
            },
            "type": "scatterpolar"
           }
          ],
          "scatterpolargl": [
           {
            "marker": {
             "colorbar": {
              "outlinewidth": 0,
              "ticks": ""
             }
            },
            "type": "scatterpolargl"
           }
          ],
          "scatterternary": [
           {
            "marker": {
             "colorbar": {
              "outlinewidth": 0,
              "ticks": ""
             }
            },
            "type": "scatterternary"
           }
          ],
          "surface": [
           {
            "colorbar": {
             "outlinewidth": 0,
             "ticks": ""
            },
            "colorscale": [
             [
              0,
              "#0d0887"
             ],
             [
              0.1111111111111111,
              "#46039f"
             ],
             [
              0.2222222222222222,
              "#7201a8"
             ],
             [
              0.3333333333333333,
              "#9c179e"
             ],
             [
              0.4444444444444444,
              "#bd3786"
             ],
             [
              0.5555555555555556,
              "#d8576b"
             ],
             [
              0.6666666666666666,
              "#ed7953"
             ],
             [
              0.7777777777777778,
              "#fb9f3a"
             ],
             [
              0.8888888888888888,
              "#fdca26"
             ],
             [
              1,
              "#f0f921"
             ]
            ],
            "type": "surface"
           }
          ],
          "table": [
           {
            "cells": {
             "fill": {
              "color": "#EBF0F8"
             },
             "line": {
              "color": "white"
             }
            },
            "header": {
             "fill": {
              "color": "#C8D4E3"
             },
             "line": {
              "color": "white"
             }
            },
            "type": "table"
           }
          ]
         },
         "layout": {
          "annotationdefaults": {
           "arrowcolor": "#2a3f5f",
           "arrowhead": 0,
           "arrowwidth": 1
          },
          "coloraxis": {
           "colorbar": {
            "outlinewidth": 0,
            "ticks": ""
           }
          },
          "colorscale": {
           "diverging": [
            [
             0,
             "#8e0152"
            ],
            [
             0.1,
             "#c51b7d"
            ],
            [
             0.2,
             "#de77ae"
            ],
            [
             0.3,
             "#f1b6da"
            ],
            [
             0.4,
             "#fde0ef"
            ],
            [
             0.5,
             "#f7f7f7"
            ],
            [
             0.6,
             "#e6f5d0"
            ],
            [
             0.7,
             "#b8e186"
            ],
            [
             0.8,
             "#7fbc41"
            ],
            [
             0.9,
             "#4d9221"
            ],
            [
             1,
             "#276419"
            ]
           ],
           "sequential": [
            [
             0,
             "#0d0887"
            ],
            [
             0.1111111111111111,
             "#46039f"
            ],
            [
             0.2222222222222222,
             "#7201a8"
            ],
            [
             0.3333333333333333,
             "#9c179e"
            ],
            [
             0.4444444444444444,
             "#bd3786"
            ],
            [
             0.5555555555555556,
             "#d8576b"
            ],
            [
             0.6666666666666666,
             "#ed7953"
            ],
            [
             0.7777777777777778,
             "#fb9f3a"
            ],
            [
             0.8888888888888888,
             "#fdca26"
            ],
            [
             1,
             "#f0f921"
            ]
           ],
           "sequentialminus": [
            [
             0,
             "#0d0887"
            ],
            [
             0.1111111111111111,
             "#46039f"
            ],
            [
             0.2222222222222222,
             "#7201a8"
            ],
            [
             0.3333333333333333,
             "#9c179e"
            ],
            [
             0.4444444444444444,
             "#bd3786"
            ],
            [
             0.5555555555555556,
             "#d8576b"
            ],
            [
             0.6666666666666666,
             "#ed7953"
            ],
            [
             0.7777777777777778,
             "#fb9f3a"
            ],
            [
             0.8888888888888888,
             "#fdca26"
            ],
            [
             1,
             "#f0f921"
            ]
           ]
          },
          "colorway": [
           "#636efa",
           "#EF553B",
           "#00cc96",
           "#ab63fa",
           "#FFA15A",
           "#19d3f3",
           "#FF6692",
           "#B6E880",
           "#FF97FF",
           "#FECB52"
          ],
          "font": {
           "color": "#2a3f5f"
          },
          "geo": {
           "bgcolor": "white",
           "lakecolor": "white",
           "landcolor": "#E5ECF6",
           "showlakes": true,
           "showland": true,
           "subunitcolor": "white"
          },
          "hoverlabel": {
           "align": "left"
          },
          "hovermode": "closest",
          "mapbox": {
           "style": "light"
          },
          "paper_bgcolor": "white",
          "plot_bgcolor": "#E5ECF6",
          "polar": {
           "angularaxis": {
            "gridcolor": "white",
            "linecolor": "white",
            "ticks": ""
           },
           "bgcolor": "#E5ECF6",
           "radialaxis": {
            "gridcolor": "white",
            "linecolor": "white",
            "ticks": ""
           }
          },
          "scene": {
           "xaxis": {
            "backgroundcolor": "#E5ECF6",
            "gridcolor": "white",
            "gridwidth": 2,
            "linecolor": "white",
            "showbackground": true,
            "ticks": "",
            "zerolinecolor": "white"
           },
           "yaxis": {
            "backgroundcolor": "#E5ECF6",
            "gridcolor": "white",
            "gridwidth": 2,
            "linecolor": "white",
            "showbackground": true,
            "ticks": "",
            "zerolinecolor": "white"
           },
           "zaxis": {
            "backgroundcolor": "#E5ECF6",
            "gridcolor": "white",
            "gridwidth": 2,
            "linecolor": "white",
            "showbackground": true,
            "ticks": "",
            "zerolinecolor": "white"
           }
          },
          "shapedefaults": {
           "line": {
            "color": "#2a3f5f"
           }
          },
          "ternary": {
           "aaxis": {
            "gridcolor": "white",
            "linecolor": "white",
            "ticks": ""
           },
           "baxis": {
            "gridcolor": "white",
            "linecolor": "white",
            "ticks": ""
           },
           "bgcolor": "#E5ECF6",
           "caxis": {
            "gridcolor": "white",
            "linecolor": "white",
            "ticks": ""
           }
          },
          "title": {
           "x": 0.05
          },
          "xaxis": {
           "automargin": true,
           "gridcolor": "white",
           "linecolor": "white",
           "ticks": "",
           "title": {
            "standoff": 15
           },
           "zerolinecolor": "white",
           "zerolinewidth": 2
          },
          "yaxis": {
           "automargin": true,
           "gridcolor": "white",
           "linecolor": "white",
           "ticks": "",
           "title": {
            "standoff": 15
           },
           "zerolinecolor": "white",
           "zerolinewidth": 2
          }
         }
        },
        "title": {
         "text": "No Model"
        }
       }
      },
      "text/html": [
       "<div>\n",
       "        \n",
       "        \n",
       "            <div id=\"775733c3-338d-4b7d-aa2a-1d55c200366d\" class=\"plotly-graph-div\" style=\"height:525px; width:100%;\"></div>\n",
       "            <script type=\"text/javascript\">\n",
       "                require([\"plotly\"], function(Plotly) {\n",
       "                    window.PLOTLYENV=window.PLOTLYENV || {};\n",
       "                    \n",
       "                if (document.getElementById(\"775733c3-338d-4b7d-aa2a-1d55c200366d\")) {\n",
       "                    Plotly.newPlot(\n",
       "                        '775733c3-338d-4b7d-aa2a-1d55c200366d',\n",
       "                        [{\"type\": \"heatmap\", \"z\": [[0.0, 0.0, 0.0, 0.0, 0.0], [0.0, 0.0, 0.0, 0.0, 0.0], [0.0, 0.0, 1.0, 0.0, 0.0], [0.0, 0.0, 0.0, 0.0, 0.0], [0.0, 0.0, 0.0, 0.0, 0.0]]}],\n",
       "                        {\"template\": {\"data\": {\"bar\": [{\"error_x\": {\"color\": \"#2a3f5f\"}, \"error_y\": {\"color\": \"#2a3f5f\"}, \"marker\": {\"line\": {\"color\": \"#E5ECF6\", \"width\": 0.5}}, \"type\": \"bar\"}], \"barpolar\": [{\"marker\": {\"line\": {\"color\": \"#E5ECF6\", \"width\": 0.5}}, \"type\": \"barpolar\"}], \"carpet\": [{\"aaxis\": {\"endlinecolor\": \"#2a3f5f\", \"gridcolor\": \"white\", \"linecolor\": \"white\", \"minorgridcolor\": \"white\", \"startlinecolor\": \"#2a3f5f\"}, \"baxis\": {\"endlinecolor\": \"#2a3f5f\", \"gridcolor\": \"white\", \"linecolor\": \"white\", \"minorgridcolor\": \"white\", \"startlinecolor\": \"#2a3f5f\"}, \"type\": \"carpet\"}], \"choropleth\": [{\"colorbar\": {\"outlinewidth\": 0, \"ticks\": \"\"}, \"type\": \"choropleth\"}], \"contour\": [{\"colorbar\": {\"outlinewidth\": 0, \"ticks\": \"\"}, \"colorscale\": [[0.0, \"#0d0887\"], [0.1111111111111111, \"#46039f\"], [0.2222222222222222, \"#7201a8\"], [0.3333333333333333, \"#9c179e\"], [0.4444444444444444, \"#bd3786\"], [0.5555555555555556, \"#d8576b\"], [0.6666666666666666, \"#ed7953\"], [0.7777777777777778, \"#fb9f3a\"], [0.8888888888888888, \"#fdca26\"], [1.0, \"#f0f921\"]], \"type\": \"contour\"}], \"contourcarpet\": [{\"colorbar\": {\"outlinewidth\": 0, \"ticks\": \"\"}, \"type\": \"contourcarpet\"}], \"heatmap\": [{\"colorbar\": {\"outlinewidth\": 0, \"ticks\": \"\"}, \"colorscale\": [[0.0, \"#0d0887\"], [0.1111111111111111, \"#46039f\"], [0.2222222222222222, \"#7201a8\"], [0.3333333333333333, \"#9c179e\"], [0.4444444444444444, \"#bd3786\"], [0.5555555555555556, \"#d8576b\"], [0.6666666666666666, \"#ed7953\"], [0.7777777777777778, \"#fb9f3a\"], [0.8888888888888888, \"#fdca26\"], [1.0, \"#f0f921\"]], \"type\": \"heatmap\"}], \"heatmapgl\": [{\"colorbar\": {\"outlinewidth\": 0, \"ticks\": \"\"}, \"colorscale\": [[0.0, \"#0d0887\"], [0.1111111111111111, \"#46039f\"], [0.2222222222222222, \"#7201a8\"], [0.3333333333333333, \"#9c179e\"], [0.4444444444444444, \"#bd3786\"], [0.5555555555555556, \"#d8576b\"], [0.6666666666666666, \"#ed7953\"], [0.7777777777777778, \"#fb9f3a\"], [0.8888888888888888, \"#fdca26\"], [1.0, \"#f0f921\"]], \"type\": \"heatmapgl\"}], \"histogram\": [{\"marker\": {\"colorbar\": {\"outlinewidth\": 0, \"ticks\": \"\"}}, \"type\": \"histogram\"}], \"histogram2d\": [{\"colorbar\": {\"outlinewidth\": 0, \"ticks\": \"\"}, \"colorscale\": [[0.0, \"#0d0887\"], [0.1111111111111111, \"#46039f\"], [0.2222222222222222, \"#7201a8\"], [0.3333333333333333, \"#9c179e\"], [0.4444444444444444, \"#bd3786\"], [0.5555555555555556, \"#d8576b\"], [0.6666666666666666, \"#ed7953\"], [0.7777777777777778, \"#fb9f3a\"], [0.8888888888888888, \"#fdca26\"], [1.0, \"#f0f921\"]], \"type\": \"histogram2d\"}], \"histogram2dcontour\": [{\"colorbar\": {\"outlinewidth\": 0, \"ticks\": \"\"}, \"colorscale\": [[0.0, \"#0d0887\"], [0.1111111111111111, \"#46039f\"], [0.2222222222222222, \"#7201a8\"], [0.3333333333333333, \"#9c179e\"], [0.4444444444444444, \"#bd3786\"], [0.5555555555555556, \"#d8576b\"], [0.6666666666666666, \"#ed7953\"], [0.7777777777777778, \"#fb9f3a\"], [0.8888888888888888, \"#fdca26\"], [1.0, \"#f0f921\"]], \"type\": \"histogram2dcontour\"}], \"mesh3d\": [{\"colorbar\": {\"outlinewidth\": 0, \"ticks\": \"\"}, \"type\": \"mesh3d\"}], \"parcoords\": [{\"line\": {\"colorbar\": {\"outlinewidth\": 0, \"ticks\": \"\"}}, \"type\": \"parcoords\"}], \"pie\": [{\"automargin\": true, \"type\": \"pie\"}], \"scatter\": [{\"marker\": {\"colorbar\": {\"outlinewidth\": 0, \"ticks\": \"\"}}, \"type\": \"scatter\"}], \"scatter3d\": [{\"line\": {\"colorbar\": {\"outlinewidth\": 0, \"ticks\": \"\"}}, \"marker\": {\"colorbar\": {\"outlinewidth\": 0, \"ticks\": \"\"}}, \"type\": \"scatter3d\"}], \"scattercarpet\": [{\"marker\": {\"colorbar\": {\"outlinewidth\": 0, \"ticks\": \"\"}}, \"type\": \"scattercarpet\"}], \"scattergeo\": [{\"marker\": {\"colorbar\": {\"outlinewidth\": 0, \"ticks\": \"\"}}, \"type\": \"scattergeo\"}], \"scattergl\": [{\"marker\": {\"colorbar\": {\"outlinewidth\": 0, \"ticks\": \"\"}}, \"type\": \"scattergl\"}], \"scattermapbox\": [{\"marker\": {\"colorbar\": {\"outlinewidth\": 0, \"ticks\": \"\"}}, \"type\": \"scattermapbox\"}], \"scatterpolar\": [{\"marker\": {\"colorbar\": {\"outlinewidth\": 0, \"ticks\": \"\"}}, \"type\": \"scatterpolar\"}], \"scatterpolargl\": [{\"marker\": {\"colorbar\": {\"outlinewidth\": 0, \"ticks\": \"\"}}, \"type\": \"scatterpolargl\"}], \"scatterternary\": [{\"marker\": {\"colorbar\": {\"outlinewidth\": 0, \"ticks\": \"\"}}, \"type\": \"scatterternary\"}], \"surface\": [{\"colorbar\": {\"outlinewidth\": 0, \"ticks\": \"\"}, \"colorscale\": [[0.0, \"#0d0887\"], [0.1111111111111111, \"#46039f\"], [0.2222222222222222, \"#7201a8\"], [0.3333333333333333, \"#9c179e\"], [0.4444444444444444, \"#bd3786\"], [0.5555555555555556, \"#d8576b\"], [0.6666666666666666, \"#ed7953\"], [0.7777777777777778, \"#fb9f3a\"], [0.8888888888888888, \"#fdca26\"], [1.0, \"#f0f921\"]], \"type\": \"surface\"}], \"table\": [{\"cells\": {\"fill\": {\"color\": \"#EBF0F8\"}, \"line\": {\"color\": \"white\"}}, \"header\": {\"fill\": {\"color\": \"#C8D4E3\"}, \"line\": {\"color\": \"white\"}}, \"type\": \"table\"}]}, \"layout\": {\"annotationdefaults\": {\"arrowcolor\": \"#2a3f5f\", \"arrowhead\": 0, \"arrowwidth\": 1}, \"coloraxis\": {\"colorbar\": {\"outlinewidth\": 0, \"ticks\": \"\"}}, \"colorscale\": {\"diverging\": [[0, \"#8e0152\"], [0.1, \"#c51b7d\"], [0.2, \"#de77ae\"], [0.3, \"#f1b6da\"], [0.4, \"#fde0ef\"], [0.5, \"#f7f7f7\"], [0.6, \"#e6f5d0\"], [0.7, \"#b8e186\"], [0.8, \"#7fbc41\"], [0.9, \"#4d9221\"], [1, \"#276419\"]], \"sequential\": [[0.0, \"#0d0887\"], [0.1111111111111111, \"#46039f\"], [0.2222222222222222, \"#7201a8\"], [0.3333333333333333, \"#9c179e\"], [0.4444444444444444, \"#bd3786\"], [0.5555555555555556, \"#d8576b\"], [0.6666666666666666, \"#ed7953\"], [0.7777777777777778, \"#fb9f3a\"], [0.8888888888888888, \"#fdca26\"], [1.0, \"#f0f921\"]], \"sequentialminus\": [[0.0, \"#0d0887\"], [0.1111111111111111, \"#46039f\"], [0.2222222222222222, \"#7201a8\"], [0.3333333333333333, \"#9c179e\"], [0.4444444444444444, \"#bd3786\"], [0.5555555555555556, \"#d8576b\"], [0.6666666666666666, \"#ed7953\"], [0.7777777777777778, \"#fb9f3a\"], [0.8888888888888888, \"#fdca26\"], [1.0, \"#f0f921\"]]}, \"colorway\": [\"#636efa\", \"#EF553B\", \"#00cc96\", \"#ab63fa\", \"#FFA15A\", \"#19d3f3\", \"#FF6692\", \"#B6E880\", \"#FF97FF\", \"#FECB52\"], \"font\": {\"color\": \"#2a3f5f\"}, \"geo\": {\"bgcolor\": \"white\", \"lakecolor\": \"white\", \"landcolor\": \"#E5ECF6\", \"showlakes\": true, \"showland\": true, \"subunitcolor\": \"white\"}, \"hoverlabel\": {\"align\": \"left\"}, \"hovermode\": \"closest\", \"mapbox\": {\"style\": \"light\"}, \"paper_bgcolor\": \"white\", \"plot_bgcolor\": \"#E5ECF6\", \"polar\": {\"angularaxis\": {\"gridcolor\": \"white\", \"linecolor\": \"white\", \"ticks\": \"\"}, \"bgcolor\": \"#E5ECF6\", \"radialaxis\": {\"gridcolor\": \"white\", \"linecolor\": \"white\", \"ticks\": \"\"}}, \"scene\": {\"xaxis\": {\"backgroundcolor\": \"#E5ECF6\", \"gridcolor\": \"white\", \"gridwidth\": 2, \"linecolor\": \"white\", \"showbackground\": true, \"ticks\": \"\", \"zerolinecolor\": \"white\"}, \"yaxis\": {\"backgroundcolor\": \"#E5ECF6\", \"gridcolor\": \"white\", \"gridwidth\": 2, \"linecolor\": \"white\", \"showbackground\": true, \"ticks\": \"\", \"zerolinecolor\": \"white\"}, \"zaxis\": {\"backgroundcolor\": \"#E5ECF6\", \"gridcolor\": \"white\", \"gridwidth\": 2, \"linecolor\": \"white\", \"showbackground\": true, \"ticks\": \"\", \"zerolinecolor\": \"white\"}}, \"shapedefaults\": {\"line\": {\"color\": \"#2a3f5f\"}}, \"ternary\": {\"aaxis\": {\"gridcolor\": \"white\", \"linecolor\": \"white\", \"ticks\": \"\"}, \"baxis\": {\"gridcolor\": \"white\", \"linecolor\": \"white\", \"ticks\": \"\"}, \"bgcolor\": \"#E5ECF6\", \"caxis\": {\"gridcolor\": \"white\", \"linecolor\": \"white\", \"ticks\": \"\"}}, \"title\": {\"x\": 0.05}, \"xaxis\": {\"automargin\": true, \"gridcolor\": \"white\", \"linecolor\": \"white\", \"ticks\": \"\", \"title\": {\"standoff\": 15}, \"zerolinecolor\": \"white\", \"zerolinewidth\": 2}, \"yaxis\": {\"automargin\": true, \"gridcolor\": \"white\", \"linecolor\": \"white\", \"ticks\": \"\", \"title\": {\"standoff\": 15}, \"zerolinecolor\": \"white\", \"zerolinewidth\": 2}}}, \"title\": {\"text\": \"No Model\"}},\n",
       "                        {\"responsive\": true}\n",
       "                    ).then(function(){\n",
       "                            \n",
       "var gd = document.getElementById('775733c3-338d-4b7d-aa2a-1d55c200366d');\n",
       "var x = new MutationObserver(function (mutations, observer) {{\n",
       "        var display = window.getComputedStyle(gd).display;\n",
       "        if (!display || display === 'none') {{\n",
       "            console.log([gd, 'removed!']);\n",
       "            Plotly.purge(gd);\n",
       "            observer.disconnect();\n",
       "        }}\n",
       "}});\n",
       "\n",
       "// Listen for the removal of the full notebook cells\n",
       "var notebookContainer = gd.closest('#notebook-container');\n",
       "if (notebookContainer) {{\n",
       "    x.observe(notebookContainer, {childList: true});\n",
       "}}\n",
       "\n",
       "// Listen for the clearing of the current output cell\n",
       "var outputEl = gd.closest('.output');\n",
       "if (outputEl) {{\n",
       "    x.observe(outputEl, {childList: true});\n",
       "}}\n",
       "\n",
       "                        })\n",
       "                };\n",
       "                });\n",
       "            </script>\n",
       "        </div>"
      ]
     },
     "metadata": {},
     "output_type": "display_data"
    },
    {
     "data": {
      "application/vnd.plotly.v1+json": {
       "config": {
        "plotlyServerURL": "https://plot.ly"
       },
       "data": [
        {
         "type": "heatmap",
         "z": [
          [
           0,
           0,
           0,
           0,
           0
          ],
          [
           0,
           0,
           0,
           0,
           0
          ],
          [
           0,
           0,
           1,
           0,
           0
          ],
          [
           0,
           0,
           0,
           0,
           0
          ],
          [
           0,
           0,
           0,
           0,
           0
          ]
         ],
         "zmax": 1,
         "zmin": 0
        }
       ],
       "layout": {
        "template": {
         "data": {
          "bar": [
           {
            "error_x": {
             "color": "#2a3f5f"
            },
            "error_y": {
             "color": "#2a3f5f"
            },
            "marker": {
             "line": {
              "color": "#E5ECF6",
              "width": 0.5
             }
            },
            "type": "bar"
           }
          ],
          "barpolar": [
           {
            "marker": {
             "line": {
              "color": "#E5ECF6",
              "width": 0.5
             }
            },
            "type": "barpolar"
           }
          ],
          "carpet": [
           {
            "aaxis": {
             "endlinecolor": "#2a3f5f",
             "gridcolor": "white",
             "linecolor": "white",
             "minorgridcolor": "white",
             "startlinecolor": "#2a3f5f"
            },
            "baxis": {
             "endlinecolor": "#2a3f5f",
             "gridcolor": "white",
             "linecolor": "white",
             "minorgridcolor": "white",
             "startlinecolor": "#2a3f5f"
            },
            "type": "carpet"
           }
          ],
          "choropleth": [
           {
            "colorbar": {
             "outlinewidth": 0,
             "ticks": ""
            },
            "type": "choropleth"
           }
          ],
          "contour": [
           {
            "colorbar": {
             "outlinewidth": 0,
             "ticks": ""
            },
            "colorscale": [
             [
              0,
              "#0d0887"
             ],
             [
              0.1111111111111111,
              "#46039f"
             ],
             [
              0.2222222222222222,
              "#7201a8"
             ],
             [
              0.3333333333333333,
              "#9c179e"
             ],
             [
              0.4444444444444444,
              "#bd3786"
             ],
             [
              0.5555555555555556,
              "#d8576b"
             ],
             [
              0.6666666666666666,
              "#ed7953"
             ],
             [
              0.7777777777777778,
              "#fb9f3a"
             ],
             [
              0.8888888888888888,
              "#fdca26"
             ],
             [
              1,
              "#f0f921"
             ]
            ],
            "type": "contour"
           }
          ],
          "contourcarpet": [
           {
            "colorbar": {
             "outlinewidth": 0,
             "ticks": ""
            },
            "type": "contourcarpet"
           }
          ],
          "heatmap": [
           {
            "colorbar": {
             "outlinewidth": 0,
             "ticks": ""
            },
            "colorscale": [
             [
              0,
              "#0d0887"
             ],
             [
              0.1111111111111111,
              "#46039f"
             ],
             [
              0.2222222222222222,
              "#7201a8"
             ],
             [
              0.3333333333333333,
              "#9c179e"
             ],
             [
              0.4444444444444444,
              "#bd3786"
             ],
             [
              0.5555555555555556,
              "#d8576b"
             ],
             [
              0.6666666666666666,
              "#ed7953"
             ],
             [
              0.7777777777777778,
              "#fb9f3a"
             ],
             [
              0.8888888888888888,
              "#fdca26"
             ],
             [
              1,
              "#f0f921"
             ]
            ],
            "type": "heatmap"
           }
          ],
          "heatmapgl": [
           {
            "colorbar": {
             "outlinewidth": 0,
             "ticks": ""
            },
            "colorscale": [
             [
              0,
              "#0d0887"
             ],
             [
              0.1111111111111111,
              "#46039f"
             ],
             [
              0.2222222222222222,
              "#7201a8"
             ],
             [
              0.3333333333333333,
              "#9c179e"
             ],
             [
              0.4444444444444444,
              "#bd3786"
             ],
             [
              0.5555555555555556,
              "#d8576b"
             ],
             [
              0.6666666666666666,
              "#ed7953"
             ],
             [
              0.7777777777777778,
              "#fb9f3a"
             ],
             [
              0.8888888888888888,
              "#fdca26"
             ],
             [
              1,
              "#f0f921"
             ]
            ],
            "type": "heatmapgl"
           }
          ],
          "histogram": [
           {
            "marker": {
             "colorbar": {
              "outlinewidth": 0,
              "ticks": ""
             }
            },
            "type": "histogram"
           }
          ],
          "histogram2d": [
           {
            "colorbar": {
             "outlinewidth": 0,
             "ticks": ""
            },
            "colorscale": [
             [
              0,
              "#0d0887"
             ],
             [
              0.1111111111111111,
              "#46039f"
             ],
             [
              0.2222222222222222,
              "#7201a8"
             ],
             [
              0.3333333333333333,
              "#9c179e"
             ],
             [
              0.4444444444444444,
              "#bd3786"
             ],
             [
              0.5555555555555556,
              "#d8576b"
             ],
             [
              0.6666666666666666,
              "#ed7953"
             ],
             [
              0.7777777777777778,
              "#fb9f3a"
             ],
             [
              0.8888888888888888,
              "#fdca26"
             ],
             [
              1,
              "#f0f921"
             ]
            ],
            "type": "histogram2d"
           }
          ],
          "histogram2dcontour": [
           {
            "colorbar": {
             "outlinewidth": 0,
             "ticks": ""
            },
            "colorscale": [
             [
              0,
              "#0d0887"
             ],
             [
              0.1111111111111111,
              "#46039f"
             ],
             [
              0.2222222222222222,
              "#7201a8"
             ],
             [
              0.3333333333333333,
              "#9c179e"
             ],
             [
              0.4444444444444444,
              "#bd3786"
             ],
             [
              0.5555555555555556,
              "#d8576b"
             ],
             [
              0.6666666666666666,
              "#ed7953"
             ],
             [
              0.7777777777777778,
              "#fb9f3a"
             ],
             [
              0.8888888888888888,
              "#fdca26"
             ],
             [
              1,
              "#f0f921"
             ]
            ],
            "type": "histogram2dcontour"
           }
          ],
          "mesh3d": [
           {
            "colorbar": {
             "outlinewidth": 0,
             "ticks": ""
            },
            "type": "mesh3d"
           }
          ],
          "parcoords": [
           {
            "line": {
             "colorbar": {
              "outlinewidth": 0,
              "ticks": ""
             }
            },
            "type": "parcoords"
           }
          ],
          "pie": [
           {
            "automargin": true,
            "type": "pie"
           }
          ],
          "scatter": [
           {
            "marker": {
             "colorbar": {
              "outlinewidth": 0,
              "ticks": ""
             }
            },
            "type": "scatter"
           }
          ],
          "scatter3d": [
           {
            "line": {
             "colorbar": {
              "outlinewidth": 0,
              "ticks": ""
             }
            },
            "marker": {
             "colorbar": {
              "outlinewidth": 0,
              "ticks": ""
             }
            },
            "type": "scatter3d"
           }
          ],
          "scattercarpet": [
           {
            "marker": {
             "colorbar": {
              "outlinewidth": 0,
              "ticks": ""
             }
            },
            "type": "scattercarpet"
           }
          ],
          "scattergeo": [
           {
            "marker": {
             "colorbar": {
              "outlinewidth": 0,
              "ticks": ""
             }
            },
            "type": "scattergeo"
           }
          ],
          "scattergl": [
           {
            "marker": {
             "colorbar": {
              "outlinewidth": 0,
              "ticks": ""
             }
            },
            "type": "scattergl"
           }
          ],
          "scattermapbox": [
           {
            "marker": {
             "colorbar": {
              "outlinewidth": 0,
              "ticks": ""
             }
            },
            "type": "scattermapbox"
           }
          ],
          "scatterpolar": [
           {
            "marker": {
             "colorbar": {
              "outlinewidth": 0,
              "ticks": ""
             }
            },
            "type": "scatterpolar"
           }
          ],
          "scatterpolargl": [
           {
            "marker": {
             "colorbar": {
              "outlinewidth": 0,
              "ticks": ""
             }
            },
            "type": "scatterpolargl"
           }
          ],
          "scatterternary": [
           {
            "marker": {
             "colorbar": {
              "outlinewidth": 0,
              "ticks": ""
             }
            },
            "type": "scatterternary"
           }
          ],
          "surface": [
           {
            "colorbar": {
             "outlinewidth": 0,
             "ticks": ""
            },
            "colorscale": [
             [
              0,
              "#0d0887"
             ],
             [
              0.1111111111111111,
              "#46039f"
             ],
             [
              0.2222222222222222,
              "#7201a8"
             ],
             [
              0.3333333333333333,
              "#9c179e"
             ],
             [
              0.4444444444444444,
              "#bd3786"
             ],
             [
              0.5555555555555556,
              "#d8576b"
             ],
             [
              0.6666666666666666,
              "#ed7953"
             ],
             [
              0.7777777777777778,
              "#fb9f3a"
             ],
             [
              0.8888888888888888,
              "#fdca26"
             ],
             [
              1,
              "#f0f921"
             ]
            ],
            "type": "surface"
           }
          ],
          "table": [
           {
            "cells": {
             "fill": {
              "color": "#EBF0F8"
             },
             "line": {
              "color": "white"
             }
            },
            "header": {
             "fill": {
              "color": "#C8D4E3"
             },
             "line": {
              "color": "white"
             }
            },
            "type": "table"
           }
          ]
         },
         "layout": {
          "annotationdefaults": {
           "arrowcolor": "#2a3f5f",
           "arrowhead": 0,
           "arrowwidth": 1
          },
          "coloraxis": {
           "colorbar": {
            "outlinewidth": 0,
            "ticks": ""
           }
          },
          "colorscale": {
           "diverging": [
            [
             0,
             "#8e0152"
            ],
            [
             0.1,
             "#c51b7d"
            ],
            [
             0.2,
             "#de77ae"
            ],
            [
             0.3,
             "#f1b6da"
            ],
            [
             0.4,
             "#fde0ef"
            ],
            [
             0.5,
             "#f7f7f7"
            ],
            [
             0.6,
             "#e6f5d0"
            ],
            [
             0.7,
             "#b8e186"
            ],
            [
             0.8,
             "#7fbc41"
            ],
            [
             0.9,
             "#4d9221"
            ],
            [
             1,
             "#276419"
            ]
           ],
           "sequential": [
            [
             0,
             "#0d0887"
            ],
            [
             0.1111111111111111,
             "#46039f"
            ],
            [
             0.2222222222222222,
             "#7201a8"
            ],
            [
             0.3333333333333333,
             "#9c179e"
            ],
            [
             0.4444444444444444,
             "#bd3786"
            ],
            [
             0.5555555555555556,
             "#d8576b"
            ],
            [
             0.6666666666666666,
             "#ed7953"
            ],
            [
             0.7777777777777778,
             "#fb9f3a"
            ],
            [
             0.8888888888888888,
             "#fdca26"
            ],
            [
             1,
             "#f0f921"
            ]
           ],
           "sequentialminus": [
            [
             0,
             "#0d0887"
            ],
            [
             0.1111111111111111,
             "#46039f"
            ],
            [
             0.2222222222222222,
             "#7201a8"
            ],
            [
             0.3333333333333333,
             "#9c179e"
            ],
            [
             0.4444444444444444,
             "#bd3786"
            ],
            [
             0.5555555555555556,
             "#d8576b"
            ],
            [
             0.6666666666666666,
             "#ed7953"
            ],
            [
             0.7777777777777778,
             "#fb9f3a"
            ],
            [
             0.8888888888888888,
             "#fdca26"
            ],
            [
             1,
             "#f0f921"
            ]
           ]
          },
          "colorway": [
           "#636efa",
           "#EF553B",
           "#00cc96",
           "#ab63fa",
           "#FFA15A",
           "#19d3f3",
           "#FF6692",
           "#B6E880",
           "#FF97FF",
           "#FECB52"
          ],
          "font": {
           "color": "#2a3f5f"
          },
          "geo": {
           "bgcolor": "white",
           "lakecolor": "white",
           "landcolor": "#E5ECF6",
           "showlakes": true,
           "showland": true,
           "subunitcolor": "white"
          },
          "hoverlabel": {
           "align": "left"
          },
          "hovermode": "closest",
          "mapbox": {
           "style": "light"
          },
          "paper_bgcolor": "white",
          "plot_bgcolor": "#E5ECF6",
          "polar": {
           "angularaxis": {
            "gridcolor": "white",
            "linecolor": "white",
            "ticks": ""
           },
           "bgcolor": "#E5ECF6",
           "radialaxis": {
            "gridcolor": "white",
            "linecolor": "white",
            "ticks": ""
           }
          },
          "scene": {
           "xaxis": {
            "backgroundcolor": "#E5ECF6",
            "gridcolor": "white",
            "gridwidth": 2,
            "linecolor": "white",
            "showbackground": true,
            "ticks": "",
            "zerolinecolor": "white"
           },
           "yaxis": {
            "backgroundcolor": "#E5ECF6",
            "gridcolor": "white",
            "gridwidth": 2,
            "linecolor": "white",
            "showbackground": true,
            "ticks": "",
            "zerolinecolor": "white"
           },
           "zaxis": {
            "backgroundcolor": "#E5ECF6",
            "gridcolor": "white",
            "gridwidth": 2,
            "linecolor": "white",
            "showbackground": true,
            "ticks": "",
            "zerolinecolor": "white"
           }
          },
          "shapedefaults": {
           "line": {
            "color": "#2a3f5f"
           }
          },
          "ternary": {
           "aaxis": {
            "gridcolor": "white",
            "linecolor": "white",
            "ticks": ""
           },
           "baxis": {
            "gridcolor": "white",
            "linecolor": "white",
            "ticks": ""
           },
           "bgcolor": "#E5ECF6",
           "caxis": {
            "gridcolor": "white",
            "linecolor": "white",
            "ticks": ""
           }
          },
          "title": {
           "x": 0.05
          },
          "xaxis": {
           "automargin": true,
           "gridcolor": "white",
           "linecolor": "white",
           "ticks": "",
           "title": {
            "standoff": 15
           },
           "zerolinecolor": "white",
           "zerolinewidth": 2
          },
          "yaxis": {
           "automargin": true,
           "gridcolor": "white",
           "linecolor": "white",
           "ticks": "",
           "title": {
            "standoff": 15
           },
           "zerolinecolor": "white",
           "zerolinewidth": 2
          }
         }
        },
        "title": {
         "text": "Baseline"
        }
       }
      },
      "text/html": [
       "<div>\n",
       "        \n",
       "        \n",
       "            <div id=\"898dd858-045d-4c2e-98e3-c1cec7c0e894\" class=\"plotly-graph-div\" style=\"height:525px; width:100%;\"></div>\n",
       "            <script type=\"text/javascript\">\n",
       "                require([\"plotly\"], function(Plotly) {\n",
       "                    window.PLOTLYENV=window.PLOTLYENV || {};\n",
       "                    \n",
       "                if (document.getElementById(\"898dd858-045d-4c2e-98e3-c1cec7c0e894\")) {\n",
       "                    Plotly.newPlot(\n",
       "                        '898dd858-045d-4c2e-98e3-c1cec7c0e894',\n",
       "                        [{\"type\": \"heatmap\", \"z\": [[0.0, 0.0, 0.0, 0.0, 0.0], [0.0, 0.0, 0.0, 0.0, 0.0], [0.0, 0.0, 1.0, 0.0, 0.0], [0.0, 0.0, 0.0, 0.0, 0.0], [0.0, 0.0, 0.0, 0.0, 0.0]], \"zmax\": 1, \"zmin\": 0}],\n",
       "                        {\"template\": {\"data\": {\"bar\": [{\"error_x\": {\"color\": \"#2a3f5f\"}, \"error_y\": {\"color\": \"#2a3f5f\"}, \"marker\": {\"line\": {\"color\": \"#E5ECF6\", \"width\": 0.5}}, \"type\": \"bar\"}], \"barpolar\": [{\"marker\": {\"line\": {\"color\": \"#E5ECF6\", \"width\": 0.5}}, \"type\": \"barpolar\"}], \"carpet\": [{\"aaxis\": {\"endlinecolor\": \"#2a3f5f\", \"gridcolor\": \"white\", \"linecolor\": \"white\", \"minorgridcolor\": \"white\", \"startlinecolor\": \"#2a3f5f\"}, \"baxis\": {\"endlinecolor\": \"#2a3f5f\", \"gridcolor\": \"white\", \"linecolor\": \"white\", \"minorgridcolor\": \"white\", \"startlinecolor\": \"#2a3f5f\"}, \"type\": \"carpet\"}], \"choropleth\": [{\"colorbar\": {\"outlinewidth\": 0, \"ticks\": \"\"}, \"type\": \"choropleth\"}], \"contour\": [{\"colorbar\": {\"outlinewidth\": 0, \"ticks\": \"\"}, \"colorscale\": [[0.0, \"#0d0887\"], [0.1111111111111111, \"#46039f\"], [0.2222222222222222, \"#7201a8\"], [0.3333333333333333, \"#9c179e\"], [0.4444444444444444, \"#bd3786\"], [0.5555555555555556, \"#d8576b\"], [0.6666666666666666, \"#ed7953\"], [0.7777777777777778, \"#fb9f3a\"], [0.8888888888888888, \"#fdca26\"], [1.0, \"#f0f921\"]], \"type\": \"contour\"}], \"contourcarpet\": [{\"colorbar\": {\"outlinewidth\": 0, \"ticks\": \"\"}, \"type\": \"contourcarpet\"}], \"heatmap\": [{\"colorbar\": {\"outlinewidth\": 0, \"ticks\": \"\"}, \"colorscale\": [[0.0, \"#0d0887\"], [0.1111111111111111, \"#46039f\"], [0.2222222222222222, \"#7201a8\"], [0.3333333333333333, \"#9c179e\"], [0.4444444444444444, \"#bd3786\"], [0.5555555555555556, \"#d8576b\"], [0.6666666666666666, \"#ed7953\"], [0.7777777777777778, \"#fb9f3a\"], [0.8888888888888888, \"#fdca26\"], [1.0, \"#f0f921\"]], \"type\": \"heatmap\"}], \"heatmapgl\": [{\"colorbar\": {\"outlinewidth\": 0, \"ticks\": \"\"}, \"colorscale\": [[0.0, \"#0d0887\"], [0.1111111111111111, \"#46039f\"], [0.2222222222222222, \"#7201a8\"], [0.3333333333333333, \"#9c179e\"], [0.4444444444444444, \"#bd3786\"], [0.5555555555555556, \"#d8576b\"], [0.6666666666666666, \"#ed7953\"], [0.7777777777777778, \"#fb9f3a\"], [0.8888888888888888, \"#fdca26\"], [1.0, \"#f0f921\"]], \"type\": \"heatmapgl\"}], \"histogram\": [{\"marker\": {\"colorbar\": {\"outlinewidth\": 0, \"ticks\": \"\"}}, \"type\": \"histogram\"}], \"histogram2d\": [{\"colorbar\": {\"outlinewidth\": 0, \"ticks\": \"\"}, \"colorscale\": [[0.0, \"#0d0887\"], [0.1111111111111111, \"#46039f\"], [0.2222222222222222, \"#7201a8\"], [0.3333333333333333, \"#9c179e\"], [0.4444444444444444, \"#bd3786\"], [0.5555555555555556, \"#d8576b\"], [0.6666666666666666, \"#ed7953\"], [0.7777777777777778, \"#fb9f3a\"], [0.8888888888888888, \"#fdca26\"], [1.0, \"#f0f921\"]], \"type\": \"histogram2d\"}], \"histogram2dcontour\": [{\"colorbar\": {\"outlinewidth\": 0, \"ticks\": \"\"}, \"colorscale\": [[0.0, \"#0d0887\"], [0.1111111111111111, \"#46039f\"], [0.2222222222222222, \"#7201a8\"], [0.3333333333333333, \"#9c179e\"], [0.4444444444444444, \"#bd3786\"], [0.5555555555555556, \"#d8576b\"], [0.6666666666666666, \"#ed7953\"], [0.7777777777777778, \"#fb9f3a\"], [0.8888888888888888, \"#fdca26\"], [1.0, \"#f0f921\"]], \"type\": \"histogram2dcontour\"}], \"mesh3d\": [{\"colorbar\": {\"outlinewidth\": 0, \"ticks\": \"\"}, \"type\": \"mesh3d\"}], \"parcoords\": [{\"line\": {\"colorbar\": {\"outlinewidth\": 0, \"ticks\": \"\"}}, \"type\": \"parcoords\"}], \"pie\": [{\"automargin\": true, \"type\": \"pie\"}], \"scatter\": [{\"marker\": {\"colorbar\": {\"outlinewidth\": 0, \"ticks\": \"\"}}, \"type\": \"scatter\"}], \"scatter3d\": [{\"line\": {\"colorbar\": {\"outlinewidth\": 0, \"ticks\": \"\"}}, \"marker\": {\"colorbar\": {\"outlinewidth\": 0, \"ticks\": \"\"}}, \"type\": \"scatter3d\"}], \"scattercarpet\": [{\"marker\": {\"colorbar\": {\"outlinewidth\": 0, \"ticks\": \"\"}}, \"type\": \"scattercarpet\"}], \"scattergeo\": [{\"marker\": {\"colorbar\": {\"outlinewidth\": 0, \"ticks\": \"\"}}, \"type\": \"scattergeo\"}], \"scattergl\": [{\"marker\": {\"colorbar\": {\"outlinewidth\": 0, \"ticks\": \"\"}}, \"type\": \"scattergl\"}], \"scattermapbox\": [{\"marker\": {\"colorbar\": {\"outlinewidth\": 0, \"ticks\": \"\"}}, \"type\": \"scattermapbox\"}], \"scatterpolar\": [{\"marker\": {\"colorbar\": {\"outlinewidth\": 0, \"ticks\": \"\"}}, \"type\": \"scatterpolar\"}], \"scatterpolargl\": [{\"marker\": {\"colorbar\": {\"outlinewidth\": 0, \"ticks\": \"\"}}, \"type\": \"scatterpolargl\"}], \"scatterternary\": [{\"marker\": {\"colorbar\": {\"outlinewidth\": 0, \"ticks\": \"\"}}, \"type\": \"scatterternary\"}], \"surface\": [{\"colorbar\": {\"outlinewidth\": 0, \"ticks\": \"\"}, \"colorscale\": [[0.0, \"#0d0887\"], [0.1111111111111111, \"#46039f\"], [0.2222222222222222, \"#7201a8\"], [0.3333333333333333, \"#9c179e\"], [0.4444444444444444, \"#bd3786\"], [0.5555555555555556, \"#d8576b\"], [0.6666666666666666, \"#ed7953\"], [0.7777777777777778, \"#fb9f3a\"], [0.8888888888888888, \"#fdca26\"], [1.0, \"#f0f921\"]], \"type\": \"surface\"}], \"table\": [{\"cells\": {\"fill\": {\"color\": \"#EBF0F8\"}, \"line\": {\"color\": \"white\"}}, \"header\": {\"fill\": {\"color\": \"#C8D4E3\"}, \"line\": {\"color\": \"white\"}}, \"type\": \"table\"}]}, \"layout\": {\"annotationdefaults\": {\"arrowcolor\": \"#2a3f5f\", \"arrowhead\": 0, \"arrowwidth\": 1}, \"coloraxis\": {\"colorbar\": {\"outlinewidth\": 0, \"ticks\": \"\"}}, \"colorscale\": {\"diverging\": [[0, \"#8e0152\"], [0.1, \"#c51b7d\"], [0.2, \"#de77ae\"], [0.3, \"#f1b6da\"], [0.4, \"#fde0ef\"], [0.5, \"#f7f7f7\"], [0.6, \"#e6f5d0\"], [0.7, \"#b8e186\"], [0.8, \"#7fbc41\"], [0.9, \"#4d9221\"], [1, \"#276419\"]], \"sequential\": [[0.0, \"#0d0887\"], [0.1111111111111111, \"#46039f\"], [0.2222222222222222, \"#7201a8\"], [0.3333333333333333, \"#9c179e\"], [0.4444444444444444, \"#bd3786\"], [0.5555555555555556, \"#d8576b\"], [0.6666666666666666, \"#ed7953\"], [0.7777777777777778, \"#fb9f3a\"], [0.8888888888888888, \"#fdca26\"], [1.0, \"#f0f921\"]], \"sequentialminus\": [[0.0, \"#0d0887\"], [0.1111111111111111, \"#46039f\"], [0.2222222222222222, \"#7201a8\"], [0.3333333333333333, \"#9c179e\"], [0.4444444444444444, \"#bd3786\"], [0.5555555555555556, \"#d8576b\"], [0.6666666666666666, \"#ed7953\"], [0.7777777777777778, \"#fb9f3a\"], [0.8888888888888888, \"#fdca26\"], [1.0, \"#f0f921\"]]}, \"colorway\": [\"#636efa\", \"#EF553B\", \"#00cc96\", \"#ab63fa\", \"#FFA15A\", \"#19d3f3\", \"#FF6692\", \"#B6E880\", \"#FF97FF\", \"#FECB52\"], \"font\": {\"color\": \"#2a3f5f\"}, \"geo\": {\"bgcolor\": \"white\", \"lakecolor\": \"white\", \"landcolor\": \"#E5ECF6\", \"showlakes\": true, \"showland\": true, \"subunitcolor\": \"white\"}, \"hoverlabel\": {\"align\": \"left\"}, \"hovermode\": \"closest\", \"mapbox\": {\"style\": \"light\"}, \"paper_bgcolor\": \"white\", \"plot_bgcolor\": \"#E5ECF6\", \"polar\": {\"angularaxis\": {\"gridcolor\": \"white\", \"linecolor\": \"white\", \"ticks\": \"\"}, \"bgcolor\": \"#E5ECF6\", \"radialaxis\": {\"gridcolor\": \"white\", \"linecolor\": \"white\", \"ticks\": \"\"}}, \"scene\": {\"xaxis\": {\"backgroundcolor\": \"#E5ECF6\", \"gridcolor\": \"white\", \"gridwidth\": 2, \"linecolor\": \"white\", \"showbackground\": true, \"ticks\": \"\", \"zerolinecolor\": \"white\"}, \"yaxis\": {\"backgroundcolor\": \"#E5ECF6\", \"gridcolor\": \"white\", \"gridwidth\": 2, \"linecolor\": \"white\", \"showbackground\": true, \"ticks\": \"\", \"zerolinecolor\": \"white\"}, \"zaxis\": {\"backgroundcolor\": \"#E5ECF6\", \"gridcolor\": \"white\", \"gridwidth\": 2, \"linecolor\": \"white\", \"showbackground\": true, \"ticks\": \"\", \"zerolinecolor\": \"white\"}}, \"shapedefaults\": {\"line\": {\"color\": \"#2a3f5f\"}}, \"ternary\": {\"aaxis\": {\"gridcolor\": \"white\", \"linecolor\": \"white\", \"ticks\": \"\"}, \"baxis\": {\"gridcolor\": \"white\", \"linecolor\": \"white\", \"ticks\": \"\"}, \"bgcolor\": \"#E5ECF6\", \"caxis\": {\"gridcolor\": \"white\", \"linecolor\": \"white\", \"ticks\": \"\"}}, \"title\": {\"x\": 0.05}, \"xaxis\": {\"automargin\": true, \"gridcolor\": \"white\", \"linecolor\": \"white\", \"ticks\": \"\", \"title\": {\"standoff\": 15}, \"zerolinecolor\": \"white\", \"zerolinewidth\": 2}, \"yaxis\": {\"automargin\": true, \"gridcolor\": \"white\", \"linecolor\": \"white\", \"ticks\": \"\", \"title\": {\"standoff\": 15}, \"zerolinecolor\": \"white\", \"zerolinewidth\": 2}}}, \"title\": {\"text\": \"Baseline\"}},\n",
       "                        {\"responsive\": true}\n",
       "                    ).then(function(){\n",
       "                            \n",
       "var gd = document.getElementById('898dd858-045d-4c2e-98e3-c1cec7c0e894');\n",
       "var x = new MutationObserver(function (mutations, observer) {{\n",
       "        var display = window.getComputedStyle(gd).display;\n",
       "        if (!display || display === 'none') {{\n",
       "            console.log([gd, 'removed!']);\n",
       "            Plotly.purge(gd);\n",
       "            observer.disconnect();\n",
       "        }}\n",
       "}});\n",
       "\n",
       "// Listen for the removal of the full notebook cells\n",
       "var notebookContainer = gd.closest('#notebook-container');\n",
       "if (notebookContainer) {{\n",
       "    x.observe(notebookContainer, {childList: true});\n",
       "}}\n",
       "\n",
       "// Listen for the clearing of the current output cell\n",
       "var outputEl = gd.closest('.output');\n",
       "if (outputEl) {{\n",
       "    x.observe(outputEl, {childList: true});\n",
       "}}\n",
       "\n",
       "                        })\n",
       "                };\n",
       "                });\n",
       "            </script>\n",
       "        </div>"
      ]
     },
     "metadata": {},
     "output_type": "display_data"
    },
    {
     "data": {
      "application/vnd.plotly.v1+json": {
       "config": {
        "plotlyServerURL": "https://plot.ly"
       },
       "data": [
        {
         "type": "heatmap",
         "z": [
          [
           0,
           0,
           0,
           0,
           0
          ],
          [
           0,
           0,
           0,
           0,
           0
          ],
          [
           0,
           0,
           1,
           0,
           0
          ],
          [
           0,
           0,
           0,
           0,
           0
          ],
          [
           0,
           0,
           0,
           0,
           0
          ]
         ],
         "zmax": 1,
         "zmin": 0
        }
       ],
       "layout": {
        "template": {
         "data": {
          "bar": [
           {
            "error_x": {
             "color": "#2a3f5f"
            },
            "error_y": {
             "color": "#2a3f5f"
            },
            "marker": {
             "line": {
              "color": "#E5ECF6",
              "width": 0.5
             }
            },
            "type": "bar"
           }
          ],
          "barpolar": [
           {
            "marker": {
             "line": {
              "color": "#E5ECF6",
              "width": 0.5
             }
            },
            "type": "barpolar"
           }
          ],
          "carpet": [
           {
            "aaxis": {
             "endlinecolor": "#2a3f5f",
             "gridcolor": "white",
             "linecolor": "white",
             "minorgridcolor": "white",
             "startlinecolor": "#2a3f5f"
            },
            "baxis": {
             "endlinecolor": "#2a3f5f",
             "gridcolor": "white",
             "linecolor": "white",
             "minorgridcolor": "white",
             "startlinecolor": "#2a3f5f"
            },
            "type": "carpet"
           }
          ],
          "choropleth": [
           {
            "colorbar": {
             "outlinewidth": 0,
             "ticks": ""
            },
            "type": "choropleth"
           }
          ],
          "contour": [
           {
            "colorbar": {
             "outlinewidth": 0,
             "ticks": ""
            },
            "colorscale": [
             [
              0,
              "#0d0887"
             ],
             [
              0.1111111111111111,
              "#46039f"
             ],
             [
              0.2222222222222222,
              "#7201a8"
             ],
             [
              0.3333333333333333,
              "#9c179e"
             ],
             [
              0.4444444444444444,
              "#bd3786"
             ],
             [
              0.5555555555555556,
              "#d8576b"
             ],
             [
              0.6666666666666666,
              "#ed7953"
             ],
             [
              0.7777777777777778,
              "#fb9f3a"
             ],
             [
              0.8888888888888888,
              "#fdca26"
             ],
             [
              1,
              "#f0f921"
             ]
            ],
            "type": "contour"
           }
          ],
          "contourcarpet": [
           {
            "colorbar": {
             "outlinewidth": 0,
             "ticks": ""
            },
            "type": "contourcarpet"
           }
          ],
          "heatmap": [
           {
            "colorbar": {
             "outlinewidth": 0,
             "ticks": ""
            },
            "colorscale": [
             [
              0,
              "#0d0887"
             ],
             [
              0.1111111111111111,
              "#46039f"
             ],
             [
              0.2222222222222222,
              "#7201a8"
             ],
             [
              0.3333333333333333,
              "#9c179e"
             ],
             [
              0.4444444444444444,
              "#bd3786"
             ],
             [
              0.5555555555555556,
              "#d8576b"
             ],
             [
              0.6666666666666666,
              "#ed7953"
             ],
             [
              0.7777777777777778,
              "#fb9f3a"
             ],
             [
              0.8888888888888888,
              "#fdca26"
             ],
             [
              1,
              "#f0f921"
             ]
            ],
            "type": "heatmap"
           }
          ],
          "heatmapgl": [
           {
            "colorbar": {
             "outlinewidth": 0,
             "ticks": ""
            },
            "colorscale": [
             [
              0,
              "#0d0887"
             ],
             [
              0.1111111111111111,
              "#46039f"
             ],
             [
              0.2222222222222222,
              "#7201a8"
             ],
             [
              0.3333333333333333,
              "#9c179e"
             ],
             [
              0.4444444444444444,
              "#bd3786"
             ],
             [
              0.5555555555555556,
              "#d8576b"
             ],
             [
              0.6666666666666666,
              "#ed7953"
             ],
             [
              0.7777777777777778,
              "#fb9f3a"
             ],
             [
              0.8888888888888888,
              "#fdca26"
             ],
             [
              1,
              "#f0f921"
             ]
            ],
            "type": "heatmapgl"
           }
          ],
          "histogram": [
           {
            "marker": {
             "colorbar": {
              "outlinewidth": 0,
              "ticks": ""
             }
            },
            "type": "histogram"
           }
          ],
          "histogram2d": [
           {
            "colorbar": {
             "outlinewidth": 0,
             "ticks": ""
            },
            "colorscale": [
             [
              0,
              "#0d0887"
             ],
             [
              0.1111111111111111,
              "#46039f"
             ],
             [
              0.2222222222222222,
              "#7201a8"
             ],
             [
              0.3333333333333333,
              "#9c179e"
             ],
             [
              0.4444444444444444,
              "#bd3786"
             ],
             [
              0.5555555555555556,
              "#d8576b"
             ],
             [
              0.6666666666666666,
              "#ed7953"
             ],
             [
              0.7777777777777778,
              "#fb9f3a"
             ],
             [
              0.8888888888888888,
              "#fdca26"
             ],
             [
              1,
              "#f0f921"
             ]
            ],
            "type": "histogram2d"
           }
          ],
          "histogram2dcontour": [
           {
            "colorbar": {
             "outlinewidth": 0,
             "ticks": ""
            },
            "colorscale": [
             [
              0,
              "#0d0887"
             ],
             [
              0.1111111111111111,
              "#46039f"
             ],
             [
              0.2222222222222222,
              "#7201a8"
             ],
             [
              0.3333333333333333,
              "#9c179e"
             ],
             [
              0.4444444444444444,
              "#bd3786"
             ],
             [
              0.5555555555555556,
              "#d8576b"
             ],
             [
              0.6666666666666666,
              "#ed7953"
             ],
             [
              0.7777777777777778,
              "#fb9f3a"
             ],
             [
              0.8888888888888888,
              "#fdca26"
             ],
             [
              1,
              "#f0f921"
             ]
            ],
            "type": "histogram2dcontour"
           }
          ],
          "mesh3d": [
           {
            "colorbar": {
             "outlinewidth": 0,
             "ticks": ""
            },
            "type": "mesh3d"
           }
          ],
          "parcoords": [
           {
            "line": {
             "colorbar": {
              "outlinewidth": 0,
              "ticks": ""
             }
            },
            "type": "parcoords"
           }
          ],
          "pie": [
           {
            "automargin": true,
            "type": "pie"
           }
          ],
          "scatter": [
           {
            "marker": {
             "colorbar": {
              "outlinewidth": 0,
              "ticks": ""
             }
            },
            "type": "scatter"
           }
          ],
          "scatter3d": [
           {
            "line": {
             "colorbar": {
              "outlinewidth": 0,
              "ticks": ""
             }
            },
            "marker": {
             "colorbar": {
              "outlinewidth": 0,
              "ticks": ""
             }
            },
            "type": "scatter3d"
           }
          ],
          "scattercarpet": [
           {
            "marker": {
             "colorbar": {
              "outlinewidth": 0,
              "ticks": ""
             }
            },
            "type": "scattercarpet"
           }
          ],
          "scattergeo": [
           {
            "marker": {
             "colorbar": {
              "outlinewidth": 0,
              "ticks": ""
             }
            },
            "type": "scattergeo"
           }
          ],
          "scattergl": [
           {
            "marker": {
             "colorbar": {
              "outlinewidth": 0,
              "ticks": ""
             }
            },
            "type": "scattergl"
           }
          ],
          "scattermapbox": [
           {
            "marker": {
             "colorbar": {
              "outlinewidth": 0,
              "ticks": ""
             }
            },
            "type": "scattermapbox"
           }
          ],
          "scatterpolar": [
           {
            "marker": {
             "colorbar": {
              "outlinewidth": 0,
              "ticks": ""
             }
            },
            "type": "scatterpolar"
           }
          ],
          "scatterpolargl": [
           {
            "marker": {
             "colorbar": {
              "outlinewidth": 0,
              "ticks": ""
             }
            },
            "type": "scatterpolargl"
           }
          ],
          "scatterternary": [
           {
            "marker": {
             "colorbar": {
              "outlinewidth": 0,
              "ticks": ""
             }
            },
            "type": "scatterternary"
           }
          ],
          "surface": [
           {
            "colorbar": {
             "outlinewidth": 0,
             "ticks": ""
            },
            "colorscale": [
             [
              0,
              "#0d0887"
             ],
             [
              0.1111111111111111,
              "#46039f"
             ],
             [
              0.2222222222222222,
              "#7201a8"
             ],
             [
              0.3333333333333333,
              "#9c179e"
             ],
             [
              0.4444444444444444,
              "#bd3786"
             ],
             [
              0.5555555555555556,
              "#d8576b"
             ],
             [
              0.6666666666666666,
              "#ed7953"
             ],
             [
              0.7777777777777778,
              "#fb9f3a"
             ],
             [
              0.8888888888888888,
              "#fdca26"
             ],
             [
              1,
              "#f0f921"
             ]
            ],
            "type": "surface"
           }
          ],
          "table": [
           {
            "cells": {
             "fill": {
              "color": "#EBF0F8"
             },
             "line": {
              "color": "white"
             }
            },
            "header": {
             "fill": {
              "color": "#C8D4E3"
             },
             "line": {
              "color": "white"
             }
            },
            "type": "table"
           }
          ]
         },
         "layout": {
          "annotationdefaults": {
           "arrowcolor": "#2a3f5f",
           "arrowhead": 0,
           "arrowwidth": 1
          },
          "coloraxis": {
           "colorbar": {
            "outlinewidth": 0,
            "ticks": ""
           }
          },
          "colorscale": {
           "diverging": [
            [
             0,
             "#8e0152"
            ],
            [
             0.1,
             "#c51b7d"
            ],
            [
             0.2,
             "#de77ae"
            ],
            [
             0.3,
             "#f1b6da"
            ],
            [
             0.4,
             "#fde0ef"
            ],
            [
             0.5,
             "#f7f7f7"
            ],
            [
             0.6,
             "#e6f5d0"
            ],
            [
             0.7,
             "#b8e186"
            ],
            [
             0.8,
             "#7fbc41"
            ],
            [
             0.9,
             "#4d9221"
            ],
            [
             1,
             "#276419"
            ]
           ],
           "sequential": [
            [
             0,
             "#0d0887"
            ],
            [
             0.1111111111111111,
             "#46039f"
            ],
            [
             0.2222222222222222,
             "#7201a8"
            ],
            [
             0.3333333333333333,
             "#9c179e"
            ],
            [
             0.4444444444444444,
             "#bd3786"
            ],
            [
             0.5555555555555556,
             "#d8576b"
            ],
            [
             0.6666666666666666,
             "#ed7953"
            ],
            [
             0.7777777777777778,
             "#fb9f3a"
            ],
            [
             0.8888888888888888,
             "#fdca26"
            ],
            [
             1,
             "#f0f921"
            ]
           ],
           "sequentialminus": [
            [
             0,
             "#0d0887"
            ],
            [
             0.1111111111111111,
             "#46039f"
            ],
            [
             0.2222222222222222,
             "#7201a8"
            ],
            [
             0.3333333333333333,
             "#9c179e"
            ],
            [
             0.4444444444444444,
             "#bd3786"
            ],
            [
             0.5555555555555556,
             "#d8576b"
            ],
            [
             0.6666666666666666,
             "#ed7953"
            ],
            [
             0.7777777777777778,
             "#fb9f3a"
            ],
            [
             0.8888888888888888,
             "#fdca26"
            ],
            [
             1,
             "#f0f921"
            ]
           ]
          },
          "colorway": [
           "#636efa",
           "#EF553B",
           "#00cc96",
           "#ab63fa",
           "#FFA15A",
           "#19d3f3",
           "#FF6692",
           "#B6E880",
           "#FF97FF",
           "#FECB52"
          ],
          "font": {
           "color": "#2a3f5f"
          },
          "geo": {
           "bgcolor": "white",
           "lakecolor": "white",
           "landcolor": "#E5ECF6",
           "showlakes": true,
           "showland": true,
           "subunitcolor": "white"
          },
          "hoverlabel": {
           "align": "left"
          },
          "hovermode": "closest",
          "mapbox": {
           "style": "light"
          },
          "paper_bgcolor": "white",
          "plot_bgcolor": "#E5ECF6",
          "polar": {
           "angularaxis": {
            "gridcolor": "white",
            "linecolor": "white",
            "ticks": ""
           },
           "bgcolor": "#E5ECF6",
           "radialaxis": {
            "gridcolor": "white",
            "linecolor": "white",
            "ticks": ""
           }
          },
          "scene": {
           "xaxis": {
            "backgroundcolor": "#E5ECF6",
            "gridcolor": "white",
            "gridwidth": 2,
            "linecolor": "white",
            "showbackground": true,
            "ticks": "",
            "zerolinecolor": "white"
           },
           "yaxis": {
            "backgroundcolor": "#E5ECF6",
            "gridcolor": "white",
            "gridwidth": 2,
            "linecolor": "white",
            "showbackground": true,
            "ticks": "",
            "zerolinecolor": "white"
           },
           "zaxis": {
            "backgroundcolor": "#E5ECF6",
            "gridcolor": "white",
            "gridwidth": 2,
            "linecolor": "white",
            "showbackground": true,
            "ticks": "",
            "zerolinecolor": "white"
           }
          },
          "shapedefaults": {
           "line": {
            "color": "#2a3f5f"
           }
          },
          "ternary": {
           "aaxis": {
            "gridcolor": "white",
            "linecolor": "white",
            "ticks": ""
           },
           "baxis": {
            "gridcolor": "white",
            "linecolor": "white",
            "ticks": ""
           },
           "bgcolor": "#E5ECF6",
           "caxis": {
            "gridcolor": "white",
            "linecolor": "white",
            "ticks": ""
           }
          },
          "title": {
           "x": 0.05
          },
          "xaxis": {
           "automargin": true,
           "gridcolor": "white",
           "linecolor": "white",
           "ticks": "",
           "title": {
            "standoff": 15
           },
           "zerolinecolor": "white",
           "zerolinewidth": 2
          },
          "yaxis": {
           "automargin": true,
           "gridcolor": "white",
           "linecolor": "white",
           "ticks": "",
           "title": {
            "standoff": 15
           },
           "zerolinecolor": "white",
           "zerolinewidth": 2
          }
         }
        },
        "title": {
         "text": "Adversarial"
        }
       }
      },
      "text/html": [
       "<div>\n",
       "        \n",
       "        \n",
       "            <div id=\"d4d5cd8c-cfa3-480d-ab16-cc624b6073bb\" class=\"plotly-graph-div\" style=\"height:525px; width:100%;\"></div>\n",
       "            <script type=\"text/javascript\">\n",
       "                require([\"plotly\"], function(Plotly) {\n",
       "                    window.PLOTLYENV=window.PLOTLYENV || {};\n",
       "                    \n",
       "                if (document.getElementById(\"d4d5cd8c-cfa3-480d-ab16-cc624b6073bb\")) {\n",
       "                    Plotly.newPlot(\n",
       "                        'd4d5cd8c-cfa3-480d-ab16-cc624b6073bb',\n",
       "                        [{\"type\": \"heatmap\", \"z\": [[0.0, 0.0, 0.0, 0.0, 0.0], [0.0, 0.0, 0.0, 0.0, 0.0], [0.0, 0.0, 1.0, 0.0, 0.0], [0.0, 0.0, 0.0, 0.0, 0.0], [0.0, 0.0, 0.0, 0.0, 0.0]], \"zmax\": 1, \"zmin\": 0}],\n",
       "                        {\"template\": {\"data\": {\"bar\": [{\"error_x\": {\"color\": \"#2a3f5f\"}, \"error_y\": {\"color\": \"#2a3f5f\"}, \"marker\": {\"line\": {\"color\": \"#E5ECF6\", \"width\": 0.5}}, \"type\": \"bar\"}], \"barpolar\": [{\"marker\": {\"line\": {\"color\": \"#E5ECF6\", \"width\": 0.5}}, \"type\": \"barpolar\"}], \"carpet\": [{\"aaxis\": {\"endlinecolor\": \"#2a3f5f\", \"gridcolor\": \"white\", \"linecolor\": \"white\", \"minorgridcolor\": \"white\", \"startlinecolor\": \"#2a3f5f\"}, \"baxis\": {\"endlinecolor\": \"#2a3f5f\", \"gridcolor\": \"white\", \"linecolor\": \"white\", \"minorgridcolor\": \"white\", \"startlinecolor\": \"#2a3f5f\"}, \"type\": \"carpet\"}], \"choropleth\": [{\"colorbar\": {\"outlinewidth\": 0, \"ticks\": \"\"}, \"type\": \"choropleth\"}], \"contour\": [{\"colorbar\": {\"outlinewidth\": 0, \"ticks\": \"\"}, \"colorscale\": [[0.0, \"#0d0887\"], [0.1111111111111111, \"#46039f\"], [0.2222222222222222, \"#7201a8\"], [0.3333333333333333, \"#9c179e\"], [0.4444444444444444, \"#bd3786\"], [0.5555555555555556, \"#d8576b\"], [0.6666666666666666, \"#ed7953\"], [0.7777777777777778, \"#fb9f3a\"], [0.8888888888888888, \"#fdca26\"], [1.0, \"#f0f921\"]], \"type\": \"contour\"}], \"contourcarpet\": [{\"colorbar\": {\"outlinewidth\": 0, \"ticks\": \"\"}, \"type\": \"contourcarpet\"}], \"heatmap\": [{\"colorbar\": {\"outlinewidth\": 0, \"ticks\": \"\"}, \"colorscale\": [[0.0, \"#0d0887\"], [0.1111111111111111, \"#46039f\"], [0.2222222222222222, \"#7201a8\"], [0.3333333333333333, \"#9c179e\"], [0.4444444444444444, \"#bd3786\"], [0.5555555555555556, \"#d8576b\"], [0.6666666666666666, \"#ed7953\"], [0.7777777777777778, \"#fb9f3a\"], [0.8888888888888888, \"#fdca26\"], [1.0, \"#f0f921\"]], \"type\": \"heatmap\"}], \"heatmapgl\": [{\"colorbar\": {\"outlinewidth\": 0, \"ticks\": \"\"}, \"colorscale\": [[0.0, \"#0d0887\"], [0.1111111111111111, \"#46039f\"], [0.2222222222222222, \"#7201a8\"], [0.3333333333333333, \"#9c179e\"], [0.4444444444444444, \"#bd3786\"], [0.5555555555555556, \"#d8576b\"], [0.6666666666666666, \"#ed7953\"], [0.7777777777777778, \"#fb9f3a\"], [0.8888888888888888, \"#fdca26\"], [1.0, \"#f0f921\"]], \"type\": \"heatmapgl\"}], \"histogram\": [{\"marker\": {\"colorbar\": {\"outlinewidth\": 0, \"ticks\": \"\"}}, \"type\": \"histogram\"}], \"histogram2d\": [{\"colorbar\": {\"outlinewidth\": 0, \"ticks\": \"\"}, \"colorscale\": [[0.0, \"#0d0887\"], [0.1111111111111111, \"#46039f\"], [0.2222222222222222, \"#7201a8\"], [0.3333333333333333, \"#9c179e\"], [0.4444444444444444, \"#bd3786\"], [0.5555555555555556, \"#d8576b\"], [0.6666666666666666, \"#ed7953\"], [0.7777777777777778, \"#fb9f3a\"], [0.8888888888888888, \"#fdca26\"], [1.0, \"#f0f921\"]], \"type\": \"histogram2d\"}], \"histogram2dcontour\": [{\"colorbar\": {\"outlinewidth\": 0, \"ticks\": \"\"}, \"colorscale\": [[0.0, \"#0d0887\"], [0.1111111111111111, \"#46039f\"], [0.2222222222222222, \"#7201a8\"], [0.3333333333333333, \"#9c179e\"], [0.4444444444444444, \"#bd3786\"], [0.5555555555555556, \"#d8576b\"], [0.6666666666666666, \"#ed7953\"], [0.7777777777777778, \"#fb9f3a\"], [0.8888888888888888, \"#fdca26\"], [1.0, \"#f0f921\"]], \"type\": \"histogram2dcontour\"}], \"mesh3d\": [{\"colorbar\": {\"outlinewidth\": 0, \"ticks\": \"\"}, \"type\": \"mesh3d\"}], \"parcoords\": [{\"line\": {\"colorbar\": {\"outlinewidth\": 0, \"ticks\": \"\"}}, \"type\": \"parcoords\"}], \"pie\": [{\"automargin\": true, \"type\": \"pie\"}], \"scatter\": [{\"marker\": {\"colorbar\": {\"outlinewidth\": 0, \"ticks\": \"\"}}, \"type\": \"scatter\"}], \"scatter3d\": [{\"line\": {\"colorbar\": {\"outlinewidth\": 0, \"ticks\": \"\"}}, \"marker\": {\"colorbar\": {\"outlinewidth\": 0, \"ticks\": \"\"}}, \"type\": \"scatter3d\"}], \"scattercarpet\": [{\"marker\": {\"colorbar\": {\"outlinewidth\": 0, \"ticks\": \"\"}}, \"type\": \"scattercarpet\"}], \"scattergeo\": [{\"marker\": {\"colorbar\": {\"outlinewidth\": 0, \"ticks\": \"\"}}, \"type\": \"scattergeo\"}], \"scattergl\": [{\"marker\": {\"colorbar\": {\"outlinewidth\": 0, \"ticks\": \"\"}}, \"type\": \"scattergl\"}], \"scattermapbox\": [{\"marker\": {\"colorbar\": {\"outlinewidth\": 0, \"ticks\": \"\"}}, \"type\": \"scattermapbox\"}], \"scatterpolar\": [{\"marker\": {\"colorbar\": {\"outlinewidth\": 0, \"ticks\": \"\"}}, \"type\": \"scatterpolar\"}], \"scatterpolargl\": [{\"marker\": {\"colorbar\": {\"outlinewidth\": 0, \"ticks\": \"\"}}, \"type\": \"scatterpolargl\"}], \"scatterternary\": [{\"marker\": {\"colorbar\": {\"outlinewidth\": 0, \"ticks\": \"\"}}, \"type\": \"scatterternary\"}], \"surface\": [{\"colorbar\": {\"outlinewidth\": 0, \"ticks\": \"\"}, \"colorscale\": [[0.0, \"#0d0887\"], [0.1111111111111111, \"#46039f\"], [0.2222222222222222, \"#7201a8\"], [0.3333333333333333, \"#9c179e\"], [0.4444444444444444, \"#bd3786\"], [0.5555555555555556, \"#d8576b\"], [0.6666666666666666, \"#ed7953\"], [0.7777777777777778, \"#fb9f3a\"], [0.8888888888888888, \"#fdca26\"], [1.0, \"#f0f921\"]], \"type\": \"surface\"}], \"table\": [{\"cells\": {\"fill\": {\"color\": \"#EBF0F8\"}, \"line\": {\"color\": \"white\"}}, \"header\": {\"fill\": {\"color\": \"#C8D4E3\"}, \"line\": {\"color\": \"white\"}}, \"type\": \"table\"}]}, \"layout\": {\"annotationdefaults\": {\"arrowcolor\": \"#2a3f5f\", \"arrowhead\": 0, \"arrowwidth\": 1}, \"coloraxis\": {\"colorbar\": {\"outlinewidth\": 0, \"ticks\": \"\"}}, \"colorscale\": {\"diverging\": [[0, \"#8e0152\"], [0.1, \"#c51b7d\"], [0.2, \"#de77ae\"], [0.3, \"#f1b6da\"], [0.4, \"#fde0ef\"], [0.5, \"#f7f7f7\"], [0.6, \"#e6f5d0\"], [0.7, \"#b8e186\"], [0.8, \"#7fbc41\"], [0.9, \"#4d9221\"], [1, \"#276419\"]], \"sequential\": [[0.0, \"#0d0887\"], [0.1111111111111111, \"#46039f\"], [0.2222222222222222, \"#7201a8\"], [0.3333333333333333, \"#9c179e\"], [0.4444444444444444, \"#bd3786\"], [0.5555555555555556, \"#d8576b\"], [0.6666666666666666, \"#ed7953\"], [0.7777777777777778, \"#fb9f3a\"], [0.8888888888888888, \"#fdca26\"], [1.0, \"#f0f921\"]], \"sequentialminus\": [[0.0, \"#0d0887\"], [0.1111111111111111, \"#46039f\"], [0.2222222222222222, \"#7201a8\"], [0.3333333333333333, \"#9c179e\"], [0.4444444444444444, \"#bd3786\"], [0.5555555555555556, \"#d8576b\"], [0.6666666666666666, \"#ed7953\"], [0.7777777777777778, \"#fb9f3a\"], [0.8888888888888888, \"#fdca26\"], [1.0, \"#f0f921\"]]}, \"colorway\": [\"#636efa\", \"#EF553B\", \"#00cc96\", \"#ab63fa\", \"#FFA15A\", \"#19d3f3\", \"#FF6692\", \"#B6E880\", \"#FF97FF\", \"#FECB52\"], \"font\": {\"color\": \"#2a3f5f\"}, \"geo\": {\"bgcolor\": \"white\", \"lakecolor\": \"white\", \"landcolor\": \"#E5ECF6\", \"showlakes\": true, \"showland\": true, \"subunitcolor\": \"white\"}, \"hoverlabel\": {\"align\": \"left\"}, \"hovermode\": \"closest\", \"mapbox\": {\"style\": \"light\"}, \"paper_bgcolor\": \"white\", \"plot_bgcolor\": \"#E5ECF6\", \"polar\": {\"angularaxis\": {\"gridcolor\": \"white\", \"linecolor\": \"white\", \"ticks\": \"\"}, \"bgcolor\": \"#E5ECF6\", \"radialaxis\": {\"gridcolor\": \"white\", \"linecolor\": \"white\", \"ticks\": \"\"}}, \"scene\": {\"xaxis\": {\"backgroundcolor\": \"#E5ECF6\", \"gridcolor\": \"white\", \"gridwidth\": 2, \"linecolor\": \"white\", \"showbackground\": true, \"ticks\": \"\", \"zerolinecolor\": \"white\"}, \"yaxis\": {\"backgroundcolor\": \"#E5ECF6\", \"gridcolor\": \"white\", \"gridwidth\": 2, \"linecolor\": \"white\", \"showbackground\": true, \"ticks\": \"\", \"zerolinecolor\": \"white\"}, \"zaxis\": {\"backgroundcolor\": \"#E5ECF6\", \"gridcolor\": \"white\", \"gridwidth\": 2, \"linecolor\": \"white\", \"showbackground\": true, \"ticks\": \"\", \"zerolinecolor\": \"white\"}}, \"shapedefaults\": {\"line\": {\"color\": \"#2a3f5f\"}}, \"ternary\": {\"aaxis\": {\"gridcolor\": \"white\", \"linecolor\": \"white\", \"ticks\": \"\"}, \"baxis\": {\"gridcolor\": \"white\", \"linecolor\": \"white\", \"ticks\": \"\"}, \"bgcolor\": \"#E5ECF6\", \"caxis\": {\"gridcolor\": \"white\", \"linecolor\": \"white\", \"ticks\": \"\"}}, \"title\": {\"x\": 0.05}, \"xaxis\": {\"automargin\": true, \"gridcolor\": \"white\", \"linecolor\": \"white\", \"ticks\": \"\", \"title\": {\"standoff\": 15}, \"zerolinecolor\": \"white\", \"zerolinewidth\": 2}, \"yaxis\": {\"automargin\": true, \"gridcolor\": \"white\", \"linecolor\": \"white\", \"ticks\": \"\", \"title\": {\"standoff\": 15}, \"zerolinecolor\": \"white\", \"zerolinewidth\": 2}}}, \"title\": {\"text\": \"Adversarial\"}},\n",
       "                        {\"responsive\": true}\n",
       "                    ).then(function(){\n",
       "                            \n",
       "var gd = document.getElementById('d4d5cd8c-cfa3-480d-ab16-cc624b6073bb');\n",
       "var x = new MutationObserver(function (mutations, observer) {{\n",
       "        var display = window.getComputedStyle(gd).display;\n",
       "        if (!display || display === 'none') {{\n",
       "            console.log([gd, 'removed!']);\n",
       "            Plotly.purge(gd);\n",
       "            observer.disconnect();\n",
       "        }}\n",
       "}});\n",
       "\n",
       "// Listen for the removal of the full notebook cells\n",
       "var notebookContainer = gd.closest('#notebook-container');\n",
       "if (notebookContainer) {{\n",
       "    x.observe(notebookContainer, {childList: true});\n",
       "}}\n",
       "\n",
       "// Listen for the clearing of the current output cell\n",
       "var outputEl = gd.closest('.output');\n",
       "if (outputEl) {{\n",
       "    x.observe(outputEl, {childList: true});\n",
       "}}\n",
       "\n",
       "                        })\n",
       "                };\n",
       "                });\n",
       "            </script>\n",
       "        </div>"
      ]
     },
     "metadata": {},
     "output_type": "display_data"
    }
   ],
   "source": [
    "conv_thresh = .1\n",
    "zmin = 0.\n",
    "zmax = 5\n",
    "\n",
    "fig = go.Figure()\n",
    "fig.add_trace(go.Heatmap(\n",
    "    z = bench_lqr.detach().numpy(),\n",
    "    zmin = zmin,\n",
    "    zmax = zmax,\n",
    "    ))\n",
    "fig.update_layout(\n",
    "    title=\"LQR\",\n",
    ")\n",
    "fig.show()\n",
    "\n",
    "fig = go.Figure()\n",
    "fig.add_trace(go.Heatmap(\n",
    "    z = bench_no_model.detach().numpy(),\n",
    "    zmin = zmin,\n",
    "    zmax = zmax,\n",
    "    ))\n",
    "fig.update_layout(\n",
    "    title=\"No Model\",\n",
    ")\n",
    "fig.show()\n",
    "\n",
    "fig = go.Figure()\n",
    "fig.add_trace(go.Heatmap(\n",
    "    z = bench_baseline.detach().numpy(),\n",
    "    zmin = zmin,\n",
    "    zmax = zmax,\n",
    "    ))\n",
    "fig.update_layout(\n",
    "    title=\"Baseline\",\n",
    ")\n",
    "fig.show()\n",
    "\n",
    "fig = go.Figure()\n",
    "fig.add_trace(go.Heatmap(\n",
    "    z = bench_adv.detach().numpy(),\n",
    "    zmin = zmin,\n",
    "    zmax = zmax,\n",
    "    ))\n",
    "fig.update_layout(\n",
    "    title=\"Adversarial\",\n",
    ")\n",
    "fig.show()\n",
    "\n",
    "fig = go.Figure()\n",
    "fig.add_trace(go.Heatmap(\n",
    "    z = torch.Tensor(bench_lqr.detach().numpy() < conv_thresh).type(vf.dtype),\n",
    "    zmin = 0,\n",
    "    zmax = 1,\n",
    "    ))\n",
    "fig.update_layout(\n",
    "    title=\"LQR\",\n",
    ")\n",
    "fig.show()\n",
    "\n",
    "fig = go.Figure()\n",
    "fig.add_trace(go.Heatmap(\n",
    "    z = torch.Tensor(bench_no_model.detach().numpy() < conv_thresh).type(vf.dtype),\n",
    "    ))\n",
    "fig.update_layout(\n",
    "    title=\"No Model\",\n",
    ")\n",
    "fig.show()\n",
    "\n",
    "fig = go.Figure()\n",
    "fig.add_trace(go.Heatmap(\n",
    "    z = torch.Tensor(bench_baseline.detach().numpy() < conv_thresh).type(vf.dtype),\n",
    "    zmin = 0,\n",
    "    zmax = 1,\n",
    "    ))\n",
    "fig.update_layout(\n",
    "    title=\"Baseline\",\n",
    ")\n",
    "fig.show()\n",
    "\n",
    "fig = go.Figure()\n",
    "fig.add_trace(go.Heatmap(\n",
    "    z = torch.Tensor(bench_adv.detach().numpy() < conv_thresh).type(vf.dtype),\n",
    "    zmin = 0,\n",
    "    zmax = 1,\n",
    "    ))\n",
    "fig.update_layout(\n",
    "    title=\"Adversarial\",\n",
    ")\n",
    "fig.show()"
   ]
  }
 ],
 "metadata": {
  "kernelspec": {
   "display_name": "Python 3",
   "language": "python",
   "name": "python3"
  },
  "language_info": {
   "codemirror_mode": {
    "name": "ipython",
    "version": 3
   },
   "file_extension": ".py",
   "mimetype": "text/x-python",
   "name": "python",
   "nbconvert_exporter": "python",
   "pygments_lexer": "ipython3",
   "version": "3.7.5"
  }
 },
 "nbformat": 4,
 "nbformat_minor": 2
}
