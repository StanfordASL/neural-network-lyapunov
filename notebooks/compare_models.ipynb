{
 "cells": [
  {
   "cell_type": "code",
   "execution_count": null,
   "metadata": {},
   "outputs": [],
   "source": [
    "%load_ext autoreload\n",
    "%autoreload 2\n",
    "%matplotlib inline"
   ]
  },
  {
   "cell_type": "code",
   "execution_count": null,
   "metadata": {},
   "outputs": [],
   "source": [
    "import os\n",
    "import sys\n",
    "import torch\n",
    "import numpy as np\n",
    "from mpl_toolkits.mplot3d import Axes3D\n",
    "import matplotlib.pyplot as plt\n",
    "\n",
    "import neural_network_lyapunov\n",
    "import neural_network_lyapunov.relu_system as relu_system\n",
    "import neural_network_lyapunov.lyapunov as lyapunov\n",
    "import neural_network_lyapunov.encoders as encoders\n",
    "import neural_network_lyapunov.pybullet_data_generation as pybullet_data_generation\n",
    "import neural_network_lyapunov.dynamics_learning as dynamics_learning"
   ]
  },
  {
   "cell_type": "markdown",
   "metadata": {},
   "source": [
    "## Load settings and models"
   ]
  },
  {
   "cell_type": "code",
   "execution_count": null,
   "metadata": {},
   "outputs": [],
   "source": [
    "folder = \"pendulum_1013\"\n",
    "\n",
    "sys.path.insert(0, os.path.join(os.path.dirname(neural_network_lyapunov.__file__), \"..\", \"notebooks\", folder))\n",
    "import options\n",
    "opt = dynamics_learning.DynamicsLearningOptions(options.default)"
   ]
  },
  {
   "cell_type": "code",
   "execution_count": null,
   "metadata": {},
   "outputs": [],
   "source": [
    "x_data = torch.load(os.path.join(folder, \"x_data\"))\n",
    "x_next_data = torch.load(os.path.join(folder, \"x_next_data\"))\n",
    "X_data = torch.load(os.path.join(folder, \"X_data\"))\n",
    "X_next_data = torch.load(os.path.join(folder, \"X_next_data\"))\n",
    "X_rollouts = torch.load(os.path.join(folder, \"X_rollouts\"))\n",
    "x_rollouts = torch.load(os.path.join(folder, \"x_rollouts\"))"
   ]
  },
  {
   "cell_type": "code",
   "execution_count": null,
   "metadata": {},
   "outputs": [],
   "source": [
    "x_train_dataloader = torch.load(os.path.join(folder, \"x_train_dataloader\"))\n",
    "x_validation_dataloader = torch.load(os.path.join(folder, \"x_validation_dataloader\"))\n",
    "X_train_dataloader = torch.load(os.path.join(folder, \"X_train_dataloader\"))\n",
    "X_validation_dataloader = torch.load(os.path.join(folder, \"X_validation_dataloader\"))"
   ]
  },
  {
   "cell_type": "code",
   "execution_count": null,
   "metadata": {},
   "outputs": [],
   "source": [
    "learners = dict()\n",
    "for variant in options.variants.keys():\n",
    "    opt.set_options(options.variants[variant])\n",
    "    \n",
    "    dyn_nn_model = dynamics_learning.get_ff_network(opt.dtype, opt.z_dim, opt.z_dim, opt.dyn_nn_width, opt.dyn_nn_depth)\n",
    "    lyap_nn_model = dynamics_learning.get_ff_network(opt.dtype, opt.z_dim, 1, opt.lyap_nn_width, opt.lyap_nn_depth)\n",
    "\n",
    "    relu_sys = relu_system.AutonomousReLUSystemGivenEquilibrium(opt.dtype, opt.z_lo, opt.z_up,\n",
    "                                                                dyn_nn_model, opt.z_equilibrium)\n",
    "    lyap = lyapunov.LyapunovDiscreteTimeHybridSystem(relu_sys, lyap_nn_model)\n",
    "#     encoder = opt.encoder_class(opt.z_dim, opt.image_width, opt.image_height, opt.grayscale)\n",
    "#     decoder = opt.decoder_class(opt.z_dim, opt.image_width, opt.image_height, opt.grayscale)\n",
    "\n",
    "#     dyn_learner = dynamics_learning.LatentSpaceDynamicsLearning(X_train_dataloader, X_validation_dataloader,\n",
    "#                                                                 relu_sys, lyap, opt,\n",
    "#                                                                 encoder, decoder,\n",
    "#                                                                 use_bce=opt.use_bce,\n",
    "#                                                                 use_variational=opt.use_variational)\n",
    "    dyn_learner = dynamics_learning.StateSpaceDynamicsLearning(x_train_dataloader, x_validation_dataloader,\n",
    "                                                               relu_sys, lyap, opt)\n",
    "\n",
    "    dyn_learner.relu_system.dynamics_relu = torch.load(os.path.join(folder, variant, \"dynamics\"))\n",
    "    dyn_learner.lyapunov.lyapunov_relu = torch.load(os.path.join(folder, variant, \"lyapunov\"))\n",
    "#     dyn_learner.encoder = torch.load(os.path.join(folder, variant, \"encoder\"))\n",
    "#     dyn_learner.decoder = torch.load(os.path.join(folder, variant, \"decoder\"))\n",
    "    \n",
    "    learners[variant] = dyn_learner"
   ]
  },
  {
   "cell_type": "markdown",
   "metadata": {},
   "source": [
    "## Comparing models"
   ]
  },
  {
   "cell_type": "code",
   "execution_count": null,
   "metadata": {},
   "outputs": [],
   "source": [
    "# computing adversarial samples\n",
    "z_adv_pos, z_adv_der = learners[\"unstable\"].adversarial_samples(optimal=opt.lyapunov_loss_optimal)\n",
    "print(z_adv_pos)\n",
    "print(z_adv_der)"
   ]
  },
  {
   "cell_type": "code",
   "execution_count": null,
   "metadata": {},
   "outputs": [],
   "source": [
    "pbsg = pybullet_data_generation.PybulletSampleGenerator(opt.world_cb, opt.joint_space, image_width=opt.image_width, image_height=opt.image_height,\n",
    "                                                        grayscale=opt.grayscale, dtype=opt.dtype,\n",
    "                                                        camera_eye_position=opt.camera_eye_position,\n",
    "                                                        camera_target_position=opt.camera_target_position,\n",
    "                                                        camera_up_vector=opt.camera_up_vector)"
   ]
  },
  {
   "cell_type": "code",
   "execution_count": null,
   "metadata": {},
   "outputs": [],
   "source": [
    "# z_adv = z_adv_pos\n",
    "z_adv = z_adv_der\n",
    "i = np.random.choice(z_adv.shape[0], 1)[0]\n",
    "x0 = z_adv[i, :]\n",
    "\n",
    "# i = np.random.choice(x_data.shape[0], 1)[0]\n",
    "# x0 = x_data[i, :]\n",
    "\n",
    "print(x0)\n",
    "for name in learners.keys():\n",
    "    dyn_learner = learners[name]\n",
    "    x_traj, V_traj = dyn_learner.rollout(x0, opt.validation_rollouts_N)\n",
    "    plt.plot(x_traj)\n",
    "    _, x_traj_exp = pbsg.generate_rollout(x0, opt.dataset_dt, opt.validation_rollouts_N)\n",
    "    plt.plot(x_traj_exp)\n",
    "    plt.legend(['predicted', 'predicted', 'expected', 'expected'])\n",
    "    plt.title(name)\n",
    "    plt.show()\n",
    "    plt.plot(V_traj)\n",
    "    plt.title(name)\n",
    "    plt.show()"
   ]
  },
  {
   "cell_type": "code",
   "execution_count": null,
   "metadata": {},
   "outputs": [],
   "source": [
    "legend = []\n",
    "for name in learners.keys():\n",
    "    dyn_learner = learners[name]\n",
    "#     rollout_loss = dyn_learner.rollout_validation(X_rollouts, device='cuda')\n",
    "    rollout_loss = dyn_learner.rollout_validation(x_rollouts[:75], device='cpu')\n",
    "    plt.plot(rollout_loss)\n",
    "    legend.append(name)\n",
    "#     plt.title(name)\n",
    "#     plt.show()\n",
    "plt.legend(legend)\n",
    "plt.show()"
   ]
  }
 ],
 "metadata": {
  "kernelspec": {
   "display_name": "Python 3",
   "language": "python",
   "name": "python3"
  },
  "language_info": {
   "codemirror_mode": {
    "name": "ipython",
    "version": 3
   },
   "file_extension": ".py",
   "mimetype": "text/x-python",
   "name": "python",
   "nbconvert_exporter": "python",
   "pygments_lexer": "ipython3",
   "version": "3.8.5"
  }
 },
 "nbformat": 4,
 "nbformat_minor": 4
}
