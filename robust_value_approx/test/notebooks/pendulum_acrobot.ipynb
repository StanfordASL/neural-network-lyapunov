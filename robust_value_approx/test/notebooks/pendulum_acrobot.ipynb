{
 "cells": [
  {
   "cell_type": "code",
   "execution_count": 1,
   "metadata": {},
   "outputs": [],
   "source": [
    "%load_ext autoreload\n",
    "%autoreload 2"
   ]
  },
  {
   "cell_type": "code",
   "execution_count": 2,
   "metadata": {
    "scrolled": true
   },
   "outputs": [
    {
     "data": {
      "text/html": [
       "        <script type=\"text/javascript\">\n",
       "        window.PlotlyConfig = {MathJaxConfig: 'local'};\n",
       "        if (window.MathJax) {MathJax.Hub.Config({SVG: {font: \"STIX-Web\"}});}\n",
       "        if (typeof require !== 'undefined') {\n",
       "        require.undef(\"plotly\");\n",
       "        requirejs.config({\n",
       "            paths: {\n",
       "                'plotly': ['https://cdn.plot.ly/plotly-latest.min']\n",
       "            }\n",
       "        });\n",
       "        require(['plotly'], function(Plotly) {\n",
       "            window._Plotly = Plotly;\n",
       "        });\n",
       "        }\n",
       "        </script>\n",
       "        "
      ]
     },
     "metadata": {},
     "output_type": "display_data"
    },
    {
     "name": "stderr",
     "output_type": "stream",
     "text": [
      "/Users/blandry/Code/robust-value-approx/robust_value_approx/value_approximation.py:2: _DrakeImportWarning:\n",
      "\n",
      "\n",
      "You may have already (directly or indirectly) imported `torch` which uses\n",
      "`RTLD_GLOBAL`. Using `RTLD_GLOBAL` may cause symbol collisions which manifest\n",
      "themselves in bugs like \"free(): invalid pointer\". Please consider importing\n",
      "`pydrake` (and related C++-wrapped libraries like `cv2`, `open3d`, etc.)\n",
      "*before* importing `torch`. For more details, see:\n",
      "https://github.com/pytorch/pytorch/issues/3059#issuecomment-534676459\n",
      "\n",
      "\n"
     ]
    }
   ],
   "source": [
    "import sys\n",
    "sys.path.append(\"..\")\n",
    "sys.path.append(\".\")\n",
    "import torch\n",
    "import numpy as np\n",
    "import copy\n",
    "import plotly\n",
    "import plotly.graph_objs as go\n",
    "import pickle\n",
    "from datetime import datetime\n",
    "plotly.offline.init_notebook_mode(connected=True)\n",
    "\n",
    "import robust_value_approx.samples_generator as samples_generator\n",
    "import robust_value_approx.samples_buffer as samples_buffer\n",
    "import robust_value_approx.value_approximation as value_approximation\n",
    "import robust_value_approx.training_log as training_log\n",
    "import robust_value_approx.controllers as controllers\n",
    "\n",
    "import pendulum_utils\n",
    "import acrobot_utils"
   ]
  },
  {
   "cell_type": "code",
   "execution_count": 70,
   "metadata": {},
   "outputs": [
    {
     "data": {
      "text/plain": [
       "tensor([[7.0222],\n",
       "        [4.2933],\n",
       "        [4.7003],\n",
       "        [5.4419],\n",
       "        [1.8280],\n",
       "        [4.1904],\n",
       "        [3.5670],\n",
       "        [5.0163],\n",
       "        [4.6077],\n",
       "        [4.2448]], dtype=torch.float64, grad_fn=<UnsqueezeBackward0>)"
      ]
     },
     "execution_count": 70,
     "metadata": {},
     "output_type": "execute_result"
    }
   ],
   "source": [
    "quad = value_approximation.QuadraticModel(4, torch.float64)\n",
    "x = torch.rand((10,4)).double()\n",
    "quad(x)"
   ]
  },
  {
   "cell_type": "code",
   "execution_count": 26,
   "metadata": {},
   "outputs": [
    {
     "data": {
      "text/plain": [
       "torch.Size([10])"
      ]
     },
     "execution_count": 26,
     "metadata": {},
     "output_type": "execute_result"
    }
   ],
   "source": [
    "x = torch.rand(10,4)\n",
    "Q = torch.rand(4,4)\n",
    "torch.diag(x@Q@x.t()).shape"
   ]
  },
  {
   "cell_type": "markdown",
   "metadata": {},
   "source": [
    "# Pendulum"
   ]
  },
  {
   "cell_type": "code",
   "execution_count": 3,
   "metadata": {},
   "outputs": [],
   "source": [
    "pendulum = pendulum_utils.PendulumNLP()\n",
    "vf = pendulum_utils.get_value_function(10)\n",
    "V = vf.get_value_function()"
   ]
  },
  {
   "cell_type": "code",
   "execution_count": 4,
   "metadata": {},
   "outputs": [
    {
     "data": {
      "application/vnd.plotly.v1+json": {
       "config": {
        "plotlyServerURL": "https://plot.ly"
       },
       "data": [
        {
         "type": "scatter",
         "y": [
          4.641592502593994,
          4.827596187591553,
          4.983755588531494,
          5.103299140930176,
          5.176808834075928,
          5.19842004776001,
          5.1696038246154785,
          5.099372386932373,
          5.001304626464844,
          4.950571060180664
         ]
        },
        {
         "type": "scatter",
         "y": [
          1,
          0.860037624835968,
          0.7015556693077087,
          0.4938805401325226,
          0.24121567606925964,
          -0.025101959705352783,
          -0.26306259632110596,
          -0.43925291299819946,
          -0.5414215326309204,
          0.034084826707839966
         ]
        }
       ],
       "layout": {
        "template": {
         "data": {
          "bar": [
           {
            "error_x": {
             "color": "#2a3f5f"
            },
            "error_y": {
             "color": "#2a3f5f"
            },
            "marker": {
             "line": {
              "color": "#E5ECF6",
              "width": 0.5
             }
            },
            "type": "bar"
           }
          ],
          "barpolar": [
           {
            "marker": {
             "line": {
              "color": "#E5ECF6",
              "width": 0.5
             }
            },
            "type": "barpolar"
           }
          ],
          "carpet": [
           {
            "aaxis": {
             "endlinecolor": "#2a3f5f",
             "gridcolor": "white",
             "linecolor": "white",
             "minorgridcolor": "white",
             "startlinecolor": "#2a3f5f"
            },
            "baxis": {
             "endlinecolor": "#2a3f5f",
             "gridcolor": "white",
             "linecolor": "white",
             "minorgridcolor": "white",
             "startlinecolor": "#2a3f5f"
            },
            "type": "carpet"
           }
          ],
          "choropleth": [
           {
            "colorbar": {
             "outlinewidth": 0,
             "ticks": ""
            },
            "type": "choropleth"
           }
          ],
          "contour": [
           {
            "colorbar": {
             "outlinewidth": 0,
             "ticks": ""
            },
            "colorscale": [
             [
              0,
              "#0d0887"
             ],
             [
              0.1111111111111111,
              "#46039f"
             ],
             [
              0.2222222222222222,
              "#7201a8"
             ],
             [
              0.3333333333333333,
              "#9c179e"
             ],
             [
              0.4444444444444444,
              "#bd3786"
             ],
             [
              0.5555555555555556,
              "#d8576b"
             ],
             [
              0.6666666666666666,
              "#ed7953"
             ],
             [
              0.7777777777777778,
              "#fb9f3a"
             ],
             [
              0.8888888888888888,
              "#fdca26"
             ],
             [
              1,
              "#f0f921"
             ]
            ],
            "type": "contour"
           }
          ],
          "contourcarpet": [
           {
            "colorbar": {
             "outlinewidth": 0,
             "ticks": ""
            },
            "type": "contourcarpet"
           }
          ],
          "heatmap": [
           {
            "colorbar": {
             "outlinewidth": 0,
             "ticks": ""
            },
            "colorscale": [
             [
              0,
              "#0d0887"
             ],
             [
              0.1111111111111111,
              "#46039f"
             ],
             [
              0.2222222222222222,
              "#7201a8"
             ],
             [
              0.3333333333333333,
              "#9c179e"
             ],
             [
              0.4444444444444444,
              "#bd3786"
             ],
             [
              0.5555555555555556,
              "#d8576b"
             ],
             [
              0.6666666666666666,
              "#ed7953"
             ],
             [
              0.7777777777777778,
              "#fb9f3a"
             ],
             [
              0.8888888888888888,
              "#fdca26"
             ],
             [
              1,
              "#f0f921"
             ]
            ],
            "type": "heatmap"
           }
          ],
          "heatmapgl": [
           {
            "colorbar": {
             "outlinewidth": 0,
             "ticks": ""
            },
            "colorscale": [
             [
              0,
              "#0d0887"
             ],
             [
              0.1111111111111111,
              "#46039f"
             ],
             [
              0.2222222222222222,
              "#7201a8"
             ],
             [
              0.3333333333333333,
              "#9c179e"
             ],
             [
              0.4444444444444444,
              "#bd3786"
             ],
             [
              0.5555555555555556,
              "#d8576b"
             ],
             [
              0.6666666666666666,
              "#ed7953"
             ],
             [
              0.7777777777777778,
              "#fb9f3a"
             ],
             [
              0.8888888888888888,
              "#fdca26"
             ],
             [
              1,
              "#f0f921"
             ]
            ],
            "type": "heatmapgl"
           }
          ],
          "histogram": [
           {
            "marker": {
             "colorbar": {
              "outlinewidth": 0,
              "ticks": ""
             }
            },
            "type": "histogram"
           }
          ],
          "histogram2d": [
           {
            "colorbar": {
             "outlinewidth": 0,
             "ticks": ""
            },
            "colorscale": [
             [
              0,
              "#0d0887"
             ],
             [
              0.1111111111111111,
              "#46039f"
             ],
             [
              0.2222222222222222,
              "#7201a8"
             ],
             [
              0.3333333333333333,
              "#9c179e"
             ],
             [
              0.4444444444444444,
              "#bd3786"
             ],
             [
              0.5555555555555556,
              "#d8576b"
             ],
             [
              0.6666666666666666,
              "#ed7953"
             ],
             [
              0.7777777777777778,
              "#fb9f3a"
             ],
             [
              0.8888888888888888,
              "#fdca26"
             ],
             [
              1,
              "#f0f921"
             ]
            ],
            "type": "histogram2d"
           }
          ],
          "histogram2dcontour": [
           {
            "colorbar": {
             "outlinewidth": 0,
             "ticks": ""
            },
            "colorscale": [
             [
              0,
              "#0d0887"
             ],
             [
              0.1111111111111111,
              "#46039f"
             ],
             [
              0.2222222222222222,
              "#7201a8"
             ],
             [
              0.3333333333333333,
              "#9c179e"
             ],
             [
              0.4444444444444444,
              "#bd3786"
             ],
             [
              0.5555555555555556,
              "#d8576b"
             ],
             [
              0.6666666666666666,
              "#ed7953"
             ],
             [
              0.7777777777777778,
              "#fb9f3a"
             ],
             [
              0.8888888888888888,
              "#fdca26"
             ],
             [
              1,
              "#f0f921"
             ]
            ],
            "type": "histogram2dcontour"
           }
          ],
          "mesh3d": [
           {
            "colorbar": {
             "outlinewidth": 0,
             "ticks": ""
            },
            "type": "mesh3d"
           }
          ],
          "parcoords": [
           {
            "line": {
             "colorbar": {
              "outlinewidth": 0,
              "ticks": ""
             }
            },
            "type": "parcoords"
           }
          ],
          "pie": [
           {
            "automargin": true,
            "type": "pie"
           }
          ],
          "scatter": [
           {
            "marker": {
             "colorbar": {
              "outlinewidth": 0,
              "ticks": ""
             }
            },
            "type": "scatter"
           }
          ],
          "scatter3d": [
           {
            "line": {
             "colorbar": {
              "outlinewidth": 0,
              "ticks": ""
             }
            },
            "marker": {
             "colorbar": {
              "outlinewidth": 0,
              "ticks": ""
             }
            },
            "type": "scatter3d"
           }
          ],
          "scattercarpet": [
           {
            "marker": {
             "colorbar": {
              "outlinewidth": 0,
              "ticks": ""
             }
            },
            "type": "scattercarpet"
           }
          ],
          "scattergeo": [
           {
            "marker": {
             "colorbar": {
              "outlinewidth": 0,
              "ticks": ""
             }
            },
            "type": "scattergeo"
           }
          ],
          "scattergl": [
           {
            "marker": {
             "colorbar": {
              "outlinewidth": 0,
              "ticks": ""
             }
            },
            "type": "scattergl"
           }
          ],
          "scattermapbox": [
           {
            "marker": {
             "colorbar": {
              "outlinewidth": 0,
              "ticks": ""
             }
            },
            "type": "scattermapbox"
           }
          ],
          "scatterpolar": [
           {
            "marker": {
             "colorbar": {
              "outlinewidth": 0,
              "ticks": ""
             }
            },
            "type": "scatterpolar"
           }
          ],
          "scatterpolargl": [
           {
            "marker": {
             "colorbar": {
              "outlinewidth": 0,
              "ticks": ""
             }
            },
            "type": "scatterpolargl"
           }
          ],
          "scatterternary": [
           {
            "marker": {
             "colorbar": {
              "outlinewidth": 0,
              "ticks": ""
             }
            },
            "type": "scatterternary"
           }
          ],
          "surface": [
           {
            "colorbar": {
             "outlinewidth": 0,
             "ticks": ""
            },
            "colorscale": [
             [
              0,
              "#0d0887"
             ],
             [
              0.1111111111111111,
              "#46039f"
             ],
             [
              0.2222222222222222,
              "#7201a8"
             ],
             [
              0.3333333333333333,
              "#9c179e"
             ],
             [
              0.4444444444444444,
              "#bd3786"
             ],
             [
              0.5555555555555556,
              "#d8576b"
             ],
             [
              0.6666666666666666,
              "#ed7953"
             ],
             [
              0.7777777777777778,
              "#fb9f3a"
             ],
             [
              0.8888888888888888,
              "#fdca26"
             ],
             [
              1,
              "#f0f921"
             ]
            ],
            "type": "surface"
           }
          ],
          "table": [
           {
            "cells": {
             "fill": {
              "color": "#EBF0F8"
             },
             "line": {
              "color": "white"
             }
            },
            "header": {
             "fill": {
              "color": "#C8D4E3"
             },
             "line": {
              "color": "white"
             }
            },
            "type": "table"
           }
          ]
         },
         "layout": {
          "annotationdefaults": {
           "arrowcolor": "#2a3f5f",
           "arrowhead": 0,
           "arrowwidth": 1
          },
          "coloraxis": {
           "colorbar": {
            "outlinewidth": 0,
            "ticks": ""
           }
          },
          "colorscale": {
           "diverging": [
            [
             0,
             "#8e0152"
            ],
            [
             0.1,
             "#c51b7d"
            ],
            [
             0.2,
             "#de77ae"
            ],
            [
             0.3,
             "#f1b6da"
            ],
            [
             0.4,
             "#fde0ef"
            ],
            [
             0.5,
             "#f7f7f7"
            ],
            [
             0.6,
             "#e6f5d0"
            ],
            [
             0.7,
             "#b8e186"
            ],
            [
             0.8,
             "#7fbc41"
            ],
            [
             0.9,
             "#4d9221"
            ],
            [
             1,
             "#276419"
            ]
           ],
           "sequential": [
            [
             0,
             "#0d0887"
            ],
            [
             0.1111111111111111,
             "#46039f"
            ],
            [
             0.2222222222222222,
             "#7201a8"
            ],
            [
             0.3333333333333333,
             "#9c179e"
            ],
            [
             0.4444444444444444,
             "#bd3786"
            ],
            [
             0.5555555555555556,
             "#d8576b"
            ],
            [
             0.6666666666666666,
             "#ed7953"
            ],
            [
             0.7777777777777778,
             "#fb9f3a"
            ],
            [
             0.8888888888888888,
             "#fdca26"
            ],
            [
             1,
             "#f0f921"
            ]
           ],
           "sequentialminus": [
            [
             0,
             "#0d0887"
            ],
            [
             0.1111111111111111,
             "#46039f"
            ],
            [
             0.2222222222222222,
             "#7201a8"
            ],
            [
             0.3333333333333333,
             "#9c179e"
            ],
            [
             0.4444444444444444,
             "#bd3786"
            ],
            [
             0.5555555555555556,
             "#d8576b"
            ],
            [
             0.6666666666666666,
             "#ed7953"
            ],
            [
             0.7777777777777778,
             "#fb9f3a"
            ],
            [
             0.8888888888888888,
             "#fdca26"
            ],
            [
             1,
             "#f0f921"
            ]
           ]
          },
          "colorway": [
           "#636efa",
           "#EF553B",
           "#00cc96",
           "#ab63fa",
           "#FFA15A",
           "#19d3f3",
           "#FF6692",
           "#B6E880",
           "#FF97FF",
           "#FECB52"
          ],
          "font": {
           "color": "#2a3f5f"
          },
          "geo": {
           "bgcolor": "white",
           "lakecolor": "white",
           "landcolor": "#E5ECF6",
           "showlakes": true,
           "showland": true,
           "subunitcolor": "white"
          },
          "hoverlabel": {
           "align": "left"
          },
          "hovermode": "closest",
          "mapbox": {
           "style": "light"
          },
          "paper_bgcolor": "white",
          "plot_bgcolor": "#E5ECF6",
          "polar": {
           "angularaxis": {
            "gridcolor": "white",
            "linecolor": "white",
            "ticks": ""
           },
           "bgcolor": "#E5ECF6",
           "radialaxis": {
            "gridcolor": "white",
            "linecolor": "white",
            "ticks": ""
           }
          },
          "scene": {
           "xaxis": {
            "backgroundcolor": "#E5ECF6",
            "gridcolor": "white",
            "gridwidth": 2,
            "linecolor": "white",
            "showbackground": true,
            "ticks": "",
            "zerolinecolor": "white"
           },
           "yaxis": {
            "backgroundcolor": "#E5ECF6",
            "gridcolor": "white",
            "gridwidth": 2,
            "linecolor": "white",
            "showbackground": true,
            "ticks": "",
            "zerolinecolor": "white"
           },
           "zaxis": {
            "backgroundcolor": "#E5ECF6",
            "gridcolor": "white",
            "gridwidth": 2,
            "linecolor": "white",
            "showbackground": true,
            "ticks": "",
            "zerolinecolor": "white"
           }
          },
          "shapedefaults": {
           "line": {
            "color": "#2a3f5f"
           }
          },
          "ternary": {
           "aaxis": {
            "gridcolor": "white",
            "linecolor": "white",
            "ticks": ""
           },
           "baxis": {
            "gridcolor": "white",
            "linecolor": "white",
            "ticks": ""
           },
           "bgcolor": "#E5ECF6",
           "caxis": {
            "gridcolor": "white",
            "linecolor": "white",
            "ticks": ""
           }
          },
          "title": {
           "x": 0.05
          },
          "xaxis": {
           "automargin": true,
           "gridcolor": "white",
           "linecolor": "white",
           "ticks": "",
           "title": {
            "standoff": 15
           },
           "zerolinecolor": "white",
           "zerolinewidth": 2
          },
          "yaxis": {
           "automargin": true,
           "gridcolor": "white",
           "linecolor": "white",
           "ticks": "",
           "title": {
            "standoff": 15
           },
           "zerolinecolor": "white",
           "zerolinewidth": 2
          }
         }
        }
       }
      },
      "text/html": [
       "<div>\n",
       "        \n",
       "        \n",
       "            <div id=\"315454d4-887f-4a3d-bfeb-a39be9aa038c\" class=\"plotly-graph-div\" style=\"height:525px; width:100%;\"></div>\n",
       "            <script type=\"text/javascript\">\n",
       "                require([\"plotly\"], function(Plotly) {\n",
       "                    window.PLOTLYENV=window.PLOTLYENV || {};\n",
       "                    \n",
       "                if (document.getElementById(\"315454d4-887f-4a3d-bfeb-a39be9aa038c\")) {\n",
       "                    Plotly.newPlot(\n",
       "                        '315454d4-887f-4a3d-bfeb-a39be9aa038c',\n",
       "                        [{\"type\": \"scatter\", \"y\": [4.641592502593994, 4.827596187591553, 4.983755588531494, 5.103299140930176, 5.176808834075928, 5.19842004776001, 5.1696038246154785, 5.099372386932373, 5.001304626464844, 4.950571060180664]}, {\"type\": \"scatter\", \"y\": [1.0, 0.860037624835968, 0.7015556693077087, 0.4938805401325226, 0.24121567606925964, -0.025101959705352783, -0.26306259632110596, -0.43925291299819946, -0.5414215326309204, 0.034084826707839966]}],\n",
       "                        {\"template\": {\"data\": {\"bar\": [{\"error_x\": {\"color\": \"#2a3f5f\"}, \"error_y\": {\"color\": \"#2a3f5f\"}, \"marker\": {\"line\": {\"color\": \"#E5ECF6\", \"width\": 0.5}}, \"type\": \"bar\"}], \"barpolar\": [{\"marker\": {\"line\": {\"color\": \"#E5ECF6\", \"width\": 0.5}}, \"type\": \"barpolar\"}], \"carpet\": [{\"aaxis\": {\"endlinecolor\": \"#2a3f5f\", \"gridcolor\": \"white\", \"linecolor\": \"white\", \"minorgridcolor\": \"white\", \"startlinecolor\": \"#2a3f5f\"}, \"baxis\": {\"endlinecolor\": \"#2a3f5f\", \"gridcolor\": \"white\", \"linecolor\": \"white\", \"minorgridcolor\": \"white\", \"startlinecolor\": \"#2a3f5f\"}, \"type\": \"carpet\"}], \"choropleth\": [{\"colorbar\": {\"outlinewidth\": 0, \"ticks\": \"\"}, \"type\": \"choropleth\"}], \"contour\": [{\"colorbar\": {\"outlinewidth\": 0, \"ticks\": \"\"}, \"colorscale\": [[0.0, \"#0d0887\"], [0.1111111111111111, \"#46039f\"], [0.2222222222222222, \"#7201a8\"], [0.3333333333333333, \"#9c179e\"], [0.4444444444444444, \"#bd3786\"], [0.5555555555555556, \"#d8576b\"], [0.6666666666666666, \"#ed7953\"], [0.7777777777777778, \"#fb9f3a\"], [0.8888888888888888, \"#fdca26\"], [1.0, \"#f0f921\"]], \"type\": \"contour\"}], \"contourcarpet\": [{\"colorbar\": {\"outlinewidth\": 0, \"ticks\": \"\"}, \"type\": \"contourcarpet\"}], \"heatmap\": [{\"colorbar\": {\"outlinewidth\": 0, \"ticks\": \"\"}, \"colorscale\": [[0.0, \"#0d0887\"], [0.1111111111111111, \"#46039f\"], [0.2222222222222222, \"#7201a8\"], [0.3333333333333333, \"#9c179e\"], [0.4444444444444444, \"#bd3786\"], [0.5555555555555556, \"#d8576b\"], [0.6666666666666666, \"#ed7953\"], [0.7777777777777778, \"#fb9f3a\"], [0.8888888888888888, \"#fdca26\"], [1.0, \"#f0f921\"]], \"type\": \"heatmap\"}], \"heatmapgl\": [{\"colorbar\": {\"outlinewidth\": 0, \"ticks\": \"\"}, \"colorscale\": [[0.0, \"#0d0887\"], [0.1111111111111111, \"#46039f\"], [0.2222222222222222, \"#7201a8\"], [0.3333333333333333, \"#9c179e\"], [0.4444444444444444, \"#bd3786\"], [0.5555555555555556, \"#d8576b\"], [0.6666666666666666, \"#ed7953\"], [0.7777777777777778, \"#fb9f3a\"], [0.8888888888888888, \"#fdca26\"], [1.0, \"#f0f921\"]], \"type\": \"heatmapgl\"}], \"histogram\": [{\"marker\": {\"colorbar\": {\"outlinewidth\": 0, \"ticks\": \"\"}}, \"type\": \"histogram\"}], \"histogram2d\": [{\"colorbar\": {\"outlinewidth\": 0, \"ticks\": \"\"}, \"colorscale\": [[0.0, \"#0d0887\"], [0.1111111111111111, \"#46039f\"], [0.2222222222222222, \"#7201a8\"], [0.3333333333333333, \"#9c179e\"], [0.4444444444444444, \"#bd3786\"], [0.5555555555555556, \"#d8576b\"], [0.6666666666666666, \"#ed7953\"], [0.7777777777777778, \"#fb9f3a\"], [0.8888888888888888, \"#fdca26\"], [1.0, \"#f0f921\"]], \"type\": \"histogram2d\"}], \"histogram2dcontour\": [{\"colorbar\": {\"outlinewidth\": 0, \"ticks\": \"\"}, \"colorscale\": [[0.0, \"#0d0887\"], [0.1111111111111111, \"#46039f\"], [0.2222222222222222, \"#7201a8\"], [0.3333333333333333, \"#9c179e\"], [0.4444444444444444, \"#bd3786\"], [0.5555555555555556, \"#d8576b\"], [0.6666666666666666, \"#ed7953\"], [0.7777777777777778, \"#fb9f3a\"], [0.8888888888888888, \"#fdca26\"], [1.0, \"#f0f921\"]], \"type\": \"histogram2dcontour\"}], \"mesh3d\": [{\"colorbar\": {\"outlinewidth\": 0, \"ticks\": \"\"}, \"type\": \"mesh3d\"}], \"parcoords\": [{\"line\": {\"colorbar\": {\"outlinewidth\": 0, \"ticks\": \"\"}}, \"type\": \"parcoords\"}], \"pie\": [{\"automargin\": true, \"type\": \"pie\"}], \"scatter\": [{\"marker\": {\"colorbar\": {\"outlinewidth\": 0, \"ticks\": \"\"}}, \"type\": \"scatter\"}], \"scatter3d\": [{\"line\": {\"colorbar\": {\"outlinewidth\": 0, \"ticks\": \"\"}}, \"marker\": {\"colorbar\": {\"outlinewidth\": 0, \"ticks\": \"\"}}, \"type\": \"scatter3d\"}], \"scattercarpet\": [{\"marker\": {\"colorbar\": {\"outlinewidth\": 0, \"ticks\": \"\"}}, \"type\": \"scattercarpet\"}], \"scattergeo\": [{\"marker\": {\"colorbar\": {\"outlinewidth\": 0, \"ticks\": \"\"}}, \"type\": \"scattergeo\"}], \"scattergl\": [{\"marker\": {\"colorbar\": {\"outlinewidth\": 0, \"ticks\": \"\"}}, \"type\": \"scattergl\"}], \"scattermapbox\": [{\"marker\": {\"colorbar\": {\"outlinewidth\": 0, \"ticks\": \"\"}}, \"type\": \"scattermapbox\"}], \"scatterpolar\": [{\"marker\": {\"colorbar\": {\"outlinewidth\": 0, \"ticks\": \"\"}}, \"type\": \"scatterpolar\"}], \"scatterpolargl\": [{\"marker\": {\"colorbar\": {\"outlinewidth\": 0, \"ticks\": \"\"}}, \"type\": \"scatterpolargl\"}], \"scatterternary\": [{\"marker\": {\"colorbar\": {\"outlinewidth\": 0, \"ticks\": \"\"}}, \"type\": \"scatterternary\"}], \"surface\": [{\"colorbar\": {\"outlinewidth\": 0, \"ticks\": \"\"}, \"colorscale\": [[0.0, \"#0d0887\"], [0.1111111111111111, \"#46039f\"], [0.2222222222222222, \"#7201a8\"], [0.3333333333333333, \"#9c179e\"], [0.4444444444444444, \"#bd3786\"], [0.5555555555555556, \"#d8576b\"], [0.6666666666666666, \"#ed7953\"], [0.7777777777777778, \"#fb9f3a\"], [0.8888888888888888, \"#fdca26\"], [1.0, \"#f0f921\"]], \"type\": \"surface\"}], \"table\": [{\"cells\": {\"fill\": {\"color\": \"#EBF0F8\"}, \"line\": {\"color\": \"white\"}}, \"header\": {\"fill\": {\"color\": \"#C8D4E3\"}, \"line\": {\"color\": \"white\"}}, \"type\": \"table\"}]}, \"layout\": {\"annotationdefaults\": {\"arrowcolor\": \"#2a3f5f\", \"arrowhead\": 0, \"arrowwidth\": 1}, \"coloraxis\": {\"colorbar\": {\"outlinewidth\": 0, \"ticks\": \"\"}}, \"colorscale\": {\"diverging\": [[0, \"#8e0152\"], [0.1, \"#c51b7d\"], [0.2, \"#de77ae\"], [0.3, \"#f1b6da\"], [0.4, \"#fde0ef\"], [0.5, \"#f7f7f7\"], [0.6, \"#e6f5d0\"], [0.7, \"#b8e186\"], [0.8, \"#7fbc41\"], [0.9, \"#4d9221\"], [1, \"#276419\"]], \"sequential\": [[0.0, \"#0d0887\"], [0.1111111111111111, \"#46039f\"], [0.2222222222222222, \"#7201a8\"], [0.3333333333333333, \"#9c179e\"], [0.4444444444444444, \"#bd3786\"], [0.5555555555555556, \"#d8576b\"], [0.6666666666666666, \"#ed7953\"], [0.7777777777777778, \"#fb9f3a\"], [0.8888888888888888, \"#fdca26\"], [1.0, \"#f0f921\"]], \"sequentialminus\": [[0.0, \"#0d0887\"], [0.1111111111111111, \"#46039f\"], [0.2222222222222222, \"#7201a8\"], [0.3333333333333333, \"#9c179e\"], [0.4444444444444444, \"#bd3786\"], [0.5555555555555556, \"#d8576b\"], [0.6666666666666666, \"#ed7953\"], [0.7777777777777778, \"#fb9f3a\"], [0.8888888888888888, \"#fdca26\"], [1.0, \"#f0f921\"]]}, \"colorway\": [\"#636efa\", \"#EF553B\", \"#00cc96\", \"#ab63fa\", \"#FFA15A\", \"#19d3f3\", \"#FF6692\", \"#B6E880\", \"#FF97FF\", \"#FECB52\"], \"font\": {\"color\": \"#2a3f5f\"}, \"geo\": {\"bgcolor\": \"white\", \"lakecolor\": \"white\", \"landcolor\": \"#E5ECF6\", \"showlakes\": true, \"showland\": true, \"subunitcolor\": \"white\"}, \"hoverlabel\": {\"align\": \"left\"}, \"hovermode\": \"closest\", \"mapbox\": {\"style\": \"light\"}, \"paper_bgcolor\": \"white\", \"plot_bgcolor\": \"#E5ECF6\", \"polar\": {\"angularaxis\": {\"gridcolor\": \"white\", \"linecolor\": \"white\", \"ticks\": \"\"}, \"bgcolor\": \"#E5ECF6\", \"radialaxis\": {\"gridcolor\": \"white\", \"linecolor\": \"white\", \"ticks\": \"\"}}, \"scene\": {\"xaxis\": {\"backgroundcolor\": \"#E5ECF6\", \"gridcolor\": \"white\", \"gridwidth\": 2, \"linecolor\": \"white\", \"showbackground\": true, \"ticks\": \"\", \"zerolinecolor\": \"white\"}, \"yaxis\": {\"backgroundcolor\": \"#E5ECF6\", \"gridcolor\": \"white\", \"gridwidth\": 2, \"linecolor\": \"white\", \"showbackground\": true, \"ticks\": \"\", \"zerolinecolor\": \"white\"}, \"zaxis\": {\"backgroundcolor\": \"#E5ECF6\", \"gridcolor\": \"white\", \"gridwidth\": 2, \"linecolor\": \"white\", \"showbackground\": true, \"ticks\": \"\", \"zerolinecolor\": \"white\"}}, \"shapedefaults\": {\"line\": {\"color\": \"#2a3f5f\"}}, \"ternary\": {\"aaxis\": {\"gridcolor\": \"white\", \"linecolor\": \"white\", \"ticks\": \"\"}, \"baxis\": {\"gridcolor\": \"white\", \"linecolor\": \"white\", \"ticks\": \"\"}, \"bgcolor\": \"#E5ECF6\", \"caxis\": {\"gridcolor\": \"white\", \"linecolor\": \"white\", \"ticks\": \"\"}}, \"title\": {\"x\": 0.05}, \"xaxis\": {\"automargin\": true, \"gridcolor\": \"white\", \"linecolor\": \"white\", \"ticks\": \"\", \"title\": {\"standoff\": 15}, \"zerolinecolor\": \"white\", \"zerolinewidth\": 2}, \"yaxis\": {\"automargin\": true, \"gridcolor\": \"white\", \"linecolor\": \"white\", \"ticks\": \"\", \"title\": {\"standoff\": 15}, \"zerolinecolor\": \"white\", \"zerolinewidth\": 2}}}},\n",
       "                        {\"responsive\": true}\n",
       "                    ).then(function(){\n",
       "                            \n",
       "var gd = document.getElementById('315454d4-887f-4a3d-bfeb-a39be9aa038c');\n",
       "var x = new MutationObserver(function (mutations, observer) {{\n",
       "        var display = window.getComputedStyle(gd).display;\n",
       "        if (!display || display === 'none') {{\n",
       "            console.log([gd, 'removed!']);\n",
       "            Plotly.purge(gd);\n",
       "            observer.disconnect();\n",
       "        }}\n",
       "}});\n",
       "\n",
       "// Listen for the removal of the full notebook cells\n",
       "var notebookContainer = gd.closest('#notebook-container');\n",
       "if (notebookContainer) {{\n",
       "    x.observe(notebookContainer, {childList: true});\n",
       "}}\n",
       "\n",
       "// Listen for the clearing of the current output cell\n",
       "var outputEl = gd.closest('.output');\n",
       "if (outputEl) {{\n",
       "    x.observe(outputEl, {childList: true});\n",
       "}}\n",
       "\n",
       "                        })\n",
       "                };\n",
       "                });\n",
       "            </script>\n",
       "        </div>"
      ]
     },
     "metadata": {},
     "output_type": "display_data"
    }
   ],
   "source": [
    "x0 = torch.Tensor([np.pi+1.5, 1.]).double()\n",
    "x_traj, u_traj, alpha_traj = vf.sol_to_traj(x0, *(V(x0)[1:]))\n",
    "fig = go.Figure()\n",
    "for i in range(2):\n",
    "    fig.add_trace(go.Scatter(\n",
    "        y=x_traj[i,:]\n",
    "    ))\n",
    "fig.show()"
   ]
  },
  {
   "cell_type": "code",
   "execution_count": 61,
   "metadata": {},
   "outputs": [
    {
     "data": {
      "application/vnd.plotly.v1+json": {
       "config": {
        "plotlyServerURL": "https://plot.ly"
       },
       "data": [
        {
         "type": "scatter",
         "x": [
          0,
          0.10000000149011612,
          0.20000000298023224,
          0.30000001192092896,
          0.3987676799297333,
          0.4000000059604645,
          0.492825984954834,
          0.5,
          0.5897237062454224,
          0.6000000238418579,
          0.6885716915130615,
          0.699999988079071,
          0.7834177017211914,
          0.800000011920929,
          0.8755707144737244,
          0.8999999761581421,
          0.9635457396507263,
          1,
          1.0386152267456055,
          1.100000023841858,
          1.1703593730926514,
          1.2000000476837158,
          1.2743616104125977,
          1.2999999523162842,
          1.3771063089370728,
          1.399999976158142,
          1.479732871055603,
          1.5,
          1.582700252532959,
          1.600000023841858,
          1.6864043474197388,
          1.7000000476837158,
          1.7915706634521484,
          1.7999999523162842,
          1.899999976158142,
          2,
          2.0999999046325684,
          2.200000047683716,
          2.299999952316284,
          2.3995120525360107,
          2.4000000953674316,
          2.494771718978882,
          2.5,
          2.591701030731201,
          2.5999999046325684,
          2.6887288093566895,
          2.700000047683716,
          2.7860612869262695,
          2.799999952316284,
          2.883641004562378,
          2.9000000953674316,
          2.981383800506592,
          3,
          3.0660765171051025,
          3.0999999046325684,
          3.1540400981903076,
          3.200000047683716,
          3.255343437194824,
          3.299999952316284,
          3.356060028076172,
          3.4000000953674316,
          3.4564547538757324,
          3.5,
          3.5566797256469727,
          3.5999999046325684,
          3.656810760498047,
          3.700000047683716,
          3.756889581680298,
          3.799999952316284,
          3.8569419384002686,
          3.9000000953674316,
          3.956977605819702,
          4,
          4.057003498077393,
          4.099999904632568,
          4.15702486038208,
          4.199999809265137,
          4.25704288482666,
          4.300000190734863,
          4.357059955596924,
          4.400000095367432,
          4.457075595855713,
          4.5,
          4.55709171295166,
          4.599999904632568,
          4.657108306884766,
          4.699999809265137,
          4.757125377655029,
          4.800000190734863,
          4.857143878936768,
          4.900000095367432
         ],
         "y": [
          4.641592502593994,
          4.738152027130127,
          4.828048229217529,
          4.9110107421875,
          4.985276222229004,
          4.986149787902832,
          5.047778129577637,
          5.052181243896484,
          5.102486610412598,
          5.107659816741943,
          5.146876335144043,
          5.151211738586426,
          5.177618026733398,
          5.181748390197754,
          5.195783615112305,
          5.198635101318359,
          5.202216625213623,
          5.201803207397461,
          5.199448108673096,
          5.191780090332031,
          5.177389621734619,
          5.169651985168457,
          5.146247863769531,
          5.136955738067627,
          5.105682373046875,
          5.095530033111572,
          5.057561874389648,
          5.0473456382751465,
          5.003774642944336,
          4.994339466094971,
          4.94602108001709,
          4.938276767730713,
          4.885534763336182,
          4.8806471824646,
          4.822601318359375,
          4.764927864074707,
          4.708056926727295,
          4.652080059051514,
          4.596780300140381,
          4.541928768157959,
          4.541658878326416,
          4.488895416259766,
          4.485952854156494,
          4.433483123779297,
          4.428635120391846,
          4.375378131866455,
          4.368393898010254,
          4.312961578369141,
          4.303581237792969,
          4.244372367858887,
          4.232125759124756,
          4.167265892028809,
          4.151388645172119,
          4.092251300811768,
          4.059758186340332,
          4.007496356964111,
          3.9622817039489746,
          3.907991647720337,
          3.8648488521575928,
          3.8122458457946777,
          3.7724523544311523,
          3.7236104011535645,
          3.687734365463257,
          3.643613815307617,
          3.611795425415039,
          3.57266902923584,
          3.544783353805542,
          3.5105245113372803,
          3.486297845840454,
          3.4565656185150146,
          3.4356539249420166,
          3.4100124835968018,
          3.392047166824341,
          3.3700339794158936,
          3.3546533584594727,
          3.3358161449432373,
          3.3226828575134277,
          3.3066020011901855,
          3.2954087257385254,
          3.2817044258117676,
          3.2721784114837646,
          3.2605140209198,
          3.252415657043457,
          3.242496967315674,
          3.2356173992156982,
          3.227189064025879,
          3.221348762512207,
          3.2141902446746826,
          3.2092344760894775,
          3.2031569480895996,
          3.19895339012146
         ]
        },
        {
         "type": "scatter",
         "x": [
          0,
          0.10000000149011612,
          0.20000000298023224,
          0.30000001192092896,
          0.3987676799297333,
          0.4000000059604645,
          0.492825984954834,
          0.5,
          0.5897237062454224,
          0.6000000238418579,
          0.6885716915130615,
          0.699999988079071,
          0.7834177017211914,
          0.800000011920929,
          0.8755707144737244,
          0.8999999761581421,
          0.9635457396507263,
          1,
          1.0386152267456055,
          1.100000023841858,
          1.1703593730926514,
          1.2000000476837158,
          1.2743616104125977,
          1.2999999523162842,
          1.3771063089370728,
          1.399999976158142,
          1.479732871055603,
          1.5,
          1.582700252532959,
          1.600000023841858,
          1.6864043474197388,
          1.7000000476837158,
          1.7915706634521484,
          1.7999999523162842,
          1.899999976158142,
          2,
          2.0999999046325684,
          2.200000047683716,
          2.299999952316284,
          2.3995120525360107,
          2.4000000953674316,
          2.494771718978882,
          2.5,
          2.591701030731201,
          2.5999999046325684,
          2.6887288093566895,
          2.700000047683716,
          2.7860612869262695,
          2.799999952316284,
          2.883641004562378,
          2.9000000953674316,
          2.981383800506592,
          3,
          3.0660765171051025,
          3.0999999046325684,
          3.1540400981903076,
          3.200000047683716,
          3.255343437194824,
          3.299999952316284,
          3.356060028076172,
          3.4000000953674316,
          3.4564547538757324,
          3.5,
          3.5566797256469727,
          3.5999999046325684,
          3.656810760498047,
          3.700000047683716,
          3.756889581680298,
          3.799999952316284,
          3.8569419384002686,
          3.9000000953674316,
          3.956977605819702,
          4,
          4.057003498077393,
          4.099999904632568,
          4.15702486038208,
          4.199999809265137,
          4.25704288482666,
          4.300000190734863,
          4.357059955596924,
          4.400000095367432,
          4.457075595855713,
          4.5,
          4.55709171295166,
          4.599999904632568,
          4.657108306884766,
          4.699999809265137,
          4.757125377655029,
          4.800000190734863,
          4.857143878936768,
          4.900000095367432
         ],
         "y": [
          1,
          0.9321029782295227,
          0.8653351664543152,
          0.7923954725265503,
          0.7093237042427063,
          0.7082040905952454,
          0.6175118088722229,
          0.6099746823310852,
          0.5094849467277527,
          0.4972723126411438,
          0.38678625226020813,
          0.3719271123409271,
          0.26038607954978943,
          0.23772792518138885,
          0.1335829347372055,
          0.09989010542631149,
          0.013114046305418015,
          -0.03564629703760147,
          -0.0860949233174324,
          -0.16298501193523407,
          -0.24484427273273468,
          -0.27698975801467896,
          -0.3507958650588989,
          -0.37384092807769775,
          -0.43537041544914246,
          -0.45136019587516785,
          -0.49894922971725464,
          -0.50907963514328,
          -0.5425858497619629,
          -0.5480820536613464,
          -0.5684604644775391,
          -0.5706769824028015,
          -0.579638659954071,
          -0.5799983739852905,
          -0.5796051025390625,
          -0.5731459856033325,
          -0.5641258358955383,
          -0.5557799339294434,
          -0.5510503649711609,
          -0.5526202321052551,
          -0.552647590637207,
          -0.562366783618927,
          -0.5631814002990723,
          -0.5829991102218628,
          -0.5853525400161743,
          -0.6172098517417908,
          -0.6222072243690491,
          -0.668498694896698,
          -0.6774712800979614,
          -0.7413111925125122,
          -0.7559991478919983,
          -0.841576874256134,
          -0.8643990755081177,
          -0.9327517747879028,
          -0.9849078059196472,
          -0.9638201594352722,
          -1.0141701698303223,
          -0.9616478681564331,
          -0.979438304901123,
          -0.9100763201713562,
          -0.908882737159729,
          -0.8330451846122742,
          -0.8214028477668762,
          -0.7457804083824158,
          -0.7290113568305969,
          -0.6575066447257996,
          -0.6388483047485352,
          -0.5734639167785645,
          -0.5548059344291687,
          -0.49633729457855225,
          -0.4787166714668274,
          -0.4272173047065735,
          -0.4111369252204895,
          -0.36625340580940247,
          -0.351900190114975,
          -0.31307488679885864,
          -0.30045196413993835,
          -0.26704636216163635,
          -0.25605860352516174,
          -0.22742795944213867,
          -0.21793295443058014,
          -0.1934630423784256,
          -0.18530015647411346,
          -0.16442881524562836,
          -0.1574372947216034,
          -0.139661505818367,
          -0.13368935883045197,
          -0.11856686323881149,
          -0.11347617954015732,
          -0.1006212830543518,
          -0.09628867357969284
         ]
        }
       ],
       "layout": {
        "template": {
         "data": {
          "bar": [
           {
            "error_x": {
             "color": "#2a3f5f"
            },
            "error_y": {
             "color": "#2a3f5f"
            },
            "marker": {
             "line": {
              "color": "#E5ECF6",
              "width": 0.5
             }
            },
            "type": "bar"
           }
          ],
          "barpolar": [
           {
            "marker": {
             "line": {
              "color": "#E5ECF6",
              "width": 0.5
             }
            },
            "type": "barpolar"
           }
          ],
          "carpet": [
           {
            "aaxis": {
             "endlinecolor": "#2a3f5f",
             "gridcolor": "white",
             "linecolor": "white",
             "minorgridcolor": "white",
             "startlinecolor": "#2a3f5f"
            },
            "baxis": {
             "endlinecolor": "#2a3f5f",
             "gridcolor": "white",
             "linecolor": "white",
             "minorgridcolor": "white",
             "startlinecolor": "#2a3f5f"
            },
            "type": "carpet"
           }
          ],
          "choropleth": [
           {
            "colorbar": {
             "outlinewidth": 0,
             "ticks": ""
            },
            "type": "choropleth"
           }
          ],
          "contour": [
           {
            "colorbar": {
             "outlinewidth": 0,
             "ticks": ""
            },
            "colorscale": [
             [
              0,
              "#0d0887"
             ],
             [
              0.1111111111111111,
              "#46039f"
             ],
             [
              0.2222222222222222,
              "#7201a8"
             ],
             [
              0.3333333333333333,
              "#9c179e"
             ],
             [
              0.4444444444444444,
              "#bd3786"
             ],
             [
              0.5555555555555556,
              "#d8576b"
             ],
             [
              0.6666666666666666,
              "#ed7953"
             ],
             [
              0.7777777777777778,
              "#fb9f3a"
             ],
             [
              0.8888888888888888,
              "#fdca26"
             ],
             [
              1,
              "#f0f921"
             ]
            ],
            "type": "contour"
           }
          ],
          "contourcarpet": [
           {
            "colorbar": {
             "outlinewidth": 0,
             "ticks": ""
            },
            "type": "contourcarpet"
           }
          ],
          "heatmap": [
           {
            "colorbar": {
             "outlinewidth": 0,
             "ticks": ""
            },
            "colorscale": [
             [
              0,
              "#0d0887"
             ],
             [
              0.1111111111111111,
              "#46039f"
             ],
             [
              0.2222222222222222,
              "#7201a8"
             ],
             [
              0.3333333333333333,
              "#9c179e"
             ],
             [
              0.4444444444444444,
              "#bd3786"
             ],
             [
              0.5555555555555556,
              "#d8576b"
             ],
             [
              0.6666666666666666,
              "#ed7953"
             ],
             [
              0.7777777777777778,
              "#fb9f3a"
             ],
             [
              0.8888888888888888,
              "#fdca26"
             ],
             [
              1,
              "#f0f921"
             ]
            ],
            "type": "heatmap"
           }
          ],
          "heatmapgl": [
           {
            "colorbar": {
             "outlinewidth": 0,
             "ticks": ""
            },
            "colorscale": [
             [
              0,
              "#0d0887"
             ],
             [
              0.1111111111111111,
              "#46039f"
             ],
             [
              0.2222222222222222,
              "#7201a8"
             ],
             [
              0.3333333333333333,
              "#9c179e"
             ],
             [
              0.4444444444444444,
              "#bd3786"
             ],
             [
              0.5555555555555556,
              "#d8576b"
             ],
             [
              0.6666666666666666,
              "#ed7953"
             ],
             [
              0.7777777777777778,
              "#fb9f3a"
             ],
             [
              0.8888888888888888,
              "#fdca26"
             ],
             [
              1,
              "#f0f921"
             ]
            ],
            "type": "heatmapgl"
           }
          ],
          "histogram": [
           {
            "marker": {
             "colorbar": {
              "outlinewidth": 0,
              "ticks": ""
             }
            },
            "type": "histogram"
           }
          ],
          "histogram2d": [
           {
            "colorbar": {
             "outlinewidth": 0,
             "ticks": ""
            },
            "colorscale": [
             [
              0,
              "#0d0887"
             ],
             [
              0.1111111111111111,
              "#46039f"
             ],
             [
              0.2222222222222222,
              "#7201a8"
             ],
             [
              0.3333333333333333,
              "#9c179e"
             ],
             [
              0.4444444444444444,
              "#bd3786"
             ],
             [
              0.5555555555555556,
              "#d8576b"
             ],
             [
              0.6666666666666666,
              "#ed7953"
             ],
             [
              0.7777777777777778,
              "#fb9f3a"
             ],
             [
              0.8888888888888888,
              "#fdca26"
             ],
             [
              1,
              "#f0f921"
             ]
            ],
            "type": "histogram2d"
           }
          ],
          "histogram2dcontour": [
           {
            "colorbar": {
             "outlinewidth": 0,
             "ticks": ""
            },
            "colorscale": [
             [
              0,
              "#0d0887"
             ],
             [
              0.1111111111111111,
              "#46039f"
             ],
             [
              0.2222222222222222,
              "#7201a8"
             ],
             [
              0.3333333333333333,
              "#9c179e"
             ],
             [
              0.4444444444444444,
              "#bd3786"
             ],
             [
              0.5555555555555556,
              "#d8576b"
             ],
             [
              0.6666666666666666,
              "#ed7953"
             ],
             [
              0.7777777777777778,
              "#fb9f3a"
             ],
             [
              0.8888888888888888,
              "#fdca26"
             ],
             [
              1,
              "#f0f921"
             ]
            ],
            "type": "histogram2dcontour"
           }
          ],
          "mesh3d": [
           {
            "colorbar": {
             "outlinewidth": 0,
             "ticks": ""
            },
            "type": "mesh3d"
           }
          ],
          "parcoords": [
           {
            "line": {
             "colorbar": {
              "outlinewidth": 0,
              "ticks": ""
             }
            },
            "type": "parcoords"
           }
          ],
          "pie": [
           {
            "automargin": true,
            "type": "pie"
           }
          ],
          "scatter": [
           {
            "marker": {
             "colorbar": {
              "outlinewidth": 0,
              "ticks": ""
             }
            },
            "type": "scatter"
           }
          ],
          "scatter3d": [
           {
            "line": {
             "colorbar": {
              "outlinewidth": 0,
              "ticks": ""
             }
            },
            "marker": {
             "colorbar": {
              "outlinewidth": 0,
              "ticks": ""
             }
            },
            "type": "scatter3d"
           }
          ],
          "scattercarpet": [
           {
            "marker": {
             "colorbar": {
              "outlinewidth": 0,
              "ticks": ""
             }
            },
            "type": "scattercarpet"
           }
          ],
          "scattergeo": [
           {
            "marker": {
             "colorbar": {
              "outlinewidth": 0,
              "ticks": ""
             }
            },
            "type": "scattergeo"
           }
          ],
          "scattergl": [
           {
            "marker": {
             "colorbar": {
              "outlinewidth": 0,
              "ticks": ""
             }
            },
            "type": "scattergl"
           }
          ],
          "scattermapbox": [
           {
            "marker": {
             "colorbar": {
              "outlinewidth": 0,
              "ticks": ""
             }
            },
            "type": "scattermapbox"
           }
          ],
          "scatterpolar": [
           {
            "marker": {
             "colorbar": {
              "outlinewidth": 0,
              "ticks": ""
             }
            },
            "type": "scatterpolar"
           }
          ],
          "scatterpolargl": [
           {
            "marker": {
             "colorbar": {
              "outlinewidth": 0,
              "ticks": ""
             }
            },
            "type": "scatterpolargl"
           }
          ],
          "scatterternary": [
           {
            "marker": {
             "colorbar": {
              "outlinewidth": 0,
              "ticks": ""
             }
            },
            "type": "scatterternary"
           }
          ],
          "surface": [
           {
            "colorbar": {
             "outlinewidth": 0,
             "ticks": ""
            },
            "colorscale": [
             [
              0,
              "#0d0887"
             ],
             [
              0.1111111111111111,
              "#46039f"
             ],
             [
              0.2222222222222222,
              "#7201a8"
             ],
             [
              0.3333333333333333,
              "#9c179e"
             ],
             [
              0.4444444444444444,
              "#bd3786"
             ],
             [
              0.5555555555555556,
              "#d8576b"
             ],
             [
              0.6666666666666666,
              "#ed7953"
             ],
             [
              0.7777777777777778,
              "#fb9f3a"
             ],
             [
              0.8888888888888888,
              "#fdca26"
             ],
             [
              1,
              "#f0f921"
             ]
            ],
            "type": "surface"
           }
          ],
          "table": [
           {
            "cells": {
             "fill": {
              "color": "#EBF0F8"
             },
             "line": {
              "color": "white"
             }
            },
            "header": {
             "fill": {
              "color": "#C8D4E3"
             },
             "line": {
              "color": "white"
             }
            },
            "type": "table"
           }
          ]
         },
         "layout": {
          "annotationdefaults": {
           "arrowcolor": "#2a3f5f",
           "arrowhead": 0,
           "arrowwidth": 1
          },
          "coloraxis": {
           "colorbar": {
            "outlinewidth": 0,
            "ticks": ""
           }
          },
          "colorscale": {
           "diverging": [
            [
             0,
             "#8e0152"
            ],
            [
             0.1,
             "#c51b7d"
            ],
            [
             0.2,
             "#de77ae"
            ],
            [
             0.3,
             "#f1b6da"
            ],
            [
             0.4,
             "#fde0ef"
            ],
            [
             0.5,
             "#f7f7f7"
            ],
            [
             0.6,
             "#e6f5d0"
            ],
            [
             0.7,
             "#b8e186"
            ],
            [
             0.8,
             "#7fbc41"
            ],
            [
             0.9,
             "#4d9221"
            ],
            [
             1,
             "#276419"
            ]
           ],
           "sequential": [
            [
             0,
             "#0d0887"
            ],
            [
             0.1111111111111111,
             "#46039f"
            ],
            [
             0.2222222222222222,
             "#7201a8"
            ],
            [
             0.3333333333333333,
             "#9c179e"
            ],
            [
             0.4444444444444444,
             "#bd3786"
            ],
            [
             0.5555555555555556,
             "#d8576b"
            ],
            [
             0.6666666666666666,
             "#ed7953"
            ],
            [
             0.7777777777777778,
             "#fb9f3a"
            ],
            [
             0.8888888888888888,
             "#fdca26"
            ],
            [
             1,
             "#f0f921"
            ]
           ],
           "sequentialminus": [
            [
             0,
             "#0d0887"
            ],
            [
             0.1111111111111111,
             "#46039f"
            ],
            [
             0.2222222222222222,
             "#7201a8"
            ],
            [
             0.3333333333333333,
             "#9c179e"
            ],
            [
             0.4444444444444444,
             "#bd3786"
            ],
            [
             0.5555555555555556,
             "#d8576b"
            ],
            [
             0.6666666666666666,
             "#ed7953"
            ],
            [
             0.7777777777777778,
             "#fb9f3a"
            ],
            [
             0.8888888888888888,
             "#fdca26"
            ],
            [
             1,
             "#f0f921"
            ]
           ]
          },
          "colorway": [
           "#636efa",
           "#EF553B",
           "#00cc96",
           "#ab63fa",
           "#FFA15A",
           "#19d3f3",
           "#FF6692",
           "#B6E880",
           "#FF97FF",
           "#FECB52"
          ],
          "font": {
           "color": "#2a3f5f"
          },
          "geo": {
           "bgcolor": "white",
           "lakecolor": "white",
           "landcolor": "#E5ECF6",
           "showlakes": true,
           "showland": true,
           "subunitcolor": "white"
          },
          "hoverlabel": {
           "align": "left"
          },
          "hovermode": "closest",
          "mapbox": {
           "style": "light"
          },
          "paper_bgcolor": "white",
          "plot_bgcolor": "#E5ECF6",
          "polar": {
           "angularaxis": {
            "gridcolor": "white",
            "linecolor": "white",
            "ticks": ""
           },
           "bgcolor": "#E5ECF6",
           "radialaxis": {
            "gridcolor": "white",
            "linecolor": "white",
            "ticks": ""
           }
          },
          "scene": {
           "xaxis": {
            "backgroundcolor": "#E5ECF6",
            "gridcolor": "white",
            "gridwidth": 2,
            "linecolor": "white",
            "showbackground": true,
            "ticks": "",
            "zerolinecolor": "white"
           },
           "yaxis": {
            "backgroundcolor": "#E5ECF6",
            "gridcolor": "white",
            "gridwidth": 2,
            "linecolor": "white",
            "showbackground": true,
            "ticks": "",
            "zerolinecolor": "white"
           },
           "zaxis": {
            "backgroundcolor": "#E5ECF6",
            "gridcolor": "white",
            "gridwidth": 2,
            "linecolor": "white",
            "showbackground": true,
            "ticks": "",
            "zerolinecolor": "white"
           }
          },
          "shapedefaults": {
           "line": {
            "color": "#2a3f5f"
           }
          },
          "ternary": {
           "aaxis": {
            "gridcolor": "white",
            "linecolor": "white",
            "ticks": ""
           },
           "baxis": {
            "gridcolor": "white",
            "linecolor": "white",
            "ticks": ""
           },
           "bgcolor": "#E5ECF6",
           "caxis": {
            "gridcolor": "white",
            "linecolor": "white",
            "ticks": ""
           }
          },
          "title": {
           "x": 0.05
          },
          "xaxis": {
           "automargin": true,
           "gridcolor": "white",
           "linecolor": "white",
           "ticks": "",
           "title": {
            "standoff": 15
           },
           "zerolinecolor": "white",
           "zerolinewidth": 2
          },
          "yaxis": {
           "automargin": true,
           "gridcolor": "white",
           "linecolor": "white",
           "ticks": "",
           "title": {
            "standoff": 15
           },
           "zerolinecolor": "white",
           "zerolinewidth": 2
          }
         }
        }
       }
      },
      "text/html": [
       "<div>\n",
       "        \n",
       "        \n",
       "            <div id=\"d460e5ed-b5ef-4473-be1d-6328b46f2a99\" class=\"plotly-graph-div\" style=\"height:525px; width:100%;\"></div>\n",
       "            <script type=\"text/javascript\">\n",
       "                require([\"plotly\"], function(Plotly) {\n",
       "                    window.PLOTLYENV=window.PLOTLYENV || {};\n",
       "                    \n",
       "                if (document.getElementById(\"d460e5ed-b5ef-4473-be1d-6328b46f2a99\")) {\n",
       "                    Plotly.newPlot(\n",
       "                        'd460e5ed-b5ef-4473-be1d-6328b46f2a99',\n",
       "                        [{\"type\": \"scatter\", \"x\": [0.0, 0.10000000149011612, 0.20000000298023224, 0.30000001192092896, 0.3987676799297333, 0.4000000059604645, 0.492825984954834, 0.5, 0.5897237062454224, 0.6000000238418579, 0.6885716915130615, 0.699999988079071, 0.7834177017211914, 0.800000011920929, 0.8755707144737244, 0.8999999761581421, 0.9635457396507263, 1.0, 1.0386152267456055, 1.100000023841858, 1.1703593730926514, 1.2000000476837158, 1.2743616104125977, 1.2999999523162842, 1.3771063089370728, 1.399999976158142, 1.479732871055603, 1.5, 1.582700252532959, 1.600000023841858, 1.6864043474197388, 1.7000000476837158, 1.7915706634521484, 1.7999999523162842, 1.899999976158142, 2.0, 2.0999999046325684, 2.200000047683716, 2.299999952316284, 2.3995120525360107, 2.4000000953674316, 2.494771718978882, 2.5, 2.591701030731201, 2.5999999046325684, 2.6887288093566895, 2.700000047683716, 2.7860612869262695, 2.799999952316284, 2.883641004562378, 2.9000000953674316, 2.981383800506592, 3.0, 3.0660765171051025, 3.0999999046325684, 3.1540400981903076, 3.200000047683716, 3.255343437194824, 3.299999952316284, 3.356060028076172, 3.4000000953674316, 3.4564547538757324, 3.5, 3.5566797256469727, 3.5999999046325684, 3.656810760498047, 3.700000047683716, 3.756889581680298, 3.799999952316284, 3.8569419384002686, 3.9000000953674316, 3.956977605819702, 4.0, 4.057003498077393, 4.099999904632568, 4.15702486038208, 4.199999809265137, 4.25704288482666, 4.300000190734863, 4.357059955596924, 4.400000095367432, 4.457075595855713, 4.5, 4.55709171295166, 4.599999904632568, 4.657108306884766, 4.699999809265137, 4.757125377655029, 4.800000190734863, 4.857143878936768, 4.900000095367432], \"y\": [4.641592502593994, 4.738152027130127, 4.828048229217529, 4.9110107421875, 4.985276222229004, 4.986149787902832, 5.047778129577637, 5.052181243896484, 5.102486610412598, 5.107659816741943, 5.146876335144043, 5.151211738586426, 5.177618026733398, 5.181748390197754, 5.195783615112305, 5.198635101318359, 5.202216625213623, 5.201803207397461, 5.199448108673096, 5.191780090332031, 5.177389621734619, 5.169651985168457, 5.146247863769531, 5.136955738067627, 5.105682373046875, 5.095530033111572, 5.057561874389648, 5.0473456382751465, 5.003774642944336, 4.994339466094971, 4.94602108001709, 4.938276767730713, 4.885534763336182, 4.8806471824646, 4.822601318359375, 4.764927864074707, 4.708056926727295, 4.652080059051514, 4.596780300140381, 4.541928768157959, 4.541658878326416, 4.488895416259766, 4.485952854156494, 4.433483123779297, 4.428635120391846, 4.375378131866455, 4.368393898010254, 4.312961578369141, 4.303581237792969, 4.244372367858887, 4.232125759124756, 4.167265892028809, 4.151388645172119, 4.092251300811768, 4.059758186340332, 4.007496356964111, 3.9622817039489746, 3.907991647720337, 3.8648488521575928, 3.8122458457946777, 3.7724523544311523, 3.7236104011535645, 3.687734365463257, 3.643613815307617, 3.611795425415039, 3.57266902923584, 3.544783353805542, 3.5105245113372803, 3.486297845840454, 3.4565656185150146, 3.4356539249420166, 3.4100124835968018, 3.392047166824341, 3.3700339794158936, 3.3546533584594727, 3.3358161449432373, 3.3226828575134277, 3.3066020011901855, 3.2954087257385254, 3.2817044258117676, 3.2721784114837646, 3.2605140209198, 3.252415657043457, 3.242496967315674, 3.2356173992156982, 3.227189064025879, 3.221348762512207, 3.2141902446746826, 3.2092344760894775, 3.2031569480895996, 3.19895339012146]}, {\"type\": \"scatter\", \"x\": [0.0, 0.10000000149011612, 0.20000000298023224, 0.30000001192092896, 0.3987676799297333, 0.4000000059604645, 0.492825984954834, 0.5, 0.5897237062454224, 0.6000000238418579, 0.6885716915130615, 0.699999988079071, 0.7834177017211914, 0.800000011920929, 0.8755707144737244, 0.8999999761581421, 0.9635457396507263, 1.0, 1.0386152267456055, 1.100000023841858, 1.1703593730926514, 1.2000000476837158, 1.2743616104125977, 1.2999999523162842, 1.3771063089370728, 1.399999976158142, 1.479732871055603, 1.5, 1.582700252532959, 1.600000023841858, 1.6864043474197388, 1.7000000476837158, 1.7915706634521484, 1.7999999523162842, 1.899999976158142, 2.0, 2.0999999046325684, 2.200000047683716, 2.299999952316284, 2.3995120525360107, 2.4000000953674316, 2.494771718978882, 2.5, 2.591701030731201, 2.5999999046325684, 2.6887288093566895, 2.700000047683716, 2.7860612869262695, 2.799999952316284, 2.883641004562378, 2.9000000953674316, 2.981383800506592, 3.0, 3.0660765171051025, 3.0999999046325684, 3.1540400981903076, 3.200000047683716, 3.255343437194824, 3.299999952316284, 3.356060028076172, 3.4000000953674316, 3.4564547538757324, 3.5, 3.5566797256469727, 3.5999999046325684, 3.656810760498047, 3.700000047683716, 3.756889581680298, 3.799999952316284, 3.8569419384002686, 3.9000000953674316, 3.956977605819702, 4.0, 4.057003498077393, 4.099999904632568, 4.15702486038208, 4.199999809265137, 4.25704288482666, 4.300000190734863, 4.357059955596924, 4.400000095367432, 4.457075595855713, 4.5, 4.55709171295166, 4.599999904632568, 4.657108306884766, 4.699999809265137, 4.757125377655029, 4.800000190734863, 4.857143878936768, 4.900000095367432], \"y\": [1.0, 0.9321029782295227, 0.8653351664543152, 0.7923954725265503, 0.7093237042427063, 0.7082040905952454, 0.6175118088722229, 0.6099746823310852, 0.5094849467277527, 0.4972723126411438, 0.38678625226020813, 0.3719271123409271, 0.26038607954978943, 0.23772792518138885, 0.1335829347372055, 0.09989010542631149, 0.013114046305418015, -0.03564629703760147, -0.0860949233174324, -0.16298501193523407, -0.24484427273273468, -0.27698975801467896, -0.3507958650588989, -0.37384092807769775, -0.43537041544914246, -0.45136019587516785, -0.49894922971725464, -0.50907963514328, -0.5425858497619629, -0.5480820536613464, -0.5684604644775391, -0.5706769824028015, -0.579638659954071, -0.5799983739852905, -0.5796051025390625, -0.5731459856033325, -0.5641258358955383, -0.5557799339294434, -0.5510503649711609, -0.5526202321052551, -0.552647590637207, -0.562366783618927, -0.5631814002990723, -0.5829991102218628, -0.5853525400161743, -0.6172098517417908, -0.6222072243690491, -0.668498694896698, -0.6774712800979614, -0.7413111925125122, -0.7559991478919983, -0.841576874256134, -0.8643990755081177, -0.9327517747879028, -0.9849078059196472, -0.9638201594352722, -1.0141701698303223, -0.9616478681564331, -0.979438304901123, -0.9100763201713562, -0.908882737159729, -0.8330451846122742, -0.8214028477668762, -0.7457804083824158, -0.7290113568305969, -0.6575066447257996, -0.6388483047485352, -0.5734639167785645, -0.5548059344291687, -0.49633729457855225, -0.4787166714668274, -0.4272173047065735, -0.4111369252204895, -0.36625340580940247, -0.351900190114975, -0.31307488679885864, -0.30045196413993835, -0.26704636216163635, -0.25605860352516174, -0.22742795944213867, -0.21793295443058014, -0.1934630423784256, -0.18530015647411346, -0.16442881524562836, -0.1574372947216034, -0.139661505818367, -0.13368935883045197, -0.11856686323881149, -0.11347617954015732, -0.1006212830543518, -0.09628867357969284]}],\n",
       "                        {\"template\": {\"data\": {\"bar\": [{\"error_x\": {\"color\": \"#2a3f5f\"}, \"error_y\": {\"color\": \"#2a3f5f\"}, \"marker\": {\"line\": {\"color\": \"#E5ECF6\", \"width\": 0.5}}, \"type\": \"bar\"}], \"barpolar\": [{\"marker\": {\"line\": {\"color\": \"#E5ECF6\", \"width\": 0.5}}, \"type\": \"barpolar\"}], \"carpet\": [{\"aaxis\": {\"endlinecolor\": \"#2a3f5f\", \"gridcolor\": \"white\", \"linecolor\": \"white\", \"minorgridcolor\": \"white\", \"startlinecolor\": \"#2a3f5f\"}, \"baxis\": {\"endlinecolor\": \"#2a3f5f\", \"gridcolor\": \"white\", \"linecolor\": \"white\", \"minorgridcolor\": \"white\", \"startlinecolor\": \"#2a3f5f\"}, \"type\": \"carpet\"}], \"choropleth\": [{\"colorbar\": {\"outlinewidth\": 0, \"ticks\": \"\"}, \"type\": \"choropleth\"}], \"contour\": [{\"colorbar\": {\"outlinewidth\": 0, \"ticks\": \"\"}, \"colorscale\": [[0.0, \"#0d0887\"], [0.1111111111111111, \"#46039f\"], [0.2222222222222222, \"#7201a8\"], [0.3333333333333333, \"#9c179e\"], [0.4444444444444444, \"#bd3786\"], [0.5555555555555556, \"#d8576b\"], [0.6666666666666666, \"#ed7953\"], [0.7777777777777778, \"#fb9f3a\"], [0.8888888888888888, \"#fdca26\"], [1.0, \"#f0f921\"]], \"type\": \"contour\"}], \"contourcarpet\": [{\"colorbar\": {\"outlinewidth\": 0, \"ticks\": \"\"}, \"type\": \"contourcarpet\"}], \"heatmap\": [{\"colorbar\": {\"outlinewidth\": 0, \"ticks\": \"\"}, \"colorscale\": [[0.0, \"#0d0887\"], [0.1111111111111111, \"#46039f\"], [0.2222222222222222, \"#7201a8\"], [0.3333333333333333, \"#9c179e\"], [0.4444444444444444, \"#bd3786\"], [0.5555555555555556, \"#d8576b\"], [0.6666666666666666, \"#ed7953\"], [0.7777777777777778, \"#fb9f3a\"], [0.8888888888888888, \"#fdca26\"], [1.0, \"#f0f921\"]], \"type\": \"heatmap\"}], \"heatmapgl\": [{\"colorbar\": {\"outlinewidth\": 0, \"ticks\": \"\"}, \"colorscale\": [[0.0, \"#0d0887\"], [0.1111111111111111, \"#46039f\"], [0.2222222222222222, \"#7201a8\"], [0.3333333333333333, \"#9c179e\"], [0.4444444444444444, \"#bd3786\"], [0.5555555555555556, \"#d8576b\"], [0.6666666666666666, \"#ed7953\"], [0.7777777777777778, \"#fb9f3a\"], [0.8888888888888888, \"#fdca26\"], [1.0, \"#f0f921\"]], \"type\": \"heatmapgl\"}], \"histogram\": [{\"marker\": {\"colorbar\": {\"outlinewidth\": 0, \"ticks\": \"\"}}, \"type\": \"histogram\"}], \"histogram2d\": [{\"colorbar\": {\"outlinewidth\": 0, \"ticks\": \"\"}, \"colorscale\": [[0.0, \"#0d0887\"], [0.1111111111111111, \"#46039f\"], [0.2222222222222222, \"#7201a8\"], [0.3333333333333333, \"#9c179e\"], [0.4444444444444444, \"#bd3786\"], [0.5555555555555556, \"#d8576b\"], [0.6666666666666666, \"#ed7953\"], [0.7777777777777778, \"#fb9f3a\"], [0.8888888888888888, \"#fdca26\"], [1.0, \"#f0f921\"]], \"type\": \"histogram2d\"}], \"histogram2dcontour\": [{\"colorbar\": {\"outlinewidth\": 0, \"ticks\": \"\"}, \"colorscale\": [[0.0, \"#0d0887\"], [0.1111111111111111, \"#46039f\"], [0.2222222222222222, \"#7201a8\"], [0.3333333333333333, \"#9c179e\"], [0.4444444444444444, \"#bd3786\"], [0.5555555555555556, \"#d8576b\"], [0.6666666666666666, \"#ed7953\"], [0.7777777777777778, \"#fb9f3a\"], [0.8888888888888888, \"#fdca26\"], [1.0, \"#f0f921\"]], \"type\": \"histogram2dcontour\"}], \"mesh3d\": [{\"colorbar\": {\"outlinewidth\": 0, \"ticks\": \"\"}, \"type\": \"mesh3d\"}], \"parcoords\": [{\"line\": {\"colorbar\": {\"outlinewidth\": 0, \"ticks\": \"\"}}, \"type\": \"parcoords\"}], \"pie\": [{\"automargin\": true, \"type\": \"pie\"}], \"scatter\": [{\"marker\": {\"colorbar\": {\"outlinewidth\": 0, \"ticks\": \"\"}}, \"type\": \"scatter\"}], \"scatter3d\": [{\"line\": {\"colorbar\": {\"outlinewidth\": 0, \"ticks\": \"\"}}, \"marker\": {\"colorbar\": {\"outlinewidth\": 0, \"ticks\": \"\"}}, \"type\": \"scatter3d\"}], \"scattercarpet\": [{\"marker\": {\"colorbar\": {\"outlinewidth\": 0, \"ticks\": \"\"}}, \"type\": \"scattercarpet\"}], \"scattergeo\": [{\"marker\": {\"colorbar\": {\"outlinewidth\": 0, \"ticks\": \"\"}}, \"type\": \"scattergeo\"}], \"scattergl\": [{\"marker\": {\"colorbar\": {\"outlinewidth\": 0, \"ticks\": \"\"}}, \"type\": \"scattergl\"}], \"scattermapbox\": [{\"marker\": {\"colorbar\": {\"outlinewidth\": 0, \"ticks\": \"\"}}, \"type\": \"scattermapbox\"}], \"scatterpolar\": [{\"marker\": {\"colorbar\": {\"outlinewidth\": 0, \"ticks\": \"\"}}, \"type\": \"scatterpolar\"}], \"scatterpolargl\": [{\"marker\": {\"colorbar\": {\"outlinewidth\": 0, \"ticks\": \"\"}}, \"type\": \"scatterpolargl\"}], \"scatterternary\": [{\"marker\": {\"colorbar\": {\"outlinewidth\": 0, \"ticks\": \"\"}}, \"type\": \"scatterternary\"}], \"surface\": [{\"colorbar\": {\"outlinewidth\": 0, \"ticks\": \"\"}, \"colorscale\": [[0.0, \"#0d0887\"], [0.1111111111111111, \"#46039f\"], [0.2222222222222222, \"#7201a8\"], [0.3333333333333333, \"#9c179e\"], [0.4444444444444444, \"#bd3786\"], [0.5555555555555556, \"#d8576b\"], [0.6666666666666666, \"#ed7953\"], [0.7777777777777778, \"#fb9f3a\"], [0.8888888888888888, \"#fdca26\"], [1.0, \"#f0f921\"]], \"type\": \"surface\"}], \"table\": [{\"cells\": {\"fill\": {\"color\": \"#EBF0F8\"}, \"line\": {\"color\": \"white\"}}, \"header\": {\"fill\": {\"color\": \"#C8D4E3\"}, \"line\": {\"color\": \"white\"}}, \"type\": \"table\"}]}, \"layout\": {\"annotationdefaults\": {\"arrowcolor\": \"#2a3f5f\", \"arrowhead\": 0, \"arrowwidth\": 1}, \"coloraxis\": {\"colorbar\": {\"outlinewidth\": 0, \"ticks\": \"\"}}, \"colorscale\": {\"diverging\": [[0, \"#8e0152\"], [0.1, \"#c51b7d\"], [0.2, \"#de77ae\"], [0.3, \"#f1b6da\"], [0.4, \"#fde0ef\"], [0.5, \"#f7f7f7\"], [0.6, \"#e6f5d0\"], [0.7, \"#b8e186\"], [0.8, \"#7fbc41\"], [0.9, \"#4d9221\"], [1, \"#276419\"]], \"sequential\": [[0.0, \"#0d0887\"], [0.1111111111111111, \"#46039f\"], [0.2222222222222222, \"#7201a8\"], [0.3333333333333333, \"#9c179e\"], [0.4444444444444444, \"#bd3786\"], [0.5555555555555556, \"#d8576b\"], [0.6666666666666666, \"#ed7953\"], [0.7777777777777778, \"#fb9f3a\"], [0.8888888888888888, \"#fdca26\"], [1.0, \"#f0f921\"]], \"sequentialminus\": [[0.0, \"#0d0887\"], [0.1111111111111111, \"#46039f\"], [0.2222222222222222, \"#7201a8\"], [0.3333333333333333, \"#9c179e\"], [0.4444444444444444, \"#bd3786\"], [0.5555555555555556, \"#d8576b\"], [0.6666666666666666, \"#ed7953\"], [0.7777777777777778, \"#fb9f3a\"], [0.8888888888888888, \"#fdca26\"], [1.0, \"#f0f921\"]]}, \"colorway\": [\"#636efa\", \"#EF553B\", \"#00cc96\", \"#ab63fa\", \"#FFA15A\", \"#19d3f3\", \"#FF6692\", \"#B6E880\", \"#FF97FF\", \"#FECB52\"], \"font\": {\"color\": \"#2a3f5f\"}, \"geo\": {\"bgcolor\": \"white\", \"lakecolor\": \"white\", \"landcolor\": \"#E5ECF6\", \"showlakes\": true, \"showland\": true, \"subunitcolor\": \"white\"}, \"hoverlabel\": {\"align\": \"left\"}, \"hovermode\": \"closest\", \"mapbox\": {\"style\": \"light\"}, \"paper_bgcolor\": \"white\", \"plot_bgcolor\": \"#E5ECF6\", \"polar\": {\"angularaxis\": {\"gridcolor\": \"white\", \"linecolor\": \"white\", \"ticks\": \"\"}, \"bgcolor\": \"#E5ECF6\", \"radialaxis\": {\"gridcolor\": \"white\", \"linecolor\": \"white\", \"ticks\": \"\"}}, \"scene\": {\"xaxis\": {\"backgroundcolor\": \"#E5ECF6\", \"gridcolor\": \"white\", \"gridwidth\": 2, \"linecolor\": \"white\", \"showbackground\": true, \"ticks\": \"\", \"zerolinecolor\": \"white\"}, \"yaxis\": {\"backgroundcolor\": \"#E5ECF6\", \"gridcolor\": \"white\", \"gridwidth\": 2, \"linecolor\": \"white\", \"showbackground\": true, \"ticks\": \"\", \"zerolinecolor\": \"white\"}, \"zaxis\": {\"backgroundcolor\": \"#E5ECF6\", \"gridcolor\": \"white\", \"gridwidth\": 2, \"linecolor\": \"white\", \"showbackground\": true, \"ticks\": \"\", \"zerolinecolor\": \"white\"}}, \"shapedefaults\": {\"line\": {\"color\": \"#2a3f5f\"}}, \"ternary\": {\"aaxis\": {\"gridcolor\": \"white\", \"linecolor\": \"white\", \"ticks\": \"\"}, \"baxis\": {\"gridcolor\": \"white\", \"linecolor\": \"white\", \"ticks\": \"\"}, \"bgcolor\": \"#E5ECF6\", \"caxis\": {\"gridcolor\": \"white\", \"linecolor\": \"white\", \"ticks\": \"\"}}, \"title\": {\"x\": 0.05}, \"xaxis\": {\"automargin\": true, \"gridcolor\": \"white\", \"linecolor\": \"white\", \"ticks\": \"\", \"title\": {\"standoff\": 15}, \"zerolinecolor\": \"white\", \"zerolinewidth\": 2}, \"yaxis\": {\"automargin\": true, \"gridcolor\": \"white\", \"linecolor\": \"white\", \"ticks\": \"\", \"title\": {\"standoff\": 15}, \"zerolinecolor\": \"white\", \"zerolinewidth\": 2}}}},\n",
       "                        {\"responsive\": true}\n",
       "                    ).then(function(){\n",
       "                            \n",
       "var gd = document.getElementById('d460e5ed-b5ef-4473-be1d-6328b46f2a99');\n",
       "var x = new MutationObserver(function (mutations, observer) {{\n",
       "        var display = window.getComputedStyle(gd).display;\n",
       "        if (!display || display === 'none') {{\n",
       "            console.log([gd, 'removed!']);\n",
       "            Plotly.purge(gd);\n",
       "            observer.disconnect();\n",
       "        }}\n",
       "}});\n",
       "\n",
       "// Listen for the removal of the full notebook cells\n",
       "var notebookContainer = gd.closest('#notebook-container');\n",
       "if (notebookContainer) {{\n",
       "    x.observe(notebookContainer, {childList: true});\n",
       "}}\n",
       "\n",
       "// Listen for the clearing of the current output cell\n",
       "var outputEl = gd.closest('.output');\n",
       "if (outputEl) {{\n",
       "    x.observe(outputEl, {childList: true});\n",
       "}}\n",
       "\n",
       "                        })\n",
       "                };\n",
       "                });\n",
       "            </script>\n",
       "        </div>"
      ]
     },
     "metadata": {},
     "output_type": "display_data"
    }
   ],
   "source": [
    "# ctrl = lambda x: (torch.zeros(1), torch.zeros(1), None)\n",
    "ctrl = controllers.get_optimal_controller(vf)\n",
    "\n",
    "x_traj_sim, t_traj_sim = controllers.sim_ctrl(x0, 1, pendulum.dx, ctrl, .1, 50)\n",
    "\n",
    "fig = go.Figure()\n",
    "for i in range(2):\n",
    "    fig.add_trace(go.Scatter(\n",
    "        x=t_traj_sim,\n",
    "        y=x_traj_sim[i,:]\n",
    "    ))\n",
    "fig.show()"
   ]
  },
  {
   "cell_type": "code",
   "execution_count": 5,
   "metadata": {},
   "outputs": [],
   "source": [
    "x0_lo = torch.Tensor([np.pi-1.5, -15.]).type(vf.dtype)\n",
    "x0_up = torch.Tensor([np.pi+1.5, 15.]).type(vf.dtype)\n",
    "\n",
    "# file options\n",
    "sys_name = 'pendulum'\n",
    "x_samples_file = '../data/validation_' + sys_name + '_x.pt'\n",
    "v_samples_file = '../data/validation_' + sys_name + '_v.pt'\n",
    "model_file = '../data/' + sys_name + '.pt'"
   ]
  },
  {
   "cell_type": "code",
   "execution_count": 6,
   "metadata": {},
   "outputs": [],
   "source": [
    "opt = dict(\n",
    "    max_buffer_size = 5,\n",
    "    batch_size = 5,\n",
    "    nn_width = 32,\n",
    "    nn_depth = 0,\n",
    "\n",
    "    init_num_samples = 5,\n",
    "    init_num_trainig_step = 100,\n",
    "    \n",
    "    num_generations = 100,\n",
    "    num_samples_per_generation = 5,\n",
    "    num_train_step_per_gen = 100,\n",
    "    \n",
    "    adv_max_iter = 5,\n",
    "    adv_conv_tol = 1e-5,\n",
    "    adv_learning_rate = .5,\n",
    "    \n",
    "    num_samples_validation = 500,\n",
    ")"
   ]
  },
  {
   "cell_type": "code",
   "execution_count": 7,
   "metadata": {},
   "outputs": [],
   "source": [
    "samples_buff = samples_buffer.SamplesBuffer(x0_lo.shape[0]*(vf.N-1), vf.N-1, vf.dtype, max_size=opt['max_buffer_size'])\n",
    "samples_gen = samples_generator.RandomSampleGenerator(vf, x0_lo, x0_up)\n",
    "vf_approx = value_approximation.InfiniteHorizonValueFunctionApproximation(x0_lo, x0_up, opt['nn_width'], opt['nn_depth'])\n",
    "train_log = training_log.TrainingLog(1, prefix=\"baseline\")"
   ]
  },
  {
   "cell_type": "code",
   "execution_count": null,
   "metadata": {},
   "outputs": [],
   "source": [
    "x_samples_validation, v_labels_validation = samples_gen.generate_samples(opt['num_samples_validation'])"
   ]
  },
  {
   "cell_type": "code",
   "execution_count": 21,
   "metadata": {},
   "outputs": [],
   "source": [
    "torch.save(x_samples_validation, x_samples_file)\n",
    "torch.save(v_labels_validation, v_samples_file)"
   ]
  },
  {
   "cell_type": "code",
   "execution_count": 8,
   "metadata": {},
   "outputs": [],
   "source": [
    "x_samples_validation = torch.load(x_samples_file)\n",
    "v_labels_validation = torch.load(v_samples_file)"
   ]
  },
  {
   "cell_type": "code",
   "execution_count": 9,
   "metadata": {},
   "outputs": [],
   "source": [
    "(x_samples, v_labels) = samples_gen.generate_samples(opt['init_num_samples'])\n",
    "samples_buff.add_samples(x_samples, v_labels)"
   ]
  },
  {
   "cell_type": "code",
   "execution_count": 10,
   "metadata": {},
   "outputs": [],
   "source": [
    "for train_step_i in range(opt['init_num_trainig_step']):\n",
    "    x, v = samples_buff.get_random_samples(opt['batch_size'])\n",
    "    losses = vf_approx.train_step(x, v)\n",
    "    train_log.add_train_loss(losses)"
   ]
  },
  {
   "cell_type": "code",
   "execution_count": 11,
   "metadata": {},
   "outputs": [],
   "source": [
    "samples_buff_adv = copy.deepcopy(samples_buff)\n",
    "samples_gen_adv = samples_generator.AdversarialSampleGenerator(vf, x0_lo, x0_up, \n",
    "                                                               max_iter=opt['adv_max_iter'],\n",
    "                                                               conv_tol=opt['adv_conv_tol'],\n",
    "                                                               learning_rate=opt['adv_learning_rate'])\n",
    "vf_approx_adv = copy.deepcopy(vf_approx)\n",
    "train_log_adv = training_log.TrainingLog.get_copy(\n",
    "    train_log, prefix=\"adversarial\", keep_writer=True)"
   ]
  },
  {
   "cell_type": "code",
   "execution_count": 14,
   "metadata": {},
   "outputs": [],
   "source": [
    "validation_losses = vf_approx_adv.validation_loss(x_samples_validation, v_labels_validation)\n",
    "train_log_adv.add_validation_loss(validation_losses)\n",
    "validation_losses = vf_approx.validation_loss(x_samples_validation, v_labels_validation)\n",
    "train_log.add_validation_loss(validation_losses)\n",
    "for gen_i in range(opt['num_generations']):\n",
    "    # adverserial samples\n",
    "    (x_samples, v_labels) = samples_gen_adv.generate_samples(opt['num_samples_per_generation'], vf_approx_adv)\n",
    "    samples_buff_adv.add_samples(x_samples, v_labels)\n",
    "    # random samples\n",
    "    (x_samples, v_labels) = samples_gen.generate_samples(opt['num_samples_per_generation'])\n",
    "    samples_buff.add_samples(x_samples, v_labels)\n",
    "    for train_step_i in range(opt['num_train_step_per_gen']):\n",
    "        samples_indices = samples_buff_adv.get_random_sample_indices(opt['batch_size'])\n",
    "        x, v = samples_buff_adv.get_samples_from_indices(samples_indices)\n",
    "        losses = vf_approx_adv.train_step(x, v)\n",
    "        train_log_adv.add_train_loss(losses)\n",
    "        x, v = samples_buff.get_samples_from_indices(samples_indices)\n",
    "        losses = vf_approx.train_step(x, v)\n",
    "        train_log.add_train_loss(losses)\n",
    "    validation_losses = vf_approx_adv.validation_loss(x_samples_validation, v_labels_validation)\n",
    "    train_log_adv.add_validation_loss(validation_losses)\n",
    "    validation_losses = vf_approx.validation_loss(x_samples_validation, v_labels_validation)\n",
    "    train_log.add_validation_loss(validation_losses)"
   ]
  },
  {
   "cell_type": "code",
   "execution_count": 25,
   "metadata": {},
   "outputs": [],
   "source": [
    "# controller params\n",
    "dx = pendulum.dx\n",
    "step_cost = vf.step_cost\n",
    "u_min = torch.Tensor(vf.u_lo[0]).type(vf.dtype)\n",
    "u_max = torch.Tensor(vf.u_up[0]).type(vf.dtype)\n",
    "dt_ctrl = .2\n",
    "num_samples = 25\n",
    "\n",
    "# benchmark params\n",
    "x0 = torch.Tensor([np.pi, 0.]).type(vf.dtype)\n",
    "x0_eps = torch.Tensor([1.5, 15.]).type(vf.dtype)\n",
    "\n",
    "x_goal = torch.Tensor([np.pi, 0.]).type(vf.dtype)\n",
    "num_breaks = [10, 10]\n",
    "dt_sim = .1\n",
    "N = 40"
   ]
  },
  {
   "cell_type": "code",
   "execution_count": 26,
   "metadata": {},
   "outputs": [],
   "source": [
    "ctrl_adv = controllers.get_sampling_infinite_horizon_controller(dx, step_cost, vf_approx_adv.model, u_min, u_max, dt_ctrl, num_samples)\n",
    "bench_adv = controllers.benchmark_controller(u_min.shape[0], dx, ctrl_adv, x0, x0_eps, num_breaks, x_goal, dt_sim, N)"
   ]
  },
  {
   "cell_type": "code",
   "execution_count": 27,
   "metadata": {},
   "outputs": [],
   "source": [
    "ctrl_baseline = controllers.get_sampling_infinite_horizon_controller(dx, step_cost, vf_approx.model, u_min, u_max, dt_ctrl, num_samples)\n",
    "bench_baseline = controllers.benchmark_controller(u_min.shape[0], dx, ctrl_baseline, x0, x0_eps, num_breaks, x_goal, dt_sim, N)"
   ]
  },
  {
   "cell_type": "code",
   "execution_count": 28,
   "metadata": {},
   "outputs": [],
   "source": [
    "ctrl_lqr = controllers.get_lqr_controller(pendulum.dx, x0, torch.zeros(u_min.shape[0]).type(vf.dtype), vf.Q[0], vf.R[0], u_min, u_max)\n",
    "bench_lqr = controllers.benchmark_controller(u_min.shape[0], dx, ctrl_lqr, x0, x0_eps, num_breaks, x_goal, dt_sim, N)"
   ]
  },
  {
   "cell_type": "code",
   "execution_count": 29,
   "metadata": {
    "scrolled": true
   },
   "outputs": [
    {
     "name": "stdout",
     "output_type": "stream",
     "text": [
      "Baseline\n"
     ]
    },
    {
     "data": {
      "application/vnd.plotly.v1+json": {
       "config": {
        "plotlyServerURL": "https://plot.ly"
       },
       "data": [
        {
         "type": "heatmap",
         "z": [
          [
           2.201837462186017,
           8.235735988209559,
           0.2554708111138133,
           0.2729895218523836,
           0.8463933301049184,
           0.21065368914985946,
           0.2742622744897549,
           1.17621147375519,
           0.19015407913178126,
           0.19864861855198737
          ],
          [
           1.4316820740425658,
           8.318526262628993,
           0.3180667897564318,
           0.24673970036195275,
           0.4145121832333295,
           0.19940453508541084,
           0.17989320608970516,
           0.20730011542525992,
           0.16326395689022358,
           0.24023067171457332
          ],
          [
           1.4566871812150348,
           8.330783668396158,
           0.43005838382135053,
           0.2998522346926732,
           1.1918250672095656,
           0.18272367753609553,
           0.2175780483836402,
           0.21182342738379029,
           0.2121123024028599,
           0.26137580466757887
          ],
          [
           2.6067523834967377,
           8.384636682816003,
           0.2744463534113407,
           0.24391193644349363,
           0.2946048907459911,
           0.19806082668106015,
           1.6664793155330953,
           0.1974843793625143,
           0.1547706401977595,
           7.2283834238055285
          ],
          [
           3.236048268799643,
           8.415421984538716,
           0.5767752575162409,
           0.31981687637204015,
           0.16648257000752337,
           0.1376048430455305,
           0.39323489202385714,
           0.20753993311438623,
           0.2150082283268989,
           1.0245330546692903
          ],
          [
           6.503430684924372,
           8.31533821550586,
           0.26126700743627373,
           0.7740554280661014,
           0.24664518284642825,
           0.21930980802462888,
           0.1644498833579359,
           0.17196364112699367,
           0.2143329725191906,
           1.8742873205544581
          ],
          [
           6.837399102339854,
           8.348502862875334,
           0.3343064666363017,
           1.7218872661471272,
           0.23830540658315585,
           2.1457849411517724,
           0.16658212867884195,
           0.18722619991337158,
           0.23165071744299204,
           0.8363273060381626
          ],
          [
           8.217357035547577,
           0.3423802469548343,
           0.2930360636970194,
           0.27160441653048156,
           0.19323451353486523,
           1.843479366057374,
           0.18414502055103876,
           0.13388836340271404,
           0.14098916631618397,
           0.553768296179027
          ],
          [
           8.293583808686709,
           0.3240477769410223,
           0.256371674499208,
           0.31721797068551316,
           0.09950777634157834,
           1.0043401121255977,
           0.1744692766419192,
           0.22747774537198717,
           0.2183189079340876,
           0.48795455655928116
          ],
          [
           8.343198576605973,
           0.36834483654455585,
           0.9028192157971803,
           0.20085292904085839,
           0.17492405358279137,
           0.25161779828411357,
           0.18959713301904552,
           0.20358126829491066,
           0.22351288289789548,
           0.33438957065626007
          ]
         ],
         "zmax": 6,
         "zmin": 0
        }
       ],
       "layout": {
        "template": {
         "data": {
          "bar": [
           {
            "error_x": {
             "color": "#2a3f5f"
            },
            "error_y": {
             "color": "#2a3f5f"
            },
            "marker": {
             "line": {
              "color": "#E5ECF6",
              "width": 0.5
             }
            },
            "type": "bar"
           }
          ],
          "barpolar": [
           {
            "marker": {
             "line": {
              "color": "#E5ECF6",
              "width": 0.5
             }
            },
            "type": "barpolar"
           }
          ],
          "carpet": [
           {
            "aaxis": {
             "endlinecolor": "#2a3f5f",
             "gridcolor": "white",
             "linecolor": "white",
             "minorgridcolor": "white",
             "startlinecolor": "#2a3f5f"
            },
            "baxis": {
             "endlinecolor": "#2a3f5f",
             "gridcolor": "white",
             "linecolor": "white",
             "minorgridcolor": "white",
             "startlinecolor": "#2a3f5f"
            },
            "type": "carpet"
           }
          ],
          "choropleth": [
           {
            "colorbar": {
             "outlinewidth": 0,
             "ticks": ""
            },
            "type": "choropleth"
           }
          ],
          "contour": [
           {
            "colorbar": {
             "outlinewidth": 0,
             "ticks": ""
            },
            "colorscale": [
             [
              0,
              "#0d0887"
             ],
             [
              0.1111111111111111,
              "#46039f"
             ],
             [
              0.2222222222222222,
              "#7201a8"
             ],
             [
              0.3333333333333333,
              "#9c179e"
             ],
             [
              0.4444444444444444,
              "#bd3786"
             ],
             [
              0.5555555555555556,
              "#d8576b"
             ],
             [
              0.6666666666666666,
              "#ed7953"
             ],
             [
              0.7777777777777778,
              "#fb9f3a"
             ],
             [
              0.8888888888888888,
              "#fdca26"
             ],
             [
              1,
              "#f0f921"
             ]
            ],
            "type": "contour"
           }
          ],
          "contourcarpet": [
           {
            "colorbar": {
             "outlinewidth": 0,
             "ticks": ""
            },
            "type": "contourcarpet"
           }
          ],
          "heatmap": [
           {
            "colorbar": {
             "outlinewidth": 0,
             "ticks": ""
            },
            "colorscale": [
             [
              0,
              "#0d0887"
             ],
             [
              0.1111111111111111,
              "#46039f"
             ],
             [
              0.2222222222222222,
              "#7201a8"
             ],
             [
              0.3333333333333333,
              "#9c179e"
             ],
             [
              0.4444444444444444,
              "#bd3786"
             ],
             [
              0.5555555555555556,
              "#d8576b"
             ],
             [
              0.6666666666666666,
              "#ed7953"
             ],
             [
              0.7777777777777778,
              "#fb9f3a"
             ],
             [
              0.8888888888888888,
              "#fdca26"
             ],
             [
              1,
              "#f0f921"
             ]
            ],
            "type": "heatmap"
           }
          ],
          "heatmapgl": [
           {
            "colorbar": {
             "outlinewidth": 0,
             "ticks": ""
            },
            "colorscale": [
             [
              0,
              "#0d0887"
             ],
             [
              0.1111111111111111,
              "#46039f"
             ],
             [
              0.2222222222222222,
              "#7201a8"
             ],
             [
              0.3333333333333333,
              "#9c179e"
             ],
             [
              0.4444444444444444,
              "#bd3786"
             ],
             [
              0.5555555555555556,
              "#d8576b"
             ],
             [
              0.6666666666666666,
              "#ed7953"
             ],
             [
              0.7777777777777778,
              "#fb9f3a"
             ],
             [
              0.8888888888888888,
              "#fdca26"
             ],
             [
              1,
              "#f0f921"
             ]
            ],
            "type": "heatmapgl"
           }
          ],
          "histogram": [
           {
            "marker": {
             "colorbar": {
              "outlinewidth": 0,
              "ticks": ""
             }
            },
            "type": "histogram"
           }
          ],
          "histogram2d": [
           {
            "colorbar": {
             "outlinewidth": 0,
             "ticks": ""
            },
            "colorscale": [
             [
              0,
              "#0d0887"
             ],
             [
              0.1111111111111111,
              "#46039f"
             ],
             [
              0.2222222222222222,
              "#7201a8"
             ],
             [
              0.3333333333333333,
              "#9c179e"
             ],
             [
              0.4444444444444444,
              "#bd3786"
             ],
             [
              0.5555555555555556,
              "#d8576b"
             ],
             [
              0.6666666666666666,
              "#ed7953"
             ],
             [
              0.7777777777777778,
              "#fb9f3a"
             ],
             [
              0.8888888888888888,
              "#fdca26"
             ],
             [
              1,
              "#f0f921"
             ]
            ],
            "type": "histogram2d"
           }
          ],
          "histogram2dcontour": [
           {
            "colorbar": {
             "outlinewidth": 0,
             "ticks": ""
            },
            "colorscale": [
             [
              0,
              "#0d0887"
             ],
             [
              0.1111111111111111,
              "#46039f"
             ],
             [
              0.2222222222222222,
              "#7201a8"
             ],
             [
              0.3333333333333333,
              "#9c179e"
             ],
             [
              0.4444444444444444,
              "#bd3786"
             ],
             [
              0.5555555555555556,
              "#d8576b"
             ],
             [
              0.6666666666666666,
              "#ed7953"
             ],
             [
              0.7777777777777778,
              "#fb9f3a"
             ],
             [
              0.8888888888888888,
              "#fdca26"
             ],
             [
              1,
              "#f0f921"
             ]
            ],
            "type": "histogram2dcontour"
           }
          ],
          "mesh3d": [
           {
            "colorbar": {
             "outlinewidth": 0,
             "ticks": ""
            },
            "type": "mesh3d"
           }
          ],
          "parcoords": [
           {
            "line": {
             "colorbar": {
              "outlinewidth": 0,
              "ticks": ""
             }
            },
            "type": "parcoords"
           }
          ],
          "pie": [
           {
            "automargin": true,
            "type": "pie"
           }
          ],
          "scatter": [
           {
            "marker": {
             "colorbar": {
              "outlinewidth": 0,
              "ticks": ""
             }
            },
            "type": "scatter"
           }
          ],
          "scatter3d": [
           {
            "line": {
             "colorbar": {
              "outlinewidth": 0,
              "ticks": ""
             }
            },
            "marker": {
             "colorbar": {
              "outlinewidth": 0,
              "ticks": ""
             }
            },
            "type": "scatter3d"
           }
          ],
          "scattercarpet": [
           {
            "marker": {
             "colorbar": {
              "outlinewidth": 0,
              "ticks": ""
             }
            },
            "type": "scattercarpet"
           }
          ],
          "scattergeo": [
           {
            "marker": {
             "colorbar": {
              "outlinewidth": 0,
              "ticks": ""
             }
            },
            "type": "scattergeo"
           }
          ],
          "scattergl": [
           {
            "marker": {
             "colorbar": {
              "outlinewidth": 0,
              "ticks": ""
             }
            },
            "type": "scattergl"
           }
          ],
          "scattermapbox": [
           {
            "marker": {
             "colorbar": {
              "outlinewidth": 0,
              "ticks": ""
             }
            },
            "type": "scattermapbox"
           }
          ],
          "scatterpolar": [
           {
            "marker": {
             "colorbar": {
              "outlinewidth": 0,
              "ticks": ""
             }
            },
            "type": "scatterpolar"
           }
          ],
          "scatterpolargl": [
           {
            "marker": {
             "colorbar": {
              "outlinewidth": 0,
              "ticks": ""
             }
            },
            "type": "scatterpolargl"
           }
          ],
          "scatterternary": [
           {
            "marker": {
             "colorbar": {
              "outlinewidth": 0,
              "ticks": ""
             }
            },
            "type": "scatterternary"
           }
          ],
          "surface": [
           {
            "colorbar": {
             "outlinewidth": 0,
             "ticks": ""
            },
            "colorscale": [
             [
              0,
              "#0d0887"
             ],
             [
              0.1111111111111111,
              "#46039f"
             ],
             [
              0.2222222222222222,
              "#7201a8"
             ],
             [
              0.3333333333333333,
              "#9c179e"
             ],
             [
              0.4444444444444444,
              "#bd3786"
             ],
             [
              0.5555555555555556,
              "#d8576b"
             ],
             [
              0.6666666666666666,
              "#ed7953"
             ],
             [
              0.7777777777777778,
              "#fb9f3a"
             ],
             [
              0.8888888888888888,
              "#fdca26"
             ],
             [
              1,
              "#f0f921"
             ]
            ],
            "type": "surface"
           }
          ],
          "table": [
           {
            "cells": {
             "fill": {
              "color": "#EBF0F8"
             },
             "line": {
              "color": "white"
             }
            },
            "header": {
             "fill": {
              "color": "#C8D4E3"
             },
             "line": {
              "color": "white"
             }
            },
            "type": "table"
           }
          ]
         },
         "layout": {
          "annotationdefaults": {
           "arrowcolor": "#2a3f5f",
           "arrowhead": 0,
           "arrowwidth": 1
          },
          "coloraxis": {
           "colorbar": {
            "outlinewidth": 0,
            "ticks": ""
           }
          },
          "colorscale": {
           "diverging": [
            [
             0,
             "#8e0152"
            ],
            [
             0.1,
             "#c51b7d"
            ],
            [
             0.2,
             "#de77ae"
            ],
            [
             0.3,
             "#f1b6da"
            ],
            [
             0.4,
             "#fde0ef"
            ],
            [
             0.5,
             "#f7f7f7"
            ],
            [
             0.6,
             "#e6f5d0"
            ],
            [
             0.7,
             "#b8e186"
            ],
            [
             0.8,
             "#7fbc41"
            ],
            [
             0.9,
             "#4d9221"
            ],
            [
             1,
             "#276419"
            ]
           ],
           "sequential": [
            [
             0,
             "#0d0887"
            ],
            [
             0.1111111111111111,
             "#46039f"
            ],
            [
             0.2222222222222222,
             "#7201a8"
            ],
            [
             0.3333333333333333,
             "#9c179e"
            ],
            [
             0.4444444444444444,
             "#bd3786"
            ],
            [
             0.5555555555555556,
             "#d8576b"
            ],
            [
             0.6666666666666666,
             "#ed7953"
            ],
            [
             0.7777777777777778,
             "#fb9f3a"
            ],
            [
             0.8888888888888888,
             "#fdca26"
            ],
            [
             1,
             "#f0f921"
            ]
           ],
           "sequentialminus": [
            [
             0,
             "#0d0887"
            ],
            [
             0.1111111111111111,
             "#46039f"
            ],
            [
             0.2222222222222222,
             "#7201a8"
            ],
            [
             0.3333333333333333,
             "#9c179e"
            ],
            [
             0.4444444444444444,
             "#bd3786"
            ],
            [
             0.5555555555555556,
             "#d8576b"
            ],
            [
             0.6666666666666666,
             "#ed7953"
            ],
            [
             0.7777777777777778,
             "#fb9f3a"
            ],
            [
             0.8888888888888888,
             "#fdca26"
            ],
            [
             1,
             "#f0f921"
            ]
           ]
          },
          "colorway": [
           "#636efa",
           "#EF553B",
           "#00cc96",
           "#ab63fa",
           "#FFA15A",
           "#19d3f3",
           "#FF6692",
           "#B6E880",
           "#FF97FF",
           "#FECB52"
          ],
          "font": {
           "color": "#2a3f5f"
          },
          "geo": {
           "bgcolor": "white",
           "lakecolor": "white",
           "landcolor": "#E5ECF6",
           "showlakes": true,
           "showland": true,
           "subunitcolor": "white"
          },
          "hoverlabel": {
           "align": "left"
          },
          "hovermode": "closest",
          "mapbox": {
           "style": "light"
          },
          "paper_bgcolor": "white",
          "plot_bgcolor": "#E5ECF6",
          "polar": {
           "angularaxis": {
            "gridcolor": "white",
            "linecolor": "white",
            "ticks": ""
           },
           "bgcolor": "#E5ECF6",
           "radialaxis": {
            "gridcolor": "white",
            "linecolor": "white",
            "ticks": ""
           }
          },
          "scene": {
           "xaxis": {
            "backgroundcolor": "#E5ECF6",
            "gridcolor": "white",
            "gridwidth": 2,
            "linecolor": "white",
            "showbackground": true,
            "ticks": "",
            "zerolinecolor": "white"
           },
           "yaxis": {
            "backgroundcolor": "#E5ECF6",
            "gridcolor": "white",
            "gridwidth": 2,
            "linecolor": "white",
            "showbackground": true,
            "ticks": "",
            "zerolinecolor": "white"
           },
           "zaxis": {
            "backgroundcolor": "#E5ECF6",
            "gridcolor": "white",
            "gridwidth": 2,
            "linecolor": "white",
            "showbackground": true,
            "ticks": "",
            "zerolinecolor": "white"
           }
          },
          "shapedefaults": {
           "line": {
            "color": "#2a3f5f"
           }
          },
          "ternary": {
           "aaxis": {
            "gridcolor": "white",
            "linecolor": "white",
            "ticks": ""
           },
           "baxis": {
            "gridcolor": "white",
            "linecolor": "white",
            "ticks": ""
           },
           "bgcolor": "#E5ECF6",
           "caxis": {
            "gridcolor": "white",
            "linecolor": "white",
            "ticks": ""
           }
          },
          "title": {
           "x": 0.05
          },
          "xaxis": {
           "automargin": true,
           "gridcolor": "white",
           "linecolor": "white",
           "ticks": "",
           "title": {
            "standoff": 15
           },
           "zerolinecolor": "white",
           "zerolinewidth": 2
          },
          "yaxis": {
           "automargin": true,
           "gridcolor": "white",
           "linecolor": "white",
           "ticks": "",
           "title": {
            "standoff": 15
           },
           "zerolinecolor": "white",
           "zerolinewidth": 2
          }
         }
        }
       }
      },
      "text/html": [
       "<div>\n",
       "        \n",
       "        \n",
       "            <div id=\"1ea5c1ff-0e39-4a77-a668-4863679ada41\" class=\"plotly-graph-div\" style=\"height:525px; width:100%;\"></div>\n",
       "            <script type=\"text/javascript\">\n",
       "                require([\"plotly\"], function(Plotly) {\n",
       "                    window.PLOTLYENV=window.PLOTLYENV || {};\n",
       "                    \n",
       "                if (document.getElementById(\"1ea5c1ff-0e39-4a77-a668-4863679ada41\")) {\n",
       "                    Plotly.newPlot(\n",
       "                        '1ea5c1ff-0e39-4a77-a668-4863679ada41',\n",
       "                        [{\"type\": \"heatmap\", \"z\": [[2.201837462186017, 8.235735988209559, 0.2554708111138133, 0.2729895218523836, 0.8463933301049184, 0.21065368914985946, 0.2742622744897549, 1.17621147375519, 0.19015407913178126, 0.19864861855198737], [1.4316820740425658, 8.318526262628993, 0.3180667897564318, 0.24673970036195275, 0.4145121832333295, 0.19940453508541084, 0.17989320608970516, 0.20730011542525992, 0.16326395689022358, 0.24023067171457332], [1.4566871812150348, 8.330783668396158, 0.43005838382135053, 0.2998522346926732, 1.1918250672095656, 0.18272367753609553, 0.2175780483836402, 0.21182342738379029, 0.2121123024028599, 0.26137580466757887], [2.6067523834967377, 8.384636682816003, 0.2744463534113407, 0.24391193644349363, 0.2946048907459911, 0.19806082668106015, 1.6664793155330953, 0.1974843793625143, 0.1547706401977595, 7.2283834238055285], [3.236048268799643, 8.415421984538716, 0.5767752575162409, 0.31981687637204015, 0.16648257000752337, 0.1376048430455305, 0.39323489202385714, 0.20753993311438623, 0.2150082283268989, 1.0245330546692903], [6.503430684924372, 8.31533821550586, 0.26126700743627373, 0.7740554280661014, 0.24664518284642825, 0.21930980802462888, 0.1644498833579359, 0.17196364112699367, 0.2143329725191906, 1.8742873205544581], [6.837399102339854, 8.348502862875334, 0.3343064666363017, 1.7218872661471272, 0.23830540658315585, 2.1457849411517724, 0.16658212867884195, 0.18722619991337158, 0.23165071744299204, 0.8363273060381626], [8.217357035547577, 0.3423802469548343, 0.2930360636970194, 0.27160441653048156, 0.19323451353486523, 1.843479366057374, 0.18414502055103876, 0.13388836340271404, 0.14098916631618397, 0.553768296179027], [8.293583808686709, 0.3240477769410223, 0.256371674499208, 0.31721797068551316, 0.09950777634157834, 1.0043401121255977, 0.1744692766419192, 0.22747774537198717, 0.2183189079340876, 0.48795455655928116], [8.343198576605973, 0.36834483654455585, 0.9028192157971803, 0.20085292904085839, 0.17492405358279137, 0.25161779828411357, 0.18959713301904552, 0.20358126829491066, 0.22351288289789548, 0.33438957065626007]], \"zmax\": 6.0, \"zmin\": 0.0}],\n",
       "                        {\"template\": {\"data\": {\"bar\": [{\"error_x\": {\"color\": \"#2a3f5f\"}, \"error_y\": {\"color\": \"#2a3f5f\"}, \"marker\": {\"line\": {\"color\": \"#E5ECF6\", \"width\": 0.5}}, \"type\": \"bar\"}], \"barpolar\": [{\"marker\": {\"line\": {\"color\": \"#E5ECF6\", \"width\": 0.5}}, \"type\": \"barpolar\"}], \"carpet\": [{\"aaxis\": {\"endlinecolor\": \"#2a3f5f\", \"gridcolor\": \"white\", \"linecolor\": \"white\", \"minorgridcolor\": \"white\", \"startlinecolor\": \"#2a3f5f\"}, \"baxis\": {\"endlinecolor\": \"#2a3f5f\", \"gridcolor\": \"white\", \"linecolor\": \"white\", \"minorgridcolor\": \"white\", \"startlinecolor\": \"#2a3f5f\"}, \"type\": \"carpet\"}], \"choropleth\": [{\"colorbar\": {\"outlinewidth\": 0, \"ticks\": \"\"}, \"type\": \"choropleth\"}], \"contour\": [{\"colorbar\": {\"outlinewidth\": 0, \"ticks\": \"\"}, \"colorscale\": [[0.0, \"#0d0887\"], [0.1111111111111111, \"#46039f\"], [0.2222222222222222, \"#7201a8\"], [0.3333333333333333, \"#9c179e\"], [0.4444444444444444, \"#bd3786\"], [0.5555555555555556, \"#d8576b\"], [0.6666666666666666, \"#ed7953\"], [0.7777777777777778, \"#fb9f3a\"], [0.8888888888888888, \"#fdca26\"], [1.0, \"#f0f921\"]], \"type\": \"contour\"}], \"contourcarpet\": [{\"colorbar\": {\"outlinewidth\": 0, \"ticks\": \"\"}, \"type\": \"contourcarpet\"}], \"heatmap\": [{\"colorbar\": {\"outlinewidth\": 0, \"ticks\": \"\"}, \"colorscale\": [[0.0, \"#0d0887\"], [0.1111111111111111, \"#46039f\"], [0.2222222222222222, \"#7201a8\"], [0.3333333333333333, \"#9c179e\"], [0.4444444444444444, \"#bd3786\"], [0.5555555555555556, \"#d8576b\"], [0.6666666666666666, \"#ed7953\"], [0.7777777777777778, \"#fb9f3a\"], [0.8888888888888888, \"#fdca26\"], [1.0, \"#f0f921\"]], \"type\": \"heatmap\"}], \"heatmapgl\": [{\"colorbar\": {\"outlinewidth\": 0, \"ticks\": \"\"}, \"colorscale\": [[0.0, \"#0d0887\"], [0.1111111111111111, \"#46039f\"], [0.2222222222222222, \"#7201a8\"], [0.3333333333333333, \"#9c179e\"], [0.4444444444444444, \"#bd3786\"], [0.5555555555555556, \"#d8576b\"], [0.6666666666666666, \"#ed7953\"], [0.7777777777777778, \"#fb9f3a\"], [0.8888888888888888, \"#fdca26\"], [1.0, \"#f0f921\"]], \"type\": \"heatmapgl\"}], \"histogram\": [{\"marker\": {\"colorbar\": {\"outlinewidth\": 0, \"ticks\": \"\"}}, \"type\": \"histogram\"}], \"histogram2d\": [{\"colorbar\": {\"outlinewidth\": 0, \"ticks\": \"\"}, \"colorscale\": [[0.0, \"#0d0887\"], [0.1111111111111111, \"#46039f\"], [0.2222222222222222, \"#7201a8\"], [0.3333333333333333, \"#9c179e\"], [0.4444444444444444, \"#bd3786\"], [0.5555555555555556, \"#d8576b\"], [0.6666666666666666, \"#ed7953\"], [0.7777777777777778, \"#fb9f3a\"], [0.8888888888888888, \"#fdca26\"], [1.0, \"#f0f921\"]], \"type\": \"histogram2d\"}], \"histogram2dcontour\": [{\"colorbar\": {\"outlinewidth\": 0, \"ticks\": \"\"}, \"colorscale\": [[0.0, \"#0d0887\"], [0.1111111111111111, \"#46039f\"], [0.2222222222222222, \"#7201a8\"], [0.3333333333333333, \"#9c179e\"], [0.4444444444444444, \"#bd3786\"], [0.5555555555555556, \"#d8576b\"], [0.6666666666666666, \"#ed7953\"], [0.7777777777777778, \"#fb9f3a\"], [0.8888888888888888, \"#fdca26\"], [1.0, \"#f0f921\"]], \"type\": \"histogram2dcontour\"}], \"mesh3d\": [{\"colorbar\": {\"outlinewidth\": 0, \"ticks\": \"\"}, \"type\": \"mesh3d\"}], \"parcoords\": [{\"line\": {\"colorbar\": {\"outlinewidth\": 0, \"ticks\": \"\"}}, \"type\": \"parcoords\"}], \"pie\": [{\"automargin\": true, \"type\": \"pie\"}], \"scatter\": [{\"marker\": {\"colorbar\": {\"outlinewidth\": 0, \"ticks\": \"\"}}, \"type\": \"scatter\"}], \"scatter3d\": [{\"line\": {\"colorbar\": {\"outlinewidth\": 0, \"ticks\": \"\"}}, \"marker\": {\"colorbar\": {\"outlinewidth\": 0, \"ticks\": \"\"}}, \"type\": \"scatter3d\"}], \"scattercarpet\": [{\"marker\": {\"colorbar\": {\"outlinewidth\": 0, \"ticks\": \"\"}}, \"type\": \"scattercarpet\"}], \"scattergeo\": [{\"marker\": {\"colorbar\": {\"outlinewidth\": 0, \"ticks\": \"\"}}, \"type\": \"scattergeo\"}], \"scattergl\": [{\"marker\": {\"colorbar\": {\"outlinewidth\": 0, \"ticks\": \"\"}}, \"type\": \"scattergl\"}], \"scattermapbox\": [{\"marker\": {\"colorbar\": {\"outlinewidth\": 0, \"ticks\": \"\"}}, \"type\": \"scattermapbox\"}], \"scatterpolar\": [{\"marker\": {\"colorbar\": {\"outlinewidth\": 0, \"ticks\": \"\"}}, \"type\": \"scatterpolar\"}], \"scatterpolargl\": [{\"marker\": {\"colorbar\": {\"outlinewidth\": 0, \"ticks\": \"\"}}, \"type\": \"scatterpolargl\"}], \"scatterternary\": [{\"marker\": {\"colorbar\": {\"outlinewidth\": 0, \"ticks\": \"\"}}, \"type\": \"scatterternary\"}], \"surface\": [{\"colorbar\": {\"outlinewidth\": 0, \"ticks\": \"\"}, \"colorscale\": [[0.0, \"#0d0887\"], [0.1111111111111111, \"#46039f\"], [0.2222222222222222, \"#7201a8\"], [0.3333333333333333, \"#9c179e\"], [0.4444444444444444, \"#bd3786\"], [0.5555555555555556, \"#d8576b\"], [0.6666666666666666, \"#ed7953\"], [0.7777777777777778, \"#fb9f3a\"], [0.8888888888888888, \"#fdca26\"], [1.0, \"#f0f921\"]], \"type\": \"surface\"}], \"table\": [{\"cells\": {\"fill\": {\"color\": \"#EBF0F8\"}, \"line\": {\"color\": \"white\"}}, \"header\": {\"fill\": {\"color\": \"#C8D4E3\"}, \"line\": {\"color\": \"white\"}}, \"type\": \"table\"}]}, \"layout\": {\"annotationdefaults\": {\"arrowcolor\": \"#2a3f5f\", \"arrowhead\": 0, \"arrowwidth\": 1}, \"coloraxis\": {\"colorbar\": {\"outlinewidth\": 0, \"ticks\": \"\"}}, \"colorscale\": {\"diverging\": [[0, \"#8e0152\"], [0.1, \"#c51b7d\"], [0.2, \"#de77ae\"], [0.3, \"#f1b6da\"], [0.4, \"#fde0ef\"], [0.5, \"#f7f7f7\"], [0.6, \"#e6f5d0\"], [0.7, \"#b8e186\"], [0.8, \"#7fbc41\"], [0.9, \"#4d9221\"], [1, \"#276419\"]], \"sequential\": [[0.0, \"#0d0887\"], [0.1111111111111111, \"#46039f\"], [0.2222222222222222, \"#7201a8\"], [0.3333333333333333, \"#9c179e\"], [0.4444444444444444, \"#bd3786\"], [0.5555555555555556, \"#d8576b\"], [0.6666666666666666, \"#ed7953\"], [0.7777777777777778, \"#fb9f3a\"], [0.8888888888888888, \"#fdca26\"], [1.0, \"#f0f921\"]], \"sequentialminus\": [[0.0, \"#0d0887\"], [0.1111111111111111, \"#46039f\"], [0.2222222222222222, \"#7201a8\"], [0.3333333333333333, \"#9c179e\"], [0.4444444444444444, \"#bd3786\"], [0.5555555555555556, \"#d8576b\"], [0.6666666666666666, \"#ed7953\"], [0.7777777777777778, \"#fb9f3a\"], [0.8888888888888888, \"#fdca26\"], [1.0, \"#f0f921\"]]}, \"colorway\": [\"#636efa\", \"#EF553B\", \"#00cc96\", \"#ab63fa\", \"#FFA15A\", \"#19d3f3\", \"#FF6692\", \"#B6E880\", \"#FF97FF\", \"#FECB52\"], \"font\": {\"color\": \"#2a3f5f\"}, \"geo\": {\"bgcolor\": \"white\", \"lakecolor\": \"white\", \"landcolor\": \"#E5ECF6\", \"showlakes\": true, \"showland\": true, \"subunitcolor\": \"white\"}, \"hoverlabel\": {\"align\": \"left\"}, \"hovermode\": \"closest\", \"mapbox\": {\"style\": \"light\"}, \"paper_bgcolor\": \"white\", \"plot_bgcolor\": \"#E5ECF6\", \"polar\": {\"angularaxis\": {\"gridcolor\": \"white\", \"linecolor\": \"white\", \"ticks\": \"\"}, \"bgcolor\": \"#E5ECF6\", \"radialaxis\": {\"gridcolor\": \"white\", \"linecolor\": \"white\", \"ticks\": \"\"}}, \"scene\": {\"xaxis\": {\"backgroundcolor\": \"#E5ECF6\", \"gridcolor\": \"white\", \"gridwidth\": 2, \"linecolor\": \"white\", \"showbackground\": true, \"ticks\": \"\", \"zerolinecolor\": \"white\"}, \"yaxis\": {\"backgroundcolor\": \"#E5ECF6\", \"gridcolor\": \"white\", \"gridwidth\": 2, \"linecolor\": \"white\", \"showbackground\": true, \"ticks\": \"\", \"zerolinecolor\": \"white\"}, \"zaxis\": {\"backgroundcolor\": \"#E5ECF6\", \"gridcolor\": \"white\", \"gridwidth\": 2, \"linecolor\": \"white\", \"showbackground\": true, \"ticks\": \"\", \"zerolinecolor\": \"white\"}}, \"shapedefaults\": {\"line\": {\"color\": \"#2a3f5f\"}}, \"ternary\": {\"aaxis\": {\"gridcolor\": \"white\", \"linecolor\": \"white\", \"ticks\": \"\"}, \"baxis\": {\"gridcolor\": \"white\", \"linecolor\": \"white\", \"ticks\": \"\"}, \"bgcolor\": \"#E5ECF6\", \"caxis\": {\"gridcolor\": \"white\", \"linecolor\": \"white\", \"ticks\": \"\"}}, \"title\": {\"x\": 0.05}, \"xaxis\": {\"automargin\": true, \"gridcolor\": \"white\", \"linecolor\": \"white\", \"ticks\": \"\", \"title\": {\"standoff\": 15}, \"zerolinecolor\": \"white\", \"zerolinewidth\": 2}, \"yaxis\": {\"automargin\": true, \"gridcolor\": \"white\", \"linecolor\": \"white\", \"ticks\": \"\", \"title\": {\"standoff\": 15}, \"zerolinecolor\": \"white\", \"zerolinewidth\": 2}}}},\n",
       "                        {\"responsive\": true}\n",
       "                    ).then(function(){\n",
       "                            \n",
       "var gd = document.getElementById('1ea5c1ff-0e39-4a77-a668-4863679ada41');\n",
       "var x = new MutationObserver(function (mutations, observer) {{\n",
       "        var display = window.getComputedStyle(gd).display;\n",
       "        if (!display || display === 'none') {{\n",
       "            console.log([gd, 'removed!']);\n",
       "            Plotly.purge(gd);\n",
       "            observer.disconnect();\n",
       "        }}\n",
       "}});\n",
       "\n",
       "// Listen for the removal of the full notebook cells\n",
       "var notebookContainer = gd.closest('#notebook-container');\n",
       "if (notebookContainer) {{\n",
       "    x.observe(notebookContainer, {childList: true});\n",
       "}}\n",
       "\n",
       "// Listen for the clearing of the current output cell\n",
       "var outputEl = gd.closest('.output');\n",
       "if (outputEl) {{\n",
       "    x.observe(outputEl, {childList: true});\n",
       "}}\n",
       "\n",
       "                        })\n",
       "                };\n",
       "                });\n",
       "            </script>\n",
       "        </div>"
      ]
     },
     "metadata": {},
     "output_type": "display_data"
    },
    {
     "name": "stdout",
     "output_type": "stream",
     "text": [
      "Adversarial\n"
     ]
    },
    {
     "data": {
      "application/vnd.plotly.v1+json": {
       "config": {
        "plotlyServerURL": "https://plot.ly"
       },
       "data": [
        {
         "type": "heatmap",
         "z": [
          [
           7.354964310894158,
           0.483154124793249,
           0.25348118132332953,
           0.19233362447746497,
           1.5007933811804661,
           0.43628606553852967,
           0.35012463919914777,
           2.29050124635433,
           0.4467085352754219,
           0.5032442031048396
          ],
          [
           7.964905790501881,
           0.34622698879979624,
           0.29921079134729517,
           0.3455746475700867,
           1.0513077209703612,
           0.5009622206455451,
           0.3317089889576005,
           0.37205260545479224,
           0.3516122920496523,
           0.48967876911523794
          ],
          [
           7.945421383505931,
           0.35589170285895516,
           0.46700945371895175,
           0.2906305030730061,
           1.9049735376875667,
           0.464545490687313,
           0.3289279021189353,
           0.3774582709932711,
           0.35328754473170054,
           0.5579022187696224
          ],
          [
           7.607831252251239,
           0.3696757544069163,
           0.5768964991804847,
           0.3178764953676012,
           0.474726383557343,
           0.4940592869055597,
           0.36769031102556954,
           0.38241964339587725,
           0.35757129365413076,
           7.122833527753829
          ],
          [
           7.4284623270115,
           0.4968731543899183,
           0.6074056925870871,
           0.21791272599841988,
           0.45113963722215716,
           0.36638458510113575,
           0.3146100076160354,
           0.2703576397561664,
           0.35222633909589396,
           4.075102935420826
          ],
          [
           7.838022407840615,
           0.29984264894052315,
           0.2895694280007274,
           0.2676595978937368,
           0.4741972497867252,
           0.29210876647472284,
           0.32779359271770325,
           0.3589612328252092,
           0.3589169079235755,
           1.6754794091402363
          ],
          [
           7.479209383176508,
           0.32887118631824497,
           0.3306209105548967,
           0.46464014718492563,
           0.35448031626795445,
           0.3141354987032019,
           0.3393173556853745,
           0.3457168629288463,
           0.39235999383824066,
           0.9126779354546577
          ],
          [
           7.934838428568318,
           0.4717607200944448,
           0.3184544416122351,
           0.4710021785582223,
           0.38128903445216455,
           0.3682887839412757,
           0.33377571143076123,
           0.3159240918003709,
           0.38077613385708126,
           0.534972685896876
          ],
          [
           0.22536796470149797,
           0.3266688469226861,
           0.34937273236830824,
           0.4707395400712851,
           0.3640626999426022,
           0.3884375128017301,
           0.3664086386938775,
           0.36789709504522294,
           0.333538671950045,
           0.834706428484589
          ],
          [
           0.3332616974089234,
           0.35580658882554167,
           1.5564558315814503,
           0.5043278742602084,
           0.3815358385525639,
           0.359200774777794,
           0.3286050971977129,
           0.3724424716478252,
           0.3024472609851313,
           0.29816964584889033
          ]
         ],
         "zmax": 6,
         "zmin": 0
        }
       ],
       "layout": {
        "template": {
         "data": {
          "bar": [
           {
            "error_x": {
             "color": "#2a3f5f"
            },
            "error_y": {
             "color": "#2a3f5f"
            },
            "marker": {
             "line": {
              "color": "#E5ECF6",
              "width": 0.5
             }
            },
            "type": "bar"
           }
          ],
          "barpolar": [
           {
            "marker": {
             "line": {
              "color": "#E5ECF6",
              "width": 0.5
             }
            },
            "type": "barpolar"
           }
          ],
          "carpet": [
           {
            "aaxis": {
             "endlinecolor": "#2a3f5f",
             "gridcolor": "white",
             "linecolor": "white",
             "minorgridcolor": "white",
             "startlinecolor": "#2a3f5f"
            },
            "baxis": {
             "endlinecolor": "#2a3f5f",
             "gridcolor": "white",
             "linecolor": "white",
             "minorgridcolor": "white",
             "startlinecolor": "#2a3f5f"
            },
            "type": "carpet"
           }
          ],
          "choropleth": [
           {
            "colorbar": {
             "outlinewidth": 0,
             "ticks": ""
            },
            "type": "choropleth"
           }
          ],
          "contour": [
           {
            "colorbar": {
             "outlinewidth": 0,
             "ticks": ""
            },
            "colorscale": [
             [
              0,
              "#0d0887"
             ],
             [
              0.1111111111111111,
              "#46039f"
             ],
             [
              0.2222222222222222,
              "#7201a8"
             ],
             [
              0.3333333333333333,
              "#9c179e"
             ],
             [
              0.4444444444444444,
              "#bd3786"
             ],
             [
              0.5555555555555556,
              "#d8576b"
             ],
             [
              0.6666666666666666,
              "#ed7953"
             ],
             [
              0.7777777777777778,
              "#fb9f3a"
             ],
             [
              0.8888888888888888,
              "#fdca26"
             ],
             [
              1,
              "#f0f921"
             ]
            ],
            "type": "contour"
           }
          ],
          "contourcarpet": [
           {
            "colorbar": {
             "outlinewidth": 0,
             "ticks": ""
            },
            "type": "contourcarpet"
           }
          ],
          "heatmap": [
           {
            "colorbar": {
             "outlinewidth": 0,
             "ticks": ""
            },
            "colorscale": [
             [
              0,
              "#0d0887"
             ],
             [
              0.1111111111111111,
              "#46039f"
             ],
             [
              0.2222222222222222,
              "#7201a8"
             ],
             [
              0.3333333333333333,
              "#9c179e"
             ],
             [
              0.4444444444444444,
              "#bd3786"
             ],
             [
              0.5555555555555556,
              "#d8576b"
             ],
             [
              0.6666666666666666,
              "#ed7953"
             ],
             [
              0.7777777777777778,
              "#fb9f3a"
             ],
             [
              0.8888888888888888,
              "#fdca26"
             ],
             [
              1,
              "#f0f921"
             ]
            ],
            "type": "heatmap"
           }
          ],
          "heatmapgl": [
           {
            "colorbar": {
             "outlinewidth": 0,
             "ticks": ""
            },
            "colorscale": [
             [
              0,
              "#0d0887"
             ],
             [
              0.1111111111111111,
              "#46039f"
             ],
             [
              0.2222222222222222,
              "#7201a8"
             ],
             [
              0.3333333333333333,
              "#9c179e"
             ],
             [
              0.4444444444444444,
              "#bd3786"
             ],
             [
              0.5555555555555556,
              "#d8576b"
             ],
             [
              0.6666666666666666,
              "#ed7953"
             ],
             [
              0.7777777777777778,
              "#fb9f3a"
             ],
             [
              0.8888888888888888,
              "#fdca26"
             ],
             [
              1,
              "#f0f921"
             ]
            ],
            "type": "heatmapgl"
           }
          ],
          "histogram": [
           {
            "marker": {
             "colorbar": {
              "outlinewidth": 0,
              "ticks": ""
             }
            },
            "type": "histogram"
           }
          ],
          "histogram2d": [
           {
            "colorbar": {
             "outlinewidth": 0,
             "ticks": ""
            },
            "colorscale": [
             [
              0,
              "#0d0887"
             ],
             [
              0.1111111111111111,
              "#46039f"
             ],
             [
              0.2222222222222222,
              "#7201a8"
             ],
             [
              0.3333333333333333,
              "#9c179e"
             ],
             [
              0.4444444444444444,
              "#bd3786"
             ],
             [
              0.5555555555555556,
              "#d8576b"
             ],
             [
              0.6666666666666666,
              "#ed7953"
             ],
             [
              0.7777777777777778,
              "#fb9f3a"
             ],
             [
              0.8888888888888888,
              "#fdca26"
             ],
             [
              1,
              "#f0f921"
             ]
            ],
            "type": "histogram2d"
           }
          ],
          "histogram2dcontour": [
           {
            "colorbar": {
             "outlinewidth": 0,
             "ticks": ""
            },
            "colorscale": [
             [
              0,
              "#0d0887"
             ],
             [
              0.1111111111111111,
              "#46039f"
             ],
             [
              0.2222222222222222,
              "#7201a8"
             ],
             [
              0.3333333333333333,
              "#9c179e"
             ],
             [
              0.4444444444444444,
              "#bd3786"
             ],
             [
              0.5555555555555556,
              "#d8576b"
             ],
             [
              0.6666666666666666,
              "#ed7953"
             ],
             [
              0.7777777777777778,
              "#fb9f3a"
             ],
             [
              0.8888888888888888,
              "#fdca26"
             ],
             [
              1,
              "#f0f921"
             ]
            ],
            "type": "histogram2dcontour"
           }
          ],
          "mesh3d": [
           {
            "colorbar": {
             "outlinewidth": 0,
             "ticks": ""
            },
            "type": "mesh3d"
           }
          ],
          "parcoords": [
           {
            "line": {
             "colorbar": {
              "outlinewidth": 0,
              "ticks": ""
             }
            },
            "type": "parcoords"
           }
          ],
          "pie": [
           {
            "automargin": true,
            "type": "pie"
           }
          ],
          "scatter": [
           {
            "marker": {
             "colorbar": {
              "outlinewidth": 0,
              "ticks": ""
             }
            },
            "type": "scatter"
           }
          ],
          "scatter3d": [
           {
            "line": {
             "colorbar": {
              "outlinewidth": 0,
              "ticks": ""
             }
            },
            "marker": {
             "colorbar": {
              "outlinewidth": 0,
              "ticks": ""
             }
            },
            "type": "scatter3d"
           }
          ],
          "scattercarpet": [
           {
            "marker": {
             "colorbar": {
              "outlinewidth": 0,
              "ticks": ""
             }
            },
            "type": "scattercarpet"
           }
          ],
          "scattergeo": [
           {
            "marker": {
             "colorbar": {
              "outlinewidth": 0,
              "ticks": ""
             }
            },
            "type": "scattergeo"
           }
          ],
          "scattergl": [
           {
            "marker": {
             "colorbar": {
              "outlinewidth": 0,
              "ticks": ""
             }
            },
            "type": "scattergl"
           }
          ],
          "scattermapbox": [
           {
            "marker": {
             "colorbar": {
              "outlinewidth": 0,
              "ticks": ""
             }
            },
            "type": "scattermapbox"
           }
          ],
          "scatterpolar": [
           {
            "marker": {
             "colorbar": {
              "outlinewidth": 0,
              "ticks": ""
             }
            },
            "type": "scatterpolar"
           }
          ],
          "scatterpolargl": [
           {
            "marker": {
             "colorbar": {
              "outlinewidth": 0,
              "ticks": ""
             }
            },
            "type": "scatterpolargl"
           }
          ],
          "scatterternary": [
           {
            "marker": {
             "colorbar": {
              "outlinewidth": 0,
              "ticks": ""
             }
            },
            "type": "scatterternary"
           }
          ],
          "surface": [
           {
            "colorbar": {
             "outlinewidth": 0,
             "ticks": ""
            },
            "colorscale": [
             [
              0,
              "#0d0887"
             ],
             [
              0.1111111111111111,
              "#46039f"
             ],
             [
              0.2222222222222222,
              "#7201a8"
             ],
             [
              0.3333333333333333,
              "#9c179e"
             ],
             [
              0.4444444444444444,
              "#bd3786"
             ],
             [
              0.5555555555555556,
              "#d8576b"
             ],
             [
              0.6666666666666666,
              "#ed7953"
             ],
             [
              0.7777777777777778,
              "#fb9f3a"
             ],
             [
              0.8888888888888888,
              "#fdca26"
             ],
             [
              1,
              "#f0f921"
             ]
            ],
            "type": "surface"
           }
          ],
          "table": [
           {
            "cells": {
             "fill": {
              "color": "#EBF0F8"
             },
             "line": {
              "color": "white"
             }
            },
            "header": {
             "fill": {
              "color": "#C8D4E3"
             },
             "line": {
              "color": "white"
             }
            },
            "type": "table"
           }
          ]
         },
         "layout": {
          "annotationdefaults": {
           "arrowcolor": "#2a3f5f",
           "arrowhead": 0,
           "arrowwidth": 1
          },
          "coloraxis": {
           "colorbar": {
            "outlinewidth": 0,
            "ticks": ""
           }
          },
          "colorscale": {
           "diverging": [
            [
             0,
             "#8e0152"
            ],
            [
             0.1,
             "#c51b7d"
            ],
            [
             0.2,
             "#de77ae"
            ],
            [
             0.3,
             "#f1b6da"
            ],
            [
             0.4,
             "#fde0ef"
            ],
            [
             0.5,
             "#f7f7f7"
            ],
            [
             0.6,
             "#e6f5d0"
            ],
            [
             0.7,
             "#b8e186"
            ],
            [
             0.8,
             "#7fbc41"
            ],
            [
             0.9,
             "#4d9221"
            ],
            [
             1,
             "#276419"
            ]
           ],
           "sequential": [
            [
             0,
             "#0d0887"
            ],
            [
             0.1111111111111111,
             "#46039f"
            ],
            [
             0.2222222222222222,
             "#7201a8"
            ],
            [
             0.3333333333333333,
             "#9c179e"
            ],
            [
             0.4444444444444444,
             "#bd3786"
            ],
            [
             0.5555555555555556,
             "#d8576b"
            ],
            [
             0.6666666666666666,
             "#ed7953"
            ],
            [
             0.7777777777777778,
             "#fb9f3a"
            ],
            [
             0.8888888888888888,
             "#fdca26"
            ],
            [
             1,
             "#f0f921"
            ]
           ],
           "sequentialminus": [
            [
             0,
             "#0d0887"
            ],
            [
             0.1111111111111111,
             "#46039f"
            ],
            [
             0.2222222222222222,
             "#7201a8"
            ],
            [
             0.3333333333333333,
             "#9c179e"
            ],
            [
             0.4444444444444444,
             "#bd3786"
            ],
            [
             0.5555555555555556,
             "#d8576b"
            ],
            [
             0.6666666666666666,
             "#ed7953"
            ],
            [
             0.7777777777777778,
             "#fb9f3a"
            ],
            [
             0.8888888888888888,
             "#fdca26"
            ],
            [
             1,
             "#f0f921"
            ]
           ]
          },
          "colorway": [
           "#636efa",
           "#EF553B",
           "#00cc96",
           "#ab63fa",
           "#FFA15A",
           "#19d3f3",
           "#FF6692",
           "#B6E880",
           "#FF97FF",
           "#FECB52"
          ],
          "font": {
           "color": "#2a3f5f"
          },
          "geo": {
           "bgcolor": "white",
           "lakecolor": "white",
           "landcolor": "#E5ECF6",
           "showlakes": true,
           "showland": true,
           "subunitcolor": "white"
          },
          "hoverlabel": {
           "align": "left"
          },
          "hovermode": "closest",
          "mapbox": {
           "style": "light"
          },
          "paper_bgcolor": "white",
          "plot_bgcolor": "#E5ECF6",
          "polar": {
           "angularaxis": {
            "gridcolor": "white",
            "linecolor": "white",
            "ticks": ""
           },
           "bgcolor": "#E5ECF6",
           "radialaxis": {
            "gridcolor": "white",
            "linecolor": "white",
            "ticks": ""
           }
          },
          "scene": {
           "xaxis": {
            "backgroundcolor": "#E5ECF6",
            "gridcolor": "white",
            "gridwidth": 2,
            "linecolor": "white",
            "showbackground": true,
            "ticks": "",
            "zerolinecolor": "white"
           },
           "yaxis": {
            "backgroundcolor": "#E5ECF6",
            "gridcolor": "white",
            "gridwidth": 2,
            "linecolor": "white",
            "showbackground": true,
            "ticks": "",
            "zerolinecolor": "white"
           },
           "zaxis": {
            "backgroundcolor": "#E5ECF6",
            "gridcolor": "white",
            "gridwidth": 2,
            "linecolor": "white",
            "showbackground": true,
            "ticks": "",
            "zerolinecolor": "white"
           }
          },
          "shapedefaults": {
           "line": {
            "color": "#2a3f5f"
           }
          },
          "ternary": {
           "aaxis": {
            "gridcolor": "white",
            "linecolor": "white",
            "ticks": ""
           },
           "baxis": {
            "gridcolor": "white",
            "linecolor": "white",
            "ticks": ""
           },
           "bgcolor": "#E5ECF6",
           "caxis": {
            "gridcolor": "white",
            "linecolor": "white",
            "ticks": ""
           }
          },
          "title": {
           "x": 0.05
          },
          "xaxis": {
           "automargin": true,
           "gridcolor": "white",
           "linecolor": "white",
           "ticks": "",
           "title": {
            "standoff": 15
           },
           "zerolinecolor": "white",
           "zerolinewidth": 2
          },
          "yaxis": {
           "automargin": true,
           "gridcolor": "white",
           "linecolor": "white",
           "ticks": "",
           "title": {
            "standoff": 15
           },
           "zerolinecolor": "white",
           "zerolinewidth": 2
          }
         }
        }
       }
      },
      "text/html": [
       "<div>\n",
       "        \n",
       "        \n",
       "            <div id=\"406a9c14-8a35-4a05-b893-a1513ec7220f\" class=\"plotly-graph-div\" style=\"height:525px; width:100%;\"></div>\n",
       "            <script type=\"text/javascript\">\n",
       "                require([\"plotly\"], function(Plotly) {\n",
       "                    window.PLOTLYENV=window.PLOTLYENV || {};\n",
       "                    \n",
       "                if (document.getElementById(\"406a9c14-8a35-4a05-b893-a1513ec7220f\")) {\n",
       "                    Plotly.newPlot(\n",
       "                        '406a9c14-8a35-4a05-b893-a1513ec7220f',\n",
       "                        [{\"type\": \"heatmap\", \"z\": [[7.354964310894158, 0.483154124793249, 0.25348118132332953, 0.19233362447746497, 1.5007933811804661, 0.43628606553852967, 0.35012463919914777, 2.29050124635433, 0.4467085352754219, 0.5032442031048396], [7.964905790501881, 0.34622698879979624, 0.29921079134729517, 0.3455746475700867, 1.0513077209703612, 0.5009622206455451, 0.3317089889576005, 0.37205260545479224, 0.3516122920496523, 0.48967876911523794], [7.945421383505931, 0.35589170285895516, 0.46700945371895175, 0.2906305030730061, 1.9049735376875667, 0.464545490687313, 0.3289279021189353, 0.3774582709932711, 0.35328754473170054, 0.5579022187696224], [7.607831252251239, 0.3696757544069163, 0.5768964991804847, 0.3178764953676012, 0.474726383557343, 0.4940592869055597, 0.36769031102556954, 0.38241964339587725, 0.35757129365413076, 7.122833527753829], [7.4284623270115, 0.4968731543899183, 0.6074056925870871, 0.21791272599841988, 0.45113963722215716, 0.36638458510113575, 0.3146100076160354, 0.2703576397561664, 0.35222633909589396, 4.075102935420826], [7.838022407840615, 0.29984264894052315, 0.2895694280007274, 0.2676595978937368, 0.4741972497867252, 0.29210876647472284, 0.32779359271770325, 0.3589612328252092, 0.3589169079235755, 1.6754794091402363], [7.479209383176508, 0.32887118631824497, 0.3306209105548967, 0.46464014718492563, 0.35448031626795445, 0.3141354987032019, 0.3393173556853745, 0.3457168629288463, 0.39235999383824066, 0.9126779354546577], [7.934838428568318, 0.4717607200944448, 0.3184544416122351, 0.4710021785582223, 0.38128903445216455, 0.3682887839412757, 0.33377571143076123, 0.3159240918003709, 0.38077613385708126, 0.534972685896876], [0.22536796470149797, 0.3266688469226861, 0.34937273236830824, 0.4707395400712851, 0.3640626999426022, 0.3884375128017301, 0.3664086386938775, 0.36789709504522294, 0.333538671950045, 0.834706428484589], [0.3332616974089234, 0.35580658882554167, 1.5564558315814503, 0.5043278742602084, 0.3815358385525639, 0.359200774777794, 0.3286050971977129, 0.3724424716478252, 0.3024472609851313, 0.29816964584889033]], \"zmax\": 6.0, \"zmin\": 0.0}],\n",
       "                        {\"template\": {\"data\": {\"bar\": [{\"error_x\": {\"color\": \"#2a3f5f\"}, \"error_y\": {\"color\": \"#2a3f5f\"}, \"marker\": {\"line\": {\"color\": \"#E5ECF6\", \"width\": 0.5}}, \"type\": \"bar\"}], \"barpolar\": [{\"marker\": {\"line\": {\"color\": \"#E5ECF6\", \"width\": 0.5}}, \"type\": \"barpolar\"}], \"carpet\": [{\"aaxis\": {\"endlinecolor\": \"#2a3f5f\", \"gridcolor\": \"white\", \"linecolor\": \"white\", \"minorgridcolor\": \"white\", \"startlinecolor\": \"#2a3f5f\"}, \"baxis\": {\"endlinecolor\": \"#2a3f5f\", \"gridcolor\": \"white\", \"linecolor\": \"white\", \"minorgridcolor\": \"white\", \"startlinecolor\": \"#2a3f5f\"}, \"type\": \"carpet\"}], \"choropleth\": [{\"colorbar\": {\"outlinewidth\": 0, \"ticks\": \"\"}, \"type\": \"choropleth\"}], \"contour\": [{\"colorbar\": {\"outlinewidth\": 0, \"ticks\": \"\"}, \"colorscale\": [[0.0, \"#0d0887\"], [0.1111111111111111, \"#46039f\"], [0.2222222222222222, \"#7201a8\"], [0.3333333333333333, \"#9c179e\"], [0.4444444444444444, \"#bd3786\"], [0.5555555555555556, \"#d8576b\"], [0.6666666666666666, \"#ed7953\"], [0.7777777777777778, \"#fb9f3a\"], [0.8888888888888888, \"#fdca26\"], [1.0, \"#f0f921\"]], \"type\": \"contour\"}], \"contourcarpet\": [{\"colorbar\": {\"outlinewidth\": 0, \"ticks\": \"\"}, \"type\": \"contourcarpet\"}], \"heatmap\": [{\"colorbar\": {\"outlinewidth\": 0, \"ticks\": \"\"}, \"colorscale\": [[0.0, \"#0d0887\"], [0.1111111111111111, \"#46039f\"], [0.2222222222222222, \"#7201a8\"], [0.3333333333333333, \"#9c179e\"], [0.4444444444444444, \"#bd3786\"], [0.5555555555555556, \"#d8576b\"], [0.6666666666666666, \"#ed7953\"], [0.7777777777777778, \"#fb9f3a\"], [0.8888888888888888, \"#fdca26\"], [1.0, \"#f0f921\"]], \"type\": \"heatmap\"}], \"heatmapgl\": [{\"colorbar\": {\"outlinewidth\": 0, \"ticks\": \"\"}, \"colorscale\": [[0.0, \"#0d0887\"], [0.1111111111111111, \"#46039f\"], [0.2222222222222222, \"#7201a8\"], [0.3333333333333333, \"#9c179e\"], [0.4444444444444444, \"#bd3786\"], [0.5555555555555556, \"#d8576b\"], [0.6666666666666666, \"#ed7953\"], [0.7777777777777778, \"#fb9f3a\"], [0.8888888888888888, \"#fdca26\"], [1.0, \"#f0f921\"]], \"type\": \"heatmapgl\"}], \"histogram\": [{\"marker\": {\"colorbar\": {\"outlinewidth\": 0, \"ticks\": \"\"}}, \"type\": \"histogram\"}], \"histogram2d\": [{\"colorbar\": {\"outlinewidth\": 0, \"ticks\": \"\"}, \"colorscale\": [[0.0, \"#0d0887\"], [0.1111111111111111, \"#46039f\"], [0.2222222222222222, \"#7201a8\"], [0.3333333333333333, \"#9c179e\"], [0.4444444444444444, \"#bd3786\"], [0.5555555555555556, \"#d8576b\"], [0.6666666666666666, \"#ed7953\"], [0.7777777777777778, \"#fb9f3a\"], [0.8888888888888888, \"#fdca26\"], [1.0, \"#f0f921\"]], \"type\": \"histogram2d\"}], \"histogram2dcontour\": [{\"colorbar\": {\"outlinewidth\": 0, \"ticks\": \"\"}, \"colorscale\": [[0.0, \"#0d0887\"], [0.1111111111111111, \"#46039f\"], [0.2222222222222222, \"#7201a8\"], [0.3333333333333333, \"#9c179e\"], [0.4444444444444444, \"#bd3786\"], [0.5555555555555556, \"#d8576b\"], [0.6666666666666666, \"#ed7953\"], [0.7777777777777778, \"#fb9f3a\"], [0.8888888888888888, \"#fdca26\"], [1.0, \"#f0f921\"]], \"type\": \"histogram2dcontour\"}], \"mesh3d\": [{\"colorbar\": {\"outlinewidth\": 0, \"ticks\": \"\"}, \"type\": \"mesh3d\"}], \"parcoords\": [{\"line\": {\"colorbar\": {\"outlinewidth\": 0, \"ticks\": \"\"}}, \"type\": \"parcoords\"}], \"pie\": [{\"automargin\": true, \"type\": \"pie\"}], \"scatter\": [{\"marker\": {\"colorbar\": {\"outlinewidth\": 0, \"ticks\": \"\"}}, \"type\": \"scatter\"}], \"scatter3d\": [{\"line\": {\"colorbar\": {\"outlinewidth\": 0, \"ticks\": \"\"}}, \"marker\": {\"colorbar\": {\"outlinewidth\": 0, \"ticks\": \"\"}}, \"type\": \"scatter3d\"}], \"scattercarpet\": [{\"marker\": {\"colorbar\": {\"outlinewidth\": 0, \"ticks\": \"\"}}, \"type\": \"scattercarpet\"}], \"scattergeo\": [{\"marker\": {\"colorbar\": {\"outlinewidth\": 0, \"ticks\": \"\"}}, \"type\": \"scattergeo\"}], \"scattergl\": [{\"marker\": {\"colorbar\": {\"outlinewidth\": 0, \"ticks\": \"\"}}, \"type\": \"scattergl\"}], \"scattermapbox\": [{\"marker\": {\"colorbar\": {\"outlinewidth\": 0, \"ticks\": \"\"}}, \"type\": \"scattermapbox\"}], \"scatterpolar\": [{\"marker\": {\"colorbar\": {\"outlinewidth\": 0, \"ticks\": \"\"}}, \"type\": \"scatterpolar\"}], \"scatterpolargl\": [{\"marker\": {\"colorbar\": {\"outlinewidth\": 0, \"ticks\": \"\"}}, \"type\": \"scatterpolargl\"}], \"scatterternary\": [{\"marker\": {\"colorbar\": {\"outlinewidth\": 0, \"ticks\": \"\"}}, \"type\": \"scatterternary\"}], \"surface\": [{\"colorbar\": {\"outlinewidth\": 0, \"ticks\": \"\"}, \"colorscale\": [[0.0, \"#0d0887\"], [0.1111111111111111, \"#46039f\"], [0.2222222222222222, \"#7201a8\"], [0.3333333333333333, \"#9c179e\"], [0.4444444444444444, \"#bd3786\"], [0.5555555555555556, \"#d8576b\"], [0.6666666666666666, \"#ed7953\"], [0.7777777777777778, \"#fb9f3a\"], [0.8888888888888888, \"#fdca26\"], [1.0, \"#f0f921\"]], \"type\": \"surface\"}], \"table\": [{\"cells\": {\"fill\": {\"color\": \"#EBF0F8\"}, \"line\": {\"color\": \"white\"}}, \"header\": {\"fill\": {\"color\": \"#C8D4E3\"}, \"line\": {\"color\": \"white\"}}, \"type\": \"table\"}]}, \"layout\": {\"annotationdefaults\": {\"arrowcolor\": \"#2a3f5f\", \"arrowhead\": 0, \"arrowwidth\": 1}, \"coloraxis\": {\"colorbar\": {\"outlinewidth\": 0, \"ticks\": \"\"}}, \"colorscale\": {\"diverging\": [[0, \"#8e0152\"], [0.1, \"#c51b7d\"], [0.2, \"#de77ae\"], [0.3, \"#f1b6da\"], [0.4, \"#fde0ef\"], [0.5, \"#f7f7f7\"], [0.6, \"#e6f5d0\"], [0.7, \"#b8e186\"], [0.8, \"#7fbc41\"], [0.9, \"#4d9221\"], [1, \"#276419\"]], \"sequential\": [[0.0, \"#0d0887\"], [0.1111111111111111, \"#46039f\"], [0.2222222222222222, \"#7201a8\"], [0.3333333333333333, \"#9c179e\"], [0.4444444444444444, \"#bd3786\"], [0.5555555555555556, \"#d8576b\"], [0.6666666666666666, \"#ed7953\"], [0.7777777777777778, \"#fb9f3a\"], [0.8888888888888888, \"#fdca26\"], [1.0, \"#f0f921\"]], \"sequentialminus\": [[0.0, \"#0d0887\"], [0.1111111111111111, \"#46039f\"], [0.2222222222222222, \"#7201a8\"], [0.3333333333333333, \"#9c179e\"], [0.4444444444444444, \"#bd3786\"], [0.5555555555555556, \"#d8576b\"], [0.6666666666666666, \"#ed7953\"], [0.7777777777777778, \"#fb9f3a\"], [0.8888888888888888, \"#fdca26\"], [1.0, \"#f0f921\"]]}, \"colorway\": [\"#636efa\", \"#EF553B\", \"#00cc96\", \"#ab63fa\", \"#FFA15A\", \"#19d3f3\", \"#FF6692\", \"#B6E880\", \"#FF97FF\", \"#FECB52\"], \"font\": {\"color\": \"#2a3f5f\"}, \"geo\": {\"bgcolor\": \"white\", \"lakecolor\": \"white\", \"landcolor\": \"#E5ECF6\", \"showlakes\": true, \"showland\": true, \"subunitcolor\": \"white\"}, \"hoverlabel\": {\"align\": \"left\"}, \"hovermode\": \"closest\", \"mapbox\": {\"style\": \"light\"}, \"paper_bgcolor\": \"white\", \"plot_bgcolor\": \"#E5ECF6\", \"polar\": {\"angularaxis\": {\"gridcolor\": \"white\", \"linecolor\": \"white\", \"ticks\": \"\"}, \"bgcolor\": \"#E5ECF6\", \"radialaxis\": {\"gridcolor\": \"white\", \"linecolor\": \"white\", \"ticks\": \"\"}}, \"scene\": {\"xaxis\": {\"backgroundcolor\": \"#E5ECF6\", \"gridcolor\": \"white\", \"gridwidth\": 2, \"linecolor\": \"white\", \"showbackground\": true, \"ticks\": \"\", \"zerolinecolor\": \"white\"}, \"yaxis\": {\"backgroundcolor\": \"#E5ECF6\", \"gridcolor\": \"white\", \"gridwidth\": 2, \"linecolor\": \"white\", \"showbackground\": true, \"ticks\": \"\", \"zerolinecolor\": \"white\"}, \"zaxis\": {\"backgroundcolor\": \"#E5ECF6\", \"gridcolor\": \"white\", \"gridwidth\": 2, \"linecolor\": \"white\", \"showbackground\": true, \"ticks\": \"\", \"zerolinecolor\": \"white\"}}, \"shapedefaults\": {\"line\": {\"color\": \"#2a3f5f\"}}, \"ternary\": {\"aaxis\": {\"gridcolor\": \"white\", \"linecolor\": \"white\", \"ticks\": \"\"}, \"baxis\": {\"gridcolor\": \"white\", \"linecolor\": \"white\", \"ticks\": \"\"}, \"bgcolor\": \"#E5ECF6\", \"caxis\": {\"gridcolor\": \"white\", \"linecolor\": \"white\", \"ticks\": \"\"}}, \"title\": {\"x\": 0.05}, \"xaxis\": {\"automargin\": true, \"gridcolor\": \"white\", \"linecolor\": \"white\", \"ticks\": \"\", \"title\": {\"standoff\": 15}, \"zerolinecolor\": \"white\", \"zerolinewidth\": 2}, \"yaxis\": {\"automargin\": true, \"gridcolor\": \"white\", \"linecolor\": \"white\", \"ticks\": \"\", \"title\": {\"standoff\": 15}, \"zerolinecolor\": \"white\", \"zerolinewidth\": 2}}}},\n",
       "                        {\"responsive\": true}\n",
       "                    ).then(function(){\n",
       "                            \n",
       "var gd = document.getElementById('406a9c14-8a35-4a05-b893-a1513ec7220f');\n",
       "var x = new MutationObserver(function (mutations, observer) {{\n",
       "        var display = window.getComputedStyle(gd).display;\n",
       "        if (!display || display === 'none') {{\n",
       "            console.log([gd, 'removed!']);\n",
       "            Plotly.purge(gd);\n",
       "            observer.disconnect();\n",
       "        }}\n",
       "}});\n",
       "\n",
       "// Listen for the removal of the full notebook cells\n",
       "var notebookContainer = gd.closest('#notebook-container');\n",
       "if (notebookContainer) {{\n",
       "    x.observe(notebookContainer, {childList: true});\n",
       "}}\n",
       "\n",
       "// Listen for the clearing of the current output cell\n",
       "var outputEl = gd.closest('.output');\n",
       "if (outputEl) {{\n",
       "    x.observe(outputEl, {childList: true});\n",
       "}}\n",
       "\n",
       "                        })\n",
       "                };\n",
       "                });\n",
       "            </script>\n",
       "        </div>"
      ]
     },
     "metadata": {},
     "output_type": "display_data"
    },
    {
     "name": "stdout",
     "output_type": "stream",
     "text": [
      "LQR\n"
     ]
    },
    {
     "data": {
      "application/vnd.plotly.v1+json": {
       "config": {
        "plotlyServerURL": "https://plot.ly"
       },
       "data": [
        {
         "type": "heatmap",
         "z": [
          [
           0.09280484259637889,
           0.0008441403727324837,
           0.0005935230213221582,
           0.001203279254766916,
           0.04058128831392177,
           4.265342892643719e-05,
           1.2907684823034786e-05,
           0.0009051353505484562,
           0.002133454801011865,
           0.0017451085630271282
          ],
          [
           0.1642010811934261,
           0.0009187820700145005,
           0.0007149356534360319,
           0.0016290117224895208,
           0.18411540229425866,
           2.1261839417280665e-05,
           7.727836088289059e-06,
           0.030094278552734423,
           0.0015518822905927665,
           0.0019790517443477144
          ],
          [
           0.057735693975380024,
           0.0009649723481897586,
           0.0008101588410498283,
           0.002370738785056735,
           1.2951818833843798,
           1.1823643891918618e-05,
           4.03170827269536e-06,
           0.005334202104799071,
           0.001302273939394337,
           0.002662623944418555
          ],
          [
           0.10623240513566014,
           0.0009801989474661876,
           0.0009959557756819347,
           0.0039985901314148415,
           0.0001110851432429637,
           5.438022571909253e-06,
           0.0001546563511208512,
           0.0025760664860072844,
           0.001088093102042205,
           0.04804071576345591
          ],
          [
           1.9626362007231877,
           0.0009988045146394453,
           0.0012180082670073757,
           0.010010341261151879,
           1.4774765392724082e-05,
           1.5817845807648149e-06,
           0.10252955395581737,
           0.0016282645173731087,
           0.0010330360130660474,
           9.170236765650035
          ],
          [
           9.170195907137902,
           0.0010328278623739234,
           0.0016279257536060915,
           0.10252983863174762,
           1.9203884700476902e-06,
           1.4483294742526437e-05,
           0.010010438240506443,
           0.0012182728171534845,
           0.0009992077926226043,
           1.9625427514769378
          ],
          [
           0.04804365238352639,
           0.0010882502476387073,
           0.0025757490776055114,
           0.00015487956405420432,
           5.1954384160225496e-06,
           0.00011144477951070413,
           0.003998861000561495,
           0.0009956531504117774,
           0.000980420602232317,
           0.10632498232018751
          ],
          [
           0.0026627923565085243,
           0.0013020476148244027,
           0.0053343827189103596,
           4.2307220390251814e-06,
           1.2141424030172477e-05,
           1.2951816457033896,
           0.002370597044457585,
           0.0008105461104582663,
           0.0009653568294987793,
           0.0577375114293559
          ],
          [
           0.0019788170708323555,
           0.0015519325061411312,
           0.03009433799182648,
           8.09247951881806e-06,
           2.0887679541950293e-05,
           0.1841152030775222,
           0.0016286795215619447,
           0.0007147221183637355,
           0.0009190881364622075,
           0.1642195918826246
          ],
          [
           0.001744827249431497,
           0.0021332702317253863,
           0.0009048292361764391,
           1.2730074710350237e-05,
           4.245264183603654e-05,
           0.04058118867034258,
           0.0012036826271548497,
           0.0005939181112322833,
           0.0008439170478238742,
           0.09282816887505199
          ]
         ],
         "zmax": 6,
         "zmin": 0
        }
       ],
       "layout": {
        "template": {
         "data": {
          "bar": [
           {
            "error_x": {
             "color": "#2a3f5f"
            },
            "error_y": {
             "color": "#2a3f5f"
            },
            "marker": {
             "line": {
              "color": "#E5ECF6",
              "width": 0.5
             }
            },
            "type": "bar"
           }
          ],
          "barpolar": [
           {
            "marker": {
             "line": {
              "color": "#E5ECF6",
              "width": 0.5
             }
            },
            "type": "barpolar"
           }
          ],
          "carpet": [
           {
            "aaxis": {
             "endlinecolor": "#2a3f5f",
             "gridcolor": "white",
             "linecolor": "white",
             "minorgridcolor": "white",
             "startlinecolor": "#2a3f5f"
            },
            "baxis": {
             "endlinecolor": "#2a3f5f",
             "gridcolor": "white",
             "linecolor": "white",
             "minorgridcolor": "white",
             "startlinecolor": "#2a3f5f"
            },
            "type": "carpet"
           }
          ],
          "choropleth": [
           {
            "colorbar": {
             "outlinewidth": 0,
             "ticks": ""
            },
            "type": "choropleth"
           }
          ],
          "contour": [
           {
            "colorbar": {
             "outlinewidth": 0,
             "ticks": ""
            },
            "colorscale": [
             [
              0,
              "#0d0887"
             ],
             [
              0.1111111111111111,
              "#46039f"
             ],
             [
              0.2222222222222222,
              "#7201a8"
             ],
             [
              0.3333333333333333,
              "#9c179e"
             ],
             [
              0.4444444444444444,
              "#bd3786"
             ],
             [
              0.5555555555555556,
              "#d8576b"
             ],
             [
              0.6666666666666666,
              "#ed7953"
             ],
             [
              0.7777777777777778,
              "#fb9f3a"
             ],
             [
              0.8888888888888888,
              "#fdca26"
             ],
             [
              1,
              "#f0f921"
             ]
            ],
            "type": "contour"
           }
          ],
          "contourcarpet": [
           {
            "colorbar": {
             "outlinewidth": 0,
             "ticks": ""
            },
            "type": "contourcarpet"
           }
          ],
          "heatmap": [
           {
            "colorbar": {
             "outlinewidth": 0,
             "ticks": ""
            },
            "colorscale": [
             [
              0,
              "#0d0887"
             ],
             [
              0.1111111111111111,
              "#46039f"
             ],
             [
              0.2222222222222222,
              "#7201a8"
             ],
             [
              0.3333333333333333,
              "#9c179e"
             ],
             [
              0.4444444444444444,
              "#bd3786"
             ],
             [
              0.5555555555555556,
              "#d8576b"
             ],
             [
              0.6666666666666666,
              "#ed7953"
             ],
             [
              0.7777777777777778,
              "#fb9f3a"
             ],
             [
              0.8888888888888888,
              "#fdca26"
             ],
             [
              1,
              "#f0f921"
             ]
            ],
            "type": "heatmap"
           }
          ],
          "heatmapgl": [
           {
            "colorbar": {
             "outlinewidth": 0,
             "ticks": ""
            },
            "colorscale": [
             [
              0,
              "#0d0887"
             ],
             [
              0.1111111111111111,
              "#46039f"
             ],
             [
              0.2222222222222222,
              "#7201a8"
             ],
             [
              0.3333333333333333,
              "#9c179e"
             ],
             [
              0.4444444444444444,
              "#bd3786"
             ],
             [
              0.5555555555555556,
              "#d8576b"
             ],
             [
              0.6666666666666666,
              "#ed7953"
             ],
             [
              0.7777777777777778,
              "#fb9f3a"
             ],
             [
              0.8888888888888888,
              "#fdca26"
             ],
             [
              1,
              "#f0f921"
             ]
            ],
            "type": "heatmapgl"
           }
          ],
          "histogram": [
           {
            "marker": {
             "colorbar": {
              "outlinewidth": 0,
              "ticks": ""
             }
            },
            "type": "histogram"
           }
          ],
          "histogram2d": [
           {
            "colorbar": {
             "outlinewidth": 0,
             "ticks": ""
            },
            "colorscale": [
             [
              0,
              "#0d0887"
             ],
             [
              0.1111111111111111,
              "#46039f"
             ],
             [
              0.2222222222222222,
              "#7201a8"
             ],
             [
              0.3333333333333333,
              "#9c179e"
             ],
             [
              0.4444444444444444,
              "#bd3786"
             ],
             [
              0.5555555555555556,
              "#d8576b"
             ],
             [
              0.6666666666666666,
              "#ed7953"
             ],
             [
              0.7777777777777778,
              "#fb9f3a"
             ],
             [
              0.8888888888888888,
              "#fdca26"
             ],
             [
              1,
              "#f0f921"
             ]
            ],
            "type": "histogram2d"
           }
          ],
          "histogram2dcontour": [
           {
            "colorbar": {
             "outlinewidth": 0,
             "ticks": ""
            },
            "colorscale": [
             [
              0,
              "#0d0887"
             ],
             [
              0.1111111111111111,
              "#46039f"
             ],
             [
              0.2222222222222222,
              "#7201a8"
             ],
             [
              0.3333333333333333,
              "#9c179e"
             ],
             [
              0.4444444444444444,
              "#bd3786"
             ],
             [
              0.5555555555555556,
              "#d8576b"
             ],
             [
              0.6666666666666666,
              "#ed7953"
             ],
             [
              0.7777777777777778,
              "#fb9f3a"
             ],
             [
              0.8888888888888888,
              "#fdca26"
             ],
             [
              1,
              "#f0f921"
             ]
            ],
            "type": "histogram2dcontour"
           }
          ],
          "mesh3d": [
           {
            "colorbar": {
             "outlinewidth": 0,
             "ticks": ""
            },
            "type": "mesh3d"
           }
          ],
          "parcoords": [
           {
            "line": {
             "colorbar": {
              "outlinewidth": 0,
              "ticks": ""
             }
            },
            "type": "parcoords"
           }
          ],
          "pie": [
           {
            "automargin": true,
            "type": "pie"
           }
          ],
          "scatter": [
           {
            "marker": {
             "colorbar": {
              "outlinewidth": 0,
              "ticks": ""
             }
            },
            "type": "scatter"
           }
          ],
          "scatter3d": [
           {
            "line": {
             "colorbar": {
              "outlinewidth": 0,
              "ticks": ""
             }
            },
            "marker": {
             "colorbar": {
              "outlinewidth": 0,
              "ticks": ""
             }
            },
            "type": "scatter3d"
           }
          ],
          "scattercarpet": [
           {
            "marker": {
             "colorbar": {
              "outlinewidth": 0,
              "ticks": ""
             }
            },
            "type": "scattercarpet"
           }
          ],
          "scattergeo": [
           {
            "marker": {
             "colorbar": {
              "outlinewidth": 0,
              "ticks": ""
             }
            },
            "type": "scattergeo"
           }
          ],
          "scattergl": [
           {
            "marker": {
             "colorbar": {
              "outlinewidth": 0,
              "ticks": ""
             }
            },
            "type": "scattergl"
           }
          ],
          "scattermapbox": [
           {
            "marker": {
             "colorbar": {
              "outlinewidth": 0,
              "ticks": ""
             }
            },
            "type": "scattermapbox"
           }
          ],
          "scatterpolar": [
           {
            "marker": {
             "colorbar": {
              "outlinewidth": 0,
              "ticks": ""
             }
            },
            "type": "scatterpolar"
           }
          ],
          "scatterpolargl": [
           {
            "marker": {
             "colorbar": {
              "outlinewidth": 0,
              "ticks": ""
             }
            },
            "type": "scatterpolargl"
           }
          ],
          "scatterternary": [
           {
            "marker": {
             "colorbar": {
              "outlinewidth": 0,
              "ticks": ""
             }
            },
            "type": "scatterternary"
           }
          ],
          "surface": [
           {
            "colorbar": {
             "outlinewidth": 0,
             "ticks": ""
            },
            "colorscale": [
             [
              0,
              "#0d0887"
             ],
             [
              0.1111111111111111,
              "#46039f"
             ],
             [
              0.2222222222222222,
              "#7201a8"
             ],
             [
              0.3333333333333333,
              "#9c179e"
             ],
             [
              0.4444444444444444,
              "#bd3786"
             ],
             [
              0.5555555555555556,
              "#d8576b"
             ],
             [
              0.6666666666666666,
              "#ed7953"
             ],
             [
              0.7777777777777778,
              "#fb9f3a"
             ],
             [
              0.8888888888888888,
              "#fdca26"
             ],
             [
              1,
              "#f0f921"
             ]
            ],
            "type": "surface"
           }
          ],
          "table": [
           {
            "cells": {
             "fill": {
              "color": "#EBF0F8"
             },
             "line": {
              "color": "white"
             }
            },
            "header": {
             "fill": {
              "color": "#C8D4E3"
             },
             "line": {
              "color": "white"
             }
            },
            "type": "table"
           }
          ]
         },
         "layout": {
          "annotationdefaults": {
           "arrowcolor": "#2a3f5f",
           "arrowhead": 0,
           "arrowwidth": 1
          },
          "coloraxis": {
           "colorbar": {
            "outlinewidth": 0,
            "ticks": ""
           }
          },
          "colorscale": {
           "diverging": [
            [
             0,
             "#8e0152"
            ],
            [
             0.1,
             "#c51b7d"
            ],
            [
             0.2,
             "#de77ae"
            ],
            [
             0.3,
             "#f1b6da"
            ],
            [
             0.4,
             "#fde0ef"
            ],
            [
             0.5,
             "#f7f7f7"
            ],
            [
             0.6,
             "#e6f5d0"
            ],
            [
             0.7,
             "#b8e186"
            ],
            [
             0.8,
             "#7fbc41"
            ],
            [
             0.9,
             "#4d9221"
            ],
            [
             1,
             "#276419"
            ]
           ],
           "sequential": [
            [
             0,
             "#0d0887"
            ],
            [
             0.1111111111111111,
             "#46039f"
            ],
            [
             0.2222222222222222,
             "#7201a8"
            ],
            [
             0.3333333333333333,
             "#9c179e"
            ],
            [
             0.4444444444444444,
             "#bd3786"
            ],
            [
             0.5555555555555556,
             "#d8576b"
            ],
            [
             0.6666666666666666,
             "#ed7953"
            ],
            [
             0.7777777777777778,
             "#fb9f3a"
            ],
            [
             0.8888888888888888,
             "#fdca26"
            ],
            [
             1,
             "#f0f921"
            ]
           ],
           "sequentialminus": [
            [
             0,
             "#0d0887"
            ],
            [
             0.1111111111111111,
             "#46039f"
            ],
            [
             0.2222222222222222,
             "#7201a8"
            ],
            [
             0.3333333333333333,
             "#9c179e"
            ],
            [
             0.4444444444444444,
             "#bd3786"
            ],
            [
             0.5555555555555556,
             "#d8576b"
            ],
            [
             0.6666666666666666,
             "#ed7953"
            ],
            [
             0.7777777777777778,
             "#fb9f3a"
            ],
            [
             0.8888888888888888,
             "#fdca26"
            ],
            [
             1,
             "#f0f921"
            ]
           ]
          },
          "colorway": [
           "#636efa",
           "#EF553B",
           "#00cc96",
           "#ab63fa",
           "#FFA15A",
           "#19d3f3",
           "#FF6692",
           "#B6E880",
           "#FF97FF",
           "#FECB52"
          ],
          "font": {
           "color": "#2a3f5f"
          },
          "geo": {
           "bgcolor": "white",
           "lakecolor": "white",
           "landcolor": "#E5ECF6",
           "showlakes": true,
           "showland": true,
           "subunitcolor": "white"
          },
          "hoverlabel": {
           "align": "left"
          },
          "hovermode": "closest",
          "mapbox": {
           "style": "light"
          },
          "paper_bgcolor": "white",
          "plot_bgcolor": "#E5ECF6",
          "polar": {
           "angularaxis": {
            "gridcolor": "white",
            "linecolor": "white",
            "ticks": ""
           },
           "bgcolor": "#E5ECF6",
           "radialaxis": {
            "gridcolor": "white",
            "linecolor": "white",
            "ticks": ""
           }
          },
          "scene": {
           "xaxis": {
            "backgroundcolor": "#E5ECF6",
            "gridcolor": "white",
            "gridwidth": 2,
            "linecolor": "white",
            "showbackground": true,
            "ticks": "",
            "zerolinecolor": "white"
           },
           "yaxis": {
            "backgroundcolor": "#E5ECF6",
            "gridcolor": "white",
            "gridwidth": 2,
            "linecolor": "white",
            "showbackground": true,
            "ticks": "",
            "zerolinecolor": "white"
           },
           "zaxis": {
            "backgroundcolor": "#E5ECF6",
            "gridcolor": "white",
            "gridwidth": 2,
            "linecolor": "white",
            "showbackground": true,
            "ticks": "",
            "zerolinecolor": "white"
           }
          },
          "shapedefaults": {
           "line": {
            "color": "#2a3f5f"
           }
          },
          "ternary": {
           "aaxis": {
            "gridcolor": "white",
            "linecolor": "white",
            "ticks": ""
           },
           "baxis": {
            "gridcolor": "white",
            "linecolor": "white",
            "ticks": ""
           },
           "bgcolor": "#E5ECF6",
           "caxis": {
            "gridcolor": "white",
            "linecolor": "white",
            "ticks": ""
           }
          },
          "title": {
           "x": 0.05
          },
          "xaxis": {
           "automargin": true,
           "gridcolor": "white",
           "linecolor": "white",
           "ticks": "",
           "title": {
            "standoff": 15
           },
           "zerolinecolor": "white",
           "zerolinewidth": 2
          },
          "yaxis": {
           "automargin": true,
           "gridcolor": "white",
           "linecolor": "white",
           "ticks": "",
           "title": {
            "standoff": 15
           },
           "zerolinecolor": "white",
           "zerolinewidth": 2
          }
         }
        }
       }
      },
      "text/html": [
       "<div>\n",
       "        \n",
       "        \n",
       "            <div id=\"3f2c49e5-04af-49e3-ab88-897363e39e67\" class=\"plotly-graph-div\" style=\"height:525px; width:100%;\"></div>\n",
       "            <script type=\"text/javascript\">\n",
       "                require([\"plotly\"], function(Plotly) {\n",
       "                    window.PLOTLYENV=window.PLOTLYENV || {};\n",
       "                    \n",
       "                if (document.getElementById(\"3f2c49e5-04af-49e3-ab88-897363e39e67\")) {\n",
       "                    Plotly.newPlot(\n",
       "                        '3f2c49e5-04af-49e3-ab88-897363e39e67',\n",
       "                        [{\"type\": \"heatmap\", \"z\": [[0.09280484259637889, 0.0008441403727324837, 0.0005935230213221582, 0.001203279254766916, 0.04058128831392177, 4.265342892643719e-05, 1.2907684823034786e-05, 0.0009051353505484562, 0.002133454801011865, 0.0017451085630271282], [0.1642010811934261, 0.0009187820700145005, 0.0007149356534360319, 0.0016290117224895208, 0.18411540229425866, 2.1261839417280665e-05, 7.727836088289059e-06, 0.030094278552734423, 0.0015518822905927665, 0.0019790517443477144], [0.057735693975380024, 0.0009649723481897586, 0.0008101588410498283, 0.002370738785056735, 1.2951818833843798, 1.1823643891918618e-05, 4.03170827269536e-06, 0.005334202104799071, 0.001302273939394337, 0.002662623944418555], [0.10623240513566014, 0.0009801989474661876, 0.0009959557756819347, 0.0039985901314148415, 0.0001110851432429637, 5.438022571909253e-06, 0.0001546563511208512, 0.0025760664860072844, 0.001088093102042205, 0.04804071576345591], [1.9626362007231877, 0.0009988045146394453, 0.0012180082670073757, 0.010010341261151879, 1.4774765392724082e-05, 1.5817845807648149e-06, 0.10252955395581737, 0.0016282645173731087, 0.0010330360130660474, 9.170236765650035], [9.170195907137902, 0.0010328278623739234, 0.0016279257536060915, 0.10252983863174762, 1.9203884700476902e-06, 1.4483294742526437e-05, 0.010010438240506443, 0.0012182728171534845, 0.0009992077926226043, 1.9625427514769378], [0.04804365238352639, 0.0010882502476387073, 0.0025757490776055114, 0.00015487956405420432, 5.1954384160225496e-06, 0.00011144477951070413, 0.003998861000561495, 0.0009956531504117774, 0.000980420602232317, 0.10632498232018751], [0.0026627923565085243, 0.0013020476148244027, 0.0053343827189103596, 4.2307220390251814e-06, 1.2141424030172477e-05, 1.2951816457033896, 0.002370597044457585, 0.0008105461104582663, 0.0009653568294987793, 0.0577375114293559], [0.0019788170708323555, 0.0015519325061411312, 0.03009433799182648, 8.09247951881806e-06, 2.0887679541950293e-05, 0.1841152030775222, 0.0016286795215619447, 0.0007147221183637355, 0.0009190881364622075, 0.1642195918826246], [0.001744827249431497, 0.0021332702317253863, 0.0009048292361764391, 1.2730074710350237e-05, 4.245264183603654e-05, 0.04058118867034258, 0.0012036826271548497, 0.0005939181112322833, 0.0008439170478238742, 0.09282816887505199]], \"zmax\": 6.0, \"zmin\": 0.0}],\n",
       "                        {\"template\": {\"data\": {\"bar\": [{\"error_x\": {\"color\": \"#2a3f5f\"}, \"error_y\": {\"color\": \"#2a3f5f\"}, \"marker\": {\"line\": {\"color\": \"#E5ECF6\", \"width\": 0.5}}, \"type\": \"bar\"}], \"barpolar\": [{\"marker\": {\"line\": {\"color\": \"#E5ECF6\", \"width\": 0.5}}, \"type\": \"barpolar\"}], \"carpet\": [{\"aaxis\": {\"endlinecolor\": \"#2a3f5f\", \"gridcolor\": \"white\", \"linecolor\": \"white\", \"minorgridcolor\": \"white\", \"startlinecolor\": \"#2a3f5f\"}, \"baxis\": {\"endlinecolor\": \"#2a3f5f\", \"gridcolor\": \"white\", \"linecolor\": \"white\", \"minorgridcolor\": \"white\", \"startlinecolor\": \"#2a3f5f\"}, \"type\": \"carpet\"}], \"choropleth\": [{\"colorbar\": {\"outlinewidth\": 0, \"ticks\": \"\"}, \"type\": \"choropleth\"}], \"contour\": [{\"colorbar\": {\"outlinewidth\": 0, \"ticks\": \"\"}, \"colorscale\": [[0.0, \"#0d0887\"], [0.1111111111111111, \"#46039f\"], [0.2222222222222222, \"#7201a8\"], [0.3333333333333333, \"#9c179e\"], [0.4444444444444444, \"#bd3786\"], [0.5555555555555556, \"#d8576b\"], [0.6666666666666666, \"#ed7953\"], [0.7777777777777778, \"#fb9f3a\"], [0.8888888888888888, \"#fdca26\"], [1.0, \"#f0f921\"]], \"type\": \"contour\"}], \"contourcarpet\": [{\"colorbar\": {\"outlinewidth\": 0, \"ticks\": \"\"}, \"type\": \"contourcarpet\"}], \"heatmap\": [{\"colorbar\": {\"outlinewidth\": 0, \"ticks\": \"\"}, \"colorscale\": [[0.0, \"#0d0887\"], [0.1111111111111111, \"#46039f\"], [0.2222222222222222, \"#7201a8\"], [0.3333333333333333, \"#9c179e\"], [0.4444444444444444, \"#bd3786\"], [0.5555555555555556, \"#d8576b\"], [0.6666666666666666, \"#ed7953\"], [0.7777777777777778, \"#fb9f3a\"], [0.8888888888888888, \"#fdca26\"], [1.0, \"#f0f921\"]], \"type\": \"heatmap\"}], \"heatmapgl\": [{\"colorbar\": {\"outlinewidth\": 0, \"ticks\": \"\"}, \"colorscale\": [[0.0, \"#0d0887\"], [0.1111111111111111, \"#46039f\"], [0.2222222222222222, \"#7201a8\"], [0.3333333333333333, \"#9c179e\"], [0.4444444444444444, \"#bd3786\"], [0.5555555555555556, \"#d8576b\"], [0.6666666666666666, \"#ed7953\"], [0.7777777777777778, \"#fb9f3a\"], [0.8888888888888888, \"#fdca26\"], [1.0, \"#f0f921\"]], \"type\": \"heatmapgl\"}], \"histogram\": [{\"marker\": {\"colorbar\": {\"outlinewidth\": 0, \"ticks\": \"\"}}, \"type\": \"histogram\"}], \"histogram2d\": [{\"colorbar\": {\"outlinewidth\": 0, \"ticks\": \"\"}, \"colorscale\": [[0.0, \"#0d0887\"], [0.1111111111111111, \"#46039f\"], [0.2222222222222222, \"#7201a8\"], [0.3333333333333333, \"#9c179e\"], [0.4444444444444444, \"#bd3786\"], [0.5555555555555556, \"#d8576b\"], [0.6666666666666666, \"#ed7953\"], [0.7777777777777778, \"#fb9f3a\"], [0.8888888888888888, \"#fdca26\"], [1.0, \"#f0f921\"]], \"type\": \"histogram2d\"}], \"histogram2dcontour\": [{\"colorbar\": {\"outlinewidth\": 0, \"ticks\": \"\"}, \"colorscale\": [[0.0, \"#0d0887\"], [0.1111111111111111, \"#46039f\"], [0.2222222222222222, \"#7201a8\"], [0.3333333333333333, \"#9c179e\"], [0.4444444444444444, \"#bd3786\"], [0.5555555555555556, \"#d8576b\"], [0.6666666666666666, \"#ed7953\"], [0.7777777777777778, \"#fb9f3a\"], [0.8888888888888888, \"#fdca26\"], [1.0, \"#f0f921\"]], \"type\": \"histogram2dcontour\"}], \"mesh3d\": [{\"colorbar\": {\"outlinewidth\": 0, \"ticks\": \"\"}, \"type\": \"mesh3d\"}], \"parcoords\": [{\"line\": {\"colorbar\": {\"outlinewidth\": 0, \"ticks\": \"\"}}, \"type\": \"parcoords\"}], \"pie\": [{\"automargin\": true, \"type\": \"pie\"}], \"scatter\": [{\"marker\": {\"colorbar\": {\"outlinewidth\": 0, \"ticks\": \"\"}}, \"type\": \"scatter\"}], \"scatter3d\": [{\"line\": {\"colorbar\": {\"outlinewidth\": 0, \"ticks\": \"\"}}, \"marker\": {\"colorbar\": {\"outlinewidth\": 0, \"ticks\": \"\"}}, \"type\": \"scatter3d\"}], \"scattercarpet\": [{\"marker\": {\"colorbar\": {\"outlinewidth\": 0, \"ticks\": \"\"}}, \"type\": \"scattercarpet\"}], \"scattergeo\": [{\"marker\": {\"colorbar\": {\"outlinewidth\": 0, \"ticks\": \"\"}}, \"type\": \"scattergeo\"}], \"scattergl\": [{\"marker\": {\"colorbar\": {\"outlinewidth\": 0, \"ticks\": \"\"}}, \"type\": \"scattergl\"}], \"scattermapbox\": [{\"marker\": {\"colorbar\": {\"outlinewidth\": 0, \"ticks\": \"\"}}, \"type\": \"scattermapbox\"}], \"scatterpolar\": [{\"marker\": {\"colorbar\": {\"outlinewidth\": 0, \"ticks\": \"\"}}, \"type\": \"scatterpolar\"}], \"scatterpolargl\": [{\"marker\": {\"colorbar\": {\"outlinewidth\": 0, \"ticks\": \"\"}}, \"type\": \"scatterpolargl\"}], \"scatterternary\": [{\"marker\": {\"colorbar\": {\"outlinewidth\": 0, \"ticks\": \"\"}}, \"type\": \"scatterternary\"}], \"surface\": [{\"colorbar\": {\"outlinewidth\": 0, \"ticks\": \"\"}, \"colorscale\": [[0.0, \"#0d0887\"], [0.1111111111111111, \"#46039f\"], [0.2222222222222222, \"#7201a8\"], [0.3333333333333333, \"#9c179e\"], [0.4444444444444444, \"#bd3786\"], [0.5555555555555556, \"#d8576b\"], [0.6666666666666666, \"#ed7953\"], [0.7777777777777778, \"#fb9f3a\"], [0.8888888888888888, \"#fdca26\"], [1.0, \"#f0f921\"]], \"type\": \"surface\"}], \"table\": [{\"cells\": {\"fill\": {\"color\": \"#EBF0F8\"}, \"line\": {\"color\": \"white\"}}, \"header\": {\"fill\": {\"color\": \"#C8D4E3\"}, \"line\": {\"color\": \"white\"}}, \"type\": \"table\"}]}, \"layout\": {\"annotationdefaults\": {\"arrowcolor\": \"#2a3f5f\", \"arrowhead\": 0, \"arrowwidth\": 1}, \"coloraxis\": {\"colorbar\": {\"outlinewidth\": 0, \"ticks\": \"\"}}, \"colorscale\": {\"diverging\": [[0, \"#8e0152\"], [0.1, \"#c51b7d\"], [0.2, \"#de77ae\"], [0.3, \"#f1b6da\"], [0.4, \"#fde0ef\"], [0.5, \"#f7f7f7\"], [0.6, \"#e6f5d0\"], [0.7, \"#b8e186\"], [0.8, \"#7fbc41\"], [0.9, \"#4d9221\"], [1, \"#276419\"]], \"sequential\": [[0.0, \"#0d0887\"], [0.1111111111111111, \"#46039f\"], [0.2222222222222222, \"#7201a8\"], [0.3333333333333333, \"#9c179e\"], [0.4444444444444444, \"#bd3786\"], [0.5555555555555556, \"#d8576b\"], [0.6666666666666666, \"#ed7953\"], [0.7777777777777778, \"#fb9f3a\"], [0.8888888888888888, \"#fdca26\"], [1.0, \"#f0f921\"]], \"sequentialminus\": [[0.0, \"#0d0887\"], [0.1111111111111111, \"#46039f\"], [0.2222222222222222, \"#7201a8\"], [0.3333333333333333, \"#9c179e\"], [0.4444444444444444, \"#bd3786\"], [0.5555555555555556, \"#d8576b\"], [0.6666666666666666, \"#ed7953\"], [0.7777777777777778, \"#fb9f3a\"], [0.8888888888888888, \"#fdca26\"], [1.0, \"#f0f921\"]]}, \"colorway\": [\"#636efa\", \"#EF553B\", \"#00cc96\", \"#ab63fa\", \"#FFA15A\", \"#19d3f3\", \"#FF6692\", \"#B6E880\", \"#FF97FF\", \"#FECB52\"], \"font\": {\"color\": \"#2a3f5f\"}, \"geo\": {\"bgcolor\": \"white\", \"lakecolor\": \"white\", \"landcolor\": \"#E5ECF6\", \"showlakes\": true, \"showland\": true, \"subunitcolor\": \"white\"}, \"hoverlabel\": {\"align\": \"left\"}, \"hovermode\": \"closest\", \"mapbox\": {\"style\": \"light\"}, \"paper_bgcolor\": \"white\", \"plot_bgcolor\": \"#E5ECF6\", \"polar\": {\"angularaxis\": {\"gridcolor\": \"white\", \"linecolor\": \"white\", \"ticks\": \"\"}, \"bgcolor\": \"#E5ECF6\", \"radialaxis\": {\"gridcolor\": \"white\", \"linecolor\": \"white\", \"ticks\": \"\"}}, \"scene\": {\"xaxis\": {\"backgroundcolor\": \"#E5ECF6\", \"gridcolor\": \"white\", \"gridwidth\": 2, \"linecolor\": \"white\", \"showbackground\": true, \"ticks\": \"\", \"zerolinecolor\": \"white\"}, \"yaxis\": {\"backgroundcolor\": \"#E5ECF6\", \"gridcolor\": \"white\", \"gridwidth\": 2, \"linecolor\": \"white\", \"showbackground\": true, \"ticks\": \"\", \"zerolinecolor\": \"white\"}, \"zaxis\": {\"backgroundcolor\": \"#E5ECF6\", \"gridcolor\": \"white\", \"gridwidth\": 2, \"linecolor\": \"white\", \"showbackground\": true, \"ticks\": \"\", \"zerolinecolor\": \"white\"}}, \"shapedefaults\": {\"line\": {\"color\": \"#2a3f5f\"}}, \"ternary\": {\"aaxis\": {\"gridcolor\": \"white\", \"linecolor\": \"white\", \"ticks\": \"\"}, \"baxis\": {\"gridcolor\": \"white\", \"linecolor\": \"white\", \"ticks\": \"\"}, \"bgcolor\": \"#E5ECF6\", \"caxis\": {\"gridcolor\": \"white\", \"linecolor\": \"white\", \"ticks\": \"\"}}, \"title\": {\"x\": 0.05}, \"xaxis\": {\"automargin\": true, \"gridcolor\": \"white\", \"linecolor\": \"white\", \"ticks\": \"\", \"title\": {\"standoff\": 15}, \"zerolinecolor\": \"white\", \"zerolinewidth\": 2}, \"yaxis\": {\"automargin\": true, \"gridcolor\": \"white\", \"linecolor\": \"white\", \"ticks\": \"\", \"title\": {\"standoff\": 15}, \"zerolinecolor\": \"white\", \"zerolinewidth\": 2}}}},\n",
       "                        {\"responsive\": true}\n",
       "                    ).then(function(){\n",
       "                            \n",
       "var gd = document.getElementById('3f2c49e5-04af-49e3-ab88-897363e39e67');\n",
       "var x = new MutationObserver(function (mutations, observer) {{\n",
       "        var display = window.getComputedStyle(gd).display;\n",
       "        if (!display || display === 'none') {{\n",
       "            console.log([gd, 'removed!']);\n",
       "            Plotly.purge(gd);\n",
       "            observer.disconnect();\n",
       "        }}\n",
       "}});\n",
       "\n",
       "// Listen for the removal of the full notebook cells\n",
       "var notebookContainer = gd.closest('#notebook-container');\n",
       "if (notebookContainer) {{\n",
       "    x.observe(notebookContainer, {childList: true});\n",
       "}}\n",
       "\n",
       "// Listen for the clearing of the current output cell\n",
       "var outputEl = gd.closest('.output');\n",
       "if (outputEl) {{\n",
       "    x.observe(outputEl, {childList: true});\n",
       "}}\n",
       "\n",
       "                        })\n",
       "                };\n",
       "                });\n",
       "            </script>\n",
       "        </div>"
      ]
     },
     "metadata": {},
     "output_type": "display_data"
    },
    {
     "name": "stdout",
     "output_type": "stream",
     "text": [
      "Baseline\n"
     ]
    },
    {
     "data": {
      "application/vnd.plotly.v1+json": {
       "config": {
        "plotlyServerURL": "https://plot.ly"
       },
       "data": [
        {
         "type": "heatmap",
         "z": [
          [
           1,
           1,
           0,
           0,
           0,
           0,
           0,
           1,
           0,
           0
          ],
          [
           1,
           1,
           0,
           0,
           0,
           0,
           0,
           0,
           0,
           0
          ],
          [
           1,
           1,
           0,
           0,
           1,
           0,
           0,
           0,
           0,
           0
          ],
          [
           1,
           1,
           0,
           0,
           0,
           0,
           1,
           0,
           0,
           1
          ],
          [
           1,
           1,
           0,
           0,
           0,
           0,
           0,
           0,
           0,
           1
          ],
          [
           1,
           1,
           0,
           0,
           0,
           0,
           0,
           0,
           0,
           1
          ],
          [
           1,
           1,
           0,
           1,
           0,
           1,
           0,
           0,
           0,
           0
          ],
          [
           1,
           0,
           0,
           0,
           0,
           1,
           0,
           0,
           0,
           0
          ],
          [
           1,
           0,
           0,
           0,
           0,
           1,
           0,
           0,
           0,
           0
          ],
          [
           1,
           0,
           0,
           0,
           0,
           0,
           0,
           0,
           0,
           0
          ]
         ]
        }
       ],
       "layout": {
        "template": {
         "data": {
          "bar": [
           {
            "error_x": {
             "color": "#2a3f5f"
            },
            "error_y": {
             "color": "#2a3f5f"
            },
            "marker": {
             "line": {
              "color": "#E5ECF6",
              "width": 0.5
             }
            },
            "type": "bar"
           }
          ],
          "barpolar": [
           {
            "marker": {
             "line": {
              "color": "#E5ECF6",
              "width": 0.5
             }
            },
            "type": "barpolar"
           }
          ],
          "carpet": [
           {
            "aaxis": {
             "endlinecolor": "#2a3f5f",
             "gridcolor": "white",
             "linecolor": "white",
             "minorgridcolor": "white",
             "startlinecolor": "#2a3f5f"
            },
            "baxis": {
             "endlinecolor": "#2a3f5f",
             "gridcolor": "white",
             "linecolor": "white",
             "minorgridcolor": "white",
             "startlinecolor": "#2a3f5f"
            },
            "type": "carpet"
           }
          ],
          "choropleth": [
           {
            "colorbar": {
             "outlinewidth": 0,
             "ticks": ""
            },
            "type": "choropleth"
           }
          ],
          "contour": [
           {
            "colorbar": {
             "outlinewidth": 0,
             "ticks": ""
            },
            "colorscale": [
             [
              0,
              "#0d0887"
             ],
             [
              0.1111111111111111,
              "#46039f"
             ],
             [
              0.2222222222222222,
              "#7201a8"
             ],
             [
              0.3333333333333333,
              "#9c179e"
             ],
             [
              0.4444444444444444,
              "#bd3786"
             ],
             [
              0.5555555555555556,
              "#d8576b"
             ],
             [
              0.6666666666666666,
              "#ed7953"
             ],
             [
              0.7777777777777778,
              "#fb9f3a"
             ],
             [
              0.8888888888888888,
              "#fdca26"
             ],
             [
              1,
              "#f0f921"
             ]
            ],
            "type": "contour"
           }
          ],
          "contourcarpet": [
           {
            "colorbar": {
             "outlinewidth": 0,
             "ticks": ""
            },
            "type": "contourcarpet"
           }
          ],
          "heatmap": [
           {
            "colorbar": {
             "outlinewidth": 0,
             "ticks": ""
            },
            "colorscale": [
             [
              0,
              "#0d0887"
             ],
             [
              0.1111111111111111,
              "#46039f"
             ],
             [
              0.2222222222222222,
              "#7201a8"
             ],
             [
              0.3333333333333333,
              "#9c179e"
             ],
             [
              0.4444444444444444,
              "#bd3786"
             ],
             [
              0.5555555555555556,
              "#d8576b"
             ],
             [
              0.6666666666666666,
              "#ed7953"
             ],
             [
              0.7777777777777778,
              "#fb9f3a"
             ],
             [
              0.8888888888888888,
              "#fdca26"
             ],
             [
              1,
              "#f0f921"
             ]
            ],
            "type": "heatmap"
           }
          ],
          "heatmapgl": [
           {
            "colorbar": {
             "outlinewidth": 0,
             "ticks": ""
            },
            "colorscale": [
             [
              0,
              "#0d0887"
             ],
             [
              0.1111111111111111,
              "#46039f"
             ],
             [
              0.2222222222222222,
              "#7201a8"
             ],
             [
              0.3333333333333333,
              "#9c179e"
             ],
             [
              0.4444444444444444,
              "#bd3786"
             ],
             [
              0.5555555555555556,
              "#d8576b"
             ],
             [
              0.6666666666666666,
              "#ed7953"
             ],
             [
              0.7777777777777778,
              "#fb9f3a"
             ],
             [
              0.8888888888888888,
              "#fdca26"
             ],
             [
              1,
              "#f0f921"
             ]
            ],
            "type": "heatmapgl"
           }
          ],
          "histogram": [
           {
            "marker": {
             "colorbar": {
              "outlinewidth": 0,
              "ticks": ""
             }
            },
            "type": "histogram"
           }
          ],
          "histogram2d": [
           {
            "colorbar": {
             "outlinewidth": 0,
             "ticks": ""
            },
            "colorscale": [
             [
              0,
              "#0d0887"
             ],
             [
              0.1111111111111111,
              "#46039f"
             ],
             [
              0.2222222222222222,
              "#7201a8"
             ],
             [
              0.3333333333333333,
              "#9c179e"
             ],
             [
              0.4444444444444444,
              "#bd3786"
             ],
             [
              0.5555555555555556,
              "#d8576b"
             ],
             [
              0.6666666666666666,
              "#ed7953"
             ],
             [
              0.7777777777777778,
              "#fb9f3a"
             ],
             [
              0.8888888888888888,
              "#fdca26"
             ],
             [
              1,
              "#f0f921"
             ]
            ],
            "type": "histogram2d"
           }
          ],
          "histogram2dcontour": [
           {
            "colorbar": {
             "outlinewidth": 0,
             "ticks": ""
            },
            "colorscale": [
             [
              0,
              "#0d0887"
             ],
             [
              0.1111111111111111,
              "#46039f"
             ],
             [
              0.2222222222222222,
              "#7201a8"
             ],
             [
              0.3333333333333333,
              "#9c179e"
             ],
             [
              0.4444444444444444,
              "#bd3786"
             ],
             [
              0.5555555555555556,
              "#d8576b"
             ],
             [
              0.6666666666666666,
              "#ed7953"
             ],
             [
              0.7777777777777778,
              "#fb9f3a"
             ],
             [
              0.8888888888888888,
              "#fdca26"
             ],
             [
              1,
              "#f0f921"
             ]
            ],
            "type": "histogram2dcontour"
           }
          ],
          "mesh3d": [
           {
            "colorbar": {
             "outlinewidth": 0,
             "ticks": ""
            },
            "type": "mesh3d"
           }
          ],
          "parcoords": [
           {
            "line": {
             "colorbar": {
              "outlinewidth": 0,
              "ticks": ""
             }
            },
            "type": "parcoords"
           }
          ],
          "pie": [
           {
            "automargin": true,
            "type": "pie"
           }
          ],
          "scatter": [
           {
            "marker": {
             "colorbar": {
              "outlinewidth": 0,
              "ticks": ""
             }
            },
            "type": "scatter"
           }
          ],
          "scatter3d": [
           {
            "line": {
             "colorbar": {
              "outlinewidth": 0,
              "ticks": ""
             }
            },
            "marker": {
             "colorbar": {
              "outlinewidth": 0,
              "ticks": ""
             }
            },
            "type": "scatter3d"
           }
          ],
          "scattercarpet": [
           {
            "marker": {
             "colorbar": {
              "outlinewidth": 0,
              "ticks": ""
             }
            },
            "type": "scattercarpet"
           }
          ],
          "scattergeo": [
           {
            "marker": {
             "colorbar": {
              "outlinewidth": 0,
              "ticks": ""
             }
            },
            "type": "scattergeo"
           }
          ],
          "scattergl": [
           {
            "marker": {
             "colorbar": {
              "outlinewidth": 0,
              "ticks": ""
             }
            },
            "type": "scattergl"
           }
          ],
          "scattermapbox": [
           {
            "marker": {
             "colorbar": {
              "outlinewidth": 0,
              "ticks": ""
             }
            },
            "type": "scattermapbox"
           }
          ],
          "scatterpolar": [
           {
            "marker": {
             "colorbar": {
              "outlinewidth": 0,
              "ticks": ""
             }
            },
            "type": "scatterpolar"
           }
          ],
          "scatterpolargl": [
           {
            "marker": {
             "colorbar": {
              "outlinewidth": 0,
              "ticks": ""
             }
            },
            "type": "scatterpolargl"
           }
          ],
          "scatterternary": [
           {
            "marker": {
             "colorbar": {
              "outlinewidth": 0,
              "ticks": ""
             }
            },
            "type": "scatterternary"
           }
          ],
          "surface": [
           {
            "colorbar": {
             "outlinewidth": 0,
             "ticks": ""
            },
            "colorscale": [
             [
              0,
              "#0d0887"
             ],
             [
              0.1111111111111111,
              "#46039f"
             ],
             [
              0.2222222222222222,
              "#7201a8"
             ],
             [
              0.3333333333333333,
              "#9c179e"
             ],
             [
              0.4444444444444444,
              "#bd3786"
             ],
             [
              0.5555555555555556,
              "#d8576b"
             ],
             [
              0.6666666666666666,
              "#ed7953"
             ],
             [
              0.7777777777777778,
              "#fb9f3a"
             ],
             [
              0.8888888888888888,
              "#fdca26"
             ],
             [
              1,
              "#f0f921"
             ]
            ],
            "type": "surface"
           }
          ],
          "table": [
           {
            "cells": {
             "fill": {
              "color": "#EBF0F8"
             },
             "line": {
              "color": "white"
             }
            },
            "header": {
             "fill": {
              "color": "#C8D4E3"
             },
             "line": {
              "color": "white"
             }
            },
            "type": "table"
           }
          ]
         },
         "layout": {
          "annotationdefaults": {
           "arrowcolor": "#2a3f5f",
           "arrowhead": 0,
           "arrowwidth": 1
          },
          "coloraxis": {
           "colorbar": {
            "outlinewidth": 0,
            "ticks": ""
           }
          },
          "colorscale": {
           "diverging": [
            [
             0,
             "#8e0152"
            ],
            [
             0.1,
             "#c51b7d"
            ],
            [
             0.2,
             "#de77ae"
            ],
            [
             0.3,
             "#f1b6da"
            ],
            [
             0.4,
             "#fde0ef"
            ],
            [
             0.5,
             "#f7f7f7"
            ],
            [
             0.6,
             "#e6f5d0"
            ],
            [
             0.7,
             "#b8e186"
            ],
            [
             0.8,
             "#7fbc41"
            ],
            [
             0.9,
             "#4d9221"
            ],
            [
             1,
             "#276419"
            ]
           ],
           "sequential": [
            [
             0,
             "#0d0887"
            ],
            [
             0.1111111111111111,
             "#46039f"
            ],
            [
             0.2222222222222222,
             "#7201a8"
            ],
            [
             0.3333333333333333,
             "#9c179e"
            ],
            [
             0.4444444444444444,
             "#bd3786"
            ],
            [
             0.5555555555555556,
             "#d8576b"
            ],
            [
             0.6666666666666666,
             "#ed7953"
            ],
            [
             0.7777777777777778,
             "#fb9f3a"
            ],
            [
             0.8888888888888888,
             "#fdca26"
            ],
            [
             1,
             "#f0f921"
            ]
           ],
           "sequentialminus": [
            [
             0,
             "#0d0887"
            ],
            [
             0.1111111111111111,
             "#46039f"
            ],
            [
             0.2222222222222222,
             "#7201a8"
            ],
            [
             0.3333333333333333,
             "#9c179e"
            ],
            [
             0.4444444444444444,
             "#bd3786"
            ],
            [
             0.5555555555555556,
             "#d8576b"
            ],
            [
             0.6666666666666666,
             "#ed7953"
            ],
            [
             0.7777777777777778,
             "#fb9f3a"
            ],
            [
             0.8888888888888888,
             "#fdca26"
            ],
            [
             1,
             "#f0f921"
            ]
           ]
          },
          "colorway": [
           "#636efa",
           "#EF553B",
           "#00cc96",
           "#ab63fa",
           "#FFA15A",
           "#19d3f3",
           "#FF6692",
           "#B6E880",
           "#FF97FF",
           "#FECB52"
          ],
          "font": {
           "color": "#2a3f5f"
          },
          "geo": {
           "bgcolor": "white",
           "lakecolor": "white",
           "landcolor": "#E5ECF6",
           "showlakes": true,
           "showland": true,
           "subunitcolor": "white"
          },
          "hoverlabel": {
           "align": "left"
          },
          "hovermode": "closest",
          "mapbox": {
           "style": "light"
          },
          "paper_bgcolor": "white",
          "plot_bgcolor": "#E5ECF6",
          "polar": {
           "angularaxis": {
            "gridcolor": "white",
            "linecolor": "white",
            "ticks": ""
           },
           "bgcolor": "#E5ECF6",
           "radialaxis": {
            "gridcolor": "white",
            "linecolor": "white",
            "ticks": ""
           }
          },
          "scene": {
           "xaxis": {
            "backgroundcolor": "#E5ECF6",
            "gridcolor": "white",
            "gridwidth": 2,
            "linecolor": "white",
            "showbackground": true,
            "ticks": "",
            "zerolinecolor": "white"
           },
           "yaxis": {
            "backgroundcolor": "#E5ECF6",
            "gridcolor": "white",
            "gridwidth": 2,
            "linecolor": "white",
            "showbackground": true,
            "ticks": "",
            "zerolinecolor": "white"
           },
           "zaxis": {
            "backgroundcolor": "#E5ECF6",
            "gridcolor": "white",
            "gridwidth": 2,
            "linecolor": "white",
            "showbackground": true,
            "ticks": "",
            "zerolinecolor": "white"
           }
          },
          "shapedefaults": {
           "line": {
            "color": "#2a3f5f"
           }
          },
          "ternary": {
           "aaxis": {
            "gridcolor": "white",
            "linecolor": "white",
            "ticks": ""
           },
           "baxis": {
            "gridcolor": "white",
            "linecolor": "white",
            "ticks": ""
           },
           "bgcolor": "#E5ECF6",
           "caxis": {
            "gridcolor": "white",
            "linecolor": "white",
            "ticks": ""
           }
          },
          "title": {
           "x": 0.05
          },
          "xaxis": {
           "automargin": true,
           "gridcolor": "white",
           "linecolor": "white",
           "ticks": "",
           "title": {
            "standoff": 15
           },
           "zerolinecolor": "white",
           "zerolinewidth": 2
          },
          "yaxis": {
           "automargin": true,
           "gridcolor": "white",
           "linecolor": "white",
           "ticks": "",
           "title": {
            "standoff": 15
           },
           "zerolinecolor": "white",
           "zerolinewidth": 2
          }
         }
        }
       }
      },
      "text/html": [
       "<div>\n",
       "        \n",
       "        \n",
       "            <div id=\"2d55c8ed-417f-40f2-b54c-a78249f3d7b9\" class=\"plotly-graph-div\" style=\"height:525px; width:100%;\"></div>\n",
       "            <script type=\"text/javascript\">\n",
       "                require([\"plotly\"], function(Plotly) {\n",
       "                    window.PLOTLYENV=window.PLOTLYENV || {};\n",
       "                    \n",
       "                if (document.getElementById(\"2d55c8ed-417f-40f2-b54c-a78249f3d7b9\")) {\n",
       "                    Plotly.newPlot(\n",
       "                        '2d55c8ed-417f-40f2-b54c-a78249f3d7b9',\n",
       "                        [{\"type\": \"heatmap\", \"z\": [[1.0, 1.0, 0.0, 0.0, 0.0, 0.0, 0.0, 1.0, 0.0, 0.0], [1.0, 1.0, 0.0, 0.0, 0.0, 0.0, 0.0, 0.0, 0.0, 0.0], [1.0, 1.0, 0.0, 0.0, 1.0, 0.0, 0.0, 0.0, 0.0, 0.0], [1.0, 1.0, 0.0, 0.0, 0.0, 0.0, 1.0, 0.0, 0.0, 1.0], [1.0, 1.0, 0.0, 0.0, 0.0, 0.0, 0.0, 0.0, 0.0, 1.0], [1.0, 1.0, 0.0, 0.0, 0.0, 0.0, 0.0, 0.0, 0.0, 1.0], [1.0, 1.0, 0.0, 1.0, 0.0, 1.0, 0.0, 0.0, 0.0, 0.0], [1.0, 0.0, 0.0, 0.0, 0.0, 1.0, 0.0, 0.0, 0.0, 0.0], [1.0, 0.0, 0.0, 0.0, 0.0, 1.0, 0.0, 0.0, 0.0, 0.0], [1.0, 0.0, 0.0, 0.0, 0.0, 0.0, 0.0, 0.0, 0.0, 0.0]]}],\n",
       "                        {\"template\": {\"data\": {\"bar\": [{\"error_x\": {\"color\": \"#2a3f5f\"}, \"error_y\": {\"color\": \"#2a3f5f\"}, \"marker\": {\"line\": {\"color\": \"#E5ECF6\", \"width\": 0.5}}, \"type\": \"bar\"}], \"barpolar\": [{\"marker\": {\"line\": {\"color\": \"#E5ECF6\", \"width\": 0.5}}, \"type\": \"barpolar\"}], \"carpet\": [{\"aaxis\": {\"endlinecolor\": \"#2a3f5f\", \"gridcolor\": \"white\", \"linecolor\": \"white\", \"minorgridcolor\": \"white\", \"startlinecolor\": \"#2a3f5f\"}, \"baxis\": {\"endlinecolor\": \"#2a3f5f\", \"gridcolor\": \"white\", \"linecolor\": \"white\", \"minorgridcolor\": \"white\", \"startlinecolor\": \"#2a3f5f\"}, \"type\": \"carpet\"}], \"choropleth\": [{\"colorbar\": {\"outlinewidth\": 0, \"ticks\": \"\"}, \"type\": \"choropleth\"}], \"contour\": [{\"colorbar\": {\"outlinewidth\": 0, \"ticks\": \"\"}, \"colorscale\": [[0.0, \"#0d0887\"], [0.1111111111111111, \"#46039f\"], [0.2222222222222222, \"#7201a8\"], [0.3333333333333333, \"#9c179e\"], [0.4444444444444444, \"#bd3786\"], [0.5555555555555556, \"#d8576b\"], [0.6666666666666666, \"#ed7953\"], [0.7777777777777778, \"#fb9f3a\"], [0.8888888888888888, \"#fdca26\"], [1.0, \"#f0f921\"]], \"type\": \"contour\"}], \"contourcarpet\": [{\"colorbar\": {\"outlinewidth\": 0, \"ticks\": \"\"}, \"type\": \"contourcarpet\"}], \"heatmap\": [{\"colorbar\": {\"outlinewidth\": 0, \"ticks\": \"\"}, \"colorscale\": [[0.0, \"#0d0887\"], [0.1111111111111111, \"#46039f\"], [0.2222222222222222, \"#7201a8\"], [0.3333333333333333, \"#9c179e\"], [0.4444444444444444, \"#bd3786\"], [0.5555555555555556, \"#d8576b\"], [0.6666666666666666, \"#ed7953\"], [0.7777777777777778, \"#fb9f3a\"], [0.8888888888888888, \"#fdca26\"], [1.0, \"#f0f921\"]], \"type\": \"heatmap\"}], \"heatmapgl\": [{\"colorbar\": {\"outlinewidth\": 0, \"ticks\": \"\"}, \"colorscale\": [[0.0, \"#0d0887\"], [0.1111111111111111, \"#46039f\"], [0.2222222222222222, \"#7201a8\"], [0.3333333333333333, \"#9c179e\"], [0.4444444444444444, \"#bd3786\"], [0.5555555555555556, \"#d8576b\"], [0.6666666666666666, \"#ed7953\"], [0.7777777777777778, \"#fb9f3a\"], [0.8888888888888888, \"#fdca26\"], [1.0, \"#f0f921\"]], \"type\": \"heatmapgl\"}], \"histogram\": [{\"marker\": {\"colorbar\": {\"outlinewidth\": 0, \"ticks\": \"\"}}, \"type\": \"histogram\"}], \"histogram2d\": [{\"colorbar\": {\"outlinewidth\": 0, \"ticks\": \"\"}, \"colorscale\": [[0.0, \"#0d0887\"], [0.1111111111111111, \"#46039f\"], [0.2222222222222222, \"#7201a8\"], [0.3333333333333333, \"#9c179e\"], [0.4444444444444444, \"#bd3786\"], [0.5555555555555556, \"#d8576b\"], [0.6666666666666666, \"#ed7953\"], [0.7777777777777778, \"#fb9f3a\"], [0.8888888888888888, \"#fdca26\"], [1.0, \"#f0f921\"]], \"type\": \"histogram2d\"}], \"histogram2dcontour\": [{\"colorbar\": {\"outlinewidth\": 0, \"ticks\": \"\"}, \"colorscale\": [[0.0, \"#0d0887\"], [0.1111111111111111, \"#46039f\"], [0.2222222222222222, \"#7201a8\"], [0.3333333333333333, \"#9c179e\"], [0.4444444444444444, \"#bd3786\"], [0.5555555555555556, \"#d8576b\"], [0.6666666666666666, \"#ed7953\"], [0.7777777777777778, \"#fb9f3a\"], [0.8888888888888888, \"#fdca26\"], [1.0, \"#f0f921\"]], \"type\": \"histogram2dcontour\"}], \"mesh3d\": [{\"colorbar\": {\"outlinewidth\": 0, \"ticks\": \"\"}, \"type\": \"mesh3d\"}], \"parcoords\": [{\"line\": {\"colorbar\": {\"outlinewidth\": 0, \"ticks\": \"\"}}, \"type\": \"parcoords\"}], \"pie\": [{\"automargin\": true, \"type\": \"pie\"}], \"scatter\": [{\"marker\": {\"colorbar\": {\"outlinewidth\": 0, \"ticks\": \"\"}}, \"type\": \"scatter\"}], \"scatter3d\": [{\"line\": {\"colorbar\": {\"outlinewidth\": 0, \"ticks\": \"\"}}, \"marker\": {\"colorbar\": {\"outlinewidth\": 0, \"ticks\": \"\"}}, \"type\": \"scatter3d\"}], \"scattercarpet\": [{\"marker\": {\"colorbar\": {\"outlinewidth\": 0, \"ticks\": \"\"}}, \"type\": \"scattercarpet\"}], \"scattergeo\": [{\"marker\": {\"colorbar\": {\"outlinewidth\": 0, \"ticks\": \"\"}}, \"type\": \"scattergeo\"}], \"scattergl\": [{\"marker\": {\"colorbar\": {\"outlinewidth\": 0, \"ticks\": \"\"}}, \"type\": \"scattergl\"}], \"scattermapbox\": [{\"marker\": {\"colorbar\": {\"outlinewidth\": 0, \"ticks\": \"\"}}, \"type\": \"scattermapbox\"}], \"scatterpolar\": [{\"marker\": {\"colorbar\": {\"outlinewidth\": 0, \"ticks\": \"\"}}, \"type\": \"scatterpolar\"}], \"scatterpolargl\": [{\"marker\": {\"colorbar\": {\"outlinewidth\": 0, \"ticks\": \"\"}}, \"type\": \"scatterpolargl\"}], \"scatterternary\": [{\"marker\": {\"colorbar\": {\"outlinewidth\": 0, \"ticks\": \"\"}}, \"type\": \"scatterternary\"}], \"surface\": [{\"colorbar\": {\"outlinewidth\": 0, \"ticks\": \"\"}, \"colorscale\": [[0.0, \"#0d0887\"], [0.1111111111111111, \"#46039f\"], [0.2222222222222222, \"#7201a8\"], [0.3333333333333333, \"#9c179e\"], [0.4444444444444444, \"#bd3786\"], [0.5555555555555556, \"#d8576b\"], [0.6666666666666666, \"#ed7953\"], [0.7777777777777778, \"#fb9f3a\"], [0.8888888888888888, \"#fdca26\"], [1.0, \"#f0f921\"]], \"type\": \"surface\"}], \"table\": [{\"cells\": {\"fill\": {\"color\": \"#EBF0F8\"}, \"line\": {\"color\": \"white\"}}, \"header\": {\"fill\": {\"color\": \"#C8D4E3\"}, \"line\": {\"color\": \"white\"}}, \"type\": \"table\"}]}, \"layout\": {\"annotationdefaults\": {\"arrowcolor\": \"#2a3f5f\", \"arrowhead\": 0, \"arrowwidth\": 1}, \"coloraxis\": {\"colorbar\": {\"outlinewidth\": 0, \"ticks\": \"\"}}, \"colorscale\": {\"diverging\": [[0, \"#8e0152\"], [0.1, \"#c51b7d\"], [0.2, \"#de77ae\"], [0.3, \"#f1b6da\"], [0.4, \"#fde0ef\"], [0.5, \"#f7f7f7\"], [0.6, \"#e6f5d0\"], [0.7, \"#b8e186\"], [0.8, \"#7fbc41\"], [0.9, \"#4d9221\"], [1, \"#276419\"]], \"sequential\": [[0.0, \"#0d0887\"], [0.1111111111111111, \"#46039f\"], [0.2222222222222222, \"#7201a8\"], [0.3333333333333333, \"#9c179e\"], [0.4444444444444444, \"#bd3786\"], [0.5555555555555556, \"#d8576b\"], [0.6666666666666666, \"#ed7953\"], [0.7777777777777778, \"#fb9f3a\"], [0.8888888888888888, \"#fdca26\"], [1.0, \"#f0f921\"]], \"sequentialminus\": [[0.0, \"#0d0887\"], [0.1111111111111111, \"#46039f\"], [0.2222222222222222, \"#7201a8\"], [0.3333333333333333, \"#9c179e\"], [0.4444444444444444, \"#bd3786\"], [0.5555555555555556, \"#d8576b\"], [0.6666666666666666, \"#ed7953\"], [0.7777777777777778, \"#fb9f3a\"], [0.8888888888888888, \"#fdca26\"], [1.0, \"#f0f921\"]]}, \"colorway\": [\"#636efa\", \"#EF553B\", \"#00cc96\", \"#ab63fa\", \"#FFA15A\", \"#19d3f3\", \"#FF6692\", \"#B6E880\", \"#FF97FF\", \"#FECB52\"], \"font\": {\"color\": \"#2a3f5f\"}, \"geo\": {\"bgcolor\": \"white\", \"lakecolor\": \"white\", \"landcolor\": \"#E5ECF6\", \"showlakes\": true, \"showland\": true, \"subunitcolor\": \"white\"}, \"hoverlabel\": {\"align\": \"left\"}, \"hovermode\": \"closest\", \"mapbox\": {\"style\": \"light\"}, \"paper_bgcolor\": \"white\", \"plot_bgcolor\": \"#E5ECF6\", \"polar\": {\"angularaxis\": {\"gridcolor\": \"white\", \"linecolor\": \"white\", \"ticks\": \"\"}, \"bgcolor\": \"#E5ECF6\", \"radialaxis\": {\"gridcolor\": \"white\", \"linecolor\": \"white\", \"ticks\": \"\"}}, \"scene\": {\"xaxis\": {\"backgroundcolor\": \"#E5ECF6\", \"gridcolor\": \"white\", \"gridwidth\": 2, \"linecolor\": \"white\", \"showbackground\": true, \"ticks\": \"\", \"zerolinecolor\": \"white\"}, \"yaxis\": {\"backgroundcolor\": \"#E5ECF6\", \"gridcolor\": \"white\", \"gridwidth\": 2, \"linecolor\": \"white\", \"showbackground\": true, \"ticks\": \"\", \"zerolinecolor\": \"white\"}, \"zaxis\": {\"backgroundcolor\": \"#E5ECF6\", \"gridcolor\": \"white\", \"gridwidth\": 2, \"linecolor\": \"white\", \"showbackground\": true, \"ticks\": \"\", \"zerolinecolor\": \"white\"}}, \"shapedefaults\": {\"line\": {\"color\": \"#2a3f5f\"}}, \"ternary\": {\"aaxis\": {\"gridcolor\": \"white\", \"linecolor\": \"white\", \"ticks\": \"\"}, \"baxis\": {\"gridcolor\": \"white\", \"linecolor\": \"white\", \"ticks\": \"\"}, \"bgcolor\": \"#E5ECF6\", \"caxis\": {\"gridcolor\": \"white\", \"linecolor\": \"white\", \"ticks\": \"\"}}, \"title\": {\"x\": 0.05}, \"xaxis\": {\"automargin\": true, \"gridcolor\": \"white\", \"linecolor\": \"white\", \"ticks\": \"\", \"title\": {\"standoff\": 15}, \"zerolinecolor\": \"white\", \"zerolinewidth\": 2}, \"yaxis\": {\"automargin\": true, \"gridcolor\": \"white\", \"linecolor\": \"white\", \"ticks\": \"\", \"title\": {\"standoff\": 15}, \"zerolinecolor\": \"white\", \"zerolinewidth\": 2}}}},\n",
       "                        {\"responsive\": true}\n",
       "                    ).then(function(){\n",
       "                            \n",
       "var gd = document.getElementById('2d55c8ed-417f-40f2-b54c-a78249f3d7b9');\n",
       "var x = new MutationObserver(function (mutations, observer) {{\n",
       "        var display = window.getComputedStyle(gd).display;\n",
       "        if (!display || display === 'none') {{\n",
       "            console.log([gd, 'removed!']);\n",
       "            Plotly.purge(gd);\n",
       "            observer.disconnect();\n",
       "        }}\n",
       "}});\n",
       "\n",
       "// Listen for the removal of the full notebook cells\n",
       "var notebookContainer = gd.closest('#notebook-container');\n",
       "if (notebookContainer) {{\n",
       "    x.observe(notebookContainer, {childList: true});\n",
       "}}\n",
       "\n",
       "// Listen for the clearing of the current output cell\n",
       "var outputEl = gd.closest('.output');\n",
       "if (outputEl) {{\n",
       "    x.observe(outputEl, {childList: true});\n",
       "}}\n",
       "\n",
       "                        })\n",
       "                };\n",
       "                });\n",
       "            </script>\n",
       "        </div>"
      ]
     },
     "metadata": {},
     "output_type": "display_data"
    },
    {
     "name": "stdout",
     "output_type": "stream",
     "text": [
      "Adversarial\n"
     ]
    },
    {
     "data": {
      "application/vnd.plotly.v1+json": {
       "config": {
        "plotlyServerURL": "https://plot.ly"
       },
       "data": [
        {
         "type": "heatmap",
         "z": [
          [
           1,
           0,
           0,
           0,
           1,
           0,
           0,
           1,
           0,
           0
          ],
          [
           1,
           0,
           0,
           0,
           1,
           0,
           0,
           0,
           0,
           0
          ],
          [
           1,
           0,
           0,
           0,
           1,
           0,
           0,
           0,
           0,
           0
          ],
          [
           1,
           0,
           0,
           0,
           0,
           0,
           0,
           0,
           0,
           1
          ],
          [
           1,
           0,
           0,
           0,
           0,
           0,
           0,
           0,
           0,
           1
          ],
          [
           1,
           0,
           0,
           0,
           0,
           0,
           0,
           0,
           0,
           1
          ],
          [
           1,
           0,
           0,
           0,
           0,
           0,
           0,
           0,
           0,
           0
          ],
          [
           1,
           0,
           0,
           0,
           0,
           0,
           0,
           0,
           0,
           0
          ],
          [
           0,
           0,
           0,
           0,
           0,
           0,
           0,
           0,
           0,
           0
          ],
          [
           0,
           0,
           1,
           0,
           0,
           0,
           0,
           0,
           0,
           0
          ]
         ]
        }
       ],
       "layout": {
        "template": {
         "data": {
          "bar": [
           {
            "error_x": {
             "color": "#2a3f5f"
            },
            "error_y": {
             "color": "#2a3f5f"
            },
            "marker": {
             "line": {
              "color": "#E5ECF6",
              "width": 0.5
             }
            },
            "type": "bar"
           }
          ],
          "barpolar": [
           {
            "marker": {
             "line": {
              "color": "#E5ECF6",
              "width": 0.5
             }
            },
            "type": "barpolar"
           }
          ],
          "carpet": [
           {
            "aaxis": {
             "endlinecolor": "#2a3f5f",
             "gridcolor": "white",
             "linecolor": "white",
             "minorgridcolor": "white",
             "startlinecolor": "#2a3f5f"
            },
            "baxis": {
             "endlinecolor": "#2a3f5f",
             "gridcolor": "white",
             "linecolor": "white",
             "minorgridcolor": "white",
             "startlinecolor": "#2a3f5f"
            },
            "type": "carpet"
           }
          ],
          "choropleth": [
           {
            "colorbar": {
             "outlinewidth": 0,
             "ticks": ""
            },
            "type": "choropleth"
           }
          ],
          "contour": [
           {
            "colorbar": {
             "outlinewidth": 0,
             "ticks": ""
            },
            "colorscale": [
             [
              0,
              "#0d0887"
             ],
             [
              0.1111111111111111,
              "#46039f"
             ],
             [
              0.2222222222222222,
              "#7201a8"
             ],
             [
              0.3333333333333333,
              "#9c179e"
             ],
             [
              0.4444444444444444,
              "#bd3786"
             ],
             [
              0.5555555555555556,
              "#d8576b"
             ],
             [
              0.6666666666666666,
              "#ed7953"
             ],
             [
              0.7777777777777778,
              "#fb9f3a"
             ],
             [
              0.8888888888888888,
              "#fdca26"
             ],
             [
              1,
              "#f0f921"
             ]
            ],
            "type": "contour"
           }
          ],
          "contourcarpet": [
           {
            "colorbar": {
             "outlinewidth": 0,
             "ticks": ""
            },
            "type": "contourcarpet"
           }
          ],
          "heatmap": [
           {
            "colorbar": {
             "outlinewidth": 0,
             "ticks": ""
            },
            "colorscale": [
             [
              0,
              "#0d0887"
             ],
             [
              0.1111111111111111,
              "#46039f"
             ],
             [
              0.2222222222222222,
              "#7201a8"
             ],
             [
              0.3333333333333333,
              "#9c179e"
             ],
             [
              0.4444444444444444,
              "#bd3786"
             ],
             [
              0.5555555555555556,
              "#d8576b"
             ],
             [
              0.6666666666666666,
              "#ed7953"
             ],
             [
              0.7777777777777778,
              "#fb9f3a"
             ],
             [
              0.8888888888888888,
              "#fdca26"
             ],
             [
              1,
              "#f0f921"
             ]
            ],
            "type": "heatmap"
           }
          ],
          "heatmapgl": [
           {
            "colorbar": {
             "outlinewidth": 0,
             "ticks": ""
            },
            "colorscale": [
             [
              0,
              "#0d0887"
             ],
             [
              0.1111111111111111,
              "#46039f"
             ],
             [
              0.2222222222222222,
              "#7201a8"
             ],
             [
              0.3333333333333333,
              "#9c179e"
             ],
             [
              0.4444444444444444,
              "#bd3786"
             ],
             [
              0.5555555555555556,
              "#d8576b"
             ],
             [
              0.6666666666666666,
              "#ed7953"
             ],
             [
              0.7777777777777778,
              "#fb9f3a"
             ],
             [
              0.8888888888888888,
              "#fdca26"
             ],
             [
              1,
              "#f0f921"
             ]
            ],
            "type": "heatmapgl"
           }
          ],
          "histogram": [
           {
            "marker": {
             "colorbar": {
              "outlinewidth": 0,
              "ticks": ""
             }
            },
            "type": "histogram"
           }
          ],
          "histogram2d": [
           {
            "colorbar": {
             "outlinewidth": 0,
             "ticks": ""
            },
            "colorscale": [
             [
              0,
              "#0d0887"
             ],
             [
              0.1111111111111111,
              "#46039f"
             ],
             [
              0.2222222222222222,
              "#7201a8"
             ],
             [
              0.3333333333333333,
              "#9c179e"
             ],
             [
              0.4444444444444444,
              "#bd3786"
             ],
             [
              0.5555555555555556,
              "#d8576b"
             ],
             [
              0.6666666666666666,
              "#ed7953"
             ],
             [
              0.7777777777777778,
              "#fb9f3a"
             ],
             [
              0.8888888888888888,
              "#fdca26"
             ],
             [
              1,
              "#f0f921"
             ]
            ],
            "type": "histogram2d"
           }
          ],
          "histogram2dcontour": [
           {
            "colorbar": {
             "outlinewidth": 0,
             "ticks": ""
            },
            "colorscale": [
             [
              0,
              "#0d0887"
             ],
             [
              0.1111111111111111,
              "#46039f"
             ],
             [
              0.2222222222222222,
              "#7201a8"
             ],
             [
              0.3333333333333333,
              "#9c179e"
             ],
             [
              0.4444444444444444,
              "#bd3786"
             ],
             [
              0.5555555555555556,
              "#d8576b"
             ],
             [
              0.6666666666666666,
              "#ed7953"
             ],
             [
              0.7777777777777778,
              "#fb9f3a"
             ],
             [
              0.8888888888888888,
              "#fdca26"
             ],
             [
              1,
              "#f0f921"
             ]
            ],
            "type": "histogram2dcontour"
           }
          ],
          "mesh3d": [
           {
            "colorbar": {
             "outlinewidth": 0,
             "ticks": ""
            },
            "type": "mesh3d"
           }
          ],
          "parcoords": [
           {
            "line": {
             "colorbar": {
              "outlinewidth": 0,
              "ticks": ""
             }
            },
            "type": "parcoords"
           }
          ],
          "pie": [
           {
            "automargin": true,
            "type": "pie"
           }
          ],
          "scatter": [
           {
            "marker": {
             "colorbar": {
              "outlinewidth": 0,
              "ticks": ""
             }
            },
            "type": "scatter"
           }
          ],
          "scatter3d": [
           {
            "line": {
             "colorbar": {
              "outlinewidth": 0,
              "ticks": ""
             }
            },
            "marker": {
             "colorbar": {
              "outlinewidth": 0,
              "ticks": ""
             }
            },
            "type": "scatter3d"
           }
          ],
          "scattercarpet": [
           {
            "marker": {
             "colorbar": {
              "outlinewidth": 0,
              "ticks": ""
             }
            },
            "type": "scattercarpet"
           }
          ],
          "scattergeo": [
           {
            "marker": {
             "colorbar": {
              "outlinewidth": 0,
              "ticks": ""
             }
            },
            "type": "scattergeo"
           }
          ],
          "scattergl": [
           {
            "marker": {
             "colorbar": {
              "outlinewidth": 0,
              "ticks": ""
             }
            },
            "type": "scattergl"
           }
          ],
          "scattermapbox": [
           {
            "marker": {
             "colorbar": {
              "outlinewidth": 0,
              "ticks": ""
             }
            },
            "type": "scattermapbox"
           }
          ],
          "scatterpolar": [
           {
            "marker": {
             "colorbar": {
              "outlinewidth": 0,
              "ticks": ""
             }
            },
            "type": "scatterpolar"
           }
          ],
          "scatterpolargl": [
           {
            "marker": {
             "colorbar": {
              "outlinewidth": 0,
              "ticks": ""
             }
            },
            "type": "scatterpolargl"
           }
          ],
          "scatterternary": [
           {
            "marker": {
             "colorbar": {
              "outlinewidth": 0,
              "ticks": ""
             }
            },
            "type": "scatterternary"
           }
          ],
          "surface": [
           {
            "colorbar": {
             "outlinewidth": 0,
             "ticks": ""
            },
            "colorscale": [
             [
              0,
              "#0d0887"
             ],
             [
              0.1111111111111111,
              "#46039f"
             ],
             [
              0.2222222222222222,
              "#7201a8"
             ],
             [
              0.3333333333333333,
              "#9c179e"
             ],
             [
              0.4444444444444444,
              "#bd3786"
             ],
             [
              0.5555555555555556,
              "#d8576b"
             ],
             [
              0.6666666666666666,
              "#ed7953"
             ],
             [
              0.7777777777777778,
              "#fb9f3a"
             ],
             [
              0.8888888888888888,
              "#fdca26"
             ],
             [
              1,
              "#f0f921"
             ]
            ],
            "type": "surface"
           }
          ],
          "table": [
           {
            "cells": {
             "fill": {
              "color": "#EBF0F8"
             },
             "line": {
              "color": "white"
             }
            },
            "header": {
             "fill": {
              "color": "#C8D4E3"
             },
             "line": {
              "color": "white"
             }
            },
            "type": "table"
           }
          ]
         },
         "layout": {
          "annotationdefaults": {
           "arrowcolor": "#2a3f5f",
           "arrowhead": 0,
           "arrowwidth": 1
          },
          "coloraxis": {
           "colorbar": {
            "outlinewidth": 0,
            "ticks": ""
           }
          },
          "colorscale": {
           "diverging": [
            [
             0,
             "#8e0152"
            ],
            [
             0.1,
             "#c51b7d"
            ],
            [
             0.2,
             "#de77ae"
            ],
            [
             0.3,
             "#f1b6da"
            ],
            [
             0.4,
             "#fde0ef"
            ],
            [
             0.5,
             "#f7f7f7"
            ],
            [
             0.6,
             "#e6f5d0"
            ],
            [
             0.7,
             "#b8e186"
            ],
            [
             0.8,
             "#7fbc41"
            ],
            [
             0.9,
             "#4d9221"
            ],
            [
             1,
             "#276419"
            ]
           ],
           "sequential": [
            [
             0,
             "#0d0887"
            ],
            [
             0.1111111111111111,
             "#46039f"
            ],
            [
             0.2222222222222222,
             "#7201a8"
            ],
            [
             0.3333333333333333,
             "#9c179e"
            ],
            [
             0.4444444444444444,
             "#bd3786"
            ],
            [
             0.5555555555555556,
             "#d8576b"
            ],
            [
             0.6666666666666666,
             "#ed7953"
            ],
            [
             0.7777777777777778,
             "#fb9f3a"
            ],
            [
             0.8888888888888888,
             "#fdca26"
            ],
            [
             1,
             "#f0f921"
            ]
           ],
           "sequentialminus": [
            [
             0,
             "#0d0887"
            ],
            [
             0.1111111111111111,
             "#46039f"
            ],
            [
             0.2222222222222222,
             "#7201a8"
            ],
            [
             0.3333333333333333,
             "#9c179e"
            ],
            [
             0.4444444444444444,
             "#bd3786"
            ],
            [
             0.5555555555555556,
             "#d8576b"
            ],
            [
             0.6666666666666666,
             "#ed7953"
            ],
            [
             0.7777777777777778,
             "#fb9f3a"
            ],
            [
             0.8888888888888888,
             "#fdca26"
            ],
            [
             1,
             "#f0f921"
            ]
           ]
          },
          "colorway": [
           "#636efa",
           "#EF553B",
           "#00cc96",
           "#ab63fa",
           "#FFA15A",
           "#19d3f3",
           "#FF6692",
           "#B6E880",
           "#FF97FF",
           "#FECB52"
          ],
          "font": {
           "color": "#2a3f5f"
          },
          "geo": {
           "bgcolor": "white",
           "lakecolor": "white",
           "landcolor": "#E5ECF6",
           "showlakes": true,
           "showland": true,
           "subunitcolor": "white"
          },
          "hoverlabel": {
           "align": "left"
          },
          "hovermode": "closest",
          "mapbox": {
           "style": "light"
          },
          "paper_bgcolor": "white",
          "plot_bgcolor": "#E5ECF6",
          "polar": {
           "angularaxis": {
            "gridcolor": "white",
            "linecolor": "white",
            "ticks": ""
           },
           "bgcolor": "#E5ECF6",
           "radialaxis": {
            "gridcolor": "white",
            "linecolor": "white",
            "ticks": ""
           }
          },
          "scene": {
           "xaxis": {
            "backgroundcolor": "#E5ECF6",
            "gridcolor": "white",
            "gridwidth": 2,
            "linecolor": "white",
            "showbackground": true,
            "ticks": "",
            "zerolinecolor": "white"
           },
           "yaxis": {
            "backgroundcolor": "#E5ECF6",
            "gridcolor": "white",
            "gridwidth": 2,
            "linecolor": "white",
            "showbackground": true,
            "ticks": "",
            "zerolinecolor": "white"
           },
           "zaxis": {
            "backgroundcolor": "#E5ECF6",
            "gridcolor": "white",
            "gridwidth": 2,
            "linecolor": "white",
            "showbackground": true,
            "ticks": "",
            "zerolinecolor": "white"
           }
          },
          "shapedefaults": {
           "line": {
            "color": "#2a3f5f"
           }
          },
          "ternary": {
           "aaxis": {
            "gridcolor": "white",
            "linecolor": "white",
            "ticks": ""
           },
           "baxis": {
            "gridcolor": "white",
            "linecolor": "white",
            "ticks": ""
           },
           "bgcolor": "#E5ECF6",
           "caxis": {
            "gridcolor": "white",
            "linecolor": "white",
            "ticks": ""
           }
          },
          "title": {
           "x": 0.05
          },
          "xaxis": {
           "automargin": true,
           "gridcolor": "white",
           "linecolor": "white",
           "ticks": "",
           "title": {
            "standoff": 15
           },
           "zerolinecolor": "white",
           "zerolinewidth": 2
          },
          "yaxis": {
           "automargin": true,
           "gridcolor": "white",
           "linecolor": "white",
           "ticks": "",
           "title": {
            "standoff": 15
           },
           "zerolinecolor": "white",
           "zerolinewidth": 2
          }
         }
        }
       }
      },
      "text/html": [
       "<div>\n",
       "        \n",
       "        \n",
       "            <div id=\"475f17e5-32bc-4fb5-b198-cbf22746182f\" class=\"plotly-graph-div\" style=\"height:525px; width:100%;\"></div>\n",
       "            <script type=\"text/javascript\">\n",
       "                require([\"plotly\"], function(Plotly) {\n",
       "                    window.PLOTLYENV=window.PLOTLYENV || {};\n",
       "                    \n",
       "                if (document.getElementById(\"475f17e5-32bc-4fb5-b198-cbf22746182f\")) {\n",
       "                    Plotly.newPlot(\n",
       "                        '475f17e5-32bc-4fb5-b198-cbf22746182f',\n",
       "                        [{\"type\": \"heatmap\", \"z\": [[1.0, 0.0, 0.0, 0.0, 1.0, 0.0, 0.0, 1.0, 0.0, 0.0], [1.0, 0.0, 0.0, 0.0, 1.0, 0.0, 0.0, 0.0, 0.0, 0.0], [1.0, 0.0, 0.0, 0.0, 1.0, 0.0, 0.0, 0.0, 0.0, 0.0], [1.0, 0.0, 0.0, 0.0, 0.0, 0.0, 0.0, 0.0, 0.0, 1.0], [1.0, 0.0, 0.0, 0.0, 0.0, 0.0, 0.0, 0.0, 0.0, 1.0], [1.0, 0.0, 0.0, 0.0, 0.0, 0.0, 0.0, 0.0, 0.0, 1.0], [1.0, 0.0, 0.0, 0.0, 0.0, 0.0, 0.0, 0.0, 0.0, 0.0], [1.0, 0.0, 0.0, 0.0, 0.0, 0.0, 0.0, 0.0, 0.0, 0.0], [0.0, 0.0, 0.0, 0.0, 0.0, 0.0, 0.0, 0.0, 0.0, 0.0], [0.0, 0.0, 1.0, 0.0, 0.0, 0.0, 0.0, 0.0, 0.0, 0.0]]}],\n",
       "                        {\"template\": {\"data\": {\"bar\": [{\"error_x\": {\"color\": \"#2a3f5f\"}, \"error_y\": {\"color\": \"#2a3f5f\"}, \"marker\": {\"line\": {\"color\": \"#E5ECF6\", \"width\": 0.5}}, \"type\": \"bar\"}], \"barpolar\": [{\"marker\": {\"line\": {\"color\": \"#E5ECF6\", \"width\": 0.5}}, \"type\": \"barpolar\"}], \"carpet\": [{\"aaxis\": {\"endlinecolor\": \"#2a3f5f\", \"gridcolor\": \"white\", \"linecolor\": \"white\", \"minorgridcolor\": \"white\", \"startlinecolor\": \"#2a3f5f\"}, \"baxis\": {\"endlinecolor\": \"#2a3f5f\", \"gridcolor\": \"white\", \"linecolor\": \"white\", \"minorgridcolor\": \"white\", \"startlinecolor\": \"#2a3f5f\"}, \"type\": \"carpet\"}], \"choropleth\": [{\"colorbar\": {\"outlinewidth\": 0, \"ticks\": \"\"}, \"type\": \"choropleth\"}], \"contour\": [{\"colorbar\": {\"outlinewidth\": 0, \"ticks\": \"\"}, \"colorscale\": [[0.0, \"#0d0887\"], [0.1111111111111111, \"#46039f\"], [0.2222222222222222, \"#7201a8\"], [0.3333333333333333, \"#9c179e\"], [0.4444444444444444, \"#bd3786\"], [0.5555555555555556, \"#d8576b\"], [0.6666666666666666, \"#ed7953\"], [0.7777777777777778, \"#fb9f3a\"], [0.8888888888888888, \"#fdca26\"], [1.0, \"#f0f921\"]], \"type\": \"contour\"}], \"contourcarpet\": [{\"colorbar\": {\"outlinewidth\": 0, \"ticks\": \"\"}, \"type\": \"contourcarpet\"}], \"heatmap\": [{\"colorbar\": {\"outlinewidth\": 0, \"ticks\": \"\"}, \"colorscale\": [[0.0, \"#0d0887\"], [0.1111111111111111, \"#46039f\"], [0.2222222222222222, \"#7201a8\"], [0.3333333333333333, \"#9c179e\"], [0.4444444444444444, \"#bd3786\"], [0.5555555555555556, \"#d8576b\"], [0.6666666666666666, \"#ed7953\"], [0.7777777777777778, \"#fb9f3a\"], [0.8888888888888888, \"#fdca26\"], [1.0, \"#f0f921\"]], \"type\": \"heatmap\"}], \"heatmapgl\": [{\"colorbar\": {\"outlinewidth\": 0, \"ticks\": \"\"}, \"colorscale\": [[0.0, \"#0d0887\"], [0.1111111111111111, \"#46039f\"], [0.2222222222222222, \"#7201a8\"], [0.3333333333333333, \"#9c179e\"], [0.4444444444444444, \"#bd3786\"], [0.5555555555555556, \"#d8576b\"], [0.6666666666666666, \"#ed7953\"], [0.7777777777777778, \"#fb9f3a\"], [0.8888888888888888, \"#fdca26\"], [1.0, \"#f0f921\"]], \"type\": \"heatmapgl\"}], \"histogram\": [{\"marker\": {\"colorbar\": {\"outlinewidth\": 0, \"ticks\": \"\"}}, \"type\": \"histogram\"}], \"histogram2d\": [{\"colorbar\": {\"outlinewidth\": 0, \"ticks\": \"\"}, \"colorscale\": [[0.0, \"#0d0887\"], [0.1111111111111111, \"#46039f\"], [0.2222222222222222, \"#7201a8\"], [0.3333333333333333, \"#9c179e\"], [0.4444444444444444, \"#bd3786\"], [0.5555555555555556, \"#d8576b\"], [0.6666666666666666, \"#ed7953\"], [0.7777777777777778, \"#fb9f3a\"], [0.8888888888888888, \"#fdca26\"], [1.0, \"#f0f921\"]], \"type\": \"histogram2d\"}], \"histogram2dcontour\": [{\"colorbar\": {\"outlinewidth\": 0, \"ticks\": \"\"}, \"colorscale\": [[0.0, \"#0d0887\"], [0.1111111111111111, \"#46039f\"], [0.2222222222222222, \"#7201a8\"], [0.3333333333333333, \"#9c179e\"], [0.4444444444444444, \"#bd3786\"], [0.5555555555555556, \"#d8576b\"], [0.6666666666666666, \"#ed7953\"], [0.7777777777777778, \"#fb9f3a\"], [0.8888888888888888, \"#fdca26\"], [1.0, \"#f0f921\"]], \"type\": \"histogram2dcontour\"}], \"mesh3d\": [{\"colorbar\": {\"outlinewidth\": 0, \"ticks\": \"\"}, \"type\": \"mesh3d\"}], \"parcoords\": [{\"line\": {\"colorbar\": {\"outlinewidth\": 0, \"ticks\": \"\"}}, \"type\": \"parcoords\"}], \"pie\": [{\"automargin\": true, \"type\": \"pie\"}], \"scatter\": [{\"marker\": {\"colorbar\": {\"outlinewidth\": 0, \"ticks\": \"\"}}, \"type\": \"scatter\"}], \"scatter3d\": [{\"line\": {\"colorbar\": {\"outlinewidth\": 0, \"ticks\": \"\"}}, \"marker\": {\"colorbar\": {\"outlinewidth\": 0, \"ticks\": \"\"}}, \"type\": \"scatter3d\"}], \"scattercarpet\": [{\"marker\": {\"colorbar\": {\"outlinewidth\": 0, \"ticks\": \"\"}}, \"type\": \"scattercarpet\"}], \"scattergeo\": [{\"marker\": {\"colorbar\": {\"outlinewidth\": 0, \"ticks\": \"\"}}, \"type\": \"scattergeo\"}], \"scattergl\": [{\"marker\": {\"colorbar\": {\"outlinewidth\": 0, \"ticks\": \"\"}}, \"type\": \"scattergl\"}], \"scattermapbox\": [{\"marker\": {\"colorbar\": {\"outlinewidth\": 0, \"ticks\": \"\"}}, \"type\": \"scattermapbox\"}], \"scatterpolar\": [{\"marker\": {\"colorbar\": {\"outlinewidth\": 0, \"ticks\": \"\"}}, \"type\": \"scatterpolar\"}], \"scatterpolargl\": [{\"marker\": {\"colorbar\": {\"outlinewidth\": 0, \"ticks\": \"\"}}, \"type\": \"scatterpolargl\"}], \"scatterternary\": [{\"marker\": {\"colorbar\": {\"outlinewidth\": 0, \"ticks\": \"\"}}, \"type\": \"scatterternary\"}], \"surface\": [{\"colorbar\": {\"outlinewidth\": 0, \"ticks\": \"\"}, \"colorscale\": [[0.0, \"#0d0887\"], [0.1111111111111111, \"#46039f\"], [0.2222222222222222, \"#7201a8\"], [0.3333333333333333, \"#9c179e\"], [0.4444444444444444, \"#bd3786\"], [0.5555555555555556, \"#d8576b\"], [0.6666666666666666, \"#ed7953\"], [0.7777777777777778, \"#fb9f3a\"], [0.8888888888888888, \"#fdca26\"], [1.0, \"#f0f921\"]], \"type\": \"surface\"}], \"table\": [{\"cells\": {\"fill\": {\"color\": \"#EBF0F8\"}, \"line\": {\"color\": \"white\"}}, \"header\": {\"fill\": {\"color\": \"#C8D4E3\"}, \"line\": {\"color\": \"white\"}}, \"type\": \"table\"}]}, \"layout\": {\"annotationdefaults\": {\"arrowcolor\": \"#2a3f5f\", \"arrowhead\": 0, \"arrowwidth\": 1}, \"coloraxis\": {\"colorbar\": {\"outlinewidth\": 0, \"ticks\": \"\"}}, \"colorscale\": {\"diverging\": [[0, \"#8e0152\"], [0.1, \"#c51b7d\"], [0.2, \"#de77ae\"], [0.3, \"#f1b6da\"], [0.4, \"#fde0ef\"], [0.5, \"#f7f7f7\"], [0.6, \"#e6f5d0\"], [0.7, \"#b8e186\"], [0.8, \"#7fbc41\"], [0.9, \"#4d9221\"], [1, \"#276419\"]], \"sequential\": [[0.0, \"#0d0887\"], [0.1111111111111111, \"#46039f\"], [0.2222222222222222, \"#7201a8\"], [0.3333333333333333, \"#9c179e\"], [0.4444444444444444, \"#bd3786\"], [0.5555555555555556, \"#d8576b\"], [0.6666666666666666, \"#ed7953\"], [0.7777777777777778, \"#fb9f3a\"], [0.8888888888888888, \"#fdca26\"], [1.0, \"#f0f921\"]], \"sequentialminus\": [[0.0, \"#0d0887\"], [0.1111111111111111, \"#46039f\"], [0.2222222222222222, \"#7201a8\"], [0.3333333333333333, \"#9c179e\"], [0.4444444444444444, \"#bd3786\"], [0.5555555555555556, \"#d8576b\"], [0.6666666666666666, \"#ed7953\"], [0.7777777777777778, \"#fb9f3a\"], [0.8888888888888888, \"#fdca26\"], [1.0, \"#f0f921\"]]}, \"colorway\": [\"#636efa\", \"#EF553B\", \"#00cc96\", \"#ab63fa\", \"#FFA15A\", \"#19d3f3\", \"#FF6692\", \"#B6E880\", \"#FF97FF\", \"#FECB52\"], \"font\": {\"color\": \"#2a3f5f\"}, \"geo\": {\"bgcolor\": \"white\", \"lakecolor\": \"white\", \"landcolor\": \"#E5ECF6\", \"showlakes\": true, \"showland\": true, \"subunitcolor\": \"white\"}, \"hoverlabel\": {\"align\": \"left\"}, \"hovermode\": \"closest\", \"mapbox\": {\"style\": \"light\"}, \"paper_bgcolor\": \"white\", \"plot_bgcolor\": \"#E5ECF6\", \"polar\": {\"angularaxis\": {\"gridcolor\": \"white\", \"linecolor\": \"white\", \"ticks\": \"\"}, \"bgcolor\": \"#E5ECF6\", \"radialaxis\": {\"gridcolor\": \"white\", \"linecolor\": \"white\", \"ticks\": \"\"}}, \"scene\": {\"xaxis\": {\"backgroundcolor\": \"#E5ECF6\", \"gridcolor\": \"white\", \"gridwidth\": 2, \"linecolor\": \"white\", \"showbackground\": true, \"ticks\": \"\", \"zerolinecolor\": \"white\"}, \"yaxis\": {\"backgroundcolor\": \"#E5ECF6\", \"gridcolor\": \"white\", \"gridwidth\": 2, \"linecolor\": \"white\", \"showbackground\": true, \"ticks\": \"\", \"zerolinecolor\": \"white\"}, \"zaxis\": {\"backgroundcolor\": \"#E5ECF6\", \"gridcolor\": \"white\", \"gridwidth\": 2, \"linecolor\": \"white\", \"showbackground\": true, \"ticks\": \"\", \"zerolinecolor\": \"white\"}}, \"shapedefaults\": {\"line\": {\"color\": \"#2a3f5f\"}}, \"ternary\": {\"aaxis\": {\"gridcolor\": \"white\", \"linecolor\": \"white\", \"ticks\": \"\"}, \"baxis\": {\"gridcolor\": \"white\", \"linecolor\": \"white\", \"ticks\": \"\"}, \"bgcolor\": \"#E5ECF6\", \"caxis\": {\"gridcolor\": \"white\", \"linecolor\": \"white\", \"ticks\": \"\"}}, \"title\": {\"x\": 0.05}, \"xaxis\": {\"automargin\": true, \"gridcolor\": \"white\", \"linecolor\": \"white\", \"ticks\": \"\", \"title\": {\"standoff\": 15}, \"zerolinecolor\": \"white\", \"zerolinewidth\": 2}, \"yaxis\": {\"automargin\": true, \"gridcolor\": \"white\", \"linecolor\": \"white\", \"ticks\": \"\", \"title\": {\"standoff\": 15}, \"zerolinecolor\": \"white\", \"zerolinewidth\": 2}}}},\n",
       "                        {\"responsive\": true}\n",
       "                    ).then(function(){\n",
       "                            \n",
       "var gd = document.getElementById('475f17e5-32bc-4fb5-b198-cbf22746182f');\n",
       "var x = new MutationObserver(function (mutations, observer) {{\n",
       "        var display = window.getComputedStyle(gd).display;\n",
       "        if (!display || display === 'none') {{\n",
       "            console.log([gd, 'removed!']);\n",
       "            Plotly.purge(gd);\n",
       "            observer.disconnect();\n",
       "        }}\n",
       "}});\n",
       "\n",
       "// Listen for the removal of the full notebook cells\n",
       "var notebookContainer = gd.closest('#notebook-container');\n",
       "if (notebookContainer) {{\n",
       "    x.observe(notebookContainer, {childList: true});\n",
       "}}\n",
       "\n",
       "// Listen for the clearing of the current output cell\n",
       "var outputEl = gd.closest('.output');\n",
       "if (outputEl) {{\n",
       "    x.observe(outputEl, {childList: true});\n",
       "}}\n",
       "\n",
       "                        })\n",
       "                };\n",
       "                });\n",
       "            </script>\n",
       "        </div>"
      ]
     },
     "metadata": {},
     "output_type": "display_data"
    },
    {
     "name": "stdout",
     "output_type": "stream",
     "text": [
      "LQR\n"
     ]
    },
    {
     "data": {
      "application/vnd.plotly.v1+json": {
       "config": {
        "plotlyServerURL": "https://plot.ly"
       },
       "data": [
        {
         "type": "heatmap",
         "z": [
          [
           0,
           0,
           0,
           0,
           0,
           0,
           0,
           0,
           0,
           0
          ],
          [
           0,
           0,
           0,
           0,
           0,
           0,
           0,
           0,
           0,
           0
          ],
          [
           0,
           0,
           0,
           0,
           1,
           0,
           0,
           0,
           0,
           0
          ],
          [
           0,
           0,
           0,
           0,
           0,
           0,
           0,
           0,
           0,
           0
          ],
          [
           1,
           0,
           0,
           0,
           0,
           0,
           0,
           0,
           0,
           1
          ],
          [
           1,
           0,
           0,
           0,
           0,
           0,
           0,
           0,
           0,
           1
          ],
          [
           0,
           0,
           0,
           0,
           0,
           0,
           0,
           0,
           0,
           0
          ],
          [
           0,
           0,
           0,
           0,
           0,
           1,
           0,
           0,
           0,
           0
          ],
          [
           0,
           0,
           0,
           0,
           0,
           0,
           0,
           0,
           0,
           0
          ],
          [
           0,
           0,
           0,
           0,
           0,
           0,
           0,
           0,
           0,
           0
          ]
         ]
        }
       ],
       "layout": {
        "template": {
         "data": {
          "bar": [
           {
            "error_x": {
             "color": "#2a3f5f"
            },
            "error_y": {
             "color": "#2a3f5f"
            },
            "marker": {
             "line": {
              "color": "#E5ECF6",
              "width": 0.5
             }
            },
            "type": "bar"
           }
          ],
          "barpolar": [
           {
            "marker": {
             "line": {
              "color": "#E5ECF6",
              "width": 0.5
             }
            },
            "type": "barpolar"
           }
          ],
          "carpet": [
           {
            "aaxis": {
             "endlinecolor": "#2a3f5f",
             "gridcolor": "white",
             "linecolor": "white",
             "minorgridcolor": "white",
             "startlinecolor": "#2a3f5f"
            },
            "baxis": {
             "endlinecolor": "#2a3f5f",
             "gridcolor": "white",
             "linecolor": "white",
             "minorgridcolor": "white",
             "startlinecolor": "#2a3f5f"
            },
            "type": "carpet"
           }
          ],
          "choropleth": [
           {
            "colorbar": {
             "outlinewidth": 0,
             "ticks": ""
            },
            "type": "choropleth"
           }
          ],
          "contour": [
           {
            "colorbar": {
             "outlinewidth": 0,
             "ticks": ""
            },
            "colorscale": [
             [
              0,
              "#0d0887"
             ],
             [
              0.1111111111111111,
              "#46039f"
             ],
             [
              0.2222222222222222,
              "#7201a8"
             ],
             [
              0.3333333333333333,
              "#9c179e"
             ],
             [
              0.4444444444444444,
              "#bd3786"
             ],
             [
              0.5555555555555556,
              "#d8576b"
             ],
             [
              0.6666666666666666,
              "#ed7953"
             ],
             [
              0.7777777777777778,
              "#fb9f3a"
             ],
             [
              0.8888888888888888,
              "#fdca26"
             ],
             [
              1,
              "#f0f921"
             ]
            ],
            "type": "contour"
           }
          ],
          "contourcarpet": [
           {
            "colorbar": {
             "outlinewidth": 0,
             "ticks": ""
            },
            "type": "contourcarpet"
           }
          ],
          "heatmap": [
           {
            "colorbar": {
             "outlinewidth": 0,
             "ticks": ""
            },
            "colorscale": [
             [
              0,
              "#0d0887"
             ],
             [
              0.1111111111111111,
              "#46039f"
             ],
             [
              0.2222222222222222,
              "#7201a8"
             ],
             [
              0.3333333333333333,
              "#9c179e"
             ],
             [
              0.4444444444444444,
              "#bd3786"
             ],
             [
              0.5555555555555556,
              "#d8576b"
             ],
             [
              0.6666666666666666,
              "#ed7953"
             ],
             [
              0.7777777777777778,
              "#fb9f3a"
             ],
             [
              0.8888888888888888,
              "#fdca26"
             ],
             [
              1,
              "#f0f921"
             ]
            ],
            "type": "heatmap"
           }
          ],
          "heatmapgl": [
           {
            "colorbar": {
             "outlinewidth": 0,
             "ticks": ""
            },
            "colorscale": [
             [
              0,
              "#0d0887"
             ],
             [
              0.1111111111111111,
              "#46039f"
             ],
             [
              0.2222222222222222,
              "#7201a8"
             ],
             [
              0.3333333333333333,
              "#9c179e"
             ],
             [
              0.4444444444444444,
              "#bd3786"
             ],
             [
              0.5555555555555556,
              "#d8576b"
             ],
             [
              0.6666666666666666,
              "#ed7953"
             ],
             [
              0.7777777777777778,
              "#fb9f3a"
             ],
             [
              0.8888888888888888,
              "#fdca26"
             ],
             [
              1,
              "#f0f921"
             ]
            ],
            "type": "heatmapgl"
           }
          ],
          "histogram": [
           {
            "marker": {
             "colorbar": {
              "outlinewidth": 0,
              "ticks": ""
             }
            },
            "type": "histogram"
           }
          ],
          "histogram2d": [
           {
            "colorbar": {
             "outlinewidth": 0,
             "ticks": ""
            },
            "colorscale": [
             [
              0,
              "#0d0887"
             ],
             [
              0.1111111111111111,
              "#46039f"
             ],
             [
              0.2222222222222222,
              "#7201a8"
             ],
             [
              0.3333333333333333,
              "#9c179e"
             ],
             [
              0.4444444444444444,
              "#bd3786"
             ],
             [
              0.5555555555555556,
              "#d8576b"
             ],
             [
              0.6666666666666666,
              "#ed7953"
             ],
             [
              0.7777777777777778,
              "#fb9f3a"
             ],
             [
              0.8888888888888888,
              "#fdca26"
             ],
             [
              1,
              "#f0f921"
             ]
            ],
            "type": "histogram2d"
           }
          ],
          "histogram2dcontour": [
           {
            "colorbar": {
             "outlinewidth": 0,
             "ticks": ""
            },
            "colorscale": [
             [
              0,
              "#0d0887"
             ],
             [
              0.1111111111111111,
              "#46039f"
             ],
             [
              0.2222222222222222,
              "#7201a8"
             ],
             [
              0.3333333333333333,
              "#9c179e"
             ],
             [
              0.4444444444444444,
              "#bd3786"
             ],
             [
              0.5555555555555556,
              "#d8576b"
             ],
             [
              0.6666666666666666,
              "#ed7953"
             ],
             [
              0.7777777777777778,
              "#fb9f3a"
             ],
             [
              0.8888888888888888,
              "#fdca26"
             ],
             [
              1,
              "#f0f921"
             ]
            ],
            "type": "histogram2dcontour"
           }
          ],
          "mesh3d": [
           {
            "colorbar": {
             "outlinewidth": 0,
             "ticks": ""
            },
            "type": "mesh3d"
           }
          ],
          "parcoords": [
           {
            "line": {
             "colorbar": {
              "outlinewidth": 0,
              "ticks": ""
             }
            },
            "type": "parcoords"
           }
          ],
          "pie": [
           {
            "automargin": true,
            "type": "pie"
           }
          ],
          "scatter": [
           {
            "marker": {
             "colorbar": {
              "outlinewidth": 0,
              "ticks": ""
             }
            },
            "type": "scatter"
           }
          ],
          "scatter3d": [
           {
            "line": {
             "colorbar": {
              "outlinewidth": 0,
              "ticks": ""
             }
            },
            "marker": {
             "colorbar": {
              "outlinewidth": 0,
              "ticks": ""
             }
            },
            "type": "scatter3d"
           }
          ],
          "scattercarpet": [
           {
            "marker": {
             "colorbar": {
              "outlinewidth": 0,
              "ticks": ""
             }
            },
            "type": "scattercarpet"
           }
          ],
          "scattergeo": [
           {
            "marker": {
             "colorbar": {
              "outlinewidth": 0,
              "ticks": ""
             }
            },
            "type": "scattergeo"
           }
          ],
          "scattergl": [
           {
            "marker": {
             "colorbar": {
              "outlinewidth": 0,
              "ticks": ""
             }
            },
            "type": "scattergl"
           }
          ],
          "scattermapbox": [
           {
            "marker": {
             "colorbar": {
              "outlinewidth": 0,
              "ticks": ""
             }
            },
            "type": "scattermapbox"
           }
          ],
          "scatterpolar": [
           {
            "marker": {
             "colorbar": {
              "outlinewidth": 0,
              "ticks": ""
             }
            },
            "type": "scatterpolar"
           }
          ],
          "scatterpolargl": [
           {
            "marker": {
             "colorbar": {
              "outlinewidth": 0,
              "ticks": ""
             }
            },
            "type": "scatterpolargl"
           }
          ],
          "scatterternary": [
           {
            "marker": {
             "colorbar": {
              "outlinewidth": 0,
              "ticks": ""
             }
            },
            "type": "scatterternary"
           }
          ],
          "surface": [
           {
            "colorbar": {
             "outlinewidth": 0,
             "ticks": ""
            },
            "colorscale": [
             [
              0,
              "#0d0887"
             ],
             [
              0.1111111111111111,
              "#46039f"
             ],
             [
              0.2222222222222222,
              "#7201a8"
             ],
             [
              0.3333333333333333,
              "#9c179e"
             ],
             [
              0.4444444444444444,
              "#bd3786"
             ],
             [
              0.5555555555555556,
              "#d8576b"
             ],
             [
              0.6666666666666666,
              "#ed7953"
             ],
             [
              0.7777777777777778,
              "#fb9f3a"
             ],
             [
              0.8888888888888888,
              "#fdca26"
             ],
             [
              1,
              "#f0f921"
             ]
            ],
            "type": "surface"
           }
          ],
          "table": [
           {
            "cells": {
             "fill": {
              "color": "#EBF0F8"
             },
             "line": {
              "color": "white"
             }
            },
            "header": {
             "fill": {
              "color": "#C8D4E3"
             },
             "line": {
              "color": "white"
             }
            },
            "type": "table"
           }
          ]
         },
         "layout": {
          "annotationdefaults": {
           "arrowcolor": "#2a3f5f",
           "arrowhead": 0,
           "arrowwidth": 1
          },
          "coloraxis": {
           "colorbar": {
            "outlinewidth": 0,
            "ticks": ""
           }
          },
          "colorscale": {
           "diverging": [
            [
             0,
             "#8e0152"
            ],
            [
             0.1,
             "#c51b7d"
            ],
            [
             0.2,
             "#de77ae"
            ],
            [
             0.3,
             "#f1b6da"
            ],
            [
             0.4,
             "#fde0ef"
            ],
            [
             0.5,
             "#f7f7f7"
            ],
            [
             0.6,
             "#e6f5d0"
            ],
            [
             0.7,
             "#b8e186"
            ],
            [
             0.8,
             "#7fbc41"
            ],
            [
             0.9,
             "#4d9221"
            ],
            [
             1,
             "#276419"
            ]
           ],
           "sequential": [
            [
             0,
             "#0d0887"
            ],
            [
             0.1111111111111111,
             "#46039f"
            ],
            [
             0.2222222222222222,
             "#7201a8"
            ],
            [
             0.3333333333333333,
             "#9c179e"
            ],
            [
             0.4444444444444444,
             "#bd3786"
            ],
            [
             0.5555555555555556,
             "#d8576b"
            ],
            [
             0.6666666666666666,
             "#ed7953"
            ],
            [
             0.7777777777777778,
             "#fb9f3a"
            ],
            [
             0.8888888888888888,
             "#fdca26"
            ],
            [
             1,
             "#f0f921"
            ]
           ],
           "sequentialminus": [
            [
             0,
             "#0d0887"
            ],
            [
             0.1111111111111111,
             "#46039f"
            ],
            [
             0.2222222222222222,
             "#7201a8"
            ],
            [
             0.3333333333333333,
             "#9c179e"
            ],
            [
             0.4444444444444444,
             "#bd3786"
            ],
            [
             0.5555555555555556,
             "#d8576b"
            ],
            [
             0.6666666666666666,
             "#ed7953"
            ],
            [
             0.7777777777777778,
             "#fb9f3a"
            ],
            [
             0.8888888888888888,
             "#fdca26"
            ],
            [
             1,
             "#f0f921"
            ]
           ]
          },
          "colorway": [
           "#636efa",
           "#EF553B",
           "#00cc96",
           "#ab63fa",
           "#FFA15A",
           "#19d3f3",
           "#FF6692",
           "#B6E880",
           "#FF97FF",
           "#FECB52"
          ],
          "font": {
           "color": "#2a3f5f"
          },
          "geo": {
           "bgcolor": "white",
           "lakecolor": "white",
           "landcolor": "#E5ECF6",
           "showlakes": true,
           "showland": true,
           "subunitcolor": "white"
          },
          "hoverlabel": {
           "align": "left"
          },
          "hovermode": "closest",
          "mapbox": {
           "style": "light"
          },
          "paper_bgcolor": "white",
          "plot_bgcolor": "#E5ECF6",
          "polar": {
           "angularaxis": {
            "gridcolor": "white",
            "linecolor": "white",
            "ticks": ""
           },
           "bgcolor": "#E5ECF6",
           "radialaxis": {
            "gridcolor": "white",
            "linecolor": "white",
            "ticks": ""
           }
          },
          "scene": {
           "xaxis": {
            "backgroundcolor": "#E5ECF6",
            "gridcolor": "white",
            "gridwidth": 2,
            "linecolor": "white",
            "showbackground": true,
            "ticks": "",
            "zerolinecolor": "white"
           },
           "yaxis": {
            "backgroundcolor": "#E5ECF6",
            "gridcolor": "white",
            "gridwidth": 2,
            "linecolor": "white",
            "showbackground": true,
            "ticks": "",
            "zerolinecolor": "white"
           },
           "zaxis": {
            "backgroundcolor": "#E5ECF6",
            "gridcolor": "white",
            "gridwidth": 2,
            "linecolor": "white",
            "showbackground": true,
            "ticks": "",
            "zerolinecolor": "white"
           }
          },
          "shapedefaults": {
           "line": {
            "color": "#2a3f5f"
           }
          },
          "ternary": {
           "aaxis": {
            "gridcolor": "white",
            "linecolor": "white",
            "ticks": ""
           },
           "baxis": {
            "gridcolor": "white",
            "linecolor": "white",
            "ticks": ""
           },
           "bgcolor": "#E5ECF6",
           "caxis": {
            "gridcolor": "white",
            "linecolor": "white",
            "ticks": ""
           }
          },
          "title": {
           "x": 0.05
          },
          "xaxis": {
           "automargin": true,
           "gridcolor": "white",
           "linecolor": "white",
           "ticks": "",
           "title": {
            "standoff": 15
           },
           "zerolinecolor": "white",
           "zerolinewidth": 2
          },
          "yaxis": {
           "automargin": true,
           "gridcolor": "white",
           "linecolor": "white",
           "ticks": "",
           "title": {
            "standoff": 15
           },
           "zerolinecolor": "white",
           "zerolinewidth": 2
          }
         }
        }
       }
      },
      "text/html": [
       "<div>\n",
       "        \n",
       "        \n",
       "            <div id=\"21c1a2dd-da28-4a20-9cca-c0cbe54a231d\" class=\"plotly-graph-div\" style=\"height:525px; width:100%;\"></div>\n",
       "            <script type=\"text/javascript\">\n",
       "                require([\"plotly\"], function(Plotly) {\n",
       "                    window.PLOTLYENV=window.PLOTLYENV || {};\n",
       "                    \n",
       "                if (document.getElementById(\"21c1a2dd-da28-4a20-9cca-c0cbe54a231d\")) {\n",
       "                    Plotly.newPlot(\n",
       "                        '21c1a2dd-da28-4a20-9cca-c0cbe54a231d',\n",
       "                        [{\"type\": \"heatmap\", \"z\": [[0.0, 0.0, 0.0, 0.0, 0.0, 0.0, 0.0, 0.0, 0.0, 0.0], [0.0, 0.0, 0.0, 0.0, 0.0, 0.0, 0.0, 0.0, 0.0, 0.0], [0.0, 0.0, 0.0, 0.0, 1.0, 0.0, 0.0, 0.0, 0.0, 0.0], [0.0, 0.0, 0.0, 0.0, 0.0, 0.0, 0.0, 0.0, 0.0, 0.0], [1.0, 0.0, 0.0, 0.0, 0.0, 0.0, 0.0, 0.0, 0.0, 1.0], [1.0, 0.0, 0.0, 0.0, 0.0, 0.0, 0.0, 0.0, 0.0, 1.0], [0.0, 0.0, 0.0, 0.0, 0.0, 0.0, 0.0, 0.0, 0.0, 0.0], [0.0, 0.0, 0.0, 0.0, 0.0, 1.0, 0.0, 0.0, 0.0, 0.0], [0.0, 0.0, 0.0, 0.0, 0.0, 0.0, 0.0, 0.0, 0.0, 0.0], [0.0, 0.0, 0.0, 0.0, 0.0, 0.0, 0.0, 0.0, 0.0, 0.0]]}],\n",
       "                        {\"template\": {\"data\": {\"bar\": [{\"error_x\": {\"color\": \"#2a3f5f\"}, \"error_y\": {\"color\": \"#2a3f5f\"}, \"marker\": {\"line\": {\"color\": \"#E5ECF6\", \"width\": 0.5}}, \"type\": \"bar\"}], \"barpolar\": [{\"marker\": {\"line\": {\"color\": \"#E5ECF6\", \"width\": 0.5}}, \"type\": \"barpolar\"}], \"carpet\": [{\"aaxis\": {\"endlinecolor\": \"#2a3f5f\", \"gridcolor\": \"white\", \"linecolor\": \"white\", \"minorgridcolor\": \"white\", \"startlinecolor\": \"#2a3f5f\"}, \"baxis\": {\"endlinecolor\": \"#2a3f5f\", \"gridcolor\": \"white\", \"linecolor\": \"white\", \"minorgridcolor\": \"white\", \"startlinecolor\": \"#2a3f5f\"}, \"type\": \"carpet\"}], \"choropleth\": [{\"colorbar\": {\"outlinewidth\": 0, \"ticks\": \"\"}, \"type\": \"choropleth\"}], \"contour\": [{\"colorbar\": {\"outlinewidth\": 0, \"ticks\": \"\"}, \"colorscale\": [[0.0, \"#0d0887\"], [0.1111111111111111, \"#46039f\"], [0.2222222222222222, \"#7201a8\"], [0.3333333333333333, \"#9c179e\"], [0.4444444444444444, \"#bd3786\"], [0.5555555555555556, \"#d8576b\"], [0.6666666666666666, \"#ed7953\"], [0.7777777777777778, \"#fb9f3a\"], [0.8888888888888888, \"#fdca26\"], [1.0, \"#f0f921\"]], \"type\": \"contour\"}], \"contourcarpet\": [{\"colorbar\": {\"outlinewidth\": 0, \"ticks\": \"\"}, \"type\": \"contourcarpet\"}], \"heatmap\": [{\"colorbar\": {\"outlinewidth\": 0, \"ticks\": \"\"}, \"colorscale\": [[0.0, \"#0d0887\"], [0.1111111111111111, \"#46039f\"], [0.2222222222222222, \"#7201a8\"], [0.3333333333333333, \"#9c179e\"], [0.4444444444444444, \"#bd3786\"], [0.5555555555555556, \"#d8576b\"], [0.6666666666666666, \"#ed7953\"], [0.7777777777777778, \"#fb9f3a\"], [0.8888888888888888, \"#fdca26\"], [1.0, \"#f0f921\"]], \"type\": \"heatmap\"}], \"heatmapgl\": [{\"colorbar\": {\"outlinewidth\": 0, \"ticks\": \"\"}, \"colorscale\": [[0.0, \"#0d0887\"], [0.1111111111111111, \"#46039f\"], [0.2222222222222222, \"#7201a8\"], [0.3333333333333333, \"#9c179e\"], [0.4444444444444444, \"#bd3786\"], [0.5555555555555556, \"#d8576b\"], [0.6666666666666666, \"#ed7953\"], [0.7777777777777778, \"#fb9f3a\"], [0.8888888888888888, \"#fdca26\"], [1.0, \"#f0f921\"]], \"type\": \"heatmapgl\"}], \"histogram\": [{\"marker\": {\"colorbar\": {\"outlinewidth\": 0, \"ticks\": \"\"}}, \"type\": \"histogram\"}], \"histogram2d\": [{\"colorbar\": {\"outlinewidth\": 0, \"ticks\": \"\"}, \"colorscale\": [[0.0, \"#0d0887\"], [0.1111111111111111, \"#46039f\"], [0.2222222222222222, \"#7201a8\"], [0.3333333333333333, \"#9c179e\"], [0.4444444444444444, \"#bd3786\"], [0.5555555555555556, \"#d8576b\"], [0.6666666666666666, \"#ed7953\"], [0.7777777777777778, \"#fb9f3a\"], [0.8888888888888888, \"#fdca26\"], [1.0, \"#f0f921\"]], \"type\": \"histogram2d\"}], \"histogram2dcontour\": [{\"colorbar\": {\"outlinewidth\": 0, \"ticks\": \"\"}, \"colorscale\": [[0.0, \"#0d0887\"], [0.1111111111111111, \"#46039f\"], [0.2222222222222222, \"#7201a8\"], [0.3333333333333333, \"#9c179e\"], [0.4444444444444444, \"#bd3786\"], [0.5555555555555556, \"#d8576b\"], [0.6666666666666666, \"#ed7953\"], [0.7777777777777778, \"#fb9f3a\"], [0.8888888888888888, \"#fdca26\"], [1.0, \"#f0f921\"]], \"type\": \"histogram2dcontour\"}], \"mesh3d\": [{\"colorbar\": {\"outlinewidth\": 0, \"ticks\": \"\"}, \"type\": \"mesh3d\"}], \"parcoords\": [{\"line\": {\"colorbar\": {\"outlinewidth\": 0, \"ticks\": \"\"}}, \"type\": \"parcoords\"}], \"pie\": [{\"automargin\": true, \"type\": \"pie\"}], \"scatter\": [{\"marker\": {\"colorbar\": {\"outlinewidth\": 0, \"ticks\": \"\"}}, \"type\": \"scatter\"}], \"scatter3d\": [{\"line\": {\"colorbar\": {\"outlinewidth\": 0, \"ticks\": \"\"}}, \"marker\": {\"colorbar\": {\"outlinewidth\": 0, \"ticks\": \"\"}}, \"type\": \"scatter3d\"}], \"scattercarpet\": [{\"marker\": {\"colorbar\": {\"outlinewidth\": 0, \"ticks\": \"\"}}, \"type\": \"scattercarpet\"}], \"scattergeo\": [{\"marker\": {\"colorbar\": {\"outlinewidth\": 0, \"ticks\": \"\"}}, \"type\": \"scattergeo\"}], \"scattergl\": [{\"marker\": {\"colorbar\": {\"outlinewidth\": 0, \"ticks\": \"\"}}, \"type\": \"scattergl\"}], \"scattermapbox\": [{\"marker\": {\"colorbar\": {\"outlinewidth\": 0, \"ticks\": \"\"}}, \"type\": \"scattermapbox\"}], \"scatterpolar\": [{\"marker\": {\"colorbar\": {\"outlinewidth\": 0, \"ticks\": \"\"}}, \"type\": \"scatterpolar\"}], \"scatterpolargl\": [{\"marker\": {\"colorbar\": {\"outlinewidth\": 0, \"ticks\": \"\"}}, \"type\": \"scatterpolargl\"}], \"scatterternary\": [{\"marker\": {\"colorbar\": {\"outlinewidth\": 0, \"ticks\": \"\"}}, \"type\": \"scatterternary\"}], \"surface\": [{\"colorbar\": {\"outlinewidth\": 0, \"ticks\": \"\"}, \"colorscale\": [[0.0, \"#0d0887\"], [0.1111111111111111, \"#46039f\"], [0.2222222222222222, \"#7201a8\"], [0.3333333333333333, \"#9c179e\"], [0.4444444444444444, \"#bd3786\"], [0.5555555555555556, \"#d8576b\"], [0.6666666666666666, \"#ed7953\"], [0.7777777777777778, \"#fb9f3a\"], [0.8888888888888888, \"#fdca26\"], [1.0, \"#f0f921\"]], \"type\": \"surface\"}], \"table\": [{\"cells\": {\"fill\": {\"color\": \"#EBF0F8\"}, \"line\": {\"color\": \"white\"}}, \"header\": {\"fill\": {\"color\": \"#C8D4E3\"}, \"line\": {\"color\": \"white\"}}, \"type\": \"table\"}]}, \"layout\": {\"annotationdefaults\": {\"arrowcolor\": \"#2a3f5f\", \"arrowhead\": 0, \"arrowwidth\": 1}, \"coloraxis\": {\"colorbar\": {\"outlinewidth\": 0, \"ticks\": \"\"}}, \"colorscale\": {\"diverging\": [[0, \"#8e0152\"], [0.1, \"#c51b7d\"], [0.2, \"#de77ae\"], [0.3, \"#f1b6da\"], [0.4, \"#fde0ef\"], [0.5, \"#f7f7f7\"], [0.6, \"#e6f5d0\"], [0.7, \"#b8e186\"], [0.8, \"#7fbc41\"], [0.9, \"#4d9221\"], [1, \"#276419\"]], \"sequential\": [[0.0, \"#0d0887\"], [0.1111111111111111, \"#46039f\"], [0.2222222222222222, \"#7201a8\"], [0.3333333333333333, \"#9c179e\"], [0.4444444444444444, \"#bd3786\"], [0.5555555555555556, \"#d8576b\"], [0.6666666666666666, \"#ed7953\"], [0.7777777777777778, \"#fb9f3a\"], [0.8888888888888888, \"#fdca26\"], [1.0, \"#f0f921\"]], \"sequentialminus\": [[0.0, \"#0d0887\"], [0.1111111111111111, \"#46039f\"], [0.2222222222222222, \"#7201a8\"], [0.3333333333333333, \"#9c179e\"], [0.4444444444444444, \"#bd3786\"], [0.5555555555555556, \"#d8576b\"], [0.6666666666666666, \"#ed7953\"], [0.7777777777777778, \"#fb9f3a\"], [0.8888888888888888, \"#fdca26\"], [1.0, \"#f0f921\"]]}, \"colorway\": [\"#636efa\", \"#EF553B\", \"#00cc96\", \"#ab63fa\", \"#FFA15A\", \"#19d3f3\", \"#FF6692\", \"#B6E880\", \"#FF97FF\", \"#FECB52\"], \"font\": {\"color\": \"#2a3f5f\"}, \"geo\": {\"bgcolor\": \"white\", \"lakecolor\": \"white\", \"landcolor\": \"#E5ECF6\", \"showlakes\": true, \"showland\": true, \"subunitcolor\": \"white\"}, \"hoverlabel\": {\"align\": \"left\"}, \"hovermode\": \"closest\", \"mapbox\": {\"style\": \"light\"}, \"paper_bgcolor\": \"white\", \"plot_bgcolor\": \"#E5ECF6\", \"polar\": {\"angularaxis\": {\"gridcolor\": \"white\", \"linecolor\": \"white\", \"ticks\": \"\"}, \"bgcolor\": \"#E5ECF6\", \"radialaxis\": {\"gridcolor\": \"white\", \"linecolor\": \"white\", \"ticks\": \"\"}}, \"scene\": {\"xaxis\": {\"backgroundcolor\": \"#E5ECF6\", \"gridcolor\": \"white\", \"gridwidth\": 2, \"linecolor\": \"white\", \"showbackground\": true, \"ticks\": \"\", \"zerolinecolor\": \"white\"}, \"yaxis\": {\"backgroundcolor\": \"#E5ECF6\", \"gridcolor\": \"white\", \"gridwidth\": 2, \"linecolor\": \"white\", \"showbackground\": true, \"ticks\": \"\", \"zerolinecolor\": \"white\"}, \"zaxis\": {\"backgroundcolor\": \"#E5ECF6\", \"gridcolor\": \"white\", \"gridwidth\": 2, \"linecolor\": \"white\", \"showbackground\": true, \"ticks\": \"\", \"zerolinecolor\": \"white\"}}, \"shapedefaults\": {\"line\": {\"color\": \"#2a3f5f\"}}, \"ternary\": {\"aaxis\": {\"gridcolor\": \"white\", \"linecolor\": \"white\", \"ticks\": \"\"}, \"baxis\": {\"gridcolor\": \"white\", \"linecolor\": \"white\", \"ticks\": \"\"}, \"bgcolor\": \"#E5ECF6\", \"caxis\": {\"gridcolor\": \"white\", \"linecolor\": \"white\", \"ticks\": \"\"}}, \"title\": {\"x\": 0.05}, \"xaxis\": {\"automargin\": true, \"gridcolor\": \"white\", \"linecolor\": \"white\", \"ticks\": \"\", \"title\": {\"standoff\": 15}, \"zerolinecolor\": \"white\", \"zerolinewidth\": 2}, \"yaxis\": {\"automargin\": true, \"gridcolor\": \"white\", \"linecolor\": \"white\", \"ticks\": \"\", \"title\": {\"standoff\": 15}, \"zerolinecolor\": \"white\", \"zerolinewidth\": 2}}}},\n",
       "                        {\"responsive\": true}\n",
       "                    ).then(function(){\n",
       "                            \n",
       "var gd = document.getElementById('21c1a2dd-da28-4a20-9cca-c0cbe54a231d');\n",
       "var x = new MutationObserver(function (mutations, observer) {{\n",
       "        var display = window.getComputedStyle(gd).display;\n",
       "        if (!display || display === 'none') {{\n",
       "            console.log([gd, 'removed!']);\n",
       "            Plotly.purge(gd);\n",
       "            observer.disconnect();\n",
       "        }}\n",
       "}});\n",
       "\n",
       "// Listen for the removal of the full notebook cells\n",
       "var notebookContainer = gd.closest('#notebook-container');\n",
       "if (notebookContainer) {{\n",
       "    x.observe(notebookContainer, {childList: true});\n",
       "}}\n",
       "\n",
       "// Listen for the clearing of the current output cell\n",
       "var outputEl = gd.closest('.output');\n",
       "if (outputEl) {{\n",
       "    x.observe(outputEl, {childList: true});\n",
       "}}\n",
       "\n",
       "                        })\n",
       "                };\n",
       "                });\n",
       "            </script>\n",
       "        </div>"
      ]
     },
     "metadata": {},
     "output_type": "display_data"
    }
   ],
   "source": [
    "conv_thresh = 1.\n",
    "zmin = 0.\n",
    "zmax = 6.\n",
    "\n",
    "baseline_plot = True\n",
    "adversarial_plot = True\n",
    "lqr_plot = True\n",
    "\n",
    "if baseline_plot:\n",
    "    print(\"Baseline\")\n",
    "    fig = go.Figure()\n",
    "    fig.add_trace(go.Heatmap(\n",
    "        z = bench_baseline.detach().numpy(),\n",
    "        zmin = zmin,\n",
    "        zmax = zmax,\n",
    "        ))\n",
    "    fig.show()\n",
    "\n",
    "if adversarial_plot:\n",
    "    print(\"Adversarial\")\n",
    "    fig = go.Figure()\n",
    "    fig.add_trace(go.Heatmap(\n",
    "        z = bench_adv.detach().numpy(),\n",
    "        zmin = zmin,\n",
    "        zmax = zmax,\n",
    "        ))\n",
    "    fig.show()\n",
    "\n",
    "if lqr_plot:\n",
    "    print(\"LQR\")\n",
    "    fig = go.Figure()\n",
    "    fig.add_trace(go.Heatmap(\n",
    "        z = bench_lqr.detach().numpy(),\n",
    "        zmin = zmin,\n",
    "        zmax = zmax,\n",
    "        ))\n",
    "    fig.show()\n",
    "\n",
    "if baseline_plot:\n",
    "    print(\"Baseline\")\n",
    "    fig = go.Figure()\n",
    "    fig.add_trace(go.Heatmap(\n",
    "        z = torch.Tensor(bench_baseline.detach().numpy() > conv_thresh).type(vf.dtype),\n",
    "        ))\n",
    "    fig.show()\n",
    "\n",
    "if adversarial_plot:\n",
    "    print(\"Adversarial\")\n",
    "    fig = go.Figure()\n",
    "    fig.add_trace(go.Heatmap(\n",
    "        z = torch.Tensor(bench_adv.detach().numpy() > conv_thresh).type(vf.dtype),\n",
    "        ))\n",
    "    fig.show()\n",
    "\n",
    "if lqr_plot:\n",
    "    print(\"LQR\")\n",
    "    fig = go.Figure()\n",
    "    fig.add_trace(go.Heatmap(\n",
    "        z = torch.Tensor(bench_lqr.detach().numpy() > conv_thresh).type(vf.dtype),\n",
    "        ))\n",
    "    fig.show()"
   ]
  },
  {
   "cell_type": "code",
   "execution_count": 30,
   "metadata": {},
   "outputs": [
    {
     "name": "stdout",
     "output_type": "stream",
     "text": [
      "Baseline\n"
     ]
    },
    {
     "data": {
      "application/vnd.plotly.v1+json": {
       "config": {
        "plotlyServerURL": "https://plot.ly"
       },
       "data": [
        {
         "type": "heatmap",
         "z": [
          [
           -5.153126848708141,
           7.752581863416309,
           0.0019896297904837823,
           0.08065589737491866,
           -0.6544000510755478,
           -0.2256323763886702,
           -0.0758623647093929,
           -1.11428977259914,
           -0.2565544561436407,
           -0.3045955845528523
          ],
          [
           -6.5332237164593145,
           7.972299273829196,
           0.018855998409136654,
           -0.09883494720813396,
           -0.6367955377370317,
           -0.30155768556013424,
           -0.15181578286789532,
           -0.16475249002953232,
           -0.1883483351594287,
           -0.24944809740066462
          ],
          [
           -6.488734202290896,
           7.9748919655372035,
           -0.03695106989760122,
           0.009221731619667106,
           -0.7131484704780011,
           -0.28182181315121746,
           -0.1113498537352951,
           -0.16563484360948083,
           -0.14117524232884066,
           -0.29652641410204356
          ],
          [
           -5.001078868754501,
           8.014960928409087,
           -0.302450145769144,
           -0.07396455892410758,
           -0.18012149281135187,
           -0.2959984602244996,
           1.2987890045075257,
           -0.18493526403336294,
           -0.20280065345637127,
           0.1055498960516994
          ],
          [
           -4.192414058211858,
           7.918548830148797,
           -0.030630435070846174,
           0.10190415037362027,
           -0.2846570672146338,
           -0.22877974205560525,
           0.07862488440782173,
           -0.06281770664178016,
           -0.13721811076899507,
           -3.050569880751536
          ],
          [
           -1.334591722916243,
           8.015495566565338,
           -0.028302420564453645,
           0.5063958301723646,
           -0.22755206694029692,
           -0.07279895845009396,
           -0.16334370935976736,
           -0.18699759169821553,
           -0.1445839354043849,
           0.19880791141422183
          ],
          [
           -0.6418102808366539,
           8.019631676557088,
           0.003685556081405028,
           1.2572471189622014,
           -0.1161749096847986,
           1.8316494424485705,
           -0.17273522700653257,
           -0.1584906630154747,
           -0.16070927639524862,
           -0.07635062941649506
          ],
          [
           0.28251860697925935,
           -0.12938047313961049,
           -0.025418377915215673,
           -0.19939776202774073,
           -0.18805452091729932,
           1.4751905821160984,
           -0.14963069087972247,
           -0.18203572839765686,
           -0.2397869675408973,
           0.018795610282151043
          ],
          [
           8.068215843985211,
           -0.0026210699816637817,
           -0.09300105786910023,
           -0.15352156938577194,
           -0.26455492360102384,
           0.6159025993238676,
           -0.19193936205195833,
           -0.14041934967323577,
           -0.1152197640159574,
           -0.3467518719253078
          ],
          [
           8.009936879197049,
           0.012538247719014184,
           -0.65363661578427,
           -0.30347494521935003,
           -0.20661178496977253,
           -0.10758297649368043,
           -0.1390079641786674,
           -0.16886120335291452,
           -0.07893437808723583,
           0.03621992480736974
          ]
         ]
        }
       ],
       "layout": {
        "template": {
         "data": {
          "bar": [
           {
            "error_x": {
             "color": "#2a3f5f"
            },
            "error_y": {
             "color": "#2a3f5f"
            },
            "marker": {
             "line": {
              "color": "#E5ECF6",
              "width": 0.5
             }
            },
            "type": "bar"
           }
          ],
          "barpolar": [
           {
            "marker": {
             "line": {
              "color": "#E5ECF6",
              "width": 0.5
             }
            },
            "type": "barpolar"
           }
          ],
          "carpet": [
           {
            "aaxis": {
             "endlinecolor": "#2a3f5f",
             "gridcolor": "white",
             "linecolor": "white",
             "minorgridcolor": "white",
             "startlinecolor": "#2a3f5f"
            },
            "baxis": {
             "endlinecolor": "#2a3f5f",
             "gridcolor": "white",
             "linecolor": "white",
             "minorgridcolor": "white",
             "startlinecolor": "#2a3f5f"
            },
            "type": "carpet"
           }
          ],
          "choropleth": [
           {
            "colorbar": {
             "outlinewidth": 0,
             "ticks": ""
            },
            "type": "choropleth"
           }
          ],
          "contour": [
           {
            "colorbar": {
             "outlinewidth": 0,
             "ticks": ""
            },
            "colorscale": [
             [
              0,
              "#0d0887"
             ],
             [
              0.1111111111111111,
              "#46039f"
             ],
             [
              0.2222222222222222,
              "#7201a8"
             ],
             [
              0.3333333333333333,
              "#9c179e"
             ],
             [
              0.4444444444444444,
              "#bd3786"
             ],
             [
              0.5555555555555556,
              "#d8576b"
             ],
             [
              0.6666666666666666,
              "#ed7953"
             ],
             [
              0.7777777777777778,
              "#fb9f3a"
             ],
             [
              0.8888888888888888,
              "#fdca26"
             ],
             [
              1,
              "#f0f921"
             ]
            ],
            "type": "contour"
           }
          ],
          "contourcarpet": [
           {
            "colorbar": {
             "outlinewidth": 0,
             "ticks": ""
            },
            "type": "contourcarpet"
           }
          ],
          "heatmap": [
           {
            "colorbar": {
             "outlinewidth": 0,
             "ticks": ""
            },
            "colorscale": [
             [
              0,
              "#0d0887"
             ],
             [
              0.1111111111111111,
              "#46039f"
             ],
             [
              0.2222222222222222,
              "#7201a8"
             ],
             [
              0.3333333333333333,
              "#9c179e"
             ],
             [
              0.4444444444444444,
              "#bd3786"
             ],
             [
              0.5555555555555556,
              "#d8576b"
             ],
             [
              0.6666666666666666,
              "#ed7953"
             ],
             [
              0.7777777777777778,
              "#fb9f3a"
             ],
             [
              0.8888888888888888,
              "#fdca26"
             ],
             [
              1,
              "#f0f921"
             ]
            ],
            "type": "heatmap"
           }
          ],
          "heatmapgl": [
           {
            "colorbar": {
             "outlinewidth": 0,
             "ticks": ""
            },
            "colorscale": [
             [
              0,
              "#0d0887"
             ],
             [
              0.1111111111111111,
              "#46039f"
             ],
             [
              0.2222222222222222,
              "#7201a8"
             ],
             [
              0.3333333333333333,
              "#9c179e"
             ],
             [
              0.4444444444444444,
              "#bd3786"
             ],
             [
              0.5555555555555556,
              "#d8576b"
             ],
             [
              0.6666666666666666,
              "#ed7953"
             ],
             [
              0.7777777777777778,
              "#fb9f3a"
             ],
             [
              0.8888888888888888,
              "#fdca26"
             ],
             [
              1,
              "#f0f921"
             ]
            ],
            "type": "heatmapgl"
           }
          ],
          "histogram": [
           {
            "marker": {
             "colorbar": {
              "outlinewidth": 0,
              "ticks": ""
             }
            },
            "type": "histogram"
           }
          ],
          "histogram2d": [
           {
            "colorbar": {
             "outlinewidth": 0,
             "ticks": ""
            },
            "colorscale": [
             [
              0,
              "#0d0887"
             ],
             [
              0.1111111111111111,
              "#46039f"
             ],
             [
              0.2222222222222222,
              "#7201a8"
             ],
             [
              0.3333333333333333,
              "#9c179e"
             ],
             [
              0.4444444444444444,
              "#bd3786"
             ],
             [
              0.5555555555555556,
              "#d8576b"
             ],
             [
              0.6666666666666666,
              "#ed7953"
             ],
             [
              0.7777777777777778,
              "#fb9f3a"
             ],
             [
              0.8888888888888888,
              "#fdca26"
             ],
             [
              1,
              "#f0f921"
             ]
            ],
            "type": "histogram2d"
           }
          ],
          "histogram2dcontour": [
           {
            "colorbar": {
             "outlinewidth": 0,
             "ticks": ""
            },
            "colorscale": [
             [
              0,
              "#0d0887"
             ],
             [
              0.1111111111111111,
              "#46039f"
             ],
             [
              0.2222222222222222,
              "#7201a8"
             ],
             [
              0.3333333333333333,
              "#9c179e"
             ],
             [
              0.4444444444444444,
              "#bd3786"
             ],
             [
              0.5555555555555556,
              "#d8576b"
             ],
             [
              0.6666666666666666,
              "#ed7953"
             ],
             [
              0.7777777777777778,
              "#fb9f3a"
             ],
             [
              0.8888888888888888,
              "#fdca26"
             ],
             [
              1,
              "#f0f921"
             ]
            ],
            "type": "histogram2dcontour"
           }
          ],
          "mesh3d": [
           {
            "colorbar": {
             "outlinewidth": 0,
             "ticks": ""
            },
            "type": "mesh3d"
           }
          ],
          "parcoords": [
           {
            "line": {
             "colorbar": {
              "outlinewidth": 0,
              "ticks": ""
             }
            },
            "type": "parcoords"
           }
          ],
          "pie": [
           {
            "automargin": true,
            "type": "pie"
           }
          ],
          "scatter": [
           {
            "marker": {
             "colorbar": {
              "outlinewidth": 0,
              "ticks": ""
             }
            },
            "type": "scatter"
           }
          ],
          "scatter3d": [
           {
            "line": {
             "colorbar": {
              "outlinewidth": 0,
              "ticks": ""
             }
            },
            "marker": {
             "colorbar": {
              "outlinewidth": 0,
              "ticks": ""
             }
            },
            "type": "scatter3d"
           }
          ],
          "scattercarpet": [
           {
            "marker": {
             "colorbar": {
              "outlinewidth": 0,
              "ticks": ""
             }
            },
            "type": "scattercarpet"
           }
          ],
          "scattergeo": [
           {
            "marker": {
             "colorbar": {
              "outlinewidth": 0,
              "ticks": ""
             }
            },
            "type": "scattergeo"
           }
          ],
          "scattergl": [
           {
            "marker": {
             "colorbar": {
              "outlinewidth": 0,
              "ticks": ""
             }
            },
            "type": "scattergl"
           }
          ],
          "scattermapbox": [
           {
            "marker": {
             "colorbar": {
              "outlinewidth": 0,
              "ticks": ""
             }
            },
            "type": "scattermapbox"
           }
          ],
          "scatterpolar": [
           {
            "marker": {
             "colorbar": {
              "outlinewidth": 0,
              "ticks": ""
             }
            },
            "type": "scatterpolar"
           }
          ],
          "scatterpolargl": [
           {
            "marker": {
             "colorbar": {
              "outlinewidth": 0,
              "ticks": ""
             }
            },
            "type": "scatterpolargl"
           }
          ],
          "scatterternary": [
           {
            "marker": {
             "colorbar": {
              "outlinewidth": 0,
              "ticks": ""
             }
            },
            "type": "scatterternary"
           }
          ],
          "surface": [
           {
            "colorbar": {
             "outlinewidth": 0,
             "ticks": ""
            },
            "colorscale": [
             [
              0,
              "#0d0887"
             ],
             [
              0.1111111111111111,
              "#46039f"
             ],
             [
              0.2222222222222222,
              "#7201a8"
             ],
             [
              0.3333333333333333,
              "#9c179e"
             ],
             [
              0.4444444444444444,
              "#bd3786"
             ],
             [
              0.5555555555555556,
              "#d8576b"
             ],
             [
              0.6666666666666666,
              "#ed7953"
             ],
             [
              0.7777777777777778,
              "#fb9f3a"
             ],
             [
              0.8888888888888888,
              "#fdca26"
             ],
             [
              1,
              "#f0f921"
             ]
            ],
            "type": "surface"
           }
          ],
          "table": [
           {
            "cells": {
             "fill": {
              "color": "#EBF0F8"
             },
             "line": {
              "color": "white"
             }
            },
            "header": {
             "fill": {
              "color": "#C8D4E3"
             },
             "line": {
              "color": "white"
             }
            },
            "type": "table"
           }
          ]
         },
         "layout": {
          "annotationdefaults": {
           "arrowcolor": "#2a3f5f",
           "arrowhead": 0,
           "arrowwidth": 1
          },
          "coloraxis": {
           "colorbar": {
            "outlinewidth": 0,
            "ticks": ""
           }
          },
          "colorscale": {
           "diverging": [
            [
             0,
             "#8e0152"
            ],
            [
             0.1,
             "#c51b7d"
            ],
            [
             0.2,
             "#de77ae"
            ],
            [
             0.3,
             "#f1b6da"
            ],
            [
             0.4,
             "#fde0ef"
            ],
            [
             0.5,
             "#f7f7f7"
            ],
            [
             0.6,
             "#e6f5d0"
            ],
            [
             0.7,
             "#b8e186"
            ],
            [
             0.8,
             "#7fbc41"
            ],
            [
             0.9,
             "#4d9221"
            ],
            [
             1,
             "#276419"
            ]
           ],
           "sequential": [
            [
             0,
             "#0d0887"
            ],
            [
             0.1111111111111111,
             "#46039f"
            ],
            [
             0.2222222222222222,
             "#7201a8"
            ],
            [
             0.3333333333333333,
             "#9c179e"
            ],
            [
             0.4444444444444444,
             "#bd3786"
            ],
            [
             0.5555555555555556,
             "#d8576b"
            ],
            [
             0.6666666666666666,
             "#ed7953"
            ],
            [
             0.7777777777777778,
             "#fb9f3a"
            ],
            [
             0.8888888888888888,
             "#fdca26"
            ],
            [
             1,
             "#f0f921"
            ]
           ],
           "sequentialminus": [
            [
             0,
             "#0d0887"
            ],
            [
             0.1111111111111111,
             "#46039f"
            ],
            [
             0.2222222222222222,
             "#7201a8"
            ],
            [
             0.3333333333333333,
             "#9c179e"
            ],
            [
             0.4444444444444444,
             "#bd3786"
            ],
            [
             0.5555555555555556,
             "#d8576b"
            ],
            [
             0.6666666666666666,
             "#ed7953"
            ],
            [
             0.7777777777777778,
             "#fb9f3a"
            ],
            [
             0.8888888888888888,
             "#fdca26"
            ],
            [
             1,
             "#f0f921"
            ]
           ]
          },
          "colorway": [
           "#636efa",
           "#EF553B",
           "#00cc96",
           "#ab63fa",
           "#FFA15A",
           "#19d3f3",
           "#FF6692",
           "#B6E880",
           "#FF97FF",
           "#FECB52"
          ],
          "font": {
           "color": "#2a3f5f"
          },
          "geo": {
           "bgcolor": "white",
           "lakecolor": "white",
           "landcolor": "#E5ECF6",
           "showlakes": true,
           "showland": true,
           "subunitcolor": "white"
          },
          "hoverlabel": {
           "align": "left"
          },
          "hovermode": "closest",
          "mapbox": {
           "style": "light"
          },
          "paper_bgcolor": "white",
          "plot_bgcolor": "#E5ECF6",
          "polar": {
           "angularaxis": {
            "gridcolor": "white",
            "linecolor": "white",
            "ticks": ""
           },
           "bgcolor": "#E5ECF6",
           "radialaxis": {
            "gridcolor": "white",
            "linecolor": "white",
            "ticks": ""
           }
          },
          "scene": {
           "xaxis": {
            "backgroundcolor": "#E5ECF6",
            "gridcolor": "white",
            "gridwidth": 2,
            "linecolor": "white",
            "showbackground": true,
            "ticks": "",
            "zerolinecolor": "white"
           },
           "yaxis": {
            "backgroundcolor": "#E5ECF6",
            "gridcolor": "white",
            "gridwidth": 2,
            "linecolor": "white",
            "showbackground": true,
            "ticks": "",
            "zerolinecolor": "white"
           },
           "zaxis": {
            "backgroundcolor": "#E5ECF6",
            "gridcolor": "white",
            "gridwidth": 2,
            "linecolor": "white",
            "showbackground": true,
            "ticks": "",
            "zerolinecolor": "white"
           }
          },
          "shapedefaults": {
           "line": {
            "color": "#2a3f5f"
           }
          },
          "ternary": {
           "aaxis": {
            "gridcolor": "white",
            "linecolor": "white",
            "ticks": ""
           },
           "baxis": {
            "gridcolor": "white",
            "linecolor": "white",
            "ticks": ""
           },
           "bgcolor": "#E5ECF6",
           "caxis": {
            "gridcolor": "white",
            "linecolor": "white",
            "ticks": ""
           }
          },
          "title": {
           "x": 0.05
          },
          "xaxis": {
           "automargin": true,
           "gridcolor": "white",
           "linecolor": "white",
           "ticks": "",
           "title": {
            "standoff": 15
           },
           "zerolinecolor": "white",
           "zerolinewidth": 2
          },
          "yaxis": {
           "automargin": true,
           "gridcolor": "white",
           "linecolor": "white",
           "ticks": "",
           "title": {
            "standoff": 15
           },
           "zerolinecolor": "white",
           "zerolinewidth": 2
          }
         }
        }
       }
      },
      "text/html": [
       "<div>\n",
       "        \n",
       "        \n",
       "            <div id=\"6b4531ac-75aa-4b33-91cd-67512f15225f\" class=\"plotly-graph-div\" style=\"height:525px; width:100%;\"></div>\n",
       "            <script type=\"text/javascript\">\n",
       "                require([\"plotly\"], function(Plotly) {\n",
       "                    window.PLOTLYENV=window.PLOTLYENV || {};\n",
       "                    \n",
       "                if (document.getElementById(\"6b4531ac-75aa-4b33-91cd-67512f15225f\")) {\n",
       "                    Plotly.newPlot(\n",
       "                        '6b4531ac-75aa-4b33-91cd-67512f15225f',\n",
       "                        [{\"type\": \"heatmap\", \"z\": [[-5.153126848708141, 7.752581863416309, 0.0019896297904837823, 0.08065589737491866, -0.6544000510755478, -0.2256323763886702, -0.0758623647093929, -1.11428977259914, -0.2565544561436407, -0.3045955845528523], [-6.5332237164593145, 7.972299273829196, 0.018855998409136654, -0.09883494720813396, -0.6367955377370317, -0.30155768556013424, -0.15181578286789532, -0.16475249002953232, -0.1883483351594287, -0.24944809740066462], [-6.488734202290896, 7.9748919655372035, -0.03695106989760122, 0.009221731619667106, -0.7131484704780011, -0.28182181315121746, -0.1113498537352951, -0.16563484360948083, -0.14117524232884066, -0.29652641410204356], [-5.001078868754501, 8.014960928409087, -0.302450145769144, -0.07396455892410758, -0.18012149281135187, -0.2959984602244996, 1.2987890045075257, -0.18493526403336294, -0.20280065345637127, 0.1055498960516994], [-4.192414058211858, 7.918548830148797, -0.030630435070846174, 0.10190415037362027, -0.2846570672146338, -0.22877974205560525, 0.07862488440782173, -0.06281770664178016, -0.13721811076899507, -3.050569880751536], [-1.334591722916243, 8.015495566565338, -0.028302420564453645, 0.5063958301723646, -0.22755206694029692, -0.07279895845009396, -0.16334370935976736, -0.18699759169821553, -0.1445839354043849, 0.19880791141422183], [-0.6418102808366539, 8.019631676557088, 0.003685556081405028, 1.2572471189622014, -0.1161749096847986, 1.8316494424485705, -0.17273522700653257, -0.1584906630154747, -0.16070927639524862, -0.07635062941649506], [0.28251860697925935, -0.12938047313961049, -0.025418377915215673, -0.19939776202774073, -0.18805452091729932, 1.4751905821160984, -0.14963069087972247, -0.18203572839765686, -0.2397869675408973, 0.018795610282151043], [8.068215843985211, -0.0026210699816637817, -0.09300105786910023, -0.15352156938577194, -0.26455492360102384, 0.6159025993238676, -0.19193936205195833, -0.14041934967323577, -0.1152197640159574, -0.3467518719253078], [8.009936879197049, 0.012538247719014184, -0.65363661578427, -0.30347494521935003, -0.20661178496977253, -0.10758297649368043, -0.1390079641786674, -0.16886120335291452, -0.07893437808723583, 0.03621992480736974]]}],\n",
       "                        {\"template\": {\"data\": {\"bar\": [{\"error_x\": {\"color\": \"#2a3f5f\"}, \"error_y\": {\"color\": \"#2a3f5f\"}, \"marker\": {\"line\": {\"color\": \"#E5ECF6\", \"width\": 0.5}}, \"type\": \"bar\"}], \"barpolar\": [{\"marker\": {\"line\": {\"color\": \"#E5ECF6\", \"width\": 0.5}}, \"type\": \"barpolar\"}], \"carpet\": [{\"aaxis\": {\"endlinecolor\": \"#2a3f5f\", \"gridcolor\": \"white\", \"linecolor\": \"white\", \"minorgridcolor\": \"white\", \"startlinecolor\": \"#2a3f5f\"}, \"baxis\": {\"endlinecolor\": \"#2a3f5f\", \"gridcolor\": \"white\", \"linecolor\": \"white\", \"minorgridcolor\": \"white\", \"startlinecolor\": \"#2a3f5f\"}, \"type\": \"carpet\"}], \"choropleth\": [{\"colorbar\": {\"outlinewidth\": 0, \"ticks\": \"\"}, \"type\": \"choropleth\"}], \"contour\": [{\"colorbar\": {\"outlinewidth\": 0, \"ticks\": \"\"}, \"colorscale\": [[0.0, \"#0d0887\"], [0.1111111111111111, \"#46039f\"], [0.2222222222222222, \"#7201a8\"], [0.3333333333333333, \"#9c179e\"], [0.4444444444444444, \"#bd3786\"], [0.5555555555555556, \"#d8576b\"], [0.6666666666666666, \"#ed7953\"], [0.7777777777777778, \"#fb9f3a\"], [0.8888888888888888, \"#fdca26\"], [1.0, \"#f0f921\"]], \"type\": \"contour\"}], \"contourcarpet\": [{\"colorbar\": {\"outlinewidth\": 0, \"ticks\": \"\"}, \"type\": \"contourcarpet\"}], \"heatmap\": [{\"colorbar\": {\"outlinewidth\": 0, \"ticks\": \"\"}, \"colorscale\": [[0.0, \"#0d0887\"], [0.1111111111111111, \"#46039f\"], [0.2222222222222222, \"#7201a8\"], [0.3333333333333333, \"#9c179e\"], [0.4444444444444444, \"#bd3786\"], [0.5555555555555556, \"#d8576b\"], [0.6666666666666666, \"#ed7953\"], [0.7777777777777778, \"#fb9f3a\"], [0.8888888888888888, \"#fdca26\"], [1.0, \"#f0f921\"]], \"type\": \"heatmap\"}], \"heatmapgl\": [{\"colorbar\": {\"outlinewidth\": 0, \"ticks\": \"\"}, \"colorscale\": [[0.0, \"#0d0887\"], [0.1111111111111111, \"#46039f\"], [0.2222222222222222, \"#7201a8\"], [0.3333333333333333, \"#9c179e\"], [0.4444444444444444, \"#bd3786\"], [0.5555555555555556, \"#d8576b\"], [0.6666666666666666, \"#ed7953\"], [0.7777777777777778, \"#fb9f3a\"], [0.8888888888888888, \"#fdca26\"], [1.0, \"#f0f921\"]], \"type\": \"heatmapgl\"}], \"histogram\": [{\"marker\": {\"colorbar\": {\"outlinewidth\": 0, \"ticks\": \"\"}}, \"type\": \"histogram\"}], \"histogram2d\": [{\"colorbar\": {\"outlinewidth\": 0, \"ticks\": \"\"}, \"colorscale\": [[0.0, \"#0d0887\"], [0.1111111111111111, \"#46039f\"], [0.2222222222222222, \"#7201a8\"], [0.3333333333333333, \"#9c179e\"], [0.4444444444444444, \"#bd3786\"], [0.5555555555555556, \"#d8576b\"], [0.6666666666666666, \"#ed7953\"], [0.7777777777777778, \"#fb9f3a\"], [0.8888888888888888, \"#fdca26\"], [1.0, \"#f0f921\"]], \"type\": \"histogram2d\"}], \"histogram2dcontour\": [{\"colorbar\": {\"outlinewidth\": 0, \"ticks\": \"\"}, \"colorscale\": [[0.0, \"#0d0887\"], [0.1111111111111111, \"#46039f\"], [0.2222222222222222, \"#7201a8\"], [0.3333333333333333, \"#9c179e\"], [0.4444444444444444, \"#bd3786\"], [0.5555555555555556, \"#d8576b\"], [0.6666666666666666, \"#ed7953\"], [0.7777777777777778, \"#fb9f3a\"], [0.8888888888888888, \"#fdca26\"], [1.0, \"#f0f921\"]], \"type\": \"histogram2dcontour\"}], \"mesh3d\": [{\"colorbar\": {\"outlinewidth\": 0, \"ticks\": \"\"}, \"type\": \"mesh3d\"}], \"parcoords\": [{\"line\": {\"colorbar\": {\"outlinewidth\": 0, \"ticks\": \"\"}}, \"type\": \"parcoords\"}], \"pie\": [{\"automargin\": true, \"type\": \"pie\"}], \"scatter\": [{\"marker\": {\"colorbar\": {\"outlinewidth\": 0, \"ticks\": \"\"}}, \"type\": \"scatter\"}], \"scatter3d\": [{\"line\": {\"colorbar\": {\"outlinewidth\": 0, \"ticks\": \"\"}}, \"marker\": {\"colorbar\": {\"outlinewidth\": 0, \"ticks\": \"\"}}, \"type\": \"scatter3d\"}], \"scattercarpet\": [{\"marker\": {\"colorbar\": {\"outlinewidth\": 0, \"ticks\": \"\"}}, \"type\": \"scattercarpet\"}], \"scattergeo\": [{\"marker\": {\"colorbar\": {\"outlinewidth\": 0, \"ticks\": \"\"}}, \"type\": \"scattergeo\"}], \"scattergl\": [{\"marker\": {\"colorbar\": {\"outlinewidth\": 0, \"ticks\": \"\"}}, \"type\": \"scattergl\"}], \"scattermapbox\": [{\"marker\": {\"colorbar\": {\"outlinewidth\": 0, \"ticks\": \"\"}}, \"type\": \"scattermapbox\"}], \"scatterpolar\": [{\"marker\": {\"colorbar\": {\"outlinewidth\": 0, \"ticks\": \"\"}}, \"type\": \"scatterpolar\"}], \"scatterpolargl\": [{\"marker\": {\"colorbar\": {\"outlinewidth\": 0, \"ticks\": \"\"}}, \"type\": \"scatterpolargl\"}], \"scatterternary\": [{\"marker\": {\"colorbar\": {\"outlinewidth\": 0, \"ticks\": \"\"}}, \"type\": \"scatterternary\"}], \"surface\": [{\"colorbar\": {\"outlinewidth\": 0, \"ticks\": \"\"}, \"colorscale\": [[0.0, \"#0d0887\"], [0.1111111111111111, \"#46039f\"], [0.2222222222222222, \"#7201a8\"], [0.3333333333333333, \"#9c179e\"], [0.4444444444444444, \"#bd3786\"], [0.5555555555555556, \"#d8576b\"], [0.6666666666666666, \"#ed7953\"], [0.7777777777777778, \"#fb9f3a\"], [0.8888888888888888, \"#fdca26\"], [1.0, \"#f0f921\"]], \"type\": \"surface\"}], \"table\": [{\"cells\": {\"fill\": {\"color\": \"#EBF0F8\"}, \"line\": {\"color\": \"white\"}}, \"header\": {\"fill\": {\"color\": \"#C8D4E3\"}, \"line\": {\"color\": \"white\"}}, \"type\": \"table\"}]}, \"layout\": {\"annotationdefaults\": {\"arrowcolor\": \"#2a3f5f\", \"arrowhead\": 0, \"arrowwidth\": 1}, \"coloraxis\": {\"colorbar\": {\"outlinewidth\": 0, \"ticks\": \"\"}}, \"colorscale\": {\"diverging\": [[0, \"#8e0152\"], [0.1, \"#c51b7d\"], [0.2, \"#de77ae\"], [0.3, \"#f1b6da\"], [0.4, \"#fde0ef\"], [0.5, \"#f7f7f7\"], [0.6, \"#e6f5d0\"], [0.7, \"#b8e186\"], [0.8, \"#7fbc41\"], [0.9, \"#4d9221\"], [1, \"#276419\"]], \"sequential\": [[0.0, \"#0d0887\"], [0.1111111111111111, \"#46039f\"], [0.2222222222222222, \"#7201a8\"], [0.3333333333333333, \"#9c179e\"], [0.4444444444444444, \"#bd3786\"], [0.5555555555555556, \"#d8576b\"], [0.6666666666666666, \"#ed7953\"], [0.7777777777777778, \"#fb9f3a\"], [0.8888888888888888, \"#fdca26\"], [1.0, \"#f0f921\"]], \"sequentialminus\": [[0.0, \"#0d0887\"], [0.1111111111111111, \"#46039f\"], [0.2222222222222222, \"#7201a8\"], [0.3333333333333333, \"#9c179e\"], [0.4444444444444444, \"#bd3786\"], [0.5555555555555556, \"#d8576b\"], [0.6666666666666666, \"#ed7953\"], [0.7777777777777778, \"#fb9f3a\"], [0.8888888888888888, \"#fdca26\"], [1.0, \"#f0f921\"]]}, \"colorway\": [\"#636efa\", \"#EF553B\", \"#00cc96\", \"#ab63fa\", \"#FFA15A\", \"#19d3f3\", \"#FF6692\", \"#B6E880\", \"#FF97FF\", \"#FECB52\"], \"font\": {\"color\": \"#2a3f5f\"}, \"geo\": {\"bgcolor\": \"white\", \"lakecolor\": \"white\", \"landcolor\": \"#E5ECF6\", \"showlakes\": true, \"showland\": true, \"subunitcolor\": \"white\"}, \"hoverlabel\": {\"align\": \"left\"}, \"hovermode\": \"closest\", \"mapbox\": {\"style\": \"light\"}, \"paper_bgcolor\": \"white\", \"plot_bgcolor\": \"#E5ECF6\", \"polar\": {\"angularaxis\": {\"gridcolor\": \"white\", \"linecolor\": \"white\", \"ticks\": \"\"}, \"bgcolor\": \"#E5ECF6\", \"radialaxis\": {\"gridcolor\": \"white\", \"linecolor\": \"white\", \"ticks\": \"\"}}, \"scene\": {\"xaxis\": {\"backgroundcolor\": \"#E5ECF6\", \"gridcolor\": \"white\", \"gridwidth\": 2, \"linecolor\": \"white\", \"showbackground\": true, \"ticks\": \"\", \"zerolinecolor\": \"white\"}, \"yaxis\": {\"backgroundcolor\": \"#E5ECF6\", \"gridcolor\": \"white\", \"gridwidth\": 2, \"linecolor\": \"white\", \"showbackground\": true, \"ticks\": \"\", \"zerolinecolor\": \"white\"}, \"zaxis\": {\"backgroundcolor\": \"#E5ECF6\", \"gridcolor\": \"white\", \"gridwidth\": 2, \"linecolor\": \"white\", \"showbackground\": true, \"ticks\": \"\", \"zerolinecolor\": \"white\"}}, \"shapedefaults\": {\"line\": {\"color\": \"#2a3f5f\"}}, \"ternary\": {\"aaxis\": {\"gridcolor\": \"white\", \"linecolor\": \"white\", \"ticks\": \"\"}, \"baxis\": {\"gridcolor\": \"white\", \"linecolor\": \"white\", \"ticks\": \"\"}, \"bgcolor\": \"#E5ECF6\", \"caxis\": {\"gridcolor\": \"white\", \"linecolor\": \"white\", \"ticks\": \"\"}}, \"title\": {\"x\": 0.05}, \"xaxis\": {\"automargin\": true, \"gridcolor\": \"white\", \"linecolor\": \"white\", \"ticks\": \"\", \"title\": {\"standoff\": 15}, \"zerolinecolor\": \"white\", \"zerolinewidth\": 2}, \"yaxis\": {\"automargin\": true, \"gridcolor\": \"white\", \"linecolor\": \"white\", \"ticks\": \"\", \"title\": {\"standoff\": 15}, \"zerolinecolor\": \"white\", \"zerolinewidth\": 2}}}},\n",
       "                        {\"responsive\": true}\n",
       "                    ).then(function(){\n",
       "                            \n",
       "var gd = document.getElementById('6b4531ac-75aa-4b33-91cd-67512f15225f');\n",
       "var x = new MutationObserver(function (mutations, observer) {{\n",
       "        var display = window.getComputedStyle(gd).display;\n",
       "        if (!display || display === 'none') {{\n",
       "            console.log([gd, 'removed!']);\n",
       "            Plotly.purge(gd);\n",
       "            observer.disconnect();\n",
       "        }}\n",
       "}});\n",
       "\n",
       "// Listen for the removal of the full notebook cells\n",
       "var notebookContainer = gd.closest('#notebook-container');\n",
       "if (notebookContainer) {{\n",
       "    x.observe(notebookContainer, {childList: true});\n",
       "}}\n",
       "\n",
       "// Listen for the clearing of the current output cell\n",
       "var outputEl = gd.closest('.output');\n",
       "if (outputEl) {{\n",
       "    x.observe(outputEl, {childList: true});\n",
       "}}\n",
       "\n",
       "                        })\n",
       "                };\n",
       "                });\n",
       "            </script>\n",
       "        </div>"
      ]
     },
     "metadata": {},
     "output_type": "display_data"
    }
   ],
   "source": [
    "if baseline_plot:\n",
    "    print(\"Baseline\")\n",
    "    fig = go.Figure()\n",
    "    fig.add_trace(go.Heatmap(\n",
    "        z = (bench_baseline-bench_adv).detach().numpy(),\n",
    "        ))\n",
    "    fig.show()"
   ]
  },
  {
   "cell_type": "markdown",
   "metadata": {},
   "source": [
    "# Acrobot"
   ]
  },
  {
   "cell_type": "code",
   "execution_count": 15,
   "metadata": {},
   "outputs": [],
   "source": [
    "acrobot = acrobot_utils.AcrobotNLP()\n",
    "vf = acrobot_utils.get_value_function(10)\n",
    "V = vf.get_value_function()"
   ]
  },
  {
   "cell_type": "code",
   "execution_count": 16,
   "metadata": {},
   "outputs": [
    {
     "data": {
      "application/vnd.plotly.v1+json": {
       "config": {
        "plotlyServerURL": "https://plot.ly"
       },
       "data": [
        {
         "type": "scatter",
         "y": [
          3.34159255027771,
          3.1931569576263428,
          2.909846305847168,
          2.741990804672241,
          2.7210869789123535,
          2.771808624267578,
          2.8815243244171143,
          3.070465564727783,
          3.324679136276245,
          3.5836496353149414
         ]
        },
        {
         "type": "scatter",
         "y": [
          0.20000000298023224,
          0.6809230446815491,
          1.7420780658721924,
          2.685340166091919,
          3.1611640453338623,
          3.1287291049957275,
          2.659282684326172,
          1.943707823753357,
          1.2468074560165405,
          0.8211299180984497
         ]
        },
        {
         "type": "scatter",
         "y": [
          0,
          -1.4843560457229614,
          -1.3487510681152344,
          -0.3298022747039795,
          0.12076272070407867,
          0.38645410537719727,
          0.71070396900177,
          1.1787070035934448,
          1.3634284734725952,
          1.2262784242630005
         ]
        },
        {
         "type": "scatter",
         "y": [
          0,
          4.809230804443359,
          5.802319049835205,
          3.6303024291992188,
          1.1279362440109253,
          -1.4522864818572998,
          -3.2421765327453613,
          -3.913572311401367,
          -3.055431365966797,
          -1.2013441324234009
         ]
        }
       ],
       "layout": {
        "template": {
         "data": {
          "bar": [
           {
            "error_x": {
             "color": "#2a3f5f"
            },
            "error_y": {
             "color": "#2a3f5f"
            },
            "marker": {
             "line": {
              "color": "#E5ECF6",
              "width": 0.5
             }
            },
            "type": "bar"
           }
          ],
          "barpolar": [
           {
            "marker": {
             "line": {
              "color": "#E5ECF6",
              "width": 0.5
             }
            },
            "type": "barpolar"
           }
          ],
          "carpet": [
           {
            "aaxis": {
             "endlinecolor": "#2a3f5f",
             "gridcolor": "white",
             "linecolor": "white",
             "minorgridcolor": "white",
             "startlinecolor": "#2a3f5f"
            },
            "baxis": {
             "endlinecolor": "#2a3f5f",
             "gridcolor": "white",
             "linecolor": "white",
             "minorgridcolor": "white",
             "startlinecolor": "#2a3f5f"
            },
            "type": "carpet"
           }
          ],
          "choropleth": [
           {
            "colorbar": {
             "outlinewidth": 0,
             "ticks": ""
            },
            "type": "choropleth"
           }
          ],
          "contour": [
           {
            "colorbar": {
             "outlinewidth": 0,
             "ticks": ""
            },
            "colorscale": [
             [
              0,
              "#0d0887"
             ],
             [
              0.1111111111111111,
              "#46039f"
             ],
             [
              0.2222222222222222,
              "#7201a8"
             ],
             [
              0.3333333333333333,
              "#9c179e"
             ],
             [
              0.4444444444444444,
              "#bd3786"
             ],
             [
              0.5555555555555556,
              "#d8576b"
             ],
             [
              0.6666666666666666,
              "#ed7953"
             ],
             [
              0.7777777777777778,
              "#fb9f3a"
             ],
             [
              0.8888888888888888,
              "#fdca26"
             ],
             [
              1,
              "#f0f921"
             ]
            ],
            "type": "contour"
           }
          ],
          "contourcarpet": [
           {
            "colorbar": {
             "outlinewidth": 0,
             "ticks": ""
            },
            "type": "contourcarpet"
           }
          ],
          "heatmap": [
           {
            "colorbar": {
             "outlinewidth": 0,
             "ticks": ""
            },
            "colorscale": [
             [
              0,
              "#0d0887"
             ],
             [
              0.1111111111111111,
              "#46039f"
             ],
             [
              0.2222222222222222,
              "#7201a8"
             ],
             [
              0.3333333333333333,
              "#9c179e"
             ],
             [
              0.4444444444444444,
              "#bd3786"
             ],
             [
              0.5555555555555556,
              "#d8576b"
             ],
             [
              0.6666666666666666,
              "#ed7953"
             ],
             [
              0.7777777777777778,
              "#fb9f3a"
             ],
             [
              0.8888888888888888,
              "#fdca26"
             ],
             [
              1,
              "#f0f921"
             ]
            ],
            "type": "heatmap"
           }
          ],
          "heatmapgl": [
           {
            "colorbar": {
             "outlinewidth": 0,
             "ticks": ""
            },
            "colorscale": [
             [
              0,
              "#0d0887"
             ],
             [
              0.1111111111111111,
              "#46039f"
             ],
             [
              0.2222222222222222,
              "#7201a8"
             ],
             [
              0.3333333333333333,
              "#9c179e"
             ],
             [
              0.4444444444444444,
              "#bd3786"
             ],
             [
              0.5555555555555556,
              "#d8576b"
             ],
             [
              0.6666666666666666,
              "#ed7953"
             ],
             [
              0.7777777777777778,
              "#fb9f3a"
             ],
             [
              0.8888888888888888,
              "#fdca26"
             ],
             [
              1,
              "#f0f921"
             ]
            ],
            "type": "heatmapgl"
           }
          ],
          "histogram": [
           {
            "marker": {
             "colorbar": {
              "outlinewidth": 0,
              "ticks": ""
             }
            },
            "type": "histogram"
           }
          ],
          "histogram2d": [
           {
            "colorbar": {
             "outlinewidth": 0,
             "ticks": ""
            },
            "colorscale": [
             [
              0,
              "#0d0887"
             ],
             [
              0.1111111111111111,
              "#46039f"
             ],
             [
              0.2222222222222222,
              "#7201a8"
             ],
             [
              0.3333333333333333,
              "#9c179e"
             ],
             [
              0.4444444444444444,
              "#bd3786"
             ],
             [
              0.5555555555555556,
              "#d8576b"
             ],
             [
              0.6666666666666666,
              "#ed7953"
             ],
             [
              0.7777777777777778,
              "#fb9f3a"
             ],
             [
              0.8888888888888888,
              "#fdca26"
             ],
             [
              1,
              "#f0f921"
             ]
            ],
            "type": "histogram2d"
           }
          ],
          "histogram2dcontour": [
           {
            "colorbar": {
             "outlinewidth": 0,
             "ticks": ""
            },
            "colorscale": [
             [
              0,
              "#0d0887"
             ],
             [
              0.1111111111111111,
              "#46039f"
             ],
             [
              0.2222222222222222,
              "#7201a8"
             ],
             [
              0.3333333333333333,
              "#9c179e"
             ],
             [
              0.4444444444444444,
              "#bd3786"
             ],
             [
              0.5555555555555556,
              "#d8576b"
             ],
             [
              0.6666666666666666,
              "#ed7953"
             ],
             [
              0.7777777777777778,
              "#fb9f3a"
             ],
             [
              0.8888888888888888,
              "#fdca26"
             ],
             [
              1,
              "#f0f921"
             ]
            ],
            "type": "histogram2dcontour"
           }
          ],
          "mesh3d": [
           {
            "colorbar": {
             "outlinewidth": 0,
             "ticks": ""
            },
            "type": "mesh3d"
           }
          ],
          "parcoords": [
           {
            "line": {
             "colorbar": {
              "outlinewidth": 0,
              "ticks": ""
             }
            },
            "type": "parcoords"
           }
          ],
          "pie": [
           {
            "automargin": true,
            "type": "pie"
           }
          ],
          "scatter": [
           {
            "marker": {
             "colorbar": {
              "outlinewidth": 0,
              "ticks": ""
             }
            },
            "type": "scatter"
           }
          ],
          "scatter3d": [
           {
            "line": {
             "colorbar": {
              "outlinewidth": 0,
              "ticks": ""
             }
            },
            "marker": {
             "colorbar": {
              "outlinewidth": 0,
              "ticks": ""
             }
            },
            "type": "scatter3d"
           }
          ],
          "scattercarpet": [
           {
            "marker": {
             "colorbar": {
              "outlinewidth": 0,
              "ticks": ""
             }
            },
            "type": "scattercarpet"
           }
          ],
          "scattergeo": [
           {
            "marker": {
             "colorbar": {
              "outlinewidth": 0,
              "ticks": ""
             }
            },
            "type": "scattergeo"
           }
          ],
          "scattergl": [
           {
            "marker": {
             "colorbar": {
              "outlinewidth": 0,
              "ticks": ""
             }
            },
            "type": "scattergl"
           }
          ],
          "scattermapbox": [
           {
            "marker": {
             "colorbar": {
              "outlinewidth": 0,
              "ticks": ""
             }
            },
            "type": "scattermapbox"
           }
          ],
          "scatterpolar": [
           {
            "marker": {
             "colorbar": {
              "outlinewidth": 0,
              "ticks": ""
             }
            },
            "type": "scatterpolar"
           }
          ],
          "scatterpolargl": [
           {
            "marker": {
             "colorbar": {
              "outlinewidth": 0,
              "ticks": ""
             }
            },
            "type": "scatterpolargl"
           }
          ],
          "scatterternary": [
           {
            "marker": {
             "colorbar": {
              "outlinewidth": 0,
              "ticks": ""
             }
            },
            "type": "scatterternary"
           }
          ],
          "surface": [
           {
            "colorbar": {
             "outlinewidth": 0,
             "ticks": ""
            },
            "colorscale": [
             [
              0,
              "#0d0887"
             ],
             [
              0.1111111111111111,
              "#46039f"
             ],
             [
              0.2222222222222222,
              "#7201a8"
             ],
             [
              0.3333333333333333,
              "#9c179e"
             ],
             [
              0.4444444444444444,
              "#bd3786"
             ],
             [
              0.5555555555555556,
              "#d8576b"
             ],
             [
              0.6666666666666666,
              "#ed7953"
             ],
             [
              0.7777777777777778,
              "#fb9f3a"
             ],
             [
              0.8888888888888888,
              "#fdca26"
             ],
             [
              1,
              "#f0f921"
             ]
            ],
            "type": "surface"
           }
          ],
          "table": [
           {
            "cells": {
             "fill": {
              "color": "#EBF0F8"
             },
             "line": {
              "color": "white"
             }
            },
            "header": {
             "fill": {
              "color": "#C8D4E3"
             },
             "line": {
              "color": "white"
             }
            },
            "type": "table"
           }
          ]
         },
         "layout": {
          "annotationdefaults": {
           "arrowcolor": "#2a3f5f",
           "arrowhead": 0,
           "arrowwidth": 1
          },
          "coloraxis": {
           "colorbar": {
            "outlinewidth": 0,
            "ticks": ""
           }
          },
          "colorscale": {
           "diverging": [
            [
             0,
             "#8e0152"
            ],
            [
             0.1,
             "#c51b7d"
            ],
            [
             0.2,
             "#de77ae"
            ],
            [
             0.3,
             "#f1b6da"
            ],
            [
             0.4,
             "#fde0ef"
            ],
            [
             0.5,
             "#f7f7f7"
            ],
            [
             0.6,
             "#e6f5d0"
            ],
            [
             0.7,
             "#b8e186"
            ],
            [
             0.8,
             "#7fbc41"
            ],
            [
             0.9,
             "#4d9221"
            ],
            [
             1,
             "#276419"
            ]
           ],
           "sequential": [
            [
             0,
             "#0d0887"
            ],
            [
             0.1111111111111111,
             "#46039f"
            ],
            [
             0.2222222222222222,
             "#7201a8"
            ],
            [
             0.3333333333333333,
             "#9c179e"
            ],
            [
             0.4444444444444444,
             "#bd3786"
            ],
            [
             0.5555555555555556,
             "#d8576b"
            ],
            [
             0.6666666666666666,
             "#ed7953"
            ],
            [
             0.7777777777777778,
             "#fb9f3a"
            ],
            [
             0.8888888888888888,
             "#fdca26"
            ],
            [
             1,
             "#f0f921"
            ]
           ],
           "sequentialminus": [
            [
             0,
             "#0d0887"
            ],
            [
             0.1111111111111111,
             "#46039f"
            ],
            [
             0.2222222222222222,
             "#7201a8"
            ],
            [
             0.3333333333333333,
             "#9c179e"
            ],
            [
             0.4444444444444444,
             "#bd3786"
            ],
            [
             0.5555555555555556,
             "#d8576b"
            ],
            [
             0.6666666666666666,
             "#ed7953"
            ],
            [
             0.7777777777777778,
             "#fb9f3a"
            ],
            [
             0.8888888888888888,
             "#fdca26"
            ],
            [
             1,
             "#f0f921"
            ]
           ]
          },
          "colorway": [
           "#636efa",
           "#EF553B",
           "#00cc96",
           "#ab63fa",
           "#FFA15A",
           "#19d3f3",
           "#FF6692",
           "#B6E880",
           "#FF97FF",
           "#FECB52"
          ],
          "font": {
           "color": "#2a3f5f"
          },
          "geo": {
           "bgcolor": "white",
           "lakecolor": "white",
           "landcolor": "#E5ECF6",
           "showlakes": true,
           "showland": true,
           "subunitcolor": "white"
          },
          "hoverlabel": {
           "align": "left"
          },
          "hovermode": "closest",
          "mapbox": {
           "style": "light"
          },
          "paper_bgcolor": "white",
          "plot_bgcolor": "#E5ECF6",
          "polar": {
           "angularaxis": {
            "gridcolor": "white",
            "linecolor": "white",
            "ticks": ""
           },
           "bgcolor": "#E5ECF6",
           "radialaxis": {
            "gridcolor": "white",
            "linecolor": "white",
            "ticks": ""
           }
          },
          "scene": {
           "xaxis": {
            "backgroundcolor": "#E5ECF6",
            "gridcolor": "white",
            "gridwidth": 2,
            "linecolor": "white",
            "showbackground": true,
            "ticks": "",
            "zerolinecolor": "white"
           },
           "yaxis": {
            "backgroundcolor": "#E5ECF6",
            "gridcolor": "white",
            "gridwidth": 2,
            "linecolor": "white",
            "showbackground": true,
            "ticks": "",
            "zerolinecolor": "white"
           },
           "zaxis": {
            "backgroundcolor": "#E5ECF6",
            "gridcolor": "white",
            "gridwidth": 2,
            "linecolor": "white",
            "showbackground": true,
            "ticks": "",
            "zerolinecolor": "white"
           }
          },
          "shapedefaults": {
           "line": {
            "color": "#2a3f5f"
           }
          },
          "ternary": {
           "aaxis": {
            "gridcolor": "white",
            "linecolor": "white",
            "ticks": ""
           },
           "baxis": {
            "gridcolor": "white",
            "linecolor": "white",
            "ticks": ""
           },
           "bgcolor": "#E5ECF6",
           "caxis": {
            "gridcolor": "white",
            "linecolor": "white",
            "ticks": ""
           }
          },
          "title": {
           "x": 0.05
          },
          "xaxis": {
           "automargin": true,
           "gridcolor": "white",
           "linecolor": "white",
           "ticks": "",
           "title": {
            "standoff": 15
           },
           "zerolinecolor": "white",
           "zerolinewidth": 2
          },
          "yaxis": {
           "automargin": true,
           "gridcolor": "white",
           "linecolor": "white",
           "ticks": "",
           "title": {
            "standoff": 15
           },
           "zerolinecolor": "white",
           "zerolinewidth": 2
          }
         }
        }
       }
      },
      "text/html": [
       "<div>\n",
       "        \n",
       "        \n",
       "            <div id=\"e091ee10-a89a-4dbf-85b8-1e5efb7a0c50\" class=\"plotly-graph-div\" style=\"height:525px; width:100%;\"></div>\n",
       "            <script type=\"text/javascript\">\n",
       "                require([\"plotly\"], function(Plotly) {\n",
       "                    window.PLOTLYENV=window.PLOTLYENV || {};\n",
       "                    \n",
       "                if (document.getElementById(\"e091ee10-a89a-4dbf-85b8-1e5efb7a0c50\")) {\n",
       "                    Plotly.newPlot(\n",
       "                        'e091ee10-a89a-4dbf-85b8-1e5efb7a0c50',\n",
       "                        [{\"type\": \"scatter\", \"y\": [3.34159255027771, 3.1931569576263428, 2.909846305847168, 2.741990804672241, 2.7210869789123535, 2.771808624267578, 2.8815243244171143, 3.070465564727783, 3.324679136276245, 3.5836496353149414]}, {\"type\": \"scatter\", \"y\": [0.20000000298023224, 0.6809230446815491, 1.7420780658721924, 2.685340166091919, 3.1611640453338623, 3.1287291049957275, 2.659282684326172, 1.943707823753357, 1.2468074560165405, 0.8211299180984497]}, {\"type\": \"scatter\", \"y\": [0.0, -1.4843560457229614, -1.3487510681152344, -0.3298022747039795, 0.12076272070407867, 0.38645410537719727, 0.71070396900177, 1.1787070035934448, 1.3634284734725952, 1.2262784242630005]}, {\"type\": \"scatter\", \"y\": [0.0, 4.809230804443359, 5.802319049835205, 3.6303024291992188, 1.1279362440109253, -1.4522864818572998, -3.2421765327453613, -3.913572311401367, -3.055431365966797, -1.2013441324234009]}],\n",
       "                        {\"template\": {\"data\": {\"bar\": [{\"error_x\": {\"color\": \"#2a3f5f\"}, \"error_y\": {\"color\": \"#2a3f5f\"}, \"marker\": {\"line\": {\"color\": \"#E5ECF6\", \"width\": 0.5}}, \"type\": \"bar\"}], \"barpolar\": [{\"marker\": {\"line\": {\"color\": \"#E5ECF6\", \"width\": 0.5}}, \"type\": \"barpolar\"}], \"carpet\": [{\"aaxis\": {\"endlinecolor\": \"#2a3f5f\", \"gridcolor\": \"white\", \"linecolor\": \"white\", \"minorgridcolor\": \"white\", \"startlinecolor\": \"#2a3f5f\"}, \"baxis\": {\"endlinecolor\": \"#2a3f5f\", \"gridcolor\": \"white\", \"linecolor\": \"white\", \"minorgridcolor\": \"white\", \"startlinecolor\": \"#2a3f5f\"}, \"type\": \"carpet\"}], \"choropleth\": [{\"colorbar\": {\"outlinewidth\": 0, \"ticks\": \"\"}, \"type\": \"choropleth\"}], \"contour\": [{\"colorbar\": {\"outlinewidth\": 0, \"ticks\": \"\"}, \"colorscale\": [[0.0, \"#0d0887\"], [0.1111111111111111, \"#46039f\"], [0.2222222222222222, \"#7201a8\"], [0.3333333333333333, \"#9c179e\"], [0.4444444444444444, \"#bd3786\"], [0.5555555555555556, \"#d8576b\"], [0.6666666666666666, \"#ed7953\"], [0.7777777777777778, \"#fb9f3a\"], [0.8888888888888888, \"#fdca26\"], [1.0, \"#f0f921\"]], \"type\": \"contour\"}], \"contourcarpet\": [{\"colorbar\": {\"outlinewidth\": 0, \"ticks\": \"\"}, \"type\": \"contourcarpet\"}], \"heatmap\": [{\"colorbar\": {\"outlinewidth\": 0, \"ticks\": \"\"}, \"colorscale\": [[0.0, \"#0d0887\"], [0.1111111111111111, \"#46039f\"], [0.2222222222222222, \"#7201a8\"], [0.3333333333333333, \"#9c179e\"], [0.4444444444444444, \"#bd3786\"], [0.5555555555555556, \"#d8576b\"], [0.6666666666666666, \"#ed7953\"], [0.7777777777777778, \"#fb9f3a\"], [0.8888888888888888, \"#fdca26\"], [1.0, \"#f0f921\"]], \"type\": \"heatmap\"}], \"heatmapgl\": [{\"colorbar\": {\"outlinewidth\": 0, \"ticks\": \"\"}, \"colorscale\": [[0.0, \"#0d0887\"], [0.1111111111111111, \"#46039f\"], [0.2222222222222222, \"#7201a8\"], [0.3333333333333333, \"#9c179e\"], [0.4444444444444444, \"#bd3786\"], [0.5555555555555556, \"#d8576b\"], [0.6666666666666666, \"#ed7953\"], [0.7777777777777778, \"#fb9f3a\"], [0.8888888888888888, \"#fdca26\"], [1.0, \"#f0f921\"]], \"type\": \"heatmapgl\"}], \"histogram\": [{\"marker\": {\"colorbar\": {\"outlinewidth\": 0, \"ticks\": \"\"}}, \"type\": \"histogram\"}], \"histogram2d\": [{\"colorbar\": {\"outlinewidth\": 0, \"ticks\": \"\"}, \"colorscale\": [[0.0, \"#0d0887\"], [0.1111111111111111, \"#46039f\"], [0.2222222222222222, \"#7201a8\"], [0.3333333333333333, \"#9c179e\"], [0.4444444444444444, \"#bd3786\"], [0.5555555555555556, \"#d8576b\"], [0.6666666666666666, \"#ed7953\"], [0.7777777777777778, \"#fb9f3a\"], [0.8888888888888888, \"#fdca26\"], [1.0, \"#f0f921\"]], \"type\": \"histogram2d\"}], \"histogram2dcontour\": [{\"colorbar\": {\"outlinewidth\": 0, \"ticks\": \"\"}, \"colorscale\": [[0.0, \"#0d0887\"], [0.1111111111111111, \"#46039f\"], [0.2222222222222222, \"#7201a8\"], [0.3333333333333333, \"#9c179e\"], [0.4444444444444444, \"#bd3786\"], [0.5555555555555556, \"#d8576b\"], [0.6666666666666666, \"#ed7953\"], [0.7777777777777778, \"#fb9f3a\"], [0.8888888888888888, \"#fdca26\"], [1.0, \"#f0f921\"]], \"type\": \"histogram2dcontour\"}], \"mesh3d\": [{\"colorbar\": {\"outlinewidth\": 0, \"ticks\": \"\"}, \"type\": \"mesh3d\"}], \"parcoords\": [{\"line\": {\"colorbar\": {\"outlinewidth\": 0, \"ticks\": \"\"}}, \"type\": \"parcoords\"}], \"pie\": [{\"automargin\": true, \"type\": \"pie\"}], \"scatter\": [{\"marker\": {\"colorbar\": {\"outlinewidth\": 0, \"ticks\": \"\"}}, \"type\": \"scatter\"}], \"scatter3d\": [{\"line\": {\"colorbar\": {\"outlinewidth\": 0, \"ticks\": \"\"}}, \"marker\": {\"colorbar\": {\"outlinewidth\": 0, \"ticks\": \"\"}}, \"type\": \"scatter3d\"}], \"scattercarpet\": [{\"marker\": {\"colorbar\": {\"outlinewidth\": 0, \"ticks\": \"\"}}, \"type\": \"scattercarpet\"}], \"scattergeo\": [{\"marker\": {\"colorbar\": {\"outlinewidth\": 0, \"ticks\": \"\"}}, \"type\": \"scattergeo\"}], \"scattergl\": [{\"marker\": {\"colorbar\": {\"outlinewidth\": 0, \"ticks\": \"\"}}, \"type\": \"scattergl\"}], \"scattermapbox\": [{\"marker\": {\"colorbar\": {\"outlinewidth\": 0, \"ticks\": \"\"}}, \"type\": \"scattermapbox\"}], \"scatterpolar\": [{\"marker\": {\"colorbar\": {\"outlinewidth\": 0, \"ticks\": \"\"}}, \"type\": \"scatterpolar\"}], \"scatterpolargl\": [{\"marker\": {\"colorbar\": {\"outlinewidth\": 0, \"ticks\": \"\"}}, \"type\": \"scatterpolargl\"}], \"scatterternary\": [{\"marker\": {\"colorbar\": {\"outlinewidth\": 0, \"ticks\": \"\"}}, \"type\": \"scatterternary\"}], \"surface\": [{\"colorbar\": {\"outlinewidth\": 0, \"ticks\": \"\"}, \"colorscale\": [[0.0, \"#0d0887\"], [0.1111111111111111, \"#46039f\"], [0.2222222222222222, \"#7201a8\"], [0.3333333333333333, \"#9c179e\"], [0.4444444444444444, \"#bd3786\"], [0.5555555555555556, \"#d8576b\"], [0.6666666666666666, \"#ed7953\"], [0.7777777777777778, \"#fb9f3a\"], [0.8888888888888888, \"#fdca26\"], [1.0, \"#f0f921\"]], \"type\": \"surface\"}], \"table\": [{\"cells\": {\"fill\": {\"color\": \"#EBF0F8\"}, \"line\": {\"color\": \"white\"}}, \"header\": {\"fill\": {\"color\": \"#C8D4E3\"}, \"line\": {\"color\": \"white\"}}, \"type\": \"table\"}]}, \"layout\": {\"annotationdefaults\": {\"arrowcolor\": \"#2a3f5f\", \"arrowhead\": 0, \"arrowwidth\": 1}, \"coloraxis\": {\"colorbar\": {\"outlinewidth\": 0, \"ticks\": \"\"}}, \"colorscale\": {\"diverging\": [[0, \"#8e0152\"], [0.1, \"#c51b7d\"], [0.2, \"#de77ae\"], [0.3, \"#f1b6da\"], [0.4, \"#fde0ef\"], [0.5, \"#f7f7f7\"], [0.6, \"#e6f5d0\"], [0.7, \"#b8e186\"], [0.8, \"#7fbc41\"], [0.9, \"#4d9221\"], [1, \"#276419\"]], \"sequential\": [[0.0, \"#0d0887\"], [0.1111111111111111, \"#46039f\"], [0.2222222222222222, \"#7201a8\"], [0.3333333333333333, \"#9c179e\"], [0.4444444444444444, \"#bd3786\"], [0.5555555555555556, \"#d8576b\"], [0.6666666666666666, \"#ed7953\"], [0.7777777777777778, \"#fb9f3a\"], [0.8888888888888888, \"#fdca26\"], [1.0, \"#f0f921\"]], \"sequentialminus\": [[0.0, \"#0d0887\"], [0.1111111111111111, \"#46039f\"], [0.2222222222222222, \"#7201a8\"], [0.3333333333333333, \"#9c179e\"], [0.4444444444444444, \"#bd3786\"], [0.5555555555555556, \"#d8576b\"], [0.6666666666666666, \"#ed7953\"], [0.7777777777777778, \"#fb9f3a\"], [0.8888888888888888, \"#fdca26\"], [1.0, \"#f0f921\"]]}, \"colorway\": [\"#636efa\", \"#EF553B\", \"#00cc96\", \"#ab63fa\", \"#FFA15A\", \"#19d3f3\", \"#FF6692\", \"#B6E880\", \"#FF97FF\", \"#FECB52\"], \"font\": {\"color\": \"#2a3f5f\"}, \"geo\": {\"bgcolor\": \"white\", \"lakecolor\": \"white\", \"landcolor\": \"#E5ECF6\", \"showlakes\": true, \"showland\": true, \"subunitcolor\": \"white\"}, \"hoverlabel\": {\"align\": \"left\"}, \"hovermode\": \"closest\", \"mapbox\": {\"style\": \"light\"}, \"paper_bgcolor\": \"white\", \"plot_bgcolor\": \"#E5ECF6\", \"polar\": {\"angularaxis\": {\"gridcolor\": \"white\", \"linecolor\": \"white\", \"ticks\": \"\"}, \"bgcolor\": \"#E5ECF6\", \"radialaxis\": {\"gridcolor\": \"white\", \"linecolor\": \"white\", \"ticks\": \"\"}}, \"scene\": {\"xaxis\": {\"backgroundcolor\": \"#E5ECF6\", \"gridcolor\": \"white\", \"gridwidth\": 2, \"linecolor\": \"white\", \"showbackground\": true, \"ticks\": \"\", \"zerolinecolor\": \"white\"}, \"yaxis\": {\"backgroundcolor\": \"#E5ECF6\", \"gridcolor\": \"white\", \"gridwidth\": 2, \"linecolor\": \"white\", \"showbackground\": true, \"ticks\": \"\", \"zerolinecolor\": \"white\"}, \"zaxis\": {\"backgroundcolor\": \"#E5ECF6\", \"gridcolor\": \"white\", \"gridwidth\": 2, \"linecolor\": \"white\", \"showbackground\": true, \"ticks\": \"\", \"zerolinecolor\": \"white\"}}, \"shapedefaults\": {\"line\": {\"color\": \"#2a3f5f\"}}, \"ternary\": {\"aaxis\": {\"gridcolor\": \"white\", \"linecolor\": \"white\", \"ticks\": \"\"}, \"baxis\": {\"gridcolor\": \"white\", \"linecolor\": \"white\", \"ticks\": \"\"}, \"bgcolor\": \"#E5ECF6\", \"caxis\": {\"gridcolor\": \"white\", \"linecolor\": \"white\", \"ticks\": \"\"}}, \"title\": {\"x\": 0.05}, \"xaxis\": {\"automargin\": true, \"gridcolor\": \"white\", \"linecolor\": \"white\", \"ticks\": \"\", \"title\": {\"standoff\": 15}, \"zerolinecolor\": \"white\", \"zerolinewidth\": 2}, \"yaxis\": {\"automargin\": true, \"gridcolor\": \"white\", \"linecolor\": \"white\", \"ticks\": \"\", \"title\": {\"standoff\": 15}, \"zerolinecolor\": \"white\", \"zerolinewidth\": 2}}}},\n",
       "                        {\"responsive\": true}\n",
       "                    ).then(function(){\n",
       "                            \n",
       "var gd = document.getElementById('e091ee10-a89a-4dbf-85b8-1e5efb7a0c50');\n",
       "var x = new MutationObserver(function (mutations, observer) {{\n",
       "        var display = window.getComputedStyle(gd).display;\n",
       "        if (!display || display === 'none') {{\n",
       "            console.log([gd, 'removed!']);\n",
       "            Plotly.purge(gd);\n",
       "            observer.disconnect();\n",
       "        }}\n",
       "}});\n",
       "\n",
       "// Listen for the removal of the full notebook cells\n",
       "var notebookContainer = gd.closest('#notebook-container');\n",
       "if (notebookContainer) {{\n",
       "    x.observe(notebookContainer, {childList: true});\n",
       "}}\n",
       "\n",
       "// Listen for the clearing of the current output cell\n",
       "var outputEl = gd.closest('.output');\n",
       "if (outputEl) {{\n",
       "    x.observe(outputEl, {childList: true});\n",
       "}}\n",
       "\n",
       "                        })\n",
       "                };\n",
       "                });\n",
       "            </script>\n",
       "        </div>"
      ]
     },
     "metadata": {},
     "output_type": "display_data"
    }
   ],
   "source": [
    "eps = .2\n",
    "x0 = torch.Tensor([np.pi+eps, eps, 0., 0.]).double()\n",
    "x_traj, u_traj, alpha_traj = vf.sol_to_traj(x0, *(V(x0)[1:]))\n",
    "fig = go.Figure()\n",
    "for i in range(4):\n",
    "    fig.add_trace(go.Scatter(\n",
    "        y=x_traj[i,:]\n",
    "    ))\n",
    "fig.show()"
   ]
  },
  {
   "cell_type": "code",
   "execution_count": 32,
   "metadata": {},
   "outputs": [
    {
     "data": {
      "application/vnd.plotly.v1+json": {
       "config": {
        "plotlyServerURL": "https://plot.ly"
       },
       "data": [
        {
         "type": "scatter",
         "x": [
          0,
          4.12241424783133e-05,
          0.00045346555998548865,
          0.004575879778712988,
          0.04580002278089523,
          0.10000000149011612,
          0.1587231606245041,
          0.20000000298023224,
          0.26086732745170593,
          0.30000001192092896,
          0.3620006740093231,
          0.4000000059604645,
          0.46140241622924805,
          0.5,
          0.560613214969635,
          0.6000000238418579,
          0.6542264223098755,
          0.699999988079071,
          0.7630881667137146,
          0.800000011920929,
          0.8746134638786316,
          0.8999999761581421,
          0.9657192826271057,
          1,
          1.0620533227920532,
          1.100000023841858,
          1.164750337600708,
          1.2000000476837158,
          1.2659857273101807,
          1.2999999523162842,
          1.3643231391906738,
          1.399999976158142,
          1.4642550945281982,
          1.5,
          1.56504487991333,
          1.600000023841858,
          1.6656136512756348,
          1.7000000476837158,
          1.765933871269226,
          1.7999999523162842,
          1.86611008644104,
          1.899999976158142,
          1.966209888458252,
          2,
          2.066270112991333,
          2.0999999046325684,
          2.166311264038086,
          2.200000047683716,
          2.2663445472717285,
          2.299999952316284,
          2.366377592086792,
          2.4000000953674316,
          2.4664154052734375,
          2.5,
          2.566462993621826,
          2.5999999046325684,
          2.6665241718292236,
          2.700000047683716,
          2.7666022777557373,
          2.799999952316284,
          2.866702079772949,
          2.9000000953674316,
          2.9668290615081787,
          3,
          3.0669851303100586,
          3.0999999046325684,
          3.1671791076660156,
          3.200000047683716,
          3.267414093017578,
          3.299999952316284,
          3.367694616317749,
          3.4000000953674316,
          3.468027353286743,
          3.5,
          3.5684213638305664,
          3.5999999046325684,
          3.668879270553589,
          3.700000047683716,
          3.7694015502929688,
          3.799999952316284,
          3.869987964630127,
          3.9000000953674316,
          3.9706573486328125,
          4,
          4.071394920349121,
          4.099999904632568,
          4.172202110290527,
          4.199999809265137,
          4.273068428039551,
          4.300000190734863,
          4.374024391174316,
          4.400000095367432,
          4.475051403045654,
          4.5,
          4.576127529144287,
          4.599999904632568,
          4.677248954772949,
          4.699999809265137,
          4.778486251831055,
          4.800000190734863,
          4.879793167114258,
          4.900000095367432,
          4.981167793273926,
          5,
          5.082650661468506,
          5.099999904632568,
          5.18436861038208,
          5.199999809265137,
          5.2859601974487305,
          5.300000190734863,
          5.3879852294921875,
          5.400000095367432,
          5.489573001861572,
          5.5,
          5.5915656089782715,
          5.599999904632568,
          5.694015979766846,
          5.699999809265137,
          5.796186923980713,
          5.800000190734863,
          5.898992538452148,
          5.900000095367432,
          6,
          6.099999904632568,
          6.199999809265137,
          6.300000190734863,
          6.400000095367432,
          6.5,
          6.599999904632568,
          6.699999809265137,
          6.800000190734863,
          6.900000095367432,
          7,
          7.099999904632568,
          7.199999809265137,
          7.300000190734863,
          7.400000095367432,
          7.5,
          7.599999904632568,
          7.699999809265137,
          7.800000190734863,
          7.900000095367432,
          8,
          8.100000381469727,
          8.199999809265137,
          8.300000190734863,
          8.399999618530273,
          8.5,
          8.600000381469727,
          8.699999809265137,
          8.800000190734863,
          8.899999618530273,
          9,
          9.100000381469727,
          9.199999809265137,
          9.300000190734863,
          9.399999618530273,
          9.5,
          9.600000381469727,
          9.699999809265137,
          9.800000190734863,
          9.899999618530273
         ],
         "y": [
          3.1915926933288574,
          3.1915926933288574,
          3.191591501235962,
          3.1914706230163574,
          3.1793508529663086,
          3.133004903793335,
          3.067697525024414,
          3.0255796909332275,
          2.971163511276245,
          2.9415416717529297,
          2.902738571166992,
          2.8835651874542236,
          2.860407829284668,
          2.8509061336517334,
          2.844747543334961,
          2.846977472305298,
          2.858401298522949,
          2.8761651515960693,
          2.910834789276123,
          2.9360568523406982,
          2.989896297454834,
          3.007847785949707,
          3.047792434692383,
          3.0636513233184814,
          3.084421396255493,
          3.0923972129821777,
          3.1006791591644287,
          3.1032893657684326,
          3.106271505355835,
          3.1073038578033447,
          3.1088597774505615,
          3.1096689701080322,
          3.1111392974853516,
          3.112008810043335,
          3.1136646270751953,
          3.114598035812378,
          3.116384506225586,
          3.1173360347747803,
          3.1191463470458984,
          3.120073080062866,
          3.1218223571777344,
          3.122694730758667,
          3.1243295669555664,
          3.125131130218506,
          3.1266238689422607,
          3.127346992492676,
          3.1286871433258057,
          3.129330635070801,
          3.130518913269043,
          3.1310856342315674,
          3.132128953933716,
          3.1326239109039307,
          3.1335325241088867,
          3.1339614391326904,
          3.1347479820251465,
          3.135117292404175,
          3.1357951164245605,
          3.1361117362976074,
          3.136693000793457,
          3.136963129043579,
          3.1374597549438477,
          3.1376888751983643,
          3.1381120681762695,
          3.1383063793182373,
          3.1386661529541016,
          3.1388297080993652,
          3.1391348838806152,
          3.1392722129821777,
          3.139530897140503,
          3.139646053314209,
          3.1398651599884033,
          3.1399612426757812,
          3.140146255493164,
          3.140226125717163,
          3.1403820514678955,
          3.1404483318328857,
          3.140580177307129,
          3.140634775161743,
          3.1407461166381836,
          3.140791416168213,
          3.140885353088379,
          3.1409225463867188,
          3.1410019397735596,
          3.1410322189331055,
          3.141099214553833,
          3.1411240100860596,
          3.1411807537078857,
          3.1412010192871094,
          3.141248941421509,
          3.141265392303467,
          3.141305923461914,
          3.1413190364837646,
          3.1413533687591553,
          3.1413638591766357,
          3.1413931846618652,
          3.141401529312134,
          3.1414263248443604,
          3.141433000564575,
          3.141453981399536,
          3.1414592266082764,
          3.141477108001709,
          3.1414811611175537,
          3.141496181488037,
          3.1414995193481445,
          3.141512155532837,
          3.141514539718628,
          3.1415252685546875,
          3.1415271759033203,
          3.141536235809326,
          3.1415374279022217,
          3.141545295715332,
          3.1415462493896484,
          3.1415531635284424,
          3.1415538787841797,
          3.141559600830078,
          3.1415600776672363,
          3.1415650844573975,
          3.1415653228759766,
          3.1415696144104004,
          3.1415696144104004,
          3.141573190689087,
          3.141573190689087,
          3.141576051712036,
          3.141578435897827,
          3.14158034324646,
          3.1415822505950928,
          3.1415836811065674,
          3.141584634780884,
          3.1415855884552,
          3.1415863037109375,
          3.141587257385254,
          3.1415882110595703,
          3.1415889263153076,
          3.1415891647338867,
          3.141589641571045,
          3.141590118408203,
          3.1415903568267822,
          3.1415905952453613,
          3.1415908336639404,
          3.1415908336639404,
          3.1415908336639404,
          3.1415908336639404,
          3.1415910720825195,
          3.1415915489196777,
          3.1415915489196777,
          3.1415913105010986,
          3.1415915489196777,
          3.1415915489196777,
          3.1415915489196777,
          3.1415915489196777,
          3.141591787338257,
          3.141591787338257,
          3.1415915489196777,
          3.141591787338257,
          3.141591787338257,
          3.141592025756836,
          3.141592025756836,
          3.141592025756836,
          3.141591787338257,
          3.141591787338257,
          3.141592025756836,
          3.141591787338257
         ]
        },
        {
         "type": "scatter",
         "x": [
          0,
          4.12241424783133e-05,
          0.00045346555998548865,
          0.004575879778712988,
          0.04580002278089523,
          0.10000000149011612,
          0.1587231606245041,
          0.20000000298023224,
          0.26086732745170593,
          0.30000001192092896,
          0.3620006740093231,
          0.4000000059604645,
          0.46140241622924805,
          0.5,
          0.560613214969635,
          0.6000000238418579,
          0.6542264223098755,
          0.699999988079071,
          0.7630881667137146,
          0.800000011920929,
          0.8746134638786316,
          0.8999999761581421,
          0.9657192826271057,
          1,
          1.0620533227920532,
          1.100000023841858,
          1.164750337600708,
          1.2000000476837158,
          1.2659857273101807,
          1.2999999523162842,
          1.3643231391906738,
          1.399999976158142,
          1.4642550945281982,
          1.5,
          1.56504487991333,
          1.600000023841858,
          1.6656136512756348,
          1.7000000476837158,
          1.765933871269226,
          1.7999999523162842,
          1.86611008644104,
          1.899999976158142,
          1.966209888458252,
          2,
          2.066270112991333,
          2.0999999046325684,
          2.166311264038086,
          2.200000047683716,
          2.2663445472717285,
          2.299999952316284,
          2.366377592086792,
          2.4000000953674316,
          2.4664154052734375,
          2.5,
          2.566462993621826,
          2.5999999046325684,
          2.6665241718292236,
          2.700000047683716,
          2.7666022777557373,
          2.799999952316284,
          2.866702079772949,
          2.9000000953674316,
          2.9668290615081787,
          3,
          3.0669851303100586,
          3.0999999046325684,
          3.1671791076660156,
          3.200000047683716,
          3.267414093017578,
          3.299999952316284,
          3.367694616317749,
          3.4000000953674316,
          3.468027353286743,
          3.5,
          3.5684213638305664,
          3.5999999046325684,
          3.668879270553589,
          3.700000047683716,
          3.7694015502929688,
          3.799999952316284,
          3.869987964630127,
          3.9000000953674316,
          3.9706573486328125,
          4,
          4.071394920349121,
          4.099999904632568,
          4.172202110290527,
          4.199999809265137,
          4.273068428039551,
          4.300000190734863,
          4.374024391174316,
          4.400000095367432,
          4.475051403045654,
          4.5,
          4.576127529144287,
          4.599999904632568,
          4.677248954772949,
          4.699999809265137,
          4.778486251831055,
          4.800000190734863,
          4.879793167114258,
          4.900000095367432,
          4.981167793273926,
          5,
          5.082650661468506,
          5.099999904632568,
          5.18436861038208,
          5.199999809265137,
          5.2859601974487305,
          5.300000190734863,
          5.3879852294921875,
          5.400000095367432,
          5.489573001861572,
          5.5,
          5.5915656089782715,
          5.599999904632568,
          5.694015979766846,
          5.699999809265137,
          5.796186923980713,
          5.800000190734863,
          5.898992538452148,
          5.900000095367432,
          6,
          6.099999904632568,
          6.199999809265137,
          6.300000190734863,
          6.400000095367432,
          6.5,
          6.599999904632568,
          6.699999809265137,
          6.800000190734863,
          6.900000095367432,
          7,
          7.099999904632568,
          7.199999809265137,
          7.300000190734863,
          7.400000095367432,
          7.5,
          7.599999904632568,
          7.699999809265137,
          7.800000190734863,
          7.900000095367432,
          8,
          8.100000381469727,
          8.199999809265137,
          8.300000190734863,
          8.399999618530273,
          8.5,
          8.600000381469727,
          8.699999809265137,
          8.800000190734863,
          8.899999618530273,
          9,
          9.100000381469727,
          9.199999809265137,
          9.300000190734863,
          9.399999618530273,
          9.5,
          9.600000381469727,
          9.699999809265137,
          9.800000190734863,
          9.899999618530273
         ],
         "y": [
          0.05000000074505806,
          0.05000002682209015,
          0.050003279000520706,
          0.05033400282263756,
          0.08349975198507309,
          0.21025271713733673,
          0.39030981063842773,
          0.5080155730247498,
          0.6622470021247864,
          0.7473517656326294,
          0.859991192817688,
          0.9159599542617798,
          0.9833958148956299,
          1.0105451345443726,
          1.0264458656311035,
          1.0177695751190186,
          0.9805469512939453,
          0.9250615239143372,
          0.8190017938613892,
          0.7430442571640015,
          0.5818730592727661,
          0.5282053351402283,
          0.40745171904563904,
          0.3581954836845398,
          0.2909654676914215,
          0.2629338502883911,
          0.23010970652103424,
          0.21770864725112915,
          0.20028497278690338,
          0.19298790395259857,
          0.18081797659397125,
          0.17450925707817078,
          0.16359661519527435,
          0.1576377898454666,
          0.1470145285129547,
          0.1413947343826294,
          0.13111081719398499,
          0.12585414946079254,
          0.11612096428871155,
          0.11126445978879929,
          0.10224104672670364,
          0.09781033545732498,
          0.08957868069410324,
          0.08558015525341034,
          0.07816172391176224,
          0.07458561658859253,
          0.06796211004257202,
          0.0647873729467392,
          0.05891627445816994,
          0.056115105748176575,
          0.05094115063548088,
          0.04848278686404228,
          0.04394548758864403,
          0.04179816693067551,
          0.037835102528333664,
          0.03596683219075203,
          0.03251607343554497,
          0.030896266922354698,
          0.02789999172091484,
          0.026500701904296875,
          0.02390580251812935,
          0.022700831294059753,
          0.020457468926906586,
          0.01942254789173603,
          0.017486052587628365,
          0.016600139439105988,
          0.014931214042007923,
          0.01417479943484068,
          0.012737307697534561,
          0.012093129567801952,
          0.010856011882424355,
          0.010309172794222832,
          0.009245632216334343,
          0.008783030323684216,
          0.007869214750826359,
          0.00747901713475585,
          0.006693595089018345,
          0.006365309003740549,
          0.005689903628081083,
          0.005414499435573816,
          0.004833824001252651,
          0.004603759851306677,
          0.004104670602828264,
          0.003913148306310177,
          0.003483804874122143,
          0.003324854653328657,
          0.0029552713967859745,
          0.002823794027790427,
          0.002505709882825613,
          0.0023974976502358913,
          0.0021238753106445074,
          0.002035249723121524,
          0.0017996160313487053,
          0.0017272658878937364,
          0.001524080173112452,
          0.001465215696953237,
          0.0012901112204417586,
          0.0012425414752215147,
          0.001091755460947752,
          0.0010536215268075466,
          0.0009236737387254834,
          0.0008933083736337721,
          0.0007813546690158546,
          0.0007574142655357718,
          0.0006611775024794042,
          0.0006426008185371757,
          0.0005596178234554827,
          0.0005454060737974942,
          0.00047382485354319215,
          0.0004630734329111874,
          0.0004008812829852104,
          0.0003929757804144174,
          0.0003388208569958806,
          0.0003330013423692435,
          0.00028631853638216853,
          0.00028237063088454306,
          0.00024197269522119313,
          0.00023959370446391404,
          0.00020472634059842676,
          0.0002034590143011883,
          0.00017335571465082467,
          0.00017307320376858115,
          0.00014752769493497908,
          0.00012601308117154986,
          0.00010776446288218722,
          9.208666597260162e-05,
          7.898003241280094e-05,
          6.833453517174348e-05,
          5.909689934924245e-05,
          5.0983697292394936e-05,
          4.359799640951678e-05,
          3.695825580507517e-05,
          3.163604196743108e-05,
          2.7533485990716144e-05,
          2.382797720201779e-05,
          2.041764309979044e-05,
          1.782321669452358e-05,
          1.568754123582039e-05,
          1.3902619684813544e-05,
          1.2671334843616933e-05,
          1.1669625564536545e-05,
          1.0562582247075625e-05,
          9.205412425217219e-06,
          7.778358849463984e-06,
          7.1410881901101675e-06,
          7.02302486388362e-06,
          6.413808932848042e-06,
          5.896584298170637e-06,
          5.6573699112050235e-06,
          5.259536919766106e-06,
          4.75691149404156e-06,
          4.523466941463994e-06,
          4.612095835909713e-06,
          4.169138719589682e-06,
          3.684952389448881e-06,
          3.3140083814942045e-06,
          3.106274334641057e-06,
          3.259267941757571e-06,
          3.5017192203667946e-06,
          3.5252580801170552e-06,
          3.223776730010286e-06,
          3.4300128390896134e-06
         ]
        },
        {
         "type": "scatter",
         "x": [
          0,
          4.12241424783133e-05,
          0.00045346555998548865,
          0.004575879778712988,
          0.04580002278089523,
          0.10000000149011612,
          0.1587231606245041,
          0.20000000298023224,
          0.26086732745170593,
          0.30000001192092896,
          0.3620006740093231,
          0.4000000059604645,
          0.46140241622924805,
          0.5,
          0.560613214969635,
          0.6000000238418579,
          0.6542264223098755,
          0.699999988079071,
          0.7630881667137146,
          0.800000011920929,
          0.8746134638786316,
          0.8999999761581421,
          0.9657192826271057,
          1,
          1.0620533227920532,
          1.100000023841858,
          1.164750337600708,
          1.2000000476837158,
          1.2659857273101807,
          1.2999999523162842,
          1.3643231391906738,
          1.399999976158142,
          1.4642550945281982,
          1.5,
          1.56504487991333,
          1.600000023841858,
          1.6656136512756348,
          1.7000000476837158,
          1.765933871269226,
          1.7999999523162842,
          1.86611008644104,
          1.899999976158142,
          1.966209888458252,
          2,
          2.066270112991333,
          2.0999999046325684,
          2.166311264038086,
          2.200000047683716,
          2.2663445472717285,
          2.299999952316284,
          2.366377592086792,
          2.4000000953674316,
          2.4664154052734375,
          2.5,
          2.566462993621826,
          2.5999999046325684,
          2.6665241718292236,
          2.700000047683716,
          2.7666022777557373,
          2.799999952316284,
          2.866702079772949,
          2.9000000953674316,
          2.9668290615081787,
          3,
          3.0669851303100586,
          3.0999999046325684,
          3.1671791076660156,
          3.200000047683716,
          3.267414093017578,
          3.299999952316284,
          3.367694616317749,
          3.4000000953674316,
          3.468027353286743,
          3.5,
          3.5684213638305664,
          3.5999999046325684,
          3.668879270553589,
          3.700000047683716,
          3.7694015502929688,
          3.799999952316284,
          3.869987964630127,
          3.9000000953674316,
          3.9706573486328125,
          4,
          4.071394920349121,
          4.099999904632568,
          4.172202110290527,
          4.199999809265137,
          4.273068428039551,
          4.300000190734863,
          4.374024391174316,
          4.400000095367432,
          4.475051403045654,
          4.5,
          4.576127529144287,
          4.599999904632568,
          4.677248954772949,
          4.699999809265137,
          4.778486251831055,
          4.800000190734863,
          4.879793167114258,
          4.900000095367432,
          4.981167793273926,
          5,
          5.082650661468506,
          5.099999904632568,
          5.18436861038208,
          5.199999809265137,
          5.2859601974487305,
          5.300000190734863,
          5.3879852294921875,
          5.400000095367432,
          5.489573001861572,
          5.5,
          5.5915656089782715,
          5.599999904632568,
          5.694015979766846,
          5.699999809265137,
          5.796186923980713,
          5.800000190734863,
          5.898992538452148,
          5.900000095367432,
          6,
          6.099999904632568,
          6.199999809265137,
          6.300000190734863,
          6.400000095367432,
          6.5,
          6.599999904632568,
          6.699999809265137,
          6.800000190734863,
          6.900000095367432,
          7,
          7.099999904632568,
          7.199999809265137,
          7.300000190734863,
          7.400000095367432,
          7.5,
          7.599999904632568,
          7.699999809265137,
          7.800000190734863,
          7.900000095367432,
          8,
          8.100000381469727,
          8.199999809265137,
          8.300000190734863,
          8.399999618530273,
          8.5,
          8.600000381469727,
          8.699999809265137,
          8.800000190734863,
          8.899999618530273,
          9,
          9.100000381469727,
          9.199999809265137,
          9.300000190734863,
          9.399999618530273,
          9.5,
          9.600000381469727,
          9.699999809265137,
          9.800000190734863,
          9.899999618530273
         ],
         "y": [
          0,
          -0.0004805050848517567,
          -0.005285554099828005,
          -0.05333731323480606,
          -0.5352889895439148,
          -1.1758637428283691,
          -1.0542032718658447,
          -0.9893113970756531,
          -0.806149423122406,
          -0.7104068994522095,
          -0.5473477244377136,
          -0.46358856558799744,
          -0.2946886718273163,
          -0.19865840673446655,
          -0.005620506126433611,
          0.11919156461954117,
          0.3043188452720642,
          0.47463324666023254,
          0.6301650404930115,
          0.7389048933982849,
          0.7090657353401184,
          0.7057889103889465,
          0.5114693641662598,
          0.4142630696296692,
          0.2566446363925934,
          0.1641295701265335,
          0.09261544048786163,
          0.05565904825925827,
          0.03519371524453163,
          0.025603454560041428,
          0.02306150086224079,
          0.022375456988811493,
          0.023660579696297646,
          0.025074295699596405,
          0.02611655183136463,
          0.027378659695386887,
          0.02736791782081127,
          0.028054801747202873,
          0.02714402787387371,
          0.027337588369846344,
          0.025850197300314903,
          0.025708910077810287,
          0.02392389625310898,
          0.023582637310028076,
          0.021692974492907524,
          0.02124585025012493,
          0.019376663491129875,
          0.01888653263449669,
          0.01711207628250122,
          0.01661836914718151,
          0.014975283294916153,
          0.014499777927994728,
          0.013006575405597687,
          0.012562614865601063,
          0.011230388656258583,
          0.010827981866896152,
          0.009651278145611286,
          0.00929212849587202,
          0.008255650289356709,
          0.007936187088489532,
          0.007034409791231155,
          0.00675570871680975,
          0.005978574976325035,
          0.005739180836826563,
          0.005064311437308788,
          0.0048561496660113335,
          0.004280420020222664,
          0.00410464545711875,
          0.003612651489675045,
          0.0034640447702258825,
          0.00304181850515306,
          0.0029155034571886063,
          0.0025542140938341618,
          0.002447526901960373,
          0.0021419611293822527,
          0.002053747186437249,
          0.0017963409190997481,
          0.0017241279128938913,
          0.0015062886523082852,
          0.0014469565358012915,
          0.0012597419554367661,
          0.00120990676805377,
          0.0010529786814004183,
          0.001012954511679709,
          0.0008807509439066052,
          0.0008484984864480793,
          0.0007370366365648806,
          0.0007111398153938353,
          0.0006148735410533845,
          0.0005933040520176291,
          0.0005123929004184902,
          0.0004953092429786921,
          0.0004282270965632051,
          0.00041509419679641724,
          0.0003586956299841404,
          0.0003484238113742322,
          0.0002989195054396987,
          0.0002902981359511614,
          0.00024888315238058567,
          0.00024227432732004672,
          0.00020744306675624102,
          0.00020237528951838613,
          0.00017216119158547372,
          0.00016809195221867412,
          0.00014128324983175844,
          0.00013792049139738083,
          0.00011829258437501267,
          0.00011637233546935022,
          9.725677955430001e-05,
          9.542814223095775e-05,
          8.430570596829057e-05,
          8.373069431399927e-05,
          7.095799082890153e-05,
          7.017001917120069e-05,
          5.771140058641322e-05,
          5.7035471400013193e-05,
          4.8681191401556134e-05,
          4.8430822062073275e-05,
          3.924170960090123e-05,
          3.902695971191861e-05,
          3.2540690881432965e-05,
          3.250761437811889e-05,
          2.595061232568696e-05,
          2.2087018805905245e-05,
          1.8338383597438224e-05,
          1.719241299724672e-05,
          1.1290387192275375e-05,
          9.119252354139462e-06,
          9.554538337397389e-06,
          8.152265763783362e-06,
          1.0448182365507819e-05,
          7.984695002960507e-06,
          5.2051414058951195e-06,
          2.808561475831084e-06,
          5.635787147184601e-06,
          3.5054322324867826e-06,
          1.9882688775396673e-06,
          2.1891642063565087e-06,
          1.1648260169749847e-06,
          -4.5056646058583283e-07,
          7.092718306012102e-07,
          1.3951973869552603e-06,
          3.4802037589543033e-06,
          2.7029432203562465e-06,
          -1.7764970152711612e-06,
          -6.168233994685579e-07,
          2.4124424271576572e-06,
          -9.093313337871223e-07,
          6.552047580044018e-07,
          5.701822374248877e-07,
          1.688043312242371e-06,
          -1.2442649222066393e-06,
          -5.637514277623268e-07,
          2.9053933303657686e-06,
          -1.241629519199705e-07,
          2.1904209006606834e-06,
          -1.2077315432179603e-06,
          -3.9353329839286744e-07,
          -1.7766362816473702e-06,
          1.327278368989937e-06,
          7.32262151359464e-07,
          -2.44734246734879e-06
         ]
        },
        {
         "type": "scatter",
         "x": [
          0,
          4.12241424783133e-05,
          0.00045346555998548865,
          0.004575879778712988,
          0.04580002278089523,
          0.10000000149011612,
          0.1587231606245041,
          0.20000000298023224,
          0.26086732745170593,
          0.30000001192092896,
          0.3620006740093231,
          0.4000000059604645,
          0.46140241622924805,
          0.5,
          0.560613214969635,
          0.6000000238418579,
          0.6542264223098755,
          0.699999988079071,
          0.7630881667137146,
          0.800000011920929,
          0.8746134638786316,
          0.8999999761581421,
          0.9657192826271057,
          1,
          1.0620533227920532,
          1.100000023841858,
          1.164750337600708,
          1.2000000476837158,
          1.2659857273101807,
          1.2999999523162842,
          1.3643231391906738,
          1.399999976158142,
          1.4642550945281982,
          1.5,
          1.56504487991333,
          1.600000023841858,
          1.6656136512756348,
          1.7000000476837158,
          1.765933871269226,
          1.7999999523162842,
          1.86611008644104,
          1.899999976158142,
          1.966209888458252,
          2,
          2.066270112991333,
          2.0999999046325684,
          2.166311264038086,
          2.200000047683716,
          2.2663445472717285,
          2.299999952316284,
          2.366377592086792,
          2.4000000953674316,
          2.4664154052734375,
          2.5,
          2.566462993621826,
          2.5999999046325684,
          2.6665241718292236,
          2.700000047683716,
          2.7666022777557373,
          2.799999952316284,
          2.866702079772949,
          2.9000000953674316,
          2.9668290615081787,
          3,
          3.0669851303100586,
          3.0999999046325684,
          3.1671791076660156,
          3.200000047683716,
          3.267414093017578,
          3.299999952316284,
          3.367694616317749,
          3.4000000953674316,
          3.468027353286743,
          3.5,
          3.5684213638305664,
          3.5999999046325684,
          3.668879270553589,
          3.700000047683716,
          3.7694015502929688,
          3.799999952316284,
          3.869987964630127,
          3.9000000953674316,
          3.9706573486328125,
          4,
          4.071394920349121,
          4.099999904632568,
          4.172202110290527,
          4.199999809265137,
          4.273068428039551,
          4.300000190734863,
          4.374024391174316,
          4.400000095367432,
          4.475051403045654,
          4.5,
          4.576127529144287,
          4.599999904632568,
          4.677248954772949,
          4.699999809265137,
          4.778486251831055,
          4.800000190734863,
          4.879793167114258,
          4.900000095367432,
          4.981167793273926,
          5,
          5.082650661468506,
          5.099999904632568,
          5.18436861038208,
          5.199999809265137,
          5.2859601974487305,
          5.300000190734863,
          5.3879852294921875,
          5.400000095367432,
          5.489573001861572,
          5.5,
          5.5915656089782715,
          5.599999904632568,
          5.694015979766846,
          5.699999809265137,
          5.796186923980713,
          5.800000190734863,
          5.898992538452148,
          5.900000095367432,
          6,
          6.099999904632568,
          6.199999809265137,
          6.300000190734863,
          6.400000095367432,
          6.5,
          6.599999904632568,
          6.699999809265137,
          6.800000190734863,
          6.900000095367432,
          7,
          7.099999904632568,
          7.199999809265137,
          7.300000190734863,
          7.400000095367432,
          7.5,
          7.599999904632568,
          7.699999809265137,
          7.800000190734863,
          7.900000095367432,
          8,
          8.100000381469727,
          8.199999809265137,
          8.300000190734863,
          8.399999618530273,
          8.5,
          8.600000381469727,
          8.699999809265137,
          8.800000190734863,
          8.899999618530273,
          9,
          9.100000381469727,
          9.199999809265137,
          9.300000190734863,
          9.399999618530273,
          9.5,
          9.600000381469727,
          9.699999809265137,
          9.800000190734863,
          9.899999618530273
         ],
         "y": [
          0,
          0.0013151642633602023,
          0.014466802589595318,
          0.14598609507083893,
          1.4645345211029053,
          3.215547800064087,
          2.930655002593994,
          2.7790846824645996,
          2.305417537689209,
          2.049936056137085,
          1.596538782119751,
          1.35299813747406,
          0.8516797423362732,
          0.557106077671051,
          -0.030337568372488022,
          -0.4109306335449219,
          -0.9663176536560059,
          -1.4637588262557983,
          -1.910668134689331,
          -2.210308790206909,
          -2.121530294418335,
          -2.1080150604248047,
          -1.5715850591659546,
          -1.3034569025039673,
          -0.8673713207244873,
          -0.6111575365066528,
          -0.40529751777648926,
          -0.29884594678878784,
          -0.23070408403873444,
          -0.19866275787353516,
          -0.18071694672107697,
          -0.17322561144828796,
          -0.16733039915561676,
          -0.16635222733020782,
          -0.16118519008159637,
          -0.16061542928218842,
          -0.15373988449573517,
          -0.15224075317382812,
          -0.14385172724723816,
          -0.1414913833141327,
          -0.13228768110275269,
          -0.12939104437828064,
          -0.11999461054801941,
          -0.11685624718666077,
          -0.10769093781709671,
          -0.10451649129390717,
          -0.09584740549325943,
          -0.09277147054672241,
          -0.08474331349134445,
          -0.08184579014778137,
          -0.07451339811086655,
          -0.07183218747377396,
          -0.06520934402942657,
          -0.06276329606771469,
          -0.056849122047424316,
          -0.054650574922561646,
          -0.04940364882349968,
          -0.04744438827037811,
          -0.04279974475502968,
          -0.0410587415099144,
          -0.03697976842522621,
          -0.03544945269823074,
          -0.03188926354050636,
          -0.030556127429008484,
          -0.027436545118689537,
          -0.02627008594572544,
          -0.02356577292084694,
          -0.02256089076399803,
          -0.020215122029185295,
          -0.019350232556462288,
          -0.01731138490140438,
          -0.016566403210163116,
          -0.014797843992710114,
          -0.014159210957586765,
          -0.012635177001357079,
          -0.0120939239859581,
          -0.010783495381474495,
          -0.010327575728297234,
          -0.009198104031383991,
          -0.008814156986773014,
          -0.007833055220544338,
          -0.00750746950507164,
          -0.006665985565632582,
          -0.0063955713994801044,
          -0.005671952851116657,
          -0.005447515286505222,
          -0.004824947565793991,
          -0.00463933777064085,
          -0.004097560420632362,
          -0.003942337352782488,
          -0.003476874902844429,
          -0.003349896287545562,
          -0.0029524138662964106,
          -0.002849906450137496,
          -0.002508254023268819,
          -0.002425186336040497,
          -0.002125917235389352,
          -0.0020572193898260593,
          -0.0018004837911576033,
          -0.0017456721980124712,
          -0.0015248816926032305,
          -0.0014813425950706005,
          -0.0012889816425740719,
          -0.0012541005853563547,
          -0.0010849229292944074,
          -0.001056972425431013,
          -0.0009191991412080824,
          -0.0008994325180537999,
          -0.0007739334250800312,
          -0.0007578010554425418,
          -0.0006629239651374519,
          -0.0006531541584990919,
          -0.0005622615572065115,
          -0.0005540400161407888,
          -0.00047110338346101344,
          -0.00046506724902428687,
          -0.0003991805133409798,
          -0.00039594751433469355,
          -0.0003333329514134675,
          -0.00033136474667117,
          -0.00028062830097042024,
          -0.00028022596961818635,
          -0.00023393379524350166,
          -0.00019908964168280363,
          -0.00016819778829813004,
          -0.00014735051081515849,
          -0.00011644278856692836,
          -9.780304390005767e-05,
          -8.811304724076763e-05,
          -7.51789630157873e-05,
          -7.348186773015186e-05,
          -6.017264968249947e-05,
          -4.6953522542025894e-05,
          -3.561330959200859e-05,
          -3.896759153576568e-05,
          -2.967926047858782e-05,
          -2.253736420243513e-05,
          -2.0444418623810634e-05,
          -1.5477786291739903e-05,
          -9.294978553953115e-06,
          -1.0857052075152751e-05,
          -1.1422522220527753e-05,
          -1.5901385268080048e-05,
          -1.2834775588999037e-05,
          1.0207915401849732e-08,
          -2.374021960349637e-06,
          -9.889236935123336e-06,
          -5.229476869317295e-07,
          -4.28784869654919e-06,
          -3.7208751564321574e-06,
          -6.40053167444421e-06,
          1.7019904134940589e-06,
          8.937518458651539e-08,
          -9.01054318092065e-06,
          -7.428926664942992e-07,
          -6.7284963733982295e-06,
          2.5446097424719483e-06,
          5.406092782322958e-07,
          4.346540663391352e-06,
          -3.870542059303261e-06,
          -2.2038393581169657e-06,
          6.360126462823246e-06
         ]
        }
       ],
       "layout": {
        "template": {
         "data": {
          "bar": [
           {
            "error_x": {
             "color": "#2a3f5f"
            },
            "error_y": {
             "color": "#2a3f5f"
            },
            "marker": {
             "line": {
              "color": "#E5ECF6",
              "width": 0.5
             }
            },
            "type": "bar"
           }
          ],
          "barpolar": [
           {
            "marker": {
             "line": {
              "color": "#E5ECF6",
              "width": 0.5
             }
            },
            "type": "barpolar"
           }
          ],
          "carpet": [
           {
            "aaxis": {
             "endlinecolor": "#2a3f5f",
             "gridcolor": "white",
             "linecolor": "white",
             "minorgridcolor": "white",
             "startlinecolor": "#2a3f5f"
            },
            "baxis": {
             "endlinecolor": "#2a3f5f",
             "gridcolor": "white",
             "linecolor": "white",
             "minorgridcolor": "white",
             "startlinecolor": "#2a3f5f"
            },
            "type": "carpet"
           }
          ],
          "choropleth": [
           {
            "colorbar": {
             "outlinewidth": 0,
             "ticks": ""
            },
            "type": "choropleth"
           }
          ],
          "contour": [
           {
            "colorbar": {
             "outlinewidth": 0,
             "ticks": ""
            },
            "colorscale": [
             [
              0,
              "#0d0887"
             ],
             [
              0.1111111111111111,
              "#46039f"
             ],
             [
              0.2222222222222222,
              "#7201a8"
             ],
             [
              0.3333333333333333,
              "#9c179e"
             ],
             [
              0.4444444444444444,
              "#bd3786"
             ],
             [
              0.5555555555555556,
              "#d8576b"
             ],
             [
              0.6666666666666666,
              "#ed7953"
             ],
             [
              0.7777777777777778,
              "#fb9f3a"
             ],
             [
              0.8888888888888888,
              "#fdca26"
             ],
             [
              1,
              "#f0f921"
             ]
            ],
            "type": "contour"
           }
          ],
          "contourcarpet": [
           {
            "colorbar": {
             "outlinewidth": 0,
             "ticks": ""
            },
            "type": "contourcarpet"
           }
          ],
          "heatmap": [
           {
            "colorbar": {
             "outlinewidth": 0,
             "ticks": ""
            },
            "colorscale": [
             [
              0,
              "#0d0887"
             ],
             [
              0.1111111111111111,
              "#46039f"
             ],
             [
              0.2222222222222222,
              "#7201a8"
             ],
             [
              0.3333333333333333,
              "#9c179e"
             ],
             [
              0.4444444444444444,
              "#bd3786"
             ],
             [
              0.5555555555555556,
              "#d8576b"
             ],
             [
              0.6666666666666666,
              "#ed7953"
             ],
             [
              0.7777777777777778,
              "#fb9f3a"
             ],
             [
              0.8888888888888888,
              "#fdca26"
             ],
             [
              1,
              "#f0f921"
             ]
            ],
            "type": "heatmap"
           }
          ],
          "heatmapgl": [
           {
            "colorbar": {
             "outlinewidth": 0,
             "ticks": ""
            },
            "colorscale": [
             [
              0,
              "#0d0887"
             ],
             [
              0.1111111111111111,
              "#46039f"
             ],
             [
              0.2222222222222222,
              "#7201a8"
             ],
             [
              0.3333333333333333,
              "#9c179e"
             ],
             [
              0.4444444444444444,
              "#bd3786"
             ],
             [
              0.5555555555555556,
              "#d8576b"
             ],
             [
              0.6666666666666666,
              "#ed7953"
             ],
             [
              0.7777777777777778,
              "#fb9f3a"
             ],
             [
              0.8888888888888888,
              "#fdca26"
             ],
             [
              1,
              "#f0f921"
             ]
            ],
            "type": "heatmapgl"
           }
          ],
          "histogram": [
           {
            "marker": {
             "colorbar": {
              "outlinewidth": 0,
              "ticks": ""
             }
            },
            "type": "histogram"
           }
          ],
          "histogram2d": [
           {
            "colorbar": {
             "outlinewidth": 0,
             "ticks": ""
            },
            "colorscale": [
             [
              0,
              "#0d0887"
             ],
             [
              0.1111111111111111,
              "#46039f"
             ],
             [
              0.2222222222222222,
              "#7201a8"
             ],
             [
              0.3333333333333333,
              "#9c179e"
             ],
             [
              0.4444444444444444,
              "#bd3786"
             ],
             [
              0.5555555555555556,
              "#d8576b"
             ],
             [
              0.6666666666666666,
              "#ed7953"
             ],
             [
              0.7777777777777778,
              "#fb9f3a"
             ],
             [
              0.8888888888888888,
              "#fdca26"
             ],
             [
              1,
              "#f0f921"
             ]
            ],
            "type": "histogram2d"
           }
          ],
          "histogram2dcontour": [
           {
            "colorbar": {
             "outlinewidth": 0,
             "ticks": ""
            },
            "colorscale": [
             [
              0,
              "#0d0887"
             ],
             [
              0.1111111111111111,
              "#46039f"
             ],
             [
              0.2222222222222222,
              "#7201a8"
             ],
             [
              0.3333333333333333,
              "#9c179e"
             ],
             [
              0.4444444444444444,
              "#bd3786"
             ],
             [
              0.5555555555555556,
              "#d8576b"
             ],
             [
              0.6666666666666666,
              "#ed7953"
             ],
             [
              0.7777777777777778,
              "#fb9f3a"
             ],
             [
              0.8888888888888888,
              "#fdca26"
             ],
             [
              1,
              "#f0f921"
             ]
            ],
            "type": "histogram2dcontour"
           }
          ],
          "mesh3d": [
           {
            "colorbar": {
             "outlinewidth": 0,
             "ticks": ""
            },
            "type": "mesh3d"
           }
          ],
          "parcoords": [
           {
            "line": {
             "colorbar": {
              "outlinewidth": 0,
              "ticks": ""
             }
            },
            "type": "parcoords"
           }
          ],
          "pie": [
           {
            "automargin": true,
            "type": "pie"
           }
          ],
          "scatter": [
           {
            "marker": {
             "colorbar": {
              "outlinewidth": 0,
              "ticks": ""
             }
            },
            "type": "scatter"
           }
          ],
          "scatter3d": [
           {
            "line": {
             "colorbar": {
              "outlinewidth": 0,
              "ticks": ""
             }
            },
            "marker": {
             "colorbar": {
              "outlinewidth": 0,
              "ticks": ""
             }
            },
            "type": "scatter3d"
           }
          ],
          "scattercarpet": [
           {
            "marker": {
             "colorbar": {
              "outlinewidth": 0,
              "ticks": ""
             }
            },
            "type": "scattercarpet"
           }
          ],
          "scattergeo": [
           {
            "marker": {
             "colorbar": {
              "outlinewidth": 0,
              "ticks": ""
             }
            },
            "type": "scattergeo"
           }
          ],
          "scattergl": [
           {
            "marker": {
             "colorbar": {
              "outlinewidth": 0,
              "ticks": ""
             }
            },
            "type": "scattergl"
           }
          ],
          "scattermapbox": [
           {
            "marker": {
             "colorbar": {
              "outlinewidth": 0,
              "ticks": ""
             }
            },
            "type": "scattermapbox"
           }
          ],
          "scatterpolar": [
           {
            "marker": {
             "colorbar": {
              "outlinewidth": 0,
              "ticks": ""
             }
            },
            "type": "scatterpolar"
           }
          ],
          "scatterpolargl": [
           {
            "marker": {
             "colorbar": {
              "outlinewidth": 0,
              "ticks": ""
             }
            },
            "type": "scatterpolargl"
           }
          ],
          "scatterternary": [
           {
            "marker": {
             "colorbar": {
              "outlinewidth": 0,
              "ticks": ""
             }
            },
            "type": "scatterternary"
           }
          ],
          "surface": [
           {
            "colorbar": {
             "outlinewidth": 0,
             "ticks": ""
            },
            "colorscale": [
             [
              0,
              "#0d0887"
             ],
             [
              0.1111111111111111,
              "#46039f"
             ],
             [
              0.2222222222222222,
              "#7201a8"
             ],
             [
              0.3333333333333333,
              "#9c179e"
             ],
             [
              0.4444444444444444,
              "#bd3786"
             ],
             [
              0.5555555555555556,
              "#d8576b"
             ],
             [
              0.6666666666666666,
              "#ed7953"
             ],
             [
              0.7777777777777778,
              "#fb9f3a"
             ],
             [
              0.8888888888888888,
              "#fdca26"
             ],
             [
              1,
              "#f0f921"
             ]
            ],
            "type": "surface"
           }
          ],
          "table": [
           {
            "cells": {
             "fill": {
              "color": "#EBF0F8"
             },
             "line": {
              "color": "white"
             }
            },
            "header": {
             "fill": {
              "color": "#C8D4E3"
             },
             "line": {
              "color": "white"
             }
            },
            "type": "table"
           }
          ]
         },
         "layout": {
          "annotationdefaults": {
           "arrowcolor": "#2a3f5f",
           "arrowhead": 0,
           "arrowwidth": 1
          },
          "coloraxis": {
           "colorbar": {
            "outlinewidth": 0,
            "ticks": ""
           }
          },
          "colorscale": {
           "diverging": [
            [
             0,
             "#8e0152"
            ],
            [
             0.1,
             "#c51b7d"
            ],
            [
             0.2,
             "#de77ae"
            ],
            [
             0.3,
             "#f1b6da"
            ],
            [
             0.4,
             "#fde0ef"
            ],
            [
             0.5,
             "#f7f7f7"
            ],
            [
             0.6,
             "#e6f5d0"
            ],
            [
             0.7,
             "#b8e186"
            ],
            [
             0.8,
             "#7fbc41"
            ],
            [
             0.9,
             "#4d9221"
            ],
            [
             1,
             "#276419"
            ]
           ],
           "sequential": [
            [
             0,
             "#0d0887"
            ],
            [
             0.1111111111111111,
             "#46039f"
            ],
            [
             0.2222222222222222,
             "#7201a8"
            ],
            [
             0.3333333333333333,
             "#9c179e"
            ],
            [
             0.4444444444444444,
             "#bd3786"
            ],
            [
             0.5555555555555556,
             "#d8576b"
            ],
            [
             0.6666666666666666,
             "#ed7953"
            ],
            [
             0.7777777777777778,
             "#fb9f3a"
            ],
            [
             0.8888888888888888,
             "#fdca26"
            ],
            [
             1,
             "#f0f921"
            ]
           ],
           "sequentialminus": [
            [
             0,
             "#0d0887"
            ],
            [
             0.1111111111111111,
             "#46039f"
            ],
            [
             0.2222222222222222,
             "#7201a8"
            ],
            [
             0.3333333333333333,
             "#9c179e"
            ],
            [
             0.4444444444444444,
             "#bd3786"
            ],
            [
             0.5555555555555556,
             "#d8576b"
            ],
            [
             0.6666666666666666,
             "#ed7953"
            ],
            [
             0.7777777777777778,
             "#fb9f3a"
            ],
            [
             0.8888888888888888,
             "#fdca26"
            ],
            [
             1,
             "#f0f921"
            ]
           ]
          },
          "colorway": [
           "#636efa",
           "#EF553B",
           "#00cc96",
           "#ab63fa",
           "#FFA15A",
           "#19d3f3",
           "#FF6692",
           "#B6E880",
           "#FF97FF",
           "#FECB52"
          ],
          "font": {
           "color": "#2a3f5f"
          },
          "geo": {
           "bgcolor": "white",
           "lakecolor": "white",
           "landcolor": "#E5ECF6",
           "showlakes": true,
           "showland": true,
           "subunitcolor": "white"
          },
          "hoverlabel": {
           "align": "left"
          },
          "hovermode": "closest",
          "mapbox": {
           "style": "light"
          },
          "paper_bgcolor": "white",
          "plot_bgcolor": "#E5ECF6",
          "polar": {
           "angularaxis": {
            "gridcolor": "white",
            "linecolor": "white",
            "ticks": ""
           },
           "bgcolor": "#E5ECF6",
           "radialaxis": {
            "gridcolor": "white",
            "linecolor": "white",
            "ticks": ""
           }
          },
          "scene": {
           "xaxis": {
            "backgroundcolor": "#E5ECF6",
            "gridcolor": "white",
            "gridwidth": 2,
            "linecolor": "white",
            "showbackground": true,
            "ticks": "",
            "zerolinecolor": "white"
           },
           "yaxis": {
            "backgroundcolor": "#E5ECF6",
            "gridcolor": "white",
            "gridwidth": 2,
            "linecolor": "white",
            "showbackground": true,
            "ticks": "",
            "zerolinecolor": "white"
           },
           "zaxis": {
            "backgroundcolor": "#E5ECF6",
            "gridcolor": "white",
            "gridwidth": 2,
            "linecolor": "white",
            "showbackground": true,
            "ticks": "",
            "zerolinecolor": "white"
           }
          },
          "shapedefaults": {
           "line": {
            "color": "#2a3f5f"
           }
          },
          "ternary": {
           "aaxis": {
            "gridcolor": "white",
            "linecolor": "white",
            "ticks": ""
           },
           "baxis": {
            "gridcolor": "white",
            "linecolor": "white",
            "ticks": ""
           },
           "bgcolor": "#E5ECF6",
           "caxis": {
            "gridcolor": "white",
            "linecolor": "white",
            "ticks": ""
           }
          },
          "title": {
           "x": 0.05
          },
          "xaxis": {
           "automargin": true,
           "gridcolor": "white",
           "linecolor": "white",
           "ticks": "",
           "title": {
            "standoff": 15
           },
           "zerolinecolor": "white",
           "zerolinewidth": 2
          },
          "yaxis": {
           "automargin": true,
           "gridcolor": "white",
           "linecolor": "white",
           "ticks": "",
           "title": {
            "standoff": 15
           },
           "zerolinecolor": "white",
           "zerolinewidth": 2
          }
         }
        }
       }
      },
      "text/html": [
       "<div>\n",
       "        \n",
       "        \n",
       "            <div id=\"52e8e7f4-dd2b-423d-b99e-58ea33c3cbb9\" class=\"plotly-graph-div\" style=\"height:525px; width:100%;\"></div>\n",
       "            <script type=\"text/javascript\">\n",
       "                require([\"plotly\"], function(Plotly) {\n",
       "                    window.PLOTLYENV=window.PLOTLYENV || {};\n",
       "                    \n",
       "                if (document.getElementById(\"52e8e7f4-dd2b-423d-b99e-58ea33c3cbb9\")) {\n",
       "                    Plotly.newPlot(\n",
       "                        '52e8e7f4-dd2b-423d-b99e-58ea33c3cbb9',\n",
       "                        [{\"type\": \"scatter\", \"x\": [0.0, 4.12241424783133e-05, 0.00045346555998548865, 0.004575879778712988, 0.04580002278089523, 0.10000000149011612, 0.1587231606245041, 0.20000000298023224, 0.26086732745170593, 0.30000001192092896, 0.3620006740093231, 0.4000000059604645, 0.46140241622924805, 0.5, 0.560613214969635, 0.6000000238418579, 0.6542264223098755, 0.699999988079071, 0.7630881667137146, 0.800000011920929, 0.8746134638786316, 0.8999999761581421, 0.9657192826271057, 1.0, 1.0620533227920532, 1.100000023841858, 1.164750337600708, 1.2000000476837158, 1.2659857273101807, 1.2999999523162842, 1.3643231391906738, 1.399999976158142, 1.4642550945281982, 1.5, 1.56504487991333, 1.600000023841858, 1.6656136512756348, 1.7000000476837158, 1.765933871269226, 1.7999999523162842, 1.86611008644104, 1.899999976158142, 1.966209888458252, 2.0, 2.066270112991333, 2.0999999046325684, 2.166311264038086, 2.200000047683716, 2.2663445472717285, 2.299999952316284, 2.366377592086792, 2.4000000953674316, 2.4664154052734375, 2.5, 2.566462993621826, 2.5999999046325684, 2.6665241718292236, 2.700000047683716, 2.7666022777557373, 2.799999952316284, 2.866702079772949, 2.9000000953674316, 2.9668290615081787, 3.0, 3.0669851303100586, 3.0999999046325684, 3.1671791076660156, 3.200000047683716, 3.267414093017578, 3.299999952316284, 3.367694616317749, 3.4000000953674316, 3.468027353286743, 3.5, 3.5684213638305664, 3.5999999046325684, 3.668879270553589, 3.700000047683716, 3.7694015502929688, 3.799999952316284, 3.869987964630127, 3.9000000953674316, 3.9706573486328125, 4.0, 4.071394920349121, 4.099999904632568, 4.172202110290527, 4.199999809265137, 4.273068428039551, 4.300000190734863, 4.374024391174316, 4.400000095367432, 4.475051403045654, 4.5, 4.576127529144287, 4.599999904632568, 4.677248954772949, 4.699999809265137, 4.778486251831055, 4.800000190734863, 4.879793167114258, 4.900000095367432, 4.981167793273926, 5.0, 5.082650661468506, 5.099999904632568, 5.18436861038208, 5.199999809265137, 5.2859601974487305, 5.300000190734863, 5.3879852294921875, 5.400000095367432, 5.489573001861572, 5.5, 5.5915656089782715, 5.599999904632568, 5.694015979766846, 5.699999809265137, 5.796186923980713, 5.800000190734863, 5.898992538452148, 5.900000095367432, 6.0, 6.099999904632568, 6.199999809265137, 6.300000190734863, 6.400000095367432, 6.5, 6.599999904632568, 6.699999809265137, 6.800000190734863, 6.900000095367432, 7.0, 7.099999904632568, 7.199999809265137, 7.300000190734863, 7.400000095367432, 7.5, 7.599999904632568, 7.699999809265137, 7.800000190734863, 7.900000095367432, 8.0, 8.100000381469727, 8.199999809265137, 8.300000190734863, 8.399999618530273, 8.5, 8.600000381469727, 8.699999809265137, 8.800000190734863, 8.899999618530273, 9.0, 9.100000381469727, 9.199999809265137, 9.300000190734863, 9.399999618530273, 9.5, 9.600000381469727, 9.699999809265137, 9.800000190734863, 9.899999618530273], \"y\": [3.1915926933288574, 3.1915926933288574, 3.191591501235962, 3.1914706230163574, 3.1793508529663086, 3.133004903793335, 3.067697525024414, 3.0255796909332275, 2.971163511276245, 2.9415416717529297, 2.902738571166992, 2.8835651874542236, 2.860407829284668, 2.8509061336517334, 2.844747543334961, 2.846977472305298, 2.858401298522949, 2.8761651515960693, 2.910834789276123, 2.9360568523406982, 2.989896297454834, 3.007847785949707, 3.047792434692383, 3.0636513233184814, 3.084421396255493, 3.0923972129821777, 3.1006791591644287, 3.1032893657684326, 3.106271505355835, 3.1073038578033447, 3.1088597774505615, 3.1096689701080322, 3.1111392974853516, 3.112008810043335, 3.1136646270751953, 3.114598035812378, 3.116384506225586, 3.1173360347747803, 3.1191463470458984, 3.120073080062866, 3.1218223571777344, 3.122694730758667, 3.1243295669555664, 3.125131130218506, 3.1266238689422607, 3.127346992492676, 3.1286871433258057, 3.129330635070801, 3.130518913269043, 3.1310856342315674, 3.132128953933716, 3.1326239109039307, 3.1335325241088867, 3.1339614391326904, 3.1347479820251465, 3.135117292404175, 3.1357951164245605, 3.1361117362976074, 3.136693000793457, 3.136963129043579, 3.1374597549438477, 3.1376888751983643, 3.1381120681762695, 3.1383063793182373, 3.1386661529541016, 3.1388297080993652, 3.1391348838806152, 3.1392722129821777, 3.139530897140503, 3.139646053314209, 3.1398651599884033, 3.1399612426757812, 3.140146255493164, 3.140226125717163, 3.1403820514678955, 3.1404483318328857, 3.140580177307129, 3.140634775161743, 3.1407461166381836, 3.140791416168213, 3.140885353088379, 3.1409225463867188, 3.1410019397735596, 3.1410322189331055, 3.141099214553833, 3.1411240100860596, 3.1411807537078857, 3.1412010192871094, 3.141248941421509, 3.141265392303467, 3.141305923461914, 3.1413190364837646, 3.1413533687591553, 3.1413638591766357, 3.1413931846618652, 3.141401529312134, 3.1414263248443604, 3.141433000564575, 3.141453981399536, 3.1414592266082764, 3.141477108001709, 3.1414811611175537, 3.141496181488037, 3.1414995193481445, 3.141512155532837, 3.141514539718628, 3.1415252685546875, 3.1415271759033203, 3.141536235809326, 3.1415374279022217, 3.141545295715332, 3.1415462493896484, 3.1415531635284424, 3.1415538787841797, 3.141559600830078, 3.1415600776672363, 3.1415650844573975, 3.1415653228759766, 3.1415696144104004, 3.1415696144104004, 3.141573190689087, 3.141573190689087, 3.141576051712036, 3.141578435897827, 3.14158034324646, 3.1415822505950928, 3.1415836811065674, 3.141584634780884, 3.1415855884552, 3.1415863037109375, 3.141587257385254, 3.1415882110595703, 3.1415889263153076, 3.1415891647338867, 3.141589641571045, 3.141590118408203, 3.1415903568267822, 3.1415905952453613, 3.1415908336639404, 3.1415908336639404, 3.1415908336639404, 3.1415908336639404, 3.1415910720825195, 3.1415915489196777, 3.1415915489196777, 3.1415913105010986, 3.1415915489196777, 3.1415915489196777, 3.1415915489196777, 3.1415915489196777, 3.141591787338257, 3.141591787338257, 3.1415915489196777, 3.141591787338257, 3.141591787338257, 3.141592025756836, 3.141592025756836, 3.141592025756836, 3.141591787338257, 3.141591787338257, 3.141592025756836, 3.141591787338257]}, {\"type\": \"scatter\", \"x\": [0.0, 4.12241424783133e-05, 0.00045346555998548865, 0.004575879778712988, 0.04580002278089523, 0.10000000149011612, 0.1587231606245041, 0.20000000298023224, 0.26086732745170593, 0.30000001192092896, 0.3620006740093231, 0.4000000059604645, 0.46140241622924805, 0.5, 0.560613214969635, 0.6000000238418579, 0.6542264223098755, 0.699999988079071, 0.7630881667137146, 0.800000011920929, 0.8746134638786316, 0.8999999761581421, 0.9657192826271057, 1.0, 1.0620533227920532, 1.100000023841858, 1.164750337600708, 1.2000000476837158, 1.2659857273101807, 1.2999999523162842, 1.3643231391906738, 1.399999976158142, 1.4642550945281982, 1.5, 1.56504487991333, 1.600000023841858, 1.6656136512756348, 1.7000000476837158, 1.765933871269226, 1.7999999523162842, 1.86611008644104, 1.899999976158142, 1.966209888458252, 2.0, 2.066270112991333, 2.0999999046325684, 2.166311264038086, 2.200000047683716, 2.2663445472717285, 2.299999952316284, 2.366377592086792, 2.4000000953674316, 2.4664154052734375, 2.5, 2.566462993621826, 2.5999999046325684, 2.6665241718292236, 2.700000047683716, 2.7666022777557373, 2.799999952316284, 2.866702079772949, 2.9000000953674316, 2.9668290615081787, 3.0, 3.0669851303100586, 3.0999999046325684, 3.1671791076660156, 3.200000047683716, 3.267414093017578, 3.299999952316284, 3.367694616317749, 3.4000000953674316, 3.468027353286743, 3.5, 3.5684213638305664, 3.5999999046325684, 3.668879270553589, 3.700000047683716, 3.7694015502929688, 3.799999952316284, 3.869987964630127, 3.9000000953674316, 3.9706573486328125, 4.0, 4.071394920349121, 4.099999904632568, 4.172202110290527, 4.199999809265137, 4.273068428039551, 4.300000190734863, 4.374024391174316, 4.400000095367432, 4.475051403045654, 4.5, 4.576127529144287, 4.599999904632568, 4.677248954772949, 4.699999809265137, 4.778486251831055, 4.800000190734863, 4.879793167114258, 4.900000095367432, 4.981167793273926, 5.0, 5.082650661468506, 5.099999904632568, 5.18436861038208, 5.199999809265137, 5.2859601974487305, 5.300000190734863, 5.3879852294921875, 5.400000095367432, 5.489573001861572, 5.5, 5.5915656089782715, 5.599999904632568, 5.694015979766846, 5.699999809265137, 5.796186923980713, 5.800000190734863, 5.898992538452148, 5.900000095367432, 6.0, 6.099999904632568, 6.199999809265137, 6.300000190734863, 6.400000095367432, 6.5, 6.599999904632568, 6.699999809265137, 6.800000190734863, 6.900000095367432, 7.0, 7.099999904632568, 7.199999809265137, 7.300000190734863, 7.400000095367432, 7.5, 7.599999904632568, 7.699999809265137, 7.800000190734863, 7.900000095367432, 8.0, 8.100000381469727, 8.199999809265137, 8.300000190734863, 8.399999618530273, 8.5, 8.600000381469727, 8.699999809265137, 8.800000190734863, 8.899999618530273, 9.0, 9.100000381469727, 9.199999809265137, 9.300000190734863, 9.399999618530273, 9.5, 9.600000381469727, 9.699999809265137, 9.800000190734863, 9.899999618530273], \"y\": [0.05000000074505806, 0.05000002682209015, 0.050003279000520706, 0.05033400282263756, 0.08349975198507309, 0.21025271713733673, 0.39030981063842773, 0.5080155730247498, 0.6622470021247864, 0.7473517656326294, 0.859991192817688, 0.9159599542617798, 0.9833958148956299, 1.0105451345443726, 1.0264458656311035, 1.0177695751190186, 0.9805469512939453, 0.9250615239143372, 0.8190017938613892, 0.7430442571640015, 0.5818730592727661, 0.5282053351402283, 0.40745171904563904, 0.3581954836845398, 0.2909654676914215, 0.2629338502883911, 0.23010970652103424, 0.21770864725112915, 0.20028497278690338, 0.19298790395259857, 0.18081797659397125, 0.17450925707817078, 0.16359661519527435, 0.1576377898454666, 0.1470145285129547, 0.1413947343826294, 0.13111081719398499, 0.12585414946079254, 0.11612096428871155, 0.11126445978879929, 0.10224104672670364, 0.09781033545732498, 0.08957868069410324, 0.08558015525341034, 0.07816172391176224, 0.07458561658859253, 0.06796211004257202, 0.0647873729467392, 0.05891627445816994, 0.056115105748176575, 0.05094115063548088, 0.04848278686404228, 0.04394548758864403, 0.04179816693067551, 0.037835102528333664, 0.03596683219075203, 0.03251607343554497, 0.030896266922354698, 0.02789999172091484, 0.026500701904296875, 0.02390580251812935, 0.022700831294059753, 0.020457468926906586, 0.01942254789173603, 0.017486052587628365, 0.016600139439105988, 0.014931214042007923, 0.01417479943484068, 0.012737307697534561, 0.012093129567801952, 0.010856011882424355, 0.010309172794222832, 0.009245632216334343, 0.008783030323684216, 0.007869214750826359, 0.00747901713475585, 0.006693595089018345, 0.006365309003740549, 0.005689903628081083, 0.005414499435573816, 0.004833824001252651, 0.004603759851306677, 0.004104670602828264, 0.003913148306310177, 0.003483804874122143, 0.003324854653328657, 0.0029552713967859745, 0.002823794027790427, 0.002505709882825613, 0.0023974976502358913, 0.0021238753106445074, 0.002035249723121524, 0.0017996160313487053, 0.0017272658878937364, 0.001524080173112452, 0.001465215696953237, 0.0012901112204417586, 0.0012425414752215147, 0.001091755460947752, 0.0010536215268075466, 0.0009236737387254834, 0.0008933083736337721, 0.0007813546690158546, 0.0007574142655357718, 0.0006611775024794042, 0.0006426008185371757, 0.0005596178234554827, 0.0005454060737974942, 0.00047382485354319215, 0.0004630734329111874, 0.0004008812829852104, 0.0003929757804144174, 0.0003388208569958806, 0.0003330013423692435, 0.00028631853638216853, 0.00028237063088454306, 0.00024197269522119313, 0.00023959370446391404, 0.00020472634059842676, 0.0002034590143011883, 0.00017335571465082467, 0.00017307320376858115, 0.00014752769493497908, 0.00012601308117154986, 0.00010776446288218722, 9.208666597260162e-05, 7.898003241280094e-05, 6.833453517174348e-05, 5.909689934924245e-05, 5.0983697292394936e-05, 4.359799640951678e-05, 3.695825580507517e-05, 3.163604196743108e-05, 2.7533485990716144e-05, 2.382797720201779e-05, 2.041764309979044e-05, 1.782321669452358e-05, 1.568754123582039e-05, 1.3902619684813544e-05, 1.2671334843616933e-05, 1.1669625564536545e-05, 1.0562582247075625e-05, 9.205412425217219e-06, 7.778358849463984e-06, 7.1410881901101675e-06, 7.02302486388362e-06, 6.413808932848042e-06, 5.896584298170637e-06, 5.6573699112050235e-06, 5.259536919766106e-06, 4.75691149404156e-06, 4.523466941463994e-06, 4.612095835909713e-06, 4.169138719589682e-06, 3.684952389448881e-06, 3.3140083814942045e-06, 3.106274334641057e-06, 3.259267941757571e-06, 3.5017192203667946e-06, 3.5252580801170552e-06, 3.223776730010286e-06, 3.4300128390896134e-06]}, {\"type\": \"scatter\", \"x\": [0.0, 4.12241424783133e-05, 0.00045346555998548865, 0.004575879778712988, 0.04580002278089523, 0.10000000149011612, 0.1587231606245041, 0.20000000298023224, 0.26086732745170593, 0.30000001192092896, 0.3620006740093231, 0.4000000059604645, 0.46140241622924805, 0.5, 0.560613214969635, 0.6000000238418579, 0.6542264223098755, 0.699999988079071, 0.7630881667137146, 0.800000011920929, 0.8746134638786316, 0.8999999761581421, 0.9657192826271057, 1.0, 1.0620533227920532, 1.100000023841858, 1.164750337600708, 1.2000000476837158, 1.2659857273101807, 1.2999999523162842, 1.3643231391906738, 1.399999976158142, 1.4642550945281982, 1.5, 1.56504487991333, 1.600000023841858, 1.6656136512756348, 1.7000000476837158, 1.765933871269226, 1.7999999523162842, 1.86611008644104, 1.899999976158142, 1.966209888458252, 2.0, 2.066270112991333, 2.0999999046325684, 2.166311264038086, 2.200000047683716, 2.2663445472717285, 2.299999952316284, 2.366377592086792, 2.4000000953674316, 2.4664154052734375, 2.5, 2.566462993621826, 2.5999999046325684, 2.6665241718292236, 2.700000047683716, 2.7666022777557373, 2.799999952316284, 2.866702079772949, 2.9000000953674316, 2.9668290615081787, 3.0, 3.0669851303100586, 3.0999999046325684, 3.1671791076660156, 3.200000047683716, 3.267414093017578, 3.299999952316284, 3.367694616317749, 3.4000000953674316, 3.468027353286743, 3.5, 3.5684213638305664, 3.5999999046325684, 3.668879270553589, 3.700000047683716, 3.7694015502929688, 3.799999952316284, 3.869987964630127, 3.9000000953674316, 3.9706573486328125, 4.0, 4.071394920349121, 4.099999904632568, 4.172202110290527, 4.199999809265137, 4.273068428039551, 4.300000190734863, 4.374024391174316, 4.400000095367432, 4.475051403045654, 4.5, 4.576127529144287, 4.599999904632568, 4.677248954772949, 4.699999809265137, 4.778486251831055, 4.800000190734863, 4.879793167114258, 4.900000095367432, 4.981167793273926, 5.0, 5.082650661468506, 5.099999904632568, 5.18436861038208, 5.199999809265137, 5.2859601974487305, 5.300000190734863, 5.3879852294921875, 5.400000095367432, 5.489573001861572, 5.5, 5.5915656089782715, 5.599999904632568, 5.694015979766846, 5.699999809265137, 5.796186923980713, 5.800000190734863, 5.898992538452148, 5.900000095367432, 6.0, 6.099999904632568, 6.199999809265137, 6.300000190734863, 6.400000095367432, 6.5, 6.599999904632568, 6.699999809265137, 6.800000190734863, 6.900000095367432, 7.0, 7.099999904632568, 7.199999809265137, 7.300000190734863, 7.400000095367432, 7.5, 7.599999904632568, 7.699999809265137, 7.800000190734863, 7.900000095367432, 8.0, 8.100000381469727, 8.199999809265137, 8.300000190734863, 8.399999618530273, 8.5, 8.600000381469727, 8.699999809265137, 8.800000190734863, 8.899999618530273, 9.0, 9.100000381469727, 9.199999809265137, 9.300000190734863, 9.399999618530273, 9.5, 9.600000381469727, 9.699999809265137, 9.800000190734863, 9.899999618530273], \"y\": [0.0, -0.0004805050848517567, -0.005285554099828005, -0.05333731323480606, -0.5352889895439148, -1.1758637428283691, -1.0542032718658447, -0.9893113970756531, -0.806149423122406, -0.7104068994522095, -0.5473477244377136, -0.46358856558799744, -0.2946886718273163, -0.19865840673446655, -0.005620506126433611, 0.11919156461954117, 0.3043188452720642, 0.47463324666023254, 0.6301650404930115, 0.7389048933982849, 0.7090657353401184, 0.7057889103889465, 0.5114693641662598, 0.4142630696296692, 0.2566446363925934, 0.1641295701265335, 0.09261544048786163, 0.05565904825925827, 0.03519371524453163, 0.025603454560041428, 0.02306150086224079, 0.022375456988811493, 0.023660579696297646, 0.025074295699596405, 0.02611655183136463, 0.027378659695386887, 0.02736791782081127, 0.028054801747202873, 0.02714402787387371, 0.027337588369846344, 0.025850197300314903, 0.025708910077810287, 0.02392389625310898, 0.023582637310028076, 0.021692974492907524, 0.02124585025012493, 0.019376663491129875, 0.01888653263449669, 0.01711207628250122, 0.01661836914718151, 0.014975283294916153, 0.014499777927994728, 0.013006575405597687, 0.012562614865601063, 0.011230388656258583, 0.010827981866896152, 0.009651278145611286, 0.00929212849587202, 0.008255650289356709, 0.007936187088489532, 0.007034409791231155, 0.00675570871680975, 0.005978574976325035, 0.005739180836826563, 0.005064311437308788, 0.0048561496660113335, 0.004280420020222664, 0.00410464545711875, 0.003612651489675045, 0.0034640447702258825, 0.00304181850515306, 0.0029155034571886063, 0.0025542140938341618, 0.002447526901960373, 0.0021419611293822527, 0.002053747186437249, 0.0017963409190997481, 0.0017241279128938913, 0.0015062886523082852, 0.0014469565358012915, 0.0012597419554367661, 0.00120990676805377, 0.0010529786814004183, 0.001012954511679709, 0.0008807509439066052, 0.0008484984864480793, 0.0007370366365648806, 0.0007111398153938353, 0.0006148735410533845, 0.0005933040520176291, 0.0005123929004184902, 0.0004953092429786921, 0.0004282270965632051, 0.00041509419679641724, 0.0003586956299841404, 0.0003484238113742322, 0.0002989195054396987, 0.0002902981359511614, 0.00024888315238058567, 0.00024227432732004672, 0.00020744306675624102, 0.00020237528951838613, 0.00017216119158547372, 0.00016809195221867412, 0.00014128324983175844, 0.00013792049139738083, 0.00011829258437501267, 0.00011637233546935022, 9.725677955430001e-05, 9.542814223095775e-05, 8.430570596829057e-05, 8.373069431399927e-05, 7.095799082890153e-05, 7.017001917120069e-05, 5.771140058641322e-05, 5.7035471400013193e-05, 4.8681191401556134e-05, 4.8430822062073275e-05, 3.924170960090123e-05, 3.902695971191861e-05, 3.2540690881432965e-05, 3.250761437811889e-05, 2.595061232568696e-05, 2.2087018805905245e-05, 1.8338383597438224e-05, 1.719241299724672e-05, 1.1290387192275375e-05, 9.119252354139462e-06, 9.554538337397389e-06, 8.152265763783362e-06, 1.0448182365507819e-05, 7.984695002960507e-06, 5.2051414058951195e-06, 2.808561475831084e-06, 5.635787147184601e-06, 3.5054322324867826e-06, 1.9882688775396673e-06, 2.1891642063565087e-06, 1.1648260169749847e-06, -4.5056646058583283e-07, 7.092718306012102e-07, 1.3951973869552603e-06, 3.4802037589543033e-06, 2.7029432203562465e-06, -1.7764970152711612e-06, -6.168233994685579e-07, 2.4124424271576572e-06, -9.093313337871223e-07, 6.552047580044018e-07, 5.701822374248877e-07, 1.688043312242371e-06, -1.2442649222066393e-06, -5.637514277623268e-07, 2.9053933303657686e-06, -1.241629519199705e-07, 2.1904209006606834e-06, -1.2077315432179603e-06, -3.9353329839286744e-07, -1.7766362816473702e-06, 1.327278368989937e-06, 7.32262151359464e-07, -2.44734246734879e-06]}, {\"type\": \"scatter\", \"x\": [0.0, 4.12241424783133e-05, 0.00045346555998548865, 0.004575879778712988, 0.04580002278089523, 0.10000000149011612, 0.1587231606245041, 0.20000000298023224, 0.26086732745170593, 0.30000001192092896, 0.3620006740093231, 0.4000000059604645, 0.46140241622924805, 0.5, 0.560613214969635, 0.6000000238418579, 0.6542264223098755, 0.699999988079071, 0.7630881667137146, 0.800000011920929, 0.8746134638786316, 0.8999999761581421, 0.9657192826271057, 1.0, 1.0620533227920532, 1.100000023841858, 1.164750337600708, 1.2000000476837158, 1.2659857273101807, 1.2999999523162842, 1.3643231391906738, 1.399999976158142, 1.4642550945281982, 1.5, 1.56504487991333, 1.600000023841858, 1.6656136512756348, 1.7000000476837158, 1.765933871269226, 1.7999999523162842, 1.86611008644104, 1.899999976158142, 1.966209888458252, 2.0, 2.066270112991333, 2.0999999046325684, 2.166311264038086, 2.200000047683716, 2.2663445472717285, 2.299999952316284, 2.366377592086792, 2.4000000953674316, 2.4664154052734375, 2.5, 2.566462993621826, 2.5999999046325684, 2.6665241718292236, 2.700000047683716, 2.7666022777557373, 2.799999952316284, 2.866702079772949, 2.9000000953674316, 2.9668290615081787, 3.0, 3.0669851303100586, 3.0999999046325684, 3.1671791076660156, 3.200000047683716, 3.267414093017578, 3.299999952316284, 3.367694616317749, 3.4000000953674316, 3.468027353286743, 3.5, 3.5684213638305664, 3.5999999046325684, 3.668879270553589, 3.700000047683716, 3.7694015502929688, 3.799999952316284, 3.869987964630127, 3.9000000953674316, 3.9706573486328125, 4.0, 4.071394920349121, 4.099999904632568, 4.172202110290527, 4.199999809265137, 4.273068428039551, 4.300000190734863, 4.374024391174316, 4.400000095367432, 4.475051403045654, 4.5, 4.576127529144287, 4.599999904632568, 4.677248954772949, 4.699999809265137, 4.778486251831055, 4.800000190734863, 4.879793167114258, 4.900000095367432, 4.981167793273926, 5.0, 5.082650661468506, 5.099999904632568, 5.18436861038208, 5.199999809265137, 5.2859601974487305, 5.300000190734863, 5.3879852294921875, 5.400000095367432, 5.489573001861572, 5.5, 5.5915656089782715, 5.599999904632568, 5.694015979766846, 5.699999809265137, 5.796186923980713, 5.800000190734863, 5.898992538452148, 5.900000095367432, 6.0, 6.099999904632568, 6.199999809265137, 6.300000190734863, 6.400000095367432, 6.5, 6.599999904632568, 6.699999809265137, 6.800000190734863, 6.900000095367432, 7.0, 7.099999904632568, 7.199999809265137, 7.300000190734863, 7.400000095367432, 7.5, 7.599999904632568, 7.699999809265137, 7.800000190734863, 7.900000095367432, 8.0, 8.100000381469727, 8.199999809265137, 8.300000190734863, 8.399999618530273, 8.5, 8.600000381469727, 8.699999809265137, 8.800000190734863, 8.899999618530273, 9.0, 9.100000381469727, 9.199999809265137, 9.300000190734863, 9.399999618530273, 9.5, 9.600000381469727, 9.699999809265137, 9.800000190734863, 9.899999618530273], \"y\": [0.0, 0.0013151642633602023, 0.014466802589595318, 0.14598609507083893, 1.4645345211029053, 3.215547800064087, 2.930655002593994, 2.7790846824645996, 2.305417537689209, 2.049936056137085, 1.596538782119751, 1.35299813747406, 0.8516797423362732, 0.557106077671051, -0.030337568372488022, -0.4109306335449219, -0.9663176536560059, -1.4637588262557983, -1.910668134689331, -2.210308790206909, -2.121530294418335, -2.1080150604248047, -1.5715850591659546, -1.3034569025039673, -0.8673713207244873, -0.6111575365066528, -0.40529751777648926, -0.29884594678878784, -0.23070408403873444, -0.19866275787353516, -0.18071694672107697, -0.17322561144828796, -0.16733039915561676, -0.16635222733020782, -0.16118519008159637, -0.16061542928218842, -0.15373988449573517, -0.15224075317382812, -0.14385172724723816, -0.1414913833141327, -0.13228768110275269, -0.12939104437828064, -0.11999461054801941, -0.11685624718666077, -0.10769093781709671, -0.10451649129390717, -0.09584740549325943, -0.09277147054672241, -0.08474331349134445, -0.08184579014778137, -0.07451339811086655, -0.07183218747377396, -0.06520934402942657, -0.06276329606771469, -0.056849122047424316, -0.054650574922561646, -0.04940364882349968, -0.04744438827037811, -0.04279974475502968, -0.0410587415099144, -0.03697976842522621, -0.03544945269823074, -0.03188926354050636, -0.030556127429008484, -0.027436545118689537, -0.02627008594572544, -0.02356577292084694, -0.02256089076399803, -0.020215122029185295, -0.019350232556462288, -0.01731138490140438, -0.016566403210163116, -0.014797843992710114, -0.014159210957586765, -0.012635177001357079, -0.0120939239859581, -0.010783495381474495, -0.010327575728297234, -0.009198104031383991, -0.008814156986773014, -0.007833055220544338, -0.00750746950507164, -0.006665985565632582, -0.0063955713994801044, -0.005671952851116657, -0.005447515286505222, -0.004824947565793991, -0.00463933777064085, -0.004097560420632362, -0.003942337352782488, -0.003476874902844429, -0.003349896287545562, -0.0029524138662964106, -0.002849906450137496, -0.002508254023268819, -0.002425186336040497, -0.002125917235389352, -0.0020572193898260593, -0.0018004837911576033, -0.0017456721980124712, -0.0015248816926032305, -0.0014813425950706005, -0.0012889816425740719, -0.0012541005853563547, -0.0010849229292944074, -0.001056972425431013, -0.0009191991412080824, -0.0008994325180537999, -0.0007739334250800312, -0.0007578010554425418, -0.0006629239651374519, -0.0006531541584990919, -0.0005622615572065115, -0.0005540400161407888, -0.00047110338346101344, -0.00046506724902428687, -0.0003991805133409798, -0.00039594751433469355, -0.0003333329514134675, -0.00033136474667117, -0.00028062830097042024, -0.00028022596961818635, -0.00023393379524350166, -0.00019908964168280363, -0.00016819778829813004, -0.00014735051081515849, -0.00011644278856692836, -9.780304390005767e-05, -8.811304724076763e-05, -7.51789630157873e-05, -7.348186773015186e-05, -6.017264968249947e-05, -4.6953522542025894e-05, -3.561330959200859e-05, -3.896759153576568e-05, -2.967926047858782e-05, -2.253736420243513e-05, -2.0444418623810634e-05, -1.5477786291739903e-05, -9.294978553953115e-06, -1.0857052075152751e-05, -1.1422522220527753e-05, -1.5901385268080048e-05, -1.2834775588999037e-05, 1.0207915401849732e-08, -2.374021960349637e-06, -9.889236935123336e-06, -5.229476869317295e-07, -4.28784869654919e-06, -3.7208751564321574e-06, -6.40053167444421e-06, 1.7019904134940589e-06, 8.937518458651539e-08, -9.01054318092065e-06, -7.428926664942992e-07, -6.7284963733982295e-06, 2.5446097424719483e-06, 5.406092782322958e-07, 4.346540663391352e-06, -3.870542059303261e-06, -2.2038393581169657e-06, 6.360126462823246e-06]}],\n",
       "                        {\"template\": {\"data\": {\"bar\": [{\"error_x\": {\"color\": \"#2a3f5f\"}, \"error_y\": {\"color\": \"#2a3f5f\"}, \"marker\": {\"line\": {\"color\": \"#E5ECF6\", \"width\": 0.5}}, \"type\": \"bar\"}], \"barpolar\": [{\"marker\": {\"line\": {\"color\": \"#E5ECF6\", \"width\": 0.5}}, \"type\": \"barpolar\"}], \"carpet\": [{\"aaxis\": {\"endlinecolor\": \"#2a3f5f\", \"gridcolor\": \"white\", \"linecolor\": \"white\", \"minorgridcolor\": \"white\", \"startlinecolor\": \"#2a3f5f\"}, \"baxis\": {\"endlinecolor\": \"#2a3f5f\", \"gridcolor\": \"white\", \"linecolor\": \"white\", \"minorgridcolor\": \"white\", \"startlinecolor\": \"#2a3f5f\"}, \"type\": \"carpet\"}], \"choropleth\": [{\"colorbar\": {\"outlinewidth\": 0, \"ticks\": \"\"}, \"type\": \"choropleth\"}], \"contour\": [{\"colorbar\": {\"outlinewidth\": 0, \"ticks\": \"\"}, \"colorscale\": [[0.0, \"#0d0887\"], [0.1111111111111111, \"#46039f\"], [0.2222222222222222, \"#7201a8\"], [0.3333333333333333, \"#9c179e\"], [0.4444444444444444, \"#bd3786\"], [0.5555555555555556, \"#d8576b\"], [0.6666666666666666, \"#ed7953\"], [0.7777777777777778, \"#fb9f3a\"], [0.8888888888888888, \"#fdca26\"], [1.0, \"#f0f921\"]], \"type\": \"contour\"}], \"contourcarpet\": [{\"colorbar\": {\"outlinewidth\": 0, \"ticks\": \"\"}, \"type\": \"contourcarpet\"}], \"heatmap\": [{\"colorbar\": {\"outlinewidth\": 0, \"ticks\": \"\"}, \"colorscale\": [[0.0, \"#0d0887\"], [0.1111111111111111, \"#46039f\"], [0.2222222222222222, \"#7201a8\"], [0.3333333333333333, \"#9c179e\"], [0.4444444444444444, \"#bd3786\"], [0.5555555555555556, \"#d8576b\"], [0.6666666666666666, \"#ed7953\"], [0.7777777777777778, \"#fb9f3a\"], [0.8888888888888888, \"#fdca26\"], [1.0, \"#f0f921\"]], \"type\": \"heatmap\"}], \"heatmapgl\": [{\"colorbar\": {\"outlinewidth\": 0, \"ticks\": \"\"}, \"colorscale\": [[0.0, \"#0d0887\"], [0.1111111111111111, \"#46039f\"], [0.2222222222222222, \"#7201a8\"], [0.3333333333333333, \"#9c179e\"], [0.4444444444444444, \"#bd3786\"], [0.5555555555555556, \"#d8576b\"], [0.6666666666666666, \"#ed7953\"], [0.7777777777777778, \"#fb9f3a\"], [0.8888888888888888, \"#fdca26\"], [1.0, \"#f0f921\"]], \"type\": \"heatmapgl\"}], \"histogram\": [{\"marker\": {\"colorbar\": {\"outlinewidth\": 0, \"ticks\": \"\"}}, \"type\": \"histogram\"}], \"histogram2d\": [{\"colorbar\": {\"outlinewidth\": 0, \"ticks\": \"\"}, \"colorscale\": [[0.0, \"#0d0887\"], [0.1111111111111111, \"#46039f\"], [0.2222222222222222, \"#7201a8\"], [0.3333333333333333, \"#9c179e\"], [0.4444444444444444, \"#bd3786\"], [0.5555555555555556, \"#d8576b\"], [0.6666666666666666, \"#ed7953\"], [0.7777777777777778, \"#fb9f3a\"], [0.8888888888888888, \"#fdca26\"], [1.0, \"#f0f921\"]], \"type\": \"histogram2d\"}], \"histogram2dcontour\": [{\"colorbar\": {\"outlinewidth\": 0, \"ticks\": \"\"}, \"colorscale\": [[0.0, \"#0d0887\"], [0.1111111111111111, \"#46039f\"], [0.2222222222222222, \"#7201a8\"], [0.3333333333333333, \"#9c179e\"], [0.4444444444444444, \"#bd3786\"], [0.5555555555555556, \"#d8576b\"], [0.6666666666666666, \"#ed7953\"], [0.7777777777777778, \"#fb9f3a\"], [0.8888888888888888, \"#fdca26\"], [1.0, \"#f0f921\"]], \"type\": \"histogram2dcontour\"}], \"mesh3d\": [{\"colorbar\": {\"outlinewidth\": 0, \"ticks\": \"\"}, \"type\": \"mesh3d\"}], \"parcoords\": [{\"line\": {\"colorbar\": {\"outlinewidth\": 0, \"ticks\": \"\"}}, \"type\": \"parcoords\"}], \"pie\": [{\"automargin\": true, \"type\": \"pie\"}], \"scatter\": [{\"marker\": {\"colorbar\": {\"outlinewidth\": 0, \"ticks\": \"\"}}, \"type\": \"scatter\"}], \"scatter3d\": [{\"line\": {\"colorbar\": {\"outlinewidth\": 0, \"ticks\": \"\"}}, \"marker\": {\"colorbar\": {\"outlinewidth\": 0, \"ticks\": \"\"}}, \"type\": \"scatter3d\"}], \"scattercarpet\": [{\"marker\": {\"colorbar\": {\"outlinewidth\": 0, \"ticks\": \"\"}}, \"type\": \"scattercarpet\"}], \"scattergeo\": [{\"marker\": {\"colorbar\": {\"outlinewidth\": 0, \"ticks\": \"\"}}, \"type\": \"scattergeo\"}], \"scattergl\": [{\"marker\": {\"colorbar\": {\"outlinewidth\": 0, \"ticks\": \"\"}}, \"type\": \"scattergl\"}], \"scattermapbox\": [{\"marker\": {\"colorbar\": {\"outlinewidth\": 0, \"ticks\": \"\"}}, \"type\": \"scattermapbox\"}], \"scatterpolar\": [{\"marker\": {\"colorbar\": {\"outlinewidth\": 0, \"ticks\": \"\"}}, \"type\": \"scatterpolar\"}], \"scatterpolargl\": [{\"marker\": {\"colorbar\": {\"outlinewidth\": 0, \"ticks\": \"\"}}, \"type\": \"scatterpolargl\"}], \"scatterternary\": [{\"marker\": {\"colorbar\": {\"outlinewidth\": 0, \"ticks\": \"\"}}, \"type\": \"scatterternary\"}], \"surface\": [{\"colorbar\": {\"outlinewidth\": 0, \"ticks\": \"\"}, \"colorscale\": [[0.0, \"#0d0887\"], [0.1111111111111111, \"#46039f\"], [0.2222222222222222, \"#7201a8\"], [0.3333333333333333, \"#9c179e\"], [0.4444444444444444, \"#bd3786\"], [0.5555555555555556, \"#d8576b\"], [0.6666666666666666, \"#ed7953\"], [0.7777777777777778, \"#fb9f3a\"], [0.8888888888888888, \"#fdca26\"], [1.0, \"#f0f921\"]], \"type\": \"surface\"}], \"table\": [{\"cells\": {\"fill\": {\"color\": \"#EBF0F8\"}, \"line\": {\"color\": \"white\"}}, \"header\": {\"fill\": {\"color\": \"#C8D4E3\"}, \"line\": {\"color\": \"white\"}}, \"type\": \"table\"}]}, \"layout\": {\"annotationdefaults\": {\"arrowcolor\": \"#2a3f5f\", \"arrowhead\": 0, \"arrowwidth\": 1}, \"coloraxis\": {\"colorbar\": {\"outlinewidth\": 0, \"ticks\": \"\"}}, \"colorscale\": {\"diverging\": [[0, \"#8e0152\"], [0.1, \"#c51b7d\"], [0.2, \"#de77ae\"], [0.3, \"#f1b6da\"], [0.4, \"#fde0ef\"], [0.5, \"#f7f7f7\"], [0.6, \"#e6f5d0\"], [0.7, \"#b8e186\"], [0.8, \"#7fbc41\"], [0.9, \"#4d9221\"], [1, \"#276419\"]], \"sequential\": [[0.0, \"#0d0887\"], [0.1111111111111111, \"#46039f\"], [0.2222222222222222, \"#7201a8\"], [0.3333333333333333, \"#9c179e\"], [0.4444444444444444, \"#bd3786\"], [0.5555555555555556, \"#d8576b\"], [0.6666666666666666, \"#ed7953\"], [0.7777777777777778, \"#fb9f3a\"], [0.8888888888888888, \"#fdca26\"], [1.0, \"#f0f921\"]], \"sequentialminus\": [[0.0, \"#0d0887\"], [0.1111111111111111, \"#46039f\"], [0.2222222222222222, \"#7201a8\"], [0.3333333333333333, \"#9c179e\"], [0.4444444444444444, \"#bd3786\"], [0.5555555555555556, \"#d8576b\"], [0.6666666666666666, \"#ed7953\"], [0.7777777777777778, \"#fb9f3a\"], [0.8888888888888888, \"#fdca26\"], [1.0, \"#f0f921\"]]}, \"colorway\": [\"#636efa\", \"#EF553B\", \"#00cc96\", \"#ab63fa\", \"#FFA15A\", \"#19d3f3\", \"#FF6692\", \"#B6E880\", \"#FF97FF\", \"#FECB52\"], \"font\": {\"color\": \"#2a3f5f\"}, \"geo\": {\"bgcolor\": \"white\", \"lakecolor\": \"white\", \"landcolor\": \"#E5ECF6\", \"showlakes\": true, \"showland\": true, \"subunitcolor\": \"white\"}, \"hoverlabel\": {\"align\": \"left\"}, \"hovermode\": \"closest\", \"mapbox\": {\"style\": \"light\"}, \"paper_bgcolor\": \"white\", \"plot_bgcolor\": \"#E5ECF6\", \"polar\": {\"angularaxis\": {\"gridcolor\": \"white\", \"linecolor\": \"white\", \"ticks\": \"\"}, \"bgcolor\": \"#E5ECF6\", \"radialaxis\": {\"gridcolor\": \"white\", \"linecolor\": \"white\", \"ticks\": \"\"}}, \"scene\": {\"xaxis\": {\"backgroundcolor\": \"#E5ECF6\", \"gridcolor\": \"white\", \"gridwidth\": 2, \"linecolor\": \"white\", \"showbackground\": true, \"ticks\": \"\", \"zerolinecolor\": \"white\"}, \"yaxis\": {\"backgroundcolor\": \"#E5ECF6\", \"gridcolor\": \"white\", \"gridwidth\": 2, \"linecolor\": \"white\", \"showbackground\": true, \"ticks\": \"\", \"zerolinecolor\": \"white\"}, \"zaxis\": {\"backgroundcolor\": \"#E5ECF6\", \"gridcolor\": \"white\", \"gridwidth\": 2, \"linecolor\": \"white\", \"showbackground\": true, \"ticks\": \"\", \"zerolinecolor\": \"white\"}}, \"shapedefaults\": {\"line\": {\"color\": \"#2a3f5f\"}}, \"ternary\": {\"aaxis\": {\"gridcolor\": \"white\", \"linecolor\": \"white\", \"ticks\": \"\"}, \"baxis\": {\"gridcolor\": \"white\", \"linecolor\": \"white\", \"ticks\": \"\"}, \"bgcolor\": \"#E5ECF6\", \"caxis\": {\"gridcolor\": \"white\", \"linecolor\": \"white\", \"ticks\": \"\"}}, \"title\": {\"x\": 0.05}, \"xaxis\": {\"automargin\": true, \"gridcolor\": \"white\", \"linecolor\": \"white\", \"ticks\": \"\", \"title\": {\"standoff\": 15}, \"zerolinecolor\": \"white\", \"zerolinewidth\": 2}, \"yaxis\": {\"automargin\": true, \"gridcolor\": \"white\", \"linecolor\": \"white\", \"ticks\": \"\", \"title\": {\"standoff\": 15}, \"zerolinecolor\": \"white\", \"zerolinewidth\": 2}}}},\n",
       "                        {\"responsive\": true}\n",
       "                    ).then(function(){\n",
       "                            \n",
       "var gd = document.getElementById('52e8e7f4-dd2b-423d-b99e-58ea33c3cbb9');\n",
       "var x = new MutationObserver(function (mutations, observer) {{\n",
       "        var display = window.getComputedStyle(gd).display;\n",
       "        if (!display || display === 'none') {{\n",
       "            console.log([gd, 'removed!']);\n",
       "            Plotly.purge(gd);\n",
       "            observer.disconnect();\n",
       "        }}\n",
       "}});\n",
       "\n",
       "// Listen for the removal of the full notebook cells\n",
       "var notebookContainer = gd.closest('#notebook-container');\n",
       "if (notebookContainer) {{\n",
       "    x.observe(notebookContainer, {childList: true});\n",
       "}}\n",
       "\n",
       "// Listen for the clearing of the current output cell\n",
       "var outputEl = gd.closest('.output');\n",
       "if (outputEl) {{\n",
       "    x.observe(outputEl, {childList: true});\n",
       "}}\n",
       "\n",
       "                        })\n",
       "                };\n",
       "                });\n",
       "            </script>\n",
       "        </div>"
      ]
     },
     "metadata": {},
     "output_type": "display_data"
    }
   ],
   "source": [
    "# ctrl = lambda x: (torch.zeros(1), torch.zeros(1), None)\n",
    "\n",
    "# ctrl = controllers.get_optimal_controller(vf)\n",
    "\n",
    "x0 = torch.Tensor([np.pi, 0., 0., 0.]).double()\n",
    "u_min = torch.Tensor(vf.u_lo[0]).type(vf.dtype)\n",
    "u_max = torch.Tensor(vf.u_up[0]).type(vf.dtype)\n",
    "Q = np.diag([1., 1., .1, .1])\n",
    "R = np.diag([.1])\n",
    "ctrl = controllers.get_lqr_controller(acrobot.dx, x0, torch.zeros(u_min.shape[0]).type(vf.dtype), Q, R, u_min, u_max)\n",
    "\n",
    "eps = .05\n",
    "x0 = torch.Tensor([np.pi+eps, eps, 0., 0.]).double()\n",
    "x_traj_sim, t_traj_sim = controllers.sim_ctrl(x0, 1, acrobot.dx, ctrl, .1, 100)\n",
    "\n",
    "fig = go.Figure()\n",
    "for i in range(4):\n",
    "    fig.add_trace(go.Scatter(\n",
    "        x=t_traj_sim,\n",
    "        y=x_traj_sim[i,:]\n",
    "    ))\n",
    "fig.show()"
   ]
  },
  {
   "cell_type": "code",
   "execution_count": 34,
   "metadata": {},
   "outputs": [],
   "source": [
    "# eps = 2.\n",
    "# x0_lo = torch.Tensor([np.pi-eps, -eps, -5., -5.]).type(vf.dtype)\n",
    "# x0_up = torch.Tensor([np.pi+eps, eps, 5., 5.]).type(vf.dtype)\n",
    "\n",
    "eps = .05\n",
    "x0_lo = torch.Tensor([np.pi-eps, -eps, -3., -3.]).type(vf.dtype)\n",
    "x0_up = torch.Tensor([np.pi+eps, eps, 3., 3.]).type(vf.dtype)\n",
    "\n",
    "# file options\n",
    "sys_name = 'acrobot'\n",
    "x_samples_file = '../data/validation_' + sys_name + '_x.pt'\n",
    "v_samples_file = '../data/validation_' + sys_name + '_v.pt'\n",
    "model_file = '../data/' + sys_name + '.pt'"
   ]
  },
  {
   "cell_type": "code",
   "execution_count": 43,
   "metadata": {},
   "outputs": [],
   "source": [
    "opt = dict(\n",
    "    max_buffer_size = None,\n",
    "    batch_size = 30,\n",
    "    nn_width = 128,\n",
    "    nn_depth = 1,\n",
    "\n",
    "    init_num_samples = 10,\n",
    "#     init_num_trainig_step = 200,\n",
    "    init_num_trainig_step = 10000,\n",
    "    \n",
    "    num_generations = 20,\n",
    "    num_samples_per_generation = 10,\n",
    "    num_train_step_per_gen = 200,\n",
    "    \n",
    "    adv_max_iter = 2,\n",
    "    adv_conv_tol = 1e-5,\n",
    "    adv_learning_rate = .5,\n",
    "    \n",
    "    num_samples_validation = 100,\n",
    ")"
   ]
  },
  {
   "cell_type": "code",
   "execution_count": 44,
   "metadata": {},
   "outputs": [],
   "source": [
    "samples_buff = samples_buffer.SamplesBuffer(x0_lo.shape[0]*(vf.N-1), vf.N-1, vf.dtype, max_size=opt['max_buffer_size'])\n",
    "samples_gen = samples_generator.RandomSampleGenerator(vf, x0_lo, x0_up)"
   ]
  },
  {
   "cell_type": "code",
   "execution_count": 45,
   "metadata": {},
   "outputs": [],
   "source": [
    "vf_approx = value_approximation.InfiniteHorizonValueFunctionApproximation(x0_lo, x0_up, opt['nn_width'], opt['nn_depth'])\n",
    "train_log = training_log.TrainingLog(1, prefix=\"baseline\")"
   ]
  },
  {
   "cell_type": "code",
   "execution_count": 41,
   "metadata": {},
   "outputs": [],
   "source": [
    "x_samples_validation, v_labels_validation = samples_gen.generate_samples(opt['num_samples_validation'])"
   ]
  },
  {
   "cell_type": "code",
   "execution_count": 42,
   "metadata": {},
   "outputs": [],
   "source": [
    "torch.save(x_samples_validation, x_samples_file)\n",
    "torch.save(v_labels_validation, v_samples_file)"
   ]
  },
  {
   "cell_type": "code",
   "execution_count": 46,
   "metadata": {},
   "outputs": [],
   "source": [
    "x_samples_validation = torch.load(x_samples_file)\n",
    "v_labels_validation = torch.load(v_samples_file)"
   ]
  },
  {
   "cell_type": "code",
   "execution_count": 39,
   "metadata": {},
   "outputs": [],
   "source": [
    "(x_samples, v_labels) = samples_gen.generate_samples(opt['init_num_samples'])\n",
    "samples_buff.add_samples(x_samples, v_labels)"
   ]
  },
  {
   "cell_type": "code",
   "execution_count": 47,
   "metadata": {},
   "outputs": [],
   "source": [
    "samples_buff.add_samples(x_samples_validation, v_labels_validation)"
   ]
  },
  {
   "cell_type": "code",
   "execution_count": 49,
   "metadata": {},
   "outputs": [],
   "source": [
    "for train_step_i in range(opt['init_num_trainig_step']):\n",
    "    x, v = samples_buff.get_random_samples(opt['batch_size'])\n",
    "    losses = vf_approx.train_step(x, v)\n",
    "    train_log.add_train_loss(losses)"
   ]
  },
  {
   "cell_type": "code",
   "execution_count": 60,
   "metadata": {},
   "outputs": [],
   "source": [
    "samples_buff_adv = copy.deepcopy(samples_buff)\n",
    "samples_gen_adv = samples_generator.AdversarialSampleGenerator(vf, x0_lo, x0_up, \n",
    "                                                               max_iter=opt['adv_max_iter'],\n",
    "                                                               conv_tol=opt['adv_conv_tol'],\n",
    "                                                               learning_rate=opt['adv_learning_rate'])\n",
    "vf_approx_adv = copy.deepcopy(vf_approx)\n",
    "train_log_adv = training_log.TrainingLog.get_copy(\n",
    "    train_log, prefix=\"adversarial\", keep_writer=True)"
   ]
  },
  {
   "cell_type": "code",
   "execution_count": 62,
   "metadata": {},
   "outputs": [],
   "source": [
    "validation_losses = vf_approx_adv.validation_loss(x_samples_validation, v_labels_validation)\n",
    "train_log_adv.add_validation_loss(validation_losses)\n",
    "validation_losses = vf_approx.validation_loss(x_samples_validation, v_labels_validation)\n",
    "train_log.add_validation_loss(validation_losses)\n",
    "for gen_i in range(opt['num_generations']):\n",
    "    # adverserial samples\n",
    "    (x_samples, v_labels) = samples_gen_adv.generate_samples(opt['num_samples_per_generation'], vf_approx_adv)\n",
    "    samples_buff_adv.add_samples(x_samples, v_labels)\n",
    "    # random samples\n",
    "    (x_samples, v_labels) = samples_gen.generate_samples(opt['num_samples_per_generation'])\n",
    "    samples_buff.add_samples(x_samples, v_labels)\n",
    "    for train_step_i in range(opt['num_train_step_per_gen']):\n",
    "        samples_indices = samples_buff_adv.get_random_sample_indices(opt['batch_size'])\n",
    "        x, v = samples_buff_adv.get_samples_from_indices(samples_indices)\n",
    "        losses = vf_approx_adv.train_step(x, v)\n",
    "        train_log_adv.add_train_loss(losses)\n",
    "        x, v = samples_buff.get_samples_from_indices(samples_indices)\n",
    "        losses = vf_approx.train_step(x, v)\n",
    "        train_log.add_train_loss(losses)\n",
    "    validation_losses = vf_approx_adv.validation_loss(x_samples_validation, v_labels_validation)\n",
    "    train_log_adv.add_validation_loss(validation_losses)\n",
    "    validation_losses = vf_approx.validation_loss(x_samples_validation, v_labels_validation)\n",
    "    train_log.add_validation_loss(validation_losses)"
   ]
  },
  {
   "cell_type": "code",
   "execution_count": 52,
   "metadata": {},
   "outputs": [
    {
     "data": {
      "application/vnd.plotly.v1+json": {
       "config": {
        "plotlyServerURL": "https://plot.ly"
       },
       "data": [
        {
         "type": "scatter",
         "x": [
          0,
          4.365936911199242e-05,
          0.0004802530456800014,
          0.004846189636737108,
          0.04850555583834648,
          0.10000000149011612,
          0.1622197926044464,
          0.20000000298023224,
          0.2722361087799072,
          0.30000001192092896,
          0.368898868560791,
          0.4000000059604645,
          0.4828532636165619,
          0.5,
          0.5802303552627563,
          0.6000000238418579,
          0.682306170463562,
          0.699999988079071,
          0.7721034288406372,
          0.800000011920929,
          0.8731672167778015,
          0.8999999761581421,
          0.9690493941307068,
          1,
          1.0634125471115112,
          1.100000023841858,
          1.1577885150909424,
          1.2000000476837158,
          1.2057690620422363,
          1.263459324836731,
          1.2999999523162842,
          1.3609881401062012,
          1.399999976158142,
          1.4749435186386108,
          1.5,
          1.5743067264556885,
          1.600000023841858,
          1.6712055206298828,
          1.7000000476837158,
          1.7627882957458496,
          1.7999999523162842,
          1.8834178447723389,
          1.899999976158142
         ],
         "y": [
          3.15159273147583,
          3.15159273147583,
          3.1515915393829346,
          3.15146541595459,
          3.1388206481933594,
          3.0969982147216797,
          3.0271613597869873,
          2.982844591140747,
          2.8964686393737793,
          2.86291241645813,
          2.7702114582061768,
          2.722658157348633,
          2.5834178924560547,
          2.5525755882263184,
          2.4021005630493164,
          2.363272190093994,
          2.1858696937561035,
          2.1437439918518066,
          1.956321358680725,
          1.875924825668335,
          1.64214289188385,
          1.5476248264312744,
          1.2774428129196167,
          1.141792893409729,
          0.8304206132888794,
          0.627700686454773,
          0.2777804136276245,
          0.016774119809269905,
          -0.01814735308289528,
          -0.35049721598625183,
          -0.5452988743782043,
          -0.8471872210502625,
          -1.0271873474121094,
          -1.3567837476730347,
          -1.4629014730453491,
          -1.7661110162734985,
          -1.8680721521377563,
          -2.138353109359741,
          -2.242879629135132,
          -2.4749481678009033,
          -2.6221659183502197,
          -2.965996026992798,
          -3.0336761474609375
         ]
        },
        {
         "type": "scatter",
         "x": [
          0,
          4.365936911199242e-05,
          0.0004802530456800014,
          0.004846189636737108,
          0.04850555583834648,
          0.10000000149011612,
          0.1622197926044464,
          0.20000000298023224,
          0.2722361087799072,
          0.30000001192092896,
          0.368898868560791,
          0.4000000059604645,
          0.4828532636165619,
          0.5,
          0.5802303552627563,
          0.6000000238418579,
          0.682306170463562,
          0.699999988079071,
          0.7721034288406372,
          0.800000011920929,
          0.8731672167778015,
          0.8999999761581421,
          0.9690493941307068,
          1,
          1.0634125471115112,
          1.100000023841858,
          1.1577885150909424,
          1.2000000476837158,
          1.2057690620422363,
          1.263459324836731,
          1.2999999523162842,
          1.3609881401062012,
          1.399999976158142,
          1.4749435186386108,
          1.5,
          1.5743067264556885,
          1.600000023841858,
          1.6712055206298828,
          1.7000000476837158,
          1.7627882957458496,
          1.7999999523162842,
          1.8834178447723389,
          1.899999976158142
         ],
         "y": [
          -0.009999999776482582,
          -0.009999971836805344,
          -0.009996656328439713,
          -0.00965956225991249,
          0.024164041504263878,
          0.13591548800468445,
          0.3222354054450989,
          0.4401475489139557,
          0.6686400175094604,
          0.756710410118103,
          0.9987730383872986,
          1.1226667165756226,
          1.483915090560913,
          1.5635210275650024,
          1.9465110301971436,
          2.043297529220581,
          2.4764180183410645,
          2.576894521713257,
          3.0068767070770264,
          3.182337760925293,
          3.662550449371338,
          3.8469161987304688,
          4.36433744430542,
          4.624304294586182,
          5.229118347167969,
          5.629716396331787,
          6.327814102172852,
          6.84383487701416,
          6.911938667297363,
          7.541840076446533,
          7.891561508178711,
          8.397651672363281,
          8.678070068359375,
          9.185188293457031,
          9.355263710021973,
          9.885711669921875,
          10.083060264587402,
          10.636065483093262,
          10.858247756958008,
          11.37061882019043,
          11.707085609436035,
          12.505152702331543,
          12.663228034973145
         ]
        },
        {
         "type": "scatter",
         "x": [
          0,
          4.365936911199242e-05,
          0.0004802530456800014,
          0.004846189636737108,
          0.04850555583834648,
          0.10000000149011612,
          0.1622197926044464,
          0.20000000298023224,
          0.2722361087799072,
          0.30000001192092896,
          0.368898868560791,
          0.4000000059604645,
          0.4828532636165619,
          0.5,
          0.5802303552627563,
          0.6000000238418579,
          0.682306170463562,
          0.699999988079071,
          0.7721034288406372,
          0.800000011920929,
          0.8731672167778015,
          0.8999999761581421,
          0.9690493941307068,
          1,
          1.0634125471115112,
          1.100000023841858,
          1.1577885150909424,
          1.2000000476837158,
          1.2057690620422363,
          1.263459324836731,
          1.2999999523162842,
          1.3609881401062012,
          1.399999976158142,
          1.4749435186386108,
          1.5,
          1.5743067264556885,
          1.600000023841858,
          1.6712055206298828,
          1.7000000476837158,
          1.7627882957458496,
          1.7999999523162842,
          1.8834178447723389,
          1.899999976158142
         ],
         "y": [
          0,
          -0.0004730369837488979,
          -0.005203405860811472,
          -0.05250903218984604,
          -0.5276814103126526,
          -1.098789930343628,
          -1.151045322418213,
          -1.1965854167938232,
          -1.2023301124572754,
          -1.2159225940704346,
          -1.4730935096740723,
          -1.5842355489730835,
          -1.7781007289886475,
          -1.8194692134857178,
          -1.9433307647705078,
          -1.9856160879135132,
          -2.337445020675659,
          -2.425102949142456,
          -2.794914484024048,
          -2.972010612487793,
          -3.431220769882202,
          -3.614698648452759,
          -4.227548599243164,
          -4.543631553649902,
          -5.3025970458984375,
          -5.773547172546387,
          -6.227375507354736,
          -6.076249122619629,
          -6.029650688171387,
          -5.487632751464844,
          -5.184365749359131,
          -4.737143039703369,
          -4.492369651794434,
          -4.28223180770874,
          -4.186527252197266,
          -3.9869484901428223,
          -3.9555234909057617,
          -3.6659727096557617,
          -3.5987071990966797,
          -3.8350112438201904,
          -4.090541839599609,
          -4.1016435623168945,
          -4.058521270751953
         ]
        },
        {
         "type": "scatter",
         "x": [
          0,
          4.365936911199242e-05,
          0.0004802530456800014,
          0.004846189636737108,
          0.04850555583834648,
          0.10000000149011612,
          0.1622197926044464,
          0.20000000298023224,
          0.2722361087799072,
          0.30000001192092896,
          0.368898868560791,
          0.4000000059604645,
          0.4828532636165619,
          0.5,
          0.5802303552627563,
          0.6000000238418579,
          0.682306170463562,
          0.699999988079071,
          0.7721034288406372,
          0.800000011920929,
          0.8731672167778015,
          0.8999999761581421,
          0.9690493941307068,
          1,
          1.0634125471115112,
          1.100000023841858,
          1.1577885150909424,
          1.2000000476837158,
          1.2057690620422363,
          1.263459324836731,
          1.2999999523162842,
          1.3609881401062012,
          1.399999976158142,
          1.4749435186386108,
          1.5,
          1.5743067264556885,
          1.600000023841858,
          1.6712055206298828,
          1.7000000476837158,
          1.7627882957458496,
          1.7999999523162842,
          1.8834178447723389,
          1.899999976158142
         ],
         "y": [
          0,
          0.0012657202314585447,
          0.013922919519245625,
          0.14049924910068512,
          1.4110580682754517,
          2.9343440532684326,
          3.066497325897217,
          3.179304838180542,
          3.1636242866516113,
          3.1827635765075684,
          3.8398513793945312,
          4.125882625579834,
          4.59420919418335,
          4.691058158874512,
          4.868635654449463,
          4.9234747886657715,
          5.603630065917969,
          5.754073143005371,
          6.190277576446533,
          6.393166542053223,
          6.771978378295898,
          6.9767165184021,
          8.081865310668945,
          8.735735893249512,
          10.412550926208496,
          11.471868515014648,
          12.412278175354004,
          11.874887466430664,
          11.733530044555664,
          10.076011657714844,
          9.087736129760742,
          7.580536365509033,
          6.818168640136719,
          6.764876365661621,
          6.816431522369385,
          7.51910924911499,
          7.851787567138672,
          7.717041492462158,
          7.72035551071167,
          8.670083045959473,
          9.438565254211426,
          9.570540428161621,
          9.4884672164917
         ]
        }
       ],
       "layout": {
        "template": {
         "data": {
          "bar": [
           {
            "error_x": {
             "color": "#2a3f5f"
            },
            "error_y": {
             "color": "#2a3f5f"
            },
            "marker": {
             "line": {
              "color": "#E5ECF6",
              "width": 0.5
             }
            },
            "type": "bar"
           }
          ],
          "barpolar": [
           {
            "marker": {
             "line": {
              "color": "#E5ECF6",
              "width": 0.5
             }
            },
            "type": "barpolar"
           }
          ],
          "carpet": [
           {
            "aaxis": {
             "endlinecolor": "#2a3f5f",
             "gridcolor": "white",
             "linecolor": "white",
             "minorgridcolor": "white",
             "startlinecolor": "#2a3f5f"
            },
            "baxis": {
             "endlinecolor": "#2a3f5f",
             "gridcolor": "white",
             "linecolor": "white",
             "minorgridcolor": "white",
             "startlinecolor": "#2a3f5f"
            },
            "type": "carpet"
           }
          ],
          "choropleth": [
           {
            "colorbar": {
             "outlinewidth": 0,
             "ticks": ""
            },
            "type": "choropleth"
           }
          ],
          "contour": [
           {
            "colorbar": {
             "outlinewidth": 0,
             "ticks": ""
            },
            "colorscale": [
             [
              0,
              "#0d0887"
             ],
             [
              0.1111111111111111,
              "#46039f"
             ],
             [
              0.2222222222222222,
              "#7201a8"
             ],
             [
              0.3333333333333333,
              "#9c179e"
             ],
             [
              0.4444444444444444,
              "#bd3786"
             ],
             [
              0.5555555555555556,
              "#d8576b"
             ],
             [
              0.6666666666666666,
              "#ed7953"
             ],
             [
              0.7777777777777778,
              "#fb9f3a"
             ],
             [
              0.8888888888888888,
              "#fdca26"
             ],
             [
              1,
              "#f0f921"
             ]
            ],
            "type": "contour"
           }
          ],
          "contourcarpet": [
           {
            "colorbar": {
             "outlinewidth": 0,
             "ticks": ""
            },
            "type": "contourcarpet"
           }
          ],
          "heatmap": [
           {
            "colorbar": {
             "outlinewidth": 0,
             "ticks": ""
            },
            "colorscale": [
             [
              0,
              "#0d0887"
             ],
             [
              0.1111111111111111,
              "#46039f"
             ],
             [
              0.2222222222222222,
              "#7201a8"
             ],
             [
              0.3333333333333333,
              "#9c179e"
             ],
             [
              0.4444444444444444,
              "#bd3786"
             ],
             [
              0.5555555555555556,
              "#d8576b"
             ],
             [
              0.6666666666666666,
              "#ed7953"
             ],
             [
              0.7777777777777778,
              "#fb9f3a"
             ],
             [
              0.8888888888888888,
              "#fdca26"
             ],
             [
              1,
              "#f0f921"
             ]
            ],
            "type": "heatmap"
           }
          ],
          "heatmapgl": [
           {
            "colorbar": {
             "outlinewidth": 0,
             "ticks": ""
            },
            "colorscale": [
             [
              0,
              "#0d0887"
             ],
             [
              0.1111111111111111,
              "#46039f"
             ],
             [
              0.2222222222222222,
              "#7201a8"
             ],
             [
              0.3333333333333333,
              "#9c179e"
             ],
             [
              0.4444444444444444,
              "#bd3786"
             ],
             [
              0.5555555555555556,
              "#d8576b"
             ],
             [
              0.6666666666666666,
              "#ed7953"
             ],
             [
              0.7777777777777778,
              "#fb9f3a"
             ],
             [
              0.8888888888888888,
              "#fdca26"
             ],
             [
              1,
              "#f0f921"
             ]
            ],
            "type": "heatmapgl"
           }
          ],
          "histogram": [
           {
            "marker": {
             "colorbar": {
              "outlinewidth": 0,
              "ticks": ""
             }
            },
            "type": "histogram"
           }
          ],
          "histogram2d": [
           {
            "colorbar": {
             "outlinewidth": 0,
             "ticks": ""
            },
            "colorscale": [
             [
              0,
              "#0d0887"
             ],
             [
              0.1111111111111111,
              "#46039f"
             ],
             [
              0.2222222222222222,
              "#7201a8"
             ],
             [
              0.3333333333333333,
              "#9c179e"
             ],
             [
              0.4444444444444444,
              "#bd3786"
             ],
             [
              0.5555555555555556,
              "#d8576b"
             ],
             [
              0.6666666666666666,
              "#ed7953"
             ],
             [
              0.7777777777777778,
              "#fb9f3a"
             ],
             [
              0.8888888888888888,
              "#fdca26"
             ],
             [
              1,
              "#f0f921"
             ]
            ],
            "type": "histogram2d"
           }
          ],
          "histogram2dcontour": [
           {
            "colorbar": {
             "outlinewidth": 0,
             "ticks": ""
            },
            "colorscale": [
             [
              0,
              "#0d0887"
             ],
             [
              0.1111111111111111,
              "#46039f"
             ],
             [
              0.2222222222222222,
              "#7201a8"
             ],
             [
              0.3333333333333333,
              "#9c179e"
             ],
             [
              0.4444444444444444,
              "#bd3786"
             ],
             [
              0.5555555555555556,
              "#d8576b"
             ],
             [
              0.6666666666666666,
              "#ed7953"
             ],
             [
              0.7777777777777778,
              "#fb9f3a"
             ],
             [
              0.8888888888888888,
              "#fdca26"
             ],
             [
              1,
              "#f0f921"
             ]
            ],
            "type": "histogram2dcontour"
           }
          ],
          "mesh3d": [
           {
            "colorbar": {
             "outlinewidth": 0,
             "ticks": ""
            },
            "type": "mesh3d"
           }
          ],
          "parcoords": [
           {
            "line": {
             "colorbar": {
              "outlinewidth": 0,
              "ticks": ""
             }
            },
            "type": "parcoords"
           }
          ],
          "pie": [
           {
            "automargin": true,
            "type": "pie"
           }
          ],
          "scatter": [
           {
            "marker": {
             "colorbar": {
              "outlinewidth": 0,
              "ticks": ""
             }
            },
            "type": "scatter"
           }
          ],
          "scatter3d": [
           {
            "line": {
             "colorbar": {
              "outlinewidth": 0,
              "ticks": ""
             }
            },
            "marker": {
             "colorbar": {
              "outlinewidth": 0,
              "ticks": ""
             }
            },
            "type": "scatter3d"
           }
          ],
          "scattercarpet": [
           {
            "marker": {
             "colorbar": {
              "outlinewidth": 0,
              "ticks": ""
             }
            },
            "type": "scattercarpet"
           }
          ],
          "scattergeo": [
           {
            "marker": {
             "colorbar": {
              "outlinewidth": 0,
              "ticks": ""
             }
            },
            "type": "scattergeo"
           }
          ],
          "scattergl": [
           {
            "marker": {
             "colorbar": {
              "outlinewidth": 0,
              "ticks": ""
             }
            },
            "type": "scattergl"
           }
          ],
          "scattermapbox": [
           {
            "marker": {
             "colorbar": {
              "outlinewidth": 0,
              "ticks": ""
             }
            },
            "type": "scattermapbox"
           }
          ],
          "scatterpolar": [
           {
            "marker": {
             "colorbar": {
              "outlinewidth": 0,
              "ticks": ""
             }
            },
            "type": "scatterpolar"
           }
          ],
          "scatterpolargl": [
           {
            "marker": {
             "colorbar": {
              "outlinewidth": 0,
              "ticks": ""
             }
            },
            "type": "scatterpolargl"
           }
          ],
          "scatterternary": [
           {
            "marker": {
             "colorbar": {
              "outlinewidth": 0,
              "ticks": ""
             }
            },
            "type": "scatterternary"
           }
          ],
          "surface": [
           {
            "colorbar": {
             "outlinewidth": 0,
             "ticks": ""
            },
            "colorscale": [
             [
              0,
              "#0d0887"
             ],
             [
              0.1111111111111111,
              "#46039f"
             ],
             [
              0.2222222222222222,
              "#7201a8"
             ],
             [
              0.3333333333333333,
              "#9c179e"
             ],
             [
              0.4444444444444444,
              "#bd3786"
             ],
             [
              0.5555555555555556,
              "#d8576b"
             ],
             [
              0.6666666666666666,
              "#ed7953"
             ],
             [
              0.7777777777777778,
              "#fb9f3a"
             ],
             [
              0.8888888888888888,
              "#fdca26"
             ],
             [
              1,
              "#f0f921"
             ]
            ],
            "type": "surface"
           }
          ],
          "table": [
           {
            "cells": {
             "fill": {
              "color": "#EBF0F8"
             },
             "line": {
              "color": "white"
             }
            },
            "header": {
             "fill": {
              "color": "#C8D4E3"
             },
             "line": {
              "color": "white"
             }
            },
            "type": "table"
           }
          ]
         },
         "layout": {
          "annotationdefaults": {
           "arrowcolor": "#2a3f5f",
           "arrowhead": 0,
           "arrowwidth": 1
          },
          "coloraxis": {
           "colorbar": {
            "outlinewidth": 0,
            "ticks": ""
           }
          },
          "colorscale": {
           "diverging": [
            [
             0,
             "#8e0152"
            ],
            [
             0.1,
             "#c51b7d"
            ],
            [
             0.2,
             "#de77ae"
            ],
            [
             0.3,
             "#f1b6da"
            ],
            [
             0.4,
             "#fde0ef"
            ],
            [
             0.5,
             "#f7f7f7"
            ],
            [
             0.6,
             "#e6f5d0"
            ],
            [
             0.7,
             "#b8e186"
            ],
            [
             0.8,
             "#7fbc41"
            ],
            [
             0.9,
             "#4d9221"
            ],
            [
             1,
             "#276419"
            ]
           ],
           "sequential": [
            [
             0,
             "#0d0887"
            ],
            [
             0.1111111111111111,
             "#46039f"
            ],
            [
             0.2222222222222222,
             "#7201a8"
            ],
            [
             0.3333333333333333,
             "#9c179e"
            ],
            [
             0.4444444444444444,
             "#bd3786"
            ],
            [
             0.5555555555555556,
             "#d8576b"
            ],
            [
             0.6666666666666666,
             "#ed7953"
            ],
            [
             0.7777777777777778,
             "#fb9f3a"
            ],
            [
             0.8888888888888888,
             "#fdca26"
            ],
            [
             1,
             "#f0f921"
            ]
           ],
           "sequentialminus": [
            [
             0,
             "#0d0887"
            ],
            [
             0.1111111111111111,
             "#46039f"
            ],
            [
             0.2222222222222222,
             "#7201a8"
            ],
            [
             0.3333333333333333,
             "#9c179e"
            ],
            [
             0.4444444444444444,
             "#bd3786"
            ],
            [
             0.5555555555555556,
             "#d8576b"
            ],
            [
             0.6666666666666666,
             "#ed7953"
            ],
            [
             0.7777777777777778,
             "#fb9f3a"
            ],
            [
             0.8888888888888888,
             "#fdca26"
            ],
            [
             1,
             "#f0f921"
            ]
           ]
          },
          "colorway": [
           "#636efa",
           "#EF553B",
           "#00cc96",
           "#ab63fa",
           "#FFA15A",
           "#19d3f3",
           "#FF6692",
           "#B6E880",
           "#FF97FF",
           "#FECB52"
          ],
          "font": {
           "color": "#2a3f5f"
          },
          "geo": {
           "bgcolor": "white",
           "lakecolor": "white",
           "landcolor": "#E5ECF6",
           "showlakes": true,
           "showland": true,
           "subunitcolor": "white"
          },
          "hoverlabel": {
           "align": "left"
          },
          "hovermode": "closest",
          "mapbox": {
           "style": "light"
          },
          "paper_bgcolor": "white",
          "plot_bgcolor": "#E5ECF6",
          "polar": {
           "angularaxis": {
            "gridcolor": "white",
            "linecolor": "white",
            "ticks": ""
           },
           "bgcolor": "#E5ECF6",
           "radialaxis": {
            "gridcolor": "white",
            "linecolor": "white",
            "ticks": ""
           }
          },
          "scene": {
           "xaxis": {
            "backgroundcolor": "#E5ECF6",
            "gridcolor": "white",
            "gridwidth": 2,
            "linecolor": "white",
            "showbackground": true,
            "ticks": "",
            "zerolinecolor": "white"
           },
           "yaxis": {
            "backgroundcolor": "#E5ECF6",
            "gridcolor": "white",
            "gridwidth": 2,
            "linecolor": "white",
            "showbackground": true,
            "ticks": "",
            "zerolinecolor": "white"
           },
           "zaxis": {
            "backgroundcolor": "#E5ECF6",
            "gridcolor": "white",
            "gridwidth": 2,
            "linecolor": "white",
            "showbackground": true,
            "ticks": "",
            "zerolinecolor": "white"
           }
          },
          "shapedefaults": {
           "line": {
            "color": "#2a3f5f"
           }
          },
          "ternary": {
           "aaxis": {
            "gridcolor": "white",
            "linecolor": "white",
            "ticks": ""
           },
           "baxis": {
            "gridcolor": "white",
            "linecolor": "white",
            "ticks": ""
           },
           "bgcolor": "#E5ECF6",
           "caxis": {
            "gridcolor": "white",
            "linecolor": "white",
            "ticks": ""
           }
          },
          "title": {
           "x": 0.05
          },
          "xaxis": {
           "automargin": true,
           "gridcolor": "white",
           "linecolor": "white",
           "ticks": "",
           "title": {
            "standoff": 15
           },
           "zerolinecolor": "white",
           "zerolinewidth": 2
          },
          "yaxis": {
           "automargin": true,
           "gridcolor": "white",
           "linecolor": "white",
           "ticks": "",
           "title": {
            "standoff": 15
           },
           "zerolinecolor": "white",
           "zerolinewidth": 2
          }
         }
        }
       }
      },
      "text/html": [
       "<div>\n",
       "        \n",
       "        \n",
       "            <div id=\"5a901932-8f59-4619-a3ad-ac7f9098e1ec\" class=\"plotly-graph-div\" style=\"height:525px; width:100%;\"></div>\n",
       "            <script type=\"text/javascript\">\n",
       "                require([\"plotly\"], function(Plotly) {\n",
       "                    window.PLOTLYENV=window.PLOTLYENV || {};\n",
       "                    \n",
       "                if (document.getElementById(\"5a901932-8f59-4619-a3ad-ac7f9098e1ec\")) {\n",
       "                    Plotly.newPlot(\n",
       "                        '5a901932-8f59-4619-a3ad-ac7f9098e1ec',\n",
       "                        [{\"type\": \"scatter\", \"x\": [0.0, 4.365936911199242e-05, 0.0004802530456800014, 0.004846189636737108, 0.04850555583834648, 0.10000000149011612, 0.1622197926044464, 0.20000000298023224, 0.2722361087799072, 0.30000001192092896, 0.368898868560791, 0.4000000059604645, 0.4828532636165619, 0.5, 0.5802303552627563, 0.6000000238418579, 0.682306170463562, 0.699999988079071, 0.7721034288406372, 0.800000011920929, 0.8731672167778015, 0.8999999761581421, 0.9690493941307068, 1.0, 1.0634125471115112, 1.100000023841858, 1.1577885150909424, 1.2000000476837158, 1.2057690620422363, 1.263459324836731, 1.2999999523162842, 1.3609881401062012, 1.399999976158142, 1.4749435186386108, 1.5, 1.5743067264556885, 1.600000023841858, 1.6712055206298828, 1.7000000476837158, 1.7627882957458496, 1.7999999523162842, 1.8834178447723389, 1.899999976158142], \"y\": [3.15159273147583, 3.15159273147583, 3.1515915393829346, 3.15146541595459, 3.1388206481933594, 3.0969982147216797, 3.0271613597869873, 2.982844591140747, 2.8964686393737793, 2.86291241645813, 2.7702114582061768, 2.722658157348633, 2.5834178924560547, 2.5525755882263184, 2.4021005630493164, 2.363272190093994, 2.1858696937561035, 2.1437439918518066, 1.956321358680725, 1.875924825668335, 1.64214289188385, 1.5476248264312744, 1.2774428129196167, 1.141792893409729, 0.8304206132888794, 0.627700686454773, 0.2777804136276245, 0.016774119809269905, -0.01814735308289528, -0.35049721598625183, -0.5452988743782043, -0.8471872210502625, -1.0271873474121094, -1.3567837476730347, -1.4629014730453491, -1.7661110162734985, -1.8680721521377563, -2.138353109359741, -2.242879629135132, -2.4749481678009033, -2.6221659183502197, -2.965996026992798, -3.0336761474609375]}, {\"type\": \"scatter\", \"x\": [0.0, 4.365936911199242e-05, 0.0004802530456800014, 0.004846189636737108, 0.04850555583834648, 0.10000000149011612, 0.1622197926044464, 0.20000000298023224, 0.2722361087799072, 0.30000001192092896, 0.368898868560791, 0.4000000059604645, 0.4828532636165619, 0.5, 0.5802303552627563, 0.6000000238418579, 0.682306170463562, 0.699999988079071, 0.7721034288406372, 0.800000011920929, 0.8731672167778015, 0.8999999761581421, 0.9690493941307068, 1.0, 1.0634125471115112, 1.100000023841858, 1.1577885150909424, 1.2000000476837158, 1.2057690620422363, 1.263459324836731, 1.2999999523162842, 1.3609881401062012, 1.399999976158142, 1.4749435186386108, 1.5, 1.5743067264556885, 1.600000023841858, 1.6712055206298828, 1.7000000476837158, 1.7627882957458496, 1.7999999523162842, 1.8834178447723389, 1.899999976158142], \"y\": [-0.009999999776482582, -0.009999971836805344, -0.009996656328439713, -0.00965956225991249, 0.024164041504263878, 0.13591548800468445, 0.3222354054450989, 0.4401475489139557, 0.6686400175094604, 0.756710410118103, 0.9987730383872986, 1.1226667165756226, 1.483915090560913, 1.5635210275650024, 1.9465110301971436, 2.043297529220581, 2.4764180183410645, 2.576894521713257, 3.0068767070770264, 3.182337760925293, 3.662550449371338, 3.8469161987304688, 4.36433744430542, 4.624304294586182, 5.229118347167969, 5.629716396331787, 6.327814102172852, 6.84383487701416, 6.911938667297363, 7.541840076446533, 7.891561508178711, 8.397651672363281, 8.678070068359375, 9.185188293457031, 9.355263710021973, 9.885711669921875, 10.083060264587402, 10.636065483093262, 10.858247756958008, 11.37061882019043, 11.707085609436035, 12.505152702331543, 12.663228034973145]}, {\"type\": \"scatter\", \"x\": [0.0, 4.365936911199242e-05, 0.0004802530456800014, 0.004846189636737108, 0.04850555583834648, 0.10000000149011612, 0.1622197926044464, 0.20000000298023224, 0.2722361087799072, 0.30000001192092896, 0.368898868560791, 0.4000000059604645, 0.4828532636165619, 0.5, 0.5802303552627563, 0.6000000238418579, 0.682306170463562, 0.699999988079071, 0.7721034288406372, 0.800000011920929, 0.8731672167778015, 0.8999999761581421, 0.9690493941307068, 1.0, 1.0634125471115112, 1.100000023841858, 1.1577885150909424, 1.2000000476837158, 1.2057690620422363, 1.263459324836731, 1.2999999523162842, 1.3609881401062012, 1.399999976158142, 1.4749435186386108, 1.5, 1.5743067264556885, 1.600000023841858, 1.6712055206298828, 1.7000000476837158, 1.7627882957458496, 1.7999999523162842, 1.8834178447723389, 1.899999976158142], \"y\": [0.0, -0.0004730369837488979, -0.005203405860811472, -0.05250903218984604, -0.5276814103126526, -1.098789930343628, -1.151045322418213, -1.1965854167938232, -1.2023301124572754, -1.2159225940704346, -1.4730935096740723, -1.5842355489730835, -1.7781007289886475, -1.8194692134857178, -1.9433307647705078, -1.9856160879135132, -2.337445020675659, -2.425102949142456, -2.794914484024048, -2.972010612487793, -3.431220769882202, -3.614698648452759, -4.227548599243164, -4.543631553649902, -5.3025970458984375, -5.773547172546387, -6.227375507354736, -6.076249122619629, -6.029650688171387, -5.487632751464844, -5.184365749359131, -4.737143039703369, -4.492369651794434, -4.28223180770874, -4.186527252197266, -3.9869484901428223, -3.9555234909057617, -3.6659727096557617, -3.5987071990966797, -3.8350112438201904, -4.090541839599609, -4.1016435623168945, -4.058521270751953]}, {\"type\": \"scatter\", \"x\": [0.0, 4.365936911199242e-05, 0.0004802530456800014, 0.004846189636737108, 0.04850555583834648, 0.10000000149011612, 0.1622197926044464, 0.20000000298023224, 0.2722361087799072, 0.30000001192092896, 0.368898868560791, 0.4000000059604645, 0.4828532636165619, 0.5, 0.5802303552627563, 0.6000000238418579, 0.682306170463562, 0.699999988079071, 0.7721034288406372, 0.800000011920929, 0.8731672167778015, 0.8999999761581421, 0.9690493941307068, 1.0, 1.0634125471115112, 1.100000023841858, 1.1577885150909424, 1.2000000476837158, 1.2057690620422363, 1.263459324836731, 1.2999999523162842, 1.3609881401062012, 1.399999976158142, 1.4749435186386108, 1.5, 1.5743067264556885, 1.600000023841858, 1.6712055206298828, 1.7000000476837158, 1.7627882957458496, 1.7999999523162842, 1.8834178447723389, 1.899999976158142], \"y\": [0.0, 0.0012657202314585447, 0.013922919519245625, 0.14049924910068512, 1.4110580682754517, 2.9343440532684326, 3.066497325897217, 3.179304838180542, 3.1636242866516113, 3.1827635765075684, 3.8398513793945312, 4.125882625579834, 4.59420919418335, 4.691058158874512, 4.868635654449463, 4.9234747886657715, 5.603630065917969, 5.754073143005371, 6.190277576446533, 6.393166542053223, 6.771978378295898, 6.9767165184021, 8.081865310668945, 8.735735893249512, 10.412550926208496, 11.471868515014648, 12.412278175354004, 11.874887466430664, 11.733530044555664, 10.076011657714844, 9.087736129760742, 7.580536365509033, 6.818168640136719, 6.764876365661621, 6.816431522369385, 7.51910924911499, 7.851787567138672, 7.717041492462158, 7.72035551071167, 8.670083045959473, 9.438565254211426, 9.570540428161621, 9.4884672164917]}],\n",
       "                        {\"template\": {\"data\": {\"bar\": [{\"error_x\": {\"color\": \"#2a3f5f\"}, \"error_y\": {\"color\": \"#2a3f5f\"}, \"marker\": {\"line\": {\"color\": \"#E5ECF6\", \"width\": 0.5}}, \"type\": \"bar\"}], \"barpolar\": [{\"marker\": {\"line\": {\"color\": \"#E5ECF6\", \"width\": 0.5}}, \"type\": \"barpolar\"}], \"carpet\": [{\"aaxis\": {\"endlinecolor\": \"#2a3f5f\", \"gridcolor\": \"white\", \"linecolor\": \"white\", \"minorgridcolor\": \"white\", \"startlinecolor\": \"#2a3f5f\"}, \"baxis\": {\"endlinecolor\": \"#2a3f5f\", \"gridcolor\": \"white\", \"linecolor\": \"white\", \"minorgridcolor\": \"white\", \"startlinecolor\": \"#2a3f5f\"}, \"type\": \"carpet\"}], \"choropleth\": [{\"colorbar\": {\"outlinewidth\": 0, \"ticks\": \"\"}, \"type\": \"choropleth\"}], \"contour\": [{\"colorbar\": {\"outlinewidth\": 0, \"ticks\": \"\"}, \"colorscale\": [[0.0, \"#0d0887\"], [0.1111111111111111, \"#46039f\"], [0.2222222222222222, \"#7201a8\"], [0.3333333333333333, \"#9c179e\"], [0.4444444444444444, \"#bd3786\"], [0.5555555555555556, \"#d8576b\"], [0.6666666666666666, \"#ed7953\"], [0.7777777777777778, \"#fb9f3a\"], [0.8888888888888888, \"#fdca26\"], [1.0, \"#f0f921\"]], \"type\": \"contour\"}], \"contourcarpet\": [{\"colorbar\": {\"outlinewidth\": 0, \"ticks\": \"\"}, \"type\": \"contourcarpet\"}], \"heatmap\": [{\"colorbar\": {\"outlinewidth\": 0, \"ticks\": \"\"}, \"colorscale\": [[0.0, \"#0d0887\"], [0.1111111111111111, \"#46039f\"], [0.2222222222222222, \"#7201a8\"], [0.3333333333333333, \"#9c179e\"], [0.4444444444444444, \"#bd3786\"], [0.5555555555555556, \"#d8576b\"], [0.6666666666666666, \"#ed7953\"], [0.7777777777777778, \"#fb9f3a\"], [0.8888888888888888, \"#fdca26\"], [1.0, \"#f0f921\"]], \"type\": \"heatmap\"}], \"heatmapgl\": [{\"colorbar\": {\"outlinewidth\": 0, \"ticks\": \"\"}, \"colorscale\": [[0.0, \"#0d0887\"], [0.1111111111111111, \"#46039f\"], [0.2222222222222222, \"#7201a8\"], [0.3333333333333333, \"#9c179e\"], [0.4444444444444444, \"#bd3786\"], [0.5555555555555556, \"#d8576b\"], [0.6666666666666666, \"#ed7953\"], [0.7777777777777778, \"#fb9f3a\"], [0.8888888888888888, \"#fdca26\"], [1.0, \"#f0f921\"]], \"type\": \"heatmapgl\"}], \"histogram\": [{\"marker\": {\"colorbar\": {\"outlinewidth\": 0, \"ticks\": \"\"}}, \"type\": \"histogram\"}], \"histogram2d\": [{\"colorbar\": {\"outlinewidth\": 0, \"ticks\": \"\"}, \"colorscale\": [[0.0, \"#0d0887\"], [0.1111111111111111, \"#46039f\"], [0.2222222222222222, \"#7201a8\"], [0.3333333333333333, \"#9c179e\"], [0.4444444444444444, \"#bd3786\"], [0.5555555555555556, \"#d8576b\"], [0.6666666666666666, \"#ed7953\"], [0.7777777777777778, \"#fb9f3a\"], [0.8888888888888888, \"#fdca26\"], [1.0, \"#f0f921\"]], \"type\": \"histogram2d\"}], \"histogram2dcontour\": [{\"colorbar\": {\"outlinewidth\": 0, \"ticks\": \"\"}, \"colorscale\": [[0.0, \"#0d0887\"], [0.1111111111111111, \"#46039f\"], [0.2222222222222222, \"#7201a8\"], [0.3333333333333333, \"#9c179e\"], [0.4444444444444444, \"#bd3786\"], [0.5555555555555556, \"#d8576b\"], [0.6666666666666666, \"#ed7953\"], [0.7777777777777778, \"#fb9f3a\"], [0.8888888888888888, \"#fdca26\"], [1.0, \"#f0f921\"]], \"type\": \"histogram2dcontour\"}], \"mesh3d\": [{\"colorbar\": {\"outlinewidth\": 0, \"ticks\": \"\"}, \"type\": \"mesh3d\"}], \"parcoords\": [{\"line\": {\"colorbar\": {\"outlinewidth\": 0, \"ticks\": \"\"}}, \"type\": \"parcoords\"}], \"pie\": [{\"automargin\": true, \"type\": \"pie\"}], \"scatter\": [{\"marker\": {\"colorbar\": {\"outlinewidth\": 0, \"ticks\": \"\"}}, \"type\": \"scatter\"}], \"scatter3d\": [{\"line\": {\"colorbar\": {\"outlinewidth\": 0, \"ticks\": \"\"}}, \"marker\": {\"colorbar\": {\"outlinewidth\": 0, \"ticks\": \"\"}}, \"type\": \"scatter3d\"}], \"scattercarpet\": [{\"marker\": {\"colorbar\": {\"outlinewidth\": 0, \"ticks\": \"\"}}, \"type\": \"scattercarpet\"}], \"scattergeo\": [{\"marker\": {\"colorbar\": {\"outlinewidth\": 0, \"ticks\": \"\"}}, \"type\": \"scattergeo\"}], \"scattergl\": [{\"marker\": {\"colorbar\": {\"outlinewidth\": 0, \"ticks\": \"\"}}, \"type\": \"scattergl\"}], \"scattermapbox\": [{\"marker\": {\"colorbar\": {\"outlinewidth\": 0, \"ticks\": \"\"}}, \"type\": \"scattermapbox\"}], \"scatterpolar\": [{\"marker\": {\"colorbar\": {\"outlinewidth\": 0, \"ticks\": \"\"}}, \"type\": \"scatterpolar\"}], \"scatterpolargl\": [{\"marker\": {\"colorbar\": {\"outlinewidth\": 0, \"ticks\": \"\"}}, \"type\": \"scatterpolargl\"}], \"scatterternary\": [{\"marker\": {\"colorbar\": {\"outlinewidth\": 0, \"ticks\": \"\"}}, \"type\": \"scatterternary\"}], \"surface\": [{\"colorbar\": {\"outlinewidth\": 0, \"ticks\": \"\"}, \"colorscale\": [[0.0, \"#0d0887\"], [0.1111111111111111, \"#46039f\"], [0.2222222222222222, \"#7201a8\"], [0.3333333333333333, \"#9c179e\"], [0.4444444444444444, \"#bd3786\"], [0.5555555555555556, \"#d8576b\"], [0.6666666666666666, \"#ed7953\"], [0.7777777777777778, \"#fb9f3a\"], [0.8888888888888888, \"#fdca26\"], [1.0, \"#f0f921\"]], \"type\": \"surface\"}], \"table\": [{\"cells\": {\"fill\": {\"color\": \"#EBF0F8\"}, \"line\": {\"color\": \"white\"}}, \"header\": {\"fill\": {\"color\": \"#C8D4E3\"}, \"line\": {\"color\": \"white\"}}, \"type\": \"table\"}]}, \"layout\": {\"annotationdefaults\": {\"arrowcolor\": \"#2a3f5f\", \"arrowhead\": 0, \"arrowwidth\": 1}, \"coloraxis\": {\"colorbar\": {\"outlinewidth\": 0, \"ticks\": \"\"}}, \"colorscale\": {\"diverging\": [[0, \"#8e0152\"], [0.1, \"#c51b7d\"], [0.2, \"#de77ae\"], [0.3, \"#f1b6da\"], [0.4, \"#fde0ef\"], [0.5, \"#f7f7f7\"], [0.6, \"#e6f5d0\"], [0.7, \"#b8e186\"], [0.8, \"#7fbc41\"], [0.9, \"#4d9221\"], [1, \"#276419\"]], \"sequential\": [[0.0, \"#0d0887\"], [0.1111111111111111, \"#46039f\"], [0.2222222222222222, \"#7201a8\"], [0.3333333333333333, \"#9c179e\"], [0.4444444444444444, \"#bd3786\"], [0.5555555555555556, \"#d8576b\"], [0.6666666666666666, \"#ed7953\"], [0.7777777777777778, \"#fb9f3a\"], [0.8888888888888888, \"#fdca26\"], [1.0, \"#f0f921\"]], \"sequentialminus\": [[0.0, \"#0d0887\"], [0.1111111111111111, \"#46039f\"], [0.2222222222222222, \"#7201a8\"], [0.3333333333333333, \"#9c179e\"], [0.4444444444444444, \"#bd3786\"], [0.5555555555555556, \"#d8576b\"], [0.6666666666666666, \"#ed7953\"], [0.7777777777777778, \"#fb9f3a\"], [0.8888888888888888, \"#fdca26\"], [1.0, \"#f0f921\"]]}, \"colorway\": [\"#636efa\", \"#EF553B\", \"#00cc96\", \"#ab63fa\", \"#FFA15A\", \"#19d3f3\", \"#FF6692\", \"#B6E880\", \"#FF97FF\", \"#FECB52\"], \"font\": {\"color\": \"#2a3f5f\"}, \"geo\": {\"bgcolor\": \"white\", \"lakecolor\": \"white\", \"landcolor\": \"#E5ECF6\", \"showlakes\": true, \"showland\": true, \"subunitcolor\": \"white\"}, \"hoverlabel\": {\"align\": \"left\"}, \"hovermode\": \"closest\", \"mapbox\": {\"style\": \"light\"}, \"paper_bgcolor\": \"white\", \"plot_bgcolor\": \"#E5ECF6\", \"polar\": {\"angularaxis\": {\"gridcolor\": \"white\", \"linecolor\": \"white\", \"ticks\": \"\"}, \"bgcolor\": \"#E5ECF6\", \"radialaxis\": {\"gridcolor\": \"white\", \"linecolor\": \"white\", \"ticks\": \"\"}}, \"scene\": {\"xaxis\": {\"backgroundcolor\": \"#E5ECF6\", \"gridcolor\": \"white\", \"gridwidth\": 2, \"linecolor\": \"white\", \"showbackground\": true, \"ticks\": \"\", \"zerolinecolor\": \"white\"}, \"yaxis\": {\"backgroundcolor\": \"#E5ECF6\", \"gridcolor\": \"white\", \"gridwidth\": 2, \"linecolor\": \"white\", \"showbackground\": true, \"ticks\": \"\", \"zerolinecolor\": \"white\"}, \"zaxis\": {\"backgroundcolor\": \"#E5ECF6\", \"gridcolor\": \"white\", \"gridwidth\": 2, \"linecolor\": \"white\", \"showbackground\": true, \"ticks\": \"\", \"zerolinecolor\": \"white\"}}, \"shapedefaults\": {\"line\": {\"color\": \"#2a3f5f\"}}, \"ternary\": {\"aaxis\": {\"gridcolor\": \"white\", \"linecolor\": \"white\", \"ticks\": \"\"}, \"baxis\": {\"gridcolor\": \"white\", \"linecolor\": \"white\", \"ticks\": \"\"}, \"bgcolor\": \"#E5ECF6\", \"caxis\": {\"gridcolor\": \"white\", \"linecolor\": \"white\", \"ticks\": \"\"}}, \"title\": {\"x\": 0.05}, \"xaxis\": {\"automargin\": true, \"gridcolor\": \"white\", \"linecolor\": \"white\", \"ticks\": \"\", \"title\": {\"standoff\": 15}, \"zerolinecolor\": \"white\", \"zerolinewidth\": 2}, \"yaxis\": {\"automargin\": true, \"gridcolor\": \"white\", \"linecolor\": \"white\", \"ticks\": \"\", \"title\": {\"standoff\": 15}, \"zerolinecolor\": \"white\", \"zerolinewidth\": 2}}}},\n",
       "                        {\"responsive\": true}\n",
       "                    ).then(function(){\n",
       "                            \n",
       "var gd = document.getElementById('5a901932-8f59-4619-a3ad-ac7f9098e1ec');\n",
       "var x = new MutationObserver(function (mutations, observer) {{\n",
       "        var display = window.getComputedStyle(gd).display;\n",
       "        if (!display || display === 'none') {{\n",
       "            console.log([gd, 'removed!']);\n",
       "            Plotly.purge(gd);\n",
       "            observer.disconnect();\n",
       "        }}\n",
       "}});\n",
       "\n",
       "// Listen for the removal of the full notebook cells\n",
       "var notebookContainer = gd.closest('#notebook-container');\n",
       "if (notebookContainer) {{\n",
       "    x.observe(notebookContainer, {childList: true});\n",
       "}}\n",
       "\n",
       "// Listen for the clearing of the current output cell\n",
       "var outputEl = gd.closest('.output');\n",
       "if (outputEl) {{\n",
       "    x.observe(outputEl, {childList: true});\n",
       "}}\n",
       "\n",
       "                        })\n",
       "                };\n",
       "                });\n",
       "            </script>\n",
       "        </div>"
      ]
     },
     "metadata": {},
     "output_type": "display_data"
    }
   ],
   "source": [
    "dx = acrobot.dx\n",
    "step_cost = vf.step_cost\n",
    "u_min = torch.Tensor(vf.u_lo[0]).type(vf.dtype)\n",
    "u_max = torch.Tensor(vf.u_up[0]).type(vf.dtype)\n",
    "dt_ctrl = .1\n",
    "num_samples = 50\n",
    "\n",
    "ctrl = controllers.get_sampling_infinite_horizon_controller(dx, step_cost, vf_approx.model, u_min, u_max, dt_ctrl, num_samples)\n",
    "eps = 0.01\n",
    "x0 = torch.Tensor([np.pi+eps, -eps, 0., 0.]).double()\n",
    "x_traj_sim, t_traj_sim = controllers.sim_ctrl(x0, 1, acrobot.dx, ctrl, .1, 20)\n",
    "\n",
    "fig = go.Figure()\n",
    "for i in range(4):\n",
    "    fig.add_trace(go.Scatter(\n",
    "        x=t_traj_sim,\n",
    "        y=x_traj_sim[i,:]\n",
    "    ))\n",
    "fig.show()"
   ]
  },
  {
   "cell_type": "code",
   "execution_count": 48,
   "metadata": {},
   "outputs": [],
   "source": [
    "# controller params\n",
    "dx = acrobot.dx\n",
    "step_cost = vf.step_cost\n",
    "u_min = torch.Tensor(vf.u_lo[0]).type(vf.dtype)\n",
    "u_max = torch.Tensor(vf.u_up[0]).type(vf.dtype)\n",
    "dt_ctrl = .1\n",
    "num_samples = 10\n",
    "\n",
    "# benchmark params\n",
    "x0 = torch.Tensor([np.pi, 0., 0., 0.]).type(vf.dtype)\n",
    "x0_eps = torch.Tensor([.1, .1, 0., 0.]).type(vf.dtype)\n",
    "x_goal = torch.Tensor([np.pi, 0., 0., 0.]).type(vf.dtype)\n",
    "num_breaks = [5, 5]\n",
    "dt_sim = .1\n",
    "N = 20"
   ]
  },
  {
   "cell_type": "code",
   "execution_count": null,
   "metadata": {},
   "outputs": [],
   "source": [
    "ctrl_adv = controllers.get_sampling_infinite_horizon_controller(dx, step_cost, vf_approx_adv.model, u_min, u_max, dt_ctrl, num_samples)\n",
    "bench_adv = controllers.benchmark_controller(u_min.shape[0], dx, ctrl_adv, x0, x0_eps, num_breaks, x_goal, dt_sim, N)"
   ]
  },
  {
   "cell_type": "code",
   "execution_count": null,
   "metadata": {},
   "outputs": [],
   "source": [
    "ctrl_baseline = controllers.get_sampling_infinite_horizon_controller(dx, step_cost, vf_approx.model, u_min, u_max, dt_ctrl, num_samples)\n",
    "bench_baseline = controllers.benchmark_controller(u_min.shape[0], dx, ctrl_baseline, x0, x0_eps, num_breaks, x_goal, dt_sim, N)"
   ]
  },
  {
   "cell_type": "code",
   "execution_count": null,
   "metadata": {},
   "outputs": [],
   "source": [
    "ctrl_lqr = controllers.get_lqr_controller(pendulum.dx, x0, torch.zeros(u_min.shape[0]).type(vf.dtype), vf.Q[0], vf.R[0], u_min, u_max)\n",
    "bench_lqr = controllers.benchmark_controller(u_min.shape[0], dx, ctrl_lqr, x0, x0_eps, num_breaks, x_goal, dt_sim, N)"
   ]
  },
  {
   "cell_type": "code",
   "execution_count": null,
   "metadata": {
    "scrolled": false
   },
   "outputs": [],
   "source": [
    "conv_thresh = 1.\n",
    "zmin = 0.\n",
    "zmax = 5.\n",
    "\n",
    "print(\"Baseline\")\n",
    "fig = go.Figure()\n",
    "fig.add_trace(go.Heatmap(\n",
    "    z = bench_baseline.detach().numpy(),\n",
    "    zmin = zmin,\n",
    "    zmax = zmax,\n",
    "    ))\n",
    "fig.show()\n",
    "\n",
    "print(\"Adversarial\")\n",
    "fig = go.Figure()\n",
    "fig.add_trace(go.Heatmap(\n",
    "    z = bench_adv.detach().numpy(),\n",
    "    zmin = zmin,\n",
    "    zmax = zmax,\n",
    "    ))\n",
    "fig.show()\n",
    "\n",
    "print(\"LQR\")\n",
    "fig = go.Figure()\n",
    "fig.add_trace(go.Heatmap(\n",
    "    z = bench_lqr.detach().numpy(),\n",
    "    zmin = zmin,\n",
    "    zmax = zmax,\n",
    "    ))\n",
    "fig.show()\n",
    "\n",
    "print(\"Baseline\")\n",
    "fig = go.Figure()\n",
    "fig.add_trace(go.Heatmap(\n",
    "    z = torch.Tensor(bench_baseline.detach().numpy() > conv_thresh).type(vf.dtype),\n",
    "    ))\n",
    "fig.show()\n",
    "\n",
    "print(\"Adversarial\")\n",
    "fig = go.Figure()\n",
    "fig.add_trace(go.Heatmap(\n",
    "    z = torch.Tensor(bench_adv.detach().numpy() > conv_thresh).type(vf.dtype),\n",
    "    ))\n",
    "fig.show()\n",
    "\n",
    "print(\"LQR\")\n",
    "fig = go.Figure()\n",
    "fig.add_trace(go.Heatmap(\n",
    "    z = torch.Tensor(bench_lqr.detach().numpy() > conv_thresh).type(vf.dtype),\n",
    "    ))\n",
    "fig.show()"
   ]
  }
 ],
 "metadata": {
  "kernelspec": {
   "display_name": "Python 3",
   "language": "python",
   "name": "python3"
  },
  "language_info": {
   "codemirror_mode": {
    "name": "ipython",
    "version": 3
   },
   "file_extension": ".py",
   "mimetype": "text/x-python",
   "name": "python",
   "nbconvert_exporter": "python",
   "pygments_lexer": "ipython3",
   "version": "3.7.5"
  }
 },
 "nbformat": 4,
 "nbformat_minor": 2
}
