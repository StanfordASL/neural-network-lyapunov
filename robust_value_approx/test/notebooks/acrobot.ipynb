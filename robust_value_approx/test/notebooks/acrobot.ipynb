{
 "cells": [
  {
   "cell_type": "code",
   "execution_count": 1,
   "metadata": {},
   "outputs": [],
   "source": [
    "%load_ext autoreload\n",
    "%autoreload 2"
   ]
  },
  {
   "cell_type": "code",
   "execution_count": 3,
   "metadata": {},
   "outputs": [
    {
     "data": {
      "text/html": [
       "        <script type=\"text/javascript\">\n",
       "        window.PlotlyConfig = {MathJaxConfig: 'local'};\n",
       "        if (window.MathJax) {MathJax.Hub.Config({SVG: {font: \"STIX-Web\"}});}\n",
       "        if (typeof require !== 'undefined') {\n",
       "        require.undef(\"plotly\");\n",
       "        requirejs.config({\n",
       "            paths: {\n",
       "                'plotly': ['https://cdn.plot.ly/plotly-latest.min']\n",
       "            }\n",
       "        });\n",
       "        require(['plotly'], function(Plotly) {\n",
       "            window._Plotly = Plotly;\n",
       "        });\n",
       "        }\n",
       "        </script>\n",
       "        "
      ]
     },
     "metadata": {},
     "output_type": "display_data"
    }
   ],
   "source": [
    "import sys\n",
    "sys.path.append(\"..\")\n",
    "sys.path.append(\".\")\n",
    "import torch\n",
    "import numpy as np\n",
    "import copy\n",
    "import plotly\n",
    "import plotly.graph_objs as go\n",
    "import pickle\n",
    "from datetime import datetime\n",
    "plotly.offline.init_notebook_mode(connected=True)\n",
    "\n",
    "import robust_value_approx.samples_generator as samples_generator\n",
    "import robust_value_approx.samples_buffer as samples_buffer\n",
    "import robust_value_approx.value_approximation as value_approximation\n",
    "import robust_value_approx.training_log as training_log\n",
    "import robust_value_approx.controllers as controllers\n",
    "\n",
    "import pendulum_utils\n",
    "import acrobot_utils"
   ]
  },
  {
   "cell_type": "markdown",
   "metadata": {},
   "source": [
    "# Acrobot"
   ]
  },
  {
   "cell_type": "code",
   "execution_count": 4,
   "metadata": {},
   "outputs": [],
   "source": [
    "vf, sys = acrobot_utils.get_value_function(25)\n",
    "V = vf.get_value_function()"
   ]
  },
  {
   "cell_type": "code",
   "execution_count": 15,
   "metadata": {},
   "outputs": [
    {
     "data": {
      "application/vnd.plotly.v1+json": {
       "config": {
        "plotlyServerURL": "https://plot.ly"
       },
       "data": [
        {
         "name": "theta1",
         "type": "scatter",
         "x": [
          0,
          0.20000000298023224,
          0.4000000059604645,
          0.6000000089406967,
          0.800000011920929,
          1.0000000149011612,
          1.2000000178813934,
          1.4000000208616257,
          1.600000023841858,
          1.8000000268220901,
          2.0000000298023224,
          2.2000000327825546,
          2.400000035762787,
          2.600000038743019,
          2.8000000417232513,
          3.0000000447034836,
          3.200000047683716,
          3.400000050663948,
          3.6000000536441803,
          3.8000000566244125,
          4.000000059604645,
          4.200000062584877,
          4.400000065565109,
          4.6000000685453415,
          4.800000071525574
         ],
         "y": [
          3.34159255027771,
          3.1845319271087646,
          2.9917759895324707,
          2.9465837478637695,
          2.8528246879577637,
          2.885587692260742,
          3.0300943851470947,
          3.1624040603637695,
          3.232468366622925,
          3.2132415771484375,
          3.118046522140503,
          3.015010118484497,
          2.9607489109039307,
          2.9545748233795166,
          2.972646474838257,
          2.998386859893799,
          3.0243442058563232,
          3.0476956367492676,
          3.0676519870758057,
          3.084386110305786,
          3.0985653400421143,
          3.1111466884613037,
          3.1233127117156982,
          3.1364591121673584,
          3.1506972312927246
         ]
        },
        {
         "name": "theta2",
         "type": "scatter",
         "x": [
          0,
          0.20000000298023224,
          0.4000000059604645,
          0.6000000089406967,
          0.800000011920929,
          1.0000000149011612,
          1.2000000178813934,
          1.4000000208616257,
          1.600000023841858,
          1.8000000268220901,
          2.0000000298023224,
          2.2000000327825546,
          2.400000035762787,
          2.600000038743019,
          2.8000000417232513,
          3.0000000447034836,
          3.200000047683716,
          3.400000050663948,
          3.6000000536441803,
          3.8000000566244125,
          4.000000059604645,
          4.200000062584877,
          4.400000065565109,
          4.6000000685453415,
          4.800000071525574
         ],
         "y": [
          -0.10000000149011612,
          0.9339245557785034,
          2.8116507530212402,
          4.476337432861328,
          5.500121116638184,
          5.705283164978027,
          5.382891654968262,
          4.889284133911133,
          4.324668884277344,
          3.7188212871551514,
          3.1024794578552246,
          2.5156397819519043,
          1.995405673980713,
          1.562328815460205,
          1.216893196105957,
          0.9468646049499512,
          0.7372819185256958,
          0.5754722356796265,
          0.45162343978881836,
          0.3581446707248688,
          0.2891708016395569,
          0.24030530452728271,
          0.20854808390140533,
          0.19249272346496582,
          0.1967993527650833
         ]
        },
        {
         "name": "theta1_dot",
         "type": "scatter",
         "x": [
          0,
          0.20000000298023224,
          0.4000000059604645,
          0.6000000089406967,
          0.800000011920929,
          1.0000000149011612,
          1.2000000178813934,
          1.4000000208616257,
          1.600000023841858,
          1.8000000268220901,
          2.0000000298023224,
          2.2000000327825546,
          2.400000035762787,
          2.600000038743019,
          2.8000000417232513,
          3.0000000447034836,
          3.200000047683716,
          3.400000050663948,
          3.6000000536441803,
          3.8000000566244125,
          4.000000059604645,
          4.200000062584877,
          4.400000065565109,
          4.6000000685453415,
          4.800000071525574
         ],
         "y": [
          0.5,
          -2.070607900619507,
          0.14304812252521515,
          -0.5949701070785522,
          -0.3426207900047302,
          0.6702515482902527,
          0.7748156785964966,
          0.5482799410820007,
          0.15236513316631317,
          -0.3446342945098877,
          -0.6073152422904968,
          -0.4230492115020752,
          -0.11956239491701126,
          0.0578213594853878,
          0.12289392203092575,
          0.13451090455055237,
          0.12506262958049774,
          0.10845087468624115,
          0.09111174941062927,
          0.07623085379600525,
          0.06556161493062973,
          0.06025071442127228,
          0.06141042336821556,
          0.07005254924297333,
          0.07232969999313354
         ]
        },
        {
         "name": "theta2_dot",
         "type": "scatter",
         "x": [
          0,
          0.20000000298023224,
          0.4000000059604645,
          0.6000000089406967,
          0.800000011920929,
          1.0000000149011612,
          1.2000000178813934,
          1.4000000208616257,
          1.600000023841858,
          1.8000000268220901,
          2.0000000298023224,
          2.2000000327825546,
          2.400000035762787,
          2.600000038743019,
          2.8000000417232513,
          3.0000000447034836,
          3.200000047683716,
          3.400000050663948,
          3.6000000536441803,
          3.8000000566244125,
          4.000000059604645,
          4.200000062584877,
          4.400000065565109,
          4.6000000685453415,
          4.800000071525574
         ],
         "y": [
          1,
          9.339245796203613,
          9.438015937805176,
          7.208850383758545,
          3.0289883613586426,
          -0.9773675203323364,
          -2.246546745300293,
          -2.6895315647125244,
          -2.956620216369629,
          -3.1018567085266113,
          -3.061560869216919,
          -2.8068368434906006,
          -2.395503520965576,
          -1.9352644681930542,
          -1.5190925598144531,
          -1.1811925172805786,
          -0.914634644985199,
          -0.7034619450569153,
          -0.5350258946418762,
          -0.3997619152069092,
          -0.2899767756462097,
          -0.19867821037769318,
          -0.11889390647411346,
          -0.04165973141789436,
          0.08472593873739243
         ]
        }
       ],
       "layout": {
        "template": {
         "data": {
          "bar": [
           {
            "error_x": {
             "color": "#2a3f5f"
            },
            "error_y": {
             "color": "#2a3f5f"
            },
            "marker": {
             "line": {
              "color": "#E5ECF6",
              "width": 0.5
             }
            },
            "type": "bar"
           }
          ],
          "barpolar": [
           {
            "marker": {
             "line": {
              "color": "#E5ECF6",
              "width": 0.5
             }
            },
            "type": "barpolar"
           }
          ],
          "carpet": [
           {
            "aaxis": {
             "endlinecolor": "#2a3f5f",
             "gridcolor": "white",
             "linecolor": "white",
             "minorgridcolor": "white",
             "startlinecolor": "#2a3f5f"
            },
            "baxis": {
             "endlinecolor": "#2a3f5f",
             "gridcolor": "white",
             "linecolor": "white",
             "minorgridcolor": "white",
             "startlinecolor": "#2a3f5f"
            },
            "type": "carpet"
           }
          ],
          "choropleth": [
           {
            "colorbar": {
             "outlinewidth": 0,
             "ticks": ""
            },
            "type": "choropleth"
           }
          ],
          "contour": [
           {
            "colorbar": {
             "outlinewidth": 0,
             "ticks": ""
            },
            "colorscale": [
             [
              0,
              "#0d0887"
             ],
             [
              0.1111111111111111,
              "#46039f"
             ],
             [
              0.2222222222222222,
              "#7201a8"
             ],
             [
              0.3333333333333333,
              "#9c179e"
             ],
             [
              0.4444444444444444,
              "#bd3786"
             ],
             [
              0.5555555555555556,
              "#d8576b"
             ],
             [
              0.6666666666666666,
              "#ed7953"
             ],
             [
              0.7777777777777778,
              "#fb9f3a"
             ],
             [
              0.8888888888888888,
              "#fdca26"
             ],
             [
              1,
              "#f0f921"
             ]
            ],
            "type": "contour"
           }
          ],
          "contourcarpet": [
           {
            "colorbar": {
             "outlinewidth": 0,
             "ticks": ""
            },
            "type": "contourcarpet"
           }
          ],
          "heatmap": [
           {
            "colorbar": {
             "outlinewidth": 0,
             "ticks": ""
            },
            "colorscale": [
             [
              0,
              "#0d0887"
             ],
             [
              0.1111111111111111,
              "#46039f"
             ],
             [
              0.2222222222222222,
              "#7201a8"
             ],
             [
              0.3333333333333333,
              "#9c179e"
             ],
             [
              0.4444444444444444,
              "#bd3786"
             ],
             [
              0.5555555555555556,
              "#d8576b"
             ],
             [
              0.6666666666666666,
              "#ed7953"
             ],
             [
              0.7777777777777778,
              "#fb9f3a"
             ],
             [
              0.8888888888888888,
              "#fdca26"
             ],
             [
              1,
              "#f0f921"
             ]
            ],
            "type": "heatmap"
           }
          ],
          "heatmapgl": [
           {
            "colorbar": {
             "outlinewidth": 0,
             "ticks": ""
            },
            "colorscale": [
             [
              0,
              "#0d0887"
             ],
             [
              0.1111111111111111,
              "#46039f"
             ],
             [
              0.2222222222222222,
              "#7201a8"
             ],
             [
              0.3333333333333333,
              "#9c179e"
             ],
             [
              0.4444444444444444,
              "#bd3786"
             ],
             [
              0.5555555555555556,
              "#d8576b"
             ],
             [
              0.6666666666666666,
              "#ed7953"
             ],
             [
              0.7777777777777778,
              "#fb9f3a"
             ],
             [
              0.8888888888888888,
              "#fdca26"
             ],
             [
              1,
              "#f0f921"
             ]
            ],
            "type": "heatmapgl"
           }
          ],
          "histogram": [
           {
            "marker": {
             "colorbar": {
              "outlinewidth": 0,
              "ticks": ""
             }
            },
            "type": "histogram"
           }
          ],
          "histogram2d": [
           {
            "colorbar": {
             "outlinewidth": 0,
             "ticks": ""
            },
            "colorscale": [
             [
              0,
              "#0d0887"
             ],
             [
              0.1111111111111111,
              "#46039f"
             ],
             [
              0.2222222222222222,
              "#7201a8"
             ],
             [
              0.3333333333333333,
              "#9c179e"
             ],
             [
              0.4444444444444444,
              "#bd3786"
             ],
             [
              0.5555555555555556,
              "#d8576b"
             ],
             [
              0.6666666666666666,
              "#ed7953"
             ],
             [
              0.7777777777777778,
              "#fb9f3a"
             ],
             [
              0.8888888888888888,
              "#fdca26"
             ],
             [
              1,
              "#f0f921"
             ]
            ],
            "type": "histogram2d"
           }
          ],
          "histogram2dcontour": [
           {
            "colorbar": {
             "outlinewidth": 0,
             "ticks": ""
            },
            "colorscale": [
             [
              0,
              "#0d0887"
             ],
             [
              0.1111111111111111,
              "#46039f"
             ],
             [
              0.2222222222222222,
              "#7201a8"
             ],
             [
              0.3333333333333333,
              "#9c179e"
             ],
             [
              0.4444444444444444,
              "#bd3786"
             ],
             [
              0.5555555555555556,
              "#d8576b"
             ],
             [
              0.6666666666666666,
              "#ed7953"
             ],
             [
              0.7777777777777778,
              "#fb9f3a"
             ],
             [
              0.8888888888888888,
              "#fdca26"
             ],
             [
              1,
              "#f0f921"
             ]
            ],
            "type": "histogram2dcontour"
           }
          ],
          "mesh3d": [
           {
            "colorbar": {
             "outlinewidth": 0,
             "ticks": ""
            },
            "type": "mesh3d"
           }
          ],
          "parcoords": [
           {
            "line": {
             "colorbar": {
              "outlinewidth": 0,
              "ticks": ""
             }
            },
            "type": "parcoords"
           }
          ],
          "pie": [
           {
            "automargin": true,
            "type": "pie"
           }
          ],
          "scatter": [
           {
            "marker": {
             "colorbar": {
              "outlinewidth": 0,
              "ticks": ""
             }
            },
            "type": "scatter"
           }
          ],
          "scatter3d": [
           {
            "line": {
             "colorbar": {
              "outlinewidth": 0,
              "ticks": ""
             }
            },
            "marker": {
             "colorbar": {
              "outlinewidth": 0,
              "ticks": ""
             }
            },
            "type": "scatter3d"
           }
          ],
          "scattercarpet": [
           {
            "marker": {
             "colorbar": {
              "outlinewidth": 0,
              "ticks": ""
             }
            },
            "type": "scattercarpet"
           }
          ],
          "scattergeo": [
           {
            "marker": {
             "colorbar": {
              "outlinewidth": 0,
              "ticks": ""
             }
            },
            "type": "scattergeo"
           }
          ],
          "scattergl": [
           {
            "marker": {
             "colorbar": {
              "outlinewidth": 0,
              "ticks": ""
             }
            },
            "type": "scattergl"
           }
          ],
          "scattermapbox": [
           {
            "marker": {
             "colorbar": {
              "outlinewidth": 0,
              "ticks": ""
             }
            },
            "type": "scattermapbox"
           }
          ],
          "scatterpolar": [
           {
            "marker": {
             "colorbar": {
              "outlinewidth": 0,
              "ticks": ""
             }
            },
            "type": "scatterpolar"
           }
          ],
          "scatterpolargl": [
           {
            "marker": {
             "colorbar": {
              "outlinewidth": 0,
              "ticks": ""
             }
            },
            "type": "scatterpolargl"
           }
          ],
          "scatterternary": [
           {
            "marker": {
             "colorbar": {
              "outlinewidth": 0,
              "ticks": ""
             }
            },
            "type": "scatterternary"
           }
          ],
          "surface": [
           {
            "colorbar": {
             "outlinewidth": 0,
             "ticks": ""
            },
            "colorscale": [
             [
              0,
              "#0d0887"
             ],
             [
              0.1111111111111111,
              "#46039f"
             ],
             [
              0.2222222222222222,
              "#7201a8"
             ],
             [
              0.3333333333333333,
              "#9c179e"
             ],
             [
              0.4444444444444444,
              "#bd3786"
             ],
             [
              0.5555555555555556,
              "#d8576b"
             ],
             [
              0.6666666666666666,
              "#ed7953"
             ],
             [
              0.7777777777777778,
              "#fb9f3a"
             ],
             [
              0.8888888888888888,
              "#fdca26"
             ],
             [
              1,
              "#f0f921"
             ]
            ],
            "type": "surface"
           }
          ],
          "table": [
           {
            "cells": {
             "fill": {
              "color": "#EBF0F8"
             },
             "line": {
              "color": "white"
             }
            },
            "header": {
             "fill": {
              "color": "#C8D4E3"
             },
             "line": {
              "color": "white"
             }
            },
            "type": "table"
           }
          ]
         },
         "layout": {
          "annotationdefaults": {
           "arrowcolor": "#2a3f5f",
           "arrowhead": 0,
           "arrowwidth": 1
          },
          "coloraxis": {
           "colorbar": {
            "outlinewidth": 0,
            "ticks": ""
           }
          },
          "colorscale": {
           "diverging": [
            [
             0,
             "#8e0152"
            ],
            [
             0.1,
             "#c51b7d"
            ],
            [
             0.2,
             "#de77ae"
            ],
            [
             0.3,
             "#f1b6da"
            ],
            [
             0.4,
             "#fde0ef"
            ],
            [
             0.5,
             "#f7f7f7"
            ],
            [
             0.6,
             "#e6f5d0"
            ],
            [
             0.7,
             "#b8e186"
            ],
            [
             0.8,
             "#7fbc41"
            ],
            [
             0.9,
             "#4d9221"
            ],
            [
             1,
             "#276419"
            ]
           ],
           "sequential": [
            [
             0,
             "#0d0887"
            ],
            [
             0.1111111111111111,
             "#46039f"
            ],
            [
             0.2222222222222222,
             "#7201a8"
            ],
            [
             0.3333333333333333,
             "#9c179e"
            ],
            [
             0.4444444444444444,
             "#bd3786"
            ],
            [
             0.5555555555555556,
             "#d8576b"
            ],
            [
             0.6666666666666666,
             "#ed7953"
            ],
            [
             0.7777777777777778,
             "#fb9f3a"
            ],
            [
             0.8888888888888888,
             "#fdca26"
            ],
            [
             1,
             "#f0f921"
            ]
           ],
           "sequentialminus": [
            [
             0,
             "#0d0887"
            ],
            [
             0.1111111111111111,
             "#46039f"
            ],
            [
             0.2222222222222222,
             "#7201a8"
            ],
            [
             0.3333333333333333,
             "#9c179e"
            ],
            [
             0.4444444444444444,
             "#bd3786"
            ],
            [
             0.5555555555555556,
             "#d8576b"
            ],
            [
             0.6666666666666666,
             "#ed7953"
            ],
            [
             0.7777777777777778,
             "#fb9f3a"
            ],
            [
             0.8888888888888888,
             "#fdca26"
            ],
            [
             1,
             "#f0f921"
            ]
           ]
          },
          "colorway": [
           "#636efa",
           "#EF553B",
           "#00cc96",
           "#ab63fa",
           "#FFA15A",
           "#19d3f3",
           "#FF6692",
           "#B6E880",
           "#FF97FF",
           "#FECB52"
          ],
          "font": {
           "color": "#2a3f5f"
          },
          "geo": {
           "bgcolor": "white",
           "lakecolor": "white",
           "landcolor": "#E5ECF6",
           "showlakes": true,
           "showland": true,
           "subunitcolor": "white"
          },
          "hoverlabel": {
           "align": "left"
          },
          "hovermode": "closest",
          "mapbox": {
           "style": "light"
          },
          "paper_bgcolor": "white",
          "plot_bgcolor": "#E5ECF6",
          "polar": {
           "angularaxis": {
            "gridcolor": "white",
            "linecolor": "white",
            "ticks": ""
           },
           "bgcolor": "#E5ECF6",
           "radialaxis": {
            "gridcolor": "white",
            "linecolor": "white",
            "ticks": ""
           }
          },
          "scene": {
           "xaxis": {
            "backgroundcolor": "#E5ECF6",
            "gridcolor": "white",
            "gridwidth": 2,
            "linecolor": "white",
            "showbackground": true,
            "ticks": "",
            "zerolinecolor": "white"
           },
           "yaxis": {
            "backgroundcolor": "#E5ECF6",
            "gridcolor": "white",
            "gridwidth": 2,
            "linecolor": "white",
            "showbackground": true,
            "ticks": "",
            "zerolinecolor": "white"
           },
           "zaxis": {
            "backgroundcolor": "#E5ECF6",
            "gridcolor": "white",
            "gridwidth": 2,
            "linecolor": "white",
            "showbackground": true,
            "ticks": "",
            "zerolinecolor": "white"
           }
          },
          "shapedefaults": {
           "line": {
            "color": "#2a3f5f"
           }
          },
          "ternary": {
           "aaxis": {
            "gridcolor": "white",
            "linecolor": "white",
            "ticks": ""
           },
           "baxis": {
            "gridcolor": "white",
            "linecolor": "white",
            "ticks": ""
           },
           "bgcolor": "#E5ECF6",
           "caxis": {
            "gridcolor": "white",
            "linecolor": "white",
            "ticks": ""
           }
          },
          "title": {
           "x": 0.05
          },
          "xaxis": {
           "automargin": true,
           "gridcolor": "white",
           "linecolor": "white",
           "ticks": "",
           "title": {
            "standoff": 15
           },
           "zerolinecolor": "white",
           "zerolinewidth": 2
          },
          "yaxis": {
           "automargin": true,
           "gridcolor": "white",
           "linecolor": "white",
           "ticks": "",
           "title": {
            "standoff": 15
           },
           "zerolinecolor": "white",
           "zerolinewidth": 2
          }
         }
        }
       }
      },
      "text/html": [
       "<div>\n",
       "        \n",
       "        \n",
       "            <div id=\"b0bbfa3f-de31-4e64-a166-eefab6bccf21\" class=\"plotly-graph-div\" style=\"height:525px; width:100%;\"></div>\n",
       "            <script type=\"text/javascript\">\n",
       "                require([\"plotly\"], function(Plotly) {\n",
       "                    window.PLOTLYENV=window.PLOTLYENV || {};\n",
       "                    \n",
       "                if (document.getElementById(\"b0bbfa3f-de31-4e64-a166-eefab6bccf21\")) {\n",
       "                    Plotly.newPlot(\n",
       "                        'b0bbfa3f-de31-4e64-a166-eefab6bccf21',\n",
       "                        [{\"name\": \"theta1\", \"type\": \"scatter\", \"x\": [0.0, 0.20000000298023224, 0.4000000059604645, 0.6000000089406967, 0.800000011920929, 1.0000000149011612, 1.2000000178813934, 1.4000000208616257, 1.600000023841858, 1.8000000268220901, 2.0000000298023224, 2.2000000327825546, 2.400000035762787, 2.600000038743019, 2.8000000417232513, 3.0000000447034836, 3.200000047683716, 3.400000050663948, 3.6000000536441803, 3.8000000566244125, 4.000000059604645, 4.200000062584877, 4.400000065565109, 4.6000000685453415, 4.800000071525574], \"y\": [3.34159255027771, 3.1845319271087646, 2.9917759895324707, 2.9465837478637695, 2.8528246879577637, 2.885587692260742, 3.0300943851470947, 3.1624040603637695, 3.232468366622925, 3.2132415771484375, 3.118046522140503, 3.015010118484497, 2.9607489109039307, 2.9545748233795166, 2.972646474838257, 2.998386859893799, 3.0243442058563232, 3.0476956367492676, 3.0676519870758057, 3.084386110305786, 3.0985653400421143, 3.1111466884613037, 3.1233127117156982, 3.1364591121673584, 3.1506972312927246]}, {\"name\": \"theta2\", \"type\": \"scatter\", \"x\": [0.0, 0.20000000298023224, 0.4000000059604645, 0.6000000089406967, 0.800000011920929, 1.0000000149011612, 1.2000000178813934, 1.4000000208616257, 1.600000023841858, 1.8000000268220901, 2.0000000298023224, 2.2000000327825546, 2.400000035762787, 2.600000038743019, 2.8000000417232513, 3.0000000447034836, 3.200000047683716, 3.400000050663948, 3.6000000536441803, 3.8000000566244125, 4.000000059604645, 4.200000062584877, 4.400000065565109, 4.6000000685453415, 4.800000071525574], \"y\": [-0.10000000149011612, 0.9339245557785034, 2.8116507530212402, 4.476337432861328, 5.500121116638184, 5.705283164978027, 5.382891654968262, 4.889284133911133, 4.324668884277344, 3.7188212871551514, 3.1024794578552246, 2.5156397819519043, 1.995405673980713, 1.562328815460205, 1.216893196105957, 0.9468646049499512, 0.7372819185256958, 0.5754722356796265, 0.45162343978881836, 0.3581446707248688, 0.2891708016395569, 0.24030530452728271, 0.20854808390140533, 0.19249272346496582, 0.1967993527650833]}, {\"name\": \"theta1_dot\", \"type\": \"scatter\", \"x\": [0.0, 0.20000000298023224, 0.4000000059604645, 0.6000000089406967, 0.800000011920929, 1.0000000149011612, 1.2000000178813934, 1.4000000208616257, 1.600000023841858, 1.8000000268220901, 2.0000000298023224, 2.2000000327825546, 2.400000035762787, 2.600000038743019, 2.8000000417232513, 3.0000000447034836, 3.200000047683716, 3.400000050663948, 3.6000000536441803, 3.8000000566244125, 4.000000059604645, 4.200000062584877, 4.400000065565109, 4.6000000685453415, 4.800000071525574], \"y\": [0.5, -2.070607900619507, 0.14304812252521515, -0.5949701070785522, -0.3426207900047302, 0.6702515482902527, 0.7748156785964966, 0.5482799410820007, 0.15236513316631317, -0.3446342945098877, -0.6073152422904968, -0.4230492115020752, -0.11956239491701126, 0.0578213594853878, 0.12289392203092575, 0.13451090455055237, 0.12506262958049774, 0.10845087468624115, 0.09111174941062927, 0.07623085379600525, 0.06556161493062973, 0.06025071442127228, 0.06141042336821556, 0.07005254924297333, 0.07232969999313354]}, {\"name\": \"theta2_dot\", \"type\": \"scatter\", \"x\": [0.0, 0.20000000298023224, 0.4000000059604645, 0.6000000089406967, 0.800000011920929, 1.0000000149011612, 1.2000000178813934, 1.4000000208616257, 1.600000023841858, 1.8000000268220901, 2.0000000298023224, 2.2000000327825546, 2.400000035762787, 2.600000038743019, 2.8000000417232513, 3.0000000447034836, 3.200000047683716, 3.400000050663948, 3.6000000536441803, 3.8000000566244125, 4.000000059604645, 4.200000062584877, 4.400000065565109, 4.6000000685453415, 4.800000071525574], \"y\": [1.0, 9.339245796203613, 9.438015937805176, 7.208850383758545, 3.0289883613586426, -0.9773675203323364, -2.246546745300293, -2.6895315647125244, -2.956620216369629, -3.1018567085266113, -3.061560869216919, -2.8068368434906006, -2.395503520965576, -1.9352644681930542, -1.5190925598144531, -1.1811925172805786, -0.914634644985199, -0.7034619450569153, -0.5350258946418762, -0.3997619152069092, -0.2899767756462097, -0.19867821037769318, -0.11889390647411346, -0.04165973141789436, 0.08472593873739243]}],\n",
       "                        {\"template\": {\"data\": {\"bar\": [{\"error_x\": {\"color\": \"#2a3f5f\"}, \"error_y\": {\"color\": \"#2a3f5f\"}, \"marker\": {\"line\": {\"color\": \"#E5ECF6\", \"width\": 0.5}}, \"type\": \"bar\"}], \"barpolar\": [{\"marker\": {\"line\": {\"color\": \"#E5ECF6\", \"width\": 0.5}}, \"type\": \"barpolar\"}], \"carpet\": [{\"aaxis\": {\"endlinecolor\": \"#2a3f5f\", \"gridcolor\": \"white\", \"linecolor\": \"white\", \"minorgridcolor\": \"white\", \"startlinecolor\": \"#2a3f5f\"}, \"baxis\": {\"endlinecolor\": \"#2a3f5f\", \"gridcolor\": \"white\", \"linecolor\": \"white\", \"minorgridcolor\": \"white\", \"startlinecolor\": \"#2a3f5f\"}, \"type\": \"carpet\"}], \"choropleth\": [{\"colorbar\": {\"outlinewidth\": 0, \"ticks\": \"\"}, \"type\": \"choropleth\"}], \"contour\": [{\"colorbar\": {\"outlinewidth\": 0, \"ticks\": \"\"}, \"colorscale\": [[0.0, \"#0d0887\"], [0.1111111111111111, \"#46039f\"], [0.2222222222222222, \"#7201a8\"], [0.3333333333333333, \"#9c179e\"], [0.4444444444444444, \"#bd3786\"], [0.5555555555555556, \"#d8576b\"], [0.6666666666666666, \"#ed7953\"], [0.7777777777777778, \"#fb9f3a\"], [0.8888888888888888, \"#fdca26\"], [1.0, \"#f0f921\"]], \"type\": \"contour\"}], \"contourcarpet\": [{\"colorbar\": {\"outlinewidth\": 0, \"ticks\": \"\"}, \"type\": \"contourcarpet\"}], \"heatmap\": [{\"colorbar\": {\"outlinewidth\": 0, \"ticks\": \"\"}, \"colorscale\": [[0.0, \"#0d0887\"], [0.1111111111111111, \"#46039f\"], [0.2222222222222222, \"#7201a8\"], [0.3333333333333333, \"#9c179e\"], [0.4444444444444444, \"#bd3786\"], [0.5555555555555556, \"#d8576b\"], [0.6666666666666666, \"#ed7953\"], [0.7777777777777778, \"#fb9f3a\"], [0.8888888888888888, \"#fdca26\"], [1.0, \"#f0f921\"]], \"type\": \"heatmap\"}], \"heatmapgl\": [{\"colorbar\": {\"outlinewidth\": 0, \"ticks\": \"\"}, \"colorscale\": [[0.0, \"#0d0887\"], [0.1111111111111111, \"#46039f\"], [0.2222222222222222, \"#7201a8\"], [0.3333333333333333, \"#9c179e\"], [0.4444444444444444, \"#bd3786\"], [0.5555555555555556, \"#d8576b\"], [0.6666666666666666, \"#ed7953\"], [0.7777777777777778, \"#fb9f3a\"], [0.8888888888888888, \"#fdca26\"], [1.0, \"#f0f921\"]], \"type\": \"heatmapgl\"}], \"histogram\": [{\"marker\": {\"colorbar\": {\"outlinewidth\": 0, \"ticks\": \"\"}}, \"type\": \"histogram\"}], \"histogram2d\": [{\"colorbar\": {\"outlinewidth\": 0, \"ticks\": \"\"}, \"colorscale\": [[0.0, \"#0d0887\"], [0.1111111111111111, \"#46039f\"], [0.2222222222222222, \"#7201a8\"], [0.3333333333333333, \"#9c179e\"], [0.4444444444444444, \"#bd3786\"], [0.5555555555555556, \"#d8576b\"], [0.6666666666666666, \"#ed7953\"], [0.7777777777777778, \"#fb9f3a\"], [0.8888888888888888, \"#fdca26\"], [1.0, \"#f0f921\"]], \"type\": \"histogram2d\"}], \"histogram2dcontour\": [{\"colorbar\": {\"outlinewidth\": 0, \"ticks\": \"\"}, \"colorscale\": [[0.0, \"#0d0887\"], [0.1111111111111111, \"#46039f\"], [0.2222222222222222, \"#7201a8\"], [0.3333333333333333, \"#9c179e\"], [0.4444444444444444, \"#bd3786\"], [0.5555555555555556, \"#d8576b\"], [0.6666666666666666, \"#ed7953\"], [0.7777777777777778, \"#fb9f3a\"], [0.8888888888888888, \"#fdca26\"], [1.0, \"#f0f921\"]], \"type\": \"histogram2dcontour\"}], \"mesh3d\": [{\"colorbar\": {\"outlinewidth\": 0, \"ticks\": \"\"}, \"type\": \"mesh3d\"}], \"parcoords\": [{\"line\": {\"colorbar\": {\"outlinewidth\": 0, \"ticks\": \"\"}}, \"type\": \"parcoords\"}], \"pie\": [{\"automargin\": true, \"type\": \"pie\"}], \"scatter\": [{\"marker\": {\"colorbar\": {\"outlinewidth\": 0, \"ticks\": \"\"}}, \"type\": \"scatter\"}], \"scatter3d\": [{\"line\": {\"colorbar\": {\"outlinewidth\": 0, \"ticks\": \"\"}}, \"marker\": {\"colorbar\": {\"outlinewidth\": 0, \"ticks\": \"\"}}, \"type\": \"scatter3d\"}], \"scattercarpet\": [{\"marker\": {\"colorbar\": {\"outlinewidth\": 0, \"ticks\": \"\"}}, \"type\": \"scattercarpet\"}], \"scattergeo\": [{\"marker\": {\"colorbar\": {\"outlinewidth\": 0, \"ticks\": \"\"}}, \"type\": \"scattergeo\"}], \"scattergl\": [{\"marker\": {\"colorbar\": {\"outlinewidth\": 0, \"ticks\": \"\"}}, \"type\": \"scattergl\"}], \"scattermapbox\": [{\"marker\": {\"colorbar\": {\"outlinewidth\": 0, \"ticks\": \"\"}}, \"type\": \"scattermapbox\"}], \"scatterpolar\": [{\"marker\": {\"colorbar\": {\"outlinewidth\": 0, \"ticks\": \"\"}}, \"type\": \"scatterpolar\"}], \"scatterpolargl\": [{\"marker\": {\"colorbar\": {\"outlinewidth\": 0, \"ticks\": \"\"}}, \"type\": \"scatterpolargl\"}], \"scatterternary\": [{\"marker\": {\"colorbar\": {\"outlinewidth\": 0, \"ticks\": \"\"}}, \"type\": \"scatterternary\"}], \"surface\": [{\"colorbar\": {\"outlinewidth\": 0, \"ticks\": \"\"}, \"colorscale\": [[0.0, \"#0d0887\"], [0.1111111111111111, \"#46039f\"], [0.2222222222222222, \"#7201a8\"], [0.3333333333333333, \"#9c179e\"], [0.4444444444444444, \"#bd3786\"], [0.5555555555555556, \"#d8576b\"], [0.6666666666666666, \"#ed7953\"], [0.7777777777777778, \"#fb9f3a\"], [0.8888888888888888, \"#fdca26\"], [1.0, \"#f0f921\"]], \"type\": \"surface\"}], \"table\": [{\"cells\": {\"fill\": {\"color\": \"#EBF0F8\"}, \"line\": {\"color\": \"white\"}}, \"header\": {\"fill\": {\"color\": \"#C8D4E3\"}, \"line\": {\"color\": \"white\"}}, \"type\": \"table\"}]}, \"layout\": {\"annotationdefaults\": {\"arrowcolor\": \"#2a3f5f\", \"arrowhead\": 0, \"arrowwidth\": 1}, \"coloraxis\": {\"colorbar\": {\"outlinewidth\": 0, \"ticks\": \"\"}}, \"colorscale\": {\"diverging\": [[0, \"#8e0152\"], [0.1, \"#c51b7d\"], [0.2, \"#de77ae\"], [0.3, \"#f1b6da\"], [0.4, \"#fde0ef\"], [0.5, \"#f7f7f7\"], [0.6, \"#e6f5d0\"], [0.7, \"#b8e186\"], [0.8, \"#7fbc41\"], [0.9, \"#4d9221\"], [1, \"#276419\"]], \"sequential\": [[0.0, \"#0d0887\"], [0.1111111111111111, \"#46039f\"], [0.2222222222222222, \"#7201a8\"], [0.3333333333333333, \"#9c179e\"], [0.4444444444444444, \"#bd3786\"], [0.5555555555555556, \"#d8576b\"], [0.6666666666666666, \"#ed7953\"], [0.7777777777777778, \"#fb9f3a\"], [0.8888888888888888, \"#fdca26\"], [1.0, \"#f0f921\"]], \"sequentialminus\": [[0.0, \"#0d0887\"], [0.1111111111111111, \"#46039f\"], [0.2222222222222222, \"#7201a8\"], [0.3333333333333333, \"#9c179e\"], [0.4444444444444444, \"#bd3786\"], [0.5555555555555556, \"#d8576b\"], [0.6666666666666666, \"#ed7953\"], [0.7777777777777778, \"#fb9f3a\"], [0.8888888888888888, \"#fdca26\"], [1.0, \"#f0f921\"]]}, \"colorway\": [\"#636efa\", \"#EF553B\", \"#00cc96\", \"#ab63fa\", \"#FFA15A\", \"#19d3f3\", \"#FF6692\", \"#B6E880\", \"#FF97FF\", \"#FECB52\"], \"font\": {\"color\": \"#2a3f5f\"}, \"geo\": {\"bgcolor\": \"white\", \"lakecolor\": \"white\", \"landcolor\": \"#E5ECF6\", \"showlakes\": true, \"showland\": true, \"subunitcolor\": \"white\"}, \"hoverlabel\": {\"align\": \"left\"}, \"hovermode\": \"closest\", \"mapbox\": {\"style\": \"light\"}, \"paper_bgcolor\": \"white\", \"plot_bgcolor\": \"#E5ECF6\", \"polar\": {\"angularaxis\": {\"gridcolor\": \"white\", \"linecolor\": \"white\", \"ticks\": \"\"}, \"bgcolor\": \"#E5ECF6\", \"radialaxis\": {\"gridcolor\": \"white\", \"linecolor\": \"white\", \"ticks\": \"\"}}, \"scene\": {\"xaxis\": {\"backgroundcolor\": \"#E5ECF6\", \"gridcolor\": \"white\", \"gridwidth\": 2, \"linecolor\": \"white\", \"showbackground\": true, \"ticks\": \"\", \"zerolinecolor\": \"white\"}, \"yaxis\": {\"backgroundcolor\": \"#E5ECF6\", \"gridcolor\": \"white\", \"gridwidth\": 2, \"linecolor\": \"white\", \"showbackground\": true, \"ticks\": \"\", \"zerolinecolor\": \"white\"}, \"zaxis\": {\"backgroundcolor\": \"#E5ECF6\", \"gridcolor\": \"white\", \"gridwidth\": 2, \"linecolor\": \"white\", \"showbackground\": true, \"ticks\": \"\", \"zerolinecolor\": \"white\"}}, \"shapedefaults\": {\"line\": {\"color\": \"#2a3f5f\"}}, \"ternary\": {\"aaxis\": {\"gridcolor\": \"white\", \"linecolor\": \"white\", \"ticks\": \"\"}, \"baxis\": {\"gridcolor\": \"white\", \"linecolor\": \"white\", \"ticks\": \"\"}, \"bgcolor\": \"#E5ECF6\", \"caxis\": {\"gridcolor\": \"white\", \"linecolor\": \"white\", \"ticks\": \"\"}}, \"title\": {\"x\": 0.05}, \"xaxis\": {\"automargin\": true, \"gridcolor\": \"white\", \"linecolor\": \"white\", \"ticks\": \"\", \"title\": {\"standoff\": 15}, \"zerolinecolor\": \"white\", \"zerolinewidth\": 2}, \"yaxis\": {\"automargin\": true, \"gridcolor\": \"white\", \"linecolor\": \"white\", \"ticks\": \"\", \"title\": {\"standoff\": 15}, \"zerolinecolor\": \"white\", \"zerolinewidth\": 2}}}},\n",
       "                        {\"responsive\": true}\n",
       "                    ).then(function(){\n",
       "                            \n",
       "var gd = document.getElementById('b0bbfa3f-de31-4e64-a166-eefab6bccf21');\n",
       "var x = new MutationObserver(function (mutations, observer) {{\n",
       "        var display = window.getComputedStyle(gd).display;\n",
       "        if (!display || display === 'none') {{\n",
       "            console.log([gd, 'removed!']);\n",
       "            Plotly.purge(gd);\n",
       "            observer.disconnect();\n",
       "        }}\n",
       "}});\n",
       "\n",
       "// Listen for the removal of the full notebook cells\n",
       "var notebookContainer = gd.closest('#notebook-container');\n",
       "if (notebookContainer) {{\n",
       "    x.observe(notebookContainer, {childList: true});\n",
       "}}\n",
       "\n",
       "// Listen for the clearing of the current output cell\n",
       "var outputEl = gd.closest('.output');\n",
       "if (outputEl) {{\n",
       "    x.observe(outputEl, {childList: true});\n",
       "}}\n",
       "\n",
       "                        })\n",
       "                };\n",
       "                });\n",
       "            </script>\n",
       "        </div>"
      ]
     },
     "metadata": {},
     "output_type": "display_data"
    }
   ],
   "source": [
    "x0 = torch.tensor([np.pi+.2, -.1, 0.5, 1.], dtype=vf.dtype)\n",
    "v, res = V(x0)\n",
    "sys.plot_result(res).show()"
   ]
  },
  {
   "cell_type": "code",
   "execution_count": 24,
   "metadata": {},
   "outputs": [
    {
     "data": {
      "application/vnd.plotly.v1+json": {
       "config": {
        "plotlyServerURL": "https://plot.ly"
       },
       "data": [
        {
         "type": "scatter",
         "x": [
          0,
          3.134171856800094e-05,
          0.000344758911523968,
          0.0034789307974278927,
          0.03482064977288246,
          0.10000000149011612,
          0.13985200226306915,
          0.20000000298023224,
          0.24313610792160034,
          0.30000001192092896,
          0.3459392786026001,
          0.4000000059604645,
          0.44828325510025024,
          0.5,
          0.549048900604248,
          0.6000000238418579,
          0.6471068859100342,
          0.699999988079071,
          0.7316665053367615,
          0.800000011920929,
          0.848839282989502,
          0.8999999761581421,
          0.9591057896614075,
          1,
          1.0661823749542236,
          1.100000023841858,
          1.1760919094085693,
          1.2000000476837158,
          1.2900856733322144,
          1.2999999523162842,
          1.3664230108261108,
          1.399999976158142,
          1.4588183164596558,
          1.5,
          1.5465314388275146,
          1.600000023841858,
          1.6544588804244995,
          1.7000000476837158,
          1.7564139366149902,
          1.7999999523162842,
          1.8552968502044678,
          1.899999976158142,
          1.9086928367614746,
          1.995620608329773,
          2,
          2.0651087760925293,
          2.0999999046325684,
          2.1679162979125977,
          2.200000047683716,
          2.2643187046051025,
          2.299999952316284,
          2.3622753620147705,
          2.4000000953674316,
          2.4609198570251465,
          2.5,
          2.5599567890167236,
          2.5999999046325684,
          2.658273935317993,
          2.700000047683716,
          2.7414286136627197,
          2.799999952316284,
          2.8567638397216797,
          2.9000000953674316,
          2.9570577144622803,
          3,
          3.055192470550537,
          3.0999999046325684,
          3.115835428237915,
          3.200000047683716,
          3.2643723487854004,
          3.299999952316284,
          3.361999988555908,
          3.4000000953674316,
          3.4607455730438232,
          3.5,
          3.560537815093994,
          3.5999999046325684,
          3.6601271629333496,
          3.700000047683716,
          3.7595760822296143,
          3.799999952316284,
          3.855806827545166,
          3.9000000953674316,
          3.954608917236328,
          4,
          4.057262420654297,
          4.099999904632568,
          4.156745433807373,
          4.199999809265137,
          4.253383159637451,
          4.300000190734863,
          4.35998010635376,
          4.400000095367432,
          4.462804794311523,
          4.5,
          4.561257839202881,
          4.599999904632568,
          4.660651206970215,
          4.699999809265137,
          4.760446548461914,
          4.800000190734863,
          4.86027193069458,
          4.900000095367432
         ],
         "y": [
          3.2415926456451416,
          3.2415926456451416,
          3.241591691970825,
          3.2415010929107666,
          3.2330048084259033,
          3.1804935932159424,
          3.1311943531036377,
          3.0450408458709717,
          2.981233596801758,
          2.9015004634857178,
          2.844573974609375,
          2.786853075027466,
          2.7448058128356934,
          2.708538055419922,
          2.682415246963501,
          2.662529706954956,
          2.6505260467529297,
          2.6433093547821045,
          2.6423091888427734,
          2.64721941947937,
          2.6571059226989746,
          2.6729226112365723,
          2.6983330249786377,
          2.720438003540039,
          2.7636759281158447,
          2.7893292903900146,
          2.8543598651885986,
          2.8767428398132324,
          2.96606707572937,
          2.976226568222046,
          3.0442492961883545,
          3.077666997909546,
          3.133488178253174,
          3.169093132019043,
          3.205373764038086,
          3.241191864013672,
          3.2708704471588135,
          3.290517568588257,
          3.3086225986480713,
          3.318230628967285,
          3.3253633975982666,
          3.3274261951446533,
          3.3274195194244385,
          3.3221518993377686,
          3.3216137886047363,
          3.3114073276519775,
          3.3042469024658203,
          3.287567615509033,
          3.2786808013916016,
          3.259416103363037,
          3.2481935024261475,
          3.228091239929199,
          3.2159152030944824,
          3.1965649127960205,
          3.1846468448638916,
          3.1673285961151123,
          3.1566410064697266,
          3.14245867729187,
          3.1334457397460938,
          3.1254830360412598,
          3.1158764362335205,
          3.1084909439086914,
          3.1040990352630615,
          3.0998613834381104,
          3.0977747440338135,
          3.0963830947875977,
          3.0962133407592773,
          3.0963613986968994,
          3.0985167026519775,
          3.101583480834961,
          3.103687286376953,
          3.1078929901123047,
          3.110715866088867,
          3.1154987812042236,
          3.1186702251434326,
          3.1235885620117188,
          3.1267309188842773,
          3.1313555240631104,
          3.134248733520508,
          3.138272523880005,
          3.1407532691955566,
          3.143829107284546,
          3.1459529399871826,
          3.148190498352051,
          3.149721384048462,
          3.151232957839966,
          3.152066469192505,
          3.152806043624878,
          3.153108596801758,
          3.1531951427459717,
          3.153042793273926,
          3.152568817138672,
          3.1521072387695312,
          3.151188611984253,
          3.1505579948425293,
          3.1494126319885254,
          3.14864444732666,
          3.147401809692383,
          3.146591901779175,
          3.1453638076782227,
          3.14458966255188,
          3.1434686183929443,
          3.142782211303711
         ]
        },
        {
         "type": "scatter",
         "x": [
          0,
          3.134171856800094e-05,
          0.000344758911523968,
          0.0034789307974278927,
          0.03482064977288246,
          0.10000000149011612,
          0.13985200226306915,
          0.20000000298023224,
          0.24313610792160034,
          0.30000001192092896,
          0.3459392786026001,
          0.4000000059604645,
          0.44828325510025024,
          0.5,
          0.549048900604248,
          0.6000000238418579,
          0.6471068859100342,
          0.699999988079071,
          0.7316665053367615,
          0.800000011920929,
          0.848839282989502,
          0.8999999761581421,
          0.9591057896614075,
          1,
          1.0661823749542236,
          1.100000023841858,
          1.1760919094085693,
          1.2000000476837158,
          1.2900856733322144,
          1.2999999523162842,
          1.3664230108261108,
          1.399999976158142,
          1.4588183164596558,
          1.5,
          1.5465314388275146,
          1.600000023841858,
          1.6544588804244995,
          1.7000000476837158,
          1.7564139366149902,
          1.7999999523162842,
          1.8552968502044678,
          1.899999976158142,
          1.9086928367614746,
          1.995620608329773,
          2,
          2.0651087760925293,
          2.0999999046325684,
          2.1679162979125977,
          2.200000047683716,
          2.2643187046051025,
          2.299999952316284,
          2.3622753620147705,
          2.4000000953674316,
          2.4609198570251465,
          2.5,
          2.5599567890167236,
          2.5999999046325684,
          2.658273935317993,
          2.700000047683716,
          2.7414286136627197,
          2.799999952316284,
          2.8567638397216797,
          2.9000000953674316,
          2.9570577144622803,
          3,
          3.055192470550537,
          3.0999999046325684,
          3.115835428237915,
          3.200000047683716,
          3.2643723487854004,
          3.299999952316284,
          3.361999988555908,
          3.4000000953674316,
          3.4607455730438232,
          3.5,
          3.560537815093994,
          3.5999999046325684,
          3.6601271629333496,
          3.700000047683716,
          3.7595760822296143,
          3.799999952316284,
          3.855806827545166,
          3.9000000953674316,
          3.954608917236328,
          4,
          4.057262420654297,
          4.099999904632568,
          4.156745433807373,
          4.199999809265137,
          4.253383159637451,
          4.300000190734863,
          4.35998010635376,
          4.400000095367432,
          4.462804794311523,
          4.5,
          4.561257839202881,
          4.599999904632568,
          4.660651206970215,
          4.699999809265137,
          4.760446548461914,
          4.800000190734863,
          4.86027193069458,
          4.900000095367432
         ],
         "y": [
          0.10000000149011612,
          0.10000002384185791,
          0.10000250488519669,
          0.1002538651227951,
          0.12389933317899704,
          0.27116459608078003,
          0.4106321334838867,
          0.6582443714141846,
          0.8459569215774536,
          1.0878918170928955,
          1.267665147781372,
          1.4578335285186768,
          1.6030490398406982,
          1.7335808277130127,
          1.8310751914978027,
          1.906559944152832,
          1.951622724533081,
          1.9756815433502197,
          1.9757875204086304,
          1.9440884590148926,
          1.8940495252609253,
          1.8194599151611328,
          1.7069406509399414,
          1.614018440246582,
          1.4415563344955444,
          1.3438948392868042,
          1.1071535348892212,
          1.0286041498184204,
          0.7249352335929871,
          0.6911814212799072,
          0.4677545726299286,
          0.35896041989326477,
          0.17776606976985931,
          0.06159373000264168,
          -0.057878825813531876,
          -0.17790177464485168,
          -0.280163437128067,
          -0.35033732652664185,
          -0.4184938967227936,
          -0.45772838592529297,
          -0.49172139167785645,
          -0.5074180364608765,
          -0.5091835856437683,
          -0.5095503926277161,
          -0.5086809992790222,
          -0.4881984293460846,
          -0.47149765491485596,
          -0.42953234910964966,
          -0.40614762902259827,
          -0.35397711396217346,
          -0.3229060769081116,
          -0.2663375437259674,
          -0.23159034550189972,
          -0.175735741853714,
          -0.1409517377614975,
          -0.08990611135959625,
          -0.05806949362158775,
          -0.015394511632621288,
          0.0120461480692029,
          0.03654969856142998,
          0.0665222555398941,
          0.09005831927061081,
          0.10440473258495331,
          0.11875525861978531,
          0.12627911567687988,
          0.1320732831954956,
          0.13385716080665588,
          0.1338566690683365,
          0.12956634163856506,
          0.12182359397411346,
          0.11622577905654907,
          0.10468626022338867,
          0.09676790982484818,
          0.08313193172216415,
          0.0739639475941658,
          0.05958259478211403,
          0.05029294639825821,
          0.0364895835518837,
          0.027765611186623573,
          0.015515598468482494,
          0.007880082353949547,
          -0.0016891954001039267,
          -0.008385519497096539,
          -0.01554870791733265,
          -0.020546553656458855,
          -0.025617141276597977,
          -0.028526199981570244,
          -0.03128713741898537,
          -0.032599691301584244,
          -0.033340565860271454,
          -0.03328045830130577,
          -0.032331667840480804,
          -0.03123476356267929,
          -0.028882017359137535,
          -0.02719881944358349,
          -0.024057520553469658,
          -0.021907661110162735,
          -0.018373170867562294,
          -0.016038058325648308,
          -0.012455496937036514,
          -0.010171246714890003,
          -0.00683019682765007,
          -0.0047629717737436295
         ]
        },
        {
         "type": "scatter",
         "x": [
          0,
          3.134171856800094e-05,
          0.000344758911523968,
          0.0034789307974278927,
          0.03482064977288246,
          0.10000000149011612,
          0.13985200226306915,
          0.20000000298023224,
          0.24313610792160034,
          0.30000001192092896,
          0.3459392786026001,
          0.4000000059604645,
          0.44828325510025024,
          0.5,
          0.549048900604248,
          0.6000000238418579,
          0.6471068859100342,
          0.699999988079071,
          0.7316665053367615,
          0.800000011920929,
          0.848839282989502,
          0.8999999761581421,
          0.9591057896614075,
          1,
          1.0661823749542236,
          1.100000023841858,
          1.1760919094085693,
          1.2000000476837158,
          1.2900856733322144,
          1.2999999523162842,
          1.3664230108261108,
          1.399999976158142,
          1.4588183164596558,
          1.5,
          1.5465314388275146,
          1.600000023841858,
          1.6544588804244995,
          1.7000000476837158,
          1.7564139366149902,
          1.7999999523162842,
          1.8552968502044678,
          1.899999976158142,
          1.9086928367614746,
          1.995620608329773,
          2,
          2.0651087760925293,
          2.0999999046325684,
          2.1679162979125977,
          2.200000047683716,
          2.2643187046051025,
          2.299999952316284,
          2.3622753620147705,
          2.4000000953674316,
          2.4609198570251465,
          2.5,
          2.5599567890167236,
          2.5999999046325684,
          2.658273935317993,
          2.700000047683716,
          2.7414286136627197,
          2.799999952316284,
          2.8567638397216797,
          2.9000000953674316,
          2.9570577144622803,
          3,
          3.055192470550537,
          3.0999999046325684,
          3.115835428237915,
          3.200000047683716,
          3.2643723487854004,
          3.299999952316284,
          3.361999988555908,
          3.4000000953674316,
          3.4607455730438232,
          3.5,
          3.560537815093994,
          3.5999999046325684,
          3.6601271629333496,
          3.700000047683716,
          3.7595760822296143,
          3.799999952316284,
          3.855806827545166,
          3.9000000953674316,
          3.954608917236328,
          4,
          4.057262420654297,
          4.099999904632568,
          4.156745433807373,
          4.199999809265137,
          4.253383159637451,
          4.300000190734863,
          4.35998010635376,
          4.400000095367432,
          4.462804794311523,
          4.5,
          4.561257839202881,
          4.599999904632568,
          4.660651206970215,
          4.699999809265137,
          4.760446548461914,
          4.800000190734863,
          4.86027193069458,
          4.900000095367432
         ],
         "y": [
          0,
          -0.00047696050023660064,
          -0.005241624545305967,
          -0.05239465460181236,
          -0.4750312864780426,
          -1.0732145309448242,
          -1.3658907413482666,
          -1.4266964197158813,
          -1.4918276071548462,
          -1.2610961198806763,
          -1.1888247728347778,
          -0.9181815981864929,
          -0.8057374358177185,
          -0.5806838274002075,
          -0.4735485911369324,
          -0.2960984408855438,
          -0.20682618021965027,
          -0.056814998388290405,
          -0.004111845046281815,
          0.1605043262243271,
          0.24902422726154327,
          0.37584468722343445,
          0.49036747217178345,
          0.5945215225219727,
          0.719078779220581,
          0.800261914730072,
          0.9147647023200989,
          0.958302915096283,
          1.0218143463134766,
          1.027588129043579,
          1.0103672742843628,
          0.9773168563842773,
          0.9081929326057434,
          0.8148510456085205,
          0.737052321434021,
          0.5932271480560303,
          0.4892919659614563,
          0.36838051676750183,
          0.26833397150039673,
          0.16925683617591858,
          0.08576230704784393,
          0.004254425410181284,
          -0.005837608128786087,
          -0.11964526027441025,
          -0.1261206418275833,
          -0.18791498243808746,
          -0.2228027880191803,
          -0.2673403024673462,
          -0.2864595353603363,
          -0.3103775382041931,
          -0.31800583004951477,
          -0.3246007263660431,
          -0.319794625043869,
          -0.3121088147163391,
          -0.2963831424713135,
          -0.2779652178287506,
          -0.2542911469936371,
          -0.229549840092659,
          -0.20089678466320038,
          -0.1822938770055771,
          -0.1431514024734497,
          -0.11530812829732895,
          -0.08674833178520203,
          -0.06057941913604736,
          -0.03583654761314392,
          -0.013956714421510696,
          0.006882237270474434,
          0.01183605007827282,
          0.039971642196178436,
          0.05508388951420784,
          0.06297485530376434,
          0.07215293496847153,
          0.07622767984867096,
          0.08047585934400558,
          0.08079439401626587,
          0.08083134889602661,
          0.0780622735619545,
          0.07488451153039932,
          0.06983759254217148,
          0.06442860513925552,
          0.057918351143598557,
          0.05168527364730835,
          0.04401671886444092,
          0.03744218125939369,
          0.029646722599864006,
          0.022754700854420662,
          0.016005277633666992,
          0.009812762960791588,
          0.00401520449668169,
          -0.0008862651302479208,
          -0.005751410033553839,
          -0.01006381306797266,
          -0.013014896772801876,
          -0.01614067144691944,
          -0.017737234011292458,
          -0.01949186623096466,
          -0.02008945308625698,
          -0.02068142034113407,
          -0.020391467958688736,
          -0.020016837865114212,
          -0.019034357741475105,
          -0.017947109416127205,
          -0.016502054408192635
         ]
        },
        {
         "type": "scatter",
         "x": [
          0,
          3.134171856800094e-05,
          0.000344758911523968,
          0.0034789307974278927,
          0.03482064977288246,
          0.10000000149011612,
          0.13985200226306915,
          0.20000000298023224,
          0.24313610792160034,
          0.30000001192092896,
          0.3459392786026001,
          0.4000000059604645,
          0.44828325510025024,
          0.5,
          0.549048900604248,
          0.6000000238418579,
          0.6471068859100342,
          0.699999988079071,
          0.7316665053367615,
          0.800000011920929,
          0.848839282989502,
          0.8999999761581421,
          0.9591057896614075,
          1,
          1.0661823749542236,
          1.100000023841858,
          1.1760919094085693,
          1.2000000476837158,
          1.2900856733322144,
          1.2999999523162842,
          1.3664230108261108,
          1.399999976158142,
          1.4588183164596558,
          1.5,
          1.5465314388275146,
          1.600000023841858,
          1.6544588804244995,
          1.7000000476837158,
          1.7564139366149902,
          1.7999999523162842,
          1.8552968502044678,
          1.899999976158142,
          1.9086928367614746,
          1.995620608329773,
          2,
          2.0651087760925293,
          2.0999999046325684,
          2.1679162979125977,
          2.200000047683716,
          2.2643187046051025,
          2.299999952316284,
          2.3622753620147705,
          2.4000000953674316,
          2.4609198570251465,
          2.5,
          2.5599567890167236,
          2.5999999046325684,
          2.658273935317993,
          2.700000047683716,
          2.7414286136627197,
          2.799999952316284,
          2.8567638397216797,
          2.9000000953674316,
          2.9570577144622803,
          3,
          3.055192470550537,
          3.0999999046325684,
          3.115835428237915,
          3.200000047683716,
          3.2643723487854004,
          3.299999952316284,
          3.361999988555908,
          3.4000000953674316,
          3.4607455730438232,
          3.5,
          3.560537815093994,
          3.5999999046325684,
          3.6601271629333496,
          3.700000047683716,
          3.7595760822296143,
          3.799999952316284,
          3.855806827545166,
          3.9000000953674316,
          3.954608917236328,
          4,
          4.057262420654297,
          4.099999904632568,
          4.156745433807373,
          4.199999809265137,
          4.253383159637451,
          4.300000190734863,
          4.35998010635376,
          4.400000095367432,
          4.462804794311523,
          4.5,
          4.561257839202881,
          4.599999904632568,
          4.660651206970215,
          4.699999809265137,
          4.760446548461914,
          4.800000190734863,
          4.86027193069458,
          4.900000095367432
         ],
         "y": [
          0,
          0.0013235664227977395,
          0.014546054415404797,
          0.145454540848732,
          1.3240740299224854,
          3.0271408557891846,
          3.880053997039795,
          4.161403656005859,
          4.435652256011963,
          3.9259588718414307,
          3.818722724914551,
          3.1227478981018066,
          2.8336174488067627,
          2.153106689453125,
          1.7812508344650269,
          1.138648271560669,
          0.7490731477737427,
          0.12774811685085297,
          -0.12834705412387848,
          -0.8360118865966797,
          -1.2239470481872559,
          -1.7059823274612427,
          -2.1126694679260254,
          -2.4388437271118164,
          -2.7852368354797363,
          -2.9947900772094727,
          -3.2396082878112793,
          -3.332815170288086,
          -3.402048110961914,
          -3.406961679458618,
          -3.2950658798217773,
          -3.178192377090454,
          -2.9506616592407227,
          -2.6753573417663574,
          -2.4399213790893555,
          -2.023897171020508,
          -1.711324691772461,
          -1.356120228767395,
          -1.045824408531189,
          -0.7453369498252869,
          -0.47600194811820984,
          -0.220159113407135,
          -0.18596762418746948,
          0.18819808959960938,
          0.20888207852840424,
          0.42083340883255005,
          0.5369328260421753,
          0.6949537396430969,
          0.7620524168014526,
          0.8532841205596924,
          0.886229932308197,
          0.9216543436050415,
          0.9172140955924988,
          0.9068121910095215,
          0.8692485690116882,
          0.8240254521369934,
          0.7617285251617432,
          0.6947502493858337,
          0.6161656975746155,
          0.5633595585823059,
          0.45292797684669495,
          0.3714650869369507,
          0.28912070393562317,
          0.21059131622314453,
          0.13774831593036652,
          0.0705108568072319,
          0.007796951569616795,
          -0.0078878877684474,
          -0.09544633328914642,
          -0.1443537175655365,
          -0.1697208285331726,
          -0.2008843719959259,
          -0.21530140936374664,
          -0.23141683638095856,
          -0.2347756326198578,
          -0.23787006735801697,
          -0.23188531398773193,
          -0.22476035356521606,
          -0.21170663833618164,
          -0.1972353607416153,
          -0.17943887412548065,
          -0.16175633668899536,
          -0.140138179063797,
          -0.12083994597196579,
          -0.09836533665657043,
          -0.07765886187553406,
          -0.05782368779182434,
          -0.03881070762872696,
          -0.02143709361553192,
          -0.006046851631253958,
          0.008882028050720692,
          0.022752057760953903,
          0.03209185227751732,
          0.042523324489593506,
          0.04789026081562042,
          0.05416867509484291,
          0.05662376061081886,
          0.05931704118847847,
          0.059116218239068985,
          0.05877508595585823,
          0.056446969509124756,
          0.0537986196577549,
          0.04999224469065666
         ]
        }
       ],
       "layout": {
        "template": {
         "data": {
          "bar": [
           {
            "error_x": {
             "color": "#2a3f5f"
            },
            "error_y": {
             "color": "#2a3f5f"
            },
            "marker": {
             "line": {
              "color": "#E5ECF6",
              "width": 0.5
             }
            },
            "type": "bar"
           }
          ],
          "barpolar": [
           {
            "marker": {
             "line": {
              "color": "#E5ECF6",
              "width": 0.5
             }
            },
            "type": "barpolar"
           }
          ],
          "carpet": [
           {
            "aaxis": {
             "endlinecolor": "#2a3f5f",
             "gridcolor": "white",
             "linecolor": "white",
             "minorgridcolor": "white",
             "startlinecolor": "#2a3f5f"
            },
            "baxis": {
             "endlinecolor": "#2a3f5f",
             "gridcolor": "white",
             "linecolor": "white",
             "minorgridcolor": "white",
             "startlinecolor": "#2a3f5f"
            },
            "type": "carpet"
           }
          ],
          "choropleth": [
           {
            "colorbar": {
             "outlinewidth": 0,
             "ticks": ""
            },
            "type": "choropleth"
           }
          ],
          "contour": [
           {
            "colorbar": {
             "outlinewidth": 0,
             "ticks": ""
            },
            "colorscale": [
             [
              0,
              "#0d0887"
             ],
             [
              0.1111111111111111,
              "#46039f"
             ],
             [
              0.2222222222222222,
              "#7201a8"
             ],
             [
              0.3333333333333333,
              "#9c179e"
             ],
             [
              0.4444444444444444,
              "#bd3786"
             ],
             [
              0.5555555555555556,
              "#d8576b"
             ],
             [
              0.6666666666666666,
              "#ed7953"
             ],
             [
              0.7777777777777778,
              "#fb9f3a"
             ],
             [
              0.8888888888888888,
              "#fdca26"
             ],
             [
              1,
              "#f0f921"
             ]
            ],
            "type": "contour"
           }
          ],
          "contourcarpet": [
           {
            "colorbar": {
             "outlinewidth": 0,
             "ticks": ""
            },
            "type": "contourcarpet"
           }
          ],
          "heatmap": [
           {
            "colorbar": {
             "outlinewidth": 0,
             "ticks": ""
            },
            "colorscale": [
             [
              0,
              "#0d0887"
             ],
             [
              0.1111111111111111,
              "#46039f"
             ],
             [
              0.2222222222222222,
              "#7201a8"
             ],
             [
              0.3333333333333333,
              "#9c179e"
             ],
             [
              0.4444444444444444,
              "#bd3786"
             ],
             [
              0.5555555555555556,
              "#d8576b"
             ],
             [
              0.6666666666666666,
              "#ed7953"
             ],
             [
              0.7777777777777778,
              "#fb9f3a"
             ],
             [
              0.8888888888888888,
              "#fdca26"
             ],
             [
              1,
              "#f0f921"
             ]
            ],
            "type": "heatmap"
           }
          ],
          "heatmapgl": [
           {
            "colorbar": {
             "outlinewidth": 0,
             "ticks": ""
            },
            "colorscale": [
             [
              0,
              "#0d0887"
             ],
             [
              0.1111111111111111,
              "#46039f"
             ],
             [
              0.2222222222222222,
              "#7201a8"
             ],
             [
              0.3333333333333333,
              "#9c179e"
             ],
             [
              0.4444444444444444,
              "#bd3786"
             ],
             [
              0.5555555555555556,
              "#d8576b"
             ],
             [
              0.6666666666666666,
              "#ed7953"
             ],
             [
              0.7777777777777778,
              "#fb9f3a"
             ],
             [
              0.8888888888888888,
              "#fdca26"
             ],
             [
              1,
              "#f0f921"
             ]
            ],
            "type": "heatmapgl"
           }
          ],
          "histogram": [
           {
            "marker": {
             "colorbar": {
              "outlinewidth": 0,
              "ticks": ""
             }
            },
            "type": "histogram"
           }
          ],
          "histogram2d": [
           {
            "colorbar": {
             "outlinewidth": 0,
             "ticks": ""
            },
            "colorscale": [
             [
              0,
              "#0d0887"
             ],
             [
              0.1111111111111111,
              "#46039f"
             ],
             [
              0.2222222222222222,
              "#7201a8"
             ],
             [
              0.3333333333333333,
              "#9c179e"
             ],
             [
              0.4444444444444444,
              "#bd3786"
             ],
             [
              0.5555555555555556,
              "#d8576b"
             ],
             [
              0.6666666666666666,
              "#ed7953"
             ],
             [
              0.7777777777777778,
              "#fb9f3a"
             ],
             [
              0.8888888888888888,
              "#fdca26"
             ],
             [
              1,
              "#f0f921"
             ]
            ],
            "type": "histogram2d"
           }
          ],
          "histogram2dcontour": [
           {
            "colorbar": {
             "outlinewidth": 0,
             "ticks": ""
            },
            "colorscale": [
             [
              0,
              "#0d0887"
             ],
             [
              0.1111111111111111,
              "#46039f"
             ],
             [
              0.2222222222222222,
              "#7201a8"
             ],
             [
              0.3333333333333333,
              "#9c179e"
             ],
             [
              0.4444444444444444,
              "#bd3786"
             ],
             [
              0.5555555555555556,
              "#d8576b"
             ],
             [
              0.6666666666666666,
              "#ed7953"
             ],
             [
              0.7777777777777778,
              "#fb9f3a"
             ],
             [
              0.8888888888888888,
              "#fdca26"
             ],
             [
              1,
              "#f0f921"
             ]
            ],
            "type": "histogram2dcontour"
           }
          ],
          "mesh3d": [
           {
            "colorbar": {
             "outlinewidth": 0,
             "ticks": ""
            },
            "type": "mesh3d"
           }
          ],
          "parcoords": [
           {
            "line": {
             "colorbar": {
              "outlinewidth": 0,
              "ticks": ""
             }
            },
            "type": "parcoords"
           }
          ],
          "pie": [
           {
            "automargin": true,
            "type": "pie"
           }
          ],
          "scatter": [
           {
            "marker": {
             "colorbar": {
              "outlinewidth": 0,
              "ticks": ""
             }
            },
            "type": "scatter"
           }
          ],
          "scatter3d": [
           {
            "line": {
             "colorbar": {
              "outlinewidth": 0,
              "ticks": ""
             }
            },
            "marker": {
             "colorbar": {
              "outlinewidth": 0,
              "ticks": ""
             }
            },
            "type": "scatter3d"
           }
          ],
          "scattercarpet": [
           {
            "marker": {
             "colorbar": {
              "outlinewidth": 0,
              "ticks": ""
             }
            },
            "type": "scattercarpet"
           }
          ],
          "scattergeo": [
           {
            "marker": {
             "colorbar": {
              "outlinewidth": 0,
              "ticks": ""
             }
            },
            "type": "scattergeo"
           }
          ],
          "scattergl": [
           {
            "marker": {
             "colorbar": {
              "outlinewidth": 0,
              "ticks": ""
             }
            },
            "type": "scattergl"
           }
          ],
          "scattermapbox": [
           {
            "marker": {
             "colorbar": {
              "outlinewidth": 0,
              "ticks": ""
             }
            },
            "type": "scattermapbox"
           }
          ],
          "scatterpolar": [
           {
            "marker": {
             "colorbar": {
              "outlinewidth": 0,
              "ticks": ""
             }
            },
            "type": "scatterpolar"
           }
          ],
          "scatterpolargl": [
           {
            "marker": {
             "colorbar": {
              "outlinewidth": 0,
              "ticks": ""
             }
            },
            "type": "scatterpolargl"
           }
          ],
          "scatterternary": [
           {
            "marker": {
             "colorbar": {
              "outlinewidth": 0,
              "ticks": ""
             }
            },
            "type": "scatterternary"
           }
          ],
          "surface": [
           {
            "colorbar": {
             "outlinewidth": 0,
             "ticks": ""
            },
            "colorscale": [
             [
              0,
              "#0d0887"
             ],
             [
              0.1111111111111111,
              "#46039f"
             ],
             [
              0.2222222222222222,
              "#7201a8"
             ],
             [
              0.3333333333333333,
              "#9c179e"
             ],
             [
              0.4444444444444444,
              "#bd3786"
             ],
             [
              0.5555555555555556,
              "#d8576b"
             ],
             [
              0.6666666666666666,
              "#ed7953"
             ],
             [
              0.7777777777777778,
              "#fb9f3a"
             ],
             [
              0.8888888888888888,
              "#fdca26"
             ],
             [
              1,
              "#f0f921"
             ]
            ],
            "type": "surface"
           }
          ],
          "table": [
           {
            "cells": {
             "fill": {
              "color": "#EBF0F8"
             },
             "line": {
              "color": "white"
             }
            },
            "header": {
             "fill": {
              "color": "#C8D4E3"
             },
             "line": {
              "color": "white"
             }
            },
            "type": "table"
           }
          ]
         },
         "layout": {
          "annotationdefaults": {
           "arrowcolor": "#2a3f5f",
           "arrowhead": 0,
           "arrowwidth": 1
          },
          "coloraxis": {
           "colorbar": {
            "outlinewidth": 0,
            "ticks": ""
           }
          },
          "colorscale": {
           "diverging": [
            [
             0,
             "#8e0152"
            ],
            [
             0.1,
             "#c51b7d"
            ],
            [
             0.2,
             "#de77ae"
            ],
            [
             0.3,
             "#f1b6da"
            ],
            [
             0.4,
             "#fde0ef"
            ],
            [
             0.5,
             "#f7f7f7"
            ],
            [
             0.6,
             "#e6f5d0"
            ],
            [
             0.7,
             "#b8e186"
            ],
            [
             0.8,
             "#7fbc41"
            ],
            [
             0.9,
             "#4d9221"
            ],
            [
             1,
             "#276419"
            ]
           ],
           "sequential": [
            [
             0,
             "#0d0887"
            ],
            [
             0.1111111111111111,
             "#46039f"
            ],
            [
             0.2222222222222222,
             "#7201a8"
            ],
            [
             0.3333333333333333,
             "#9c179e"
            ],
            [
             0.4444444444444444,
             "#bd3786"
            ],
            [
             0.5555555555555556,
             "#d8576b"
            ],
            [
             0.6666666666666666,
             "#ed7953"
            ],
            [
             0.7777777777777778,
             "#fb9f3a"
            ],
            [
             0.8888888888888888,
             "#fdca26"
            ],
            [
             1,
             "#f0f921"
            ]
           ],
           "sequentialminus": [
            [
             0,
             "#0d0887"
            ],
            [
             0.1111111111111111,
             "#46039f"
            ],
            [
             0.2222222222222222,
             "#7201a8"
            ],
            [
             0.3333333333333333,
             "#9c179e"
            ],
            [
             0.4444444444444444,
             "#bd3786"
            ],
            [
             0.5555555555555556,
             "#d8576b"
            ],
            [
             0.6666666666666666,
             "#ed7953"
            ],
            [
             0.7777777777777778,
             "#fb9f3a"
            ],
            [
             0.8888888888888888,
             "#fdca26"
            ],
            [
             1,
             "#f0f921"
            ]
           ]
          },
          "colorway": [
           "#636efa",
           "#EF553B",
           "#00cc96",
           "#ab63fa",
           "#FFA15A",
           "#19d3f3",
           "#FF6692",
           "#B6E880",
           "#FF97FF",
           "#FECB52"
          ],
          "font": {
           "color": "#2a3f5f"
          },
          "geo": {
           "bgcolor": "white",
           "lakecolor": "white",
           "landcolor": "#E5ECF6",
           "showlakes": true,
           "showland": true,
           "subunitcolor": "white"
          },
          "hoverlabel": {
           "align": "left"
          },
          "hovermode": "closest",
          "mapbox": {
           "style": "light"
          },
          "paper_bgcolor": "white",
          "plot_bgcolor": "#E5ECF6",
          "polar": {
           "angularaxis": {
            "gridcolor": "white",
            "linecolor": "white",
            "ticks": ""
           },
           "bgcolor": "#E5ECF6",
           "radialaxis": {
            "gridcolor": "white",
            "linecolor": "white",
            "ticks": ""
           }
          },
          "scene": {
           "xaxis": {
            "backgroundcolor": "#E5ECF6",
            "gridcolor": "white",
            "gridwidth": 2,
            "linecolor": "white",
            "showbackground": true,
            "ticks": "",
            "zerolinecolor": "white"
           },
           "yaxis": {
            "backgroundcolor": "#E5ECF6",
            "gridcolor": "white",
            "gridwidth": 2,
            "linecolor": "white",
            "showbackground": true,
            "ticks": "",
            "zerolinecolor": "white"
           },
           "zaxis": {
            "backgroundcolor": "#E5ECF6",
            "gridcolor": "white",
            "gridwidth": 2,
            "linecolor": "white",
            "showbackground": true,
            "ticks": "",
            "zerolinecolor": "white"
           }
          },
          "shapedefaults": {
           "line": {
            "color": "#2a3f5f"
           }
          },
          "ternary": {
           "aaxis": {
            "gridcolor": "white",
            "linecolor": "white",
            "ticks": ""
           },
           "baxis": {
            "gridcolor": "white",
            "linecolor": "white",
            "ticks": ""
           },
           "bgcolor": "#E5ECF6",
           "caxis": {
            "gridcolor": "white",
            "linecolor": "white",
            "ticks": ""
           }
          },
          "title": {
           "x": 0.05
          },
          "xaxis": {
           "automargin": true,
           "gridcolor": "white",
           "linecolor": "white",
           "ticks": "",
           "title": {
            "standoff": 15
           },
           "zerolinecolor": "white",
           "zerolinewidth": 2
          },
          "yaxis": {
           "automargin": true,
           "gridcolor": "white",
           "linecolor": "white",
           "ticks": "",
           "title": {
            "standoff": 15
           },
           "zerolinecolor": "white",
           "zerolinewidth": 2
          }
         }
        }
       }
      },
      "text/html": [
       "<div>\n",
       "        \n",
       "        \n",
       "            <div id=\"97684cb9-5968-435b-a9bf-f8214d4766cb\" class=\"plotly-graph-div\" style=\"height:525px; width:100%;\"></div>\n",
       "            <script type=\"text/javascript\">\n",
       "                require([\"plotly\"], function(Plotly) {\n",
       "                    window.PLOTLYENV=window.PLOTLYENV || {};\n",
       "                    \n",
       "                if (document.getElementById(\"97684cb9-5968-435b-a9bf-f8214d4766cb\")) {\n",
       "                    Plotly.newPlot(\n",
       "                        '97684cb9-5968-435b-a9bf-f8214d4766cb',\n",
       "                        [{\"type\": \"scatter\", \"x\": [0.0, 3.134171856800094e-05, 0.000344758911523968, 0.0034789307974278927, 0.03482064977288246, 0.10000000149011612, 0.13985200226306915, 0.20000000298023224, 0.24313610792160034, 0.30000001192092896, 0.3459392786026001, 0.4000000059604645, 0.44828325510025024, 0.5, 0.549048900604248, 0.6000000238418579, 0.6471068859100342, 0.699999988079071, 0.7316665053367615, 0.800000011920929, 0.848839282989502, 0.8999999761581421, 0.9591057896614075, 1.0, 1.0661823749542236, 1.100000023841858, 1.1760919094085693, 1.2000000476837158, 1.2900856733322144, 1.2999999523162842, 1.3664230108261108, 1.399999976158142, 1.4588183164596558, 1.5, 1.5465314388275146, 1.600000023841858, 1.6544588804244995, 1.7000000476837158, 1.7564139366149902, 1.7999999523162842, 1.8552968502044678, 1.899999976158142, 1.9086928367614746, 1.995620608329773, 2.0, 2.0651087760925293, 2.0999999046325684, 2.1679162979125977, 2.200000047683716, 2.2643187046051025, 2.299999952316284, 2.3622753620147705, 2.4000000953674316, 2.4609198570251465, 2.5, 2.5599567890167236, 2.5999999046325684, 2.658273935317993, 2.700000047683716, 2.7414286136627197, 2.799999952316284, 2.8567638397216797, 2.9000000953674316, 2.9570577144622803, 3.0, 3.055192470550537, 3.0999999046325684, 3.115835428237915, 3.200000047683716, 3.2643723487854004, 3.299999952316284, 3.361999988555908, 3.4000000953674316, 3.4607455730438232, 3.5, 3.560537815093994, 3.5999999046325684, 3.6601271629333496, 3.700000047683716, 3.7595760822296143, 3.799999952316284, 3.855806827545166, 3.9000000953674316, 3.954608917236328, 4.0, 4.057262420654297, 4.099999904632568, 4.156745433807373, 4.199999809265137, 4.253383159637451, 4.300000190734863, 4.35998010635376, 4.400000095367432, 4.462804794311523, 4.5, 4.561257839202881, 4.599999904632568, 4.660651206970215, 4.699999809265137, 4.760446548461914, 4.800000190734863, 4.86027193069458, 4.900000095367432], \"y\": [3.2415926456451416, 3.2415926456451416, 3.241591691970825, 3.2415010929107666, 3.2330048084259033, 3.1804935932159424, 3.1311943531036377, 3.0450408458709717, 2.981233596801758, 2.9015004634857178, 2.844573974609375, 2.786853075027466, 2.7448058128356934, 2.708538055419922, 2.682415246963501, 2.662529706954956, 2.6505260467529297, 2.6433093547821045, 2.6423091888427734, 2.64721941947937, 2.6571059226989746, 2.6729226112365723, 2.6983330249786377, 2.720438003540039, 2.7636759281158447, 2.7893292903900146, 2.8543598651885986, 2.8767428398132324, 2.96606707572937, 2.976226568222046, 3.0442492961883545, 3.077666997909546, 3.133488178253174, 3.169093132019043, 3.205373764038086, 3.241191864013672, 3.2708704471588135, 3.290517568588257, 3.3086225986480713, 3.318230628967285, 3.3253633975982666, 3.3274261951446533, 3.3274195194244385, 3.3221518993377686, 3.3216137886047363, 3.3114073276519775, 3.3042469024658203, 3.287567615509033, 3.2786808013916016, 3.259416103363037, 3.2481935024261475, 3.228091239929199, 3.2159152030944824, 3.1965649127960205, 3.1846468448638916, 3.1673285961151123, 3.1566410064697266, 3.14245867729187, 3.1334457397460938, 3.1254830360412598, 3.1158764362335205, 3.1084909439086914, 3.1040990352630615, 3.0998613834381104, 3.0977747440338135, 3.0963830947875977, 3.0962133407592773, 3.0963613986968994, 3.0985167026519775, 3.101583480834961, 3.103687286376953, 3.1078929901123047, 3.110715866088867, 3.1154987812042236, 3.1186702251434326, 3.1235885620117188, 3.1267309188842773, 3.1313555240631104, 3.134248733520508, 3.138272523880005, 3.1407532691955566, 3.143829107284546, 3.1459529399871826, 3.148190498352051, 3.149721384048462, 3.151232957839966, 3.152066469192505, 3.152806043624878, 3.153108596801758, 3.1531951427459717, 3.153042793273926, 3.152568817138672, 3.1521072387695312, 3.151188611984253, 3.1505579948425293, 3.1494126319885254, 3.14864444732666, 3.147401809692383, 3.146591901779175, 3.1453638076782227, 3.14458966255188, 3.1434686183929443, 3.142782211303711]}, {\"type\": \"scatter\", \"x\": [0.0, 3.134171856800094e-05, 0.000344758911523968, 0.0034789307974278927, 0.03482064977288246, 0.10000000149011612, 0.13985200226306915, 0.20000000298023224, 0.24313610792160034, 0.30000001192092896, 0.3459392786026001, 0.4000000059604645, 0.44828325510025024, 0.5, 0.549048900604248, 0.6000000238418579, 0.6471068859100342, 0.699999988079071, 0.7316665053367615, 0.800000011920929, 0.848839282989502, 0.8999999761581421, 0.9591057896614075, 1.0, 1.0661823749542236, 1.100000023841858, 1.1760919094085693, 1.2000000476837158, 1.2900856733322144, 1.2999999523162842, 1.3664230108261108, 1.399999976158142, 1.4588183164596558, 1.5, 1.5465314388275146, 1.600000023841858, 1.6544588804244995, 1.7000000476837158, 1.7564139366149902, 1.7999999523162842, 1.8552968502044678, 1.899999976158142, 1.9086928367614746, 1.995620608329773, 2.0, 2.0651087760925293, 2.0999999046325684, 2.1679162979125977, 2.200000047683716, 2.2643187046051025, 2.299999952316284, 2.3622753620147705, 2.4000000953674316, 2.4609198570251465, 2.5, 2.5599567890167236, 2.5999999046325684, 2.658273935317993, 2.700000047683716, 2.7414286136627197, 2.799999952316284, 2.8567638397216797, 2.9000000953674316, 2.9570577144622803, 3.0, 3.055192470550537, 3.0999999046325684, 3.115835428237915, 3.200000047683716, 3.2643723487854004, 3.299999952316284, 3.361999988555908, 3.4000000953674316, 3.4607455730438232, 3.5, 3.560537815093994, 3.5999999046325684, 3.6601271629333496, 3.700000047683716, 3.7595760822296143, 3.799999952316284, 3.855806827545166, 3.9000000953674316, 3.954608917236328, 4.0, 4.057262420654297, 4.099999904632568, 4.156745433807373, 4.199999809265137, 4.253383159637451, 4.300000190734863, 4.35998010635376, 4.400000095367432, 4.462804794311523, 4.5, 4.561257839202881, 4.599999904632568, 4.660651206970215, 4.699999809265137, 4.760446548461914, 4.800000190734863, 4.86027193069458, 4.900000095367432], \"y\": [0.10000000149011612, 0.10000002384185791, 0.10000250488519669, 0.1002538651227951, 0.12389933317899704, 0.27116459608078003, 0.4106321334838867, 0.6582443714141846, 0.8459569215774536, 1.0878918170928955, 1.267665147781372, 1.4578335285186768, 1.6030490398406982, 1.7335808277130127, 1.8310751914978027, 1.906559944152832, 1.951622724533081, 1.9756815433502197, 1.9757875204086304, 1.9440884590148926, 1.8940495252609253, 1.8194599151611328, 1.7069406509399414, 1.614018440246582, 1.4415563344955444, 1.3438948392868042, 1.1071535348892212, 1.0286041498184204, 0.7249352335929871, 0.6911814212799072, 0.4677545726299286, 0.35896041989326477, 0.17776606976985931, 0.06159373000264168, -0.057878825813531876, -0.17790177464485168, -0.280163437128067, -0.35033732652664185, -0.4184938967227936, -0.45772838592529297, -0.49172139167785645, -0.5074180364608765, -0.5091835856437683, -0.5095503926277161, -0.5086809992790222, -0.4881984293460846, -0.47149765491485596, -0.42953234910964966, -0.40614762902259827, -0.35397711396217346, -0.3229060769081116, -0.2663375437259674, -0.23159034550189972, -0.175735741853714, -0.1409517377614975, -0.08990611135959625, -0.05806949362158775, -0.015394511632621288, 0.0120461480692029, 0.03654969856142998, 0.0665222555398941, 0.09005831927061081, 0.10440473258495331, 0.11875525861978531, 0.12627911567687988, 0.1320732831954956, 0.13385716080665588, 0.1338566690683365, 0.12956634163856506, 0.12182359397411346, 0.11622577905654907, 0.10468626022338867, 0.09676790982484818, 0.08313193172216415, 0.0739639475941658, 0.05958259478211403, 0.05029294639825821, 0.0364895835518837, 0.027765611186623573, 0.015515598468482494, 0.007880082353949547, -0.0016891954001039267, -0.008385519497096539, -0.01554870791733265, -0.020546553656458855, -0.025617141276597977, -0.028526199981570244, -0.03128713741898537, -0.032599691301584244, -0.033340565860271454, -0.03328045830130577, -0.032331667840480804, -0.03123476356267929, -0.028882017359137535, -0.02719881944358349, -0.024057520553469658, -0.021907661110162735, -0.018373170867562294, -0.016038058325648308, -0.012455496937036514, -0.010171246714890003, -0.00683019682765007, -0.0047629717737436295]}, {\"type\": \"scatter\", \"x\": [0.0, 3.134171856800094e-05, 0.000344758911523968, 0.0034789307974278927, 0.03482064977288246, 0.10000000149011612, 0.13985200226306915, 0.20000000298023224, 0.24313610792160034, 0.30000001192092896, 0.3459392786026001, 0.4000000059604645, 0.44828325510025024, 0.5, 0.549048900604248, 0.6000000238418579, 0.6471068859100342, 0.699999988079071, 0.7316665053367615, 0.800000011920929, 0.848839282989502, 0.8999999761581421, 0.9591057896614075, 1.0, 1.0661823749542236, 1.100000023841858, 1.1760919094085693, 1.2000000476837158, 1.2900856733322144, 1.2999999523162842, 1.3664230108261108, 1.399999976158142, 1.4588183164596558, 1.5, 1.5465314388275146, 1.600000023841858, 1.6544588804244995, 1.7000000476837158, 1.7564139366149902, 1.7999999523162842, 1.8552968502044678, 1.899999976158142, 1.9086928367614746, 1.995620608329773, 2.0, 2.0651087760925293, 2.0999999046325684, 2.1679162979125977, 2.200000047683716, 2.2643187046051025, 2.299999952316284, 2.3622753620147705, 2.4000000953674316, 2.4609198570251465, 2.5, 2.5599567890167236, 2.5999999046325684, 2.658273935317993, 2.700000047683716, 2.7414286136627197, 2.799999952316284, 2.8567638397216797, 2.9000000953674316, 2.9570577144622803, 3.0, 3.055192470550537, 3.0999999046325684, 3.115835428237915, 3.200000047683716, 3.2643723487854004, 3.299999952316284, 3.361999988555908, 3.4000000953674316, 3.4607455730438232, 3.5, 3.560537815093994, 3.5999999046325684, 3.6601271629333496, 3.700000047683716, 3.7595760822296143, 3.799999952316284, 3.855806827545166, 3.9000000953674316, 3.954608917236328, 4.0, 4.057262420654297, 4.099999904632568, 4.156745433807373, 4.199999809265137, 4.253383159637451, 4.300000190734863, 4.35998010635376, 4.400000095367432, 4.462804794311523, 4.5, 4.561257839202881, 4.599999904632568, 4.660651206970215, 4.699999809265137, 4.760446548461914, 4.800000190734863, 4.86027193069458, 4.900000095367432], \"y\": [0.0, -0.00047696050023660064, -0.005241624545305967, -0.05239465460181236, -0.4750312864780426, -1.0732145309448242, -1.3658907413482666, -1.4266964197158813, -1.4918276071548462, -1.2610961198806763, -1.1888247728347778, -0.9181815981864929, -0.8057374358177185, -0.5806838274002075, -0.4735485911369324, -0.2960984408855438, -0.20682618021965027, -0.056814998388290405, -0.004111845046281815, 0.1605043262243271, 0.24902422726154327, 0.37584468722343445, 0.49036747217178345, 0.5945215225219727, 0.719078779220581, 0.800261914730072, 0.9147647023200989, 0.958302915096283, 1.0218143463134766, 1.027588129043579, 1.0103672742843628, 0.9773168563842773, 0.9081929326057434, 0.8148510456085205, 0.737052321434021, 0.5932271480560303, 0.4892919659614563, 0.36838051676750183, 0.26833397150039673, 0.16925683617591858, 0.08576230704784393, 0.004254425410181284, -0.005837608128786087, -0.11964526027441025, -0.1261206418275833, -0.18791498243808746, -0.2228027880191803, -0.2673403024673462, -0.2864595353603363, -0.3103775382041931, -0.31800583004951477, -0.3246007263660431, -0.319794625043869, -0.3121088147163391, -0.2963831424713135, -0.2779652178287506, -0.2542911469936371, -0.229549840092659, -0.20089678466320038, -0.1822938770055771, -0.1431514024734497, -0.11530812829732895, -0.08674833178520203, -0.06057941913604736, -0.03583654761314392, -0.013956714421510696, 0.006882237270474434, 0.01183605007827282, 0.039971642196178436, 0.05508388951420784, 0.06297485530376434, 0.07215293496847153, 0.07622767984867096, 0.08047585934400558, 0.08079439401626587, 0.08083134889602661, 0.0780622735619545, 0.07488451153039932, 0.06983759254217148, 0.06442860513925552, 0.057918351143598557, 0.05168527364730835, 0.04401671886444092, 0.03744218125939369, 0.029646722599864006, 0.022754700854420662, 0.016005277633666992, 0.009812762960791588, 0.00401520449668169, -0.0008862651302479208, -0.005751410033553839, -0.01006381306797266, -0.013014896772801876, -0.01614067144691944, -0.017737234011292458, -0.01949186623096466, -0.02008945308625698, -0.02068142034113407, -0.020391467958688736, -0.020016837865114212, -0.019034357741475105, -0.017947109416127205, -0.016502054408192635]}, {\"type\": \"scatter\", \"x\": [0.0, 3.134171856800094e-05, 0.000344758911523968, 0.0034789307974278927, 0.03482064977288246, 0.10000000149011612, 0.13985200226306915, 0.20000000298023224, 0.24313610792160034, 0.30000001192092896, 0.3459392786026001, 0.4000000059604645, 0.44828325510025024, 0.5, 0.549048900604248, 0.6000000238418579, 0.6471068859100342, 0.699999988079071, 0.7316665053367615, 0.800000011920929, 0.848839282989502, 0.8999999761581421, 0.9591057896614075, 1.0, 1.0661823749542236, 1.100000023841858, 1.1760919094085693, 1.2000000476837158, 1.2900856733322144, 1.2999999523162842, 1.3664230108261108, 1.399999976158142, 1.4588183164596558, 1.5, 1.5465314388275146, 1.600000023841858, 1.6544588804244995, 1.7000000476837158, 1.7564139366149902, 1.7999999523162842, 1.8552968502044678, 1.899999976158142, 1.9086928367614746, 1.995620608329773, 2.0, 2.0651087760925293, 2.0999999046325684, 2.1679162979125977, 2.200000047683716, 2.2643187046051025, 2.299999952316284, 2.3622753620147705, 2.4000000953674316, 2.4609198570251465, 2.5, 2.5599567890167236, 2.5999999046325684, 2.658273935317993, 2.700000047683716, 2.7414286136627197, 2.799999952316284, 2.8567638397216797, 2.9000000953674316, 2.9570577144622803, 3.0, 3.055192470550537, 3.0999999046325684, 3.115835428237915, 3.200000047683716, 3.2643723487854004, 3.299999952316284, 3.361999988555908, 3.4000000953674316, 3.4607455730438232, 3.5, 3.560537815093994, 3.5999999046325684, 3.6601271629333496, 3.700000047683716, 3.7595760822296143, 3.799999952316284, 3.855806827545166, 3.9000000953674316, 3.954608917236328, 4.0, 4.057262420654297, 4.099999904632568, 4.156745433807373, 4.199999809265137, 4.253383159637451, 4.300000190734863, 4.35998010635376, 4.400000095367432, 4.462804794311523, 4.5, 4.561257839202881, 4.599999904632568, 4.660651206970215, 4.699999809265137, 4.760446548461914, 4.800000190734863, 4.86027193069458, 4.900000095367432], \"y\": [0.0, 0.0013235664227977395, 0.014546054415404797, 0.145454540848732, 1.3240740299224854, 3.0271408557891846, 3.880053997039795, 4.161403656005859, 4.435652256011963, 3.9259588718414307, 3.818722724914551, 3.1227478981018066, 2.8336174488067627, 2.153106689453125, 1.7812508344650269, 1.138648271560669, 0.7490731477737427, 0.12774811685085297, -0.12834705412387848, -0.8360118865966797, -1.2239470481872559, -1.7059823274612427, -2.1126694679260254, -2.4388437271118164, -2.7852368354797363, -2.9947900772094727, -3.2396082878112793, -3.332815170288086, -3.402048110961914, -3.406961679458618, -3.2950658798217773, -3.178192377090454, -2.9506616592407227, -2.6753573417663574, -2.4399213790893555, -2.023897171020508, -1.711324691772461, -1.356120228767395, -1.045824408531189, -0.7453369498252869, -0.47600194811820984, -0.220159113407135, -0.18596762418746948, 0.18819808959960938, 0.20888207852840424, 0.42083340883255005, 0.5369328260421753, 0.6949537396430969, 0.7620524168014526, 0.8532841205596924, 0.886229932308197, 0.9216543436050415, 0.9172140955924988, 0.9068121910095215, 0.8692485690116882, 0.8240254521369934, 0.7617285251617432, 0.6947502493858337, 0.6161656975746155, 0.5633595585823059, 0.45292797684669495, 0.3714650869369507, 0.28912070393562317, 0.21059131622314453, 0.13774831593036652, 0.0705108568072319, 0.007796951569616795, -0.0078878877684474, -0.09544633328914642, -0.1443537175655365, -0.1697208285331726, -0.2008843719959259, -0.21530140936374664, -0.23141683638095856, -0.2347756326198578, -0.23787006735801697, -0.23188531398773193, -0.22476035356521606, -0.21170663833618164, -0.1972353607416153, -0.17943887412548065, -0.16175633668899536, -0.140138179063797, -0.12083994597196579, -0.09836533665657043, -0.07765886187553406, -0.05782368779182434, -0.03881070762872696, -0.02143709361553192, -0.006046851631253958, 0.008882028050720692, 0.022752057760953903, 0.03209185227751732, 0.042523324489593506, 0.04789026081562042, 0.05416867509484291, 0.05662376061081886, 0.05931704118847847, 0.059116218239068985, 0.05877508595585823, 0.056446969509124756, 0.0537986196577549, 0.04999224469065666]}],\n",
       "                        {\"template\": {\"data\": {\"bar\": [{\"error_x\": {\"color\": \"#2a3f5f\"}, \"error_y\": {\"color\": \"#2a3f5f\"}, \"marker\": {\"line\": {\"color\": \"#E5ECF6\", \"width\": 0.5}}, \"type\": \"bar\"}], \"barpolar\": [{\"marker\": {\"line\": {\"color\": \"#E5ECF6\", \"width\": 0.5}}, \"type\": \"barpolar\"}], \"carpet\": [{\"aaxis\": {\"endlinecolor\": \"#2a3f5f\", \"gridcolor\": \"white\", \"linecolor\": \"white\", \"minorgridcolor\": \"white\", \"startlinecolor\": \"#2a3f5f\"}, \"baxis\": {\"endlinecolor\": \"#2a3f5f\", \"gridcolor\": \"white\", \"linecolor\": \"white\", \"minorgridcolor\": \"white\", \"startlinecolor\": \"#2a3f5f\"}, \"type\": \"carpet\"}], \"choropleth\": [{\"colorbar\": {\"outlinewidth\": 0, \"ticks\": \"\"}, \"type\": \"choropleth\"}], \"contour\": [{\"colorbar\": {\"outlinewidth\": 0, \"ticks\": \"\"}, \"colorscale\": [[0.0, \"#0d0887\"], [0.1111111111111111, \"#46039f\"], [0.2222222222222222, \"#7201a8\"], [0.3333333333333333, \"#9c179e\"], [0.4444444444444444, \"#bd3786\"], [0.5555555555555556, \"#d8576b\"], [0.6666666666666666, \"#ed7953\"], [0.7777777777777778, \"#fb9f3a\"], [0.8888888888888888, \"#fdca26\"], [1.0, \"#f0f921\"]], \"type\": \"contour\"}], \"contourcarpet\": [{\"colorbar\": {\"outlinewidth\": 0, \"ticks\": \"\"}, \"type\": \"contourcarpet\"}], \"heatmap\": [{\"colorbar\": {\"outlinewidth\": 0, \"ticks\": \"\"}, \"colorscale\": [[0.0, \"#0d0887\"], [0.1111111111111111, \"#46039f\"], [0.2222222222222222, \"#7201a8\"], [0.3333333333333333, \"#9c179e\"], [0.4444444444444444, \"#bd3786\"], [0.5555555555555556, \"#d8576b\"], [0.6666666666666666, \"#ed7953\"], [0.7777777777777778, \"#fb9f3a\"], [0.8888888888888888, \"#fdca26\"], [1.0, \"#f0f921\"]], \"type\": \"heatmap\"}], \"heatmapgl\": [{\"colorbar\": {\"outlinewidth\": 0, \"ticks\": \"\"}, \"colorscale\": [[0.0, \"#0d0887\"], [0.1111111111111111, \"#46039f\"], [0.2222222222222222, \"#7201a8\"], [0.3333333333333333, \"#9c179e\"], [0.4444444444444444, \"#bd3786\"], [0.5555555555555556, \"#d8576b\"], [0.6666666666666666, \"#ed7953\"], [0.7777777777777778, \"#fb9f3a\"], [0.8888888888888888, \"#fdca26\"], [1.0, \"#f0f921\"]], \"type\": \"heatmapgl\"}], \"histogram\": [{\"marker\": {\"colorbar\": {\"outlinewidth\": 0, \"ticks\": \"\"}}, \"type\": \"histogram\"}], \"histogram2d\": [{\"colorbar\": {\"outlinewidth\": 0, \"ticks\": \"\"}, \"colorscale\": [[0.0, \"#0d0887\"], [0.1111111111111111, \"#46039f\"], [0.2222222222222222, \"#7201a8\"], [0.3333333333333333, \"#9c179e\"], [0.4444444444444444, \"#bd3786\"], [0.5555555555555556, \"#d8576b\"], [0.6666666666666666, \"#ed7953\"], [0.7777777777777778, \"#fb9f3a\"], [0.8888888888888888, \"#fdca26\"], [1.0, \"#f0f921\"]], \"type\": \"histogram2d\"}], \"histogram2dcontour\": [{\"colorbar\": {\"outlinewidth\": 0, \"ticks\": \"\"}, \"colorscale\": [[0.0, \"#0d0887\"], [0.1111111111111111, \"#46039f\"], [0.2222222222222222, \"#7201a8\"], [0.3333333333333333, \"#9c179e\"], [0.4444444444444444, \"#bd3786\"], [0.5555555555555556, \"#d8576b\"], [0.6666666666666666, \"#ed7953\"], [0.7777777777777778, \"#fb9f3a\"], [0.8888888888888888, \"#fdca26\"], [1.0, \"#f0f921\"]], \"type\": \"histogram2dcontour\"}], \"mesh3d\": [{\"colorbar\": {\"outlinewidth\": 0, \"ticks\": \"\"}, \"type\": \"mesh3d\"}], \"parcoords\": [{\"line\": {\"colorbar\": {\"outlinewidth\": 0, \"ticks\": \"\"}}, \"type\": \"parcoords\"}], \"pie\": [{\"automargin\": true, \"type\": \"pie\"}], \"scatter\": [{\"marker\": {\"colorbar\": {\"outlinewidth\": 0, \"ticks\": \"\"}}, \"type\": \"scatter\"}], \"scatter3d\": [{\"line\": {\"colorbar\": {\"outlinewidth\": 0, \"ticks\": \"\"}}, \"marker\": {\"colorbar\": {\"outlinewidth\": 0, \"ticks\": \"\"}}, \"type\": \"scatter3d\"}], \"scattercarpet\": [{\"marker\": {\"colorbar\": {\"outlinewidth\": 0, \"ticks\": \"\"}}, \"type\": \"scattercarpet\"}], \"scattergeo\": [{\"marker\": {\"colorbar\": {\"outlinewidth\": 0, \"ticks\": \"\"}}, \"type\": \"scattergeo\"}], \"scattergl\": [{\"marker\": {\"colorbar\": {\"outlinewidth\": 0, \"ticks\": \"\"}}, \"type\": \"scattergl\"}], \"scattermapbox\": [{\"marker\": {\"colorbar\": {\"outlinewidth\": 0, \"ticks\": \"\"}}, \"type\": \"scattermapbox\"}], \"scatterpolar\": [{\"marker\": {\"colorbar\": {\"outlinewidth\": 0, \"ticks\": \"\"}}, \"type\": \"scatterpolar\"}], \"scatterpolargl\": [{\"marker\": {\"colorbar\": {\"outlinewidth\": 0, \"ticks\": \"\"}}, \"type\": \"scatterpolargl\"}], \"scatterternary\": [{\"marker\": {\"colorbar\": {\"outlinewidth\": 0, \"ticks\": \"\"}}, \"type\": \"scatterternary\"}], \"surface\": [{\"colorbar\": {\"outlinewidth\": 0, \"ticks\": \"\"}, \"colorscale\": [[0.0, \"#0d0887\"], [0.1111111111111111, \"#46039f\"], [0.2222222222222222, \"#7201a8\"], [0.3333333333333333, \"#9c179e\"], [0.4444444444444444, \"#bd3786\"], [0.5555555555555556, \"#d8576b\"], [0.6666666666666666, \"#ed7953\"], [0.7777777777777778, \"#fb9f3a\"], [0.8888888888888888, \"#fdca26\"], [1.0, \"#f0f921\"]], \"type\": \"surface\"}], \"table\": [{\"cells\": {\"fill\": {\"color\": \"#EBF0F8\"}, \"line\": {\"color\": \"white\"}}, \"header\": {\"fill\": {\"color\": \"#C8D4E3\"}, \"line\": {\"color\": \"white\"}}, \"type\": \"table\"}]}, \"layout\": {\"annotationdefaults\": {\"arrowcolor\": \"#2a3f5f\", \"arrowhead\": 0, \"arrowwidth\": 1}, \"coloraxis\": {\"colorbar\": {\"outlinewidth\": 0, \"ticks\": \"\"}}, \"colorscale\": {\"diverging\": [[0, \"#8e0152\"], [0.1, \"#c51b7d\"], [0.2, \"#de77ae\"], [0.3, \"#f1b6da\"], [0.4, \"#fde0ef\"], [0.5, \"#f7f7f7\"], [0.6, \"#e6f5d0\"], [0.7, \"#b8e186\"], [0.8, \"#7fbc41\"], [0.9, \"#4d9221\"], [1, \"#276419\"]], \"sequential\": [[0.0, \"#0d0887\"], [0.1111111111111111, \"#46039f\"], [0.2222222222222222, \"#7201a8\"], [0.3333333333333333, \"#9c179e\"], [0.4444444444444444, \"#bd3786\"], [0.5555555555555556, \"#d8576b\"], [0.6666666666666666, \"#ed7953\"], [0.7777777777777778, \"#fb9f3a\"], [0.8888888888888888, \"#fdca26\"], [1.0, \"#f0f921\"]], \"sequentialminus\": [[0.0, \"#0d0887\"], [0.1111111111111111, \"#46039f\"], [0.2222222222222222, \"#7201a8\"], [0.3333333333333333, \"#9c179e\"], [0.4444444444444444, \"#bd3786\"], [0.5555555555555556, \"#d8576b\"], [0.6666666666666666, \"#ed7953\"], [0.7777777777777778, \"#fb9f3a\"], [0.8888888888888888, \"#fdca26\"], [1.0, \"#f0f921\"]]}, \"colorway\": [\"#636efa\", \"#EF553B\", \"#00cc96\", \"#ab63fa\", \"#FFA15A\", \"#19d3f3\", \"#FF6692\", \"#B6E880\", \"#FF97FF\", \"#FECB52\"], \"font\": {\"color\": \"#2a3f5f\"}, \"geo\": {\"bgcolor\": \"white\", \"lakecolor\": \"white\", \"landcolor\": \"#E5ECF6\", \"showlakes\": true, \"showland\": true, \"subunitcolor\": \"white\"}, \"hoverlabel\": {\"align\": \"left\"}, \"hovermode\": \"closest\", \"mapbox\": {\"style\": \"light\"}, \"paper_bgcolor\": \"white\", \"plot_bgcolor\": \"#E5ECF6\", \"polar\": {\"angularaxis\": {\"gridcolor\": \"white\", \"linecolor\": \"white\", \"ticks\": \"\"}, \"bgcolor\": \"#E5ECF6\", \"radialaxis\": {\"gridcolor\": \"white\", \"linecolor\": \"white\", \"ticks\": \"\"}}, \"scene\": {\"xaxis\": {\"backgroundcolor\": \"#E5ECF6\", \"gridcolor\": \"white\", \"gridwidth\": 2, \"linecolor\": \"white\", \"showbackground\": true, \"ticks\": \"\", \"zerolinecolor\": \"white\"}, \"yaxis\": {\"backgroundcolor\": \"#E5ECF6\", \"gridcolor\": \"white\", \"gridwidth\": 2, \"linecolor\": \"white\", \"showbackground\": true, \"ticks\": \"\", \"zerolinecolor\": \"white\"}, \"zaxis\": {\"backgroundcolor\": \"#E5ECF6\", \"gridcolor\": \"white\", \"gridwidth\": 2, \"linecolor\": \"white\", \"showbackground\": true, \"ticks\": \"\", \"zerolinecolor\": \"white\"}}, \"shapedefaults\": {\"line\": {\"color\": \"#2a3f5f\"}}, \"ternary\": {\"aaxis\": {\"gridcolor\": \"white\", \"linecolor\": \"white\", \"ticks\": \"\"}, \"baxis\": {\"gridcolor\": \"white\", \"linecolor\": \"white\", \"ticks\": \"\"}, \"bgcolor\": \"#E5ECF6\", \"caxis\": {\"gridcolor\": \"white\", \"linecolor\": \"white\", \"ticks\": \"\"}}, \"title\": {\"x\": 0.05}, \"xaxis\": {\"automargin\": true, \"gridcolor\": \"white\", \"linecolor\": \"white\", \"ticks\": \"\", \"title\": {\"standoff\": 15}, \"zerolinecolor\": \"white\", \"zerolinewidth\": 2}, \"yaxis\": {\"automargin\": true, \"gridcolor\": \"white\", \"linecolor\": \"white\", \"ticks\": \"\", \"title\": {\"standoff\": 15}, \"zerolinecolor\": \"white\", \"zerolinewidth\": 2}}}},\n",
       "                        {\"responsive\": true}\n",
       "                    ).then(function(){\n",
       "                            \n",
       "var gd = document.getElementById('97684cb9-5968-435b-a9bf-f8214d4766cb');\n",
       "var x = new MutationObserver(function (mutations, observer) {{\n",
       "        var display = window.getComputedStyle(gd).display;\n",
       "        if (!display || display === 'none') {{\n",
       "            console.log([gd, 'removed!']);\n",
       "            Plotly.purge(gd);\n",
       "            observer.disconnect();\n",
       "        }}\n",
       "}});\n",
       "\n",
       "// Listen for the removal of the full notebook cells\n",
       "var notebookContainer = gd.closest('#notebook-container');\n",
       "if (notebookContainer) {{\n",
       "    x.observe(notebookContainer, {childList: true});\n",
       "}}\n",
       "\n",
       "// Listen for the clearing of the current output cell\n",
       "var outputEl = gd.closest('.output');\n",
       "if (outputEl) {{\n",
       "    x.observe(outputEl, {childList: true});\n",
       "}}\n",
       "\n",
       "                        })\n",
       "                };\n",
       "                });\n",
       "            </script>\n",
       "        </div>"
      ]
     },
     "metadata": {},
     "output_type": "display_data"
    }
   ],
   "source": [
    "# ctrl = lambda x: (torch.zeros(1), torch.zeros(1), None)\n",
    "\n",
    "Q = torch.diag(torch.tensor([1., 1., 1., 1.]))\n",
    "R = torch.diag(torch.tensor([1.]))\n",
    "x_nom = torch.tensor([np.pi, 0., 0., 0.], dtype=vf.dtype)\n",
    "u_nom = torch.zeros(vf.u_dim[0], dtype=vf.dtype)\n",
    "ctrl, S = controllers.get_lqr_controller(sys.dx, x_nom, u_nom, Q, R, vf.u_lo[0], vf.u_up[0])\n",
    "S = torch.tensor(S, dtype=vf.dtype)\n",
    "lqr_model = value_approximation.QuadraticModel(vf.x_dim[0], vf.dtype, Q=S, q=-2.*S@x_nom, c=x_nom@S@x_nom)\n",
    "\n",
    "# ctrl = controllers.get_sampling_infinite_horizon_controller(sys.dx,\n",
    "#                                                             vf.step_cost,\n",
    "#                                                             lqr_model,\n",
    "#                                                             vf.x_lo[0],\n",
    "#                                                             vf.x_up[0],\n",
    "#                                                             vf.u_lo[0],\n",
    "#                                                             vf.u_up[0],\n",
    "#                                                             vf.dt_lo,\n",
    "#                                                             500)\n",
    "\n",
    "vf_ctrl, sys_ctrl = acrobot_utils.get_value_function(5)\n",
    "ctrl = controllers.get_limited_lookahead_controller(vf_ctrl, lqr_model)\n",
    "# ctrl = controllers.get_limited_lookahead_controller(vf_ctrl)\n",
    "\n",
    "x0 = torch.tensor([np.pi+.1, .1, 0., 0.], dtype=vf.dtype)\n",
    "x_traj_sim, t_traj_sim = controllers.sim_ctrl(x0, 1, sys.dx, ctrl, .1, 50)\n",
    "\n",
    "fig = go.Figure()\n",
    "for i in range(4):\n",
    "    fig.add_trace(go.Scatter(\n",
    "        x=t_traj_sim,\n",
    "        y=x_traj_sim[i,:]\n",
    "    ))\n",
    "fig.show()"
   ]
  },
  {
   "cell_type": "code",
   "execution_count": 25,
   "metadata": {},
   "outputs": [],
   "source": [
    "x0_lo = torch.tensor([np.pi-.1, -1., -2., -2.], dtype=vf.dtype)\n",
    "x0_up = torch.tensor([np.pi+.1, 1., 2., 2.], dtype=vf.dtype)\n",
    "\n",
    "# file options\n",
    "sys_name = 'acrobot'\n",
    "x_samples_file = '../data/validation_' + sys_name + '_x.pt'\n",
    "v_samples_file = '../data/validation_' + sys_name + '_v.pt'\n",
    "model_file = '../data/' + sys_name + '.pt'"
   ]
  },
  {
   "cell_type": "code",
   "execution_count": 26,
   "metadata": {},
   "outputs": [],
   "source": [
    "opt = dict(\n",
    "    max_buffer_size = None,\n",
    "    batch_size = 100,\n",
    "    nn_width = None,\n",
    "    nn_depth = None,\n",
    "    learning_rate = .001,\n",
    "    \n",
    "    init_num_samples = 10,\n",
    "    init_num_trainig_step = 10000,\n",
    "    \n",
    "    num_generations = 10,\n",
    "    num_samples_per_generation = 10,\n",
    "    num_train_step_per_gen = 1000,\n",
    "    \n",
    "    adv_max_iter = 2,\n",
    "    adv_conv_tol = 1e-5,\n",
    "    adv_learning_rate = .2,\n",
    "    \n",
    "    num_samples_validation = 1000,\n",
    ")"
   ]
  },
  {
   "cell_type": "code",
   "execution_count": null,
   "metadata": {},
   "outputs": [],
   "source": [
    "samples_gen = samples_generator.RandomSampleGenerator(vf, x0_lo, x0_up)\n",
    "samples_buff = samples_buffer.SamplesBuffer(vf.x_dim[0], 1, vf.dtype, max_size=opt['max_buffer_size'])"
   ]
  },
  {
   "cell_type": "code",
   "execution_count": null,
   "metadata": {},
   "outputs": [],
   "source": [
    "vf_approx = value_approximation.InfiniteHorizonValueFunctionApproximation(vf.dtype,\n",
    "                                                                          vf.x_dim[0],\n",
    "                                                                          learning_rate=opt['learning_rate'],\n",
    "                                                                          nn_width=opt['nn_width'],\n",
    "                                                                          nn_depth=opt['nn_depth'])\n",
    "train_log = training_log.TrainingLog(1, prefix=\"baseline\")"
   ]
  },
  {
   "cell_type": "code",
   "execution_count": null,
   "metadata": {},
   "outputs": [],
   "source": [
    "# warm_start_radius = torch.tensor([.025, .25, .5, .5], dtype=vf.dtype)\n",
    "warm_start_radius = None\n",
    "x_samples_validation, v_labels_validation = samples_gen.generate_samples(opt['num_samples_validation'],\n",
    "                                                                         show_progress=True,\n",
    "                                                                         warm_start_radius=warm_start_radius)"
   ]
  },
  {
   "cell_type": "code",
   "execution_count": null,
   "metadata": {},
   "outputs": [],
   "source": [
    "torch.save(x_samples_validation, x_samples_file)\n",
    "torch.save(v_labels_validation, v_samples_file)"
   ]
  },
  {
   "cell_type": "code",
   "execution_count": null,
   "metadata": {},
   "outputs": [],
   "source": [
    "x_samples_validation = torch.load(x_samples_file)\n",
    "v_labels_validation = torch.load(v_samples_file)"
   ]
  },
  {
   "cell_type": "code",
   "execution_count": null,
   "metadata": {},
   "outputs": [],
   "source": [
    "# (x_samples, v_labels) = samples_gen.generate_samples(opt['init_num_samples'],\n",
    "#                                                      show_progress=True)\n",
    "# samples_buff.add_samples(x_samples, v_labels)\n",
    "\n",
    "# TEMPORARY\n",
    "samples_buff.add_samples(x_samples_validation, v_labels_validation)"
   ]
  },
  {
   "cell_type": "code",
   "execution_count": null,
   "metadata": {},
   "outputs": [],
   "source": [
    "for train_step_i in range(opt['init_num_trainig_step']):\n",
    "    x, v = samples_buff.get_random_samples(opt['batch_size'])\n",
    "    losses = vf_approx.train_step(x, v)\n",
    "    train_log.add_train_loss(losses)"
   ]
  },
  {
   "cell_type": "code",
   "execution_count": null,
   "metadata": {},
   "outputs": [],
   "source": [
    "samples_buff_adv = copy.deepcopy(samples_buff)\n",
    "samples_gen_adv = samples_generator.AdversarialSampleGenerator(vf, x0_lo, x0_up, \n",
    "                                                               max_iter=opt['adv_max_iter'],\n",
    "                                                               conv_tol=opt['adv_conv_tol'],\n",
    "                                                               learning_rate=opt['adv_learning_rate'])\n",
    "vf_approx_adv = copy.deepcopy(vf_approx)\n",
    "train_log_adv = training_log.TrainingLog.get_copy(train_log,\n",
    "                                                  prefix=\"adversarial\",\n",
    "                                                  keep_writer=True)"
   ]
  },
  {
   "cell_type": "code",
   "execution_count": null,
   "metadata": {},
   "outputs": [],
   "source": [
    "validation_losses = vf_approx_adv.validation_loss(x_samples_validation, v_labels_validation)\n",
    "train_log_adv.add_validation_loss(validation_losses)\n",
    "validation_losses = vf_approx.validation_loss(x_samples_validation, v_labels_validation)\n",
    "train_log.add_validation_loss(validation_losses)\n",
    "for gen_i in range(opt['num_generations']):\n",
    "    # adverserial samples\n",
    "    (x_samples, v_labels) = samples_gen_adv.generate_samples(opt['num_samples_per_generation'], vf_approx_adv)\n",
    "    samples_buff_adv.add_samples(x_samples, v_labels)\n",
    "    # random samples\n",
    "    (x_samples, v_labels) = samples_gen.generate_samples(opt['num_samples_per_generation'])\n",
    "    samples_buff.add_samples(x_samples, v_labels)\n",
    "    for train_step_i in range(opt['num_train_step_per_gen']):\n",
    "        samples_indices = samples_buff_adv.get_random_sample_indices(opt['batch_size'])\n",
    "        x, v = samples_buff_adv.get_samples_from_indices(samples_indices)\n",
    "        losses = vf_approx_adv.train_step(x, v)\n",
    "        train_log_adv.add_train_loss(losses)\n",
    "        x, v = samples_buff.get_samples_from_indices(samples_indices)\n",
    "        losses = vf_approx.train_step(x, v)\n",
    "        train_log.add_train_loss(losses)\n",
    "    validation_losses = vf_approx_adv.validation_loss(x_samples_validation, v_labels_validation)\n",
    "    train_log_adv.add_validation_loss(validation_losses)\n",
    "    validation_losses = vf_approx.validation_loss(x_samples_validation, v_labels_validation)\n",
    "    train_log.add_validation_loss(validation_losses)"
   ]
  },
  {
   "cell_type": "code",
   "execution_count": null,
   "metadata": {},
   "outputs": [],
   "source": [
    "dt_ctrl = .2\n",
    "num_samples = 1000\n",
    "u_lo = vf.u_lo[0]\n",
    "u_up = vf.u_up[0]\n",
    "x_lo = torch.tensor([np.pi-.5, -5., -10., -10.], dtype=vf.dtype)\n",
    "x_up = torch.tensor([np.pi+.5, 5., 10., 10.], dtype=vf.dtype)\n",
    "model = vf_approx.model\n",
    "# model = vf_approx_adv.model\n",
    "\n",
    "ctrl = controllers.get_sampling_infinite_horizon_controller(sys.dx, vf.step_cost, model,\n",
    "                                                            x_lo, x_up, u_lo, u_up,\n",
    "                                                            dt_ctrl, num_samples)\n",
    "\n",
    "# ctrl = controllers.get_optimal_controller(vf)\n",
    "\n",
    "x0 = torch.Tensor([np.pi+0., 0., 0., 0.]).double()\n",
    "x_traj_sim, t_traj_sim = controllers.sim_ctrl(x0, 1, sys.dx, ctrl, .1, 30)\n",
    "\n",
    "fig = go.Figure()\n",
    "for i in range(4):\n",
    "    fig.add_trace(go.Scatter(\n",
    "        x=t_traj_sim,\n",
    "        y=x_traj_sim[i,:]\n",
    "    ))\n",
    "fig.show()"
   ]
  },
  {
   "cell_type": "code",
   "execution_count": null,
   "metadata": {},
   "outputs": [],
   "source": [
    "Q = vf_approx.model.sqrtQ.t()@vf_approx.model.sqrtQ\n",
    "print(Q)"
   ]
  },
  {
   "cell_type": "code",
   "execution_count": null,
   "metadata": {},
   "outputs": [],
   "source": [
    "# controller params\n",
    "dt_ctrl = .1\n",
    "num_samples = 500\n",
    "\n",
    "# benchmark params\n",
    "x0 = torch.Tensor([np.pi, 0., 0., 0.]).type(vf.dtype)\n",
    "x0_eps = torch.Tensor([.1, .1, 0., 0.]).type(vf.dtype)\n",
    "x_goal = torch.Tensor([np.pi, 0., 0., 0.]).type(vf.dtype)\n",
    "num_breaks = [5, 5]\n",
    "dt_sim = .1\n",
    "N = 30"
   ]
  },
  {
   "cell_type": "code",
   "execution_count": null,
   "metadata": {},
   "outputs": [],
   "source": [
    "ctrl_baseline = controllers.get_sampling_infinite_horizon_controller(sys.dx, vf.step_cost, vf_approx.model, vf.u_lo[0], vf.u_up[0], dt_ctrl, num_samples)\n",
    "bench_baseline = controllers.benchmark_controller(vf.u_dim[0], sys.dx, ctrl_baseline, x0, x0_eps, num_breaks, x_goal, dt_sim, N)"
   ]
  },
  {
   "cell_type": "code",
   "execution_count": null,
   "metadata": {},
   "outputs": [],
   "source": [
    "ctrl_adv = controllers.get_sampling_infinite_horizon_controller(sys.dx, vf.step_cost, vf_approx_adv.model, vf.u_lo[0], vf.u_up[0], dt_ctrl, num_samples)\n",
    "bench_adv = controllers.benchmark_controller(vf.u_dim[0], sys.dx, ctrl_adv, x0, x0_eps, num_breaks, x_goal, dt_sim, N)"
   ]
  },
  {
   "cell_type": "code",
   "execution_count": null,
   "metadata": {},
   "outputs": [],
   "source": [
    "Q = torch.diag(torch.Tensor([1., 1., .1, .1]))\n",
    "R = torch.diag(torch.Tensor([.1]))\n",
    "x_nom = torch.Tensor([np.pi, 0., 0., 0.]).type(vf.dtype)\n",
    "u_nom = torch.zeros(vf.u_lo[0].shape[0]).type(vf.dtype)\n",
    "ctrl_lqr, S = controllers.get_lqr_controller(sys.dx, x_nom, u_nom, Q, R, vf.u_lo[0], vf.u_up[0])\n",
    "# bench_lqr = controllers.benchmark_controller(vf.u_dim[0], sys.dx, ctrl_lqr, x0, x0_eps, num_breaks, x_goal, dt_sim, N)\n",
    "print(S)"
   ]
  },
  {
   "cell_type": "code",
   "execution_count": null,
   "metadata": {},
   "outputs": [],
   "source": [
    "conv_thresh = 5.\n",
    "zmin = 0.\n",
    "zmax = 50.\n",
    "\n",
    "print(\"Baseline\")\n",
    "fig = go.Figure()\n",
    "fig.add_trace(go.Heatmap(\n",
    "    z = bench_baseline.detach().numpy(),\n",
    "    zmin = zmin,\n",
    "    zmax = zmax,\n",
    "    ))\n",
    "fig.show()\n",
    "\n",
    "print(\"Adversarial\")\n",
    "fig = go.Figure()\n",
    "fig.add_trace(go.Heatmap(\n",
    "    z = bench_adv.detach().numpy(),\n",
    "    zmin = zmin,\n",
    "    zmax = zmax,\n",
    "    ))\n",
    "fig.show()\n",
    "\n",
    "print(\"LQR\")\n",
    "fig = go.Figure()\n",
    "fig.add_trace(go.Heatmap(\n",
    "    z = bench_lqr.detach().numpy(),\n",
    "    zmin = zmin,\n",
    "    zmax = zmax,\n",
    "    ))\n",
    "fig.show()\n",
    "\n",
    "print(\"Baseline\")\n",
    "fig = go.Figure()\n",
    "fig.add_trace(go.Heatmap(\n",
    "    z = torch.Tensor(bench_baseline.detach().numpy() > conv_thresh).type(vf.dtype),\n",
    "    ))\n",
    "fig.show()\n",
    "\n",
    "print(\"Adversarial\")\n",
    "fig = go.Figure()\n",
    "fig.add_trace(go.Heatmap(\n",
    "    z = torch.Tensor(bench_adv.detach().numpy() > conv_thresh).type(vf.dtype),\n",
    "    ))\n",
    "fig.show()\n",
    "\n",
    "print(\"LQR\")\n",
    "fig = go.Figure()\n",
    "fig.add_trace(go.Heatmap(\n",
    "    z = torch.Tensor(bench_lqr.detach().numpy() > conv_thresh).type(vf.dtype),\n",
    "    ))\n",
    "fig.show()"
   ]
  }
 ],
 "metadata": {
  "kernelspec": {
   "display_name": "Python 3",
   "language": "python",
   "name": "python3"
  },
  "language_info": {
   "codemirror_mode": {
    "name": "ipython",
    "version": 3
   },
   "file_extension": ".py",
   "mimetype": "text/x-python",
   "name": "python",
   "nbconvert_exporter": "python",
   "pygments_lexer": "ipython3",
   "version": "3.7.5"
  }
 },
 "nbformat": 4,
 "nbformat_minor": 2
}
