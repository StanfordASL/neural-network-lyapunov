{
 "cells": [
  {
   "cell_type": "code",
   "execution_count": 92,
   "metadata": {},
   "outputs": [
    {
     "name": "stdout",
     "output_type": "stream",
     "text": [
      "The autoreload extension is already loaded. To reload it, use:\n",
      "  %reload_ext autoreload\n"
     ]
    }
   ],
   "source": [
    "%load_ext autoreload\n",
    "%autoreload 2"
   ]
  },
  {
   "cell_type": "code",
   "execution_count": 93,
   "metadata": {},
   "outputs": [
    {
     "data": {
      "text/html": [
       "        <script type=\"text/javascript\">\n",
       "        window.PlotlyConfig = {MathJaxConfig: 'local'};\n",
       "        if (window.MathJax) {MathJax.Hub.Config({SVG: {font: \"STIX-Web\"}});}\n",
       "        if (typeof require !== 'undefined') {\n",
       "        require.undef(\"plotly\");\n",
       "        requirejs.config({\n",
       "            paths: {\n",
       "                'plotly': ['https://cdn.plot.ly/plotly-latest.min']\n",
       "            }\n",
       "        });\n",
       "        require(['plotly'], function(Plotly) {\n",
       "            window._Plotly = Plotly;\n",
       "        });\n",
       "        }\n",
       "        </script>\n",
       "        "
      ]
     },
     "metadata": {},
     "output_type": "display_data"
    }
   ],
   "source": [
    "import sys\n",
    "sys.path.append(\"..\")\n",
    "sys.path.append(\".\")\n",
    "import torch\n",
    "import numpy as np\n",
    "import copy\n",
    "import plotly\n",
    "import plotly.graph_objs as go\n",
    "import pickle\n",
    "from datetime import datetime\n",
    "plotly.offline.init_notebook_mode(connected=True)\n",
    "\n",
    "import robust_value_approx.samples_generator as samples_generator\n",
    "import robust_value_approx.samples_buffer as samples_buffer\n",
    "import robust_value_approx.value_approximation as value_approximation\n",
    "import robust_value_approx.training_log as training_log\n",
    "import robust_value_approx.controllers as controllers\n",
    "\n",
    "import pendulum_utils\n",
    "import acrobot_utils"
   ]
  },
  {
   "cell_type": "markdown",
   "metadata": {},
   "source": [
    "# Acrobot"
   ]
  },
  {
   "cell_type": "code",
   "execution_count": 94,
   "metadata": {},
   "outputs": [],
   "source": [
    "vf, sys = acrobot_utils.get_value_function(25)\n",
    "V = vf.get_value_function()"
   ]
  },
  {
   "cell_type": "code",
   "execution_count": 95,
   "metadata": {},
   "outputs": [
    {
     "data": {
      "application/vnd.plotly.v1+json": {
       "config": {
        "plotlyServerURL": "https://plot.ly"
       },
       "data": [
        {
         "name": "theta1",
         "type": "scatter",
         "x": [
          0,
          0.20000000298023224,
          0.4000000059604645,
          0.6000000089406967,
          0.800000011920929,
          1.0000000149011612,
          1.2000000178813934,
          1.4000000208616257,
          1.600000023841858,
          1.8000000268220901,
          2.0000000298023224,
          2.2000000327825546,
          2.400000035762787,
          2.600000038743019,
          2.8000000417232513,
          3.0000000447034836,
          3.200000047683716,
          3.400000050663948,
          3.6000000536441803,
          3.8000000566244125,
          4.000000059604645,
          4.200000062584877,
          4.400000065565109,
          4.6000000685453415,
          4.800000071525574
         ],
         "y": [
          3.34159255027771,
          3.1845319271087646,
          2.9917759895324707,
          2.9465837478637695,
          2.8528246879577637,
          2.885587692260742,
          3.0300943851470947,
          3.1624040603637695,
          3.232468366622925,
          3.2132415771484375,
          3.118046522140503,
          3.015010118484497,
          2.9607489109039307,
          2.9545748233795166,
          2.972646474838257,
          2.998386859893799,
          3.0243442058563232,
          3.0476956367492676,
          3.0676519870758057,
          3.084386110305786,
          3.0985653400421143,
          3.1111466884613037,
          3.1233127117156982,
          3.1364591121673584,
          3.1506972312927246
         ]
        },
        {
         "name": "theta2",
         "type": "scatter",
         "x": [
          0,
          0.20000000298023224,
          0.4000000059604645,
          0.6000000089406967,
          0.800000011920929,
          1.0000000149011612,
          1.2000000178813934,
          1.4000000208616257,
          1.600000023841858,
          1.8000000268220901,
          2.0000000298023224,
          2.2000000327825546,
          2.400000035762787,
          2.600000038743019,
          2.8000000417232513,
          3.0000000447034836,
          3.200000047683716,
          3.400000050663948,
          3.6000000536441803,
          3.8000000566244125,
          4.000000059604645,
          4.200000062584877,
          4.400000065565109,
          4.6000000685453415,
          4.800000071525574
         ],
         "y": [
          -0.10000000149011612,
          0.9339245557785034,
          2.8116507530212402,
          4.476337432861328,
          5.500121116638184,
          5.705283164978027,
          5.382891654968262,
          4.889284133911133,
          4.324668884277344,
          3.7188212871551514,
          3.1024794578552246,
          2.5156397819519043,
          1.995405673980713,
          1.562328815460205,
          1.2168930768966675,
          0.9468646049499512,
          0.7372819185256958,
          0.5754722356796265,
          0.45162343978881836,
          0.3581446707248688,
          0.2891708016395569,
          0.24030530452728271,
          0.20854808390140533,
          0.19249272346496582,
          0.1967993527650833
         ]
        },
        {
         "name": "theta1_dot",
         "type": "scatter",
         "x": [
          0,
          0.20000000298023224,
          0.4000000059604645,
          0.6000000089406967,
          0.800000011920929,
          1.0000000149011612,
          1.2000000178813934,
          1.4000000208616257,
          1.600000023841858,
          1.8000000268220901,
          2.0000000298023224,
          2.2000000327825546,
          2.400000035762787,
          2.600000038743019,
          2.8000000417232513,
          3.0000000447034836,
          3.200000047683716,
          3.400000050663948,
          3.6000000536441803,
          3.8000000566244125,
          4.000000059604645,
          4.200000062584877,
          4.400000065565109,
          4.6000000685453415,
          4.800000071525574
         ],
         "y": [
          0.5,
          -2.070607900619507,
          0.14304813742637634,
          -0.5949701070785522,
          -0.3426207900047302,
          0.6702515482902527,
          0.7748156785964966,
          0.5482799410820007,
          0.15236513316631317,
          -0.3446342945098877,
          -0.6073152422904968,
          -0.4230492115020752,
          -0.11956238746643066,
          0.0578213632106781,
          0.12289392203092575,
          0.13451090455055237,
          0.12506262958049774,
          0.10845087468624115,
          0.09111174941062927,
          0.07623085379600525,
          0.06556161493062973,
          0.060250718146562576,
          0.06141042709350586,
          0.07005255669355392,
          0.07232969999313354
         ]
        },
        {
         "name": "theta2_dot",
         "type": "scatter",
         "x": [
          0,
          0.20000000298023224,
          0.4000000059604645,
          0.6000000089406967,
          0.800000011920929,
          1.0000000149011612,
          1.2000000178813934,
          1.4000000208616257,
          1.600000023841858,
          1.8000000268220901,
          2.0000000298023224,
          2.2000000327825546,
          2.400000035762787,
          2.600000038743019,
          2.8000000417232513,
          3.0000000447034836,
          3.200000047683716,
          3.400000050663948,
          3.6000000536441803,
          3.8000000566244125,
          4.000000059604645,
          4.200000062584877,
          4.400000065565109,
          4.6000000685453415,
          4.800000071525574
         ],
         "y": [
          1,
          9.339245796203613,
          9.438015937805176,
          7.208850383758545,
          3.0289883613586426,
          -0.9773675203323364,
          -2.246546745300293,
          -2.6895315647125244,
          -2.956620216369629,
          -3.1018569469451904,
          -3.061560869216919,
          -2.8068368434906006,
          -2.395503520965576,
          -1.9352644681930542,
          -1.5190925598144531,
          -1.1811925172805786,
          -0.914634644985199,
          -0.7034619450569153,
          -0.5350258946418762,
          -0.3997619152069092,
          -0.2899767756462097,
          -0.19867821037769318,
          -0.11889391392469406,
          -0.041659727692604065,
          0.08472596853971481
         ]
        }
       ],
       "layout": {
        "template": {
         "data": {
          "bar": [
           {
            "error_x": {
             "color": "#2a3f5f"
            },
            "error_y": {
             "color": "#2a3f5f"
            },
            "marker": {
             "line": {
              "color": "#E5ECF6",
              "width": 0.5
             }
            },
            "type": "bar"
           }
          ],
          "barpolar": [
           {
            "marker": {
             "line": {
              "color": "#E5ECF6",
              "width": 0.5
             }
            },
            "type": "barpolar"
           }
          ],
          "carpet": [
           {
            "aaxis": {
             "endlinecolor": "#2a3f5f",
             "gridcolor": "white",
             "linecolor": "white",
             "minorgridcolor": "white",
             "startlinecolor": "#2a3f5f"
            },
            "baxis": {
             "endlinecolor": "#2a3f5f",
             "gridcolor": "white",
             "linecolor": "white",
             "minorgridcolor": "white",
             "startlinecolor": "#2a3f5f"
            },
            "type": "carpet"
           }
          ],
          "choropleth": [
           {
            "colorbar": {
             "outlinewidth": 0,
             "ticks": ""
            },
            "type": "choropleth"
           }
          ],
          "contour": [
           {
            "colorbar": {
             "outlinewidth": 0,
             "ticks": ""
            },
            "colorscale": [
             [
              0,
              "#0d0887"
             ],
             [
              0.1111111111111111,
              "#46039f"
             ],
             [
              0.2222222222222222,
              "#7201a8"
             ],
             [
              0.3333333333333333,
              "#9c179e"
             ],
             [
              0.4444444444444444,
              "#bd3786"
             ],
             [
              0.5555555555555556,
              "#d8576b"
             ],
             [
              0.6666666666666666,
              "#ed7953"
             ],
             [
              0.7777777777777778,
              "#fb9f3a"
             ],
             [
              0.8888888888888888,
              "#fdca26"
             ],
             [
              1,
              "#f0f921"
             ]
            ],
            "type": "contour"
           }
          ],
          "contourcarpet": [
           {
            "colorbar": {
             "outlinewidth": 0,
             "ticks": ""
            },
            "type": "contourcarpet"
           }
          ],
          "heatmap": [
           {
            "colorbar": {
             "outlinewidth": 0,
             "ticks": ""
            },
            "colorscale": [
             [
              0,
              "#0d0887"
             ],
             [
              0.1111111111111111,
              "#46039f"
             ],
             [
              0.2222222222222222,
              "#7201a8"
             ],
             [
              0.3333333333333333,
              "#9c179e"
             ],
             [
              0.4444444444444444,
              "#bd3786"
             ],
             [
              0.5555555555555556,
              "#d8576b"
             ],
             [
              0.6666666666666666,
              "#ed7953"
             ],
             [
              0.7777777777777778,
              "#fb9f3a"
             ],
             [
              0.8888888888888888,
              "#fdca26"
             ],
             [
              1,
              "#f0f921"
             ]
            ],
            "type": "heatmap"
           }
          ],
          "heatmapgl": [
           {
            "colorbar": {
             "outlinewidth": 0,
             "ticks": ""
            },
            "colorscale": [
             [
              0,
              "#0d0887"
             ],
             [
              0.1111111111111111,
              "#46039f"
             ],
             [
              0.2222222222222222,
              "#7201a8"
             ],
             [
              0.3333333333333333,
              "#9c179e"
             ],
             [
              0.4444444444444444,
              "#bd3786"
             ],
             [
              0.5555555555555556,
              "#d8576b"
             ],
             [
              0.6666666666666666,
              "#ed7953"
             ],
             [
              0.7777777777777778,
              "#fb9f3a"
             ],
             [
              0.8888888888888888,
              "#fdca26"
             ],
             [
              1,
              "#f0f921"
             ]
            ],
            "type": "heatmapgl"
           }
          ],
          "histogram": [
           {
            "marker": {
             "colorbar": {
              "outlinewidth": 0,
              "ticks": ""
             }
            },
            "type": "histogram"
           }
          ],
          "histogram2d": [
           {
            "colorbar": {
             "outlinewidth": 0,
             "ticks": ""
            },
            "colorscale": [
             [
              0,
              "#0d0887"
             ],
             [
              0.1111111111111111,
              "#46039f"
             ],
             [
              0.2222222222222222,
              "#7201a8"
             ],
             [
              0.3333333333333333,
              "#9c179e"
             ],
             [
              0.4444444444444444,
              "#bd3786"
             ],
             [
              0.5555555555555556,
              "#d8576b"
             ],
             [
              0.6666666666666666,
              "#ed7953"
             ],
             [
              0.7777777777777778,
              "#fb9f3a"
             ],
             [
              0.8888888888888888,
              "#fdca26"
             ],
             [
              1,
              "#f0f921"
             ]
            ],
            "type": "histogram2d"
           }
          ],
          "histogram2dcontour": [
           {
            "colorbar": {
             "outlinewidth": 0,
             "ticks": ""
            },
            "colorscale": [
             [
              0,
              "#0d0887"
             ],
             [
              0.1111111111111111,
              "#46039f"
             ],
             [
              0.2222222222222222,
              "#7201a8"
             ],
             [
              0.3333333333333333,
              "#9c179e"
             ],
             [
              0.4444444444444444,
              "#bd3786"
             ],
             [
              0.5555555555555556,
              "#d8576b"
             ],
             [
              0.6666666666666666,
              "#ed7953"
             ],
             [
              0.7777777777777778,
              "#fb9f3a"
             ],
             [
              0.8888888888888888,
              "#fdca26"
             ],
             [
              1,
              "#f0f921"
             ]
            ],
            "type": "histogram2dcontour"
           }
          ],
          "mesh3d": [
           {
            "colorbar": {
             "outlinewidth": 0,
             "ticks": ""
            },
            "type": "mesh3d"
           }
          ],
          "parcoords": [
           {
            "line": {
             "colorbar": {
              "outlinewidth": 0,
              "ticks": ""
             }
            },
            "type": "parcoords"
           }
          ],
          "pie": [
           {
            "automargin": true,
            "type": "pie"
           }
          ],
          "scatter": [
           {
            "marker": {
             "colorbar": {
              "outlinewidth": 0,
              "ticks": ""
             }
            },
            "type": "scatter"
           }
          ],
          "scatter3d": [
           {
            "line": {
             "colorbar": {
              "outlinewidth": 0,
              "ticks": ""
             }
            },
            "marker": {
             "colorbar": {
              "outlinewidth": 0,
              "ticks": ""
             }
            },
            "type": "scatter3d"
           }
          ],
          "scattercarpet": [
           {
            "marker": {
             "colorbar": {
              "outlinewidth": 0,
              "ticks": ""
             }
            },
            "type": "scattercarpet"
           }
          ],
          "scattergeo": [
           {
            "marker": {
             "colorbar": {
              "outlinewidth": 0,
              "ticks": ""
             }
            },
            "type": "scattergeo"
           }
          ],
          "scattergl": [
           {
            "marker": {
             "colorbar": {
              "outlinewidth": 0,
              "ticks": ""
             }
            },
            "type": "scattergl"
           }
          ],
          "scattermapbox": [
           {
            "marker": {
             "colorbar": {
              "outlinewidth": 0,
              "ticks": ""
             }
            },
            "type": "scattermapbox"
           }
          ],
          "scatterpolar": [
           {
            "marker": {
             "colorbar": {
              "outlinewidth": 0,
              "ticks": ""
             }
            },
            "type": "scatterpolar"
           }
          ],
          "scatterpolargl": [
           {
            "marker": {
             "colorbar": {
              "outlinewidth": 0,
              "ticks": ""
             }
            },
            "type": "scatterpolargl"
           }
          ],
          "scatterternary": [
           {
            "marker": {
             "colorbar": {
              "outlinewidth": 0,
              "ticks": ""
             }
            },
            "type": "scatterternary"
           }
          ],
          "surface": [
           {
            "colorbar": {
             "outlinewidth": 0,
             "ticks": ""
            },
            "colorscale": [
             [
              0,
              "#0d0887"
             ],
             [
              0.1111111111111111,
              "#46039f"
             ],
             [
              0.2222222222222222,
              "#7201a8"
             ],
             [
              0.3333333333333333,
              "#9c179e"
             ],
             [
              0.4444444444444444,
              "#bd3786"
             ],
             [
              0.5555555555555556,
              "#d8576b"
             ],
             [
              0.6666666666666666,
              "#ed7953"
             ],
             [
              0.7777777777777778,
              "#fb9f3a"
             ],
             [
              0.8888888888888888,
              "#fdca26"
             ],
             [
              1,
              "#f0f921"
             ]
            ],
            "type": "surface"
           }
          ],
          "table": [
           {
            "cells": {
             "fill": {
              "color": "#EBF0F8"
             },
             "line": {
              "color": "white"
             }
            },
            "header": {
             "fill": {
              "color": "#C8D4E3"
             },
             "line": {
              "color": "white"
             }
            },
            "type": "table"
           }
          ]
         },
         "layout": {
          "annotationdefaults": {
           "arrowcolor": "#2a3f5f",
           "arrowhead": 0,
           "arrowwidth": 1
          },
          "coloraxis": {
           "colorbar": {
            "outlinewidth": 0,
            "ticks": ""
           }
          },
          "colorscale": {
           "diverging": [
            [
             0,
             "#8e0152"
            ],
            [
             0.1,
             "#c51b7d"
            ],
            [
             0.2,
             "#de77ae"
            ],
            [
             0.3,
             "#f1b6da"
            ],
            [
             0.4,
             "#fde0ef"
            ],
            [
             0.5,
             "#f7f7f7"
            ],
            [
             0.6,
             "#e6f5d0"
            ],
            [
             0.7,
             "#b8e186"
            ],
            [
             0.8,
             "#7fbc41"
            ],
            [
             0.9,
             "#4d9221"
            ],
            [
             1,
             "#276419"
            ]
           ],
           "sequential": [
            [
             0,
             "#0d0887"
            ],
            [
             0.1111111111111111,
             "#46039f"
            ],
            [
             0.2222222222222222,
             "#7201a8"
            ],
            [
             0.3333333333333333,
             "#9c179e"
            ],
            [
             0.4444444444444444,
             "#bd3786"
            ],
            [
             0.5555555555555556,
             "#d8576b"
            ],
            [
             0.6666666666666666,
             "#ed7953"
            ],
            [
             0.7777777777777778,
             "#fb9f3a"
            ],
            [
             0.8888888888888888,
             "#fdca26"
            ],
            [
             1,
             "#f0f921"
            ]
           ],
           "sequentialminus": [
            [
             0,
             "#0d0887"
            ],
            [
             0.1111111111111111,
             "#46039f"
            ],
            [
             0.2222222222222222,
             "#7201a8"
            ],
            [
             0.3333333333333333,
             "#9c179e"
            ],
            [
             0.4444444444444444,
             "#bd3786"
            ],
            [
             0.5555555555555556,
             "#d8576b"
            ],
            [
             0.6666666666666666,
             "#ed7953"
            ],
            [
             0.7777777777777778,
             "#fb9f3a"
            ],
            [
             0.8888888888888888,
             "#fdca26"
            ],
            [
             1,
             "#f0f921"
            ]
           ]
          },
          "colorway": [
           "#636efa",
           "#EF553B",
           "#00cc96",
           "#ab63fa",
           "#FFA15A",
           "#19d3f3",
           "#FF6692",
           "#B6E880",
           "#FF97FF",
           "#FECB52"
          ],
          "font": {
           "color": "#2a3f5f"
          },
          "geo": {
           "bgcolor": "white",
           "lakecolor": "white",
           "landcolor": "#E5ECF6",
           "showlakes": true,
           "showland": true,
           "subunitcolor": "white"
          },
          "hoverlabel": {
           "align": "left"
          },
          "hovermode": "closest",
          "mapbox": {
           "style": "light"
          },
          "paper_bgcolor": "white",
          "plot_bgcolor": "#E5ECF6",
          "polar": {
           "angularaxis": {
            "gridcolor": "white",
            "linecolor": "white",
            "ticks": ""
           },
           "bgcolor": "#E5ECF6",
           "radialaxis": {
            "gridcolor": "white",
            "linecolor": "white",
            "ticks": ""
           }
          },
          "scene": {
           "xaxis": {
            "backgroundcolor": "#E5ECF6",
            "gridcolor": "white",
            "gridwidth": 2,
            "linecolor": "white",
            "showbackground": true,
            "ticks": "",
            "zerolinecolor": "white"
           },
           "yaxis": {
            "backgroundcolor": "#E5ECF6",
            "gridcolor": "white",
            "gridwidth": 2,
            "linecolor": "white",
            "showbackground": true,
            "ticks": "",
            "zerolinecolor": "white"
           },
           "zaxis": {
            "backgroundcolor": "#E5ECF6",
            "gridcolor": "white",
            "gridwidth": 2,
            "linecolor": "white",
            "showbackground": true,
            "ticks": "",
            "zerolinecolor": "white"
           }
          },
          "shapedefaults": {
           "line": {
            "color": "#2a3f5f"
           }
          },
          "ternary": {
           "aaxis": {
            "gridcolor": "white",
            "linecolor": "white",
            "ticks": ""
           },
           "baxis": {
            "gridcolor": "white",
            "linecolor": "white",
            "ticks": ""
           },
           "bgcolor": "#E5ECF6",
           "caxis": {
            "gridcolor": "white",
            "linecolor": "white",
            "ticks": ""
           }
          },
          "title": {
           "x": 0.05
          },
          "xaxis": {
           "automargin": true,
           "gridcolor": "white",
           "linecolor": "white",
           "ticks": "",
           "title": {
            "standoff": 15
           },
           "zerolinecolor": "white",
           "zerolinewidth": 2
          },
          "yaxis": {
           "automargin": true,
           "gridcolor": "white",
           "linecolor": "white",
           "ticks": "",
           "title": {
            "standoff": 15
           },
           "zerolinecolor": "white",
           "zerolinewidth": 2
          }
         }
        }
       }
      },
      "text/html": [
       "<div>\n",
       "        \n",
       "        \n",
       "            <div id=\"bd3e39af-87ed-47ab-a4ab-188c2ad36f31\" class=\"plotly-graph-div\" style=\"height:525px; width:100%;\"></div>\n",
       "            <script type=\"text/javascript\">\n",
       "                require([\"plotly\"], function(Plotly) {\n",
       "                    window.PLOTLYENV=window.PLOTLYENV || {};\n",
       "                    \n",
       "                if (document.getElementById(\"bd3e39af-87ed-47ab-a4ab-188c2ad36f31\")) {\n",
       "                    Plotly.newPlot(\n",
       "                        'bd3e39af-87ed-47ab-a4ab-188c2ad36f31',\n",
       "                        [{\"name\": \"theta1\", \"type\": \"scatter\", \"x\": [0.0, 0.20000000298023224, 0.4000000059604645, 0.6000000089406967, 0.800000011920929, 1.0000000149011612, 1.2000000178813934, 1.4000000208616257, 1.600000023841858, 1.8000000268220901, 2.0000000298023224, 2.2000000327825546, 2.400000035762787, 2.600000038743019, 2.8000000417232513, 3.0000000447034836, 3.200000047683716, 3.400000050663948, 3.6000000536441803, 3.8000000566244125, 4.000000059604645, 4.200000062584877, 4.400000065565109, 4.6000000685453415, 4.800000071525574], \"y\": [3.34159255027771, 3.1845319271087646, 2.9917759895324707, 2.9465837478637695, 2.8528246879577637, 2.885587692260742, 3.0300943851470947, 3.1624040603637695, 3.232468366622925, 3.2132415771484375, 3.118046522140503, 3.015010118484497, 2.9607489109039307, 2.9545748233795166, 2.972646474838257, 2.998386859893799, 3.0243442058563232, 3.0476956367492676, 3.0676519870758057, 3.084386110305786, 3.0985653400421143, 3.1111466884613037, 3.1233127117156982, 3.1364591121673584, 3.1506972312927246]}, {\"name\": \"theta2\", \"type\": \"scatter\", \"x\": [0.0, 0.20000000298023224, 0.4000000059604645, 0.6000000089406967, 0.800000011920929, 1.0000000149011612, 1.2000000178813934, 1.4000000208616257, 1.600000023841858, 1.8000000268220901, 2.0000000298023224, 2.2000000327825546, 2.400000035762787, 2.600000038743019, 2.8000000417232513, 3.0000000447034836, 3.200000047683716, 3.400000050663948, 3.6000000536441803, 3.8000000566244125, 4.000000059604645, 4.200000062584877, 4.400000065565109, 4.6000000685453415, 4.800000071525574], \"y\": [-0.10000000149011612, 0.9339245557785034, 2.8116507530212402, 4.476337432861328, 5.500121116638184, 5.705283164978027, 5.382891654968262, 4.889284133911133, 4.324668884277344, 3.7188212871551514, 3.1024794578552246, 2.5156397819519043, 1.995405673980713, 1.562328815460205, 1.2168930768966675, 0.9468646049499512, 0.7372819185256958, 0.5754722356796265, 0.45162343978881836, 0.3581446707248688, 0.2891708016395569, 0.24030530452728271, 0.20854808390140533, 0.19249272346496582, 0.1967993527650833]}, {\"name\": \"theta1_dot\", \"type\": \"scatter\", \"x\": [0.0, 0.20000000298023224, 0.4000000059604645, 0.6000000089406967, 0.800000011920929, 1.0000000149011612, 1.2000000178813934, 1.4000000208616257, 1.600000023841858, 1.8000000268220901, 2.0000000298023224, 2.2000000327825546, 2.400000035762787, 2.600000038743019, 2.8000000417232513, 3.0000000447034836, 3.200000047683716, 3.400000050663948, 3.6000000536441803, 3.8000000566244125, 4.000000059604645, 4.200000062584877, 4.400000065565109, 4.6000000685453415, 4.800000071525574], \"y\": [0.5, -2.070607900619507, 0.14304813742637634, -0.5949701070785522, -0.3426207900047302, 0.6702515482902527, 0.7748156785964966, 0.5482799410820007, 0.15236513316631317, -0.3446342945098877, -0.6073152422904968, -0.4230492115020752, -0.11956238746643066, 0.0578213632106781, 0.12289392203092575, 0.13451090455055237, 0.12506262958049774, 0.10845087468624115, 0.09111174941062927, 0.07623085379600525, 0.06556161493062973, 0.060250718146562576, 0.06141042709350586, 0.07005255669355392, 0.07232969999313354]}, {\"name\": \"theta2_dot\", \"type\": \"scatter\", \"x\": [0.0, 0.20000000298023224, 0.4000000059604645, 0.6000000089406967, 0.800000011920929, 1.0000000149011612, 1.2000000178813934, 1.4000000208616257, 1.600000023841858, 1.8000000268220901, 2.0000000298023224, 2.2000000327825546, 2.400000035762787, 2.600000038743019, 2.8000000417232513, 3.0000000447034836, 3.200000047683716, 3.400000050663948, 3.6000000536441803, 3.8000000566244125, 4.000000059604645, 4.200000062584877, 4.400000065565109, 4.6000000685453415, 4.800000071525574], \"y\": [1.0, 9.339245796203613, 9.438015937805176, 7.208850383758545, 3.0289883613586426, -0.9773675203323364, -2.246546745300293, -2.6895315647125244, -2.956620216369629, -3.1018569469451904, -3.061560869216919, -2.8068368434906006, -2.395503520965576, -1.9352644681930542, -1.5190925598144531, -1.1811925172805786, -0.914634644985199, -0.7034619450569153, -0.5350258946418762, -0.3997619152069092, -0.2899767756462097, -0.19867821037769318, -0.11889391392469406, -0.041659727692604065, 0.08472596853971481]}],\n",
       "                        {\"template\": {\"data\": {\"bar\": [{\"error_x\": {\"color\": \"#2a3f5f\"}, \"error_y\": {\"color\": \"#2a3f5f\"}, \"marker\": {\"line\": {\"color\": \"#E5ECF6\", \"width\": 0.5}}, \"type\": \"bar\"}], \"barpolar\": [{\"marker\": {\"line\": {\"color\": \"#E5ECF6\", \"width\": 0.5}}, \"type\": \"barpolar\"}], \"carpet\": [{\"aaxis\": {\"endlinecolor\": \"#2a3f5f\", \"gridcolor\": \"white\", \"linecolor\": \"white\", \"minorgridcolor\": \"white\", \"startlinecolor\": \"#2a3f5f\"}, \"baxis\": {\"endlinecolor\": \"#2a3f5f\", \"gridcolor\": \"white\", \"linecolor\": \"white\", \"minorgridcolor\": \"white\", \"startlinecolor\": \"#2a3f5f\"}, \"type\": \"carpet\"}], \"choropleth\": [{\"colorbar\": {\"outlinewidth\": 0, \"ticks\": \"\"}, \"type\": \"choropleth\"}], \"contour\": [{\"colorbar\": {\"outlinewidth\": 0, \"ticks\": \"\"}, \"colorscale\": [[0.0, \"#0d0887\"], [0.1111111111111111, \"#46039f\"], [0.2222222222222222, \"#7201a8\"], [0.3333333333333333, \"#9c179e\"], [0.4444444444444444, \"#bd3786\"], [0.5555555555555556, \"#d8576b\"], [0.6666666666666666, \"#ed7953\"], [0.7777777777777778, \"#fb9f3a\"], [0.8888888888888888, \"#fdca26\"], [1.0, \"#f0f921\"]], \"type\": \"contour\"}], \"contourcarpet\": [{\"colorbar\": {\"outlinewidth\": 0, \"ticks\": \"\"}, \"type\": \"contourcarpet\"}], \"heatmap\": [{\"colorbar\": {\"outlinewidth\": 0, \"ticks\": \"\"}, \"colorscale\": [[0.0, \"#0d0887\"], [0.1111111111111111, \"#46039f\"], [0.2222222222222222, \"#7201a8\"], [0.3333333333333333, \"#9c179e\"], [0.4444444444444444, \"#bd3786\"], [0.5555555555555556, \"#d8576b\"], [0.6666666666666666, \"#ed7953\"], [0.7777777777777778, \"#fb9f3a\"], [0.8888888888888888, \"#fdca26\"], [1.0, \"#f0f921\"]], \"type\": \"heatmap\"}], \"heatmapgl\": [{\"colorbar\": {\"outlinewidth\": 0, \"ticks\": \"\"}, \"colorscale\": [[0.0, \"#0d0887\"], [0.1111111111111111, \"#46039f\"], [0.2222222222222222, \"#7201a8\"], [0.3333333333333333, \"#9c179e\"], [0.4444444444444444, \"#bd3786\"], [0.5555555555555556, \"#d8576b\"], [0.6666666666666666, \"#ed7953\"], [0.7777777777777778, \"#fb9f3a\"], [0.8888888888888888, \"#fdca26\"], [1.0, \"#f0f921\"]], \"type\": \"heatmapgl\"}], \"histogram\": [{\"marker\": {\"colorbar\": {\"outlinewidth\": 0, \"ticks\": \"\"}}, \"type\": \"histogram\"}], \"histogram2d\": [{\"colorbar\": {\"outlinewidth\": 0, \"ticks\": \"\"}, \"colorscale\": [[0.0, \"#0d0887\"], [0.1111111111111111, \"#46039f\"], [0.2222222222222222, \"#7201a8\"], [0.3333333333333333, \"#9c179e\"], [0.4444444444444444, \"#bd3786\"], [0.5555555555555556, \"#d8576b\"], [0.6666666666666666, \"#ed7953\"], [0.7777777777777778, \"#fb9f3a\"], [0.8888888888888888, \"#fdca26\"], [1.0, \"#f0f921\"]], \"type\": \"histogram2d\"}], \"histogram2dcontour\": [{\"colorbar\": {\"outlinewidth\": 0, \"ticks\": \"\"}, \"colorscale\": [[0.0, \"#0d0887\"], [0.1111111111111111, \"#46039f\"], [0.2222222222222222, \"#7201a8\"], [0.3333333333333333, \"#9c179e\"], [0.4444444444444444, \"#bd3786\"], [0.5555555555555556, \"#d8576b\"], [0.6666666666666666, \"#ed7953\"], [0.7777777777777778, \"#fb9f3a\"], [0.8888888888888888, \"#fdca26\"], [1.0, \"#f0f921\"]], \"type\": \"histogram2dcontour\"}], \"mesh3d\": [{\"colorbar\": {\"outlinewidth\": 0, \"ticks\": \"\"}, \"type\": \"mesh3d\"}], \"parcoords\": [{\"line\": {\"colorbar\": {\"outlinewidth\": 0, \"ticks\": \"\"}}, \"type\": \"parcoords\"}], \"pie\": [{\"automargin\": true, \"type\": \"pie\"}], \"scatter\": [{\"marker\": {\"colorbar\": {\"outlinewidth\": 0, \"ticks\": \"\"}}, \"type\": \"scatter\"}], \"scatter3d\": [{\"line\": {\"colorbar\": {\"outlinewidth\": 0, \"ticks\": \"\"}}, \"marker\": {\"colorbar\": {\"outlinewidth\": 0, \"ticks\": \"\"}}, \"type\": \"scatter3d\"}], \"scattercarpet\": [{\"marker\": {\"colorbar\": {\"outlinewidth\": 0, \"ticks\": \"\"}}, \"type\": \"scattercarpet\"}], \"scattergeo\": [{\"marker\": {\"colorbar\": {\"outlinewidth\": 0, \"ticks\": \"\"}}, \"type\": \"scattergeo\"}], \"scattergl\": [{\"marker\": {\"colorbar\": {\"outlinewidth\": 0, \"ticks\": \"\"}}, \"type\": \"scattergl\"}], \"scattermapbox\": [{\"marker\": {\"colorbar\": {\"outlinewidth\": 0, \"ticks\": \"\"}}, \"type\": \"scattermapbox\"}], \"scatterpolar\": [{\"marker\": {\"colorbar\": {\"outlinewidth\": 0, \"ticks\": \"\"}}, \"type\": \"scatterpolar\"}], \"scatterpolargl\": [{\"marker\": {\"colorbar\": {\"outlinewidth\": 0, \"ticks\": \"\"}}, \"type\": \"scatterpolargl\"}], \"scatterternary\": [{\"marker\": {\"colorbar\": {\"outlinewidth\": 0, \"ticks\": \"\"}}, \"type\": \"scatterternary\"}], \"surface\": [{\"colorbar\": {\"outlinewidth\": 0, \"ticks\": \"\"}, \"colorscale\": [[0.0, \"#0d0887\"], [0.1111111111111111, \"#46039f\"], [0.2222222222222222, \"#7201a8\"], [0.3333333333333333, \"#9c179e\"], [0.4444444444444444, \"#bd3786\"], [0.5555555555555556, \"#d8576b\"], [0.6666666666666666, \"#ed7953\"], [0.7777777777777778, \"#fb9f3a\"], [0.8888888888888888, \"#fdca26\"], [1.0, \"#f0f921\"]], \"type\": \"surface\"}], \"table\": [{\"cells\": {\"fill\": {\"color\": \"#EBF0F8\"}, \"line\": {\"color\": \"white\"}}, \"header\": {\"fill\": {\"color\": \"#C8D4E3\"}, \"line\": {\"color\": \"white\"}}, \"type\": \"table\"}]}, \"layout\": {\"annotationdefaults\": {\"arrowcolor\": \"#2a3f5f\", \"arrowhead\": 0, \"arrowwidth\": 1}, \"coloraxis\": {\"colorbar\": {\"outlinewidth\": 0, \"ticks\": \"\"}}, \"colorscale\": {\"diverging\": [[0, \"#8e0152\"], [0.1, \"#c51b7d\"], [0.2, \"#de77ae\"], [0.3, \"#f1b6da\"], [0.4, \"#fde0ef\"], [0.5, \"#f7f7f7\"], [0.6, \"#e6f5d0\"], [0.7, \"#b8e186\"], [0.8, \"#7fbc41\"], [0.9, \"#4d9221\"], [1, \"#276419\"]], \"sequential\": [[0.0, \"#0d0887\"], [0.1111111111111111, \"#46039f\"], [0.2222222222222222, \"#7201a8\"], [0.3333333333333333, \"#9c179e\"], [0.4444444444444444, \"#bd3786\"], [0.5555555555555556, \"#d8576b\"], [0.6666666666666666, \"#ed7953\"], [0.7777777777777778, \"#fb9f3a\"], [0.8888888888888888, \"#fdca26\"], [1.0, \"#f0f921\"]], \"sequentialminus\": [[0.0, \"#0d0887\"], [0.1111111111111111, \"#46039f\"], [0.2222222222222222, \"#7201a8\"], [0.3333333333333333, \"#9c179e\"], [0.4444444444444444, \"#bd3786\"], [0.5555555555555556, \"#d8576b\"], [0.6666666666666666, \"#ed7953\"], [0.7777777777777778, \"#fb9f3a\"], [0.8888888888888888, \"#fdca26\"], [1.0, \"#f0f921\"]]}, \"colorway\": [\"#636efa\", \"#EF553B\", \"#00cc96\", \"#ab63fa\", \"#FFA15A\", \"#19d3f3\", \"#FF6692\", \"#B6E880\", \"#FF97FF\", \"#FECB52\"], \"font\": {\"color\": \"#2a3f5f\"}, \"geo\": {\"bgcolor\": \"white\", \"lakecolor\": \"white\", \"landcolor\": \"#E5ECF6\", \"showlakes\": true, \"showland\": true, \"subunitcolor\": \"white\"}, \"hoverlabel\": {\"align\": \"left\"}, \"hovermode\": \"closest\", \"mapbox\": {\"style\": \"light\"}, \"paper_bgcolor\": \"white\", \"plot_bgcolor\": \"#E5ECF6\", \"polar\": {\"angularaxis\": {\"gridcolor\": \"white\", \"linecolor\": \"white\", \"ticks\": \"\"}, \"bgcolor\": \"#E5ECF6\", \"radialaxis\": {\"gridcolor\": \"white\", \"linecolor\": \"white\", \"ticks\": \"\"}}, \"scene\": {\"xaxis\": {\"backgroundcolor\": \"#E5ECF6\", \"gridcolor\": \"white\", \"gridwidth\": 2, \"linecolor\": \"white\", \"showbackground\": true, \"ticks\": \"\", \"zerolinecolor\": \"white\"}, \"yaxis\": {\"backgroundcolor\": \"#E5ECF6\", \"gridcolor\": \"white\", \"gridwidth\": 2, \"linecolor\": \"white\", \"showbackground\": true, \"ticks\": \"\", \"zerolinecolor\": \"white\"}, \"zaxis\": {\"backgroundcolor\": \"#E5ECF6\", \"gridcolor\": \"white\", \"gridwidth\": 2, \"linecolor\": \"white\", \"showbackground\": true, \"ticks\": \"\", \"zerolinecolor\": \"white\"}}, \"shapedefaults\": {\"line\": {\"color\": \"#2a3f5f\"}}, \"ternary\": {\"aaxis\": {\"gridcolor\": \"white\", \"linecolor\": \"white\", \"ticks\": \"\"}, \"baxis\": {\"gridcolor\": \"white\", \"linecolor\": \"white\", \"ticks\": \"\"}, \"bgcolor\": \"#E5ECF6\", \"caxis\": {\"gridcolor\": \"white\", \"linecolor\": \"white\", \"ticks\": \"\"}}, \"title\": {\"x\": 0.05}, \"xaxis\": {\"automargin\": true, \"gridcolor\": \"white\", \"linecolor\": \"white\", \"ticks\": \"\", \"title\": {\"standoff\": 15}, \"zerolinecolor\": \"white\", \"zerolinewidth\": 2}, \"yaxis\": {\"automargin\": true, \"gridcolor\": \"white\", \"linecolor\": \"white\", \"ticks\": \"\", \"title\": {\"standoff\": 15}, \"zerolinecolor\": \"white\", \"zerolinewidth\": 2}}}},\n",
       "                        {\"responsive\": true}\n",
       "                    ).then(function(){\n",
       "                            \n",
       "var gd = document.getElementById('bd3e39af-87ed-47ab-a4ab-188c2ad36f31');\n",
       "var x = new MutationObserver(function (mutations, observer) {{\n",
       "        var display = window.getComputedStyle(gd).display;\n",
       "        if (!display || display === 'none') {{\n",
       "            console.log([gd, 'removed!']);\n",
       "            Plotly.purge(gd);\n",
       "            observer.disconnect();\n",
       "        }}\n",
       "}});\n",
       "\n",
       "// Listen for the removal of the full notebook cells\n",
       "var notebookContainer = gd.closest('#notebook-container');\n",
       "if (notebookContainer) {{\n",
       "    x.observe(notebookContainer, {childList: true});\n",
       "}}\n",
       "\n",
       "// Listen for the clearing of the current output cell\n",
       "var outputEl = gd.closest('.output');\n",
       "if (outputEl) {{\n",
       "    x.observe(outputEl, {childList: true});\n",
       "}}\n",
       "\n",
       "                        })\n",
       "                };\n",
       "                });\n",
       "            </script>\n",
       "        </div>"
      ]
     },
     "metadata": {},
     "output_type": "display_data"
    }
   ],
   "source": [
    "x0 = torch.tensor([np.pi+.2, -.1, 0.5, 1.], dtype=vf.dtype)\n",
    "v, res = V(x0)\n",
    "sys.plot_result(res).show()"
   ]
  },
  {
   "cell_type": "code",
   "execution_count": 410,
   "metadata": {},
   "outputs": [
    {
     "data": {
      "application/vnd.plotly.v1+json": {
       "config": {
        "plotlyServerURL": "https://plot.ly"
       },
       "data": [
        {
         "type": "scatter",
         "x": [
          0,
          3.134171856800094e-05,
          0.000344758911523968,
          0.0034789307974278927,
          0.03482064977288246,
          0.10000000149011612,
          0.13985200226306915,
          0.20000000298023224,
          0.24313610792160034,
          0.30000001192092896,
          0.3459392786026001,
          0.4000000059604645,
          0.44828325510025024,
          0.5,
          0.549048900604248,
          0.6000000238418579,
          0.6471068859100342,
          0.699999988079071,
          0.7316665053367615,
          0.800000011920929,
          0.848839282989502,
          0.8999999761581421,
          0.9591057896614075,
          1,
          1.0661823749542236,
          1.100000023841858,
          1.1760919094085693,
          1.2000000476837158,
          1.2900856733322144,
          1.2999999523162842,
          1.3664230108261108,
          1.399999976158142,
          1.4588183164596558,
          1.5,
          1.5465314388275146,
          1.600000023841858,
          1.6544588804244995,
          1.7000000476837158,
          1.7564139366149902,
          1.7999999523162842,
          1.8552968502044678,
          1.899999976158142,
          1.9086928367614746,
          1.995620608329773,
          2,
          2.0651087760925293,
          2.0999999046325684,
          2.1679162979125977,
          2.200000047683716,
          2.2643187046051025,
          2.299999952316284,
          2.3622753620147705,
          2.4000000953674316,
          2.4609198570251465,
          2.5,
          2.5599567890167236,
          2.5999999046325684,
          2.658273935317993,
          2.700000047683716,
          2.7414286136627197,
          2.799999952316284,
          2.8567638397216797,
          2.9000000953674316,
          2.9570577144622803,
          3,
          3.055192470550537,
          3.0999999046325684,
          3.115835428237915,
          3.200000047683716,
          3.2643723487854004,
          3.299999952316284,
          3.361999988555908,
          3.4000000953674316,
          3.4607455730438232,
          3.5,
          3.560537815093994,
          3.5999999046325684,
          3.6601271629333496,
          3.700000047683716,
          3.7595760822296143,
          3.799999952316284,
          3.855806827545166,
          3.9000000953674316,
          3.954608917236328,
          4,
          4.057262420654297,
          4.099999904632568,
          4.156745433807373,
          4.199999809265137,
          4.253383159637451,
          4.300000190734863,
          4.35998010635376,
          4.400000095367432,
          4.462804794311523,
          4.5,
          4.561257839202881,
          4.599999904632568,
          4.660651206970215,
          4.699999809265137,
          4.760446548461914,
          4.800000190734863,
          4.86027193069458,
          4.900000095367432
         ],
         "y": [
          3.2415926456451416,
          3.2415926456451416,
          3.241591691970825,
          3.2415010929107666,
          3.2330048084259033,
          3.1804935932159424,
          3.1311943531036377,
          3.0450408458709717,
          2.981233596801758,
          2.9015004634857178,
          2.844573974609375,
          2.786853075027466,
          2.7448058128356934,
          2.708538055419922,
          2.682415246963501,
          2.662529706954956,
          2.6505260467529297,
          2.6433093547821045,
          2.6423091888427734,
          2.64721941947937,
          2.6571059226989746,
          2.6729226112365723,
          2.6983330249786377,
          2.720438003540039,
          2.7636759281158447,
          2.7893292903900146,
          2.8543598651885986,
          2.8767428398132324,
          2.96606707572937,
          2.976226568222046,
          3.0442492961883545,
          3.077666997909546,
          3.133488178253174,
          3.169093132019043,
          3.205373764038086,
          3.241191864013672,
          3.2708704471588135,
          3.290517568588257,
          3.3086225986480713,
          3.318230628967285,
          3.3253633975982666,
          3.3274261951446533,
          3.3274195194244385,
          3.3221518993377686,
          3.3216137886047363,
          3.3114073276519775,
          3.3042469024658203,
          3.287567615509033,
          3.2786808013916016,
          3.259416103363037,
          3.2481935024261475,
          3.228091239929199,
          3.2159152030944824,
          3.1965649127960205,
          3.1846468448638916,
          3.1673285961151123,
          3.1566410064697266,
          3.14245867729187,
          3.1334457397460938,
          3.1254830360412598,
          3.1158764362335205,
          3.1084909439086914,
          3.1040990352630615,
          3.0998613834381104,
          3.0977747440338135,
          3.0963830947875977,
          3.0962133407592773,
          3.0963613986968994,
          3.0985167026519775,
          3.101583480834961,
          3.103687286376953,
          3.1078929901123047,
          3.110715866088867,
          3.1154987812042236,
          3.1186702251434326,
          3.1235885620117188,
          3.1267309188842773,
          3.1313555240631104,
          3.134248733520508,
          3.138272523880005,
          3.1407532691955566,
          3.143829107284546,
          3.1459529399871826,
          3.148190498352051,
          3.149721384048462,
          3.151232957839966,
          3.152066469192505,
          3.152806043624878,
          3.153108596801758,
          3.1531951427459717,
          3.153042793273926,
          3.152568817138672,
          3.1521072387695312,
          3.151188611984253,
          3.1505579948425293,
          3.1494126319885254,
          3.14864444732666,
          3.147401809692383,
          3.146591901779175,
          3.1453638076782227,
          3.14458966255188,
          3.1434686183929443,
          3.142782211303711
         ]
        },
        {
         "type": "scatter",
         "x": [
          0,
          3.134171856800094e-05,
          0.000344758911523968,
          0.0034789307974278927,
          0.03482064977288246,
          0.10000000149011612,
          0.13985200226306915,
          0.20000000298023224,
          0.24313610792160034,
          0.30000001192092896,
          0.3459392786026001,
          0.4000000059604645,
          0.44828325510025024,
          0.5,
          0.549048900604248,
          0.6000000238418579,
          0.6471068859100342,
          0.699999988079071,
          0.7316665053367615,
          0.800000011920929,
          0.848839282989502,
          0.8999999761581421,
          0.9591057896614075,
          1,
          1.0661823749542236,
          1.100000023841858,
          1.1760919094085693,
          1.2000000476837158,
          1.2900856733322144,
          1.2999999523162842,
          1.3664230108261108,
          1.399999976158142,
          1.4588183164596558,
          1.5,
          1.5465314388275146,
          1.600000023841858,
          1.6544588804244995,
          1.7000000476837158,
          1.7564139366149902,
          1.7999999523162842,
          1.8552968502044678,
          1.899999976158142,
          1.9086928367614746,
          1.995620608329773,
          2,
          2.0651087760925293,
          2.0999999046325684,
          2.1679162979125977,
          2.200000047683716,
          2.2643187046051025,
          2.299999952316284,
          2.3622753620147705,
          2.4000000953674316,
          2.4609198570251465,
          2.5,
          2.5599567890167236,
          2.5999999046325684,
          2.658273935317993,
          2.700000047683716,
          2.7414286136627197,
          2.799999952316284,
          2.8567638397216797,
          2.9000000953674316,
          2.9570577144622803,
          3,
          3.055192470550537,
          3.0999999046325684,
          3.115835428237915,
          3.200000047683716,
          3.2643723487854004,
          3.299999952316284,
          3.361999988555908,
          3.4000000953674316,
          3.4607455730438232,
          3.5,
          3.560537815093994,
          3.5999999046325684,
          3.6601271629333496,
          3.700000047683716,
          3.7595760822296143,
          3.799999952316284,
          3.855806827545166,
          3.9000000953674316,
          3.954608917236328,
          4,
          4.057262420654297,
          4.099999904632568,
          4.156745433807373,
          4.199999809265137,
          4.253383159637451,
          4.300000190734863,
          4.35998010635376,
          4.400000095367432,
          4.462804794311523,
          4.5,
          4.561257839202881,
          4.599999904632568,
          4.660651206970215,
          4.699999809265137,
          4.760446548461914,
          4.800000190734863,
          4.86027193069458,
          4.900000095367432
         ],
         "y": [
          0.10000000149011612,
          0.10000002384185791,
          0.10000250488519669,
          0.1002538651227951,
          0.12389933317899704,
          0.27116459608078003,
          0.4106321334838867,
          0.6582443714141846,
          0.8459569215774536,
          1.0878918170928955,
          1.267665147781372,
          1.4578335285186768,
          1.6030490398406982,
          1.7335808277130127,
          1.8310751914978027,
          1.906559944152832,
          1.951622724533081,
          1.9756815433502197,
          1.9757875204086304,
          1.9440884590148926,
          1.8940495252609253,
          1.8194599151611328,
          1.7069406509399414,
          1.614018440246582,
          1.4415563344955444,
          1.3438948392868042,
          1.1071535348892212,
          1.0286041498184204,
          0.7249352335929871,
          0.6911814212799072,
          0.4677545726299286,
          0.35896041989326477,
          0.17776606976985931,
          0.06159373000264168,
          -0.057878825813531876,
          -0.17790177464485168,
          -0.280163437128067,
          -0.35033732652664185,
          -0.4184938967227936,
          -0.45772838592529297,
          -0.49172139167785645,
          -0.5074180364608765,
          -0.5091835856437683,
          -0.5095503926277161,
          -0.5086809992790222,
          -0.4881984293460846,
          -0.47149765491485596,
          -0.42953234910964966,
          -0.40614762902259827,
          -0.35397711396217346,
          -0.3229060769081116,
          -0.2663375437259674,
          -0.23159034550189972,
          -0.175735741853714,
          -0.1409517377614975,
          -0.08990611135959625,
          -0.05806949362158775,
          -0.015394511632621288,
          0.0120461480692029,
          0.03654969856142998,
          0.0665222555398941,
          0.09005831927061081,
          0.10440473258495331,
          0.11875525861978531,
          0.12627911567687988,
          0.1320732831954956,
          0.13385716080665588,
          0.1338566690683365,
          0.12956634163856506,
          0.12182359397411346,
          0.11622577905654907,
          0.10468626022338867,
          0.09676790982484818,
          0.08313193172216415,
          0.0739639475941658,
          0.05958259478211403,
          0.05029294639825821,
          0.0364895835518837,
          0.027765611186623573,
          0.015515598468482494,
          0.007880082353949547,
          -0.0016891954001039267,
          -0.008385519497096539,
          -0.01554870791733265,
          -0.020546553656458855,
          -0.025617141276597977,
          -0.028526199981570244,
          -0.03128713741898537,
          -0.032599691301584244,
          -0.033340565860271454,
          -0.03328045830130577,
          -0.032331667840480804,
          -0.03123476356267929,
          -0.028882017359137535,
          -0.02719881944358349,
          -0.024057520553469658,
          -0.021907661110162735,
          -0.018373170867562294,
          -0.016038058325648308,
          -0.012455496937036514,
          -0.010171246714890003,
          -0.00683019682765007,
          -0.0047629717737436295
         ]
        },
        {
         "type": "scatter",
         "x": [
          0,
          3.134171856800094e-05,
          0.000344758911523968,
          0.0034789307974278927,
          0.03482064977288246,
          0.10000000149011612,
          0.13985200226306915,
          0.20000000298023224,
          0.24313610792160034,
          0.30000001192092896,
          0.3459392786026001,
          0.4000000059604645,
          0.44828325510025024,
          0.5,
          0.549048900604248,
          0.6000000238418579,
          0.6471068859100342,
          0.699999988079071,
          0.7316665053367615,
          0.800000011920929,
          0.848839282989502,
          0.8999999761581421,
          0.9591057896614075,
          1,
          1.0661823749542236,
          1.100000023841858,
          1.1760919094085693,
          1.2000000476837158,
          1.2900856733322144,
          1.2999999523162842,
          1.3664230108261108,
          1.399999976158142,
          1.4588183164596558,
          1.5,
          1.5465314388275146,
          1.600000023841858,
          1.6544588804244995,
          1.7000000476837158,
          1.7564139366149902,
          1.7999999523162842,
          1.8552968502044678,
          1.899999976158142,
          1.9086928367614746,
          1.995620608329773,
          2,
          2.0651087760925293,
          2.0999999046325684,
          2.1679162979125977,
          2.200000047683716,
          2.2643187046051025,
          2.299999952316284,
          2.3622753620147705,
          2.4000000953674316,
          2.4609198570251465,
          2.5,
          2.5599567890167236,
          2.5999999046325684,
          2.658273935317993,
          2.700000047683716,
          2.7414286136627197,
          2.799999952316284,
          2.8567638397216797,
          2.9000000953674316,
          2.9570577144622803,
          3,
          3.055192470550537,
          3.0999999046325684,
          3.115835428237915,
          3.200000047683716,
          3.2643723487854004,
          3.299999952316284,
          3.361999988555908,
          3.4000000953674316,
          3.4607455730438232,
          3.5,
          3.560537815093994,
          3.5999999046325684,
          3.6601271629333496,
          3.700000047683716,
          3.7595760822296143,
          3.799999952316284,
          3.855806827545166,
          3.9000000953674316,
          3.954608917236328,
          4,
          4.057262420654297,
          4.099999904632568,
          4.156745433807373,
          4.199999809265137,
          4.253383159637451,
          4.300000190734863,
          4.35998010635376,
          4.400000095367432,
          4.462804794311523,
          4.5,
          4.561257839202881,
          4.599999904632568,
          4.660651206970215,
          4.699999809265137,
          4.760446548461914,
          4.800000190734863,
          4.86027193069458,
          4.900000095367432
         ],
         "y": [
          0,
          -0.00047696050023660064,
          -0.005241624545305967,
          -0.05239465460181236,
          -0.4750312864780426,
          -1.0732145309448242,
          -1.3658907413482666,
          -1.4266964197158813,
          -1.4918276071548462,
          -1.2610961198806763,
          -1.1888247728347778,
          -0.9181815981864929,
          -0.8057374358177185,
          -0.5806838274002075,
          -0.4735485911369324,
          -0.2960984408855438,
          -0.20682618021965027,
          -0.056814998388290405,
          -0.004111845046281815,
          0.1605043262243271,
          0.24902422726154327,
          0.37584468722343445,
          0.49036747217178345,
          0.5945215225219727,
          0.719078779220581,
          0.800261914730072,
          0.9147647023200989,
          0.958302915096283,
          1.0218143463134766,
          1.027588129043579,
          1.0103672742843628,
          0.9773168563842773,
          0.9081929326057434,
          0.8148510456085205,
          0.737052321434021,
          0.5932271480560303,
          0.4892919659614563,
          0.36838051676750183,
          0.26833397150039673,
          0.16925683617591858,
          0.08576230704784393,
          0.004254425410181284,
          -0.005837608128786087,
          -0.11964526027441025,
          -0.1261206418275833,
          -0.18791498243808746,
          -0.2228027880191803,
          -0.2673403024673462,
          -0.2864595353603363,
          -0.3103775382041931,
          -0.31800583004951477,
          -0.3246007263660431,
          -0.319794625043869,
          -0.3121088147163391,
          -0.2963831424713135,
          -0.2779652178287506,
          -0.2542911469936371,
          -0.229549840092659,
          -0.20089678466320038,
          -0.1822938770055771,
          -0.1431514024734497,
          -0.11530812829732895,
          -0.08674833178520203,
          -0.06057941913604736,
          -0.03583654761314392,
          -0.013956714421510696,
          0.006882237270474434,
          0.01183605007827282,
          0.039971642196178436,
          0.05508388951420784,
          0.06297485530376434,
          0.07215293496847153,
          0.07622767984867096,
          0.08047585934400558,
          0.08079439401626587,
          0.08083134889602661,
          0.0780622735619545,
          0.07488451153039932,
          0.06983759254217148,
          0.06442860513925552,
          0.057918351143598557,
          0.05168527364730835,
          0.04401671886444092,
          0.03744218125939369,
          0.029646722599864006,
          0.022754700854420662,
          0.016005277633666992,
          0.009812762960791588,
          0.00401520449668169,
          -0.0008862651302479208,
          -0.005751410033553839,
          -0.01006381306797266,
          -0.013014896772801876,
          -0.01614067144691944,
          -0.017737234011292458,
          -0.01949186623096466,
          -0.02008945308625698,
          -0.02068142034113407,
          -0.020391467958688736,
          -0.020016837865114212,
          -0.019034357741475105,
          -0.017947109416127205,
          -0.016502054408192635
         ]
        },
        {
         "type": "scatter",
         "x": [
          0,
          3.134171856800094e-05,
          0.000344758911523968,
          0.0034789307974278927,
          0.03482064977288246,
          0.10000000149011612,
          0.13985200226306915,
          0.20000000298023224,
          0.24313610792160034,
          0.30000001192092896,
          0.3459392786026001,
          0.4000000059604645,
          0.44828325510025024,
          0.5,
          0.549048900604248,
          0.6000000238418579,
          0.6471068859100342,
          0.699999988079071,
          0.7316665053367615,
          0.800000011920929,
          0.848839282989502,
          0.8999999761581421,
          0.9591057896614075,
          1,
          1.0661823749542236,
          1.100000023841858,
          1.1760919094085693,
          1.2000000476837158,
          1.2900856733322144,
          1.2999999523162842,
          1.3664230108261108,
          1.399999976158142,
          1.4588183164596558,
          1.5,
          1.5465314388275146,
          1.600000023841858,
          1.6544588804244995,
          1.7000000476837158,
          1.7564139366149902,
          1.7999999523162842,
          1.8552968502044678,
          1.899999976158142,
          1.9086928367614746,
          1.995620608329773,
          2,
          2.0651087760925293,
          2.0999999046325684,
          2.1679162979125977,
          2.200000047683716,
          2.2643187046051025,
          2.299999952316284,
          2.3622753620147705,
          2.4000000953674316,
          2.4609198570251465,
          2.5,
          2.5599567890167236,
          2.5999999046325684,
          2.658273935317993,
          2.700000047683716,
          2.7414286136627197,
          2.799999952316284,
          2.8567638397216797,
          2.9000000953674316,
          2.9570577144622803,
          3,
          3.055192470550537,
          3.0999999046325684,
          3.115835428237915,
          3.200000047683716,
          3.2643723487854004,
          3.299999952316284,
          3.361999988555908,
          3.4000000953674316,
          3.4607455730438232,
          3.5,
          3.560537815093994,
          3.5999999046325684,
          3.6601271629333496,
          3.700000047683716,
          3.7595760822296143,
          3.799999952316284,
          3.855806827545166,
          3.9000000953674316,
          3.954608917236328,
          4,
          4.057262420654297,
          4.099999904632568,
          4.156745433807373,
          4.199999809265137,
          4.253383159637451,
          4.300000190734863,
          4.35998010635376,
          4.400000095367432,
          4.462804794311523,
          4.5,
          4.561257839202881,
          4.599999904632568,
          4.660651206970215,
          4.699999809265137,
          4.760446548461914,
          4.800000190734863,
          4.86027193069458,
          4.900000095367432
         ],
         "y": [
          0,
          0.0013235664227977395,
          0.014546054415404797,
          0.145454540848732,
          1.3240740299224854,
          3.0271408557891846,
          3.880053997039795,
          4.161403656005859,
          4.435652256011963,
          3.9259588718414307,
          3.818722724914551,
          3.1227478981018066,
          2.8336174488067627,
          2.153106689453125,
          1.7812508344650269,
          1.138648271560669,
          0.7490731477737427,
          0.12774811685085297,
          -0.12834705412387848,
          -0.8360118865966797,
          -1.2239470481872559,
          -1.7059823274612427,
          -2.1126694679260254,
          -2.4388437271118164,
          -2.7852368354797363,
          -2.9947900772094727,
          -3.2396082878112793,
          -3.332815170288086,
          -3.402048110961914,
          -3.406961679458618,
          -3.2950658798217773,
          -3.178192377090454,
          -2.9506616592407227,
          -2.6753573417663574,
          -2.4399213790893555,
          -2.023897171020508,
          -1.711324691772461,
          -1.356120228767395,
          -1.045824408531189,
          -0.7453369498252869,
          -0.47600194811820984,
          -0.220159113407135,
          -0.18596762418746948,
          0.18819808959960938,
          0.20888207852840424,
          0.42083340883255005,
          0.5369328260421753,
          0.6949537396430969,
          0.7620524168014526,
          0.8532841205596924,
          0.886229932308197,
          0.9216543436050415,
          0.9172140955924988,
          0.9068121910095215,
          0.8692485690116882,
          0.8240254521369934,
          0.7617285251617432,
          0.6947502493858337,
          0.6161656975746155,
          0.5633595585823059,
          0.45292797684669495,
          0.3714650869369507,
          0.28912070393562317,
          0.21059131622314453,
          0.13774831593036652,
          0.0705108568072319,
          0.007796951569616795,
          -0.0078878877684474,
          -0.09544633328914642,
          -0.1443537175655365,
          -0.1697208285331726,
          -0.2008843719959259,
          -0.21530140936374664,
          -0.23141683638095856,
          -0.2347756326198578,
          -0.23787006735801697,
          -0.23188531398773193,
          -0.22476035356521606,
          -0.21170663833618164,
          -0.1972353607416153,
          -0.17943887412548065,
          -0.16175633668899536,
          -0.140138179063797,
          -0.12083994597196579,
          -0.09836533665657043,
          -0.07765886187553406,
          -0.05782368779182434,
          -0.03881070762872696,
          -0.02143709361553192,
          -0.006046851631253958,
          0.008882028050720692,
          0.022752057760953903,
          0.03209185227751732,
          0.042523324489593506,
          0.04789026081562042,
          0.05416867509484291,
          0.05662376061081886,
          0.05931704118847847,
          0.059116218239068985,
          0.05877508595585823,
          0.056446969509124756,
          0.0537986196577549,
          0.04999224469065666
         ]
        }
       ],
       "layout": {
        "template": {
         "data": {
          "bar": [
           {
            "error_x": {
             "color": "#2a3f5f"
            },
            "error_y": {
             "color": "#2a3f5f"
            },
            "marker": {
             "line": {
              "color": "#E5ECF6",
              "width": 0.5
             }
            },
            "type": "bar"
           }
          ],
          "barpolar": [
           {
            "marker": {
             "line": {
              "color": "#E5ECF6",
              "width": 0.5
             }
            },
            "type": "barpolar"
           }
          ],
          "carpet": [
           {
            "aaxis": {
             "endlinecolor": "#2a3f5f",
             "gridcolor": "white",
             "linecolor": "white",
             "minorgridcolor": "white",
             "startlinecolor": "#2a3f5f"
            },
            "baxis": {
             "endlinecolor": "#2a3f5f",
             "gridcolor": "white",
             "linecolor": "white",
             "minorgridcolor": "white",
             "startlinecolor": "#2a3f5f"
            },
            "type": "carpet"
           }
          ],
          "choropleth": [
           {
            "colorbar": {
             "outlinewidth": 0,
             "ticks": ""
            },
            "type": "choropleth"
           }
          ],
          "contour": [
           {
            "colorbar": {
             "outlinewidth": 0,
             "ticks": ""
            },
            "colorscale": [
             [
              0,
              "#0d0887"
             ],
             [
              0.1111111111111111,
              "#46039f"
             ],
             [
              0.2222222222222222,
              "#7201a8"
             ],
             [
              0.3333333333333333,
              "#9c179e"
             ],
             [
              0.4444444444444444,
              "#bd3786"
             ],
             [
              0.5555555555555556,
              "#d8576b"
             ],
             [
              0.6666666666666666,
              "#ed7953"
             ],
             [
              0.7777777777777778,
              "#fb9f3a"
             ],
             [
              0.8888888888888888,
              "#fdca26"
             ],
             [
              1,
              "#f0f921"
             ]
            ],
            "type": "contour"
           }
          ],
          "contourcarpet": [
           {
            "colorbar": {
             "outlinewidth": 0,
             "ticks": ""
            },
            "type": "contourcarpet"
           }
          ],
          "heatmap": [
           {
            "colorbar": {
             "outlinewidth": 0,
             "ticks": ""
            },
            "colorscale": [
             [
              0,
              "#0d0887"
             ],
             [
              0.1111111111111111,
              "#46039f"
             ],
             [
              0.2222222222222222,
              "#7201a8"
             ],
             [
              0.3333333333333333,
              "#9c179e"
             ],
             [
              0.4444444444444444,
              "#bd3786"
             ],
             [
              0.5555555555555556,
              "#d8576b"
             ],
             [
              0.6666666666666666,
              "#ed7953"
             ],
             [
              0.7777777777777778,
              "#fb9f3a"
             ],
             [
              0.8888888888888888,
              "#fdca26"
             ],
             [
              1,
              "#f0f921"
             ]
            ],
            "type": "heatmap"
           }
          ],
          "heatmapgl": [
           {
            "colorbar": {
             "outlinewidth": 0,
             "ticks": ""
            },
            "colorscale": [
             [
              0,
              "#0d0887"
             ],
             [
              0.1111111111111111,
              "#46039f"
             ],
             [
              0.2222222222222222,
              "#7201a8"
             ],
             [
              0.3333333333333333,
              "#9c179e"
             ],
             [
              0.4444444444444444,
              "#bd3786"
             ],
             [
              0.5555555555555556,
              "#d8576b"
             ],
             [
              0.6666666666666666,
              "#ed7953"
             ],
             [
              0.7777777777777778,
              "#fb9f3a"
             ],
             [
              0.8888888888888888,
              "#fdca26"
             ],
             [
              1,
              "#f0f921"
             ]
            ],
            "type": "heatmapgl"
           }
          ],
          "histogram": [
           {
            "marker": {
             "colorbar": {
              "outlinewidth": 0,
              "ticks": ""
             }
            },
            "type": "histogram"
           }
          ],
          "histogram2d": [
           {
            "colorbar": {
             "outlinewidth": 0,
             "ticks": ""
            },
            "colorscale": [
             [
              0,
              "#0d0887"
             ],
             [
              0.1111111111111111,
              "#46039f"
             ],
             [
              0.2222222222222222,
              "#7201a8"
             ],
             [
              0.3333333333333333,
              "#9c179e"
             ],
             [
              0.4444444444444444,
              "#bd3786"
             ],
             [
              0.5555555555555556,
              "#d8576b"
             ],
             [
              0.6666666666666666,
              "#ed7953"
             ],
             [
              0.7777777777777778,
              "#fb9f3a"
             ],
             [
              0.8888888888888888,
              "#fdca26"
             ],
             [
              1,
              "#f0f921"
             ]
            ],
            "type": "histogram2d"
           }
          ],
          "histogram2dcontour": [
           {
            "colorbar": {
             "outlinewidth": 0,
             "ticks": ""
            },
            "colorscale": [
             [
              0,
              "#0d0887"
             ],
             [
              0.1111111111111111,
              "#46039f"
             ],
             [
              0.2222222222222222,
              "#7201a8"
             ],
             [
              0.3333333333333333,
              "#9c179e"
             ],
             [
              0.4444444444444444,
              "#bd3786"
             ],
             [
              0.5555555555555556,
              "#d8576b"
             ],
             [
              0.6666666666666666,
              "#ed7953"
             ],
             [
              0.7777777777777778,
              "#fb9f3a"
             ],
             [
              0.8888888888888888,
              "#fdca26"
             ],
             [
              1,
              "#f0f921"
             ]
            ],
            "type": "histogram2dcontour"
           }
          ],
          "mesh3d": [
           {
            "colorbar": {
             "outlinewidth": 0,
             "ticks": ""
            },
            "type": "mesh3d"
           }
          ],
          "parcoords": [
           {
            "line": {
             "colorbar": {
              "outlinewidth": 0,
              "ticks": ""
             }
            },
            "type": "parcoords"
           }
          ],
          "pie": [
           {
            "automargin": true,
            "type": "pie"
           }
          ],
          "scatter": [
           {
            "marker": {
             "colorbar": {
              "outlinewidth": 0,
              "ticks": ""
             }
            },
            "type": "scatter"
           }
          ],
          "scatter3d": [
           {
            "line": {
             "colorbar": {
              "outlinewidth": 0,
              "ticks": ""
             }
            },
            "marker": {
             "colorbar": {
              "outlinewidth": 0,
              "ticks": ""
             }
            },
            "type": "scatter3d"
           }
          ],
          "scattercarpet": [
           {
            "marker": {
             "colorbar": {
              "outlinewidth": 0,
              "ticks": ""
             }
            },
            "type": "scattercarpet"
           }
          ],
          "scattergeo": [
           {
            "marker": {
             "colorbar": {
              "outlinewidth": 0,
              "ticks": ""
             }
            },
            "type": "scattergeo"
           }
          ],
          "scattergl": [
           {
            "marker": {
             "colorbar": {
              "outlinewidth": 0,
              "ticks": ""
             }
            },
            "type": "scattergl"
           }
          ],
          "scattermapbox": [
           {
            "marker": {
             "colorbar": {
              "outlinewidth": 0,
              "ticks": ""
             }
            },
            "type": "scattermapbox"
           }
          ],
          "scatterpolar": [
           {
            "marker": {
             "colorbar": {
              "outlinewidth": 0,
              "ticks": ""
             }
            },
            "type": "scatterpolar"
           }
          ],
          "scatterpolargl": [
           {
            "marker": {
             "colorbar": {
              "outlinewidth": 0,
              "ticks": ""
             }
            },
            "type": "scatterpolargl"
           }
          ],
          "scatterternary": [
           {
            "marker": {
             "colorbar": {
              "outlinewidth": 0,
              "ticks": ""
             }
            },
            "type": "scatterternary"
           }
          ],
          "surface": [
           {
            "colorbar": {
             "outlinewidth": 0,
             "ticks": ""
            },
            "colorscale": [
             [
              0,
              "#0d0887"
             ],
             [
              0.1111111111111111,
              "#46039f"
             ],
             [
              0.2222222222222222,
              "#7201a8"
             ],
             [
              0.3333333333333333,
              "#9c179e"
             ],
             [
              0.4444444444444444,
              "#bd3786"
             ],
             [
              0.5555555555555556,
              "#d8576b"
             ],
             [
              0.6666666666666666,
              "#ed7953"
             ],
             [
              0.7777777777777778,
              "#fb9f3a"
             ],
             [
              0.8888888888888888,
              "#fdca26"
             ],
             [
              1,
              "#f0f921"
             ]
            ],
            "type": "surface"
           }
          ],
          "table": [
           {
            "cells": {
             "fill": {
              "color": "#EBF0F8"
             },
             "line": {
              "color": "white"
             }
            },
            "header": {
             "fill": {
              "color": "#C8D4E3"
             },
             "line": {
              "color": "white"
             }
            },
            "type": "table"
           }
          ]
         },
         "layout": {
          "annotationdefaults": {
           "arrowcolor": "#2a3f5f",
           "arrowhead": 0,
           "arrowwidth": 1
          },
          "coloraxis": {
           "colorbar": {
            "outlinewidth": 0,
            "ticks": ""
           }
          },
          "colorscale": {
           "diverging": [
            [
             0,
             "#8e0152"
            ],
            [
             0.1,
             "#c51b7d"
            ],
            [
             0.2,
             "#de77ae"
            ],
            [
             0.3,
             "#f1b6da"
            ],
            [
             0.4,
             "#fde0ef"
            ],
            [
             0.5,
             "#f7f7f7"
            ],
            [
             0.6,
             "#e6f5d0"
            ],
            [
             0.7,
             "#b8e186"
            ],
            [
             0.8,
             "#7fbc41"
            ],
            [
             0.9,
             "#4d9221"
            ],
            [
             1,
             "#276419"
            ]
           ],
           "sequential": [
            [
             0,
             "#0d0887"
            ],
            [
             0.1111111111111111,
             "#46039f"
            ],
            [
             0.2222222222222222,
             "#7201a8"
            ],
            [
             0.3333333333333333,
             "#9c179e"
            ],
            [
             0.4444444444444444,
             "#bd3786"
            ],
            [
             0.5555555555555556,
             "#d8576b"
            ],
            [
             0.6666666666666666,
             "#ed7953"
            ],
            [
             0.7777777777777778,
             "#fb9f3a"
            ],
            [
             0.8888888888888888,
             "#fdca26"
            ],
            [
             1,
             "#f0f921"
            ]
           ],
           "sequentialminus": [
            [
             0,
             "#0d0887"
            ],
            [
             0.1111111111111111,
             "#46039f"
            ],
            [
             0.2222222222222222,
             "#7201a8"
            ],
            [
             0.3333333333333333,
             "#9c179e"
            ],
            [
             0.4444444444444444,
             "#bd3786"
            ],
            [
             0.5555555555555556,
             "#d8576b"
            ],
            [
             0.6666666666666666,
             "#ed7953"
            ],
            [
             0.7777777777777778,
             "#fb9f3a"
            ],
            [
             0.8888888888888888,
             "#fdca26"
            ],
            [
             1,
             "#f0f921"
            ]
           ]
          },
          "colorway": [
           "#636efa",
           "#EF553B",
           "#00cc96",
           "#ab63fa",
           "#FFA15A",
           "#19d3f3",
           "#FF6692",
           "#B6E880",
           "#FF97FF",
           "#FECB52"
          ],
          "font": {
           "color": "#2a3f5f"
          },
          "geo": {
           "bgcolor": "white",
           "lakecolor": "white",
           "landcolor": "#E5ECF6",
           "showlakes": true,
           "showland": true,
           "subunitcolor": "white"
          },
          "hoverlabel": {
           "align": "left"
          },
          "hovermode": "closest",
          "mapbox": {
           "style": "light"
          },
          "paper_bgcolor": "white",
          "plot_bgcolor": "#E5ECF6",
          "polar": {
           "angularaxis": {
            "gridcolor": "white",
            "linecolor": "white",
            "ticks": ""
           },
           "bgcolor": "#E5ECF6",
           "radialaxis": {
            "gridcolor": "white",
            "linecolor": "white",
            "ticks": ""
           }
          },
          "scene": {
           "xaxis": {
            "backgroundcolor": "#E5ECF6",
            "gridcolor": "white",
            "gridwidth": 2,
            "linecolor": "white",
            "showbackground": true,
            "ticks": "",
            "zerolinecolor": "white"
           },
           "yaxis": {
            "backgroundcolor": "#E5ECF6",
            "gridcolor": "white",
            "gridwidth": 2,
            "linecolor": "white",
            "showbackground": true,
            "ticks": "",
            "zerolinecolor": "white"
           },
           "zaxis": {
            "backgroundcolor": "#E5ECF6",
            "gridcolor": "white",
            "gridwidth": 2,
            "linecolor": "white",
            "showbackground": true,
            "ticks": "",
            "zerolinecolor": "white"
           }
          },
          "shapedefaults": {
           "line": {
            "color": "#2a3f5f"
           }
          },
          "ternary": {
           "aaxis": {
            "gridcolor": "white",
            "linecolor": "white",
            "ticks": ""
           },
           "baxis": {
            "gridcolor": "white",
            "linecolor": "white",
            "ticks": ""
           },
           "bgcolor": "#E5ECF6",
           "caxis": {
            "gridcolor": "white",
            "linecolor": "white",
            "ticks": ""
           }
          },
          "title": {
           "x": 0.05
          },
          "xaxis": {
           "automargin": true,
           "gridcolor": "white",
           "linecolor": "white",
           "ticks": "",
           "title": {
            "standoff": 15
           },
           "zerolinecolor": "white",
           "zerolinewidth": 2
          },
          "yaxis": {
           "automargin": true,
           "gridcolor": "white",
           "linecolor": "white",
           "ticks": "",
           "title": {
            "standoff": 15
           },
           "zerolinecolor": "white",
           "zerolinewidth": 2
          }
         }
        }
       }
      },
      "text/html": [
       "<div>\n",
       "        \n",
       "        \n",
       "            <div id=\"af0861bb-e795-4f0f-b87c-fa654ce30159\" class=\"plotly-graph-div\" style=\"height:525px; width:100%;\"></div>\n",
       "            <script type=\"text/javascript\">\n",
       "                require([\"plotly\"], function(Plotly) {\n",
       "                    window.PLOTLYENV=window.PLOTLYENV || {};\n",
       "                    \n",
       "                if (document.getElementById(\"af0861bb-e795-4f0f-b87c-fa654ce30159\")) {\n",
       "                    Plotly.newPlot(\n",
       "                        'af0861bb-e795-4f0f-b87c-fa654ce30159',\n",
       "                        [{\"type\": \"scatter\", \"x\": [0.0, 3.134171856800094e-05, 0.000344758911523968, 0.0034789307974278927, 0.03482064977288246, 0.10000000149011612, 0.13985200226306915, 0.20000000298023224, 0.24313610792160034, 0.30000001192092896, 0.3459392786026001, 0.4000000059604645, 0.44828325510025024, 0.5, 0.549048900604248, 0.6000000238418579, 0.6471068859100342, 0.699999988079071, 0.7316665053367615, 0.800000011920929, 0.848839282989502, 0.8999999761581421, 0.9591057896614075, 1.0, 1.0661823749542236, 1.100000023841858, 1.1760919094085693, 1.2000000476837158, 1.2900856733322144, 1.2999999523162842, 1.3664230108261108, 1.399999976158142, 1.4588183164596558, 1.5, 1.5465314388275146, 1.600000023841858, 1.6544588804244995, 1.7000000476837158, 1.7564139366149902, 1.7999999523162842, 1.8552968502044678, 1.899999976158142, 1.9086928367614746, 1.995620608329773, 2.0, 2.0651087760925293, 2.0999999046325684, 2.1679162979125977, 2.200000047683716, 2.2643187046051025, 2.299999952316284, 2.3622753620147705, 2.4000000953674316, 2.4609198570251465, 2.5, 2.5599567890167236, 2.5999999046325684, 2.658273935317993, 2.700000047683716, 2.7414286136627197, 2.799999952316284, 2.8567638397216797, 2.9000000953674316, 2.9570577144622803, 3.0, 3.055192470550537, 3.0999999046325684, 3.115835428237915, 3.200000047683716, 3.2643723487854004, 3.299999952316284, 3.361999988555908, 3.4000000953674316, 3.4607455730438232, 3.5, 3.560537815093994, 3.5999999046325684, 3.6601271629333496, 3.700000047683716, 3.7595760822296143, 3.799999952316284, 3.855806827545166, 3.9000000953674316, 3.954608917236328, 4.0, 4.057262420654297, 4.099999904632568, 4.156745433807373, 4.199999809265137, 4.253383159637451, 4.300000190734863, 4.35998010635376, 4.400000095367432, 4.462804794311523, 4.5, 4.561257839202881, 4.599999904632568, 4.660651206970215, 4.699999809265137, 4.760446548461914, 4.800000190734863, 4.86027193069458, 4.900000095367432], \"y\": [3.2415926456451416, 3.2415926456451416, 3.241591691970825, 3.2415010929107666, 3.2330048084259033, 3.1804935932159424, 3.1311943531036377, 3.0450408458709717, 2.981233596801758, 2.9015004634857178, 2.844573974609375, 2.786853075027466, 2.7448058128356934, 2.708538055419922, 2.682415246963501, 2.662529706954956, 2.6505260467529297, 2.6433093547821045, 2.6423091888427734, 2.64721941947937, 2.6571059226989746, 2.6729226112365723, 2.6983330249786377, 2.720438003540039, 2.7636759281158447, 2.7893292903900146, 2.8543598651885986, 2.8767428398132324, 2.96606707572937, 2.976226568222046, 3.0442492961883545, 3.077666997909546, 3.133488178253174, 3.169093132019043, 3.205373764038086, 3.241191864013672, 3.2708704471588135, 3.290517568588257, 3.3086225986480713, 3.318230628967285, 3.3253633975982666, 3.3274261951446533, 3.3274195194244385, 3.3221518993377686, 3.3216137886047363, 3.3114073276519775, 3.3042469024658203, 3.287567615509033, 3.2786808013916016, 3.259416103363037, 3.2481935024261475, 3.228091239929199, 3.2159152030944824, 3.1965649127960205, 3.1846468448638916, 3.1673285961151123, 3.1566410064697266, 3.14245867729187, 3.1334457397460938, 3.1254830360412598, 3.1158764362335205, 3.1084909439086914, 3.1040990352630615, 3.0998613834381104, 3.0977747440338135, 3.0963830947875977, 3.0962133407592773, 3.0963613986968994, 3.0985167026519775, 3.101583480834961, 3.103687286376953, 3.1078929901123047, 3.110715866088867, 3.1154987812042236, 3.1186702251434326, 3.1235885620117188, 3.1267309188842773, 3.1313555240631104, 3.134248733520508, 3.138272523880005, 3.1407532691955566, 3.143829107284546, 3.1459529399871826, 3.148190498352051, 3.149721384048462, 3.151232957839966, 3.152066469192505, 3.152806043624878, 3.153108596801758, 3.1531951427459717, 3.153042793273926, 3.152568817138672, 3.1521072387695312, 3.151188611984253, 3.1505579948425293, 3.1494126319885254, 3.14864444732666, 3.147401809692383, 3.146591901779175, 3.1453638076782227, 3.14458966255188, 3.1434686183929443, 3.142782211303711]}, {\"type\": \"scatter\", \"x\": [0.0, 3.134171856800094e-05, 0.000344758911523968, 0.0034789307974278927, 0.03482064977288246, 0.10000000149011612, 0.13985200226306915, 0.20000000298023224, 0.24313610792160034, 0.30000001192092896, 0.3459392786026001, 0.4000000059604645, 0.44828325510025024, 0.5, 0.549048900604248, 0.6000000238418579, 0.6471068859100342, 0.699999988079071, 0.7316665053367615, 0.800000011920929, 0.848839282989502, 0.8999999761581421, 0.9591057896614075, 1.0, 1.0661823749542236, 1.100000023841858, 1.1760919094085693, 1.2000000476837158, 1.2900856733322144, 1.2999999523162842, 1.3664230108261108, 1.399999976158142, 1.4588183164596558, 1.5, 1.5465314388275146, 1.600000023841858, 1.6544588804244995, 1.7000000476837158, 1.7564139366149902, 1.7999999523162842, 1.8552968502044678, 1.899999976158142, 1.9086928367614746, 1.995620608329773, 2.0, 2.0651087760925293, 2.0999999046325684, 2.1679162979125977, 2.200000047683716, 2.2643187046051025, 2.299999952316284, 2.3622753620147705, 2.4000000953674316, 2.4609198570251465, 2.5, 2.5599567890167236, 2.5999999046325684, 2.658273935317993, 2.700000047683716, 2.7414286136627197, 2.799999952316284, 2.8567638397216797, 2.9000000953674316, 2.9570577144622803, 3.0, 3.055192470550537, 3.0999999046325684, 3.115835428237915, 3.200000047683716, 3.2643723487854004, 3.299999952316284, 3.361999988555908, 3.4000000953674316, 3.4607455730438232, 3.5, 3.560537815093994, 3.5999999046325684, 3.6601271629333496, 3.700000047683716, 3.7595760822296143, 3.799999952316284, 3.855806827545166, 3.9000000953674316, 3.954608917236328, 4.0, 4.057262420654297, 4.099999904632568, 4.156745433807373, 4.199999809265137, 4.253383159637451, 4.300000190734863, 4.35998010635376, 4.400000095367432, 4.462804794311523, 4.5, 4.561257839202881, 4.599999904632568, 4.660651206970215, 4.699999809265137, 4.760446548461914, 4.800000190734863, 4.86027193069458, 4.900000095367432], \"y\": [0.10000000149011612, 0.10000002384185791, 0.10000250488519669, 0.1002538651227951, 0.12389933317899704, 0.27116459608078003, 0.4106321334838867, 0.6582443714141846, 0.8459569215774536, 1.0878918170928955, 1.267665147781372, 1.4578335285186768, 1.6030490398406982, 1.7335808277130127, 1.8310751914978027, 1.906559944152832, 1.951622724533081, 1.9756815433502197, 1.9757875204086304, 1.9440884590148926, 1.8940495252609253, 1.8194599151611328, 1.7069406509399414, 1.614018440246582, 1.4415563344955444, 1.3438948392868042, 1.1071535348892212, 1.0286041498184204, 0.7249352335929871, 0.6911814212799072, 0.4677545726299286, 0.35896041989326477, 0.17776606976985931, 0.06159373000264168, -0.057878825813531876, -0.17790177464485168, -0.280163437128067, -0.35033732652664185, -0.4184938967227936, -0.45772838592529297, -0.49172139167785645, -0.5074180364608765, -0.5091835856437683, -0.5095503926277161, -0.5086809992790222, -0.4881984293460846, -0.47149765491485596, -0.42953234910964966, -0.40614762902259827, -0.35397711396217346, -0.3229060769081116, -0.2663375437259674, -0.23159034550189972, -0.175735741853714, -0.1409517377614975, -0.08990611135959625, -0.05806949362158775, -0.015394511632621288, 0.0120461480692029, 0.03654969856142998, 0.0665222555398941, 0.09005831927061081, 0.10440473258495331, 0.11875525861978531, 0.12627911567687988, 0.1320732831954956, 0.13385716080665588, 0.1338566690683365, 0.12956634163856506, 0.12182359397411346, 0.11622577905654907, 0.10468626022338867, 0.09676790982484818, 0.08313193172216415, 0.0739639475941658, 0.05958259478211403, 0.05029294639825821, 0.0364895835518837, 0.027765611186623573, 0.015515598468482494, 0.007880082353949547, -0.0016891954001039267, -0.008385519497096539, -0.01554870791733265, -0.020546553656458855, -0.025617141276597977, -0.028526199981570244, -0.03128713741898537, -0.032599691301584244, -0.033340565860271454, -0.03328045830130577, -0.032331667840480804, -0.03123476356267929, -0.028882017359137535, -0.02719881944358349, -0.024057520553469658, -0.021907661110162735, -0.018373170867562294, -0.016038058325648308, -0.012455496937036514, -0.010171246714890003, -0.00683019682765007, -0.0047629717737436295]}, {\"type\": \"scatter\", \"x\": [0.0, 3.134171856800094e-05, 0.000344758911523968, 0.0034789307974278927, 0.03482064977288246, 0.10000000149011612, 0.13985200226306915, 0.20000000298023224, 0.24313610792160034, 0.30000001192092896, 0.3459392786026001, 0.4000000059604645, 0.44828325510025024, 0.5, 0.549048900604248, 0.6000000238418579, 0.6471068859100342, 0.699999988079071, 0.7316665053367615, 0.800000011920929, 0.848839282989502, 0.8999999761581421, 0.9591057896614075, 1.0, 1.0661823749542236, 1.100000023841858, 1.1760919094085693, 1.2000000476837158, 1.2900856733322144, 1.2999999523162842, 1.3664230108261108, 1.399999976158142, 1.4588183164596558, 1.5, 1.5465314388275146, 1.600000023841858, 1.6544588804244995, 1.7000000476837158, 1.7564139366149902, 1.7999999523162842, 1.8552968502044678, 1.899999976158142, 1.9086928367614746, 1.995620608329773, 2.0, 2.0651087760925293, 2.0999999046325684, 2.1679162979125977, 2.200000047683716, 2.2643187046051025, 2.299999952316284, 2.3622753620147705, 2.4000000953674316, 2.4609198570251465, 2.5, 2.5599567890167236, 2.5999999046325684, 2.658273935317993, 2.700000047683716, 2.7414286136627197, 2.799999952316284, 2.8567638397216797, 2.9000000953674316, 2.9570577144622803, 3.0, 3.055192470550537, 3.0999999046325684, 3.115835428237915, 3.200000047683716, 3.2643723487854004, 3.299999952316284, 3.361999988555908, 3.4000000953674316, 3.4607455730438232, 3.5, 3.560537815093994, 3.5999999046325684, 3.6601271629333496, 3.700000047683716, 3.7595760822296143, 3.799999952316284, 3.855806827545166, 3.9000000953674316, 3.954608917236328, 4.0, 4.057262420654297, 4.099999904632568, 4.156745433807373, 4.199999809265137, 4.253383159637451, 4.300000190734863, 4.35998010635376, 4.400000095367432, 4.462804794311523, 4.5, 4.561257839202881, 4.599999904632568, 4.660651206970215, 4.699999809265137, 4.760446548461914, 4.800000190734863, 4.86027193069458, 4.900000095367432], \"y\": [0.0, -0.00047696050023660064, -0.005241624545305967, -0.05239465460181236, -0.4750312864780426, -1.0732145309448242, -1.3658907413482666, -1.4266964197158813, -1.4918276071548462, -1.2610961198806763, -1.1888247728347778, -0.9181815981864929, -0.8057374358177185, -0.5806838274002075, -0.4735485911369324, -0.2960984408855438, -0.20682618021965027, -0.056814998388290405, -0.004111845046281815, 0.1605043262243271, 0.24902422726154327, 0.37584468722343445, 0.49036747217178345, 0.5945215225219727, 0.719078779220581, 0.800261914730072, 0.9147647023200989, 0.958302915096283, 1.0218143463134766, 1.027588129043579, 1.0103672742843628, 0.9773168563842773, 0.9081929326057434, 0.8148510456085205, 0.737052321434021, 0.5932271480560303, 0.4892919659614563, 0.36838051676750183, 0.26833397150039673, 0.16925683617591858, 0.08576230704784393, 0.004254425410181284, -0.005837608128786087, -0.11964526027441025, -0.1261206418275833, -0.18791498243808746, -0.2228027880191803, -0.2673403024673462, -0.2864595353603363, -0.3103775382041931, -0.31800583004951477, -0.3246007263660431, -0.319794625043869, -0.3121088147163391, -0.2963831424713135, -0.2779652178287506, -0.2542911469936371, -0.229549840092659, -0.20089678466320038, -0.1822938770055771, -0.1431514024734497, -0.11530812829732895, -0.08674833178520203, -0.06057941913604736, -0.03583654761314392, -0.013956714421510696, 0.006882237270474434, 0.01183605007827282, 0.039971642196178436, 0.05508388951420784, 0.06297485530376434, 0.07215293496847153, 0.07622767984867096, 0.08047585934400558, 0.08079439401626587, 0.08083134889602661, 0.0780622735619545, 0.07488451153039932, 0.06983759254217148, 0.06442860513925552, 0.057918351143598557, 0.05168527364730835, 0.04401671886444092, 0.03744218125939369, 0.029646722599864006, 0.022754700854420662, 0.016005277633666992, 0.009812762960791588, 0.00401520449668169, -0.0008862651302479208, -0.005751410033553839, -0.01006381306797266, -0.013014896772801876, -0.01614067144691944, -0.017737234011292458, -0.01949186623096466, -0.02008945308625698, -0.02068142034113407, -0.020391467958688736, -0.020016837865114212, -0.019034357741475105, -0.017947109416127205, -0.016502054408192635]}, {\"type\": \"scatter\", \"x\": [0.0, 3.134171856800094e-05, 0.000344758911523968, 0.0034789307974278927, 0.03482064977288246, 0.10000000149011612, 0.13985200226306915, 0.20000000298023224, 0.24313610792160034, 0.30000001192092896, 0.3459392786026001, 0.4000000059604645, 0.44828325510025024, 0.5, 0.549048900604248, 0.6000000238418579, 0.6471068859100342, 0.699999988079071, 0.7316665053367615, 0.800000011920929, 0.848839282989502, 0.8999999761581421, 0.9591057896614075, 1.0, 1.0661823749542236, 1.100000023841858, 1.1760919094085693, 1.2000000476837158, 1.2900856733322144, 1.2999999523162842, 1.3664230108261108, 1.399999976158142, 1.4588183164596558, 1.5, 1.5465314388275146, 1.600000023841858, 1.6544588804244995, 1.7000000476837158, 1.7564139366149902, 1.7999999523162842, 1.8552968502044678, 1.899999976158142, 1.9086928367614746, 1.995620608329773, 2.0, 2.0651087760925293, 2.0999999046325684, 2.1679162979125977, 2.200000047683716, 2.2643187046051025, 2.299999952316284, 2.3622753620147705, 2.4000000953674316, 2.4609198570251465, 2.5, 2.5599567890167236, 2.5999999046325684, 2.658273935317993, 2.700000047683716, 2.7414286136627197, 2.799999952316284, 2.8567638397216797, 2.9000000953674316, 2.9570577144622803, 3.0, 3.055192470550537, 3.0999999046325684, 3.115835428237915, 3.200000047683716, 3.2643723487854004, 3.299999952316284, 3.361999988555908, 3.4000000953674316, 3.4607455730438232, 3.5, 3.560537815093994, 3.5999999046325684, 3.6601271629333496, 3.700000047683716, 3.7595760822296143, 3.799999952316284, 3.855806827545166, 3.9000000953674316, 3.954608917236328, 4.0, 4.057262420654297, 4.099999904632568, 4.156745433807373, 4.199999809265137, 4.253383159637451, 4.300000190734863, 4.35998010635376, 4.400000095367432, 4.462804794311523, 4.5, 4.561257839202881, 4.599999904632568, 4.660651206970215, 4.699999809265137, 4.760446548461914, 4.800000190734863, 4.86027193069458, 4.900000095367432], \"y\": [0.0, 0.0013235664227977395, 0.014546054415404797, 0.145454540848732, 1.3240740299224854, 3.0271408557891846, 3.880053997039795, 4.161403656005859, 4.435652256011963, 3.9259588718414307, 3.818722724914551, 3.1227478981018066, 2.8336174488067627, 2.153106689453125, 1.7812508344650269, 1.138648271560669, 0.7490731477737427, 0.12774811685085297, -0.12834705412387848, -0.8360118865966797, -1.2239470481872559, -1.7059823274612427, -2.1126694679260254, -2.4388437271118164, -2.7852368354797363, -2.9947900772094727, -3.2396082878112793, -3.332815170288086, -3.402048110961914, -3.406961679458618, -3.2950658798217773, -3.178192377090454, -2.9506616592407227, -2.6753573417663574, -2.4399213790893555, -2.023897171020508, -1.711324691772461, -1.356120228767395, -1.045824408531189, -0.7453369498252869, -0.47600194811820984, -0.220159113407135, -0.18596762418746948, 0.18819808959960938, 0.20888207852840424, 0.42083340883255005, 0.5369328260421753, 0.6949537396430969, 0.7620524168014526, 0.8532841205596924, 0.886229932308197, 0.9216543436050415, 0.9172140955924988, 0.9068121910095215, 0.8692485690116882, 0.8240254521369934, 0.7617285251617432, 0.6947502493858337, 0.6161656975746155, 0.5633595585823059, 0.45292797684669495, 0.3714650869369507, 0.28912070393562317, 0.21059131622314453, 0.13774831593036652, 0.0705108568072319, 0.007796951569616795, -0.0078878877684474, -0.09544633328914642, -0.1443537175655365, -0.1697208285331726, -0.2008843719959259, -0.21530140936374664, -0.23141683638095856, -0.2347756326198578, -0.23787006735801697, -0.23188531398773193, -0.22476035356521606, -0.21170663833618164, -0.1972353607416153, -0.17943887412548065, -0.16175633668899536, -0.140138179063797, -0.12083994597196579, -0.09836533665657043, -0.07765886187553406, -0.05782368779182434, -0.03881070762872696, -0.02143709361553192, -0.006046851631253958, 0.008882028050720692, 0.022752057760953903, 0.03209185227751732, 0.042523324489593506, 0.04789026081562042, 0.05416867509484291, 0.05662376061081886, 0.05931704118847847, 0.059116218239068985, 0.05877508595585823, 0.056446969509124756, 0.0537986196577549, 0.04999224469065666]}],\n",
       "                        {\"template\": {\"data\": {\"bar\": [{\"error_x\": {\"color\": \"#2a3f5f\"}, \"error_y\": {\"color\": \"#2a3f5f\"}, \"marker\": {\"line\": {\"color\": \"#E5ECF6\", \"width\": 0.5}}, \"type\": \"bar\"}], \"barpolar\": [{\"marker\": {\"line\": {\"color\": \"#E5ECF6\", \"width\": 0.5}}, \"type\": \"barpolar\"}], \"carpet\": [{\"aaxis\": {\"endlinecolor\": \"#2a3f5f\", \"gridcolor\": \"white\", \"linecolor\": \"white\", \"minorgridcolor\": \"white\", \"startlinecolor\": \"#2a3f5f\"}, \"baxis\": {\"endlinecolor\": \"#2a3f5f\", \"gridcolor\": \"white\", \"linecolor\": \"white\", \"minorgridcolor\": \"white\", \"startlinecolor\": \"#2a3f5f\"}, \"type\": \"carpet\"}], \"choropleth\": [{\"colorbar\": {\"outlinewidth\": 0, \"ticks\": \"\"}, \"type\": \"choropleth\"}], \"contour\": [{\"colorbar\": {\"outlinewidth\": 0, \"ticks\": \"\"}, \"colorscale\": [[0.0, \"#0d0887\"], [0.1111111111111111, \"#46039f\"], [0.2222222222222222, \"#7201a8\"], [0.3333333333333333, \"#9c179e\"], [0.4444444444444444, \"#bd3786\"], [0.5555555555555556, \"#d8576b\"], [0.6666666666666666, \"#ed7953\"], [0.7777777777777778, \"#fb9f3a\"], [0.8888888888888888, \"#fdca26\"], [1.0, \"#f0f921\"]], \"type\": \"contour\"}], \"contourcarpet\": [{\"colorbar\": {\"outlinewidth\": 0, \"ticks\": \"\"}, \"type\": \"contourcarpet\"}], \"heatmap\": [{\"colorbar\": {\"outlinewidth\": 0, \"ticks\": \"\"}, \"colorscale\": [[0.0, \"#0d0887\"], [0.1111111111111111, \"#46039f\"], [0.2222222222222222, \"#7201a8\"], [0.3333333333333333, \"#9c179e\"], [0.4444444444444444, \"#bd3786\"], [0.5555555555555556, \"#d8576b\"], [0.6666666666666666, \"#ed7953\"], [0.7777777777777778, \"#fb9f3a\"], [0.8888888888888888, \"#fdca26\"], [1.0, \"#f0f921\"]], \"type\": \"heatmap\"}], \"heatmapgl\": [{\"colorbar\": {\"outlinewidth\": 0, \"ticks\": \"\"}, \"colorscale\": [[0.0, \"#0d0887\"], [0.1111111111111111, \"#46039f\"], [0.2222222222222222, \"#7201a8\"], [0.3333333333333333, \"#9c179e\"], [0.4444444444444444, \"#bd3786\"], [0.5555555555555556, \"#d8576b\"], [0.6666666666666666, \"#ed7953\"], [0.7777777777777778, \"#fb9f3a\"], [0.8888888888888888, \"#fdca26\"], [1.0, \"#f0f921\"]], \"type\": \"heatmapgl\"}], \"histogram\": [{\"marker\": {\"colorbar\": {\"outlinewidth\": 0, \"ticks\": \"\"}}, \"type\": \"histogram\"}], \"histogram2d\": [{\"colorbar\": {\"outlinewidth\": 0, \"ticks\": \"\"}, \"colorscale\": [[0.0, \"#0d0887\"], [0.1111111111111111, \"#46039f\"], [0.2222222222222222, \"#7201a8\"], [0.3333333333333333, \"#9c179e\"], [0.4444444444444444, \"#bd3786\"], [0.5555555555555556, \"#d8576b\"], [0.6666666666666666, \"#ed7953\"], [0.7777777777777778, \"#fb9f3a\"], [0.8888888888888888, \"#fdca26\"], [1.0, \"#f0f921\"]], \"type\": \"histogram2d\"}], \"histogram2dcontour\": [{\"colorbar\": {\"outlinewidth\": 0, \"ticks\": \"\"}, \"colorscale\": [[0.0, \"#0d0887\"], [0.1111111111111111, \"#46039f\"], [0.2222222222222222, \"#7201a8\"], [0.3333333333333333, \"#9c179e\"], [0.4444444444444444, \"#bd3786\"], [0.5555555555555556, \"#d8576b\"], [0.6666666666666666, \"#ed7953\"], [0.7777777777777778, \"#fb9f3a\"], [0.8888888888888888, \"#fdca26\"], [1.0, \"#f0f921\"]], \"type\": \"histogram2dcontour\"}], \"mesh3d\": [{\"colorbar\": {\"outlinewidth\": 0, \"ticks\": \"\"}, \"type\": \"mesh3d\"}], \"parcoords\": [{\"line\": {\"colorbar\": {\"outlinewidth\": 0, \"ticks\": \"\"}}, \"type\": \"parcoords\"}], \"pie\": [{\"automargin\": true, \"type\": \"pie\"}], \"scatter\": [{\"marker\": {\"colorbar\": {\"outlinewidth\": 0, \"ticks\": \"\"}}, \"type\": \"scatter\"}], \"scatter3d\": [{\"line\": {\"colorbar\": {\"outlinewidth\": 0, \"ticks\": \"\"}}, \"marker\": {\"colorbar\": {\"outlinewidth\": 0, \"ticks\": \"\"}}, \"type\": \"scatter3d\"}], \"scattercarpet\": [{\"marker\": {\"colorbar\": {\"outlinewidth\": 0, \"ticks\": \"\"}}, \"type\": \"scattercarpet\"}], \"scattergeo\": [{\"marker\": {\"colorbar\": {\"outlinewidth\": 0, \"ticks\": \"\"}}, \"type\": \"scattergeo\"}], \"scattergl\": [{\"marker\": {\"colorbar\": {\"outlinewidth\": 0, \"ticks\": \"\"}}, \"type\": \"scattergl\"}], \"scattermapbox\": [{\"marker\": {\"colorbar\": {\"outlinewidth\": 0, \"ticks\": \"\"}}, \"type\": \"scattermapbox\"}], \"scatterpolar\": [{\"marker\": {\"colorbar\": {\"outlinewidth\": 0, \"ticks\": \"\"}}, \"type\": \"scatterpolar\"}], \"scatterpolargl\": [{\"marker\": {\"colorbar\": {\"outlinewidth\": 0, \"ticks\": \"\"}}, \"type\": \"scatterpolargl\"}], \"scatterternary\": [{\"marker\": {\"colorbar\": {\"outlinewidth\": 0, \"ticks\": \"\"}}, \"type\": \"scatterternary\"}], \"surface\": [{\"colorbar\": {\"outlinewidth\": 0, \"ticks\": \"\"}, \"colorscale\": [[0.0, \"#0d0887\"], [0.1111111111111111, \"#46039f\"], [0.2222222222222222, \"#7201a8\"], [0.3333333333333333, \"#9c179e\"], [0.4444444444444444, \"#bd3786\"], [0.5555555555555556, \"#d8576b\"], [0.6666666666666666, \"#ed7953\"], [0.7777777777777778, \"#fb9f3a\"], [0.8888888888888888, \"#fdca26\"], [1.0, \"#f0f921\"]], \"type\": \"surface\"}], \"table\": [{\"cells\": {\"fill\": {\"color\": \"#EBF0F8\"}, \"line\": {\"color\": \"white\"}}, \"header\": {\"fill\": {\"color\": \"#C8D4E3\"}, \"line\": {\"color\": \"white\"}}, \"type\": \"table\"}]}, \"layout\": {\"annotationdefaults\": {\"arrowcolor\": \"#2a3f5f\", \"arrowhead\": 0, \"arrowwidth\": 1}, \"coloraxis\": {\"colorbar\": {\"outlinewidth\": 0, \"ticks\": \"\"}}, \"colorscale\": {\"diverging\": [[0, \"#8e0152\"], [0.1, \"#c51b7d\"], [0.2, \"#de77ae\"], [0.3, \"#f1b6da\"], [0.4, \"#fde0ef\"], [0.5, \"#f7f7f7\"], [0.6, \"#e6f5d0\"], [0.7, \"#b8e186\"], [0.8, \"#7fbc41\"], [0.9, \"#4d9221\"], [1, \"#276419\"]], \"sequential\": [[0.0, \"#0d0887\"], [0.1111111111111111, \"#46039f\"], [0.2222222222222222, \"#7201a8\"], [0.3333333333333333, \"#9c179e\"], [0.4444444444444444, \"#bd3786\"], [0.5555555555555556, \"#d8576b\"], [0.6666666666666666, \"#ed7953\"], [0.7777777777777778, \"#fb9f3a\"], [0.8888888888888888, \"#fdca26\"], [1.0, \"#f0f921\"]], \"sequentialminus\": [[0.0, \"#0d0887\"], [0.1111111111111111, \"#46039f\"], [0.2222222222222222, \"#7201a8\"], [0.3333333333333333, \"#9c179e\"], [0.4444444444444444, \"#bd3786\"], [0.5555555555555556, \"#d8576b\"], [0.6666666666666666, \"#ed7953\"], [0.7777777777777778, \"#fb9f3a\"], [0.8888888888888888, \"#fdca26\"], [1.0, \"#f0f921\"]]}, \"colorway\": [\"#636efa\", \"#EF553B\", \"#00cc96\", \"#ab63fa\", \"#FFA15A\", \"#19d3f3\", \"#FF6692\", \"#B6E880\", \"#FF97FF\", \"#FECB52\"], \"font\": {\"color\": \"#2a3f5f\"}, \"geo\": {\"bgcolor\": \"white\", \"lakecolor\": \"white\", \"landcolor\": \"#E5ECF6\", \"showlakes\": true, \"showland\": true, \"subunitcolor\": \"white\"}, \"hoverlabel\": {\"align\": \"left\"}, \"hovermode\": \"closest\", \"mapbox\": {\"style\": \"light\"}, \"paper_bgcolor\": \"white\", \"plot_bgcolor\": \"#E5ECF6\", \"polar\": {\"angularaxis\": {\"gridcolor\": \"white\", \"linecolor\": \"white\", \"ticks\": \"\"}, \"bgcolor\": \"#E5ECF6\", \"radialaxis\": {\"gridcolor\": \"white\", \"linecolor\": \"white\", \"ticks\": \"\"}}, \"scene\": {\"xaxis\": {\"backgroundcolor\": \"#E5ECF6\", \"gridcolor\": \"white\", \"gridwidth\": 2, \"linecolor\": \"white\", \"showbackground\": true, \"ticks\": \"\", \"zerolinecolor\": \"white\"}, \"yaxis\": {\"backgroundcolor\": \"#E5ECF6\", \"gridcolor\": \"white\", \"gridwidth\": 2, \"linecolor\": \"white\", \"showbackground\": true, \"ticks\": \"\", \"zerolinecolor\": \"white\"}, \"zaxis\": {\"backgroundcolor\": \"#E5ECF6\", \"gridcolor\": \"white\", \"gridwidth\": 2, \"linecolor\": \"white\", \"showbackground\": true, \"ticks\": \"\", \"zerolinecolor\": \"white\"}}, \"shapedefaults\": {\"line\": {\"color\": \"#2a3f5f\"}}, \"ternary\": {\"aaxis\": {\"gridcolor\": \"white\", \"linecolor\": \"white\", \"ticks\": \"\"}, \"baxis\": {\"gridcolor\": \"white\", \"linecolor\": \"white\", \"ticks\": \"\"}, \"bgcolor\": \"#E5ECF6\", \"caxis\": {\"gridcolor\": \"white\", \"linecolor\": \"white\", \"ticks\": \"\"}}, \"title\": {\"x\": 0.05}, \"xaxis\": {\"automargin\": true, \"gridcolor\": \"white\", \"linecolor\": \"white\", \"ticks\": \"\", \"title\": {\"standoff\": 15}, \"zerolinecolor\": \"white\", \"zerolinewidth\": 2}, \"yaxis\": {\"automargin\": true, \"gridcolor\": \"white\", \"linecolor\": \"white\", \"ticks\": \"\", \"title\": {\"standoff\": 15}, \"zerolinecolor\": \"white\", \"zerolinewidth\": 2}}}},\n",
       "                        {\"responsive\": true}\n",
       "                    ).then(function(){\n",
       "                            \n",
       "var gd = document.getElementById('af0861bb-e795-4f0f-b87c-fa654ce30159');\n",
       "var x = new MutationObserver(function (mutations, observer) {{\n",
       "        var display = window.getComputedStyle(gd).display;\n",
       "        if (!display || display === 'none') {{\n",
       "            console.log([gd, 'removed!']);\n",
       "            Plotly.purge(gd);\n",
       "            observer.disconnect();\n",
       "        }}\n",
       "}});\n",
       "\n",
       "// Listen for the removal of the full notebook cells\n",
       "var notebookContainer = gd.closest('#notebook-container');\n",
       "if (notebookContainer) {{\n",
       "    x.observe(notebookContainer, {childList: true});\n",
       "}}\n",
       "\n",
       "// Listen for the clearing of the current output cell\n",
       "var outputEl = gd.closest('.output');\n",
       "if (outputEl) {{\n",
       "    x.observe(outputEl, {childList: true});\n",
       "}}\n",
       "\n",
       "                        })\n",
       "                };\n",
       "                });\n",
       "            </script>\n",
       "        </div>"
      ]
     },
     "metadata": {},
     "output_type": "display_data"
    }
   ],
   "source": [
    "# ctrl = lambda x: (torch.zeros(1), torch.zeros(1), None)\n",
    "\n",
    "Q = torch.diag(torch.tensor([1., 1., 1., 1.]))\n",
    "R = torch.diag(torch.tensor([1.]))\n",
    "x_nom = torch.tensor([np.pi, 0., 0., 0.], dtype=vf.dtype)\n",
    "u_nom = torch.zeros(vf.u_dim[0], dtype=vf.dtype)\n",
    "ctrl, S = controllers.get_lqr_controller(sys.dx, x_nom, u_nom, Q, R, vf.u_lo[0], vf.u_up[0])\n",
    "S = torch.tensor(S, dtype=vf.dtype)\n",
    "lqr_model = value_approximation.QuadraticModel(vf.x_dim[0], vf.dtype, Q=S, q=-2.*S@x_nom, c=x_nom@S@x_nom)\n",
    "\n",
    "# ctrl = controllers.get_sampling_infinite_horizon_controller(sys.dx,\n",
    "#                                                             vf.step_cost,\n",
    "#                                                             lqr_model,\n",
    "#                                                             vf.x_lo[0],\n",
    "#                                                             vf.x_up[0],\n",
    "#                                                             vf.u_lo[0],\n",
    "#                                                             vf.u_up[0],\n",
    "#                                                             vf.dt_lo,\n",
    "#                                                             500)\n",
    "\n",
    "vf_ctrl, sys_ctrl = acrobot_utils.get_value_function(5)\n",
    "ctrl = controllers.get_limited_lookahead_controller(vf_ctrl, lqr_model)\n",
    "# ctrl = controllers.get_limited_lookahead_controller(vf_ctrl)\n",
    "\n",
    "x0 = torch.tensor([np.pi+.1, .1, 0., 0.], dtype=vf.dtype)\n",
    "x_traj_sim, t_traj_sim = controllers.sim_ctrl(x0, 1, sys.dx, ctrl, .1, 50)\n",
    "\n",
    "fig = go.Figure()\n",
    "for i in range(4):\n",
    "    fig.add_trace(go.Scatter(\n",
    "        x=t_traj_sim,\n",
    "        y=x_traj_sim[i,:]\n",
    "    ))\n",
    "fig.show()"
   ]
  },
  {
   "cell_type": "code",
   "execution_count": 542,
   "metadata": {},
   "outputs": [],
   "source": [
    "x0_lo = torch.tensor([np.pi-.1, -1., -2., -2.], dtype=vf.dtype)\n",
    "x0_up = torch.tensor([np.pi+.1, 1., 2., 2.], dtype=vf.dtype)\n",
    "\n",
    "# file options\n",
    "sys_name = 'acrobot'\n",
    "x_samples_file = '../data/validation_' + sys_name + '_x.pt'\n",
    "v_samples_file = '../data/validation_' + sys_name + '_v.pt'\n",
    "model_file = '../data/' + sys_name + '.pt'"
   ]
  },
  {
   "cell_type": "code",
   "execution_count": 553,
   "metadata": {},
   "outputs": [],
   "source": [
    "opt = dict(\n",
    "    max_buffer_size = None,\n",
    "    batch_size = 1000,\n",
    "    nn_width = None,\n",
    "    nn_depth = None,\n",
    "    learning_rate = .001,\n",
    "    \n",
    "    init_num_samples = 10,\n",
    "    init_num_trainig_step = 30000,\n",
    "    \n",
    "    num_generations = 10,\n",
    "    num_samples_per_generation = 10,\n",
    "    num_train_step_per_gen = 10000,\n",
    "    \n",
    "    adv_max_iter = 2,\n",
    "    adv_conv_tol = 1e-5,\n",
    "    adv_learning_rate = .2,\n",
    "    \n",
    "    num_samples_validation = 1000,\n",
    ")"
   ]
  },
  {
   "cell_type": "code",
   "execution_count": 554,
   "metadata": {},
   "outputs": [],
   "source": [
    "samples_gen = samples_generator.RandomSampleGenerator(vf, x0_lo, x0_up)\n",
    "samples_buff = samples_buffer.SamplesBuffer(vf.x_dim[0], 1, vf.dtype, max_size=opt['max_buffer_size'])"
   ]
  },
  {
   "cell_type": "code",
   "execution_count": 555,
   "metadata": {},
   "outputs": [],
   "source": [
    "vf_approx = value_approximation.InfiniteHorizonValueFunctionApproximation(vf.dtype,\n",
    "                                                                          vf.x_dim[0],\n",
    "                                                                          learning_rate=opt['learning_rate'],\n",
    "                                                                          nn_width=opt['nn_width'],\n",
    "                                                                          nn_depth=opt['nn_depth'])\n",
    "train_log = training_log.TrainingLog(1, prefix=\"baseline\")"
   ]
  },
  {
   "cell_type": "code",
   "execution_count": null,
   "metadata": {},
   "outputs": [],
   "source": [
    "warm_start_radius = None\n",
    "x_samples_validation, v_labels_validation = samples_gen.generate_samples(opt['num_samples_validation'],\n",
    "                                                                         show_progress=True,\n",
    "                                                                         warm_start_radius=warm_start_radius)"
   ]
  },
  {
   "cell_type": "code",
   "execution_count": null,
   "metadata": {},
   "outputs": [],
   "source": [
    "torch.save(x_samples_validation, x_samples_file)\n",
    "torch.save(v_labels_validation, v_samples_file)"
   ]
  },
  {
   "cell_type": "code",
   "execution_count": 471,
   "metadata": {},
   "outputs": [],
   "source": [
    "x_samples_validation = torch.load(x_samples_file)\n",
    "v_labels_validation = torch.load(v_samples_file)"
   ]
  },
  {
   "cell_type": "code",
   "execution_count": 291,
   "metadata": {},
   "outputs": [],
   "source": [
    "x = torch.rand((1000, 4), dtype=vf.dtype)\n",
    "v = lqr_model(x)\n",
    "samples_buff.add_samples(x, v.detach())"
   ]
  },
  {
   "cell_type": "code",
   "execution_count": 556,
   "metadata": {},
   "outputs": [],
   "source": [
    "x = x_samples_validation[v_labels_validation[:,0] < 50, :]\n",
    "v = v_labels_validation[v_labels_validation[:,0] < 50, :]\n",
    "samples_buff.add_samples(x, v)"
   ]
  },
  {
   "cell_type": "code",
   "execution_count": 546,
   "metadata": {},
   "outputs": [
    {
     "ename": "AttributeError",
     "evalue": "'QuadraticModel' object has no attribute 'x_desired'",
     "output_type": "error",
     "traceback": [
      "\u001b[0;31m---------------------------------------------------------------------------\u001b[0m",
      "\u001b[0;31mAttributeError\u001b[0m                            Traceback (most recent call last)",
      "\u001b[0;32m<ipython-input-546-29bf864a5929>\u001b[0m in \u001b[0;36m<module>\u001b[0;34m\u001b[0m\n\u001b[1;32m      1\u001b[0m \u001b[0mx\u001b[0m \u001b[0;34m=\u001b[0m \u001b[0mx_samples_validation\u001b[0m\u001b[0;34m\u001b[0m\u001b[0;34m\u001b[0m\u001b[0m\n\u001b[0;32m----> 2\u001b[0;31m \u001b[0mv\u001b[0m \u001b[0;34m=\u001b[0m \u001b[0mlqr_model\u001b[0m\u001b[0;34m(\u001b[0m\u001b[0mx_samples_validation\u001b[0m\u001b[0;34m)\u001b[0m\u001b[0;34m.\u001b[0m\u001b[0mdetach\u001b[0m\u001b[0;34m(\u001b[0m\u001b[0;34m)\u001b[0m\u001b[0;34m\u001b[0m\u001b[0;34m\u001b[0m\u001b[0m\n\u001b[0m\u001b[1;32m      3\u001b[0m \u001b[0msamples_buff\u001b[0m\u001b[0;34m.\u001b[0m\u001b[0madd_samples\u001b[0m\u001b[0;34m(\u001b[0m\u001b[0mx\u001b[0m\u001b[0;34m,\u001b[0m \u001b[0mv\u001b[0m\u001b[0;34m)\u001b[0m\u001b[0;34m\u001b[0m\u001b[0;34m\u001b[0m\u001b[0m\n",
      "\u001b[0;32m~/Code/robust-value-approx/env/lib/python3.7/site-packages/torch/nn/modules/module.py\u001b[0m in \u001b[0;36m__call__\u001b[0;34m(self, *input, **kwargs)\u001b[0m\n\u001b[1;32m    539\u001b[0m             \u001b[0mresult\u001b[0m \u001b[0;34m=\u001b[0m \u001b[0mself\u001b[0m\u001b[0;34m.\u001b[0m\u001b[0m_slow_forward\u001b[0m\u001b[0;34m(\u001b[0m\u001b[0;34m*\u001b[0m\u001b[0minput\u001b[0m\u001b[0;34m,\u001b[0m \u001b[0;34m**\u001b[0m\u001b[0mkwargs\u001b[0m\u001b[0;34m)\u001b[0m\u001b[0;34m\u001b[0m\u001b[0;34m\u001b[0m\u001b[0m\n\u001b[1;32m    540\u001b[0m         \u001b[0;32melse\u001b[0m\u001b[0;34m:\u001b[0m\u001b[0;34m\u001b[0m\u001b[0;34m\u001b[0m\u001b[0m\n\u001b[0;32m--> 541\u001b[0;31m             \u001b[0mresult\u001b[0m \u001b[0;34m=\u001b[0m \u001b[0mself\u001b[0m\u001b[0;34m.\u001b[0m\u001b[0mforward\u001b[0m\u001b[0;34m(\u001b[0m\u001b[0;34m*\u001b[0m\u001b[0minput\u001b[0m\u001b[0;34m,\u001b[0m \u001b[0;34m**\u001b[0m\u001b[0mkwargs\u001b[0m\u001b[0;34m)\u001b[0m\u001b[0;34m\u001b[0m\u001b[0;34m\u001b[0m\u001b[0m\n\u001b[0m\u001b[1;32m    542\u001b[0m         \u001b[0;32mfor\u001b[0m \u001b[0mhook\u001b[0m \u001b[0;32min\u001b[0m \u001b[0mself\u001b[0m\u001b[0;34m.\u001b[0m\u001b[0m_forward_hooks\u001b[0m\u001b[0;34m.\u001b[0m\u001b[0mvalues\u001b[0m\u001b[0;34m(\u001b[0m\u001b[0;34m)\u001b[0m\u001b[0;34m:\u001b[0m\u001b[0;34m\u001b[0m\u001b[0;34m\u001b[0m\u001b[0m\n\u001b[1;32m    543\u001b[0m             \u001b[0mhook_result\u001b[0m \u001b[0;34m=\u001b[0m \u001b[0mhook\u001b[0m\u001b[0;34m(\u001b[0m\u001b[0mself\u001b[0m\u001b[0;34m,\u001b[0m \u001b[0minput\u001b[0m\u001b[0;34m,\u001b[0m \u001b[0mresult\u001b[0m\u001b[0;34m)\u001b[0m\u001b[0;34m\u001b[0m\u001b[0;34m\u001b[0m\u001b[0m\n",
      "\u001b[0;32m~/Code/robust-value-approx/robust_value_approx/value_approximation.py\u001b[0m in \u001b[0;36mforward\u001b[0;34m(self, x)\u001b[0m\n\u001b[1;32m     43\u001b[0m             \u001b[0;32mreturn\u001b[0m \u001b[0;34m(\u001b[0m\u001b[0mdx\u001b[0m\u001b[0;34m@\u001b[0m\u001b[0;34m(\u001b[0m\u001b[0mself\u001b[0m\u001b[0;34m.\u001b[0m\u001b[0msqrtQ\u001b[0m\u001b[0;34m.\u001b[0m\u001b[0mt\u001b[0m\u001b[0;34m(\u001b[0m\u001b[0;34m)\u001b[0m\u001b[0;34m@\u001b[0m\u001b[0mself\u001b[0m\u001b[0;34m.\u001b[0m\u001b[0msqrtQ\u001b[0m\u001b[0;34m)\u001b[0m\u001b[0;34m@\u001b[0m\u001b[0mdx\u001b[0m\u001b[0;34m)\u001b[0m\u001b[0;34m\u001b[0m\u001b[0;34m\u001b[0m\u001b[0m\n\u001b[1;32m     44\u001b[0m         \u001b[0;32melse\u001b[0m\u001b[0;34m:\u001b[0m\u001b[0;34m\u001b[0m\u001b[0;34m\u001b[0m\u001b[0m\n\u001b[0;32m---> 45\u001b[0;31m             \u001b[0mdx\u001b[0m \u001b[0;34m=\u001b[0m \u001b[0mx\u001b[0m \u001b[0;34m-\u001b[0m \u001b[0mself\u001b[0m\u001b[0;34m.\u001b[0m\u001b[0mx_desired\u001b[0m\u001b[0;34m.\u001b[0m\u001b[0mrepeat\u001b[0m\u001b[0;34m(\u001b[0m\u001b[0;34m(\u001b[0m\u001b[0mx\u001b[0m\u001b[0;34m.\u001b[0m\u001b[0mshape\u001b[0m\u001b[0;34m[\u001b[0m\u001b[0;36m0\u001b[0m\u001b[0;34m]\u001b[0m\u001b[0;34m,\u001b[0m \u001b[0;36m1\u001b[0m\u001b[0;34m)\u001b[0m\u001b[0;34m)\u001b[0m\u001b[0;34m\u001b[0m\u001b[0;34m\u001b[0m\u001b[0m\n\u001b[0m\u001b[1;32m     46\u001b[0m             \u001b[0;32mreturn\u001b[0m \u001b[0;34m(\u001b[0m\u001b[0mtorch\u001b[0m\u001b[0;34m.\u001b[0m\u001b[0mdiag\u001b[0m\u001b[0;34m(\u001b[0m\u001b[0mdx\u001b[0m\u001b[0;34m@\u001b[0m\u001b[0;34m(\u001b[0m\u001b[0mself\u001b[0m\u001b[0;34m.\u001b[0m\u001b[0msqrtQ\u001b[0m\u001b[0;34m.\u001b[0m\u001b[0mt\u001b[0m\u001b[0;34m(\u001b[0m\u001b[0;34m)\u001b[0m\u001b[0;34m@\u001b[0m\u001b[0mself\u001b[0m\u001b[0;34m.\u001b[0m\u001b[0msqrtQ\u001b[0m\u001b[0;34m)\u001b[0m\u001b[0;34m@\u001b[0m\u001b[0mdx\u001b[0m\u001b[0;34m.\u001b[0m\u001b[0mt\u001b[0m\u001b[0;34m(\u001b[0m\u001b[0;34m)\u001b[0m\u001b[0;34m)\u001b[0m\u001b[0;34m)\u001b[0m\u001b[0;34m.\u001b[0m\u001b[0munsqueeze\u001b[0m\u001b[0;34m(\u001b[0m\u001b[0;36m1\u001b[0m\u001b[0;34m)\u001b[0m\u001b[0;34m\u001b[0m\u001b[0;34m\u001b[0m\u001b[0m\n\u001b[1;32m     47\u001b[0m \u001b[0;34m\u001b[0m\u001b[0m\n",
      "\u001b[0;32m~/Code/robust-value-approx/env/lib/python3.7/site-packages/torch/nn/modules/module.py\u001b[0m in \u001b[0;36m__getattr__\u001b[0;34m(self, name)\u001b[0m\n\u001b[1;32m    583\u001b[0m                 \u001b[0;32mreturn\u001b[0m \u001b[0mmodules\u001b[0m\u001b[0;34m[\u001b[0m\u001b[0mname\u001b[0m\u001b[0;34m]\u001b[0m\u001b[0;34m\u001b[0m\u001b[0;34m\u001b[0m\u001b[0m\n\u001b[1;32m    584\u001b[0m         raise AttributeError(\"'{}' object has no attribute '{}'\".format(\n\u001b[0;32m--> 585\u001b[0;31m             type(self).__name__, name))\n\u001b[0m\u001b[1;32m    586\u001b[0m \u001b[0;34m\u001b[0m\u001b[0m\n\u001b[1;32m    587\u001b[0m     \u001b[0;32mdef\u001b[0m \u001b[0m__setattr__\u001b[0m\u001b[0;34m(\u001b[0m\u001b[0mself\u001b[0m\u001b[0;34m,\u001b[0m \u001b[0mname\u001b[0m\u001b[0;34m,\u001b[0m \u001b[0mvalue\u001b[0m\u001b[0;34m)\u001b[0m\u001b[0;34m:\u001b[0m\u001b[0;34m\u001b[0m\u001b[0;34m\u001b[0m\u001b[0m\n",
      "\u001b[0;31mAttributeError\u001b[0m: 'QuadraticModel' object has no attribute 'x_desired'"
     ]
    }
   ],
   "source": [
    "x = x_samples_validation\n",
    "v = lqr_model(x_samples_validation).detach()\n",
    "samples_buff.add_samples(x, v)"
   ]
  },
  {
   "cell_type": "code",
   "execution_count": 440,
   "metadata": {},
   "outputs": [],
   "source": [
    "# (x_samples, v_labels) = samples_gen.generate_samples(opt['init_num_samples'],\n",
    "#                                                      show_progress=True)\n",
    "# samples_buff.add_samples(x_samples, v_labels)\n",
    "\n",
    "# TEMPORARY\n",
    "samples_buff.add_samples(x_samples_validation, v_labels_validation)"
   ]
  },
  {
   "cell_type": "code",
   "execution_count": 441,
   "metadata": {},
   "outputs": [],
   "source": [
    "vf_approx.model = copy.deepcopy(lqr_model)"
   ]
  },
  {
   "cell_type": "code",
   "execution_count": 559,
   "metadata": {},
   "outputs": [],
   "source": [
    "for train_step_i in range(opt['init_num_trainig_step']):\n",
    "    x, v = samples_buff.get_random_samples(opt['batch_size'])\n",
    "    losses = vf_approx.train_step(x, v)\n",
    "    train_log.add_train_loss(losses)"
   ]
  },
  {
   "cell_type": "code",
   "execution_count": 565,
   "metadata": {},
   "outputs": [
    {
     "name": "stdout",
     "output_type": "stream",
     "text": [
      "Parameter containing:\n",
      "tensor([[81.8209, 22.6451, 36.6020, 12.6230],\n",
      "        [22.6451,  9.5495, 10.6264,  4.5628],\n",
      "        [36.6020, 10.6264, 17.0011,  5.9124],\n",
      "        [12.6230,  4.5628,  5.9124,  2.7783]], dtype=torch.float64,\n",
      "       requires_grad=True)\n",
      "Parameter containing:\n",
      "tensor([[ 4.8330e+00, -2.4108e-01, -1.9685e+00, -8.1444e-01],\n",
      "        [ 1.0530e+01, -5.1563e-01,  8.0975e-01, -3.7840e-01],\n",
      "        [-1.2380e+01,  4.5731e-01, -1.1316e-02, -8.0703e-01],\n",
      "        [ 8.4437e+00,  1.3753e+00,  1.5636e+00,  4.3315e-01]],\n",
      "       dtype=torch.float64, requires_grad=True)\n",
      "Parameter containing:\n",
      "tensor([-54704.5861, -15806.2200, -24707.6967,  -8718.6892],\n",
      "       dtype=torch.float64, requires_grad=True)\n",
      "Parameter containing:\n",
      "tensor([ 0.4949, -0.0286,  0.1477,  0.1260], dtype=torch.float64,\n",
      "       requires_grad=True)\n",
      "Parameter containing:\n",
      "tensor(85929.7629, dtype=torch.float64, requires_grad=True)\n",
      "Parameter containing:\n",
      "tensor([0.5794], dtype=torch.float64, requires_grad=True)\n",
      "tensor([3.1416, 0.0000, 0.0000, 0.0000], dtype=torch.float64)\n"
     ]
    }
   ],
   "source": [
    "print(lqr_model.sqrtQ)\n",
    "print(vf_approx.model.sqrtQ)\n",
    "print(lqr_model.q)\n",
    "print(vf_approx.model.q)\n",
    "print(lqr_model.c)\n",
    "print(vf_approx.model.c)\n",
    "print(vf_approx.model.x_desired)"
   ]
  },
  {
   "cell_type": "code",
   "execution_count": 541,
   "metadata": {},
   "outputs": [
    {
     "name": "stdout",
     "output_type": "stream",
     "text": [
      "Parameter containing:\n",
      "tensor([[81.8209, 22.6451, 36.6020, 12.6230],\n",
      "        [22.6451,  9.5495, 10.6264,  4.5628],\n",
      "        [36.6020, 10.6264, 17.0011,  5.9124],\n",
      "        [12.6230,  4.5628,  5.9124,  2.7783]], dtype=torch.float64,\n",
      "       requires_grad=True)\n",
      "Parameter containing:\n",
      "tensor([[ 0.1803,  0.1575,  0.5409,  0.4535],\n",
      "        [ 0.3171,  0.5267,  1.4986,  0.3109],\n",
      "        [-0.3726, -0.6223, -1.7684, -0.3588],\n",
      "        [-0.2819, -0.2350, -0.8212, -0.7312]], dtype=torch.float64,\n",
      "       requires_grad=True)\n",
      "Parameter containing:\n",
      "tensor([-54704.5861, -15806.2200, -24707.6967,  -8718.6892],\n",
      "       dtype=torch.float64, requires_grad=True)\n",
      "Parameter containing:\n",
      "tensor([ 0.2115, -2.4843, -8.1372, -2.4630], dtype=torch.float64,\n",
      "       requires_grad=True)\n",
      "Parameter containing:\n",
      "tensor(85929.7629, dtype=torch.float64, requires_grad=True)\n",
      "Parameter containing:\n",
      "tensor([0.5740], dtype=torch.float64, requires_grad=True)\n"
     ]
    }
   ],
   "source": [
    "print(lqr_model.sqrtQ)\n",
    "print(vf_approx.model.sqrtQ)\n",
    "print(lqr_model.q)\n",
    "print(vf_approx.model.q)\n",
    "print(lqr_model.c)\n",
    "print(vf_approx.model.c)"
   ]
  },
  {
   "cell_type": "code",
   "execution_count": 449,
   "metadata": {},
   "outputs": [
    {
     "name": "stdout",
     "output_type": "stream",
     "text": [
      "tensor([[2.0354e+02, 1.3101e+00],\n",
      "        [3.1014e+03, 1.8534e+01],\n",
      "        [2.6130e+01, 4.8519e-01],\n",
      "        ...,\n",
      "        [6.1773e+03, 4.7435e+01],\n",
      "        [3.7383e+00, 5.9940e+01],\n",
      "        [1.6926e+03, 1.5182e+01]], dtype=torch.float64, grad_fn=<CatBackward>)\n",
      "tensor([572.7670], dtype=torch.float64)\n",
      "tensor([19459.5020], dtype=torch.float64, grad_fn=<SelectBackward>)\n"
     ]
    }
   ],
   "source": [
    "print(torch.cat((vf_approx.model(x_samples_validation), v_labels_validation), axis=1))\n",
    "print(max(v_labels_validation))\n",
    "print(max(vf_approx.model(x_samples_validation)))"
   ]
  },
  {
   "cell_type": "code",
   "execution_count": 476,
   "metadata": {},
   "outputs": [
    {
     "data": {
      "application/vnd.plotly.v1+json": {
       "config": {
        "plotlyServerURL": "https://plot.ly"
       },
       "data": [
        {
         "type": "scatter",
         "y": [
          662562.5925603235,
          290920.308239336,
          4593966.834122082,
          12406.083335081348,
          1897223.5664310574,
          2183991.8456343003,
          4797542.9119459,
          5896405.746302218,
          4162215.8432013677,
          5940551.580702638,
          7984347.242536693,
          9948043.202225817,
          1072300.7897155331,
          5791307.714694296,
          1439508.6209408473,
          6165647.923936514,
          1140150.491904671,
          5797316.64233192,
          1187416.0854308575,
          351886.456921231,
          2060463.3851896506,
          5993947.969033645,
          1601498.4177614097,
          2067822.218764457,
          9187333.884837426,
          347046.1089185119,
          1240247.7487698635,
          4915840.857424365,
          2986101.9812781014,
          978035.5407552124,
          12364394.226729754,
          3869933.021537203,
          437865.01890078944,
          4894.269695083494,
          39401.23396283889,
          3140509.670034822,
          117530.69022481213,
          1624841.449915126,
          2333941.835283025,
          17046.38173758576,
          5722944.396513951,
          3878777.0626683487,
          2954340.9490495105,
          1965007.5835563184,
          2887727.3535629213,
          3064819.6001973264,
          44456.69959712541,
          680729.0783048375,
          1681224.7849602136,
          803666.2277604482,
          1295822.2302614157,
          13665140.700273419,
          2731758.6413945537,
          4550856.612214324,
          3755.804784173961,
          4501173.826067956,
          491603.97418348293,
          271538.05379208643,
          1465937.2504146013,
          26866.593729995657,
          1379451.9904625777,
          150204.01450288773,
          495901.9201876945,
          15710.227493356797,
          2859438.370227741,
          5678993.035388179,
          114933.4892649058,
          597612.2914579464,
          128302.9911389458,
          3554.678509972291,
          2860703.166162799,
          2368956.024317027,
          5228399.163799099,
          72213.45620746433,
          4215819.151185657,
          2221862.834896398,
          5069993.554457091,
          5519424.656580275,
          337638.81678381586,
          64599.382895219605,
          332690.1521417167,
          3101377.520514259,
          9688604.66240722,
          6497183.313217655,
          5522416.004714294,
          6164997.75248747,
          3182137.065646151,
          811382.0145799982,
          829730.8598517993,
          143222.94510199572,
          41236.07662547147,
          6181629.432601301,
          3227518.83461549,
          3210132.877315511,
          793489.5721639768,
          2749313.2734393002,
          835744.5107211097,
          1425491.6681410396,
          394374.0449599718,
          13844776.974361245,
          12343402.210246656,
          7866928.469177088,
          4604551.203135692,
          1192845.4627954196,
          1205944.7799306219,
          1127316.3687576451,
          2715188.2648313474,
          829957.4235588952,
          29244.775111495983,
          7856601.180914906,
          52658.05584266491,
          4634797.03789005,
          143097.86740146228,
          6245053.991170018,
          8369095.774152578,
          253228.89741222025,
          126642.47375927516,
          201283.9470978215,
          1837557.475181151,
          3929344.4280439,
          7499039.089176498,
          1884218.2880887412,
          1185696.6601967434,
          10453414.315633839,
          10122933.520427614,
          11324485.008320669,
          9770806.225698266,
          1199988.2101830882,
          6744241.704954678,
          191162.949392281,
          413842.4140106945,
          8733299.942699902,
          734492.4986348487,
          358827.4872878246,
          3072042.91907842,
          71612.00531451323,
          2298317.0032073976,
          900338.631923587,
          1999574.6944088314,
          105069.575529953,
          88120.7989117247,
          45699.59422638931,
          222520.48607844335,
          2519934.7692134036,
          786659.3386581662,
          3026336.882289339,
          2788153.7615057603,
          942929.3432608538,
          187641.88832476793,
          2382012.6615187037,
          52144.10174127261,
          7272334.947941432,
          5418738.903914563,
          1141210.0302437611,
          2066940.0810817315,
          1664150.2439453616,
          3645573.183859553,
          10870113.919386117,
          28393.61618515977,
          25329.178151558153,
          58742.01744188031,
          1986483.100725818,
          697008.4177105309,
          317.1210224390961,
          1856987.4722516397,
          1013214.5107946708,
          471476.3538013067,
          320898.39092713373,
          9179841.905651702,
          318681.77221587393,
          3965144.5037498195,
          6651536.389852874,
          3773244.465209893,
          15084.47710548353,
          4091798.289452505,
          6089313.137939841,
          3924057.1628581528,
          6177304.1806914555,
          16774460.741165996,
          488866.3438986114,
          235078.7863897276,
          7281730.587313883,
          106071.70074478199,
          1144211.914645697,
          462550.6472248235,
          5503920.295718882,
          665084.8335190967,
          576578.7716300692,
          10071071.14682006,
          1989665.1578306046,
          4450452.771412092,
          3420744.2227399442,
          687794.8945833923,
          2366819.938198998,
          3961793.443946517,
          357099.39779897104,
          3449802.3431973415,
          4049686.5135990665,
          3614084.7881535883,
          2133327.6987962015,
          1227947.3213619348,
          4624198.347422279,
          3372496.0710331216,
          43852.46159561211,
          10157535.974255588,
          4265502.6814847225,
          382326.96537525044,
          16517.54760784388,
          6207089.956242213,
          11706067.756544914,
          9394830.700203383,
          2426021.5045410004,
          1845382.5401437643,
          5244987.342718232,
          11128.22742809658,
          4352006.324030139,
          2763181.9255956216,
          4210507.245167857,
          954233.5332520306,
          2534907.0309121744,
          225633.62693355884,
          211774.10969839548,
          2087156.773677256,
          7991199.0077141095,
          8021309.226780256,
          509317.48890342715,
          583369.5392877271,
          8076.202994197956,
          9980000.200201772,
          148877.2553322342,
          10370684.254888648,
          79625.25250874751,
          205433.45556710847,
          36617.86889549694,
          1590605.2089295262,
          715949.548544726,
          3018274.9269415215,
          2358374.4283418637,
          1876943.3177512693,
          1070928.0252907919,
          49187.77421700361,
          2717375.0033063404,
          6296.969925417216,
          960662.0934151433,
          3138605.615824839,
          191195.15368557768,
          682160.2932437672,
          1901726.3941877899,
          317779.1179216001,
          11419028.760921428,
          4313193.051178852,
          1460134.2379873095,
          215334.74631876743,
          1818337.008172399,
          3515820.9726101924,
          1940698.7305465299,
          931896.0623594612,
          626936.354833626,
          467253.4817089763,
          689417.9770343762,
          7320691.318859463,
          353849.1236191039,
          118769.63290093408,
          1528892.4851724005,
          10885.216190537903,
          10471385.968913091,
          21907.008426234825,
          3856436.727684457,
          1520484.5074169426,
          4287598.576162389,
          7379733.472405962,
          296972.0867974247,
          1611828.5626261786,
          1308775.7729017176,
          4055053.591852338,
          432272.62423456705,
          435554.02853593114,
          6628814.498744235,
          33622.7507887379,
          5730116.142929677,
          3622637.3902403866,
          3497796.9558060286,
          563988.2542956038,
          2411306.669164973,
          3196012.2957836865,
          6046893.668236066,
          4043731.5563017474,
          1018094.0658543987,
          366312.94524013356,
          1725966.7109696455,
          691857.7066293219,
          11216040.4602536,
          3918245.2929667924,
          12892217.120539047,
          6804953.9199120775,
          3722555.3244294133,
          65101.30608275358,
          285432.90749393054,
          1528057.2542903828,
          625144.8383022362,
          3032245.6249526003,
          1692567.9800767684,
          2143604.1173023987,
          36826.959795929724,
          2167280.9702093657,
          3018303.1904681996,
          52013.338800141355,
          838861.5327463631,
          218400.79673541186,
          10082040.488855943,
          1409197.0975277072,
          1691943.4934352757,
          1401392.1399543034,
          9284481.79374868,
          5776612.554879772,
          1950840.4504615464,
          2072208.4330230574,
          7783921.837512927,
          188701.81723615678,
          2252746.817609557,
          6437073.32606602,
          4470.708471912076,
          28445.15306034009,
          10768039.279769,
          3517808.8194481386,
          8579792.571610887,
          1932656.5134952543,
          207588.43473049637,
          88792.28059394518,
          1131181.9158465078,
          746309.9703687767,
          4044140.405889324,
          2231481.2103088335,
          10678.16139680508,
          5555780.136875779,
          13521030.5969076,
          9036903.28872655,
          1169824.430672903,
          5528855.227185253,
          3548179.3284040615,
          5540570.492916973,
          1057550.5222532956,
          1668539.5265627448,
          1079184.4961152966,
          959586.4712058392,
          2151666.409077443,
          3850028.229872507,
          1032836.2927014969,
          1394629.175605689,
          5717724.622597569,
          658843.4396040975,
          153765.21824304655,
          5887428.210535087,
          7318762.490490161,
          1076746.2233884288,
          3246590.898393144,
          2637817.2636318486,
          9953614.313947998,
          9012662.863914462,
          2036973.9620922627,
          944731.5983453591,
          4769235.014927398,
          8175144.434685178,
          26129.688560118666,
          22754.968650304363,
          540821.3365856354,
          4704.007504347828,
          11319768.434927464,
          5576311.148801761,
          1067423.1437828275,
          5114496.407557773,
          954.845573505736,
          640117.9758205544,
          260537.10242165835,
          11734535.340395756,
          445373.6766149523,
          2373617.341943711,
          835.9121084940853,
          6170.025943894871,
          1144688.054325321,
          378548.5804910277,
          70771.12303762988,
          40778.14762375783,
          4863614.468932035,
          7304.918331356021,
          6311817.798454053,
          3492729.6584629803,
          5611975.214176796,
          847509.7615933482,
          3032657.553651996,
          4441041.926773381,
          8473.347461535013,
          1420601.3016597861,
          404154.8730327486,
          1266661.5842569736,
          366625.6465184706,
          5752708.533564597,
          5102792.027736636,
          8815727.67441113,
          8631.88279683527,
          806770.84877569,
          240172.14889256866,
          4269702.624654266,
          8369871.0586141385,
          90923.9535604429,
          1533267.49813433,
          1227768.3551039954,
          194862.86712964647,
          3839274.628363957,
          1034663.3173948358,
          2050264.1409478383,
          12082.629447177169,
          959206.8447212805,
          3237136.628120701,
          11144019.77783037,
          51562.77707964182,
          2767986.5469825016,
          1204389.5392274861,
          837859.3638359162,
          2184408.470432987,
          4979966.8085427545,
          233127.05720109807,
          201788.68088642776,
          9260.08213260502,
          1321640.5728554674,
          3085351.035675849,
          772639.5114416373,
          6205121.882502121,
          114495.65076710132,
          67421.7572841444,
          36707.503513636766,
          3213385.6713836137,
          5825805.046951253,
          314548.6792782467,
          5533141.928056692,
          61383.712248964,
          1027910.6965331011,
          8219977.714863606,
          185501.24397226318,
          4545463.410791679,
          2839695.3782321797,
          944049.3392270728,
          3503295.3665649695,
          974229.9580971157,
          3613810.260826285,
          2004355.532030313,
          4234285.151569726,
          876063.8029442925,
          3862575.0242330395,
          335358.0826674006,
          3922917.2662273925,
          9566815.659094544,
          5589765.26826885,
          9715.492892864859,
          11429359.903311241,
          1555787.93650608,
          294071.7333118082,
          1820143.2085994456,
          6323588.569407861,
          6463192.1324,
          1942734.3950468348,
          4198143.577380382,
          6024526.912306319,
          1464109.3512054211,
          1579962.6035121619,
          743919.6298471506,
          318378.941131421,
          9407229.83849328,
          2850359.0332835885,
          3382614.6989381667,
          468338.8219201297,
          10914731.140470307,
          1546171.3612758613,
          28591.300990388845,
          264535.57154333976,
          560610.8939535188,
          10618659.129636304,
          3190947.7797249854,
          561927.472239593,
          8316.293957774178,
          503805.4061049479,
          4590575.40088582,
          1706304.636218105,
          962065.0606233248,
          26743.188655222184,
          4257205.089682509,
          1858997.956478357,
          443863.65345001104,
          8934205.66939321,
          1184273.0079055037,
          3129466.1013494916,
          345843.3789759001,
          2259449.875114733,
          5346615.075215785,
          222326.95744808007,
          6744399.1172987735,
          750603.7241616141,
          9941367.37013112,
          190315.09828388516,
          3980890.1575872297,
          608888.0762607441,
          2863951.0118725887,
          4608621.79422623,
          1202658.0892290366,
          7606831.751171907,
          5017412.661300623,
          2378188.416479083,
          3640422.9077256313,
          112970.33497675147,
          2429488.4455413995,
          9433617.349643756,
          2135016.667110336,
          569722.1810851333,
          500692.5673788646,
          49436.61157139286,
          1610814.392855129,
          1216343.3397891787,
          1697711.751713927,
          3199763.790837533,
          94295.32310688228,
          1987966.9930445962,
          692.5779754092218,
          42674.424432072556,
          11112880.603754587,
          1110168.5998614703,
          250195.00382711703,
          3561081.7385380506,
          3182087.4358634464,
          2271792.7740836604,
          2030646.2918270845,
          291160.45678040246,
          2478898.969021626,
          731044.8835238785,
          71109.34799796087,
          3876347.1507314537,
          786516.4952047635,
          369037.0616506698,
          6120784.24898794,
          274977.7119928185,
          2285823.816107033,
          353430.42517355934,
          24373.637485841755,
          681796.0966995888,
          392219.4317960966,
          33769.23646699288,
          19459502.04573205,
          721594.5138130774,
          2189836.838743533,
          16802713.101025846,
          640151.583327417,
          3612429.128937991,
          1078980.4125956725,
          3986832.711389143,
          7491424.1560038645,
          1094081.9188394235,
          3192958.640857527,
          926773.7210328778,
          175571.95151488122,
          1203960.8715493814,
          1087981.2273597782,
          9837908.874689689,
          2417337.9116147114,
          456808.9502143848,
          3071071.2580333347,
          465400.5600104865,
          4391325.199511397,
          603015.7098081836,
          1751981.1174330679,
          530876.8469244242,
          2527548.6663013874,
          1615788.3625749382,
          4438706.704048644,
          1422720.6960094771,
          2179001.149554504,
          1621292.8182546021,
          832037.8541000246,
          7037467.911724423,
          74738.46448225959,
          149841.47636078706,
          475405.4520905047,
          3677957.363391557,
          876100.9480451903,
          6702816.924653104,
          742441.5463638288,
          1849443.5819710633,
          290381.3448616711,
          135518.10591518006,
          359877.5414375996,
          12071551.821847359,
          2422344.376572961,
          1946002.7368327428,
          1339098.4338122944,
          1981040.5175862834,
          30789.35657866532,
          2660037.072839201,
          1264529.9385625403,
          1875586.4529449465,
          3107670.351327848,
          5269095.227498736,
          1158142.0421632212,
          1276987.1703789686,
          12955768.525026448,
          3063.863765113638,
          3285569.274692825,
          1564469.9486962345,
          6018501.999376051,
          3579633.067120376,
          322.38450851582456,
          261259.99559331103,
          6122649.390441394,
          12423615.73174996,
          4629340.2006849935,
          41004.0741602279,
          928332.9883795523,
          3062392.6215957906,
          6976686.95959328,
          590732.6273929648,
          428235.4760043672,
          445452.9011794366,
          5722219.793474855,
          4617151.862660671,
          1646775.1976896834,
          1123698.091794853,
          14573.846511513693,
          3274957.220257027,
          5796674.877385231,
          1919614.9662989483,
          5576095.333295991,
          4811550.07446371,
          8108.426772640087,
          1336935.2465966658,
          1383484.7844392352,
          3099214.959336212,
          10444468.07486088,
          4016718.0113960057,
          3905485.3633954334,
          6409492.62801616,
          17463.617672750843,
          10728560.163704911,
          6814382.33708599,
          97384.49957715056,
          5096501.25968724,
          390705.2335477201,
          485938.9873746986,
          2612.5144589459524,
          1551805.9850018471,
          5315.6585839315085,
          1363981.9085882336,
          3536.8484914215514,
          1586942.0590771188,
          4671473.260674597,
          2416641.0534885363,
          410030.32296473975,
          342894.83585329435,
          5776.003540609963,
          843722.8627571458,
          249318.27173491183,
          5352709.632454673,
          4516588.277023461,
          1258604.716289119,
          2258497.0192060284,
          2463853.5193690043,
          705817.8965872503,
          4605495.656399959,
          691572.9622514336,
          6429116.601552377,
          255600.6703296007,
          1511900.6777374162,
          18513.525510803447,
          257880.3876114107,
          6011384.688495571,
          1576795.4699190594,
          2474512.80410288,
          4668524.92063833,
          9448103.700413018,
          4348824.831895821,
          3240136.2697967123,
          1651696.8129409798,
          596300.000983756,
          5517255.314196518,
          9445.121832337463,
          7953381.856178166,
          2075046.2333979523,
          751136.8379784544,
          12913000.478435658,
          4854817.260457174,
          1930855.6180063314,
          992534.1884698428,
          122516.34895284951,
          391939.7806066845,
          3898425.316641573,
          75030.74790634855,
          12816896.345680783,
          1062643.8827911625,
          3727846.4450730826,
          1195331.2956942536,
          1094082.1517982841,
          3961921.6857056743,
          23707.20198273193,
          374648.4890735737,
          139005.21787894832,
          496973.10320327233,
          70820.67658037704,
          1146408.9956412064,
          2041833.536363076,
          1430230.178423386,
          2239507.127533827,
          3302937.672546599,
          2404093.254049047,
          2204435.2427001433,
          6887067.030950013,
          2025705.8313901653,
          215244.2697326769,
          4741832.777016592,
          700687.444303956,
          14387.625613671844,
          432066.99575482344,
          55021.85571283917,
          91079.43631710077,
          3219918.954014574,
          749859.9728478875,
          8859569.495422736,
          16902.17469788331,
          9435914.400575567,
          3620135.3834974724,
          12684348.77749582,
          4794327.418935806,
          1822532.3606884922,
          2184590.1199706714,
          3312580.6179334614,
          10796046.958038786,
          6609908.649712539,
          5785534.2204297045,
          2611607.2019504206,
          10964192.287607787,
          2383113.644718949,
          780.3865245514316,
          1607131.0665835626,
          1931068.0037039856,
          3738.3220374322264,
          241914.76819719537,
          8876918.850537768,
          5565.606887786998,
          426004.32724147686,
          26836.990959054674,
          11772137.46908895,
          7779613.189405674,
          2122420.978357797,
          1182614.7562356638,
          820281.6421281896,
          1096838.5352747864,
          2173880.2731173346,
          1524738.1613534817,
          2391873.0802332284,
          753761.450892911,
          9158397.46514865,
          1817833.300053695,
          4082996.9612876885,
          2409217.458658357,
          4795712.812393875,
          466467.9391010868,
          1184429.220270773,
          3414311.98483739,
          203541.27287733718,
          10779662.425856922,
          264792.64242779755,
          8560920.426741911,
          1554582.821827993,
          2083667.212774395,
          4337648.675189907,
          507888.6818087922,
          868416.3960920414,
          1185011.3324847044,
          1879596.3031261927,
          72581.34934399277,
          2562266.59004431,
          249101.32013465045,
          3261.8994138756534,
          3772297.1769777797,
          1575007.646266182,
          1193275.7941877353,
          7639493.336099723,
          538805.8739240223,
          245238.8322144834,
          4733749.266304847,
          314768.70518381475,
          1491274.557925688,
          1286364.7653286753,
          7062632.0038240515,
          15394.496815963066,
          242316.98020992917,
          7835989.355970174,
          213460.71748468967,
          2596406.539776683,
          10822232.2751506,
          949996.7449756659,
          220358.02915938257,
          2824460.4280149797,
          9446689.5837099,
          1640529.0734299924,
          225777.9571750434,
          4823332.243905956,
          740053.5009449668,
          1664843.5259768884,
          10637519.66340089,
          7942680.840727029,
          10235576.415475022,
          1923379.9139461336,
          918721.7293356225,
          1048020.2978365269,
          912381.9879321818,
          4525265.823506983,
          10100757.45298073,
          3955631.752584639,
          11712970.049394324,
          5458361.760388361,
          328749.33584278915,
          1019862.9070278257,
          6432154.97111695,
          6818246.278860141,
          2454123.114633927,
          2849186.363252811,
          494707.45227688167,
          4413897.784986911,
          999485.9620377247,
          2118359.6617261646,
          4538309.737067262,
          2804746.7747920747,
          2450171.886449185,
          49760.119715414476,
          2931630.998846464,
          2799424.893544783,
          315644.0709672461,
          5406980.720513384,
          578981.4874127333,
          114718.71597562858,
          111814.66091367474,
          686732.2828924953,
          4618716.701932572,
          6638718.484859244,
          12767022.114188207,
          5528593.886500108,
          4637245.15044209,
          4655179.845499486,
          70379.22023056308,
          4987450.38605365,
          6502726.109897019,
          465359.85127076856,
          6622738.192875171,
          269724.28707266226,
          11759764.395616367,
          256089.23959371168,
          7707172.3425587695,
          142322.00277230004,
          1828825.2542469709,
          452698.95463350986,
          1342294.3061121914,
          3621389.8473020527,
          722057.3755997757,
          4683977.1458061,
          1651229.4385244313,
          58685.27626204013,
          4203603.9305952,
          9029439.688585524,
          462682.78158592875,
          210313.7715135672,
          4220058.534170909,
          6736916.801121609,
          39028.62060966436,
          1054360.1697611883,
          5896118.614804727,
          3710707.778030992,
          2362222.8394435076,
          52750.820763758384,
          7912540.361219668,
          5587559.544239775,
          3637325.0456644166,
          4511019.875958795,
          7884216.824487754,
          6870786.887584254,
          465976.62114707055,
          3242554.116342275,
          5980240.911195549,
          1459316.4633363485,
          1762185.0967320935,
          4347.843308249139,
          1393672.703418124,
          2139718.2370223454,
          2314209.567501181,
          619453.4893061355,
          785124.2201414716,
          2007698.740343607,
          9204132.394986926,
          8438763.032087823,
          975081.0989909805,
          4411188.9636774,
          3618085.687346029,
          1936360.3042446338,
          6982801.985498838,
          366701.61584577,
          3975743.4079928645,
          3440017.8434318807,
          1639324.8638835503,
          524139.2481614894,
          3360.6460676528513,
          4237123.28428225,
          173258.27775085054,
          12197112.317183405,
          6330943.354410803,
          2026088.9082053036,
          1711899.4054490468,
          1041558.7164344324,
          3478786.1370984465,
          255763.38338988717,
          1608631.8040423212,
          3032510.4829696063,
          237348.17996753554,
          3630929.997509025,
          97516.2586215447,
          1409991.0313624567,
          25711.521891251323,
          4108001.206805813,
          685744.8719147069,
          6858252.177092655,
          56997.20519161201,
          2140595.666988083,
          4668920.996049142,
          586157.9255897086,
          6695086.7763138665,
          3534767.2435780843,
          912560.7757182297,
          375758.8435185171,
          49786.69038944645,
          2649999.9224250643,
          5952875.546072697,
          5931180.321377179,
          6879400.016509025,
          2750600.912050388,
          3288661.079478654,
          819934.602075693,
          33352.72446619638,
          2492083.369307453,
          3040973.979535003,
          486401.160339723,
          3046912.0121260495,
          2552257.1070678243,
          2066599.9936056032,
          4048736.314584938,
          5152931.588986976,
          3172575.8615712402,
          9369516.723335953,
          1626310.2747273806,
          1649562.9136421776,
          2622508.407936315,
          5583224.575995017,
          4728177.696432875,
          1740473.993418782,
          2828819.7021943633,
          159343.5202006658,
          1230807.8756481265,
          3714834.6843107576,
          1644137.0178696378,
          277803.63791939453,
          5051396.478248891,
          636149.9077375047,
          13124462.78080737,
          8972056.453606404,
          16649834.730926465,
          543231.1806851358,
          74109.7785130114,
          850965.117404121,
          14140.49484791758,
          7087969.963260344,
          1262266.0898589091,
          62601.44918820879,
          2266356.0507130316,
          10428601.660154382,
          4062038.5622827453,
          1991657.5410771328,
          5031715.439606836,
          4965447.205664241,
          4484574.400180689,
          923072.004830814,
          5180859.766024369,
          391301.3789290126,
          5276994.623710722,
          2841566.9808387468,
          1962766.3842281618,
          342646.3893865439,
          1656762.2806424333,
          67524.2707766156,
          1192814.2535909866,
          334910.4798346525,
          547007.4995563627,
          3336183.6950479774,
          6409184.75378053,
          4202744.703947305,
          5334595.62701406,
          38089.21503608872,
          4405702.398146008
         ]
        }
       ],
       "layout": {
        "template": {
         "data": {
          "bar": [
           {
            "error_x": {
             "color": "#2a3f5f"
            },
            "error_y": {
             "color": "#2a3f5f"
            },
            "marker": {
             "line": {
              "color": "#E5ECF6",
              "width": 0.5
             }
            },
            "type": "bar"
           }
          ],
          "barpolar": [
           {
            "marker": {
             "line": {
              "color": "#E5ECF6",
              "width": 0.5
             }
            },
            "type": "barpolar"
           }
          ],
          "carpet": [
           {
            "aaxis": {
             "endlinecolor": "#2a3f5f",
             "gridcolor": "white",
             "linecolor": "white",
             "minorgridcolor": "white",
             "startlinecolor": "#2a3f5f"
            },
            "baxis": {
             "endlinecolor": "#2a3f5f",
             "gridcolor": "white",
             "linecolor": "white",
             "minorgridcolor": "white",
             "startlinecolor": "#2a3f5f"
            },
            "type": "carpet"
           }
          ],
          "choropleth": [
           {
            "colorbar": {
             "outlinewidth": 0,
             "ticks": ""
            },
            "type": "choropleth"
           }
          ],
          "contour": [
           {
            "colorbar": {
             "outlinewidth": 0,
             "ticks": ""
            },
            "colorscale": [
             [
              0,
              "#0d0887"
             ],
             [
              0.1111111111111111,
              "#46039f"
             ],
             [
              0.2222222222222222,
              "#7201a8"
             ],
             [
              0.3333333333333333,
              "#9c179e"
             ],
             [
              0.4444444444444444,
              "#bd3786"
             ],
             [
              0.5555555555555556,
              "#d8576b"
             ],
             [
              0.6666666666666666,
              "#ed7953"
             ],
             [
              0.7777777777777778,
              "#fb9f3a"
             ],
             [
              0.8888888888888888,
              "#fdca26"
             ],
             [
              1,
              "#f0f921"
             ]
            ],
            "type": "contour"
           }
          ],
          "contourcarpet": [
           {
            "colorbar": {
             "outlinewidth": 0,
             "ticks": ""
            },
            "type": "contourcarpet"
           }
          ],
          "heatmap": [
           {
            "colorbar": {
             "outlinewidth": 0,
             "ticks": ""
            },
            "colorscale": [
             [
              0,
              "#0d0887"
             ],
             [
              0.1111111111111111,
              "#46039f"
             ],
             [
              0.2222222222222222,
              "#7201a8"
             ],
             [
              0.3333333333333333,
              "#9c179e"
             ],
             [
              0.4444444444444444,
              "#bd3786"
             ],
             [
              0.5555555555555556,
              "#d8576b"
             ],
             [
              0.6666666666666666,
              "#ed7953"
             ],
             [
              0.7777777777777778,
              "#fb9f3a"
             ],
             [
              0.8888888888888888,
              "#fdca26"
             ],
             [
              1,
              "#f0f921"
             ]
            ],
            "type": "heatmap"
           }
          ],
          "heatmapgl": [
           {
            "colorbar": {
             "outlinewidth": 0,
             "ticks": ""
            },
            "colorscale": [
             [
              0,
              "#0d0887"
             ],
             [
              0.1111111111111111,
              "#46039f"
             ],
             [
              0.2222222222222222,
              "#7201a8"
             ],
             [
              0.3333333333333333,
              "#9c179e"
             ],
             [
              0.4444444444444444,
              "#bd3786"
             ],
             [
              0.5555555555555556,
              "#d8576b"
             ],
             [
              0.6666666666666666,
              "#ed7953"
             ],
             [
              0.7777777777777778,
              "#fb9f3a"
             ],
             [
              0.8888888888888888,
              "#fdca26"
             ],
             [
              1,
              "#f0f921"
             ]
            ],
            "type": "heatmapgl"
           }
          ],
          "histogram": [
           {
            "marker": {
             "colorbar": {
              "outlinewidth": 0,
              "ticks": ""
             }
            },
            "type": "histogram"
           }
          ],
          "histogram2d": [
           {
            "colorbar": {
             "outlinewidth": 0,
             "ticks": ""
            },
            "colorscale": [
             [
              0,
              "#0d0887"
             ],
             [
              0.1111111111111111,
              "#46039f"
             ],
             [
              0.2222222222222222,
              "#7201a8"
             ],
             [
              0.3333333333333333,
              "#9c179e"
             ],
             [
              0.4444444444444444,
              "#bd3786"
             ],
             [
              0.5555555555555556,
              "#d8576b"
             ],
             [
              0.6666666666666666,
              "#ed7953"
             ],
             [
              0.7777777777777778,
              "#fb9f3a"
             ],
             [
              0.8888888888888888,
              "#fdca26"
             ],
             [
              1,
              "#f0f921"
             ]
            ],
            "type": "histogram2d"
           }
          ],
          "histogram2dcontour": [
           {
            "colorbar": {
             "outlinewidth": 0,
             "ticks": ""
            },
            "colorscale": [
             [
              0,
              "#0d0887"
             ],
             [
              0.1111111111111111,
              "#46039f"
             ],
             [
              0.2222222222222222,
              "#7201a8"
             ],
             [
              0.3333333333333333,
              "#9c179e"
             ],
             [
              0.4444444444444444,
              "#bd3786"
             ],
             [
              0.5555555555555556,
              "#d8576b"
             ],
             [
              0.6666666666666666,
              "#ed7953"
             ],
             [
              0.7777777777777778,
              "#fb9f3a"
             ],
             [
              0.8888888888888888,
              "#fdca26"
             ],
             [
              1,
              "#f0f921"
             ]
            ],
            "type": "histogram2dcontour"
           }
          ],
          "mesh3d": [
           {
            "colorbar": {
             "outlinewidth": 0,
             "ticks": ""
            },
            "type": "mesh3d"
           }
          ],
          "parcoords": [
           {
            "line": {
             "colorbar": {
              "outlinewidth": 0,
              "ticks": ""
             }
            },
            "type": "parcoords"
           }
          ],
          "pie": [
           {
            "automargin": true,
            "type": "pie"
           }
          ],
          "scatter": [
           {
            "marker": {
             "colorbar": {
              "outlinewidth": 0,
              "ticks": ""
             }
            },
            "type": "scatter"
           }
          ],
          "scatter3d": [
           {
            "line": {
             "colorbar": {
              "outlinewidth": 0,
              "ticks": ""
             }
            },
            "marker": {
             "colorbar": {
              "outlinewidth": 0,
              "ticks": ""
             }
            },
            "type": "scatter3d"
           }
          ],
          "scattercarpet": [
           {
            "marker": {
             "colorbar": {
              "outlinewidth": 0,
              "ticks": ""
             }
            },
            "type": "scattercarpet"
           }
          ],
          "scattergeo": [
           {
            "marker": {
             "colorbar": {
              "outlinewidth": 0,
              "ticks": ""
             }
            },
            "type": "scattergeo"
           }
          ],
          "scattergl": [
           {
            "marker": {
             "colorbar": {
              "outlinewidth": 0,
              "ticks": ""
             }
            },
            "type": "scattergl"
           }
          ],
          "scattermapbox": [
           {
            "marker": {
             "colorbar": {
              "outlinewidth": 0,
              "ticks": ""
             }
            },
            "type": "scattermapbox"
           }
          ],
          "scatterpolar": [
           {
            "marker": {
             "colorbar": {
              "outlinewidth": 0,
              "ticks": ""
             }
            },
            "type": "scatterpolar"
           }
          ],
          "scatterpolargl": [
           {
            "marker": {
             "colorbar": {
              "outlinewidth": 0,
              "ticks": ""
             }
            },
            "type": "scatterpolargl"
           }
          ],
          "scatterternary": [
           {
            "marker": {
             "colorbar": {
              "outlinewidth": 0,
              "ticks": ""
             }
            },
            "type": "scatterternary"
           }
          ],
          "surface": [
           {
            "colorbar": {
             "outlinewidth": 0,
             "ticks": ""
            },
            "colorscale": [
             [
              0,
              "#0d0887"
             ],
             [
              0.1111111111111111,
              "#46039f"
             ],
             [
              0.2222222222222222,
              "#7201a8"
             ],
             [
              0.3333333333333333,
              "#9c179e"
             ],
             [
              0.4444444444444444,
              "#bd3786"
             ],
             [
              0.5555555555555556,
              "#d8576b"
             ],
             [
              0.6666666666666666,
              "#ed7953"
             ],
             [
              0.7777777777777778,
              "#fb9f3a"
             ],
             [
              0.8888888888888888,
              "#fdca26"
             ],
             [
              1,
              "#f0f921"
             ]
            ],
            "type": "surface"
           }
          ],
          "table": [
           {
            "cells": {
             "fill": {
              "color": "#EBF0F8"
             },
             "line": {
              "color": "white"
             }
            },
            "header": {
             "fill": {
              "color": "#C8D4E3"
             },
             "line": {
              "color": "white"
             }
            },
            "type": "table"
           }
          ]
         },
         "layout": {
          "annotationdefaults": {
           "arrowcolor": "#2a3f5f",
           "arrowhead": 0,
           "arrowwidth": 1
          },
          "coloraxis": {
           "colorbar": {
            "outlinewidth": 0,
            "ticks": ""
           }
          },
          "colorscale": {
           "diverging": [
            [
             0,
             "#8e0152"
            ],
            [
             0.1,
             "#c51b7d"
            ],
            [
             0.2,
             "#de77ae"
            ],
            [
             0.3,
             "#f1b6da"
            ],
            [
             0.4,
             "#fde0ef"
            ],
            [
             0.5,
             "#f7f7f7"
            ],
            [
             0.6,
             "#e6f5d0"
            ],
            [
             0.7,
             "#b8e186"
            ],
            [
             0.8,
             "#7fbc41"
            ],
            [
             0.9,
             "#4d9221"
            ],
            [
             1,
             "#276419"
            ]
           ],
           "sequential": [
            [
             0,
             "#0d0887"
            ],
            [
             0.1111111111111111,
             "#46039f"
            ],
            [
             0.2222222222222222,
             "#7201a8"
            ],
            [
             0.3333333333333333,
             "#9c179e"
            ],
            [
             0.4444444444444444,
             "#bd3786"
            ],
            [
             0.5555555555555556,
             "#d8576b"
            ],
            [
             0.6666666666666666,
             "#ed7953"
            ],
            [
             0.7777777777777778,
             "#fb9f3a"
            ],
            [
             0.8888888888888888,
             "#fdca26"
            ],
            [
             1,
             "#f0f921"
            ]
           ],
           "sequentialminus": [
            [
             0,
             "#0d0887"
            ],
            [
             0.1111111111111111,
             "#46039f"
            ],
            [
             0.2222222222222222,
             "#7201a8"
            ],
            [
             0.3333333333333333,
             "#9c179e"
            ],
            [
             0.4444444444444444,
             "#bd3786"
            ],
            [
             0.5555555555555556,
             "#d8576b"
            ],
            [
             0.6666666666666666,
             "#ed7953"
            ],
            [
             0.7777777777777778,
             "#fb9f3a"
            ],
            [
             0.8888888888888888,
             "#fdca26"
            ],
            [
             1,
             "#f0f921"
            ]
           ]
          },
          "colorway": [
           "#636efa",
           "#EF553B",
           "#00cc96",
           "#ab63fa",
           "#FFA15A",
           "#19d3f3",
           "#FF6692",
           "#B6E880",
           "#FF97FF",
           "#FECB52"
          ],
          "font": {
           "color": "#2a3f5f"
          },
          "geo": {
           "bgcolor": "white",
           "lakecolor": "white",
           "landcolor": "#E5ECF6",
           "showlakes": true,
           "showland": true,
           "subunitcolor": "white"
          },
          "hoverlabel": {
           "align": "left"
          },
          "hovermode": "closest",
          "mapbox": {
           "style": "light"
          },
          "paper_bgcolor": "white",
          "plot_bgcolor": "#E5ECF6",
          "polar": {
           "angularaxis": {
            "gridcolor": "white",
            "linecolor": "white",
            "ticks": ""
           },
           "bgcolor": "#E5ECF6",
           "radialaxis": {
            "gridcolor": "white",
            "linecolor": "white",
            "ticks": ""
           }
          },
          "scene": {
           "xaxis": {
            "backgroundcolor": "#E5ECF6",
            "gridcolor": "white",
            "gridwidth": 2,
            "linecolor": "white",
            "showbackground": true,
            "ticks": "",
            "zerolinecolor": "white"
           },
           "yaxis": {
            "backgroundcolor": "#E5ECF6",
            "gridcolor": "white",
            "gridwidth": 2,
            "linecolor": "white",
            "showbackground": true,
            "ticks": "",
            "zerolinecolor": "white"
           },
           "zaxis": {
            "backgroundcolor": "#E5ECF6",
            "gridcolor": "white",
            "gridwidth": 2,
            "linecolor": "white",
            "showbackground": true,
            "ticks": "",
            "zerolinecolor": "white"
           }
          },
          "shapedefaults": {
           "line": {
            "color": "#2a3f5f"
           }
          },
          "ternary": {
           "aaxis": {
            "gridcolor": "white",
            "linecolor": "white",
            "ticks": ""
           },
           "baxis": {
            "gridcolor": "white",
            "linecolor": "white",
            "ticks": ""
           },
           "bgcolor": "#E5ECF6",
           "caxis": {
            "gridcolor": "white",
            "linecolor": "white",
            "ticks": ""
           }
          },
          "title": {
           "x": 0.05
          },
          "xaxis": {
           "automargin": true,
           "gridcolor": "white",
           "linecolor": "white",
           "ticks": "",
           "title": {
            "standoff": 15
           },
           "zerolinecolor": "white",
           "zerolinewidth": 2
          },
          "yaxis": {
           "automargin": true,
           "gridcolor": "white",
           "linecolor": "white",
           "ticks": "",
           "title": {
            "standoff": 15
           },
           "zerolinecolor": "white",
           "zerolinewidth": 2
          }
         }
        }
       }
      },
      "text/html": [
       "<div>\n",
       "        \n",
       "        \n",
       "            <div id=\"179c2d3b-dff1-42b5-a7ff-4d880c2530aa\" class=\"plotly-graph-div\" style=\"height:525px; width:100%;\"></div>\n",
       "            <script type=\"text/javascript\">\n",
       "                require([\"plotly\"], function(Plotly) {\n",
       "                    window.PLOTLYENV=window.PLOTLYENV || {};\n",
       "                    \n",
       "                if (document.getElementById(\"179c2d3b-dff1-42b5-a7ff-4d880c2530aa\")) {\n",
       "                    Plotly.newPlot(\n",
       "                        '179c2d3b-dff1-42b5-a7ff-4d880c2530aa',\n",
       "                        [{\"type\": \"scatter\", \"y\": [662562.5925603235, 290920.308239336, 4593966.834122082, 12406.083335081348, 1897223.5664310574, 2183991.8456343003, 4797542.9119459, 5896405.746302218, 4162215.8432013677, 5940551.580702638, 7984347.242536693, 9948043.202225817, 1072300.7897155331, 5791307.714694296, 1439508.6209408473, 6165647.923936514, 1140150.491904671, 5797316.64233192, 1187416.0854308575, 351886.456921231, 2060463.3851896506, 5993947.969033645, 1601498.4177614097, 2067822.218764457, 9187333.884837426, 347046.1089185119, 1240247.7487698635, 4915840.857424365, 2986101.9812781014, 978035.5407552124, 12364394.226729754, 3869933.021537203, 437865.01890078944, 4894.269695083494, 39401.23396283889, 3140509.670034822, 117530.69022481213, 1624841.449915126, 2333941.835283025, 17046.38173758576, 5722944.396513951, 3878777.0626683487, 2954340.9490495105, 1965007.5835563184, 2887727.3535629213, 3064819.6001973264, 44456.69959712541, 680729.0783048375, 1681224.7849602136, 803666.2277604482, 1295822.2302614157, 13665140.700273419, 2731758.6413945537, 4550856.612214324, 3755.804784173961, 4501173.826067956, 491603.97418348293, 271538.05379208643, 1465937.2504146013, 26866.593729995657, 1379451.9904625777, 150204.01450288773, 495901.9201876945, 15710.227493356797, 2859438.370227741, 5678993.035388179, 114933.4892649058, 597612.2914579464, 128302.9911389458, 3554.678509972291, 2860703.166162799, 2368956.024317027, 5228399.163799099, 72213.45620746433, 4215819.151185657, 2221862.834896398, 5069993.554457091, 5519424.656580275, 337638.81678381586, 64599.382895219605, 332690.1521417167, 3101377.520514259, 9688604.66240722, 6497183.313217655, 5522416.004714294, 6164997.75248747, 3182137.065646151, 811382.0145799982, 829730.8598517993, 143222.94510199572, 41236.07662547147, 6181629.432601301, 3227518.83461549, 3210132.877315511, 793489.5721639768, 2749313.2734393002, 835744.5107211097, 1425491.6681410396, 394374.0449599718, 13844776.974361245, 12343402.210246656, 7866928.469177088, 4604551.203135692, 1192845.4627954196, 1205944.7799306219, 1127316.3687576451, 2715188.2648313474, 829957.4235588952, 29244.775111495983, 7856601.180914906, 52658.05584266491, 4634797.03789005, 143097.86740146228, 6245053.991170018, 8369095.774152578, 253228.89741222025, 126642.47375927516, 201283.9470978215, 1837557.475181151, 3929344.4280439, 7499039.089176498, 1884218.2880887412, 1185696.6601967434, 10453414.315633839, 10122933.520427614, 11324485.008320669, 9770806.225698266, 1199988.2101830882, 6744241.704954678, 191162.949392281, 413842.4140106945, 8733299.942699902, 734492.4986348487, 358827.4872878246, 3072042.91907842, 71612.00531451323, 2298317.0032073976, 900338.631923587, 1999574.6944088314, 105069.575529953, 88120.7989117247, 45699.59422638931, 222520.48607844335, 2519934.7692134036, 786659.3386581662, 3026336.882289339, 2788153.7615057603, 942929.3432608538, 187641.88832476793, 2382012.6615187037, 52144.10174127261, 7272334.947941432, 5418738.903914563, 1141210.0302437611, 2066940.0810817315, 1664150.2439453616, 3645573.183859553, 10870113.919386117, 28393.61618515977, 25329.178151558153, 58742.01744188031, 1986483.100725818, 697008.4177105309, 317.1210224390961, 1856987.4722516397, 1013214.5107946708, 471476.3538013067, 320898.39092713373, 9179841.905651702, 318681.77221587393, 3965144.5037498195, 6651536.389852874, 3773244.465209893, 15084.47710548353, 4091798.289452505, 6089313.137939841, 3924057.1628581528, 6177304.1806914555, 16774460.741165996, 488866.3438986114, 235078.7863897276, 7281730.587313883, 106071.70074478199, 1144211.914645697, 462550.6472248235, 5503920.295718882, 665084.8335190967, 576578.7716300692, 10071071.14682006, 1989665.1578306046, 4450452.771412092, 3420744.2227399442, 687794.8945833923, 2366819.938198998, 3961793.443946517, 357099.39779897104, 3449802.3431973415, 4049686.5135990665, 3614084.7881535883, 2133327.6987962015, 1227947.3213619348, 4624198.347422279, 3372496.0710331216, 43852.46159561211, 10157535.974255588, 4265502.6814847225, 382326.96537525044, 16517.54760784388, 6207089.956242213, 11706067.756544914, 9394830.700203383, 2426021.5045410004, 1845382.5401437643, 5244987.342718232, 11128.22742809658, 4352006.324030139, 2763181.9255956216, 4210507.245167857, 954233.5332520306, 2534907.0309121744, 225633.62693355884, 211774.10969839548, 2087156.773677256, 7991199.0077141095, 8021309.226780256, 509317.48890342715, 583369.5392877271, 8076.202994197956, 9980000.200201772, 148877.2553322342, 10370684.254888648, 79625.25250874751, 205433.45556710847, 36617.86889549694, 1590605.2089295262, 715949.548544726, 3018274.9269415215, 2358374.4283418637, 1876943.3177512693, 1070928.0252907919, 49187.77421700361, 2717375.0033063404, 6296.969925417216, 960662.0934151433, 3138605.615824839, 191195.15368557768, 682160.2932437672, 1901726.3941877899, 317779.1179216001, 11419028.760921428, 4313193.051178852, 1460134.2379873095, 215334.74631876743, 1818337.008172399, 3515820.9726101924, 1940698.7305465299, 931896.0623594612, 626936.354833626, 467253.4817089763, 689417.9770343762, 7320691.318859463, 353849.1236191039, 118769.63290093408, 1528892.4851724005, 10885.216190537903, 10471385.968913091, 21907.008426234825, 3856436.727684457, 1520484.5074169426, 4287598.576162389, 7379733.472405962, 296972.0867974247, 1611828.5626261786, 1308775.7729017176, 4055053.591852338, 432272.62423456705, 435554.02853593114, 6628814.498744235, 33622.7507887379, 5730116.142929677, 3622637.3902403866, 3497796.9558060286, 563988.2542956038, 2411306.669164973, 3196012.2957836865, 6046893.668236066, 4043731.5563017474, 1018094.0658543987, 366312.94524013356, 1725966.7109696455, 691857.7066293219, 11216040.4602536, 3918245.2929667924, 12892217.120539047, 6804953.9199120775, 3722555.3244294133, 65101.30608275358, 285432.90749393054, 1528057.2542903828, 625144.8383022362, 3032245.6249526003, 1692567.9800767684, 2143604.1173023987, 36826.959795929724, 2167280.9702093657, 3018303.1904681996, 52013.338800141355, 838861.5327463631, 218400.79673541186, 10082040.488855943, 1409197.0975277072, 1691943.4934352757, 1401392.1399543034, 9284481.79374868, 5776612.554879772, 1950840.4504615464, 2072208.4330230574, 7783921.837512927, 188701.81723615678, 2252746.817609557, 6437073.32606602, 4470.708471912076, 28445.15306034009, 10768039.279769, 3517808.8194481386, 8579792.571610887, 1932656.5134952543, 207588.43473049637, 88792.28059394518, 1131181.9158465078, 746309.9703687767, 4044140.405889324, 2231481.2103088335, 10678.16139680508, 5555780.136875779, 13521030.5969076, 9036903.28872655, 1169824.430672903, 5528855.227185253, 3548179.3284040615, 5540570.492916973, 1057550.5222532956, 1668539.5265627448, 1079184.4961152966, 959586.4712058392, 2151666.409077443, 3850028.229872507, 1032836.2927014969, 1394629.175605689, 5717724.622597569, 658843.4396040975, 153765.21824304655, 5887428.210535087, 7318762.490490161, 1076746.2233884288, 3246590.898393144, 2637817.2636318486, 9953614.313947998, 9012662.863914462, 2036973.9620922627, 944731.5983453591, 4769235.014927398, 8175144.434685178, 26129.688560118666, 22754.968650304363, 540821.3365856354, 4704.007504347828, 11319768.434927464, 5576311.148801761, 1067423.1437828275, 5114496.407557773, 954.845573505736, 640117.9758205544, 260537.10242165835, 11734535.340395756, 445373.6766149523, 2373617.341943711, 835.9121084940853, 6170.025943894871, 1144688.054325321, 378548.5804910277, 70771.12303762988, 40778.14762375783, 4863614.468932035, 7304.918331356021, 6311817.798454053, 3492729.6584629803, 5611975.214176796, 847509.7615933482, 3032657.553651996, 4441041.926773381, 8473.347461535013, 1420601.3016597861, 404154.8730327486, 1266661.5842569736, 366625.6465184706, 5752708.533564597, 5102792.027736636, 8815727.67441113, 8631.88279683527, 806770.84877569, 240172.14889256866, 4269702.624654266, 8369871.0586141385, 90923.9535604429, 1533267.49813433, 1227768.3551039954, 194862.86712964647, 3839274.628363957, 1034663.3173948358, 2050264.1409478383, 12082.629447177169, 959206.8447212805, 3237136.628120701, 11144019.77783037, 51562.77707964182, 2767986.5469825016, 1204389.5392274861, 837859.3638359162, 2184408.470432987, 4979966.8085427545, 233127.05720109807, 201788.68088642776, 9260.08213260502, 1321640.5728554674, 3085351.035675849, 772639.5114416373, 6205121.882502121, 114495.65076710132, 67421.7572841444, 36707.503513636766, 3213385.6713836137, 5825805.046951253, 314548.6792782467, 5533141.928056692, 61383.712248964, 1027910.6965331011, 8219977.714863606, 185501.24397226318, 4545463.410791679, 2839695.3782321797, 944049.3392270728, 3503295.3665649695, 974229.9580971157, 3613810.260826285, 2004355.532030313, 4234285.151569726, 876063.8029442925, 3862575.0242330395, 335358.0826674006, 3922917.2662273925, 9566815.659094544, 5589765.26826885, 9715.492892864859, 11429359.903311241, 1555787.93650608, 294071.7333118082, 1820143.2085994456, 6323588.569407861, 6463192.1324, 1942734.3950468348, 4198143.577380382, 6024526.912306319, 1464109.3512054211, 1579962.6035121619, 743919.6298471506, 318378.941131421, 9407229.83849328, 2850359.0332835885, 3382614.6989381667, 468338.8219201297, 10914731.140470307, 1546171.3612758613, 28591.300990388845, 264535.57154333976, 560610.8939535188, 10618659.129636304, 3190947.7797249854, 561927.472239593, 8316.293957774178, 503805.4061049479, 4590575.40088582, 1706304.636218105, 962065.0606233248, 26743.188655222184, 4257205.089682509, 1858997.956478357, 443863.65345001104, 8934205.66939321, 1184273.0079055037, 3129466.1013494916, 345843.3789759001, 2259449.875114733, 5346615.075215785, 222326.95744808007, 6744399.1172987735, 750603.7241616141, 9941367.37013112, 190315.09828388516, 3980890.1575872297, 608888.0762607441, 2863951.0118725887, 4608621.79422623, 1202658.0892290366, 7606831.751171907, 5017412.661300623, 2378188.416479083, 3640422.9077256313, 112970.33497675147, 2429488.4455413995, 9433617.349643756, 2135016.667110336, 569722.1810851333, 500692.5673788646, 49436.61157139286, 1610814.392855129, 1216343.3397891787, 1697711.751713927, 3199763.790837533, 94295.32310688228, 1987966.9930445962, 692.5779754092218, 42674.424432072556, 11112880.603754587, 1110168.5998614703, 250195.00382711703, 3561081.7385380506, 3182087.4358634464, 2271792.7740836604, 2030646.2918270845, 291160.45678040246, 2478898.969021626, 731044.8835238785, 71109.34799796087, 3876347.1507314537, 786516.4952047635, 369037.0616506698, 6120784.24898794, 274977.7119928185, 2285823.816107033, 353430.42517355934, 24373.637485841755, 681796.0966995888, 392219.4317960966, 33769.23646699288, 19459502.04573205, 721594.5138130774, 2189836.838743533, 16802713.101025846, 640151.583327417, 3612429.128937991, 1078980.4125956725, 3986832.711389143, 7491424.1560038645, 1094081.9188394235, 3192958.640857527, 926773.7210328778, 175571.95151488122, 1203960.8715493814, 1087981.2273597782, 9837908.874689689, 2417337.9116147114, 456808.9502143848, 3071071.2580333347, 465400.5600104865, 4391325.199511397, 603015.7098081836, 1751981.1174330679, 530876.8469244242, 2527548.6663013874, 1615788.3625749382, 4438706.704048644, 1422720.6960094771, 2179001.149554504, 1621292.8182546021, 832037.8541000246, 7037467.911724423, 74738.46448225959, 149841.47636078706, 475405.4520905047, 3677957.363391557, 876100.9480451903, 6702816.924653104, 742441.5463638288, 1849443.5819710633, 290381.3448616711, 135518.10591518006, 359877.5414375996, 12071551.821847359, 2422344.376572961, 1946002.7368327428, 1339098.4338122944, 1981040.5175862834, 30789.35657866532, 2660037.072839201, 1264529.9385625403, 1875586.4529449465, 3107670.351327848, 5269095.227498736, 1158142.0421632212, 1276987.1703789686, 12955768.525026448, 3063.863765113638, 3285569.274692825, 1564469.9486962345, 6018501.999376051, 3579633.067120376, 322.38450851582456, 261259.99559331103, 6122649.390441394, 12423615.73174996, 4629340.2006849935, 41004.0741602279, 928332.9883795523, 3062392.6215957906, 6976686.95959328, 590732.6273929648, 428235.4760043672, 445452.9011794366, 5722219.793474855, 4617151.862660671, 1646775.1976896834, 1123698.091794853, 14573.846511513693, 3274957.220257027, 5796674.877385231, 1919614.9662989483, 5576095.333295991, 4811550.07446371, 8108.426772640087, 1336935.2465966658, 1383484.7844392352, 3099214.959336212, 10444468.07486088, 4016718.0113960057, 3905485.3633954334, 6409492.62801616, 17463.617672750843, 10728560.163704911, 6814382.33708599, 97384.49957715056, 5096501.25968724, 390705.2335477201, 485938.9873746986, 2612.5144589459524, 1551805.9850018471, 5315.6585839315085, 1363981.9085882336, 3536.8484914215514, 1586942.0590771188, 4671473.260674597, 2416641.0534885363, 410030.32296473975, 342894.83585329435, 5776.003540609963, 843722.8627571458, 249318.27173491183, 5352709.632454673, 4516588.277023461, 1258604.716289119, 2258497.0192060284, 2463853.5193690043, 705817.8965872503, 4605495.656399959, 691572.9622514336, 6429116.601552377, 255600.6703296007, 1511900.6777374162, 18513.525510803447, 257880.3876114107, 6011384.688495571, 1576795.4699190594, 2474512.80410288, 4668524.92063833, 9448103.700413018, 4348824.831895821, 3240136.2697967123, 1651696.8129409798, 596300.000983756, 5517255.314196518, 9445.121832337463, 7953381.856178166, 2075046.2333979523, 751136.8379784544, 12913000.478435658, 4854817.260457174, 1930855.6180063314, 992534.1884698428, 122516.34895284951, 391939.7806066845, 3898425.316641573, 75030.74790634855, 12816896.345680783, 1062643.8827911625, 3727846.4450730826, 1195331.2956942536, 1094082.1517982841, 3961921.6857056743, 23707.20198273193, 374648.4890735737, 139005.21787894832, 496973.10320327233, 70820.67658037704, 1146408.9956412064, 2041833.536363076, 1430230.178423386, 2239507.127533827, 3302937.672546599, 2404093.254049047, 2204435.2427001433, 6887067.030950013, 2025705.8313901653, 215244.2697326769, 4741832.777016592, 700687.444303956, 14387.625613671844, 432066.99575482344, 55021.85571283917, 91079.43631710077, 3219918.954014574, 749859.9728478875, 8859569.495422736, 16902.17469788331, 9435914.400575567, 3620135.3834974724, 12684348.77749582, 4794327.418935806, 1822532.3606884922, 2184590.1199706714, 3312580.6179334614, 10796046.958038786, 6609908.649712539, 5785534.2204297045, 2611607.2019504206, 10964192.287607787, 2383113.644718949, 780.3865245514316, 1607131.0665835626, 1931068.0037039856, 3738.3220374322264, 241914.76819719537, 8876918.850537768, 5565.606887786998, 426004.32724147686, 26836.990959054674, 11772137.46908895, 7779613.189405674, 2122420.978357797, 1182614.7562356638, 820281.6421281896, 1096838.5352747864, 2173880.2731173346, 1524738.1613534817, 2391873.0802332284, 753761.450892911, 9158397.46514865, 1817833.300053695, 4082996.9612876885, 2409217.458658357, 4795712.812393875, 466467.9391010868, 1184429.220270773, 3414311.98483739, 203541.27287733718, 10779662.425856922, 264792.64242779755, 8560920.426741911, 1554582.821827993, 2083667.212774395, 4337648.675189907, 507888.6818087922, 868416.3960920414, 1185011.3324847044, 1879596.3031261927, 72581.34934399277, 2562266.59004431, 249101.32013465045, 3261.8994138756534, 3772297.1769777797, 1575007.646266182, 1193275.7941877353, 7639493.336099723, 538805.8739240223, 245238.8322144834, 4733749.266304847, 314768.70518381475, 1491274.557925688, 1286364.7653286753, 7062632.0038240515, 15394.496815963066, 242316.98020992917, 7835989.355970174, 213460.71748468967, 2596406.539776683, 10822232.2751506, 949996.7449756659, 220358.02915938257, 2824460.4280149797, 9446689.5837099, 1640529.0734299924, 225777.9571750434, 4823332.243905956, 740053.5009449668, 1664843.5259768884, 10637519.66340089, 7942680.840727029, 10235576.415475022, 1923379.9139461336, 918721.7293356225, 1048020.2978365269, 912381.9879321818, 4525265.823506983, 10100757.45298073, 3955631.752584639, 11712970.049394324, 5458361.760388361, 328749.33584278915, 1019862.9070278257, 6432154.97111695, 6818246.278860141, 2454123.114633927, 2849186.363252811, 494707.45227688167, 4413897.784986911, 999485.9620377247, 2118359.6617261646, 4538309.737067262, 2804746.7747920747, 2450171.886449185, 49760.119715414476, 2931630.998846464, 2799424.893544783, 315644.0709672461, 5406980.720513384, 578981.4874127333, 114718.71597562858, 111814.66091367474, 686732.2828924953, 4618716.701932572, 6638718.484859244, 12767022.114188207, 5528593.886500108, 4637245.15044209, 4655179.845499486, 70379.22023056308, 4987450.38605365, 6502726.109897019, 465359.85127076856, 6622738.192875171, 269724.28707266226, 11759764.395616367, 256089.23959371168, 7707172.3425587695, 142322.00277230004, 1828825.2542469709, 452698.95463350986, 1342294.3061121914, 3621389.8473020527, 722057.3755997757, 4683977.1458061, 1651229.4385244313, 58685.27626204013, 4203603.9305952, 9029439.688585524, 462682.78158592875, 210313.7715135672, 4220058.534170909, 6736916.801121609, 39028.62060966436, 1054360.1697611883, 5896118.614804727, 3710707.778030992, 2362222.8394435076, 52750.820763758384, 7912540.361219668, 5587559.544239775, 3637325.0456644166, 4511019.875958795, 7884216.824487754, 6870786.887584254, 465976.62114707055, 3242554.116342275, 5980240.911195549, 1459316.4633363485, 1762185.0967320935, 4347.843308249139, 1393672.703418124, 2139718.2370223454, 2314209.567501181, 619453.4893061355, 785124.2201414716, 2007698.740343607, 9204132.394986926, 8438763.032087823, 975081.0989909805, 4411188.9636774, 3618085.687346029, 1936360.3042446338, 6982801.985498838, 366701.61584577, 3975743.4079928645, 3440017.8434318807, 1639324.8638835503, 524139.2481614894, 3360.6460676528513, 4237123.28428225, 173258.27775085054, 12197112.317183405, 6330943.354410803, 2026088.9082053036, 1711899.4054490468, 1041558.7164344324, 3478786.1370984465, 255763.38338988717, 1608631.8040423212, 3032510.4829696063, 237348.17996753554, 3630929.997509025, 97516.2586215447, 1409991.0313624567, 25711.521891251323, 4108001.206805813, 685744.8719147069, 6858252.177092655, 56997.20519161201, 2140595.666988083, 4668920.996049142, 586157.9255897086, 6695086.7763138665, 3534767.2435780843, 912560.7757182297, 375758.8435185171, 49786.69038944645, 2649999.9224250643, 5952875.546072697, 5931180.321377179, 6879400.016509025, 2750600.912050388, 3288661.079478654, 819934.602075693, 33352.72446619638, 2492083.369307453, 3040973.979535003, 486401.160339723, 3046912.0121260495, 2552257.1070678243, 2066599.9936056032, 4048736.314584938, 5152931.588986976, 3172575.8615712402, 9369516.723335953, 1626310.2747273806, 1649562.9136421776, 2622508.407936315, 5583224.575995017, 4728177.696432875, 1740473.993418782, 2828819.7021943633, 159343.5202006658, 1230807.8756481265, 3714834.6843107576, 1644137.0178696378, 277803.63791939453, 5051396.478248891, 636149.9077375047, 13124462.78080737, 8972056.453606404, 16649834.730926465, 543231.1806851358, 74109.7785130114, 850965.117404121, 14140.49484791758, 7087969.963260344, 1262266.0898589091, 62601.44918820879, 2266356.0507130316, 10428601.660154382, 4062038.5622827453, 1991657.5410771328, 5031715.439606836, 4965447.205664241, 4484574.400180689, 923072.004830814, 5180859.766024369, 391301.3789290126, 5276994.623710722, 2841566.9808387468, 1962766.3842281618, 342646.3893865439, 1656762.2806424333, 67524.2707766156, 1192814.2535909866, 334910.4798346525, 547007.4995563627, 3336183.6950479774, 6409184.75378053, 4202744.703947305, 5334595.62701406, 38089.21503608872, 4405702.398146008]}],\n",
       "                        {\"template\": {\"data\": {\"bar\": [{\"error_x\": {\"color\": \"#2a3f5f\"}, \"error_y\": {\"color\": \"#2a3f5f\"}, \"marker\": {\"line\": {\"color\": \"#E5ECF6\", \"width\": 0.5}}, \"type\": \"bar\"}], \"barpolar\": [{\"marker\": {\"line\": {\"color\": \"#E5ECF6\", \"width\": 0.5}}, \"type\": \"barpolar\"}], \"carpet\": [{\"aaxis\": {\"endlinecolor\": \"#2a3f5f\", \"gridcolor\": \"white\", \"linecolor\": \"white\", \"minorgridcolor\": \"white\", \"startlinecolor\": \"#2a3f5f\"}, \"baxis\": {\"endlinecolor\": \"#2a3f5f\", \"gridcolor\": \"white\", \"linecolor\": \"white\", \"minorgridcolor\": \"white\", \"startlinecolor\": \"#2a3f5f\"}, \"type\": \"carpet\"}], \"choropleth\": [{\"colorbar\": {\"outlinewidth\": 0, \"ticks\": \"\"}, \"type\": \"choropleth\"}], \"contour\": [{\"colorbar\": {\"outlinewidth\": 0, \"ticks\": \"\"}, \"colorscale\": [[0.0, \"#0d0887\"], [0.1111111111111111, \"#46039f\"], [0.2222222222222222, \"#7201a8\"], [0.3333333333333333, \"#9c179e\"], [0.4444444444444444, \"#bd3786\"], [0.5555555555555556, \"#d8576b\"], [0.6666666666666666, \"#ed7953\"], [0.7777777777777778, \"#fb9f3a\"], [0.8888888888888888, \"#fdca26\"], [1.0, \"#f0f921\"]], \"type\": \"contour\"}], \"contourcarpet\": [{\"colorbar\": {\"outlinewidth\": 0, \"ticks\": \"\"}, \"type\": \"contourcarpet\"}], \"heatmap\": [{\"colorbar\": {\"outlinewidth\": 0, \"ticks\": \"\"}, \"colorscale\": [[0.0, \"#0d0887\"], [0.1111111111111111, \"#46039f\"], [0.2222222222222222, \"#7201a8\"], [0.3333333333333333, \"#9c179e\"], [0.4444444444444444, \"#bd3786\"], [0.5555555555555556, \"#d8576b\"], [0.6666666666666666, \"#ed7953\"], [0.7777777777777778, \"#fb9f3a\"], [0.8888888888888888, \"#fdca26\"], [1.0, \"#f0f921\"]], \"type\": \"heatmap\"}], \"heatmapgl\": [{\"colorbar\": {\"outlinewidth\": 0, \"ticks\": \"\"}, \"colorscale\": [[0.0, \"#0d0887\"], [0.1111111111111111, \"#46039f\"], [0.2222222222222222, \"#7201a8\"], [0.3333333333333333, \"#9c179e\"], [0.4444444444444444, \"#bd3786\"], [0.5555555555555556, \"#d8576b\"], [0.6666666666666666, \"#ed7953\"], [0.7777777777777778, \"#fb9f3a\"], [0.8888888888888888, \"#fdca26\"], [1.0, \"#f0f921\"]], \"type\": \"heatmapgl\"}], \"histogram\": [{\"marker\": {\"colorbar\": {\"outlinewidth\": 0, \"ticks\": \"\"}}, \"type\": \"histogram\"}], \"histogram2d\": [{\"colorbar\": {\"outlinewidth\": 0, \"ticks\": \"\"}, \"colorscale\": [[0.0, \"#0d0887\"], [0.1111111111111111, \"#46039f\"], [0.2222222222222222, \"#7201a8\"], [0.3333333333333333, \"#9c179e\"], [0.4444444444444444, \"#bd3786\"], [0.5555555555555556, \"#d8576b\"], [0.6666666666666666, \"#ed7953\"], [0.7777777777777778, \"#fb9f3a\"], [0.8888888888888888, \"#fdca26\"], [1.0, \"#f0f921\"]], \"type\": \"histogram2d\"}], \"histogram2dcontour\": [{\"colorbar\": {\"outlinewidth\": 0, \"ticks\": \"\"}, \"colorscale\": [[0.0, \"#0d0887\"], [0.1111111111111111, \"#46039f\"], [0.2222222222222222, \"#7201a8\"], [0.3333333333333333, \"#9c179e\"], [0.4444444444444444, \"#bd3786\"], [0.5555555555555556, \"#d8576b\"], [0.6666666666666666, \"#ed7953\"], [0.7777777777777778, \"#fb9f3a\"], [0.8888888888888888, \"#fdca26\"], [1.0, \"#f0f921\"]], \"type\": \"histogram2dcontour\"}], \"mesh3d\": [{\"colorbar\": {\"outlinewidth\": 0, \"ticks\": \"\"}, \"type\": \"mesh3d\"}], \"parcoords\": [{\"line\": {\"colorbar\": {\"outlinewidth\": 0, \"ticks\": \"\"}}, \"type\": \"parcoords\"}], \"pie\": [{\"automargin\": true, \"type\": \"pie\"}], \"scatter\": [{\"marker\": {\"colorbar\": {\"outlinewidth\": 0, \"ticks\": \"\"}}, \"type\": \"scatter\"}], \"scatter3d\": [{\"line\": {\"colorbar\": {\"outlinewidth\": 0, \"ticks\": \"\"}}, \"marker\": {\"colorbar\": {\"outlinewidth\": 0, \"ticks\": \"\"}}, \"type\": \"scatter3d\"}], \"scattercarpet\": [{\"marker\": {\"colorbar\": {\"outlinewidth\": 0, \"ticks\": \"\"}}, \"type\": \"scattercarpet\"}], \"scattergeo\": [{\"marker\": {\"colorbar\": {\"outlinewidth\": 0, \"ticks\": \"\"}}, \"type\": \"scattergeo\"}], \"scattergl\": [{\"marker\": {\"colorbar\": {\"outlinewidth\": 0, \"ticks\": \"\"}}, \"type\": \"scattergl\"}], \"scattermapbox\": [{\"marker\": {\"colorbar\": {\"outlinewidth\": 0, \"ticks\": \"\"}}, \"type\": \"scattermapbox\"}], \"scatterpolar\": [{\"marker\": {\"colorbar\": {\"outlinewidth\": 0, \"ticks\": \"\"}}, \"type\": \"scatterpolar\"}], \"scatterpolargl\": [{\"marker\": {\"colorbar\": {\"outlinewidth\": 0, \"ticks\": \"\"}}, \"type\": \"scatterpolargl\"}], \"scatterternary\": [{\"marker\": {\"colorbar\": {\"outlinewidth\": 0, \"ticks\": \"\"}}, \"type\": \"scatterternary\"}], \"surface\": [{\"colorbar\": {\"outlinewidth\": 0, \"ticks\": \"\"}, \"colorscale\": [[0.0, \"#0d0887\"], [0.1111111111111111, \"#46039f\"], [0.2222222222222222, \"#7201a8\"], [0.3333333333333333, \"#9c179e\"], [0.4444444444444444, \"#bd3786\"], [0.5555555555555556, \"#d8576b\"], [0.6666666666666666, \"#ed7953\"], [0.7777777777777778, \"#fb9f3a\"], [0.8888888888888888, \"#fdca26\"], [1.0, \"#f0f921\"]], \"type\": \"surface\"}], \"table\": [{\"cells\": {\"fill\": {\"color\": \"#EBF0F8\"}, \"line\": {\"color\": \"white\"}}, \"header\": {\"fill\": {\"color\": \"#C8D4E3\"}, \"line\": {\"color\": \"white\"}}, \"type\": \"table\"}]}, \"layout\": {\"annotationdefaults\": {\"arrowcolor\": \"#2a3f5f\", \"arrowhead\": 0, \"arrowwidth\": 1}, \"coloraxis\": {\"colorbar\": {\"outlinewidth\": 0, \"ticks\": \"\"}}, \"colorscale\": {\"diverging\": [[0, \"#8e0152\"], [0.1, \"#c51b7d\"], [0.2, \"#de77ae\"], [0.3, \"#f1b6da\"], [0.4, \"#fde0ef\"], [0.5, \"#f7f7f7\"], [0.6, \"#e6f5d0\"], [0.7, \"#b8e186\"], [0.8, \"#7fbc41\"], [0.9, \"#4d9221\"], [1, \"#276419\"]], \"sequential\": [[0.0, \"#0d0887\"], [0.1111111111111111, \"#46039f\"], [0.2222222222222222, \"#7201a8\"], [0.3333333333333333, \"#9c179e\"], [0.4444444444444444, \"#bd3786\"], [0.5555555555555556, \"#d8576b\"], [0.6666666666666666, \"#ed7953\"], [0.7777777777777778, \"#fb9f3a\"], [0.8888888888888888, \"#fdca26\"], [1.0, \"#f0f921\"]], \"sequentialminus\": [[0.0, \"#0d0887\"], [0.1111111111111111, \"#46039f\"], [0.2222222222222222, \"#7201a8\"], [0.3333333333333333, \"#9c179e\"], [0.4444444444444444, \"#bd3786\"], [0.5555555555555556, \"#d8576b\"], [0.6666666666666666, \"#ed7953\"], [0.7777777777777778, \"#fb9f3a\"], [0.8888888888888888, \"#fdca26\"], [1.0, \"#f0f921\"]]}, \"colorway\": [\"#636efa\", \"#EF553B\", \"#00cc96\", \"#ab63fa\", \"#FFA15A\", \"#19d3f3\", \"#FF6692\", \"#B6E880\", \"#FF97FF\", \"#FECB52\"], \"font\": {\"color\": \"#2a3f5f\"}, \"geo\": {\"bgcolor\": \"white\", \"lakecolor\": \"white\", \"landcolor\": \"#E5ECF6\", \"showlakes\": true, \"showland\": true, \"subunitcolor\": \"white\"}, \"hoverlabel\": {\"align\": \"left\"}, \"hovermode\": \"closest\", \"mapbox\": {\"style\": \"light\"}, \"paper_bgcolor\": \"white\", \"plot_bgcolor\": \"#E5ECF6\", \"polar\": {\"angularaxis\": {\"gridcolor\": \"white\", \"linecolor\": \"white\", \"ticks\": \"\"}, \"bgcolor\": \"#E5ECF6\", \"radialaxis\": {\"gridcolor\": \"white\", \"linecolor\": \"white\", \"ticks\": \"\"}}, \"scene\": {\"xaxis\": {\"backgroundcolor\": \"#E5ECF6\", \"gridcolor\": \"white\", \"gridwidth\": 2, \"linecolor\": \"white\", \"showbackground\": true, \"ticks\": \"\", \"zerolinecolor\": \"white\"}, \"yaxis\": {\"backgroundcolor\": \"#E5ECF6\", \"gridcolor\": \"white\", \"gridwidth\": 2, \"linecolor\": \"white\", \"showbackground\": true, \"ticks\": \"\", \"zerolinecolor\": \"white\"}, \"zaxis\": {\"backgroundcolor\": \"#E5ECF6\", \"gridcolor\": \"white\", \"gridwidth\": 2, \"linecolor\": \"white\", \"showbackground\": true, \"ticks\": \"\", \"zerolinecolor\": \"white\"}}, \"shapedefaults\": {\"line\": {\"color\": \"#2a3f5f\"}}, \"ternary\": {\"aaxis\": {\"gridcolor\": \"white\", \"linecolor\": \"white\", \"ticks\": \"\"}, \"baxis\": {\"gridcolor\": \"white\", \"linecolor\": \"white\", \"ticks\": \"\"}, \"bgcolor\": \"#E5ECF6\", \"caxis\": {\"gridcolor\": \"white\", \"linecolor\": \"white\", \"ticks\": \"\"}}, \"title\": {\"x\": 0.05}, \"xaxis\": {\"automargin\": true, \"gridcolor\": \"white\", \"linecolor\": \"white\", \"ticks\": \"\", \"title\": {\"standoff\": 15}, \"zerolinecolor\": \"white\", \"zerolinewidth\": 2}, \"yaxis\": {\"automargin\": true, \"gridcolor\": \"white\", \"linecolor\": \"white\", \"ticks\": \"\", \"title\": {\"standoff\": 15}, \"zerolinecolor\": \"white\", \"zerolinewidth\": 2}}}},\n",
       "                        {\"responsive\": true}\n",
       "                    ).then(function(){\n",
       "                            \n",
       "var gd = document.getElementById('179c2d3b-dff1-42b5-a7ff-4d880c2530aa');\n",
       "var x = new MutationObserver(function (mutations, observer) {{\n",
       "        var display = window.getComputedStyle(gd).display;\n",
       "        if (!display || display === 'none') {{\n",
       "            console.log([gd, 'removed!']);\n",
       "            Plotly.purge(gd);\n",
       "            observer.disconnect();\n",
       "        }}\n",
       "}});\n",
       "\n",
       "// Listen for the removal of the full notebook cells\n",
       "var notebookContainer = gd.closest('#notebook-container');\n",
       "if (notebookContainer) {{\n",
       "    x.observe(notebookContainer, {childList: true});\n",
       "}}\n",
       "\n",
       "// Listen for the clearing of the current output cell\n",
       "var outputEl = gd.closest('.output');\n",
       "if (outputEl) {{\n",
       "    x.observe(outputEl, {childList: true});\n",
       "}}\n",
       "\n",
       "                        })\n",
       "                };\n",
       "                });\n",
       "            </script>\n",
       "        </div>"
      ]
     },
     "metadata": {},
     "output_type": "display_data"
    }
   ],
   "source": [
    "fig = go.Figure()\n",
    "fig.add_trace(go.Scatter(\n",
    "#     x = x[:,0],\n",
    "#     y = x[:,1],\n",
    "#     z = v[:,0]\n",
    "    y = v[:,0],\n",
    "))\n",
    "fig.show()"
   ]
  },
  {
   "cell_type": "code",
   "execution_count": 499,
   "metadata": {},
   "outputs": [
    {
     "data": {
      "text/plain": [
       "tensor(26.0348, dtype=torch.float64)"
      ]
     },
     "execution_count": 499,
     "metadata": {},
     "output_type": "execute_result"
    }
   ],
   "source": [
    "torch.mean(v[:,0])"
   ]
  },
  {
   "cell_type": "code",
   "execution_count": null,
   "metadata": {},
   "outputs": [],
   "source": [
    "samples_buff_adv = copy.deepcopy(samples_buff)\n",
    "samples_gen_adv = samples_generator.AdversarialSampleGenerator(vf, x0_lo, x0_up, \n",
    "                                                               max_iter=opt['adv_max_iter'],\n",
    "                                                               conv_tol=opt['adv_conv_tol'],\n",
    "                                                               learning_rate=opt['adv_learning_rate'])\n",
    "vf_approx_adv = copy.deepcopy(vf_approx)\n",
    "train_log_adv = training_log.TrainingLog.get_copy(train_log,\n",
    "                                                  prefix=\"adversarial\",\n",
    "                                                  keep_writer=True)"
   ]
  },
  {
   "cell_type": "code",
   "execution_count": null,
   "metadata": {},
   "outputs": [],
   "source": [
    "validation_losses = vf_approx_adv.validation_loss(x_samples_validation, v_labels_validation)\n",
    "train_log_adv.add_validation_loss(validation_losses)\n",
    "validation_losses = vf_approx.validation_loss(x_samples_validation, v_labels_validation)\n",
    "train_log.add_validation_loss(validation_losses)\n",
    "for gen_i in range(opt['num_generations']):\n",
    "    # adverserial samples\n",
    "    (x_samples, v_labels) = samples_gen_adv.generate_samples(opt['num_samples_per_generation'], vf_approx_adv)\n",
    "    samples_buff_adv.add_samples(x_samples, v_labels)\n",
    "    # random samples\n",
    "    (x_samples, v_labels) = samples_gen.generate_samples(opt['num_samples_per_generation'])\n",
    "    samples_buff.add_samples(x_samples, v_labels)\n",
    "    for train_step_i in range(opt['num_train_step_per_gen']):\n",
    "        samples_indices = samples_buff_adv.get_random_sample_indices(opt['batch_size'])\n",
    "        x, v = samples_buff_adv.get_samples_from_indices(samples_indices)\n",
    "        losses = vf_approx_adv.train_step(x, v)\n",
    "        train_log_adv.add_train_loss(losses)\n",
    "        x, v = samples_buff.get_samples_from_indices(samples_indices)\n",
    "        losses = vf_approx.train_step(x, v)\n",
    "        train_log.add_train_loss(losses)\n",
    "    validation_losses = vf_approx_adv.validation_loss(x_samples_validation, v_labels_validation)\n",
    "    train_log_adv.add_validation_loss(validation_losses)\n",
    "    validation_losses = vf_approx.validation_loss(x_samples_validation, v_labels_validation)\n",
    "    train_log.add_validation_loss(validation_losses)"
   ]
  },
  {
   "cell_type": "code",
   "execution_count": 90,
   "metadata": {},
   "outputs": [
    {
     "data": {
      "application/vnd.plotly.v1+json": {
       "config": {
        "plotlyServerURL": "https://plot.ly"
       },
       "data": [
        {
         "type": "scatter",
         "x": [
          0,
          5.832696842844598e-06,
          6.415967072825879e-05,
          0.0006474293768405914,
          0.006480126641690731,
          0.06480709463357925,
          0.10000000149011612,
          0.1407729536294937,
          0.20000000298023224,
          0.2414941042661667,
          0.30000001192092896,
          0.3429638147354126,
          0.4000000059604645,
          0.43525227904319763,
          0.5,
          0.5288915634155273,
          0.5879140496253967,
          0.6000000238418579,
          0.645312488079071,
          0.699999988079071,
          0.733201801776886,
          0.800000011920929,
          0.8287716507911682,
          0.8758707046508789,
          0.8999999761581421,
          0.9012658596038818,
          0.9139242768287659,
          0.9696416258811951,
          1,
          1.0128259658813477,
          1.0664007663726807,
          1.100000023841858,
          1.114375352859497,
          1.172650933265686,
          1.2000000476837158,
          1.232314109802246,
          1.2999999523162842,
          1.330370306968689,
          1.399999976158142,
          1.431148886680603,
          1.5,
          1.5312598943710327,
          1.600000023841858,
          1.6281660795211792,
          1.7000000476837158,
          1.7021710872650146,
          1.7238821983337402,
          1.7999999523162842,
          1.8313853740692139,
          1.899999976158142,
          1.9360471963882446,
          2,
          2.0449564456939697,
          2.0999999046325684,
          2.1365718841552734,
          2.200000047683716,
          2.233123540878296,
          2.299999952316284,
          2.328620195388794,
          2.4000000953674316,
          2.4140737056732178,
          2.496062994003296,
          2.5,
          2.5190980434417725,
          2.591059446334839,
          2.5999999046325684,
          2.637538194656372,
          2.700000047683716,
          2.7498040199279785,
          2.799999952316284,
          2.835522174835205,
          2.9000000953674316,
          2.9301271438598633,
          3,
          3.029097080230713,
          3.0999999046325684,
          3.1281118392944336,
          3.200000047683716,
          3.230447769165039,
          3.299999952316284,
          3.337449550628662,
          3.4000000953674316,
          3.4345462322235107,
          3.5,
          3.532360076904297,
          3.5999999046325684,
          3.6404330730438232,
          3.700000047683716,
          3.7278943061828613,
          3.799999952316284,
          3.832331657409668,
          3.9000000953674316,
          3.938014507293701,
          4,
          4.028131484985352,
          4.099999904632568,
          4.1096696853637695,
          4.175280570983887,
          4.199999809265137,
          4.202972888946533,
          4.232701778411865,
          4.300000190734863,
          4.319142818450928,
          4.39393424987793,
          4.400000095367432,
          4.430713653564453,
          4.5,
          4.53525447845459,
          4.599999904632568,
          4.640427589416504,
          4.699999809265137,
          4.757209777832031,
          4.800000190734863,
          4.841816425323486,
          4.900000095367432
         ],
         "y": [
          3.34159255027771,
          3.34159255027771,
          3.341592311859131,
          3.3415749073028564,
          3.3398444652557373,
          3.17952561378479,
          2.9854507446289062,
          2.7592458724975586,
          2.468053102493286,
          2.260395050048828,
          1.8916515111923218,
          1.4994540214538574,
          0.8188890814781189,
          0.4972766637802124,
          0.08358164131641388,
          -0.09524354338645935,
          -0.5297724008560181,
          -0.6234322190284729,
          -1.0017449855804443,
          -1.3870353698730469,
          -1.506108045578003,
          -1.6252546310424805,
          -1.64944589138031,
          -1.63707435131073,
          -1.6317213773727417,
          -1.631720781326294,
          -1.62697434425354,
          -1.5483500957489014,
          -1.508852481842041,
          -1.494185447692871,
          -1.3831058740615845,
          -1.3227241039276123,
          -1.3103406429290771,
          -1.3008393049240112,
          -1.2847832441329956,
          -1.254360318183899,
          -1.1588906049728394,
          -1.103309988975525,
          -0.9468740224838257,
          -0.8567888140678406,
          -0.6457950472831726,
          -0.5364180207252502,
          -0.29790136218070984,
          -0.19088862836360931,
          0.07616084814071655,
          0.08561139553785324,
          0.18764463067054749,
          0.599300742149353,
          0.7782784700393677,
          1.1834731101989746,
          1.3696730136871338,
          1.6686370372772217,
          1.8738163709640503,
          2.110689401626587,
          2.2615857124328613,
          2.5100181102752686,
          2.6330456733703613,
          2.8721346855163574,
          2.9693398475646973,
          3.210965394973755,
          3.254574775695801,
          3.525742292404175,
          3.5371806621551514,
          3.594675064086914,
          3.8272135257720947,
          3.8541066646575928,
          3.9702847003936768,
          4.177424430847168,
          4.354048728942871,
          4.553619384765625,
          4.7043962478637695,
          5.007716655731201,
          5.1591691970825195,
          5.523930549621582,
          5.687287330627441,
          6.082095623016357,
          6.260402202606201,
          6.750859260559082,
          6.964329719543457,
          7.459378242492676,
          7.716536998748779,
          8.130354881286621,
          8.348711013793945,
          8.744731903076172,
          8.930301666259766,
          9.305682182312012,
          9.513030052185059,
          9.810359001159668,
          9.94601821899414,
          10.303142547607422,
          10.46877384185791,
          10.836606979370117,
          11.069345474243164,
          11.473491668701172,
          11.66826343536377,
          12.192667007446289,
          12.26240348815918,
          12.763225555419922,
          12.942569732666016,
          12.963334083557129,
          13.178446769714355,
          13.649033546447754,
          13.770272254943848,
          14.231164932250977,
          14.264222145080566,
          14.43313217163086,
          14.800735473632812,
          14.975183486938477,
          15.288668632507324,
          15.471137046813965,
          15.722308158874512,
          15.908788681030273,
          16.001657485961914,
          16.01643943786621,
          15.89501667022705
         ]
        },
        {
         "type": "scatter",
         "x": [
          0,
          5.832696842844598e-06,
          6.415967072825879e-05,
          0.0006474293768405914,
          0.006480126641690731,
          0.06480709463357925,
          0.10000000149011612,
          0.1407729536294937,
          0.20000000298023224,
          0.2414941042661667,
          0.30000001192092896,
          0.3429638147354126,
          0.4000000059604645,
          0.43525227904319763,
          0.5,
          0.5288915634155273,
          0.5879140496253967,
          0.6000000238418579,
          0.645312488079071,
          0.699999988079071,
          0.733201801776886,
          0.800000011920929,
          0.8287716507911682,
          0.8758707046508789,
          0.8999999761581421,
          0.9012658596038818,
          0.9139242768287659,
          0.9696416258811951,
          1,
          1.0128259658813477,
          1.0664007663726807,
          1.100000023841858,
          1.114375352859497,
          1.172650933265686,
          1.2000000476837158,
          1.232314109802246,
          1.2999999523162842,
          1.330370306968689,
          1.399999976158142,
          1.431148886680603,
          1.5,
          1.5312598943710327,
          1.600000023841858,
          1.6281660795211792,
          1.7000000476837158,
          1.7021710872650146,
          1.7238821983337402,
          1.7999999523162842,
          1.8313853740692139,
          1.899999976158142,
          1.9360471963882446,
          2,
          2.0449564456939697,
          2.0999999046325684,
          2.1365718841552734,
          2.200000047683716,
          2.233123540878296,
          2.299999952316284,
          2.328620195388794,
          2.4000000953674316,
          2.4140737056732178,
          2.496062994003296,
          2.5,
          2.5190980434417725,
          2.591059446334839,
          2.5999999046325684,
          2.637538194656372,
          2.700000047683716,
          2.7498040199279785,
          2.799999952316284,
          2.835522174835205,
          2.9000000953674316,
          2.9301271438598633,
          3,
          3.029097080230713,
          3.0999999046325684,
          3.1281118392944336,
          3.200000047683716,
          3.230447769165039,
          3.299999952316284,
          3.337449550628662,
          3.4000000953674316,
          3.4345462322235107,
          3.5,
          3.532360076904297,
          3.5999999046325684,
          3.6404330730438232,
          3.700000047683716,
          3.7278943061828613,
          3.799999952316284,
          3.832331657409668,
          3.9000000953674316,
          3.938014507293701,
          4,
          4.028131484985352,
          4.099999904632568,
          4.1096696853637695,
          4.175280570983887,
          4.199999809265137,
          4.202972888946533,
          4.232701778411865,
          4.300000190734863,
          4.319142818450928,
          4.39393424987793,
          4.400000095367432,
          4.430713653564453,
          4.5,
          4.53525447845459,
          4.599999904632568,
          4.640427589416504,
          4.699999809265137,
          4.757209777832031,
          4.800000190734863,
          4.841816425323486,
          4.900000095367432
         ],
         "y": [
          -0.10000000149011612,
          -0.09999999403953552,
          -0.09999953955411911,
          -0.09995263814926147,
          -0.0952889546751976,
          0.33730804920196533,
          0.8693806529045105,
          1.5236116647720337,
          2.492007255554199,
          3.3008668422698975,
          4.561219215393066,
          5.639233589172363,
          7.395570755004883,
          8.259079933166504,
          9.422616958618164,
          9.936129570007324,
          11.12490463256836,
          11.365461349487305,
          12.320718765258789,
          13.296662330627441,
          13.605952262878418,
          13.950133323669434,
          14.043753623962402,
          14.071808815002441,
          14.10226058959961,
          14.104954719543457,
          14.119178771972656,
          14.036635398864746,
          14.018778800964355,
          14.021133422851562,
          13.906618118286133,
          13.878012657165527,
          13.909266471862793,
          14.20146656036377,
          14.336289405822754,
          14.488064765930176,
          14.815979957580566,
          14.972256660461426,
          15.366875648498535,
          15.518157958984375,
          15.874908447265625,
          15.996352195739746,
          16.262046813964844,
          16.331295013427734,
          16.504907608032227,
          16.50490951538086,
          16.480018615722656,
          16.239944458007812,
          16.118215560913086,
          15.793988227844238,
          15.706395149230957,
          15.614391326904297,
          15.519145965576172,
          15.402578353881836,
          15.318648338317871,
          15.170604705810547,
          15.097591400146484,
          14.951234817504883,
          14.899680137634277,
          14.764298439025879,
          14.752416610717773,
          14.641009330749512,
          14.642091751098633,
          14.643402099609375,
          14.634533882141113,
          14.645395278930664,
          14.698619842529297,
          14.813858032226562,
          14.94749641418457,
          15.089357376098633,
          15.208005905151367,
          15.426396369934082,
          15.533759117126465,
          15.80873966217041,
          15.895773887634277,
          16.120960235595703,
          16.12476921081543,
          16.023666381835938,
          15.961421012878418,
          15.770246505737305,
          15.67648983001709,
          15.516983985900879,
          15.431408882141113,
          15.265447616577148,
          15.194388389587402,
          15.046971321105957,
          15.009780883789062,
          14.996973037719727,
          15.01799488067627,
          15.124245643615723,
          15.195408821105957,
          15.373025894165039,
          15.430269241333008,
          15.497467994689941,
          15.508133888244629,
          15.46754264831543,
          15.467855453491211,
          15.3499116897583,
          15.328099250793457,
          15.328106880187988,
          15.291741371154785,
          15.193489074707031,
          15.195487022399902,
          15.176302909851074,
          15.186631202697754,
          15.22801399230957,
          15.337538719177246,
          15.434693336486816,
          15.63222885131836,
          15.800687789916992,
          16.082469940185547,
          16.464139938354492,
          16.80802345275879,
          17.277385711669922,
          18.147865295410156
         ]
        },
        {
         "type": "scatter",
         "x": [
          0,
          5.832696842844598e-06,
          6.415967072825879e-05,
          0.0006474293768405914,
          0.006480126641690731,
          0.06480709463357925,
          0.10000000149011612,
          0.1407729536294937,
          0.20000000298023224,
          0.2414941042661667,
          0.30000001192092896,
          0.3429638147354126,
          0.4000000059604645,
          0.43525227904319763,
          0.5,
          0.5288915634155273,
          0.5879140496253967,
          0.6000000238418579,
          0.645312488079071,
          0.699999988079071,
          0.733201801776886,
          0.800000011920929,
          0.8287716507911682,
          0.8758707046508789,
          0.8999999761581421,
          0.9012658596038818,
          0.9139242768287659,
          0.9696416258811951,
          1,
          1.0128259658813477,
          1.0664007663726807,
          1.100000023841858,
          1.114375352859497,
          1.172650933265686,
          1.2000000476837158,
          1.232314109802246,
          1.2999999523162842,
          1.330370306968689,
          1.399999976158142,
          1.431148886680603,
          1.5,
          1.5312598943710327,
          1.600000023841858,
          1.6281660795211792,
          1.7000000476837158,
          1.7021710872650146,
          1.7238821983337402,
          1.7999999523162842,
          1.8313853740692139,
          1.899999976158142,
          1.9360471963882446,
          2,
          2.0449564456939697,
          2.0999999046325684,
          2.1365718841552734,
          2.200000047683716,
          2.233123540878296,
          2.299999952316284,
          2.328620195388794,
          2.4000000953674316,
          2.4140737056732178,
          2.496062994003296,
          2.5,
          2.5190980434417725,
          2.591059446334839,
          2.5999999046325684,
          2.637538194656372,
          2.700000047683716,
          2.7498040199279785,
          2.799999952316284,
          2.835522174835205,
          2.9000000953674316,
          2.9301271438598633,
          3,
          3.029097080230713,
          3.0999999046325684,
          3.1281118392944336,
          3.200000047683716,
          3.230447769165039,
          3.299999952316284,
          3.337449550628662,
          3.4000000953674316,
          3.4345462322235107,
          3.5,
          3.532360076904297,
          3.5999999046325684,
          3.6404330730438232,
          3.700000047683716,
          3.7278943061828613,
          3.799999952316284,
          3.832331657409668,
          3.9000000953674316,
          3.938014507293701,
          4,
          4.028131484985352,
          4.099999904632568,
          4.1096696853637695,
          4.175280570983887,
          4.199999809265137,
          4.202972888946533,
          4.232701778411865,
          4.300000190734863,
          4.319142818450928,
          4.39393424987793,
          4.400000095367432,
          4.430713653564453,
          4.5,
          4.53525447845459,
          4.599999904632568,
          4.640427589416504,
          4.699999809265137,
          4.757209777832031,
          4.800000190734863,
          4.841816425323486,
          4.900000095367432
         ],
         "y": [
          0,
          -0.0004894789308309555,
          -0.0053836810402572155,
          -0.05426708608865738,
          -0.5373733043670654,
          -4.725356101989746,
          -6.0857014656066895,
          -5.1544318199157715,
          -4.816659450531006,
          -5.294820785522461,
          -7.317199230194092,
          -11.059465408325195,
          -11.062487602233887,
          -7.628025054931641,
          -5.793809413909912,
          -6.59269380569458,
          -7.823207855224609,
          -7.627604961395264,
          -8.582423210144043,
          -4.84427547454834,
          -2.586930513381958,
          -1.623546838760376,
          -0.2069995254278183,
          0.4006505608558655,
          -0.03691435232758522,
          0.03739882633090019,
          0.6839583516120911,
          1.627024531364441,
          0.819631814956665,
          1.438531517982483,
          2.221810817718506,
          1.174194097518921,
          0.5837628245353699,
          0.2552657723426819,
          0.9904301166534424,
          0.968147337436676,
          2.0441408157348633,
          1.7413479089736938,
          3.1078407764434814,
          2.7718095779418945,
          3.7299249172210693,
          3.331962823867798,
          4.0326008796691895,
          3.6166117191314697,
          4.318160533905029,
          4.387302398681641,
          4.980637073516846,
          5.385147571563721,
          5.940979957580566,
          5.496920108795166,
          4.888243675231934,
          4.642519474029541,
          4.467277526855469,
          4.1165385246276855,
          4.1036176681518555,
          3.637779951095581,
          3.74984073638916,
          3.2358150482177734,
          3.5096118450164795,
          2.972050428390503,
          3.210597276687622,
          2.9447920322418213,
          2.865111827850342,
          3.1337764263153076,
          3.0623691082000732,
          2.950652599334717,
          3.213486433029175,
          3.373093605041504,
          3.7428572177886963,
          4.220282077789307,
          4.327391624450684,
          5.192723751068115,
          4.938042640686035,
          5.82704496383667,
          5.457306861877441,
          6.0920209884643555,
          6.5644426345825195,
          6.835433483123779,
          7.1445417404174805,
          6.858318328857422,
          6.8358259201049805,
          6.297937870025635,
          6.301944732666016,
          5.666708469390869,
          5.7594828605651855,
          5.173489093780518,
          5.077879905700684,
          4.901914119720459,
          4.8440704345703125,
          5.15919303894043,
          5.137914657592773,
          5.875952243804932,
          6.330654621124268,
          6.620382308959961,
          7.168764591217041,
          7.082321643829346,
          7.3312249183654785,
          7.508688449859619,
          6.950677871704102,
          7.017244338989258,
          7.359068870544434,
          6.2227783203125,
          6.411026954650879,
          5.5302300453186035,
          5.367948532104492,
          5.5650529861450195,
          4.806196689605713,
          5.021322250366211,
          4.46925687789917,
          4.492616653442383,
          3.7701809406280518,
          2.681002140045166,
          1.6363379955291748,
          -0.8923023343086243,
          -2.6221251487731934
         ]
        },
        {
         "type": "scatter",
         "x": [
          0,
          5.832696842844598e-06,
          6.415967072825879e-05,
          0.0006474293768405914,
          0.006480126641690731,
          0.06480709463357925,
          0.10000000149011612,
          0.1407729536294937,
          0.20000000298023224,
          0.2414941042661667,
          0.30000001192092896,
          0.3429638147354126,
          0.4000000059604645,
          0.43525227904319763,
          0.5,
          0.5288915634155273,
          0.5879140496253967,
          0.6000000238418579,
          0.645312488079071,
          0.699999988079071,
          0.733201801776886,
          0.800000011920929,
          0.8287716507911682,
          0.8758707046508789,
          0.8999999761581421,
          0.9012658596038818,
          0.9139242768287659,
          0.9696416258811951,
          1,
          1.0128259658813477,
          1.0664007663726807,
          1.100000023841858,
          1.114375352859497,
          1.172650933265686,
          1.2000000476837158,
          1.232314109802246,
          1.2999999523162842,
          1.330370306968689,
          1.399999976158142,
          1.431148886680603,
          1.5,
          1.5312598943710327,
          1.600000023841858,
          1.6281660795211792,
          1.7000000476837158,
          1.7021710872650146,
          1.7238821983337402,
          1.7999999523162842,
          1.8313853740692139,
          1.899999976158142,
          1.9360471963882446,
          2,
          2.0449564456939697,
          2.0999999046325684,
          2.1365718841552734,
          2.200000047683716,
          2.233123540878296,
          2.299999952316284,
          2.328620195388794,
          2.4000000953674316,
          2.4140737056732178,
          2.496062994003296,
          2.5,
          2.5190980434417725,
          2.591059446334839,
          2.5999999046325684,
          2.637538194656372,
          2.700000047683716,
          2.7498040199279785,
          2.799999952316284,
          2.835522174835205,
          2.9000000953674316,
          2.9301271438598633,
          3,
          3.029097080230713,
          3.0999999046325684,
          3.1281118392944336,
          3.200000047683716,
          3.230447769165039,
          3.299999952316284,
          3.337449550628662,
          3.4000000953674316,
          3.4345462322235107,
          3.5,
          3.532360076904297,
          3.5999999046325684,
          3.6404330730438232,
          3.700000047683716,
          3.7278943061828613,
          3.799999952316284,
          3.832331657409668,
          3.9000000953674316,
          3.938014507293701,
          4,
          4.028131484985352,
          4.099999904632568,
          4.1096696853637695,
          4.175280570983887,
          4.199999809265137,
          4.202972888946533,
          4.232701778411865,
          4.300000190734863,
          4.319142818450928,
          4.39393424987793,
          4.400000095367432,
          4.430713653564453,
          4.5,
          4.53525447845459,
          4.599999904632568,
          4.640427589416504,
          4.699999809265137,
          4.757209777832031,
          4.800000190734863,
          4.841816425323486,
          4.900000095367432
         ],
         "y": [
          0,
          0.0013191153993830085,
          0.014508702792227268,
          0.1462482362985611,
          1.4483013153076172,
          12.797208786010742,
          16.970096588134766,
          15.60002613067627,
          17.820812225341797,
          20.766687393188477,
          21.6727237701416,
          28.928695678710938,
          29.066316604614258,
          20.982084274291992,
          16.406105041503906,
          18.940677642822266,
          20.289915084838867,
          19.40621566772461,
          21.58144760131836,
          12.447980880737305,
          6.850553035736084,
          5.291980743408203,
          1.6266990900039673,
          0.5419977307319641,
          2.2289891242980957,
          2.0289571285247803,
          0.2991742789745331,
          -1.7521494626998901,
          1.0435740947723389,
          -0.5956620573997498,
          -2.271451950073242,
          1.1576132774353027,
          3.0999789237976074,
          5.540428638458252,
          4.072681427001953,
          5.121772766113281,
          3.851405382156372,
          6.07595157623291,
          3.6017873287200928,
          5.744483947753906,
          2.894683599472046,
          4.566432476043701,
          1.60756254196167,
          3.0709657669067383,
          0.11986418068408966,
          -0.11623129993677139,
          -2.0453081130981445,
          -2.730504035949707,
          -4.741420745849609,
          -3.442033052444458,
          -1.6555168628692627,
          -1.9606623649597168,
          -2.205501079559326,
          -1.9219070672988892,
          -2.537795305252075,
          -1.7265723943710327,
          -2.5241525173187256,
          -1.180303692817688,
          -2.255201816558838,
          -0.4455777704715729,
          -1.1961203813552856,
          0.12045253068208694,
          0.4335154891014099,
          -0.22813154757022858,
          0.9480336308479309,
          1.496034026145935,
          1.4308751821517944,
          2.496213436126709,
          2.810150623321533,
          2.791405439376831,
          3.6933095455169678,
          2.495753049850464,
          4.337029933929443,
          2.0180273056030273,
          3.6962835788726807,
          1.0402110815048218,
          -0.6347348093986511,
          -1.3355813026428223,
          -2.5990729331970215,
          -2.136108160018921,
          -2.7390193939208984,
          -1.9946645498275757,
          -2.8003885746002197,
          -1.6865367889404297,
          -2.5402822494506836,
          -1.072081446647644,
          -0.7136512994766235,
          0.398215115070343,
          1.0655781030654907,
          1.6002589464187622,
          2.6478474140167236,
          1.9767694473266602,
          1.1527595520019531,
          1.3350322246551514,
          -0.3808521330356598,
          0.5189961194992065,
          -0.42145365476608276,
          -1.6968096494674683,
          0.14818018674850464,
          -0.1401854306459427,
          -1.9969192743301392,
          0.6848264932632446,
          -0.37186017632484436,
          1.4282946586608887,
          1.9874231815338135,
          0.9290210604667664,
          3.322817087173462,
          2.428597927093506,
          4.459043502807617,
          4.084804058074951,
          5.842365264892578,
          7.470766544342041,
          8.590575218200684,
          13.478998184204102,
          14.955564498901367
         ]
        }
       ],
       "layout": {
        "template": {
         "data": {
          "bar": [
           {
            "error_x": {
             "color": "#2a3f5f"
            },
            "error_y": {
             "color": "#2a3f5f"
            },
            "marker": {
             "line": {
              "color": "#E5ECF6",
              "width": 0.5
             }
            },
            "type": "bar"
           }
          ],
          "barpolar": [
           {
            "marker": {
             "line": {
              "color": "#E5ECF6",
              "width": 0.5
             }
            },
            "type": "barpolar"
           }
          ],
          "carpet": [
           {
            "aaxis": {
             "endlinecolor": "#2a3f5f",
             "gridcolor": "white",
             "linecolor": "white",
             "minorgridcolor": "white",
             "startlinecolor": "#2a3f5f"
            },
            "baxis": {
             "endlinecolor": "#2a3f5f",
             "gridcolor": "white",
             "linecolor": "white",
             "minorgridcolor": "white",
             "startlinecolor": "#2a3f5f"
            },
            "type": "carpet"
           }
          ],
          "choropleth": [
           {
            "colorbar": {
             "outlinewidth": 0,
             "ticks": ""
            },
            "type": "choropleth"
           }
          ],
          "contour": [
           {
            "colorbar": {
             "outlinewidth": 0,
             "ticks": ""
            },
            "colorscale": [
             [
              0,
              "#0d0887"
             ],
             [
              0.1111111111111111,
              "#46039f"
             ],
             [
              0.2222222222222222,
              "#7201a8"
             ],
             [
              0.3333333333333333,
              "#9c179e"
             ],
             [
              0.4444444444444444,
              "#bd3786"
             ],
             [
              0.5555555555555556,
              "#d8576b"
             ],
             [
              0.6666666666666666,
              "#ed7953"
             ],
             [
              0.7777777777777778,
              "#fb9f3a"
             ],
             [
              0.8888888888888888,
              "#fdca26"
             ],
             [
              1,
              "#f0f921"
             ]
            ],
            "type": "contour"
           }
          ],
          "contourcarpet": [
           {
            "colorbar": {
             "outlinewidth": 0,
             "ticks": ""
            },
            "type": "contourcarpet"
           }
          ],
          "heatmap": [
           {
            "colorbar": {
             "outlinewidth": 0,
             "ticks": ""
            },
            "colorscale": [
             [
              0,
              "#0d0887"
             ],
             [
              0.1111111111111111,
              "#46039f"
             ],
             [
              0.2222222222222222,
              "#7201a8"
             ],
             [
              0.3333333333333333,
              "#9c179e"
             ],
             [
              0.4444444444444444,
              "#bd3786"
             ],
             [
              0.5555555555555556,
              "#d8576b"
             ],
             [
              0.6666666666666666,
              "#ed7953"
             ],
             [
              0.7777777777777778,
              "#fb9f3a"
             ],
             [
              0.8888888888888888,
              "#fdca26"
             ],
             [
              1,
              "#f0f921"
             ]
            ],
            "type": "heatmap"
           }
          ],
          "heatmapgl": [
           {
            "colorbar": {
             "outlinewidth": 0,
             "ticks": ""
            },
            "colorscale": [
             [
              0,
              "#0d0887"
             ],
             [
              0.1111111111111111,
              "#46039f"
             ],
             [
              0.2222222222222222,
              "#7201a8"
             ],
             [
              0.3333333333333333,
              "#9c179e"
             ],
             [
              0.4444444444444444,
              "#bd3786"
             ],
             [
              0.5555555555555556,
              "#d8576b"
             ],
             [
              0.6666666666666666,
              "#ed7953"
             ],
             [
              0.7777777777777778,
              "#fb9f3a"
             ],
             [
              0.8888888888888888,
              "#fdca26"
             ],
             [
              1,
              "#f0f921"
             ]
            ],
            "type": "heatmapgl"
           }
          ],
          "histogram": [
           {
            "marker": {
             "colorbar": {
              "outlinewidth": 0,
              "ticks": ""
             }
            },
            "type": "histogram"
           }
          ],
          "histogram2d": [
           {
            "colorbar": {
             "outlinewidth": 0,
             "ticks": ""
            },
            "colorscale": [
             [
              0,
              "#0d0887"
             ],
             [
              0.1111111111111111,
              "#46039f"
             ],
             [
              0.2222222222222222,
              "#7201a8"
             ],
             [
              0.3333333333333333,
              "#9c179e"
             ],
             [
              0.4444444444444444,
              "#bd3786"
             ],
             [
              0.5555555555555556,
              "#d8576b"
             ],
             [
              0.6666666666666666,
              "#ed7953"
             ],
             [
              0.7777777777777778,
              "#fb9f3a"
             ],
             [
              0.8888888888888888,
              "#fdca26"
             ],
             [
              1,
              "#f0f921"
             ]
            ],
            "type": "histogram2d"
           }
          ],
          "histogram2dcontour": [
           {
            "colorbar": {
             "outlinewidth": 0,
             "ticks": ""
            },
            "colorscale": [
             [
              0,
              "#0d0887"
             ],
             [
              0.1111111111111111,
              "#46039f"
             ],
             [
              0.2222222222222222,
              "#7201a8"
             ],
             [
              0.3333333333333333,
              "#9c179e"
             ],
             [
              0.4444444444444444,
              "#bd3786"
             ],
             [
              0.5555555555555556,
              "#d8576b"
             ],
             [
              0.6666666666666666,
              "#ed7953"
             ],
             [
              0.7777777777777778,
              "#fb9f3a"
             ],
             [
              0.8888888888888888,
              "#fdca26"
             ],
             [
              1,
              "#f0f921"
             ]
            ],
            "type": "histogram2dcontour"
           }
          ],
          "mesh3d": [
           {
            "colorbar": {
             "outlinewidth": 0,
             "ticks": ""
            },
            "type": "mesh3d"
           }
          ],
          "parcoords": [
           {
            "line": {
             "colorbar": {
              "outlinewidth": 0,
              "ticks": ""
             }
            },
            "type": "parcoords"
           }
          ],
          "pie": [
           {
            "automargin": true,
            "type": "pie"
           }
          ],
          "scatter": [
           {
            "marker": {
             "colorbar": {
              "outlinewidth": 0,
              "ticks": ""
             }
            },
            "type": "scatter"
           }
          ],
          "scatter3d": [
           {
            "line": {
             "colorbar": {
              "outlinewidth": 0,
              "ticks": ""
             }
            },
            "marker": {
             "colorbar": {
              "outlinewidth": 0,
              "ticks": ""
             }
            },
            "type": "scatter3d"
           }
          ],
          "scattercarpet": [
           {
            "marker": {
             "colorbar": {
              "outlinewidth": 0,
              "ticks": ""
             }
            },
            "type": "scattercarpet"
           }
          ],
          "scattergeo": [
           {
            "marker": {
             "colorbar": {
              "outlinewidth": 0,
              "ticks": ""
             }
            },
            "type": "scattergeo"
           }
          ],
          "scattergl": [
           {
            "marker": {
             "colorbar": {
              "outlinewidth": 0,
              "ticks": ""
             }
            },
            "type": "scattergl"
           }
          ],
          "scattermapbox": [
           {
            "marker": {
             "colorbar": {
              "outlinewidth": 0,
              "ticks": ""
             }
            },
            "type": "scattermapbox"
           }
          ],
          "scatterpolar": [
           {
            "marker": {
             "colorbar": {
              "outlinewidth": 0,
              "ticks": ""
             }
            },
            "type": "scatterpolar"
           }
          ],
          "scatterpolargl": [
           {
            "marker": {
             "colorbar": {
              "outlinewidth": 0,
              "ticks": ""
             }
            },
            "type": "scatterpolargl"
           }
          ],
          "scatterternary": [
           {
            "marker": {
             "colorbar": {
              "outlinewidth": 0,
              "ticks": ""
             }
            },
            "type": "scatterternary"
           }
          ],
          "surface": [
           {
            "colorbar": {
             "outlinewidth": 0,
             "ticks": ""
            },
            "colorscale": [
             [
              0,
              "#0d0887"
             ],
             [
              0.1111111111111111,
              "#46039f"
             ],
             [
              0.2222222222222222,
              "#7201a8"
             ],
             [
              0.3333333333333333,
              "#9c179e"
             ],
             [
              0.4444444444444444,
              "#bd3786"
             ],
             [
              0.5555555555555556,
              "#d8576b"
             ],
             [
              0.6666666666666666,
              "#ed7953"
             ],
             [
              0.7777777777777778,
              "#fb9f3a"
             ],
             [
              0.8888888888888888,
              "#fdca26"
             ],
             [
              1,
              "#f0f921"
             ]
            ],
            "type": "surface"
           }
          ],
          "table": [
           {
            "cells": {
             "fill": {
              "color": "#EBF0F8"
             },
             "line": {
              "color": "white"
             }
            },
            "header": {
             "fill": {
              "color": "#C8D4E3"
             },
             "line": {
              "color": "white"
             }
            },
            "type": "table"
           }
          ]
         },
         "layout": {
          "annotationdefaults": {
           "arrowcolor": "#2a3f5f",
           "arrowhead": 0,
           "arrowwidth": 1
          },
          "coloraxis": {
           "colorbar": {
            "outlinewidth": 0,
            "ticks": ""
           }
          },
          "colorscale": {
           "diverging": [
            [
             0,
             "#8e0152"
            ],
            [
             0.1,
             "#c51b7d"
            ],
            [
             0.2,
             "#de77ae"
            ],
            [
             0.3,
             "#f1b6da"
            ],
            [
             0.4,
             "#fde0ef"
            ],
            [
             0.5,
             "#f7f7f7"
            ],
            [
             0.6,
             "#e6f5d0"
            ],
            [
             0.7,
             "#b8e186"
            ],
            [
             0.8,
             "#7fbc41"
            ],
            [
             0.9,
             "#4d9221"
            ],
            [
             1,
             "#276419"
            ]
           ],
           "sequential": [
            [
             0,
             "#0d0887"
            ],
            [
             0.1111111111111111,
             "#46039f"
            ],
            [
             0.2222222222222222,
             "#7201a8"
            ],
            [
             0.3333333333333333,
             "#9c179e"
            ],
            [
             0.4444444444444444,
             "#bd3786"
            ],
            [
             0.5555555555555556,
             "#d8576b"
            ],
            [
             0.6666666666666666,
             "#ed7953"
            ],
            [
             0.7777777777777778,
             "#fb9f3a"
            ],
            [
             0.8888888888888888,
             "#fdca26"
            ],
            [
             1,
             "#f0f921"
            ]
           ],
           "sequentialminus": [
            [
             0,
             "#0d0887"
            ],
            [
             0.1111111111111111,
             "#46039f"
            ],
            [
             0.2222222222222222,
             "#7201a8"
            ],
            [
             0.3333333333333333,
             "#9c179e"
            ],
            [
             0.4444444444444444,
             "#bd3786"
            ],
            [
             0.5555555555555556,
             "#d8576b"
            ],
            [
             0.6666666666666666,
             "#ed7953"
            ],
            [
             0.7777777777777778,
             "#fb9f3a"
            ],
            [
             0.8888888888888888,
             "#fdca26"
            ],
            [
             1,
             "#f0f921"
            ]
           ]
          },
          "colorway": [
           "#636efa",
           "#EF553B",
           "#00cc96",
           "#ab63fa",
           "#FFA15A",
           "#19d3f3",
           "#FF6692",
           "#B6E880",
           "#FF97FF",
           "#FECB52"
          ],
          "font": {
           "color": "#2a3f5f"
          },
          "geo": {
           "bgcolor": "white",
           "lakecolor": "white",
           "landcolor": "#E5ECF6",
           "showlakes": true,
           "showland": true,
           "subunitcolor": "white"
          },
          "hoverlabel": {
           "align": "left"
          },
          "hovermode": "closest",
          "mapbox": {
           "style": "light"
          },
          "paper_bgcolor": "white",
          "plot_bgcolor": "#E5ECF6",
          "polar": {
           "angularaxis": {
            "gridcolor": "white",
            "linecolor": "white",
            "ticks": ""
           },
           "bgcolor": "#E5ECF6",
           "radialaxis": {
            "gridcolor": "white",
            "linecolor": "white",
            "ticks": ""
           }
          },
          "scene": {
           "xaxis": {
            "backgroundcolor": "#E5ECF6",
            "gridcolor": "white",
            "gridwidth": 2,
            "linecolor": "white",
            "showbackground": true,
            "ticks": "",
            "zerolinecolor": "white"
           },
           "yaxis": {
            "backgroundcolor": "#E5ECF6",
            "gridcolor": "white",
            "gridwidth": 2,
            "linecolor": "white",
            "showbackground": true,
            "ticks": "",
            "zerolinecolor": "white"
           },
           "zaxis": {
            "backgroundcolor": "#E5ECF6",
            "gridcolor": "white",
            "gridwidth": 2,
            "linecolor": "white",
            "showbackground": true,
            "ticks": "",
            "zerolinecolor": "white"
           }
          },
          "shapedefaults": {
           "line": {
            "color": "#2a3f5f"
           }
          },
          "ternary": {
           "aaxis": {
            "gridcolor": "white",
            "linecolor": "white",
            "ticks": ""
           },
           "baxis": {
            "gridcolor": "white",
            "linecolor": "white",
            "ticks": ""
           },
           "bgcolor": "#E5ECF6",
           "caxis": {
            "gridcolor": "white",
            "linecolor": "white",
            "ticks": ""
           }
          },
          "title": {
           "x": 0.05
          },
          "xaxis": {
           "automargin": true,
           "gridcolor": "white",
           "linecolor": "white",
           "ticks": "",
           "title": {
            "standoff": 15
           },
           "zerolinecolor": "white",
           "zerolinewidth": 2
          },
          "yaxis": {
           "automargin": true,
           "gridcolor": "white",
           "linecolor": "white",
           "ticks": "",
           "title": {
            "standoff": 15
           },
           "zerolinecolor": "white",
           "zerolinewidth": 2
          }
         }
        }
       }
      },
      "text/html": [
       "<div>\n",
       "        \n",
       "        \n",
       "            <div id=\"05b7e9e4-9320-43ad-b592-6f04f90de895\" class=\"plotly-graph-div\" style=\"height:525px; width:100%;\"></div>\n",
       "            <script type=\"text/javascript\">\n",
       "                require([\"plotly\"], function(Plotly) {\n",
       "                    window.PLOTLYENV=window.PLOTLYENV || {};\n",
       "                    \n",
       "                if (document.getElementById(\"05b7e9e4-9320-43ad-b592-6f04f90de895\")) {\n",
       "                    Plotly.newPlot(\n",
       "                        '05b7e9e4-9320-43ad-b592-6f04f90de895',\n",
       "                        [{\"type\": \"scatter\", \"x\": [0.0, 5.832696842844598e-06, 6.415967072825879e-05, 0.0006474293768405914, 0.006480126641690731, 0.06480709463357925, 0.10000000149011612, 0.1407729536294937, 0.20000000298023224, 0.2414941042661667, 0.30000001192092896, 0.3429638147354126, 0.4000000059604645, 0.43525227904319763, 0.5, 0.5288915634155273, 0.5879140496253967, 0.6000000238418579, 0.645312488079071, 0.699999988079071, 0.733201801776886, 0.800000011920929, 0.8287716507911682, 0.8758707046508789, 0.8999999761581421, 0.9012658596038818, 0.9139242768287659, 0.9696416258811951, 1.0, 1.0128259658813477, 1.0664007663726807, 1.100000023841858, 1.114375352859497, 1.172650933265686, 1.2000000476837158, 1.232314109802246, 1.2999999523162842, 1.330370306968689, 1.399999976158142, 1.431148886680603, 1.5, 1.5312598943710327, 1.600000023841858, 1.6281660795211792, 1.7000000476837158, 1.7021710872650146, 1.7238821983337402, 1.7999999523162842, 1.8313853740692139, 1.899999976158142, 1.9360471963882446, 2.0, 2.0449564456939697, 2.0999999046325684, 2.1365718841552734, 2.200000047683716, 2.233123540878296, 2.299999952316284, 2.328620195388794, 2.4000000953674316, 2.4140737056732178, 2.496062994003296, 2.5, 2.5190980434417725, 2.591059446334839, 2.5999999046325684, 2.637538194656372, 2.700000047683716, 2.7498040199279785, 2.799999952316284, 2.835522174835205, 2.9000000953674316, 2.9301271438598633, 3.0, 3.029097080230713, 3.0999999046325684, 3.1281118392944336, 3.200000047683716, 3.230447769165039, 3.299999952316284, 3.337449550628662, 3.4000000953674316, 3.4345462322235107, 3.5, 3.532360076904297, 3.5999999046325684, 3.6404330730438232, 3.700000047683716, 3.7278943061828613, 3.799999952316284, 3.832331657409668, 3.9000000953674316, 3.938014507293701, 4.0, 4.028131484985352, 4.099999904632568, 4.1096696853637695, 4.175280570983887, 4.199999809265137, 4.202972888946533, 4.232701778411865, 4.300000190734863, 4.319142818450928, 4.39393424987793, 4.400000095367432, 4.430713653564453, 4.5, 4.53525447845459, 4.599999904632568, 4.640427589416504, 4.699999809265137, 4.757209777832031, 4.800000190734863, 4.841816425323486, 4.900000095367432], \"y\": [3.34159255027771, 3.34159255027771, 3.341592311859131, 3.3415749073028564, 3.3398444652557373, 3.17952561378479, 2.9854507446289062, 2.7592458724975586, 2.468053102493286, 2.260395050048828, 1.8916515111923218, 1.4994540214538574, 0.8188890814781189, 0.4972766637802124, 0.08358164131641388, -0.09524354338645935, -0.5297724008560181, -0.6234322190284729, -1.0017449855804443, -1.3870353698730469, -1.506108045578003, -1.6252546310424805, -1.64944589138031, -1.63707435131073, -1.6317213773727417, -1.631720781326294, -1.62697434425354, -1.5483500957489014, -1.508852481842041, -1.494185447692871, -1.3831058740615845, -1.3227241039276123, -1.3103406429290771, -1.3008393049240112, -1.2847832441329956, -1.254360318183899, -1.1588906049728394, -1.103309988975525, -0.9468740224838257, -0.8567888140678406, -0.6457950472831726, -0.5364180207252502, -0.29790136218070984, -0.19088862836360931, 0.07616084814071655, 0.08561139553785324, 0.18764463067054749, 0.599300742149353, 0.7782784700393677, 1.1834731101989746, 1.3696730136871338, 1.6686370372772217, 1.8738163709640503, 2.110689401626587, 2.2615857124328613, 2.5100181102752686, 2.6330456733703613, 2.8721346855163574, 2.9693398475646973, 3.210965394973755, 3.254574775695801, 3.525742292404175, 3.5371806621551514, 3.594675064086914, 3.8272135257720947, 3.8541066646575928, 3.9702847003936768, 4.177424430847168, 4.354048728942871, 4.553619384765625, 4.7043962478637695, 5.007716655731201, 5.1591691970825195, 5.523930549621582, 5.687287330627441, 6.082095623016357, 6.260402202606201, 6.750859260559082, 6.964329719543457, 7.459378242492676, 7.716536998748779, 8.130354881286621, 8.348711013793945, 8.744731903076172, 8.930301666259766, 9.305682182312012, 9.513030052185059, 9.810359001159668, 9.94601821899414, 10.303142547607422, 10.46877384185791, 10.836606979370117, 11.069345474243164, 11.473491668701172, 11.66826343536377, 12.192667007446289, 12.26240348815918, 12.763225555419922, 12.942569732666016, 12.963334083557129, 13.178446769714355, 13.649033546447754, 13.770272254943848, 14.231164932250977, 14.264222145080566, 14.43313217163086, 14.800735473632812, 14.975183486938477, 15.288668632507324, 15.471137046813965, 15.722308158874512, 15.908788681030273, 16.001657485961914, 16.01643943786621, 15.89501667022705]}, {\"type\": \"scatter\", \"x\": [0.0, 5.832696842844598e-06, 6.415967072825879e-05, 0.0006474293768405914, 0.006480126641690731, 0.06480709463357925, 0.10000000149011612, 0.1407729536294937, 0.20000000298023224, 0.2414941042661667, 0.30000001192092896, 0.3429638147354126, 0.4000000059604645, 0.43525227904319763, 0.5, 0.5288915634155273, 0.5879140496253967, 0.6000000238418579, 0.645312488079071, 0.699999988079071, 0.733201801776886, 0.800000011920929, 0.8287716507911682, 0.8758707046508789, 0.8999999761581421, 0.9012658596038818, 0.9139242768287659, 0.9696416258811951, 1.0, 1.0128259658813477, 1.0664007663726807, 1.100000023841858, 1.114375352859497, 1.172650933265686, 1.2000000476837158, 1.232314109802246, 1.2999999523162842, 1.330370306968689, 1.399999976158142, 1.431148886680603, 1.5, 1.5312598943710327, 1.600000023841858, 1.6281660795211792, 1.7000000476837158, 1.7021710872650146, 1.7238821983337402, 1.7999999523162842, 1.8313853740692139, 1.899999976158142, 1.9360471963882446, 2.0, 2.0449564456939697, 2.0999999046325684, 2.1365718841552734, 2.200000047683716, 2.233123540878296, 2.299999952316284, 2.328620195388794, 2.4000000953674316, 2.4140737056732178, 2.496062994003296, 2.5, 2.5190980434417725, 2.591059446334839, 2.5999999046325684, 2.637538194656372, 2.700000047683716, 2.7498040199279785, 2.799999952316284, 2.835522174835205, 2.9000000953674316, 2.9301271438598633, 3.0, 3.029097080230713, 3.0999999046325684, 3.1281118392944336, 3.200000047683716, 3.230447769165039, 3.299999952316284, 3.337449550628662, 3.4000000953674316, 3.4345462322235107, 3.5, 3.532360076904297, 3.5999999046325684, 3.6404330730438232, 3.700000047683716, 3.7278943061828613, 3.799999952316284, 3.832331657409668, 3.9000000953674316, 3.938014507293701, 4.0, 4.028131484985352, 4.099999904632568, 4.1096696853637695, 4.175280570983887, 4.199999809265137, 4.202972888946533, 4.232701778411865, 4.300000190734863, 4.319142818450928, 4.39393424987793, 4.400000095367432, 4.430713653564453, 4.5, 4.53525447845459, 4.599999904632568, 4.640427589416504, 4.699999809265137, 4.757209777832031, 4.800000190734863, 4.841816425323486, 4.900000095367432], \"y\": [-0.10000000149011612, -0.09999999403953552, -0.09999953955411911, -0.09995263814926147, -0.0952889546751976, 0.33730804920196533, 0.8693806529045105, 1.5236116647720337, 2.492007255554199, 3.3008668422698975, 4.561219215393066, 5.639233589172363, 7.395570755004883, 8.259079933166504, 9.422616958618164, 9.936129570007324, 11.12490463256836, 11.365461349487305, 12.320718765258789, 13.296662330627441, 13.605952262878418, 13.950133323669434, 14.043753623962402, 14.071808815002441, 14.10226058959961, 14.104954719543457, 14.119178771972656, 14.036635398864746, 14.018778800964355, 14.021133422851562, 13.906618118286133, 13.878012657165527, 13.909266471862793, 14.20146656036377, 14.336289405822754, 14.488064765930176, 14.815979957580566, 14.972256660461426, 15.366875648498535, 15.518157958984375, 15.874908447265625, 15.996352195739746, 16.262046813964844, 16.331295013427734, 16.504907608032227, 16.50490951538086, 16.480018615722656, 16.239944458007812, 16.118215560913086, 15.793988227844238, 15.706395149230957, 15.614391326904297, 15.519145965576172, 15.402578353881836, 15.318648338317871, 15.170604705810547, 15.097591400146484, 14.951234817504883, 14.899680137634277, 14.764298439025879, 14.752416610717773, 14.641009330749512, 14.642091751098633, 14.643402099609375, 14.634533882141113, 14.645395278930664, 14.698619842529297, 14.813858032226562, 14.94749641418457, 15.089357376098633, 15.208005905151367, 15.426396369934082, 15.533759117126465, 15.80873966217041, 15.895773887634277, 16.120960235595703, 16.12476921081543, 16.023666381835938, 15.961421012878418, 15.770246505737305, 15.67648983001709, 15.516983985900879, 15.431408882141113, 15.265447616577148, 15.194388389587402, 15.046971321105957, 15.009780883789062, 14.996973037719727, 15.01799488067627, 15.124245643615723, 15.195408821105957, 15.373025894165039, 15.430269241333008, 15.497467994689941, 15.508133888244629, 15.46754264831543, 15.467855453491211, 15.3499116897583, 15.328099250793457, 15.328106880187988, 15.291741371154785, 15.193489074707031, 15.195487022399902, 15.176302909851074, 15.186631202697754, 15.22801399230957, 15.337538719177246, 15.434693336486816, 15.63222885131836, 15.800687789916992, 16.082469940185547, 16.464139938354492, 16.80802345275879, 17.277385711669922, 18.147865295410156]}, {\"type\": \"scatter\", \"x\": [0.0, 5.832696842844598e-06, 6.415967072825879e-05, 0.0006474293768405914, 0.006480126641690731, 0.06480709463357925, 0.10000000149011612, 0.1407729536294937, 0.20000000298023224, 0.2414941042661667, 0.30000001192092896, 0.3429638147354126, 0.4000000059604645, 0.43525227904319763, 0.5, 0.5288915634155273, 0.5879140496253967, 0.6000000238418579, 0.645312488079071, 0.699999988079071, 0.733201801776886, 0.800000011920929, 0.8287716507911682, 0.8758707046508789, 0.8999999761581421, 0.9012658596038818, 0.9139242768287659, 0.9696416258811951, 1.0, 1.0128259658813477, 1.0664007663726807, 1.100000023841858, 1.114375352859497, 1.172650933265686, 1.2000000476837158, 1.232314109802246, 1.2999999523162842, 1.330370306968689, 1.399999976158142, 1.431148886680603, 1.5, 1.5312598943710327, 1.600000023841858, 1.6281660795211792, 1.7000000476837158, 1.7021710872650146, 1.7238821983337402, 1.7999999523162842, 1.8313853740692139, 1.899999976158142, 1.9360471963882446, 2.0, 2.0449564456939697, 2.0999999046325684, 2.1365718841552734, 2.200000047683716, 2.233123540878296, 2.299999952316284, 2.328620195388794, 2.4000000953674316, 2.4140737056732178, 2.496062994003296, 2.5, 2.5190980434417725, 2.591059446334839, 2.5999999046325684, 2.637538194656372, 2.700000047683716, 2.7498040199279785, 2.799999952316284, 2.835522174835205, 2.9000000953674316, 2.9301271438598633, 3.0, 3.029097080230713, 3.0999999046325684, 3.1281118392944336, 3.200000047683716, 3.230447769165039, 3.299999952316284, 3.337449550628662, 3.4000000953674316, 3.4345462322235107, 3.5, 3.532360076904297, 3.5999999046325684, 3.6404330730438232, 3.700000047683716, 3.7278943061828613, 3.799999952316284, 3.832331657409668, 3.9000000953674316, 3.938014507293701, 4.0, 4.028131484985352, 4.099999904632568, 4.1096696853637695, 4.175280570983887, 4.199999809265137, 4.202972888946533, 4.232701778411865, 4.300000190734863, 4.319142818450928, 4.39393424987793, 4.400000095367432, 4.430713653564453, 4.5, 4.53525447845459, 4.599999904632568, 4.640427589416504, 4.699999809265137, 4.757209777832031, 4.800000190734863, 4.841816425323486, 4.900000095367432], \"y\": [0.0, -0.0004894789308309555, -0.0053836810402572155, -0.05426708608865738, -0.5373733043670654, -4.725356101989746, -6.0857014656066895, -5.1544318199157715, -4.816659450531006, -5.294820785522461, -7.317199230194092, -11.059465408325195, -11.062487602233887, -7.628025054931641, -5.793809413909912, -6.59269380569458, -7.823207855224609, -7.627604961395264, -8.582423210144043, -4.84427547454834, -2.586930513381958, -1.623546838760376, -0.2069995254278183, 0.4006505608558655, -0.03691435232758522, 0.03739882633090019, 0.6839583516120911, 1.627024531364441, 0.819631814956665, 1.438531517982483, 2.221810817718506, 1.174194097518921, 0.5837628245353699, 0.2552657723426819, 0.9904301166534424, 0.968147337436676, 2.0441408157348633, 1.7413479089736938, 3.1078407764434814, 2.7718095779418945, 3.7299249172210693, 3.331962823867798, 4.0326008796691895, 3.6166117191314697, 4.318160533905029, 4.387302398681641, 4.980637073516846, 5.385147571563721, 5.940979957580566, 5.496920108795166, 4.888243675231934, 4.642519474029541, 4.467277526855469, 4.1165385246276855, 4.1036176681518555, 3.637779951095581, 3.74984073638916, 3.2358150482177734, 3.5096118450164795, 2.972050428390503, 3.210597276687622, 2.9447920322418213, 2.865111827850342, 3.1337764263153076, 3.0623691082000732, 2.950652599334717, 3.213486433029175, 3.373093605041504, 3.7428572177886963, 4.220282077789307, 4.327391624450684, 5.192723751068115, 4.938042640686035, 5.82704496383667, 5.457306861877441, 6.0920209884643555, 6.5644426345825195, 6.835433483123779, 7.1445417404174805, 6.858318328857422, 6.8358259201049805, 6.297937870025635, 6.301944732666016, 5.666708469390869, 5.7594828605651855, 5.173489093780518, 5.077879905700684, 4.901914119720459, 4.8440704345703125, 5.15919303894043, 5.137914657592773, 5.875952243804932, 6.330654621124268, 6.620382308959961, 7.168764591217041, 7.082321643829346, 7.3312249183654785, 7.508688449859619, 6.950677871704102, 7.017244338989258, 7.359068870544434, 6.2227783203125, 6.411026954650879, 5.5302300453186035, 5.367948532104492, 5.5650529861450195, 4.806196689605713, 5.021322250366211, 4.46925687789917, 4.492616653442383, 3.7701809406280518, 2.681002140045166, 1.6363379955291748, -0.8923023343086243, -2.6221251487731934]}, {\"type\": \"scatter\", \"x\": [0.0, 5.832696842844598e-06, 6.415967072825879e-05, 0.0006474293768405914, 0.006480126641690731, 0.06480709463357925, 0.10000000149011612, 0.1407729536294937, 0.20000000298023224, 0.2414941042661667, 0.30000001192092896, 0.3429638147354126, 0.4000000059604645, 0.43525227904319763, 0.5, 0.5288915634155273, 0.5879140496253967, 0.6000000238418579, 0.645312488079071, 0.699999988079071, 0.733201801776886, 0.800000011920929, 0.8287716507911682, 0.8758707046508789, 0.8999999761581421, 0.9012658596038818, 0.9139242768287659, 0.9696416258811951, 1.0, 1.0128259658813477, 1.0664007663726807, 1.100000023841858, 1.114375352859497, 1.172650933265686, 1.2000000476837158, 1.232314109802246, 1.2999999523162842, 1.330370306968689, 1.399999976158142, 1.431148886680603, 1.5, 1.5312598943710327, 1.600000023841858, 1.6281660795211792, 1.7000000476837158, 1.7021710872650146, 1.7238821983337402, 1.7999999523162842, 1.8313853740692139, 1.899999976158142, 1.9360471963882446, 2.0, 2.0449564456939697, 2.0999999046325684, 2.1365718841552734, 2.200000047683716, 2.233123540878296, 2.299999952316284, 2.328620195388794, 2.4000000953674316, 2.4140737056732178, 2.496062994003296, 2.5, 2.5190980434417725, 2.591059446334839, 2.5999999046325684, 2.637538194656372, 2.700000047683716, 2.7498040199279785, 2.799999952316284, 2.835522174835205, 2.9000000953674316, 2.9301271438598633, 3.0, 3.029097080230713, 3.0999999046325684, 3.1281118392944336, 3.200000047683716, 3.230447769165039, 3.299999952316284, 3.337449550628662, 3.4000000953674316, 3.4345462322235107, 3.5, 3.532360076904297, 3.5999999046325684, 3.6404330730438232, 3.700000047683716, 3.7278943061828613, 3.799999952316284, 3.832331657409668, 3.9000000953674316, 3.938014507293701, 4.0, 4.028131484985352, 4.099999904632568, 4.1096696853637695, 4.175280570983887, 4.199999809265137, 4.202972888946533, 4.232701778411865, 4.300000190734863, 4.319142818450928, 4.39393424987793, 4.400000095367432, 4.430713653564453, 4.5, 4.53525447845459, 4.599999904632568, 4.640427589416504, 4.699999809265137, 4.757209777832031, 4.800000190734863, 4.841816425323486, 4.900000095367432], \"y\": [0.0, 0.0013191153993830085, 0.014508702792227268, 0.1462482362985611, 1.4483013153076172, 12.797208786010742, 16.970096588134766, 15.60002613067627, 17.820812225341797, 20.766687393188477, 21.6727237701416, 28.928695678710938, 29.066316604614258, 20.982084274291992, 16.406105041503906, 18.940677642822266, 20.289915084838867, 19.40621566772461, 21.58144760131836, 12.447980880737305, 6.850553035736084, 5.291980743408203, 1.6266990900039673, 0.5419977307319641, 2.2289891242980957, 2.0289571285247803, 0.2991742789745331, -1.7521494626998901, 1.0435740947723389, -0.5956620573997498, -2.271451950073242, 1.1576132774353027, 3.0999789237976074, 5.540428638458252, 4.072681427001953, 5.121772766113281, 3.851405382156372, 6.07595157623291, 3.6017873287200928, 5.744483947753906, 2.894683599472046, 4.566432476043701, 1.60756254196167, 3.0709657669067383, 0.11986418068408966, -0.11623129993677139, -2.0453081130981445, -2.730504035949707, -4.741420745849609, -3.442033052444458, -1.6555168628692627, -1.9606623649597168, -2.205501079559326, -1.9219070672988892, -2.537795305252075, -1.7265723943710327, -2.5241525173187256, -1.180303692817688, -2.255201816558838, -0.4455777704715729, -1.1961203813552856, 0.12045253068208694, 0.4335154891014099, -0.22813154757022858, 0.9480336308479309, 1.496034026145935, 1.4308751821517944, 2.496213436126709, 2.810150623321533, 2.791405439376831, 3.6933095455169678, 2.495753049850464, 4.337029933929443, 2.0180273056030273, 3.6962835788726807, 1.0402110815048218, -0.6347348093986511, -1.3355813026428223, -2.5990729331970215, -2.136108160018921, -2.7390193939208984, -1.9946645498275757, -2.8003885746002197, -1.6865367889404297, -2.5402822494506836, -1.072081446647644, -0.7136512994766235, 0.398215115070343, 1.0655781030654907, 1.6002589464187622, 2.6478474140167236, 1.9767694473266602, 1.1527595520019531, 1.3350322246551514, -0.3808521330356598, 0.5189961194992065, -0.42145365476608276, -1.6968096494674683, 0.14818018674850464, -0.1401854306459427, -1.9969192743301392, 0.6848264932632446, -0.37186017632484436, 1.4282946586608887, 1.9874231815338135, 0.9290210604667664, 3.322817087173462, 2.428597927093506, 4.459043502807617, 4.084804058074951, 5.842365264892578, 7.470766544342041, 8.590575218200684, 13.478998184204102, 14.955564498901367]}],\n",
       "                        {\"template\": {\"data\": {\"bar\": [{\"error_x\": {\"color\": \"#2a3f5f\"}, \"error_y\": {\"color\": \"#2a3f5f\"}, \"marker\": {\"line\": {\"color\": \"#E5ECF6\", \"width\": 0.5}}, \"type\": \"bar\"}], \"barpolar\": [{\"marker\": {\"line\": {\"color\": \"#E5ECF6\", \"width\": 0.5}}, \"type\": \"barpolar\"}], \"carpet\": [{\"aaxis\": {\"endlinecolor\": \"#2a3f5f\", \"gridcolor\": \"white\", \"linecolor\": \"white\", \"minorgridcolor\": \"white\", \"startlinecolor\": \"#2a3f5f\"}, \"baxis\": {\"endlinecolor\": \"#2a3f5f\", \"gridcolor\": \"white\", \"linecolor\": \"white\", \"minorgridcolor\": \"white\", \"startlinecolor\": \"#2a3f5f\"}, \"type\": \"carpet\"}], \"choropleth\": [{\"colorbar\": {\"outlinewidth\": 0, \"ticks\": \"\"}, \"type\": \"choropleth\"}], \"contour\": [{\"colorbar\": {\"outlinewidth\": 0, \"ticks\": \"\"}, \"colorscale\": [[0.0, \"#0d0887\"], [0.1111111111111111, \"#46039f\"], [0.2222222222222222, \"#7201a8\"], [0.3333333333333333, \"#9c179e\"], [0.4444444444444444, \"#bd3786\"], [0.5555555555555556, \"#d8576b\"], [0.6666666666666666, \"#ed7953\"], [0.7777777777777778, \"#fb9f3a\"], [0.8888888888888888, \"#fdca26\"], [1.0, \"#f0f921\"]], \"type\": \"contour\"}], \"contourcarpet\": [{\"colorbar\": {\"outlinewidth\": 0, \"ticks\": \"\"}, \"type\": \"contourcarpet\"}], \"heatmap\": [{\"colorbar\": {\"outlinewidth\": 0, \"ticks\": \"\"}, \"colorscale\": [[0.0, \"#0d0887\"], [0.1111111111111111, \"#46039f\"], [0.2222222222222222, \"#7201a8\"], [0.3333333333333333, \"#9c179e\"], [0.4444444444444444, \"#bd3786\"], [0.5555555555555556, \"#d8576b\"], [0.6666666666666666, \"#ed7953\"], [0.7777777777777778, \"#fb9f3a\"], [0.8888888888888888, \"#fdca26\"], [1.0, \"#f0f921\"]], \"type\": \"heatmap\"}], \"heatmapgl\": [{\"colorbar\": {\"outlinewidth\": 0, \"ticks\": \"\"}, \"colorscale\": [[0.0, \"#0d0887\"], [0.1111111111111111, \"#46039f\"], [0.2222222222222222, \"#7201a8\"], [0.3333333333333333, \"#9c179e\"], [0.4444444444444444, \"#bd3786\"], [0.5555555555555556, \"#d8576b\"], [0.6666666666666666, \"#ed7953\"], [0.7777777777777778, \"#fb9f3a\"], [0.8888888888888888, \"#fdca26\"], [1.0, \"#f0f921\"]], \"type\": \"heatmapgl\"}], \"histogram\": [{\"marker\": {\"colorbar\": {\"outlinewidth\": 0, \"ticks\": \"\"}}, \"type\": \"histogram\"}], \"histogram2d\": [{\"colorbar\": {\"outlinewidth\": 0, \"ticks\": \"\"}, \"colorscale\": [[0.0, \"#0d0887\"], [0.1111111111111111, \"#46039f\"], [0.2222222222222222, \"#7201a8\"], [0.3333333333333333, \"#9c179e\"], [0.4444444444444444, \"#bd3786\"], [0.5555555555555556, \"#d8576b\"], [0.6666666666666666, \"#ed7953\"], [0.7777777777777778, \"#fb9f3a\"], [0.8888888888888888, \"#fdca26\"], [1.0, \"#f0f921\"]], \"type\": \"histogram2d\"}], \"histogram2dcontour\": [{\"colorbar\": {\"outlinewidth\": 0, \"ticks\": \"\"}, \"colorscale\": [[0.0, \"#0d0887\"], [0.1111111111111111, \"#46039f\"], [0.2222222222222222, \"#7201a8\"], [0.3333333333333333, \"#9c179e\"], [0.4444444444444444, \"#bd3786\"], [0.5555555555555556, \"#d8576b\"], [0.6666666666666666, \"#ed7953\"], [0.7777777777777778, \"#fb9f3a\"], [0.8888888888888888, \"#fdca26\"], [1.0, \"#f0f921\"]], \"type\": \"histogram2dcontour\"}], \"mesh3d\": [{\"colorbar\": {\"outlinewidth\": 0, \"ticks\": \"\"}, \"type\": \"mesh3d\"}], \"parcoords\": [{\"line\": {\"colorbar\": {\"outlinewidth\": 0, \"ticks\": \"\"}}, \"type\": \"parcoords\"}], \"pie\": [{\"automargin\": true, \"type\": \"pie\"}], \"scatter\": [{\"marker\": {\"colorbar\": {\"outlinewidth\": 0, \"ticks\": \"\"}}, \"type\": \"scatter\"}], \"scatter3d\": [{\"line\": {\"colorbar\": {\"outlinewidth\": 0, \"ticks\": \"\"}}, \"marker\": {\"colorbar\": {\"outlinewidth\": 0, \"ticks\": \"\"}}, \"type\": \"scatter3d\"}], \"scattercarpet\": [{\"marker\": {\"colorbar\": {\"outlinewidth\": 0, \"ticks\": \"\"}}, \"type\": \"scattercarpet\"}], \"scattergeo\": [{\"marker\": {\"colorbar\": {\"outlinewidth\": 0, \"ticks\": \"\"}}, \"type\": \"scattergeo\"}], \"scattergl\": [{\"marker\": {\"colorbar\": {\"outlinewidth\": 0, \"ticks\": \"\"}}, \"type\": \"scattergl\"}], \"scattermapbox\": [{\"marker\": {\"colorbar\": {\"outlinewidth\": 0, \"ticks\": \"\"}}, \"type\": \"scattermapbox\"}], \"scatterpolar\": [{\"marker\": {\"colorbar\": {\"outlinewidth\": 0, \"ticks\": \"\"}}, \"type\": \"scatterpolar\"}], \"scatterpolargl\": [{\"marker\": {\"colorbar\": {\"outlinewidth\": 0, \"ticks\": \"\"}}, \"type\": \"scatterpolargl\"}], \"scatterternary\": [{\"marker\": {\"colorbar\": {\"outlinewidth\": 0, \"ticks\": \"\"}}, \"type\": \"scatterternary\"}], \"surface\": [{\"colorbar\": {\"outlinewidth\": 0, \"ticks\": \"\"}, \"colorscale\": [[0.0, \"#0d0887\"], [0.1111111111111111, \"#46039f\"], [0.2222222222222222, \"#7201a8\"], [0.3333333333333333, \"#9c179e\"], [0.4444444444444444, \"#bd3786\"], [0.5555555555555556, \"#d8576b\"], [0.6666666666666666, \"#ed7953\"], [0.7777777777777778, \"#fb9f3a\"], [0.8888888888888888, \"#fdca26\"], [1.0, \"#f0f921\"]], \"type\": \"surface\"}], \"table\": [{\"cells\": {\"fill\": {\"color\": \"#EBF0F8\"}, \"line\": {\"color\": \"white\"}}, \"header\": {\"fill\": {\"color\": \"#C8D4E3\"}, \"line\": {\"color\": \"white\"}}, \"type\": \"table\"}]}, \"layout\": {\"annotationdefaults\": {\"arrowcolor\": \"#2a3f5f\", \"arrowhead\": 0, \"arrowwidth\": 1}, \"coloraxis\": {\"colorbar\": {\"outlinewidth\": 0, \"ticks\": \"\"}}, \"colorscale\": {\"diverging\": [[0, \"#8e0152\"], [0.1, \"#c51b7d\"], [0.2, \"#de77ae\"], [0.3, \"#f1b6da\"], [0.4, \"#fde0ef\"], [0.5, \"#f7f7f7\"], [0.6, \"#e6f5d0\"], [0.7, \"#b8e186\"], [0.8, \"#7fbc41\"], [0.9, \"#4d9221\"], [1, \"#276419\"]], \"sequential\": [[0.0, \"#0d0887\"], [0.1111111111111111, \"#46039f\"], [0.2222222222222222, \"#7201a8\"], [0.3333333333333333, \"#9c179e\"], [0.4444444444444444, \"#bd3786\"], [0.5555555555555556, \"#d8576b\"], [0.6666666666666666, \"#ed7953\"], [0.7777777777777778, \"#fb9f3a\"], [0.8888888888888888, \"#fdca26\"], [1.0, \"#f0f921\"]], \"sequentialminus\": [[0.0, \"#0d0887\"], [0.1111111111111111, \"#46039f\"], [0.2222222222222222, \"#7201a8\"], [0.3333333333333333, \"#9c179e\"], [0.4444444444444444, \"#bd3786\"], [0.5555555555555556, \"#d8576b\"], [0.6666666666666666, \"#ed7953\"], [0.7777777777777778, \"#fb9f3a\"], [0.8888888888888888, \"#fdca26\"], [1.0, \"#f0f921\"]]}, \"colorway\": [\"#636efa\", \"#EF553B\", \"#00cc96\", \"#ab63fa\", \"#FFA15A\", \"#19d3f3\", \"#FF6692\", \"#B6E880\", \"#FF97FF\", \"#FECB52\"], \"font\": {\"color\": \"#2a3f5f\"}, \"geo\": {\"bgcolor\": \"white\", \"lakecolor\": \"white\", \"landcolor\": \"#E5ECF6\", \"showlakes\": true, \"showland\": true, \"subunitcolor\": \"white\"}, \"hoverlabel\": {\"align\": \"left\"}, \"hovermode\": \"closest\", \"mapbox\": {\"style\": \"light\"}, \"paper_bgcolor\": \"white\", \"plot_bgcolor\": \"#E5ECF6\", \"polar\": {\"angularaxis\": {\"gridcolor\": \"white\", \"linecolor\": \"white\", \"ticks\": \"\"}, \"bgcolor\": \"#E5ECF6\", \"radialaxis\": {\"gridcolor\": \"white\", \"linecolor\": \"white\", \"ticks\": \"\"}}, \"scene\": {\"xaxis\": {\"backgroundcolor\": \"#E5ECF6\", \"gridcolor\": \"white\", \"gridwidth\": 2, \"linecolor\": \"white\", \"showbackground\": true, \"ticks\": \"\", \"zerolinecolor\": \"white\"}, \"yaxis\": {\"backgroundcolor\": \"#E5ECF6\", \"gridcolor\": \"white\", \"gridwidth\": 2, \"linecolor\": \"white\", \"showbackground\": true, \"ticks\": \"\", \"zerolinecolor\": \"white\"}, \"zaxis\": {\"backgroundcolor\": \"#E5ECF6\", \"gridcolor\": \"white\", \"gridwidth\": 2, \"linecolor\": \"white\", \"showbackground\": true, \"ticks\": \"\", \"zerolinecolor\": \"white\"}}, \"shapedefaults\": {\"line\": {\"color\": \"#2a3f5f\"}}, \"ternary\": {\"aaxis\": {\"gridcolor\": \"white\", \"linecolor\": \"white\", \"ticks\": \"\"}, \"baxis\": {\"gridcolor\": \"white\", \"linecolor\": \"white\", \"ticks\": \"\"}, \"bgcolor\": \"#E5ECF6\", \"caxis\": {\"gridcolor\": \"white\", \"linecolor\": \"white\", \"ticks\": \"\"}}, \"title\": {\"x\": 0.05}, \"xaxis\": {\"automargin\": true, \"gridcolor\": \"white\", \"linecolor\": \"white\", \"ticks\": \"\", \"title\": {\"standoff\": 15}, \"zerolinecolor\": \"white\", \"zerolinewidth\": 2}, \"yaxis\": {\"automargin\": true, \"gridcolor\": \"white\", \"linecolor\": \"white\", \"ticks\": \"\", \"title\": {\"standoff\": 15}, \"zerolinecolor\": \"white\", \"zerolinewidth\": 2}}}},\n",
       "                        {\"responsive\": true}\n",
       "                    ).then(function(){\n",
       "                            \n",
       "var gd = document.getElementById('05b7e9e4-9320-43ad-b592-6f04f90de895');\n",
       "var x = new MutationObserver(function (mutations, observer) {{\n",
       "        var display = window.getComputedStyle(gd).display;\n",
       "        if (!display || display === 'none') {{\n",
       "            console.log([gd, 'removed!']);\n",
       "            Plotly.purge(gd);\n",
       "            observer.disconnect();\n",
       "        }}\n",
       "}});\n",
       "\n",
       "// Listen for the removal of the full notebook cells\n",
       "var notebookContainer = gd.closest('#notebook-container');\n",
       "if (notebookContainer) {{\n",
       "    x.observe(notebookContainer, {childList: true});\n",
       "}}\n",
       "\n",
       "// Listen for the clearing of the current output cell\n",
       "var outputEl = gd.closest('.output');\n",
       "if (outputEl) {{\n",
       "    x.observe(outputEl, {childList: true});\n",
       "}}\n",
       "\n",
       "                        })\n",
       "                };\n",
       "                });\n",
       "            </script>\n",
       "        </div>"
      ]
     },
     "metadata": {},
     "output_type": "display_data"
    }
   ],
   "source": [
    "# dt_ctrl = .2\n",
    "# num_samples = 1000\n",
    "# u_lo = vf.u_lo[0]\n",
    "# u_up = vf.u_up[0]\n",
    "# x_lo = torch.tensor([np.pi-.5, -5., -10., -10.], dtype=vf.dtype)\n",
    "# x_up = torch.tensor([np.pi+.5, 5., 10., 10.], dtype=vf.dtype)\n",
    "# model = vf_approx.model\n",
    "# model = vf_approx_adv.model\n",
    "# ctrl = controllers.get_sampling_infinite_horizon_controller(sys.dx, vf.step_cost, model,\n",
    "#                                                             x_lo, x_up, u_lo, u_up,\n",
    "#                                                             dt_ctrl, num_samples)\n",
    "\n",
    "# ctrl = controllers.get_limited_lookahead_controller(vf)\n",
    "vf_ctrl, sys_ctrl = acrobot_utils.get_value_function(10)\n",
    "# ctrl = controllers.get_limited_lookahead_controller(vf_ctrl)\n",
    "ctrl = controllers.get_limited_lookahead_controller(vf_ctrl, vf_approx.model)\n",
    "\n",
    "x0 = torch.Tensor([np.pi+.2, -.1, 0., 0.]).double()\n",
    "x_traj_sim, t_traj_sim = controllers.sim_ctrl(x0, 1, sys.dx, ctrl, .1, 50)\n",
    "\n",
    "fig = go.Figure()\n",
    "for i in range(4):\n",
    "    fig.add_trace(go.Scatter(\n",
    "        x=t_traj_sim,\n",
    "        y=x_traj_sim[i,:]\n",
    "    ))\n",
    "fig.show()"
   ]
  },
  {
   "cell_type": "code",
   "execution_count": 50,
   "metadata": {},
   "outputs": [
    {
     "data": {
      "text/plain": [
       "(tensor([18.6873], dtype=torch.float64),\n",
       " tensor([11.0765], dtype=torch.float64),\n",
       " tensor([ 2.9468,  0.6728, -2.4478,  6.7279], dtype=torch.float64))"
      ]
     },
     "execution_count": 50,
     "metadata": {},
     "output_type": "execute_result"
    }
   ],
   "source": [
    "ctrl(x0)"
   ]
  },
  {
   "cell_type": "code",
   "execution_count": 89,
   "metadata": {},
   "outputs": [
    {
     "name": "stdout",
     "output_type": "stream",
     "text": [
      "tensor([[ 6362.2426, -1063.7265, -1383.8910, -2113.2294],\n",
      "        [-1063.7265,   644.7358,   232.9151,   263.1638],\n",
      "        [-1383.8910,   232.9151,   514.0397,   289.0659],\n",
      "        [-2113.2294,   263.1638,   289.0659,   855.4697]], dtype=torch.float64,\n",
      "       grad_fn=<MmBackward>)\n"
     ]
    }
   ],
   "source": [
    "Q = vf_approx.model.sqrtQ.t()@vf_approx.model.sqrtQ\n",
    "print(Q)"
   ]
  },
  {
   "cell_type": "code",
   "execution_count": 82,
   "metadata": {},
   "outputs": [
    {
     "name": "stdout",
     "output_type": "stream",
     "text": [
      "tensor([[ 4.5871, -1.9057, -4.8377, -0.6502],\n",
      "        [-1.9057,  1.3514,  3.5320,  1.1220],\n",
      "        [-4.8377,  3.5320,  9.2420,  3.0026],\n",
      "        [-0.6502,  1.1220,  3.0026,  1.3888]], dtype=torch.float64,\n",
      "       grad_fn=<MmBackward>)\n"
     ]
    }
   ],
   "source": [
    "Q = vf_approx.model.sqrtQ.t()@vf_approx.model.sqrtQ\n",
    "print(Q)"
   ]
  },
  {
   "cell_type": "code",
   "execution_count": null,
   "metadata": {},
   "outputs": [],
   "source": [
    "# controller params\n",
    "dt_ctrl = .1\n",
    "num_samples = 500\n",
    "\n",
    "# benchmark params\n",
    "x0 = torch.Tensor([np.pi, 0., 0., 0.]).type(vf.dtype)\n",
    "x0_eps = torch.Tensor([.1, .1, 0., 0.]).type(vf.dtype)\n",
    "x_goal = torch.Tensor([np.pi, 0., 0., 0.]).type(vf.dtype)\n",
    "num_breaks = [5, 5]\n",
    "dt_sim = .1\n",
    "N = 30"
   ]
  },
  {
   "cell_type": "code",
   "execution_count": null,
   "metadata": {},
   "outputs": [],
   "source": [
    "ctrl_baseline = controllers.get_sampling_infinite_horizon_controller(sys.dx, vf.step_cost, vf_approx.model, vf.u_lo[0], vf.u_up[0], dt_ctrl, num_samples)\n",
    "bench_baseline = controllers.benchmark_controller(vf.u_dim[0], sys.dx, ctrl_baseline, x0, x0_eps, num_breaks, x_goal, dt_sim, N)"
   ]
  },
  {
   "cell_type": "code",
   "execution_count": null,
   "metadata": {},
   "outputs": [],
   "source": [
    "ctrl_adv = controllers.get_sampling_infinite_horizon_controller(sys.dx, vf.step_cost, vf_approx_adv.model, vf.u_lo[0], vf.u_up[0], dt_ctrl, num_samples)\n",
    "bench_adv = controllers.benchmark_controller(vf.u_dim[0], sys.dx, ctrl_adv, x0, x0_eps, num_breaks, x_goal, dt_sim, N)"
   ]
  },
  {
   "cell_type": "code",
   "execution_count": null,
   "metadata": {},
   "outputs": [],
   "source": [
    "Q = torch.diag(torch.Tensor([1., 1., .1, .1]))\n",
    "R = torch.diag(torch.Tensor([.1]))\n",
    "x_nom = torch.Tensor([np.pi, 0., 0., 0.]).type(vf.dtype)\n",
    "u_nom = torch.zeros(vf.u_lo[0].shape[0]).type(vf.dtype)\n",
    "ctrl_lqr, S = controllers.get_lqr_controller(sys.dx, x_nom, u_nom, Q, R, vf.u_lo[0], vf.u_up[0])\n",
    "# bench_lqr = controllers.benchmark_controller(vf.u_dim[0], sys.dx, ctrl_lqr, x0, x0_eps, num_breaks, x_goal, dt_sim, N)\n",
    "print(S)"
   ]
  },
  {
   "cell_type": "code",
   "execution_count": null,
   "metadata": {},
   "outputs": [],
   "source": [
    "conv_thresh = 5.\n",
    "zmin = 0.\n",
    "zmax = 50.\n",
    "\n",
    "print(\"Baseline\")\n",
    "fig = go.Figure()\n",
    "fig.add_trace(go.Heatmap(\n",
    "    z = bench_baseline.detach().numpy(),\n",
    "    zmin = zmin,\n",
    "    zmax = zmax,\n",
    "    ))\n",
    "fig.show()\n",
    "\n",
    "print(\"Adversarial\")\n",
    "fig = go.Figure()\n",
    "fig.add_trace(go.Heatmap(\n",
    "    z = bench_adv.detach().numpy(),\n",
    "    zmin = zmin,\n",
    "    zmax = zmax,\n",
    "    ))\n",
    "fig.show()\n",
    "\n",
    "print(\"LQR\")\n",
    "fig = go.Figure()\n",
    "fig.add_trace(go.Heatmap(\n",
    "    z = bench_lqr.detach().numpy(),\n",
    "    zmin = zmin,\n",
    "    zmax = zmax,\n",
    "    ))\n",
    "fig.show()\n",
    "\n",
    "print(\"Baseline\")\n",
    "fig = go.Figure()\n",
    "fig.add_trace(go.Heatmap(\n",
    "    z = torch.Tensor(bench_baseline.detach().numpy() > conv_thresh).type(vf.dtype),\n",
    "    ))\n",
    "fig.show()\n",
    "\n",
    "print(\"Adversarial\")\n",
    "fig = go.Figure()\n",
    "fig.add_trace(go.Heatmap(\n",
    "    z = torch.Tensor(bench_adv.detach().numpy() > conv_thresh).type(vf.dtype),\n",
    "    ))\n",
    "fig.show()\n",
    "\n",
    "print(\"LQR\")\n",
    "fig = go.Figure()\n",
    "fig.add_trace(go.Heatmap(\n",
    "    z = torch.Tensor(bench_lqr.detach().numpy() > conv_thresh).type(vf.dtype),\n",
    "    ))\n",
    "fig.show()"
   ]
  }
 ],
 "metadata": {
  "kernelspec": {
   "display_name": "Python 3",
   "language": "python",
   "name": "python3"
  },
  "language_info": {
   "codemirror_mode": {
    "name": "ipython",
    "version": 3
   },
   "file_extension": ".py",
   "mimetype": "text/x-python",
   "name": "python",
   "nbconvert_exporter": "python",
   "pygments_lexer": "ipython3",
   "version": "3.7.5"
  }
 },
 "nbformat": 4,
 "nbformat_minor": 2
}
