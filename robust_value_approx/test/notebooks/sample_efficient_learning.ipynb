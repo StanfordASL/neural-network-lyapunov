{
 "cells": [
  {
   "cell_type": "code",
   "execution_count": 1,
   "metadata": {},
   "outputs": [],
   "source": [
    "%load_ext autoreload\n",
    "%autoreload 2"
   ]
  },
  {
   "cell_type": "code",
   "execution_count": 2,
   "metadata": {
    "scrolled": true
   },
   "outputs": [
    {
     "data": {
      "text/html": [
       "        <script type=\"text/javascript\">\n",
       "        window.PlotlyConfig = {MathJaxConfig: 'local'};\n",
       "        if (window.MathJax) {MathJax.Hub.Config({SVG: {font: \"STIX-Web\"}});}\n",
       "        if (typeof require !== 'undefined') {\n",
       "        require.undef(\"plotly\");\n",
       "        requirejs.config({\n",
       "            paths: {\n",
       "                'plotly': ['https://cdn.plot.ly/plotly-latest.min']\n",
       "            }\n",
       "        });\n",
       "        require(['plotly'], function(Plotly) {\n",
       "            window._Plotly = Plotly;\n",
       "        });\n",
       "        }\n",
       "        </script>\n",
       "        "
      ]
     },
     "metadata": {},
     "output_type": "display_data"
    },
    {
     "name": "stderr",
     "output_type": "stream",
     "text": [
      "/Users/blandry/Code/robust-value-approx/robust_value_approx/samples_generator.py:4: _DrakeImportWarning:\n",
      "\n",
      "\n",
      "You may have already (directly or indirectly) imported `torch` which uses\n",
      "`RTLD_GLOBAL`. Using `RTLD_GLOBAL` may cause symbol collisions which manifest\n",
      "themselves in bugs like \"free(): invalid pointer\". Please consider importing\n",
      "`pydrake` (and related C++-wrapped libraries like `cv2`, `open3d`, etc.)\n",
      "*before* importing `torch`. For more details, see:\n",
      "https://github.com/pytorch/pytorch/issues/3059#issuecomment-534676459\n",
      "\n",
      "\n"
     ]
    }
   ],
   "source": [
    "import sys\n",
    "sys.path.append(\"..\")\n",
    "sys.path.append(\".\")\n",
    "import torch\n",
    "import numpy as np\n",
    "import copy\n",
    "import plotly\n",
    "import plotly.graph_objs as go\n",
    "import pickle\n",
    "from datetime import datetime\n",
    "plotly.offline.init_notebook_mode(connected=True)\n",
    "\n",
    "import robust_value_approx.samples_generator as samples_generator\n",
    "import robust_value_approx.samples_buffer as samples_buffer\n",
    "import robust_value_approx.value_approximation as value_approximation\n",
    "import robust_value_approx.training_log as training_log\n",
    "import robust_value_approx.controllers as controllers\n",
    "\n",
    "import pendulum_utils\n",
    "import double_pendulum_utils\n",
    "import acrobot_utils"
   ]
  },
  {
   "cell_type": "code",
   "execution_count": 67,
   "metadata": {},
   "outputs": [],
   "source": [
    "dtype = torch.float64\n",
    "\n",
    "\"\"\"\n",
    "sys_name = 'pendulum'\n",
    "opt = dict(\n",
    "    dtype = dtype,\n",
    "    \n",
    "    sys_name = sys_name,\n",
    "    validation_file = '../data/validation_' + sys_name,\n",
    "    init_file = '../data/init_' + sys_name,\n",
    "    \n",
    "    offline_horizon = 50,\n",
    "    offline_dt = .1,\n",
    "    \n",
    "    online_horizon = 5,\n",
    "    control_interp = \"foh\",\n",
    "\n",
    "    sim_x0 = torch.tensor([np.pi+1.5, 1.], dtype=dtype),\n",
    "    sim_dt = .1,\n",
    "    sim_horizon = 50,\n",
    "    \n",
    "    x_nom = torch.tensor([np.pi, 0.], dtype=dtype),\n",
    "    u_nom = torch.zeros(1, dtype=dtype),\n",
    "\n",
    "    lqr_Q = torch.diag(torch.tensor([1., 1.], dtype=dtype)),\n",
    "    lqr_R = torch.diag(torch.tensor([.1], dtype=dtype)),\n",
    "    \n",
    "    x0_lo = torch.tensor([np.pi-.5, -1.], dtype=dtype),\n",
    "    x0_up = torch.tensor([np.pi+.5, 1.], dtype=dtype),\n",
    "    \n",
    "    batch_size = 20,\n",
    "    \n",
    "    learning_rate_value = 1e-3,\n",
    "    learning_rate_policy = 1e-3,\n",
    "    \n",
    "    nn_width_value = 30,\n",
    "    nn_depth_value = 2,\n",
    "    \n",
    "    nn_width_policy = 30,\n",
    "    nn_depth_policy = 2,\n",
    "\n",
    "    num_samples_validation = [10, 10],\n",
    "    \n",
    "    max_buffer_size = None,\n",
    "\n",
    "    init_num_samples = [10, 10],\n",
    "    init_num_trainig_step = 0,\n",
    "    \n",
    "    num_generations = 20,\n",
    "    num_samples_per_generation = 20,\n",
    "    num_train_step_per_gen = 500,\n",
    "    \n",
    "    adv_max_iter = 5,\n",
    "    adv_conv_tol = 1e-5,\n",
    "    adv_learning_rate = .1,\n",
    "\n",
    "    # benchmark params\n",
    "    bench_x0 = torch.tensor([np.pi, 0.], dtype=dtype),\n",
    "    bench_x_goal = torch.tensor([np.pi, 0.], dtype=dtype),\n",
    "    bench_x0_eps = torch.tensor([2., 3.], dtype=dtype),\n",
    "    bench_num_breaks = [10, 10],\n",
    "    \n",
    "    sys_utils = pendulum_utils,\n",
    ")\n",
    "\"\"\"\n",
    "\n",
    "\"\"\"\n",
    "sys_name = 'double_pendulum'\n",
    "opt = dict(\n",
    "    dtype = dtype,\n",
    "    \n",
    "    sys_name = sys_name,\n",
    "    validation_file = '../data/validation_' + sys_name,\n",
    "    init_file = '../data/init_' + sys_name,\n",
    "    \n",
    "    offline_horizon = 50,\n",
    "    offline_dt = .1,\n",
    "    \n",
    "    online_horizon = 5,\n",
    "    control_interp = \"foh\",\n",
    "\n",
    "    sim_x0 = torch.tensor([np.pi+.5, .5, 1., 1.], dtype=dtype),\n",
    "    sim_dt = .1,\n",
    "    sim_horizon = 50,\n",
    "    \n",
    "    x_nom = torch.tensor([np.pi, 0., 0., 0.], dtype=dtype),\n",
    "    u_nom = torch.zeros(2, dtype=dtype),\n",
    "\n",
    "    lqr_Q = torch.diag(torch.tensor([1., 1., 1., 1.], dtype=dtype)),\n",
    "    lqr_R = torch.diag(torch.tensor([.1, .1], dtype=dtype)),\n",
    "    \n",
    "    x0_lo = torch.tensor([np.pi-.5, -.5, -1., -1.], dtype=dtype),\n",
    "    x0_up = torch.tensor([np.pi+.5, .5, 1., 1.], dtype=dtype),\n",
    "    \n",
    "    batch_size = 30,\n",
    "    \n",
    "    learning_rate_value = 1e-3,\n",
    "    learning_rate_policy = 1e-3,\n",
    "    \n",
    "    nn_width_value = 30,\n",
    "    nn_depth_value = 2,\n",
    "    \n",
    "    nn_width_policy = 30,\n",
    "    nn_depth_policy = 2,\n",
    "\n",
    "    num_samples_validation = [3, 3, 3, 3],\n",
    "    \n",
    "    max_buffer_size = None,\n",
    "\n",
    "    init_num_samples = [3, 3, 3, 3],\n",
    "    init_num_trainig_step = 0,\n",
    "    \n",
    "    num_generations = 10,\n",
    "    num_samples_per_generation = 20,\n",
    "    num_train_step_per_gen = 500,\n",
    "    \n",
    "    adv_max_iter = 5,\n",
    "    adv_conv_tol = 1e-5,\n",
    "    adv_learning_rate = .1,\n",
    "\n",
    "    # benchmark params\n",
    "    bench_x0 = torch.tensor([np.pi, 0., 0., 0.], dtype=dtype),\n",
    "    bench_x_goal = torch.tensor([np.pi, 0., 0., 0.], dtype=dtype),\n",
    "    bench_x0_eps = torch.tensor([2., 2., 5., 5.], dtype=dtype),\n",
    "    bench_num_breaks = [10, 10, 1, 1],\n",
    "    \n",
    "    sys_utils = double_pendulum_utils,\n",
    ")\n",
    "\"\"\"\n",
    "\n",
    "sys_name = 'acrobot'\n",
    "opt = dict(\n",
    "    dtype = dtype,\n",
    "    \n",
    "    sys_name = sys_name,\n",
    "    validation_file = '../data/validation_' + sys_name,\n",
    "    init_file = '../data/init_' + sys_name,\n",
    "    \n",
    "    offline_horizon = 25,\n",
    "    offline_dt = .2,\n",
    "    \n",
    "    online_horizon = 5,\n",
    "    control_interp = \"foh\",\n",
    "\n",
    "    sim_x0 = torch.tensor([np.pi+.1, .5, 0., 0.], dtype=dtype),\n",
    "    sim_dt = .1,\n",
    "    sim_horizon = 50,\n",
    "    \n",
    "    x_nom = torch.tensor([np.pi, 0., 0., 0.], dtype=dtype),\n",
    "    u_nom = torch.zeros(1, dtype=dtype),\n",
    "\n",
    "    lqr_Q = torch.diag(torch.tensor([1., 1., 1., 1.], dtype=dtype)),\n",
    "    lqr_R = torch.diag(torch.tensor([.1], dtype=dtype)),\n",
    "    \n",
    "    x0_lo = torch.tensor([np.pi-.25, -.5, -1., -1.], dtype=dtype),\n",
    "    x0_up = torch.tensor([np.pi+.25, .5, 1., 1.], dtype=dtype),\n",
    "    \n",
    "    batch_size = 30,\n",
    "    \n",
    "    learning_rate_value = 1e-3,\n",
    "    learning_rate_policy = 1e-3,\n",
    "    \n",
    "    nn_width_value = 30,\n",
    "    nn_depth_value = 2,\n",
    "    \n",
    "    nn_width_policy = 100,\n",
    "    nn_depth_policy = 3,\n",
    "\n",
    "    num_samples_validation = [3, 3, 3, 3],\n",
    "    \n",
    "    max_buffer_size = None,\n",
    "\n",
    "    init_num_samples = [3, 3, 3, 3],\n",
    "    init_num_trainig_step = 0,\n",
    "    \n",
    "    num_generations = 10,\n",
    "    num_samples_per_generation = 20,\n",
    "    num_train_step_per_gen = 500,\n",
    "    \n",
    "    adv_max_iter = 5,\n",
    "    adv_conv_tol = 1e-5,\n",
    "    adv_learning_rate = .1,\n",
    "\n",
    "    # benchmark params\n",
    "    bench_x0 = torch.tensor([np.pi, 0., 0., 0.], dtype=dtype),\n",
    "    bench_x_goal = torch.tensor([np.pi, 0., 0., 0.], dtype=dtype),\n",
    "    bench_x0_eps = torch.tensor([2., 2., 5., 5.], dtype=dtype),\n",
    "    bench_num_breaks = [10, 10, 1, 1],\n",
    "    \n",
    "    sys_utils = acrobot_utils,\n",
    ")"
   ]
  },
  {
   "cell_type": "code",
   "execution_count": 5,
   "metadata": {},
   "outputs": [],
   "source": [
    "vf, sys = opt['sys_utils'].get_value_function(opt['offline_horizon'], opt['offline_dt'], dtype=opt['dtype'])"
   ]
  },
  {
   "cell_type": "code",
   "execution_count": 6,
   "metadata": {},
   "outputs": [
    {
     "data": {
      "application/vnd.plotly.v1+json": {
       "config": {
        "plotlyServerURL": "https://plot.ly"
       },
       "data": [
        {
         "name": "theta1",
         "type": "scatter",
         "x": [
          0,
          0.20000000298023224,
          0.4000000059604645,
          0.6000000089406967,
          0.800000011920929,
          1.0000000149011612,
          1.2000000178813934,
          1.4000000208616257,
          1.600000023841858,
          1.8000000268220901,
          2.0000000298023224,
          2.2000000327825546,
          2.400000035762787,
          2.600000038743019,
          2.8000000417232513,
          3.0000000447034836,
          3.200000047683716,
          3.400000050663948,
          3.6000000536441803,
          3.8000000566244125,
          4.000000059604645,
          4.200000062584877,
          4.400000065565109,
          4.6000000685453415,
          4.800000071525574
         ],
         "y": [
          3.3915927410125732,
          3.394465923309326,
          2.835137128829956,
          2.251207113265991,
          2.2831058502197266,
          2.559133768081665,
          2.7836215496063232,
          2.977830410003662,
          3.1460800170898438,
          3.271019458770752,
          3.3277273178100586,
          3.292083978652954,
          3.1766703128814697,
          3.053196668624878,
          2.984145402908325,
          2.969327449798584,
          2.9822733402252197,
          3.004837989807129,
          3.0290820598602295,
          3.0521047115325928,
          3.0732784271240234,
          3.0932068824768066,
          3.1133837699890137,
          3.135986804962158,
          3.1613824367523193
         ]
        },
        {
         "name": "theta2",
         "type": "scatter",
         "x": [
          0,
          0.20000000298023224,
          0.4000000059604645,
          0.6000000089406967,
          0.800000011920929,
          1.0000000149011612,
          1.2000000178813934,
          1.4000000208616257,
          1.600000023841858,
          1.8000000268220901,
          2.0000000298023224,
          2.2000000327825546,
          2.400000035762787,
          2.600000038743019,
          2.8000000417232513,
          3.0000000447034836,
          3.200000047683716,
          3.400000050663948,
          3.6000000536441803,
          3.8000000566244125,
          4.000000059604645,
          4.200000062584877,
          4.400000065565109,
          4.6000000685453415,
          4.800000071525574
         ],
         "y": [
          0.5,
          1.8874115943908691,
          5.06764030456543,
          7.6135101318359375,
          8.012953758239746,
          7.473330974578857,
          6.897032260894775,
          6.3011250495910645,
          5.684063911437988,
          5.060473442077637,
          4.430593013763428,
          3.7902634143829346,
          3.152756690979004,
          2.550276756286621,
          2.0187315940856934,
          1.5796854496002197,
          1.2333648204803467,
          0.9660124778747559,
          0.7614107131958008,
          0.6064913868904114,
          0.4917062819004059,
          0.41023293137550354,
          0.3574288785457611,
          0.33118438720703125,
          0.33928894996643066
         ]
        },
        {
         "name": "theta1_dot",
         "type": "scatter",
         "x": [
          0,
          0.20000000298023224,
          0.4000000059604645,
          0.6000000089406967,
          0.800000011920929,
          1.0000000149011612,
          1.2000000178813934,
          1.4000000208616257,
          1.600000023841858,
          1.8000000268220901,
          2.0000000298023224,
          2.2000000327825546,
          2.400000035762787,
          2.600000038743019,
          2.8000000417232513,
          3.0000000447034836,
          3.200000047683716,
          3.400000050663948,
          3.6000000536441803,
          3.8000000566244125,
          4.000000059604645,
          4.200000062584877,
          4.400000065565109,
          4.6000000685453415,
          4.800000071525574
         ],
         "y": [
          1,
          -0.9712666869163513,
          -4.622021675109863,
          -1.217279076576233,
          1.5362685918807983,
          1.2240084409713745,
          1.0208691358566284,
          0.9212216138839722,
          0.7612729072570801,
          0.4881211519241333,
          0.07895740121603012,
          -0.43538886308670044,
          -0.7187475562095642,
          -0.5159888863563538,
          -0.17452579736709595,
          0.026346784085035324,
          0.10311216861009598,
          0.12253439426422119,
          0.1199064776301384,
          0.11032035946846008,
          0.10141570121049881,
          0.09787048399448395,
          0.1038985326886177,
          0.12213060259819031,
          0.13182483613491058
         ]
        },
        {
         "name": "theta2_dot",
         "type": "scatter",
         "x": [
          0,
          0.20000000298023224,
          0.4000000059604645,
          0.6000000089406967,
          0.800000011920929,
          1.0000000149011612,
          1.2000000178813934,
          1.4000000208616257,
          1.600000023841858,
          1.8000000268220901,
          2.0000000298023224,
          2.2000000327825546,
          2.400000035762787,
          2.600000038743019,
          2.8000000417232513,
          3.0000000447034836,
          3.200000047683716,
          3.400000050663948,
          3.6000000536441803,
          3.8000000566244125,
          4.000000059604645,
          4.200000062584877,
          4.400000065565109,
          4.6000000685453415,
          4.800000071525574
         ],
         "y": [
          1,
          12.874115943908691,
          18.928171157836914,
          6.530528545379639,
          -2.5360937118530273,
          -2.8601319789886475,
          -2.902858257293701,
          -3.056211233139038,
          -3.11440110206604,
          -3.121504068374634,
          -3.177302122116089,
          -3.225992202758789,
          -3.149073362350464,
          -2.8757266998291016,
          -2.439725160598755,
          -1.9507356882095337,
          -1.5124709606170654,
          -1.1610527038574219,
          -0.884964644908905,
          -0.664228618144989,
          -0.48362261056900024,
          -0.3311108648777008,
          -0.19692985713481903,
          -0.06551481783390045,
          0.1465604305267334
         ]
        }
       ],
       "layout": {
        "template": {
         "data": {
          "bar": [
           {
            "error_x": {
             "color": "#2a3f5f"
            },
            "error_y": {
             "color": "#2a3f5f"
            },
            "marker": {
             "line": {
              "color": "#E5ECF6",
              "width": 0.5
             }
            },
            "type": "bar"
           }
          ],
          "barpolar": [
           {
            "marker": {
             "line": {
              "color": "#E5ECF6",
              "width": 0.5
             }
            },
            "type": "barpolar"
           }
          ],
          "carpet": [
           {
            "aaxis": {
             "endlinecolor": "#2a3f5f",
             "gridcolor": "white",
             "linecolor": "white",
             "minorgridcolor": "white",
             "startlinecolor": "#2a3f5f"
            },
            "baxis": {
             "endlinecolor": "#2a3f5f",
             "gridcolor": "white",
             "linecolor": "white",
             "minorgridcolor": "white",
             "startlinecolor": "#2a3f5f"
            },
            "type": "carpet"
           }
          ],
          "choropleth": [
           {
            "colorbar": {
             "outlinewidth": 0,
             "ticks": ""
            },
            "type": "choropleth"
           }
          ],
          "contour": [
           {
            "colorbar": {
             "outlinewidth": 0,
             "ticks": ""
            },
            "colorscale": [
             [
              0,
              "#0d0887"
             ],
             [
              0.1111111111111111,
              "#46039f"
             ],
             [
              0.2222222222222222,
              "#7201a8"
             ],
             [
              0.3333333333333333,
              "#9c179e"
             ],
             [
              0.4444444444444444,
              "#bd3786"
             ],
             [
              0.5555555555555556,
              "#d8576b"
             ],
             [
              0.6666666666666666,
              "#ed7953"
             ],
             [
              0.7777777777777778,
              "#fb9f3a"
             ],
             [
              0.8888888888888888,
              "#fdca26"
             ],
             [
              1,
              "#f0f921"
             ]
            ],
            "type": "contour"
           }
          ],
          "contourcarpet": [
           {
            "colorbar": {
             "outlinewidth": 0,
             "ticks": ""
            },
            "type": "contourcarpet"
           }
          ],
          "heatmap": [
           {
            "colorbar": {
             "outlinewidth": 0,
             "ticks": ""
            },
            "colorscale": [
             [
              0,
              "#0d0887"
             ],
             [
              0.1111111111111111,
              "#46039f"
             ],
             [
              0.2222222222222222,
              "#7201a8"
             ],
             [
              0.3333333333333333,
              "#9c179e"
             ],
             [
              0.4444444444444444,
              "#bd3786"
             ],
             [
              0.5555555555555556,
              "#d8576b"
             ],
             [
              0.6666666666666666,
              "#ed7953"
             ],
             [
              0.7777777777777778,
              "#fb9f3a"
             ],
             [
              0.8888888888888888,
              "#fdca26"
             ],
             [
              1,
              "#f0f921"
             ]
            ],
            "type": "heatmap"
           }
          ],
          "heatmapgl": [
           {
            "colorbar": {
             "outlinewidth": 0,
             "ticks": ""
            },
            "colorscale": [
             [
              0,
              "#0d0887"
             ],
             [
              0.1111111111111111,
              "#46039f"
             ],
             [
              0.2222222222222222,
              "#7201a8"
             ],
             [
              0.3333333333333333,
              "#9c179e"
             ],
             [
              0.4444444444444444,
              "#bd3786"
             ],
             [
              0.5555555555555556,
              "#d8576b"
             ],
             [
              0.6666666666666666,
              "#ed7953"
             ],
             [
              0.7777777777777778,
              "#fb9f3a"
             ],
             [
              0.8888888888888888,
              "#fdca26"
             ],
             [
              1,
              "#f0f921"
             ]
            ],
            "type": "heatmapgl"
           }
          ],
          "histogram": [
           {
            "marker": {
             "colorbar": {
              "outlinewidth": 0,
              "ticks": ""
             }
            },
            "type": "histogram"
           }
          ],
          "histogram2d": [
           {
            "colorbar": {
             "outlinewidth": 0,
             "ticks": ""
            },
            "colorscale": [
             [
              0,
              "#0d0887"
             ],
             [
              0.1111111111111111,
              "#46039f"
             ],
             [
              0.2222222222222222,
              "#7201a8"
             ],
             [
              0.3333333333333333,
              "#9c179e"
             ],
             [
              0.4444444444444444,
              "#bd3786"
             ],
             [
              0.5555555555555556,
              "#d8576b"
             ],
             [
              0.6666666666666666,
              "#ed7953"
             ],
             [
              0.7777777777777778,
              "#fb9f3a"
             ],
             [
              0.8888888888888888,
              "#fdca26"
             ],
             [
              1,
              "#f0f921"
             ]
            ],
            "type": "histogram2d"
           }
          ],
          "histogram2dcontour": [
           {
            "colorbar": {
             "outlinewidth": 0,
             "ticks": ""
            },
            "colorscale": [
             [
              0,
              "#0d0887"
             ],
             [
              0.1111111111111111,
              "#46039f"
             ],
             [
              0.2222222222222222,
              "#7201a8"
             ],
             [
              0.3333333333333333,
              "#9c179e"
             ],
             [
              0.4444444444444444,
              "#bd3786"
             ],
             [
              0.5555555555555556,
              "#d8576b"
             ],
             [
              0.6666666666666666,
              "#ed7953"
             ],
             [
              0.7777777777777778,
              "#fb9f3a"
             ],
             [
              0.8888888888888888,
              "#fdca26"
             ],
             [
              1,
              "#f0f921"
             ]
            ],
            "type": "histogram2dcontour"
           }
          ],
          "mesh3d": [
           {
            "colorbar": {
             "outlinewidth": 0,
             "ticks": ""
            },
            "type": "mesh3d"
           }
          ],
          "parcoords": [
           {
            "line": {
             "colorbar": {
              "outlinewidth": 0,
              "ticks": ""
             }
            },
            "type": "parcoords"
           }
          ],
          "pie": [
           {
            "automargin": true,
            "type": "pie"
           }
          ],
          "scatter": [
           {
            "marker": {
             "colorbar": {
              "outlinewidth": 0,
              "ticks": ""
             }
            },
            "type": "scatter"
           }
          ],
          "scatter3d": [
           {
            "line": {
             "colorbar": {
              "outlinewidth": 0,
              "ticks": ""
             }
            },
            "marker": {
             "colorbar": {
              "outlinewidth": 0,
              "ticks": ""
             }
            },
            "type": "scatter3d"
           }
          ],
          "scattercarpet": [
           {
            "marker": {
             "colorbar": {
              "outlinewidth": 0,
              "ticks": ""
             }
            },
            "type": "scattercarpet"
           }
          ],
          "scattergeo": [
           {
            "marker": {
             "colorbar": {
              "outlinewidth": 0,
              "ticks": ""
             }
            },
            "type": "scattergeo"
           }
          ],
          "scattergl": [
           {
            "marker": {
             "colorbar": {
              "outlinewidth": 0,
              "ticks": ""
             }
            },
            "type": "scattergl"
           }
          ],
          "scattermapbox": [
           {
            "marker": {
             "colorbar": {
              "outlinewidth": 0,
              "ticks": ""
             }
            },
            "type": "scattermapbox"
           }
          ],
          "scatterpolar": [
           {
            "marker": {
             "colorbar": {
              "outlinewidth": 0,
              "ticks": ""
             }
            },
            "type": "scatterpolar"
           }
          ],
          "scatterpolargl": [
           {
            "marker": {
             "colorbar": {
              "outlinewidth": 0,
              "ticks": ""
             }
            },
            "type": "scatterpolargl"
           }
          ],
          "scatterternary": [
           {
            "marker": {
             "colorbar": {
              "outlinewidth": 0,
              "ticks": ""
             }
            },
            "type": "scatterternary"
           }
          ],
          "surface": [
           {
            "colorbar": {
             "outlinewidth": 0,
             "ticks": ""
            },
            "colorscale": [
             [
              0,
              "#0d0887"
             ],
             [
              0.1111111111111111,
              "#46039f"
             ],
             [
              0.2222222222222222,
              "#7201a8"
             ],
             [
              0.3333333333333333,
              "#9c179e"
             ],
             [
              0.4444444444444444,
              "#bd3786"
             ],
             [
              0.5555555555555556,
              "#d8576b"
             ],
             [
              0.6666666666666666,
              "#ed7953"
             ],
             [
              0.7777777777777778,
              "#fb9f3a"
             ],
             [
              0.8888888888888888,
              "#fdca26"
             ],
             [
              1,
              "#f0f921"
             ]
            ],
            "type": "surface"
           }
          ],
          "table": [
           {
            "cells": {
             "fill": {
              "color": "#EBF0F8"
             },
             "line": {
              "color": "white"
             }
            },
            "header": {
             "fill": {
              "color": "#C8D4E3"
             },
             "line": {
              "color": "white"
             }
            },
            "type": "table"
           }
          ]
         },
         "layout": {
          "annotationdefaults": {
           "arrowcolor": "#2a3f5f",
           "arrowhead": 0,
           "arrowwidth": 1
          },
          "coloraxis": {
           "colorbar": {
            "outlinewidth": 0,
            "ticks": ""
           }
          },
          "colorscale": {
           "diverging": [
            [
             0,
             "#8e0152"
            ],
            [
             0.1,
             "#c51b7d"
            ],
            [
             0.2,
             "#de77ae"
            ],
            [
             0.3,
             "#f1b6da"
            ],
            [
             0.4,
             "#fde0ef"
            ],
            [
             0.5,
             "#f7f7f7"
            ],
            [
             0.6,
             "#e6f5d0"
            ],
            [
             0.7,
             "#b8e186"
            ],
            [
             0.8,
             "#7fbc41"
            ],
            [
             0.9,
             "#4d9221"
            ],
            [
             1,
             "#276419"
            ]
           ],
           "sequential": [
            [
             0,
             "#0d0887"
            ],
            [
             0.1111111111111111,
             "#46039f"
            ],
            [
             0.2222222222222222,
             "#7201a8"
            ],
            [
             0.3333333333333333,
             "#9c179e"
            ],
            [
             0.4444444444444444,
             "#bd3786"
            ],
            [
             0.5555555555555556,
             "#d8576b"
            ],
            [
             0.6666666666666666,
             "#ed7953"
            ],
            [
             0.7777777777777778,
             "#fb9f3a"
            ],
            [
             0.8888888888888888,
             "#fdca26"
            ],
            [
             1,
             "#f0f921"
            ]
           ],
           "sequentialminus": [
            [
             0,
             "#0d0887"
            ],
            [
             0.1111111111111111,
             "#46039f"
            ],
            [
             0.2222222222222222,
             "#7201a8"
            ],
            [
             0.3333333333333333,
             "#9c179e"
            ],
            [
             0.4444444444444444,
             "#bd3786"
            ],
            [
             0.5555555555555556,
             "#d8576b"
            ],
            [
             0.6666666666666666,
             "#ed7953"
            ],
            [
             0.7777777777777778,
             "#fb9f3a"
            ],
            [
             0.8888888888888888,
             "#fdca26"
            ],
            [
             1,
             "#f0f921"
            ]
           ]
          },
          "colorway": [
           "#636efa",
           "#EF553B",
           "#00cc96",
           "#ab63fa",
           "#FFA15A",
           "#19d3f3",
           "#FF6692",
           "#B6E880",
           "#FF97FF",
           "#FECB52"
          ],
          "font": {
           "color": "#2a3f5f"
          },
          "geo": {
           "bgcolor": "white",
           "lakecolor": "white",
           "landcolor": "#E5ECF6",
           "showlakes": true,
           "showland": true,
           "subunitcolor": "white"
          },
          "hoverlabel": {
           "align": "left"
          },
          "hovermode": "closest",
          "mapbox": {
           "style": "light"
          },
          "paper_bgcolor": "white",
          "plot_bgcolor": "#E5ECF6",
          "polar": {
           "angularaxis": {
            "gridcolor": "white",
            "linecolor": "white",
            "ticks": ""
           },
           "bgcolor": "#E5ECF6",
           "radialaxis": {
            "gridcolor": "white",
            "linecolor": "white",
            "ticks": ""
           }
          },
          "scene": {
           "xaxis": {
            "backgroundcolor": "#E5ECF6",
            "gridcolor": "white",
            "gridwidth": 2,
            "linecolor": "white",
            "showbackground": true,
            "ticks": "",
            "zerolinecolor": "white"
           },
           "yaxis": {
            "backgroundcolor": "#E5ECF6",
            "gridcolor": "white",
            "gridwidth": 2,
            "linecolor": "white",
            "showbackground": true,
            "ticks": "",
            "zerolinecolor": "white"
           },
           "zaxis": {
            "backgroundcolor": "#E5ECF6",
            "gridcolor": "white",
            "gridwidth": 2,
            "linecolor": "white",
            "showbackground": true,
            "ticks": "",
            "zerolinecolor": "white"
           }
          },
          "shapedefaults": {
           "line": {
            "color": "#2a3f5f"
           }
          },
          "ternary": {
           "aaxis": {
            "gridcolor": "white",
            "linecolor": "white",
            "ticks": ""
           },
           "baxis": {
            "gridcolor": "white",
            "linecolor": "white",
            "ticks": ""
           },
           "bgcolor": "#E5ECF6",
           "caxis": {
            "gridcolor": "white",
            "linecolor": "white",
            "ticks": ""
           }
          },
          "title": {
           "x": 0.05
          },
          "xaxis": {
           "automargin": true,
           "gridcolor": "white",
           "linecolor": "white",
           "ticks": "",
           "title": {
            "standoff": 15
           },
           "zerolinecolor": "white",
           "zerolinewidth": 2
          },
          "yaxis": {
           "automargin": true,
           "gridcolor": "white",
           "linecolor": "white",
           "ticks": "",
           "title": {
            "standoff": 15
           },
           "zerolinecolor": "white",
           "zerolinewidth": 2
          }
         }
        }
       }
      },
      "text/html": [
       "<div>\n",
       "        \n",
       "        \n",
       "            <div id=\"188bade5-6eb6-47f6-a64d-c0aa53e71385\" class=\"plotly-graph-div\" style=\"height:525px; width:100%;\"></div>\n",
       "            <script type=\"text/javascript\">\n",
       "                require([\"plotly\"], function(Plotly) {\n",
       "                    window.PLOTLYENV=window.PLOTLYENV || {};\n",
       "                    \n",
       "                if (document.getElementById(\"188bade5-6eb6-47f6-a64d-c0aa53e71385\")) {\n",
       "                    Plotly.newPlot(\n",
       "                        '188bade5-6eb6-47f6-a64d-c0aa53e71385',\n",
       "                        [{\"name\": \"theta1\", \"type\": \"scatter\", \"x\": [0.0, 0.20000000298023224, 0.4000000059604645, 0.6000000089406967, 0.800000011920929, 1.0000000149011612, 1.2000000178813934, 1.4000000208616257, 1.600000023841858, 1.8000000268220901, 2.0000000298023224, 2.2000000327825546, 2.400000035762787, 2.600000038743019, 2.8000000417232513, 3.0000000447034836, 3.200000047683716, 3.400000050663948, 3.6000000536441803, 3.8000000566244125, 4.000000059604645, 4.200000062584877, 4.400000065565109, 4.6000000685453415, 4.800000071525574], \"y\": [3.3915927410125732, 3.394465923309326, 2.835137128829956, 2.251207113265991, 2.2831058502197266, 2.559133768081665, 2.7836215496063232, 2.977830410003662, 3.1460800170898438, 3.271019458770752, 3.3277273178100586, 3.292083978652954, 3.1766703128814697, 3.053196668624878, 2.984145402908325, 2.969327449798584, 2.9822733402252197, 3.004837989807129, 3.0290820598602295, 3.0521047115325928, 3.0732784271240234, 3.0932068824768066, 3.1133837699890137, 3.135986804962158, 3.1613824367523193]}, {\"name\": \"theta2\", \"type\": \"scatter\", \"x\": [0.0, 0.20000000298023224, 0.4000000059604645, 0.6000000089406967, 0.800000011920929, 1.0000000149011612, 1.2000000178813934, 1.4000000208616257, 1.600000023841858, 1.8000000268220901, 2.0000000298023224, 2.2000000327825546, 2.400000035762787, 2.600000038743019, 2.8000000417232513, 3.0000000447034836, 3.200000047683716, 3.400000050663948, 3.6000000536441803, 3.8000000566244125, 4.000000059604645, 4.200000062584877, 4.400000065565109, 4.6000000685453415, 4.800000071525574], \"y\": [0.5, 1.8874115943908691, 5.06764030456543, 7.6135101318359375, 8.012953758239746, 7.473330974578857, 6.897032260894775, 6.3011250495910645, 5.684063911437988, 5.060473442077637, 4.430593013763428, 3.7902634143829346, 3.152756690979004, 2.550276756286621, 2.0187315940856934, 1.5796854496002197, 1.2333648204803467, 0.9660124778747559, 0.7614107131958008, 0.6064913868904114, 0.4917062819004059, 0.41023293137550354, 0.3574288785457611, 0.33118438720703125, 0.33928894996643066]}, {\"name\": \"theta1_dot\", \"type\": \"scatter\", \"x\": [0.0, 0.20000000298023224, 0.4000000059604645, 0.6000000089406967, 0.800000011920929, 1.0000000149011612, 1.2000000178813934, 1.4000000208616257, 1.600000023841858, 1.8000000268220901, 2.0000000298023224, 2.2000000327825546, 2.400000035762787, 2.600000038743019, 2.8000000417232513, 3.0000000447034836, 3.200000047683716, 3.400000050663948, 3.6000000536441803, 3.8000000566244125, 4.000000059604645, 4.200000062584877, 4.400000065565109, 4.6000000685453415, 4.800000071525574], \"y\": [1.0, -0.9712666869163513, -4.622021675109863, -1.217279076576233, 1.5362685918807983, 1.2240084409713745, 1.0208691358566284, 0.9212216138839722, 0.7612729072570801, 0.4881211519241333, 0.07895740121603012, -0.43538886308670044, -0.7187475562095642, -0.5159888863563538, -0.17452579736709595, 0.026346784085035324, 0.10311216861009598, 0.12253439426422119, 0.1199064776301384, 0.11032035946846008, 0.10141570121049881, 0.09787048399448395, 0.1038985326886177, 0.12213060259819031, 0.13182483613491058]}, {\"name\": \"theta2_dot\", \"type\": \"scatter\", \"x\": [0.0, 0.20000000298023224, 0.4000000059604645, 0.6000000089406967, 0.800000011920929, 1.0000000149011612, 1.2000000178813934, 1.4000000208616257, 1.600000023841858, 1.8000000268220901, 2.0000000298023224, 2.2000000327825546, 2.400000035762787, 2.600000038743019, 2.8000000417232513, 3.0000000447034836, 3.200000047683716, 3.400000050663948, 3.6000000536441803, 3.8000000566244125, 4.000000059604645, 4.200000062584877, 4.400000065565109, 4.6000000685453415, 4.800000071525574], \"y\": [1.0, 12.874115943908691, 18.928171157836914, 6.530528545379639, -2.5360937118530273, -2.8601319789886475, -2.902858257293701, -3.056211233139038, -3.11440110206604, -3.121504068374634, -3.177302122116089, -3.225992202758789, -3.149073362350464, -2.8757266998291016, -2.439725160598755, -1.9507356882095337, -1.5124709606170654, -1.1610527038574219, -0.884964644908905, -0.664228618144989, -0.48362261056900024, -0.3311108648777008, -0.19692985713481903, -0.06551481783390045, 0.1465604305267334]}],\n",
       "                        {\"template\": {\"data\": {\"bar\": [{\"error_x\": {\"color\": \"#2a3f5f\"}, \"error_y\": {\"color\": \"#2a3f5f\"}, \"marker\": {\"line\": {\"color\": \"#E5ECF6\", \"width\": 0.5}}, \"type\": \"bar\"}], \"barpolar\": [{\"marker\": {\"line\": {\"color\": \"#E5ECF6\", \"width\": 0.5}}, \"type\": \"barpolar\"}], \"carpet\": [{\"aaxis\": {\"endlinecolor\": \"#2a3f5f\", \"gridcolor\": \"white\", \"linecolor\": \"white\", \"minorgridcolor\": \"white\", \"startlinecolor\": \"#2a3f5f\"}, \"baxis\": {\"endlinecolor\": \"#2a3f5f\", \"gridcolor\": \"white\", \"linecolor\": \"white\", \"minorgridcolor\": \"white\", \"startlinecolor\": \"#2a3f5f\"}, \"type\": \"carpet\"}], \"choropleth\": [{\"colorbar\": {\"outlinewidth\": 0, \"ticks\": \"\"}, \"type\": \"choropleth\"}], \"contour\": [{\"colorbar\": {\"outlinewidth\": 0, \"ticks\": \"\"}, \"colorscale\": [[0.0, \"#0d0887\"], [0.1111111111111111, \"#46039f\"], [0.2222222222222222, \"#7201a8\"], [0.3333333333333333, \"#9c179e\"], [0.4444444444444444, \"#bd3786\"], [0.5555555555555556, \"#d8576b\"], [0.6666666666666666, \"#ed7953\"], [0.7777777777777778, \"#fb9f3a\"], [0.8888888888888888, \"#fdca26\"], [1.0, \"#f0f921\"]], \"type\": \"contour\"}], \"contourcarpet\": [{\"colorbar\": {\"outlinewidth\": 0, \"ticks\": \"\"}, \"type\": \"contourcarpet\"}], \"heatmap\": [{\"colorbar\": {\"outlinewidth\": 0, \"ticks\": \"\"}, \"colorscale\": [[0.0, \"#0d0887\"], [0.1111111111111111, \"#46039f\"], [0.2222222222222222, \"#7201a8\"], [0.3333333333333333, \"#9c179e\"], [0.4444444444444444, \"#bd3786\"], [0.5555555555555556, \"#d8576b\"], [0.6666666666666666, \"#ed7953\"], [0.7777777777777778, \"#fb9f3a\"], [0.8888888888888888, \"#fdca26\"], [1.0, \"#f0f921\"]], \"type\": \"heatmap\"}], \"heatmapgl\": [{\"colorbar\": {\"outlinewidth\": 0, \"ticks\": \"\"}, \"colorscale\": [[0.0, \"#0d0887\"], [0.1111111111111111, \"#46039f\"], [0.2222222222222222, \"#7201a8\"], [0.3333333333333333, \"#9c179e\"], [0.4444444444444444, \"#bd3786\"], [0.5555555555555556, \"#d8576b\"], [0.6666666666666666, \"#ed7953\"], [0.7777777777777778, \"#fb9f3a\"], [0.8888888888888888, \"#fdca26\"], [1.0, \"#f0f921\"]], \"type\": \"heatmapgl\"}], \"histogram\": [{\"marker\": {\"colorbar\": {\"outlinewidth\": 0, \"ticks\": \"\"}}, \"type\": \"histogram\"}], \"histogram2d\": [{\"colorbar\": {\"outlinewidth\": 0, \"ticks\": \"\"}, \"colorscale\": [[0.0, \"#0d0887\"], [0.1111111111111111, \"#46039f\"], [0.2222222222222222, \"#7201a8\"], [0.3333333333333333, \"#9c179e\"], [0.4444444444444444, \"#bd3786\"], [0.5555555555555556, \"#d8576b\"], [0.6666666666666666, \"#ed7953\"], [0.7777777777777778, \"#fb9f3a\"], [0.8888888888888888, \"#fdca26\"], [1.0, \"#f0f921\"]], \"type\": \"histogram2d\"}], \"histogram2dcontour\": [{\"colorbar\": {\"outlinewidth\": 0, \"ticks\": \"\"}, \"colorscale\": [[0.0, \"#0d0887\"], [0.1111111111111111, \"#46039f\"], [0.2222222222222222, \"#7201a8\"], [0.3333333333333333, \"#9c179e\"], [0.4444444444444444, \"#bd3786\"], [0.5555555555555556, \"#d8576b\"], [0.6666666666666666, \"#ed7953\"], [0.7777777777777778, \"#fb9f3a\"], [0.8888888888888888, \"#fdca26\"], [1.0, \"#f0f921\"]], \"type\": \"histogram2dcontour\"}], \"mesh3d\": [{\"colorbar\": {\"outlinewidth\": 0, \"ticks\": \"\"}, \"type\": \"mesh3d\"}], \"parcoords\": [{\"line\": {\"colorbar\": {\"outlinewidth\": 0, \"ticks\": \"\"}}, \"type\": \"parcoords\"}], \"pie\": [{\"automargin\": true, \"type\": \"pie\"}], \"scatter\": [{\"marker\": {\"colorbar\": {\"outlinewidth\": 0, \"ticks\": \"\"}}, \"type\": \"scatter\"}], \"scatter3d\": [{\"line\": {\"colorbar\": {\"outlinewidth\": 0, \"ticks\": \"\"}}, \"marker\": {\"colorbar\": {\"outlinewidth\": 0, \"ticks\": \"\"}}, \"type\": \"scatter3d\"}], \"scattercarpet\": [{\"marker\": {\"colorbar\": {\"outlinewidth\": 0, \"ticks\": \"\"}}, \"type\": \"scattercarpet\"}], \"scattergeo\": [{\"marker\": {\"colorbar\": {\"outlinewidth\": 0, \"ticks\": \"\"}}, \"type\": \"scattergeo\"}], \"scattergl\": [{\"marker\": {\"colorbar\": {\"outlinewidth\": 0, \"ticks\": \"\"}}, \"type\": \"scattergl\"}], \"scattermapbox\": [{\"marker\": {\"colorbar\": {\"outlinewidth\": 0, \"ticks\": \"\"}}, \"type\": \"scattermapbox\"}], \"scatterpolar\": [{\"marker\": {\"colorbar\": {\"outlinewidth\": 0, \"ticks\": \"\"}}, \"type\": \"scatterpolar\"}], \"scatterpolargl\": [{\"marker\": {\"colorbar\": {\"outlinewidth\": 0, \"ticks\": \"\"}}, \"type\": \"scatterpolargl\"}], \"scatterternary\": [{\"marker\": {\"colorbar\": {\"outlinewidth\": 0, \"ticks\": \"\"}}, \"type\": \"scatterternary\"}], \"surface\": [{\"colorbar\": {\"outlinewidth\": 0, \"ticks\": \"\"}, \"colorscale\": [[0.0, \"#0d0887\"], [0.1111111111111111, \"#46039f\"], [0.2222222222222222, \"#7201a8\"], [0.3333333333333333, \"#9c179e\"], [0.4444444444444444, \"#bd3786\"], [0.5555555555555556, \"#d8576b\"], [0.6666666666666666, \"#ed7953\"], [0.7777777777777778, \"#fb9f3a\"], [0.8888888888888888, \"#fdca26\"], [1.0, \"#f0f921\"]], \"type\": \"surface\"}], \"table\": [{\"cells\": {\"fill\": {\"color\": \"#EBF0F8\"}, \"line\": {\"color\": \"white\"}}, \"header\": {\"fill\": {\"color\": \"#C8D4E3\"}, \"line\": {\"color\": \"white\"}}, \"type\": \"table\"}]}, \"layout\": {\"annotationdefaults\": {\"arrowcolor\": \"#2a3f5f\", \"arrowhead\": 0, \"arrowwidth\": 1}, \"coloraxis\": {\"colorbar\": {\"outlinewidth\": 0, \"ticks\": \"\"}}, \"colorscale\": {\"diverging\": [[0, \"#8e0152\"], [0.1, \"#c51b7d\"], [0.2, \"#de77ae\"], [0.3, \"#f1b6da\"], [0.4, \"#fde0ef\"], [0.5, \"#f7f7f7\"], [0.6, \"#e6f5d0\"], [0.7, \"#b8e186\"], [0.8, \"#7fbc41\"], [0.9, \"#4d9221\"], [1, \"#276419\"]], \"sequential\": [[0.0, \"#0d0887\"], [0.1111111111111111, \"#46039f\"], [0.2222222222222222, \"#7201a8\"], [0.3333333333333333, \"#9c179e\"], [0.4444444444444444, \"#bd3786\"], [0.5555555555555556, \"#d8576b\"], [0.6666666666666666, \"#ed7953\"], [0.7777777777777778, \"#fb9f3a\"], [0.8888888888888888, \"#fdca26\"], [1.0, \"#f0f921\"]], \"sequentialminus\": [[0.0, \"#0d0887\"], [0.1111111111111111, \"#46039f\"], [0.2222222222222222, \"#7201a8\"], [0.3333333333333333, \"#9c179e\"], [0.4444444444444444, \"#bd3786\"], [0.5555555555555556, \"#d8576b\"], [0.6666666666666666, \"#ed7953\"], [0.7777777777777778, \"#fb9f3a\"], [0.8888888888888888, \"#fdca26\"], [1.0, \"#f0f921\"]]}, \"colorway\": [\"#636efa\", \"#EF553B\", \"#00cc96\", \"#ab63fa\", \"#FFA15A\", \"#19d3f3\", \"#FF6692\", \"#B6E880\", \"#FF97FF\", \"#FECB52\"], \"font\": {\"color\": \"#2a3f5f\"}, \"geo\": {\"bgcolor\": \"white\", \"lakecolor\": \"white\", \"landcolor\": \"#E5ECF6\", \"showlakes\": true, \"showland\": true, \"subunitcolor\": \"white\"}, \"hoverlabel\": {\"align\": \"left\"}, \"hovermode\": \"closest\", \"mapbox\": {\"style\": \"light\"}, \"paper_bgcolor\": \"white\", \"plot_bgcolor\": \"#E5ECF6\", \"polar\": {\"angularaxis\": {\"gridcolor\": \"white\", \"linecolor\": \"white\", \"ticks\": \"\"}, \"bgcolor\": \"#E5ECF6\", \"radialaxis\": {\"gridcolor\": \"white\", \"linecolor\": \"white\", \"ticks\": \"\"}}, \"scene\": {\"xaxis\": {\"backgroundcolor\": \"#E5ECF6\", \"gridcolor\": \"white\", \"gridwidth\": 2, \"linecolor\": \"white\", \"showbackground\": true, \"ticks\": \"\", \"zerolinecolor\": \"white\"}, \"yaxis\": {\"backgroundcolor\": \"#E5ECF6\", \"gridcolor\": \"white\", \"gridwidth\": 2, \"linecolor\": \"white\", \"showbackground\": true, \"ticks\": \"\", \"zerolinecolor\": \"white\"}, \"zaxis\": {\"backgroundcolor\": \"#E5ECF6\", \"gridcolor\": \"white\", \"gridwidth\": 2, \"linecolor\": \"white\", \"showbackground\": true, \"ticks\": \"\", \"zerolinecolor\": \"white\"}}, \"shapedefaults\": {\"line\": {\"color\": \"#2a3f5f\"}}, \"ternary\": {\"aaxis\": {\"gridcolor\": \"white\", \"linecolor\": \"white\", \"ticks\": \"\"}, \"baxis\": {\"gridcolor\": \"white\", \"linecolor\": \"white\", \"ticks\": \"\"}, \"bgcolor\": \"#E5ECF6\", \"caxis\": {\"gridcolor\": \"white\", \"linecolor\": \"white\", \"ticks\": \"\"}}, \"title\": {\"x\": 0.05}, \"xaxis\": {\"automargin\": true, \"gridcolor\": \"white\", \"linecolor\": \"white\", \"ticks\": \"\", \"title\": {\"standoff\": 15}, \"zerolinecolor\": \"white\", \"zerolinewidth\": 2}, \"yaxis\": {\"automargin\": true, \"gridcolor\": \"white\", \"linecolor\": \"white\", \"ticks\": \"\", \"title\": {\"standoff\": 15}, \"zerolinecolor\": \"white\", \"zerolinewidth\": 2}}}},\n",
       "                        {\"responsive\": true}\n",
       "                    ).then(function(){\n",
       "                            \n",
       "var gd = document.getElementById('188bade5-6eb6-47f6-a64d-c0aa53e71385');\n",
       "var x = new MutationObserver(function (mutations, observer) {{\n",
       "        var display = window.getComputedStyle(gd).display;\n",
       "        if (!display || display === 'none') {{\n",
       "            console.log([gd, 'removed!']);\n",
       "            Plotly.purge(gd);\n",
       "            observer.disconnect();\n",
       "        }}\n",
       "}});\n",
       "\n",
       "// Listen for the removal of the full notebook cells\n",
       "var notebookContainer = gd.closest('#notebook-container');\n",
       "if (notebookContainer) {{\n",
       "    x.observe(notebookContainer, {childList: true});\n",
       "}}\n",
       "\n",
       "// Listen for the clearing of the current output cell\n",
       "var outputEl = gd.closest('.output');\n",
       "if (outputEl) {{\n",
       "    x.observe(outputEl, {childList: true});\n",
       "}}\n",
       "\n",
       "                        })\n",
       "                };\n",
       "                });\n",
       "            </script>\n",
       "        </div>"
      ]
     },
     "metadata": {},
     "output_type": "display_data"
    }
   ],
   "source": [
    "V = vf.get_value_function()\n",
    "v, res = V(opt['sim_x0'])\n",
    "sys.plot_result(res).show()"
   ]
  },
  {
   "cell_type": "code",
   "execution_count": 36,
   "metadata": {},
   "outputs": [
    {
     "data": {
      "application/vnd.plotly.v1+json": {
       "config": {
        "plotlyServerURL": "https://plot.ly"
       },
       "data": [
        {
         "type": "scatter",
         "x": [
          0,
          6.907182978466153e-05,
          0.0007597901276312768,
          0.007666972931474447,
          0.07673880457878113,
          0.10000000149011612,
          0.15077424049377441,
          0.20000000298023224,
          0.2537407875061035,
          0.30000001192092896,
          0.35508084297180176,
          0.4000000059604645,
          0.45556873083114624,
          0.5,
          0.5550395846366882,
          0.6000000238418579,
          0.6537407636642456,
          0.699999988079071,
          0.7489082217216492,
          0.800000011920929,
          0.8612475395202637,
          0.8999999761581421,
          0.9563643336296082,
          1,
          1.0484793186187744,
          1.100000023841858,
          1.143119215965271,
          1.2000000476837158,
          1.2392857074737549,
          1.2999999523162842,
          1.335098385810852,
          1.399999976158142,
          1.436730980873108,
          1.5,
          1.5467197895050049,
          1.600000023841858,
          1.6492208242416382,
          1.7000000476837158,
          1.7489032745361328,
          1.7999999523162842,
          1.8469088077545166,
          1.899999976158142,
          1.9360220432281494,
          2,
          2.056096315383911,
          2.0999999046325684,
          2.1772658824920654,
          2.200000047683716,
          2.2866263389587402,
          2.299999952316284,
          2.3867428302764893,
          2.4000000953674316,
          2.4861111640930176,
          2.5,
          2.585488796234131,
          2.5999999046325684,
          2.6852385997772217,
          2.700000047683716,
          2.784965991973877,
          2.799999952316284,
          2.882098436355591,
          2.9000000953674316,
          2.976029396057129,
          3,
          3.069550037384033,
          3.0999999046325684,
          3.1637635231018066,
          3.200000047683716,
          3.257591962814331,
          3.299999952316284,
          3.344074010848999,
          3.4000000953674316,
          3.452143907546997,
          3.5,
          3.5478367805480957,
          3.5999999046325684,
          3.6417341232299805,
          3.700000047683716,
          3.7242250442504883,
          3.799999952316284,
          3.8405823707580566,
          3.9000000953674316,
          3.932520627975464,
          4,
          4.043355941772461,
          4.099999904632568,
          4.150106430053711,
          4.199999809265137,
          4.2547383308410645,
          4.300000190734863,
          4.358977317810059,
          4.400000095367432,
          4.463590621948242,
          4.5,
          4.569361209869385,
          4.599999904632568,
          4.67816162109375,
          4.699999809265137,
          4.79710578918457,
          4.800000190734863,
          4.890904903411865,
          4.900000095367432
         ],
         "y": [
          3.2415926456451416,
          3.2415926456451416,
          3.241590976715088,
          3.241413116455078,
          3.224639415740967,
          3.2134132385253906,
          3.1816842555999756,
          3.14433217048645,
          3.0990793704986572,
          3.059055805206299,
          3.012371063232422,
          2.976897716522217,
          2.93766450881958,
          2.911088466644287,
          2.884644031524658,
          2.8687634468078613,
          2.8562405109405518,
          2.8507091999053955,
          2.8492324352264404,
          2.851332902908325,
          2.8568735122680664,
          2.8612611293792725,
          2.8676726818084717,
          2.8722774982452393,
          2.876695394515991,
          2.8804941177368164,
          2.8830606937408447,
          2.8855748176574707,
          2.886899948120117,
          2.8880600929260254,
          2.8883252143859863,
          2.8874752521514893,
          2.8862390518188477,
          2.8822898864746094,
          2.8779423236846924,
          2.871472120285034,
          2.8644051551818848,
          2.8564915657043457,
          2.848977565765381,
          2.8420238494873047,
          2.83720326423645,
          2.834263801574707,
          2.834153413772583,
          2.8379576206207275,
          2.8457112312316895,
          2.854534387588501,
          2.8751277923583984,
          2.88230037689209,
          2.9126980304718018,
          2.9177839756011963,
          2.9517505168914795,
          2.9570770263671875,
          2.9912796020507812,
          2.996722936630249,
          3.0289175510406494,
          3.0341532230377197,
          3.0630927085876465,
          3.0677857398986816,
          3.0928263664245605,
          3.0969009399414062,
          3.11735200881958,
          3.1213927268981934,
          3.137085437774658,
          3.141512870788574,
          3.1531670093536377,
          3.1576790809631348,
          3.166151523590088,
          3.1703524589538574,
          3.176250696182251,
          3.179975748062134,
          3.183346748352051,
          3.1869497299194336,
          3.189656972885132,
          3.1916282176971436,
          3.193143367767334,
          3.1943249702453613,
          3.194920778274536,
          3.195321798324585,
          3.1953139305114746,
          3.194875478744507,
          3.1943249702453613,
          3.1932213306427,
          3.192443370819092,
          3.1905786991119385,
          3.1891696453094482,
          3.187152624130249,
          3.1851987838745117,
          3.1831343173980713,
          3.180748224258423,
          3.178701400756836,
          3.175959825515747,
          3.174015522003174,
          3.170973539352417,
          3.169222593307495,
          3.1659059524536133,
          3.1644513607025146,
          3.1608104705810547,
          3.1598124504089355,
          3.1555228233337402,
          3.1553988456726074,
          3.1516449451446533,
          3.1512856483459473
         ]
        },
        {
         "type": "scatter",
         "x": [
          0,
          6.907182978466153e-05,
          0.0007597901276312768,
          0.007666972931474447,
          0.07673880457878113,
          0.10000000149011612,
          0.15077424049377441,
          0.20000000298023224,
          0.2537407875061035,
          0.30000001192092896,
          0.35508084297180176,
          0.4000000059604645,
          0.45556873083114624,
          0.5,
          0.5550395846366882,
          0.6000000238418579,
          0.6537407636642456,
          0.699999988079071,
          0.7489082217216492,
          0.800000011920929,
          0.8612475395202637,
          0.8999999761581421,
          0.9563643336296082,
          1,
          1.0484793186187744,
          1.100000023841858,
          1.143119215965271,
          1.2000000476837158,
          1.2392857074737549,
          1.2999999523162842,
          1.335098385810852,
          1.399999976158142,
          1.436730980873108,
          1.5,
          1.5467197895050049,
          1.600000023841858,
          1.6492208242416382,
          1.7000000476837158,
          1.7489032745361328,
          1.7999999523162842,
          1.8469088077545166,
          1.899999976158142,
          1.9360220432281494,
          2,
          2.056096315383911,
          2.0999999046325684,
          2.1772658824920654,
          2.200000047683716,
          2.2866263389587402,
          2.299999952316284,
          2.3867428302764893,
          2.4000000953674316,
          2.4861111640930176,
          2.5,
          2.585488796234131,
          2.5999999046325684,
          2.6852385997772217,
          2.700000047683716,
          2.784965991973877,
          2.799999952316284,
          2.882098436355591,
          2.9000000953674316,
          2.976029396057129,
          3,
          3.069550037384033,
          3.0999999046325684,
          3.1637635231018066,
          3.200000047683716,
          3.257591962814331,
          3.299999952316284,
          3.344074010848999,
          3.4000000953674316,
          3.452143907546997,
          3.5,
          3.5478367805480957,
          3.5999999046325684,
          3.6417341232299805,
          3.700000047683716,
          3.7242250442504883,
          3.799999952316284,
          3.8405823707580566,
          3.9000000953674316,
          3.932520627975464,
          4,
          4.043355941772461,
          4.099999904632568,
          4.150106430053711,
          4.199999809265137,
          4.2547383308410645,
          4.300000190734863,
          4.358977317810059,
          4.400000095367432,
          4.463590621948242,
          4.5,
          4.569361209869385,
          4.599999904632568,
          4.67816162109375,
          4.699999809265137,
          4.79710578918457,
          4.800000190734863,
          4.890904903411865,
          4.900000095367432
         ],
         "y": [
          0.5,
          0.5000000596046448,
          0.5000056028366089,
          0.5005703568458557,
          0.5544285774230957,
          0.5908595323562622,
          0.6958705186843872,
          0.8238397836685181,
          0.9860190749168396,
          1.138128399848938,
          1.3295433521270752,
          1.4899574518203735,
          1.6910473108291626,
          1.851453185081482,
          2.0482542514801025,
          2.2056756019592285,
          2.3888862133026123,
          2.5407588481903076,
          2.694451093673706,
          2.8461005687713623,
          3.013901710510254,
          3.110738754272461,
          3.237757444381714,
          3.323314905166626,
          3.4043679237365723,
          3.4732894897460938,
          3.5164284706115723,
          3.5528907775878906,
          3.5638623237609863,
          3.5589418411254883,
          3.543684244155884,
          3.4937782287597656,
          3.4531192779541016,
          3.364841938018799,
          3.285689115524292,
          3.183107852935791,
          3.0780138969421387,
          2.9609951972961426,
          2.8413376808166504,
          2.710587739944458,
          2.5864675045013428,
          2.442723274230957,
          2.343714952468872,
          2.1668829917907715,
          2.0118303298950195,
          1.891348958015442,
          1.683374047279358,
          1.6232913732528687,
          1.4019484519958496,
          1.368777871131897,
          1.1628718376159668,
          1.132688045501709,
          0.9469318389892578,
          0.9185277819633484,
          0.7543909549713135,
          0.7282604575157166,
          0.5853050351142883,
          0.5623060464859009,
          0.4397648572921753,
          0.41978591680526733,
          0.3190617263317108,
          0.2989676594734192,
          0.22027544677257538,
          0.19771750271320343,
          0.13761278986930847,
          0.1138320341706276,
          0.06840289384126663,
          0.04523183032870293,
          0.011893878690898418,
          -0.0099562369287014,
          -0.030437856912612915,
          -0.053390879184007645,
          -0.07187596708536148,
          -0.0865333080291748,
          -0.09912323206663132,
          -0.11068852990865707,
          -0.11836499720811844,
          -0.12703563272953033,
          -0.12988270819187164,
          -0.1366550326347351,
          -0.1388375163078308,
          -0.14054186642169952,
          -0.14068196713924408,
          -0.13962136209011078,
          -0.13792550563812256,
          -0.13475549221038818,
          -0.13107898831367493,
          -0.12674495577812195,
          -0.1212957352399826,
          -0.11632830649614334,
          -0.10933545231819153,
          -0.10417923331260681,
          -0.09583710134029388,
          -0.09090360254049301,
          -0.0813249796628952,
          -0.07703862339258194,
          -0.06609897315502167,
          -0.06305179744958878,
          -0.04973078519105911,
          -0.04934077337384224,
          -0.03739186003804207,
          -0.03623419255018234
         ]
        },
        {
         "type": "scatter",
         "x": [
          0,
          6.907182978466153e-05,
          0.0007597901276312768,
          0.007666972931474447,
          0.07673880457878113,
          0.10000000149011612,
          0.15077424049377441,
          0.20000000298023224,
          0.2537407875061035,
          0.30000001192092896,
          0.35508084297180176,
          0.4000000059604645,
          0.45556873083114624,
          0.5,
          0.5550395846366882,
          0.6000000238418579,
          0.6537407636642456,
          0.699999988079071,
          0.7489082217216492,
          0.800000011920929,
          0.8612475395202637,
          0.8999999761581421,
          0.9563643336296082,
          1,
          1.0484793186187744,
          1.100000023841858,
          1.143119215965271,
          1.2000000476837158,
          1.2392857074737549,
          1.2999999523162842,
          1.335098385810852,
          1.399999976158142,
          1.436730980873108,
          1.5,
          1.5467197895050049,
          1.600000023841858,
          1.6492208242416382,
          1.7000000476837158,
          1.7489032745361328,
          1.7999999523162842,
          1.8469088077545166,
          1.899999976158142,
          1.9360220432281494,
          2,
          2.056096315383911,
          2.0999999046325684,
          2.1772658824920654,
          2.200000047683716,
          2.2866263389587402,
          2.299999952316284,
          2.3867428302764893,
          2.4000000953674316,
          2.4861111640930176,
          2.5,
          2.585488796234131,
          2.5999999046325684,
          2.6852385997772217,
          2.700000047683716,
          2.784965991973877,
          2.799999952316284,
          2.882098436355591,
          2.9000000953674316,
          2.976029396057129,
          3,
          3.069550037384033,
          3.0999999046325684,
          3.1637635231018066,
          3.200000047683716,
          3.257591962814331,
          3.299999952316284,
          3.344074010848999,
          3.4000000953674316,
          3.452143907546997,
          3.5,
          3.5478367805480957,
          3.5999999046325684,
          3.6417341232299805,
          3.700000047683716,
          3.7242250442504883,
          3.799999952316284,
          3.8405823707580566,
          3.9000000953674316,
          3.932520627975464,
          4,
          4.043355941772461,
          4.099999904632568,
          4.150106430053711,
          4.199999809265137,
          4.2547383308410645,
          4.300000190734863,
          4.358977317810059,
          4.400000095367432,
          4.463590621948242,
          4.5,
          4.569361209869385,
          4.599999904632568,
          4.67816162109375,
          4.699999809265137,
          4.79710578918457,
          4.800000190734863,
          4.890904903411865,
          4.900000095367432
         ],
         "y": [
          0,
          -0.00042438856326043606,
          -0.0046644313260912895,
          -0.04667861759662628,
          -0.4265543222427368,
          -0.5371586680412292,
          -0.7026146650314331,
          -0.8055923581123352,
          -0.8652804493904114,
          -0.8564446568489075,
          -0.8254388570785522,
          -0.7469502687454224,
          -0.6538231372833252,
          -0.5372706651687622,
          -0.4155961573123932,
          -0.28770211338996887,
          -0.17427992820739746,
          -0.06388451159000397,
          0.004389647860080004,
          0.07776466012001038,
          0.10376932471990585,
          0.12336947023868561,
          0.10661336034536362,
          0.1068808063864708,
          0.07872370630502701,
          0.0733654797077179,
          0.04875415563583374,
          0.04520982876420021,
          0.02453608438372612,
          0.018821150064468384,
          -0.002260784385725856,
          -0.01935594156384468,
          -0.04659327119588852,
          -0.07399722188711166,
          -0.10952812433242798,
          -0.12931519746780396,
          -0.15394453704357147,
          -0.15291965007781982,
          -0.1498877853155136,
          -0.11710769683122635,
          -0.08468006551265717,
          -0.021441001445055008,
          0.016854077577590942,
          0.10657499730587006,
          0.17183588445186615,
          0.23140652477741241,
          0.30364224314689636,
          0.3276272416114807,
          0.3759673237800598,
          0.3847137987613678,
          0.40005141496658325,
          0.4035615622997284,
          0.3923147916793823,
          0.39160704612731934,
          0.3628101348876953,
          0.35884326696395874,
          0.32094183564186096,
          0.31494244933128357,
          0.27456384897232056,
          0.2674964368343353,
          0.23005537688732147,
          0.22134624421596527,
          0.1902962327003479,
          0.1789838671684265,
          0.1547318994998932,
          0.14133405685424805,
          0.12293974310159683,
          0.10841026157140732,
          0.09505367279052734,
          0.07983715087175369,
          0.07227666676044464,
          0.05513385683298111,
          0.04747259244322777,
          0.033831045031547546,
          0.028491321951150894,
          0.015553937293589115,
          0.012250025756657124,
          5.698097083950415e-06,
          -0.0009045593906193972,
          -0.013045377098023891,
          -0.014693894423544407,
          -0.023800959810614586,
          -0.024395957589149475,
          -0.032415032386779785,
          -0.033130545169115067,
          -0.03903860226273537,
          -0.03956671431660652,
          -0.04381142929196358,
          -0.04398006200790405,
          -0.04688676819205284,
          -0.046633921563625336,
          -0.048428408801555634,
          -0.04772308096289635,
          -0.04860768839716911,
          -0.04741156846284866,
          -0.047607142478227615,
          -0.045820824801921844,
          -0.04560459032654762,
          -0.04285653308033943,
          -0.04278432950377464,
          -0.039681803435087204,
          -0.03932651877403259
         ]
        },
        {
         "type": "scatter",
         "x": [
          0,
          6.907182978466153e-05,
          0.0007597901276312768,
          0.007666972931474447,
          0.07673880457878113,
          0.10000000149011612,
          0.15077424049377441,
          0.20000000298023224,
          0.2537407875061035,
          0.30000001192092896,
          0.35508084297180176,
          0.4000000059604645,
          0.45556873083114624,
          0.5,
          0.5550395846366882,
          0.6000000238418579,
          0.6537407636642456,
          0.699999988079071,
          0.7489082217216492,
          0.800000011920929,
          0.8612475395202637,
          0.8999999761581421,
          0.9563643336296082,
          1,
          1.0484793186187744,
          1.100000023841858,
          1.143119215965271,
          1.2000000476837158,
          1.2392857074737549,
          1.2999999523162842,
          1.335098385810852,
          1.399999976158142,
          1.436730980873108,
          1.5,
          1.5467197895050049,
          1.600000023841858,
          1.6492208242416382,
          1.7000000476837158,
          1.7489032745361328,
          1.7999999523162842,
          1.8469088077545166,
          1.899999976158142,
          1.9360220432281494,
          2,
          2.056096315383911,
          2.0999999046325684,
          2.1772658824920654,
          2.200000047683716,
          2.2866263389587402,
          2.299999952316284,
          2.3867428302764893,
          2.4000000953674316,
          2.4861111640930176,
          2.5,
          2.585488796234131,
          2.5999999046325684,
          2.6852385997772217,
          2.700000047683716,
          2.784965991973877,
          2.799999952316284,
          2.882098436355591,
          2.9000000953674316,
          2.976029396057129,
          3,
          3.069550037384033,
          3.0999999046325684,
          3.1637635231018066,
          3.200000047683716,
          3.257591962814331,
          3.299999952316284,
          3.344074010848999,
          3.4000000953674316,
          3.452143907546997,
          3.5,
          3.5478367805480957,
          3.5999999046325684,
          3.6417341232299805,
          3.700000047683716,
          3.7242250442504883,
          3.799999952316284,
          3.8405823707580566,
          3.9000000953674316,
          3.932520627975464,
          4,
          4.043355941772461,
          4.099999904632568,
          4.150106430053711,
          4.199999809265137,
          4.2547383308410645,
          4.300000190734863,
          4.358977317810059,
          4.400000095367432,
          4.463590621948242,
          4.5,
          4.569361209869385,
          4.599999904632568,
          4.67816162109375,
          4.699999809265137,
          4.79710578918457,
          4.800000190734863,
          4.890904903411865,
          4.900000095367432
         ],
         "y": [
          0,
          0.0013472218997776508,
          0.014809098094701767,
          0.14839138090610504,
          1.3789856433868408,
          1.7496165037155151,
          2.361833095550537,
          2.8148741722106934,
          3.188918352127075,
          3.366736888885498,
          3.551840305328369,
          3.5727083683013916,
          3.6356444358825684,
          3.568594217300415,
          3.5557336807250977,
          3.4303879737854004,
          3.362708330154419,
          3.185279130935669,
          3.078887939453125,
          2.834747552871704,
          2.6126205921173096,
          2.372079849243164,
          2.1088144779205322,
          1.7968626022338867,
          1.52895188331604,
          1.1264597177505493,
          0.8618384003639221,
          0.399079293012619,
          0.1507759690284729,
          -0.33236241340637207,
          -0.5424419045448303,
          -1.012418270111084,
          -1.2057528495788574,
          -1.5965126752853394,
          -1.7967641353607178,
          -2.0599446296691895,
          -2.2143216133117676,
          -2.3990256786346436,
          -2.4979135990142822,
          -2.624030351638794,
          -2.6709964275360107,
          -2.748852252960205,
          -2.7501864433288574,
          -2.7854974269866943,
          -2.7480926513671875,
          -2.7445812225341797,
          -2.650207042694092,
          -2.636725902557373,
          -2.487849473953247,
          -2.473130941390991,
          -2.2874343395233154,
          -2.2664947509765625,
          -2.058737277984619,
          -2.031782865524292,
          -1.8165013790130615,
          -1.7851980924606323,
          -1.574623703956604,
          -1.5416754484176636,
          -1.3454835414886475,
          -1.312422513961792,
          -1.1412256956100464,
          -1.1036863327026367,
          -0.9643108248710632,
          -0.9175592660903931,
          -0.8077573776245117,
          -0.753524124622345,
          -0.6679573059082031,
          -0.6096893548965454,
          -0.544740617275238,
          -0.4837975800037384,
          -0.44352149963378906,
          -0.3737228214740753,
          -0.3322274684906006,
          -0.2776208519935608,
          -0.24619325995445251,
          -0.19405068457126617,
          -0.17194600403308868,
          -0.12186849862337112,
          -0.11258891969919205,
          -0.060155414044857025,
          -0.04587114229798317,
          -0.008100614883005619,
          0.0003613546723499894,
          0.03496473655104637,
          0.04462239146232605,
          0.06969447433948517,
          0.0785875990986824,
          0.09670871496200562,
          0.10388503223657608,
          0.11666087806224823,
          0.12182344496250153,
          0.13022905588150024,
          0.13327521085739136,
          0.1381065398454666,
          0.13896113634109497,
          0.14100997149944305,
          0.13947169482707977,
          0.13963530957698822,
          0.13482223451137543,
          0.1346864402294159,
          0.12771181762218475,
          0.12684576213359833
         ]
        }
       ],
       "layout": {
        "template": {
         "data": {
          "bar": [
           {
            "error_x": {
             "color": "#2a3f5f"
            },
            "error_y": {
             "color": "#2a3f5f"
            },
            "marker": {
             "line": {
              "color": "#E5ECF6",
              "width": 0.5
             }
            },
            "type": "bar"
           }
          ],
          "barpolar": [
           {
            "marker": {
             "line": {
              "color": "#E5ECF6",
              "width": 0.5
             }
            },
            "type": "barpolar"
           }
          ],
          "carpet": [
           {
            "aaxis": {
             "endlinecolor": "#2a3f5f",
             "gridcolor": "white",
             "linecolor": "white",
             "minorgridcolor": "white",
             "startlinecolor": "#2a3f5f"
            },
            "baxis": {
             "endlinecolor": "#2a3f5f",
             "gridcolor": "white",
             "linecolor": "white",
             "minorgridcolor": "white",
             "startlinecolor": "#2a3f5f"
            },
            "type": "carpet"
           }
          ],
          "choropleth": [
           {
            "colorbar": {
             "outlinewidth": 0,
             "ticks": ""
            },
            "type": "choropleth"
           }
          ],
          "contour": [
           {
            "colorbar": {
             "outlinewidth": 0,
             "ticks": ""
            },
            "colorscale": [
             [
              0,
              "#0d0887"
             ],
             [
              0.1111111111111111,
              "#46039f"
             ],
             [
              0.2222222222222222,
              "#7201a8"
             ],
             [
              0.3333333333333333,
              "#9c179e"
             ],
             [
              0.4444444444444444,
              "#bd3786"
             ],
             [
              0.5555555555555556,
              "#d8576b"
             ],
             [
              0.6666666666666666,
              "#ed7953"
             ],
             [
              0.7777777777777778,
              "#fb9f3a"
             ],
             [
              0.8888888888888888,
              "#fdca26"
             ],
             [
              1,
              "#f0f921"
             ]
            ],
            "type": "contour"
           }
          ],
          "contourcarpet": [
           {
            "colorbar": {
             "outlinewidth": 0,
             "ticks": ""
            },
            "type": "contourcarpet"
           }
          ],
          "heatmap": [
           {
            "colorbar": {
             "outlinewidth": 0,
             "ticks": ""
            },
            "colorscale": [
             [
              0,
              "#0d0887"
             ],
             [
              0.1111111111111111,
              "#46039f"
             ],
             [
              0.2222222222222222,
              "#7201a8"
             ],
             [
              0.3333333333333333,
              "#9c179e"
             ],
             [
              0.4444444444444444,
              "#bd3786"
             ],
             [
              0.5555555555555556,
              "#d8576b"
             ],
             [
              0.6666666666666666,
              "#ed7953"
             ],
             [
              0.7777777777777778,
              "#fb9f3a"
             ],
             [
              0.8888888888888888,
              "#fdca26"
             ],
             [
              1,
              "#f0f921"
             ]
            ],
            "type": "heatmap"
           }
          ],
          "heatmapgl": [
           {
            "colorbar": {
             "outlinewidth": 0,
             "ticks": ""
            },
            "colorscale": [
             [
              0,
              "#0d0887"
             ],
             [
              0.1111111111111111,
              "#46039f"
             ],
             [
              0.2222222222222222,
              "#7201a8"
             ],
             [
              0.3333333333333333,
              "#9c179e"
             ],
             [
              0.4444444444444444,
              "#bd3786"
             ],
             [
              0.5555555555555556,
              "#d8576b"
             ],
             [
              0.6666666666666666,
              "#ed7953"
             ],
             [
              0.7777777777777778,
              "#fb9f3a"
             ],
             [
              0.8888888888888888,
              "#fdca26"
             ],
             [
              1,
              "#f0f921"
             ]
            ],
            "type": "heatmapgl"
           }
          ],
          "histogram": [
           {
            "marker": {
             "colorbar": {
              "outlinewidth": 0,
              "ticks": ""
             }
            },
            "type": "histogram"
           }
          ],
          "histogram2d": [
           {
            "colorbar": {
             "outlinewidth": 0,
             "ticks": ""
            },
            "colorscale": [
             [
              0,
              "#0d0887"
             ],
             [
              0.1111111111111111,
              "#46039f"
             ],
             [
              0.2222222222222222,
              "#7201a8"
             ],
             [
              0.3333333333333333,
              "#9c179e"
             ],
             [
              0.4444444444444444,
              "#bd3786"
             ],
             [
              0.5555555555555556,
              "#d8576b"
             ],
             [
              0.6666666666666666,
              "#ed7953"
             ],
             [
              0.7777777777777778,
              "#fb9f3a"
             ],
             [
              0.8888888888888888,
              "#fdca26"
             ],
             [
              1,
              "#f0f921"
             ]
            ],
            "type": "histogram2d"
           }
          ],
          "histogram2dcontour": [
           {
            "colorbar": {
             "outlinewidth": 0,
             "ticks": ""
            },
            "colorscale": [
             [
              0,
              "#0d0887"
             ],
             [
              0.1111111111111111,
              "#46039f"
             ],
             [
              0.2222222222222222,
              "#7201a8"
             ],
             [
              0.3333333333333333,
              "#9c179e"
             ],
             [
              0.4444444444444444,
              "#bd3786"
             ],
             [
              0.5555555555555556,
              "#d8576b"
             ],
             [
              0.6666666666666666,
              "#ed7953"
             ],
             [
              0.7777777777777778,
              "#fb9f3a"
             ],
             [
              0.8888888888888888,
              "#fdca26"
             ],
             [
              1,
              "#f0f921"
             ]
            ],
            "type": "histogram2dcontour"
           }
          ],
          "mesh3d": [
           {
            "colorbar": {
             "outlinewidth": 0,
             "ticks": ""
            },
            "type": "mesh3d"
           }
          ],
          "parcoords": [
           {
            "line": {
             "colorbar": {
              "outlinewidth": 0,
              "ticks": ""
             }
            },
            "type": "parcoords"
           }
          ],
          "pie": [
           {
            "automargin": true,
            "type": "pie"
           }
          ],
          "scatter": [
           {
            "marker": {
             "colorbar": {
              "outlinewidth": 0,
              "ticks": ""
             }
            },
            "type": "scatter"
           }
          ],
          "scatter3d": [
           {
            "line": {
             "colorbar": {
              "outlinewidth": 0,
              "ticks": ""
             }
            },
            "marker": {
             "colorbar": {
              "outlinewidth": 0,
              "ticks": ""
             }
            },
            "type": "scatter3d"
           }
          ],
          "scattercarpet": [
           {
            "marker": {
             "colorbar": {
              "outlinewidth": 0,
              "ticks": ""
             }
            },
            "type": "scattercarpet"
           }
          ],
          "scattergeo": [
           {
            "marker": {
             "colorbar": {
              "outlinewidth": 0,
              "ticks": ""
             }
            },
            "type": "scattergeo"
           }
          ],
          "scattergl": [
           {
            "marker": {
             "colorbar": {
              "outlinewidth": 0,
              "ticks": ""
             }
            },
            "type": "scattergl"
           }
          ],
          "scattermapbox": [
           {
            "marker": {
             "colorbar": {
              "outlinewidth": 0,
              "ticks": ""
             }
            },
            "type": "scattermapbox"
           }
          ],
          "scatterpolar": [
           {
            "marker": {
             "colorbar": {
              "outlinewidth": 0,
              "ticks": ""
             }
            },
            "type": "scatterpolar"
           }
          ],
          "scatterpolargl": [
           {
            "marker": {
             "colorbar": {
              "outlinewidth": 0,
              "ticks": ""
             }
            },
            "type": "scatterpolargl"
           }
          ],
          "scatterternary": [
           {
            "marker": {
             "colorbar": {
              "outlinewidth": 0,
              "ticks": ""
             }
            },
            "type": "scatterternary"
           }
          ],
          "surface": [
           {
            "colorbar": {
             "outlinewidth": 0,
             "ticks": ""
            },
            "colorscale": [
             [
              0,
              "#0d0887"
             ],
             [
              0.1111111111111111,
              "#46039f"
             ],
             [
              0.2222222222222222,
              "#7201a8"
             ],
             [
              0.3333333333333333,
              "#9c179e"
             ],
             [
              0.4444444444444444,
              "#bd3786"
             ],
             [
              0.5555555555555556,
              "#d8576b"
             ],
             [
              0.6666666666666666,
              "#ed7953"
             ],
             [
              0.7777777777777778,
              "#fb9f3a"
             ],
             [
              0.8888888888888888,
              "#fdca26"
             ],
             [
              1,
              "#f0f921"
             ]
            ],
            "type": "surface"
           }
          ],
          "table": [
           {
            "cells": {
             "fill": {
              "color": "#EBF0F8"
             },
             "line": {
              "color": "white"
             }
            },
            "header": {
             "fill": {
              "color": "#C8D4E3"
             },
             "line": {
              "color": "white"
             }
            },
            "type": "table"
           }
          ]
         },
         "layout": {
          "annotationdefaults": {
           "arrowcolor": "#2a3f5f",
           "arrowhead": 0,
           "arrowwidth": 1
          },
          "coloraxis": {
           "colorbar": {
            "outlinewidth": 0,
            "ticks": ""
           }
          },
          "colorscale": {
           "diverging": [
            [
             0,
             "#8e0152"
            ],
            [
             0.1,
             "#c51b7d"
            ],
            [
             0.2,
             "#de77ae"
            ],
            [
             0.3,
             "#f1b6da"
            ],
            [
             0.4,
             "#fde0ef"
            ],
            [
             0.5,
             "#f7f7f7"
            ],
            [
             0.6,
             "#e6f5d0"
            ],
            [
             0.7,
             "#b8e186"
            ],
            [
             0.8,
             "#7fbc41"
            ],
            [
             0.9,
             "#4d9221"
            ],
            [
             1,
             "#276419"
            ]
           ],
           "sequential": [
            [
             0,
             "#0d0887"
            ],
            [
             0.1111111111111111,
             "#46039f"
            ],
            [
             0.2222222222222222,
             "#7201a8"
            ],
            [
             0.3333333333333333,
             "#9c179e"
            ],
            [
             0.4444444444444444,
             "#bd3786"
            ],
            [
             0.5555555555555556,
             "#d8576b"
            ],
            [
             0.6666666666666666,
             "#ed7953"
            ],
            [
             0.7777777777777778,
             "#fb9f3a"
            ],
            [
             0.8888888888888888,
             "#fdca26"
            ],
            [
             1,
             "#f0f921"
            ]
           ],
           "sequentialminus": [
            [
             0,
             "#0d0887"
            ],
            [
             0.1111111111111111,
             "#46039f"
            ],
            [
             0.2222222222222222,
             "#7201a8"
            ],
            [
             0.3333333333333333,
             "#9c179e"
            ],
            [
             0.4444444444444444,
             "#bd3786"
            ],
            [
             0.5555555555555556,
             "#d8576b"
            ],
            [
             0.6666666666666666,
             "#ed7953"
            ],
            [
             0.7777777777777778,
             "#fb9f3a"
            ],
            [
             0.8888888888888888,
             "#fdca26"
            ],
            [
             1,
             "#f0f921"
            ]
           ]
          },
          "colorway": [
           "#636efa",
           "#EF553B",
           "#00cc96",
           "#ab63fa",
           "#FFA15A",
           "#19d3f3",
           "#FF6692",
           "#B6E880",
           "#FF97FF",
           "#FECB52"
          ],
          "font": {
           "color": "#2a3f5f"
          },
          "geo": {
           "bgcolor": "white",
           "lakecolor": "white",
           "landcolor": "#E5ECF6",
           "showlakes": true,
           "showland": true,
           "subunitcolor": "white"
          },
          "hoverlabel": {
           "align": "left"
          },
          "hovermode": "closest",
          "mapbox": {
           "style": "light"
          },
          "paper_bgcolor": "white",
          "plot_bgcolor": "#E5ECF6",
          "polar": {
           "angularaxis": {
            "gridcolor": "white",
            "linecolor": "white",
            "ticks": ""
           },
           "bgcolor": "#E5ECF6",
           "radialaxis": {
            "gridcolor": "white",
            "linecolor": "white",
            "ticks": ""
           }
          },
          "scene": {
           "xaxis": {
            "backgroundcolor": "#E5ECF6",
            "gridcolor": "white",
            "gridwidth": 2,
            "linecolor": "white",
            "showbackground": true,
            "ticks": "",
            "zerolinecolor": "white"
           },
           "yaxis": {
            "backgroundcolor": "#E5ECF6",
            "gridcolor": "white",
            "gridwidth": 2,
            "linecolor": "white",
            "showbackground": true,
            "ticks": "",
            "zerolinecolor": "white"
           },
           "zaxis": {
            "backgroundcolor": "#E5ECF6",
            "gridcolor": "white",
            "gridwidth": 2,
            "linecolor": "white",
            "showbackground": true,
            "ticks": "",
            "zerolinecolor": "white"
           }
          },
          "shapedefaults": {
           "line": {
            "color": "#2a3f5f"
           }
          },
          "ternary": {
           "aaxis": {
            "gridcolor": "white",
            "linecolor": "white",
            "ticks": ""
           },
           "baxis": {
            "gridcolor": "white",
            "linecolor": "white",
            "ticks": ""
           },
           "bgcolor": "#E5ECF6",
           "caxis": {
            "gridcolor": "white",
            "linecolor": "white",
            "ticks": ""
           }
          },
          "title": {
           "x": 0.05
          },
          "xaxis": {
           "automargin": true,
           "gridcolor": "white",
           "linecolor": "white",
           "ticks": "",
           "title": {
            "standoff": 15
           },
           "zerolinecolor": "white",
           "zerolinewidth": 2
          },
          "yaxis": {
           "automargin": true,
           "gridcolor": "white",
           "linecolor": "white",
           "ticks": "",
           "title": {
            "standoff": 15
           },
           "zerolinecolor": "white",
           "zerolinewidth": 2
          }
         }
        },
        "title": {
         "text": "Full Horizon"
        }
       }
      },
      "text/html": [
       "<div>\n",
       "        \n",
       "        \n",
       "            <div id=\"bc2a5c9b-241c-4f57-ad66-b6953ea6a849\" class=\"plotly-graph-div\" style=\"height:525px; width:100%;\"></div>\n",
       "            <script type=\"text/javascript\">\n",
       "                require([\"plotly\"], function(Plotly) {\n",
       "                    window.PLOTLYENV=window.PLOTLYENV || {};\n",
       "                    \n",
       "                if (document.getElementById(\"bc2a5c9b-241c-4f57-ad66-b6953ea6a849\")) {\n",
       "                    Plotly.newPlot(\n",
       "                        'bc2a5c9b-241c-4f57-ad66-b6953ea6a849',\n",
       "                        [{\"type\": \"scatter\", \"x\": [0.0, 6.907182978466153e-05, 0.0007597901276312768, 0.007666972931474447, 0.07673880457878113, 0.10000000149011612, 0.15077424049377441, 0.20000000298023224, 0.2537407875061035, 0.30000001192092896, 0.35508084297180176, 0.4000000059604645, 0.45556873083114624, 0.5, 0.5550395846366882, 0.6000000238418579, 0.6537407636642456, 0.699999988079071, 0.7489082217216492, 0.800000011920929, 0.8612475395202637, 0.8999999761581421, 0.9563643336296082, 1.0, 1.0484793186187744, 1.100000023841858, 1.143119215965271, 1.2000000476837158, 1.2392857074737549, 1.2999999523162842, 1.335098385810852, 1.399999976158142, 1.436730980873108, 1.5, 1.5467197895050049, 1.600000023841858, 1.6492208242416382, 1.7000000476837158, 1.7489032745361328, 1.7999999523162842, 1.8469088077545166, 1.899999976158142, 1.9360220432281494, 2.0, 2.056096315383911, 2.0999999046325684, 2.1772658824920654, 2.200000047683716, 2.2866263389587402, 2.299999952316284, 2.3867428302764893, 2.4000000953674316, 2.4861111640930176, 2.5, 2.585488796234131, 2.5999999046325684, 2.6852385997772217, 2.700000047683716, 2.784965991973877, 2.799999952316284, 2.882098436355591, 2.9000000953674316, 2.976029396057129, 3.0, 3.069550037384033, 3.0999999046325684, 3.1637635231018066, 3.200000047683716, 3.257591962814331, 3.299999952316284, 3.344074010848999, 3.4000000953674316, 3.452143907546997, 3.5, 3.5478367805480957, 3.5999999046325684, 3.6417341232299805, 3.700000047683716, 3.7242250442504883, 3.799999952316284, 3.8405823707580566, 3.9000000953674316, 3.932520627975464, 4.0, 4.043355941772461, 4.099999904632568, 4.150106430053711, 4.199999809265137, 4.2547383308410645, 4.300000190734863, 4.358977317810059, 4.400000095367432, 4.463590621948242, 4.5, 4.569361209869385, 4.599999904632568, 4.67816162109375, 4.699999809265137, 4.79710578918457, 4.800000190734863, 4.890904903411865, 4.900000095367432], \"y\": [3.2415926456451416, 3.2415926456451416, 3.241590976715088, 3.241413116455078, 3.224639415740967, 3.2134132385253906, 3.1816842555999756, 3.14433217048645, 3.0990793704986572, 3.059055805206299, 3.012371063232422, 2.976897716522217, 2.93766450881958, 2.911088466644287, 2.884644031524658, 2.8687634468078613, 2.8562405109405518, 2.8507091999053955, 2.8492324352264404, 2.851332902908325, 2.8568735122680664, 2.8612611293792725, 2.8676726818084717, 2.8722774982452393, 2.876695394515991, 2.8804941177368164, 2.8830606937408447, 2.8855748176574707, 2.886899948120117, 2.8880600929260254, 2.8883252143859863, 2.8874752521514893, 2.8862390518188477, 2.8822898864746094, 2.8779423236846924, 2.871472120285034, 2.8644051551818848, 2.8564915657043457, 2.848977565765381, 2.8420238494873047, 2.83720326423645, 2.834263801574707, 2.834153413772583, 2.8379576206207275, 2.8457112312316895, 2.854534387588501, 2.8751277923583984, 2.88230037689209, 2.9126980304718018, 2.9177839756011963, 2.9517505168914795, 2.9570770263671875, 2.9912796020507812, 2.996722936630249, 3.0289175510406494, 3.0341532230377197, 3.0630927085876465, 3.0677857398986816, 3.0928263664245605, 3.0969009399414062, 3.11735200881958, 3.1213927268981934, 3.137085437774658, 3.141512870788574, 3.1531670093536377, 3.1576790809631348, 3.166151523590088, 3.1703524589538574, 3.176250696182251, 3.179975748062134, 3.183346748352051, 3.1869497299194336, 3.189656972885132, 3.1916282176971436, 3.193143367767334, 3.1943249702453613, 3.194920778274536, 3.195321798324585, 3.1953139305114746, 3.194875478744507, 3.1943249702453613, 3.1932213306427, 3.192443370819092, 3.1905786991119385, 3.1891696453094482, 3.187152624130249, 3.1851987838745117, 3.1831343173980713, 3.180748224258423, 3.178701400756836, 3.175959825515747, 3.174015522003174, 3.170973539352417, 3.169222593307495, 3.1659059524536133, 3.1644513607025146, 3.1608104705810547, 3.1598124504089355, 3.1555228233337402, 3.1553988456726074, 3.1516449451446533, 3.1512856483459473]}, {\"type\": \"scatter\", \"x\": [0.0, 6.907182978466153e-05, 0.0007597901276312768, 0.007666972931474447, 0.07673880457878113, 0.10000000149011612, 0.15077424049377441, 0.20000000298023224, 0.2537407875061035, 0.30000001192092896, 0.35508084297180176, 0.4000000059604645, 0.45556873083114624, 0.5, 0.5550395846366882, 0.6000000238418579, 0.6537407636642456, 0.699999988079071, 0.7489082217216492, 0.800000011920929, 0.8612475395202637, 0.8999999761581421, 0.9563643336296082, 1.0, 1.0484793186187744, 1.100000023841858, 1.143119215965271, 1.2000000476837158, 1.2392857074737549, 1.2999999523162842, 1.335098385810852, 1.399999976158142, 1.436730980873108, 1.5, 1.5467197895050049, 1.600000023841858, 1.6492208242416382, 1.7000000476837158, 1.7489032745361328, 1.7999999523162842, 1.8469088077545166, 1.899999976158142, 1.9360220432281494, 2.0, 2.056096315383911, 2.0999999046325684, 2.1772658824920654, 2.200000047683716, 2.2866263389587402, 2.299999952316284, 2.3867428302764893, 2.4000000953674316, 2.4861111640930176, 2.5, 2.585488796234131, 2.5999999046325684, 2.6852385997772217, 2.700000047683716, 2.784965991973877, 2.799999952316284, 2.882098436355591, 2.9000000953674316, 2.976029396057129, 3.0, 3.069550037384033, 3.0999999046325684, 3.1637635231018066, 3.200000047683716, 3.257591962814331, 3.299999952316284, 3.344074010848999, 3.4000000953674316, 3.452143907546997, 3.5, 3.5478367805480957, 3.5999999046325684, 3.6417341232299805, 3.700000047683716, 3.7242250442504883, 3.799999952316284, 3.8405823707580566, 3.9000000953674316, 3.932520627975464, 4.0, 4.043355941772461, 4.099999904632568, 4.150106430053711, 4.199999809265137, 4.2547383308410645, 4.300000190734863, 4.358977317810059, 4.400000095367432, 4.463590621948242, 4.5, 4.569361209869385, 4.599999904632568, 4.67816162109375, 4.699999809265137, 4.79710578918457, 4.800000190734863, 4.890904903411865, 4.900000095367432], \"y\": [0.5, 0.5000000596046448, 0.5000056028366089, 0.5005703568458557, 0.5544285774230957, 0.5908595323562622, 0.6958705186843872, 0.8238397836685181, 0.9860190749168396, 1.138128399848938, 1.3295433521270752, 1.4899574518203735, 1.6910473108291626, 1.851453185081482, 2.0482542514801025, 2.2056756019592285, 2.3888862133026123, 2.5407588481903076, 2.694451093673706, 2.8461005687713623, 3.013901710510254, 3.110738754272461, 3.237757444381714, 3.323314905166626, 3.4043679237365723, 3.4732894897460938, 3.5164284706115723, 3.5528907775878906, 3.5638623237609863, 3.5589418411254883, 3.543684244155884, 3.4937782287597656, 3.4531192779541016, 3.364841938018799, 3.285689115524292, 3.183107852935791, 3.0780138969421387, 2.9609951972961426, 2.8413376808166504, 2.710587739944458, 2.5864675045013428, 2.442723274230957, 2.343714952468872, 2.1668829917907715, 2.0118303298950195, 1.891348958015442, 1.683374047279358, 1.6232913732528687, 1.4019484519958496, 1.368777871131897, 1.1628718376159668, 1.132688045501709, 0.9469318389892578, 0.9185277819633484, 0.7543909549713135, 0.7282604575157166, 0.5853050351142883, 0.5623060464859009, 0.4397648572921753, 0.41978591680526733, 0.3190617263317108, 0.2989676594734192, 0.22027544677257538, 0.19771750271320343, 0.13761278986930847, 0.1138320341706276, 0.06840289384126663, 0.04523183032870293, 0.011893878690898418, -0.0099562369287014, -0.030437856912612915, -0.053390879184007645, -0.07187596708536148, -0.0865333080291748, -0.09912323206663132, -0.11068852990865707, -0.11836499720811844, -0.12703563272953033, -0.12988270819187164, -0.1366550326347351, -0.1388375163078308, -0.14054186642169952, -0.14068196713924408, -0.13962136209011078, -0.13792550563812256, -0.13475549221038818, -0.13107898831367493, -0.12674495577812195, -0.1212957352399826, -0.11632830649614334, -0.10933545231819153, -0.10417923331260681, -0.09583710134029388, -0.09090360254049301, -0.0813249796628952, -0.07703862339258194, -0.06609897315502167, -0.06305179744958878, -0.04973078519105911, -0.04934077337384224, -0.03739186003804207, -0.03623419255018234]}, {\"type\": \"scatter\", \"x\": [0.0, 6.907182978466153e-05, 0.0007597901276312768, 0.007666972931474447, 0.07673880457878113, 0.10000000149011612, 0.15077424049377441, 0.20000000298023224, 0.2537407875061035, 0.30000001192092896, 0.35508084297180176, 0.4000000059604645, 0.45556873083114624, 0.5, 0.5550395846366882, 0.6000000238418579, 0.6537407636642456, 0.699999988079071, 0.7489082217216492, 0.800000011920929, 0.8612475395202637, 0.8999999761581421, 0.9563643336296082, 1.0, 1.0484793186187744, 1.100000023841858, 1.143119215965271, 1.2000000476837158, 1.2392857074737549, 1.2999999523162842, 1.335098385810852, 1.399999976158142, 1.436730980873108, 1.5, 1.5467197895050049, 1.600000023841858, 1.6492208242416382, 1.7000000476837158, 1.7489032745361328, 1.7999999523162842, 1.8469088077545166, 1.899999976158142, 1.9360220432281494, 2.0, 2.056096315383911, 2.0999999046325684, 2.1772658824920654, 2.200000047683716, 2.2866263389587402, 2.299999952316284, 2.3867428302764893, 2.4000000953674316, 2.4861111640930176, 2.5, 2.585488796234131, 2.5999999046325684, 2.6852385997772217, 2.700000047683716, 2.784965991973877, 2.799999952316284, 2.882098436355591, 2.9000000953674316, 2.976029396057129, 3.0, 3.069550037384033, 3.0999999046325684, 3.1637635231018066, 3.200000047683716, 3.257591962814331, 3.299999952316284, 3.344074010848999, 3.4000000953674316, 3.452143907546997, 3.5, 3.5478367805480957, 3.5999999046325684, 3.6417341232299805, 3.700000047683716, 3.7242250442504883, 3.799999952316284, 3.8405823707580566, 3.9000000953674316, 3.932520627975464, 4.0, 4.043355941772461, 4.099999904632568, 4.150106430053711, 4.199999809265137, 4.2547383308410645, 4.300000190734863, 4.358977317810059, 4.400000095367432, 4.463590621948242, 4.5, 4.569361209869385, 4.599999904632568, 4.67816162109375, 4.699999809265137, 4.79710578918457, 4.800000190734863, 4.890904903411865, 4.900000095367432], \"y\": [0.0, -0.00042438856326043606, -0.0046644313260912895, -0.04667861759662628, -0.4265543222427368, -0.5371586680412292, -0.7026146650314331, -0.8055923581123352, -0.8652804493904114, -0.8564446568489075, -0.8254388570785522, -0.7469502687454224, -0.6538231372833252, -0.5372706651687622, -0.4155961573123932, -0.28770211338996887, -0.17427992820739746, -0.06388451159000397, 0.004389647860080004, 0.07776466012001038, 0.10376932471990585, 0.12336947023868561, 0.10661336034536362, 0.1068808063864708, 0.07872370630502701, 0.0733654797077179, 0.04875415563583374, 0.04520982876420021, 0.02453608438372612, 0.018821150064468384, -0.002260784385725856, -0.01935594156384468, -0.04659327119588852, -0.07399722188711166, -0.10952812433242798, -0.12931519746780396, -0.15394453704357147, -0.15291965007781982, -0.1498877853155136, -0.11710769683122635, -0.08468006551265717, -0.021441001445055008, 0.016854077577590942, 0.10657499730587006, 0.17183588445186615, 0.23140652477741241, 0.30364224314689636, 0.3276272416114807, 0.3759673237800598, 0.3847137987613678, 0.40005141496658325, 0.4035615622997284, 0.3923147916793823, 0.39160704612731934, 0.3628101348876953, 0.35884326696395874, 0.32094183564186096, 0.31494244933128357, 0.27456384897232056, 0.2674964368343353, 0.23005537688732147, 0.22134624421596527, 0.1902962327003479, 0.1789838671684265, 0.1547318994998932, 0.14133405685424805, 0.12293974310159683, 0.10841026157140732, 0.09505367279052734, 0.07983715087175369, 0.07227666676044464, 0.05513385683298111, 0.04747259244322777, 0.033831045031547546, 0.028491321951150894, 0.015553937293589115, 0.012250025756657124, 5.698097083950415e-06, -0.0009045593906193972, -0.013045377098023891, -0.014693894423544407, -0.023800959810614586, -0.024395957589149475, -0.032415032386779785, -0.033130545169115067, -0.03903860226273537, -0.03956671431660652, -0.04381142929196358, -0.04398006200790405, -0.04688676819205284, -0.046633921563625336, -0.048428408801555634, -0.04772308096289635, -0.04860768839716911, -0.04741156846284866, -0.047607142478227615, -0.045820824801921844, -0.04560459032654762, -0.04285653308033943, -0.04278432950377464, -0.039681803435087204, -0.03932651877403259]}, {\"type\": \"scatter\", \"x\": [0.0, 6.907182978466153e-05, 0.0007597901276312768, 0.007666972931474447, 0.07673880457878113, 0.10000000149011612, 0.15077424049377441, 0.20000000298023224, 0.2537407875061035, 0.30000001192092896, 0.35508084297180176, 0.4000000059604645, 0.45556873083114624, 0.5, 0.5550395846366882, 0.6000000238418579, 0.6537407636642456, 0.699999988079071, 0.7489082217216492, 0.800000011920929, 0.8612475395202637, 0.8999999761581421, 0.9563643336296082, 1.0, 1.0484793186187744, 1.100000023841858, 1.143119215965271, 1.2000000476837158, 1.2392857074737549, 1.2999999523162842, 1.335098385810852, 1.399999976158142, 1.436730980873108, 1.5, 1.5467197895050049, 1.600000023841858, 1.6492208242416382, 1.7000000476837158, 1.7489032745361328, 1.7999999523162842, 1.8469088077545166, 1.899999976158142, 1.9360220432281494, 2.0, 2.056096315383911, 2.0999999046325684, 2.1772658824920654, 2.200000047683716, 2.2866263389587402, 2.299999952316284, 2.3867428302764893, 2.4000000953674316, 2.4861111640930176, 2.5, 2.585488796234131, 2.5999999046325684, 2.6852385997772217, 2.700000047683716, 2.784965991973877, 2.799999952316284, 2.882098436355591, 2.9000000953674316, 2.976029396057129, 3.0, 3.069550037384033, 3.0999999046325684, 3.1637635231018066, 3.200000047683716, 3.257591962814331, 3.299999952316284, 3.344074010848999, 3.4000000953674316, 3.452143907546997, 3.5, 3.5478367805480957, 3.5999999046325684, 3.6417341232299805, 3.700000047683716, 3.7242250442504883, 3.799999952316284, 3.8405823707580566, 3.9000000953674316, 3.932520627975464, 4.0, 4.043355941772461, 4.099999904632568, 4.150106430053711, 4.199999809265137, 4.2547383308410645, 4.300000190734863, 4.358977317810059, 4.400000095367432, 4.463590621948242, 4.5, 4.569361209869385, 4.599999904632568, 4.67816162109375, 4.699999809265137, 4.79710578918457, 4.800000190734863, 4.890904903411865, 4.900000095367432], \"y\": [0.0, 0.0013472218997776508, 0.014809098094701767, 0.14839138090610504, 1.3789856433868408, 1.7496165037155151, 2.361833095550537, 2.8148741722106934, 3.188918352127075, 3.366736888885498, 3.551840305328369, 3.5727083683013916, 3.6356444358825684, 3.568594217300415, 3.5557336807250977, 3.4303879737854004, 3.362708330154419, 3.185279130935669, 3.078887939453125, 2.834747552871704, 2.6126205921173096, 2.372079849243164, 2.1088144779205322, 1.7968626022338867, 1.52895188331604, 1.1264597177505493, 0.8618384003639221, 0.399079293012619, 0.1507759690284729, -0.33236241340637207, -0.5424419045448303, -1.012418270111084, -1.2057528495788574, -1.5965126752853394, -1.7967641353607178, -2.0599446296691895, -2.2143216133117676, -2.3990256786346436, -2.4979135990142822, -2.624030351638794, -2.6709964275360107, -2.748852252960205, -2.7501864433288574, -2.7854974269866943, -2.7480926513671875, -2.7445812225341797, -2.650207042694092, -2.636725902557373, -2.487849473953247, -2.473130941390991, -2.2874343395233154, -2.2664947509765625, -2.058737277984619, -2.031782865524292, -1.8165013790130615, -1.7851980924606323, -1.574623703956604, -1.5416754484176636, -1.3454835414886475, -1.312422513961792, -1.1412256956100464, -1.1036863327026367, -0.9643108248710632, -0.9175592660903931, -0.8077573776245117, -0.753524124622345, -0.6679573059082031, -0.6096893548965454, -0.544740617275238, -0.4837975800037384, -0.44352149963378906, -0.3737228214740753, -0.3322274684906006, -0.2776208519935608, -0.24619325995445251, -0.19405068457126617, -0.17194600403308868, -0.12186849862337112, -0.11258891969919205, -0.060155414044857025, -0.04587114229798317, -0.008100614883005619, 0.0003613546723499894, 0.03496473655104637, 0.04462239146232605, 0.06969447433948517, 0.0785875990986824, 0.09670871496200562, 0.10388503223657608, 0.11666087806224823, 0.12182344496250153, 0.13022905588150024, 0.13327521085739136, 0.1381065398454666, 0.13896113634109497, 0.14100997149944305, 0.13947169482707977, 0.13963530957698822, 0.13482223451137543, 0.1346864402294159, 0.12771181762218475, 0.12684576213359833]}],\n",
       "                        {\"template\": {\"data\": {\"bar\": [{\"error_x\": {\"color\": \"#2a3f5f\"}, \"error_y\": {\"color\": \"#2a3f5f\"}, \"marker\": {\"line\": {\"color\": \"#E5ECF6\", \"width\": 0.5}}, \"type\": \"bar\"}], \"barpolar\": [{\"marker\": {\"line\": {\"color\": \"#E5ECF6\", \"width\": 0.5}}, \"type\": \"barpolar\"}], \"carpet\": [{\"aaxis\": {\"endlinecolor\": \"#2a3f5f\", \"gridcolor\": \"white\", \"linecolor\": \"white\", \"minorgridcolor\": \"white\", \"startlinecolor\": \"#2a3f5f\"}, \"baxis\": {\"endlinecolor\": \"#2a3f5f\", \"gridcolor\": \"white\", \"linecolor\": \"white\", \"minorgridcolor\": \"white\", \"startlinecolor\": \"#2a3f5f\"}, \"type\": \"carpet\"}], \"choropleth\": [{\"colorbar\": {\"outlinewidth\": 0, \"ticks\": \"\"}, \"type\": \"choropleth\"}], \"contour\": [{\"colorbar\": {\"outlinewidth\": 0, \"ticks\": \"\"}, \"colorscale\": [[0.0, \"#0d0887\"], [0.1111111111111111, \"#46039f\"], [0.2222222222222222, \"#7201a8\"], [0.3333333333333333, \"#9c179e\"], [0.4444444444444444, \"#bd3786\"], [0.5555555555555556, \"#d8576b\"], [0.6666666666666666, \"#ed7953\"], [0.7777777777777778, \"#fb9f3a\"], [0.8888888888888888, \"#fdca26\"], [1.0, \"#f0f921\"]], \"type\": \"contour\"}], \"contourcarpet\": [{\"colorbar\": {\"outlinewidth\": 0, \"ticks\": \"\"}, \"type\": \"contourcarpet\"}], \"heatmap\": [{\"colorbar\": {\"outlinewidth\": 0, \"ticks\": \"\"}, \"colorscale\": [[0.0, \"#0d0887\"], [0.1111111111111111, \"#46039f\"], [0.2222222222222222, \"#7201a8\"], [0.3333333333333333, \"#9c179e\"], [0.4444444444444444, \"#bd3786\"], [0.5555555555555556, \"#d8576b\"], [0.6666666666666666, \"#ed7953\"], [0.7777777777777778, \"#fb9f3a\"], [0.8888888888888888, \"#fdca26\"], [1.0, \"#f0f921\"]], \"type\": \"heatmap\"}], \"heatmapgl\": [{\"colorbar\": {\"outlinewidth\": 0, \"ticks\": \"\"}, \"colorscale\": [[0.0, \"#0d0887\"], [0.1111111111111111, \"#46039f\"], [0.2222222222222222, \"#7201a8\"], [0.3333333333333333, \"#9c179e\"], [0.4444444444444444, \"#bd3786\"], [0.5555555555555556, \"#d8576b\"], [0.6666666666666666, \"#ed7953\"], [0.7777777777777778, \"#fb9f3a\"], [0.8888888888888888, \"#fdca26\"], [1.0, \"#f0f921\"]], \"type\": \"heatmapgl\"}], \"histogram\": [{\"marker\": {\"colorbar\": {\"outlinewidth\": 0, \"ticks\": \"\"}}, \"type\": \"histogram\"}], \"histogram2d\": [{\"colorbar\": {\"outlinewidth\": 0, \"ticks\": \"\"}, \"colorscale\": [[0.0, \"#0d0887\"], [0.1111111111111111, \"#46039f\"], [0.2222222222222222, \"#7201a8\"], [0.3333333333333333, \"#9c179e\"], [0.4444444444444444, \"#bd3786\"], [0.5555555555555556, \"#d8576b\"], [0.6666666666666666, \"#ed7953\"], [0.7777777777777778, \"#fb9f3a\"], [0.8888888888888888, \"#fdca26\"], [1.0, \"#f0f921\"]], \"type\": \"histogram2d\"}], \"histogram2dcontour\": [{\"colorbar\": {\"outlinewidth\": 0, \"ticks\": \"\"}, \"colorscale\": [[0.0, \"#0d0887\"], [0.1111111111111111, \"#46039f\"], [0.2222222222222222, \"#7201a8\"], [0.3333333333333333, \"#9c179e\"], [0.4444444444444444, \"#bd3786\"], [0.5555555555555556, \"#d8576b\"], [0.6666666666666666, \"#ed7953\"], [0.7777777777777778, \"#fb9f3a\"], [0.8888888888888888, \"#fdca26\"], [1.0, \"#f0f921\"]], \"type\": \"histogram2dcontour\"}], \"mesh3d\": [{\"colorbar\": {\"outlinewidth\": 0, \"ticks\": \"\"}, \"type\": \"mesh3d\"}], \"parcoords\": [{\"line\": {\"colorbar\": {\"outlinewidth\": 0, \"ticks\": \"\"}}, \"type\": \"parcoords\"}], \"pie\": [{\"automargin\": true, \"type\": \"pie\"}], \"scatter\": [{\"marker\": {\"colorbar\": {\"outlinewidth\": 0, \"ticks\": \"\"}}, \"type\": \"scatter\"}], \"scatter3d\": [{\"line\": {\"colorbar\": {\"outlinewidth\": 0, \"ticks\": \"\"}}, \"marker\": {\"colorbar\": {\"outlinewidth\": 0, \"ticks\": \"\"}}, \"type\": \"scatter3d\"}], \"scattercarpet\": [{\"marker\": {\"colorbar\": {\"outlinewidth\": 0, \"ticks\": \"\"}}, \"type\": \"scattercarpet\"}], \"scattergeo\": [{\"marker\": {\"colorbar\": {\"outlinewidth\": 0, \"ticks\": \"\"}}, \"type\": \"scattergeo\"}], \"scattergl\": [{\"marker\": {\"colorbar\": {\"outlinewidth\": 0, \"ticks\": \"\"}}, \"type\": \"scattergl\"}], \"scattermapbox\": [{\"marker\": {\"colorbar\": {\"outlinewidth\": 0, \"ticks\": \"\"}}, \"type\": \"scattermapbox\"}], \"scatterpolar\": [{\"marker\": {\"colorbar\": {\"outlinewidth\": 0, \"ticks\": \"\"}}, \"type\": \"scatterpolar\"}], \"scatterpolargl\": [{\"marker\": {\"colorbar\": {\"outlinewidth\": 0, \"ticks\": \"\"}}, \"type\": \"scatterpolargl\"}], \"scatterternary\": [{\"marker\": {\"colorbar\": {\"outlinewidth\": 0, \"ticks\": \"\"}}, \"type\": \"scatterternary\"}], \"surface\": [{\"colorbar\": {\"outlinewidth\": 0, \"ticks\": \"\"}, \"colorscale\": [[0.0, \"#0d0887\"], [0.1111111111111111, \"#46039f\"], [0.2222222222222222, \"#7201a8\"], [0.3333333333333333, \"#9c179e\"], [0.4444444444444444, \"#bd3786\"], [0.5555555555555556, \"#d8576b\"], [0.6666666666666666, \"#ed7953\"], [0.7777777777777778, \"#fb9f3a\"], [0.8888888888888888, \"#fdca26\"], [1.0, \"#f0f921\"]], \"type\": \"surface\"}], \"table\": [{\"cells\": {\"fill\": {\"color\": \"#EBF0F8\"}, \"line\": {\"color\": \"white\"}}, \"header\": {\"fill\": {\"color\": \"#C8D4E3\"}, \"line\": {\"color\": \"white\"}}, \"type\": \"table\"}]}, \"layout\": {\"annotationdefaults\": {\"arrowcolor\": \"#2a3f5f\", \"arrowhead\": 0, \"arrowwidth\": 1}, \"coloraxis\": {\"colorbar\": {\"outlinewidth\": 0, \"ticks\": \"\"}}, \"colorscale\": {\"diverging\": [[0, \"#8e0152\"], [0.1, \"#c51b7d\"], [0.2, \"#de77ae\"], [0.3, \"#f1b6da\"], [0.4, \"#fde0ef\"], [0.5, \"#f7f7f7\"], [0.6, \"#e6f5d0\"], [0.7, \"#b8e186\"], [0.8, \"#7fbc41\"], [0.9, \"#4d9221\"], [1, \"#276419\"]], \"sequential\": [[0.0, \"#0d0887\"], [0.1111111111111111, \"#46039f\"], [0.2222222222222222, \"#7201a8\"], [0.3333333333333333, \"#9c179e\"], [0.4444444444444444, \"#bd3786\"], [0.5555555555555556, \"#d8576b\"], [0.6666666666666666, \"#ed7953\"], [0.7777777777777778, \"#fb9f3a\"], [0.8888888888888888, \"#fdca26\"], [1.0, \"#f0f921\"]], \"sequentialminus\": [[0.0, \"#0d0887\"], [0.1111111111111111, \"#46039f\"], [0.2222222222222222, \"#7201a8\"], [0.3333333333333333, \"#9c179e\"], [0.4444444444444444, \"#bd3786\"], [0.5555555555555556, \"#d8576b\"], [0.6666666666666666, \"#ed7953\"], [0.7777777777777778, \"#fb9f3a\"], [0.8888888888888888, \"#fdca26\"], [1.0, \"#f0f921\"]]}, \"colorway\": [\"#636efa\", \"#EF553B\", \"#00cc96\", \"#ab63fa\", \"#FFA15A\", \"#19d3f3\", \"#FF6692\", \"#B6E880\", \"#FF97FF\", \"#FECB52\"], \"font\": {\"color\": \"#2a3f5f\"}, \"geo\": {\"bgcolor\": \"white\", \"lakecolor\": \"white\", \"landcolor\": \"#E5ECF6\", \"showlakes\": true, \"showland\": true, \"subunitcolor\": \"white\"}, \"hoverlabel\": {\"align\": \"left\"}, \"hovermode\": \"closest\", \"mapbox\": {\"style\": \"light\"}, \"paper_bgcolor\": \"white\", \"plot_bgcolor\": \"#E5ECF6\", \"polar\": {\"angularaxis\": {\"gridcolor\": \"white\", \"linecolor\": \"white\", \"ticks\": \"\"}, \"bgcolor\": \"#E5ECF6\", \"radialaxis\": {\"gridcolor\": \"white\", \"linecolor\": \"white\", \"ticks\": \"\"}}, \"scene\": {\"xaxis\": {\"backgroundcolor\": \"#E5ECF6\", \"gridcolor\": \"white\", \"gridwidth\": 2, \"linecolor\": \"white\", \"showbackground\": true, \"ticks\": \"\", \"zerolinecolor\": \"white\"}, \"yaxis\": {\"backgroundcolor\": \"#E5ECF6\", \"gridcolor\": \"white\", \"gridwidth\": 2, \"linecolor\": \"white\", \"showbackground\": true, \"ticks\": \"\", \"zerolinecolor\": \"white\"}, \"zaxis\": {\"backgroundcolor\": \"#E5ECF6\", \"gridcolor\": \"white\", \"gridwidth\": 2, \"linecolor\": \"white\", \"showbackground\": true, \"ticks\": \"\", \"zerolinecolor\": \"white\"}}, \"shapedefaults\": {\"line\": {\"color\": \"#2a3f5f\"}}, \"ternary\": {\"aaxis\": {\"gridcolor\": \"white\", \"linecolor\": \"white\", \"ticks\": \"\"}, \"baxis\": {\"gridcolor\": \"white\", \"linecolor\": \"white\", \"ticks\": \"\"}, \"bgcolor\": \"#E5ECF6\", \"caxis\": {\"gridcolor\": \"white\", \"linecolor\": \"white\", \"ticks\": \"\"}}, \"title\": {\"x\": 0.05}, \"xaxis\": {\"automargin\": true, \"gridcolor\": \"white\", \"linecolor\": \"white\", \"ticks\": \"\", \"title\": {\"standoff\": 15}, \"zerolinecolor\": \"white\", \"zerolinewidth\": 2}, \"yaxis\": {\"automargin\": true, \"gridcolor\": \"white\", \"linecolor\": \"white\", \"ticks\": \"\", \"title\": {\"standoff\": 15}, \"zerolinecolor\": \"white\", \"zerolinewidth\": 2}}}, \"title\": {\"text\": \"Full Horizon\"}},\n",
       "                        {\"responsive\": true}\n",
       "                    ).then(function(){\n",
       "                            \n",
       "var gd = document.getElementById('bc2a5c9b-241c-4f57-ad66-b6953ea6a849');\n",
       "var x = new MutationObserver(function (mutations, observer) {{\n",
       "        var display = window.getComputedStyle(gd).display;\n",
       "        if (!display || display === 'none') {{\n",
       "            console.log([gd, 'removed!']);\n",
       "            Plotly.purge(gd);\n",
       "            observer.disconnect();\n",
       "        }}\n",
       "}});\n",
       "\n",
       "// Listen for the removal of the full notebook cells\n",
       "var notebookContainer = gd.closest('#notebook-container');\n",
       "if (notebookContainer) {{\n",
       "    x.observe(notebookContainer, {childList: true});\n",
       "}}\n",
       "\n",
       "// Listen for the clearing of the current output cell\n",
       "var outputEl = gd.closest('.output');\n",
       "if (outputEl) {{\n",
       "    x.observe(outputEl, {childList: true});\n",
       "}}\n",
       "\n",
       "                        })\n",
       "                };\n",
       "                });\n",
       "            </script>\n",
       "        </div>"
      ]
     },
     "metadata": {},
     "output_type": "display_data"
    }
   ],
   "source": [
    "# ctrl, S = controllers.get_lqr_controller(sys.dx,\n",
    "#                                          opt['x_nom'], opt['u_nom'],\n",
    "#                                          opt['lqr_Q'], opt['lqr_R'],\n",
    "#                                          vf.u_lo[0], vf.u_up[0])\n",
    "ctrl = controllers.get_limited_lookahead_controller(opt['sys_utils'].get_value_function(opt['offline_horizon'],\n",
    "                                                                                        opt['offline_dt'],\n",
    "                                                                                        dtype=opt['dtype'])[0])\n",
    "x_traj_sim, t_traj_sim = controllers.sim_ctrl(opt['sim_x0'], vf.u_dim[0], sys.dx, ctrl,\n",
    "                                              opt['sim_dt'], opt['sim_horizon'],\n",
    "                                              opt['control_interp'])\n",
    "controllers.plot_sim(t_traj_sim, x_traj_sim, \"Full Horizon\").show()"
   ]
  },
  {
   "cell_type": "code",
   "execution_count": 8,
   "metadata": {},
   "outputs": [],
   "source": [
    "samples_gen_rand = samples_generator.RandomSampleGenerator(vf, opt['x0_lo'], opt['x0_up'])\n",
    "samples_gen_grid = samples_generator.GridSampleGenerator(vf, opt['x0_lo'], opt['x0_up'])\n",
    "samples_gen_adv = samples_generator.AdversarialSampleGenerator(vf, opt['x0_lo'], opt['x0_up'], \n",
    "                                                               max_iter=opt['adv_max_iter'],\n",
    "                                                               conv_tol=opt['adv_conv_tol'],\n",
    "                                                               learning_rate=opt['adv_learning_rate'])"
   ]
  },
  {
   "cell_type": "code",
   "execution_count": 9,
   "metadata": {},
   "outputs": [
    {
     "name": "stdout",
     "output_type": "stream",
     "text": [
      "Progress: [########################################] 98.8%\n"
     ]
    }
   ],
   "source": [
    "if isinstance(opt['num_samples_validation'], list):\n",
    "    x_validation, v_validation, u_validation = samples_gen_grid.generate_samples(opt['num_samples_validation'],\n",
    "                                                                                 include_time=True,\n",
    "                                                                                 show_progress=True)\n",
    "elif isinstance(opt['num_samples_validation'], float):\n",
    "    x_validation, v_validation, u_validation = samples_gen_rand.generate_samples(opt['num_samples_validation'],\n",
    "                                                                                 include_time=True,\n",
    "                                                                                 show_progress=True)"
   ]
  },
  {
   "cell_type": "code",
   "execution_count": 10,
   "metadata": {},
   "outputs": [],
   "source": [
    "torch.save(x_validation, opt['validation_file'] + '_x.pt')\n",
    "torch.save(v_validation, opt['validation_file'] + '_v.pt')\n",
    "torch.save(u_validation, opt['validation_file'] + '_u.pt')"
   ]
  },
  {
   "cell_type": "code",
   "execution_count": 11,
   "metadata": {},
   "outputs": [],
   "source": [
    "x_validation = torch.load(opt['validation_file'] + '_x.pt')\n",
    "v_validation = torch.load(opt['validation_file'] + '_v.pt')\n",
    "u_validation = torch.load(opt['validation_file'] + '_u.pt')"
   ]
  },
  {
   "cell_type": "code",
   "execution_count": 12,
   "metadata": {},
   "outputs": [
    {
     "name": "stdout",
     "output_type": "stream",
     "text": [
      "Progress: [########################################] 100.0%\n"
     ]
    }
   ],
   "source": [
    "if isinstance(opt['init_num_samples'], list):\n",
    "    x_init, v_init, u_init = samples_gen_grid.generate_samples(opt['init_num_samples'],\n",
    "                                                               include_time=True,\n",
    "                                                               show_progress=True)\n",
    "elif isinstance(opt['init_num_samples'], float):\n",
    "    x_init, v_init, u_init = samples_gen_rand.generate_samples(opt['init_num_samples'],\n",
    "                                                               include_time=True,\n",
    "                                                               show_progress=True)"
   ]
  },
  {
   "cell_type": "code",
   "execution_count": 13,
   "metadata": {},
   "outputs": [],
   "source": [
    "torch.save(x_init, opt['init_file'] + '_x.pt')\n",
    "torch.save(v_init, opt['init_file'] + '_v.pt')\n",
    "torch.save(u_init, opt['init_file'] + '_u.pt')"
   ]
  },
  {
   "cell_type": "code",
   "execution_count": 14,
   "metadata": {},
   "outputs": [],
   "source": [
    "x_init = torch.load(opt['init_file'] + '_x.pt')\n",
    "v_init = torch.load(opt['init_file'] + '_v.pt')\n",
    "u_init = torch.load(opt['init_file'] + '_u.pt')"
   ]
  },
  {
   "cell_type": "code",
   "execution_count": 69,
   "metadata": {},
   "outputs": [],
   "source": [
    "vf_model = value_approximation.NeuralNetworkModel(vf.dtype,\n",
    "                                                  1 + vf.x_dim[0],\n",
    "                                                  opt['nn_width_value'],\n",
    "                                                  opt['nn_depth_value'])\n",
    "vf_approx = value_approximation.FunctionApproximation(vf_model,\n",
    "                                                      learning_rate=opt['learning_rate_value'])\n",
    "vf_log = training_log.TrainingLog(prefix=\"value_baseline\")\n",
    "\n",
    "policy_model = value_approximation.NeuralNetworkModel(vf.dtype,\n",
    "                                                      1 + vf.x_dim[0],\n",
    "                                                      opt['nn_width_policy'],\n",
    "                                                      opt['nn_depth_policy'],\n",
    "                                                      dim_out=vf.u_dim[0])\n",
    "policy_approx = value_approximation.FunctionApproximation(policy_model,\n",
    "                                                          learning_rate=opt['learning_rate_policy'])\n",
    "policy_log = training_log.TrainingLog(prefix=\"policy_baseline\")"
   ]
  },
  {
   "cell_type": "code",
   "execution_count": 16,
   "metadata": {},
   "outputs": [],
   "source": [
    "samples_buff = samples_buffer.SamplesBuffer(1 + vf.x_dim[0],\n",
    "                                            1,\n",
    "                                            vf.u_dim[0],\n",
    "                                            vf.dtype,\n",
    "                                            max_size=opt['max_buffer_size'])"
   ]
  },
  {
   "cell_type": "code",
   "execution_count": 17,
   "metadata": {},
   "outputs": [],
   "source": [
    "samples_buff.add_samples(x_init, v_init, u_init)"
   ]
  },
  {
   "cell_type": "code",
   "execution_count": 18,
   "metadata": {},
   "outputs": [],
   "source": [
    "for train_step_i in range(opt['init_num_trainig_step']):\n",
    "    x, v, u = samples_buff.get_random_samples(opt['batch_size'])\n",
    "    \n",
    "    loss = vf_approx.train_step(x, v)\n",
    "    vf_log.add_train_loss(loss)\n",
    "    \n",
    "    loss = policy_approx.train_step(x, u)\n",
    "    policy_log.add_train_loss(loss)"
   ]
  },
  {
   "cell_type": "code",
   "execution_count": 19,
   "metadata": {},
   "outputs": [],
   "source": [
    "samples_buff_adv = copy.deepcopy(samples_buff)\n",
    "vf_approx_adv = copy.deepcopy(vf_approx)\n",
    "vf_log_adv = training_log.TrainingLog.get_copy(vf_log,\n",
    "                                               prefix=\"value_adversarial\",\n",
    "                                               keep_writer=True)\n",
    "\n",
    "policy_approx_adv = copy.deepcopy(policy_approx)\n",
    "policy_log_adv = training_log.TrainingLog.get_copy(policy_log,\n",
    "                                                   prefix=\"policy_adversarial\",\n",
    "                                                   keep_writer=True)"
   ]
  },
  {
   "cell_type": "code",
   "execution_count": 84,
   "metadata": {},
   "outputs": [],
   "source": [
    "# random samples\n",
    "loss = vf_approx.validation_loss(x_validation, v_validation)\n",
    "vf_log.add_validation_loss(loss)\n",
    "loss = policy_approx.validation_loss(x_validation, u_validation)\n",
    "policy_log.add_validation_loss(loss)\n",
    "\n",
    "for gen_i in range(opt['num_generations']):\n",
    "\n",
    "#     (x, v, u) = samples_gen_rand.generate_samples(opt['num_samples_per_generation'], include_time=True)\n",
    "#     samples_buff.add_samples(x, v, u)\n",
    "    \n",
    "    for train_step_i in range(opt['num_train_step_per_gen']):\n",
    "        samples_indices = samples_buff.get_random_sample_indices(opt['batch_size'])\n",
    "        x, v, u = samples_buff.get_samples_from_indices(samples_indices)\n",
    "    \n",
    "        loss = vf_approx.train_step(x, v)\n",
    "        vf_log.add_train_loss(loss)\n",
    "\n",
    "        loss = policy_approx.train_step(x, u)\n",
    "        policy_log.add_train_loss(loss)\n",
    "    \n",
    "    loss = vf_approx.validation_loss(x_validation, v_validation)\n",
    "    vf_log.add_validation_loss(loss)\n",
    "    loss = policy_approx.validation_loss(x_validation, u_validation)\n",
    "    policy_log.add_validation_loss(loss)"
   ]
  },
  {
   "cell_type": "code",
   "execution_count": 85,
   "metadata": {},
   "outputs": [],
   "source": [
    "# adverserial samples\n",
    "loss = vf_approx_adv.validation_loss(x_validation, v_validation)\n",
    "vf_log_adv.add_validation_loss(loss)\n",
    "loss = policy_approx_adv.validation_loss(x_validation, u_validation)\n",
    "policy_log_adv.add_validation_loss(loss)\n",
    "\n",
    "for gen_i in range(opt['num_generations']):\n",
    "\n",
    "#     (x, v, u) = samples_gen_adv.generate_samples(opt['num_samples_per_generation'], vf_approx_adv, include_time=True)\n",
    "#     samples_buff_adv.add_samples(x, v, u)\n",
    "    \n",
    "    for train_step_i in range(opt['num_train_step_per_gen']):\n",
    "        samples_indices = samples_buff_adv.get_random_sample_indices(opt['batch_size'])\n",
    "        x, v, u = samples_buff_adv.get_samples_from_indices(samples_indices)\n",
    "    \n",
    "        loss = vf_approx_adv.train_step(x, v)\n",
    "        vf_log_adv.add_train_loss(loss)\n",
    "\n",
    "        loss = policy_approx_adv.train_step(x, u)\n",
    "        policy_log_adv.add_train_loss(loss)\n",
    "    \n",
    "    loss = vf_approx_adv.validation_loss(x_validation, v_validation)\n",
    "    vf_log_adv.add_validation_loss(loss)\n",
    "    loss = policy_approx_adv.validation_loss(x_validation, u_validation)\n",
    "    policy_log_adv.add_validation_loss(loss)"
   ]
  },
  {
   "cell_type": "code",
   "execution_count": 22,
   "metadata": {},
   "outputs": [
    {
     "data": {
      "application/vnd.plotly.v1+json": {
       "config": {
        "plotlyServerURL": "https://plot.ly"
       },
       "data": [
        {
         "type": "scatter",
         "x": [
          0,
          0.06256778538227081,
          0.10000000149011612,
          0.15377287566661835,
          0.20000000298023224,
          0.24105755984783173,
          0.30000001192092896,
          0.334824800491333,
          0.4000000059604645,
          0.4428275227546692,
          0.5,
          0.5464453101158142,
          0.6000000238418579,
          0.6489201188087463,
          0.699999988079071,
          0.7501579523086548,
          0.800000011920929,
          0.8503641486167908,
          0.8999999761581421,
          0.9504396319389343,
          1,
          1.0505244731903076,
          1.100000023841858,
          1.1487845182418823,
          1.2000000476837158,
          1.2484354972839355,
          1.2999999523162842,
          1.351541519165039,
          1.399999976158142,
          1.453210473060608,
          1.5,
          1.5536366701126099,
          1.600000023841858,
          1.6531704664230347,
          1.7000000476837158,
          1.7521859407424927,
          1.7999999523162842,
          1.8509598970413208,
          1.899999976158142,
          1.949620246887207,
          2,
          2.048161268234253,
          2.0999999046325684,
          2.146430015563965,
          2.200000047683716,
          2.2437024116516113,
          2.299999952316284,
          2.3274006843566895,
          2.4000000953674316,
          2.441025733947754,
          2.5,
          2.5421624183654785,
          2.5999999046325684,
          2.6415276527404785,
          2.700000047683716,
          2.741055965423584,
          2.799999952316284,
          2.841010093688965,
          2.9000000953674316,
          2.9411227703094482,
          3,
          3.0407989025115967,
          3.0999999046325684,
          3.1392343044281006,
          3.200000047683716,
          3.2291347980499268,
          3.299999952316284,
          3.358802556991577,
          3.4000000953674316,
          3.4695212841033936,
          3.5,
          3.5653300285339355,
          3.5999999046325684,
          3.662445306777954,
          3.700000047683716,
          3.7591207027435303,
          3.799999952316284,
          3.8566648960113525,
          3.9000000953674316,
          3.9558749198913574,
          4,
          4.05513334274292,
          4.099999904632568,
          4.1550092697143555,
          4.199999809265137,
          4.258514881134033,
          4.300000190734863,
          4.355954170227051,
          4.400000095367432,
          4.448292255401611,
          4.5,
          4.536850929260254,
          4.599999904632568,
          4.633112907409668,
          4.699999809265137,
          4.739657878875732,
          4.800000190734863,
          4.841698169708252,
          4.900000095367432
         ],
         "y": [
          3.3915927410125732,
          3.461798906326294,
          3.511117935180664,
          3.59208607673645,
          3.671388626098633,
          3.7497470378875732,
          3.8756442070007324,
          3.9577536582946777,
          4.127627849578857,
          4.251107215881348,
          4.431161880493164,
          4.590431213378906,
          4.78856086730957,
          4.982617378234863,
          5.19764518737793,
          5.419432640075684,
          5.648158073425293,
          5.884689807891846,
          6.120041847229004,
          6.35768985748291,
          6.586516380310059,
          6.811600208282471,
          7.021693229675293,
          7.216837406158447,
          7.407854080200195,
          7.574737548828125,
          7.7377824783325195,
          7.885921478271484,
          8.012354850769043,
          8.137548446655273,
          8.236695289611816,
          8.338557243347168,
          8.417302131652832,
          8.497720718383789,
          8.560575485229492,
          8.622444152832031,
          8.672243118286133,
          8.718581199645996,
          8.75717830657959,
          8.790660858154297,
          8.819371223449707,
          8.842168807983398,
          8.861948013305664,
          8.875733375549316,
          8.887203216552734,
          8.893240928649902,
          8.896627426147461,
          8.896660804748535,
          8.89090347290039,
          8.8842191696167,
          8.869892120361328,
          8.856285095214844,
          8.832588195800781,
          8.811945915222168,
          8.77710247039795,
          8.748515129089355,
          8.700733184814453,
          8.662681579589844,
          8.60014533996582,
          8.550952911376953,
          8.471590995788574,
          8.41023063659668,
          8.310924530029297,
          8.238210678100586,
          8.113653182983398,
          8.048746109008789,
          7.875760078430176,
          7.716170310974121,
          7.595735549926758,
          7.377997398376465,
          7.277308940887451,
          7.053605556488037,
          6.931557655334473,
          6.709527969360352,
          6.576040267944336,
          6.368992328643799,
          6.229109764099121,
          6.041056156158447,
          5.90195894241333,
          5.728582382202148,
          5.5960211753845215,
          5.435605049133301,
          5.309333324432373,
          5.160338401794434,
          5.0438032150268555,
          4.900643348693848,
          4.805469512939453,
          4.686448097229004,
          4.600656032562256,
          4.515035629272461,
          4.4333624839782715,
          4.381457328796387,
          4.305012226104736,
          4.271010398864746,
          4.215440273284912,
          4.190468788146973,
          4.164074897766113,
          4.153850555419922,
          4.150840759277344
         ]
        },
        {
         "type": "scatter",
         "x": [
          0,
          0.06256778538227081,
          0.10000000149011612,
          0.15377287566661835,
          0.20000000298023224,
          0.24105755984783173,
          0.30000001192092896,
          0.334824800491333,
          0.4000000059604645,
          0.4428275227546692,
          0.5,
          0.5464453101158142,
          0.6000000238418579,
          0.6489201188087463,
          0.699999988079071,
          0.7501579523086548,
          0.800000011920929,
          0.8503641486167908,
          0.8999999761581421,
          0.9504396319389343,
          1,
          1.0505244731903076,
          1.100000023841858,
          1.1487845182418823,
          1.2000000476837158,
          1.2484354972839355,
          1.2999999523162842,
          1.351541519165039,
          1.399999976158142,
          1.453210473060608,
          1.5,
          1.5536366701126099,
          1.600000023841858,
          1.6531704664230347,
          1.7000000476837158,
          1.7521859407424927,
          1.7999999523162842,
          1.8509598970413208,
          1.899999976158142,
          1.949620246887207,
          2,
          2.048161268234253,
          2.0999999046325684,
          2.146430015563965,
          2.200000047683716,
          2.2437024116516113,
          2.299999952316284,
          2.3274006843566895,
          2.4000000953674316,
          2.441025733947754,
          2.5,
          2.5421624183654785,
          2.5999999046325684,
          2.6415276527404785,
          2.700000047683716,
          2.741055965423584,
          2.799999952316284,
          2.841010093688965,
          2.9000000953674316,
          2.9411227703094482,
          3,
          3.0407989025115967,
          3.0999999046325684,
          3.1392343044281006,
          3.200000047683716,
          3.2291347980499268,
          3.299999952316284,
          3.358802556991577,
          3.4000000953674316,
          3.4695212841033936,
          3.5,
          3.5653300285339355,
          3.5999999046325684,
          3.662445306777954,
          3.700000047683716,
          3.7591207027435303,
          3.799999952316284,
          3.8566648960113525,
          3.9000000953674316,
          3.9558749198913574,
          4,
          4.05513334274292,
          4.099999904632568,
          4.1550092697143555,
          4.199999809265137,
          4.258514881134033,
          4.300000190734863,
          4.355954170227051,
          4.400000095367432,
          4.448292255401611,
          4.5,
          4.536850929260254,
          4.599999904632568,
          4.633112907409668,
          4.699999809265137,
          4.739657878875732,
          4.800000190734863,
          4.841698169708252,
          4.900000095367432
         ],
         "y": [
          0.5,
          0.5530350804328918,
          0.5765430331230164,
          0.6000569462776184,
          0.6118948459625244,
          0.6162367463111877,
          0.6137409210205078,
          0.6078751683235168,
          0.5887212157249451,
          0.5709697604179382,
          0.5410455465316772,
          0.5117930769920349,
          0.4725179374217987,
          0.4319351315498352,
          0.3851156532764435,
          0.3361490070819855,
          0.2858572006225586,
          0.23614975810050964,
          0.19031913578510284,
          0.15029281377792358,
          0.11902663111686707,
          0.0976705253124237,
          0.08710838854312897,
          0.08711089193820953,
          0.09673187881708145,
          0.11397401988506317,
          0.13893325626850128,
          0.16923999786376953,
          0.20088018476963043,
          0.23805835843086243,
          0.27167126536369324,
          0.31075939536094666,
          0.3442719578742981,
          0.3822953701019287,
          0.41494429111480713,
          0.4504927396774292,
          0.4819861054420471,
          0.5145455002784729,
          0.544712483882904,
          0.5741583704948425,
          0.6028575301170349,
          0.629176139831543,
          0.6562951803207397,
          0.6794407963752747,
          0.7049381732940674,
          0.7245933413505554,
          0.7487497329711914,
          0.759631872177124,
          0.7878168225288391,
          0.8023990988731384,
          0.8224517107009888,
          0.835740327835083,
          0.8532768487930298,
          0.8650186657905579,
          0.8811822533607483,
          0.8918339610099792,
          0.9069861769676208,
          0.9168486595153809,
          0.9307709336280823,
          0.9395596981048584,
          0.9513065218925476,
          0.9580841660499573,
          0.9663670063018799,
          0.9700802564620972,
          0.9736245274543762,
          0.9737163186073303,
          0.9703185558319092,
          0.9613567590713501,
          0.9512370824813843,
          0.9235623478889465,
          0.9067890048027039,
          0.857457160949707,
          0.8236069083213806,
          0.7462042570114136,
          0.6898543834686279,
          0.5857996940612793,
          0.5048516988754272,
          0.3833601474761963,
          0.28696662187576294,
          0.1632324904203415,
          0.07004762440919876,
          -0.036779094487428665,
          -0.11344300955533981,
          -0.19366303086280823,
          -0.24768400192260742,
          -0.3035963773727417,
          -0.33406004309654236,
          -0.3652171194553375,
          -0.3825919032096863,
          -0.39582332968711853,
          -0.404394268989563,
          -0.40736666321754456,
          -0.40829887986183167,
          -0.40655237436294556,
          -0.4004610776901245,
          -0.39495959877967834,
          -0.38524144887924194,
          -0.377456396818161,
          -0.36621102690696716
         ]
        },
        {
         "type": "scatter",
         "x": [
          0,
          0.06256778538227081,
          0.10000000149011612,
          0.15377287566661835,
          0.20000000298023224,
          0.24105755984783173,
          0.30000001192092896,
          0.334824800491333,
          0.4000000059604645,
          0.4428275227546692,
          0.5,
          0.5464453101158142,
          0.6000000238418579,
          0.6489201188087463,
          0.699999988079071,
          0.7501579523086548,
          0.800000011920929,
          0.8503641486167908,
          0.8999999761581421,
          0.9504396319389343,
          1,
          1.0505244731903076,
          1.100000023841858,
          1.1487845182418823,
          1.2000000476837158,
          1.2484354972839355,
          1.2999999523162842,
          1.351541519165039,
          1.399999976158142,
          1.453210473060608,
          1.5,
          1.5536366701126099,
          1.600000023841858,
          1.6531704664230347,
          1.7000000476837158,
          1.7521859407424927,
          1.7999999523162842,
          1.8509598970413208,
          1.899999976158142,
          1.949620246887207,
          2,
          2.048161268234253,
          2.0999999046325684,
          2.146430015563965,
          2.200000047683716,
          2.2437024116516113,
          2.299999952316284,
          2.3274006843566895,
          2.4000000953674316,
          2.441025733947754,
          2.5,
          2.5421624183654785,
          2.5999999046325684,
          2.6415276527404785,
          2.700000047683716,
          2.741055965423584,
          2.799999952316284,
          2.841010093688965,
          2.9000000953674316,
          2.9411227703094482,
          3,
          3.0407989025115967,
          3.0999999046325684,
          3.1392343044281006,
          3.200000047683716,
          3.2291347980499268,
          3.299999952316284,
          3.358802556991577,
          3.4000000953674316,
          3.4695212841033936,
          3.5,
          3.5653300285339355,
          3.5999999046325684,
          3.662445306777954,
          3.700000047683716,
          3.7591207027435303,
          3.799999952316284,
          3.8566648960113525,
          3.9000000953674316,
          3.9558749198913574,
          4,
          4.05513334274292,
          4.099999904632568,
          4.1550092697143555,
          4.199999809265137,
          4.258514881134033,
          4.300000190734863,
          4.355954170227051,
          4.400000095367432,
          4.448292255401611,
          4.5,
          4.536850929260254,
          4.599999904632568,
          4.633112907409668,
          4.699999809265137,
          4.739657878875732,
          4.800000190734863,
          4.841698169708252,
          4.900000095367432
         ],
         "y": [
          1,
          1.2440565824508667,
          1.3914811611175537,
          1.6189948320388794,
          1.8119314908981323,
          2.0036284923553467,
          2.2661240100860596,
          2.4476425647735596,
          2.759190797805786,
          3.0029919147491455,
          3.2873899936676025,
          3.5638623237609863,
          3.823667526245117,
          4.098788261413574,
          4.305073261260986,
          4.522895336151123,
          4.636415958404541,
          4.738187789916992,
          4.725533485412598,
          4.680432319641113,
          4.53819465637207,
          4.359892845153809,
          4.124171257019043,
          3.8715713024139404,
          3.585573434829712,
          3.306271553039551,
          3.0204975605010986,
          2.732642412185669,
          2.4904937744140625,
          2.2221195697784424,
          2.0214438438415527,
          1.7846814393997192,
          1.6179708242416382,
          1.4150044918060303,
          1.2753808498382568,
          1.1034597158432007,
          0.9857438802719116,
          0.840184211730957,
          0.740299642086029,
          0.6160480976104736,
          0.530310332775116,
          0.42262592911720276,
          0.3473198413848877,
          0.25213855504989624,
          0.18321165442466736,
          0.09796465933322906,
          0.02997869811952114,
          -0.025664905086159706,
          -0.12047728896141052,
          -0.20135995745658875,
          -0.2766323387622833,
          -0.36478397250175476,
          -0.44741830229759216,
          -0.5431006550788879,
          -0.6417320370674133,
          -0.7477136850357056,
          -0.8671903610229492,
          -0.9858923554420471,
          -1.128807783126831,
          -1.2616270780563354,
          -1.4297287464141846,
          -1.5768884420394897,
          -1.774402379989624,
          -1.9317024946212769,
          -2.1651432514190674,
          -2.2904648780822754,
          -2.588951349258423,
          -2.8383829593658447,
          -3.006821393966675,
          -3.2534682750701904,
          -3.352442979812622,
          -3.4901070594787598,
          -3.5488908290863037,
          -3.556936740875244,
          -3.55165958404541,
          -3.452486515045166,
          -3.394218683242798,
          -3.2499263286590576,
          -3.17620587348938,
          -3.0396533012390137,
          -2.974993944168091,
          -2.851724147796631,
          -2.780696153640747,
          -2.6405603885650635,
          -2.541834592819214,
          -2.354882001876831,
          -2.235241413116455,
          -2.023258924484253,
          -1.8752269744873047,
          -1.6748921871185303,
          -1.489301085472107,
          -1.3305752277374268,
          -1.0992071628570557,
          -0.9569628238677979,
          -0.7147127985954285,
          -0.5481436252593994,
          -0.3346397876739502,
          -0.15942931175231934,
          0.049196094274520874
         ]
        },
        {
         "type": "scatter",
         "x": [
          0,
          0.06256778538227081,
          0.10000000149011612,
          0.15377287566661835,
          0.20000000298023224,
          0.24105755984783173,
          0.30000001192092896,
          0.334824800491333,
          0.4000000059604645,
          0.4428275227546692,
          0.5,
          0.5464453101158142,
          0.6000000238418579,
          0.6489201188087463,
          0.699999988079071,
          0.7501579523086548,
          0.800000011920929,
          0.8503641486167908,
          0.8999999761581421,
          0.9504396319389343,
          1,
          1.0505244731903076,
          1.100000023841858,
          1.1487845182418823,
          1.2000000476837158,
          1.2484354972839355,
          1.2999999523162842,
          1.351541519165039,
          1.399999976158142,
          1.453210473060608,
          1.5,
          1.5536366701126099,
          1.600000023841858,
          1.6531704664230347,
          1.7000000476837158,
          1.7521859407424927,
          1.7999999523162842,
          1.8509598970413208,
          1.899999976158142,
          1.949620246887207,
          2,
          2.048161268234253,
          2.0999999046325684,
          2.146430015563965,
          2.200000047683716,
          2.2437024116516113,
          2.299999952316284,
          2.3274006843566895,
          2.4000000953674316,
          2.441025733947754,
          2.5,
          2.5421624183654785,
          2.5999999046325684,
          2.6415276527404785,
          2.700000047683716,
          2.741055965423584,
          2.799999952316284,
          2.841010093688965,
          2.9000000953674316,
          2.9411227703094482,
          3,
          3.0407989025115967,
          3.0999999046325684,
          3.1392343044281006,
          3.200000047683716,
          3.2291347980499268,
          3.299999952316284,
          3.358802556991577,
          3.4000000953674316,
          3.4695212841033936,
          3.5,
          3.5653300285339355,
          3.5999999046325684,
          3.662445306777954,
          3.700000047683716,
          3.7591207027435303,
          3.799999952316284,
          3.8566648960113525,
          3.9000000953674316,
          3.9558749198913574,
          4,
          4.05513334274292,
          4.099999904632568,
          4.1550092697143555,
          4.199999809265137,
          4.258514881134033,
          4.300000190734863,
          4.355954170227051,
          4.400000095367432,
          4.448292255401611,
          4.5,
          4.536850929260254,
          4.599999904632568,
          4.633112907409668,
          4.699999809265137,
          4.739657878875732,
          4.800000190734863,
          4.841698169708252,
          4.900000095367432
         ],
         "y": [
          1,
          0.7051732540130615,
          0.5533758997917175,
          0.33168914914131165,
          0.18677754700183868,
          0.03331216797232628,
          -0.1021798625588417,
          -0.22672301530838013,
          -0.33414241671562195,
          -0.4805538058280945,
          -0.5396647453308105,
          -0.7011461853981018,
          -0.736892819404602,
          -0.8991283774375916,
          -0.9029198884963989,
          -1.0227247476577759,
          -0.9625301361083984,
          -0.9839668869972229,
          -0.8328360319137573,
          -0.7324755787849426,
          -0.5096984505653381,
          -0.32529768347740173,
          -0.09550518542528152,
          0.09446831792593002,
          0.2767818868160248,
          0.4272019863128662,
          0.5305480360984802,
          0.6331237554550171,
          0.6618409752845764,
          0.7214235067367554,
          0.7047653794288635,
          0.7380683422088623,
          0.6969482898712158,
          0.7184736132621765,
          0.6646764874458313,
          0.6828697919845581,
          0.6222553849220276,
          0.6408411860466003,
          0.5760637521743774,
          0.5962361693382263,
          0.52837073802948,
          0.5503506064414978,
          0.4798033535480499,
          0.5035777688026428,
          0.43057215213775635,
          0.4565183222293854,
          0.3814619183540344,
          0.407821387052536,
          0.3341727554798126,
          0.3653225004673004,
          0.2915741801261902,
          0.32664281129837036,
          0.2572135031223297,
          0.2965458333492279,
          0.23324540257453918,
          0.27447226643562317,
          0.21661746501922607,
          0.2538560926914215,
          0.19607260823249817,
          0.2218218594789505,
          0.1567508578300476,
          0.16751933097839355,
          0.09390316903591156,
          0.08981022238731384,
          0.010946886613965034,
          -0.006457558833062649,
          -0.10447680950164795,
          -0.20379787683486938,
          -0.2905425429344177,
          -0.5042606592178345,
          -0.5962859988212585,
          -0.905379056930542,
          -1.0435149669647217,
          -1.4168789386749268,
          -1.573354959487915,
          -1.9158779382705688,
          -2.0238418579101562,
          -2.2235798835754395,
          -2.1976191997528076,
          -2.189584493637085,
          -2.0095932483673096,
          -1.834326148033142,
          -1.5667272806167603,
          -1.3304368257522583,
          -1.0612574815750122,
          -0.8354466557502747,
          -0.62703937292099,
          -0.47506183385849,
          -0.3066844940185547,
          -0.23198314011096954,
          -0.08818621188402176,
          -0.06707572937011719,
          0.05645517632365227,
          0.054382722824811935,
          0.15059703588485718,
          0.13499806821346283,
          0.20655250549316406,
          0.17615340650081635,
          0.22815747559070587
         ]
        }
       ],
       "layout": {
        "template": {
         "data": {
          "bar": [
           {
            "error_x": {
             "color": "#2a3f5f"
            },
            "error_y": {
             "color": "#2a3f5f"
            },
            "marker": {
             "line": {
              "color": "#E5ECF6",
              "width": 0.5
             }
            },
            "type": "bar"
           }
          ],
          "barpolar": [
           {
            "marker": {
             "line": {
              "color": "#E5ECF6",
              "width": 0.5
             }
            },
            "type": "barpolar"
           }
          ],
          "carpet": [
           {
            "aaxis": {
             "endlinecolor": "#2a3f5f",
             "gridcolor": "white",
             "linecolor": "white",
             "minorgridcolor": "white",
             "startlinecolor": "#2a3f5f"
            },
            "baxis": {
             "endlinecolor": "#2a3f5f",
             "gridcolor": "white",
             "linecolor": "white",
             "minorgridcolor": "white",
             "startlinecolor": "#2a3f5f"
            },
            "type": "carpet"
           }
          ],
          "choropleth": [
           {
            "colorbar": {
             "outlinewidth": 0,
             "ticks": ""
            },
            "type": "choropleth"
           }
          ],
          "contour": [
           {
            "colorbar": {
             "outlinewidth": 0,
             "ticks": ""
            },
            "colorscale": [
             [
              0,
              "#0d0887"
             ],
             [
              0.1111111111111111,
              "#46039f"
             ],
             [
              0.2222222222222222,
              "#7201a8"
             ],
             [
              0.3333333333333333,
              "#9c179e"
             ],
             [
              0.4444444444444444,
              "#bd3786"
             ],
             [
              0.5555555555555556,
              "#d8576b"
             ],
             [
              0.6666666666666666,
              "#ed7953"
             ],
             [
              0.7777777777777778,
              "#fb9f3a"
             ],
             [
              0.8888888888888888,
              "#fdca26"
             ],
             [
              1,
              "#f0f921"
             ]
            ],
            "type": "contour"
           }
          ],
          "contourcarpet": [
           {
            "colorbar": {
             "outlinewidth": 0,
             "ticks": ""
            },
            "type": "contourcarpet"
           }
          ],
          "heatmap": [
           {
            "colorbar": {
             "outlinewidth": 0,
             "ticks": ""
            },
            "colorscale": [
             [
              0,
              "#0d0887"
             ],
             [
              0.1111111111111111,
              "#46039f"
             ],
             [
              0.2222222222222222,
              "#7201a8"
             ],
             [
              0.3333333333333333,
              "#9c179e"
             ],
             [
              0.4444444444444444,
              "#bd3786"
             ],
             [
              0.5555555555555556,
              "#d8576b"
             ],
             [
              0.6666666666666666,
              "#ed7953"
             ],
             [
              0.7777777777777778,
              "#fb9f3a"
             ],
             [
              0.8888888888888888,
              "#fdca26"
             ],
             [
              1,
              "#f0f921"
             ]
            ],
            "type": "heatmap"
           }
          ],
          "heatmapgl": [
           {
            "colorbar": {
             "outlinewidth": 0,
             "ticks": ""
            },
            "colorscale": [
             [
              0,
              "#0d0887"
             ],
             [
              0.1111111111111111,
              "#46039f"
             ],
             [
              0.2222222222222222,
              "#7201a8"
             ],
             [
              0.3333333333333333,
              "#9c179e"
             ],
             [
              0.4444444444444444,
              "#bd3786"
             ],
             [
              0.5555555555555556,
              "#d8576b"
             ],
             [
              0.6666666666666666,
              "#ed7953"
             ],
             [
              0.7777777777777778,
              "#fb9f3a"
             ],
             [
              0.8888888888888888,
              "#fdca26"
             ],
             [
              1,
              "#f0f921"
             ]
            ],
            "type": "heatmapgl"
           }
          ],
          "histogram": [
           {
            "marker": {
             "colorbar": {
              "outlinewidth": 0,
              "ticks": ""
             }
            },
            "type": "histogram"
           }
          ],
          "histogram2d": [
           {
            "colorbar": {
             "outlinewidth": 0,
             "ticks": ""
            },
            "colorscale": [
             [
              0,
              "#0d0887"
             ],
             [
              0.1111111111111111,
              "#46039f"
             ],
             [
              0.2222222222222222,
              "#7201a8"
             ],
             [
              0.3333333333333333,
              "#9c179e"
             ],
             [
              0.4444444444444444,
              "#bd3786"
             ],
             [
              0.5555555555555556,
              "#d8576b"
             ],
             [
              0.6666666666666666,
              "#ed7953"
             ],
             [
              0.7777777777777778,
              "#fb9f3a"
             ],
             [
              0.8888888888888888,
              "#fdca26"
             ],
             [
              1,
              "#f0f921"
             ]
            ],
            "type": "histogram2d"
           }
          ],
          "histogram2dcontour": [
           {
            "colorbar": {
             "outlinewidth": 0,
             "ticks": ""
            },
            "colorscale": [
             [
              0,
              "#0d0887"
             ],
             [
              0.1111111111111111,
              "#46039f"
             ],
             [
              0.2222222222222222,
              "#7201a8"
             ],
             [
              0.3333333333333333,
              "#9c179e"
             ],
             [
              0.4444444444444444,
              "#bd3786"
             ],
             [
              0.5555555555555556,
              "#d8576b"
             ],
             [
              0.6666666666666666,
              "#ed7953"
             ],
             [
              0.7777777777777778,
              "#fb9f3a"
             ],
             [
              0.8888888888888888,
              "#fdca26"
             ],
             [
              1,
              "#f0f921"
             ]
            ],
            "type": "histogram2dcontour"
           }
          ],
          "mesh3d": [
           {
            "colorbar": {
             "outlinewidth": 0,
             "ticks": ""
            },
            "type": "mesh3d"
           }
          ],
          "parcoords": [
           {
            "line": {
             "colorbar": {
              "outlinewidth": 0,
              "ticks": ""
             }
            },
            "type": "parcoords"
           }
          ],
          "pie": [
           {
            "automargin": true,
            "type": "pie"
           }
          ],
          "scatter": [
           {
            "marker": {
             "colorbar": {
              "outlinewidth": 0,
              "ticks": ""
             }
            },
            "type": "scatter"
           }
          ],
          "scatter3d": [
           {
            "line": {
             "colorbar": {
              "outlinewidth": 0,
              "ticks": ""
             }
            },
            "marker": {
             "colorbar": {
              "outlinewidth": 0,
              "ticks": ""
             }
            },
            "type": "scatter3d"
           }
          ],
          "scattercarpet": [
           {
            "marker": {
             "colorbar": {
              "outlinewidth": 0,
              "ticks": ""
             }
            },
            "type": "scattercarpet"
           }
          ],
          "scattergeo": [
           {
            "marker": {
             "colorbar": {
              "outlinewidth": 0,
              "ticks": ""
             }
            },
            "type": "scattergeo"
           }
          ],
          "scattergl": [
           {
            "marker": {
             "colorbar": {
              "outlinewidth": 0,
              "ticks": ""
             }
            },
            "type": "scattergl"
           }
          ],
          "scattermapbox": [
           {
            "marker": {
             "colorbar": {
              "outlinewidth": 0,
              "ticks": ""
             }
            },
            "type": "scattermapbox"
           }
          ],
          "scatterpolar": [
           {
            "marker": {
             "colorbar": {
              "outlinewidth": 0,
              "ticks": ""
             }
            },
            "type": "scatterpolar"
           }
          ],
          "scatterpolargl": [
           {
            "marker": {
             "colorbar": {
              "outlinewidth": 0,
              "ticks": ""
             }
            },
            "type": "scatterpolargl"
           }
          ],
          "scatterternary": [
           {
            "marker": {
             "colorbar": {
              "outlinewidth": 0,
              "ticks": ""
             }
            },
            "type": "scatterternary"
           }
          ],
          "surface": [
           {
            "colorbar": {
             "outlinewidth": 0,
             "ticks": ""
            },
            "colorscale": [
             [
              0,
              "#0d0887"
             ],
             [
              0.1111111111111111,
              "#46039f"
             ],
             [
              0.2222222222222222,
              "#7201a8"
             ],
             [
              0.3333333333333333,
              "#9c179e"
             ],
             [
              0.4444444444444444,
              "#bd3786"
             ],
             [
              0.5555555555555556,
              "#d8576b"
             ],
             [
              0.6666666666666666,
              "#ed7953"
             ],
             [
              0.7777777777777778,
              "#fb9f3a"
             ],
             [
              0.8888888888888888,
              "#fdca26"
             ],
             [
              1,
              "#f0f921"
             ]
            ],
            "type": "surface"
           }
          ],
          "table": [
           {
            "cells": {
             "fill": {
              "color": "#EBF0F8"
             },
             "line": {
              "color": "white"
             }
            },
            "header": {
             "fill": {
              "color": "#C8D4E3"
             },
             "line": {
              "color": "white"
             }
            },
            "type": "table"
           }
          ]
         },
         "layout": {
          "annotationdefaults": {
           "arrowcolor": "#2a3f5f",
           "arrowhead": 0,
           "arrowwidth": 1
          },
          "coloraxis": {
           "colorbar": {
            "outlinewidth": 0,
            "ticks": ""
           }
          },
          "colorscale": {
           "diverging": [
            [
             0,
             "#8e0152"
            ],
            [
             0.1,
             "#c51b7d"
            ],
            [
             0.2,
             "#de77ae"
            ],
            [
             0.3,
             "#f1b6da"
            ],
            [
             0.4,
             "#fde0ef"
            ],
            [
             0.5,
             "#f7f7f7"
            ],
            [
             0.6,
             "#e6f5d0"
            ],
            [
             0.7,
             "#b8e186"
            ],
            [
             0.8,
             "#7fbc41"
            ],
            [
             0.9,
             "#4d9221"
            ],
            [
             1,
             "#276419"
            ]
           ],
           "sequential": [
            [
             0,
             "#0d0887"
            ],
            [
             0.1111111111111111,
             "#46039f"
            ],
            [
             0.2222222222222222,
             "#7201a8"
            ],
            [
             0.3333333333333333,
             "#9c179e"
            ],
            [
             0.4444444444444444,
             "#bd3786"
            ],
            [
             0.5555555555555556,
             "#d8576b"
            ],
            [
             0.6666666666666666,
             "#ed7953"
            ],
            [
             0.7777777777777778,
             "#fb9f3a"
            ],
            [
             0.8888888888888888,
             "#fdca26"
            ],
            [
             1,
             "#f0f921"
            ]
           ],
           "sequentialminus": [
            [
             0,
             "#0d0887"
            ],
            [
             0.1111111111111111,
             "#46039f"
            ],
            [
             0.2222222222222222,
             "#7201a8"
            ],
            [
             0.3333333333333333,
             "#9c179e"
            ],
            [
             0.4444444444444444,
             "#bd3786"
            ],
            [
             0.5555555555555556,
             "#d8576b"
            ],
            [
             0.6666666666666666,
             "#ed7953"
            ],
            [
             0.7777777777777778,
             "#fb9f3a"
            ],
            [
             0.8888888888888888,
             "#fdca26"
            ],
            [
             1,
             "#f0f921"
            ]
           ]
          },
          "colorway": [
           "#636efa",
           "#EF553B",
           "#00cc96",
           "#ab63fa",
           "#FFA15A",
           "#19d3f3",
           "#FF6692",
           "#B6E880",
           "#FF97FF",
           "#FECB52"
          ],
          "font": {
           "color": "#2a3f5f"
          },
          "geo": {
           "bgcolor": "white",
           "lakecolor": "white",
           "landcolor": "#E5ECF6",
           "showlakes": true,
           "showland": true,
           "subunitcolor": "white"
          },
          "hoverlabel": {
           "align": "left"
          },
          "hovermode": "closest",
          "mapbox": {
           "style": "light"
          },
          "paper_bgcolor": "white",
          "plot_bgcolor": "#E5ECF6",
          "polar": {
           "angularaxis": {
            "gridcolor": "white",
            "linecolor": "white",
            "ticks": ""
           },
           "bgcolor": "#E5ECF6",
           "radialaxis": {
            "gridcolor": "white",
            "linecolor": "white",
            "ticks": ""
           }
          },
          "scene": {
           "xaxis": {
            "backgroundcolor": "#E5ECF6",
            "gridcolor": "white",
            "gridwidth": 2,
            "linecolor": "white",
            "showbackground": true,
            "ticks": "",
            "zerolinecolor": "white"
           },
           "yaxis": {
            "backgroundcolor": "#E5ECF6",
            "gridcolor": "white",
            "gridwidth": 2,
            "linecolor": "white",
            "showbackground": true,
            "ticks": "",
            "zerolinecolor": "white"
           },
           "zaxis": {
            "backgroundcolor": "#E5ECF6",
            "gridcolor": "white",
            "gridwidth": 2,
            "linecolor": "white",
            "showbackground": true,
            "ticks": "",
            "zerolinecolor": "white"
           }
          },
          "shapedefaults": {
           "line": {
            "color": "#2a3f5f"
           }
          },
          "ternary": {
           "aaxis": {
            "gridcolor": "white",
            "linecolor": "white",
            "ticks": ""
           },
           "baxis": {
            "gridcolor": "white",
            "linecolor": "white",
            "ticks": ""
           },
           "bgcolor": "#E5ECF6",
           "caxis": {
            "gridcolor": "white",
            "linecolor": "white",
            "ticks": ""
           }
          },
          "title": {
           "x": 0.05
          },
          "xaxis": {
           "automargin": true,
           "gridcolor": "white",
           "linecolor": "white",
           "ticks": "",
           "title": {
            "standoff": 15
           },
           "zerolinecolor": "white",
           "zerolinewidth": 2
          },
          "yaxis": {
           "automargin": true,
           "gridcolor": "white",
           "linecolor": "white",
           "ticks": "",
           "title": {
            "standoff": 15
           },
           "zerolinecolor": "white",
           "zerolinewidth": 2
          }
         }
        },
        "title": {
         "text": "No lookahead"
        }
       }
      },
      "text/html": [
       "<div>\n",
       "        \n",
       "        \n",
       "            <div id=\"655f705e-b21d-4056-b788-295370d26176\" class=\"plotly-graph-div\" style=\"height:525px; width:100%;\"></div>\n",
       "            <script type=\"text/javascript\">\n",
       "                require([\"plotly\"], function(Plotly) {\n",
       "                    window.PLOTLYENV=window.PLOTLYENV || {};\n",
       "                    \n",
       "                if (document.getElementById(\"655f705e-b21d-4056-b788-295370d26176\")) {\n",
       "                    Plotly.newPlot(\n",
       "                        '655f705e-b21d-4056-b788-295370d26176',\n",
       "                        [{\"type\": \"scatter\", \"x\": [0.0, 0.06256778538227081, 0.10000000149011612, 0.15377287566661835, 0.20000000298023224, 0.24105755984783173, 0.30000001192092896, 0.334824800491333, 0.4000000059604645, 0.4428275227546692, 0.5, 0.5464453101158142, 0.6000000238418579, 0.6489201188087463, 0.699999988079071, 0.7501579523086548, 0.800000011920929, 0.8503641486167908, 0.8999999761581421, 0.9504396319389343, 1.0, 1.0505244731903076, 1.100000023841858, 1.1487845182418823, 1.2000000476837158, 1.2484354972839355, 1.2999999523162842, 1.351541519165039, 1.399999976158142, 1.453210473060608, 1.5, 1.5536366701126099, 1.600000023841858, 1.6531704664230347, 1.7000000476837158, 1.7521859407424927, 1.7999999523162842, 1.8509598970413208, 1.899999976158142, 1.949620246887207, 2.0, 2.048161268234253, 2.0999999046325684, 2.146430015563965, 2.200000047683716, 2.2437024116516113, 2.299999952316284, 2.3274006843566895, 2.4000000953674316, 2.441025733947754, 2.5, 2.5421624183654785, 2.5999999046325684, 2.6415276527404785, 2.700000047683716, 2.741055965423584, 2.799999952316284, 2.841010093688965, 2.9000000953674316, 2.9411227703094482, 3.0, 3.0407989025115967, 3.0999999046325684, 3.1392343044281006, 3.200000047683716, 3.2291347980499268, 3.299999952316284, 3.358802556991577, 3.4000000953674316, 3.4695212841033936, 3.5, 3.5653300285339355, 3.5999999046325684, 3.662445306777954, 3.700000047683716, 3.7591207027435303, 3.799999952316284, 3.8566648960113525, 3.9000000953674316, 3.9558749198913574, 4.0, 4.05513334274292, 4.099999904632568, 4.1550092697143555, 4.199999809265137, 4.258514881134033, 4.300000190734863, 4.355954170227051, 4.400000095367432, 4.448292255401611, 4.5, 4.536850929260254, 4.599999904632568, 4.633112907409668, 4.699999809265137, 4.739657878875732, 4.800000190734863, 4.841698169708252, 4.900000095367432], \"y\": [3.3915927410125732, 3.461798906326294, 3.511117935180664, 3.59208607673645, 3.671388626098633, 3.7497470378875732, 3.8756442070007324, 3.9577536582946777, 4.127627849578857, 4.251107215881348, 4.431161880493164, 4.590431213378906, 4.78856086730957, 4.982617378234863, 5.19764518737793, 5.419432640075684, 5.648158073425293, 5.884689807891846, 6.120041847229004, 6.35768985748291, 6.586516380310059, 6.811600208282471, 7.021693229675293, 7.216837406158447, 7.407854080200195, 7.574737548828125, 7.7377824783325195, 7.885921478271484, 8.012354850769043, 8.137548446655273, 8.236695289611816, 8.338557243347168, 8.417302131652832, 8.497720718383789, 8.560575485229492, 8.622444152832031, 8.672243118286133, 8.718581199645996, 8.75717830657959, 8.790660858154297, 8.819371223449707, 8.842168807983398, 8.861948013305664, 8.875733375549316, 8.887203216552734, 8.893240928649902, 8.896627426147461, 8.896660804748535, 8.89090347290039, 8.8842191696167, 8.869892120361328, 8.856285095214844, 8.832588195800781, 8.811945915222168, 8.77710247039795, 8.748515129089355, 8.700733184814453, 8.662681579589844, 8.60014533996582, 8.550952911376953, 8.471590995788574, 8.41023063659668, 8.310924530029297, 8.238210678100586, 8.113653182983398, 8.048746109008789, 7.875760078430176, 7.716170310974121, 7.595735549926758, 7.377997398376465, 7.277308940887451, 7.053605556488037, 6.931557655334473, 6.709527969360352, 6.576040267944336, 6.368992328643799, 6.229109764099121, 6.041056156158447, 5.90195894241333, 5.728582382202148, 5.5960211753845215, 5.435605049133301, 5.309333324432373, 5.160338401794434, 5.0438032150268555, 4.900643348693848, 4.805469512939453, 4.686448097229004, 4.600656032562256, 4.515035629272461, 4.4333624839782715, 4.381457328796387, 4.305012226104736, 4.271010398864746, 4.215440273284912, 4.190468788146973, 4.164074897766113, 4.153850555419922, 4.150840759277344]}, {\"type\": \"scatter\", \"x\": [0.0, 0.06256778538227081, 0.10000000149011612, 0.15377287566661835, 0.20000000298023224, 0.24105755984783173, 0.30000001192092896, 0.334824800491333, 0.4000000059604645, 0.4428275227546692, 0.5, 0.5464453101158142, 0.6000000238418579, 0.6489201188087463, 0.699999988079071, 0.7501579523086548, 0.800000011920929, 0.8503641486167908, 0.8999999761581421, 0.9504396319389343, 1.0, 1.0505244731903076, 1.100000023841858, 1.1487845182418823, 1.2000000476837158, 1.2484354972839355, 1.2999999523162842, 1.351541519165039, 1.399999976158142, 1.453210473060608, 1.5, 1.5536366701126099, 1.600000023841858, 1.6531704664230347, 1.7000000476837158, 1.7521859407424927, 1.7999999523162842, 1.8509598970413208, 1.899999976158142, 1.949620246887207, 2.0, 2.048161268234253, 2.0999999046325684, 2.146430015563965, 2.200000047683716, 2.2437024116516113, 2.299999952316284, 2.3274006843566895, 2.4000000953674316, 2.441025733947754, 2.5, 2.5421624183654785, 2.5999999046325684, 2.6415276527404785, 2.700000047683716, 2.741055965423584, 2.799999952316284, 2.841010093688965, 2.9000000953674316, 2.9411227703094482, 3.0, 3.0407989025115967, 3.0999999046325684, 3.1392343044281006, 3.200000047683716, 3.2291347980499268, 3.299999952316284, 3.358802556991577, 3.4000000953674316, 3.4695212841033936, 3.5, 3.5653300285339355, 3.5999999046325684, 3.662445306777954, 3.700000047683716, 3.7591207027435303, 3.799999952316284, 3.8566648960113525, 3.9000000953674316, 3.9558749198913574, 4.0, 4.05513334274292, 4.099999904632568, 4.1550092697143555, 4.199999809265137, 4.258514881134033, 4.300000190734863, 4.355954170227051, 4.400000095367432, 4.448292255401611, 4.5, 4.536850929260254, 4.599999904632568, 4.633112907409668, 4.699999809265137, 4.739657878875732, 4.800000190734863, 4.841698169708252, 4.900000095367432], \"y\": [0.5, 0.5530350804328918, 0.5765430331230164, 0.6000569462776184, 0.6118948459625244, 0.6162367463111877, 0.6137409210205078, 0.6078751683235168, 0.5887212157249451, 0.5709697604179382, 0.5410455465316772, 0.5117930769920349, 0.4725179374217987, 0.4319351315498352, 0.3851156532764435, 0.3361490070819855, 0.2858572006225586, 0.23614975810050964, 0.19031913578510284, 0.15029281377792358, 0.11902663111686707, 0.0976705253124237, 0.08710838854312897, 0.08711089193820953, 0.09673187881708145, 0.11397401988506317, 0.13893325626850128, 0.16923999786376953, 0.20088018476963043, 0.23805835843086243, 0.27167126536369324, 0.31075939536094666, 0.3442719578742981, 0.3822953701019287, 0.41494429111480713, 0.4504927396774292, 0.4819861054420471, 0.5145455002784729, 0.544712483882904, 0.5741583704948425, 0.6028575301170349, 0.629176139831543, 0.6562951803207397, 0.6794407963752747, 0.7049381732940674, 0.7245933413505554, 0.7487497329711914, 0.759631872177124, 0.7878168225288391, 0.8023990988731384, 0.8224517107009888, 0.835740327835083, 0.8532768487930298, 0.8650186657905579, 0.8811822533607483, 0.8918339610099792, 0.9069861769676208, 0.9168486595153809, 0.9307709336280823, 0.9395596981048584, 0.9513065218925476, 0.9580841660499573, 0.9663670063018799, 0.9700802564620972, 0.9736245274543762, 0.9737163186073303, 0.9703185558319092, 0.9613567590713501, 0.9512370824813843, 0.9235623478889465, 0.9067890048027039, 0.857457160949707, 0.8236069083213806, 0.7462042570114136, 0.6898543834686279, 0.5857996940612793, 0.5048516988754272, 0.3833601474761963, 0.28696662187576294, 0.1632324904203415, 0.07004762440919876, -0.036779094487428665, -0.11344300955533981, -0.19366303086280823, -0.24768400192260742, -0.3035963773727417, -0.33406004309654236, -0.3652171194553375, -0.3825919032096863, -0.39582332968711853, -0.404394268989563, -0.40736666321754456, -0.40829887986183167, -0.40655237436294556, -0.4004610776901245, -0.39495959877967834, -0.38524144887924194, -0.377456396818161, -0.36621102690696716]}, {\"type\": \"scatter\", \"x\": [0.0, 0.06256778538227081, 0.10000000149011612, 0.15377287566661835, 0.20000000298023224, 0.24105755984783173, 0.30000001192092896, 0.334824800491333, 0.4000000059604645, 0.4428275227546692, 0.5, 0.5464453101158142, 0.6000000238418579, 0.6489201188087463, 0.699999988079071, 0.7501579523086548, 0.800000011920929, 0.8503641486167908, 0.8999999761581421, 0.9504396319389343, 1.0, 1.0505244731903076, 1.100000023841858, 1.1487845182418823, 1.2000000476837158, 1.2484354972839355, 1.2999999523162842, 1.351541519165039, 1.399999976158142, 1.453210473060608, 1.5, 1.5536366701126099, 1.600000023841858, 1.6531704664230347, 1.7000000476837158, 1.7521859407424927, 1.7999999523162842, 1.8509598970413208, 1.899999976158142, 1.949620246887207, 2.0, 2.048161268234253, 2.0999999046325684, 2.146430015563965, 2.200000047683716, 2.2437024116516113, 2.299999952316284, 2.3274006843566895, 2.4000000953674316, 2.441025733947754, 2.5, 2.5421624183654785, 2.5999999046325684, 2.6415276527404785, 2.700000047683716, 2.741055965423584, 2.799999952316284, 2.841010093688965, 2.9000000953674316, 2.9411227703094482, 3.0, 3.0407989025115967, 3.0999999046325684, 3.1392343044281006, 3.200000047683716, 3.2291347980499268, 3.299999952316284, 3.358802556991577, 3.4000000953674316, 3.4695212841033936, 3.5, 3.5653300285339355, 3.5999999046325684, 3.662445306777954, 3.700000047683716, 3.7591207027435303, 3.799999952316284, 3.8566648960113525, 3.9000000953674316, 3.9558749198913574, 4.0, 4.05513334274292, 4.099999904632568, 4.1550092697143555, 4.199999809265137, 4.258514881134033, 4.300000190734863, 4.355954170227051, 4.400000095367432, 4.448292255401611, 4.5, 4.536850929260254, 4.599999904632568, 4.633112907409668, 4.699999809265137, 4.739657878875732, 4.800000190734863, 4.841698169708252, 4.900000095367432], \"y\": [1.0, 1.2440565824508667, 1.3914811611175537, 1.6189948320388794, 1.8119314908981323, 2.0036284923553467, 2.2661240100860596, 2.4476425647735596, 2.759190797805786, 3.0029919147491455, 3.2873899936676025, 3.5638623237609863, 3.823667526245117, 4.098788261413574, 4.305073261260986, 4.522895336151123, 4.636415958404541, 4.738187789916992, 4.725533485412598, 4.680432319641113, 4.53819465637207, 4.359892845153809, 4.124171257019043, 3.8715713024139404, 3.585573434829712, 3.306271553039551, 3.0204975605010986, 2.732642412185669, 2.4904937744140625, 2.2221195697784424, 2.0214438438415527, 1.7846814393997192, 1.6179708242416382, 1.4150044918060303, 1.2753808498382568, 1.1034597158432007, 0.9857438802719116, 0.840184211730957, 0.740299642086029, 0.6160480976104736, 0.530310332775116, 0.42262592911720276, 0.3473198413848877, 0.25213855504989624, 0.18321165442466736, 0.09796465933322906, 0.02997869811952114, -0.025664905086159706, -0.12047728896141052, -0.20135995745658875, -0.2766323387622833, -0.36478397250175476, -0.44741830229759216, -0.5431006550788879, -0.6417320370674133, -0.7477136850357056, -0.8671903610229492, -0.9858923554420471, -1.128807783126831, -1.2616270780563354, -1.4297287464141846, -1.5768884420394897, -1.774402379989624, -1.9317024946212769, -2.1651432514190674, -2.2904648780822754, -2.588951349258423, -2.8383829593658447, -3.006821393966675, -3.2534682750701904, -3.352442979812622, -3.4901070594787598, -3.5488908290863037, -3.556936740875244, -3.55165958404541, -3.452486515045166, -3.394218683242798, -3.2499263286590576, -3.17620587348938, -3.0396533012390137, -2.974993944168091, -2.851724147796631, -2.780696153640747, -2.6405603885650635, -2.541834592819214, -2.354882001876831, -2.235241413116455, -2.023258924484253, -1.8752269744873047, -1.6748921871185303, -1.489301085472107, -1.3305752277374268, -1.0992071628570557, -0.9569628238677979, -0.7147127985954285, -0.5481436252593994, -0.3346397876739502, -0.15942931175231934, 0.049196094274520874]}, {\"type\": \"scatter\", \"x\": [0.0, 0.06256778538227081, 0.10000000149011612, 0.15377287566661835, 0.20000000298023224, 0.24105755984783173, 0.30000001192092896, 0.334824800491333, 0.4000000059604645, 0.4428275227546692, 0.5, 0.5464453101158142, 0.6000000238418579, 0.6489201188087463, 0.699999988079071, 0.7501579523086548, 0.800000011920929, 0.8503641486167908, 0.8999999761581421, 0.9504396319389343, 1.0, 1.0505244731903076, 1.100000023841858, 1.1487845182418823, 1.2000000476837158, 1.2484354972839355, 1.2999999523162842, 1.351541519165039, 1.399999976158142, 1.453210473060608, 1.5, 1.5536366701126099, 1.600000023841858, 1.6531704664230347, 1.7000000476837158, 1.7521859407424927, 1.7999999523162842, 1.8509598970413208, 1.899999976158142, 1.949620246887207, 2.0, 2.048161268234253, 2.0999999046325684, 2.146430015563965, 2.200000047683716, 2.2437024116516113, 2.299999952316284, 2.3274006843566895, 2.4000000953674316, 2.441025733947754, 2.5, 2.5421624183654785, 2.5999999046325684, 2.6415276527404785, 2.700000047683716, 2.741055965423584, 2.799999952316284, 2.841010093688965, 2.9000000953674316, 2.9411227703094482, 3.0, 3.0407989025115967, 3.0999999046325684, 3.1392343044281006, 3.200000047683716, 3.2291347980499268, 3.299999952316284, 3.358802556991577, 3.4000000953674316, 3.4695212841033936, 3.5, 3.5653300285339355, 3.5999999046325684, 3.662445306777954, 3.700000047683716, 3.7591207027435303, 3.799999952316284, 3.8566648960113525, 3.9000000953674316, 3.9558749198913574, 4.0, 4.05513334274292, 4.099999904632568, 4.1550092697143555, 4.199999809265137, 4.258514881134033, 4.300000190734863, 4.355954170227051, 4.400000095367432, 4.448292255401611, 4.5, 4.536850929260254, 4.599999904632568, 4.633112907409668, 4.699999809265137, 4.739657878875732, 4.800000190734863, 4.841698169708252, 4.900000095367432], \"y\": [1.0, 0.7051732540130615, 0.5533758997917175, 0.33168914914131165, 0.18677754700183868, 0.03331216797232628, -0.1021798625588417, -0.22672301530838013, -0.33414241671562195, -0.4805538058280945, -0.5396647453308105, -0.7011461853981018, -0.736892819404602, -0.8991283774375916, -0.9029198884963989, -1.0227247476577759, -0.9625301361083984, -0.9839668869972229, -0.8328360319137573, -0.7324755787849426, -0.5096984505653381, -0.32529768347740173, -0.09550518542528152, 0.09446831792593002, 0.2767818868160248, 0.4272019863128662, 0.5305480360984802, 0.6331237554550171, 0.6618409752845764, 0.7214235067367554, 0.7047653794288635, 0.7380683422088623, 0.6969482898712158, 0.7184736132621765, 0.6646764874458313, 0.6828697919845581, 0.6222553849220276, 0.6408411860466003, 0.5760637521743774, 0.5962361693382263, 0.52837073802948, 0.5503506064414978, 0.4798033535480499, 0.5035777688026428, 0.43057215213775635, 0.4565183222293854, 0.3814619183540344, 0.407821387052536, 0.3341727554798126, 0.3653225004673004, 0.2915741801261902, 0.32664281129837036, 0.2572135031223297, 0.2965458333492279, 0.23324540257453918, 0.27447226643562317, 0.21661746501922607, 0.2538560926914215, 0.19607260823249817, 0.2218218594789505, 0.1567508578300476, 0.16751933097839355, 0.09390316903591156, 0.08981022238731384, 0.010946886613965034, -0.006457558833062649, -0.10447680950164795, -0.20379787683486938, -0.2905425429344177, -0.5042606592178345, -0.5962859988212585, -0.905379056930542, -1.0435149669647217, -1.4168789386749268, -1.573354959487915, -1.9158779382705688, -2.0238418579101562, -2.2235798835754395, -2.1976191997528076, -2.189584493637085, -2.0095932483673096, -1.834326148033142, -1.5667272806167603, -1.3304368257522583, -1.0612574815750122, -0.8354466557502747, -0.62703937292099, -0.47506183385849, -0.3066844940185547, -0.23198314011096954, -0.08818621188402176, -0.06707572937011719, 0.05645517632365227, 0.054382722824811935, 0.15059703588485718, 0.13499806821346283, 0.20655250549316406, 0.17615340650081635, 0.22815747559070587]}],\n",
       "                        {\"template\": {\"data\": {\"bar\": [{\"error_x\": {\"color\": \"#2a3f5f\"}, \"error_y\": {\"color\": \"#2a3f5f\"}, \"marker\": {\"line\": {\"color\": \"#E5ECF6\", \"width\": 0.5}}, \"type\": \"bar\"}], \"barpolar\": [{\"marker\": {\"line\": {\"color\": \"#E5ECF6\", \"width\": 0.5}}, \"type\": \"barpolar\"}], \"carpet\": [{\"aaxis\": {\"endlinecolor\": \"#2a3f5f\", \"gridcolor\": \"white\", \"linecolor\": \"white\", \"minorgridcolor\": \"white\", \"startlinecolor\": \"#2a3f5f\"}, \"baxis\": {\"endlinecolor\": \"#2a3f5f\", \"gridcolor\": \"white\", \"linecolor\": \"white\", \"minorgridcolor\": \"white\", \"startlinecolor\": \"#2a3f5f\"}, \"type\": \"carpet\"}], \"choropleth\": [{\"colorbar\": {\"outlinewidth\": 0, \"ticks\": \"\"}, \"type\": \"choropleth\"}], \"contour\": [{\"colorbar\": {\"outlinewidth\": 0, \"ticks\": \"\"}, \"colorscale\": [[0.0, \"#0d0887\"], [0.1111111111111111, \"#46039f\"], [0.2222222222222222, \"#7201a8\"], [0.3333333333333333, \"#9c179e\"], [0.4444444444444444, \"#bd3786\"], [0.5555555555555556, \"#d8576b\"], [0.6666666666666666, \"#ed7953\"], [0.7777777777777778, \"#fb9f3a\"], [0.8888888888888888, \"#fdca26\"], [1.0, \"#f0f921\"]], \"type\": \"contour\"}], \"contourcarpet\": [{\"colorbar\": {\"outlinewidth\": 0, \"ticks\": \"\"}, \"type\": \"contourcarpet\"}], \"heatmap\": [{\"colorbar\": {\"outlinewidth\": 0, \"ticks\": \"\"}, \"colorscale\": [[0.0, \"#0d0887\"], [0.1111111111111111, \"#46039f\"], [0.2222222222222222, \"#7201a8\"], [0.3333333333333333, \"#9c179e\"], [0.4444444444444444, \"#bd3786\"], [0.5555555555555556, \"#d8576b\"], [0.6666666666666666, \"#ed7953\"], [0.7777777777777778, \"#fb9f3a\"], [0.8888888888888888, \"#fdca26\"], [1.0, \"#f0f921\"]], \"type\": \"heatmap\"}], \"heatmapgl\": [{\"colorbar\": {\"outlinewidth\": 0, \"ticks\": \"\"}, \"colorscale\": [[0.0, \"#0d0887\"], [0.1111111111111111, \"#46039f\"], [0.2222222222222222, \"#7201a8\"], [0.3333333333333333, \"#9c179e\"], [0.4444444444444444, \"#bd3786\"], [0.5555555555555556, \"#d8576b\"], [0.6666666666666666, \"#ed7953\"], [0.7777777777777778, \"#fb9f3a\"], [0.8888888888888888, \"#fdca26\"], [1.0, \"#f0f921\"]], \"type\": \"heatmapgl\"}], \"histogram\": [{\"marker\": {\"colorbar\": {\"outlinewidth\": 0, \"ticks\": \"\"}}, \"type\": \"histogram\"}], \"histogram2d\": [{\"colorbar\": {\"outlinewidth\": 0, \"ticks\": \"\"}, \"colorscale\": [[0.0, \"#0d0887\"], [0.1111111111111111, \"#46039f\"], [0.2222222222222222, \"#7201a8\"], [0.3333333333333333, \"#9c179e\"], [0.4444444444444444, \"#bd3786\"], [0.5555555555555556, \"#d8576b\"], [0.6666666666666666, \"#ed7953\"], [0.7777777777777778, \"#fb9f3a\"], [0.8888888888888888, \"#fdca26\"], [1.0, \"#f0f921\"]], \"type\": \"histogram2d\"}], \"histogram2dcontour\": [{\"colorbar\": {\"outlinewidth\": 0, \"ticks\": \"\"}, \"colorscale\": [[0.0, \"#0d0887\"], [0.1111111111111111, \"#46039f\"], [0.2222222222222222, \"#7201a8\"], [0.3333333333333333, \"#9c179e\"], [0.4444444444444444, \"#bd3786\"], [0.5555555555555556, \"#d8576b\"], [0.6666666666666666, \"#ed7953\"], [0.7777777777777778, \"#fb9f3a\"], [0.8888888888888888, \"#fdca26\"], [1.0, \"#f0f921\"]], \"type\": \"histogram2dcontour\"}], \"mesh3d\": [{\"colorbar\": {\"outlinewidth\": 0, \"ticks\": \"\"}, \"type\": \"mesh3d\"}], \"parcoords\": [{\"line\": {\"colorbar\": {\"outlinewidth\": 0, \"ticks\": \"\"}}, \"type\": \"parcoords\"}], \"pie\": [{\"automargin\": true, \"type\": \"pie\"}], \"scatter\": [{\"marker\": {\"colorbar\": {\"outlinewidth\": 0, \"ticks\": \"\"}}, \"type\": \"scatter\"}], \"scatter3d\": [{\"line\": {\"colorbar\": {\"outlinewidth\": 0, \"ticks\": \"\"}}, \"marker\": {\"colorbar\": {\"outlinewidth\": 0, \"ticks\": \"\"}}, \"type\": \"scatter3d\"}], \"scattercarpet\": [{\"marker\": {\"colorbar\": {\"outlinewidth\": 0, \"ticks\": \"\"}}, \"type\": \"scattercarpet\"}], \"scattergeo\": [{\"marker\": {\"colorbar\": {\"outlinewidth\": 0, \"ticks\": \"\"}}, \"type\": \"scattergeo\"}], \"scattergl\": [{\"marker\": {\"colorbar\": {\"outlinewidth\": 0, \"ticks\": \"\"}}, \"type\": \"scattergl\"}], \"scattermapbox\": [{\"marker\": {\"colorbar\": {\"outlinewidth\": 0, \"ticks\": \"\"}}, \"type\": \"scattermapbox\"}], \"scatterpolar\": [{\"marker\": {\"colorbar\": {\"outlinewidth\": 0, \"ticks\": \"\"}}, \"type\": \"scatterpolar\"}], \"scatterpolargl\": [{\"marker\": {\"colorbar\": {\"outlinewidth\": 0, \"ticks\": \"\"}}, \"type\": \"scatterpolargl\"}], \"scatterternary\": [{\"marker\": {\"colorbar\": {\"outlinewidth\": 0, \"ticks\": \"\"}}, \"type\": \"scatterternary\"}], \"surface\": [{\"colorbar\": {\"outlinewidth\": 0, \"ticks\": \"\"}, \"colorscale\": [[0.0, \"#0d0887\"], [0.1111111111111111, \"#46039f\"], [0.2222222222222222, \"#7201a8\"], [0.3333333333333333, \"#9c179e\"], [0.4444444444444444, \"#bd3786\"], [0.5555555555555556, \"#d8576b\"], [0.6666666666666666, \"#ed7953\"], [0.7777777777777778, \"#fb9f3a\"], [0.8888888888888888, \"#fdca26\"], [1.0, \"#f0f921\"]], \"type\": \"surface\"}], \"table\": [{\"cells\": {\"fill\": {\"color\": \"#EBF0F8\"}, \"line\": {\"color\": \"white\"}}, \"header\": {\"fill\": {\"color\": \"#C8D4E3\"}, \"line\": {\"color\": \"white\"}}, \"type\": \"table\"}]}, \"layout\": {\"annotationdefaults\": {\"arrowcolor\": \"#2a3f5f\", \"arrowhead\": 0, \"arrowwidth\": 1}, \"coloraxis\": {\"colorbar\": {\"outlinewidth\": 0, \"ticks\": \"\"}}, \"colorscale\": {\"diverging\": [[0, \"#8e0152\"], [0.1, \"#c51b7d\"], [0.2, \"#de77ae\"], [0.3, \"#f1b6da\"], [0.4, \"#fde0ef\"], [0.5, \"#f7f7f7\"], [0.6, \"#e6f5d0\"], [0.7, \"#b8e186\"], [0.8, \"#7fbc41\"], [0.9, \"#4d9221\"], [1, \"#276419\"]], \"sequential\": [[0.0, \"#0d0887\"], [0.1111111111111111, \"#46039f\"], [0.2222222222222222, \"#7201a8\"], [0.3333333333333333, \"#9c179e\"], [0.4444444444444444, \"#bd3786\"], [0.5555555555555556, \"#d8576b\"], [0.6666666666666666, \"#ed7953\"], [0.7777777777777778, \"#fb9f3a\"], [0.8888888888888888, \"#fdca26\"], [1.0, \"#f0f921\"]], \"sequentialminus\": [[0.0, \"#0d0887\"], [0.1111111111111111, \"#46039f\"], [0.2222222222222222, \"#7201a8\"], [0.3333333333333333, \"#9c179e\"], [0.4444444444444444, \"#bd3786\"], [0.5555555555555556, \"#d8576b\"], [0.6666666666666666, \"#ed7953\"], [0.7777777777777778, \"#fb9f3a\"], [0.8888888888888888, \"#fdca26\"], [1.0, \"#f0f921\"]]}, \"colorway\": [\"#636efa\", \"#EF553B\", \"#00cc96\", \"#ab63fa\", \"#FFA15A\", \"#19d3f3\", \"#FF6692\", \"#B6E880\", \"#FF97FF\", \"#FECB52\"], \"font\": {\"color\": \"#2a3f5f\"}, \"geo\": {\"bgcolor\": \"white\", \"lakecolor\": \"white\", \"landcolor\": \"#E5ECF6\", \"showlakes\": true, \"showland\": true, \"subunitcolor\": \"white\"}, \"hoverlabel\": {\"align\": \"left\"}, \"hovermode\": \"closest\", \"mapbox\": {\"style\": \"light\"}, \"paper_bgcolor\": \"white\", \"plot_bgcolor\": \"#E5ECF6\", \"polar\": {\"angularaxis\": {\"gridcolor\": \"white\", \"linecolor\": \"white\", \"ticks\": \"\"}, \"bgcolor\": \"#E5ECF6\", \"radialaxis\": {\"gridcolor\": \"white\", \"linecolor\": \"white\", \"ticks\": \"\"}}, \"scene\": {\"xaxis\": {\"backgroundcolor\": \"#E5ECF6\", \"gridcolor\": \"white\", \"gridwidth\": 2, \"linecolor\": \"white\", \"showbackground\": true, \"ticks\": \"\", \"zerolinecolor\": \"white\"}, \"yaxis\": {\"backgroundcolor\": \"#E5ECF6\", \"gridcolor\": \"white\", \"gridwidth\": 2, \"linecolor\": \"white\", \"showbackground\": true, \"ticks\": \"\", \"zerolinecolor\": \"white\"}, \"zaxis\": {\"backgroundcolor\": \"#E5ECF6\", \"gridcolor\": \"white\", \"gridwidth\": 2, \"linecolor\": \"white\", \"showbackground\": true, \"ticks\": \"\", \"zerolinecolor\": \"white\"}}, \"shapedefaults\": {\"line\": {\"color\": \"#2a3f5f\"}}, \"ternary\": {\"aaxis\": {\"gridcolor\": \"white\", \"linecolor\": \"white\", \"ticks\": \"\"}, \"baxis\": {\"gridcolor\": \"white\", \"linecolor\": \"white\", \"ticks\": \"\"}, \"bgcolor\": \"#E5ECF6\", \"caxis\": {\"gridcolor\": \"white\", \"linecolor\": \"white\", \"ticks\": \"\"}}, \"title\": {\"x\": 0.05}, \"xaxis\": {\"automargin\": true, \"gridcolor\": \"white\", \"linecolor\": \"white\", \"ticks\": \"\", \"title\": {\"standoff\": 15}, \"zerolinecolor\": \"white\", \"zerolinewidth\": 2}, \"yaxis\": {\"automargin\": true, \"gridcolor\": \"white\", \"linecolor\": \"white\", \"ticks\": \"\", \"title\": {\"standoff\": 15}, \"zerolinecolor\": \"white\", \"zerolinewidth\": 2}}}, \"title\": {\"text\": \"No lookahead\"}},\n",
       "                        {\"responsive\": true}\n",
       "                    ).then(function(){\n",
       "                            \n",
       "var gd = document.getElementById('655f705e-b21d-4056-b788-295370d26176');\n",
       "var x = new MutationObserver(function (mutations, observer) {{\n",
       "        var display = window.getComputedStyle(gd).display;\n",
       "        if (!display || display === 'none') {{\n",
       "            console.log([gd, 'removed!']);\n",
       "            Plotly.purge(gd);\n",
       "            observer.disconnect();\n",
       "        }}\n",
       "}});\n",
       "\n",
       "// Listen for the removal of the full notebook cells\n",
       "var notebookContainer = gd.closest('#notebook-container');\n",
       "if (notebookContainer) {{\n",
       "    x.observe(notebookContainer, {childList: true});\n",
       "}}\n",
       "\n",
       "// Listen for the clearing of the current output cell\n",
       "var outputEl = gd.closest('.output');\n",
       "if (outputEl) {{\n",
       "    x.observe(outputEl, {childList: true});\n",
       "}}\n",
       "\n",
       "                        })\n",
       "                };\n",
       "                });\n",
       "            </script>\n",
       "        </div>"
      ]
     },
     "metadata": {},
     "output_type": "display_data"
    }
   ],
   "source": [
    "ctrl_no_model = controllers.get_limited_lookahead_controller(opt['sys_utils'].get_value_function(opt['online_horizon'],\n",
    "                                                                                        opt['offline_dt'],\n",
    "                                             \n",
    "                                                                                                 dtype=opt['dtype'])[0])\n",
    "x_traj_sim, t_traj_sim = controllers.sim_ctrl(opt['sim_x0'], vf.u_dim[0], sys.dx,\n",
    "                                              ctrl_no_model, opt['sim_dt'], opt['sim_horizon'],\n",
    "                                              integration_mode=opt['control_interp'])\n",
    "controllers.plot_sim(t_traj_sim, x_traj_sim, \"No lookahead\").show()"
   ]
  },
  {
   "cell_type": "code",
   "execution_count": 23,
   "metadata": {},
   "outputs": [
    {
     "data": {
      "application/vnd.plotly.v1+json": {
       "config": {
        "plotlyServerURL": "https://plot.ly"
       },
       "data": [
        {
         "type": "scatter",
         "x": [
          0,
          0.06257887184619904,
          0.10000000149011612,
          0.11951106041669846,
          0.20000000298023224,
          0.2589667737483978,
          0.30000001192092896,
          0.3584846258163452,
          0.4000000059604645,
          0.45544886589050293,
          0.5,
          0.5524008870124817,
          0.6000000238418579,
          0.6539127230644226,
          0.699999988079071,
          0.7471375465393066,
          0.800000011920929,
          0.8466467261314392,
          0.8999999761581421,
          0.9532592296600342,
          1,
          1.0432848930358887,
          1.100000023841858,
          1.1500312089920044,
          1.2000000476837158,
          1.2509061098098755,
          1.2999999523162842,
          1.3557990789413452,
          1.399999976158142,
          1.458001732826233,
          1.5,
          1.5576144456863403,
          1.600000023841858,
          1.6557135581970215,
          1.7000000476837158,
          1.7533104419708252,
          1.7999999523162842,
          1.8510385751724243,
          1.899999976158142,
          1.949035882949829,
          2,
          2.047191619873047,
          2.0999999046325684,
          2.1452107429504395,
          2.200000047683716,
          2.2418019771575928,
          2.299999952316284,
          2.3258538246154785,
          2.4000000953674316,
          2.441622018814087,
          2.5,
          2.5414021015167236,
          2.5999999046325684,
          2.641040802001953,
          2.700000047683716,
          2.74106764793396,
          2.799999952316284,
          2.841231346130371,
          2.9000000953674316,
          2.940877914428711,
          3,
          3.0390090942382812,
          3.0999999046325684,
          3.1049416065216064,
          3.15435791015625,
          3.200000047683716,
          3.2631654739379883,
          3.299999952316284,
          3.3681890964508057,
          3.4000000953674316,
          3.464770555496216,
          3.5,
          3.562164306640625,
          3.5999999046325684,
          3.6590518951416016,
          3.700000047683716,
          3.756675958633423,
          3.799999952316284,
          3.855931282043457,
          3.9000000953674316,
          3.924581527709961,
          4,
          4.056585788726807,
          4.099999904632568,
          4.162258148193359,
          4.199999809265137,
          4.2600812911987305,
          4.300000190734863,
          4.348664283752441,
          4.400000095367432,
          4.4260430335998535,
          4.5,
          4.539558410644531,
          4.599999904632568,
          4.64277458190918,
          4.699999809265137,
          4.743608474731445,
          4.800000190734863,
          4.828995704650879,
          4.900000095367432
         ],
         "y": [
          3.3915927410125732,
          3.4651105403900146,
          3.5197434425354004,
          3.55126690864563,
          3.7007579803466797,
          3.8297841548919678,
          3.9287619590759277,
          4.082862377166748,
          4.2012434005737305,
          4.371347904205322,
          4.517646789550781,
          4.700960159301758,
          4.877554893493652,
          5.093288421630859,
          5.29442834854126,
          5.513881683349609,
          5.77245569229126,
          6.003695964813232,
          6.262184143066406,
          6.510080814361572,
          6.717110633850098,
          6.898446559906006,
          7.119910717010498,
          7.299652099609375,
          7.465032577514648,
          7.61973237991333,
          7.756766319274902,
          7.899068832397461,
          8.00246810913086,
          8.12630844116211,
          8.2081937789917,
          8.310247421264648,
          8.378254890441895,
          8.458803176879883,
          8.516165733337402,
          8.577668190002441,
          8.625239372253418,
          8.670817375183105,
          8.708662986755371,
          8.74109172821045,
          8.769332885742188,
          8.790782928466797,
          8.809656143188477,
          8.821733474731445,
          8.831406593322754,
          8.835311889648438,
          8.835611343383789,
          8.834003448486328,
          8.822470664978027,
          8.811805725097656,
          8.791285514831543,
          8.772797584533691,
          8.740432739257812,
          8.71338176727295,
          8.667428970336914,
          8.630382537841797,
          8.569129943847656,
          8.520472526550293,
          8.441962242126465,
          8.380829811096191,
          8.281978607177734,
          8.209820747375488,
          8.0849027633667,
          8.074151992797852,
          7.960854530334473,
          7.846982955932617,
          7.674999237060547,
          7.567074298858643,
          7.3540873527526855,
          7.249414920806885,
          7.0287933349609375,
          6.905675888061523,
          6.686751842498779,
          6.553896427154541,
          6.350165843963623,
          6.212522983551025,
          6.028243541717529,
          5.892306327819824,
          5.727777004241943,
          5.61018180847168,
          5.547539710998535,
          5.35521936416626,
          5.21162748336792,
          5.1039838790893555,
          4.95572566986084,
          4.870251655578613,
          4.742964744567871,
          4.66490364074707,
          4.577579021453857,
          4.495200157165527,
          4.4572367668151855,
          4.364448547363281,
          4.3236403465271,
          4.273416996002197,
          4.246520519256592,
          4.221902370452881,
          4.211740970611572,
          4.209867477416992,
          4.2137370109558105,
          4.237997531890869
         ]
        },
        {
         "type": "scatter",
         "x": [
          0,
          0.06257887184619904,
          0.10000000149011612,
          0.11951106041669846,
          0.20000000298023224,
          0.2589667737483978,
          0.30000001192092896,
          0.3584846258163452,
          0.4000000059604645,
          0.45544886589050293,
          0.5,
          0.5524008870124817,
          0.6000000238418579,
          0.6539127230644226,
          0.699999988079071,
          0.7471375465393066,
          0.800000011920929,
          0.8466467261314392,
          0.8999999761581421,
          0.9532592296600342,
          1,
          1.0432848930358887,
          1.100000023841858,
          1.1500312089920044,
          1.2000000476837158,
          1.2509061098098755,
          1.2999999523162842,
          1.3557990789413452,
          1.399999976158142,
          1.458001732826233,
          1.5,
          1.5576144456863403,
          1.600000023841858,
          1.6557135581970215,
          1.7000000476837158,
          1.7533104419708252,
          1.7999999523162842,
          1.8510385751724243,
          1.899999976158142,
          1.949035882949829,
          2,
          2.047191619873047,
          2.0999999046325684,
          2.1452107429504395,
          2.200000047683716,
          2.2418019771575928,
          2.299999952316284,
          2.3258538246154785,
          2.4000000953674316,
          2.441622018814087,
          2.5,
          2.5414021015167236,
          2.5999999046325684,
          2.641040802001953,
          2.700000047683716,
          2.74106764793396,
          2.799999952316284,
          2.841231346130371,
          2.9000000953674316,
          2.940877914428711,
          3,
          3.0390090942382812,
          3.0999999046325684,
          3.1049416065216064,
          3.15435791015625,
          3.200000047683716,
          3.2631654739379883,
          3.299999952316284,
          3.3681890964508057,
          3.4000000953674316,
          3.464770555496216,
          3.5,
          3.562164306640625,
          3.5999999046325684,
          3.6590518951416016,
          3.700000047683716,
          3.756675958633423,
          3.799999952316284,
          3.855931282043457,
          3.9000000953674316,
          3.924581527709961,
          4,
          4.056585788726807,
          4.099999904632568,
          4.162258148193359,
          4.199999809265137,
          4.2600812911987305,
          4.300000190734863,
          4.348664283752441,
          4.400000095367432,
          4.4260430335998535,
          4.5,
          4.539558410644531,
          4.599999904632568,
          4.64277458190918,
          4.699999809265137,
          4.743608474731445,
          4.800000190734863,
          4.828995704650879,
          4.900000095367432
         ],
         "y": [
          0.5,
          0.5440434813499451,
          0.5528283715248108,
          0.5528246164321899,
          0.5292634963989258,
          0.4924159646034241,
          0.46058210730552673,
          0.4091491401195526,
          0.3707839548587799,
          0.31837740540504456,
          0.2774561643600464,
          0.23109664022922516,
          0.19212839007377625,
          0.13986645638942719,
          0.07724682986736298,
          -0.0004970473237335682,
          -0.09720109403133392,
          -0.17411570250988007,
          -0.2336789071559906,
          -0.2616802752017975,
          -0.2623181641101837,
          -0.24455146491527557,
          -0.19952304661273956,
          -0.14402347803115845,
          -0.07917723059654236,
          -0.00785245094448328,
          0.062106020748615265,
          0.13992363214492798,
          0.1984243243932724,
          0.2702559530735016,
          0.3181038498878479,
          0.3787156045436859,
          0.41941359639167786,
          0.4689030945301056,
          0.5049890875816345,
          0.5454657077789307,
          0.5783123970031738,
          0.6120085716247559,
          0.6422542929649353,
          0.6708062291145325,
          0.6987677216529846,
          0.7231888175010681,
          0.7490412592887878,
          0.7698556184768677,
          0.7937741279602051,
          0.8108252882957458,
          0.8334541320800781,
          0.8426342010498047,
          0.8686009049415588,
          0.8819160461425781,
          0.8999332785606384,
          0.9118494391441345,
          0.9283714294433594,
          0.9392370581626892,
          0.9547178149223328,
          0.9648036360740662,
          0.9789960384368896,
          0.9879663586616516,
          0.9998430609703064,
          1.0066592693328857,
          1.0148169994354248,
          1.0183169841766357,
          1.0213673114776611,
          1.0213630199432373,
          1.0202960968017578,
          1.0165674686431885,
          1.0052679777145386,
          0.9950369596481323,
          0.9657000303268433,
          0.9469849467277527,
          0.8951276540756226,
          0.8589115142822266,
          0.7782365679740906,
          0.7190748453140259,
          0.611144483089447,
          0.5271962285041809,
          0.40167200565338135,
          0.3022993206977844,
          0.1619374006986618,
          0.035832472145557404,
          -0.03539988398551941,
          -0.22018592059612274,
          -0.32434284687042236,
          -0.3875542879104614,
          -0.45609432458877563,
          -0.4862523674964905,
          -0.5204199552536011,
          -0.5348965525627136,
          -0.5458323359489441,
          -0.5508679151535034,
          -0.5510812997817993,
          -0.5468762516975403,
          -0.5415762066841125,
          -0.5311760306358337,
          -0.5221447348594666,
          -0.5090233683586121,
          -0.4982023239135742,
          -0.48406723141670227,
          -0.4764476716518402,
          -0.4590475857257843
         ]
        },
        {
         "type": "scatter",
         "x": [
          0,
          0.06257887184619904,
          0.10000000149011612,
          0.11951106041669846,
          0.20000000298023224,
          0.2589667737483978,
          0.30000001192092896,
          0.3584846258163452,
          0.4000000059604645,
          0.45544886589050293,
          0.5,
          0.5524008870124817,
          0.6000000238418579,
          0.6539127230644226,
          0.699999988079071,
          0.7471375465393066,
          0.800000011920929,
          0.8466467261314392,
          0.8999999761581421,
          0.9532592296600342,
          1,
          1.0432848930358887,
          1.100000023841858,
          1.1500312089920044,
          1.2000000476837158,
          1.2509061098098755,
          1.2999999523162842,
          1.3557990789413452,
          1.399999976158142,
          1.458001732826233,
          1.5,
          1.5576144456863403,
          1.600000023841858,
          1.6557135581970215,
          1.7000000476837158,
          1.7533104419708252,
          1.7999999523162842,
          1.8510385751724243,
          1.899999976158142,
          1.949035882949829,
          2,
          2.047191619873047,
          2.0999999046325684,
          2.1452107429504395,
          2.200000047683716,
          2.2418019771575928,
          2.299999952316284,
          2.3258538246154785,
          2.4000000953674316,
          2.441622018814087,
          2.5,
          2.5414021015167236,
          2.5999999046325684,
          2.641040802001953,
          2.700000047683716,
          2.74106764793396,
          2.799999952316284,
          2.841231346130371,
          2.9000000953674316,
          2.940877914428711,
          3,
          3.0390090942382812,
          3.0999999046325684,
          3.1049416065216064,
          3.15435791015625,
          3.200000047683716,
          3.2631654739379883,
          3.299999952316284,
          3.3681890964508057,
          3.4000000953674316,
          3.464770555496216,
          3.5,
          3.562164306640625,
          3.5999999046325684,
          3.6590518951416016,
          3.700000047683716,
          3.756675958633423,
          3.799999952316284,
          3.855931282043457,
          3.9000000953674316,
          3.924581527709961,
          4,
          4.056585788726807,
          4.099999904632568,
          4.162258148193359,
          4.199999809265137,
          4.2600812911987305,
          4.300000190734863,
          4.348664283752441,
          4.400000095367432,
          4.4260430335998535,
          4.5,
          4.539558410644531,
          4.599999904632568,
          4.64277458190918,
          4.699999809265137,
          4.743608474731445,
          4.800000190734863,
          4.828995704650879,
          4.900000095367432
         ],
         "y": [
          1,
          1.3515533208847046,
          1.5696717500686646,
          1.661842942237854,
          2.0575461387634277,
          2.3195598125457764,
          2.505168914794922,
          2.7629871368408203,
          2.9387850761413574,
          3.192030191421509,
          3.3714897632598877,
          3.6173486709594727,
          3.794384717941284,
          4.203557014465332,
          4.517742156982422,
          4.7819013595581055,
          4.981799602508545,
          4.919692516326904,
          4.75347375869751,
          4.543526649475098,
          4.308896541595459,
          4.067353248596191,
          3.743474006652832,
          3.4457266330718994,
          3.179912805557251,
          2.9054114818573,
          2.6843035221099854,
          2.4254748821258545,
          2.2584714889526367,
          2.021087884902954,
          1.8828904628753662,
          1.6687748432159424,
          1.5448203086853027,
          1.3552706241607666,
          1.2403732538223267,
          1.0749852657318115,
          0.9685860276222229,
          0.8248531818389893,
          0.7275293469429016,
          0.6019183993339539,
          0.51326584815979,
          0.40198469161987305,
          0.32010799646377563,
          0.21967238187789917,
          0.14111201465129852,
          0.050329409539699554,
          -0.03162720799446106,
          -0.09105651080608368,
          -0.20680591464042664,
          -0.3015148341655731,
          -0.39376628398895264,
          -0.4955478012561798,
          -0.6018478870391846,
          -0.7131142020225525,
          -0.83906489610672,
          -0.9623744487762451,
          -1.1106979846954346,
          -1.2474312782287598,
          -1.419793725013733,
          -1.569841980934143,
          -1.7704875469207764,
          -1.9284813404083252,
          -2.1649162769317627,
          -2.186229944229126,
          -2.398801803588867,
          -2.589426279067993,
          -2.8550498485565186,
          -3.003649950027466,
          -3.2396459579467773,
          -3.3399147987365723,
          -3.4666669368743896,
          -3.521200180053711,
          -3.5170929431915283,
          -3.5054948329925537,
          -3.395009994506836,
          -3.331235885620117,
          -3.1792283058166504,
          -3.1032016277313232,
          -2.783827304840088,
          -2.558304786682129,
          -2.5414040088653564,
          -2.5752692222595215,
          -2.503246545791626,
          -2.45609450340271,
          -2.3079934120178223,
          -2.2218775749206543,
          -2.0183353424072266,
          -1.8943442106246948,
          -1.6980736255645752,
          -1.5158699750900269,
          -1.4008803367614746,
          -1.1198952198028564,
          -0.9468078017234802,
          -0.7234447002410889,
          -0.5382839441299438,
          -0.32954642176628113,
          -0.14061051607131958,
          0.0673731192946434,
          0.19785010814666748,
          0.475685179233551
         ]
        },
        {
         "type": "scatter",
         "x": [
          0,
          0.06257887184619904,
          0.10000000149011612,
          0.11951106041669846,
          0.20000000298023224,
          0.2589667737483978,
          0.30000001192092896,
          0.3584846258163452,
          0.4000000059604645,
          0.45544886589050293,
          0.5,
          0.5524008870124817,
          0.6000000238418579,
          0.6539127230644226,
          0.699999988079071,
          0.7471375465393066,
          0.800000011920929,
          0.8466467261314392,
          0.8999999761581421,
          0.9532592296600342,
          1,
          1.0432848930358887,
          1.100000023841858,
          1.1500312089920044,
          1.2000000476837158,
          1.2509061098098755,
          1.2999999523162842,
          1.3557990789413452,
          1.399999976158142,
          1.458001732826233,
          1.5,
          1.5576144456863403,
          1.600000023841858,
          1.6557135581970215,
          1.7000000476837158,
          1.7533104419708252,
          1.7999999523162842,
          1.8510385751724243,
          1.899999976158142,
          1.949035882949829,
          2,
          2.047191619873047,
          2.0999999046325684,
          2.1452107429504395,
          2.200000047683716,
          2.2418019771575928,
          2.299999952316284,
          2.3258538246154785,
          2.4000000953674316,
          2.441622018814087,
          2.5,
          2.5414021015167236,
          2.5999999046325684,
          2.641040802001953,
          2.700000047683716,
          2.74106764793396,
          2.799999952316284,
          2.841231346130371,
          2.9000000953674316,
          2.940877914428711,
          3,
          3.0390090942382812,
          3.0999999046325684,
          3.1049416065216064,
          3.15435791015625,
          3.200000047683716,
          3.2631654739379883,
          3.299999952316284,
          3.3681890964508057,
          3.4000000953674316,
          3.464770555496216,
          3.5,
          3.562164306640625,
          3.5999999046325684,
          3.6590518951416016,
          3.700000047683716,
          3.756675958633423,
          3.799999952316284,
          3.855931282043457,
          3.9000000953674316,
          3.924581527709961,
          4,
          4.056585788726807,
          4.099999904632568,
          4.162258148193359,
          4.199999809265137,
          4.2600812911987305,
          4.300000190734863,
          4.348664283752441,
          4.400000095367432,
          4.4260430335998535,
          4.5,
          4.539558410644531,
          4.599999904632568,
          4.64277458190918,
          4.699999809265137,
          4.743608474731445,
          4.800000190734863,
          4.828995704650879,
          4.900000095367432
         ],
         "y": [
          1,
          0.41009294986724854,
          0.05877809599041939,
          -0.05869719386100769,
          -0.5227256417274475,
          -0.7192181944847107,
          -0.8286858201026917,
          -0.9160642623901367,
          -0.9243074655532837,
          -0.9468281865119934,
          -0.8760957717895508,
          -0.8715044856071472,
          -0.7450482845306396,
          -1.1881351470947266,
          -1.5179156064987183,
          -1.7608059644699097,
          -1.8638266324996948,
          -1.4170705080032349,
          -0.8006444573402405,
          -0.2497398406267166,
          0.21582187712192535,
          0.5940833687782288,
          0.9671159982681274,
          1.2278956174850464,
          1.3430864810943604,
          1.4352545738220215,
          1.3947855234146118,
          1.3716484308242798,
          1.263206958770752,
          1.194177269935608,
          1.0753653049468994,
          1.0113987922668457,
          0.9001946449279785,
          0.8600979447364807,
          0.7595600485801697,
          0.7432096600532532,
          0.651920735836029,
          0.6531405448913574,
          0.5684223771095276,
          0.5811649560928345,
          0.5002509951591492,
          0.5202880501747131,
          0.4410593509674072,
          0.4660196006298065,
          0.38735392689704895,
          0.4164547622203827,
          0.33835259079933167,
          0.36710962653160095,
          0.2954710125923157,
          0.3321591019630432,
          0.26144587993621826,
          0.30222243070602417,
          0.23791459202766418,
          0.28019678592681885,
          0.2214108407497406,
          0.2590755820274353,
          0.20018179714679718,
          0.2252618968486786,
          0.15834768116474152,
          0.1671256721019745,
          0.09039603918790817,
          0.08358581364154816,
          0.00045558647252619267,
          -0.0022411630488932133,
          -0.04663343355059624,
          -0.12336423993110657,
          -0.23818714916706085,
          -0.31968095898628235,
          -0.5387581586837769,
          -0.6375609636306763,
          -0.9542986750602722,
          -1.0973701477050781,
          -1.4784010648727417,
          -1.6373910903930664,
          -1.985874891281128,
          -2.0927765369415283,
          -2.294708490371704,
          -2.2641825675964355,
          -2.729055404663086,
          -2.975086212158203,
          -2.811509847640991,
          -2.0287044048309326,
          -1.6342031955718994,
          -1.271246314048767,
          -0.9190561771392822,
          -0.675774872303009,
          -0.4516419470310211,
          -0.2690208852291107,
          -0.17222748696804047,
          -0.013761190697550774,
          0.00023295309802051634,
          0.13881351053714752,
          0.13686081767082214,
          0.22652435302734375,
          0.2055245190858841,
          0.2713812291622162,
          0.23542103171348572,
          0.2840754985809326,
          0.24613304436206818,
          0.2725604772567749
         ]
        }
       ],
       "layout": {
        "template": {
         "data": {
          "bar": [
           {
            "error_x": {
             "color": "#2a3f5f"
            },
            "error_y": {
             "color": "#2a3f5f"
            },
            "marker": {
             "line": {
              "color": "#E5ECF6",
              "width": 0.5
             }
            },
            "type": "bar"
           }
          ],
          "barpolar": [
           {
            "marker": {
             "line": {
              "color": "#E5ECF6",
              "width": 0.5
             }
            },
            "type": "barpolar"
           }
          ],
          "carpet": [
           {
            "aaxis": {
             "endlinecolor": "#2a3f5f",
             "gridcolor": "white",
             "linecolor": "white",
             "minorgridcolor": "white",
             "startlinecolor": "#2a3f5f"
            },
            "baxis": {
             "endlinecolor": "#2a3f5f",
             "gridcolor": "white",
             "linecolor": "white",
             "minorgridcolor": "white",
             "startlinecolor": "#2a3f5f"
            },
            "type": "carpet"
           }
          ],
          "choropleth": [
           {
            "colorbar": {
             "outlinewidth": 0,
             "ticks": ""
            },
            "type": "choropleth"
           }
          ],
          "contour": [
           {
            "colorbar": {
             "outlinewidth": 0,
             "ticks": ""
            },
            "colorscale": [
             [
              0,
              "#0d0887"
             ],
             [
              0.1111111111111111,
              "#46039f"
             ],
             [
              0.2222222222222222,
              "#7201a8"
             ],
             [
              0.3333333333333333,
              "#9c179e"
             ],
             [
              0.4444444444444444,
              "#bd3786"
             ],
             [
              0.5555555555555556,
              "#d8576b"
             ],
             [
              0.6666666666666666,
              "#ed7953"
             ],
             [
              0.7777777777777778,
              "#fb9f3a"
             ],
             [
              0.8888888888888888,
              "#fdca26"
             ],
             [
              1,
              "#f0f921"
             ]
            ],
            "type": "contour"
           }
          ],
          "contourcarpet": [
           {
            "colorbar": {
             "outlinewidth": 0,
             "ticks": ""
            },
            "type": "contourcarpet"
           }
          ],
          "heatmap": [
           {
            "colorbar": {
             "outlinewidth": 0,
             "ticks": ""
            },
            "colorscale": [
             [
              0,
              "#0d0887"
             ],
             [
              0.1111111111111111,
              "#46039f"
             ],
             [
              0.2222222222222222,
              "#7201a8"
             ],
             [
              0.3333333333333333,
              "#9c179e"
             ],
             [
              0.4444444444444444,
              "#bd3786"
             ],
             [
              0.5555555555555556,
              "#d8576b"
             ],
             [
              0.6666666666666666,
              "#ed7953"
             ],
             [
              0.7777777777777778,
              "#fb9f3a"
             ],
             [
              0.8888888888888888,
              "#fdca26"
             ],
             [
              1,
              "#f0f921"
             ]
            ],
            "type": "heatmap"
           }
          ],
          "heatmapgl": [
           {
            "colorbar": {
             "outlinewidth": 0,
             "ticks": ""
            },
            "colorscale": [
             [
              0,
              "#0d0887"
             ],
             [
              0.1111111111111111,
              "#46039f"
             ],
             [
              0.2222222222222222,
              "#7201a8"
             ],
             [
              0.3333333333333333,
              "#9c179e"
             ],
             [
              0.4444444444444444,
              "#bd3786"
             ],
             [
              0.5555555555555556,
              "#d8576b"
             ],
             [
              0.6666666666666666,
              "#ed7953"
             ],
             [
              0.7777777777777778,
              "#fb9f3a"
             ],
             [
              0.8888888888888888,
              "#fdca26"
             ],
             [
              1,
              "#f0f921"
             ]
            ],
            "type": "heatmapgl"
           }
          ],
          "histogram": [
           {
            "marker": {
             "colorbar": {
              "outlinewidth": 0,
              "ticks": ""
             }
            },
            "type": "histogram"
           }
          ],
          "histogram2d": [
           {
            "colorbar": {
             "outlinewidth": 0,
             "ticks": ""
            },
            "colorscale": [
             [
              0,
              "#0d0887"
             ],
             [
              0.1111111111111111,
              "#46039f"
             ],
             [
              0.2222222222222222,
              "#7201a8"
             ],
             [
              0.3333333333333333,
              "#9c179e"
             ],
             [
              0.4444444444444444,
              "#bd3786"
             ],
             [
              0.5555555555555556,
              "#d8576b"
             ],
             [
              0.6666666666666666,
              "#ed7953"
             ],
             [
              0.7777777777777778,
              "#fb9f3a"
             ],
             [
              0.8888888888888888,
              "#fdca26"
             ],
             [
              1,
              "#f0f921"
             ]
            ],
            "type": "histogram2d"
           }
          ],
          "histogram2dcontour": [
           {
            "colorbar": {
             "outlinewidth": 0,
             "ticks": ""
            },
            "colorscale": [
             [
              0,
              "#0d0887"
             ],
             [
              0.1111111111111111,
              "#46039f"
             ],
             [
              0.2222222222222222,
              "#7201a8"
             ],
             [
              0.3333333333333333,
              "#9c179e"
             ],
             [
              0.4444444444444444,
              "#bd3786"
             ],
             [
              0.5555555555555556,
              "#d8576b"
             ],
             [
              0.6666666666666666,
              "#ed7953"
             ],
             [
              0.7777777777777778,
              "#fb9f3a"
             ],
             [
              0.8888888888888888,
              "#fdca26"
             ],
             [
              1,
              "#f0f921"
             ]
            ],
            "type": "histogram2dcontour"
           }
          ],
          "mesh3d": [
           {
            "colorbar": {
             "outlinewidth": 0,
             "ticks": ""
            },
            "type": "mesh3d"
           }
          ],
          "parcoords": [
           {
            "line": {
             "colorbar": {
              "outlinewidth": 0,
              "ticks": ""
             }
            },
            "type": "parcoords"
           }
          ],
          "pie": [
           {
            "automargin": true,
            "type": "pie"
           }
          ],
          "scatter": [
           {
            "marker": {
             "colorbar": {
              "outlinewidth": 0,
              "ticks": ""
             }
            },
            "type": "scatter"
           }
          ],
          "scatter3d": [
           {
            "line": {
             "colorbar": {
              "outlinewidth": 0,
              "ticks": ""
             }
            },
            "marker": {
             "colorbar": {
              "outlinewidth": 0,
              "ticks": ""
             }
            },
            "type": "scatter3d"
           }
          ],
          "scattercarpet": [
           {
            "marker": {
             "colorbar": {
              "outlinewidth": 0,
              "ticks": ""
             }
            },
            "type": "scattercarpet"
           }
          ],
          "scattergeo": [
           {
            "marker": {
             "colorbar": {
              "outlinewidth": 0,
              "ticks": ""
             }
            },
            "type": "scattergeo"
           }
          ],
          "scattergl": [
           {
            "marker": {
             "colorbar": {
              "outlinewidth": 0,
              "ticks": ""
             }
            },
            "type": "scattergl"
           }
          ],
          "scattermapbox": [
           {
            "marker": {
             "colorbar": {
              "outlinewidth": 0,
              "ticks": ""
             }
            },
            "type": "scattermapbox"
           }
          ],
          "scatterpolar": [
           {
            "marker": {
             "colorbar": {
              "outlinewidth": 0,
              "ticks": ""
             }
            },
            "type": "scatterpolar"
           }
          ],
          "scatterpolargl": [
           {
            "marker": {
             "colorbar": {
              "outlinewidth": 0,
              "ticks": ""
             }
            },
            "type": "scatterpolargl"
           }
          ],
          "scatterternary": [
           {
            "marker": {
             "colorbar": {
              "outlinewidth": 0,
              "ticks": ""
             }
            },
            "type": "scatterternary"
           }
          ],
          "surface": [
           {
            "colorbar": {
             "outlinewidth": 0,
             "ticks": ""
            },
            "colorscale": [
             [
              0,
              "#0d0887"
             ],
             [
              0.1111111111111111,
              "#46039f"
             ],
             [
              0.2222222222222222,
              "#7201a8"
             ],
             [
              0.3333333333333333,
              "#9c179e"
             ],
             [
              0.4444444444444444,
              "#bd3786"
             ],
             [
              0.5555555555555556,
              "#d8576b"
             ],
             [
              0.6666666666666666,
              "#ed7953"
             ],
             [
              0.7777777777777778,
              "#fb9f3a"
             ],
             [
              0.8888888888888888,
              "#fdca26"
             ],
             [
              1,
              "#f0f921"
             ]
            ],
            "type": "surface"
           }
          ],
          "table": [
           {
            "cells": {
             "fill": {
              "color": "#EBF0F8"
             },
             "line": {
              "color": "white"
             }
            },
            "header": {
             "fill": {
              "color": "#C8D4E3"
             },
             "line": {
              "color": "white"
             }
            },
            "type": "table"
           }
          ]
         },
         "layout": {
          "annotationdefaults": {
           "arrowcolor": "#2a3f5f",
           "arrowhead": 0,
           "arrowwidth": 1
          },
          "coloraxis": {
           "colorbar": {
            "outlinewidth": 0,
            "ticks": ""
           }
          },
          "colorscale": {
           "diverging": [
            [
             0,
             "#8e0152"
            ],
            [
             0.1,
             "#c51b7d"
            ],
            [
             0.2,
             "#de77ae"
            ],
            [
             0.3,
             "#f1b6da"
            ],
            [
             0.4,
             "#fde0ef"
            ],
            [
             0.5,
             "#f7f7f7"
            ],
            [
             0.6,
             "#e6f5d0"
            ],
            [
             0.7,
             "#b8e186"
            ],
            [
             0.8,
             "#7fbc41"
            ],
            [
             0.9,
             "#4d9221"
            ],
            [
             1,
             "#276419"
            ]
           ],
           "sequential": [
            [
             0,
             "#0d0887"
            ],
            [
             0.1111111111111111,
             "#46039f"
            ],
            [
             0.2222222222222222,
             "#7201a8"
            ],
            [
             0.3333333333333333,
             "#9c179e"
            ],
            [
             0.4444444444444444,
             "#bd3786"
            ],
            [
             0.5555555555555556,
             "#d8576b"
            ],
            [
             0.6666666666666666,
             "#ed7953"
            ],
            [
             0.7777777777777778,
             "#fb9f3a"
            ],
            [
             0.8888888888888888,
             "#fdca26"
            ],
            [
             1,
             "#f0f921"
            ]
           ],
           "sequentialminus": [
            [
             0,
             "#0d0887"
            ],
            [
             0.1111111111111111,
             "#46039f"
            ],
            [
             0.2222222222222222,
             "#7201a8"
            ],
            [
             0.3333333333333333,
             "#9c179e"
            ],
            [
             0.4444444444444444,
             "#bd3786"
            ],
            [
             0.5555555555555556,
             "#d8576b"
            ],
            [
             0.6666666666666666,
             "#ed7953"
            ],
            [
             0.7777777777777778,
             "#fb9f3a"
            ],
            [
             0.8888888888888888,
             "#fdca26"
            ],
            [
             1,
             "#f0f921"
            ]
           ]
          },
          "colorway": [
           "#636efa",
           "#EF553B",
           "#00cc96",
           "#ab63fa",
           "#FFA15A",
           "#19d3f3",
           "#FF6692",
           "#B6E880",
           "#FF97FF",
           "#FECB52"
          ],
          "font": {
           "color": "#2a3f5f"
          },
          "geo": {
           "bgcolor": "white",
           "lakecolor": "white",
           "landcolor": "#E5ECF6",
           "showlakes": true,
           "showland": true,
           "subunitcolor": "white"
          },
          "hoverlabel": {
           "align": "left"
          },
          "hovermode": "closest",
          "mapbox": {
           "style": "light"
          },
          "paper_bgcolor": "white",
          "plot_bgcolor": "#E5ECF6",
          "polar": {
           "angularaxis": {
            "gridcolor": "white",
            "linecolor": "white",
            "ticks": ""
           },
           "bgcolor": "#E5ECF6",
           "radialaxis": {
            "gridcolor": "white",
            "linecolor": "white",
            "ticks": ""
           }
          },
          "scene": {
           "xaxis": {
            "backgroundcolor": "#E5ECF6",
            "gridcolor": "white",
            "gridwidth": 2,
            "linecolor": "white",
            "showbackground": true,
            "ticks": "",
            "zerolinecolor": "white"
           },
           "yaxis": {
            "backgroundcolor": "#E5ECF6",
            "gridcolor": "white",
            "gridwidth": 2,
            "linecolor": "white",
            "showbackground": true,
            "ticks": "",
            "zerolinecolor": "white"
           },
           "zaxis": {
            "backgroundcolor": "#E5ECF6",
            "gridcolor": "white",
            "gridwidth": 2,
            "linecolor": "white",
            "showbackground": true,
            "ticks": "",
            "zerolinecolor": "white"
           }
          },
          "shapedefaults": {
           "line": {
            "color": "#2a3f5f"
           }
          },
          "ternary": {
           "aaxis": {
            "gridcolor": "white",
            "linecolor": "white",
            "ticks": ""
           },
           "baxis": {
            "gridcolor": "white",
            "linecolor": "white",
            "ticks": ""
           },
           "bgcolor": "#E5ECF6",
           "caxis": {
            "gridcolor": "white",
            "linecolor": "white",
            "ticks": ""
           }
          },
          "title": {
           "x": 0.05
          },
          "xaxis": {
           "automargin": true,
           "gridcolor": "white",
           "linecolor": "white",
           "ticks": "",
           "title": {
            "standoff": 15
           },
           "zerolinecolor": "white",
           "zerolinewidth": 2
          },
          "yaxis": {
           "automargin": true,
           "gridcolor": "white",
           "linecolor": "white",
           "ticks": "",
           "title": {
            "standoff": 15
           },
           "zerolinecolor": "white",
           "zerolinewidth": 2
          }
         }
        },
        "title": {
         "text": "Baseline"
        }
       }
      },
      "text/html": [
       "<div>\n",
       "        \n",
       "        \n",
       "            <div id=\"d17a05f3-9078-4d0e-836b-19373546ca8b\" class=\"plotly-graph-div\" style=\"height:525px; width:100%;\"></div>\n",
       "            <script type=\"text/javascript\">\n",
       "                require([\"plotly\"], function(Plotly) {\n",
       "                    window.PLOTLYENV=window.PLOTLYENV || {};\n",
       "                    \n",
       "                if (document.getElementById(\"d17a05f3-9078-4d0e-836b-19373546ca8b\")) {\n",
       "                    Plotly.newPlot(\n",
       "                        'd17a05f3-9078-4d0e-836b-19373546ca8b',\n",
       "                        [{\"type\": \"scatter\", \"x\": [0.0, 0.06257887184619904, 0.10000000149011612, 0.11951106041669846, 0.20000000298023224, 0.2589667737483978, 0.30000001192092896, 0.3584846258163452, 0.4000000059604645, 0.45544886589050293, 0.5, 0.5524008870124817, 0.6000000238418579, 0.6539127230644226, 0.699999988079071, 0.7471375465393066, 0.800000011920929, 0.8466467261314392, 0.8999999761581421, 0.9532592296600342, 1.0, 1.0432848930358887, 1.100000023841858, 1.1500312089920044, 1.2000000476837158, 1.2509061098098755, 1.2999999523162842, 1.3557990789413452, 1.399999976158142, 1.458001732826233, 1.5, 1.5576144456863403, 1.600000023841858, 1.6557135581970215, 1.7000000476837158, 1.7533104419708252, 1.7999999523162842, 1.8510385751724243, 1.899999976158142, 1.949035882949829, 2.0, 2.047191619873047, 2.0999999046325684, 2.1452107429504395, 2.200000047683716, 2.2418019771575928, 2.299999952316284, 2.3258538246154785, 2.4000000953674316, 2.441622018814087, 2.5, 2.5414021015167236, 2.5999999046325684, 2.641040802001953, 2.700000047683716, 2.74106764793396, 2.799999952316284, 2.841231346130371, 2.9000000953674316, 2.940877914428711, 3.0, 3.0390090942382812, 3.0999999046325684, 3.1049416065216064, 3.15435791015625, 3.200000047683716, 3.2631654739379883, 3.299999952316284, 3.3681890964508057, 3.4000000953674316, 3.464770555496216, 3.5, 3.562164306640625, 3.5999999046325684, 3.6590518951416016, 3.700000047683716, 3.756675958633423, 3.799999952316284, 3.855931282043457, 3.9000000953674316, 3.924581527709961, 4.0, 4.056585788726807, 4.099999904632568, 4.162258148193359, 4.199999809265137, 4.2600812911987305, 4.300000190734863, 4.348664283752441, 4.400000095367432, 4.4260430335998535, 4.5, 4.539558410644531, 4.599999904632568, 4.64277458190918, 4.699999809265137, 4.743608474731445, 4.800000190734863, 4.828995704650879, 4.900000095367432], \"y\": [3.3915927410125732, 3.4651105403900146, 3.5197434425354004, 3.55126690864563, 3.7007579803466797, 3.8297841548919678, 3.9287619590759277, 4.082862377166748, 4.2012434005737305, 4.371347904205322, 4.517646789550781, 4.700960159301758, 4.877554893493652, 5.093288421630859, 5.29442834854126, 5.513881683349609, 5.77245569229126, 6.003695964813232, 6.262184143066406, 6.510080814361572, 6.717110633850098, 6.898446559906006, 7.119910717010498, 7.299652099609375, 7.465032577514648, 7.61973237991333, 7.756766319274902, 7.899068832397461, 8.00246810913086, 8.12630844116211, 8.2081937789917, 8.310247421264648, 8.378254890441895, 8.458803176879883, 8.516165733337402, 8.577668190002441, 8.625239372253418, 8.670817375183105, 8.708662986755371, 8.74109172821045, 8.769332885742188, 8.790782928466797, 8.809656143188477, 8.821733474731445, 8.831406593322754, 8.835311889648438, 8.835611343383789, 8.834003448486328, 8.822470664978027, 8.811805725097656, 8.791285514831543, 8.772797584533691, 8.740432739257812, 8.71338176727295, 8.667428970336914, 8.630382537841797, 8.569129943847656, 8.520472526550293, 8.441962242126465, 8.380829811096191, 8.281978607177734, 8.209820747375488, 8.0849027633667, 8.074151992797852, 7.960854530334473, 7.846982955932617, 7.674999237060547, 7.567074298858643, 7.3540873527526855, 7.249414920806885, 7.0287933349609375, 6.905675888061523, 6.686751842498779, 6.553896427154541, 6.350165843963623, 6.212522983551025, 6.028243541717529, 5.892306327819824, 5.727777004241943, 5.61018180847168, 5.547539710998535, 5.35521936416626, 5.21162748336792, 5.1039838790893555, 4.95572566986084, 4.870251655578613, 4.742964744567871, 4.66490364074707, 4.577579021453857, 4.495200157165527, 4.4572367668151855, 4.364448547363281, 4.3236403465271, 4.273416996002197, 4.246520519256592, 4.221902370452881, 4.211740970611572, 4.209867477416992, 4.2137370109558105, 4.237997531890869]}, {\"type\": \"scatter\", \"x\": [0.0, 0.06257887184619904, 0.10000000149011612, 0.11951106041669846, 0.20000000298023224, 0.2589667737483978, 0.30000001192092896, 0.3584846258163452, 0.4000000059604645, 0.45544886589050293, 0.5, 0.5524008870124817, 0.6000000238418579, 0.6539127230644226, 0.699999988079071, 0.7471375465393066, 0.800000011920929, 0.8466467261314392, 0.8999999761581421, 0.9532592296600342, 1.0, 1.0432848930358887, 1.100000023841858, 1.1500312089920044, 1.2000000476837158, 1.2509061098098755, 1.2999999523162842, 1.3557990789413452, 1.399999976158142, 1.458001732826233, 1.5, 1.5576144456863403, 1.600000023841858, 1.6557135581970215, 1.7000000476837158, 1.7533104419708252, 1.7999999523162842, 1.8510385751724243, 1.899999976158142, 1.949035882949829, 2.0, 2.047191619873047, 2.0999999046325684, 2.1452107429504395, 2.200000047683716, 2.2418019771575928, 2.299999952316284, 2.3258538246154785, 2.4000000953674316, 2.441622018814087, 2.5, 2.5414021015167236, 2.5999999046325684, 2.641040802001953, 2.700000047683716, 2.74106764793396, 2.799999952316284, 2.841231346130371, 2.9000000953674316, 2.940877914428711, 3.0, 3.0390090942382812, 3.0999999046325684, 3.1049416065216064, 3.15435791015625, 3.200000047683716, 3.2631654739379883, 3.299999952316284, 3.3681890964508057, 3.4000000953674316, 3.464770555496216, 3.5, 3.562164306640625, 3.5999999046325684, 3.6590518951416016, 3.700000047683716, 3.756675958633423, 3.799999952316284, 3.855931282043457, 3.9000000953674316, 3.924581527709961, 4.0, 4.056585788726807, 4.099999904632568, 4.162258148193359, 4.199999809265137, 4.2600812911987305, 4.300000190734863, 4.348664283752441, 4.400000095367432, 4.4260430335998535, 4.5, 4.539558410644531, 4.599999904632568, 4.64277458190918, 4.699999809265137, 4.743608474731445, 4.800000190734863, 4.828995704650879, 4.900000095367432], \"y\": [0.5, 0.5440434813499451, 0.5528283715248108, 0.5528246164321899, 0.5292634963989258, 0.4924159646034241, 0.46058210730552673, 0.4091491401195526, 0.3707839548587799, 0.31837740540504456, 0.2774561643600464, 0.23109664022922516, 0.19212839007377625, 0.13986645638942719, 0.07724682986736298, -0.0004970473237335682, -0.09720109403133392, -0.17411570250988007, -0.2336789071559906, -0.2616802752017975, -0.2623181641101837, -0.24455146491527557, -0.19952304661273956, -0.14402347803115845, -0.07917723059654236, -0.00785245094448328, 0.062106020748615265, 0.13992363214492798, 0.1984243243932724, 0.2702559530735016, 0.3181038498878479, 0.3787156045436859, 0.41941359639167786, 0.4689030945301056, 0.5049890875816345, 0.5454657077789307, 0.5783123970031738, 0.6120085716247559, 0.6422542929649353, 0.6708062291145325, 0.6987677216529846, 0.7231888175010681, 0.7490412592887878, 0.7698556184768677, 0.7937741279602051, 0.8108252882957458, 0.8334541320800781, 0.8426342010498047, 0.8686009049415588, 0.8819160461425781, 0.8999332785606384, 0.9118494391441345, 0.9283714294433594, 0.9392370581626892, 0.9547178149223328, 0.9648036360740662, 0.9789960384368896, 0.9879663586616516, 0.9998430609703064, 1.0066592693328857, 1.0148169994354248, 1.0183169841766357, 1.0213673114776611, 1.0213630199432373, 1.0202960968017578, 1.0165674686431885, 1.0052679777145386, 0.9950369596481323, 0.9657000303268433, 0.9469849467277527, 0.8951276540756226, 0.8589115142822266, 0.7782365679740906, 0.7190748453140259, 0.611144483089447, 0.5271962285041809, 0.40167200565338135, 0.3022993206977844, 0.1619374006986618, 0.035832472145557404, -0.03539988398551941, -0.22018592059612274, -0.32434284687042236, -0.3875542879104614, -0.45609432458877563, -0.4862523674964905, -0.5204199552536011, -0.5348965525627136, -0.5458323359489441, -0.5508679151535034, -0.5510812997817993, -0.5468762516975403, -0.5415762066841125, -0.5311760306358337, -0.5221447348594666, -0.5090233683586121, -0.4982023239135742, -0.48406723141670227, -0.4764476716518402, -0.4590475857257843]}, {\"type\": \"scatter\", \"x\": [0.0, 0.06257887184619904, 0.10000000149011612, 0.11951106041669846, 0.20000000298023224, 0.2589667737483978, 0.30000001192092896, 0.3584846258163452, 0.4000000059604645, 0.45544886589050293, 0.5, 0.5524008870124817, 0.6000000238418579, 0.6539127230644226, 0.699999988079071, 0.7471375465393066, 0.800000011920929, 0.8466467261314392, 0.8999999761581421, 0.9532592296600342, 1.0, 1.0432848930358887, 1.100000023841858, 1.1500312089920044, 1.2000000476837158, 1.2509061098098755, 1.2999999523162842, 1.3557990789413452, 1.399999976158142, 1.458001732826233, 1.5, 1.5576144456863403, 1.600000023841858, 1.6557135581970215, 1.7000000476837158, 1.7533104419708252, 1.7999999523162842, 1.8510385751724243, 1.899999976158142, 1.949035882949829, 2.0, 2.047191619873047, 2.0999999046325684, 2.1452107429504395, 2.200000047683716, 2.2418019771575928, 2.299999952316284, 2.3258538246154785, 2.4000000953674316, 2.441622018814087, 2.5, 2.5414021015167236, 2.5999999046325684, 2.641040802001953, 2.700000047683716, 2.74106764793396, 2.799999952316284, 2.841231346130371, 2.9000000953674316, 2.940877914428711, 3.0, 3.0390090942382812, 3.0999999046325684, 3.1049416065216064, 3.15435791015625, 3.200000047683716, 3.2631654739379883, 3.299999952316284, 3.3681890964508057, 3.4000000953674316, 3.464770555496216, 3.5, 3.562164306640625, 3.5999999046325684, 3.6590518951416016, 3.700000047683716, 3.756675958633423, 3.799999952316284, 3.855931282043457, 3.9000000953674316, 3.924581527709961, 4.0, 4.056585788726807, 4.099999904632568, 4.162258148193359, 4.199999809265137, 4.2600812911987305, 4.300000190734863, 4.348664283752441, 4.400000095367432, 4.4260430335998535, 4.5, 4.539558410644531, 4.599999904632568, 4.64277458190918, 4.699999809265137, 4.743608474731445, 4.800000190734863, 4.828995704650879, 4.900000095367432], \"y\": [1.0, 1.3515533208847046, 1.5696717500686646, 1.661842942237854, 2.0575461387634277, 2.3195598125457764, 2.505168914794922, 2.7629871368408203, 2.9387850761413574, 3.192030191421509, 3.3714897632598877, 3.6173486709594727, 3.794384717941284, 4.203557014465332, 4.517742156982422, 4.7819013595581055, 4.981799602508545, 4.919692516326904, 4.75347375869751, 4.543526649475098, 4.308896541595459, 4.067353248596191, 3.743474006652832, 3.4457266330718994, 3.179912805557251, 2.9054114818573, 2.6843035221099854, 2.4254748821258545, 2.2584714889526367, 2.021087884902954, 1.8828904628753662, 1.6687748432159424, 1.5448203086853027, 1.3552706241607666, 1.2403732538223267, 1.0749852657318115, 0.9685860276222229, 0.8248531818389893, 0.7275293469429016, 0.6019183993339539, 0.51326584815979, 0.40198469161987305, 0.32010799646377563, 0.21967238187789917, 0.14111201465129852, 0.050329409539699554, -0.03162720799446106, -0.09105651080608368, -0.20680591464042664, -0.3015148341655731, -0.39376628398895264, -0.4955478012561798, -0.6018478870391846, -0.7131142020225525, -0.83906489610672, -0.9623744487762451, -1.1106979846954346, -1.2474312782287598, -1.419793725013733, -1.569841980934143, -1.7704875469207764, -1.9284813404083252, -2.1649162769317627, -2.186229944229126, -2.398801803588867, -2.589426279067993, -2.8550498485565186, -3.003649950027466, -3.2396459579467773, -3.3399147987365723, -3.4666669368743896, -3.521200180053711, -3.5170929431915283, -3.5054948329925537, -3.395009994506836, -3.331235885620117, -3.1792283058166504, -3.1032016277313232, -2.783827304840088, -2.558304786682129, -2.5414040088653564, -2.5752692222595215, -2.503246545791626, -2.45609450340271, -2.3079934120178223, -2.2218775749206543, -2.0183353424072266, -1.8943442106246948, -1.6980736255645752, -1.5158699750900269, -1.4008803367614746, -1.1198952198028564, -0.9468078017234802, -0.7234447002410889, -0.5382839441299438, -0.32954642176628113, -0.14061051607131958, 0.0673731192946434, 0.19785010814666748, 0.475685179233551]}, {\"type\": \"scatter\", \"x\": [0.0, 0.06257887184619904, 0.10000000149011612, 0.11951106041669846, 0.20000000298023224, 0.2589667737483978, 0.30000001192092896, 0.3584846258163452, 0.4000000059604645, 0.45544886589050293, 0.5, 0.5524008870124817, 0.6000000238418579, 0.6539127230644226, 0.699999988079071, 0.7471375465393066, 0.800000011920929, 0.8466467261314392, 0.8999999761581421, 0.9532592296600342, 1.0, 1.0432848930358887, 1.100000023841858, 1.1500312089920044, 1.2000000476837158, 1.2509061098098755, 1.2999999523162842, 1.3557990789413452, 1.399999976158142, 1.458001732826233, 1.5, 1.5576144456863403, 1.600000023841858, 1.6557135581970215, 1.7000000476837158, 1.7533104419708252, 1.7999999523162842, 1.8510385751724243, 1.899999976158142, 1.949035882949829, 2.0, 2.047191619873047, 2.0999999046325684, 2.1452107429504395, 2.200000047683716, 2.2418019771575928, 2.299999952316284, 2.3258538246154785, 2.4000000953674316, 2.441622018814087, 2.5, 2.5414021015167236, 2.5999999046325684, 2.641040802001953, 2.700000047683716, 2.74106764793396, 2.799999952316284, 2.841231346130371, 2.9000000953674316, 2.940877914428711, 3.0, 3.0390090942382812, 3.0999999046325684, 3.1049416065216064, 3.15435791015625, 3.200000047683716, 3.2631654739379883, 3.299999952316284, 3.3681890964508057, 3.4000000953674316, 3.464770555496216, 3.5, 3.562164306640625, 3.5999999046325684, 3.6590518951416016, 3.700000047683716, 3.756675958633423, 3.799999952316284, 3.855931282043457, 3.9000000953674316, 3.924581527709961, 4.0, 4.056585788726807, 4.099999904632568, 4.162258148193359, 4.199999809265137, 4.2600812911987305, 4.300000190734863, 4.348664283752441, 4.400000095367432, 4.4260430335998535, 4.5, 4.539558410644531, 4.599999904632568, 4.64277458190918, 4.699999809265137, 4.743608474731445, 4.800000190734863, 4.828995704650879, 4.900000095367432], \"y\": [1.0, 0.41009294986724854, 0.05877809599041939, -0.05869719386100769, -0.5227256417274475, -0.7192181944847107, -0.8286858201026917, -0.9160642623901367, -0.9243074655532837, -0.9468281865119934, -0.8760957717895508, -0.8715044856071472, -0.7450482845306396, -1.1881351470947266, -1.5179156064987183, -1.7608059644699097, -1.8638266324996948, -1.4170705080032349, -0.8006444573402405, -0.2497398406267166, 0.21582187712192535, 0.5940833687782288, 0.9671159982681274, 1.2278956174850464, 1.3430864810943604, 1.4352545738220215, 1.3947855234146118, 1.3716484308242798, 1.263206958770752, 1.194177269935608, 1.0753653049468994, 1.0113987922668457, 0.9001946449279785, 0.8600979447364807, 0.7595600485801697, 0.7432096600532532, 0.651920735836029, 0.6531405448913574, 0.5684223771095276, 0.5811649560928345, 0.5002509951591492, 0.5202880501747131, 0.4410593509674072, 0.4660196006298065, 0.38735392689704895, 0.4164547622203827, 0.33835259079933167, 0.36710962653160095, 0.2954710125923157, 0.3321591019630432, 0.26144587993621826, 0.30222243070602417, 0.23791459202766418, 0.28019678592681885, 0.2214108407497406, 0.2590755820274353, 0.20018179714679718, 0.2252618968486786, 0.15834768116474152, 0.1671256721019745, 0.09039603918790817, 0.08358581364154816, 0.00045558647252619267, -0.0022411630488932133, -0.04663343355059624, -0.12336423993110657, -0.23818714916706085, -0.31968095898628235, -0.5387581586837769, -0.6375609636306763, -0.9542986750602722, -1.0973701477050781, -1.4784010648727417, -1.6373910903930664, -1.985874891281128, -2.0927765369415283, -2.294708490371704, -2.2641825675964355, -2.729055404663086, -2.975086212158203, -2.811509847640991, -2.0287044048309326, -1.6342031955718994, -1.271246314048767, -0.9190561771392822, -0.675774872303009, -0.4516419470310211, -0.2690208852291107, -0.17222748696804047, -0.013761190697550774, 0.00023295309802051634, 0.13881351053714752, 0.13686081767082214, 0.22652435302734375, 0.2055245190858841, 0.2713812291622162, 0.23542103171348572, 0.2840754985809326, 0.24613304436206818, 0.2725604772567749]}],\n",
       "                        {\"template\": {\"data\": {\"bar\": [{\"error_x\": {\"color\": \"#2a3f5f\"}, \"error_y\": {\"color\": \"#2a3f5f\"}, \"marker\": {\"line\": {\"color\": \"#E5ECF6\", \"width\": 0.5}}, \"type\": \"bar\"}], \"barpolar\": [{\"marker\": {\"line\": {\"color\": \"#E5ECF6\", \"width\": 0.5}}, \"type\": \"barpolar\"}], \"carpet\": [{\"aaxis\": {\"endlinecolor\": \"#2a3f5f\", \"gridcolor\": \"white\", \"linecolor\": \"white\", \"minorgridcolor\": \"white\", \"startlinecolor\": \"#2a3f5f\"}, \"baxis\": {\"endlinecolor\": \"#2a3f5f\", \"gridcolor\": \"white\", \"linecolor\": \"white\", \"minorgridcolor\": \"white\", \"startlinecolor\": \"#2a3f5f\"}, \"type\": \"carpet\"}], \"choropleth\": [{\"colorbar\": {\"outlinewidth\": 0, \"ticks\": \"\"}, \"type\": \"choropleth\"}], \"contour\": [{\"colorbar\": {\"outlinewidth\": 0, \"ticks\": \"\"}, \"colorscale\": [[0.0, \"#0d0887\"], [0.1111111111111111, \"#46039f\"], [0.2222222222222222, \"#7201a8\"], [0.3333333333333333, \"#9c179e\"], [0.4444444444444444, \"#bd3786\"], [0.5555555555555556, \"#d8576b\"], [0.6666666666666666, \"#ed7953\"], [0.7777777777777778, \"#fb9f3a\"], [0.8888888888888888, \"#fdca26\"], [1.0, \"#f0f921\"]], \"type\": \"contour\"}], \"contourcarpet\": [{\"colorbar\": {\"outlinewidth\": 0, \"ticks\": \"\"}, \"type\": \"contourcarpet\"}], \"heatmap\": [{\"colorbar\": {\"outlinewidth\": 0, \"ticks\": \"\"}, \"colorscale\": [[0.0, \"#0d0887\"], [0.1111111111111111, \"#46039f\"], [0.2222222222222222, \"#7201a8\"], [0.3333333333333333, \"#9c179e\"], [0.4444444444444444, \"#bd3786\"], [0.5555555555555556, \"#d8576b\"], [0.6666666666666666, \"#ed7953\"], [0.7777777777777778, \"#fb9f3a\"], [0.8888888888888888, \"#fdca26\"], [1.0, \"#f0f921\"]], \"type\": \"heatmap\"}], \"heatmapgl\": [{\"colorbar\": {\"outlinewidth\": 0, \"ticks\": \"\"}, \"colorscale\": [[0.0, \"#0d0887\"], [0.1111111111111111, \"#46039f\"], [0.2222222222222222, \"#7201a8\"], [0.3333333333333333, \"#9c179e\"], [0.4444444444444444, \"#bd3786\"], [0.5555555555555556, \"#d8576b\"], [0.6666666666666666, \"#ed7953\"], [0.7777777777777778, \"#fb9f3a\"], [0.8888888888888888, \"#fdca26\"], [1.0, \"#f0f921\"]], \"type\": \"heatmapgl\"}], \"histogram\": [{\"marker\": {\"colorbar\": {\"outlinewidth\": 0, \"ticks\": \"\"}}, \"type\": \"histogram\"}], \"histogram2d\": [{\"colorbar\": {\"outlinewidth\": 0, \"ticks\": \"\"}, \"colorscale\": [[0.0, \"#0d0887\"], [0.1111111111111111, \"#46039f\"], [0.2222222222222222, \"#7201a8\"], [0.3333333333333333, \"#9c179e\"], [0.4444444444444444, \"#bd3786\"], [0.5555555555555556, \"#d8576b\"], [0.6666666666666666, \"#ed7953\"], [0.7777777777777778, \"#fb9f3a\"], [0.8888888888888888, \"#fdca26\"], [1.0, \"#f0f921\"]], \"type\": \"histogram2d\"}], \"histogram2dcontour\": [{\"colorbar\": {\"outlinewidth\": 0, \"ticks\": \"\"}, \"colorscale\": [[0.0, \"#0d0887\"], [0.1111111111111111, \"#46039f\"], [0.2222222222222222, \"#7201a8\"], [0.3333333333333333, \"#9c179e\"], [0.4444444444444444, \"#bd3786\"], [0.5555555555555556, \"#d8576b\"], [0.6666666666666666, \"#ed7953\"], [0.7777777777777778, \"#fb9f3a\"], [0.8888888888888888, \"#fdca26\"], [1.0, \"#f0f921\"]], \"type\": \"histogram2dcontour\"}], \"mesh3d\": [{\"colorbar\": {\"outlinewidth\": 0, \"ticks\": \"\"}, \"type\": \"mesh3d\"}], \"parcoords\": [{\"line\": {\"colorbar\": {\"outlinewidth\": 0, \"ticks\": \"\"}}, \"type\": \"parcoords\"}], \"pie\": [{\"automargin\": true, \"type\": \"pie\"}], \"scatter\": [{\"marker\": {\"colorbar\": {\"outlinewidth\": 0, \"ticks\": \"\"}}, \"type\": \"scatter\"}], \"scatter3d\": [{\"line\": {\"colorbar\": {\"outlinewidth\": 0, \"ticks\": \"\"}}, \"marker\": {\"colorbar\": {\"outlinewidth\": 0, \"ticks\": \"\"}}, \"type\": \"scatter3d\"}], \"scattercarpet\": [{\"marker\": {\"colorbar\": {\"outlinewidth\": 0, \"ticks\": \"\"}}, \"type\": \"scattercarpet\"}], \"scattergeo\": [{\"marker\": {\"colorbar\": {\"outlinewidth\": 0, \"ticks\": \"\"}}, \"type\": \"scattergeo\"}], \"scattergl\": [{\"marker\": {\"colorbar\": {\"outlinewidth\": 0, \"ticks\": \"\"}}, \"type\": \"scattergl\"}], \"scattermapbox\": [{\"marker\": {\"colorbar\": {\"outlinewidth\": 0, \"ticks\": \"\"}}, \"type\": \"scattermapbox\"}], \"scatterpolar\": [{\"marker\": {\"colorbar\": {\"outlinewidth\": 0, \"ticks\": \"\"}}, \"type\": \"scatterpolar\"}], \"scatterpolargl\": [{\"marker\": {\"colorbar\": {\"outlinewidth\": 0, \"ticks\": \"\"}}, \"type\": \"scatterpolargl\"}], \"scatterternary\": [{\"marker\": {\"colorbar\": {\"outlinewidth\": 0, \"ticks\": \"\"}}, \"type\": \"scatterternary\"}], \"surface\": [{\"colorbar\": {\"outlinewidth\": 0, \"ticks\": \"\"}, \"colorscale\": [[0.0, \"#0d0887\"], [0.1111111111111111, \"#46039f\"], [0.2222222222222222, \"#7201a8\"], [0.3333333333333333, \"#9c179e\"], [0.4444444444444444, \"#bd3786\"], [0.5555555555555556, \"#d8576b\"], [0.6666666666666666, \"#ed7953\"], [0.7777777777777778, \"#fb9f3a\"], [0.8888888888888888, \"#fdca26\"], [1.0, \"#f0f921\"]], \"type\": \"surface\"}], \"table\": [{\"cells\": {\"fill\": {\"color\": \"#EBF0F8\"}, \"line\": {\"color\": \"white\"}}, \"header\": {\"fill\": {\"color\": \"#C8D4E3\"}, \"line\": {\"color\": \"white\"}}, \"type\": \"table\"}]}, \"layout\": {\"annotationdefaults\": {\"arrowcolor\": \"#2a3f5f\", \"arrowhead\": 0, \"arrowwidth\": 1}, \"coloraxis\": {\"colorbar\": {\"outlinewidth\": 0, \"ticks\": \"\"}}, \"colorscale\": {\"diverging\": [[0, \"#8e0152\"], [0.1, \"#c51b7d\"], [0.2, \"#de77ae\"], [0.3, \"#f1b6da\"], [0.4, \"#fde0ef\"], [0.5, \"#f7f7f7\"], [0.6, \"#e6f5d0\"], [0.7, \"#b8e186\"], [0.8, \"#7fbc41\"], [0.9, \"#4d9221\"], [1, \"#276419\"]], \"sequential\": [[0.0, \"#0d0887\"], [0.1111111111111111, \"#46039f\"], [0.2222222222222222, \"#7201a8\"], [0.3333333333333333, \"#9c179e\"], [0.4444444444444444, \"#bd3786\"], [0.5555555555555556, \"#d8576b\"], [0.6666666666666666, \"#ed7953\"], [0.7777777777777778, \"#fb9f3a\"], [0.8888888888888888, \"#fdca26\"], [1.0, \"#f0f921\"]], \"sequentialminus\": [[0.0, \"#0d0887\"], [0.1111111111111111, \"#46039f\"], [0.2222222222222222, \"#7201a8\"], [0.3333333333333333, \"#9c179e\"], [0.4444444444444444, \"#bd3786\"], [0.5555555555555556, \"#d8576b\"], [0.6666666666666666, \"#ed7953\"], [0.7777777777777778, \"#fb9f3a\"], [0.8888888888888888, \"#fdca26\"], [1.0, \"#f0f921\"]]}, \"colorway\": [\"#636efa\", \"#EF553B\", \"#00cc96\", \"#ab63fa\", \"#FFA15A\", \"#19d3f3\", \"#FF6692\", \"#B6E880\", \"#FF97FF\", \"#FECB52\"], \"font\": {\"color\": \"#2a3f5f\"}, \"geo\": {\"bgcolor\": \"white\", \"lakecolor\": \"white\", \"landcolor\": \"#E5ECF6\", \"showlakes\": true, \"showland\": true, \"subunitcolor\": \"white\"}, \"hoverlabel\": {\"align\": \"left\"}, \"hovermode\": \"closest\", \"mapbox\": {\"style\": \"light\"}, \"paper_bgcolor\": \"white\", \"plot_bgcolor\": \"#E5ECF6\", \"polar\": {\"angularaxis\": {\"gridcolor\": \"white\", \"linecolor\": \"white\", \"ticks\": \"\"}, \"bgcolor\": \"#E5ECF6\", \"radialaxis\": {\"gridcolor\": \"white\", \"linecolor\": \"white\", \"ticks\": \"\"}}, \"scene\": {\"xaxis\": {\"backgroundcolor\": \"#E5ECF6\", \"gridcolor\": \"white\", \"gridwidth\": 2, \"linecolor\": \"white\", \"showbackground\": true, \"ticks\": \"\", \"zerolinecolor\": \"white\"}, \"yaxis\": {\"backgroundcolor\": \"#E5ECF6\", \"gridcolor\": \"white\", \"gridwidth\": 2, \"linecolor\": \"white\", \"showbackground\": true, \"ticks\": \"\", \"zerolinecolor\": \"white\"}, \"zaxis\": {\"backgroundcolor\": \"#E5ECF6\", \"gridcolor\": \"white\", \"gridwidth\": 2, \"linecolor\": \"white\", \"showbackground\": true, \"ticks\": \"\", \"zerolinecolor\": \"white\"}}, \"shapedefaults\": {\"line\": {\"color\": \"#2a3f5f\"}}, \"ternary\": {\"aaxis\": {\"gridcolor\": \"white\", \"linecolor\": \"white\", \"ticks\": \"\"}, \"baxis\": {\"gridcolor\": \"white\", \"linecolor\": \"white\", \"ticks\": \"\"}, \"bgcolor\": \"#E5ECF6\", \"caxis\": {\"gridcolor\": \"white\", \"linecolor\": \"white\", \"ticks\": \"\"}}, \"title\": {\"x\": 0.05}, \"xaxis\": {\"automargin\": true, \"gridcolor\": \"white\", \"linecolor\": \"white\", \"ticks\": \"\", \"title\": {\"standoff\": 15}, \"zerolinecolor\": \"white\", \"zerolinewidth\": 2}, \"yaxis\": {\"automargin\": true, \"gridcolor\": \"white\", \"linecolor\": \"white\", \"ticks\": \"\", \"title\": {\"standoff\": 15}, \"zerolinecolor\": \"white\", \"zerolinewidth\": 2}}}, \"title\": {\"text\": \"Baseline\"}},\n",
       "                        {\"responsive\": true}\n",
       "                    ).then(function(){\n",
       "                            \n",
       "var gd = document.getElementById('d17a05f3-9078-4d0e-836b-19373546ca8b');\n",
       "var x = new MutationObserver(function (mutations, observer) {{\n",
       "        var display = window.getComputedStyle(gd).display;\n",
       "        if (!display || display === 'none') {{\n",
       "            console.log([gd, 'removed!']);\n",
       "            Plotly.purge(gd);\n",
       "            observer.disconnect();\n",
       "        }}\n",
       "}});\n",
       "\n",
       "// Listen for the removal of the full notebook cells\n",
       "var notebookContainer = gd.closest('#notebook-container');\n",
       "if (notebookContainer) {{\n",
       "    x.observe(notebookContainer, {childList: true});\n",
       "}}\n",
       "\n",
       "// Listen for the clearing of the current output cell\n",
       "var outputEl = gd.closest('.output');\n",
       "if (outputEl) {{\n",
       "    x.observe(outputEl, {childList: true});\n",
       "}}\n",
       "\n",
       "                        })\n",
       "                };\n",
       "                });\n",
       "            </script>\n",
       "        </div>"
      ]
     },
     "metadata": {},
     "output_type": "display_data"
    }
   ],
   "source": [
    "ctrl_baseline = controllers.get_limited_lookahead_controller(opt['sys_utils'].get_value_function(opt['online_horizon'],\n",
    "                                                                                        opt['offline_dt'],\n",
    "                                                                                        dtype=opt['dtype'])[0],\n",
    "                                                                                        vf_approx,\n",
    "                                                                                        opt['sim_dt']*opt['sim_horizon'])\n",
    "x_traj_sim, t_traj_sim = controllers.sim_ctrl(opt['sim_x0'], vf.u_dim[0], sys.dx,\n",
    "                                              ctrl_baseline, opt['sim_dt'], opt['sim_horizon'],\n",
    "                                              integration_mode=opt['control_interp'])\n",
    "controllers.plot_sim(t_traj_sim, x_traj_sim, \"Baseline\").show()"
   ]
  },
  {
   "cell_type": "code",
   "execution_count": 24,
   "metadata": {},
   "outputs": [
    {
     "data": {
      "application/vnd.plotly.v1+json": {
       "config": {
        "plotlyServerURL": "https://plot.ly"
       },
       "data": [
        {
         "type": "scatter",
         "x": [
          0,
          0.06156126782298088,
          0.10000000149011612,
          0.11199218779802322,
          0.20000000298023224,
          0.26728495955467224,
          0.30000001192092896,
          0.3683580756187439,
          0.4000000059604645,
          0.46590858697891235,
          0.5,
          0.5621352791786194,
          0.6000000238418579,
          0.6549345254898071,
          0.699999988079071,
          0.7486403584480286,
          0.800000011920929,
          0.8465822339057922,
          0.8999999761581421,
          0.9540621042251587,
          1,
          1.0498359203338623,
          1.100000023841858,
          1.1410685777664185,
          1.2000000476837158,
          1.2581822872161865,
          1.2999999523162842,
          1.3592793941497803,
          1.399999976158142,
          1.4585301876068115,
          1.5,
          1.5563719272613525,
          1.600000023841858,
          1.6539429426193237,
          1.7000000476837158,
          1.7518869638442993,
          1.7999999523162842,
          1.850287675857544,
          1.899999976158142,
          1.9490065574645996,
          2,
          2.0478813648223877,
          2.0999999046325684,
          2.1467478275299072,
          2.200000047683716,
          2.245405673980713,
          2.299999952316284,
          2.343400001525879,
          2.4000000953674316,
          2.438626289367676,
          2.5,
          2.533696413040161,
          2.5999999046325684,
          2.6407063007354736,
          2.700000047683716,
          2.740647554397583,
          2.799999952316284,
          2.8396050930023193,
          2.9000000953674316,
          2.938565254211426,
          3,
          3.0379273891448975,
          3.0999999046325684,
          3.13779878616333,
          3.200000047683716,
          3.237705707550049,
          3.299999952316284,
          3.336317539215088,
          3.4000000953674316,
          3.4278082847595215,
          3.5,
          3.5432522296905518,
          3.5999999046325684,
          3.6749396324157715,
          3.700000047683716,
          3.7680752277374268,
          3.799999952316284,
          3.8649306297302246,
          3.9000000953674316,
          3.9625840187072754,
          4,
          4.059551239013672,
          4.099999904632568,
          4.157014846801758,
          4.199999809265137,
          4.255940914154053,
          4.300000190734863,
          4.3558268547058105,
          4.400000095367432,
          4.453686714172363,
          4.5,
          4.5587544441223145,
          4.599999904632568,
          4.657113552093506,
          4.699999809265137,
          4.749529838562012,
          4.800000190734863,
          4.838003635406494,
          4.900000095367432
         ],
         "y": [
          3.3915927410125732,
          3.4644153118133545,
          3.521530866622925,
          3.5411431789398193,
          3.7076399326324463,
          3.861198902130127,
          3.9437029361724854,
          4.132313251495361,
          4.22691011428833,
          4.43880033493042,
          4.556024074554443,
          4.782951354980469,
          4.929070472717285,
          5.150791645050049,
          5.339985370635986,
          5.549755096435547,
          5.775162220001221,
          5.98072624206543,
          6.215211391448975,
          6.447938919067383,
          6.640109062194824,
          6.840953826904297,
          7.033982753753662,
          7.184497356414795,
          7.388125419616699,
          7.574443817138672,
          7.69934606552124,
          7.863332748413086,
          7.967358589172363,
          8.104643821716309,
          8.19359016418457,
          8.303681373596191,
          8.380866050720215,
          8.46701717376709,
          8.533058166503906,
          8.599629402160645,
          8.654556274414062,
          8.705442428588867,
          8.749751091003418,
          8.788037300109863,
          8.82266902923584,
          8.850740432739258,
          8.87678050994873,
          8.896462440490723,
          8.91491985321045,
          8.927600860595703,
          8.939277648925781,
          8.94601058959961,
          8.95141887664795,
          8.953121185302734,
          8.952303886413574,
          8.950234413146973,
          8.942299842834473,
          8.935126304626465,
          8.921158790588379,
          8.90925121307373,
          8.887970924377441,
          8.871224403381348,
          8.841100692749023,
          8.81895637512207,
          8.7781400680542,
          8.749499320983887,
          8.695935249328613,
          8.659174919128418,
          8.590755462646484,
          8.544380187988281,
          8.458548545837402,
          8.403095245361328,
          8.295056343078613,
          8.243513107299805,
          8.095796585083008,
          7.997533798217773,
          7.856780529022217,
          7.650622844696045,
          7.576587200164795,
          7.364139080047607,
          7.259266376495361,
          7.038666725158691,
          6.916562080383301,
          6.697368621826172,
          6.5669965744018555,
          6.3637495040893555,
          6.229716777801514,
          6.0476484298706055,
          5.9156317710876465,
          5.750152587890625,
          5.624143123626709,
          5.469327926635742,
          5.350427627563477,
          5.210594654083252,
          5.094644069671631,
          4.955098628997803,
          4.862855434417725,
          4.744191646575928,
          4.66246223449707,
          4.576582908630371,
          4.498773097991943,
          4.446737766265869,
          4.374358654022217
         ]
        },
        {
         "type": "scatter",
         "x": [
          0,
          0.06156126782298088,
          0.10000000149011612,
          0.11199218779802322,
          0.20000000298023224,
          0.26728495955467224,
          0.30000001192092896,
          0.3683580756187439,
          0.4000000059604645,
          0.46590858697891235,
          0.5,
          0.5621352791786194,
          0.6000000238418579,
          0.6549345254898071,
          0.699999988079071,
          0.7486403584480286,
          0.800000011920929,
          0.8465822339057922,
          0.8999999761581421,
          0.9540621042251587,
          1,
          1.0498359203338623,
          1.100000023841858,
          1.1410685777664185,
          1.2000000476837158,
          1.2581822872161865,
          1.2999999523162842,
          1.3592793941497803,
          1.399999976158142,
          1.4585301876068115,
          1.5,
          1.5563719272613525,
          1.600000023841858,
          1.6539429426193237,
          1.7000000476837158,
          1.7518869638442993,
          1.7999999523162842,
          1.850287675857544,
          1.899999976158142,
          1.9490065574645996,
          2,
          2.0478813648223877,
          2.0999999046325684,
          2.1467478275299072,
          2.200000047683716,
          2.245405673980713,
          2.299999952316284,
          2.343400001525879,
          2.4000000953674316,
          2.438626289367676,
          2.5,
          2.533696413040161,
          2.5999999046325684,
          2.6407063007354736,
          2.700000047683716,
          2.740647554397583,
          2.799999952316284,
          2.8396050930023193,
          2.9000000953674316,
          2.938565254211426,
          3,
          3.0379273891448975,
          3.0999999046325684,
          3.13779878616333,
          3.200000047683716,
          3.237705707550049,
          3.299999952316284,
          3.336317539215088,
          3.4000000953674316,
          3.4278082847595215,
          3.5,
          3.5432522296905518,
          3.5999999046325684,
          3.6749396324157715,
          3.700000047683716,
          3.7680752277374268,
          3.799999952316284,
          3.8649306297302246,
          3.9000000953674316,
          3.9625840187072754,
          4,
          4.059551239013672,
          4.099999904632568,
          4.157014846801758,
          4.199999809265137,
          4.255940914154053,
          4.300000190734863,
          4.3558268547058105,
          4.400000095367432,
          4.453686714172363,
          4.5,
          4.5587544441223145,
          4.599999904632568,
          4.657113552093506,
          4.699999809265137,
          4.749529838562012,
          4.800000190734863,
          4.838003635406494,
          4.900000095367432
         ],
         "y": [
          0.5,
          0.5417740941047668,
          0.5479179620742798,
          0.5469376444816589,
          0.5100393891334534,
          0.4526139795780182,
          0.4183356463909149,
          0.3376375734806061,
          0.29771098494529724,
          0.21205729246139526,
          0.1680886596441269,
          0.09025009721517563,
          0.04605567827820778,
          -0.012103893794119358,
          -0.05253217741847038,
          -0.08664614707231522,
          -0.1099906861782074,
          -0.11866480857133865,
          -0.11430550366640091,
          -0.09434758126735687,
          -0.06671874225139618,
          -0.02730727195739746,
          0.019395116716623306,
          0.06118336319923401,
          0.12358357012271881,
          0.18526557087898254,
          0.22808459401130676,
          0.2860795855522156,
          0.32339540123939514,
          0.3739791810512543,
          0.4073575735092163,
          0.45033395290374756,
          0.48157477378845215,
          0.5185309052467346,
          0.5485579967498779,
          0.5812280178070068,
          0.6103873252868652,
          0.6399998664855957,
          0.6683879494667053,
          0.6956404447555542,
          0.7232370376586914,
          0.7484432458877563,
          0.7751567363739014,
          0.7983771562576294,
          0.8240913152694702,
          0.8452116847038269,
          0.8698310256004333,
          0.8885239362716675,
          0.9120935797691345,
          0.9272559285163879,
          0.9505891799926758,
          0.9624313116073608,
          0.9850887656211853,
          0.9978160858154297,
          1.0155068635940552,
          1.0265791416168213,
          1.0420020818710327,
          1.0513319969177246,
          1.0650607347488403,
          1.072994589805603,
          1.0854610204696655,
          1.0924540758132935,
          1.1039620637893677,
          1.110291600227356,
          1.120629906654358,
          1.126002311706543,
          1.1340985298156738,
          1.1374900341033936,
          1.1416722536087036,
          1.1420968770980835,
          1.1404749155044556,
          1.1363630294799805,
          1.1275324821472168,
          1.107018232345581,
          1.0976346731185913,
          1.0625571012496948,
          1.0410395860671997,
          0.9832106828689575,
          0.9438600540161133,
          0.8561342358589172,
          0.7933452129364014,
          0.6767413020133972,
          0.5878780484199524,
          0.4522342085838318,
          0.34594228863716125,
          0.20785737037658691,
          0.10381380468606949,
          -0.017365651205182076,
          -0.10208255052566528,
          -0.19033977389335632,
          -0.2531573176383972,
          -0.31632402539253235,
          -0.35039088129997253,
          -0.3860241174697876,
          -0.40492892265319824,
          -0.4201158285140991,
          -0.4294776916503906,
          -0.4330282509326935,
          -0.4343567490577698
         ]
        },
        {
         "type": "scatter",
         "x": [
          0,
          0.06156126782298088,
          0.10000000149011612,
          0.11199218779802322,
          0.20000000298023224,
          0.26728495955467224,
          0.30000001192092896,
          0.3683580756187439,
          0.4000000059604645,
          0.46590858697891235,
          0.5,
          0.5621352791786194,
          0.6000000238418579,
          0.6549345254898071,
          0.699999988079071,
          0.7486403584480286,
          0.800000011920929,
          0.8465822339057922,
          0.8999999761581421,
          0.9540621042251587,
          1,
          1.0498359203338623,
          1.100000023841858,
          1.1410685777664185,
          1.2000000476837158,
          1.2581822872161865,
          1.2999999523162842,
          1.3592793941497803,
          1.399999976158142,
          1.4585301876068115,
          1.5,
          1.5563719272613525,
          1.600000023841858,
          1.6539429426193237,
          1.7000000476837158,
          1.7518869638442993,
          1.7999999523162842,
          1.850287675857544,
          1.899999976158142,
          1.9490065574645996,
          2,
          2.0478813648223877,
          2.0999999046325684,
          2.1467478275299072,
          2.200000047683716,
          2.245405673980713,
          2.299999952316284,
          2.343400001525879,
          2.4000000953674316,
          2.438626289367676,
          2.5,
          2.533696413040161,
          2.5999999046325684,
          2.6407063007354736,
          2.700000047683716,
          2.740647554397583,
          2.799999952316284,
          2.8396050930023193,
          2.9000000953674316,
          2.938565254211426,
          3,
          3.0379273891448975,
          3.0999999046325684,
          3.13779878616333,
          3.200000047683716,
          3.237705707550049,
          3.299999952316284,
          3.336317539215088,
          3.4000000953674316,
          3.4278082847595215,
          3.5,
          3.5432522296905518,
          3.5999999046325684,
          3.6749396324157715,
          3.700000047683716,
          3.7680752277374268,
          3.799999952316284,
          3.8649306297302246,
          3.9000000953674316,
          3.9625840187072754,
          4,
          4.059551239013672,
          4.099999904632568,
          4.157014846801758,
          4.199999809265137,
          4.255940914154053,
          4.300000190734863,
          4.3558268547058105,
          4.400000095367432,
          4.453686714172363,
          4.5,
          4.5587544441223145,
          4.599999904632568,
          4.657113552093506,
          4.699999809265137,
          4.749529838562012,
          4.800000190734863,
          4.838003635406494,
          4.900000095367432
         ],
         "y": [
          1,
          1.367698311805725,
          1.6055207252502441,
          1.6653920412063599,
          2.1250336170196533,
          2.4421513080596924,
          2.602266788482666,
          2.9167261123657227,
          3.062276840209961,
          3.364604949951172,
          3.5107579231262207,
          3.7863216400146484,
          3.9274182319641113,
          4.1347832679748535,
          4.252599239349365,
          4.361975193023682,
          4.401908874511719,
          4.4137282371521,
          4.352598190307617,
          4.246825218200684,
          4.114006996154785,
          3.9422850608825684,
          3.751598596572876,
          3.5783071517944336,
          3.3338370323181152,
          3.0742554664611816,
          2.901412010192871,
          2.6368813514709473,
          2.4751429557800293,
          2.223018169403076,
          2.0702760219573975,
          1.8433598279953003,
          1.6995115280151367,
          1.5024787187576294,
          1.3708499670028687,
          1.2027689218521118,
          1.086714506149292,
          0.944293200969696,
          0.8450189828872681,
          0.7243080735206604,
          0.6409446597099304,
          0.5380181670188904,
          0.4684005379676819,
          0.379631906747818,
          0.3209189772605896,
          0.2431556135416031,
          0.19214566051959991,
          0.12303978204727173,
          0.07597501575946808,
          0.016028089448809624,
          -0.033540237694978714,
          -0.08647503703832626,
          -0.1424027532339096,
          -0.20606465637683868,
          -0.25694799423217773,
          -0.32508552074432373,
          -0.3841395080089569,
          -0.4580787420272827,
          -0.5316683053970337,
          -0.6137333512306213,
          -0.7075150012969971,
          -0.8002209663391113,
          -0.9187524318695068,
          -1.0241907835006714,
          -1.1698832511901855,
          -1.2883963584899902,
          -1.462523341178894,
          -1.5903702974319458,
          -1.798858404159546,
          -1.9079676866531372,
          -2.180950164794922,
          -2.3627426624298096,
          -2.5959935188293457,
          -2.9044899940490723,
          -3.003483533859253,
          -3.2347474098205566,
          -3.3340015411376953,
          -3.455226421356201,
          -3.506878614425659,
          -3.4927847385406494,
          -3.4760096073150635,
          -3.3506710529327393,
          -3.2805335521698,
          -3.114834785461426,
          -3.035698652267456,
          -2.892991304397583,
          -2.8349480628967285,
          -2.7209646701812744,
          -2.666785955429077,
          -2.547128915786743,
          -2.4622862339019775,
          -2.2913334369659424,
          -2.183075189590454,
          -1.9763051271438599,
          -1.8376152515411377,
          -1.6343129873275757,
          -1.453721284866333,
          -1.2876546382904053,
          -1.055446982383728
         ]
        },
        {
         "type": "scatter",
         "x": [
          0,
          0.06156126782298088,
          0.10000000149011612,
          0.11199218779802322,
          0.20000000298023224,
          0.26728495955467224,
          0.30000001192092896,
          0.3683580756187439,
          0.4000000059604645,
          0.46590858697891235,
          0.5,
          0.5621352791786194,
          0.6000000238418579,
          0.6549345254898071,
          0.699999988079071,
          0.7486403584480286,
          0.800000011920929,
          0.8465822339057922,
          0.8999999761581421,
          0.9540621042251587,
          1,
          1.0498359203338623,
          1.100000023841858,
          1.1410685777664185,
          1.2000000476837158,
          1.2581822872161865,
          1.2999999523162842,
          1.3592793941497803,
          1.399999976158142,
          1.4585301876068115,
          1.5,
          1.5563719272613525,
          1.600000023841858,
          1.6539429426193237,
          1.7000000476837158,
          1.7518869638442993,
          1.7999999523162842,
          1.850287675857544,
          1.899999976158142,
          1.9490065574645996,
          2,
          2.0478813648223877,
          2.0999999046325684,
          2.1467478275299072,
          2.200000047683716,
          2.245405673980713,
          2.299999952316284,
          2.343400001525879,
          2.4000000953674316,
          2.438626289367676,
          2.5,
          2.533696413040161,
          2.5999999046325684,
          2.6407063007354736,
          2.700000047683716,
          2.740647554397583,
          2.799999952316284,
          2.8396050930023193,
          2.9000000953674316,
          2.938565254211426,
          3,
          3.0379273891448975,
          3.0999999046325684,
          3.13779878616333,
          3.200000047683716,
          3.237705707550049,
          3.299999952316284,
          3.336317539215088,
          3.4000000953674316,
          3.4278082847595215,
          3.5,
          3.5432522296905518,
          3.5999999046325684,
          3.6749396324157715,
          3.700000047683716,
          3.7680752277374268,
          3.799999952316284,
          3.8649306297302246,
          3.9000000953674316,
          3.9625840187072754,
          4,
          4.059551239013672,
          4.099999904632568,
          4.157014846801758,
          4.199999809265137,
          4.255940914154053,
          4.300000190734863,
          4.3558268547058105,
          4.400000095367432,
          4.453686714172363,
          4.5,
          4.5587544441223145,
          4.599999904632568,
          4.657113552093506,
          4.699999809265137,
          4.749529838562012,
          4.800000190734863,
          4.838003635406494,
          4.900000095367432
         ],
         "y": [
          1,
          0.35931989550590515,
          -0.04058161750435829,
          -0.1227891817688942,
          -0.7139200568199158,
          -0.9871118068695068,
          -1.1069753170013428,
          -1.2422844171524048,
          -1.2781020402908325,
          -1.3035792112350464,
          -1.269652247428894,
          -1.2144865989685059,
          -1.1096155643463135,
          -0.9879135489463806,
          -0.790440559387207,
          -0.5972975492477417,
          -0.2952007055282593,
          -0.06920889765024185,
          0.23927532136440277,
          0.4977889060974121,
          0.700875461101532,
          0.8712462782859802,
          0.9794381856918335,
          1.0468215942382812,
          1.0539798736572266,
          1.0499922037124634,
          0.9906874895095825,
          0.9511799812316895,
          0.8754068613052368,
          0.8391163349151611,
          0.7639930248260498,
          0.7469095587730408,
          0.6770409941673279,
          0.67914879322052,
          0.6145809292793274,
          0.6305074095726013,
          0.5694812536239624,
          0.5939429402351379,
          0.5343409180641174,
          0.5635405778884888,
          0.5035730004310608,
          0.5350773930549622,
          0.4735223650932312,
          0.5059509873390198,
          0.44207605719566345,
          0.47472062706947327,
          0.40810829401016235,
          0.44072437286376953,
          0.37118446826934814,
          0.40372398495674133,
          0.3315209746360779,
          0.3634744882583618,
          0.2901015281677246,
          0.32360029220581055,
          0.2488681972026825,
          0.2842305302619934,
          0.2108851820230484,
          0.24914304912090302,
          0.17989498376846313,
          0.22115270793437958,
          0.15840943157672882,
          0.2006477564573288,
          0.1440509557723999,
          0.18187730014324188,
          0.1257249414920807,
          0.15125609934329987,
          0.085776686668396,
          0.09477058053016663,
          0.015439213253557682,
          0.012420319020748138,
          -0.07913725078105927,
          -0.11496099829673767,
          -0.20598791539669037,
          -0.34669002890586853,
          -0.40325984358787537,
          -0.6244335174560547,
          -0.7230934500694275,
          -1.047795295715332,
          -1.1917688846588135,
          -1.5907115936279297,
          -1.7537500858306885,
          -2.1283345222473145,
          -2.243269681930542,
          -2.470021963119507,
          -2.445180892944336,
          -2.4450416564941406,
          -2.2502126693725586,
          -2.055121898651123,
          -1.7627865076065063,
          -1.5046933889389038,
          -1.1969348192214966,
          -0.9382410645484924,
          -0.7075517773628235,
          -0.5282487869262695,
          -0.34666842222213745,
          -0.25684303045272827,
          -0.10338546335697174,
          -0.076986163854599,
          0.052539147436618805
         ]
        }
       ],
       "layout": {
        "template": {
         "data": {
          "bar": [
           {
            "error_x": {
             "color": "#2a3f5f"
            },
            "error_y": {
             "color": "#2a3f5f"
            },
            "marker": {
             "line": {
              "color": "#E5ECF6",
              "width": 0.5
             }
            },
            "type": "bar"
           }
          ],
          "barpolar": [
           {
            "marker": {
             "line": {
              "color": "#E5ECF6",
              "width": 0.5
             }
            },
            "type": "barpolar"
           }
          ],
          "carpet": [
           {
            "aaxis": {
             "endlinecolor": "#2a3f5f",
             "gridcolor": "white",
             "linecolor": "white",
             "minorgridcolor": "white",
             "startlinecolor": "#2a3f5f"
            },
            "baxis": {
             "endlinecolor": "#2a3f5f",
             "gridcolor": "white",
             "linecolor": "white",
             "minorgridcolor": "white",
             "startlinecolor": "#2a3f5f"
            },
            "type": "carpet"
           }
          ],
          "choropleth": [
           {
            "colorbar": {
             "outlinewidth": 0,
             "ticks": ""
            },
            "type": "choropleth"
           }
          ],
          "contour": [
           {
            "colorbar": {
             "outlinewidth": 0,
             "ticks": ""
            },
            "colorscale": [
             [
              0,
              "#0d0887"
             ],
             [
              0.1111111111111111,
              "#46039f"
             ],
             [
              0.2222222222222222,
              "#7201a8"
             ],
             [
              0.3333333333333333,
              "#9c179e"
             ],
             [
              0.4444444444444444,
              "#bd3786"
             ],
             [
              0.5555555555555556,
              "#d8576b"
             ],
             [
              0.6666666666666666,
              "#ed7953"
             ],
             [
              0.7777777777777778,
              "#fb9f3a"
             ],
             [
              0.8888888888888888,
              "#fdca26"
             ],
             [
              1,
              "#f0f921"
             ]
            ],
            "type": "contour"
           }
          ],
          "contourcarpet": [
           {
            "colorbar": {
             "outlinewidth": 0,
             "ticks": ""
            },
            "type": "contourcarpet"
           }
          ],
          "heatmap": [
           {
            "colorbar": {
             "outlinewidth": 0,
             "ticks": ""
            },
            "colorscale": [
             [
              0,
              "#0d0887"
             ],
             [
              0.1111111111111111,
              "#46039f"
             ],
             [
              0.2222222222222222,
              "#7201a8"
             ],
             [
              0.3333333333333333,
              "#9c179e"
             ],
             [
              0.4444444444444444,
              "#bd3786"
             ],
             [
              0.5555555555555556,
              "#d8576b"
             ],
             [
              0.6666666666666666,
              "#ed7953"
             ],
             [
              0.7777777777777778,
              "#fb9f3a"
             ],
             [
              0.8888888888888888,
              "#fdca26"
             ],
             [
              1,
              "#f0f921"
             ]
            ],
            "type": "heatmap"
           }
          ],
          "heatmapgl": [
           {
            "colorbar": {
             "outlinewidth": 0,
             "ticks": ""
            },
            "colorscale": [
             [
              0,
              "#0d0887"
             ],
             [
              0.1111111111111111,
              "#46039f"
             ],
             [
              0.2222222222222222,
              "#7201a8"
             ],
             [
              0.3333333333333333,
              "#9c179e"
             ],
             [
              0.4444444444444444,
              "#bd3786"
             ],
             [
              0.5555555555555556,
              "#d8576b"
             ],
             [
              0.6666666666666666,
              "#ed7953"
             ],
             [
              0.7777777777777778,
              "#fb9f3a"
             ],
             [
              0.8888888888888888,
              "#fdca26"
             ],
             [
              1,
              "#f0f921"
             ]
            ],
            "type": "heatmapgl"
           }
          ],
          "histogram": [
           {
            "marker": {
             "colorbar": {
              "outlinewidth": 0,
              "ticks": ""
             }
            },
            "type": "histogram"
           }
          ],
          "histogram2d": [
           {
            "colorbar": {
             "outlinewidth": 0,
             "ticks": ""
            },
            "colorscale": [
             [
              0,
              "#0d0887"
             ],
             [
              0.1111111111111111,
              "#46039f"
             ],
             [
              0.2222222222222222,
              "#7201a8"
             ],
             [
              0.3333333333333333,
              "#9c179e"
             ],
             [
              0.4444444444444444,
              "#bd3786"
             ],
             [
              0.5555555555555556,
              "#d8576b"
             ],
             [
              0.6666666666666666,
              "#ed7953"
             ],
             [
              0.7777777777777778,
              "#fb9f3a"
             ],
             [
              0.8888888888888888,
              "#fdca26"
             ],
             [
              1,
              "#f0f921"
             ]
            ],
            "type": "histogram2d"
           }
          ],
          "histogram2dcontour": [
           {
            "colorbar": {
             "outlinewidth": 0,
             "ticks": ""
            },
            "colorscale": [
             [
              0,
              "#0d0887"
             ],
             [
              0.1111111111111111,
              "#46039f"
             ],
             [
              0.2222222222222222,
              "#7201a8"
             ],
             [
              0.3333333333333333,
              "#9c179e"
             ],
             [
              0.4444444444444444,
              "#bd3786"
             ],
             [
              0.5555555555555556,
              "#d8576b"
             ],
             [
              0.6666666666666666,
              "#ed7953"
             ],
             [
              0.7777777777777778,
              "#fb9f3a"
             ],
             [
              0.8888888888888888,
              "#fdca26"
             ],
             [
              1,
              "#f0f921"
             ]
            ],
            "type": "histogram2dcontour"
           }
          ],
          "mesh3d": [
           {
            "colorbar": {
             "outlinewidth": 0,
             "ticks": ""
            },
            "type": "mesh3d"
           }
          ],
          "parcoords": [
           {
            "line": {
             "colorbar": {
              "outlinewidth": 0,
              "ticks": ""
             }
            },
            "type": "parcoords"
           }
          ],
          "pie": [
           {
            "automargin": true,
            "type": "pie"
           }
          ],
          "scatter": [
           {
            "marker": {
             "colorbar": {
              "outlinewidth": 0,
              "ticks": ""
             }
            },
            "type": "scatter"
           }
          ],
          "scatter3d": [
           {
            "line": {
             "colorbar": {
              "outlinewidth": 0,
              "ticks": ""
             }
            },
            "marker": {
             "colorbar": {
              "outlinewidth": 0,
              "ticks": ""
             }
            },
            "type": "scatter3d"
           }
          ],
          "scattercarpet": [
           {
            "marker": {
             "colorbar": {
              "outlinewidth": 0,
              "ticks": ""
             }
            },
            "type": "scattercarpet"
           }
          ],
          "scattergeo": [
           {
            "marker": {
             "colorbar": {
              "outlinewidth": 0,
              "ticks": ""
             }
            },
            "type": "scattergeo"
           }
          ],
          "scattergl": [
           {
            "marker": {
             "colorbar": {
              "outlinewidth": 0,
              "ticks": ""
             }
            },
            "type": "scattergl"
           }
          ],
          "scattermapbox": [
           {
            "marker": {
             "colorbar": {
              "outlinewidth": 0,
              "ticks": ""
             }
            },
            "type": "scattermapbox"
           }
          ],
          "scatterpolar": [
           {
            "marker": {
             "colorbar": {
              "outlinewidth": 0,
              "ticks": ""
             }
            },
            "type": "scatterpolar"
           }
          ],
          "scatterpolargl": [
           {
            "marker": {
             "colorbar": {
              "outlinewidth": 0,
              "ticks": ""
             }
            },
            "type": "scatterpolargl"
           }
          ],
          "scatterternary": [
           {
            "marker": {
             "colorbar": {
              "outlinewidth": 0,
              "ticks": ""
             }
            },
            "type": "scatterternary"
           }
          ],
          "surface": [
           {
            "colorbar": {
             "outlinewidth": 0,
             "ticks": ""
            },
            "colorscale": [
             [
              0,
              "#0d0887"
             ],
             [
              0.1111111111111111,
              "#46039f"
             ],
             [
              0.2222222222222222,
              "#7201a8"
             ],
             [
              0.3333333333333333,
              "#9c179e"
             ],
             [
              0.4444444444444444,
              "#bd3786"
             ],
             [
              0.5555555555555556,
              "#d8576b"
             ],
             [
              0.6666666666666666,
              "#ed7953"
             ],
             [
              0.7777777777777778,
              "#fb9f3a"
             ],
             [
              0.8888888888888888,
              "#fdca26"
             ],
             [
              1,
              "#f0f921"
             ]
            ],
            "type": "surface"
           }
          ],
          "table": [
           {
            "cells": {
             "fill": {
              "color": "#EBF0F8"
             },
             "line": {
              "color": "white"
             }
            },
            "header": {
             "fill": {
              "color": "#C8D4E3"
             },
             "line": {
              "color": "white"
             }
            },
            "type": "table"
           }
          ]
         },
         "layout": {
          "annotationdefaults": {
           "arrowcolor": "#2a3f5f",
           "arrowhead": 0,
           "arrowwidth": 1
          },
          "coloraxis": {
           "colorbar": {
            "outlinewidth": 0,
            "ticks": ""
           }
          },
          "colorscale": {
           "diverging": [
            [
             0,
             "#8e0152"
            ],
            [
             0.1,
             "#c51b7d"
            ],
            [
             0.2,
             "#de77ae"
            ],
            [
             0.3,
             "#f1b6da"
            ],
            [
             0.4,
             "#fde0ef"
            ],
            [
             0.5,
             "#f7f7f7"
            ],
            [
             0.6,
             "#e6f5d0"
            ],
            [
             0.7,
             "#b8e186"
            ],
            [
             0.8,
             "#7fbc41"
            ],
            [
             0.9,
             "#4d9221"
            ],
            [
             1,
             "#276419"
            ]
           ],
           "sequential": [
            [
             0,
             "#0d0887"
            ],
            [
             0.1111111111111111,
             "#46039f"
            ],
            [
             0.2222222222222222,
             "#7201a8"
            ],
            [
             0.3333333333333333,
             "#9c179e"
            ],
            [
             0.4444444444444444,
             "#bd3786"
            ],
            [
             0.5555555555555556,
             "#d8576b"
            ],
            [
             0.6666666666666666,
             "#ed7953"
            ],
            [
             0.7777777777777778,
             "#fb9f3a"
            ],
            [
             0.8888888888888888,
             "#fdca26"
            ],
            [
             1,
             "#f0f921"
            ]
           ],
           "sequentialminus": [
            [
             0,
             "#0d0887"
            ],
            [
             0.1111111111111111,
             "#46039f"
            ],
            [
             0.2222222222222222,
             "#7201a8"
            ],
            [
             0.3333333333333333,
             "#9c179e"
            ],
            [
             0.4444444444444444,
             "#bd3786"
            ],
            [
             0.5555555555555556,
             "#d8576b"
            ],
            [
             0.6666666666666666,
             "#ed7953"
            ],
            [
             0.7777777777777778,
             "#fb9f3a"
            ],
            [
             0.8888888888888888,
             "#fdca26"
            ],
            [
             1,
             "#f0f921"
            ]
           ]
          },
          "colorway": [
           "#636efa",
           "#EF553B",
           "#00cc96",
           "#ab63fa",
           "#FFA15A",
           "#19d3f3",
           "#FF6692",
           "#B6E880",
           "#FF97FF",
           "#FECB52"
          ],
          "font": {
           "color": "#2a3f5f"
          },
          "geo": {
           "bgcolor": "white",
           "lakecolor": "white",
           "landcolor": "#E5ECF6",
           "showlakes": true,
           "showland": true,
           "subunitcolor": "white"
          },
          "hoverlabel": {
           "align": "left"
          },
          "hovermode": "closest",
          "mapbox": {
           "style": "light"
          },
          "paper_bgcolor": "white",
          "plot_bgcolor": "#E5ECF6",
          "polar": {
           "angularaxis": {
            "gridcolor": "white",
            "linecolor": "white",
            "ticks": ""
           },
           "bgcolor": "#E5ECF6",
           "radialaxis": {
            "gridcolor": "white",
            "linecolor": "white",
            "ticks": ""
           }
          },
          "scene": {
           "xaxis": {
            "backgroundcolor": "#E5ECF6",
            "gridcolor": "white",
            "gridwidth": 2,
            "linecolor": "white",
            "showbackground": true,
            "ticks": "",
            "zerolinecolor": "white"
           },
           "yaxis": {
            "backgroundcolor": "#E5ECF6",
            "gridcolor": "white",
            "gridwidth": 2,
            "linecolor": "white",
            "showbackground": true,
            "ticks": "",
            "zerolinecolor": "white"
           },
           "zaxis": {
            "backgroundcolor": "#E5ECF6",
            "gridcolor": "white",
            "gridwidth": 2,
            "linecolor": "white",
            "showbackground": true,
            "ticks": "",
            "zerolinecolor": "white"
           }
          },
          "shapedefaults": {
           "line": {
            "color": "#2a3f5f"
           }
          },
          "ternary": {
           "aaxis": {
            "gridcolor": "white",
            "linecolor": "white",
            "ticks": ""
           },
           "baxis": {
            "gridcolor": "white",
            "linecolor": "white",
            "ticks": ""
           },
           "bgcolor": "#E5ECF6",
           "caxis": {
            "gridcolor": "white",
            "linecolor": "white",
            "ticks": ""
           }
          },
          "title": {
           "x": 0.05
          },
          "xaxis": {
           "automargin": true,
           "gridcolor": "white",
           "linecolor": "white",
           "ticks": "",
           "title": {
            "standoff": 15
           },
           "zerolinecolor": "white",
           "zerolinewidth": 2
          },
          "yaxis": {
           "automargin": true,
           "gridcolor": "white",
           "linecolor": "white",
           "ticks": "",
           "title": {
            "standoff": 15
           },
           "zerolinecolor": "white",
           "zerolinewidth": 2
          }
         }
        },
        "title": {
         "text": "Adversarial"
        }
       }
      },
      "text/html": [
       "<div>\n",
       "        \n",
       "        \n",
       "            <div id=\"efd5c66f-24c7-4651-9cfb-83c0592c9696\" class=\"plotly-graph-div\" style=\"height:525px; width:100%;\"></div>\n",
       "            <script type=\"text/javascript\">\n",
       "                require([\"plotly\"], function(Plotly) {\n",
       "                    window.PLOTLYENV=window.PLOTLYENV || {};\n",
       "                    \n",
       "                if (document.getElementById(\"efd5c66f-24c7-4651-9cfb-83c0592c9696\")) {\n",
       "                    Plotly.newPlot(\n",
       "                        'efd5c66f-24c7-4651-9cfb-83c0592c9696',\n",
       "                        [{\"type\": \"scatter\", \"x\": [0.0, 0.06156126782298088, 0.10000000149011612, 0.11199218779802322, 0.20000000298023224, 0.26728495955467224, 0.30000001192092896, 0.3683580756187439, 0.4000000059604645, 0.46590858697891235, 0.5, 0.5621352791786194, 0.6000000238418579, 0.6549345254898071, 0.699999988079071, 0.7486403584480286, 0.800000011920929, 0.8465822339057922, 0.8999999761581421, 0.9540621042251587, 1.0, 1.0498359203338623, 1.100000023841858, 1.1410685777664185, 1.2000000476837158, 1.2581822872161865, 1.2999999523162842, 1.3592793941497803, 1.399999976158142, 1.4585301876068115, 1.5, 1.5563719272613525, 1.600000023841858, 1.6539429426193237, 1.7000000476837158, 1.7518869638442993, 1.7999999523162842, 1.850287675857544, 1.899999976158142, 1.9490065574645996, 2.0, 2.0478813648223877, 2.0999999046325684, 2.1467478275299072, 2.200000047683716, 2.245405673980713, 2.299999952316284, 2.343400001525879, 2.4000000953674316, 2.438626289367676, 2.5, 2.533696413040161, 2.5999999046325684, 2.6407063007354736, 2.700000047683716, 2.740647554397583, 2.799999952316284, 2.8396050930023193, 2.9000000953674316, 2.938565254211426, 3.0, 3.0379273891448975, 3.0999999046325684, 3.13779878616333, 3.200000047683716, 3.237705707550049, 3.299999952316284, 3.336317539215088, 3.4000000953674316, 3.4278082847595215, 3.5, 3.5432522296905518, 3.5999999046325684, 3.6749396324157715, 3.700000047683716, 3.7680752277374268, 3.799999952316284, 3.8649306297302246, 3.9000000953674316, 3.9625840187072754, 4.0, 4.059551239013672, 4.099999904632568, 4.157014846801758, 4.199999809265137, 4.255940914154053, 4.300000190734863, 4.3558268547058105, 4.400000095367432, 4.453686714172363, 4.5, 4.5587544441223145, 4.599999904632568, 4.657113552093506, 4.699999809265137, 4.749529838562012, 4.800000190734863, 4.838003635406494, 4.900000095367432], \"y\": [3.3915927410125732, 3.4644153118133545, 3.521530866622925, 3.5411431789398193, 3.7076399326324463, 3.861198902130127, 3.9437029361724854, 4.132313251495361, 4.22691011428833, 4.43880033493042, 4.556024074554443, 4.782951354980469, 4.929070472717285, 5.150791645050049, 5.339985370635986, 5.549755096435547, 5.775162220001221, 5.98072624206543, 6.215211391448975, 6.447938919067383, 6.640109062194824, 6.840953826904297, 7.033982753753662, 7.184497356414795, 7.388125419616699, 7.574443817138672, 7.69934606552124, 7.863332748413086, 7.967358589172363, 8.104643821716309, 8.19359016418457, 8.303681373596191, 8.380866050720215, 8.46701717376709, 8.533058166503906, 8.599629402160645, 8.654556274414062, 8.705442428588867, 8.749751091003418, 8.788037300109863, 8.82266902923584, 8.850740432739258, 8.87678050994873, 8.896462440490723, 8.91491985321045, 8.927600860595703, 8.939277648925781, 8.94601058959961, 8.95141887664795, 8.953121185302734, 8.952303886413574, 8.950234413146973, 8.942299842834473, 8.935126304626465, 8.921158790588379, 8.90925121307373, 8.887970924377441, 8.871224403381348, 8.841100692749023, 8.81895637512207, 8.7781400680542, 8.749499320983887, 8.695935249328613, 8.659174919128418, 8.590755462646484, 8.544380187988281, 8.458548545837402, 8.403095245361328, 8.295056343078613, 8.243513107299805, 8.095796585083008, 7.997533798217773, 7.856780529022217, 7.650622844696045, 7.576587200164795, 7.364139080047607, 7.259266376495361, 7.038666725158691, 6.916562080383301, 6.697368621826172, 6.5669965744018555, 6.3637495040893555, 6.229716777801514, 6.0476484298706055, 5.9156317710876465, 5.750152587890625, 5.624143123626709, 5.469327926635742, 5.350427627563477, 5.210594654083252, 5.094644069671631, 4.955098628997803, 4.862855434417725, 4.744191646575928, 4.66246223449707, 4.576582908630371, 4.498773097991943, 4.446737766265869, 4.374358654022217]}, {\"type\": \"scatter\", \"x\": [0.0, 0.06156126782298088, 0.10000000149011612, 0.11199218779802322, 0.20000000298023224, 0.26728495955467224, 0.30000001192092896, 0.3683580756187439, 0.4000000059604645, 0.46590858697891235, 0.5, 0.5621352791786194, 0.6000000238418579, 0.6549345254898071, 0.699999988079071, 0.7486403584480286, 0.800000011920929, 0.8465822339057922, 0.8999999761581421, 0.9540621042251587, 1.0, 1.0498359203338623, 1.100000023841858, 1.1410685777664185, 1.2000000476837158, 1.2581822872161865, 1.2999999523162842, 1.3592793941497803, 1.399999976158142, 1.4585301876068115, 1.5, 1.5563719272613525, 1.600000023841858, 1.6539429426193237, 1.7000000476837158, 1.7518869638442993, 1.7999999523162842, 1.850287675857544, 1.899999976158142, 1.9490065574645996, 2.0, 2.0478813648223877, 2.0999999046325684, 2.1467478275299072, 2.200000047683716, 2.245405673980713, 2.299999952316284, 2.343400001525879, 2.4000000953674316, 2.438626289367676, 2.5, 2.533696413040161, 2.5999999046325684, 2.6407063007354736, 2.700000047683716, 2.740647554397583, 2.799999952316284, 2.8396050930023193, 2.9000000953674316, 2.938565254211426, 3.0, 3.0379273891448975, 3.0999999046325684, 3.13779878616333, 3.200000047683716, 3.237705707550049, 3.299999952316284, 3.336317539215088, 3.4000000953674316, 3.4278082847595215, 3.5, 3.5432522296905518, 3.5999999046325684, 3.6749396324157715, 3.700000047683716, 3.7680752277374268, 3.799999952316284, 3.8649306297302246, 3.9000000953674316, 3.9625840187072754, 4.0, 4.059551239013672, 4.099999904632568, 4.157014846801758, 4.199999809265137, 4.255940914154053, 4.300000190734863, 4.3558268547058105, 4.400000095367432, 4.453686714172363, 4.5, 4.5587544441223145, 4.599999904632568, 4.657113552093506, 4.699999809265137, 4.749529838562012, 4.800000190734863, 4.838003635406494, 4.900000095367432], \"y\": [0.5, 0.5417740941047668, 0.5479179620742798, 0.5469376444816589, 0.5100393891334534, 0.4526139795780182, 0.4183356463909149, 0.3376375734806061, 0.29771098494529724, 0.21205729246139526, 0.1680886596441269, 0.09025009721517563, 0.04605567827820778, -0.012103893794119358, -0.05253217741847038, -0.08664614707231522, -0.1099906861782074, -0.11866480857133865, -0.11430550366640091, -0.09434758126735687, -0.06671874225139618, -0.02730727195739746, 0.019395116716623306, 0.06118336319923401, 0.12358357012271881, 0.18526557087898254, 0.22808459401130676, 0.2860795855522156, 0.32339540123939514, 0.3739791810512543, 0.4073575735092163, 0.45033395290374756, 0.48157477378845215, 0.5185309052467346, 0.5485579967498779, 0.5812280178070068, 0.6103873252868652, 0.6399998664855957, 0.6683879494667053, 0.6956404447555542, 0.7232370376586914, 0.7484432458877563, 0.7751567363739014, 0.7983771562576294, 0.8240913152694702, 0.8452116847038269, 0.8698310256004333, 0.8885239362716675, 0.9120935797691345, 0.9272559285163879, 0.9505891799926758, 0.9624313116073608, 0.9850887656211853, 0.9978160858154297, 1.0155068635940552, 1.0265791416168213, 1.0420020818710327, 1.0513319969177246, 1.0650607347488403, 1.072994589805603, 1.0854610204696655, 1.0924540758132935, 1.1039620637893677, 1.110291600227356, 1.120629906654358, 1.126002311706543, 1.1340985298156738, 1.1374900341033936, 1.1416722536087036, 1.1420968770980835, 1.1404749155044556, 1.1363630294799805, 1.1275324821472168, 1.107018232345581, 1.0976346731185913, 1.0625571012496948, 1.0410395860671997, 0.9832106828689575, 0.9438600540161133, 0.8561342358589172, 0.7933452129364014, 0.6767413020133972, 0.5878780484199524, 0.4522342085838318, 0.34594228863716125, 0.20785737037658691, 0.10381380468606949, -0.017365651205182076, -0.10208255052566528, -0.19033977389335632, -0.2531573176383972, -0.31632402539253235, -0.35039088129997253, -0.3860241174697876, -0.40492892265319824, -0.4201158285140991, -0.4294776916503906, -0.4330282509326935, -0.4343567490577698]}, {\"type\": \"scatter\", \"x\": [0.0, 0.06156126782298088, 0.10000000149011612, 0.11199218779802322, 0.20000000298023224, 0.26728495955467224, 0.30000001192092896, 0.3683580756187439, 0.4000000059604645, 0.46590858697891235, 0.5, 0.5621352791786194, 0.6000000238418579, 0.6549345254898071, 0.699999988079071, 0.7486403584480286, 0.800000011920929, 0.8465822339057922, 0.8999999761581421, 0.9540621042251587, 1.0, 1.0498359203338623, 1.100000023841858, 1.1410685777664185, 1.2000000476837158, 1.2581822872161865, 1.2999999523162842, 1.3592793941497803, 1.399999976158142, 1.4585301876068115, 1.5, 1.5563719272613525, 1.600000023841858, 1.6539429426193237, 1.7000000476837158, 1.7518869638442993, 1.7999999523162842, 1.850287675857544, 1.899999976158142, 1.9490065574645996, 2.0, 2.0478813648223877, 2.0999999046325684, 2.1467478275299072, 2.200000047683716, 2.245405673980713, 2.299999952316284, 2.343400001525879, 2.4000000953674316, 2.438626289367676, 2.5, 2.533696413040161, 2.5999999046325684, 2.6407063007354736, 2.700000047683716, 2.740647554397583, 2.799999952316284, 2.8396050930023193, 2.9000000953674316, 2.938565254211426, 3.0, 3.0379273891448975, 3.0999999046325684, 3.13779878616333, 3.200000047683716, 3.237705707550049, 3.299999952316284, 3.336317539215088, 3.4000000953674316, 3.4278082847595215, 3.5, 3.5432522296905518, 3.5999999046325684, 3.6749396324157715, 3.700000047683716, 3.7680752277374268, 3.799999952316284, 3.8649306297302246, 3.9000000953674316, 3.9625840187072754, 4.0, 4.059551239013672, 4.099999904632568, 4.157014846801758, 4.199999809265137, 4.255940914154053, 4.300000190734863, 4.3558268547058105, 4.400000095367432, 4.453686714172363, 4.5, 4.5587544441223145, 4.599999904632568, 4.657113552093506, 4.699999809265137, 4.749529838562012, 4.800000190734863, 4.838003635406494, 4.900000095367432], \"y\": [1.0, 1.367698311805725, 1.6055207252502441, 1.6653920412063599, 2.1250336170196533, 2.4421513080596924, 2.602266788482666, 2.9167261123657227, 3.062276840209961, 3.364604949951172, 3.5107579231262207, 3.7863216400146484, 3.9274182319641113, 4.1347832679748535, 4.252599239349365, 4.361975193023682, 4.401908874511719, 4.4137282371521, 4.352598190307617, 4.246825218200684, 4.114006996154785, 3.9422850608825684, 3.751598596572876, 3.5783071517944336, 3.3338370323181152, 3.0742554664611816, 2.901412010192871, 2.6368813514709473, 2.4751429557800293, 2.223018169403076, 2.0702760219573975, 1.8433598279953003, 1.6995115280151367, 1.5024787187576294, 1.3708499670028687, 1.2027689218521118, 1.086714506149292, 0.944293200969696, 0.8450189828872681, 0.7243080735206604, 0.6409446597099304, 0.5380181670188904, 0.4684005379676819, 0.379631906747818, 0.3209189772605896, 0.2431556135416031, 0.19214566051959991, 0.12303978204727173, 0.07597501575946808, 0.016028089448809624, -0.033540237694978714, -0.08647503703832626, -0.1424027532339096, -0.20606465637683868, -0.25694799423217773, -0.32508552074432373, -0.3841395080089569, -0.4580787420272827, -0.5316683053970337, -0.6137333512306213, -0.7075150012969971, -0.8002209663391113, -0.9187524318695068, -1.0241907835006714, -1.1698832511901855, -1.2883963584899902, -1.462523341178894, -1.5903702974319458, -1.798858404159546, -1.9079676866531372, -2.180950164794922, -2.3627426624298096, -2.5959935188293457, -2.9044899940490723, -3.003483533859253, -3.2347474098205566, -3.3340015411376953, -3.455226421356201, -3.506878614425659, -3.4927847385406494, -3.4760096073150635, -3.3506710529327393, -3.2805335521698, -3.114834785461426, -3.035698652267456, -2.892991304397583, -2.8349480628967285, -2.7209646701812744, -2.666785955429077, -2.547128915786743, -2.4622862339019775, -2.2913334369659424, -2.183075189590454, -1.9763051271438599, -1.8376152515411377, -1.6343129873275757, -1.453721284866333, -1.2876546382904053, -1.055446982383728]}, {\"type\": \"scatter\", \"x\": [0.0, 0.06156126782298088, 0.10000000149011612, 0.11199218779802322, 0.20000000298023224, 0.26728495955467224, 0.30000001192092896, 0.3683580756187439, 0.4000000059604645, 0.46590858697891235, 0.5, 0.5621352791786194, 0.6000000238418579, 0.6549345254898071, 0.699999988079071, 0.7486403584480286, 0.800000011920929, 0.8465822339057922, 0.8999999761581421, 0.9540621042251587, 1.0, 1.0498359203338623, 1.100000023841858, 1.1410685777664185, 1.2000000476837158, 1.2581822872161865, 1.2999999523162842, 1.3592793941497803, 1.399999976158142, 1.4585301876068115, 1.5, 1.5563719272613525, 1.600000023841858, 1.6539429426193237, 1.7000000476837158, 1.7518869638442993, 1.7999999523162842, 1.850287675857544, 1.899999976158142, 1.9490065574645996, 2.0, 2.0478813648223877, 2.0999999046325684, 2.1467478275299072, 2.200000047683716, 2.245405673980713, 2.299999952316284, 2.343400001525879, 2.4000000953674316, 2.438626289367676, 2.5, 2.533696413040161, 2.5999999046325684, 2.6407063007354736, 2.700000047683716, 2.740647554397583, 2.799999952316284, 2.8396050930023193, 2.9000000953674316, 2.938565254211426, 3.0, 3.0379273891448975, 3.0999999046325684, 3.13779878616333, 3.200000047683716, 3.237705707550049, 3.299999952316284, 3.336317539215088, 3.4000000953674316, 3.4278082847595215, 3.5, 3.5432522296905518, 3.5999999046325684, 3.6749396324157715, 3.700000047683716, 3.7680752277374268, 3.799999952316284, 3.8649306297302246, 3.9000000953674316, 3.9625840187072754, 4.0, 4.059551239013672, 4.099999904632568, 4.157014846801758, 4.199999809265137, 4.255940914154053, 4.300000190734863, 4.3558268547058105, 4.400000095367432, 4.453686714172363, 4.5, 4.5587544441223145, 4.599999904632568, 4.657113552093506, 4.699999809265137, 4.749529838562012, 4.800000190734863, 4.838003635406494, 4.900000095367432], \"y\": [1.0, 0.35931989550590515, -0.04058161750435829, -0.1227891817688942, -0.7139200568199158, -0.9871118068695068, -1.1069753170013428, -1.2422844171524048, -1.2781020402908325, -1.3035792112350464, -1.269652247428894, -1.2144865989685059, -1.1096155643463135, -0.9879135489463806, -0.790440559387207, -0.5972975492477417, -0.2952007055282593, -0.06920889765024185, 0.23927532136440277, 0.4977889060974121, 0.700875461101532, 0.8712462782859802, 0.9794381856918335, 1.0468215942382812, 1.0539798736572266, 1.0499922037124634, 0.9906874895095825, 0.9511799812316895, 0.8754068613052368, 0.8391163349151611, 0.7639930248260498, 0.7469095587730408, 0.6770409941673279, 0.67914879322052, 0.6145809292793274, 0.6305074095726013, 0.5694812536239624, 0.5939429402351379, 0.5343409180641174, 0.5635405778884888, 0.5035730004310608, 0.5350773930549622, 0.4735223650932312, 0.5059509873390198, 0.44207605719566345, 0.47472062706947327, 0.40810829401016235, 0.44072437286376953, 0.37118446826934814, 0.40372398495674133, 0.3315209746360779, 0.3634744882583618, 0.2901015281677246, 0.32360029220581055, 0.2488681972026825, 0.2842305302619934, 0.2108851820230484, 0.24914304912090302, 0.17989498376846313, 0.22115270793437958, 0.15840943157672882, 0.2006477564573288, 0.1440509557723999, 0.18187730014324188, 0.1257249414920807, 0.15125609934329987, 0.085776686668396, 0.09477058053016663, 0.015439213253557682, 0.012420319020748138, -0.07913725078105927, -0.11496099829673767, -0.20598791539669037, -0.34669002890586853, -0.40325984358787537, -0.6244335174560547, -0.7230934500694275, -1.047795295715332, -1.1917688846588135, -1.5907115936279297, -1.7537500858306885, -2.1283345222473145, -2.243269681930542, -2.470021963119507, -2.445180892944336, -2.4450416564941406, -2.2502126693725586, -2.055121898651123, -1.7627865076065063, -1.5046933889389038, -1.1969348192214966, -0.9382410645484924, -0.7075517773628235, -0.5282487869262695, -0.34666842222213745, -0.25684303045272827, -0.10338546335697174, -0.076986163854599, 0.052539147436618805]}],\n",
       "                        {\"template\": {\"data\": {\"bar\": [{\"error_x\": {\"color\": \"#2a3f5f\"}, \"error_y\": {\"color\": \"#2a3f5f\"}, \"marker\": {\"line\": {\"color\": \"#E5ECF6\", \"width\": 0.5}}, \"type\": \"bar\"}], \"barpolar\": [{\"marker\": {\"line\": {\"color\": \"#E5ECF6\", \"width\": 0.5}}, \"type\": \"barpolar\"}], \"carpet\": [{\"aaxis\": {\"endlinecolor\": \"#2a3f5f\", \"gridcolor\": \"white\", \"linecolor\": \"white\", \"minorgridcolor\": \"white\", \"startlinecolor\": \"#2a3f5f\"}, \"baxis\": {\"endlinecolor\": \"#2a3f5f\", \"gridcolor\": \"white\", \"linecolor\": \"white\", \"minorgridcolor\": \"white\", \"startlinecolor\": \"#2a3f5f\"}, \"type\": \"carpet\"}], \"choropleth\": [{\"colorbar\": {\"outlinewidth\": 0, \"ticks\": \"\"}, \"type\": \"choropleth\"}], \"contour\": [{\"colorbar\": {\"outlinewidth\": 0, \"ticks\": \"\"}, \"colorscale\": [[0.0, \"#0d0887\"], [0.1111111111111111, \"#46039f\"], [0.2222222222222222, \"#7201a8\"], [0.3333333333333333, \"#9c179e\"], [0.4444444444444444, \"#bd3786\"], [0.5555555555555556, \"#d8576b\"], [0.6666666666666666, \"#ed7953\"], [0.7777777777777778, \"#fb9f3a\"], [0.8888888888888888, \"#fdca26\"], [1.0, \"#f0f921\"]], \"type\": \"contour\"}], \"contourcarpet\": [{\"colorbar\": {\"outlinewidth\": 0, \"ticks\": \"\"}, \"type\": \"contourcarpet\"}], \"heatmap\": [{\"colorbar\": {\"outlinewidth\": 0, \"ticks\": \"\"}, \"colorscale\": [[0.0, \"#0d0887\"], [0.1111111111111111, \"#46039f\"], [0.2222222222222222, \"#7201a8\"], [0.3333333333333333, \"#9c179e\"], [0.4444444444444444, \"#bd3786\"], [0.5555555555555556, \"#d8576b\"], [0.6666666666666666, \"#ed7953\"], [0.7777777777777778, \"#fb9f3a\"], [0.8888888888888888, \"#fdca26\"], [1.0, \"#f0f921\"]], \"type\": \"heatmap\"}], \"heatmapgl\": [{\"colorbar\": {\"outlinewidth\": 0, \"ticks\": \"\"}, \"colorscale\": [[0.0, \"#0d0887\"], [0.1111111111111111, \"#46039f\"], [0.2222222222222222, \"#7201a8\"], [0.3333333333333333, \"#9c179e\"], [0.4444444444444444, \"#bd3786\"], [0.5555555555555556, \"#d8576b\"], [0.6666666666666666, \"#ed7953\"], [0.7777777777777778, \"#fb9f3a\"], [0.8888888888888888, \"#fdca26\"], [1.0, \"#f0f921\"]], \"type\": \"heatmapgl\"}], \"histogram\": [{\"marker\": {\"colorbar\": {\"outlinewidth\": 0, \"ticks\": \"\"}}, \"type\": \"histogram\"}], \"histogram2d\": [{\"colorbar\": {\"outlinewidth\": 0, \"ticks\": \"\"}, \"colorscale\": [[0.0, \"#0d0887\"], [0.1111111111111111, \"#46039f\"], [0.2222222222222222, \"#7201a8\"], [0.3333333333333333, \"#9c179e\"], [0.4444444444444444, \"#bd3786\"], [0.5555555555555556, \"#d8576b\"], [0.6666666666666666, \"#ed7953\"], [0.7777777777777778, \"#fb9f3a\"], [0.8888888888888888, \"#fdca26\"], [1.0, \"#f0f921\"]], \"type\": \"histogram2d\"}], \"histogram2dcontour\": [{\"colorbar\": {\"outlinewidth\": 0, \"ticks\": \"\"}, \"colorscale\": [[0.0, \"#0d0887\"], [0.1111111111111111, \"#46039f\"], [0.2222222222222222, \"#7201a8\"], [0.3333333333333333, \"#9c179e\"], [0.4444444444444444, \"#bd3786\"], [0.5555555555555556, \"#d8576b\"], [0.6666666666666666, \"#ed7953\"], [0.7777777777777778, \"#fb9f3a\"], [0.8888888888888888, \"#fdca26\"], [1.0, \"#f0f921\"]], \"type\": \"histogram2dcontour\"}], \"mesh3d\": [{\"colorbar\": {\"outlinewidth\": 0, \"ticks\": \"\"}, \"type\": \"mesh3d\"}], \"parcoords\": [{\"line\": {\"colorbar\": {\"outlinewidth\": 0, \"ticks\": \"\"}}, \"type\": \"parcoords\"}], \"pie\": [{\"automargin\": true, \"type\": \"pie\"}], \"scatter\": [{\"marker\": {\"colorbar\": {\"outlinewidth\": 0, \"ticks\": \"\"}}, \"type\": \"scatter\"}], \"scatter3d\": [{\"line\": {\"colorbar\": {\"outlinewidth\": 0, \"ticks\": \"\"}}, \"marker\": {\"colorbar\": {\"outlinewidth\": 0, \"ticks\": \"\"}}, \"type\": \"scatter3d\"}], \"scattercarpet\": [{\"marker\": {\"colorbar\": {\"outlinewidth\": 0, \"ticks\": \"\"}}, \"type\": \"scattercarpet\"}], \"scattergeo\": [{\"marker\": {\"colorbar\": {\"outlinewidth\": 0, \"ticks\": \"\"}}, \"type\": \"scattergeo\"}], \"scattergl\": [{\"marker\": {\"colorbar\": {\"outlinewidth\": 0, \"ticks\": \"\"}}, \"type\": \"scattergl\"}], \"scattermapbox\": [{\"marker\": {\"colorbar\": {\"outlinewidth\": 0, \"ticks\": \"\"}}, \"type\": \"scattermapbox\"}], \"scatterpolar\": [{\"marker\": {\"colorbar\": {\"outlinewidth\": 0, \"ticks\": \"\"}}, \"type\": \"scatterpolar\"}], \"scatterpolargl\": [{\"marker\": {\"colorbar\": {\"outlinewidth\": 0, \"ticks\": \"\"}}, \"type\": \"scatterpolargl\"}], \"scatterternary\": [{\"marker\": {\"colorbar\": {\"outlinewidth\": 0, \"ticks\": \"\"}}, \"type\": \"scatterternary\"}], \"surface\": [{\"colorbar\": {\"outlinewidth\": 0, \"ticks\": \"\"}, \"colorscale\": [[0.0, \"#0d0887\"], [0.1111111111111111, \"#46039f\"], [0.2222222222222222, \"#7201a8\"], [0.3333333333333333, \"#9c179e\"], [0.4444444444444444, \"#bd3786\"], [0.5555555555555556, \"#d8576b\"], [0.6666666666666666, \"#ed7953\"], [0.7777777777777778, \"#fb9f3a\"], [0.8888888888888888, \"#fdca26\"], [1.0, \"#f0f921\"]], \"type\": \"surface\"}], \"table\": [{\"cells\": {\"fill\": {\"color\": \"#EBF0F8\"}, \"line\": {\"color\": \"white\"}}, \"header\": {\"fill\": {\"color\": \"#C8D4E3\"}, \"line\": {\"color\": \"white\"}}, \"type\": \"table\"}]}, \"layout\": {\"annotationdefaults\": {\"arrowcolor\": \"#2a3f5f\", \"arrowhead\": 0, \"arrowwidth\": 1}, \"coloraxis\": {\"colorbar\": {\"outlinewidth\": 0, \"ticks\": \"\"}}, \"colorscale\": {\"diverging\": [[0, \"#8e0152\"], [0.1, \"#c51b7d\"], [0.2, \"#de77ae\"], [0.3, \"#f1b6da\"], [0.4, \"#fde0ef\"], [0.5, \"#f7f7f7\"], [0.6, \"#e6f5d0\"], [0.7, \"#b8e186\"], [0.8, \"#7fbc41\"], [0.9, \"#4d9221\"], [1, \"#276419\"]], \"sequential\": [[0.0, \"#0d0887\"], [0.1111111111111111, \"#46039f\"], [0.2222222222222222, \"#7201a8\"], [0.3333333333333333, \"#9c179e\"], [0.4444444444444444, \"#bd3786\"], [0.5555555555555556, \"#d8576b\"], [0.6666666666666666, \"#ed7953\"], [0.7777777777777778, \"#fb9f3a\"], [0.8888888888888888, \"#fdca26\"], [1.0, \"#f0f921\"]], \"sequentialminus\": [[0.0, \"#0d0887\"], [0.1111111111111111, \"#46039f\"], [0.2222222222222222, \"#7201a8\"], [0.3333333333333333, \"#9c179e\"], [0.4444444444444444, \"#bd3786\"], [0.5555555555555556, \"#d8576b\"], [0.6666666666666666, \"#ed7953\"], [0.7777777777777778, \"#fb9f3a\"], [0.8888888888888888, \"#fdca26\"], [1.0, \"#f0f921\"]]}, \"colorway\": [\"#636efa\", \"#EF553B\", \"#00cc96\", \"#ab63fa\", \"#FFA15A\", \"#19d3f3\", \"#FF6692\", \"#B6E880\", \"#FF97FF\", \"#FECB52\"], \"font\": {\"color\": \"#2a3f5f\"}, \"geo\": {\"bgcolor\": \"white\", \"lakecolor\": \"white\", \"landcolor\": \"#E5ECF6\", \"showlakes\": true, \"showland\": true, \"subunitcolor\": \"white\"}, \"hoverlabel\": {\"align\": \"left\"}, \"hovermode\": \"closest\", \"mapbox\": {\"style\": \"light\"}, \"paper_bgcolor\": \"white\", \"plot_bgcolor\": \"#E5ECF6\", \"polar\": {\"angularaxis\": {\"gridcolor\": \"white\", \"linecolor\": \"white\", \"ticks\": \"\"}, \"bgcolor\": \"#E5ECF6\", \"radialaxis\": {\"gridcolor\": \"white\", \"linecolor\": \"white\", \"ticks\": \"\"}}, \"scene\": {\"xaxis\": {\"backgroundcolor\": \"#E5ECF6\", \"gridcolor\": \"white\", \"gridwidth\": 2, \"linecolor\": \"white\", \"showbackground\": true, \"ticks\": \"\", \"zerolinecolor\": \"white\"}, \"yaxis\": {\"backgroundcolor\": \"#E5ECF6\", \"gridcolor\": \"white\", \"gridwidth\": 2, \"linecolor\": \"white\", \"showbackground\": true, \"ticks\": \"\", \"zerolinecolor\": \"white\"}, \"zaxis\": {\"backgroundcolor\": \"#E5ECF6\", \"gridcolor\": \"white\", \"gridwidth\": 2, \"linecolor\": \"white\", \"showbackground\": true, \"ticks\": \"\", \"zerolinecolor\": \"white\"}}, \"shapedefaults\": {\"line\": {\"color\": \"#2a3f5f\"}}, \"ternary\": {\"aaxis\": {\"gridcolor\": \"white\", \"linecolor\": \"white\", \"ticks\": \"\"}, \"baxis\": {\"gridcolor\": \"white\", \"linecolor\": \"white\", \"ticks\": \"\"}, \"bgcolor\": \"#E5ECF6\", \"caxis\": {\"gridcolor\": \"white\", \"linecolor\": \"white\", \"ticks\": \"\"}}, \"title\": {\"x\": 0.05}, \"xaxis\": {\"automargin\": true, \"gridcolor\": \"white\", \"linecolor\": \"white\", \"ticks\": \"\", \"title\": {\"standoff\": 15}, \"zerolinecolor\": \"white\", \"zerolinewidth\": 2}, \"yaxis\": {\"automargin\": true, \"gridcolor\": \"white\", \"linecolor\": \"white\", \"ticks\": \"\", \"title\": {\"standoff\": 15}, \"zerolinecolor\": \"white\", \"zerolinewidth\": 2}}}, \"title\": {\"text\": \"Adversarial\"}},\n",
       "                        {\"responsive\": true}\n",
       "                    ).then(function(){\n",
       "                            \n",
       "var gd = document.getElementById('efd5c66f-24c7-4651-9cfb-83c0592c9696');\n",
       "var x = new MutationObserver(function (mutations, observer) {{\n",
       "        var display = window.getComputedStyle(gd).display;\n",
       "        if (!display || display === 'none') {{\n",
       "            console.log([gd, 'removed!']);\n",
       "            Plotly.purge(gd);\n",
       "            observer.disconnect();\n",
       "        }}\n",
       "}});\n",
       "\n",
       "// Listen for the removal of the full notebook cells\n",
       "var notebookContainer = gd.closest('#notebook-container');\n",
       "if (notebookContainer) {{\n",
       "    x.observe(notebookContainer, {childList: true});\n",
       "}}\n",
       "\n",
       "// Listen for the clearing of the current output cell\n",
       "var outputEl = gd.closest('.output');\n",
       "if (outputEl) {{\n",
       "    x.observe(outputEl, {childList: true});\n",
       "}}\n",
       "\n",
       "                        })\n",
       "                };\n",
       "                });\n",
       "            </script>\n",
       "        </div>"
      ]
     },
     "metadata": {},
     "output_type": "display_data"
    }
   ],
   "source": [
    "ctrl_adv = controllers.get_limited_lookahead_controller(opt['sys_utils'].get_value_function(opt['online_horizon'],\n",
    "                                                                                        opt['offline_dt'],\n",
    "                                                                                        dtype=opt['dtype'])[0],\n",
    "                                                                                        vf_approx_adv,\n",
    "                                                                                        opt['sim_dt']*opt['sim_horizon'])\n",
    "x_traj_sim, t_traj_sim = controllers.sim_ctrl(opt['sim_x0'], vf.u_dim[0], sys.dx,\n",
    "                                              ctrl_adv, opt['sim_dt'], opt['sim_horizon'],\n",
    "                                              integration_mode=opt['control_interp'])\n",
    "controllers.plot_sim(t_traj_sim, x_traj_sim, \"Adversarial\").show()"
   ]
  },
  {
   "cell_type": "code",
   "execution_count": 86,
   "metadata": {},
   "outputs": [
    {
     "data": {
      "application/vnd.plotly.v1+json": {
       "config": {
        "plotlyServerURL": "https://plot.ly"
       },
       "data": [
        {
         "type": "scatter",
         "x": [
          0,
          6.663675594609231e-05,
          0.0007330043008551002,
          0.007396679371595383,
          0.07403343170881271,
          0.10000000149011612,
          0.16490338742733002,
          0.20000000298023224,
          0.27259746193885803,
          0.30000001192092896,
          0.367277055978775,
          0.4000000059604645,
          0.46957117319107056,
          0.5,
          0.5206052660942078,
          0.6000000238418579,
          0.6679756045341492,
          0.699999988079071,
          0.7661079168319702,
          0.800000011920929,
          0.8530804514884949,
          0.8999999761581421,
          0.9642595052719116,
          1,
          1.0642706155776978,
          1.100000023841858,
          1.1621886491775513,
          1.2000000476837158,
          1.2610357999801636,
          1.2999999523162842,
          1.3178333044052124,
          1.399999976158142,
          1.4493794441223145,
          1.5,
          1.5723127126693726,
          1.600000023841858,
          1.6564792394638062,
          1.7000000476837158,
          1.7546751499176025,
          1.7999999523162842,
          1.8529491424560547,
          1.899999976158142,
          1.9538666009902954,
          2,
          2.066331148147583,
          2.0999999046325684,
          2.132289409637451,
          2.200000047683716,
          2.215104341506958,
          2.298588991165161,
          2.299999952316284,
          2.3535280227661133,
          2.4000000953674316,
          2.4569597244262695,
          2.5,
          2.554518461227417,
          2.5999999046325684,
          2.6516575813293457,
          2.700000047683716,
          2.7539920806884766,
          2.799999952316284,
          2.862983465194702,
          2.9000000953674316,
          2.9771347045898438,
          3,
          3.0882070064544678,
          3.0999999046325684,
          3.191614866256714,
          3.200000047683716,
          3.2820725440979004,
          3.299999952316284,
          3.365889072418213,
          3.4000000953674316,
          3.452340841293335,
          3.5,
          3.5659945011138916,
          3.5999999046325684,
          3.679811477661133,
          3.700000047683716,
          3.788001298904419,
          3.799999952316284,
          3.883849859237671,
          3.9000000953674316,
          3.983410596847534,
          4,
          4.097614288330078,
          4.099999904632568,
          4.181950092315674,
          4.199999809265137,
          4.265969753265381,
          4.300000190734863,
          4.361334800720215,
          4.400000095367432,
          4.459506511688232,
          4.5,
          4.555794715881348,
          4.599999904632568,
          4.661911487579346,
          4.699999809265137,
          4.7702178955078125,
          4.800000190734863,
          4.868587970733643,
          4.900000095367432
         ],
         "y": [
          3.2415926456451416,
          3.2415926456451416,
          3.241590976715088,
          3.2414169311523438,
          3.2234907150268555,
          3.2082784175872803,
          3.158818006515503,
          3.1275365352630615,
          3.066589117050171,
          3.046945095062256,
          3.008821487426758,
          2.995706081390381,
          2.979224443435669,
          2.976801633834839,
          2.9768149852752686,
          2.9896817207336426,
          3.0177371501922607,
          3.036686420440674,
          3.087827205657959,
          3.1205480098724365,
          3.18040132522583,
          3.242363214492798,
          3.339843988418579,
          3.400214910507202,
          3.5180389881134033,
          3.5885865688323975,
          3.7179744243621826,
          3.800586223602295,
          3.9360475540161133,
          4.02291202545166,
          4.062036991119385,
          4.225935459136963,
          4.3228759765625,
          4.434314250946045,
          4.651096820831299,
          4.755552291870117,
          5.004973888397217,
          5.2237043380737305,
          5.515797138214111,
          5.760781288146973,
          6.033932685852051,
          6.247229099273682,
          6.438607215881348,
          6.546354293823242,
          6.603639125823975,
          6.5951433181762695,
          6.573037147521973,
          6.535022735595703,
          6.535098075866699,
          6.614060878753662,
          6.616492748260498,
          6.730621337890625,
          6.857835292816162,
          7.034878253936768,
          7.175961017608643,
          7.355759620666504,
          7.5020623207092285,
          7.660665035247803,
          7.799688816070557,
          7.942840099334717,
          8.054278373718262,
          8.191290855407715,
          8.263772964477539,
          8.39725112915039,
          8.43259048461914,
          8.552800178527832,
          8.567042350769043,
          8.663900375366211,
          8.67153549194336,
          8.734787940979004,
          8.745621681213379,
          8.775110244750977,
          8.783387184143066,
          8.78586483001709,
          8.776634216308594,
          8.744915008544922,
          8.719839096069336,
          8.637795448303223,
          8.611932754516602,
          8.475181579589844,
          8.453486442565918,
          8.282103538513184,
          8.245060920715332,
          8.033854484558105,
          7.987849712371826,
          7.691376209259033,
          7.683594226837158,
          7.402385711669922,
          7.337238788604736,
          7.091897964477539,
          6.962550640106201,
          6.72860050201416,
          6.583089351654053,
          6.365737438201904,
          6.224792003631592,
          6.042595863342285,
          5.910069942474365,
          5.744512557983398,
          5.655092716217041,
          5.515774250030518,
          5.466494083404541,
          5.373945713043213,
          5.340608596801758
         ]
        },
        {
         "type": "scatter",
         "x": [
          0,
          6.663675594609231e-05,
          0.0007330043008551002,
          0.007396679371595383,
          0.07403343170881271,
          0.10000000149011612,
          0.16490338742733002,
          0.20000000298023224,
          0.27259746193885803,
          0.30000001192092896,
          0.367277055978775,
          0.4000000059604645,
          0.46957117319107056,
          0.5,
          0.5206052660942078,
          0.6000000238418579,
          0.6679756045341492,
          0.699999988079071,
          0.7661079168319702,
          0.800000011920929,
          0.8530804514884949,
          0.8999999761581421,
          0.9642595052719116,
          1,
          1.0642706155776978,
          1.100000023841858,
          1.1621886491775513,
          1.2000000476837158,
          1.2610357999801636,
          1.2999999523162842,
          1.3178333044052124,
          1.399999976158142,
          1.4493794441223145,
          1.5,
          1.5723127126693726,
          1.600000023841858,
          1.6564792394638062,
          1.7000000476837158,
          1.7546751499176025,
          1.7999999523162842,
          1.8529491424560547,
          1.899999976158142,
          1.9538666009902954,
          2,
          2.066331148147583,
          2.0999999046325684,
          2.132289409637451,
          2.200000047683716,
          2.215104341506958,
          2.298588991165161,
          2.299999952316284,
          2.3535280227661133,
          2.4000000953674316,
          2.4569597244262695,
          2.5,
          2.554518461227417,
          2.5999999046325684,
          2.6516575813293457,
          2.700000047683716,
          2.7539920806884766,
          2.799999952316284,
          2.862983465194702,
          2.9000000953674316,
          2.9771347045898438,
          3,
          3.0882070064544678,
          3.0999999046325684,
          3.191614866256714,
          3.200000047683716,
          3.2820725440979004,
          3.299999952316284,
          3.365889072418213,
          3.4000000953674316,
          3.452340841293335,
          3.5,
          3.5659945011138916,
          3.5999999046325684,
          3.679811477661133,
          3.700000047683716,
          3.788001298904419,
          3.799999952316284,
          3.883849859237671,
          3.9000000953674316,
          3.983410596847534,
          4,
          4.097614288330078,
          4.099999904632568,
          4.181950092315674,
          4.199999809265137,
          4.265969753265381,
          4.300000190734863,
          4.361334800720215,
          4.400000095367432,
          4.459506511688232,
          4.5,
          4.555794715881348,
          4.599999904632568,
          4.661911487579346,
          4.699999809265137,
          4.7702178955078125,
          4.800000190734863,
          4.868587970733643,
          4.900000095367432
         ],
         "y": [
          0.5,
          0.5000000596046448,
          0.5000054240226746,
          0.5005543828010559,
          0.5569292902946472,
          0.6047587394714355,
          0.7648786306381226,
          0.869947612285614,
          1.0918405055999756,
          1.171665072441101,
          1.3519648313522339,
          1.4307466745376587,
          1.5793989896774292,
          1.636410117149353,
          1.6721850633621216,
          1.7871531248092651,
          1.8533742427825928,
          1.8732631206512451,
          1.8903753757476807,
          1.8862642049789429,
          1.8639639616012573,
          1.8283140659332275,
          1.7615083456039429,
          1.7172763347625732,
          1.6335115432739258,
          1.5864192247390747,
          1.5126127004623413,
          1.4750964641571045,
          1.4424382448196411,
          1.4456013441085815,
          1.4562643766403198,
          1.631803035736084,
          1.826762318611145,
          2.085657835006714,
          2.482956886291504,
          2.630871295928955,
          2.9021599292755127,
          3.0793774127960205,
          3.2847607135772705,
          3.4603030681610107,
          3.697399854660034,
          3.960028886795044,
          4.327544689178467,
          4.702285289764404,
          5.3429274559021,
          5.70782470703125,
          6.070293426513672,
          6.785467624664307,
          6.925449371337891,
          7.540737628936768,
          7.5489397048950195,
          7.814557075500488,
          7.980823040008545,
          8.124048233032227,
          8.200212478637695,
          8.269364356994629,
          8.31212329864502,
          8.351332664489746,
          8.384628295898438,
          8.42316722869873,
          8.460517883300781,
          8.522208213806152,
          8.565509796142578,
          8.67454719543457,
          8.71200180053711,
          8.878150939941406,
          8.902938842773438,
          9.114294052124023,
          9.135228157043457,
          9.352052688598633,
          9.40206241607666,
          9.592287063598633,
          9.69409465789795,
          9.853447914123535,
          10.000787734985352,
          10.206480979919434,
          10.312687873840332,
          10.561490058898926,
          10.624359130859375,
          10.900040626525879,
          10.938109397888184,
          11.207494735717773,
          11.260486602783203,
          11.539420127868652,
          11.596251487731934,
          11.93920612335205,
          11.947757720947266,
          12.243212699890137,
          12.307788848876953,
          12.536286354064941,
          12.645727157592773,
          12.820060729980469,
          12.909964561462402,
          13.013368606567383,
          13.05702018737793,
          13.081313133239746,
          13.071430206298828,
          13.017027854919434,
          12.962104797363281,
          12.823860168457031,
          12.752917289733887,
          12.56765365600586,
          12.474839210510254
         ]
        },
        {
         "type": "scatter",
         "x": [
          0,
          6.663675594609231e-05,
          0.0007330043008551002,
          0.007396679371595383,
          0.07403343170881271,
          0.10000000149011612,
          0.16490338742733002,
          0.20000000298023224,
          0.27259746193885803,
          0.30000001192092896,
          0.367277055978775,
          0.4000000059604645,
          0.46957117319107056,
          0.5,
          0.5206052660942078,
          0.6000000238418579,
          0.6679756045341492,
          0.699999988079071,
          0.7661079168319702,
          0.800000011920929,
          0.8530804514884949,
          0.8999999761581421,
          0.9642595052719116,
          1,
          1.0642706155776978,
          1.100000023841858,
          1.1621886491775513,
          1.2000000476837158,
          1.2610357999801636,
          1.2999999523162842,
          1.3178333044052124,
          1.399999976158142,
          1.4493794441223145,
          1.5,
          1.5723127126693726,
          1.600000023841858,
          1.6564792394638062,
          1.7000000476837158,
          1.7546751499176025,
          1.7999999523162842,
          1.8529491424560547,
          1.899999976158142,
          1.9538666009902954,
          2,
          2.066331148147583,
          2.0999999046325684,
          2.132289409637451,
          2.200000047683716,
          2.215104341506958,
          2.298588991165161,
          2.299999952316284,
          2.3535280227661133,
          2.4000000953674316,
          2.4569597244262695,
          2.5,
          2.554518461227417,
          2.5999999046325684,
          2.6516575813293457,
          2.700000047683716,
          2.7539920806884766,
          2.799999952316284,
          2.862983465194702,
          2.9000000953674316,
          2.9771347045898438,
          3,
          3.0882070064544678,
          3.0999999046325684,
          3.191614866256714,
          3.200000047683716,
          3.2820725440979004,
          3.299999952316284,
          3.365889072418213,
          3.4000000953674316,
          3.452340841293335,
          3.5,
          3.5659945011138916,
          3.5999999046325684,
          3.679811477661133,
          3.700000047683716,
          3.788001298904419,
          3.799999952316284,
          3.883849859237671,
          3.9000000953674316,
          3.983410596847534,
          4,
          4.097614288330078,
          4.099999904632568,
          4.181950092315674,
          4.199999809265137,
          4.265969753265381,
          4.300000190734863,
          4.361334800720215,
          4.400000095367432,
          4.459506511688232,
          4.5,
          4.555794715881348,
          4.599999904632568,
          4.661911487579346,
          4.699999809265137,
          4.7702178955078125,
          4.800000190734863,
          4.868587970733643,
          4.900000095367432
         ],
         "y": [
          0,
          -0.00042682571802288294,
          -0.004697256721556187,
          -0.04761681333184242,
          -0.49553096294403076,
          -0.6764442324638367,
          -0.8469697833061218,
          -0.9346898198127747,
          -0.7489917278289795,
          -0.6852144598960876,
          -0.4530450999736786,
          -0.3493803143501282,
          -0.12671977281570435,
          -0.03274785354733467,
          0.03397820144891739,
          0.2905201315879822,
          0.5343326330184937,
          0.6492799520492554,
          0.8993195295333862,
          1.0323286056518555,
          1.22649085521698,
          1.4181638956069946,
          1.6232671737670898,
          1.7575676441192627,
          1.918535828590393,
          2.033590793609619,
          2.1385302543640137,
          2.235450506210327,
          2.2162697315216064,
          2.2488436698913574,
          2.141871452331543,
          1.936882495880127,
          2.0344762802124023,
          2.4134490489959717,
          3.5706212520599365,
          3.9669082164764404,
          4.804584503173828,
          5.215594291687012,
          5.419955253601074,
          5.350965976715088,
          4.897355079650879,
          4.100768566131592,
          2.941484212875366,
          1.7022976875305176,
          0.07270431518554688,
          -0.5350430011749268,
          -0.7731113433837891,
          -0.13087815046310425,
          0.1445898562669754,
          1.7120625972747803,
          1.7356173992156982,
          2.490318536758423,
          2.955165386199951,
          3.227949619293213,
          3.3122308254241943,
          3.266140937805176,
          3.158656597137451,
          2.974863052368164,
          2.7733662128448486,
          2.5279152393341064,
          2.316749334335327,
          2.0366334915161133,
          1.8808764219284058,
          1.5860607624053955,
          1.505555272102356,
          1.2254303693771362,
          1.1900116205215454,
          0.9231884479522705,
          0.8979431390762329,
          0.6360430121421814,
          0.5720906853675842,
          0.316093385219574,
          0.1674242615699768,
          -0.0761868953704834,
          -0.3130551874637604,
          -0.6497008204460144,
          -0.8251716494560242,
          -1.2301040887832642,
          -1.3319437503814697,
          -1.777327299118042,
          -1.838991641998291,
          -2.2524917125701904,
          -2.3350517749786377,
          -2.7325503826141357,
          -2.813836097717285,
          -3.256711483001709,
          -3.267071485519409,
          -3.5812718868255615,
          -3.636232614517212,
          -3.7834365367889404,
          -3.812669515609741,
          -3.795910596847534,
          -3.722635507583618,
          -3.563218116760254,
          -3.389591693878174,
          -3.1268293857574463,
          -2.86153507232666,
          -2.476726531982422,
          -2.216601610183716,
          -1.7516582012176514,
          -1.5586591958999634,
          -1.1478043794631958,
          -0.9766724109649658
         ]
        },
        {
         "type": "scatter",
         "x": [
          0,
          6.663675594609231e-05,
          0.0007330043008551002,
          0.007396679371595383,
          0.07403343170881271,
          0.10000000149011612,
          0.16490338742733002,
          0.20000000298023224,
          0.27259746193885803,
          0.30000001192092896,
          0.367277055978775,
          0.4000000059604645,
          0.46957117319107056,
          0.5,
          0.5206052660942078,
          0.6000000238418579,
          0.6679756045341492,
          0.699999988079071,
          0.7661079168319702,
          0.800000011920929,
          0.8530804514884949,
          0.8999999761581421,
          0.9642595052719116,
          1,
          1.0642706155776978,
          1.100000023841858,
          1.1621886491775513,
          1.2000000476837158,
          1.2610357999801636,
          1.2999999523162842,
          1.3178333044052124,
          1.399999976158142,
          1.4493794441223145,
          1.5,
          1.5723127126693726,
          1.600000023841858,
          1.6564792394638062,
          1.7000000476837158,
          1.7546751499176025,
          1.7999999523162842,
          1.8529491424560547,
          1.899999976158142,
          1.9538666009902954,
          2,
          2.066331148147583,
          2.0999999046325684,
          2.132289409637451,
          2.200000047683716,
          2.215104341506958,
          2.298588991165161,
          2.299999952316284,
          2.3535280227661133,
          2.4000000953674316,
          2.4569597244262695,
          2.5,
          2.554518461227417,
          2.5999999046325684,
          2.6516575813293457,
          2.700000047683716,
          2.7539920806884766,
          2.799999952316284,
          2.862983465194702,
          2.9000000953674316,
          2.9771347045898438,
          3,
          3.0882070064544678,
          3.0999999046325684,
          3.191614866256714,
          3.200000047683716,
          3.2820725440979004,
          3.299999952316284,
          3.365889072418213,
          3.4000000953674316,
          3.452340841293335,
          3.5,
          3.5659945011138916,
          3.5999999046325684,
          3.679811477661133,
          3.700000047683716,
          3.788001298904419,
          3.799999952316284,
          3.883849859237671,
          3.9000000953674316,
          3.983410596847534,
          4,
          4.097614288330078,
          4.099999904632568,
          4.181950092315674,
          4.199999809265137,
          4.265969753265381,
          4.300000190734863,
          4.361334800720215,
          4.400000095367432,
          4.459506511688232,
          4.5,
          4.555794715881348,
          4.599999904632568,
          4.661911487579346,
          4.699999809265137,
          4.7702178955078125,
          4.800000190734863,
          4.868587970733643,
          4.900000095367432
         ],
         "y": [
          0,
          0.001346616423688829,
          0.014818652532994747,
          0.1501234620809555,
          1.557485580444336,
          2.127995252609253,
          2.8085198402404785,
          3.1785213947296143,
          2.947859525680542,
          2.8796956539154053,
          2.491915464401245,
          2.3250691890716553,
          1.9524600505828857,
          1.7949813604354858,
          1.6773908138275146,
          1.2150882482528687,
          0.7342669367790222,
          0.5075215101242065,
          0.008831273764371872,
          -0.2524093687534332,
          -0.5941485166549683,
          -0.9316995739936829,
          -1.1595278978347778,
          -1.3201098442077637,
          -1.3029468059539795,
          -1.338974118232727,
          -1.05344820022583,
          -0.9389919638633728,
          -0.14685028791427612,
          0.300211101770401,
          0.8923953175544739,
          3.2677531242370605,
          4.576273441314697,
          5.603662967681885,
          5.379132270812988,
          5.31071138381958,
          4.346475601196289,
          3.8348920345306396,
          3.7531075477600098,
          4.052123546600342,
          4.986248970031738,
          6.24668025970459,
          7.468418598175049,
          8.820440292358398,
          10.48631477355957,
          11.136347770690918,
          11.219565391540527,
          9.552642822265625,
          8.977947235107422,
          5.837230205535889,
          5.7891764640808105,
          4.182267665863037,
          3.0050458908081055,
          2.0623905658721924,
          1.496803641319275,
          1.0677629709243774,
          0.8293314576148987,
          0.7070784568786621,
          0.68362957239151,
          0.7569592595100403,
          0.8739475607872009,
          1.0946089029312134,
          1.247261643409729,
          1.585526704788208,
          1.6907340288162231,
          2.0763893127441406,
          2.1274263858795166,
          2.4813175201416016,
          2.5119097232818604,
          2.764765501022339,
          2.813981056213379,
          2.9543731212615967,
          3.013247489929199,
          3.0721938610076904,
          3.108346939086914,
          3.122163772583008,
          3.1239709854125977,
          3.113554000854492,
          3.1150612831115723,
          3.165463447570801,
          3.1803219318389893,
          3.2658166885375977,
          3.2974557876586914,
          3.4088337421417236,
          3.443192481994629,
          3.5829031467437744,
          3.585777997970581,
          3.5921218395233154,
          3.560723304748535,
          3.323967218399048,
          3.095294237136841,
          2.5490875244140625,
          2.0874147415161133,
          1.360940933227539,
          0.7860755920410156,
          0.07377985864877701,
          -0.5236461162567139,
          -1.2311445474624634,
          -1.649290680885315,
          -2.2684707641601562,
          -2.4912586212158203,
          -2.8862712383270264,
          -3.0182621479034424
         ]
        }
       ],
       "layout": {
        "template": {
         "data": {
          "bar": [
           {
            "error_x": {
             "color": "#2a3f5f"
            },
            "error_y": {
             "color": "#2a3f5f"
            },
            "marker": {
             "line": {
              "color": "#E5ECF6",
              "width": 0.5
             }
            },
            "type": "bar"
           }
          ],
          "barpolar": [
           {
            "marker": {
             "line": {
              "color": "#E5ECF6",
              "width": 0.5
             }
            },
            "type": "barpolar"
           }
          ],
          "carpet": [
           {
            "aaxis": {
             "endlinecolor": "#2a3f5f",
             "gridcolor": "white",
             "linecolor": "white",
             "minorgridcolor": "white",
             "startlinecolor": "#2a3f5f"
            },
            "baxis": {
             "endlinecolor": "#2a3f5f",
             "gridcolor": "white",
             "linecolor": "white",
             "minorgridcolor": "white",
             "startlinecolor": "#2a3f5f"
            },
            "type": "carpet"
           }
          ],
          "choropleth": [
           {
            "colorbar": {
             "outlinewidth": 0,
             "ticks": ""
            },
            "type": "choropleth"
           }
          ],
          "contour": [
           {
            "colorbar": {
             "outlinewidth": 0,
             "ticks": ""
            },
            "colorscale": [
             [
              0,
              "#0d0887"
             ],
             [
              0.1111111111111111,
              "#46039f"
             ],
             [
              0.2222222222222222,
              "#7201a8"
             ],
             [
              0.3333333333333333,
              "#9c179e"
             ],
             [
              0.4444444444444444,
              "#bd3786"
             ],
             [
              0.5555555555555556,
              "#d8576b"
             ],
             [
              0.6666666666666666,
              "#ed7953"
             ],
             [
              0.7777777777777778,
              "#fb9f3a"
             ],
             [
              0.8888888888888888,
              "#fdca26"
             ],
             [
              1,
              "#f0f921"
             ]
            ],
            "type": "contour"
           }
          ],
          "contourcarpet": [
           {
            "colorbar": {
             "outlinewidth": 0,
             "ticks": ""
            },
            "type": "contourcarpet"
           }
          ],
          "heatmap": [
           {
            "colorbar": {
             "outlinewidth": 0,
             "ticks": ""
            },
            "colorscale": [
             [
              0,
              "#0d0887"
             ],
             [
              0.1111111111111111,
              "#46039f"
             ],
             [
              0.2222222222222222,
              "#7201a8"
             ],
             [
              0.3333333333333333,
              "#9c179e"
             ],
             [
              0.4444444444444444,
              "#bd3786"
             ],
             [
              0.5555555555555556,
              "#d8576b"
             ],
             [
              0.6666666666666666,
              "#ed7953"
             ],
             [
              0.7777777777777778,
              "#fb9f3a"
             ],
             [
              0.8888888888888888,
              "#fdca26"
             ],
             [
              1,
              "#f0f921"
             ]
            ],
            "type": "heatmap"
           }
          ],
          "heatmapgl": [
           {
            "colorbar": {
             "outlinewidth": 0,
             "ticks": ""
            },
            "colorscale": [
             [
              0,
              "#0d0887"
             ],
             [
              0.1111111111111111,
              "#46039f"
             ],
             [
              0.2222222222222222,
              "#7201a8"
             ],
             [
              0.3333333333333333,
              "#9c179e"
             ],
             [
              0.4444444444444444,
              "#bd3786"
             ],
             [
              0.5555555555555556,
              "#d8576b"
             ],
             [
              0.6666666666666666,
              "#ed7953"
             ],
             [
              0.7777777777777778,
              "#fb9f3a"
             ],
             [
              0.8888888888888888,
              "#fdca26"
             ],
             [
              1,
              "#f0f921"
             ]
            ],
            "type": "heatmapgl"
           }
          ],
          "histogram": [
           {
            "marker": {
             "colorbar": {
              "outlinewidth": 0,
              "ticks": ""
             }
            },
            "type": "histogram"
           }
          ],
          "histogram2d": [
           {
            "colorbar": {
             "outlinewidth": 0,
             "ticks": ""
            },
            "colorscale": [
             [
              0,
              "#0d0887"
             ],
             [
              0.1111111111111111,
              "#46039f"
             ],
             [
              0.2222222222222222,
              "#7201a8"
             ],
             [
              0.3333333333333333,
              "#9c179e"
             ],
             [
              0.4444444444444444,
              "#bd3786"
             ],
             [
              0.5555555555555556,
              "#d8576b"
             ],
             [
              0.6666666666666666,
              "#ed7953"
             ],
             [
              0.7777777777777778,
              "#fb9f3a"
             ],
             [
              0.8888888888888888,
              "#fdca26"
             ],
             [
              1,
              "#f0f921"
             ]
            ],
            "type": "histogram2d"
           }
          ],
          "histogram2dcontour": [
           {
            "colorbar": {
             "outlinewidth": 0,
             "ticks": ""
            },
            "colorscale": [
             [
              0,
              "#0d0887"
             ],
             [
              0.1111111111111111,
              "#46039f"
             ],
             [
              0.2222222222222222,
              "#7201a8"
             ],
             [
              0.3333333333333333,
              "#9c179e"
             ],
             [
              0.4444444444444444,
              "#bd3786"
             ],
             [
              0.5555555555555556,
              "#d8576b"
             ],
             [
              0.6666666666666666,
              "#ed7953"
             ],
             [
              0.7777777777777778,
              "#fb9f3a"
             ],
             [
              0.8888888888888888,
              "#fdca26"
             ],
             [
              1,
              "#f0f921"
             ]
            ],
            "type": "histogram2dcontour"
           }
          ],
          "mesh3d": [
           {
            "colorbar": {
             "outlinewidth": 0,
             "ticks": ""
            },
            "type": "mesh3d"
           }
          ],
          "parcoords": [
           {
            "line": {
             "colorbar": {
              "outlinewidth": 0,
              "ticks": ""
             }
            },
            "type": "parcoords"
           }
          ],
          "pie": [
           {
            "automargin": true,
            "type": "pie"
           }
          ],
          "scatter": [
           {
            "marker": {
             "colorbar": {
              "outlinewidth": 0,
              "ticks": ""
             }
            },
            "type": "scatter"
           }
          ],
          "scatter3d": [
           {
            "line": {
             "colorbar": {
              "outlinewidth": 0,
              "ticks": ""
             }
            },
            "marker": {
             "colorbar": {
              "outlinewidth": 0,
              "ticks": ""
             }
            },
            "type": "scatter3d"
           }
          ],
          "scattercarpet": [
           {
            "marker": {
             "colorbar": {
              "outlinewidth": 0,
              "ticks": ""
             }
            },
            "type": "scattercarpet"
           }
          ],
          "scattergeo": [
           {
            "marker": {
             "colorbar": {
              "outlinewidth": 0,
              "ticks": ""
             }
            },
            "type": "scattergeo"
           }
          ],
          "scattergl": [
           {
            "marker": {
             "colorbar": {
              "outlinewidth": 0,
              "ticks": ""
             }
            },
            "type": "scattergl"
           }
          ],
          "scattermapbox": [
           {
            "marker": {
             "colorbar": {
              "outlinewidth": 0,
              "ticks": ""
             }
            },
            "type": "scattermapbox"
           }
          ],
          "scatterpolar": [
           {
            "marker": {
             "colorbar": {
              "outlinewidth": 0,
              "ticks": ""
             }
            },
            "type": "scatterpolar"
           }
          ],
          "scatterpolargl": [
           {
            "marker": {
             "colorbar": {
              "outlinewidth": 0,
              "ticks": ""
             }
            },
            "type": "scatterpolargl"
           }
          ],
          "scatterternary": [
           {
            "marker": {
             "colorbar": {
              "outlinewidth": 0,
              "ticks": ""
             }
            },
            "type": "scatterternary"
           }
          ],
          "surface": [
           {
            "colorbar": {
             "outlinewidth": 0,
             "ticks": ""
            },
            "colorscale": [
             [
              0,
              "#0d0887"
             ],
             [
              0.1111111111111111,
              "#46039f"
             ],
             [
              0.2222222222222222,
              "#7201a8"
             ],
             [
              0.3333333333333333,
              "#9c179e"
             ],
             [
              0.4444444444444444,
              "#bd3786"
             ],
             [
              0.5555555555555556,
              "#d8576b"
             ],
             [
              0.6666666666666666,
              "#ed7953"
             ],
             [
              0.7777777777777778,
              "#fb9f3a"
             ],
             [
              0.8888888888888888,
              "#fdca26"
             ],
             [
              1,
              "#f0f921"
             ]
            ],
            "type": "surface"
           }
          ],
          "table": [
           {
            "cells": {
             "fill": {
              "color": "#EBF0F8"
             },
             "line": {
              "color": "white"
             }
            },
            "header": {
             "fill": {
              "color": "#C8D4E3"
             },
             "line": {
              "color": "white"
             }
            },
            "type": "table"
           }
          ]
         },
         "layout": {
          "annotationdefaults": {
           "arrowcolor": "#2a3f5f",
           "arrowhead": 0,
           "arrowwidth": 1
          },
          "coloraxis": {
           "colorbar": {
            "outlinewidth": 0,
            "ticks": ""
           }
          },
          "colorscale": {
           "diverging": [
            [
             0,
             "#8e0152"
            ],
            [
             0.1,
             "#c51b7d"
            ],
            [
             0.2,
             "#de77ae"
            ],
            [
             0.3,
             "#f1b6da"
            ],
            [
             0.4,
             "#fde0ef"
            ],
            [
             0.5,
             "#f7f7f7"
            ],
            [
             0.6,
             "#e6f5d0"
            ],
            [
             0.7,
             "#b8e186"
            ],
            [
             0.8,
             "#7fbc41"
            ],
            [
             0.9,
             "#4d9221"
            ],
            [
             1,
             "#276419"
            ]
           ],
           "sequential": [
            [
             0,
             "#0d0887"
            ],
            [
             0.1111111111111111,
             "#46039f"
            ],
            [
             0.2222222222222222,
             "#7201a8"
            ],
            [
             0.3333333333333333,
             "#9c179e"
            ],
            [
             0.4444444444444444,
             "#bd3786"
            ],
            [
             0.5555555555555556,
             "#d8576b"
            ],
            [
             0.6666666666666666,
             "#ed7953"
            ],
            [
             0.7777777777777778,
             "#fb9f3a"
            ],
            [
             0.8888888888888888,
             "#fdca26"
            ],
            [
             1,
             "#f0f921"
            ]
           ],
           "sequentialminus": [
            [
             0,
             "#0d0887"
            ],
            [
             0.1111111111111111,
             "#46039f"
            ],
            [
             0.2222222222222222,
             "#7201a8"
            ],
            [
             0.3333333333333333,
             "#9c179e"
            ],
            [
             0.4444444444444444,
             "#bd3786"
            ],
            [
             0.5555555555555556,
             "#d8576b"
            ],
            [
             0.6666666666666666,
             "#ed7953"
            ],
            [
             0.7777777777777778,
             "#fb9f3a"
            ],
            [
             0.8888888888888888,
             "#fdca26"
            ],
            [
             1,
             "#f0f921"
            ]
           ]
          },
          "colorway": [
           "#636efa",
           "#EF553B",
           "#00cc96",
           "#ab63fa",
           "#FFA15A",
           "#19d3f3",
           "#FF6692",
           "#B6E880",
           "#FF97FF",
           "#FECB52"
          ],
          "font": {
           "color": "#2a3f5f"
          },
          "geo": {
           "bgcolor": "white",
           "lakecolor": "white",
           "landcolor": "#E5ECF6",
           "showlakes": true,
           "showland": true,
           "subunitcolor": "white"
          },
          "hoverlabel": {
           "align": "left"
          },
          "hovermode": "closest",
          "mapbox": {
           "style": "light"
          },
          "paper_bgcolor": "white",
          "plot_bgcolor": "#E5ECF6",
          "polar": {
           "angularaxis": {
            "gridcolor": "white",
            "linecolor": "white",
            "ticks": ""
           },
           "bgcolor": "#E5ECF6",
           "radialaxis": {
            "gridcolor": "white",
            "linecolor": "white",
            "ticks": ""
           }
          },
          "scene": {
           "xaxis": {
            "backgroundcolor": "#E5ECF6",
            "gridcolor": "white",
            "gridwidth": 2,
            "linecolor": "white",
            "showbackground": true,
            "ticks": "",
            "zerolinecolor": "white"
           },
           "yaxis": {
            "backgroundcolor": "#E5ECF6",
            "gridcolor": "white",
            "gridwidth": 2,
            "linecolor": "white",
            "showbackground": true,
            "ticks": "",
            "zerolinecolor": "white"
           },
           "zaxis": {
            "backgroundcolor": "#E5ECF6",
            "gridcolor": "white",
            "gridwidth": 2,
            "linecolor": "white",
            "showbackground": true,
            "ticks": "",
            "zerolinecolor": "white"
           }
          },
          "shapedefaults": {
           "line": {
            "color": "#2a3f5f"
           }
          },
          "ternary": {
           "aaxis": {
            "gridcolor": "white",
            "linecolor": "white",
            "ticks": ""
           },
           "baxis": {
            "gridcolor": "white",
            "linecolor": "white",
            "ticks": ""
           },
           "bgcolor": "#E5ECF6",
           "caxis": {
            "gridcolor": "white",
            "linecolor": "white",
            "ticks": ""
           }
          },
          "title": {
           "x": 0.05
          },
          "xaxis": {
           "automargin": true,
           "gridcolor": "white",
           "linecolor": "white",
           "ticks": "",
           "title": {
            "standoff": 15
           },
           "zerolinecolor": "white",
           "zerolinewidth": 2
          },
          "yaxis": {
           "automargin": true,
           "gridcolor": "white",
           "linecolor": "white",
           "ticks": "",
           "title": {
            "standoff": 15
           },
           "zerolinecolor": "white",
           "zerolinewidth": 2
          }
         }
        },
        "title": {
         "text": "Policy baseline"
        }
       }
      },
      "text/html": [
       "<div>\n",
       "        \n",
       "        \n",
       "            <div id=\"dcbc3164-c37d-4c8f-92f2-21c3e6de24d0\" class=\"plotly-graph-div\" style=\"height:525px; width:100%;\"></div>\n",
       "            <script type=\"text/javascript\">\n",
       "                require([\"plotly\"], function(Plotly) {\n",
       "                    window.PLOTLYENV=window.PLOTLYENV || {};\n",
       "                    \n",
       "                if (document.getElementById(\"dcbc3164-c37d-4c8f-92f2-21c3e6de24d0\")) {\n",
       "                    Plotly.newPlot(\n",
       "                        'dcbc3164-c37d-4c8f-92f2-21c3e6de24d0',\n",
       "                        [{\"type\": \"scatter\", \"x\": [0.0, 6.663675594609231e-05, 0.0007330043008551002, 0.007396679371595383, 0.07403343170881271, 0.10000000149011612, 0.16490338742733002, 0.20000000298023224, 0.27259746193885803, 0.30000001192092896, 0.367277055978775, 0.4000000059604645, 0.46957117319107056, 0.5, 0.5206052660942078, 0.6000000238418579, 0.6679756045341492, 0.699999988079071, 0.7661079168319702, 0.800000011920929, 0.8530804514884949, 0.8999999761581421, 0.9642595052719116, 1.0, 1.0642706155776978, 1.100000023841858, 1.1621886491775513, 1.2000000476837158, 1.2610357999801636, 1.2999999523162842, 1.3178333044052124, 1.399999976158142, 1.4493794441223145, 1.5, 1.5723127126693726, 1.600000023841858, 1.6564792394638062, 1.7000000476837158, 1.7546751499176025, 1.7999999523162842, 1.8529491424560547, 1.899999976158142, 1.9538666009902954, 2.0, 2.066331148147583, 2.0999999046325684, 2.132289409637451, 2.200000047683716, 2.215104341506958, 2.298588991165161, 2.299999952316284, 2.3535280227661133, 2.4000000953674316, 2.4569597244262695, 2.5, 2.554518461227417, 2.5999999046325684, 2.6516575813293457, 2.700000047683716, 2.7539920806884766, 2.799999952316284, 2.862983465194702, 2.9000000953674316, 2.9771347045898438, 3.0, 3.0882070064544678, 3.0999999046325684, 3.191614866256714, 3.200000047683716, 3.2820725440979004, 3.299999952316284, 3.365889072418213, 3.4000000953674316, 3.452340841293335, 3.5, 3.5659945011138916, 3.5999999046325684, 3.679811477661133, 3.700000047683716, 3.788001298904419, 3.799999952316284, 3.883849859237671, 3.9000000953674316, 3.983410596847534, 4.0, 4.097614288330078, 4.099999904632568, 4.181950092315674, 4.199999809265137, 4.265969753265381, 4.300000190734863, 4.361334800720215, 4.400000095367432, 4.459506511688232, 4.5, 4.555794715881348, 4.599999904632568, 4.661911487579346, 4.699999809265137, 4.7702178955078125, 4.800000190734863, 4.868587970733643, 4.900000095367432], \"y\": [3.2415926456451416, 3.2415926456451416, 3.241590976715088, 3.2414169311523438, 3.2234907150268555, 3.2082784175872803, 3.158818006515503, 3.1275365352630615, 3.066589117050171, 3.046945095062256, 3.008821487426758, 2.995706081390381, 2.979224443435669, 2.976801633834839, 2.9768149852752686, 2.9896817207336426, 3.0177371501922607, 3.036686420440674, 3.087827205657959, 3.1205480098724365, 3.18040132522583, 3.242363214492798, 3.339843988418579, 3.400214910507202, 3.5180389881134033, 3.5885865688323975, 3.7179744243621826, 3.800586223602295, 3.9360475540161133, 4.02291202545166, 4.062036991119385, 4.225935459136963, 4.3228759765625, 4.434314250946045, 4.651096820831299, 4.755552291870117, 5.004973888397217, 5.2237043380737305, 5.515797138214111, 5.760781288146973, 6.033932685852051, 6.247229099273682, 6.438607215881348, 6.546354293823242, 6.603639125823975, 6.5951433181762695, 6.573037147521973, 6.535022735595703, 6.535098075866699, 6.614060878753662, 6.616492748260498, 6.730621337890625, 6.857835292816162, 7.034878253936768, 7.175961017608643, 7.355759620666504, 7.5020623207092285, 7.660665035247803, 7.799688816070557, 7.942840099334717, 8.054278373718262, 8.191290855407715, 8.263772964477539, 8.39725112915039, 8.43259048461914, 8.552800178527832, 8.567042350769043, 8.663900375366211, 8.67153549194336, 8.734787940979004, 8.745621681213379, 8.775110244750977, 8.783387184143066, 8.78586483001709, 8.776634216308594, 8.744915008544922, 8.719839096069336, 8.637795448303223, 8.611932754516602, 8.475181579589844, 8.453486442565918, 8.282103538513184, 8.245060920715332, 8.033854484558105, 7.987849712371826, 7.691376209259033, 7.683594226837158, 7.402385711669922, 7.337238788604736, 7.091897964477539, 6.962550640106201, 6.72860050201416, 6.583089351654053, 6.365737438201904, 6.224792003631592, 6.042595863342285, 5.910069942474365, 5.744512557983398, 5.655092716217041, 5.515774250030518, 5.466494083404541, 5.373945713043213, 5.340608596801758]}, {\"type\": \"scatter\", \"x\": [0.0, 6.663675594609231e-05, 0.0007330043008551002, 0.007396679371595383, 0.07403343170881271, 0.10000000149011612, 0.16490338742733002, 0.20000000298023224, 0.27259746193885803, 0.30000001192092896, 0.367277055978775, 0.4000000059604645, 0.46957117319107056, 0.5, 0.5206052660942078, 0.6000000238418579, 0.6679756045341492, 0.699999988079071, 0.7661079168319702, 0.800000011920929, 0.8530804514884949, 0.8999999761581421, 0.9642595052719116, 1.0, 1.0642706155776978, 1.100000023841858, 1.1621886491775513, 1.2000000476837158, 1.2610357999801636, 1.2999999523162842, 1.3178333044052124, 1.399999976158142, 1.4493794441223145, 1.5, 1.5723127126693726, 1.600000023841858, 1.6564792394638062, 1.7000000476837158, 1.7546751499176025, 1.7999999523162842, 1.8529491424560547, 1.899999976158142, 1.9538666009902954, 2.0, 2.066331148147583, 2.0999999046325684, 2.132289409637451, 2.200000047683716, 2.215104341506958, 2.298588991165161, 2.299999952316284, 2.3535280227661133, 2.4000000953674316, 2.4569597244262695, 2.5, 2.554518461227417, 2.5999999046325684, 2.6516575813293457, 2.700000047683716, 2.7539920806884766, 2.799999952316284, 2.862983465194702, 2.9000000953674316, 2.9771347045898438, 3.0, 3.0882070064544678, 3.0999999046325684, 3.191614866256714, 3.200000047683716, 3.2820725440979004, 3.299999952316284, 3.365889072418213, 3.4000000953674316, 3.452340841293335, 3.5, 3.5659945011138916, 3.5999999046325684, 3.679811477661133, 3.700000047683716, 3.788001298904419, 3.799999952316284, 3.883849859237671, 3.9000000953674316, 3.983410596847534, 4.0, 4.097614288330078, 4.099999904632568, 4.181950092315674, 4.199999809265137, 4.265969753265381, 4.300000190734863, 4.361334800720215, 4.400000095367432, 4.459506511688232, 4.5, 4.555794715881348, 4.599999904632568, 4.661911487579346, 4.699999809265137, 4.7702178955078125, 4.800000190734863, 4.868587970733643, 4.900000095367432], \"y\": [0.5, 0.5000000596046448, 0.5000054240226746, 0.5005543828010559, 0.5569292902946472, 0.6047587394714355, 0.7648786306381226, 0.869947612285614, 1.0918405055999756, 1.171665072441101, 1.3519648313522339, 1.4307466745376587, 1.5793989896774292, 1.636410117149353, 1.6721850633621216, 1.7871531248092651, 1.8533742427825928, 1.8732631206512451, 1.8903753757476807, 1.8862642049789429, 1.8639639616012573, 1.8283140659332275, 1.7615083456039429, 1.7172763347625732, 1.6335115432739258, 1.5864192247390747, 1.5126127004623413, 1.4750964641571045, 1.4424382448196411, 1.4456013441085815, 1.4562643766403198, 1.631803035736084, 1.826762318611145, 2.085657835006714, 2.482956886291504, 2.630871295928955, 2.9021599292755127, 3.0793774127960205, 3.2847607135772705, 3.4603030681610107, 3.697399854660034, 3.960028886795044, 4.327544689178467, 4.702285289764404, 5.3429274559021, 5.70782470703125, 6.070293426513672, 6.785467624664307, 6.925449371337891, 7.540737628936768, 7.5489397048950195, 7.814557075500488, 7.980823040008545, 8.124048233032227, 8.200212478637695, 8.269364356994629, 8.31212329864502, 8.351332664489746, 8.384628295898438, 8.42316722869873, 8.460517883300781, 8.522208213806152, 8.565509796142578, 8.67454719543457, 8.71200180053711, 8.878150939941406, 8.902938842773438, 9.114294052124023, 9.135228157043457, 9.352052688598633, 9.40206241607666, 9.592287063598633, 9.69409465789795, 9.853447914123535, 10.000787734985352, 10.206480979919434, 10.312687873840332, 10.561490058898926, 10.624359130859375, 10.900040626525879, 10.938109397888184, 11.207494735717773, 11.260486602783203, 11.539420127868652, 11.596251487731934, 11.93920612335205, 11.947757720947266, 12.243212699890137, 12.307788848876953, 12.536286354064941, 12.645727157592773, 12.820060729980469, 12.909964561462402, 13.013368606567383, 13.05702018737793, 13.081313133239746, 13.071430206298828, 13.017027854919434, 12.962104797363281, 12.823860168457031, 12.752917289733887, 12.56765365600586, 12.474839210510254]}, {\"type\": \"scatter\", \"x\": [0.0, 6.663675594609231e-05, 0.0007330043008551002, 0.007396679371595383, 0.07403343170881271, 0.10000000149011612, 0.16490338742733002, 0.20000000298023224, 0.27259746193885803, 0.30000001192092896, 0.367277055978775, 0.4000000059604645, 0.46957117319107056, 0.5, 0.5206052660942078, 0.6000000238418579, 0.6679756045341492, 0.699999988079071, 0.7661079168319702, 0.800000011920929, 0.8530804514884949, 0.8999999761581421, 0.9642595052719116, 1.0, 1.0642706155776978, 1.100000023841858, 1.1621886491775513, 1.2000000476837158, 1.2610357999801636, 1.2999999523162842, 1.3178333044052124, 1.399999976158142, 1.4493794441223145, 1.5, 1.5723127126693726, 1.600000023841858, 1.6564792394638062, 1.7000000476837158, 1.7546751499176025, 1.7999999523162842, 1.8529491424560547, 1.899999976158142, 1.9538666009902954, 2.0, 2.066331148147583, 2.0999999046325684, 2.132289409637451, 2.200000047683716, 2.215104341506958, 2.298588991165161, 2.299999952316284, 2.3535280227661133, 2.4000000953674316, 2.4569597244262695, 2.5, 2.554518461227417, 2.5999999046325684, 2.6516575813293457, 2.700000047683716, 2.7539920806884766, 2.799999952316284, 2.862983465194702, 2.9000000953674316, 2.9771347045898438, 3.0, 3.0882070064544678, 3.0999999046325684, 3.191614866256714, 3.200000047683716, 3.2820725440979004, 3.299999952316284, 3.365889072418213, 3.4000000953674316, 3.452340841293335, 3.5, 3.5659945011138916, 3.5999999046325684, 3.679811477661133, 3.700000047683716, 3.788001298904419, 3.799999952316284, 3.883849859237671, 3.9000000953674316, 3.983410596847534, 4.0, 4.097614288330078, 4.099999904632568, 4.181950092315674, 4.199999809265137, 4.265969753265381, 4.300000190734863, 4.361334800720215, 4.400000095367432, 4.459506511688232, 4.5, 4.555794715881348, 4.599999904632568, 4.661911487579346, 4.699999809265137, 4.7702178955078125, 4.800000190734863, 4.868587970733643, 4.900000095367432], \"y\": [0.0, -0.00042682571802288294, -0.004697256721556187, -0.04761681333184242, -0.49553096294403076, -0.6764442324638367, -0.8469697833061218, -0.9346898198127747, -0.7489917278289795, -0.6852144598960876, -0.4530450999736786, -0.3493803143501282, -0.12671977281570435, -0.03274785354733467, 0.03397820144891739, 0.2905201315879822, 0.5343326330184937, 0.6492799520492554, 0.8993195295333862, 1.0323286056518555, 1.22649085521698, 1.4181638956069946, 1.6232671737670898, 1.7575676441192627, 1.918535828590393, 2.033590793609619, 2.1385302543640137, 2.235450506210327, 2.2162697315216064, 2.2488436698913574, 2.141871452331543, 1.936882495880127, 2.0344762802124023, 2.4134490489959717, 3.5706212520599365, 3.9669082164764404, 4.804584503173828, 5.215594291687012, 5.419955253601074, 5.350965976715088, 4.897355079650879, 4.100768566131592, 2.941484212875366, 1.7022976875305176, 0.07270431518554688, -0.5350430011749268, -0.7731113433837891, -0.13087815046310425, 0.1445898562669754, 1.7120625972747803, 1.7356173992156982, 2.490318536758423, 2.955165386199951, 3.227949619293213, 3.3122308254241943, 3.266140937805176, 3.158656597137451, 2.974863052368164, 2.7733662128448486, 2.5279152393341064, 2.316749334335327, 2.0366334915161133, 1.8808764219284058, 1.5860607624053955, 1.505555272102356, 1.2254303693771362, 1.1900116205215454, 0.9231884479522705, 0.8979431390762329, 0.6360430121421814, 0.5720906853675842, 0.316093385219574, 0.1674242615699768, -0.0761868953704834, -0.3130551874637604, -0.6497008204460144, -0.8251716494560242, -1.2301040887832642, -1.3319437503814697, -1.777327299118042, -1.838991641998291, -2.2524917125701904, -2.3350517749786377, -2.7325503826141357, -2.813836097717285, -3.256711483001709, -3.267071485519409, -3.5812718868255615, -3.636232614517212, -3.7834365367889404, -3.812669515609741, -3.795910596847534, -3.722635507583618, -3.563218116760254, -3.389591693878174, -3.1268293857574463, -2.86153507232666, -2.476726531982422, -2.216601610183716, -1.7516582012176514, -1.5586591958999634, -1.1478043794631958, -0.9766724109649658]}, {\"type\": \"scatter\", \"x\": [0.0, 6.663675594609231e-05, 0.0007330043008551002, 0.007396679371595383, 0.07403343170881271, 0.10000000149011612, 0.16490338742733002, 0.20000000298023224, 0.27259746193885803, 0.30000001192092896, 0.367277055978775, 0.4000000059604645, 0.46957117319107056, 0.5, 0.5206052660942078, 0.6000000238418579, 0.6679756045341492, 0.699999988079071, 0.7661079168319702, 0.800000011920929, 0.8530804514884949, 0.8999999761581421, 0.9642595052719116, 1.0, 1.0642706155776978, 1.100000023841858, 1.1621886491775513, 1.2000000476837158, 1.2610357999801636, 1.2999999523162842, 1.3178333044052124, 1.399999976158142, 1.4493794441223145, 1.5, 1.5723127126693726, 1.600000023841858, 1.6564792394638062, 1.7000000476837158, 1.7546751499176025, 1.7999999523162842, 1.8529491424560547, 1.899999976158142, 1.9538666009902954, 2.0, 2.066331148147583, 2.0999999046325684, 2.132289409637451, 2.200000047683716, 2.215104341506958, 2.298588991165161, 2.299999952316284, 2.3535280227661133, 2.4000000953674316, 2.4569597244262695, 2.5, 2.554518461227417, 2.5999999046325684, 2.6516575813293457, 2.700000047683716, 2.7539920806884766, 2.799999952316284, 2.862983465194702, 2.9000000953674316, 2.9771347045898438, 3.0, 3.0882070064544678, 3.0999999046325684, 3.191614866256714, 3.200000047683716, 3.2820725440979004, 3.299999952316284, 3.365889072418213, 3.4000000953674316, 3.452340841293335, 3.5, 3.5659945011138916, 3.5999999046325684, 3.679811477661133, 3.700000047683716, 3.788001298904419, 3.799999952316284, 3.883849859237671, 3.9000000953674316, 3.983410596847534, 4.0, 4.097614288330078, 4.099999904632568, 4.181950092315674, 4.199999809265137, 4.265969753265381, 4.300000190734863, 4.361334800720215, 4.400000095367432, 4.459506511688232, 4.5, 4.555794715881348, 4.599999904632568, 4.661911487579346, 4.699999809265137, 4.7702178955078125, 4.800000190734863, 4.868587970733643, 4.900000095367432], \"y\": [0.0, 0.001346616423688829, 0.014818652532994747, 0.1501234620809555, 1.557485580444336, 2.127995252609253, 2.8085198402404785, 3.1785213947296143, 2.947859525680542, 2.8796956539154053, 2.491915464401245, 2.3250691890716553, 1.9524600505828857, 1.7949813604354858, 1.6773908138275146, 1.2150882482528687, 0.7342669367790222, 0.5075215101242065, 0.008831273764371872, -0.2524093687534332, -0.5941485166549683, -0.9316995739936829, -1.1595278978347778, -1.3201098442077637, -1.3029468059539795, -1.338974118232727, -1.05344820022583, -0.9389919638633728, -0.14685028791427612, 0.300211101770401, 0.8923953175544739, 3.2677531242370605, 4.576273441314697, 5.603662967681885, 5.379132270812988, 5.31071138381958, 4.346475601196289, 3.8348920345306396, 3.7531075477600098, 4.052123546600342, 4.986248970031738, 6.24668025970459, 7.468418598175049, 8.820440292358398, 10.48631477355957, 11.136347770690918, 11.219565391540527, 9.552642822265625, 8.977947235107422, 5.837230205535889, 5.7891764640808105, 4.182267665863037, 3.0050458908081055, 2.0623905658721924, 1.496803641319275, 1.0677629709243774, 0.8293314576148987, 0.7070784568786621, 0.68362957239151, 0.7569592595100403, 0.8739475607872009, 1.0946089029312134, 1.247261643409729, 1.585526704788208, 1.6907340288162231, 2.0763893127441406, 2.1274263858795166, 2.4813175201416016, 2.5119097232818604, 2.764765501022339, 2.813981056213379, 2.9543731212615967, 3.013247489929199, 3.0721938610076904, 3.108346939086914, 3.122163772583008, 3.1239709854125977, 3.113554000854492, 3.1150612831115723, 3.165463447570801, 3.1803219318389893, 3.2658166885375977, 3.2974557876586914, 3.4088337421417236, 3.443192481994629, 3.5829031467437744, 3.585777997970581, 3.5921218395233154, 3.560723304748535, 3.323967218399048, 3.095294237136841, 2.5490875244140625, 2.0874147415161133, 1.360940933227539, 0.7860755920410156, 0.07377985864877701, -0.5236461162567139, -1.2311445474624634, -1.649290680885315, -2.2684707641601562, -2.4912586212158203, -2.8862712383270264, -3.0182621479034424]}],\n",
       "                        {\"template\": {\"data\": {\"bar\": [{\"error_x\": {\"color\": \"#2a3f5f\"}, \"error_y\": {\"color\": \"#2a3f5f\"}, \"marker\": {\"line\": {\"color\": \"#E5ECF6\", \"width\": 0.5}}, \"type\": \"bar\"}], \"barpolar\": [{\"marker\": {\"line\": {\"color\": \"#E5ECF6\", \"width\": 0.5}}, \"type\": \"barpolar\"}], \"carpet\": [{\"aaxis\": {\"endlinecolor\": \"#2a3f5f\", \"gridcolor\": \"white\", \"linecolor\": \"white\", \"minorgridcolor\": \"white\", \"startlinecolor\": \"#2a3f5f\"}, \"baxis\": {\"endlinecolor\": \"#2a3f5f\", \"gridcolor\": \"white\", \"linecolor\": \"white\", \"minorgridcolor\": \"white\", \"startlinecolor\": \"#2a3f5f\"}, \"type\": \"carpet\"}], \"choropleth\": [{\"colorbar\": {\"outlinewidth\": 0, \"ticks\": \"\"}, \"type\": \"choropleth\"}], \"contour\": [{\"colorbar\": {\"outlinewidth\": 0, \"ticks\": \"\"}, \"colorscale\": [[0.0, \"#0d0887\"], [0.1111111111111111, \"#46039f\"], [0.2222222222222222, \"#7201a8\"], [0.3333333333333333, \"#9c179e\"], [0.4444444444444444, \"#bd3786\"], [0.5555555555555556, \"#d8576b\"], [0.6666666666666666, \"#ed7953\"], [0.7777777777777778, \"#fb9f3a\"], [0.8888888888888888, \"#fdca26\"], [1.0, \"#f0f921\"]], \"type\": \"contour\"}], \"contourcarpet\": [{\"colorbar\": {\"outlinewidth\": 0, \"ticks\": \"\"}, \"type\": \"contourcarpet\"}], \"heatmap\": [{\"colorbar\": {\"outlinewidth\": 0, \"ticks\": \"\"}, \"colorscale\": [[0.0, \"#0d0887\"], [0.1111111111111111, \"#46039f\"], [0.2222222222222222, \"#7201a8\"], [0.3333333333333333, \"#9c179e\"], [0.4444444444444444, \"#bd3786\"], [0.5555555555555556, \"#d8576b\"], [0.6666666666666666, \"#ed7953\"], [0.7777777777777778, \"#fb9f3a\"], [0.8888888888888888, \"#fdca26\"], [1.0, \"#f0f921\"]], \"type\": \"heatmap\"}], \"heatmapgl\": [{\"colorbar\": {\"outlinewidth\": 0, \"ticks\": \"\"}, \"colorscale\": [[0.0, \"#0d0887\"], [0.1111111111111111, \"#46039f\"], [0.2222222222222222, \"#7201a8\"], [0.3333333333333333, \"#9c179e\"], [0.4444444444444444, \"#bd3786\"], [0.5555555555555556, \"#d8576b\"], [0.6666666666666666, \"#ed7953\"], [0.7777777777777778, \"#fb9f3a\"], [0.8888888888888888, \"#fdca26\"], [1.0, \"#f0f921\"]], \"type\": \"heatmapgl\"}], \"histogram\": [{\"marker\": {\"colorbar\": {\"outlinewidth\": 0, \"ticks\": \"\"}}, \"type\": \"histogram\"}], \"histogram2d\": [{\"colorbar\": {\"outlinewidth\": 0, \"ticks\": \"\"}, \"colorscale\": [[0.0, \"#0d0887\"], [0.1111111111111111, \"#46039f\"], [0.2222222222222222, \"#7201a8\"], [0.3333333333333333, \"#9c179e\"], [0.4444444444444444, \"#bd3786\"], [0.5555555555555556, \"#d8576b\"], [0.6666666666666666, \"#ed7953\"], [0.7777777777777778, \"#fb9f3a\"], [0.8888888888888888, \"#fdca26\"], [1.0, \"#f0f921\"]], \"type\": \"histogram2d\"}], \"histogram2dcontour\": [{\"colorbar\": {\"outlinewidth\": 0, \"ticks\": \"\"}, \"colorscale\": [[0.0, \"#0d0887\"], [0.1111111111111111, \"#46039f\"], [0.2222222222222222, \"#7201a8\"], [0.3333333333333333, \"#9c179e\"], [0.4444444444444444, \"#bd3786\"], [0.5555555555555556, \"#d8576b\"], [0.6666666666666666, \"#ed7953\"], [0.7777777777777778, \"#fb9f3a\"], [0.8888888888888888, \"#fdca26\"], [1.0, \"#f0f921\"]], \"type\": \"histogram2dcontour\"}], \"mesh3d\": [{\"colorbar\": {\"outlinewidth\": 0, \"ticks\": \"\"}, \"type\": \"mesh3d\"}], \"parcoords\": [{\"line\": {\"colorbar\": {\"outlinewidth\": 0, \"ticks\": \"\"}}, \"type\": \"parcoords\"}], \"pie\": [{\"automargin\": true, \"type\": \"pie\"}], \"scatter\": [{\"marker\": {\"colorbar\": {\"outlinewidth\": 0, \"ticks\": \"\"}}, \"type\": \"scatter\"}], \"scatter3d\": [{\"line\": {\"colorbar\": {\"outlinewidth\": 0, \"ticks\": \"\"}}, \"marker\": {\"colorbar\": {\"outlinewidth\": 0, \"ticks\": \"\"}}, \"type\": \"scatter3d\"}], \"scattercarpet\": [{\"marker\": {\"colorbar\": {\"outlinewidth\": 0, \"ticks\": \"\"}}, \"type\": \"scattercarpet\"}], \"scattergeo\": [{\"marker\": {\"colorbar\": {\"outlinewidth\": 0, \"ticks\": \"\"}}, \"type\": \"scattergeo\"}], \"scattergl\": [{\"marker\": {\"colorbar\": {\"outlinewidth\": 0, \"ticks\": \"\"}}, \"type\": \"scattergl\"}], \"scattermapbox\": [{\"marker\": {\"colorbar\": {\"outlinewidth\": 0, \"ticks\": \"\"}}, \"type\": \"scattermapbox\"}], \"scatterpolar\": [{\"marker\": {\"colorbar\": {\"outlinewidth\": 0, \"ticks\": \"\"}}, \"type\": \"scatterpolar\"}], \"scatterpolargl\": [{\"marker\": {\"colorbar\": {\"outlinewidth\": 0, \"ticks\": \"\"}}, \"type\": \"scatterpolargl\"}], \"scatterternary\": [{\"marker\": {\"colorbar\": {\"outlinewidth\": 0, \"ticks\": \"\"}}, \"type\": \"scatterternary\"}], \"surface\": [{\"colorbar\": {\"outlinewidth\": 0, \"ticks\": \"\"}, \"colorscale\": [[0.0, \"#0d0887\"], [0.1111111111111111, \"#46039f\"], [0.2222222222222222, \"#7201a8\"], [0.3333333333333333, \"#9c179e\"], [0.4444444444444444, \"#bd3786\"], [0.5555555555555556, \"#d8576b\"], [0.6666666666666666, \"#ed7953\"], [0.7777777777777778, \"#fb9f3a\"], [0.8888888888888888, \"#fdca26\"], [1.0, \"#f0f921\"]], \"type\": \"surface\"}], \"table\": [{\"cells\": {\"fill\": {\"color\": \"#EBF0F8\"}, \"line\": {\"color\": \"white\"}}, \"header\": {\"fill\": {\"color\": \"#C8D4E3\"}, \"line\": {\"color\": \"white\"}}, \"type\": \"table\"}]}, \"layout\": {\"annotationdefaults\": {\"arrowcolor\": \"#2a3f5f\", \"arrowhead\": 0, \"arrowwidth\": 1}, \"coloraxis\": {\"colorbar\": {\"outlinewidth\": 0, \"ticks\": \"\"}}, \"colorscale\": {\"diverging\": [[0, \"#8e0152\"], [0.1, \"#c51b7d\"], [0.2, \"#de77ae\"], [0.3, \"#f1b6da\"], [0.4, \"#fde0ef\"], [0.5, \"#f7f7f7\"], [0.6, \"#e6f5d0\"], [0.7, \"#b8e186\"], [0.8, \"#7fbc41\"], [0.9, \"#4d9221\"], [1, \"#276419\"]], \"sequential\": [[0.0, \"#0d0887\"], [0.1111111111111111, \"#46039f\"], [0.2222222222222222, \"#7201a8\"], [0.3333333333333333, \"#9c179e\"], [0.4444444444444444, \"#bd3786\"], [0.5555555555555556, \"#d8576b\"], [0.6666666666666666, \"#ed7953\"], [0.7777777777777778, \"#fb9f3a\"], [0.8888888888888888, \"#fdca26\"], [1.0, \"#f0f921\"]], \"sequentialminus\": [[0.0, \"#0d0887\"], [0.1111111111111111, \"#46039f\"], [0.2222222222222222, \"#7201a8\"], [0.3333333333333333, \"#9c179e\"], [0.4444444444444444, \"#bd3786\"], [0.5555555555555556, \"#d8576b\"], [0.6666666666666666, \"#ed7953\"], [0.7777777777777778, \"#fb9f3a\"], [0.8888888888888888, \"#fdca26\"], [1.0, \"#f0f921\"]]}, \"colorway\": [\"#636efa\", \"#EF553B\", \"#00cc96\", \"#ab63fa\", \"#FFA15A\", \"#19d3f3\", \"#FF6692\", \"#B6E880\", \"#FF97FF\", \"#FECB52\"], \"font\": {\"color\": \"#2a3f5f\"}, \"geo\": {\"bgcolor\": \"white\", \"lakecolor\": \"white\", \"landcolor\": \"#E5ECF6\", \"showlakes\": true, \"showland\": true, \"subunitcolor\": \"white\"}, \"hoverlabel\": {\"align\": \"left\"}, \"hovermode\": \"closest\", \"mapbox\": {\"style\": \"light\"}, \"paper_bgcolor\": \"white\", \"plot_bgcolor\": \"#E5ECF6\", \"polar\": {\"angularaxis\": {\"gridcolor\": \"white\", \"linecolor\": \"white\", \"ticks\": \"\"}, \"bgcolor\": \"#E5ECF6\", \"radialaxis\": {\"gridcolor\": \"white\", \"linecolor\": \"white\", \"ticks\": \"\"}}, \"scene\": {\"xaxis\": {\"backgroundcolor\": \"#E5ECF6\", \"gridcolor\": \"white\", \"gridwidth\": 2, \"linecolor\": \"white\", \"showbackground\": true, \"ticks\": \"\", \"zerolinecolor\": \"white\"}, \"yaxis\": {\"backgroundcolor\": \"#E5ECF6\", \"gridcolor\": \"white\", \"gridwidth\": 2, \"linecolor\": \"white\", \"showbackground\": true, \"ticks\": \"\", \"zerolinecolor\": \"white\"}, \"zaxis\": {\"backgroundcolor\": \"#E5ECF6\", \"gridcolor\": \"white\", \"gridwidth\": 2, \"linecolor\": \"white\", \"showbackground\": true, \"ticks\": \"\", \"zerolinecolor\": \"white\"}}, \"shapedefaults\": {\"line\": {\"color\": \"#2a3f5f\"}}, \"ternary\": {\"aaxis\": {\"gridcolor\": \"white\", \"linecolor\": \"white\", \"ticks\": \"\"}, \"baxis\": {\"gridcolor\": \"white\", \"linecolor\": \"white\", \"ticks\": \"\"}, \"bgcolor\": \"#E5ECF6\", \"caxis\": {\"gridcolor\": \"white\", \"linecolor\": \"white\", \"ticks\": \"\"}}, \"title\": {\"x\": 0.05}, \"xaxis\": {\"automargin\": true, \"gridcolor\": \"white\", \"linecolor\": \"white\", \"ticks\": \"\", \"title\": {\"standoff\": 15}, \"zerolinecolor\": \"white\", \"zerolinewidth\": 2}, \"yaxis\": {\"automargin\": true, \"gridcolor\": \"white\", \"linecolor\": \"white\", \"ticks\": \"\", \"title\": {\"standoff\": 15}, \"zerolinecolor\": \"white\", \"zerolinewidth\": 2}}}, \"title\": {\"text\": \"Policy baseline\"}},\n",
       "                        {\"responsive\": true}\n",
       "                    ).then(function(){\n",
       "                            \n",
       "var gd = document.getElementById('dcbc3164-c37d-4c8f-92f2-21c3e6de24d0');\n",
       "var x = new MutationObserver(function (mutations, observer) {{\n",
       "        var display = window.getComputedStyle(gd).display;\n",
       "        if (!display || display === 'none') {{\n",
       "            console.log([gd, 'removed!']);\n",
       "            Plotly.purge(gd);\n",
       "            observer.disconnect();\n",
       "        }}\n",
       "}});\n",
       "\n",
       "// Listen for the removal of the full notebook cells\n",
       "var notebookContainer = gd.closest('#notebook-container');\n",
       "if (notebookContainer) {{\n",
       "    x.observe(notebookContainer, {childList: true});\n",
       "}}\n",
       "\n",
       "// Listen for the clearing of the current output cell\n",
       "var outputEl = gd.closest('.output');\n",
       "if (outputEl) {{\n",
       "    x.observe(outputEl, {childList: true});\n",
       "}}\n",
       "\n",
       "                        })\n",
       "                };\n",
       "                });\n",
       "            </script>\n",
       "        </div>"
      ]
     },
     "metadata": {},
     "output_type": "display_data"
    }
   ],
   "source": [
    "ctrl_policy = controllers.get_learned_policy_controller(policy_approx,\n",
    "                                                        opt['sim_dt']*opt['sim_horizon'],\n",
    "                                                        opt['sim_dt'])\n",
    "x_traj_sim, t_traj_sim = controllers.sim_ctrl(opt['sim_x0'], vf.u_dim[0], sys.dx,\n",
    "                                              ctrl_policy, opt['sim_dt'], opt['sim_horizon'],\n",
    "                                              integration_mode=opt['control_interp'])\n",
    "controllers.plot_sim(t_traj_sim, x_traj_sim, \"Policy baseline\").show()"
   ]
  },
  {
   "cell_type": "code",
   "execution_count": 87,
   "metadata": {},
   "outputs": [
    {
     "data": {
      "application/vnd.plotly.v1+json": {
       "config": {
        "plotlyServerURL": "https://plot.ly"
       },
       "data": [
        {
         "type": "scatter",
         "x": [
          0,
          0.0001542005775263533,
          0.0016962062800303102,
          0.017116263508796692,
          0.10000000149011612,
          0.13883624970912933,
          0.20000000298023224,
          0.2463463395833969,
          0.30000001192092896,
          0.371628999710083,
          0.4000000059604645,
          0.45167088508605957,
          0.5,
          0.5373215079307556,
          0.6000000238418579,
          0.6724066734313965,
          0.699999988079071,
          0.7777345180511475,
          0.800000011920929,
          0.8693327307701111,
          0.8999999761581421,
          0.9618130922317505,
          1,
          1.058499813079834,
          1.100000023841858,
          1.1567736864089966,
          1.2000000476837158,
          1.2513824701309204,
          1.2999999523162842,
          1.3470289707183838,
          1.399999976158142,
          1.4341611862182617,
          1.5,
          1.5524264574050903,
          1.600000023841858,
          1.6704556941986084,
          1.7000000476837158,
          1.767055630683899,
          1.7999999523162842,
          1.8607454299926758,
          1.899999976158142,
          1.9559880495071411,
          2,
          2.058717966079712,
          2.0999999046325684,
          2.127420663833618,
          2.200000047683716,
          2.261406660079956,
          2.299999952316284,
          2.3657140731811523,
          2.4000000953674316,
          2.4600908756256104,
          2.5,
          2.5755536556243896,
          2.5999999046325684,
          2.675877809524536,
          2.700000047683716,
          2.772023916244507,
          2.799999952316284,
          2.869962215423584,
          2.9000000953674316,
          2.9636988639831543,
          3,
          3.0530409812927246,
          3.0999999046325684,
          3.1508853435516357,
          3.200000047683716,
          3.2590630054473877,
          3.299999952316284,
          3.362701892852783,
          3.4000000953674316,
          3.440294027328491,
          3.5,
          3.5418665409088135,
          3.5999999046325684,
          3.6456024646759033,
          3.700000047683716,
          3.7316911220550537,
          3.799999952316284,
          3.8177366256713867,
          3.9000000953674316,
          3.944690227508545,
          4,
          4.053317546844482,
          4.099999904632568,
          4.153441429138184,
          4.199999809265137,
          4.238428592681885,
          4.300000190734863,
          4.3740410804748535,
          4.400000095367432,
          4.468662738800049,
          4.5,
          4.514257431030273,
          4.599999904632568,
          4.6564040184021,
          4.699999809265137,
          4.761488437652588,
          4.800000190734863,
          4.861352443695068,
          4.900000095367432
         ],
         "y": [
          3.2415926456451416,
          3.2415926456451416,
          3.2415895462036133,
          3.2412819862365723,
          3.2330379486083984,
          3.2259128093719482,
          3.211778163909912,
          3.200284481048584,
          3.186815023422241,
          3.1728954315185547,
          3.1689863204956055,
          3.1650490760803223,
          3.1652510166168213,
          3.168220043182373,
          3.1796345710754395,
          3.20377779006958,
          3.216387987136841,
          3.2630550861358643,
          3.2796950340270996,
          3.3415074348449707,
          3.3742127418518066,
          3.451016664505005,
          3.5067756175994873,
          3.606264352798462,
          3.688640832901001,
          3.8192551136016846,
          3.933971405029297,
          4.086958885192871,
          4.248227119445801,
          4.419856548309326,
          4.631471157073975,
          4.778109073638916,
          5.081416130065918,
          5.342239856719971,
          5.591834545135498,
          5.974477291107178,
          6.136286735534668,
          6.493714332580566,
          6.660582065582275,
          6.946321487426758,
          7.112387180328369,
          7.318274974822998,
          7.450979709625244,
          7.591983318328857,
          7.669360637664795,
          7.712358474731445,
          7.802080154418945,
          7.851283550262451,
          7.8701372146606445,
          7.881481647491455,
          7.877184867858887,
          7.852880954742432,
          7.824928283691406,
          7.745028018951416,
          7.7114410400390625,
          7.581984519958496,
          7.532773494720459,
          7.363371849060059,
          7.28874397277832,
          7.084062576293945,
          6.9893646240234375,
          6.778906345367432,
          6.65538215637207,
          6.474361419677734,
          6.317997455596924,
          6.158323764801025,
          6.01991605758667,
          5.882460117340088,
          5.810823917388916,
          5.741756916046143,
          5.723921298980713,
          5.723602294921875,
          5.753840446472168,
          5.785333156585693,
          5.819952011108398,
          5.835824966430664,
          5.843172550201416,
          5.84390115737915,
          5.846290588378906,
          5.846308708190918,
          5.832590579986572,
          5.818892002105713,
          5.798977851867676,
          5.78098726272583,
          5.769018173217773,
          5.76131534576416,
          5.760838508605957,
          5.765271186828613,
          5.782039642333984,
          5.817452430725098,
          5.833571434020996,
          5.884764671325684,
          5.911890983581543,
          5.924938201904297,
          6.011313438415527,
          6.073472023010254,
          6.122835159301758,
          6.191932201385498,
          6.233378887176514,
          6.293409824371338,
          6.325582981109619
         ]
        },
        {
         "type": "scatter",
         "x": [
          0,
          0.0001542005775263533,
          0.0016962062800303102,
          0.017116263508796692,
          0.10000000149011612,
          0.13883624970912933,
          0.20000000298023224,
          0.2463463395833969,
          0.30000001192092896,
          0.371628999710083,
          0.4000000059604645,
          0.45167088508605957,
          0.5,
          0.5373215079307556,
          0.6000000238418579,
          0.6724066734313965,
          0.699999988079071,
          0.7777345180511475,
          0.800000011920929,
          0.8693327307701111,
          0.8999999761581421,
          0.9618130922317505,
          1,
          1.058499813079834,
          1.100000023841858,
          1.1567736864089966,
          1.2000000476837158,
          1.2513824701309204,
          1.2999999523162842,
          1.3470289707183838,
          1.399999976158142,
          1.4341611862182617,
          1.5,
          1.5524264574050903,
          1.600000023841858,
          1.6704556941986084,
          1.7000000476837158,
          1.767055630683899,
          1.7999999523162842,
          1.8607454299926758,
          1.899999976158142,
          1.9559880495071411,
          2,
          2.058717966079712,
          2.0999999046325684,
          2.127420663833618,
          2.200000047683716,
          2.261406660079956,
          2.299999952316284,
          2.3657140731811523,
          2.4000000953674316,
          2.4600908756256104,
          2.5,
          2.5755536556243896,
          2.5999999046325684,
          2.675877809524536,
          2.700000047683716,
          2.772023916244507,
          2.799999952316284,
          2.869962215423584,
          2.9000000953674316,
          2.9636988639831543,
          3,
          3.0530409812927246,
          3.0999999046325684,
          3.1508853435516357,
          3.200000047683716,
          3.2590630054473877,
          3.299999952316284,
          3.362701892852783,
          3.4000000953674316,
          3.440294027328491,
          3.5,
          3.5418665409088135,
          3.5999999046325684,
          3.6456024646759033,
          3.700000047683716,
          3.7316911220550537,
          3.799999952316284,
          3.8177366256713867,
          3.9000000953674316,
          3.944690227508545,
          4,
          4.053317546844482,
          4.099999904632568,
          4.153441429138184,
          4.199999809265137,
          4.238428592681885,
          4.300000190734863,
          4.3740410804748535,
          4.400000095367432,
          4.468662738800049,
          4.5,
          4.514257431030273,
          4.599999904632568,
          4.6564040184021,
          4.699999809265137,
          4.761488437652588,
          4.800000190734863,
          4.861352443695068,
          4.900000095367432
         ],
         "y": [
          0.5,
          0.5000001192092896,
          0.5000127553939819,
          0.501268744468689,
          0.5378463864326477,
          0.5708782076835632,
          0.6402581930160522,
          0.7029798626899719,
          0.7851788997650146,
          0.900191605091095,
          0.9468849897384644,
          1.0318535566329956,
          1.1114652156829834,
          1.1729280948638916,
          1.2749072313308716,
          1.3910834789276123,
          1.4348760843276978,
          1.5572969913482666,
          1.5921591520309448,
          1.7015501260757446,
          1.7500560283660889,
          1.848984718322754,
          1.9097836017608643,
          2.000669479370117,
          2.061023473739624,
          2.1339964866638184,
          2.1787266731262207,
          2.2223167419433594,
          2.25537371635437,
          2.2783427238464355,
          2.2922897338867188,
          2.2928640842437744,
          2.272704601287842,
          2.2237937450408936,
          2.143803834915161,
          1.9595426321029663,
          1.8590155839920044,
          1.601182460784912,
          1.4672564268112183,
          1.2256706953048706,
          1.0841540098190308,
          0.9211446642875671,
          0.8375101089477539,
          0.7796116471290588,
          0.7690574526786804,
          0.77210533618927,
          0.7972872853279114,
          0.8373178243637085,
          0.8703974485397339,
          0.9393123984336853,
          0.9811230301856995,
          1.0634714365005493,
          1.124196171760559,
          1.2539070844650269,
          1.2999643087387085,
          1.4561353921890259,
          1.509427547454834,
          1.6739184856414795,
          1.7383908033370972,
          1.8884323835372925,
          1.9448329210281372,
          2.0396578311920166,
          2.0749518871307373,
          2.096843719482422,
          2.082270622253418,
          2.026207208633423,
          1.9281481504440308,
          1.7488727569580078,
          1.5825815200805664,
          1.2684271335601807,
          1.051064372062683,
          0.7918723225593567,
          0.36992448568344116,
          0.0704653263092041,
          -0.30159229040145874,
          -0.5535818338394165,
          -0.8148746490478516,
          -0.9535633325576782,
          -1.2457234859466553,
          -1.317900538444519,
          -1.5969820022583008,
          -1.7144838571548462,
          -1.8295410871505737,
          -1.91719651222229,
          -1.9813005924224854,
          -2.0433576107025146,
          -2.089625120162964,
          -2.1233134269714355,
          -2.170217275619507,
          -2.2134673595428467,
          -2.224677801132202,
          -2.2434144020080566,
          -2.246192693710327,
          -2.2461774349212646,
          -2.2277286052703857,
          -2.195904016494751,
          -2.158702850341797,
          -2.0846877098083496,
          -2.0237784385681152,
          -1.9002201557159424,
          -1.8036426305770874
         ]
        },
        {
         "type": "scatter",
         "x": [
          0,
          0.0001542005775263533,
          0.0016962062800303102,
          0.017116263508796692,
          0.10000000149011612,
          0.13883624970912933,
          0.20000000298023224,
          0.2463463395833969,
          0.30000001192092896,
          0.371628999710083,
          0.4000000059604645,
          0.45167088508605957,
          0.5,
          0.5373215079307556,
          0.6000000238418579,
          0.6724066734313965,
          0.699999988079071,
          0.7777345180511475,
          0.800000011920929,
          0.8693327307701111,
          0.8999999761581421,
          0.9618130922317505,
          1,
          1.058499813079834,
          1.100000023841858,
          1.1567736864089966,
          1.2000000476837158,
          1.2513824701309204,
          1.2999999523162842,
          1.3470289707183838,
          1.399999976158142,
          1.4341611862182617,
          1.5,
          1.5524264574050903,
          1.600000023841858,
          1.6704556941986084,
          1.7000000476837158,
          1.767055630683899,
          1.7999999523162842,
          1.8607454299926758,
          1.899999976158142,
          1.9559880495071411,
          2,
          2.058717966079712,
          2.0999999046325684,
          2.127420663833618,
          2.200000047683716,
          2.261406660079956,
          2.299999952316284,
          2.3657140731811523,
          2.4000000953674316,
          2.4600908756256104,
          2.5,
          2.5755536556243896,
          2.5999999046325684,
          2.675877809524536,
          2.700000047683716,
          2.772023916244507,
          2.799999952316284,
          2.869962215423584,
          2.9000000953674316,
          2.9636988639831543,
          3,
          3.0530409812927246,
          3.0999999046325684,
          3.1508853435516357,
          3.200000047683716,
          3.2590630054473877,
          3.299999952316284,
          3.362701892852783,
          3.4000000953674316,
          3.440294027328491,
          3.5,
          3.5418665409088135,
          3.5999999046325684,
          3.6456024646759033,
          3.700000047683716,
          3.7316911220550537,
          3.799999952316284,
          3.8177366256713867,
          3.9000000953674316,
          3.944690227508545,
          4,
          4.053317546844482,
          4.099999904632568,
          4.153441429138184,
          4.199999809265137,
          4.238428592681885,
          4.300000190734863,
          4.3740410804748535,
          4.400000095367432,
          4.468662738800049,
          4.5,
          4.514257431030273,
          4.599999904632568,
          4.6564040184021,
          4.699999809265137,
          4.761488437652588,
          4.800000190734863,
          4.861352443695068,
          4.900000095367432
         ],
         "y": [
          0,
          -0.00033998428261838853,
          -0.003720224602147937,
          -0.03556542843580246,
          -0.1466352641582489,
          -0.2130926251411438,
          -0.2319665402173996,
          -0.2571645677089691,
          -0.23618760704994202,
          -0.15357813239097595,
          -0.12201431393623352,
          -0.032805733382701874,
          0.03980407863855362,
          0.11860047280788422,
          0.24496912956237793,
          0.42239585518836975,
          0.4919251799583435,
          0.713100016117096,
          0.78208327293396,
          1.0090309381484985,
          1.1256431341171265,
          1.3703217506408691,
          1.5541199445724487,
          1.8590002059936523,
          2.1162869930267334,
          2.494516372680664,
          2.8177261352539062,
          3.1452906131744385,
          3.494050979614258,
          3.808931589126587,
          4.182260513305664,
          4.402499675750732,
          4.802175521850586,
          5.132853984832764,
          5.344629764556885,
          5.4789137840271,
          5.4686198234558105,
          5.164977550506592,
          4.959515571594238,
          4.428757667541504,
          4.02432107925415,
          3.3161163330078125,
          2.7084240913391113,
          2.0922200679779053,
          1.6570409536361694,
          1.4784973859786987,
          0.9909183979034424,
          0.6100431680679321,
          0.36655193567276,
          -0.02256276272237301,
          -0.22836372256278992,
          -0.5816329717636108,
          -0.819557785987854,
          -1.296359896659851,
          -1.4514925479888916,
          -1.9599220752716064,
          -2.1200361251831055,
          -2.580901861190796,
          -2.753377914428711,
          -3.0891964435577393,
          -3.2135262489318848,
          -3.377833843231201,
          -3.4206066131591797,
          -3.386617660522461,
          -3.2559609413146973,
          -2.997593641281128,
          -2.616119384765625,
          -2.0071933269500732,
          -1.478939414024353,
          -0.7133738994598389,
          -0.24398846924304962,
          0.2197132110595703,
          0.7504281997680664,
          0.7225452065467834,
          0.4326361417770386,
          0.255039781332016,
          0.016082607209682465,
          0.028518812730908394,
          0.04007668048143387,
          -0.036369260400533676,
          -0.2635675072669983,
          -0.3404974341392517,
          -0.36845239996910095,
          -0.29953715205192566,
          -0.20917074382305145,
          -0.07535175234079361,
          0.05687841400504112,
          0.17467686533927917,
          0.37103205919265747,
          0.584540843963623,
          0.6570153832435608,
          0.830142617225647,
          0.8999751806259155,
          0.9300490021705627,
          1.073007583618164,
          1.1245455741882324,
          1.1354812383651733,
          1.1015169620513916,
          1.0462474822998047,
          0.8975386619567871,
          0.7617572546005249
         ]
        },
        {
         "type": "scatter",
         "x": [
          0,
          0.0001542005775263533,
          0.0016962062800303102,
          0.017116263508796692,
          0.10000000149011612,
          0.13883624970912933,
          0.20000000298023224,
          0.2463463395833969,
          0.30000001192092896,
          0.371628999710083,
          0.4000000059604645,
          0.45167088508605957,
          0.5,
          0.5373215079307556,
          0.6000000238418579,
          0.6724066734313965,
          0.699999988079071,
          0.7777345180511475,
          0.800000011920929,
          0.8693327307701111,
          0.8999999761581421,
          0.9618130922317505,
          1,
          1.058499813079834,
          1.100000023841858,
          1.1567736864089966,
          1.2000000476837158,
          1.2513824701309204,
          1.2999999523162842,
          1.3470289707183838,
          1.399999976158142,
          1.4341611862182617,
          1.5,
          1.5524264574050903,
          1.600000023841858,
          1.6704556941986084,
          1.7000000476837158,
          1.767055630683899,
          1.7999999523162842,
          1.8607454299926758,
          1.899999976158142,
          1.9559880495071411,
          2,
          2.058717966079712,
          2.0999999046325684,
          2.127420663833618,
          2.200000047683716,
          2.261406660079956,
          2.299999952316284,
          2.3657140731811523,
          2.4000000953674316,
          2.4600908756256104,
          2.5,
          2.5755536556243896,
          2.5999999046325684,
          2.675877809524536,
          2.700000047683716,
          2.772023916244507,
          2.799999952316284,
          2.869962215423584,
          2.9000000953674316,
          2.9636988639831543,
          3,
          3.0530409812927246,
          3.0999999046325684,
          3.1508853435516357,
          3.200000047683716,
          3.2590630054473877,
          3.299999952316284,
          3.362701892852783,
          3.4000000953674316,
          3.440294027328491,
          3.5,
          3.5418665409088135,
          3.5999999046325684,
          3.6456024646759033,
          3.700000047683716,
          3.7316911220550537,
          3.799999952316284,
          3.8177366256713867,
          3.9000000953674316,
          3.944690227508545,
          4,
          4.053317546844482,
          4.099999904632568,
          4.153441429138184,
          4.199999809265137,
          4.238428592681885,
          4.300000190734863,
          4.3740410804748535,
          4.400000095367432,
          4.468662738800049,
          4.5,
          4.514257431030273,
          4.599999904632568,
          4.6564040184021,
          4.699999809265137,
          4.761488437652588,
          4.800000190734863,
          4.861352443695068,
          4.900000095367432
         ],
         "y": [
          0,
          0.001370535814203322,
          0.015023098327219486,
          0.1462889313697815,
          0.6921574473381042,
          0.9899632930755615,
          1.2337830066680908,
          1.4555869102478027,
          1.5866318941116333,
          1.631868839263916,
          1.6606626510620117,
          1.6376800537109375,
          1.6639537811279297,
          1.6336078643798828,
          1.6292003393173218,
          1.5889376401901245,
          1.5861247777938843,
          1.567216396331787,
          1.5643051862716675,
          1.5841546058654785,
          1.5773344039916992,
          1.606408953666687,
          1.5706993341445923,
          1.5127919912338257,
          1.3832476139068604,
          1.1624963283538818,
          0.8919708728790283,
          0.7827167510986328,
          0.5573920011520386,
          0.4018002152442932,
          0.10389335453510284,
          -0.07865054905414581,
          -0.5596438050270081,
          -1.317201852798462,
          -2.0511133670806885,
          -3.1746294498443604,
          -3.6274254322052,
          -4.018519878387451,
          -4.097319602966309,
          -3.7934725284576416,
          -3.38910174369812,
          -2.3813729286193848,
          -1.3955906629562378,
          -0.5632495284080505,
          0.05407616123557091,
          0.1705092489719391,
          0.5356144309043884,
          0.7745165228843689,
          0.941532552242279,
          1.1595327854156494,
          1.2798500061035156,
          1.4615179300308228,
          1.5809847116470337,
          1.8459482192993164,
          1.9209740161895752,
          2.178788661956787,
          2.2376017570495605,
          2.307980537414551,
          2.297287702560425,
          1.9684818983078003,
          1.782028079032898,
          1.1729215383529663,
          0.7638217210769653,
          0.04462713003158569,
          -0.6792166233062744,
          -1.5409231185913086,
          -2.4678401947021484,
          -3.6256237030029297,
          -4.5102152824401855,
          -5.520018577575684,
          -6.13459587097168,
          -6.718946933746338,
          -7.345965385437012,
          -6.903128147125244,
          -5.830756664276123,
          -5.204744815826416,
          -4.402286529541016,
          -4.347680568695068,
          -4.20516300201416,
          -3.9365346431732178,
          -2.9037153720855713,
          -2.368523359298706,
          -1.8091204166412354,
          -1.490419626235962,
          -1.263317584991455,
          -1.066214919090271,
          -0.92550128698349,
          -0.8298183679580688,
          -0.6971645951271057,
          -0.47162172198295593,
          -0.39187440276145935,
          -0.1490221619606018,
          -0.026895897462964058,
          0.029362143948674202,
          0.4156647324562073,
          0.7207387089729309,
          0.9912424683570862,
          1.428200602531433,
          1.7400845289230347,
          2.30206561088562,
          2.701957941055298
         ]
        }
       ],
       "layout": {
        "template": {
         "data": {
          "bar": [
           {
            "error_x": {
             "color": "#2a3f5f"
            },
            "error_y": {
             "color": "#2a3f5f"
            },
            "marker": {
             "line": {
              "color": "#E5ECF6",
              "width": 0.5
             }
            },
            "type": "bar"
           }
          ],
          "barpolar": [
           {
            "marker": {
             "line": {
              "color": "#E5ECF6",
              "width": 0.5
             }
            },
            "type": "barpolar"
           }
          ],
          "carpet": [
           {
            "aaxis": {
             "endlinecolor": "#2a3f5f",
             "gridcolor": "white",
             "linecolor": "white",
             "minorgridcolor": "white",
             "startlinecolor": "#2a3f5f"
            },
            "baxis": {
             "endlinecolor": "#2a3f5f",
             "gridcolor": "white",
             "linecolor": "white",
             "minorgridcolor": "white",
             "startlinecolor": "#2a3f5f"
            },
            "type": "carpet"
           }
          ],
          "choropleth": [
           {
            "colorbar": {
             "outlinewidth": 0,
             "ticks": ""
            },
            "type": "choropleth"
           }
          ],
          "contour": [
           {
            "colorbar": {
             "outlinewidth": 0,
             "ticks": ""
            },
            "colorscale": [
             [
              0,
              "#0d0887"
             ],
             [
              0.1111111111111111,
              "#46039f"
             ],
             [
              0.2222222222222222,
              "#7201a8"
             ],
             [
              0.3333333333333333,
              "#9c179e"
             ],
             [
              0.4444444444444444,
              "#bd3786"
             ],
             [
              0.5555555555555556,
              "#d8576b"
             ],
             [
              0.6666666666666666,
              "#ed7953"
             ],
             [
              0.7777777777777778,
              "#fb9f3a"
             ],
             [
              0.8888888888888888,
              "#fdca26"
             ],
             [
              1,
              "#f0f921"
             ]
            ],
            "type": "contour"
           }
          ],
          "contourcarpet": [
           {
            "colorbar": {
             "outlinewidth": 0,
             "ticks": ""
            },
            "type": "contourcarpet"
           }
          ],
          "heatmap": [
           {
            "colorbar": {
             "outlinewidth": 0,
             "ticks": ""
            },
            "colorscale": [
             [
              0,
              "#0d0887"
             ],
             [
              0.1111111111111111,
              "#46039f"
             ],
             [
              0.2222222222222222,
              "#7201a8"
             ],
             [
              0.3333333333333333,
              "#9c179e"
             ],
             [
              0.4444444444444444,
              "#bd3786"
             ],
             [
              0.5555555555555556,
              "#d8576b"
             ],
             [
              0.6666666666666666,
              "#ed7953"
             ],
             [
              0.7777777777777778,
              "#fb9f3a"
             ],
             [
              0.8888888888888888,
              "#fdca26"
             ],
             [
              1,
              "#f0f921"
             ]
            ],
            "type": "heatmap"
           }
          ],
          "heatmapgl": [
           {
            "colorbar": {
             "outlinewidth": 0,
             "ticks": ""
            },
            "colorscale": [
             [
              0,
              "#0d0887"
             ],
             [
              0.1111111111111111,
              "#46039f"
             ],
             [
              0.2222222222222222,
              "#7201a8"
             ],
             [
              0.3333333333333333,
              "#9c179e"
             ],
             [
              0.4444444444444444,
              "#bd3786"
             ],
             [
              0.5555555555555556,
              "#d8576b"
             ],
             [
              0.6666666666666666,
              "#ed7953"
             ],
             [
              0.7777777777777778,
              "#fb9f3a"
             ],
             [
              0.8888888888888888,
              "#fdca26"
             ],
             [
              1,
              "#f0f921"
             ]
            ],
            "type": "heatmapgl"
           }
          ],
          "histogram": [
           {
            "marker": {
             "colorbar": {
              "outlinewidth": 0,
              "ticks": ""
             }
            },
            "type": "histogram"
           }
          ],
          "histogram2d": [
           {
            "colorbar": {
             "outlinewidth": 0,
             "ticks": ""
            },
            "colorscale": [
             [
              0,
              "#0d0887"
             ],
             [
              0.1111111111111111,
              "#46039f"
             ],
             [
              0.2222222222222222,
              "#7201a8"
             ],
             [
              0.3333333333333333,
              "#9c179e"
             ],
             [
              0.4444444444444444,
              "#bd3786"
             ],
             [
              0.5555555555555556,
              "#d8576b"
             ],
             [
              0.6666666666666666,
              "#ed7953"
             ],
             [
              0.7777777777777778,
              "#fb9f3a"
             ],
             [
              0.8888888888888888,
              "#fdca26"
             ],
             [
              1,
              "#f0f921"
             ]
            ],
            "type": "histogram2d"
           }
          ],
          "histogram2dcontour": [
           {
            "colorbar": {
             "outlinewidth": 0,
             "ticks": ""
            },
            "colorscale": [
             [
              0,
              "#0d0887"
             ],
             [
              0.1111111111111111,
              "#46039f"
             ],
             [
              0.2222222222222222,
              "#7201a8"
             ],
             [
              0.3333333333333333,
              "#9c179e"
             ],
             [
              0.4444444444444444,
              "#bd3786"
             ],
             [
              0.5555555555555556,
              "#d8576b"
             ],
             [
              0.6666666666666666,
              "#ed7953"
             ],
             [
              0.7777777777777778,
              "#fb9f3a"
             ],
             [
              0.8888888888888888,
              "#fdca26"
             ],
             [
              1,
              "#f0f921"
             ]
            ],
            "type": "histogram2dcontour"
           }
          ],
          "mesh3d": [
           {
            "colorbar": {
             "outlinewidth": 0,
             "ticks": ""
            },
            "type": "mesh3d"
           }
          ],
          "parcoords": [
           {
            "line": {
             "colorbar": {
              "outlinewidth": 0,
              "ticks": ""
             }
            },
            "type": "parcoords"
           }
          ],
          "pie": [
           {
            "automargin": true,
            "type": "pie"
           }
          ],
          "scatter": [
           {
            "marker": {
             "colorbar": {
              "outlinewidth": 0,
              "ticks": ""
             }
            },
            "type": "scatter"
           }
          ],
          "scatter3d": [
           {
            "line": {
             "colorbar": {
              "outlinewidth": 0,
              "ticks": ""
             }
            },
            "marker": {
             "colorbar": {
              "outlinewidth": 0,
              "ticks": ""
             }
            },
            "type": "scatter3d"
           }
          ],
          "scattercarpet": [
           {
            "marker": {
             "colorbar": {
              "outlinewidth": 0,
              "ticks": ""
             }
            },
            "type": "scattercarpet"
           }
          ],
          "scattergeo": [
           {
            "marker": {
             "colorbar": {
              "outlinewidth": 0,
              "ticks": ""
             }
            },
            "type": "scattergeo"
           }
          ],
          "scattergl": [
           {
            "marker": {
             "colorbar": {
              "outlinewidth": 0,
              "ticks": ""
             }
            },
            "type": "scattergl"
           }
          ],
          "scattermapbox": [
           {
            "marker": {
             "colorbar": {
              "outlinewidth": 0,
              "ticks": ""
             }
            },
            "type": "scattermapbox"
           }
          ],
          "scatterpolar": [
           {
            "marker": {
             "colorbar": {
              "outlinewidth": 0,
              "ticks": ""
             }
            },
            "type": "scatterpolar"
           }
          ],
          "scatterpolargl": [
           {
            "marker": {
             "colorbar": {
              "outlinewidth": 0,
              "ticks": ""
             }
            },
            "type": "scatterpolargl"
           }
          ],
          "scatterternary": [
           {
            "marker": {
             "colorbar": {
              "outlinewidth": 0,
              "ticks": ""
             }
            },
            "type": "scatterternary"
           }
          ],
          "surface": [
           {
            "colorbar": {
             "outlinewidth": 0,
             "ticks": ""
            },
            "colorscale": [
             [
              0,
              "#0d0887"
             ],
             [
              0.1111111111111111,
              "#46039f"
             ],
             [
              0.2222222222222222,
              "#7201a8"
             ],
             [
              0.3333333333333333,
              "#9c179e"
             ],
             [
              0.4444444444444444,
              "#bd3786"
             ],
             [
              0.5555555555555556,
              "#d8576b"
             ],
             [
              0.6666666666666666,
              "#ed7953"
             ],
             [
              0.7777777777777778,
              "#fb9f3a"
             ],
             [
              0.8888888888888888,
              "#fdca26"
             ],
             [
              1,
              "#f0f921"
             ]
            ],
            "type": "surface"
           }
          ],
          "table": [
           {
            "cells": {
             "fill": {
              "color": "#EBF0F8"
             },
             "line": {
              "color": "white"
             }
            },
            "header": {
             "fill": {
              "color": "#C8D4E3"
             },
             "line": {
              "color": "white"
             }
            },
            "type": "table"
           }
          ]
         },
         "layout": {
          "annotationdefaults": {
           "arrowcolor": "#2a3f5f",
           "arrowhead": 0,
           "arrowwidth": 1
          },
          "coloraxis": {
           "colorbar": {
            "outlinewidth": 0,
            "ticks": ""
           }
          },
          "colorscale": {
           "diverging": [
            [
             0,
             "#8e0152"
            ],
            [
             0.1,
             "#c51b7d"
            ],
            [
             0.2,
             "#de77ae"
            ],
            [
             0.3,
             "#f1b6da"
            ],
            [
             0.4,
             "#fde0ef"
            ],
            [
             0.5,
             "#f7f7f7"
            ],
            [
             0.6,
             "#e6f5d0"
            ],
            [
             0.7,
             "#b8e186"
            ],
            [
             0.8,
             "#7fbc41"
            ],
            [
             0.9,
             "#4d9221"
            ],
            [
             1,
             "#276419"
            ]
           ],
           "sequential": [
            [
             0,
             "#0d0887"
            ],
            [
             0.1111111111111111,
             "#46039f"
            ],
            [
             0.2222222222222222,
             "#7201a8"
            ],
            [
             0.3333333333333333,
             "#9c179e"
            ],
            [
             0.4444444444444444,
             "#bd3786"
            ],
            [
             0.5555555555555556,
             "#d8576b"
            ],
            [
             0.6666666666666666,
             "#ed7953"
            ],
            [
             0.7777777777777778,
             "#fb9f3a"
            ],
            [
             0.8888888888888888,
             "#fdca26"
            ],
            [
             1,
             "#f0f921"
            ]
           ],
           "sequentialminus": [
            [
             0,
             "#0d0887"
            ],
            [
             0.1111111111111111,
             "#46039f"
            ],
            [
             0.2222222222222222,
             "#7201a8"
            ],
            [
             0.3333333333333333,
             "#9c179e"
            ],
            [
             0.4444444444444444,
             "#bd3786"
            ],
            [
             0.5555555555555556,
             "#d8576b"
            ],
            [
             0.6666666666666666,
             "#ed7953"
            ],
            [
             0.7777777777777778,
             "#fb9f3a"
            ],
            [
             0.8888888888888888,
             "#fdca26"
            ],
            [
             1,
             "#f0f921"
            ]
           ]
          },
          "colorway": [
           "#636efa",
           "#EF553B",
           "#00cc96",
           "#ab63fa",
           "#FFA15A",
           "#19d3f3",
           "#FF6692",
           "#B6E880",
           "#FF97FF",
           "#FECB52"
          ],
          "font": {
           "color": "#2a3f5f"
          },
          "geo": {
           "bgcolor": "white",
           "lakecolor": "white",
           "landcolor": "#E5ECF6",
           "showlakes": true,
           "showland": true,
           "subunitcolor": "white"
          },
          "hoverlabel": {
           "align": "left"
          },
          "hovermode": "closest",
          "mapbox": {
           "style": "light"
          },
          "paper_bgcolor": "white",
          "plot_bgcolor": "#E5ECF6",
          "polar": {
           "angularaxis": {
            "gridcolor": "white",
            "linecolor": "white",
            "ticks": ""
           },
           "bgcolor": "#E5ECF6",
           "radialaxis": {
            "gridcolor": "white",
            "linecolor": "white",
            "ticks": ""
           }
          },
          "scene": {
           "xaxis": {
            "backgroundcolor": "#E5ECF6",
            "gridcolor": "white",
            "gridwidth": 2,
            "linecolor": "white",
            "showbackground": true,
            "ticks": "",
            "zerolinecolor": "white"
           },
           "yaxis": {
            "backgroundcolor": "#E5ECF6",
            "gridcolor": "white",
            "gridwidth": 2,
            "linecolor": "white",
            "showbackground": true,
            "ticks": "",
            "zerolinecolor": "white"
           },
           "zaxis": {
            "backgroundcolor": "#E5ECF6",
            "gridcolor": "white",
            "gridwidth": 2,
            "linecolor": "white",
            "showbackground": true,
            "ticks": "",
            "zerolinecolor": "white"
           }
          },
          "shapedefaults": {
           "line": {
            "color": "#2a3f5f"
           }
          },
          "ternary": {
           "aaxis": {
            "gridcolor": "white",
            "linecolor": "white",
            "ticks": ""
           },
           "baxis": {
            "gridcolor": "white",
            "linecolor": "white",
            "ticks": ""
           },
           "bgcolor": "#E5ECF6",
           "caxis": {
            "gridcolor": "white",
            "linecolor": "white",
            "ticks": ""
           }
          },
          "title": {
           "x": 0.05
          },
          "xaxis": {
           "automargin": true,
           "gridcolor": "white",
           "linecolor": "white",
           "ticks": "",
           "title": {
            "standoff": 15
           },
           "zerolinecolor": "white",
           "zerolinewidth": 2
          },
          "yaxis": {
           "automargin": true,
           "gridcolor": "white",
           "linecolor": "white",
           "ticks": "",
           "title": {
            "standoff": 15
           },
           "zerolinecolor": "white",
           "zerolinewidth": 2
          }
         }
        },
        "title": {
         "text": "Policy adversarial"
        }
       }
      },
      "text/html": [
       "<div>\n",
       "        \n",
       "        \n",
       "            <div id=\"d0265147-99d5-4d90-9722-764af4b5aad8\" class=\"plotly-graph-div\" style=\"height:525px; width:100%;\"></div>\n",
       "            <script type=\"text/javascript\">\n",
       "                require([\"plotly\"], function(Plotly) {\n",
       "                    window.PLOTLYENV=window.PLOTLYENV || {};\n",
       "                    \n",
       "                if (document.getElementById(\"d0265147-99d5-4d90-9722-764af4b5aad8\")) {\n",
       "                    Plotly.newPlot(\n",
       "                        'd0265147-99d5-4d90-9722-764af4b5aad8',\n",
       "                        [{\"type\": \"scatter\", \"x\": [0.0, 0.0001542005775263533, 0.0016962062800303102, 0.017116263508796692, 0.10000000149011612, 0.13883624970912933, 0.20000000298023224, 0.2463463395833969, 0.30000001192092896, 0.371628999710083, 0.4000000059604645, 0.45167088508605957, 0.5, 0.5373215079307556, 0.6000000238418579, 0.6724066734313965, 0.699999988079071, 0.7777345180511475, 0.800000011920929, 0.8693327307701111, 0.8999999761581421, 0.9618130922317505, 1.0, 1.058499813079834, 1.100000023841858, 1.1567736864089966, 1.2000000476837158, 1.2513824701309204, 1.2999999523162842, 1.3470289707183838, 1.399999976158142, 1.4341611862182617, 1.5, 1.5524264574050903, 1.600000023841858, 1.6704556941986084, 1.7000000476837158, 1.767055630683899, 1.7999999523162842, 1.8607454299926758, 1.899999976158142, 1.9559880495071411, 2.0, 2.058717966079712, 2.0999999046325684, 2.127420663833618, 2.200000047683716, 2.261406660079956, 2.299999952316284, 2.3657140731811523, 2.4000000953674316, 2.4600908756256104, 2.5, 2.5755536556243896, 2.5999999046325684, 2.675877809524536, 2.700000047683716, 2.772023916244507, 2.799999952316284, 2.869962215423584, 2.9000000953674316, 2.9636988639831543, 3.0, 3.0530409812927246, 3.0999999046325684, 3.1508853435516357, 3.200000047683716, 3.2590630054473877, 3.299999952316284, 3.362701892852783, 3.4000000953674316, 3.440294027328491, 3.5, 3.5418665409088135, 3.5999999046325684, 3.6456024646759033, 3.700000047683716, 3.7316911220550537, 3.799999952316284, 3.8177366256713867, 3.9000000953674316, 3.944690227508545, 4.0, 4.053317546844482, 4.099999904632568, 4.153441429138184, 4.199999809265137, 4.238428592681885, 4.300000190734863, 4.3740410804748535, 4.400000095367432, 4.468662738800049, 4.5, 4.514257431030273, 4.599999904632568, 4.6564040184021, 4.699999809265137, 4.761488437652588, 4.800000190734863, 4.861352443695068, 4.900000095367432], \"y\": [3.2415926456451416, 3.2415926456451416, 3.2415895462036133, 3.2412819862365723, 3.2330379486083984, 3.2259128093719482, 3.211778163909912, 3.200284481048584, 3.186815023422241, 3.1728954315185547, 3.1689863204956055, 3.1650490760803223, 3.1652510166168213, 3.168220043182373, 3.1796345710754395, 3.20377779006958, 3.216387987136841, 3.2630550861358643, 3.2796950340270996, 3.3415074348449707, 3.3742127418518066, 3.451016664505005, 3.5067756175994873, 3.606264352798462, 3.688640832901001, 3.8192551136016846, 3.933971405029297, 4.086958885192871, 4.248227119445801, 4.419856548309326, 4.631471157073975, 4.778109073638916, 5.081416130065918, 5.342239856719971, 5.591834545135498, 5.974477291107178, 6.136286735534668, 6.493714332580566, 6.660582065582275, 6.946321487426758, 7.112387180328369, 7.318274974822998, 7.450979709625244, 7.591983318328857, 7.669360637664795, 7.712358474731445, 7.802080154418945, 7.851283550262451, 7.8701372146606445, 7.881481647491455, 7.877184867858887, 7.852880954742432, 7.824928283691406, 7.745028018951416, 7.7114410400390625, 7.581984519958496, 7.532773494720459, 7.363371849060059, 7.28874397277832, 7.084062576293945, 6.9893646240234375, 6.778906345367432, 6.65538215637207, 6.474361419677734, 6.317997455596924, 6.158323764801025, 6.01991605758667, 5.882460117340088, 5.810823917388916, 5.741756916046143, 5.723921298980713, 5.723602294921875, 5.753840446472168, 5.785333156585693, 5.819952011108398, 5.835824966430664, 5.843172550201416, 5.84390115737915, 5.846290588378906, 5.846308708190918, 5.832590579986572, 5.818892002105713, 5.798977851867676, 5.78098726272583, 5.769018173217773, 5.76131534576416, 5.760838508605957, 5.765271186828613, 5.782039642333984, 5.817452430725098, 5.833571434020996, 5.884764671325684, 5.911890983581543, 5.924938201904297, 6.011313438415527, 6.073472023010254, 6.122835159301758, 6.191932201385498, 6.233378887176514, 6.293409824371338, 6.325582981109619]}, {\"type\": \"scatter\", \"x\": [0.0, 0.0001542005775263533, 0.0016962062800303102, 0.017116263508796692, 0.10000000149011612, 0.13883624970912933, 0.20000000298023224, 0.2463463395833969, 0.30000001192092896, 0.371628999710083, 0.4000000059604645, 0.45167088508605957, 0.5, 0.5373215079307556, 0.6000000238418579, 0.6724066734313965, 0.699999988079071, 0.7777345180511475, 0.800000011920929, 0.8693327307701111, 0.8999999761581421, 0.9618130922317505, 1.0, 1.058499813079834, 1.100000023841858, 1.1567736864089966, 1.2000000476837158, 1.2513824701309204, 1.2999999523162842, 1.3470289707183838, 1.399999976158142, 1.4341611862182617, 1.5, 1.5524264574050903, 1.600000023841858, 1.6704556941986084, 1.7000000476837158, 1.767055630683899, 1.7999999523162842, 1.8607454299926758, 1.899999976158142, 1.9559880495071411, 2.0, 2.058717966079712, 2.0999999046325684, 2.127420663833618, 2.200000047683716, 2.261406660079956, 2.299999952316284, 2.3657140731811523, 2.4000000953674316, 2.4600908756256104, 2.5, 2.5755536556243896, 2.5999999046325684, 2.675877809524536, 2.700000047683716, 2.772023916244507, 2.799999952316284, 2.869962215423584, 2.9000000953674316, 2.9636988639831543, 3.0, 3.0530409812927246, 3.0999999046325684, 3.1508853435516357, 3.200000047683716, 3.2590630054473877, 3.299999952316284, 3.362701892852783, 3.4000000953674316, 3.440294027328491, 3.5, 3.5418665409088135, 3.5999999046325684, 3.6456024646759033, 3.700000047683716, 3.7316911220550537, 3.799999952316284, 3.8177366256713867, 3.9000000953674316, 3.944690227508545, 4.0, 4.053317546844482, 4.099999904632568, 4.153441429138184, 4.199999809265137, 4.238428592681885, 4.300000190734863, 4.3740410804748535, 4.400000095367432, 4.468662738800049, 4.5, 4.514257431030273, 4.599999904632568, 4.6564040184021, 4.699999809265137, 4.761488437652588, 4.800000190734863, 4.861352443695068, 4.900000095367432], \"y\": [0.5, 0.5000001192092896, 0.5000127553939819, 0.501268744468689, 0.5378463864326477, 0.5708782076835632, 0.6402581930160522, 0.7029798626899719, 0.7851788997650146, 0.900191605091095, 0.9468849897384644, 1.0318535566329956, 1.1114652156829834, 1.1729280948638916, 1.2749072313308716, 1.3910834789276123, 1.4348760843276978, 1.5572969913482666, 1.5921591520309448, 1.7015501260757446, 1.7500560283660889, 1.848984718322754, 1.9097836017608643, 2.000669479370117, 2.061023473739624, 2.1339964866638184, 2.1787266731262207, 2.2223167419433594, 2.25537371635437, 2.2783427238464355, 2.2922897338867188, 2.2928640842437744, 2.272704601287842, 2.2237937450408936, 2.143803834915161, 1.9595426321029663, 1.8590155839920044, 1.601182460784912, 1.4672564268112183, 1.2256706953048706, 1.0841540098190308, 0.9211446642875671, 0.8375101089477539, 0.7796116471290588, 0.7690574526786804, 0.77210533618927, 0.7972872853279114, 0.8373178243637085, 0.8703974485397339, 0.9393123984336853, 0.9811230301856995, 1.0634714365005493, 1.124196171760559, 1.2539070844650269, 1.2999643087387085, 1.4561353921890259, 1.509427547454834, 1.6739184856414795, 1.7383908033370972, 1.8884323835372925, 1.9448329210281372, 2.0396578311920166, 2.0749518871307373, 2.096843719482422, 2.082270622253418, 2.026207208633423, 1.9281481504440308, 1.7488727569580078, 1.5825815200805664, 1.2684271335601807, 1.051064372062683, 0.7918723225593567, 0.36992448568344116, 0.0704653263092041, -0.30159229040145874, -0.5535818338394165, -0.8148746490478516, -0.9535633325576782, -1.2457234859466553, -1.317900538444519, -1.5969820022583008, -1.7144838571548462, -1.8295410871505737, -1.91719651222229, -1.9813005924224854, -2.0433576107025146, -2.089625120162964, -2.1233134269714355, -2.170217275619507, -2.2134673595428467, -2.224677801132202, -2.2434144020080566, -2.246192693710327, -2.2461774349212646, -2.2277286052703857, -2.195904016494751, -2.158702850341797, -2.0846877098083496, -2.0237784385681152, -1.9002201557159424, -1.8036426305770874]}, {\"type\": \"scatter\", \"x\": [0.0, 0.0001542005775263533, 0.0016962062800303102, 0.017116263508796692, 0.10000000149011612, 0.13883624970912933, 0.20000000298023224, 0.2463463395833969, 0.30000001192092896, 0.371628999710083, 0.4000000059604645, 0.45167088508605957, 0.5, 0.5373215079307556, 0.6000000238418579, 0.6724066734313965, 0.699999988079071, 0.7777345180511475, 0.800000011920929, 0.8693327307701111, 0.8999999761581421, 0.9618130922317505, 1.0, 1.058499813079834, 1.100000023841858, 1.1567736864089966, 1.2000000476837158, 1.2513824701309204, 1.2999999523162842, 1.3470289707183838, 1.399999976158142, 1.4341611862182617, 1.5, 1.5524264574050903, 1.600000023841858, 1.6704556941986084, 1.7000000476837158, 1.767055630683899, 1.7999999523162842, 1.8607454299926758, 1.899999976158142, 1.9559880495071411, 2.0, 2.058717966079712, 2.0999999046325684, 2.127420663833618, 2.200000047683716, 2.261406660079956, 2.299999952316284, 2.3657140731811523, 2.4000000953674316, 2.4600908756256104, 2.5, 2.5755536556243896, 2.5999999046325684, 2.675877809524536, 2.700000047683716, 2.772023916244507, 2.799999952316284, 2.869962215423584, 2.9000000953674316, 2.9636988639831543, 3.0, 3.0530409812927246, 3.0999999046325684, 3.1508853435516357, 3.200000047683716, 3.2590630054473877, 3.299999952316284, 3.362701892852783, 3.4000000953674316, 3.440294027328491, 3.5, 3.5418665409088135, 3.5999999046325684, 3.6456024646759033, 3.700000047683716, 3.7316911220550537, 3.799999952316284, 3.8177366256713867, 3.9000000953674316, 3.944690227508545, 4.0, 4.053317546844482, 4.099999904632568, 4.153441429138184, 4.199999809265137, 4.238428592681885, 4.300000190734863, 4.3740410804748535, 4.400000095367432, 4.468662738800049, 4.5, 4.514257431030273, 4.599999904632568, 4.6564040184021, 4.699999809265137, 4.761488437652588, 4.800000190734863, 4.861352443695068, 4.900000095367432], \"y\": [0.0, -0.00033998428261838853, -0.003720224602147937, -0.03556542843580246, -0.1466352641582489, -0.2130926251411438, -0.2319665402173996, -0.2571645677089691, -0.23618760704994202, -0.15357813239097595, -0.12201431393623352, -0.032805733382701874, 0.03980407863855362, 0.11860047280788422, 0.24496912956237793, 0.42239585518836975, 0.4919251799583435, 0.713100016117096, 0.78208327293396, 1.0090309381484985, 1.1256431341171265, 1.3703217506408691, 1.5541199445724487, 1.8590002059936523, 2.1162869930267334, 2.494516372680664, 2.8177261352539062, 3.1452906131744385, 3.494050979614258, 3.808931589126587, 4.182260513305664, 4.402499675750732, 4.802175521850586, 5.132853984832764, 5.344629764556885, 5.4789137840271, 5.4686198234558105, 5.164977550506592, 4.959515571594238, 4.428757667541504, 4.02432107925415, 3.3161163330078125, 2.7084240913391113, 2.0922200679779053, 1.6570409536361694, 1.4784973859786987, 0.9909183979034424, 0.6100431680679321, 0.36655193567276, -0.02256276272237301, -0.22836372256278992, -0.5816329717636108, -0.819557785987854, -1.296359896659851, -1.4514925479888916, -1.9599220752716064, -2.1200361251831055, -2.580901861190796, -2.753377914428711, -3.0891964435577393, -3.2135262489318848, -3.377833843231201, -3.4206066131591797, -3.386617660522461, -3.2559609413146973, -2.997593641281128, -2.616119384765625, -2.0071933269500732, -1.478939414024353, -0.7133738994598389, -0.24398846924304962, 0.2197132110595703, 0.7504281997680664, 0.7225452065467834, 0.4326361417770386, 0.255039781332016, 0.016082607209682465, 0.028518812730908394, 0.04007668048143387, -0.036369260400533676, -0.2635675072669983, -0.3404974341392517, -0.36845239996910095, -0.29953715205192566, -0.20917074382305145, -0.07535175234079361, 0.05687841400504112, 0.17467686533927917, 0.37103205919265747, 0.584540843963623, 0.6570153832435608, 0.830142617225647, 0.8999751806259155, 0.9300490021705627, 1.073007583618164, 1.1245455741882324, 1.1354812383651733, 1.1015169620513916, 1.0462474822998047, 0.8975386619567871, 0.7617572546005249]}, {\"type\": \"scatter\", \"x\": [0.0, 0.0001542005775263533, 0.0016962062800303102, 0.017116263508796692, 0.10000000149011612, 0.13883624970912933, 0.20000000298023224, 0.2463463395833969, 0.30000001192092896, 0.371628999710083, 0.4000000059604645, 0.45167088508605957, 0.5, 0.5373215079307556, 0.6000000238418579, 0.6724066734313965, 0.699999988079071, 0.7777345180511475, 0.800000011920929, 0.8693327307701111, 0.8999999761581421, 0.9618130922317505, 1.0, 1.058499813079834, 1.100000023841858, 1.1567736864089966, 1.2000000476837158, 1.2513824701309204, 1.2999999523162842, 1.3470289707183838, 1.399999976158142, 1.4341611862182617, 1.5, 1.5524264574050903, 1.600000023841858, 1.6704556941986084, 1.7000000476837158, 1.767055630683899, 1.7999999523162842, 1.8607454299926758, 1.899999976158142, 1.9559880495071411, 2.0, 2.058717966079712, 2.0999999046325684, 2.127420663833618, 2.200000047683716, 2.261406660079956, 2.299999952316284, 2.3657140731811523, 2.4000000953674316, 2.4600908756256104, 2.5, 2.5755536556243896, 2.5999999046325684, 2.675877809524536, 2.700000047683716, 2.772023916244507, 2.799999952316284, 2.869962215423584, 2.9000000953674316, 2.9636988639831543, 3.0, 3.0530409812927246, 3.0999999046325684, 3.1508853435516357, 3.200000047683716, 3.2590630054473877, 3.299999952316284, 3.362701892852783, 3.4000000953674316, 3.440294027328491, 3.5, 3.5418665409088135, 3.5999999046325684, 3.6456024646759033, 3.700000047683716, 3.7316911220550537, 3.799999952316284, 3.8177366256713867, 3.9000000953674316, 3.944690227508545, 4.0, 4.053317546844482, 4.099999904632568, 4.153441429138184, 4.199999809265137, 4.238428592681885, 4.300000190734863, 4.3740410804748535, 4.400000095367432, 4.468662738800049, 4.5, 4.514257431030273, 4.599999904632568, 4.6564040184021, 4.699999809265137, 4.761488437652588, 4.800000190734863, 4.861352443695068, 4.900000095367432], \"y\": [0.0, 0.001370535814203322, 0.015023098327219486, 0.1462889313697815, 0.6921574473381042, 0.9899632930755615, 1.2337830066680908, 1.4555869102478027, 1.5866318941116333, 1.631868839263916, 1.6606626510620117, 1.6376800537109375, 1.6639537811279297, 1.6336078643798828, 1.6292003393173218, 1.5889376401901245, 1.5861247777938843, 1.567216396331787, 1.5643051862716675, 1.5841546058654785, 1.5773344039916992, 1.606408953666687, 1.5706993341445923, 1.5127919912338257, 1.3832476139068604, 1.1624963283538818, 0.8919708728790283, 0.7827167510986328, 0.5573920011520386, 0.4018002152442932, 0.10389335453510284, -0.07865054905414581, -0.5596438050270081, -1.317201852798462, -2.0511133670806885, -3.1746294498443604, -3.6274254322052, -4.018519878387451, -4.097319602966309, -3.7934725284576416, -3.38910174369812, -2.3813729286193848, -1.3955906629562378, -0.5632495284080505, 0.05407616123557091, 0.1705092489719391, 0.5356144309043884, 0.7745165228843689, 0.941532552242279, 1.1595327854156494, 1.2798500061035156, 1.4615179300308228, 1.5809847116470337, 1.8459482192993164, 1.9209740161895752, 2.178788661956787, 2.2376017570495605, 2.307980537414551, 2.297287702560425, 1.9684818983078003, 1.782028079032898, 1.1729215383529663, 0.7638217210769653, 0.04462713003158569, -0.6792166233062744, -1.5409231185913086, -2.4678401947021484, -3.6256237030029297, -4.5102152824401855, -5.520018577575684, -6.13459587097168, -6.718946933746338, -7.345965385437012, -6.903128147125244, -5.830756664276123, -5.204744815826416, -4.402286529541016, -4.347680568695068, -4.20516300201416, -3.9365346431732178, -2.9037153720855713, -2.368523359298706, -1.8091204166412354, -1.490419626235962, -1.263317584991455, -1.066214919090271, -0.92550128698349, -0.8298183679580688, -0.6971645951271057, -0.47162172198295593, -0.39187440276145935, -0.1490221619606018, -0.026895897462964058, 0.029362143948674202, 0.4156647324562073, 0.7207387089729309, 0.9912424683570862, 1.428200602531433, 1.7400845289230347, 2.30206561088562, 2.701957941055298]}],\n",
       "                        {\"template\": {\"data\": {\"bar\": [{\"error_x\": {\"color\": \"#2a3f5f\"}, \"error_y\": {\"color\": \"#2a3f5f\"}, \"marker\": {\"line\": {\"color\": \"#E5ECF6\", \"width\": 0.5}}, \"type\": \"bar\"}], \"barpolar\": [{\"marker\": {\"line\": {\"color\": \"#E5ECF6\", \"width\": 0.5}}, \"type\": \"barpolar\"}], \"carpet\": [{\"aaxis\": {\"endlinecolor\": \"#2a3f5f\", \"gridcolor\": \"white\", \"linecolor\": \"white\", \"minorgridcolor\": \"white\", \"startlinecolor\": \"#2a3f5f\"}, \"baxis\": {\"endlinecolor\": \"#2a3f5f\", \"gridcolor\": \"white\", \"linecolor\": \"white\", \"minorgridcolor\": \"white\", \"startlinecolor\": \"#2a3f5f\"}, \"type\": \"carpet\"}], \"choropleth\": [{\"colorbar\": {\"outlinewidth\": 0, \"ticks\": \"\"}, \"type\": \"choropleth\"}], \"contour\": [{\"colorbar\": {\"outlinewidth\": 0, \"ticks\": \"\"}, \"colorscale\": [[0.0, \"#0d0887\"], [0.1111111111111111, \"#46039f\"], [0.2222222222222222, \"#7201a8\"], [0.3333333333333333, \"#9c179e\"], [0.4444444444444444, \"#bd3786\"], [0.5555555555555556, \"#d8576b\"], [0.6666666666666666, \"#ed7953\"], [0.7777777777777778, \"#fb9f3a\"], [0.8888888888888888, \"#fdca26\"], [1.0, \"#f0f921\"]], \"type\": \"contour\"}], \"contourcarpet\": [{\"colorbar\": {\"outlinewidth\": 0, \"ticks\": \"\"}, \"type\": \"contourcarpet\"}], \"heatmap\": [{\"colorbar\": {\"outlinewidth\": 0, \"ticks\": \"\"}, \"colorscale\": [[0.0, \"#0d0887\"], [0.1111111111111111, \"#46039f\"], [0.2222222222222222, \"#7201a8\"], [0.3333333333333333, \"#9c179e\"], [0.4444444444444444, \"#bd3786\"], [0.5555555555555556, \"#d8576b\"], [0.6666666666666666, \"#ed7953\"], [0.7777777777777778, \"#fb9f3a\"], [0.8888888888888888, \"#fdca26\"], [1.0, \"#f0f921\"]], \"type\": \"heatmap\"}], \"heatmapgl\": [{\"colorbar\": {\"outlinewidth\": 0, \"ticks\": \"\"}, \"colorscale\": [[0.0, \"#0d0887\"], [0.1111111111111111, \"#46039f\"], [0.2222222222222222, \"#7201a8\"], [0.3333333333333333, \"#9c179e\"], [0.4444444444444444, \"#bd3786\"], [0.5555555555555556, \"#d8576b\"], [0.6666666666666666, \"#ed7953\"], [0.7777777777777778, \"#fb9f3a\"], [0.8888888888888888, \"#fdca26\"], [1.0, \"#f0f921\"]], \"type\": \"heatmapgl\"}], \"histogram\": [{\"marker\": {\"colorbar\": {\"outlinewidth\": 0, \"ticks\": \"\"}}, \"type\": \"histogram\"}], \"histogram2d\": [{\"colorbar\": {\"outlinewidth\": 0, \"ticks\": \"\"}, \"colorscale\": [[0.0, \"#0d0887\"], [0.1111111111111111, \"#46039f\"], [0.2222222222222222, \"#7201a8\"], [0.3333333333333333, \"#9c179e\"], [0.4444444444444444, \"#bd3786\"], [0.5555555555555556, \"#d8576b\"], [0.6666666666666666, \"#ed7953\"], [0.7777777777777778, \"#fb9f3a\"], [0.8888888888888888, \"#fdca26\"], [1.0, \"#f0f921\"]], \"type\": \"histogram2d\"}], \"histogram2dcontour\": [{\"colorbar\": {\"outlinewidth\": 0, \"ticks\": \"\"}, \"colorscale\": [[0.0, \"#0d0887\"], [0.1111111111111111, \"#46039f\"], [0.2222222222222222, \"#7201a8\"], [0.3333333333333333, \"#9c179e\"], [0.4444444444444444, \"#bd3786\"], [0.5555555555555556, \"#d8576b\"], [0.6666666666666666, \"#ed7953\"], [0.7777777777777778, \"#fb9f3a\"], [0.8888888888888888, \"#fdca26\"], [1.0, \"#f0f921\"]], \"type\": \"histogram2dcontour\"}], \"mesh3d\": [{\"colorbar\": {\"outlinewidth\": 0, \"ticks\": \"\"}, \"type\": \"mesh3d\"}], \"parcoords\": [{\"line\": {\"colorbar\": {\"outlinewidth\": 0, \"ticks\": \"\"}}, \"type\": \"parcoords\"}], \"pie\": [{\"automargin\": true, \"type\": \"pie\"}], \"scatter\": [{\"marker\": {\"colorbar\": {\"outlinewidth\": 0, \"ticks\": \"\"}}, \"type\": \"scatter\"}], \"scatter3d\": [{\"line\": {\"colorbar\": {\"outlinewidth\": 0, \"ticks\": \"\"}}, \"marker\": {\"colorbar\": {\"outlinewidth\": 0, \"ticks\": \"\"}}, \"type\": \"scatter3d\"}], \"scattercarpet\": [{\"marker\": {\"colorbar\": {\"outlinewidth\": 0, \"ticks\": \"\"}}, \"type\": \"scattercarpet\"}], \"scattergeo\": [{\"marker\": {\"colorbar\": {\"outlinewidth\": 0, \"ticks\": \"\"}}, \"type\": \"scattergeo\"}], \"scattergl\": [{\"marker\": {\"colorbar\": {\"outlinewidth\": 0, \"ticks\": \"\"}}, \"type\": \"scattergl\"}], \"scattermapbox\": [{\"marker\": {\"colorbar\": {\"outlinewidth\": 0, \"ticks\": \"\"}}, \"type\": \"scattermapbox\"}], \"scatterpolar\": [{\"marker\": {\"colorbar\": {\"outlinewidth\": 0, \"ticks\": \"\"}}, \"type\": \"scatterpolar\"}], \"scatterpolargl\": [{\"marker\": {\"colorbar\": {\"outlinewidth\": 0, \"ticks\": \"\"}}, \"type\": \"scatterpolargl\"}], \"scatterternary\": [{\"marker\": {\"colorbar\": {\"outlinewidth\": 0, \"ticks\": \"\"}}, \"type\": \"scatterternary\"}], \"surface\": [{\"colorbar\": {\"outlinewidth\": 0, \"ticks\": \"\"}, \"colorscale\": [[0.0, \"#0d0887\"], [0.1111111111111111, \"#46039f\"], [0.2222222222222222, \"#7201a8\"], [0.3333333333333333, \"#9c179e\"], [0.4444444444444444, \"#bd3786\"], [0.5555555555555556, \"#d8576b\"], [0.6666666666666666, \"#ed7953\"], [0.7777777777777778, \"#fb9f3a\"], [0.8888888888888888, \"#fdca26\"], [1.0, \"#f0f921\"]], \"type\": \"surface\"}], \"table\": [{\"cells\": {\"fill\": {\"color\": \"#EBF0F8\"}, \"line\": {\"color\": \"white\"}}, \"header\": {\"fill\": {\"color\": \"#C8D4E3\"}, \"line\": {\"color\": \"white\"}}, \"type\": \"table\"}]}, \"layout\": {\"annotationdefaults\": {\"arrowcolor\": \"#2a3f5f\", \"arrowhead\": 0, \"arrowwidth\": 1}, \"coloraxis\": {\"colorbar\": {\"outlinewidth\": 0, \"ticks\": \"\"}}, \"colorscale\": {\"diverging\": [[0, \"#8e0152\"], [0.1, \"#c51b7d\"], [0.2, \"#de77ae\"], [0.3, \"#f1b6da\"], [0.4, \"#fde0ef\"], [0.5, \"#f7f7f7\"], [0.6, \"#e6f5d0\"], [0.7, \"#b8e186\"], [0.8, \"#7fbc41\"], [0.9, \"#4d9221\"], [1, \"#276419\"]], \"sequential\": [[0.0, \"#0d0887\"], [0.1111111111111111, \"#46039f\"], [0.2222222222222222, \"#7201a8\"], [0.3333333333333333, \"#9c179e\"], [0.4444444444444444, \"#bd3786\"], [0.5555555555555556, \"#d8576b\"], [0.6666666666666666, \"#ed7953\"], [0.7777777777777778, \"#fb9f3a\"], [0.8888888888888888, \"#fdca26\"], [1.0, \"#f0f921\"]], \"sequentialminus\": [[0.0, \"#0d0887\"], [0.1111111111111111, \"#46039f\"], [0.2222222222222222, \"#7201a8\"], [0.3333333333333333, \"#9c179e\"], [0.4444444444444444, \"#bd3786\"], [0.5555555555555556, \"#d8576b\"], [0.6666666666666666, \"#ed7953\"], [0.7777777777777778, \"#fb9f3a\"], [0.8888888888888888, \"#fdca26\"], [1.0, \"#f0f921\"]]}, \"colorway\": [\"#636efa\", \"#EF553B\", \"#00cc96\", \"#ab63fa\", \"#FFA15A\", \"#19d3f3\", \"#FF6692\", \"#B6E880\", \"#FF97FF\", \"#FECB52\"], \"font\": {\"color\": \"#2a3f5f\"}, \"geo\": {\"bgcolor\": \"white\", \"lakecolor\": \"white\", \"landcolor\": \"#E5ECF6\", \"showlakes\": true, \"showland\": true, \"subunitcolor\": \"white\"}, \"hoverlabel\": {\"align\": \"left\"}, \"hovermode\": \"closest\", \"mapbox\": {\"style\": \"light\"}, \"paper_bgcolor\": \"white\", \"plot_bgcolor\": \"#E5ECF6\", \"polar\": {\"angularaxis\": {\"gridcolor\": \"white\", \"linecolor\": \"white\", \"ticks\": \"\"}, \"bgcolor\": \"#E5ECF6\", \"radialaxis\": {\"gridcolor\": \"white\", \"linecolor\": \"white\", \"ticks\": \"\"}}, \"scene\": {\"xaxis\": {\"backgroundcolor\": \"#E5ECF6\", \"gridcolor\": \"white\", \"gridwidth\": 2, \"linecolor\": \"white\", \"showbackground\": true, \"ticks\": \"\", \"zerolinecolor\": \"white\"}, \"yaxis\": {\"backgroundcolor\": \"#E5ECF6\", \"gridcolor\": \"white\", \"gridwidth\": 2, \"linecolor\": \"white\", \"showbackground\": true, \"ticks\": \"\", \"zerolinecolor\": \"white\"}, \"zaxis\": {\"backgroundcolor\": \"#E5ECF6\", \"gridcolor\": \"white\", \"gridwidth\": 2, \"linecolor\": \"white\", \"showbackground\": true, \"ticks\": \"\", \"zerolinecolor\": \"white\"}}, \"shapedefaults\": {\"line\": {\"color\": \"#2a3f5f\"}}, \"ternary\": {\"aaxis\": {\"gridcolor\": \"white\", \"linecolor\": \"white\", \"ticks\": \"\"}, \"baxis\": {\"gridcolor\": \"white\", \"linecolor\": \"white\", \"ticks\": \"\"}, \"bgcolor\": \"#E5ECF6\", \"caxis\": {\"gridcolor\": \"white\", \"linecolor\": \"white\", \"ticks\": \"\"}}, \"title\": {\"x\": 0.05}, \"xaxis\": {\"automargin\": true, \"gridcolor\": \"white\", \"linecolor\": \"white\", \"ticks\": \"\", \"title\": {\"standoff\": 15}, \"zerolinecolor\": \"white\", \"zerolinewidth\": 2}, \"yaxis\": {\"automargin\": true, \"gridcolor\": \"white\", \"linecolor\": \"white\", \"ticks\": \"\", \"title\": {\"standoff\": 15}, \"zerolinecolor\": \"white\", \"zerolinewidth\": 2}}}, \"title\": {\"text\": \"Policy adversarial\"}},\n",
       "                        {\"responsive\": true}\n",
       "                    ).then(function(){\n",
       "                            \n",
       "var gd = document.getElementById('d0265147-99d5-4d90-9722-764af4b5aad8');\n",
       "var x = new MutationObserver(function (mutations, observer) {{\n",
       "        var display = window.getComputedStyle(gd).display;\n",
       "        if (!display || display === 'none') {{\n",
       "            console.log([gd, 'removed!']);\n",
       "            Plotly.purge(gd);\n",
       "            observer.disconnect();\n",
       "        }}\n",
       "}});\n",
       "\n",
       "// Listen for the removal of the full notebook cells\n",
       "var notebookContainer = gd.closest('#notebook-container');\n",
       "if (notebookContainer) {{\n",
       "    x.observe(notebookContainer, {childList: true});\n",
       "}}\n",
       "\n",
       "// Listen for the clearing of the current output cell\n",
       "var outputEl = gd.closest('.output');\n",
       "if (outputEl) {{\n",
       "    x.observe(outputEl, {childList: true});\n",
       "}}\n",
       "\n",
       "                        })\n",
       "                };\n",
       "                });\n",
       "            </script>\n",
       "        </div>"
      ]
     },
     "metadata": {},
     "output_type": "display_data"
    }
   ],
   "source": [
    "ctrl_policy_adv = controllers.get_learned_policy_controller(policy_approx_adv,\n",
    "                                                        opt['sim_dt']*opt['sim_horizon'],\n",
    "                                                        opt['sim_dt'])\n",
    "x_traj_sim, t_traj_sim = controllers.sim_ctrl(opt['sim_x0'], vf.u_dim[0], sys.dx,\n",
    "                                              ctrl_policy_adv, opt['sim_dt'], opt['sim_horizon'],\n",
    "                                              integration_mode=opt['control_interp'])\n",
    "controllers.plot_sim(t_traj_sim, x_traj_sim, \"Policy adversarial\").show()"
   ]
  },
  {
   "cell_type": "code",
   "execution_count": 55,
   "metadata": {},
   "outputs": [],
   "source": [
    "ctrl_lqr, S = controllers.get_lqr_controller(sys.dx,\n",
    "                                             opt['x_nom'], opt['u_nom'],\n",
    "                                             opt['lqr_Q'], opt['lqr_R'],\n",
    "                                             vf.u_lo[0], vf.u_up[0])\n",
    "bench_lqr = controllers.benchmark_controller(vf.u_dim[0], sys.dx,\n",
    "                                             ctrl_lqr,\n",
    "                                             opt['bench_x0'],\n",
    "                                             opt['bench_x0_eps'],\n",
    "                                             opt['bench_num_breaks'],\n",
    "                                             opt['bench_x_goal'],\n",
    "                                             opt['sim_dt'],\n",
    "                                             opt['sim_horizon'],\n",
    "                                             integration_mode=opt['control_interp'])"
   ]
  },
  {
   "cell_type": "code",
   "execution_count": 114,
   "metadata": {},
   "outputs": [],
   "source": [
    "bench_no_model = controllers.benchmark_controller(vf.u_dim[0], sys.dx,\n",
    "                                                 ctrl_no_model,\n",
    "                                                 opt['bench_x0'],\n",
    "                                                 opt['bench_x0_eps'],\n",
    "                                                 opt['bench_num_breaks'],\n",
    "                                                 opt['bench_x_goal'],\n",
    "                                                 opt['sim_dt'],\n",
    "                                                 opt['sim_horizon'],\n",
    "                                                 integration_mode=opt['control_interp'])"
   ]
  },
  {
   "cell_type": "code",
   "execution_count": 115,
   "metadata": {},
   "outputs": [],
   "source": [
    "bench_baseline = controllers.benchmark_controller(vf.u_dim[0], sys.dx,\n",
    "                                                 ctrl_baseline,\n",
    "                                                 opt['bench_x0'],\n",
    "                                                 opt['bench_x0_eps'],\n",
    "                                                 opt['bench_num_breaks'],\n",
    "                                                 opt['bench_x_goal'],\n",
    "                                                 opt['sim_dt'],\n",
    "                                                 opt['sim_horizon'],\n",
    "                                                 integration_mode=opt['control_interp'])"
   ]
  },
  {
   "cell_type": "code",
   "execution_count": 116,
   "metadata": {},
   "outputs": [],
   "source": [
    "bench_adv = controllers.benchmark_controller(vf.u_dim[0], sys.dx,\n",
    "                                             ctrl_adv,\n",
    "                                             opt['bench_x0'],\n",
    "                                             opt['bench_x0_eps'],\n",
    "                                             opt['bench_num_breaks'],\n",
    "                                             opt['bench_x_goal'],\n",
    "                                             opt['sim_dt'],\n",
    "                                             opt['sim_horizon'],\n",
    "                                             integration_mode=opt['control_interp'])"
   ]
  },
  {
   "cell_type": "code",
   "execution_count": 77,
   "metadata": {},
   "outputs": [],
   "source": [
    "bench_policy = controllers.benchmark_controller(vf.u_dim[0], sys.dx,\n",
    "                                             ctrl_policy,\n",
    "                                             opt['bench_x0'],\n",
    "                                             opt['bench_x0_eps'],\n",
    "                                             opt['bench_num_breaks'],\n",
    "                                             opt['bench_x_goal'],\n",
    "                                             opt['sim_dt'],\n",
    "                                             opt['sim_horizon'],\n",
    "                                             integration_mode=opt['control_interp'],\n",
    "                                             dim1=0,\n",
    "                                             dim2=1)"
   ]
  },
  {
   "cell_type": "code",
   "execution_count": 78,
   "metadata": {},
   "outputs": [],
   "source": [
    "bench_policy_adv = controllers.benchmark_controller(vf.u_dim[0], sys.dx,\n",
    "                                                 ctrl_policy_adv,\n",
    "                                                 opt['bench_x0'],\n",
    "                                                 opt['bench_x0_eps'],\n",
    "                                                 opt['bench_num_breaks'],\n",
    "                                                 opt['bench_x_goal'],\n",
    "                                                 opt['sim_dt'],\n",
    "                                                 opt['sim_horizon'],\n",
    "                                                 integration_mode=opt['control_interp'],\n",
    "                                                 dim1=0,\n",
    "                                                 dim2=1)"
   ]
  },
  {
   "cell_type": "code",
   "execution_count": 81,
   "metadata": {
    "scrolled": false
   },
   "outputs": [
    {
     "data": {
      "application/vnd.plotly.v1+json": {
       "config": {
        "plotlyServerURL": "https://plot.ly"
       },
       "data": [
        {
         "type": "heatmap",
         "z": [
          [
           0.0010607934645742601,
           0.000928800881276385,
           0.000948755560134491,
           0.0010573867766692474,
           0.0011624488215570333,
           0.0011766388446188805,
           0.001020044347443462,
           0.0006181729080438628,
           0.0003507064851020165,
           0.0013559565485480364
          ],
          [
           0.002264079555544372,
           0.0021464045071242985,
           0.0021287560692834773,
           0.0021257237880849796,
           0.002036019714198934,
           0.001759492511284566,
           0.0012011956379163783,
           0.0003546164606372055,
           0.001039513964203226,
           0.0024258796984733943
          ],
          [
           0.003327906724962755,
           0.003182315449930281,
           0.003055060193073386,
           0.0028507510122985896,
           0.0024593950854117004,
           0.0017769732418079132,
           0.0007463709054844988,
           0.0006849509332592276,
           0.0021603698451107085,
           0.0035174536970561886
          ],
          [
           0.00415664411943545,
           0.003912217811028689,
           0.0035872562051437237,
           0.0030745345317426663,
           0.0022699928967095636,
           0.0011172869357724978,
           0.00036874654832010816,
           0.0018885806771104438,
           0.0032663365831484656,
           0.00433509957452925
          ],
          [
           0.004649837041647638,
           0.004217702700093281,
           0.0035885519393682036,
           0.0026645639717410565,
           0.001405779180387324,
           0.00011345520734708468,
           0.001644862033252625,
           0.00298459181282591,
           0.004004823879909467,
           0.004723153623948255
          ],
          [
           0.004723467975281073,
           0.004004745791508163,
           0.0029848873741661337,
           0.0016448155414273316,
           0.00011393045362562558,
           0.0014059283734709014,
           0.002664464287842058,
           0.0035888139062500964,
           0.004217758394950225,
           0.004649820451969369
          ],
          [
           0.0043350028132136,
           0.003266332348401716,
           0.001888359143591381,
           0.0003686271912631713,
           0.0011168972784848347,
           0.002270002031357184,
           0.003074638047813653,
           0.0035869177306761422,
           0.003911971595025124,
           0.00415674453176041
          ],
          [
           0.0035174457373465346,
           0.002160193127194876,
           0.000684894834381534,
           0.0007464963312865966,
           0.0017769728652825979,
           0.0024596711782163137,
           0.00285088816629625,
           0.003055182001455249,
           0.0031819480542132823,
           0.0033275016696454377
          ],
          [
           0.0024255824137472955,
           0.0010394541660509245,
           0.00035473484734526583,
           0.0012011607179428653,
           0.001759200127091278,
           0.0020359870937965248,
           0.0021258635244233736,
           0.0021290734963181875,
           0.002146459189251185,
           0.002264194320986466
          ],
          [
           0.0013557969133697325,
           0.00035068219044459423,
           0.0006181404397886414,
           0.0010200533664898798,
           0.0011762905296820556,
           0.001162022534241684,
           0.0010575698800726126,
           0.0009491027733614282,
           0.0009288872921105215,
           0.0010604142238104
          ]
         ],
         "zmax": 0.2,
         "zmin": 0
        }
       ],
       "layout": {
        "template": {
         "data": {
          "bar": [
           {
            "error_x": {
             "color": "#2a3f5f"
            },
            "error_y": {
             "color": "#2a3f5f"
            },
            "marker": {
             "line": {
              "color": "#E5ECF6",
              "width": 0.5
             }
            },
            "type": "bar"
           }
          ],
          "barpolar": [
           {
            "marker": {
             "line": {
              "color": "#E5ECF6",
              "width": 0.5
             }
            },
            "type": "barpolar"
           }
          ],
          "carpet": [
           {
            "aaxis": {
             "endlinecolor": "#2a3f5f",
             "gridcolor": "white",
             "linecolor": "white",
             "minorgridcolor": "white",
             "startlinecolor": "#2a3f5f"
            },
            "baxis": {
             "endlinecolor": "#2a3f5f",
             "gridcolor": "white",
             "linecolor": "white",
             "minorgridcolor": "white",
             "startlinecolor": "#2a3f5f"
            },
            "type": "carpet"
           }
          ],
          "choropleth": [
           {
            "colorbar": {
             "outlinewidth": 0,
             "ticks": ""
            },
            "type": "choropleth"
           }
          ],
          "contour": [
           {
            "colorbar": {
             "outlinewidth": 0,
             "ticks": ""
            },
            "colorscale": [
             [
              0,
              "#0d0887"
             ],
             [
              0.1111111111111111,
              "#46039f"
             ],
             [
              0.2222222222222222,
              "#7201a8"
             ],
             [
              0.3333333333333333,
              "#9c179e"
             ],
             [
              0.4444444444444444,
              "#bd3786"
             ],
             [
              0.5555555555555556,
              "#d8576b"
             ],
             [
              0.6666666666666666,
              "#ed7953"
             ],
             [
              0.7777777777777778,
              "#fb9f3a"
             ],
             [
              0.8888888888888888,
              "#fdca26"
             ],
             [
              1,
              "#f0f921"
             ]
            ],
            "type": "contour"
           }
          ],
          "contourcarpet": [
           {
            "colorbar": {
             "outlinewidth": 0,
             "ticks": ""
            },
            "type": "contourcarpet"
           }
          ],
          "heatmap": [
           {
            "colorbar": {
             "outlinewidth": 0,
             "ticks": ""
            },
            "colorscale": [
             [
              0,
              "#0d0887"
             ],
             [
              0.1111111111111111,
              "#46039f"
             ],
             [
              0.2222222222222222,
              "#7201a8"
             ],
             [
              0.3333333333333333,
              "#9c179e"
             ],
             [
              0.4444444444444444,
              "#bd3786"
             ],
             [
              0.5555555555555556,
              "#d8576b"
             ],
             [
              0.6666666666666666,
              "#ed7953"
             ],
             [
              0.7777777777777778,
              "#fb9f3a"
             ],
             [
              0.8888888888888888,
              "#fdca26"
             ],
             [
              1,
              "#f0f921"
             ]
            ],
            "type": "heatmap"
           }
          ],
          "heatmapgl": [
           {
            "colorbar": {
             "outlinewidth": 0,
             "ticks": ""
            },
            "colorscale": [
             [
              0,
              "#0d0887"
             ],
             [
              0.1111111111111111,
              "#46039f"
             ],
             [
              0.2222222222222222,
              "#7201a8"
             ],
             [
              0.3333333333333333,
              "#9c179e"
             ],
             [
              0.4444444444444444,
              "#bd3786"
             ],
             [
              0.5555555555555556,
              "#d8576b"
             ],
             [
              0.6666666666666666,
              "#ed7953"
             ],
             [
              0.7777777777777778,
              "#fb9f3a"
             ],
             [
              0.8888888888888888,
              "#fdca26"
             ],
             [
              1,
              "#f0f921"
             ]
            ],
            "type": "heatmapgl"
           }
          ],
          "histogram": [
           {
            "marker": {
             "colorbar": {
              "outlinewidth": 0,
              "ticks": ""
             }
            },
            "type": "histogram"
           }
          ],
          "histogram2d": [
           {
            "colorbar": {
             "outlinewidth": 0,
             "ticks": ""
            },
            "colorscale": [
             [
              0,
              "#0d0887"
             ],
             [
              0.1111111111111111,
              "#46039f"
             ],
             [
              0.2222222222222222,
              "#7201a8"
             ],
             [
              0.3333333333333333,
              "#9c179e"
             ],
             [
              0.4444444444444444,
              "#bd3786"
             ],
             [
              0.5555555555555556,
              "#d8576b"
             ],
             [
              0.6666666666666666,
              "#ed7953"
             ],
             [
              0.7777777777777778,
              "#fb9f3a"
             ],
             [
              0.8888888888888888,
              "#fdca26"
             ],
             [
              1,
              "#f0f921"
             ]
            ],
            "type": "histogram2d"
           }
          ],
          "histogram2dcontour": [
           {
            "colorbar": {
             "outlinewidth": 0,
             "ticks": ""
            },
            "colorscale": [
             [
              0,
              "#0d0887"
             ],
             [
              0.1111111111111111,
              "#46039f"
             ],
             [
              0.2222222222222222,
              "#7201a8"
             ],
             [
              0.3333333333333333,
              "#9c179e"
             ],
             [
              0.4444444444444444,
              "#bd3786"
             ],
             [
              0.5555555555555556,
              "#d8576b"
             ],
             [
              0.6666666666666666,
              "#ed7953"
             ],
             [
              0.7777777777777778,
              "#fb9f3a"
             ],
             [
              0.8888888888888888,
              "#fdca26"
             ],
             [
              1,
              "#f0f921"
             ]
            ],
            "type": "histogram2dcontour"
           }
          ],
          "mesh3d": [
           {
            "colorbar": {
             "outlinewidth": 0,
             "ticks": ""
            },
            "type": "mesh3d"
           }
          ],
          "parcoords": [
           {
            "line": {
             "colorbar": {
              "outlinewidth": 0,
              "ticks": ""
             }
            },
            "type": "parcoords"
           }
          ],
          "pie": [
           {
            "automargin": true,
            "type": "pie"
           }
          ],
          "scatter": [
           {
            "marker": {
             "colorbar": {
              "outlinewidth": 0,
              "ticks": ""
             }
            },
            "type": "scatter"
           }
          ],
          "scatter3d": [
           {
            "line": {
             "colorbar": {
              "outlinewidth": 0,
              "ticks": ""
             }
            },
            "marker": {
             "colorbar": {
              "outlinewidth": 0,
              "ticks": ""
             }
            },
            "type": "scatter3d"
           }
          ],
          "scattercarpet": [
           {
            "marker": {
             "colorbar": {
              "outlinewidth": 0,
              "ticks": ""
             }
            },
            "type": "scattercarpet"
           }
          ],
          "scattergeo": [
           {
            "marker": {
             "colorbar": {
              "outlinewidth": 0,
              "ticks": ""
             }
            },
            "type": "scattergeo"
           }
          ],
          "scattergl": [
           {
            "marker": {
             "colorbar": {
              "outlinewidth": 0,
              "ticks": ""
             }
            },
            "type": "scattergl"
           }
          ],
          "scattermapbox": [
           {
            "marker": {
             "colorbar": {
              "outlinewidth": 0,
              "ticks": ""
             }
            },
            "type": "scattermapbox"
           }
          ],
          "scatterpolar": [
           {
            "marker": {
             "colorbar": {
              "outlinewidth": 0,
              "ticks": ""
             }
            },
            "type": "scatterpolar"
           }
          ],
          "scatterpolargl": [
           {
            "marker": {
             "colorbar": {
              "outlinewidth": 0,
              "ticks": ""
             }
            },
            "type": "scatterpolargl"
           }
          ],
          "scatterternary": [
           {
            "marker": {
             "colorbar": {
              "outlinewidth": 0,
              "ticks": ""
             }
            },
            "type": "scatterternary"
           }
          ],
          "surface": [
           {
            "colorbar": {
             "outlinewidth": 0,
             "ticks": ""
            },
            "colorscale": [
             [
              0,
              "#0d0887"
             ],
             [
              0.1111111111111111,
              "#46039f"
             ],
             [
              0.2222222222222222,
              "#7201a8"
             ],
             [
              0.3333333333333333,
              "#9c179e"
             ],
             [
              0.4444444444444444,
              "#bd3786"
             ],
             [
              0.5555555555555556,
              "#d8576b"
             ],
             [
              0.6666666666666666,
              "#ed7953"
             ],
             [
              0.7777777777777778,
              "#fb9f3a"
             ],
             [
              0.8888888888888888,
              "#fdca26"
             ],
             [
              1,
              "#f0f921"
             ]
            ],
            "type": "surface"
           }
          ],
          "table": [
           {
            "cells": {
             "fill": {
              "color": "#EBF0F8"
             },
             "line": {
              "color": "white"
             }
            },
            "header": {
             "fill": {
              "color": "#C8D4E3"
             },
             "line": {
              "color": "white"
             }
            },
            "type": "table"
           }
          ]
         },
         "layout": {
          "annotationdefaults": {
           "arrowcolor": "#2a3f5f",
           "arrowhead": 0,
           "arrowwidth": 1
          },
          "coloraxis": {
           "colorbar": {
            "outlinewidth": 0,
            "ticks": ""
           }
          },
          "colorscale": {
           "diverging": [
            [
             0,
             "#8e0152"
            ],
            [
             0.1,
             "#c51b7d"
            ],
            [
             0.2,
             "#de77ae"
            ],
            [
             0.3,
             "#f1b6da"
            ],
            [
             0.4,
             "#fde0ef"
            ],
            [
             0.5,
             "#f7f7f7"
            ],
            [
             0.6,
             "#e6f5d0"
            ],
            [
             0.7,
             "#b8e186"
            ],
            [
             0.8,
             "#7fbc41"
            ],
            [
             0.9,
             "#4d9221"
            ],
            [
             1,
             "#276419"
            ]
           ],
           "sequential": [
            [
             0,
             "#0d0887"
            ],
            [
             0.1111111111111111,
             "#46039f"
            ],
            [
             0.2222222222222222,
             "#7201a8"
            ],
            [
             0.3333333333333333,
             "#9c179e"
            ],
            [
             0.4444444444444444,
             "#bd3786"
            ],
            [
             0.5555555555555556,
             "#d8576b"
            ],
            [
             0.6666666666666666,
             "#ed7953"
            ],
            [
             0.7777777777777778,
             "#fb9f3a"
            ],
            [
             0.8888888888888888,
             "#fdca26"
            ],
            [
             1,
             "#f0f921"
            ]
           ],
           "sequentialminus": [
            [
             0,
             "#0d0887"
            ],
            [
             0.1111111111111111,
             "#46039f"
            ],
            [
             0.2222222222222222,
             "#7201a8"
            ],
            [
             0.3333333333333333,
             "#9c179e"
            ],
            [
             0.4444444444444444,
             "#bd3786"
            ],
            [
             0.5555555555555556,
             "#d8576b"
            ],
            [
             0.6666666666666666,
             "#ed7953"
            ],
            [
             0.7777777777777778,
             "#fb9f3a"
            ],
            [
             0.8888888888888888,
             "#fdca26"
            ],
            [
             1,
             "#f0f921"
            ]
           ]
          },
          "colorway": [
           "#636efa",
           "#EF553B",
           "#00cc96",
           "#ab63fa",
           "#FFA15A",
           "#19d3f3",
           "#FF6692",
           "#B6E880",
           "#FF97FF",
           "#FECB52"
          ],
          "font": {
           "color": "#2a3f5f"
          },
          "geo": {
           "bgcolor": "white",
           "lakecolor": "white",
           "landcolor": "#E5ECF6",
           "showlakes": true,
           "showland": true,
           "subunitcolor": "white"
          },
          "hoverlabel": {
           "align": "left"
          },
          "hovermode": "closest",
          "mapbox": {
           "style": "light"
          },
          "paper_bgcolor": "white",
          "plot_bgcolor": "#E5ECF6",
          "polar": {
           "angularaxis": {
            "gridcolor": "white",
            "linecolor": "white",
            "ticks": ""
           },
           "bgcolor": "#E5ECF6",
           "radialaxis": {
            "gridcolor": "white",
            "linecolor": "white",
            "ticks": ""
           }
          },
          "scene": {
           "xaxis": {
            "backgroundcolor": "#E5ECF6",
            "gridcolor": "white",
            "gridwidth": 2,
            "linecolor": "white",
            "showbackground": true,
            "ticks": "",
            "zerolinecolor": "white"
           },
           "yaxis": {
            "backgroundcolor": "#E5ECF6",
            "gridcolor": "white",
            "gridwidth": 2,
            "linecolor": "white",
            "showbackground": true,
            "ticks": "",
            "zerolinecolor": "white"
           },
           "zaxis": {
            "backgroundcolor": "#E5ECF6",
            "gridcolor": "white",
            "gridwidth": 2,
            "linecolor": "white",
            "showbackground": true,
            "ticks": "",
            "zerolinecolor": "white"
           }
          },
          "shapedefaults": {
           "line": {
            "color": "#2a3f5f"
           }
          },
          "ternary": {
           "aaxis": {
            "gridcolor": "white",
            "linecolor": "white",
            "ticks": ""
           },
           "baxis": {
            "gridcolor": "white",
            "linecolor": "white",
            "ticks": ""
           },
           "bgcolor": "#E5ECF6",
           "caxis": {
            "gridcolor": "white",
            "linecolor": "white",
            "ticks": ""
           }
          },
          "title": {
           "x": 0.05
          },
          "xaxis": {
           "automargin": true,
           "gridcolor": "white",
           "linecolor": "white",
           "ticks": "",
           "title": {
            "standoff": 15
           },
           "zerolinecolor": "white",
           "zerolinewidth": 2
          },
          "yaxis": {
           "automargin": true,
           "gridcolor": "white",
           "linecolor": "white",
           "ticks": "",
           "title": {
            "standoff": 15
           },
           "zerolinecolor": "white",
           "zerolinewidth": 2
          }
         }
        },
        "title": {
         "text": "LQR"
        }
       }
      },
      "text/html": [
       "<div>\n",
       "        \n",
       "        \n",
       "            <div id=\"9641cfa7-3803-41e8-b1ec-63b286bba644\" class=\"plotly-graph-div\" style=\"height:525px; width:100%;\"></div>\n",
       "            <script type=\"text/javascript\">\n",
       "                require([\"plotly\"], function(Plotly) {\n",
       "                    window.PLOTLYENV=window.PLOTLYENV || {};\n",
       "                    \n",
       "                if (document.getElementById(\"9641cfa7-3803-41e8-b1ec-63b286bba644\")) {\n",
       "                    Plotly.newPlot(\n",
       "                        '9641cfa7-3803-41e8-b1ec-63b286bba644',\n",
       "                        [{\"type\": \"heatmap\", \"z\": [[0.0010607934645742601, 0.000928800881276385, 0.000948755560134491, 0.0010573867766692474, 0.0011624488215570333, 0.0011766388446188805, 0.001020044347443462, 0.0006181729080438628, 0.0003507064851020165, 0.0013559565485480364], [0.002264079555544372, 0.0021464045071242985, 0.0021287560692834773, 0.0021257237880849796, 0.002036019714198934, 0.001759492511284566, 0.0012011956379163783, 0.0003546164606372055, 0.001039513964203226, 0.0024258796984733943], [0.003327906724962755, 0.003182315449930281, 0.003055060193073386, 0.0028507510122985896, 0.0024593950854117004, 0.0017769732418079132, 0.0007463709054844988, 0.0006849509332592276, 0.0021603698451107085, 0.0035174536970561886], [0.00415664411943545, 0.003912217811028689, 0.0035872562051437237, 0.0030745345317426663, 0.0022699928967095636, 0.0011172869357724978, 0.00036874654832010816, 0.0018885806771104438, 0.0032663365831484656, 0.00433509957452925], [0.004649837041647638, 0.004217702700093281, 0.0035885519393682036, 0.0026645639717410565, 0.001405779180387324, 0.00011345520734708468, 0.001644862033252625, 0.00298459181282591, 0.004004823879909467, 0.004723153623948255], [0.004723467975281073, 0.004004745791508163, 0.0029848873741661337, 0.0016448155414273316, 0.00011393045362562558, 0.0014059283734709014, 0.002664464287842058, 0.0035888139062500964, 0.004217758394950225, 0.004649820451969369], [0.0043350028132136, 0.003266332348401716, 0.001888359143591381, 0.0003686271912631713, 0.0011168972784848347, 0.002270002031357184, 0.003074638047813653, 0.0035869177306761422, 0.003911971595025124, 0.00415674453176041], [0.0035174457373465346, 0.002160193127194876, 0.000684894834381534, 0.0007464963312865966, 0.0017769728652825979, 0.0024596711782163137, 0.00285088816629625, 0.003055182001455249, 0.0031819480542132823, 0.0033275016696454377], [0.0024255824137472955, 0.0010394541660509245, 0.00035473484734526583, 0.0012011607179428653, 0.001759200127091278, 0.0020359870937965248, 0.0021258635244233736, 0.0021290734963181875, 0.002146459189251185, 0.002264194320986466], [0.0013557969133697325, 0.00035068219044459423, 0.0006181404397886414, 0.0010200533664898798, 0.0011762905296820556, 0.001162022534241684, 0.0010575698800726126, 0.0009491027733614282, 0.0009288872921105215, 0.0010604142238104]], \"zmax\": 0.2, \"zmin\": 0.0}],\n",
       "                        {\"template\": {\"data\": {\"bar\": [{\"error_x\": {\"color\": \"#2a3f5f\"}, \"error_y\": {\"color\": \"#2a3f5f\"}, \"marker\": {\"line\": {\"color\": \"#E5ECF6\", \"width\": 0.5}}, \"type\": \"bar\"}], \"barpolar\": [{\"marker\": {\"line\": {\"color\": \"#E5ECF6\", \"width\": 0.5}}, \"type\": \"barpolar\"}], \"carpet\": [{\"aaxis\": {\"endlinecolor\": \"#2a3f5f\", \"gridcolor\": \"white\", \"linecolor\": \"white\", \"minorgridcolor\": \"white\", \"startlinecolor\": \"#2a3f5f\"}, \"baxis\": {\"endlinecolor\": \"#2a3f5f\", \"gridcolor\": \"white\", \"linecolor\": \"white\", \"minorgridcolor\": \"white\", \"startlinecolor\": \"#2a3f5f\"}, \"type\": \"carpet\"}], \"choropleth\": [{\"colorbar\": {\"outlinewidth\": 0, \"ticks\": \"\"}, \"type\": \"choropleth\"}], \"contour\": [{\"colorbar\": {\"outlinewidth\": 0, \"ticks\": \"\"}, \"colorscale\": [[0.0, \"#0d0887\"], [0.1111111111111111, \"#46039f\"], [0.2222222222222222, \"#7201a8\"], [0.3333333333333333, \"#9c179e\"], [0.4444444444444444, \"#bd3786\"], [0.5555555555555556, \"#d8576b\"], [0.6666666666666666, \"#ed7953\"], [0.7777777777777778, \"#fb9f3a\"], [0.8888888888888888, \"#fdca26\"], [1.0, \"#f0f921\"]], \"type\": \"contour\"}], \"contourcarpet\": [{\"colorbar\": {\"outlinewidth\": 0, \"ticks\": \"\"}, \"type\": \"contourcarpet\"}], \"heatmap\": [{\"colorbar\": {\"outlinewidth\": 0, \"ticks\": \"\"}, \"colorscale\": [[0.0, \"#0d0887\"], [0.1111111111111111, \"#46039f\"], [0.2222222222222222, \"#7201a8\"], [0.3333333333333333, \"#9c179e\"], [0.4444444444444444, \"#bd3786\"], [0.5555555555555556, \"#d8576b\"], [0.6666666666666666, \"#ed7953\"], [0.7777777777777778, \"#fb9f3a\"], [0.8888888888888888, \"#fdca26\"], [1.0, \"#f0f921\"]], \"type\": \"heatmap\"}], \"heatmapgl\": [{\"colorbar\": {\"outlinewidth\": 0, \"ticks\": \"\"}, \"colorscale\": [[0.0, \"#0d0887\"], [0.1111111111111111, \"#46039f\"], [0.2222222222222222, \"#7201a8\"], [0.3333333333333333, \"#9c179e\"], [0.4444444444444444, \"#bd3786\"], [0.5555555555555556, \"#d8576b\"], [0.6666666666666666, \"#ed7953\"], [0.7777777777777778, \"#fb9f3a\"], [0.8888888888888888, \"#fdca26\"], [1.0, \"#f0f921\"]], \"type\": \"heatmapgl\"}], \"histogram\": [{\"marker\": {\"colorbar\": {\"outlinewidth\": 0, \"ticks\": \"\"}}, \"type\": \"histogram\"}], \"histogram2d\": [{\"colorbar\": {\"outlinewidth\": 0, \"ticks\": \"\"}, \"colorscale\": [[0.0, \"#0d0887\"], [0.1111111111111111, \"#46039f\"], [0.2222222222222222, \"#7201a8\"], [0.3333333333333333, \"#9c179e\"], [0.4444444444444444, \"#bd3786\"], [0.5555555555555556, \"#d8576b\"], [0.6666666666666666, \"#ed7953\"], [0.7777777777777778, \"#fb9f3a\"], [0.8888888888888888, \"#fdca26\"], [1.0, \"#f0f921\"]], \"type\": \"histogram2d\"}], \"histogram2dcontour\": [{\"colorbar\": {\"outlinewidth\": 0, \"ticks\": \"\"}, \"colorscale\": [[0.0, \"#0d0887\"], [0.1111111111111111, \"#46039f\"], [0.2222222222222222, \"#7201a8\"], [0.3333333333333333, \"#9c179e\"], [0.4444444444444444, \"#bd3786\"], [0.5555555555555556, \"#d8576b\"], [0.6666666666666666, \"#ed7953\"], [0.7777777777777778, \"#fb9f3a\"], [0.8888888888888888, \"#fdca26\"], [1.0, \"#f0f921\"]], \"type\": \"histogram2dcontour\"}], \"mesh3d\": [{\"colorbar\": {\"outlinewidth\": 0, \"ticks\": \"\"}, \"type\": \"mesh3d\"}], \"parcoords\": [{\"line\": {\"colorbar\": {\"outlinewidth\": 0, \"ticks\": \"\"}}, \"type\": \"parcoords\"}], \"pie\": [{\"automargin\": true, \"type\": \"pie\"}], \"scatter\": [{\"marker\": {\"colorbar\": {\"outlinewidth\": 0, \"ticks\": \"\"}}, \"type\": \"scatter\"}], \"scatter3d\": [{\"line\": {\"colorbar\": {\"outlinewidth\": 0, \"ticks\": \"\"}}, \"marker\": {\"colorbar\": {\"outlinewidth\": 0, \"ticks\": \"\"}}, \"type\": \"scatter3d\"}], \"scattercarpet\": [{\"marker\": {\"colorbar\": {\"outlinewidth\": 0, \"ticks\": \"\"}}, \"type\": \"scattercarpet\"}], \"scattergeo\": [{\"marker\": {\"colorbar\": {\"outlinewidth\": 0, \"ticks\": \"\"}}, \"type\": \"scattergeo\"}], \"scattergl\": [{\"marker\": {\"colorbar\": {\"outlinewidth\": 0, \"ticks\": \"\"}}, \"type\": \"scattergl\"}], \"scattermapbox\": [{\"marker\": {\"colorbar\": {\"outlinewidth\": 0, \"ticks\": \"\"}}, \"type\": \"scattermapbox\"}], \"scatterpolar\": [{\"marker\": {\"colorbar\": {\"outlinewidth\": 0, \"ticks\": \"\"}}, \"type\": \"scatterpolar\"}], \"scatterpolargl\": [{\"marker\": {\"colorbar\": {\"outlinewidth\": 0, \"ticks\": \"\"}}, \"type\": \"scatterpolargl\"}], \"scatterternary\": [{\"marker\": {\"colorbar\": {\"outlinewidth\": 0, \"ticks\": \"\"}}, \"type\": \"scatterternary\"}], \"surface\": [{\"colorbar\": {\"outlinewidth\": 0, \"ticks\": \"\"}, \"colorscale\": [[0.0, \"#0d0887\"], [0.1111111111111111, \"#46039f\"], [0.2222222222222222, \"#7201a8\"], [0.3333333333333333, \"#9c179e\"], [0.4444444444444444, \"#bd3786\"], [0.5555555555555556, \"#d8576b\"], [0.6666666666666666, \"#ed7953\"], [0.7777777777777778, \"#fb9f3a\"], [0.8888888888888888, \"#fdca26\"], [1.0, \"#f0f921\"]], \"type\": \"surface\"}], \"table\": [{\"cells\": {\"fill\": {\"color\": \"#EBF0F8\"}, \"line\": {\"color\": \"white\"}}, \"header\": {\"fill\": {\"color\": \"#C8D4E3\"}, \"line\": {\"color\": \"white\"}}, \"type\": \"table\"}]}, \"layout\": {\"annotationdefaults\": {\"arrowcolor\": \"#2a3f5f\", \"arrowhead\": 0, \"arrowwidth\": 1}, \"coloraxis\": {\"colorbar\": {\"outlinewidth\": 0, \"ticks\": \"\"}}, \"colorscale\": {\"diverging\": [[0, \"#8e0152\"], [0.1, \"#c51b7d\"], [0.2, \"#de77ae\"], [0.3, \"#f1b6da\"], [0.4, \"#fde0ef\"], [0.5, \"#f7f7f7\"], [0.6, \"#e6f5d0\"], [0.7, \"#b8e186\"], [0.8, \"#7fbc41\"], [0.9, \"#4d9221\"], [1, \"#276419\"]], \"sequential\": [[0.0, \"#0d0887\"], [0.1111111111111111, \"#46039f\"], [0.2222222222222222, \"#7201a8\"], [0.3333333333333333, \"#9c179e\"], [0.4444444444444444, \"#bd3786\"], [0.5555555555555556, \"#d8576b\"], [0.6666666666666666, \"#ed7953\"], [0.7777777777777778, \"#fb9f3a\"], [0.8888888888888888, \"#fdca26\"], [1.0, \"#f0f921\"]], \"sequentialminus\": [[0.0, \"#0d0887\"], [0.1111111111111111, \"#46039f\"], [0.2222222222222222, \"#7201a8\"], [0.3333333333333333, \"#9c179e\"], [0.4444444444444444, \"#bd3786\"], [0.5555555555555556, \"#d8576b\"], [0.6666666666666666, \"#ed7953\"], [0.7777777777777778, \"#fb9f3a\"], [0.8888888888888888, \"#fdca26\"], [1.0, \"#f0f921\"]]}, \"colorway\": [\"#636efa\", \"#EF553B\", \"#00cc96\", \"#ab63fa\", \"#FFA15A\", \"#19d3f3\", \"#FF6692\", \"#B6E880\", \"#FF97FF\", \"#FECB52\"], \"font\": {\"color\": \"#2a3f5f\"}, \"geo\": {\"bgcolor\": \"white\", \"lakecolor\": \"white\", \"landcolor\": \"#E5ECF6\", \"showlakes\": true, \"showland\": true, \"subunitcolor\": \"white\"}, \"hoverlabel\": {\"align\": \"left\"}, \"hovermode\": \"closest\", \"mapbox\": {\"style\": \"light\"}, \"paper_bgcolor\": \"white\", \"plot_bgcolor\": \"#E5ECF6\", \"polar\": {\"angularaxis\": {\"gridcolor\": \"white\", \"linecolor\": \"white\", \"ticks\": \"\"}, \"bgcolor\": \"#E5ECF6\", \"radialaxis\": {\"gridcolor\": \"white\", \"linecolor\": \"white\", \"ticks\": \"\"}}, \"scene\": {\"xaxis\": {\"backgroundcolor\": \"#E5ECF6\", \"gridcolor\": \"white\", \"gridwidth\": 2, \"linecolor\": \"white\", \"showbackground\": true, \"ticks\": \"\", \"zerolinecolor\": \"white\"}, \"yaxis\": {\"backgroundcolor\": \"#E5ECF6\", \"gridcolor\": \"white\", \"gridwidth\": 2, \"linecolor\": \"white\", \"showbackground\": true, \"ticks\": \"\", \"zerolinecolor\": \"white\"}, \"zaxis\": {\"backgroundcolor\": \"#E5ECF6\", \"gridcolor\": \"white\", \"gridwidth\": 2, \"linecolor\": \"white\", \"showbackground\": true, \"ticks\": \"\", \"zerolinecolor\": \"white\"}}, \"shapedefaults\": {\"line\": {\"color\": \"#2a3f5f\"}}, \"ternary\": {\"aaxis\": {\"gridcolor\": \"white\", \"linecolor\": \"white\", \"ticks\": \"\"}, \"baxis\": {\"gridcolor\": \"white\", \"linecolor\": \"white\", \"ticks\": \"\"}, \"bgcolor\": \"#E5ECF6\", \"caxis\": {\"gridcolor\": \"white\", \"linecolor\": \"white\", \"ticks\": \"\"}}, \"title\": {\"x\": 0.05}, \"xaxis\": {\"automargin\": true, \"gridcolor\": \"white\", \"linecolor\": \"white\", \"ticks\": \"\", \"title\": {\"standoff\": 15}, \"zerolinecolor\": \"white\", \"zerolinewidth\": 2}, \"yaxis\": {\"automargin\": true, \"gridcolor\": \"white\", \"linecolor\": \"white\", \"ticks\": \"\", \"title\": {\"standoff\": 15}, \"zerolinecolor\": \"white\", \"zerolinewidth\": 2}}}, \"title\": {\"text\": \"LQR\"}},\n",
       "                        {\"responsive\": true}\n",
       "                    ).then(function(){\n",
       "                            \n",
       "var gd = document.getElementById('9641cfa7-3803-41e8-b1ec-63b286bba644');\n",
       "var x = new MutationObserver(function (mutations, observer) {{\n",
       "        var display = window.getComputedStyle(gd).display;\n",
       "        if (!display || display === 'none') {{\n",
       "            console.log([gd, 'removed!']);\n",
       "            Plotly.purge(gd);\n",
       "            observer.disconnect();\n",
       "        }}\n",
       "}});\n",
       "\n",
       "// Listen for the removal of the full notebook cells\n",
       "var notebookContainer = gd.closest('#notebook-container');\n",
       "if (notebookContainer) {{\n",
       "    x.observe(notebookContainer, {childList: true});\n",
       "}}\n",
       "\n",
       "// Listen for the clearing of the current output cell\n",
       "var outputEl = gd.closest('.output');\n",
       "if (outputEl) {{\n",
       "    x.observe(outputEl, {childList: true});\n",
       "}}\n",
       "\n",
       "                        })\n",
       "                };\n",
       "                });\n",
       "            </script>\n",
       "        </div>"
      ]
     },
     "metadata": {},
     "output_type": "display_data"
    },
    {
     "data": {
      "application/vnd.plotly.v1+json": {
       "config": {
        "plotlyServerURL": "https://plot.ly"
       },
       "data": [
        {
         "type": "heatmap",
         "z": [
          [
           0.06781588516086438,
           0.06968092488780182,
           0.07028594028563002,
           0.07027494470823986,
           0.06989162202775888,
           0.06950703280904673,
           0.0697433213293338,
           0.07123841441396198,
           0.07376972801049875,
           0.07930164619459806
          ],
          [
           0.06831481525020842,
           0.06984134275472384,
           0.07022193757394278,
           0.07008986225281282,
           0.06995201624697109,
           0.07045401414799138,
           0.0718763663179492,
           0.0737892255856975,
           0.07757037802160921,
           4.2938222722242925
          ],
          [
           0.06996625118307466,
           0.07044368323948587,
           0.0705015578200616,
           0.0706343978469368,
           0.0712423749737059,
           0.07235314240895806,
           0.07348243059246082,
           0.07452376237165903,
           0.07644263010238765,
           4.031748464931841
          ],
          [
           0.07014161267097375,
           0.07055800499110207,
           0.07098214252827308,
           0.07163137245869908,
           0.07250026252184222,
           0.07331303524166617,
           0.07393530019147142,
           0.07447596751086413,
           0.07518942224672642,
           0.07649472876201523
          ],
          [
           0.07028797479531583,
           0.07089916840092288,
           0.07166467595360713,
           0.07247278337390078,
           0.07315905574340303,
           0.07367791092348717,
           0.07409343327669506,
           0.07451187159992194,
           0.07501089440019135,
           0.07553846478398307
          ],
          [
           0.0698273448962831,
           0.07098865129966551,
           0.07206128152187696,
           0.07285801580003662,
           0.07341902178597282,
           0.07385820661476462,
           0.074281701350191,
           0.07473270334798228,
           0.07516837544099415,
           0.07553398647069469
          ],
          [
           0.29619123121774554,
           0.07025802976511607,
           0.07211903697732738,
           0.0730312216320341,
           0.07363281697240312,
           0.07419885805521075,
           0.07475052058213992,
           0.07517759435516679,
           0.07550244376447082,
           0.07601145948441286
          ],
          [
           0.16332528575981528,
           0.17746089283472474,
           0.07255470910590123,
           0.07350500266930354,
           0.07431749319331309,
           0.07504657742042918,
           0.0754680200895153,
           0.07564564638667637,
           0.07609872107862178,
           0.08654245384731152
          ],
          [
           0.11521475111866417,
           0.08387690408807516,
           0.07495488083006853,
           0.07540486272933279,
           0.07604125318800367,
           0.07620854924107393,
           0.07620555163173802,
           0.07672574459708972,
           0.08235330612186627,
           0.1249898280300849
          ],
          [
           0.07879247993420081,
           0.0764776239055767,
           0.07678360881539577,
           0.07690019628424284,
           0.076492879836496,
           0.076066533685506,
           0.07597399536329982,
           0.07667467906722397,
           0.08281454446142006,
           0.10322958080833224
          ]
         ],
         "zmax": 0.2,
         "zmin": 0
        }
       ],
       "layout": {
        "template": {
         "data": {
          "bar": [
           {
            "error_x": {
             "color": "#2a3f5f"
            },
            "error_y": {
             "color": "#2a3f5f"
            },
            "marker": {
             "line": {
              "color": "#E5ECF6",
              "width": 0.5
             }
            },
            "type": "bar"
           }
          ],
          "barpolar": [
           {
            "marker": {
             "line": {
              "color": "#E5ECF6",
              "width": 0.5
             }
            },
            "type": "barpolar"
           }
          ],
          "carpet": [
           {
            "aaxis": {
             "endlinecolor": "#2a3f5f",
             "gridcolor": "white",
             "linecolor": "white",
             "minorgridcolor": "white",
             "startlinecolor": "#2a3f5f"
            },
            "baxis": {
             "endlinecolor": "#2a3f5f",
             "gridcolor": "white",
             "linecolor": "white",
             "minorgridcolor": "white",
             "startlinecolor": "#2a3f5f"
            },
            "type": "carpet"
           }
          ],
          "choropleth": [
           {
            "colorbar": {
             "outlinewidth": 0,
             "ticks": ""
            },
            "type": "choropleth"
           }
          ],
          "contour": [
           {
            "colorbar": {
             "outlinewidth": 0,
             "ticks": ""
            },
            "colorscale": [
             [
              0,
              "#0d0887"
             ],
             [
              0.1111111111111111,
              "#46039f"
             ],
             [
              0.2222222222222222,
              "#7201a8"
             ],
             [
              0.3333333333333333,
              "#9c179e"
             ],
             [
              0.4444444444444444,
              "#bd3786"
             ],
             [
              0.5555555555555556,
              "#d8576b"
             ],
             [
              0.6666666666666666,
              "#ed7953"
             ],
             [
              0.7777777777777778,
              "#fb9f3a"
             ],
             [
              0.8888888888888888,
              "#fdca26"
             ],
             [
              1,
              "#f0f921"
             ]
            ],
            "type": "contour"
           }
          ],
          "contourcarpet": [
           {
            "colorbar": {
             "outlinewidth": 0,
             "ticks": ""
            },
            "type": "contourcarpet"
           }
          ],
          "heatmap": [
           {
            "colorbar": {
             "outlinewidth": 0,
             "ticks": ""
            },
            "colorscale": [
             [
              0,
              "#0d0887"
             ],
             [
              0.1111111111111111,
              "#46039f"
             ],
             [
              0.2222222222222222,
              "#7201a8"
             ],
             [
              0.3333333333333333,
              "#9c179e"
             ],
             [
              0.4444444444444444,
              "#bd3786"
             ],
             [
              0.5555555555555556,
              "#d8576b"
             ],
             [
              0.6666666666666666,
              "#ed7953"
             ],
             [
              0.7777777777777778,
              "#fb9f3a"
             ],
             [
              0.8888888888888888,
              "#fdca26"
             ],
             [
              1,
              "#f0f921"
             ]
            ],
            "type": "heatmap"
           }
          ],
          "heatmapgl": [
           {
            "colorbar": {
             "outlinewidth": 0,
             "ticks": ""
            },
            "colorscale": [
             [
              0,
              "#0d0887"
             ],
             [
              0.1111111111111111,
              "#46039f"
             ],
             [
              0.2222222222222222,
              "#7201a8"
             ],
             [
              0.3333333333333333,
              "#9c179e"
             ],
             [
              0.4444444444444444,
              "#bd3786"
             ],
             [
              0.5555555555555556,
              "#d8576b"
             ],
             [
              0.6666666666666666,
              "#ed7953"
             ],
             [
              0.7777777777777778,
              "#fb9f3a"
             ],
             [
              0.8888888888888888,
              "#fdca26"
             ],
             [
              1,
              "#f0f921"
             ]
            ],
            "type": "heatmapgl"
           }
          ],
          "histogram": [
           {
            "marker": {
             "colorbar": {
              "outlinewidth": 0,
              "ticks": ""
             }
            },
            "type": "histogram"
           }
          ],
          "histogram2d": [
           {
            "colorbar": {
             "outlinewidth": 0,
             "ticks": ""
            },
            "colorscale": [
             [
              0,
              "#0d0887"
             ],
             [
              0.1111111111111111,
              "#46039f"
             ],
             [
              0.2222222222222222,
              "#7201a8"
             ],
             [
              0.3333333333333333,
              "#9c179e"
             ],
             [
              0.4444444444444444,
              "#bd3786"
             ],
             [
              0.5555555555555556,
              "#d8576b"
             ],
             [
              0.6666666666666666,
              "#ed7953"
             ],
             [
              0.7777777777777778,
              "#fb9f3a"
             ],
             [
              0.8888888888888888,
              "#fdca26"
             ],
             [
              1,
              "#f0f921"
             ]
            ],
            "type": "histogram2d"
           }
          ],
          "histogram2dcontour": [
           {
            "colorbar": {
             "outlinewidth": 0,
             "ticks": ""
            },
            "colorscale": [
             [
              0,
              "#0d0887"
             ],
             [
              0.1111111111111111,
              "#46039f"
             ],
             [
              0.2222222222222222,
              "#7201a8"
             ],
             [
              0.3333333333333333,
              "#9c179e"
             ],
             [
              0.4444444444444444,
              "#bd3786"
             ],
             [
              0.5555555555555556,
              "#d8576b"
             ],
             [
              0.6666666666666666,
              "#ed7953"
             ],
             [
              0.7777777777777778,
              "#fb9f3a"
             ],
             [
              0.8888888888888888,
              "#fdca26"
             ],
             [
              1,
              "#f0f921"
             ]
            ],
            "type": "histogram2dcontour"
           }
          ],
          "mesh3d": [
           {
            "colorbar": {
             "outlinewidth": 0,
             "ticks": ""
            },
            "type": "mesh3d"
           }
          ],
          "parcoords": [
           {
            "line": {
             "colorbar": {
              "outlinewidth": 0,
              "ticks": ""
             }
            },
            "type": "parcoords"
           }
          ],
          "pie": [
           {
            "automargin": true,
            "type": "pie"
           }
          ],
          "scatter": [
           {
            "marker": {
             "colorbar": {
              "outlinewidth": 0,
              "ticks": ""
             }
            },
            "type": "scatter"
           }
          ],
          "scatter3d": [
           {
            "line": {
             "colorbar": {
              "outlinewidth": 0,
              "ticks": ""
             }
            },
            "marker": {
             "colorbar": {
              "outlinewidth": 0,
              "ticks": ""
             }
            },
            "type": "scatter3d"
           }
          ],
          "scattercarpet": [
           {
            "marker": {
             "colorbar": {
              "outlinewidth": 0,
              "ticks": ""
             }
            },
            "type": "scattercarpet"
           }
          ],
          "scattergeo": [
           {
            "marker": {
             "colorbar": {
              "outlinewidth": 0,
              "ticks": ""
             }
            },
            "type": "scattergeo"
           }
          ],
          "scattergl": [
           {
            "marker": {
             "colorbar": {
              "outlinewidth": 0,
              "ticks": ""
             }
            },
            "type": "scattergl"
           }
          ],
          "scattermapbox": [
           {
            "marker": {
             "colorbar": {
              "outlinewidth": 0,
              "ticks": ""
             }
            },
            "type": "scattermapbox"
           }
          ],
          "scatterpolar": [
           {
            "marker": {
             "colorbar": {
              "outlinewidth": 0,
              "ticks": ""
             }
            },
            "type": "scatterpolar"
           }
          ],
          "scatterpolargl": [
           {
            "marker": {
             "colorbar": {
              "outlinewidth": 0,
              "ticks": ""
             }
            },
            "type": "scatterpolargl"
           }
          ],
          "scatterternary": [
           {
            "marker": {
             "colorbar": {
              "outlinewidth": 0,
              "ticks": ""
             }
            },
            "type": "scatterternary"
           }
          ],
          "surface": [
           {
            "colorbar": {
             "outlinewidth": 0,
             "ticks": ""
            },
            "colorscale": [
             [
              0,
              "#0d0887"
             ],
             [
              0.1111111111111111,
              "#46039f"
             ],
             [
              0.2222222222222222,
              "#7201a8"
             ],
             [
              0.3333333333333333,
              "#9c179e"
             ],
             [
              0.4444444444444444,
              "#bd3786"
             ],
             [
              0.5555555555555556,
              "#d8576b"
             ],
             [
              0.6666666666666666,
              "#ed7953"
             ],
             [
              0.7777777777777778,
              "#fb9f3a"
             ],
             [
              0.8888888888888888,
              "#fdca26"
             ],
             [
              1,
              "#f0f921"
             ]
            ],
            "type": "surface"
           }
          ],
          "table": [
           {
            "cells": {
             "fill": {
              "color": "#EBF0F8"
             },
             "line": {
              "color": "white"
             }
            },
            "header": {
             "fill": {
              "color": "#C8D4E3"
             },
             "line": {
              "color": "white"
             }
            },
            "type": "table"
           }
          ]
         },
         "layout": {
          "annotationdefaults": {
           "arrowcolor": "#2a3f5f",
           "arrowhead": 0,
           "arrowwidth": 1
          },
          "coloraxis": {
           "colorbar": {
            "outlinewidth": 0,
            "ticks": ""
           }
          },
          "colorscale": {
           "diverging": [
            [
             0,
             "#8e0152"
            ],
            [
             0.1,
             "#c51b7d"
            ],
            [
             0.2,
             "#de77ae"
            ],
            [
             0.3,
             "#f1b6da"
            ],
            [
             0.4,
             "#fde0ef"
            ],
            [
             0.5,
             "#f7f7f7"
            ],
            [
             0.6,
             "#e6f5d0"
            ],
            [
             0.7,
             "#b8e186"
            ],
            [
             0.8,
             "#7fbc41"
            ],
            [
             0.9,
             "#4d9221"
            ],
            [
             1,
             "#276419"
            ]
           ],
           "sequential": [
            [
             0,
             "#0d0887"
            ],
            [
             0.1111111111111111,
             "#46039f"
            ],
            [
             0.2222222222222222,
             "#7201a8"
            ],
            [
             0.3333333333333333,
             "#9c179e"
            ],
            [
             0.4444444444444444,
             "#bd3786"
            ],
            [
             0.5555555555555556,
             "#d8576b"
            ],
            [
             0.6666666666666666,
             "#ed7953"
            ],
            [
             0.7777777777777778,
             "#fb9f3a"
            ],
            [
             0.8888888888888888,
             "#fdca26"
            ],
            [
             1,
             "#f0f921"
            ]
           ],
           "sequentialminus": [
            [
             0,
             "#0d0887"
            ],
            [
             0.1111111111111111,
             "#46039f"
            ],
            [
             0.2222222222222222,
             "#7201a8"
            ],
            [
             0.3333333333333333,
             "#9c179e"
            ],
            [
             0.4444444444444444,
             "#bd3786"
            ],
            [
             0.5555555555555556,
             "#d8576b"
            ],
            [
             0.6666666666666666,
             "#ed7953"
            ],
            [
             0.7777777777777778,
             "#fb9f3a"
            ],
            [
             0.8888888888888888,
             "#fdca26"
            ],
            [
             1,
             "#f0f921"
            ]
           ]
          },
          "colorway": [
           "#636efa",
           "#EF553B",
           "#00cc96",
           "#ab63fa",
           "#FFA15A",
           "#19d3f3",
           "#FF6692",
           "#B6E880",
           "#FF97FF",
           "#FECB52"
          ],
          "font": {
           "color": "#2a3f5f"
          },
          "geo": {
           "bgcolor": "white",
           "lakecolor": "white",
           "landcolor": "#E5ECF6",
           "showlakes": true,
           "showland": true,
           "subunitcolor": "white"
          },
          "hoverlabel": {
           "align": "left"
          },
          "hovermode": "closest",
          "mapbox": {
           "style": "light"
          },
          "paper_bgcolor": "white",
          "plot_bgcolor": "#E5ECF6",
          "polar": {
           "angularaxis": {
            "gridcolor": "white",
            "linecolor": "white",
            "ticks": ""
           },
           "bgcolor": "#E5ECF6",
           "radialaxis": {
            "gridcolor": "white",
            "linecolor": "white",
            "ticks": ""
           }
          },
          "scene": {
           "xaxis": {
            "backgroundcolor": "#E5ECF6",
            "gridcolor": "white",
            "gridwidth": 2,
            "linecolor": "white",
            "showbackground": true,
            "ticks": "",
            "zerolinecolor": "white"
           },
           "yaxis": {
            "backgroundcolor": "#E5ECF6",
            "gridcolor": "white",
            "gridwidth": 2,
            "linecolor": "white",
            "showbackground": true,
            "ticks": "",
            "zerolinecolor": "white"
           },
           "zaxis": {
            "backgroundcolor": "#E5ECF6",
            "gridcolor": "white",
            "gridwidth": 2,
            "linecolor": "white",
            "showbackground": true,
            "ticks": "",
            "zerolinecolor": "white"
           }
          },
          "shapedefaults": {
           "line": {
            "color": "#2a3f5f"
           }
          },
          "ternary": {
           "aaxis": {
            "gridcolor": "white",
            "linecolor": "white",
            "ticks": ""
           },
           "baxis": {
            "gridcolor": "white",
            "linecolor": "white",
            "ticks": ""
           },
           "bgcolor": "#E5ECF6",
           "caxis": {
            "gridcolor": "white",
            "linecolor": "white",
            "ticks": ""
           }
          },
          "title": {
           "x": 0.05
          },
          "xaxis": {
           "automargin": true,
           "gridcolor": "white",
           "linecolor": "white",
           "ticks": "",
           "title": {
            "standoff": 15
           },
           "zerolinecolor": "white",
           "zerolinewidth": 2
          },
          "yaxis": {
           "automargin": true,
           "gridcolor": "white",
           "linecolor": "white",
           "ticks": "",
           "title": {
            "standoff": 15
           },
           "zerolinecolor": "white",
           "zerolinewidth": 2
          }
         }
        },
        "title": {
         "text": "Policy"
        }
       }
      },
      "text/html": [
       "<div>\n",
       "        \n",
       "        \n",
       "            <div id=\"f08909a4-72ff-49de-a53c-4d98a4a9db0f\" class=\"plotly-graph-div\" style=\"height:525px; width:100%;\"></div>\n",
       "            <script type=\"text/javascript\">\n",
       "                require([\"plotly\"], function(Plotly) {\n",
       "                    window.PLOTLYENV=window.PLOTLYENV || {};\n",
       "                    \n",
       "                if (document.getElementById(\"f08909a4-72ff-49de-a53c-4d98a4a9db0f\")) {\n",
       "                    Plotly.newPlot(\n",
       "                        'f08909a4-72ff-49de-a53c-4d98a4a9db0f',\n",
       "                        [{\"type\": \"heatmap\", \"z\": [[0.06781588516086438, 0.06968092488780182, 0.07028594028563002, 0.07027494470823986, 0.06989162202775888, 0.06950703280904673, 0.0697433213293338, 0.07123841441396198, 0.07376972801049875, 0.07930164619459806], [0.06831481525020842, 0.06984134275472384, 0.07022193757394278, 0.07008986225281282, 0.06995201624697109, 0.07045401414799138, 0.0718763663179492, 0.0737892255856975, 0.07757037802160921, 4.2938222722242925], [0.06996625118307466, 0.07044368323948587, 0.0705015578200616, 0.0706343978469368, 0.0712423749737059, 0.07235314240895806, 0.07348243059246082, 0.07452376237165903, 0.07644263010238765, 4.031748464931841], [0.07014161267097375, 0.07055800499110207, 0.07098214252827308, 0.07163137245869908, 0.07250026252184222, 0.07331303524166617, 0.07393530019147142, 0.07447596751086413, 0.07518942224672642, 0.07649472876201523], [0.07028797479531583, 0.07089916840092288, 0.07166467595360713, 0.07247278337390078, 0.07315905574340303, 0.07367791092348717, 0.07409343327669506, 0.07451187159992194, 0.07501089440019135, 0.07553846478398307], [0.0698273448962831, 0.07098865129966551, 0.07206128152187696, 0.07285801580003662, 0.07341902178597282, 0.07385820661476462, 0.074281701350191, 0.07473270334798228, 0.07516837544099415, 0.07553398647069469], [0.29619123121774554, 0.07025802976511607, 0.07211903697732738, 0.0730312216320341, 0.07363281697240312, 0.07419885805521075, 0.07475052058213992, 0.07517759435516679, 0.07550244376447082, 0.07601145948441286], [0.16332528575981528, 0.17746089283472474, 0.07255470910590123, 0.07350500266930354, 0.07431749319331309, 0.07504657742042918, 0.0754680200895153, 0.07564564638667637, 0.07609872107862178, 0.08654245384731152], [0.11521475111866417, 0.08387690408807516, 0.07495488083006853, 0.07540486272933279, 0.07604125318800367, 0.07620854924107393, 0.07620555163173802, 0.07672574459708972, 0.08235330612186627, 0.1249898280300849], [0.07879247993420081, 0.0764776239055767, 0.07678360881539577, 0.07690019628424284, 0.076492879836496, 0.076066533685506, 0.07597399536329982, 0.07667467906722397, 0.08281454446142006, 0.10322958080833224]], \"zmax\": 0.2, \"zmin\": 0.0}],\n",
       "                        {\"template\": {\"data\": {\"bar\": [{\"error_x\": {\"color\": \"#2a3f5f\"}, \"error_y\": {\"color\": \"#2a3f5f\"}, \"marker\": {\"line\": {\"color\": \"#E5ECF6\", \"width\": 0.5}}, \"type\": \"bar\"}], \"barpolar\": [{\"marker\": {\"line\": {\"color\": \"#E5ECF6\", \"width\": 0.5}}, \"type\": \"barpolar\"}], \"carpet\": [{\"aaxis\": {\"endlinecolor\": \"#2a3f5f\", \"gridcolor\": \"white\", \"linecolor\": \"white\", \"minorgridcolor\": \"white\", \"startlinecolor\": \"#2a3f5f\"}, \"baxis\": {\"endlinecolor\": \"#2a3f5f\", \"gridcolor\": \"white\", \"linecolor\": \"white\", \"minorgridcolor\": \"white\", \"startlinecolor\": \"#2a3f5f\"}, \"type\": \"carpet\"}], \"choropleth\": [{\"colorbar\": {\"outlinewidth\": 0, \"ticks\": \"\"}, \"type\": \"choropleth\"}], \"contour\": [{\"colorbar\": {\"outlinewidth\": 0, \"ticks\": \"\"}, \"colorscale\": [[0.0, \"#0d0887\"], [0.1111111111111111, \"#46039f\"], [0.2222222222222222, \"#7201a8\"], [0.3333333333333333, \"#9c179e\"], [0.4444444444444444, \"#bd3786\"], [0.5555555555555556, \"#d8576b\"], [0.6666666666666666, \"#ed7953\"], [0.7777777777777778, \"#fb9f3a\"], [0.8888888888888888, \"#fdca26\"], [1.0, \"#f0f921\"]], \"type\": \"contour\"}], \"contourcarpet\": [{\"colorbar\": {\"outlinewidth\": 0, \"ticks\": \"\"}, \"type\": \"contourcarpet\"}], \"heatmap\": [{\"colorbar\": {\"outlinewidth\": 0, \"ticks\": \"\"}, \"colorscale\": [[0.0, \"#0d0887\"], [0.1111111111111111, \"#46039f\"], [0.2222222222222222, \"#7201a8\"], [0.3333333333333333, \"#9c179e\"], [0.4444444444444444, \"#bd3786\"], [0.5555555555555556, \"#d8576b\"], [0.6666666666666666, \"#ed7953\"], [0.7777777777777778, \"#fb9f3a\"], [0.8888888888888888, \"#fdca26\"], [1.0, \"#f0f921\"]], \"type\": \"heatmap\"}], \"heatmapgl\": [{\"colorbar\": {\"outlinewidth\": 0, \"ticks\": \"\"}, \"colorscale\": [[0.0, \"#0d0887\"], [0.1111111111111111, \"#46039f\"], [0.2222222222222222, \"#7201a8\"], [0.3333333333333333, \"#9c179e\"], [0.4444444444444444, \"#bd3786\"], [0.5555555555555556, \"#d8576b\"], [0.6666666666666666, \"#ed7953\"], [0.7777777777777778, \"#fb9f3a\"], [0.8888888888888888, \"#fdca26\"], [1.0, \"#f0f921\"]], \"type\": \"heatmapgl\"}], \"histogram\": [{\"marker\": {\"colorbar\": {\"outlinewidth\": 0, \"ticks\": \"\"}}, \"type\": \"histogram\"}], \"histogram2d\": [{\"colorbar\": {\"outlinewidth\": 0, \"ticks\": \"\"}, \"colorscale\": [[0.0, \"#0d0887\"], [0.1111111111111111, \"#46039f\"], [0.2222222222222222, \"#7201a8\"], [0.3333333333333333, \"#9c179e\"], [0.4444444444444444, \"#bd3786\"], [0.5555555555555556, \"#d8576b\"], [0.6666666666666666, \"#ed7953\"], [0.7777777777777778, \"#fb9f3a\"], [0.8888888888888888, \"#fdca26\"], [1.0, \"#f0f921\"]], \"type\": \"histogram2d\"}], \"histogram2dcontour\": [{\"colorbar\": {\"outlinewidth\": 0, \"ticks\": \"\"}, \"colorscale\": [[0.0, \"#0d0887\"], [0.1111111111111111, \"#46039f\"], [0.2222222222222222, \"#7201a8\"], [0.3333333333333333, \"#9c179e\"], [0.4444444444444444, \"#bd3786\"], [0.5555555555555556, \"#d8576b\"], [0.6666666666666666, \"#ed7953\"], [0.7777777777777778, \"#fb9f3a\"], [0.8888888888888888, \"#fdca26\"], [1.0, \"#f0f921\"]], \"type\": \"histogram2dcontour\"}], \"mesh3d\": [{\"colorbar\": {\"outlinewidth\": 0, \"ticks\": \"\"}, \"type\": \"mesh3d\"}], \"parcoords\": [{\"line\": {\"colorbar\": {\"outlinewidth\": 0, \"ticks\": \"\"}}, \"type\": \"parcoords\"}], \"pie\": [{\"automargin\": true, \"type\": \"pie\"}], \"scatter\": [{\"marker\": {\"colorbar\": {\"outlinewidth\": 0, \"ticks\": \"\"}}, \"type\": \"scatter\"}], \"scatter3d\": [{\"line\": {\"colorbar\": {\"outlinewidth\": 0, \"ticks\": \"\"}}, \"marker\": {\"colorbar\": {\"outlinewidth\": 0, \"ticks\": \"\"}}, \"type\": \"scatter3d\"}], \"scattercarpet\": [{\"marker\": {\"colorbar\": {\"outlinewidth\": 0, \"ticks\": \"\"}}, \"type\": \"scattercarpet\"}], \"scattergeo\": [{\"marker\": {\"colorbar\": {\"outlinewidth\": 0, \"ticks\": \"\"}}, \"type\": \"scattergeo\"}], \"scattergl\": [{\"marker\": {\"colorbar\": {\"outlinewidth\": 0, \"ticks\": \"\"}}, \"type\": \"scattergl\"}], \"scattermapbox\": [{\"marker\": {\"colorbar\": {\"outlinewidth\": 0, \"ticks\": \"\"}}, \"type\": \"scattermapbox\"}], \"scatterpolar\": [{\"marker\": {\"colorbar\": {\"outlinewidth\": 0, \"ticks\": \"\"}}, \"type\": \"scatterpolar\"}], \"scatterpolargl\": [{\"marker\": {\"colorbar\": {\"outlinewidth\": 0, \"ticks\": \"\"}}, \"type\": \"scatterpolargl\"}], \"scatterternary\": [{\"marker\": {\"colorbar\": {\"outlinewidth\": 0, \"ticks\": \"\"}}, \"type\": \"scatterternary\"}], \"surface\": [{\"colorbar\": {\"outlinewidth\": 0, \"ticks\": \"\"}, \"colorscale\": [[0.0, \"#0d0887\"], [0.1111111111111111, \"#46039f\"], [0.2222222222222222, \"#7201a8\"], [0.3333333333333333, \"#9c179e\"], [0.4444444444444444, \"#bd3786\"], [0.5555555555555556, \"#d8576b\"], [0.6666666666666666, \"#ed7953\"], [0.7777777777777778, \"#fb9f3a\"], [0.8888888888888888, \"#fdca26\"], [1.0, \"#f0f921\"]], \"type\": \"surface\"}], \"table\": [{\"cells\": {\"fill\": {\"color\": \"#EBF0F8\"}, \"line\": {\"color\": \"white\"}}, \"header\": {\"fill\": {\"color\": \"#C8D4E3\"}, \"line\": {\"color\": \"white\"}}, \"type\": \"table\"}]}, \"layout\": {\"annotationdefaults\": {\"arrowcolor\": \"#2a3f5f\", \"arrowhead\": 0, \"arrowwidth\": 1}, \"coloraxis\": {\"colorbar\": {\"outlinewidth\": 0, \"ticks\": \"\"}}, \"colorscale\": {\"diverging\": [[0, \"#8e0152\"], [0.1, \"#c51b7d\"], [0.2, \"#de77ae\"], [0.3, \"#f1b6da\"], [0.4, \"#fde0ef\"], [0.5, \"#f7f7f7\"], [0.6, \"#e6f5d0\"], [0.7, \"#b8e186\"], [0.8, \"#7fbc41\"], [0.9, \"#4d9221\"], [1, \"#276419\"]], \"sequential\": [[0.0, \"#0d0887\"], [0.1111111111111111, \"#46039f\"], [0.2222222222222222, \"#7201a8\"], [0.3333333333333333, \"#9c179e\"], [0.4444444444444444, \"#bd3786\"], [0.5555555555555556, \"#d8576b\"], [0.6666666666666666, \"#ed7953\"], [0.7777777777777778, \"#fb9f3a\"], [0.8888888888888888, \"#fdca26\"], [1.0, \"#f0f921\"]], \"sequentialminus\": [[0.0, \"#0d0887\"], [0.1111111111111111, \"#46039f\"], [0.2222222222222222, \"#7201a8\"], [0.3333333333333333, \"#9c179e\"], [0.4444444444444444, \"#bd3786\"], [0.5555555555555556, \"#d8576b\"], [0.6666666666666666, \"#ed7953\"], [0.7777777777777778, \"#fb9f3a\"], [0.8888888888888888, \"#fdca26\"], [1.0, \"#f0f921\"]]}, \"colorway\": [\"#636efa\", \"#EF553B\", \"#00cc96\", \"#ab63fa\", \"#FFA15A\", \"#19d3f3\", \"#FF6692\", \"#B6E880\", \"#FF97FF\", \"#FECB52\"], \"font\": {\"color\": \"#2a3f5f\"}, \"geo\": {\"bgcolor\": \"white\", \"lakecolor\": \"white\", \"landcolor\": \"#E5ECF6\", \"showlakes\": true, \"showland\": true, \"subunitcolor\": \"white\"}, \"hoverlabel\": {\"align\": \"left\"}, \"hovermode\": \"closest\", \"mapbox\": {\"style\": \"light\"}, \"paper_bgcolor\": \"white\", \"plot_bgcolor\": \"#E5ECF6\", \"polar\": {\"angularaxis\": {\"gridcolor\": \"white\", \"linecolor\": \"white\", \"ticks\": \"\"}, \"bgcolor\": \"#E5ECF6\", \"radialaxis\": {\"gridcolor\": \"white\", \"linecolor\": \"white\", \"ticks\": \"\"}}, \"scene\": {\"xaxis\": {\"backgroundcolor\": \"#E5ECF6\", \"gridcolor\": \"white\", \"gridwidth\": 2, \"linecolor\": \"white\", \"showbackground\": true, \"ticks\": \"\", \"zerolinecolor\": \"white\"}, \"yaxis\": {\"backgroundcolor\": \"#E5ECF6\", \"gridcolor\": \"white\", \"gridwidth\": 2, \"linecolor\": \"white\", \"showbackground\": true, \"ticks\": \"\", \"zerolinecolor\": \"white\"}, \"zaxis\": {\"backgroundcolor\": \"#E5ECF6\", \"gridcolor\": \"white\", \"gridwidth\": 2, \"linecolor\": \"white\", \"showbackground\": true, \"ticks\": \"\", \"zerolinecolor\": \"white\"}}, \"shapedefaults\": {\"line\": {\"color\": \"#2a3f5f\"}}, \"ternary\": {\"aaxis\": {\"gridcolor\": \"white\", \"linecolor\": \"white\", \"ticks\": \"\"}, \"baxis\": {\"gridcolor\": \"white\", \"linecolor\": \"white\", \"ticks\": \"\"}, \"bgcolor\": \"#E5ECF6\", \"caxis\": {\"gridcolor\": \"white\", \"linecolor\": \"white\", \"ticks\": \"\"}}, \"title\": {\"x\": 0.05}, \"xaxis\": {\"automargin\": true, \"gridcolor\": \"white\", \"linecolor\": \"white\", \"ticks\": \"\", \"title\": {\"standoff\": 15}, \"zerolinecolor\": \"white\", \"zerolinewidth\": 2}, \"yaxis\": {\"automargin\": true, \"gridcolor\": \"white\", \"linecolor\": \"white\", \"ticks\": \"\", \"title\": {\"standoff\": 15}, \"zerolinecolor\": \"white\", \"zerolinewidth\": 2}}}, \"title\": {\"text\": \"Policy\"}},\n",
       "                        {\"responsive\": true}\n",
       "                    ).then(function(){\n",
       "                            \n",
       "var gd = document.getElementById('f08909a4-72ff-49de-a53c-4d98a4a9db0f');\n",
       "var x = new MutationObserver(function (mutations, observer) {{\n",
       "        var display = window.getComputedStyle(gd).display;\n",
       "        if (!display || display === 'none') {{\n",
       "            console.log([gd, 'removed!']);\n",
       "            Plotly.purge(gd);\n",
       "            observer.disconnect();\n",
       "        }}\n",
       "}});\n",
       "\n",
       "// Listen for the removal of the full notebook cells\n",
       "var notebookContainer = gd.closest('#notebook-container');\n",
       "if (notebookContainer) {{\n",
       "    x.observe(notebookContainer, {childList: true});\n",
       "}}\n",
       "\n",
       "// Listen for the clearing of the current output cell\n",
       "var outputEl = gd.closest('.output');\n",
       "if (outputEl) {{\n",
       "    x.observe(outputEl, {childList: true});\n",
       "}}\n",
       "\n",
       "                        })\n",
       "                };\n",
       "                });\n",
       "            </script>\n",
       "        </div>"
      ]
     },
     "metadata": {},
     "output_type": "display_data"
    },
    {
     "data": {
      "application/vnd.plotly.v1+json": {
       "config": {
        "plotlyServerURL": "https://plot.ly"
       },
       "data": [
        {
         "type": "heatmap",
         "z": [
          [
           0.07424914044578486,
           0.0617511158037515,
           0.057788153823830846,
           0.0582290618701995,
           0.059242479271627305,
           0.059174199423316955,
           0.05746526227390951,
           0.05168469434055243,
           0.0376271227171087,
           0.051358841889493634
          ],
          [
           0.06498616899712739,
           0.05561457799546824,
           0.05363065894502875,
           0.05352835234248778,
           0.05282510860378181,
           0.05055919411742513,
           0.04557945954322168,
           0.03705621176296847,
           0.026351874557373058,
           3.9494511719142302
          ],
          [
           0.05147072450724033,
           0.048325433161703915,
           0.047226432968152036,
           0.0459616285483205,
           0.043621825113512445,
           0.0399732209207572,
           0.035624297977581834,
           0.03137964898860733,
           0.026614775704175,
           4.04354563509533
          ],
          [
           0.04716963968928684,
           0.04476500099440008,
           0.042545414259020434,
           0.04003367373072073,
           0.03721513093715709,
           0.03452195481996435,
           0.03236793147193576,
           0.030651138685277718,
           0.02874149132126626,
           0.02658668699318212
          ],
          [
           0.04465601288664701,
           0.041969378928415034,
           0.03904737251937862,
           0.036330220998508564,
           0.03418502712291979,
           0.032638116460692985,
           0.031502542024538414,
           0.03049421579976121,
           0.029448010132667346,
           0.028527897254143154
          ],
          [
           0.10332993036374478,
           0.04186720257924253,
           0.03728218237636398,
           0.0346525677163864,
           0.03299611470725228,
           0.03179635254038628,
           0.030777401438096944,
           0.029892016046389178,
           0.029235086432226033,
           0.028839815688123906
          ],
          [
           0.3838405909819719,
           0.5032391719529659,
           0.03661674802321588,
           0.03346974400550169,
           0.03186635370521936,
           0.03052502249253536,
           0.029478303657808763,
           0.02889352504195016,
           0.028652672780610705,
           0.028448834722321865
          ],
          [
           0.19750475705472711,
           0.21747172750526794,
           0.28274113713654486,
           0.030443613093799192,
           0.029473979412818322,
           0.028473480382463015,
           0.02788822636572175,
           0.02762845164507772,
           0.027425171397604878,
           0.037904322822185685
          ],
          [
           0.11240482364294012,
           0.11572037083874265,
           0.03325033983009375,
           0.026996471563716706,
           0.026983245777828943,
           0.0268899509066568,
           0.026945054346706968,
           0.02733347549145174,
           0.05171711345891853,
           0.16698123505271936
          ],
          [
           0.052084660248087146,
           0.03244784832556577,
           0.02738997959440635,
           0.027016850900010922,
           0.027190945102515608,
           0.027727709051126505,
           0.028511744411737393,
           0.03281140668168242,
           0.09792257978141707,
           0.10616440590224024
          ]
         ],
         "zmax": 0.2,
         "zmin": 0
        }
       ],
       "layout": {
        "template": {
         "data": {
          "bar": [
           {
            "error_x": {
             "color": "#2a3f5f"
            },
            "error_y": {
             "color": "#2a3f5f"
            },
            "marker": {
             "line": {
              "color": "#E5ECF6",
              "width": 0.5
             }
            },
            "type": "bar"
           }
          ],
          "barpolar": [
           {
            "marker": {
             "line": {
              "color": "#E5ECF6",
              "width": 0.5
             }
            },
            "type": "barpolar"
           }
          ],
          "carpet": [
           {
            "aaxis": {
             "endlinecolor": "#2a3f5f",
             "gridcolor": "white",
             "linecolor": "white",
             "minorgridcolor": "white",
             "startlinecolor": "#2a3f5f"
            },
            "baxis": {
             "endlinecolor": "#2a3f5f",
             "gridcolor": "white",
             "linecolor": "white",
             "minorgridcolor": "white",
             "startlinecolor": "#2a3f5f"
            },
            "type": "carpet"
           }
          ],
          "choropleth": [
           {
            "colorbar": {
             "outlinewidth": 0,
             "ticks": ""
            },
            "type": "choropleth"
           }
          ],
          "contour": [
           {
            "colorbar": {
             "outlinewidth": 0,
             "ticks": ""
            },
            "colorscale": [
             [
              0,
              "#0d0887"
             ],
             [
              0.1111111111111111,
              "#46039f"
             ],
             [
              0.2222222222222222,
              "#7201a8"
             ],
             [
              0.3333333333333333,
              "#9c179e"
             ],
             [
              0.4444444444444444,
              "#bd3786"
             ],
             [
              0.5555555555555556,
              "#d8576b"
             ],
             [
              0.6666666666666666,
              "#ed7953"
             ],
             [
              0.7777777777777778,
              "#fb9f3a"
             ],
             [
              0.8888888888888888,
              "#fdca26"
             ],
             [
              1,
              "#f0f921"
             ]
            ],
            "type": "contour"
           }
          ],
          "contourcarpet": [
           {
            "colorbar": {
             "outlinewidth": 0,
             "ticks": ""
            },
            "type": "contourcarpet"
           }
          ],
          "heatmap": [
           {
            "colorbar": {
             "outlinewidth": 0,
             "ticks": ""
            },
            "colorscale": [
             [
              0,
              "#0d0887"
             ],
             [
              0.1111111111111111,
              "#46039f"
             ],
             [
              0.2222222222222222,
              "#7201a8"
             ],
             [
              0.3333333333333333,
              "#9c179e"
             ],
             [
              0.4444444444444444,
              "#bd3786"
             ],
             [
              0.5555555555555556,
              "#d8576b"
             ],
             [
              0.6666666666666666,
              "#ed7953"
             ],
             [
              0.7777777777777778,
              "#fb9f3a"
             ],
             [
              0.8888888888888888,
              "#fdca26"
             ],
             [
              1,
              "#f0f921"
             ]
            ],
            "type": "heatmap"
           }
          ],
          "heatmapgl": [
           {
            "colorbar": {
             "outlinewidth": 0,
             "ticks": ""
            },
            "colorscale": [
             [
              0,
              "#0d0887"
             ],
             [
              0.1111111111111111,
              "#46039f"
             ],
             [
              0.2222222222222222,
              "#7201a8"
             ],
             [
              0.3333333333333333,
              "#9c179e"
             ],
             [
              0.4444444444444444,
              "#bd3786"
             ],
             [
              0.5555555555555556,
              "#d8576b"
             ],
             [
              0.6666666666666666,
              "#ed7953"
             ],
             [
              0.7777777777777778,
              "#fb9f3a"
             ],
             [
              0.8888888888888888,
              "#fdca26"
             ],
             [
              1,
              "#f0f921"
             ]
            ],
            "type": "heatmapgl"
           }
          ],
          "histogram": [
           {
            "marker": {
             "colorbar": {
              "outlinewidth": 0,
              "ticks": ""
             }
            },
            "type": "histogram"
           }
          ],
          "histogram2d": [
           {
            "colorbar": {
             "outlinewidth": 0,
             "ticks": ""
            },
            "colorscale": [
             [
              0,
              "#0d0887"
             ],
             [
              0.1111111111111111,
              "#46039f"
             ],
             [
              0.2222222222222222,
              "#7201a8"
             ],
             [
              0.3333333333333333,
              "#9c179e"
             ],
             [
              0.4444444444444444,
              "#bd3786"
             ],
             [
              0.5555555555555556,
              "#d8576b"
             ],
             [
              0.6666666666666666,
              "#ed7953"
             ],
             [
              0.7777777777777778,
              "#fb9f3a"
             ],
             [
              0.8888888888888888,
              "#fdca26"
             ],
             [
              1,
              "#f0f921"
             ]
            ],
            "type": "histogram2d"
           }
          ],
          "histogram2dcontour": [
           {
            "colorbar": {
             "outlinewidth": 0,
             "ticks": ""
            },
            "colorscale": [
             [
              0,
              "#0d0887"
             ],
             [
              0.1111111111111111,
              "#46039f"
             ],
             [
              0.2222222222222222,
              "#7201a8"
             ],
             [
              0.3333333333333333,
              "#9c179e"
             ],
             [
              0.4444444444444444,
              "#bd3786"
             ],
             [
              0.5555555555555556,
              "#d8576b"
             ],
             [
              0.6666666666666666,
              "#ed7953"
             ],
             [
              0.7777777777777778,
              "#fb9f3a"
             ],
             [
              0.8888888888888888,
              "#fdca26"
             ],
             [
              1,
              "#f0f921"
             ]
            ],
            "type": "histogram2dcontour"
           }
          ],
          "mesh3d": [
           {
            "colorbar": {
             "outlinewidth": 0,
             "ticks": ""
            },
            "type": "mesh3d"
           }
          ],
          "parcoords": [
           {
            "line": {
             "colorbar": {
              "outlinewidth": 0,
              "ticks": ""
             }
            },
            "type": "parcoords"
           }
          ],
          "pie": [
           {
            "automargin": true,
            "type": "pie"
           }
          ],
          "scatter": [
           {
            "marker": {
             "colorbar": {
              "outlinewidth": 0,
              "ticks": ""
             }
            },
            "type": "scatter"
           }
          ],
          "scatter3d": [
           {
            "line": {
             "colorbar": {
              "outlinewidth": 0,
              "ticks": ""
             }
            },
            "marker": {
             "colorbar": {
              "outlinewidth": 0,
              "ticks": ""
             }
            },
            "type": "scatter3d"
           }
          ],
          "scattercarpet": [
           {
            "marker": {
             "colorbar": {
              "outlinewidth": 0,
              "ticks": ""
             }
            },
            "type": "scattercarpet"
           }
          ],
          "scattergeo": [
           {
            "marker": {
             "colorbar": {
              "outlinewidth": 0,
              "ticks": ""
             }
            },
            "type": "scattergeo"
           }
          ],
          "scattergl": [
           {
            "marker": {
             "colorbar": {
              "outlinewidth": 0,
              "ticks": ""
             }
            },
            "type": "scattergl"
           }
          ],
          "scattermapbox": [
           {
            "marker": {
             "colorbar": {
              "outlinewidth": 0,
              "ticks": ""
             }
            },
            "type": "scattermapbox"
           }
          ],
          "scatterpolar": [
           {
            "marker": {
             "colorbar": {
              "outlinewidth": 0,
              "ticks": ""
             }
            },
            "type": "scatterpolar"
           }
          ],
          "scatterpolargl": [
           {
            "marker": {
             "colorbar": {
              "outlinewidth": 0,
              "ticks": ""
             }
            },
            "type": "scatterpolargl"
           }
          ],
          "scatterternary": [
           {
            "marker": {
             "colorbar": {
              "outlinewidth": 0,
              "ticks": ""
             }
            },
            "type": "scatterternary"
           }
          ],
          "surface": [
           {
            "colorbar": {
             "outlinewidth": 0,
             "ticks": ""
            },
            "colorscale": [
             [
              0,
              "#0d0887"
             ],
             [
              0.1111111111111111,
              "#46039f"
             ],
             [
              0.2222222222222222,
              "#7201a8"
             ],
             [
              0.3333333333333333,
              "#9c179e"
             ],
             [
              0.4444444444444444,
              "#bd3786"
             ],
             [
              0.5555555555555556,
              "#d8576b"
             ],
             [
              0.6666666666666666,
              "#ed7953"
             ],
             [
              0.7777777777777778,
              "#fb9f3a"
             ],
             [
              0.8888888888888888,
              "#fdca26"
             ],
             [
              1,
              "#f0f921"
             ]
            ],
            "type": "surface"
           }
          ],
          "table": [
           {
            "cells": {
             "fill": {
              "color": "#EBF0F8"
             },
             "line": {
              "color": "white"
             }
            },
            "header": {
             "fill": {
              "color": "#C8D4E3"
             },
             "line": {
              "color": "white"
             }
            },
            "type": "table"
           }
          ]
         },
         "layout": {
          "annotationdefaults": {
           "arrowcolor": "#2a3f5f",
           "arrowhead": 0,
           "arrowwidth": 1
          },
          "coloraxis": {
           "colorbar": {
            "outlinewidth": 0,
            "ticks": ""
           }
          },
          "colorscale": {
           "diverging": [
            [
             0,
             "#8e0152"
            ],
            [
             0.1,
             "#c51b7d"
            ],
            [
             0.2,
             "#de77ae"
            ],
            [
             0.3,
             "#f1b6da"
            ],
            [
             0.4,
             "#fde0ef"
            ],
            [
             0.5,
             "#f7f7f7"
            ],
            [
             0.6,
             "#e6f5d0"
            ],
            [
             0.7,
             "#b8e186"
            ],
            [
             0.8,
             "#7fbc41"
            ],
            [
             0.9,
             "#4d9221"
            ],
            [
             1,
             "#276419"
            ]
           ],
           "sequential": [
            [
             0,
             "#0d0887"
            ],
            [
             0.1111111111111111,
             "#46039f"
            ],
            [
             0.2222222222222222,
             "#7201a8"
            ],
            [
             0.3333333333333333,
             "#9c179e"
            ],
            [
             0.4444444444444444,
             "#bd3786"
            ],
            [
             0.5555555555555556,
             "#d8576b"
            ],
            [
             0.6666666666666666,
             "#ed7953"
            ],
            [
             0.7777777777777778,
             "#fb9f3a"
            ],
            [
             0.8888888888888888,
             "#fdca26"
            ],
            [
             1,
             "#f0f921"
            ]
           ],
           "sequentialminus": [
            [
             0,
             "#0d0887"
            ],
            [
             0.1111111111111111,
             "#46039f"
            ],
            [
             0.2222222222222222,
             "#7201a8"
            ],
            [
             0.3333333333333333,
             "#9c179e"
            ],
            [
             0.4444444444444444,
             "#bd3786"
            ],
            [
             0.5555555555555556,
             "#d8576b"
            ],
            [
             0.6666666666666666,
             "#ed7953"
            ],
            [
             0.7777777777777778,
             "#fb9f3a"
            ],
            [
             0.8888888888888888,
             "#fdca26"
            ],
            [
             1,
             "#f0f921"
            ]
           ]
          },
          "colorway": [
           "#636efa",
           "#EF553B",
           "#00cc96",
           "#ab63fa",
           "#FFA15A",
           "#19d3f3",
           "#FF6692",
           "#B6E880",
           "#FF97FF",
           "#FECB52"
          ],
          "font": {
           "color": "#2a3f5f"
          },
          "geo": {
           "bgcolor": "white",
           "lakecolor": "white",
           "landcolor": "#E5ECF6",
           "showlakes": true,
           "showland": true,
           "subunitcolor": "white"
          },
          "hoverlabel": {
           "align": "left"
          },
          "hovermode": "closest",
          "mapbox": {
           "style": "light"
          },
          "paper_bgcolor": "white",
          "plot_bgcolor": "#E5ECF6",
          "polar": {
           "angularaxis": {
            "gridcolor": "white",
            "linecolor": "white",
            "ticks": ""
           },
           "bgcolor": "#E5ECF6",
           "radialaxis": {
            "gridcolor": "white",
            "linecolor": "white",
            "ticks": ""
           }
          },
          "scene": {
           "xaxis": {
            "backgroundcolor": "#E5ECF6",
            "gridcolor": "white",
            "gridwidth": 2,
            "linecolor": "white",
            "showbackground": true,
            "ticks": "",
            "zerolinecolor": "white"
           },
           "yaxis": {
            "backgroundcolor": "#E5ECF6",
            "gridcolor": "white",
            "gridwidth": 2,
            "linecolor": "white",
            "showbackground": true,
            "ticks": "",
            "zerolinecolor": "white"
           },
           "zaxis": {
            "backgroundcolor": "#E5ECF6",
            "gridcolor": "white",
            "gridwidth": 2,
            "linecolor": "white",
            "showbackground": true,
            "ticks": "",
            "zerolinecolor": "white"
           }
          },
          "shapedefaults": {
           "line": {
            "color": "#2a3f5f"
           }
          },
          "ternary": {
           "aaxis": {
            "gridcolor": "white",
            "linecolor": "white",
            "ticks": ""
           },
           "baxis": {
            "gridcolor": "white",
            "linecolor": "white",
            "ticks": ""
           },
           "bgcolor": "#E5ECF6",
           "caxis": {
            "gridcolor": "white",
            "linecolor": "white",
            "ticks": ""
           }
          },
          "title": {
           "x": 0.05
          },
          "xaxis": {
           "automargin": true,
           "gridcolor": "white",
           "linecolor": "white",
           "ticks": "",
           "title": {
            "standoff": 15
           },
           "zerolinecolor": "white",
           "zerolinewidth": 2
          },
          "yaxis": {
           "automargin": true,
           "gridcolor": "white",
           "linecolor": "white",
           "ticks": "",
           "title": {
            "standoff": 15
           },
           "zerolinecolor": "white",
           "zerolinewidth": 2
          }
         }
        },
        "title": {
         "text": "Policy adversarial"
        }
       }
      },
      "text/html": [
       "<div>\n",
       "        \n",
       "        \n",
       "            <div id=\"b5d4e724-51d1-4965-a0bb-1c5e7bc9b15e\" class=\"plotly-graph-div\" style=\"height:525px; width:100%;\"></div>\n",
       "            <script type=\"text/javascript\">\n",
       "                require([\"plotly\"], function(Plotly) {\n",
       "                    window.PLOTLYENV=window.PLOTLYENV || {};\n",
       "                    \n",
       "                if (document.getElementById(\"b5d4e724-51d1-4965-a0bb-1c5e7bc9b15e\")) {\n",
       "                    Plotly.newPlot(\n",
       "                        'b5d4e724-51d1-4965-a0bb-1c5e7bc9b15e',\n",
       "                        [{\"type\": \"heatmap\", \"z\": [[0.07424914044578486, 0.0617511158037515, 0.057788153823830846, 0.0582290618701995, 0.059242479271627305, 0.059174199423316955, 0.05746526227390951, 0.05168469434055243, 0.0376271227171087, 0.051358841889493634], [0.06498616899712739, 0.05561457799546824, 0.05363065894502875, 0.05352835234248778, 0.05282510860378181, 0.05055919411742513, 0.04557945954322168, 0.03705621176296847, 0.026351874557373058, 3.9494511719142302], [0.05147072450724033, 0.048325433161703915, 0.047226432968152036, 0.0459616285483205, 0.043621825113512445, 0.0399732209207572, 0.035624297977581834, 0.03137964898860733, 0.026614775704175, 4.04354563509533], [0.04716963968928684, 0.04476500099440008, 0.042545414259020434, 0.04003367373072073, 0.03721513093715709, 0.03452195481996435, 0.03236793147193576, 0.030651138685277718, 0.02874149132126626, 0.02658668699318212], [0.04465601288664701, 0.041969378928415034, 0.03904737251937862, 0.036330220998508564, 0.03418502712291979, 0.032638116460692985, 0.031502542024538414, 0.03049421579976121, 0.029448010132667346, 0.028527897254143154], [0.10332993036374478, 0.04186720257924253, 0.03728218237636398, 0.0346525677163864, 0.03299611470725228, 0.03179635254038628, 0.030777401438096944, 0.029892016046389178, 0.029235086432226033, 0.028839815688123906], [0.3838405909819719, 0.5032391719529659, 0.03661674802321588, 0.03346974400550169, 0.03186635370521936, 0.03052502249253536, 0.029478303657808763, 0.02889352504195016, 0.028652672780610705, 0.028448834722321865], [0.19750475705472711, 0.21747172750526794, 0.28274113713654486, 0.030443613093799192, 0.029473979412818322, 0.028473480382463015, 0.02788822636572175, 0.02762845164507772, 0.027425171397604878, 0.037904322822185685], [0.11240482364294012, 0.11572037083874265, 0.03325033983009375, 0.026996471563716706, 0.026983245777828943, 0.0268899509066568, 0.026945054346706968, 0.02733347549145174, 0.05171711345891853, 0.16698123505271936], [0.052084660248087146, 0.03244784832556577, 0.02738997959440635, 0.027016850900010922, 0.027190945102515608, 0.027727709051126505, 0.028511744411737393, 0.03281140668168242, 0.09792257978141707, 0.10616440590224024]], \"zmax\": 0.2, \"zmin\": 0.0}],\n",
       "                        {\"template\": {\"data\": {\"bar\": [{\"error_x\": {\"color\": \"#2a3f5f\"}, \"error_y\": {\"color\": \"#2a3f5f\"}, \"marker\": {\"line\": {\"color\": \"#E5ECF6\", \"width\": 0.5}}, \"type\": \"bar\"}], \"barpolar\": [{\"marker\": {\"line\": {\"color\": \"#E5ECF6\", \"width\": 0.5}}, \"type\": \"barpolar\"}], \"carpet\": [{\"aaxis\": {\"endlinecolor\": \"#2a3f5f\", \"gridcolor\": \"white\", \"linecolor\": \"white\", \"minorgridcolor\": \"white\", \"startlinecolor\": \"#2a3f5f\"}, \"baxis\": {\"endlinecolor\": \"#2a3f5f\", \"gridcolor\": \"white\", \"linecolor\": \"white\", \"minorgridcolor\": \"white\", \"startlinecolor\": \"#2a3f5f\"}, \"type\": \"carpet\"}], \"choropleth\": [{\"colorbar\": {\"outlinewidth\": 0, \"ticks\": \"\"}, \"type\": \"choropleth\"}], \"contour\": [{\"colorbar\": {\"outlinewidth\": 0, \"ticks\": \"\"}, \"colorscale\": [[0.0, \"#0d0887\"], [0.1111111111111111, \"#46039f\"], [0.2222222222222222, \"#7201a8\"], [0.3333333333333333, \"#9c179e\"], [0.4444444444444444, \"#bd3786\"], [0.5555555555555556, \"#d8576b\"], [0.6666666666666666, \"#ed7953\"], [0.7777777777777778, \"#fb9f3a\"], [0.8888888888888888, \"#fdca26\"], [1.0, \"#f0f921\"]], \"type\": \"contour\"}], \"contourcarpet\": [{\"colorbar\": {\"outlinewidth\": 0, \"ticks\": \"\"}, \"type\": \"contourcarpet\"}], \"heatmap\": [{\"colorbar\": {\"outlinewidth\": 0, \"ticks\": \"\"}, \"colorscale\": [[0.0, \"#0d0887\"], [0.1111111111111111, \"#46039f\"], [0.2222222222222222, \"#7201a8\"], [0.3333333333333333, \"#9c179e\"], [0.4444444444444444, \"#bd3786\"], [0.5555555555555556, \"#d8576b\"], [0.6666666666666666, \"#ed7953\"], [0.7777777777777778, \"#fb9f3a\"], [0.8888888888888888, \"#fdca26\"], [1.0, \"#f0f921\"]], \"type\": \"heatmap\"}], \"heatmapgl\": [{\"colorbar\": {\"outlinewidth\": 0, \"ticks\": \"\"}, \"colorscale\": [[0.0, \"#0d0887\"], [0.1111111111111111, \"#46039f\"], [0.2222222222222222, \"#7201a8\"], [0.3333333333333333, \"#9c179e\"], [0.4444444444444444, \"#bd3786\"], [0.5555555555555556, \"#d8576b\"], [0.6666666666666666, \"#ed7953\"], [0.7777777777777778, \"#fb9f3a\"], [0.8888888888888888, \"#fdca26\"], [1.0, \"#f0f921\"]], \"type\": \"heatmapgl\"}], \"histogram\": [{\"marker\": {\"colorbar\": {\"outlinewidth\": 0, \"ticks\": \"\"}}, \"type\": \"histogram\"}], \"histogram2d\": [{\"colorbar\": {\"outlinewidth\": 0, \"ticks\": \"\"}, \"colorscale\": [[0.0, \"#0d0887\"], [0.1111111111111111, \"#46039f\"], [0.2222222222222222, \"#7201a8\"], [0.3333333333333333, \"#9c179e\"], [0.4444444444444444, \"#bd3786\"], [0.5555555555555556, \"#d8576b\"], [0.6666666666666666, \"#ed7953\"], [0.7777777777777778, \"#fb9f3a\"], [0.8888888888888888, \"#fdca26\"], [1.0, \"#f0f921\"]], \"type\": \"histogram2d\"}], \"histogram2dcontour\": [{\"colorbar\": {\"outlinewidth\": 0, \"ticks\": \"\"}, \"colorscale\": [[0.0, \"#0d0887\"], [0.1111111111111111, \"#46039f\"], [0.2222222222222222, \"#7201a8\"], [0.3333333333333333, \"#9c179e\"], [0.4444444444444444, \"#bd3786\"], [0.5555555555555556, \"#d8576b\"], [0.6666666666666666, \"#ed7953\"], [0.7777777777777778, \"#fb9f3a\"], [0.8888888888888888, \"#fdca26\"], [1.0, \"#f0f921\"]], \"type\": \"histogram2dcontour\"}], \"mesh3d\": [{\"colorbar\": {\"outlinewidth\": 0, \"ticks\": \"\"}, \"type\": \"mesh3d\"}], \"parcoords\": [{\"line\": {\"colorbar\": {\"outlinewidth\": 0, \"ticks\": \"\"}}, \"type\": \"parcoords\"}], \"pie\": [{\"automargin\": true, \"type\": \"pie\"}], \"scatter\": [{\"marker\": {\"colorbar\": {\"outlinewidth\": 0, \"ticks\": \"\"}}, \"type\": \"scatter\"}], \"scatter3d\": [{\"line\": {\"colorbar\": {\"outlinewidth\": 0, \"ticks\": \"\"}}, \"marker\": {\"colorbar\": {\"outlinewidth\": 0, \"ticks\": \"\"}}, \"type\": \"scatter3d\"}], \"scattercarpet\": [{\"marker\": {\"colorbar\": {\"outlinewidth\": 0, \"ticks\": \"\"}}, \"type\": \"scattercarpet\"}], \"scattergeo\": [{\"marker\": {\"colorbar\": {\"outlinewidth\": 0, \"ticks\": \"\"}}, \"type\": \"scattergeo\"}], \"scattergl\": [{\"marker\": {\"colorbar\": {\"outlinewidth\": 0, \"ticks\": \"\"}}, \"type\": \"scattergl\"}], \"scattermapbox\": [{\"marker\": {\"colorbar\": {\"outlinewidth\": 0, \"ticks\": \"\"}}, \"type\": \"scattermapbox\"}], \"scatterpolar\": [{\"marker\": {\"colorbar\": {\"outlinewidth\": 0, \"ticks\": \"\"}}, \"type\": \"scatterpolar\"}], \"scatterpolargl\": [{\"marker\": {\"colorbar\": {\"outlinewidth\": 0, \"ticks\": \"\"}}, \"type\": \"scatterpolargl\"}], \"scatterternary\": [{\"marker\": {\"colorbar\": {\"outlinewidth\": 0, \"ticks\": \"\"}}, \"type\": \"scatterternary\"}], \"surface\": [{\"colorbar\": {\"outlinewidth\": 0, \"ticks\": \"\"}, \"colorscale\": [[0.0, \"#0d0887\"], [0.1111111111111111, \"#46039f\"], [0.2222222222222222, \"#7201a8\"], [0.3333333333333333, \"#9c179e\"], [0.4444444444444444, \"#bd3786\"], [0.5555555555555556, \"#d8576b\"], [0.6666666666666666, \"#ed7953\"], [0.7777777777777778, \"#fb9f3a\"], [0.8888888888888888, \"#fdca26\"], [1.0, \"#f0f921\"]], \"type\": \"surface\"}], \"table\": [{\"cells\": {\"fill\": {\"color\": \"#EBF0F8\"}, \"line\": {\"color\": \"white\"}}, \"header\": {\"fill\": {\"color\": \"#C8D4E3\"}, \"line\": {\"color\": \"white\"}}, \"type\": \"table\"}]}, \"layout\": {\"annotationdefaults\": {\"arrowcolor\": \"#2a3f5f\", \"arrowhead\": 0, \"arrowwidth\": 1}, \"coloraxis\": {\"colorbar\": {\"outlinewidth\": 0, \"ticks\": \"\"}}, \"colorscale\": {\"diverging\": [[0, \"#8e0152\"], [0.1, \"#c51b7d\"], [0.2, \"#de77ae\"], [0.3, \"#f1b6da\"], [0.4, \"#fde0ef\"], [0.5, \"#f7f7f7\"], [0.6, \"#e6f5d0\"], [0.7, \"#b8e186\"], [0.8, \"#7fbc41\"], [0.9, \"#4d9221\"], [1, \"#276419\"]], \"sequential\": [[0.0, \"#0d0887\"], [0.1111111111111111, \"#46039f\"], [0.2222222222222222, \"#7201a8\"], [0.3333333333333333, \"#9c179e\"], [0.4444444444444444, \"#bd3786\"], [0.5555555555555556, \"#d8576b\"], [0.6666666666666666, \"#ed7953\"], [0.7777777777777778, \"#fb9f3a\"], [0.8888888888888888, \"#fdca26\"], [1.0, \"#f0f921\"]], \"sequentialminus\": [[0.0, \"#0d0887\"], [0.1111111111111111, \"#46039f\"], [0.2222222222222222, \"#7201a8\"], [0.3333333333333333, \"#9c179e\"], [0.4444444444444444, \"#bd3786\"], [0.5555555555555556, \"#d8576b\"], [0.6666666666666666, \"#ed7953\"], [0.7777777777777778, \"#fb9f3a\"], [0.8888888888888888, \"#fdca26\"], [1.0, \"#f0f921\"]]}, \"colorway\": [\"#636efa\", \"#EF553B\", \"#00cc96\", \"#ab63fa\", \"#FFA15A\", \"#19d3f3\", \"#FF6692\", \"#B6E880\", \"#FF97FF\", \"#FECB52\"], \"font\": {\"color\": \"#2a3f5f\"}, \"geo\": {\"bgcolor\": \"white\", \"lakecolor\": \"white\", \"landcolor\": \"#E5ECF6\", \"showlakes\": true, \"showland\": true, \"subunitcolor\": \"white\"}, \"hoverlabel\": {\"align\": \"left\"}, \"hovermode\": \"closest\", \"mapbox\": {\"style\": \"light\"}, \"paper_bgcolor\": \"white\", \"plot_bgcolor\": \"#E5ECF6\", \"polar\": {\"angularaxis\": {\"gridcolor\": \"white\", \"linecolor\": \"white\", \"ticks\": \"\"}, \"bgcolor\": \"#E5ECF6\", \"radialaxis\": {\"gridcolor\": \"white\", \"linecolor\": \"white\", \"ticks\": \"\"}}, \"scene\": {\"xaxis\": {\"backgroundcolor\": \"#E5ECF6\", \"gridcolor\": \"white\", \"gridwidth\": 2, \"linecolor\": \"white\", \"showbackground\": true, \"ticks\": \"\", \"zerolinecolor\": \"white\"}, \"yaxis\": {\"backgroundcolor\": \"#E5ECF6\", \"gridcolor\": \"white\", \"gridwidth\": 2, \"linecolor\": \"white\", \"showbackground\": true, \"ticks\": \"\", \"zerolinecolor\": \"white\"}, \"zaxis\": {\"backgroundcolor\": \"#E5ECF6\", \"gridcolor\": \"white\", \"gridwidth\": 2, \"linecolor\": \"white\", \"showbackground\": true, \"ticks\": \"\", \"zerolinecolor\": \"white\"}}, \"shapedefaults\": {\"line\": {\"color\": \"#2a3f5f\"}}, \"ternary\": {\"aaxis\": {\"gridcolor\": \"white\", \"linecolor\": \"white\", \"ticks\": \"\"}, \"baxis\": {\"gridcolor\": \"white\", \"linecolor\": \"white\", \"ticks\": \"\"}, \"bgcolor\": \"#E5ECF6\", \"caxis\": {\"gridcolor\": \"white\", \"linecolor\": \"white\", \"ticks\": \"\"}}, \"title\": {\"x\": 0.05}, \"xaxis\": {\"automargin\": true, \"gridcolor\": \"white\", \"linecolor\": \"white\", \"ticks\": \"\", \"title\": {\"standoff\": 15}, \"zerolinecolor\": \"white\", \"zerolinewidth\": 2}, \"yaxis\": {\"automargin\": true, \"gridcolor\": \"white\", \"linecolor\": \"white\", \"ticks\": \"\", \"title\": {\"standoff\": 15}, \"zerolinecolor\": \"white\", \"zerolinewidth\": 2}}}, \"title\": {\"text\": \"Policy adversarial\"}},\n",
       "                        {\"responsive\": true}\n",
       "                    ).then(function(){\n",
       "                            \n",
       "var gd = document.getElementById('b5d4e724-51d1-4965-a0bb-1c5e7bc9b15e');\n",
       "var x = new MutationObserver(function (mutations, observer) {{\n",
       "        var display = window.getComputedStyle(gd).display;\n",
       "        if (!display || display === 'none') {{\n",
       "            console.log([gd, 'removed!']);\n",
       "            Plotly.purge(gd);\n",
       "            observer.disconnect();\n",
       "        }}\n",
       "}});\n",
       "\n",
       "// Listen for the removal of the full notebook cells\n",
       "var notebookContainer = gd.closest('#notebook-container');\n",
       "if (notebookContainer) {{\n",
       "    x.observe(notebookContainer, {childList: true});\n",
       "}}\n",
       "\n",
       "// Listen for the clearing of the current output cell\n",
       "var outputEl = gd.closest('.output');\n",
       "if (outputEl) {{\n",
       "    x.observe(outputEl, {childList: true});\n",
       "}}\n",
       "\n",
       "                        })\n",
       "                };\n",
       "                });\n",
       "            </script>\n",
       "        </div>"
      ]
     },
     "metadata": {},
     "output_type": "display_data"
    }
   ],
   "source": [
    "zmin = 0.\n",
    "zmax = .2\n",
    "\n",
    "fig = go.Figure()\n",
    "fig.add_trace(go.Heatmap(\n",
    "    z = bench_lqr.detach().numpy(),\n",
    "    zmin = zmin,\n",
    "    zmax = zmax,\n",
    "    ))\n",
    "fig.update_layout(\n",
    "    title=\"LQR\",\n",
    ")\n",
    "fig.show()\n",
    "\n",
    "# fig = go.Figure()\n",
    "# fig.add_trace(go.Heatmap(\n",
    "#     z = bench_no_model.detach().numpy(),\n",
    "#     zmin = zmin,\n",
    "#     zmax = zmax,\n",
    "#     ))\n",
    "# fig.update_layout(\n",
    "#     title=\"No Model\",\n",
    "# )\n",
    "# fig.show()\n",
    "\n",
    "# fig = go.Figure()\n",
    "# fig.add_trace(go.Heatmap(\n",
    "#     z = bench_baseline.detach().numpy(),\n",
    "#     zmin = zmin,\n",
    "#     zmax = zmax,\n",
    "#     ))\n",
    "# fig.update_layout(\n",
    "#     title=\"Baseline\",\n",
    "# )\n",
    "# fig.show()\n",
    "\n",
    "# fig = go.Figure()\n",
    "# fig.add_trace(go.Heatmap(\n",
    "#     z = bench_adv.detach().numpy(),\n",
    "#     zmin = zmin,\n",
    "#     zmax = zmax,\n",
    "#     ))\n",
    "# fig.update_layout(\n",
    "#     title=\"Adversarial\",\n",
    "# )\n",
    "# fig.show()\n",
    "\n",
    "fig = go.Figure()\n",
    "fig.add_trace(go.Heatmap(\n",
    "    z = bench_policy.detach().numpy(),\n",
    "    zmin = zmin,\n",
    "    zmax = zmax,\n",
    "    ))\n",
    "fig.update_layout(\n",
    "    title=\"Policy\",\n",
    ")\n",
    "fig.show()\n",
    "\n",
    "fig = go.Figure()\n",
    "fig.add_trace(go.Heatmap(\n",
    "    z = bench_policy_adv.detach().numpy(),\n",
    "    zmin = zmin,\n",
    "    zmax = zmax,\n",
    "    ))\n",
    "fig.update_layout(\n",
    "    title=\"Policy adversarial\",\n",
    ")\n",
    "fig.show()"
   ]
  },
  {
   "cell_type": "code",
   "execution_count": null,
   "metadata": {},
   "outputs": [],
   "source": [
    "conv_thresh = .2\n",
    "\n",
    "fig = go.Figure()\n",
    "fig.add_trace(go.Heatmap(\n",
    "    z = torch.Tensor(bench_lqr.detach().numpy() < conv_thresh).type(vf.dtype),\n",
    "    zmin = 0,\n",
    "    zmax = 1,\n",
    "    ))\n",
    "fig.update_layout(\n",
    "    title=\"LQR\",\n",
    ")\n",
    "fig.show()\n",
    "\n",
    "fig = go.Figure()\n",
    "fig.add_trace(go.Heatmap(\n",
    "    z = torch.Tensor(bench_no_model.detach().numpy() < conv_thresh).type(vf.dtype),\n",
    "    ))\n",
    "fig.update_layout(\n",
    "    title=\"No Model\",\n",
    ")\n",
    "fig.show()\n",
    "\n",
    "fig = go.Figure()\n",
    "fig.add_trace(go.Heatmap(\n",
    "    z = torch.Tensor(bench_baseline.detach().numpy() < conv_thresh).type(vf.dtype),\n",
    "    zmin = 0,\n",
    "    zmax = 1,\n",
    "    ))\n",
    "fig.update_layout(\n",
    "    title=\"Baseline\",\n",
    ")\n",
    "fig.show()\n",
    "\n",
    "fig = go.Figure()\n",
    "fig.add_trace(go.Heatmap(\n",
    "    z = torch.Tensor(bench_adv.detach().numpy() < conv_thresh).type(vf.dtype),\n",
    "    zmin = 0,\n",
    "    zmax = 1,\n",
    "    ))\n",
    "fig.update_layout(\n",
    "    title=\"Adversarial\",\n",
    ")\n",
    "fig.show()\n",
    "\n",
    "fig = go.Figure()\n",
    "fig.add_trace(go.Heatmap(\n",
    "    z = torch.Tensor(bench_policy.detach().numpy() < conv_thresh).type(vf.dtype),\n",
    "    zmin = 0,\n",
    "    zmax = 1,\n",
    "    ))\n",
    "fig.update_layout(\n",
    "    title=\"Policy\",\n",
    ")\n",
    "fig.show()\n",
    "\n",
    "fig = go.Figure()\n",
    "fig.add_trace(go.Heatmap(\n",
    "    z = torch.Tensor(bench_policy_adv.detach().numpy() < conv_thresh).type(vf.dtype),\n",
    "    zmin = 0,\n",
    "    zmax = 1,\n",
    "    ))\n",
    "fig.update_layout(\n",
    "    title=\"Policy adversarial\",\n",
    ")\n",
    "fig.show()"
   ]
  }
 ],
 "metadata": {
  "kernelspec": {
   "display_name": "Python 3",
   "language": "python",
   "name": "python3"
  },
  "language_info": {
   "codemirror_mode": {
    "name": "ipython",
    "version": 3
   },
   "file_extension": ".py",
   "mimetype": "text/x-python",
   "name": "python",
   "nbconvert_exporter": "python",
   "pygments_lexer": "ipython3",
   "version": "3.7.5"
  }
 },
 "nbformat": 4,
 "nbformat_minor": 2
}
