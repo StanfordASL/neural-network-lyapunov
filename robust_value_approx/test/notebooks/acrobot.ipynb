{
 "cells": [
  {
   "cell_type": "markdown",
   "metadata": {},
   "source": [
    "# Acrobot"
   ]
  },
  {
   "cell_type": "code",
   "execution_count": 1,
   "metadata": {},
   "outputs": [],
   "source": [
    "%load_ext autoreload\n",
    "%autoreload 2"
   ]
  },
  {
   "cell_type": "code",
   "execution_count": 2,
   "metadata": {
    "scrolled": true
   },
   "outputs": [
    {
     "data": {
      "text/html": [
       "        <script type=\"text/javascript\">\n",
       "        window.PlotlyConfig = {MathJaxConfig: 'local'};\n",
       "        if (window.MathJax) {MathJax.Hub.Config({SVG: {font: \"STIX-Web\"}});}\n",
       "        if (typeof require !== 'undefined') {\n",
       "        require.undef(\"plotly\");\n",
       "        requirejs.config({\n",
       "            paths: {\n",
       "                'plotly': ['https://cdn.plot.ly/plotly-latest.min']\n",
       "            }\n",
       "        });\n",
       "        require(['plotly'], function(Plotly) {\n",
       "            window._Plotly = Plotly;\n",
       "        });\n",
       "        }\n",
       "        </script>\n",
       "        "
      ]
     },
     "metadata": {},
     "output_type": "display_data"
    },
    {
     "name": "stderr",
     "output_type": "stream",
     "text": [
      "/Users/blandry/Code/robust-value-approx/robust_value_approx/samples_generator.py:4: _DrakeImportWarning:\n",
      "\n",
      "\n",
      "You may have already (directly or indirectly) imported `torch` which uses\n",
      "`RTLD_GLOBAL`. Using `RTLD_GLOBAL` may cause symbol collisions which manifest\n",
      "themselves in bugs like \"free(): invalid pointer\". Please consider importing\n",
      "`pydrake` (and related C++-wrapped libraries like `cv2`, `open3d`, etc.)\n",
      "*before* importing `torch`. For more details, see:\n",
      "https://github.com/pytorch/pytorch/issues/3059#issuecomment-534676459\n",
      "\n",
      "\n"
     ]
    }
   ],
   "source": [
    "import sys\n",
    "sys.path.append(\"..\")\n",
    "sys.path.append(\".\")\n",
    "import torch\n",
    "import numpy as np\n",
    "import copy\n",
    "import plotly\n",
    "import plotly.graph_objs as go\n",
    "import pickle\n",
    "from datetime import datetime\n",
    "plotly.offline.init_notebook_mode(connected=True)\n",
    "\n",
    "import robust_value_approx.samples_generator as samples_generator\n",
    "import robust_value_approx.samples_buffer as samples_buffer\n",
    "import robust_value_approx.value_approximation as value_approximation\n",
    "import robust_value_approx.training_log as training_log\n",
    "import robust_value_approx.controllers as controllers\n",
    "\n",
    "from acrobot_utils import get_value_function"
   ]
  },
  {
   "cell_type": "code",
   "execution_count": 3,
   "metadata": {},
   "outputs": [],
   "source": [
    "offline_horizon = 25\n",
    "vf, sys = get_value_function(offline_horizon)\n",
    "V = vf.get_value_function()"
   ]
  },
  {
   "cell_type": "code",
   "execution_count": 4,
   "metadata": {},
   "outputs": [
    {
     "data": {
      "application/vnd.plotly.v1+json": {
       "config": {
        "plotlyServerURL": "https://plot.ly"
       },
       "data": [
        {
         "name": "theta1",
         "type": "scatter",
         "x": [
          0,
          0.20000000298023224,
          0.4000000059604645,
          0.6000000089406967,
          0.800000011920929,
          1.0000000149011612,
          1.2000000178813934,
          1.4000000208616257,
          1.600000023841858,
          1.8000000268220901,
          2.0000000298023224,
          2.2000000327825546,
          2.400000035762787,
          2.600000038743019,
          2.8000000417232513,
          3.0000000447034836,
          3.200000047683716,
          3.400000050663948,
          3.6000000536441803,
          3.8000000566244125,
          4.000000059604645,
          4.200000062584877,
          4.400000065565109,
          4.6000000685453415,
          4.800000071525574
         ],
         "y": [
          3.34159255027771,
          3.220451593399048,
          2.9800353050231934,
          2.823319911956787,
          2.793369770050049,
          2.8159396648406982,
          2.841611385345459,
          2.854069232940674,
          2.848688840866089,
          2.8352155685424805,
          2.8340601921081543,
          2.855323076248169,
          2.8929383754730225,
          2.9359467029571533,
          2.9767038822174072,
          3.0118415355682373,
          3.04065203666687,
          3.0636541843414307,
          3.08181095123291,
          3.0961835384368896,
          3.1078097820281982,
          3.1177005767822266,
          3.1269001960754395,
          3.1365160942077637,
          3.1466031074523926
         ]
        },
        {
         "name": "theta2",
         "type": "scatter",
         "x": [
          0,
          0.20000000298023224,
          0.4000000059604645,
          0.6000000089406967,
          0.800000011920929,
          1.0000000149011612,
          1.2000000178813934,
          1.4000000208616257,
          1.600000023841858,
          1.8000000268220901,
          2.0000000298023224,
          2.2000000327825546,
          2.400000035762787,
          2.600000038743019,
          2.8000000417232513,
          3.0000000447034836,
          3.200000047683716,
          3.400000050663948,
          3.6000000536441803,
          3.8000000566244125,
          4.000000059604645,
          4.200000062584877,
          4.400000065565109,
          4.6000000685453415,
          4.800000071525574
         ],
         "y": [
          0.10000000149011612,
          0.4845156669616699,
          1.3454347848892212,
          2.1898746490478516,
          2.8214917182922363,
          3.224684238433838,
          3.370934247970581,
          3.2721951007843018,
          2.9893016815185547,
          2.6026339530944824,
          2.1834757328033447,
          1.7815784215927124,
          1.425015926361084,
          1.124868631362915,
          0.8808900713920593,
          0.6869499087333679,
          0.5350504517555237,
          0.4174436330795288,
          0.32742393016815186,
          0.25951284170150757,
          0.20942175388336182,
          0.17394398152828217,
          0.15086428821086884,
          0.13912352919578552,
          0.14219726622104645
         ]
        },
        {
         "name": "theta1_dot",
         "type": "scatter",
         "x": [
          0,
          0.20000000298023224,
          0.4000000059604645,
          0.6000000089406967,
          0.800000011920929,
          1.0000000149011612,
          1.2000000178813934,
          1.4000000208616257,
          1.600000023841858,
          1.8000000268220901,
          2.0000000298023224,
          2.2000000327825546,
          2.400000035762787,
          2.600000038743019,
          2.8000000417232513,
          3.0000000447034836,
          3.200000047683716,
          3.400000050663948,
          3.6000000536441803,
          3.8000000566244125,
          4.000000059604645,
          4.200000062584877,
          4.400000065565109,
          4.6000000685453415,
          4.800000071525574
         ],
         "y": [
          0,
          -1.2114105224609375,
          -1.1927534341812134,
          -0.37439846992492676,
          0.07489502429962158,
          0.1508047729730606,
          0.10591249167919159,
          0.01866721361875534,
          -0.0724717378616333,
          -0.06226230412721634,
          0.05070952698588371,
          0.16191977262496948,
          0.21423199772834778,
          0.2158508151769638,
          0.19172130525112152,
          0.1596551537513733,
          0.12845054268836975,
          0.1015699952840805,
          0.07999812811613083,
          0.0637291818857193,
          0.052532948553562164,
          0.046374931931495667,
          0.04562119022011757,
          0.050538040697574615,
          0.05033242702484131
         ]
        },
        {
         "name": "theta2_dot",
         "type": "scatter",
         "x": [
          0,
          0.20000000298023224,
          0.4000000059604645,
          0.6000000089406967,
          0.800000011920929,
          1.0000000149011612,
          1.2000000178813934,
          1.4000000208616257,
          1.600000023841858,
          1.8000000268220901,
          2.0000000298023224,
          2.2000000327825546,
          2.400000035762787,
          2.600000038743019,
          2.8000000417232513,
          3.0000000447034836,
          3.200000047683716,
          3.400000050663948,
          3.6000000536441803,
          3.8000000566244125,
          4.000000059604645,
          4.200000062584877,
          4.400000065565109,
          4.6000000685453415,
          4.800000071525574
         ],
         "y": [
          0,
          3.845156669616699,
          4.764034748077393,
          3.6803650856018066,
          2.6358044147491455,
          1.396120548248291,
          0.06638062000274658,
          -1.0537731647491455,
          -1.7751615047454834,
          -2.091515064239502,
          -2.100067138671875,
          -1.9189057350158691,
          -1.6467188596725464,
          -1.3547545671463013,
          -1.0850306749343872,
          -0.854371190071106,
          -0.6646233201026917,
          -0.5114447474479675,
          -0.3887523114681244,
          -0.2903585731983185,
          -0.21055224537849426,
          -0.14422553777694702,
          -0.0865713357925415,
          -0.030836312100291252,
          0.06157376244664192
         ]
        }
       ],
       "layout": {
        "template": {
         "data": {
          "bar": [
           {
            "error_x": {
             "color": "#2a3f5f"
            },
            "error_y": {
             "color": "#2a3f5f"
            },
            "marker": {
             "line": {
              "color": "#E5ECF6",
              "width": 0.5
             }
            },
            "type": "bar"
           }
          ],
          "barpolar": [
           {
            "marker": {
             "line": {
              "color": "#E5ECF6",
              "width": 0.5
             }
            },
            "type": "barpolar"
           }
          ],
          "carpet": [
           {
            "aaxis": {
             "endlinecolor": "#2a3f5f",
             "gridcolor": "white",
             "linecolor": "white",
             "minorgridcolor": "white",
             "startlinecolor": "#2a3f5f"
            },
            "baxis": {
             "endlinecolor": "#2a3f5f",
             "gridcolor": "white",
             "linecolor": "white",
             "minorgridcolor": "white",
             "startlinecolor": "#2a3f5f"
            },
            "type": "carpet"
           }
          ],
          "choropleth": [
           {
            "colorbar": {
             "outlinewidth": 0,
             "ticks": ""
            },
            "type": "choropleth"
           }
          ],
          "contour": [
           {
            "colorbar": {
             "outlinewidth": 0,
             "ticks": ""
            },
            "colorscale": [
             [
              0,
              "#0d0887"
             ],
             [
              0.1111111111111111,
              "#46039f"
             ],
             [
              0.2222222222222222,
              "#7201a8"
             ],
             [
              0.3333333333333333,
              "#9c179e"
             ],
             [
              0.4444444444444444,
              "#bd3786"
             ],
             [
              0.5555555555555556,
              "#d8576b"
             ],
             [
              0.6666666666666666,
              "#ed7953"
             ],
             [
              0.7777777777777778,
              "#fb9f3a"
             ],
             [
              0.8888888888888888,
              "#fdca26"
             ],
             [
              1,
              "#f0f921"
             ]
            ],
            "type": "contour"
           }
          ],
          "contourcarpet": [
           {
            "colorbar": {
             "outlinewidth": 0,
             "ticks": ""
            },
            "type": "contourcarpet"
           }
          ],
          "heatmap": [
           {
            "colorbar": {
             "outlinewidth": 0,
             "ticks": ""
            },
            "colorscale": [
             [
              0,
              "#0d0887"
             ],
             [
              0.1111111111111111,
              "#46039f"
             ],
             [
              0.2222222222222222,
              "#7201a8"
             ],
             [
              0.3333333333333333,
              "#9c179e"
             ],
             [
              0.4444444444444444,
              "#bd3786"
             ],
             [
              0.5555555555555556,
              "#d8576b"
             ],
             [
              0.6666666666666666,
              "#ed7953"
             ],
             [
              0.7777777777777778,
              "#fb9f3a"
             ],
             [
              0.8888888888888888,
              "#fdca26"
             ],
             [
              1,
              "#f0f921"
             ]
            ],
            "type": "heatmap"
           }
          ],
          "heatmapgl": [
           {
            "colorbar": {
             "outlinewidth": 0,
             "ticks": ""
            },
            "colorscale": [
             [
              0,
              "#0d0887"
             ],
             [
              0.1111111111111111,
              "#46039f"
             ],
             [
              0.2222222222222222,
              "#7201a8"
             ],
             [
              0.3333333333333333,
              "#9c179e"
             ],
             [
              0.4444444444444444,
              "#bd3786"
             ],
             [
              0.5555555555555556,
              "#d8576b"
             ],
             [
              0.6666666666666666,
              "#ed7953"
             ],
             [
              0.7777777777777778,
              "#fb9f3a"
             ],
             [
              0.8888888888888888,
              "#fdca26"
             ],
             [
              1,
              "#f0f921"
             ]
            ],
            "type": "heatmapgl"
           }
          ],
          "histogram": [
           {
            "marker": {
             "colorbar": {
              "outlinewidth": 0,
              "ticks": ""
             }
            },
            "type": "histogram"
           }
          ],
          "histogram2d": [
           {
            "colorbar": {
             "outlinewidth": 0,
             "ticks": ""
            },
            "colorscale": [
             [
              0,
              "#0d0887"
             ],
             [
              0.1111111111111111,
              "#46039f"
             ],
             [
              0.2222222222222222,
              "#7201a8"
             ],
             [
              0.3333333333333333,
              "#9c179e"
             ],
             [
              0.4444444444444444,
              "#bd3786"
             ],
             [
              0.5555555555555556,
              "#d8576b"
             ],
             [
              0.6666666666666666,
              "#ed7953"
             ],
             [
              0.7777777777777778,
              "#fb9f3a"
             ],
             [
              0.8888888888888888,
              "#fdca26"
             ],
             [
              1,
              "#f0f921"
             ]
            ],
            "type": "histogram2d"
           }
          ],
          "histogram2dcontour": [
           {
            "colorbar": {
             "outlinewidth": 0,
             "ticks": ""
            },
            "colorscale": [
             [
              0,
              "#0d0887"
             ],
             [
              0.1111111111111111,
              "#46039f"
             ],
             [
              0.2222222222222222,
              "#7201a8"
             ],
             [
              0.3333333333333333,
              "#9c179e"
             ],
             [
              0.4444444444444444,
              "#bd3786"
             ],
             [
              0.5555555555555556,
              "#d8576b"
             ],
             [
              0.6666666666666666,
              "#ed7953"
             ],
             [
              0.7777777777777778,
              "#fb9f3a"
             ],
             [
              0.8888888888888888,
              "#fdca26"
             ],
             [
              1,
              "#f0f921"
             ]
            ],
            "type": "histogram2dcontour"
           }
          ],
          "mesh3d": [
           {
            "colorbar": {
             "outlinewidth": 0,
             "ticks": ""
            },
            "type": "mesh3d"
           }
          ],
          "parcoords": [
           {
            "line": {
             "colorbar": {
              "outlinewidth": 0,
              "ticks": ""
             }
            },
            "type": "parcoords"
           }
          ],
          "pie": [
           {
            "automargin": true,
            "type": "pie"
           }
          ],
          "scatter": [
           {
            "marker": {
             "colorbar": {
              "outlinewidth": 0,
              "ticks": ""
             }
            },
            "type": "scatter"
           }
          ],
          "scatter3d": [
           {
            "line": {
             "colorbar": {
              "outlinewidth": 0,
              "ticks": ""
             }
            },
            "marker": {
             "colorbar": {
              "outlinewidth": 0,
              "ticks": ""
             }
            },
            "type": "scatter3d"
           }
          ],
          "scattercarpet": [
           {
            "marker": {
             "colorbar": {
              "outlinewidth": 0,
              "ticks": ""
             }
            },
            "type": "scattercarpet"
           }
          ],
          "scattergeo": [
           {
            "marker": {
             "colorbar": {
              "outlinewidth": 0,
              "ticks": ""
             }
            },
            "type": "scattergeo"
           }
          ],
          "scattergl": [
           {
            "marker": {
             "colorbar": {
              "outlinewidth": 0,
              "ticks": ""
             }
            },
            "type": "scattergl"
           }
          ],
          "scattermapbox": [
           {
            "marker": {
             "colorbar": {
              "outlinewidth": 0,
              "ticks": ""
             }
            },
            "type": "scattermapbox"
           }
          ],
          "scatterpolar": [
           {
            "marker": {
             "colorbar": {
              "outlinewidth": 0,
              "ticks": ""
             }
            },
            "type": "scatterpolar"
           }
          ],
          "scatterpolargl": [
           {
            "marker": {
             "colorbar": {
              "outlinewidth": 0,
              "ticks": ""
             }
            },
            "type": "scatterpolargl"
           }
          ],
          "scatterternary": [
           {
            "marker": {
             "colorbar": {
              "outlinewidth": 0,
              "ticks": ""
             }
            },
            "type": "scatterternary"
           }
          ],
          "surface": [
           {
            "colorbar": {
             "outlinewidth": 0,
             "ticks": ""
            },
            "colorscale": [
             [
              0,
              "#0d0887"
             ],
             [
              0.1111111111111111,
              "#46039f"
             ],
             [
              0.2222222222222222,
              "#7201a8"
             ],
             [
              0.3333333333333333,
              "#9c179e"
             ],
             [
              0.4444444444444444,
              "#bd3786"
             ],
             [
              0.5555555555555556,
              "#d8576b"
             ],
             [
              0.6666666666666666,
              "#ed7953"
             ],
             [
              0.7777777777777778,
              "#fb9f3a"
             ],
             [
              0.8888888888888888,
              "#fdca26"
             ],
             [
              1,
              "#f0f921"
             ]
            ],
            "type": "surface"
           }
          ],
          "table": [
           {
            "cells": {
             "fill": {
              "color": "#EBF0F8"
             },
             "line": {
              "color": "white"
             }
            },
            "header": {
             "fill": {
              "color": "#C8D4E3"
             },
             "line": {
              "color": "white"
             }
            },
            "type": "table"
           }
          ]
         },
         "layout": {
          "annotationdefaults": {
           "arrowcolor": "#2a3f5f",
           "arrowhead": 0,
           "arrowwidth": 1
          },
          "coloraxis": {
           "colorbar": {
            "outlinewidth": 0,
            "ticks": ""
           }
          },
          "colorscale": {
           "diverging": [
            [
             0,
             "#8e0152"
            ],
            [
             0.1,
             "#c51b7d"
            ],
            [
             0.2,
             "#de77ae"
            ],
            [
             0.3,
             "#f1b6da"
            ],
            [
             0.4,
             "#fde0ef"
            ],
            [
             0.5,
             "#f7f7f7"
            ],
            [
             0.6,
             "#e6f5d0"
            ],
            [
             0.7,
             "#b8e186"
            ],
            [
             0.8,
             "#7fbc41"
            ],
            [
             0.9,
             "#4d9221"
            ],
            [
             1,
             "#276419"
            ]
           ],
           "sequential": [
            [
             0,
             "#0d0887"
            ],
            [
             0.1111111111111111,
             "#46039f"
            ],
            [
             0.2222222222222222,
             "#7201a8"
            ],
            [
             0.3333333333333333,
             "#9c179e"
            ],
            [
             0.4444444444444444,
             "#bd3786"
            ],
            [
             0.5555555555555556,
             "#d8576b"
            ],
            [
             0.6666666666666666,
             "#ed7953"
            ],
            [
             0.7777777777777778,
             "#fb9f3a"
            ],
            [
             0.8888888888888888,
             "#fdca26"
            ],
            [
             1,
             "#f0f921"
            ]
           ],
           "sequentialminus": [
            [
             0,
             "#0d0887"
            ],
            [
             0.1111111111111111,
             "#46039f"
            ],
            [
             0.2222222222222222,
             "#7201a8"
            ],
            [
             0.3333333333333333,
             "#9c179e"
            ],
            [
             0.4444444444444444,
             "#bd3786"
            ],
            [
             0.5555555555555556,
             "#d8576b"
            ],
            [
             0.6666666666666666,
             "#ed7953"
            ],
            [
             0.7777777777777778,
             "#fb9f3a"
            ],
            [
             0.8888888888888888,
             "#fdca26"
            ],
            [
             1,
             "#f0f921"
            ]
           ]
          },
          "colorway": [
           "#636efa",
           "#EF553B",
           "#00cc96",
           "#ab63fa",
           "#FFA15A",
           "#19d3f3",
           "#FF6692",
           "#B6E880",
           "#FF97FF",
           "#FECB52"
          ],
          "font": {
           "color": "#2a3f5f"
          },
          "geo": {
           "bgcolor": "white",
           "lakecolor": "white",
           "landcolor": "#E5ECF6",
           "showlakes": true,
           "showland": true,
           "subunitcolor": "white"
          },
          "hoverlabel": {
           "align": "left"
          },
          "hovermode": "closest",
          "mapbox": {
           "style": "light"
          },
          "paper_bgcolor": "white",
          "plot_bgcolor": "#E5ECF6",
          "polar": {
           "angularaxis": {
            "gridcolor": "white",
            "linecolor": "white",
            "ticks": ""
           },
           "bgcolor": "#E5ECF6",
           "radialaxis": {
            "gridcolor": "white",
            "linecolor": "white",
            "ticks": ""
           }
          },
          "scene": {
           "xaxis": {
            "backgroundcolor": "#E5ECF6",
            "gridcolor": "white",
            "gridwidth": 2,
            "linecolor": "white",
            "showbackground": true,
            "ticks": "",
            "zerolinecolor": "white"
           },
           "yaxis": {
            "backgroundcolor": "#E5ECF6",
            "gridcolor": "white",
            "gridwidth": 2,
            "linecolor": "white",
            "showbackground": true,
            "ticks": "",
            "zerolinecolor": "white"
           },
           "zaxis": {
            "backgroundcolor": "#E5ECF6",
            "gridcolor": "white",
            "gridwidth": 2,
            "linecolor": "white",
            "showbackground": true,
            "ticks": "",
            "zerolinecolor": "white"
           }
          },
          "shapedefaults": {
           "line": {
            "color": "#2a3f5f"
           }
          },
          "ternary": {
           "aaxis": {
            "gridcolor": "white",
            "linecolor": "white",
            "ticks": ""
           },
           "baxis": {
            "gridcolor": "white",
            "linecolor": "white",
            "ticks": ""
           },
           "bgcolor": "#E5ECF6",
           "caxis": {
            "gridcolor": "white",
            "linecolor": "white",
            "ticks": ""
           }
          },
          "title": {
           "x": 0.05
          },
          "xaxis": {
           "automargin": true,
           "gridcolor": "white",
           "linecolor": "white",
           "ticks": "",
           "title": {
            "standoff": 15
           },
           "zerolinecolor": "white",
           "zerolinewidth": 2
          },
          "yaxis": {
           "automargin": true,
           "gridcolor": "white",
           "linecolor": "white",
           "ticks": "",
           "title": {
            "standoff": 15
           },
           "zerolinecolor": "white",
           "zerolinewidth": 2
          }
         }
        }
       }
      },
      "text/html": [
       "<div>\n",
       "        \n",
       "        \n",
       "            <div id=\"3790c792-4e7e-453c-b9fe-d1fd8f3a828f\" class=\"plotly-graph-div\" style=\"height:525px; width:100%;\"></div>\n",
       "            <script type=\"text/javascript\">\n",
       "                require([\"plotly\"], function(Plotly) {\n",
       "                    window.PLOTLYENV=window.PLOTLYENV || {};\n",
       "                    \n",
       "                if (document.getElementById(\"3790c792-4e7e-453c-b9fe-d1fd8f3a828f\")) {\n",
       "                    Plotly.newPlot(\n",
       "                        '3790c792-4e7e-453c-b9fe-d1fd8f3a828f',\n",
       "                        [{\"name\": \"theta1\", \"type\": \"scatter\", \"x\": [0.0, 0.20000000298023224, 0.4000000059604645, 0.6000000089406967, 0.800000011920929, 1.0000000149011612, 1.2000000178813934, 1.4000000208616257, 1.600000023841858, 1.8000000268220901, 2.0000000298023224, 2.2000000327825546, 2.400000035762787, 2.600000038743019, 2.8000000417232513, 3.0000000447034836, 3.200000047683716, 3.400000050663948, 3.6000000536441803, 3.8000000566244125, 4.000000059604645, 4.200000062584877, 4.400000065565109, 4.6000000685453415, 4.800000071525574], \"y\": [3.34159255027771, 3.220451593399048, 2.9800353050231934, 2.823319911956787, 2.793369770050049, 2.8159396648406982, 2.841611385345459, 2.854069232940674, 2.848688840866089, 2.8352155685424805, 2.8340601921081543, 2.855323076248169, 2.8929383754730225, 2.9359467029571533, 2.9767038822174072, 3.0118415355682373, 3.04065203666687, 3.0636541843414307, 3.08181095123291, 3.0961835384368896, 3.1078097820281982, 3.1177005767822266, 3.1269001960754395, 3.1365160942077637, 3.1466031074523926]}, {\"name\": \"theta2\", \"type\": \"scatter\", \"x\": [0.0, 0.20000000298023224, 0.4000000059604645, 0.6000000089406967, 0.800000011920929, 1.0000000149011612, 1.2000000178813934, 1.4000000208616257, 1.600000023841858, 1.8000000268220901, 2.0000000298023224, 2.2000000327825546, 2.400000035762787, 2.600000038743019, 2.8000000417232513, 3.0000000447034836, 3.200000047683716, 3.400000050663948, 3.6000000536441803, 3.8000000566244125, 4.000000059604645, 4.200000062584877, 4.400000065565109, 4.6000000685453415, 4.800000071525574], \"y\": [0.10000000149011612, 0.4845156669616699, 1.3454347848892212, 2.1898746490478516, 2.8214917182922363, 3.224684238433838, 3.370934247970581, 3.2721951007843018, 2.9893016815185547, 2.6026339530944824, 2.1834757328033447, 1.7815784215927124, 1.425015926361084, 1.124868631362915, 0.8808900713920593, 0.6869499087333679, 0.5350504517555237, 0.4174436330795288, 0.32742393016815186, 0.25951284170150757, 0.20942175388336182, 0.17394398152828217, 0.15086428821086884, 0.13912352919578552, 0.14219726622104645]}, {\"name\": \"theta1_dot\", \"type\": \"scatter\", \"x\": [0.0, 0.20000000298023224, 0.4000000059604645, 0.6000000089406967, 0.800000011920929, 1.0000000149011612, 1.2000000178813934, 1.4000000208616257, 1.600000023841858, 1.8000000268220901, 2.0000000298023224, 2.2000000327825546, 2.400000035762787, 2.600000038743019, 2.8000000417232513, 3.0000000447034836, 3.200000047683716, 3.400000050663948, 3.6000000536441803, 3.8000000566244125, 4.000000059604645, 4.200000062584877, 4.400000065565109, 4.6000000685453415, 4.800000071525574], \"y\": [0.0, -1.2114105224609375, -1.1927534341812134, -0.37439846992492676, 0.07489502429962158, 0.1508047729730606, 0.10591249167919159, 0.01866721361875534, -0.0724717378616333, -0.06226230412721634, 0.05070952698588371, 0.16191977262496948, 0.21423199772834778, 0.2158508151769638, 0.19172130525112152, 0.1596551537513733, 0.12845054268836975, 0.1015699952840805, 0.07999812811613083, 0.0637291818857193, 0.052532948553562164, 0.046374931931495667, 0.04562119022011757, 0.050538040697574615, 0.05033242702484131]}, {\"name\": \"theta2_dot\", \"type\": \"scatter\", \"x\": [0.0, 0.20000000298023224, 0.4000000059604645, 0.6000000089406967, 0.800000011920929, 1.0000000149011612, 1.2000000178813934, 1.4000000208616257, 1.600000023841858, 1.8000000268220901, 2.0000000298023224, 2.2000000327825546, 2.400000035762787, 2.600000038743019, 2.8000000417232513, 3.0000000447034836, 3.200000047683716, 3.400000050663948, 3.6000000536441803, 3.8000000566244125, 4.000000059604645, 4.200000062584877, 4.400000065565109, 4.6000000685453415, 4.800000071525574], \"y\": [0.0, 3.845156669616699, 4.764034748077393, 3.6803650856018066, 2.6358044147491455, 1.396120548248291, 0.06638062000274658, -1.0537731647491455, -1.7751615047454834, -2.091515064239502, -2.100067138671875, -1.9189057350158691, -1.6467188596725464, -1.3547545671463013, -1.0850306749343872, -0.854371190071106, -0.6646233201026917, -0.5114447474479675, -0.3887523114681244, -0.2903585731983185, -0.21055224537849426, -0.14422553777694702, -0.0865713357925415, -0.030836312100291252, 0.06157376244664192]}],\n",
       "                        {\"template\": {\"data\": {\"bar\": [{\"error_x\": {\"color\": \"#2a3f5f\"}, \"error_y\": {\"color\": \"#2a3f5f\"}, \"marker\": {\"line\": {\"color\": \"#E5ECF6\", \"width\": 0.5}}, \"type\": \"bar\"}], \"barpolar\": [{\"marker\": {\"line\": {\"color\": \"#E5ECF6\", \"width\": 0.5}}, \"type\": \"barpolar\"}], \"carpet\": [{\"aaxis\": {\"endlinecolor\": \"#2a3f5f\", \"gridcolor\": \"white\", \"linecolor\": \"white\", \"minorgridcolor\": \"white\", \"startlinecolor\": \"#2a3f5f\"}, \"baxis\": {\"endlinecolor\": \"#2a3f5f\", \"gridcolor\": \"white\", \"linecolor\": \"white\", \"minorgridcolor\": \"white\", \"startlinecolor\": \"#2a3f5f\"}, \"type\": \"carpet\"}], \"choropleth\": [{\"colorbar\": {\"outlinewidth\": 0, \"ticks\": \"\"}, \"type\": \"choropleth\"}], \"contour\": [{\"colorbar\": {\"outlinewidth\": 0, \"ticks\": \"\"}, \"colorscale\": [[0.0, \"#0d0887\"], [0.1111111111111111, \"#46039f\"], [0.2222222222222222, \"#7201a8\"], [0.3333333333333333, \"#9c179e\"], [0.4444444444444444, \"#bd3786\"], [0.5555555555555556, \"#d8576b\"], [0.6666666666666666, \"#ed7953\"], [0.7777777777777778, \"#fb9f3a\"], [0.8888888888888888, \"#fdca26\"], [1.0, \"#f0f921\"]], \"type\": \"contour\"}], \"contourcarpet\": [{\"colorbar\": {\"outlinewidth\": 0, \"ticks\": \"\"}, \"type\": \"contourcarpet\"}], \"heatmap\": [{\"colorbar\": {\"outlinewidth\": 0, \"ticks\": \"\"}, \"colorscale\": [[0.0, \"#0d0887\"], [0.1111111111111111, \"#46039f\"], [0.2222222222222222, \"#7201a8\"], [0.3333333333333333, \"#9c179e\"], [0.4444444444444444, \"#bd3786\"], [0.5555555555555556, \"#d8576b\"], [0.6666666666666666, \"#ed7953\"], [0.7777777777777778, \"#fb9f3a\"], [0.8888888888888888, \"#fdca26\"], [1.0, \"#f0f921\"]], \"type\": \"heatmap\"}], \"heatmapgl\": [{\"colorbar\": {\"outlinewidth\": 0, \"ticks\": \"\"}, \"colorscale\": [[0.0, \"#0d0887\"], [0.1111111111111111, \"#46039f\"], [0.2222222222222222, \"#7201a8\"], [0.3333333333333333, \"#9c179e\"], [0.4444444444444444, \"#bd3786\"], [0.5555555555555556, \"#d8576b\"], [0.6666666666666666, \"#ed7953\"], [0.7777777777777778, \"#fb9f3a\"], [0.8888888888888888, \"#fdca26\"], [1.0, \"#f0f921\"]], \"type\": \"heatmapgl\"}], \"histogram\": [{\"marker\": {\"colorbar\": {\"outlinewidth\": 0, \"ticks\": \"\"}}, \"type\": \"histogram\"}], \"histogram2d\": [{\"colorbar\": {\"outlinewidth\": 0, \"ticks\": \"\"}, \"colorscale\": [[0.0, \"#0d0887\"], [0.1111111111111111, \"#46039f\"], [0.2222222222222222, \"#7201a8\"], [0.3333333333333333, \"#9c179e\"], [0.4444444444444444, \"#bd3786\"], [0.5555555555555556, \"#d8576b\"], [0.6666666666666666, \"#ed7953\"], [0.7777777777777778, \"#fb9f3a\"], [0.8888888888888888, \"#fdca26\"], [1.0, \"#f0f921\"]], \"type\": \"histogram2d\"}], \"histogram2dcontour\": [{\"colorbar\": {\"outlinewidth\": 0, \"ticks\": \"\"}, \"colorscale\": [[0.0, \"#0d0887\"], [0.1111111111111111, \"#46039f\"], [0.2222222222222222, \"#7201a8\"], [0.3333333333333333, \"#9c179e\"], [0.4444444444444444, \"#bd3786\"], [0.5555555555555556, \"#d8576b\"], [0.6666666666666666, \"#ed7953\"], [0.7777777777777778, \"#fb9f3a\"], [0.8888888888888888, \"#fdca26\"], [1.0, \"#f0f921\"]], \"type\": \"histogram2dcontour\"}], \"mesh3d\": [{\"colorbar\": {\"outlinewidth\": 0, \"ticks\": \"\"}, \"type\": \"mesh3d\"}], \"parcoords\": [{\"line\": {\"colorbar\": {\"outlinewidth\": 0, \"ticks\": \"\"}}, \"type\": \"parcoords\"}], \"pie\": [{\"automargin\": true, \"type\": \"pie\"}], \"scatter\": [{\"marker\": {\"colorbar\": {\"outlinewidth\": 0, \"ticks\": \"\"}}, \"type\": \"scatter\"}], \"scatter3d\": [{\"line\": {\"colorbar\": {\"outlinewidth\": 0, \"ticks\": \"\"}}, \"marker\": {\"colorbar\": {\"outlinewidth\": 0, \"ticks\": \"\"}}, \"type\": \"scatter3d\"}], \"scattercarpet\": [{\"marker\": {\"colorbar\": {\"outlinewidth\": 0, \"ticks\": \"\"}}, \"type\": \"scattercarpet\"}], \"scattergeo\": [{\"marker\": {\"colorbar\": {\"outlinewidth\": 0, \"ticks\": \"\"}}, \"type\": \"scattergeo\"}], \"scattergl\": [{\"marker\": {\"colorbar\": {\"outlinewidth\": 0, \"ticks\": \"\"}}, \"type\": \"scattergl\"}], \"scattermapbox\": [{\"marker\": {\"colorbar\": {\"outlinewidth\": 0, \"ticks\": \"\"}}, \"type\": \"scattermapbox\"}], \"scatterpolar\": [{\"marker\": {\"colorbar\": {\"outlinewidth\": 0, \"ticks\": \"\"}}, \"type\": \"scatterpolar\"}], \"scatterpolargl\": [{\"marker\": {\"colorbar\": {\"outlinewidth\": 0, \"ticks\": \"\"}}, \"type\": \"scatterpolargl\"}], \"scatterternary\": [{\"marker\": {\"colorbar\": {\"outlinewidth\": 0, \"ticks\": \"\"}}, \"type\": \"scatterternary\"}], \"surface\": [{\"colorbar\": {\"outlinewidth\": 0, \"ticks\": \"\"}, \"colorscale\": [[0.0, \"#0d0887\"], [0.1111111111111111, \"#46039f\"], [0.2222222222222222, \"#7201a8\"], [0.3333333333333333, \"#9c179e\"], [0.4444444444444444, \"#bd3786\"], [0.5555555555555556, \"#d8576b\"], [0.6666666666666666, \"#ed7953\"], [0.7777777777777778, \"#fb9f3a\"], [0.8888888888888888, \"#fdca26\"], [1.0, \"#f0f921\"]], \"type\": \"surface\"}], \"table\": [{\"cells\": {\"fill\": {\"color\": \"#EBF0F8\"}, \"line\": {\"color\": \"white\"}}, \"header\": {\"fill\": {\"color\": \"#C8D4E3\"}, \"line\": {\"color\": \"white\"}}, \"type\": \"table\"}]}, \"layout\": {\"annotationdefaults\": {\"arrowcolor\": \"#2a3f5f\", \"arrowhead\": 0, \"arrowwidth\": 1}, \"coloraxis\": {\"colorbar\": {\"outlinewidth\": 0, \"ticks\": \"\"}}, \"colorscale\": {\"diverging\": [[0, \"#8e0152\"], [0.1, \"#c51b7d\"], [0.2, \"#de77ae\"], [0.3, \"#f1b6da\"], [0.4, \"#fde0ef\"], [0.5, \"#f7f7f7\"], [0.6, \"#e6f5d0\"], [0.7, \"#b8e186\"], [0.8, \"#7fbc41\"], [0.9, \"#4d9221\"], [1, \"#276419\"]], \"sequential\": [[0.0, \"#0d0887\"], [0.1111111111111111, \"#46039f\"], [0.2222222222222222, \"#7201a8\"], [0.3333333333333333, \"#9c179e\"], [0.4444444444444444, \"#bd3786\"], [0.5555555555555556, \"#d8576b\"], [0.6666666666666666, \"#ed7953\"], [0.7777777777777778, \"#fb9f3a\"], [0.8888888888888888, \"#fdca26\"], [1.0, \"#f0f921\"]], \"sequentialminus\": [[0.0, \"#0d0887\"], [0.1111111111111111, \"#46039f\"], [0.2222222222222222, \"#7201a8\"], [0.3333333333333333, \"#9c179e\"], [0.4444444444444444, \"#bd3786\"], [0.5555555555555556, \"#d8576b\"], [0.6666666666666666, \"#ed7953\"], [0.7777777777777778, \"#fb9f3a\"], [0.8888888888888888, \"#fdca26\"], [1.0, \"#f0f921\"]]}, \"colorway\": [\"#636efa\", \"#EF553B\", \"#00cc96\", \"#ab63fa\", \"#FFA15A\", \"#19d3f3\", \"#FF6692\", \"#B6E880\", \"#FF97FF\", \"#FECB52\"], \"font\": {\"color\": \"#2a3f5f\"}, \"geo\": {\"bgcolor\": \"white\", \"lakecolor\": \"white\", \"landcolor\": \"#E5ECF6\", \"showlakes\": true, \"showland\": true, \"subunitcolor\": \"white\"}, \"hoverlabel\": {\"align\": \"left\"}, \"hovermode\": \"closest\", \"mapbox\": {\"style\": \"light\"}, \"paper_bgcolor\": \"white\", \"plot_bgcolor\": \"#E5ECF6\", \"polar\": {\"angularaxis\": {\"gridcolor\": \"white\", \"linecolor\": \"white\", \"ticks\": \"\"}, \"bgcolor\": \"#E5ECF6\", \"radialaxis\": {\"gridcolor\": \"white\", \"linecolor\": \"white\", \"ticks\": \"\"}}, \"scene\": {\"xaxis\": {\"backgroundcolor\": \"#E5ECF6\", \"gridcolor\": \"white\", \"gridwidth\": 2, \"linecolor\": \"white\", \"showbackground\": true, \"ticks\": \"\", \"zerolinecolor\": \"white\"}, \"yaxis\": {\"backgroundcolor\": \"#E5ECF6\", \"gridcolor\": \"white\", \"gridwidth\": 2, \"linecolor\": \"white\", \"showbackground\": true, \"ticks\": \"\", \"zerolinecolor\": \"white\"}, \"zaxis\": {\"backgroundcolor\": \"#E5ECF6\", \"gridcolor\": \"white\", \"gridwidth\": 2, \"linecolor\": \"white\", \"showbackground\": true, \"ticks\": \"\", \"zerolinecolor\": \"white\"}}, \"shapedefaults\": {\"line\": {\"color\": \"#2a3f5f\"}}, \"ternary\": {\"aaxis\": {\"gridcolor\": \"white\", \"linecolor\": \"white\", \"ticks\": \"\"}, \"baxis\": {\"gridcolor\": \"white\", \"linecolor\": \"white\", \"ticks\": \"\"}, \"bgcolor\": \"#E5ECF6\", \"caxis\": {\"gridcolor\": \"white\", \"linecolor\": \"white\", \"ticks\": \"\"}}, \"title\": {\"x\": 0.05}, \"xaxis\": {\"automargin\": true, \"gridcolor\": \"white\", \"linecolor\": \"white\", \"ticks\": \"\", \"title\": {\"standoff\": 15}, \"zerolinecolor\": \"white\", \"zerolinewidth\": 2}, \"yaxis\": {\"automargin\": true, \"gridcolor\": \"white\", \"linecolor\": \"white\", \"ticks\": \"\", \"title\": {\"standoff\": 15}, \"zerolinecolor\": \"white\", \"zerolinewidth\": 2}}}},\n",
       "                        {\"responsive\": true}\n",
       "                    ).then(function(){\n",
       "                            \n",
       "var gd = document.getElementById('3790c792-4e7e-453c-b9fe-d1fd8f3a828f');\n",
       "var x = new MutationObserver(function (mutations, observer) {{\n",
       "        var display = window.getComputedStyle(gd).display;\n",
       "        if (!display || display === 'none') {{\n",
       "            console.log([gd, 'removed!']);\n",
       "            Plotly.purge(gd);\n",
       "            observer.disconnect();\n",
       "        }}\n",
       "}});\n",
       "\n",
       "// Listen for the removal of the full notebook cells\n",
       "var notebookContainer = gd.closest('#notebook-container');\n",
       "if (notebookContainer) {{\n",
       "    x.observe(notebookContainer, {childList: true});\n",
       "}}\n",
       "\n",
       "// Listen for the clearing of the current output cell\n",
       "var outputEl = gd.closest('.output');\n",
       "if (outputEl) {{\n",
       "    x.observe(outputEl, {childList: true});\n",
       "}}\n",
       "\n",
       "                        })\n",
       "                };\n",
       "                });\n",
       "            </script>\n",
       "        </div>"
      ]
     },
     "metadata": {},
     "output_type": "display_data"
    }
   ],
   "source": [
    "x0 = torch.tensor([np.pi+.2, .1, 0., 0.], dtype=vf.dtype)\n",
    "v, res = V(x0)\n",
    "sys.plot_result(res).show()"
   ]
  },
  {
   "cell_type": "code",
   "execution_count": 5,
   "metadata": {},
   "outputs": [
    {
     "data": {
      "application/vnd.plotly.v1+json": {
       "config": {
        "plotlyServerURL": "https://plot.ly"
       },
       "data": [
        {
         "type": "scatter",
         "x": [
          0,
          6.550068792421371e-05,
          0.000720507581718266,
          0.007270576432347298,
          0.07277126610279083,
          0.10000000149011612,
          0.14569424092769623,
          0.20000000298023224,
          0.2505975365638733,
          0.30000001192092896,
          0.3518444299697876,
          0.4000000059604645,
          0.452506422996521,
          0.5,
          0.5526853203773499,
          0.6000000238418579,
          0.6521754264831543,
          0.699999988079071,
          0.7509220838546753,
          0.800000011920929,
          0.8488430976867676,
          0.8999999761581421,
          0.9457135200500488,
          1,
          1.0410962104797363,
          1.100000023841858,
          1.1328845024108887,
          1.2000000476837158,
          1.2322638034820557,
          1.2999999523162842,
          1.340941071510315,
          1.399999976158142,
          1.4460396766662598,
          1.5,
          1.5504498481750488,
          1.600000023841858,
          1.6547725200653076,
          1.7000000476837158,
          1.7591872215270996,
          1.7999999523162842,
          1.8637923002243042,
          1.899999976158142,
          1.969063401222229,
          2,
          2.0758779048919678,
          2.0999999046325684,
          2.187938928604126,
          2.200000047683716,
          2.2930054664611816,
          2.299999952316284,
          2.3795394897460938,
          2.4000000953674316,
          2.470705986022949,
          2.5,
          2.564964532852173,
          2.5999999046325684,
          2.658687114715576,
          2.700000047683716,
          2.7554807662963867,
          2.799999952316284,
          2.8551700115203857,
          2.9000000953674316,
          2.9522101879119873,
          3,
          3.048814058303833,
          3.0999999046325684,
          3.1445367336273193,
          3.200000047683716,
          3.2375261783599854,
          3.299999952316284,
          3.3332908153533936,
          3.4000000953674316,
          3.4350719451904297,
          3.5,
          3.5448389053344727,
          3.5999999046325684,
          3.64988112449646,
          3.700000047683716,
          3.7539916038513184,
          3.799999952316284,
          3.8579461574554443,
          3.9000000953674316,
          3.9622321128845215,
          4,
          4.067485809326172,
          4.099999904632568,
          4.175172328948975,
          4.199999809265137,
          4.291274070739746,
          4.300000190734863,
          4.394155502319336,
          4.400000095367432,
          4.478297710418701,
          4.5,
          4.5703349113464355,
          4.599999904632568,
          4.665200233459473,
          4.699999809265137,
          4.760410308837891,
          4.800000190734863,
          4.857128143310547,
          4.900000095367432
         ],
         "y": [
          3.2415926456451416,
          3.2415926456451416,
          3.241590738296509,
          3.2414095401763916,
          3.2248175144195557,
          3.211108922958374,
          3.181191921234131,
          3.1378402709960938,
          3.0924642086029053,
          3.0463755130767822,
          2.9978928565979004,
          2.9544973373413086,
          2.9099137783050537,
          2.8729021549224854,
          2.835801839828491,
          2.806335926055908,
          2.77795147895813,
          2.755697011947632,
          2.7356648445129395,
          2.719698429107666,
          2.7067501544952393,
          2.6959571838378906,
          2.688490629196167,
          2.6818206310272217,
          2.6783013343811035,
          2.674992322921753,
          2.674150228500366,
          2.67389178276062,
          2.674708843231201,
          2.6777734756469727,
          2.6808431148529053,
          2.686671733856201,
          2.6926486492156982,
          2.701223134994507,
          2.7110133171081543,
          2.7223458290100098,
          2.7369892597198486,
          2.750805616378784,
          2.7711968421936035,
          2.786797285079956,
          2.8134069442749023,
          2.8296926021575928,
          2.8625776767730713,
          2.878034830093384,
          2.9170329570770264,
          2.9297053813934326,
          2.975928544998169,
          2.982245922088623,
          3.0297563076019287,
          3.0332255363464355,
          3.0712876319885254,
          3.080573797225952,
          3.1110661029815674,
          3.122807741165161,
          3.147125244140625,
          3.1590940952301025,
          3.1775286197662354,
          3.189177989959717,
          3.2032556533813477,
          3.213207483291626,
          3.2240264415740967,
          3.2315757274627686,
          3.2390880584716797,
          3.2447896003723145,
          3.249526023864746,
          3.253399133682251,
          3.255876302719116,
          3.257953643798828,
          3.2586886882781982,
          3.2589821815490723,
          3.2585883140563965,
          3.2569901943206787,
          3.255629777908325,
          3.2524590492248535,
          3.249708652496338,
          3.2458488941192627,
          3.2419042587280273,
          3.237598180770874,
          3.2326080799102783,
          3.2281248569488525,
          3.222233772277832,
          3.2178215980529785,
          3.2111566066741943,
          3.207052230834961,
          3.1996939182281494,
          3.1961476802825928,
          3.1880428791046143,
          3.1853997707366943,
          3.1759395599365234,
          3.175057888031006,
          3.165877103805542,
          3.1653294563293457,
          3.1582417488098145,
          3.156376838684082,
          3.1506030559539795,
          3.1483187675476074,
          3.1435775756835938,
          3.14123272895813,
          3.1374361515045166,
          3.1351613998413086,
          3.1321487426757812,
          3.1301145553588867
         ]
        },
        {
         "type": "scatter",
         "x": [
          0,
          6.550068792421371e-05,
          0.000720507581718266,
          0.007270576432347298,
          0.07277126610279083,
          0.10000000149011612,
          0.14569424092769623,
          0.20000000298023224,
          0.2505975365638733,
          0.30000001192092896,
          0.3518444299697876,
          0.4000000059604645,
          0.452506422996521,
          0.5,
          0.5526853203773499,
          0.6000000238418579,
          0.6521754264831543,
          0.699999988079071,
          0.7509220838546753,
          0.800000011920929,
          0.8488430976867676,
          0.8999999761581421,
          0.9457135200500488,
          1,
          1.0410962104797363,
          1.100000023841858,
          1.1328845024108887,
          1.2000000476837158,
          1.2322638034820557,
          1.2999999523162842,
          1.340941071510315,
          1.399999976158142,
          1.4460396766662598,
          1.5,
          1.5504498481750488,
          1.600000023841858,
          1.6547725200653076,
          1.7000000476837158,
          1.7591872215270996,
          1.7999999523162842,
          1.8637923002243042,
          1.899999976158142,
          1.969063401222229,
          2,
          2.0758779048919678,
          2.0999999046325684,
          2.187938928604126,
          2.200000047683716,
          2.2930054664611816,
          2.299999952316284,
          2.3795394897460938,
          2.4000000953674316,
          2.470705986022949,
          2.5,
          2.564964532852173,
          2.5999999046325684,
          2.658687114715576,
          2.700000047683716,
          2.7554807662963867,
          2.799999952316284,
          2.8551700115203857,
          2.9000000953674316,
          2.9522101879119873,
          3,
          3.048814058303833,
          3.0999999046325684,
          3.1445367336273193,
          3.200000047683716,
          3.2375261783599854,
          3.299999952316284,
          3.3332908153533936,
          3.4000000953674316,
          3.4350719451904297,
          3.5,
          3.5448389053344727,
          3.5999999046325684,
          3.64988112449646,
          3.700000047683716,
          3.7539916038513184,
          3.799999952316284,
          3.8579461574554443,
          3.9000000953674316,
          3.9622321128845215,
          4,
          4.067485809326172,
          4.099999904632568,
          4.175172328948975,
          4.199999809265137,
          4.291274070739746,
          4.300000190734863,
          4.394155502319336,
          4.400000095367432,
          4.478297710418701,
          4.5,
          4.5703349113464355,
          4.599999904632568,
          4.665200233459473,
          4.699999809265137,
          4.760410308837891,
          4.800000190734863,
          4.857128143310547,
          4.900000095367432
         ],
         "y": [
          0.10000000149011612,
          0.1000000461935997,
          0.10000526905059814,
          0.1005319207906723,
          0.1490626484155655,
          0.18944691121578217,
          0.2783264219760895,
          0.4091169834136963,
          0.5486457943916321,
          0.6938545107841492,
          0.8511955142021179,
          0.99728924036026,
          1.1539782285690308,
          1.2908456325531006,
          1.4361158609390259,
          1.5592970848083496,
          1.6866270303726196,
          1.7946141958236694,
          1.9000545740127563,
          1.9917685985565186,
          2.0729527473449707,
          2.1468894481658936,
          2.202791452407837,
          2.256842851638794,
          2.28816556930542,
          2.319478750228882,
          2.3292253017425537,
          2.33412504196167,
          2.3284101486206055,
          2.3019440174102783,
          2.2757043838500977,
          2.2259910106658936,
          2.177435874938965,
          2.1109395027160645,
          2.039832830429077,
          1.962610125541687,
          1.8696024417877197,
          1.7874870300292969,
          1.6740347146987915,
          1.592340350151062,
          1.4606294631958008,
          1.3840020895004272,
          1.2360599040985107,
          1.169219970703125,
          1.0061146020889282,
          0.9546141028404236,
          0.7710655331611633,
          0.7464457750320435,
          0.5635024905204773,
          0.5502703785896301,
          0.40573662519454956,
          0.3705343008041382,
          0.2549773156642914,
          0.21027247607707977,
          0.11728599667549133,
          0.07105737179517746,
          -0.0007640719995833933,
          -0.04681822657585144,
          -0.10325849056243896,
          -0.14395461976528168,
          -0.18911753594875336,
          -0.22150875627994537,
          -0.2547072470188141,
          -0.28092509508132935,
          -0.3037973642349243,
          -0.32379233837127686,
          -0.33793437480926514,
          -0.3517553210258484,
          -0.35864365100860596,
          -0.3664718270301819,
          -0.3686051070690155,
          -0.3695959448814392,
          -0.3681532144546509,
          -0.3627665340900421,
          -0.3568549156188965,
          -0.3475956916809082,
          -0.337381511926651,
          -0.3256543278694153,
          -0.31152448058128357,
          -0.29845428466796875,
          -0.28085988759994507,
          -0.26742789149284363,
          -0.2467915117740631,
          -0.2339070588350296,
          -0.21050426363945007,
          -0.19910486042499542,
          -0.17276501655578613,
          -0.16409853100776672,
          -0.1327628195285797,
          -0.12981900572776794,
          -0.09890947490930557,
          -0.09705016762018204,
          -0.07284622639417648,
          -0.06642230600118637,
          -0.04640910401940346,
          -0.03841746598482132,
          -0.021719392389059067,
          -0.01337850745767355,
          0.00023031867749523371,
          0.008476055227220058,
          0.019499249756336212,
          0.027040809392929077
         ]
        },
        {
         "type": "scatter",
         "x": [
          0,
          6.550068792421371e-05,
          0.000720507581718266,
          0.007270576432347298,
          0.07277126610279083,
          0.10000000149011612,
          0.14569424092769623,
          0.20000000298023224,
          0.2505975365638733,
          0.30000001192092896,
          0.3518444299697876,
          0.4000000059604645,
          0.452506422996521,
          0.5,
          0.5526853203773499,
          0.6000000238418579,
          0.6521754264831543,
          0.699999988079071,
          0.7509220838546753,
          0.800000011920929,
          0.8488430976867676,
          0.8999999761581421,
          0.9457135200500488,
          1,
          1.0410962104797363,
          1.100000023841858,
          1.1328845024108887,
          1.2000000476837158,
          1.2322638034820557,
          1.2999999523162842,
          1.340941071510315,
          1.399999976158142,
          1.4460396766662598,
          1.5,
          1.5504498481750488,
          1.600000023841858,
          1.6547725200653076,
          1.7000000476837158,
          1.7591872215270996,
          1.7999999523162842,
          1.8637923002243042,
          1.899999976158142,
          1.969063401222229,
          2,
          2.0758779048919678,
          2.0999999046325684,
          2.187938928604126,
          2.200000047683716,
          2.2930054664611816,
          2.299999952316284,
          2.3795394897460938,
          2.4000000953674316,
          2.470705986022949,
          2.5,
          2.564964532852173,
          2.5999999046325684,
          2.658687114715576,
          2.700000047683716,
          2.7554807662963867,
          2.799999952316284,
          2.8551700115203857,
          2.9000000953674316,
          2.9522101879119873,
          3,
          3.048814058303833,
          3.0999999046325684,
          3.1445367336273193,
          3.200000047683716,
          3.2375261783599854,
          3.299999952316284,
          3.3332908153533936,
          3.4000000953674316,
          3.4350719451904297,
          3.5,
          3.5448389053344727,
          3.5999999046325684,
          3.64988112449646,
          3.700000047683716,
          3.7539916038513184,
          3.799999952316284,
          3.8579461574554443,
          3.9000000953674316,
          3.9622321128845215,
          4,
          4.067485809326172,
          4.099999904632568,
          4.175172328948975,
          4.199999809265137,
          4.291274070739746,
          4.300000190734863,
          4.394155502319336,
          4.400000095367432,
          4.478297710418701,
          4.5,
          4.5703349113464355,
          4.599999904632568,
          4.665200233459473,
          4.699999809265137,
          4.760410308837891,
          4.800000190734863,
          4.857128143310547,
          4.900000095367432
         ],
         "y": [
          0,
          -0.0004584900161717087,
          -0.0050366949290037155,
          -0.05015246197581291,
          -0.4375969469547272,
          -0.5662281513214111,
          -0.7326927185058594,
          -0.8494042754173279,
          -0.9291138648986816,
          -0.9238477945327759,
          -0.9307901859283447,
          -0.8604356646537781,
          -0.8237414360046387,
          -0.7258303761482239,
          -0.6707003116607666,
          -0.5673812031745911,
          -0.5109106302261353,
          -0.413255512714386,
          -0.3656231164932251,
          -0.27896562218666077,
          -0.24486280977725983,
          -0.17096243798732758,
          -0.1506243348121643,
          -0.08840023726224899,
          -0.07900578528642654,
          -0.025474926456809044,
          -0.02335100620985031,
          0.025890635326504707,
          0.02696852758526802,
          0.07397273182868958,
          0.07944977283477783,
          0.12590885162353516,
          0.13796721398830414,
          0.18637552857398987,
          0.20653682947158813,
          0.25612956285476685,
          0.2837032973766327,
          0.3312996029853821,
          0.3629671633243561,
          0.40441659092903137,
          0.4348602890968323,
          0.46663516759872437,
          0.4901684522628784,
          0.5102001428604126,
          0.5213289856910706,
          0.5298168063163757,
          0.5236600637435913,
          0.523956835269928,
          0.4970613718032837,
          0.4948979318141937,
          0.4595829248428345,
          0.4479588270187378,
          0.4111688435077667,
          0.3898616135120392,
          0.3551023602485657,
          0.32702571153640747,
          0.29773595929145813,
          0.2644316852092743,
          0.23970462381839752,
          0.20516324043273926,
          0.18362243473529816,
          0.15085437893867493,
          0.13387131690979004,
          0.10211876034736633,
          0.08934762328863144,
          0.05906681716442108,
          0.05011442303657532,
          0.021522998809814453,
          0.016293086111545563,
          -0.010772871784865856,
          -0.013879019767045975,
          -0.03808180242776871,
          -0.040475256741046906,
          -0.060646433383226395,
          -0.06345504522323608,
          -0.07868801802396774,
          -0.08096572756767273,
          -0.09242839366197586,
          -0.09387746453285217,
          -0.10210432857275009,
          -0.10256696492433548,
          -0.10799466073513031,
          -0.10736414790153503,
          -0.11042265594005585,
          -0.10859750956296921,
          -0.10975795984268188,
          -0.1065690889954567,
          -0.10641985386610031,
          -0.10123162716627121,
          -0.10084422677755356,
          -0.09394623339176178,
          -0.09347045421600342,
          -0.08707369118928909,
          -0.08474821597337723,
          -0.0787937268614769,
          -0.07510273158550262,
          -0.06962382793426514,
          -0.06491924077272415,
          -0.06006662920117378,
          -0.05453384667634964,
          -0.050244539976119995,
          -0.04424654692411423
         ]
        },
        {
         "type": "scatter",
         "x": [
          0,
          6.550068792421371e-05,
          0.000720507581718266,
          0.007270576432347298,
          0.07277126610279083,
          0.10000000149011612,
          0.14569424092769623,
          0.20000000298023224,
          0.2505975365638733,
          0.30000001192092896,
          0.3518444299697876,
          0.4000000059604645,
          0.452506422996521,
          0.5,
          0.5526853203773499,
          0.6000000238418579,
          0.6521754264831543,
          0.699999988079071,
          0.7509220838546753,
          0.800000011920929,
          0.8488430976867676,
          0.8999999761581421,
          0.9457135200500488,
          1,
          1.0410962104797363,
          1.100000023841858,
          1.1328845024108887,
          1.2000000476837158,
          1.2322638034820557,
          1.2999999523162842,
          1.340941071510315,
          1.399999976158142,
          1.4460396766662598,
          1.5,
          1.5504498481750488,
          1.600000023841858,
          1.6547725200653076,
          1.7000000476837158,
          1.7591872215270996,
          1.7999999523162842,
          1.8637923002243042,
          1.899999976158142,
          1.969063401222229,
          2,
          2.0758779048919678,
          2.0999999046325684,
          2.187938928604126,
          2.200000047683716,
          2.2930054664611816,
          2.299999952316284,
          2.3795394897460938,
          2.4000000953674316,
          2.470705986022949,
          2.5,
          2.564964532852173,
          2.5999999046325684,
          2.658687114715576,
          2.700000047683716,
          2.7554807662963867,
          2.799999952316284,
          2.8551700115203857,
          2.9000000953674316,
          2.9522101879119873,
          3,
          3.048814058303833,
          3.0999999046325684,
          3.1445367336273193,
          3.200000047683716,
          3.2375261783599854,
          3.299999952316284,
          3.3332908153533936,
          3.4000000953674316,
          3.4350719451904297,
          3.5,
          3.5448389053344727,
          3.5999999046325684,
          3.64988112449646,
          3.700000047683716,
          3.7539916038513184,
          3.799999952316284,
          3.8579461574554443,
          3.9000000953674316,
          3.9622321128845215,
          4,
          4.067485809326172,
          4.099999904632568,
          4.175172328948975,
          4.199999809265137,
          4.291274070739746,
          4.300000190734863,
          4.394155502319336,
          4.400000095367432,
          4.478297710418701,
          4.5,
          4.5703349113464355,
          4.599999904632568,
          4.665200233459473,
          4.699999809265137,
          4.760410308837891,
          4.800000190734863,
          4.857128143310547,
          4.900000095367432
         ],
         "y": [
          0,
          0.0013300295686349273,
          0.014612474478781223,
          0.1456597000360489,
          1.2855844497680664,
          1.6724525690078735,
          2.1896615028381348,
          2.5887997150421143,
          2.8867061138153076,
          2.9574637413024902,
          3.070451498031616,
          2.9660205841064453,
          2.9632272720336914,
          2.7728238105773926,
          2.7062439918518066,
          2.4751832485198975,
          2.373440980911255,
          2.117652177810669,
          1.9947612285614014,
          1.7173875570297241,
          1.581899881362915,
          1.282193660736084,
          1.143054723739624,
          0.8199746012687683,
          0.6891372799873352,
          0.3430522084236145,
          0.24090257287025452,
          -0.13159991800785065,
          -0.23018862307071686,
          -0.5848019123077393,
          -0.70763099193573,
          -0.9986618161201477,
          -1.1223375797271729,
          -1.3593422174453735,
          -1.471962571144104,
          -1.6580088138580322,
          -1.7511297464370728,
          -1.8899898529052734,
          -1.9571572542190552,
          -2.053513288497925,
          -2.0893821716308594,
          -2.1483192443847656,
          -2.1486828327178955,
          -2.1753804683685303,
          -2.134751081466675,
          -2.136535406112671,
          -2.0456643104553223,
          -2.0370407104492188,
          -1.8970288038253784,
          -1.8865315914154053,
          -1.7418367862701416,
          -1.6987661123275757,
          -1.561404824256897,
          -1.4892117977142334,
          -1.3639354705810547,
          -1.2721165418624878,
          -1.1663589477539062,
          -1.058459758758545,
          -0.9672691822052002,
          -0.8550850749015808,
          -0.7730705738067627,
          -0.6658324003219604,
          -0.5977984666824341,
          -0.4924488961696625,
          -0.4378006160259247,
          -0.33571475744247437,
          -0.29393085837364197,
          -0.19580760598182678,
          -0.1677292436361313,
          -0.07268328219652176,
          -0.052903566509485245,
          0.033802397549152374,
          0.05102405697107315,
          0.12389898300170898,
          0.14343832433223724,
          0.19797281920909882,
          0.2154228836297989,
          0.2565584182739258,
          0.2705751061439514,
          0.30037224292755127,
          0.310282826423645,
          0.33035215735435486,
          0.335762619972229,
          0.347629576921463,
          0.34823963046073914,
          0.3535046875476837,
          0.34887152910232544,
          0.34943169355392456,
          0.3378317654132843,
          0.3369142413139343,
          0.318770170211792,
          0.31746068596839905,
          0.2992848753929138,
          0.2925969958305359,
          0.274673730134964,
          0.2637706398963928,
          0.24647124111652374,
          0.2323073297739029,
          0.21630293130874634,
          0.19938507676124573,
          0.18465086817741394,
          0.16606727242469788
         ]
        }
       ],
       "layout": {
        "template": {
         "data": {
          "bar": [
           {
            "error_x": {
             "color": "#2a3f5f"
            },
            "error_y": {
             "color": "#2a3f5f"
            },
            "marker": {
             "line": {
              "color": "#E5ECF6",
              "width": 0.5
             }
            },
            "type": "bar"
           }
          ],
          "barpolar": [
           {
            "marker": {
             "line": {
              "color": "#E5ECF6",
              "width": 0.5
             }
            },
            "type": "barpolar"
           }
          ],
          "carpet": [
           {
            "aaxis": {
             "endlinecolor": "#2a3f5f",
             "gridcolor": "white",
             "linecolor": "white",
             "minorgridcolor": "white",
             "startlinecolor": "#2a3f5f"
            },
            "baxis": {
             "endlinecolor": "#2a3f5f",
             "gridcolor": "white",
             "linecolor": "white",
             "minorgridcolor": "white",
             "startlinecolor": "#2a3f5f"
            },
            "type": "carpet"
           }
          ],
          "choropleth": [
           {
            "colorbar": {
             "outlinewidth": 0,
             "ticks": ""
            },
            "type": "choropleth"
           }
          ],
          "contour": [
           {
            "colorbar": {
             "outlinewidth": 0,
             "ticks": ""
            },
            "colorscale": [
             [
              0,
              "#0d0887"
             ],
             [
              0.1111111111111111,
              "#46039f"
             ],
             [
              0.2222222222222222,
              "#7201a8"
             ],
             [
              0.3333333333333333,
              "#9c179e"
             ],
             [
              0.4444444444444444,
              "#bd3786"
             ],
             [
              0.5555555555555556,
              "#d8576b"
             ],
             [
              0.6666666666666666,
              "#ed7953"
             ],
             [
              0.7777777777777778,
              "#fb9f3a"
             ],
             [
              0.8888888888888888,
              "#fdca26"
             ],
             [
              1,
              "#f0f921"
             ]
            ],
            "type": "contour"
           }
          ],
          "contourcarpet": [
           {
            "colorbar": {
             "outlinewidth": 0,
             "ticks": ""
            },
            "type": "contourcarpet"
           }
          ],
          "heatmap": [
           {
            "colorbar": {
             "outlinewidth": 0,
             "ticks": ""
            },
            "colorscale": [
             [
              0,
              "#0d0887"
             ],
             [
              0.1111111111111111,
              "#46039f"
             ],
             [
              0.2222222222222222,
              "#7201a8"
             ],
             [
              0.3333333333333333,
              "#9c179e"
             ],
             [
              0.4444444444444444,
              "#bd3786"
             ],
             [
              0.5555555555555556,
              "#d8576b"
             ],
             [
              0.6666666666666666,
              "#ed7953"
             ],
             [
              0.7777777777777778,
              "#fb9f3a"
             ],
             [
              0.8888888888888888,
              "#fdca26"
             ],
             [
              1,
              "#f0f921"
             ]
            ],
            "type": "heatmap"
           }
          ],
          "heatmapgl": [
           {
            "colorbar": {
             "outlinewidth": 0,
             "ticks": ""
            },
            "colorscale": [
             [
              0,
              "#0d0887"
             ],
             [
              0.1111111111111111,
              "#46039f"
             ],
             [
              0.2222222222222222,
              "#7201a8"
             ],
             [
              0.3333333333333333,
              "#9c179e"
             ],
             [
              0.4444444444444444,
              "#bd3786"
             ],
             [
              0.5555555555555556,
              "#d8576b"
             ],
             [
              0.6666666666666666,
              "#ed7953"
             ],
             [
              0.7777777777777778,
              "#fb9f3a"
             ],
             [
              0.8888888888888888,
              "#fdca26"
             ],
             [
              1,
              "#f0f921"
             ]
            ],
            "type": "heatmapgl"
           }
          ],
          "histogram": [
           {
            "marker": {
             "colorbar": {
              "outlinewidth": 0,
              "ticks": ""
             }
            },
            "type": "histogram"
           }
          ],
          "histogram2d": [
           {
            "colorbar": {
             "outlinewidth": 0,
             "ticks": ""
            },
            "colorscale": [
             [
              0,
              "#0d0887"
             ],
             [
              0.1111111111111111,
              "#46039f"
             ],
             [
              0.2222222222222222,
              "#7201a8"
             ],
             [
              0.3333333333333333,
              "#9c179e"
             ],
             [
              0.4444444444444444,
              "#bd3786"
             ],
             [
              0.5555555555555556,
              "#d8576b"
             ],
             [
              0.6666666666666666,
              "#ed7953"
             ],
             [
              0.7777777777777778,
              "#fb9f3a"
             ],
             [
              0.8888888888888888,
              "#fdca26"
             ],
             [
              1,
              "#f0f921"
             ]
            ],
            "type": "histogram2d"
           }
          ],
          "histogram2dcontour": [
           {
            "colorbar": {
             "outlinewidth": 0,
             "ticks": ""
            },
            "colorscale": [
             [
              0,
              "#0d0887"
             ],
             [
              0.1111111111111111,
              "#46039f"
             ],
             [
              0.2222222222222222,
              "#7201a8"
             ],
             [
              0.3333333333333333,
              "#9c179e"
             ],
             [
              0.4444444444444444,
              "#bd3786"
             ],
             [
              0.5555555555555556,
              "#d8576b"
             ],
             [
              0.6666666666666666,
              "#ed7953"
             ],
             [
              0.7777777777777778,
              "#fb9f3a"
             ],
             [
              0.8888888888888888,
              "#fdca26"
             ],
             [
              1,
              "#f0f921"
             ]
            ],
            "type": "histogram2dcontour"
           }
          ],
          "mesh3d": [
           {
            "colorbar": {
             "outlinewidth": 0,
             "ticks": ""
            },
            "type": "mesh3d"
           }
          ],
          "parcoords": [
           {
            "line": {
             "colorbar": {
              "outlinewidth": 0,
              "ticks": ""
             }
            },
            "type": "parcoords"
           }
          ],
          "pie": [
           {
            "automargin": true,
            "type": "pie"
           }
          ],
          "scatter": [
           {
            "marker": {
             "colorbar": {
              "outlinewidth": 0,
              "ticks": ""
             }
            },
            "type": "scatter"
           }
          ],
          "scatter3d": [
           {
            "line": {
             "colorbar": {
              "outlinewidth": 0,
              "ticks": ""
             }
            },
            "marker": {
             "colorbar": {
              "outlinewidth": 0,
              "ticks": ""
             }
            },
            "type": "scatter3d"
           }
          ],
          "scattercarpet": [
           {
            "marker": {
             "colorbar": {
              "outlinewidth": 0,
              "ticks": ""
             }
            },
            "type": "scattercarpet"
           }
          ],
          "scattergeo": [
           {
            "marker": {
             "colorbar": {
              "outlinewidth": 0,
              "ticks": ""
             }
            },
            "type": "scattergeo"
           }
          ],
          "scattergl": [
           {
            "marker": {
             "colorbar": {
              "outlinewidth": 0,
              "ticks": ""
             }
            },
            "type": "scattergl"
           }
          ],
          "scattermapbox": [
           {
            "marker": {
             "colorbar": {
              "outlinewidth": 0,
              "ticks": ""
             }
            },
            "type": "scattermapbox"
           }
          ],
          "scatterpolar": [
           {
            "marker": {
             "colorbar": {
              "outlinewidth": 0,
              "ticks": ""
             }
            },
            "type": "scatterpolar"
           }
          ],
          "scatterpolargl": [
           {
            "marker": {
             "colorbar": {
              "outlinewidth": 0,
              "ticks": ""
             }
            },
            "type": "scatterpolargl"
           }
          ],
          "scatterternary": [
           {
            "marker": {
             "colorbar": {
              "outlinewidth": 0,
              "ticks": ""
             }
            },
            "type": "scatterternary"
           }
          ],
          "surface": [
           {
            "colorbar": {
             "outlinewidth": 0,
             "ticks": ""
            },
            "colorscale": [
             [
              0,
              "#0d0887"
             ],
             [
              0.1111111111111111,
              "#46039f"
             ],
             [
              0.2222222222222222,
              "#7201a8"
             ],
             [
              0.3333333333333333,
              "#9c179e"
             ],
             [
              0.4444444444444444,
              "#bd3786"
             ],
             [
              0.5555555555555556,
              "#d8576b"
             ],
             [
              0.6666666666666666,
              "#ed7953"
             ],
             [
              0.7777777777777778,
              "#fb9f3a"
             ],
             [
              0.8888888888888888,
              "#fdca26"
             ],
             [
              1,
              "#f0f921"
             ]
            ],
            "type": "surface"
           }
          ],
          "table": [
           {
            "cells": {
             "fill": {
              "color": "#EBF0F8"
             },
             "line": {
              "color": "white"
             }
            },
            "header": {
             "fill": {
              "color": "#C8D4E3"
             },
             "line": {
              "color": "white"
             }
            },
            "type": "table"
           }
          ]
         },
         "layout": {
          "annotationdefaults": {
           "arrowcolor": "#2a3f5f",
           "arrowhead": 0,
           "arrowwidth": 1
          },
          "coloraxis": {
           "colorbar": {
            "outlinewidth": 0,
            "ticks": ""
           }
          },
          "colorscale": {
           "diverging": [
            [
             0,
             "#8e0152"
            ],
            [
             0.1,
             "#c51b7d"
            ],
            [
             0.2,
             "#de77ae"
            ],
            [
             0.3,
             "#f1b6da"
            ],
            [
             0.4,
             "#fde0ef"
            ],
            [
             0.5,
             "#f7f7f7"
            ],
            [
             0.6,
             "#e6f5d0"
            ],
            [
             0.7,
             "#b8e186"
            ],
            [
             0.8,
             "#7fbc41"
            ],
            [
             0.9,
             "#4d9221"
            ],
            [
             1,
             "#276419"
            ]
           ],
           "sequential": [
            [
             0,
             "#0d0887"
            ],
            [
             0.1111111111111111,
             "#46039f"
            ],
            [
             0.2222222222222222,
             "#7201a8"
            ],
            [
             0.3333333333333333,
             "#9c179e"
            ],
            [
             0.4444444444444444,
             "#bd3786"
            ],
            [
             0.5555555555555556,
             "#d8576b"
            ],
            [
             0.6666666666666666,
             "#ed7953"
            ],
            [
             0.7777777777777778,
             "#fb9f3a"
            ],
            [
             0.8888888888888888,
             "#fdca26"
            ],
            [
             1,
             "#f0f921"
            ]
           ],
           "sequentialminus": [
            [
             0,
             "#0d0887"
            ],
            [
             0.1111111111111111,
             "#46039f"
            ],
            [
             0.2222222222222222,
             "#7201a8"
            ],
            [
             0.3333333333333333,
             "#9c179e"
            ],
            [
             0.4444444444444444,
             "#bd3786"
            ],
            [
             0.5555555555555556,
             "#d8576b"
            ],
            [
             0.6666666666666666,
             "#ed7953"
            ],
            [
             0.7777777777777778,
             "#fb9f3a"
            ],
            [
             0.8888888888888888,
             "#fdca26"
            ],
            [
             1,
             "#f0f921"
            ]
           ]
          },
          "colorway": [
           "#636efa",
           "#EF553B",
           "#00cc96",
           "#ab63fa",
           "#FFA15A",
           "#19d3f3",
           "#FF6692",
           "#B6E880",
           "#FF97FF",
           "#FECB52"
          ],
          "font": {
           "color": "#2a3f5f"
          },
          "geo": {
           "bgcolor": "white",
           "lakecolor": "white",
           "landcolor": "#E5ECF6",
           "showlakes": true,
           "showland": true,
           "subunitcolor": "white"
          },
          "hoverlabel": {
           "align": "left"
          },
          "hovermode": "closest",
          "mapbox": {
           "style": "light"
          },
          "paper_bgcolor": "white",
          "plot_bgcolor": "#E5ECF6",
          "polar": {
           "angularaxis": {
            "gridcolor": "white",
            "linecolor": "white",
            "ticks": ""
           },
           "bgcolor": "#E5ECF6",
           "radialaxis": {
            "gridcolor": "white",
            "linecolor": "white",
            "ticks": ""
           }
          },
          "scene": {
           "xaxis": {
            "backgroundcolor": "#E5ECF6",
            "gridcolor": "white",
            "gridwidth": 2,
            "linecolor": "white",
            "showbackground": true,
            "ticks": "",
            "zerolinecolor": "white"
           },
           "yaxis": {
            "backgroundcolor": "#E5ECF6",
            "gridcolor": "white",
            "gridwidth": 2,
            "linecolor": "white",
            "showbackground": true,
            "ticks": "",
            "zerolinecolor": "white"
           },
           "zaxis": {
            "backgroundcolor": "#E5ECF6",
            "gridcolor": "white",
            "gridwidth": 2,
            "linecolor": "white",
            "showbackground": true,
            "ticks": "",
            "zerolinecolor": "white"
           }
          },
          "shapedefaults": {
           "line": {
            "color": "#2a3f5f"
           }
          },
          "ternary": {
           "aaxis": {
            "gridcolor": "white",
            "linecolor": "white",
            "ticks": ""
           },
           "baxis": {
            "gridcolor": "white",
            "linecolor": "white",
            "ticks": ""
           },
           "bgcolor": "#E5ECF6",
           "caxis": {
            "gridcolor": "white",
            "linecolor": "white",
            "ticks": ""
           }
          },
          "title": {
           "x": 0.05
          },
          "xaxis": {
           "automargin": true,
           "gridcolor": "white",
           "linecolor": "white",
           "ticks": "",
           "title": {
            "standoff": 15
           },
           "zerolinecolor": "white",
           "zerolinewidth": 2
          },
          "yaxis": {
           "automargin": true,
           "gridcolor": "white",
           "linecolor": "white",
           "ticks": "",
           "title": {
            "standoff": 15
           },
           "zerolinecolor": "white",
           "zerolinewidth": 2
          }
         }
        },
        "title": {
         "text": "Full Horizon"
        }
       }
      },
      "text/html": [
       "<div>\n",
       "        \n",
       "        \n",
       "            <div id=\"1961b596-1fa4-480e-a58e-abbfcb603d10\" class=\"plotly-graph-div\" style=\"height:525px; width:100%;\"></div>\n",
       "            <script type=\"text/javascript\">\n",
       "                require([\"plotly\"], function(Plotly) {\n",
       "                    window.PLOTLYENV=window.PLOTLYENV || {};\n",
       "                    \n",
       "                if (document.getElementById(\"1961b596-1fa4-480e-a58e-abbfcb603d10\")) {\n",
       "                    Plotly.newPlot(\n",
       "                        '1961b596-1fa4-480e-a58e-abbfcb603d10',\n",
       "                        [{\"type\": \"scatter\", \"x\": [0.0, 6.550068792421371e-05, 0.000720507581718266, 0.007270576432347298, 0.07277126610279083, 0.10000000149011612, 0.14569424092769623, 0.20000000298023224, 0.2505975365638733, 0.30000001192092896, 0.3518444299697876, 0.4000000059604645, 0.452506422996521, 0.5, 0.5526853203773499, 0.6000000238418579, 0.6521754264831543, 0.699999988079071, 0.7509220838546753, 0.800000011920929, 0.8488430976867676, 0.8999999761581421, 0.9457135200500488, 1.0, 1.0410962104797363, 1.100000023841858, 1.1328845024108887, 1.2000000476837158, 1.2322638034820557, 1.2999999523162842, 1.340941071510315, 1.399999976158142, 1.4460396766662598, 1.5, 1.5504498481750488, 1.600000023841858, 1.6547725200653076, 1.7000000476837158, 1.7591872215270996, 1.7999999523162842, 1.8637923002243042, 1.899999976158142, 1.969063401222229, 2.0, 2.0758779048919678, 2.0999999046325684, 2.187938928604126, 2.200000047683716, 2.2930054664611816, 2.299999952316284, 2.3795394897460938, 2.4000000953674316, 2.470705986022949, 2.5, 2.564964532852173, 2.5999999046325684, 2.658687114715576, 2.700000047683716, 2.7554807662963867, 2.799999952316284, 2.8551700115203857, 2.9000000953674316, 2.9522101879119873, 3.0, 3.048814058303833, 3.0999999046325684, 3.1445367336273193, 3.200000047683716, 3.2375261783599854, 3.299999952316284, 3.3332908153533936, 3.4000000953674316, 3.4350719451904297, 3.5, 3.5448389053344727, 3.5999999046325684, 3.64988112449646, 3.700000047683716, 3.7539916038513184, 3.799999952316284, 3.8579461574554443, 3.9000000953674316, 3.9622321128845215, 4.0, 4.067485809326172, 4.099999904632568, 4.175172328948975, 4.199999809265137, 4.291274070739746, 4.300000190734863, 4.394155502319336, 4.400000095367432, 4.478297710418701, 4.5, 4.5703349113464355, 4.599999904632568, 4.665200233459473, 4.699999809265137, 4.760410308837891, 4.800000190734863, 4.857128143310547, 4.900000095367432], \"y\": [3.2415926456451416, 3.2415926456451416, 3.241590738296509, 3.2414095401763916, 3.2248175144195557, 3.211108922958374, 3.181191921234131, 3.1378402709960938, 3.0924642086029053, 3.0463755130767822, 2.9978928565979004, 2.9544973373413086, 2.9099137783050537, 2.8729021549224854, 2.835801839828491, 2.806335926055908, 2.77795147895813, 2.755697011947632, 2.7356648445129395, 2.719698429107666, 2.7067501544952393, 2.6959571838378906, 2.688490629196167, 2.6818206310272217, 2.6783013343811035, 2.674992322921753, 2.674150228500366, 2.67389178276062, 2.674708843231201, 2.6777734756469727, 2.6808431148529053, 2.686671733856201, 2.6926486492156982, 2.701223134994507, 2.7110133171081543, 2.7223458290100098, 2.7369892597198486, 2.750805616378784, 2.7711968421936035, 2.786797285079956, 2.8134069442749023, 2.8296926021575928, 2.8625776767730713, 2.878034830093384, 2.9170329570770264, 2.9297053813934326, 2.975928544998169, 2.982245922088623, 3.0297563076019287, 3.0332255363464355, 3.0712876319885254, 3.080573797225952, 3.1110661029815674, 3.122807741165161, 3.147125244140625, 3.1590940952301025, 3.1775286197662354, 3.189177989959717, 3.2032556533813477, 3.213207483291626, 3.2240264415740967, 3.2315757274627686, 3.2390880584716797, 3.2447896003723145, 3.249526023864746, 3.253399133682251, 3.255876302719116, 3.257953643798828, 3.2586886882781982, 3.2589821815490723, 3.2585883140563965, 3.2569901943206787, 3.255629777908325, 3.2524590492248535, 3.249708652496338, 3.2458488941192627, 3.2419042587280273, 3.237598180770874, 3.2326080799102783, 3.2281248569488525, 3.222233772277832, 3.2178215980529785, 3.2111566066741943, 3.207052230834961, 3.1996939182281494, 3.1961476802825928, 3.1880428791046143, 3.1853997707366943, 3.1759395599365234, 3.175057888031006, 3.165877103805542, 3.1653294563293457, 3.1582417488098145, 3.156376838684082, 3.1506030559539795, 3.1483187675476074, 3.1435775756835938, 3.14123272895813, 3.1374361515045166, 3.1351613998413086, 3.1321487426757812, 3.1301145553588867]}, {\"type\": \"scatter\", \"x\": [0.0, 6.550068792421371e-05, 0.000720507581718266, 0.007270576432347298, 0.07277126610279083, 0.10000000149011612, 0.14569424092769623, 0.20000000298023224, 0.2505975365638733, 0.30000001192092896, 0.3518444299697876, 0.4000000059604645, 0.452506422996521, 0.5, 0.5526853203773499, 0.6000000238418579, 0.6521754264831543, 0.699999988079071, 0.7509220838546753, 0.800000011920929, 0.8488430976867676, 0.8999999761581421, 0.9457135200500488, 1.0, 1.0410962104797363, 1.100000023841858, 1.1328845024108887, 1.2000000476837158, 1.2322638034820557, 1.2999999523162842, 1.340941071510315, 1.399999976158142, 1.4460396766662598, 1.5, 1.5504498481750488, 1.600000023841858, 1.6547725200653076, 1.7000000476837158, 1.7591872215270996, 1.7999999523162842, 1.8637923002243042, 1.899999976158142, 1.969063401222229, 2.0, 2.0758779048919678, 2.0999999046325684, 2.187938928604126, 2.200000047683716, 2.2930054664611816, 2.299999952316284, 2.3795394897460938, 2.4000000953674316, 2.470705986022949, 2.5, 2.564964532852173, 2.5999999046325684, 2.658687114715576, 2.700000047683716, 2.7554807662963867, 2.799999952316284, 2.8551700115203857, 2.9000000953674316, 2.9522101879119873, 3.0, 3.048814058303833, 3.0999999046325684, 3.1445367336273193, 3.200000047683716, 3.2375261783599854, 3.299999952316284, 3.3332908153533936, 3.4000000953674316, 3.4350719451904297, 3.5, 3.5448389053344727, 3.5999999046325684, 3.64988112449646, 3.700000047683716, 3.7539916038513184, 3.799999952316284, 3.8579461574554443, 3.9000000953674316, 3.9622321128845215, 4.0, 4.067485809326172, 4.099999904632568, 4.175172328948975, 4.199999809265137, 4.291274070739746, 4.300000190734863, 4.394155502319336, 4.400000095367432, 4.478297710418701, 4.5, 4.5703349113464355, 4.599999904632568, 4.665200233459473, 4.699999809265137, 4.760410308837891, 4.800000190734863, 4.857128143310547, 4.900000095367432], \"y\": [0.10000000149011612, 0.1000000461935997, 0.10000526905059814, 0.1005319207906723, 0.1490626484155655, 0.18944691121578217, 0.2783264219760895, 0.4091169834136963, 0.5486457943916321, 0.6938545107841492, 0.8511955142021179, 0.99728924036026, 1.1539782285690308, 1.2908456325531006, 1.4361158609390259, 1.5592970848083496, 1.6866270303726196, 1.7946141958236694, 1.9000545740127563, 1.9917685985565186, 2.0729527473449707, 2.1468894481658936, 2.202791452407837, 2.256842851638794, 2.28816556930542, 2.319478750228882, 2.3292253017425537, 2.33412504196167, 2.3284101486206055, 2.3019440174102783, 2.2757043838500977, 2.2259910106658936, 2.177435874938965, 2.1109395027160645, 2.039832830429077, 1.962610125541687, 1.8696024417877197, 1.7874870300292969, 1.6740347146987915, 1.592340350151062, 1.4606294631958008, 1.3840020895004272, 1.2360599040985107, 1.169219970703125, 1.0061146020889282, 0.9546141028404236, 0.7710655331611633, 0.7464457750320435, 0.5635024905204773, 0.5502703785896301, 0.40573662519454956, 0.3705343008041382, 0.2549773156642914, 0.21027247607707977, 0.11728599667549133, 0.07105737179517746, -0.0007640719995833933, -0.04681822657585144, -0.10325849056243896, -0.14395461976528168, -0.18911753594875336, -0.22150875627994537, -0.2547072470188141, -0.28092509508132935, -0.3037973642349243, -0.32379233837127686, -0.33793437480926514, -0.3517553210258484, -0.35864365100860596, -0.3664718270301819, -0.3686051070690155, -0.3695959448814392, -0.3681532144546509, -0.3627665340900421, -0.3568549156188965, -0.3475956916809082, -0.337381511926651, -0.3256543278694153, -0.31152448058128357, -0.29845428466796875, -0.28085988759994507, -0.26742789149284363, -0.2467915117740631, -0.2339070588350296, -0.21050426363945007, -0.19910486042499542, -0.17276501655578613, -0.16409853100776672, -0.1327628195285797, -0.12981900572776794, -0.09890947490930557, -0.09705016762018204, -0.07284622639417648, -0.06642230600118637, -0.04640910401940346, -0.03841746598482132, -0.021719392389059067, -0.01337850745767355, 0.00023031867749523371, 0.008476055227220058, 0.019499249756336212, 0.027040809392929077]}, {\"type\": \"scatter\", \"x\": [0.0, 6.550068792421371e-05, 0.000720507581718266, 0.007270576432347298, 0.07277126610279083, 0.10000000149011612, 0.14569424092769623, 0.20000000298023224, 0.2505975365638733, 0.30000001192092896, 0.3518444299697876, 0.4000000059604645, 0.452506422996521, 0.5, 0.5526853203773499, 0.6000000238418579, 0.6521754264831543, 0.699999988079071, 0.7509220838546753, 0.800000011920929, 0.8488430976867676, 0.8999999761581421, 0.9457135200500488, 1.0, 1.0410962104797363, 1.100000023841858, 1.1328845024108887, 1.2000000476837158, 1.2322638034820557, 1.2999999523162842, 1.340941071510315, 1.399999976158142, 1.4460396766662598, 1.5, 1.5504498481750488, 1.600000023841858, 1.6547725200653076, 1.7000000476837158, 1.7591872215270996, 1.7999999523162842, 1.8637923002243042, 1.899999976158142, 1.969063401222229, 2.0, 2.0758779048919678, 2.0999999046325684, 2.187938928604126, 2.200000047683716, 2.2930054664611816, 2.299999952316284, 2.3795394897460938, 2.4000000953674316, 2.470705986022949, 2.5, 2.564964532852173, 2.5999999046325684, 2.658687114715576, 2.700000047683716, 2.7554807662963867, 2.799999952316284, 2.8551700115203857, 2.9000000953674316, 2.9522101879119873, 3.0, 3.048814058303833, 3.0999999046325684, 3.1445367336273193, 3.200000047683716, 3.2375261783599854, 3.299999952316284, 3.3332908153533936, 3.4000000953674316, 3.4350719451904297, 3.5, 3.5448389053344727, 3.5999999046325684, 3.64988112449646, 3.700000047683716, 3.7539916038513184, 3.799999952316284, 3.8579461574554443, 3.9000000953674316, 3.9622321128845215, 4.0, 4.067485809326172, 4.099999904632568, 4.175172328948975, 4.199999809265137, 4.291274070739746, 4.300000190734863, 4.394155502319336, 4.400000095367432, 4.478297710418701, 4.5, 4.5703349113464355, 4.599999904632568, 4.665200233459473, 4.699999809265137, 4.760410308837891, 4.800000190734863, 4.857128143310547, 4.900000095367432], \"y\": [0.0, -0.0004584900161717087, -0.0050366949290037155, -0.05015246197581291, -0.4375969469547272, -0.5662281513214111, -0.7326927185058594, -0.8494042754173279, -0.9291138648986816, -0.9238477945327759, -0.9307901859283447, -0.8604356646537781, -0.8237414360046387, -0.7258303761482239, -0.6707003116607666, -0.5673812031745911, -0.5109106302261353, -0.413255512714386, -0.3656231164932251, -0.27896562218666077, -0.24486280977725983, -0.17096243798732758, -0.1506243348121643, -0.08840023726224899, -0.07900578528642654, -0.025474926456809044, -0.02335100620985031, 0.025890635326504707, 0.02696852758526802, 0.07397273182868958, 0.07944977283477783, 0.12590885162353516, 0.13796721398830414, 0.18637552857398987, 0.20653682947158813, 0.25612956285476685, 0.2837032973766327, 0.3312996029853821, 0.3629671633243561, 0.40441659092903137, 0.4348602890968323, 0.46663516759872437, 0.4901684522628784, 0.5102001428604126, 0.5213289856910706, 0.5298168063163757, 0.5236600637435913, 0.523956835269928, 0.4970613718032837, 0.4948979318141937, 0.4595829248428345, 0.4479588270187378, 0.4111688435077667, 0.3898616135120392, 0.3551023602485657, 0.32702571153640747, 0.29773595929145813, 0.2644316852092743, 0.23970462381839752, 0.20516324043273926, 0.18362243473529816, 0.15085437893867493, 0.13387131690979004, 0.10211876034736633, 0.08934762328863144, 0.05906681716442108, 0.05011442303657532, 0.021522998809814453, 0.016293086111545563, -0.010772871784865856, -0.013879019767045975, -0.03808180242776871, -0.040475256741046906, -0.060646433383226395, -0.06345504522323608, -0.07868801802396774, -0.08096572756767273, -0.09242839366197586, -0.09387746453285217, -0.10210432857275009, -0.10256696492433548, -0.10799466073513031, -0.10736414790153503, -0.11042265594005585, -0.10859750956296921, -0.10975795984268188, -0.1065690889954567, -0.10641985386610031, -0.10123162716627121, -0.10084422677755356, -0.09394623339176178, -0.09347045421600342, -0.08707369118928909, -0.08474821597337723, -0.0787937268614769, -0.07510273158550262, -0.06962382793426514, -0.06491924077272415, -0.06006662920117378, -0.05453384667634964, -0.050244539976119995, -0.04424654692411423]}, {\"type\": \"scatter\", \"x\": [0.0, 6.550068792421371e-05, 0.000720507581718266, 0.007270576432347298, 0.07277126610279083, 0.10000000149011612, 0.14569424092769623, 0.20000000298023224, 0.2505975365638733, 0.30000001192092896, 0.3518444299697876, 0.4000000059604645, 0.452506422996521, 0.5, 0.5526853203773499, 0.6000000238418579, 0.6521754264831543, 0.699999988079071, 0.7509220838546753, 0.800000011920929, 0.8488430976867676, 0.8999999761581421, 0.9457135200500488, 1.0, 1.0410962104797363, 1.100000023841858, 1.1328845024108887, 1.2000000476837158, 1.2322638034820557, 1.2999999523162842, 1.340941071510315, 1.399999976158142, 1.4460396766662598, 1.5, 1.5504498481750488, 1.600000023841858, 1.6547725200653076, 1.7000000476837158, 1.7591872215270996, 1.7999999523162842, 1.8637923002243042, 1.899999976158142, 1.969063401222229, 2.0, 2.0758779048919678, 2.0999999046325684, 2.187938928604126, 2.200000047683716, 2.2930054664611816, 2.299999952316284, 2.3795394897460938, 2.4000000953674316, 2.470705986022949, 2.5, 2.564964532852173, 2.5999999046325684, 2.658687114715576, 2.700000047683716, 2.7554807662963867, 2.799999952316284, 2.8551700115203857, 2.9000000953674316, 2.9522101879119873, 3.0, 3.048814058303833, 3.0999999046325684, 3.1445367336273193, 3.200000047683716, 3.2375261783599854, 3.299999952316284, 3.3332908153533936, 3.4000000953674316, 3.4350719451904297, 3.5, 3.5448389053344727, 3.5999999046325684, 3.64988112449646, 3.700000047683716, 3.7539916038513184, 3.799999952316284, 3.8579461574554443, 3.9000000953674316, 3.9622321128845215, 4.0, 4.067485809326172, 4.099999904632568, 4.175172328948975, 4.199999809265137, 4.291274070739746, 4.300000190734863, 4.394155502319336, 4.400000095367432, 4.478297710418701, 4.5, 4.5703349113464355, 4.599999904632568, 4.665200233459473, 4.699999809265137, 4.760410308837891, 4.800000190734863, 4.857128143310547, 4.900000095367432], \"y\": [0.0, 0.0013300295686349273, 0.014612474478781223, 0.1456597000360489, 1.2855844497680664, 1.6724525690078735, 2.1896615028381348, 2.5887997150421143, 2.8867061138153076, 2.9574637413024902, 3.070451498031616, 2.9660205841064453, 2.9632272720336914, 2.7728238105773926, 2.7062439918518066, 2.4751832485198975, 2.373440980911255, 2.117652177810669, 1.9947612285614014, 1.7173875570297241, 1.581899881362915, 1.282193660736084, 1.143054723739624, 0.8199746012687683, 0.6891372799873352, 0.3430522084236145, 0.24090257287025452, -0.13159991800785065, -0.23018862307071686, -0.5848019123077393, -0.70763099193573, -0.9986618161201477, -1.1223375797271729, -1.3593422174453735, -1.471962571144104, -1.6580088138580322, -1.7511297464370728, -1.8899898529052734, -1.9571572542190552, -2.053513288497925, -2.0893821716308594, -2.1483192443847656, -2.1486828327178955, -2.1753804683685303, -2.134751081466675, -2.136535406112671, -2.0456643104553223, -2.0370407104492188, -1.8970288038253784, -1.8865315914154053, -1.7418367862701416, -1.6987661123275757, -1.561404824256897, -1.4892117977142334, -1.3639354705810547, -1.2721165418624878, -1.1663589477539062, -1.058459758758545, -0.9672691822052002, -0.8550850749015808, -0.7730705738067627, -0.6658324003219604, -0.5977984666824341, -0.4924488961696625, -0.4378006160259247, -0.33571475744247437, -0.29393085837364197, -0.19580760598182678, -0.1677292436361313, -0.07268328219652176, -0.052903566509485245, 0.033802397549152374, 0.05102405697107315, 0.12389898300170898, 0.14343832433223724, 0.19797281920909882, 0.2154228836297989, 0.2565584182739258, 0.2705751061439514, 0.30037224292755127, 0.310282826423645, 0.33035215735435486, 0.335762619972229, 0.347629576921463, 0.34823963046073914, 0.3535046875476837, 0.34887152910232544, 0.34943169355392456, 0.3378317654132843, 0.3369142413139343, 0.318770170211792, 0.31746068596839905, 0.2992848753929138, 0.2925969958305359, 0.274673730134964, 0.2637706398963928, 0.24647124111652374, 0.2323073297739029, 0.21630293130874634, 0.19938507676124573, 0.18465086817741394, 0.16606727242469788]}],\n",
       "                        {\"template\": {\"data\": {\"bar\": [{\"error_x\": {\"color\": \"#2a3f5f\"}, \"error_y\": {\"color\": \"#2a3f5f\"}, \"marker\": {\"line\": {\"color\": \"#E5ECF6\", \"width\": 0.5}}, \"type\": \"bar\"}], \"barpolar\": [{\"marker\": {\"line\": {\"color\": \"#E5ECF6\", \"width\": 0.5}}, \"type\": \"barpolar\"}], \"carpet\": [{\"aaxis\": {\"endlinecolor\": \"#2a3f5f\", \"gridcolor\": \"white\", \"linecolor\": \"white\", \"minorgridcolor\": \"white\", \"startlinecolor\": \"#2a3f5f\"}, \"baxis\": {\"endlinecolor\": \"#2a3f5f\", \"gridcolor\": \"white\", \"linecolor\": \"white\", \"minorgridcolor\": \"white\", \"startlinecolor\": \"#2a3f5f\"}, \"type\": \"carpet\"}], \"choropleth\": [{\"colorbar\": {\"outlinewidth\": 0, \"ticks\": \"\"}, \"type\": \"choropleth\"}], \"contour\": [{\"colorbar\": {\"outlinewidth\": 0, \"ticks\": \"\"}, \"colorscale\": [[0.0, \"#0d0887\"], [0.1111111111111111, \"#46039f\"], [0.2222222222222222, \"#7201a8\"], [0.3333333333333333, \"#9c179e\"], [0.4444444444444444, \"#bd3786\"], [0.5555555555555556, \"#d8576b\"], [0.6666666666666666, \"#ed7953\"], [0.7777777777777778, \"#fb9f3a\"], [0.8888888888888888, \"#fdca26\"], [1.0, \"#f0f921\"]], \"type\": \"contour\"}], \"contourcarpet\": [{\"colorbar\": {\"outlinewidth\": 0, \"ticks\": \"\"}, \"type\": \"contourcarpet\"}], \"heatmap\": [{\"colorbar\": {\"outlinewidth\": 0, \"ticks\": \"\"}, \"colorscale\": [[0.0, \"#0d0887\"], [0.1111111111111111, \"#46039f\"], [0.2222222222222222, \"#7201a8\"], [0.3333333333333333, \"#9c179e\"], [0.4444444444444444, \"#bd3786\"], [0.5555555555555556, \"#d8576b\"], [0.6666666666666666, \"#ed7953\"], [0.7777777777777778, \"#fb9f3a\"], [0.8888888888888888, \"#fdca26\"], [1.0, \"#f0f921\"]], \"type\": \"heatmap\"}], \"heatmapgl\": [{\"colorbar\": {\"outlinewidth\": 0, \"ticks\": \"\"}, \"colorscale\": [[0.0, \"#0d0887\"], [0.1111111111111111, \"#46039f\"], [0.2222222222222222, \"#7201a8\"], [0.3333333333333333, \"#9c179e\"], [0.4444444444444444, \"#bd3786\"], [0.5555555555555556, \"#d8576b\"], [0.6666666666666666, \"#ed7953\"], [0.7777777777777778, \"#fb9f3a\"], [0.8888888888888888, \"#fdca26\"], [1.0, \"#f0f921\"]], \"type\": \"heatmapgl\"}], \"histogram\": [{\"marker\": {\"colorbar\": {\"outlinewidth\": 0, \"ticks\": \"\"}}, \"type\": \"histogram\"}], \"histogram2d\": [{\"colorbar\": {\"outlinewidth\": 0, \"ticks\": \"\"}, \"colorscale\": [[0.0, \"#0d0887\"], [0.1111111111111111, \"#46039f\"], [0.2222222222222222, \"#7201a8\"], [0.3333333333333333, \"#9c179e\"], [0.4444444444444444, \"#bd3786\"], [0.5555555555555556, \"#d8576b\"], [0.6666666666666666, \"#ed7953\"], [0.7777777777777778, \"#fb9f3a\"], [0.8888888888888888, \"#fdca26\"], [1.0, \"#f0f921\"]], \"type\": \"histogram2d\"}], \"histogram2dcontour\": [{\"colorbar\": {\"outlinewidth\": 0, \"ticks\": \"\"}, \"colorscale\": [[0.0, \"#0d0887\"], [0.1111111111111111, \"#46039f\"], [0.2222222222222222, \"#7201a8\"], [0.3333333333333333, \"#9c179e\"], [0.4444444444444444, \"#bd3786\"], [0.5555555555555556, \"#d8576b\"], [0.6666666666666666, \"#ed7953\"], [0.7777777777777778, \"#fb9f3a\"], [0.8888888888888888, \"#fdca26\"], [1.0, \"#f0f921\"]], \"type\": \"histogram2dcontour\"}], \"mesh3d\": [{\"colorbar\": {\"outlinewidth\": 0, \"ticks\": \"\"}, \"type\": \"mesh3d\"}], \"parcoords\": [{\"line\": {\"colorbar\": {\"outlinewidth\": 0, \"ticks\": \"\"}}, \"type\": \"parcoords\"}], \"pie\": [{\"automargin\": true, \"type\": \"pie\"}], \"scatter\": [{\"marker\": {\"colorbar\": {\"outlinewidth\": 0, \"ticks\": \"\"}}, \"type\": \"scatter\"}], \"scatter3d\": [{\"line\": {\"colorbar\": {\"outlinewidth\": 0, \"ticks\": \"\"}}, \"marker\": {\"colorbar\": {\"outlinewidth\": 0, \"ticks\": \"\"}}, \"type\": \"scatter3d\"}], \"scattercarpet\": [{\"marker\": {\"colorbar\": {\"outlinewidth\": 0, \"ticks\": \"\"}}, \"type\": \"scattercarpet\"}], \"scattergeo\": [{\"marker\": {\"colorbar\": {\"outlinewidth\": 0, \"ticks\": \"\"}}, \"type\": \"scattergeo\"}], \"scattergl\": [{\"marker\": {\"colorbar\": {\"outlinewidth\": 0, \"ticks\": \"\"}}, \"type\": \"scattergl\"}], \"scattermapbox\": [{\"marker\": {\"colorbar\": {\"outlinewidth\": 0, \"ticks\": \"\"}}, \"type\": \"scattermapbox\"}], \"scatterpolar\": [{\"marker\": {\"colorbar\": {\"outlinewidth\": 0, \"ticks\": \"\"}}, \"type\": \"scatterpolar\"}], \"scatterpolargl\": [{\"marker\": {\"colorbar\": {\"outlinewidth\": 0, \"ticks\": \"\"}}, \"type\": \"scatterpolargl\"}], \"scatterternary\": [{\"marker\": {\"colorbar\": {\"outlinewidth\": 0, \"ticks\": \"\"}}, \"type\": \"scatterternary\"}], \"surface\": [{\"colorbar\": {\"outlinewidth\": 0, \"ticks\": \"\"}, \"colorscale\": [[0.0, \"#0d0887\"], [0.1111111111111111, \"#46039f\"], [0.2222222222222222, \"#7201a8\"], [0.3333333333333333, \"#9c179e\"], [0.4444444444444444, \"#bd3786\"], [0.5555555555555556, \"#d8576b\"], [0.6666666666666666, \"#ed7953\"], [0.7777777777777778, \"#fb9f3a\"], [0.8888888888888888, \"#fdca26\"], [1.0, \"#f0f921\"]], \"type\": \"surface\"}], \"table\": [{\"cells\": {\"fill\": {\"color\": \"#EBF0F8\"}, \"line\": {\"color\": \"white\"}}, \"header\": {\"fill\": {\"color\": \"#C8D4E3\"}, \"line\": {\"color\": \"white\"}}, \"type\": \"table\"}]}, \"layout\": {\"annotationdefaults\": {\"arrowcolor\": \"#2a3f5f\", \"arrowhead\": 0, \"arrowwidth\": 1}, \"coloraxis\": {\"colorbar\": {\"outlinewidth\": 0, \"ticks\": \"\"}}, \"colorscale\": {\"diverging\": [[0, \"#8e0152\"], [0.1, \"#c51b7d\"], [0.2, \"#de77ae\"], [0.3, \"#f1b6da\"], [0.4, \"#fde0ef\"], [0.5, \"#f7f7f7\"], [0.6, \"#e6f5d0\"], [0.7, \"#b8e186\"], [0.8, \"#7fbc41\"], [0.9, \"#4d9221\"], [1, \"#276419\"]], \"sequential\": [[0.0, \"#0d0887\"], [0.1111111111111111, \"#46039f\"], [0.2222222222222222, \"#7201a8\"], [0.3333333333333333, \"#9c179e\"], [0.4444444444444444, \"#bd3786\"], [0.5555555555555556, \"#d8576b\"], [0.6666666666666666, \"#ed7953\"], [0.7777777777777778, \"#fb9f3a\"], [0.8888888888888888, \"#fdca26\"], [1.0, \"#f0f921\"]], \"sequentialminus\": [[0.0, \"#0d0887\"], [0.1111111111111111, \"#46039f\"], [0.2222222222222222, \"#7201a8\"], [0.3333333333333333, \"#9c179e\"], [0.4444444444444444, \"#bd3786\"], [0.5555555555555556, \"#d8576b\"], [0.6666666666666666, \"#ed7953\"], [0.7777777777777778, \"#fb9f3a\"], [0.8888888888888888, \"#fdca26\"], [1.0, \"#f0f921\"]]}, \"colorway\": [\"#636efa\", \"#EF553B\", \"#00cc96\", \"#ab63fa\", \"#FFA15A\", \"#19d3f3\", \"#FF6692\", \"#B6E880\", \"#FF97FF\", \"#FECB52\"], \"font\": {\"color\": \"#2a3f5f\"}, \"geo\": {\"bgcolor\": \"white\", \"lakecolor\": \"white\", \"landcolor\": \"#E5ECF6\", \"showlakes\": true, \"showland\": true, \"subunitcolor\": \"white\"}, \"hoverlabel\": {\"align\": \"left\"}, \"hovermode\": \"closest\", \"mapbox\": {\"style\": \"light\"}, \"paper_bgcolor\": \"white\", \"plot_bgcolor\": \"#E5ECF6\", \"polar\": {\"angularaxis\": {\"gridcolor\": \"white\", \"linecolor\": \"white\", \"ticks\": \"\"}, \"bgcolor\": \"#E5ECF6\", \"radialaxis\": {\"gridcolor\": \"white\", \"linecolor\": \"white\", \"ticks\": \"\"}}, \"scene\": {\"xaxis\": {\"backgroundcolor\": \"#E5ECF6\", \"gridcolor\": \"white\", \"gridwidth\": 2, \"linecolor\": \"white\", \"showbackground\": true, \"ticks\": \"\", \"zerolinecolor\": \"white\"}, \"yaxis\": {\"backgroundcolor\": \"#E5ECF6\", \"gridcolor\": \"white\", \"gridwidth\": 2, \"linecolor\": \"white\", \"showbackground\": true, \"ticks\": \"\", \"zerolinecolor\": \"white\"}, \"zaxis\": {\"backgroundcolor\": \"#E5ECF6\", \"gridcolor\": \"white\", \"gridwidth\": 2, \"linecolor\": \"white\", \"showbackground\": true, \"ticks\": \"\", \"zerolinecolor\": \"white\"}}, \"shapedefaults\": {\"line\": {\"color\": \"#2a3f5f\"}}, \"ternary\": {\"aaxis\": {\"gridcolor\": \"white\", \"linecolor\": \"white\", \"ticks\": \"\"}, \"baxis\": {\"gridcolor\": \"white\", \"linecolor\": \"white\", \"ticks\": \"\"}, \"bgcolor\": \"#E5ECF6\", \"caxis\": {\"gridcolor\": \"white\", \"linecolor\": \"white\", \"ticks\": \"\"}}, \"title\": {\"x\": 0.05}, \"xaxis\": {\"automargin\": true, \"gridcolor\": \"white\", \"linecolor\": \"white\", \"ticks\": \"\", \"title\": {\"standoff\": 15}, \"zerolinecolor\": \"white\", \"zerolinewidth\": 2}, \"yaxis\": {\"automargin\": true, \"gridcolor\": \"white\", \"linecolor\": \"white\", \"ticks\": \"\", \"title\": {\"standoff\": 15}, \"zerolinecolor\": \"white\", \"zerolinewidth\": 2}}}, \"title\": {\"text\": \"Full Horizon\"}},\n",
       "                        {\"responsive\": true}\n",
       "                    ).then(function(){\n",
       "                            \n",
       "var gd = document.getElementById('1961b596-1fa4-480e-a58e-abbfcb603d10');\n",
       "var x = new MutationObserver(function (mutations, observer) {{\n",
       "        var display = window.getComputedStyle(gd).display;\n",
       "        if (!display || display === 'none') {{\n",
       "            console.log([gd, 'removed!']);\n",
       "            Plotly.purge(gd);\n",
       "            observer.disconnect();\n",
       "        }}\n",
       "}});\n",
       "\n",
       "// Listen for the removal of the full notebook cells\n",
       "var notebookContainer = gd.closest('#notebook-container');\n",
       "if (notebookContainer) {{\n",
       "    x.observe(notebookContainer, {childList: true});\n",
       "}}\n",
       "\n",
       "// Listen for the clearing of the current output cell\n",
       "var outputEl = gd.closest('.output');\n",
       "if (outputEl) {{\n",
       "    x.observe(outputEl, {childList: true});\n",
       "}}\n",
       "\n",
       "                        })\n",
       "                };\n",
       "                });\n",
       "            </script>\n",
       "        </div>"
      ]
     },
     "metadata": {},
     "output_type": "display_data"
    }
   ],
   "source": [
    "# x_nom = torch.tensor([np.pi, 0., 0., 0.], dtype=vf.dtype)\n",
    "# u_nom = torch.zeros(vf.u_dim[0], dtype=vf.dtype)\n",
    "# Q = torch.diag(torch.tensor([.1, .1, .1, .1]))\n",
    "# R = torch.diag(torch.tensor([.01]))\n",
    "# ctrl, S = controllers.get_lqr_controller(sys.dx, x_nom, u_nom, Q, R, vf.u_lo[0], vf.u_up[0])\n",
    "\n",
    "ctrl = controllers.get_limited_lookahead_controller(get_value_function(offline_horizon)[0])\n",
    "\n",
    "x0 = torch.tensor([np.pi+.1, .1, 0., 0.], dtype=vf.dtype)\n",
    "x_traj_sim, t_traj_sim = controllers.sim_ctrl(x0, vf.u_dim[0], sys.dx, ctrl, .1, 50)\n",
    "controllers.plot_sim(t_traj_sim, x_traj_sim, \"Full Horizon\").show()"
   ]
  },
  {
   "cell_type": "code",
   "execution_count": 4,
   "metadata": {},
   "outputs": [],
   "source": [
    "opt = dict(\n",
    "    batch_size = 30,\n",
    "    learning_rate = 1e-3,\n",
    "    \n",
    "    nn_width = 50,\n",
    "    nn_depth = 2,\n",
    "    \n",
    "    num_samples_validation = [2, 2, 2, 2],\n",
    "            \n",
    "    init_num_samples = [5, 5, 2, 2], \n",
    "    init_num_trainig_step = 2500,\n",
    "\n",
    "    max_buffer_size = None,\n",
    "    \n",
    "    num_generations = 10,\n",
    "    num_samples_per_generation = 20,\n",
    "    num_train_step_per_gen = 500,\n",
    "    \n",
    "    adv_max_iter = 5,\n",
    "    adv_conv_tol = 1e-5,\n",
    "    adv_learning_rate = .1,\n",
    ")"
   ]
  },
  {
   "cell_type": "code",
   "execution_count": 5,
   "metadata": {},
   "outputs": [],
   "source": [
    "sys_name = 'acrobot'\n",
    "validation_file = '../data/validation_' + sys_name\n",
    "init_file = '../data/init_' + sys_name"
   ]
  },
  {
   "cell_type": "code",
   "execution_count": 6,
   "metadata": {},
   "outputs": [],
   "source": [
    "x0_lo = torch.tensor([np.pi - .1, -.25, -1., -1.], dtype=vf.dtype)\n",
    "x0_up = torch.tensor([np.pi + .1, .25, 1., 1.], dtype=vf.dtype)\n",
    "\n",
    "samples_gen_rand = samples_generator.RandomSampleGenerator(vf, x0_lo, x0_up)\n",
    "samples_gen_grid = samples_generator.GridSampleGenerator(vf, x0_lo, x0_up)\n",
    "samples_gen_adv = samples_generator.AdversarialSampleGenerator(vf, x0_lo, x0_up, \n",
    "                                                               max_iter=opt['adv_max_iter'],\n",
    "                                                               conv_tol=opt['adv_conv_tol'],\n",
    "                                                               learning_rate=opt['adv_learning_rate'])"
   ]
  },
  {
   "cell_type": "code",
   "execution_count": 9,
   "metadata": {},
   "outputs": [
    {
     "name": "stdout",
     "output_type": "stream",
     "text": [
      "Progress: [######################################--] 93.8%\n"
     ]
    }
   ],
   "source": [
    "x_validation, v_validation = samples_gen_grid.generate_samples(opt['num_samples_validation'],\n",
    "                                                               include_time=True,\n",
    "                                                               show_progress=True)"
   ]
  },
  {
   "cell_type": "code",
   "execution_count": 10,
   "metadata": {},
   "outputs": [],
   "source": [
    "torch.save(x_validation, validation_file + '_x.pt')\n",
    "torch.save(v_validation, validation_file + '_v.pt')"
   ]
  },
  {
   "cell_type": "code",
   "execution_count": 7,
   "metadata": {},
   "outputs": [],
   "source": [
    "x_validation = torch.load(validation_file + '_x.pt')\n",
    "v_validation = torch.load(validation_file + '_v.pt')"
   ]
  },
  {
   "cell_type": "code",
   "execution_count": 11,
   "metadata": {},
   "outputs": [
    {
     "name": "stdout",
     "output_type": "stream",
     "text": [
      "Progress: [########################################] 99.0%\n"
     ]
    }
   ],
   "source": [
    "x_init, v_init = samples_gen_grid.generate_samples(opt['init_num_samples'],\n",
    "                                                   include_time=True,\n",
    "                                                   show_progress=True)"
   ]
  },
  {
   "cell_type": "code",
   "execution_count": 12,
   "metadata": {},
   "outputs": [],
   "source": [
    "torch.save(x_init, init_file + '_x.pt')\n",
    "torch.save(v_init, init_file + '_v.pt')"
   ]
  },
  {
   "cell_type": "code",
   "execution_count": 8,
   "metadata": {},
   "outputs": [],
   "source": [
    "x_init = torch.load(init_file + '_x.pt')\n",
    "v_init = torch.load(init_file + '_v.pt')"
   ]
  },
  {
   "cell_type": "code",
   "execution_count": 9,
   "metadata": {},
   "outputs": [],
   "source": [
    "model = value_approximation.NeuralNetworkModel(vf.dtype,\n",
    "                                               1 + vf.x_dim[0],\n",
    "                                               opt['nn_width'],\n",
    "                                               opt['nn_depth'])\n",
    "\n",
    "vf_approx = value_approximation.ValueFunctionApproximation(model, learning_rate=opt['learning_rate'])\n",
    "\n",
    "train_log = training_log.TrainingLog(prefix=\"baseline\")"
   ]
  },
  {
   "cell_type": "code",
   "execution_count": 10,
   "metadata": {},
   "outputs": [],
   "source": [
    "samples_buff = samples_buffer.SamplesBuffer(1 + vf.x_dim[0], 1, vf.dtype, max_size=opt['max_buffer_size'])"
   ]
  },
  {
   "cell_type": "code",
   "execution_count": 11,
   "metadata": {},
   "outputs": [],
   "source": [
    "samples_buff.add_samples(x_init, v_init)"
   ]
  },
  {
   "cell_type": "code",
   "execution_count": 12,
   "metadata": {},
   "outputs": [],
   "source": [
    "for train_step_i in range(opt['init_num_trainig_step']):\n",
    "    x, v = samples_buff.get_random_samples(opt['batch_size'])\n",
    "    loss = vf_approx.train_step(x, v)\n",
    "    train_log.add_train_loss(loss)"
   ]
  },
  {
   "cell_type": "code",
   "execution_count": 18,
   "metadata": {},
   "outputs": [],
   "source": [
    "samples_buff_adv = copy.deepcopy(samples_buff)\n",
    "vf_approx_adv = copy.deepcopy(vf_approx)\n",
    "train_log_adv = training_log.TrainingLog.get_copy(train_log,\n",
    "                                                  prefix=\"adversarial\",\n",
    "                                                  keep_writer=True)"
   ]
  },
  {
   "cell_type": "code",
   "execution_count": null,
   "metadata": {},
   "outputs": [],
   "source": [
    "# random samples\n",
    "validation_losses = vf_approx.validation_loss(x_validation, v_validation)\n",
    "train_log.add_validation_loss(validation_losses)\n",
    "for gen_i in range(opt['num_generations']):\n",
    "    (x, v) = samples_gen_rand.generate_samples(opt['num_samples_per_generation'], include_time=True)\n",
    "    samples_buff.add_samples(x, v)\n",
    "    for train_step_i in range(opt['num_train_step_per_gen']):\n",
    "        samples_indices = samples_buff.get_random_sample_indices(opt['batch_size'])\n",
    "        x, v = samples_buff.get_samples_from_indices(samples_indices)\n",
    "        losses = vf_approx.train_step(x, v)\n",
    "        train_log.add_train_loss(losses)\n",
    "    validation_losses = vf_approx.validation_loss(x_validation, v_validation)\n",
    "    train_log.add_validation_loss(validation_losses)"
   ]
  },
  {
   "cell_type": "code",
   "execution_count": null,
   "metadata": {},
   "outputs": [],
   "source": [
    "# adverserial samples\n",
    "validation_losses = vf_approx_adv.validation_loss(x_validation, v_validation)\n",
    "train_log_adv.add_validation_loss(validation_losses)\n",
    "for gen_i in range(opt['num_generations']):\n",
    "    (x, v) = samples_gen_adv.generate_samples(opt['num_samples_per_generation'], vf_approx_adv, include_time=True)\n",
    "    samples_buff_adv.add_samples(x, v)\n",
    "    for train_step_i in range(opt['num_train_step_per_gen']):\n",
    "        samples_indices = samples_buff_adv.get_random_sample_indices(opt['batch_size'])\n",
    "        x, v = samples_buff_adv.get_samples_from_indices(samples_indices)\n",
    "        losses = vf_approx_adv.train_step(x, v)\n",
    "        train_log_adv.add_train_loss(losses)\n",
    "    validation_losses = vf_approx_adv.validation_loss(x_validation, v_validation)\n",
    "    train_log_adv.add_validation_loss(validation_losses)"
   ]
  },
  {
   "cell_type": "code",
   "execution_count": 13,
   "metadata": {},
   "outputs": [],
   "source": [
    "x0 = torch.tensor([np.pi+.2, -.1, 0., 0.], dtype=vf.dtype)\n",
    "dt_sim = .1\n",
    "N = 50\n",
    "online_horizon = 10\n",
    "integration_mode = \"foh\""
   ]
  },
  {
   "cell_type": "code",
   "execution_count": 14,
   "metadata": {},
   "outputs": [
    {
     "data": {
      "application/vnd.plotly.v1+json": {
       "config": {
        "plotlyServerURL": "https://plot.ly"
       },
       "data": [
        {
         "type": "scatter",
         "x": [
          0,
          0.0004003119538538158,
          0.004403431434184313,
          0.044434625655412674,
          0.10000000149011612,
          0.1443059742450714,
          0.20000000298023224,
          0.24898453056812286,
          0.30000001192092896,
          0.353498250246048,
          0.4000000059604645,
          0.456448495388031,
          0.5,
          0.5606505870819092,
          0.6000000238418579,
          0.653152585029602,
          0.699999988079071,
          0.7399969696998596,
          0.800000011920929,
          0.8353287577629089,
          0.8999999761581421,
          0.942052960395813,
          1,
          1.044456958770752,
          1.100000023841858,
          1.1436442136764526,
          1.2000000476837158,
          1.24150812625885,
          1.2999999523162842,
          1.3507211208343506,
          1.399999976158142,
          1.45376455783844,
          1.5,
          1.5537010431289673,
          1.600000023841858,
          1.6513761281967163,
          1.7000000476837158,
          1.7444067001342773,
          1.7999999523162842,
          1.8535796403884888,
          1.899999976158142,
          1.9528100490570068,
          2,
          2.039099931716919,
          2.0999999046325684,
          2.1568801403045654,
          2.200000047683716,
          2.2577242851257324,
          2.299999952316284,
          2.3567121028900146,
          2.4000000953674316,
          2.4550187587738037,
          2.5,
          2.55317759513855,
          2.5999999046325684,
          2.6514227390289307,
          2.700000047683716,
          2.7498316764831543,
          2.799999952316284,
          2.8479912281036377,
          2.9000000953674316,
          2.943598747253418,
          3,
          3.036590337753296,
          3.0999999046325684,
          3.1460258960723877,
          3.200000047683716,
          3.246952533721924,
          3.299999952316284,
          3.346733570098877,
          3.4000000953674316,
          3.446369171142578,
          3.5,
          3.546149492263794,
          3.5999999046325684,
          3.6461007595062256,
          3.700000047683716,
          3.745421886444092,
          3.799999952316284,
          3.8452436923980713,
          3.9000000953674316,
          3.961684465408325,
          4,
          4.06193733215332,
          4.099999904632568,
          4.161558628082275,
          4.199999809265137,
          4.259585380554199,
          4.300000190734863,
          4.357243061065674,
          4.400000095367432,
          4.455842971801758,
          4.5,
          4.5560102462768555,
          4.599999904632568,
          4.655774116516113,
          4.699999809265137,
          4.7603559494018555,
          4.800000190734863,
          4.86028528213501,
          4.900000095367432
         ],
         "y": [
          3.34159255027771,
          3.34159255027771,
          3.341588258743286,
          3.34121036529541,
          3.3400449752807617,
          3.339390516281128,
          3.340009927749634,
          3.3424792289733887,
          3.3475475311279297,
          3.3560545444488525,
          3.3664357662200928,
          3.383164882659912,
          3.3994033336639404,
          3.427304983139038,
          3.448904275894165,
          3.482863426208496,
          3.5176210403442383,
          3.551189422607422,
          3.6087844371795654,
          3.647068500518799,
          3.7263691425323486,
          3.784834146499634,
          3.8751680850982666,
          3.9527652263641357,
          4.060705184936523,
          4.15467643737793,
          4.288843631744385,
          4.397304058074951,
          4.564826488494873,
          4.724123954772949,
          4.891421794891357,
          5.087333679199219,
          5.266143321990967,
          5.483905792236328,
          5.678525447845459,
          5.899125576019287,
          6.109753608703613,
          6.301202774047852,
          6.536610126495361,
          6.7559967041015625,
          6.938302040100098,
          7.135361194610596,
          7.301365852355957,
          7.431341171264648,
          7.619717121124268,
          7.780154228210449,
          7.891951084136963,
          8.028414726257324,
          8.119160652160645,
          8.228941917419434,
          8.304047584533691,
          8.389029502868652,
          8.450393676757812,
          8.51390266418457,
          8.562284469604492,
          8.607603073120117,
          8.643376350402832,
          8.673236846923828,
          8.69667911529541,
          8.713119506835938,
          8.724583625793457,
          8.72929859161377,
          8.728816032409668,
          8.724736213684082,
          8.710284233093262,
          8.69415283203125,
          8.668930053710938,
          8.641382217407227,
          8.603616714477539,
          8.564322471618652,
          8.512114524841309,
          8.459972381591797,
          8.391188621520996,
          8.324435234069824,
          8.236886024475098,
          8.153430938720703,
          8.045137405395508,
          7.944840431213379,
          7.812906265258789,
          7.694396018981934,
          7.5400800704956055,
          7.353607654571533,
          7.23188591003418,
          7.028478622436523,
          6.900726795196533,
          6.693478584289551,
          6.5652055740356445,
          6.371415138244629,
          6.244522571563721,
          6.07252836227417,
          5.949885368347168,
          5.796595573425293,
          5.679919719696045,
          5.536523342132568,
          5.426898002624512,
          5.2917561531066895,
          5.188028335571289,
          5.052834510803223,
          4.968751907348633,
          4.849850177764893,
          4.777997016906738
         ]
        },
        {
         "type": "scatter",
         "x": [
          0,
          0.0004003119538538158,
          0.004403431434184313,
          0.044434625655412674,
          0.10000000149011612,
          0.1443059742450714,
          0.20000000298023224,
          0.24898453056812286,
          0.30000001192092896,
          0.353498250246048,
          0.4000000059604645,
          0.456448495388031,
          0.5,
          0.5606505870819092,
          0.6000000238418579,
          0.653152585029602,
          0.699999988079071,
          0.7399969696998596,
          0.800000011920929,
          0.8353287577629089,
          0.8999999761581421,
          0.942052960395813,
          1,
          1.044456958770752,
          1.100000023841858,
          1.1436442136764526,
          1.2000000476837158,
          1.24150812625885,
          1.2999999523162842,
          1.3507211208343506,
          1.399999976158142,
          1.45376455783844,
          1.5,
          1.5537010431289673,
          1.600000023841858,
          1.6513761281967163,
          1.7000000476837158,
          1.7444067001342773,
          1.7999999523162842,
          1.8535796403884888,
          1.899999976158142,
          1.9528100490570068,
          2,
          2.039099931716919,
          2.0999999046325684,
          2.1568801403045654,
          2.200000047683716,
          2.2577242851257324,
          2.299999952316284,
          2.3567121028900146,
          2.4000000953674316,
          2.4550187587738037,
          2.5,
          2.55317759513855,
          2.5999999046325684,
          2.6514227390289307,
          2.700000047683716,
          2.7498316764831543,
          2.799999952316284,
          2.8479912281036377,
          2.9000000953674316,
          2.943598747253418,
          3,
          3.036590337753296,
          3.0999999046325684,
          3.1460258960723877,
          3.200000047683716,
          3.246952533721924,
          3.299999952316284,
          3.346733570098877,
          3.4000000953674316,
          3.446369171142578,
          3.5,
          3.546149492263794,
          3.5999999046325684,
          3.6461007595062256,
          3.700000047683716,
          3.745421886444092,
          3.799999952316284,
          3.8452436923980713,
          3.9000000953674316,
          3.961684465408325,
          4,
          4.06193733215332,
          4.099999904632568,
          4.161558628082275,
          4.199999809265137,
          4.259585380554199,
          4.300000190734863,
          4.357243061065674,
          4.400000095367432,
          4.455842971801758,
          4.5,
          4.5560102462768555,
          4.599999904632568,
          4.655774116516113,
          4.699999809265137,
          4.7603559494018555,
          4.800000190734863,
          4.86028528213501,
          4.900000095367432
         ],
         "y": [
          -0.10000000149011612,
          -0.09999971836805344,
          -0.0999663770198822,
          -0.09672906994819641,
          -0.08445338904857635,
          -0.07029471546411514,
          -0.04980308189988136,
          -0.030720625072717667,
          -0.0110953189432621,
          0.008362701162695885,
          0.023831307888031006,
          0.04034928232431412,
          0.05126408115029335,
          0.0635375902056694,
          0.06973286718130112,
          0.07570374011993408,
          0.07885895669460297,
          0.0798901841044426,
          0.07869458198547363,
          0.07646513730287552,
          0.06936004012823105,
          0.06270886212587357,
          0.0508669838309288,
          0.03967868164181709,
          0.023069657385349274,
          0.00802568532526493,
          -0.014179311692714691,
          -0.03223085403442383,
          -0.0603877417743206,
          -0.08647949993610382,
          -0.11290251463651657,
          -0.1414150893688202,
          -0.16462203860282898,
          -0.18767625093460083,
          -0.20270484685897827,
          -0.21170774102210999,
          -0.21155370771884918,
          -0.2029435783624649,
          -0.18073225021362305,
          -0.14794404804706573,
          -0.11206496506929398,
          -0.06468204408884048,
          -0.018572870641946793,
          0.021123996004462242,
          0.08391772210597992,
          0.14184275269508362,
          0.184432253241539,
          0.23975485563278198,
          0.2786179780960083,
          0.32915374636650085,
          0.3662041425704956,
          0.4120214879512787,
          0.448153018951416,
          0.48992979526519775,
          0.5256840586662292,
          0.5643786787986755,
          0.6003016829490662,
          0.6368663311004639,
          0.6733434796333313,
          0.708020031452179,
          0.745333731174469,
          0.7762147188186646,
          0.8158289790153503,
          0.8408225774765015,
          0.8836995959281921,
          0.9135976433753967,
          0.9475125670433044,
          0.9755975008010864,
          1.005821704864502,
          1.0307207107543945,
          1.0572928190231323,
          1.0783624649047852,
          1.1006114482879639,
          1.1172908544540405,
          1.1341958045959473,
          1.1456156969070435,
          1.1556485891342163,
          1.1601779460906982,
          1.160853385925293,
          1.155951976776123,
          1.1428074836730957,
          1.115349531173706,
          1.0908458232879639,
          1.0355916023254395,
          0.9917147755622864,
          0.9017549753189087,
          0.8340756893157959,
          0.7107969522476196,
          0.6163639426231384,
          0.47004443407058716,
          0.35498401522636414,
          0.2027035653591156,
          0.08553273230791092,
          -0.053344856947660446,
          -0.15136894583702087,
          -0.2593472898006439,
          -0.33117300271987915,
          -0.4107058644294739,
          -0.45199108123779297,
          -0.5013077259063721,
          -0.5258954167366028
         ]
        },
        {
         "type": "scatter",
         "x": [
          0,
          0.0004003119538538158,
          0.004403431434184313,
          0.044434625655412674,
          0.10000000149011612,
          0.1443059742450714,
          0.20000000298023224,
          0.24898453056812286,
          0.30000001192092896,
          0.353498250246048,
          0.4000000059604645,
          0.456448495388031,
          0.5,
          0.5606505870819092,
          0.6000000238418579,
          0.653152585029602,
          0.699999988079071,
          0.7399969696998596,
          0.800000011920929,
          0.8353287577629089,
          0.8999999761581421,
          0.942052960395813,
          1,
          1.044456958770752,
          1.100000023841858,
          1.1436442136764526,
          1.2000000476837158,
          1.24150812625885,
          1.2999999523162842,
          1.3507211208343506,
          1.399999976158142,
          1.45376455783844,
          1.5,
          1.5537010431289673,
          1.600000023841858,
          1.6513761281967163,
          1.7000000476837158,
          1.7444067001342773,
          1.7999999523162842,
          1.8535796403884888,
          1.899999976158142,
          1.9528100490570068,
          2,
          2.039099931716919,
          2.0999999046325684,
          2.1568801403045654,
          2.200000047683716,
          2.2577242851257324,
          2.299999952316284,
          2.3567121028900146,
          2.4000000953674316,
          2.4550187587738037,
          2.5,
          2.55317759513855,
          2.5999999046325684,
          2.6514227390289307,
          2.700000047683716,
          2.7498316764831543,
          2.799999952316284,
          2.8479912281036377,
          2.9000000953674316,
          2.943598747253418,
          3,
          3.036590337753296,
          3.0999999046325684,
          3.1460258960723877,
          3.200000047683716,
          3.246952533721924,
          3.299999952316284,
          3.346733570098877,
          3.4000000953674316,
          3.446369171142578,
          3.5,
          3.546149492263794,
          3.5999999046325684,
          3.6461007595062256,
          3.700000047683716,
          3.745421886444092,
          3.799999952316284,
          3.8452436923980713,
          3.9000000953674316,
          3.961684465408325,
          4,
          4.06193733215332,
          4.099999904632568,
          4.161558628082275,
          4.199999809265137,
          4.259585380554199,
          4.300000190734863,
          4.357243061065674,
          4.400000095367432,
          4.455842971801758,
          4.5,
          4.5560102462768555,
          4.599999904632568,
          4.655774116516113,
          4.699999809265137,
          4.7603559494018555,
          4.800000190734863,
          4.86028528213501,
          4.900000095367432
         ],
         "y": [
          0,
          -0.00018066617485601455,
          -0.0019480065675452352,
          -0.015796631574630737,
          -0.02409907802939415,
          -0.004506795667111874,
          0.02830924093723297,
          0.07338956743478775,
          0.12642422318458557,
          0.19249694049358368,
          0.2548496127128601,
          0.3387482166290283,
          0.4076692759990692,
          0.5132579207420349,
          0.5850963592529297,
          0.6931341886520386,
          0.7913175821304321,
          0.8872792720794678,
          1.0330201387405396,
          1.1341407299041748,
          1.3182859420776367,
          1.4617619514465332,
          1.6553716659545898,
          1.8345898389816284,
          2.050628185272217,
          2.2543258666992188,
          2.504364013671875,
          2.719998359680176,
          3.0032854080200195,
          3.2742438316345215,
          3.5101068019866943,
          3.7710137367248535,
          3.9566545486450195,
          4.144041538238525,
          4.254274368286133,
          4.323190212249756,
          4.331044673919678,
          4.284789085388184,
          4.175675392150879,
          4.0082621574401855,
          3.844419479370117,
          3.618098497390747,
          3.4186410903930664,
          3.2311599254608154,
          2.9599709510803223,
          2.6867151260375977,
          2.501943826675415,
          2.233295202255249,
          2.0635452270507812,
          1.8159279823303223,
          1.6586161851882935,
          1.4388048648834229,
          1.2948747873306274,
          1.1017513275146484,
          0.9707730412483215,
          0.7996551394462585,
          0.6796988844871521,
          0.5262369513511658,
          0.4153306782245636,
          0.27675899863243103,
          0.1715964674949646,
          0.05029803141951561,
          -0.05874786898493767,
          -0.160445436835289,
          -0.28475216031074524,
          -0.4106194078922272,
          -0.5167772173881531,
          -0.6513344645500183,
          -0.7660022377967834,
          -0.9110745191574097,
          -1.043320655822754,
          -1.2020429372787476,
          -1.3579504489898682,
          -1.532428503036499,
          -1.7149872779846191,
          -1.9041415452957153,
          -2.1110572814941406,
          -2.3045639991760254,
          -2.5274875164031982,
          -2.7107887268066406,
          -2.9228365421295166,
          -3.120312452316284,
          -3.2314417362213135,
          -3.331773281097412,
          -3.3793036937713623,
          -3.3495755195617676,
          -3.3244688510894775,
          -3.1815130710601807,
          -3.1024858951568604,
          -2.9166126251220703,
          -2.8292243480682373,
          -2.675464153289795,
          -2.618651866912842,
          -2.513763189315796,
          -2.4757189750671387,
          -2.3761863708496094,
          -2.3166372776031494,
          -2.1663949489593506,
          -2.0764691829681396,
          -1.8716402053833008,
          -1.7484865188598633
         ]
        },
        {
         "type": "scatter",
         "x": [
          0,
          0.0004003119538538158,
          0.004403431434184313,
          0.044434625655412674,
          0.10000000149011612,
          0.1443059742450714,
          0.20000000298023224,
          0.24898453056812286,
          0.30000001192092896,
          0.353498250246048,
          0.4000000059604645,
          0.456448495388031,
          0.5,
          0.5606505870819092,
          0.6000000238418579,
          0.653152585029602,
          0.699999988079071,
          0.7399969696998596,
          0.800000011920929,
          0.8353287577629089,
          0.8999999761581421,
          0.942052960395813,
          1,
          1.044456958770752,
          1.100000023841858,
          1.1436442136764526,
          1.2000000476837158,
          1.24150812625885,
          1.2999999523162842,
          1.3507211208343506,
          1.399999976158142,
          1.45376455783844,
          1.5,
          1.5537010431289673,
          1.600000023841858,
          1.6513761281967163,
          1.7000000476837158,
          1.7444067001342773,
          1.7999999523162842,
          1.8535796403884888,
          1.899999976158142,
          1.9528100490570068,
          2,
          2.039099931716919,
          2.0999999046325684,
          2.1568801403045654,
          2.200000047683716,
          2.2577242851257324,
          2.299999952316284,
          2.3567121028900146,
          2.4000000953674316,
          2.4550187587738037,
          2.5,
          2.55317759513855,
          2.5999999046325684,
          2.6514227390289307,
          2.700000047683716,
          2.7498316764831543,
          2.799999952316284,
          2.8479912281036377,
          2.9000000953674316,
          2.943598747253418,
          3,
          3.036590337753296,
          3.0999999046325684,
          3.1460258960723877,
          3.200000047683716,
          3.246952533721924,
          3.299999952316284,
          3.346733570098877,
          3.4000000953674316,
          3.446369171142578,
          3.5,
          3.546149492263794,
          3.5999999046325684,
          3.6461007595062256,
          3.700000047683716,
          3.745421886444092,
          3.799999952316284,
          3.8452436923980713,
          3.9000000953674316,
          3.961684465408325,
          4,
          4.06193733215332,
          4.099999904632568,
          4.161558628082275,
          4.199999809265137,
          4.259585380554199,
          4.300000190734863,
          4.357243061065674,
          4.400000095367432,
          4.455842971801758,
          4.5,
          4.5560102462768555,
          4.599999904632568,
          4.655774116516113,
          4.699999809265137,
          4.7603559494018555,
          4.800000190734863,
          4.86028528213501,
          4.900000095367432
         ],
         "y": [
          0,
          0.0013943674275651574,
          0.015233232639729977,
          0.14349162578582764,
          0.2931019067764282,
          0.34377968311309814,
          0.388621985912323,
          0.3889024257659912,
          0.3786121904850006,
          0.347957581281662,
          0.3164723813533783,
          0.2689347565174103,
          0.2321634441614151,
          0.17421604692935944,
          0.1411474496126175,
          0.08622826635837555,
          0.05024968832731247,
          0.003864660859107971,
          -0.03852057829499245,
          -0.0847829133272171,
          -0.12576152384281158,
          -0.18506072461605072,
          -0.21344976127147675,
          -0.28227418661117554,
          -0.3037216067314148,
          -0.37732940912246704,
          -0.39582207798957825,
          -0.46607905626296997,
          -0.4787193536758423,
          -0.5382833480834961,
          -0.5203415155410767,
          -0.5275021195411682,
          -0.46454110741615295,
          -0.38313502073287964,
          -0.25712141394615173,
          -0.08785144984722137,
          0.09706955403089523,
          0.2891683578491211,
          0.5023980140686035,
          0.7099142670631409,
          0.8245858550071716,
          0.9539976119995117,
          0.9871129393577576,
          1.0346448421478271,
          1.0080199241638184,
          1.0124984979629517,
          0.9546982049942017,
          0.9466202259063721,
          0.8843883872032166,
          0.8824954628944397,
          0.8208746314048767,
          0.8290543556213379,
          0.7673726677894592,
          0.7878239750862122,
          0.7273021340370178,
          0.7611660361289978,
          0.7035045027732849,
          0.7471524477005005,
          0.6904385089874268,
          0.7379401326179504,
          0.6779137253761292,
          0.7241703867912292,
          0.6570262908935547,
          0.6985447406768799,
          0.6230738162994385,
          0.6592860817909241,
          0.5748111009597778,
          0.6042036414146423,
          0.5135062336921692,
          0.5356444120407104,
          0.4406346082687378,
          0.45336994528770447,
          0.3559592366218567,
          0.3544861078262329,
          0.25516945123672485,
          0.23100905120372772,
          0.12653814256191254,
          0.06757158786058426,
          -0.05325770750641823,
          -0.16495902836322784,
          -0.3199912905693054,
          -0.5668591260910034,
          -0.7111196517944336,
          -1.061789870262146,
          -1.237604022026062,
          -1.662937045097351,
          -1.845001220703125,
          -2.2575507164001465,
          -2.392463445663452,
          -2.672724485397339,
          -2.6774520874023438,
          -2.7259838581085205,
          -2.550259590148926,
          -2.367814064025879,
          -2.0689632892608643,
          -1.778498888015747,
          -1.458787441253662,
          -1.1603477001190186,
          -0.9169942140579224,
          -0.7063223123550415,
          -0.5265556573867798
         ]
        }
       ],
       "layout": {
        "template": {
         "data": {
          "bar": [
           {
            "error_x": {
             "color": "#2a3f5f"
            },
            "error_y": {
             "color": "#2a3f5f"
            },
            "marker": {
             "line": {
              "color": "#E5ECF6",
              "width": 0.5
             }
            },
            "type": "bar"
           }
          ],
          "barpolar": [
           {
            "marker": {
             "line": {
              "color": "#E5ECF6",
              "width": 0.5
             }
            },
            "type": "barpolar"
           }
          ],
          "carpet": [
           {
            "aaxis": {
             "endlinecolor": "#2a3f5f",
             "gridcolor": "white",
             "linecolor": "white",
             "minorgridcolor": "white",
             "startlinecolor": "#2a3f5f"
            },
            "baxis": {
             "endlinecolor": "#2a3f5f",
             "gridcolor": "white",
             "linecolor": "white",
             "minorgridcolor": "white",
             "startlinecolor": "#2a3f5f"
            },
            "type": "carpet"
           }
          ],
          "choropleth": [
           {
            "colorbar": {
             "outlinewidth": 0,
             "ticks": ""
            },
            "type": "choropleth"
           }
          ],
          "contour": [
           {
            "colorbar": {
             "outlinewidth": 0,
             "ticks": ""
            },
            "colorscale": [
             [
              0,
              "#0d0887"
             ],
             [
              0.1111111111111111,
              "#46039f"
             ],
             [
              0.2222222222222222,
              "#7201a8"
             ],
             [
              0.3333333333333333,
              "#9c179e"
             ],
             [
              0.4444444444444444,
              "#bd3786"
             ],
             [
              0.5555555555555556,
              "#d8576b"
             ],
             [
              0.6666666666666666,
              "#ed7953"
             ],
             [
              0.7777777777777778,
              "#fb9f3a"
             ],
             [
              0.8888888888888888,
              "#fdca26"
             ],
             [
              1,
              "#f0f921"
             ]
            ],
            "type": "contour"
           }
          ],
          "contourcarpet": [
           {
            "colorbar": {
             "outlinewidth": 0,
             "ticks": ""
            },
            "type": "contourcarpet"
           }
          ],
          "heatmap": [
           {
            "colorbar": {
             "outlinewidth": 0,
             "ticks": ""
            },
            "colorscale": [
             [
              0,
              "#0d0887"
             ],
             [
              0.1111111111111111,
              "#46039f"
             ],
             [
              0.2222222222222222,
              "#7201a8"
             ],
             [
              0.3333333333333333,
              "#9c179e"
             ],
             [
              0.4444444444444444,
              "#bd3786"
             ],
             [
              0.5555555555555556,
              "#d8576b"
             ],
             [
              0.6666666666666666,
              "#ed7953"
             ],
             [
              0.7777777777777778,
              "#fb9f3a"
             ],
             [
              0.8888888888888888,
              "#fdca26"
             ],
             [
              1,
              "#f0f921"
             ]
            ],
            "type": "heatmap"
           }
          ],
          "heatmapgl": [
           {
            "colorbar": {
             "outlinewidth": 0,
             "ticks": ""
            },
            "colorscale": [
             [
              0,
              "#0d0887"
             ],
             [
              0.1111111111111111,
              "#46039f"
             ],
             [
              0.2222222222222222,
              "#7201a8"
             ],
             [
              0.3333333333333333,
              "#9c179e"
             ],
             [
              0.4444444444444444,
              "#bd3786"
             ],
             [
              0.5555555555555556,
              "#d8576b"
             ],
             [
              0.6666666666666666,
              "#ed7953"
             ],
             [
              0.7777777777777778,
              "#fb9f3a"
             ],
             [
              0.8888888888888888,
              "#fdca26"
             ],
             [
              1,
              "#f0f921"
             ]
            ],
            "type": "heatmapgl"
           }
          ],
          "histogram": [
           {
            "marker": {
             "colorbar": {
              "outlinewidth": 0,
              "ticks": ""
             }
            },
            "type": "histogram"
           }
          ],
          "histogram2d": [
           {
            "colorbar": {
             "outlinewidth": 0,
             "ticks": ""
            },
            "colorscale": [
             [
              0,
              "#0d0887"
             ],
             [
              0.1111111111111111,
              "#46039f"
             ],
             [
              0.2222222222222222,
              "#7201a8"
             ],
             [
              0.3333333333333333,
              "#9c179e"
             ],
             [
              0.4444444444444444,
              "#bd3786"
             ],
             [
              0.5555555555555556,
              "#d8576b"
             ],
             [
              0.6666666666666666,
              "#ed7953"
             ],
             [
              0.7777777777777778,
              "#fb9f3a"
             ],
             [
              0.8888888888888888,
              "#fdca26"
             ],
             [
              1,
              "#f0f921"
             ]
            ],
            "type": "histogram2d"
           }
          ],
          "histogram2dcontour": [
           {
            "colorbar": {
             "outlinewidth": 0,
             "ticks": ""
            },
            "colorscale": [
             [
              0,
              "#0d0887"
             ],
             [
              0.1111111111111111,
              "#46039f"
             ],
             [
              0.2222222222222222,
              "#7201a8"
             ],
             [
              0.3333333333333333,
              "#9c179e"
             ],
             [
              0.4444444444444444,
              "#bd3786"
             ],
             [
              0.5555555555555556,
              "#d8576b"
             ],
             [
              0.6666666666666666,
              "#ed7953"
             ],
             [
              0.7777777777777778,
              "#fb9f3a"
             ],
             [
              0.8888888888888888,
              "#fdca26"
             ],
             [
              1,
              "#f0f921"
             ]
            ],
            "type": "histogram2dcontour"
           }
          ],
          "mesh3d": [
           {
            "colorbar": {
             "outlinewidth": 0,
             "ticks": ""
            },
            "type": "mesh3d"
           }
          ],
          "parcoords": [
           {
            "line": {
             "colorbar": {
              "outlinewidth": 0,
              "ticks": ""
             }
            },
            "type": "parcoords"
           }
          ],
          "pie": [
           {
            "automargin": true,
            "type": "pie"
           }
          ],
          "scatter": [
           {
            "marker": {
             "colorbar": {
              "outlinewidth": 0,
              "ticks": ""
             }
            },
            "type": "scatter"
           }
          ],
          "scatter3d": [
           {
            "line": {
             "colorbar": {
              "outlinewidth": 0,
              "ticks": ""
             }
            },
            "marker": {
             "colorbar": {
              "outlinewidth": 0,
              "ticks": ""
             }
            },
            "type": "scatter3d"
           }
          ],
          "scattercarpet": [
           {
            "marker": {
             "colorbar": {
              "outlinewidth": 0,
              "ticks": ""
             }
            },
            "type": "scattercarpet"
           }
          ],
          "scattergeo": [
           {
            "marker": {
             "colorbar": {
              "outlinewidth": 0,
              "ticks": ""
             }
            },
            "type": "scattergeo"
           }
          ],
          "scattergl": [
           {
            "marker": {
             "colorbar": {
              "outlinewidth": 0,
              "ticks": ""
             }
            },
            "type": "scattergl"
           }
          ],
          "scattermapbox": [
           {
            "marker": {
             "colorbar": {
              "outlinewidth": 0,
              "ticks": ""
             }
            },
            "type": "scattermapbox"
           }
          ],
          "scatterpolar": [
           {
            "marker": {
             "colorbar": {
              "outlinewidth": 0,
              "ticks": ""
             }
            },
            "type": "scatterpolar"
           }
          ],
          "scatterpolargl": [
           {
            "marker": {
             "colorbar": {
              "outlinewidth": 0,
              "ticks": ""
             }
            },
            "type": "scatterpolargl"
           }
          ],
          "scatterternary": [
           {
            "marker": {
             "colorbar": {
              "outlinewidth": 0,
              "ticks": ""
             }
            },
            "type": "scatterternary"
           }
          ],
          "surface": [
           {
            "colorbar": {
             "outlinewidth": 0,
             "ticks": ""
            },
            "colorscale": [
             [
              0,
              "#0d0887"
             ],
             [
              0.1111111111111111,
              "#46039f"
             ],
             [
              0.2222222222222222,
              "#7201a8"
             ],
             [
              0.3333333333333333,
              "#9c179e"
             ],
             [
              0.4444444444444444,
              "#bd3786"
             ],
             [
              0.5555555555555556,
              "#d8576b"
             ],
             [
              0.6666666666666666,
              "#ed7953"
             ],
             [
              0.7777777777777778,
              "#fb9f3a"
             ],
             [
              0.8888888888888888,
              "#fdca26"
             ],
             [
              1,
              "#f0f921"
             ]
            ],
            "type": "surface"
           }
          ],
          "table": [
           {
            "cells": {
             "fill": {
              "color": "#EBF0F8"
             },
             "line": {
              "color": "white"
             }
            },
            "header": {
             "fill": {
              "color": "#C8D4E3"
             },
             "line": {
              "color": "white"
             }
            },
            "type": "table"
           }
          ]
         },
         "layout": {
          "annotationdefaults": {
           "arrowcolor": "#2a3f5f",
           "arrowhead": 0,
           "arrowwidth": 1
          },
          "coloraxis": {
           "colorbar": {
            "outlinewidth": 0,
            "ticks": ""
           }
          },
          "colorscale": {
           "diverging": [
            [
             0,
             "#8e0152"
            ],
            [
             0.1,
             "#c51b7d"
            ],
            [
             0.2,
             "#de77ae"
            ],
            [
             0.3,
             "#f1b6da"
            ],
            [
             0.4,
             "#fde0ef"
            ],
            [
             0.5,
             "#f7f7f7"
            ],
            [
             0.6,
             "#e6f5d0"
            ],
            [
             0.7,
             "#b8e186"
            ],
            [
             0.8,
             "#7fbc41"
            ],
            [
             0.9,
             "#4d9221"
            ],
            [
             1,
             "#276419"
            ]
           ],
           "sequential": [
            [
             0,
             "#0d0887"
            ],
            [
             0.1111111111111111,
             "#46039f"
            ],
            [
             0.2222222222222222,
             "#7201a8"
            ],
            [
             0.3333333333333333,
             "#9c179e"
            ],
            [
             0.4444444444444444,
             "#bd3786"
            ],
            [
             0.5555555555555556,
             "#d8576b"
            ],
            [
             0.6666666666666666,
             "#ed7953"
            ],
            [
             0.7777777777777778,
             "#fb9f3a"
            ],
            [
             0.8888888888888888,
             "#fdca26"
            ],
            [
             1,
             "#f0f921"
            ]
           ],
           "sequentialminus": [
            [
             0,
             "#0d0887"
            ],
            [
             0.1111111111111111,
             "#46039f"
            ],
            [
             0.2222222222222222,
             "#7201a8"
            ],
            [
             0.3333333333333333,
             "#9c179e"
            ],
            [
             0.4444444444444444,
             "#bd3786"
            ],
            [
             0.5555555555555556,
             "#d8576b"
            ],
            [
             0.6666666666666666,
             "#ed7953"
            ],
            [
             0.7777777777777778,
             "#fb9f3a"
            ],
            [
             0.8888888888888888,
             "#fdca26"
            ],
            [
             1,
             "#f0f921"
            ]
           ]
          },
          "colorway": [
           "#636efa",
           "#EF553B",
           "#00cc96",
           "#ab63fa",
           "#FFA15A",
           "#19d3f3",
           "#FF6692",
           "#B6E880",
           "#FF97FF",
           "#FECB52"
          ],
          "font": {
           "color": "#2a3f5f"
          },
          "geo": {
           "bgcolor": "white",
           "lakecolor": "white",
           "landcolor": "#E5ECF6",
           "showlakes": true,
           "showland": true,
           "subunitcolor": "white"
          },
          "hoverlabel": {
           "align": "left"
          },
          "hovermode": "closest",
          "mapbox": {
           "style": "light"
          },
          "paper_bgcolor": "white",
          "plot_bgcolor": "#E5ECF6",
          "polar": {
           "angularaxis": {
            "gridcolor": "white",
            "linecolor": "white",
            "ticks": ""
           },
           "bgcolor": "#E5ECF6",
           "radialaxis": {
            "gridcolor": "white",
            "linecolor": "white",
            "ticks": ""
           }
          },
          "scene": {
           "xaxis": {
            "backgroundcolor": "#E5ECF6",
            "gridcolor": "white",
            "gridwidth": 2,
            "linecolor": "white",
            "showbackground": true,
            "ticks": "",
            "zerolinecolor": "white"
           },
           "yaxis": {
            "backgroundcolor": "#E5ECF6",
            "gridcolor": "white",
            "gridwidth": 2,
            "linecolor": "white",
            "showbackground": true,
            "ticks": "",
            "zerolinecolor": "white"
           },
           "zaxis": {
            "backgroundcolor": "#E5ECF6",
            "gridcolor": "white",
            "gridwidth": 2,
            "linecolor": "white",
            "showbackground": true,
            "ticks": "",
            "zerolinecolor": "white"
           }
          },
          "shapedefaults": {
           "line": {
            "color": "#2a3f5f"
           }
          },
          "ternary": {
           "aaxis": {
            "gridcolor": "white",
            "linecolor": "white",
            "ticks": ""
           },
           "baxis": {
            "gridcolor": "white",
            "linecolor": "white",
            "ticks": ""
           },
           "bgcolor": "#E5ECF6",
           "caxis": {
            "gridcolor": "white",
            "linecolor": "white",
            "ticks": ""
           }
          },
          "title": {
           "x": 0.05
          },
          "xaxis": {
           "automargin": true,
           "gridcolor": "white",
           "linecolor": "white",
           "ticks": "",
           "title": {
            "standoff": 15
           },
           "zerolinecolor": "white",
           "zerolinewidth": 2
          },
          "yaxis": {
           "automargin": true,
           "gridcolor": "white",
           "linecolor": "white",
           "ticks": "",
           "title": {
            "standoff": 15
           },
           "zerolinecolor": "white",
           "zerolinewidth": 2
          }
         }
        },
        "title": {
         "text": "No lookahead"
        }
       }
      },
      "text/html": [
       "<div>\n",
       "        \n",
       "        \n",
       "            <div id=\"ce4655ee-f8c8-41b9-a8f1-c1c16f370c7a\" class=\"plotly-graph-div\" style=\"height:525px; width:100%;\"></div>\n",
       "            <script type=\"text/javascript\">\n",
       "                require([\"plotly\"], function(Plotly) {\n",
       "                    window.PLOTLYENV=window.PLOTLYENV || {};\n",
       "                    \n",
       "                if (document.getElementById(\"ce4655ee-f8c8-41b9-a8f1-c1c16f370c7a\")) {\n",
       "                    Plotly.newPlot(\n",
       "                        'ce4655ee-f8c8-41b9-a8f1-c1c16f370c7a',\n",
       "                        [{\"type\": \"scatter\", \"x\": [0.0, 0.0004003119538538158, 0.004403431434184313, 0.044434625655412674, 0.10000000149011612, 0.1443059742450714, 0.20000000298023224, 0.24898453056812286, 0.30000001192092896, 0.353498250246048, 0.4000000059604645, 0.456448495388031, 0.5, 0.5606505870819092, 0.6000000238418579, 0.653152585029602, 0.699999988079071, 0.7399969696998596, 0.800000011920929, 0.8353287577629089, 0.8999999761581421, 0.942052960395813, 1.0, 1.044456958770752, 1.100000023841858, 1.1436442136764526, 1.2000000476837158, 1.24150812625885, 1.2999999523162842, 1.3507211208343506, 1.399999976158142, 1.45376455783844, 1.5, 1.5537010431289673, 1.600000023841858, 1.6513761281967163, 1.7000000476837158, 1.7444067001342773, 1.7999999523162842, 1.8535796403884888, 1.899999976158142, 1.9528100490570068, 2.0, 2.039099931716919, 2.0999999046325684, 2.1568801403045654, 2.200000047683716, 2.2577242851257324, 2.299999952316284, 2.3567121028900146, 2.4000000953674316, 2.4550187587738037, 2.5, 2.55317759513855, 2.5999999046325684, 2.6514227390289307, 2.700000047683716, 2.7498316764831543, 2.799999952316284, 2.8479912281036377, 2.9000000953674316, 2.943598747253418, 3.0, 3.036590337753296, 3.0999999046325684, 3.1460258960723877, 3.200000047683716, 3.246952533721924, 3.299999952316284, 3.346733570098877, 3.4000000953674316, 3.446369171142578, 3.5, 3.546149492263794, 3.5999999046325684, 3.6461007595062256, 3.700000047683716, 3.745421886444092, 3.799999952316284, 3.8452436923980713, 3.9000000953674316, 3.961684465408325, 4.0, 4.06193733215332, 4.099999904632568, 4.161558628082275, 4.199999809265137, 4.259585380554199, 4.300000190734863, 4.357243061065674, 4.400000095367432, 4.455842971801758, 4.5, 4.5560102462768555, 4.599999904632568, 4.655774116516113, 4.699999809265137, 4.7603559494018555, 4.800000190734863, 4.86028528213501, 4.900000095367432], \"y\": [3.34159255027771, 3.34159255027771, 3.341588258743286, 3.34121036529541, 3.3400449752807617, 3.339390516281128, 3.340009927749634, 3.3424792289733887, 3.3475475311279297, 3.3560545444488525, 3.3664357662200928, 3.383164882659912, 3.3994033336639404, 3.427304983139038, 3.448904275894165, 3.482863426208496, 3.5176210403442383, 3.551189422607422, 3.6087844371795654, 3.647068500518799, 3.7263691425323486, 3.784834146499634, 3.8751680850982666, 3.9527652263641357, 4.060705184936523, 4.15467643737793, 4.288843631744385, 4.397304058074951, 4.564826488494873, 4.724123954772949, 4.891421794891357, 5.087333679199219, 5.266143321990967, 5.483905792236328, 5.678525447845459, 5.899125576019287, 6.109753608703613, 6.301202774047852, 6.536610126495361, 6.7559967041015625, 6.938302040100098, 7.135361194610596, 7.301365852355957, 7.431341171264648, 7.619717121124268, 7.780154228210449, 7.891951084136963, 8.028414726257324, 8.119160652160645, 8.228941917419434, 8.304047584533691, 8.389029502868652, 8.450393676757812, 8.51390266418457, 8.562284469604492, 8.607603073120117, 8.643376350402832, 8.673236846923828, 8.69667911529541, 8.713119506835938, 8.724583625793457, 8.72929859161377, 8.728816032409668, 8.724736213684082, 8.710284233093262, 8.69415283203125, 8.668930053710938, 8.641382217407227, 8.603616714477539, 8.564322471618652, 8.512114524841309, 8.459972381591797, 8.391188621520996, 8.324435234069824, 8.236886024475098, 8.153430938720703, 8.045137405395508, 7.944840431213379, 7.812906265258789, 7.694396018981934, 7.5400800704956055, 7.353607654571533, 7.23188591003418, 7.028478622436523, 6.900726795196533, 6.693478584289551, 6.5652055740356445, 6.371415138244629, 6.244522571563721, 6.07252836227417, 5.949885368347168, 5.796595573425293, 5.679919719696045, 5.536523342132568, 5.426898002624512, 5.2917561531066895, 5.188028335571289, 5.052834510803223, 4.968751907348633, 4.849850177764893, 4.777997016906738]}, {\"type\": \"scatter\", \"x\": [0.0, 0.0004003119538538158, 0.004403431434184313, 0.044434625655412674, 0.10000000149011612, 0.1443059742450714, 0.20000000298023224, 0.24898453056812286, 0.30000001192092896, 0.353498250246048, 0.4000000059604645, 0.456448495388031, 0.5, 0.5606505870819092, 0.6000000238418579, 0.653152585029602, 0.699999988079071, 0.7399969696998596, 0.800000011920929, 0.8353287577629089, 0.8999999761581421, 0.942052960395813, 1.0, 1.044456958770752, 1.100000023841858, 1.1436442136764526, 1.2000000476837158, 1.24150812625885, 1.2999999523162842, 1.3507211208343506, 1.399999976158142, 1.45376455783844, 1.5, 1.5537010431289673, 1.600000023841858, 1.6513761281967163, 1.7000000476837158, 1.7444067001342773, 1.7999999523162842, 1.8535796403884888, 1.899999976158142, 1.9528100490570068, 2.0, 2.039099931716919, 2.0999999046325684, 2.1568801403045654, 2.200000047683716, 2.2577242851257324, 2.299999952316284, 2.3567121028900146, 2.4000000953674316, 2.4550187587738037, 2.5, 2.55317759513855, 2.5999999046325684, 2.6514227390289307, 2.700000047683716, 2.7498316764831543, 2.799999952316284, 2.8479912281036377, 2.9000000953674316, 2.943598747253418, 3.0, 3.036590337753296, 3.0999999046325684, 3.1460258960723877, 3.200000047683716, 3.246952533721924, 3.299999952316284, 3.346733570098877, 3.4000000953674316, 3.446369171142578, 3.5, 3.546149492263794, 3.5999999046325684, 3.6461007595062256, 3.700000047683716, 3.745421886444092, 3.799999952316284, 3.8452436923980713, 3.9000000953674316, 3.961684465408325, 4.0, 4.06193733215332, 4.099999904632568, 4.161558628082275, 4.199999809265137, 4.259585380554199, 4.300000190734863, 4.357243061065674, 4.400000095367432, 4.455842971801758, 4.5, 4.5560102462768555, 4.599999904632568, 4.655774116516113, 4.699999809265137, 4.7603559494018555, 4.800000190734863, 4.86028528213501, 4.900000095367432], \"y\": [-0.10000000149011612, -0.09999971836805344, -0.0999663770198822, -0.09672906994819641, -0.08445338904857635, -0.07029471546411514, -0.04980308189988136, -0.030720625072717667, -0.0110953189432621, 0.008362701162695885, 0.023831307888031006, 0.04034928232431412, 0.05126408115029335, 0.0635375902056694, 0.06973286718130112, 0.07570374011993408, 0.07885895669460297, 0.0798901841044426, 0.07869458198547363, 0.07646513730287552, 0.06936004012823105, 0.06270886212587357, 0.0508669838309288, 0.03967868164181709, 0.023069657385349274, 0.00802568532526493, -0.014179311692714691, -0.03223085403442383, -0.0603877417743206, -0.08647949993610382, -0.11290251463651657, -0.1414150893688202, -0.16462203860282898, -0.18767625093460083, -0.20270484685897827, -0.21170774102210999, -0.21155370771884918, -0.2029435783624649, -0.18073225021362305, -0.14794404804706573, -0.11206496506929398, -0.06468204408884048, -0.018572870641946793, 0.021123996004462242, 0.08391772210597992, 0.14184275269508362, 0.184432253241539, 0.23975485563278198, 0.2786179780960083, 0.32915374636650085, 0.3662041425704956, 0.4120214879512787, 0.448153018951416, 0.48992979526519775, 0.5256840586662292, 0.5643786787986755, 0.6003016829490662, 0.6368663311004639, 0.6733434796333313, 0.708020031452179, 0.745333731174469, 0.7762147188186646, 0.8158289790153503, 0.8408225774765015, 0.8836995959281921, 0.9135976433753967, 0.9475125670433044, 0.9755975008010864, 1.005821704864502, 1.0307207107543945, 1.0572928190231323, 1.0783624649047852, 1.1006114482879639, 1.1172908544540405, 1.1341958045959473, 1.1456156969070435, 1.1556485891342163, 1.1601779460906982, 1.160853385925293, 1.155951976776123, 1.1428074836730957, 1.115349531173706, 1.0908458232879639, 1.0355916023254395, 0.9917147755622864, 0.9017549753189087, 0.8340756893157959, 0.7107969522476196, 0.6163639426231384, 0.47004443407058716, 0.35498401522636414, 0.2027035653591156, 0.08553273230791092, -0.053344856947660446, -0.15136894583702087, -0.2593472898006439, -0.33117300271987915, -0.4107058644294739, -0.45199108123779297, -0.5013077259063721, -0.5258954167366028]}, {\"type\": \"scatter\", \"x\": [0.0, 0.0004003119538538158, 0.004403431434184313, 0.044434625655412674, 0.10000000149011612, 0.1443059742450714, 0.20000000298023224, 0.24898453056812286, 0.30000001192092896, 0.353498250246048, 0.4000000059604645, 0.456448495388031, 0.5, 0.5606505870819092, 0.6000000238418579, 0.653152585029602, 0.699999988079071, 0.7399969696998596, 0.800000011920929, 0.8353287577629089, 0.8999999761581421, 0.942052960395813, 1.0, 1.044456958770752, 1.100000023841858, 1.1436442136764526, 1.2000000476837158, 1.24150812625885, 1.2999999523162842, 1.3507211208343506, 1.399999976158142, 1.45376455783844, 1.5, 1.5537010431289673, 1.600000023841858, 1.6513761281967163, 1.7000000476837158, 1.7444067001342773, 1.7999999523162842, 1.8535796403884888, 1.899999976158142, 1.9528100490570068, 2.0, 2.039099931716919, 2.0999999046325684, 2.1568801403045654, 2.200000047683716, 2.2577242851257324, 2.299999952316284, 2.3567121028900146, 2.4000000953674316, 2.4550187587738037, 2.5, 2.55317759513855, 2.5999999046325684, 2.6514227390289307, 2.700000047683716, 2.7498316764831543, 2.799999952316284, 2.8479912281036377, 2.9000000953674316, 2.943598747253418, 3.0, 3.036590337753296, 3.0999999046325684, 3.1460258960723877, 3.200000047683716, 3.246952533721924, 3.299999952316284, 3.346733570098877, 3.4000000953674316, 3.446369171142578, 3.5, 3.546149492263794, 3.5999999046325684, 3.6461007595062256, 3.700000047683716, 3.745421886444092, 3.799999952316284, 3.8452436923980713, 3.9000000953674316, 3.961684465408325, 4.0, 4.06193733215332, 4.099999904632568, 4.161558628082275, 4.199999809265137, 4.259585380554199, 4.300000190734863, 4.357243061065674, 4.400000095367432, 4.455842971801758, 4.5, 4.5560102462768555, 4.599999904632568, 4.655774116516113, 4.699999809265137, 4.7603559494018555, 4.800000190734863, 4.86028528213501, 4.900000095367432], \"y\": [0.0, -0.00018066617485601455, -0.0019480065675452352, -0.015796631574630737, -0.02409907802939415, -0.004506795667111874, 0.02830924093723297, 0.07338956743478775, 0.12642422318458557, 0.19249694049358368, 0.2548496127128601, 0.3387482166290283, 0.4076692759990692, 0.5132579207420349, 0.5850963592529297, 0.6931341886520386, 0.7913175821304321, 0.8872792720794678, 1.0330201387405396, 1.1341407299041748, 1.3182859420776367, 1.4617619514465332, 1.6553716659545898, 1.8345898389816284, 2.050628185272217, 2.2543258666992188, 2.504364013671875, 2.719998359680176, 3.0032854080200195, 3.2742438316345215, 3.5101068019866943, 3.7710137367248535, 3.9566545486450195, 4.144041538238525, 4.254274368286133, 4.323190212249756, 4.331044673919678, 4.284789085388184, 4.175675392150879, 4.0082621574401855, 3.844419479370117, 3.618098497390747, 3.4186410903930664, 3.2311599254608154, 2.9599709510803223, 2.6867151260375977, 2.501943826675415, 2.233295202255249, 2.0635452270507812, 1.8159279823303223, 1.6586161851882935, 1.4388048648834229, 1.2948747873306274, 1.1017513275146484, 0.9707730412483215, 0.7996551394462585, 0.6796988844871521, 0.5262369513511658, 0.4153306782245636, 0.27675899863243103, 0.1715964674949646, 0.05029803141951561, -0.05874786898493767, -0.160445436835289, -0.28475216031074524, -0.4106194078922272, -0.5167772173881531, -0.6513344645500183, -0.7660022377967834, -0.9110745191574097, -1.043320655822754, -1.2020429372787476, -1.3579504489898682, -1.532428503036499, -1.7149872779846191, -1.9041415452957153, -2.1110572814941406, -2.3045639991760254, -2.5274875164031982, -2.7107887268066406, -2.9228365421295166, -3.120312452316284, -3.2314417362213135, -3.331773281097412, -3.3793036937713623, -3.3495755195617676, -3.3244688510894775, -3.1815130710601807, -3.1024858951568604, -2.9166126251220703, -2.8292243480682373, -2.675464153289795, -2.618651866912842, -2.513763189315796, -2.4757189750671387, -2.3761863708496094, -2.3166372776031494, -2.1663949489593506, -2.0764691829681396, -1.8716402053833008, -1.7484865188598633]}, {\"type\": \"scatter\", \"x\": [0.0, 0.0004003119538538158, 0.004403431434184313, 0.044434625655412674, 0.10000000149011612, 0.1443059742450714, 0.20000000298023224, 0.24898453056812286, 0.30000001192092896, 0.353498250246048, 0.4000000059604645, 0.456448495388031, 0.5, 0.5606505870819092, 0.6000000238418579, 0.653152585029602, 0.699999988079071, 0.7399969696998596, 0.800000011920929, 0.8353287577629089, 0.8999999761581421, 0.942052960395813, 1.0, 1.044456958770752, 1.100000023841858, 1.1436442136764526, 1.2000000476837158, 1.24150812625885, 1.2999999523162842, 1.3507211208343506, 1.399999976158142, 1.45376455783844, 1.5, 1.5537010431289673, 1.600000023841858, 1.6513761281967163, 1.7000000476837158, 1.7444067001342773, 1.7999999523162842, 1.8535796403884888, 1.899999976158142, 1.9528100490570068, 2.0, 2.039099931716919, 2.0999999046325684, 2.1568801403045654, 2.200000047683716, 2.2577242851257324, 2.299999952316284, 2.3567121028900146, 2.4000000953674316, 2.4550187587738037, 2.5, 2.55317759513855, 2.5999999046325684, 2.6514227390289307, 2.700000047683716, 2.7498316764831543, 2.799999952316284, 2.8479912281036377, 2.9000000953674316, 2.943598747253418, 3.0, 3.036590337753296, 3.0999999046325684, 3.1460258960723877, 3.200000047683716, 3.246952533721924, 3.299999952316284, 3.346733570098877, 3.4000000953674316, 3.446369171142578, 3.5, 3.546149492263794, 3.5999999046325684, 3.6461007595062256, 3.700000047683716, 3.745421886444092, 3.799999952316284, 3.8452436923980713, 3.9000000953674316, 3.961684465408325, 4.0, 4.06193733215332, 4.099999904632568, 4.161558628082275, 4.199999809265137, 4.259585380554199, 4.300000190734863, 4.357243061065674, 4.400000095367432, 4.455842971801758, 4.5, 4.5560102462768555, 4.599999904632568, 4.655774116516113, 4.699999809265137, 4.7603559494018555, 4.800000190734863, 4.86028528213501, 4.900000095367432], \"y\": [0.0, 0.0013943674275651574, 0.015233232639729977, 0.14349162578582764, 0.2931019067764282, 0.34377968311309814, 0.388621985912323, 0.3889024257659912, 0.3786121904850006, 0.347957581281662, 0.3164723813533783, 0.2689347565174103, 0.2321634441614151, 0.17421604692935944, 0.1411474496126175, 0.08622826635837555, 0.05024968832731247, 0.003864660859107971, -0.03852057829499245, -0.0847829133272171, -0.12576152384281158, -0.18506072461605072, -0.21344976127147675, -0.28227418661117554, -0.3037216067314148, -0.37732940912246704, -0.39582207798957825, -0.46607905626296997, -0.4787193536758423, -0.5382833480834961, -0.5203415155410767, -0.5275021195411682, -0.46454110741615295, -0.38313502073287964, -0.25712141394615173, -0.08785144984722137, 0.09706955403089523, 0.2891683578491211, 0.5023980140686035, 0.7099142670631409, 0.8245858550071716, 0.9539976119995117, 0.9871129393577576, 1.0346448421478271, 1.0080199241638184, 1.0124984979629517, 0.9546982049942017, 0.9466202259063721, 0.8843883872032166, 0.8824954628944397, 0.8208746314048767, 0.8290543556213379, 0.7673726677894592, 0.7878239750862122, 0.7273021340370178, 0.7611660361289978, 0.7035045027732849, 0.7471524477005005, 0.6904385089874268, 0.7379401326179504, 0.6779137253761292, 0.7241703867912292, 0.6570262908935547, 0.6985447406768799, 0.6230738162994385, 0.6592860817909241, 0.5748111009597778, 0.6042036414146423, 0.5135062336921692, 0.5356444120407104, 0.4406346082687378, 0.45336994528770447, 0.3559592366218567, 0.3544861078262329, 0.25516945123672485, 0.23100905120372772, 0.12653814256191254, 0.06757158786058426, -0.05325770750641823, -0.16495902836322784, -0.3199912905693054, -0.5668591260910034, -0.7111196517944336, -1.061789870262146, -1.237604022026062, -1.662937045097351, -1.845001220703125, -2.2575507164001465, -2.392463445663452, -2.672724485397339, -2.6774520874023438, -2.7259838581085205, -2.550259590148926, -2.367814064025879, -2.0689632892608643, -1.778498888015747, -1.458787441253662, -1.1603477001190186, -0.9169942140579224, -0.7063223123550415, -0.5265556573867798]}],\n",
       "                        {\"template\": {\"data\": {\"bar\": [{\"error_x\": {\"color\": \"#2a3f5f\"}, \"error_y\": {\"color\": \"#2a3f5f\"}, \"marker\": {\"line\": {\"color\": \"#E5ECF6\", \"width\": 0.5}}, \"type\": \"bar\"}], \"barpolar\": [{\"marker\": {\"line\": {\"color\": \"#E5ECF6\", \"width\": 0.5}}, \"type\": \"barpolar\"}], \"carpet\": [{\"aaxis\": {\"endlinecolor\": \"#2a3f5f\", \"gridcolor\": \"white\", \"linecolor\": \"white\", \"minorgridcolor\": \"white\", \"startlinecolor\": \"#2a3f5f\"}, \"baxis\": {\"endlinecolor\": \"#2a3f5f\", \"gridcolor\": \"white\", \"linecolor\": \"white\", \"minorgridcolor\": \"white\", \"startlinecolor\": \"#2a3f5f\"}, \"type\": \"carpet\"}], \"choropleth\": [{\"colorbar\": {\"outlinewidth\": 0, \"ticks\": \"\"}, \"type\": \"choropleth\"}], \"contour\": [{\"colorbar\": {\"outlinewidth\": 0, \"ticks\": \"\"}, \"colorscale\": [[0.0, \"#0d0887\"], [0.1111111111111111, \"#46039f\"], [0.2222222222222222, \"#7201a8\"], [0.3333333333333333, \"#9c179e\"], [0.4444444444444444, \"#bd3786\"], [0.5555555555555556, \"#d8576b\"], [0.6666666666666666, \"#ed7953\"], [0.7777777777777778, \"#fb9f3a\"], [0.8888888888888888, \"#fdca26\"], [1.0, \"#f0f921\"]], \"type\": \"contour\"}], \"contourcarpet\": [{\"colorbar\": {\"outlinewidth\": 0, \"ticks\": \"\"}, \"type\": \"contourcarpet\"}], \"heatmap\": [{\"colorbar\": {\"outlinewidth\": 0, \"ticks\": \"\"}, \"colorscale\": [[0.0, \"#0d0887\"], [0.1111111111111111, \"#46039f\"], [0.2222222222222222, \"#7201a8\"], [0.3333333333333333, \"#9c179e\"], [0.4444444444444444, \"#bd3786\"], [0.5555555555555556, \"#d8576b\"], [0.6666666666666666, \"#ed7953\"], [0.7777777777777778, \"#fb9f3a\"], [0.8888888888888888, \"#fdca26\"], [1.0, \"#f0f921\"]], \"type\": \"heatmap\"}], \"heatmapgl\": [{\"colorbar\": {\"outlinewidth\": 0, \"ticks\": \"\"}, \"colorscale\": [[0.0, \"#0d0887\"], [0.1111111111111111, \"#46039f\"], [0.2222222222222222, \"#7201a8\"], [0.3333333333333333, \"#9c179e\"], [0.4444444444444444, \"#bd3786\"], [0.5555555555555556, \"#d8576b\"], [0.6666666666666666, \"#ed7953\"], [0.7777777777777778, \"#fb9f3a\"], [0.8888888888888888, \"#fdca26\"], [1.0, \"#f0f921\"]], \"type\": \"heatmapgl\"}], \"histogram\": [{\"marker\": {\"colorbar\": {\"outlinewidth\": 0, \"ticks\": \"\"}}, \"type\": \"histogram\"}], \"histogram2d\": [{\"colorbar\": {\"outlinewidth\": 0, \"ticks\": \"\"}, \"colorscale\": [[0.0, \"#0d0887\"], [0.1111111111111111, \"#46039f\"], [0.2222222222222222, \"#7201a8\"], [0.3333333333333333, \"#9c179e\"], [0.4444444444444444, \"#bd3786\"], [0.5555555555555556, \"#d8576b\"], [0.6666666666666666, \"#ed7953\"], [0.7777777777777778, \"#fb9f3a\"], [0.8888888888888888, \"#fdca26\"], [1.0, \"#f0f921\"]], \"type\": \"histogram2d\"}], \"histogram2dcontour\": [{\"colorbar\": {\"outlinewidth\": 0, \"ticks\": \"\"}, \"colorscale\": [[0.0, \"#0d0887\"], [0.1111111111111111, \"#46039f\"], [0.2222222222222222, \"#7201a8\"], [0.3333333333333333, \"#9c179e\"], [0.4444444444444444, \"#bd3786\"], [0.5555555555555556, \"#d8576b\"], [0.6666666666666666, \"#ed7953\"], [0.7777777777777778, \"#fb9f3a\"], [0.8888888888888888, \"#fdca26\"], [1.0, \"#f0f921\"]], \"type\": \"histogram2dcontour\"}], \"mesh3d\": [{\"colorbar\": {\"outlinewidth\": 0, \"ticks\": \"\"}, \"type\": \"mesh3d\"}], \"parcoords\": [{\"line\": {\"colorbar\": {\"outlinewidth\": 0, \"ticks\": \"\"}}, \"type\": \"parcoords\"}], \"pie\": [{\"automargin\": true, \"type\": \"pie\"}], \"scatter\": [{\"marker\": {\"colorbar\": {\"outlinewidth\": 0, \"ticks\": \"\"}}, \"type\": \"scatter\"}], \"scatter3d\": [{\"line\": {\"colorbar\": {\"outlinewidth\": 0, \"ticks\": \"\"}}, \"marker\": {\"colorbar\": {\"outlinewidth\": 0, \"ticks\": \"\"}}, \"type\": \"scatter3d\"}], \"scattercarpet\": [{\"marker\": {\"colorbar\": {\"outlinewidth\": 0, \"ticks\": \"\"}}, \"type\": \"scattercarpet\"}], \"scattergeo\": [{\"marker\": {\"colorbar\": {\"outlinewidth\": 0, \"ticks\": \"\"}}, \"type\": \"scattergeo\"}], \"scattergl\": [{\"marker\": {\"colorbar\": {\"outlinewidth\": 0, \"ticks\": \"\"}}, \"type\": \"scattergl\"}], \"scattermapbox\": [{\"marker\": {\"colorbar\": {\"outlinewidth\": 0, \"ticks\": \"\"}}, \"type\": \"scattermapbox\"}], \"scatterpolar\": [{\"marker\": {\"colorbar\": {\"outlinewidth\": 0, \"ticks\": \"\"}}, \"type\": \"scatterpolar\"}], \"scatterpolargl\": [{\"marker\": {\"colorbar\": {\"outlinewidth\": 0, \"ticks\": \"\"}}, \"type\": \"scatterpolargl\"}], \"scatterternary\": [{\"marker\": {\"colorbar\": {\"outlinewidth\": 0, \"ticks\": \"\"}}, \"type\": \"scatterternary\"}], \"surface\": [{\"colorbar\": {\"outlinewidth\": 0, \"ticks\": \"\"}, \"colorscale\": [[0.0, \"#0d0887\"], [0.1111111111111111, \"#46039f\"], [0.2222222222222222, \"#7201a8\"], [0.3333333333333333, \"#9c179e\"], [0.4444444444444444, \"#bd3786\"], [0.5555555555555556, \"#d8576b\"], [0.6666666666666666, \"#ed7953\"], [0.7777777777777778, \"#fb9f3a\"], [0.8888888888888888, \"#fdca26\"], [1.0, \"#f0f921\"]], \"type\": \"surface\"}], \"table\": [{\"cells\": {\"fill\": {\"color\": \"#EBF0F8\"}, \"line\": {\"color\": \"white\"}}, \"header\": {\"fill\": {\"color\": \"#C8D4E3\"}, \"line\": {\"color\": \"white\"}}, \"type\": \"table\"}]}, \"layout\": {\"annotationdefaults\": {\"arrowcolor\": \"#2a3f5f\", \"arrowhead\": 0, \"arrowwidth\": 1}, \"coloraxis\": {\"colorbar\": {\"outlinewidth\": 0, \"ticks\": \"\"}}, \"colorscale\": {\"diverging\": [[0, \"#8e0152\"], [0.1, \"#c51b7d\"], [0.2, \"#de77ae\"], [0.3, \"#f1b6da\"], [0.4, \"#fde0ef\"], [0.5, \"#f7f7f7\"], [0.6, \"#e6f5d0\"], [0.7, \"#b8e186\"], [0.8, \"#7fbc41\"], [0.9, \"#4d9221\"], [1, \"#276419\"]], \"sequential\": [[0.0, \"#0d0887\"], [0.1111111111111111, \"#46039f\"], [0.2222222222222222, \"#7201a8\"], [0.3333333333333333, \"#9c179e\"], [0.4444444444444444, \"#bd3786\"], [0.5555555555555556, \"#d8576b\"], [0.6666666666666666, \"#ed7953\"], [0.7777777777777778, \"#fb9f3a\"], [0.8888888888888888, \"#fdca26\"], [1.0, \"#f0f921\"]], \"sequentialminus\": [[0.0, \"#0d0887\"], [0.1111111111111111, \"#46039f\"], [0.2222222222222222, \"#7201a8\"], [0.3333333333333333, \"#9c179e\"], [0.4444444444444444, \"#bd3786\"], [0.5555555555555556, \"#d8576b\"], [0.6666666666666666, \"#ed7953\"], [0.7777777777777778, \"#fb9f3a\"], [0.8888888888888888, \"#fdca26\"], [1.0, \"#f0f921\"]]}, \"colorway\": [\"#636efa\", \"#EF553B\", \"#00cc96\", \"#ab63fa\", \"#FFA15A\", \"#19d3f3\", \"#FF6692\", \"#B6E880\", \"#FF97FF\", \"#FECB52\"], \"font\": {\"color\": \"#2a3f5f\"}, \"geo\": {\"bgcolor\": \"white\", \"lakecolor\": \"white\", \"landcolor\": \"#E5ECF6\", \"showlakes\": true, \"showland\": true, \"subunitcolor\": \"white\"}, \"hoverlabel\": {\"align\": \"left\"}, \"hovermode\": \"closest\", \"mapbox\": {\"style\": \"light\"}, \"paper_bgcolor\": \"white\", \"plot_bgcolor\": \"#E5ECF6\", \"polar\": {\"angularaxis\": {\"gridcolor\": \"white\", \"linecolor\": \"white\", \"ticks\": \"\"}, \"bgcolor\": \"#E5ECF6\", \"radialaxis\": {\"gridcolor\": \"white\", \"linecolor\": \"white\", \"ticks\": \"\"}}, \"scene\": {\"xaxis\": {\"backgroundcolor\": \"#E5ECF6\", \"gridcolor\": \"white\", \"gridwidth\": 2, \"linecolor\": \"white\", \"showbackground\": true, \"ticks\": \"\", \"zerolinecolor\": \"white\"}, \"yaxis\": {\"backgroundcolor\": \"#E5ECF6\", \"gridcolor\": \"white\", \"gridwidth\": 2, \"linecolor\": \"white\", \"showbackground\": true, \"ticks\": \"\", \"zerolinecolor\": \"white\"}, \"zaxis\": {\"backgroundcolor\": \"#E5ECF6\", \"gridcolor\": \"white\", \"gridwidth\": 2, \"linecolor\": \"white\", \"showbackground\": true, \"ticks\": \"\", \"zerolinecolor\": \"white\"}}, \"shapedefaults\": {\"line\": {\"color\": \"#2a3f5f\"}}, \"ternary\": {\"aaxis\": {\"gridcolor\": \"white\", \"linecolor\": \"white\", \"ticks\": \"\"}, \"baxis\": {\"gridcolor\": \"white\", \"linecolor\": \"white\", \"ticks\": \"\"}, \"bgcolor\": \"#E5ECF6\", \"caxis\": {\"gridcolor\": \"white\", \"linecolor\": \"white\", \"ticks\": \"\"}}, \"title\": {\"x\": 0.05}, \"xaxis\": {\"automargin\": true, \"gridcolor\": \"white\", \"linecolor\": \"white\", \"ticks\": \"\", \"title\": {\"standoff\": 15}, \"zerolinecolor\": \"white\", \"zerolinewidth\": 2}, \"yaxis\": {\"automargin\": true, \"gridcolor\": \"white\", \"linecolor\": \"white\", \"ticks\": \"\", \"title\": {\"standoff\": 15}, \"zerolinecolor\": \"white\", \"zerolinewidth\": 2}}}, \"title\": {\"text\": \"No lookahead\"}},\n",
       "                        {\"responsive\": true}\n",
       "                    ).then(function(){\n",
       "                            \n",
       "var gd = document.getElementById('ce4655ee-f8c8-41b9-a8f1-c1c16f370c7a');\n",
       "var x = new MutationObserver(function (mutations, observer) {{\n",
       "        var display = window.getComputedStyle(gd).display;\n",
       "        if (!display || display === 'none') {{\n",
       "            console.log([gd, 'removed!']);\n",
       "            Plotly.purge(gd);\n",
       "            observer.disconnect();\n",
       "        }}\n",
       "}});\n",
       "\n",
       "// Listen for the removal of the full notebook cells\n",
       "var notebookContainer = gd.closest('#notebook-container');\n",
       "if (notebookContainer) {{\n",
       "    x.observe(notebookContainer, {childList: true});\n",
       "}}\n",
       "\n",
       "// Listen for the clearing of the current output cell\n",
       "var outputEl = gd.closest('.output');\n",
       "if (outputEl) {{\n",
       "    x.observe(outputEl, {childList: true});\n",
       "}}\n",
       "\n",
       "                        })\n",
       "                };\n",
       "                });\n",
       "            </script>\n",
       "        </div>"
      ]
     },
     "metadata": {},
     "output_type": "display_data"
    }
   ],
   "source": [
    "ctrl = controllers.get_limited_lookahead_controller(get_value_function(online_horizon)[0])\n",
    "x_traj_sim, t_traj_sim = controllers.sim_ctrl(x0, vf.u_dim[0], sys.dx,\n",
    "                                              ctrl, dt_sim, N, integration_mode=integration_mode)\n",
    "controllers.plot_sim(t_traj_sim, x_traj_sim, \"No lookahead\").show()"
   ]
  },
  {
   "cell_type": "code",
   "execution_count": 15,
   "metadata": {},
   "outputs": [
    {
     "data": {
      "application/vnd.plotly.v1+json": {
       "config": {
        "plotlyServerURL": "https://plot.ly"
       },
       "data": [
        {
         "type": "scatter",
         "x": [
          0,
          0.00011152202932862565,
          0.001226742286235094,
          0.012378945015370846,
          0.10000000149011612,
          0.13907159864902496,
          0.20000000298023224,
          0.24904313683509827,
          0.30000001192092896,
          0.3564164936542511,
          0.4000000059604645,
          0.45611459016799927,
          0.5,
          0.5553032755851746,
          0.6000000238418579,
          0.6542993783950806,
          0.699999988079071,
          0.7523772120475769,
          0.800000011920929,
          0.8482367992401123,
          0.8999999761581421,
          0.9125904440879822,
          1,
          1.0649278163909912,
          1.100000023841858,
          1.165650725364685,
          1.2000000476837158,
          1.2661387920379639,
          1.2999999523162842,
          1.359552025794983,
          1.399999976158142,
          1.4549082517623901,
          1.5,
          1.5533983707427979,
          1.600000023841858,
          1.6468943357467651,
          1.7000000476837158,
          1.7569595575332642,
          1.7999999523162842,
          1.857234239578247,
          1.899999976158142,
          1.9164516925811768,
          2,
          2.0651912689208984,
          2.0999999046325684,
          2.173353910446167,
          2.200000047683716,
          2.2785372734069824,
          2.299999952316284,
          2.37990403175354,
          2.4000000953674316,
          2.475633144378662,
          2.5,
          2.570981740951538,
          2.5999999046325684,
          2.6539340019226074,
          2.700000047683716,
          2.7649052143096924,
          2.799999952316284,
          2.86552357673645,
          2.9000000953674316,
          2.968994379043579,
          3,
          3.072186231613159,
          3.0999999046325684,
          3.171384334564209,
          3.200000047683716,
          3.268772602081299,
          3.299999952316284,
          3.365915298461914,
          3.4000000953674316,
          3.4633853435516357,
          3.5,
          3.5617101192474365,
          3.5999999046325684,
          3.661806583404541,
          3.700000047683716,
          3.7660505771636963,
          3.799999952316284,
          3.885263442993164,
          3.9000000953674316,
          3.9750657081604004,
          4,
          4.067521572113037,
          4.099999904632568,
          4.163039207458496,
          4.199999809265137,
          4.257808685302734,
          4.300000190734863,
          4.3567118644714355,
          4.400000095367432,
          4.458213806152344,
          4.5,
          4.552604675292969,
          4.599999904632568,
          4.662094593048096,
          4.699999809265137,
          4.765026569366455,
          4.800000190734863,
          4.8600921630859375,
          4.900000095367432
         ],
         "y": [
          3.34159255027771,
          3.34159255027771,
          3.34158992767334,
          3.341313362121582,
          3.3241419792175293,
          3.308804988861084,
          3.277625799179077,
          3.247019052505493,
          3.211406707763672,
          3.168541193008423,
          3.134183645248413,
          3.0893502235412598,
          3.0550360679626465,
          3.013671875,
          2.9828617572784424,
          2.949389934539795,
          2.9254825115203857,
          2.9034626483917236,
          2.88904070854187,
          2.8800835609436035,
          2.8768327236175537,
          2.8770744800567627,
          2.886847972869873,
          2.902111768722534,
          2.9122445583343506,
          2.932626962661743,
          2.9434287548065186,
          2.9630236625671387,
          2.9722557067871094,
          2.9868099689483643,
          2.9956138134002686,
          3.0063092708587646,
          3.0142359733581543,
          3.0228121280670166,
          3.0296707153320312,
          3.035997152328491,
          3.042304754257202,
          3.047849178314209,
          3.0509848594665527,
          3.0533807277679443,
          3.0536599159240723,
          3.0534093379974365,
          3.048450231552124,
          3.0395994186401367,
          3.0326619148254395,
          3.013399600982666,
          3.004943609237671,
          2.975830554962158,
          2.966824531555176,
          2.9293558597564697,
          2.91892409324646,
          2.8756654262542725,
          2.8602511882781982,
          2.810539484024048,
          2.7878763675689697,
          2.7471604347229004,
          2.717360258102417,
          2.6804888248443604,
          2.6622791290283203,
          2.6301331520080566,
          2.6139185428619385,
          2.5816147327423096,
          2.566924571990967,
          2.5306615829467773,
          2.515688180923462,
          2.472928762435913,
          2.4537925720214844,
          2.40144419670105,
          2.374419927597046,
          2.309192419052124,
          2.2707560062408447,
          2.1894404888153076,
          2.1362240314483643,
          2.0351104736328125,
          1.9647201299667358,
          1.8379696607589722,
          1.7511805295944214,
          1.5856294631958008,
          1.492832899093628,
          1.2382655143737793,
          1.1912922859191895,
          0.9414070248603821,
          0.8549332618713379,
          0.6159852147102356,
          0.49962732195854187,
          0.2749243974685669,
          0.14508023858070374,
          -0.05307506024837494,
          -0.19337865710258484,
          -0.3759874105453491,
          -0.5111061334609985,
          -0.6874814033508301,
          -0.8105689883232117,
          -0.9610512256622314,
          -1.0918508768081665,
          -1.2549060583114624,
          -1.3491454124450684,
          -1.4996312856674194,
          -1.5743650197982788,
          -1.6914676427841187,
          -1.7612543106079102
         ]
        },
        {
         "type": "scatter",
         "x": [
          0,
          0.00011152202932862565,
          0.001226742286235094,
          0.012378945015370846,
          0.10000000149011612,
          0.13907159864902496,
          0.20000000298023224,
          0.24904313683509827,
          0.30000001192092896,
          0.3564164936542511,
          0.4000000059604645,
          0.45611459016799927,
          0.5,
          0.5553032755851746,
          0.6000000238418579,
          0.6542993783950806,
          0.699999988079071,
          0.7523772120475769,
          0.800000011920929,
          0.8482367992401123,
          0.8999999761581421,
          0.9125904440879822,
          1,
          1.0649278163909912,
          1.100000023841858,
          1.165650725364685,
          1.2000000476837158,
          1.2661387920379639,
          1.2999999523162842,
          1.359552025794983,
          1.399999976158142,
          1.4549082517623901,
          1.5,
          1.5533983707427979,
          1.600000023841858,
          1.6468943357467651,
          1.7000000476837158,
          1.7569595575332642,
          1.7999999523162842,
          1.857234239578247,
          1.899999976158142,
          1.9164516925811768,
          2,
          2.0651912689208984,
          2.0999999046325684,
          2.173353910446167,
          2.200000047683716,
          2.2785372734069824,
          2.299999952316284,
          2.37990403175354,
          2.4000000953674316,
          2.475633144378662,
          2.5,
          2.570981740951538,
          2.5999999046325684,
          2.6539340019226074,
          2.700000047683716,
          2.7649052143096924,
          2.799999952316284,
          2.86552357673645,
          2.9000000953674316,
          2.968994379043579,
          3,
          3.072186231613159,
          3.0999999046325684,
          3.171384334564209,
          3.200000047683716,
          3.268772602081299,
          3.299999952316284,
          3.365915298461914,
          3.4000000953674316,
          3.4633853435516357,
          3.5,
          3.5617101192474365,
          3.5999999046325684,
          3.661806583404541,
          3.700000047683716,
          3.7660505771636963,
          3.799999952316284,
          3.885263442993164,
          3.9000000953674316,
          3.9750657081604004,
          4,
          4.067521572113037,
          4.099999904632568,
          4.163039207458496,
          4.199999809265137,
          4.257808685302734,
          4.300000190734863,
          4.3567118644714355,
          4.400000095367432,
          4.458213806152344,
          4.5,
          4.552604675292969,
          4.599999904632568,
          4.662094593048096,
          4.699999809265137,
          4.765026569366455,
          4.800000190734863,
          4.8600921630859375,
          4.900000095367432
         ],
         "y": [
          -0.10000000149011612,
          -0.09999992698431015,
          -0.09999091923236847,
          -0.09908057004213333,
          -0.042095258831977844,
          0.009354770183563232,
          0.11569613963365555,
          0.22198183834552765,
          0.3484223484992981,
          0.5049823522567749,
          0.6350536942481995,
          0.8124668002128601,
          0.9565391540527344,
          1.1434729099273682,
          1.2970093488693237,
          1.4856880903244019,
          1.6449148654937744,
          1.8273435831069946,
          1.992074728012085,
          2.157305955886841,
          2.3319904804229736,
          2.3737149238586426,
          2.660592794418335,
          2.8644917011260986,
          2.9696426391601562,
          3.1556060314178467,
          3.245795965194702,
          3.404346227645874,
          3.476548910140991,
          3.588076114654541,
          3.6515657901763916,
          3.721463203430176,
          3.7644357681274414,
          3.7985498905181885,
          3.8137121200561523,
          3.8156533241271973,
          3.802722454071045,
          3.7721140384674072,
          3.738447904586792,
          3.6812093257904053,
          3.6300790309906006,
          3.6086177825927734,
          3.4877169132232666,
          3.3846499919891357,
          3.3294477462768555,
          3.214475393295288,
          3.173644781112671,
          3.0582127571105957,
          3.028322458267212,
          2.9253242015838623,
          2.901813507080078,
          2.8236870765686035,
          2.8023934364318848,
          2.7526252269744873,
          2.7379841804504395,
          2.6991007328033447,
          2.6406893730163574,
          2.5318620204925537,
          2.464282751083374,
          2.329432249069214,
          2.255622625350952,
          2.107435941696167,
          2.0413055419921875,
          1.892581820487976,
          1.8373321294784546,
          1.7037694454193115,
          1.6533596515655518,
          1.5415583848953247,
          1.4947956800460815,
          1.4054789543151855,
          1.3638336658477783,
          1.2950599193572998,
          1.2599468231201172,
          1.2081204652786255,
          1.1800282001495361,
          1.140100359916687,
          1.118121862411499,
          1.0825064182281494,
          1.0646578073501587,
          1.0151150226593018,
          1.0055410861968994,
          0.9461972713470459,
          0.922427237033844,
          0.8427597880363464,
          0.7964788675308228,
          0.6894306540489197,
          0.6170994639396667,
          0.49119675159454346,
          0.3924490213394165,
          0.2554924190044403,
          0.15192565321922302,
          0.01944320648908615,
          -0.06778302788734436,
          -0.16625598073005676,
          -0.24331732094287872,
          -0.3283146023750305,
          -0.37186750769615173,
          -0.43519288301467896,
          -0.46395450830459595,
          -0.5078431367874146,
          -0.5336469411849976
         ]
        },
        {
         "type": "scatter",
         "x": [
          0,
          0.00011152202932862565,
          0.001226742286235094,
          0.012378945015370846,
          0.10000000149011612,
          0.13907159864902496,
          0.20000000298023224,
          0.24904313683509827,
          0.30000001192092896,
          0.3564164936542511,
          0.4000000059604645,
          0.45611459016799927,
          0.5,
          0.5553032755851746,
          0.6000000238418579,
          0.6542993783950806,
          0.699999988079071,
          0.7523772120475769,
          0.800000011920929,
          0.8482367992401123,
          0.8999999761581421,
          0.9125904440879822,
          1,
          1.0649278163909912,
          1.100000023841858,
          1.165650725364685,
          1.2000000476837158,
          1.2661387920379639,
          1.2999999523162842,
          1.359552025794983,
          1.399999976158142,
          1.4549082517623901,
          1.5,
          1.5533983707427979,
          1.600000023841858,
          1.6468943357467651,
          1.7000000476837158,
          1.7569595575332642,
          1.7999999523162842,
          1.857234239578247,
          1.899999976158142,
          1.9164516925811768,
          2,
          2.0651912689208984,
          2.0999999046325684,
          2.173353910446167,
          2.200000047683716,
          2.2785372734069824,
          2.299999952316284,
          2.37990403175354,
          2.4000000953674316,
          2.475633144378662,
          2.5,
          2.570981740951538,
          2.5999999046325684,
          2.6539340019226074,
          2.700000047683716,
          2.7649052143096924,
          2.799999952316284,
          2.86552357673645,
          2.9000000953674316,
          2.968994379043579,
          3,
          3.072186231613159,
          3.0999999046325684,
          3.171384334564209,
          3.200000047683716,
          3.268772602081299,
          3.299999952316284,
          3.365915298461914,
          3.4000000953674316,
          3.4633853435516357,
          3.5,
          3.5617101192474365,
          3.5999999046325684,
          3.661806583404541,
          3.700000047683716,
          3.7660505771636963,
          3.799999952316284,
          3.885263442993164,
          3.9000000953674316,
          3.9750657081604004,
          4,
          4.067521572113037,
          4.099999904632568,
          4.163039207458496,
          4.199999809265137,
          4.257808685302734,
          4.300000190734863,
          4.3567118644714355,
          4.400000095367432,
          4.458213806152344,
          4.5,
          4.552604675292969,
          4.599999904632568,
          4.662094593048096,
          4.699999809265137,
          4.765026569366455,
          4.800000190734863,
          4.8600921630859375,
          4.900000095367432
         ],
         "y": [
          0,
          -0.0004092815506737679,
          -0.00449761375784874,
          -0.04494660347700119,
          -0.34177854657173157,
          -0.44162309169769287,
          -0.5779944658279419,
          -0.6656008362770081,
          -0.7269968390464783,
          -0.783135175704956,
          -0.7880083322525024,
          -0.7981123924255371,
          -0.7593181133270264,
          -0.7244694232940674,
          -0.6476360559463501,
          -0.5740922689437866,
          -0.4660470485687256,
          -0.3657808303833008,
          -0.23465833067893982,
          -0.13108494877815247,
          0.009077341295778751,
          0.02959059365093708,
          0.1989043653011322,
          0.27073097229003906,
          0.3066670596599579,
          0.31319230794906616,
          0.31603196263313293,
          0.2787773013114929,
          0.26783260703086853,
          0.22515089809894562,
          0.21270911395549774,
          0.18090812861919403,
          0.1735655963420868,
          0.15078584849834442,
          0.14576356112957,
          0.12567050755023956,
          0.11359628289937973,
          0.08246614038944244,
          0.06385985761880875,
          0.020900508388876915,
          -0.007297626230865717,
          -0.023078279569745064,
          -0.0925215408205986,
          -0.17784106731414795,
          -0.22041729092597961,
          -0.3032640218734741,
          -0.3312563896179199,
          -0.4092569649219513,
          -0.4299677312374115,
          -0.5086873173713684,
          -0.5296397805213928,
          -0.6168339252471924,
          -0.6487078666687012,
          -0.755849301815033,
          -0.8069162368774414,
          -0.6999785304069519,
          -0.5902121663093567,
          -0.5398497581481934,
          -0.49563664197921753,
          -0.48027604818344116,
          -0.45865800976753235,
          -0.47393596172332764,
          -0.47272032499313354,
          -0.5294996500015259,
          -0.546656608581543,
          -0.6497007012367249,
          -0.6872783303260803,
          -0.8337596654891968,
          -0.896507740020752,
          -1.0814971923828125,
          -1.1732062101364136,
          -1.3917731046676636,
          -1.514394760131836,
          -1.7624092102050781,
          -1.9136736392974854,
          -2.188107490539551,
          -2.3560080528259277,
          -2.6569576263427734,
          -2.8091094493865967,
          -3.1587982177734375,
          -3.216054916381836,
          -3.4356768131256104,
          -3.499627113342285,
          -3.5711281299591064,
          -3.5931901931762695,
          -3.5322084426879883,
          -3.4949309825897217,
          -3.3638269901275635,
          -3.292086362838745,
          -3.156433343887329,
          -3.0925004482269287,
          -2.9754638671875,
          -2.918957471847534,
          -2.8055503368377686,
          -2.7149596214294434,
          -2.538477897644043,
          -2.434133291244507,
          -2.1972670555114746,
          -2.0773985385894775,
          -1.8250749111175537,
          -1.6746721267700195
         ]
        },
        {
         "type": "scatter",
         "x": [
          0,
          0.00011152202932862565,
          0.001226742286235094,
          0.012378945015370846,
          0.10000000149011612,
          0.13907159864902496,
          0.20000000298023224,
          0.24904313683509827,
          0.30000001192092896,
          0.3564164936542511,
          0.4000000059604645,
          0.45611459016799927,
          0.5,
          0.5553032755851746,
          0.6000000238418579,
          0.6542993783950806,
          0.699999988079071,
          0.7523772120475769,
          0.800000011920929,
          0.8482367992401123,
          0.8999999761581421,
          0.9125904440879822,
          1,
          1.0649278163909912,
          1.100000023841858,
          1.165650725364685,
          1.2000000476837158,
          1.2661387920379639,
          1.2999999523162842,
          1.359552025794983,
          1.399999976158142,
          1.4549082517623901,
          1.5,
          1.5533983707427979,
          1.600000023841858,
          1.6468943357467651,
          1.7000000476837158,
          1.7569595575332642,
          1.7999999523162842,
          1.857234239578247,
          1.899999976158142,
          1.9164516925811768,
          2,
          2.0651912689208984,
          2.0999999046325684,
          2.173353910446167,
          2.200000047683716,
          2.2785372734069824,
          2.299999952316284,
          2.37990403175354,
          2.4000000953674316,
          2.475633144378662,
          2.5,
          2.570981740951538,
          2.5999999046325684,
          2.6539340019226074,
          2.700000047683716,
          2.7649052143096924,
          2.799999952316284,
          2.86552357673645,
          2.9000000953674316,
          2.968994379043579,
          3,
          3.072186231613159,
          3.0999999046325684,
          3.171384334564209,
          3.200000047683716,
          3.268772602081299,
          3.299999952316284,
          3.365915298461914,
          3.4000000953674316,
          3.4633853435516357,
          3.5,
          3.5617101192474365,
          3.5999999046325684,
          3.661806583404541,
          3.700000047683716,
          3.7660505771636963,
          3.799999952316284,
          3.885263442993164,
          3.9000000953674316,
          3.9750657081604004,
          4,
          4.067521572113037,
          4.099999904632568,
          4.163039207458496,
          4.199999809265137,
          4.257808685302734,
          4.300000190734863,
          4.3567118644714355,
          4.400000095367432,
          4.458213806152344,
          4.5,
          4.552604675292969,
          4.599999904632568,
          4.662094593048096,
          4.699999809265137,
          4.765026569366455,
          4.800000190734863,
          4.8600921630859375,
          4.900000095367432
         ],
         "y": [
          0,
          0.0013460534391924739,
          0.014794639311730862,
          0.1481192409992218,
          1.1379576921463013,
          1.4910602569580078,
          1.9894310235977173,
          2.3333237171173096,
          2.6167755126953125,
          2.9104654788970947,
          3.0454323291778564,
          3.2500998973846436,
          3.3008339405059814,
          3.4314379692077637,
          3.423151731491089,
          3.5002405643463135,
          3.452083110809326,
          3.4904916286468506,
          3.4103713035583496,
          3.4210517406463623,
          3.3073179721832275,
          3.319246530532837,
          3.1810624599456787,
          3.0662026405334473,
          2.9201526641845703,
          2.7134759426116943,
          2.529024124145508,
          2.2367970943450928,
          2.0202250480651855,
          1.7056034803390503,
          1.4247186183929443,
          1.1079734563827515,
          0.7894768714904785,
          0.47910264134407043,
          0.165260449051857,
          -0.08720002323389053,
          -0.40504324436187744,
          -0.6739352345466614,
          -0.8923971652984619,
          -1.1103196144104004,
          -1.2819160223007202,
          -1.3272428512573242,
          -1.5699619054794312,
          -1.5869673490524292,
          -1.583242654800415,
          -1.5443168878555298,
          -1.5193859338760376,
          -1.411566138267517,
          -1.3731091022491455,
          -1.1960766315460205,
          -1.1432307958602905,
          -0.9150630831718445,
          -0.8319264650344849,
          -0.5640980005264282,
          -0.4440089762210846,
          -1.0074776411056519,
          -1.5361353158950806,
          -1.8306291103363037,
          -2.025023937225342,
          -2.1046812534332275,
          -2.181363821029663,
          -2.1299612522125244,
          -2.1393649578094482,
          -1.9994587898254395,
          -1.9764502048492432,
          -1.7847617864608765,
          -1.7419441938400269,
          -1.5283637046813965,
          -1.471031904220581,
          -1.257220983505249,
          -1.1918866634368896,
          -0.9948359727859497,
          -0.9294787049293518,
          -0.7646117210388184,
          -0.709257960319519,
          -0.5943343043327332,
          -0.5621519684791565,
          -0.5249214172363281,
          -0.5298295021057129,
          -0.6382027864456177,
          -0.6614446043968201,
          -0.9147534966468811,
          -0.9909864068031311,
          -1.3545130491256714,
          -1.4897860288619995,
          -1.8806812763214111,
          -2.019321918487549,
          -2.3016598224639893,
          -2.35488224029541,
          -2.43435001373291,
          -2.3261489868164062,
          -2.1895740032196045,
          -1.9705389738082886,
          -1.7556413412094116,
          -1.4869029521942139,
          -1.2383756637573242,
          -1.0567140579223633,
          -0.8805190324783325,
          -0.7616537809371948,
          -0.6876157522201538,
          -0.6004777550697327
         ]
        }
       ],
       "layout": {
        "template": {
         "data": {
          "bar": [
           {
            "error_x": {
             "color": "#2a3f5f"
            },
            "error_y": {
             "color": "#2a3f5f"
            },
            "marker": {
             "line": {
              "color": "#E5ECF6",
              "width": 0.5
             }
            },
            "type": "bar"
           }
          ],
          "barpolar": [
           {
            "marker": {
             "line": {
              "color": "#E5ECF6",
              "width": 0.5
             }
            },
            "type": "barpolar"
           }
          ],
          "carpet": [
           {
            "aaxis": {
             "endlinecolor": "#2a3f5f",
             "gridcolor": "white",
             "linecolor": "white",
             "minorgridcolor": "white",
             "startlinecolor": "#2a3f5f"
            },
            "baxis": {
             "endlinecolor": "#2a3f5f",
             "gridcolor": "white",
             "linecolor": "white",
             "minorgridcolor": "white",
             "startlinecolor": "#2a3f5f"
            },
            "type": "carpet"
           }
          ],
          "choropleth": [
           {
            "colorbar": {
             "outlinewidth": 0,
             "ticks": ""
            },
            "type": "choropleth"
           }
          ],
          "contour": [
           {
            "colorbar": {
             "outlinewidth": 0,
             "ticks": ""
            },
            "colorscale": [
             [
              0,
              "#0d0887"
             ],
             [
              0.1111111111111111,
              "#46039f"
             ],
             [
              0.2222222222222222,
              "#7201a8"
             ],
             [
              0.3333333333333333,
              "#9c179e"
             ],
             [
              0.4444444444444444,
              "#bd3786"
             ],
             [
              0.5555555555555556,
              "#d8576b"
             ],
             [
              0.6666666666666666,
              "#ed7953"
             ],
             [
              0.7777777777777778,
              "#fb9f3a"
             ],
             [
              0.8888888888888888,
              "#fdca26"
             ],
             [
              1,
              "#f0f921"
             ]
            ],
            "type": "contour"
           }
          ],
          "contourcarpet": [
           {
            "colorbar": {
             "outlinewidth": 0,
             "ticks": ""
            },
            "type": "contourcarpet"
           }
          ],
          "heatmap": [
           {
            "colorbar": {
             "outlinewidth": 0,
             "ticks": ""
            },
            "colorscale": [
             [
              0,
              "#0d0887"
             ],
             [
              0.1111111111111111,
              "#46039f"
             ],
             [
              0.2222222222222222,
              "#7201a8"
             ],
             [
              0.3333333333333333,
              "#9c179e"
             ],
             [
              0.4444444444444444,
              "#bd3786"
             ],
             [
              0.5555555555555556,
              "#d8576b"
             ],
             [
              0.6666666666666666,
              "#ed7953"
             ],
             [
              0.7777777777777778,
              "#fb9f3a"
             ],
             [
              0.8888888888888888,
              "#fdca26"
             ],
             [
              1,
              "#f0f921"
             ]
            ],
            "type": "heatmap"
           }
          ],
          "heatmapgl": [
           {
            "colorbar": {
             "outlinewidth": 0,
             "ticks": ""
            },
            "colorscale": [
             [
              0,
              "#0d0887"
             ],
             [
              0.1111111111111111,
              "#46039f"
             ],
             [
              0.2222222222222222,
              "#7201a8"
             ],
             [
              0.3333333333333333,
              "#9c179e"
             ],
             [
              0.4444444444444444,
              "#bd3786"
             ],
             [
              0.5555555555555556,
              "#d8576b"
             ],
             [
              0.6666666666666666,
              "#ed7953"
             ],
             [
              0.7777777777777778,
              "#fb9f3a"
             ],
             [
              0.8888888888888888,
              "#fdca26"
             ],
             [
              1,
              "#f0f921"
             ]
            ],
            "type": "heatmapgl"
           }
          ],
          "histogram": [
           {
            "marker": {
             "colorbar": {
              "outlinewidth": 0,
              "ticks": ""
             }
            },
            "type": "histogram"
           }
          ],
          "histogram2d": [
           {
            "colorbar": {
             "outlinewidth": 0,
             "ticks": ""
            },
            "colorscale": [
             [
              0,
              "#0d0887"
             ],
             [
              0.1111111111111111,
              "#46039f"
             ],
             [
              0.2222222222222222,
              "#7201a8"
             ],
             [
              0.3333333333333333,
              "#9c179e"
             ],
             [
              0.4444444444444444,
              "#bd3786"
             ],
             [
              0.5555555555555556,
              "#d8576b"
             ],
             [
              0.6666666666666666,
              "#ed7953"
             ],
             [
              0.7777777777777778,
              "#fb9f3a"
             ],
             [
              0.8888888888888888,
              "#fdca26"
             ],
             [
              1,
              "#f0f921"
             ]
            ],
            "type": "histogram2d"
           }
          ],
          "histogram2dcontour": [
           {
            "colorbar": {
             "outlinewidth": 0,
             "ticks": ""
            },
            "colorscale": [
             [
              0,
              "#0d0887"
             ],
             [
              0.1111111111111111,
              "#46039f"
             ],
             [
              0.2222222222222222,
              "#7201a8"
             ],
             [
              0.3333333333333333,
              "#9c179e"
             ],
             [
              0.4444444444444444,
              "#bd3786"
             ],
             [
              0.5555555555555556,
              "#d8576b"
             ],
             [
              0.6666666666666666,
              "#ed7953"
             ],
             [
              0.7777777777777778,
              "#fb9f3a"
             ],
             [
              0.8888888888888888,
              "#fdca26"
             ],
             [
              1,
              "#f0f921"
             ]
            ],
            "type": "histogram2dcontour"
           }
          ],
          "mesh3d": [
           {
            "colorbar": {
             "outlinewidth": 0,
             "ticks": ""
            },
            "type": "mesh3d"
           }
          ],
          "parcoords": [
           {
            "line": {
             "colorbar": {
              "outlinewidth": 0,
              "ticks": ""
             }
            },
            "type": "parcoords"
           }
          ],
          "pie": [
           {
            "automargin": true,
            "type": "pie"
           }
          ],
          "scatter": [
           {
            "marker": {
             "colorbar": {
              "outlinewidth": 0,
              "ticks": ""
             }
            },
            "type": "scatter"
           }
          ],
          "scatter3d": [
           {
            "line": {
             "colorbar": {
              "outlinewidth": 0,
              "ticks": ""
             }
            },
            "marker": {
             "colorbar": {
              "outlinewidth": 0,
              "ticks": ""
             }
            },
            "type": "scatter3d"
           }
          ],
          "scattercarpet": [
           {
            "marker": {
             "colorbar": {
              "outlinewidth": 0,
              "ticks": ""
             }
            },
            "type": "scattercarpet"
           }
          ],
          "scattergeo": [
           {
            "marker": {
             "colorbar": {
              "outlinewidth": 0,
              "ticks": ""
             }
            },
            "type": "scattergeo"
           }
          ],
          "scattergl": [
           {
            "marker": {
             "colorbar": {
              "outlinewidth": 0,
              "ticks": ""
             }
            },
            "type": "scattergl"
           }
          ],
          "scattermapbox": [
           {
            "marker": {
             "colorbar": {
              "outlinewidth": 0,
              "ticks": ""
             }
            },
            "type": "scattermapbox"
           }
          ],
          "scatterpolar": [
           {
            "marker": {
             "colorbar": {
              "outlinewidth": 0,
              "ticks": ""
             }
            },
            "type": "scatterpolar"
           }
          ],
          "scatterpolargl": [
           {
            "marker": {
             "colorbar": {
              "outlinewidth": 0,
              "ticks": ""
             }
            },
            "type": "scatterpolargl"
           }
          ],
          "scatterternary": [
           {
            "marker": {
             "colorbar": {
              "outlinewidth": 0,
              "ticks": ""
             }
            },
            "type": "scatterternary"
           }
          ],
          "surface": [
           {
            "colorbar": {
             "outlinewidth": 0,
             "ticks": ""
            },
            "colorscale": [
             [
              0,
              "#0d0887"
             ],
             [
              0.1111111111111111,
              "#46039f"
             ],
             [
              0.2222222222222222,
              "#7201a8"
             ],
             [
              0.3333333333333333,
              "#9c179e"
             ],
             [
              0.4444444444444444,
              "#bd3786"
             ],
             [
              0.5555555555555556,
              "#d8576b"
             ],
             [
              0.6666666666666666,
              "#ed7953"
             ],
             [
              0.7777777777777778,
              "#fb9f3a"
             ],
             [
              0.8888888888888888,
              "#fdca26"
             ],
             [
              1,
              "#f0f921"
             ]
            ],
            "type": "surface"
           }
          ],
          "table": [
           {
            "cells": {
             "fill": {
              "color": "#EBF0F8"
             },
             "line": {
              "color": "white"
             }
            },
            "header": {
             "fill": {
              "color": "#C8D4E3"
             },
             "line": {
              "color": "white"
             }
            },
            "type": "table"
           }
          ]
         },
         "layout": {
          "annotationdefaults": {
           "arrowcolor": "#2a3f5f",
           "arrowhead": 0,
           "arrowwidth": 1
          },
          "coloraxis": {
           "colorbar": {
            "outlinewidth": 0,
            "ticks": ""
           }
          },
          "colorscale": {
           "diverging": [
            [
             0,
             "#8e0152"
            ],
            [
             0.1,
             "#c51b7d"
            ],
            [
             0.2,
             "#de77ae"
            ],
            [
             0.3,
             "#f1b6da"
            ],
            [
             0.4,
             "#fde0ef"
            ],
            [
             0.5,
             "#f7f7f7"
            ],
            [
             0.6,
             "#e6f5d0"
            ],
            [
             0.7,
             "#b8e186"
            ],
            [
             0.8,
             "#7fbc41"
            ],
            [
             0.9,
             "#4d9221"
            ],
            [
             1,
             "#276419"
            ]
           ],
           "sequential": [
            [
             0,
             "#0d0887"
            ],
            [
             0.1111111111111111,
             "#46039f"
            ],
            [
             0.2222222222222222,
             "#7201a8"
            ],
            [
             0.3333333333333333,
             "#9c179e"
            ],
            [
             0.4444444444444444,
             "#bd3786"
            ],
            [
             0.5555555555555556,
             "#d8576b"
            ],
            [
             0.6666666666666666,
             "#ed7953"
            ],
            [
             0.7777777777777778,
             "#fb9f3a"
            ],
            [
             0.8888888888888888,
             "#fdca26"
            ],
            [
             1,
             "#f0f921"
            ]
           ],
           "sequentialminus": [
            [
             0,
             "#0d0887"
            ],
            [
             0.1111111111111111,
             "#46039f"
            ],
            [
             0.2222222222222222,
             "#7201a8"
            ],
            [
             0.3333333333333333,
             "#9c179e"
            ],
            [
             0.4444444444444444,
             "#bd3786"
            ],
            [
             0.5555555555555556,
             "#d8576b"
            ],
            [
             0.6666666666666666,
             "#ed7953"
            ],
            [
             0.7777777777777778,
             "#fb9f3a"
            ],
            [
             0.8888888888888888,
             "#fdca26"
            ],
            [
             1,
             "#f0f921"
            ]
           ]
          },
          "colorway": [
           "#636efa",
           "#EF553B",
           "#00cc96",
           "#ab63fa",
           "#FFA15A",
           "#19d3f3",
           "#FF6692",
           "#B6E880",
           "#FF97FF",
           "#FECB52"
          ],
          "font": {
           "color": "#2a3f5f"
          },
          "geo": {
           "bgcolor": "white",
           "lakecolor": "white",
           "landcolor": "#E5ECF6",
           "showlakes": true,
           "showland": true,
           "subunitcolor": "white"
          },
          "hoverlabel": {
           "align": "left"
          },
          "hovermode": "closest",
          "mapbox": {
           "style": "light"
          },
          "paper_bgcolor": "white",
          "plot_bgcolor": "#E5ECF6",
          "polar": {
           "angularaxis": {
            "gridcolor": "white",
            "linecolor": "white",
            "ticks": ""
           },
           "bgcolor": "#E5ECF6",
           "radialaxis": {
            "gridcolor": "white",
            "linecolor": "white",
            "ticks": ""
           }
          },
          "scene": {
           "xaxis": {
            "backgroundcolor": "#E5ECF6",
            "gridcolor": "white",
            "gridwidth": 2,
            "linecolor": "white",
            "showbackground": true,
            "ticks": "",
            "zerolinecolor": "white"
           },
           "yaxis": {
            "backgroundcolor": "#E5ECF6",
            "gridcolor": "white",
            "gridwidth": 2,
            "linecolor": "white",
            "showbackground": true,
            "ticks": "",
            "zerolinecolor": "white"
           },
           "zaxis": {
            "backgroundcolor": "#E5ECF6",
            "gridcolor": "white",
            "gridwidth": 2,
            "linecolor": "white",
            "showbackground": true,
            "ticks": "",
            "zerolinecolor": "white"
           }
          },
          "shapedefaults": {
           "line": {
            "color": "#2a3f5f"
           }
          },
          "ternary": {
           "aaxis": {
            "gridcolor": "white",
            "linecolor": "white",
            "ticks": ""
           },
           "baxis": {
            "gridcolor": "white",
            "linecolor": "white",
            "ticks": ""
           },
           "bgcolor": "#E5ECF6",
           "caxis": {
            "gridcolor": "white",
            "linecolor": "white",
            "ticks": ""
           }
          },
          "title": {
           "x": 0.05
          },
          "xaxis": {
           "automargin": true,
           "gridcolor": "white",
           "linecolor": "white",
           "ticks": "",
           "title": {
            "standoff": 15
           },
           "zerolinecolor": "white",
           "zerolinewidth": 2
          },
          "yaxis": {
           "automargin": true,
           "gridcolor": "white",
           "linecolor": "white",
           "ticks": "",
           "title": {
            "standoff": 15
           },
           "zerolinecolor": "white",
           "zerolinewidth": 2
          }
         }
        },
        "title": {
         "text": "Baseline"
        }
       }
      },
      "text/html": [
       "<div>\n",
       "        \n",
       "        \n",
       "            <div id=\"2b6869d3-90a8-4184-a97b-30aabdeff47f\" class=\"plotly-graph-div\" style=\"height:525px; width:100%;\"></div>\n",
       "            <script type=\"text/javascript\">\n",
       "                require([\"plotly\"], function(Plotly) {\n",
       "                    window.PLOTLYENV=window.PLOTLYENV || {};\n",
       "                    \n",
       "                if (document.getElementById(\"2b6869d3-90a8-4184-a97b-30aabdeff47f\")) {\n",
       "                    Plotly.newPlot(\n",
       "                        '2b6869d3-90a8-4184-a97b-30aabdeff47f',\n",
       "                        [{\"type\": \"scatter\", \"x\": [0.0, 0.00011152202932862565, 0.001226742286235094, 0.012378945015370846, 0.10000000149011612, 0.13907159864902496, 0.20000000298023224, 0.24904313683509827, 0.30000001192092896, 0.3564164936542511, 0.4000000059604645, 0.45611459016799927, 0.5, 0.5553032755851746, 0.6000000238418579, 0.6542993783950806, 0.699999988079071, 0.7523772120475769, 0.800000011920929, 0.8482367992401123, 0.8999999761581421, 0.9125904440879822, 1.0, 1.0649278163909912, 1.100000023841858, 1.165650725364685, 1.2000000476837158, 1.2661387920379639, 1.2999999523162842, 1.359552025794983, 1.399999976158142, 1.4549082517623901, 1.5, 1.5533983707427979, 1.600000023841858, 1.6468943357467651, 1.7000000476837158, 1.7569595575332642, 1.7999999523162842, 1.857234239578247, 1.899999976158142, 1.9164516925811768, 2.0, 2.0651912689208984, 2.0999999046325684, 2.173353910446167, 2.200000047683716, 2.2785372734069824, 2.299999952316284, 2.37990403175354, 2.4000000953674316, 2.475633144378662, 2.5, 2.570981740951538, 2.5999999046325684, 2.6539340019226074, 2.700000047683716, 2.7649052143096924, 2.799999952316284, 2.86552357673645, 2.9000000953674316, 2.968994379043579, 3.0, 3.072186231613159, 3.0999999046325684, 3.171384334564209, 3.200000047683716, 3.268772602081299, 3.299999952316284, 3.365915298461914, 3.4000000953674316, 3.4633853435516357, 3.5, 3.5617101192474365, 3.5999999046325684, 3.661806583404541, 3.700000047683716, 3.7660505771636963, 3.799999952316284, 3.885263442993164, 3.9000000953674316, 3.9750657081604004, 4.0, 4.067521572113037, 4.099999904632568, 4.163039207458496, 4.199999809265137, 4.257808685302734, 4.300000190734863, 4.3567118644714355, 4.400000095367432, 4.458213806152344, 4.5, 4.552604675292969, 4.599999904632568, 4.662094593048096, 4.699999809265137, 4.765026569366455, 4.800000190734863, 4.8600921630859375, 4.900000095367432], \"y\": [3.34159255027771, 3.34159255027771, 3.34158992767334, 3.341313362121582, 3.3241419792175293, 3.308804988861084, 3.277625799179077, 3.247019052505493, 3.211406707763672, 3.168541193008423, 3.134183645248413, 3.0893502235412598, 3.0550360679626465, 3.013671875, 2.9828617572784424, 2.949389934539795, 2.9254825115203857, 2.9034626483917236, 2.88904070854187, 2.8800835609436035, 2.8768327236175537, 2.8770744800567627, 2.886847972869873, 2.902111768722534, 2.9122445583343506, 2.932626962661743, 2.9434287548065186, 2.9630236625671387, 2.9722557067871094, 2.9868099689483643, 2.9956138134002686, 3.0063092708587646, 3.0142359733581543, 3.0228121280670166, 3.0296707153320312, 3.035997152328491, 3.042304754257202, 3.047849178314209, 3.0509848594665527, 3.0533807277679443, 3.0536599159240723, 3.0534093379974365, 3.048450231552124, 3.0395994186401367, 3.0326619148254395, 3.013399600982666, 3.004943609237671, 2.975830554962158, 2.966824531555176, 2.9293558597564697, 2.91892409324646, 2.8756654262542725, 2.8602511882781982, 2.810539484024048, 2.7878763675689697, 2.7471604347229004, 2.717360258102417, 2.6804888248443604, 2.6622791290283203, 2.6301331520080566, 2.6139185428619385, 2.5816147327423096, 2.566924571990967, 2.5306615829467773, 2.515688180923462, 2.472928762435913, 2.4537925720214844, 2.40144419670105, 2.374419927597046, 2.309192419052124, 2.2707560062408447, 2.1894404888153076, 2.1362240314483643, 2.0351104736328125, 1.9647201299667358, 1.8379696607589722, 1.7511805295944214, 1.5856294631958008, 1.492832899093628, 1.2382655143737793, 1.1912922859191895, 0.9414070248603821, 0.8549332618713379, 0.6159852147102356, 0.49962732195854187, 0.2749243974685669, 0.14508023858070374, -0.05307506024837494, -0.19337865710258484, -0.3759874105453491, -0.5111061334609985, -0.6874814033508301, -0.8105689883232117, -0.9610512256622314, -1.0918508768081665, -1.2549060583114624, -1.3491454124450684, -1.4996312856674194, -1.5743650197982788, -1.6914676427841187, -1.7612543106079102]}, {\"type\": \"scatter\", \"x\": [0.0, 0.00011152202932862565, 0.001226742286235094, 0.012378945015370846, 0.10000000149011612, 0.13907159864902496, 0.20000000298023224, 0.24904313683509827, 0.30000001192092896, 0.3564164936542511, 0.4000000059604645, 0.45611459016799927, 0.5, 0.5553032755851746, 0.6000000238418579, 0.6542993783950806, 0.699999988079071, 0.7523772120475769, 0.800000011920929, 0.8482367992401123, 0.8999999761581421, 0.9125904440879822, 1.0, 1.0649278163909912, 1.100000023841858, 1.165650725364685, 1.2000000476837158, 1.2661387920379639, 1.2999999523162842, 1.359552025794983, 1.399999976158142, 1.4549082517623901, 1.5, 1.5533983707427979, 1.600000023841858, 1.6468943357467651, 1.7000000476837158, 1.7569595575332642, 1.7999999523162842, 1.857234239578247, 1.899999976158142, 1.9164516925811768, 2.0, 2.0651912689208984, 2.0999999046325684, 2.173353910446167, 2.200000047683716, 2.2785372734069824, 2.299999952316284, 2.37990403175354, 2.4000000953674316, 2.475633144378662, 2.5, 2.570981740951538, 2.5999999046325684, 2.6539340019226074, 2.700000047683716, 2.7649052143096924, 2.799999952316284, 2.86552357673645, 2.9000000953674316, 2.968994379043579, 3.0, 3.072186231613159, 3.0999999046325684, 3.171384334564209, 3.200000047683716, 3.268772602081299, 3.299999952316284, 3.365915298461914, 3.4000000953674316, 3.4633853435516357, 3.5, 3.5617101192474365, 3.5999999046325684, 3.661806583404541, 3.700000047683716, 3.7660505771636963, 3.799999952316284, 3.885263442993164, 3.9000000953674316, 3.9750657081604004, 4.0, 4.067521572113037, 4.099999904632568, 4.163039207458496, 4.199999809265137, 4.257808685302734, 4.300000190734863, 4.3567118644714355, 4.400000095367432, 4.458213806152344, 4.5, 4.552604675292969, 4.599999904632568, 4.662094593048096, 4.699999809265137, 4.765026569366455, 4.800000190734863, 4.8600921630859375, 4.900000095367432], \"y\": [-0.10000000149011612, -0.09999992698431015, -0.09999091923236847, -0.09908057004213333, -0.042095258831977844, 0.009354770183563232, 0.11569613963365555, 0.22198183834552765, 0.3484223484992981, 0.5049823522567749, 0.6350536942481995, 0.8124668002128601, 0.9565391540527344, 1.1434729099273682, 1.2970093488693237, 1.4856880903244019, 1.6449148654937744, 1.8273435831069946, 1.992074728012085, 2.157305955886841, 2.3319904804229736, 2.3737149238586426, 2.660592794418335, 2.8644917011260986, 2.9696426391601562, 3.1556060314178467, 3.245795965194702, 3.404346227645874, 3.476548910140991, 3.588076114654541, 3.6515657901763916, 3.721463203430176, 3.7644357681274414, 3.7985498905181885, 3.8137121200561523, 3.8156533241271973, 3.802722454071045, 3.7721140384674072, 3.738447904586792, 3.6812093257904053, 3.6300790309906006, 3.6086177825927734, 3.4877169132232666, 3.3846499919891357, 3.3294477462768555, 3.214475393295288, 3.173644781112671, 3.0582127571105957, 3.028322458267212, 2.9253242015838623, 2.901813507080078, 2.8236870765686035, 2.8023934364318848, 2.7526252269744873, 2.7379841804504395, 2.6991007328033447, 2.6406893730163574, 2.5318620204925537, 2.464282751083374, 2.329432249069214, 2.255622625350952, 2.107435941696167, 2.0413055419921875, 1.892581820487976, 1.8373321294784546, 1.7037694454193115, 1.6533596515655518, 1.5415583848953247, 1.4947956800460815, 1.4054789543151855, 1.3638336658477783, 1.2950599193572998, 1.2599468231201172, 1.2081204652786255, 1.1800282001495361, 1.140100359916687, 1.118121862411499, 1.0825064182281494, 1.0646578073501587, 1.0151150226593018, 1.0055410861968994, 0.9461972713470459, 0.922427237033844, 0.8427597880363464, 0.7964788675308228, 0.6894306540489197, 0.6170994639396667, 0.49119675159454346, 0.3924490213394165, 0.2554924190044403, 0.15192565321922302, 0.01944320648908615, -0.06778302788734436, -0.16625598073005676, -0.24331732094287872, -0.3283146023750305, -0.37186750769615173, -0.43519288301467896, -0.46395450830459595, -0.5078431367874146, -0.5336469411849976]}, {\"type\": \"scatter\", \"x\": [0.0, 0.00011152202932862565, 0.001226742286235094, 0.012378945015370846, 0.10000000149011612, 0.13907159864902496, 0.20000000298023224, 0.24904313683509827, 0.30000001192092896, 0.3564164936542511, 0.4000000059604645, 0.45611459016799927, 0.5, 0.5553032755851746, 0.6000000238418579, 0.6542993783950806, 0.699999988079071, 0.7523772120475769, 0.800000011920929, 0.8482367992401123, 0.8999999761581421, 0.9125904440879822, 1.0, 1.0649278163909912, 1.100000023841858, 1.165650725364685, 1.2000000476837158, 1.2661387920379639, 1.2999999523162842, 1.359552025794983, 1.399999976158142, 1.4549082517623901, 1.5, 1.5533983707427979, 1.600000023841858, 1.6468943357467651, 1.7000000476837158, 1.7569595575332642, 1.7999999523162842, 1.857234239578247, 1.899999976158142, 1.9164516925811768, 2.0, 2.0651912689208984, 2.0999999046325684, 2.173353910446167, 2.200000047683716, 2.2785372734069824, 2.299999952316284, 2.37990403175354, 2.4000000953674316, 2.475633144378662, 2.5, 2.570981740951538, 2.5999999046325684, 2.6539340019226074, 2.700000047683716, 2.7649052143096924, 2.799999952316284, 2.86552357673645, 2.9000000953674316, 2.968994379043579, 3.0, 3.072186231613159, 3.0999999046325684, 3.171384334564209, 3.200000047683716, 3.268772602081299, 3.299999952316284, 3.365915298461914, 3.4000000953674316, 3.4633853435516357, 3.5, 3.5617101192474365, 3.5999999046325684, 3.661806583404541, 3.700000047683716, 3.7660505771636963, 3.799999952316284, 3.885263442993164, 3.9000000953674316, 3.9750657081604004, 4.0, 4.067521572113037, 4.099999904632568, 4.163039207458496, 4.199999809265137, 4.257808685302734, 4.300000190734863, 4.3567118644714355, 4.400000095367432, 4.458213806152344, 4.5, 4.552604675292969, 4.599999904632568, 4.662094593048096, 4.699999809265137, 4.765026569366455, 4.800000190734863, 4.8600921630859375, 4.900000095367432], \"y\": [0.0, -0.0004092815506737679, -0.00449761375784874, -0.04494660347700119, -0.34177854657173157, -0.44162309169769287, -0.5779944658279419, -0.6656008362770081, -0.7269968390464783, -0.783135175704956, -0.7880083322525024, -0.7981123924255371, -0.7593181133270264, -0.7244694232940674, -0.6476360559463501, -0.5740922689437866, -0.4660470485687256, -0.3657808303833008, -0.23465833067893982, -0.13108494877815247, 0.009077341295778751, 0.02959059365093708, 0.1989043653011322, 0.27073097229003906, 0.3066670596599579, 0.31319230794906616, 0.31603196263313293, 0.2787773013114929, 0.26783260703086853, 0.22515089809894562, 0.21270911395549774, 0.18090812861919403, 0.1735655963420868, 0.15078584849834442, 0.14576356112957, 0.12567050755023956, 0.11359628289937973, 0.08246614038944244, 0.06385985761880875, 0.020900508388876915, -0.007297626230865717, -0.023078279569745064, -0.0925215408205986, -0.17784106731414795, -0.22041729092597961, -0.3032640218734741, -0.3312563896179199, -0.4092569649219513, -0.4299677312374115, -0.5086873173713684, -0.5296397805213928, -0.6168339252471924, -0.6487078666687012, -0.755849301815033, -0.8069162368774414, -0.6999785304069519, -0.5902121663093567, -0.5398497581481934, -0.49563664197921753, -0.48027604818344116, -0.45865800976753235, -0.47393596172332764, -0.47272032499313354, -0.5294996500015259, -0.546656608581543, -0.6497007012367249, -0.6872783303260803, -0.8337596654891968, -0.896507740020752, -1.0814971923828125, -1.1732062101364136, -1.3917731046676636, -1.514394760131836, -1.7624092102050781, -1.9136736392974854, -2.188107490539551, -2.3560080528259277, -2.6569576263427734, -2.8091094493865967, -3.1587982177734375, -3.216054916381836, -3.4356768131256104, -3.499627113342285, -3.5711281299591064, -3.5931901931762695, -3.5322084426879883, -3.4949309825897217, -3.3638269901275635, -3.292086362838745, -3.156433343887329, -3.0925004482269287, -2.9754638671875, -2.918957471847534, -2.8055503368377686, -2.7149596214294434, -2.538477897644043, -2.434133291244507, -2.1972670555114746, -2.0773985385894775, -1.8250749111175537, -1.6746721267700195]}, {\"type\": \"scatter\", \"x\": [0.0, 0.00011152202932862565, 0.001226742286235094, 0.012378945015370846, 0.10000000149011612, 0.13907159864902496, 0.20000000298023224, 0.24904313683509827, 0.30000001192092896, 0.3564164936542511, 0.4000000059604645, 0.45611459016799927, 0.5, 0.5553032755851746, 0.6000000238418579, 0.6542993783950806, 0.699999988079071, 0.7523772120475769, 0.800000011920929, 0.8482367992401123, 0.8999999761581421, 0.9125904440879822, 1.0, 1.0649278163909912, 1.100000023841858, 1.165650725364685, 1.2000000476837158, 1.2661387920379639, 1.2999999523162842, 1.359552025794983, 1.399999976158142, 1.4549082517623901, 1.5, 1.5533983707427979, 1.600000023841858, 1.6468943357467651, 1.7000000476837158, 1.7569595575332642, 1.7999999523162842, 1.857234239578247, 1.899999976158142, 1.9164516925811768, 2.0, 2.0651912689208984, 2.0999999046325684, 2.173353910446167, 2.200000047683716, 2.2785372734069824, 2.299999952316284, 2.37990403175354, 2.4000000953674316, 2.475633144378662, 2.5, 2.570981740951538, 2.5999999046325684, 2.6539340019226074, 2.700000047683716, 2.7649052143096924, 2.799999952316284, 2.86552357673645, 2.9000000953674316, 2.968994379043579, 3.0, 3.072186231613159, 3.0999999046325684, 3.171384334564209, 3.200000047683716, 3.268772602081299, 3.299999952316284, 3.365915298461914, 3.4000000953674316, 3.4633853435516357, 3.5, 3.5617101192474365, 3.5999999046325684, 3.661806583404541, 3.700000047683716, 3.7660505771636963, 3.799999952316284, 3.885263442993164, 3.9000000953674316, 3.9750657081604004, 4.0, 4.067521572113037, 4.099999904632568, 4.163039207458496, 4.199999809265137, 4.257808685302734, 4.300000190734863, 4.3567118644714355, 4.400000095367432, 4.458213806152344, 4.5, 4.552604675292969, 4.599999904632568, 4.662094593048096, 4.699999809265137, 4.765026569366455, 4.800000190734863, 4.8600921630859375, 4.900000095367432], \"y\": [0.0, 0.0013460534391924739, 0.014794639311730862, 0.1481192409992218, 1.1379576921463013, 1.4910602569580078, 1.9894310235977173, 2.3333237171173096, 2.6167755126953125, 2.9104654788970947, 3.0454323291778564, 3.2500998973846436, 3.3008339405059814, 3.4314379692077637, 3.423151731491089, 3.5002405643463135, 3.452083110809326, 3.4904916286468506, 3.4103713035583496, 3.4210517406463623, 3.3073179721832275, 3.319246530532837, 3.1810624599456787, 3.0662026405334473, 2.9201526641845703, 2.7134759426116943, 2.529024124145508, 2.2367970943450928, 2.0202250480651855, 1.7056034803390503, 1.4247186183929443, 1.1079734563827515, 0.7894768714904785, 0.47910264134407043, 0.165260449051857, -0.08720002323389053, -0.40504324436187744, -0.6739352345466614, -0.8923971652984619, -1.1103196144104004, -1.2819160223007202, -1.3272428512573242, -1.5699619054794312, -1.5869673490524292, -1.583242654800415, -1.5443168878555298, -1.5193859338760376, -1.411566138267517, -1.3731091022491455, -1.1960766315460205, -1.1432307958602905, -0.9150630831718445, -0.8319264650344849, -0.5640980005264282, -0.4440089762210846, -1.0074776411056519, -1.5361353158950806, -1.8306291103363037, -2.025023937225342, -2.1046812534332275, -2.181363821029663, -2.1299612522125244, -2.1393649578094482, -1.9994587898254395, -1.9764502048492432, -1.7847617864608765, -1.7419441938400269, -1.5283637046813965, -1.471031904220581, -1.257220983505249, -1.1918866634368896, -0.9948359727859497, -0.9294787049293518, -0.7646117210388184, -0.709257960319519, -0.5943343043327332, -0.5621519684791565, -0.5249214172363281, -0.5298295021057129, -0.6382027864456177, -0.6614446043968201, -0.9147534966468811, -0.9909864068031311, -1.3545130491256714, -1.4897860288619995, -1.8806812763214111, -2.019321918487549, -2.3016598224639893, -2.35488224029541, -2.43435001373291, -2.3261489868164062, -2.1895740032196045, -1.9705389738082886, -1.7556413412094116, -1.4869029521942139, -1.2383756637573242, -1.0567140579223633, -0.8805190324783325, -0.7616537809371948, -0.6876157522201538, -0.6004777550697327]}],\n",
       "                        {\"template\": {\"data\": {\"bar\": [{\"error_x\": {\"color\": \"#2a3f5f\"}, \"error_y\": {\"color\": \"#2a3f5f\"}, \"marker\": {\"line\": {\"color\": \"#E5ECF6\", \"width\": 0.5}}, \"type\": \"bar\"}], \"barpolar\": [{\"marker\": {\"line\": {\"color\": \"#E5ECF6\", \"width\": 0.5}}, \"type\": \"barpolar\"}], \"carpet\": [{\"aaxis\": {\"endlinecolor\": \"#2a3f5f\", \"gridcolor\": \"white\", \"linecolor\": \"white\", \"minorgridcolor\": \"white\", \"startlinecolor\": \"#2a3f5f\"}, \"baxis\": {\"endlinecolor\": \"#2a3f5f\", \"gridcolor\": \"white\", \"linecolor\": \"white\", \"minorgridcolor\": \"white\", \"startlinecolor\": \"#2a3f5f\"}, \"type\": \"carpet\"}], \"choropleth\": [{\"colorbar\": {\"outlinewidth\": 0, \"ticks\": \"\"}, \"type\": \"choropleth\"}], \"contour\": [{\"colorbar\": {\"outlinewidth\": 0, \"ticks\": \"\"}, \"colorscale\": [[0.0, \"#0d0887\"], [0.1111111111111111, \"#46039f\"], [0.2222222222222222, \"#7201a8\"], [0.3333333333333333, \"#9c179e\"], [0.4444444444444444, \"#bd3786\"], [0.5555555555555556, \"#d8576b\"], [0.6666666666666666, \"#ed7953\"], [0.7777777777777778, \"#fb9f3a\"], [0.8888888888888888, \"#fdca26\"], [1.0, \"#f0f921\"]], \"type\": \"contour\"}], \"contourcarpet\": [{\"colorbar\": {\"outlinewidth\": 0, \"ticks\": \"\"}, \"type\": \"contourcarpet\"}], \"heatmap\": [{\"colorbar\": {\"outlinewidth\": 0, \"ticks\": \"\"}, \"colorscale\": [[0.0, \"#0d0887\"], [0.1111111111111111, \"#46039f\"], [0.2222222222222222, \"#7201a8\"], [0.3333333333333333, \"#9c179e\"], [0.4444444444444444, \"#bd3786\"], [0.5555555555555556, \"#d8576b\"], [0.6666666666666666, \"#ed7953\"], [0.7777777777777778, \"#fb9f3a\"], [0.8888888888888888, \"#fdca26\"], [1.0, \"#f0f921\"]], \"type\": \"heatmap\"}], \"heatmapgl\": [{\"colorbar\": {\"outlinewidth\": 0, \"ticks\": \"\"}, \"colorscale\": [[0.0, \"#0d0887\"], [0.1111111111111111, \"#46039f\"], [0.2222222222222222, \"#7201a8\"], [0.3333333333333333, \"#9c179e\"], [0.4444444444444444, \"#bd3786\"], [0.5555555555555556, \"#d8576b\"], [0.6666666666666666, \"#ed7953\"], [0.7777777777777778, \"#fb9f3a\"], [0.8888888888888888, \"#fdca26\"], [1.0, \"#f0f921\"]], \"type\": \"heatmapgl\"}], \"histogram\": [{\"marker\": {\"colorbar\": {\"outlinewidth\": 0, \"ticks\": \"\"}}, \"type\": \"histogram\"}], \"histogram2d\": [{\"colorbar\": {\"outlinewidth\": 0, \"ticks\": \"\"}, \"colorscale\": [[0.0, \"#0d0887\"], [0.1111111111111111, \"#46039f\"], [0.2222222222222222, \"#7201a8\"], [0.3333333333333333, \"#9c179e\"], [0.4444444444444444, \"#bd3786\"], [0.5555555555555556, \"#d8576b\"], [0.6666666666666666, \"#ed7953\"], [0.7777777777777778, \"#fb9f3a\"], [0.8888888888888888, \"#fdca26\"], [1.0, \"#f0f921\"]], \"type\": \"histogram2d\"}], \"histogram2dcontour\": [{\"colorbar\": {\"outlinewidth\": 0, \"ticks\": \"\"}, \"colorscale\": [[0.0, \"#0d0887\"], [0.1111111111111111, \"#46039f\"], [0.2222222222222222, \"#7201a8\"], [0.3333333333333333, \"#9c179e\"], [0.4444444444444444, \"#bd3786\"], [0.5555555555555556, \"#d8576b\"], [0.6666666666666666, \"#ed7953\"], [0.7777777777777778, \"#fb9f3a\"], [0.8888888888888888, \"#fdca26\"], [1.0, \"#f0f921\"]], \"type\": \"histogram2dcontour\"}], \"mesh3d\": [{\"colorbar\": {\"outlinewidth\": 0, \"ticks\": \"\"}, \"type\": \"mesh3d\"}], \"parcoords\": [{\"line\": {\"colorbar\": {\"outlinewidth\": 0, \"ticks\": \"\"}}, \"type\": \"parcoords\"}], \"pie\": [{\"automargin\": true, \"type\": \"pie\"}], \"scatter\": [{\"marker\": {\"colorbar\": {\"outlinewidth\": 0, \"ticks\": \"\"}}, \"type\": \"scatter\"}], \"scatter3d\": [{\"line\": {\"colorbar\": {\"outlinewidth\": 0, \"ticks\": \"\"}}, \"marker\": {\"colorbar\": {\"outlinewidth\": 0, \"ticks\": \"\"}}, \"type\": \"scatter3d\"}], \"scattercarpet\": [{\"marker\": {\"colorbar\": {\"outlinewidth\": 0, \"ticks\": \"\"}}, \"type\": \"scattercarpet\"}], \"scattergeo\": [{\"marker\": {\"colorbar\": {\"outlinewidth\": 0, \"ticks\": \"\"}}, \"type\": \"scattergeo\"}], \"scattergl\": [{\"marker\": {\"colorbar\": {\"outlinewidth\": 0, \"ticks\": \"\"}}, \"type\": \"scattergl\"}], \"scattermapbox\": [{\"marker\": {\"colorbar\": {\"outlinewidth\": 0, \"ticks\": \"\"}}, \"type\": \"scattermapbox\"}], \"scatterpolar\": [{\"marker\": {\"colorbar\": {\"outlinewidth\": 0, \"ticks\": \"\"}}, \"type\": \"scatterpolar\"}], \"scatterpolargl\": [{\"marker\": {\"colorbar\": {\"outlinewidth\": 0, \"ticks\": \"\"}}, \"type\": \"scatterpolargl\"}], \"scatterternary\": [{\"marker\": {\"colorbar\": {\"outlinewidth\": 0, \"ticks\": \"\"}}, \"type\": \"scatterternary\"}], \"surface\": [{\"colorbar\": {\"outlinewidth\": 0, \"ticks\": \"\"}, \"colorscale\": [[0.0, \"#0d0887\"], [0.1111111111111111, \"#46039f\"], [0.2222222222222222, \"#7201a8\"], [0.3333333333333333, \"#9c179e\"], [0.4444444444444444, \"#bd3786\"], [0.5555555555555556, \"#d8576b\"], [0.6666666666666666, \"#ed7953\"], [0.7777777777777778, \"#fb9f3a\"], [0.8888888888888888, \"#fdca26\"], [1.0, \"#f0f921\"]], \"type\": \"surface\"}], \"table\": [{\"cells\": {\"fill\": {\"color\": \"#EBF0F8\"}, \"line\": {\"color\": \"white\"}}, \"header\": {\"fill\": {\"color\": \"#C8D4E3\"}, \"line\": {\"color\": \"white\"}}, \"type\": \"table\"}]}, \"layout\": {\"annotationdefaults\": {\"arrowcolor\": \"#2a3f5f\", \"arrowhead\": 0, \"arrowwidth\": 1}, \"coloraxis\": {\"colorbar\": {\"outlinewidth\": 0, \"ticks\": \"\"}}, \"colorscale\": {\"diverging\": [[0, \"#8e0152\"], [0.1, \"#c51b7d\"], [0.2, \"#de77ae\"], [0.3, \"#f1b6da\"], [0.4, \"#fde0ef\"], [0.5, \"#f7f7f7\"], [0.6, \"#e6f5d0\"], [0.7, \"#b8e186\"], [0.8, \"#7fbc41\"], [0.9, \"#4d9221\"], [1, \"#276419\"]], \"sequential\": [[0.0, \"#0d0887\"], [0.1111111111111111, \"#46039f\"], [0.2222222222222222, \"#7201a8\"], [0.3333333333333333, \"#9c179e\"], [0.4444444444444444, \"#bd3786\"], [0.5555555555555556, \"#d8576b\"], [0.6666666666666666, \"#ed7953\"], [0.7777777777777778, \"#fb9f3a\"], [0.8888888888888888, \"#fdca26\"], [1.0, \"#f0f921\"]], \"sequentialminus\": [[0.0, \"#0d0887\"], [0.1111111111111111, \"#46039f\"], [0.2222222222222222, \"#7201a8\"], [0.3333333333333333, \"#9c179e\"], [0.4444444444444444, \"#bd3786\"], [0.5555555555555556, \"#d8576b\"], [0.6666666666666666, \"#ed7953\"], [0.7777777777777778, \"#fb9f3a\"], [0.8888888888888888, \"#fdca26\"], [1.0, \"#f0f921\"]]}, \"colorway\": [\"#636efa\", \"#EF553B\", \"#00cc96\", \"#ab63fa\", \"#FFA15A\", \"#19d3f3\", \"#FF6692\", \"#B6E880\", \"#FF97FF\", \"#FECB52\"], \"font\": {\"color\": \"#2a3f5f\"}, \"geo\": {\"bgcolor\": \"white\", \"lakecolor\": \"white\", \"landcolor\": \"#E5ECF6\", \"showlakes\": true, \"showland\": true, \"subunitcolor\": \"white\"}, \"hoverlabel\": {\"align\": \"left\"}, \"hovermode\": \"closest\", \"mapbox\": {\"style\": \"light\"}, \"paper_bgcolor\": \"white\", \"plot_bgcolor\": \"#E5ECF6\", \"polar\": {\"angularaxis\": {\"gridcolor\": \"white\", \"linecolor\": \"white\", \"ticks\": \"\"}, \"bgcolor\": \"#E5ECF6\", \"radialaxis\": {\"gridcolor\": \"white\", \"linecolor\": \"white\", \"ticks\": \"\"}}, \"scene\": {\"xaxis\": {\"backgroundcolor\": \"#E5ECF6\", \"gridcolor\": \"white\", \"gridwidth\": 2, \"linecolor\": \"white\", \"showbackground\": true, \"ticks\": \"\", \"zerolinecolor\": \"white\"}, \"yaxis\": {\"backgroundcolor\": \"#E5ECF6\", \"gridcolor\": \"white\", \"gridwidth\": 2, \"linecolor\": \"white\", \"showbackground\": true, \"ticks\": \"\", \"zerolinecolor\": \"white\"}, \"zaxis\": {\"backgroundcolor\": \"#E5ECF6\", \"gridcolor\": \"white\", \"gridwidth\": 2, \"linecolor\": \"white\", \"showbackground\": true, \"ticks\": \"\", \"zerolinecolor\": \"white\"}}, \"shapedefaults\": {\"line\": {\"color\": \"#2a3f5f\"}}, \"ternary\": {\"aaxis\": {\"gridcolor\": \"white\", \"linecolor\": \"white\", \"ticks\": \"\"}, \"baxis\": {\"gridcolor\": \"white\", \"linecolor\": \"white\", \"ticks\": \"\"}, \"bgcolor\": \"#E5ECF6\", \"caxis\": {\"gridcolor\": \"white\", \"linecolor\": \"white\", \"ticks\": \"\"}}, \"title\": {\"x\": 0.05}, \"xaxis\": {\"automargin\": true, \"gridcolor\": \"white\", \"linecolor\": \"white\", \"ticks\": \"\", \"title\": {\"standoff\": 15}, \"zerolinecolor\": \"white\", \"zerolinewidth\": 2}, \"yaxis\": {\"automargin\": true, \"gridcolor\": \"white\", \"linecolor\": \"white\", \"ticks\": \"\", \"title\": {\"standoff\": 15}, \"zerolinecolor\": \"white\", \"zerolinewidth\": 2}}}, \"title\": {\"text\": \"Baseline\"}},\n",
       "                        {\"responsive\": true}\n",
       "                    ).then(function(){\n",
       "                            \n",
       "var gd = document.getElementById('2b6869d3-90a8-4184-a97b-30aabdeff47f');\n",
       "var x = new MutationObserver(function (mutations, observer) {{\n",
       "        var display = window.getComputedStyle(gd).display;\n",
       "        if (!display || display === 'none') {{\n",
       "            console.log([gd, 'removed!']);\n",
       "            Plotly.purge(gd);\n",
       "            observer.disconnect();\n",
       "        }}\n",
       "}});\n",
       "\n",
       "// Listen for the removal of the full notebook cells\n",
       "var notebookContainer = gd.closest('#notebook-container');\n",
       "if (notebookContainer) {{\n",
       "    x.observe(notebookContainer, {childList: true});\n",
       "}}\n",
       "\n",
       "// Listen for the clearing of the current output cell\n",
       "var outputEl = gd.closest('.output');\n",
       "if (outputEl) {{\n",
       "    x.observe(outputEl, {childList: true});\n",
       "}}\n",
       "\n",
       "                        })\n",
       "                };\n",
       "                });\n",
       "            </script>\n",
       "        </div>"
      ]
     },
     "metadata": {},
     "output_type": "display_data"
    }
   ],
   "source": [
    "ctrl = controllers.get_limited_lookahead_controller(get_value_function(online_horizon)[0],\n",
    "                                                    vf_approx,\n",
    "                                                    dt_sim*N)\n",
    "x_traj_sim, t_traj_sim = controllers.sim_ctrl(x0, vf.u_dim[0], sys.dx,\n",
    "                                              ctrl, dt_sim, N, integration_mode=integration_mode)\n",
    "controllers.plot_sim(t_traj_sim, x_traj_sim, \"Baseline\").show()"
   ]
  },
  {
   "cell_type": "code",
   "execution_count": null,
   "metadata": {},
   "outputs": [],
   "source": [
    "ctrl = controllers.get_limited_lookahead_controller(get_value_function(online_horizon)[0],\n",
    "                                                    vf_approx_adv,\n",
    "                                                    dt_sim*N)\n",
    "x_traj_sim, t_traj_sim = controllers.sim_ctrl(x0, vf.u_dim[0], sys.dx,\n",
    "                                              ctrl, dt_sim, N, integration_mode=integration_mode)\n",
    "controllers.plot_sim(t_traj_sim, x_traj_sim, \"Adversarial\").show()"
   ]
  },
  {
   "cell_type": "code",
   "execution_count": null,
   "metadata": {},
   "outputs": [],
   "source": [
    "# benchmark params\n",
    "x0 = torch.tensor([np.pi, 0., 0. , 0.], dtype=vf.dtype)\n",
    "x_goal = torch.tensor([np.pi, 0., 0., 0.], dtype=vf.dtype)\n",
    "\n",
    "x0_eps = torch.tensor([.4, 1., 2., 2.], dtype=vf.dtype)\n",
    "num_breaks = [5, 5, 5, 5]\n",
    "\n",
    "dt_sim = .1\n",
    "N = 50\n",
    "online_horizon = 7\n",
    "integration_mode = \"foh\""
   ]
  },
  {
   "cell_type": "code",
   "execution_count": null,
   "metadata": {},
   "outputs": [],
   "source": [
    "Q = torch.diag(torch.Tensor([.1, .1, .1, .1]))\n",
    "R = torch.diag(torch.Tensor([.01]))\n",
    "x_nom = torch.Tensor([np.pi, 0., 0., 0.]).type(vf.dtype)\n",
    "u_nom = torch.zeros(vf.u_lo[0].shape[0]).type(vf.dtype)\n",
    "ctrl_lqr, S = controllers.get_lqr_controller(sys.dx, x_nom, u_nom, Q, R, vf.u_lo[0], vf.u_up[0])\n",
    "bench_lqr = controllers.benchmark_controller(vf.u_dim[0], sys.dx,\n",
    "                                             ctrl_lqr, x0, x0_eps, num_breaks,\n",
    "                                             x_goal, dt_sim, N, integration_mode=integration_mode)"
   ]
  },
  {
   "cell_type": "code",
   "execution_count": null,
   "metadata": {},
   "outputs": [],
   "source": [
    "ctrl_no_model = controllers.get_limited_lookahead_controller(get_value_function(online_horizon)[0])\n",
    "bench_no_model = controllers.benchmark_controller(vf.u_dim[0],\n",
    "                                                  sys.dx,\n",
    "                                                  ctrl_no_model,\n",
    "                                                  x0, x0_eps, num_breaks,\n",
    "                                                  x_goal, dt_sim, N,\n",
    "                                                  integration_mode=integration_mode)"
   ]
  },
  {
   "cell_type": "code",
   "execution_count": null,
   "metadata": {},
   "outputs": [],
   "source": [
    "ctrl_baseline = controllers.get_limited_lookahead_controller(get_value_function(online_horizon)[0],\n",
    "                                                             vf_approx,\n",
    "                                                             dt_sim*N)\n",
    "bench_baseline = controllers.benchmark_controller(vf.u_dim[0],\n",
    "                                                  sys.dx,\n",
    "                                                  ctrl_baseline,\n",
    "                                                  x0, x0_eps, num_breaks,\n",
    "                                                  x_goal, dt_sim, N,\n",
    "                                                  integration_mode=integration_mode)"
   ]
  },
  {
   "cell_type": "code",
   "execution_count": null,
   "metadata": {},
   "outputs": [],
   "source": [
    "ctrl_adv = controllers.get_limited_lookahead_controller(get_value_function(online_horizon)[0],\n",
    "                                                        vf_approx_adv,\n",
    "                                                        dt_sim*N)\n",
    "bench_adv = controllers.benchmark_controller(vf.u_dim[0],\n",
    "                                             sys.dx,\n",
    "                                             ctrl_adv,\n",
    "                                             x0, x0_eps, num_breaks,\n",
    "                                             x_goal, dt_sim, N,\n",
    "                                             integration_mode=integration_mode)"
   ]
  },
  {
   "cell_type": "code",
   "execution_count": null,
   "metadata": {
    "scrolled": false
   },
   "outputs": [],
   "source": [
    "conv_thresh = .1\n",
    "zmin = 0.\n",
    "zmax = 5\n",
    "\n",
    "fig = go.Figure()\n",
    "fig.add_trace(go.Heatmap(\n",
    "    z = bench_lqr.detach().numpy(),\n",
    "    zmin = zmin,\n",
    "    zmax = zmax,\n",
    "    ))\n",
    "fig.update_layout(\n",
    "    title=\"LQR\",\n",
    ")\n",
    "fig.show()\n",
    "\n",
    "fig = go.Figure()\n",
    "fig.add_trace(go.Heatmap(\n",
    "    z = bench_no_model.detach().numpy(),\n",
    "    zmin = zmin,\n",
    "    zmax = zmax,\n",
    "    ))\n",
    "fig.update_layout(\n",
    "    title=\"No Model\",\n",
    ")\n",
    "fig.show()\n",
    "\n",
    "fig = go.Figure()\n",
    "fig.add_trace(go.Heatmap(\n",
    "    z = bench_baseline.detach().numpy(),\n",
    "    zmin = zmin,\n",
    "    zmax = zmax,\n",
    "    ))\n",
    "fig.update_layout(\n",
    "    title=\"Baseline\",\n",
    ")\n",
    "fig.show()\n",
    "\n",
    "fig = go.Figure()\n",
    "fig.add_trace(go.Heatmap(\n",
    "    z = bench_adv.detach().numpy(),\n",
    "    zmin = zmin,\n",
    "    zmax = zmax,\n",
    "    ))\n",
    "fig.update_layout(\n",
    "    title=\"Adversarial\",\n",
    ")\n",
    "fig.show()\n",
    "\n",
    "fig = go.Figure()\n",
    "fig.add_trace(go.Heatmap(\n",
    "    z = torch.Tensor(bench_lqr.detach().numpy() < conv_thresh).type(vf.dtype),\n",
    "    zmin = 0,\n",
    "    zmax = 1,\n",
    "    ))\n",
    "fig.update_layout(\n",
    "    title=\"LQR\",\n",
    ")\n",
    "fig.show()\n",
    "\n",
    "fig = go.Figure()\n",
    "fig.add_trace(go.Heatmap(\n",
    "    z = torch.Tensor(bench_no_model.detach().numpy() < conv_thresh).type(vf.dtype),\n",
    "    ))\n",
    "fig.update_layout(\n",
    "    title=\"No Model\",\n",
    ")\n",
    "fig.show()\n",
    "\n",
    "fig = go.Figure()\n",
    "fig.add_trace(go.Heatmap(\n",
    "    z = torch.Tensor(bench_baseline.detach().numpy() < conv_thresh).type(vf.dtype),\n",
    "    zmin = 0,\n",
    "    zmax = 1,\n",
    "    ))\n",
    "fig.update_layout(\n",
    "    title=\"Baseline\",\n",
    ")\n",
    "fig.show()\n",
    "\n",
    "fig = go.Figure()\n",
    "fig.add_trace(go.Heatmap(\n",
    "    z = torch.Tensor(bench_adv.detach().numpy() < conv_thresh).type(vf.dtype),\n",
    "    zmin = 0,\n",
    "    zmax = 1,\n",
    "    ))\n",
    "fig.update_layout(\n",
    "    title=\"Adversarial\",\n",
    ")\n",
    "fig.show()"
   ]
  }
 ],
 "metadata": {
  "kernelspec": {
   "display_name": "Python 3",
   "language": "python",
   "name": "python3"
  },
  "language_info": {
   "codemirror_mode": {
    "name": "ipython",
    "version": 3
   },
   "file_extension": ".py",
   "mimetype": "text/x-python",
   "name": "python",
   "nbconvert_exporter": "python",
   "pygments_lexer": "ipython3",
   "version": "3.7.5"
  }
 },
 "nbformat": 4,
 "nbformat_minor": 2
}
