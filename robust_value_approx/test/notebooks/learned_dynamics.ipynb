{
 "cells": [
  {
   "cell_type": "code",
   "execution_count": 5,
   "metadata": {},
   "outputs": [
    {
     "name": "stdout",
     "output_type": "stream",
     "text": [
      "The autoreload extension is already loaded. To reload it, use:\n",
      "  %reload_ext autoreload\n"
     ]
    }
   ],
   "source": [
    "%load_ext autoreload\n",
    "%autoreload 2"
   ]
  },
  {
   "cell_type": "code",
   "execution_count": 6,
   "metadata": {},
   "outputs": [],
   "source": [
    "import torch\n",
    "from torch.utils.data import DataLoader, TensorDataset\n",
    "from torch.utils.tensorboard import SummaryWriter\n",
    "import numpy as np\n",
    "import gurobipy\n",
    "\n",
    "import robust_value_approx.relu_system as relu_system\n",
    "import robust_value_approx.lyapunov as lyapunov\n",
    "import robust_value_approx.pybullet_data as pybullet_data\n",
    "\n",
    "import robust_value_approx.test.train_2d_lyapunov_utils as train_2d_lyapunov_utils\n",
    "import robust_value_approx.latent_system as latent_system"
   ]
  },
  {
   "cell_type": "code",
   "execution_count": 65,
   "metadata": {},
   "outputs": [],
   "source": [
    "# data\n",
    "urdf = 'pendulum.urdf'\n",
    "dtype = torch.float64\n",
    "pybullet_x_lo = torch.tensor([-np.pi/2, -1.], dtype=dtype)\n",
    "pybullet_x_up = torch.tensor([np.pi/2, 1.], dtype=dtype)\n",
    "dt = .2\n",
    "grayscale = True\n",
    "grayscale_weight = [.2989, .5870, .1140]\n",
    "image_width = 48\n",
    "image_height = 48\n",
    "\n",
    "# training\n",
    "num_samples = 1000\n",
    "validation_ratio = .2\n",
    "batch_size = 30\n",
    "dyn_loss_weight = 1.\n",
    "lyap_loss_weight = 10.\n",
    "num_epoch = 10\n",
    "\n",
    "# encoder-decoder\n",
    "use_conv = False\n",
    "z_dim = 3\n",
    "z_lo = -10. * torch.ones(z_dim, dtype=dtype)\n",
    "z_up = 10. * torch.ones(z_dim, dtype=dtype)\n",
    "\n",
    "# dynamics nn\n",
    "# dyn_nn_width = 30\n",
    "dyn_nn_width = 10\n",
    "dyn_nn_depth = 1\n",
    "\n",
    "# lyapunov nn\n",
    "# lyap_nn_width = 30\n",
    "lyap_nn_width = 10\n",
    "lyap_nn_depth = 1"
   ]
  },
  {
   "cell_type": "code",
   "execution_count": 10,
   "metadata": {},
   "outputs": [],
   "source": [
    "pbsg = pybullet_data.PybulletSampleGenerator(urdf, image_width=image_width, image_height=image_height)"
   ]
  },
  {
   "cell_type": "code",
   "execution_count": 11,
   "metadata": {},
   "outputs": [],
   "source": [
    "x_data, x_next_data, X_data, X_next_data = pbsg.generate_dataset(pybullet_x_lo, pybullet_x_up, dt, num_samples)\n",
    "\n",
    "x_data = x_data.type(dtype)\n",
    "x_next_data = x_next_data.type(dtype)\n",
    "X_data = X_data.type(dtype)\n",
    "X_next_data = X_next_data.type(dtype)\n",
    "\n",
    "if grayscale:\n",
    "    X_data_gray = torch.zeros(X_data.shape[0], 2, X_data.shape[2], X_data.shape[3], dtype=dtype)\n",
    "    X_data_gray[:, 0, :, :] = grayscale_weight[0] * X_data[:, 0, :, :] + grayscale_weight[1] * X_data[:, 1, :, :] + grayscale_weight[2] * X_data[:, 2, :, :]\n",
    "    X_data_gray[:, 1, :, :] = grayscale_weight[0] * X_data[:, 3, :, :] + grayscale_weight[1] * X_data[:, 4, :, :] + grayscale_weight[2] * X_data[:, 5, :, :]\n",
    "    X_next_data_gray = torch.zeros(X_next_data.shape[0], 1, X_next_data.shape[2], X_next_data.shape[3], dtype=dtype)\n",
    "    X_next_data_gray[:, 0, :, :] = grayscale_weight[0] * X_next_data[:, 0, :, :] + grayscale_weight[1] * X_next_data[:, 1, :, :] + grayscale_weight[2] * X_next_data[:, 2, :, :]\n",
    "    X_data = X_data_gray\n",
    "    X_next_data = X_next_data_gray"
   ]
  },
  {
   "cell_type": "code",
   "execution_count": 17,
   "metadata": {},
   "outputs": [
    {
     "data": {
      "image/png": "[encoded data removed]",
      "text/plain": [
       "<Figure size 720x720 with 3 Axes>"
      ]
     },
     "metadata": {
      "needs_background": "light"
     },
     "output_type": "display_data"
    }
   ],
   "source": [
    "i = np.random.choice(X_data.shape[0], 1)[0]\n",
    "pybullet_data.show_sample(X_data[i,:], X_next_data[i,:])"
   ]
  },
  {
   "cell_type": "code",
   "execution_count": 18,
   "metadata": {},
   "outputs": [],
   "source": [
    "dyn_nn_layers = [torch.nn.Linear(z_dim, dyn_nn_width), torch.nn.ReLU()]\n",
    "for i in range(dyn_nn_depth):\n",
    "    dyn_nn_layers += [torch.nn.Linear(dyn_nn_width, dyn_nn_width), torch.nn.ReLU()]\n",
    "dyn_nn_layers += [torch.nn.Linear(dyn_nn_width, z_dim)]\n",
    "dyn_nn_model = torch.nn.Sequential(*dyn_nn_layers).type(dtype)\n",
    "\n",
    "lyap_nn_layers = [torch.nn.Linear(z_dim, lyap_nn_width), torch.nn.ReLU()]\n",
    "for i in range(lyap_nn_depth):\n",
    "    lyap_nn_layers += [torch.nn.Linear(lyap_nn_width, lyap_nn_width), torch.nn.ReLU()]\n",
    "lyap_nn_layers += [torch.nn.Linear(lyap_nn_width, 1)]\n",
    "lyap_nn_model = torch.nn.Sequential(*lyap_nn_layers).type(dtype)"
   ]
  },
  {
   "cell_type": "markdown",
   "metadata": {},
   "source": [
    "## Learning in image space"
   ]
  },
  {
   "cell_type": "code",
   "execution_count": 54,
   "metadata": {},
   "outputs": [],
   "source": [
    "X_dataset = TensorDataset(X_data.double(), X_next_data.double())\n",
    "# X_dataset = TensorDataset(X_data[:5,:].double(), X_next_data[:5,:].double())\n",
    "\n",
    "train_size = int((1. - validation_ratio) * len(X_dataset))\n",
    "test_size = len(X_dataset) - train_size\n",
    "train_dataset_img, validation_dataset_img = torch.utils.data.random_split(X_dataset, [train_size, test_size])\n",
    "train_dataloader_img = DataLoader(\n",
    "    train_dataset_img,\n",
    "    batch_size=batch_size,\n",
    ")\n",
    "validation_dataloader_img = DataLoader(\n",
    "    validation_dataset_img,\n",
    "    batch_size=len(validation_dataset_img),\n",
    ")\n",
    "validation_data_img = validation_dataloader_img.__iter__().next()"
   ]
  },
  {
   "cell_type": "code",
   "execution_count": 55,
   "metadata": {},
   "outputs": [],
   "source": [
    "relu_sys = relu_system.AutonomousReLUSystem(dtype, z_lo, z_up, dyn_nn_model)\n",
    "lyap = lyapunov.LyapunovDiscreteTimeHybridSystem(relu_sys, lyap_nn_model)\n",
    "latent_sys = latent_system.LatentAutonomousReLUSystem(relu_sys, lyap, use_conv=use_conv, image_width=image_width, image_height=image_height, grayscale=grayscale)"
   ]
  },
  {
   "cell_type": "code",
   "execution_count": 67,
   "metadata": {},
   "outputs": [
    {
     "data": {
      "image/png": "[encoded data removed]",
      "text/plain": [
       "<Figure size 720x720 with 1 Axes>"
      ]
     },
     "metadata": {
      "needs_background": "light"
     },
     "output_type": "display_data"
    },
    {
     "data": {
      "image/png": "[encoded data removed]",
      "text/plain": [
       "<Figure size 720x720 with 1 Axes>"
      ]
     },
     "metadata": {
      "needs_background": "light"
     },
     "output_type": "display_data"
    },
    {
     "data": {
      "image/png": "[encoded data removed]",
      "text/plain": [
       "<Figure size 720x720 with 1 Axes>"
      ]
     },
     "metadata": {
      "needs_background": "light"
     },
     "output_type": "display_data"
    },
    {
     "data": {
      "image/png": "[encoded data removed]",
      "text/plain": [
       "<Figure size 720x720 with 1 Axes>"
      ]
     },
     "metadata": {
      "needs_background": "light"
     },
     "output_type": "display_data"
    },
    {
     "data": {
      "image/png": "[encoded data removed]",
      "text/plain": [
       "<Figure size 720x720 with 1 Axes>"
      ]
     },
     "metadata": {
      "needs_background": "light"
     },
     "output_type": "display_data"
    }
   ],
   "source": [
    "x_traj = latent_sys.rollout(X_data[0, :], 3, clamp=True)\n",
    "for n in range(x_traj.shape[0]):\n",
    "    pybullet_data.show_sample(x_traj[n, :], clamp=True)"
   ]
  },
  {
   "cell_type": "code",
   "execution_count": 57,
   "metadata": {},
   "outputs": [],
   "source": [
    "optimizer = torch.optim.Adam([{'params': latent_sys.encoder.parameters()},\n",
    "                              {'params': latent_sys.decoder.parameters()},\n",
    "                              {'params': latent_sys.lyapunov.lyapunov_relu.parameters()}])\n",
    "\n",
    "writer = SummaryWriter()\n",
    "n_iter = 0"
   ]
  },
  {
   "cell_type": "code",
   "execution_count": 58,
   "metadata": {},
   "outputs": [
    {
     "data": {
      "text/plain": [
       "tensor(128270.7100, dtype=torch.float64, grad_fn=<AddBackward0>)"
      ]
     },
     "execution_count": 58,
     "metadata": {},
     "output_type": "execute_result"
    }
   ],
   "source": [
    "x_decoded, x_next_pred_decoded, z_mu, z_log_var = latent_sys.vae_forward(X_data[:3,:])\n",
    "dyn_loss = latent_sys.vae_loss(X_data[:3,:], X_next_data[:3,:], x_decoded, x_next_pred_decoded, z_mu, z_log_var)\n",
    "dyn_loss"
   ]
  },
  {
   "cell_type": "code",
   "execution_count": 66,
   "metadata": {},
   "outputs": [
    {
     "name": "stdout",
     "output_type": "stream",
     "text": [
      "Using license file /Users/blandry/gurobi.lic\n",
      "Academic license - for non-commercial use only\n"
     ]
    },
    {
     "ename": "AssertionError",
     "evalue": "",
     "output_type": "error",
     "traceback": [
      "\u001b[0;31m---------------------------------------------------------------------------\u001b[0m",
      "\u001b[0;31mAssertionError\u001b[0m                            Traceback (most recent call last)",
      "\u001b[0;32m<ipython-input-66-7338b29fb049>\u001b[0m in \u001b[0;36m<module>\u001b[0;34m\u001b[0m\n\u001b[1;32m     10\u001b[0m \u001b[0;34m\u001b[0m\u001b[0m\n\u001b[1;32m     11\u001b[0m         \u001b[0;32mif\u001b[0m \u001b[0mlyap_loss_weight\u001b[0m \u001b[0;34m>\u001b[0m \u001b[0;36m0\u001b[0m\u001b[0;34m:\u001b[0m\u001b[0;34m\u001b[0m\u001b[0;34m\u001b[0m\u001b[0m\n\u001b[0;32m---> 12\u001b[0;31m             \u001b[0mlyap_loss\u001b[0m \u001b[0;34m=\u001b[0m \u001b[0mlatent_sys\u001b[0m\u001b[0;34m.\u001b[0m\u001b[0mlyapunov_loss\u001b[0m\u001b[0;34m(\u001b[0m\u001b[0;34m)\u001b[0m\u001b[0;34m\u001b[0m\u001b[0;34m\u001b[0m\u001b[0m\n\u001b[0m\u001b[1;32m     13\u001b[0m         \u001b[0;32melse\u001b[0m\u001b[0;34m:\u001b[0m\u001b[0;34m\u001b[0m\u001b[0;34m\u001b[0m\u001b[0m\n\u001b[1;32m     14\u001b[0m             \u001b[0mlyap_loss\u001b[0m \u001b[0;34m=\u001b[0m \u001b[0mtorch\u001b[0m\u001b[0;34m.\u001b[0m\u001b[0mtensor\u001b[0m\u001b[0;34m(\u001b[0m\u001b[0;36m0.\u001b[0m\u001b[0;34m,\u001b[0m \u001b[0mdtype\u001b[0m\u001b[0;34m=\u001b[0m\u001b[0mlatent_sys\u001b[0m\u001b[0;34m.\u001b[0m\u001b[0mdtype\u001b[0m\u001b[0;34m)\u001b[0m\u001b[0;34m\u001b[0m\u001b[0;34m\u001b[0m\u001b[0m\n",
      "\u001b[0;32m~/Code/robust-value-approx/robust_value_approx/latent_system.py\u001b[0m in \u001b[0;36mlyapunov_loss\u001b[0;34m(self)\u001b[0m\n\u001b[1;32m    193\u001b[0m         \u001b[0mlyap_der_mip\u001b[0m\u001b[0;34m.\u001b[0m\u001b[0mgurobi_model\u001b[0m\u001b[0;34m.\u001b[0m\u001b[0moptimize\u001b[0m\u001b[0;34m(\u001b[0m\u001b[0;34m)\u001b[0m\u001b[0;34m\u001b[0m\u001b[0;34m\u001b[0m\u001b[0m\n\u001b[1;32m    194\u001b[0m         \u001b[0mloss\u001b[0m \u001b[0;34m=\u001b[0m \u001b[0;34m-\u001b[0m\u001b[0mlyap_pos_mip\u001b[0m\u001b[0;34m.\u001b[0m\u001b[0mcompute_objective_from_mip_data_and_solution\u001b[0m\u001b[0;34m(\u001b[0m\u001b[0;34m)\u001b[0m \u001b[0;34m+\u001b[0m\u001b[0;31m\\\u001b[0m\u001b[0;34m\u001b[0m\u001b[0;34m\u001b[0m\u001b[0m\n\u001b[0;32m--> 195\u001b[0;31m             \u001b[0mlyap_der_mip\u001b[0m\u001b[0;34m.\u001b[0m\u001b[0mcompute_objective_from_mip_data_and_solution\u001b[0m\u001b[0;34m(\u001b[0m\u001b[0;34m)\u001b[0m\u001b[0;34m\u001b[0m\u001b[0;34m\u001b[0m\u001b[0m\n\u001b[0m\u001b[1;32m    196\u001b[0m         \u001b[0;32mreturn\u001b[0m \u001b[0mloss\u001b[0m\u001b[0;34m\u001b[0m\u001b[0;34m\u001b[0m\u001b[0m\n\u001b[1;32m    197\u001b[0m \u001b[0;34m\u001b[0m\u001b[0m\n",
      "\u001b[0;32m~/Code/robust-value-approx/robust_value_approx/gurobi_torch_mip.py\u001b[0m in \u001b[0;36mcompute_objective_from_mip_data_and_solution\u001b[0;34m(self, solution_number, active_constraint_tolerance, penalty, objective_tol)\u001b[0m\n\u001b[1;32m    421\u001b[0m         assert(solution_number >= 0 and\n\u001b[1;32m    422\u001b[0m                solution_number < self.gurobi_model.solCount)\n\u001b[0;32m--> 423\u001b[0;31m         \u001b[0;32massert\u001b[0m\u001b[0;34m(\u001b[0m\u001b[0mself\u001b[0m\u001b[0;34m.\u001b[0m\u001b[0mgurobi_model\u001b[0m\u001b[0;34m.\u001b[0m\u001b[0mstatus\u001b[0m \u001b[0;34m==\u001b[0m \u001b[0mgurobipy\u001b[0m\u001b[0;34m.\u001b[0m\u001b[0mGRB\u001b[0m\u001b[0;34m.\u001b[0m\u001b[0mStatus\u001b[0m\u001b[0;34m.\u001b[0m\u001b[0mOPTIMAL\u001b[0m\u001b[0;34m)\u001b[0m\u001b[0;34m\u001b[0m\u001b[0;34m\u001b[0m\u001b[0m\n\u001b[0m\u001b[1;32m    424\u001b[0m         self.gurobi_model.setParam(gurobipy.GRB.Param.SolutionNumber,\n\u001b[1;32m    425\u001b[0m                                    solution_number)\n",
      "\u001b[0;31mAssertionError\u001b[0m: "
     ]
    }
   ],
   "source": [
    "for epoch_i in range(100):\n",
    "    for x, x_next in train_dataloader_img:\n",
    "        optimizer.zero_grad()\n",
    "        \n",
    "        if dyn_loss_weight > 0:\n",
    "            x_decoded, x_next_pred_decoded, z_mu, z_log_var = latent_sys.vae_forward(x)\n",
    "            dyn_loss = latent_sys.vae_loss(x, x_next, x_decoded, x_next_pred_decoded, z_mu, z_log_var)\n",
    "        else:\n",
    "            dyn_loss = torch.tensor(0., dtype=latent_sys.dtype)\n",
    "        \n",
    "        if lyap_loss_weight > 0:\n",
    "            lyap_loss = latent_sys.lyapunov_loss()\n",
    "        else:\n",
    "            lyap_loss = torch.tensor(0., dtype=latent_sys.dtype)\n",
    "        \n",
    "        loss = dyn_loss_weight * dyn_loss + lyap_loss_weight * lyap_loss\n",
    "        \n",
    "#         print(dyn_loss_weight * dyn_loss)\n",
    "#         print(lyap_loss_weight * lyap_loss)\n",
    "#         print(loss)\n",
    "#         print(\"---\")\n",
    "        \n",
    "        loss.backward()\n",
    "        optimizer.step()\n",
    "        \n",
    "        writer.add_scalar('Dynamics/train', dyn_loss_weight * dyn_loss.item(), n_iter)\n",
    "        writer.add_scalar('Lyapunov', lyap_loss_weight * lyap_loss.item(), n_iter)\n",
    "        n_iter += 1\n",
    "      \n",
    "#     with torch.no_grad():\n",
    "#         validation_loss = dynamics_loss(dyn_nn_model, validation_data[0], validation_data[1])\n",
    "#         writer.add_scalar('Dynamics/validation', validation_loss.item(), n_iter)"
   ]
  },
  {
   "cell_type": "markdown",
   "metadata": {},
   "source": [
    "## Learning in state space"
   ]
  },
  {
   "cell_type": "code",
   "execution_count": null,
   "metadata": {},
   "outputs": [],
   "source": [
    "x_dataset = TensorDataset(x_data, x_next_data)\n",
    "train_size = int((1. - validation_ratio) * len(x_dataset))\n",
    "test_size = len(x_dataset) - train_size\n",
    "train_dataset, validation_dataset = torch.utils.data.random_split(x_dataset, [train_size, test_size])\n",
    "train_dataloader = DataLoader(\n",
    "    train_dataset,\n",
    "    batch_size=batch_size,\n",
    ")\n",
    "validation_dataloader = DataLoader(\n",
    "    validation_dataset,\n",
    "    batch_size=len(validation_dataset),\n",
    ")\n",
    "validation_data = validation_dataloader.__iter__().next()"
   ]
  },
  {
   "cell_type": "code",
   "execution_count": null,
   "metadata": {},
   "outputs": [],
   "source": [
    "optimizer = torch.optim.Adam([{'params': dyn_nn_model.parameters()},\n",
    "                              {'params': lyap_nn_model.parameters()}])\n",
    "\n",
    "writer = SummaryWriter()\n",
    "n_iter = 0"
   ]
  },
  {
   "cell_type": "code",
   "execution_count": null,
   "metadata": {},
   "outputs": [],
   "source": [
    "relu_sys = relu_system.AutonomousReLUSystem(x_dim, dtype, x_lo, x_up, dyn_nn_model)\n",
    "dut = lyapunov.LyapunovDiscreteTimeAutonomousReLUSystem(relu_sys)\n",
    "\n",
    "def lyapunov_loss(lyap_nn_model, dyn_nn_model):\n",
    "    lyap_pos_mip = dut.lyapunov_positivity_as_milp(lyap_nn_model, x_equilibrium, V_rho, lyap_pos_eps)[0]\n",
    "    lyap_pos_mip.gurobi_model.setParam(gurobipy.GRB.Param.OutputFlag, False)\n",
    "    lyap_pos_mip.gurobi_model.optimize()\n",
    "    lyap_der_mip = dut.lyapunov_derivative_as_milp(lyap_nn_model, dyn_nn_model, x_equilibrium, V_rho, lyap_der_eps)[0]\n",
    "    lyap_der_mip.gurobi_model.setParam(gurobipy.GRB.Param.OutputFlag, False)\n",
    "    lyap_der_mip.gurobi_model.optimize()\n",
    "    loss = -lyap_pos_mip.compute_objective_from_mip_data_and_solution() + lyap_der_mip.compute_objective_from_mip_data_and_solution()\n",
    "    return loss\n",
    "    \n",
    "def dynamics_loss(dyn_nn_model, x, x_next):\n",
    "    x_next_pred = dyn_nn_model(x)\n",
    "    loss = torch.nn.functional.mse_loss(x_next_pred, x_next)\n",
    "    return loss"
   ]
  },
  {
   "cell_type": "code",
   "execution_count": null,
   "metadata": {},
   "outputs": [],
   "source": [
    "for epoch_i in range(num_epoch):\n",
    "    for x, x_next in train_dataloader:\n",
    "        optimizer.zero_grad()\n",
    "        \n",
    "        dyn_loss = dynamics_loss(dyn_nn_model, x, x_next)\n",
    "        lyap_loss = lyapunov_loss(lyap_nn_model, dyn_nn_model)\n",
    "        loss = dyn_loss_weight * dyn_loss + lyap_loss_weight * lyap_loss\n",
    "        \n",
    "        loss.backward()\n",
    "        optimizer.step()\n",
    "        \n",
    "        writer.add_scalar('Dynamics/train', dyn_loss.item(), n_iter)\n",
    "        writer.add_scalar('Lyapunov', lyap_loss.item(), n_iter)\n",
    "        n_iter += 1\n",
    "    \n",
    "    with torch.no_grad():\n",
    "        validation_loss = dynamics_loss(dyn_nn_model, validation_data[0], validation_data[1])\n",
    "        writer.add_scalar('Dynamics/validation', validation_loss.item(), n_iter)"
   ]
  },
  {
   "cell_type": "code",
   "execution_count": null,
   "metadata": {},
   "outputs": [],
   "source": [
    "x0 = torch.tensor([0, 0], dtype=torch.float64)\n",
    "print(dyn_nn_model(x0))\n",
    "print(lyap_nn_model(x0))\n",
    "print(lyap_nn_model(x0 + 1.))"
   ]
  },
  {
   "cell_type": "code",
   "execution_count": null,
   "metadata": {},
   "outputs": [],
   "source": [
    "%matplotlib inline"
   ]
  },
  {
   "cell_type": "code",
   "execution_count": null,
   "metadata": {},
   "outputs": [],
   "source": [
    "from mpl_toolkits.mplot3d import Axes3D\n",
    "import matplotlib.pyplot as plt"
   ]
  },
  {
   "cell_type": "code",
   "execution_count": null,
   "metadata": {},
   "outputs": [],
   "source": [
    "# fig, ax = plt.subplots()\n",
    "fig = plt.figure()\n",
    "ax = fig.gca(projection='3d')\n",
    "train_2d_lyapunov_utils.plot_lyapunov(ax, lyap_nn_model, V_rho, x_equilibrium, x_lo, x_up, [10, 10], 10)"
   ]
  }
 ],
 "metadata": {
  "kernelspec": {
   "display_name": "Python 3",
   "language": "python",
   "name": "python3"
  },
  "language_info": {
   "codemirror_mode": {
    "name": "ipython",
    "version": 3
   },
   "file_extension": ".py",
   "mimetype": "text/x-python",
   "name": "python",
   "nbconvert_exporter": "python",
   "pygments_lexer": "ipython3",
   "version": "3.8.4"
  }
 },
 "nbformat": 4,
 "nbformat_minor": 4
}
