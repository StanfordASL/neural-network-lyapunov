{
 "cells": [
  {
   "cell_type": "code",
   "execution_count": null,
   "metadata": {},
   "outputs": [],
   "source": [
    "%load_ext autoreload\n",
    "%autoreload 2\n",
    "%matplotlib inline"
   ]
  },
  {
   "cell_type": "code",
   "execution_count": null,
   "metadata": {},
   "outputs": [],
   "source": [
    "import torch\n",
    "import numpy as np\n",
    "from mpl_toolkits.mplot3d import Axes3D\n",
    "import matplotlib.pyplot as plt\n",
    "\n",
    "import neural_network_lyapunov.relu_system as relu_system\n",
    "import neural_network_lyapunov.lyapunov as lyapunov\n",
    "import neural_network_lyapunov.pybullet_data as pybullet_data\n",
    "import neural_network_lyapunov.dynamics_learning as dynamics_learning\n",
    "import neural_network_lyapunov.encoders as encoders\n",
    "\n",
    "import neural_network_lyapunov.test.train_2d_lyapunov_utils as train_2d_lyapunov_utils"
   ]
  },
  {
   "cell_type": "markdown",
   "metadata": {},
   "source": [
    "## Settings"
   ]
  },
  {
   "cell_type": "code",
   "execution_count": null,
   "metadata": {},
   "outputs": [],
   "source": [
    "dtype = torch.float64\n",
    "\n",
    "# data\n",
    "urdf = 'pendulum.urdf'\n",
    "pybullet_x_lo = torch.tensor([-np.pi/2, -5.], dtype=dtype)\n",
    "pybullet_x_up = torch.tensor([np.pi/2, 5.], dtype=dtype)\n",
    "dataset_dt = .1\n",
    "dataset_N = 1\n",
    "grayscale = True\n",
    "image_width = 48\n",
    "image_height = 48\n",
    "\n",
    "# training\n",
    "num_samples = 100\n",
    "validation_ratio = .01\n",
    "batch_size = 30\n",
    "\n",
    "dyn_learning_opt = dynamics_learning.DynamicsLearningOptions()\n",
    "dyn_learning_opt.dynynamics_loss_weight = 10.\n",
    "dyn_learning_opt.lyapunov_loss_at_samples_weight = 1.\n",
    "dyn_learning_opt.lyapunov_loss_weight = 1.\n",
    "dyn_learning_opt.equilibrium_loss_weight = 1.\n",
    "dyn_learning_opt.V_lambda = 0.\n",
    "dyn_learning_opt.V_eps = 0.01\n",
    "        \n",
    "# encoder-decoder\n",
    "encoder_class = encoders.LinearEncoder1\n",
    "decoder_class = encoders.LinearDecoder1\n",
    "use_bce = True\n",
    "use_variational = False\n",
    "z_dim = 50\n",
    "z_lo = -1. * torch.ones(z_dim, dtype=dtype)\n",
    "z_up = 1. * torch.ones(z_dim, dtype=dtype)\n",
    "\n",
    "# dynamics nn\n",
    "dyn_nn_width = 10\n",
    "dyn_nn_depth = 1\n",
    "\n",
    "# lyapunov nn\n",
    "lyap_nn_width = 10\n",
    "lyap_nn_depth = 1"
   ]
  },
  {
   "cell_type": "markdown",
   "metadata": {},
   "source": [
    "## Generating data"
   ]
  },
  {
   "cell_type": "code",
   "execution_count": null,
   "metadata": {},
   "outputs": [],
   "source": [
    "pbsg = pybullet_data.PybulletSampleGenerator(urdf, image_width=image_width, image_height=image_height, grayscale=grayscale, dtype=dtype)\n",
    "x_data, x_next_data, X_data, X_next_data = pbsg.generate_dataset(pybullet_x_lo, pybullet_x_up, dataset_dt, dataset_N, num_samples)"
   ]
  },
  {
   "cell_type": "code",
   "execution_count": null,
   "metadata": {},
   "outputs": [],
   "source": [
    "# plot some of the data\n",
    "i = np.random.choice(X_data.shape[0], 1)[0]\n",
    "pybullet_data.show_sample(X_data[i,:], X_next_data[i,:])"
   ]
  },
  {
   "cell_type": "code",
   "execution_count": null,
   "metadata": {},
   "outputs": [],
   "source": [
    "i = np.random.choice(X_data.shape[0], 1)[0]\n",
    "X_traj, x_traj = pbsg.generate_rollout(x_data[i,:], dataset_dt, 5)\n",
    "for n in range(X_traj.shape[0]):\n",
    "    pybullet_data.show_sample(X_traj[n, :])"
   ]
  },
  {
   "cell_type": "markdown",
   "metadata": {},
   "source": [
    "## Learning in state space"
   ]
  },
  {
   "cell_type": "code",
   "execution_count": null,
   "metadata": {},
   "outputs": [],
   "source": [
    "train_dataloader, validation_dataloader = dynamics_learning.get_dataloaders(x_data, x_next_data, batch_size, validation_ratio)\n",
    "\n",
    "dyn_nn_model = dynamics_learning.get_ff_network(dtype, z_dim, z_dim, dyn_nn_width, dyn_nn_depth)\n",
    "lyap_nn_model = dynamics_learning.get_ff_network(dtype, z_dim, 1, lyap_nn_width, lyap_nn_depth)\n",
    "\n",
    "relu_sys = relu_system.AutonomousReLUSystem(dtype, z_lo, z_up, dyn_nn_model)\n",
    "lyap = lyapunov.LyapunovDiscreteTimeHybridSystem(relu_sys, lyap_nn_model)\n",
    "\n",
    "dyn_learner = dynamics_learning.StateSpaceDynamicsLearning(train_dataloader, validation_dataloader, relu_sys, lyap, dyn_learning_opt)"
   ]
  },
  {
   "cell_type": "code",
   "execution_count": null,
   "metadata": {},
   "outputs": [],
   "source": [
    "dyn_learner.train(10, validate=True)"
   ]
  },
  {
   "cell_type": "code",
   "execution_count": null,
   "metadata": {},
   "outputs": [],
   "source": [
    "x_traj = dyn_learner.rollout(x_data[np.random.choice(x_data.shape[0], 1)[0], :], 100)\n",
    "plt.plot(x_traj)\n",
    "plt.show()"
   ]
  },
  {
   "cell_type": "markdown",
   "metadata": {},
   "source": [
    "## Learning in image space"
   ]
  },
  {
   "cell_type": "code",
   "execution_count": null,
   "metadata": {},
   "outputs": [],
   "source": [
    "train_dataloader, validation_dataloader = dynamics_learning.get_dataloaders(X_data, X_next_data, batch_size, validation_ratio)\n",
    "\n",
    "dyn_nn_model = dynamics_learning.get_ff_network(dtype, z_dim, z_dim, dyn_nn_width, dyn_nn_depth)\n",
    "lyap_nn_model = dynamics_learning.get_ff_network(dtype, z_dim, 1, lyap_nn_width, lyap_nn_depth)\n",
    "\n",
    "relu_sys = relu_system.AutonomousReLUSystem(dtype, z_lo, z_up, dyn_nn_model)\n",
    "lyap = lyapunov.LyapunovDiscreteTimeHybridSystem(relu_sys, lyap_nn_model)\n",
    "encoder = encoder_class(z_dim, image_width, image_height, grayscale)\n",
    "decoder = decoder_class(z_dim, image_width, image_height, grayscale)\n",
    "\n",
    "dyn_learner = dynamics_learning.LatentSpaceDynamicsLearning(train_dataloader, validation_dataloader, relu_sys, lyap, dyn_learning_opt,\n",
    "                                                            encoder, decoder, use_bce=use_bce, use_variational=use_variational)"
   ]
  },
  {
   "cell_type": "code",
   "execution_count": null,
   "metadata": {},
   "outputs": [],
   "source": [
    "# pre-training (encoder/decoder only)\n",
    "dyn_learner.train_encoder(500, validate=True)"
   ]
  },
  {
   "cell_type": "code",
   "execution_count": null,
   "metadata": {},
   "outputs": [],
   "source": [
    "dyn_learner.train(10, validate=True)"
   ]
  },
  {
   "cell_type": "code",
   "execution_count": null,
   "metadata": {},
   "outputs": [],
   "source": [
    "# plot a random rollout\n",
    "x_traj = dyn_learner.rollout(X_data[np.random.choice(X_data.shape[0], 1)[0], :], 5)\n",
    "for n in range(x_traj.shape[0]):\n",
    "    pybullet_data.show_sample(x_traj[n, :])"
   ]
  }
 ],
 "metadata": {
  "kernelspec": {
   "display_name": "Python 3",
   "language": "python",
   "name": "python3"
  },
  "language_info": {
   "codemirror_mode": {
    "name": "ipython",
    "version": 3
   },
   "file_extension": ".py",
   "mimetype": "text/x-python",
   "name": "python",
   "nbconvert_exporter": "python",
   "pygments_lexer": "ipython3",
   "version": "3.8.4"
  }
 },
 "nbformat": 4,
 "nbformat_minor": 4
}
