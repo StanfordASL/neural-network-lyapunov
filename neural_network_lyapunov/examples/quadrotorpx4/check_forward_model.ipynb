{
 "cells": [
  {
   "cell_type": "code",
   "execution_count": null,
   "metadata": {},
   "outputs": [],
   "source": [
    "%load_ext autoreload\n",
    "%autoreload 2"
   ]
  },
  {
   "cell_type": "code",
   "execution_count": null,
   "metadata": {},
   "outputs": [],
   "source": [
    "# %matplotlib widget\n",
    "\n",
    "import torch\n",
    "import numpy as np\n",
    "import matplotlib.pyplot as plt\n",
    "from scipy import signal\n",
    "import wandb\n",
    "\n",
    "import neural_network_lyapunov.examples.quadrotor3d.quadrotor as quadrotor\n",
    "import neural_network_lyapunov.utils as utils\n",
    "import neural_network_lyapunov.feedback_system as feedback_system\n",
    "import neural_network_lyapunov.lyapunov as lyapunov\n",
    "import neural_network_lyapunov.train_lyapunov as train_lyapunov"
   ]
  },
  {
   "cell_type": "code",
   "execution_count": null,
   "metadata": {},
   "outputs": [],
   "source": [
    "dtype = torch.float64\n",
    "forward_model = torch.load('models/forward_model.pt')\n",
    "forward_model"
   ]
  },
  {
   "cell_type": "code",
   "execution_count": null,
   "metadata": {},
   "outputs": [],
   "source": [
    "dt = 1./5.\n",
    "hover_thrust = .705\n",
    "xu_equ = torch.tensor([0., 0., 0., 0., 0., 0., hover_thrust], dtype=dtype)\n",
    "x_lo = torch.tensor([-.25, -.25, -.25, -np.pi/4, -np.pi/4, -np.pi/4, -5, -5, -5], dtype=dtype)\n",
    "x_up = torch.tensor([.25, .25, .25, np.pi/4, np.pi/4, np.pi/4, 5, 5, 5], dtype=dtype)\n",
    "u_lo = torch.tensor([-np.pi/10, -np.pi/10, -np.pi/10, 0.70], dtype=dtype)\n",
    "u_up = torch.tensor([np.pi/10, np.pi/10, np.pi/10, 0.71], dtype=dtype)\n",
    "forward_system = quadrotor.QuadrotorWithPixhawkReLUSystem(\n",
    "    dtype, x_lo, x_up, u_lo, u_up, forward_model, hover_thrust, dt)"
   ]
  },
  {
   "cell_type": "code",
   "execution_count": null,
   "metadata": {},
   "outputs": [],
   "source": [
    "u_traj = torch.zeros((300, 4)).double()\n",
    "u_traj[:, 3] = .71 * torch.ones(u_traj.shape[0])\n",
    "\n",
    "mag = np.pi/1000\n",
    "\n",
    "u_traj1 = u_traj.clone()\n",
    "u_traj1[:, 0] = mag * torch.sin(torch.linspace(0, np.pi, u_traj.shape[0]))\n",
    "\n",
    "u_traj2 = u_traj.clone()\n",
    "u_traj2[:, 0] = -mag * torch.sin(torch.linspace(0, np.pi, u_traj.shape[0]))\n",
    "\n",
    "u_traj3 = u_traj.clone()\n",
    "u_traj3[:, 1] = mag * torch.sin(torch.linspace(0, np.pi, u_traj.shape[0]))\n",
    "\n",
    "u_traj4 = u_traj.clone()\n",
    "u_traj4[:, 1] = -mag * torch.sin(torch.linspace(0, np.pi, u_traj.shape[0]))"
   ]
  },
  {
   "cell_type": "code",
   "execution_count": null,
   "metadata": {},
   "outputs": [],
   "source": [
    "xx_traj = []\n",
    "for u_traj in [u_traj1, u_traj2, u_traj3, u_traj4]:\n",
    "    x_traj = [torch.tensor([0., 0., 0., 0., 0., 0., 0., 0., 0.], dtype=dtype)]\n",
    "    for n in range(u_traj.shape[0]):\n",
    "        x_traj.append(forward_system.step_forward(x_traj[-1], u_traj[n, :]))\n",
    "    x_traj = torch.cat([x.unsqueeze(0).detach() for x in x_traj])\n",
    "    xx_traj.append(x_traj)"
   ]
  },
  {
   "cell_type": "code",
   "execution_count": null,
   "metadata": {},
   "outputs": [],
   "source": [
    "fig = plt.figure()\n",
    "ax = fig.add_subplot(111)\n",
    "for x_traj in xx_traj:\n",
    "    plt.plot(x_traj[:, 0], x_traj[:, 1], 'b')\n",
    "    plt.plot(x_traj[0, 0], x_traj[0, 1], 'g.')\n",
    "    plt.plot(x_traj[-1, 0], x_traj[-1, 1], 'r*')\n",
    "ax.set_aspect('equal')\n",
    "plt.show()"
   ]
  },
  {
   "cell_type": "code",
   "execution_count": null,
   "metadata": {},
   "outputs": [],
   "source": [
    "u_traj = torch.zeros((300, 4)).double()\n",
    "u_traj[:, 3] = .72 * torch.ones(u_traj.shape[0])\n",
    "\n",
    "mag = np.pi/1000\n",
    "\n",
    "u_traj1 = u_traj.clone()\n",
    "u_traj1[:, 0] = mag * torch.sin(torch.linspace(0, np.pi, u_traj.shape[0]))\n",
    "u_traj1[:, 1] = mag * torch.sin(torch.linspace(0, np.pi, u_traj.shape[0]))\n",
    "\n",
    "u_traj2 = u_traj.clone()\n",
    "u_traj2[:, 0] = -mag * torch.sin(torch.linspace(0, np.pi, u_traj.shape[0]))\n",
    "u_traj2[:, 1] = -mag * torch.sin(torch.linspace(0, np.pi, u_traj.shape[0]))\n",
    "\n",
    "u_traj3 = u_traj.clone()\n",
    "u_traj3[:, 0] = -mag * torch.sin(torch.linspace(0, np.pi, u_traj.shape[0]))\n",
    "u_traj3[:, 1] = mag * torch.sin(torch.linspace(0, np.pi, u_traj.shape[0]))\n",
    "\n",
    "u_traj4 = u_traj.clone()\n",
    "u_traj4[:, 0] = mag * torch.sin(torch.linspace(0, np.pi, u_traj.shape[0]))\n",
    "u_traj4[:, 1] = -mag * torch.sin(torch.linspace(0, np.pi, u_traj.shape[0]))"
   ]
  },
  {
   "cell_type": "code",
   "execution_count": null,
   "metadata": {},
   "outputs": [],
   "source": [
    "xx_traj = []\n",
    "for u_traj in [u_traj1, u_traj2, u_traj3, u_traj4]:\n",
    "    x_traj = [torch.tensor([0., 0., 0., 0., 0., 0., 0., 0., 0.], dtype=dtype)]\n",
    "    for n in range(u_traj.shape[0]):\n",
    "        x_traj.append(forward_system.step_forward(x_traj[-1], u_traj[n, :]))\n",
    "    x_traj = torch.cat([x.unsqueeze(0).detach() for x in x_traj])\n",
    "    xx_traj.append(x_traj)"
   ]
  },
  {
   "cell_type": "code",
   "execution_count": null,
   "metadata": {},
   "outputs": [],
   "source": [
    "fig = plt.figure()\n",
    "ax = fig.add_subplot(111)\n",
    "for x_traj in xx_traj:\n",
    "    plt.plot(x_traj[:, 0], x_traj[:, 1], 'b')\n",
    "    plt.plot(x_traj[0, 0], x_traj[0, 1], 'g.')\n",
    "    plt.plot(x_traj[-1, 0], x_traj[-1, 1], 'r*')\n",
    "ax.set_aspect('equal')\n",
    "plt.show()"
   ]
  },
  {
   "cell_type": "code",
   "execution_count": null,
   "metadata": {},
   "outputs": [],
   "source": [
    "controller_model = torch.load('models/controller.pt')\n",
    "x_equilibrium = torch.tensor([0., 0., 0., 0., 0., 0., 0., 0., 0.], dtype=dtype)\n",
    "u_equilibrium = torch.tensor([0., 0., 0., .705], dtype=dtype)\n",
    "u_lo = torch.tensor([-np.pi/20, -np.pi/20, -np.pi/4, 0.70], dtype=dtype)\n",
    "u_up = torch.tensor([np.pi/20, np.pi/20, np.pi/4, 0.72], dtype=dtype)\n",
    "        \n",
    "def get_control(x_current):\n",
    "    u_current = (controller_model(x_current) - \n",
    "        controller_model(x_equilibrium) + u_equilibrium)\n",
    "    u_current = torch.min(torch.max(u_current, u_lo), u_up)\n",
    "    return u_current\n",
    "\n",
    "x_traj = [torch.tensor([0.01, 0.01, 0., 0., 0., 0., 0., 0., 0.], dtype=dtype)]\n",
    "for n in range(u_traj.shape[0]):\n",
    "    u = get_control(x_traj[-1])\n",
    "    x_traj.append(forward_system.step_forward(x_traj[-1], u))\n",
    "x_traj = torch.cat([x.unsqueeze(0).detach() for x in x_traj])"
   ]
  },
  {
   "cell_type": "code",
   "execution_count": null,
   "metadata": {},
   "outputs": [],
   "source": [
    "fig = plt.figure()\n",
    "ax = fig.add_subplot(111)\n",
    "plt.plot(x_traj[:, 0], x_traj[:, 1], 'b')\n",
    "plt.plot(x_traj[0, 0], x_traj[0, 1], 'g.')\n",
    "plt.plot(x_traj[-1, 0], x_traj[-1, 1], 'r*')\n",
    "ax.set_aspect('equal')\n",
    "plt.show()"
   ]
  }
 ],
 "metadata": {
  "kernelspec": {
   "display_name": "Python 3",
   "language": "python",
   "name": "python3"
  },
  "language_info": {
   "codemirror_mode": {
    "name": "ipython",
    "version": 3
   },
   "file_extension": ".py",
   "mimetype": "text/x-python",
   "name": "python",
   "nbconvert_exporter": "python",
   "pygments_lexer": "ipython3",
   "version": "3.8.6"
  }
 },
 "nbformat": 4,
 "nbformat_minor": 4
}
