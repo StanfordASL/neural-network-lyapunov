{
 "cells": [
  {
   "cell_type": "code",
   "execution_count": 1,
   "metadata": {},
   "outputs": [],
   "source": [
    "%load_ext autoreload\n",
    "%autoreload 2"
   ]
  },
  {
   "cell_type": "code",
   "execution_count": 2,
   "metadata": {},
   "outputs": [
    {
     "data": {
      "text/html": [
       "        <script type=\"text/javascript\">\n",
       "        window.PlotlyConfig = {MathJaxConfig: 'local'};\n",
       "        if (window.MathJax) {MathJax.Hub.Config({SVG: {font: \"STIX-Web\"}});}\n",
       "        if (typeof require !== 'undefined') {\n",
       "        require.undef(\"plotly\");\n",
       "        requirejs.config({\n",
       "            paths: {\n",
       "                'plotly': ['https://cdn.plot.ly/plotly-latest.min']\n",
       "            }\n",
       "        });\n",
       "        require(['plotly'], function(Plotly) {\n",
       "            window._Plotly = Plotly;\n",
       "        });\n",
       "        }\n",
       "        </script>\n",
       "        "
      ]
     },
     "metadata": {},
     "output_type": "display_data"
    }
   ],
   "source": [
    "import sys\n",
    "sys.path.append(\"..\")\n",
    "sys.path.append(\".\")\n",
    "import copy\n",
    "import torch\n",
    "import numpy as np\n",
    "import pickle\n",
    "from datetime import datetime\n",
    "import plotly\n",
    "import plotly.graph_objs as go\n",
    "plotly.offline.init_notebook_mode(connected=True)\n",
    "\n",
    "import robust_value_approx.utils as utils\n",
    "import plotting_utils\n",
    "import slip_utils"
   ]
  },
  {
   "cell_type": "code",
   "execution_count": 32,
   "metadata": {
    "scrolled": true
   },
   "outputs": [
    {
     "name": "stdout",
     "output_type": "stream",
     "text": [
      "Progress: [########################################] 100.0%\n",
      "8 hybrid modes created\n"
     ]
    }
   ],
   "source": [
    "vf, slip = slip_utils.get_value_function(torch.Tensor([0., 0., 0.]), N=3)"
   ]
  },
  {
   "cell_type": "code",
   "execution_count": 36,
   "metadata": {},
   "outputs": [
    {
     "name": "stdout",
     "output_type": "stream",
     "text": [
      "tensor([[0.4181, 0.4119, 0.4119]], dtype=torch.float64)\n"
     ]
    }
   ],
   "source": [
    "xf = torch.Tensor([2.5, 1.5, 0.])\n",
    "xtraj = xf.type(vf.dtype).unsqueeze(1).repeat(1, vf.N-1)\n",
    "vf.set_traj(xtraj=xtraj)\n",
    "\n",
    "x0 = torch.Tensor([0., 1., 3.]).type(vf.dtype)\n",
    "V = vf.get_value_function()\n",
    "(x_traj, u_traj, alpha_traj) = vf.sol_to_traj(x0, *V(x0)[1:])\n",
    "\n",
    "print(u_traj)"
   ]
  },
  {
   "cell_type": "code",
   "execution_count": null,
   "metadata": {},
   "outputs": [],
   "source": [
    "x0_slip = torch.cat((x0, torch.Tensor([0.]).type(vf.dtype))).squeeze().numpy()\n",
    "theta_step = u_traj.squeeze().numpy()\n",
    "\n",
    "slip_apex_x = [x0[0]]\n",
    "slip_apex_y = [x0[1]]\n",
    "slip_apex_xdot = [x0[2]]\n",
    "for theta in theta_step[:-1]:\n",
    "    (next_x, next_y, next_xdot, _) = slip.apex_map(slip_apex_x[-1], slip_apex_y[-1], slip_apex_xdot[-1], theta)\n",
    "    slip_apex_x.append(next_x)\n",
    "    slip_apex_y.append(next_y)\n",
    "    slip_apex_xdot.append(next_xdot)\n",
    "\n",
    "sol = slip.simulate(x0_slip, theta_step)\n",
    "slip_x = []\n",
    "slip_y = []\n",
    "for step in range(int(len(sol)/2)):\n",
    "    slip_x.extend(sol[2 * step].y[0])\n",
    "    slip_y.extend(sol[2 * step].y[1])\n",
    "    slip_r = np.array(sol[2 * step + 1].y[0])\n",
    "    slip_theta = np.array(sol[2 * step + 1].y[1])\n",
    "    slip_x_foot = np.array(sol[2 * step + 1].y[4])\n",
    "    slip_x.extend(list(slip_x_foot - slip_r * np.sin(slip_theta)))\n",
    "    slip_y.extend(list(slip_r * np.cos(slip_theta)))\n",
    "    \n",
    "fig = go.Figure()\n",
    "fig.add_trace(go.Scatter(\n",
    "    x=[xf[0]],\n",
    "    y=[xf[1]],\n",
    "    mode='markers',\n",
    "    name='Goal',\n",
    "    marker=dict(\n",
    "        size=15,\n",
    "        color=3),\n",
    "))\n",
    "fig.add_trace(go.Scatter(\n",
    "    x=slip_x,\n",
    "    y=slip_y,\n",
    "    name=\"SLIP\"))\n",
    "fig.add_trace(go.Scatter(\n",
    "    x=slip_apex_x,\n",
    "    y=slip_apex_y,\n",
    "    mode='markers',\n",
    "    name='SLIP Apex',\n",
    "    marker=dict(\n",
    "        size=10,\n",
    "        color=4),\n",
    "))\n",
    "fig.add_trace(go.Scatter(\n",
    "    x=x_traj[0,:],\n",
    "    y=x_traj[1,:],\n",
    "    mode='markers',\n",
    "    name='PL-model',\n",
    "    marker=dict(\n",
    "        size=10,\n",
    "        color=3),\n",
    "))\n",
    "fig.show()"
   ]
  }
 ],
 "metadata": {
  "kernelspec": {
   "display_name": "Python 3",
   "language": "python",
   "name": "python3"
  },
  "language_info": {
   "codemirror_mode": {
    "name": "ipython",
    "version": 3
   },
   "file_extension": ".py",
   "mimetype": "text/x-python",
   "name": "python",
   "nbconvert_exporter": "python",
   "pygments_lexer": "ipython3",
   "version": "3.7.5"
  }
 },
 "nbformat": 4,
 "nbformat_minor": 2
}
