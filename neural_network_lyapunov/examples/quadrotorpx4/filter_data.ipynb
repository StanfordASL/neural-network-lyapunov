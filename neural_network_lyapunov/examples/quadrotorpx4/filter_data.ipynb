{
 "cells": [
  {
   "cell_type": "code",
   "execution_count": null,
   "metadata": {},
   "outputs": [],
   "source": [
    "%load_ext autoreload\n",
    "%autoreload 2"
   ]
  },
  {
   "cell_type": "code",
   "execution_count": null,
   "metadata": {},
   "outputs": [],
   "source": [
    "%matplotlib widget\n",
    "\n",
    "import torch\n",
    "import numpy as np\n",
    "import matplotlib.pyplot as plt\n",
    "from scipy import signal\n",
    "import wandb"
   ]
  },
  {
   "cell_type": "code",
   "execution_count": null,
   "metadata": {},
   "outputs": [],
   "source": [
    "dtype = torch.float64\n",
    "\n",
    "data_files = ['data/raw_data_6.npy',]\n",
    "\n",
    "# d = [time, x, y, z, dx, dy, dz, roll, pitch, yaw, roll_sp, pitch_sp, yaw_sp, thrust_sp]\n",
    "d = []\n",
    "for data_file in data_files:\n",
    "    with open(data_file, 'rb') as f:\n",
    "        d.append(torch.tensor(np.load(f), dtype=dtype))\n",
    "\n",
    "d = torch.cat(d, dim=0)"
   ]
  },
  {
   "cell_type": "code",
   "execution_count": null,
   "metadata": {},
   "outputs": [],
   "source": [
    "fig = plt.figure()\n",
    "ax = fig.add_subplot(111, projection='3d')\n",
    "ax.scatter(d[:, 1], d[:, 2], d[:, 3])\n",
    "plt.show()"
   ]
  },
  {
   "cell_type": "code",
   "execution_count": null,
   "metadata": {},
   "outputs": [],
   "source": [
    "fig = plt.figure()\n",
    "plt.plot(d[1:, 7], '.-')\n",
    "plt.plot(d[:-1, 10], '.-')\n",
    "plt.legend(['angle', 'setpoint'])\n",
    "plt.show()"
   ]
  },
  {
   "cell_type": "code",
   "execution_count": null,
   "metadata": {},
   "outputs": [],
   "source": [
    "step_size = 1\n",
    "\n",
    "# d = [time, x, y, z, dx, dy, dz, roll, pitch, yaw, roll_sp, pitch_sp, yaw_sp, thrust_sp]\n",
    "rpy = d[:-step_size, 7:10].clone()\n",
    "u = d[:-step_size, 10:14].clone()\n",
    "dvel = d[step_size:, 4:7].clone() - d[:-step_size, 4:7].clone()\n",
    "drpy = d[step_size:, 7:10].clone() - d[:-step_size, 7:10].clone()\n",
    "dt = d[step_size:, 0].clone() - d[:-step_size, 0].clone()\n",
    "\n",
    "good_samples = dt < 1.\n",
    "rpy = rpy[good_samples, :]\n",
    "u = u[good_samples, :]\n",
    "dvel = dvel[good_samples, :]\n",
    "drpy = drpy[good_samples, :]\n",
    "dt = dt[good_samples]\n",
    "\n",
    "b, a = signal.butter(4, .4)\n",
    "\n",
    "data_raw = torch.cat([rpy, u], dim=1)\n",
    "# data = torch.tensor(signal.filtfilt(b, a, data_raw.T).T.copy(), dtype=dtype)\n",
    "data = data_raw\n",
    "\n",
    "labels_raw = torch.cat([dvel, drpy], dim=1)\n",
    "# labels = torch.tensor(signal.filtfilt(b, a, labels_raw.T).T.copy(), dtype=dtype)\n",
    "labels = labels_raw"
   ]
  },
  {
   "cell_type": "code",
   "execution_count": null,
   "metadata": {},
   "outputs": [],
   "source": [
    "fig = plt.figure()\n",
    "plt.plot(labels_raw[:100, i], '.')\n",
    "plt.plot(labels[:100, 3], '-')\n",
    "plt.legend(['raw', 'filtered'])\n",
    "plt.show()"
   ]
  },
  {
   "cell_type": "code",
   "execution_count": null,
   "metadata": {},
   "outputs": [],
   "source": [
    "dt = torch.mean(dt)\n",
    "print(dt)"
   ]
  },
  {
   "cell_type": "code",
   "execution_count": null,
   "metadata": {},
   "outputs": [],
   "source": [
    "labels_std = torch.std(labels, dim=0)\n",
    "print(labels_std)"
   ]
  },
  {
   "cell_type": "code",
   "execution_count": null,
   "metadata": {},
   "outputs": [],
   "source": [
    "print(labels.shape)"
   ]
  },
  {
   "cell_type": "code",
   "execution_count": null,
   "metadata": {},
   "outputs": [],
   "source": [
    "torch.save((data, labels), 'data/px4_data.pt')"
   ]
  }
 ],
 "metadata": {
  "kernelspec": {
   "display_name": "Python 3",
   "language": "python",
   "name": "python3"
  },
  "language_info": {
   "codemirror_mode": {
    "name": "ipython",
    "version": 3
   },
   "file_extension": ".py",
   "mimetype": "text/x-python",
   "name": "python",
   "nbconvert_exporter": "python",
   "pygments_lexer": "ipython3",
   "version": "3.8.6"
  }
 },
 "nbformat": 4,
 "nbformat_minor": 4
}
