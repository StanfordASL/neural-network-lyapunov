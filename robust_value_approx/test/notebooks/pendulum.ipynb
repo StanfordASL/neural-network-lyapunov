{
 "cells": [
  {
   "cell_type": "markdown",
   "metadata": {},
   "source": [
    "# Pendulum"
   ]
  },
  {
   "cell_type": "code",
   "execution_count": 1,
   "metadata": {},
   "outputs": [],
   "source": [
    "%load_ext autoreload\n",
    "%autoreload 2"
   ]
  },
  {
   "cell_type": "code",
   "execution_count": 3,
   "metadata": {
    "scrolled": true
   },
   "outputs": [
    {
     "data": {
      "text/html": [
       "        <script type=\"text/javascript\">\n",
       "        window.PlotlyConfig = {MathJaxConfig: 'local'};\n",
       "        if (window.MathJax) {MathJax.Hub.Config({SVG: {font: \"STIX-Web\"}});}\n",
       "        if (typeof require !== 'undefined') {\n",
       "        require.undef(\"plotly\");\n",
       "        requirejs.config({\n",
       "            paths: {\n",
       "                'plotly': ['https://cdn.plot.ly/plotly-latest.min']\n",
       "            }\n",
       "        });\n",
       "        require(['plotly'], function(Plotly) {\n",
       "            window._Plotly = Plotly;\n",
       "        });\n",
       "        }\n",
       "        </script>\n",
       "        "
      ]
     },
     "metadata": {},
     "output_type": "display_data"
    }
   ],
   "source": [
    "import sys\n",
    "sys.path.append(\"..\")\n",
    "sys.path.append(\".\")\n",
    "import torch\n",
    "import numpy as np\n",
    "import copy\n",
    "import plotly\n",
    "import plotly.graph_objs as go\n",
    "import pickle\n",
    "from datetime import datetime\n",
    "plotly.offline.init_notebook_mode(connected=True)\n",
    "\n",
    "import robust_value_approx.samples_generator as samples_generator\n",
    "import robust_value_approx.samples_buffer as samples_buffer\n",
    "import robust_value_approx.value_approximation as value_approximation\n",
    "import robust_value_approx.training_log as training_log\n",
    "import robust_value_approx.controllers as controllers\n",
    "\n",
    "from pendulum_utils import get_value_function"
   ]
  },
  {
   "cell_type": "code",
   "execution_count": 4,
   "metadata": {},
   "outputs": [],
   "source": [
    "offline_horizon = 10\n",
    "vf, sys = get_value_function(offline_horizon)\n",
    "V = vf.get_value_function()"
   ]
  },
  {
   "cell_type": "code",
   "execution_count": 5,
   "metadata": {},
   "outputs": [
    {
     "data": {
      "application/vnd.plotly.v1+json": {
       "config": {
        "plotlyServerURL": "https://plot.ly"
       },
       "data": [
        {
         "name": "theta",
         "type": "scatter",
         "x": [
          0,
          0.20000000298023224,
          0.4000000059604645,
          0.6000000089406967,
          0.800000011920929,
          1.0000000149011612,
          1.2000000178813934,
          1.4000000208616257,
          1.600000023841858,
          1.8000000268220901
         ],
         "y": [
          4.641592502593994,
          4.654799461364746,
          4.351137638092041,
          3.9443531036376953,
          3.6258068084716797,
          3.4194130897521973,
          3.297583818435669,
          3.2300829887390137,
          3.195932388305664,
          3.18341064453125
         ]
        },
        {
         "name": "theta_dot",
         "type": "scatter",
         "x": [
          0,
          0.20000000298023224,
          0.4000000059604645,
          0.6000000089406967,
          0.800000011920929,
          1.0000000149011612,
          1.2000000178813934,
          1.4000000208616257,
          1.600000023841858,
          1.8000000268220901
         ],
         "y": [
          1,
          -0.8679298162460327,
          -2.1686880588531494,
          -1.8991572856903076,
          -1.2863072156906128,
          -0.7776294350624084,
          -0.44066229462623596,
          -0.23434576392173767,
          -0.10716017335653305,
          -0.01805790141224861
         ]
        }
       ],
       "layout": {
        "template": {
         "data": {
          "bar": [
           {
            "error_x": {
             "color": "#2a3f5f"
            },
            "error_y": {
             "color": "#2a3f5f"
            },
            "marker": {
             "line": {
              "color": "#E5ECF6",
              "width": 0.5
             }
            },
            "type": "bar"
           }
          ],
          "barpolar": [
           {
            "marker": {
             "line": {
              "color": "#E5ECF6",
              "width": 0.5
             }
            },
            "type": "barpolar"
           }
          ],
          "carpet": [
           {
            "aaxis": {
             "endlinecolor": "#2a3f5f",
             "gridcolor": "white",
             "linecolor": "white",
             "minorgridcolor": "white",
             "startlinecolor": "#2a3f5f"
            },
            "baxis": {
             "endlinecolor": "#2a3f5f",
             "gridcolor": "white",
             "linecolor": "white",
             "minorgridcolor": "white",
             "startlinecolor": "#2a3f5f"
            },
            "type": "carpet"
           }
          ],
          "choropleth": [
           {
            "colorbar": {
             "outlinewidth": 0,
             "ticks": ""
            },
            "type": "choropleth"
           }
          ],
          "contour": [
           {
            "colorbar": {
             "outlinewidth": 0,
             "ticks": ""
            },
            "colorscale": [
             [
              0,
              "#0d0887"
             ],
             [
              0.1111111111111111,
              "#46039f"
             ],
             [
              0.2222222222222222,
              "#7201a8"
             ],
             [
              0.3333333333333333,
              "#9c179e"
             ],
             [
              0.4444444444444444,
              "#bd3786"
             ],
             [
              0.5555555555555556,
              "#d8576b"
             ],
             [
              0.6666666666666666,
              "#ed7953"
             ],
             [
              0.7777777777777778,
              "#fb9f3a"
             ],
             [
              0.8888888888888888,
              "#fdca26"
             ],
             [
              1,
              "#f0f921"
             ]
            ],
            "type": "contour"
           }
          ],
          "contourcarpet": [
           {
            "colorbar": {
             "outlinewidth": 0,
             "ticks": ""
            },
            "type": "contourcarpet"
           }
          ],
          "heatmap": [
           {
            "colorbar": {
             "outlinewidth": 0,
             "ticks": ""
            },
            "colorscale": [
             [
              0,
              "#0d0887"
             ],
             [
              0.1111111111111111,
              "#46039f"
             ],
             [
              0.2222222222222222,
              "#7201a8"
             ],
             [
              0.3333333333333333,
              "#9c179e"
             ],
             [
              0.4444444444444444,
              "#bd3786"
             ],
             [
              0.5555555555555556,
              "#d8576b"
             ],
             [
              0.6666666666666666,
              "#ed7953"
             ],
             [
              0.7777777777777778,
              "#fb9f3a"
             ],
             [
              0.8888888888888888,
              "#fdca26"
             ],
             [
              1,
              "#f0f921"
             ]
            ],
            "type": "heatmap"
           }
          ],
          "heatmapgl": [
           {
            "colorbar": {
             "outlinewidth": 0,
             "ticks": ""
            },
            "colorscale": [
             [
              0,
              "#0d0887"
             ],
             [
              0.1111111111111111,
              "#46039f"
             ],
             [
              0.2222222222222222,
              "#7201a8"
             ],
             [
              0.3333333333333333,
              "#9c179e"
             ],
             [
              0.4444444444444444,
              "#bd3786"
             ],
             [
              0.5555555555555556,
              "#d8576b"
             ],
             [
              0.6666666666666666,
              "#ed7953"
             ],
             [
              0.7777777777777778,
              "#fb9f3a"
             ],
             [
              0.8888888888888888,
              "#fdca26"
             ],
             [
              1,
              "#f0f921"
             ]
            ],
            "type": "heatmapgl"
           }
          ],
          "histogram": [
           {
            "marker": {
             "colorbar": {
              "outlinewidth": 0,
              "ticks": ""
             }
            },
            "type": "histogram"
           }
          ],
          "histogram2d": [
           {
            "colorbar": {
             "outlinewidth": 0,
             "ticks": ""
            },
            "colorscale": [
             [
              0,
              "#0d0887"
             ],
             [
              0.1111111111111111,
              "#46039f"
             ],
             [
              0.2222222222222222,
              "#7201a8"
             ],
             [
              0.3333333333333333,
              "#9c179e"
             ],
             [
              0.4444444444444444,
              "#bd3786"
             ],
             [
              0.5555555555555556,
              "#d8576b"
             ],
             [
              0.6666666666666666,
              "#ed7953"
             ],
             [
              0.7777777777777778,
              "#fb9f3a"
             ],
             [
              0.8888888888888888,
              "#fdca26"
             ],
             [
              1,
              "#f0f921"
             ]
            ],
            "type": "histogram2d"
           }
          ],
          "histogram2dcontour": [
           {
            "colorbar": {
             "outlinewidth": 0,
             "ticks": ""
            },
            "colorscale": [
             [
              0,
              "#0d0887"
             ],
             [
              0.1111111111111111,
              "#46039f"
             ],
             [
              0.2222222222222222,
              "#7201a8"
             ],
             [
              0.3333333333333333,
              "#9c179e"
             ],
             [
              0.4444444444444444,
              "#bd3786"
             ],
             [
              0.5555555555555556,
              "#d8576b"
             ],
             [
              0.6666666666666666,
              "#ed7953"
             ],
             [
              0.7777777777777778,
              "#fb9f3a"
             ],
             [
              0.8888888888888888,
              "#fdca26"
             ],
             [
              1,
              "#f0f921"
             ]
            ],
            "type": "histogram2dcontour"
           }
          ],
          "mesh3d": [
           {
            "colorbar": {
             "outlinewidth": 0,
             "ticks": ""
            },
            "type": "mesh3d"
           }
          ],
          "parcoords": [
           {
            "line": {
             "colorbar": {
              "outlinewidth": 0,
              "ticks": ""
             }
            },
            "type": "parcoords"
           }
          ],
          "pie": [
           {
            "automargin": true,
            "type": "pie"
           }
          ],
          "scatter": [
           {
            "marker": {
             "colorbar": {
              "outlinewidth": 0,
              "ticks": ""
             }
            },
            "type": "scatter"
           }
          ],
          "scatter3d": [
           {
            "line": {
             "colorbar": {
              "outlinewidth": 0,
              "ticks": ""
             }
            },
            "marker": {
             "colorbar": {
              "outlinewidth": 0,
              "ticks": ""
             }
            },
            "type": "scatter3d"
           }
          ],
          "scattercarpet": [
           {
            "marker": {
             "colorbar": {
              "outlinewidth": 0,
              "ticks": ""
             }
            },
            "type": "scattercarpet"
           }
          ],
          "scattergeo": [
           {
            "marker": {
             "colorbar": {
              "outlinewidth": 0,
              "ticks": ""
             }
            },
            "type": "scattergeo"
           }
          ],
          "scattergl": [
           {
            "marker": {
             "colorbar": {
              "outlinewidth": 0,
              "ticks": ""
             }
            },
            "type": "scattergl"
           }
          ],
          "scattermapbox": [
           {
            "marker": {
             "colorbar": {
              "outlinewidth": 0,
              "ticks": ""
             }
            },
            "type": "scattermapbox"
           }
          ],
          "scatterpolar": [
           {
            "marker": {
             "colorbar": {
              "outlinewidth": 0,
              "ticks": ""
             }
            },
            "type": "scatterpolar"
           }
          ],
          "scatterpolargl": [
           {
            "marker": {
             "colorbar": {
              "outlinewidth": 0,
              "ticks": ""
             }
            },
            "type": "scatterpolargl"
           }
          ],
          "scatterternary": [
           {
            "marker": {
             "colorbar": {
              "outlinewidth": 0,
              "ticks": ""
             }
            },
            "type": "scatterternary"
           }
          ],
          "surface": [
           {
            "colorbar": {
             "outlinewidth": 0,
             "ticks": ""
            },
            "colorscale": [
             [
              0,
              "#0d0887"
             ],
             [
              0.1111111111111111,
              "#46039f"
             ],
             [
              0.2222222222222222,
              "#7201a8"
             ],
             [
              0.3333333333333333,
              "#9c179e"
             ],
             [
              0.4444444444444444,
              "#bd3786"
             ],
             [
              0.5555555555555556,
              "#d8576b"
             ],
             [
              0.6666666666666666,
              "#ed7953"
             ],
             [
              0.7777777777777778,
              "#fb9f3a"
             ],
             [
              0.8888888888888888,
              "#fdca26"
             ],
             [
              1,
              "#f0f921"
             ]
            ],
            "type": "surface"
           }
          ],
          "table": [
           {
            "cells": {
             "fill": {
              "color": "#EBF0F8"
             },
             "line": {
              "color": "white"
             }
            },
            "header": {
             "fill": {
              "color": "#C8D4E3"
             },
             "line": {
              "color": "white"
             }
            },
            "type": "table"
           }
          ]
         },
         "layout": {
          "annotationdefaults": {
           "arrowcolor": "#2a3f5f",
           "arrowhead": 0,
           "arrowwidth": 1
          },
          "coloraxis": {
           "colorbar": {
            "outlinewidth": 0,
            "ticks": ""
           }
          },
          "colorscale": {
           "diverging": [
            [
             0,
             "#8e0152"
            ],
            [
             0.1,
             "#c51b7d"
            ],
            [
             0.2,
             "#de77ae"
            ],
            [
             0.3,
             "#f1b6da"
            ],
            [
             0.4,
             "#fde0ef"
            ],
            [
             0.5,
             "#f7f7f7"
            ],
            [
             0.6,
             "#e6f5d0"
            ],
            [
             0.7,
             "#b8e186"
            ],
            [
             0.8,
             "#7fbc41"
            ],
            [
             0.9,
             "#4d9221"
            ],
            [
             1,
             "#276419"
            ]
           ],
           "sequential": [
            [
             0,
             "#0d0887"
            ],
            [
             0.1111111111111111,
             "#46039f"
            ],
            [
             0.2222222222222222,
             "#7201a8"
            ],
            [
             0.3333333333333333,
             "#9c179e"
            ],
            [
             0.4444444444444444,
             "#bd3786"
            ],
            [
             0.5555555555555556,
             "#d8576b"
            ],
            [
             0.6666666666666666,
             "#ed7953"
            ],
            [
             0.7777777777777778,
             "#fb9f3a"
            ],
            [
             0.8888888888888888,
             "#fdca26"
            ],
            [
             1,
             "#f0f921"
            ]
           ],
           "sequentialminus": [
            [
             0,
             "#0d0887"
            ],
            [
             0.1111111111111111,
             "#46039f"
            ],
            [
             0.2222222222222222,
             "#7201a8"
            ],
            [
             0.3333333333333333,
             "#9c179e"
            ],
            [
             0.4444444444444444,
             "#bd3786"
            ],
            [
             0.5555555555555556,
             "#d8576b"
            ],
            [
             0.6666666666666666,
             "#ed7953"
            ],
            [
             0.7777777777777778,
             "#fb9f3a"
            ],
            [
             0.8888888888888888,
             "#fdca26"
            ],
            [
             1,
             "#f0f921"
            ]
           ]
          },
          "colorway": [
           "#636efa",
           "#EF553B",
           "#00cc96",
           "#ab63fa",
           "#FFA15A",
           "#19d3f3",
           "#FF6692",
           "#B6E880",
           "#FF97FF",
           "#FECB52"
          ],
          "font": {
           "color": "#2a3f5f"
          },
          "geo": {
           "bgcolor": "white",
           "lakecolor": "white",
           "landcolor": "#E5ECF6",
           "showlakes": true,
           "showland": true,
           "subunitcolor": "white"
          },
          "hoverlabel": {
           "align": "left"
          },
          "hovermode": "closest",
          "mapbox": {
           "style": "light"
          },
          "paper_bgcolor": "white",
          "plot_bgcolor": "#E5ECF6",
          "polar": {
           "angularaxis": {
            "gridcolor": "white",
            "linecolor": "white",
            "ticks": ""
           },
           "bgcolor": "#E5ECF6",
           "radialaxis": {
            "gridcolor": "white",
            "linecolor": "white",
            "ticks": ""
           }
          },
          "scene": {
           "xaxis": {
            "backgroundcolor": "#E5ECF6",
            "gridcolor": "white",
            "gridwidth": 2,
            "linecolor": "white",
            "showbackground": true,
            "ticks": "",
            "zerolinecolor": "white"
           },
           "yaxis": {
            "backgroundcolor": "#E5ECF6",
            "gridcolor": "white",
            "gridwidth": 2,
            "linecolor": "white",
            "showbackground": true,
            "ticks": "",
            "zerolinecolor": "white"
           },
           "zaxis": {
            "backgroundcolor": "#E5ECF6",
            "gridcolor": "white",
            "gridwidth": 2,
            "linecolor": "white",
            "showbackground": true,
            "ticks": "",
            "zerolinecolor": "white"
           }
          },
          "shapedefaults": {
           "line": {
            "color": "#2a3f5f"
           }
          },
          "ternary": {
           "aaxis": {
            "gridcolor": "white",
            "linecolor": "white",
            "ticks": ""
           },
           "baxis": {
            "gridcolor": "white",
            "linecolor": "white",
            "ticks": ""
           },
           "bgcolor": "#E5ECF6",
           "caxis": {
            "gridcolor": "white",
            "linecolor": "white",
            "ticks": ""
           }
          },
          "title": {
           "x": 0.05
          },
          "xaxis": {
           "automargin": true,
           "gridcolor": "white",
           "linecolor": "white",
           "ticks": "",
           "title": {
            "standoff": 15
           },
           "zerolinecolor": "white",
           "zerolinewidth": 2
          },
          "yaxis": {
           "automargin": true,
           "gridcolor": "white",
           "linecolor": "white",
           "ticks": "",
           "title": {
            "standoff": 15
           },
           "zerolinecolor": "white",
           "zerolinewidth": 2
          }
         }
        }
       }
      },
      "text/html": [
       "<div>\n",
       "        \n",
       "        \n",
       "            <div id=\"01190e8e-c50d-48db-9eee-205026ce1639\" class=\"plotly-graph-div\" style=\"height:525px; width:100%;\"></div>\n",
       "            <script type=\"text/javascript\">\n",
       "                require([\"plotly\"], function(Plotly) {\n",
       "                    window.PLOTLYENV=window.PLOTLYENV || {};\n",
       "                    \n",
       "                if (document.getElementById(\"01190e8e-c50d-48db-9eee-205026ce1639\")) {\n",
       "                    Plotly.newPlot(\n",
       "                        '01190e8e-c50d-48db-9eee-205026ce1639',\n",
       "                        [{\"name\": \"theta\", \"type\": \"scatter\", \"x\": [0.0, 0.20000000298023224, 0.4000000059604645, 0.6000000089406967, 0.800000011920929, 1.0000000149011612, 1.2000000178813934, 1.4000000208616257, 1.600000023841858, 1.8000000268220901], \"y\": [4.641592502593994, 4.654799461364746, 4.351137638092041, 3.9443531036376953, 3.6258068084716797, 3.4194130897521973, 3.297583818435669, 3.2300829887390137, 3.195932388305664, 3.18341064453125]}, {\"name\": \"theta_dot\", \"type\": \"scatter\", \"x\": [0.0, 0.20000000298023224, 0.4000000059604645, 0.6000000089406967, 0.800000011920929, 1.0000000149011612, 1.2000000178813934, 1.4000000208616257, 1.600000023841858, 1.8000000268220901], \"y\": [1.0, -0.8679298162460327, -2.1686880588531494, -1.8991572856903076, -1.2863072156906128, -0.7776294350624084, -0.44066229462623596, -0.23434576392173767, -0.10716017335653305, -0.01805790141224861]}],\n",
       "                        {\"template\": {\"data\": {\"bar\": [{\"error_x\": {\"color\": \"#2a3f5f\"}, \"error_y\": {\"color\": \"#2a3f5f\"}, \"marker\": {\"line\": {\"color\": \"#E5ECF6\", \"width\": 0.5}}, \"type\": \"bar\"}], \"barpolar\": [{\"marker\": {\"line\": {\"color\": \"#E5ECF6\", \"width\": 0.5}}, \"type\": \"barpolar\"}], \"carpet\": [{\"aaxis\": {\"endlinecolor\": \"#2a3f5f\", \"gridcolor\": \"white\", \"linecolor\": \"white\", \"minorgridcolor\": \"white\", \"startlinecolor\": \"#2a3f5f\"}, \"baxis\": {\"endlinecolor\": \"#2a3f5f\", \"gridcolor\": \"white\", \"linecolor\": \"white\", \"minorgridcolor\": \"white\", \"startlinecolor\": \"#2a3f5f\"}, \"type\": \"carpet\"}], \"choropleth\": [{\"colorbar\": {\"outlinewidth\": 0, \"ticks\": \"\"}, \"type\": \"choropleth\"}], \"contour\": [{\"colorbar\": {\"outlinewidth\": 0, \"ticks\": \"\"}, \"colorscale\": [[0.0, \"#0d0887\"], [0.1111111111111111, \"#46039f\"], [0.2222222222222222, \"#7201a8\"], [0.3333333333333333, \"#9c179e\"], [0.4444444444444444, \"#bd3786\"], [0.5555555555555556, \"#d8576b\"], [0.6666666666666666, \"#ed7953\"], [0.7777777777777778, \"#fb9f3a\"], [0.8888888888888888, \"#fdca26\"], [1.0, \"#f0f921\"]], \"type\": \"contour\"}], \"contourcarpet\": [{\"colorbar\": {\"outlinewidth\": 0, \"ticks\": \"\"}, \"type\": \"contourcarpet\"}], \"heatmap\": [{\"colorbar\": {\"outlinewidth\": 0, \"ticks\": \"\"}, \"colorscale\": [[0.0, \"#0d0887\"], [0.1111111111111111, \"#46039f\"], [0.2222222222222222, \"#7201a8\"], [0.3333333333333333, \"#9c179e\"], [0.4444444444444444, \"#bd3786\"], [0.5555555555555556, \"#d8576b\"], [0.6666666666666666, \"#ed7953\"], [0.7777777777777778, \"#fb9f3a\"], [0.8888888888888888, \"#fdca26\"], [1.0, \"#f0f921\"]], \"type\": \"heatmap\"}], \"heatmapgl\": [{\"colorbar\": {\"outlinewidth\": 0, \"ticks\": \"\"}, \"colorscale\": [[0.0, \"#0d0887\"], [0.1111111111111111, \"#46039f\"], [0.2222222222222222, \"#7201a8\"], [0.3333333333333333, \"#9c179e\"], [0.4444444444444444, \"#bd3786\"], [0.5555555555555556, \"#d8576b\"], [0.6666666666666666, \"#ed7953\"], [0.7777777777777778, \"#fb9f3a\"], [0.8888888888888888, \"#fdca26\"], [1.0, \"#f0f921\"]], \"type\": \"heatmapgl\"}], \"histogram\": [{\"marker\": {\"colorbar\": {\"outlinewidth\": 0, \"ticks\": \"\"}}, \"type\": \"histogram\"}], \"histogram2d\": [{\"colorbar\": {\"outlinewidth\": 0, \"ticks\": \"\"}, \"colorscale\": [[0.0, \"#0d0887\"], [0.1111111111111111, \"#46039f\"], [0.2222222222222222, \"#7201a8\"], [0.3333333333333333, \"#9c179e\"], [0.4444444444444444, \"#bd3786\"], [0.5555555555555556, \"#d8576b\"], [0.6666666666666666, \"#ed7953\"], [0.7777777777777778, \"#fb9f3a\"], [0.8888888888888888, \"#fdca26\"], [1.0, \"#f0f921\"]], \"type\": \"histogram2d\"}], \"histogram2dcontour\": [{\"colorbar\": {\"outlinewidth\": 0, \"ticks\": \"\"}, \"colorscale\": [[0.0, \"#0d0887\"], [0.1111111111111111, \"#46039f\"], [0.2222222222222222, \"#7201a8\"], [0.3333333333333333, \"#9c179e\"], [0.4444444444444444, \"#bd3786\"], [0.5555555555555556, \"#d8576b\"], [0.6666666666666666, \"#ed7953\"], [0.7777777777777778, \"#fb9f3a\"], [0.8888888888888888, \"#fdca26\"], [1.0, \"#f0f921\"]], \"type\": \"histogram2dcontour\"}], \"mesh3d\": [{\"colorbar\": {\"outlinewidth\": 0, \"ticks\": \"\"}, \"type\": \"mesh3d\"}], \"parcoords\": [{\"line\": {\"colorbar\": {\"outlinewidth\": 0, \"ticks\": \"\"}}, \"type\": \"parcoords\"}], \"pie\": [{\"automargin\": true, \"type\": \"pie\"}], \"scatter\": [{\"marker\": {\"colorbar\": {\"outlinewidth\": 0, \"ticks\": \"\"}}, \"type\": \"scatter\"}], \"scatter3d\": [{\"line\": {\"colorbar\": {\"outlinewidth\": 0, \"ticks\": \"\"}}, \"marker\": {\"colorbar\": {\"outlinewidth\": 0, \"ticks\": \"\"}}, \"type\": \"scatter3d\"}], \"scattercarpet\": [{\"marker\": {\"colorbar\": {\"outlinewidth\": 0, \"ticks\": \"\"}}, \"type\": \"scattercarpet\"}], \"scattergeo\": [{\"marker\": {\"colorbar\": {\"outlinewidth\": 0, \"ticks\": \"\"}}, \"type\": \"scattergeo\"}], \"scattergl\": [{\"marker\": {\"colorbar\": {\"outlinewidth\": 0, \"ticks\": \"\"}}, \"type\": \"scattergl\"}], \"scattermapbox\": [{\"marker\": {\"colorbar\": {\"outlinewidth\": 0, \"ticks\": \"\"}}, \"type\": \"scattermapbox\"}], \"scatterpolar\": [{\"marker\": {\"colorbar\": {\"outlinewidth\": 0, \"ticks\": \"\"}}, \"type\": \"scatterpolar\"}], \"scatterpolargl\": [{\"marker\": {\"colorbar\": {\"outlinewidth\": 0, \"ticks\": \"\"}}, \"type\": \"scatterpolargl\"}], \"scatterternary\": [{\"marker\": {\"colorbar\": {\"outlinewidth\": 0, \"ticks\": \"\"}}, \"type\": \"scatterternary\"}], \"surface\": [{\"colorbar\": {\"outlinewidth\": 0, \"ticks\": \"\"}, \"colorscale\": [[0.0, \"#0d0887\"], [0.1111111111111111, \"#46039f\"], [0.2222222222222222, \"#7201a8\"], [0.3333333333333333, \"#9c179e\"], [0.4444444444444444, \"#bd3786\"], [0.5555555555555556, \"#d8576b\"], [0.6666666666666666, \"#ed7953\"], [0.7777777777777778, \"#fb9f3a\"], [0.8888888888888888, \"#fdca26\"], [1.0, \"#f0f921\"]], \"type\": \"surface\"}], \"table\": [{\"cells\": {\"fill\": {\"color\": \"#EBF0F8\"}, \"line\": {\"color\": \"white\"}}, \"header\": {\"fill\": {\"color\": \"#C8D4E3\"}, \"line\": {\"color\": \"white\"}}, \"type\": \"table\"}]}, \"layout\": {\"annotationdefaults\": {\"arrowcolor\": \"#2a3f5f\", \"arrowhead\": 0, \"arrowwidth\": 1}, \"coloraxis\": {\"colorbar\": {\"outlinewidth\": 0, \"ticks\": \"\"}}, \"colorscale\": {\"diverging\": [[0, \"#8e0152\"], [0.1, \"#c51b7d\"], [0.2, \"#de77ae\"], [0.3, \"#f1b6da\"], [0.4, \"#fde0ef\"], [0.5, \"#f7f7f7\"], [0.6, \"#e6f5d0\"], [0.7, \"#b8e186\"], [0.8, \"#7fbc41\"], [0.9, \"#4d9221\"], [1, \"#276419\"]], \"sequential\": [[0.0, \"#0d0887\"], [0.1111111111111111, \"#46039f\"], [0.2222222222222222, \"#7201a8\"], [0.3333333333333333, \"#9c179e\"], [0.4444444444444444, \"#bd3786\"], [0.5555555555555556, \"#d8576b\"], [0.6666666666666666, \"#ed7953\"], [0.7777777777777778, \"#fb9f3a\"], [0.8888888888888888, \"#fdca26\"], [1.0, \"#f0f921\"]], \"sequentialminus\": [[0.0, \"#0d0887\"], [0.1111111111111111, \"#46039f\"], [0.2222222222222222, \"#7201a8\"], [0.3333333333333333, \"#9c179e\"], [0.4444444444444444, \"#bd3786\"], [0.5555555555555556, \"#d8576b\"], [0.6666666666666666, \"#ed7953\"], [0.7777777777777778, \"#fb9f3a\"], [0.8888888888888888, \"#fdca26\"], [1.0, \"#f0f921\"]]}, \"colorway\": [\"#636efa\", \"#EF553B\", \"#00cc96\", \"#ab63fa\", \"#FFA15A\", \"#19d3f3\", \"#FF6692\", \"#B6E880\", \"#FF97FF\", \"#FECB52\"], \"font\": {\"color\": \"#2a3f5f\"}, \"geo\": {\"bgcolor\": \"white\", \"lakecolor\": \"white\", \"landcolor\": \"#E5ECF6\", \"showlakes\": true, \"showland\": true, \"subunitcolor\": \"white\"}, \"hoverlabel\": {\"align\": \"left\"}, \"hovermode\": \"closest\", \"mapbox\": {\"style\": \"light\"}, \"paper_bgcolor\": \"white\", \"plot_bgcolor\": \"#E5ECF6\", \"polar\": {\"angularaxis\": {\"gridcolor\": \"white\", \"linecolor\": \"white\", \"ticks\": \"\"}, \"bgcolor\": \"#E5ECF6\", \"radialaxis\": {\"gridcolor\": \"white\", \"linecolor\": \"white\", \"ticks\": \"\"}}, \"scene\": {\"xaxis\": {\"backgroundcolor\": \"#E5ECF6\", \"gridcolor\": \"white\", \"gridwidth\": 2, \"linecolor\": \"white\", \"showbackground\": true, \"ticks\": \"\", \"zerolinecolor\": \"white\"}, \"yaxis\": {\"backgroundcolor\": \"#E5ECF6\", \"gridcolor\": \"white\", \"gridwidth\": 2, \"linecolor\": \"white\", \"showbackground\": true, \"ticks\": \"\", \"zerolinecolor\": \"white\"}, \"zaxis\": {\"backgroundcolor\": \"#E5ECF6\", \"gridcolor\": \"white\", \"gridwidth\": 2, \"linecolor\": \"white\", \"showbackground\": true, \"ticks\": \"\", \"zerolinecolor\": \"white\"}}, \"shapedefaults\": {\"line\": {\"color\": \"#2a3f5f\"}}, \"ternary\": {\"aaxis\": {\"gridcolor\": \"white\", \"linecolor\": \"white\", \"ticks\": \"\"}, \"baxis\": {\"gridcolor\": \"white\", \"linecolor\": \"white\", \"ticks\": \"\"}, \"bgcolor\": \"#E5ECF6\", \"caxis\": {\"gridcolor\": \"white\", \"linecolor\": \"white\", \"ticks\": \"\"}}, \"title\": {\"x\": 0.05}, \"xaxis\": {\"automargin\": true, \"gridcolor\": \"white\", \"linecolor\": \"white\", \"ticks\": \"\", \"title\": {\"standoff\": 15}, \"zerolinecolor\": \"white\", \"zerolinewidth\": 2}, \"yaxis\": {\"automargin\": true, \"gridcolor\": \"white\", \"linecolor\": \"white\", \"ticks\": \"\", \"title\": {\"standoff\": 15}, \"zerolinecolor\": \"white\", \"zerolinewidth\": 2}}}},\n",
       "                        {\"responsive\": true}\n",
       "                    ).then(function(){\n",
       "                            \n",
       "var gd = document.getElementById('01190e8e-c50d-48db-9eee-205026ce1639');\n",
       "var x = new MutationObserver(function (mutations, observer) {{\n",
       "        var display = window.getComputedStyle(gd).display;\n",
       "        if (!display || display === 'none') {{\n",
       "            console.log([gd, 'removed!']);\n",
       "            Plotly.purge(gd);\n",
       "            observer.disconnect();\n",
       "        }}\n",
       "}});\n",
       "\n",
       "// Listen for the removal of the full notebook cells\n",
       "var notebookContainer = gd.closest('#notebook-container');\n",
       "if (notebookContainer) {{\n",
       "    x.observe(notebookContainer, {childList: true});\n",
       "}}\n",
       "\n",
       "// Listen for the clearing of the current output cell\n",
       "var outputEl = gd.closest('.output');\n",
       "if (outputEl) {{\n",
       "    x.observe(outputEl, {childList: true});\n",
       "}}\n",
       "\n",
       "                        })\n",
       "                };\n",
       "                });\n",
       "            </script>\n",
       "        </div>"
      ]
     },
     "metadata": {},
     "output_type": "display_data"
    }
   ],
   "source": [
    "x0 = torch.Tensor([np.pi+1.5, 1.]).double()\n",
    "v, res = V(x0)\n",
    "sys.plot_result(res).show()"
   ]
  },
  {
   "cell_type": "code",
   "execution_count": 6,
   "metadata": {},
   "outputs": [
    {
     "name": "stderr",
     "output_type": "stream",
     "text": [
      "/Users/blandry/Code/robust-value-approx/env/lib/python3.7/site-packages/jax/lib/xla_bridge.py:122: UserWarning:\n",
      "\n",
      "No GPU/TPU found, falling back to CPU.\n",
      "\n"
     ]
    },
    {
     "data": {
      "application/vnd.plotly.v1+json": {
       "config": {
        "plotlyServerURL": "https://plot.ly"
       },
       "data": [
        {
         "type": "scatter",
         "x": [
          0,
          0.000308215239783749,
          0.0033903676085174084,
          0.034211888909339905,
          0.10000000149011612,
          0.14407186210155487,
          0.20000000298023224,
          0.24962575733661652,
          0.30000001192092896,
          0.3525126874446869,
          0.4000000059604645,
          0.4540286362171173,
          0.5,
          0.5547803044319153,
          0.6000000238418579,
          0.655103862285614,
          0.699999988079071,
          0.7551966309547424,
          0.800000011920929,
          0.8551710844039917,
          0.8999999761581421,
          0.9550888538360596,
          1,
          1.0549845695495605,
          1.100000023841858,
          1.1548726558685303,
          1.2000000476837158,
          1.254765272140503,
          1.2999999523162842,
          1.3546656370162964,
          1.399999976158142,
          1.454576015472412,
          1.5,
          1.55449640750885,
          1.600000023841858,
          1.654427409172058,
          1.7000000476837158,
          1.7543681859970093,
          1.7999999523162842,
          1.8543182611465454,
          1.899999976158142,
          1.9542768001556396,
          2,
          2.054243326187134,
          2.0999999046325684,
          2.154217004776001,
          2.200000047683716,
          2.254197359085083,
          2.299999952316284,
          2.3541836738586426,
          2.4000000953674316,
          2.4541757106781006,
          2.5,
          2.554172992706299,
          2.5999999046325684,
          2.6541755199432373,
          2.700000047683716,
          2.754182815551758,
          2.799999952316284,
          2.8541951179504395,
          2.9000000953674316,
          2.9542124271392822,
          3,
          3.054234743118286,
          3.0999999046325684,
          3.1542625427246094,
          3.200000047683716,
          3.2543272972106934,
          3.299999952316284,
          3.3543765544891357,
          3.4000000953674316,
          3.4544284343719482,
          3.5,
          3.5544865131378174,
          3.5999999046325684,
          3.654555082321167,
          3.700000047683716,
          3.754634141921997,
          3.799999952316284,
          3.85471510887146,
          3.9000000953674316,
          3.9548146724700928,
          4,
          4.05492639541626,
          4.099999904632568,
          4.15505313873291,
          4.199999809265137,
          4.255207061767578,
          4.300000190734863,
          4.355373859405518,
          4.400000095367432,
          4.455560207366943,
          4.5,
          4.555769920349121,
          4.599999904632568,
          4.656007289886475,
          4.699999809265137,
          4.756274223327637,
          4.800000190734863,
          4.856573581695557,
          4.900000095367432
         ],
         "y": [
          4.641592502593994,
          4.641592502593994,
          4.641573429107666,
          4.63929557800293,
          4.615493297576904,
          4.586192607879639,
          4.538431167602539,
          4.487779140472412,
          4.431146144866943,
          4.368194103240967,
          4.309401035308838,
          4.241734027862549,
          4.184384346008301,
          4.117303848266602,
          4.063396453857422,
          4.00012731552124,
          3.95070219039917,
          3.892904043197632,
          3.8483853340148926,
          3.7966761589050293,
          3.7570853233337402,
          3.7114508152008057,
          3.6765599250793457,
          3.636639356613159,
          3.6060829162597656,
          3.5713553428649902,
          3.544705390930176,
          3.514594554901123,
          3.4914140701293945,
          3.465352773666382,
          3.445221185684204,
          3.422682285308838,
          3.405212640762329,
          3.3857221603393555,
          3.3705666065216064,
          3.3537068367004395,
          3.3405585289001465,
          3.3259661197662354,
          3.314556360244751,
          3.301917791366577,
          3.292012929916382,
          3.2810583114624023,
          3.272456645965576,
          3.2629544734954834,
          3.255481004714966,
          3.2472329139709473,
          3.240737199783325,
          3.2335729598999023,
          3.2279245853424072,
          3.2216978073120117,
          3.216784954071045,
          3.2113702297210693,
          3.2070956230163574,
          3.2023844718933105,
          3.198664426803589,
          3.194563865661621,
          3.1913254261016846,
          3.1877548694610596,
          3.1849355697631836,
          3.1818253993988037,
          3.179370403289795,
          3.1766605377197266,
          3.174522876739502,
          3.1721608638763428,
          3.1702992916107178,
          3.1682400703430176,
          3.166618824005127,
          3.1648218631744385,
          3.1634104251861572,
          3.1618423461914062,
          3.1606128215789795,
          3.1592442989349365,
          3.1581737995147705,
          3.156979560852051,
          3.1560473442077637,
          3.1550049781799316,
          3.15419340133667,
          3.1532833576202393,
          3.1525774002075195,
          3.151782751083374,
          3.1511683464050293,
          3.1504745483398438,
          3.149940013885498,
          3.149334192276001,
          3.148869276046753,
          3.1483399868011475,
          3.1479358673095703,
          3.147473096847534,
          3.1471221446990967,
          3.1467175483703613,
          3.1464126110076904,
          3.1460587978363037,
          3.145794153213501,
          3.145484447479248,
          3.1452548503875732,
          3.1449837684631348,
          3.144784688949585,
          3.1445472240448,
          3.1443748474121094,
          3.144166946411133,
          3.1440176963806152
         ]
        },
        {
         "type": "scatter",
         "x": [
          0,
          0.000308215239783749,
          0.0033903676085174084,
          0.034211888909339905,
          0.10000000149011612,
          0.14407186210155487,
          0.20000000298023224,
          0.24962575733661652,
          0.30000001192092896,
          0.3525126874446869,
          0.4000000059604645,
          0.4540286362171173,
          0.5,
          0.5547803044319153,
          0.6000000238418579,
          0.655103862285614,
          0.699999988079071,
          0.7551966309547424,
          0.800000011920929,
          0.8551710844039917,
          0.8999999761581421,
          0.9550888538360596,
          1,
          1.0549845695495605,
          1.100000023841858,
          1.1548726558685303,
          1.2000000476837158,
          1.254765272140503,
          1.2999999523162842,
          1.3546656370162964,
          1.399999976158142,
          1.454576015472412,
          1.5,
          1.55449640750885,
          1.600000023841858,
          1.654427409172058,
          1.7000000476837158,
          1.7543681859970093,
          1.7999999523162842,
          1.8543182611465454,
          1.899999976158142,
          1.9542768001556396,
          2,
          2.054243326187134,
          2.0999999046325684,
          2.154217004776001,
          2.200000047683716,
          2.254197359085083,
          2.299999952316284,
          2.3541836738586426,
          2.4000000953674316,
          2.4541757106781006,
          2.5,
          2.554172992706299,
          2.5999999046325684,
          2.6541755199432373,
          2.700000047683716,
          2.754182815551758,
          2.799999952316284,
          2.8541951179504395,
          2.9000000953674316,
          2.9542124271392822,
          3,
          3.054234743118286,
          3.0999999046325684,
          3.1542625427246094,
          3.200000047683716,
          3.2543272972106934,
          3.299999952316284,
          3.3543765544891357,
          3.4000000953674316,
          3.4544284343719482,
          3.5,
          3.5544865131378174,
          3.5999999046325684,
          3.654555082321167,
          3.700000047683716,
          3.754634141921997,
          3.799999952316284,
          3.85471510887146,
          3.9000000953674316,
          3.9548146724700928,
          4,
          4.05492639541626,
          4.099999904632568,
          4.15505313873291,
          4.199999809265137,
          4.255207061767578,
          4.300000190734863,
          4.355373859405518,
          4.400000095367432,
          4.455560207366943,
          4.5,
          4.555769920349121,
          4.599999904632568,
          4.656007289886475,
          4.699999809265137,
          4.756274223327637,
          4.800000190734863,
          4.856573581695557,
          4.900000095367432
         ],
         "y": [
          0,
          -0.0010026316158473492,
          -0.011341961100697517,
          -0.14587469398975372,
          -0.6197589039802551,
          -0.7268717885017395,
          -1.0079662799835205,
          -1.0526338815689087,
          -1.215511441230774,
          -1.2017347812652588,
          -1.290393352508545,
          -1.2335858345031738,
          -1.2751548290252686,
          -1.1919832229614258,
          -1.2043999433517456,
          -1.1086640357971191,
          -1.1039501428604126,
          -1.0054757595062256,
          -0.9915544986724854,
          -0.8965486884117126,
          -0.8784582614898682,
          -0.7903663516044617,
          -0.7711520195007324,
          -0.6915397047996521,
          -0.6729206442832947,
          -0.6021532416343689,
          -0.5849958658218384,
          -0.5227811932563782,
          -0.5074475407600403,
          -0.4531310498714447,
          -0.4396821856498718,
          -0.39246660470962524,
          -0.38080859184265137,
          -0.3398677110671997,
          -0.32983312010765076,
          -0.2943795621395111,
          -0.2857770621776581,
          -0.2550892233848572,
          -0.2477276772260666,
          -0.22116418182849884,
          -0.2148677408695221,
          -0.19186563789844513,
          -0.1864776760339737,
          -0.16654878854751587,
          -0.16193369030952454,
          -0.14465615153312683,
          -0.14069755375385284,
          -0.1257086992263794,
          -0.12230821698904037,
          -0.10929615795612335,
          -0.10637050122022629,
          -0.09506756067276001,
          -0.09254676848649979,
          -0.08272283524274826,
          -0.08054795116186142,
          -0.07200498878955841,
          -0.07012618333101273,
          -0.06269358098506927,
          -0.06106870248913765,
          -0.0545995756983757,
          -0.053193122148513794,
          -0.04756034538149834,
          -0.046341873705387115,
          -0.04143591597676277,
          -0.040379833430051804,
          -0.03610549867153168,
          -0.03518957644701004,
          -0.03147486224770546,
          -0.030684536322951317,
          -0.02744251862168312,
          -0.02675308659672737,
          -0.023924296721816063,
          -0.023324040696024895,
          -0.020855983719229698,
          -0.020333869382739067,
          -0.018180767074227333,
          -0.017726926133036613,
          -0.015848901122808456,
          -0.015454928390681744,
          -0.013815072365105152,
          -0.013472504913806915,
          -0.012041715905070305,
          -0.011744641698896885,
          -0.01049591600894928,
          -0.010238412767648697,
          -0.009148359298706055,
          -0.00892531219869852,
          -0.007974646985530853,
          -0.0077821011655032635,
          -0.006951567716896534,
          -0.0067847855389118195,
          -0.006059129722416401,
          -0.005914908368140459,
          -0.005280905403196812,
          -0.0051564909517765045,
          -0.004602337256073952,
          -0.004495085217058659,
          -0.0040106140077114105,
          -0.0039183227345347404,
          -0.0034946808591485023,
          -0.0034154350869357586
         ]
        }
       ],
       "layout": {
        "template": {
         "data": {
          "bar": [
           {
            "error_x": {
             "color": "#2a3f5f"
            },
            "error_y": {
             "color": "#2a3f5f"
            },
            "marker": {
             "line": {
              "color": "#E5ECF6",
              "width": 0.5
             }
            },
            "type": "bar"
           }
          ],
          "barpolar": [
           {
            "marker": {
             "line": {
              "color": "#E5ECF6",
              "width": 0.5
             }
            },
            "type": "barpolar"
           }
          ],
          "carpet": [
           {
            "aaxis": {
             "endlinecolor": "#2a3f5f",
             "gridcolor": "white",
             "linecolor": "white",
             "minorgridcolor": "white",
             "startlinecolor": "#2a3f5f"
            },
            "baxis": {
             "endlinecolor": "#2a3f5f",
             "gridcolor": "white",
             "linecolor": "white",
             "minorgridcolor": "white",
             "startlinecolor": "#2a3f5f"
            },
            "type": "carpet"
           }
          ],
          "choropleth": [
           {
            "colorbar": {
             "outlinewidth": 0,
             "ticks": ""
            },
            "type": "choropleth"
           }
          ],
          "contour": [
           {
            "colorbar": {
             "outlinewidth": 0,
             "ticks": ""
            },
            "colorscale": [
             [
              0,
              "#0d0887"
             ],
             [
              0.1111111111111111,
              "#46039f"
             ],
             [
              0.2222222222222222,
              "#7201a8"
             ],
             [
              0.3333333333333333,
              "#9c179e"
             ],
             [
              0.4444444444444444,
              "#bd3786"
             ],
             [
              0.5555555555555556,
              "#d8576b"
             ],
             [
              0.6666666666666666,
              "#ed7953"
             ],
             [
              0.7777777777777778,
              "#fb9f3a"
             ],
             [
              0.8888888888888888,
              "#fdca26"
             ],
             [
              1,
              "#f0f921"
             ]
            ],
            "type": "contour"
           }
          ],
          "contourcarpet": [
           {
            "colorbar": {
             "outlinewidth": 0,
             "ticks": ""
            },
            "type": "contourcarpet"
           }
          ],
          "heatmap": [
           {
            "colorbar": {
             "outlinewidth": 0,
             "ticks": ""
            },
            "colorscale": [
             [
              0,
              "#0d0887"
             ],
             [
              0.1111111111111111,
              "#46039f"
             ],
             [
              0.2222222222222222,
              "#7201a8"
             ],
             [
              0.3333333333333333,
              "#9c179e"
             ],
             [
              0.4444444444444444,
              "#bd3786"
             ],
             [
              0.5555555555555556,
              "#d8576b"
             ],
             [
              0.6666666666666666,
              "#ed7953"
             ],
             [
              0.7777777777777778,
              "#fb9f3a"
             ],
             [
              0.8888888888888888,
              "#fdca26"
             ],
             [
              1,
              "#f0f921"
             ]
            ],
            "type": "heatmap"
           }
          ],
          "heatmapgl": [
           {
            "colorbar": {
             "outlinewidth": 0,
             "ticks": ""
            },
            "colorscale": [
             [
              0,
              "#0d0887"
             ],
             [
              0.1111111111111111,
              "#46039f"
             ],
             [
              0.2222222222222222,
              "#7201a8"
             ],
             [
              0.3333333333333333,
              "#9c179e"
             ],
             [
              0.4444444444444444,
              "#bd3786"
             ],
             [
              0.5555555555555556,
              "#d8576b"
             ],
             [
              0.6666666666666666,
              "#ed7953"
             ],
             [
              0.7777777777777778,
              "#fb9f3a"
             ],
             [
              0.8888888888888888,
              "#fdca26"
             ],
             [
              1,
              "#f0f921"
             ]
            ],
            "type": "heatmapgl"
           }
          ],
          "histogram": [
           {
            "marker": {
             "colorbar": {
              "outlinewidth": 0,
              "ticks": ""
             }
            },
            "type": "histogram"
           }
          ],
          "histogram2d": [
           {
            "colorbar": {
             "outlinewidth": 0,
             "ticks": ""
            },
            "colorscale": [
             [
              0,
              "#0d0887"
             ],
             [
              0.1111111111111111,
              "#46039f"
             ],
             [
              0.2222222222222222,
              "#7201a8"
             ],
             [
              0.3333333333333333,
              "#9c179e"
             ],
             [
              0.4444444444444444,
              "#bd3786"
             ],
             [
              0.5555555555555556,
              "#d8576b"
             ],
             [
              0.6666666666666666,
              "#ed7953"
             ],
             [
              0.7777777777777778,
              "#fb9f3a"
             ],
             [
              0.8888888888888888,
              "#fdca26"
             ],
             [
              1,
              "#f0f921"
             ]
            ],
            "type": "histogram2d"
           }
          ],
          "histogram2dcontour": [
           {
            "colorbar": {
             "outlinewidth": 0,
             "ticks": ""
            },
            "colorscale": [
             [
              0,
              "#0d0887"
             ],
             [
              0.1111111111111111,
              "#46039f"
             ],
             [
              0.2222222222222222,
              "#7201a8"
             ],
             [
              0.3333333333333333,
              "#9c179e"
             ],
             [
              0.4444444444444444,
              "#bd3786"
             ],
             [
              0.5555555555555556,
              "#d8576b"
             ],
             [
              0.6666666666666666,
              "#ed7953"
             ],
             [
              0.7777777777777778,
              "#fb9f3a"
             ],
             [
              0.8888888888888888,
              "#fdca26"
             ],
             [
              1,
              "#f0f921"
             ]
            ],
            "type": "histogram2dcontour"
           }
          ],
          "mesh3d": [
           {
            "colorbar": {
             "outlinewidth": 0,
             "ticks": ""
            },
            "type": "mesh3d"
           }
          ],
          "parcoords": [
           {
            "line": {
             "colorbar": {
              "outlinewidth": 0,
              "ticks": ""
             }
            },
            "type": "parcoords"
           }
          ],
          "pie": [
           {
            "automargin": true,
            "type": "pie"
           }
          ],
          "scatter": [
           {
            "marker": {
             "colorbar": {
              "outlinewidth": 0,
              "ticks": ""
             }
            },
            "type": "scatter"
           }
          ],
          "scatter3d": [
           {
            "line": {
             "colorbar": {
              "outlinewidth": 0,
              "ticks": ""
             }
            },
            "marker": {
             "colorbar": {
              "outlinewidth": 0,
              "ticks": ""
             }
            },
            "type": "scatter3d"
           }
          ],
          "scattercarpet": [
           {
            "marker": {
             "colorbar": {
              "outlinewidth": 0,
              "ticks": ""
             }
            },
            "type": "scattercarpet"
           }
          ],
          "scattergeo": [
           {
            "marker": {
             "colorbar": {
              "outlinewidth": 0,
              "ticks": ""
             }
            },
            "type": "scattergeo"
           }
          ],
          "scattergl": [
           {
            "marker": {
             "colorbar": {
              "outlinewidth": 0,
              "ticks": ""
             }
            },
            "type": "scattergl"
           }
          ],
          "scattermapbox": [
           {
            "marker": {
             "colorbar": {
              "outlinewidth": 0,
              "ticks": ""
             }
            },
            "type": "scattermapbox"
           }
          ],
          "scatterpolar": [
           {
            "marker": {
             "colorbar": {
              "outlinewidth": 0,
              "ticks": ""
             }
            },
            "type": "scatterpolar"
           }
          ],
          "scatterpolargl": [
           {
            "marker": {
             "colorbar": {
              "outlinewidth": 0,
              "ticks": ""
             }
            },
            "type": "scatterpolargl"
           }
          ],
          "scatterternary": [
           {
            "marker": {
             "colorbar": {
              "outlinewidth": 0,
              "ticks": ""
             }
            },
            "type": "scatterternary"
           }
          ],
          "surface": [
           {
            "colorbar": {
             "outlinewidth": 0,
             "ticks": ""
            },
            "colorscale": [
             [
              0,
              "#0d0887"
             ],
             [
              0.1111111111111111,
              "#46039f"
             ],
             [
              0.2222222222222222,
              "#7201a8"
             ],
             [
              0.3333333333333333,
              "#9c179e"
             ],
             [
              0.4444444444444444,
              "#bd3786"
             ],
             [
              0.5555555555555556,
              "#d8576b"
             ],
             [
              0.6666666666666666,
              "#ed7953"
             ],
             [
              0.7777777777777778,
              "#fb9f3a"
             ],
             [
              0.8888888888888888,
              "#fdca26"
             ],
             [
              1,
              "#f0f921"
             ]
            ],
            "type": "surface"
           }
          ],
          "table": [
           {
            "cells": {
             "fill": {
              "color": "#EBF0F8"
             },
             "line": {
              "color": "white"
             }
            },
            "header": {
             "fill": {
              "color": "#C8D4E3"
             },
             "line": {
              "color": "white"
             }
            },
            "type": "table"
           }
          ]
         },
         "layout": {
          "annotationdefaults": {
           "arrowcolor": "#2a3f5f",
           "arrowhead": 0,
           "arrowwidth": 1
          },
          "coloraxis": {
           "colorbar": {
            "outlinewidth": 0,
            "ticks": ""
           }
          },
          "colorscale": {
           "diverging": [
            [
             0,
             "#8e0152"
            ],
            [
             0.1,
             "#c51b7d"
            ],
            [
             0.2,
             "#de77ae"
            ],
            [
             0.3,
             "#f1b6da"
            ],
            [
             0.4,
             "#fde0ef"
            ],
            [
             0.5,
             "#f7f7f7"
            ],
            [
             0.6,
             "#e6f5d0"
            ],
            [
             0.7,
             "#b8e186"
            ],
            [
             0.8,
             "#7fbc41"
            ],
            [
             0.9,
             "#4d9221"
            ],
            [
             1,
             "#276419"
            ]
           ],
           "sequential": [
            [
             0,
             "#0d0887"
            ],
            [
             0.1111111111111111,
             "#46039f"
            ],
            [
             0.2222222222222222,
             "#7201a8"
            ],
            [
             0.3333333333333333,
             "#9c179e"
            ],
            [
             0.4444444444444444,
             "#bd3786"
            ],
            [
             0.5555555555555556,
             "#d8576b"
            ],
            [
             0.6666666666666666,
             "#ed7953"
            ],
            [
             0.7777777777777778,
             "#fb9f3a"
            ],
            [
             0.8888888888888888,
             "#fdca26"
            ],
            [
             1,
             "#f0f921"
            ]
           ],
           "sequentialminus": [
            [
             0,
             "#0d0887"
            ],
            [
             0.1111111111111111,
             "#46039f"
            ],
            [
             0.2222222222222222,
             "#7201a8"
            ],
            [
             0.3333333333333333,
             "#9c179e"
            ],
            [
             0.4444444444444444,
             "#bd3786"
            ],
            [
             0.5555555555555556,
             "#d8576b"
            ],
            [
             0.6666666666666666,
             "#ed7953"
            ],
            [
             0.7777777777777778,
             "#fb9f3a"
            ],
            [
             0.8888888888888888,
             "#fdca26"
            ],
            [
             1,
             "#f0f921"
            ]
           ]
          },
          "colorway": [
           "#636efa",
           "#EF553B",
           "#00cc96",
           "#ab63fa",
           "#FFA15A",
           "#19d3f3",
           "#FF6692",
           "#B6E880",
           "#FF97FF",
           "#FECB52"
          ],
          "font": {
           "color": "#2a3f5f"
          },
          "geo": {
           "bgcolor": "white",
           "lakecolor": "white",
           "landcolor": "#E5ECF6",
           "showlakes": true,
           "showland": true,
           "subunitcolor": "white"
          },
          "hoverlabel": {
           "align": "left"
          },
          "hovermode": "closest",
          "mapbox": {
           "style": "light"
          },
          "paper_bgcolor": "white",
          "plot_bgcolor": "#E5ECF6",
          "polar": {
           "angularaxis": {
            "gridcolor": "white",
            "linecolor": "white",
            "ticks": ""
           },
           "bgcolor": "#E5ECF6",
           "radialaxis": {
            "gridcolor": "white",
            "linecolor": "white",
            "ticks": ""
           }
          },
          "scene": {
           "xaxis": {
            "backgroundcolor": "#E5ECF6",
            "gridcolor": "white",
            "gridwidth": 2,
            "linecolor": "white",
            "showbackground": true,
            "ticks": "",
            "zerolinecolor": "white"
           },
           "yaxis": {
            "backgroundcolor": "#E5ECF6",
            "gridcolor": "white",
            "gridwidth": 2,
            "linecolor": "white",
            "showbackground": true,
            "ticks": "",
            "zerolinecolor": "white"
           },
           "zaxis": {
            "backgroundcolor": "#E5ECF6",
            "gridcolor": "white",
            "gridwidth": 2,
            "linecolor": "white",
            "showbackground": true,
            "ticks": "",
            "zerolinecolor": "white"
           }
          },
          "shapedefaults": {
           "line": {
            "color": "#2a3f5f"
           }
          },
          "ternary": {
           "aaxis": {
            "gridcolor": "white",
            "linecolor": "white",
            "ticks": ""
           },
           "baxis": {
            "gridcolor": "white",
            "linecolor": "white",
            "ticks": ""
           },
           "bgcolor": "#E5ECF6",
           "caxis": {
            "gridcolor": "white",
            "linecolor": "white",
            "ticks": ""
           }
          },
          "title": {
           "x": 0.05
          },
          "xaxis": {
           "automargin": true,
           "gridcolor": "white",
           "linecolor": "white",
           "ticks": "",
           "title": {
            "standoff": 15
           },
           "zerolinecolor": "white",
           "zerolinewidth": 2
          },
          "yaxis": {
           "automargin": true,
           "gridcolor": "white",
           "linecolor": "white",
           "ticks": "",
           "title": {
            "standoff": 15
           },
           "zerolinecolor": "white",
           "zerolinewidth": 2
          }
         }
        }
       }
      },
      "text/html": [
       "<div>\n",
       "        \n",
       "        \n",
       "            <div id=\"fc28dcca-f399-4aae-ab86-a2c3674bbad3\" class=\"plotly-graph-div\" style=\"height:525px; width:100%;\"></div>\n",
       "            <script type=\"text/javascript\">\n",
       "                require([\"plotly\"], function(Plotly) {\n",
       "                    window.PLOTLYENV=window.PLOTLYENV || {};\n",
       "                    \n",
       "                if (document.getElementById(\"fc28dcca-f399-4aae-ab86-a2c3674bbad3\")) {\n",
       "                    Plotly.newPlot(\n",
       "                        'fc28dcca-f399-4aae-ab86-a2c3674bbad3',\n",
       "                        [{\"type\": \"scatter\", \"x\": [0.0, 0.000308215239783749, 0.0033903676085174084, 0.034211888909339905, 0.10000000149011612, 0.14407186210155487, 0.20000000298023224, 0.24962575733661652, 0.30000001192092896, 0.3525126874446869, 0.4000000059604645, 0.4540286362171173, 0.5, 0.5547803044319153, 0.6000000238418579, 0.655103862285614, 0.699999988079071, 0.7551966309547424, 0.800000011920929, 0.8551710844039917, 0.8999999761581421, 0.9550888538360596, 1.0, 1.0549845695495605, 1.100000023841858, 1.1548726558685303, 1.2000000476837158, 1.254765272140503, 1.2999999523162842, 1.3546656370162964, 1.399999976158142, 1.454576015472412, 1.5, 1.55449640750885, 1.600000023841858, 1.654427409172058, 1.7000000476837158, 1.7543681859970093, 1.7999999523162842, 1.8543182611465454, 1.899999976158142, 1.9542768001556396, 2.0, 2.054243326187134, 2.0999999046325684, 2.154217004776001, 2.200000047683716, 2.254197359085083, 2.299999952316284, 2.3541836738586426, 2.4000000953674316, 2.4541757106781006, 2.5, 2.554172992706299, 2.5999999046325684, 2.6541755199432373, 2.700000047683716, 2.754182815551758, 2.799999952316284, 2.8541951179504395, 2.9000000953674316, 2.9542124271392822, 3.0, 3.054234743118286, 3.0999999046325684, 3.1542625427246094, 3.200000047683716, 3.2543272972106934, 3.299999952316284, 3.3543765544891357, 3.4000000953674316, 3.4544284343719482, 3.5, 3.5544865131378174, 3.5999999046325684, 3.654555082321167, 3.700000047683716, 3.754634141921997, 3.799999952316284, 3.85471510887146, 3.9000000953674316, 3.9548146724700928, 4.0, 4.05492639541626, 4.099999904632568, 4.15505313873291, 4.199999809265137, 4.255207061767578, 4.300000190734863, 4.355373859405518, 4.400000095367432, 4.455560207366943, 4.5, 4.555769920349121, 4.599999904632568, 4.656007289886475, 4.699999809265137, 4.756274223327637, 4.800000190734863, 4.856573581695557, 4.900000095367432], \"y\": [4.641592502593994, 4.641592502593994, 4.641573429107666, 4.63929557800293, 4.615493297576904, 4.586192607879639, 4.538431167602539, 4.487779140472412, 4.431146144866943, 4.368194103240967, 4.309401035308838, 4.241734027862549, 4.184384346008301, 4.117303848266602, 4.063396453857422, 4.00012731552124, 3.95070219039917, 3.892904043197632, 3.8483853340148926, 3.7966761589050293, 3.7570853233337402, 3.7114508152008057, 3.6765599250793457, 3.636639356613159, 3.6060829162597656, 3.5713553428649902, 3.544705390930176, 3.514594554901123, 3.4914140701293945, 3.465352773666382, 3.445221185684204, 3.422682285308838, 3.405212640762329, 3.3857221603393555, 3.3705666065216064, 3.3537068367004395, 3.3405585289001465, 3.3259661197662354, 3.314556360244751, 3.301917791366577, 3.292012929916382, 3.2810583114624023, 3.272456645965576, 3.2629544734954834, 3.255481004714966, 3.2472329139709473, 3.240737199783325, 3.2335729598999023, 3.2279245853424072, 3.2216978073120117, 3.216784954071045, 3.2113702297210693, 3.2070956230163574, 3.2023844718933105, 3.198664426803589, 3.194563865661621, 3.1913254261016846, 3.1877548694610596, 3.1849355697631836, 3.1818253993988037, 3.179370403289795, 3.1766605377197266, 3.174522876739502, 3.1721608638763428, 3.1702992916107178, 3.1682400703430176, 3.166618824005127, 3.1648218631744385, 3.1634104251861572, 3.1618423461914062, 3.1606128215789795, 3.1592442989349365, 3.1581737995147705, 3.156979560852051, 3.1560473442077637, 3.1550049781799316, 3.15419340133667, 3.1532833576202393, 3.1525774002075195, 3.151782751083374, 3.1511683464050293, 3.1504745483398438, 3.149940013885498, 3.149334192276001, 3.148869276046753, 3.1483399868011475, 3.1479358673095703, 3.147473096847534, 3.1471221446990967, 3.1467175483703613, 3.1464126110076904, 3.1460587978363037, 3.145794153213501, 3.145484447479248, 3.1452548503875732, 3.1449837684631348, 3.144784688949585, 3.1445472240448, 3.1443748474121094, 3.144166946411133, 3.1440176963806152]}, {\"type\": \"scatter\", \"x\": [0.0, 0.000308215239783749, 0.0033903676085174084, 0.034211888909339905, 0.10000000149011612, 0.14407186210155487, 0.20000000298023224, 0.24962575733661652, 0.30000001192092896, 0.3525126874446869, 0.4000000059604645, 0.4540286362171173, 0.5, 0.5547803044319153, 0.6000000238418579, 0.655103862285614, 0.699999988079071, 0.7551966309547424, 0.800000011920929, 0.8551710844039917, 0.8999999761581421, 0.9550888538360596, 1.0, 1.0549845695495605, 1.100000023841858, 1.1548726558685303, 1.2000000476837158, 1.254765272140503, 1.2999999523162842, 1.3546656370162964, 1.399999976158142, 1.454576015472412, 1.5, 1.55449640750885, 1.600000023841858, 1.654427409172058, 1.7000000476837158, 1.7543681859970093, 1.7999999523162842, 1.8543182611465454, 1.899999976158142, 1.9542768001556396, 2.0, 2.054243326187134, 2.0999999046325684, 2.154217004776001, 2.200000047683716, 2.254197359085083, 2.299999952316284, 2.3541836738586426, 2.4000000953674316, 2.4541757106781006, 2.5, 2.554172992706299, 2.5999999046325684, 2.6541755199432373, 2.700000047683716, 2.754182815551758, 2.799999952316284, 2.8541951179504395, 2.9000000953674316, 2.9542124271392822, 3.0, 3.054234743118286, 3.0999999046325684, 3.1542625427246094, 3.200000047683716, 3.2543272972106934, 3.299999952316284, 3.3543765544891357, 3.4000000953674316, 3.4544284343719482, 3.5, 3.5544865131378174, 3.5999999046325684, 3.654555082321167, 3.700000047683716, 3.754634141921997, 3.799999952316284, 3.85471510887146, 3.9000000953674316, 3.9548146724700928, 4.0, 4.05492639541626, 4.099999904632568, 4.15505313873291, 4.199999809265137, 4.255207061767578, 4.300000190734863, 4.355373859405518, 4.400000095367432, 4.455560207366943, 4.5, 4.555769920349121, 4.599999904632568, 4.656007289886475, 4.699999809265137, 4.756274223327637, 4.800000190734863, 4.856573581695557, 4.900000095367432], \"y\": [0.0, -0.0010026316158473492, -0.011341961100697517, -0.14587469398975372, -0.6197589039802551, -0.7268717885017395, -1.0079662799835205, -1.0526338815689087, -1.215511441230774, -1.2017347812652588, -1.290393352508545, -1.2335858345031738, -1.2751548290252686, -1.1919832229614258, -1.2043999433517456, -1.1086640357971191, -1.1039501428604126, -1.0054757595062256, -0.9915544986724854, -0.8965486884117126, -0.8784582614898682, -0.7903663516044617, -0.7711520195007324, -0.6915397047996521, -0.6729206442832947, -0.6021532416343689, -0.5849958658218384, -0.5227811932563782, -0.5074475407600403, -0.4531310498714447, -0.4396821856498718, -0.39246660470962524, -0.38080859184265137, -0.3398677110671997, -0.32983312010765076, -0.2943795621395111, -0.2857770621776581, -0.2550892233848572, -0.2477276772260666, -0.22116418182849884, -0.2148677408695221, -0.19186563789844513, -0.1864776760339737, -0.16654878854751587, -0.16193369030952454, -0.14465615153312683, -0.14069755375385284, -0.1257086992263794, -0.12230821698904037, -0.10929615795612335, -0.10637050122022629, -0.09506756067276001, -0.09254676848649979, -0.08272283524274826, -0.08054795116186142, -0.07200498878955841, -0.07012618333101273, -0.06269358098506927, -0.06106870248913765, -0.0545995756983757, -0.053193122148513794, -0.04756034538149834, -0.046341873705387115, -0.04143591597676277, -0.040379833430051804, -0.03610549867153168, -0.03518957644701004, -0.03147486224770546, -0.030684536322951317, -0.02744251862168312, -0.02675308659672737, -0.023924296721816063, -0.023324040696024895, -0.020855983719229698, -0.020333869382739067, -0.018180767074227333, -0.017726926133036613, -0.015848901122808456, -0.015454928390681744, -0.013815072365105152, -0.013472504913806915, -0.012041715905070305, -0.011744641698896885, -0.01049591600894928, -0.010238412767648697, -0.009148359298706055, -0.00892531219869852, -0.007974646985530853, -0.0077821011655032635, -0.006951567716896534, -0.0067847855389118195, -0.006059129722416401, -0.005914908368140459, -0.005280905403196812, -0.0051564909517765045, -0.004602337256073952, -0.004495085217058659, -0.0040106140077114105, -0.0039183227345347404, -0.0034946808591485023, -0.0034154350869357586]}],\n",
       "                        {\"template\": {\"data\": {\"bar\": [{\"error_x\": {\"color\": \"#2a3f5f\"}, \"error_y\": {\"color\": \"#2a3f5f\"}, \"marker\": {\"line\": {\"color\": \"#E5ECF6\", \"width\": 0.5}}, \"type\": \"bar\"}], \"barpolar\": [{\"marker\": {\"line\": {\"color\": \"#E5ECF6\", \"width\": 0.5}}, \"type\": \"barpolar\"}], \"carpet\": [{\"aaxis\": {\"endlinecolor\": \"#2a3f5f\", \"gridcolor\": \"white\", \"linecolor\": \"white\", \"minorgridcolor\": \"white\", \"startlinecolor\": \"#2a3f5f\"}, \"baxis\": {\"endlinecolor\": \"#2a3f5f\", \"gridcolor\": \"white\", \"linecolor\": \"white\", \"minorgridcolor\": \"white\", \"startlinecolor\": \"#2a3f5f\"}, \"type\": \"carpet\"}], \"choropleth\": [{\"colorbar\": {\"outlinewidth\": 0, \"ticks\": \"\"}, \"type\": \"choropleth\"}], \"contour\": [{\"colorbar\": {\"outlinewidth\": 0, \"ticks\": \"\"}, \"colorscale\": [[0.0, \"#0d0887\"], [0.1111111111111111, \"#46039f\"], [0.2222222222222222, \"#7201a8\"], [0.3333333333333333, \"#9c179e\"], [0.4444444444444444, \"#bd3786\"], [0.5555555555555556, \"#d8576b\"], [0.6666666666666666, \"#ed7953\"], [0.7777777777777778, \"#fb9f3a\"], [0.8888888888888888, \"#fdca26\"], [1.0, \"#f0f921\"]], \"type\": \"contour\"}], \"contourcarpet\": [{\"colorbar\": {\"outlinewidth\": 0, \"ticks\": \"\"}, \"type\": \"contourcarpet\"}], \"heatmap\": [{\"colorbar\": {\"outlinewidth\": 0, \"ticks\": \"\"}, \"colorscale\": [[0.0, \"#0d0887\"], [0.1111111111111111, \"#46039f\"], [0.2222222222222222, \"#7201a8\"], [0.3333333333333333, \"#9c179e\"], [0.4444444444444444, \"#bd3786\"], [0.5555555555555556, \"#d8576b\"], [0.6666666666666666, \"#ed7953\"], [0.7777777777777778, \"#fb9f3a\"], [0.8888888888888888, \"#fdca26\"], [1.0, \"#f0f921\"]], \"type\": \"heatmap\"}], \"heatmapgl\": [{\"colorbar\": {\"outlinewidth\": 0, \"ticks\": \"\"}, \"colorscale\": [[0.0, \"#0d0887\"], [0.1111111111111111, \"#46039f\"], [0.2222222222222222, \"#7201a8\"], [0.3333333333333333, \"#9c179e\"], [0.4444444444444444, \"#bd3786\"], [0.5555555555555556, \"#d8576b\"], [0.6666666666666666, \"#ed7953\"], [0.7777777777777778, \"#fb9f3a\"], [0.8888888888888888, \"#fdca26\"], [1.0, \"#f0f921\"]], \"type\": \"heatmapgl\"}], \"histogram\": [{\"marker\": {\"colorbar\": {\"outlinewidth\": 0, \"ticks\": \"\"}}, \"type\": \"histogram\"}], \"histogram2d\": [{\"colorbar\": {\"outlinewidth\": 0, \"ticks\": \"\"}, \"colorscale\": [[0.0, \"#0d0887\"], [0.1111111111111111, \"#46039f\"], [0.2222222222222222, \"#7201a8\"], [0.3333333333333333, \"#9c179e\"], [0.4444444444444444, \"#bd3786\"], [0.5555555555555556, \"#d8576b\"], [0.6666666666666666, \"#ed7953\"], [0.7777777777777778, \"#fb9f3a\"], [0.8888888888888888, \"#fdca26\"], [1.0, \"#f0f921\"]], \"type\": \"histogram2d\"}], \"histogram2dcontour\": [{\"colorbar\": {\"outlinewidth\": 0, \"ticks\": \"\"}, \"colorscale\": [[0.0, \"#0d0887\"], [0.1111111111111111, \"#46039f\"], [0.2222222222222222, \"#7201a8\"], [0.3333333333333333, \"#9c179e\"], [0.4444444444444444, \"#bd3786\"], [0.5555555555555556, \"#d8576b\"], [0.6666666666666666, \"#ed7953\"], [0.7777777777777778, \"#fb9f3a\"], [0.8888888888888888, \"#fdca26\"], [1.0, \"#f0f921\"]], \"type\": \"histogram2dcontour\"}], \"mesh3d\": [{\"colorbar\": {\"outlinewidth\": 0, \"ticks\": \"\"}, \"type\": \"mesh3d\"}], \"parcoords\": [{\"line\": {\"colorbar\": {\"outlinewidth\": 0, \"ticks\": \"\"}}, \"type\": \"parcoords\"}], \"pie\": [{\"automargin\": true, \"type\": \"pie\"}], \"scatter\": [{\"marker\": {\"colorbar\": {\"outlinewidth\": 0, \"ticks\": \"\"}}, \"type\": \"scatter\"}], \"scatter3d\": [{\"line\": {\"colorbar\": {\"outlinewidth\": 0, \"ticks\": \"\"}}, \"marker\": {\"colorbar\": {\"outlinewidth\": 0, \"ticks\": \"\"}}, \"type\": \"scatter3d\"}], \"scattercarpet\": [{\"marker\": {\"colorbar\": {\"outlinewidth\": 0, \"ticks\": \"\"}}, \"type\": \"scattercarpet\"}], \"scattergeo\": [{\"marker\": {\"colorbar\": {\"outlinewidth\": 0, \"ticks\": \"\"}}, \"type\": \"scattergeo\"}], \"scattergl\": [{\"marker\": {\"colorbar\": {\"outlinewidth\": 0, \"ticks\": \"\"}}, \"type\": \"scattergl\"}], \"scattermapbox\": [{\"marker\": {\"colorbar\": {\"outlinewidth\": 0, \"ticks\": \"\"}}, \"type\": \"scattermapbox\"}], \"scatterpolar\": [{\"marker\": {\"colorbar\": {\"outlinewidth\": 0, \"ticks\": \"\"}}, \"type\": \"scatterpolar\"}], \"scatterpolargl\": [{\"marker\": {\"colorbar\": {\"outlinewidth\": 0, \"ticks\": \"\"}}, \"type\": \"scatterpolargl\"}], \"scatterternary\": [{\"marker\": {\"colorbar\": {\"outlinewidth\": 0, \"ticks\": \"\"}}, \"type\": \"scatterternary\"}], \"surface\": [{\"colorbar\": {\"outlinewidth\": 0, \"ticks\": \"\"}, \"colorscale\": [[0.0, \"#0d0887\"], [0.1111111111111111, \"#46039f\"], [0.2222222222222222, \"#7201a8\"], [0.3333333333333333, \"#9c179e\"], [0.4444444444444444, \"#bd3786\"], [0.5555555555555556, \"#d8576b\"], [0.6666666666666666, \"#ed7953\"], [0.7777777777777778, \"#fb9f3a\"], [0.8888888888888888, \"#fdca26\"], [1.0, \"#f0f921\"]], \"type\": \"surface\"}], \"table\": [{\"cells\": {\"fill\": {\"color\": \"#EBF0F8\"}, \"line\": {\"color\": \"white\"}}, \"header\": {\"fill\": {\"color\": \"#C8D4E3\"}, \"line\": {\"color\": \"white\"}}, \"type\": \"table\"}]}, \"layout\": {\"annotationdefaults\": {\"arrowcolor\": \"#2a3f5f\", \"arrowhead\": 0, \"arrowwidth\": 1}, \"coloraxis\": {\"colorbar\": {\"outlinewidth\": 0, \"ticks\": \"\"}}, \"colorscale\": {\"diverging\": [[0, \"#8e0152\"], [0.1, \"#c51b7d\"], [0.2, \"#de77ae\"], [0.3, \"#f1b6da\"], [0.4, \"#fde0ef\"], [0.5, \"#f7f7f7\"], [0.6, \"#e6f5d0\"], [0.7, \"#b8e186\"], [0.8, \"#7fbc41\"], [0.9, \"#4d9221\"], [1, \"#276419\"]], \"sequential\": [[0.0, \"#0d0887\"], [0.1111111111111111, \"#46039f\"], [0.2222222222222222, \"#7201a8\"], [0.3333333333333333, \"#9c179e\"], [0.4444444444444444, \"#bd3786\"], [0.5555555555555556, \"#d8576b\"], [0.6666666666666666, \"#ed7953\"], [0.7777777777777778, \"#fb9f3a\"], [0.8888888888888888, \"#fdca26\"], [1.0, \"#f0f921\"]], \"sequentialminus\": [[0.0, \"#0d0887\"], [0.1111111111111111, \"#46039f\"], [0.2222222222222222, \"#7201a8\"], [0.3333333333333333, \"#9c179e\"], [0.4444444444444444, \"#bd3786\"], [0.5555555555555556, \"#d8576b\"], [0.6666666666666666, \"#ed7953\"], [0.7777777777777778, \"#fb9f3a\"], [0.8888888888888888, \"#fdca26\"], [1.0, \"#f0f921\"]]}, \"colorway\": [\"#636efa\", \"#EF553B\", \"#00cc96\", \"#ab63fa\", \"#FFA15A\", \"#19d3f3\", \"#FF6692\", \"#B6E880\", \"#FF97FF\", \"#FECB52\"], \"font\": {\"color\": \"#2a3f5f\"}, \"geo\": {\"bgcolor\": \"white\", \"lakecolor\": \"white\", \"landcolor\": \"#E5ECF6\", \"showlakes\": true, \"showland\": true, \"subunitcolor\": \"white\"}, \"hoverlabel\": {\"align\": \"left\"}, \"hovermode\": \"closest\", \"mapbox\": {\"style\": \"light\"}, \"paper_bgcolor\": \"white\", \"plot_bgcolor\": \"#E5ECF6\", \"polar\": {\"angularaxis\": {\"gridcolor\": \"white\", \"linecolor\": \"white\", \"ticks\": \"\"}, \"bgcolor\": \"#E5ECF6\", \"radialaxis\": {\"gridcolor\": \"white\", \"linecolor\": \"white\", \"ticks\": \"\"}}, \"scene\": {\"xaxis\": {\"backgroundcolor\": \"#E5ECF6\", \"gridcolor\": \"white\", \"gridwidth\": 2, \"linecolor\": \"white\", \"showbackground\": true, \"ticks\": \"\", \"zerolinecolor\": \"white\"}, \"yaxis\": {\"backgroundcolor\": \"#E5ECF6\", \"gridcolor\": \"white\", \"gridwidth\": 2, \"linecolor\": \"white\", \"showbackground\": true, \"ticks\": \"\", \"zerolinecolor\": \"white\"}, \"zaxis\": {\"backgroundcolor\": \"#E5ECF6\", \"gridcolor\": \"white\", \"gridwidth\": 2, \"linecolor\": \"white\", \"showbackground\": true, \"ticks\": \"\", \"zerolinecolor\": \"white\"}}, \"shapedefaults\": {\"line\": {\"color\": \"#2a3f5f\"}}, \"ternary\": {\"aaxis\": {\"gridcolor\": \"white\", \"linecolor\": \"white\", \"ticks\": \"\"}, \"baxis\": {\"gridcolor\": \"white\", \"linecolor\": \"white\", \"ticks\": \"\"}, \"bgcolor\": \"#E5ECF6\", \"caxis\": {\"gridcolor\": \"white\", \"linecolor\": \"white\", \"ticks\": \"\"}}, \"title\": {\"x\": 0.05}, \"xaxis\": {\"automargin\": true, \"gridcolor\": \"white\", \"linecolor\": \"white\", \"ticks\": \"\", \"title\": {\"standoff\": 15}, \"zerolinecolor\": \"white\", \"zerolinewidth\": 2}, \"yaxis\": {\"automargin\": true, \"gridcolor\": \"white\", \"linecolor\": \"white\", \"ticks\": \"\", \"title\": {\"standoff\": 15}, \"zerolinecolor\": \"white\", \"zerolinewidth\": 2}}}},\n",
       "                        {\"responsive\": true}\n",
       "                    ).then(function(){\n",
       "                            \n",
       "var gd = document.getElementById('fc28dcca-f399-4aae-ab86-a2c3674bbad3');\n",
       "var x = new MutationObserver(function (mutations, observer) {{\n",
       "        var display = window.getComputedStyle(gd).display;\n",
       "        if (!display || display === 'none') {{\n",
       "            console.log([gd, 'removed!']);\n",
       "            Plotly.purge(gd);\n",
       "            observer.disconnect();\n",
       "        }}\n",
       "}});\n",
       "\n",
       "// Listen for the removal of the full notebook cells\n",
       "var notebookContainer = gd.closest('#notebook-container');\n",
       "if (notebookContainer) {{\n",
       "    x.observe(notebookContainer, {childList: true});\n",
       "}}\n",
       "\n",
       "// Listen for the clearing of the current output cell\n",
       "var outputEl = gd.closest('.output');\n",
       "if (outputEl) {{\n",
       "    x.observe(outputEl, {childList: true});\n",
       "}}\n",
       "\n",
       "                        })\n",
       "                };\n",
       "                });\n",
       "            </script>\n",
       "        </div>"
      ]
     },
     "metadata": {},
     "output_type": "display_data"
    }
   ],
   "source": [
    "x_nom = torch.tensor([np.pi, 0.], dtype=vf.dtype)\n",
    "u_nom = torch.zeros(vf.u_dim[0], dtype=vf.dtype)\n",
    "Q = torch.diag(torch.Tensor([1., 10.]))\n",
    "R = torch.diag(torch.Tensor([1.]))\n",
    "ctrl, S = controllers.get_lqr_controller(sys.dx, x_nom, u_nom, Q, R, vf.u_lo[0], vf.u_up[0])\n",
    "\n",
    "ctrl = controllers.get_limited_lookahead_controller(get_value_function(offline_horizon)[0])\n",
    "\n",
    "x0 = torch.tensor([np.pi+1.5, 0.], dtype=vf.dtype)\n",
    "x_traj_sim, t_traj_sim = controllers.sim_ctrl(x0, vf.u_dim[0], sys.dx, ctrl, .1, 50)\n",
    "\n",
    "fig = go.Figure()\n",
    "for i in range(2):\n",
    "    fig.add_trace(go.Scatter(\n",
    "        x=t_traj_sim,\n",
    "        y=x_traj_sim[i,:]\n",
    "    ))\n",
    "fig.show()"
   ]
  },
  {
   "cell_type": "code",
   "execution_count": 7,
   "metadata": {},
   "outputs": [],
   "source": [
    "opt = dict(\n",
    "    max_buffer_size = None,\n",
    "    batch_size = 10,\n",
    "    learning_rate = 1e-3,\n",
    "    \n",
    "    nn_width = 50,\n",
    "    nn_depth = 1,\n",
    "\n",
    "    num_samples_validation = 100,\n",
    "    \n",
    "    init_num_samples = [10, 10],\n",
    "    init_num_trainig_step = 1000,\n",
    "\n",
    "    num_generations = 5,\n",
    "    num_samples_per_generation = 100,\n",
    "    num_train_step_per_gen = 1000,\n",
    "    \n",
    "    adv_max_iter = 3,\n",
    "    adv_conv_tol = 1e-5,\n",
    "    adv_learning_rate = .25,\n",
    ")"
   ]
  },
  {
   "cell_type": "code",
   "execution_count": 8,
   "metadata": {},
   "outputs": [],
   "source": [
    "sys_name = 'pendulum'\n",
    "validation_file = '../data/validation_' + sys_name\n",
    "init_file = '../data/init_' + sys_name"
   ]
  },
  {
   "cell_type": "code",
   "execution_count": 9,
   "metadata": {},
   "outputs": [],
   "source": [
    "x0_lo = torch.tensor([np.pi-1.5, -15.], dtype=vf.dtype)\n",
    "x0_up = torch.tensor([np.pi+1.5, 15.], dtype=vf.dtype)\n",
    "\n",
    "samples_gen_rand = samples_generator.RandomSampleGenerator(vf, x0_lo, x0_up)\n",
    "samples_gen_grid = samples_generator.GridSampleGenerator(vf, x0_lo, x0_up)\n",
    "samples_gen_adv = samples_generator.AdversarialSampleGenerator(vf, x0_lo, x0_up, \n",
    "                                                               max_iter=opt['adv_max_iter'],\n",
    "                                                               conv_tol=opt['adv_conv_tol'],\n",
    "                                                               learning_rate=opt['adv_learning_rate'])"
   ]
  },
  {
   "cell_type": "code",
   "execution_count": 10,
   "metadata": {},
   "outputs": [
    {
     "name": "stdout",
     "output_type": "stream",
     "text": [
      "Progress: [########################################] 100.0%\n"
     ]
    }
   ],
   "source": [
    "x_validation, v_validation = samples_gen_rand.generate_samples(opt['num_samples_validation'],\n",
    "                                                               include_time=True,\n",
    "                                                               show_progress=True)"
   ]
  },
  {
   "cell_type": "code",
   "execution_count": null,
   "metadata": {},
   "outputs": [],
   "source": [
    "torch.save(x_validation, validation_file + '_x.pt')\n",
    "torch.save(v_validation, validation_file + '_v.pt')"
   ]
  },
  {
   "cell_type": "code",
   "execution_count": null,
   "metadata": {},
   "outputs": [],
   "source": [
    "x_validation = torch.load(validation_file + '_x.pt')\n",
    "v_validation = torch.load(validation_file + '_v.pt')"
   ]
  },
  {
   "cell_type": "code",
   "execution_count": null,
   "metadata": {},
   "outputs": [],
   "source": [
    "x_init, v_init = samples_gen_grid.generate_samples(opt['init_num_samples'],\n",
    "                                                   include_time=True,\n",
    "                                                   show_progress=True)"
   ]
  },
  {
   "cell_type": "code",
   "execution_count": null,
   "metadata": {},
   "outputs": [],
   "source": [
    "torch.save(x_init, init_file + '_x.pt')\n",
    "torch.save(v_init, init_file + '_v.pt')"
   ]
  },
  {
   "cell_type": "code",
   "execution_count": null,
   "metadata": {},
   "outputs": [],
   "source": [
    "x_init = torch.load(init_file + '_x.pt')\n",
    "v_init = torch.load(init_file + '_v.pt')"
   ]
  },
  {
   "cell_type": "code",
   "execution_count": 22,
   "metadata": {},
   "outputs": [],
   "source": [
    "scaling = torch.mean(v_validation)\n",
    "\n",
    "# model = value_approximation.QuadraticModel(vf.dtype,\n",
    "#                                            1 + vf.x_dim[0],\n",
    "#                                            scaling=scaling)\n",
    "\n",
    "model = value_approximation.NeuralNetworkModel(vf.dtype,\n",
    "                                               1 + vf.x_dim[0],\n",
    "                                               opt['nn_width'],\n",
    "                                               opt['nn_depth'],\n",
    "                                               scaling=scaling)\n",
    "\n",
    "vf_approx = value_approximation.ValueFunctionApproximation(model, learning_rate=opt['learning_rate'])\n",
    "\n",
    "train_log = training_log.TrainingLog(prefix=\"baseline\")"
   ]
  },
  {
   "cell_type": "code",
   "execution_count": null,
   "metadata": {},
   "outputs": [],
   "source": [
    "samples_buff = samples_buffer.SamplesBuffer(1 + vf.x_dim[0], 1, vf.dtype, max_size=opt['max_buffer_size'])"
   ]
  },
  {
   "cell_type": "code",
   "execution_count": null,
   "metadata": {},
   "outputs": [],
   "source": [
    "samples_buff.add_samples(x_init, v_init)"
   ]
  },
  {
   "cell_type": "code",
   "execution_count": null,
   "metadata": {},
   "outputs": [],
   "source": [
    "for train_step_i in range(opt['init_num_trainig_step']):\n",
    "    x, v = samples_buff.get_random_samples(opt['batch_size'])\n",
    "    loss = vf_approx.train_step(x, v)\n",
    "    train_log.add_train_loss(loss)"
   ]
  },
  {
   "cell_type": "code",
   "execution_count": null,
   "metadata": {},
   "outputs": [],
   "source": [
    "x0 = torch.tensor([0., 15.], dtype=vf.dtype)\n",
    "online_horizon = 3"
   ]
  },
  {
   "cell_type": "code",
   "execution_count": null,
   "metadata": {},
   "outputs": [],
   "source": [
    "ctrl = controllers.get_limited_lookahead_controller(get_value_function(online_horizon)[0], vf_approx)\n",
    "x_traj_sim, t_traj_sim = controllers.sim_ctrl(x0, vf.u_dim[0], sys.dx, ctrl, .1, 50)\n",
    "controllers.plot_sim(t_traj_sim, x_traj_sim, \"Baseline\").show()"
   ]
  },
  {
   "cell_type": "code",
   "execution_count": null,
   "metadata": {},
   "outputs": [],
   "source": [
    "ctrl = controllers.get_limited_lookahead_controller(get_value_function(online_horizon)[0])\n",
    "x_traj_sim, t_traj_sim = controllers.sim_ctrl(x0, vf.u_dim[0], sys.dx, ctrl, .1, 50)\n",
    "controllers.plot_sim(t_traj_sim, x_traj_sim, \"Baseline - No lookahead\").show()"
   ]
  },
  {
   "cell_type": "code",
   "execution_count": 23,
   "metadata": {},
   "outputs": [
    {
     "name": "stdout",
     "output_type": "stream",
     "text": [
      "Progress: [########################################] 100.0%\n",
      "torch.Size([10, 1])\n"
     ]
    }
   ],
   "source": [
    "x, v = samples_gen_adv.generate_samples(10, vf_approx, include_time=False, show_progress=True)\n",
    "print(v.shape)"
   ]
  }
 ],
 "metadata": {
  "kernelspec": {
   "display_name": "Python 3",
   "language": "python",
   "name": "python3"
  },
  "language_info": {
   "codemirror_mode": {
    "name": "ipython",
    "version": 3
   },
   "file_extension": ".py",
   "mimetype": "text/x-python",
   "name": "python",
   "nbconvert_exporter": "python",
   "pygments_lexer": "ipython3",
   "version": "3.7.5"
  }
 },
 "nbformat": 4,
 "nbformat_minor": 2
}
