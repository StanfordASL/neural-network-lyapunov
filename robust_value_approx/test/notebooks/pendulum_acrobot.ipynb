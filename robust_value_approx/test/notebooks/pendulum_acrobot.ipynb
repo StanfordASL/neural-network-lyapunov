{
 "cells": [
  {
   "cell_type": "code",
   "execution_count": 113,
   "metadata": {},
   "outputs": [
    {
     "name": "stdout",
     "output_type": "stream",
     "text": [
      "The autoreload extension is already loaded. To reload it, use:\n",
      "  %reload_ext autoreload\n"
     ]
    }
   ],
   "source": [
    "%load_ext autoreload\n",
    "%autoreload 2"
   ]
  },
  {
   "cell_type": "code",
   "execution_count": 114,
   "metadata": {
    "scrolled": true
   },
   "outputs": [
    {
     "data": {
      "text/html": [
       "        <script type=\"text/javascript\">\n",
       "        window.PlotlyConfig = {MathJaxConfig: 'local'};\n",
       "        if (window.MathJax) {MathJax.Hub.Config({SVG: {font: \"STIX-Web\"}});}\n",
       "        if (typeof require !== 'undefined') {\n",
       "        require.undef(\"plotly\");\n",
       "        requirejs.config({\n",
       "            paths: {\n",
       "                'plotly': ['https://cdn.plot.ly/plotly-latest.min']\n",
       "            }\n",
       "        });\n",
       "        require(['plotly'], function(Plotly) {\n",
       "            window._Plotly = Plotly;\n",
       "        });\n",
       "        }\n",
       "        </script>\n",
       "        "
      ]
     },
     "metadata": {},
     "output_type": "display_data"
    }
   ],
   "source": [
    "import sys\n",
    "sys.path.append(\"..\")\n",
    "sys.path.append(\".\")\n",
    "import torch\n",
    "import numpy as np\n",
    "import copy\n",
    "import plotly\n",
    "import plotly.graph_objs as go\n",
    "import pickle\n",
    "from datetime import datetime\n",
    "plotly.offline.init_notebook_mode(connected=True)\n",
    "\n",
    "import robust_value_approx.samples_generator as samples_generator\n",
    "import robust_value_approx.samples_buffer as samples_buffer\n",
    "import robust_value_approx.value_approximation as value_approximation\n",
    "import robust_value_approx.training_log as training_log\n",
    "import robust_value_approx.controllers as controllers\n",
    "\n",
    "import pendulum_utils\n",
    "import acrobot_utils"
   ]
  },
  {
   "cell_type": "markdown",
   "metadata": {},
   "source": [
    "# Pendulum"
   ]
  },
  {
   "cell_type": "code",
   "execution_count": null,
   "metadata": {},
   "outputs": [],
   "source": [
    "vf, sys = pendulum_utils.get_value_function(10)\n",
    "V = vf.get_value_function()"
   ]
  },
  {
   "cell_type": "code",
   "execution_count": null,
   "metadata": {},
   "outputs": [],
   "source": [
    "x0 = torch.Tensor([np.pi+1.5, 1.]).double()\n",
    "v, res = V(x0)\n",
    "sys.plot_result(res).show()"
   ]
  },
  {
   "cell_type": "code",
   "execution_count": null,
   "metadata": {},
   "outputs": [],
   "source": [
    "# ctrl = lambda x: (torch.zeros(1), torch.zeros(1), None)\n",
    "# ctrl = controllers.get_optimal_controller(vf)\n",
    "x_nom = torch.Tensor([np.pi, 0.]).type(vf.dtype)\n",
    "u_nom = torch.zeros(vf.u_dim[0]).type(vf.dtype)\n",
    "ctrl, S = controllers.get_lqr_controller(sys.dx, x_nom, u_nom, torch.diag(torch.Tensor([1., 10.])), torch.diag(torch.Tensor([1.])), vf.u_lo[0], vf.u_up[0])\n",
    "\n",
    "Q = torch.Tensor(S).type(vf.dtype)\n",
    "lqr_model = value_approximation.QuadraticModel(2, torch.float64, Q=Q, q=-2.*Q@x_nom, c=x_nom@Q@x_nom)\n",
    "ctrl = controllers.get_sampling_infinite_horizon_controller(sys.dx, vf.step_cost, lqr_model, vf.u_lo[0], vf.u_up[0], vf.dt_lo, 100)\n",
    "\n",
    "x0 = torch.Tensor([np.pi+1.5, 0.]).double()\n",
    "x_traj_sim, t_traj_sim = controllers.sim_ctrl(x0, 1, sys.dx, ctrl, .1, 50)\n",
    "\n",
    "fig = go.Figure()\n",
    "for i in range(2):\n",
    "    fig.add_trace(go.Scatter(\n",
    "        x=t_traj_sim,\n",
    "        y=x_traj_sim[i,:]\n",
    "    ))\n",
    "fig.show()"
   ]
  },
  {
   "cell_type": "code",
   "execution_count": null,
   "metadata": {},
   "outputs": [],
   "source": [
    "x0_lo = torch.Tensor([np.pi-1.5, -15.]).type(vf.dtype)\n",
    "x0_up = torch.Tensor([np.pi+1.5, 15.]).type(vf.dtype)\n",
    "\n",
    "# file options\n",
    "sys_name = 'pendulum'\n",
    "x_samples_file = '../data/validation_' + sys_name + '_x.pt'\n",
    "v_samples_file = '../data/validation_' + sys_name + '_v.pt'\n",
    "model_file = '../data/' + sys_name + '.pt'"
   ]
  },
  {
   "cell_type": "code",
   "execution_count": null,
   "metadata": {},
   "outputs": [],
   "source": [
    "opt = dict(\n",
    "    max_buffer_size = None,\n",
    "    batch_size = 10,\n",
    "    nn_width = None,\n",
    "    nn_depth = None,\n",
    "\n",
    "    init_num_samples = 0,\n",
    "    init_num_trainig_step = 0,\n",
    "    \n",
    "    num_generations = 100,\n",
    "    num_samples_per_generation = 10,\n",
    "    num_train_step_per_gen = 100,\n",
    "    \n",
    "    adv_max_iter = 3,\n",
    "    adv_conv_tol = 1e-5,\n",
    "    adv_learning_rate = .25,\n",
    "    \n",
    "    num_samples_validation = 500,\n",
    ")"
   ]
  },
  {
   "cell_type": "code",
   "execution_count": null,
   "metadata": {},
   "outputs": [],
   "source": [
    "samples_gen = samples_generator.RandomSampleGenerator(vf, x0_lo, x0_up)\n",
    "\n",
    "data, label = samples_gen.generate_samples(1)\n",
    "samples_buff = samples_buffer.SamplesBuffer(data.shape[1], label.shape[1], vf.dtype, max_size=opt['max_buffer_size'])\n",
    "\n",
    "vf_approx = value_approximation.InfiniteHorizonValueFunctionApproximation(vf.dtype, vf.x_dim[0], opt['nn_width'], opt['nn_depth'])\n",
    "train_log = training_log.TrainingLog(1, prefix=\"baseline\")"
   ]
  },
  {
   "cell_type": "code",
   "execution_count": null,
   "metadata": {},
   "outputs": [],
   "source": [
    "x_samples_validation, v_labels_validation = samples_gen.generate_samples(opt['num_samples_validation'])"
   ]
  },
  {
   "cell_type": "code",
   "execution_count": null,
   "metadata": {},
   "outputs": [],
   "source": [
    "torch.save(x_samples_validation, x_samples_file)\n",
    "torch.save(v_labels_validation, v_samples_file)"
   ]
  },
  {
   "cell_type": "code",
   "execution_count": null,
   "metadata": {},
   "outputs": [],
   "source": [
    "x_samples_validation = torch.load(x_samples_file)\n",
    "v_labels_validation = torch.load(v_samples_file)"
   ]
  },
  {
   "cell_type": "code",
   "execution_count": null,
   "metadata": {},
   "outputs": [],
   "source": [
    "(x_samples, v_labels) = samples_gen.generate_samples(opt['init_num_samples'])\n",
    "samples_buff.add_samples(x_samples, v_labels)"
   ]
  },
  {
   "cell_type": "code",
   "execution_count": null,
   "metadata": {},
   "outputs": [],
   "source": [
    "for train_step_i in range(opt['init_num_trainig_step']):\n",
    "    x, v = samples_buff.get_random_samples(opt['batch_size'])\n",
    "    losses = vf_approx.train_step(x, v)\n",
    "    train_log.add_train_loss(losses)"
   ]
  },
  {
   "cell_type": "code",
   "execution_count": null,
   "metadata": {},
   "outputs": [],
   "source": [
    "samples_buff_adv = copy.deepcopy(samples_buff)\n",
    "samples_gen_adv = samples_generator.AdversarialSampleGenerator(vf, x0_lo, x0_up, \n",
    "                                                               max_iter=opt['adv_max_iter'],\n",
    "                                                               conv_tol=opt['adv_conv_tol'],\n",
    "                                                               learning_rate=opt['adv_learning_rate'])\n",
    "vf_approx_adv = copy.deepcopy(vf_approx)\n",
    "train_log_adv = training_log.TrainingLog.get_copy(\n",
    "    train_log, prefix=\"adversarial\", keep_writer=True)"
   ]
  },
  {
   "cell_type": "code",
   "execution_count": null,
   "metadata": {},
   "outputs": [],
   "source": [
    "validation_losses = vf_approx_adv.validation_loss(x_samples_validation, v_labels_validation)\n",
    "train_log_adv.add_validation_loss(validation_losses)\n",
    "validation_losses = vf_approx.validation_loss(x_samples_validation, v_labels_validation)\n",
    "train_log.add_validation_loss(validation_losses)\n",
    "for gen_i in range(opt['num_generations']):\n",
    "    # adverserial samples\n",
    "    (x_samples, v_labels) = samples_gen_adv.generate_samples(opt['num_samples_per_generation'], vf_approx_adv)\n",
    "    samples_buff_adv.add_samples(x_samples, v_labels)\n",
    "    # random samples\n",
    "    (x_samples, v_labels) = samples_gen.generate_samples(opt['num_samples_per_generation'])\n",
    "    samples_buff.add_samples(x_samples, v_labels)\n",
    "    for train_step_i in range(opt['num_train_step_per_gen']):\n",
    "        samples_indices = samples_buff_adv.get_random_sample_indices(opt['batch_size'])\n",
    "        x, v = samples_buff_adv.get_samples_from_indices(samples_indices)\n",
    "        losses = vf_approx_adv.train_step(x, v)\n",
    "        train_log_adv.add_train_loss(losses)\n",
    "        x, v = samples_buff.get_samples_from_indices(samples_indices)\n",
    "        losses = vf_approx.train_step(x, v)\n",
    "        train_log.add_train_loss(losses)\n",
    "    validation_losses = vf_approx_adv.validation_loss(x_samples_validation, v_labels_validation)\n",
    "    train_log_adv.add_validation_loss(validation_losses)\n",
    "    validation_losses = vf_approx.validation_loss(x_samples_validation, v_labels_validation)\n",
    "    train_log.add_validation_loss(validation_losses)"
   ]
  },
  {
   "cell_type": "code",
   "execution_count": null,
   "metadata": {},
   "outputs": [],
   "source": [
    "# controller params\n",
    "dt_ctrl = .2\n",
    "num_samples = 100\n",
    "\n",
    "# benchmark params\n",
    "x0 = torch.Tensor([np.pi, 0.]).type(vf.dtype)\n",
    "x0_eps = torch.Tensor([1.5, 15.]).type(vf.dtype)\n",
    "\n",
    "x_goal = torch.Tensor([np.pi, 0.]).type(vf.dtype)\n",
    "num_breaks = [10, 10]\n",
    "dt_sim = .1\n",
    "N = 20"
   ]
  },
  {
   "cell_type": "code",
   "execution_count": null,
   "metadata": {},
   "outputs": [],
   "source": [
    "ctrl_baseline = controllers.get_sampling_infinite_horizon_controller(sys.dx, vf.step_cost, vf_approx.model, vf.u_lo[0], vf.u_up[0], dt_ctrl, num_samples)\n",
    "bench_baseline = controllers.benchmark_controller(u_min.shape[0], sys.dx, ctrl_baseline, x0, x0_eps, num_breaks, x_goal, dt_sim, N)"
   ]
  },
  {
   "cell_type": "code",
   "execution_count": null,
   "metadata": {},
   "outputs": [],
   "source": [
    "ctrl_adv = controllers.get_sampling_infinite_horizon_controller(sys.dx, vf.step_cost, vf_approx_adv.model, vf.u_lo[0], vf.u_up[0], dt_ctrl, num_samples)\n",
    "bench_adv = controllers.benchmark_controller(u_min.shape[0], sys.dx, ctrl_adv, x0, x0_eps, num_breaks, x_goal, dt_sim, N)"
   ]
  },
  {
   "cell_type": "code",
   "execution_count": null,
   "metadata": {},
   "outputs": [],
   "source": [
    "Q = torch.diag(torch.Tensor([1., 10.]))\n",
    "R = torch.diag(torch.Tensor([1.]))\n",
    "x_nom = torch.Tensor([np.pi, 0.]).type(vf.dtype)\n",
    "u_nom = torch.zeros(u_min.shape[0]).type(vf.dtype)\n",
    "ctrl_lqr, S = controllers.get_lqr_controller(sys.dx, x_nom, u_nom, Q, R, vf.u_lo[0], vf.u_up[0])\n",
    "bench_lqr = controllers.benchmark_controller(u_min.shape[0], sys.dx, ctrl_lqr, x0, x0_eps, num_breaks, x_goal, dt_sim, N)"
   ]
  },
  {
   "cell_type": "code",
   "execution_count": null,
   "metadata": {
    "scrolled": true
   },
   "outputs": [],
   "source": [
    "conv_thresh = 1.5\n",
    "zmin = 0.\n",
    "zmax = 3.\n",
    "\n",
    "baseline_plot = True\n",
    "adversarial_plot = True\n",
    "lqr_plot = True\n",
    "\n",
    "if baseline_plot:\n",
    "    print(\"Baseline\")\n",
    "    fig = go.Figure()\n",
    "    fig.add_trace(go.Heatmap(\n",
    "        z = bench_baseline.detach().numpy(),\n",
    "        zmin = zmin,\n",
    "        zmax = zmax,\n",
    "        ))\n",
    "    fig.show()\n",
    "\n",
    "if adversarial_plot:\n",
    "    print(\"Adversarial\")\n",
    "    fig = go.Figure()\n",
    "    fig.add_trace(go.Heatmap(\n",
    "        z = bench_adv.detach().numpy(),\n",
    "        zmin = zmin,\n",
    "        zmax = zmax,\n",
    "        ))\n",
    "    fig.show()\n",
    "\n",
    "if lqr_plot:\n",
    "    print(\"LQR\")\n",
    "    fig = go.Figure()\n",
    "    fig.add_trace(go.Heatmap(\n",
    "        z = bench_lqr.detach().numpy(),\n",
    "        zmin = zmin,\n",
    "        zmax = zmax,\n",
    "        ))\n",
    "    fig.show()\n",
    "\n",
    "if baseline_plot:\n",
    "    print(\"Baseline\")\n",
    "    fig = go.Figure()\n",
    "    fig.add_trace(go.Heatmap(\n",
    "        z = torch.Tensor(bench_baseline.detach().numpy() > conv_thresh).type(vf.dtype),\n",
    "        ))\n",
    "    fig.show()\n",
    "\n",
    "if adversarial_plot:\n",
    "    print(\"Adversarial\")\n",
    "    fig = go.Figure()\n",
    "    fig.add_trace(go.Heatmap(\n",
    "        z = torch.Tensor(bench_adv.detach().numpy() > conv_thresh).type(vf.dtype),\n",
    "        ))\n",
    "    fig.show()\n",
    "\n",
    "if lqr_plot:\n",
    "    print(\"LQR\")\n",
    "    fig = go.Figure()\n",
    "    fig.add_trace(go.Heatmap(\n",
    "        z = torch.Tensor(bench_lqr.detach().numpy() > conv_thresh).type(vf.dtype),\n",
    "        ))\n",
    "    fig.show()"
   ]
  },
  {
   "cell_type": "code",
   "execution_count": null,
   "metadata": {
    "scrolled": true
   },
   "outputs": [],
   "source": [
    "if baseline_plot:\n",
    "    print(\"Baseline\")\n",
    "    fig = go.Figure()\n",
    "    fig.add_trace(go.Heatmap(\n",
    "        z = (bench_baseline-bench_adv).detach().numpy(),\n",
    "        ))\n",
    "    fig.show()"
   ]
  },
  {
   "cell_type": "markdown",
   "metadata": {},
   "source": [
    "# Acrobot"
   ]
  },
  {
   "cell_type": "code",
   "execution_count": 115,
   "metadata": {},
   "outputs": [],
   "source": [
    "vf, sys = acrobot_utils.get_value_function(30)\n",
    "V = vf.get_value_function()"
   ]
  },
  {
   "cell_type": "code",
   "execution_count": 117,
   "metadata": {},
   "outputs": [
    {
     "data": {
      "application/vnd.plotly.v1+json": {
       "config": {
        "plotlyServerURL": "https://plot.ly"
       },
       "data": [
        {
         "name": "theta1",
         "type": "scatter",
         "x": [
          0,
          0.10000000149011612,
          0.20000000298023224,
          0.30000000447034836,
          0.4000000059604645,
          0.5000000074505806,
          0.6000000089406967,
          0.7000000104308128,
          0.800000011920929,
          0.9000000134110451,
          1.0000000149011612,
          1.1000000163912773,
          1.2000000178813934,
          1.3000000193715096,
          1.4000000208616257,
          1.5000000223517418,
          1.600000023841858,
          1.700000025331974,
          1.8000000268220901,
          1.9000000283122063,
          2.0000000298023224,
          2.1000000312924385,
          2.2000000327825546,
          2.3000000342726707,
          2.400000035762787,
          2.500000037252903,
          2.600000038743019,
          2.7000000402331352,
          2.8000000417232513,
          2.9000000432133675
         ],
         "y": [
          3.2415926456451416,
          3.1966981887817383,
          3.089022397994995,
          2.9802536964416504,
          2.908511161804199,
          2.8725194931030273,
          2.8627917766571045,
          2.870893955230713,
          2.8904154300689697,
          2.916522741317749,
          2.9455695152282715,
          2.974886417388916,
          3.0026626586914062,
          3.0278241634368896,
          3.049882650375366,
          3.0687689781188965,
          3.084681510925293,
          3.097963571548462,
          3.109020948410034,
          3.1182689666748047,
          3.1261041164398193,
          3.1328978538513184,
          3.1390044689178467,
          3.1447601318359375,
          3.1504743099212646,
          3.1564362049102783,
          3.162914514541626,
          3.170117139816284,
          3.1780712604522705,
          3.18692684173584
         ]
        },
        {
         "name": "theta2",
         "type": "scatter",
         "x": [
          0,
          0.10000000149011612,
          0.20000000298023224,
          0.30000000447034836,
          0.4000000059604645,
          0.5000000074505806,
          0.6000000089406967,
          0.7000000104308128,
          0.800000011920929,
          0.9000000134110451,
          1.0000000149011612,
          1.1000000163912773,
          1.2000000178813934,
          1.3000000193715096,
          1.4000000208616257,
          1.5000000223517418,
          1.600000023841858,
          1.700000025331974,
          1.8000000268220901,
          1.9000000283122063,
          2.0000000298023224,
          2.1000000312924385,
          2.2000000327825546,
          2.3000000342726707,
          2.400000035762787,
          2.500000037252903,
          2.600000038743019,
          2.7000000402331352,
          2.8000000417232513,
          2.9000000432133675
         ],
         "y": [
          -0.10000000149011612,
          0.024245034903287888,
          0.32431429624557495,
          0.6334394812583923,
          0.8452651500701904,
          0.957581639289856,
          0.9922451376914978,
          0.9711622595787048,
          0.9126623868942261,
          0.8315438032150269,
          0.739386796951294,
          0.644802987575531,
          0.5537172555923462,
          0.46976438164711,
          0.3947873115539551,
          0.329352468252182,
          0.2732082009315491,
          0.22564120590686798,
          0.18572171032428741,
          0.15246491134166718,
          0.12492679059505463,
          0.10223788768053055,
          0.0836000069975853,
          0.06830750405788422,
          0.05579199641942978,
          0.04562588408589363,
          0.037545040249824524,
          0.03158493712544441,
          0.028426051139831543,
          0.02861303649842739
         ]
        },
        {
         "name": "theta1_dot",
         "type": "scatter",
         "x": [
          0,
          0.10000000149011612,
          0.20000000298023224,
          0.30000000447034836,
          0.4000000059604645,
          0.5000000074505806,
          0.6000000089406967,
          0.7000000104308128,
          0.800000011920929,
          0.9000000134110451,
          1.0000000149011612,
          1.1000000163912773,
          1.2000000178813934,
          1.3000000193715096,
          1.4000000208616257,
          1.5000000223517418,
          1.600000023841858,
          1.700000025331974,
          1.8000000268220901,
          1.9000000283122063,
          2.0000000298023224,
          2.1000000312924385,
          2.2000000327825546,
          2.3000000342726707,
          2.400000035762787,
          2.500000037252903,
          2.600000038743019,
          2.7000000402331352,
          2.8000000417232513,
          2.9000000432133675
         ],
         "y": [
          0,
          -0.8978903293609619,
          -1.255622386932373,
          -0.9197535514831543,
          -0.515096127986908,
          -0.20473897457122803,
          0.010183536447584629,
          0.1518602818250656,
          0.23857027292251587,
          0.28357869386672974,
          0.29735228419303894,
          0.2889873683452606,
          0.26653867959976196,
          0.23669324815273285,
          0.20447365939617157,
          0.17325520515441895,
          0.1449955701828003,
          0.12064389139413834,
          0.10050153732299805,
          0.08446042239665985,
          0.0722448080778122,
          0.06362935155630112,
          0.05850019305944443,
          0.05661394074559212,
          0.05767158791422844,
          0.06156513839960098,
          0.06800231337547302,
          0.07605012506246567,
          0.08302963525056839,
          0.09408316761255264
         ]
        },
        {
         "name": "theta2_dot",
         "type": "scatter",
         "x": [
          0,
          0.10000000149011612,
          0.20000000298023224,
          0.30000000447034836,
          0.4000000059604645,
          0.5000000074505806,
          0.6000000089406967,
          0.7000000104308128,
          0.800000011920929,
          0.9000000134110451,
          1.0000000149011612,
          1.1000000163912773,
          1.2000000178813934,
          1.3000000193715096,
          1.4000000208616257,
          1.5000000223517418,
          1.600000023841858,
          1.700000025331974,
          1.8000000268220901,
          1.9000000283122063,
          2.0000000298023224,
          2.1000000312924385,
          2.2000000327825546,
          2.3000000342726707,
          2.400000035762787,
          2.500000037252903,
          2.600000038743019,
          2.7000000402331352,
          2.8000000417232513,
          2.9000000432133675
         ],
         "y": [
          0,
          2.484900712966919,
          3.5164847373962402,
          2.66601824760437,
          1.5704960823059082,
          0.6758337020874023,
          0.01743595488369465,
          -0.4390941262245178,
          -0.7309024930000305,
          -0.8914701342582703,
          -0.9516695737838745,
          -0.9400068521499634,
          -0.8817078471183777,
          -0.7973490953445435,
          -0.7021924257278442,
          -0.6065044403076172,
          -0.5163810849189758,
          -0.43495887517929077,
          -0.3634309470653534,
          -0.30170488357543945,
          -0.24905765056610107,
          -0.20472034811973572,
          -0.16803723573684692,
          -0.13781294226646423,
          -0.11249713599681854,
          -0.09082512557506561,
          -0.07079173624515533,
          -0.0484103225171566,
          -0.014767407439649105,
          0.018507113680243492
         ]
        }
       ],
       "layout": {
        "template": {
         "data": {
          "bar": [
           {
            "error_x": {
             "color": "#2a3f5f"
            },
            "error_y": {
             "color": "#2a3f5f"
            },
            "marker": {
             "line": {
              "color": "#E5ECF6",
              "width": 0.5
             }
            },
            "type": "bar"
           }
          ],
          "barpolar": [
           {
            "marker": {
             "line": {
              "color": "#E5ECF6",
              "width": 0.5
             }
            },
            "type": "barpolar"
           }
          ],
          "carpet": [
           {
            "aaxis": {
             "endlinecolor": "#2a3f5f",
             "gridcolor": "white",
             "linecolor": "white",
             "minorgridcolor": "white",
             "startlinecolor": "#2a3f5f"
            },
            "baxis": {
             "endlinecolor": "#2a3f5f",
             "gridcolor": "white",
             "linecolor": "white",
             "minorgridcolor": "white",
             "startlinecolor": "#2a3f5f"
            },
            "type": "carpet"
           }
          ],
          "choropleth": [
           {
            "colorbar": {
             "outlinewidth": 0,
             "ticks": ""
            },
            "type": "choropleth"
           }
          ],
          "contour": [
           {
            "colorbar": {
             "outlinewidth": 0,
             "ticks": ""
            },
            "colorscale": [
             [
              0,
              "#0d0887"
             ],
             [
              0.1111111111111111,
              "#46039f"
             ],
             [
              0.2222222222222222,
              "#7201a8"
             ],
             [
              0.3333333333333333,
              "#9c179e"
             ],
             [
              0.4444444444444444,
              "#bd3786"
             ],
             [
              0.5555555555555556,
              "#d8576b"
             ],
             [
              0.6666666666666666,
              "#ed7953"
             ],
             [
              0.7777777777777778,
              "#fb9f3a"
             ],
             [
              0.8888888888888888,
              "#fdca26"
             ],
             [
              1,
              "#f0f921"
             ]
            ],
            "type": "contour"
           }
          ],
          "contourcarpet": [
           {
            "colorbar": {
             "outlinewidth": 0,
             "ticks": ""
            },
            "type": "contourcarpet"
           }
          ],
          "heatmap": [
           {
            "colorbar": {
             "outlinewidth": 0,
             "ticks": ""
            },
            "colorscale": [
             [
              0,
              "#0d0887"
             ],
             [
              0.1111111111111111,
              "#46039f"
             ],
             [
              0.2222222222222222,
              "#7201a8"
             ],
             [
              0.3333333333333333,
              "#9c179e"
             ],
             [
              0.4444444444444444,
              "#bd3786"
             ],
             [
              0.5555555555555556,
              "#d8576b"
             ],
             [
              0.6666666666666666,
              "#ed7953"
             ],
             [
              0.7777777777777778,
              "#fb9f3a"
             ],
             [
              0.8888888888888888,
              "#fdca26"
             ],
             [
              1,
              "#f0f921"
             ]
            ],
            "type": "heatmap"
           }
          ],
          "heatmapgl": [
           {
            "colorbar": {
             "outlinewidth": 0,
             "ticks": ""
            },
            "colorscale": [
             [
              0,
              "#0d0887"
             ],
             [
              0.1111111111111111,
              "#46039f"
             ],
             [
              0.2222222222222222,
              "#7201a8"
             ],
             [
              0.3333333333333333,
              "#9c179e"
             ],
             [
              0.4444444444444444,
              "#bd3786"
             ],
             [
              0.5555555555555556,
              "#d8576b"
             ],
             [
              0.6666666666666666,
              "#ed7953"
             ],
             [
              0.7777777777777778,
              "#fb9f3a"
             ],
             [
              0.8888888888888888,
              "#fdca26"
             ],
             [
              1,
              "#f0f921"
             ]
            ],
            "type": "heatmapgl"
           }
          ],
          "histogram": [
           {
            "marker": {
             "colorbar": {
              "outlinewidth": 0,
              "ticks": ""
             }
            },
            "type": "histogram"
           }
          ],
          "histogram2d": [
           {
            "colorbar": {
             "outlinewidth": 0,
             "ticks": ""
            },
            "colorscale": [
             [
              0,
              "#0d0887"
             ],
             [
              0.1111111111111111,
              "#46039f"
             ],
             [
              0.2222222222222222,
              "#7201a8"
             ],
             [
              0.3333333333333333,
              "#9c179e"
             ],
             [
              0.4444444444444444,
              "#bd3786"
             ],
             [
              0.5555555555555556,
              "#d8576b"
             ],
             [
              0.6666666666666666,
              "#ed7953"
             ],
             [
              0.7777777777777778,
              "#fb9f3a"
             ],
             [
              0.8888888888888888,
              "#fdca26"
             ],
             [
              1,
              "#f0f921"
             ]
            ],
            "type": "histogram2d"
           }
          ],
          "histogram2dcontour": [
           {
            "colorbar": {
             "outlinewidth": 0,
             "ticks": ""
            },
            "colorscale": [
             [
              0,
              "#0d0887"
             ],
             [
              0.1111111111111111,
              "#46039f"
             ],
             [
              0.2222222222222222,
              "#7201a8"
             ],
             [
              0.3333333333333333,
              "#9c179e"
             ],
             [
              0.4444444444444444,
              "#bd3786"
             ],
             [
              0.5555555555555556,
              "#d8576b"
             ],
             [
              0.6666666666666666,
              "#ed7953"
             ],
             [
              0.7777777777777778,
              "#fb9f3a"
             ],
             [
              0.8888888888888888,
              "#fdca26"
             ],
             [
              1,
              "#f0f921"
             ]
            ],
            "type": "histogram2dcontour"
           }
          ],
          "mesh3d": [
           {
            "colorbar": {
             "outlinewidth": 0,
             "ticks": ""
            },
            "type": "mesh3d"
           }
          ],
          "parcoords": [
           {
            "line": {
             "colorbar": {
              "outlinewidth": 0,
              "ticks": ""
             }
            },
            "type": "parcoords"
           }
          ],
          "pie": [
           {
            "automargin": true,
            "type": "pie"
           }
          ],
          "scatter": [
           {
            "marker": {
             "colorbar": {
              "outlinewidth": 0,
              "ticks": ""
             }
            },
            "type": "scatter"
           }
          ],
          "scatter3d": [
           {
            "line": {
             "colorbar": {
              "outlinewidth": 0,
              "ticks": ""
             }
            },
            "marker": {
             "colorbar": {
              "outlinewidth": 0,
              "ticks": ""
             }
            },
            "type": "scatter3d"
           }
          ],
          "scattercarpet": [
           {
            "marker": {
             "colorbar": {
              "outlinewidth": 0,
              "ticks": ""
             }
            },
            "type": "scattercarpet"
           }
          ],
          "scattergeo": [
           {
            "marker": {
             "colorbar": {
              "outlinewidth": 0,
              "ticks": ""
             }
            },
            "type": "scattergeo"
           }
          ],
          "scattergl": [
           {
            "marker": {
             "colorbar": {
              "outlinewidth": 0,
              "ticks": ""
             }
            },
            "type": "scattergl"
           }
          ],
          "scattermapbox": [
           {
            "marker": {
             "colorbar": {
              "outlinewidth": 0,
              "ticks": ""
             }
            },
            "type": "scattermapbox"
           }
          ],
          "scatterpolar": [
           {
            "marker": {
             "colorbar": {
              "outlinewidth": 0,
              "ticks": ""
             }
            },
            "type": "scatterpolar"
           }
          ],
          "scatterpolargl": [
           {
            "marker": {
             "colorbar": {
              "outlinewidth": 0,
              "ticks": ""
             }
            },
            "type": "scatterpolargl"
           }
          ],
          "scatterternary": [
           {
            "marker": {
             "colorbar": {
              "outlinewidth": 0,
              "ticks": ""
             }
            },
            "type": "scatterternary"
           }
          ],
          "surface": [
           {
            "colorbar": {
             "outlinewidth": 0,
             "ticks": ""
            },
            "colorscale": [
             [
              0,
              "#0d0887"
             ],
             [
              0.1111111111111111,
              "#46039f"
             ],
             [
              0.2222222222222222,
              "#7201a8"
             ],
             [
              0.3333333333333333,
              "#9c179e"
             ],
             [
              0.4444444444444444,
              "#bd3786"
             ],
             [
              0.5555555555555556,
              "#d8576b"
             ],
             [
              0.6666666666666666,
              "#ed7953"
             ],
             [
              0.7777777777777778,
              "#fb9f3a"
             ],
             [
              0.8888888888888888,
              "#fdca26"
             ],
             [
              1,
              "#f0f921"
             ]
            ],
            "type": "surface"
           }
          ],
          "table": [
           {
            "cells": {
             "fill": {
              "color": "#EBF0F8"
             },
             "line": {
              "color": "white"
             }
            },
            "header": {
             "fill": {
              "color": "#C8D4E3"
             },
             "line": {
              "color": "white"
             }
            },
            "type": "table"
           }
          ]
         },
         "layout": {
          "annotationdefaults": {
           "arrowcolor": "#2a3f5f",
           "arrowhead": 0,
           "arrowwidth": 1
          },
          "coloraxis": {
           "colorbar": {
            "outlinewidth": 0,
            "ticks": ""
           }
          },
          "colorscale": {
           "diverging": [
            [
             0,
             "#8e0152"
            ],
            [
             0.1,
             "#c51b7d"
            ],
            [
             0.2,
             "#de77ae"
            ],
            [
             0.3,
             "#f1b6da"
            ],
            [
             0.4,
             "#fde0ef"
            ],
            [
             0.5,
             "#f7f7f7"
            ],
            [
             0.6,
             "#e6f5d0"
            ],
            [
             0.7,
             "#b8e186"
            ],
            [
             0.8,
             "#7fbc41"
            ],
            [
             0.9,
             "#4d9221"
            ],
            [
             1,
             "#276419"
            ]
           ],
           "sequential": [
            [
             0,
             "#0d0887"
            ],
            [
             0.1111111111111111,
             "#46039f"
            ],
            [
             0.2222222222222222,
             "#7201a8"
            ],
            [
             0.3333333333333333,
             "#9c179e"
            ],
            [
             0.4444444444444444,
             "#bd3786"
            ],
            [
             0.5555555555555556,
             "#d8576b"
            ],
            [
             0.6666666666666666,
             "#ed7953"
            ],
            [
             0.7777777777777778,
             "#fb9f3a"
            ],
            [
             0.8888888888888888,
             "#fdca26"
            ],
            [
             1,
             "#f0f921"
            ]
           ],
           "sequentialminus": [
            [
             0,
             "#0d0887"
            ],
            [
             0.1111111111111111,
             "#46039f"
            ],
            [
             0.2222222222222222,
             "#7201a8"
            ],
            [
             0.3333333333333333,
             "#9c179e"
            ],
            [
             0.4444444444444444,
             "#bd3786"
            ],
            [
             0.5555555555555556,
             "#d8576b"
            ],
            [
             0.6666666666666666,
             "#ed7953"
            ],
            [
             0.7777777777777778,
             "#fb9f3a"
            ],
            [
             0.8888888888888888,
             "#fdca26"
            ],
            [
             1,
             "#f0f921"
            ]
           ]
          },
          "colorway": [
           "#636efa",
           "#EF553B",
           "#00cc96",
           "#ab63fa",
           "#FFA15A",
           "#19d3f3",
           "#FF6692",
           "#B6E880",
           "#FF97FF",
           "#FECB52"
          ],
          "font": {
           "color": "#2a3f5f"
          },
          "geo": {
           "bgcolor": "white",
           "lakecolor": "white",
           "landcolor": "#E5ECF6",
           "showlakes": true,
           "showland": true,
           "subunitcolor": "white"
          },
          "hoverlabel": {
           "align": "left"
          },
          "hovermode": "closest",
          "mapbox": {
           "style": "light"
          },
          "paper_bgcolor": "white",
          "plot_bgcolor": "#E5ECF6",
          "polar": {
           "angularaxis": {
            "gridcolor": "white",
            "linecolor": "white",
            "ticks": ""
           },
           "bgcolor": "#E5ECF6",
           "radialaxis": {
            "gridcolor": "white",
            "linecolor": "white",
            "ticks": ""
           }
          },
          "scene": {
           "xaxis": {
            "backgroundcolor": "#E5ECF6",
            "gridcolor": "white",
            "gridwidth": 2,
            "linecolor": "white",
            "showbackground": true,
            "ticks": "",
            "zerolinecolor": "white"
           },
           "yaxis": {
            "backgroundcolor": "#E5ECF6",
            "gridcolor": "white",
            "gridwidth": 2,
            "linecolor": "white",
            "showbackground": true,
            "ticks": "",
            "zerolinecolor": "white"
           },
           "zaxis": {
            "backgroundcolor": "#E5ECF6",
            "gridcolor": "white",
            "gridwidth": 2,
            "linecolor": "white",
            "showbackground": true,
            "ticks": "",
            "zerolinecolor": "white"
           }
          },
          "shapedefaults": {
           "line": {
            "color": "#2a3f5f"
           }
          },
          "ternary": {
           "aaxis": {
            "gridcolor": "white",
            "linecolor": "white",
            "ticks": ""
           },
           "baxis": {
            "gridcolor": "white",
            "linecolor": "white",
            "ticks": ""
           },
           "bgcolor": "#E5ECF6",
           "caxis": {
            "gridcolor": "white",
            "linecolor": "white",
            "ticks": ""
           }
          },
          "title": {
           "x": 0.05
          },
          "xaxis": {
           "automargin": true,
           "gridcolor": "white",
           "linecolor": "white",
           "ticks": "",
           "title": {
            "standoff": 15
           },
           "zerolinecolor": "white",
           "zerolinewidth": 2
          },
          "yaxis": {
           "automargin": true,
           "gridcolor": "white",
           "linecolor": "white",
           "ticks": "",
           "title": {
            "standoff": 15
           },
           "zerolinecolor": "white",
           "zerolinewidth": 2
          }
         }
        }
       }
      },
      "text/html": [
       "<div>\n",
       "        \n",
       "        \n",
       "            <div id=\"d6556544-d8f1-4103-983a-2e80ce7047d3\" class=\"plotly-graph-div\" style=\"height:525px; width:100%;\"></div>\n",
       "            <script type=\"text/javascript\">\n",
       "                require([\"plotly\"], function(Plotly) {\n",
       "                    window.PLOTLYENV=window.PLOTLYENV || {};\n",
       "                    \n",
       "                if (document.getElementById(\"d6556544-d8f1-4103-983a-2e80ce7047d3\")) {\n",
       "                    Plotly.newPlot(\n",
       "                        'd6556544-d8f1-4103-983a-2e80ce7047d3',\n",
       "                        [{\"name\": \"theta1\", \"type\": \"scatter\", \"x\": [0.0, 0.10000000149011612, 0.20000000298023224, 0.30000000447034836, 0.4000000059604645, 0.5000000074505806, 0.6000000089406967, 0.7000000104308128, 0.800000011920929, 0.9000000134110451, 1.0000000149011612, 1.1000000163912773, 1.2000000178813934, 1.3000000193715096, 1.4000000208616257, 1.5000000223517418, 1.600000023841858, 1.700000025331974, 1.8000000268220901, 1.9000000283122063, 2.0000000298023224, 2.1000000312924385, 2.2000000327825546, 2.3000000342726707, 2.400000035762787, 2.500000037252903, 2.600000038743019, 2.7000000402331352, 2.8000000417232513, 2.9000000432133675], \"y\": [3.2415926456451416, 3.1966981887817383, 3.089022397994995, 2.9802536964416504, 2.908511161804199, 2.8725194931030273, 2.8627917766571045, 2.870893955230713, 2.8904154300689697, 2.916522741317749, 2.9455695152282715, 2.974886417388916, 3.0026626586914062, 3.0278241634368896, 3.049882650375366, 3.0687689781188965, 3.084681510925293, 3.097963571548462, 3.109020948410034, 3.1182689666748047, 3.1261041164398193, 3.1328978538513184, 3.1390044689178467, 3.1447601318359375, 3.1504743099212646, 3.1564362049102783, 3.162914514541626, 3.170117139816284, 3.1780712604522705, 3.18692684173584]}, {\"name\": \"theta2\", \"type\": \"scatter\", \"x\": [0.0, 0.10000000149011612, 0.20000000298023224, 0.30000000447034836, 0.4000000059604645, 0.5000000074505806, 0.6000000089406967, 0.7000000104308128, 0.800000011920929, 0.9000000134110451, 1.0000000149011612, 1.1000000163912773, 1.2000000178813934, 1.3000000193715096, 1.4000000208616257, 1.5000000223517418, 1.600000023841858, 1.700000025331974, 1.8000000268220901, 1.9000000283122063, 2.0000000298023224, 2.1000000312924385, 2.2000000327825546, 2.3000000342726707, 2.400000035762787, 2.500000037252903, 2.600000038743019, 2.7000000402331352, 2.8000000417232513, 2.9000000432133675], \"y\": [-0.10000000149011612, 0.024245034903287888, 0.32431429624557495, 0.6334394812583923, 0.8452651500701904, 0.957581639289856, 0.9922451376914978, 0.9711622595787048, 0.9126623868942261, 0.8315438032150269, 0.739386796951294, 0.644802987575531, 0.5537172555923462, 0.46976438164711, 0.3947873115539551, 0.329352468252182, 0.2732082009315491, 0.22564120590686798, 0.18572171032428741, 0.15246491134166718, 0.12492679059505463, 0.10223788768053055, 0.0836000069975853, 0.06830750405788422, 0.05579199641942978, 0.04562588408589363, 0.037545040249824524, 0.03158493712544441, 0.028426051139831543, 0.02861303649842739]}, {\"name\": \"theta1_dot\", \"type\": \"scatter\", \"x\": [0.0, 0.10000000149011612, 0.20000000298023224, 0.30000000447034836, 0.4000000059604645, 0.5000000074505806, 0.6000000089406967, 0.7000000104308128, 0.800000011920929, 0.9000000134110451, 1.0000000149011612, 1.1000000163912773, 1.2000000178813934, 1.3000000193715096, 1.4000000208616257, 1.5000000223517418, 1.600000023841858, 1.700000025331974, 1.8000000268220901, 1.9000000283122063, 2.0000000298023224, 2.1000000312924385, 2.2000000327825546, 2.3000000342726707, 2.400000035762787, 2.500000037252903, 2.600000038743019, 2.7000000402331352, 2.8000000417232513, 2.9000000432133675], \"y\": [0.0, -0.8978903293609619, -1.255622386932373, -0.9197535514831543, -0.515096127986908, -0.20473897457122803, 0.010183536447584629, 0.1518602818250656, 0.23857027292251587, 0.28357869386672974, 0.29735228419303894, 0.2889873683452606, 0.26653867959976196, 0.23669324815273285, 0.20447365939617157, 0.17325520515441895, 0.1449955701828003, 0.12064389139413834, 0.10050153732299805, 0.08446042239665985, 0.0722448080778122, 0.06362935155630112, 0.05850019305944443, 0.05661394074559212, 0.05767158791422844, 0.06156513839960098, 0.06800231337547302, 0.07605012506246567, 0.08302963525056839, 0.09408316761255264]}, {\"name\": \"theta2_dot\", \"type\": \"scatter\", \"x\": [0.0, 0.10000000149011612, 0.20000000298023224, 0.30000000447034836, 0.4000000059604645, 0.5000000074505806, 0.6000000089406967, 0.7000000104308128, 0.800000011920929, 0.9000000134110451, 1.0000000149011612, 1.1000000163912773, 1.2000000178813934, 1.3000000193715096, 1.4000000208616257, 1.5000000223517418, 1.600000023841858, 1.700000025331974, 1.8000000268220901, 1.9000000283122063, 2.0000000298023224, 2.1000000312924385, 2.2000000327825546, 2.3000000342726707, 2.400000035762787, 2.500000037252903, 2.600000038743019, 2.7000000402331352, 2.8000000417232513, 2.9000000432133675], \"y\": [0.0, 2.484900712966919, 3.5164847373962402, 2.66601824760437, 1.5704960823059082, 0.6758337020874023, 0.01743595488369465, -0.4390941262245178, -0.7309024930000305, -0.8914701342582703, -0.9516695737838745, -0.9400068521499634, -0.8817078471183777, -0.7973490953445435, -0.7021924257278442, -0.6065044403076172, -0.5163810849189758, -0.43495887517929077, -0.3634309470653534, -0.30170488357543945, -0.24905765056610107, -0.20472034811973572, -0.16803723573684692, -0.13781294226646423, -0.11249713599681854, -0.09082512557506561, -0.07079173624515533, -0.0484103225171566, -0.014767407439649105, 0.018507113680243492]}],\n",
       "                        {\"template\": {\"data\": {\"bar\": [{\"error_x\": {\"color\": \"#2a3f5f\"}, \"error_y\": {\"color\": \"#2a3f5f\"}, \"marker\": {\"line\": {\"color\": \"#E5ECF6\", \"width\": 0.5}}, \"type\": \"bar\"}], \"barpolar\": [{\"marker\": {\"line\": {\"color\": \"#E5ECF6\", \"width\": 0.5}}, \"type\": \"barpolar\"}], \"carpet\": [{\"aaxis\": {\"endlinecolor\": \"#2a3f5f\", \"gridcolor\": \"white\", \"linecolor\": \"white\", \"minorgridcolor\": \"white\", \"startlinecolor\": \"#2a3f5f\"}, \"baxis\": {\"endlinecolor\": \"#2a3f5f\", \"gridcolor\": \"white\", \"linecolor\": \"white\", \"minorgridcolor\": \"white\", \"startlinecolor\": \"#2a3f5f\"}, \"type\": \"carpet\"}], \"choropleth\": [{\"colorbar\": {\"outlinewidth\": 0, \"ticks\": \"\"}, \"type\": \"choropleth\"}], \"contour\": [{\"colorbar\": {\"outlinewidth\": 0, \"ticks\": \"\"}, \"colorscale\": [[0.0, \"#0d0887\"], [0.1111111111111111, \"#46039f\"], [0.2222222222222222, \"#7201a8\"], [0.3333333333333333, \"#9c179e\"], [0.4444444444444444, \"#bd3786\"], [0.5555555555555556, \"#d8576b\"], [0.6666666666666666, \"#ed7953\"], [0.7777777777777778, \"#fb9f3a\"], [0.8888888888888888, \"#fdca26\"], [1.0, \"#f0f921\"]], \"type\": \"contour\"}], \"contourcarpet\": [{\"colorbar\": {\"outlinewidth\": 0, \"ticks\": \"\"}, \"type\": \"contourcarpet\"}], \"heatmap\": [{\"colorbar\": {\"outlinewidth\": 0, \"ticks\": \"\"}, \"colorscale\": [[0.0, \"#0d0887\"], [0.1111111111111111, \"#46039f\"], [0.2222222222222222, \"#7201a8\"], [0.3333333333333333, \"#9c179e\"], [0.4444444444444444, \"#bd3786\"], [0.5555555555555556, \"#d8576b\"], [0.6666666666666666, \"#ed7953\"], [0.7777777777777778, \"#fb9f3a\"], [0.8888888888888888, \"#fdca26\"], [1.0, \"#f0f921\"]], \"type\": \"heatmap\"}], \"heatmapgl\": [{\"colorbar\": {\"outlinewidth\": 0, \"ticks\": \"\"}, \"colorscale\": [[0.0, \"#0d0887\"], [0.1111111111111111, \"#46039f\"], [0.2222222222222222, \"#7201a8\"], [0.3333333333333333, \"#9c179e\"], [0.4444444444444444, \"#bd3786\"], [0.5555555555555556, \"#d8576b\"], [0.6666666666666666, \"#ed7953\"], [0.7777777777777778, \"#fb9f3a\"], [0.8888888888888888, \"#fdca26\"], [1.0, \"#f0f921\"]], \"type\": \"heatmapgl\"}], \"histogram\": [{\"marker\": {\"colorbar\": {\"outlinewidth\": 0, \"ticks\": \"\"}}, \"type\": \"histogram\"}], \"histogram2d\": [{\"colorbar\": {\"outlinewidth\": 0, \"ticks\": \"\"}, \"colorscale\": [[0.0, \"#0d0887\"], [0.1111111111111111, \"#46039f\"], [0.2222222222222222, \"#7201a8\"], [0.3333333333333333, \"#9c179e\"], [0.4444444444444444, \"#bd3786\"], [0.5555555555555556, \"#d8576b\"], [0.6666666666666666, \"#ed7953\"], [0.7777777777777778, \"#fb9f3a\"], [0.8888888888888888, \"#fdca26\"], [1.0, \"#f0f921\"]], \"type\": \"histogram2d\"}], \"histogram2dcontour\": [{\"colorbar\": {\"outlinewidth\": 0, \"ticks\": \"\"}, \"colorscale\": [[0.0, \"#0d0887\"], [0.1111111111111111, \"#46039f\"], [0.2222222222222222, \"#7201a8\"], [0.3333333333333333, \"#9c179e\"], [0.4444444444444444, \"#bd3786\"], [0.5555555555555556, \"#d8576b\"], [0.6666666666666666, \"#ed7953\"], [0.7777777777777778, \"#fb9f3a\"], [0.8888888888888888, \"#fdca26\"], [1.0, \"#f0f921\"]], \"type\": \"histogram2dcontour\"}], \"mesh3d\": [{\"colorbar\": {\"outlinewidth\": 0, \"ticks\": \"\"}, \"type\": \"mesh3d\"}], \"parcoords\": [{\"line\": {\"colorbar\": {\"outlinewidth\": 0, \"ticks\": \"\"}}, \"type\": \"parcoords\"}], \"pie\": [{\"automargin\": true, \"type\": \"pie\"}], \"scatter\": [{\"marker\": {\"colorbar\": {\"outlinewidth\": 0, \"ticks\": \"\"}}, \"type\": \"scatter\"}], \"scatter3d\": [{\"line\": {\"colorbar\": {\"outlinewidth\": 0, \"ticks\": \"\"}}, \"marker\": {\"colorbar\": {\"outlinewidth\": 0, \"ticks\": \"\"}}, \"type\": \"scatter3d\"}], \"scattercarpet\": [{\"marker\": {\"colorbar\": {\"outlinewidth\": 0, \"ticks\": \"\"}}, \"type\": \"scattercarpet\"}], \"scattergeo\": [{\"marker\": {\"colorbar\": {\"outlinewidth\": 0, \"ticks\": \"\"}}, \"type\": \"scattergeo\"}], \"scattergl\": [{\"marker\": {\"colorbar\": {\"outlinewidth\": 0, \"ticks\": \"\"}}, \"type\": \"scattergl\"}], \"scattermapbox\": [{\"marker\": {\"colorbar\": {\"outlinewidth\": 0, \"ticks\": \"\"}}, \"type\": \"scattermapbox\"}], \"scatterpolar\": [{\"marker\": {\"colorbar\": {\"outlinewidth\": 0, \"ticks\": \"\"}}, \"type\": \"scatterpolar\"}], \"scatterpolargl\": [{\"marker\": {\"colorbar\": {\"outlinewidth\": 0, \"ticks\": \"\"}}, \"type\": \"scatterpolargl\"}], \"scatterternary\": [{\"marker\": {\"colorbar\": {\"outlinewidth\": 0, \"ticks\": \"\"}}, \"type\": \"scatterternary\"}], \"surface\": [{\"colorbar\": {\"outlinewidth\": 0, \"ticks\": \"\"}, \"colorscale\": [[0.0, \"#0d0887\"], [0.1111111111111111, \"#46039f\"], [0.2222222222222222, \"#7201a8\"], [0.3333333333333333, \"#9c179e\"], [0.4444444444444444, \"#bd3786\"], [0.5555555555555556, \"#d8576b\"], [0.6666666666666666, \"#ed7953\"], [0.7777777777777778, \"#fb9f3a\"], [0.8888888888888888, \"#fdca26\"], [1.0, \"#f0f921\"]], \"type\": \"surface\"}], \"table\": [{\"cells\": {\"fill\": {\"color\": \"#EBF0F8\"}, \"line\": {\"color\": \"white\"}}, \"header\": {\"fill\": {\"color\": \"#C8D4E3\"}, \"line\": {\"color\": \"white\"}}, \"type\": \"table\"}]}, \"layout\": {\"annotationdefaults\": {\"arrowcolor\": \"#2a3f5f\", \"arrowhead\": 0, \"arrowwidth\": 1}, \"coloraxis\": {\"colorbar\": {\"outlinewidth\": 0, \"ticks\": \"\"}}, \"colorscale\": {\"diverging\": [[0, \"#8e0152\"], [0.1, \"#c51b7d\"], [0.2, \"#de77ae\"], [0.3, \"#f1b6da\"], [0.4, \"#fde0ef\"], [0.5, \"#f7f7f7\"], [0.6, \"#e6f5d0\"], [0.7, \"#b8e186\"], [0.8, \"#7fbc41\"], [0.9, \"#4d9221\"], [1, \"#276419\"]], \"sequential\": [[0.0, \"#0d0887\"], [0.1111111111111111, \"#46039f\"], [0.2222222222222222, \"#7201a8\"], [0.3333333333333333, \"#9c179e\"], [0.4444444444444444, \"#bd3786\"], [0.5555555555555556, \"#d8576b\"], [0.6666666666666666, \"#ed7953\"], [0.7777777777777778, \"#fb9f3a\"], [0.8888888888888888, \"#fdca26\"], [1.0, \"#f0f921\"]], \"sequentialminus\": [[0.0, \"#0d0887\"], [0.1111111111111111, \"#46039f\"], [0.2222222222222222, \"#7201a8\"], [0.3333333333333333, \"#9c179e\"], [0.4444444444444444, \"#bd3786\"], [0.5555555555555556, \"#d8576b\"], [0.6666666666666666, \"#ed7953\"], [0.7777777777777778, \"#fb9f3a\"], [0.8888888888888888, \"#fdca26\"], [1.0, \"#f0f921\"]]}, \"colorway\": [\"#636efa\", \"#EF553B\", \"#00cc96\", \"#ab63fa\", \"#FFA15A\", \"#19d3f3\", \"#FF6692\", \"#B6E880\", \"#FF97FF\", \"#FECB52\"], \"font\": {\"color\": \"#2a3f5f\"}, \"geo\": {\"bgcolor\": \"white\", \"lakecolor\": \"white\", \"landcolor\": \"#E5ECF6\", \"showlakes\": true, \"showland\": true, \"subunitcolor\": \"white\"}, \"hoverlabel\": {\"align\": \"left\"}, \"hovermode\": \"closest\", \"mapbox\": {\"style\": \"light\"}, \"paper_bgcolor\": \"white\", \"plot_bgcolor\": \"#E5ECF6\", \"polar\": {\"angularaxis\": {\"gridcolor\": \"white\", \"linecolor\": \"white\", \"ticks\": \"\"}, \"bgcolor\": \"#E5ECF6\", \"radialaxis\": {\"gridcolor\": \"white\", \"linecolor\": \"white\", \"ticks\": \"\"}}, \"scene\": {\"xaxis\": {\"backgroundcolor\": \"#E5ECF6\", \"gridcolor\": \"white\", \"gridwidth\": 2, \"linecolor\": \"white\", \"showbackground\": true, \"ticks\": \"\", \"zerolinecolor\": \"white\"}, \"yaxis\": {\"backgroundcolor\": \"#E5ECF6\", \"gridcolor\": \"white\", \"gridwidth\": 2, \"linecolor\": \"white\", \"showbackground\": true, \"ticks\": \"\", \"zerolinecolor\": \"white\"}, \"zaxis\": {\"backgroundcolor\": \"#E5ECF6\", \"gridcolor\": \"white\", \"gridwidth\": 2, \"linecolor\": \"white\", \"showbackground\": true, \"ticks\": \"\", \"zerolinecolor\": \"white\"}}, \"shapedefaults\": {\"line\": {\"color\": \"#2a3f5f\"}}, \"ternary\": {\"aaxis\": {\"gridcolor\": \"white\", \"linecolor\": \"white\", \"ticks\": \"\"}, \"baxis\": {\"gridcolor\": \"white\", \"linecolor\": \"white\", \"ticks\": \"\"}, \"bgcolor\": \"#E5ECF6\", \"caxis\": {\"gridcolor\": \"white\", \"linecolor\": \"white\", \"ticks\": \"\"}}, \"title\": {\"x\": 0.05}, \"xaxis\": {\"automargin\": true, \"gridcolor\": \"white\", \"linecolor\": \"white\", \"ticks\": \"\", \"title\": {\"standoff\": 15}, \"zerolinecolor\": \"white\", \"zerolinewidth\": 2}, \"yaxis\": {\"automargin\": true, \"gridcolor\": \"white\", \"linecolor\": \"white\", \"ticks\": \"\", \"title\": {\"standoff\": 15}, \"zerolinecolor\": \"white\", \"zerolinewidth\": 2}}}},\n",
       "                        {\"responsive\": true}\n",
       "                    ).then(function(){\n",
       "                            \n",
       "var gd = document.getElementById('d6556544-d8f1-4103-983a-2e80ce7047d3');\n",
       "var x = new MutationObserver(function (mutations, observer) {{\n",
       "        var display = window.getComputedStyle(gd).display;\n",
       "        if (!display || display === 'none') {{\n",
       "            console.log([gd, 'removed!']);\n",
       "            Plotly.purge(gd);\n",
       "            observer.disconnect();\n",
       "        }}\n",
       "}});\n",
       "\n",
       "// Listen for the removal of the full notebook cells\n",
       "var notebookContainer = gd.closest('#notebook-container');\n",
       "if (notebookContainer) {{\n",
       "    x.observe(notebookContainer, {childList: true});\n",
       "}}\n",
       "\n",
       "// Listen for the clearing of the current output cell\n",
       "var outputEl = gd.closest('.output');\n",
       "if (outputEl) {{\n",
       "    x.observe(outputEl, {childList: true});\n",
       "}}\n",
       "\n",
       "                        })\n",
       "                };\n",
       "                });\n",
       "            </script>\n",
       "        </div>"
      ]
     },
     "metadata": {},
     "output_type": "display_data"
    }
   ],
   "source": [
    "eps = .1\n",
    "x0 = torch.Tensor([np.pi+eps, -eps, 0., 0.]).double()\n",
    "v, res = V(x0)\n",
    "sys.plot_result(res).show()"
   ]
  },
  {
   "cell_type": "code",
   "execution_count": 122,
   "metadata": {},
   "outputs": [
    {
     "data": {
      "application/vnd.plotly.v1+json": {
       "config": {
        "plotlyServerURL": "https://plot.ly"
       },
       "data": [
        {
         "type": "scatter",
         "x": [
          0,
          2.113296250172425e-05,
          0.00023246258206199855,
          0.0023457587230950594,
          0.009999999776482582,
          0.019999999552965164,
          0.029999999329447746,
          0.03999999910593033,
          0.05000000074505806,
          0.05999999865889549,
          0.07000000029802322,
          0.07999999821186066,
          0.09000000357627869,
          0.09387221187353134,
          0.10000000149011612,
          0.10999999940395355,
          0.11999999731779099,
          0.12999999523162842,
          0.14000000059604645,
          0.15000000596046448,
          0.1599999964237213,
          0.17000000178813934,
          0.18000000715255737,
          0.1899999976158142,
          0.20000000298023224,
          0.20999999344348907,
          0.2199999988079071,
          0.23000000417232513,
          0.23999999463558197,
          0.25,
          0.25999999046325684,
          0.27000001072883606,
          0.2800000011920929,
          0.28999999165534973,
          0.30000001192092896,
          0.3100000023841858,
          0.3199999928474426,
          0.33000001311302185,
          0.3400000035762787,
          0.3499999940395355,
          0.36000001430511475,
          0.3700000047683716,
          0.3799999952316284,
          0.38999998569488525,
          0.4000000059604645,
          0.4099999964237213,
          0.41999998688697815,
          0.4300000071525574,
          0.4399999976158142,
          0.44999998807907104,
          0.46000000834465027,
          0.4699999988079071,
          0.47999998927116394,
          0.49000000953674316,
          0.5,
          0.5099999904632568,
          0.5199999809265137,
          0.5299999713897705,
          0.5400000214576721,
          0.550000011920929,
          0.5600000023841858,
          0.5699999928474426,
          0.5799999833106995,
          0.5899999737739563,
          0.6000000238418579,
          0.6100000143051147,
          0.6200000047683716,
          0.6299999952316284,
          0.6399999856948853,
          0.6499999761581421,
          0.6600000262260437,
          0.6700000166893005,
          0.6800000071525574,
          0.6899999976158142,
          0.699999988079071,
          0.7099999785423279,
          0.7200000286102295,
          0.7300000190734863,
          0.7400000095367432,
          0.75,
          0.7599999904632568,
          0.7699999809265137,
          0.7799999713897705,
          0.7818089127540588,
          0.7900000214576721,
          0.7915065884590149,
          0.800000011920929,
          0.8100000023841858,
          0.8199999928474426,
          0.8299999833106995,
          0.8399999737739563,
          0.8500000238418579,
          0.8600000143051147,
          0.8700000047683716,
          0.8799999952316284,
          0.8899999856948853,
          0.8999999761581421,
          0.9100000262260437,
          0.9200000166893005,
          0.9300000071525574,
          0.9399999976158142,
          0.949999988079071,
          0.9599999785423279,
          0.9700000286102295,
          0.9800000190734863,
          0.9900000095367432,
          1,
          1.0099999904632568,
          1.0199999809265137,
          1.0299999713897705,
          1.0399999618530273,
          1.0499999523162842,
          1.059999942779541,
          1.0670415163040161,
          1.0700000524520874,
          1.0800000429153442,
          1.090000033378601,
          1.100000023841858,
          1.1100000143051147,
          1.1200000047683716,
          1.1299999952316284,
          1.1399999856948853,
          1.149999976158142,
          1.159999966621399,
          1.1699999570846558,
          1.1799999475479126,
          1.190000057220459,
          1.2000000476837158,
          1.2100000381469727,
          1.2200000286102295,
          1.2300000190734863,
          1.2400000095367432,
          1.25,
          1.2599999904632568,
          1.2699999809265137,
          1.2799999713897705,
          1.2899999618530273,
          1.2999999523162842,
          1.309999942779541,
          1.3200000524520874,
          1.3300000429153442,
          1.340000033378601,
          1.350000023841858,
          1.3600000143051147,
          1.3700000047683716,
          1.3799999952316284,
          1.3899999856948853,
          1.399999976158142,
          1.409999966621399,
          1.4199999570846558,
          1.4299999475479126,
          1.440000057220459,
          1.4500000476837158,
          1.4600000381469727,
          1.4700000286102295,
          1.4800000190734863,
          1.4900000095367432,
          1.5,
          1.5099999904632568,
          1.5199999809265137,
          1.5299999713897705,
          1.5399999618530273,
          1.5499999523162842,
          1.559999942779541,
          1.5700000524520874,
          1.5800000429153442,
          1.590000033378601,
          1.600000023841858,
          1.6100000143051147,
          1.6200000047683716,
          1.6299999952316284,
          1.6399999856948853,
          1.649999976158142,
          1.659999966621399,
          1.6699999570846558,
          1.6799999475479126,
          1.690000057220459,
          1.7000000476837158,
          1.7100000381469727,
          1.7200000286102295,
          1.7300000190734863,
          1.7400000095367432,
          1.75,
          1.7599999904632568,
          1.7699999809265137,
          1.7799999713897705,
          1.7899999618530273,
          1.7999999523162842,
          1.809999942779541,
          1.8200000524520874,
          1.8300000429153442,
          1.840000033378601,
          1.850000023841858,
          1.8600000143051147,
          1.8700000047683716,
          1.8799999952316284,
          1.8899999856948853,
          1.899999976158142,
          1.909999966621399,
          1.9199999570846558,
          1.9299999475479126,
          1.940000057220459,
          1.9500000476837158,
          1.9600000381469727,
          1.9700000286102295,
          1.9800000190734863,
          1.9900000095367432,
          2,
          2.009999990463257,
          2.0199999809265137,
          2.0299999713897705,
          2.0399999618530273,
          2.049999952316284,
          2.059999942779541,
          2.069999933242798,
          2.0799999237060547,
          2.0899999141693115,
          2.0999999046325684,
          2.109999895095825,
          2.119999885559082,
          2.130000114440918,
          2.140000104904175,
          2.1500000953674316,
          2.1600000858306885,
          2.1700000762939453,
          2.180000066757202,
          2.190000057220459,
          2.200000047683716,
          2.2100000381469727,
          2.2200000286102295,
          2.2300000190734863,
          2.240000009536743,
          2.25,
          2.259999990463257,
          2.2699999809265137,
          2.2799999713897705,
          2.2899999618530273,
          2.299999952316284,
          2.309999942779541,
          2.319999933242798,
          2.3299999237060547,
          2.3399999141693115,
          2.3499999046325684,
          2.359999895095825,
          2.369999885559082,
          2.380000114440918,
          2.390000104904175,
          2.4000000953674316,
          2.4100000858306885,
          2.4200000762939453,
          2.430000066757202,
          2.440000057220459,
          2.450000047683716,
          2.4600000381469727,
          2.4700000286102295,
          2.4800000190734863,
          2.490000009536743,
          2.5,
          2.509999990463257,
          2.5199999809265137,
          2.5299999713897705,
          2.5399999618530273,
          2.549999952316284,
          2.559999942779541,
          2.569999933242798,
          2.5799999237060547,
          2.5899999141693115,
          2.5999999046325684,
          2.6055967807769775,
          2.609999895095825,
          2.619999885559082,
          2.630000114440918,
          2.63431715965271,
          2.640000104904175,
          2.6500000953674316,
          2.6600000858306885,
          2.6700000762939453,
          2.680000066757202,
          2.690000057220459,
          2.700000047683716,
          2.7100000381469727,
          2.7200000286102295,
          2.7300000190734863,
          2.740000009536743,
          2.75,
          2.759999990463257,
          2.7699999809265137,
          2.7799999713897705,
          2.7899999618530273,
          2.799999952316284,
          2.809999942779541,
          2.819999933242798,
          2.8299999237060547,
          2.8399999141693115,
          2.8499999046325684,
          2.859999895095825,
          2.869999885559082,
          2.880000114440918,
          2.890000104904175,
          2.9000000953674316,
          2.9100000858306885,
          2.9200000762939453,
          2.930000066757202,
          2.940000057220459,
          2.950000047683716,
          2.9600000381469727,
          2.9700000286102295,
          2.9800000190734863,
          2.990000009536743
         ],
         "y": [
          3.34159255027771,
          3.34159255027771,
          3.3415918350219727,
          3.3415298461914062,
          3.340454578399658,
          3.337134599685669,
          3.331813335418701,
          3.3246612548828125,
          3.315840005874634,
          3.30550479888916,
          3.293804168701172,
          3.2808821201324463,
          3.2668769359588623,
          3.261190891265869,
          3.2519218921661377,
          3.2361440658569336,
          3.219663143157959,
          3.202591896057129,
          3.1850337982177734,
          3.167084217071533,
          3.14882755279541,
          3.1303396224975586,
          3.1116857528686523,
          3.0929219722747803,
          3.0740950107574463,
          3.0552432537078857,
          3.0363967418670654,
          3.0175790786743164,
          2.9988067150115967,
          2.980091094970703,
          2.9614381790161133,
          2.94284987449646,
          2.9243242740631104,
          2.905855894088745,
          2.887436866760254,
          2.869056463241577,
          2.8507018089294434,
          2.8323581218719482,
          2.8140087127685547,
          2.7956349849700928,
          2.777216672897339,
          2.7587320804595947,
          2.7401576042175293,
          2.721467971801758,
          2.7026355266571045,
          2.683631420135498,
          2.6644229888916016,
          2.6449763774871826,
          2.625253677368164,
          2.6052136421203613,
          2.584810733795166,
          2.5639941692352295,
          2.5427067279815674,
          2.5208840370178223,
          2.4984514713287354,
          2.4753220081329346,
          2.4513933658599854,
          2.426542282104492,
          2.4006195068359375,
          2.3734424114227295,
          2.34478759765625,
          2.3143835067749023,
          2.2819066047668457,
          2.246986150741577,
          2.2092227935791016,
          2.1682233810424805,
          2.123660087585449,
          2.0753421783447266,
          2.023292303085327,
          1.9678138494491577,
          1.909533977508545,
          1.8494170904159546,
          1.788743019104004,
          1.72904634475708,
          1.671799659729004,
          1.6180896759033203,
          1.5687625408172607,
          1.5245909690856934,
          1.4862360954284668,
          1.4542242288589478,
          1.4289404153823853,
          1.410636067390442,
          1.3994407653808594,
          1.3981781005859375,
          1.3953732252120972,
          1.395374059677124,
          1.3983421325683594,
          1.4081376791000366,
          1.4244167804718018,
          1.4466862678527832,
          1.4742947816848755,
          1.5064399242401123,
          1.5421940088272095,
          1.5805437564849854,
          1.6204379796981812,
          1.6608330011367798,
          1.7007368803024292,
          1.7392553091049194,
          1.7756567001342773,
          1.8094727993011475,
          1.8406494855880737,
          1.8697402477264404,
          1.8980927467346191,
          1.9279265403747559,
          1.9622033834457397,
          2.0042879581451416,
          2.057555675506592,
          2.12516713142395,
          2.2101054191589355,
          2.315326690673828,
          2.443476915359497,
          2.5944206714630127,
          2.75842547416687,
          2.8723249435424805,
          2.918304920196533,
          3.0631258487701416,
          3.190547227859497,
          3.3001370429992676,
          3.3918724060058594,
          3.4684858322143555,
          3.537189483642578,
          3.6100080013275146,
          3.7005062103271484,
          3.8198142051696777,
          3.9761393070220947,
          4.175274848937988,
          4.406272888183594,
          4.631034851074219,
          4.822307586669922,
          4.979918479919434,
          5.109556198120117,
          5.216751575469971,
          5.31321907043457,
          5.418130397796631,
          5.551051139831543,
          5.726271629333496,
          5.952611923217773,
          6.2168192863464355,
          6.470997333526611,
          6.680935859680176,
          6.84727144241333,
          6.980179786682129,
          7.090580940246582,
          7.197354316711426,
          7.324716567993164,
          7.492067337036133,
          7.7123823165893555,
          7.979687213897705,
          8.248719215393066,
          8.474117279052734,
          8.649579048156738,
          8.785787582397461,
          8.895649909973145,
          9.000431060791016,
          9.127941131591797,
          9.299922943115234,
          9.52921199798584,
          9.806455612182617,
          10.079452514648438,
          10.303505897521973,
          10.476292610168457,
          10.610505104064941,
          10.722811698913574,
          10.839386940002441,
          10.989168167114258,
          11.192361831665039,
          11.453119277954102,
          11.742829322814941,
          12.003681182861328,
          12.209359169006348,
          12.367472648620605,
          12.493317604064941,
          12.607912063598633,
          12.7392578125,
          12.911818504333496,
          13.138052940368652,
          13.411978721618652,
          13.691020011901855,
          13.925312995910645,
          14.105546951293945,
          14.24313735961914,
          14.353999137878418,
          14.46031665802002,
          14.589066505432129,
          14.761287689208984,
          14.984684944152832,
          15.248041152954102,
          15.509716033935547,
          15.727766990661621,
          15.895895957946777,
          16.024282455444336,
          16.127262115478516,
          16.224477767944336,
          16.340621948242188,
          16.496278762817383,
          16.70026206970215,
          16.946996688842773,
          17.206195831298828,
          17.433761596679688,
          17.614849090576172,
          17.754722595214844,
          17.86516761779785,
          17.96164321899414,
          18.063262939453125,
          18.189899444580078,
          18.354415893554688,
          18.559368133544922,
          18.79631996154785,
          19.036304473876953,
          19.24483299255371,
          19.412139892578125,
          19.542783737182617,
          19.644914627075195,
          19.730222702026367,
          19.81276512145996,
          19.90751838684082,
          20.027450561523438,
          20.17751693725586,
          20.35596466064453,
          20.556310653686523,
          20.758989334106445,
          20.939943313598633,
          21.088951110839844,
          21.207134246826172,
          21.298643112182617,
          21.36943817138672,
          21.427471160888672,
          21.481178283691406,
          21.539840698242188,
          21.613252639770508,
          21.7089900970459,
          21.828773498535156,
          21.969728469848633,
          22.127357482910156,
          22.291698455810547,
          22.447750091552734,
          22.584253311157227,
          22.698028564453125,
          22.790489196777344,
          22.86425018310547,
          22.922014236450195,
          22.96733856201172,
          23.00454330444336,
          23.037931442260742,
          23.072017669677734,
          23.111520767211914,
          23.160980224609375,
          23.223621368408203,
          23.30000114440918,
          23.388307571411133,
          23.486427307128906,
          23.592309951782227,
          23.702550888061523,
          23.812280654907227,
          23.916133880615234,
          24.009977340698242,
          24.091890335083008,
          24.161773681640625,
          24.220489501953125,
          24.26922035217285,
          24.309146881103516,
          24.341341018676758,
          24.366727828979492,
          24.386096954345703,
          24.400108337402344,
          24.409313201904297,
          24.414165496826172,
          24.415027618408203,
          24.413877487182617,
          24.412187576293945,
          24.405864715576172,
          24.396217346191406,
          24.391050338745117,
          24.38334083557129,
          24.367279052734375,
          24.348020553588867,
          24.32549285888672,
          24.299556732177734,
          24.270004272460938,
          24.236539840698242,
          24.198772430419922,
          24.156200408935547,
          24.108186721801758,
          24.05394744873047,
          23.992528915405273,
          23.922819137573242,
          23.84359359741211,
          23.753692626953125,
          23.652454376220703,
          23.54045867919922,
          23.42024803161621,
          23.296178817749023,
          23.17301368713379,
          23.054462432861328,
          22.942779541015625,
          22.83910369873047,
          22.743738174438477,
          22.655996322631836,
          22.57363510131836,
          22.49229621887207,
          22.40576934814453,
          22.307226181030273,
          22.190425872802734,
          22.04979705810547,
          21.880075454711914,
          21.679462432861328,
          21.46177101135254,
          21.254314422607422,
          21.071474075317383
         ]
        },
        {
         "type": "scatter",
         "x": [
          0,
          2.113296250172425e-05,
          0.00023246258206199855,
          0.0023457587230950594,
          0.009999999776482582,
          0.019999999552965164,
          0.029999999329447746,
          0.03999999910593033,
          0.05000000074505806,
          0.05999999865889549,
          0.07000000029802322,
          0.07999999821186066,
          0.09000000357627869,
          0.09387221187353134,
          0.10000000149011612,
          0.10999999940395355,
          0.11999999731779099,
          0.12999999523162842,
          0.14000000059604645,
          0.15000000596046448,
          0.1599999964237213,
          0.17000000178813934,
          0.18000000715255737,
          0.1899999976158142,
          0.20000000298023224,
          0.20999999344348907,
          0.2199999988079071,
          0.23000000417232513,
          0.23999999463558197,
          0.25,
          0.25999999046325684,
          0.27000001072883606,
          0.2800000011920929,
          0.28999999165534973,
          0.30000001192092896,
          0.3100000023841858,
          0.3199999928474426,
          0.33000001311302185,
          0.3400000035762787,
          0.3499999940395355,
          0.36000001430511475,
          0.3700000047683716,
          0.3799999952316284,
          0.38999998569488525,
          0.4000000059604645,
          0.4099999964237213,
          0.41999998688697815,
          0.4300000071525574,
          0.4399999976158142,
          0.44999998807907104,
          0.46000000834465027,
          0.4699999988079071,
          0.47999998927116394,
          0.49000000953674316,
          0.5,
          0.5099999904632568,
          0.5199999809265137,
          0.5299999713897705,
          0.5400000214576721,
          0.550000011920929,
          0.5600000023841858,
          0.5699999928474426,
          0.5799999833106995,
          0.5899999737739563,
          0.6000000238418579,
          0.6100000143051147,
          0.6200000047683716,
          0.6299999952316284,
          0.6399999856948853,
          0.6499999761581421,
          0.6600000262260437,
          0.6700000166893005,
          0.6800000071525574,
          0.6899999976158142,
          0.699999988079071,
          0.7099999785423279,
          0.7200000286102295,
          0.7300000190734863,
          0.7400000095367432,
          0.75,
          0.7599999904632568,
          0.7699999809265137,
          0.7799999713897705,
          0.7818089127540588,
          0.7900000214576721,
          0.7915065884590149,
          0.800000011920929,
          0.8100000023841858,
          0.8199999928474426,
          0.8299999833106995,
          0.8399999737739563,
          0.8500000238418579,
          0.8600000143051147,
          0.8700000047683716,
          0.8799999952316284,
          0.8899999856948853,
          0.8999999761581421,
          0.9100000262260437,
          0.9200000166893005,
          0.9300000071525574,
          0.9399999976158142,
          0.949999988079071,
          0.9599999785423279,
          0.9700000286102295,
          0.9800000190734863,
          0.9900000095367432,
          1,
          1.0099999904632568,
          1.0199999809265137,
          1.0299999713897705,
          1.0399999618530273,
          1.0499999523162842,
          1.059999942779541,
          1.0670415163040161,
          1.0700000524520874,
          1.0800000429153442,
          1.090000033378601,
          1.100000023841858,
          1.1100000143051147,
          1.1200000047683716,
          1.1299999952316284,
          1.1399999856948853,
          1.149999976158142,
          1.159999966621399,
          1.1699999570846558,
          1.1799999475479126,
          1.190000057220459,
          1.2000000476837158,
          1.2100000381469727,
          1.2200000286102295,
          1.2300000190734863,
          1.2400000095367432,
          1.25,
          1.2599999904632568,
          1.2699999809265137,
          1.2799999713897705,
          1.2899999618530273,
          1.2999999523162842,
          1.309999942779541,
          1.3200000524520874,
          1.3300000429153442,
          1.340000033378601,
          1.350000023841858,
          1.3600000143051147,
          1.3700000047683716,
          1.3799999952316284,
          1.3899999856948853,
          1.399999976158142,
          1.409999966621399,
          1.4199999570846558,
          1.4299999475479126,
          1.440000057220459,
          1.4500000476837158,
          1.4600000381469727,
          1.4700000286102295,
          1.4800000190734863,
          1.4900000095367432,
          1.5,
          1.5099999904632568,
          1.5199999809265137,
          1.5299999713897705,
          1.5399999618530273,
          1.5499999523162842,
          1.559999942779541,
          1.5700000524520874,
          1.5800000429153442,
          1.590000033378601,
          1.600000023841858,
          1.6100000143051147,
          1.6200000047683716,
          1.6299999952316284,
          1.6399999856948853,
          1.649999976158142,
          1.659999966621399,
          1.6699999570846558,
          1.6799999475479126,
          1.690000057220459,
          1.7000000476837158,
          1.7100000381469727,
          1.7200000286102295,
          1.7300000190734863,
          1.7400000095367432,
          1.75,
          1.7599999904632568,
          1.7699999809265137,
          1.7799999713897705,
          1.7899999618530273,
          1.7999999523162842,
          1.809999942779541,
          1.8200000524520874,
          1.8300000429153442,
          1.840000033378601,
          1.850000023841858,
          1.8600000143051147,
          1.8700000047683716,
          1.8799999952316284,
          1.8899999856948853,
          1.899999976158142,
          1.909999966621399,
          1.9199999570846558,
          1.9299999475479126,
          1.940000057220459,
          1.9500000476837158,
          1.9600000381469727,
          1.9700000286102295,
          1.9800000190734863,
          1.9900000095367432,
          2,
          2.009999990463257,
          2.0199999809265137,
          2.0299999713897705,
          2.0399999618530273,
          2.049999952316284,
          2.059999942779541,
          2.069999933242798,
          2.0799999237060547,
          2.0899999141693115,
          2.0999999046325684,
          2.109999895095825,
          2.119999885559082,
          2.130000114440918,
          2.140000104904175,
          2.1500000953674316,
          2.1600000858306885,
          2.1700000762939453,
          2.180000066757202,
          2.190000057220459,
          2.200000047683716,
          2.2100000381469727,
          2.2200000286102295,
          2.2300000190734863,
          2.240000009536743,
          2.25,
          2.259999990463257,
          2.2699999809265137,
          2.2799999713897705,
          2.2899999618530273,
          2.299999952316284,
          2.309999942779541,
          2.319999933242798,
          2.3299999237060547,
          2.3399999141693115,
          2.3499999046325684,
          2.359999895095825,
          2.369999885559082,
          2.380000114440918,
          2.390000104904175,
          2.4000000953674316,
          2.4100000858306885,
          2.4200000762939453,
          2.430000066757202,
          2.440000057220459,
          2.450000047683716,
          2.4600000381469727,
          2.4700000286102295,
          2.4800000190734863,
          2.490000009536743,
          2.5,
          2.509999990463257,
          2.5199999809265137,
          2.5299999713897705,
          2.5399999618530273,
          2.549999952316284,
          2.559999942779541,
          2.569999933242798,
          2.5799999237060547,
          2.5899999141693115,
          2.5999999046325684,
          2.6055967807769775,
          2.609999895095825,
          2.619999885559082,
          2.630000114440918,
          2.63431715965271,
          2.640000104904175,
          2.6500000953674316,
          2.6600000858306885,
          2.6700000762939453,
          2.680000066757202,
          2.690000057220459,
          2.700000047683716,
          2.7100000381469727,
          2.7200000286102295,
          2.7300000190734863,
          2.740000009536743,
          2.75,
          2.759999990463257,
          2.7699999809265137,
          2.7799999713897705,
          2.7899999618530273,
          2.799999952316284,
          2.809999942779541,
          2.819999933242798,
          2.8299999237060547,
          2.8399999141693115,
          2.8499999046325684,
          2.859999895095825,
          2.869999885559082,
          2.880000114440918,
          2.890000104904175,
          2.9000000953674316,
          2.9100000858306885,
          2.9200000762939453,
          2.930000066757202,
          2.940000057220459,
          2.950000047683716,
          2.9600000381469727,
          2.9700000286102295,
          2.9800000190734863,
          2.990000009536743
         ],
         "y": [
          -0.20000000298023224,
          -0.19999998807907104,
          -0.19999830424785614,
          -0.1998273730278015,
          -0.19686247408390045,
          -0.18770131468772888,
          -0.17300395667552948,
          -0.1532307267189026,
          -0.12881964445114136,
          -0.10019009560346603,
          -0.06774504482746124,
          -0.03187192976474762,
          0.007057427894324064,
          0.022877829149365425,
          0.048687875270843506,
          0.09268257766962051,
          0.13872499763965607,
          0.18652096390724182,
          0.23580044507980347,
          0.2863190770149231,
          0.33785903453826904,
          0.39022940397262573,
          0.44326579570770264,
          0.49682968854904175,
          0.5508071184158325,
          0.6051069498062134,
          0.6596593260765076,
          0.7144135236740112,
          0.7693361043930054,
          0.8244091868400574,
          0.8796286582946777,
          0.9350025057792664,
          0.9905498027801514,
          1.0462994575500488,
          1.1022889614105225,
          1.1585644483566284,
          1.2151795625686646,
          1.2721953392028809,
          1.329680323600769,
          1.387710452079773,
          1.4463691711425781,
          1.5057483911514282,
          1.5659486055374146,
          1.6270800828933716,
          1.6892635822296143,
          1.7526321411132812,
          1.8173319101333618,
          1.8835244178771973,
          1.9513883590698242,
          2.0211219787597656,
          2.0929458141326904,
          2.1671056747436523,
          2.243875503540039,
          2.3235607147216797,
          2.406501531600952,
          2.4930758476257324,
          2.58370041847229,
          2.6788315773010254,
          2.778960943222046,
          2.884608030319214,
          2.996304750442505,
          3.114570379257202,
          3.239875078201294,
          3.3725898265838623,
          3.512925386428833,
          3.660860538482666,
          3.8160698413848877,
          3.9778544902801514,
          4.145083427429199,
          4.316145420074463,
          4.488913059234619,
          4.660727024078369,
          4.828414440155029,
          4.98837423324585,
          5.137357234954834,
          5.273215293884277,
          5.394358158111572,
          5.499256134033203,
          5.586546421051025,
          5.655110836029053,
          5.704107761383057,
          5.732969760894775,
          5.741381645202637,
          5.74070930480957,
          5.729262351989746,
          5.725662708282471,
          5.696756839752197,
          5.644247531890869,
          5.572373867034912,
          5.482054710388184,
          5.374481678009033,
          5.251080513000488,
          5.113427639007568,
          4.963134765625,
          4.801727771759033,
          4.6305365562438965,
          4.450621128082275,
          4.262726306915283,
          4.0672688484191895,
          3.864339590072632,
          3.6537163257598877,
          3.4348721504211426,
          3.206969738006592,
          2.968825101852417,
          2.7188148498535156,
          2.454712152481079,
          2.1734366416931152,
          1.870723843574524,
          1.5407462120056152,
          1.1759058237075806,
          0.7677357792854309,
          0.31289902329444885,
          -0.17027871310710907,
          -0.5084447264671326,
          -0.6471893191337585,
          -1.0994595289230347,
          -1.529980182647705,
          -1.9458390474319458,
          -2.352752447128296,
          -2.7575390338897705,
          -3.167198657989502,
          -3.5891778469085693,
          -4.032652854919434,
          -4.510487079620361,
          -5.0409345626831055,
          -5.645078659057617,
          -6.308173656463623,
          -6.954128265380859,
          -7.533417701721191,
          -8.059929847717285,
          -8.55931282043457,
          -9.04789924621582,
          -9.538772583007812,
          -10.045080184936523,
          -10.583331108093262,
          -11.177448272705078,
          -11.855445861816406,
          -12.600890159606934,
          -13.320682525634766,
          -13.953723907470703,
          -14.517849922180176,
          -15.049717903137207,
          -15.572344779968262,
          -16.101747512817383,
          -16.655263900756836,
          -17.256826400756836,
          -17.939800262451172,
          -18.70477867126465,
          -19.467266082763672,
          -20.144062042236328,
          -20.739547729492188,
          -21.293813705444336,
          -21.836225509643555,
          -22.38472557067871,
          -22.95846176147461,
          -23.583951950073242,
          -24.295555114746094,
          -25.089513778686523,
          -25.868545532226562,
          -26.552902221679688,
          -27.156856536865234,
          -27.723337173461914,
          -28.2829532623291,
          -28.855289459228516,
          -29.46332550048828,
          -30.140499114990234,
          -30.90726089477539,
          -31.720333099365234,
          -32.47175979614258,
          -33.122230529785156,
          -33.70569610595703,
          -34.26339340209961,
          -34.8225212097168,
          -35.402984619140625,
          -36.03114318847656,
          -36.734676361083984,
          -37.516632080078125,
          -38.30242156982422,
          -38.99989700317383,
          -39.60613250732422,
          -40.16082000732422,
          -40.700157165527344,
          -41.24567413330078,
          -41.81630325317383,
          -42.438255310058594,
          -43.13197708129883,
          -43.88934326171875,
          -44.63724899291992,
          -45.29979705810547,
          -45.879066467285156,
          -46.4102897644043,
          -46.92700958251953,
          -47.449806213378906,
          -47.995052337646484,
          -48.585052490234375,
          -49.238643646240234,
          -49.95740509033203,
          -50.69217300415039,
          -51.36053466796875,
          -51.944026947021484,
          -52.465267181396484,
          -52.956031799316406,
          -53.44387435913086,
          -53.9449348449707,
          -54.47473907470703,
          -55.04922866821289,
          -55.678062438964844,
          -56.356224060058594,
          -57.033748626708984,
          -57.645870208740234,
          -58.182098388671875,
          -58.66106033325195,
          -59.10464096069336,
          -59.53704071044922,
          -59.97635269165039,
          -60.43306350708008,
          -60.9188346862793,
          -61.43824005126953,
          -61.992496490478516,
          -62.578548431396484,
          -63.163124084472656,
          -63.70113754272461,
          -64.17759704589844,
          -64.60149383544922,
          -64.98597717285156,
          -65.34626770019531,
          -65.70033264160156,
          -66.0605697631836,
          -66.43318939208984,
          -66.82473754882812,
          -67.24202728271484,
          -67.68477630615234,
          -68.14952850341797,
          -68.63394165039062,
          -69.12328338623047,
          -69.5901107788086,
          -70.01424407958984,
          -70.39280700683594,
          -70.73213195800781,
          -71.03997039794922,
          -71.3228530883789,
          -71.58880615234375,
          -71.84777069091797,
          -72.1083984375,
          -72.37752532958984,
          -72.65965270996094,
          -72.95724487304688,
          -73.27027130126953,
          -73.59501647949219,
          -73.92631530761719,
          -74.26199340820312,
          -74.60140228271484,
          -74.94037628173828,
          -75.27078247070312,
          -75.58268737792969,
          -75.86835479736328,
          -76.12460327148438,
          -76.3519515991211,
          -76.552734375,
          -76.729736328125,
          -76.885498046875,
          -77.02217102050781,
          -77.14144897460938,
          -77.24465942382812,
          -77.33283233642578,
          -77.40675354003906,
          -77.46701049804688,
          -77.51404571533203,
          -77.53472900390625,
          -77.54818725585938,
          -77.56964874267578,
          -77.57857513427734,
          -77.57857513427734,
          -77.57503509521484,
          -77.55902862548828,
          -77.53047180175781,
          -77.48922729492188,
          -77.43504333496094,
          -77.36759185791016,
          -77.286376953125,
          -77.19075775146484,
          -77.07987976074219,
          -76.9526138305664,
          -76.80750274658203,
          -76.64269256591797,
          -76.45590209960938,
          -76.24449157714844,
          -76.00582122802734,
          -75.73820495605469,
          -75.4425277709961,
          -75.12387084960938,
          -74.79108428955078,
          -74.45340728759766,
          -74.11710357666016,
          -73.78458404541016,
          -73.45539855957031,
          -73.12749481201172,
          -72.7979736328125,
          -72.46354675292969,
          -72.12056732177734,
          -71.7647476196289,
          -71.39041900634766,
          -70.98957824707031,
          -70.5508804321289,
          -70.05978393554688,
          -69.5074462890625,
          -68.92057037353516,
          -68.3563461303711,
          -67.84034729003906
         ]
        },
        {
         "type": "scatter",
         "x": [
          0,
          2.113296250172425e-05,
          0.00023246258206199855,
          0.0023457587230950594,
          0.009999999776482582,
          0.019999999552965164,
          0.029999999329447746,
          0.03999999910593033,
          0.05000000074505806,
          0.05999999865889549,
          0.07000000029802322,
          0.07999999821186066,
          0.09000000357627869,
          0.09387221187353134,
          0.10000000149011612,
          0.10999999940395355,
          0.11999999731779099,
          0.12999999523162842,
          0.14000000059604645,
          0.15000000596046448,
          0.1599999964237213,
          0.17000000178813934,
          0.18000000715255737,
          0.1899999976158142,
          0.20000000298023224,
          0.20999999344348907,
          0.2199999988079071,
          0.23000000417232513,
          0.23999999463558197,
          0.25,
          0.25999999046325684,
          0.27000001072883606,
          0.2800000011920929,
          0.28999999165534973,
          0.30000001192092896,
          0.3100000023841858,
          0.3199999928474426,
          0.33000001311302185,
          0.3400000035762787,
          0.3499999940395355,
          0.36000001430511475,
          0.3700000047683716,
          0.3799999952316284,
          0.38999998569488525,
          0.4000000059604645,
          0.4099999964237213,
          0.41999998688697815,
          0.4300000071525574,
          0.4399999976158142,
          0.44999998807907104,
          0.46000000834465027,
          0.4699999988079071,
          0.47999998927116394,
          0.49000000953674316,
          0.5,
          0.5099999904632568,
          0.5199999809265137,
          0.5299999713897705,
          0.5400000214576721,
          0.550000011920929,
          0.5600000023841858,
          0.5699999928474426,
          0.5799999833106995,
          0.5899999737739563,
          0.6000000238418579,
          0.6100000143051147,
          0.6200000047683716,
          0.6299999952316284,
          0.6399999856948853,
          0.6499999761581421,
          0.6600000262260437,
          0.6700000166893005,
          0.6800000071525574,
          0.6899999976158142,
          0.699999988079071,
          0.7099999785423279,
          0.7200000286102295,
          0.7300000190734863,
          0.7400000095367432,
          0.75,
          0.7599999904632568,
          0.7699999809265137,
          0.7799999713897705,
          0.7818089127540588,
          0.7900000214576721,
          0.7915065884590149,
          0.800000011920929,
          0.8100000023841858,
          0.8199999928474426,
          0.8299999833106995,
          0.8399999737739563,
          0.8500000238418579,
          0.8600000143051147,
          0.8700000047683716,
          0.8799999952316284,
          0.8899999856948853,
          0.8999999761581421,
          0.9100000262260437,
          0.9200000166893005,
          0.9300000071525574,
          0.9399999976158142,
          0.949999988079071,
          0.9599999785423279,
          0.9700000286102295,
          0.9800000190734863,
          0.9900000095367432,
          1,
          1.0099999904632568,
          1.0199999809265137,
          1.0299999713897705,
          1.0399999618530273,
          1.0499999523162842,
          1.059999942779541,
          1.0670415163040161,
          1.0700000524520874,
          1.0800000429153442,
          1.090000033378601,
          1.100000023841858,
          1.1100000143051147,
          1.1200000047683716,
          1.1299999952316284,
          1.1399999856948853,
          1.149999976158142,
          1.159999966621399,
          1.1699999570846558,
          1.1799999475479126,
          1.190000057220459,
          1.2000000476837158,
          1.2100000381469727,
          1.2200000286102295,
          1.2300000190734863,
          1.2400000095367432,
          1.25,
          1.2599999904632568,
          1.2699999809265137,
          1.2799999713897705,
          1.2899999618530273,
          1.2999999523162842,
          1.309999942779541,
          1.3200000524520874,
          1.3300000429153442,
          1.340000033378601,
          1.350000023841858,
          1.3600000143051147,
          1.3700000047683716,
          1.3799999952316284,
          1.3899999856948853,
          1.399999976158142,
          1.409999966621399,
          1.4199999570846558,
          1.4299999475479126,
          1.440000057220459,
          1.4500000476837158,
          1.4600000381469727,
          1.4700000286102295,
          1.4800000190734863,
          1.4900000095367432,
          1.5,
          1.5099999904632568,
          1.5199999809265137,
          1.5299999713897705,
          1.5399999618530273,
          1.5499999523162842,
          1.559999942779541,
          1.5700000524520874,
          1.5800000429153442,
          1.590000033378601,
          1.600000023841858,
          1.6100000143051147,
          1.6200000047683716,
          1.6299999952316284,
          1.6399999856948853,
          1.649999976158142,
          1.659999966621399,
          1.6699999570846558,
          1.6799999475479126,
          1.690000057220459,
          1.7000000476837158,
          1.7100000381469727,
          1.7200000286102295,
          1.7300000190734863,
          1.7400000095367432,
          1.75,
          1.7599999904632568,
          1.7699999809265137,
          1.7799999713897705,
          1.7899999618530273,
          1.7999999523162842,
          1.809999942779541,
          1.8200000524520874,
          1.8300000429153442,
          1.840000033378601,
          1.850000023841858,
          1.8600000143051147,
          1.8700000047683716,
          1.8799999952316284,
          1.8899999856948853,
          1.899999976158142,
          1.909999966621399,
          1.9199999570846558,
          1.9299999475479126,
          1.940000057220459,
          1.9500000476837158,
          1.9600000381469727,
          1.9700000286102295,
          1.9800000190734863,
          1.9900000095367432,
          2,
          2.009999990463257,
          2.0199999809265137,
          2.0299999713897705,
          2.0399999618530273,
          2.049999952316284,
          2.059999942779541,
          2.069999933242798,
          2.0799999237060547,
          2.0899999141693115,
          2.0999999046325684,
          2.109999895095825,
          2.119999885559082,
          2.130000114440918,
          2.140000104904175,
          2.1500000953674316,
          2.1600000858306885,
          2.1700000762939453,
          2.180000066757202,
          2.190000057220459,
          2.200000047683716,
          2.2100000381469727,
          2.2200000286102295,
          2.2300000190734863,
          2.240000009536743,
          2.25,
          2.259999990463257,
          2.2699999809265137,
          2.2799999713897705,
          2.2899999618530273,
          2.299999952316284,
          2.309999942779541,
          2.319999933242798,
          2.3299999237060547,
          2.3399999141693115,
          2.3499999046325684,
          2.359999895095825,
          2.369999885559082,
          2.380000114440918,
          2.390000104904175,
          2.4000000953674316,
          2.4100000858306885,
          2.4200000762939453,
          2.430000066757202,
          2.440000057220459,
          2.450000047683716,
          2.4600000381469727,
          2.4700000286102295,
          2.4800000190734863,
          2.490000009536743,
          2.5,
          2.509999990463257,
          2.5199999809265137,
          2.5299999713897705,
          2.5399999618530273,
          2.549999952316284,
          2.559999942779541,
          2.569999933242798,
          2.5799999237060547,
          2.5899999141693115,
          2.5999999046325684,
          2.6055967807769775,
          2.609999895095825,
          2.619999885559082,
          2.630000114440918,
          2.63431715965271,
          2.640000104904175,
          2.6500000953674316,
          2.6600000858306885,
          2.6700000762939453,
          2.680000066757202,
          2.690000057220459,
          2.700000047683716,
          2.7100000381469727,
          2.7200000286102295,
          2.7300000190734863,
          2.740000009536743,
          2.75,
          2.759999990463257,
          2.7699999809265137,
          2.7799999713897705,
          2.7899999618530273,
          2.799999952316284,
          2.809999942779541,
          2.819999933242798,
          2.8299999237060547,
          2.8399999141693115,
          2.8499999046325684,
          2.859999895095825,
          2.869999885559082,
          2.880000114440918,
          2.890000104904175,
          2.9000000953674316,
          2.9100000858306885,
          2.9200000762939453,
          2.930000066757202,
          2.940000057220459,
          2.950000047683716,
          2.9600000381469727,
          2.9700000286102295,
          2.9800000190734863,
          2.990000009536743
         ],
         "y": [
          0,
          -0.00048088954645209014,
          -0.005289770197123289,
          -0.05337829515337944,
          -0.22762608528137207,
          -0.4365326464176178,
          -0.627915620803833,
          -0.802729606628418,
          -0.9617377519607544,
          -1.1055660247802734,
          -1.2347593307495117,
          -1.3498311042785645,
          -1.4513088464736938,
          -1.4855055809020996,
          -1.5397676229476929,
          -1.6158549785614014,
          -1.6803009510040283,
          -1.73391854763031,
          -1.7775951623916626,
          -1.8122732639312744,
          -1.8389304876327515,
          -1.8585532903671265,
          -1.8721147775650024,
          -1.8805537223815918,
          -1.8847570419311523,
          -1.8855481147766113,
          -1.883678674697876,
          -1.8798255920410156,
          -1.87459135055542,
          -1.8685067892074585,
          -1.8620367050170898,
          -1.8555853366851807,
          -1.8495043516159058,
          -1.8440992832183838,
          -1.8396377563476562,
          -1.836355209350586,
          -1.8344630002975464,
          -1.8341526985168457,
          -1.83560311794281,
          -1.8389850854873657,
          -1.844466209411621,
          -1.85221529006958,
          -1.862407922744751,
          -1.8752304315567017,
          -1.890885829925537,
          -1.9095977544784546,
          -1.9316192865371704,
          -1.9572389125823975,
          -1.9867912530899048,
          -2.020669937133789,
          -2.0593435764312744,
          -2.103379011154175,
          -2.1534719467163086,
          -2.2104885578155518,
          -2.275522470474243,
          -2.349970817565918,
          -2.4356322288513184,
          -2.53482723236084,
          -2.650526285171509,
          -2.786459445953369,
          -2.947136640548706,
          -3.137667179107666,
          -3.3632142543792725,
          -3.6279244422912598,
          -3.9332661628723145,
          -4.275972843170166,
          -4.646108627319336,
          -5.025980472564697,
          -5.390449047088623,
          -5.708683013916016,
          -5.9469194412231445,
          -6.071762561798096,
          -6.053903102874756,
          -5.872382164001465,
          -5.562320709228516,
          -5.165489673614502,
          -4.686992645263672,
          -4.136266231536865,
          -3.5259251594543457,
          -2.8700459003448486,
          -2.1825435161590576,
          -1.476197600364685,
          -0.7625411748886108,
          -0.6335117220878601,
          -0.052471037954092026,
          0.053510744124650955,
          0.6427680850028992,
          1.3106577396392822,
          1.9369597434997559,
          2.5060665607452393,
          3.002218008041382,
          3.411290168762207,
          3.7225558757781982,
          3.9298019409179688,
          4.031569004058838,
          4.030838966369629,
          3.934922218322754,
          3.756404399871826,
          3.515821695327759,
          3.2461624145507812,
          2.998054265975952,
          2.8424055576324463,
          2.8652961254119873,
          3.151435136795044,
          3.760734796524048,
          4.712839126586914,
          5.993284225463867,
          7.578352451324463,
          9.458746910095215,
          11.63243293762207,
          14.012129783630371,
          16.07066535949707,
          16.47512435913086,
          15.767553329467773,
          15.303598403930664,
          13.578283309936523,
          11.8684720993042,
          10.04841136932373,
          8.340607643127441,
          7.100874900817871,
          6.846585273742676,
          7.951298236846924,
          10.333974838256836,
          13.661091804504395,
          17.711261749267578,
          22.075178146362305,
          23.54279327392578,
          20.943273544311523,
          17.2626895904541,
          14.2801513671875,
          11.71776294708252,
          9.91369342803955,
          9.714402198791504,
          11.605536460876465,
          15.21080493927002,
          20.0052490234375,
          25.241479873657227,
          26.784452438354492,
          23.442012786865234,
          18.565845489501953,
          14.783463478088379,
          11.939203262329102,
          10.463284492492676,
          11.318116188049316,
          14.47708797454834,
          19.20612144470215,
          24.959415435791016,
          27.788389205932617,
          25.15015411376953,
          19.867687225341797,
          15.333704948425293,
          12.056166648864746,
          10.278733253479004,
          11.170228004455566,
          14.692950248718262,
          19.929311752319336,
          25.98171043395996,
          28.583417892456055,
          25.188671112060547,
          19.633769989013672,
          15.063575744628906,
          11.991474151611328,
          10.92680549621582,
          12.896190643310547,
          17.38619613647461,
          23.469497680664062,
          28.343948364257812,
          28.426284790039062,
          23.358491897583008,
          17.918537139892578,
          13.878205299377441,
          11.600592613220215,
          11.815384864807129,
          14.867918014526367,
          19.904598236083984,
          25.3940372467041,
          28.683523178100586,
          26.154998779296875,
          20.630191802978516,
          15.581635475158691,
          12.11434268951416,
          10.416182518005371,
          11.324442863464355,
          14.774487495422363,
          19.891706466674805,
          24.73066520690918,
          27.193225860595703,
          24.354549407958984,
          19.217262268066406,
          14.5546236038208,
          11.280029296875,
          9.620515823364258,
          10.258798599243164,
          13.316180229187012,
          18.033639907836914,
          22.783527374267578,
          26.08026885986328,
          24.89519500732422,
          20.42145538330078,
          15.90888786315918,
          12.221322059631348,
          10.053482055664062,
          9.55648136138916,
          11.112526893615723,
          14.460930824279785,
          18.570035934448242,
          22.35148048400879,
          24.52891731262207,
          22.81395149230957,
          18.769575119018555,
          14.785624504089355,
          11.463555335998535,
          9.10241985321045,
          8.151244163513184,
          8.614106178283691,
          10.563722610473633,
          13.575435638427734,
          16.467697143554688,
          19.137954711914062,
          20.591323852539062,
          19.4976749420166,
          16.536890029907227,
          13.29881763458252,
          10.40987777709961,
          7.969671249389648,
          6.267023086547852,
          5.443058967590332,
          5.4524970054626465,
          6.447728157043457,
          8.37339973449707,
          10.866058349609375,
          13.100712776184082,
          15.033806800842285,
          16.326642990112305,
          16.271503448486328,
          14.74346923828125,
          12.513050079345703,
          10.271466255187988,
          8.2655611038208,
          6.531618118286133,
          5.0661821365356445,
          4.037905693054199,
          3.4446921348571777,
          3.286594867706299,
          3.6002395153045654,
          4.380166053771973,
          5.586081027984619,
          6.992454528808594,
          8.297782897949219,
          9.346296310424805,
          10.244145393371582,
          10.876077651977539,
          11.089302062988281,
          10.763967514038086,
          9.935881614685059,
          8.801838874816895,
          7.580728054046631,
          6.411475658416748,
          5.351952075958252,
          4.413825511932373,
          3.5893619060516357,
          2.8648152351379395,
          2.2257909774780273,
          1.6589890718460083,
          1.1525665521621704,
          0.6960636377334595,
          0.280238538980484,
          -0.10309341549873352,
          -0.30619749426841736,
          -0.46121230721473694,
          -0.8006553053855896,
          -1.127402663230896,
          -1.265962839126587,
          -1.4470943212509155,
          -1.7652740478515625,
          -2.0876517295837402,
          -2.4203720092773438,
          -2.7702817916870117,
          -3.1451869010925293,
          -3.5541021823883057,
          -4.007497310638428,
          -4.517538547515869,
          -5.098280906677246,
          -5.765629768371582,
          -6.536531448364258,
          -7.4260406494140625,
          -8.439278602600098,
          -9.5532808303833,
          -10.685986518859863,
          -11.670784950256348,
          -12.296026229858398,
          -12.435635566711426,
          -12.134990692138672,
          -11.538471221923828,
          -10.779545783996582,
          -9.950308799743652,
          -9.133410453796387,
          -8.451231956481934,
          -8.094013214111328,
          -8.279409408569336,
          -9.142204284667969,
          -10.670419692993164,
          -12.781411170959473,
          -15.434060096740723,
          -18.573270797729492,
          -21.4151554107666,
          -21.694093704223633,
          -19.548919677734375,
          -16.99123764038086
         ]
        },
        {
         "type": "scatter",
         "x": [
          0,
          2.113296250172425e-05,
          0.00023246258206199855,
          0.0023457587230950594,
          0.009999999776482582,
          0.019999999552965164,
          0.029999999329447746,
          0.03999999910593033,
          0.05000000074505806,
          0.05999999865889549,
          0.07000000029802322,
          0.07999999821186066,
          0.09000000357627869,
          0.09387221187353134,
          0.10000000149011612,
          0.10999999940395355,
          0.11999999731779099,
          0.12999999523162842,
          0.14000000059604645,
          0.15000000596046448,
          0.1599999964237213,
          0.17000000178813934,
          0.18000000715255737,
          0.1899999976158142,
          0.20000000298023224,
          0.20999999344348907,
          0.2199999988079071,
          0.23000000417232513,
          0.23999999463558197,
          0.25,
          0.25999999046325684,
          0.27000001072883606,
          0.2800000011920929,
          0.28999999165534973,
          0.30000001192092896,
          0.3100000023841858,
          0.3199999928474426,
          0.33000001311302185,
          0.3400000035762787,
          0.3499999940395355,
          0.36000001430511475,
          0.3700000047683716,
          0.3799999952316284,
          0.38999998569488525,
          0.4000000059604645,
          0.4099999964237213,
          0.41999998688697815,
          0.4300000071525574,
          0.4399999976158142,
          0.44999998807907104,
          0.46000000834465027,
          0.4699999988079071,
          0.47999998927116394,
          0.49000000953674316,
          0.5,
          0.5099999904632568,
          0.5199999809265137,
          0.5299999713897705,
          0.5400000214576721,
          0.550000011920929,
          0.5600000023841858,
          0.5699999928474426,
          0.5799999833106995,
          0.5899999737739563,
          0.6000000238418579,
          0.6100000143051147,
          0.6200000047683716,
          0.6299999952316284,
          0.6399999856948853,
          0.6499999761581421,
          0.6600000262260437,
          0.6700000166893005,
          0.6800000071525574,
          0.6899999976158142,
          0.699999988079071,
          0.7099999785423279,
          0.7200000286102295,
          0.7300000190734863,
          0.7400000095367432,
          0.75,
          0.7599999904632568,
          0.7699999809265137,
          0.7799999713897705,
          0.7818089127540588,
          0.7900000214576721,
          0.7915065884590149,
          0.800000011920929,
          0.8100000023841858,
          0.8199999928474426,
          0.8299999833106995,
          0.8399999737739563,
          0.8500000238418579,
          0.8600000143051147,
          0.8700000047683716,
          0.8799999952316284,
          0.8899999856948853,
          0.8999999761581421,
          0.9100000262260437,
          0.9200000166893005,
          0.9300000071525574,
          0.9399999976158142,
          0.949999988079071,
          0.9599999785423279,
          0.9700000286102295,
          0.9800000190734863,
          0.9900000095367432,
          1,
          1.0099999904632568,
          1.0199999809265137,
          1.0299999713897705,
          1.0399999618530273,
          1.0499999523162842,
          1.059999942779541,
          1.0670415163040161,
          1.0700000524520874,
          1.0800000429153442,
          1.090000033378601,
          1.100000023841858,
          1.1100000143051147,
          1.1200000047683716,
          1.1299999952316284,
          1.1399999856948853,
          1.149999976158142,
          1.159999966621399,
          1.1699999570846558,
          1.1799999475479126,
          1.190000057220459,
          1.2000000476837158,
          1.2100000381469727,
          1.2200000286102295,
          1.2300000190734863,
          1.2400000095367432,
          1.25,
          1.2599999904632568,
          1.2699999809265137,
          1.2799999713897705,
          1.2899999618530273,
          1.2999999523162842,
          1.309999942779541,
          1.3200000524520874,
          1.3300000429153442,
          1.340000033378601,
          1.350000023841858,
          1.3600000143051147,
          1.3700000047683716,
          1.3799999952316284,
          1.3899999856948853,
          1.399999976158142,
          1.409999966621399,
          1.4199999570846558,
          1.4299999475479126,
          1.440000057220459,
          1.4500000476837158,
          1.4600000381469727,
          1.4700000286102295,
          1.4800000190734863,
          1.4900000095367432,
          1.5,
          1.5099999904632568,
          1.5199999809265137,
          1.5299999713897705,
          1.5399999618530273,
          1.5499999523162842,
          1.559999942779541,
          1.5700000524520874,
          1.5800000429153442,
          1.590000033378601,
          1.600000023841858,
          1.6100000143051147,
          1.6200000047683716,
          1.6299999952316284,
          1.6399999856948853,
          1.649999976158142,
          1.659999966621399,
          1.6699999570846558,
          1.6799999475479126,
          1.690000057220459,
          1.7000000476837158,
          1.7100000381469727,
          1.7200000286102295,
          1.7300000190734863,
          1.7400000095367432,
          1.75,
          1.7599999904632568,
          1.7699999809265137,
          1.7799999713897705,
          1.7899999618530273,
          1.7999999523162842,
          1.809999942779541,
          1.8200000524520874,
          1.8300000429153442,
          1.840000033378601,
          1.850000023841858,
          1.8600000143051147,
          1.8700000047683716,
          1.8799999952316284,
          1.8899999856948853,
          1.899999976158142,
          1.909999966621399,
          1.9199999570846558,
          1.9299999475479126,
          1.940000057220459,
          1.9500000476837158,
          1.9600000381469727,
          1.9700000286102295,
          1.9800000190734863,
          1.9900000095367432,
          2,
          2.009999990463257,
          2.0199999809265137,
          2.0299999713897705,
          2.0399999618530273,
          2.049999952316284,
          2.059999942779541,
          2.069999933242798,
          2.0799999237060547,
          2.0899999141693115,
          2.0999999046325684,
          2.109999895095825,
          2.119999885559082,
          2.130000114440918,
          2.140000104904175,
          2.1500000953674316,
          2.1600000858306885,
          2.1700000762939453,
          2.180000066757202,
          2.190000057220459,
          2.200000047683716,
          2.2100000381469727,
          2.2200000286102295,
          2.2300000190734863,
          2.240000009536743,
          2.25,
          2.259999990463257,
          2.2699999809265137,
          2.2799999713897705,
          2.2899999618530273,
          2.299999952316284,
          2.309999942779541,
          2.319999933242798,
          2.3299999237060547,
          2.3399999141693115,
          2.3499999046325684,
          2.359999895095825,
          2.369999885559082,
          2.380000114440918,
          2.390000104904175,
          2.4000000953674316,
          2.4100000858306885,
          2.4200000762939453,
          2.430000066757202,
          2.440000057220459,
          2.450000047683716,
          2.4600000381469727,
          2.4700000286102295,
          2.4800000190734863,
          2.490000009536743,
          2.5,
          2.509999990463257,
          2.5199999809265137,
          2.5299999713897705,
          2.5399999618530273,
          2.549999952316284,
          2.559999942779541,
          2.569999933242798,
          2.5799999237060547,
          2.5899999141693115,
          2.5999999046325684,
          2.6055967807769775,
          2.609999895095825,
          2.619999885559082,
          2.630000114440918,
          2.63431715965271,
          2.640000104904175,
          2.6500000953674316,
          2.6600000858306885,
          2.6700000762939453,
          2.680000066757202,
          2.690000057220459,
          2.700000047683716,
          2.7100000381469727,
          2.7200000286102295,
          2.7300000190734863,
          2.740000009536743,
          2.75,
          2.759999990463257,
          2.7699999809265137,
          2.7799999713897705,
          2.7899999618530273,
          2.799999952316284,
          2.809999942779541,
          2.819999933242798,
          2.8299999237060547,
          2.8399999141693115,
          2.8499999046325684,
          2.859999895095825,
          2.869999885559082,
          2.880000114440918,
          2.890000104904175,
          2.9000000953674316,
          2.9100000858306885,
          2.9200000762939453,
          2.930000066757202,
          2.940000057220459,
          2.950000047683716,
          2.9600000381469727,
          2.9700000286102295,
          2.9800000190734863,
          2.990000009536743
         ],
         "y": [
          0,
          0.001325979013927281,
          0.014585732482373714,
          0.14718225598335266,
          0.6275948286056519,
          1.2049224376678467,
          1.7349740266799927,
          2.2201876640319824,
          2.6625771522521973,
          3.063868284225464,
          3.425633430480957,
          3.7494077682495117,
          4.036793231964111,
          4.134488582611084,
          4.289531230926514,
          4.509552955627441,
          4.698995590209961,
          4.860194683074951,
          4.995654106140137,
          5.107996463775635,
          5.199909687042236,
          5.274078845977783,
          5.333135604858398,
          5.379604816436768,
          5.415865898132324,
          5.444124221801758,
          5.466398239135742,
          5.484511852264404,
          5.500101089477539,
          5.514624118804932,
          5.52937650680542,
          5.545511722564697,
          5.564060211181641,
          5.5859527587890625,
          5.612040042877197,
          5.643115043640137,
          5.679931640625,
          5.723224639892578,
          5.7737298011779785,
          5.832200050354004,
          5.899424076080322,
          5.976245403289795,
          6.0635809898376465,
          6.162441730499268,
          6.273952960968018,
          6.399377822875977,
          6.5401434898376465,
          6.697865009307861,
          6.874378204345703,
          7.071765899658203,
          7.292390823364258,
          7.538921356201172,
          7.8143510818481445,
          8.122003555297852,
          8.465514183044434,
          8.84875774383545,
          9.275721549987793,
          9.750260353088379,
          10.27570915222168,
          10.854294776916504,
          11.486305236816406,
          12.169008255004883,
          12.895358085632324,
          13.652655601501465,
          14.421406745910645,
          15.174687385559082,
          15.878216743469238,
          16.491119384765625,
          16.967086791992188,
          17.255643844604492,
          17.30360984802246,
          17.05763053894043,
          16.469125747680664,
          15.502659797668457,
          14.26839828491211,
          12.876458168029785,
          11.326482772827148,
          9.630256652832031,
          7.809111595153809,
          5.889768600463867,
          3.9002106189727783,
          1.8669317960739136,
          -0.1858883500099182,
          -0.5575465559959412,
          -2.2355599403381348,
          -2.5426831245422363,
          -4.259191036224365,
          -6.232100009918213,
          -8.127283096313477,
          -9.916638374328613,
          -11.574060440063477,
          -13.07968807220459,
          -14.423837661743164,
          -15.60911750793457,
          -16.650026321411133,
          -17.570446014404297,
          -18.40019989013672,
          -19.171817779541016,
          -19.91820526123047,
          -20.67135238647461,
          -21.462059020996094,
          -22.3206844329834,
          -23.27937889099121,
          -24.3763484954834,
          -25.66238784790039,
          -27.208938598632812,
          -29.116575241088867,
          -31.522594451904297,
          -34.600440979003906,
          -38.51544952392578,
          -43.21577072143555,
          -47.595760345458984,
          -48.556983947753906,
          -47.29653549194336,
          -46.47906494140625,
          -43.89833068847656,
          -42.243038177490234,
          -41.02861404418945,
          -40.469017028808594,
          -40.604549407958984,
          -41.44927215576172,
          -43.09602737426758,
          -45.81001281738281,
          -50.0617790222168,
          -56.40988540649414,
          -64.53755187988281,
          -66.99606323242188,
          -61.34559631347656,
          -54.58981704711914,
          -50.93672180175781,
          -49.172428131103516,
          -48.761619567871094,
          -49.626163482666016,
          -51.903114318847656,
          -56.142269134521484,
          -63.22821807861328,
          -72.61695861816406,
          -74.93536376953125,
          -67.9170150756836,
          -58.971195220947266,
          -54.22099304199219,
          -52.447792053222656,
          -52.33930206298828,
          -53.8203239440918,
          -57.27461624145508,
          -63.61013412475586,
          -73.51939392089844,
          -78.23290252685547,
          -72.62195587158203,
          -62.889007568359375,
          -56.66856384277344,
          -54.52070617675781,
          -54.25487518310547,
          -55.75252914428711,
          -59.42824172973633,
          -66.30621337890625,
          -76.49962615966797,
          -80.70030212402344,
          -73.5897445678711,
          -63.61661148071289,
          -57.68062210083008,
          -55.97242736816406,
          -56.26771545410156,
          -58.569053649902344,
          -63.59089660644531,
          -72.59965515136719,
          -80.43453216552734,
          -79.9014892578125,
          -69.85677337646484,
          -60.812740325927734,
          -56.3432502746582,
          -55.5257682800293,
          -56.61913299560547,
          -59.9018440246582,
          -66.3714599609375,
          -74.81822967529297,
          -80.3685073852539,
          -74.93559265136719,
          -64.70526885986328,
          -57.10624694824219,
          -54.200157165527344,
          -53.955848693847656,
          -55.451515197753906,
          -59.10321044921875,
          -65.91279602050781,
          -73.08162689208984,
          -77.06240844726562,
          -71.05276489257812,
          -61.64977264404297,
          -54.70317077636719,
          -51.87140655517578,
          -51.72488021850586,
          -53.098106384277344,
          -56.314727783203125,
          -62.226112365722656,
          -68.86598205566406,
          -74.13739013671875,
          -71.14483642578125,
          -62.33998489379883,
          -54.800132751464844,
          -49.836265563964844,
          -48.55535888671875,
          -49.22195053100586,
          -51.240882873535156,
          -55.086952209472656,
          -60.248992919921875,
          -65.64883422851562,
          -69.0916976928711,
          -65.15147399902344,
          -57.19326400756836,
          -50.40748596191406,
          -45.70094299316406,
          -43.22523880004883,
          -43.401519775390625,
          -44.61940383911133,
          -46.93675231933594,
          -50.51350402832031,
          -53.60138702392578,
          -57.26603317260742,
          -59.35944366455078,
          -56.69890594482422,
          -50.68689727783203,
          -44.79172134399414,
          -40.21416473388672,
          -36.86020278930664,
          -35.30838394165039,
          -35.583003997802734,
          -36.54853057861328,
          -38.08210372924805,
          -40.377105712890625,
          -43.275665283203125,
          -45.41357421875,
          -47.55478286743164,
          -49.08434295654297,
          -48.28134536743164,
          -44.729366302490234,
          -40.07032012939453,
          -35.760948181152344,
          -32.23598098754883,
          -29.44139289855957,
          -27.21592140197754,
          -26.025907516479492,
          -25.802085876464844,
          -26.35456085205078,
          -27.50753402709961,
          -28.9677791595459,
          -30.6178035736084,
          -32.06433868408203,
          -32.94845199584961,
          -33.337730407714844,
          -33.79035186767578,
          -34.0230712890625,
          -33.631980895996094,
          -32.27598190307617,
          -29.971477508544922,
          -27.111928939819336,
          -24.149580001831055,
          -21.360700607299805,
          -18.843671798706055,
          -16.598995208740234,
          -14.589943885803223,
          -12.77216911315918,
          -11.104988098144531,
          -9.554473876953125,
          -8.093433380126953,
          -6.700403690338135,
          -5.358489036560059,
          -4.054299354553223,
          -3.336737871170044,
          -2.777047872543335,
          -1.5177998542785645,
          -0.2688356339931488,
          0.26897454261779785,
          0.9769091010093689,
          2.22636079788208,
          3.48681640625,
          4.766475677490234,
          6.075029373168945,
          7.424338340759277,
          8.829238891601562,
          10.308497428894043,
          11.88589859008789,
          13.591333389282227,
          15.461433410644531,
          17.53848648071289,
          19.8645076751709,
          22.463565826416016,
          25.300704956054688,
          28.210800170898438,
          30.839872360229492,
          32.73741912841797,
          33.66033172607422,
          33.76934051513672,
          33.45288848876953,
          33.060794830322266,
          32.811405181884766,
          32.81901550292969,
          33.13973617553711,
          33.8060302734375,
          34.86028289794922,
          36.397037506103516,
          38.60003662109375,
          41.75669860839844,
          46.231231689453125,
          52.218936920166016,
          58.05876159667969,
          58.4567756652832,
          53.936527252197266,
          49.313751220703125
         ]
        }
       ],
       "layout": {
        "template": {
         "data": {
          "bar": [
           {
            "error_x": {
             "color": "#2a3f5f"
            },
            "error_y": {
             "color": "#2a3f5f"
            },
            "marker": {
             "line": {
              "color": "#E5ECF6",
              "width": 0.5
             }
            },
            "type": "bar"
           }
          ],
          "barpolar": [
           {
            "marker": {
             "line": {
              "color": "#E5ECF6",
              "width": 0.5
             }
            },
            "type": "barpolar"
           }
          ],
          "carpet": [
           {
            "aaxis": {
             "endlinecolor": "#2a3f5f",
             "gridcolor": "white",
             "linecolor": "white",
             "minorgridcolor": "white",
             "startlinecolor": "#2a3f5f"
            },
            "baxis": {
             "endlinecolor": "#2a3f5f",
             "gridcolor": "white",
             "linecolor": "white",
             "minorgridcolor": "white",
             "startlinecolor": "#2a3f5f"
            },
            "type": "carpet"
           }
          ],
          "choropleth": [
           {
            "colorbar": {
             "outlinewidth": 0,
             "ticks": ""
            },
            "type": "choropleth"
           }
          ],
          "contour": [
           {
            "colorbar": {
             "outlinewidth": 0,
             "ticks": ""
            },
            "colorscale": [
             [
              0,
              "#0d0887"
             ],
             [
              0.1111111111111111,
              "#46039f"
             ],
             [
              0.2222222222222222,
              "#7201a8"
             ],
             [
              0.3333333333333333,
              "#9c179e"
             ],
             [
              0.4444444444444444,
              "#bd3786"
             ],
             [
              0.5555555555555556,
              "#d8576b"
             ],
             [
              0.6666666666666666,
              "#ed7953"
             ],
             [
              0.7777777777777778,
              "#fb9f3a"
             ],
             [
              0.8888888888888888,
              "#fdca26"
             ],
             [
              1,
              "#f0f921"
             ]
            ],
            "type": "contour"
           }
          ],
          "contourcarpet": [
           {
            "colorbar": {
             "outlinewidth": 0,
             "ticks": ""
            },
            "type": "contourcarpet"
           }
          ],
          "heatmap": [
           {
            "colorbar": {
             "outlinewidth": 0,
             "ticks": ""
            },
            "colorscale": [
             [
              0,
              "#0d0887"
             ],
             [
              0.1111111111111111,
              "#46039f"
             ],
             [
              0.2222222222222222,
              "#7201a8"
             ],
             [
              0.3333333333333333,
              "#9c179e"
             ],
             [
              0.4444444444444444,
              "#bd3786"
             ],
             [
              0.5555555555555556,
              "#d8576b"
             ],
             [
              0.6666666666666666,
              "#ed7953"
             ],
             [
              0.7777777777777778,
              "#fb9f3a"
             ],
             [
              0.8888888888888888,
              "#fdca26"
             ],
             [
              1,
              "#f0f921"
             ]
            ],
            "type": "heatmap"
           }
          ],
          "heatmapgl": [
           {
            "colorbar": {
             "outlinewidth": 0,
             "ticks": ""
            },
            "colorscale": [
             [
              0,
              "#0d0887"
             ],
             [
              0.1111111111111111,
              "#46039f"
             ],
             [
              0.2222222222222222,
              "#7201a8"
             ],
             [
              0.3333333333333333,
              "#9c179e"
             ],
             [
              0.4444444444444444,
              "#bd3786"
             ],
             [
              0.5555555555555556,
              "#d8576b"
             ],
             [
              0.6666666666666666,
              "#ed7953"
             ],
             [
              0.7777777777777778,
              "#fb9f3a"
             ],
             [
              0.8888888888888888,
              "#fdca26"
             ],
             [
              1,
              "#f0f921"
             ]
            ],
            "type": "heatmapgl"
           }
          ],
          "histogram": [
           {
            "marker": {
             "colorbar": {
              "outlinewidth": 0,
              "ticks": ""
             }
            },
            "type": "histogram"
           }
          ],
          "histogram2d": [
           {
            "colorbar": {
             "outlinewidth": 0,
             "ticks": ""
            },
            "colorscale": [
             [
              0,
              "#0d0887"
             ],
             [
              0.1111111111111111,
              "#46039f"
             ],
             [
              0.2222222222222222,
              "#7201a8"
             ],
             [
              0.3333333333333333,
              "#9c179e"
             ],
             [
              0.4444444444444444,
              "#bd3786"
             ],
             [
              0.5555555555555556,
              "#d8576b"
             ],
             [
              0.6666666666666666,
              "#ed7953"
             ],
             [
              0.7777777777777778,
              "#fb9f3a"
             ],
             [
              0.8888888888888888,
              "#fdca26"
             ],
             [
              1,
              "#f0f921"
             ]
            ],
            "type": "histogram2d"
           }
          ],
          "histogram2dcontour": [
           {
            "colorbar": {
             "outlinewidth": 0,
             "ticks": ""
            },
            "colorscale": [
             [
              0,
              "#0d0887"
             ],
             [
              0.1111111111111111,
              "#46039f"
             ],
             [
              0.2222222222222222,
              "#7201a8"
             ],
             [
              0.3333333333333333,
              "#9c179e"
             ],
             [
              0.4444444444444444,
              "#bd3786"
             ],
             [
              0.5555555555555556,
              "#d8576b"
             ],
             [
              0.6666666666666666,
              "#ed7953"
             ],
             [
              0.7777777777777778,
              "#fb9f3a"
             ],
             [
              0.8888888888888888,
              "#fdca26"
             ],
             [
              1,
              "#f0f921"
             ]
            ],
            "type": "histogram2dcontour"
           }
          ],
          "mesh3d": [
           {
            "colorbar": {
             "outlinewidth": 0,
             "ticks": ""
            },
            "type": "mesh3d"
           }
          ],
          "parcoords": [
           {
            "line": {
             "colorbar": {
              "outlinewidth": 0,
              "ticks": ""
             }
            },
            "type": "parcoords"
           }
          ],
          "pie": [
           {
            "automargin": true,
            "type": "pie"
           }
          ],
          "scatter": [
           {
            "marker": {
             "colorbar": {
              "outlinewidth": 0,
              "ticks": ""
             }
            },
            "type": "scatter"
           }
          ],
          "scatter3d": [
           {
            "line": {
             "colorbar": {
              "outlinewidth": 0,
              "ticks": ""
             }
            },
            "marker": {
             "colorbar": {
              "outlinewidth": 0,
              "ticks": ""
             }
            },
            "type": "scatter3d"
           }
          ],
          "scattercarpet": [
           {
            "marker": {
             "colorbar": {
              "outlinewidth": 0,
              "ticks": ""
             }
            },
            "type": "scattercarpet"
           }
          ],
          "scattergeo": [
           {
            "marker": {
             "colorbar": {
              "outlinewidth": 0,
              "ticks": ""
             }
            },
            "type": "scattergeo"
           }
          ],
          "scattergl": [
           {
            "marker": {
             "colorbar": {
              "outlinewidth": 0,
              "ticks": ""
             }
            },
            "type": "scattergl"
           }
          ],
          "scattermapbox": [
           {
            "marker": {
             "colorbar": {
              "outlinewidth": 0,
              "ticks": ""
             }
            },
            "type": "scattermapbox"
           }
          ],
          "scatterpolar": [
           {
            "marker": {
             "colorbar": {
              "outlinewidth": 0,
              "ticks": ""
             }
            },
            "type": "scatterpolar"
           }
          ],
          "scatterpolargl": [
           {
            "marker": {
             "colorbar": {
              "outlinewidth": 0,
              "ticks": ""
             }
            },
            "type": "scatterpolargl"
           }
          ],
          "scatterternary": [
           {
            "marker": {
             "colorbar": {
              "outlinewidth": 0,
              "ticks": ""
             }
            },
            "type": "scatterternary"
           }
          ],
          "surface": [
           {
            "colorbar": {
             "outlinewidth": 0,
             "ticks": ""
            },
            "colorscale": [
             [
              0,
              "#0d0887"
             ],
             [
              0.1111111111111111,
              "#46039f"
             ],
             [
              0.2222222222222222,
              "#7201a8"
             ],
             [
              0.3333333333333333,
              "#9c179e"
             ],
             [
              0.4444444444444444,
              "#bd3786"
             ],
             [
              0.5555555555555556,
              "#d8576b"
             ],
             [
              0.6666666666666666,
              "#ed7953"
             ],
             [
              0.7777777777777778,
              "#fb9f3a"
             ],
             [
              0.8888888888888888,
              "#fdca26"
             ],
             [
              1,
              "#f0f921"
             ]
            ],
            "type": "surface"
           }
          ],
          "table": [
           {
            "cells": {
             "fill": {
              "color": "#EBF0F8"
             },
             "line": {
              "color": "white"
             }
            },
            "header": {
             "fill": {
              "color": "#C8D4E3"
             },
             "line": {
              "color": "white"
             }
            },
            "type": "table"
           }
          ]
         },
         "layout": {
          "annotationdefaults": {
           "arrowcolor": "#2a3f5f",
           "arrowhead": 0,
           "arrowwidth": 1
          },
          "coloraxis": {
           "colorbar": {
            "outlinewidth": 0,
            "ticks": ""
           }
          },
          "colorscale": {
           "diverging": [
            [
             0,
             "#8e0152"
            ],
            [
             0.1,
             "#c51b7d"
            ],
            [
             0.2,
             "#de77ae"
            ],
            [
             0.3,
             "#f1b6da"
            ],
            [
             0.4,
             "#fde0ef"
            ],
            [
             0.5,
             "#f7f7f7"
            ],
            [
             0.6,
             "#e6f5d0"
            ],
            [
             0.7,
             "#b8e186"
            ],
            [
             0.8,
             "#7fbc41"
            ],
            [
             0.9,
             "#4d9221"
            ],
            [
             1,
             "#276419"
            ]
           ],
           "sequential": [
            [
             0,
             "#0d0887"
            ],
            [
             0.1111111111111111,
             "#46039f"
            ],
            [
             0.2222222222222222,
             "#7201a8"
            ],
            [
             0.3333333333333333,
             "#9c179e"
            ],
            [
             0.4444444444444444,
             "#bd3786"
            ],
            [
             0.5555555555555556,
             "#d8576b"
            ],
            [
             0.6666666666666666,
             "#ed7953"
            ],
            [
             0.7777777777777778,
             "#fb9f3a"
            ],
            [
             0.8888888888888888,
             "#fdca26"
            ],
            [
             1,
             "#f0f921"
            ]
           ],
           "sequentialminus": [
            [
             0,
             "#0d0887"
            ],
            [
             0.1111111111111111,
             "#46039f"
            ],
            [
             0.2222222222222222,
             "#7201a8"
            ],
            [
             0.3333333333333333,
             "#9c179e"
            ],
            [
             0.4444444444444444,
             "#bd3786"
            ],
            [
             0.5555555555555556,
             "#d8576b"
            ],
            [
             0.6666666666666666,
             "#ed7953"
            ],
            [
             0.7777777777777778,
             "#fb9f3a"
            ],
            [
             0.8888888888888888,
             "#fdca26"
            ],
            [
             1,
             "#f0f921"
            ]
           ]
          },
          "colorway": [
           "#636efa",
           "#EF553B",
           "#00cc96",
           "#ab63fa",
           "#FFA15A",
           "#19d3f3",
           "#FF6692",
           "#B6E880",
           "#FF97FF",
           "#FECB52"
          ],
          "font": {
           "color": "#2a3f5f"
          },
          "geo": {
           "bgcolor": "white",
           "lakecolor": "white",
           "landcolor": "#E5ECF6",
           "showlakes": true,
           "showland": true,
           "subunitcolor": "white"
          },
          "hoverlabel": {
           "align": "left"
          },
          "hovermode": "closest",
          "mapbox": {
           "style": "light"
          },
          "paper_bgcolor": "white",
          "plot_bgcolor": "#E5ECF6",
          "polar": {
           "angularaxis": {
            "gridcolor": "white",
            "linecolor": "white",
            "ticks": ""
           },
           "bgcolor": "#E5ECF6",
           "radialaxis": {
            "gridcolor": "white",
            "linecolor": "white",
            "ticks": ""
           }
          },
          "scene": {
           "xaxis": {
            "backgroundcolor": "#E5ECF6",
            "gridcolor": "white",
            "gridwidth": 2,
            "linecolor": "white",
            "showbackground": true,
            "ticks": "",
            "zerolinecolor": "white"
           },
           "yaxis": {
            "backgroundcolor": "#E5ECF6",
            "gridcolor": "white",
            "gridwidth": 2,
            "linecolor": "white",
            "showbackground": true,
            "ticks": "",
            "zerolinecolor": "white"
           },
           "zaxis": {
            "backgroundcolor": "#E5ECF6",
            "gridcolor": "white",
            "gridwidth": 2,
            "linecolor": "white",
            "showbackground": true,
            "ticks": "",
            "zerolinecolor": "white"
           }
          },
          "shapedefaults": {
           "line": {
            "color": "#2a3f5f"
           }
          },
          "ternary": {
           "aaxis": {
            "gridcolor": "white",
            "linecolor": "white",
            "ticks": ""
           },
           "baxis": {
            "gridcolor": "white",
            "linecolor": "white",
            "ticks": ""
           },
           "bgcolor": "#E5ECF6",
           "caxis": {
            "gridcolor": "white",
            "linecolor": "white",
            "ticks": ""
           }
          },
          "title": {
           "x": 0.05
          },
          "xaxis": {
           "automargin": true,
           "gridcolor": "white",
           "linecolor": "white",
           "ticks": "",
           "title": {
            "standoff": 15
           },
           "zerolinecolor": "white",
           "zerolinewidth": 2
          },
          "yaxis": {
           "automargin": true,
           "gridcolor": "white",
           "linecolor": "white",
           "ticks": "",
           "title": {
            "standoff": 15
           },
           "zerolinecolor": "white",
           "zerolinewidth": 2
          }
         }
        }
       }
      },
      "text/html": [
       "<div>\n",
       "        \n",
       "        \n",
       "            <div id=\"ed80ea58-feb4-4e24-902c-fd62589b53f5\" class=\"plotly-graph-div\" style=\"height:525px; width:100%;\"></div>\n",
       "            <script type=\"text/javascript\">\n",
       "                require([\"plotly\"], function(Plotly) {\n",
       "                    window.PLOTLYENV=window.PLOTLYENV || {};\n",
       "                    \n",
       "                if (document.getElementById(\"ed80ea58-feb4-4e24-902c-fd62589b53f5\")) {\n",
       "                    Plotly.newPlot(\n",
       "                        'ed80ea58-feb4-4e24-902c-fd62589b53f5',\n",
       "                        [{\"type\": \"scatter\", \"x\": [0.0, 2.113296250172425e-05, 0.00023246258206199855, 0.0023457587230950594, 0.009999999776482582, 0.019999999552965164, 0.029999999329447746, 0.03999999910593033, 0.05000000074505806, 0.05999999865889549, 0.07000000029802322, 0.07999999821186066, 0.09000000357627869, 0.09387221187353134, 0.10000000149011612, 0.10999999940395355, 0.11999999731779099, 0.12999999523162842, 0.14000000059604645, 0.15000000596046448, 0.1599999964237213, 0.17000000178813934, 0.18000000715255737, 0.1899999976158142, 0.20000000298023224, 0.20999999344348907, 0.2199999988079071, 0.23000000417232513, 0.23999999463558197, 0.25, 0.25999999046325684, 0.27000001072883606, 0.2800000011920929, 0.28999999165534973, 0.30000001192092896, 0.3100000023841858, 0.3199999928474426, 0.33000001311302185, 0.3400000035762787, 0.3499999940395355, 0.36000001430511475, 0.3700000047683716, 0.3799999952316284, 0.38999998569488525, 0.4000000059604645, 0.4099999964237213, 0.41999998688697815, 0.4300000071525574, 0.4399999976158142, 0.44999998807907104, 0.46000000834465027, 0.4699999988079071, 0.47999998927116394, 0.49000000953674316, 0.5, 0.5099999904632568, 0.5199999809265137, 0.5299999713897705, 0.5400000214576721, 0.550000011920929, 0.5600000023841858, 0.5699999928474426, 0.5799999833106995, 0.5899999737739563, 0.6000000238418579, 0.6100000143051147, 0.6200000047683716, 0.6299999952316284, 0.6399999856948853, 0.6499999761581421, 0.6600000262260437, 0.6700000166893005, 0.6800000071525574, 0.6899999976158142, 0.699999988079071, 0.7099999785423279, 0.7200000286102295, 0.7300000190734863, 0.7400000095367432, 0.75, 0.7599999904632568, 0.7699999809265137, 0.7799999713897705, 0.7818089127540588, 0.7900000214576721, 0.7915065884590149, 0.800000011920929, 0.8100000023841858, 0.8199999928474426, 0.8299999833106995, 0.8399999737739563, 0.8500000238418579, 0.8600000143051147, 0.8700000047683716, 0.8799999952316284, 0.8899999856948853, 0.8999999761581421, 0.9100000262260437, 0.9200000166893005, 0.9300000071525574, 0.9399999976158142, 0.949999988079071, 0.9599999785423279, 0.9700000286102295, 0.9800000190734863, 0.9900000095367432, 1.0, 1.0099999904632568, 1.0199999809265137, 1.0299999713897705, 1.0399999618530273, 1.0499999523162842, 1.059999942779541, 1.0670415163040161, 1.0700000524520874, 1.0800000429153442, 1.090000033378601, 1.100000023841858, 1.1100000143051147, 1.1200000047683716, 1.1299999952316284, 1.1399999856948853, 1.149999976158142, 1.159999966621399, 1.1699999570846558, 1.1799999475479126, 1.190000057220459, 1.2000000476837158, 1.2100000381469727, 1.2200000286102295, 1.2300000190734863, 1.2400000095367432, 1.25, 1.2599999904632568, 1.2699999809265137, 1.2799999713897705, 1.2899999618530273, 1.2999999523162842, 1.309999942779541, 1.3200000524520874, 1.3300000429153442, 1.340000033378601, 1.350000023841858, 1.3600000143051147, 1.3700000047683716, 1.3799999952316284, 1.3899999856948853, 1.399999976158142, 1.409999966621399, 1.4199999570846558, 1.4299999475479126, 1.440000057220459, 1.4500000476837158, 1.4600000381469727, 1.4700000286102295, 1.4800000190734863, 1.4900000095367432, 1.5, 1.5099999904632568, 1.5199999809265137, 1.5299999713897705, 1.5399999618530273, 1.5499999523162842, 1.559999942779541, 1.5700000524520874, 1.5800000429153442, 1.590000033378601, 1.600000023841858, 1.6100000143051147, 1.6200000047683716, 1.6299999952316284, 1.6399999856948853, 1.649999976158142, 1.659999966621399, 1.6699999570846558, 1.6799999475479126, 1.690000057220459, 1.7000000476837158, 1.7100000381469727, 1.7200000286102295, 1.7300000190734863, 1.7400000095367432, 1.75, 1.7599999904632568, 1.7699999809265137, 1.7799999713897705, 1.7899999618530273, 1.7999999523162842, 1.809999942779541, 1.8200000524520874, 1.8300000429153442, 1.840000033378601, 1.850000023841858, 1.8600000143051147, 1.8700000047683716, 1.8799999952316284, 1.8899999856948853, 1.899999976158142, 1.909999966621399, 1.9199999570846558, 1.9299999475479126, 1.940000057220459, 1.9500000476837158, 1.9600000381469727, 1.9700000286102295, 1.9800000190734863, 1.9900000095367432, 2.0, 2.009999990463257, 2.0199999809265137, 2.0299999713897705, 2.0399999618530273, 2.049999952316284, 2.059999942779541, 2.069999933242798, 2.0799999237060547, 2.0899999141693115, 2.0999999046325684, 2.109999895095825, 2.119999885559082, 2.130000114440918, 2.140000104904175, 2.1500000953674316, 2.1600000858306885, 2.1700000762939453, 2.180000066757202, 2.190000057220459, 2.200000047683716, 2.2100000381469727, 2.2200000286102295, 2.2300000190734863, 2.240000009536743, 2.25, 2.259999990463257, 2.2699999809265137, 2.2799999713897705, 2.2899999618530273, 2.299999952316284, 2.309999942779541, 2.319999933242798, 2.3299999237060547, 2.3399999141693115, 2.3499999046325684, 2.359999895095825, 2.369999885559082, 2.380000114440918, 2.390000104904175, 2.4000000953674316, 2.4100000858306885, 2.4200000762939453, 2.430000066757202, 2.440000057220459, 2.450000047683716, 2.4600000381469727, 2.4700000286102295, 2.4800000190734863, 2.490000009536743, 2.5, 2.509999990463257, 2.5199999809265137, 2.5299999713897705, 2.5399999618530273, 2.549999952316284, 2.559999942779541, 2.569999933242798, 2.5799999237060547, 2.5899999141693115, 2.5999999046325684, 2.6055967807769775, 2.609999895095825, 2.619999885559082, 2.630000114440918, 2.63431715965271, 2.640000104904175, 2.6500000953674316, 2.6600000858306885, 2.6700000762939453, 2.680000066757202, 2.690000057220459, 2.700000047683716, 2.7100000381469727, 2.7200000286102295, 2.7300000190734863, 2.740000009536743, 2.75, 2.759999990463257, 2.7699999809265137, 2.7799999713897705, 2.7899999618530273, 2.799999952316284, 2.809999942779541, 2.819999933242798, 2.8299999237060547, 2.8399999141693115, 2.8499999046325684, 2.859999895095825, 2.869999885559082, 2.880000114440918, 2.890000104904175, 2.9000000953674316, 2.9100000858306885, 2.9200000762939453, 2.930000066757202, 2.940000057220459, 2.950000047683716, 2.9600000381469727, 2.9700000286102295, 2.9800000190734863, 2.990000009536743], \"y\": [3.34159255027771, 3.34159255027771, 3.3415918350219727, 3.3415298461914062, 3.340454578399658, 3.337134599685669, 3.331813335418701, 3.3246612548828125, 3.315840005874634, 3.30550479888916, 3.293804168701172, 3.2808821201324463, 3.2668769359588623, 3.261190891265869, 3.2519218921661377, 3.2361440658569336, 3.219663143157959, 3.202591896057129, 3.1850337982177734, 3.167084217071533, 3.14882755279541, 3.1303396224975586, 3.1116857528686523, 3.0929219722747803, 3.0740950107574463, 3.0552432537078857, 3.0363967418670654, 3.0175790786743164, 2.9988067150115967, 2.980091094970703, 2.9614381790161133, 2.94284987449646, 2.9243242740631104, 2.905855894088745, 2.887436866760254, 2.869056463241577, 2.8507018089294434, 2.8323581218719482, 2.8140087127685547, 2.7956349849700928, 2.777216672897339, 2.7587320804595947, 2.7401576042175293, 2.721467971801758, 2.7026355266571045, 2.683631420135498, 2.6644229888916016, 2.6449763774871826, 2.625253677368164, 2.6052136421203613, 2.584810733795166, 2.5639941692352295, 2.5427067279815674, 2.5208840370178223, 2.4984514713287354, 2.4753220081329346, 2.4513933658599854, 2.426542282104492, 2.4006195068359375, 2.3734424114227295, 2.34478759765625, 2.3143835067749023, 2.2819066047668457, 2.246986150741577, 2.2092227935791016, 2.1682233810424805, 2.123660087585449, 2.0753421783447266, 2.023292303085327, 1.9678138494491577, 1.909533977508545, 1.8494170904159546, 1.788743019104004, 1.72904634475708, 1.671799659729004, 1.6180896759033203, 1.5687625408172607, 1.5245909690856934, 1.4862360954284668, 1.4542242288589478, 1.4289404153823853, 1.410636067390442, 1.3994407653808594, 1.3981781005859375, 1.3953732252120972, 1.395374059677124, 1.3983421325683594, 1.4081376791000366, 1.4244167804718018, 1.4466862678527832, 1.4742947816848755, 1.5064399242401123, 1.5421940088272095, 1.5805437564849854, 1.6204379796981812, 1.6608330011367798, 1.7007368803024292, 1.7392553091049194, 1.7756567001342773, 1.8094727993011475, 1.8406494855880737, 1.8697402477264404, 1.8980927467346191, 1.9279265403747559, 1.9622033834457397, 2.0042879581451416, 2.057555675506592, 2.12516713142395, 2.2101054191589355, 2.315326690673828, 2.443476915359497, 2.5944206714630127, 2.75842547416687, 2.8723249435424805, 2.918304920196533, 3.0631258487701416, 3.190547227859497, 3.3001370429992676, 3.3918724060058594, 3.4684858322143555, 3.537189483642578, 3.6100080013275146, 3.7005062103271484, 3.8198142051696777, 3.9761393070220947, 4.175274848937988, 4.406272888183594, 4.631034851074219, 4.822307586669922, 4.979918479919434, 5.109556198120117, 5.216751575469971, 5.31321907043457, 5.418130397796631, 5.551051139831543, 5.726271629333496, 5.952611923217773, 6.2168192863464355, 6.470997333526611, 6.680935859680176, 6.84727144241333, 6.980179786682129, 7.090580940246582, 7.197354316711426, 7.324716567993164, 7.492067337036133, 7.7123823165893555, 7.979687213897705, 8.248719215393066, 8.474117279052734, 8.649579048156738, 8.785787582397461, 8.895649909973145, 9.000431060791016, 9.127941131591797, 9.299922943115234, 9.52921199798584, 9.806455612182617, 10.079452514648438, 10.303505897521973, 10.476292610168457, 10.610505104064941, 10.722811698913574, 10.839386940002441, 10.989168167114258, 11.192361831665039, 11.453119277954102, 11.742829322814941, 12.003681182861328, 12.209359169006348, 12.367472648620605, 12.493317604064941, 12.607912063598633, 12.7392578125, 12.911818504333496, 13.138052940368652, 13.411978721618652, 13.691020011901855, 13.925312995910645, 14.105546951293945, 14.24313735961914, 14.353999137878418, 14.46031665802002, 14.589066505432129, 14.761287689208984, 14.984684944152832, 15.248041152954102, 15.509716033935547, 15.727766990661621, 15.895895957946777, 16.024282455444336, 16.127262115478516, 16.224477767944336, 16.340621948242188, 16.496278762817383, 16.70026206970215, 16.946996688842773, 17.206195831298828, 17.433761596679688, 17.614849090576172, 17.754722595214844, 17.86516761779785, 17.96164321899414, 18.063262939453125, 18.189899444580078, 18.354415893554688, 18.559368133544922, 18.79631996154785, 19.036304473876953, 19.24483299255371, 19.412139892578125, 19.542783737182617, 19.644914627075195, 19.730222702026367, 19.81276512145996, 19.90751838684082, 20.027450561523438, 20.17751693725586, 20.35596466064453, 20.556310653686523, 20.758989334106445, 20.939943313598633, 21.088951110839844, 21.207134246826172, 21.298643112182617, 21.36943817138672, 21.427471160888672, 21.481178283691406, 21.539840698242188, 21.613252639770508, 21.7089900970459, 21.828773498535156, 21.969728469848633, 22.127357482910156, 22.291698455810547, 22.447750091552734, 22.584253311157227, 22.698028564453125, 22.790489196777344, 22.86425018310547, 22.922014236450195, 22.96733856201172, 23.00454330444336, 23.037931442260742, 23.072017669677734, 23.111520767211914, 23.160980224609375, 23.223621368408203, 23.30000114440918, 23.388307571411133, 23.486427307128906, 23.592309951782227, 23.702550888061523, 23.812280654907227, 23.916133880615234, 24.009977340698242, 24.091890335083008, 24.161773681640625, 24.220489501953125, 24.26922035217285, 24.309146881103516, 24.341341018676758, 24.366727828979492, 24.386096954345703, 24.400108337402344, 24.409313201904297, 24.414165496826172, 24.415027618408203, 24.413877487182617, 24.412187576293945, 24.405864715576172, 24.396217346191406, 24.391050338745117, 24.38334083557129, 24.367279052734375, 24.348020553588867, 24.32549285888672, 24.299556732177734, 24.270004272460938, 24.236539840698242, 24.198772430419922, 24.156200408935547, 24.108186721801758, 24.05394744873047, 23.992528915405273, 23.922819137573242, 23.84359359741211, 23.753692626953125, 23.652454376220703, 23.54045867919922, 23.42024803161621, 23.296178817749023, 23.17301368713379, 23.054462432861328, 22.942779541015625, 22.83910369873047, 22.743738174438477, 22.655996322631836, 22.57363510131836, 22.49229621887207, 22.40576934814453, 22.307226181030273, 22.190425872802734, 22.04979705810547, 21.880075454711914, 21.679462432861328, 21.46177101135254, 21.254314422607422, 21.071474075317383]}, {\"type\": \"scatter\", \"x\": [0.0, 2.113296250172425e-05, 0.00023246258206199855, 0.0023457587230950594, 0.009999999776482582, 0.019999999552965164, 0.029999999329447746, 0.03999999910593033, 0.05000000074505806, 0.05999999865889549, 0.07000000029802322, 0.07999999821186066, 0.09000000357627869, 0.09387221187353134, 0.10000000149011612, 0.10999999940395355, 0.11999999731779099, 0.12999999523162842, 0.14000000059604645, 0.15000000596046448, 0.1599999964237213, 0.17000000178813934, 0.18000000715255737, 0.1899999976158142, 0.20000000298023224, 0.20999999344348907, 0.2199999988079071, 0.23000000417232513, 0.23999999463558197, 0.25, 0.25999999046325684, 0.27000001072883606, 0.2800000011920929, 0.28999999165534973, 0.30000001192092896, 0.3100000023841858, 0.3199999928474426, 0.33000001311302185, 0.3400000035762787, 0.3499999940395355, 0.36000001430511475, 0.3700000047683716, 0.3799999952316284, 0.38999998569488525, 0.4000000059604645, 0.4099999964237213, 0.41999998688697815, 0.4300000071525574, 0.4399999976158142, 0.44999998807907104, 0.46000000834465027, 0.4699999988079071, 0.47999998927116394, 0.49000000953674316, 0.5, 0.5099999904632568, 0.5199999809265137, 0.5299999713897705, 0.5400000214576721, 0.550000011920929, 0.5600000023841858, 0.5699999928474426, 0.5799999833106995, 0.5899999737739563, 0.6000000238418579, 0.6100000143051147, 0.6200000047683716, 0.6299999952316284, 0.6399999856948853, 0.6499999761581421, 0.6600000262260437, 0.6700000166893005, 0.6800000071525574, 0.6899999976158142, 0.699999988079071, 0.7099999785423279, 0.7200000286102295, 0.7300000190734863, 0.7400000095367432, 0.75, 0.7599999904632568, 0.7699999809265137, 0.7799999713897705, 0.7818089127540588, 0.7900000214576721, 0.7915065884590149, 0.800000011920929, 0.8100000023841858, 0.8199999928474426, 0.8299999833106995, 0.8399999737739563, 0.8500000238418579, 0.8600000143051147, 0.8700000047683716, 0.8799999952316284, 0.8899999856948853, 0.8999999761581421, 0.9100000262260437, 0.9200000166893005, 0.9300000071525574, 0.9399999976158142, 0.949999988079071, 0.9599999785423279, 0.9700000286102295, 0.9800000190734863, 0.9900000095367432, 1.0, 1.0099999904632568, 1.0199999809265137, 1.0299999713897705, 1.0399999618530273, 1.0499999523162842, 1.059999942779541, 1.0670415163040161, 1.0700000524520874, 1.0800000429153442, 1.090000033378601, 1.100000023841858, 1.1100000143051147, 1.1200000047683716, 1.1299999952316284, 1.1399999856948853, 1.149999976158142, 1.159999966621399, 1.1699999570846558, 1.1799999475479126, 1.190000057220459, 1.2000000476837158, 1.2100000381469727, 1.2200000286102295, 1.2300000190734863, 1.2400000095367432, 1.25, 1.2599999904632568, 1.2699999809265137, 1.2799999713897705, 1.2899999618530273, 1.2999999523162842, 1.309999942779541, 1.3200000524520874, 1.3300000429153442, 1.340000033378601, 1.350000023841858, 1.3600000143051147, 1.3700000047683716, 1.3799999952316284, 1.3899999856948853, 1.399999976158142, 1.409999966621399, 1.4199999570846558, 1.4299999475479126, 1.440000057220459, 1.4500000476837158, 1.4600000381469727, 1.4700000286102295, 1.4800000190734863, 1.4900000095367432, 1.5, 1.5099999904632568, 1.5199999809265137, 1.5299999713897705, 1.5399999618530273, 1.5499999523162842, 1.559999942779541, 1.5700000524520874, 1.5800000429153442, 1.590000033378601, 1.600000023841858, 1.6100000143051147, 1.6200000047683716, 1.6299999952316284, 1.6399999856948853, 1.649999976158142, 1.659999966621399, 1.6699999570846558, 1.6799999475479126, 1.690000057220459, 1.7000000476837158, 1.7100000381469727, 1.7200000286102295, 1.7300000190734863, 1.7400000095367432, 1.75, 1.7599999904632568, 1.7699999809265137, 1.7799999713897705, 1.7899999618530273, 1.7999999523162842, 1.809999942779541, 1.8200000524520874, 1.8300000429153442, 1.840000033378601, 1.850000023841858, 1.8600000143051147, 1.8700000047683716, 1.8799999952316284, 1.8899999856948853, 1.899999976158142, 1.909999966621399, 1.9199999570846558, 1.9299999475479126, 1.940000057220459, 1.9500000476837158, 1.9600000381469727, 1.9700000286102295, 1.9800000190734863, 1.9900000095367432, 2.0, 2.009999990463257, 2.0199999809265137, 2.0299999713897705, 2.0399999618530273, 2.049999952316284, 2.059999942779541, 2.069999933242798, 2.0799999237060547, 2.0899999141693115, 2.0999999046325684, 2.109999895095825, 2.119999885559082, 2.130000114440918, 2.140000104904175, 2.1500000953674316, 2.1600000858306885, 2.1700000762939453, 2.180000066757202, 2.190000057220459, 2.200000047683716, 2.2100000381469727, 2.2200000286102295, 2.2300000190734863, 2.240000009536743, 2.25, 2.259999990463257, 2.2699999809265137, 2.2799999713897705, 2.2899999618530273, 2.299999952316284, 2.309999942779541, 2.319999933242798, 2.3299999237060547, 2.3399999141693115, 2.3499999046325684, 2.359999895095825, 2.369999885559082, 2.380000114440918, 2.390000104904175, 2.4000000953674316, 2.4100000858306885, 2.4200000762939453, 2.430000066757202, 2.440000057220459, 2.450000047683716, 2.4600000381469727, 2.4700000286102295, 2.4800000190734863, 2.490000009536743, 2.5, 2.509999990463257, 2.5199999809265137, 2.5299999713897705, 2.5399999618530273, 2.549999952316284, 2.559999942779541, 2.569999933242798, 2.5799999237060547, 2.5899999141693115, 2.5999999046325684, 2.6055967807769775, 2.609999895095825, 2.619999885559082, 2.630000114440918, 2.63431715965271, 2.640000104904175, 2.6500000953674316, 2.6600000858306885, 2.6700000762939453, 2.680000066757202, 2.690000057220459, 2.700000047683716, 2.7100000381469727, 2.7200000286102295, 2.7300000190734863, 2.740000009536743, 2.75, 2.759999990463257, 2.7699999809265137, 2.7799999713897705, 2.7899999618530273, 2.799999952316284, 2.809999942779541, 2.819999933242798, 2.8299999237060547, 2.8399999141693115, 2.8499999046325684, 2.859999895095825, 2.869999885559082, 2.880000114440918, 2.890000104904175, 2.9000000953674316, 2.9100000858306885, 2.9200000762939453, 2.930000066757202, 2.940000057220459, 2.950000047683716, 2.9600000381469727, 2.9700000286102295, 2.9800000190734863, 2.990000009536743], \"y\": [-0.20000000298023224, -0.19999998807907104, -0.19999830424785614, -0.1998273730278015, -0.19686247408390045, -0.18770131468772888, -0.17300395667552948, -0.1532307267189026, -0.12881964445114136, -0.10019009560346603, -0.06774504482746124, -0.03187192976474762, 0.007057427894324064, 0.022877829149365425, 0.048687875270843506, 0.09268257766962051, 0.13872499763965607, 0.18652096390724182, 0.23580044507980347, 0.2863190770149231, 0.33785903453826904, 0.39022940397262573, 0.44326579570770264, 0.49682968854904175, 0.5508071184158325, 0.6051069498062134, 0.6596593260765076, 0.7144135236740112, 0.7693361043930054, 0.8244091868400574, 0.8796286582946777, 0.9350025057792664, 0.9905498027801514, 1.0462994575500488, 1.1022889614105225, 1.1585644483566284, 1.2151795625686646, 1.2721953392028809, 1.329680323600769, 1.387710452079773, 1.4463691711425781, 1.5057483911514282, 1.5659486055374146, 1.6270800828933716, 1.6892635822296143, 1.7526321411132812, 1.8173319101333618, 1.8835244178771973, 1.9513883590698242, 2.0211219787597656, 2.0929458141326904, 2.1671056747436523, 2.243875503540039, 2.3235607147216797, 2.406501531600952, 2.4930758476257324, 2.58370041847229, 2.6788315773010254, 2.778960943222046, 2.884608030319214, 2.996304750442505, 3.114570379257202, 3.239875078201294, 3.3725898265838623, 3.512925386428833, 3.660860538482666, 3.8160698413848877, 3.9778544902801514, 4.145083427429199, 4.316145420074463, 4.488913059234619, 4.660727024078369, 4.828414440155029, 4.98837423324585, 5.137357234954834, 5.273215293884277, 5.394358158111572, 5.499256134033203, 5.586546421051025, 5.655110836029053, 5.704107761383057, 5.732969760894775, 5.741381645202637, 5.74070930480957, 5.729262351989746, 5.725662708282471, 5.696756839752197, 5.644247531890869, 5.572373867034912, 5.482054710388184, 5.374481678009033, 5.251080513000488, 5.113427639007568, 4.963134765625, 4.801727771759033, 4.6305365562438965, 4.450621128082275, 4.262726306915283, 4.0672688484191895, 3.864339590072632, 3.6537163257598877, 3.4348721504211426, 3.206969738006592, 2.968825101852417, 2.7188148498535156, 2.454712152481079, 2.1734366416931152, 1.870723843574524, 1.5407462120056152, 1.1759058237075806, 0.7677357792854309, 0.31289902329444885, -0.17027871310710907, -0.5084447264671326, -0.6471893191337585, -1.0994595289230347, -1.529980182647705, -1.9458390474319458, -2.352752447128296, -2.7575390338897705, -3.167198657989502, -3.5891778469085693, -4.032652854919434, -4.510487079620361, -5.0409345626831055, -5.645078659057617, -6.308173656463623, -6.954128265380859, -7.533417701721191, -8.059929847717285, -8.55931282043457, -9.04789924621582, -9.538772583007812, -10.045080184936523, -10.583331108093262, -11.177448272705078, -11.855445861816406, -12.600890159606934, -13.320682525634766, -13.953723907470703, -14.517849922180176, -15.049717903137207, -15.572344779968262, -16.101747512817383, -16.655263900756836, -17.256826400756836, -17.939800262451172, -18.70477867126465, -19.467266082763672, -20.144062042236328, -20.739547729492188, -21.293813705444336, -21.836225509643555, -22.38472557067871, -22.95846176147461, -23.583951950073242, -24.295555114746094, -25.089513778686523, -25.868545532226562, -26.552902221679688, -27.156856536865234, -27.723337173461914, -28.2829532623291, -28.855289459228516, -29.46332550048828, -30.140499114990234, -30.90726089477539, -31.720333099365234, -32.47175979614258, -33.122230529785156, -33.70569610595703, -34.26339340209961, -34.8225212097168, -35.402984619140625, -36.03114318847656, -36.734676361083984, -37.516632080078125, -38.30242156982422, -38.99989700317383, -39.60613250732422, -40.16082000732422, -40.700157165527344, -41.24567413330078, -41.81630325317383, -42.438255310058594, -43.13197708129883, -43.88934326171875, -44.63724899291992, -45.29979705810547, -45.879066467285156, -46.4102897644043, -46.92700958251953, -47.449806213378906, -47.995052337646484, -48.585052490234375, -49.238643646240234, -49.95740509033203, -50.69217300415039, -51.36053466796875, -51.944026947021484, -52.465267181396484, -52.956031799316406, -53.44387435913086, -53.9449348449707, -54.47473907470703, -55.04922866821289, -55.678062438964844, -56.356224060058594, -57.033748626708984, -57.645870208740234, -58.182098388671875, -58.66106033325195, -59.10464096069336, -59.53704071044922, -59.97635269165039, -60.43306350708008, -60.9188346862793, -61.43824005126953, -61.992496490478516, -62.578548431396484, -63.163124084472656, -63.70113754272461, -64.17759704589844, -64.60149383544922, -64.98597717285156, -65.34626770019531, -65.70033264160156, -66.0605697631836, -66.43318939208984, -66.82473754882812, -67.24202728271484, -67.68477630615234, -68.14952850341797, -68.63394165039062, -69.12328338623047, -69.5901107788086, -70.01424407958984, -70.39280700683594, -70.73213195800781, -71.03997039794922, -71.3228530883789, -71.58880615234375, -71.84777069091797, -72.1083984375, -72.37752532958984, -72.65965270996094, -72.95724487304688, -73.27027130126953, -73.59501647949219, -73.92631530761719, -74.26199340820312, -74.60140228271484, -74.94037628173828, -75.27078247070312, -75.58268737792969, -75.86835479736328, -76.12460327148438, -76.3519515991211, -76.552734375, -76.729736328125, -76.885498046875, -77.02217102050781, -77.14144897460938, -77.24465942382812, -77.33283233642578, -77.40675354003906, -77.46701049804688, -77.51404571533203, -77.53472900390625, -77.54818725585938, -77.56964874267578, -77.57857513427734, -77.57857513427734, -77.57503509521484, -77.55902862548828, -77.53047180175781, -77.48922729492188, -77.43504333496094, -77.36759185791016, -77.286376953125, -77.19075775146484, -77.07987976074219, -76.9526138305664, -76.80750274658203, -76.64269256591797, -76.45590209960938, -76.24449157714844, -76.00582122802734, -75.73820495605469, -75.4425277709961, -75.12387084960938, -74.79108428955078, -74.45340728759766, -74.11710357666016, -73.78458404541016, -73.45539855957031, -73.12749481201172, -72.7979736328125, -72.46354675292969, -72.12056732177734, -71.7647476196289, -71.39041900634766, -70.98957824707031, -70.5508804321289, -70.05978393554688, -69.5074462890625, -68.92057037353516, -68.3563461303711, -67.84034729003906]}, {\"type\": \"scatter\", \"x\": [0.0, 2.113296250172425e-05, 0.00023246258206199855, 0.0023457587230950594, 0.009999999776482582, 0.019999999552965164, 0.029999999329447746, 0.03999999910593033, 0.05000000074505806, 0.05999999865889549, 0.07000000029802322, 0.07999999821186066, 0.09000000357627869, 0.09387221187353134, 0.10000000149011612, 0.10999999940395355, 0.11999999731779099, 0.12999999523162842, 0.14000000059604645, 0.15000000596046448, 0.1599999964237213, 0.17000000178813934, 0.18000000715255737, 0.1899999976158142, 0.20000000298023224, 0.20999999344348907, 0.2199999988079071, 0.23000000417232513, 0.23999999463558197, 0.25, 0.25999999046325684, 0.27000001072883606, 0.2800000011920929, 0.28999999165534973, 0.30000001192092896, 0.3100000023841858, 0.3199999928474426, 0.33000001311302185, 0.3400000035762787, 0.3499999940395355, 0.36000001430511475, 0.3700000047683716, 0.3799999952316284, 0.38999998569488525, 0.4000000059604645, 0.4099999964237213, 0.41999998688697815, 0.4300000071525574, 0.4399999976158142, 0.44999998807907104, 0.46000000834465027, 0.4699999988079071, 0.47999998927116394, 0.49000000953674316, 0.5, 0.5099999904632568, 0.5199999809265137, 0.5299999713897705, 0.5400000214576721, 0.550000011920929, 0.5600000023841858, 0.5699999928474426, 0.5799999833106995, 0.5899999737739563, 0.6000000238418579, 0.6100000143051147, 0.6200000047683716, 0.6299999952316284, 0.6399999856948853, 0.6499999761581421, 0.6600000262260437, 0.6700000166893005, 0.6800000071525574, 0.6899999976158142, 0.699999988079071, 0.7099999785423279, 0.7200000286102295, 0.7300000190734863, 0.7400000095367432, 0.75, 0.7599999904632568, 0.7699999809265137, 0.7799999713897705, 0.7818089127540588, 0.7900000214576721, 0.7915065884590149, 0.800000011920929, 0.8100000023841858, 0.8199999928474426, 0.8299999833106995, 0.8399999737739563, 0.8500000238418579, 0.8600000143051147, 0.8700000047683716, 0.8799999952316284, 0.8899999856948853, 0.8999999761581421, 0.9100000262260437, 0.9200000166893005, 0.9300000071525574, 0.9399999976158142, 0.949999988079071, 0.9599999785423279, 0.9700000286102295, 0.9800000190734863, 0.9900000095367432, 1.0, 1.0099999904632568, 1.0199999809265137, 1.0299999713897705, 1.0399999618530273, 1.0499999523162842, 1.059999942779541, 1.0670415163040161, 1.0700000524520874, 1.0800000429153442, 1.090000033378601, 1.100000023841858, 1.1100000143051147, 1.1200000047683716, 1.1299999952316284, 1.1399999856948853, 1.149999976158142, 1.159999966621399, 1.1699999570846558, 1.1799999475479126, 1.190000057220459, 1.2000000476837158, 1.2100000381469727, 1.2200000286102295, 1.2300000190734863, 1.2400000095367432, 1.25, 1.2599999904632568, 1.2699999809265137, 1.2799999713897705, 1.2899999618530273, 1.2999999523162842, 1.309999942779541, 1.3200000524520874, 1.3300000429153442, 1.340000033378601, 1.350000023841858, 1.3600000143051147, 1.3700000047683716, 1.3799999952316284, 1.3899999856948853, 1.399999976158142, 1.409999966621399, 1.4199999570846558, 1.4299999475479126, 1.440000057220459, 1.4500000476837158, 1.4600000381469727, 1.4700000286102295, 1.4800000190734863, 1.4900000095367432, 1.5, 1.5099999904632568, 1.5199999809265137, 1.5299999713897705, 1.5399999618530273, 1.5499999523162842, 1.559999942779541, 1.5700000524520874, 1.5800000429153442, 1.590000033378601, 1.600000023841858, 1.6100000143051147, 1.6200000047683716, 1.6299999952316284, 1.6399999856948853, 1.649999976158142, 1.659999966621399, 1.6699999570846558, 1.6799999475479126, 1.690000057220459, 1.7000000476837158, 1.7100000381469727, 1.7200000286102295, 1.7300000190734863, 1.7400000095367432, 1.75, 1.7599999904632568, 1.7699999809265137, 1.7799999713897705, 1.7899999618530273, 1.7999999523162842, 1.809999942779541, 1.8200000524520874, 1.8300000429153442, 1.840000033378601, 1.850000023841858, 1.8600000143051147, 1.8700000047683716, 1.8799999952316284, 1.8899999856948853, 1.899999976158142, 1.909999966621399, 1.9199999570846558, 1.9299999475479126, 1.940000057220459, 1.9500000476837158, 1.9600000381469727, 1.9700000286102295, 1.9800000190734863, 1.9900000095367432, 2.0, 2.009999990463257, 2.0199999809265137, 2.0299999713897705, 2.0399999618530273, 2.049999952316284, 2.059999942779541, 2.069999933242798, 2.0799999237060547, 2.0899999141693115, 2.0999999046325684, 2.109999895095825, 2.119999885559082, 2.130000114440918, 2.140000104904175, 2.1500000953674316, 2.1600000858306885, 2.1700000762939453, 2.180000066757202, 2.190000057220459, 2.200000047683716, 2.2100000381469727, 2.2200000286102295, 2.2300000190734863, 2.240000009536743, 2.25, 2.259999990463257, 2.2699999809265137, 2.2799999713897705, 2.2899999618530273, 2.299999952316284, 2.309999942779541, 2.319999933242798, 2.3299999237060547, 2.3399999141693115, 2.3499999046325684, 2.359999895095825, 2.369999885559082, 2.380000114440918, 2.390000104904175, 2.4000000953674316, 2.4100000858306885, 2.4200000762939453, 2.430000066757202, 2.440000057220459, 2.450000047683716, 2.4600000381469727, 2.4700000286102295, 2.4800000190734863, 2.490000009536743, 2.5, 2.509999990463257, 2.5199999809265137, 2.5299999713897705, 2.5399999618530273, 2.549999952316284, 2.559999942779541, 2.569999933242798, 2.5799999237060547, 2.5899999141693115, 2.5999999046325684, 2.6055967807769775, 2.609999895095825, 2.619999885559082, 2.630000114440918, 2.63431715965271, 2.640000104904175, 2.6500000953674316, 2.6600000858306885, 2.6700000762939453, 2.680000066757202, 2.690000057220459, 2.700000047683716, 2.7100000381469727, 2.7200000286102295, 2.7300000190734863, 2.740000009536743, 2.75, 2.759999990463257, 2.7699999809265137, 2.7799999713897705, 2.7899999618530273, 2.799999952316284, 2.809999942779541, 2.819999933242798, 2.8299999237060547, 2.8399999141693115, 2.8499999046325684, 2.859999895095825, 2.869999885559082, 2.880000114440918, 2.890000104904175, 2.9000000953674316, 2.9100000858306885, 2.9200000762939453, 2.930000066757202, 2.940000057220459, 2.950000047683716, 2.9600000381469727, 2.9700000286102295, 2.9800000190734863, 2.990000009536743], \"y\": [0.0, -0.00048088954645209014, -0.005289770197123289, -0.05337829515337944, -0.22762608528137207, -0.4365326464176178, -0.627915620803833, -0.802729606628418, -0.9617377519607544, -1.1055660247802734, -1.2347593307495117, -1.3498311042785645, -1.4513088464736938, -1.4855055809020996, -1.5397676229476929, -1.6158549785614014, -1.6803009510040283, -1.73391854763031, -1.7775951623916626, -1.8122732639312744, -1.8389304876327515, -1.8585532903671265, -1.8721147775650024, -1.8805537223815918, -1.8847570419311523, -1.8855481147766113, -1.883678674697876, -1.8798255920410156, -1.87459135055542, -1.8685067892074585, -1.8620367050170898, -1.8555853366851807, -1.8495043516159058, -1.8440992832183838, -1.8396377563476562, -1.836355209350586, -1.8344630002975464, -1.8341526985168457, -1.83560311794281, -1.8389850854873657, -1.844466209411621, -1.85221529006958, -1.862407922744751, -1.8752304315567017, -1.890885829925537, -1.9095977544784546, -1.9316192865371704, -1.9572389125823975, -1.9867912530899048, -2.020669937133789, -2.0593435764312744, -2.103379011154175, -2.1534719467163086, -2.2104885578155518, -2.275522470474243, -2.349970817565918, -2.4356322288513184, -2.53482723236084, -2.650526285171509, -2.786459445953369, -2.947136640548706, -3.137667179107666, -3.3632142543792725, -3.6279244422912598, -3.9332661628723145, -4.275972843170166, -4.646108627319336, -5.025980472564697, -5.390449047088623, -5.708683013916016, -5.9469194412231445, -6.071762561798096, -6.053903102874756, -5.872382164001465, -5.562320709228516, -5.165489673614502, -4.686992645263672, -4.136266231536865, -3.5259251594543457, -2.8700459003448486, -2.1825435161590576, -1.476197600364685, -0.7625411748886108, -0.6335117220878601, -0.052471037954092026, 0.053510744124650955, 0.6427680850028992, 1.3106577396392822, 1.9369597434997559, 2.5060665607452393, 3.002218008041382, 3.411290168762207, 3.7225558757781982, 3.9298019409179688, 4.031569004058838, 4.030838966369629, 3.934922218322754, 3.756404399871826, 3.515821695327759, 3.2461624145507812, 2.998054265975952, 2.8424055576324463, 2.8652961254119873, 3.151435136795044, 3.760734796524048, 4.712839126586914, 5.993284225463867, 7.578352451324463, 9.458746910095215, 11.63243293762207, 14.012129783630371, 16.07066535949707, 16.47512435913086, 15.767553329467773, 15.303598403930664, 13.578283309936523, 11.8684720993042, 10.04841136932373, 8.340607643127441, 7.100874900817871, 6.846585273742676, 7.951298236846924, 10.333974838256836, 13.661091804504395, 17.711261749267578, 22.075178146362305, 23.54279327392578, 20.943273544311523, 17.2626895904541, 14.2801513671875, 11.71776294708252, 9.91369342803955, 9.714402198791504, 11.605536460876465, 15.21080493927002, 20.0052490234375, 25.241479873657227, 26.784452438354492, 23.442012786865234, 18.565845489501953, 14.783463478088379, 11.939203262329102, 10.463284492492676, 11.318116188049316, 14.47708797454834, 19.20612144470215, 24.959415435791016, 27.788389205932617, 25.15015411376953, 19.867687225341797, 15.333704948425293, 12.056166648864746, 10.278733253479004, 11.170228004455566, 14.692950248718262, 19.929311752319336, 25.98171043395996, 28.583417892456055, 25.188671112060547, 19.633769989013672, 15.063575744628906, 11.991474151611328, 10.92680549621582, 12.896190643310547, 17.38619613647461, 23.469497680664062, 28.343948364257812, 28.426284790039062, 23.358491897583008, 17.918537139892578, 13.878205299377441, 11.600592613220215, 11.815384864807129, 14.867918014526367, 19.904598236083984, 25.3940372467041, 28.683523178100586, 26.154998779296875, 20.630191802978516, 15.581635475158691, 12.11434268951416, 10.416182518005371, 11.324442863464355, 14.774487495422363, 19.891706466674805, 24.73066520690918, 27.193225860595703, 24.354549407958984, 19.217262268066406, 14.5546236038208, 11.280029296875, 9.620515823364258, 10.258798599243164, 13.316180229187012, 18.033639907836914, 22.783527374267578, 26.08026885986328, 24.89519500732422, 20.42145538330078, 15.90888786315918, 12.221322059631348, 10.053482055664062, 9.55648136138916, 11.112526893615723, 14.460930824279785, 18.570035934448242, 22.35148048400879, 24.52891731262207, 22.81395149230957, 18.769575119018555, 14.785624504089355, 11.463555335998535, 9.10241985321045, 8.151244163513184, 8.614106178283691, 10.563722610473633, 13.575435638427734, 16.467697143554688, 19.137954711914062, 20.591323852539062, 19.4976749420166, 16.536890029907227, 13.29881763458252, 10.40987777709961, 7.969671249389648, 6.267023086547852, 5.443058967590332, 5.4524970054626465, 6.447728157043457, 8.37339973449707, 10.866058349609375, 13.100712776184082, 15.033806800842285, 16.326642990112305, 16.271503448486328, 14.74346923828125, 12.513050079345703, 10.271466255187988, 8.2655611038208, 6.531618118286133, 5.0661821365356445, 4.037905693054199, 3.4446921348571777, 3.286594867706299, 3.6002395153045654, 4.380166053771973, 5.586081027984619, 6.992454528808594, 8.297782897949219, 9.346296310424805, 10.244145393371582, 10.876077651977539, 11.089302062988281, 10.763967514038086, 9.935881614685059, 8.801838874816895, 7.580728054046631, 6.411475658416748, 5.351952075958252, 4.413825511932373, 3.5893619060516357, 2.8648152351379395, 2.2257909774780273, 1.6589890718460083, 1.1525665521621704, 0.6960636377334595, 0.280238538980484, -0.10309341549873352, -0.30619749426841736, -0.46121230721473694, -0.8006553053855896, -1.127402663230896, -1.265962839126587, -1.4470943212509155, -1.7652740478515625, -2.0876517295837402, -2.4203720092773438, -2.7702817916870117, -3.1451869010925293, -3.5541021823883057, -4.007497310638428, -4.517538547515869, -5.098280906677246, -5.765629768371582, -6.536531448364258, -7.4260406494140625, -8.439278602600098, -9.5532808303833, -10.685986518859863, -11.670784950256348, -12.296026229858398, -12.435635566711426, -12.134990692138672, -11.538471221923828, -10.779545783996582, -9.950308799743652, -9.133410453796387, -8.451231956481934, -8.094013214111328, -8.279409408569336, -9.142204284667969, -10.670419692993164, -12.781411170959473, -15.434060096740723, -18.573270797729492, -21.4151554107666, -21.694093704223633, -19.548919677734375, -16.99123764038086]}, {\"type\": \"scatter\", \"x\": [0.0, 2.113296250172425e-05, 0.00023246258206199855, 0.0023457587230950594, 0.009999999776482582, 0.019999999552965164, 0.029999999329447746, 0.03999999910593033, 0.05000000074505806, 0.05999999865889549, 0.07000000029802322, 0.07999999821186066, 0.09000000357627869, 0.09387221187353134, 0.10000000149011612, 0.10999999940395355, 0.11999999731779099, 0.12999999523162842, 0.14000000059604645, 0.15000000596046448, 0.1599999964237213, 0.17000000178813934, 0.18000000715255737, 0.1899999976158142, 0.20000000298023224, 0.20999999344348907, 0.2199999988079071, 0.23000000417232513, 0.23999999463558197, 0.25, 0.25999999046325684, 0.27000001072883606, 0.2800000011920929, 0.28999999165534973, 0.30000001192092896, 0.3100000023841858, 0.3199999928474426, 0.33000001311302185, 0.3400000035762787, 0.3499999940395355, 0.36000001430511475, 0.3700000047683716, 0.3799999952316284, 0.38999998569488525, 0.4000000059604645, 0.4099999964237213, 0.41999998688697815, 0.4300000071525574, 0.4399999976158142, 0.44999998807907104, 0.46000000834465027, 0.4699999988079071, 0.47999998927116394, 0.49000000953674316, 0.5, 0.5099999904632568, 0.5199999809265137, 0.5299999713897705, 0.5400000214576721, 0.550000011920929, 0.5600000023841858, 0.5699999928474426, 0.5799999833106995, 0.5899999737739563, 0.6000000238418579, 0.6100000143051147, 0.6200000047683716, 0.6299999952316284, 0.6399999856948853, 0.6499999761581421, 0.6600000262260437, 0.6700000166893005, 0.6800000071525574, 0.6899999976158142, 0.699999988079071, 0.7099999785423279, 0.7200000286102295, 0.7300000190734863, 0.7400000095367432, 0.75, 0.7599999904632568, 0.7699999809265137, 0.7799999713897705, 0.7818089127540588, 0.7900000214576721, 0.7915065884590149, 0.800000011920929, 0.8100000023841858, 0.8199999928474426, 0.8299999833106995, 0.8399999737739563, 0.8500000238418579, 0.8600000143051147, 0.8700000047683716, 0.8799999952316284, 0.8899999856948853, 0.8999999761581421, 0.9100000262260437, 0.9200000166893005, 0.9300000071525574, 0.9399999976158142, 0.949999988079071, 0.9599999785423279, 0.9700000286102295, 0.9800000190734863, 0.9900000095367432, 1.0, 1.0099999904632568, 1.0199999809265137, 1.0299999713897705, 1.0399999618530273, 1.0499999523162842, 1.059999942779541, 1.0670415163040161, 1.0700000524520874, 1.0800000429153442, 1.090000033378601, 1.100000023841858, 1.1100000143051147, 1.1200000047683716, 1.1299999952316284, 1.1399999856948853, 1.149999976158142, 1.159999966621399, 1.1699999570846558, 1.1799999475479126, 1.190000057220459, 1.2000000476837158, 1.2100000381469727, 1.2200000286102295, 1.2300000190734863, 1.2400000095367432, 1.25, 1.2599999904632568, 1.2699999809265137, 1.2799999713897705, 1.2899999618530273, 1.2999999523162842, 1.309999942779541, 1.3200000524520874, 1.3300000429153442, 1.340000033378601, 1.350000023841858, 1.3600000143051147, 1.3700000047683716, 1.3799999952316284, 1.3899999856948853, 1.399999976158142, 1.409999966621399, 1.4199999570846558, 1.4299999475479126, 1.440000057220459, 1.4500000476837158, 1.4600000381469727, 1.4700000286102295, 1.4800000190734863, 1.4900000095367432, 1.5, 1.5099999904632568, 1.5199999809265137, 1.5299999713897705, 1.5399999618530273, 1.5499999523162842, 1.559999942779541, 1.5700000524520874, 1.5800000429153442, 1.590000033378601, 1.600000023841858, 1.6100000143051147, 1.6200000047683716, 1.6299999952316284, 1.6399999856948853, 1.649999976158142, 1.659999966621399, 1.6699999570846558, 1.6799999475479126, 1.690000057220459, 1.7000000476837158, 1.7100000381469727, 1.7200000286102295, 1.7300000190734863, 1.7400000095367432, 1.75, 1.7599999904632568, 1.7699999809265137, 1.7799999713897705, 1.7899999618530273, 1.7999999523162842, 1.809999942779541, 1.8200000524520874, 1.8300000429153442, 1.840000033378601, 1.850000023841858, 1.8600000143051147, 1.8700000047683716, 1.8799999952316284, 1.8899999856948853, 1.899999976158142, 1.909999966621399, 1.9199999570846558, 1.9299999475479126, 1.940000057220459, 1.9500000476837158, 1.9600000381469727, 1.9700000286102295, 1.9800000190734863, 1.9900000095367432, 2.0, 2.009999990463257, 2.0199999809265137, 2.0299999713897705, 2.0399999618530273, 2.049999952316284, 2.059999942779541, 2.069999933242798, 2.0799999237060547, 2.0899999141693115, 2.0999999046325684, 2.109999895095825, 2.119999885559082, 2.130000114440918, 2.140000104904175, 2.1500000953674316, 2.1600000858306885, 2.1700000762939453, 2.180000066757202, 2.190000057220459, 2.200000047683716, 2.2100000381469727, 2.2200000286102295, 2.2300000190734863, 2.240000009536743, 2.25, 2.259999990463257, 2.2699999809265137, 2.2799999713897705, 2.2899999618530273, 2.299999952316284, 2.309999942779541, 2.319999933242798, 2.3299999237060547, 2.3399999141693115, 2.3499999046325684, 2.359999895095825, 2.369999885559082, 2.380000114440918, 2.390000104904175, 2.4000000953674316, 2.4100000858306885, 2.4200000762939453, 2.430000066757202, 2.440000057220459, 2.450000047683716, 2.4600000381469727, 2.4700000286102295, 2.4800000190734863, 2.490000009536743, 2.5, 2.509999990463257, 2.5199999809265137, 2.5299999713897705, 2.5399999618530273, 2.549999952316284, 2.559999942779541, 2.569999933242798, 2.5799999237060547, 2.5899999141693115, 2.5999999046325684, 2.6055967807769775, 2.609999895095825, 2.619999885559082, 2.630000114440918, 2.63431715965271, 2.640000104904175, 2.6500000953674316, 2.6600000858306885, 2.6700000762939453, 2.680000066757202, 2.690000057220459, 2.700000047683716, 2.7100000381469727, 2.7200000286102295, 2.7300000190734863, 2.740000009536743, 2.75, 2.759999990463257, 2.7699999809265137, 2.7799999713897705, 2.7899999618530273, 2.799999952316284, 2.809999942779541, 2.819999933242798, 2.8299999237060547, 2.8399999141693115, 2.8499999046325684, 2.859999895095825, 2.869999885559082, 2.880000114440918, 2.890000104904175, 2.9000000953674316, 2.9100000858306885, 2.9200000762939453, 2.930000066757202, 2.940000057220459, 2.950000047683716, 2.9600000381469727, 2.9700000286102295, 2.9800000190734863, 2.990000009536743], \"y\": [0.0, 0.001325979013927281, 0.014585732482373714, 0.14718225598335266, 0.6275948286056519, 1.2049224376678467, 1.7349740266799927, 2.2201876640319824, 2.6625771522521973, 3.063868284225464, 3.425633430480957, 3.7494077682495117, 4.036793231964111, 4.134488582611084, 4.289531230926514, 4.509552955627441, 4.698995590209961, 4.860194683074951, 4.995654106140137, 5.107996463775635, 5.199909687042236, 5.274078845977783, 5.333135604858398, 5.379604816436768, 5.415865898132324, 5.444124221801758, 5.466398239135742, 5.484511852264404, 5.500101089477539, 5.514624118804932, 5.52937650680542, 5.545511722564697, 5.564060211181641, 5.5859527587890625, 5.612040042877197, 5.643115043640137, 5.679931640625, 5.723224639892578, 5.7737298011779785, 5.832200050354004, 5.899424076080322, 5.976245403289795, 6.0635809898376465, 6.162441730499268, 6.273952960968018, 6.399377822875977, 6.5401434898376465, 6.697865009307861, 6.874378204345703, 7.071765899658203, 7.292390823364258, 7.538921356201172, 7.8143510818481445, 8.122003555297852, 8.465514183044434, 8.84875774383545, 9.275721549987793, 9.750260353088379, 10.27570915222168, 10.854294776916504, 11.486305236816406, 12.169008255004883, 12.895358085632324, 13.652655601501465, 14.421406745910645, 15.174687385559082, 15.878216743469238, 16.491119384765625, 16.967086791992188, 17.255643844604492, 17.30360984802246, 17.05763053894043, 16.469125747680664, 15.502659797668457, 14.26839828491211, 12.876458168029785, 11.326482772827148, 9.630256652832031, 7.809111595153809, 5.889768600463867, 3.9002106189727783, 1.8669317960739136, -0.1858883500099182, -0.5575465559959412, -2.2355599403381348, -2.5426831245422363, -4.259191036224365, -6.232100009918213, -8.127283096313477, -9.916638374328613, -11.574060440063477, -13.07968807220459, -14.423837661743164, -15.60911750793457, -16.650026321411133, -17.570446014404297, -18.40019989013672, -19.171817779541016, -19.91820526123047, -20.67135238647461, -21.462059020996094, -22.3206844329834, -23.27937889099121, -24.3763484954834, -25.66238784790039, -27.208938598632812, -29.116575241088867, -31.522594451904297, -34.600440979003906, -38.51544952392578, -43.21577072143555, -47.595760345458984, -48.556983947753906, -47.29653549194336, -46.47906494140625, -43.89833068847656, -42.243038177490234, -41.02861404418945, -40.469017028808594, -40.604549407958984, -41.44927215576172, -43.09602737426758, -45.81001281738281, -50.0617790222168, -56.40988540649414, -64.53755187988281, -66.99606323242188, -61.34559631347656, -54.58981704711914, -50.93672180175781, -49.172428131103516, -48.761619567871094, -49.626163482666016, -51.903114318847656, -56.142269134521484, -63.22821807861328, -72.61695861816406, -74.93536376953125, -67.9170150756836, -58.971195220947266, -54.22099304199219, -52.447792053222656, -52.33930206298828, -53.8203239440918, -57.27461624145508, -63.61013412475586, -73.51939392089844, -78.23290252685547, -72.62195587158203, -62.889007568359375, -56.66856384277344, -54.52070617675781, -54.25487518310547, -55.75252914428711, -59.42824172973633, -66.30621337890625, -76.49962615966797, -80.70030212402344, -73.5897445678711, -63.61661148071289, -57.68062210083008, -55.97242736816406, -56.26771545410156, -58.569053649902344, -63.59089660644531, -72.59965515136719, -80.43453216552734, -79.9014892578125, -69.85677337646484, -60.812740325927734, -56.3432502746582, -55.5257682800293, -56.61913299560547, -59.9018440246582, -66.3714599609375, -74.81822967529297, -80.3685073852539, -74.93559265136719, -64.70526885986328, -57.10624694824219, -54.200157165527344, -53.955848693847656, -55.451515197753906, -59.10321044921875, -65.91279602050781, -73.08162689208984, -77.06240844726562, -71.05276489257812, -61.64977264404297, -54.70317077636719, -51.87140655517578, -51.72488021850586, -53.098106384277344, -56.314727783203125, -62.226112365722656, -68.86598205566406, -74.13739013671875, -71.14483642578125, -62.33998489379883, -54.800132751464844, -49.836265563964844, -48.55535888671875, -49.22195053100586, -51.240882873535156, -55.086952209472656, -60.248992919921875, -65.64883422851562, -69.0916976928711, -65.15147399902344, -57.19326400756836, -50.40748596191406, -45.70094299316406, -43.22523880004883, -43.401519775390625, -44.61940383911133, -46.93675231933594, -50.51350402832031, -53.60138702392578, -57.26603317260742, -59.35944366455078, -56.69890594482422, -50.68689727783203, -44.79172134399414, -40.21416473388672, -36.86020278930664, -35.30838394165039, -35.583003997802734, -36.54853057861328, -38.08210372924805, -40.377105712890625, -43.275665283203125, -45.41357421875, -47.55478286743164, -49.08434295654297, -48.28134536743164, -44.729366302490234, -40.07032012939453, -35.760948181152344, -32.23598098754883, -29.44139289855957, -27.21592140197754, -26.025907516479492, -25.802085876464844, -26.35456085205078, -27.50753402709961, -28.9677791595459, -30.6178035736084, -32.06433868408203, -32.94845199584961, -33.337730407714844, -33.79035186767578, -34.0230712890625, -33.631980895996094, -32.27598190307617, -29.971477508544922, -27.111928939819336, -24.149580001831055, -21.360700607299805, -18.843671798706055, -16.598995208740234, -14.589943885803223, -12.77216911315918, -11.104988098144531, -9.554473876953125, -8.093433380126953, -6.700403690338135, -5.358489036560059, -4.054299354553223, -3.336737871170044, -2.777047872543335, -1.5177998542785645, -0.2688356339931488, 0.26897454261779785, 0.9769091010093689, 2.22636079788208, 3.48681640625, 4.766475677490234, 6.075029373168945, 7.424338340759277, 8.829238891601562, 10.308497428894043, 11.88589859008789, 13.591333389282227, 15.461433410644531, 17.53848648071289, 19.8645076751709, 22.463565826416016, 25.300704956054688, 28.210800170898438, 30.839872360229492, 32.73741912841797, 33.66033172607422, 33.76934051513672, 33.45288848876953, 33.060794830322266, 32.811405181884766, 32.81901550292969, 33.13973617553711, 33.8060302734375, 34.86028289794922, 36.397037506103516, 38.60003662109375, 41.75669860839844, 46.231231689453125, 52.218936920166016, 58.05876159667969, 58.4567756652832, 53.936527252197266, 49.313751220703125]}],\n",
       "                        {\"template\": {\"data\": {\"bar\": [{\"error_x\": {\"color\": \"#2a3f5f\"}, \"error_y\": {\"color\": \"#2a3f5f\"}, \"marker\": {\"line\": {\"color\": \"#E5ECF6\", \"width\": 0.5}}, \"type\": \"bar\"}], \"barpolar\": [{\"marker\": {\"line\": {\"color\": \"#E5ECF6\", \"width\": 0.5}}, \"type\": \"barpolar\"}], \"carpet\": [{\"aaxis\": {\"endlinecolor\": \"#2a3f5f\", \"gridcolor\": \"white\", \"linecolor\": \"white\", \"minorgridcolor\": \"white\", \"startlinecolor\": \"#2a3f5f\"}, \"baxis\": {\"endlinecolor\": \"#2a3f5f\", \"gridcolor\": \"white\", \"linecolor\": \"white\", \"minorgridcolor\": \"white\", \"startlinecolor\": \"#2a3f5f\"}, \"type\": \"carpet\"}], \"choropleth\": [{\"colorbar\": {\"outlinewidth\": 0, \"ticks\": \"\"}, \"type\": \"choropleth\"}], \"contour\": [{\"colorbar\": {\"outlinewidth\": 0, \"ticks\": \"\"}, \"colorscale\": [[0.0, \"#0d0887\"], [0.1111111111111111, \"#46039f\"], [0.2222222222222222, \"#7201a8\"], [0.3333333333333333, \"#9c179e\"], [0.4444444444444444, \"#bd3786\"], [0.5555555555555556, \"#d8576b\"], [0.6666666666666666, \"#ed7953\"], [0.7777777777777778, \"#fb9f3a\"], [0.8888888888888888, \"#fdca26\"], [1.0, \"#f0f921\"]], \"type\": \"contour\"}], \"contourcarpet\": [{\"colorbar\": {\"outlinewidth\": 0, \"ticks\": \"\"}, \"type\": \"contourcarpet\"}], \"heatmap\": [{\"colorbar\": {\"outlinewidth\": 0, \"ticks\": \"\"}, \"colorscale\": [[0.0, \"#0d0887\"], [0.1111111111111111, \"#46039f\"], [0.2222222222222222, \"#7201a8\"], [0.3333333333333333, \"#9c179e\"], [0.4444444444444444, \"#bd3786\"], [0.5555555555555556, \"#d8576b\"], [0.6666666666666666, \"#ed7953\"], [0.7777777777777778, \"#fb9f3a\"], [0.8888888888888888, \"#fdca26\"], [1.0, \"#f0f921\"]], \"type\": \"heatmap\"}], \"heatmapgl\": [{\"colorbar\": {\"outlinewidth\": 0, \"ticks\": \"\"}, \"colorscale\": [[0.0, \"#0d0887\"], [0.1111111111111111, \"#46039f\"], [0.2222222222222222, \"#7201a8\"], [0.3333333333333333, \"#9c179e\"], [0.4444444444444444, \"#bd3786\"], [0.5555555555555556, \"#d8576b\"], [0.6666666666666666, \"#ed7953\"], [0.7777777777777778, \"#fb9f3a\"], [0.8888888888888888, \"#fdca26\"], [1.0, \"#f0f921\"]], \"type\": \"heatmapgl\"}], \"histogram\": [{\"marker\": {\"colorbar\": {\"outlinewidth\": 0, \"ticks\": \"\"}}, \"type\": \"histogram\"}], \"histogram2d\": [{\"colorbar\": {\"outlinewidth\": 0, \"ticks\": \"\"}, \"colorscale\": [[0.0, \"#0d0887\"], [0.1111111111111111, \"#46039f\"], [0.2222222222222222, \"#7201a8\"], [0.3333333333333333, \"#9c179e\"], [0.4444444444444444, \"#bd3786\"], [0.5555555555555556, \"#d8576b\"], [0.6666666666666666, \"#ed7953\"], [0.7777777777777778, \"#fb9f3a\"], [0.8888888888888888, \"#fdca26\"], [1.0, \"#f0f921\"]], \"type\": \"histogram2d\"}], \"histogram2dcontour\": [{\"colorbar\": {\"outlinewidth\": 0, \"ticks\": \"\"}, \"colorscale\": [[0.0, \"#0d0887\"], [0.1111111111111111, \"#46039f\"], [0.2222222222222222, \"#7201a8\"], [0.3333333333333333, \"#9c179e\"], [0.4444444444444444, \"#bd3786\"], [0.5555555555555556, \"#d8576b\"], [0.6666666666666666, \"#ed7953\"], [0.7777777777777778, \"#fb9f3a\"], [0.8888888888888888, \"#fdca26\"], [1.0, \"#f0f921\"]], \"type\": \"histogram2dcontour\"}], \"mesh3d\": [{\"colorbar\": {\"outlinewidth\": 0, \"ticks\": \"\"}, \"type\": \"mesh3d\"}], \"parcoords\": [{\"line\": {\"colorbar\": {\"outlinewidth\": 0, \"ticks\": \"\"}}, \"type\": \"parcoords\"}], \"pie\": [{\"automargin\": true, \"type\": \"pie\"}], \"scatter\": [{\"marker\": {\"colorbar\": {\"outlinewidth\": 0, \"ticks\": \"\"}}, \"type\": \"scatter\"}], \"scatter3d\": [{\"line\": {\"colorbar\": {\"outlinewidth\": 0, \"ticks\": \"\"}}, \"marker\": {\"colorbar\": {\"outlinewidth\": 0, \"ticks\": \"\"}}, \"type\": \"scatter3d\"}], \"scattercarpet\": [{\"marker\": {\"colorbar\": {\"outlinewidth\": 0, \"ticks\": \"\"}}, \"type\": \"scattercarpet\"}], \"scattergeo\": [{\"marker\": {\"colorbar\": {\"outlinewidth\": 0, \"ticks\": \"\"}}, \"type\": \"scattergeo\"}], \"scattergl\": [{\"marker\": {\"colorbar\": {\"outlinewidth\": 0, \"ticks\": \"\"}}, \"type\": \"scattergl\"}], \"scattermapbox\": [{\"marker\": {\"colorbar\": {\"outlinewidth\": 0, \"ticks\": \"\"}}, \"type\": \"scattermapbox\"}], \"scatterpolar\": [{\"marker\": {\"colorbar\": {\"outlinewidth\": 0, \"ticks\": \"\"}}, \"type\": \"scatterpolar\"}], \"scatterpolargl\": [{\"marker\": {\"colorbar\": {\"outlinewidth\": 0, \"ticks\": \"\"}}, \"type\": \"scatterpolargl\"}], \"scatterternary\": [{\"marker\": {\"colorbar\": {\"outlinewidth\": 0, \"ticks\": \"\"}}, \"type\": \"scatterternary\"}], \"surface\": [{\"colorbar\": {\"outlinewidth\": 0, \"ticks\": \"\"}, \"colorscale\": [[0.0, \"#0d0887\"], [0.1111111111111111, \"#46039f\"], [0.2222222222222222, \"#7201a8\"], [0.3333333333333333, \"#9c179e\"], [0.4444444444444444, \"#bd3786\"], [0.5555555555555556, \"#d8576b\"], [0.6666666666666666, \"#ed7953\"], [0.7777777777777778, \"#fb9f3a\"], [0.8888888888888888, \"#fdca26\"], [1.0, \"#f0f921\"]], \"type\": \"surface\"}], \"table\": [{\"cells\": {\"fill\": {\"color\": \"#EBF0F8\"}, \"line\": {\"color\": \"white\"}}, \"header\": {\"fill\": {\"color\": \"#C8D4E3\"}, \"line\": {\"color\": \"white\"}}, \"type\": \"table\"}]}, \"layout\": {\"annotationdefaults\": {\"arrowcolor\": \"#2a3f5f\", \"arrowhead\": 0, \"arrowwidth\": 1}, \"coloraxis\": {\"colorbar\": {\"outlinewidth\": 0, \"ticks\": \"\"}}, \"colorscale\": {\"diverging\": [[0, \"#8e0152\"], [0.1, \"#c51b7d\"], [0.2, \"#de77ae\"], [0.3, \"#f1b6da\"], [0.4, \"#fde0ef\"], [0.5, \"#f7f7f7\"], [0.6, \"#e6f5d0\"], [0.7, \"#b8e186\"], [0.8, \"#7fbc41\"], [0.9, \"#4d9221\"], [1, \"#276419\"]], \"sequential\": [[0.0, \"#0d0887\"], [0.1111111111111111, \"#46039f\"], [0.2222222222222222, \"#7201a8\"], [0.3333333333333333, \"#9c179e\"], [0.4444444444444444, \"#bd3786\"], [0.5555555555555556, \"#d8576b\"], [0.6666666666666666, \"#ed7953\"], [0.7777777777777778, \"#fb9f3a\"], [0.8888888888888888, \"#fdca26\"], [1.0, \"#f0f921\"]], \"sequentialminus\": [[0.0, \"#0d0887\"], [0.1111111111111111, \"#46039f\"], [0.2222222222222222, \"#7201a8\"], [0.3333333333333333, \"#9c179e\"], [0.4444444444444444, \"#bd3786\"], [0.5555555555555556, \"#d8576b\"], [0.6666666666666666, \"#ed7953\"], [0.7777777777777778, \"#fb9f3a\"], [0.8888888888888888, \"#fdca26\"], [1.0, \"#f0f921\"]]}, \"colorway\": [\"#636efa\", \"#EF553B\", \"#00cc96\", \"#ab63fa\", \"#FFA15A\", \"#19d3f3\", \"#FF6692\", \"#B6E880\", \"#FF97FF\", \"#FECB52\"], \"font\": {\"color\": \"#2a3f5f\"}, \"geo\": {\"bgcolor\": \"white\", \"lakecolor\": \"white\", \"landcolor\": \"#E5ECF6\", \"showlakes\": true, \"showland\": true, \"subunitcolor\": \"white\"}, \"hoverlabel\": {\"align\": \"left\"}, \"hovermode\": \"closest\", \"mapbox\": {\"style\": \"light\"}, \"paper_bgcolor\": \"white\", \"plot_bgcolor\": \"#E5ECF6\", \"polar\": {\"angularaxis\": {\"gridcolor\": \"white\", \"linecolor\": \"white\", \"ticks\": \"\"}, \"bgcolor\": \"#E5ECF6\", \"radialaxis\": {\"gridcolor\": \"white\", \"linecolor\": \"white\", \"ticks\": \"\"}}, \"scene\": {\"xaxis\": {\"backgroundcolor\": \"#E5ECF6\", \"gridcolor\": \"white\", \"gridwidth\": 2, \"linecolor\": \"white\", \"showbackground\": true, \"ticks\": \"\", \"zerolinecolor\": \"white\"}, \"yaxis\": {\"backgroundcolor\": \"#E5ECF6\", \"gridcolor\": \"white\", \"gridwidth\": 2, \"linecolor\": \"white\", \"showbackground\": true, \"ticks\": \"\", \"zerolinecolor\": \"white\"}, \"zaxis\": {\"backgroundcolor\": \"#E5ECF6\", \"gridcolor\": \"white\", \"gridwidth\": 2, \"linecolor\": \"white\", \"showbackground\": true, \"ticks\": \"\", \"zerolinecolor\": \"white\"}}, \"shapedefaults\": {\"line\": {\"color\": \"#2a3f5f\"}}, \"ternary\": {\"aaxis\": {\"gridcolor\": \"white\", \"linecolor\": \"white\", \"ticks\": \"\"}, \"baxis\": {\"gridcolor\": \"white\", \"linecolor\": \"white\", \"ticks\": \"\"}, \"bgcolor\": \"#E5ECF6\", \"caxis\": {\"gridcolor\": \"white\", \"linecolor\": \"white\", \"ticks\": \"\"}}, \"title\": {\"x\": 0.05}, \"xaxis\": {\"automargin\": true, \"gridcolor\": \"white\", \"linecolor\": \"white\", \"ticks\": \"\", \"title\": {\"standoff\": 15}, \"zerolinecolor\": \"white\", \"zerolinewidth\": 2}, \"yaxis\": {\"automargin\": true, \"gridcolor\": \"white\", \"linecolor\": \"white\", \"ticks\": \"\", \"title\": {\"standoff\": 15}, \"zerolinecolor\": \"white\", \"zerolinewidth\": 2}}}},\n",
       "                        {\"responsive\": true}\n",
       "                    ).then(function(){\n",
       "                            \n",
       "var gd = document.getElementById('ed80ea58-feb4-4e24-902c-fd62589b53f5');\n",
       "var x = new MutationObserver(function (mutations, observer) {{\n",
       "        var display = window.getComputedStyle(gd).display;\n",
       "        if (!display || display === 'none') {{\n",
       "            console.log([gd, 'removed!']);\n",
       "            Plotly.purge(gd);\n",
       "            observer.disconnect();\n",
       "        }}\n",
       "}});\n",
       "\n",
       "// Listen for the removal of the full notebook cells\n",
       "var notebookContainer = gd.closest('#notebook-container');\n",
       "if (notebookContainer) {{\n",
       "    x.observe(notebookContainer, {childList: true});\n",
       "}}\n",
       "\n",
       "// Listen for the clearing of the current output cell\n",
       "var outputEl = gd.closest('.output');\n",
       "if (outputEl) {{\n",
       "    x.observe(outputEl, {childList: true});\n",
       "}}\n",
       "\n",
       "                        })\n",
       "                };\n",
       "                });\n",
       "            </script>\n",
       "        </div>"
      ]
     },
     "metadata": {},
     "output_type": "display_data"
    }
   ],
   "source": [
    "# ctrl = lambda x: (torch.zeros(1), torch.zeros(1), None)\n",
    "\n",
    "ctrl = controllers.get_optimal_controller(vf)\n",
    "\n",
    "# Q = torch.diag(torch.Tensor([1., 1., .1, .1]))\n",
    "# R = torch.diag(torch.Tensor([1.]))\n",
    "# x_nom = torch.Tensor([np.pi, 0., 0., 0.]).double()\n",
    "# u_nom = torch.zeros(vf.u_dim[0]).type(vf.dtype)\n",
    "# ctrl, S = controllers.get_lqr_controller(sys.dx, x_nom, u_nom, Q, R, vf.u_lo[0], vf.u_up[0])\n",
    "\n",
    "# Q = torch.Tensor(S).type(vf.dtype)\n",
    "# lqr_model = value_approximation.QuadraticModel(vf.x_dim[0], vf.dtype, Q=Q, q=-2.*Q@x_nom, c=x_nom@Q@x_nom)\n",
    "# ctrl = controllers.get_sampling_infinite_horizon_controller(sys.dx, vf.step_cost, lqr_model, vf.u_lo[0], vf.u_up[0], vf.dt_lo, 500)\n",
    "\n",
    "eps = .2\n",
    "x0 = torch.Tensor([np.pi+eps, -eps, 0., 0.]).double()\n",
    "x_traj_sim, t_traj_sim = controllers.sim_ctrl(x0, 1, sys.dx, ctrl, .1, 30)\n",
    "\n",
    "fig = go.Figure()\n",
    "for i in range(4):\n",
    "    fig.add_trace(go.Scatter(\n",
    "        x=t_traj_sim,\n",
    "        y=x_traj_sim[i,:]\n",
    "    ))\n",
    "fig.show()"
   ]
  },
  {
   "cell_type": "code",
   "execution_count": null,
   "metadata": {},
   "outputs": [],
   "source": [
    "eps = .05\n",
    "x0_lo = torch.Tensor([np.pi-eps, -eps, -2., -3.]).type(vf.dtype)\n",
    "x0_up = torch.Tensor([np.pi+eps, eps, 2., 3.]).type(vf.dtype)\n",
    "\n",
    "# file options\n",
    "sys_name = 'acrobot'\n",
    "x_samples_file = '../data/validation_' + sys_name + '_x.pt'\n",
    "v_samples_file = '../data/validation_' + sys_name + '_v.pt'\n",
    "model_file = '../data/' + sys_name + '.pt'"
   ]
  },
  {
   "cell_type": "code",
   "execution_count": null,
   "metadata": {},
   "outputs": [],
   "source": [
    "opt = dict(\n",
    "    max_buffer_size = None,\n",
    "    batch_size = 60,\n",
    "    nn_width = 200,\n",
    "    nn_depth = 2,\n",
    "\n",
    "    init_num_samples = 100,\n",
    "    init_num_trainig_step = 1000,\n",
    "    \n",
    "    num_generations = 5,\n",
    "    num_samples_per_generation = 10,\n",
    "    num_train_step_per_gen = 100,\n",
    "    \n",
    "    adv_max_iter = 3,\n",
    "    adv_conv_tol = 1e-5,\n",
    "    adv_learning_rate = 1.,\n",
    "    \n",
    "    num_samples_validation = 100,\n",
    ")"
   ]
  },
  {
   "cell_type": "code",
   "execution_count": null,
   "metadata": {},
   "outputs": [],
   "source": [
    "samples_gen = samples_generator.RandomSampleGenerator(vf, x0_lo, x0_up)\n",
    "\n",
    "data, label = samples_gen.generate_samples(1)\n",
    "samples_buff = samples_buffer.SamplesBuffer(data.shape[1], label.shape[1], vf.dtype, max_size=opt['max_buffer_size'])\n",
    "\n",
    "vf_approx = value_approximation.InfiniteHorizonValueFunctionApproximation(vf.dtype, vf.x_dim[0], opt['nn_width'], opt['nn_depth'])\n",
    "train_log = training_log.TrainingLog(1, prefix=\"baseline\")"
   ]
  },
  {
   "cell_type": "code",
   "execution_count": null,
   "metadata": {},
   "outputs": [],
   "source": [
    "x_samples_validation, v_labels_validation = samples_gen.generate_samples(opt['num_samples_validation'])"
   ]
  },
  {
   "cell_type": "code",
   "execution_count": null,
   "metadata": {},
   "outputs": [],
   "source": [
    "torch.save(x_samples_validation, x_samples_file)\n",
    "torch.save(v_labels_validation, v_samples_file)"
   ]
  },
  {
   "cell_type": "code",
   "execution_count": null,
   "metadata": {},
   "outputs": [],
   "source": [
    "x_samples_validation = torch.load(x_samples_file)\n",
    "v_labels_validation = torch.load(v_samples_file)"
   ]
  },
  {
   "cell_type": "code",
   "execution_count": null,
   "metadata": {},
   "outputs": [],
   "source": [
    "(x_samples, v_labels) = samples_gen.generate_samples(opt['init_num_samples'])\n",
    "samples_buff.add_samples(x_samples, v_labels)"
   ]
  },
  {
   "cell_type": "code",
   "execution_count": null,
   "metadata": {},
   "outputs": [],
   "source": [
    "for train_step_i in range(opt['init_num_trainig_step']):\n",
    "    x, v = samples_buff.get_random_samples(opt['batch_size'])\n",
    "    losses = vf_approx.train_step(x, v)\n",
    "    train_log.add_train_loss(losses)"
   ]
  },
  {
   "cell_type": "code",
   "execution_count": null,
   "metadata": {},
   "outputs": [],
   "source": [
    "samples_buff_adv = copy.deepcopy(samples_buff)\n",
    "samples_gen_adv = samples_generator.AdversarialSampleGenerator(vf, x0_lo, x0_up, \n",
    "                                                               max_iter=opt['adv_max_iter'],\n",
    "                                                               conv_tol=opt['adv_conv_tol'],\n",
    "                                                               learning_rate=opt['adv_learning_rate'])\n",
    "vf_approx_adv = copy.deepcopy(vf_approx)\n",
    "train_log_adv = training_log.TrainingLog.get_copy(\n",
    "    train_log, prefix=\"adversarial\", keep_writer=True)"
   ]
  },
  {
   "cell_type": "code",
   "execution_count": null,
   "metadata": {},
   "outputs": [],
   "source": [
    "validation_losses = vf_approx_adv.validation_loss(x_samples_validation, v_labels_validation)\n",
    "train_log_adv.add_validation_loss(validation_losses)\n",
    "validation_losses = vf_approx.validation_loss(x_samples_validation, v_labels_validation)\n",
    "train_log.add_validation_loss(validation_losses)\n",
    "for gen_i in range(opt['num_generations']):\n",
    "    # adverserial samples\n",
    "    (x_samples, v_labels) = samples_gen_adv.generate_samples(opt['num_samples_per_generation'], vf_approx_adv)\n",
    "    samples_buff_adv.add_samples(x_samples, v_labels)\n",
    "    # random samples\n",
    "    (x_samples, v_labels) = samples_gen.generate_samples(opt['num_samples_per_generation'])\n",
    "    samples_buff.add_samples(x_samples, v_labels)\n",
    "    for train_step_i in range(opt['num_train_step_per_gen']):\n",
    "        samples_indices = samples_buff_adv.get_random_sample_indices(opt['batch_size'])\n",
    "        x, v = samples_buff_adv.get_samples_from_indices(samples_indices)\n",
    "        losses = vf_approx_adv.train_step(x, v)\n",
    "        train_log_adv.add_train_loss(losses)\n",
    "        x, v = samples_buff.get_samples_from_indices(samples_indices)\n",
    "        losses = vf_approx.train_step(x, v)\n",
    "        train_log.add_train_loss(losses)\n",
    "    validation_losses = vf_approx_adv.validation_loss(x_samples_validation, v_labels_validation)\n",
    "    train_log_adv.add_validation_loss(validation_losses)\n",
    "    validation_losses = vf_approx.validation_loss(x_samples_validation, v_labels_validation)\n",
    "    train_log.add_validation_loss(validation_losses)"
   ]
  },
  {
   "cell_type": "code",
   "execution_count": null,
   "metadata": {},
   "outputs": [],
   "source": [
    "dt_ctrl = .2\n",
    "num_samples = 1000\n",
    "# model = vf_approx.model\n",
    "model = vf_approx_adv.model\n",
    "ctrl = controllers.get_sampling_infinite_horizon_controller(sys.dx, vf.step_cost, model, vf.u_lo[0], vf.u_up[0], dt_ctrl, num_samples)\n",
    "eps = 0.1\n",
    "x0 = torch.Tensor([np.pi+eps, -eps, 0., 0.]).double()\n",
    "x_traj_sim, t_traj_sim = controllers.sim_ctrl(x0, 1, sys.dx, ctrl, .1, 20)\n",
    "\n",
    "fig = go.Figure()\n",
    "for i in range(4):\n",
    "    fig.add_trace(go.Scatter(\n",
    "        x=t_traj_sim,\n",
    "        y=x_traj_sim[i,:]\n",
    "    ))\n",
    "fig.show()"
   ]
  },
  {
   "cell_type": "code",
   "execution_count": null,
   "metadata": {},
   "outputs": [],
   "source": [
    "Q = vf_approx.model.sqrtQ.t()@vf_approx.model.sqrtQ\n",
    "print(Q)\n",
    "print(S)\n",
    "print(vf_approx.model.sqrtQ)"
   ]
  },
  {
   "cell_type": "code",
   "execution_count": null,
   "metadata": {},
   "outputs": [],
   "source": [
    "# controller params\n",
    "dt_ctrl = .1\n",
    "num_samples = 500\n",
    "\n",
    "# benchmark params\n",
    "x0 = torch.Tensor([np.pi, 0., 0., 0.]).type(vf.dtype)\n",
    "x0_eps = torch.Tensor([.1, .1, 0., 0.]).type(vf.dtype)\n",
    "x_goal = torch.Tensor([np.pi, 0., 0., 0.]).type(vf.dtype)\n",
    "num_breaks = [5, 5]\n",
    "dt_sim = .1\n",
    "N = 20"
   ]
  },
  {
   "cell_type": "code",
   "execution_count": null,
   "metadata": {},
   "outputs": [],
   "source": [
    "ctrl_baseline = controllers.get_sampling_infinite_horizon_controller(sys.dx, vf.step_cost, vf_approx.model, vf.u_lo[0], vf.u_up[0], dt_ctrl, num_samples)\n",
    "bench_baseline = controllers.benchmark_controller(vf.u_dim[0], sys.dx, ctrl_baseline, x0, x0_eps, num_breaks, x_goal, dt_sim, N)"
   ]
  },
  {
   "cell_type": "code",
   "execution_count": null,
   "metadata": {},
   "outputs": [],
   "source": [
    "ctrl_adv = controllers.get_sampling_infinite_horizon_controller(sys.dx, vf.step_cost, vf_approx_adv.model, vf.u_lo[0], vf.u_up[0], dt_ctrl, num_samples)\n",
    "bench_adv = controllers.benchmark_controller(vf.u_dim[0], sys.dx, ctrl_adv, x0, x0_eps, num_breaks, x_goal, dt_sim, N)"
   ]
  },
  {
   "cell_type": "code",
   "execution_count": null,
   "metadata": {},
   "outputs": [],
   "source": [
    "Q = torch.diag(torch.Tensor([1., 1., .1, .1]))\n",
    "R = torch.diag(torch.Tensor([.1]))\n",
    "x_nom = torch.Tensor([np.pi, 0., 0., 0.]).type(vf.dtype)\n",
    "u_nom = torch.zeros(u_min.shape[0]).type(vf.dtype)\n",
    "ctrl_lqr, S = controllers.get_lqr_controller(sys.dx, x_nom, u_nom, Q, R, vf.u_lo[0], vf.u_up[0])\n",
    "bench_lqr = controllers.benchmark_controller(vf.u_dim[0], sys.dx, ctrl_lqr, x0, x0_eps, num_breaks, x_goal, dt_sim, N)"
   ]
  },
  {
   "cell_type": "code",
   "execution_count": null,
   "metadata": {
    "scrolled": false
   },
   "outputs": [],
   "source": [
    "conv_thresh = 5.\n",
    "zmin = 0.\n",
    "zmax = 50.\n",
    "\n",
    "print(\"Baseline\")\n",
    "fig = go.Figure()\n",
    "fig.add_trace(go.Heatmap(\n",
    "    z = bench_baseline.detach().numpy(),\n",
    "    zmin = zmin,\n",
    "    zmax = zmax,\n",
    "    ))\n",
    "fig.show()\n",
    "\n",
    "print(\"Adversarial\")\n",
    "fig = go.Figure()\n",
    "fig.add_trace(go.Heatmap(\n",
    "    z = bench_adv.detach().numpy(),\n",
    "    zmin = zmin,\n",
    "    zmax = zmax,\n",
    "    ))\n",
    "fig.show()\n",
    "\n",
    "print(\"LQR\")\n",
    "fig = go.Figure()\n",
    "fig.add_trace(go.Heatmap(\n",
    "    z = bench_lqr.detach().numpy(),\n",
    "    zmin = zmin,\n",
    "    zmax = zmax,\n",
    "    ))\n",
    "fig.show()\n",
    "\n",
    "print(\"Baseline\")\n",
    "fig = go.Figure()\n",
    "fig.add_trace(go.Heatmap(\n",
    "    z = torch.Tensor(bench_baseline.detach().numpy() > conv_thresh).type(vf.dtype),\n",
    "    ))\n",
    "fig.show()\n",
    "\n",
    "print(\"Adversarial\")\n",
    "fig = go.Figure()\n",
    "fig.add_trace(go.Heatmap(\n",
    "    z = torch.Tensor(bench_adv.detach().numpy() > conv_thresh).type(vf.dtype),\n",
    "    ))\n",
    "fig.show()\n",
    "\n",
    "print(\"LQR\")\n",
    "fig = go.Figure()\n",
    "fig.add_trace(go.Heatmap(\n",
    "    z = torch.Tensor(bench_lqr.detach().numpy() > conv_thresh).type(vf.dtype),\n",
    "    ))\n",
    "fig.show()"
   ]
  }
 ],
 "metadata": {
  "kernelspec": {
   "display_name": "Python 3",
   "language": "python",
   "name": "python3"
  },
  "language_info": {
   "codemirror_mode": {
    "name": "ipython",
    "version": 3
   },
   "file_extension": ".py",
   "mimetype": "text/x-python",
   "name": "python",
   "nbconvert_exporter": "python",
   "pygments_lexer": "ipython3",
   "version": "3.7.5"
  }
 },
 "nbformat": 4,
 "nbformat_minor": 2
}
