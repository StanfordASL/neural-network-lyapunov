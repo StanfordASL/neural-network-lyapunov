{
 "cells": [
  {
   "cell_type": "code",
   "execution_count": null,
   "metadata": {},
   "outputs": [],
   "source": [
    "%load_ext autoreload\n",
    "%autoreload 2"
   ]
  },
  {
   "cell_type": "code",
   "execution_count": null,
   "metadata": {},
   "outputs": [],
   "source": [
    "import sys\n",
    "sys.path.append(\"..\")\n",
    "sys.path.append(\".\")\n",
    "import copy\n",
    "import torch\n",
    "import numpy as np\n",
    "import pickle\n",
    "from datetime import datetime\n",
    "import plotly\n",
    "import plotly.graph_objs as go\n",
    "plotly.offline.init_notebook_mode(connected=True)\n",
    "from scipy import interpolate\n",
    "\n",
    "import robust_value_approx.utils as utils\n",
    "import plotting_utils\n",
    "import slip_utils\n",
    "import robust_value_approx.train_value as train_value\n",
    "import robust_value_approx.relu_mpc as relu_mpc"
   ]
  },
  {
   "cell_type": "code",
   "execution_count": null,
   "metadata": {
    "scrolled": true
   },
   "outputs": [],
   "source": [
    "# vf, slip = slip_utils.get_value_function(torch.Tensor([0., 0., 0.]), N=4)\n",
    "vf, slip = slip_utils.get_value_function_gait(torch.Tensor([0., 0., 0.]), N=3)\n",
    "V = vf.get_value_function()"
   ]
  },
  {
   "cell_type": "code",
   "execution_count": null,
   "metadata": {},
   "outputs": [],
   "source": [
    "xf = torch.Tensor([2.5, 1.1, 0.])\n",
    "xtraj = xf.type(vf.dtype).unsqueeze(1).repeat(1, vf.N-1)\n",
    "vf.set_traj(xtraj=xtraj)\n",
    "count = 0\n",
    "for xdot in np.linspace(3, 9, 10):\n",
    "    for z in np.linspace(.9, 1.25, 10):\n",
    "        x0 = torch.Tensor([0., z, xdot]).type(vf.dtype)\n",
    "        (x_traj, u_traj, alpha_traj) = vf.sol_to_traj(x0, *V(x0)[1:])\n",
    "        if x_traj is not None:\n",
    "            print([z, xdot, u_traj[0,0], u_traj[0,1]])\n",
    "            count += 1\n",
    "print(count)"
   ]
  },
  {
   "cell_type": "code",
   "execution_count": null,
   "metadata": {},
   "outputs": [],
   "source": [
    "xf = torch.Tensor([9., 1.25, 0.])\n",
    "xtraj = xf.type(vf.dtype).unsqueeze(1).repeat(1, vf.N-1)\n",
    "vf.set_traj(xtraj=xtraj)\n",
    "\n",
    "# x0 = torch.Tensor([0., 1.12, 7.]).type(vf.dtype)\n",
    "x0 = torch.rand(vf.sys.x_dim) * (x0_up - x0_lo) + x0_lo\n",
    "x0_lo = torch.Tensor([0, .95, 4.]).type(vf.dtype)\n",
    "x0_up = torch.Tensor([0, 1.25, 9.]).type(vf.dtype)\n",
    "\n",
    "V = vf.get_value_function()\n",
    "(x_traj, u_traj, alpha_traj) = vf.sol_to_traj(x0, *V(x0)[1:])\n",
    "print(x0)\n",
    "print(u_traj)"
   ]
  },
  {
   "cell_type": "code",
   "execution_count": null,
   "metadata": {},
   "outputs": [],
   "source": [
    "fig = plotting_utils.slip_traj(slip, x_traj, u_traj, xf)\n",
    "fig.show()"
   ]
  },
  {
   "cell_type": "code",
   "execution_count": null,
   "metadata": {},
   "outputs": [],
   "source": [
    "import slip_utils\n",
    "\n",
    "vf, slip = slip_utils.get_value_function_gait(torch.Tensor([0., 0., 0.]), N=3)"
   ]
  },
  {
   "cell_type": "code",
   "execution_count": null,
   "metadata": {},
   "outputs": [],
   "source": [
    "xf = torch.Tensor([0., 1.2, 5]).type(vf.dtype)\n",
    "xtraj = xf.type(vf.dtype).unsqueeze(1).repeat(1, vf.N-1)\n",
    "vf.set_traj(xtraj=xtraj)"
   ]
  },
  {
   "cell_type": "code",
   "execution_count": null,
   "metadata": {},
   "outputs": [],
   "source": [
    "x0 = xf.clone()\n",
    "\n",
    "V = vf.get_value_function()\n",
    "(x_traj, u_traj, alpha_traj) = vf.sol_to_traj(x0, *V(x0)[1:])\n",
    "print(x0)\n",
    "print(u_traj)"
   ]
  },
  {
   "cell_type": "code",
   "execution_count": null,
   "metadata": {},
   "outputs": [],
   "source": [
    "fig = plotting_utils.slip_traj(slip, x_traj, u_traj, xf)\n",
    "fig.show()"
   ]
  },
  {
   "cell_type": "code",
   "execution_count": null,
   "metadata": {},
   "outputs": [],
   "source": [
    "x0_lo = torch.Tensor([0, .95, 4.]).type(vf.dtype)\n",
    "x0_up = torch.Tensor([0, 1.25, 9.]).type(vf.dtype)\n",
    "\n",
    "# validation options\n",
    "num_breaks_validation = [1, 70, 70]\n",
    "\n",
    "# data file options\n",
    "sys_name = 'slip'\n",
    "x_samples_file = '../data/learn_value_function_' + sys_name + '_x'\n",
    "v_samples_file = '../data/learn_value_function_' + sys_name + '_v'\n",
    "model_file = '../data/' + sys_name\n",
    "\n",
    "# neural network options\n",
    "nn_width = 64\n",
    "nn_depth = 1\n",
    "\n",
    "# setting up adversarial training options\n",
    "train_opt = train_value.AdversarialWithBaselineTrainingOptions()\n",
    "train_opt.num_iter_desired = 10000\n",
    "train_opt.num_steps_between_sampling = 500\n",
    "train_opt.init_buffer_size = 1000\n",
    "train_opt.init_num_train_steps = 2000\n",
    "train_opt.num_rand_extra = 0\n",
    "train_opt.num_x_adv_opt = 20\n",
    "train_opt.x_adv_max_iter = 2\n",
    "train_opt.x_adv_conv_tol = 1e-5\n",
    "train_opt.x_adv_lr = .2\n",
    "train_opt.batch_size = 150\n",
    "train_opt.max_buffer_size = 100000\n",
    "\n",
    "num_training_run = 1"
   ]
  },
  {
   "cell_type": "code",
   "execution_count": null,
   "metadata": {},
   "outputs": [],
   "source": [
    "# checking the spread of trajectories for sanity check\n",
    "fig = plotting_utils.rollout_range(vf, x0_lo, x0_up, [1, 2], [\"x\", \"y\", \"xdot\"], n=30)\n",
    "fig.show()"
   ]
  },
  {
   "cell_type": "code",
   "execution_count": null,
   "metadata": {},
   "outputs": [],
   "source": [
    "adv = train_value.AdversarialWithBaseline(vf, x0_lo, x0_up)\n",
    "x_samples_init, v_samples_init = adv.get_random_samples(train_opt.init_buffer_size)"
   ]
  },
  {
   "cell_type": "code",
   "execution_count": null,
   "metadata": {},
   "outputs": [],
   "source": [
    "torch.save(x_samples_init, x_samples_file + 'gait_init.pt')\n",
    "torch.save(v_samples_init, v_samples_file + 'gait_init.pt')"
   ]
  },
  {
   "cell_type": "code",
   "execution_count": null,
   "metadata": {},
   "outputs": [],
   "source": [
    "x_samples_init = torch.load(x_samples_file + 'gait_init.pt')\n",
    "v_samples_init = torch.load(v_samples_file + 'gait_init.pt')"
   ]
  },
  {
   "cell_type": "code",
   "execution_count": null,
   "metadata": {},
   "outputs": [],
   "source": [
    "fig = go.Figure()\n",
    "fig.add_trace(go.Scatter(\n",
    "    y = v_samples_init.squeeze(),\n",
    "))\n",
    "fig.show()"
   ]
  },
  {
   "cell_type": "code",
   "execution_count": null,
   "metadata": {},
   "outputs": [],
   "source": [
    "training_runs = []\n",
    "baseline_models = []\n",
    "robust_models = []"
   ]
  },
  {
   "cell_type": "code",
   "execution_count": null,
   "metadata": {},
   "outputs": [],
   "source": [
    "num_fresh_runs = 1\n",
    "for run_i in range(num_fresh_runs):\n",
    "    adv = train_value.AdversarialWithBaseline(vf, x0_lo, x0_up,\n",
    "                                              nn_width=nn_width, nn_depth=nn_depth,\n",
    "#                                               x_samples_validation=x_samples_validation,\n",
    "#                                               v_samples_validation=v_samples_validation,\n",
    "                                              x_samples_validation=x_samples_init,\n",
    "                                              v_samples_validation=v_samples_init,\n",
    "                                              x_samples_init=x_samples_init[:train_opt.init_buffer_size,:],\n",
    "                                              v_samples_init=v_samples_init[:train_opt.init_buffer_size,:])\n",
    "    state_log = []\n",
    "    for _ in range(num_training_run):\n",
    "        adv.train(train_opt)\n",
    "#         adv.train_no_benchmark(train_opt)\n",
    "        state_log.append(adv.get_state())\n",
    "    training_runs.append(state_log)\n",
    "    baseline_models.append(copy.deepcopy(adv.baseline_model))\n",
    "    robust_models.append(copy.deepcopy(adv.robust_model))\n",
    "    utils.update_progress((run_i + 1) / num_fresh_runs)"
   ]
  },
  {
   "cell_type": "code",
   "execution_count": null,
   "metadata": {},
   "outputs": [],
   "source": [
    "vf, slip = slip_utils.get_value_function_gait(torch.Tensor([0., 1.2, 5]), N=3+1)\n",
    "V = vf.get_value_function()\n",
    "vf_next, slip_next = slip_utils.get_value_function_gait(torch.Tensor([0., 1.2, 5]), N=3)\n",
    "V_next = vf_next.get_value_function()"
   ]
  },
  {
   "cell_type": "code",
   "execution_count": null,
   "metadata": {},
   "outputs": [],
   "source": [
    "# robust_ctrl = relu_mpc.ReLUMPC(vf, robust_models[0])\n",
    "# baseline_ctrl = relu_mpc.ReLUMPC(vf, baseline_models[0])\n",
    "robust_ctrl = relu_mpc.ReLUMPC(vf, adv.robust_model)\n",
    "baseline_ctrl = relu_mpc.ReLUMPC(vf, adv.baseline_model)\n",
    "def eval_one_step_ctrl(ctrl, x0_samp):\n",
    "    (u0, x1) = ctrl.get_ctrl(x0_samp)\n",
    "    if u0 is None:\n",
    "        return (None, None, None)\n",
    "    (x_traj_next, u_traj_next, alpha_traj_next) = vf_next.sol_to_traj(x1, *V_next(x1)[1:])\n",
    "    if x_traj_next is None:\n",
    "        return (None, None, None)\n",
    "    x_traj = torch.cat((x0_samp.unsqueeze(0).t(), x_traj_next), axis=1)\n",
    "    u_traj = torch.cat((u0.unsqueeze(0).t(), u_traj_next), axis=1)\n",
    "    # assumes no cost on alpha! (true on all benchmarks)    \n",
    "    value = vf.traj_cost(x_traj[:,1:], u_traj)\n",
    "    return (value, x_traj, u_traj)"
   ]
  },
  {
   "cell_type": "code",
   "execution_count": null,
   "metadata": {},
   "outputs": [],
   "source": [
    "num_samples = 10\n",
    "# sample_down = 100\n",
    "# num_samples = int(x_samples_validation.shape[0] / sample_down)\n",
    "for i in range(num_samples):\n",
    "    x0_samp = torch.rand(vf.sys.x_dim) * (x0_up - x0_lo) + x0_lo\n",
    "#     x0_samp = x_samples_validation[i*sample_down,:]\n",
    "\n",
    "    optimal_value, opt_s, opt_alpha = V(x0_samp)\n",
    "    if optimal_value is None:\n",
    "        print(\"opt bad\")\n",
    "        continue\n",
    "    (x_traj_opt, u_traj_opt, alpha_traj_opt) = vf.sol_to_traj(x0_samp, opt_s, opt_alpha)\n",
    "    \n",
    "#     (baseline_value, baseline_x_traj, baseline_u_traj) = eval_one_step_ctrl(baseline_ctrl, x0_samp)\n",
    "#     if baseline_value is None:\n",
    "#         print(\"baseline bad\")\n",
    "#         continue\n",
    "    \n",
    "    (robust_value, robust_x_traj, robust_u_traj) = eval_one_step_ctrl(robust_ctrl, x0_samp)\n",
    "    if robust_value is None:\n",
    "        print(\"robust bad\")\n",
    "        continue\n",
    "\n",
    "#     if robust_value < baseline_value:\n",
    "    print(x0_samp)\n",
    "    print(\"Robust: \" + str(robust_value))\n",
    "    print(robust_u_traj)\n",
    "    print(robust_x_traj)\n",
    "#         print(\"Baseline: \" + str(baseline_value))\n",
    "#         print(baseline_u_traj)\n",
    "#         print(baseline_x_traj)\n",
    "    print(\"Optimal:\" + str(optimal_value))\n",
    "    print(u_traj_opt)\n",
    "    print(x_traj_opt)\n",
    "    print(\"---\")\n",
    "        \n",
    "    print(i)"
   ]
  },
  {
   "cell_type": "code",
   "execution_count": null,
   "metadata": {},
   "outputs": [],
   "source": [
    "# x0_samp = torch.Tensor([0.0000, 1.2363, 6.2168]).type(vf.dtype)\n",
    "x0_samp = torch.Tensor([0.0000, 1.0912, 8.2804]).type(vf.dtype)\n",
    "\n",
    "optimal_value, opt_s, opt_alpha = V(x0_samp)\n",
    "if optimal_value is None:\n",
    "    print(\"opt bad\")\n",
    "(x_traj_opt, u_traj_opt, alpha_traj_opt) = vf.sol_to_traj(x0_samp, opt_s, opt_alpha)\n",
    "print(u_traj_opt)"
   ]
  },
  {
   "cell_type": "code",
   "execution_count": null,
   "metadata": {},
   "outputs": [],
   "source": [
    "fig = plotting_utils.slip_traj(slip, x_traj_opt[:,:-1], u_traj_opt[:,:-1], xf)\n",
    "fig.show()"
   ]
  },
  {
   "cell_type": "code",
   "execution_count": null,
   "metadata": {},
   "outputs": [],
   "source": [
    "(robust_value, robust_x_traj, robust_u_traj) = eval_one_step_ctrl(robust_ctrl, x0_samp)\n",
    "if robust_value is None:\n",
    "    print(\"robust bad\")\n",
    "print(robust_u_traj)"
   ]
  },
  {
   "cell_type": "code",
   "execution_count": null,
   "metadata": {
    "scrolled": false
   },
   "outputs": [],
   "source": [
    "fig = plotting_utils.slip_traj(slip, robust_x_traj[:,:-1], robust_u_traj[:,:-1], xf)\n",
    "fig.show()"
   ]
  },
  {
   "cell_type": "code",
   "execution_count": null,
   "metadata": {},
   "outputs": [],
   "source": [
    "(baseline_value, baseline_x_traj, baseline_u_traj) = eval_one_step_ctrl(baseline_ctrl, x0_samp)\n",
    "if baseline_value is None:\n",
    "    print(\"baseline bad\")\n",
    "print(baseline_u_traj)"
   ]
  },
  {
   "cell_type": "code",
   "execution_count": null,
   "metadata": {},
   "outputs": [],
   "source": [
    "fig = plotting_utils.slip_traj(slip, baseline_x_traj[:,:-1], baseline_u_traj[:,:-1], xf)\n",
    "fig.show()"
   ]
  },
  {
   "cell_type": "code",
   "execution_count": null,
   "metadata": {},
   "outputs": [],
   "source": [
    "cost_opt = torch.Tensor(0, 1).type(vf.dtype)\n",
    "cost_baseline = torch.Tensor(0, 1).type(vf.dtype)\n",
    "cost_robust = torch.Tensor(0, 1).type(vf.dtype)"
   ]
  },
  {
   "cell_type": "code",
   "execution_count": null,
   "metadata": {},
   "outputs": [],
   "source": [
    "x_samples_validation = x_samples_init\n",
    "# num_samples = 100\n",
    "sample_down = 10\n",
    "num_samples = int(x_samples_validation.shape[0] / sample_down)\n",
    "for i in range(num_samples):\n",
    "#     x0_samp = torch.rand(vf.sys.x_dim) * (x0_up - x0_lo) + x0_lo\n",
    "    x0_samp = x_samples_validation[i*sample_down,:]\n",
    "    \n",
    "    optimal_value, opt_s, opt_alpha = V(x0_samp)\n",
    "    if optimal_value is None:\n",
    "        print(\"opt bad\")\n",
    "        continue\n",
    "    (x_traj_opt, u_traj_opt, alpha_traj_opt) = vf.sol_to_traj(x0_samp, opt_s, opt_alpha)\n",
    "    \n",
    "    (baseline_value, baseline_x_traj, baseline_u_traj) = eval_one_step_ctrl(baseline_ctrl, x0_samp)\n",
    "    if baseline_value is None:\n",
    "        print(\"baseline bad\")\n",
    "        continue\n",
    "    \n",
    "    (robust_value, robust_x_traj, robust_u_traj) = eval_one_step_ctrl(robust_ctrl, x0_samp)\n",
    "    if robust_value is None:\n",
    "        print(\"robust bad\")\n",
    "        continue\n",
    "    \n",
    "    cost_opt = torch.cat((cost_opt, torch.Tensor([[optimal_value]]).type(vf.dtype)), 0)\n",
    "    cost_baseline = torch.cat((cost_baseline, torch.Tensor([[baseline_value.item()]]).type(vf.dtype)), 0)\n",
    "    cost_robust = torch.cat((cost_robust, torch.Tensor([[robust_value.item()]]).type(vf.dtype)), 0)                                                               \n",
    "    utils.update_progress((i + 1) / num_samples)"
   ]
  },
  {
   "cell_type": "code",
   "execution_count": null,
   "metadata": {},
   "outputs": [],
   "source": [
    "fig = plotting_utils.control_perf(cost_opt, cost_baseline, cost_robust, nbin=40, bartop=160, clamp_val=100000)\n",
    "fig.show()"
   ]
  },
  {
   "cell_type": "code",
   "execution_count": null,
   "metadata": {},
   "outputs": [],
   "source": [
    "print(\"Robust mean: \" + str(torch.mean(cost_robust - cost_opt).item()))\n",
    "print(\"Baseline mean: \" + str(torch.mean(cost_baseline - cost_opt).item()))"
   ]
  },
  {
   "cell_type": "code",
   "execution_count": null,
   "metadata": {},
   "outputs": [],
   "source": [
    "x_samples_validation = x_samples_init\n",
    "# num_samples = 100\n",
    "sample_down = 10\n",
    "num_samples = int(x_samples_validation.shape[0] / sample_down)\n",
    "for i in range(num_samples):\n",
    "#     x0_samp = torch.rand(vf.sys.x_dim) * (x0_up - x0_lo) + x0_lo\n",
    "    x0_samp = x_samples_validation[i*sample_down,:]\n",
    "\n",
    "    optimal_value, opt_s, opt_alpha = V(x0_samp)\n",
    "    if optimal_value is None:\n",
    "        print(\"opt bad\")\n",
    "        continue\n",
    "    (x_traj_opt, u_traj_opt, alpha_traj_opt) = vf.sol_to_traj(x0_samp, opt_s, opt_alpha)\n",
    "    \n",
    "    (baseline_value, baseline_x_traj, baseline_u_traj) = eval_one_step_ctrl(baseline_ctrl, x0_samp)\n",
    "    if baseline_value is None:\n",
    "        print(\"baseline bad\")\n",
    "        continue\n",
    "    \n",
    "    (robust_value, robust_x_traj, robust_u_traj) = eval_one_step_ctrl(robust_ctrl, x0_samp)\n",
    "    if robust_value is None:\n",
    "        print(\"robust bad\")\n",
    "        continue\n",
    "\n",
    "    if robust_value < baseline_value:\n",
    "        print(x0_samp)\n",
    "        print(\"Robust: \" + str(robust_value))\n",
    "        print(robust_u_traj)\n",
    "        print(robust_x_traj)\n",
    "        print(\"Baseline: \" + str(baseline_value))\n",
    "        print(baseline_u_traj)\n",
    "        print(baseline_x_traj)\n",
    "        print(\"Optimal:\" + str(optimal_value))\n",
    "        print(u_traj_opt)\n",
    "        print(x_traj_opt)\n",
    "        print(\"---\")\n",
    "        \n",
    "    print(i)"
   ]
  }
 ],
 "metadata": {
  "kernelspec": {
   "display_name": "Python 3",
   "language": "python",
   "name": "python3"
  },
  "language_info": {
   "codemirror_mode": {
    "name": "ipython",
    "version": 3
   },
   "file_extension": ".py",
   "mimetype": "text/x-python",
   "name": "python",
   "nbconvert_exporter": "python",
   "pygments_lexer": "ipython3",
   "version": "3.7.5"
  }
 },
 "nbformat": 4,
 "nbformat_minor": 2
}
