{
 "cells": [
  {
   "cell_type": "code",
   "execution_count": 1,
   "metadata": {},
   "outputs": [],
   "source": [
    "%load_ext autoreload\n",
    "%autoreload 2"
   ]
  },
  {
   "cell_type": "code",
   "execution_count": 2,
   "metadata": {},
   "outputs": [
    {
     "data": {
      "text/html": [
       "        <script type=\"text/javascript\">\n",
       "        window.PlotlyConfig = {MathJaxConfig: 'local'};\n",
       "        if (window.MathJax) {MathJax.Hub.Config({SVG: {font: \"STIX-Web\"}});}\n",
       "        if (typeof require !== 'undefined') {\n",
       "        require.undef(\"plotly\");\n",
       "        requirejs.config({\n",
       "            paths: {\n",
       "                'plotly': ['https://cdn.plot.ly/plotly-latest.min']\n",
       "            }\n",
       "        });\n",
       "        require(['plotly'], function(Plotly) {\n",
       "            window._Plotly = Plotly;\n",
       "        });\n",
       "        }\n",
       "        </script>\n",
       "        "
      ]
     },
     "metadata": {},
     "output_type": "display_data"
    },
    {
     "name": "stderr",
     "output_type": "stream",
     "text": [
      "/Users/blandry/Code/robust-value-approx/robust_value_approx/samples_generator.py:4: _DrakeImportWarning:\n",
      "\n",
      "\n",
      "You may have already (directly or indirectly) imported `torch` which uses\n",
      "`RTLD_GLOBAL`. Using `RTLD_GLOBAL` may cause symbol collisions which manifest\n",
      "themselves in bugs like \"free(): invalid pointer\". Please consider importing\n",
      "`pydrake` (and related C++-wrapped libraries like `cv2`, `open3d`, etc.)\n",
      "*before* importing `torch`. For more details, see:\n",
      "https://github.com/pytorch/pytorch/issues/3059#issuecomment-534676459\n",
      "\n",
      "\n"
     ]
    }
   ],
   "source": [
    "import sys\n",
    "sys.path.append(\"..\")\n",
    "sys.path.append(\".\")\n",
    "import torch\n",
    "import numpy as np\n",
    "import copy\n",
    "import plotly\n",
    "import plotly.graph_objs as go\n",
    "import pickle\n",
    "from datetime import datetime\n",
    "plotly.offline.init_notebook_mode(connected=True)\n",
    "\n",
    "import robust_value_approx.samples_generator as samples_generator\n",
    "import robust_value_approx.samples_buffer as samples_buffer\n",
    "import robust_value_approx.value_approximation as value_approximation\n",
    "import robust_value_approx.training_log as training_log\n",
    "import robust_value_approx.controllers as controllers\n",
    "\n",
    "import double_pendulum_utils"
   ]
  },
  {
   "cell_type": "markdown",
   "metadata": {},
   "source": [
    "# Double Pendulum"
   ]
  },
  {
   "cell_type": "code",
   "execution_count": 3,
   "metadata": {},
   "outputs": [],
   "source": [
    "vf, sys = double_pendulum_utils.get_value_function(20)\n",
    "V = vf.get_value_function()"
   ]
  },
  {
   "cell_type": "code",
   "execution_count": 4,
   "metadata": {},
   "outputs": [
    {
     "data": {
      "application/vnd.plotly.v1+json": {
       "config": {
        "plotlyServerURL": "https://plot.ly"
       },
       "data": [
        {
         "name": "theta1",
         "type": "scatter",
         "x": [
          0,
          0.20000000298023224,
          0.4000000059604645,
          0.6000000089406967,
          0.800000011920929,
          1.0000000149011612,
          1.2000000178813934,
          1.4000000208616257,
          1.600000023841858,
          1.8000000268220901,
          2.0000000298023224,
          2.2000000327825546,
          2.400000035762787,
          2.600000038743019,
          2.8000000417232513,
          3.0000000447034836,
          3.200000047683716,
          3.400000050663948,
          3.6000000536441803,
          3.8000000566244125
         ],
         "y": [
          3.34159255027771,
          3.406423807144165,
          3.396350622177124,
          3.333848476409912,
          3.262706995010376,
          3.2053136825561523,
          3.166684150695801,
          3.1435678005218506,
          3.130945920944214,
          3.1248066425323486,
          3.122541904449463,
          3.122565269470215,
          3.1239278316497803,
          3.1260836124420166,
          3.1287643909454346,
          3.131922721862793,
          3.1357226371765137,
          3.1405670642852783,
          3.147167444229126,
          3.1560776233673096
         ]
        },
        {
         "name": "theta2",
         "type": "scatter",
         "x": [
          0,
          0.20000000298023224,
          0.4000000059604645,
          0.6000000089406967,
          0.800000011920929,
          1.0000000149011612,
          1.2000000178813934,
          1.4000000208616257,
          1.600000023841858,
          1.8000000268220901,
          2.0000000298023224,
          2.2000000327825546,
          2.400000035762787,
          2.600000038743019,
          2.8000000417232513,
          3.0000000447034836,
          3.200000047683716,
          3.400000050663948,
          3.6000000536441803,
          3.8000000566244125
         ],
         "y": [
          0.10000000149011612,
          0.5963084101676941,
          0.8928800821304321,
          1.0197553634643555,
          1.0185136795043945,
          0.9319484233856201,
          0.8037427663803101,
          0.6667191982269287,
          0.5396914482116699,
          0.430512398481369,
          0.34062957763671875,
          0.268554151058197,
          0.21181391179561615,
          0.16786473989486694,
          0.13446153700351715,
          0.10978168994188309,
          0.09245491772890091,
          0.08157521486282349,
          0.07674351334571838,
          0.07959530502557755
         ]
        },
        {
         "name": "theta1_dot",
         "type": "scatter",
         "x": [
          0,
          0.20000000298023224,
          0.4000000059604645,
          0.6000000089406967,
          0.800000011920929,
          1.0000000149011612,
          1.2000000178813934,
          1.4000000208616257,
          1.600000023841858,
          1.8000000268220901,
          2.0000000298023224,
          2.2000000327825546,
          2.400000035762787,
          2.600000038743019,
          2.8000000417232513,
          3.0000000447034836,
          3.200000047683716,
          3.400000050663948,
          3.6000000536441803,
          3.8000000566244125
         ],
         "y": [
          0.5,
          0.1483110636472702,
          -0.24904337525367737,
          -0.37597790360450745,
          -0.3354369103908539,
          -0.23849521577358246,
          -0.14780084788799286,
          -0.08336105942726135,
          -0.04285866394639015,
          -0.018534598872065544,
          -0.004113523755222559,
          0.004348071292042732,
          0.00927820149809122,
          0.012279595248401165,
          0.014526546001434326,
          0.017057763412594795,
          0.020942378789186478,
          0.027501357719302177,
          0.03850163146853447,
          0.0505995936691761
         ]
        },
        {
         "name": "theta2_dot",
         "type": "scatter",
         "x": [
          0,
          0.20000000298023224,
          0.4000000059604645,
          0.6000000089406967,
          0.800000011920929,
          1.0000000149011612,
          1.2000000178813934,
          1.4000000208616257,
          1.600000023841858,
          1.8000000268220901,
          2.0000000298023224,
          2.2000000327825546,
          2.400000035762787,
          2.600000038743019,
          2.8000000417232513,
          3.0000000447034836,
          3.200000047683716,
          3.400000050663948,
          3.6000000536441803,
          3.8000000566244125
         ],
         "y": [
          3,
          1.963084101676941,
          1.0026323795318604,
          0.26612022519111633,
          -0.27853652834892273,
          -0.5871164798736572,
          -0.6949400901794434,
          -0.675295352935791,
          -0.5949820876121521,
          -0.49680861830711365,
          -0.40201956033706665,
          -0.318734735250473,
          -0.24866753816604614,
          -0.19082412123680115,
          -0.14320790767669678,
          -0.10359063744544983,
          -0.06967703253030777,
          -0.039120059460401535,
          -0.00919695757329464,
          0.0377148799598217
         ]
        }
       ],
       "layout": {
        "template": {
         "data": {
          "bar": [
           {
            "error_x": {
             "color": "#2a3f5f"
            },
            "error_y": {
             "color": "#2a3f5f"
            },
            "marker": {
             "line": {
              "color": "#E5ECF6",
              "width": 0.5
             }
            },
            "type": "bar"
           }
          ],
          "barpolar": [
           {
            "marker": {
             "line": {
              "color": "#E5ECF6",
              "width": 0.5
             }
            },
            "type": "barpolar"
           }
          ],
          "carpet": [
           {
            "aaxis": {
             "endlinecolor": "#2a3f5f",
             "gridcolor": "white",
             "linecolor": "white",
             "minorgridcolor": "white",
             "startlinecolor": "#2a3f5f"
            },
            "baxis": {
             "endlinecolor": "#2a3f5f",
             "gridcolor": "white",
             "linecolor": "white",
             "minorgridcolor": "white",
             "startlinecolor": "#2a3f5f"
            },
            "type": "carpet"
           }
          ],
          "choropleth": [
           {
            "colorbar": {
             "outlinewidth": 0,
             "ticks": ""
            },
            "type": "choropleth"
           }
          ],
          "contour": [
           {
            "colorbar": {
             "outlinewidth": 0,
             "ticks": ""
            },
            "colorscale": [
             [
              0,
              "#0d0887"
             ],
             [
              0.1111111111111111,
              "#46039f"
             ],
             [
              0.2222222222222222,
              "#7201a8"
             ],
             [
              0.3333333333333333,
              "#9c179e"
             ],
             [
              0.4444444444444444,
              "#bd3786"
             ],
             [
              0.5555555555555556,
              "#d8576b"
             ],
             [
              0.6666666666666666,
              "#ed7953"
             ],
             [
              0.7777777777777778,
              "#fb9f3a"
             ],
             [
              0.8888888888888888,
              "#fdca26"
             ],
             [
              1,
              "#f0f921"
             ]
            ],
            "type": "contour"
           }
          ],
          "contourcarpet": [
           {
            "colorbar": {
             "outlinewidth": 0,
             "ticks": ""
            },
            "type": "contourcarpet"
           }
          ],
          "heatmap": [
           {
            "colorbar": {
             "outlinewidth": 0,
             "ticks": ""
            },
            "colorscale": [
             [
              0,
              "#0d0887"
             ],
             [
              0.1111111111111111,
              "#46039f"
             ],
             [
              0.2222222222222222,
              "#7201a8"
             ],
             [
              0.3333333333333333,
              "#9c179e"
             ],
             [
              0.4444444444444444,
              "#bd3786"
             ],
             [
              0.5555555555555556,
              "#d8576b"
             ],
             [
              0.6666666666666666,
              "#ed7953"
             ],
             [
              0.7777777777777778,
              "#fb9f3a"
             ],
             [
              0.8888888888888888,
              "#fdca26"
             ],
             [
              1,
              "#f0f921"
             ]
            ],
            "type": "heatmap"
           }
          ],
          "heatmapgl": [
           {
            "colorbar": {
             "outlinewidth": 0,
             "ticks": ""
            },
            "colorscale": [
             [
              0,
              "#0d0887"
             ],
             [
              0.1111111111111111,
              "#46039f"
             ],
             [
              0.2222222222222222,
              "#7201a8"
             ],
             [
              0.3333333333333333,
              "#9c179e"
             ],
             [
              0.4444444444444444,
              "#bd3786"
             ],
             [
              0.5555555555555556,
              "#d8576b"
             ],
             [
              0.6666666666666666,
              "#ed7953"
             ],
             [
              0.7777777777777778,
              "#fb9f3a"
             ],
             [
              0.8888888888888888,
              "#fdca26"
             ],
             [
              1,
              "#f0f921"
             ]
            ],
            "type": "heatmapgl"
           }
          ],
          "histogram": [
           {
            "marker": {
             "colorbar": {
              "outlinewidth": 0,
              "ticks": ""
             }
            },
            "type": "histogram"
           }
          ],
          "histogram2d": [
           {
            "colorbar": {
             "outlinewidth": 0,
             "ticks": ""
            },
            "colorscale": [
             [
              0,
              "#0d0887"
             ],
             [
              0.1111111111111111,
              "#46039f"
             ],
             [
              0.2222222222222222,
              "#7201a8"
             ],
             [
              0.3333333333333333,
              "#9c179e"
             ],
             [
              0.4444444444444444,
              "#bd3786"
             ],
             [
              0.5555555555555556,
              "#d8576b"
             ],
             [
              0.6666666666666666,
              "#ed7953"
             ],
             [
              0.7777777777777778,
              "#fb9f3a"
             ],
             [
              0.8888888888888888,
              "#fdca26"
             ],
             [
              1,
              "#f0f921"
             ]
            ],
            "type": "histogram2d"
           }
          ],
          "histogram2dcontour": [
           {
            "colorbar": {
             "outlinewidth": 0,
             "ticks": ""
            },
            "colorscale": [
             [
              0,
              "#0d0887"
             ],
             [
              0.1111111111111111,
              "#46039f"
             ],
             [
              0.2222222222222222,
              "#7201a8"
             ],
             [
              0.3333333333333333,
              "#9c179e"
             ],
             [
              0.4444444444444444,
              "#bd3786"
             ],
             [
              0.5555555555555556,
              "#d8576b"
             ],
             [
              0.6666666666666666,
              "#ed7953"
             ],
             [
              0.7777777777777778,
              "#fb9f3a"
             ],
             [
              0.8888888888888888,
              "#fdca26"
             ],
             [
              1,
              "#f0f921"
             ]
            ],
            "type": "histogram2dcontour"
           }
          ],
          "mesh3d": [
           {
            "colorbar": {
             "outlinewidth": 0,
             "ticks": ""
            },
            "type": "mesh3d"
           }
          ],
          "parcoords": [
           {
            "line": {
             "colorbar": {
              "outlinewidth": 0,
              "ticks": ""
             }
            },
            "type": "parcoords"
           }
          ],
          "pie": [
           {
            "automargin": true,
            "type": "pie"
           }
          ],
          "scatter": [
           {
            "marker": {
             "colorbar": {
              "outlinewidth": 0,
              "ticks": ""
             }
            },
            "type": "scatter"
           }
          ],
          "scatter3d": [
           {
            "line": {
             "colorbar": {
              "outlinewidth": 0,
              "ticks": ""
             }
            },
            "marker": {
             "colorbar": {
              "outlinewidth": 0,
              "ticks": ""
             }
            },
            "type": "scatter3d"
           }
          ],
          "scattercarpet": [
           {
            "marker": {
             "colorbar": {
              "outlinewidth": 0,
              "ticks": ""
             }
            },
            "type": "scattercarpet"
           }
          ],
          "scattergeo": [
           {
            "marker": {
             "colorbar": {
              "outlinewidth": 0,
              "ticks": ""
             }
            },
            "type": "scattergeo"
           }
          ],
          "scattergl": [
           {
            "marker": {
             "colorbar": {
              "outlinewidth": 0,
              "ticks": ""
             }
            },
            "type": "scattergl"
           }
          ],
          "scattermapbox": [
           {
            "marker": {
             "colorbar": {
              "outlinewidth": 0,
              "ticks": ""
             }
            },
            "type": "scattermapbox"
           }
          ],
          "scatterpolar": [
           {
            "marker": {
             "colorbar": {
              "outlinewidth": 0,
              "ticks": ""
             }
            },
            "type": "scatterpolar"
           }
          ],
          "scatterpolargl": [
           {
            "marker": {
             "colorbar": {
              "outlinewidth": 0,
              "ticks": ""
             }
            },
            "type": "scatterpolargl"
           }
          ],
          "scatterternary": [
           {
            "marker": {
             "colorbar": {
              "outlinewidth": 0,
              "ticks": ""
             }
            },
            "type": "scatterternary"
           }
          ],
          "surface": [
           {
            "colorbar": {
             "outlinewidth": 0,
             "ticks": ""
            },
            "colorscale": [
             [
              0,
              "#0d0887"
             ],
             [
              0.1111111111111111,
              "#46039f"
             ],
             [
              0.2222222222222222,
              "#7201a8"
             ],
             [
              0.3333333333333333,
              "#9c179e"
             ],
             [
              0.4444444444444444,
              "#bd3786"
             ],
             [
              0.5555555555555556,
              "#d8576b"
             ],
             [
              0.6666666666666666,
              "#ed7953"
             ],
             [
              0.7777777777777778,
              "#fb9f3a"
             ],
             [
              0.8888888888888888,
              "#fdca26"
             ],
             [
              1,
              "#f0f921"
             ]
            ],
            "type": "surface"
           }
          ],
          "table": [
           {
            "cells": {
             "fill": {
              "color": "#EBF0F8"
             },
             "line": {
              "color": "white"
             }
            },
            "header": {
             "fill": {
              "color": "#C8D4E3"
             },
             "line": {
              "color": "white"
             }
            },
            "type": "table"
           }
          ]
         },
         "layout": {
          "annotationdefaults": {
           "arrowcolor": "#2a3f5f",
           "arrowhead": 0,
           "arrowwidth": 1
          },
          "coloraxis": {
           "colorbar": {
            "outlinewidth": 0,
            "ticks": ""
           }
          },
          "colorscale": {
           "diverging": [
            [
             0,
             "#8e0152"
            ],
            [
             0.1,
             "#c51b7d"
            ],
            [
             0.2,
             "#de77ae"
            ],
            [
             0.3,
             "#f1b6da"
            ],
            [
             0.4,
             "#fde0ef"
            ],
            [
             0.5,
             "#f7f7f7"
            ],
            [
             0.6,
             "#e6f5d0"
            ],
            [
             0.7,
             "#b8e186"
            ],
            [
             0.8,
             "#7fbc41"
            ],
            [
             0.9,
             "#4d9221"
            ],
            [
             1,
             "#276419"
            ]
           ],
           "sequential": [
            [
             0,
             "#0d0887"
            ],
            [
             0.1111111111111111,
             "#46039f"
            ],
            [
             0.2222222222222222,
             "#7201a8"
            ],
            [
             0.3333333333333333,
             "#9c179e"
            ],
            [
             0.4444444444444444,
             "#bd3786"
            ],
            [
             0.5555555555555556,
             "#d8576b"
            ],
            [
             0.6666666666666666,
             "#ed7953"
            ],
            [
             0.7777777777777778,
             "#fb9f3a"
            ],
            [
             0.8888888888888888,
             "#fdca26"
            ],
            [
             1,
             "#f0f921"
            ]
           ],
           "sequentialminus": [
            [
             0,
             "#0d0887"
            ],
            [
             0.1111111111111111,
             "#46039f"
            ],
            [
             0.2222222222222222,
             "#7201a8"
            ],
            [
             0.3333333333333333,
             "#9c179e"
            ],
            [
             0.4444444444444444,
             "#bd3786"
            ],
            [
             0.5555555555555556,
             "#d8576b"
            ],
            [
             0.6666666666666666,
             "#ed7953"
            ],
            [
             0.7777777777777778,
             "#fb9f3a"
            ],
            [
             0.8888888888888888,
             "#fdca26"
            ],
            [
             1,
             "#f0f921"
            ]
           ]
          },
          "colorway": [
           "#636efa",
           "#EF553B",
           "#00cc96",
           "#ab63fa",
           "#FFA15A",
           "#19d3f3",
           "#FF6692",
           "#B6E880",
           "#FF97FF",
           "#FECB52"
          ],
          "font": {
           "color": "#2a3f5f"
          },
          "geo": {
           "bgcolor": "white",
           "lakecolor": "white",
           "landcolor": "#E5ECF6",
           "showlakes": true,
           "showland": true,
           "subunitcolor": "white"
          },
          "hoverlabel": {
           "align": "left"
          },
          "hovermode": "closest",
          "mapbox": {
           "style": "light"
          },
          "paper_bgcolor": "white",
          "plot_bgcolor": "#E5ECF6",
          "polar": {
           "angularaxis": {
            "gridcolor": "white",
            "linecolor": "white",
            "ticks": ""
           },
           "bgcolor": "#E5ECF6",
           "radialaxis": {
            "gridcolor": "white",
            "linecolor": "white",
            "ticks": ""
           }
          },
          "scene": {
           "xaxis": {
            "backgroundcolor": "#E5ECF6",
            "gridcolor": "white",
            "gridwidth": 2,
            "linecolor": "white",
            "showbackground": true,
            "ticks": "",
            "zerolinecolor": "white"
           },
           "yaxis": {
            "backgroundcolor": "#E5ECF6",
            "gridcolor": "white",
            "gridwidth": 2,
            "linecolor": "white",
            "showbackground": true,
            "ticks": "",
            "zerolinecolor": "white"
           },
           "zaxis": {
            "backgroundcolor": "#E5ECF6",
            "gridcolor": "white",
            "gridwidth": 2,
            "linecolor": "white",
            "showbackground": true,
            "ticks": "",
            "zerolinecolor": "white"
           }
          },
          "shapedefaults": {
           "line": {
            "color": "#2a3f5f"
           }
          },
          "ternary": {
           "aaxis": {
            "gridcolor": "white",
            "linecolor": "white",
            "ticks": ""
           },
           "baxis": {
            "gridcolor": "white",
            "linecolor": "white",
            "ticks": ""
           },
           "bgcolor": "#E5ECF6",
           "caxis": {
            "gridcolor": "white",
            "linecolor": "white",
            "ticks": ""
           }
          },
          "title": {
           "x": 0.05
          },
          "xaxis": {
           "automargin": true,
           "gridcolor": "white",
           "linecolor": "white",
           "ticks": "",
           "title": {
            "standoff": 15
           },
           "zerolinecolor": "white",
           "zerolinewidth": 2
          },
          "yaxis": {
           "automargin": true,
           "gridcolor": "white",
           "linecolor": "white",
           "ticks": "",
           "title": {
            "standoff": 15
           },
           "zerolinecolor": "white",
           "zerolinewidth": 2
          }
         }
        }
       }
      },
      "text/html": [
       "<div>\n",
       "        \n",
       "        \n",
       "            <div id=\"ce66db23-6323-484b-98f0-7dc2b24c494a\" class=\"plotly-graph-div\" style=\"height:525px; width:100%;\"></div>\n",
       "            <script type=\"text/javascript\">\n",
       "                require([\"plotly\"], function(Plotly) {\n",
       "                    window.PLOTLYENV=window.PLOTLYENV || {};\n",
       "                    \n",
       "                if (document.getElementById(\"ce66db23-6323-484b-98f0-7dc2b24c494a\")) {\n",
       "                    Plotly.newPlot(\n",
       "                        'ce66db23-6323-484b-98f0-7dc2b24c494a',\n",
       "                        [{\"name\": \"theta1\", \"type\": \"scatter\", \"x\": [0.0, 0.20000000298023224, 0.4000000059604645, 0.6000000089406967, 0.800000011920929, 1.0000000149011612, 1.2000000178813934, 1.4000000208616257, 1.600000023841858, 1.8000000268220901, 2.0000000298023224, 2.2000000327825546, 2.400000035762787, 2.600000038743019, 2.8000000417232513, 3.0000000447034836, 3.200000047683716, 3.400000050663948, 3.6000000536441803, 3.8000000566244125], \"y\": [3.34159255027771, 3.406423807144165, 3.396350622177124, 3.333848476409912, 3.262706995010376, 3.2053136825561523, 3.166684150695801, 3.1435678005218506, 3.130945920944214, 3.1248066425323486, 3.122541904449463, 3.122565269470215, 3.1239278316497803, 3.1260836124420166, 3.1287643909454346, 3.131922721862793, 3.1357226371765137, 3.1405670642852783, 3.147167444229126, 3.1560776233673096]}, {\"name\": \"theta2\", \"type\": \"scatter\", \"x\": [0.0, 0.20000000298023224, 0.4000000059604645, 0.6000000089406967, 0.800000011920929, 1.0000000149011612, 1.2000000178813934, 1.4000000208616257, 1.600000023841858, 1.8000000268220901, 2.0000000298023224, 2.2000000327825546, 2.400000035762787, 2.600000038743019, 2.8000000417232513, 3.0000000447034836, 3.200000047683716, 3.400000050663948, 3.6000000536441803, 3.8000000566244125], \"y\": [0.10000000149011612, 0.5963084101676941, 0.8928800821304321, 1.0197553634643555, 1.0185136795043945, 0.9319484233856201, 0.8037427663803101, 0.6667191982269287, 0.5396914482116699, 0.430512398481369, 0.34062957763671875, 0.268554151058197, 0.21181391179561615, 0.16786473989486694, 0.13446153700351715, 0.10978168994188309, 0.09245491772890091, 0.08157521486282349, 0.07674351334571838, 0.07959530502557755]}, {\"name\": \"theta1_dot\", \"type\": \"scatter\", \"x\": [0.0, 0.20000000298023224, 0.4000000059604645, 0.6000000089406967, 0.800000011920929, 1.0000000149011612, 1.2000000178813934, 1.4000000208616257, 1.600000023841858, 1.8000000268220901, 2.0000000298023224, 2.2000000327825546, 2.400000035762787, 2.600000038743019, 2.8000000417232513, 3.0000000447034836, 3.200000047683716, 3.400000050663948, 3.6000000536441803, 3.8000000566244125], \"y\": [0.5, 0.1483110636472702, -0.24904337525367737, -0.37597790360450745, -0.3354369103908539, -0.23849521577358246, -0.14780084788799286, -0.08336105942726135, -0.04285866394639015, -0.018534598872065544, -0.004113523755222559, 0.004348071292042732, 0.00927820149809122, 0.012279595248401165, 0.014526546001434326, 0.017057763412594795, 0.020942378789186478, 0.027501357719302177, 0.03850163146853447, 0.0505995936691761]}, {\"name\": \"theta2_dot\", \"type\": \"scatter\", \"x\": [0.0, 0.20000000298023224, 0.4000000059604645, 0.6000000089406967, 0.800000011920929, 1.0000000149011612, 1.2000000178813934, 1.4000000208616257, 1.600000023841858, 1.8000000268220901, 2.0000000298023224, 2.2000000327825546, 2.400000035762787, 2.600000038743019, 2.8000000417232513, 3.0000000447034836, 3.200000047683716, 3.400000050663948, 3.6000000536441803, 3.8000000566244125], \"y\": [3.0, 1.963084101676941, 1.0026323795318604, 0.26612022519111633, -0.27853652834892273, -0.5871164798736572, -0.6949400901794434, -0.675295352935791, -0.5949820876121521, -0.49680861830711365, -0.40201956033706665, -0.318734735250473, -0.24866753816604614, -0.19082412123680115, -0.14320790767669678, -0.10359063744544983, -0.06967703253030777, -0.039120059460401535, -0.00919695757329464, 0.0377148799598217]}],\n",
       "                        {\"template\": {\"data\": {\"bar\": [{\"error_x\": {\"color\": \"#2a3f5f\"}, \"error_y\": {\"color\": \"#2a3f5f\"}, \"marker\": {\"line\": {\"color\": \"#E5ECF6\", \"width\": 0.5}}, \"type\": \"bar\"}], \"barpolar\": [{\"marker\": {\"line\": {\"color\": \"#E5ECF6\", \"width\": 0.5}}, \"type\": \"barpolar\"}], \"carpet\": [{\"aaxis\": {\"endlinecolor\": \"#2a3f5f\", \"gridcolor\": \"white\", \"linecolor\": \"white\", \"minorgridcolor\": \"white\", \"startlinecolor\": \"#2a3f5f\"}, \"baxis\": {\"endlinecolor\": \"#2a3f5f\", \"gridcolor\": \"white\", \"linecolor\": \"white\", \"minorgridcolor\": \"white\", \"startlinecolor\": \"#2a3f5f\"}, \"type\": \"carpet\"}], \"choropleth\": [{\"colorbar\": {\"outlinewidth\": 0, \"ticks\": \"\"}, \"type\": \"choropleth\"}], \"contour\": [{\"colorbar\": {\"outlinewidth\": 0, \"ticks\": \"\"}, \"colorscale\": [[0.0, \"#0d0887\"], [0.1111111111111111, \"#46039f\"], [0.2222222222222222, \"#7201a8\"], [0.3333333333333333, \"#9c179e\"], [0.4444444444444444, \"#bd3786\"], [0.5555555555555556, \"#d8576b\"], [0.6666666666666666, \"#ed7953\"], [0.7777777777777778, \"#fb9f3a\"], [0.8888888888888888, \"#fdca26\"], [1.0, \"#f0f921\"]], \"type\": \"contour\"}], \"contourcarpet\": [{\"colorbar\": {\"outlinewidth\": 0, \"ticks\": \"\"}, \"type\": \"contourcarpet\"}], \"heatmap\": [{\"colorbar\": {\"outlinewidth\": 0, \"ticks\": \"\"}, \"colorscale\": [[0.0, \"#0d0887\"], [0.1111111111111111, \"#46039f\"], [0.2222222222222222, \"#7201a8\"], [0.3333333333333333, \"#9c179e\"], [0.4444444444444444, \"#bd3786\"], [0.5555555555555556, \"#d8576b\"], [0.6666666666666666, \"#ed7953\"], [0.7777777777777778, \"#fb9f3a\"], [0.8888888888888888, \"#fdca26\"], [1.0, \"#f0f921\"]], \"type\": \"heatmap\"}], \"heatmapgl\": [{\"colorbar\": {\"outlinewidth\": 0, \"ticks\": \"\"}, \"colorscale\": [[0.0, \"#0d0887\"], [0.1111111111111111, \"#46039f\"], [0.2222222222222222, \"#7201a8\"], [0.3333333333333333, \"#9c179e\"], [0.4444444444444444, \"#bd3786\"], [0.5555555555555556, \"#d8576b\"], [0.6666666666666666, \"#ed7953\"], [0.7777777777777778, \"#fb9f3a\"], [0.8888888888888888, \"#fdca26\"], [1.0, \"#f0f921\"]], \"type\": \"heatmapgl\"}], \"histogram\": [{\"marker\": {\"colorbar\": {\"outlinewidth\": 0, \"ticks\": \"\"}}, \"type\": \"histogram\"}], \"histogram2d\": [{\"colorbar\": {\"outlinewidth\": 0, \"ticks\": \"\"}, \"colorscale\": [[0.0, \"#0d0887\"], [0.1111111111111111, \"#46039f\"], [0.2222222222222222, \"#7201a8\"], [0.3333333333333333, \"#9c179e\"], [0.4444444444444444, \"#bd3786\"], [0.5555555555555556, \"#d8576b\"], [0.6666666666666666, \"#ed7953\"], [0.7777777777777778, \"#fb9f3a\"], [0.8888888888888888, \"#fdca26\"], [1.0, \"#f0f921\"]], \"type\": \"histogram2d\"}], \"histogram2dcontour\": [{\"colorbar\": {\"outlinewidth\": 0, \"ticks\": \"\"}, \"colorscale\": [[0.0, \"#0d0887\"], [0.1111111111111111, \"#46039f\"], [0.2222222222222222, \"#7201a8\"], [0.3333333333333333, \"#9c179e\"], [0.4444444444444444, \"#bd3786\"], [0.5555555555555556, \"#d8576b\"], [0.6666666666666666, \"#ed7953\"], [0.7777777777777778, \"#fb9f3a\"], [0.8888888888888888, \"#fdca26\"], [1.0, \"#f0f921\"]], \"type\": \"histogram2dcontour\"}], \"mesh3d\": [{\"colorbar\": {\"outlinewidth\": 0, \"ticks\": \"\"}, \"type\": \"mesh3d\"}], \"parcoords\": [{\"line\": {\"colorbar\": {\"outlinewidth\": 0, \"ticks\": \"\"}}, \"type\": \"parcoords\"}], \"pie\": [{\"automargin\": true, \"type\": \"pie\"}], \"scatter\": [{\"marker\": {\"colorbar\": {\"outlinewidth\": 0, \"ticks\": \"\"}}, \"type\": \"scatter\"}], \"scatter3d\": [{\"line\": {\"colorbar\": {\"outlinewidth\": 0, \"ticks\": \"\"}}, \"marker\": {\"colorbar\": {\"outlinewidth\": 0, \"ticks\": \"\"}}, \"type\": \"scatter3d\"}], \"scattercarpet\": [{\"marker\": {\"colorbar\": {\"outlinewidth\": 0, \"ticks\": \"\"}}, \"type\": \"scattercarpet\"}], \"scattergeo\": [{\"marker\": {\"colorbar\": {\"outlinewidth\": 0, \"ticks\": \"\"}}, \"type\": \"scattergeo\"}], \"scattergl\": [{\"marker\": {\"colorbar\": {\"outlinewidth\": 0, \"ticks\": \"\"}}, \"type\": \"scattergl\"}], \"scattermapbox\": [{\"marker\": {\"colorbar\": {\"outlinewidth\": 0, \"ticks\": \"\"}}, \"type\": \"scattermapbox\"}], \"scatterpolar\": [{\"marker\": {\"colorbar\": {\"outlinewidth\": 0, \"ticks\": \"\"}}, \"type\": \"scatterpolar\"}], \"scatterpolargl\": [{\"marker\": {\"colorbar\": {\"outlinewidth\": 0, \"ticks\": \"\"}}, \"type\": \"scatterpolargl\"}], \"scatterternary\": [{\"marker\": {\"colorbar\": {\"outlinewidth\": 0, \"ticks\": \"\"}}, \"type\": \"scatterternary\"}], \"surface\": [{\"colorbar\": {\"outlinewidth\": 0, \"ticks\": \"\"}, \"colorscale\": [[0.0, \"#0d0887\"], [0.1111111111111111, \"#46039f\"], [0.2222222222222222, \"#7201a8\"], [0.3333333333333333, \"#9c179e\"], [0.4444444444444444, \"#bd3786\"], [0.5555555555555556, \"#d8576b\"], [0.6666666666666666, \"#ed7953\"], [0.7777777777777778, \"#fb9f3a\"], [0.8888888888888888, \"#fdca26\"], [1.0, \"#f0f921\"]], \"type\": \"surface\"}], \"table\": [{\"cells\": {\"fill\": {\"color\": \"#EBF0F8\"}, \"line\": {\"color\": \"white\"}}, \"header\": {\"fill\": {\"color\": \"#C8D4E3\"}, \"line\": {\"color\": \"white\"}}, \"type\": \"table\"}]}, \"layout\": {\"annotationdefaults\": {\"arrowcolor\": \"#2a3f5f\", \"arrowhead\": 0, \"arrowwidth\": 1}, \"coloraxis\": {\"colorbar\": {\"outlinewidth\": 0, \"ticks\": \"\"}}, \"colorscale\": {\"diverging\": [[0, \"#8e0152\"], [0.1, \"#c51b7d\"], [0.2, \"#de77ae\"], [0.3, \"#f1b6da\"], [0.4, \"#fde0ef\"], [0.5, \"#f7f7f7\"], [0.6, \"#e6f5d0\"], [0.7, \"#b8e186\"], [0.8, \"#7fbc41\"], [0.9, \"#4d9221\"], [1, \"#276419\"]], \"sequential\": [[0.0, \"#0d0887\"], [0.1111111111111111, \"#46039f\"], [0.2222222222222222, \"#7201a8\"], [0.3333333333333333, \"#9c179e\"], [0.4444444444444444, \"#bd3786\"], [0.5555555555555556, \"#d8576b\"], [0.6666666666666666, \"#ed7953\"], [0.7777777777777778, \"#fb9f3a\"], [0.8888888888888888, \"#fdca26\"], [1.0, \"#f0f921\"]], \"sequentialminus\": [[0.0, \"#0d0887\"], [0.1111111111111111, \"#46039f\"], [0.2222222222222222, \"#7201a8\"], [0.3333333333333333, \"#9c179e\"], [0.4444444444444444, \"#bd3786\"], [0.5555555555555556, \"#d8576b\"], [0.6666666666666666, \"#ed7953\"], [0.7777777777777778, \"#fb9f3a\"], [0.8888888888888888, \"#fdca26\"], [1.0, \"#f0f921\"]]}, \"colorway\": [\"#636efa\", \"#EF553B\", \"#00cc96\", \"#ab63fa\", \"#FFA15A\", \"#19d3f3\", \"#FF6692\", \"#B6E880\", \"#FF97FF\", \"#FECB52\"], \"font\": {\"color\": \"#2a3f5f\"}, \"geo\": {\"bgcolor\": \"white\", \"lakecolor\": \"white\", \"landcolor\": \"#E5ECF6\", \"showlakes\": true, \"showland\": true, \"subunitcolor\": \"white\"}, \"hoverlabel\": {\"align\": \"left\"}, \"hovermode\": \"closest\", \"mapbox\": {\"style\": \"light\"}, \"paper_bgcolor\": \"white\", \"plot_bgcolor\": \"#E5ECF6\", \"polar\": {\"angularaxis\": {\"gridcolor\": \"white\", \"linecolor\": \"white\", \"ticks\": \"\"}, \"bgcolor\": \"#E5ECF6\", \"radialaxis\": {\"gridcolor\": \"white\", \"linecolor\": \"white\", \"ticks\": \"\"}}, \"scene\": {\"xaxis\": {\"backgroundcolor\": \"#E5ECF6\", \"gridcolor\": \"white\", \"gridwidth\": 2, \"linecolor\": \"white\", \"showbackground\": true, \"ticks\": \"\", \"zerolinecolor\": \"white\"}, \"yaxis\": {\"backgroundcolor\": \"#E5ECF6\", \"gridcolor\": \"white\", \"gridwidth\": 2, \"linecolor\": \"white\", \"showbackground\": true, \"ticks\": \"\", \"zerolinecolor\": \"white\"}, \"zaxis\": {\"backgroundcolor\": \"#E5ECF6\", \"gridcolor\": \"white\", \"gridwidth\": 2, \"linecolor\": \"white\", \"showbackground\": true, \"ticks\": \"\", \"zerolinecolor\": \"white\"}}, \"shapedefaults\": {\"line\": {\"color\": \"#2a3f5f\"}}, \"ternary\": {\"aaxis\": {\"gridcolor\": \"white\", \"linecolor\": \"white\", \"ticks\": \"\"}, \"baxis\": {\"gridcolor\": \"white\", \"linecolor\": \"white\", \"ticks\": \"\"}, \"bgcolor\": \"#E5ECF6\", \"caxis\": {\"gridcolor\": \"white\", \"linecolor\": \"white\", \"ticks\": \"\"}}, \"title\": {\"x\": 0.05}, \"xaxis\": {\"automargin\": true, \"gridcolor\": \"white\", \"linecolor\": \"white\", \"ticks\": \"\", \"title\": {\"standoff\": 15}, \"zerolinecolor\": \"white\", \"zerolinewidth\": 2}, \"yaxis\": {\"automargin\": true, \"gridcolor\": \"white\", \"linecolor\": \"white\", \"ticks\": \"\", \"title\": {\"standoff\": 15}, \"zerolinecolor\": \"white\", \"zerolinewidth\": 2}}}},\n",
       "                        {\"responsive\": true}\n",
       "                    ).then(function(){\n",
       "                            \n",
       "var gd = document.getElementById('ce66db23-6323-484b-98f0-7dc2b24c494a');\n",
       "var x = new MutationObserver(function (mutations, observer) {{\n",
       "        var display = window.getComputedStyle(gd).display;\n",
       "        if (!display || display === 'none') {{\n",
       "            console.log([gd, 'removed!']);\n",
       "            Plotly.purge(gd);\n",
       "            observer.disconnect();\n",
       "        }}\n",
       "}});\n",
       "\n",
       "// Listen for the removal of the full notebook cells\n",
       "var notebookContainer = gd.closest('#notebook-container');\n",
       "if (notebookContainer) {{\n",
       "    x.observe(notebookContainer, {childList: true});\n",
       "}}\n",
       "\n",
       "// Listen for the clearing of the current output cell\n",
       "var outputEl = gd.closest('.output');\n",
       "if (outputEl) {{\n",
       "    x.observe(outputEl, {childList: true});\n",
       "}}\n",
       "\n",
       "                        })\n",
       "                };\n",
       "                });\n",
       "            </script>\n",
       "        </div>"
      ]
     },
     "metadata": {},
     "output_type": "display_data"
    }
   ],
   "source": [
    "x0 = torch.tensor([np.pi+.2, .1, 0.5, 3.], dtype=vf.dtype)\n",
    "v, res = V(x0)\n",
    "sys.plot_result(res).show()"
   ]
  },
  {
   "cell_type": "code",
   "execution_count": 17,
   "metadata": {
    "scrolled": false
   },
   "outputs": [
    {
     "data": {
      "application/vnd.plotly.v1+json": {
       "config": {
        "plotlyServerURL": "https://plot.ly"
       },
       "data": [
        {
         "type": "scatter",
         "x": [
          0,
          0.0611090324819088,
          0.10000000149011612,
          0.16661010682582855,
          0.20000000298023224,
          0.20717287063598633,
          0.278901606798172,
          0.30000001192092896,
          0.3700580596923828,
          0.4000000059604645,
          0.46889400482177734,
          0.5,
          0.5673630833625793,
          0.6000000238418579,
          0.6681374907493591,
          0.699999988079071,
          0.7700822353363037,
          0.800000011920929,
          0.8722739219665527,
          0.8999999761581421,
          0.9743666052818298,
          1,
          1.0761942863464355,
          1.100000023841858,
          1.1776381731033325,
          1.2000000476837158,
          1.2786554098129272,
          1.2999999523162842,
          1.379289150238037,
          1.399999976158142,
          1.4796334505081177,
          1.5,
          1.5797890424728394,
          1.600000023841858,
          1.679837942123413,
          1.7000000476837158,
          1.7798376083374023,
          1.7999999523162842,
          1.879825234413147,
          1.899999976158142,
          1.979823350906372,
          2,
          2.0798444747924805,
          2.0999999046325684,
          2.179893732070923,
          2.200000047683716,
          2.279970169067383,
          2.299999952316284,
          2.3800644874572754,
          2.4000000953674316,
          2.480156898498535,
          2.5,
          2.5802102088928223,
          2.5999999046325684,
          2.680164337158203,
          2.700000047683716,
          2.7799277305603027,
          2.799999952316284,
          2.8793818950653076,
          2.9000000953674316,
          2.978404998779297,
          3,
          3.076920747756958,
          3.0999999046325684,
          3.1749446392059326,
          3.200000047683716,
          3.272587299346924,
          3.299999952316284,
          3.3700170516967773,
          3.4000000953674316,
          3.467397928237915,
          3.5,
          3.5648796558380127,
          3.5999999046325684,
          3.6625726222991943,
          3.700000047683716,
          3.762377977371216,
          3.799999952316284,
          3.8647804260253906,
          3.9000000953674316,
          3.9665791988372803,
          4,
          4.0680131912231445,
          4.099999904632568,
          4.169216156005859,
          4.199999809265137,
          4.270267009735107,
          4.300000190734863,
          4.371217250823975,
          4.400000095367432,
          4.472103118896484,
          4.5,
          4.5729475021362305,
          4.599999904632568,
          4.673769474029541,
          4.699999809265137,
          4.774584770202637,
          4.800000190734863,
          4.875407695770264,
          4.900000095367432
         ],
         "y": [
          4.141592502593994,
          4.172708988189697,
          4.160568714141846,
          4.106250762939453,
          4.0699238777160645,
          4.061456680297852,
          3.9758565425872803,
          3.95039701461792,
          3.869443655014038,
          3.8369574546813965,
          3.7672369480133057,
          3.7377421855926514,
          3.6776132583618164,
          3.6499032974243164,
          3.595102071762085,
          3.5706980228424072,
          3.5201573371887207,
          3.49981951713562,
          3.4540698528289795,
          3.4377188682556152,
          3.3972787857055664,
          3.384413242340088,
          3.3493995666503906,
          3.3393726348876953,
          3.309579610824585,
          3.301755428314209,
          3.2767698764801025,
          3.2706127166748047,
          3.249903917312622,
          3.2450082302093506,
          3.228001594543457,
          3.224076271057129,
          3.2102091312408447,
          3.2070472240448,
          3.1958038806915283,
          3.193253755569458,
          3.1841800212860107,
          3.182126522064209,
          3.1748335361480713,
          3.173185348510742,
          3.1673460006713867,
          3.166029214859009,
          3.1613714694976807,
          3.160325050354004,
          3.1566245555877686,
          3.1557979583740234,
          3.1528708934783936,
          3.152222156524658,
          3.1499183177948,
          3.149412155151367,
          3.1476094722747803,
          3.147217273712158,
          3.1458165645599365,
          3.1455142498016357,
          3.1444358825683594,
          3.1442034244537354,
          3.1433827877044678,
          3.1432042121887207,
          3.1425888538360596,
          3.142451524734497,
          3.141998767852783,
          3.141892671585083,
          3.1415674686431885,
          3.1414854526519775,
          3.141258955001831,
          3.1411964893341064,
          3.141044855117798,
          3.140998601913452,
          3.140902519226074,
          3.1408708095550537,
          3.140815019607544,
          3.1407957077026367,
          3.1407690048217773,
          3.1407604217529297,
          3.140753746032715,
          3.140754461288452,
          3.140761613845825,
          3.1407692432403564,
          3.140787124633789,
          3.140799045562744,
          3.140824317932129,
          3.140838384628296,
          3.140868902206421,
          3.1408839225769043,
          3.1409175395965576,
          3.14093279838562,
          3.140968084335327,
          3.1409831047058105,
          3.1410186290740967,
          3.1410329341888428,
          3.1410679817199707,
          3.1410813331604004,
          3.141115427017212,
          3.141127824783325,
          3.141160488128662,
          3.141171932220459,
          3.141202688217163,
          3.1412129402160645,
          3.141242027282715,
          3.1412510871887207
         ]
        },
        {
         "type": "scatter",
         "x": [
          0,
          0.0611090324819088,
          0.10000000149011612,
          0.16661010682582855,
          0.20000000298023224,
          0.20717287063598633,
          0.278901606798172,
          0.30000001192092896,
          0.3700580596923828,
          0.4000000059604645,
          0.46889400482177734,
          0.5,
          0.5673630833625793,
          0.6000000238418579,
          0.6681374907493591,
          0.699999988079071,
          0.7700822353363037,
          0.800000011920929,
          0.8722739219665527,
          0.8999999761581421,
          0.9743666052818298,
          1,
          1.0761942863464355,
          1.100000023841858,
          1.1776381731033325,
          1.2000000476837158,
          1.2786554098129272,
          1.2999999523162842,
          1.379289150238037,
          1.399999976158142,
          1.4796334505081177,
          1.5,
          1.5797890424728394,
          1.600000023841858,
          1.679837942123413,
          1.7000000476837158,
          1.7798376083374023,
          1.7999999523162842,
          1.879825234413147,
          1.899999976158142,
          1.979823350906372,
          2,
          2.0798444747924805,
          2.0999999046325684,
          2.179893732070923,
          2.200000047683716,
          2.279970169067383,
          2.299999952316284,
          2.3800644874572754,
          2.4000000953674316,
          2.480156898498535,
          2.5,
          2.5802102088928223,
          2.5999999046325684,
          2.680164337158203,
          2.700000047683716,
          2.7799277305603027,
          2.799999952316284,
          2.8793818950653076,
          2.9000000953674316,
          2.978404998779297,
          3,
          3.076920747756958,
          3.0999999046325684,
          3.1749446392059326,
          3.200000047683716,
          3.272587299346924,
          3.299999952316284,
          3.3700170516967773,
          3.4000000953674316,
          3.467397928237915,
          3.5,
          3.5648796558380127,
          3.5999999046325684,
          3.6625726222991943,
          3.700000047683716,
          3.762377977371216,
          3.799999952316284,
          3.8647804260253906,
          3.9000000953674316,
          3.9665791988372803,
          4,
          4.0680131912231445,
          4.099999904632568,
          4.169216156005859,
          4.199999809265137,
          4.270267009735107,
          4.300000190734863,
          4.371217250823975,
          4.400000095367432,
          4.472103118896484,
          4.5,
          4.5729475021362305,
          4.599999904632568,
          4.673769474029541,
          4.699999809265137,
          4.774584770202637,
          4.800000190734863,
          4.875407695770264,
          4.900000095367432
         ],
         "y": [
          1,
          1.0607954263687134,
          1.09970223903656,
          1.1450629234313965,
          1.1515889167785645,
          1.1515837907791138,
          1.1264212131500244,
          1.1103860139846802,
          1.0387998819351196,
          1.0013905763626099,
          0.9089305996894836,
          0.866524875164032,
          0.7778266072273254,
          0.7377562522888184,
          0.660930871963501,
          0.6285087466239929,
          0.5640092492103577,
          0.5392258167266846,
          0.48486799001693726,
          0.46594342589378357,
          0.41946110129356384,
          0.4047885537147522,
          0.36454978585243225,
          0.35295340418815613,
          0.3178686797618866,
          0.3084978461265564,
          0.27780383825302124,
          0.2700501084327698,
          0.24316029250621796,
          0.23660416901111603,
          0.213032528758049,
          0.20739494264125824,
          0.18672364950180054,
          0.1818210333585739,
          0.16368679702281952,
          0.15939557552337646,
          0.1434820294380188,
          0.13971449434757233,
          0.12574617564678192,
          0.12243584543466568,
          0.11017268896102905,
          0.10726585239171982,
          0.09649840742349625,
          0.09394945949316025,
          0.08449479937553406,
          0.08226361125707626,
          0.07396195828914642,
          0.07201234996318817,
          0.06472435593605042,
          0.06302304565906525,
          0.05662761256098747,
          0.05514343082904816,
          0.049535930156707764,
          0.04823910817503929,
          0.04332998767495155,
          0.04219149798154831,
          0.03790485858917236,
          0.036896001547575,
          0.03316783159971237,
          0.032260455191135406,
          0.02903585694730282,
          0.028203720226883888,
          0.025433111935853958,
          0.02465437352657318,
          0.022289946675300598,
          0.02154957875609398,
          0.019543558359146118,
          0.018834155052900314,
          0.01713917776942253,
          0.01645965501666069,
          0.015030594542622566,
          0.014383576810359955,
          0.013178883120417595,
          0.012568633072078228,
          0.011551398783922195,
          0.010982138104736805,
          0.010095682926476002,
          0.009595503099262714,
          0.00879226066172123,
          0.008383633568882942,
          0.0076630599796772,
          0.0073245819658041,
          0.00668198661878705,
          0.006399139761924744,
          0.005828158464282751,
          0.005590470507740974,
          0.005084351170808077,
          0.004883884452283382,
          0.00443599047139287,
          0.004266540054231882,
          0.0038705982733517885,
          0.003727178554981947,
          0.0033773856703191996,
          0.0032559295650571585,
          0.0029470501467585564,
          0.0028442146722227335,
          0.0025715527590364218,
          0.0024845569860190153,
          0.0022438750602304935,
          0.0021703667007386684
         ]
        },
        {
         "type": "scatter",
         "x": [
          0,
          0.0611090324819088,
          0.10000000149011612,
          0.16661010682582855,
          0.20000000298023224,
          0.20717287063598633,
          0.278901606798172,
          0.30000001192092896,
          0.3700580596923828,
          0.4000000059604645,
          0.46889400482177734,
          0.5,
          0.5673630833625793,
          0.6000000238418579,
          0.6681374907493591,
          0.699999988079071,
          0.7700822353363037,
          0.800000011920929,
          0.8722739219665527,
          0.8999999761581421,
          0.9743666052818298,
          1,
          1.0761942863464355,
          1.100000023841858,
          1.1776381731033325,
          1.2000000476837158,
          1.2786554098129272,
          1.2999999523162842,
          1.379289150238037,
          1.399999976158142,
          1.4796334505081177,
          1.5,
          1.5797890424728394,
          1.600000023841858,
          1.679837942123413,
          1.7000000476837158,
          1.7798376083374023,
          1.7999999523162842,
          1.879825234413147,
          1.899999976158142,
          1.979823350906372,
          2,
          2.0798444747924805,
          2.0999999046325684,
          2.179893732070923,
          2.200000047683716,
          2.279970169067383,
          2.299999952316284,
          2.3800644874572754,
          2.4000000953674316,
          2.480156898498535,
          2.5,
          2.5802102088928223,
          2.5999999046325684,
          2.680164337158203,
          2.700000047683716,
          2.7799277305603027,
          2.799999952316284,
          2.8793818950653076,
          2.9000000953674316,
          2.978404998779297,
          3,
          3.076920747756958,
          3.0999999046325684,
          3.1749446392059326,
          3.200000047683716,
          3.272587299346924,
          3.299999952316284,
          3.3700170516967773,
          3.4000000953674316,
          3.467397928237915,
          3.5,
          3.5648796558380127,
          3.5999999046325684,
          3.6625726222991943,
          3.700000047683716,
          3.762377977371216,
          3.799999952316284,
          3.8647804260253906,
          3.9000000953674316,
          3.9665791988372803,
          4,
          4.0680131912231445,
          4.099999904632568,
          4.169216156005859,
          4.199999809265137,
          4.270267009735107,
          4.300000190734863,
          4.371217250823975,
          4.400000095367432,
          4.472103118896484,
          4.5,
          4.5729475021362305,
          4.599999904632568,
          4.673769474029541,
          4.699999809265137,
          4.774584770202637,
          4.800000190734863,
          4.875407695770264,
          4.900000095367432
         ],
         "y": [
          1,
          0.0112124839797616,
          -0.6376190781593323,
          -0.9964175820350647,
          -1.1792556047439575,
          -1.1816551685333252,
          -1.2041739225387573,
          -1.2090204954147339,
          -1.104856014251709,
          -1.0656405687332153,
          -0.9650446772575378,
          -0.9327126145362854,
          -0.8598380088806152,
          -0.8398335576057434,
          -0.7752379775047302,
          -0.7578800320625305,
          -0.6899473667144775,
          -0.6705296635627747,
          -0.6000687479972839,
          -0.5800027251243591,
          -0.5114012956619263,
          -0.49280792474746704,
          -0.4293995499610901,
          -0.413271963596344,
          -0.356770783662796,
          -0.34321001172065735,
          -0.2941649556159973,
          -0.28288206458091736,
          -0.2411154806613922,
          -0.2317398488521576,
          -0.19666700065135956,
          -0.1888694167137146,
          -0.15971839427947998,
          -0.15323394536972046,
          -0.1291886866092682,
          -0.12380583584308624,
          -0.10408701747655869,
          -0.09963259100914001,
          -0.0835360586643219,
          -0.07986436784267426,
          -0.06677469611167908,
          -0.06376117467880249,
          -0.05315238982439041,
          -0.050689972937107086,
          -0.04211845248937607,
          -0.040115002542734146,
          -0.03321066498756409,
          -0.031587157398462296,
          -0.02604377083480358,
          -0.024732699617743492,
          -0.020297382026910782,
          -0.01924096792936325,
          -0.01570761576294899,
          -0.014856867492198944,
          -0.012056599371135235,
          -0.011369614861905575,
          -0.009165694005787373,
          -0.008607087656855583,
          -0.006888464093208313,
          -0.006428753025829792,
          -0.005104448180645704,
          -0.0047200205735862255,
          -0.0037139621563255787,
          -0.003387188073247671,
          -0.0026352202985435724,
          -0.002354356925934553,
          -0.001802561106160283,
          -0.0015607712557539344,
          -0.0011632704408839345,
          -0.0009564273641444743,
          -0.0006765190628357232,
          -0.0005021250690333545,
          -0.0003096200234722346,
          -0.00016499310731887817,
          -3.736833605216816e-05,
          7.985947740962729e-05,
          0.0001637732348171994,
          0.0002529591729398817,
          0.00030791311291977763,
          0.0003713622863870114,
          0.00040215274202637374,
          0.00044700808939523995,
          0.0004595161008182913,
          0.0004912067670375109,
          0.0004895129823125899,
          0.0005114241503179073,
          0.0004993370384909213,
          0.0005141079891473055,
          0.0004944184329360723,
          0.0005038775270804763,
          0.000479452486615628,
          0.000485224329167977,
          0.0004578053776640445,
          0.00046091110561974347,
          0.000431607011705637,
          0.0004327302158344537,
          0.00040258222725242376,
          0.0004023131914436817,
          0.0003726649156305939,
          0.0003716374631039798
         ]
        },
        {
         "type": "scatter",
         "x": [
          0,
          0.0611090324819088,
          0.10000000149011612,
          0.16661010682582855,
          0.20000000298023224,
          0.20717287063598633,
          0.278901606798172,
          0.30000001192092896,
          0.3700580596923828,
          0.4000000059604645,
          0.46889400482177734,
          0.5,
          0.5673630833625793,
          0.6000000238418579,
          0.6681374907493591,
          0.699999988079071,
          0.7700822353363037,
          0.800000011920929,
          0.8722739219665527,
          0.8999999761581421,
          0.9743666052818298,
          1,
          1.0761942863464355,
          1.100000023841858,
          1.1776381731033325,
          1.2000000476837158,
          1.2786554098129272,
          1.2999999523162842,
          1.379289150238037,
          1.399999976158142,
          1.4796334505081177,
          1.5,
          1.5797890424728394,
          1.600000023841858,
          1.679837942123413,
          1.7000000476837158,
          1.7798376083374023,
          1.7999999523162842,
          1.879825234413147,
          1.899999976158142,
          1.979823350906372,
          2,
          2.0798444747924805,
          2.0999999046325684,
          2.179893732070923,
          2.200000047683716,
          2.279970169067383,
          2.299999952316284,
          2.3800644874572754,
          2.4000000953674316,
          2.480156898498535,
          2.5,
          2.5802102088928223,
          2.5999999046325684,
          2.680164337158203,
          2.700000047683716,
          2.7799277305603027,
          2.799999952316284,
          2.8793818950653076,
          2.9000000953674316,
          2.978404998779297,
          3,
          3.076920747756958,
          3.0999999046325684,
          3.1749446392059326,
          3.200000047683716,
          3.272587299346924,
          3.299999952316284,
          3.3700170516967773,
          3.4000000953674316,
          3.467397928237915,
          3.5,
          3.5648796558380127,
          3.5999999046325684,
          3.6625726222991943,
          3.700000047683716,
          3.762377977371216,
          3.799999952316284,
          3.8647804260253906,
          3.9000000953674316,
          3.9665791988372803,
          4,
          4.0680131912231445,
          4.099999904632568,
          4.169216156005859,
          4.199999809265137,
          4.270267009735107,
          4.300000190734863,
          4.371217250823975,
          4.400000095367432,
          4.472103118896484,
          4.5,
          4.5729475021362305,
          4.599999904632568,
          4.673769474029541,
          4.699999809265137,
          4.774584770202637,
          4.800000190734863,
          4.875407695770264,
          4.900000095367432
         ],
         "y": [
          1,
          0.9966650009155273,
          1.003280520439148,
          0.3585706055164337,
          0.03135988116264343,
          -0.032750725746154785,
          -0.6672770977020264,
          -0.8527491688728333,
          -1.1840096712112427,
          -1.3136732578277588,
          -1.3607726097106934,
          -1.3640223741531372,
          -1.260682463645935,
          -1.1931161880493164,
          -1.0553547143936157,
          -0.978609025478363,
          -0.8575959801673889,
          -0.7985256910324097,
          -0.7028063535690308,
          -0.6619767546653748,
          -0.5863947868347168,
          -0.5582596063613892,
          -0.49709317088127136,
          -0.4771055579185486,
          -0.4264383018016815,
          -0.41167065501213074,
          -0.3689550757408142,
          -0.3575945198535919,
          -0.3211064338684082,
          -0.3120388090610504,
          -0.2805570065975189,
          -0.27309879660606384,
          -0.24573129415512085,
          -0.23945951461791992,
          -0.21553701162338257,
          -0.21018266677856445,
          -0.18919000029563904,
          -0.1845746636390686,
          -0.16610528528690338,
          -0.16210444271564484,
          -0.14582931995391846,
          -0.14235125482082367,
          -0.12799683213233948,
          -0.12497001141309738,
          -0.1123051866889,
          -0.10967134684324265,
          -0.09849739819765091,
          -0.09620696306228638,
          -0.08635134994983673,
          -0.08436060696840286,
          -0.07567430287599564,
          -0.07394388318061829,
          -0.0662958174943924,
          -0.06478849798440933,
          -0.05806677043437958,
          -0.0567471869289875,
          -0.0508548729121685,
          -0.04968812316656113,
          -0.044542346149683,
          -0.04349439591169357,
          -0.039023350924253464,
          -0.038062550127506256,
          -0.03420156240463257,
          -0.03330162540078163,
          -0.02998807467520237,
          -0.029130656272172928,
          -0.026301609352231026,
          -0.025477195158600807,
          -0.02307160757482052,
          -0.02227882854640484,
          -0.02023717761039734,
          -0.019478805363178253,
          -0.017747459933161736,
          -0.017029298469424248,
          -0.01555864978581667,
          -0.014885814860463142,
          -0.013601446524262428,
          -0.013010655529797077,
          -0.011850369162857533,
          -0.01137144397944212,
          -0.0103319576010108,
          -0.009937294758856297,
          -0.009012079797685146,
          -0.008684194646775723,
          -0.007862850092351437,
          -0.007588475476950407,
          -0.006861142814159393,
          -0.006630685646086931,
          -0.0059873368591070175,
          -0.00579316820949316,
          -0.0052253492176532745,
          -0.00506177544593811,
          -0.004560722038149834,
          -0.004422742873430252,
          -0.003980416338890791,
          -0.00386388530023396,
          -0.003473567543551326,
          -0.003375233616679907,
          -0.003031568368896842,
          -0.0029489367734640837
         ]
        }
       ],
       "layout": {
        "template": {
         "data": {
          "bar": [
           {
            "error_x": {
             "color": "#2a3f5f"
            },
            "error_y": {
             "color": "#2a3f5f"
            },
            "marker": {
             "line": {
              "color": "#E5ECF6",
              "width": 0.5
             }
            },
            "type": "bar"
           }
          ],
          "barpolar": [
           {
            "marker": {
             "line": {
              "color": "#E5ECF6",
              "width": 0.5
             }
            },
            "type": "barpolar"
           }
          ],
          "carpet": [
           {
            "aaxis": {
             "endlinecolor": "#2a3f5f",
             "gridcolor": "white",
             "linecolor": "white",
             "minorgridcolor": "white",
             "startlinecolor": "#2a3f5f"
            },
            "baxis": {
             "endlinecolor": "#2a3f5f",
             "gridcolor": "white",
             "linecolor": "white",
             "minorgridcolor": "white",
             "startlinecolor": "#2a3f5f"
            },
            "type": "carpet"
           }
          ],
          "choropleth": [
           {
            "colorbar": {
             "outlinewidth": 0,
             "ticks": ""
            },
            "type": "choropleth"
           }
          ],
          "contour": [
           {
            "colorbar": {
             "outlinewidth": 0,
             "ticks": ""
            },
            "colorscale": [
             [
              0,
              "#0d0887"
             ],
             [
              0.1111111111111111,
              "#46039f"
             ],
             [
              0.2222222222222222,
              "#7201a8"
             ],
             [
              0.3333333333333333,
              "#9c179e"
             ],
             [
              0.4444444444444444,
              "#bd3786"
             ],
             [
              0.5555555555555556,
              "#d8576b"
             ],
             [
              0.6666666666666666,
              "#ed7953"
             ],
             [
              0.7777777777777778,
              "#fb9f3a"
             ],
             [
              0.8888888888888888,
              "#fdca26"
             ],
             [
              1,
              "#f0f921"
             ]
            ],
            "type": "contour"
           }
          ],
          "contourcarpet": [
           {
            "colorbar": {
             "outlinewidth": 0,
             "ticks": ""
            },
            "type": "contourcarpet"
           }
          ],
          "heatmap": [
           {
            "colorbar": {
             "outlinewidth": 0,
             "ticks": ""
            },
            "colorscale": [
             [
              0,
              "#0d0887"
             ],
             [
              0.1111111111111111,
              "#46039f"
             ],
             [
              0.2222222222222222,
              "#7201a8"
             ],
             [
              0.3333333333333333,
              "#9c179e"
             ],
             [
              0.4444444444444444,
              "#bd3786"
             ],
             [
              0.5555555555555556,
              "#d8576b"
             ],
             [
              0.6666666666666666,
              "#ed7953"
             ],
             [
              0.7777777777777778,
              "#fb9f3a"
             ],
             [
              0.8888888888888888,
              "#fdca26"
             ],
             [
              1,
              "#f0f921"
             ]
            ],
            "type": "heatmap"
           }
          ],
          "heatmapgl": [
           {
            "colorbar": {
             "outlinewidth": 0,
             "ticks": ""
            },
            "colorscale": [
             [
              0,
              "#0d0887"
             ],
             [
              0.1111111111111111,
              "#46039f"
             ],
             [
              0.2222222222222222,
              "#7201a8"
             ],
             [
              0.3333333333333333,
              "#9c179e"
             ],
             [
              0.4444444444444444,
              "#bd3786"
             ],
             [
              0.5555555555555556,
              "#d8576b"
             ],
             [
              0.6666666666666666,
              "#ed7953"
             ],
             [
              0.7777777777777778,
              "#fb9f3a"
             ],
             [
              0.8888888888888888,
              "#fdca26"
             ],
             [
              1,
              "#f0f921"
             ]
            ],
            "type": "heatmapgl"
           }
          ],
          "histogram": [
           {
            "marker": {
             "colorbar": {
              "outlinewidth": 0,
              "ticks": ""
             }
            },
            "type": "histogram"
           }
          ],
          "histogram2d": [
           {
            "colorbar": {
             "outlinewidth": 0,
             "ticks": ""
            },
            "colorscale": [
             [
              0,
              "#0d0887"
             ],
             [
              0.1111111111111111,
              "#46039f"
             ],
             [
              0.2222222222222222,
              "#7201a8"
             ],
             [
              0.3333333333333333,
              "#9c179e"
             ],
             [
              0.4444444444444444,
              "#bd3786"
             ],
             [
              0.5555555555555556,
              "#d8576b"
             ],
             [
              0.6666666666666666,
              "#ed7953"
             ],
             [
              0.7777777777777778,
              "#fb9f3a"
             ],
             [
              0.8888888888888888,
              "#fdca26"
             ],
             [
              1,
              "#f0f921"
             ]
            ],
            "type": "histogram2d"
           }
          ],
          "histogram2dcontour": [
           {
            "colorbar": {
             "outlinewidth": 0,
             "ticks": ""
            },
            "colorscale": [
             [
              0,
              "#0d0887"
             ],
             [
              0.1111111111111111,
              "#46039f"
             ],
             [
              0.2222222222222222,
              "#7201a8"
             ],
             [
              0.3333333333333333,
              "#9c179e"
             ],
             [
              0.4444444444444444,
              "#bd3786"
             ],
             [
              0.5555555555555556,
              "#d8576b"
             ],
             [
              0.6666666666666666,
              "#ed7953"
             ],
             [
              0.7777777777777778,
              "#fb9f3a"
             ],
             [
              0.8888888888888888,
              "#fdca26"
             ],
             [
              1,
              "#f0f921"
             ]
            ],
            "type": "histogram2dcontour"
           }
          ],
          "mesh3d": [
           {
            "colorbar": {
             "outlinewidth": 0,
             "ticks": ""
            },
            "type": "mesh3d"
           }
          ],
          "parcoords": [
           {
            "line": {
             "colorbar": {
              "outlinewidth": 0,
              "ticks": ""
             }
            },
            "type": "parcoords"
           }
          ],
          "pie": [
           {
            "automargin": true,
            "type": "pie"
           }
          ],
          "scatter": [
           {
            "marker": {
             "colorbar": {
              "outlinewidth": 0,
              "ticks": ""
             }
            },
            "type": "scatter"
           }
          ],
          "scatter3d": [
           {
            "line": {
             "colorbar": {
              "outlinewidth": 0,
              "ticks": ""
             }
            },
            "marker": {
             "colorbar": {
              "outlinewidth": 0,
              "ticks": ""
             }
            },
            "type": "scatter3d"
           }
          ],
          "scattercarpet": [
           {
            "marker": {
             "colorbar": {
              "outlinewidth": 0,
              "ticks": ""
             }
            },
            "type": "scattercarpet"
           }
          ],
          "scattergeo": [
           {
            "marker": {
             "colorbar": {
              "outlinewidth": 0,
              "ticks": ""
             }
            },
            "type": "scattergeo"
           }
          ],
          "scattergl": [
           {
            "marker": {
             "colorbar": {
              "outlinewidth": 0,
              "ticks": ""
             }
            },
            "type": "scattergl"
           }
          ],
          "scattermapbox": [
           {
            "marker": {
             "colorbar": {
              "outlinewidth": 0,
              "ticks": ""
             }
            },
            "type": "scattermapbox"
           }
          ],
          "scatterpolar": [
           {
            "marker": {
             "colorbar": {
              "outlinewidth": 0,
              "ticks": ""
             }
            },
            "type": "scatterpolar"
           }
          ],
          "scatterpolargl": [
           {
            "marker": {
             "colorbar": {
              "outlinewidth": 0,
              "ticks": ""
             }
            },
            "type": "scatterpolargl"
           }
          ],
          "scatterternary": [
           {
            "marker": {
             "colorbar": {
              "outlinewidth": 0,
              "ticks": ""
             }
            },
            "type": "scatterternary"
           }
          ],
          "surface": [
           {
            "colorbar": {
             "outlinewidth": 0,
             "ticks": ""
            },
            "colorscale": [
             [
              0,
              "#0d0887"
             ],
             [
              0.1111111111111111,
              "#46039f"
             ],
             [
              0.2222222222222222,
              "#7201a8"
             ],
             [
              0.3333333333333333,
              "#9c179e"
             ],
             [
              0.4444444444444444,
              "#bd3786"
             ],
             [
              0.5555555555555556,
              "#d8576b"
             ],
             [
              0.6666666666666666,
              "#ed7953"
             ],
             [
              0.7777777777777778,
              "#fb9f3a"
             ],
             [
              0.8888888888888888,
              "#fdca26"
             ],
             [
              1,
              "#f0f921"
             ]
            ],
            "type": "surface"
           }
          ],
          "table": [
           {
            "cells": {
             "fill": {
              "color": "#EBF0F8"
             },
             "line": {
              "color": "white"
             }
            },
            "header": {
             "fill": {
              "color": "#C8D4E3"
             },
             "line": {
              "color": "white"
             }
            },
            "type": "table"
           }
          ]
         },
         "layout": {
          "annotationdefaults": {
           "arrowcolor": "#2a3f5f",
           "arrowhead": 0,
           "arrowwidth": 1
          },
          "coloraxis": {
           "colorbar": {
            "outlinewidth": 0,
            "ticks": ""
           }
          },
          "colorscale": {
           "diverging": [
            [
             0,
             "#8e0152"
            ],
            [
             0.1,
             "#c51b7d"
            ],
            [
             0.2,
             "#de77ae"
            ],
            [
             0.3,
             "#f1b6da"
            ],
            [
             0.4,
             "#fde0ef"
            ],
            [
             0.5,
             "#f7f7f7"
            ],
            [
             0.6,
             "#e6f5d0"
            ],
            [
             0.7,
             "#b8e186"
            ],
            [
             0.8,
             "#7fbc41"
            ],
            [
             0.9,
             "#4d9221"
            ],
            [
             1,
             "#276419"
            ]
           ],
           "sequential": [
            [
             0,
             "#0d0887"
            ],
            [
             0.1111111111111111,
             "#46039f"
            ],
            [
             0.2222222222222222,
             "#7201a8"
            ],
            [
             0.3333333333333333,
             "#9c179e"
            ],
            [
             0.4444444444444444,
             "#bd3786"
            ],
            [
             0.5555555555555556,
             "#d8576b"
            ],
            [
             0.6666666666666666,
             "#ed7953"
            ],
            [
             0.7777777777777778,
             "#fb9f3a"
            ],
            [
             0.8888888888888888,
             "#fdca26"
            ],
            [
             1,
             "#f0f921"
            ]
           ],
           "sequentialminus": [
            [
             0,
             "#0d0887"
            ],
            [
             0.1111111111111111,
             "#46039f"
            ],
            [
             0.2222222222222222,
             "#7201a8"
            ],
            [
             0.3333333333333333,
             "#9c179e"
            ],
            [
             0.4444444444444444,
             "#bd3786"
            ],
            [
             0.5555555555555556,
             "#d8576b"
            ],
            [
             0.6666666666666666,
             "#ed7953"
            ],
            [
             0.7777777777777778,
             "#fb9f3a"
            ],
            [
             0.8888888888888888,
             "#fdca26"
            ],
            [
             1,
             "#f0f921"
            ]
           ]
          },
          "colorway": [
           "#636efa",
           "#EF553B",
           "#00cc96",
           "#ab63fa",
           "#FFA15A",
           "#19d3f3",
           "#FF6692",
           "#B6E880",
           "#FF97FF",
           "#FECB52"
          ],
          "font": {
           "color": "#2a3f5f"
          },
          "geo": {
           "bgcolor": "white",
           "lakecolor": "white",
           "landcolor": "#E5ECF6",
           "showlakes": true,
           "showland": true,
           "subunitcolor": "white"
          },
          "hoverlabel": {
           "align": "left"
          },
          "hovermode": "closest",
          "mapbox": {
           "style": "light"
          },
          "paper_bgcolor": "white",
          "plot_bgcolor": "#E5ECF6",
          "polar": {
           "angularaxis": {
            "gridcolor": "white",
            "linecolor": "white",
            "ticks": ""
           },
           "bgcolor": "#E5ECF6",
           "radialaxis": {
            "gridcolor": "white",
            "linecolor": "white",
            "ticks": ""
           }
          },
          "scene": {
           "xaxis": {
            "backgroundcolor": "#E5ECF6",
            "gridcolor": "white",
            "gridwidth": 2,
            "linecolor": "white",
            "showbackground": true,
            "ticks": "",
            "zerolinecolor": "white"
           },
           "yaxis": {
            "backgroundcolor": "#E5ECF6",
            "gridcolor": "white",
            "gridwidth": 2,
            "linecolor": "white",
            "showbackground": true,
            "ticks": "",
            "zerolinecolor": "white"
           },
           "zaxis": {
            "backgroundcolor": "#E5ECF6",
            "gridcolor": "white",
            "gridwidth": 2,
            "linecolor": "white",
            "showbackground": true,
            "ticks": "",
            "zerolinecolor": "white"
           }
          },
          "shapedefaults": {
           "line": {
            "color": "#2a3f5f"
           }
          },
          "ternary": {
           "aaxis": {
            "gridcolor": "white",
            "linecolor": "white",
            "ticks": ""
           },
           "baxis": {
            "gridcolor": "white",
            "linecolor": "white",
            "ticks": ""
           },
           "bgcolor": "#E5ECF6",
           "caxis": {
            "gridcolor": "white",
            "linecolor": "white",
            "ticks": ""
           }
          },
          "title": {
           "x": 0.05
          },
          "xaxis": {
           "automargin": true,
           "gridcolor": "white",
           "linecolor": "white",
           "ticks": "",
           "title": {
            "standoff": 15
           },
           "zerolinecolor": "white",
           "zerolinewidth": 2
          },
          "yaxis": {
           "automargin": true,
           "gridcolor": "white",
           "linecolor": "white",
           "ticks": "",
           "title": {
            "standoff": 15
           },
           "zerolinecolor": "white",
           "zerolinewidth": 2
          }
         }
        }
       }
      },
      "text/html": [
       "<div>\n",
       "        \n",
       "        \n",
       "            <div id=\"fbee95b9-5b0e-4430-adb3-ff256f5ce007\" class=\"plotly-graph-div\" style=\"height:525px; width:100%;\"></div>\n",
       "            <script type=\"text/javascript\">\n",
       "                require([\"plotly\"], function(Plotly) {\n",
       "                    window.PLOTLYENV=window.PLOTLYENV || {};\n",
       "                    \n",
       "                if (document.getElementById(\"fbee95b9-5b0e-4430-adb3-ff256f5ce007\")) {\n",
       "                    Plotly.newPlot(\n",
       "                        'fbee95b9-5b0e-4430-adb3-ff256f5ce007',\n",
       "                        [{\"type\": \"scatter\", \"x\": [0.0, 0.0611090324819088, 0.10000000149011612, 0.16661010682582855, 0.20000000298023224, 0.20717287063598633, 0.278901606798172, 0.30000001192092896, 0.3700580596923828, 0.4000000059604645, 0.46889400482177734, 0.5, 0.5673630833625793, 0.6000000238418579, 0.6681374907493591, 0.699999988079071, 0.7700822353363037, 0.800000011920929, 0.8722739219665527, 0.8999999761581421, 0.9743666052818298, 1.0, 1.0761942863464355, 1.100000023841858, 1.1776381731033325, 1.2000000476837158, 1.2786554098129272, 1.2999999523162842, 1.379289150238037, 1.399999976158142, 1.4796334505081177, 1.5, 1.5797890424728394, 1.600000023841858, 1.679837942123413, 1.7000000476837158, 1.7798376083374023, 1.7999999523162842, 1.879825234413147, 1.899999976158142, 1.979823350906372, 2.0, 2.0798444747924805, 2.0999999046325684, 2.179893732070923, 2.200000047683716, 2.279970169067383, 2.299999952316284, 2.3800644874572754, 2.4000000953674316, 2.480156898498535, 2.5, 2.5802102088928223, 2.5999999046325684, 2.680164337158203, 2.700000047683716, 2.7799277305603027, 2.799999952316284, 2.8793818950653076, 2.9000000953674316, 2.978404998779297, 3.0, 3.076920747756958, 3.0999999046325684, 3.1749446392059326, 3.200000047683716, 3.272587299346924, 3.299999952316284, 3.3700170516967773, 3.4000000953674316, 3.467397928237915, 3.5, 3.5648796558380127, 3.5999999046325684, 3.6625726222991943, 3.700000047683716, 3.762377977371216, 3.799999952316284, 3.8647804260253906, 3.9000000953674316, 3.9665791988372803, 4.0, 4.0680131912231445, 4.099999904632568, 4.169216156005859, 4.199999809265137, 4.270267009735107, 4.300000190734863, 4.371217250823975, 4.400000095367432, 4.472103118896484, 4.5, 4.5729475021362305, 4.599999904632568, 4.673769474029541, 4.699999809265137, 4.774584770202637, 4.800000190734863, 4.875407695770264, 4.900000095367432], \"y\": [4.141592502593994, 4.172708988189697, 4.160568714141846, 4.106250762939453, 4.0699238777160645, 4.061456680297852, 3.9758565425872803, 3.95039701461792, 3.869443655014038, 3.8369574546813965, 3.7672369480133057, 3.7377421855926514, 3.6776132583618164, 3.6499032974243164, 3.595102071762085, 3.5706980228424072, 3.5201573371887207, 3.49981951713562, 3.4540698528289795, 3.4377188682556152, 3.3972787857055664, 3.384413242340088, 3.3493995666503906, 3.3393726348876953, 3.309579610824585, 3.301755428314209, 3.2767698764801025, 3.2706127166748047, 3.249903917312622, 3.2450082302093506, 3.228001594543457, 3.224076271057129, 3.2102091312408447, 3.2070472240448, 3.1958038806915283, 3.193253755569458, 3.1841800212860107, 3.182126522064209, 3.1748335361480713, 3.173185348510742, 3.1673460006713867, 3.166029214859009, 3.1613714694976807, 3.160325050354004, 3.1566245555877686, 3.1557979583740234, 3.1528708934783936, 3.152222156524658, 3.1499183177948, 3.149412155151367, 3.1476094722747803, 3.147217273712158, 3.1458165645599365, 3.1455142498016357, 3.1444358825683594, 3.1442034244537354, 3.1433827877044678, 3.1432042121887207, 3.1425888538360596, 3.142451524734497, 3.141998767852783, 3.141892671585083, 3.1415674686431885, 3.1414854526519775, 3.141258955001831, 3.1411964893341064, 3.141044855117798, 3.140998601913452, 3.140902519226074, 3.1408708095550537, 3.140815019607544, 3.1407957077026367, 3.1407690048217773, 3.1407604217529297, 3.140753746032715, 3.140754461288452, 3.140761613845825, 3.1407692432403564, 3.140787124633789, 3.140799045562744, 3.140824317932129, 3.140838384628296, 3.140868902206421, 3.1408839225769043, 3.1409175395965576, 3.14093279838562, 3.140968084335327, 3.1409831047058105, 3.1410186290740967, 3.1410329341888428, 3.1410679817199707, 3.1410813331604004, 3.141115427017212, 3.141127824783325, 3.141160488128662, 3.141171932220459, 3.141202688217163, 3.1412129402160645, 3.141242027282715, 3.1412510871887207]}, {\"type\": \"scatter\", \"x\": [0.0, 0.0611090324819088, 0.10000000149011612, 0.16661010682582855, 0.20000000298023224, 0.20717287063598633, 0.278901606798172, 0.30000001192092896, 0.3700580596923828, 0.4000000059604645, 0.46889400482177734, 0.5, 0.5673630833625793, 0.6000000238418579, 0.6681374907493591, 0.699999988079071, 0.7700822353363037, 0.800000011920929, 0.8722739219665527, 0.8999999761581421, 0.9743666052818298, 1.0, 1.0761942863464355, 1.100000023841858, 1.1776381731033325, 1.2000000476837158, 1.2786554098129272, 1.2999999523162842, 1.379289150238037, 1.399999976158142, 1.4796334505081177, 1.5, 1.5797890424728394, 1.600000023841858, 1.679837942123413, 1.7000000476837158, 1.7798376083374023, 1.7999999523162842, 1.879825234413147, 1.899999976158142, 1.979823350906372, 2.0, 2.0798444747924805, 2.0999999046325684, 2.179893732070923, 2.200000047683716, 2.279970169067383, 2.299999952316284, 2.3800644874572754, 2.4000000953674316, 2.480156898498535, 2.5, 2.5802102088928223, 2.5999999046325684, 2.680164337158203, 2.700000047683716, 2.7799277305603027, 2.799999952316284, 2.8793818950653076, 2.9000000953674316, 2.978404998779297, 3.0, 3.076920747756958, 3.0999999046325684, 3.1749446392059326, 3.200000047683716, 3.272587299346924, 3.299999952316284, 3.3700170516967773, 3.4000000953674316, 3.467397928237915, 3.5, 3.5648796558380127, 3.5999999046325684, 3.6625726222991943, 3.700000047683716, 3.762377977371216, 3.799999952316284, 3.8647804260253906, 3.9000000953674316, 3.9665791988372803, 4.0, 4.0680131912231445, 4.099999904632568, 4.169216156005859, 4.199999809265137, 4.270267009735107, 4.300000190734863, 4.371217250823975, 4.400000095367432, 4.472103118896484, 4.5, 4.5729475021362305, 4.599999904632568, 4.673769474029541, 4.699999809265137, 4.774584770202637, 4.800000190734863, 4.875407695770264, 4.900000095367432], \"y\": [1.0, 1.0607954263687134, 1.09970223903656, 1.1450629234313965, 1.1515889167785645, 1.1515837907791138, 1.1264212131500244, 1.1103860139846802, 1.0387998819351196, 1.0013905763626099, 0.9089305996894836, 0.866524875164032, 0.7778266072273254, 0.7377562522888184, 0.660930871963501, 0.6285087466239929, 0.5640092492103577, 0.5392258167266846, 0.48486799001693726, 0.46594342589378357, 0.41946110129356384, 0.4047885537147522, 0.36454978585243225, 0.35295340418815613, 0.3178686797618866, 0.3084978461265564, 0.27780383825302124, 0.2700501084327698, 0.24316029250621796, 0.23660416901111603, 0.213032528758049, 0.20739494264125824, 0.18672364950180054, 0.1818210333585739, 0.16368679702281952, 0.15939557552337646, 0.1434820294380188, 0.13971449434757233, 0.12574617564678192, 0.12243584543466568, 0.11017268896102905, 0.10726585239171982, 0.09649840742349625, 0.09394945949316025, 0.08449479937553406, 0.08226361125707626, 0.07396195828914642, 0.07201234996318817, 0.06472435593605042, 0.06302304565906525, 0.05662761256098747, 0.05514343082904816, 0.049535930156707764, 0.04823910817503929, 0.04332998767495155, 0.04219149798154831, 0.03790485858917236, 0.036896001547575, 0.03316783159971237, 0.032260455191135406, 0.02903585694730282, 0.028203720226883888, 0.025433111935853958, 0.02465437352657318, 0.022289946675300598, 0.02154957875609398, 0.019543558359146118, 0.018834155052900314, 0.01713917776942253, 0.01645965501666069, 0.015030594542622566, 0.014383576810359955, 0.013178883120417595, 0.012568633072078228, 0.011551398783922195, 0.010982138104736805, 0.010095682926476002, 0.009595503099262714, 0.00879226066172123, 0.008383633568882942, 0.0076630599796772, 0.0073245819658041, 0.00668198661878705, 0.006399139761924744, 0.005828158464282751, 0.005590470507740974, 0.005084351170808077, 0.004883884452283382, 0.00443599047139287, 0.004266540054231882, 0.0038705982733517885, 0.003727178554981947, 0.0033773856703191996, 0.0032559295650571585, 0.0029470501467585564, 0.0028442146722227335, 0.0025715527590364218, 0.0024845569860190153, 0.0022438750602304935, 0.0021703667007386684]}, {\"type\": \"scatter\", \"x\": [0.0, 0.0611090324819088, 0.10000000149011612, 0.16661010682582855, 0.20000000298023224, 0.20717287063598633, 0.278901606798172, 0.30000001192092896, 0.3700580596923828, 0.4000000059604645, 0.46889400482177734, 0.5, 0.5673630833625793, 0.6000000238418579, 0.6681374907493591, 0.699999988079071, 0.7700822353363037, 0.800000011920929, 0.8722739219665527, 0.8999999761581421, 0.9743666052818298, 1.0, 1.0761942863464355, 1.100000023841858, 1.1776381731033325, 1.2000000476837158, 1.2786554098129272, 1.2999999523162842, 1.379289150238037, 1.399999976158142, 1.4796334505081177, 1.5, 1.5797890424728394, 1.600000023841858, 1.679837942123413, 1.7000000476837158, 1.7798376083374023, 1.7999999523162842, 1.879825234413147, 1.899999976158142, 1.979823350906372, 2.0, 2.0798444747924805, 2.0999999046325684, 2.179893732070923, 2.200000047683716, 2.279970169067383, 2.299999952316284, 2.3800644874572754, 2.4000000953674316, 2.480156898498535, 2.5, 2.5802102088928223, 2.5999999046325684, 2.680164337158203, 2.700000047683716, 2.7799277305603027, 2.799999952316284, 2.8793818950653076, 2.9000000953674316, 2.978404998779297, 3.0, 3.076920747756958, 3.0999999046325684, 3.1749446392059326, 3.200000047683716, 3.272587299346924, 3.299999952316284, 3.3700170516967773, 3.4000000953674316, 3.467397928237915, 3.5, 3.5648796558380127, 3.5999999046325684, 3.6625726222991943, 3.700000047683716, 3.762377977371216, 3.799999952316284, 3.8647804260253906, 3.9000000953674316, 3.9665791988372803, 4.0, 4.0680131912231445, 4.099999904632568, 4.169216156005859, 4.199999809265137, 4.270267009735107, 4.300000190734863, 4.371217250823975, 4.400000095367432, 4.472103118896484, 4.5, 4.5729475021362305, 4.599999904632568, 4.673769474029541, 4.699999809265137, 4.774584770202637, 4.800000190734863, 4.875407695770264, 4.900000095367432], \"y\": [1.0, 0.0112124839797616, -0.6376190781593323, -0.9964175820350647, -1.1792556047439575, -1.1816551685333252, -1.2041739225387573, -1.2090204954147339, -1.104856014251709, -1.0656405687332153, -0.9650446772575378, -0.9327126145362854, -0.8598380088806152, -0.8398335576057434, -0.7752379775047302, -0.7578800320625305, -0.6899473667144775, -0.6705296635627747, -0.6000687479972839, -0.5800027251243591, -0.5114012956619263, -0.49280792474746704, -0.4293995499610901, -0.413271963596344, -0.356770783662796, -0.34321001172065735, -0.2941649556159973, -0.28288206458091736, -0.2411154806613922, -0.2317398488521576, -0.19666700065135956, -0.1888694167137146, -0.15971839427947998, -0.15323394536972046, -0.1291886866092682, -0.12380583584308624, -0.10408701747655869, -0.09963259100914001, -0.0835360586643219, -0.07986436784267426, -0.06677469611167908, -0.06376117467880249, -0.05315238982439041, -0.050689972937107086, -0.04211845248937607, -0.040115002542734146, -0.03321066498756409, -0.031587157398462296, -0.02604377083480358, -0.024732699617743492, -0.020297382026910782, -0.01924096792936325, -0.01570761576294899, -0.014856867492198944, -0.012056599371135235, -0.011369614861905575, -0.009165694005787373, -0.008607087656855583, -0.006888464093208313, -0.006428753025829792, -0.005104448180645704, -0.0047200205735862255, -0.0037139621563255787, -0.003387188073247671, -0.0026352202985435724, -0.002354356925934553, -0.001802561106160283, -0.0015607712557539344, -0.0011632704408839345, -0.0009564273641444743, -0.0006765190628357232, -0.0005021250690333545, -0.0003096200234722346, -0.00016499310731887817, -3.736833605216816e-05, 7.985947740962729e-05, 0.0001637732348171994, 0.0002529591729398817, 0.00030791311291977763, 0.0003713622863870114, 0.00040215274202637374, 0.00044700808939523995, 0.0004595161008182913, 0.0004912067670375109, 0.0004895129823125899, 0.0005114241503179073, 0.0004993370384909213, 0.0005141079891473055, 0.0004944184329360723, 0.0005038775270804763, 0.000479452486615628, 0.000485224329167977, 0.0004578053776640445, 0.00046091110561974347, 0.000431607011705637, 0.0004327302158344537, 0.00040258222725242376, 0.0004023131914436817, 0.0003726649156305939, 0.0003716374631039798]}, {\"type\": \"scatter\", \"x\": [0.0, 0.0611090324819088, 0.10000000149011612, 0.16661010682582855, 0.20000000298023224, 0.20717287063598633, 0.278901606798172, 0.30000001192092896, 0.3700580596923828, 0.4000000059604645, 0.46889400482177734, 0.5, 0.5673630833625793, 0.6000000238418579, 0.6681374907493591, 0.699999988079071, 0.7700822353363037, 0.800000011920929, 0.8722739219665527, 0.8999999761581421, 0.9743666052818298, 1.0, 1.0761942863464355, 1.100000023841858, 1.1776381731033325, 1.2000000476837158, 1.2786554098129272, 1.2999999523162842, 1.379289150238037, 1.399999976158142, 1.4796334505081177, 1.5, 1.5797890424728394, 1.600000023841858, 1.679837942123413, 1.7000000476837158, 1.7798376083374023, 1.7999999523162842, 1.879825234413147, 1.899999976158142, 1.979823350906372, 2.0, 2.0798444747924805, 2.0999999046325684, 2.179893732070923, 2.200000047683716, 2.279970169067383, 2.299999952316284, 2.3800644874572754, 2.4000000953674316, 2.480156898498535, 2.5, 2.5802102088928223, 2.5999999046325684, 2.680164337158203, 2.700000047683716, 2.7799277305603027, 2.799999952316284, 2.8793818950653076, 2.9000000953674316, 2.978404998779297, 3.0, 3.076920747756958, 3.0999999046325684, 3.1749446392059326, 3.200000047683716, 3.272587299346924, 3.299999952316284, 3.3700170516967773, 3.4000000953674316, 3.467397928237915, 3.5, 3.5648796558380127, 3.5999999046325684, 3.6625726222991943, 3.700000047683716, 3.762377977371216, 3.799999952316284, 3.8647804260253906, 3.9000000953674316, 3.9665791988372803, 4.0, 4.0680131912231445, 4.099999904632568, 4.169216156005859, 4.199999809265137, 4.270267009735107, 4.300000190734863, 4.371217250823975, 4.400000095367432, 4.472103118896484, 4.5, 4.5729475021362305, 4.599999904632568, 4.673769474029541, 4.699999809265137, 4.774584770202637, 4.800000190734863, 4.875407695770264, 4.900000095367432], \"y\": [1.0, 0.9966650009155273, 1.003280520439148, 0.3585706055164337, 0.03135988116264343, -0.032750725746154785, -0.6672770977020264, -0.8527491688728333, -1.1840096712112427, -1.3136732578277588, -1.3607726097106934, -1.3640223741531372, -1.260682463645935, -1.1931161880493164, -1.0553547143936157, -0.978609025478363, -0.8575959801673889, -0.7985256910324097, -0.7028063535690308, -0.6619767546653748, -0.5863947868347168, -0.5582596063613892, -0.49709317088127136, -0.4771055579185486, -0.4264383018016815, -0.41167065501213074, -0.3689550757408142, -0.3575945198535919, -0.3211064338684082, -0.3120388090610504, -0.2805570065975189, -0.27309879660606384, -0.24573129415512085, -0.23945951461791992, -0.21553701162338257, -0.21018266677856445, -0.18919000029563904, -0.1845746636390686, -0.16610528528690338, -0.16210444271564484, -0.14582931995391846, -0.14235125482082367, -0.12799683213233948, -0.12497001141309738, -0.1123051866889, -0.10967134684324265, -0.09849739819765091, -0.09620696306228638, -0.08635134994983673, -0.08436060696840286, -0.07567430287599564, -0.07394388318061829, -0.0662958174943924, -0.06478849798440933, -0.05806677043437958, -0.0567471869289875, -0.0508548729121685, -0.04968812316656113, -0.044542346149683, -0.04349439591169357, -0.039023350924253464, -0.038062550127506256, -0.03420156240463257, -0.03330162540078163, -0.02998807467520237, -0.029130656272172928, -0.026301609352231026, -0.025477195158600807, -0.02307160757482052, -0.02227882854640484, -0.02023717761039734, -0.019478805363178253, -0.017747459933161736, -0.017029298469424248, -0.01555864978581667, -0.014885814860463142, -0.013601446524262428, -0.013010655529797077, -0.011850369162857533, -0.01137144397944212, -0.0103319576010108, -0.009937294758856297, -0.009012079797685146, -0.008684194646775723, -0.007862850092351437, -0.007588475476950407, -0.006861142814159393, -0.006630685646086931, -0.0059873368591070175, -0.00579316820949316, -0.0052253492176532745, -0.00506177544593811, -0.004560722038149834, -0.004422742873430252, -0.003980416338890791, -0.00386388530023396, -0.003473567543551326, -0.003375233616679907, -0.003031568368896842, -0.0029489367734640837]}],\n",
       "                        {\"template\": {\"data\": {\"bar\": [{\"error_x\": {\"color\": \"#2a3f5f\"}, \"error_y\": {\"color\": \"#2a3f5f\"}, \"marker\": {\"line\": {\"color\": \"#E5ECF6\", \"width\": 0.5}}, \"type\": \"bar\"}], \"barpolar\": [{\"marker\": {\"line\": {\"color\": \"#E5ECF6\", \"width\": 0.5}}, \"type\": \"barpolar\"}], \"carpet\": [{\"aaxis\": {\"endlinecolor\": \"#2a3f5f\", \"gridcolor\": \"white\", \"linecolor\": \"white\", \"minorgridcolor\": \"white\", \"startlinecolor\": \"#2a3f5f\"}, \"baxis\": {\"endlinecolor\": \"#2a3f5f\", \"gridcolor\": \"white\", \"linecolor\": \"white\", \"minorgridcolor\": \"white\", \"startlinecolor\": \"#2a3f5f\"}, \"type\": \"carpet\"}], \"choropleth\": [{\"colorbar\": {\"outlinewidth\": 0, \"ticks\": \"\"}, \"type\": \"choropleth\"}], \"contour\": [{\"colorbar\": {\"outlinewidth\": 0, \"ticks\": \"\"}, \"colorscale\": [[0.0, \"#0d0887\"], [0.1111111111111111, \"#46039f\"], [0.2222222222222222, \"#7201a8\"], [0.3333333333333333, \"#9c179e\"], [0.4444444444444444, \"#bd3786\"], [0.5555555555555556, \"#d8576b\"], [0.6666666666666666, \"#ed7953\"], [0.7777777777777778, \"#fb9f3a\"], [0.8888888888888888, \"#fdca26\"], [1.0, \"#f0f921\"]], \"type\": \"contour\"}], \"contourcarpet\": [{\"colorbar\": {\"outlinewidth\": 0, \"ticks\": \"\"}, \"type\": \"contourcarpet\"}], \"heatmap\": [{\"colorbar\": {\"outlinewidth\": 0, \"ticks\": \"\"}, \"colorscale\": [[0.0, \"#0d0887\"], [0.1111111111111111, \"#46039f\"], [0.2222222222222222, \"#7201a8\"], [0.3333333333333333, \"#9c179e\"], [0.4444444444444444, \"#bd3786\"], [0.5555555555555556, \"#d8576b\"], [0.6666666666666666, \"#ed7953\"], [0.7777777777777778, \"#fb9f3a\"], [0.8888888888888888, \"#fdca26\"], [1.0, \"#f0f921\"]], \"type\": \"heatmap\"}], \"heatmapgl\": [{\"colorbar\": {\"outlinewidth\": 0, \"ticks\": \"\"}, \"colorscale\": [[0.0, \"#0d0887\"], [0.1111111111111111, \"#46039f\"], [0.2222222222222222, \"#7201a8\"], [0.3333333333333333, \"#9c179e\"], [0.4444444444444444, \"#bd3786\"], [0.5555555555555556, \"#d8576b\"], [0.6666666666666666, \"#ed7953\"], [0.7777777777777778, \"#fb9f3a\"], [0.8888888888888888, \"#fdca26\"], [1.0, \"#f0f921\"]], \"type\": \"heatmapgl\"}], \"histogram\": [{\"marker\": {\"colorbar\": {\"outlinewidth\": 0, \"ticks\": \"\"}}, \"type\": \"histogram\"}], \"histogram2d\": [{\"colorbar\": {\"outlinewidth\": 0, \"ticks\": \"\"}, \"colorscale\": [[0.0, \"#0d0887\"], [0.1111111111111111, \"#46039f\"], [0.2222222222222222, \"#7201a8\"], [0.3333333333333333, \"#9c179e\"], [0.4444444444444444, \"#bd3786\"], [0.5555555555555556, \"#d8576b\"], [0.6666666666666666, \"#ed7953\"], [0.7777777777777778, \"#fb9f3a\"], [0.8888888888888888, \"#fdca26\"], [1.0, \"#f0f921\"]], \"type\": \"histogram2d\"}], \"histogram2dcontour\": [{\"colorbar\": {\"outlinewidth\": 0, \"ticks\": \"\"}, \"colorscale\": [[0.0, \"#0d0887\"], [0.1111111111111111, \"#46039f\"], [0.2222222222222222, \"#7201a8\"], [0.3333333333333333, \"#9c179e\"], [0.4444444444444444, \"#bd3786\"], [0.5555555555555556, \"#d8576b\"], [0.6666666666666666, \"#ed7953\"], [0.7777777777777778, \"#fb9f3a\"], [0.8888888888888888, \"#fdca26\"], [1.0, \"#f0f921\"]], \"type\": \"histogram2dcontour\"}], \"mesh3d\": [{\"colorbar\": {\"outlinewidth\": 0, \"ticks\": \"\"}, \"type\": \"mesh3d\"}], \"parcoords\": [{\"line\": {\"colorbar\": {\"outlinewidth\": 0, \"ticks\": \"\"}}, \"type\": \"parcoords\"}], \"pie\": [{\"automargin\": true, \"type\": \"pie\"}], \"scatter\": [{\"marker\": {\"colorbar\": {\"outlinewidth\": 0, \"ticks\": \"\"}}, \"type\": \"scatter\"}], \"scatter3d\": [{\"line\": {\"colorbar\": {\"outlinewidth\": 0, \"ticks\": \"\"}}, \"marker\": {\"colorbar\": {\"outlinewidth\": 0, \"ticks\": \"\"}}, \"type\": \"scatter3d\"}], \"scattercarpet\": [{\"marker\": {\"colorbar\": {\"outlinewidth\": 0, \"ticks\": \"\"}}, \"type\": \"scattercarpet\"}], \"scattergeo\": [{\"marker\": {\"colorbar\": {\"outlinewidth\": 0, \"ticks\": \"\"}}, \"type\": \"scattergeo\"}], \"scattergl\": [{\"marker\": {\"colorbar\": {\"outlinewidth\": 0, \"ticks\": \"\"}}, \"type\": \"scattergl\"}], \"scattermapbox\": [{\"marker\": {\"colorbar\": {\"outlinewidth\": 0, \"ticks\": \"\"}}, \"type\": \"scattermapbox\"}], \"scatterpolar\": [{\"marker\": {\"colorbar\": {\"outlinewidth\": 0, \"ticks\": \"\"}}, \"type\": \"scatterpolar\"}], \"scatterpolargl\": [{\"marker\": {\"colorbar\": {\"outlinewidth\": 0, \"ticks\": \"\"}}, \"type\": \"scatterpolargl\"}], \"scatterternary\": [{\"marker\": {\"colorbar\": {\"outlinewidth\": 0, \"ticks\": \"\"}}, \"type\": \"scatterternary\"}], \"surface\": [{\"colorbar\": {\"outlinewidth\": 0, \"ticks\": \"\"}, \"colorscale\": [[0.0, \"#0d0887\"], [0.1111111111111111, \"#46039f\"], [0.2222222222222222, \"#7201a8\"], [0.3333333333333333, \"#9c179e\"], [0.4444444444444444, \"#bd3786\"], [0.5555555555555556, \"#d8576b\"], [0.6666666666666666, \"#ed7953\"], [0.7777777777777778, \"#fb9f3a\"], [0.8888888888888888, \"#fdca26\"], [1.0, \"#f0f921\"]], \"type\": \"surface\"}], \"table\": [{\"cells\": {\"fill\": {\"color\": \"#EBF0F8\"}, \"line\": {\"color\": \"white\"}}, \"header\": {\"fill\": {\"color\": \"#C8D4E3\"}, \"line\": {\"color\": \"white\"}}, \"type\": \"table\"}]}, \"layout\": {\"annotationdefaults\": {\"arrowcolor\": \"#2a3f5f\", \"arrowhead\": 0, \"arrowwidth\": 1}, \"coloraxis\": {\"colorbar\": {\"outlinewidth\": 0, \"ticks\": \"\"}}, \"colorscale\": {\"diverging\": [[0, \"#8e0152\"], [0.1, \"#c51b7d\"], [0.2, \"#de77ae\"], [0.3, \"#f1b6da\"], [0.4, \"#fde0ef\"], [0.5, \"#f7f7f7\"], [0.6, \"#e6f5d0\"], [0.7, \"#b8e186\"], [0.8, \"#7fbc41\"], [0.9, \"#4d9221\"], [1, \"#276419\"]], \"sequential\": [[0.0, \"#0d0887\"], [0.1111111111111111, \"#46039f\"], [0.2222222222222222, \"#7201a8\"], [0.3333333333333333, \"#9c179e\"], [0.4444444444444444, \"#bd3786\"], [0.5555555555555556, \"#d8576b\"], [0.6666666666666666, \"#ed7953\"], [0.7777777777777778, \"#fb9f3a\"], [0.8888888888888888, \"#fdca26\"], [1.0, \"#f0f921\"]], \"sequentialminus\": [[0.0, \"#0d0887\"], [0.1111111111111111, \"#46039f\"], [0.2222222222222222, \"#7201a8\"], [0.3333333333333333, \"#9c179e\"], [0.4444444444444444, \"#bd3786\"], [0.5555555555555556, \"#d8576b\"], [0.6666666666666666, \"#ed7953\"], [0.7777777777777778, \"#fb9f3a\"], [0.8888888888888888, \"#fdca26\"], [1.0, \"#f0f921\"]]}, \"colorway\": [\"#636efa\", \"#EF553B\", \"#00cc96\", \"#ab63fa\", \"#FFA15A\", \"#19d3f3\", \"#FF6692\", \"#B6E880\", \"#FF97FF\", \"#FECB52\"], \"font\": {\"color\": \"#2a3f5f\"}, \"geo\": {\"bgcolor\": \"white\", \"lakecolor\": \"white\", \"landcolor\": \"#E5ECF6\", \"showlakes\": true, \"showland\": true, \"subunitcolor\": \"white\"}, \"hoverlabel\": {\"align\": \"left\"}, \"hovermode\": \"closest\", \"mapbox\": {\"style\": \"light\"}, \"paper_bgcolor\": \"white\", \"plot_bgcolor\": \"#E5ECF6\", \"polar\": {\"angularaxis\": {\"gridcolor\": \"white\", \"linecolor\": \"white\", \"ticks\": \"\"}, \"bgcolor\": \"#E5ECF6\", \"radialaxis\": {\"gridcolor\": \"white\", \"linecolor\": \"white\", \"ticks\": \"\"}}, \"scene\": {\"xaxis\": {\"backgroundcolor\": \"#E5ECF6\", \"gridcolor\": \"white\", \"gridwidth\": 2, \"linecolor\": \"white\", \"showbackground\": true, \"ticks\": \"\", \"zerolinecolor\": \"white\"}, \"yaxis\": {\"backgroundcolor\": \"#E5ECF6\", \"gridcolor\": \"white\", \"gridwidth\": 2, \"linecolor\": \"white\", \"showbackground\": true, \"ticks\": \"\", \"zerolinecolor\": \"white\"}, \"zaxis\": {\"backgroundcolor\": \"#E5ECF6\", \"gridcolor\": \"white\", \"gridwidth\": 2, \"linecolor\": \"white\", \"showbackground\": true, \"ticks\": \"\", \"zerolinecolor\": \"white\"}}, \"shapedefaults\": {\"line\": {\"color\": \"#2a3f5f\"}}, \"ternary\": {\"aaxis\": {\"gridcolor\": \"white\", \"linecolor\": \"white\", \"ticks\": \"\"}, \"baxis\": {\"gridcolor\": \"white\", \"linecolor\": \"white\", \"ticks\": \"\"}, \"bgcolor\": \"#E5ECF6\", \"caxis\": {\"gridcolor\": \"white\", \"linecolor\": \"white\", \"ticks\": \"\"}}, \"title\": {\"x\": 0.05}, \"xaxis\": {\"automargin\": true, \"gridcolor\": \"white\", \"linecolor\": \"white\", \"ticks\": \"\", \"title\": {\"standoff\": 15}, \"zerolinecolor\": \"white\", \"zerolinewidth\": 2}, \"yaxis\": {\"automargin\": true, \"gridcolor\": \"white\", \"linecolor\": \"white\", \"ticks\": \"\", \"title\": {\"standoff\": 15}, \"zerolinecolor\": \"white\", \"zerolinewidth\": 2}}}},\n",
       "                        {\"responsive\": true}\n",
       "                    ).then(function(){\n",
       "                            \n",
       "var gd = document.getElementById('fbee95b9-5b0e-4430-adb3-ff256f5ce007');\n",
       "var x = new MutationObserver(function (mutations, observer) {{\n",
       "        var display = window.getComputedStyle(gd).display;\n",
       "        if (!display || display === 'none') {{\n",
       "            console.log([gd, 'removed!']);\n",
       "            Plotly.purge(gd);\n",
       "            observer.disconnect();\n",
       "        }}\n",
       "}});\n",
       "\n",
       "// Listen for the removal of the full notebook cells\n",
       "var notebookContainer = gd.closest('#notebook-container');\n",
       "if (notebookContainer) {{\n",
       "    x.observe(notebookContainer, {childList: true});\n",
       "}}\n",
       "\n",
       "// Listen for the clearing of the current output cell\n",
       "var outputEl = gd.closest('.output');\n",
       "if (outputEl) {{\n",
       "    x.observe(outputEl, {childList: true});\n",
       "}}\n",
       "\n",
       "                        })\n",
       "                };\n",
       "                });\n",
       "            </script>\n",
       "        </div>"
      ]
     },
     "metadata": {},
     "output_type": "display_data"
    },
    {
     "name": "stdout",
     "output_type": "stream",
     "text": [
      "tensor([[3.7809, 1.2144, 1.6894, 0.6587],\n",
      "        [1.2144, 0.5992, 0.5730, 0.2586],\n",
      "        [1.6894, 0.5730, 0.7844, 0.3092],\n",
      "        [0.6587, 0.2586, 0.3092, 0.1395]], dtype=torch.float64)\n"
     ]
    }
   ],
   "source": [
    "Q = torch.diag(torch.tensor([.1, .1, .1, .1]))\n",
    "R = torch.diag(torch.tensor([.01, .01]))\n",
    "x_nom = torch.tensor([np.pi, 0., 0., 0.], dtype=vf.dtype)\n",
    "u_nom = torch.zeros(vf.u_dim[0], dtype=vf.dtype)\n",
    "ctrl, S = controllers.get_lqr_controller(sys.dx, x_nom, u_nom, Q, R, vf.u_lo[0], vf.u_up[0])\n",
    "S = torch.tensor(S, dtype=vf.dtype)\n",
    "\n",
    "# lqr_model = value_approximation.QuadraticModel(vf.dtype, vf.x_dim[0], Q=S, q=-2.*S@x_nom, c=x_nom@S@x_nom)\n",
    "# lqr_vf_approx = value_approximation.InfiniteHorizonValueFunctionApproximation(vf.dtype, vf.x_dim[0], lqr_model)\n",
    "\n",
    "# vf_ctrl_N = 10\n",
    "# ctrl = controllers.get_limited_lookahead_controller(double_pendulum_utils.get_value_function(vf_ctrl_N)[0], lqr_vf_approx)\n",
    "# ctrl = controllers.get_limited_lookahead_controller(double_pendulum_utils.get_value_function(vf_ctrl_N)[0])\n",
    "\n",
    "x0 = torch.tensor([np.pi+1., 1., 1., 1.], dtype=vf.dtype)\n",
    "x_traj_sim, t_traj_sim = controllers.sim_ctrl(x0, vf.u_dim[0], sys.dx, ctrl, .1, 50)\n",
    "\n",
    "fig = go.Figure()\n",
    "for i in range(4):\n",
    "    fig.add_trace(go.Scatter(\n",
    "        x=t_traj_sim,\n",
    "        y=x_traj_sim[i,:]\n",
    "    ))\n",
    "fig.show()\n",
    "\n",
    "print(S)"
   ]
  },
  {
   "cell_type": "code",
   "execution_count": 85,
   "metadata": {},
   "outputs": [],
   "source": [
    "x0_lo = torch.tensor([np.pi, 0., 0., 0.], dtype=vf.dtype) - 1.\n",
    "x0_up = torch.tensor([np.pi, 0., 0., 0.], dtype=vf.dtype) + 1.\n",
    "\n",
    "# file options\n",
    "sys_name = 'double_pendulum'\n",
    "x_validation_file = '../data/validation_' + sys_name + '_x.pt'\n",
    "v_validation_file = '../data/validation_' + sys_name + '_v.pt'\n",
    "x_init_file = '../data/init_' + sys_name + '_x.pt'\n",
    "v_init_file = '../data/init_' + sys_name + '_v.pt'\n",
    "model_file = '../data/' + sys_name + '.pt'"
   ]
  },
  {
   "cell_type": "code",
   "execution_count": 86,
   "metadata": {},
   "outputs": [],
   "source": [
    "opt = dict(\n",
    "    max_buffer_size = None,\n",
    "    batch_size = 60,\n",
    "    learning_rate = 1e-3,\n",
    "    \n",
    "    num_samples_validation = 500,\n",
    "    \n",
    "    init_num_samples = [5, 5, 5, 5],\n",
    "    init_num_trainig_step = 50000,\n",
    "    \n",
    "    num_generations = 3,\n",
    "    num_samples_per_generation = 100,\n",
    "    num_train_step_per_gen = 10000,\n",
    "    \n",
    "    adv_max_iter = 2,\n",
    "    adv_conv_tol = 1e-5,\n",
    "    adv_learning_rate = .1,\n",
    ")"
   ]
  },
  {
   "cell_type": "code",
   "execution_count": 87,
   "metadata": {},
   "outputs": [],
   "source": [
    "samples_gen_rand = samples_generator.RandomSampleGenerator(vf, x0_lo, x0_up)\n",
    "samples_gen_grid = samples_generator.GridSampleGenerator(vf, x0_lo, x0_up)\n",
    "samples_gen_adv = samples_generator.AdversarialSampleGenerator(vf, x0_lo, x0_up, \n",
    "                                                               max_iter=opt['adv_max_iter'],\n",
    "                                                               conv_tol=opt['adv_conv_tol'],\n",
    "                                                               learning_rate=opt['adv_learning_rate'])"
   ]
  },
  {
   "cell_type": "code",
   "execution_count": 21,
   "metadata": {},
   "outputs": [
    {
     "name": "stdout",
     "output_type": "stream",
     "text": [
      "Progress: [########################################] 100.0%\n"
     ]
    }
   ],
   "source": [
    "x_validation, v_validation = samples_gen_rand.generate_samples(opt['num_samples_validation'], show_progress=True)"
   ]
  },
  {
   "cell_type": "code",
   "execution_count": 26,
   "metadata": {},
   "outputs": [],
   "source": [
    "torch.save(x_validation, x_validation_file)\n",
    "torch.save(v_validation, v_validation_file)"
   ]
  },
  {
   "cell_type": "code",
   "execution_count": 88,
   "metadata": {},
   "outputs": [],
   "source": [
    "x_validation = torch.load(x_validation_file)\n",
    "v_validation = torch.load(v_validation_file)"
   ]
  },
  {
   "cell_type": "code",
   "execution_count": 89,
   "metadata": {},
   "outputs": [],
   "source": [
    "scale = torch.mean(v_validation)\n",
    "\n",
    "# model = value_approximation.QuadraticModel(vf.dtype, vf.x_dim[0], scaling=scale)\n",
    "model = value_approximation.NeuralNetworkModel(vf.dtype, vf.x_dim[0], 50, 1, scaling=scale)\n",
    "\n",
    "vf_approx = value_approximation.InfiniteHorizonValueFunctionApproximation(vf.dtype, vf.x_dim[0], model,\n",
    "                                                                          learning_rate=opt['learning_rate'])\n",
    "train_log = training_log.TrainingLog(1, prefix=\"baseline\")"
   ]
  },
  {
   "cell_type": "code",
   "execution_count": 90,
   "metadata": {},
   "outputs": [],
   "source": [
    "samples_buff = samples_buffer.SamplesBuffer(vf.x_dim[0], 1, vf.dtype, max_size=opt['max_buffer_size'])"
   ]
  },
  {
   "cell_type": "code",
   "execution_count": 30,
   "metadata": {},
   "outputs": [
    {
     "name": "stdout",
     "output_type": "stream",
     "text": [
      "Progress: [########################################] 100.0%\n"
     ]
    }
   ],
   "source": [
    "# x_init, v_init = samples_gen_rand.generate_samples(opt['init_num_samples'], show_progress=True)\n",
    "x_init, v_init = samples_gen_grid.generate_samples(opt['init_num_samples'], show_progress=True)"
   ]
  },
  {
   "cell_type": "code",
   "execution_count": 31,
   "metadata": {},
   "outputs": [],
   "source": [
    "torch.save(x_init, x_init_file)\n",
    "torch.save(v_init, v_init_file)"
   ]
  },
  {
   "cell_type": "code",
   "execution_count": 91,
   "metadata": {},
   "outputs": [],
   "source": [
    "x_init = torch.load(x_init_file)\n",
    "v_init = torch.load(v_init_file)"
   ]
  },
  {
   "cell_type": "code",
   "execution_count": 92,
   "metadata": {},
   "outputs": [],
   "source": [
    "samples_buff.add_samples(x_init, v_init)\n",
    "# samples_buff.add_samples(x_validation, v_validation)"
   ]
  },
  {
   "cell_type": "code",
   "execution_count": 93,
   "metadata": {},
   "outputs": [],
   "source": [
    "for train_step_i in range(opt['init_num_trainig_step']):\n",
    "    x, v = samples_buff.get_random_samples(opt['batch_size'])\n",
    "    losses = vf_approx.train_step(x, v)\n",
    "    train_log.add_train_loss(losses)"
   ]
  },
  {
   "cell_type": "code",
   "execution_count": 94,
   "metadata": {},
   "outputs": [],
   "source": [
    "samples_buff_adv = copy.deepcopy(samples_buff)\n",
    "vf_approx_adv = copy.deepcopy(vf_approx)\n",
    "train_log_adv = training_log.TrainingLog.get_copy(train_log,\n",
    "                                                  prefix=\"adversarial\",\n",
    "                                                  keep_writer=True)"
   ]
  },
  {
   "cell_type": "code",
   "execution_count": 97,
   "metadata": {},
   "outputs": [],
   "source": [
    "validation_losses = vf_approx_adv.validation_loss(x_validation, v_validation)\n",
    "train_log_adv.add_validation_loss(validation_losses)\n",
    "validation_losses = vf_approx.validation_loss(x_validation, v_validation)\n",
    "train_log.add_validation_loss(validation_losses)\n",
    "for gen_i in range(opt['num_generations']):\n",
    "    # adverserial samples\n",
    "#     (x, v) = samples_gen_adv.generate_samples(opt['num_samples_per_generation'], vf_approx_adv)\n",
    "#     samples_buff_adv.add_samples(x, v)\n",
    "    # random samples\n",
    "#     (x, v) = samples_gen_rand.generate_samples(opt['num_samples_per_generation'])\n",
    "#     samples_buff.add_samples(x, v)\n",
    "    for train_step_i in range(opt['num_train_step_per_gen']):\n",
    "        \n",
    "        samples_indices = samples_buff_adv.get_random_sample_indices(opt['batch_size'])\n",
    "        \n",
    "        x, v = samples_buff_adv.get_samples_from_indices(samples_indices)\n",
    "        losses = vf_approx_adv.train_step(x, v)\n",
    "        train_log_adv.add_train_loss(losses)\n",
    "        \n",
    "        x, v = samples_buff.get_samples_from_indices(samples_indices)\n",
    "        losses = vf_approx.train_step(x, v)\n",
    "        train_log.add_train_loss(losses)\n",
    "    \n",
    "    validation_losses = vf_approx_adv.validation_loss(x_validation, v_validation)\n",
    "    train_log_adv.add_validation_loss(validation_losses)\n",
    "    validation_losses = vf_approx.validation_loss(x_validation, v_validation)\n",
    "    train_log.add_validation_loss(validation_losses)"
   ]
  },
  {
   "cell_type": "code",
   "execution_count": 65,
   "metadata": {},
   "outputs": [],
   "source": [
    "x0 = torch.Tensor([np.pi+.2, .1, 0.5, 3.]).double()\n",
    "vf_ctrl_N = 5"
   ]
  },
  {
   "cell_type": "code",
   "execution_count": 66,
   "metadata": {},
   "outputs": [
    {
     "name": "stdout",
     "output_type": "stream",
     "text": [
      "Baseline\n"
     ]
    },
    {
     "data": {
      "application/vnd.plotly.v1+json": {
       "config": {
        "plotlyServerURL": "https://plot.ly"
       },
       "data": [
        {
         "type": "scatter",
         "x": [
          0,
          0.04400067776441574,
          0.10000000149011612,
          0.15665297210216522,
          0.20000000298023224,
          0.25556159019470215,
          0.30000001192092896,
          0.34729376435279846,
          0.4000000059604645,
          0.44690319895744324,
          0.5,
          0.5501567125320435,
          0.6000000238418579,
          0.6467122435569763,
          0.699999988079071,
          0.7439175844192505,
          0.800000011920929,
          0.8408759236335754,
          0.8999999761581421,
          0.9354222416877747,
          1,
          1.0324628353118896,
          1.100000023841858,
          1.146286964416504,
          1.2000000476837158,
          1.2567057609558105,
          1.2999999523162842,
          1.3664056062698364,
          1.399999976158142,
          1.4738065004348755,
          1.5,
          1.578747034072876,
          1.600000023841858,
          1.6820814609527588,
          1.7000000476837158,
          1.7800124883651733,
          1.7999999523162842,
          1.8746247291564941,
          1.899999976158142,
          1.9705758094787598,
          2,
          2.0683133602142334,
          2.0999999046325684,
          2.167525053024292,
          2.200000047683716,
          2.2681527137756348,
          2.299999952316284,
          2.37062406539917,
          2.4000000953674316,
          2.4767673015594482,
          2.5,
          2.5998659133911133,
          2.5999999046325684,
          2.681673049926758,
          2.700000047683716,
          2.769678831100464,
          2.799999952316284,
          2.865025520324707,
          2.9000000953674316,
          2.962716817855835,
          3,
          3.0617010593414307,
          3.0999999046325684,
          3.1617116928100586,
          3.200000047683716,
          3.2625184059143066,
          3.299999952316284,
          3.363640546798706,
          3.4000000953674316,
          3.4644742012023926,
          3.5,
          3.5647060871124268,
          3.5999999046325684,
          3.6643145084381104,
          3.700000047683716,
          3.763046979904175,
          3.799999952316284,
          3.860297203063965,
          3.9000000953674316,
          3.9564898014068604,
          4,
          4.052377700805664,
          4.099999904632568,
          4.148177623748779,
          4.199999809265137,
          4.243919372558594,
          4.300000190734863,
          4.339779853820801,
          4.400000095367432,
          4.437024116516113,
          4.5,
          4.539371490478516,
          4.599999904632568,
          4.649188041687012,
          4.699999809265137,
          4.758233547210693,
          4.800000190734863,
          4.843085765838623,
          4.900000095367432
         ],
         "y": [
          3.34159255027771,
          3.3689327239990234,
          3.4187355041503906,
          3.484933853149414,
          3.545092821121216,
          3.6347038745880127,
          3.716411590576172,
          3.813321113586426,
          3.933413505554199,
          4.051609039306641,
          4.199881553649902,
          4.351117134094238,
          4.507242679595947,
          4.659412860870361,
          4.840277671813965,
          4.994900703430176,
          5.199560165405273,
          5.352756500244141,
          5.57960844039917,
          5.717001438140869,
          5.969227313995361,
          6.0951828956604,
          6.354266166687012,
          6.527073860168457,
          6.721703052520752,
          6.918623447418213,
          7.062660217285156,
          7.272139072418213,
          7.372805118560791,
          7.581161975860596,
          7.651016712188721,
          7.848026275634766,
          7.8980841636657715,
          8.078930854797363,
          8.116047859191895,
          8.27135181427002,
          8.307844161987305,
          8.435901641845703,
          8.476948738098145,
          8.584548950195312,
          8.627004623413086,
          8.72032642364502,
          8.76152515411377,
          8.845159530639648,
          8.883702278137207,
          8.961316108703613,
          8.996328353881836,
          9.071415901184082,
          9.101798057556152,
          9.179183959960938,
          9.202134132385254,
          9.298891067504883,
          9.299018859863281,
          9.376568794250488,
          9.393796920776367,
          9.459319114685059,
          9.48772144317627,
          9.54916000366211,
          9.582390785217285,
          9.643156051635742,
          9.679906845092773,
          9.742709159851074,
          9.782890319824219,
          9.850661277770996,
          9.894599914550781,
          9.970717430114746,
          10.01899242401123,
          10.10680866241455,
          10.16025161743164,
          10.26196002960205,
          10.321582794189453,
          10.437313079833984,
          10.503899574279785,
          10.631650924682617,
          10.70556926727295,
          10.84151554107666,
          10.923910140991211,
          11.062030792236328,
          11.154806137084961,
          11.288211822509766,
          11.39117431640625,
          11.514248847961426,
          11.624354362487793,
          11.732948303222656,
          11.845653533935547,
          11.936897277832031,
          12.046785354614258,
          12.119468688964844,
          12.220373153686523,
          12.276411056518555,
          12.360613822937012,
          12.405805587768555,
          12.46392822265625,
          12.500782012939453,
          12.529377937316895,
          12.55056095123291,
          12.558671951293945,
          12.56109619140625,
          12.555795669555664
         ]
        },
        {
         "type": "scatter",
         "x": [
          0,
          0.04400067776441574,
          0.10000000149011612,
          0.15665297210216522,
          0.20000000298023224,
          0.25556159019470215,
          0.30000001192092896,
          0.34729376435279846,
          0.4000000059604645,
          0.44690319895744324,
          0.5,
          0.5501567125320435,
          0.6000000238418579,
          0.6467122435569763,
          0.699999988079071,
          0.7439175844192505,
          0.800000011920929,
          0.8408759236335754,
          0.8999999761581421,
          0.9354222416877747,
          1,
          1.0324628353118896,
          1.100000023841858,
          1.146286964416504,
          1.2000000476837158,
          1.2567057609558105,
          1.2999999523162842,
          1.3664056062698364,
          1.399999976158142,
          1.4738065004348755,
          1.5,
          1.578747034072876,
          1.600000023841858,
          1.6820814609527588,
          1.7000000476837158,
          1.7800124883651733,
          1.7999999523162842,
          1.8746247291564941,
          1.899999976158142,
          1.9705758094787598,
          2,
          2.0683133602142334,
          2.0999999046325684,
          2.167525053024292,
          2.200000047683716,
          2.2681527137756348,
          2.299999952316284,
          2.37062406539917,
          2.4000000953674316,
          2.4767673015594482,
          2.5,
          2.5998659133911133,
          2.5999999046325684,
          2.681673049926758,
          2.700000047683716,
          2.769678831100464,
          2.799999952316284,
          2.865025520324707,
          2.9000000953674316,
          2.962716817855835,
          3,
          3.0617010593414307,
          3.0999999046325684,
          3.1617116928100586,
          3.200000047683716,
          3.2625184059143066,
          3.299999952316284,
          3.363640546798706,
          3.4000000953674316,
          3.4644742012023926,
          3.5,
          3.5647060871124268,
          3.5999999046325684,
          3.6643145084381104,
          3.700000047683716,
          3.763046979904175,
          3.799999952316284,
          3.860297203063965,
          3.9000000953674316,
          3.9564898014068604,
          4,
          4.052377700805664,
          4.099999904632568,
          4.148177623748779,
          4.199999809265137,
          4.243919372558594,
          4.300000190734863,
          4.339779853820801,
          4.400000095367432,
          4.437024116516113,
          4.5,
          4.539371490478516,
          4.599999904632568,
          4.649188041687012,
          4.699999809265137,
          4.758233547210693,
          4.800000190734863,
          4.843085765838623,
          4.900000095367432
         ],
         "y": [
          0.10000000149011612,
          0.22051258385181427,
          0.3427826166152954,
          0.43627849221229553,
          0.49146923422813416,
          0.5419214963912964,
          0.5669019818305969,
          0.5791887044906616,
          0.5768059492111206,
          0.5602738261222839,
          0.5226738452911377,
          0.47741734981536865,
          0.4359545111656189,
          0.39985933899879456,
          0.3618732988834381,
          0.33367905020713806,
          0.30164816975593567,
          0.2825750410556793,
          0.26124194264411926,
          0.2538630962371826,
          0.2496507614850998,
          0.25390443205833435,
          0.27359768748283386,
          0.29706430435180664,
          0.3323131203651428,
          0.37791723012924194,
          0.41686728596687317,
          0.4810124933719635,
          0.5146335959434509,
          0.5887144207954407,
          0.6147867441177368,
          0.6909756064414978,
          0.7109072208404541,
          0.7849729061126709,
          0.8004946708679199,
          0.8673355579376221,
          0.8833321332931519,
          0.9412314891815186,
          0.9601380228996277,
          1.0112930536270142,
          1.0318604707717896,
          1.078473687171936,
          1.0994303226470947,
          1.1432114839553833,
          1.1637420654296875,
          1.2062187194824219,
          1.225716471672058,
          1.2686768770217896,
          1.2864019870758057,
          1.3329743146896362,
          1.3471498489379883,
          1.4099030494689941,
          1.409989595413208,
          1.465080976486206,
          1.478182077407837,
          1.5309045314788818,
          1.555687427520752,
          1.6125435829162598,
          1.6457017660140991,
          1.7094165086746216,
          1.7503913640975952,
          1.822906494140625,
          1.8713740110397339,
          1.9544390439987183,
          2.009471893310547,
          2.1039681434631348,
          2.163583278656006,
          2.2680087089538574,
          2.3294365406036377,
          2.4389522075653076,
          2.499415397644043,
          2.606891632080078,
          2.663848876953125,
          2.7618584632873535,
          2.8128697872161865,
          2.894624948501587,
          2.937483072280884,
          2.998298406600952,
          3.032472848892212,
          3.073146343231201,
          3.098768711090088,
          3.123573064804077,
          3.1411020755767822,
          3.1547231674194336,
          3.165367364883423,
          3.1719486713409424,
          3.1775450706481934,
          3.1803622245788574,
          3.183074712753296,
          3.184457778930664,
          3.1864500045776367,
          3.1880104541778564,
          3.190973997116089,
          3.1943142414093018,
          3.1986701488494873,
          3.2050037384033203,
          3.2103610038757324,
          3.216620922088623,
          3.2258942127227783
         ]
        },
        {
         "type": "scatter",
         "x": [
          0,
          0.04400067776441574,
          0.10000000149011612,
          0.15665297210216522,
          0.20000000298023224,
          0.25556159019470215,
          0.30000001192092896,
          0.34729376435279846,
          0.4000000059604645,
          0.44690319895744324,
          0.5,
          0.5501567125320435,
          0.6000000238418579,
          0.6467122435569763,
          0.699999988079071,
          0.7439175844192505,
          0.800000011920929,
          0.8408759236335754,
          0.8999999761581421,
          0.9354222416877747,
          1,
          1.0324628353118896,
          1.100000023841858,
          1.146286964416504,
          1.2000000476837158,
          1.2567057609558105,
          1.2999999523162842,
          1.3664056062698364,
          1.399999976158142,
          1.4738065004348755,
          1.5,
          1.578747034072876,
          1.600000023841858,
          1.6820814609527588,
          1.7000000476837158,
          1.7800124883651733,
          1.7999999523162842,
          1.8746247291564941,
          1.899999976158142,
          1.9705758094787598,
          2,
          2.0683133602142334,
          2.0999999046325684,
          2.167525053024292,
          2.200000047683716,
          2.2681527137756348,
          2.299999952316284,
          2.37062406539917,
          2.4000000953674316,
          2.4767673015594482,
          2.5,
          2.5998659133911133,
          2.5999999046325684,
          2.681673049926758,
          2.700000047683716,
          2.769678831100464,
          2.799999952316284,
          2.865025520324707,
          2.9000000953674316,
          2.962716817855835,
          3,
          3.0617010593414307,
          3.0999999046325684,
          3.1617116928100586,
          3.200000047683716,
          3.2625184059143066,
          3.299999952316284,
          3.363640546798706,
          3.4000000953674316,
          3.4644742012023926,
          3.5,
          3.5647060871124268,
          3.5999999046325684,
          3.6643145084381104,
          3.700000047683716,
          3.763046979904175,
          3.799999952316284,
          3.860297203063965,
          3.9000000953674316,
          3.9564898014068604,
          4,
          4.052377700805664,
          4.099999904632568,
          4.148177623748779,
          4.199999809265137,
          4.243919372558594,
          4.300000190734863,
          4.339779853820801,
          4.400000095367432,
          4.437024116516113,
          4.5,
          4.539371490478516,
          4.599999904632568,
          4.649188041687012,
          4.699999809265137,
          4.758233547210693,
          4.800000190734863,
          4.843085765838623,
          4.900000095367432
         ],
         "y": [
          0.5,
          0.7413110733032227,
          1.0347095727920532,
          1.2966700792312622,
          1.4763209819793701,
          1.742971420288086,
          1.930931806564331,
          2.162584066390991,
          2.3890914916992188,
          2.6495015621185303,
          2.933281421661377,
          3.0858945846557617,
          3.166271686553955,
          3.3364741802215576,
          3.4335646629333496,
          3.5948877334594727,
          3.679861068725586,
          3.803276777267456,
          3.8418970108032227,
          3.90606951713562,
          3.872666835784912,
          3.8803021907806396,
          3.7623684406280518,
          3.69404673576355,
          3.540431022644043,
          3.396106243133545,
          3.253673553466797,
          3.051180839538574,
          2.941348075866699,
          2.7066307067871094,
          2.627657890319824,
          2.3839526176452637,
          2.3275132179260254,
          2.091975450515747,
          2.051684617996216,
          1.8449180126190186,
          1.807633399963379,
          1.6378190517425537,
          1.5990451574325562,
          1.4619147777557373,
          1.42606782913208,
          1.3162696361541748,
          1.2863718271255493,
          1.1994221210479736,
          1.176299810409546,
          1.108561635017395,
          1.091828465461731,
          1.0403436422348022,
          1.0291391611099243,
          0.9912480115890503,
          0.9848083853721619,
          0.9555216431617737,
          0.9554927945137024,
          0.9420726299285889,
          0.9378727674484253,
          0.9393088221549988,
          0.9334850311279297,
          0.9510015845298767,
          0.9478294253349304,
          0.9832978248596191,
          0.9859420657157898,
          1.0418963432312012,
          1.0534948110580444,
          1.1340341567993164,
          1.1578186750411987,
          1.2674047946929932,
          1.305023431777954,
          1.4435529708862305,
          1.4924860000610352,
          1.649672031402588,
          1.7029298543930054,
          1.859886884689331,
          1.9089932441711426,
          2.0491509437561035,
          2.08910870552063,
          2.210263967514038,
          2.2445871829986572,
          2.3257644176483154,
          2.3428640365600586,
          2.3713715076446533,
          2.355799913406372,
          2.336667776107788,
          2.2811696529388428,
          2.221665859222412,
          2.1216113567352295,
          2.0300300121307373,
          1.883326768875122,
          1.7693268060684204,
          1.5782582759857178,
          1.4485526084899902,
          1.2253097295761108,
          1.0714493989944458,
          0.8492224812507629,
          0.6531729698181152,
          0.47714298963546753,
          0.2587653398513794,
          0.134267657995224,
          -0.015960359945893288,
          -0.1596478372812271
         ]
        },
        {
         "type": "scatter",
         "x": [
          0,
          0.04400067776441574,
          0.10000000149011612,
          0.15665297210216522,
          0.20000000298023224,
          0.25556159019470215,
          0.30000001192092896,
          0.34729376435279846,
          0.4000000059604645,
          0.44690319895744324,
          0.5,
          0.5501567125320435,
          0.6000000238418579,
          0.6467122435569763,
          0.699999988079071,
          0.7439175844192505,
          0.800000011920929,
          0.8408759236335754,
          0.8999999761581421,
          0.9354222416877747,
          1,
          1.0324628353118896,
          1.100000023841858,
          1.146286964416504,
          1.2000000476837158,
          1.2567057609558105,
          1.2999999523162842,
          1.3664056062698364,
          1.399999976158142,
          1.4738065004348755,
          1.5,
          1.578747034072876,
          1.600000023841858,
          1.6820814609527588,
          1.7000000476837158,
          1.7800124883651733,
          1.7999999523162842,
          1.8746247291564941,
          1.899999976158142,
          1.9705758094787598,
          2,
          2.0683133602142334,
          2.0999999046325684,
          2.167525053024292,
          2.200000047683716,
          2.2681527137756348,
          2.299999952316284,
          2.37062406539917,
          2.4000000953674316,
          2.4767673015594482,
          2.5,
          2.5998659133911133,
          2.5999999046325684,
          2.681673049926758,
          2.700000047683716,
          2.769678831100464,
          2.799999952316284,
          2.865025520324707,
          2.9000000953674316,
          2.962716817855835,
          3,
          3.0617010593414307,
          3.0999999046325684,
          3.1617116928100586,
          3.200000047683716,
          3.2625184059143066,
          3.299999952316284,
          3.363640546798706,
          3.4000000953674316,
          3.4644742012023926,
          3.5,
          3.5647060871124268,
          3.5999999046325684,
          3.6643145084381104,
          3.700000047683716,
          3.763046979904175,
          3.799999952316284,
          3.860297203063965,
          3.9000000953674316,
          3.9564898014068604,
          4,
          4.052377700805664,
          4.099999904632568,
          4.148177623748779,
          4.199999809265137,
          4.243919372558594,
          4.300000190734863,
          4.339779853820801,
          4.400000095367432,
          4.437024116516113,
          4.5,
          4.539371490478516,
          4.599999904632568,
          4.649188041687012,
          4.699999809265137,
          4.758233547210693,
          4.800000190734863,
          4.843085765838623,
          4.900000095367432
         ],
         "y": [
          3,
          2.485222816467285,
          1.8926719427108765,
          1.4248930215835571,
          1.129744052886963,
          0.7033363580703735,
          0.4301964044570923,
          0.10205007344484329,
          -0.17789627611637115,
          -0.5234484672546387,
          -0.887758731842041,
          -0.8924810886383057,
          -0.7446721196174622,
          -0.7753382325172424,
          -0.6138073205947876,
          -0.6448727250099182,
          -0.452163428068161,
          -0.458050936460495,
          -0.21204222738742828,
          -0.18819451332092285,
          0.11382248252630234,
          0.15955838561058044,
          0.4720113277435303,
          0.5578445196151733,
          0.7752379775047302,
          0.847456693649292,
          0.9600652456283569,
          0.9832248091697693,
          1.0213388204574585,
          0.9945892095565796,
          0.997166633605957,
          0.9429858326911926,
          0.9329115152359009,
          0.8727980256080627,
          0.8595958352088928,
          0.8083944916725159,
          0.7919095158576965,
          0.7549523711204529,
          0.7343659400939941,
          0.7094117403030396,
          0.6872615218162537,
          0.671208381652832,
          0.6499143242835999,
          0.6406545639038086,
          0.6220876574516296,
          0.6186284422874451,
          0.6043925881385803,
          0.607093095779419,
          0.5986968874931335,
          0.6106455326080322,
          0.609230101108551,
          0.6455614566802979,
          0.6456010341644287,
          0.7068005204200745,
          0.7230377197265625,
          0.7964188456535339,
          0.8392992615699768,
          0.9179434776306152,
          0.9804141521453857,
          1.0620298385620117,
          1.1393963098526,
          1.2235947847366333,
          1.3117516040802002,
          1.3941699266433716,
          1.4853267669677734,
          1.5524216890335083,
          1.6335018873214722,
          1.6633528470993042,
          1.7203160524368286,
          1.6922448873519897,
          1.7164194583892822,
          1.6214699745178223,
          1.6112178564071655,
          1.4533733129501343,
          1.4113129377365112,
          1.1996040344238281,
          1.1266640424728394,
          0.907627284526825,
          0.8220593929290771,
          0.6335012316703796,
          0.5542051196098328,
          0.4060594141483307,
          0.34152454137802124,
          0.23424048721790314,
          0.18876418471336365,
          0.11838258057832718,
          0.09325773268938065,
          0.05328795313835144,
          0.04756603389978409,
          0.03023345395922661,
          0.041146423667669296,
          0.04026014730334282,
          0.06171393021941185,
          0.07551411539316177,
          0.09683684259653091,
          0.12051798403263092,
          0.1355539858341217,
          0.15421247482299805,
          0.16961292922496796
         ]
        }
       ],
       "layout": {
        "template": {
         "data": {
          "bar": [
           {
            "error_x": {
             "color": "#2a3f5f"
            },
            "error_y": {
             "color": "#2a3f5f"
            },
            "marker": {
             "line": {
              "color": "#E5ECF6",
              "width": 0.5
             }
            },
            "type": "bar"
           }
          ],
          "barpolar": [
           {
            "marker": {
             "line": {
              "color": "#E5ECF6",
              "width": 0.5
             }
            },
            "type": "barpolar"
           }
          ],
          "carpet": [
           {
            "aaxis": {
             "endlinecolor": "#2a3f5f",
             "gridcolor": "white",
             "linecolor": "white",
             "minorgridcolor": "white",
             "startlinecolor": "#2a3f5f"
            },
            "baxis": {
             "endlinecolor": "#2a3f5f",
             "gridcolor": "white",
             "linecolor": "white",
             "minorgridcolor": "white",
             "startlinecolor": "#2a3f5f"
            },
            "type": "carpet"
           }
          ],
          "choropleth": [
           {
            "colorbar": {
             "outlinewidth": 0,
             "ticks": ""
            },
            "type": "choropleth"
           }
          ],
          "contour": [
           {
            "colorbar": {
             "outlinewidth": 0,
             "ticks": ""
            },
            "colorscale": [
             [
              0,
              "#0d0887"
             ],
             [
              0.1111111111111111,
              "#46039f"
             ],
             [
              0.2222222222222222,
              "#7201a8"
             ],
             [
              0.3333333333333333,
              "#9c179e"
             ],
             [
              0.4444444444444444,
              "#bd3786"
             ],
             [
              0.5555555555555556,
              "#d8576b"
             ],
             [
              0.6666666666666666,
              "#ed7953"
             ],
             [
              0.7777777777777778,
              "#fb9f3a"
             ],
             [
              0.8888888888888888,
              "#fdca26"
             ],
             [
              1,
              "#f0f921"
             ]
            ],
            "type": "contour"
           }
          ],
          "contourcarpet": [
           {
            "colorbar": {
             "outlinewidth": 0,
             "ticks": ""
            },
            "type": "contourcarpet"
           }
          ],
          "heatmap": [
           {
            "colorbar": {
             "outlinewidth": 0,
             "ticks": ""
            },
            "colorscale": [
             [
              0,
              "#0d0887"
             ],
             [
              0.1111111111111111,
              "#46039f"
             ],
             [
              0.2222222222222222,
              "#7201a8"
             ],
             [
              0.3333333333333333,
              "#9c179e"
             ],
             [
              0.4444444444444444,
              "#bd3786"
             ],
             [
              0.5555555555555556,
              "#d8576b"
             ],
             [
              0.6666666666666666,
              "#ed7953"
             ],
             [
              0.7777777777777778,
              "#fb9f3a"
             ],
             [
              0.8888888888888888,
              "#fdca26"
             ],
             [
              1,
              "#f0f921"
             ]
            ],
            "type": "heatmap"
           }
          ],
          "heatmapgl": [
           {
            "colorbar": {
             "outlinewidth": 0,
             "ticks": ""
            },
            "colorscale": [
             [
              0,
              "#0d0887"
             ],
             [
              0.1111111111111111,
              "#46039f"
             ],
             [
              0.2222222222222222,
              "#7201a8"
             ],
             [
              0.3333333333333333,
              "#9c179e"
             ],
             [
              0.4444444444444444,
              "#bd3786"
             ],
             [
              0.5555555555555556,
              "#d8576b"
             ],
             [
              0.6666666666666666,
              "#ed7953"
             ],
             [
              0.7777777777777778,
              "#fb9f3a"
             ],
             [
              0.8888888888888888,
              "#fdca26"
             ],
             [
              1,
              "#f0f921"
             ]
            ],
            "type": "heatmapgl"
           }
          ],
          "histogram": [
           {
            "marker": {
             "colorbar": {
              "outlinewidth": 0,
              "ticks": ""
             }
            },
            "type": "histogram"
           }
          ],
          "histogram2d": [
           {
            "colorbar": {
             "outlinewidth": 0,
             "ticks": ""
            },
            "colorscale": [
             [
              0,
              "#0d0887"
             ],
             [
              0.1111111111111111,
              "#46039f"
             ],
             [
              0.2222222222222222,
              "#7201a8"
             ],
             [
              0.3333333333333333,
              "#9c179e"
             ],
             [
              0.4444444444444444,
              "#bd3786"
             ],
             [
              0.5555555555555556,
              "#d8576b"
             ],
             [
              0.6666666666666666,
              "#ed7953"
             ],
             [
              0.7777777777777778,
              "#fb9f3a"
             ],
             [
              0.8888888888888888,
              "#fdca26"
             ],
             [
              1,
              "#f0f921"
             ]
            ],
            "type": "histogram2d"
           }
          ],
          "histogram2dcontour": [
           {
            "colorbar": {
             "outlinewidth": 0,
             "ticks": ""
            },
            "colorscale": [
             [
              0,
              "#0d0887"
             ],
             [
              0.1111111111111111,
              "#46039f"
             ],
             [
              0.2222222222222222,
              "#7201a8"
             ],
             [
              0.3333333333333333,
              "#9c179e"
             ],
             [
              0.4444444444444444,
              "#bd3786"
             ],
             [
              0.5555555555555556,
              "#d8576b"
             ],
             [
              0.6666666666666666,
              "#ed7953"
             ],
             [
              0.7777777777777778,
              "#fb9f3a"
             ],
             [
              0.8888888888888888,
              "#fdca26"
             ],
             [
              1,
              "#f0f921"
             ]
            ],
            "type": "histogram2dcontour"
           }
          ],
          "mesh3d": [
           {
            "colorbar": {
             "outlinewidth": 0,
             "ticks": ""
            },
            "type": "mesh3d"
           }
          ],
          "parcoords": [
           {
            "line": {
             "colorbar": {
              "outlinewidth": 0,
              "ticks": ""
             }
            },
            "type": "parcoords"
           }
          ],
          "pie": [
           {
            "automargin": true,
            "type": "pie"
           }
          ],
          "scatter": [
           {
            "marker": {
             "colorbar": {
              "outlinewidth": 0,
              "ticks": ""
             }
            },
            "type": "scatter"
           }
          ],
          "scatter3d": [
           {
            "line": {
             "colorbar": {
              "outlinewidth": 0,
              "ticks": ""
             }
            },
            "marker": {
             "colorbar": {
              "outlinewidth": 0,
              "ticks": ""
             }
            },
            "type": "scatter3d"
           }
          ],
          "scattercarpet": [
           {
            "marker": {
             "colorbar": {
              "outlinewidth": 0,
              "ticks": ""
             }
            },
            "type": "scattercarpet"
           }
          ],
          "scattergeo": [
           {
            "marker": {
             "colorbar": {
              "outlinewidth": 0,
              "ticks": ""
             }
            },
            "type": "scattergeo"
           }
          ],
          "scattergl": [
           {
            "marker": {
             "colorbar": {
              "outlinewidth": 0,
              "ticks": ""
             }
            },
            "type": "scattergl"
           }
          ],
          "scattermapbox": [
           {
            "marker": {
             "colorbar": {
              "outlinewidth": 0,
              "ticks": ""
             }
            },
            "type": "scattermapbox"
           }
          ],
          "scatterpolar": [
           {
            "marker": {
             "colorbar": {
              "outlinewidth": 0,
              "ticks": ""
             }
            },
            "type": "scatterpolar"
           }
          ],
          "scatterpolargl": [
           {
            "marker": {
             "colorbar": {
              "outlinewidth": 0,
              "ticks": ""
             }
            },
            "type": "scatterpolargl"
           }
          ],
          "scatterternary": [
           {
            "marker": {
             "colorbar": {
              "outlinewidth": 0,
              "ticks": ""
             }
            },
            "type": "scatterternary"
           }
          ],
          "surface": [
           {
            "colorbar": {
             "outlinewidth": 0,
             "ticks": ""
            },
            "colorscale": [
             [
              0,
              "#0d0887"
             ],
             [
              0.1111111111111111,
              "#46039f"
             ],
             [
              0.2222222222222222,
              "#7201a8"
             ],
             [
              0.3333333333333333,
              "#9c179e"
             ],
             [
              0.4444444444444444,
              "#bd3786"
             ],
             [
              0.5555555555555556,
              "#d8576b"
             ],
             [
              0.6666666666666666,
              "#ed7953"
             ],
             [
              0.7777777777777778,
              "#fb9f3a"
             ],
             [
              0.8888888888888888,
              "#fdca26"
             ],
             [
              1,
              "#f0f921"
             ]
            ],
            "type": "surface"
           }
          ],
          "table": [
           {
            "cells": {
             "fill": {
              "color": "#EBF0F8"
             },
             "line": {
              "color": "white"
             }
            },
            "header": {
             "fill": {
              "color": "#C8D4E3"
             },
             "line": {
              "color": "white"
             }
            },
            "type": "table"
           }
          ]
         },
         "layout": {
          "annotationdefaults": {
           "arrowcolor": "#2a3f5f",
           "arrowhead": 0,
           "arrowwidth": 1
          },
          "coloraxis": {
           "colorbar": {
            "outlinewidth": 0,
            "ticks": ""
           }
          },
          "colorscale": {
           "diverging": [
            [
             0,
             "#8e0152"
            ],
            [
             0.1,
             "#c51b7d"
            ],
            [
             0.2,
             "#de77ae"
            ],
            [
             0.3,
             "#f1b6da"
            ],
            [
             0.4,
             "#fde0ef"
            ],
            [
             0.5,
             "#f7f7f7"
            ],
            [
             0.6,
             "#e6f5d0"
            ],
            [
             0.7,
             "#b8e186"
            ],
            [
             0.8,
             "#7fbc41"
            ],
            [
             0.9,
             "#4d9221"
            ],
            [
             1,
             "#276419"
            ]
           ],
           "sequential": [
            [
             0,
             "#0d0887"
            ],
            [
             0.1111111111111111,
             "#46039f"
            ],
            [
             0.2222222222222222,
             "#7201a8"
            ],
            [
             0.3333333333333333,
             "#9c179e"
            ],
            [
             0.4444444444444444,
             "#bd3786"
            ],
            [
             0.5555555555555556,
             "#d8576b"
            ],
            [
             0.6666666666666666,
             "#ed7953"
            ],
            [
             0.7777777777777778,
             "#fb9f3a"
            ],
            [
             0.8888888888888888,
             "#fdca26"
            ],
            [
             1,
             "#f0f921"
            ]
           ],
           "sequentialminus": [
            [
             0,
             "#0d0887"
            ],
            [
             0.1111111111111111,
             "#46039f"
            ],
            [
             0.2222222222222222,
             "#7201a8"
            ],
            [
             0.3333333333333333,
             "#9c179e"
            ],
            [
             0.4444444444444444,
             "#bd3786"
            ],
            [
             0.5555555555555556,
             "#d8576b"
            ],
            [
             0.6666666666666666,
             "#ed7953"
            ],
            [
             0.7777777777777778,
             "#fb9f3a"
            ],
            [
             0.8888888888888888,
             "#fdca26"
            ],
            [
             1,
             "#f0f921"
            ]
           ]
          },
          "colorway": [
           "#636efa",
           "#EF553B",
           "#00cc96",
           "#ab63fa",
           "#FFA15A",
           "#19d3f3",
           "#FF6692",
           "#B6E880",
           "#FF97FF",
           "#FECB52"
          ],
          "font": {
           "color": "#2a3f5f"
          },
          "geo": {
           "bgcolor": "white",
           "lakecolor": "white",
           "landcolor": "#E5ECF6",
           "showlakes": true,
           "showland": true,
           "subunitcolor": "white"
          },
          "hoverlabel": {
           "align": "left"
          },
          "hovermode": "closest",
          "mapbox": {
           "style": "light"
          },
          "paper_bgcolor": "white",
          "plot_bgcolor": "#E5ECF6",
          "polar": {
           "angularaxis": {
            "gridcolor": "white",
            "linecolor": "white",
            "ticks": ""
           },
           "bgcolor": "#E5ECF6",
           "radialaxis": {
            "gridcolor": "white",
            "linecolor": "white",
            "ticks": ""
           }
          },
          "scene": {
           "xaxis": {
            "backgroundcolor": "#E5ECF6",
            "gridcolor": "white",
            "gridwidth": 2,
            "linecolor": "white",
            "showbackground": true,
            "ticks": "",
            "zerolinecolor": "white"
           },
           "yaxis": {
            "backgroundcolor": "#E5ECF6",
            "gridcolor": "white",
            "gridwidth": 2,
            "linecolor": "white",
            "showbackground": true,
            "ticks": "",
            "zerolinecolor": "white"
           },
           "zaxis": {
            "backgroundcolor": "#E5ECF6",
            "gridcolor": "white",
            "gridwidth": 2,
            "linecolor": "white",
            "showbackground": true,
            "ticks": "",
            "zerolinecolor": "white"
           }
          },
          "shapedefaults": {
           "line": {
            "color": "#2a3f5f"
           }
          },
          "ternary": {
           "aaxis": {
            "gridcolor": "white",
            "linecolor": "white",
            "ticks": ""
           },
           "baxis": {
            "gridcolor": "white",
            "linecolor": "white",
            "ticks": ""
           },
           "bgcolor": "#E5ECF6",
           "caxis": {
            "gridcolor": "white",
            "linecolor": "white",
            "ticks": ""
           }
          },
          "title": {
           "x": 0.05
          },
          "xaxis": {
           "automargin": true,
           "gridcolor": "white",
           "linecolor": "white",
           "ticks": "",
           "title": {
            "standoff": 15
           },
           "zerolinecolor": "white",
           "zerolinewidth": 2
          },
          "yaxis": {
           "automargin": true,
           "gridcolor": "white",
           "linecolor": "white",
           "ticks": "",
           "title": {
            "standoff": 15
           },
           "zerolinecolor": "white",
           "zerolinewidth": 2
          }
         }
        }
       }
      },
      "text/html": [
       "<div>\n",
       "        \n",
       "        \n",
       "            <div id=\"208b8032-7f49-45e5-b04b-9400cecdb053\" class=\"plotly-graph-div\" style=\"height:525px; width:100%;\"></div>\n",
       "            <script type=\"text/javascript\">\n",
       "                require([\"plotly\"], function(Plotly) {\n",
       "                    window.PLOTLYENV=window.PLOTLYENV || {};\n",
       "                    \n",
       "                if (document.getElementById(\"208b8032-7f49-45e5-b04b-9400cecdb053\")) {\n",
       "                    Plotly.newPlot(\n",
       "                        '208b8032-7f49-45e5-b04b-9400cecdb053',\n",
       "                        [{\"type\": \"scatter\", \"x\": [0.0, 0.04400067776441574, 0.10000000149011612, 0.15665297210216522, 0.20000000298023224, 0.25556159019470215, 0.30000001192092896, 0.34729376435279846, 0.4000000059604645, 0.44690319895744324, 0.5, 0.5501567125320435, 0.6000000238418579, 0.6467122435569763, 0.699999988079071, 0.7439175844192505, 0.800000011920929, 0.8408759236335754, 0.8999999761581421, 0.9354222416877747, 1.0, 1.0324628353118896, 1.100000023841858, 1.146286964416504, 1.2000000476837158, 1.2567057609558105, 1.2999999523162842, 1.3664056062698364, 1.399999976158142, 1.4738065004348755, 1.5, 1.578747034072876, 1.600000023841858, 1.6820814609527588, 1.7000000476837158, 1.7800124883651733, 1.7999999523162842, 1.8746247291564941, 1.899999976158142, 1.9705758094787598, 2.0, 2.0683133602142334, 2.0999999046325684, 2.167525053024292, 2.200000047683716, 2.2681527137756348, 2.299999952316284, 2.37062406539917, 2.4000000953674316, 2.4767673015594482, 2.5, 2.5998659133911133, 2.5999999046325684, 2.681673049926758, 2.700000047683716, 2.769678831100464, 2.799999952316284, 2.865025520324707, 2.9000000953674316, 2.962716817855835, 3.0, 3.0617010593414307, 3.0999999046325684, 3.1617116928100586, 3.200000047683716, 3.2625184059143066, 3.299999952316284, 3.363640546798706, 3.4000000953674316, 3.4644742012023926, 3.5, 3.5647060871124268, 3.5999999046325684, 3.6643145084381104, 3.700000047683716, 3.763046979904175, 3.799999952316284, 3.860297203063965, 3.9000000953674316, 3.9564898014068604, 4.0, 4.052377700805664, 4.099999904632568, 4.148177623748779, 4.199999809265137, 4.243919372558594, 4.300000190734863, 4.339779853820801, 4.400000095367432, 4.437024116516113, 4.5, 4.539371490478516, 4.599999904632568, 4.649188041687012, 4.699999809265137, 4.758233547210693, 4.800000190734863, 4.843085765838623, 4.900000095367432], \"y\": [3.34159255027771, 3.3689327239990234, 3.4187355041503906, 3.484933853149414, 3.545092821121216, 3.6347038745880127, 3.716411590576172, 3.813321113586426, 3.933413505554199, 4.051609039306641, 4.199881553649902, 4.351117134094238, 4.507242679595947, 4.659412860870361, 4.840277671813965, 4.994900703430176, 5.199560165405273, 5.352756500244141, 5.57960844039917, 5.717001438140869, 5.969227313995361, 6.0951828956604, 6.354266166687012, 6.527073860168457, 6.721703052520752, 6.918623447418213, 7.062660217285156, 7.272139072418213, 7.372805118560791, 7.581161975860596, 7.651016712188721, 7.848026275634766, 7.8980841636657715, 8.078930854797363, 8.116047859191895, 8.27135181427002, 8.307844161987305, 8.435901641845703, 8.476948738098145, 8.584548950195312, 8.627004623413086, 8.72032642364502, 8.76152515411377, 8.845159530639648, 8.883702278137207, 8.961316108703613, 8.996328353881836, 9.071415901184082, 9.101798057556152, 9.179183959960938, 9.202134132385254, 9.298891067504883, 9.299018859863281, 9.376568794250488, 9.393796920776367, 9.459319114685059, 9.48772144317627, 9.54916000366211, 9.582390785217285, 9.643156051635742, 9.679906845092773, 9.742709159851074, 9.782890319824219, 9.850661277770996, 9.894599914550781, 9.970717430114746, 10.01899242401123, 10.10680866241455, 10.16025161743164, 10.26196002960205, 10.321582794189453, 10.437313079833984, 10.503899574279785, 10.631650924682617, 10.70556926727295, 10.84151554107666, 10.923910140991211, 11.062030792236328, 11.154806137084961, 11.288211822509766, 11.39117431640625, 11.514248847961426, 11.624354362487793, 11.732948303222656, 11.845653533935547, 11.936897277832031, 12.046785354614258, 12.119468688964844, 12.220373153686523, 12.276411056518555, 12.360613822937012, 12.405805587768555, 12.46392822265625, 12.500782012939453, 12.529377937316895, 12.55056095123291, 12.558671951293945, 12.56109619140625, 12.555795669555664]}, {\"type\": \"scatter\", \"x\": [0.0, 0.04400067776441574, 0.10000000149011612, 0.15665297210216522, 0.20000000298023224, 0.25556159019470215, 0.30000001192092896, 0.34729376435279846, 0.4000000059604645, 0.44690319895744324, 0.5, 0.5501567125320435, 0.6000000238418579, 0.6467122435569763, 0.699999988079071, 0.7439175844192505, 0.800000011920929, 0.8408759236335754, 0.8999999761581421, 0.9354222416877747, 1.0, 1.0324628353118896, 1.100000023841858, 1.146286964416504, 1.2000000476837158, 1.2567057609558105, 1.2999999523162842, 1.3664056062698364, 1.399999976158142, 1.4738065004348755, 1.5, 1.578747034072876, 1.600000023841858, 1.6820814609527588, 1.7000000476837158, 1.7800124883651733, 1.7999999523162842, 1.8746247291564941, 1.899999976158142, 1.9705758094787598, 2.0, 2.0683133602142334, 2.0999999046325684, 2.167525053024292, 2.200000047683716, 2.2681527137756348, 2.299999952316284, 2.37062406539917, 2.4000000953674316, 2.4767673015594482, 2.5, 2.5998659133911133, 2.5999999046325684, 2.681673049926758, 2.700000047683716, 2.769678831100464, 2.799999952316284, 2.865025520324707, 2.9000000953674316, 2.962716817855835, 3.0, 3.0617010593414307, 3.0999999046325684, 3.1617116928100586, 3.200000047683716, 3.2625184059143066, 3.299999952316284, 3.363640546798706, 3.4000000953674316, 3.4644742012023926, 3.5, 3.5647060871124268, 3.5999999046325684, 3.6643145084381104, 3.700000047683716, 3.763046979904175, 3.799999952316284, 3.860297203063965, 3.9000000953674316, 3.9564898014068604, 4.0, 4.052377700805664, 4.099999904632568, 4.148177623748779, 4.199999809265137, 4.243919372558594, 4.300000190734863, 4.339779853820801, 4.400000095367432, 4.437024116516113, 4.5, 4.539371490478516, 4.599999904632568, 4.649188041687012, 4.699999809265137, 4.758233547210693, 4.800000190734863, 4.843085765838623, 4.900000095367432], \"y\": [0.10000000149011612, 0.22051258385181427, 0.3427826166152954, 0.43627849221229553, 0.49146923422813416, 0.5419214963912964, 0.5669019818305969, 0.5791887044906616, 0.5768059492111206, 0.5602738261222839, 0.5226738452911377, 0.47741734981536865, 0.4359545111656189, 0.39985933899879456, 0.3618732988834381, 0.33367905020713806, 0.30164816975593567, 0.2825750410556793, 0.26124194264411926, 0.2538630962371826, 0.2496507614850998, 0.25390443205833435, 0.27359768748283386, 0.29706430435180664, 0.3323131203651428, 0.37791723012924194, 0.41686728596687317, 0.4810124933719635, 0.5146335959434509, 0.5887144207954407, 0.6147867441177368, 0.6909756064414978, 0.7109072208404541, 0.7849729061126709, 0.8004946708679199, 0.8673355579376221, 0.8833321332931519, 0.9412314891815186, 0.9601380228996277, 1.0112930536270142, 1.0318604707717896, 1.078473687171936, 1.0994303226470947, 1.1432114839553833, 1.1637420654296875, 1.2062187194824219, 1.225716471672058, 1.2686768770217896, 1.2864019870758057, 1.3329743146896362, 1.3471498489379883, 1.4099030494689941, 1.409989595413208, 1.465080976486206, 1.478182077407837, 1.5309045314788818, 1.555687427520752, 1.6125435829162598, 1.6457017660140991, 1.7094165086746216, 1.7503913640975952, 1.822906494140625, 1.8713740110397339, 1.9544390439987183, 2.009471893310547, 2.1039681434631348, 2.163583278656006, 2.2680087089538574, 2.3294365406036377, 2.4389522075653076, 2.499415397644043, 2.606891632080078, 2.663848876953125, 2.7618584632873535, 2.8128697872161865, 2.894624948501587, 2.937483072280884, 2.998298406600952, 3.032472848892212, 3.073146343231201, 3.098768711090088, 3.123573064804077, 3.1411020755767822, 3.1547231674194336, 3.165367364883423, 3.1719486713409424, 3.1775450706481934, 3.1803622245788574, 3.183074712753296, 3.184457778930664, 3.1864500045776367, 3.1880104541778564, 3.190973997116089, 3.1943142414093018, 3.1986701488494873, 3.2050037384033203, 3.2103610038757324, 3.216620922088623, 3.2258942127227783]}, {\"type\": \"scatter\", \"x\": [0.0, 0.04400067776441574, 0.10000000149011612, 0.15665297210216522, 0.20000000298023224, 0.25556159019470215, 0.30000001192092896, 0.34729376435279846, 0.4000000059604645, 0.44690319895744324, 0.5, 0.5501567125320435, 0.6000000238418579, 0.6467122435569763, 0.699999988079071, 0.7439175844192505, 0.800000011920929, 0.8408759236335754, 0.8999999761581421, 0.9354222416877747, 1.0, 1.0324628353118896, 1.100000023841858, 1.146286964416504, 1.2000000476837158, 1.2567057609558105, 1.2999999523162842, 1.3664056062698364, 1.399999976158142, 1.4738065004348755, 1.5, 1.578747034072876, 1.600000023841858, 1.6820814609527588, 1.7000000476837158, 1.7800124883651733, 1.7999999523162842, 1.8746247291564941, 1.899999976158142, 1.9705758094787598, 2.0, 2.0683133602142334, 2.0999999046325684, 2.167525053024292, 2.200000047683716, 2.2681527137756348, 2.299999952316284, 2.37062406539917, 2.4000000953674316, 2.4767673015594482, 2.5, 2.5998659133911133, 2.5999999046325684, 2.681673049926758, 2.700000047683716, 2.769678831100464, 2.799999952316284, 2.865025520324707, 2.9000000953674316, 2.962716817855835, 3.0, 3.0617010593414307, 3.0999999046325684, 3.1617116928100586, 3.200000047683716, 3.2625184059143066, 3.299999952316284, 3.363640546798706, 3.4000000953674316, 3.4644742012023926, 3.5, 3.5647060871124268, 3.5999999046325684, 3.6643145084381104, 3.700000047683716, 3.763046979904175, 3.799999952316284, 3.860297203063965, 3.9000000953674316, 3.9564898014068604, 4.0, 4.052377700805664, 4.099999904632568, 4.148177623748779, 4.199999809265137, 4.243919372558594, 4.300000190734863, 4.339779853820801, 4.400000095367432, 4.437024116516113, 4.5, 4.539371490478516, 4.599999904632568, 4.649188041687012, 4.699999809265137, 4.758233547210693, 4.800000190734863, 4.843085765838623, 4.900000095367432], \"y\": [0.5, 0.7413110733032227, 1.0347095727920532, 1.2966700792312622, 1.4763209819793701, 1.742971420288086, 1.930931806564331, 2.162584066390991, 2.3890914916992188, 2.6495015621185303, 2.933281421661377, 3.0858945846557617, 3.166271686553955, 3.3364741802215576, 3.4335646629333496, 3.5948877334594727, 3.679861068725586, 3.803276777267456, 3.8418970108032227, 3.90606951713562, 3.872666835784912, 3.8803021907806396, 3.7623684406280518, 3.69404673576355, 3.540431022644043, 3.396106243133545, 3.253673553466797, 3.051180839538574, 2.941348075866699, 2.7066307067871094, 2.627657890319824, 2.3839526176452637, 2.3275132179260254, 2.091975450515747, 2.051684617996216, 1.8449180126190186, 1.807633399963379, 1.6378190517425537, 1.5990451574325562, 1.4619147777557373, 1.42606782913208, 1.3162696361541748, 1.2863718271255493, 1.1994221210479736, 1.176299810409546, 1.108561635017395, 1.091828465461731, 1.0403436422348022, 1.0291391611099243, 0.9912480115890503, 0.9848083853721619, 0.9555216431617737, 0.9554927945137024, 0.9420726299285889, 0.9378727674484253, 0.9393088221549988, 0.9334850311279297, 0.9510015845298767, 0.9478294253349304, 0.9832978248596191, 0.9859420657157898, 1.0418963432312012, 1.0534948110580444, 1.1340341567993164, 1.1578186750411987, 1.2674047946929932, 1.305023431777954, 1.4435529708862305, 1.4924860000610352, 1.649672031402588, 1.7029298543930054, 1.859886884689331, 1.9089932441711426, 2.0491509437561035, 2.08910870552063, 2.210263967514038, 2.2445871829986572, 2.3257644176483154, 2.3428640365600586, 2.3713715076446533, 2.355799913406372, 2.336667776107788, 2.2811696529388428, 2.221665859222412, 2.1216113567352295, 2.0300300121307373, 1.883326768875122, 1.7693268060684204, 1.5782582759857178, 1.4485526084899902, 1.2253097295761108, 1.0714493989944458, 0.8492224812507629, 0.6531729698181152, 0.47714298963546753, 0.2587653398513794, 0.134267657995224, -0.015960359945893288, -0.1596478372812271]}, {\"type\": \"scatter\", \"x\": [0.0, 0.04400067776441574, 0.10000000149011612, 0.15665297210216522, 0.20000000298023224, 0.25556159019470215, 0.30000001192092896, 0.34729376435279846, 0.4000000059604645, 0.44690319895744324, 0.5, 0.5501567125320435, 0.6000000238418579, 0.6467122435569763, 0.699999988079071, 0.7439175844192505, 0.800000011920929, 0.8408759236335754, 0.8999999761581421, 0.9354222416877747, 1.0, 1.0324628353118896, 1.100000023841858, 1.146286964416504, 1.2000000476837158, 1.2567057609558105, 1.2999999523162842, 1.3664056062698364, 1.399999976158142, 1.4738065004348755, 1.5, 1.578747034072876, 1.600000023841858, 1.6820814609527588, 1.7000000476837158, 1.7800124883651733, 1.7999999523162842, 1.8746247291564941, 1.899999976158142, 1.9705758094787598, 2.0, 2.0683133602142334, 2.0999999046325684, 2.167525053024292, 2.200000047683716, 2.2681527137756348, 2.299999952316284, 2.37062406539917, 2.4000000953674316, 2.4767673015594482, 2.5, 2.5998659133911133, 2.5999999046325684, 2.681673049926758, 2.700000047683716, 2.769678831100464, 2.799999952316284, 2.865025520324707, 2.9000000953674316, 2.962716817855835, 3.0, 3.0617010593414307, 3.0999999046325684, 3.1617116928100586, 3.200000047683716, 3.2625184059143066, 3.299999952316284, 3.363640546798706, 3.4000000953674316, 3.4644742012023926, 3.5, 3.5647060871124268, 3.5999999046325684, 3.6643145084381104, 3.700000047683716, 3.763046979904175, 3.799999952316284, 3.860297203063965, 3.9000000953674316, 3.9564898014068604, 4.0, 4.052377700805664, 4.099999904632568, 4.148177623748779, 4.199999809265137, 4.243919372558594, 4.300000190734863, 4.339779853820801, 4.400000095367432, 4.437024116516113, 4.5, 4.539371490478516, 4.599999904632568, 4.649188041687012, 4.699999809265137, 4.758233547210693, 4.800000190734863, 4.843085765838623, 4.900000095367432], \"y\": [3.0, 2.485222816467285, 1.8926719427108765, 1.4248930215835571, 1.129744052886963, 0.7033363580703735, 0.4301964044570923, 0.10205007344484329, -0.17789627611637115, -0.5234484672546387, -0.887758731842041, -0.8924810886383057, -0.7446721196174622, -0.7753382325172424, -0.6138073205947876, -0.6448727250099182, -0.452163428068161, -0.458050936460495, -0.21204222738742828, -0.18819451332092285, 0.11382248252630234, 0.15955838561058044, 0.4720113277435303, 0.5578445196151733, 0.7752379775047302, 0.847456693649292, 0.9600652456283569, 0.9832248091697693, 1.0213388204574585, 0.9945892095565796, 0.997166633605957, 0.9429858326911926, 0.9329115152359009, 0.8727980256080627, 0.8595958352088928, 0.8083944916725159, 0.7919095158576965, 0.7549523711204529, 0.7343659400939941, 0.7094117403030396, 0.6872615218162537, 0.671208381652832, 0.6499143242835999, 0.6406545639038086, 0.6220876574516296, 0.6186284422874451, 0.6043925881385803, 0.607093095779419, 0.5986968874931335, 0.6106455326080322, 0.609230101108551, 0.6455614566802979, 0.6456010341644287, 0.7068005204200745, 0.7230377197265625, 0.7964188456535339, 0.8392992615699768, 0.9179434776306152, 0.9804141521453857, 1.0620298385620117, 1.1393963098526, 1.2235947847366333, 1.3117516040802002, 1.3941699266433716, 1.4853267669677734, 1.5524216890335083, 1.6335018873214722, 1.6633528470993042, 1.7203160524368286, 1.6922448873519897, 1.7164194583892822, 1.6214699745178223, 1.6112178564071655, 1.4533733129501343, 1.4113129377365112, 1.1996040344238281, 1.1266640424728394, 0.907627284526825, 0.8220593929290771, 0.6335012316703796, 0.5542051196098328, 0.4060594141483307, 0.34152454137802124, 0.23424048721790314, 0.18876418471336365, 0.11838258057832718, 0.09325773268938065, 0.05328795313835144, 0.04756603389978409, 0.03023345395922661, 0.041146423667669296, 0.04026014730334282, 0.06171393021941185, 0.07551411539316177, 0.09683684259653091, 0.12051798403263092, 0.1355539858341217, 0.15421247482299805, 0.16961292922496796]}],\n",
       "                        {\"template\": {\"data\": {\"bar\": [{\"error_x\": {\"color\": \"#2a3f5f\"}, \"error_y\": {\"color\": \"#2a3f5f\"}, \"marker\": {\"line\": {\"color\": \"#E5ECF6\", \"width\": 0.5}}, \"type\": \"bar\"}], \"barpolar\": [{\"marker\": {\"line\": {\"color\": \"#E5ECF6\", \"width\": 0.5}}, \"type\": \"barpolar\"}], \"carpet\": [{\"aaxis\": {\"endlinecolor\": \"#2a3f5f\", \"gridcolor\": \"white\", \"linecolor\": \"white\", \"minorgridcolor\": \"white\", \"startlinecolor\": \"#2a3f5f\"}, \"baxis\": {\"endlinecolor\": \"#2a3f5f\", \"gridcolor\": \"white\", \"linecolor\": \"white\", \"minorgridcolor\": \"white\", \"startlinecolor\": \"#2a3f5f\"}, \"type\": \"carpet\"}], \"choropleth\": [{\"colorbar\": {\"outlinewidth\": 0, \"ticks\": \"\"}, \"type\": \"choropleth\"}], \"contour\": [{\"colorbar\": {\"outlinewidth\": 0, \"ticks\": \"\"}, \"colorscale\": [[0.0, \"#0d0887\"], [0.1111111111111111, \"#46039f\"], [0.2222222222222222, \"#7201a8\"], [0.3333333333333333, \"#9c179e\"], [0.4444444444444444, \"#bd3786\"], [0.5555555555555556, \"#d8576b\"], [0.6666666666666666, \"#ed7953\"], [0.7777777777777778, \"#fb9f3a\"], [0.8888888888888888, \"#fdca26\"], [1.0, \"#f0f921\"]], \"type\": \"contour\"}], \"contourcarpet\": [{\"colorbar\": {\"outlinewidth\": 0, \"ticks\": \"\"}, \"type\": \"contourcarpet\"}], \"heatmap\": [{\"colorbar\": {\"outlinewidth\": 0, \"ticks\": \"\"}, \"colorscale\": [[0.0, \"#0d0887\"], [0.1111111111111111, \"#46039f\"], [0.2222222222222222, \"#7201a8\"], [0.3333333333333333, \"#9c179e\"], [0.4444444444444444, \"#bd3786\"], [0.5555555555555556, \"#d8576b\"], [0.6666666666666666, \"#ed7953\"], [0.7777777777777778, \"#fb9f3a\"], [0.8888888888888888, \"#fdca26\"], [1.0, \"#f0f921\"]], \"type\": \"heatmap\"}], \"heatmapgl\": [{\"colorbar\": {\"outlinewidth\": 0, \"ticks\": \"\"}, \"colorscale\": [[0.0, \"#0d0887\"], [0.1111111111111111, \"#46039f\"], [0.2222222222222222, \"#7201a8\"], [0.3333333333333333, \"#9c179e\"], [0.4444444444444444, \"#bd3786\"], [0.5555555555555556, \"#d8576b\"], [0.6666666666666666, \"#ed7953\"], [0.7777777777777778, \"#fb9f3a\"], [0.8888888888888888, \"#fdca26\"], [1.0, \"#f0f921\"]], \"type\": \"heatmapgl\"}], \"histogram\": [{\"marker\": {\"colorbar\": {\"outlinewidth\": 0, \"ticks\": \"\"}}, \"type\": \"histogram\"}], \"histogram2d\": [{\"colorbar\": {\"outlinewidth\": 0, \"ticks\": \"\"}, \"colorscale\": [[0.0, \"#0d0887\"], [0.1111111111111111, \"#46039f\"], [0.2222222222222222, \"#7201a8\"], [0.3333333333333333, \"#9c179e\"], [0.4444444444444444, \"#bd3786\"], [0.5555555555555556, \"#d8576b\"], [0.6666666666666666, \"#ed7953\"], [0.7777777777777778, \"#fb9f3a\"], [0.8888888888888888, \"#fdca26\"], [1.0, \"#f0f921\"]], \"type\": \"histogram2d\"}], \"histogram2dcontour\": [{\"colorbar\": {\"outlinewidth\": 0, \"ticks\": \"\"}, \"colorscale\": [[0.0, \"#0d0887\"], [0.1111111111111111, \"#46039f\"], [0.2222222222222222, \"#7201a8\"], [0.3333333333333333, \"#9c179e\"], [0.4444444444444444, \"#bd3786\"], [0.5555555555555556, \"#d8576b\"], [0.6666666666666666, \"#ed7953\"], [0.7777777777777778, \"#fb9f3a\"], [0.8888888888888888, \"#fdca26\"], [1.0, \"#f0f921\"]], \"type\": \"histogram2dcontour\"}], \"mesh3d\": [{\"colorbar\": {\"outlinewidth\": 0, \"ticks\": \"\"}, \"type\": \"mesh3d\"}], \"parcoords\": [{\"line\": {\"colorbar\": {\"outlinewidth\": 0, \"ticks\": \"\"}}, \"type\": \"parcoords\"}], \"pie\": [{\"automargin\": true, \"type\": \"pie\"}], \"scatter\": [{\"marker\": {\"colorbar\": {\"outlinewidth\": 0, \"ticks\": \"\"}}, \"type\": \"scatter\"}], \"scatter3d\": [{\"line\": {\"colorbar\": {\"outlinewidth\": 0, \"ticks\": \"\"}}, \"marker\": {\"colorbar\": {\"outlinewidth\": 0, \"ticks\": \"\"}}, \"type\": \"scatter3d\"}], \"scattercarpet\": [{\"marker\": {\"colorbar\": {\"outlinewidth\": 0, \"ticks\": \"\"}}, \"type\": \"scattercarpet\"}], \"scattergeo\": [{\"marker\": {\"colorbar\": {\"outlinewidth\": 0, \"ticks\": \"\"}}, \"type\": \"scattergeo\"}], \"scattergl\": [{\"marker\": {\"colorbar\": {\"outlinewidth\": 0, \"ticks\": \"\"}}, \"type\": \"scattergl\"}], \"scattermapbox\": [{\"marker\": {\"colorbar\": {\"outlinewidth\": 0, \"ticks\": \"\"}}, \"type\": \"scattermapbox\"}], \"scatterpolar\": [{\"marker\": {\"colorbar\": {\"outlinewidth\": 0, \"ticks\": \"\"}}, \"type\": \"scatterpolar\"}], \"scatterpolargl\": [{\"marker\": {\"colorbar\": {\"outlinewidth\": 0, \"ticks\": \"\"}}, \"type\": \"scatterpolargl\"}], \"scatterternary\": [{\"marker\": {\"colorbar\": {\"outlinewidth\": 0, \"ticks\": \"\"}}, \"type\": \"scatterternary\"}], \"surface\": [{\"colorbar\": {\"outlinewidth\": 0, \"ticks\": \"\"}, \"colorscale\": [[0.0, \"#0d0887\"], [0.1111111111111111, \"#46039f\"], [0.2222222222222222, \"#7201a8\"], [0.3333333333333333, \"#9c179e\"], [0.4444444444444444, \"#bd3786\"], [0.5555555555555556, \"#d8576b\"], [0.6666666666666666, \"#ed7953\"], [0.7777777777777778, \"#fb9f3a\"], [0.8888888888888888, \"#fdca26\"], [1.0, \"#f0f921\"]], \"type\": \"surface\"}], \"table\": [{\"cells\": {\"fill\": {\"color\": \"#EBF0F8\"}, \"line\": {\"color\": \"white\"}}, \"header\": {\"fill\": {\"color\": \"#C8D4E3\"}, \"line\": {\"color\": \"white\"}}, \"type\": \"table\"}]}, \"layout\": {\"annotationdefaults\": {\"arrowcolor\": \"#2a3f5f\", \"arrowhead\": 0, \"arrowwidth\": 1}, \"coloraxis\": {\"colorbar\": {\"outlinewidth\": 0, \"ticks\": \"\"}}, \"colorscale\": {\"diverging\": [[0, \"#8e0152\"], [0.1, \"#c51b7d\"], [0.2, \"#de77ae\"], [0.3, \"#f1b6da\"], [0.4, \"#fde0ef\"], [0.5, \"#f7f7f7\"], [0.6, \"#e6f5d0\"], [0.7, \"#b8e186\"], [0.8, \"#7fbc41\"], [0.9, \"#4d9221\"], [1, \"#276419\"]], \"sequential\": [[0.0, \"#0d0887\"], [0.1111111111111111, \"#46039f\"], [0.2222222222222222, \"#7201a8\"], [0.3333333333333333, \"#9c179e\"], [0.4444444444444444, \"#bd3786\"], [0.5555555555555556, \"#d8576b\"], [0.6666666666666666, \"#ed7953\"], [0.7777777777777778, \"#fb9f3a\"], [0.8888888888888888, \"#fdca26\"], [1.0, \"#f0f921\"]], \"sequentialminus\": [[0.0, \"#0d0887\"], [0.1111111111111111, \"#46039f\"], [0.2222222222222222, \"#7201a8\"], [0.3333333333333333, \"#9c179e\"], [0.4444444444444444, \"#bd3786\"], [0.5555555555555556, \"#d8576b\"], [0.6666666666666666, \"#ed7953\"], [0.7777777777777778, \"#fb9f3a\"], [0.8888888888888888, \"#fdca26\"], [1.0, \"#f0f921\"]]}, \"colorway\": [\"#636efa\", \"#EF553B\", \"#00cc96\", \"#ab63fa\", \"#FFA15A\", \"#19d3f3\", \"#FF6692\", \"#B6E880\", \"#FF97FF\", \"#FECB52\"], \"font\": {\"color\": \"#2a3f5f\"}, \"geo\": {\"bgcolor\": \"white\", \"lakecolor\": \"white\", \"landcolor\": \"#E5ECF6\", \"showlakes\": true, \"showland\": true, \"subunitcolor\": \"white\"}, \"hoverlabel\": {\"align\": \"left\"}, \"hovermode\": \"closest\", \"mapbox\": {\"style\": \"light\"}, \"paper_bgcolor\": \"white\", \"plot_bgcolor\": \"#E5ECF6\", \"polar\": {\"angularaxis\": {\"gridcolor\": \"white\", \"linecolor\": \"white\", \"ticks\": \"\"}, \"bgcolor\": \"#E5ECF6\", \"radialaxis\": {\"gridcolor\": \"white\", \"linecolor\": \"white\", \"ticks\": \"\"}}, \"scene\": {\"xaxis\": {\"backgroundcolor\": \"#E5ECF6\", \"gridcolor\": \"white\", \"gridwidth\": 2, \"linecolor\": \"white\", \"showbackground\": true, \"ticks\": \"\", \"zerolinecolor\": \"white\"}, \"yaxis\": {\"backgroundcolor\": \"#E5ECF6\", \"gridcolor\": \"white\", \"gridwidth\": 2, \"linecolor\": \"white\", \"showbackground\": true, \"ticks\": \"\", \"zerolinecolor\": \"white\"}, \"zaxis\": {\"backgroundcolor\": \"#E5ECF6\", \"gridcolor\": \"white\", \"gridwidth\": 2, \"linecolor\": \"white\", \"showbackground\": true, \"ticks\": \"\", \"zerolinecolor\": \"white\"}}, \"shapedefaults\": {\"line\": {\"color\": \"#2a3f5f\"}}, \"ternary\": {\"aaxis\": {\"gridcolor\": \"white\", \"linecolor\": \"white\", \"ticks\": \"\"}, \"baxis\": {\"gridcolor\": \"white\", \"linecolor\": \"white\", \"ticks\": \"\"}, \"bgcolor\": \"#E5ECF6\", \"caxis\": {\"gridcolor\": \"white\", \"linecolor\": \"white\", \"ticks\": \"\"}}, \"title\": {\"x\": 0.05}, \"xaxis\": {\"automargin\": true, \"gridcolor\": \"white\", \"linecolor\": \"white\", \"ticks\": \"\", \"title\": {\"standoff\": 15}, \"zerolinecolor\": \"white\", \"zerolinewidth\": 2}, \"yaxis\": {\"automargin\": true, \"gridcolor\": \"white\", \"linecolor\": \"white\", \"ticks\": \"\", \"title\": {\"standoff\": 15}, \"zerolinecolor\": \"white\", \"zerolinewidth\": 2}}}},\n",
       "                        {\"responsive\": true}\n",
       "                    ).then(function(){\n",
       "                            \n",
       "var gd = document.getElementById('208b8032-7f49-45e5-b04b-9400cecdb053');\n",
       "var x = new MutationObserver(function (mutations, observer) {{\n",
       "        var display = window.getComputedStyle(gd).display;\n",
       "        if (!display || display === 'none') {{\n",
       "            console.log([gd, 'removed!']);\n",
       "            Plotly.purge(gd);\n",
       "            observer.disconnect();\n",
       "        }}\n",
       "}});\n",
       "\n",
       "// Listen for the removal of the full notebook cells\n",
       "var notebookContainer = gd.closest('#notebook-container');\n",
       "if (notebookContainer) {{\n",
       "    x.observe(notebookContainer, {childList: true});\n",
       "}}\n",
       "\n",
       "// Listen for the clearing of the current output cell\n",
       "var outputEl = gd.closest('.output');\n",
       "if (outputEl) {{\n",
       "    x.observe(outputEl, {childList: true});\n",
       "}}\n",
       "\n",
       "                        })\n",
       "                };\n",
       "                });\n",
       "            </script>\n",
       "        </div>"
      ]
     },
     "metadata": {},
     "output_type": "display_data"
    }
   ],
   "source": [
    "vf_ctrl, sys_ctrl = double_pendulum_utils.get_value_function(vf_ctrl_N)\n",
    "ctrl = controllers.get_limited_lookahead_controller(vf_ctrl, vf_approx)\n",
    "x_traj_sim, t_traj_sim = controllers.sim_ctrl(x0, vf.u_dim[0], sys.dx, ctrl, .1, 50)\n",
    "\n",
    "fig = go.Figure()\n",
    "for i in range(4):\n",
    "    fig.add_trace(go.Scatter(\n",
    "        x=t_traj_sim,\n",
    "        y=x_traj_sim[i,:]\n",
    "    ))\n",
    "print(\"Baseline\")\n",
    "fig.show()"
   ]
  },
  {
   "cell_type": "code",
   "execution_count": 47,
   "metadata": {},
   "outputs": [
    {
     "name": "stdout",
     "output_type": "stream",
     "text": [
      "Adversarial\n"
     ]
    },
    {
     "data": {
      "application/vnd.plotly.v1+json": {
       "config": {
        "plotlyServerURL": "https://plot.ly"
       },
       "data": [
        {
         "type": "scatter",
         "x": [
          0,
          0.04907172918319702,
          0.10000000149011612,
          0.15194594860076904,
          0.20000000298023224,
          0.2512019872665405,
          0.30000001192092896,
          0.35108324885368347,
          0.4000000059604645,
          0.4520800709724426,
          0.5,
          0.5542318224906921,
          0.6000000238418579,
          0.6569441556930542,
          0.699999988079071,
          0.7591030597686768,
          0.800000011920929,
          0.8601148724555969,
          0.8999999761581421,
          0.9605861306190491,
          1,
          1.0612205266952515,
          1.100000023841858,
          1.1620742082595825,
          1.2000000476837158,
          1.2626818418502808,
          1.2999999523162842,
          1.3623963594436646,
          1.399999976158142,
          1.4608837366104126,
          1.5,
          1.5581990480422974,
          1.600000023841858,
          1.6536567211151123,
          1.7000000476837158,
          1.7124098539352417,
          1.7999999523162842,
          1.8490571975708008,
          1.899999976158142,
          1.9467600584030151,
          2,
          2.043205976486206,
          2.0999999046325684,
          2.139040946960449,
          2.200000047683716,
          2.233842134475708,
          2.299999952316284,
          2.3148205280303955,
          2.4000000953674316,
          2.428081512451172,
          2.5,
          2.5324440002441406,
          2.5999999046325684,
          2.634486198425293,
          2.700000047683716,
          2.735614061355591,
          2.799999952316284,
          2.83624005317688,
          2.9000000953674316,
          2.9365499019622803,
          3,
          3.036644697189331,
          3.0999999046325684,
          3.1365859508514404,
          3.200000047683716,
          3.2364139556884766,
          3.299999952316284,
          3.3361573219299316,
          3.4000000953674316,
          3.435835123062134,
          3.5,
          3.535461664199829,
          3.5999999046325684,
          3.63504695892334,
          3.700000047683716,
          3.734598159790039,
          3.799999952316284,
          3.834120273590088,
          3.9000000953674316,
          3.9336163997650146,
          4,
          4.033088207244873,
          4.099999904632568,
          4.132536888122559,
          4.199999809265137,
          4.231961727142334,
          4.300000190734863,
          4.331361770629883,
          4.400000095367432,
          4.4307355880737305,
          4.5,
          4.530078887939453,
          4.599999904632568,
          4.629388332366943,
          4.699999809265137,
          4.728658199310303,
          4.800000190734863,
          4.827880859375,
          4.900000095367432
         ],
         "y": [
          3.34159255027771,
          3.3684816360473633,
          3.3998310565948486,
          3.4357340335845947,
          3.472036838531494,
          3.5140602588653564,
          3.5566775798797607,
          3.6041316986083984,
          3.651907205581665,
          3.7058019638061523,
          3.7582101821899414,
          3.8215925693511963,
          3.878621816635132,
          3.954756259918213,
          4.015921115875244,
          4.104806423187256,
          4.16878604888916,
          4.265333652496338,
          4.329659938812256,
          4.425990581512451,
          4.486305236816406,
          4.574698448181152,
          4.626269340515137,
          4.700859546661377,
          4.741069793701172,
          4.798702239990234,
          4.827705383300781,
          4.868056774139404,
          4.887641429901123,
          4.912717342376709,
          4.9248270988464355,
          4.9378886222839355,
          4.944000244140625,
          4.948457717895508,
          4.949670314788818,
          4.949582099914551,
          4.945680618286133,
          4.941145420074463,
          4.93510627746582,
          4.928583145141602,
          4.920312404632568,
          4.913060665130615,
          4.90306282043457,
          4.895931720733643,
          4.884637355804443,
          4.878276824951172,
          4.86593770980835,
          4.863149642944336,
          4.8475728034973145,
          4.842501163482666,
          4.829935550689697,
          4.824382305145264,
          4.813251972198486,
          4.80771541595459,
          4.797632694244385,
          4.792308807373047,
          4.783108711242676,
          4.7780866622924805,
          4.769656658172607,
          4.764970779418945,
          4.757220268249512,
          4.752875804901123,
          4.745726108551025,
          4.7417120933532715,
          4.7350921630859375,
          4.731387138366699,
          4.725234031677246,
          4.721814155578613,
          4.716073513031006,
          4.712913513183594,
          4.70753812789917,
          4.704615116119385,
          4.69956636428833,
          4.696859359741211,
          4.692103862762451,
          4.689594268798828,
          4.68510627746582,
          4.682778358459473,
          4.6785359382629395,
          4.6763763427734375,
          4.672362327575684,
          4.670359134674072,
          4.666560173034668,
          4.664703845977783,
          4.66110897064209,
          4.659390926361084,
          4.655991077423096,
          4.6544036865234375,
          4.6511921882629395,
          4.649729251861572,
          4.64669942855835,
          4.645354270935059,
          4.642500877380371,
          4.641267776489258,
          4.638586044311523,
          4.6374592781066895,
          4.63494348526001,
          4.633918285369873,
          4.631563186645508
         ]
        },
        {
         "type": "scatter",
         "x": [
          0,
          0.04907172918319702,
          0.10000000149011612,
          0.15194594860076904,
          0.20000000298023224,
          0.2512019872665405,
          0.30000001192092896,
          0.35108324885368347,
          0.4000000059604645,
          0.4520800709724426,
          0.5,
          0.5542318224906921,
          0.6000000238418579,
          0.6569441556930542,
          0.699999988079071,
          0.7591030597686768,
          0.800000011920929,
          0.8601148724555969,
          0.8999999761581421,
          0.9605861306190491,
          1,
          1.0612205266952515,
          1.100000023841858,
          1.1620742082595825,
          1.2000000476837158,
          1.2626818418502808,
          1.2999999523162842,
          1.3623963594436646,
          1.399999976158142,
          1.4608837366104126,
          1.5,
          1.5581990480422974,
          1.600000023841858,
          1.6536567211151123,
          1.7000000476837158,
          1.7124098539352417,
          1.7999999523162842,
          1.8490571975708008,
          1.899999976158142,
          1.9467600584030151,
          2,
          2.043205976486206,
          2.0999999046325684,
          2.139040946960449,
          2.200000047683716,
          2.233842134475708,
          2.299999952316284,
          2.3148205280303955,
          2.4000000953674316,
          2.428081512451172,
          2.5,
          2.5324440002441406,
          2.5999999046325684,
          2.634486198425293,
          2.700000047683716,
          2.735614061355591,
          2.799999952316284,
          2.83624005317688,
          2.9000000953674316,
          2.9365499019622803,
          3,
          3.036644697189331,
          3.0999999046325684,
          3.1365859508514404,
          3.200000047683716,
          3.2364139556884766,
          3.299999952316284,
          3.3361573219299316,
          3.4000000953674316,
          3.435835123062134,
          3.5,
          3.535461664199829,
          3.5999999046325684,
          3.63504695892334,
          3.700000047683716,
          3.734598159790039,
          3.799999952316284,
          3.834120273590088,
          3.9000000953674316,
          3.9336163997650146,
          4,
          4.033088207244873,
          4.099999904632568,
          4.132536888122559,
          4.199999809265137,
          4.231961727142334,
          4.300000190734863,
          4.331361770629883,
          4.400000095367432,
          4.4307355880737305,
          4.5,
          4.530078887939453,
          4.599999904632568,
          4.629388332366943,
          4.699999809265137,
          4.728658199310303,
          4.800000190734863,
          4.827880859375,
          4.900000095367432
         ],
         "y": [
          0.10000000149011612,
          0.24103200435638428,
          0.37840741872787476,
          0.5103377103805542,
          0.6273176074028015,
          0.748212456703186,
          0.8626206517219543,
          0.9829564094543457,
          1.1010682582855225,
          1.2303032875061035,
          1.353252649307251,
          1.4961766004562378,
          1.6194387674331665,
          1.7743499279022217,
          1.8916124105453491,
          2.050670862197876,
          2.158522605895996,
          2.312047243118286,
          2.4100492000579834,
          2.5518665313720703,
          2.6393680572509766,
          2.7671101093292236,
          2.84297513961792,
          2.955759286880493,
          3.0196967124938965,
          3.1167497634887695,
          3.1698193550109863,
          3.2504565715789795,
          3.294633150100708,
          3.358978748321533,
          3.3961610794067383,
          3.4454293251037598,
          3.476888656616211,
          3.5125200748443604,
          3.5394906997680664,
          3.546271562576294,
          3.586611270904541,
          3.6048221588134766,
          3.6207168102264404,
          3.6328535079956055,
          3.644019842147827,
          3.651299238204956,
          3.6584556102752686,
          3.662156820297241,
          3.6656877994537354,
          3.666917085647583,
          3.6671292781829834,
          3.667135000228882,
          3.6639719009399414,
          3.662612199783325,
          3.657210350036621,
          3.6545779705047607,
          3.647684097290039,
          3.644066095352173,
          3.6360816955566406,
          3.6317338943481445,
          3.622971534729004,
          3.618114709854126,
          3.6088194847106934,
          3.6036386489868164,
          3.5940048694610596,
          3.588650941848755,
          3.57883358001709,
          3.573427200317383,
          3.5635499954223633,
          3.55818510055542,
          3.5483458042144775,
          3.5430948734283447,
          3.5333712100982666,
          3.528287887573242,
          3.5187411308288574,
          3.513864517211914,
          3.5045416355133057,
          3.4998996257781982,
          3.4908361434936523,
          3.4864466190338135,
          3.4776697158813477,
          3.473543405532837,
          3.4650721549987793,
          3.461214065551758,
          3.453061819076538,
          3.4494729042053223,
          3.44164776802063,
          3.4383256435394287,
          3.4308321475982666,
          3.427771806716919,
          3.420611619949341,
          3.417806386947632,
          3.410977840423584,
          3.4084203243255615,
          3.4019203186035156,
          3.399601697921753,
          3.3934249877929688,
          3.391335964202881,
          3.385476589202881,
          3.3836076259613037,
          3.3780579566955566,
          3.376399278640747,
          3.3711507320404053
         ]
        },
        {
         "type": "scatter",
         "x": [
          0,
          0.04907172918319702,
          0.10000000149011612,
          0.15194594860076904,
          0.20000000298023224,
          0.2512019872665405,
          0.30000001192092896,
          0.35108324885368347,
          0.4000000059604645,
          0.4520800709724426,
          0.5,
          0.5542318224906921,
          0.6000000238418579,
          0.6569441556930542,
          0.699999988079071,
          0.7591030597686768,
          0.800000011920929,
          0.8601148724555969,
          0.8999999761581421,
          0.9605861306190491,
          1,
          1.0612205266952515,
          1.100000023841858,
          1.1620742082595825,
          1.2000000476837158,
          1.2626818418502808,
          1.2999999523162842,
          1.3623963594436646,
          1.399999976158142,
          1.4608837366104126,
          1.5,
          1.5581990480422974,
          1.600000023841858,
          1.6536567211151123,
          1.7000000476837158,
          1.7124098539352417,
          1.7999999523162842,
          1.8490571975708008,
          1.899999976158142,
          1.9467600584030151,
          2,
          2.043205976486206,
          2.0999999046325684,
          2.139040946960449,
          2.200000047683716,
          2.233842134475708,
          2.299999952316284,
          2.3148205280303955,
          2.4000000953674316,
          2.428081512451172,
          2.5,
          2.5324440002441406,
          2.5999999046325684,
          2.634486198425293,
          2.700000047683716,
          2.735614061355591,
          2.799999952316284,
          2.83624005317688,
          2.9000000953674316,
          2.9365499019622803,
          3,
          3.036644697189331,
          3.0999999046325684,
          3.1365859508514404,
          3.200000047683716,
          3.2364139556884766,
          3.299999952316284,
          3.3361573219299316,
          3.4000000953674316,
          3.435835123062134,
          3.5,
          3.535461664199829,
          3.5999999046325684,
          3.63504695892334,
          3.700000047683716,
          3.734598159790039,
          3.799999952316284,
          3.834120273590088,
          3.9000000953674316,
          3.9336163997650146,
          4,
          4.033088207244873,
          4.099999904632568,
          4.132536888122559,
          4.199999809265137,
          4.231961727142334,
          4.300000190734863,
          4.331361770629883,
          4.400000095367432,
          4.4307355880737305,
          4.5,
          4.530078887939453,
          4.599999904632568,
          4.629388332366943,
          4.699999809265137,
          4.728658199310303,
          4.800000190734863,
          4.827880859375,
          4.900000095367432
         ],
         "y": [
          0.5,
          0.5886663198471069,
          0.6347413659095764,
          0.7353459596633911,
          0.766142725944519,
          0.8606942296028137,
          0.8744639754295349,
          0.9674517512321472,
          0.9734973311424255,
          1.0795722007751465,
          1.0958222150802612,
          1.224435806274414,
          1.25655198097229,
          1.3987395763397217,
          1.4316685199737549,
          1.554887056350708,
          1.5630080699920654,
          1.6259560585021973,
          1.588788390159607,
          1.5685886144638062,
          1.4823660850524902,
          1.38599693775177,
          1.2663543224334717,
          1.122334599494934,
          0.9931912422180176,
          0.8358286619186401,
          0.7154227495193481,
          0.5717305541038513,
          0.46783217787742615,
          0.35203078389167786,
          0.26559504866600037,
          0.18073630332946777,
          0.11034084856510162,
          0.05408378317952156,
          -0.003122353693470359,
          -0.0111466683447361,
          -0.08230699598789215,
          -0.10387083888053894,
          -0.13468918204307556,
          -0.14551018178462982,
          -0.16681630909442902,
          -0.1699378341436386,
          -0.18405896425247192,
          -0.18219703435897827,
          -0.19066673517227173,
          -0.1859768182039261,
          -0.18993689119815826,
          -0.1864456981420517,
          -0.1843765825033188,
          -0.17744243144989014,
          -0.17582355439662933,
          -0.16735947132110596,
          -0.16570401191711426,
          -0.15637780725955963,
          -0.1549406796693802,
          -0.1451464146375656,
          -0.14418624341487885,
          -0.13418149948120117,
          -0.13386492431163788,
          -0.1238129734992981,
          -0.12422174960374832,
          -0.11421114951372147,
          -0.11533627659082413,
          -0.10544134676456451,
          -0.10731703788042068,
          -0.09754697978496552,
          -0.10010350495576859,
          -0.09046190232038498,
          -0.09363856166601181,
          -0.0841139480471611,
          -0.08783554285764694,
          -0.07841257005929947,
          -0.08260471373796463,
          -0.07326684892177582,
          -0.07785793393850327,
          -0.06858997792005539,
          -0.07351367920637131,
          -0.06430353224277496,
          -0.0695006474852562,
          -0.060339733958244324,
          -0.06575829535722733,
          -0.05664197728037834,
          -0.062237437814474106,
          -0.053164754062891006,
          -0.05889918655157089,
          -0.04987272247672081,
          -0.055714257061481476,
          -0.046739622950553894,
          -0.05266112834215164,
          -0.04374687001109123,
          -0.04972551017999649,
          -0.04088260233402252,
          -0.04689817130565643,
          -0.0381399504840374,
          -0.04417399689555168,
          -0.03551619499921799,
          -0.041551120579242706,
          -0.03301192447543144,
          -0.039029207080602646
         ]
        },
        {
         "type": "scatter",
         "x": [
          0,
          0.04907172918319702,
          0.10000000149011612,
          0.15194594860076904,
          0.20000000298023224,
          0.2512019872665405,
          0.30000001192092896,
          0.35108324885368347,
          0.4000000059604645,
          0.4520800709724426,
          0.5,
          0.5542318224906921,
          0.6000000238418579,
          0.6569441556930542,
          0.699999988079071,
          0.7591030597686768,
          0.800000011920929,
          0.8601148724555969,
          0.8999999761581421,
          0.9605861306190491,
          1,
          1.0612205266952515,
          1.100000023841858,
          1.1620742082595825,
          1.2000000476837158,
          1.2626818418502808,
          1.2999999523162842,
          1.3623963594436646,
          1.399999976158142,
          1.4608837366104126,
          1.5,
          1.5581990480422974,
          1.600000023841858,
          1.6536567211151123,
          1.7000000476837158,
          1.7124098539352417,
          1.7999999523162842,
          1.8490571975708008,
          1.899999976158142,
          1.9467600584030151,
          2,
          2.043205976486206,
          2.0999999046325684,
          2.139040946960449,
          2.200000047683716,
          2.233842134475708,
          2.299999952316284,
          2.3148205280303955,
          2.4000000953674316,
          2.428081512451172,
          2.5,
          2.5324440002441406,
          2.5999999046325684,
          2.634486198425293,
          2.700000047683716,
          2.735614061355591,
          2.799999952316284,
          2.83624005317688,
          2.9000000953674316,
          2.9365499019622803,
          3,
          3.036644697189331,
          3.0999999046325684,
          3.1365859508514404,
          3.200000047683716,
          3.2364139556884766,
          3.299999952316284,
          3.3361573219299316,
          3.4000000953674316,
          3.435835123062134,
          3.5,
          3.535461664199829,
          3.5999999046325684,
          3.63504695892334,
          3.700000047683716,
          3.734598159790039,
          3.799999952316284,
          3.834120273590088,
          3.9000000953674316,
          3.9336163997650146,
          4,
          4.033088207244873,
          4.099999904632568,
          4.132536888122559,
          4.199999809265137,
          4.231961727142334,
          4.300000190734863,
          4.331361770629883,
          4.400000095367432,
          4.4307355880737305,
          4.5,
          4.530078887939453,
          4.599999904632568,
          4.629388332366943,
          4.699999809265137,
          4.728658199310303,
          4.800000190734863,
          4.827880859375,
          4.900000095367432
         ],
         "y": [
          3,
          2.7675082683563232,
          2.6473019123077393,
          2.460376739501953,
          2.4297144412994385,
          2.324378728866577,
          2.389648675918579,
          2.3557071685791016,
          2.499812126159668,
          2.496859550476074,
          2.6585705280303955,
          2.642892360687256,
          2.7621099948883057,
          2.7040200233459473,
          2.7560970783233643,
          2.6458420753479004,
          2.6377956867218018,
          2.4851770401000977,
          2.4363019466400146,
          2.258528470993042,
          2.187802314758301,
          1.998337984085083,
          1.9198341369628906,
          1.7273091077804565,
          1.6495254039764404,
          1.460949420928955,
          1.3881492614746094,
          1.2105422019958496,
          1.1441401243209839,
          0.9833245277404785,
          0.9234508872032166,
          0.7825941443443298,
          0.7292454838752747,
          0.610238790512085,
          0.5621303915977478,
          0.5313388705253601,
          0.42090076208114624,
          0.33167120814323425,
          0.303230345249176,
          0.22542065382003784,
          0.20636557042598724,
          0.13905416429042816,
          0.12749555706977844,
          0.06926218420267105,
          0.06395994871854782,
          0.014251013286411762,
          0.013381329365074635,
          -0.011530817486345768,
          -0.02632550522685051,
          -0.06640809774398804,
          -0.05697905644774437,
          -0.09964198619127274,
          -0.0800696387887001,
          -0.12319481372833252,
          -0.09695760160684586,
          -0.14002791047096252,
          -0.10875509679317474,
          -0.1516575664281845,
          -0.11640427261590958,
          -0.15916065871715546,
          -0.12070167809724808,
          -0.16337431967258453,
          -0.12231361865997314,
          -0.16497573256492615,
          -0.12181054055690765,
          -0.16452600061893463,
          -0.11965710669755936,
          -0.1624707281589508,
          -0.116234190762043,
          -0.15917569398880005,
          -0.1118541732430458,
          -0.15493735671043396,
          -0.10677070915699005,
          -0.14999549090862274,
          -0.10118807852268219,
          -0.14454232156276703,
          -0.09526941925287247,
          -0.1387307345867157,
          -0.08914372324943542,
          -0.13268128037452698,
          -0.08291218429803848,
          -0.12648805975914001,
          -0.07665350288152695,
          -0.12022381275892258,
          -0.07042854279279709,
          -0.11394418776035309,
          -0.06428411602973938,
          -0.1076912060379982,
          -0.05825618654489517,
          -0.1014958843588829,
          -0.05237184837460518,
          -0.09538010507822037,
          -0.046652067452669144,
          -0.08935854583978653,
          -0.0411127470433712,
          -0.08343925327062607,
          -0.035765957087278366,
          -0.07762393355369568,
          -0.03062107414007187
         ]
        }
       ],
       "layout": {
        "template": {
         "data": {
          "bar": [
           {
            "error_x": {
             "color": "#2a3f5f"
            },
            "error_y": {
             "color": "#2a3f5f"
            },
            "marker": {
             "line": {
              "color": "#E5ECF6",
              "width": 0.5
             }
            },
            "type": "bar"
           }
          ],
          "barpolar": [
           {
            "marker": {
             "line": {
              "color": "#E5ECF6",
              "width": 0.5
             }
            },
            "type": "barpolar"
           }
          ],
          "carpet": [
           {
            "aaxis": {
             "endlinecolor": "#2a3f5f",
             "gridcolor": "white",
             "linecolor": "white",
             "minorgridcolor": "white",
             "startlinecolor": "#2a3f5f"
            },
            "baxis": {
             "endlinecolor": "#2a3f5f",
             "gridcolor": "white",
             "linecolor": "white",
             "minorgridcolor": "white",
             "startlinecolor": "#2a3f5f"
            },
            "type": "carpet"
           }
          ],
          "choropleth": [
           {
            "colorbar": {
             "outlinewidth": 0,
             "ticks": ""
            },
            "type": "choropleth"
           }
          ],
          "contour": [
           {
            "colorbar": {
             "outlinewidth": 0,
             "ticks": ""
            },
            "colorscale": [
             [
              0,
              "#0d0887"
             ],
             [
              0.1111111111111111,
              "#46039f"
             ],
             [
              0.2222222222222222,
              "#7201a8"
             ],
             [
              0.3333333333333333,
              "#9c179e"
             ],
             [
              0.4444444444444444,
              "#bd3786"
             ],
             [
              0.5555555555555556,
              "#d8576b"
             ],
             [
              0.6666666666666666,
              "#ed7953"
             ],
             [
              0.7777777777777778,
              "#fb9f3a"
             ],
             [
              0.8888888888888888,
              "#fdca26"
             ],
             [
              1,
              "#f0f921"
             ]
            ],
            "type": "contour"
           }
          ],
          "contourcarpet": [
           {
            "colorbar": {
             "outlinewidth": 0,
             "ticks": ""
            },
            "type": "contourcarpet"
           }
          ],
          "heatmap": [
           {
            "colorbar": {
             "outlinewidth": 0,
             "ticks": ""
            },
            "colorscale": [
             [
              0,
              "#0d0887"
             ],
             [
              0.1111111111111111,
              "#46039f"
             ],
             [
              0.2222222222222222,
              "#7201a8"
             ],
             [
              0.3333333333333333,
              "#9c179e"
             ],
             [
              0.4444444444444444,
              "#bd3786"
             ],
             [
              0.5555555555555556,
              "#d8576b"
             ],
             [
              0.6666666666666666,
              "#ed7953"
             ],
             [
              0.7777777777777778,
              "#fb9f3a"
             ],
             [
              0.8888888888888888,
              "#fdca26"
             ],
             [
              1,
              "#f0f921"
             ]
            ],
            "type": "heatmap"
           }
          ],
          "heatmapgl": [
           {
            "colorbar": {
             "outlinewidth": 0,
             "ticks": ""
            },
            "colorscale": [
             [
              0,
              "#0d0887"
             ],
             [
              0.1111111111111111,
              "#46039f"
             ],
             [
              0.2222222222222222,
              "#7201a8"
             ],
             [
              0.3333333333333333,
              "#9c179e"
             ],
             [
              0.4444444444444444,
              "#bd3786"
             ],
             [
              0.5555555555555556,
              "#d8576b"
             ],
             [
              0.6666666666666666,
              "#ed7953"
             ],
             [
              0.7777777777777778,
              "#fb9f3a"
             ],
             [
              0.8888888888888888,
              "#fdca26"
             ],
             [
              1,
              "#f0f921"
             ]
            ],
            "type": "heatmapgl"
           }
          ],
          "histogram": [
           {
            "marker": {
             "colorbar": {
              "outlinewidth": 0,
              "ticks": ""
             }
            },
            "type": "histogram"
           }
          ],
          "histogram2d": [
           {
            "colorbar": {
             "outlinewidth": 0,
             "ticks": ""
            },
            "colorscale": [
             [
              0,
              "#0d0887"
             ],
             [
              0.1111111111111111,
              "#46039f"
             ],
             [
              0.2222222222222222,
              "#7201a8"
             ],
             [
              0.3333333333333333,
              "#9c179e"
             ],
             [
              0.4444444444444444,
              "#bd3786"
             ],
             [
              0.5555555555555556,
              "#d8576b"
             ],
             [
              0.6666666666666666,
              "#ed7953"
             ],
             [
              0.7777777777777778,
              "#fb9f3a"
             ],
             [
              0.8888888888888888,
              "#fdca26"
             ],
             [
              1,
              "#f0f921"
             ]
            ],
            "type": "histogram2d"
           }
          ],
          "histogram2dcontour": [
           {
            "colorbar": {
             "outlinewidth": 0,
             "ticks": ""
            },
            "colorscale": [
             [
              0,
              "#0d0887"
             ],
             [
              0.1111111111111111,
              "#46039f"
             ],
             [
              0.2222222222222222,
              "#7201a8"
             ],
             [
              0.3333333333333333,
              "#9c179e"
             ],
             [
              0.4444444444444444,
              "#bd3786"
             ],
             [
              0.5555555555555556,
              "#d8576b"
             ],
             [
              0.6666666666666666,
              "#ed7953"
             ],
             [
              0.7777777777777778,
              "#fb9f3a"
             ],
             [
              0.8888888888888888,
              "#fdca26"
             ],
             [
              1,
              "#f0f921"
             ]
            ],
            "type": "histogram2dcontour"
           }
          ],
          "mesh3d": [
           {
            "colorbar": {
             "outlinewidth": 0,
             "ticks": ""
            },
            "type": "mesh3d"
           }
          ],
          "parcoords": [
           {
            "line": {
             "colorbar": {
              "outlinewidth": 0,
              "ticks": ""
             }
            },
            "type": "parcoords"
           }
          ],
          "pie": [
           {
            "automargin": true,
            "type": "pie"
           }
          ],
          "scatter": [
           {
            "marker": {
             "colorbar": {
              "outlinewidth": 0,
              "ticks": ""
             }
            },
            "type": "scatter"
           }
          ],
          "scatter3d": [
           {
            "line": {
             "colorbar": {
              "outlinewidth": 0,
              "ticks": ""
             }
            },
            "marker": {
             "colorbar": {
              "outlinewidth": 0,
              "ticks": ""
             }
            },
            "type": "scatter3d"
           }
          ],
          "scattercarpet": [
           {
            "marker": {
             "colorbar": {
              "outlinewidth": 0,
              "ticks": ""
             }
            },
            "type": "scattercarpet"
           }
          ],
          "scattergeo": [
           {
            "marker": {
             "colorbar": {
              "outlinewidth": 0,
              "ticks": ""
             }
            },
            "type": "scattergeo"
           }
          ],
          "scattergl": [
           {
            "marker": {
             "colorbar": {
              "outlinewidth": 0,
              "ticks": ""
             }
            },
            "type": "scattergl"
           }
          ],
          "scattermapbox": [
           {
            "marker": {
             "colorbar": {
              "outlinewidth": 0,
              "ticks": ""
             }
            },
            "type": "scattermapbox"
           }
          ],
          "scatterpolar": [
           {
            "marker": {
             "colorbar": {
              "outlinewidth": 0,
              "ticks": ""
             }
            },
            "type": "scatterpolar"
           }
          ],
          "scatterpolargl": [
           {
            "marker": {
             "colorbar": {
              "outlinewidth": 0,
              "ticks": ""
             }
            },
            "type": "scatterpolargl"
           }
          ],
          "scatterternary": [
           {
            "marker": {
             "colorbar": {
              "outlinewidth": 0,
              "ticks": ""
             }
            },
            "type": "scatterternary"
           }
          ],
          "surface": [
           {
            "colorbar": {
             "outlinewidth": 0,
             "ticks": ""
            },
            "colorscale": [
             [
              0,
              "#0d0887"
             ],
             [
              0.1111111111111111,
              "#46039f"
             ],
             [
              0.2222222222222222,
              "#7201a8"
             ],
             [
              0.3333333333333333,
              "#9c179e"
             ],
             [
              0.4444444444444444,
              "#bd3786"
             ],
             [
              0.5555555555555556,
              "#d8576b"
             ],
             [
              0.6666666666666666,
              "#ed7953"
             ],
             [
              0.7777777777777778,
              "#fb9f3a"
             ],
             [
              0.8888888888888888,
              "#fdca26"
             ],
             [
              1,
              "#f0f921"
             ]
            ],
            "type": "surface"
           }
          ],
          "table": [
           {
            "cells": {
             "fill": {
              "color": "#EBF0F8"
             },
             "line": {
              "color": "white"
             }
            },
            "header": {
             "fill": {
              "color": "#C8D4E3"
             },
             "line": {
              "color": "white"
             }
            },
            "type": "table"
           }
          ]
         },
         "layout": {
          "annotationdefaults": {
           "arrowcolor": "#2a3f5f",
           "arrowhead": 0,
           "arrowwidth": 1
          },
          "coloraxis": {
           "colorbar": {
            "outlinewidth": 0,
            "ticks": ""
           }
          },
          "colorscale": {
           "diverging": [
            [
             0,
             "#8e0152"
            ],
            [
             0.1,
             "#c51b7d"
            ],
            [
             0.2,
             "#de77ae"
            ],
            [
             0.3,
             "#f1b6da"
            ],
            [
             0.4,
             "#fde0ef"
            ],
            [
             0.5,
             "#f7f7f7"
            ],
            [
             0.6,
             "#e6f5d0"
            ],
            [
             0.7,
             "#b8e186"
            ],
            [
             0.8,
             "#7fbc41"
            ],
            [
             0.9,
             "#4d9221"
            ],
            [
             1,
             "#276419"
            ]
           ],
           "sequential": [
            [
             0,
             "#0d0887"
            ],
            [
             0.1111111111111111,
             "#46039f"
            ],
            [
             0.2222222222222222,
             "#7201a8"
            ],
            [
             0.3333333333333333,
             "#9c179e"
            ],
            [
             0.4444444444444444,
             "#bd3786"
            ],
            [
             0.5555555555555556,
             "#d8576b"
            ],
            [
             0.6666666666666666,
             "#ed7953"
            ],
            [
             0.7777777777777778,
             "#fb9f3a"
            ],
            [
             0.8888888888888888,
             "#fdca26"
            ],
            [
             1,
             "#f0f921"
            ]
           ],
           "sequentialminus": [
            [
             0,
             "#0d0887"
            ],
            [
             0.1111111111111111,
             "#46039f"
            ],
            [
             0.2222222222222222,
             "#7201a8"
            ],
            [
             0.3333333333333333,
             "#9c179e"
            ],
            [
             0.4444444444444444,
             "#bd3786"
            ],
            [
             0.5555555555555556,
             "#d8576b"
            ],
            [
             0.6666666666666666,
             "#ed7953"
            ],
            [
             0.7777777777777778,
             "#fb9f3a"
            ],
            [
             0.8888888888888888,
             "#fdca26"
            ],
            [
             1,
             "#f0f921"
            ]
           ]
          },
          "colorway": [
           "#636efa",
           "#EF553B",
           "#00cc96",
           "#ab63fa",
           "#FFA15A",
           "#19d3f3",
           "#FF6692",
           "#B6E880",
           "#FF97FF",
           "#FECB52"
          ],
          "font": {
           "color": "#2a3f5f"
          },
          "geo": {
           "bgcolor": "white",
           "lakecolor": "white",
           "landcolor": "#E5ECF6",
           "showlakes": true,
           "showland": true,
           "subunitcolor": "white"
          },
          "hoverlabel": {
           "align": "left"
          },
          "hovermode": "closest",
          "mapbox": {
           "style": "light"
          },
          "paper_bgcolor": "white",
          "plot_bgcolor": "#E5ECF6",
          "polar": {
           "angularaxis": {
            "gridcolor": "white",
            "linecolor": "white",
            "ticks": ""
           },
           "bgcolor": "#E5ECF6",
           "radialaxis": {
            "gridcolor": "white",
            "linecolor": "white",
            "ticks": ""
           }
          },
          "scene": {
           "xaxis": {
            "backgroundcolor": "#E5ECF6",
            "gridcolor": "white",
            "gridwidth": 2,
            "linecolor": "white",
            "showbackground": true,
            "ticks": "",
            "zerolinecolor": "white"
           },
           "yaxis": {
            "backgroundcolor": "#E5ECF6",
            "gridcolor": "white",
            "gridwidth": 2,
            "linecolor": "white",
            "showbackground": true,
            "ticks": "",
            "zerolinecolor": "white"
           },
           "zaxis": {
            "backgroundcolor": "#E5ECF6",
            "gridcolor": "white",
            "gridwidth": 2,
            "linecolor": "white",
            "showbackground": true,
            "ticks": "",
            "zerolinecolor": "white"
           }
          },
          "shapedefaults": {
           "line": {
            "color": "#2a3f5f"
           }
          },
          "ternary": {
           "aaxis": {
            "gridcolor": "white",
            "linecolor": "white",
            "ticks": ""
           },
           "baxis": {
            "gridcolor": "white",
            "linecolor": "white",
            "ticks": ""
           },
           "bgcolor": "#E5ECF6",
           "caxis": {
            "gridcolor": "white",
            "linecolor": "white",
            "ticks": ""
           }
          },
          "title": {
           "x": 0.05
          },
          "xaxis": {
           "automargin": true,
           "gridcolor": "white",
           "linecolor": "white",
           "ticks": "",
           "title": {
            "standoff": 15
           },
           "zerolinecolor": "white",
           "zerolinewidth": 2
          },
          "yaxis": {
           "automargin": true,
           "gridcolor": "white",
           "linecolor": "white",
           "ticks": "",
           "title": {
            "standoff": 15
           },
           "zerolinecolor": "white",
           "zerolinewidth": 2
          }
         }
        }
       }
      },
      "text/html": [
       "<div>\n",
       "        \n",
       "        \n",
       "            <div id=\"97b9ab75-ea80-4a10-83c8-e786222074e3\" class=\"plotly-graph-div\" style=\"height:525px; width:100%;\"></div>\n",
       "            <script type=\"text/javascript\">\n",
       "                require([\"plotly\"], function(Plotly) {\n",
       "                    window.PLOTLYENV=window.PLOTLYENV || {};\n",
       "                    \n",
       "                if (document.getElementById(\"97b9ab75-ea80-4a10-83c8-e786222074e3\")) {\n",
       "                    Plotly.newPlot(\n",
       "                        '97b9ab75-ea80-4a10-83c8-e786222074e3',\n",
       "                        [{\"type\": \"scatter\", \"x\": [0.0, 0.04907172918319702, 0.10000000149011612, 0.15194594860076904, 0.20000000298023224, 0.2512019872665405, 0.30000001192092896, 0.35108324885368347, 0.4000000059604645, 0.4520800709724426, 0.5, 0.5542318224906921, 0.6000000238418579, 0.6569441556930542, 0.699999988079071, 0.7591030597686768, 0.800000011920929, 0.8601148724555969, 0.8999999761581421, 0.9605861306190491, 1.0, 1.0612205266952515, 1.100000023841858, 1.1620742082595825, 1.2000000476837158, 1.2626818418502808, 1.2999999523162842, 1.3623963594436646, 1.399999976158142, 1.4608837366104126, 1.5, 1.5581990480422974, 1.600000023841858, 1.6536567211151123, 1.7000000476837158, 1.7124098539352417, 1.7999999523162842, 1.8490571975708008, 1.899999976158142, 1.9467600584030151, 2.0, 2.043205976486206, 2.0999999046325684, 2.139040946960449, 2.200000047683716, 2.233842134475708, 2.299999952316284, 2.3148205280303955, 2.4000000953674316, 2.428081512451172, 2.5, 2.5324440002441406, 2.5999999046325684, 2.634486198425293, 2.700000047683716, 2.735614061355591, 2.799999952316284, 2.83624005317688, 2.9000000953674316, 2.9365499019622803, 3.0, 3.036644697189331, 3.0999999046325684, 3.1365859508514404, 3.200000047683716, 3.2364139556884766, 3.299999952316284, 3.3361573219299316, 3.4000000953674316, 3.435835123062134, 3.5, 3.535461664199829, 3.5999999046325684, 3.63504695892334, 3.700000047683716, 3.734598159790039, 3.799999952316284, 3.834120273590088, 3.9000000953674316, 3.9336163997650146, 4.0, 4.033088207244873, 4.099999904632568, 4.132536888122559, 4.199999809265137, 4.231961727142334, 4.300000190734863, 4.331361770629883, 4.400000095367432, 4.4307355880737305, 4.5, 4.530078887939453, 4.599999904632568, 4.629388332366943, 4.699999809265137, 4.728658199310303, 4.800000190734863, 4.827880859375, 4.900000095367432], \"y\": [3.34159255027771, 3.3684816360473633, 3.3998310565948486, 3.4357340335845947, 3.472036838531494, 3.5140602588653564, 3.5566775798797607, 3.6041316986083984, 3.651907205581665, 3.7058019638061523, 3.7582101821899414, 3.8215925693511963, 3.878621816635132, 3.954756259918213, 4.015921115875244, 4.104806423187256, 4.16878604888916, 4.265333652496338, 4.329659938812256, 4.425990581512451, 4.486305236816406, 4.574698448181152, 4.626269340515137, 4.700859546661377, 4.741069793701172, 4.798702239990234, 4.827705383300781, 4.868056774139404, 4.887641429901123, 4.912717342376709, 4.9248270988464355, 4.9378886222839355, 4.944000244140625, 4.948457717895508, 4.949670314788818, 4.949582099914551, 4.945680618286133, 4.941145420074463, 4.93510627746582, 4.928583145141602, 4.920312404632568, 4.913060665130615, 4.90306282043457, 4.895931720733643, 4.884637355804443, 4.878276824951172, 4.86593770980835, 4.863149642944336, 4.8475728034973145, 4.842501163482666, 4.829935550689697, 4.824382305145264, 4.813251972198486, 4.80771541595459, 4.797632694244385, 4.792308807373047, 4.783108711242676, 4.7780866622924805, 4.769656658172607, 4.764970779418945, 4.757220268249512, 4.752875804901123, 4.745726108551025, 4.7417120933532715, 4.7350921630859375, 4.731387138366699, 4.725234031677246, 4.721814155578613, 4.716073513031006, 4.712913513183594, 4.70753812789917, 4.704615116119385, 4.69956636428833, 4.696859359741211, 4.692103862762451, 4.689594268798828, 4.68510627746582, 4.682778358459473, 4.6785359382629395, 4.6763763427734375, 4.672362327575684, 4.670359134674072, 4.666560173034668, 4.664703845977783, 4.66110897064209, 4.659390926361084, 4.655991077423096, 4.6544036865234375, 4.6511921882629395, 4.649729251861572, 4.64669942855835, 4.645354270935059, 4.642500877380371, 4.641267776489258, 4.638586044311523, 4.6374592781066895, 4.63494348526001, 4.633918285369873, 4.631563186645508]}, {\"type\": \"scatter\", \"x\": [0.0, 0.04907172918319702, 0.10000000149011612, 0.15194594860076904, 0.20000000298023224, 0.2512019872665405, 0.30000001192092896, 0.35108324885368347, 0.4000000059604645, 0.4520800709724426, 0.5, 0.5542318224906921, 0.6000000238418579, 0.6569441556930542, 0.699999988079071, 0.7591030597686768, 0.800000011920929, 0.8601148724555969, 0.8999999761581421, 0.9605861306190491, 1.0, 1.0612205266952515, 1.100000023841858, 1.1620742082595825, 1.2000000476837158, 1.2626818418502808, 1.2999999523162842, 1.3623963594436646, 1.399999976158142, 1.4608837366104126, 1.5, 1.5581990480422974, 1.600000023841858, 1.6536567211151123, 1.7000000476837158, 1.7124098539352417, 1.7999999523162842, 1.8490571975708008, 1.899999976158142, 1.9467600584030151, 2.0, 2.043205976486206, 2.0999999046325684, 2.139040946960449, 2.200000047683716, 2.233842134475708, 2.299999952316284, 2.3148205280303955, 2.4000000953674316, 2.428081512451172, 2.5, 2.5324440002441406, 2.5999999046325684, 2.634486198425293, 2.700000047683716, 2.735614061355591, 2.799999952316284, 2.83624005317688, 2.9000000953674316, 2.9365499019622803, 3.0, 3.036644697189331, 3.0999999046325684, 3.1365859508514404, 3.200000047683716, 3.2364139556884766, 3.299999952316284, 3.3361573219299316, 3.4000000953674316, 3.435835123062134, 3.5, 3.535461664199829, 3.5999999046325684, 3.63504695892334, 3.700000047683716, 3.734598159790039, 3.799999952316284, 3.834120273590088, 3.9000000953674316, 3.9336163997650146, 4.0, 4.033088207244873, 4.099999904632568, 4.132536888122559, 4.199999809265137, 4.231961727142334, 4.300000190734863, 4.331361770629883, 4.400000095367432, 4.4307355880737305, 4.5, 4.530078887939453, 4.599999904632568, 4.629388332366943, 4.699999809265137, 4.728658199310303, 4.800000190734863, 4.827880859375, 4.900000095367432], \"y\": [0.10000000149011612, 0.24103200435638428, 0.37840741872787476, 0.5103377103805542, 0.6273176074028015, 0.748212456703186, 0.8626206517219543, 0.9829564094543457, 1.1010682582855225, 1.2303032875061035, 1.353252649307251, 1.4961766004562378, 1.6194387674331665, 1.7743499279022217, 1.8916124105453491, 2.050670862197876, 2.158522605895996, 2.312047243118286, 2.4100492000579834, 2.5518665313720703, 2.6393680572509766, 2.7671101093292236, 2.84297513961792, 2.955759286880493, 3.0196967124938965, 3.1167497634887695, 3.1698193550109863, 3.2504565715789795, 3.294633150100708, 3.358978748321533, 3.3961610794067383, 3.4454293251037598, 3.476888656616211, 3.5125200748443604, 3.5394906997680664, 3.546271562576294, 3.586611270904541, 3.6048221588134766, 3.6207168102264404, 3.6328535079956055, 3.644019842147827, 3.651299238204956, 3.6584556102752686, 3.662156820297241, 3.6656877994537354, 3.666917085647583, 3.6671292781829834, 3.667135000228882, 3.6639719009399414, 3.662612199783325, 3.657210350036621, 3.6545779705047607, 3.647684097290039, 3.644066095352173, 3.6360816955566406, 3.6317338943481445, 3.622971534729004, 3.618114709854126, 3.6088194847106934, 3.6036386489868164, 3.5940048694610596, 3.588650941848755, 3.57883358001709, 3.573427200317383, 3.5635499954223633, 3.55818510055542, 3.5483458042144775, 3.5430948734283447, 3.5333712100982666, 3.528287887573242, 3.5187411308288574, 3.513864517211914, 3.5045416355133057, 3.4998996257781982, 3.4908361434936523, 3.4864466190338135, 3.4776697158813477, 3.473543405532837, 3.4650721549987793, 3.461214065551758, 3.453061819076538, 3.4494729042053223, 3.44164776802063, 3.4383256435394287, 3.4308321475982666, 3.427771806716919, 3.420611619949341, 3.417806386947632, 3.410977840423584, 3.4084203243255615, 3.4019203186035156, 3.399601697921753, 3.3934249877929688, 3.391335964202881, 3.385476589202881, 3.3836076259613037, 3.3780579566955566, 3.376399278640747, 3.3711507320404053]}, {\"type\": \"scatter\", \"x\": [0.0, 0.04907172918319702, 0.10000000149011612, 0.15194594860076904, 0.20000000298023224, 0.2512019872665405, 0.30000001192092896, 0.35108324885368347, 0.4000000059604645, 0.4520800709724426, 0.5, 0.5542318224906921, 0.6000000238418579, 0.6569441556930542, 0.699999988079071, 0.7591030597686768, 0.800000011920929, 0.8601148724555969, 0.8999999761581421, 0.9605861306190491, 1.0, 1.0612205266952515, 1.100000023841858, 1.1620742082595825, 1.2000000476837158, 1.2626818418502808, 1.2999999523162842, 1.3623963594436646, 1.399999976158142, 1.4608837366104126, 1.5, 1.5581990480422974, 1.600000023841858, 1.6536567211151123, 1.7000000476837158, 1.7124098539352417, 1.7999999523162842, 1.8490571975708008, 1.899999976158142, 1.9467600584030151, 2.0, 2.043205976486206, 2.0999999046325684, 2.139040946960449, 2.200000047683716, 2.233842134475708, 2.299999952316284, 2.3148205280303955, 2.4000000953674316, 2.428081512451172, 2.5, 2.5324440002441406, 2.5999999046325684, 2.634486198425293, 2.700000047683716, 2.735614061355591, 2.799999952316284, 2.83624005317688, 2.9000000953674316, 2.9365499019622803, 3.0, 3.036644697189331, 3.0999999046325684, 3.1365859508514404, 3.200000047683716, 3.2364139556884766, 3.299999952316284, 3.3361573219299316, 3.4000000953674316, 3.435835123062134, 3.5, 3.535461664199829, 3.5999999046325684, 3.63504695892334, 3.700000047683716, 3.734598159790039, 3.799999952316284, 3.834120273590088, 3.9000000953674316, 3.9336163997650146, 4.0, 4.033088207244873, 4.099999904632568, 4.132536888122559, 4.199999809265137, 4.231961727142334, 4.300000190734863, 4.331361770629883, 4.400000095367432, 4.4307355880737305, 4.5, 4.530078887939453, 4.599999904632568, 4.629388332366943, 4.699999809265137, 4.728658199310303, 4.800000190734863, 4.827880859375, 4.900000095367432], \"y\": [0.5, 0.5886663198471069, 0.6347413659095764, 0.7353459596633911, 0.766142725944519, 0.8606942296028137, 0.8744639754295349, 0.9674517512321472, 0.9734973311424255, 1.0795722007751465, 1.0958222150802612, 1.224435806274414, 1.25655198097229, 1.3987395763397217, 1.4316685199737549, 1.554887056350708, 1.5630080699920654, 1.6259560585021973, 1.588788390159607, 1.5685886144638062, 1.4823660850524902, 1.38599693775177, 1.2663543224334717, 1.122334599494934, 0.9931912422180176, 0.8358286619186401, 0.7154227495193481, 0.5717305541038513, 0.46783217787742615, 0.35203078389167786, 0.26559504866600037, 0.18073630332946777, 0.11034084856510162, 0.05408378317952156, -0.003122353693470359, -0.0111466683447361, -0.08230699598789215, -0.10387083888053894, -0.13468918204307556, -0.14551018178462982, -0.16681630909442902, -0.1699378341436386, -0.18405896425247192, -0.18219703435897827, -0.19066673517227173, -0.1859768182039261, -0.18993689119815826, -0.1864456981420517, -0.1843765825033188, -0.17744243144989014, -0.17582355439662933, -0.16735947132110596, -0.16570401191711426, -0.15637780725955963, -0.1549406796693802, -0.1451464146375656, -0.14418624341487885, -0.13418149948120117, -0.13386492431163788, -0.1238129734992981, -0.12422174960374832, -0.11421114951372147, -0.11533627659082413, -0.10544134676456451, -0.10731703788042068, -0.09754697978496552, -0.10010350495576859, -0.09046190232038498, -0.09363856166601181, -0.0841139480471611, -0.08783554285764694, -0.07841257005929947, -0.08260471373796463, -0.07326684892177582, -0.07785793393850327, -0.06858997792005539, -0.07351367920637131, -0.06430353224277496, -0.0695006474852562, -0.060339733958244324, -0.06575829535722733, -0.05664197728037834, -0.062237437814474106, -0.053164754062891006, -0.05889918655157089, -0.04987272247672081, -0.055714257061481476, -0.046739622950553894, -0.05266112834215164, -0.04374687001109123, -0.04972551017999649, -0.04088260233402252, -0.04689817130565643, -0.0381399504840374, -0.04417399689555168, -0.03551619499921799, -0.041551120579242706, -0.03301192447543144, -0.039029207080602646]}, {\"type\": \"scatter\", \"x\": [0.0, 0.04907172918319702, 0.10000000149011612, 0.15194594860076904, 0.20000000298023224, 0.2512019872665405, 0.30000001192092896, 0.35108324885368347, 0.4000000059604645, 0.4520800709724426, 0.5, 0.5542318224906921, 0.6000000238418579, 0.6569441556930542, 0.699999988079071, 0.7591030597686768, 0.800000011920929, 0.8601148724555969, 0.8999999761581421, 0.9605861306190491, 1.0, 1.0612205266952515, 1.100000023841858, 1.1620742082595825, 1.2000000476837158, 1.2626818418502808, 1.2999999523162842, 1.3623963594436646, 1.399999976158142, 1.4608837366104126, 1.5, 1.5581990480422974, 1.600000023841858, 1.6536567211151123, 1.7000000476837158, 1.7124098539352417, 1.7999999523162842, 1.8490571975708008, 1.899999976158142, 1.9467600584030151, 2.0, 2.043205976486206, 2.0999999046325684, 2.139040946960449, 2.200000047683716, 2.233842134475708, 2.299999952316284, 2.3148205280303955, 2.4000000953674316, 2.428081512451172, 2.5, 2.5324440002441406, 2.5999999046325684, 2.634486198425293, 2.700000047683716, 2.735614061355591, 2.799999952316284, 2.83624005317688, 2.9000000953674316, 2.9365499019622803, 3.0, 3.036644697189331, 3.0999999046325684, 3.1365859508514404, 3.200000047683716, 3.2364139556884766, 3.299999952316284, 3.3361573219299316, 3.4000000953674316, 3.435835123062134, 3.5, 3.535461664199829, 3.5999999046325684, 3.63504695892334, 3.700000047683716, 3.734598159790039, 3.799999952316284, 3.834120273590088, 3.9000000953674316, 3.9336163997650146, 4.0, 4.033088207244873, 4.099999904632568, 4.132536888122559, 4.199999809265137, 4.231961727142334, 4.300000190734863, 4.331361770629883, 4.400000095367432, 4.4307355880737305, 4.5, 4.530078887939453, 4.599999904632568, 4.629388332366943, 4.699999809265137, 4.728658199310303, 4.800000190734863, 4.827880859375, 4.900000095367432], \"y\": [3.0, 2.7675082683563232, 2.6473019123077393, 2.460376739501953, 2.4297144412994385, 2.324378728866577, 2.389648675918579, 2.3557071685791016, 2.499812126159668, 2.496859550476074, 2.6585705280303955, 2.642892360687256, 2.7621099948883057, 2.7040200233459473, 2.7560970783233643, 2.6458420753479004, 2.6377956867218018, 2.4851770401000977, 2.4363019466400146, 2.258528470993042, 2.187802314758301, 1.998337984085083, 1.9198341369628906, 1.7273091077804565, 1.6495254039764404, 1.460949420928955, 1.3881492614746094, 1.2105422019958496, 1.1441401243209839, 0.9833245277404785, 0.9234508872032166, 0.7825941443443298, 0.7292454838752747, 0.610238790512085, 0.5621303915977478, 0.5313388705253601, 0.42090076208114624, 0.33167120814323425, 0.303230345249176, 0.22542065382003784, 0.20636557042598724, 0.13905416429042816, 0.12749555706977844, 0.06926218420267105, 0.06395994871854782, 0.014251013286411762, 0.013381329365074635, -0.011530817486345768, -0.02632550522685051, -0.06640809774398804, -0.05697905644774437, -0.09964198619127274, -0.0800696387887001, -0.12319481372833252, -0.09695760160684586, -0.14002791047096252, -0.10875509679317474, -0.1516575664281845, -0.11640427261590958, -0.15916065871715546, -0.12070167809724808, -0.16337431967258453, -0.12231361865997314, -0.16497573256492615, -0.12181054055690765, -0.16452600061893463, -0.11965710669755936, -0.1624707281589508, -0.116234190762043, -0.15917569398880005, -0.1118541732430458, -0.15493735671043396, -0.10677070915699005, -0.14999549090862274, -0.10118807852268219, -0.14454232156276703, -0.09526941925287247, -0.1387307345867157, -0.08914372324943542, -0.13268128037452698, -0.08291218429803848, -0.12648805975914001, -0.07665350288152695, -0.12022381275892258, -0.07042854279279709, -0.11394418776035309, -0.06428411602973938, -0.1076912060379982, -0.05825618654489517, -0.1014958843588829, -0.05237184837460518, -0.09538010507822037, -0.046652067452669144, -0.08935854583978653, -0.0411127470433712, -0.08343925327062607, -0.035765957087278366, -0.07762393355369568, -0.03062107414007187]}],\n",
       "                        {\"template\": {\"data\": {\"bar\": [{\"error_x\": {\"color\": \"#2a3f5f\"}, \"error_y\": {\"color\": \"#2a3f5f\"}, \"marker\": {\"line\": {\"color\": \"#E5ECF6\", \"width\": 0.5}}, \"type\": \"bar\"}], \"barpolar\": [{\"marker\": {\"line\": {\"color\": \"#E5ECF6\", \"width\": 0.5}}, \"type\": \"barpolar\"}], \"carpet\": [{\"aaxis\": {\"endlinecolor\": \"#2a3f5f\", \"gridcolor\": \"white\", \"linecolor\": \"white\", \"minorgridcolor\": \"white\", \"startlinecolor\": \"#2a3f5f\"}, \"baxis\": {\"endlinecolor\": \"#2a3f5f\", \"gridcolor\": \"white\", \"linecolor\": \"white\", \"minorgridcolor\": \"white\", \"startlinecolor\": \"#2a3f5f\"}, \"type\": \"carpet\"}], \"choropleth\": [{\"colorbar\": {\"outlinewidth\": 0, \"ticks\": \"\"}, \"type\": \"choropleth\"}], \"contour\": [{\"colorbar\": {\"outlinewidth\": 0, \"ticks\": \"\"}, \"colorscale\": [[0.0, \"#0d0887\"], [0.1111111111111111, \"#46039f\"], [0.2222222222222222, \"#7201a8\"], [0.3333333333333333, \"#9c179e\"], [0.4444444444444444, \"#bd3786\"], [0.5555555555555556, \"#d8576b\"], [0.6666666666666666, \"#ed7953\"], [0.7777777777777778, \"#fb9f3a\"], [0.8888888888888888, \"#fdca26\"], [1.0, \"#f0f921\"]], \"type\": \"contour\"}], \"contourcarpet\": [{\"colorbar\": {\"outlinewidth\": 0, \"ticks\": \"\"}, \"type\": \"contourcarpet\"}], \"heatmap\": [{\"colorbar\": {\"outlinewidth\": 0, \"ticks\": \"\"}, \"colorscale\": [[0.0, \"#0d0887\"], [0.1111111111111111, \"#46039f\"], [0.2222222222222222, \"#7201a8\"], [0.3333333333333333, \"#9c179e\"], [0.4444444444444444, \"#bd3786\"], [0.5555555555555556, \"#d8576b\"], [0.6666666666666666, \"#ed7953\"], [0.7777777777777778, \"#fb9f3a\"], [0.8888888888888888, \"#fdca26\"], [1.0, \"#f0f921\"]], \"type\": \"heatmap\"}], \"heatmapgl\": [{\"colorbar\": {\"outlinewidth\": 0, \"ticks\": \"\"}, \"colorscale\": [[0.0, \"#0d0887\"], [0.1111111111111111, \"#46039f\"], [0.2222222222222222, \"#7201a8\"], [0.3333333333333333, \"#9c179e\"], [0.4444444444444444, \"#bd3786\"], [0.5555555555555556, \"#d8576b\"], [0.6666666666666666, \"#ed7953\"], [0.7777777777777778, \"#fb9f3a\"], [0.8888888888888888, \"#fdca26\"], [1.0, \"#f0f921\"]], \"type\": \"heatmapgl\"}], \"histogram\": [{\"marker\": {\"colorbar\": {\"outlinewidth\": 0, \"ticks\": \"\"}}, \"type\": \"histogram\"}], \"histogram2d\": [{\"colorbar\": {\"outlinewidth\": 0, \"ticks\": \"\"}, \"colorscale\": [[0.0, \"#0d0887\"], [0.1111111111111111, \"#46039f\"], [0.2222222222222222, \"#7201a8\"], [0.3333333333333333, \"#9c179e\"], [0.4444444444444444, \"#bd3786\"], [0.5555555555555556, \"#d8576b\"], [0.6666666666666666, \"#ed7953\"], [0.7777777777777778, \"#fb9f3a\"], [0.8888888888888888, \"#fdca26\"], [1.0, \"#f0f921\"]], \"type\": \"histogram2d\"}], \"histogram2dcontour\": [{\"colorbar\": {\"outlinewidth\": 0, \"ticks\": \"\"}, \"colorscale\": [[0.0, \"#0d0887\"], [0.1111111111111111, \"#46039f\"], [0.2222222222222222, \"#7201a8\"], [0.3333333333333333, \"#9c179e\"], [0.4444444444444444, \"#bd3786\"], [0.5555555555555556, \"#d8576b\"], [0.6666666666666666, \"#ed7953\"], [0.7777777777777778, \"#fb9f3a\"], [0.8888888888888888, \"#fdca26\"], [1.0, \"#f0f921\"]], \"type\": \"histogram2dcontour\"}], \"mesh3d\": [{\"colorbar\": {\"outlinewidth\": 0, \"ticks\": \"\"}, \"type\": \"mesh3d\"}], \"parcoords\": [{\"line\": {\"colorbar\": {\"outlinewidth\": 0, \"ticks\": \"\"}}, \"type\": \"parcoords\"}], \"pie\": [{\"automargin\": true, \"type\": \"pie\"}], \"scatter\": [{\"marker\": {\"colorbar\": {\"outlinewidth\": 0, \"ticks\": \"\"}}, \"type\": \"scatter\"}], \"scatter3d\": [{\"line\": {\"colorbar\": {\"outlinewidth\": 0, \"ticks\": \"\"}}, \"marker\": {\"colorbar\": {\"outlinewidth\": 0, \"ticks\": \"\"}}, \"type\": \"scatter3d\"}], \"scattercarpet\": [{\"marker\": {\"colorbar\": {\"outlinewidth\": 0, \"ticks\": \"\"}}, \"type\": \"scattercarpet\"}], \"scattergeo\": [{\"marker\": {\"colorbar\": {\"outlinewidth\": 0, \"ticks\": \"\"}}, \"type\": \"scattergeo\"}], \"scattergl\": [{\"marker\": {\"colorbar\": {\"outlinewidth\": 0, \"ticks\": \"\"}}, \"type\": \"scattergl\"}], \"scattermapbox\": [{\"marker\": {\"colorbar\": {\"outlinewidth\": 0, \"ticks\": \"\"}}, \"type\": \"scattermapbox\"}], \"scatterpolar\": [{\"marker\": {\"colorbar\": {\"outlinewidth\": 0, \"ticks\": \"\"}}, \"type\": \"scatterpolar\"}], \"scatterpolargl\": [{\"marker\": {\"colorbar\": {\"outlinewidth\": 0, \"ticks\": \"\"}}, \"type\": \"scatterpolargl\"}], \"scatterternary\": [{\"marker\": {\"colorbar\": {\"outlinewidth\": 0, \"ticks\": \"\"}}, \"type\": \"scatterternary\"}], \"surface\": [{\"colorbar\": {\"outlinewidth\": 0, \"ticks\": \"\"}, \"colorscale\": [[0.0, \"#0d0887\"], [0.1111111111111111, \"#46039f\"], [0.2222222222222222, \"#7201a8\"], [0.3333333333333333, \"#9c179e\"], [0.4444444444444444, \"#bd3786\"], [0.5555555555555556, \"#d8576b\"], [0.6666666666666666, \"#ed7953\"], [0.7777777777777778, \"#fb9f3a\"], [0.8888888888888888, \"#fdca26\"], [1.0, \"#f0f921\"]], \"type\": \"surface\"}], \"table\": [{\"cells\": {\"fill\": {\"color\": \"#EBF0F8\"}, \"line\": {\"color\": \"white\"}}, \"header\": {\"fill\": {\"color\": \"#C8D4E3\"}, \"line\": {\"color\": \"white\"}}, \"type\": \"table\"}]}, \"layout\": {\"annotationdefaults\": {\"arrowcolor\": \"#2a3f5f\", \"arrowhead\": 0, \"arrowwidth\": 1}, \"coloraxis\": {\"colorbar\": {\"outlinewidth\": 0, \"ticks\": \"\"}}, \"colorscale\": {\"diverging\": [[0, \"#8e0152\"], [0.1, \"#c51b7d\"], [0.2, \"#de77ae\"], [0.3, \"#f1b6da\"], [0.4, \"#fde0ef\"], [0.5, \"#f7f7f7\"], [0.6, \"#e6f5d0\"], [0.7, \"#b8e186\"], [0.8, \"#7fbc41\"], [0.9, \"#4d9221\"], [1, \"#276419\"]], \"sequential\": [[0.0, \"#0d0887\"], [0.1111111111111111, \"#46039f\"], [0.2222222222222222, \"#7201a8\"], [0.3333333333333333, \"#9c179e\"], [0.4444444444444444, \"#bd3786\"], [0.5555555555555556, \"#d8576b\"], [0.6666666666666666, \"#ed7953\"], [0.7777777777777778, \"#fb9f3a\"], [0.8888888888888888, \"#fdca26\"], [1.0, \"#f0f921\"]], \"sequentialminus\": [[0.0, \"#0d0887\"], [0.1111111111111111, \"#46039f\"], [0.2222222222222222, \"#7201a8\"], [0.3333333333333333, \"#9c179e\"], [0.4444444444444444, \"#bd3786\"], [0.5555555555555556, \"#d8576b\"], [0.6666666666666666, \"#ed7953\"], [0.7777777777777778, \"#fb9f3a\"], [0.8888888888888888, \"#fdca26\"], [1.0, \"#f0f921\"]]}, \"colorway\": [\"#636efa\", \"#EF553B\", \"#00cc96\", \"#ab63fa\", \"#FFA15A\", \"#19d3f3\", \"#FF6692\", \"#B6E880\", \"#FF97FF\", \"#FECB52\"], \"font\": {\"color\": \"#2a3f5f\"}, \"geo\": {\"bgcolor\": \"white\", \"lakecolor\": \"white\", \"landcolor\": \"#E5ECF6\", \"showlakes\": true, \"showland\": true, \"subunitcolor\": \"white\"}, \"hoverlabel\": {\"align\": \"left\"}, \"hovermode\": \"closest\", \"mapbox\": {\"style\": \"light\"}, \"paper_bgcolor\": \"white\", \"plot_bgcolor\": \"#E5ECF6\", \"polar\": {\"angularaxis\": {\"gridcolor\": \"white\", \"linecolor\": \"white\", \"ticks\": \"\"}, \"bgcolor\": \"#E5ECF6\", \"radialaxis\": {\"gridcolor\": \"white\", \"linecolor\": \"white\", \"ticks\": \"\"}}, \"scene\": {\"xaxis\": {\"backgroundcolor\": \"#E5ECF6\", \"gridcolor\": \"white\", \"gridwidth\": 2, \"linecolor\": \"white\", \"showbackground\": true, \"ticks\": \"\", \"zerolinecolor\": \"white\"}, \"yaxis\": {\"backgroundcolor\": \"#E5ECF6\", \"gridcolor\": \"white\", \"gridwidth\": 2, \"linecolor\": \"white\", \"showbackground\": true, \"ticks\": \"\", \"zerolinecolor\": \"white\"}, \"zaxis\": {\"backgroundcolor\": \"#E5ECF6\", \"gridcolor\": \"white\", \"gridwidth\": 2, \"linecolor\": \"white\", \"showbackground\": true, \"ticks\": \"\", \"zerolinecolor\": \"white\"}}, \"shapedefaults\": {\"line\": {\"color\": \"#2a3f5f\"}}, \"ternary\": {\"aaxis\": {\"gridcolor\": \"white\", \"linecolor\": \"white\", \"ticks\": \"\"}, \"baxis\": {\"gridcolor\": \"white\", \"linecolor\": \"white\", \"ticks\": \"\"}, \"bgcolor\": \"#E5ECF6\", \"caxis\": {\"gridcolor\": \"white\", \"linecolor\": \"white\", \"ticks\": \"\"}}, \"title\": {\"x\": 0.05}, \"xaxis\": {\"automargin\": true, \"gridcolor\": \"white\", \"linecolor\": \"white\", \"ticks\": \"\", \"title\": {\"standoff\": 15}, \"zerolinecolor\": \"white\", \"zerolinewidth\": 2}, \"yaxis\": {\"automargin\": true, \"gridcolor\": \"white\", \"linecolor\": \"white\", \"ticks\": \"\", \"title\": {\"standoff\": 15}, \"zerolinecolor\": \"white\", \"zerolinewidth\": 2}}}},\n",
       "                        {\"responsive\": true}\n",
       "                    ).then(function(){\n",
       "                            \n",
       "var gd = document.getElementById('97b9ab75-ea80-4a10-83c8-e786222074e3');\n",
       "var x = new MutationObserver(function (mutations, observer) {{\n",
       "        var display = window.getComputedStyle(gd).display;\n",
       "        if (!display || display === 'none') {{\n",
       "            console.log([gd, 'removed!']);\n",
       "            Plotly.purge(gd);\n",
       "            observer.disconnect();\n",
       "        }}\n",
       "}});\n",
       "\n",
       "// Listen for the removal of the full notebook cells\n",
       "var notebookContainer = gd.closest('#notebook-container');\n",
       "if (notebookContainer) {{\n",
       "    x.observe(notebookContainer, {childList: true});\n",
       "}}\n",
       "\n",
       "// Listen for the clearing of the current output cell\n",
       "var outputEl = gd.closest('.output');\n",
       "if (outputEl) {{\n",
       "    x.observe(outputEl, {childList: true});\n",
       "}}\n",
       "\n",
       "                        })\n",
       "                };\n",
       "                });\n",
       "            </script>\n",
       "        </div>"
      ]
     },
     "metadata": {},
     "output_type": "display_data"
    }
   ],
   "source": [
    "vf_ctrl, sys_ctrl = double_pendulum_utils.get_value_function(vf_ctrl_N)\n",
    "ctrl = controllers.get_limited_lookahead_controller(vf_ctrl, vf_approx_adv)\n",
    "x_traj_sim, t_traj_sim = controllers.sim_ctrl(x0, vf.u_dim[0], sys.dx, ctrl, .1, 50)\n",
    "\n",
    "fig = go.Figure()\n",
    "for i in range(4):\n",
    "    fig.add_trace(go.Scatter(\n",
    "        x=t_traj_sim,\n",
    "        y=x_traj_sim[i,:]\n",
    "    ))\n",
    "print(\"Adversarial\")\n",
    "fig.show()"
   ]
  },
  {
   "cell_type": "code",
   "execution_count": 48,
   "metadata": {},
   "outputs": [
    {
     "name": "stdout",
     "output_type": "stream",
     "text": [
      "No cost-to-go\n"
     ]
    },
    {
     "data": {
      "application/vnd.plotly.v1+json": {
       "config": {
        "plotlyServerURL": "https://plot.ly"
       },
       "data": [
        {
         "type": "scatter",
         "x": [
          0,
          0.045632582157850266,
          0.10000000149011612,
          0.15939132869243622,
          0.20000000298023224,
          0.26021668314933777,
          0.30000001192092896,
          0.3553488850593567,
          0.4000000059604645,
          0.44841814041137695,
          0.5,
          0.540086567401886,
          0.6000000238418579,
          0.6024226546287537,
          0.6266493797302246,
          0.699999988079071,
          0.7384830713272095,
          0.800000011920929,
          0.8436139822006226,
          0.8999999761581421,
          0.946575939655304,
          1,
          1.048398733139038,
          1.100000023841858,
          1.1499539613723755,
          1.2000000476837158,
          1.25234055519104,
          1.2999999523162842,
          1.3586386442184448,
          1.399999976158142,
          1.4512560367584229,
          1.5,
          1.5399932861328125,
          1.600000023841858,
          1.6458816528320312,
          1.7000000476837158,
          1.7480348348617554,
          1.7999999523162842,
          1.848391056060791,
          1.899999976158142,
          1.9381955862045288,
          2,
          2.051492214202881,
          2.0999999046325684,
          2.153639316558838,
          2.200000047683716,
          2.2558441162109375,
          2.299999952316284,
          2.3594367504119873,
          2.4000000953674316,
          2.4613423347473145,
          2.5,
          2.550382614135742,
          2.5999999046325684,
          2.654029369354248,
          2.700000047683716,
          2.754535436630249,
          2.799999952316284,
          2.854405164718628,
          2.9000000953674316,
          2.9542694091796875,
          3,
          3.054280996322632,
          3.0999999046325684,
          3.154195785522461,
          3.200000047683716,
          3.253401041030884,
          3.299999952316284,
          3.351336717605591,
          3.4000000953674316,
          3.4485979080200195,
          3.5,
          3.544570207595825,
          3.5999999046325684,
          3.6396689414978027,
          3.700000047683716,
          3.7177066802978516,
          3.799999952316284,
          3.819115161895752,
          3.9000000953674316,
          3.9347283840179443,
          4,
          4.0401129722595215,
          4.099999904632568,
          4.144669532775879,
          4.199999809265137,
          4.249248504638672,
          4.300000190734863,
          4.354272365570068,
          4.400000095367432,
          4.456656455993652,
          4.5,
          4.566714286804199,
          4.599999904632568,
          4.678290367126465,
          4.699999809265137,
          4.777884006500244,
          4.800000190734863,
          4.873629093170166,
          4.900000095367432
         ],
         "y": [
          3.34159255027771,
          3.368901491165161,
          3.412672996520996,
          3.4737942218780518,
          3.5229427814483643,
          3.6071016788482666,
          3.6698343753814697,
          3.7672016620635986,
          3.8541970252990723,
          3.95756459236145,
          4.078052997589111,
          4.1792449951171875,
          4.343120098114014,
          4.350009441375732,
          4.420619010925293,
          4.649777889251709,
          4.77835750579834,
          4.995607852935791,
          5.15701150894165,
          5.373537540435791,
          5.556994438171387,
          5.770528316497803,
          5.964083671569824,
          6.168167591094971,
          6.360490322113037,
          6.545833110809326,
          6.729130268096924,
          6.885216236114502,
          7.0610551834106445,
          7.173739910125732,
          7.299649238586426,
          7.405292510986328,
          7.481565475463867,
          7.578770637512207,
          7.639338493347168,
          7.6959147453308105,
          7.732974052429199,
          7.7595696449279785,
          7.772058010101318,
          7.772681713104248,
          7.764975070953369,
          7.737870216369629,
          7.701997756958008,
          7.657341003417969,
          7.596011638641357,
          7.533092975616455,
          7.44555139541626,
          7.367527484893799,
          7.251039505004883,
          7.164453983306885,
          7.023954391479492,
          6.930178642272949,
          6.803206920623779,
          6.674057483673096,
          6.530727386474609,
          6.407871246337891,
          6.262933254241943,
          6.143862724304199,
          6.004961013793945,
          5.892288684844971,
          5.763578414916992,
          5.660066604614258,
          5.543677806854248,
          5.451328754425049,
          5.349087715148926,
          5.268998146057129,
          5.183435916900635,
          5.115865230560303,
          5.049516201019287,
          4.99468994140625,
          4.948071002960205,
          4.907858371734619,
          4.880679130554199,
          4.857156276702881,
          4.847259998321533,
          4.843753337860107,
          4.845187664031982,
          4.868252277374268,
          4.8771281242370605,
          4.9306640625,
          4.961000442504883,
          5.030237197875977,
          5.080188274383545,
          5.165147304534912,
          5.235984802246094,
          5.332111358642578,
          5.42463493347168,
          5.526086807250977,
          5.640323162078857,
          5.740261554718018,
          5.867507457733154,
          5.966442584991455,
          6.119653224945068,
          6.19572114944458,
          6.371584892272949,
          6.419095993041992,
          6.583400249481201,
          6.627880096435547,
          6.767533779144287,
          6.8140106201171875
         ]
        },
        {
         "type": "scatter",
         "x": [
          0,
          0.045632582157850266,
          0.10000000149011612,
          0.15939132869243622,
          0.20000000298023224,
          0.26021668314933777,
          0.30000001192092896,
          0.3553488850593567,
          0.4000000059604645,
          0.44841814041137695,
          0.5,
          0.540086567401886,
          0.6000000238418579,
          0.6024226546287537,
          0.6266493797302246,
          0.699999988079071,
          0.7384830713272095,
          0.800000011920929,
          0.8436139822006226,
          0.8999999761581421,
          0.946575939655304,
          1,
          1.048398733139038,
          1.100000023841858,
          1.1499539613723755,
          1.2000000476837158,
          1.25234055519104,
          1.2999999523162842,
          1.3586386442184448,
          1.399999976158142,
          1.4512560367584229,
          1.5,
          1.5399932861328125,
          1.600000023841858,
          1.6458816528320312,
          1.7000000476837158,
          1.7480348348617554,
          1.7999999523162842,
          1.848391056060791,
          1.899999976158142,
          1.9381955862045288,
          2,
          2.051492214202881,
          2.0999999046325684,
          2.153639316558838,
          2.200000047683716,
          2.2558441162109375,
          2.299999952316284,
          2.3594367504119873,
          2.4000000953674316,
          2.4613423347473145,
          2.5,
          2.550382614135742,
          2.5999999046325684,
          2.654029369354248,
          2.700000047683716,
          2.754535436630249,
          2.799999952316284,
          2.854405164718628,
          2.9000000953674316,
          2.9542694091796875,
          3,
          3.054280996322632,
          3.0999999046325684,
          3.154195785522461,
          3.200000047683716,
          3.253401041030884,
          3.299999952316284,
          3.351336717605591,
          3.4000000953674316,
          3.4485979080200195,
          3.5,
          3.544570207595825,
          3.5999999046325684,
          3.6396689414978027,
          3.700000047683716,
          3.7177066802978516,
          3.799999952316284,
          3.819115161895752,
          3.9000000953674316,
          3.9347283840179443,
          4,
          4.0401129722595215,
          4.099999904632568,
          4.144669532775879,
          4.199999809265137,
          4.249248504638672,
          4.300000190734863,
          4.354272365570068,
          4.400000095367432,
          4.456656455993652,
          4.5,
          4.566714286804199,
          4.599999904632568,
          4.678290367126465,
          4.699999809265137,
          4.777884006500244,
          4.800000190734863,
          4.873629093170166,
          4.900000095367432
         ],
         "y": [
          0.10000000149011612,
          0.22656159102916718,
          0.35180509090423584,
          0.4616333842277527,
          0.5235376954078674,
          0.5979998111724854,
          0.6376654505729675,
          0.6811586618423462,
          0.7079547047615051,
          0.7290382385253906,
          0.7438101768493652,
          0.7501298785209656,
          0.751729428768158,
          0.7517022490501404,
          0.7499899864196777,
          0.7352747321128845,
          0.7230249047279358,
          0.6957739591598511,
          0.6718342900276184,
          0.6346759796142578,
          0.6002526879310608,
          0.5569747686386108,
          0.5165809988975525,
          0.4732941687107086,
          0.43391111493110657,
          0.3979461193084717,
          0.3664360046386719,
          0.3435237407684326,
          0.324293315410614,
          0.31632015109062195,
          0.31308457255363464,
          0.31583014130592346,
          0.32214099168777466,
          0.3373892605304718,
          0.353052020072937,
          0.37513911724090576,
          0.3974038064479828,
          0.4236699342727661,
          0.4495930075645447,
          0.47832387685775757,
          0.49976110458374023,
          0.5348579287528992,
          0.5633040070533752,
          0.5891069173812866,
          0.6157485842704773,
          0.6368313431739807,
          0.6589245200157166,
          0.6735129952430725,
          0.6879081726074219,
          0.6939707398414612,
          0.6958109736442566,
          0.6922380328178406,
          0.6809524893760681,
          0.6624405980110168,
          0.6331219673156738,
          0.6010018587112427,
          0.5543384552001953,
          0.5094395875930786,
          0.449550062417984,
          0.3959248960018158,
          0.3297141194343567,
          0.27383533120155334,
          0.20909397304058075,
          0.15746407210826874,
          0.10072769969701767,
          0.05745556578040123,
          0.012625772505998611,
          -0.0212857648730278,
          -0.05334144085645676,
          -0.07881323993206024,
          -0.09990274906158447,
          -0.1180405542254448,
          -0.1305539757013321,
          -0.1428162157535553,
          -0.1492985635995865,
          -0.1566813737154007,
          -0.1579418033361435,
          -0.16221274435520172,
          -0.16219010949134827,
          -0.16073961555957794,
          -0.15844124555587769,
          -0.15229880809783936,
          -0.14660394191741943,
          -0.13577207922935486,
          -0.12520380318164825,
          -0.10922745615243912,
          -0.09177834540605545,
          -0.07056030631065369,
          -0.04398113861680031,
          -0.018483860418200493,
          0.016828034073114395,
          0.04637256637215614,
          0.0952686294913292,
          0.12089745700359344,
          0.18275615572929382,
          0.20009160041809082,
          0.2616320550441742,
          0.2787282466888428,
          0.33408123254776,
          0.35308316349983215
         ]
        },
        {
         "type": "scatter",
         "x": [
          0,
          0.045632582157850266,
          0.10000000149011612,
          0.15939132869243622,
          0.20000000298023224,
          0.26021668314933777,
          0.30000001192092896,
          0.3553488850593567,
          0.4000000059604645,
          0.44841814041137695,
          0.5,
          0.540086567401886,
          0.6000000238418579,
          0.6024226546287537,
          0.6266493797302246,
          0.699999988079071,
          0.7384830713272095,
          0.800000011920929,
          0.8436139822006226,
          0.8999999761581421,
          0.946575939655304,
          1,
          1.048398733139038,
          1.100000023841858,
          1.1499539613723755,
          1.2000000476837158,
          1.25234055519104,
          1.2999999523162842,
          1.3586386442184448,
          1.399999976158142,
          1.4512560367584229,
          1.5,
          1.5399932861328125,
          1.600000023841858,
          1.6458816528320312,
          1.7000000476837158,
          1.7480348348617554,
          1.7999999523162842,
          1.848391056060791,
          1.899999976158142,
          1.9381955862045288,
          2,
          2.051492214202881,
          2.0999999046325684,
          2.153639316558838,
          2.200000047683716,
          2.2558441162109375,
          2.299999952316284,
          2.3594367504119873,
          2.4000000953674316,
          2.4613423347473145,
          2.5,
          2.550382614135742,
          2.5999999046325684,
          2.654029369354248,
          2.700000047683716,
          2.754535436630249,
          2.799999952316284,
          2.854405164718628,
          2.9000000953674316,
          2.9542694091796875,
          3,
          3.054280996322632,
          3.0999999046325684,
          3.154195785522461,
          3.200000047683716,
          3.253401041030884,
          3.299999952316284,
          3.351336717605591,
          3.4000000953674316,
          3.4485979080200195,
          3.5,
          3.544570207595825,
          3.5999999046325684,
          3.6396689414978027,
          3.700000047683716,
          3.7177066802978516,
          3.799999952316284,
          3.819115161895752,
          3.9000000953674316,
          3.9347283840179443,
          4,
          4.0401129722595215,
          4.099999904632568,
          4.144669532775879,
          4.199999809265137,
          4.249248504638672,
          4.300000190734863,
          4.354272365570068,
          4.400000095367432,
          4.456656455993652,
          4.5,
          4.566714286804199,
          4.599999904632568,
          4.678290367126465,
          4.699999809265137,
          4.777884006500244,
          4.800000190734863,
          4.873629093170166,
          4.900000095367432
         ],
         "y": [
          0.5,
          0.6951699256896973,
          0.9119092226028442,
          1.1405051946640015,
          1.2776634693145752,
          1.510124683380127,
          1.6407592296600342,
          1.8698081970214844,
          2.0222573280334473,
          2.2400264739990234,
          2.42348313331604,
          2.6186797618865967,
          2.8368332386016846,
          2.8503432273864746,
          2.975801467895508,
          3.243501663208008,
          3.429831027984619,
          3.607192039489746,
          3.7805416584014893,
          3.8734018802642822,
          3.9870200157165527,
          3.9815211296081543,
          3.9982595443725586,
          3.889573097229004,
          3.793534278869629,
          3.5969765186309814,
          3.394186496734619,
          3.1466360092163086,
          2.8426971435546875,
          2.6032423973083496,
          2.3086371421813965,
          2.026204824447632,
          1.789610743522644,
          1.454661250114441,
          1.1893527507781982,
          0.9072043299674988,
          0.641045331954956,
          0.38877415657043457,
          0.13300107419490814,
          -0.10234614461660385,
          -0.2977828085422516,
          -0.5701605677604675,
          -0.8175035119056702,
          -1.0182981491088867,
          -1.2630411386489868,
          -1.4466276168823242,
          -1.6834713220596313,
          -1.8466066122055054,
          -2.0678234100341797,
          -2.1981654167175293,
          -2.377256155014038,
          -2.4717493057250977,
          -2.565218687057495,
          -2.637282133102417,
          -2.665469169616699,
          -2.678203821182251,
          -2.636387825012207,
          -2.602410078048706,
          -2.5058674812316895,
          -2.4393773078918457,
          -2.3085241317749023,
          -2.2226901054382324,
          -2.071523427963257,
          -1.9728578329086304,
          -1.8063923120498657,
          -1.6951746940612793,
          -1.515533208847046,
          -1.389304518699646,
          -1.2015727758407593,
          -1.0571945905685425,
          -0.8671253323554993,
          -0.7040629982948303,
          -0.5206995010375977,
          -0.3361347019672394,
          -0.16705305874347687,
          0.04080410674214363,
          0.12032554298639297,
          0.42122021317481995,
          0.5064579844474792,
          0.7985773086547852,
          0.9450934529304504,
          1.1638389825820923,
          1.321997880935669,
          1.5042929649353027,
          1.6612507104873657,
          1.803486943244934,
          1.9461723566055298,
          2.0431389808654785,
          2.1569483280181885,
          2.2069406509399414,
          2.2746498584747314,
          2.2843377590179443,
          2.295609474182129,
          2.271677017211914,
          2.2053654193878174,
          2.1703944206237793,
          2.036482095718384,
          1.9849987030029297,
          1.8006000518798828,
          1.7233136892318726
         ]
        },
        {
         "type": "scatter",
         "x": [
          0,
          0.045632582157850266,
          0.10000000149011612,
          0.15939132869243622,
          0.20000000298023224,
          0.26021668314933777,
          0.30000001192092896,
          0.3553488850593567,
          0.4000000059604645,
          0.44841814041137695,
          0.5,
          0.540086567401886,
          0.6000000238418579,
          0.6024226546287537,
          0.6266493797302246,
          0.699999988079071,
          0.7384830713272095,
          0.800000011920929,
          0.8436139822006226,
          0.8999999761581421,
          0.946575939655304,
          1,
          1.048398733139038,
          1.100000023841858,
          1.1499539613723755,
          1.2000000476837158,
          1.25234055519104,
          1.2999999523162842,
          1.3586386442184448,
          1.399999976158142,
          1.4512560367584229,
          1.5,
          1.5399932861328125,
          1.600000023841858,
          1.6458816528320312,
          1.7000000476837158,
          1.7480348348617554,
          1.7999999523162842,
          1.848391056060791,
          1.899999976158142,
          1.9381955862045288,
          2,
          2.051492214202881,
          2.0999999046325684,
          2.153639316558838,
          2.200000047683716,
          2.2558441162109375,
          2.299999952316284,
          2.3594367504119873,
          2.4000000953674316,
          2.4613423347473145,
          2.5,
          2.550382614135742,
          2.5999999046325684,
          2.654029369354248,
          2.700000047683716,
          2.754535436630249,
          2.799999952316284,
          2.854405164718628,
          2.9000000953674316,
          2.9542694091796875,
          3,
          3.054280996322632,
          3.0999999046325684,
          3.154195785522461,
          3.200000047683716,
          3.253401041030884,
          3.299999952316284,
          3.351336717605591,
          3.4000000953674316,
          3.4485979080200195,
          3.5,
          3.544570207595825,
          3.5999999046325684,
          3.6396689414978027,
          3.700000047683716,
          3.7177066802978516,
          3.799999952316284,
          3.819115161895752,
          3.9000000953674316,
          3.9347283840179443,
          4,
          4.0401129722595215,
          4.099999904632568,
          4.144669532775879,
          4.199999809265137,
          4.249248504638672,
          4.300000190734863,
          4.354272365570068,
          4.400000095367432,
          4.456656455993652,
          4.5,
          4.566714286804199,
          4.599999904632568,
          4.678290367126465,
          4.699999809265137,
          4.777884006500244,
          4.800000190734863,
          4.873629093170166,
          4.900000095367432
         ],
         "y": [
          3,
          2.5525259971618652,
          2.062260866165161,
          1.6486598253250122,
          1.4048198461532593,
          1.0833274126052856,
          0.916166365146637,
          0.6711493730545044,
          0.538123607635498,
          0.3477826416492462,
          0.24108323454856873,
          0.08661330491304398,
          -0.00525451498106122,
          -0.017136408016085625,
          -0.11907864362001419,
          -0.23119047284126282,
          -0.39109963178634644,
          -0.4520110487937927,
          -0.6257781386375427,
          -0.6510959267616272,
          -0.8030182123184204,
          -0.778340756893158,
          -0.8657646775245667,
          -0.7790589928627014,
          -0.7759702801704407,
          -0.6387057900428772,
          -0.550966203212738,
          -0.40005233883857727,
          -0.2510489523410797,
          -0.13353975117206573,
          0.0030060962308198214,
          0.10426554083824158,
          0.20552639663219452,
          0.2882368266582489,
          0.3843100666999817,
          0.41714853048324585,
          0.49737000465393066,
          0.4985290467739105,
          0.5598960518836975,
          0.5383297801017761,
          0.5764835476875305,
          0.5382383465766907,
          0.554104745388031,
          0.49782854318618774,
          0.4843900799751282,
          0.4158184230327606,
          0.36670953035354614,
          0.28764864802360535,
          0.19128553569316864,
          0.10447770357131958,
          -0.04480824992060661,
          -0.14020749926567078,
          -0.30370548367500305,
          -0.437267929315567,
          -0.6373557448387146,
          -0.7500511407852173,
          -0.9438223838806152,
          -1.016419529914856,
          -1.1623512506484985,
          -1.171679139137268,
          -1.243043303489685,
          -1.1819993257522583,
          -1.1788296699523926,
          -1.0627785921096802,
          -1.0093181133270264,
          -0.8655900955200195,
          -0.7952280640602112,
          -0.6471888422966003,
          -0.5866073369979858,
          -0.44716519117355347,
          -0.407993346452713,
          -0.2835550606250763,
          -0.2674054205417633,
          -0.1585707664489746,
          -0.1599140167236328,
          -0.06523675471544266,
          -0.0754878968000412,
          0.007908008061349392,
          -0.003660352900624275,
          0.07394176721572876,
          0.06443435698747635,
          0.14551737904548645,
          0.14605334401130676,
          0.2330283224582672,
          0.24893717467784882,
          0.3421129882335663,
          0.37599149346351624,
          0.4700440466403961,
          0.5188222527503967,
          0.6026735901832581,
          0.6510234475135803,
          0.7161497473716736,
          0.7549942135810852,
          0.7862476110458374,
          0.7959808707237244,
          0.8013001084327698,
          0.7770938873291016,
          0.7689571380615234,
          0.7301279306411743,
          0.7106230854988098
         ]
        }
       ],
       "layout": {
        "template": {
         "data": {
          "bar": [
           {
            "error_x": {
             "color": "#2a3f5f"
            },
            "error_y": {
             "color": "#2a3f5f"
            },
            "marker": {
             "line": {
              "color": "#E5ECF6",
              "width": 0.5
             }
            },
            "type": "bar"
           }
          ],
          "barpolar": [
           {
            "marker": {
             "line": {
              "color": "#E5ECF6",
              "width": 0.5
             }
            },
            "type": "barpolar"
           }
          ],
          "carpet": [
           {
            "aaxis": {
             "endlinecolor": "#2a3f5f",
             "gridcolor": "white",
             "linecolor": "white",
             "minorgridcolor": "white",
             "startlinecolor": "#2a3f5f"
            },
            "baxis": {
             "endlinecolor": "#2a3f5f",
             "gridcolor": "white",
             "linecolor": "white",
             "minorgridcolor": "white",
             "startlinecolor": "#2a3f5f"
            },
            "type": "carpet"
           }
          ],
          "choropleth": [
           {
            "colorbar": {
             "outlinewidth": 0,
             "ticks": ""
            },
            "type": "choropleth"
           }
          ],
          "contour": [
           {
            "colorbar": {
             "outlinewidth": 0,
             "ticks": ""
            },
            "colorscale": [
             [
              0,
              "#0d0887"
             ],
             [
              0.1111111111111111,
              "#46039f"
             ],
             [
              0.2222222222222222,
              "#7201a8"
             ],
             [
              0.3333333333333333,
              "#9c179e"
             ],
             [
              0.4444444444444444,
              "#bd3786"
             ],
             [
              0.5555555555555556,
              "#d8576b"
             ],
             [
              0.6666666666666666,
              "#ed7953"
             ],
             [
              0.7777777777777778,
              "#fb9f3a"
             ],
             [
              0.8888888888888888,
              "#fdca26"
             ],
             [
              1,
              "#f0f921"
             ]
            ],
            "type": "contour"
           }
          ],
          "contourcarpet": [
           {
            "colorbar": {
             "outlinewidth": 0,
             "ticks": ""
            },
            "type": "contourcarpet"
           }
          ],
          "heatmap": [
           {
            "colorbar": {
             "outlinewidth": 0,
             "ticks": ""
            },
            "colorscale": [
             [
              0,
              "#0d0887"
             ],
             [
              0.1111111111111111,
              "#46039f"
             ],
             [
              0.2222222222222222,
              "#7201a8"
             ],
             [
              0.3333333333333333,
              "#9c179e"
             ],
             [
              0.4444444444444444,
              "#bd3786"
             ],
             [
              0.5555555555555556,
              "#d8576b"
             ],
             [
              0.6666666666666666,
              "#ed7953"
             ],
             [
              0.7777777777777778,
              "#fb9f3a"
             ],
             [
              0.8888888888888888,
              "#fdca26"
             ],
             [
              1,
              "#f0f921"
             ]
            ],
            "type": "heatmap"
           }
          ],
          "heatmapgl": [
           {
            "colorbar": {
             "outlinewidth": 0,
             "ticks": ""
            },
            "colorscale": [
             [
              0,
              "#0d0887"
             ],
             [
              0.1111111111111111,
              "#46039f"
             ],
             [
              0.2222222222222222,
              "#7201a8"
             ],
             [
              0.3333333333333333,
              "#9c179e"
             ],
             [
              0.4444444444444444,
              "#bd3786"
             ],
             [
              0.5555555555555556,
              "#d8576b"
             ],
             [
              0.6666666666666666,
              "#ed7953"
             ],
             [
              0.7777777777777778,
              "#fb9f3a"
             ],
             [
              0.8888888888888888,
              "#fdca26"
             ],
             [
              1,
              "#f0f921"
             ]
            ],
            "type": "heatmapgl"
           }
          ],
          "histogram": [
           {
            "marker": {
             "colorbar": {
              "outlinewidth": 0,
              "ticks": ""
             }
            },
            "type": "histogram"
           }
          ],
          "histogram2d": [
           {
            "colorbar": {
             "outlinewidth": 0,
             "ticks": ""
            },
            "colorscale": [
             [
              0,
              "#0d0887"
             ],
             [
              0.1111111111111111,
              "#46039f"
             ],
             [
              0.2222222222222222,
              "#7201a8"
             ],
             [
              0.3333333333333333,
              "#9c179e"
             ],
             [
              0.4444444444444444,
              "#bd3786"
             ],
             [
              0.5555555555555556,
              "#d8576b"
             ],
             [
              0.6666666666666666,
              "#ed7953"
             ],
             [
              0.7777777777777778,
              "#fb9f3a"
             ],
             [
              0.8888888888888888,
              "#fdca26"
             ],
             [
              1,
              "#f0f921"
             ]
            ],
            "type": "histogram2d"
           }
          ],
          "histogram2dcontour": [
           {
            "colorbar": {
             "outlinewidth": 0,
             "ticks": ""
            },
            "colorscale": [
             [
              0,
              "#0d0887"
             ],
             [
              0.1111111111111111,
              "#46039f"
             ],
             [
              0.2222222222222222,
              "#7201a8"
             ],
             [
              0.3333333333333333,
              "#9c179e"
             ],
             [
              0.4444444444444444,
              "#bd3786"
             ],
             [
              0.5555555555555556,
              "#d8576b"
             ],
             [
              0.6666666666666666,
              "#ed7953"
             ],
             [
              0.7777777777777778,
              "#fb9f3a"
             ],
             [
              0.8888888888888888,
              "#fdca26"
             ],
             [
              1,
              "#f0f921"
             ]
            ],
            "type": "histogram2dcontour"
           }
          ],
          "mesh3d": [
           {
            "colorbar": {
             "outlinewidth": 0,
             "ticks": ""
            },
            "type": "mesh3d"
           }
          ],
          "parcoords": [
           {
            "line": {
             "colorbar": {
              "outlinewidth": 0,
              "ticks": ""
             }
            },
            "type": "parcoords"
           }
          ],
          "pie": [
           {
            "automargin": true,
            "type": "pie"
           }
          ],
          "scatter": [
           {
            "marker": {
             "colorbar": {
              "outlinewidth": 0,
              "ticks": ""
             }
            },
            "type": "scatter"
           }
          ],
          "scatter3d": [
           {
            "line": {
             "colorbar": {
              "outlinewidth": 0,
              "ticks": ""
             }
            },
            "marker": {
             "colorbar": {
              "outlinewidth": 0,
              "ticks": ""
             }
            },
            "type": "scatter3d"
           }
          ],
          "scattercarpet": [
           {
            "marker": {
             "colorbar": {
              "outlinewidth": 0,
              "ticks": ""
             }
            },
            "type": "scattercarpet"
           }
          ],
          "scattergeo": [
           {
            "marker": {
             "colorbar": {
              "outlinewidth": 0,
              "ticks": ""
             }
            },
            "type": "scattergeo"
           }
          ],
          "scattergl": [
           {
            "marker": {
             "colorbar": {
              "outlinewidth": 0,
              "ticks": ""
             }
            },
            "type": "scattergl"
           }
          ],
          "scattermapbox": [
           {
            "marker": {
             "colorbar": {
              "outlinewidth": 0,
              "ticks": ""
             }
            },
            "type": "scattermapbox"
           }
          ],
          "scatterpolar": [
           {
            "marker": {
             "colorbar": {
              "outlinewidth": 0,
              "ticks": ""
             }
            },
            "type": "scatterpolar"
           }
          ],
          "scatterpolargl": [
           {
            "marker": {
             "colorbar": {
              "outlinewidth": 0,
              "ticks": ""
             }
            },
            "type": "scatterpolargl"
           }
          ],
          "scatterternary": [
           {
            "marker": {
             "colorbar": {
              "outlinewidth": 0,
              "ticks": ""
             }
            },
            "type": "scatterternary"
           }
          ],
          "surface": [
           {
            "colorbar": {
             "outlinewidth": 0,
             "ticks": ""
            },
            "colorscale": [
             [
              0,
              "#0d0887"
             ],
             [
              0.1111111111111111,
              "#46039f"
             ],
             [
              0.2222222222222222,
              "#7201a8"
             ],
             [
              0.3333333333333333,
              "#9c179e"
             ],
             [
              0.4444444444444444,
              "#bd3786"
             ],
             [
              0.5555555555555556,
              "#d8576b"
             ],
             [
              0.6666666666666666,
              "#ed7953"
             ],
             [
              0.7777777777777778,
              "#fb9f3a"
             ],
             [
              0.8888888888888888,
              "#fdca26"
             ],
             [
              1,
              "#f0f921"
             ]
            ],
            "type": "surface"
           }
          ],
          "table": [
           {
            "cells": {
             "fill": {
              "color": "#EBF0F8"
             },
             "line": {
              "color": "white"
             }
            },
            "header": {
             "fill": {
              "color": "#C8D4E3"
             },
             "line": {
              "color": "white"
             }
            },
            "type": "table"
           }
          ]
         },
         "layout": {
          "annotationdefaults": {
           "arrowcolor": "#2a3f5f",
           "arrowhead": 0,
           "arrowwidth": 1
          },
          "coloraxis": {
           "colorbar": {
            "outlinewidth": 0,
            "ticks": ""
           }
          },
          "colorscale": {
           "diverging": [
            [
             0,
             "#8e0152"
            ],
            [
             0.1,
             "#c51b7d"
            ],
            [
             0.2,
             "#de77ae"
            ],
            [
             0.3,
             "#f1b6da"
            ],
            [
             0.4,
             "#fde0ef"
            ],
            [
             0.5,
             "#f7f7f7"
            ],
            [
             0.6,
             "#e6f5d0"
            ],
            [
             0.7,
             "#b8e186"
            ],
            [
             0.8,
             "#7fbc41"
            ],
            [
             0.9,
             "#4d9221"
            ],
            [
             1,
             "#276419"
            ]
           ],
           "sequential": [
            [
             0,
             "#0d0887"
            ],
            [
             0.1111111111111111,
             "#46039f"
            ],
            [
             0.2222222222222222,
             "#7201a8"
            ],
            [
             0.3333333333333333,
             "#9c179e"
            ],
            [
             0.4444444444444444,
             "#bd3786"
            ],
            [
             0.5555555555555556,
             "#d8576b"
            ],
            [
             0.6666666666666666,
             "#ed7953"
            ],
            [
             0.7777777777777778,
             "#fb9f3a"
            ],
            [
             0.8888888888888888,
             "#fdca26"
            ],
            [
             1,
             "#f0f921"
            ]
           ],
           "sequentialminus": [
            [
             0,
             "#0d0887"
            ],
            [
             0.1111111111111111,
             "#46039f"
            ],
            [
             0.2222222222222222,
             "#7201a8"
            ],
            [
             0.3333333333333333,
             "#9c179e"
            ],
            [
             0.4444444444444444,
             "#bd3786"
            ],
            [
             0.5555555555555556,
             "#d8576b"
            ],
            [
             0.6666666666666666,
             "#ed7953"
            ],
            [
             0.7777777777777778,
             "#fb9f3a"
            ],
            [
             0.8888888888888888,
             "#fdca26"
            ],
            [
             1,
             "#f0f921"
            ]
           ]
          },
          "colorway": [
           "#636efa",
           "#EF553B",
           "#00cc96",
           "#ab63fa",
           "#FFA15A",
           "#19d3f3",
           "#FF6692",
           "#B6E880",
           "#FF97FF",
           "#FECB52"
          ],
          "font": {
           "color": "#2a3f5f"
          },
          "geo": {
           "bgcolor": "white",
           "lakecolor": "white",
           "landcolor": "#E5ECF6",
           "showlakes": true,
           "showland": true,
           "subunitcolor": "white"
          },
          "hoverlabel": {
           "align": "left"
          },
          "hovermode": "closest",
          "mapbox": {
           "style": "light"
          },
          "paper_bgcolor": "white",
          "plot_bgcolor": "#E5ECF6",
          "polar": {
           "angularaxis": {
            "gridcolor": "white",
            "linecolor": "white",
            "ticks": ""
           },
           "bgcolor": "#E5ECF6",
           "radialaxis": {
            "gridcolor": "white",
            "linecolor": "white",
            "ticks": ""
           }
          },
          "scene": {
           "xaxis": {
            "backgroundcolor": "#E5ECF6",
            "gridcolor": "white",
            "gridwidth": 2,
            "linecolor": "white",
            "showbackground": true,
            "ticks": "",
            "zerolinecolor": "white"
           },
           "yaxis": {
            "backgroundcolor": "#E5ECF6",
            "gridcolor": "white",
            "gridwidth": 2,
            "linecolor": "white",
            "showbackground": true,
            "ticks": "",
            "zerolinecolor": "white"
           },
           "zaxis": {
            "backgroundcolor": "#E5ECF6",
            "gridcolor": "white",
            "gridwidth": 2,
            "linecolor": "white",
            "showbackground": true,
            "ticks": "",
            "zerolinecolor": "white"
           }
          },
          "shapedefaults": {
           "line": {
            "color": "#2a3f5f"
           }
          },
          "ternary": {
           "aaxis": {
            "gridcolor": "white",
            "linecolor": "white",
            "ticks": ""
           },
           "baxis": {
            "gridcolor": "white",
            "linecolor": "white",
            "ticks": ""
           },
           "bgcolor": "#E5ECF6",
           "caxis": {
            "gridcolor": "white",
            "linecolor": "white",
            "ticks": ""
           }
          },
          "title": {
           "x": 0.05
          },
          "xaxis": {
           "automargin": true,
           "gridcolor": "white",
           "linecolor": "white",
           "ticks": "",
           "title": {
            "standoff": 15
           },
           "zerolinecolor": "white",
           "zerolinewidth": 2
          },
          "yaxis": {
           "automargin": true,
           "gridcolor": "white",
           "linecolor": "white",
           "ticks": "",
           "title": {
            "standoff": 15
           },
           "zerolinecolor": "white",
           "zerolinewidth": 2
          }
         }
        }
       }
      },
      "text/html": [
       "<div>\n",
       "        \n",
       "        \n",
       "            <div id=\"3dca5357-6f3e-491d-8925-cb670ea73923\" class=\"plotly-graph-div\" style=\"height:525px; width:100%;\"></div>\n",
       "            <script type=\"text/javascript\">\n",
       "                require([\"plotly\"], function(Plotly) {\n",
       "                    window.PLOTLYENV=window.PLOTLYENV || {};\n",
       "                    \n",
       "                if (document.getElementById(\"3dca5357-6f3e-491d-8925-cb670ea73923\")) {\n",
       "                    Plotly.newPlot(\n",
       "                        '3dca5357-6f3e-491d-8925-cb670ea73923',\n",
       "                        [{\"type\": \"scatter\", \"x\": [0.0, 0.045632582157850266, 0.10000000149011612, 0.15939132869243622, 0.20000000298023224, 0.26021668314933777, 0.30000001192092896, 0.3553488850593567, 0.4000000059604645, 0.44841814041137695, 0.5, 0.540086567401886, 0.6000000238418579, 0.6024226546287537, 0.6266493797302246, 0.699999988079071, 0.7384830713272095, 0.800000011920929, 0.8436139822006226, 0.8999999761581421, 0.946575939655304, 1.0, 1.048398733139038, 1.100000023841858, 1.1499539613723755, 1.2000000476837158, 1.25234055519104, 1.2999999523162842, 1.3586386442184448, 1.399999976158142, 1.4512560367584229, 1.5, 1.5399932861328125, 1.600000023841858, 1.6458816528320312, 1.7000000476837158, 1.7480348348617554, 1.7999999523162842, 1.848391056060791, 1.899999976158142, 1.9381955862045288, 2.0, 2.051492214202881, 2.0999999046325684, 2.153639316558838, 2.200000047683716, 2.2558441162109375, 2.299999952316284, 2.3594367504119873, 2.4000000953674316, 2.4613423347473145, 2.5, 2.550382614135742, 2.5999999046325684, 2.654029369354248, 2.700000047683716, 2.754535436630249, 2.799999952316284, 2.854405164718628, 2.9000000953674316, 2.9542694091796875, 3.0, 3.054280996322632, 3.0999999046325684, 3.154195785522461, 3.200000047683716, 3.253401041030884, 3.299999952316284, 3.351336717605591, 3.4000000953674316, 3.4485979080200195, 3.5, 3.544570207595825, 3.5999999046325684, 3.6396689414978027, 3.700000047683716, 3.7177066802978516, 3.799999952316284, 3.819115161895752, 3.9000000953674316, 3.9347283840179443, 4.0, 4.0401129722595215, 4.099999904632568, 4.144669532775879, 4.199999809265137, 4.249248504638672, 4.300000190734863, 4.354272365570068, 4.400000095367432, 4.456656455993652, 4.5, 4.566714286804199, 4.599999904632568, 4.678290367126465, 4.699999809265137, 4.777884006500244, 4.800000190734863, 4.873629093170166, 4.900000095367432], \"y\": [3.34159255027771, 3.368901491165161, 3.412672996520996, 3.4737942218780518, 3.5229427814483643, 3.6071016788482666, 3.6698343753814697, 3.7672016620635986, 3.8541970252990723, 3.95756459236145, 4.078052997589111, 4.1792449951171875, 4.343120098114014, 4.350009441375732, 4.420619010925293, 4.649777889251709, 4.77835750579834, 4.995607852935791, 5.15701150894165, 5.373537540435791, 5.556994438171387, 5.770528316497803, 5.964083671569824, 6.168167591094971, 6.360490322113037, 6.545833110809326, 6.729130268096924, 6.885216236114502, 7.0610551834106445, 7.173739910125732, 7.299649238586426, 7.405292510986328, 7.481565475463867, 7.578770637512207, 7.639338493347168, 7.6959147453308105, 7.732974052429199, 7.7595696449279785, 7.772058010101318, 7.772681713104248, 7.764975070953369, 7.737870216369629, 7.701997756958008, 7.657341003417969, 7.596011638641357, 7.533092975616455, 7.44555139541626, 7.367527484893799, 7.251039505004883, 7.164453983306885, 7.023954391479492, 6.930178642272949, 6.803206920623779, 6.674057483673096, 6.530727386474609, 6.407871246337891, 6.262933254241943, 6.143862724304199, 6.004961013793945, 5.892288684844971, 5.763578414916992, 5.660066604614258, 5.543677806854248, 5.451328754425049, 5.349087715148926, 5.268998146057129, 5.183435916900635, 5.115865230560303, 5.049516201019287, 4.99468994140625, 4.948071002960205, 4.907858371734619, 4.880679130554199, 4.857156276702881, 4.847259998321533, 4.843753337860107, 4.845187664031982, 4.868252277374268, 4.8771281242370605, 4.9306640625, 4.961000442504883, 5.030237197875977, 5.080188274383545, 5.165147304534912, 5.235984802246094, 5.332111358642578, 5.42463493347168, 5.526086807250977, 5.640323162078857, 5.740261554718018, 5.867507457733154, 5.966442584991455, 6.119653224945068, 6.19572114944458, 6.371584892272949, 6.419095993041992, 6.583400249481201, 6.627880096435547, 6.767533779144287, 6.8140106201171875]}, {\"type\": \"scatter\", \"x\": [0.0, 0.045632582157850266, 0.10000000149011612, 0.15939132869243622, 0.20000000298023224, 0.26021668314933777, 0.30000001192092896, 0.3553488850593567, 0.4000000059604645, 0.44841814041137695, 0.5, 0.540086567401886, 0.6000000238418579, 0.6024226546287537, 0.6266493797302246, 0.699999988079071, 0.7384830713272095, 0.800000011920929, 0.8436139822006226, 0.8999999761581421, 0.946575939655304, 1.0, 1.048398733139038, 1.100000023841858, 1.1499539613723755, 1.2000000476837158, 1.25234055519104, 1.2999999523162842, 1.3586386442184448, 1.399999976158142, 1.4512560367584229, 1.5, 1.5399932861328125, 1.600000023841858, 1.6458816528320312, 1.7000000476837158, 1.7480348348617554, 1.7999999523162842, 1.848391056060791, 1.899999976158142, 1.9381955862045288, 2.0, 2.051492214202881, 2.0999999046325684, 2.153639316558838, 2.200000047683716, 2.2558441162109375, 2.299999952316284, 2.3594367504119873, 2.4000000953674316, 2.4613423347473145, 2.5, 2.550382614135742, 2.5999999046325684, 2.654029369354248, 2.700000047683716, 2.754535436630249, 2.799999952316284, 2.854405164718628, 2.9000000953674316, 2.9542694091796875, 3.0, 3.054280996322632, 3.0999999046325684, 3.154195785522461, 3.200000047683716, 3.253401041030884, 3.299999952316284, 3.351336717605591, 3.4000000953674316, 3.4485979080200195, 3.5, 3.544570207595825, 3.5999999046325684, 3.6396689414978027, 3.700000047683716, 3.7177066802978516, 3.799999952316284, 3.819115161895752, 3.9000000953674316, 3.9347283840179443, 4.0, 4.0401129722595215, 4.099999904632568, 4.144669532775879, 4.199999809265137, 4.249248504638672, 4.300000190734863, 4.354272365570068, 4.400000095367432, 4.456656455993652, 4.5, 4.566714286804199, 4.599999904632568, 4.678290367126465, 4.699999809265137, 4.777884006500244, 4.800000190734863, 4.873629093170166, 4.900000095367432], \"y\": [0.10000000149011612, 0.22656159102916718, 0.35180509090423584, 0.4616333842277527, 0.5235376954078674, 0.5979998111724854, 0.6376654505729675, 0.6811586618423462, 0.7079547047615051, 0.7290382385253906, 0.7438101768493652, 0.7501298785209656, 0.751729428768158, 0.7517022490501404, 0.7499899864196777, 0.7352747321128845, 0.7230249047279358, 0.6957739591598511, 0.6718342900276184, 0.6346759796142578, 0.6002526879310608, 0.5569747686386108, 0.5165809988975525, 0.4732941687107086, 0.43391111493110657, 0.3979461193084717, 0.3664360046386719, 0.3435237407684326, 0.324293315410614, 0.31632015109062195, 0.31308457255363464, 0.31583014130592346, 0.32214099168777466, 0.3373892605304718, 0.353052020072937, 0.37513911724090576, 0.3974038064479828, 0.4236699342727661, 0.4495930075645447, 0.47832387685775757, 0.49976110458374023, 0.5348579287528992, 0.5633040070533752, 0.5891069173812866, 0.6157485842704773, 0.6368313431739807, 0.6589245200157166, 0.6735129952430725, 0.6879081726074219, 0.6939707398414612, 0.6958109736442566, 0.6922380328178406, 0.6809524893760681, 0.6624405980110168, 0.6331219673156738, 0.6010018587112427, 0.5543384552001953, 0.5094395875930786, 0.449550062417984, 0.3959248960018158, 0.3297141194343567, 0.27383533120155334, 0.20909397304058075, 0.15746407210826874, 0.10072769969701767, 0.05745556578040123, 0.012625772505998611, -0.0212857648730278, -0.05334144085645676, -0.07881323993206024, -0.09990274906158447, -0.1180405542254448, -0.1305539757013321, -0.1428162157535553, -0.1492985635995865, -0.1566813737154007, -0.1579418033361435, -0.16221274435520172, -0.16219010949134827, -0.16073961555957794, -0.15844124555587769, -0.15229880809783936, -0.14660394191741943, -0.13577207922935486, -0.12520380318164825, -0.10922745615243912, -0.09177834540605545, -0.07056030631065369, -0.04398113861680031, -0.018483860418200493, 0.016828034073114395, 0.04637256637215614, 0.0952686294913292, 0.12089745700359344, 0.18275615572929382, 0.20009160041809082, 0.2616320550441742, 0.2787282466888428, 0.33408123254776, 0.35308316349983215]}, {\"type\": \"scatter\", \"x\": [0.0, 0.045632582157850266, 0.10000000149011612, 0.15939132869243622, 0.20000000298023224, 0.26021668314933777, 0.30000001192092896, 0.3553488850593567, 0.4000000059604645, 0.44841814041137695, 0.5, 0.540086567401886, 0.6000000238418579, 0.6024226546287537, 0.6266493797302246, 0.699999988079071, 0.7384830713272095, 0.800000011920929, 0.8436139822006226, 0.8999999761581421, 0.946575939655304, 1.0, 1.048398733139038, 1.100000023841858, 1.1499539613723755, 1.2000000476837158, 1.25234055519104, 1.2999999523162842, 1.3586386442184448, 1.399999976158142, 1.4512560367584229, 1.5, 1.5399932861328125, 1.600000023841858, 1.6458816528320312, 1.7000000476837158, 1.7480348348617554, 1.7999999523162842, 1.848391056060791, 1.899999976158142, 1.9381955862045288, 2.0, 2.051492214202881, 2.0999999046325684, 2.153639316558838, 2.200000047683716, 2.2558441162109375, 2.299999952316284, 2.3594367504119873, 2.4000000953674316, 2.4613423347473145, 2.5, 2.550382614135742, 2.5999999046325684, 2.654029369354248, 2.700000047683716, 2.754535436630249, 2.799999952316284, 2.854405164718628, 2.9000000953674316, 2.9542694091796875, 3.0, 3.054280996322632, 3.0999999046325684, 3.154195785522461, 3.200000047683716, 3.253401041030884, 3.299999952316284, 3.351336717605591, 3.4000000953674316, 3.4485979080200195, 3.5, 3.544570207595825, 3.5999999046325684, 3.6396689414978027, 3.700000047683716, 3.7177066802978516, 3.799999952316284, 3.819115161895752, 3.9000000953674316, 3.9347283840179443, 4.0, 4.0401129722595215, 4.099999904632568, 4.144669532775879, 4.199999809265137, 4.249248504638672, 4.300000190734863, 4.354272365570068, 4.400000095367432, 4.456656455993652, 4.5, 4.566714286804199, 4.599999904632568, 4.678290367126465, 4.699999809265137, 4.777884006500244, 4.800000190734863, 4.873629093170166, 4.900000095367432], \"y\": [0.5, 0.6951699256896973, 0.9119092226028442, 1.1405051946640015, 1.2776634693145752, 1.510124683380127, 1.6407592296600342, 1.8698081970214844, 2.0222573280334473, 2.2400264739990234, 2.42348313331604, 2.6186797618865967, 2.8368332386016846, 2.8503432273864746, 2.975801467895508, 3.243501663208008, 3.429831027984619, 3.607192039489746, 3.7805416584014893, 3.8734018802642822, 3.9870200157165527, 3.9815211296081543, 3.9982595443725586, 3.889573097229004, 3.793534278869629, 3.5969765186309814, 3.394186496734619, 3.1466360092163086, 2.8426971435546875, 2.6032423973083496, 2.3086371421813965, 2.026204824447632, 1.789610743522644, 1.454661250114441, 1.1893527507781982, 0.9072043299674988, 0.641045331954956, 0.38877415657043457, 0.13300107419490814, -0.10234614461660385, -0.2977828085422516, -0.5701605677604675, -0.8175035119056702, -1.0182981491088867, -1.2630411386489868, -1.4466276168823242, -1.6834713220596313, -1.8466066122055054, -2.0678234100341797, -2.1981654167175293, -2.377256155014038, -2.4717493057250977, -2.565218687057495, -2.637282133102417, -2.665469169616699, -2.678203821182251, -2.636387825012207, -2.602410078048706, -2.5058674812316895, -2.4393773078918457, -2.3085241317749023, -2.2226901054382324, -2.071523427963257, -1.9728578329086304, -1.8063923120498657, -1.6951746940612793, -1.515533208847046, -1.389304518699646, -1.2015727758407593, -1.0571945905685425, -0.8671253323554993, -0.7040629982948303, -0.5206995010375977, -0.3361347019672394, -0.16705305874347687, 0.04080410674214363, 0.12032554298639297, 0.42122021317481995, 0.5064579844474792, 0.7985773086547852, 0.9450934529304504, 1.1638389825820923, 1.321997880935669, 1.5042929649353027, 1.6612507104873657, 1.803486943244934, 1.9461723566055298, 2.0431389808654785, 2.1569483280181885, 2.2069406509399414, 2.2746498584747314, 2.2843377590179443, 2.295609474182129, 2.271677017211914, 2.2053654193878174, 2.1703944206237793, 2.036482095718384, 1.9849987030029297, 1.8006000518798828, 1.7233136892318726]}, {\"type\": \"scatter\", \"x\": [0.0, 0.045632582157850266, 0.10000000149011612, 0.15939132869243622, 0.20000000298023224, 0.26021668314933777, 0.30000001192092896, 0.3553488850593567, 0.4000000059604645, 0.44841814041137695, 0.5, 0.540086567401886, 0.6000000238418579, 0.6024226546287537, 0.6266493797302246, 0.699999988079071, 0.7384830713272095, 0.800000011920929, 0.8436139822006226, 0.8999999761581421, 0.946575939655304, 1.0, 1.048398733139038, 1.100000023841858, 1.1499539613723755, 1.2000000476837158, 1.25234055519104, 1.2999999523162842, 1.3586386442184448, 1.399999976158142, 1.4512560367584229, 1.5, 1.5399932861328125, 1.600000023841858, 1.6458816528320312, 1.7000000476837158, 1.7480348348617554, 1.7999999523162842, 1.848391056060791, 1.899999976158142, 1.9381955862045288, 2.0, 2.051492214202881, 2.0999999046325684, 2.153639316558838, 2.200000047683716, 2.2558441162109375, 2.299999952316284, 2.3594367504119873, 2.4000000953674316, 2.4613423347473145, 2.5, 2.550382614135742, 2.5999999046325684, 2.654029369354248, 2.700000047683716, 2.754535436630249, 2.799999952316284, 2.854405164718628, 2.9000000953674316, 2.9542694091796875, 3.0, 3.054280996322632, 3.0999999046325684, 3.154195785522461, 3.200000047683716, 3.253401041030884, 3.299999952316284, 3.351336717605591, 3.4000000953674316, 3.4485979080200195, 3.5, 3.544570207595825, 3.5999999046325684, 3.6396689414978027, 3.700000047683716, 3.7177066802978516, 3.799999952316284, 3.819115161895752, 3.9000000953674316, 3.9347283840179443, 4.0, 4.0401129722595215, 4.099999904632568, 4.144669532775879, 4.199999809265137, 4.249248504638672, 4.300000190734863, 4.354272365570068, 4.400000095367432, 4.456656455993652, 4.5, 4.566714286804199, 4.599999904632568, 4.678290367126465, 4.699999809265137, 4.777884006500244, 4.800000190734863, 4.873629093170166, 4.900000095367432], \"y\": [3.0, 2.5525259971618652, 2.062260866165161, 1.6486598253250122, 1.4048198461532593, 1.0833274126052856, 0.916166365146637, 0.6711493730545044, 0.538123607635498, 0.3477826416492462, 0.24108323454856873, 0.08661330491304398, -0.00525451498106122, -0.017136408016085625, -0.11907864362001419, -0.23119047284126282, -0.39109963178634644, -0.4520110487937927, -0.6257781386375427, -0.6510959267616272, -0.8030182123184204, -0.778340756893158, -0.8657646775245667, -0.7790589928627014, -0.7759702801704407, -0.6387057900428772, -0.550966203212738, -0.40005233883857727, -0.2510489523410797, -0.13353975117206573, 0.0030060962308198214, 0.10426554083824158, 0.20552639663219452, 0.2882368266582489, 0.3843100666999817, 0.41714853048324585, 0.49737000465393066, 0.4985290467739105, 0.5598960518836975, 0.5383297801017761, 0.5764835476875305, 0.5382383465766907, 0.554104745388031, 0.49782854318618774, 0.4843900799751282, 0.4158184230327606, 0.36670953035354614, 0.28764864802360535, 0.19128553569316864, 0.10447770357131958, -0.04480824992060661, -0.14020749926567078, -0.30370548367500305, -0.437267929315567, -0.6373557448387146, -0.7500511407852173, -0.9438223838806152, -1.016419529914856, -1.1623512506484985, -1.171679139137268, -1.243043303489685, -1.1819993257522583, -1.1788296699523926, -1.0627785921096802, -1.0093181133270264, -0.8655900955200195, -0.7952280640602112, -0.6471888422966003, -0.5866073369979858, -0.44716519117355347, -0.407993346452713, -0.2835550606250763, -0.2674054205417633, -0.1585707664489746, -0.1599140167236328, -0.06523675471544266, -0.0754878968000412, 0.007908008061349392, -0.003660352900624275, 0.07394176721572876, 0.06443435698747635, 0.14551737904548645, 0.14605334401130676, 0.2330283224582672, 0.24893717467784882, 0.3421129882335663, 0.37599149346351624, 0.4700440466403961, 0.5188222527503967, 0.6026735901832581, 0.6510234475135803, 0.7161497473716736, 0.7549942135810852, 0.7862476110458374, 0.7959808707237244, 0.8013001084327698, 0.7770938873291016, 0.7689571380615234, 0.7301279306411743, 0.7106230854988098]}],\n",
       "                        {\"template\": {\"data\": {\"bar\": [{\"error_x\": {\"color\": \"#2a3f5f\"}, \"error_y\": {\"color\": \"#2a3f5f\"}, \"marker\": {\"line\": {\"color\": \"#E5ECF6\", \"width\": 0.5}}, \"type\": \"bar\"}], \"barpolar\": [{\"marker\": {\"line\": {\"color\": \"#E5ECF6\", \"width\": 0.5}}, \"type\": \"barpolar\"}], \"carpet\": [{\"aaxis\": {\"endlinecolor\": \"#2a3f5f\", \"gridcolor\": \"white\", \"linecolor\": \"white\", \"minorgridcolor\": \"white\", \"startlinecolor\": \"#2a3f5f\"}, \"baxis\": {\"endlinecolor\": \"#2a3f5f\", \"gridcolor\": \"white\", \"linecolor\": \"white\", \"minorgridcolor\": \"white\", \"startlinecolor\": \"#2a3f5f\"}, \"type\": \"carpet\"}], \"choropleth\": [{\"colorbar\": {\"outlinewidth\": 0, \"ticks\": \"\"}, \"type\": \"choropleth\"}], \"contour\": [{\"colorbar\": {\"outlinewidth\": 0, \"ticks\": \"\"}, \"colorscale\": [[0.0, \"#0d0887\"], [0.1111111111111111, \"#46039f\"], [0.2222222222222222, \"#7201a8\"], [0.3333333333333333, \"#9c179e\"], [0.4444444444444444, \"#bd3786\"], [0.5555555555555556, \"#d8576b\"], [0.6666666666666666, \"#ed7953\"], [0.7777777777777778, \"#fb9f3a\"], [0.8888888888888888, \"#fdca26\"], [1.0, \"#f0f921\"]], \"type\": \"contour\"}], \"contourcarpet\": [{\"colorbar\": {\"outlinewidth\": 0, \"ticks\": \"\"}, \"type\": \"contourcarpet\"}], \"heatmap\": [{\"colorbar\": {\"outlinewidth\": 0, \"ticks\": \"\"}, \"colorscale\": [[0.0, \"#0d0887\"], [0.1111111111111111, \"#46039f\"], [0.2222222222222222, \"#7201a8\"], [0.3333333333333333, \"#9c179e\"], [0.4444444444444444, \"#bd3786\"], [0.5555555555555556, \"#d8576b\"], [0.6666666666666666, \"#ed7953\"], [0.7777777777777778, \"#fb9f3a\"], [0.8888888888888888, \"#fdca26\"], [1.0, \"#f0f921\"]], \"type\": \"heatmap\"}], \"heatmapgl\": [{\"colorbar\": {\"outlinewidth\": 0, \"ticks\": \"\"}, \"colorscale\": [[0.0, \"#0d0887\"], [0.1111111111111111, \"#46039f\"], [0.2222222222222222, \"#7201a8\"], [0.3333333333333333, \"#9c179e\"], [0.4444444444444444, \"#bd3786\"], [0.5555555555555556, \"#d8576b\"], [0.6666666666666666, \"#ed7953\"], [0.7777777777777778, \"#fb9f3a\"], [0.8888888888888888, \"#fdca26\"], [1.0, \"#f0f921\"]], \"type\": \"heatmapgl\"}], \"histogram\": [{\"marker\": {\"colorbar\": {\"outlinewidth\": 0, \"ticks\": \"\"}}, \"type\": \"histogram\"}], \"histogram2d\": [{\"colorbar\": {\"outlinewidth\": 0, \"ticks\": \"\"}, \"colorscale\": [[0.0, \"#0d0887\"], [0.1111111111111111, \"#46039f\"], [0.2222222222222222, \"#7201a8\"], [0.3333333333333333, \"#9c179e\"], [0.4444444444444444, \"#bd3786\"], [0.5555555555555556, \"#d8576b\"], [0.6666666666666666, \"#ed7953\"], [0.7777777777777778, \"#fb9f3a\"], [0.8888888888888888, \"#fdca26\"], [1.0, \"#f0f921\"]], \"type\": \"histogram2d\"}], \"histogram2dcontour\": [{\"colorbar\": {\"outlinewidth\": 0, \"ticks\": \"\"}, \"colorscale\": [[0.0, \"#0d0887\"], [0.1111111111111111, \"#46039f\"], [0.2222222222222222, \"#7201a8\"], [0.3333333333333333, \"#9c179e\"], [0.4444444444444444, \"#bd3786\"], [0.5555555555555556, \"#d8576b\"], [0.6666666666666666, \"#ed7953\"], [0.7777777777777778, \"#fb9f3a\"], [0.8888888888888888, \"#fdca26\"], [1.0, \"#f0f921\"]], \"type\": \"histogram2dcontour\"}], \"mesh3d\": [{\"colorbar\": {\"outlinewidth\": 0, \"ticks\": \"\"}, \"type\": \"mesh3d\"}], \"parcoords\": [{\"line\": {\"colorbar\": {\"outlinewidth\": 0, \"ticks\": \"\"}}, \"type\": \"parcoords\"}], \"pie\": [{\"automargin\": true, \"type\": \"pie\"}], \"scatter\": [{\"marker\": {\"colorbar\": {\"outlinewidth\": 0, \"ticks\": \"\"}}, \"type\": \"scatter\"}], \"scatter3d\": [{\"line\": {\"colorbar\": {\"outlinewidth\": 0, \"ticks\": \"\"}}, \"marker\": {\"colorbar\": {\"outlinewidth\": 0, \"ticks\": \"\"}}, \"type\": \"scatter3d\"}], \"scattercarpet\": [{\"marker\": {\"colorbar\": {\"outlinewidth\": 0, \"ticks\": \"\"}}, \"type\": \"scattercarpet\"}], \"scattergeo\": [{\"marker\": {\"colorbar\": {\"outlinewidth\": 0, \"ticks\": \"\"}}, \"type\": \"scattergeo\"}], \"scattergl\": [{\"marker\": {\"colorbar\": {\"outlinewidth\": 0, \"ticks\": \"\"}}, \"type\": \"scattergl\"}], \"scattermapbox\": [{\"marker\": {\"colorbar\": {\"outlinewidth\": 0, \"ticks\": \"\"}}, \"type\": \"scattermapbox\"}], \"scatterpolar\": [{\"marker\": {\"colorbar\": {\"outlinewidth\": 0, \"ticks\": \"\"}}, \"type\": \"scatterpolar\"}], \"scatterpolargl\": [{\"marker\": {\"colorbar\": {\"outlinewidth\": 0, \"ticks\": \"\"}}, \"type\": \"scatterpolargl\"}], \"scatterternary\": [{\"marker\": {\"colorbar\": {\"outlinewidth\": 0, \"ticks\": \"\"}}, \"type\": \"scatterternary\"}], \"surface\": [{\"colorbar\": {\"outlinewidth\": 0, \"ticks\": \"\"}, \"colorscale\": [[0.0, \"#0d0887\"], [0.1111111111111111, \"#46039f\"], [0.2222222222222222, \"#7201a8\"], [0.3333333333333333, \"#9c179e\"], [0.4444444444444444, \"#bd3786\"], [0.5555555555555556, \"#d8576b\"], [0.6666666666666666, \"#ed7953\"], [0.7777777777777778, \"#fb9f3a\"], [0.8888888888888888, \"#fdca26\"], [1.0, \"#f0f921\"]], \"type\": \"surface\"}], \"table\": [{\"cells\": {\"fill\": {\"color\": \"#EBF0F8\"}, \"line\": {\"color\": \"white\"}}, \"header\": {\"fill\": {\"color\": \"#C8D4E3\"}, \"line\": {\"color\": \"white\"}}, \"type\": \"table\"}]}, \"layout\": {\"annotationdefaults\": {\"arrowcolor\": \"#2a3f5f\", \"arrowhead\": 0, \"arrowwidth\": 1}, \"coloraxis\": {\"colorbar\": {\"outlinewidth\": 0, \"ticks\": \"\"}}, \"colorscale\": {\"diverging\": [[0, \"#8e0152\"], [0.1, \"#c51b7d\"], [0.2, \"#de77ae\"], [0.3, \"#f1b6da\"], [0.4, \"#fde0ef\"], [0.5, \"#f7f7f7\"], [0.6, \"#e6f5d0\"], [0.7, \"#b8e186\"], [0.8, \"#7fbc41\"], [0.9, \"#4d9221\"], [1, \"#276419\"]], \"sequential\": [[0.0, \"#0d0887\"], [0.1111111111111111, \"#46039f\"], [0.2222222222222222, \"#7201a8\"], [0.3333333333333333, \"#9c179e\"], [0.4444444444444444, \"#bd3786\"], [0.5555555555555556, \"#d8576b\"], [0.6666666666666666, \"#ed7953\"], [0.7777777777777778, \"#fb9f3a\"], [0.8888888888888888, \"#fdca26\"], [1.0, \"#f0f921\"]], \"sequentialminus\": [[0.0, \"#0d0887\"], [0.1111111111111111, \"#46039f\"], [0.2222222222222222, \"#7201a8\"], [0.3333333333333333, \"#9c179e\"], [0.4444444444444444, \"#bd3786\"], [0.5555555555555556, \"#d8576b\"], [0.6666666666666666, \"#ed7953\"], [0.7777777777777778, \"#fb9f3a\"], [0.8888888888888888, \"#fdca26\"], [1.0, \"#f0f921\"]]}, \"colorway\": [\"#636efa\", \"#EF553B\", \"#00cc96\", \"#ab63fa\", \"#FFA15A\", \"#19d3f3\", \"#FF6692\", \"#B6E880\", \"#FF97FF\", \"#FECB52\"], \"font\": {\"color\": \"#2a3f5f\"}, \"geo\": {\"bgcolor\": \"white\", \"lakecolor\": \"white\", \"landcolor\": \"#E5ECF6\", \"showlakes\": true, \"showland\": true, \"subunitcolor\": \"white\"}, \"hoverlabel\": {\"align\": \"left\"}, \"hovermode\": \"closest\", \"mapbox\": {\"style\": \"light\"}, \"paper_bgcolor\": \"white\", \"plot_bgcolor\": \"#E5ECF6\", \"polar\": {\"angularaxis\": {\"gridcolor\": \"white\", \"linecolor\": \"white\", \"ticks\": \"\"}, \"bgcolor\": \"#E5ECF6\", \"radialaxis\": {\"gridcolor\": \"white\", \"linecolor\": \"white\", \"ticks\": \"\"}}, \"scene\": {\"xaxis\": {\"backgroundcolor\": \"#E5ECF6\", \"gridcolor\": \"white\", \"gridwidth\": 2, \"linecolor\": \"white\", \"showbackground\": true, \"ticks\": \"\", \"zerolinecolor\": \"white\"}, \"yaxis\": {\"backgroundcolor\": \"#E5ECF6\", \"gridcolor\": \"white\", \"gridwidth\": 2, \"linecolor\": \"white\", \"showbackground\": true, \"ticks\": \"\", \"zerolinecolor\": \"white\"}, \"zaxis\": {\"backgroundcolor\": \"#E5ECF6\", \"gridcolor\": \"white\", \"gridwidth\": 2, \"linecolor\": \"white\", \"showbackground\": true, \"ticks\": \"\", \"zerolinecolor\": \"white\"}}, \"shapedefaults\": {\"line\": {\"color\": \"#2a3f5f\"}}, \"ternary\": {\"aaxis\": {\"gridcolor\": \"white\", \"linecolor\": \"white\", \"ticks\": \"\"}, \"baxis\": {\"gridcolor\": \"white\", \"linecolor\": \"white\", \"ticks\": \"\"}, \"bgcolor\": \"#E5ECF6\", \"caxis\": {\"gridcolor\": \"white\", \"linecolor\": \"white\", \"ticks\": \"\"}}, \"title\": {\"x\": 0.05}, \"xaxis\": {\"automargin\": true, \"gridcolor\": \"white\", \"linecolor\": \"white\", \"ticks\": \"\", \"title\": {\"standoff\": 15}, \"zerolinecolor\": \"white\", \"zerolinewidth\": 2}, \"yaxis\": {\"automargin\": true, \"gridcolor\": \"white\", \"linecolor\": \"white\", \"ticks\": \"\", \"title\": {\"standoff\": 15}, \"zerolinecolor\": \"white\", \"zerolinewidth\": 2}}}},\n",
       "                        {\"responsive\": true}\n",
       "                    ).then(function(){\n",
       "                            \n",
       "var gd = document.getElementById('3dca5357-6f3e-491d-8925-cb670ea73923');\n",
       "var x = new MutationObserver(function (mutations, observer) {{\n",
       "        var display = window.getComputedStyle(gd).display;\n",
       "        if (!display || display === 'none') {{\n",
       "            console.log([gd, 'removed!']);\n",
       "            Plotly.purge(gd);\n",
       "            observer.disconnect();\n",
       "        }}\n",
       "}});\n",
       "\n",
       "// Listen for the removal of the full notebook cells\n",
       "var notebookContainer = gd.closest('#notebook-container');\n",
       "if (notebookContainer) {{\n",
       "    x.observe(notebookContainer, {childList: true});\n",
       "}}\n",
       "\n",
       "// Listen for the clearing of the current output cell\n",
       "var outputEl = gd.closest('.output');\n",
       "if (outputEl) {{\n",
       "    x.observe(outputEl, {childList: true});\n",
       "}}\n",
       "\n",
       "                        })\n",
       "                };\n",
       "                });\n",
       "            </script>\n",
       "        </div>"
      ]
     },
     "metadata": {},
     "output_type": "display_data"
    }
   ],
   "source": [
    "vf_ctrl, sys_ctrl = double_pendulum_utils.get_value_function(vf_ctrl_N)\n",
    "ctrl = controllers.get_limited_lookahead_controller(vf_ctrl)\n",
    "x_traj_sim, t_traj_sim = controllers.sim_ctrl(x0, vf.u_dim[0], sys.dx, ctrl, .1, 50)\n",
    "\n",
    "fig = go.Figure()\n",
    "for i in range(4):\n",
    "    fig.add_trace(go.Scatter(\n",
    "        x=t_traj_sim,\n",
    "        y=x_traj_sim[i,:]\n",
    "    ))\n",
    "print(\"No cost-to-go\")\n",
    "fig.show()"
   ]
  },
  {
   "cell_type": "code",
   "execution_count": 98,
   "metadata": {},
   "outputs": [],
   "source": [
    "# benchmark params\n",
    "x0 = torch.tensor([np.pi, 0., 0., 0.], dtype=vf.dtype)\n",
    "x0_eps = torch.tensor([1., 1., 1., 1.], dtype=vf.dtype)\n",
    "x_goal = torch.tensor([np.pi, 0., 0., 0.], dtype=vf.dtype)\n",
    "num_breaks = [10, 10]\n",
    "dt_sim = .1\n",
    "N = 50\n",
    "\n",
    "vf_ctrl_N = 5"
   ]
  },
  {
   "cell_type": "code",
   "execution_count": 99,
   "metadata": {},
   "outputs": [],
   "source": [
    "vf_ctrl, sys_ctrl = double_pendulum_utils.get_value_function(vf_ctrl_N)\n",
    "ctrl_baseline = controllers.get_limited_lookahead_controller(vf_ctrl, vf_approx)\n",
    "bench_baseline = controllers.benchmark_controller(vf.u_dim[0], sys.dx, ctrl_baseline, x0, x0_eps, num_breaks, x_goal, dt_sim, N)"
   ]
  },
  {
   "cell_type": "code",
   "execution_count": 100,
   "metadata": {},
   "outputs": [],
   "source": [
    "vf_ctrl, sys_ctrl = double_pendulum_utils.get_value_function(vf_ctrl_N)\n",
    "ctrl_adv = controllers.get_limited_lookahead_controller(vf_ctrl, vf_approx_adv)\n",
    "bench_adv = controllers.benchmark_controller(vf.u_dim[0], sys.dx, ctrl_adv, x0, x0_eps, num_breaks, x_goal, dt_sim, N)"
   ]
  },
  {
   "cell_type": "code",
   "execution_count": 101,
   "metadata": {},
   "outputs": [],
   "source": [
    "Q = torch.diag(torch.Tensor([.1, .1, .1, .1]))\n",
    "R = torch.diag(torch.Tensor([.01, .01]))\n",
    "x_nom = torch.Tensor([np.pi, 0., 0., 0.]).type(vf.dtype)\n",
    "u_nom = torch.zeros(vf.u_lo[0].shape[0]).type(vf.dtype)\n",
    "ctrl_lqr, S = controllers.get_lqr_controller(sys.dx, x_nom, u_nom, Q, R, vf.u_lo[0], vf.u_up[0])\n",
    "bench_lqr = controllers.benchmark_controller(vf.u_dim[0], sys.dx, ctrl_lqr, x0, x0_eps, num_breaks, x_goal, dt_sim, N)"
   ]
  },
  {
   "cell_type": "code",
   "execution_count": 102,
   "metadata": {
    "scrolled": false
   },
   "outputs": [
    {
     "name": "stdout",
     "output_type": "stream",
     "text": [
      "Baseline\n"
     ]
    },
    {
     "data": {
      "application/vnd.plotly.v1+json": {
       "config": {
        "plotlyServerURL": "https://plot.ly"
       },
       "data": [
        {
         "type": "heatmap",
         "z": [
          [
           3.877573535337067,
           3.9331030234944953,
           4.006949469853692,
           4.046368548116236,
           4.068253669487931,
           4.075790929163737,
           4.071505997764251,
           4.038338394213137,
           3.988232350647325,
           3.9146121728148153
          ],
          [
           3.942916471467689,
           3.9992563119939506,
           4.050547546615151,
           4.083012068020641,
           4.090795819329348,
           4.0791711870475025,
           4.011011334723124,
           3.9385115372401023,
           3.8435446786235334,
           3.7198101084774104
          ],
          [
           3.952891244504152,
           4.0387566858824835,
           4.065626755742827,
           4.045703637497246,
           3.9703197155296555,
           3.9213967875263362,
           3.83955062905742,
           3.671144823768607,
           3.514835671670891,
           3.285262016040554
          ],
          [
           3.9093642788134653,
           3.952719619168183,
           3.9385071245087335,
           3.666654927633821,
           3.3269186267026916,
           3.580994517528575,
           3.358530552746467,
           3.147955708123011,
           3.1842664615093246,
           4.572497113367523
          ],
          [
           3.8333429613667156,
           3.7712999291636535,
           3.6453337622374544,
           0.5140730677975557,
           2.376093651993678,
           0.12912587075211013,
           3.1566778055270945,
           0.5386760633145223,
           1.0011788568030369,
           1.0051576366787547
          ],
          [
           0.5498346289214906,
           0.5651623755415393,
           0.5322827037754346,
           0.3685972407900574,
           0.1972587486753764,
           0.20777647368875923,
           0.5200798629043646,
           2.541671563793618,
           2.3980332911957416,
           4.853474655363584
          ],
          [
           0.6147518317355823,
           0.2888326383941992,
           0.539745859617338,
           0.1997584359975007,
           0.2034228740765335,
           0.20551347268818465,
           1.0379944724270644,
           1.0321420255448504,
           1.1760973353611872,
           1.0264308535612845
          ],
          [
           0.19393007218702007,
           0.19771134930886633,
           0.20265522153265372,
           0.2059507949948163,
           2.660725814408193,
           2.996321393864414,
           2.945003980142401,
           1.2427164678552225,
           2.3278212141668657,
           2.488806664238921
          ],
          [
           0.19645265967931932,
           0.1959055227570494,
           0.20493251248038283,
           1.0422641810500466,
           0.22389980387040292,
           2.1306872532194014,
           0.4318502978757085,
           0.4258456665476985,
           1.0239919631128507,
           2.354736149264833
          ],
          [
           0.20138793639906957,
           0.19776911991579152,
           0.2976485786717145,
           1.3818798400131251,
           1.0073855856965412,
           0.4224234107330843,
           0.22038632940778397,
           0.43620725516737496,
           1.038820884518383,
           7.883022925552347
          ]
         ],
         "zmax": 10,
         "zmin": 0
        }
       ],
       "layout": {
        "template": {
         "data": {
          "bar": [
           {
            "error_x": {
             "color": "#2a3f5f"
            },
            "error_y": {
             "color": "#2a3f5f"
            },
            "marker": {
             "line": {
              "color": "#E5ECF6",
              "width": 0.5
             }
            },
            "type": "bar"
           }
          ],
          "barpolar": [
           {
            "marker": {
             "line": {
              "color": "#E5ECF6",
              "width": 0.5
             }
            },
            "type": "barpolar"
           }
          ],
          "carpet": [
           {
            "aaxis": {
             "endlinecolor": "#2a3f5f",
             "gridcolor": "white",
             "linecolor": "white",
             "minorgridcolor": "white",
             "startlinecolor": "#2a3f5f"
            },
            "baxis": {
             "endlinecolor": "#2a3f5f",
             "gridcolor": "white",
             "linecolor": "white",
             "minorgridcolor": "white",
             "startlinecolor": "#2a3f5f"
            },
            "type": "carpet"
           }
          ],
          "choropleth": [
           {
            "colorbar": {
             "outlinewidth": 0,
             "ticks": ""
            },
            "type": "choropleth"
           }
          ],
          "contour": [
           {
            "colorbar": {
             "outlinewidth": 0,
             "ticks": ""
            },
            "colorscale": [
             [
              0,
              "#0d0887"
             ],
             [
              0.1111111111111111,
              "#46039f"
             ],
             [
              0.2222222222222222,
              "#7201a8"
             ],
             [
              0.3333333333333333,
              "#9c179e"
             ],
             [
              0.4444444444444444,
              "#bd3786"
             ],
             [
              0.5555555555555556,
              "#d8576b"
             ],
             [
              0.6666666666666666,
              "#ed7953"
             ],
             [
              0.7777777777777778,
              "#fb9f3a"
             ],
             [
              0.8888888888888888,
              "#fdca26"
             ],
             [
              1,
              "#f0f921"
             ]
            ],
            "type": "contour"
           }
          ],
          "contourcarpet": [
           {
            "colorbar": {
             "outlinewidth": 0,
             "ticks": ""
            },
            "type": "contourcarpet"
           }
          ],
          "heatmap": [
           {
            "colorbar": {
             "outlinewidth": 0,
             "ticks": ""
            },
            "colorscale": [
             [
              0,
              "#0d0887"
             ],
             [
              0.1111111111111111,
              "#46039f"
             ],
             [
              0.2222222222222222,
              "#7201a8"
             ],
             [
              0.3333333333333333,
              "#9c179e"
             ],
             [
              0.4444444444444444,
              "#bd3786"
             ],
             [
              0.5555555555555556,
              "#d8576b"
             ],
             [
              0.6666666666666666,
              "#ed7953"
             ],
             [
              0.7777777777777778,
              "#fb9f3a"
             ],
             [
              0.8888888888888888,
              "#fdca26"
             ],
             [
              1,
              "#f0f921"
             ]
            ],
            "type": "heatmap"
           }
          ],
          "heatmapgl": [
           {
            "colorbar": {
             "outlinewidth": 0,
             "ticks": ""
            },
            "colorscale": [
             [
              0,
              "#0d0887"
             ],
             [
              0.1111111111111111,
              "#46039f"
             ],
             [
              0.2222222222222222,
              "#7201a8"
             ],
             [
              0.3333333333333333,
              "#9c179e"
             ],
             [
              0.4444444444444444,
              "#bd3786"
             ],
             [
              0.5555555555555556,
              "#d8576b"
             ],
             [
              0.6666666666666666,
              "#ed7953"
             ],
             [
              0.7777777777777778,
              "#fb9f3a"
             ],
             [
              0.8888888888888888,
              "#fdca26"
             ],
             [
              1,
              "#f0f921"
             ]
            ],
            "type": "heatmapgl"
           }
          ],
          "histogram": [
           {
            "marker": {
             "colorbar": {
              "outlinewidth": 0,
              "ticks": ""
             }
            },
            "type": "histogram"
           }
          ],
          "histogram2d": [
           {
            "colorbar": {
             "outlinewidth": 0,
             "ticks": ""
            },
            "colorscale": [
             [
              0,
              "#0d0887"
             ],
             [
              0.1111111111111111,
              "#46039f"
             ],
             [
              0.2222222222222222,
              "#7201a8"
             ],
             [
              0.3333333333333333,
              "#9c179e"
             ],
             [
              0.4444444444444444,
              "#bd3786"
             ],
             [
              0.5555555555555556,
              "#d8576b"
             ],
             [
              0.6666666666666666,
              "#ed7953"
             ],
             [
              0.7777777777777778,
              "#fb9f3a"
             ],
             [
              0.8888888888888888,
              "#fdca26"
             ],
             [
              1,
              "#f0f921"
             ]
            ],
            "type": "histogram2d"
           }
          ],
          "histogram2dcontour": [
           {
            "colorbar": {
             "outlinewidth": 0,
             "ticks": ""
            },
            "colorscale": [
             [
              0,
              "#0d0887"
             ],
             [
              0.1111111111111111,
              "#46039f"
             ],
             [
              0.2222222222222222,
              "#7201a8"
             ],
             [
              0.3333333333333333,
              "#9c179e"
             ],
             [
              0.4444444444444444,
              "#bd3786"
             ],
             [
              0.5555555555555556,
              "#d8576b"
             ],
             [
              0.6666666666666666,
              "#ed7953"
             ],
             [
              0.7777777777777778,
              "#fb9f3a"
             ],
             [
              0.8888888888888888,
              "#fdca26"
             ],
             [
              1,
              "#f0f921"
             ]
            ],
            "type": "histogram2dcontour"
           }
          ],
          "mesh3d": [
           {
            "colorbar": {
             "outlinewidth": 0,
             "ticks": ""
            },
            "type": "mesh3d"
           }
          ],
          "parcoords": [
           {
            "line": {
             "colorbar": {
              "outlinewidth": 0,
              "ticks": ""
             }
            },
            "type": "parcoords"
           }
          ],
          "pie": [
           {
            "automargin": true,
            "type": "pie"
           }
          ],
          "scatter": [
           {
            "marker": {
             "colorbar": {
              "outlinewidth": 0,
              "ticks": ""
             }
            },
            "type": "scatter"
           }
          ],
          "scatter3d": [
           {
            "line": {
             "colorbar": {
              "outlinewidth": 0,
              "ticks": ""
             }
            },
            "marker": {
             "colorbar": {
              "outlinewidth": 0,
              "ticks": ""
             }
            },
            "type": "scatter3d"
           }
          ],
          "scattercarpet": [
           {
            "marker": {
             "colorbar": {
              "outlinewidth": 0,
              "ticks": ""
             }
            },
            "type": "scattercarpet"
           }
          ],
          "scattergeo": [
           {
            "marker": {
             "colorbar": {
              "outlinewidth": 0,
              "ticks": ""
             }
            },
            "type": "scattergeo"
           }
          ],
          "scattergl": [
           {
            "marker": {
             "colorbar": {
              "outlinewidth": 0,
              "ticks": ""
             }
            },
            "type": "scattergl"
           }
          ],
          "scattermapbox": [
           {
            "marker": {
             "colorbar": {
              "outlinewidth": 0,
              "ticks": ""
             }
            },
            "type": "scattermapbox"
           }
          ],
          "scatterpolar": [
           {
            "marker": {
             "colorbar": {
              "outlinewidth": 0,
              "ticks": ""
             }
            },
            "type": "scatterpolar"
           }
          ],
          "scatterpolargl": [
           {
            "marker": {
             "colorbar": {
              "outlinewidth": 0,
              "ticks": ""
             }
            },
            "type": "scatterpolargl"
           }
          ],
          "scatterternary": [
           {
            "marker": {
             "colorbar": {
              "outlinewidth": 0,
              "ticks": ""
             }
            },
            "type": "scatterternary"
           }
          ],
          "surface": [
           {
            "colorbar": {
             "outlinewidth": 0,
             "ticks": ""
            },
            "colorscale": [
             [
              0,
              "#0d0887"
             ],
             [
              0.1111111111111111,
              "#46039f"
             ],
             [
              0.2222222222222222,
              "#7201a8"
             ],
             [
              0.3333333333333333,
              "#9c179e"
             ],
             [
              0.4444444444444444,
              "#bd3786"
             ],
             [
              0.5555555555555556,
              "#d8576b"
             ],
             [
              0.6666666666666666,
              "#ed7953"
             ],
             [
              0.7777777777777778,
              "#fb9f3a"
             ],
             [
              0.8888888888888888,
              "#fdca26"
             ],
             [
              1,
              "#f0f921"
             ]
            ],
            "type": "surface"
           }
          ],
          "table": [
           {
            "cells": {
             "fill": {
              "color": "#EBF0F8"
             },
             "line": {
              "color": "white"
             }
            },
            "header": {
             "fill": {
              "color": "#C8D4E3"
             },
             "line": {
              "color": "white"
             }
            },
            "type": "table"
           }
          ]
         },
         "layout": {
          "annotationdefaults": {
           "arrowcolor": "#2a3f5f",
           "arrowhead": 0,
           "arrowwidth": 1
          },
          "coloraxis": {
           "colorbar": {
            "outlinewidth": 0,
            "ticks": ""
           }
          },
          "colorscale": {
           "diverging": [
            [
             0,
             "#8e0152"
            ],
            [
             0.1,
             "#c51b7d"
            ],
            [
             0.2,
             "#de77ae"
            ],
            [
             0.3,
             "#f1b6da"
            ],
            [
             0.4,
             "#fde0ef"
            ],
            [
             0.5,
             "#f7f7f7"
            ],
            [
             0.6,
             "#e6f5d0"
            ],
            [
             0.7,
             "#b8e186"
            ],
            [
             0.8,
             "#7fbc41"
            ],
            [
             0.9,
             "#4d9221"
            ],
            [
             1,
             "#276419"
            ]
           ],
           "sequential": [
            [
             0,
             "#0d0887"
            ],
            [
             0.1111111111111111,
             "#46039f"
            ],
            [
             0.2222222222222222,
             "#7201a8"
            ],
            [
             0.3333333333333333,
             "#9c179e"
            ],
            [
             0.4444444444444444,
             "#bd3786"
            ],
            [
             0.5555555555555556,
             "#d8576b"
            ],
            [
             0.6666666666666666,
             "#ed7953"
            ],
            [
             0.7777777777777778,
             "#fb9f3a"
            ],
            [
             0.8888888888888888,
             "#fdca26"
            ],
            [
             1,
             "#f0f921"
            ]
           ],
           "sequentialminus": [
            [
             0,
             "#0d0887"
            ],
            [
             0.1111111111111111,
             "#46039f"
            ],
            [
             0.2222222222222222,
             "#7201a8"
            ],
            [
             0.3333333333333333,
             "#9c179e"
            ],
            [
             0.4444444444444444,
             "#bd3786"
            ],
            [
             0.5555555555555556,
             "#d8576b"
            ],
            [
             0.6666666666666666,
             "#ed7953"
            ],
            [
             0.7777777777777778,
             "#fb9f3a"
            ],
            [
             0.8888888888888888,
             "#fdca26"
            ],
            [
             1,
             "#f0f921"
            ]
           ]
          },
          "colorway": [
           "#636efa",
           "#EF553B",
           "#00cc96",
           "#ab63fa",
           "#FFA15A",
           "#19d3f3",
           "#FF6692",
           "#B6E880",
           "#FF97FF",
           "#FECB52"
          ],
          "font": {
           "color": "#2a3f5f"
          },
          "geo": {
           "bgcolor": "white",
           "lakecolor": "white",
           "landcolor": "#E5ECF6",
           "showlakes": true,
           "showland": true,
           "subunitcolor": "white"
          },
          "hoverlabel": {
           "align": "left"
          },
          "hovermode": "closest",
          "mapbox": {
           "style": "light"
          },
          "paper_bgcolor": "white",
          "plot_bgcolor": "#E5ECF6",
          "polar": {
           "angularaxis": {
            "gridcolor": "white",
            "linecolor": "white",
            "ticks": ""
           },
           "bgcolor": "#E5ECF6",
           "radialaxis": {
            "gridcolor": "white",
            "linecolor": "white",
            "ticks": ""
           }
          },
          "scene": {
           "xaxis": {
            "backgroundcolor": "#E5ECF6",
            "gridcolor": "white",
            "gridwidth": 2,
            "linecolor": "white",
            "showbackground": true,
            "ticks": "",
            "zerolinecolor": "white"
           },
           "yaxis": {
            "backgroundcolor": "#E5ECF6",
            "gridcolor": "white",
            "gridwidth": 2,
            "linecolor": "white",
            "showbackground": true,
            "ticks": "",
            "zerolinecolor": "white"
           },
           "zaxis": {
            "backgroundcolor": "#E5ECF6",
            "gridcolor": "white",
            "gridwidth": 2,
            "linecolor": "white",
            "showbackground": true,
            "ticks": "",
            "zerolinecolor": "white"
           }
          },
          "shapedefaults": {
           "line": {
            "color": "#2a3f5f"
           }
          },
          "ternary": {
           "aaxis": {
            "gridcolor": "white",
            "linecolor": "white",
            "ticks": ""
           },
           "baxis": {
            "gridcolor": "white",
            "linecolor": "white",
            "ticks": ""
           },
           "bgcolor": "#E5ECF6",
           "caxis": {
            "gridcolor": "white",
            "linecolor": "white",
            "ticks": ""
           }
          },
          "title": {
           "x": 0.05
          },
          "xaxis": {
           "automargin": true,
           "gridcolor": "white",
           "linecolor": "white",
           "ticks": "",
           "title": {
            "standoff": 15
           },
           "zerolinecolor": "white",
           "zerolinewidth": 2
          },
          "yaxis": {
           "automargin": true,
           "gridcolor": "white",
           "linecolor": "white",
           "ticks": "",
           "title": {
            "standoff": 15
           },
           "zerolinecolor": "white",
           "zerolinewidth": 2
          }
         }
        }
       }
      },
      "text/html": [
       "<div>\n",
       "        \n",
       "        \n",
       "            <div id=\"efe537e9-6c1b-499a-8cc8-9ba909b11fd4\" class=\"plotly-graph-div\" style=\"height:525px; width:100%;\"></div>\n",
       "            <script type=\"text/javascript\">\n",
       "                require([\"plotly\"], function(Plotly) {\n",
       "                    window.PLOTLYENV=window.PLOTLYENV || {};\n",
       "                    \n",
       "                if (document.getElementById(\"efe537e9-6c1b-499a-8cc8-9ba909b11fd4\")) {\n",
       "                    Plotly.newPlot(\n",
       "                        'efe537e9-6c1b-499a-8cc8-9ba909b11fd4',\n",
       "                        [{\"type\": \"heatmap\", \"z\": [[3.877573535337067, 3.9331030234944953, 4.006949469853692, 4.046368548116236, 4.068253669487931, 4.075790929163737, 4.071505997764251, 4.038338394213137, 3.988232350647325, 3.9146121728148153], [3.942916471467689, 3.9992563119939506, 4.050547546615151, 4.083012068020641, 4.090795819329348, 4.0791711870475025, 4.011011334723124, 3.9385115372401023, 3.8435446786235334, 3.7198101084774104], [3.952891244504152, 4.0387566858824835, 4.065626755742827, 4.045703637497246, 3.9703197155296555, 3.9213967875263362, 3.83955062905742, 3.671144823768607, 3.514835671670891, 3.285262016040554], [3.9093642788134653, 3.952719619168183, 3.9385071245087335, 3.666654927633821, 3.3269186267026916, 3.580994517528575, 3.358530552746467, 3.147955708123011, 3.1842664615093246, 4.572497113367523], [3.8333429613667156, 3.7712999291636535, 3.6453337622374544, 0.5140730677975557, 2.376093651993678, 0.12912587075211013, 3.1566778055270945, 0.5386760633145223, 1.0011788568030369, 1.0051576366787547], [0.5498346289214906, 0.5651623755415393, 0.5322827037754346, 0.3685972407900574, 0.1972587486753764, 0.20777647368875923, 0.5200798629043646, 2.541671563793618, 2.3980332911957416, 4.853474655363584], [0.6147518317355823, 0.2888326383941992, 0.539745859617338, 0.1997584359975007, 0.2034228740765335, 0.20551347268818465, 1.0379944724270644, 1.0321420255448504, 1.1760973353611872, 1.0264308535612845], [0.19393007218702007, 0.19771134930886633, 0.20265522153265372, 0.2059507949948163, 2.660725814408193, 2.996321393864414, 2.945003980142401, 1.2427164678552225, 2.3278212141668657, 2.488806664238921], [0.19645265967931932, 0.1959055227570494, 0.20493251248038283, 1.0422641810500466, 0.22389980387040292, 2.1306872532194014, 0.4318502978757085, 0.4258456665476985, 1.0239919631128507, 2.354736149264833], [0.20138793639906957, 0.19776911991579152, 0.2976485786717145, 1.3818798400131251, 1.0073855856965412, 0.4224234107330843, 0.22038632940778397, 0.43620725516737496, 1.038820884518383, 7.883022925552347]], \"zmax\": 10, \"zmin\": 0.0}],\n",
       "                        {\"template\": {\"data\": {\"bar\": [{\"error_x\": {\"color\": \"#2a3f5f\"}, \"error_y\": {\"color\": \"#2a3f5f\"}, \"marker\": {\"line\": {\"color\": \"#E5ECF6\", \"width\": 0.5}}, \"type\": \"bar\"}], \"barpolar\": [{\"marker\": {\"line\": {\"color\": \"#E5ECF6\", \"width\": 0.5}}, \"type\": \"barpolar\"}], \"carpet\": [{\"aaxis\": {\"endlinecolor\": \"#2a3f5f\", \"gridcolor\": \"white\", \"linecolor\": \"white\", \"minorgridcolor\": \"white\", \"startlinecolor\": \"#2a3f5f\"}, \"baxis\": {\"endlinecolor\": \"#2a3f5f\", \"gridcolor\": \"white\", \"linecolor\": \"white\", \"minorgridcolor\": \"white\", \"startlinecolor\": \"#2a3f5f\"}, \"type\": \"carpet\"}], \"choropleth\": [{\"colorbar\": {\"outlinewidth\": 0, \"ticks\": \"\"}, \"type\": \"choropleth\"}], \"contour\": [{\"colorbar\": {\"outlinewidth\": 0, \"ticks\": \"\"}, \"colorscale\": [[0.0, \"#0d0887\"], [0.1111111111111111, \"#46039f\"], [0.2222222222222222, \"#7201a8\"], [0.3333333333333333, \"#9c179e\"], [0.4444444444444444, \"#bd3786\"], [0.5555555555555556, \"#d8576b\"], [0.6666666666666666, \"#ed7953\"], [0.7777777777777778, \"#fb9f3a\"], [0.8888888888888888, \"#fdca26\"], [1.0, \"#f0f921\"]], \"type\": \"contour\"}], \"contourcarpet\": [{\"colorbar\": {\"outlinewidth\": 0, \"ticks\": \"\"}, \"type\": \"contourcarpet\"}], \"heatmap\": [{\"colorbar\": {\"outlinewidth\": 0, \"ticks\": \"\"}, \"colorscale\": [[0.0, \"#0d0887\"], [0.1111111111111111, \"#46039f\"], [0.2222222222222222, \"#7201a8\"], [0.3333333333333333, \"#9c179e\"], [0.4444444444444444, \"#bd3786\"], [0.5555555555555556, \"#d8576b\"], [0.6666666666666666, \"#ed7953\"], [0.7777777777777778, \"#fb9f3a\"], [0.8888888888888888, \"#fdca26\"], [1.0, \"#f0f921\"]], \"type\": \"heatmap\"}], \"heatmapgl\": [{\"colorbar\": {\"outlinewidth\": 0, \"ticks\": \"\"}, \"colorscale\": [[0.0, \"#0d0887\"], [0.1111111111111111, \"#46039f\"], [0.2222222222222222, \"#7201a8\"], [0.3333333333333333, \"#9c179e\"], [0.4444444444444444, \"#bd3786\"], [0.5555555555555556, \"#d8576b\"], [0.6666666666666666, \"#ed7953\"], [0.7777777777777778, \"#fb9f3a\"], [0.8888888888888888, \"#fdca26\"], [1.0, \"#f0f921\"]], \"type\": \"heatmapgl\"}], \"histogram\": [{\"marker\": {\"colorbar\": {\"outlinewidth\": 0, \"ticks\": \"\"}}, \"type\": \"histogram\"}], \"histogram2d\": [{\"colorbar\": {\"outlinewidth\": 0, \"ticks\": \"\"}, \"colorscale\": [[0.0, \"#0d0887\"], [0.1111111111111111, \"#46039f\"], [0.2222222222222222, \"#7201a8\"], [0.3333333333333333, \"#9c179e\"], [0.4444444444444444, \"#bd3786\"], [0.5555555555555556, \"#d8576b\"], [0.6666666666666666, \"#ed7953\"], [0.7777777777777778, \"#fb9f3a\"], [0.8888888888888888, \"#fdca26\"], [1.0, \"#f0f921\"]], \"type\": \"histogram2d\"}], \"histogram2dcontour\": [{\"colorbar\": {\"outlinewidth\": 0, \"ticks\": \"\"}, \"colorscale\": [[0.0, \"#0d0887\"], [0.1111111111111111, \"#46039f\"], [0.2222222222222222, \"#7201a8\"], [0.3333333333333333, \"#9c179e\"], [0.4444444444444444, \"#bd3786\"], [0.5555555555555556, \"#d8576b\"], [0.6666666666666666, \"#ed7953\"], [0.7777777777777778, \"#fb9f3a\"], [0.8888888888888888, \"#fdca26\"], [1.0, \"#f0f921\"]], \"type\": \"histogram2dcontour\"}], \"mesh3d\": [{\"colorbar\": {\"outlinewidth\": 0, \"ticks\": \"\"}, \"type\": \"mesh3d\"}], \"parcoords\": [{\"line\": {\"colorbar\": {\"outlinewidth\": 0, \"ticks\": \"\"}}, \"type\": \"parcoords\"}], \"pie\": [{\"automargin\": true, \"type\": \"pie\"}], \"scatter\": [{\"marker\": {\"colorbar\": {\"outlinewidth\": 0, \"ticks\": \"\"}}, \"type\": \"scatter\"}], \"scatter3d\": [{\"line\": {\"colorbar\": {\"outlinewidth\": 0, \"ticks\": \"\"}}, \"marker\": {\"colorbar\": {\"outlinewidth\": 0, \"ticks\": \"\"}}, \"type\": \"scatter3d\"}], \"scattercarpet\": [{\"marker\": {\"colorbar\": {\"outlinewidth\": 0, \"ticks\": \"\"}}, \"type\": \"scattercarpet\"}], \"scattergeo\": [{\"marker\": {\"colorbar\": {\"outlinewidth\": 0, \"ticks\": \"\"}}, \"type\": \"scattergeo\"}], \"scattergl\": [{\"marker\": {\"colorbar\": {\"outlinewidth\": 0, \"ticks\": \"\"}}, \"type\": \"scattergl\"}], \"scattermapbox\": [{\"marker\": {\"colorbar\": {\"outlinewidth\": 0, \"ticks\": \"\"}}, \"type\": \"scattermapbox\"}], \"scatterpolar\": [{\"marker\": {\"colorbar\": {\"outlinewidth\": 0, \"ticks\": \"\"}}, \"type\": \"scatterpolar\"}], \"scatterpolargl\": [{\"marker\": {\"colorbar\": {\"outlinewidth\": 0, \"ticks\": \"\"}}, \"type\": \"scatterpolargl\"}], \"scatterternary\": [{\"marker\": {\"colorbar\": {\"outlinewidth\": 0, \"ticks\": \"\"}}, \"type\": \"scatterternary\"}], \"surface\": [{\"colorbar\": {\"outlinewidth\": 0, \"ticks\": \"\"}, \"colorscale\": [[0.0, \"#0d0887\"], [0.1111111111111111, \"#46039f\"], [0.2222222222222222, \"#7201a8\"], [0.3333333333333333, \"#9c179e\"], [0.4444444444444444, \"#bd3786\"], [0.5555555555555556, \"#d8576b\"], [0.6666666666666666, \"#ed7953\"], [0.7777777777777778, \"#fb9f3a\"], [0.8888888888888888, \"#fdca26\"], [1.0, \"#f0f921\"]], \"type\": \"surface\"}], \"table\": [{\"cells\": {\"fill\": {\"color\": \"#EBF0F8\"}, \"line\": {\"color\": \"white\"}}, \"header\": {\"fill\": {\"color\": \"#C8D4E3\"}, \"line\": {\"color\": \"white\"}}, \"type\": \"table\"}]}, \"layout\": {\"annotationdefaults\": {\"arrowcolor\": \"#2a3f5f\", \"arrowhead\": 0, \"arrowwidth\": 1}, \"coloraxis\": {\"colorbar\": {\"outlinewidth\": 0, \"ticks\": \"\"}}, \"colorscale\": {\"diverging\": [[0, \"#8e0152\"], [0.1, \"#c51b7d\"], [0.2, \"#de77ae\"], [0.3, \"#f1b6da\"], [0.4, \"#fde0ef\"], [0.5, \"#f7f7f7\"], [0.6, \"#e6f5d0\"], [0.7, \"#b8e186\"], [0.8, \"#7fbc41\"], [0.9, \"#4d9221\"], [1, \"#276419\"]], \"sequential\": [[0.0, \"#0d0887\"], [0.1111111111111111, \"#46039f\"], [0.2222222222222222, \"#7201a8\"], [0.3333333333333333, \"#9c179e\"], [0.4444444444444444, \"#bd3786\"], [0.5555555555555556, \"#d8576b\"], [0.6666666666666666, \"#ed7953\"], [0.7777777777777778, \"#fb9f3a\"], [0.8888888888888888, \"#fdca26\"], [1.0, \"#f0f921\"]], \"sequentialminus\": [[0.0, \"#0d0887\"], [0.1111111111111111, \"#46039f\"], [0.2222222222222222, \"#7201a8\"], [0.3333333333333333, \"#9c179e\"], [0.4444444444444444, \"#bd3786\"], [0.5555555555555556, \"#d8576b\"], [0.6666666666666666, \"#ed7953\"], [0.7777777777777778, \"#fb9f3a\"], [0.8888888888888888, \"#fdca26\"], [1.0, \"#f0f921\"]]}, \"colorway\": [\"#636efa\", \"#EF553B\", \"#00cc96\", \"#ab63fa\", \"#FFA15A\", \"#19d3f3\", \"#FF6692\", \"#B6E880\", \"#FF97FF\", \"#FECB52\"], \"font\": {\"color\": \"#2a3f5f\"}, \"geo\": {\"bgcolor\": \"white\", \"lakecolor\": \"white\", \"landcolor\": \"#E5ECF6\", \"showlakes\": true, \"showland\": true, \"subunitcolor\": \"white\"}, \"hoverlabel\": {\"align\": \"left\"}, \"hovermode\": \"closest\", \"mapbox\": {\"style\": \"light\"}, \"paper_bgcolor\": \"white\", \"plot_bgcolor\": \"#E5ECF6\", \"polar\": {\"angularaxis\": {\"gridcolor\": \"white\", \"linecolor\": \"white\", \"ticks\": \"\"}, \"bgcolor\": \"#E5ECF6\", \"radialaxis\": {\"gridcolor\": \"white\", \"linecolor\": \"white\", \"ticks\": \"\"}}, \"scene\": {\"xaxis\": {\"backgroundcolor\": \"#E5ECF6\", \"gridcolor\": \"white\", \"gridwidth\": 2, \"linecolor\": \"white\", \"showbackground\": true, \"ticks\": \"\", \"zerolinecolor\": \"white\"}, \"yaxis\": {\"backgroundcolor\": \"#E5ECF6\", \"gridcolor\": \"white\", \"gridwidth\": 2, \"linecolor\": \"white\", \"showbackground\": true, \"ticks\": \"\", \"zerolinecolor\": \"white\"}, \"zaxis\": {\"backgroundcolor\": \"#E5ECF6\", \"gridcolor\": \"white\", \"gridwidth\": 2, \"linecolor\": \"white\", \"showbackground\": true, \"ticks\": \"\", \"zerolinecolor\": \"white\"}}, \"shapedefaults\": {\"line\": {\"color\": \"#2a3f5f\"}}, \"ternary\": {\"aaxis\": {\"gridcolor\": \"white\", \"linecolor\": \"white\", \"ticks\": \"\"}, \"baxis\": {\"gridcolor\": \"white\", \"linecolor\": \"white\", \"ticks\": \"\"}, \"bgcolor\": \"#E5ECF6\", \"caxis\": {\"gridcolor\": \"white\", \"linecolor\": \"white\", \"ticks\": \"\"}}, \"title\": {\"x\": 0.05}, \"xaxis\": {\"automargin\": true, \"gridcolor\": \"white\", \"linecolor\": \"white\", \"ticks\": \"\", \"title\": {\"standoff\": 15}, \"zerolinecolor\": \"white\", \"zerolinewidth\": 2}, \"yaxis\": {\"automargin\": true, \"gridcolor\": \"white\", \"linecolor\": \"white\", \"ticks\": \"\", \"title\": {\"standoff\": 15}, \"zerolinecolor\": \"white\", \"zerolinewidth\": 2}}}},\n",
       "                        {\"responsive\": true}\n",
       "                    ).then(function(){\n",
       "                            \n",
       "var gd = document.getElementById('efe537e9-6c1b-499a-8cc8-9ba909b11fd4');\n",
       "var x = new MutationObserver(function (mutations, observer) {{\n",
       "        var display = window.getComputedStyle(gd).display;\n",
       "        if (!display || display === 'none') {{\n",
       "            console.log([gd, 'removed!']);\n",
       "            Plotly.purge(gd);\n",
       "            observer.disconnect();\n",
       "        }}\n",
       "}});\n",
       "\n",
       "// Listen for the removal of the full notebook cells\n",
       "var notebookContainer = gd.closest('#notebook-container');\n",
       "if (notebookContainer) {{\n",
       "    x.observe(notebookContainer, {childList: true});\n",
       "}}\n",
       "\n",
       "// Listen for the clearing of the current output cell\n",
       "var outputEl = gd.closest('.output');\n",
       "if (outputEl) {{\n",
       "    x.observe(outputEl, {childList: true});\n",
       "}}\n",
       "\n",
       "                        })\n",
       "                };\n",
       "                });\n",
       "            </script>\n",
       "        </div>"
      ]
     },
     "metadata": {},
     "output_type": "display_data"
    },
    {
     "name": "stdout",
     "output_type": "stream",
     "text": [
      "Adversarial\n"
     ]
    },
    {
     "data": {
      "application/vnd.plotly.v1+json": {
       "config": {
        "plotlyServerURL": "https://plot.ly"
       },
       "data": [
        {
         "type": "heatmap",
         "z": [
          [
           3.8899962424550876,
           3.9239975397336204,
           4.152419588939718,
           4.186394360766328,
           4.270497054110834,
           4.176886525445551,
           4.158553154341771,
           4.10610476246024,
           3.787472984124029,
           3.668647775646738
          ],
          [
           4.021871856280575,
           4.053202514714548,
           4.27897420042011,
           4.159706963000601,
           4.202728032702825,
           4.200179392013274,
           3.8978181209864182,
           3.754011411859552,
           3.5191819799359885,
           3.610050803579005
          ],
          [
           4.141064194006278,
           4.222689316334766,
           4.1535964256774305,
           4.214320343318131,
           3.947474181185052,
           4.086359037970845,
           3.755768147051495,
           3.720360114562658,
           3.7787881570148083,
           3.698292750744547
          ],
          [
           4.167487722497876,
           4.182716774250761,
           4.199597658400943,
           4.187550911338521,
           3.8726223224254213,
           3.8215223831436624,
           3.954490363717402,
           3.812015201936669,
           3.6365295167540963,
           4.117728202067488
          ],
          [
           3.6602230184170894,
           4.091214693450446,
           3.9271039102906657,
           3.813888812406293,
           3.643324934191058,
           3.1348280763509324,
           3.818052502321748,
           5.195373659553572,
           4.180385965109944,
           4.139349091929916
          ],
          [
           0.4647191929874652,
           0.936528072095114,
           0.6579678133164297,
           0.35610289139373047,
           1.0730207894147763,
           0.9036699688601191,
           1.0887787409983205,
           1.0482093136171844,
           1.0885629130922874,
           1.6946768310279297
          ],
          [
           0.5255805295726488,
           0.4914045988508096,
           0.7492136672404746,
           0.803496706721004,
           4.194061769520258,
           4.0944697230451,
           4.093427259637726,
           4.093297956250517,
           4.120022553857397,
           9.90328079332356
          ],
          [
           0.5096907967562272,
           0.5423020900401563,
           0.7444579199061524,
           0.8612204926309465,
           0.9102424365768583,
           0.9721309272185428,
           1.071229427209727,
           0.9528726480215985,
           2.720988814964215,
           4.083947917682353
          ],
          [
           4.1195549256307595,
           4.113497696457798,
           4.087972972513474,
           0.862242085658711,
           0.9414367090086257,
           0.9714889114505322,
           1.703495857087305,
           1.7041062276766925,
           1.0088463919465325,
           1.7048544776676435
          ],
          [
           0.6034291656480657,
           0.9847686309589517,
           0.9123820897172538,
           5.067515095436346,
           1.0093508236019921,
           0.976876187994862,
           1.7113880233409853,
           1.0090474955673818,
           1.718324463542288,
           1.0089128157582705
          ]
         ],
         "zmax": 10,
         "zmin": 0
        }
       ],
       "layout": {
        "template": {
         "data": {
          "bar": [
           {
            "error_x": {
             "color": "#2a3f5f"
            },
            "error_y": {
             "color": "#2a3f5f"
            },
            "marker": {
             "line": {
              "color": "#E5ECF6",
              "width": 0.5
             }
            },
            "type": "bar"
           }
          ],
          "barpolar": [
           {
            "marker": {
             "line": {
              "color": "#E5ECF6",
              "width": 0.5
             }
            },
            "type": "barpolar"
           }
          ],
          "carpet": [
           {
            "aaxis": {
             "endlinecolor": "#2a3f5f",
             "gridcolor": "white",
             "linecolor": "white",
             "minorgridcolor": "white",
             "startlinecolor": "#2a3f5f"
            },
            "baxis": {
             "endlinecolor": "#2a3f5f",
             "gridcolor": "white",
             "linecolor": "white",
             "minorgridcolor": "white",
             "startlinecolor": "#2a3f5f"
            },
            "type": "carpet"
           }
          ],
          "choropleth": [
           {
            "colorbar": {
             "outlinewidth": 0,
             "ticks": ""
            },
            "type": "choropleth"
           }
          ],
          "contour": [
           {
            "colorbar": {
             "outlinewidth": 0,
             "ticks": ""
            },
            "colorscale": [
             [
              0,
              "#0d0887"
             ],
             [
              0.1111111111111111,
              "#46039f"
             ],
             [
              0.2222222222222222,
              "#7201a8"
             ],
             [
              0.3333333333333333,
              "#9c179e"
             ],
             [
              0.4444444444444444,
              "#bd3786"
             ],
             [
              0.5555555555555556,
              "#d8576b"
             ],
             [
              0.6666666666666666,
              "#ed7953"
             ],
             [
              0.7777777777777778,
              "#fb9f3a"
             ],
             [
              0.8888888888888888,
              "#fdca26"
             ],
             [
              1,
              "#f0f921"
             ]
            ],
            "type": "contour"
           }
          ],
          "contourcarpet": [
           {
            "colorbar": {
             "outlinewidth": 0,
             "ticks": ""
            },
            "type": "contourcarpet"
           }
          ],
          "heatmap": [
           {
            "colorbar": {
             "outlinewidth": 0,
             "ticks": ""
            },
            "colorscale": [
             [
              0,
              "#0d0887"
             ],
             [
              0.1111111111111111,
              "#46039f"
             ],
             [
              0.2222222222222222,
              "#7201a8"
             ],
             [
              0.3333333333333333,
              "#9c179e"
             ],
             [
              0.4444444444444444,
              "#bd3786"
             ],
             [
              0.5555555555555556,
              "#d8576b"
             ],
             [
              0.6666666666666666,
              "#ed7953"
             ],
             [
              0.7777777777777778,
              "#fb9f3a"
             ],
             [
              0.8888888888888888,
              "#fdca26"
             ],
             [
              1,
              "#f0f921"
             ]
            ],
            "type": "heatmap"
           }
          ],
          "heatmapgl": [
           {
            "colorbar": {
             "outlinewidth": 0,
             "ticks": ""
            },
            "colorscale": [
             [
              0,
              "#0d0887"
             ],
             [
              0.1111111111111111,
              "#46039f"
             ],
             [
              0.2222222222222222,
              "#7201a8"
             ],
             [
              0.3333333333333333,
              "#9c179e"
             ],
             [
              0.4444444444444444,
              "#bd3786"
             ],
             [
              0.5555555555555556,
              "#d8576b"
             ],
             [
              0.6666666666666666,
              "#ed7953"
             ],
             [
              0.7777777777777778,
              "#fb9f3a"
             ],
             [
              0.8888888888888888,
              "#fdca26"
             ],
             [
              1,
              "#f0f921"
             ]
            ],
            "type": "heatmapgl"
           }
          ],
          "histogram": [
           {
            "marker": {
             "colorbar": {
              "outlinewidth": 0,
              "ticks": ""
             }
            },
            "type": "histogram"
           }
          ],
          "histogram2d": [
           {
            "colorbar": {
             "outlinewidth": 0,
             "ticks": ""
            },
            "colorscale": [
             [
              0,
              "#0d0887"
             ],
             [
              0.1111111111111111,
              "#46039f"
             ],
             [
              0.2222222222222222,
              "#7201a8"
             ],
             [
              0.3333333333333333,
              "#9c179e"
             ],
             [
              0.4444444444444444,
              "#bd3786"
             ],
             [
              0.5555555555555556,
              "#d8576b"
             ],
             [
              0.6666666666666666,
              "#ed7953"
             ],
             [
              0.7777777777777778,
              "#fb9f3a"
             ],
             [
              0.8888888888888888,
              "#fdca26"
             ],
             [
              1,
              "#f0f921"
             ]
            ],
            "type": "histogram2d"
           }
          ],
          "histogram2dcontour": [
           {
            "colorbar": {
             "outlinewidth": 0,
             "ticks": ""
            },
            "colorscale": [
             [
              0,
              "#0d0887"
             ],
             [
              0.1111111111111111,
              "#46039f"
             ],
             [
              0.2222222222222222,
              "#7201a8"
             ],
             [
              0.3333333333333333,
              "#9c179e"
             ],
             [
              0.4444444444444444,
              "#bd3786"
             ],
             [
              0.5555555555555556,
              "#d8576b"
             ],
             [
              0.6666666666666666,
              "#ed7953"
             ],
             [
              0.7777777777777778,
              "#fb9f3a"
             ],
             [
              0.8888888888888888,
              "#fdca26"
             ],
             [
              1,
              "#f0f921"
             ]
            ],
            "type": "histogram2dcontour"
           }
          ],
          "mesh3d": [
           {
            "colorbar": {
             "outlinewidth": 0,
             "ticks": ""
            },
            "type": "mesh3d"
           }
          ],
          "parcoords": [
           {
            "line": {
             "colorbar": {
              "outlinewidth": 0,
              "ticks": ""
             }
            },
            "type": "parcoords"
           }
          ],
          "pie": [
           {
            "automargin": true,
            "type": "pie"
           }
          ],
          "scatter": [
           {
            "marker": {
             "colorbar": {
              "outlinewidth": 0,
              "ticks": ""
             }
            },
            "type": "scatter"
           }
          ],
          "scatter3d": [
           {
            "line": {
             "colorbar": {
              "outlinewidth": 0,
              "ticks": ""
             }
            },
            "marker": {
             "colorbar": {
              "outlinewidth": 0,
              "ticks": ""
             }
            },
            "type": "scatter3d"
           }
          ],
          "scattercarpet": [
           {
            "marker": {
             "colorbar": {
              "outlinewidth": 0,
              "ticks": ""
             }
            },
            "type": "scattercarpet"
           }
          ],
          "scattergeo": [
           {
            "marker": {
             "colorbar": {
              "outlinewidth": 0,
              "ticks": ""
             }
            },
            "type": "scattergeo"
           }
          ],
          "scattergl": [
           {
            "marker": {
             "colorbar": {
              "outlinewidth": 0,
              "ticks": ""
             }
            },
            "type": "scattergl"
           }
          ],
          "scattermapbox": [
           {
            "marker": {
             "colorbar": {
              "outlinewidth": 0,
              "ticks": ""
             }
            },
            "type": "scattermapbox"
           }
          ],
          "scatterpolar": [
           {
            "marker": {
             "colorbar": {
              "outlinewidth": 0,
              "ticks": ""
             }
            },
            "type": "scatterpolar"
           }
          ],
          "scatterpolargl": [
           {
            "marker": {
             "colorbar": {
              "outlinewidth": 0,
              "ticks": ""
             }
            },
            "type": "scatterpolargl"
           }
          ],
          "scatterternary": [
           {
            "marker": {
             "colorbar": {
              "outlinewidth": 0,
              "ticks": ""
             }
            },
            "type": "scatterternary"
           }
          ],
          "surface": [
           {
            "colorbar": {
             "outlinewidth": 0,
             "ticks": ""
            },
            "colorscale": [
             [
              0,
              "#0d0887"
             ],
             [
              0.1111111111111111,
              "#46039f"
             ],
             [
              0.2222222222222222,
              "#7201a8"
             ],
             [
              0.3333333333333333,
              "#9c179e"
             ],
             [
              0.4444444444444444,
              "#bd3786"
             ],
             [
              0.5555555555555556,
              "#d8576b"
             ],
             [
              0.6666666666666666,
              "#ed7953"
             ],
             [
              0.7777777777777778,
              "#fb9f3a"
             ],
             [
              0.8888888888888888,
              "#fdca26"
             ],
             [
              1,
              "#f0f921"
             ]
            ],
            "type": "surface"
           }
          ],
          "table": [
           {
            "cells": {
             "fill": {
              "color": "#EBF0F8"
             },
             "line": {
              "color": "white"
             }
            },
            "header": {
             "fill": {
              "color": "#C8D4E3"
             },
             "line": {
              "color": "white"
             }
            },
            "type": "table"
           }
          ]
         },
         "layout": {
          "annotationdefaults": {
           "arrowcolor": "#2a3f5f",
           "arrowhead": 0,
           "arrowwidth": 1
          },
          "coloraxis": {
           "colorbar": {
            "outlinewidth": 0,
            "ticks": ""
           }
          },
          "colorscale": {
           "diverging": [
            [
             0,
             "#8e0152"
            ],
            [
             0.1,
             "#c51b7d"
            ],
            [
             0.2,
             "#de77ae"
            ],
            [
             0.3,
             "#f1b6da"
            ],
            [
             0.4,
             "#fde0ef"
            ],
            [
             0.5,
             "#f7f7f7"
            ],
            [
             0.6,
             "#e6f5d0"
            ],
            [
             0.7,
             "#b8e186"
            ],
            [
             0.8,
             "#7fbc41"
            ],
            [
             0.9,
             "#4d9221"
            ],
            [
             1,
             "#276419"
            ]
           ],
           "sequential": [
            [
             0,
             "#0d0887"
            ],
            [
             0.1111111111111111,
             "#46039f"
            ],
            [
             0.2222222222222222,
             "#7201a8"
            ],
            [
             0.3333333333333333,
             "#9c179e"
            ],
            [
             0.4444444444444444,
             "#bd3786"
            ],
            [
             0.5555555555555556,
             "#d8576b"
            ],
            [
             0.6666666666666666,
             "#ed7953"
            ],
            [
             0.7777777777777778,
             "#fb9f3a"
            ],
            [
             0.8888888888888888,
             "#fdca26"
            ],
            [
             1,
             "#f0f921"
            ]
           ],
           "sequentialminus": [
            [
             0,
             "#0d0887"
            ],
            [
             0.1111111111111111,
             "#46039f"
            ],
            [
             0.2222222222222222,
             "#7201a8"
            ],
            [
             0.3333333333333333,
             "#9c179e"
            ],
            [
             0.4444444444444444,
             "#bd3786"
            ],
            [
             0.5555555555555556,
             "#d8576b"
            ],
            [
             0.6666666666666666,
             "#ed7953"
            ],
            [
             0.7777777777777778,
             "#fb9f3a"
            ],
            [
             0.8888888888888888,
             "#fdca26"
            ],
            [
             1,
             "#f0f921"
            ]
           ]
          },
          "colorway": [
           "#636efa",
           "#EF553B",
           "#00cc96",
           "#ab63fa",
           "#FFA15A",
           "#19d3f3",
           "#FF6692",
           "#B6E880",
           "#FF97FF",
           "#FECB52"
          ],
          "font": {
           "color": "#2a3f5f"
          },
          "geo": {
           "bgcolor": "white",
           "lakecolor": "white",
           "landcolor": "#E5ECF6",
           "showlakes": true,
           "showland": true,
           "subunitcolor": "white"
          },
          "hoverlabel": {
           "align": "left"
          },
          "hovermode": "closest",
          "mapbox": {
           "style": "light"
          },
          "paper_bgcolor": "white",
          "plot_bgcolor": "#E5ECF6",
          "polar": {
           "angularaxis": {
            "gridcolor": "white",
            "linecolor": "white",
            "ticks": ""
           },
           "bgcolor": "#E5ECF6",
           "radialaxis": {
            "gridcolor": "white",
            "linecolor": "white",
            "ticks": ""
           }
          },
          "scene": {
           "xaxis": {
            "backgroundcolor": "#E5ECF6",
            "gridcolor": "white",
            "gridwidth": 2,
            "linecolor": "white",
            "showbackground": true,
            "ticks": "",
            "zerolinecolor": "white"
           },
           "yaxis": {
            "backgroundcolor": "#E5ECF6",
            "gridcolor": "white",
            "gridwidth": 2,
            "linecolor": "white",
            "showbackground": true,
            "ticks": "",
            "zerolinecolor": "white"
           },
           "zaxis": {
            "backgroundcolor": "#E5ECF6",
            "gridcolor": "white",
            "gridwidth": 2,
            "linecolor": "white",
            "showbackground": true,
            "ticks": "",
            "zerolinecolor": "white"
           }
          },
          "shapedefaults": {
           "line": {
            "color": "#2a3f5f"
           }
          },
          "ternary": {
           "aaxis": {
            "gridcolor": "white",
            "linecolor": "white",
            "ticks": ""
           },
           "baxis": {
            "gridcolor": "white",
            "linecolor": "white",
            "ticks": ""
           },
           "bgcolor": "#E5ECF6",
           "caxis": {
            "gridcolor": "white",
            "linecolor": "white",
            "ticks": ""
           }
          },
          "title": {
           "x": 0.05
          },
          "xaxis": {
           "automargin": true,
           "gridcolor": "white",
           "linecolor": "white",
           "ticks": "",
           "title": {
            "standoff": 15
           },
           "zerolinecolor": "white",
           "zerolinewidth": 2
          },
          "yaxis": {
           "automargin": true,
           "gridcolor": "white",
           "linecolor": "white",
           "ticks": "",
           "title": {
            "standoff": 15
           },
           "zerolinecolor": "white",
           "zerolinewidth": 2
          }
         }
        }
       }
      },
      "text/html": [
       "<div>\n",
       "        \n",
       "        \n",
       "            <div id=\"a7d72492-1ddb-4017-b953-ff3b826638e1\" class=\"plotly-graph-div\" style=\"height:525px; width:100%;\"></div>\n",
       "            <script type=\"text/javascript\">\n",
       "                require([\"plotly\"], function(Plotly) {\n",
       "                    window.PLOTLYENV=window.PLOTLYENV || {};\n",
       "                    \n",
       "                if (document.getElementById(\"a7d72492-1ddb-4017-b953-ff3b826638e1\")) {\n",
       "                    Plotly.newPlot(\n",
       "                        'a7d72492-1ddb-4017-b953-ff3b826638e1',\n",
       "                        [{\"type\": \"heatmap\", \"z\": [[3.8899962424550876, 3.9239975397336204, 4.152419588939718, 4.186394360766328, 4.270497054110834, 4.176886525445551, 4.158553154341771, 4.10610476246024, 3.787472984124029, 3.668647775646738], [4.021871856280575, 4.053202514714548, 4.27897420042011, 4.159706963000601, 4.202728032702825, 4.200179392013274, 3.8978181209864182, 3.754011411859552, 3.5191819799359885, 3.610050803579005], [4.141064194006278, 4.222689316334766, 4.1535964256774305, 4.214320343318131, 3.947474181185052, 4.086359037970845, 3.755768147051495, 3.720360114562658, 3.7787881570148083, 3.698292750744547], [4.167487722497876, 4.182716774250761, 4.199597658400943, 4.187550911338521, 3.8726223224254213, 3.8215223831436624, 3.954490363717402, 3.812015201936669, 3.6365295167540963, 4.117728202067488], [3.6602230184170894, 4.091214693450446, 3.9271039102906657, 3.813888812406293, 3.643324934191058, 3.1348280763509324, 3.818052502321748, 5.195373659553572, 4.180385965109944, 4.139349091929916], [0.4647191929874652, 0.936528072095114, 0.6579678133164297, 0.35610289139373047, 1.0730207894147763, 0.9036699688601191, 1.0887787409983205, 1.0482093136171844, 1.0885629130922874, 1.6946768310279297], [0.5255805295726488, 0.4914045988508096, 0.7492136672404746, 0.803496706721004, 4.194061769520258, 4.0944697230451, 4.093427259637726, 4.093297956250517, 4.120022553857397, 9.90328079332356], [0.5096907967562272, 0.5423020900401563, 0.7444579199061524, 0.8612204926309465, 0.9102424365768583, 0.9721309272185428, 1.071229427209727, 0.9528726480215985, 2.720988814964215, 4.083947917682353], [4.1195549256307595, 4.113497696457798, 4.087972972513474, 0.862242085658711, 0.9414367090086257, 0.9714889114505322, 1.703495857087305, 1.7041062276766925, 1.0088463919465325, 1.7048544776676435], [0.6034291656480657, 0.9847686309589517, 0.9123820897172538, 5.067515095436346, 1.0093508236019921, 0.976876187994862, 1.7113880233409853, 1.0090474955673818, 1.718324463542288, 1.0089128157582705]], \"zmax\": 10, \"zmin\": 0.0}],\n",
       "                        {\"template\": {\"data\": {\"bar\": [{\"error_x\": {\"color\": \"#2a3f5f\"}, \"error_y\": {\"color\": \"#2a3f5f\"}, \"marker\": {\"line\": {\"color\": \"#E5ECF6\", \"width\": 0.5}}, \"type\": \"bar\"}], \"barpolar\": [{\"marker\": {\"line\": {\"color\": \"#E5ECF6\", \"width\": 0.5}}, \"type\": \"barpolar\"}], \"carpet\": [{\"aaxis\": {\"endlinecolor\": \"#2a3f5f\", \"gridcolor\": \"white\", \"linecolor\": \"white\", \"minorgridcolor\": \"white\", \"startlinecolor\": \"#2a3f5f\"}, \"baxis\": {\"endlinecolor\": \"#2a3f5f\", \"gridcolor\": \"white\", \"linecolor\": \"white\", \"minorgridcolor\": \"white\", \"startlinecolor\": \"#2a3f5f\"}, \"type\": \"carpet\"}], \"choropleth\": [{\"colorbar\": {\"outlinewidth\": 0, \"ticks\": \"\"}, \"type\": \"choropleth\"}], \"contour\": [{\"colorbar\": {\"outlinewidth\": 0, \"ticks\": \"\"}, \"colorscale\": [[0.0, \"#0d0887\"], [0.1111111111111111, \"#46039f\"], [0.2222222222222222, \"#7201a8\"], [0.3333333333333333, \"#9c179e\"], [0.4444444444444444, \"#bd3786\"], [0.5555555555555556, \"#d8576b\"], [0.6666666666666666, \"#ed7953\"], [0.7777777777777778, \"#fb9f3a\"], [0.8888888888888888, \"#fdca26\"], [1.0, \"#f0f921\"]], \"type\": \"contour\"}], \"contourcarpet\": [{\"colorbar\": {\"outlinewidth\": 0, \"ticks\": \"\"}, \"type\": \"contourcarpet\"}], \"heatmap\": [{\"colorbar\": {\"outlinewidth\": 0, \"ticks\": \"\"}, \"colorscale\": [[0.0, \"#0d0887\"], [0.1111111111111111, \"#46039f\"], [0.2222222222222222, \"#7201a8\"], [0.3333333333333333, \"#9c179e\"], [0.4444444444444444, \"#bd3786\"], [0.5555555555555556, \"#d8576b\"], [0.6666666666666666, \"#ed7953\"], [0.7777777777777778, \"#fb9f3a\"], [0.8888888888888888, \"#fdca26\"], [1.0, \"#f0f921\"]], \"type\": \"heatmap\"}], \"heatmapgl\": [{\"colorbar\": {\"outlinewidth\": 0, \"ticks\": \"\"}, \"colorscale\": [[0.0, \"#0d0887\"], [0.1111111111111111, \"#46039f\"], [0.2222222222222222, \"#7201a8\"], [0.3333333333333333, \"#9c179e\"], [0.4444444444444444, \"#bd3786\"], [0.5555555555555556, \"#d8576b\"], [0.6666666666666666, \"#ed7953\"], [0.7777777777777778, \"#fb9f3a\"], [0.8888888888888888, \"#fdca26\"], [1.0, \"#f0f921\"]], \"type\": \"heatmapgl\"}], \"histogram\": [{\"marker\": {\"colorbar\": {\"outlinewidth\": 0, \"ticks\": \"\"}}, \"type\": \"histogram\"}], \"histogram2d\": [{\"colorbar\": {\"outlinewidth\": 0, \"ticks\": \"\"}, \"colorscale\": [[0.0, \"#0d0887\"], [0.1111111111111111, \"#46039f\"], [0.2222222222222222, \"#7201a8\"], [0.3333333333333333, \"#9c179e\"], [0.4444444444444444, \"#bd3786\"], [0.5555555555555556, \"#d8576b\"], [0.6666666666666666, \"#ed7953\"], [0.7777777777777778, \"#fb9f3a\"], [0.8888888888888888, \"#fdca26\"], [1.0, \"#f0f921\"]], \"type\": \"histogram2d\"}], \"histogram2dcontour\": [{\"colorbar\": {\"outlinewidth\": 0, \"ticks\": \"\"}, \"colorscale\": [[0.0, \"#0d0887\"], [0.1111111111111111, \"#46039f\"], [0.2222222222222222, \"#7201a8\"], [0.3333333333333333, \"#9c179e\"], [0.4444444444444444, \"#bd3786\"], [0.5555555555555556, \"#d8576b\"], [0.6666666666666666, \"#ed7953\"], [0.7777777777777778, \"#fb9f3a\"], [0.8888888888888888, \"#fdca26\"], [1.0, \"#f0f921\"]], \"type\": \"histogram2dcontour\"}], \"mesh3d\": [{\"colorbar\": {\"outlinewidth\": 0, \"ticks\": \"\"}, \"type\": \"mesh3d\"}], \"parcoords\": [{\"line\": {\"colorbar\": {\"outlinewidth\": 0, \"ticks\": \"\"}}, \"type\": \"parcoords\"}], \"pie\": [{\"automargin\": true, \"type\": \"pie\"}], \"scatter\": [{\"marker\": {\"colorbar\": {\"outlinewidth\": 0, \"ticks\": \"\"}}, \"type\": \"scatter\"}], \"scatter3d\": [{\"line\": {\"colorbar\": {\"outlinewidth\": 0, \"ticks\": \"\"}}, \"marker\": {\"colorbar\": {\"outlinewidth\": 0, \"ticks\": \"\"}}, \"type\": \"scatter3d\"}], \"scattercarpet\": [{\"marker\": {\"colorbar\": {\"outlinewidth\": 0, \"ticks\": \"\"}}, \"type\": \"scattercarpet\"}], \"scattergeo\": [{\"marker\": {\"colorbar\": {\"outlinewidth\": 0, \"ticks\": \"\"}}, \"type\": \"scattergeo\"}], \"scattergl\": [{\"marker\": {\"colorbar\": {\"outlinewidth\": 0, \"ticks\": \"\"}}, \"type\": \"scattergl\"}], \"scattermapbox\": [{\"marker\": {\"colorbar\": {\"outlinewidth\": 0, \"ticks\": \"\"}}, \"type\": \"scattermapbox\"}], \"scatterpolar\": [{\"marker\": {\"colorbar\": {\"outlinewidth\": 0, \"ticks\": \"\"}}, \"type\": \"scatterpolar\"}], \"scatterpolargl\": [{\"marker\": {\"colorbar\": {\"outlinewidth\": 0, \"ticks\": \"\"}}, \"type\": \"scatterpolargl\"}], \"scatterternary\": [{\"marker\": {\"colorbar\": {\"outlinewidth\": 0, \"ticks\": \"\"}}, \"type\": \"scatterternary\"}], \"surface\": [{\"colorbar\": {\"outlinewidth\": 0, \"ticks\": \"\"}, \"colorscale\": [[0.0, \"#0d0887\"], [0.1111111111111111, \"#46039f\"], [0.2222222222222222, \"#7201a8\"], [0.3333333333333333, \"#9c179e\"], [0.4444444444444444, \"#bd3786\"], [0.5555555555555556, \"#d8576b\"], [0.6666666666666666, \"#ed7953\"], [0.7777777777777778, \"#fb9f3a\"], [0.8888888888888888, \"#fdca26\"], [1.0, \"#f0f921\"]], \"type\": \"surface\"}], \"table\": [{\"cells\": {\"fill\": {\"color\": \"#EBF0F8\"}, \"line\": {\"color\": \"white\"}}, \"header\": {\"fill\": {\"color\": \"#C8D4E3\"}, \"line\": {\"color\": \"white\"}}, \"type\": \"table\"}]}, \"layout\": {\"annotationdefaults\": {\"arrowcolor\": \"#2a3f5f\", \"arrowhead\": 0, \"arrowwidth\": 1}, \"coloraxis\": {\"colorbar\": {\"outlinewidth\": 0, \"ticks\": \"\"}}, \"colorscale\": {\"diverging\": [[0, \"#8e0152\"], [0.1, \"#c51b7d\"], [0.2, \"#de77ae\"], [0.3, \"#f1b6da\"], [0.4, \"#fde0ef\"], [0.5, \"#f7f7f7\"], [0.6, \"#e6f5d0\"], [0.7, \"#b8e186\"], [0.8, \"#7fbc41\"], [0.9, \"#4d9221\"], [1, \"#276419\"]], \"sequential\": [[0.0, \"#0d0887\"], [0.1111111111111111, \"#46039f\"], [0.2222222222222222, \"#7201a8\"], [0.3333333333333333, \"#9c179e\"], [0.4444444444444444, \"#bd3786\"], [0.5555555555555556, \"#d8576b\"], [0.6666666666666666, \"#ed7953\"], [0.7777777777777778, \"#fb9f3a\"], [0.8888888888888888, \"#fdca26\"], [1.0, \"#f0f921\"]], \"sequentialminus\": [[0.0, \"#0d0887\"], [0.1111111111111111, \"#46039f\"], [0.2222222222222222, \"#7201a8\"], [0.3333333333333333, \"#9c179e\"], [0.4444444444444444, \"#bd3786\"], [0.5555555555555556, \"#d8576b\"], [0.6666666666666666, \"#ed7953\"], [0.7777777777777778, \"#fb9f3a\"], [0.8888888888888888, \"#fdca26\"], [1.0, \"#f0f921\"]]}, \"colorway\": [\"#636efa\", \"#EF553B\", \"#00cc96\", \"#ab63fa\", \"#FFA15A\", \"#19d3f3\", \"#FF6692\", \"#B6E880\", \"#FF97FF\", \"#FECB52\"], \"font\": {\"color\": \"#2a3f5f\"}, \"geo\": {\"bgcolor\": \"white\", \"lakecolor\": \"white\", \"landcolor\": \"#E5ECF6\", \"showlakes\": true, \"showland\": true, \"subunitcolor\": \"white\"}, \"hoverlabel\": {\"align\": \"left\"}, \"hovermode\": \"closest\", \"mapbox\": {\"style\": \"light\"}, \"paper_bgcolor\": \"white\", \"plot_bgcolor\": \"#E5ECF6\", \"polar\": {\"angularaxis\": {\"gridcolor\": \"white\", \"linecolor\": \"white\", \"ticks\": \"\"}, \"bgcolor\": \"#E5ECF6\", \"radialaxis\": {\"gridcolor\": \"white\", \"linecolor\": \"white\", \"ticks\": \"\"}}, \"scene\": {\"xaxis\": {\"backgroundcolor\": \"#E5ECF6\", \"gridcolor\": \"white\", \"gridwidth\": 2, \"linecolor\": \"white\", \"showbackground\": true, \"ticks\": \"\", \"zerolinecolor\": \"white\"}, \"yaxis\": {\"backgroundcolor\": \"#E5ECF6\", \"gridcolor\": \"white\", \"gridwidth\": 2, \"linecolor\": \"white\", \"showbackground\": true, \"ticks\": \"\", \"zerolinecolor\": \"white\"}, \"zaxis\": {\"backgroundcolor\": \"#E5ECF6\", \"gridcolor\": \"white\", \"gridwidth\": 2, \"linecolor\": \"white\", \"showbackground\": true, \"ticks\": \"\", \"zerolinecolor\": \"white\"}}, \"shapedefaults\": {\"line\": {\"color\": \"#2a3f5f\"}}, \"ternary\": {\"aaxis\": {\"gridcolor\": \"white\", \"linecolor\": \"white\", \"ticks\": \"\"}, \"baxis\": {\"gridcolor\": \"white\", \"linecolor\": \"white\", \"ticks\": \"\"}, \"bgcolor\": \"#E5ECF6\", \"caxis\": {\"gridcolor\": \"white\", \"linecolor\": \"white\", \"ticks\": \"\"}}, \"title\": {\"x\": 0.05}, \"xaxis\": {\"automargin\": true, \"gridcolor\": \"white\", \"linecolor\": \"white\", \"ticks\": \"\", \"title\": {\"standoff\": 15}, \"zerolinecolor\": \"white\", \"zerolinewidth\": 2}, \"yaxis\": {\"automargin\": true, \"gridcolor\": \"white\", \"linecolor\": \"white\", \"ticks\": \"\", \"title\": {\"standoff\": 15}, \"zerolinecolor\": \"white\", \"zerolinewidth\": 2}}}},\n",
       "                        {\"responsive\": true}\n",
       "                    ).then(function(){\n",
       "                            \n",
       "var gd = document.getElementById('a7d72492-1ddb-4017-b953-ff3b826638e1');\n",
       "var x = new MutationObserver(function (mutations, observer) {{\n",
       "        var display = window.getComputedStyle(gd).display;\n",
       "        if (!display || display === 'none') {{\n",
       "            console.log([gd, 'removed!']);\n",
       "            Plotly.purge(gd);\n",
       "            observer.disconnect();\n",
       "        }}\n",
       "}});\n",
       "\n",
       "// Listen for the removal of the full notebook cells\n",
       "var notebookContainer = gd.closest('#notebook-container');\n",
       "if (notebookContainer) {{\n",
       "    x.observe(notebookContainer, {childList: true});\n",
       "}}\n",
       "\n",
       "// Listen for the clearing of the current output cell\n",
       "var outputEl = gd.closest('.output');\n",
       "if (outputEl) {{\n",
       "    x.observe(outputEl, {childList: true});\n",
       "}}\n",
       "\n",
       "                        })\n",
       "                };\n",
       "                });\n",
       "            </script>\n",
       "        </div>"
      ]
     },
     "metadata": {},
     "output_type": "display_data"
    },
    {
     "name": "stdout",
     "output_type": "stream",
     "text": [
      "LQR\n"
     ]
    },
    {
     "data": {
      "application/vnd.plotly.v1+json": {
       "config": {
        "plotlyServerURL": "https://plot.ly"
       },
       "data": [
        {
         "type": "heatmap",
         "z": [
          [
           0.0031765956985439618,
           0.0030435018366782307,
           0.002862889053384949,
           0.0026221491767997544,
           0.0023076693655197113,
           0.0019092901204184516,
           0.0014206732545671895,
           0.0008461028187044334,
           0.0002490753141297307,
           0.0006001921461474206
          ],
          [
           0.003411775811532684,
           0.003201518239056286,
           0.0029300139013200316,
           0.0025852326217629252,
           0.0021561387179606824,
           0.0016375171136536078,
           0.001032285965593185,
           0.0003674794111260565,
           0.000441849200751981,
           0.0011945100770661768
          ],
          [
           0.0035148871882244533,
           0.003212615265864857,
           0.0028370352420708286,
           0.0023772586595910117,
           0.0018294699167330727,
           0.0011969938790849933,
           0.0004971484666250164,
           0.0002993441907744586,
           0.0010618982121687632,
           0.0018246933924583252
          ],
          [
           0.003469763223117699,
           0.0030635974709905625,
           0.0025745103492055897,
           0.001998084960771818,
           0.0013409009634477562,
           0.0006169307353560005,
           0.00017264762480555024,
           0.0009422291231055234,
           0.0017032639035335524,
           0.0024157179386472666
          ],
          [
           0.003266920728723238,
           0.0027503937227803003,
           0.0021479674425893525,
           0.0014681922258916956,
           0.0007271641162912047,
           5.63359362552227e-05,
           0.0008328525631353336,
           0.0015865961264184957,
           0.002284893533198829,
           0.002909928146844125
          ],
          [
           0.0029094521571327776,
           0.0022852470288283323,
           0.0015865936396697478,
           0.0008330099410787362,
           5.656175153412184e-05,
           0.0007268915909625413,
           0.0014683859536219126,
           0.0021483171850466814,
           0.002750184509245723,
           0.003267393791620609
          ],
          [
           0.0024158268325710232,
           0.0017033624541382315,
           0.0009423658727289528,
           0.00017289560793992649,
           0.0006168140354670779,
           0.0013407197989588515,
           0.0019984138974800257,
           0.0025742754922313373,
           0.0030634927314177884,
           0.00347000198624095
          ],
          [
           0.001824775270893153,
           0.0010614994211882098,
           0.0002995524158799821,
           0.0004969841550944555,
           0.0011968877616306982,
           0.0018293372797519314,
           0.002377255174233654,
           0.002837037880330161,
           0.003212917732928657,
           0.003514609907823564
          ],
          [
           0.0011948335523036349,
           0.0004414890386053568,
           0.0003677351614638759,
           0.0010321836750400008,
           0.0016372951830226886,
           0.002155883655966755,
           0.00258516945903598,
           0.0029301978635228126,
           0.003201233837394773,
           0.0034118646604410037
          ],
          [
           0.0006000866030675628,
           0.00024932453066863917,
           0.0008463944340969606,
           0.0014206819085083964,
           0.001909139268560208,
           0.0023079187302365374,
           0.0026223454997842286,
           0.0028632641515343492,
           0.0030434132753475733,
           0.0031770435346846013
          ]
         ],
         "zmax": 10,
         "zmin": 0
        }
       ],
       "layout": {
        "template": {
         "data": {
          "bar": [
           {
            "error_x": {
             "color": "#2a3f5f"
            },
            "error_y": {
             "color": "#2a3f5f"
            },
            "marker": {
             "line": {
              "color": "#E5ECF6",
              "width": 0.5
             }
            },
            "type": "bar"
           }
          ],
          "barpolar": [
           {
            "marker": {
             "line": {
              "color": "#E5ECF6",
              "width": 0.5
             }
            },
            "type": "barpolar"
           }
          ],
          "carpet": [
           {
            "aaxis": {
             "endlinecolor": "#2a3f5f",
             "gridcolor": "white",
             "linecolor": "white",
             "minorgridcolor": "white",
             "startlinecolor": "#2a3f5f"
            },
            "baxis": {
             "endlinecolor": "#2a3f5f",
             "gridcolor": "white",
             "linecolor": "white",
             "minorgridcolor": "white",
             "startlinecolor": "#2a3f5f"
            },
            "type": "carpet"
           }
          ],
          "choropleth": [
           {
            "colorbar": {
             "outlinewidth": 0,
             "ticks": ""
            },
            "type": "choropleth"
           }
          ],
          "contour": [
           {
            "colorbar": {
             "outlinewidth": 0,
             "ticks": ""
            },
            "colorscale": [
             [
              0,
              "#0d0887"
             ],
             [
              0.1111111111111111,
              "#46039f"
             ],
             [
              0.2222222222222222,
              "#7201a8"
             ],
             [
              0.3333333333333333,
              "#9c179e"
             ],
             [
              0.4444444444444444,
              "#bd3786"
             ],
             [
              0.5555555555555556,
              "#d8576b"
             ],
             [
              0.6666666666666666,
              "#ed7953"
             ],
             [
              0.7777777777777778,
              "#fb9f3a"
             ],
             [
              0.8888888888888888,
              "#fdca26"
             ],
             [
              1,
              "#f0f921"
             ]
            ],
            "type": "contour"
           }
          ],
          "contourcarpet": [
           {
            "colorbar": {
             "outlinewidth": 0,
             "ticks": ""
            },
            "type": "contourcarpet"
           }
          ],
          "heatmap": [
           {
            "colorbar": {
             "outlinewidth": 0,
             "ticks": ""
            },
            "colorscale": [
             [
              0,
              "#0d0887"
             ],
             [
              0.1111111111111111,
              "#46039f"
             ],
             [
              0.2222222222222222,
              "#7201a8"
             ],
             [
              0.3333333333333333,
              "#9c179e"
             ],
             [
              0.4444444444444444,
              "#bd3786"
             ],
             [
              0.5555555555555556,
              "#d8576b"
             ],
             [
              0.6666666666666666,
              "#ed7953"
             ],
             [
              0.7777777777777778,
              "#fb9f3a"
             ],
             [
              0.8888888888888888,
              "#fdca26"
             ],
             [
              1,
              "#f0f921"
             ]
            ],
            "type": "heatmap"
           }
          ],
          "heatmapgl": [
           {
            "colorbar": {
             "outlinewidth": 0,
             "ticks": ""
            },
            "colorscale": [
             [
              0,
              "#0d0887"
             ],
             [
              0.1111111111111111,
              "#46039f"
             ],
             [
              0.2222222222222222,
              "#7201a8"
             ],
             [
              0.3333333333333333,
              "#9c179e"
             ],
             [
              0.4444444444444444,
              "#bd3786"
             ],
             [
              0.5555555555555556,
              "#d8576b"
             ],
             [
              0.6666666666666666,
              "#ed7953"
             ],
             [
              0.7777777777777778,
              "#fb9f3a"
             ],
             [
              0.8888888888888888,
              "#fdca26"
             ],
             [
              1,
              "#f0f921"
             ]
            ],
            "type": "heatmapgl"
           }
          ],
          "histogram": [
           {
            "marker": {
             "colorbar": {
              "outlinewidth": 0,
              "ticks": ""
             }
            },
            "type": "histogram"
           }
          ],
          "histogram2d": [
           {
            "colorbar": {
             "outlinewidth": 0,
             "ticks": ""
            },
            "colorscale": [
             [
              0,
              "#0d0887"
             ],
             [
              0.1111111111111111,
              "#46039f"
             ],
             [
              0.2222222222222222,
              "#7201a8"
             ],
             [
              0.3333333333333333,
              "#9c179e"
             ],
             [
              0.4444444444444444,
              "#bd3786"
             ],
             [
              0.5555555555555556,
              "#d8576b"
             ],
             [
              0.6666666666666666,
              "#ed7953"
             ],
             [
              0.7777777777777778,
              "#fb9f3a"
             ],
             [
              0.8888888888888888,
              "#fdca26"
             ],
             [
              1,
              "#f0f921"
             ]
            ],
            "type": "histogram2d"
           }
          ],
          "histogram2dcontour": [
           {
            "colorbar": {
             "outlinewidth": 0,
             "ticks": ""
            },
            "colorscale": [
             [
              0,
              "#0d0887"
             ],
             [
              0.1111111111111111,
              "#46039f"
             ],
             [
              0.2222222222222222,
              "#7201a8"
             ],
             [
              0.3333333333333333,
              "#9c179e"
             ],
             [
              0.4444444444444444,
              "#bd3786"
             ],
             [
              0.5555555555555556,
              "#d8576b"
             ],
             [
              0.6666666666666666,
              "#ed7953"
             ],
             [
              0.7777777777777778,
              "#fb9f3a"
             ],
             [
              0.8888888888888888,
              "#fdca26"
             ],
             [
              1,
              "#f0f921"
             ]
            ],
            "type": "histogram2dcontour"
           }
          ],
          "mesh3d": [
           {
            "colorbar": {
             "outlinewidth": 0,
             "ticks": ""
            },
            "type": "mesh3d"
           }
          ],
          "parcoords": [
           {
            "line": {
             "colorbar": {
              "outlinewidth": 0,
              "ticks": ""
             }
            },
            "type": "parcoords"
           }
          ],
          "pie": [
           {
            "automargin": true,
            "type": "pie"
           }
          ],
          "scatter": [
           {
            "marker": {
             "colorbar": {
              "outlinewidth": 0,
              "ticks": ""
             }
            },
            "type": "scatter"
           }
          ],
          "scatter3d": [
           {
            "line": {
             "colorbar": {
              "outlinewidth": 0,
              "ticks": ""
             }
            },
            "marker": {
             "colorbar": {
              "outlinewidth": 0,
              "ticks": ""
             }
            },
            "type": "scatter3d"
           }
          ],
          "scattercarpet": [
           {
            "marker": {
             "colorbar": {
              "outlinewidth": 0,
              "ticks": ""
             }
            },
            "type": "scattercarpet"
           }
          ],
          "scattergeo": [
           {
            "marker": {
             "colorbar": {
              "outlinewidth": 0,
              "ticks": ""
             }
            },
            "type": "scattergeo"
           }
          ],
          "scattergl": [
           {
            "marker": {
             "colorbar": {
              "outlinewidth": 0,
              "ticks": ""
             }
            },
            "type": "scattergl"
           }
          ],
          "scattermapbox": [
           {
            "marker": {
             "colorbar": {
              "outlinewidth": 0,
              "ticks": ""
             }
            },
            "type": "scattermapbox"
           }
          ],
          "scatterpolar": [
           {
            "marker": {
             "colorbar": {
              "outlinewidth": 0,
              "ticks": ""
             }
            },
            "type": "scatterpolar"
           }
          ],
          "scatterpolargl": [
           {
            "marker": {
             "colorbar": {
              "outlinewidth": 0,
              "ticks": ""
             }
            },
            "type": "scatterpolargl"
           }
          ],
          "scatterternary": [
           {
            "marker": {
             "colorbar": {
              "outlinewidth": 0,
              "ticks": ""
             }
            },
            "type": "scatterternary"
           }
          ],
          "surface": [
           {
            "colorbar": {
             "outlinewidth": 0,
             "ticks": ""
            },
            "colorscale": [
             [
              0,
              "#0d0887"
             ],
             [
              0.1111111111111111,
              "#46039f"
             ],
             [
              0.2222222222222222,
              "#7201a8"
             ],
             [
              0.3333333333333333,
              "#9c179e"
             ],
             [
              0.4444444444444444,
              "#bd3786"
             ],
             [
              0.5555555555555556,
              "#d8576b"
             ],
             [
              0.6666666666666666,
              "#ed7953"
             ],
             [
              0.7777777777777778,
              "#fb9f3a"
             ],
             [
              0.8888888888888888,
              "#fdca26"
             ],
             [
              1,
              "#f0f921"
             ]
            ],
            "type": "surface"
           }
          ],
          "table": [
           {
            "cells": {
             "fill": {
              "color": "#EBF0F8"
             },
             "line": {
              "color": "white"
             }
            },
            "header": {
             "fill": {
              "color": "#C8D4E3"
             },
             "line": {
              "color": "white"
             }
            },
            "type": "table"
           }
          ]
         },
         "layout": {
          "annotationdefaults": {
           "arrowcolor": "#2a3f5f",
           "arrowhead": 0,
           "arrowwidth": 1
          },
          "coloraxis": {
           "colorbar": {
            "outlinewidth": 0,
            "ticks": ""
           }
          },
          "colorscale": {
           "diverging": [
            [
             0,
             "#8e0152"
            ],
            [
             0.1,
             "#c51b7d"
            ],
            [
             0.2,
             "#de77ae"
            ],
            [
             0.3,
             "#f1b6da"
            ],
            [
             0.4,
             "#fde0ef"
            ],
            [
             0.5,
             "#f7f7f7"
            ],
            [
             0.6,
             "#e6f5d0"
            ],
            [
             0.7,
             "#b8e186"
            ],
            [
             0.8,
             "#7fbc41"
            ],
            [
             0.9,
             "#4d9221"
            ],
            [
             1,
             "#276419"
            ]
           ],
           "sequential": [
            [
             0,
             "#0d0887"
            ],
            [
             0.1111111111111111,
             "#46039f"
            ],
            [
             0.2222222222222222,
             "#7201a8"
            ],
            [
             0.3333333333333333,
             "#9c179e"
            ],
            [
             0.4444444444444444,
             "#bd3786"
            ],
            [
             0.5555555555555556,
             "#d8576b"
            ],
            [
             0.6666666666666666,
             "#ed7953"
            ],
            [
             0.7777777777777778,
             "#fb9f3a"
            ],
            [
             0.8888888888888888,
             "#fdca26"
            ],
            [
             1,
             "#f0f921"
            ]
           ],
           "sequentialminus": [
            [
             0,
             "#0d0887"
            ],
            [
             0.1111111111111111,
             "#46039f"
            ],
            [
             0.2222222222222222,
             "#7201a8"
            ],
            [
             0.3333333333333333,
             "#9c179e"
            ],
            [
             0.4444444444444444,
             "#bd3786"
            ],
            [
             0.5555555555555556,
             "#d8576b"
            ],
            [
             0.6666666666666666,
             "#ed7953"
            ],
            [
             0.7777777777777778,
             "#fb9f3a"
            ],
            [
             0.8888888888888888,
             "#fdca26"
            ],
            [
             1,
             "#f0f921"
            ]
           ]
          },
          "colorway": [
           "#636efa",
           "#EF553B",
           "#00cc96",
           "#ab63fa",
           "#FFA15A",
           "#19d3f3",
           "#FF6692",
           "#B6E880",
           "#FF97FF",
           "#FECB52"
          ],
          "font": {
           "color": "#2a3f5f"
          },
          "geo": {
           "bgcolor": "white",
           "lakecolor": "white",
           "landcolor": "#E5ECF6",
           "showlakes": true,
           "showland": true,
           "subunitcolor": "white"
          },
          "hoverlabel": {
           "align": "left"
          },
          "hovermode": "closest",
          "mapbox": {
           "style": "light"
          },
          "paper_bgcolor": "white",
          "plot_bgcolor": "#E5ECF6",
          "polar": {
           "angularaxis": {
            "gridcolor": "white",
            "linecolor": "white",
            "ticks": ""
           },
           "bgcolor": "#E5ECF6",
           "radialaxis": {
            "gridcolor": "white",
            "linecolor": "white",
            "ticks": ""
           }
          },
          "scene": {
           "xaxis": {
            "backgroundcolor": "#E5ECF6",
            "gridcolor": "white",
            "gridwidth": 2,
            "linecolor": "white",
            "showbackground": true,
            "ticks": "",
            "zerolinecolor": "white"
           },
           "yaxis": {
            "backgroundcolor": "#E5ECF6",
            "gridcolor": "white",
            "gridwidth": 2,
            "linecolor": "white",
            "showbackground": true,
            "ticks": "",
            "zerolinecolor": "white"
           },
           "zaxis": {
            "backgroundcolor": "#E5ECF6",
            "gridcolor": "white",
            "gridwidth": 2,
            "linecolor": "white",
            "showbackground": true,
            "ticks": "",
            "zerolinecolor": "white"
           }
          },
          "shapedefaults": {
           "line": {
            "color": "#2a3f5f"
           }
          },
          "ternary": {
           "aaxis": {
            "gridcolor": "white",
            "linecolor": "white",
            "ticks": ""
           },
           "baxis": {
            "gridcolor": "white",
            "linecolor": "white",
            "ticks": ""
           },
           "bgcolor": "#E5ECF6",
           "caxis": {
            "gridcolor": "white",
            "linecolor": "white",
            "ticks": ""
           }
          },
          "title": {
           "x": 0.05
          },
          "xaxis": {
           "automargin": true,
           "gridcolor": "white",
           "linecolor": "white",
           "ticks": "",
           "title": {
            "standoff": 15
           },
           "zerolinecolor": "white",
           "zerolinewidth": 2
          },
          "yaxis": {
           "automargin": true,
           "gridcolor": "white",
           "linecolor": "white",
           "ticks": "",
           "title": {
            "standoff": 15
           },
           "zerolinecolor": "white",
           "zerolinewidth": 2
          }
         }
        }
       }
      },
      "text/html": [
       "<div>\n",
       "        \n",
       "        \n",
       "            <div id=\"89fd50b7-cc4d-49bc-ad52-871536877934\" class=\"plotly-graph-div\" style=\"height:525px; width:100%;\"></div>\n",
       "            <script type=\"text/javascript\">\n",
       "                require([\"plotly\"], function(Plotly) {\n",
       "                    window.PLOTLYENV=window.PLOTLYENV || {};\n",
       "                    \n",
       "                if (document.getElementById(\"89fd50b7-cc4d-49bc-ad52-871536877934\")) {\n",
       "                    Plotly.newPlot(\n",
       "                        '89fd50b7-cc4d-49bc-ad52-871536877934',\n",
       "                        [{\"type\": \"heatmap\", \"z\": [[0.0031765956985439618, 0.0030435018366782307, 0.002862889053384949, 0.0026221491767997544, 0.0023076693655197113, 0.0019092901204184516, 0.0014206732545671895, 0.0008461028187044334, 0.0002490753141297307, 0.0006001921461474206], [0.003411775811532684, 0.003201518239056286, 0.0029300139013200316, 0.0025852326217629252, 0.0021561387179606824, 0.0016375171136536078, 0.001032285965593185, 0.0003674794111260565, 0.000441849200751981, 0.0011945100770661768], [0.0035148871882244533, 0.003212615265864857, 0.0028370352420708286, 0.0023772586595910117, 0.0018294699167330727, 0.0011969938790849933, 0.0004971484666250164, 0.0002993441907744586, 0.0010618982121687632, 0.0018246933924583252], [0.003469763223117699, 0.0030635974709905625, 0.0025745103492055897, 0.001998084960771818, 0.0013409009634477562, 0.0006169307353560005, 0.00017264762480555024, 0.0009422291231055234, 0.0017032639035335524, 0.0024157179386472666], [0.003266920728723238, 0.0027503937227803003, 0.0021479674425893525, 0.0014681922258916956, 0.0007271641162912047, 5.63359362552227e-05, 0.0008328525631353336, 0.0015865961264184957, 0.002284893533198829, 0.002909928146844125], [0.0029094521571327776, 0.0022852470288283323, 0.0015865936396697478, 0.0008330099410787362, 5.656175153412184e-05, 0.0007268915909625413, 0.0014683859536219126, 0.0021483171850466814, 0.002750184509245723, 0.003267393791620609], [0.0024158268325710232, 0.0017033624541382315, 0.0009423658727289528, 0.00017289560793992649, 0.0006168140354670779, 0.0013407197989588515, 0.0019984138974800257, 0.0025742754922313373, 0.0030634927314177884, 0.00347000198624095], [0.001824775270893153, 0.0010614994211882098, 0.0002995524158799821, 0.0004969841550944555, 0.0011968877616306982, 0.0018293372797519314, 0.002377255174233654, 0.002837037880330161, 0.003212917732928657, 0.003514609907823564], [0.0011948335523036349, 0.0004414890386053568, 0.0003677351614638759, 0.0010321836750400008, 0.0016372951830226886, 0.002155883655966755, 0.00258516945903598, 0.0029301978635228126, 0.003201233837394773, 0.0034118646604410037], [0.0006000866030675628, 0.00024932453066863917, 0.0008463944340969606, 0.0014206819085083964, 0.001909139268560208, 0.0023079187302365374, 0.0026223454997842286, 0.0028632641515343492, 0.0030434132753475733, 0.0031770435346846013]], \"zmax\": 10, \"zmin\": 0.0}],\n",
       "                        {\"template\": {\"data\": {\"bar\": [{\"error_x\": {\"color\": \"#2a3f5f\"}, \"error_y\": {\"color\": \"#2a3f5f\"}, \"marker\": {\"line\": {\"color\": \"#E5ECF6\", \"width\": 0.5}}, \"type\": \"bar\"}], \"barpolar\": [{\"marker\": {\"line\": {\"color\": \"#E5ECF6\", \"width\": 0.5}}, \"type\": \"barpolar\"}], \"carpet\": [{\"aaxis\": {\"endlinecolor\": \"#2a3f5f\", \"gridcolor\": \"white\", \"linecolor\": \"white\", \"minorgridcolor\": \"white\", \"startlinecolor\": \"#2a3f5f\"}, \"baxis\": {\"endlinecolor\": \"#2a3f5f\", \"gridcolor\": \"white\", \"linecolor\": \"white\", \"minorgridcolor\": \"white\", \"startlinecolor\": \"#2a3f5f\"}, \"type\": \"carpet\"}], \"choropleth\": [{\"colorbar\": {\"outlinewidth\": 0, \"ticks\": \"\"}, \"type\": \"choropleth\"}], \"contour\": [{\"colorbar\": {\"outlinewidth\": 0, \"ticks\": \"\"}, \"colorscale\": [[0.0, \"#0d0887\"], [0.1111111111111111, \"#46039f\"], [0.2222222222222222, \"#7201a8\"], [0.3333333333333333, \"#9c179e\"], [0.4444444444444444, \"#bd3786\"], [0.5555555555555556, \"#d8576b\"], [0.6666666666666666, \"#ed7953\"], [0.7777777777777778, \"#fb9f3a\"], [0.8888888888888888, \"#fdca26\"], [1.0, \"#f0f921\"]], \"type\": \"contour\"}], \"contourcarpet\": [{\"colorbar\": {\"outlinewidth\": 0, \"ticks\": \"\"}, \"type\": \"contourcarpet\"}], \"heatmap\": [{\"colorbar\": {\"outlinewidth\": 0, \"ticks\": \"\"}, \"colorscale\": [[0.0, \"#0d0887\"], [0.1111111111111111, \"#46039f\"], [0.2222222222222222, \"#7201a8\"], [0.3333333333333333, \"#9c179e\"], [0.4444444444444444, \"#bd3786\"], [0.5555555555555556, \"#d8576b\"], [0.6666666666666666, \"#ed7953\"], [0.7777777777777778, \"#fb9f3a\"], [0.8888888888888888, \"#fdca26\"], [1.0, \"#f0f921\"]], \"type\": \"heatmap\"}], \"heatmapgl\": [{\"colorbar\": {\"outlinewidth\": 0, \"ticks\": \"\"}, \"colorscale\": [[0.0, \"#0d0887\"], [0.1111111111111111, \"#46039f\"], [0.2222222222222222, \"#7201a8\"], [0.3333333333333333, \"#9c179e\"], [0.4444444444444444, \"#bd3786\"], [0.5555555555555556, \"#d8576b\"], [0.6666666666666666, \"#ed7953\"], [0.7777777777777778, \"#fb9f3a\"], [0.8888888888888888, \"#fdca26\"], [1.0, \"#f0f921\"]], \"type\": \"heatmapgl\"}], \"histogram\": [{\"marker\": {\"colorbar\": {\"outlinewidth\": 0, \"ticks\": \"\"}}, \"type\": \"histogram\"}], \"histogram2d\": [{\"colorbar\": {\"outlinewidth\": 0, \"ticks\": \"\"}, \"colorscale\": [[0.0, \"#0d0887\"], [0.1111111111111111, \"#46039f\"], [0.2222222222222222, \"#7201a8\"], [0.3333333333333333, \"#9c179e\"], [0.4444444444444444, \"#bd3786\"], [0.5555555555555556, \"#d8576b\"], [0.6666666666666666, \"#ed7953\"], [0.7777777777777778, \"#fb9f3a\"], [0.8888888888888888, \"#fdca26\"], [1.0, \"#f0f921\"]], \"type\": \"histogram2d\"}], \"histogram2dcontour\": [{\"colorbar\": {\"outlinewidth\": 0, \"ticks\": \"\"}, \"colorscale\": [[0.0, \"#0d0887\"], [0.1111111111111111, \"#46039f\"], [0.2222222222222222, \"#7201a8\"], [0.3333333333333333, \"#9c179e\"], [0.4444444444444444, \"#bd3786\"], [0.5555555555555556, \"#d8576b\"], [0.6666666666666666, \"#ed7953\"], [0.7777777777777778, \"#fb9f3a\"], [0.8888888888888888, \"#fdca26\"], [1.0, \"#f0f921\"]], \"type\": \"histogram2dcontour\"}], \"mesh3d\": [{\"colorbar\": {\"outlinewidth\": 0, \"ticks\": \"\"}, \"type\": \"mesh3d\"}], \"parcoords\": [{\"line\": {\"colorbar\": {\"outlinewidth\": 0, \"ticks\": \"\"}}, \"type\": \"parcoords\"}], \"pie\": [{\"automargin\": true, \"type\": \"pie\"}], \"scatter\": [{\"marker\": {\"colorbar\": {\"outlinewidth\": 0, \"ticks\": \"\"}}, \"type\": \"scatter\"}], \"scatter3d\": [{\"line\": {\"colorbar\": {\"outlinewidth\": 0, \"ticks\": \"\"}}, \"marker\": {\"colorbar\": {\"outlinewidth\": 0, \"ticks\": \"\"}}, \"type\": \"scatter3d\"}], \"scattercarpet\": [{\"marker\": {\"colorbar\": {\"outlinewidth\": 0, \"ticks\": \"\"}}, \"type\": \"scattercarpet\"}], \"scattergeo\": [{\"marker\": {\"colorbar\": {\"outlinewidth\": 0, \"ticks\": \"\"}}, \"type\": \"scattergeo\"}], \"scattergl\": [{\"marker\": {\"colorbar\": {\"outlinewidth\": 0, \"ticks\": \"\"}}, \"type\": \"scattergl\"}], \"scattermapbox\": [{\"marker\": {\"colorbar\": {\"outlinewidth\": 0, \"ticks\": \"\"}}, \"type\": \"scattermapbox\"}], \"scatterpolar\": [{\"marker\": {\"colorbar\": {\"outlinewidth\": 0, \"ticks\": \"\"}}, \"type\": \"scatterpolar\"}], \"scatterpolargl\": [{\"marker\": {\"colorbar\": {\"outlinewidth\": 0, \"ticks\": \"\"}}, \"type\": \"scatterpolargl\"}], \"scatterternary\": [{\"marker\": {\"colorbar\": {\"outlinewidth\": 0, \"ticks\": \"\"}}, \"type\": \"scatterternary\"}], \"surface\": [{\"colorbar\": {\"outlinewidth\": 0, \"ticks\": \"\"}, \"colorscale\": [[0.0, \"#0d0887\"], [0.1111111111111111, \"#46039f\"], [0.2222222222222222, \"#7201a8\"], [0.3333333333333333, \"#9c179e\"], [0.4444444444444444, \"#bd3786\"], [0.5555555555555556, \"#d8576b\"], [0.6666666666666666, \"#ed7953\"], [0.7777777777777778, \"#fb9f3a\"], [0.8888888888888888, \"#fdca26\"], [1.0, \"#f0f921\"]], \"type\": \"surface\"}], \"table\": [{\"cells\": {\"fill\": {\"color\": \"#EBF0F8\"}, \"line\": {\"color\": \"white\"}}, \"header\": {\"fill\": {\"color\": \"#C8D4E3\"}, \"line\": {\"color\": \"white\"}}, \"type\": \"table\"}]}, \"layout\": {\"annotationdefaults\": {\"arrowcolor\": \"#2a3f5f\", \"arrowhead\": 0, \"arrowwidth\": 1}, \"coloraxis\": {\"colorbar\": {\"outlinewidth\": 0, \"ticks\": \"\"}}, \"colorscale\": {\"diverging\": [[0, \"#8e0152\"], [0.1, \"#c51b7d\"], [0.2, \"#de77ae\"], [0.3, \"#f1b6da\"], [0.4, \"#fde0ef\"], [0.5, \"#f7f7f7\"], [0.6, \"#e6f5d0\"], [0.7, \"#b8e186\"], [0.8, \"#7fbc41\"], [0.9, \"#4d9221\"], [1, \"#276419\"]], \"sequential\": [[0.0, \"#0d0887\"], [0.1111111111111111, \"#46039f\"], [0.2222222222222222, \"#7201a8\"], [0.3333333333333333, \"#9c179e\"], [0.4444444444444444, \"#bd3786\"], [0.5555555555555556, \"#d8576b\"], [0.6666666666666666, \"#ed7953\"], [0.7777777777777778, \"#fb9f3a\"], [0.8888888888888888, \"#fdca26\"], [1.0, \"#f0f921\"]], \"sequentialminus\": [[0.0, \"#0d0887\"], [0.1111111111111111, \"#46039f\"], [0.2222222222222222, \"#7201a8\"], [0.3333333333333333, \"#9c179e\"], [0.4444444444444444, \"#bd3786\"], [0.5555555555555556, \"#d8576b\"], [0.6666666666666666, \"#ed7953\"], [0.7777777777777778, \"#fb9f3a\"], [0.8888888888888888, \"#fdca26\"], [1.0, \"#f0f921\"]]}, \"colorway\": [\"#636efa\", \"#EF553B\", \"#00cc96\", \"#ab63fa\", \"#FFA15A\", \"#19d3f3\", \"#FF6692\", \"#B6E880\", \"#FF97FF\", \"#FECB52\"], \"font\": {\"color\": \"#2a3f5f\"}, \"geo\": {\"bgcolor\": \"white\", \"lakecolor\": \"white\", \"landcolor\": \"#E5ECF6\", \"showlakes\": true, \"showland\": true, \"subunitcolor\": \"white\"}, \"hoverlabel\": {\"align\": \"left\"}, \"hovermode\": \"closest\", \"mapbox\": {\"style\": \"light\"}, \"paper_bgcolor\": \"white\", \"plot_bgcolor\": \"#E5ECF6\", \"polar\": {\"angularaxis\": {\"gridcolor\": \"white\", \"linecolor\": \"white\", \"ticks\": \"\"}, \"bgcolor\": \"#E5ECF6\", \"radialaxis\": {\"gridcolor\": \"white\", \"linecolor\": \"white\", \"ticks\": \"\"}}, \"scene\": {\"xaxis\": {\"backgroundcolor\": \"#E5ECF6\", \"gridcolor\": \"white\", \"gridwidth\": 2, \"linecolor\": \"white\", \"showbackground\": true, \"ticks\": \"\", \"zerolinecolor\": \"white\"}, \"yaxis\": {\"backgroundcolor\": \"#E5ECF6\", \"gridcolor\": \"white\", \"gridwidth\": 2, \"linecolor\": \"white\", \"showbackground\": true, \"ticks\": \"\", \"zerolinecolor\": \"white\"}, \"zaxis\": {\"backgroundcolor\": \"#E5ECF6\", \"gridcolor\": \"white\", \"gridwidth\": 2, \"linecolor\": \"white\", \"showbackground\": true, \"ticks\": \"\", \"zerolinecolor\": \"white\"}}, \"shapedefaults\": {\"line\": {\"color\": \"#2a3f5f\"}}, \"ternary\": {\"aaxis\": {\"gridcolor\": \"white\", \"linecolor\": \"white\", \"ticks\": \"\"}, \"baxis\": {\"gridcolor\": \"white\", \"linecolor\": \"white\", \"ticks\": \"\"}, \"bgcolor\": \"#E5ECF6\", \"caxis\": {\"gridcolor\": \"white\", \"linecolor\": \"white\", \"ticks\": \"\"}}, \"title\": {\"x\": 0.05}, \"xaxis\": {\"automargin\": true, \"gridcolor\": \"white\", \"linecolor\": \"white\", \"ticks\": \"\", \"title\": {\"standoff\": 15}, \"zerolinecolor\": \"white\", \"zerolinewidth\": 2}, \"yaxis\": {\"automargin\": true, \"gridcolor\": \"white\", \"linecolor\": \"white\", \"ticks\": \"\", \"title\": {\"standoff\": 15}, \"zerolinecolor\": \"white\", \"zerolinewidth\": 2}}}},\n",
       "                        {\"responsive\": true}\n",
       "                    ).then(function(){\n",
       "                            \n",
       "var gd = document.getElementById('89fd50b7-cc4d-49bc-ad52-871536877934');\n",
       "var x = new MutationObserver(function (mutations, observer) {{\n",
       "        var display = window.getComputedStyle(gd).display;\n",
       "        if (!display || display === 'none') {{\n",
       "            console.log([gd, 'removed!']);\n",
       "            Plotly.purge(gd);\n",
       "            observer.disconnect();\n",
       "        }}\n",
       "}});\n",
       "\n",
       "// Listen for the removal of the full notebook cells\n",
       "var notebookContainer = gd.closest('#notebook-container');\n",
       "if (notebookContainer) {{\n",
       "    x.observe(notebookContainer, {childList: true});\n",
       "}}\n",
       "\n",
       "// Listen for the clearing of the current output cell\n",
       "var outputEl = gd.closest('.output');\n",
       "if (outputEl) {{\n",
       "    x.observe(outputEl, {childList: true});\n",
       "}}\n",
       "\n",
       "                        })\n",
       "                };\n",
       "                });\n",
       "            </script>\n",
       "        </div>"
      ]
     },
     "metadata": {},
     "output_type": "display_data"
    },
    {
     "name": "stdout",
     "output_type": "stream",
     "text": [
      "Improvement\n"
     ]
    },
    {
     "data": {
      "application/vnd.plotly.v1+json": {
       "config": {
        "plotlyServerURL": "https://plot.ly"
       },
       "data": [
        {
         "type": "heatmap",
         "z": [
          [
           -0.012422707118020515,
           0.009105483760874833,
           -0.1454701190860268,
           -0.14002581265009173,
           -0.2022433846229026,
           -0.10109559628181408,
           -0.08704715657751994,
           -0.0677663682471028,
           0.20075936652329585,
           0.2459643971680774
          ],
          [
           -0.07895538481288611,
           -0.05394620272059747,
           -0.2284266538049584,
           -0.07669489497996018,
           -0.11193221337347659,
           -0.12100820496577125,
           0.11319321373670554,
           0.18450012538055027,
           0.32436269868754497,
           0.10975930489840557
          ],
          [
           -0.1881729495021256,
           -0.1839326304522828,
           -0.08796966993460309,
           -0.1686167058208854,
           0.022845534344603458,
           -0.16496225044450874,
           0.08378248200592475,
           -0.04921529079405085,
           -0.26395248534391724,
           -0.41303073470399276
          ],
          [
           -0.25812344368441087,
           -0.22999715508257834,
           -0.2610905338922098,
           -0.5208959837046998,
           -0.5457036957227297,
           -0.24052786561508732,
           -0.595959810970935,
           -0.6640594938136579,
           -0.45226305524477173,
           0.45476891130003505
          ],
          [
           0.17311994294962618,
           -0.3199147642867928,
           -0.2817701480532113,
           -3.299815744608737,
           -1.26723128219738,
           -3.0057022055988223,
           -0.6613746967946534,
           -4.6566975962390496,
           -3.1792071083069073,
           -3.1341914552511616
          ],
          [
           0.08511543593402537,
           -0.37136569655357476,
           -0.1256851095409951,
           0.012494349396326931,
           -0.8757620407393999,
           -0.6958934951713598,
           -0.5686988780939559,
           1.4934622501764336,
           1.3094703781034542,
           3.1587978243356547
          ],
          [
           0.08917130216293356,
           -0.2025719604566104,
           -0.20946780762313655,
           -0.6037382707235033,
           -3.990638895443724,
           -3.888956250356916,
           -3.0554327872106612,
           -3.0611559307056666,
           -2.9439252184962097,
           -8.876849939762275
          ],
          [
           -0.3157607245692071,
           -0.3445907407312899,
           -0.5418026983734987,
           -0.6552696976361302,
           1.7504833778313347,
           2.024190466645871,
           1.873774552932674,
           0.28984381983362395,
           -0.39316760079734925,
           -1.5951412534434324
          ],
          [
           -3.92310226595144,
           -3.9175921737007484,
           -3.883040460033091,
           0.18002209539133562,
           -0.7175369051382228,
           1.1591983417688692,
           -1.2716455592115965,
           -1.2782605611289939,
           0.015145571166318206,
           0.6498816715971893
          ],
          [
           -0.4020412292489961,
           -0.7869995110431602,
           -0.6147335110455392,
           -3.685635255423221,
           -0.0019652379054508895,
           -0.5544527772617777,
           -1.4910016939332014,
           -0.5728402404000068,
           -0.679503579023905,
           6.874110109794077
          ]
         ],
         "zmax": 10,
         "zmin": -10
        }
       ],
       "layout": {
        "template": {
         "data": {
          "bar": [
           {
            "error_x": {
             "color": "#2a3f5f"
            },
            "error_y": {
             "color": "#2a3f5f"
            },
            "marker": {
             "line": {
              "color": "#E5ECF6",
              "width": 0.5
             }
            },
            "type": "bar"
           }
          ],
          "barpolar": [
           {
            "marker": {
             "line": {
              "color": "#E5ECF6",
              "width": 0.5
             }
            },
            "type": "barpolar"
           }
          ],
          "carpet": [
           {
            "aaxis": {
             "endlinecolor": "#2a3f5f",
             "gridcolor": "white",
             "linecolor": "white",
             "minorgridcolor": "white",
             "startlinecolor": "#2a3f5f"
            },
            "baxis": {
             "endlinecolor": "#2a3f5f",
             "gridcolor": "white",
             "linecolor": "white",
             "minorgridcolor": "white",
             "startlinecolor": "#2a3f5f"
            },
            "type": "carpet"
           }
          ],
          "choropleth": [
           {
            "colorbar": {
             "outlinewidth": 0,
             "ticks": ""
            },
            "type": "choropleth"
           }
          ],
          "contour": [
           {
            "colorbar": {
             "outlinewidth": 0,
             "ticks": ""
            },
            "colorscale": [
             [
              0,
              "#0d0887"
             ],
             [
              0.1111111111111111,
              "#46039f"
             ],
             [
              0.2222222222222222,
              "#7201a8"
             ],
             [
              0.3333333333333333,
              "#9c179e"
             ],
             [
              0.4444444444444444,
              "#bd3786"
             ],
             [
              0.5555555555555556,
              "#d8576b"
             ],
             [
              0.6666666666666666,
              "#ed7953"
             ],
             [
              0.7777777777777778,
              "#fb9f3a"
             ],
             [
              0.8888888888888888,
              "#fdca26"
             ],
             [
              1,
              "#f0f921"
             ]
            ],
            "type": "contour"
           }
          ],
          "contourcarpet": [
           {
            "colorbar": {
             "outlinewidth": 0,
             "ticks": ""
            },
            "type": "contourcarpet"
           }
          ],
          "heatmap": [
           {
            "colorbar": {
             "outlinewidth": 0,
             "ticks": ""
            },
            "colorscale": [
             [
              0,
              "#0d0887"
             ],
             [
              0.1111111111111111,
              "#46039f"
             ],
             [
              0.2222222222222222,
              "#7201a8"
             ],
             [
              0.3333333333333333,
              "#9c179e"
             ],
             [
              0.4444444444444444,
              "#bd3786"
             ],
             [
              0.5555555555555556,
              "#d8576b"
             ],
             [
              0.6666666666666666,
              "#ed7953"
             ],
             [
              0.7777777777777778,
              "#fb9f3a"
             ],
             [
              0.8888888888888888,
              "#fdca26"
             ],
             [
              1,
              "#f0f921"
             ]
            ],
            "type": "heatmap"
           }
          ],
          "heatmapgl": [
           {
            "colorbar": {
             "outlinewidth": 0,
             "ticks": ""
            },
            "colorscale": [
             [
              0,
              "#0d0887"
             ],
             [
              0.1111111111111111,
              "#46039f"
             ],
             [
              0.2222222222222222,
              "#7201a8"
             ],
             [
              0.3333333333333333,
              "#9c179e"
             ],
             [
              0.4444444444444444,
              "#bd3786"
             ],
             [
              0.5555555555555556,
              "#d8576b"
             ],
             [
              0.6666666666666666,
              "#ed7953"
             ],
             [
              0.7777777777777778,
              "#fb9f3a"
             ],
             [
              0.8888888888888888,
              "#fdca26"
             ],
             [
              1,
              "#f0f921"
             ]
            ],
            "type": "heatmapgl"
           }
          ],
          "histogram": [
           {
            "marker": {
             "colorbar": {
              "outlinewidth": 0,
              "ticks": ""
             }
            },
            "type": "histogram"
           }
          ],
          "histogram2d": [
           {
            "colorbar": {
             "outlinewidth": 0,
             "ticks": ""
            },
            "colorscale": [
             [
              0,
              "#0d0887"
             ],
             [
              0.1111111111111111,
              "#46039f"
             ],
             [
              0.2222222222222222,
              "#7201a8"
             ],
             [
              0.3333333333333333,
              "#9c179e"
             ],
             [
              0.4444444444444444,
              "#bd3786"
             ],
             [
              0.5555555555555556,
              "#d8576b"
             ],
             [
              0.6666666666666666,
              "#ed7953"
             ],
             [
              0.7777777777777778,
              "#fb9f3a"
             ],
             [
              0.8888888888888888,
              "#fdca26"
             ],
             [
              1,
              "#f0f921"
             ]
            ],
            "type": "histogram2d"
           }
          ],
          "histogram2dcontour": [
           {
            "colorbar": {
             "outlinewidth": 0,
             "ticks": ""
            },
            "colorscale": [
             [
              0,
              "#0d0887"
             ],
             [
              0.1111111111111111,
              "#46039f"
             ],
             [
              0.2222222222222222,
              "#7201a8"
             ],
             [
              0.3333333333333333,
              "#9c179e"
             ],
             [
              0.4444444444444444,
              "#bd3786"
             ],
             [
              0.5555555555555556,
              "#d8576b"
             ],
             [
              0.6666666666666666,
              "#ed7953"
             ],
             [
              0.7777777777777778,
              "#fb9f3a"
             ],
             [
              0.8888888888888888,
              "#fdca26"
             ],
             [
              1,
              "#f0f921"
             ]
            ],
            "type": "histogram2dcontour"
           }
          ],
          "mesh3d": [
           {
            "colorbar": {
             "outlinewidth": 0,
             "ticks": ""
            },
            "type": "mesh3d"
           }
          ],
          "parcoords": [
           {
            "line": {
             "colorbar": {
              "outlinewidth": 0,
              "ticks": ""
             }
            },
            "type": "parcoords"
           }
          ],
          "pie": [
           {
            "automargin": true,
            "type": "pie"
           }
          ],
          "scatter": [
           {
            "marker": {
             "colorbar": {
              "outlinewidth": 0,
              "ticks": ""
             }
            },
            "type": "scatter"
           }
          ],
          "scatter3d": [
           {
            "line": {
             "colorbar": {
              "outlinewidth": 0,
              "ticks": ""
             }
            },
            "marker": {
             "colorbar": {
              "outlinewidth": 0,
              "ticks": ""
             }
            },
            "type": "scatter3d"
           }
          ],
          "scattercarpet": [
           {
            "marker": {
             "colorbar": {
              "outlinewidth": 0,
              "ticks": ""
             }
            },
            "type": "scattercarpet"
           }
          ],
          "scattergeo": [
           {
            "marker": {
             "colorbar": {
              "outlinewidth": 0,
              "ticks": ""
             }
            },
            "type": "scattergeo"
           }
          ],
          "scattergl": [
           {
            "marker": {
             "colorbar": {
              "outlinewidth": 0,
              "ticks": ""
             }
            },
            "type": "scattergl"
           }
          ],
          "scattermapbox": [
           {
            "marker": {
             "colorbar": {
              "outlinewidth": 0,
              "ticks": ""
             }
            },
            "type": "scattermapbox"
           }
          ],
          "scatterpolar": [
           {
            "marker": {
             "colorbar": {
              "outlinewidth": 0,
              "ticks": ""
             }
            },
            "type": "scatterpolar"
           }
          ],
          "scatterpolargl": [
           {
            "marker": {
             "colorbar": {
              "outlinewidth": 0,
              "ticks": ""
             }
            },
            "type": "scatterpolargl"
           }
          ],
          "scatterternary": [
           {
            "marker": {
             "colorbar": {
              "outlinewidth": 0,
              "ticks": ""
             }
            },
            "type": "scatterternary"
           }
          ],
          "surface": [
           {
            "colorbar": {
             "outlinewidth": 0,
             "ticks": ""
            },
            "colorscale": [
             [
              0,
              "#0d0887"
             ],
             [
              0.1111111111111111,
              "#46039f"
             ],
             [
              0.2222222222222222,
              "#7201a8"
             ],
             [
              0.3333333333333333,
              "#9c179e"
             ],
             [
              0.4444444444444444,
              "#bd3786"
             ],
             [
              0.5555555555555556,
              "#d8576b"
             ],
             [
              0.6666666666666666,
              "#ed7953"
             ],
             [
              0.7777777777777778,
              "#fb9f3a"
             ],
             [
              0.8888888888888888,
              "#fdca26"
             ],
             [
              1,
              "#f0f921"
             ]
            ],
            "type": "surface"
           }
          ],
          "table": [
           {
            "cells": {
             "fill": {
              "color": "#EBF0F8"
             },
             "line": {
              "color": "white"
             }
            },
            "header": {
             "fill": {
              "color": "#C8D4E3"
             },
             "line": {
              "color": "white"
             }
            },
            "type": "table"
           }
          ]
         },
         "layout": {
          "annotationdefaults": {
           "arrowcolor": "#2a3f5f",
           "arrowhead": 0,
           "arrowwidth": 1
          },
          "coloraxis": {
           "colorbar": {
            "outlinewidth": 0,
            "ticks": ""
           }
          },
          "colorscale": {
           "diverging": [
            [
             0,
             "#8e0152"
            ],
            [
             0.1,
             "#c51b7d"
            ],
            [
             0.2,
             "#de77ae"
            ],
            [
             0.3,
             "#f1b6da"
            ],
            [
             0.4,
             "#fde0ef"
            ],
            [
             0.5,
             "#f7f7f7"
            ],
            [
             0.6,
             "#e6f5d0"
            ],
            [
             0.7,
             "#b8e186"
            ],
            [
             0.8,
             "#7fbc41"
            ],
            [
             0.9,
             "#4d9221"
            ],
            [
             1,
             "#276419"
            ]
           ],
           "sequential": [
            [
             0,
             "#0d0887"
            ],
            [
             0.1111111111111111,
             "#46039f"
            ],
            [
             0.2222222222222222,
             "#7201a8"
            ],
            [
             0.3333333333333333,
             "#9c179e"
            ],
            [
             0.4444444444444444,
             "#bd3786"
            ],
            [
             0.5555555555555556,
             "#d8576b"
            ],
            [
             0.6666666666666666,
             "#ed7953"
            ],
            [
             0.7777777777777778,
             "#fb9f3a"
            ],
            [
             0.8888888888888888,
             "#fdca26"
            ],
            [
             1,
             "#f0f921"
            ]
           ],
           "sequentialminus": [
            [
             0,
             "#0d0887"
            ],
            [
             0.1111111111111111,
             "#46039f"
            ],
            [
             0.2222222222222222,
             "#7201a8"
            ],
            [
             0.3333333333333333,
             "#9c179e"
            ],
            [
             0.4444444444444444,
             "#bd3786"
            ],
            [
             0.5555555555555556,
             "#d8576b"
            ],
            [
             0.6666666666666666,
             "#ed7953"
            ],
            [
             0.7777777777777778,
             "#fb9f3a"
            ],
            [
             0.8888888888888888,
             "#fdca26"
            ],
            [
             1,
             "#f0f921"
            ]
           ]
          },
          "colorway": [
           "#636efa",
           "#EF553B",
           "#00cc96",
           "#ab63fa",
           "#FFA15A",
           "#19d3f3",
           "#FF6692",
           "#B6E880",
           "#FF97FF",
           "#FECB52"
          ],
          "font": {
           "color": "#2a3f5f"
          },
          "geo": {
           "bgcolor": "white",
           "lakecolor": "white",
           "landcolor": "#E5ECF6",
           "showlakes": true,
           "showland": true,
           "subunitcolor": "white"
          },
          "hoverlabel": {
           "align": "left"
          },
          "hovermode": "closest",
          "mapbox": {
           "style": "light"
          },
          "paper_bgcolor": "white",
          "plot_bgcolor": "#E5ECF6",
          "polar": {
           "angularaxis": {
            "gridcolor": "white",
            "linecolor": "white",
            "ticks": ""
           },
           "bgcolor": "#E5ECF6",
           "radialaxis": {
            "gridcolor": "white",
            "linecolor": "white",
            "ticks": ""
           }
          },
          "scene": {
           "xaxis": {
            "backgroundcolor": "#E5ECF6",
            "gridcolor": "white",
            "gridwidth": 2,
            "linecolor": "white",
            "showbackground": true,
            "ticks": "",
            "zerolinecolor": "white"
           },
           "yaxis": {
            "backgroundcolor": "#E5ECF6",
            "gridcolor": "white",
            "gridwidth": 2,
            "linecolor": "white",
            "showbackground": true,
            "ticks": "",
            "zerolinecolor": "white"
           },
           "zaxis": {
            "backgroundcolor": "#E5ECF6",
            "gridcolor": "white",
            "gridwidth": 2,
            "linecolor": "white",
            "showbackground": true,
            "ticks": "",
            "zerolinecolor": "white"
           }
          },
          "shapedefaults": {
           "line": {
            "color": "#2a3f5f"
           }
          },
          "ternary": {
           "aaxis": {
            "gridcolor": "white",
            "linecolor": "white",
            "ticks": ""
           },
           "baxis": {
            "gridcolor": "white",
            "linecolor": "white",
            "ticks": ""
           },
           "bgcolor": "#E5ECF6",
           "caxis": {
            "gridcolor": "white",
            "linecolor": "white",
            "ticks": ""
           }
          },
          "title": {
           "x": 0.05
          },
          "xaxis": {
           "automargin": true,
           "gridcolor": "white",
           "linecolor": "white",
           "ticks": "",
           "title": {
            "standoff": 15
           },
           "zerolinecolor": "white",
           "zerolinewidth": 2
          },
          "yaxis": {
           "automargin": true,
           "gridcolor": "white",
           "linecolor": "white",
           "ticks": "",
           "title": {
            "standoff": 15
           },
           "zerolinecolor": "white",
           "zerolinewidth": 2
          }
         }
        }
       }
      },
      "text/html": [
       "<div>\n",
       "        \n",
       "        \n",
       "            <div id=\"342cc234-3d1f-41f2-a788-e7aa617315d9\" class=\"plotly-graph-div\" style=\"height:525px; width:100%;\"></div>\n",
       "            <script type=\"text/javascript\">\n",
       "                require([\"plotly\"], function(Plotly) {\n",
       "                    window.PLOTLYENV=window.PLOTLYENV || {};\n",
       "                    \n",
       "                if (document.getElementById(\"342cc234-3d1f-41f2-a788-e7aa617315d9\")) {\n",
       "                    Plotly.newPlot(\n",
       "                        '342cc234-3d1f-41f2-a788-e7aa617315d9',\n",
       "                        [{\"type\": \"heatmap\", \"z\": [[-0.012422707118020515, 0.009105483760874833, -0.1454701190860268, -0.14002581265009173, -0.2022433846229026, -0.10109559628181408, -0.08704715657751994, -0.0677663682471028, 0.20075936652329585, 0.2459643971680774], [-0.07895538481288611, -0.05394620272059747, -0.2284266538049584, -0.07669489497996018, -0.11193221337347659, -0.12100820496577125, 0.11319321373670554, 0.18450012538055027, 0.32436269868754497, 0.10975930489840557], [-0.1881729495021256, -0.1839326304522828, -0.08796966993460309, -0.1686167058208854, 0.022845534344603458, -0.16496225044450874, 0.08378248200592475, -0.04921529079405085, -0.26395248534391724, -0.41303073470399276], [-0.25812344368441087, -0.22999715508257834, -0.2610905338922098, -0.5208959837046998, -0.5457036957227297, -0.24052786561508732, -0.595959810970935, -0.6640594938136579, -0.45226305524477173, 0.45476891130003505], [0.17311994294962618, -0.3199147642867928, -0.2817701480532113, -3.299815744608737, -1.26723128219738, -3.0057022055988223, -0.6613746967946534, -4.6566975962390496, -3.1792071083069073, -3.1341914552511616], [0.08511543593402537, -0.37136569655357476, -0.1256851095409951, 0.012494349396326931, -0.8757620407393999, -0.6958934951713598, -0.5686988780939559, 1.4934622501764336, 1.3094703781034542, 3.1587978243356547], [0.08917130216293356, -0.2025719604566104, -0.20946780762313655, -0.6037382707235033, -3.990638895443724, -3.888956250356916, -3.0554327872106612, -3.0611559307056666, -2.9439252184962097, -8.876849939762275], [-0.3157607245692071, -0.3445907407312899, -0.5418026983734987, -0.6552696976361302, 1.7504833778313347, 2.024190466645871, 1.873774552932674, 0.28984381983362395, -0.39316760079734925, -1.5951412534434324], [-3.92310226595144, -3.9175921737007484, -3.883040460033091, 0.18002209539133562, -0.7175369051382228, 1.1591983417688692, -1.2716455592115965, -1.2782605611289939, 0.015145571166318206, 0.6498816715971893], [-0.4020412292489961, -0.7869995110431602, -0.6147335110455392, -3.685635255423221, -0.0019652379054508895, -0.5544527772617777, -1.4910016939332014, -0.5728402404000068, -0.679503579023905, 6.874110109794077]], \"zmax\": 10, \"zmin\": -10}],\n",
       "                        {\"template\": {\"data\": {\"bar\": [{\"error_x\": {\"color\": \"#2a3f5f\"}, \"error_y\": {\"color\": \"#2a3f5f\"}, \"marker\": {\"line\": {\"color\": \"#E5ECF6\", \"width\": 0.5}}, \"type\": \"bar\"}], \"barpolar\": [{\"marker\": {\"line\": {\"color\": \"#E5ECF6\", \"width\": 0.5}}, \"type\": \"barpolar\"}], \"carpet\": [{\"aaxis\": {\"endlinecolor\": \"#2a3f5f\", \"gridcolor\": \"white\", \"linecolor\": \"white\", \"minorgridcolor\": \"white\", \"startlinecolor\": \"#2a3f5f\"}, \"baxis\": {\"endlinecolor\": \"#2a3f5f\", \"gridcolor\": \"white\", \"linecolor\": \"white\", \"minorgridcolor\": \"white\", \"startlinecolor\": \"#2a3f5f\"}, \"type\": \"carpet\"}], \"choropleth\": [{\"colorbar\": {\"outlinewidth\": 0, \"ticks\": \"\"}, \"type\": \"choropleth\"}], \"contour\": [{\"colorbar\": {\"outlinewidth\": 0, \"ticks\": \"\"}, \"colorscale\": [[0.0, \"#0d0887\"], [0.1111111111111111, \"#46039f\"], [0.2222222222222222, \"#7201a8\"], [0.3333333333333333, \"#9c179e\"], [0.4444444444444444, \"#bd3786\"], [0.5555555555555556, \"#d8576b\"], [0.6666666666666666, \"#ed7953\"], [0.7777777777777778, \"#fb9f3a\"], [0.8888888888888888, \"#fdca26\"], [1.0, \"#f0f921\"]], \"type\": \"contour\"}], \"contourcarpet\": [{\"colorbar\": {\"outlinewidth\": 0, \"ticks\": \"\"}, \"type\": \"contourcarpet\"}], \"heatmap\": [{\"colorbar\": {\"outlinewidth\": 0, \"ticks\": \"\"}, \"colorscale\": [[0.0, \"#0d0887\"], [0.1111111111111111, \"#46039f\"], [0.2222222222222222, \"#7201a8\"], [0.3333333333333333, \"#9c179e\"], [0.4444444444444444, \"#bd3786\"], [0.5555555555555556, \"#d8576b\"], [0.6666666666666666, \"#ed7953\"], [0.7777777777777778, \"#fb9f3a\"], [0.8888888888888888, \"#fdca26\"], [1.0, \"#f0f921\"]], \"type\": \"heatmap\"}], \"heatmapgl\": [{\"colorbar\": {\"outlinewidth\": 0, \"ticks\": \"\"}, \"colorscale\": [[0.0, \"#0d0887\"], [0.1111111111111111, \"#46039f\"], [0.2222222222222222, \"#7201a8\"], [0.3333333333333333, \"#9c179e\"], [0.4444444444444444, \"#bd3786\"], [0.5555555555555556, \"#d8576b\"], [0.6666666666666666, \"#ed7953\"], [0.7777777777777778, \"#fb9f3a\"], [0.8888888888888888, \"#fdca26\"], [1.0, \"#f0f921\"]], \"type\": \"heatmapgl\"}], \"histogram\": [{\"marker\": {\"colorbar\": {\"outlinewidth\": 0, \"ticks\": \"\"}}, \"type\": \"histogram\"}], \"histogram2d\": [{\"colorbar\": {\"outlinewidth\": 0, \"ticks\": \"\"}, \"colorscale\": [[0.0, \"#0d0887\"], [0.1111111111111111, \"#46039f\"], [0.2222222222222222, \"#7201a8\"], [0.3333333333333333, \"#9c179e\"], [0.4444444444444444, \"#bd3786\"], [0.5555555555555556, \"#d8576b\"], [0.6666666666666666, \"#ed7953\"], [0.7777777777777778, \"#fb9f3a\"], [0.8888888888888888, \"#fdca26\"], [1.0, \"#f0f921\"]], \"type\": \"histogram2d\"}], \"histogram2dcontour\": [{\"colorbar\": {\"outlinewidth\": 0, \"ticks\": \"\"}, \"colorscale\": [[0.0, \"#0d0887\"], [0.1111111111111111, \"#46039f\"], [0.2222222222222222, \"#7201a8\"], [0.3333333333333333, \"#9c179e\"], [0.4444444444444444, \"#bd3786\"], [0.5555555555555556, \"#d8576b\"], [0.6666666666666666, \"#ed7953\"], [0.7777777777777778, \"#fb9f3a\"], [0.8888888888888888, \"#fdca26\"], [1.0, \"#f0f921\"]], \"type\": \"histogram2dcontour\"}], \"mesh3d\": [{\"colorbar\": {\"outlinewidth\": 0, \"ticks\": \"\"}, \"type\": \"mesh3d\"}], \"parcoords\": [{\"line\": {\"colorbar\": {\"outlinewidth\": 0, \"ticks\": \"\"}}, \"type\": \"parcoords\"}], \"pie\": [{\"automargin\": true, \"type\": \"pie\"}], \"scatter\": [{\"marker\": {\"colorbar\": {\"outlinewidth\": 0, \"ticks\": \"\"}}, \"type\": \"scatter\"}], \"scatter3d\": [{\"line\": {\"colorbar\": {\"outlinewidth\": 0, \"ticks\": \"\"}}, \"marker\": {\"colorbar\": {\"outlinewidth\": 0, \"ticks\": \"\"}}, \"type\": \"scatter3d\"}], \"scattercarpet\": [{\"marker\": {\"colorbar\": {\"outlinewidth\": 0, \"ticks\": \"\"}}, \"type\": \"scattercarpet\"}], \"scattergeo\": [{\"marker\": {\"colorbar\": {\"outlinewidth\": 0, \"ticks\": \"\"}}, \"type\": \"scattergeo\"}], \"scattergl\": [{\"marker\": {\"colorbar\": {\"outlinewidth\": 0, \"ticks\": \"\"}}, \"type\": \"scattergl\"}], \"scattermapbox\": [{\"marker\": {\"colorbar\": {\"outlinewidth\": 0, \"ticks\": \"\"}}, \"type\": \"scattermapbox\"}], \"scatterpolar\": [{\"marker\": {\"colorbar\": {\"outlinewidth\": 0, \"ticks\": \"\"}}, \"type\": \"scatterpolar\"}], \"scatterpolargl\": [{\"marker\": {\"colorbar\": {\"outlinewidth\": 0, \"ticks\": \"\"}}, \"type\": \"scatterpolargl\"}], \"scatterternary\": [{\"marker\": {\"colorbar\": {\"outlinewidth\": 0, \"ticks\": \"\"}}, \"type\": \"scatterternary\"}], \"surface\": [{\"colorbar\": {\"outlinewidth\": 0, \"ticks\": \"\"}, \"colorscale\": [[0.0, \"#0d0887\"], [0.1111111111111111, \"#46039f\"], [0.2222222222222222, \"#7201a8\"], [0.3333333333333333, \"#9c179e\"], [0.4444444444444444, \"#bd3786\"], [0.5555555555555556, \"#d8576b\"], [0.6666666666666666, \"#ed7953\"], [0.7777777777777778, \"#fb9f3a\"], [0.8888888888888888, \"#fdca26\"], [1.0, \"#f0f921\"]], \"type\": \"surface\"}], \"table\": [{\"cells\": {\"fill\": {\"color\": \"#EBF0F8\"}, \"line\": {\"color\": \"white\"}}, \"header\": {\"fill\": {\"color\": \"#C8D4E3\"}, \"line\": {\"color\": \"white\"}}, \"type\": \"table\"}]}, \"layout\": {\"annotationdefaults\": {\"arrowcolor\": \"#2a3f5f\", \"arrowhead\": 0, \"arrowwidth\": 1}, \"coloraxis\": {\"colorbar\": {\"outlinewidth\": 0, \"ticks\": \"\"}}, \"colorscale\": {\"diverging\": [[0, \"#8e0152\"], [0.1, \"#c51b7d\"], [0.2, \"#de77ae\"], [0.3, \"#f1b6da\"], [0.4, \"#fde0ef\"], [0.5, \"#f7f7f7\"], [0.6, \"#e6f5d0\"], [0.7, \"#b8e186\"], [0.8, \"#7fbc41\"], [0.9, \"#4d9221\"], [1, \"#276419\"]], \"sequential\": [[0.0, \"#0d0887\"], [0.1111111111111111, \"#46039f\"], [0.2222222222222222, \"#7201a8\"], [0.3333333333333333, \"#9c179e\"], [0.4444444444444444, \"#bd3786\"], [0.5555555555555556, \"#d8576b\"], [0.6666666666666666, \"#ed7953\"], [0.7777777777777778, \"#fb9f3a\"], [0.8888888888888888, \"#fdca26\"], [1.0, \"#f0f921\"]], \"sequentialminus\": [[0.0, \"#0d0887\"], [0.1111111111111111, \"#46039f\"], [0.2222222222222222, \"#7201a8\"], [0.3333333333333333, \"#9c179e\"], [0.4444444444444444, \"#bd3786\"], [0.5555555555555556, \"#d8576b\"], [0.6666666666666666, \"#ed7953\"], [0.7777777777777778, \"#fb9f3a\"], [0.8888888888888888, \"#fdca26\"], [1.0, \"#f0f921\"]]}, \"colorway\": [\"#636efa\", \"#EF553B\", \"#00cc96\", \"#ab63fa\", \"#FFA15A\", \"#19d3f3\", \"#FF6692\", \"#B6E880\", \"#FF97FF\", \"#FECB52\"], \"font\": {\"color\": \"#2a3f5f\"}, \"geo\": {\"bgcolor\": \"white\", \"lakecolor\": \"white\", \"landcolor\": \"#E5ECF6\", \"showlakes\": true, \"showland\": true, \"subunitcolor\": \"white\"}, \"hoverlabel\": {\"align\": \"left\"}, \"hovermode\": \"closest\", \"mapbox\": {\"style\": \"light\"}, \"paper_bgcolor\": \"white\", \"plot_bgcolor\": \"#E5ECF6\", \"polar\": {\"angularaxis\": {\"gridcolor\": \"white\", \"linecolor\": \"white\", \"ticks\": \"\"}, \"bgcolor\": \"#E5ECF6\", \"radialaxis\": {\"gridcolor\": \"white\", \"linecolor\": \"white\", \"ticks\": \"\"}}, \"scene\": {\"xaxis\": {\"backgroundcolor\": \"#E5ECF6\", \"gridcolor\": \"white\", \"gridwidth\": 2, \"linecolor\": \"white\", \"showbackground\": true, \"ticks\": \"\", \"zerolinecolor\": \"white\"}, \"yaxis\": {\"backgroundcolor\": \"#E5ECF6\", \"gridcolor\": \"white\", \"gridwidth\": 2, \"linecolor\": \"white\", \"showbackground\": true, \"ticks\": \"\", \"zerolinecolor\": \"white\"}, \"zaxis\": {\"backgroundcolor\": \"#E5ECF6\", \"gridcolor\": \"white\", \"gridwidth\": 2, \"linecolor\": \"white\", \"showbackground\": true, \"ticks\": \"\", \"zerolinecolor\": \"white\"}}, \"shapedefaults\": {\"line\": {\"color\": \"#2a3f5f\"}}, \"ternary\": {\"aaxis\": {\"gridcolor\": \"white\", \"linecolor\": \"white\", \"ticks\": \"\"}, \"baxis\": {\"gridcolor\": \"white\", \"linecolor\": \"white\", \"ticks\": \"\"}, \"bgcolor\": \"#E5ECF6\", \"caxis\": {\"gridcolor\": \"white\", \"linecolor\": \"white\", \"ticks\": \"\"}}, \"title\": {\"x\": 0.05}, \"xaxis\": {\"automargin\": true, \"gridcolor\": \"white\", \"linecolor\": \"white\", \"ticks\": \"\", \"title\": {\"standoff\": 15}, \"zerolinecolor\": \"white\", \"zerolinewidth\": 2}, \"yaxis\": {\"automargin\": true, \"gridcolor\": \"white\", \"linecolor\": \"white\", \"ticks\": \"\", \"title\": {\"standoff\": 15}, \"zerolinecolor\": \"white\", \"zerolinewidth\": 2}}}},\n",
       "                        {\"responsive\": true}\n",
       "                    ).then(function(){\n",
       "                            \n",
       "var gd = document.getElementById('342cc234-3d1f-41f2-a788-e7aa617315d9');\n",
       "var x = new MutationObserver(function (mutations, observer) {{\n",
       "        var display = window.getComputedStyle(gd).display;\n",
       "        if (!display || display === 'none') {{\n",
       "            console.log([gd, 'removed!']);\n",
       "            Plotly.purge(gd);\n",
       "            observer.disconnect();\n",
       "        }}\n",
       "}});\n",
       "\n",
       "// Listen for the removal of the full notebook cells\n",
       "var notebookContainer = gd.closest('#notebook-container');\n",
       "if (notebookContainer) {{\n",
       "    x.observe(notebookContainer, {childList: true});\n",
       "}}\n",
       "\n",
       "// Listen for the clearing of the current output cell\n",
       "var outputEl = gd.closest('.output');\n",
       "if (outputEl) {{\n",
       "    x.observe(outputEl, {childList: true});\n",
       "}}\n",
       "\n",
       "                        })\n",
       "                };\n",
       "                });\n",
       "            </script>\n",
       "        </div>"
      ]
     },
     "metadata": {},
     "output_type": "display_data"
    },
    {
     "name": "stdout",
     "output_type": "stream",
     "text": [
      "Baseline\n"
     ]
    },
    {
     "data": {
      "application/vnd.plotly.v1+json": {
       "config": {
        "plotlyServerURL": "https://plot.ly"
       },
       "data": [
        {
         "type": "heatmap",
         "z": [
          [
           1,
           1,
           1,
           1,
           1,
           1,
           1,
           1,
           1,
           1
          ],
          [
           1,
           1,
           1,
           1,
           1,
           1,
           1,
           1,
           1,
           1
          ],
          [
           1,
           1,
           1,
           1,
           1,
           1,
           1,
           1,
           1,
           1
          ],
          [
           1,
           1,
           1,
           1,
           1,
           1,
           1,
           1,
           1,
           1
          ],
          [
           1,
           1,
           1,
           1,
           1,
           1,
           1,
           1,
           1,
           1
          ],
          [
           1,
           1,
           1,
           1,
           1,
           1,
           1,
           1,
           1,
           1
          ],
          [
           1,
           1,
           1,
           1,
           1,
           1,
           1,
           1,
           1,
           1
          ],
          [
           1,
           1,
           1,
           1,
           1,
           1,
           1,
           1,
           1,
           1
          ],
          [
           1,
           1,
           1,
           1,
           1,
           1,
           1,
           1,
           1,
           1
          ],
          [
           1,
           1,
           1,
           1,
           1,
           1,
           1,
           1,
           1,
           0
          ]
         ],
         "zmax": 1,
         "zmin": 0
        }
       ],
       "layout": {
        "template": {
         "data": {
          "bar": [
           {
            "error_x": {
             "color": "#2a3f5f"
            },
            "error_y": {
             "color": "#2a3f5f"
            },
            "marker": {
             "line": {
              "color": "#E5ECF6",
              "width": 0.5
             }
            },
            "type": "bar"
           }
          ],
          "barpolar": [
           {
            "marker": {
             "line": {
              "color": "#E5ECF6",
              "width": 0.5
             }
            },
            "type": "barpolar"
           }
          ],
          "carpet": [
           {
            "aaxis": {
             "endlinecolor": "#2a3f5f",
             "gridcolor": "white",
             "linecolor": "white",
             "minorgridcolor": "white",
             "startlinecolor": "#2a3f5f"
            },
            "baxis": {
             "endlinecolor": "#2a3f5f",
             "gridcolor": "white",
             "linecolor": "white",
             "minorgridcolor": "white",
             "startlinecolor": "#2a3f5f"
            },
            "type": "carpet"
           }
          ],
          "choropleth": [
           {
            "colorbar": {
             "outlinewidth": 0,
             "ticks": ""
            },
            "type": "choropleth"
           }
          ],
          "contour": [
           {
            "colorbar": {
             "outlinewidth": 0,
             "ticks": ""
            },
            "colorscale": [
             [
              0,
              "#0d0887"
             ],
             [
              0.1111111111111111,
              "#46039f"
             ],
             [
              0.2222222222222222,
              "#7201a8"
             ],
             [
              0.3333333333333333,
              "#9c179e"
             ],
             [
              0.4444444444444444,
              "#bd3786"
             ],
             [
              0.5555555555555556,
              "#d8576b"
             ],
             [
              0.6666666666666666,
              "#ed7953"
             ],
             [
              0.7777777777777778,
              "#fb9f3a"
             ],
             [
              0.8888888888888888,
              "#fdca26"
             ],
             [
              1,
              "#f0f921"
             ]
            ],
            "type": "contour"
           }
          ],
          "contourcarpet": [
           {
            "colorbar": {
             "outlinewidth": 0,
             "ticks": ""
            },
            "type": "contourcarpet"
           }
          ],
          "heatmap": [
           {
            "colorbar": {
             "outlinewidth": 0,
             "ticks": ""
            },
            "colorscale": [
             [
              0,
              "#0d0887"
             ],
             [
              0.1111111111111111,
              "#46039f"
             ],
             [
              0.2222222222222222,
              "#7201a8"
             ],
             [
              0.3333333333333333,
              "#9c179e"
             ],
             [
              0.4444444444444444,
              "#bd3786"
             ],
             [
              0.5555555555555556,
              "#d8576b"
             ],
             [
              0.6666666666666666,
              "#ed7953"
             ],
             [
              0.7777777777777778,
              "#fb9f3a"
             ],
             [
              0.8888888888888888,
              "#fdca26"
             ],
             [
              1,
              "#f0f921"
             ]
            ],
            "type": "heatmap"
           }
          ],
          "heatmapgl": [
           {
            "colorbar": {
             "outlinewidth": 0,
             "ticks": ""
            },
            "colorscale": [
             [
              0,
              "#0d0887"
             ],
             [
              0.1111111111111111,
              "#46039f"
             ],
             [
              0.2222222222222222,
              "#7201a8"
             ],
             [
              0.3333333333333333,
              "#9c179e"
             ],
             [
              0.4444444444444444,
              "#bd3786"
             ],
             [
              0.5555555555555556,
              "#d8576b"
             ],
             [
              0.6666666666666666,
              "#ed7953"
             ],
             [
              0.7777777777777778,
              "#fb9f3a"
             ],
             [
              0.8888888888888888,
              "#fdca26"
             ],
             [
              1,
              "#f0f921"
             ]
            ],
            "type": "heatmapgl"
           }
          ],
          "histogram": [
           {
            "marker": {
             "colorbar": {
              "outlinewidth": 0,
              "ticks": ""
             }
            },
            "type": "histogram"
           }
          ],
          "histogram2d": [
           {
            "colorbar": {
             "outlinewidth": 0,
             "ticks": ""
            },
            "colorscale": [
             [
              0,
              "#0d0887"
             ],
             [
              0.1111111111111111,
              "#46039f"
             ],
             [
              0.2222222222222222,
              "#7201a8"
             ],
             [
              0.3333333333333333,
              "#9c179e"
             ],
             [
              0.4444444444444444,
              "#bd3786"
             ],
             [
              0.5555555555555556,
              "#d8576b"
             ],
             [
              0.6666666666666666,
              "#ed7953"
             ],
             [
              0.7777777777777778,
              "#fb9f3a"
             ],
             [
              0.8888888888888888,
              "#fdca26"
             ],
             [
              1,
              "#f0f921"
             ]
            ],
            "type": "histogram2d"
           }
          ],
          "histogram2dcontour": [
           {
            "colorbar": {
             "outlinewidth": 0,
             "ticks": ""
            },
            "colorscale": [
             [
              0,
              "#0d0887"
             ],
             [
              0.1111111111111111,
              "#46039f"
             ],
             [
              0.2222222222222222,
              "#7201a8"
             ],
             [
              0.3333333333333333,
              "#9c179e"
             ],
             [
              0.4444444444444444,
              "#bd3786"
             ],
             [
              0.5555555555555556,
              "#d8576b"
             ],
             [
              0.6666666666666666,
              "#ed7953"
             ],
             [
              0.7777777777777778,
              "#fb9f3a"
             ],
             [
              0.8888888888888888,
              "#fdca26"
             ],
             [
              1,
              "#f0f921"
             ]
            ],
            "type": "histogram2dcontour"
           }
          ],
          "mesh3d": [
           {
            "colorbar": {
             "outlinewidth": 0,
             "ticks": ""
            },
            "type": "mesh3d"
           }
          ],
          "parcoords": [
           {
            "line": {
             "colorbar": {
              "outlinewidth": 0,
              "ticks": ""
             }
            },
            "type": "parcoords"
           }
          ],
          "pie": [
           {
            "automargin": true,
            "type": "pie"
           }
          ],
          "scatter": [
           {
            "marker": {
             "colorbar": {
              "outlinewidth": 0,
              "ticks": ""
             }
            },
            "type": "scatter"
           }
          ],
          "scatter3d": [
           {
            "line": {
             "colorbar": {
              "outlinewidth": 0,
              "ticks": ""
             }
            },
            "marker": {
             "colorbar": {
              "outlinewidth": 0,
              "ticks": ""
             }
            },
            "type": "scatter3d"
           }
          ],
          "scattercarpet": [
           {
            "marker": {
             "colorbar": {
              "outlinewidth": 0,
              "ticks": ""
             }
            },
            "type": "scattercarpet"
           }
          ],
          "scattergeo": [
           {
            "marker": {
             "colorbar": {
              "outlinewidth": 0,
              "ticks": ""
             }
            },
            "type": "scattergeo"
           }
          ],
          "scattergl": [
           {
            "marker": {
             "colorbar": {
              "outlinewidth": 0,
              "ticks": ""
             }
            },
            "type": "scattergl"
           }
          ],
          "scattermapbox": [
           {
            "marker": {
             "colorbar": {
              "outlinewidth": 0,
              "ticks": ""
             }
            },
            "type": "scattermapbox"
           }
          ],
          "scatterpolar": [
           {
            "marker": {
             "colorbar": {
              "outlinewidth": 0,
              "ticks": ""
             }
            },
            "type": "scatterpolar"
           }
          ],
          "scatterpolargl": [
           {
            "marker": {
             "colorbar": {
              "outlinewidth": 0,
              "ticks": ""
             }
            },
            "type": "scatterpolargl"
           }
          ],
          "scatterternary": [
           {
            "marker": {
             "colorbar": {
              "outlinewidth": 0,
              "ticks": ""
             }
            },
            "type": "scatterternary"
           }
          ],
          "surface": [
           {
            "colorbar": {
             "outlinewidth": 0,
             "ticks": ""
            },
            "colorscale": [
             [
              0,
              "#0d0887"
             ],
             [
              0.1111111111111111,
              "#46039f"
             ],
             [
              0.2222222222222222,
              "#7201a8"
             ],
             [
              0.3333333333333333,
              "#9c179e"
             ],
             [
              0.4444444444444444,
              "#bd3786"
             ],
             [
              0.5555555555555556,
              "#d8576b"
             ],
             [
              0.6666666666666666,
              "#ed7953"
             ],
             [
              0.7777777777777778,
              "#fb9f3a"
             ],
             [
              0.8888888888888888,
              "#fdca26"
             ],
             [
              1,
              "#f0f921"
             ]
            ],
            "type": "surface"
           }
          ],
          "table": [
           {
            "cells": {
             "fill": {
              "color": "#EBF0F8"
             },
             "line": {
              "color": "white"
             }
            },
            "header": {
             "fill": {
              "color": "#C8D4E3"
             },
             "line": {
              "color": "white"
             }
            },
            "type": "table"
           }
          ]
         },
         "layout": {
          "annotationdefaults": {
           "arrowcolor": "#2a3f5f",
           "arrowhead": 0,
           "arrowwidth": 1
          },
          "coloraxis": {
           "colorbar": {
            "outlinewidth": 0,
            "ticks": ""
           }
          },
          "colorscale": {
           "diverging": [
            [
             0,
             "#8e0152"
            ],
            [
             0.1,
             "#c51b7d"
            ],
            [
             0.2,
             "#de77ae"
            ],
            [
             0.3,
             "#f1b6da"
            ],
            [
             0.4,
             "#fde0ef"
            ],
            [
             0.5,
             "#f7f7f7"
            ],
            [
             0.6,
             "#e6f5d0"
            ],
            [
             0.7,
             "#b8e186"
            ],
            [
             0.8,
             "#7fbc41"
            ],
            [
             0.9,
             "#4d9221"
            ],
            [
             1,
             "#276419"
            ]
           ],
           "sequential": [
            [
             0,
             "#0d0887"
            ],
            [
             0.1111111111111111,
             "#46039f"
            ],
            [
             0.2222222222222222,
             "#7201a8"
            ],
            [
             0.3333333333333333,
             "#9c179e"
            ],
            [
             0.4444444444444444,
             "#bd3786"
            ],
            [
             0.5555555555555556,
             "#d8576b"
            ],
            [
             0.6666666666666666,
             "#ed7953"
            ],
            [
             0.7777777777777778,
             "#fb9f3a"
            ],
            [
             0.8888888888888888,
             "#fdca26"
            ],
            [
             1,
             "#f0f921"
            ]
           ],
           "sequentialminus": [
            [
             0,
             "#0d0887"
            ],
            [
             0.1111111111111111,
             "#46039f"
            ],
            [
             0.2222222222222222,
             "#7201a8"
            ],
            [
             0.3333333333333333,
             "#9c179e"
            ],
            [
             0.4444444444444444,
             "#bd3786"
            ],
            [
             0.5555555555555556,
             "#d8576b"
            ],
            [
             0.6666666666666666,
             "#ed7953"
            ],
            [
             0.7777777777777778,
             "#fb9f3a"
            ],
            [
             0.8888888888888888,
             "#fdca26"
            ],
            [
             1,
             "#f0f921"
            ]
           ]
          },
          "colorway": [
           "#636efa",
           "#EF553B",
           "#00cc96",
           "#ab63fa",
           "#FFA15A",
           "#19d3f3",
           "#FF6692",
           "#B6E880",
           "#FF97FF",
           "#FECB52"
          ],
          "font": {
           "color": "#2a3f5f"
          },
          "geo": {
           "bgcolor": "white",
           "lakecolor": "white",
           "landcolor": "#E5ECF6",
           "showlakes": true,
           "showland": true,
           "subunitcolor": "white"
          },
          "hoverlabel": {
           "align": "left"
          },
          "hovermode": "closest",
          "mapbox": {
           "style": "light"
          },
          "paper_bgcolor": "white",
          "plot_bgcolor": "#E5ECF6",
          "polar": {
           "angularaxis": {
            "gridcolor": "white",
            "linecolor": "white",
            "ticks": ""
           },
           "bgcolor": "#E5ECF6",
           "radialaxis": {
            "gridcolor": "white",
            "linecolor": "white",
            "ticks": ""
           }
          },
          "scene": {
           "xaxis": {
            "backgroundcolor": "#E5ECF6",
            "gridcolor": "white",
            "gridwidth": 2,
            "linecolor": "white",
            "showbackground": true,
            "ticks": "",
            "zerolinecolor": "white"
           },
           "yaxis": {
            "backgroundcolor": "#E5ECF6",
            "gridcolor": "white",
            "gridwidth": 2,
            "linecolor": "white",
            "showbackground": true,
            "ticks": "",
            "zerolinecolor": "white"
           },
           "zaxis": {
            "backgroundcolor": "#E5ECF6",
            "gridcolor": "white",
            "gridwidth": 2,
            "linecolor": "white",
            "showbackground": true,
            "ticks": "",
            "zerolinecolor": "white"
           }
          },
          "shapedefaults": {
           "line": {
            "color": "#2a3f5f"
           }
          },
          "ternary": {
           "aaxis": {
            "gridcolor": "white",
            "linecolor": "white",
            "ticks": ""
           },
           "baxis": {
            "gridcolor": "white",
            "linecolor": "white",
            "ticks": ""
           },
           "bgcolor": "#E5ECF6",
           "caxis": {
            "gridcolor": "white",
            "linecolor": "white",
            "ticks": ""
           }
          },
          "title": {
           "x": 0.05
          },
          "xaxis": {
           "automargin": true,
           "gridcolor": "white",
           "linecolor": "white",
           "ticks": "",
           "title": {
            "standoff": 15
           },
           "zerolinecolor": "white",
           "zerolinewidth": 2
          },
          "yaxis": {
           "automargin": true,
           "gridcolor": "white",
           "linecolor": "white",
           "ticks": "",
           "title": {
            "standoff": 15
           },
           "zerolinecolor": "white",
           "zerolinewidth": 2
          }
         }
        }
       }
      },
      "text/html": [
       "<div>\n",
       "        \n",
       "        \n",
       "            <div id=\"d0262f1b-7ac8-49b6-adef-bacd238d3ce5\" class=\"plotly-graph-div\" style=\"height:525px; width:100%;\"></div>\n",
       "            <script type=\"text/javascript\">\n",
       "                require([\"plotly\"], function(Plotly) {\n",
       "                    window.PLOTLYENV=window.PLOTLYENV || {};\n",
       "                    \n",
       "                if (document.getElementById(\"d0262f1b-7ac8-49b6-adef-bacd238d3ce5\")) {\n",
       "                    Plotly.newPlot(\n",
       "                        'd0262f1b-7ac8-49b6-adef-bacd238d3ce5',\n",
       "                        [{\"type\": \"heatmap\", \"z\": [[1.0, 1.0, 1.0, 1.0, 1.0, 1.0, 1.0, 1.0, 1.0, 1.0], [1.0, 1.0, 1.0, 1.0, 1.0, 1.0, 1.0, 1.0, 1.0, 1.0], [1.0, 1.0, 1.0, 1.0, 1.0, 1.0, 1.0, 1.0, 1.0, 1.0], [1.0, 1.0, 1.0, 1.0, 1.0, 1.0, 1.0, 1.0, 1.0, 1.0], [1.0, 1.0, 1.0, 1.0, 1.0, 1.0, 1.0, 1.0, 1.0, 1.0], [1.0, 1.0, 1.0, 1.0, 1.0, 1.0, 1.0, 1.0, 1.0, 1.0], [1.0, 1.0, 1.0, 1.0, 1.0, 1.0, 1.0, 1.0, 1.0, 1.0], [1.0, 1.0, 1.0, 1.0, 1.0, 1.0, 1.0, 1.0, 1.0, 1.0], [1.0, 1.0, 1.0, 1.0, 1.0, 1.0, 1.0, 1.0, 1.0, 1.0], [1.0, 1.0, 1.0, 1.0, 1.0, 1.0, 1.0, 1.0, 1.0, 0.0]], \"zmax\": 1, \"zmin\": 0}],\n",
       "                        {\"template\": {\"data\": {\"bar\": [{\"error_x\": {\"color\": \"#2a3f5f\"}, \"error_y\": {\"color\": \"#2a3f5f\"}, \"marker\": {\"line\": {\"color\": \"#E5ECF6\", \"width\": 0.5}}, \"type\": \"bar\"}], \"barpolar\": [{\"marker\": {\"line\": {\"color\": \"#E5ECF6\", \"width\": 0.5}}, \"type\": \"barpolar\"}], \"carpet\": [{\"aaxis\": {\"endlinecolor\": \"#2a3f5f\", \"gridcolor\": \"white\", \"linecolor\": \"white\", \"minorgridcolor\": \"white\", \"startlinecolor\": \"#2a3f5f\"}, \"baxis\": {\"endlinecolor\": \"#2a3f5f\", \"gridcolor\": \"white\", \"linecolor\": \"white\", \"minorgridcolor\": \"white\", \"startlinecolor\": \"#2a3f5f\"}, \"type\": \"carpet\"}], \"choropleth\": [{\"colorbar\": {\"outlinewidth\": 0, \"ticks\": \"\"}, \"type\": \"choropleth\"}], \"contour\": [{\"colorbar\": {\"outlinewidth\": 0, \"ticks\": \"\"}, \"colorscale\": [[0.0, \"#0d0887\"], [0.1111111111111111, \"#46039f\"], [0.2222222222222222, \"#7201a8\"], [0.3333333333333333, \"#9c179e\"], [0.4444444444444444, \"#bd3786\"], [0.5555555555555556, \"#d8576b\"], [0.6666666666666666, \"#ed7953\"], [0.7777777777777778, \"#fb9f3a\"], [0.8888888888888888, \"#fdca26\"], [1.0, \"#f0f921\"]], \"type\": \"contour\"}], \"contourcarpet\": [{\"colorbar\": {\"outlinewidth\": 0, \"ticks\": \"\"}, \"type\": \"contourcarpet\"}], \"heatmap\": [{\"colorbar\": {\"outlinewidth\": 0, \"ticks\": \"\"}, \"colorscale\": [[0.0, \"#0d0887\"], [0.1111111111111111, \"#46039f\"], [0.2222222222222222, \"#7201a8\"], [0.3333333333333333, \"#9c179e\"], [0.4444444444444444, \"#bd3786\"], [0.5555555555555556, \"#d8576b\"], [0.6666666666666666, \"#ed7953\"], [0.7777777777777778, \"#fb9f3a\"], [0.8888888888888888, \"#fdca26\"], [1.0, \"#f0f921\"]], \"type\": \"heatmap\"}], \"heatmapgl\": [{\"colorbar\": {\"outlinewidth\": 0, \"ticks\": \"\"}, \"colorscale\": [[0.0, \"#0d0887\"], [0.1111111111111111, \"#46039f\"], [0.2222222222222222, \"#7201a8\"], [0.3333333333333333, \"#9c179e\"], [0.4444444444444444, \"#bd3786\"], [0.5555555555555556, \"#d8576b\"], [0.6666666666666666, \"#ed7953\"], [0.7777777777777778, \"#fb9f3a\"], [0.8888888888888888, \"#fdca26\"], [1.0, \"#f0f921\"]], \"type\": \"heatmapgl\"}], \"histogram\": [{\"marker\": {\"colorbar\": {\"outlinewidth\": 0, \"ticks\": \"\"}}, \"type\": \"histogram\"}], \"histogram2d\": [{\"colorbar\": {\"outlinewidth\": 0, \"ticks\": \"\"}, \"colorscale\": [[0.0, \"#0d0887\"], [0.1111111111111111, \"#46039f\"], [0.2222222222222222, \"#7201a8\"], [0.3333333333333333, \"#9c179e\"], [0.4444444444444444, \"#bd3786\"], [0.5555555555555556, \"#d8576b\"], [0.6666666666666666, \"#ed7953\"], [0.7777777777777778, \"#fb9f3a\"], [0.8888888888888888, \"#fdca26\"], [1.0, \"#f0f921\"]], \"type\": \"histogram2d\"}], \"histogram2dcontour\": [{\"colorbar\": {\"outlinewidth\": 0, \"ticks\": \"\"}, \"colorscale\": [[0.0, \"#0d0887\"], [0.1111111111111111, \"#46039f\"], [0.2222222222222222, \"#7201a8\"], [0.3333333333333333, \"#9c179e\"], [0.4444444444444444, \"#bd3786\"], [0.5555555555555556, \"#d8576b\"], [0.6666666666666666, \"#ed7953\"], [0.7777777777777778, \"#fb9f3a\"], [0.8888888888888888, \"#fdca26\"], [1.0, \"#f0f921\"]], \"type\": \"histogram2dcontour\"}], \"mesh3d\": [{\"colorbar\": {\"outlinewidth\": 0, \"ticks\": \"\"}, \"type\": \"mesh3d\"}], \"parcoords\": [{\"line\": {\"colorbar\": {\"outlinewidth\": 0, \"ticks\": \"\"}}, \"type\": \"parcoords\"}], \"pie\": [{\"automargin\": true, \"type\": \"pie\"}], \"scatter\": [{\"marker\": {\"colorbar\": {\"outlinewidth\": 0, \"ticks\": \"\"}}, \"type\": \"scatter\"}], \"scatter3d\": [{\"line\": {\"colorbar\": {\"outlinewidth\": 0, \"ticks\": \"\"}}, \"marker\": {\"colorbar\": {\"outlinewidth\": 0, \"ticks\": \"\"}}, \"type\": \"scatter3d\"}], \"scattercarpet\": [{\"marker\": {\"colorbar\": {\"outlinewidth\": 0, \"ticks\": \"\"}}, \"type\": \"scattercarpet\"}], \"scattergeo\": [{\"marker\": {\"colorbar\": {\"outlinewidth\": 0, \"ticks\": \"\"}}, \"type\": \"scattergeo\"}], \"scattergl\": [{\"marker\": {\"colorbar\": {\"outlinewidth\": 0, \"ticks\": \"\"}}, \"type\": \"scattergl\"}], \"scattermapbox\": [{\"marker\": {\"colorbar\": {\"outlinewidth\": 0, \"ticks\": \"\"}}, \"type\": \"scattermapbox\"}], \"scatterpolar\": [{\"marker\": {\"colorbar\": {\"outlinewidth\": 0, \"ticks\": \"\"}}, \"type\": \"scatterpolar\"}], \"scatterpolargl\": [{\"marker\": {\"colorbar\": {\"outlinewidth\": 0, \"ticks\": \"\"}}, \"type\": \"scatterpolargl\"}], \"scatterternary\": [{\"marker\": {\"colorbar\": {\"outlinewidth\": 0, \"ticks\": \"\"}}, \"type\": \"scatterternary\"}], \"surface\": [{\"colorbar\": {\"outlinewidth\": 0, \"ticks\": \"\"}, \"colorscale\": [[0.0, \"#0d0887\"], [0.1111111111111111, \"#46039f\"], [0.2222222222222222, \"#7201a8\"], [0.3333333333333333, \"#9c179e\"], [0.4444444444444444, \"#bd3786\"], [0.5555555555555556, \"#d8576b\"], [0.6666666666666666, \"#ed7953\"], [0.7777777777777778, \"#fb9f3a\"], [0.8888888888888888, \"#fdca26\"], [1.0, \"#f0f921\"]], \"type\": \"surface\"}], \"table\": [{\"cells\": {\"fill\": {\"color\": \"#EBF0F8\"}, \"line\": {\"color\": \"white\"}}, \"header\": {\"fill\": {\"color\": \"#C8D4E3\"}, \"line\": {\"color\": \"white\"}}, \"type\": \"table\"}]}, \"layout\": {\"annotationdefaults\": {\"arrowcolor\": \"#2a3f5f\", \"arrowhead\": 0, \"arrowwidth\": 1}, \"coloraxis\": {\"colorbar\": {\"outlinewidth\": 0, \"ticks\": \"\"}}, \"colorscale\": {\"diverging\": [[0, \"#8e0152\"], [0.1, \"#c51b7d\"], [0.2, \"#de77ae\"], [0.3, \"#f1b6da\"], [0.4, \"#fde0ef\"], [0.5, \"#f7f7f7\"], [0.6, \"#e6f5d0\"], [0.7, \"#b8e186\"], [0.8, \"#7fbc41\"], [0.9, \"#4d9221\"], [1, \"#276419\"]], \"sequential\": [[0.0, \"#0d0887\"], [0.1111111111111111, \"#46039f\"], [0.2222222222222222, \"#7201a8\"], [0.3333333333333333, \"#9c179e\"], [0.4444444444444444, \"#bd3786\"], [0.5555555555555556, \"#d8576b\"], [0.6666666666666666, \"#ed7953\"], [0.7777777777777778, \"#fb9f3a\"], [0.8888888888888888, \"#fdca26\"], [1.0, \"#f0f921\"]], \"sequentialminus\": [[0.0, \"#0d0887\"], [0.1111111111111111, \"#46039f\"], [0.2222222222222222, \"#7201a8\"], [0.3333333333333333, \"#9c179e\"], [0.4444444444444444, \"#bd3786\"], [0.5555555555555556, \"#d8576b\"], [0.6666666666666666, \"#ed7953\"], [0.7777777777777778, \"#fb9f3a\"], [0.8888888888888888, \"#fdca26\"], [1.0, \"#f0f921\"]]}, \"colorway\": [\"#636efa\", \"#EF553B\", \"#00cc96\", \"#ab63fa\", \"#FFA15A\", \"#19d3f3\", \"#FF6692\", \"#B6E880\", \"#FF97FF\", \"#FECB52\"], \"font\": {\"color\": \"#2a3f5f\"}, \"geo\": {\"bgcolor\": \"white\", \"lakecolor\": \"white\", \"landcolor\": \"#E5ECF6\", \"showlakes\": true, \"showland\": true, \"subunitcolor\": \"white\"}, \"hoverlabel\": {\"align\": \"left\"}, \"hovermode\": \"closest\", \"mapbox\": {\"style\": \"light\"}, \"paper_bgcolor\": \"white\", \"plot_bgcolor\": \"#E5ECF6\", \"polar\": {\"angularaxis\": {\"gridcolor\": \"white\", \"linecolor\": \"white\", \"ticks\": \"\"}, \"bgcolor\": \"#E5ECF6\", \"radialaxis\": {\"gridcolor\": \"white\", \"linecolor\": \"white\", \"ticks\": \"\"}}, \"scene\": {\"xaxis\": {\"backgroundcolor\": \"#E5ECF6\", \"gridcolor\": \"white\", \"gridwidth\": 2, \"linecolor\": \"white\", \"showbackground\": true, \"ticks\": \"\", \"zerolinecolor\": \"white\"}, \"yaxis\": {\"backgroundcolor\": \"#E5ECF6\", \"gridcolor\": \"white\", \"gridwidth\": 2, \"linecolor\": \"white\", \"showbackground\": true, \"ticks\": \"\", \"zerolinecolor\": \"white\"}, \"zaxis\": {\"backgroundcolor\": \"#E5ECF6\", \"gridcolor\": \"white\", \"gridwidth\": 2, \"linecolor\": \"white\", \"showbackground\": true, \"ticks\": \"\", \"zerolinecolor\": \"white\"}}, \"shapedefaults\": {\"line\": {\"color\": \"#2a3f5f\"}}, \"ternary\": {\"aaxis\": {\"gridcolor\": \"white\", \"linecolor\": \"white\", \"ticks\": \"\"}, \"baxis\": {\"gridcolor\": \"white\", \"linecolor\": \"white\", \"ticks\": \"\"}, \"bgcolor\": \"#E5ECF6\", \"caxis\": {\"gridcolor\": \"white\", \"linecolor\": \"white\", \"ticks\": \"\"}}, \"title\": {\"x\": 0.05}, \"xaxis\": {\"automargin\": true, \"gridcolor\": \"white\", \"linecolor\": \"white\", \"ticks\": \"\", \"title\": {\"standoff\": 15}, \"zerolinecolor\": \"white\", \"zerolinewidth\": 2}, \"yaxis\": {\"automargin\": true, \"gridcolor\": \"white\", \"linecolor\": \"white\", \"ticks\": \"\", \"title\": {\"standoff\": 15}, \"zerolinecolor\": \"white\", \"zerolinewidth\": 2}}}},\n",
       "                        {\"responsive\": true}\n",
       "                    ).then(function(){\n",
       "                            \n",
       "var gd = document.getElementById('d0262f1b-7ac8-49b6-adef-bacd238d3ce5');\n",
       "var x = new MutationObserver(function (mutations, observer) {{\n",
       "        var display = window.getComputedStyle(gd).display;\n",
       "        if (!display || display === 'none') {{\n",
       "            console.log([gd, 'removed!']);\n",
       "            Plotly.purge(gd);\n",
       "            observer.disconnect();\n",
       "        }}\n",
       "}});\n",
       "\n",
       "// Listen for the removal of the full notebook cells\n",
       "var notebookContainer = gd.closest('#notebook-container');\n",
       "if (notebookContainer) {{\n",
       "    x.observe(notebookContainer, {childList: true});\n",
       "}}\n",
       "\n",
       "// Listen for the clearing of the current output cell\n",
       "var outputEl = gd.closest('.output');\n",
       "if (outputEl) {{\n",
       "    x.observe(outputEl, {childList: true});\n",
       "}}\n",
       "\n",
       "                        })\n",
       "                };\n",
       "                });\n",
       "            </script>\n",
       "        </div>"
      ]
     },
     "metadata": {},
     "output_type": "display_data"
    },
    {
     "name": "stdout",
     "output_type": "stream",
     "text": [
      "Adversarial\n"
     ]
    },
    {
     "data": {
      "application/vnd.plotly.v1+json": {
       "config": {
        "plotlyServerURL": "https://plot.ly"
       },
       "data": [
        {
         "type": "heatmap",
         "z": [
          [
           1,
           1,
           1,
           1,
           1,
           1,
           1,
           1,
           1,
           1
          ],
          [
           1,
           1,
           1,
           1,
           1,
           1,
           1,
           1,
           1,
           1
          ],
          [
           1,
           1,
           1,
           1,
           1,
           1,
           1,
           1,
           1,
           1
          ],
          [
           1,
           1,
           1,
           1,
           1,
           1,
           1,
           1,
           1,
           1
          ],
          [
           1,
           1,
           1,
           1,
           1,
           1,
           1,
           0,
           1,
           1
          ],
          [
           1,
           1,
           1,
           1,
           1,
           1,
           1,
           1,
           1,
           1
          ],
          [
           1,
           1,
           1,
           1,
           1,
           1,
           1,
           1,
           1,
           0
          ],
          [
           1,
           1,
           1,
           1,
           1,
           1,
           1,
           1,
           1,
           1
          ],
          [
           1,
           1,
           1,
           1,
           1,
           1,
           1,
           1,
           1,
           1
          ],
          [
           1,
           1,
           1,
           0,
           1,
           1,
           1,
           1,
           1,
           1
          ]
         ],
         "zmax": 1,
         "zmin": 0
        }
       ],
       "layout": {
        "template": {
         "data": {
          "bar": [
           {
            "error_x": {
             "color": "#2a3f5f"
            },
            "error_y": {
             "color": "#2a3f5f"
            },
            "marker": {
             "line": {
              "color": "#E5ECF6",
              "width": 0.5
             }
            },
            "type": "bar"
           }
          ],
          "barpolar": [
           {
            "marker": {
             "line": {
              "color": "#E5ECF6",
              "width": 0.5
             }
            },
            "type": "barpolar"
           }
          ],
          "carpet": [
           {
            "aaxis": {
             "endlinecolor": "#2a3f5f",
             "gridcolor": "white",
             "linecolor": "white",
             "minorgridcolor": "white",
             "startlinecolor": "#2a3f5f"
            },
            "baxis": {
             "endlinecolor": "#2a3f5f",
             "gridcolor": "white",
             "linecolor": "white",
             "minorgridcolor": "white",
             "startlinecolor": "#2a3f5f"
            },
            "type": "carpet"
           }
          ],
          "choropleth": [
           {
            "colorbar": {
             "outlinewidth": 0,
             "ticks": ""
            },
            "type": "choropleth"
           }
          ],
          "contour": [
           {
            "colorbar": {
             "outlinewidth": 0,
             "ticks": ""
            },
            "colorscale": [
             [
              0,
              "#0d0887"
             ],
             [
              0.1111111111111111,
              "#46039f"
             ],
             [
              0.2222222222222222,
              "#7201a8"
             ],
             [
              0.3333333333333333,
              "#9c179e"
             ],
             [
              0.4444444444444444,
              "#bd3786"
             ],
             [
              0.5555555555555556,
              "#d8576b"
             ],
             [
              0.6666666666666666,
              "#ed7953"
             ],
             [
              0.7777777777777778,
              "#fb9f3a"
             ],
             [
              0.8888888888888888,
              "#fdca26"
             ],
             [
              1,
              "#f0f921"
             ]
            ],
            "type": "contour"
           }
          ],
          "contourcarpet": [
           {
            "colorbar": {
             "outlinewidth": 0,
             "ticks": ""
            },
            "type": "contourcarpet"
           }
          ],
          "heatmap": [
           {
            "colorbar": {
             "outlinewidth": 0,
             "ticks": ""
            },
            "colorscale": [
             [
              0,
              "#0d0887"
             ],
             [
              0.1111111111111111,
              "#46039f"
             ],
             [
              0.2222222222222222,
              "#7201a8"
             ],
             [
              0.3333333333333333,
              "#9c179e"
             ],
             [
              0.4444444444444444,
              "#bd3786"
             ],
             [
              0.5555555555555556,
              "#d8576b"
             ],
             [
              0.6666666666666666,
              "#ed7953"
             ],
             [
              0.7777777777777778,
              "#fb9f3a"
             ],
             [
              0.8888888888888888,
              "#fdca26"
             ],
             [
              1,
              "#f0f921"
             ]
            ],
            "type": "heatmap"
           }
          ],
          "heatmapgl": [
           {
            "colorbar": {
             "outlinewidth": 0,
             "ticks": ""
            },
            "colorscale": [
             [
              0,
              "#0d0887"
             ],
             [
              0.1111111111111111,
              "#46039f"
             ],
             [
              0.2222222222222222,
              "#7201a8"
             ],
             [
              0.3333333333333333,
              "#9c179e"
             ],
             [
              0.4444444444444444,
              "#bd3786"
             ],
             [
              0.5555555555555556,
              "#d8576b"
             ],
             [
              0.6666666666666666,
              "#ed7953"
             ],
             [
              0.7777777777777778,
              "#fb9f3a"
             ],
             [
              0.8888888888888888,
              "#fdca26"
             ],
             [
              1,
              "#f0f921"
             ]
            ],
            "type": "heatmapgl"
           }
          ],
          "histogram": [
           {
            "marker": {
             "colorbar": {
              "outlinewidth": 0,
              "ticks": ""
             }
            },
            "type": "histogram"
           }
          ],
          "histogram2d": [
           {
            "colorbar": {
             "outlinewidth": 0,
             "ticks": ""
            },
            "colorscale": [
             [
              0,
              "#0d0887"
             ],
             [
              0.1111111111111111,
              "#46039f"
             ],
             [
              0.2222222222222222,
              "#7201a8"
             ],
             [
              0.3333333333333333,
              "#9c179e"
             ],
             [
              0.4444444444444444,
              "#bd3786"
             ],
             [
              0.5555555555555556,
              "#d8576b"
             ],
             [
              0.6666666666666666,
              "#ed7953"
             ],
             [
              0.7777777777777778,
              "#fb9f3a"
             ],
             [
              0.8888888888888888,
              "#fdca26"
             ],
             [
              1,
              "#f0f921"
             ]
            ],
            "type": "histogram2d"
           }
          ],
          "histogram2dcontour": [
           {
            "colorbar": {
             "outlinewidth": 0,
             "ticks": ""
            },
            "colorscale": [
             [
              0,
              "#0d0887"
             ],
             [
              0.1111111111111111,
              "#46039f"
             ],
             [
              0.2222222222222222,
              "#7201a8"
             ],
             [
              0.3333333333333333,
              "#9c179e"
             ],
             [
              0.4444444444444444,
              "#bd3786"
             ],
             [
              0.5555555555555556,
              "#d8576b"
             ],
             [
              0.6666666666666666,
              "#ed7953"
             ],
             [
              0.7777777777777778,
              "#fb9f3a"
             ],
             [
              0.8888888888888888,
              "#fdca26"
             ],
             [
              1,
              "#f0f921"
             ]
            ],
            "type": "histogram2dcontour"
           }
          ],
          "mesh3d": [
           {
            "colorbar": {
             "outlinewidth": 0,
             "ticks": ""
            },
            "type": "mesh3d"
           }
          ],
          "parcoords": [
           {
            "line": {
             "colorbar": {
              "outlinewidth": 0,
              "ticks": ""
             }
            },
            "type": "parcoords"
           }
          ],
          "pie": [
           {
            "automargin": true,
            "type": "pie"
           }
          ],
          "scatter": [
           {
            "marker": {
             "colorbar": {
              "outlinewidth": 0,
              "ticks": ""
             }
            },
            "type": "scatter"
           }
          ],
          "scatter3d": [
           {
            "line": {
             "colorbar": {
              "outlinewidth": 0,
              "ticks": ""
             }
            },
            "marker": {
             "colorbar": {
              "outlinewidth": 0,
              "ticks": ""
             }
            },
            "type": "scatter3d"
           }
          ],
          "scattercarpet": [
           {
            "marker": {
             "colorbar": {
              "outlinewidth": 0,
              "ticks": ""
             }
            },
            "type": "scattercarpet"
           }
          ],
          "scattergeo": [
           {
            "marker": {
             "colorbar": {
              "outlinewidth": 0,
              "ticks": ""
             }
            },
            "type": "scattergeo"
           }
          ],
          "scattergl": [
           {
            "marker": {
             "colorbar": {
              "outlinewidth": 0,
              "ticks": ""
             }
            },
            "type": "scattergl"
           }
          ],
          "scattermapbox": [
           {
            "marker": {
             "colorbar": {
              "outlinewidth": 0,
              "ticks": ""
             }
            },
            "type": "scattermapbox"
           }
          ],
          "scatterpolar": [
           {
            "marker": {
             "colorbar": {
              "outlinewidth": 0,
              "ticks": ""
             }
            },
            "type": "scatterpolar"
           }
          ],
          "scatterpolargl": [
           {
            "marker": {
             "colorbar": {
              "outlinewidth": 0,
              "ticks": ""
             }
            },
            "type": "scatterpolargl"
           }
          ],
          "scatterternary": [
           {
            "marker": {
             "colorbar": {
              "outlinewidth": 0,
              "ticks": ""
             }
            },
            "type": "scatterternary"
           }
          ],
          "surface": [
           {
            "colorbar": {
             "outlinewidth": 0,
             "ticks": ""
            },
            "colorscale": [
             [
              0,
              "#0d0887"
             ],
             [
              0.1111111111111111,
              "#46039f"
             ],
             [
              0.2222222222222222,
              "#7201a8"
             ],
             [
              0.3333333333333333,
              "#9c179e"
             ],
             [
              0.4444444444444444,
              "#bd3786"
             ],
             [
              0.5555555555555556,
              "#d8576b"
             ],
             [
              0.6666666666666666,
              "#ed7953"
             ],
             [
              0.7777777777777778,
              "#fb9f3a"
             ],
             [
              0.8888888888888888,
              "#fdca26"
             ],
             [
              1,
              "#f0f921"
             ]
            ],
            "type": "surface"
           }
          ],
          "table": [
           {
            "cells": {
             "fill": {
              "color": "#EBF0F8"
             },
             "line": {
              "color": "white"
             }
            },
            "header": {
             "fill": {
              "color": "#C8D4E3"
             },
             "line": {
              "color": "white"
             }
            },
            "type": "table"
           }
          ]
         },
         "layout": {
          "annotationdefaults": {
           "arrowcolor": "#2a3f5f",
           "arrowhead": 0,
           "arrowwidth": 1
          },
          "coloraxis": {
           "colorbar": {
            "outlinewidth": 0,
            "ticks": ""
           }
          },
          "colorscale": {
           "diverging": [
            [
             0,
             "#8e0152"
            ],
            [
             0.1,
             "#c51b7d"
            ],
            [
             0.2,
             "#de77ae"
            ],
            [
             0.3,
             "#f1b6da"
            ],
            [
             0.4,
             "#fde0ef"
            ],
            [
             0.5,
             "#f7f7f7"
            ],
            [
             0.6,
             "#e6f5d0"
            ],
            [
             0.7,
             "#b8e186"
            ],
            [
             0.8,
             "#7fbc41"
            ],
            [
             0.9,
             "#4d9221"
            ],
            [
             1,
             "#276419"
            ]
           ],
           "sequential": [
            [
             0,
             "#0d0887"
            ],
            [
             0.1111111111111111,
             "#46039f"
            ],
            [
             0.2222222222222222,
             "#7201a8"
            ],
            [
             0.3333333333333333,
             "#9c179e"
            ],
            [
             0.4444444444444444,
             "#bd3786"
            ],
            [
             0.5555555555555556,
             "#d8576b"
            ],
            [
             0.6666666666666666,
             "#ed7953"
            ],
            [
             0.7777777777777778,
             "#fb9f3a"
            ],
            [
             0.8888888888888888,
             "#fdca26"
            ],
            [
             1,
             "#f0f921"
            ]
           ],
           "sequentialminus": [
            [
             0,
             "#0d0887"
            ],
            [
             0.1111111111111111,
             "#46039f"
            ],
            [
             0.2222222222222222,
             "#7201a8"
            ],
            [
             0.3333333333333333,
             "#9c179e"
            ],
            [
             0.4444444444444444,
             "#bd3786"
            ],
            [
             0.5555555555555556,
             "#d8576b"
            ],
            [
             0.6666666666666666,
             "#ed7953"
            ],
            [
             0.7777777777777778,
             "#fb9f3a"
            ],
            [
             0.8888888888888888,
             "#fdca26"
            ],
            [
             1,
             "#f0f921"
            ]
           ]
          },
          "colorway": [
           "#636efa",
           "#EF553B",
           "#00cc96",
           "#ab63fa",
           "#FFA15A",
           "#19d3f3",
           "#FF6692",
           "#B6E880",
           "#FF97FF",
           "#FECB52"
          ],
          "font": {
           "color": "#2a3f5f"
          },
          "geo": {
           "bgcolor": "white",
           "lakecolor": "white",
           "landcolor": "#E5ECF6",
           "showlakes": true,
           "showland": true,
           "subunitcolor": "white"
          },
          "hoverlabel": {
           "align": "left"
          },
          "hovermode": "closest",
          "mapbox": {
           "style": "light"
          },
          "paper_bgcolor": "white",
          "plot_bgcolor": "#E5ECF6",
          "polar": {
           "angularaxis": {
            "gridcolor": "white",
            "linecolor": "white",
            "ticks": ""
           },
           "bgcolor": "#E5ECF6",
           "radialaxis": {
            "gridcolor": "white",
            "linecolor": "white",
            "ticks": ""
           }
          },
          "scene": {
           "xaxis": {
            "backgroundcolor": "#E5ECF6",
            "gridcolor": "white",
            "gridwidth": 2,
            "linecolor": "white",
            "showbackground": true,
            "ticks": "",
            "zerolinecolor": "white"
           },
           "yaxis": {
            "backgroundcolor": "#E5ECF6",
            "gridcolor": "white",
            "gridwidth": 2,
            "linecolor": "white",
            "showbackground": true,
            "ticks": "",
            "zerolinecolor": "white"
           },
           "zaxis": {
            "backgroundcolor": "#E5ECF6",
            "gridcolor": "white",
            "gridwidth": 2,
            "linecolor": "white",
            "showbackground": true,
            "ticks": "",
            "zerolinecolor": "white"
           }
          },
          "shapedefaults": {
           "line": {
            "color": "#2a3f5f"
           }
          },
          "ternary": {
           "aaxis": {
            "gridcolor": "white",
            "linecolor": "white",
            "ticks": ""
           },
           "baxis": {
            "gridcolor": "white",
            "linecolor": "white",
            "ticks": ""
           },
           "bgcolor": "#E5ECF6",
           "caxis": {
            "gridcolor": "white",
            "linecolor": "white",
            "ticks": ""
           }
          },
          "title": {
           "x": 0.05
          },
          "xaxis": {
           "automargin": true,
           "gridcolor": "white",
           "linecolor": "white",
           "ticks": "",
           "title": {
            "standoff": 15
           },
           "zerolinecolor": "white",
           "zerolinewidth": 2
          },
          "yaxis": {
           "automargin": true,
           "gridcolor": "white",
           "linecolor": "white",
           "ticks": "",
           "title": {
            "standoff": 15
           },
           "zerolinecolor": "white",
           "zerolinewidth": 2
          }
         }
        }
       }
      },
      "text/html": [
       "<div>\n",
       "        \n",
       "        \n",
       "            <div id=\"ee84501a-ecc1-40db-8420-91d29878007a\" class=\"plotly-graph-div\" style=\"height:525px; width:100%;\"></div>\n",
       "            <script type=\"text/javascript\">\n",
       "                require([\"plotly\"], function(Plotly) {\n",
       "                    window.PLOTLYENV=window.PLOTLYENV || {};\n",
       "                    \n",
       "                if (document.getElementById(\"ee84501a-ecc1-40db-8420-91d29878007a\")) {\n",
       "                    Plotly.newPlot(\n",
       "                        'ee84501a-ecc1-40db-8420-91d29878007a',\n",
       "                        [{\"type\": \"heatmap\", \"z\": [[1.0, 1.0, 1.0, 1.0, 1.0, 1.0, 1.0, 1.0, 1.0, 1.0], [1.0, 1.0, 1.0, 1.0, 1.0, 1.0, 1.0, 1.0, 1.0, 1.0], [1.0, 1.0, 1.0, 1.0, 1.0, 1.0, 1.0, 1.0, 1.0, 1.0], [1.0, 1.0, 1.0, 1.0, 1.0, 1.0, 1.0, 1.0, 1.0, 1.0], [1.0, 1.0, 1.0, 1.0, 1.0, 1.0, 1.0, 0.0, 1.0, 1.0], [1.0, 1.0, 1.0, 1.0, 1.0, 1.0, 1.0, 1.0, 1.0, 1.0], [1.0, 1.0, 1.0, 1.0, 1.0, 1.0, 1.0, 1.0, 1.0, 0.0], [1.0, 1.0, 1.0, 1.0, 1.0, 1.0, 1.0, 1.0, 1.0, 1.0], [1.0, 1.0, 1.0, 1.0, 1.0, 1.0, 1.0, 1.0, 1.0, 1.0], [1.0, 1.0, 1.0, 0.0, 1.0, 1.0, 1.0, 1.0, 1.0, 1.0]], \"zmax\": 1, \"zmin\": 0}],\n",
       "                        {\"template\": {\"data\": {\"bar\": [{\"error_x\": {\"color\": \"#2a3f5f\"}, \"error_y\": {\"color\": \"#2a3f5f\"}, \"marker\": {\"line\": {\"color\": \"#E5ECF6\", \"width\": 0.5}}, \"type\": \"bar\"}], \"barpolar\": [{\"marker\": {\"line\": {\"color\": \"#E5ECF6\", \"width\": 0.5}}, \"type\": \"barpolar\"}], \"carpet\": [{\"aaxis\": {\"endlinecolor\": \"#2a3f5f\", \"gridcolor\": \"white\", \"linecolor\": \"white\", \"minorgridcolor\": \"white\", \"startlinecolor\": \"#2a3f5f\"}, \"baxis\": {\"endlinecolor\": \"#2a3f5f\", \"gridcolor\": \"white\", \"linecolor\": \"white\", \"minorgridcolor\": \"white\", \"startlinecolor\": \"#2a3f5f\"}, \"type\": \"carpet\"}], \"choropleth\": [{\"colorbar\": {\"outlinewidth\": 0, \"ticks\": \"\"}, \"type\": \"choropleth\"}], \"contour\": [{\"colorbar\": {\"outlinewidth\": 0, \"ticks\": \"\"}, \"colorscale\": [[0.0, \"#0d0887\"], [0.1111111111111111, \"#46039f\"], [0.2222222222222222, \"#7201a8\"], [0.3333333333333333, \"#9c179e\"], [0.4444444444444444, \"#bd3786\"], [0.5555555555555556, \"#d8576b\"], [0.6666666666666666, \"#ed7953\"], [0.7777777777777778, \"#fb9f3a\"], [0.8888888888888888, \"#fdca26\"], [1.0, \"#f0f921\"]], \"type\": \"contour\"}], \"contourcarpet\": [{\"colorbar\": {\"outlinewidth\": 0, \"ticks\": \"\"}, \"type\": \"contourcarpet\"}], \"heatmap\": [{\"colorbar\": {\"outlinewidth\": 0, \"ticks\": \"\"}, \"colorscale\": [[0.0, \"#0d0887\"], [0.1111111111111111, \"#46039f\"], [0.2222222222222222, \"#7201a8\"], [0.3333333333333333, \"#9c179e\"], [0.4444444444444444, \"#bd3786\"], [0.5555555555555556, \"#d8576b\"], [0.6666666666666666, \"#ed7953\"], [0.7777777777777778, \"#fb9f3a\"], [0.8888888888888888, \"#fdca26\"], [1.0, \"#f0f921\"]], \"type\": \"heatmap\"}], \"heatmapgl\": [{\"colorbar\": {\"outlinewidth\": 0, \"ticks\": \"\"}, \"colorscale\": [[0.0, \"#0d0887\"], [0.1111111111111111, \"#46039f\"], [0.2222222222222222, \"#7201a8\"], [0.3333333333333333, \"#9c179e\"], [0.4444444444444444, \"#bd3786\"], [0.5555555555555556, \"#d8576b\"], [0.6666666666666666, \"#ed7953\"], [0.7777777777777778, \"#fb9f3a\"], [0.8888888888888888, \"#fdca26\"], [1.0, \"#f0f921\"]], \"type\": \"heatmapgl\"}], \"histogram\": [{\"marker\": {\"colorbar\": {\"outlinewidth\": 0, \"ticks\": \"\"}}, \"type\": \"histogram\"}], \"histogram2d\": [{\"colorbar\": {\"outlinewidth\": 0, \"ticks\": \"\"}, \"colorscale\": [[0.0, \"#0d0887\"], [0.1111111111111111, \"#46039f\"], [0.2222222222222222, \"#7201a8\"], [0.3333333333333333, \"#9c179e\"], [0.4444444444444444, \"#bd3786\"], [0.5555555555555556, \"#d8576b\"], [0.6666666666666666, \"#ed7953\"], [0.7777777777777778, \"#fb9f3a\"], [0.8888888888888888, \"#fdca26\"], [1.0, \"#f0f921\"]], \"type\": \"histogram2d\"}], \"histogram2dcontour\": [{\"colorbar\": {\"outlinewidth\": 0, \"ticks\": \"\"}, \"colorscale\": [[0.0, \"#0d0887\"], [0.1111111111111111, \"#46039f\"], [0.2222222222222222, \"#7201a8\"], [0.3333333333333333, \"#9c179e\"], [0.4444444444444444, \"#bd3786\"], [0.5555555555555556, \"#d8576b\"], [0.6666666666666666, \"#ed7953\"], [0.7777777777777778, \"#fb9f3a\"], [0.8888888888888888, \"#fdca26\"], [1.0, \"#f0f921\"]], \"type\": \"histogram2dcontour\"}], \"mesh3d\": [{\"colorbar\": {\"outlinewidth\": 0, \"ticks\": \"\"}, \"type\": \"mesh3d\"}], \"parcoords\": [{\"line\": {\"colorbar\": {\"outlinewidth\": 0, \"ticks\": \"\"}}, \"type\": \"parcoords\"}], \"pie\": [{\"automargin\": true, \"type\": \"pie\"}], \"scatter\": [{\"marker\": {\"colorbar\": {\"outlinewidth\": 0, \"ticks\": \"\"}}, \"type\": \"scatter\"}], \"scatter3d\": [{\"line\": {\"colorbar\": {\"outlinewidth\": 0, \"ticks\": \"\"}}, \"marker\": {\"colorbar\": {\"outlinewidth\": 0, \"ticks\": \"\"}}, \"type\": \"scatter3d\"}], \"scattercarpet\": [{\"marker\": {\"colorbar\": {\"outlinewidth\": 0, \"ticks\": \"\"}}, \"type\": \"scattercarpet\"}], \"scattergeo\": [{\"marker\": {\"colorbar\": {\"outlinewidth\": 0, \"ticks\": \"\"}}, \"type\": \"scattergeo\"}], \"scattergl\": [{\"marker\": {\"colorbar\": {\"outlinewidth\": 0, \"ticks\": \"\"}}, \"type\": \"scattergl\"}], \"scattermapbox\": [{\"marker\": {\"colorbar\": {\"outlinewidth\": 0, \"ticks\": \"\"}}, \"type\": \"scattermapbox\"}], \"scatterpolar\": [{\"marker\": {\"colorbar\": {\"outlinewidth\": 0, \"ticks\": \"\"}}, \"type\": \"scatterpolar\"}], \"scatterpolargl\": [{\"marker\": {\"colorbar\": {\"outlinewidth\": 0, \"ticks\": \"\"}}, \"type\": \"scatterpolargl\"}], \"scatterternary\": [{\"marker\": {\"colorbar\": {\"outlinewidth\": 0, \"ticks\": \"\"}}, \"type\": \"scatterternary\"}], \"surface\": [{\"colorbar\": {\"outlinewidth\": 0, \"ticks\": \"\"}, \"colorscale\": [[0.0, \"#0d0887\"], [0.1111111111111111, \"#46039f\"], [0.2222222222222222, \"#7201a8\"], [0.3333333333333333, \"#9c179e\"], [0.4444444444444444, \"#bd3786\"], [0.5555555555555556, \"#d8576b\"], [0.6666666666666666, \"#ed7953\"], [0.7777777777777778, \"#fb9f3a\"], [0.8888888888888888, \"#fdca26\"], [1.0, \"#f0f921\"]], \"type\": \"surface\"}], \"table\": [{\"cells\": {\"fill\": {\"color\": \"#EBF0F8\"}, \"line\": {\"color\": \"white\"}}, \"header\": {\"fill\": {\"color\": \"#C8D4E3\"}, \"line\": {\"color\": \"white\"}}, \"type\": \"table\"}]}, \"layout\": {\"annotationdefaults\": {\"arrowcolor\": \"#2a3f5f\", \"arrowhead\": 0, \"arrowwidth\": 1}, \"coloraxis\": {\"colorbar\": {\"outlinewidth\": 0, \"ticks\": \"\"}}, \"colorscale\": {\"diverging\": [[0, \"#8e0152\"], [0.1, \"#c51b7d\"], [0.2, \"#de77ae\"], [0.3, \"#f1b6da\"], [0.4, \"#fde0ef\"], [0.5, \"#f7f7f7\"], [0.6, \"#e6f5d0\"], [0.7, \"#b8e186\"], [0.8, \"#7fbc41\"], [0.9, \"#4d9221\"], [1, \"#276419\"]], \"sequential\": [[0.0, \"#0d0887\"], [0.1111111111111111, \"#46039f\"], [0.2222222222222222, \"#7201a8\"], [0.3333333333333333, \"#9c179e\"], [0.4444444444444444, \"#bd3786\"], [0.5555555555555556, \"#d8576b\"], [0.6666666666666666, \"#ed7953\"], [0.7777777777777778, \"#fb9f3a\"], [0.8888888888888888, \"#fdca26\"], [1.0, \"#f0f921\"]], \"sequentialminus\": [[0.0, \"#0d0887\"], [0.1111111111111111, \"#46039f\"], [0.2222222222222222, \"#7201a8\"], [0.3333333333333333, \"#9c179e\"], [0.4444444444444444, \"#bd3786\"], [0.5555555555555556, \"#d8576b\"], [0.6666666666666666, \"#ed7953\"], [0.7777777777777778, \"#fb9f3a\"], [0.8888888888888888, \"#fdca26\"], [1.0, \"#f0f921\"]]}, \"colorway\": [\"#636efa\", \"#EF553B\", \"#00cc96\", \"#ab63fa\", \"#FFA15A\", \"#19d3f3\", \"#FF6692\", \"#B6E880\", \"#FF97FF\", \"#FECB52\"], \"font\": {\"color\": \"#2a3f5f\"}, \"geo\": {\"bgcolor\": \"white\", \"lakecolor\": \"white\", \"landcolor\": \"#E5ECF6\", \"showlakes\": true, \"showland\": true, \"subunitcolor\": \"white\"}, \"hoverlabel\": {\"align\": \"left\"}, \"hovermode\": \"closest\", \"mapbox\": {\"style\": \"light\"}, \"paper_bgcolor\": \"white\", \"plot_bgcolor\": \"#E5ECF6\", \"polar\": {\"angularaxis\": {\"gridcolor\": \"white\", \"linecolor\": \"white\", \"ticks\": \"\"}, \"bgcolor\": \"#E5ECF6\", \"radialaxis\": {\"gridcolor\": \"white\", \"linecolor\": \"white\", \"ticks\": \"\"}}, \"scene\": {\"xaxis\": {\"backgroundcolor\": \"#E5ECF6\", \"gridcolor\": \"white\", \"gridwidth\": 2, \"linecolor\": \"white\", \"showbackground\": true, \"ticks\": \"\", \"zerolinecolor\": \"white\"}, \"yaxis\": {\"backgroundcolor\": \"#E5ECF6\", \"gridcolor\": \"white\", \"gridwidth\": 2, \"linecolor\": \"white\", \"showbackground\": true, \"ticks\": \"\", \"zerolinecolor\": \"white\"}, \"zaxis\": {\"backgroundcolor\": \"#E5ECF6\", \"gridcolor\": \"white\", \"gridwidth\": 2, \"linecolor\": \"white\", \"showbackground\": true, \"ticks\": \"\", \"zerolinecolor\": \"white\"}}, \"shapedefaults\": {\"line\": {\"color\": \"#2a3f5f\"}}, \"ternary\": {\"aaxis\": {\"gridcolor\": \"white\", \"linecolor\": \"white\", \"ticks\": \"\"}, \"baxis\": {\"gridcolor\": \"white\", \"linecolor\": \"white\", \"ticks\": \"\"}, \"bgcolor\": \"#E5ECF6\", \"caxis\": {\"gridcolor\": \"white\", \"linecolor\": \"white\", \"ticks\": \"\"}}, \"title\": {\"x\": 0.05}, \"xaxis\": {\"automargin\": true, \"gridcolor\": \"white\", \"linecolor\": \"white\", \"ticks\": \"\", \"title\": {\"standoff\": 15}, \"zerolinecolor\": \"white\", \"zerolinewidth\": 2}, \"yaxis\": {\"automargin\": true, \"gridcolor\": \"white\", \"linecolor\": \"white\", \"ticks\": \"\", \"title\": {\"standoff\": 15}, \"zerolinecolor\": \"white\", \"zerolinewidth\": 2}}}},\n",
       "                        {\"responsive\": true}\n",
       "                    ).then(function(){\n",
       "                            \n",
       "var gd = document.getElementById('ee84501a-ecc1-40db-8420-91d29878007a');\n",
       "var x = new MutationObserver(function (mutations, observer) {{\n",
       "        var display = window.getComputedStyle(gd).display;\n",
       "        if (!display || display === 'none') {{\n",
       "            console.log([gd, 'removed!']);\n",
       "            Plotly.purge(gd);\n",
       "            observer.disconnect();\n",
       "        }}\n",
       "}});\n",
       "\n",
       "// Listen for the removal of the full notebook cells\n",
       "var notebookContainer = gd.closest('#notebook-container');\n",
       "if (notebookContainer) {{\n",
       "    x.observe(notebookContainer, {childList: true});\n",
       "}}\n",
       "\n",
       "// Listen for the clearing of the current output cell\n",
       "var outputEl = gd.closest('.output');\n",
       "if (outputEl) {{\n",
       "    x.observe(outputEl, {childList: true});\n",
       "}}\n",
       "\n",
       "                        })\n",
       "                };\n",
       "                });\n",
       "            </script>\n",
       "        </div>"
      ]
     },
     "metadata": {},
     "output_type": "display_data"
    },
    {
     "name": "stdout",
     "output_type": "stream",
     "text": [
      "LQR\n"
     ]
    },
    {
     "data": {
      "application/vnd.plotly.v1+json": {
       "config": {
        "plotlyServerURL": "https://plot.ly"
       },
       "data": [
        {
         "type": "heatmap",
         "z": [
          [
           1,
           1,
           1,
           1,
           1,
           1,
           1,
           1,
           1,
           1
          ],
          [
           1,
           1,
           1,
           1,
           1,
           1,
           1,
           1,
           1,
           1
          ],
          [
           1,
           1,
           1,
           1,
           1,
           1,
           1,
           1,
           1,
           1
          ],
          [
           1,
           1,
           1,
           1,
           1,
           1,
           1,
           1,
           1,
           1
          ],
          [
           1,
           1,
           1,
           1,
           1,
           1,
           1,
           1,
           1,
           1
          ],
          [
           1,
           1,
           1,
           1,
           1,
           1,
           1,
           1,
           1,
           1
          ],
          [
           1,
           1,
           1,
           1,
           1,
           1,
           1,
           1,
           1,
           1
          ],
          [
           1,
           1,
           1,
           1,
           1,
           1,
           1,
           1,
           1,
           1
          ],
          [
           1,
           1,
           1,
           1,
           1,
           1,
           1,
           1,
           1,
           1
          ],
          [
           1,
           1,
           1,
           1,
           1,
           1,
           1,
           1,
           1,
           1
          ]
         ],
         "zmax": 1,
         "zmin": 0
        }
       ],
       "layout": {
        "template": {
         "data": {
          "bar": [
           {
            "error_x": {
             "color": "#2a3f5f"
            },
            "error_y": {
             "color": "#2a3f5f"
            },
            "marker": {
             "line": {
              "color": "#E5ECF6",
              "width": 0.5
             }
            },
            "type": "bar"
           }
          ],
          "barpolar": [
           {
            "marker": {
             "line": {
              "color": "#E5ECF6",
              "width": 0.5
             }
            },
            "type": "barpolar"
           }
          ],
          "carpet": [
           {
            "aaxis": {
             "endlinecolor": "#2a3f5f",
             "gridcolor": "white",
             "linecolor": "white",
             "minorgridcolor": "white",
             "startlinecolor": "#2a3f5f"
            },
            "baxis": {
             "endlinecolor": "#2a3f5f",
             "gridcolor": "white",
             "linecolor": "white",
             "minorgridcolor": "white",
             "startlinecolor": "#2a3f5f"
            },
            "type": "carpet"
           }
          ],
          "choropleth": [
           {
            "colorbar": {
             "outlinewidth": 0,
             "ticks": ""
            },
            "type": "choropleth"
           }
          ],
          "contour": [
           {
            "colorbar": {
             "outlinewidth": 0,
             "ticks": ""
            },
            "colorscale": [
             [
              0,
              "#0d0887"
             ],
             [
              0.1111111111111111,
              "#46039f"
             ],
             [
              0.2222222222222222,
              "#7201a8"
             ],
             [
              0.3333333333333333,
              "#9c179e"
             ],
             [
              0.4444444444444444,
              "#bd3786"
             ],
             [
              0.5555555555555556,
              "#d8576b"
             ],
             [
              0.6666666666666666,
              "#ed7953"
             ],
             [
              0.7777777777777778,
              "#fb9f3a"
             ],
             [
              0.8888888888888888,
              "#fdca26"
             ],
             [
              1,
              "#f0f921"
             ]
            ],
            "type": "contour"
           }
          ],
          "contourcarpet": [
           {
            "colorbar": {
             "outlinewidth": 0,
             "ticks": ""
            },
            "type": "contourcarpet"
           }
          ],
          "heatmap": [
           {
            "colorbar": {
             "outlinewidth": 0,
             "ticks": ""
            },
            "colorscale": [
             [
              0,
              "#0d0887"
             ],
             [
              0.1111111111111111,
              "#46039f"
             ],
             [
              0.2222222222222222,
              "#7201a8"
             ],
             [
              0.3333333333333333,
              "#9c179e"
             ],
             [
              0.4444444444444444,
              "#bd3786"
             ],
             [
              0.5555555555555556,
              "#d8576b"
             ],
             [
              0.6666666666666666,
              "#ed7953"
             ],
             [
              0.7777777777777778,
              "#fb9f3a"
             ],
             [
              0.8888888888888888,
              "#fdca26"
             ],
             [
              1,
              "#f0f921"
             ]
            ],
            "type": "heatmap"
           }
          ],
          "heatmapgl": [
           {
            "colorbar": {
             "outlinewidth": 0,
             "ticks": ""
            },
            "colorscale": [
             [
              0,
              "#0d0887"
             ],
             [
              0.1111111111111111,
              "#46039f"
             ],
             [
              0.2222222222222222,
              "#7201a8"
             ],
             [
              0.3333333333333333,
              "#9c179e"
             ],
             [
              0.4444444444444444,
              "#bd3786"
             ],
             [
              0.5555555555555556,
              "#d8576b"
             ],
             [
              0.6666666666666666,
              "#ed7953"
             ],
             [
              0.7777777777777778,
              "#fb9f3a"
             ],
             [
              0.8888888888888888,
              "#fdca26"
             ],
             [
              1,
              "#f0f921"
             ]
            ],
            "type": "heatmapgl"
           }
          ],
          "histogram": [
           {
            "marker": {
             "colorbar": {
              "outlinewidth": 0,
              "ticks": ""
             }
            },
            "type": "histogram"
           }
          ],
          "histogram2d": [
           {
            "colorbar": {
             "outlinewidth": 0,
             "ticks": ""
            },
            "colorscale": [
             [
              0,
              "#0d0887"
             ],
             [
              0.1111111111111111,
              "#46039f"
             ],
             [
              0.2222222222222222,
              "#7201a8"
             ],
             [
              0.3333333333333333,
              "#9c179e"
             ],
             [
              0.4444444444444444,
              "#bd3786"
             ],
             [
              0.5555555555555556,
              "#d8576b"
             ],
             [
              0.6666666666666666,
              "#ed7953"
             ],
             [
              0.7777777777777778,
              "#fb9f3a"
             ],
             [
              0.8888888888888888,
              "#fdca26"
             ],
             [
              1,
              "#f0f921"
             ]
            ],
            "type": "histogram2d"
           }
          ],
          "histogram2dcontour": [
           {
            "colorbar": {
             "outlinewidth": 0,
             "ticks": ""
            },
            "colorscale": [
             [
              0,
              "#0d0887"
             ],
             [
              0.1111111111111111,
              "#46039f"
             ],
             [
              0.2222222222222222,
              "#7201a8"
             ],
             [
              0.3333333333333333,
              "#9c179e"
             ],
             [
              0.4444444444444444,
              "#bd3786"
             ],
             [
              0.5555555555555556,
              "#d8576b"
             ],
             [
              0.6666666666666666,
              "#ed7953"
             ],
             [
              0.7777777777777778,
              "#fb9f3a"
             ],
             [
              0.8888888888888888,
              "#fdca26"
             ],
             [
              1,
              "#f0f921"
             ]
            ],
            "type": "histogram2dcontour"
           }
          ],
          "mesh3d": [
           {
            "colorbar": {
             "outlinewidth": 0,
             "ticks": ""
            },
            "type": "mesh3d"
           }
          ],
          "parcoords": [
           {
            "line": {
             "colorbar": {
              "outlinewidth": 0,
              "ticks": ""
             }
            },
            "type": "parcoords"
           }
          ],
          "pie": [
           {
            "automargin": true,
            "type": "pie"
           }
          ],
          "scatter": [
           {
            "marker": {
             "colorbar": {
              "outlinewidth": 0,
              "ticks": ""
             }
            },
            "type": "scatter"
           }
          ],
          "scatter3d": [
           {
            "line": {
             "colorbar": {
              "outlinewidth": 0,
              "ticks": ""
             }
            },
            "marker": {
             "colorbar": {
              "outlinewidth": 0,
              "ticks": ""
             }
            },
            "type": "scatter3d"
           }
          ],
          "scattercarpet": [
           {
            "marker": {
             "colorbar": {
              "outlinewidth": 0,
              "ticks": ""
             }
            },
            "type": "scattercarpet"
           }
          ],
          "scattergeo": [
           {
            "marker": {
             "colorbar": {
              "outlinewidth": 0,
              "ticks": ""
             }
            },
            "type": "scattergeo"
           }
          ],
          "scattergl": [
           {
            "marker": {
             "colorbar": {
              "outlinewidth": 0,
              "ticks": ""
             }
            },
            "type": "scattergl"
           }
          ],
          "scattermapbox": [
           {
            "marker": {
             "colorbar": {
              "outlinewidth": 0,
              "ticks": ""
             }
            },
            "type": "scattermapbox"
           }
          ],
          "scatterpolar": [
           {
            "marker": {
             "colorbar": {
              "outlinewidth": 0,
              "ticks": ""
             }
            },
            "type": "scatterpolar"
           }
          ],
          "scatterpolargl": [
           {
            "marker": {
             "colorbar": {
              "outlinewidth": 0,
              "ticks": ""
             }
            },
            "type": "scatterpolargl"
           }
          ],
          "scatterternary": [
           {
            "marker": {
             "colorbar": {
              "outlinewidth": 0,
              "ticks": ""
             }
            },
            "type": "scatterternary"
           }
          ],
          "surface": [
           {
            "colorbar": {
             "outlinewidth": 0,
             "ticks": ""
            },
            "colorscale": [
             [
              0,
              "#0d0887"
             ],
             [
              0.1111111111111111,
              "#46039f"
             ],
             [
              0.2222222222222222,
              "#7201a8"
             ],
             [
              0.3333333333333333,
              "#9c179e"
             ],
             [
              0.4444444444444444,
              "#bd3786"
             ],
             [
              0.5555555555555556,
              "#d8576b"
             ],
             [
              0.6666666666666666,
              "#ed7953"
             ],
             [
              0.7777777777777778,
              "#fb9f3a"
             ],
             [
              0.8888888888888888,
              "#fdca26"
             ],
             [
              1,
              "#f0f921"
             ]
            ],
            "type": "surface"
           }
          ],
          "table": [
           {
            "cells": {
             "fill": {
              "color": "#EBF0F8"
             },
             "line": {
              "color": "white"
             }
            },
            "header": {
             "fill": {
              "color": "#C8D4E3"
             },
             "line": {
              "color": "white"
             }
            },
            "type": "table"
           }
          ]
         },
         "layout": {
          "annotationdefaults": {
           "arrowcolor": "#2a3f5f",
           "arrowhead": 0,
           "arrowwidth": 1
          },
          "coloraxis": {
           "colorbar": {
            "outlinewidth": 0,
            "ticks": ""
           }
          },
          "colorscale": {
           "diverging": [
            [
             0,
             "#8e0152"
            ],
            [
             0.1,
             "#c51b7d"
            ],
            [
             0.2,
             "#de77ae"
            ],
            [
             0.3,
             "#f1b6da"
            ],
            [
             0.4,
             "#fde0ef"
            ],
            [
             0.5,
             "#f7f7f7"
            ],
            [
             0.6,
             "#e6f5d0"
            ],
            [
             0.7,
             "#b8e186"
            ],
            [
             0.8,
             "#7fbc41"
            ],
            [
             0.9,
             "#4d9221"
            ],
            [
             1,
             "#276419"
            ]
           ],
           "sequential": [
            [
             0,
             "#0d0887"
            ],
            [
             0.1111111111111111,
             "#46039f"
            ],
            [
             0.2222222222222222,
             "#7201a8"
            ],
            [
             0.3333333333333333,
             "#9c179e"
            ],
            [
             0.4444444444444444,
             "#bd3786"
            ],
            [
             0.5555555555555556,
             "#d8576b"
            ],
            [
             0.6666666666666666,
             "#ed7953"
            ],
            [
             0.7777777777777778,
             "#fb9f3a"
            ],
            [
             0.8888888888888888,
             "#fdca26"
            ],
            [
             1,
             "#f0f921"
            ]
           ],
           "sequentialminus": [
            [
             0,
             "#0d0887"
            ],
            [
             0.1111111111111111,
             "#46039f"
            ],
            [
             0.2222222222222222,
             "#7201a8"
            ],
            [
             0.3333333333333333,
             "#9c179e"
            ],
            [
             0.4444444444444444,
             "#bd3786"
            ],
            [
             0.5555555555555556,
             "#d8576b"
            ],
            [
             0.6666666666666666,
             "#ed7953"
            ],
            [
             0.7777777777777778,
             "#fb9f3a"
            ],
            [
             0.8888888888888888,
             "#fdca26"
            ],
            [
             1,
             "#f0f921"
            ]
           ]
          },
          "colorway": [
           "#636efa",
           "#EF553B",
           "#00cc96",
           "#ab63fa",
           "#FFA15A",
           "#19d3f3",
           "#FF6692",
           "#B6E880",
           "#FF97FF",
           "#FECB52"
          ],
          "font": {
           "color": "#2a3f5f"
          },
          "geo": {
           "bgcolor": "white",
           "lakecolor": "white",
           "landcolor": "#E5ECF6",
           "showlakes": true,
           "showland": true,
           "subunitcolor": "white"
          },
          "hoverlabel": {
           "align": "left"
          },
          "hovermode": "closest",
          "mapbox": {
           "style": "light"
          },
          "paper_bgcolor": "white",
          "plot_bgcolor": "#E5ECF6",
          "polar": {
           "angularaxis": {
            "gridcolor": "white",
            "linecolor": "white",
            "ticks": ""
           },
           "bgcolor": "#E5ECF6",
           "radialaxis": {
            "gridcolor": "white",
            "linecolor": "white",
            "ticks": ""
           }
          },
          "scene": {
           "xaxis": {
            "backgroundcolor": "#E5ECF6",
            "gridcolor": "white",
            "gridwidth": 2,
            "linecolor": "white",
            "showbackground": true,
            "ticks": "",
            "zerolinecolor": "white"
           },
           "yaxis": {
            "backgroundcolor": "#E5ECF6",
            "gridcolor": "white",
            "gridwidth": 2,
            "linecolor": "white",
            "showbackground": true,
            "ticks": "",
            "zerolinecolor": "white"
           },
           "zaxis": {
            "backgroundcolor": "#E5ECF6",
            "gridcolor": "white",
            "gridwidth": 2,
            "linecolor": "white",
            "showbackground": true,
            "ticks": "",
            "zerolinecolor": "white"
           }
          },
          "shapedefaults": {
           "line": {
            "color": "#2a3f5f"
           }
          },
          "ternary": {
           "aaxis": {
            "gridcolor": "white",
            "linecolor": "white",
            "ticks": ""
           },
           "baxis": {
            "gridcolor": "white",
            "linecolor": "white",
            "ticks": ""
           },
           "bgcolor": "#E5ECF6",
           "caxis": {
            "gridcolor": "white",
            "linecolor": "white",
            "ticks": ""
           }
          },
          "title": {
           "x": 0.05
          },
          "xaxis": {
           "automargin": true,
           "gridcolor": "white",
           "linecolor": "white",
           "ticks": "",
           "title": {
            "standoff": 15
           },
           "zerolinecolor": "white",
           "zerolinewidth": 2
          },
          "yaxis": {
           "automargin": true,
           "gridcolor": "white",
           "linecolor": "white",
           "ticks": "",
           "title": {
            "standoff": 15
           },
           "zerolinecolor": "white",
           "zerolinewidth": 2
          }
         }
        }
       }
      },
      "text/html": [
       "<div>\n",
       "        \n",
       "        \n",
       "            <div id=\"9b1b2802-8113-48fe-946c-5369c02f9e54\" class=\"plotly-graph-div\" style=\"height:525px; width:100%;\"></div>\n",
       "            <script type=\"text/javascript\">\n",
       "                require([\"plotly\"], function(Plotly) {\n",
       "                    window.PLOTLYENV=window.PLOTLYENV || {};\n",
       "                    \n",
       "                if (document.getElementById(\"9b1b2802-8113-48fe-946c-5369c02f9e54\")) {\n",
       "                    Plotly.newPlot(\n",
       "                        '9b1b2802-8113-48fe-946c-5369c02f9e54',\n",
       "                        [{\"type\": \"heatmap\", \"z\": [[1.0, 1.0, 1.0, 1.0, 1.0, 1.0, 1.0, 1.0, 1.0, 1.0], [1.0, 1.0, 1.0, 1.0, 1.0, 1.0, 1.0, 1.0, 1.0, 1.0], [1.0, 1.0, 1.0, 1.0, 1.0, 1.0, 1.0, 1.0, 1.0, 1.0], [1.0, 1.0, 1.0, 1.0, 1.0, 1.0, 1.0, 1.0, 1.0, 1.0], [1.0, 1.0, 1.0, 1.0, 1.0, 1.0, 1.0, 1.0, 1.0, 1.0], [1.0, 1.0, 1.0, 1.0, 1.0, 1.0, 1.0, 1.0, 1.0, 1.0], [1.0, 1.0, 1.0, 1.0, 1.0, 1.0, 1.0, 1.0, 1.0, 1.0], [1.0, 1.0, 1.0, 1.0, 1.0, 1.0, 1.0, 1.0, 1.0, 1.0], [1.0, 1.0, 1.0, 1.0, 1.0, 1.0, 1.0, 1.0, 1.0, 1.0], [1.0, 1.0, 1.0, 1.0, 1.0, 1.0, 1.0, 1.0, 1.0, 1.0]], \"zmax\": 1, \"zmin\": 0}],\n",
       "                        {\"template\": {\"data\": {\"bar\": [{\"error_x\": {\"color\": \"#2a3f5f\"}, \"error_y\": {\"color\": \"#2a3f5f\"}, \"marker\": {\"line\": {\"color\": \"#E5ECF6\", \"width\": 0.5}}, \"type\": \"bar\"}], \"barpolar\": [{\"marker\": {\"line\": {\"color\": \"#E5ECF6\", \"width\": 0.5}}, \"type\": \"barpolar\"}], \"carpet\": [{\"aaxis\": {\"endlinecolor\": \"#2a3f5f\", \"gridcolor\": \"white\", \"linecolor\": \"white\", \"minorgridcolor\": \"white\", \"startlinecolor\": \"#2a3f5f\"}, \"baxis\": {\"endlinecolor\": \"#2a3f5f\", \"gridcolor\": \"white\", \"linecolor\": \"white\", \"minorgridcolor\": \"white\", \"startlinecolor\": \"#2a3f5f\"}, \"type\": \"carpet\"}], \"choropleth\": [{\"colorbar\": {\"outlinewidth\": 0, \"ticks\": \"\"}, \"type\": \"choropleth\"}], \"contour\": [{\"colorbar\": {\"outlinewidth\": 0, \"ticks\": \"\"}, \"colorscale\": [[0.0, \"#0d0887\"], [0.1111111111111111, \"#46039f\"], [0.2222222222222222, \"#7201a8\"], [0.3333333333333333, \"#9c179e\"], [0.4444444444444444, \"#bd3786\"], [0.5555555555555556, \"#d8576b\"], [0.6666666666666666, \"#ed7953\"], [0.7777777777777778, \"#fb9f3a\"], [0.8888888888888888, \"#fdca26\"], [1.0, \"#f0f921\"]], \"type\": \"contour\"}], \"contourcarpet\": [{\"colorbar\": {\"outlinewidth\": 0, \"ticks\": \"\"}, \"type\": \"contourcarpet\"}], \"heatmap\": [{\"colorbar\": {\"outlinewidth\": 0, \"ticks\": \"\"}, \"colorscale\": [[0.0, \"#0d0887\"], [0.1111111111111111, \"#46039f\"], [0.2222222222222222, \"#7201a8\"], [0.3333333333333333, \"#9c179e\"], [0.4444444444444444, \"#bd3786\"], [0.5555555555555556, \"#d8576b\"], [0.6666666666666666, \"#ed7953\"], [0.7777777777777778, \"#fb9f3a\"], [0.8888888888888888, \"#fdca26\"], [1.0, \"#f0f921\"]], \"type\": \"heatmap\"}], \"heatmapgl\": [{\"colorbar\": {\"outlinewidth\": 0, \"ticks\": \"\"}, \"colorscale\": [[0.0, \"#0d0887\"], [0.1111111111111111, \"#46039f\"], [0.2222222222222222, \"#7201a8\"], [0.3333333333333333, \"#9c179e\"], [0.4444444444444444, \"#bd3786\"], [0.5555555555555556, \"#d8576b\"], [0.6666666666666666, \"#ed7953\"], [0.7777777777777778, \"#fb9f3a\"], [0.8888888888888888, \"#fdca26\"], [1.0, \"#f0f921\"]], \"type\": \"heatmapgl\"}], \"histogram\": [{\"marker\": {\"colorbar\": {\"outlinewidth\": 0, \"ticks\": \"\"}}, \"type\": \"histogram\"}], \"histogram2d\": [{\"colorbar\": {\"outlinewidth\": 0, \"ticks\": \"\"}, \"colorscale\": [[0.0, \"#0d0887\"], [0.1111111111111111, \"#46039f\"], [0.2222222222222222, \"#7201a8\"], [0.3333333333333333, \"#9c179e\"], [0.4444444444444444, \"#bd3786\"], [0.5555555555555556, \"#d8576b\"], [0.6666666666666666, \"#ed7953\"], [0.7777777777777778, \"#fb9f3a\"], [0.8888888888888888, \"#fdca26\"], [1.0, \"#f0f921\"]], \"type\": \"histogram2d\"}], \"histogram2dcontour\": [{\"colorbar\": {\"outlinewidth\": 0, \"ticks\": \"\"}, \"colorscale\": [[0.0, \"#0d0887\"], [0.1111111111111111, \"#46039f\"], [0.2222222222222222, \"#7201a8\"], [0.3333333333333333, \"#9c179e\"], [0.4444444444444444, \"#bd3786\"], [0.5555555555555556, \"#d8576b\"], [0.6666666666666666, \"#ed7953\"], [0.7777777777777778, \"#fb9f3a\"], [0.8888888888888888, \"#fdca26\"], [1.0, \"#f0f921\"]], \"type\": \"histogram2dcontour\"}], \"mesh3d\": [{\"colorbar\": {\"outlinewidth\": 0, \"ticks\": \"\"}, \"type\": \"mesh3d\"}], \"parcoords\": [{\"line\": {\"colorbar\": {\"outlinewidth\": 0, \"ticks\": \"\"}}, \"type\": \"parcoords\"}], \"pie\": [{\"automargin\": true, \"type\": \"pie\"}], \"scatter\": [{\"marker\": {\"colorbar\": {\"outlinewidth\": 0, \"ticks\": \"\"}}, \"type\": \"scatter\"}], \"scatter3d\": [{\"line\": {\"colorbar\": {\"outlinewidth\": 0, \"ticks\": \"\"}}, \"marker\": {\"colorbar\": {\"outlinewidth\": 0, \"ticks\": \"\"}}, \"type\": \"scatter3d\"}], \"scattercarpet\": [{\"marker\": {\"colorbar\": {\"outlinewidth\": 0, \"ticks\": \"\"}}, \"type\": \"scattercarpet\"}], \"scattergeo\": [{\"marker\": {\"colorbar\": {\"outlinewidth\": 0, \"ticks\": \"\"}}, \"type\": \"scattergeo\"}], \"scattergl\": [{\"marker\": {\"colorbar\": {\"outlinewidth\": 0, \"ticks\": \"\"}}, \"type\": \"scattergl\"}], \"scattermapbox\": [{\"marker\": {\"colorbar\": {\"outlinewidth\": 0, \"ticks\": \"\"}}, \"type\": \"scattermapbox\"}], \"scatterpolar\": [{\"marker\": {\"colorbar\": {\"outlinewidth\": 0, \"ticks\": \"\"}}, \"type\": \"scatterpolar\"}], \"scatterpolargl\": [{\"marker\": {\"colorbar\": {\"outlinewidth\": 0, \"ticks\": \"\"}}, \"type\": \"scatterpolargl\"}], \"scatterternary\": [{\"marker\": {\"colorbar\": {\"outlinewidth\": 0, \"ticks\": \"\"}}, \"type\": \"scatterternary\"}], \"surface\": [{\"colorbar\": {\"outlinewidth\": 0, \"ticks\": \"\"}, \"colorscale\": [[0.0, \"#0d0887\"], [0.1111111111111111, \"#46039f\"], [0.2222222222222222, \"#7201a8\"], [0.3333333333333333, \"#9c179e\"], [0.4444444444444444, \"#bd3786\"], [0.5555555555555556, \"#d8576b\"], [0.6666666666666666, \"#ed7953\"], [0.7777777777777778, \"#fb9f3a\"], [0.8888888888888888, \"#fdca26\"], [1.0, \"#f0f921\"]], \"type\": \"surface\"}], \"table\": [{\"cells\": {\"fill\": {\"color\": \"#EBF0F8\"}, \"line\": {\"color\": \"white\"}}, \"header\": {\"fill\": {\"color\": \"#C8D4E3\"}, \"line\": {\"color\": \"white\"}}, \"type\": \"table\"}]}, \"layout\": {\"annotationdefaults\": {\"arrowcolor\": \"#2a3f5f\", \"arrowhead\": 0, \"arrowwidth\": 1}, \"coloraxis\": {\"colorbar\": {\"outlinewidth\": 0, \"ticks\": \"\"}}, \"colorscale\": {\"diverging\": [[0, \"#8e0152\"], [0.1, \"#c51b7d\"], [0.2, \"#de77ae\"], [0.3, \"#f1b6da\"], [0.4, \"#fde0ef\"], [0.5, \"#f7f7f7\"], [0.6, \"#e6f5d0\"], [0.7, \"#b8e186\"], [0.8, \"#7fbc41\"], [0.9, \"#4d9221\"], [1, \"#276419\"]], \"sequential\": [[0.0, \"#0d0887\"], [0.1111111111111111, \"#46039f\"], [0.2222222222222222, \"#7201a8\"], [0.3333333333333333, \"#9c179e\"], [0.4444444444444444, \"#bd3786\"], [0.5555555555555556, \"#d8576b\"], [0.6666666666666666, \"#ed7953\"], [0.7777777777777778, \"#fb9f3a\"], [0.8888888888888888, \"#fdca26\"], [1.0, \"#f0f921\"]], \"sequentialminus\": [[0.0, \"#0d0887\"], [0.1111111111111111, \"#46039f\"], [0.2222222222222222, \"#7201a8\"], [0.3333333333333333, \"#9c179e\"], [0.4444444444444444, \"#bd3786\"], [0.5555555555555556, \"#d8576b\"], [0.6666666666666666, \"#ed7953\"], [0.7777777777777778, \"#fb9f3a\"], [0.8888888888888888, \"#fdca26\"], [1.0, \"#f0f921\"]]}, \"colorway\": [\"#636efa\", \"#EF553B\", \"#00cc96\", \"#ab63fa\", \"#FFA15A\", \"#19d3f3\", \"#FF6692\", \"#B6E880\", \"#FF97FF\", \"#FECB52\"], \"font\": {\"color\": \"#2a3f5f\"}, \"geo\": {\"bgcolor\": \"white\", \"lakecolor\": \"white\", \"landcolor\": \"#E5ECF6\", \"showlakes\": true, \"showland\": true, \"subunitcolor\": \"white\"}, \"hoverlabel\": {\"align\": \"left\"}, \"hovermode\": \"closest\", \"mapbox\": {\"style\": \"light\"}, \"paper_bgcolor\": \"white\", \"plot_bgcolor\": \"#E5ECF6\", \"polar\": {\"angularaxis\": {\"gridcolor\": \"white\", \"linecolor\": \"white\", \"ticks\": \"\"}, \"bgcolor\": \"#E5ECF6\", \"radialaxis\": {\"gridcolor\": \"white\", \"linecolor\": \"white\", \"ticks\": \"\"}}, \"scene\": {\"xaxis\": {\"backgroundcolor\": \"#E5ECF6\", \"gridcolor\": \"white\", \"gridwidth\": 2, \"linecolor\": \"white\", \"showbackground\": true, \"ticks\": \"\", \"zerolinecolor\": \"white\"}, \"yaxis\": {\"backgroundcolor\": \"#E5ECF6\", \"gridcolor\": \"white\", \"gridwidth\": 2, \"linecolor\": \"white\", \"showbackground\": true, \"ticks\": \"\", \"zerolinecolor\": \"white\"}, \"zaxis\": {\"backgroundcolor\": \"#E5ECF6\", \"gridcolor\": \"white\", \"gridwidth\": 2, \"linecolor\": \"white\", \"showbackground\": true, \"ticks\": \"\", \"zerolinecolor\": \"white\"}}, \"shapedefaults\": {\"line\": {\"color\": \"#2a3f5f\"}}, \"ternary\": {\"aaxis\": {\"gridcolor\": \"white\", \"linecolor\": \"white\", \"ticks\": \"\"}, \"baxis\": {\"gridcolor\": \"white\", \"linecolor\": \"white\", \"ticks\": \"\"}, \"bgcolor\": \"#E5ECF6\", \"caxis\": {\"gridcolor\": \"white\", \"linecolor\": \"white\", \"ticks\": \"\"}}, \"title\": {\"x\": 0.05}, \"xaxis\": {\"automargin\": true, \"gridcolor\": \"white\", \"linecolor\": \"white\", \"ticks\": \"\", \"title\": {\"standoff\": 15}, \"zerolinecolor\": \"white\", \"zerolinewidth\": 2}, \"yaxis\": {\"automargin\": true, \"gridcolor\": \"white\", \"linecolor\": \"white\", \"ticks\": \"\", \"title\": {\"standoff\": 15}, \"zerolinecolor\": \"white\", \"zerolinewidth\": 2}}}},\n",
       "                        {\"responsive\": true}\n",
       "                    ).then(function(){\n",
       "                            \n",
       "var gd = document.getElementById('9b1b2802-8113-48fe-946c-5369c02f9e54');\n",
       "var x = new MutationObserver(function (mutations, observer) {{\n",
       "        var display = window.getComputedStyle(gd).display;\n",
       "        if (!display || display === 'none') {{\n",
       "            console.log([gd, 'removed!']);\n",
       "            Plotly.purge(gd);\n",
       "            observer.disconnect();\n",
       "        }}\n",
       "}});\n",
       "\n",
       "// Listen for the removal of the full notebook cells\n",
       "var notebookContainer = gd.closest('#notebook-container');\n",
       "if (notebookContainer) {{\n",
       "    x.observe(notebookContainer, {childList: true});\n",
       "}}\n",
       "\n",
       "// Listen for the clearing of the current output cell\n",
       "var outputEl = gd.closest('.output');\n",
       "if (outputEl) {{\n",
       "    x.observe(outputEl, {childList: true});\n",
       "}}\n",
       "\n",
       "                        })\n",
       "                };\n",
       "                });\n",
       "            </script>\n",
       "        </div>"
      ]
     },
     "metadata": {},
     "output_type": "display_data"
    },
    {
     "name": "stdout",
     "output_type": "stream",
     "text": [
      "Improvement\n"
     ]
    },
    {
     "data": {
      "application/vnd.plotly.v1+json": {
       "config": {
        "plotlyServerURL": "https://plot.ly"
       },
       "data": [
        {
         "type": "heatmap",
         "z": [
          [
           0,
           1,
           0,
           0,
           0,
           0,
           0,
           0,
           1,
           1
          ],
          [
           0,
           0,
           0,
           0,
           0,
           0,
           1,
           1,
           1,
           1
          ],
          [
           0,
           0,
           0,
           0,
           1,
           0,
           1,
           0,
           0,
           0
          ],
          [
           0,
           0,
           0,
           0,
           0,
           0,
           0,
           0,
           0,
           1
          ],
          [
           1,
           0,
           0,
           0,
           0,
           0,
           0,
           0,
           0,
           0
          ],
          [
           1,
           0,
           0,
           1,
           0,
           0,
           0,
           1,
           1,
           1
          ],
          [
           1,
           0,
           0,
           0,
           0,
           0,
           0,
           0,
           0,
           0
          ],
          [
           0,
           0,
           0,
           0,
           1,
           1,
           1,
           1,
           0,
           0
          ],
          [
           0,
           0,
           0,
           1,
           0,
           1,
           0,
           0,
           1,
           1
          ],
          [
           0,
           0,
           0,
           0,
           0,
           0,
           0,
           0,
           0,
           1
          ]
         ],
         "zmax": 1,
         "zmin": 0
        }
       ],
       "layout": {
        "template": {
         "data": {
          "bar": [
           {
            "error_x": {
             "color": "#2a3f5f"
            },
            "error_y": {
             "color": "#2a3f5f"
            },
            "marker": {
             "line": {
              "color": "#E5ECF6",
              "width": 0.5
             }
            },
            "type": "bar"
           }
          ],
          "barpolar": [
           {
            "marker": {
             "line": {
              "color": "#E5ECF6",
              "width": 0.5
             }
            },
            "type": "barpolar"
           }
          ],
          "carpet": [
           {
            "aaxis": {
             "endlinecolor": "#2a3f5f",
             "gridcolor": "white",
             "linecolor": "white",
             "minorgridcolor": "white",
             "startlinecolor": "#2a3f5f"
            },
            "baxis": {
             "endlinecolor": "#2a3f5f",
             "gridcolor": "white",
             "linecolor": "white",
             "minorgridcolor": "white",
             "startlinecolor": "#2a3f5f"
            },
            "type": "carpet"
           }
          ],
          "choropleth": [
           {
            "colorbar": {
             "outlinewidth": 0,
             "ticks": ""
            },
            "type": "choropleth"
           }
          ],
          "contour": [
           {
            "colorbar": {
             "outlinewidth": 0,
             "ticks": ""
            },
            "colorscale": [
             [
              0,
              "#0d0887"
             ],
             [
              0.1111111111111111,
              "#46039f"
             ],
             [
              0.2222222222222222,
              "#7201a8"
             ],
             [
              0.3333333333333333,
              "#9c179e"
             ],
             [
              0.4444444444444444,
              "#bd3786"
             ],
             [
              0.5555555555555556,
              "#d8576b"
             ],
             [
              0.6666666666666666,
              "#ed7953"
             ],
             [
              0.7777777777777778,
              "#fb9f3a"
             ],
             [
              0.8888888888888888,
              "#fdca26"
             ],
             [
              1,
              "#f0f921"
             ]
            ],
            "type": "contour"
           }
          ],
          "contourcarpet": [
           {
            "colorbar": {
             "outlinewidth": 0,
             "ticks": ""
            },
            "type": "contourcarpet"
           }
          ],
          "heatmap": [
           {
            "colorbar": {
             "outlinewidth": 0,
             "ticks": ""
            },
            "colorscale": [
             [
              0,
              "#0d0887"
             ],
             [
              0.1111111111111111,
              "#46039f"
             ],
             [
              0.2222222222222222,
              "#7201a8"
             ],
             [
              0.3333333333333333,
              "#9c179e"
             ],
             [
              0.4444444444444444,
              "#bd3786"
             ],
             [
              0.5555555555555556,
              "#d8576b"
             ],
             [
              0.6666666666666666,
              "#ed7953"
             ],
             [
              0.7777777777777778,
              "#fb9f3a"
             ],
             [
              0.8888888888888888,
              "#fdca26"
             ],
             [
              1,
              "#f0f921"
             ]
            ],
            "type": "heatmap"
           }
          ],
          "heatmapgl": [
           {
            "colorbar": {
             "outlinewidth": 0,
             "ticks": ""
            },
            "colorscale": [
             [
              0,
              "#0d0887"
             ],
             [
              0.1111111111111111,
              "#46039f"
             ],
             [
              0.2222222222222222,
              "#7201a8"
             ],
             [
              0.3333333333333333,
              "#9c179e"
             ],
             [
              0.4444444444444444,
              "#bd3786"
             ],
             [
              0.5555555555555556,
              "#d8576b"
             ],
             [
              0.6666666666666666,
              "#ed7953"
             ],
             [
              0.7777777777777778,
              "#fb9f3a"
             ],
             [
              0.8888888888888888,
              "#fdca26"
             ],
             [
              1,
              "#f0f921"
             ]
            ],
            "type": "heatmapgl"
           }
          ],
          "histogram": [
           {
            "marker": {
             "colorbar": {
              "outlinewidth": 0,
              "ticks": ""
             }
            },
            "type": "histogram"
           }
          ],
          "histogram2d": [
           {
            "colorbar": {
             "outlinewidth": 0,
             "ticks": ""
            },
            "colorscale": [
             [
              0,
              "#0d0887"
             ],
             [
              0.1111111111111111,
              "#46039f"
             ],
             [
              0.2222222222222222,
              "#7201a8"
             ],
             [
              0.3333333333333333,
              "#9c179e"
             ],
             [
              0.4444444444444444,
              "#bd3786"
             ],
             [
              0.5555555555555556,
              "#d8576b"
             ],
             [
              0.6666666666666666,
              "#ed7953"
             ],
             [
              0.7777777777777778,
              "#fb9f3a"
             ],
             [
              0.8888888888888888,
              "#fdca26"
             ],
             [
              1,
              "#f0f921"
             ]
            ],
            "type": "histogram2d"
           }
          ],
          "histogram2dcontour": [
           {
            "colorbar": {
             "outlinewidth": 0,
             "ticks": ""
            },
            "colorscale": [
             [
              0,
              "#0d0887"
             ],
             [
              0.1111111111111111,
              "#46039f"
             ],
             [
              0.2222222222222222,
              "#7201a8"
             ],
             [
              0.3333333333333333,
              "#9c179e"
             ],
             [
              0.4444444444444444,
              "#bd3786"
             ],
             [
              0.5555555555555556,
              "#d8576b"
             ],
             [
              0.6666666666666666,
              "#ed7953"
             ],
             [
              0.7777777777777778,
              "#fb9f3a"
             ],
             [
              0.8888888888888888,
              "#fdca26"
             ],
             [
              1,
              "#f0f921"
             ]
            ],
            "type": "histogram2dcontour"
           }
          ],
          "mesh3d": [
           {
            "colorbar": {
             "outlinewidth": 0,
             "ticks": ""
            },
            "type": "mesh3d"
           }
          ],
          "parcoords": [
           {
            "line": {
             "colorbar": {
              "outlinewidth": 0,
              "ticks": ""
             }
            },
            "type": "parcoords"
           }
          ],
          "pie": [
           {
            "automargin": true,
            "type": "pie"
           }
          ],
          "scatter": [
           {
            "marker": {
             "colorbar": {
              "outlinewidth": 0,
              "ticks": ""
             }
            },
            "type": "scatter"
           }
          ],
          "scatter3d": [
           {
            "line": {
             "colorbar": {
              "outlinewidth": 0,
              "ticks": ""
             }
            },
            "marker": {
             "colorbar": {
              "outlinewidth": 0,
              "ticks": ""
             }
            },
            "type": "scatter3d"
           }
          ],
          "scattercarpet": [
           {
            "marker": {
             "colorbar": {
              "outlinewidth": 0,
              "ticks": ""
             }
            },
            "type": "scattercarpet"
           }
          ],
          "scattergeo": [
           {
            "marker": {
             "colorbar": {
              "outlinewidth": 0,
              "ticks": ""
             }
            },
            "type": "scattergeo"
           }
          ],
          "scattergl": [
           {
            "marker": {
             "colorbar": {
              "outlinewidth": 0,
              "ticks": ""
             }
            },
            "type": "scattergl"
           }
          ],
          "scattermapbox": [
           {
            "marker": {
             "colorbar": {
              "outlinewidth": 0,
              "ticks": ""
             }
            },
            "type": "scattermapbox"
           }
          ],
          "scatterpolar": [
           {
            "marker": {
             "colorbar": {
              "outlinewidth": 0,
              "ticks": ""
             }
            },
            "type": "scatterpolar"
           }
          ],
          "scatterpolargl": [
           {
            "marker": {
             "colorbar": {
              "outlinewidth": 0,
              "ticks": ""
             }
            },
            "type": "scatterpolargl"
           }
          ],
          "scatterternary": [
           {
            "marker": {
             "colorbar": {
              "outlinewidth": 0,
              "ticks": ""
             }
            },
            "type": "scatterternary"
           }
          ],
          "surface": [
           {
            "colorbar": {
             "outlinewidth": 0,
             "ticks": ""
            },
            "colorscale": [
             [
              0,
              "#0d0887"
             ],
             [
              0.1111111111111111,
              "#46039f"
             ],
             [
              0.2222222222222222,
              "#7201a8"
             ],
             [
              0.3333333333333333,
              "#9c179e"
             ],
             [
              0.4444444444444444,
              "#bd3786"
             ],
             [
              0.5555555555555556,
              "#d8576b"
             ],
             [
              0.6666666666666666,
              "#ed7953"
             ],
             [
              0.7777777777777778,
              "#fb9f3a"
             ],
             [
              0.8888888888888888,
              "#fdca26"
             ],
             [
              1,
              "#f0f921"
             ]
            ],
            "type": "surface"
           }
          ],
          "table": [
           {
            "cells": {
             "fill": {
              "color": "#EBF0F8"
             },
             "line": {
              "color": "white"
             }
            },
            "header": {
             "fill": {
              "color": "#C8D4E3"
             },
             "line": {
              "color": "white"
             }
            },
            "type": "table"
           }
          ]
         },
         "layout": {
          "annotationdefaults": {
           "arrowcolor": "#2a3f5f",
           "arrowhead": 0,
           "arrowwidth": 1
          },
          "coloraxis": {
           "colorbar": {
            "outlinewidth": 0,
            "ticks": ""
           }
          },
          "colorscale": {
           "diverging": [
            [
             0,
             "#8e0152"
            ],
            [
             0.1,
             "#c51b7d"
            ],
            [
             0.2,
             "#de77ae"
            ],
            [
             0.3,
             "#f1b6da"
            ],
            [
             0.4,
             "#fde0ef"
            ],
            [
             0.5,
             "#f7f7f7"
            ],
            [
             0.6,
             "#e6f5d0"
            ],
            [
             0.7,
             "#b8e186"
            ],
            [
             0.8,
             "#7fbc41"
            ],
            [
             0.9,
             "#4d9221"
            ],
            [
             1,
             "#276419"
            ]
           ],
           "sequential": [
            [
             0,
             "#0d0887"
            ],
            [
             0.1111111111111111,
             "#46039f"
            ],
            [
             0.2222222222222222,
             "#7201a8"
            ],
            [
             0.3333333333333333,
             "#9c179e"
            ],
            [
             0.4444444444444444,
             "#bd3786"
            ],
            [
             0.5555555555555556,
             "#d8576b"
            ],
            [
             0.6666666666666666,
             "#ed7953"
            ],
            [
             0.7777777777777778,
             "#fb9f3a"
            ],
            [
             0.8888888888888888,
             "#fdca26"
            ],
            [
             1,
             "#f0f921"
            ]
           ],
           "sequentialminus": [
            [
             0,
             "#0d0887"
            ],
            [
             0.1111111111111111,
             "#46039f"
            ],
            [
             0.2222222222222222,
             "#7201a8"
            ],
            [
             0.3333333333333333,
             "#9c179e"
            ],
            [
             0.4444444444444444,
             "#bd3786"
            ],
            [
             0.5555555555555556,
             "#d8576b"
            ],
            [
             0.6666666666666666,
             "#ed7953"
            ],
            [
             0.7777777777777778,
             "#fb9f3a"
            ],
            [
             0.8888888888888888,
             "#fdca26"
            ],
            [
             1,
             "#f0f921"
            ]
           ]
          },
          "colorway": [
           "#636efa",
           "#EF553B",
           "#00cc96",
           "#ab63fa",
           "#FFA15A",
           "#19d3f3",
           "#FF6692",
           "#B6E880",
           "#FF97FF",
           "#FECB52"
          ],
          "font": {
           "color": "#2a3f5f"
          },
          "geo": {
           "bgcolor": "white",
           "lakecolor": "white",
           "landcolor": "#E5ECF6",
           "showlakes": true,
           "showland": true,
           "subunitcolor": "white"
          },
          "hoverlabel": {
           "align": "left"
          },
          "hovermode": "closest",
          "mapbox": {
           "style": "light"
          },
          "paper_bgcolor": "white",
          "plot_bgcolor": "#E5ECF6",
          "polar": {
           "angularaxis": {
            "gridcolor": "white",
            "linecolor": "white",
            "ticks": ""
           },
           "bgcolor": "#E5ECF6",
           "radialaxis": {
            "gridcolor": "white",
            "linecolor": "white",
            "ticks": ""
           }
          },
          "scene": {
           "xaxis": {
            "backgroundcolor": "#E5ECF6",
            "gridcolor": "white",
            "gridwidth": 2,
            "linecolor": "white",
            "showbackground": true,
            "ticks": "",
            "zerolinecolor": "white"
           },
           "yaxis": {
            "backgroundcolor": "#E5ECF6",
            "gridcolor": "white",
            "gridwidth": 2,
            "linecolor": "white",
            "showbackground": true,
            "ticks": "",
            "zerolinecolor": "white"
           },
           "zaxis": {
            "backgroundcolor": "#E5ECF6",
            "gridcolor": "white",
            "gridwidth": 2,
            "linecolor": "white",
            "showbackground": true,
            "ticks": "",
            "zerolinecolor": "white"
           }
          },
          "shapedefaults": {
           "line": {
            "color": "#2a3f5f"
           }
          },
          "ternary": {
           "aaxis": {
            "gridcolor": "white",
            "linecolor": "white",
            "ticks": ""
           },
           "baxis": {
            "gridcolor": "white",
            "linecolor": "white",
            "ticks": ""
           },
           "bgcolor": "#E5ECF6",
           "caxis": {
            "gridcolor": "white",
            "linecolor": "white",
            "ticks": ""
           }
          },
          "title": {
           "x": 0.05
          },
          "xaxis": {
           "automargin": true,
           "gridcolor": "white",
           "linecolor": "white",
           "ticks": "",
           "title": {
            "standoff": 15
           },
           "zerolinecolor": "white",
           "zerolinewidth": 2
          },
          "yaxis": {
           "automargin": true,
           "gridcolor": "white",
           "linecolor": "white",
           "ticks": "",
           "title": {
            "standoff": 15
           },
           "zerolinecolor": "white",
           "zerolinewidth": 2
          }
         }
        }
       }
      },
      "text/html": [
       "<div>\n",
       "        \n",
       "        \n",
       "            <div id=\"ba9354fb-cf70-41a2-8328-0baaf402c3ea\" class=\"plotly-graph-div\" style=\"height:525px; width:100%;\"></div>\n",
       "            <script type=\"text/javascript\">\n",
       "                require([\"plotly\"], function(Plotly) {\n",
       "                    window.PLOTLYENV=window.PLOTLYENV || {};\n",
       "                    \n",
       "                if (document.getElementById(\"ba9354fb-cf70-41a2-8328-0baaf402c3ea\")) {\n",
       "                    Plotly.newPlot(\n",
       "                        'ba9354fb-cf70-41a2-8328-0baaf402c3ea',\n",
       "                        [{\"type\": \"heatmap\", \"z\": [[0.0, 1.0, 0.0, 0.0, 0.0, 0.0, 0.0, 0.0, 1.0, 1.0], [0.0, 0.0, 0.0, 0.0, 0.0, 0.0, 1.0, 1.0, 1.0, 1.0], [0.0, 0.0, 0.0, 0.0, 1.0, 0.0, 1.0, 0.0, 0.0, 0.0], [0.0, 0.0, 0.0, 0.0, 0.0, 0.0, 0.0, 0.0, 0.0, 1.0], [1.0, 0.0, 0.0, 0.0, 0.0, 0.0, 0.0, 0.0, 0.0, 0.0], [1.0, 0.0, 0.0, 1.0, 0.0, 0.0, 0.0, 1.0, 1.0, 1.0], [1.0, 0.0, 0.0, 0.0, 0.0, 0.0, 0.0, 0.0, 0.0, 0.0], [0.0, 0.0, 0.0, 0.0, 1.0, 1.0, 1.0, 1.0, 0.0, 0.0], [0.0, 0.0, 0.0, 1.0, 0.0, 1.0, 0.0, 0.0, 1.0, 1.0], [0.0, 0.0, 0.0, 0.0, 0.0, 0.0, 0.0, 0.0, 0.0, 1.0]], \"zmax\": 1, \"zmin\": 0}],\n",
       "                        {\"template\": {\"data\": {\"bar\": [{\"error_x\": {\"color\": \"#2a3f5f\"}, \"error_y\": {\"color\": \"#2a3f5f\"}, \"marker\": {\"line\": {\"color\": \"#E5ECF6\", \"width\": 0.5}}, \"type\": \"bar\"}], \"barpolar\": [{\"marker\": {\"line\": {\"color\": \"#E5ECF6\", \"width\": 0.5}}, \"type\": \"barpolar\"}], \"carpet\": [{\"aaxis\": {\"endlinecolor\": \"#2a3f5f\", \"gridcolor\": \"white\", \"linecolor\": \"white\", \"minorgridcolor\": \"white\", \"startlinecolor\": \"#2a3f5f\"}, \"baxis\": {\"endlinecolor\": \"#2a3f5f\", \"gridcolor\": \"white\", \"linecolor\": \"white\", \"minorgridcolor\": \"white\", \"startlinecolor\": \"#2a3f5f\"}, \"type\": \"carpet\"}], \"choropleth\": [{\"colorbar\": {\"outlinewidth\": 0, \"ticks\": \"\"}, \"type\": \"choropleth\"}], \"contour\": [{\"colorbar\": {\"outlinewidth\": 0, \"ticks\": \"\"}, \"colorscale\": [[0.0, \"#0d0887\"], [0.1111111111111111, \"#46039f\"], [0.2222222222222222, \"#7201a8\"], [0.3333333333333333, \"#9c179e\"], [0.4444444444444444, \"#bd3786\"], [0.5555555555555556, \"#d8576b\"], [0.6666666666666666, \"#ed7953\"], [0.7777777777777778, \"#fb9f3a\"], [0.8888888888888888, \"#fdca26\"], [1.0, \"#f0f921\"]], \"type\": \"contour\"}], \"contourcarpet\": [{\"colorbar\": {\"outlinewidth\": 0, \"ticks\": \"\"}, \"type\": \"contourcarpet\"}], \"heatmap\": [{\"colorbar\": {\"outlinewidth\": 0, \"ticks\": \"\"}, \"colorscale\": [[0.0, \"#0d0887\"], [0.1111111111111111, \"#46039f\"], [0.2222222222222222, \"#7201a8\"], [0.3333333333333333, \"#9c179e\"], [0.4444444444444444, \"#bd3786\"], [0.5555555555555556, \"#d8576b\"], [0.6666666666666666, \"#ed7953\"], [0.7777777777777778, \"#fb9f3a\"], [0.8888888888888888, \"#fdca26\"], [1.0, \"#f0f921\"]], \"type\": \"heatmap\"}], \"heatmapgl\": [{\"colorbar\": {\"outlinewidth\": 0, \"ticks\": \"\"}, \"colorscale\": [[0.0, \"#0d0887\"], [0.1111111111111111, \"#46039f\"], [0.2222222222222222, \"#7201a8\"], [0.3333333333333333, \"#9c179e\"], [0.4444444444444444, \"#bd3786\"], [0.5555555555555556, \"#d8576b\"], [0.6666666666666666, \"#ed7953\"], [0.7777777777777778, \"#fb9f3a\"], [0.8888888888888888, \"#fdca26\"], [1.0, \"#f0f921\"]], \"type\": \"heatmapgl\"}], \"histogram\": [{\"marker\": {\"colorbar\": {\"outlinewidth\": 0, \"ticks\": \"\"}}, \"type\": \"histogram\"}], \"histogram2d\": [{\"colorbar\": {\"outlinewidth\": 0, \"ticks\": \"\"}, \"colorscale\": [[0.0, \"#0d0887\"], [0.1111111111111111, \"#46039f\"], [0.2222222222222222, \"#7201a8\"], [0.3333333333333333, \"#9c179e\"], [0.4444444444444444, \"#bd3786\"], [0.5555555555555556, \"#d8576b\"], [0.6666666666666666, \"#ed7953\"], [0.7777777777777778, \"#fb9f3a\"], [0.8888888888888888, \"#fdca26\"], [1.0, \"#f0f921\"]], \"type\": \"histogram2d\"}], \"histogram2dcontour\": [{\"colorbar\": {\"outlinewidth\": 0, \"ticks\": \"\"}, \"colorscale\": [[0.0, \"#0d0887\"], [0.1111111111111111, \"#46039f\"], [0.2222222222222222, \"#7201a8\"], [0.3333333333333333, \"#9c179e\"], [0.4444444444444444, \"#bd3786\"], [0.5555555555555556, \"#d8576b\"], [0.6666666666666666, \"#ed7953\"], [0.7777777777777778, \"#fb9f3a\"], [0.8888888888888888, \"#fdca26\"], [1.0, \"#f0f921\"]], \"type\": \"histogram2dcontour\"}], \"mesh3d\": [{\"colorbar\": {\"outlinewidth\": 0, \"ticks\": \"\"}, \"type\": \"mesh3d\"}], \"parcoords\": [{\"line\": {\"colorbar\": {\"outlinewidth\": 0, \"ticks\": \"\"}}, \"type\": \"parcoords\"}], \"pie\": [{\"automargin\": true, \"type\": \"pie\"}], \"scatter\": [{\"marker\": {\"colorbar\": {\"outlinewidth\": 0, \"ticks\": \"\"}}, \"type\": \"scatter\"}], \"scatter3d\": [{\"line\": {\"colorbar\": {\"outlinewidth\": 0, \"ticks\": \"\"}}, \"marker\": {\"colorbar\": {\"outlinewidth\": 0, \"ticks\": \"\"}}, \"type\": \"scatter3d\"}], \"scattercarpet\": [{\"marker\": {\"colorbar\": {\"outlinewidth\": 0, \"ticks\": \"\"}}, \"type\": \"scattercarpet\"}], \"scattergeo\": [{\"marker\": {\"colorbar\": {\"outlinewidth\": 0, \"ticks\": \"\"}}, \"type\": \"scattergeo\"}], \"scattergl\": [{\"marker\": {\"colorbar\": {\"outlinewidth\": 0, \"ticks\": \"\"}}, \"type\": \"scattergl\"}], \"scattermapbox\": [{\"marker\": {\"colorbar\": {\"outlinewidth\": 0, \"ticks\": \"\"}}, \"type\": \"scattermapbox\"}], \"scatterpolar\": [{\"marker\": {\"colorbar\": {\"outlinewidth\": 0, \"ticks\": \"\"}}, \"type\": \"scatterpolar\"}], \"scatterpolargl\": [{\"marker\": {\"colorbar\": {\"outlinewidth\": 0, \"ticks\": \"\"}}, \"type\": \"scatterpolargl\"}], \"scatterternary\": [{\"marker\": {\"colorbar\": {\"outlinewidth\": 0, \"ticks\": \"\"}}, \"type\": \"scatterternary\"}], \"surface\": [{\"colorbar\": {\"outlinewidth\": 0, \"ticks\": \"\"}, \"colorscale\": [[0.0, \"#0d0887\"], [0.1111111111111111, \"#46039f\"], [0.2222222222222222, \"#7201a8\"], [0.3333333333333333, \"#9c179e\"], [0.4444444444444444, \"#bd3786\"], [0.5555555555555556, \"#d8576b\"], [0.6666666666666666, \"#ed7953\"], [0.7777777777777778, \"#fb9f3a\"], [0.8888888888888888, \"#fdca26\"], [1.0, \"#f0f921\"]], \"type\": \"surface\"}], \"table\": [{\"cells\": {\"fill\": {\"color\": \"#EBF0F8\"}, \"line\": {\"color\": \"white\"}}, \"header\": {\"fill\": {\"color\": \"#C8D4E3\"}, \"line\": {\"color\": \"white\"}}, \"type\": \"table\"}]}, \"layout\": {\"annotationdefaults\": {\"arrowcolor\": \"#2a3f5f\", \"arrowhead\": 0, \"arrowwidth\": 1}, \"coloraxis\": {\"colorbar\": {\"outlinewidth\": 0, \"ticks\": \"\"}}, \"colorscale\": {\"diverging\": [[0, \"#8e0152\"], [0.1, \"#c51b7d\"], [0.2, \"#de77ae\"], [0.3, \"#f1b6da\"], [0.4, \"#fde0ef\"], [0.5, \"#f7f7f7\"], [0.6, \"#e6f5d0\"], [0.7, \"#b8e186\"], [0.8, \"#7fbc41\"], [0.9, \"#4d9221\"], [1, \"#276419\"]], \"sequential\": [[0.0, \"#0d0887\"], [0.1111111111111111, \"#46039f\"], [0.2222222222222222, \"#7201a8\"], [0.3333333333333333, \"#9c179e\"], [0.4444444444444444, \"#bd3786\"], [0.5555555555555556, \"#d8576b\"], [0.6666666666666666, \"#ed7953\"], [0.7777777777777778, \"#fb9f3a\"], [0.8888888888888888, \"#fdca26\"], [1.0, \"#f0f921\"]], \"sequentialminus\": [[0.0, \"#0d0887\"], [0.1111111111111111, \"#46039f\"], [0.2222222222222222, \"#7201a8\"], [0.3333333333333333, \"#9c179e\"], [0.4444444444444444, \"#bd3786\"], [0.5555555555555556, \"#d8576b\"], [0.6666666666666666, \"#ed7953\"], [0.7777777777777778, \"#fb9f3a\"], [0.8888888888888888, \"#fdca26\"], [1.0, \"#f0f921\"]]}, \"colorway\": [\"#636efa\", \"#EF553B\", \"#00cc96\", \"#ab63fa\", \"#FFA15A\", \"#19d3f3\", \"#FF6692\", \"#B6E880\", \"#FF97FF\", \"#FECB52\"], \"font\": {\"color\": \"#2a3f5f\"}, \"geo\": {\"bgcolor\": \"white\", \"lakecolor\": \"white\", \"landcolor\": \"#E5ECF6\", \"showlakes\": true, \"showland\": true, \"subunitcolor\": \"white\"}, \"hoverlabel\": {\"align\": \"left\"}, \"hovermode\": \"closest\", \"mapbox\": {\"style\": \"light\"}, \"paper_bgcolor\": \"white\", \"plot_bgcolor\": \"#E5ECF6\", \"polar\": {\"angularaxis\": {\"gridcolor\": \"white\", \"linecolor\": \"white\", \"ticks\": \"\"}, \"bgcolor\": \"#E5ECF6\", \"radialaxis\": {\"gridcolor\": \"white\", \"linecolor\": \"white\", \"ticks\": \"\"}}, \"scene\": {\"xaxis\": {\"backgroundcolor\": \"#E5ECF6\", \"gridcolor\": \"white\", \"gridwidth\": 2, \"linecolor\": \"white\", \"showbackground\": true, \"ticks\": \"\", \"zerolinecolor\": \"white\"}, \"yaxis\": {\"backgroundcolor\": \"#E5ECF6\", \"gridcolor\": \"white\", \"gridwidth\": 2, \"linecolor\": \"white\", \"showbackground\": true, \"ticks\": \"\", \"zerolinecolor\": \"white\"}, \"zaxis\": {\"backgroundcolor\": \"#E5ECF6\", \"gridcolor\": \"white\", \"gridwidth\": 2, \"linecolor\": \"white\", \"showbackground\": true, \"ticks\": \"\", \"zerolinecolor\": \"white\"}}, \"shapedefaults\": {\"line\": {\"color\": \"#2a3f5f\"}}, \"ternary\": {\"aaxis\": {\"gridcolor\": \"white\", \"linecolor\": \"white\", \"ticks\": \"\"}, \"baxis\": {\"gridcolor\": \"white\", \"linecolor\": \"white\", \"ticks\": \"\"}, \"bgcolor\": \"#E5ECF6\", \"caxis\": {\"gridcolor\": \"white\", \"linecolor\": \"white\", \"ticks\": \"\"}}, \"title\": {\"x\": 0.05}, \"xaxis\": {\"automargin\": true, \"gridcolor\": \"white\", \"linecolor\": \"white\", \"ticks\": \"\", \"title\": {\"standoff\": 15}, \"zerolinecolor\": \"white\", \"zerolinewidth\": 2}, \"yaxis\": {\"automargin\": true, \"gridcolor\": \"white\", \"linecolor\": \"white\", \"ticks\": \"\", \"title\": {\"standoff\": 15}, \"zerolinecolor\": \"white\", \"zerolinewidth\": 2}}}},\n",
       "                        {\"responsive\": true}\n",
       "                    ).then(function(){\n",
       "                            \n",
       "var gd = document.getElementById('ba9354fb-cf70-41a2-8328-0baaf402c3ea');\n",
       "var x = new MutationObserver(function (mutations, observer) {{\n",
       "        var display = window.getComputedStyle(gd).display;\n",
       "        if (!display || display === 'none') {{\n",
       "            console.log([gd, 'removed!']);\n",
       "            Plotly.purge(gd);\n",
       "            observer.disconnect();\n",
       "        }}\n",
       "}});\n",
       "\n",
       "// Listen for the removal of the full notebook cells\n",
       "var notebookContainer = gd.closest('#notebook-container');\n",
       "if (notebookContainer) {{\n",
       "    x.observe(notebookContainer, {childList: true});\n",
       "}}\n",
       "\n",
       "// Listen for the clearing of the current output cell\n",
       "var outputEl = gd.closest('.output');\n",
       "if (outputEl) {{\n",
       "    x.observe(outputEl, {childList: true});\n",
       "}}\n",
       "\n",
       "                        })\n",
       "                };\n",
       "                });\n",
       "            </script>\n",
       "        </div>"
      ]
     },
     "metadata": {},
     "output_type": "display_data"
    }
   ],
   "source": [
    "conv_thresh = 5.\n",
    "zmin = 0.\n",
    "zmax = 10\n",
    "\n",
    "print(\"Baseline\")\n",
    "fig = go.Figure()\n",
    "fig.add_trace(go.Heatmap(\n",
    "    z = bench_baseline.detach().numpy(),\n",
    "    zmin = zmin,\n",
    "    zmax = zmax,\n",
    "    ))\n",
    "fig.show()\n",
    "\n",
    "print(\"Adversarial\")\n",
    "fig = go.Figure()\n",
    "fig.add_trace(go.Heatmap(\n",
    "    z = bench_adv.detach().numpy(),\n",
    "    zmin = zmin,\n",
    "    zmax = zmax,\n",
    "    ))\n",
    "fig.show()\n",
    "\n",
    "print(\"LQR\")\n",
    "fig = go.Figure()\n",
    "fig.add_trace(go.Heatmap(\n",
    "    z = bench_lqr.detach().numpy(),\n",
    "    zmin = zmin,\n",
    "    zmax = zmax,\n",
    "    ))\n",
    "fig.show()\n",
    "\n",
    "print(\"Improvement\")\n",
    "fig = go.Figure()\n",
    "fig.add_trace(go.Heatmap(\n",
    "    z = bench_baseline.detach().numpy() - bench_adv.detach().numpy(),\n",
    "    zmin = -zmax,\n",
    "    zmax = zmax,\n",
    "    ))\n",
    "fig.show()\n",
    "\n",
    "print(\"Baseline\")\n",
    "fig = go.Figure()\n",
    "fig.add_trace(go.Heatmap(\n",
    "    z = torch.Tensor(bench_baseline.detach().numpy() < conv_thresh).type(vf.dtype),\n",
    "    zmin = 0,\n",
    "    zmax = 1,\n",
    "    ))\n",
    "fig.show()\n",
    "\n",
    "print(\"Adversarial\")\n",
    "fig = go.Figure()\n",
    "fig.add_trace(go.Heatmap(\n",
    "    z = torch.Tensor(bench_adv.detach().numpy() < conv_thresh).type(vf.dtype),\n",
    "    zmin = 0,\n",
    "    zmax = 1,\n",
    "    ))\n",
    "fig.show()\n",
    "\n",
    "print(\"LQR\")\n",
    "fig = go.Figure()\n",
    "fig.add_trace(go.Heatmap(\n",
    "    z = torch.Tensor(bench_lqr.detach().numpy() < conv_thresh).type(vf.dtype),\n",
    "    zmin = 0,\n",
    "    zmax = 1,\n",
    "    ))\n",
    "fig.show()\n",
    "\n",
    "print(\"Improvement\")\n",
    "fig = go.Figure()\n",
    "fig.add_trace(go.Heatmap(\n",
    "    z = torch.Tensor(bench_baseline.detach().numpy() >= bench_adv.detach().numpy()).type(vf.dtype),\n",
    "    zmin = 0,\n",
    "    zmax = 1,\n",
    "    ))\n",
    "fig.show()"
   ]
  },
  {
   "cell_type": "code",
   "execution_count": 103,
   "metadata": {},
   "outputs": [],
   "source": [
    "vf_ctrl, sys_ctrl = double_pendulum_utils.get_value_function(vf_ctrl_N)\n",
    "ctrl_no_model = controllers.get_limited_lookahead_controller(vf_ctrl)\n",
    "bench_no_model = controllers.benchmark_controller(vf.u_dim[0], sys.dx, ctrl_no_model, x0, x0_eps, num_breaks, x_goal, dt_sim, N)"
   ]
  },
  {
   "cell_type": "code",
   "execution_count": 104,
   "metadata": {},
   "outputs": [
    {
     "name": "stdout",
     "output_type": "stream",
     "text": [
      "No Model\n"
     ]
    },
    {
     "data": {
      "application/vnd.plotly.v1+json": {
       "config": {
        "plotlyServerURL": "https://plot.ly"
       },
       "data": [
        {
         "type": "heatmap",
         "z": [
          [
           3.8432817620443953,
           3.9009216478476074,
           3.951318718959936,
           3.993132249614135,
           4.024038207619439,
           4.040372379752708,
           4.037639866389662,
           4.0115024192414115,
           3.9584025800522915,
           3.8755948262089555
          ],
          [
           3.8846507448272436,
           3.941934584612549,
           3.9871019593057135,
           4.014245845575263,
           4.014958958096698,
           3.979305562271384,
           3.8977222783863787,
           3.7623224254511367,
           3.567119873706705,
           3.3075218957239882
          ],
          [
           3.8841410145621826,
           3.9292879028662764,
           3.940940579770583,
           3.9018386488048242,
           3.7929751688705333,
           3.59754204783469,
           3.303941123797422,
           2.9074310747625565,
           2.419270511737755,
           1.9134707016358592
          ],
          [
           3.776821604678714,
           3.7528386137768326,
           3.635144096977257,
           3.394259831784821,
           3.0118678718630383,
           2.4938270983252093,
           1.9251988272657456,
           1.7348602539493916,
           3.0440043008514728,
           4.783348958037766
          ],
          [
           3.3484917650504595,
           3.091831074788705,
           2.6478686138232277,
           2.073636387012267,
           1.7690668849724311,
           3.0064979886801004,
           2.0871047296096523,
           2.9458154436458033,
           1.9085080757859691,
           2.1928453386770164
          ],
          [
           2.192843290778321,
           1.9085066516519085,
           2.94583593776283,
           2.079999876401884,
           3.0067020648644185,
           1.7690582157380046,
           2.0736588397403177,
           2.647869847243233,
           3.0918308090484223,
           3.3484902719215794
          ],
          [
           4.783352029697541,
           3.0439331389805995,
           1.7348680298439882,
           1.925216549538841,
           2.493825173859853,
           3.0118664399741766,
           3.394262763227659,
           3.635135966253933,
           3.752838033147463,
           3.7768215982503404
          ],
          [
           1.9134583745804297,
           2.4192977372861515,
           2.90741810372822,
           3.3039332065072133,
           3.597545605215717,
           3.792978576228891,
           3.9018378370962954,
           3.9409396344613246,
           3.92928828142044,
           3.884140397646384
          ],
          [
           3.307532762869964,
           3.5671092811784764,
           3.7623314910668357,
           3.8977193730974156,
           3.9793053124047497,
           4.014957786121921,
           4.014245886951311,
           3.987102712949279,
           3.9419350118160668,
           3.884651286492661
          ],
          [
           3.875592943498983,
           3.958402352978559,
           4.011502632709274,
           4.037639550151426,
           4.040372514355952,
           4.024038735916934,
           3.993132037619299,
           3.9513190100008644,
           3.9009219006507365,
           3.843281713777378
          ]
         ],
         "zmax": 10,
         "zmin": 0
        }
       ],
       "layout": {
        "template": {
         "data": {
          "bar": [
           {
            "error_x": {
             "color": "#2a3f5f"
            },
            "error_y": {
             "color": "#2a3f5f"
            },
            "marker": {
             "line": {
              "color": "#E5ECF6",
              "width": 0.5
             }
            },
            "type": "bar"
           }
          ],
          "barpolar": [
           {
            "marker": {
             "line": {
              "color": "#E5ECF6",
              "width": 0.5
             }
            },
            "type": "barpolar"
           }
          ],
          "carpet": [
           {
            "aaxis": {
             "endlinecolor": "#2a3f5f",
             "gridcolor": "white",
             "linecolor": "white",
             "minorgridcolor": "white",
             "startlinecolor": "#2a3f5f"
            },
            "baxis": {
             "endlinecolor": "#2a3f5f",
             "gridcolor": "white",
             "linecolor": "white",
             "minorgridcolor": "white",
             "startlinecolor": "#2a3f5f"
            },
            "type": "carpet"
           }
          ],
          "choropleth": [
           {
            "colorbar": {
             "outlinewidth": 0,
             "ticks": ""
            },
            "type": "choropleth"
           }
          ],
          "contour": [
           {
            "colorbar": {
             "outlinewidth": 0,
             "ticks": ""
            },
            "colorscale": [
             [
              0,
              "#0d0887"
             ],
             [
              0.1111111111111111,
              "#46039f"
             ],
             [
              0.2222222222222222,
              "#7201a8"
             ],
             [
              0.3333333333333333,
              "#9c179e"
             ],
             [
              0.4444444444444444,
              "#bd3786"
             ],
             [
              0.5555555555555556,
              "#d8576b"
             ],
             [
              0.6666666666666666,
              "#ed7953"
             ],
             [
              0.7777777777777778,
              "#fb9f3a"
             ],
             [
              0.8888888888888888,
              "#fdca26"
             ],
             [
              1,
              "#f0f921"
             ]
            ],
            "type": "contour"
           }
          ],
          "contourcarpet": [
           {
            "colorbar": {
             "outlinewidth": 0,
             "ticks": ""
            },
            "type": "contourcarpet"
           }
          ],
          "heatmap": [
           {
            "colorbar": {
             "outlinewidth": 0,
             "ticks": ""
            },
            "colorscale": [
             [
              0,
              "#0d0887"
             ],
             [
              0.1111111111111111,
              "#46039f"
             ],
             [
              0.2222222222222222,
              "#7201a8"
             ],
             [
              0.3333333333333333,
              "#9c179e"
             ],
             [
              0.4444444444444444,
              "#bd3786"
             ],
             [
              0.5555555555555556,
              "#d8576b"
             ],
             [
              0.6666666666666666,
              "#ed7953"
             ],
             [
              0.7777777777777778,
              "#fb9f3a"
             ],
             [
              0.8888888888888888,
              "#fdca26"
             ],
             [
              1,
              "#f0f921"
             ]
            ],
            "type": "heatmap"
           }
          ],
          "heatmapgl": [
           {
            "colorbar": {
             "outlinewidth": 0,
             "ticks": ""
            },
            "colorscale": [
             [
              0,
              "#0d0887"
             ],
             [
              0.1111111111111111,
              "#46039f"
             ],
             [
              0.2222222222222222,
              "#7201a8"
             ],
             [
              0.3333333333333333,
              "#9c179e"
             ],
             [
              0.4444444444444444,
              "#bd3786"
             ],
             [
              0.5555555555555556,
              "#d8576b"
             ],
             [
              0.6666666666666666,
              "#ed7953"
             ],
             [
              0.7777777777777778,
              "#fb9f3a"
             ],
             [
              0.8888888888888888,
              "#fdca26"
             ],
             [
              1,
              "#f0f921"
             ]
            ],
            "type": "heatmapgl"
           }
          ],
          "histogram": [
           {
            "marker": {
             "colorbar": {
              "outlinewidth": 0,
              "ticks": ""
             }
            },
            "type": "histogram"
           }
          ],
          "histogram2d": [
           {
            "colorbar": {
             "outlinewidth": 0,
             "ticks": ""
            },
            "colorscale": [
             [
              0,
              "#0d0887"
             ],
             [
              0.1111111111111111,
              "#46039f"
             ],
             [
              0.2222222222222222,
              "#7201a8"
             ],
             [
              0.3333333333333333,
              "#9c179e"
             ],
             [
              0.4444444444444444,
              "#bd3786"
             ],
             [
              0.5555555555555556,
              "#d8576b"
             ],
             [
              0.6666666666666666,
              "#ed7953"
             ],
             [
              0.7777777777777778,
              "#fb9f3a"
             ],
             [
              0.8888888888888888,
              "#fdca26"
             ],
             [
              1,
              "#f0f921"
             ]
            ],
            "type": "histogram2d"
           }
          ],
          "histogram2dcontour": [
           {
            "colorbar": {
             "outlinewidth": 0,
             "ticks": ""
            },
            "colorscale": [
             [
              0,
              "#0d0887"
             ],
             [
              0.1111111111111111,
              "#46039f"
             ],
             [
              0.2222222222222222,
              "#7201a8"
             ],
             [
              0.3333333333333333,
              "#9c179e"
             ],
             [
              0.4444444444444444,
              "#bd3786"
             ],
             [
              0.5555555555555556,
              "#d8576b"
             ],
             [
              0.6666666666666666,
              "#ed7953"
             ],
             [
              0.7777777777777778,
              "#fb9f3a"
             ],
             [
              0.8888888888888888,
              "#fdca26"
             ],
             [
              1,
              "#f0f921"
             ]
            ],
            "type": "histogram2dcontour"
           }
          ],
          "mesh3d": [
           {
            "colorbar": {
             "outlinewidth": 0,
             "ticks": ""
            },
            "type": "mesh3d"
           }
          ],
          "parcoords": [
           {
            "line": {
             "colorbar": {
              "outlinewidth": 0,
              "ticks": ""
             }
            },
            "type": "parcoords"
           }
          ],
          "pie": [
           {
            "automargin": true,
            "type": "pie"
           }
          ],
          "scatter": [
           {
            "marker": {
             "colorbar": {
              "outlinewidth": 0,
              "ticks": ""
             }
            },
            "type": "scatter"
           }
          ],
          "scatter3d": [
           {
            "line": {
             "colorbar": {
              "outlinewidth": 0,
              "ticks": ""
             }
            },
            "marker": {
             "colorbar": {
              "outlinewidth": 0,
              "ticks": ""
             }
            },
            "type": "scatter3d"
           }
          ],
          "scattercarpet": [
           {
            "marker": {
             "colorbar": {
              "outlinewidth": 0,
              "ticks": ""
             }
            },
            "type": "scattercarpet"
           }
          ],
          "scattergeo": [
           {
            "marker": {
             "colorbar": {
              "outlinewidth": 0,
              "ticks": ""
             }
            },
            "type": "scattergeo"
           }
          ],
          "scattergl": [
           {
            "marker": {
             "colorbar": {
              "outlinewidth": 0,
              "ticks": ""
             }
            },
            "type": "scattergl"
           }
          ],
          "scattermapbox": [
           {
            "marker": {
             "colorbar": {
              "outlinewidth": 0,
              "ticks": ""
             }
            },
            "type": "scattermapbox"
           }
          ],
          "scatterpolar": [
           {
            "marker": {
             "colorbar": {
              "outlinewidth": 0,
              "ticks": ""
             }
            },
            "type": "scatterpolar"
           }
          ],
          "scatterpolargl": [
           {
            "marker": {
             "colorbar": {
              "outlinewidth": 0,
              "ticks": ""
             }
            },
            "type": "scatterpolargl"
           }
          ],
          "scatterternary": [
           {
            "marker": {
             "colorbar": {
              "outlinewidth": 0,
              "ticks": ""
             }
            },
            "type": "scatterternary"
           }
          ],
          "surface": [
           {
            "colorbar": {
             "outlinewidth": 0,
             "ticks": ""
            },
            "colorscale": [
             [
              0,
              "#0d0887"
             ],
             [
              0.1111111111111111,
              "#46039f"
             ],
             [
              0.2222222222222222,
              "#7201a8"
             ],
             [
              0.3333333333333333,
              "#9c179e"
             ],
             [
              0.4444444444444444,
              "#bd3786"
             ],
             [
              0.5555555555555556,
              "#d8576b"
             ],
             [
              0.6666666666666666,
              "#ed7953"
             ],
             [
              0.7777777777777778,
              "#fb9f3a"
             ],
             [
              0.8888888888888888,
              "#fdca26"
             ],
             [
              1,
              "#f0f921"
             ]
            ],
            "type": "surface"
           }
          ],
          "table": [
           {
            "cells": {
             "fill": {
              "color": "#EBF0F8"
             },
             "line": {
              "color": "white"
             }
            },
            "header": {
             "fill": {
              "color": "#C8D4E3"
             },
             "line": {
              "color": "white"
             }
            },
            "type": "table"
           }
          ]
         },
         "layout": {
          "annotationdefaults": {
           "arrowcolor": "#2a3f5f",
           "arrowhead": 0,
           "arrowwidth": 1
          },
          "coloraxis": {
           "colorbar": {
            "outlinewidth": 0,
            "ticks": ""
           }
          },
          "colorscale": {
           "diverging": [
            [
             0,
             "#8e0152"
            ],
            [
             0.1,
             "#c51b7d"
            ],
            [
             0.2,
             "#de77ae"
            ],
            [
             0.3,
             "#f1b6da"
            ],
            [
             0.4,
             "#fde0ef"
            ],
            [
             0.5,
             "#f7f7f7"
            ],
            [
             0.6,
             "#e6f5d0"
            ],
            [
             0.7,
             "#b8e186"
            ],
            [
             0.8,
             "#7fbc41"
            ],
            [
             0.9,
             "#4d9221"
            ],
            [
             1,
             "#276419"
            ]
           ],
           "sequential": [
            [
             0,
             "#0d0887"
            ],
            [
             0.1111111111111111,
             "#46039f"
            ],
            [
             0.2222222222222222,
             "#7201a8"
            ],
            [
             0.3333333333333333,
             "#9c179e"
            ],
            [
             0.4444444444444444,
             "#bd3786"
            ],
            [
             0.5555555555555556,
             "#d8576b"
            ],
            [
             0.6666666666666666,
             "#ed7953"
            ],
            [
             0.7777777777777778,
             "#fb9f3a"
            ],
            [
             0.8888888888888888,
             "#fdca26"
            ],
            [
             1,
             "#f0f921"
            ]
           ],
           "sequentialminus": [
            [
             0,
             "#0d0887"
            ],
            [
             0.1111111111111111,
             "#46039f"
            ],
            [
             0.2222222222222222,
             "#7201a8"
            ],
            [
             0.3333333333333333,
             "#9c179e"
            ],
            [
             0.4444444444444444,
             "#bd3786"
            ],
            [
             0.5555555555555556,
             "#d8576b"
            ],
            [
             0.6666666666666666,
             "#ed7953"
            ],
            [
             0.7777777777777778,
             "#fb9f3a"
            ],
            [
             0.8888888888888888,
             "#fdca26"
            ],
            [
             1,
             "#f0f921"
            ]
           ]
          },
          "colorway": [
           "#636efa",
           "#EF553B",
           "#00cc96",
           "#ab63fa",
           "#FFA15A",
           "#19d3f3",
           "#FF6692",
           "#B6E880",
           "#FF97FF",
           "#FECB52"
          ],
          "font": {
           "color": "#2a3f5f"
          },
          "geo": {
           "bgcolor": "white",
           "lakecolor": "white",
           "landcolor": "#E5ECF6",
           "showlakes": true,
           "showland": true,
           "subunitcolor": "white"
          },
          "hoverlabel": {
           "align": "left"
          },
          "hovermode": "closest",
          "mapbox": {
           "style": "light"
          },
          "paper_bgcolor": "white",
          "plot_bgcolor": "#E5ECF6",
          "polar": {
           "angularaxis": {
            "gridcolor": "white",
            "linecolor": "white",
            "ticks": ""
           },
           "bgcolor": "#E5ECF6",
           "radialaxis": {
            "gridcolor": "white",
            "linecolor": "white",
            "ticks": ""
           }
          },
          "scene": {
           "xaxis": {
            "backgroundcolor": "#E5ECF6",
            "gridcolor": "white",
            "gridwidth": 2,
            "linecolor": "white",
            "showbackground": true,
            "ticks": "",
            "zerolinecolor": "white"
           },
           "yaxis": {
            "backgroundcolor": "#E5ECF6",
            "gridcolor": "white",
            "gridwidth": 2,
            "linecolor": "white",
            "showbackground": true,
            "ticks": "",
            "zerolinecolor": "white"
           },
           "zaxis": {
            "backgroundcolor": "#E5ECF6",
            "gridcolor": "white",
            "gridwidth": 2,
            "linecolor": "white",
            "showbackground": true,
            "ticks": "",
            "zerolinecolor": "white"
           }
          },
          "shapedefaults": {
           "line": {
            "color": "#2a3f5f"
           }
          },
          "ternary": {
           "aaxis": {
            "gridcolor": "white",
            "linecolor": "white",
            "ticks": ""
           },
           "baxis": {
            "gridcolor": "white",
            "linecolor": "white",
            "ticks": ""
           },
           "bgcolor": "#E5ECF6",
           "caxis": {
            "gridcolor": "white",
            "linecolor": "white",
            "ticks": ""
           }
          },
          "title": {
           "x": 0.05
          },
          "xaxis": {
           "automargin": true,
           "gridcolor": "white",
           "linecolor": "white",
           "ticks": "",
           "title": {
            "standoff": 15
           },
           "zerolinecolor": "white",
           "zerolinewidth": 2
          },
          "yaxis": {
           "automargin": true,
           "gridcolor": "white",
           "linecolor": "white",
           "ticks": "",
           "title": {
            "standoff": 15
           },
           "zerolinecolor": "white",
           "zerolinewidth": 2
          }
         }
        }
       }
      },
      "text/html": [
       "<div>\n",
       "        \n",
       "        \n",
       "            <div id=\"f7b5193c-65b7-4d4d-af10-94ab5adabf1d\" class=\"plotly-graph-div\" style=\"height:525px; width:100%;\"></div>\n",
       "            <script type=\"text/javascript\">\n",
       "                require([\"plotly\"], function(Plotly) {\n",
       "                    window.PLOTLYENV=window.PLOTLYENV || {};\n",
       "                    \n",
       "                if (document.getElementById(\"f7b5193c-65b7-4d4d-af10-94ab5adabf1d\")) {\n",
       "                    Plotly.newPlot(\n",
       "                        'f7b5193c-65b7-4d4d-af10-94ab5adabf1d',\n",
       "                        [{\"type\": \"heatmap\", \"z\": [[3.8432817620443953, 3.9009216478476074, 3.951318718959936, 3.993132249614135, 4.024038207619439, 4.040372379752708, 4.037639866389662, 4.0115024192414115, 3.9584025800522915, 3.8755948262089555], [3.8846507448272436, 3.941934584612549, 3.9871019593057135, 4.014245845575263, 4.014958958096698, 3.979305562271384, 3.8977222783863787, 3.7623224254511367, 3.567119873706705, 3.3075218957239882], [3.8841410145621826, 3.9292879028662764, 3.940940579770583, 3.9018386488048242, 3.7929751688705333, 3.59754204783469, 3.303941123797422, 2.9074310747625565, 2.419270511737755, 1.9134707016358592], [3.776821604678714, 3.7528386137768326, 3.635144096977257, 3.394259831784821, 3.0118678718630383, 2.4938270983252093, 1.9251988272657456, 1.7348602539493916, 3.0440043008514728, 4.783348958037766], [3.3484917650504595, 3.091831074788705, 2.6478686138232277, 2.073636387012267, 1.7690668849724311, 3.0064979886801004, 2.0871047296096523, 2.9458154436458033, 1.9085080757859691, 2.1928453386770164], [2.192843290778321, 1.9085066516519085, 2.94583593776283, 2.079999876401884, 3.0067020648644185, 1.7690582157380046, 2.0736588397403177, 2.647869847243233, 3.0918308090484223, 3.3484902719215794], [4.783352029697541, 3.0439331389805995, 1.7348680298439882, 1.925216549538841, 2.493825173859853, 3.0118664399741766, 3.394262763227659, 3.635135966253933, 3.752838033147463, 3.7768215982503404], [1.9134583745804297, 2.4192977372861515, 2.90741810372822, 3.3039332065072133, 3.597545605215717, 3.792978576228891, 3.9018378370962954, 3.9409396344613246, 3.92928828142044, 3.884140397646384], [3.307532762869964, 3.5671092811784764, 3.7623314910668357, 3.8977193730974156, 3.9793053124047497, 4.014957786121921, 4.014245886951311, 3.987102712949279, 3.9419350118160668, 3.884651286492661], [3.875592943498983, 3.958402352978559, 4.011502632709274, 4.037639550151426, 4.040372514355952, 4.024038735916934, 3.993132037619299, 3.9513190100008644, 3.9009219006507365, 3.843281713777378]], \"zmax\": 10, \"zmin\": 0.0}],\n",
       "                        {\"template\": {\"data\": {\"bar\": [{\"error_x\": {\"color\": \"#2a3f5f\"}, \"error_y\": {\"color\": \"#2a3f5f\"}, \"marker\": {\"line\": {\"color\": \"#E5ECF6\", \"width\": 0.5}}, \"type\": \"bar\"}], \"barpolar\": [{\"marker\": {\"line\": {\"color\": \"#E5ECF6\", \"width\": 0.5}}, \"type\": \"barpolar\"}], \"carpet\": [{\"aaxis\": {\"endlinecolor\": \"#2a3f5f\", \"gridcolor\": \"white\", \"linecolor\": \"white\", \"minorgridcolor\": \"white\", \"startlinecolor\": \"#2a3f5f\"}, \"baxis\": {\"endlinecolor\": \"#2a3f5f\", \"gridcolor\": \"white\", \"linecolor\": \"white\", \"minorgridcolor\": \"white\", \"startlinecolor\": \"#2a3f5f\"}, \"type\": \"carpet\"}], \"choropleth\": [{\"colorbar\": {\"outlinewidth\": 0, \"ticks\": \"\"}, \"type\": \"choropleth\"}], \"contour\": [{\"colorbar\": {\"outlinewidth\": 0, \"ticks\": \"\"}, \"colorscale\": [[0.0, \"#0d0887\"], [0.1111111111111111, \"#46039f\"], [0.2222222222222222, \"#7201a8\"], [0.3333333333333333, \"#9c179e\"], [0.4444444444444444, \"#bd3786\"], [0.5555555555555556, \"#d8576b\"], [0.6666666666666666, \"#ed7953\"], [0.7777777777777778, \"#fb9f3a\"], [0.8888888888888888, \"#fdca26\"], [1.0, \"#f0f921\"]], \"type\": \"contour\"}], \"contourcarpet\": [{\"colorbar\": {\"outlinewidth\": 0, \"ticks\": \"\"}, \"type\": \"contourcarpet\"}], \"heatmap\": [{\"colorbar\": {\"outlinewidth\": 0, \"ticks\": \"\"}, \"colorscale\": [[0.0, \"#0d0887\"], [0.1111111111111111, \"#46039f\"], [0.2222222222222222, \"#7201a8\"], [0.3333333333333333, \"#9c179e\"], [0.4444444444444444, \"#bd3786\"], [0.5555555555555556, \"#d8576b\"], [0.6666666666666666, \"#ed7953\"], [0.7777777777777778, \"#fb9f3a\"], [0.8888888888888888, \"#fdca26\"], [1.0, \"#f0f921\"]], \"type\": \"heatmap\"}], \"heatmapgl\": [{\"colorbar\": {\"outlinewidth\": 0, \"ticks\": \"\"}, \"colorscale\": [[0.0, \"#0d0887\"], [0.1111111111111111, \"#46039f\"], [0.2222222222222222, \"#7201a8\"], [0.3333333333333333, \"#9c179e\"], [0.4444444444444444, \"#bd3786\"], [0.5555555555555556, \"#d8576b\"], [0.6666666666666666, \"#ed7953\"], [0.7777777777777778, \"#fb9f3a\"], [0.8888888888888888, \"#fdca26\"], [1.0, \"#f0f921\"]], \"type\": \"heatmapgl\"}], \"histogram\": [{\"marker\": {\"colorbar\": {\"outlinewidth\": 0, \"ticks\": \"\"}}, \"type\": \"histogram\"}], \"histogram2d\": [{\"colorbar\": {\"outlinewidth\": 0, \"ticks\": \"\"}, \"colorscale\": [[0.0, \"#0d0887\"], [0.1111111111111111, \"#46039f\"], [0.2222222222222222, \"#7201a8\"], [0.3333333333333333, \"#9c179e\"], [0.4444444444444444, \"#bd3786\"], [0.5555555555555556, \"#d8576b\"], [0.6666666666666666, \"#ed7953\"], [0.7777777777777778, \"#fb9f3a\"], [0.8888888888888888, \"#fdca26\"], [1.0, \"#f0f921\"]], \"type\": \"histogram2d\"}], \"histogram2dcontour\": [{\"colorbar\": {\"outlinewidth\": 0, \"ticks\": \"\"}, \"colorscale\": [[0.0, \"#0d0887\"], [0.1111111111111111, \"#46039f\"], [0.2222222222222222, \"#7201a8\"], [0.3333333333333333, \"#9c179e\"], [0.4444444444444444, \"#bd3786\"], [0.5555555555555556, \"#d8576b\"], [0.6666666666666666, \"#ed7953\"], [0.7777777777777778, \"#fb9f3a\"], [0.8888888888888888, \"#fdca26\"], [1.0, \"#f0f921\"]], \"type\": \"histogram2dcontour\"}], \"mesh3d\": [{\"colorbar\": {\"outlinewidth\": 0, \"ticks\": \"\"}, \"type\": \"mesh3d\"}], \"parcoords\": [{\"line\": {\"colorbar\": {\"outlinewidth\": 0, \"ticks\": \"\"}}, \"type\": \"parcoords\"}], \"pie\": [{\"automargin\": true, \"type\": \"pie\"}], \"scatter\": [{\"marker\": {\"colorbar\": {\"outlinewidth\": 0, \"ticks\": \"\"}}, \"type\": \"scatter\"}], \"scatter3d\": [{\"line\": {\"colorbar\": {\"outlinewidth\": 0, \"ticks\": \"\"}}, \"marker\": {\"colorbar\": {\"outlinewidth\": 0, \"ticks\": \"\"}}, \"type\": \"scatter3d\"}], \"scattercarpet\": [{\"marker\": {\"colorbar\": {\"outlinewidth\": 0, \"ticks\": \"\"}}, \"type\": \"scattercarpet\"}], \"scattergeo\": [{\"marker\": {\"colorbar\": {\"outlinewidth\": 0, \"ticks\": \"\"}}, \"type\": \"scattergeo\"}], \"scattergl\": [{\"marker\": {\"colorbar\": {\"outlinewidth\": 0, \"ticks\": \"\"}}, \"type\": \"scattergl\"}], \"scattermapbox\": [{\"marker\": {\"colorbar\": {\"outlinewidth\": 0, \"ticks\": \"\"}}, \"type\": \"scattermapbox\"}], \"scatterpolar\": [{\"marker\": {\"colorbar\": {\"outlinewidth\": 0, \"ticks\": \"\"}}, \"type\": \"scatterpolar\"}], \"scatterpolargl\": [{\"marker\": {\"colorbar\": {\"outlinewidth\": 0, \"ticks\": \"\"}}, \"type\": \"scatterpolargl\"}], \"scatterternary\": [{\"marker\": {\"colorbar\": {\"outlinewidth\": 0, \"ticks\": \"\"}}, \"type\": \"scatterternary\"}], \"surface\": [{\"colorbar\": {\"outlinewidth\": 0, \"ticks\": \"\"}, \"colorscale\": [[0.0, \"#0d0887\"], [0.1111111111111111, \"#46039f\"], [0.2222222222222222, \"#7201a8\"], [0.3333333333333333, \"#9c179e\"], [0.4444444444444444, \"#bd3786\"], [0.5555555555555556, \"#d8576b\"], [0.6666666666666666, \"#ed7953\"], [0.7777777777777778, \"#fb9f3a\"], [0.8888888888888888, \"#fdca26\"], [1.0, \"#f0f921\"]], \"type\": \"surface\"}], \"table\": [{\"cells\": {\"fill\": {\"color\": \"#EBF0F8\"}, \"line\": {\"color\": \"white\"}}, \"header\": {\"fill\": {\"color\": \"#C8D4E3\"}, \"line\": {\"color\": \"white\"}}, \"type\": \"table\"}]}, \"layout\": {\"annotationdefaults\": {\"arrowcolor\": \"#2a3f5f\", \"arrowhead\": 0, \"arrowwidth\": 1}, \"coloraxis\": {\"colorbar\": {\"outlinewidth\": 0, \"ticks\": \"\"}}, \"colorscale\": {\"diverging\": [[0, \"#8e0152\"], [0.1, \"#c51b7d\"], [0.2, \"#de77ae\"], [0.3, \"#f1b6da\"], [0.4, \"#fde0ef\"], [0.5, \"#f7f7f7\"], [0.6, \"#e6f5d0\"], [0.7, \"#b8e186\"], [0.8, \"#7fbc41\"], [0.9, \"#4d9221\"], [1, \"#276419\"]], \"sequential\": [[0.0, \"#0d0887\"], [0.1111111111111111, \"#46039f\"], [0.2222222222222222, \"#7201a8\"], [0.3333333333333333, \"#9c179e\"], [0.4444444444444444, \"#bd3786\"], [0.5555555555555556, \"#d8576b\"], [0.6666666666666666, \"#ed7953\"], [0.7777777777777778, \"#fb9f3a\"], [0.8888888888888888, \"#fdca26\"], [1.0, \"#f0f921\"]], \"sequentialminus\": [[0.0, \"#0d0887\"], [0.1111111111111111, \"#46039f\"], [0.2222222222222222, \"#7201a8\"], [0.3333333333333333, \"#9c179e\"], [0.4444444444444444, \"#bd3786\"], [0.5555555555555556, \"#d8576b\"], [0.6666666666666666, \"#ed7953\"], [0.7777777777777778, \"#fb9f3a\"], [0.8888888888888888, \"#fdca26\"], [1.0, \"#f0f921\"]]}, \"colorway\": [\"#636efa\", \"#EF553B\", \"#00cc96\", \"#ab63fa\", \"#FFA15A\", \"#19d3f3\", \"#FF6692\", \"#B6E880\", \"#FF97FF\", \"#FECB52\"], \"font\": {\"color\": \"#2a3f5f\"}, \"geo\": {\"bgcolor\": \"white\", \"lakecolor\": \"white\", \"landcolor\": \"#E5ECF6\", \"showlakes\": true, \"showland\": true, \"subunitcolor\": \"white\"}, \"hoverlabel\": {\"align\": \"left\"}, \"hovermode\": \"closest\", \"mapbox\": {\"style\": \"light\"}, \"paper_bgcolor\": \"white\", \"plot_bgcolor\": \"#E5ECF6\", \"polar\": {\"angularaxis\": {\"gridcolor\": \"white\", \"linecolor\": \"white\", \"ticks\": \"\"}, \"bgcolor\": \"#E5ECF6\", \"radialaxis\": {\"gridcolor\": \"white\", \"linecolor\": \"white\", \"ticks\": \"\"}}, \"scene\": {\"xaxis\": {\"backgroundcolor\": \"#E5ECF6\", \"gridcolor\": \"white\", \"gridwidth\": 2, \"linecolor\": \"white\", \"showbackground\": true, \"ticks\": \"\", \"zerolinecolor\": \"white\"}, \"yaxis\": {\"backgroundcolor\": \"#E5ECF6\", \"gridcolor\": \"white\", \"gridwidth\": 2, \"linecolor\": \"white\", \"showbackground\": true, \"ticks\": \"\", \"zerolinecolor\": \"white\"}, \"zaxis\": {\"backgroundcolor\": \"#E5ECF6\", \"gridcolor\": \"white\", \"gridwidth\": 2, \"linecolor\": \"white\", \"showbackground\": true, \"ticks\": \"\", \"zerolinecolor\": \"white\"}}, \"shapedefaults\": {\"line\": {\"color\": \"#2a3f5f\"}}, \"ternary\": {\"aaxis\": {\"gridcolor\": \"white\", \"linecolor\": \"white\", \"ticks\": \"\"}, \"baxis\": {\"gridcolor\": \"white\", \"linecolor\": \"white\", \"ticks\": \"\"}, \"bgcolor\": \"#E5ECF6\", \"caxis\": {\"gridcolor\": \"white\", \"linecolor\": \"white\", \"ticks\": \"\"}}, \"title\": {\"x\": 0.05}, \"xaxis\": {\"automargin\": true, \"gridcolor\": \"white\", \"linecolor\": \"white\", \"ticks\": \"\", \"title\": {\"standoff\": 15}, \"zerolinecolor\": \"white\", \"zerolinewidth\": 2}, \"yaxis\": {\"automargin\": true, \"gridcolor\": \"white\", \"linecolor\": \"white\", \"ticks\": \"\", \"title\": {\"standoff\": 15}, \"zerolinecolor\": \"white\", \"zerolinewidth\": 2}}}},\n",
       "                        {\"responsive\": true}\n",
       "                    ).then(function(){\n",
       "                            \n",
       "var gd = document.getElementById('f7b5193c-65b7-4d4d-af10-94ab5adabf1d');\n",
       "var x = new MutationObserver(function (mutations, observer) {{\n",
       "        var display = window.getComputedStyle(gd).display;\n",
       "        if (!display || display === 'none') {{\n",
       "            console.log([gd, 'removed!']);\n",
       "            Plotly.purge(gd);\n",
       "            observer.disconnect();\n",
       "        }}\n",
       "}});\n",
       "\n",
       "// Listen for the removal of the full notebook cells\n",
       "var notebookContainer = gd.closest('#notebook-container');\n",
       "if (notebookContainer) {{\n",
       "    x.observe(notebookContainer, {childList: true});\n",
       "}}\n",
       "\n",
       "// Listen for the clearing of the current output cell\n",
       "var outputEl = gd.closest('.output');\n",
       "if (outputEl) {{\n",
       "    x.observe(outputEl, {childList: true});\n",
       "}}\n",
       "\n",
       "                        })\n",
       "                };\n",
       "                });\n",
       "            </script>\n",
       "        </div>"
      ]
     },
     "metadata": {},
     "output_type": "display_data"
    },
    {
     "name": "stdout",
     "output_type": "stream",
     "text": [
      "No Model\n"
     ]
    },
    {
     "data": {
      "application/vnd.plotly.v1+json": {
       "config": {
        "plotlyServerURL": "https://plot.ly"
       },
       "data": [
        {
         "type": "heatmap",
         "z": [
          [
           0,
           0,
           0,
           0,
           0,
           0,
           0,
           0,
           0,
           0
          ],
          [
           0,
           0,
           0,
           0,
           0,
           0,
           0,
           0,
           0,
           0
          ],
          [
           0,
           0,
           0,
           0,
           0,
           0,
           0,
           0,
           0,
           0
          ],
          [
           0,
           0,
           0,
           0,
           0,
           0,
           0,
           0,
           0,
           0
          ],
          [
           0,
           0,
           0,
           0,
           0,
           0,
           0,
           0,
           0,
           0
          ],
          [
           0,
           0,
           0,
           0,
           0,
           0,
           0,
           0,
           0,
           0
          ],
          [
           0,
           0,
           0,
           0,
           0,
           0,
           0,
           0,
           0,
           0
          ],
          [
           0,
           0,
           0,
           0,
           0,
           0,
           0,
           0,
           0,
           0
          ],
          [
           0,
           0,
           0,
           0,
           0,
           0,
           0,
           0,
           0,
           0
          ],
          [
           0,
           0,
           0,
           0,
           0,
           0,
           0,
           0,
           0,
           0
          ]
         ]
        }
       ],
       "layout": {
        "template": {
         "data": {
          "bar": [
           {
            "error_x": {
             "color": "#2a3f5f"
            },
            "error_y": {
             "color": "#2a3f5f"
            },
            "marker": {
             "line": {
              "color": "#E5ECF6",
              "width": 0.5
             }
            },
            "type": "bar"
           }
          ],
          "barpolar": [
           {
            "marker": {
             "line": {
              "color": "#E5ECF6",
              "width": 0.5
             }
            },
            "type": "barpolar"
           }
          ],
          "carpet": [
           {
            "aaxis": {
             "endlinecolor": "#2a3f5f",
             "gridcolor": "white",
             "linecolor": "white",
             "minorgridcolor": "white",
             "startlinecolor": "#2a3f5f"
            },
            "baxis": {
             "endlinecolor": "#2a3f5f",
             "gridcolor": "white",
             "linecolor": "white",
             "minorgridcolor": "white",
             "startlinecolor": "#2a3f5f"
            },
            "type": "carpet"
           }
          ],
          "choropleth": [
           {
            "colorbar": {
             "outlinewidth": 0,
             "ticks": ""
            },
            "type": "choropleth"
           }
          ],
          "contour": [
           {
            "colorbar": {
             "outlinewidth": 0,
             "ticks": ""
            },
            "colorscale": [
             [
              0,
              "#0d0887"
             ],
             [
              0.1111111111111111,
              "#46039f"
             ],
             [
              0.2222222222222222,
              "#7201a8"
             ],
             [
              0.3333333333333333,
              "#9c179e"
             ],
             [
              0.4444444444444444,
              "#bd3786"
             ],
             [
              0.5555555555555556,
              "#d8576b"
             ],
             [
              0.6666666666666666,
              "#ed7953"
             ],
             [
              0.7777777777777778,
              "#fb9f3a"
             ],
             [
              0.8888888888888888,
              "#fdca26"
             ],
             [
              1,
              "#f0f921"
             ]
            ],
            "type": "contour"
           }
          ],
          "contourcarpet": [
           {
            "colorbar": {
             "outlinewidth": 0,
             "ticks": ""
            },
            "type": "contourcarpet"
           }
          ],
          "heatmap": [
           {
            "colorbar": {
             "outlinewidth": 0,
             "ticks": ""
            },
            "colorscale": [
             [
              0,
              "#0d0887"
             ],
             [
              0.1111111111111111,
              "#46039f"
             ],
             [
              0.2222222222222222,
              "#7201a8"
             ],
             [
              0.3333333333333333,
              "#9c179e"
             ],
             [
              0.4444444444444444,
              "#bd3786"
             ],
             [
              0.5555555555555556,
              "#d8576b"
             ],
             [
              0.6666666666666666,
              "#ed7953"
             ],
             [
              0.7777777777777778,
              "#fb9f3a"
             ],
             [
              0.8888888888888888,
              "#fdca26"
             ],
             [
              1,
              "#f0f921"
             ]
            ],
            "type": "heatmap"
           }
          ],
          "heatmapgl": [
           {
            "colorbar": {
             "outlinewidth": 0,
             "ticks": ""
            },
            "colorscale": [
             [
              0,
              "#0d0887"
             ],
             [
              0.1111111111111111,
              "#46039f"
             ],
             [
              0.2222222222222222,
              "#7201a8"
             ],
             [
              0.3333333333333333,
              "#9c179e"
             ],
             [
              0.4444444444444444,
              "#bd3786"
             ],
             [
              0.5555555555555556,
              "#d8576b"
             ],
             [
              0.6666666666666666,
              "#ed7953"
             ],
             [
              0.7777777777777778,
              "#fb9f3a"
             ],
             [
              0.8888888888888888,
              "#fdca26"
             ],
             [
              1,
              "#f0f921"
             ]
            ],
            "type": "heatmapgl"
           }
          ],
          "histogram": [
           {
            "marker": {
             "colorbar": {
              "outlinewidth": 0,
              "ticks": ""
             }
            },
            "type": "histogram"
           }
          ],
          "histogram2d": [
           {
            "colorbar": {
             "outlinewidth": 0,
             "ticks": ""
            },
            "colorscale": [
             [
              0,
              "#0d0887"
             ],
             [
              0.1111111111111111,
              "#46039f"
             ],
             [
              0.2222222222222222,
              "#7201a8"
             ],
             [
              0.3333333333333333,
              "#9c179e"
             ],
             [
              0.4444444444444444,
              "#bd3786"
             ],
             [
              0.5555555555555556,
              "#d8576b"
             ],
             [
              0.6666666666666666,
              "#ed7953"
             ],
             [
              0.7777777777777778,
              "#fb9f3a"
             ],
             [
              0.8888888888888888,
              "#fdca26"
             ],
             [
              1,
              "#f0f921"
             ]
            ],
            "type": "histogram2d"
           }
          ],
          "histogram2dcontour": [
           {
            "colorbar": {
             "outlinewidth": 0,
             "ticks": ""
            },
            "colorscale": [
             [
              0,
              "#0d0887"
             ],
             [
              0.1111111111111111,
              "#46039f"
             ],
             [
              0.2222222222222222,
              "#7201a8"
             ],
             [
              0.3333333333333333,
              "#9c179e"
             ],
             [
              0.4444444444444444,
              "#bd3786"
             ],
             [
              0.5555555555555556,
              "#d8576b"
             ],
             [
              0.6666666666666666,
              "#ed7953"
             ],
             [
              0.7777777777777778,
              "#fb9f3a"
             ],
             [
              0.8888888888888888,
              "#fdca26"
             ],
             [
              1,
              "#f0f921"
             ]
            ],
            "type": "histogram2dcontour"
           }
          ],
          "mesh3d": [
           {
            "colorbar": {
             "outlinewidth": 0,
             "ticks": ""
            },
            "type": "mesh3d"
           }
          ],
          "parcoords": [
           {
            "line": {
             "colorbar": {
              "outlinewidth": 0,
              "ticks": ""
             }
            },
            "type": "parcoords"
           }
          ],
          "pie": [
           {
            "automargin": true,
            "type": "pie"
           }
          ],
          "scatter": [
           {
            "marker": {
             "colorbar": {
              "outlinewidth": 0,
              "ticks": ""
             }
            },
            "type": "scatter"
           }
          ],
          "scatter3d": [
           {
            "line": {
             "colorbar": {
              "outlinewidth": 0,
              "ticks": ""
             }
            },
            "marker": {
             "colorbar": {
              "outlinewidth": 0,
              "ticks": ""
             }
            },
            "type": "scatter3d"
           }
          ],
          "scattercarpet": [
           {
            "marker": {
             "colorbar": {
              "outlinewidth": 0,
              "ticks": ""
             }
            },
            "type": "scattercarpet"
           }
          ],
          "scattergeo": [
           {
            "marker": {
             "colorbar": {
              "outlinewidth": 0,
              "ticks": ""
             }
            },
            "type": "scattergeo"
           }
          ],
          "scattergl": [
           {
            "marker": {
             "colorbar": {
              "outlinewidth": 0,
              "ticks": ""
             }
            },
            "type": "scattergl"
           }
          ],
          "scattermapbox": [
           {
            "marker": {
             "colorbar": {
              "outlinewidth": 0,
              "ticks": ""
             }
            },
            "type": "scattermapbox"
           }
          ],
          "scatterpolar": [
           {
            "marker": {
             "colorbar": {
              "outlinewidth": 0,
              "ticks": ""
             }
            },
            "type": "scatterpolar"
           }
          ],
          "scatterpolargl": [
           {
            "marker": {
             "colorbar": {
              "outlinewidth": 0,
              "ticks": ""
             }
            },
            "type": "scatterpolargl"
           }
          ],
          "scatterternary": [
           {
            "marker": {
             "colorbar": {
              "outlinewidth": 0,
              "ticks": ""
             }
            },
            "type": "scatterternary"
           }
          ],
          "surface": [
           {
            "colorbar": {
             "outlinewidth": 0,
             "ticks": ""
            },
            "colorscale": [
             [
              0,
              "#0d0887"
             ],
             [
              0.1111111111111111,
              "#46039f"
             ],
             [
              0.2222222222222222,
              "#7201a8"
             ],
             [
              0.3333333333333333,
              "#9c179e"
             ],
             [
              0.4444444444444444,
              "#bd3786"
             ],
             [
              0.5555555555555556,
              "#d8576b"
             ],
             [
              0.6666666666666666,
              "#ed7953"
             ],
             [
              0.7777777777777778,
              "#fb9f3a"
             ],
             [
              0.8888888888888888,
              "#fdca26"
             ],
             [
              1,
              "#f0f921"
             ]
            ],
            "type": "surface"
           }
          ],
          "table": [
           {
            "cells": {
             "fill": {
              "color": "#EBF0F8"
             },
             "line": {
              "color": "white"
             }
            },
            "header": {
             "fill": {
              "color": "#C8D4E3"
             },
             "line": {
              "color": "white"
             }
            },
            "type": "table"
           }
          ]
         },
         "layout": {
          "annotationdefaults": {
           "arrowcolor": "#2a3f5f",
           "arrowhead": 0,
           "arrowwidth": 1
          },
          "coloraxis": {
           "colorbar": {
            "outlinewidth": 0,
            "ticks": ""
           }
          },
          "colorscale": {
           "diverging": [
            [
             0,
             "#8e0152"
            ],
            [
             0.1,
             "#c51b7d"
            ],
            [
             0.2,
             "#de77ae"
            ],
            [
             0.3,
             "#f1b6da"
            ],
            [
             0.4,
             "#fde0ef"
            ],
            [
             0.5,
             "#f7f7f7"
            ],
            [
             0.6,
             "#e6f5d0"
            ],
            [
             0.7,
             "#b8e186"
            ],
            [
             0.8,
             "#7fbc41"
            ],
            [
             0.9,
             "#4d9221"
            ],
            [
             1,
             "#276419"
            ]
           ],
           "sequential": [
            [
             0,
             "#0d0887"
            ],
            [
             0.1111111111111111,
             "#46039f"
            ],
            [
             0.2222222222222222,
             "#7201a8"
            ],
            [
             0.3333333333333333,
             "#9c179e"
            ],
            [
             0.4444444444444444,
             "#bd3786"
            ],
            [
             0.5555555555555556,
             "#d8576b"
            ],
            [
             0.6666666666666666,
             "#ed7953"
            ],
            [
             0.7777777777777778,
             "#fb9f3a"
            ],
            [
             0.8888888888888888,
             "#fdca26"
            ],
            [
             1,
             "#f0f921"
            ]
           ],
           "sequentialminus": [
            [
             0,
             "#0d0887"
            ],
            [
             0.1111111111111111,
             "#46039f"
            ],
            [
             0.2222222222222222,
             "#7201a8"
            ],
            [
             0.3333333333333333,
             "#9c179e"
            ],
            [
             0.4444444444444444,
             "#bd3786"
            ],
            [
             0.5555555555555556,
             "#d8576b"
            ],
            [
             0.6666666666666666,
             "#ed7953"
            ],
            [
             0.7777777777777778,
             "#fb9f3a"
            ],
            [
             0.8888888888888888,
             "#fdca26"
            ],
            [
             1,
             "#f0f921"
            ]
           ]
          },
          "colorway": [
           "#636efa",
           "#EF553B",
           "#00cc96",
           "#ab63fa",
           "#FFA15A",
           "#19d3f3",
           "#FF6692",
           "#B6E880",
           "#FF97FF",
           "#FECB52"
          ],
          "font": {
           "color": "#2a3f5f"
          },
          "geo": {
           "bgcolor": "white",
           "lakecolor": "white",
           "landcolor": "#E5ECF6",
           "showlakes": true,
           "showland": true,
           "subunitcolor": "white"
          },
          "hoverlabel": {
           "align": "left"
          },
          "hovermode": "closest",
          "mapbox": {
           "style": "light"
          },
          "paper_bgcolor": "white",
          "plot_bgcolor": "#E5ECF6",
          "polar": {
           "angularaxis": {
            "gridcolor": "white",
            "linecolor": "white",
            "ticks": ""
           },
           "bgcolor": "#E5ECF6",
           "radialaxis": {
            "gridcolor": "white",
            "linecolor": "white",
            "ticks": ""
           }
          },
          "scene": {
           "xaxis": {
            "backgroundcolor": "#E5ECF6",
            "gridcolor": "white",
            "gridwidth": 2,
            "linecolor": "white",
            "showbackground": true,
            "ticks": "",
            "zerolinecolor": "white"
           },
           "yaxis": {
            "backgroundcolor": "#E5ECF6",
            "gridcolor": "white",
            "gridwidth": 2,
            "linecolor": "white",
            "showbackground": true,
            "ticks": "",
            "zerolinecolor": "white"
           },
           "zaxis": {
            "backgroundcolor": "#E5ECF6",
            "gridcolor": "white",
            "gridwidth": 2,
            "linecolor": "white",
            "showbackground": true,
            "ticks": "",
            "zerolinecolor": "white"
           }
          },
          "shapedefaults": {
           "line": {
            "color": "#2a3f5f"
           }
          },
          "ternary": {
           "aaxis": {
            "gridcolor": "white",
            "linecolor": "white",
            "ticks": ""
           },
           "baxis": {
            "gridcolor": "white",
            "linecolor": "white",
            "ticks": ""
           },
           "bgcolor": "#E5ECF6",
           "caxis": {
            "gridcolor": "white",
            "linecolor": "white",
            "ticks": ""
           }
          },
          "title": {
           "x": 0.05
          },
          "xaxis": {
           "automargin": true,
           "gridcolor": "white",
           "linecolor": "white",
           "ticks": "",
           "title": {
            "standoff": 15
           },
           "zerolinecolor": "white",
           "zerolinewidth": 2
          },
          "yaxis": {
           "automargin": true,
           "gridcolor": "white",
           "linecolor": "white",
           "ticks": "",
           "title": {
            "standoff": 15
           },
           "zerolinecolor": "white",
           "zerolinewidth": 2
          }
         }
        }
       }
      },
      "text/html": [
       "<div>\n",
       "        \n",
       "        \n",
       "            <div id=\"0f55dbd2-35c2-4102-be69-738da7eff8a3\" class=\"plotly-graph-div\" style=\"height:525px; width:100%;\"></div>\n",
       "            <script type=\"text/javascript\">\n",
       "                require([\"plotly\"], function(Plotly) {\n",
       "                    window.PLOTLYENV=window.PLOTLYENV || {};\n",
       "                    \n",
       "                if (document.getElementById(\"0f55dbd2-35c2-4102-be69-738da7eff8a3\")) {\n",
       "                    Plotly.newPlot(\n",
       "                        '0f55dbd2-35c2-4102-be69-738da7eff8a3',\n",
       "                        [{\"type\": \"heatmap\", \"z\": [[0.0, 0.0, 0.0, 0.0, 0.0, 0.0, 0.0, 0.0, 0.0, 0.0], [0.0, 0.0, 0.0, 0.0, 0.0, 0.0, 0.0, 0.0, 0.0, 0.0], [0.0, 0.0, 0.0, 0.0, 0.0, 0.0, 0.0, 0.0, 0.0, 0.0], [0.0, 0.0, 0.0, 0.0, 0.0, 0.0, 0.0, 0.0, 0.0, 0.0], [0.0, 0.0, 0.0, 0.0, 0.0, 0.0, 0.0, 0.0, 0.0, 0.0], [0.0, 0.0, 0.0, 0.0, 0.0, 0.0, 0.0, 0.0, 0.0, 0.0], [0.0, 0.0, 0.0, 0.0, 0.0, 0.0, 0.0, 0.0, 0.0, 0.0], [0.0, 0.0, 0.0, 0.0, 0.0, 0.0, 0.0, 0.0, 0.0, 0.0], [0.0, 0.0, 0.0, 0.0, 0.0, 0.0, 0.0, 0.0, 0.0, 0.0], [0.0, 0.0, 0.0, 0.0, 0.0, 0.0, 0.0, 0.0, 0.0, 0.0]]}],\n",
       "                        {\"template\": {\"data\": {\"bar\": [{\"error_x\": {\"color\": \"#2a3f5f\"}, \"error_y\": {\"color\": \"#2a3f5f\"}, \"marker\": {\"line\": {\"color\": \"#E5ECF6\", \"width\": 0.5}}, \"type\": \"bar\"}], \"barpolar\": [{\"marker\": {\"line\": {\"color\": \"#E5ECF6\", \"width\": 0.5}}, \"type\": \"barpolar\"}], \"carpet\": [{\"aaxis\": {\"endlinecolor\": \"#2a3f5f\", \"gridcolor\": \"white\", \"linecolor\": \"white\", \"minorgridcolor\": \"white\", \"startlinecolor\": \"#2a3f5f\"}, \"baxis\": {\"endlinecolor\": \"#2a3f5f\", \"gridcolor\": \"white\", \"linecolor\": \"white\", \"minorgridcolor\": \"white\", \"startlinecolor\": \"#2a3f5f\"}, \"type\": \"carpet\"}], \"choropleth\": [{\"colorbar\": {\"outlinewidth\": 0, \"ticks\": \"\"}, \"type\": \"choropleth\"}], \"contour\": [{\"colorbar\": {\"outlinewidth\": 0, \"ticks\": \"\"}, \"colorscale\": [[0.0, \"#0d0887\"], [0.1111111111111111, \"#46039f\"], [0.2222222222222222, \"#7201a8\"], [0.3333333333333333, \"#9c179e\"], [0.4444444444444444, \"#bd3786\"], [0.5555555555555556, \"#d8576b\"], [0.6666666666666666, \"#ed7953\"], [0.7777777777777778, \"#fb9f3a\"], [0.8888888888888888, \"#fdca26\"], [1.0, \"#f0f921\"]], \"type\": \"contour\"}], \"contourcarpet\": [{\"colorbar\": {\"outlinewidth\": 0, \"ticks\": \"\"}, \"type\": \"contourcarpet\"}], \"heatmap\": [{\"colorbar\": {\"outlinewidth\": 0, \"ticks\": \"\"}, \"colorscale\": [[0.0, \"#0d0887\"], [0.1111111111111111, \"#46039f\"], [0.2222222222222222, \"#7201a8\"], [0.3333333333333333, \"#9c179e\"], [0.4444444444444444, \"#bd3786\"], [0.5555555555555556, \"#d8576b\"], [0.6666666666666666, \"#ed7953\"], [0.7777777777777778, \"#fb9f3a\"], [0.8888888888888888, \"#fdca26\"], [1.0, \"#f0f921\"]], \"type\": \"heatmap\"}], \"heatmapgl\": [{\"colorbar\": {\"outlinewidth\": 0, \"ticks\": \"\"}, \"colorscale\": [[0.0, \"#0d0887\"], [0.1111111111111111, \"#46039f\"], [0.2222222222222222, \"#7201a8\"], [0.3333333333333333, \"#9c179e\"], [0.4444444444444444, \"#bd3786\"], [0.5555555555555556, \"#d8576b\"], [0.6666666666666666, \"#ed7953\"], [0.7777777777777778, \"#fb9f3a\"], [0.8888888888888888, \"#fdca26\"], [1.0, \"#f0f921\"]], \"type\": \"heatmapgl\"}], \"histogram\": [{\"marker\": {\"colorbar\": {\"outlinewidth\": 0, \"ticks\": \"\"}}, \"type\": \"histogram\"}], \"histogram2d\": [{\"colorbar\": {\"outlinewidth\": 0, \"ticks\": \"\"}, \"colorscale\": [[0.0, \"#0d0887\"], [0.1111111111111111, \"#46039f\"], [0.2222222222222222, \"#7201a8\"], [0.3333333333333333, \"#9c179e\"], [0.4444444444444444, \"#bd3786\"], [0.5555555555555556, \"#d8576b\"], [0.6666666666666666, \"#ed7953\"], [0.7777777777777778, \"#fb9f3a\"], [0.8888888888888888, \"#fdca26\"], [1.0, \"#f0f921\"]], \"type\": \"histogram2d\"}], \"histogram2dcontour\": [{\"colorbar\": {\"outlinewidth\": 0, \"ticks\": \"\"}, \"colorscale\": [[0.0, \"#0d0887\"], [0.1111111111111111, \"#46039f\"], [0.2222222222222222, \"#7201a8\"], [0.3333333333333333, \"#9c179e\"], [0.4444444444444444, \"#bd3786\"], [0.5555555555555556, \"#d8576b\"], [0.6666666666666666, \"#ed7953\"], [0.7777777777777778, \"#fb9f3a\"], [0.8888888888888888, \"#fdca26\"], [1.0, \"#f0f921\"]], \"type\": \"histogram2dcontour\"}], \"mesh3d\": [{\"colorbar\": {\"outlinewidth\": 0, \"ticks\": \"\"}, \"type\": \"mesh3d\"}], \"parcoords\": [{\"line\": {\"colorbar\": {\"outlinewidth\": 0, \"ticks\": \"\"}}, \"type\": \"parcoords\"}], \"pie\": [{\"automargin\": true, \"type\": \"pie\"}], \"scatter\": [{\"marker\": {\"colorbar\": {\"outlinewidth\": 0, \"ticks\": \"\"}}, \"type\": \"scatter\"}], \"scatter3d\": [{\"line\": {\"colorbar\": {\"outlinewidth\": 0, \"ticks\": \"\"}}, \"marker\": {\"colorbar\": {\"outlinewidth\": 0, \"ticks\": \"\"}}, \"type\": \"scatter3d\"}], \"scattercarpet\": [{\"marker\": {\"colorbar\": {\"outlinewidth\": 0, \"ticks\": \"\"}}, \"type\": \"scattercarpet\"}], \"scattergeo\": [{\"marker\": {\"colorbar\": {\"outlinewidth\": 0, \"ticks\": \"\"}}, \"type\": \"scattergeo\"}], \"scattergl\": [{\"marker\": {\"colorbar\": {\"outlinewidth\": 0, \"ticks\": \"\"}}, \"type\": \"scattergl\"}], \"scattermapbox\": [{\"marker\": {\"colorbar\": {\"outlinewidth\": 0, \"ticks\": \"\"}}, \"type\": \"scattermapbox\"}], \"scatterpolar\": [{\"marker\": {\"colorbar\": {\"outlinewidth\": 0, \"ticks\": \"\"}}, \"type\": \"scatterpolar\"}], \"scatterpolargl\": [{\"marker\": {\"colorbar\": {\"outlinewidth\": 0, \"ticks\": \"\"}}, \"type\": \"scatterpolargl\"}], \"scatterternary\": [{\"marker\": {\"colorbar\": {\"outlinewidth\": 0, \"ticks\": \"\"}}, \"type\": \"scatterternary\"}], \"surface\": [{\"colorbar\": {\"outlinewidth\": 0, \"ticks\": \"\"}, \"colorscale\": [[0.0, \"#0d0887\"], [0.1111111111111111, \"#46039f\"], [0.2222222222222222, \"#7201a8\"], [0.3333333333333333, \"#9c179e\"], [0.4444444444444444, \"#bd3786\"], [0.5555555555555556, \"#d8576b\"], [0.6666666666666666, \"#ed7953\"], [0.7777777777777778, \"#fb9f3a\"], [0.8888888888888888, \"#fdca26\"], [1.0, \"#f0f921\"]], \"type\": \"surface\"}], \"table\": [{\"cells\": {\"fill\": {\"color\": \"#EBF0F8\"}, \"line\": {\"color\": \"white\"}}, \"header\": {\"fill\": {\"color\": \"#C8D4E3\"}, \"line\": {\"color\": \"white\"}}, \"type\": \"table\"}]}, \"layout\": {\"annotationdefaults\": {\"arrowcolor\": \"#2a3f5f\", \"arrowhead\": 0, \"arrowwidth\": 1}, \"coloraxis\": {\"colorbar\": {\"outlinewidth\": 0, \"ticks\": \"\"}}, \"colorscale\": {\"diverging\": [[0, \"#8e0152\"], [0.1, \"#c51b7d\"], [0.2, \"#de77ae\"], [0.3, \"#f1b6da\"], [0.4, \"#fde0ef\"], [0.5, \"#f7f7f7\"], [0.6, \"#e6f5d0\"], [0.7, \"#b8e186\"], [0.8, \"#7fbc41\"], [0.9, \"#4d9221\"], [1, \"#276419\"]], \"sequential\": [[0.0, \"#0d0887\"], [0.1111111111111111, \"#46039f\"], [0.2222222222222222, \"#7201a8\"], [0.3333333333333333, \"#9c179e\"], [0.4444444444444444, \"#bd3786\"], [0.5555555555555556, \"#d8576b\"], [0.6666666666666666, \"#ed7953\"], [0.7777777777777778, \"#fb9f3a\"], [0.8888888888888888, \"#fdca26\"], [1.0, \"#f0f921\"]], \"sequentialminus\": [[0.0, \"#0d0887\"], [0.1111111111111111, \"#46039f\"], [0.2222222222222222, \"#7201a8\"], [0.3333333333333333, \"#9c179e\"], [0.4444444444444444, \"#bd3786\"], [0.5555555555555556, \"#d8576b\"], [0.6666666666666666, \"#ed7953\"], [0.7777777777777778, \"#fb9f3a\"], [0.8888888888888888, \"#fdca26\"], [1.0, \"#f0f921\"]]}, \"colorway\": [\"#636efa\", \"#EF553B\", \"#00cc96\", \"#ab63fa\", \"#FFA15A\", \"#19d3f3\", \"#FF6692\", \"#B6E880\", \"#FF97FF\", \"#FECB52\"], \"font\": {\"color\": \"#2a3f5f\"}, \"geo\": {\"bgcolor\": \"white\", \"lakecolor\": \"white\", \"landcolor\": \"#E5ECF6\", \"showlakes\": true, \"showland\": true, \"subunitcolor\": \"white\"}, \"hoverlabel\": {\"align\": \"left\"}, \"hovermode\": \"closest\", \"mapbox\": {\"style\": \"light\"}, \"paper_bgcolor\": \"white\", \"plot_bgcolor\": \"#E5ECF6\", \"polar\": {\"angularaxis\": {\"gridcolor\": \"white\", \"linecolor\": \"white\", \"ticks\": \"\"}, \"bgcolor\": \"#E5ECF6\", \"radialaxis\": {\"gridcolor\": \"white\", \"linecolor\": \"white\", \"ticks\": \"\"}}, \"scene\": {\"xaxis\": {\"backgroundcolor\": \"#E5ECF6\", \"gridcolor\": \"white\", \"gridwidth\": 2, \"linecolor\": \"white\", \"showbackground\": true, \"ticks\": \"\", \"zerolinecolor\": \"white\"}, \"yaxis\": {\"backgroundcolor\": \"#E5ECF6\", \"gridcolor\": \"white\", \"gridwidth\": 2, \"linecolor\": \"white\", \"showbackground\": true, \"ticks\": \"\", \"zerolinecolor\": \"white\"}, \"zaxis\": {\"backgroundcolor\": \"#E5ECF6\", \"gridcolor\": \"white\", \"gridwidth\": 2, \"linecolor\": \"white\", \"showbackground\": true, \"ticks\": \"\", \"zerolinecolor\": \"white\"}}, \"shapedefaults\": {\"line\": {\"color\": \"#2a3f5f\"}}, \"ternary\": {\"aaxis\": {\"gridcolor\": \"white\", \"linecolor\": \"white\", \"ticks\": \"\"}, \"baxis\": {\"gridcolor\": \"white\", \"linecolor\": \"white\", \"ticks\": \"\"}, \"bgcolor\": \"#E5ECF6\", \"caxis\": {\"gridcolor\": \"white\", \"linecolor\": \"white\", \"ticks\": \"\"}}, \"title\": {\"x\": 0.05}, \"xaxis\": {\"automargin\": true, \"gridcolor\": \"white\", \"linecolor\": \"white\", \"ticks\": \"\", \"title\": {\"standoff\": 15}, \"zerolinecolor\": \"white\", \"zerolinewidth\": 2}, \"yaxis\": {\"automargin\": true, \"gridcolor\": \"white\", \"linecolor\": \"white\", \"ticks\": \"\", \"title\": {\"standoff\": 15}, \"zerolinecolor\": \"white\", \"zerolinewidth\": 2}}}},\n",
       "                        {\"responsive\": true}\n",
       "                    ).then(function(){\n",
       "                            \n",
       "var gd = document.getElementById('0f55dbd2-35c2-4102-be69-738da7eff8a3');\n",
       "var x = new MutationObserver(function (mutations, observer) {{\n",
       "        var display = window.getComputedStyle(gd).display;\n",
       "        if (!display || display === 'none') {{\n",
       "            console.log([gd, 'removed!']);\n",
       "            Plotly.purge(gd);\n",
       "            observer.disconnect();\n",
       "        }}\n",
       "}});\n",
       "\n",
       "// Listen for the removal of the full notebook cells\n",
       "var notebookContainer = gd.closest('#notebook-container');\n",
       "if (notebookContainer) {{\n",
       "    x.observe(notebookContainer, {childList: true});\n",
       "}}\n",
       "\n",
       "// Listen for the clearing of the current output cell\n",
       "var outputEl = gd.closest('.output');\n",
       "if (outputEl) {{\n",
       "    x.observe(outputEl, {childList: true});\n",
       "}}\n",
       "\n",
       "                        })\n",
       "                };\n",
       "                });\n",
       "            </script>\n",
       "        </div>"
      ]
     },
     "metadata": {},
     "output_type": "display_data"
    }
   ],
   "source": [
    "print(\"No Model\")\n",
    "fig = go.Figure()\n",
    "fig.add_trace(go.Heatmap(\n",
    "    z = bench_no_model.detach().numpy(),\n",
    "    zmin = zmin,\n",
    "    zmax = zmax,\n",
    "    ))\n",
    "fig.show()\n",
    "\n",
    "print(\"No Model\")\n",
    "fig = go.Figure()\n",
    "fig.add_trace(go.Heatmap(\n",
    "    z = torch.Tensor(bench_no_model.detach().numpy() > conv_thresh).type(vf.dtype),\n",
    "    ))\n",
    "fig.show()"
   ]
  }
 ],
 "metadata": {
  "kernelspec": {
   "display_name": "Python 3",
   "language": "python",
   "name": "python3"
  },
  "language_info": {
   "codemirror_mode": {
    "name": "ipython",
    "version": 3
   },
   "file_extension": ".py",
   "mimetype": "text/x-python",
   "name": "python",
   "nbconvert_exporter": "python",
   "pygments_lexer": "ipython3",
   "version": "3.7.5"
  }
 },
 "nbformat": 4,
 "nbformat_minor": 2
}
