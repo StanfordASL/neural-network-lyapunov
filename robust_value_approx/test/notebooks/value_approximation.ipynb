{
 "cells": [
  {
   "cell_type": "code",
   "execution_count": 1,
   "metadata": {},
   "outputs": [],
   "source": [
    "%load_ext autoreload\n",
    "%autoreload 2"
   ]
  },
  {
   "cell_type": "code",
   "execution_count": 4,
   "metadata": {},
   "outputs": [
    {
     "data": {
      "text/html": [
       "        <script type=\"text/javascript\">\n",
       "        window.PlotlyConfig = {MathJaxConfig: 'local'};\n",
       "        if (window.MathJax) {MathJax.Hub.Config({SVG: {font: \"STIX-Web\"}});}\n",
       "        if (typeof require !== 'undefined') {\n",
       "        require.undef(\"plotly\");\n",
       "        requirejs.config({\n",
       "            paths: {\n",
       "                'plotly': ['https://cdn.plot.ly/plotly-latest.min']\n",
       "            }\n",
       "        });\n",
       "        require(['plotly'], function(Plotly) {\n",
       "            window._Plotly = Plotly;\n",
       "        });\n",
       "        }\n",
       "        </script>\n",
       "        "
      ]
     },
     "metadata": {},
     "output_type": "display_data"
    }
   ],
   "source": [
    "import sys\n",
    "sys.path.append(\"..\")\n",
    "sys.path.append(\".\")\n",
    "import torch\n",
    "import numpy as np\n",
    "import copy\n",
    "import plotly\n",
    "import plotly.graph_objs as go\n",
    "import pickle\n",
    "from datetime import datetime\n",
    "plotly.offline.init_notebook_mode(connected=True)\n",
    "import plotting_utils\n",
    "\n",
    "import robust_value_approx.samples_generator as samples_generator\n",
    "import robust_value_approx.samples_buffer as samples_buffer\n",
    "import robust_value_approx.value_approximation as value_approximation\n",
    "import robust_value_approx.training_log as training_log"
   ]
  },
  {
   "cell_type": "code",
   "execution_count": 3,
   "metadata": {},
   "outputs": [],
   "source": [
    "import acrobot_utils\n",
    "\n",
    "vf = acrobot_utils.get_value_function(N=15)\n",
    "\n",
    "eps = .5\n",
    "x0_lo = torch.Tensor([np.pi-eps, -eps, -1., -1.]).type(vf.dtype)\n",
    "x0_up = torch.Tensor([np.pi+eps, eps, 1., 1.]).type(vf.dtype)\n",
    "\n",
    "# file options\n",
    "sys_name = 'acrobot'\n",
    "x_samples_file = '../data/validation_' + sys_name + '_x'\n",
    "v_samples_file = '../data/validation_' + sys_name + '_v'\n",
    "model_file = '../data/' + sys_name"
   ]
  },
  {
   "cell_type": "code",
   "execution_count": 21,
   "metadata": {},
   "outputs": [],
   "source": [
    "opt = dict(\n",
    "    max_buffer_size = None,\n",
    "#     max_buffer_size = 1000,\n",
    "    batch_size = 60,\n",
    "    nn_width = 128,\n",
    "    nn_depth = 1,\n",
    "\n",
    "    init_num_samples = 500,\n",
    "    init_num_trainig_step = 10000,\n",
    "    \n",
    "    num_generations = 10,\n",
    "    num_samples_per_generation = 100,\n",
    "    num_train_step_per_gen = 10000,\n",
    "    \n",
    "    adv_max_iter = 3,\n",
    "    adv_conv_tol = 1e-5,\n",
    "    adv_learning_rate = .25,\n",
    "    \n",
    "    num_samples_validation = 1000,\n",
    ")"
   ]
  },
  {
   "cell_type": "code",
   "execution_count": 6,
   "metadata": {},
   "outputs": [],
   "source": [
    "samples_buff = samples_buffer.SamplesBuffer(x0_lo.shape[0]*(vf.N-1), vf.N-1, vf.dtype, max_size=opt['max_buffer_size'])\n",
    "samples_gen = samples_generator.RandomSampleGenerator(vf, x0_lo, x0_up)\n",
    "vf_approx = value_approximation.InfiniteHorizonValueFunctionApproximation(x0_lo, x0_up, opt['nn_width'], opt['nn_depth'])\n",
    "train_log = training_log.TrainingLog(1, prefix=\"baseline\")"
   ]
  },
  {
   "cell_type": "code",
   "execution_count": 300,
   "metadata": {},
   "outputs": [],
   "source": [
    "x_samples_validation, v_labels_validation = samples_gen.generate_samples(opt['num_samples_validation'])"
   ]
  },
  {
   "cell_type": "code",
   "execution_count": 301,
   "metadata": {},
   "outputs": [],
   "source": [
    "torch.save(x_samples_validation, x_samples_file)\n",
    "torch.save(v_labels_validation, v_samples_file)"
   ]
  },
  {
   "cell_type": "code",
   "execution_count": 7,
   "metadata": {},
   "outputs": [],
   "source": [
    "x_samples_validation = torch.load(x_samples_file)\n",
    "v_labels_validation = torch.load(v_samples_file)"
   ]
  },
  {
   "cell_type": "code",
   "execution_count": 8,
   "metadata": {},
   "outputs": [
    {
     "data": {
      "text/plain": [
       "torch.Size([1000, 56])"
      ]
     },
     "execution_count": 8,
     "metadata": {},
     "output_type": "execute_result"
    }
   ],
   "source": [
    "x_samples_validation.shape"
   ]
  },
  {
   "cell_type": "code",
   "execution_count": 9,
   "metadata": {},
   "outputs": [],
   "source": [
    "samples_buff.add_samples(x_samples_validation, v_labels_validation)"
   ]
  },
  {
   "cell_type": "code",
   "execution_count": 302,
   "metadata": {},
   "outputs": [],
   "source": [
    "(x_samples, v_labels) = samples_gen.generate_samples(opt['init_num_samples'])\n",
    "samples_buff.add_samples(x_samples, v_labels)"
   ]
  },
  {
   "cell_type": "code",
   "execution_count": 20,
   "metadata": {},
   "outputs": [],
   "source": [
    "for train_step_i in range(opt['init_num_trainig_step']):\n",
    "    x, v = samples_buff.get_random_samples(opt['batch_size'])\n",
    "    losses = vf_approx.train_step(x, v)\n",
    "    train_log.add_train_loss(losses)"
   ]
  },
  {
   "cell_type": "code",
   "execution_count": 22,
   "metadata": {},
   "outputs": [],
   "source": [
    "samples_buff_adv = copy.deepcopy(samples_buff)\n",
    "samples_gen_adv = samples_generator.AdversarialSampleGenerator(vf, x0_lo, x0_up, \n",
    "                                                               max_iter=opt['adv_max_iter'],\n",
    "                                                               conv_tol=opt['adv_conv_tol'],\n",
    "                                                               learning_rate=opt['adv_learning_rate'])\n",
    "vf_approx_adv = copy.deepcopy(vf_approx)\n",
    "train_log_adv = training_log.TrainingLog.get_copy(\n",
    "    train_log, prefix=\"adversarial\", keep_writer=True)"
   ]
  },
  {
   "cell_type": "code",
   "execution_count": null,
   "metadata": {},
   "outputs": [
    {
     "name": "stderr",
     "output_type": "stream",
     "text": [
      "/Users/blandry/Code/robust-value-approx/env/lib/python3.7/site-packages/jax/lib/xla_bridge.py:122: UserWarning:\n",
      "\n",
      "No GPU/TPU found, falling back to CPU.\n",
      "\n",
      "/Users/blandry/Code/robust-value-approx/env/lib/python3.7/site-packages/torch/serialization.py:292: UserWarning:\n",
      "\n",
      "Couldn't retrieve source code for container of type Sequential. It won't be checked for correctness upon loading.\n",
      "\n",
      "/Users/blandry/Code/robust-value-approx/env/lib/python3.7/site-packages/torch/serialization.py:292: UserWarning:\n",
      "\n",
      "Couldn't retrieve source code for container of type Linear. It won't be checked for correctness upon loading.\n",
      "\n",
      "/Users/blandry/Code/robust-value-approx/env/lib/python3.7/site-packages/torch/serialization.py:292: UserWarning:\n",
      "\n",
      "Couldn't retrieve source code for container of type ReLU. It won't be checked for correctness upon loading.\n",
      "\n"
     ]
    }
   ],
   "source": [
    "validation_losses = vf_approx_adv.validation_loss(x_samples_validation, v_labels_validation)\n",
    "train_log_adv.add_validation_loss(validation_losses)\n",
    "validation_losses = vf_approx.validation_loss(x_samples_validation, v_labels_validation)\n",
    "train_log.add_validation_loss(validation_losses)\n",
    "for gen_i in range(opt['num_generations']):\n",
    "    # adverserial samples\n",
    "    (x_samples, v_labels) = samples_gen_adv.generate_samples(opt['num_samples_per_generation'], vf_approx_adv)\n",
    "    samples_buff_adv.add_samples(x_samples, v_labels)\n",
    "    # random samples\n",
    "    (x_samples, v_labels) = samples_gen.generate_samples(opt['num_samples_per_generation'])\n",
    "    samples_buff.add_samples(x_samples, v_labels)\n",
    "    for train_step_i in range(opt['num_train_step_per_gen']):\n",
    "        samples_indices = samples_buff_adv.get_random_sample_indices(opt['batch_size'])\n",
    "        x, v = samples_buff_adv.get_samples_from_indices(samples_indices)\n",
    "        losses = vf_approx_adv.train_step(x, v)\n",
    "        train_log_adv.add_train_loss(losses)\n",
    "        x, v = samples_buff.get_samples_from_indices(samples_indices)\n",
    "        losses = vf_approx.train_step(x, v)\n",
    "        train_log.add_train_loss(losses)\n",
    "    validation_losses = vf_approx_adv.validation_loss(x_samples_validation, v_labels_validation)\n",
    "    train_log_adv.add_validation_loss(validation_losses)\n",
    "    validation_losses = vf_approx.validation_loss(x_samples_validation, v_labels_validation)\n",
    "    train_log.add_validation_loss(validation_losses)\n",
    "    torch.save(vf_approx.model, 'vf_approx_model')\n",
    "    torch.save(vf_approx_adv.model, 'vf_approx_adv_model')"
   ]
  },
  {
   "cell_type": "code",
   "execution_count": 292,
   "metadata": {},
   "outputs": [
    {
     "data": {
      "application/vnd.plotly.v1+json": {
       "config": {
        "plotlyServerURL": "https://plot.ly"
       },
       "data": [
        {
         "type": "scatter",
         "x": [
          0,
          1.1541234016476665e-05,
          0.0001269535714527592,
          0.0012810769258067012,
          0.01282231044024229,
          0.09600204974412918,
          0.10000000149011612,
          0.14974649250507355,
          0.20000000298023224,
          0.2427983582019806,
          0.30000001192092896,
          0.3543522357940674,
          0.4000000059604645,
          0.4507814049720764,
          0.5,
          0.5626067519187927,
          0.6000000238418579,
          0.6803807020187378,
          0.699999988079071,
          0.7507206201553345,
          0.800000011920929,
          0.8651097416877747,
          0.8999999761581421,
          0.9642284512519836,
          1,
          1.0686041116714478,
          1.100000023841858,
          1.1780468225479126,
          1.2000000476837158,
          1.266478419303894,
          1.2999999523162842,
          1.3546571731567383,
          1.399999976158142,
          1.4965189695358276,
          1.5,
          1.5801928043365479,
          1.600000023841858,
          1.693552017211914,
          1.7000000476837158,
          1.7829885482788086,
          1.7999999523162842,
          1.8437526226043701,
          1.899999976158142
         ],
         "y": [
          3.1415927410125732,
          3.1415927410125732,
          3.1415929794311523,
          3.141617774963379,
          3.144090175628662,
          3.280339241027832,
          3.2919461727142334,
          3.426654577255249,
          3.5407040119171143,
          3.6559624671936035,
          3.8677361011505127,
          4.071427345275879,
          4.2321319580078125,
          4.410920143127441,
          4.57927942276001,
          4.815511703491211,
          4.987069129943848,
          5.4203081130981445,
          5.5328569412231445,
          5.821111679077148,
          6.0864715576171875,
          6.430838584899902,
          6.618495941162109,
          6.955257892608643,
          7.133764743804932,
          7.461503982543945,
          7.605524063110352,
          7.937305927276611,
          8.02367877960205,
          8.280316352844238,
          8.411782264709473,
          8.603655815124512,
          8.718535423278809,
          8.896088600158691,
          8.901762008666992,
          9.016317367553711,
          9.040005683898926,
          9.133524894714355,
          9.138886451721191,
          9.192195892333984,
          9.199297904968262,
          9.202159881591797,
          9.1688814163208
         ]
        },
        {
         "type": "scatter",
         "x": [
          0,
          1.1541234016476665e-05,
          0.0001269535714527592,
          0.0012810769258067012,
          0.01282231044024229,
          0.09600204974412918,
          0.10000000149011612,
          0.14974649250507355,
          0.20000000298023224,
          0.2427983582019806,
          0.30000001192092896,
          0.3543522357940674,
          0.4000000059604645,
          0.4507814049720764,
          0.5,
          0.5626067519187927,
          0.6000000238418579,
          0.6803807020187378,
          0.699999988079071,
          0.7507206201553345,
          0.800000011920929,
          0.8651097416877747,
          0.8999999761581421,
          0.9642284512519836,
          1,
          1.0686041116714478,
          1.100000023841858,
          1.1780468225479126,
          1.2000000476837158,
          1.266478419303894,
          1.2999999523162842,
          1.3546571731567383,
          1.399999976158142,
          1.4965189695358276,
          1.5,
          1.5801928043365479,
          1.600000023841858,
          1.693552017211914,
          1.7000000476837158,
          1.7829885482788086,
          1.7999999523162842,
          1.8437526226043701,
          1.899999976158142
         ],
         "y": [
          0,
          -5.4014721584394465e-09,
          -6.535715897371119e-07,
          -6.654427852481604e-05,
          -0.006660549435764551,
          -0.37052956223487854,
          -0.40163087844848633,
          -0.7647444605827332,
          -1.0756909847259521,
          -1.396705150604248,
          -2.0241987705230713,
          -2.6898655891418457,
          -3.236323833465576,
          -3.793670892715454,
          -4.238153457641602,
          -4.789105415344238,
          -5.173320770263672,
          -6.109380722045898,
          -6.345329284667969,
          -6.933295726776123,
          -7.445347309112549,
          -8.073468208312988,
          -8.404813766479492,
          -8.966445922851562,
          -9.247506141662598,
          -9.778493881225586,
          -10.031876564025879,
          -10.660348892211914,
          -10.833596229553223,
          -11.3798828125,
          -11.676921844482422,
          -12.117996215820312,
          -12.382352828979492,
          -12.820216178894043,
          -12.835421562194824,
          -13.169134140014648,
          -13.24726676940918,
          -13.613595008850098,
          -13.638967514038086,
          -13.962289810180664,
          -14.027852058410645,
          -14.168084144592285,
          -14.270503044128418
         ]
        }
       ],
       "layout": {
        "template": {
         "data": {
          "bar": [
           {
            "error_x": {
             "color": "#2a3f5f"
            },
            "error_y": {
             "color": "#2a3f5f"
            },
            "marker": {
             "line": {
              "color": "#E5ECF6",
              "width": 0.5
             }
            },
            "type": "bar"
           }
          ],
          "barpolar": [
           {
            "marker": {
             "line": {
              "color": "#E5ECF6",
              "width": 0.5
             }
            },
            "type": "barpolar"
           }
          ],
          "carpet": [
           {
            "aaxis": {
             "endlinecolor": "#2a3f5f",
             "gridcolor": "white",
             "linecolor": "white",
             "minorgridcolor": "white",
             "startlinecolor": "#2a3f5f"
            },
            "baxis": {
             "endlinecolor": "#2a3f5f",
             "gridcolor": "white",
             "linecolor": "white",
             "minorgridcolor": "white",
             "startlinecolor": "#2a3f5f"
            },
            "type": "carpet"
           }
          ],
          "choropleth": [
           {
            "colorbar": {
             "outlinewidth": 0,
             "ticks": ""
            },
            "type": "choropleth"
           }
          ],
          "contour": [
           {
            "colorbar": {
             "outlinewidth": 0,
             "ticks": ""
            },
            "colorscale": [
             [
              0,
              "#0d0887"
             ],
             [
              0.1111111111111111,
              "#46039f"
             ],
             [
              0.2222222222222222,
              "#7201a8"
             ],
             [
              0.3333333333333333,
              "#9c179e"
             ],
             [
              0.4444444444444444,
              "#bd3786"
             ],
             [
              0.5555555555555556,
              "#d8576b"
             ],
             [
              0.6666666666666666,
              "#ed7953"
             ],
             [
              0.7777777777777778,
              "#fb9f3a"
             ],
             [
              0.8888888888888888,
              "#fdca26"
             ],
             [
              1,
              "#f0f921"
             ]
            ],
            "type": "contour"
           }
          ],
          "contourcarpet": [
           {
            "colorbar": {
             "outlinewidth": 0,
             "ticks": ""
            },
            "type": "contourcarpet"
           }
          ],
          "heatmap": [
           {
            "colorbar": {
             "outlinewidth": 0,
             "ticks": ""
            },
            "colorscale": [
             [
              0,
              "#0d0887"
             ],
             [
              0.1111111111111111,
              "#46039f"
             ],
             [
              0.2222222222222222,
              "#7201a8"
             ],
             [
              0.3333333333333333,
              "#9c179e"
             ],
             [
              0.4444444444444444,
              "#bd3786"
             ],
             [
              0.5555555555555556,
              "#d8576b"
             ],
             [
              0.6666666666666666,
              "#ed7953"
             ],
             [
              0.7777777777777778,
              "#fb9f3a"
             ],
             [
              0.8888888888888888,
              "#fdca26"
             ],
             [
              1,
              "#f0f921"
             ]
            ],
            "type": "heatmap"
           }
          ],
          "heatmapgl": [
           {
            "colorbar": {
             "outlinewidth": 0,
             "ticks": ""
            },
            "colorscale": [
             [
              0,
              "#0d0887"
             ],
             [
              0.1111111111111111,
              "#46039f"
             ],
             [
              0.2222222222222222,
              "#7201a8"
             ],
             [
              0.3333333333333333,
              "#9c179e"
             ],
             [
              0.4444444444444444,
              "#bd3786"
             ],
             [
              0.5555555555555556,
              "#d8576b"
             ],
             [
              0.6666666666666666,
              "#ed7953"
             ],
             [
              0.7777777777777778,
              "#fb9f3a"
             ],
             [
              0.8888888888888888,
              "#fdca26"
             ],
             [
              1,
              "#f0f921"
             ]
            ],
            "type": "heatmapgl"
           }
          ],
          "histogram": [
           {
            "marker": {
             "colorbar": {
              "outlinewidth": 0,
              "ticks": ""
             }
            },
            "type": "histogram"
           }
          ],
          "histogram2d": [
           {
            "colorbar": {
             "outlinewidth": 0,
             "ticks": ""
            },
            "colorscale": [
             [
              0,
              "#0d0887"
             ],
             [
              0.1111111111111111,
              "#46039f"
             ],
             [
              0.2222222222222222,
              "#7201a8"
             ],
             [
              0.3333333333333333,
              "#9c179e"
             ],
             [
              0.4444444444444444,
              "#bd3786"
             ],
             [
              0.5555555555555556,
              "#d8576b"
             ],
             [
              0.6666666666666666,
              "#ed7953"
             ],
             [
              0.7777777777777778,
              "#fb9f3a"
             ],
             [
              0.8888888888888888,
              "#fdca26"
             ],
             [
              1,
              "#f0f921"
             ]
            ],
            "type": "histogram2d"
           }
          ],
          "histogram2dcontour": [
           {
            "colorbar": {
             "outlinewidth": 0,
             "ticks": ""
            },
            "colorscale": [
             [
              0,
              "#0d0887"
             ],
             [
              0.1111111111111111,
              "#46039f"
             ],
             [
              0.2222222222222222,
              "#7201a8"
             ],
             [
              0.3333333333333333,
              "#9c179e"
             ],
             [
              0.4444444444444444,
              "#bd3786"
             ],
             [
              0.5555555555555556,
              "#d8576b"
             ],
             [
              0.6666666666666666,
              "#ed7953"
             ],
             [
              0.7777777777777778,
              "#fb9f3a"
             ],
             [
              0.8888888888888888,
              "#fdca26"
             ],
             [
              1,
              "#f0f921"
             ]
            ],
            "type": "histogram2dcontour"
           }
          ],
          "mesh3d": [
           {
            "colorbar": {
             "outlinewidth": 0,
             "ticks": ""
            },
            "type": "mesh3d"
           }
          ],
          "parcoords": [
           {
            "line": {
             "colorbar": {
              "outlinewidth": 0,
              "ticks": ""
             }
            },
            "type": "parcoords"
           }
          ],
          "pie": [
           {
            "automargin": true,
            "type": "pie"
           }
          ],
          "scatter": [
           {
            "marker": {
             "colorbar": {
              "outlinewidth": 0,
              "ticks": ""
             }
            },
            "type": "scatter"
           }
          ],
          "scatter3d": [
           {
            "line": {
             "colorbar": {
              "outlinewidth": 0,
              "ticks": ""
             }
            },
            "marker": {
             "colorbar": {
              "outlinewidth": 0,
              "ticks": ""
             }
            },
            "type": "scatter3d"
           }
          ],
          "scattercarpet": [
           {
            "marker": {
             "colorbar": {
              "outlinewidth": 0,
              "ticks": ""
             }
            },
            "type": "scattercarpet"
           }
          ],
          "scattergeo": [
           {
            "marker": {
             "colorbar": {
              "outlinewidth": 0,
              "ticks": ""
             }
            },
            "type": "scattergeo"
           }
          ],
          "scattergl": [
           {
            "marker": {
             "colorbar": {
              "outlinewidth": 0,
              "ticks": ""
             }
            },
            "type": "scattergl"
           }
          ],
          "scattermapbox": [
           {
            "marker": {
             "colorbar": {
              "outlinewidth": 0,
              "ticks": ""
             }
            },
            "type": "scattermapbox"
           }
          ],
          "scatterpolar": [
           {
            "marker": {
             "colorbar": {
              "outlinewidth": 0,
              "ticks": ""
             }
            },
            "type": "scatterpolar"
           }
          ],
          "scatterpolargl": [
           {
            "marker": {
             "colorbar": {
              "outlinewidth": 0,
              "ticks": ""
             }
            },
            "type": "scatterpolargl"
           }
          ],
          "scatterternary": [
           {
            "marker": {
             "colorbar": {
              "outlinewidth": 0,
              "ticks": ""
             }
            },
            "type": "scatterternary"
           }
          ],
          "surface": [
           {
            "colorbar": {
             "outlinewidth": 0,
             "ticks": ""
            },
            "colorscale": [
             [
              0,
              "#0d0887"
             ],
             [
              0.1111111111111111,
              "#46039f"
             ],
             [
              0.2222222222222222,
              "#7201a8"
             ],
             [
              0.3333333333333333,
              "#9c179e"
             ],
             [
              0.4444444444444444,
              "#bd3786"
             ],
             [
              0.5555555555555556,
              "#d8576b"
             ],
             [
              0.6666666666666666,
              "#ed7953"
             ],
             [
              0.7777777777777778,
              "#fb9f3a"
             ],
             [
              0.8888888888888888,
              "#fdca26"
             ],
             [
              1,
              "#f0f921"
             ]
            ],
            "type": "surface"
           }
          ],
          "table": [
           {
            "cells": {
             "fill": {
              "color": "#EBF0F8"
             },
             "line": {
              "color": "white"
             }
            },
            "header": {
             "fill": {
              "color": "#C8D4E3"
             },
             "line": {
              "color": "white"
             }
            },
            "type": "table"
           }
          ]
         },
         "layout": {
          "annotationdefaults": {
           "arrowcolor": "#2a3f5f",
           "arrowhead": 0,
           "arrowwidth": 1
          },
          "coloraxis": {
           "colorbar": {
            "outlinewidth": 0,
            "ticks": ""
           }
          },
          "colorscale": {
           "diverging": [
            [
             0,
             "#8e0152"
            ],
            [
             0.1,
             "#c51b7d"
            ],
            [
             0.2,
             "#de77ae"
            ],
            [
             0.3,
             "#f1b6da"
            ],
            [
             0.4,
             "#fde0ef"
            ],
            [
             0.5,
             "#f7f7f7"
            ],
            [
             0.6,
             "#e6f5d0"
            ],
            [
             0.7,
             "#b8e186"
            ],
            [
             0.8,
             "#7fbc41"
            ],
            [
             0.9,
             "#4d9221"
            ],
            [
             1,
             "#276419"
            ]
           ],
           "sequential": [
            [
             0,
             "#0d0887"
            ],
            [
             0.1111111111111111,
             "#46039f"
            ],
            [
             0.2222222222222222,
             "#7201a8"
            ],
            [
             0.3333333333333333,
             "#9c179e"
            ],
            [
             0.4444444444444444,
             "#bd3786"
            ],
            [
             0.5555555555555556,
             "#d8576b"
            ],
            [
             0.6666666666666666,
             "#ed7953"
            ],
            [
             0.7777777777777778,
             "#fb9f3a"
            ],
            [
             0.8888888888888888,
             "#fdca26"
            ],
            [
             1,
             "#f0f921"
            ]
           ],
           "sequentialminus": [
            [
             0,
             "#0d0887"
            ],
            [
             0.1111111111111111,
             "#46039f"
            ],
            [
             0.2222222222222222,
             "#7201a8"
            ],
            [
             0.3333333333333333,
             "#9c179e"
            ],
            [
             0.4444444444444444,
             "#bd3786"
            ],
            [
             0.5555555555555556,
             "#d8576b"
            ],
            [
             0.6666666666666666,
             "#ed7953"
            ],
            [
             0.7777777777777778,
             "#fb9f3a"
            ],
            [
             0.8888888888888888,
             "#fdca26"
            ],
            [
             1,
             "#f0f921"
            ]
           ]
          },
          "colorway": [
           "#636efa",
           "#EF553B",
           "#00cc96",
           "#ab63fa",
           "#FFA15A",
           "#19d3f3",
           "#FF6692",
           "#B6E880",
           "#FF97FF",
           "#FECB52"
          ],
          "font": {
           "color": "#2a3f5f"
          },
          "geo": {
           "bgcolor": "white",
           "lakecolor": "white",
           "landcolor": "#E5ECF6",
           "showlakes": true,
           "showland": true,
           "subunitcolor": "white"
          },
          "hoverlabel": {
           "align": "left"
          },
          "hovermode": "closest",
          "mapbox": {
           "style": "light"
          },
          "paper_bgcolor": "white",
          "plot_bgcolor": "#E5ECF6",
          "polar": {
           "angularaxis": {
            "gridcolor": "white",
            "linecolor": "white",
            "ticks": ""
           },
           "bgcolor": "#E5ECF6",
           "radialaxis": {
            "gridcolor": "white",
            "linecolor": "white",
            "ticks": ""
           }
          },
          "scene": {
           "xaxis": {
            "backgroundcolor": "#E5ECF6",
            "gridcolor": "white",
            "gridwidth": 2,
            "linecolor": "white",
            "showbackground": true,
            "ticks": "",
            "zerolinecolor": "white"
           },
           "yaxis": {
            "backgroundcolor": "#E5ECF6",
            "gridcolor": "white",
            "gridwidth": 2,
            "linecolor": "white",
            "showbackground": true,
            "ticks": "",
            "zerolinecolor": "white"
           },
           "zaxis": {
            "backgroundcolor": "#E5ECF6",
            "gridcolor": "white",
            "gridwidth": 2,
            "linecolor": "white",
            "showbackground": true,
            "ticks": "",
            "zerolinecolor": "white"
           }
          },
          "shapedefaults": {
           "line": {
            "color": "#2a3f5f"
           }
          },
          "ternary": {
           "aaxis": {
            "gridcolor": "white",
            "linecolor": "white",
            "ticks": ""
           },
           "baxis": {
            "gridcolor": "white",
            "linecolor": "white",
            "ticks": ""
           },
           "bgcolor": "#E5ECF6",
           "caxis": {
            "gridcolor": "white",
            "linecolor": "white",
            "ticks": ""
           }
          },
          "title": {
           "x": 0.05
          },
          "xaxis": {
           "automargin": true,
           "gridcolor": "white",
           "linecolor": "white",
           "ticks": "",
           "title": {
            "standoff": 15
           },
           "zerolinecolor": "white",
           "zerolinewidth": 2
          },
          "yaxis": {
           "automargin": true,
           "gridcolor": "white",
           "linecolor": "white",
           "ticks": "",
           "title": {
            "standoff": 15
           },
           "zerolinecolor": "white",
           "zerolinewidth": 2
          }
         }
        }
       }
      },
      "text/html": [
       "<div>\n",
       "        \n",
       "        \n",
       "            <div id=\"589340b3-922b-489a-8620-7d26100c391b\" class=\"plotly-graph-div\" style=\"height:525px; width:100%;\"></div>\n",
       "            <script type=\"text/javascript\">\n",
       "                require([\"plotly\"], function(Plotly) {\n",
       "                    window.PLOTLYENV=window.PLOTLYENV || {};\n",
       "                    \n",
       "                if (document.getElementById(\"589340b3-922b-489a-8620-7d26100c391b\")) {\n",
       "                    Plotly.newPlot(\n",
       "                        '589340b3-922b-489a-8620-7d26100c391b',\n",
       "                        [{\"type\": \"scatter\", \"x\": [0.0, 1.1541234016476665e-05, 0.0001269535714527592, 0.0012810769258067012, 0.01282231044024229, 0.09600204974412918, 0.10000000149011612, 0.14974649250507355, 0.20000000298023224, 0.2427983582019806, 0.30000001192092896, 0.3543522357940674, 0.4000000059604645, 0.4507814049720764, 0.5, 0.5626067519187927, 0.6000000238418579, 0.6803807020187378, 0.699999988079071, 0.7507206201553345, 0.800000011920929, 0.8651097416877747, 0.8999999761581421, 0.9642284512519836, 1.0, 1.0686041116714478, 1.100000023841858, 1.1780468225479126, 1.2000000476837158, 1.266478419303894, 1.2999999523162842, 1.3546571731567383, 1.399999976158142, 1.4965189695358276, 1.5, 1.5801928043365479, 1.600000023841858, 1.693552017211914, 1.7000000476837158, 1.7829885482788086, 1.7999999523162842, 1.8437526226043701, 1.899999976158142], \"y\": [3.1415927410125732, 3.1415927410125732, 3.1415929794311523, 3.141617774963379, 3.144090175628662, 3.280339241027832, 3.2919461727142334, 3.426654577255249, 3.5407040119171143, 3.6559624671936035, 3.8677361011505127, 4.071427345275879, 4.2321319580078125, 4.410920143127441, 4.57927942276001, 4.815511703491211, 4.987069129943848, 5.4203081130981445, 5.5328569412231445, 5.821111679077148, 6.0864715576171875, 6.430838584899902, 6.618495941162109, 6.955257892608643, 7.133764743804932, 7.461503982543945, 7.605524063110352, 7.937305927276611, 8.02367877960205, 8.280316352844238, 8.411782264709473, 8.603655815124512, 8.718535423278809, 8.896088600158691, 8.901762008666992, 9.016317367553711, 9.040005683898926, 9.133524894714355, 9.138886451721191, 9.192195892333984, 9.199297904968262, 9.202159881591797, 9.1688814163208]}, {\"type\": \"scatter\", \"x\": [0.0, 1.1541234016476665e-05, 0.0001269535714527592, 0.0012810769258067012, 0.01282231044024229, 0.09600204974412918, 0.10000000149011612, 0.14974649250507355, 0.20000000298023224, 0.2427983582019806, 0.30000001192092896, 0.3543522357940674, 0.4000000059604645, 0.4507814049720764, 0.5, 0.5626067519187927, 0.6000000238418579, 0.6803807020187378, 0.699999988079071, 0.7507206201553345, 0.800000011920929, 0.8651097416877747, 0.8999999761581421, 0.9642284512519836, 1.0, 1.0686041116714478, 1.100000023841858, 1.1780468225479126, 1.2000000476837158, 1.266478419303894, 1.2999999523162842, 1.3546571731567383, 1.399999976158142, 1.4965189695358276, 1.5, 1.5801928043365479, 1.600000023841858, 1.693552017211914, 1.7000000476837158, 1.7829885482788086, 1.7999999523162842, 1.8437526226043701, 1.899999976158142], \"y\": [-0.0, -5.4014721584394465e-09, -6.535715897371119e-07, -6.654427852481604e-05, -0.006660549435764551, -0.37052956223487854, -0.40163087844848633, -0.7647444605827332, -1.0756909847259521, -1.396705150604248, -2.0241987705230713, -2.6898655891418457, -3.236323833465576, -3.793670892715454, -4.238153457641602, -4.789105415344238, -5.173320770263672, -6.109380722045898, -6.345329284667969, -6.933295726776123, -7.445347309112549, -8.073468208312988, -8.404813766479492, -8.966445922851562, -9.247506141662598, -9.778493881225586, -10.031876564025879, -10.660348892211914, -10.833596229553223, -11.3798828125, -11.676921844482422, -12.117996215820312, -12.382352828979492, -12.820216178894043, -12.835421562194824, -13.169134140014648, -13.24726676940918, -13.613595008850098, -13.638967514038086, -13.962289810180664, -14.027852058410645, -14.168084144592285, -14.270503044128418]}],\n",
       "                        {\"template\": {\"data\": {\"bar\": [{\"error_x\": {\"color\": \"#2a3f5f\"}, \"error_y\": {\"color\": \"#2a3f5f\"}, \"marker\": {\"line\": {\"color\": \"#E5ECF6\", \"width\": 0.5}}, \"type\": \"bar\"}], \"barpolar\": [{\"marker\": {\"line\": {\"color\": \"#E5ECF6\", \"width\": 0.5}}, \"type\": \"barpolar\"}], \"carpet\": [{\"aaxis\": {\"endlinecolor\": \"#2a3f5f\", \"gridcolor\": \"white\", \"linecolor\": \"white\", \"minorgridcolor\": \"white\", \"startlinecolor\": \"#2a3f5f\"}, \"baxis\": {\"endlinecolor\": \"#2a3f5f\", \"gridcolor\": \"white\", \"linecolor\": \"white\", \"minorgridcolor\": \"white\", \"startlinecolor\": \"#2a3f5f\"}, \"type\": \"carpet\"}], \"choropleth\": [{\"colorbar\": {\"outlinewidth\": 0, \"ticks\": \"\"}, \"type\": \"choropleth\"}], \"contour\": [{\"colorbar\": {\"outlinewidth\": 0, \"ticks\": \"\"}, \"colorscale\": [[0.0, \"#0d0887\"], [0.1111111111111111, \"#46039f\"], [0.2222222222222222, \"#7201a8\"], [0.3333333333333333, \"#9c179e\"], [0.4444444444444444, \"#bd3786\"], [0.5555555555555556, \"#d8576b\"], [0.6666666666666666, \"#ed7953\"], [0.7777777777777778, \"#fb9f3a\"], [0.8888888888888888, \"#fdca26\"], [1.0, \"#f0f921\"]], \"type\": \"contour\"}], \"contourcarpet\": [{\"colorbar\": {\"outlinewidth\": 0, \"ticks\": \"\"}, \"type\": \"contourcarpet\"}], \"heatmap\": [{\"colorbar\": {\"outlinewidth\": 0, \"ticks\": \"\"}, \"colorscale\": [[0.0, \"#0d0887\"], [0.1111111111111111, \"#46039f\"], [0.2222222222222222, \"#7201a8\"], [0.3333333333333333, \"#9c179e\"], [0.4444444444444444, \"#bd3786\"], [0.5555555555555556, \"#d8576b\"], [0.6666666666666666, \"#ed7953\"], [0.7777777777777778, \"#fb9f3a\"], [0.8888888888888888, \"#fdca26\"], [1.0, \"#f0f921\"]], \"type\": \"heatmap\"}], \"heatmapgl\": [{\"colorbar\": {\"outlinewidth\": 0, \"ticks\": \"\"}, \"colorscale\": [[0.0, \"#0d0887\"], [0.1111111111111111, \"#46039f\"], [0.2222222222222222, \"#7201a8\"], [0.3333333333333333, \"#9c179e\"], [0.4444444444444444, \"#bd3786\"], [0.5555555555555556, \"#d8576b\"], [0.6666666666666666, \"#ed7953\"], [0.7777777777777778, \"#fb9f3a\"], [0.8888888888888888, \"#fdca26\"], [1.0, \"#f0f921\"]], \"type\": \"heatmapgl\"}], \"histogram\": [{\"marker\": {\"colorbar\": {\"outlinewidth\": 0, \"ticks\": \"\"}}, \"type\": \"histogram\"}], \"histogram2d\": [{\"colorbar\": {\"outlinewidth\": 0, \"ticks\": \"\"}, \"colorscale\": [[0.0, \"#0d0887\"], [0.1111111111111111, \"#46039f\"], [0.2222222222222222, \"#7201a8\"], [0.3333333333333333, \"#9c179e\"], [0.4444444444444444, \"#bd3786\"], [0.5555555555555556, \"#d8576b\"], [0.6666666666666666, \"#ed7953\"], [0.7777777777777778, \"#fb9f3a\"], [0.8888888888888888, \"#fdca26\"], [1.0, \"#f0f921\"]], \"type\": \"histogram2d\"}], \"histogram2dcontour\": [{\"colorbar\": {\"outlinewidth\": 0, \"ticks\": \"\"}, \"colorscale\": [[0.0, \"#0d0887\"], [0.1111111111111111, \"#46039f\"], [0.2222222222222222, \"#7201a8\"], [0.3333333333333333, \"#9c179e\"], [0.4444444444444444, \"#bd3786\"], [0.5555555555555556, \"#d8576b\"], [0.6666666666666666, \"#ed7953\"], [0.7777777777777778, \"#fb9f3a\"], [0.8888888888888888, \"#fdca26\"], [1.0, \"#f0f921\"]], \"type\": \"histogram2dcontour\"}], \"mesh3d\": [{\"colorbar\": {\"outlinewidth\": 0, \"ticks\": \"\"}, \"type\": \"mesh3d\"}], \"parcoords\": [{\"line\": {\"colorbar\": {\"outlinewidth\": 0, \"ticks\": \"\"}}, \"type\": \"parcoords\"}], \"pie\": [{\"automargin\": true, \"type\": \"pie\"}], \"scatter\": [{\"marker\": {\"colorbar\": {\"outlinewidth\": 0, \"ticks\": \"\"}}, \"type\": \"scatter\"}], \"scatter3d\": [{\"line\": {\"colorbar\": {\"outlinewidth\": 0, \"ticks\": \"\"}}, \"marker\": {\"colorbar\": {\"outlinewidth\": 0, \"ticks\": \"\"}}, \"type\": \"scatter3d\"}], \"scattercarpet\": [{\"marker\": {\"colorbar\": {\"outlinewidth\": 0, \"ticks\": \"\"}}, \"type\": \"scattercarpet\"}], \"scattergeo\": [{\"marker\": {\"colorbar\": {\"outlinewidth\": 0, \"ticks\": \"\"}}, \"type\": \"scattergeo\"}], \"scattergl\": [{\"marker\": {\"colorbar\": {\"outlinewidth\": 0, \"ticks\": \"\"}}, \"type\": \"scattergl\"}], \"scattermapbox\": [{\"marker\": {\"colorbar\": {\"outlinewidth\": 0, \"ticks\": \"\"}}, \"type\": \"scattermapbox\"}], \"scatterpolar\": [{\"marker\": {\"colorbar\": {\"outlinewidth\": 0, \"ticks\": \"\"}}, \"type\": \"scatterpolar\"}], \"scatterpolargl\": [{\"marker\": {\"colorbar\": {\"outlinewidth\": 0, \"ticks\": \"\"}}, \"type\": \"scatterpolargl\"}], \"scatterternary\": [{\"marker\": {\"colorbar\": {\"outlinewidth\": 0, \"ticks\": \"\"}}, \"type\": \"scatterternary\"}], \"surface\": [{\"colorbar\": {\"outlinewidth\": 0, \"ticks\": \"\"}, \"colorscale\": [[0.0, \"#0d0887\"], [0.1111111111111111, \"#46039f\"], [0.2222222222222222, \"#7201a8\"], [0.3333333333333333, \"#9c179e\"], [0.4444444444444444, \"#bd3786\"], [0.5555555555555556, \"#d8576b\"], [0.6666666666666666, \"#ed7953\"], [0.7777777777777778, \"#fb9f3a\"], [0.8888888888888888, \"#fdca26\"], [1.0, \"#f0f921\"]], \"type\": \"surface\"}], \"table\": [{\"cells\": {\"fill\": {\"color\": \"#EBF0F8\"}, \"line\": {\"color\": \"white\"}}, \"header\": {\"fill\": {\"color\": \"#C8D4E3\"}, \"line\": {\"color\": \"white\"}}, \"type\": \"table\"}]}, \"layout\": {\"annotationdefaults\": {\"arrowcolor\": \"#2a3f5f\", \"arrowhead\": 0, \"arrowwidth\": 1}, \"coloraxis\": {\"colorbar\": {\"outlinewidth\": 0, \"ticks\": \"\"}}, \"colorscale\": {\"diverging\": [[0, \"#8e0152\"], [0.1, \"#c51b7d\"], [0.2, \"#de77ae\"], [0.3, \"#f1b6da\"], [0.4, \"#fde0ef\"], [0.5, \"#f7f7f7\"], [0.6, \"#e6f5d0\"], [0.7, \"#b8e186\"], [0.8, \"#7fbc41\"], [0.9, \"#4d9221\"], [1, \"#276419\"]], \"sequential\": [[0.0, \"#0d0887\"], [0.1111111111111111, \"#46039f\"], [0.2222222222222222, \"#7201a8\"], [0.3333333333333333, \"#9c179e\"], [0.4444444444444444, \"#bd3786\"], [0.5555555555555556, \"#d8576b\"], [0.6666666666666666, \"#ed7953\"], [0.7777777777777778, \"#fb9f3a\"], [0.8888888888888888, \"#fdca26\"], [1.0, \"#f0f921\"]], \"sequentialminus\": [[0.0, \"#0d0887\"], [0.1111111111111111, \"#46039f\"], [0.2222222222222222, \"#7201a8\"], [0.3333333333333333, \"#9c179e\"], [0.4444444444444444, \"#bd3786\"], [0.5555555555555556, \"#d8576b\"], [0.6666666666666666, \"#ed7953\"], [0.7777777777777778, \"#fb9f3a\"], [0.8888888888888888, \"#fdca26\"], [1.0, \"#f0f921\"]]}, \"colorway\": [\"#636efa\", \"#EF553B\", \"#00cc96\", \"#ab63fa\", \"#FFA15A\", \"#19d3f3\", \"#FF6692\", \"#B6E880\", \"#FF97FF\", \"#FECB52\"], \"font\": {\"color\": \"#2a3f5f\"}, \"geo\": {\"bgcolor\": \"white\", \"lakecolor\": \"white\", \"landcolor\": \"#E5ECF6\", \"showlakes\": true, \"showland\": true, \"subunitcolor\": \"white\"}, \"hoverlabel\": {\"align\": \"left\"}, \"hovermode\": \"closest\", \"mapbox\": {\"style\": \"light\"}, \"paper_bgcolor\": \"white\", \"plot_bgcolor\": \"#E5ECF6\", \"polar\": {\"angularaxis\": {\"gridcolor\": \"white\", \"linecolor\": \"white\", \"ticks\": \"\"}, \"bgcolor\": \"#E5ECF6\", \"radialaxis\": {\"gridcolor\": \"white\", \"linecolor\": \"white\", \"ticks\": \"\"}}, \"scene\": {\"xaxis\": {\"backgroundcolor\": \"#E5ECF6\", \"gridcolor\": \"white\", \"gridwidth\": 2, \"linecolor\": \"white\", \"showbackground\": true, \"ticks\": \"\", \"zerolinecolor\": \"white\"}, \"yaxis\": {\"backgroundcolor\": \"#E5ECF6\", \"gridcolor\": \"white\", \"gridwidth\": 2, \"linecolor\": \"white\", \"showbackground\": true, \"ticks\": \"\", \"zerolinecolor\": \"white\"}, \"zaxis\": {\"backgroundcolor\": \"#E5ECF6\", \"gridcolor\": \"white\", \"gridwidth\": 2, \"linecolor\": \"white\", \"showbackground\": true, \"ticks\": \"\", \"zerolinecolor\": \"white\"}}, \"shapedefaults\": {\"line\": {\"color\": \"#2a3f5f\"}}, \"ternary\": {\"aaxis\": {\"gridcolor\": \"white\", \"linecolor\": \"white\", \"ticks\": \"\"}, \"baxis\": {\"gridcolor\": \"white\", \"linecolor\": \"white\", \"ticks\": \"\"}, \"bgcolor\": \"#E5ECF6\", \"caxis\": {\"gridcolor\": \"white\", \"linecolor\": \"white\", \"ticks\": \"\"}}, \"title\": {\"x\": 0.05}, \"xaxis\": {\"automargin\": true, \"gridcolor\": \"white\", \"linecolor\": \"white\", \"ticks\": \"\", \"title\": {\"standoff\": 15}, \"zerolinecolor\": \"white\", \"zerolinewidth\": 2}, \"yaxis\": {\"automargin\": true, \"gridcolor\": \"white\", \"linecolor\": \"white\", \"ticks\": \"\", \"title\": {\"standoff\": 15}, \"zerolinecolor\": \"white\", \"zerolinewidth\": 2}}}},\n",
       "                        {\"responsive\": true}\n",
       "                    ).then(function(){\n",
       "                            \n",
       "var gd = document.getElementById('589340b3-922b-489a-8620-7d26100c391b');\n",
       "var x = new MutationObserver(function (mutations, observer) {{\n",
       "        var display = window.getComputedStyle(gd).display;\n",
       "        if (!display || display === 'none') {{\n",
       "            console.log([gd, 'removed!']);\n",
       "            Plotly.purge(gd);\n",
       "            observer.disconnect();\n",
       "        }}\n",
       "}});\n",
       "\n",
       "// Listen for the removal of the full notebook cells\n",
       "var notebookContainer = gd.closest('#notebook-container');\n",
       "if (notebookContainer) {{\n",
       "    x.observe(notebookContainer, {childList: true});\n",
       "}}\n",
       "\n",
       "// Listen for the clearing of the current output cell\n",
       "var outputEl = gd.closest('.output');\n",
       "if (outputEl) {{\n",
       "    x.observe(outputEl, {childList: true});\n",
       "}}\n",
       "\n",
       "                        })\n",
       "                };\n",
       "                });\n",
       "            </script>\n",
       "        </div>"
      ]
     },
     "metadata": {},
     "output_type": "display_data"
    }
   ],
   "source": [
    "import acrobot_utils\n",
    "acro = acrobot_utils.AcrobotNLP()\n",
    "vf = acrobot_utils.get_value_function(15)\n",
    "\n",
    "# ctrl = lambda x: (torch.zeros(1), torch.zeros(1), None)\n",
    "\n",
    "# ctrl = vf.get_optimal_controller()\n",
    "\n",
    "# ctrl = value_approximation.get_inifinite_horizon_ctrl(acro.dyn, vf, vf_approx.model)\n",
    "# ctrl = value_approximation.get_inifinite_horizon_ctrl(acro.dyn, vf, vf_approx_adv.model)\n",
    "\n",
    "# ctrl = value_approximation.get_sampling_infinite_horizon_controller(acro.dx, vf, vf_approx.model)\n",
    "ctrl = value_approximation.get_sampling_infinite_horizon_controller(acro.dx, vf, vf_approx_adv.model)\n",
    "\n",
    "eps = 0.\n",
    "x0 = torch.Tensor([np.pi+eps, -eps, 0., 0.]).double()\n",
    "x_traj_sim, t_traj_sim = acro.sim_ctrl(x0, ctrl, .1, 20)\n",
    "\n",
    "fig = go.Figure()\n",
    "for i in range(2):\n",
    "    fig.add_trace(go.Scatter(\n",
    "        x=t_traj_sim,\n",
    "        y=x_traj_sim[i,:]\n",
    "    ))\n",
    "fig.show()"
   ]
  },
  {
   "cell_type": "code",
   "execution_count": null,
   "metadata": {},
   "outputs": [],
   "source": [
    "import acrobot_utils\n",
    "\n",
    "vf = acrobot_utils.get_value_function(15)\n",
    "V = vf.get_value_function()\n",
    "eps = 0.5\n",
    "x0 = torch.Tensor([np.pi+eps, -eps, 0., 0.]).double()\n",
    "x_traj, u_traj, alpha_traj = vf.sol_to_traj(x0, *(V(x0)[1:]))\n",
    "fig = go.Figure()\n",
    "for i in range(4):\n",
    "    fig.add_trace(go.Scatter(\n",
    "        y=x_traj[i,:]\n",
    "    ))\n",
    "fig.show()"
   ]
  },
  {
   "cell_type": "code",
   "execution_count": null,
   "metadata": {},
   "outputs": [],
   "source": [
    "fig = go.Figure()\n",
    "fig.add_trace(go.Scatter(\n",
    "    y=u_traj[0,:]\n",
    "))\n",
    "fig.show()"
   ]
  },
  {
   "cell_type": "code",
   "execution_count": null,
   "metadata": {},
   "outputs": [],
   "source": [
    "x0 = x_traj[:,1]\n",
    "x_traj, u_traj, alpha_traj = vf.sol_to_traj(x0, *(V(x0)[1:]))\n",
    "fig = go.Figure()\n",
    "for i in range(2):\n",
    "    fig.add_trace(go.Scatter(\n",
    "        y=x_traj[i,:]\n",
    "    ))\n",
    "fig.show()"
   ]
  },
  {
   "cell_type": "markdown",
   "metadata": {},
   "source": [
    "# Pendulum"
   ]
  },
  {
   "cell_type": "code",
   "execution_count": 57,
   "metadata": {},
   "outputs": [
    {
     "data": {
      "application/vnd.plotly.v1+json": {
       "config": {
        "plotlyServerURL": "https://plot.ly"
       },
       "data": [
        {
         "type": "scatter",
         "y": [
          4.641592502593994,
          4.492770195007324,
          4.119449138641357,
          3.731461524963379,
          3.470309019088745,
          3.318655490875244,
          3.235944986343384,
          3.1924870014190674,
          3.170858144760132,
          3.1619813442230225
         ]
        },
        {
         "type": "scatter",
         "y": [
          0,
          -1.4882227182388306,
          -2.2449891567230225,
          -1.6348850727081299,
          -0.9766411185264587,
          -0.539893388748169,
          -0.2872118353843689,
          -0.14736752212047577,
          -0.06892187148332596,
          -0.019845519214868546
         ]
        }
       ],
       "layout": {
        "template": {
         "data": {
          "bar": [
           {
            "error_x": {
             "color": "#2a3f5f"
            },
            "error_y": {
             "color": "#2a3f5f"
            },
            "marker": {
             "line": {
              "color": "#E5ECF6",
              "width": 0.5
             }
            },
            "type": "bar"
           }
          ],
          "barpolar": [
           {
            "marker": {
             "line": {
              "color": "#E5ECF6",
              "width": 0.5
             }
            },
            "type": "barpolar"
           }
          ],
          "carpet": [
           {
            "aaxis": {
             "endlinecolor": "#2a3f5f",
             "gridcolor": "white",
             "linecolor": "white",
             "minorgridcolor": "white",
             "startlinecolor": "#2a3f5f"
            },
            "baxis": {
             "endlinecolor": "#2a3f5f",
             "gridcolor": "white",
             "linecolor": "white",
             "minorgridcolor": "white",
             "startlinecolor": "#2a3f5f"
            },
            "type": "carpet"
           }
          ],
          "choropleth": [
           {
            "colorbar": {
             "outlinewidth": 0,
             "ticks": ""
            },
            "type": "choropleth"
           }
          ],
          "contour": [
           {
            "colorbar": {
             "outlinewidth": 0,
             "ticks": ""
            },
            "colorscale": [
             [
              0,
              "#0d0887"
             ],
             [
              0.1111111111111111,
              "#46039f"
             ],
             [
              0.2222222222222222,
              "#7201a8"
             ],
             [
              0.3333333333333333,
              "#9c179e"
             ],
             [
              0.4444444444444444,
              "#bd3786"
             ],
             [
              0.5555555555555556,
              "#d8576b"
             ],
             [
              0.6666666666666666,
              "#ed7953"
             ],
             [
              0.7777777777777778,
              "#fb9f3a"
             ],
             [
              0.8888888888888888,
              "#fdca26"
             ],
             [
              1,
              "#f0f921"
             ]
            ],
            "type": "contour"
           }
          ],
          "contourcarpet": [
           {
            "colorbar": {
             "outlinewidth": 0,
             "ticks": ""
            },
            "type": "contourcarpet"
           }
          ],
          "heatmap": [
           {
            "colorbar": {
             "outlinewidth": 0,
             "ticks": ""
            },
            "colorscale": [
             [
              0,
              "#0d0887"
             ],
             [
              0.1111111111111111,
              "#46039f"
             ],
             [
              0.2222222222222222,
              "#7201a8"
             ],
             [
              0.3333333333333333,
              "#9c179e"
             ],
             [
              0.4444444444444444,
              "#bd3786"
             ],
             [
              0.5555555555555556,
              "#d8576b"
             ],
             [
              0.6666666666666666,
              "#ed7953"
             ],
             [
              0.7777777777777778,
              "#fb9f3a"
             ],
             [
              0.8888888888888888,
              "#fdca26"
             ],
             [
              1,
              "#f0f921"
             ]
            ],
            "type": "heatmap"
           }
          ],
          "heatmapgl": [
           {
            "colorbar": {
             "outlinewidth": 0,
             "ticks": ""
            },
            "colorscale": [
             [
              0,
              "#0d0887"
             ],
             [
              0.1111111111111111,
              "#46039f"
             ],
             [
              0.2222222222222222,
              "#7201a8"
             ],
             [
              0.3333333333333333,
              "#9c179e"
             ],
             [
              0.4444444444444444,
              "#bd3786"
             ],
             [
              0.5555555555555556,
              "#d8576b"
             ],
             [
              0.6666666666666666,
              "#ed7953"
             ],
             [
              0.7777777777777778,
              "#fb9f3a"
             ],
             [
              0.8888888888888888,
              "#fdca26"
             ],
             [
              1,
              "#f0f921"
             ]
            ],
            "type": "heatmapgl"
           }
          ],
          "histogram": [
           {
            "marker": {
             "colorbar": {
              "outlinewidth": 0,
              "ticks": ""
             }
            },
            "type": "histogram"
           }
          ],
          "histogram2d": [
           {
            "colorbar": {
             "outlinewidth": 0,
             "ticks": ""
            },
            "colorscale": [
             [
              0,
              "#0d0887"
             ],
             [
              0.1111111111111111,
              "#46039f"
             ],
             [
              0.2222222222222222,
              "#7201a8"
             ],
             [
              0.3333333333333333,
              "#9c179e"
             ],
             [
              0.4444444444444444,
              "#bd3786"
             ],
             [
              0.5555555555555556,
              "#d8576b"
             ],
             [
              0.6666666666666666,
              "#ed7953"
             ],
             [
              0.7777777777777778,
              "#fb9f3a"
             ],
             [
              0.8888888888888888,
              "#fdca26"
             ],
             [
              1,
              "#f0f921"
             ]
            ],
            "type": "histogram2d"
           }
          ],
          "histogram2dcontour": [
           {
            "colorbar": {
             "outlinewidth": 0,
             "ticks": ""
            },
            "colorscale": [
             [
              0,
              "#0d0887"
             ],
             [
              0.1111111111111111,
              "#46039f"
             ],
             [
              0.2222222222222222,
              "#7201a8"
             ],
             [
              0.3333333333333333,
              "#9c179e"
             ],
             [
              0.4444444444444444,
              "#bd3786"
             ],
             [
              0.5555555555555556,
              "#d8576b"
             ],
             [
              0.6666666666666666,
              "#ed7953"
             ],
             [
              0.7777777777777778,
              "#fb9f3a"
             ],
             [
              0.8888888888888888,
              "#fdca26"
             ],
             [
              1,
              "#f0f921"
             ]
            ],
            "type": "histogram2dcontour"
           }
          ],
          "mesh3d": [
           {
            "colorbar": {
             "outlinewidth": 0,
             "ticks": ""
            },
            "type": "mesh3d"
           }
          ],
          "parcoords": [
           {
            "line": {
             "colorbar": {
              "outlinewidth": 0,
              "ticks": ""
             }
            },
            "type": "parcoords"
           }
          ],
          "pie": [
           {
            "automargin": true,
            "type": "pie"
           }
          ],
          "scatter": [
           {
            "marker": {
             "colorbar": {
              "outlinewidth": 0,
              "ticks": ""
             }
            },
            "type": "scatter"
           }
          ],
          "scatter3d": [
           {
            "line": {
             "colorbar": {
              "outlinewidth": 0,
              "ticks": ""
             }
            },
            "marker": {
             "colorbar": {
              "outlinewidth": 0,
              "ticks": ""
             }
            },
            "type": "scatter3d"
           }
          ],
          "scattercarpet": [
           {
            "marker": {
             "colorbar": {
              "outlinewidth": 0,
              "ticks": ""
             }
            },
            "type": "scattercarpet"
           }
          ],
          "scattergeo": [
           {
            "marker": {
             "colorbar": {
              "outlinewidth": 0,
              "ticks": ""
             }
            },
            "type": "scattergeo"
           }
          ],
          "scattergl": [
           {
            "marker": {
             "colorbar": {
              "outlinewidth": 0,
              "ticks": ""
             }
            },
            "type": "scattergl"
           }
          ],
          "scattermapbox": [
           {
            "marker": {
             "colorbar": {
              "outlinewidth": 0,
              "ticks": ""
             }
            },
            "type": "scattermapbox"
           }
          ],
          "scatterpolar": [
           {
            "marker": {
             "colorbar": {
              "outlinewidth": 0,
              "ticks": ""
             }
            },
            "type": "scatterpolar"
           }
          ],
          "scatterpolargl": [
           {
            "marker": {
             "colorbar": {
              "outlinewidth": 0,
              "ticks": ""
             }
            },
            "type": "scatterpolargl"
           }
          ],
          "scatterternary": [
           {
            "marker": {
             "colorbar": {
              "outlinewidth": 0,
              "ticks": ""
             }
            },
            "type": "scatterternary"
           }
          ],
          "surface": [
           {
            "colorbar": {
             "outlinewidth": 0,
             "ticks": ""
            },
            "colorscale": [
             [
              0,
              "#0d0887"
             ],
             [
              0.1111111111111111,
              "#46039f"
             ],
             [
              0.2222222222222222,
              "#7201a8"
             ],
             [
              0.3333333333333333,
              "#9c179e"
             ],
             [
              0.4444444444444444,
              "#bd3786"
             ],
             [
              0.5555555555555556,
              "#d8576b"
             ],
             [
              0.6666666666666666,
              "#ed7953"
             ],
             [
              0.7777777777777778,
              "#fb9f3a"
             ],
             [
              0.8888888888888888,
              "#fdca26"
             ],
             [
              1,
              "#f0f921"
             ]
            ],
            "type": "surface"
           }
          ],
          "table": [
           {
            "cells": {
             "fill": {
              "color": "#EBF0F8"
             },
             "line": {
              "color": "white"
             }
            },
            "header": {
             "fill": {
              "color": "#C8D4E3"
             },
             "line": {
              "color": "white"
             }
            },
            "type": "table"
           }
          ]
         },
         "layout": {
          "annotationdefaults": {
           "arrowcolor": "#2a3f5f",
           "arrowhead": 0,
           "arrowwidth": 1
          },
          "coloraxis": {
           "colorbar": {
            "outlinewidth": 0,
            "ticks": ""
           }
          },
          "colorscale": {
           "diverging": [
            [
             0,
             "#8e0152"
            ],
            [
             0.1,
             "#c51b7d"
            ],
            [
             0.2,
             "#de77ae"
            ],
            [
             0.3,
             "#f1b6da"
            ],
            [
             0.4,
             "#fde0ef"
            ],
            [
             0.5,
             "#f7f7f7"
            ],
            [
             0.6,
             "#e6f5d0"
            ],
            [
             0.7,
             "#b8e186"
            ],
            [
             0.8,
             "#7fbc41"
            ],
            [
             0.9,
             "#4d9221"
            ],
            [
             1,
             "#276419"
            ]
           ],
           "sequential": [
            [
             0,
             "#0d0887"
            ],
            [
             0.1111111111111111,
             "#46039f"
            ],
            [
             0.2222222222222222,
             "#7201a8"
            ],
            [
             0.3333333333333333,
             "#9c179e"
            ],
            [
             0.4444444444444444,
             "#bd3786"
            ],
            [
             0.5555555555555556,
             "#d8576b"
            ],
            [
             0.6666666666666666,
             "#ed7953"
            ],
            [
             0.7777777777777778,
             "#fb9f3a"
            ],
            [
             0.8888888888888888,
             "#fdca26"
            ],
            [
             1,
             "#f0f921"
            ]
           ],
           "sequentialminus": [
            [
             0,
             "#0d0887"
            ],
            [
             0.1111111111111111,
             "#46039f"
            ],
            [
             0.2222222222222222,
             "#7201a8"
            ],
            [
             0.3333333333333333,
             "#9c179e"
            ],
            [
             0.4444444444444444,
             "#bd3786"
            ],
            [
             0.5555555555555556,
             "#d8576b"
            ],
            [
             0.6666666666666666,
             "#ed7953"
            ],
            [
             0.7777777777777778,
             "#fb9f3a"
            ],
            [
             0.8888888888888888,
             "#fdca26"
            ],
            [
             1,
             "#f0f921"
            ]
           ]
          },
          "colorway": [
           "#636efa",
           "#EF553B",
           "#00cc96",
           "#ab63fa",
           "#FFA15A",
           "#19d3f3",
           "#FF6692",
           "#B6E880",
           "#FF97FF",
           "#FECB52"
          ],
          "font": {
           "color": "#2a3f5f"
          },
          "geo": {
           "bgcolor": "white",
           "lakecolor": "white",
           "landcolor": "#E5ECF6",
           "showlakes": true,
           "showland": true,
           "subunitcolor": "white"
          },
          "hoverlabel": {
           "align": "left"
          },
          "hovermode": "closest",
          "mapbox": {
           "style": "light"
          },
          "paper_bgcolor": "white",
          "plot_bgcolor": "#E5ECF6",
          "polar": {
           "angularaxis": {
            "gridcolor": "white",
            "linecolor": "white",
            "ticks": ""
           },
           "bgcolor": "#E5ECF6",
           "radialaxis": {
            "gridcolor": "white",
            "linecolor": "white",
            "ticks": ""
           }
          },
          "scene": {
           "xaxis": {
            "backgroundcolor": "#E5ECF6",
            "gridcolor": "white",
            "gridwidth": 2,
            "linecolor": "white",
            "showbackground": true,
            "ticks": "",
            "zerolinecolor": "white"
           },
           "yaxis": {
            "backgroundcolor": "#E5ECF6",
            "gridcolor": "white",
            "gridwidth": 2,
            "linecolor": "white",
            "showbackground": true,
            "ticks": "",
            "zerolinecolor": "white"
           },
           "zaxis": {
            "backgroundcolor": "#E5ECF6",
            "gridcolor": "white",
            "gridwidth": 2,
            "linecolor": "white",
            "showbackground": true,
            "ticks": "",
            "zerolinecolor": "white"
           }
          },
          "shapedefaults": {
           "line": {
            "color": "#2a3f5f"
           }
          },
          "ternary": {
           "aaxis": {
            "gridcolor": "white",
            "linecolor": "white",
            "ticks": ""
           },
           "baxis": {
            "gridcolor": "white",
            "linecolor": "white",
            "ticks": ""
           },
           "bgcolor": "#E5ECF6",
           "caxis": {
            "gridcolor": "white",
            "linecolor": "white",
            "ticks": ""
           }
          },
          "title": {
           "x": 0.05
          },
          "xaxis": {
           "automargin": true,
           "gridcolor": "white",
           "linecolor": "white",
           "ticks": "",
           "title": {
            "standoff": 15
           },
           "zerolinecolor": "white",
           "zerolinewidth": 2
          },
          "yaxis": {
           "automargin": true,
           "gridcolor": "white",
           "linecolor": "white",
           "ticks": "",
           "title": {
            "standoff": 15
           },
           "zerolinecolor": "white",
           "zerolinewidth": 2
          }
         }
        }
       }
      },
      "text/html": [
       "<div>\n",
       "        \n",
       "        \n",
       "            <div id=\"4b43db95-d6f3-4971-8e4b-586bf9eadf54\" class=\"plotly-graph-div\" style=\"height:525px; width:100%;\"></div>\n",
       "            <script type=\"text/javascript\">\n",
       "                require([\"plotly\"], function(Plotly) {\n",
       "                    window.PLOTLYENV=window.PLOTLYENV || {};\n",
       "                    \n",
       "                if (document.getElementById(\"4b43db95-d6f3-4971-8e4b-586bf9eadf54\")) {\n",
       "                    Plotly.newPlot(\n",
       "                        '4b43db95-d6f3-4971-8e4b-586bf9eadf54',\n",
       "                        [{\"type\": \"scatter\", \"y\": [4.641592502593994, 4.492770195007324, 4.119449138641357, 3.731461524963379, 3.470309019088745, 3.318655490875244, 3.235944986343384, 3.1924870014190674, 3.170858144760132, 3.1619813442230225]}, {\"type\": \"scatter\", \"y\": [0.0, -1.4882227182388306, -2.2449891567230225, -1.6348850727081299, -0.9766411185264587, -0.539893388748169, -0.2872118353843689, -0.14736752212047577, -0.06892187148332596, -0.019845519214868546]}],\n",
       "                        {\"template\": {\"data\": {\"bar\": [{\"error_x\": {\"color\": \"#2a3f5f\"}, \"error_y\": {\"color\": \"#2a3f5f\"}, \"marker\": {\"line\": {\"color\": \"#E5ECF6\", \"width\": 0.5}}, \"type\": \"bar\"}], \"barpolar\": [{\"marker\": {\"line\": {\"color\": \"#E5ECF6\", \"width\": 0.5}}, \"type\": \"barpolar\"}], \"carpet\": [{\"aaxis\": {\"endlinecolor\": \"#2a3f5f\", \"gridcolor\": \"white\", \"linecolor\": \"white\", \"minorgridcolor\": \"white\", \"startlinecolor\": \"#2a3f5f\"}, \"baxis\": {\"endlinecolor\": \"#2a3f5f\", \"gridcolor\": \"white\", \"linecolor\": \"white\", \"minorgridcolor\": \"white\", \"startlinecolor\": \"#2a3f5f\"}, \"type\": \"carpet\"}], \"choropleth\": [{\"colorbar\": {\"outlinewidth\": 0, \"ticks\": \"\"}, \"type\": \"choropleth\"}], \"contour\": [{\"colorbar\": {\"outlinewidth\": 0, \"ticks\": \"\"}, \"colorscale\": [[0.0, \"#0d0887\"], [0.1111111111111111, \"#46039f\"], [0.2222222222222222, \"#7201a8\"], [0.3333333333333333, \"#9c179e\"], [0.4444444444444444, \"#bd3786\"], [0.5555555555555556, \"#d8576b\"], [0.6666666666666666, \"#ed7953\"], [0.7777777777777778, \"#fb9f3a\"], [0.8888888888888888, \"#fdca26\"], [1.0, \"#f0f921\"]], \"type\": \"contour\"}], \"contourcarpet\": [{\"colorbar\": {\"outlinewidth\": 0, \"ticks\": \"\"}, \"type\": \"contourcarpet\"}], \"heatmap\": [{\"colorbar\": {\"outlinewidth\": 0, \"ticks\": \"\"}, \"colorscale\": [[0.0, \"#0d0887\"], [0.1111111111111111, \"#46039f\"], [0.2222222222222222, \"#7201a8\"], [0.3333333333333333, \"#9c179e\"], [0.4444444444444444, \"#bd3786\"], [0.5555555555555556, \"#d8576b\"], [0.6666666666666666, \"#ed7953\"], [0.7777777777777778, \"#fb9f3a\"], [0.8888888888888888, \"#fdca26\"], [1.0, \"#f0f921\"]], \"type\": \"heatmap\"}], \"heatmapgl\": [{\"colorbar\": {\"outlinewidth\": 0, \"ticks\": \"\"}, \"colorscale\": [[0.0, \"#0d0887\"], [0.1111111111111111, \"#46039f\"], [0.2222222222222222, \"#7201a8\"], [0.3333333333333333, \"#9c179e\"], [0.4444444444444444, \"#bd3786\"], [0.5555555555555556, \"#d8576b\"], [0.6666666666666666, \"#ed7953\"], [0.7777777777777778, \"#fb9f3a\"], [0.8888888888888888, \"#fdca26\"], [1.0, \"#f0f921\"]], \"type\": \"heatmapgl\"}], \"histogram\": [{\"marker\": {\"colorbar\": {\"outlinewidth\": 0, \"ticks\": \"\"}}, \"type\": \"histogram\"}], \"histogram2d\": [{\"colorbar\": {\"outlinewidth\": 0, \"ticks\": \"\"}, \"colorscale\": [[0.0, \"#0d0887\"], [0.1111111111111111, \"#46039f\"], [0.2222222222222222, \"#7201a8\"], [0.3333333333333333, \"#9c179e\"], [0.4444444444444444, \"#bd3786\"], [0.5555555555555556, \"#d8576b\"], [0.6666666666666666, \"#ed7953\"], [0.7777777777777778, \"#fb9f3a\"], [0.8888888888888888, \"#fdca26\"], [1.0, \"#f0f921\"]], \"type\": \"histogram2d\"}], \"histogram2dcontour\": [{\"colorbar\": {\"outlinewidth\": 0, \"ticks\": \"\"}, \"colorscale\": [[0.0, \"#0d0887\"], [0.1111111111111111, \"#46039f\"], [0.2222222222222222, \"#7201a8\"], [0.3333333333333333, \"#9c179e\"], [0.4444444444444444, \"#bd3786\"], [0.5555555555555556, \"#d8576b\"], [0.6666666666666666, \"#ed7953\"], [0.7777777777777778, \"#fb9f3a\"], [0.8888888888888888, \"#fdca26\"], [1.0, \"#f0f921\"]], \"type\": \"histogram2dcontour\"}], \"mesh3d\": [{\"colorbar\": {\"outlinewidth\": 0, \"ticks\": \"\"}, \"type\": \"mesh3d\"}], \"parcoords\": [{\"line\": {\"colorbar\": {\"outlinewidth\": 0, \"ticks\": \"\"}}, \"type\": \"parcoords\"}], \"pie\": [{\"automargin\": true, \"type\": \"pie\"}], \"scatter\": [{\"marker\": {\"colorbar\": {\"outlinewidth\": 0, \"ticks\": \"\"}}, \"type\": \"scatter\"}], \"scatter3d\": [{\"line\": {\"colorbar\": {\"outlinewidth\": 0, \"ticks\": \"\"}}, \"marker\": {\"colorbar\": {\"outlinewidth\": 0, \"ticks\": \"\"}}, \"type\": \"scatter3d\"}], \"scattercarpet\": [{\"marker\": {\"colorbar\": {\"outlinewidth\": 0, \"ticks\": \"\"}}, \"type\": \"scattercarpet\"}], \"scattergeo\": [{\"marker\": {\"colorbar\": {\"outlinewidth\": 0, \"ticks\": \"\"}}, \"type\": \"scattergeo\"}], \"scattergl\": [{\"marker\": {\"colorbar\": {\"outlinewidth\": 0, \"ticks\": \"\"}}, \"type\": \"scattergl\"}], \"scattermapbox\": [{\"marker\": {\"colorbar\": {\"outlinewidth\": 0, \"ticks\": \"\"}}, \"type\": \"scattermapbox\"}], \"scatterpolar\": [{\"marker\": {\"colorbar\": {\"outlinewidth\": 0, \"ticks\": \"\"}}, \"type\": \"scatterpolar\"}], \"scatterpolargl\": [{\"marker\": {\"colorbar\": {\"outlinewidth\": 0, \"ticks\": \"\"}}, \"type\": \"scatterpolargl\"}], \"scatterternary\": [{\"marker\": {\"colorbar\": {\"outlinewidth\": 0, \"ticks\": \"\"}}, \"type\": \"scatterternary\"}], \"surface\": [{\"colorbar\": {\"outlinewidth\": 0, \"ticks\": \"\"}, \"colorscale\": [[0.0, \"#0d0887\"], [0.1111111111111111, \"#46039f\"], [0.2222222222222222, \"#7201a8\"], [0.3333333333333333, \"#9c179e\"], [0.4444444444444444, \"#bd3786\"], [0.5555555555555556, \"#d8576b\"], [0.6666666666666666, \"#ed7953\"], [0.7777777777777778, \"#fb9f3a\"], [0.8888888888888888, \"#fdca26\"], [1.0, \"#f0f921\"]], \"type\": \"surface\"}], \"table\": [{\"cells\": {\"fill\": {\"color\": \"#EBF0F8\"}, \"line\": {\"color\": \"white\"}}, \"header\": {\"fill\": {\"color\": \"#C8D4E3\"}, \"line\": {\"color\": \"white\"}}, \"type\": \"table\"}]}, \"layout\": {\"annotationdefaults\": {\"arrowcolor\": \"#2a3f5f\", \"arrowhead\": 0, \"arrowwidth\": 1}, \"coloraxis\": {\"colorbar\": {\"outlinewidth\": 0, \"ticks\": \"\"}}, \"colorscale\": {\"diverging\": [[0, \"#8e0152\"], [0.1, \"#c51b7d\"], [0.2, \"#de77ae\"], [0.3, \"#f1b6da\"], [0.4, \"#fde0ef\"], [0.5, \"#f7f7f7\"], [0.6, \"#e6f5d0\"], [0.7, \"#b8e186\"], [0.8, \"#7fbc41\"], [0.9, \"#4d9221\"], [1, \"#276419\"]], \"sequential\": [[0.0, \"#0d0887\"], [0.1111111111111111, \"#46039f\"], [0.2222222222222222, \"#7201a8\"], [0.3333333333333333, \"#9c179e\"], [0.4444444444444444, \"#bd3786\"], [0.5555555555555556, \"#d8576b\"], [0.6666666666666666, \"#ed7953\"], [0.7777777777777778, \"#fb9f3a\"], [0.8888888888888888, \"#fdca26\"], [1.0, \"#f0f921\"]], \"sequentialminus\": [[0.0, \"#0d0887\"], [0.1111111111111111, \"#46039f\"], [0.2222222222222222, \"#7201a8\"], [0.3333333333333333, \"#9c179e\"], [0.4444444444444444, \"#bd3786\"], [0.5555555555555556, \"#d8576b\"], [0.6666666666666666, \"#ed7953\"], [0.7777777777777778, \"#fb9f3a\"], [0.8888888888888888, \"#fdca26\"], [1.0, \"#f0f921\"]]}, \"colorway\": [\"#636efa\", \"#EF553B\", \"#00cc96\", \"#ab63fa\", \"#FFA15A\", \"#19d3f3\", \"#FF6692\", \"#B6E880\", \"#FF97FF\", \"#FECB52\"], \"font\": {\"color\": \"#2a3f5f\"}, \"geo\": {\"bgcolor\": \"white\", \"lakecolor\": \"white\", \"landcolor\": \"#E5ECF6\", \"showlakes\": true, \"showland\": true, \"subunitcolor\": \"white\"}, \"hoverlabel\": {\"align\": \"left\"}, \"hovermode\": \"closest\", \"mapbox\": {\"style\": \"light\"}, \"paper_bgcolor\": \"white\", \"plot_bgcolor\": \"#E5ECF6\", \"polar\": {\"angularaxis\": {\"gridcolor\": \"white\", \"linecolor\": \"white\", \"ticks\": \"\"}, \"bgcolor\": \"#E5ECF6\", \"radialaxis\": {\"gridcolor\": \"white\", \"linecolor\": \"white\", \"ticks\": \"\"}}, \"scene\": {\"xaxis\": {\"backgroundcolor\": \"#E5ECF6\", \"gridcolor\": \"white\", \"gridwidth\": 2, \"linecolor\": \"white\", \"showbackground\": true, \"ticks\": \"\", \"zerolinecolor\": \"white\"}, \"yaxis\": {\"backgroundcolor\": \"#E5ECF6\", \"gridcolor\": \"white\", \"gridwidth\": 2, \"linecolor\": \"white\", \"showbackground\": true, \"ticks\": \"\", \"zerolinecolor\": \"white\"}, \"zaxis\": {\"backgroundcolor\": \"#E5ECF6\", \"gridcolor\": \"white\", \"gridwidth\": 2, \"linecolor\": \"white\", \"showbackground\": true, \"ticks\": \"\", \"zerolinecolor\": \"white\"}}, \"shapedefaults\": {\"line\": {\"color\": \"#2a3f5f\"}}, \"ternary\": {\"aaxis\": {\"gridcolor\": \"white\", \"linecolor\": \"white\", \"ticks\": \"\"}, \"baxis\": {\"gridcolor\": \"white\", \"linecolor\": \"white\", \"ticks\": \"\"}, \"bgcolor\": \"#E5ECF6\", \"caxis\": {\"gridcolor\": \"white\", \"linecolor\": \"white\", \"ticks\": \"\"}}, \"title\": {\"x\": 0.05}, \"xaxis\": {\"automargin\": true, \"gridcolor\": \"white\", \"linecolor\": \"white\", \"ticks\": \"\", \"title\": {\"standoff\": 15}, \"zerolinecolor\": \"white\", \"zerolinewidth\": 2}, \"yaxis\": {\"automargin\": true, \"gridcolor\": \"white\", \"linecolor\": \"white\", \"ticks\": \"\", \"title\": {\"standoff\": 15}, \"zerolinecolor\": \"white\", \"zerolinewidth\": 2}}}},\n",
       "                        {\"responsive\": true}\n",
       "                    ).then(function(){\n",
       "                            \n",
       "var gd = document.getElementById('4b43db95-d6f3-4971-8e4b-586bf9eadf54');\n",
       "var x = new MutationObserver(function (mutations, observer) {{\n",
       "        var display = window.getComputedStyle(gd).display;\n",
       "        if (!display || display === 'none') {{\n",
       "            console.log([gd, 'removed!']);\n",
       "            Plotly.purge(gd);\n",
       "            observer.disconnect();\n",
       "        }}\n",
       "}});\n",
       "\n",
       "// Listen for the removal of the full notebook cells\n",
       "var notebookContainer = gd.closest('#notebook-container');\n",
       "if (notebookContainer) {{\n",
       "    x.observe(notebookContainer, {childList: true});\n",
       "}}\n",
       "\n",
       "// Listen for the clearing of the current output cell\n",
       "var outputEl = gd.closest('.output');\n",
       "if (outputEl) {{\n",
       "    x.observe(outputEl, {childList: true});\n",
       "}}\n",
       "\n",
       "                        })\n",
       "                };\n",
       "                });\n",
       "            </script>\n",
       "        </div>"
      ]
     },
     "metadata": {},
     "output_type": "display_data"
    }
   ],
   "source": [
    "import pendulum_utils\n",
    "\n",
    "vf = pendulum_utils.get_value_function(10)\n",
    "V = vf.get_value_function()\n",
    "eps = 1.5\n",
    "x0 = torch.Tensor([np.pi+eps, 0.]).double()\n",
    "x_traj, u_traj, alpha_traj = vf.sol_to_traj(x0, *(V(x0)[1:]))\n",
    "fig = go.Figure()\n",
    "for i in range(2):\n",
    "    fig.add_trace(go.Scatter(\n",
    "        y=x_traj[i,:]\n",
    "    ))\n",
    "fig.show()"
   ]
  },
  {
   "cell_type": "code",
   "execution_count": 264,
   "metadata": {},
   "outputs": [
    {
     "data": {
      "application/vnd.plotly.v1+json": {
       "config": {
        "plotlyServerURL": "https://plot.ly"
       },
       "data": [
        {
         "name": "baseline",
         "type": "scatter",
         "x": [
          0,
          0.0833452045917511,
          0.10000000149011612,
          0.1821017861366272,
          0.20000000298023224,
          0.275289922952652,
          0.30000001192092896,
          0.3791501522064209,
          0.4000000059604645,
          0.477159708738327,
          0.5,
          0.5742930173873901,
          0.6000000238418579,
          0.6783674359321594,
          0.699999988079071,
          0.7712526321411133,
          0.800000011920929,
          0.8797773718833923,
          0.8999999761581421,
          0.961405336856842,
          1,
          1.061658501625061,
          1.100000023841858,
          1.1735568046569824,
          1.2000000476837158,
          1.2711682319641113,
          1.2999999523162842,
          1.3652071952819824,
          1.399999976158142,
          1.4674538373947144,
          1.5,
          1.570655345916748,
          1.600000023841858,
          1.6821805238723755,
          1.7000000476837158,
          1.7767726182937622,
          1.7999999523162842,
          1.8808586597442627,
          1.899999976158142,
          1.9796397686004639,
          2,
          2.0662426948547363,
          2.0999999046325684,
          2.1728005409240723,
          2.200000047683716,
          2.284987211227417,
          2.299999952316284,
          2.3547887802124023,
          2.4000000953674316,
          2.4733681678771973,
          2.5,
          2.565157651901245,
          2.5999999046325684,
          2.6890838146209717,
          2.700000047683716,
          2.7198426723480225,
          2.799999952316284,
          2.867554187774658,
          2.9000000953674316,
          2.920853853225708,
          3,
          3.0239405632019043,
          3.0999999046325684,
          3.1676111221313477,
          3.200000047683716,
          3.211963415145874,
          3.299999952316284,
          3.3844704627990723,
          3.4000000953674316,
          3.4622011184692383,
          3.5,
          3.554795026779175,
          3.5999999046325684,
          3.671685218811035,
          3.700000047683716,
          3.73748779296875,
          3.799999952316284,
          3.865652561187744,
          3.9000000953674316,
          3.9192099571228027,
          4,
          4.084066390991211,
          4.099999904632568,
          4.158729076385498,
          4.199999809265137,
          4.272372722625732,
          4.300000190734863,
          4.386022090911865,
          4.400000095367432,
          4.470683574676514,
          4.5,
          4.506294250488281,
          4.569234848022461,
          4.599999904632568,
          4.672482490539551,
          4.699999809265137,
          4.770840644836426,
          4.800000190734863,
          4.82198429107666,
          4.900000095367432,
          4.979574203491211,
          5,
          5.06877326965332,
          5.099999904632568,
          5.151116847991943,
          5.199999809265137,
          5.2722697257995605,
          5.300000190734863,
          5.369469165802002,
          5.400000095367432,
          5.483098030090332,
          5.5,
          5.562383651733398,
          5.599999904632568,
          5.658735752105713,
          5.699999809265137,
          5.755016326904297,
          5.800000190734863,
          5.874978542327881,
          5.900000095367432,
          5.974559307098389,
          6,
          6.044132709503174,
          6.099999904632568,
          6.172296524047852,
          6.199999809265137,
          6.224587440490723,
          6.300000190734863,
          6.375296115875244,
          6.400000095367432,
          6.4479660987854,
          6.5,
          6.57800817489624,
          6.599999904632568,
          6.667474746704102,
          6.699999809265137,
          6.767991542816162,
          6.800000190734863,
          6.805825233459473,
          6.864078521728516,
          6.900000095367432,
          6.9747772216796875,
          7,
          7.082576274871826,
          7.099999904632568,
          7.169906139373779,
          7.199999809265137,
          7.226663589477539,
          7.300000190734863,
          7.376476764678955,
          7.400000095367432,
          7.4787821769714355,
          7.5,
          7.572626113891602,
          7.599999904632568,
          7.642710208892822,
          7.699999809265137,
          7.723527431488037,
          7.800000190734863,
          7.870777606964111,
          7.900000095367432,
          7.966368675231934,
          8,
          8.06230354309082,
          8.100000381469727,
          8.159117698669434,
          8.199999809265137,
          8.272741317749023,
          8.300000190734863,
          8.319705963134766,
          8.399999618530273,
          8.46470832824707,
          8.5,
          8.583776473999023,
          8.600000381469727,
          8.665087699890137,
          8.699999809265137,
          8.764236450195312,
          8.800000190734863,
          8.85925006866455,
          8.899999618530273,
          8.957413673400879,
          9,
          9.05683422088623,
          9.100000381469727,
          9.182940483093262,
          9.199999809265137,
          9.28520679473877,
          9.300000190734863,
          9.371472358703613,
          9.399999618530273,
          9.44939136505127,
          9.5,
          9.57247543334961,
          9.600000381469727,
          9.67489242553711,
          9.699999809265137,
          9.71250057220459,
          9.800000190734863,
          9.875565528869629,
          9.899999618530273,
          9.980303764343262,
          10,
          10.056940078735352,
          10.100000381469727,
          10.184998512268066,
          10.199999809265137,
          10.275686264038086,
          10.300000190734863,
          10.378697395324707,
          10.399999618530273,
          10.47127914428711,
          10.5,
          10.557168960571289,
          10.600000381469727,
          10.671589851379395,
          10.699999809265137,
          10.721965789794922,
          10.800000190734863,
          10.86599349975586,
          10.899999618530273,
          10.960999488830566,
          11,
          11.019627571105957,
          11.100000381469727,
          11.157023429870605,
          11.199999809265137,
          11.257328987121582,
          11.300000190734863,
          11.369391441345215,
          11.399999618530273,
          11.459295272827148,
          11.5,
          11.562678337097168,
          11.600000381469727,
          11.624014854431152,
          11.699999809265137,
          11.77403450012207,
          11.800000190734863,
          11.872920036315918,
          11.899999618530273,
          11.977394104003906,
          12,
          12.069571495056152,
          12.100000381469727,
          12.168211936950684,
          12.199999809265137,
          12.203694343566895,
          12.240639686584473,
          12.300000190734863,
          12.3859281539917,
          12.399999618530273,
          12.472079277038574,
          12.5,
          12.562301635742188,
          12.600000381469727,
          12.680155754089355,
          12.699999809265137,
          12.770523071289062,
          12.800000190734863,
          12.85719108581543,
          12.899999618530273,
          12.930166244506836,
          13,
          13.069273948669434,
          13.100000381469727,
          13.145578384399414,
          13.199999809265137,
          13.285567283630371,
          13.300000190734863,
          13.367044448852539,
          13.399999618530273,
          13.476973533630371,
          13.5,
          13.58492374420166,
          13.600000381469727,
          13.664250373840332,
          13.699999809265137,
          13.75830078125,
          13.800000190734863,
          13.86974811553955,
          13.899999618530273,
          13.92089557647705,
          14,
          14.078421592712402,
          14.100000381469727,
          14.174149513244629,
          14.199999809265137,
          14.26722240447998,
          14.300000190734863,
          14.359270095825195,
          14.399999618530273,
          14.458550453186035,
          14.5,
          14.578571319580078,
          14.600000381469727,
          14.676424980163574,
          14.699999809265137,
          14.782073020935059,
          14.800000190734863,
          14.872467041015625,
          14.899999618530273,
          14.961273193359375,
          15,
          15.076224327087402,
          15.100000381469727,
          15.143570899963379,
          15.199999809265137,
          15.271242141723633,
          15.300000190734863,
          15.369978904724121,
          15.399999618530273,
          15.466217041015625,
          15.5,
          15.510066986083984,
          15.600000381469727,
          15.685988426208496,
          15.699999809265137,
          15.772128105163574,
          15.800000190734863,
          15.88003921508789,
          15.899999618530273,
          15.976847648620605,
          16,
          16.034648895263672,
          16.100000381469727,
          16.171892166137695,
          16.200000762939453,
          16.264545440673828,
          16.299999237060547,
          16.361312866210938,
          16.399999618530273,
          16.474355697631836,
          16.5,
          16.556867599487305,
          16.600000381469727,
          16.66749382019043,
          16.700000762939453,
          16.7025089263916,
          16.72759246826172,
          16.799999237060547,
          16.87470245361328,
          16.899999618530273,
          16.97186279296875,
          17,
          17.033214569091797,
          17.100000381469727,
          17.170286178588867,
          17.200000762939453,
          17.222158432006836,
          17.299999237060547,
          17.377880096435547,
          17.399999618530273,
          17.47115135192871,
          17.5,
          17.557395935058594,
          17.600000381469727,
          17.666156768798828,
          17.700000762939453,
          17.772329330444336,
          17.799999237060547,
          17.85724449157715,
          17.899999618530273,
          17.97611427307129,
          18,
          18.07202911376953,
          18.100000381469727,
          18.127662658691406,
          18.200000762939453,
          18.27050018310547,
          18.299999237060547,
          18.362764358520508,
          18.399999618530273,
          18.478778839111328,
          18.5,
          18.570301055908203,
          18.600000381469727,
          18.635623931884766,
          18.700000762939453,
          18.780860900878906,
          18.799999237060547,
          18.886024475097656,
          18.899999618530273,
          18.971729278564453,
          19,
          19.058340072631836,
          19.100000381469727,
          19.16367530822754,
          19.200000762939453,
          19.26548194885254,
          19.299999237060547,
          19.320589065551758,
          19.399999618530273,
          19.475305557250977,
          19.5,
          19.572202682495117,
          19.600000381469727,
          19.628259658813477,
          19.700000762939453,
          19.75962257385254,
          19.799999237060547,
          19.862266540527344,
          19.899999618530273
         ],
         "y": [
          2.1415927410125732,
          2.132004499435425,
          2.1297760009765625,
          2.117192268371582,
          2.1140780448913574,
          2.101430892944336,
          2.097566604614258,
          2.085002899169922,
          2.0815412998199463,
          2.0689470767974854,
          2.0653228759765625,
          2.054946184158325,
          2.051950454711914,
          2.043419122695923,
          2.041102647781372,
          2.0352425575256348,
          2.033839702606201,
          2.030118227005005,
          2.02898907661438,
          2.027212142944336,
          2.0278701782226562,
          2.0289418697357178,
          2.028564453125,
          2.0273549556732178,
          2.0270469188690186,
          2.0260798931121826,
          2.025559425354004,
          2.0237793922424316,
          2.0224053859710693,
          2.0184237957000732,
          2.015763521194458,
          2.011155843734741,
          2.010209083557129,
          2.0082879066467285,
          2.007856845855713,
          2.006174087524414,
          2.0057339668273926,
          2.0039918422698975,
          2.0035011768341064,
          2.001464605331421,
          2.000962257385254,
          1.9987170696258545,
          1.9970954656600952,
          1.994064211845398,
          1.9933356046676636,
          1.9912694692611694,
          1.9908770322799683,
          1.990460753440857,
          1.99164617061615,
          1.9940705299377441,
          1.9946612119674683,
          1.9954112768173218,
          1.9954010248184204,
          1.9949604272842407,
          1.9948986768722534,
          1.9948722124099731,
          1.996521234512329,
          1.998207449913025,
          1.9984091520309448,
          1.9984278678894043,
          1.9987399578094482,
          1.9987760782241821,
          1.9973821640014648,
          1.995903491973877,
          1.9957268238067627,
          1.9957314729690552,
          1.9962263107299805,
          1.9971222877502441,
          1.9972957372665405,
          1.9976412057876587,
          1.997510552406311,
          1.9968557357788086,
          1.9958935976028442,
          1.994542121887207,
          1.9942628145217896,
          1.9941937923431396,
          1.9949897527694702,
          1.9958579540252686,
          1.9958769083023071,
          1.9957479238510132,
          1.9939606189727783,
          1.9906309843063354,
          1.9899001121520996,
          1.9887971878051758,
          1.989963173866272,
          1.9925987720489502,
          1.9931997060775757,
          1.9948506355285645,
          1.9951426982879639,
          1.9962034225463867,
          1.9963955879211426,
          1.9964423179626465,
          1.999169111251831,
          2.001981258392334,
          2.008086681365967,
          2.009565591812134,
          2.0119175910949707,
          2.0123889446258545,
          2.0124549865722656,
          2.0097713470458984,
          2.004850387573242,
          2.0036144256591797,
          2.0007717609405518,
          2.000322103500366,
          1.9997648000717163,
          1.9987841844558716,
          1.9965325593948364,
          1.9954122304916382,
          1.9933346509933472,
          1.9929816722869873,
          1.9924792051315308,
          1.9923771619796753,
          1.9917958974838257,
          1.991248607635498,
          1.9908822774887085,
          1.9913344383239746,
          1.9916120767593384,
          1.9908009767532349,
          1.989015817642212,
          1.988562822341919,
          1.987542986869812,
          1.987295389175415,
          1.987195611000061,
          1.987879753112793,
          1.9889780282974243,
          1.989210844039917,
          1.9894952774047852,
          1.9918842315673828,
          1.9949036836624146,
          1.9956865310668945,
          1.9960964918136597,
          1.9942831993103027,
          1.9901349544525146,
          1.989067792892456,
          1.9869544506072998,
          1.9867013692855835,
          1.986653447151184,
          1.986611247062683,
          1.986611008644104,
          1.9875390529632568,
          1.9889453649520874,
          1.9919627904891968,
          1.9927351474761963,
          1.99544358253479,
          1.9961129426956177,
          1.998049259185791,
          1.9983917474746704,
          1.998434066772461,
          1.9971964359283447,
          1.9951403141021729,
          1.9946060180664062,
          1.9929946660995483,
          1.9925932884216309,
          1.9915623664855957,
          1.9913357496261597,
          1.9912655353546143,
          1.9918406009674072,
          1.9925166368484497,
          1.9986025094985962,
          2.0046842098236084,
          2.0059003829956055,
          2.0071120262145996,
          2.0071940422058105,
          2.0069122314453125,
          2.0066354274749756,
          2.0058188438415527,
          2.0048816204071045,
          2.003365993499756,
          2.0030083656311035,
          2.002951145172119,
          2.005995273590088,
          2.0087153911590576,
          2.0086889266967773,
          2.0071818828582764,
          2.0068418979644775,
          2.006011724472046,
          2.0060231685638428,
          2.006486415863037,
          2.0068776607513428,
          2.007159471511841,
          2.006844997406006,
          2.0066211223602295,
          2.007099151611328,
          2.0073907375335693,
          2.0066823959350586,
          2.004481554031372,
          2.0040066242218018,
          2.0014281272888184,
          2.0009403228759766,
          1.9991734027862549,
          1.998803973197937,
          1.9986783266067505,
          1.9992691278457642,
          2.000305414199829,
          2.0005345344543457,
          2.000934600830078,
          2.0010244846343994,
          2.001096248626709,
          2.0033955574035645,
          2.006303071975708,
          2.007070779800415,
          2.009429931640625,
          2.010002613067627,
          2.01051926612854,
          2.0094234943389893,
          2.005740165710449,
          2.0050296783447266,
          2.001840591430664,
          2.000994920730591,
          1.9985296726226807,
          1.997904658317566,
          1.9963992834091187,
          1.9960999488830566,
          1.9953577518463135,
          1.994388222694397,
          1.9929778575897217,
          1.992690086364746,
          1.9926494359970093,
          1.9944769144058228,
          1.9962471723556519,
          1.9963489770889282,
          1.996229887008667,
          1.9963421821594238,
          1.996362328529358,
          1.994949221611023,
          1.9943610429763794,
          1.995552897453308,
          1.9997422695159912,
          2.005023241043091,
          2.012075901031494,
          2.0133097171783447,
          2.013843536376953,
          2.0133349895477295,
          2.012637138366699,
          2.0128042697906494,
          2.0128681659698486,
          2.01071834564209,
          2.0075314044952393,
          2.006699800491333,
          2.0050113201141357,
          2.0046041011810303,
          2.0037055015563965,
          2.003478527069092,
          2.0025782585144043,
          2.002042531967163,
          2.0011820793151855,
          2.001072883605957,
          2.0010738372802734,
          2.001422166824341,
          2.00325608253479,
          2.0075535774230957,
          2.0083587169647217,
          2.011604070663452,
          2.0123653411865234,
          2.0144474506378174,
          2.016369581222534,
          2.0209710597991943,
          2.022113084793091,
          2.0250680446624756,
          2.025663137435913,
          2.025902509689331,
          2.025362730026245,
          2.0251967906951904,
          2.0280532836914062,
          2.0315663814544678,
          2.0321648120880127,
          2.0322864055633545,
          2.031557083129883,
          2.029404640197754,
          2.028987169265747,
          2.0262951850891113,
          2.024446487426758,
          2.020068645477295,
          2.018882989883423,
          2.014230728149414,
          2.013321876525879,
          2.0110230445861816,
          2.0111255645751953,
          2.0114691257476807,
          2.0109739303588867,
          2.0100481510162354,
          2.0098960399627686,
          2.009795665740967,
          2.0085885524749756,
          2.0068559646606445,
          2.006413459777832,
          2.0051825046539307,
          2.0048742294311523,
          2.0038769245147705,
          2.0031919479370117,
          2.002636432647705,
          2.003166675567627,
          2.003654718399048,
          2.00304913520813,
          2.001275062561035,
          2.000825881958008,
          1.9989017248153687,
          1.9981669187545776,
          1.995053768157959,
          1.9942548274993896,
          1.9916863441467285,
          1.9910908937454224,
          1.9905662536621094,
          1.9908154010772705,
          1.9916092157363892,
          1.9918051958084106,
          1.9923957586288452,
          1.99390709400177,
          1.9956822395324707,
          1.996034026145935,
          1.9964455366134644,
          1.9965051412582397,
          1.9966055154800415,
          1.9966909885406494,
          1.996695637702942,
          1.9946194887161255,
          1.990505576133728,
          1.9897699356079102,
          1.9868478775024414,
          1.9861937761306763,
          1.984407901763916,
          1.9838746786117554,
          1.9819916486740112,
          1.9815127849578857,
          1.9803285598754883,
          1.9754173755645752,
          1.9699333906173706,
          1.968756914138794,
          1.9675287008285522,
          1.9675750732421875,
          1.9683759212493896,
          1.9691749811172485,
          1.9705890417099,
          1.970924735069275,
          1.9720680713653564,
          1.9735745191574097,
          1.9754066467285156,
          1.9756234884262085,
          1.9756252765655518,
          1.9758034944534302,
          1.9779270887374878,
          1.9807655811309814,
          1.9814766645431519,
          1.982837200164795,
          1.9831126928329468,
          1.9835368394851685,
          1.9854830503463745,
          1.9874775409698486,
          1.9878419637680054,
          1.9878838062286377,
          1.9860533475875854,
          1.9829689264297485,
          1.982183814048767,
          1.980403184890747,
          1.9800605773925781,
          1.9799306392669678,
          1.980265498161316,
          1.981386661529541,
          1.982207179069519,
          1.9836639165878296,
          1.9839770793914795,
          1.9848613739013672,
          1.9860049486160278,
          1.9880993366241455,
          1.9886358976364136,
          1.989776372909546,
          1.9900126457214355,
          1.9903262853622437,
          1.9924144744873047,
          1.9944992065429688,
          1.9948872327804565,
          1.9956849813461304,
          1.9964114427566528,
          1.99848473072052,
          1.9991604089736938,
          2.0008046627044678,
          2.001102924346924,
          2.001155376434326,
          2.0004138946533203,
          1.9985321760177612,
          1.9980026483535767,
          1.9953365325927734,
          1.9948610067367554,
          1.993017315864563,
          1.9926254749298096,
          1.9915963411331177,
          1.9903613328933716,
          1.989116907119751,
          1.9892503023147583,
          1.9897122383117676,
          1.989702820777893,
          1.9895983934402466,
          1.9883110523223877,
          1.9867159128189087,
          1.9863123893737793,
          1.985503077507019,
          1.9853407144546509,
          1.9851188659667969,
          1.9836857318878174,
          1.982954978942871,
          1.9835479259490967,
          1.9843673706054688,
          1.9841364622116089
         ]
        },
        {
         "name": "baseline",
         "type": "scatter",
         "x": [
          0,
          0.0833452045917511,
          0.10000000149011612,
          0.1821017861366272,
          0.20000000298023224,
          0.275289922952652,
          0.30000001192092896,
          0.3791501522064209,
          0.4000000059604645,
          0.477159708738327,
          0.5,
          0.5742930173873901,
          0.6000000238418579,
          0.6783674359321594,
          0.699999988079071,
          0.7712526321411133,
          0.800000011920929,
          0.8797773718833923,
          0.8999999761581421,
          0.961405336856842,
          1,
          1.061658501625061,
          1.100000023841858,
          1.1735568046569824,
          1.2000000476837158,
          1.2711682319641113,
          1.2999999523162842,
          1.3652071952819824,
          1.399999976158142,
          1.4674538373947144,
          1.5,
          1.570655345916748,
          1.600000023841858,
          1.6821805238723755,
          1.7000000476837158,
          1.7767726182937622,
          1.7999999523162842,
          1.8808586597442627,
          1.899999976158142,
          1.9796397686004639,
          2,
          2.0662426948547363,
          2.0999999046325684,
          2.1728005409240723,
          2.200000047683716,
          2.284987211227417,
          2.299999952316284,
          2.3547887802124023,
          2.4000000953674316,
          2.4733681678771973,
          2.5,
          2.565157651901245,
          2.5999999046325684,
          2.6890838146209717,
          2.700000047683716,
          2.7198426723480225,
          2.799999952316284,
          2.867554187774658,
          2.9000000953674316,
          2.920853853225708,
          3,
          3.0239405632019043,
          3.0999999046325684,
          3.1676111221313477,
          3.200000047683716,
          3.211963415145874,
          3.299999952316284,
          3.3844704627990723,
          3.4000000953674316,
          3.4622011184692383,
          3.5,
          3.554795026779175,
          3.5999999046325684,
          3.671685218811035,
          3.700000047683716,
          3.73748779296875,
          3.799999952316284,
          3.865652561187744,
          3.9000000953674316,
          3.9192099571228027,
          4,
          4.084066390991211,
          4.099999904632568,
          4.158729076385498,
          4.199999809265137,
          4.272372722625732,
          4.300000190734863,
          4.386022090911865,
          4.400000095367432,
          4.470683574676514,
          4.5,
          4.506294250488281,
          4.569234848022461,
          4.599999904632568,
          4.672482490539551,
          4.699999809265137,
          4.770840644836426,
          4.800000190734863,
          4.82198429107666,
          4.900000095367432,
          4.979574203491211,
          5,
          5.06877326965332,
          5.099999904632568,
          5.151116847991943,
          5.199999809265137,
          5.2722697257995605,
          5.300000190734863,
          5.369469165802002,
          5.400000095367432,
          5.483098030090332,
          5.5,
          5.562383651733398,
          5.599999904632568,
          5.658735752105713,
          5.699999809265137,
          5.755016326904297,
          5.800000190734863,
          5.874978542327881,
          5.900000095367432,
          5.974559307098389,
          6,
          6.044132709503174,
          6.099999904632568,
          6.172296524047852,
          6.199999809265137,
          6.224587440490723,
          6.300000190734863,
          6.375296115875244,
          6.400000095367432,
          6.4479660987854,
          6.5,
          6.57800817489624,
          6.599999904632568,
          6.667474746704102,
          6.699999809265137,
          6.767991542816162,
          6.800000190734863,
          6.805825233459473,
          6.864078521728516,
          6.900000095367432,
          6.9747772216796875,
          7,
          7.082576274871826,
          7.099999904632568,
          7.169906139373779,
          7.199999809265137,
          7.226663589477539,
          7.300000190734863,
          7.376476764678955,
          7.400000095367432,
          7.4787821769714355,
          7.5,
          7.572626113891602,
          7.599999904632568,
          7.642710208892822,
          7.699999809265137,
          7.723527431488037,
          7.800000190734863,
          7.870777606964111,
          7.900000095367432,
          7.966368675231934,
          8,
          8.06230354309082,
          8.100000381469727,
          8.159117698669434,
          8.199999809265137,
          8.272741317749023,
          8.300000190734863,
          8.319705963134766,
          8.399999618530273,
          8.46470832824707,
          8.5,
          8.583776473999023,
          8.600000381469727,
          8.665087699890137,
          8.699999809265137,
          8.764236450195312,
          8.800000190734863,
          8.85925006866455,
          8.899999618530273,
          8.957413673400879,
          9,
          9.05683422088623,
          9.100000381469727,
          9.182940483093262,
          9.199999809265137,
          9.28520679473877,
          9.300000190734863,
          9.371472358703613,
          9.399999618530273,
          9.44939136505127,
          9.5,
          9.57247543334961,
          9.600000381469727,
          9.67489242553711,
          9.699999809265137,
          9.71250057220459,
          9.800000190734863,
          9.875565528869629,
          9.899999618530273,
          9.980303764343262,
          10,
          10.056940078735352,
          10.100000381469727,
          10.184998512268066,
          10.199999809265137,
          10.275686264038086,
          10.300000190734863,
          10.378697395324707,
          10.399999618530273,
          10.47127914428711,
          10.5,
          10.557168960571289,
          10.600000381469727,
          10.671589851379395,
          10.699999809265137,
          10.721965789794922,
          10.800000190734863,
          10.86599349975586,
          10.899999618530273,
          10.960999488830566,
          11,
          11.019627571105957,
          11.100000381469727,
          11.157023429870605,
          11.199999809265137,
          11.257328987121582,
          11.300000190734863,
          11.369391441345215,
          11.399999618530273,
          11.459295272827148,
          11.5,
          11.562678337097168,
          11.600000381469727,
          11.624014854431152,
          11.699999809265137,
          11.77403450012207,
          11.800000190734863,
          11.872920036315918,
          11.899999618530273,
          11.977394104003906,
          12,
          12.069571495056152,
          12.100000381469727,
          12.168211936950684,
          12.199999809265137,
          12.203694343566895,
          12.240639686584473,
          12.300000190734863,
          12.3859281539917,
          12.399999618530273,
          12.472079277038574,
          12.5,
          12.562301635742188,
          12.600000381469727,
          12.680155754089355,
          12.699999809265137,
          12.770523071289062,
          12.800000190734863,
          12.85719108581543,
          12.899999618530273,
          12.930166244506836,
          13,
          13.069273948669434,
          13.100000381469727,
          13.145578384399414,
          13.199999809265137,
          13.285567283630371,
          13.300000190734863,
          13.367044448852539,
          13.399999618530273,
          13.476973533630371,
          13.5,
          13.58492374420166,
          13.600000381469727,
          13.664250373840332,
          13.699999809265137,
          13.75830078125,
          13.800000190734863,
          13.86974811553955,
          13.899999618530273,
          13.92089557647705,
          14,
          14.078421592712402,
          14.100000381469727,
          14.174149513244629,
          14.199999809265137,
          14.26722240447998,
          14.300000190734863,
          14.359270095825195,
          14.399999618530273,
          14.458550453186035,
          14.5,
          14.578571319580078,
          14.600000381469727,
          14.676424980163574,
          14.699999809265137,
          14.782073020935059,
          14.800000190734863,
          14.872467041015625,
          14.899999618530273,
          14.961273193359375,
          15,
          15.076224327087402,
          15.100000381469727,
          15.143570899963379,
          15.199999809265137,
          15.271242141723633,
          15.300000190734863,
          15.369978904724121,
          15.399999618530273,
          15.466217041015625,
          15.5,
          15.510066986083984,
          15.600000381469727,
          15.685988426208496,
          15.699999809265137,
          15.772128105163574,
          15.800000190734863,
          15.88003921508789,
          15.899999618530273,
          15.976847648620605,
          16,
          16.034648895263672,
          16.100000381469727,
          16.171892166137695,
          16.200000762939453,
          16.264545440673828,
          16.299999237060547,
          16.361312866210938,
          16.399999618530273,
          16.474355697631836,
          16.5,
          16.556867599487305,
          16.600000381469727,
          16.66749382019043,
          16.700000762939453,
          16.7025089263916,
          16.72759246826172,
          16.799999237060547,
          16.87470245361328,
          16.899999618530273,
          16.97186279296875,
          17,
          17.033214569091797,
          17.100000381469727,
          17.170286178588867,
          17.200000762939453,
          17.222158432006836,
          17.299999237060547,
          17.377880096435547,
          17.399999618530273,
          17.47115135192871,
          17.5,
          17.557395935058594,
          17.600000381469727,
          17.666156768798828,
          17.700000762939453,
          17.772329330444336,
          17.799999237060547,
          17.85724449157715,
          17.899999618530273,
          17.97611427307129,
          18,
          18.07202911376953,
          18.100000381469727,
          18.127662658691406,
          18.200000762939453,
          18.27050018310547,
          18.299999237060547,
          18.362764358520508,
          18.399999618530273,
          18.478778839111328,
          18.5,
          18.570301055908203,
          18.600000381469727,
          18.635623931884766,
          18.700000762939453,
          18.780860900878906,
          18.799999237060547,
          18.886024475097656,
          18.899999618530273,
          18.971729278564453,
          19,
          19.058340072631836,
          19.100000381469727,
          19.16367530822754,
          19.200000762939453,
          19.26548194885254,
          19.299999237060547,
          19.320589065551758,
          19.399999618530273,
          19.475305557250977,
          19.5,
          19.572202682495117,
          19.600000381469727,
          19.628259658813477,
          19.700000762939453,
          19.75962257385254,
          19.799999237060547,
          19.862266540527344,
          19.899999618530273
         ],
         "y": [
          -0.10000000149011612,
          -0.13057243824005127,
          -0.1370590329170227,
          -0.17014001309871674,
          -0.17790573835372925,
          -0.15896564722061157,
          -0.15389712154865265,
          -0.1643080711364746,
          -0.16779130697250366,
          -0.159477099776268,
          -0.15793541073799133,
          -0.12222059071063995,
          -0.11092507839202881,
          -0.10732768476009369,
          -0.10687781125307083,
          -0.05820527300238609,
          -0.03947769105434418,
          -0.05393914878368378,
          -0.05773370340466499,
          -0.0005100656417198479,
          0.03450557589530945,
          0.00048265434452332556,
          -0.02011246792972088,
          -0.01288375724107027,
          -0.010430822148919106,
          -0.01675713248550892,
          -0.01935211941599846,
          -0.0352385975420475,
          -0.043747954070568085,
          -0.07432401925325394,
          -0.08918475359678268,
          -0.04174717143177986,
          -0.022841699421405792,
          -0.024017104879021645,
          -0.02435256727039814,
          -0.01960684172809124,
          -0.018304934725165367,
          -0.024836750701069832,
          -0.026435213163495064,
          -0.02482936717569828,
          -0.024533051997423172,
          -0.04325162246823311,
          -0.052828285843133926,
          -0.030731432139873505,
          -0.022871334105730057,
          -0.025848396122455597,
          -0.02643578313291073,
          0.011054647155106068,
          0.04130694270133972,
          0.024999601766467094,
          0.019377121701836586,
          0.0037662682589143515,
          -0.004332295618951321,
          -0.005578291602432728,
          -0.005738568026572466,
          0.003063857788220048,
          0.03793705254793167,
          0.012205768376588821,
          0.00026093461201526225,
          0.0015418882248923182,
          0.006327040493488312,
          -0.003289633197709918,
          -0.033244986087083817,
          -0.010690928436815739,
          -0.0002479218237567693,
          0.0010200304677709937,
          0.01018559280782938,
          0.011072969995439053,
          0.01126579474657774,
          -8.634124242234975e-05,
          -0.00680397218093276,
          -0.01707594282925129,
          -0.025490162894129753,
          -0.012359759770333767,
          -0.0073862201534211636,
          0.0036714186426252127,
          0.02173159457743168,
          0.004846890456974506,
          -0.003716870443895459,
          -0.00969585869461298,
          -0.034480251371860504,
          -0.04484906420111656,
          -0.046898532658815384,
          0.009022924117743969,
          0.04737863317131996,
          0.02571474015712738,
          0.017814412713050842,
          0.020643558353185654,
          0.021147243678569794,
          0.008988738059997559,
          0.00413706386461854,
          0.010721015743911266,
          0.07569904625415802,
          0.10709968209266663,
          0.061938703060150146,
          0.04561859369277954,
          0.021043844521045685,
          0.011334074661135674,
          -0.00531473383307457,
          -0.06325213611125946,
          -0.06071411073207855,
          -0.060334887355566025,
          -0.02267630770802498,
          -0.006186071317642927,
          -0.01559458114206791,
          -0.0245220884680748,
          -0.037820953875780106,
          -0.04299285262823105,
          -0.01706702448427677,
          -0.006087328307330608,
          -0.006034182850271463,
          -0.006043935194611549,
          -0.012583412230014801,
          -0.016516637057065964,
          0.003928946331143379,
          0.017953692004084587,
          -0.007734812796115875,
          -0.028275080025196075,
          -0.019487163051962852,
          -0.01673264428973198,
          -0.010709931142628193,
          -0.00876575242727995,
          0.004192794673144817,
          0.020250508561730385,
          0.010245303623378277,
          0.006573113612830639,
          0.01654861867427826,
          0.04673810675740242,
          0.033696845173835754,
          0.029704032465815544,
          -0.01242587435990572,
          -0.05714152380824089,
          -0.049477946013212204,
          -0.04759407415986061,
          -0.015322171151638031,
          -0.0002835823979694396,
          -0.0011238377774134278,
          -0.0015157536836341023,
          0.0014159493148326874,
          0.03034256398677826,
          0.04794181138277054,
          0.033003274351358414,
          0.0282700564712286,
          0.03741491958498955,
          0.03941857069730759,
          0.01620595157146454,
          0.0065844119526445866,
          -0.0033852083142846823,
          -0.03026460111141205,
          -0.023653797805309296,
          -0.021788956597447395,
          -0.019217705354094505,
          -0.01862603798508644,
          -0.009865688160061836,
          -0.006708673667162657,
          0.0033871594350785017,
          0.01664632186293602,
          0.040783993899822235,
          0.1181996688246727,
          0.05432356894016266,
          0.028998391702771187,
          0.007687805686146021,
          -0.002767430618405342,
          -0.006280313245952129,
          -0.008398213423788548,
          -0.019206266850233078,
          -0.026646967977285385,
          -0.01517160702496767,
          -0.011074884794652462,
          0.005220396444201469,
          0.07033856958150864,
          0.014157071709632874,
          -0.015563210472464561,
          -0.020467327907681465,
          -0.021457336843013763,
          -0.004181377589702606,
          0.004807616118341684,
          0.009609009139239788,
          0.012281340546905994,
          -0.0026839841157197952,
          -0.012732013128697872,
          0.004840543027967215,
          0.017582152038812637,
          -0.007189521100372076,
          -0.02558552473783493,
          -0.027598511427640915,
          -0.02809654362499714,
          -0.03254451975226402,
          -0.03339163586497307,
          -0.016242533922195435,
          -0.009679919108748436,
          0.004529439378529787,
          0.018776847049593925,
          0.009928985498845577,
          0.006717062089592218,
          0.0040089101530611515,
          0.0031468025408685207,
          0.008336086757481098,
          0.044094111770391464,
          0.03307964652776718,
          0.029783543199300766,
          0.029106702655553818,
          0.02906339056789875,
          -0.01070875022560358,
          -0.04010995477437973,
          -0.046729616820812225,
          -0.04800708219408989,
          -0.03649840131402016,
          -0.03308556228876114,
          -0.029721716418862343,
          -0.02896467223763466,
          -0.013438242487609386,
          -0.00743165472522378,
          -0.018510106950998306,
          -0.02675572969019413,
          -0.012796808034181595,
          -0.007482157088816166,
          0.00375979277305305,
          0.04291853308677673,
          0.010985756292939186,
          -0.004953397903591394,
          0.0010137537028640509,
          0.004736969713121653,
          -0.0026625527534633875,
          -0.03238058462738991,
          0.011521400883793831,
          0.04385947436094284,
          0.10217641294002533,
          0.14534810185432434,
          0.058760788291692734,
          0.021982388570904732,
          -0.003827087115496397,
          -0.021116843447089195,
          -0.0012832364300265908,
          0.010204246267676353,
          -0.00484941340982914,
          -0.05155157297849655,
          -0.03480764478445053,
          -0.029285216704010963,
          -0.017181389033794403,
          -0.012906471267342567,
          -0.010379237122833729,
          -0.009709782898426056,
          -0.016180511564016342,
          -0.019033236429095268,
          -0.006306147202849388,
          -0.000576671096496284,
          0.0010998612269759178,
          0.01771460846066475,
          0.04401886835694313,
          0.05616975948214531,
          0.05826248228549957,
          0.03211306780576706,
          0.022449754178524017,
          0.04436246678233147,
          0.05761974677443504,
          0.05745967477560043,
          0.057661186903715134,
          0.026468049734830856,
          0.013955316506326199,
          -0.005481918808072805,
          -0.01970682479441166,
          0.008636933751404285,
          0.072944276034832,
          0.02890990488231182,
          0.010105791501700878,
          -0.004712841939181089,
          -0.022036248818039894,
          -0.02836409956216812,
          -0.029487600550055504,
          -0.05082648620009422,
          -0.06138890981674194,
          -0.05265215411782265,
          -0.05036886781454086,
          -0.05941015109419823,
          -0.06115468591451645,
          -0.01077277585864067,
          0.016433006152510643,
          -0.004532983060926199,
          -0.01918051950633526,
          -0.007482012268155813,
          -0.0025937643367797136,
          -0.007004956714808941,
          -0.02347271516919136,
          -0.02082069218158722,
          -0.02020389772951603,
          -0.013103567063808441,
          -0.010766665451228619,
          -0.018904654309153557,
          -0.022891631349921227,
          0.003986760973930359,
          0.02201106771826744,
          -0.005188266281038523,
          -0.02398940734565258,
          -0.021279960870742798,
          -0.020654480904340744,
          -0.029740696772933006,
          -0.03260567784309387,
          -0.04335512965917587,
          -0.04579049348831177,
          -0.025345735251903534,
          -0.017931153997778893,
          0.0006877616979181767,
          0.012152717448771,
          0.008738352917134762,
          0.007744478061795235,
          0.01933974027633667,
          0.03421580791473389,
          0.01581120677292347,
          0.008677136152982712,
          0.0031357344705611467,
          0.0008423746912740171,
          0.0021867582108825445,
          0.0028690118342638016,
          -0.0019337633857503533,
          -0.04404594376683235,
          -0.051820605993270874,
          -0.05319405347108841,
          -0.028119349852204323,
          -0.018851133063435555,
          -0.02582094818353653,
          -0.027609970420598984,
          -0.021531587466597557,
          -0.019848568364977837,
          -0.048447731882333755,
          -0.10177305340766907,
          -0.051342204213142395,
          -0.032438360154628754,
          -0.005811620969325304,
          0.008387766778469086,
          0.017721109092235565,
          0.02358526922762394,
          0.014572271145880222,
          0.011620594188570976,
          0.028551584109663963,
          0.041297946125268936,
          0.013227611780166626,
          0.0001537710049888119,
          0.0013164427364245057,
          0.012869695201516151,
          0.04568914324045181,
          0.030537592247128487,
          0.0256985854357481,
          0.012311477214097977,
          0.0072815692983567715,
          0.018238510936498642,
          0.0400102362036705,
          0.01696969009935856,
          0.00759434187784791,
          -0.0038044126704335213,
          -0.04306448623538017,
          -0.03634720668196678,
          -0.03464976325631142,
          -0.015599323436617851,
          -0.008173706009984016,
          0.0035839008633047342,
          0.012116935104131699,
          0.021772027015686035,
          0.02672143094241619,
          0.01370700541883707,
          0.008939086459577084,
          0.02192799001932144,
          0.03156346455216408,
          0.023625195026397705,
          0.021314891055226326,
          0.010473070666193962,
          0.0064369672909379005,
          0.016217024996876717,
          0.04146680608391762,
          0.017910834401845932,
          0.008429868146777153,
          0.016978776082396507,
          0.022043006494641304,
          0.030648717656731606,
          0.033031415194272995,
          0.013935297727584839,
          0.006173104979097843,
          -0.0031962431967258453,
          -0.019783644005656242,
          -0.026812730357050896,
          -0.02853185310959816,
          -0.03357342630624771,
          -0.03446225821971893,
          -0.01714055985212326,
          -0.010597865097224712,
          -0.02465502731502056,
          -0.03463732823729515,
          -0.004659106954932213,
          0.011956126429140568,
          0.002225143602117896,
          -0.002752210944890976,
          -0.007383812218904495,
          -0.024990564212203026,
          -0.017500562593340874,
          -0.01519802212715149,
          -0.007304724771529436,
          -0.004389397334307432,
          -0.011299668811261654,
          -0.02861734665930271,
          0.003914463799446821,
          0.025404084473848343,
          0.0010754415998235345,
          -0.013272427022457123
         ]
        },
        {
         "name": "adversarial",
         "type": "scatter",
         "x": [
          0,
          0.06201885640621185,
          0.10000000149011612,
          0.16295067965984344,
          0.20000000298023224,
          0.2651435136795044,
          0.30000001192092896,
          0.37552109360694885,
          0.4000000059604645,
          0.4795045256614685,
          0.5,
          0.5761801600456238,
          0.6000000238418579,
          0.67319655418396,
          0.699999988079071,
          0.7722705602645874,
          0.800000011920929,
          0.8701767921447754,
          0.8999999761581421,
          0.9694509506225586,
          1,
          1.0699384212493896,
          1.100000023841858,
          1.1688106060028076,
          1.2000000476837158,
          1.2692842483520508,
          1.2999999523162842,
          1.3668164014816284,
          1.399999976158142,
          1.4663766622543335,
          1.5,
          1.5666378736495972,
          1.600000023841858,
          1.6664637327194214,
          1.7000000476837158,
          1.7686421871185303,
          1.7999999523162842,
          1.8671879768371582,
          1.899999976158142,
          1.967604637145996,
          2,
          2.0678906440734863,
          2.0999999046325684,
          2.167046308517456,
          2.200000047683716,
          2.2678020000457764,
          2.299999952316284,
          2.365792989730835,
          2.4000000953674316,
          2.467099905014038,
          2.5,
          2.56907320022583,
          2.5999999046325684,
          2.66658616065979,
          2.700000047683716,
          2.766127109527588,
          2.799999952316284,
          2.8653883934020996,
          2.9000000953674316,
          2.9729220867156982,
          3,
          3.0661416053771973,
          3.0999999046325684,
          3.17219877243042,
          3.200000047683716,
          3.2655489444732666,
          3.299999952316284,
          3.3654072284698486,
          3.4000000953674316,
          3.4644691944122314,
          3.5,
          3.5594699382781982,
          3.5999999046325684,
          3.6678972244262695,
          3.700000047683716,
          3.7577099800109863,
          3.799999952316284,
          3.8670217990875244,
          3.9000000953674316,
          3.9653773307800293,
          4,
          4.068336009979248,
          4.099999904632568,
          4.169872760772705,
          4.199999809265137,
          4.263643741607666,
          4.300000190734863,
          4.311933517456055,
          4.400000095367432,
          4.464666843414307,
          4.5,
          4.564746856689453,
          4.599999904632568,
          4.671459197998047,
          4.699999809265137,
          4.764030933380127,
          4.800000190734863,
          4.841531753540039,
          4.900000095367432,
          4.960749626159668,
          5,
          5.063933849334717,
          5.099999904632568,
          5.110419750213623,
          5.199999809265137,
          5.258487224578857,
          5.300000190734863,
          5.364974021911621,
          5.400000095367432,
          5.461488723754883,
          5.5,
          5.532402038574219,
          5.599999904632568,
          5.6658759117126465,
          5.699999809265137,
          5.766585350036621,
          5.800000190734863,
          5.865426540374756,
          5.900000095367432,
          5.963480472564697,
          6,
          6.0245561599731445,
          6.099999904632568,
          6.167702674865723,
          6.199999809265137,
          6.266411781311035,
          6.300000190734863,
          6.37002420425415,
          6.400000095367432,
          6.472795486450195,
          6.5,
          6.564716339111328,
          6.599999904632568,
          6.671746253967285,
          6.699999809265137,
          6.763409614562988,
          6.800000190734863,
          6.807668685913086,
          6.8843536376953125,
          6.900000095367432,
          6.962700843811035,
          7,
          7.012902736663818,
          7.099999904632568,
          7.142503261566162,
          7.199999809265137,
          7.2631425857543945,
          7.300000190734863,
          7.363093852996826,
          7.400000095367432,
          7.465997219085693,
          7.5,
          7.5662689208984375,
          7.599999904632568,
          7.653352737426758,
          7.699999809265137,
          7.762296199798584,
          7.800000190734863,
          7.813230037689209,
          7.900000095367432,
          7.967848300933838,
          8,
          8.068998336791992,
          8.100000381469727,
          8.164722442626953,
          8.199999809265137,
          8.269637107849121,
          8.300000190734863,
          8.365370750427246,
          8.399999618530273,
          8.446677207946777,
          8.5,
          8.562264442443848,
          8.600000381469727,
          8.622038841247559,
          8.699999809265137,
          8.768952369689941,
          8.800000190734863,
          8.859123229980469,
          8.899999618530273,
          8.972672462463379,
          9,
          9.06333065032959,
          9.100000381469727,
          9.161154747009277,
          9.199999809265137,
          9.217203140258789,
          9.300000190734863,
          9.36803913116455,
          9.399999618530273,
          9.457621574401855,
          9.5,
          9.566890716552734,
          9.600000381469727,
          9.667407035827637,
          9.699999809265137,
          9.766593933105469,
          9.800000190734863,
          9.867169380187988,
          9.899999618530273,
          9.964950561523438,
          10,
          10.072144508361816,
          10.100000381469727,
          10.171260833740234,
          10.199999809265137,
          10.265137672424316,
          10.300000190734863,
          10.357185363769531,
          10.399999618530273,
          10.464545249938965,
          10.5,
          10.562446594238281,
          10.600000381469727,
          10.605759620666504,
          10.66335391998291,
          10.699999809265137,
          10.76800537109375,
          10.800000190734863,
          10.862890243530273,
          10.899999618530273,
          10.965279579162598,
          11,
          11.001443862915039,
          11.01588249206543,
          11.100000381469727,
          11.168928146362305,
          11.199999809265137,
          11.266880989074707,
          11.300000190734863,
          11.363210678100586,
          11.399999618530273,
          11.468513488769531,
          11.5,
          11.567090034484863,
          11.600000381469727,
          11.667669296264648,
          11.699999809265137,
          11.773171424865723,
          11.800000190734863,
          11.865850448608398,
          11.899999618530273,
          11.957515716552734,
          12,
          12.059511184692383,
          12.100000381469727,
          12.1694917678833,
          12.199999809265137,
          12.25930118560791,
          12.300000190734863,
          12.362467765808105,
          12.399999618530273,
          12.408293724060059,
          12.491233825683594,
          12.5,
          12.563857078552246,
          12.600000381469727,
          12.657286643981934,
          12.699999809265137,
          12.761487007141113,
          12.800000190734863,
          12.868453025817871,
          12.899999618530273,
          12.968823432922363,
          13,
          13.066006660461426,
          13.100000381469727,
          13.125144004821777,
          13.199999809265137,
          13.262735366821289,
          13.300000190734863,
          13.304512977600098,
          13.34964656829834,
          13.399999618530273,
          13.454153060913086,
          13.5,
          13.56445026397705,
          13.600000381469727,
          13.656844139099121,
          13.699999809265137,
          13.760885238647461,
          13.800000190734863,
          13.87342357635498,
          13.899999618530273,
          13.947535514831543,
          14,
          14.06948471069336,
          14.100000381469727,
          14.163339614868164,
          14.199999809265137,
          14.22107982635498,
          14.300000190734863,
          14.373096466064453,
          14.399999618530273,
          14.463090896606445,
          14.5,
          14.531155586242676,
          14.600000381469727,
          14.66707706451416,
          14.699999809265137,
          14.76762580871582,
          14.800000190734863,
          14.869494438171387,
          14.899999618530273,
          14.962676048278809,
          15,
          15.00320816040039,
          15.03528881072998,
          15.100000381469727,
          15.163362503051758,
          15.199999809265137,
          15.225363731384277,
          15.300000190734863,
          15.367012977600098,
          15.399999618530273,
          15.427433967590332,
          15.5,
          15.570591926574707,
          15.600000381469727,
          15.664867401123047,
          15.699999809265137,
          15.762341499328613,
          15.800000190734863,
          15.824024200439453,
          15.899999618530273,
          15.937361717224121,
          16,
          16.073646545410156,
          16.100000381469727,
          16.163423538208008,
          16.200000762939453,
          16.261259078979492,
          16.299999237060547,
          16.370738983154297,
          16.399999618530273,
          16.464439392089844,
          16.5,
          16.573387145996094,
          16.600000381469727,
          16.661239624023438,
          16.700000762939453,
          16.755661010742188,
          16.799999237060547,
          16.8717041015625,
          16.899999618530273,
          16.969829559326172,
          17,
          17.05986213684082,
          17.100000381469727,
          17.1621150970459,
          17.200000762939453,
          17.21989631652832,
          17.299999237060547,
          17.366823196411133,
          17.399999618530273,
          17.46307945251465,
          17.5,
          17.514204025268555,
          17.600000381469727,
          17.65956687927246,
          17.700000762939453,
          17.769365310668945,
          17.799999237060547,
          17.86854362487793,
          17.899999618530273,
          17.961809158325195,
          18,
          18.0283203125,
          18.100000381469727,
          18.151334762573242,
          18.200000762939453,
          18.264101028442383,
          18.299999237060547,
          18.360416412353516,
          18.399999618530273,
          18.46085548400879,
          18.5,
          18.52875328063965,
          18.600000381469727,
          18.6679630279541,
          18.700000762939453,
          18.764739990234375,
          18.799999237060547,
          18.846769332885742,
          18.899999618530273,
          18.96803855895996,
          19,
          19.067293167114258,
          19.100000381469727,
          19.163619995117188,
          19.200000762939453,
          19.259763717651367,
          19.299999237060547,
          19.368017196655273,
          19.399999618530273,
          19.456737518310547,
          19.5,
          19.56565284729004,
          19.600000381469727,
          19.673391342163086,
          19.700000762939453,
          19.768566131591797,
          19.799999237060547,
          19.86610984802246,
          19.899999618530273
         ],
         "y": [
          2.1415927410125732,
          2.138338088989258,
          2.1391947269439697,
          2.14383864402771,
          2.1479408740997314,
          2.159264087677002,
          2.167975902557373,
          2.1934986114501953,
          2.2038021087646484,
          2.2429702281951904,
          2.25445818901062,
          2.300889015197754,
          2.3166136741638184,
          2.3663270473480225,
          2.384936571121216,
          2.4360718727111816,
          2.4561991691589355,
          2.5055007934570312,
          2.5254335403442383,
          2.569316864013672,
          2.5876169204711914,
          2.629183053970337,
          2.6474103927612305,
          2.6883316040039062,
          2.706355571746826,
          2.7467310428619385,
          2.765218734741211,
          2.8022570610046387,
          2.8181850910186768,
          2.845442295074463,
          2.8570828437805176,
          2.8770344257354736,
          2.885826349258423,
          2.90116024017334,
          2.907900333404541,
          2.9213967323303223,
          2.9278550148010254,
          2.9413132667541504,
          2.947531223297119,
          2.9598939418792725,
          2.9657163619995117,
          2.9778430461883545,
          2.98362135887146,
          2.9952125549316406,
          3.0005927085876465,
          3.0114338397979736,
          3.0166115760803223,
          3.02608323097229,
          3.030165195465088,
          3.037348508834839,
          3.0407004356384277,
          3.048036575317383,
          3.051614999771118,
          3.0590171813964844,
          3.0623958110809326,
          3.0682990550994873,
          3.0709118843078613,
          3.0750648975372314,
          3.0767757892608643,
          3.0809125900268555,
          3.0829050540924072,
          3.0876071453094482,
          3.089686155319214,
          3.095057249069214,
          3.097761392593384,
          3.1037352085113525,
          3.1062631607055664,
          3.110100030899048,
          3.111685276031494,
          3.113844156265259,
          3.1146042346954346,
          3.115028142929077,
          3.1146373748779297,
          3.1135623455047607,
          3.1130707263946533,
          3.111593723297119,
          3.1097445487976074,
          3.106462240219116,
          3.104944944381714,
          3.102405071258545,
          3.101374626159668,
          3.0995309352874756,
          3.0986571311950684,
          3.0965540409088135,
          3.0955402851104736,
          3.093886613845825,
          3.093426465988159,
          3.093402624130249,
          3.0976099967956543,
          3.102489471435547,
          3.104332685470581,
          3.106691360473633,
          3.107567310333252,
          3.1095027923583984,
          3.1105282306671143,
          3.1124372482299805,
          3.113042116165161,
          3.1131808757781982,
          3.1121268272399902,
          3.1111416816711426,
          3.1114017963409424,
          3.1121270656585693,
          3.112314224243164,
          3.1123197078704834,
          3.1102094650268555,
          3.109175443649292,
          3.110349416732788,
          3.1129066944122314,
          3.113893747329712,
          3.114771842956543,
          3.1146981716156006,
          3.1142430305480957,
          3.1120355129241943,
          3.109387159347534,
          3.1082561016082764,
          3.106363296508789,
          3.1055235862731934,
          3.104184865951538,
          3.1036603450775146,
          3.1030657291412354,
          3.1029508113861084,
          3.1029012203216553,
          3.1024181842803955,
          3.1015126705169678,
          3.1009016036987305,
          3.0996649265289307,
          3.0991361141204834,
          3.098024606704712,
          3.0974996089935303,
          3.0959343910217285,
          3.0952138900756836,
          3.093755006790161,
          3.093235969543457,
          3.0922536849975586,
          3.0917983055114746,
          3.0910463333129883,
          3.0908899307250977,
          3.0908894538879395,
          3.092146396636963,
          3.092684030532837,
          3.0942885875701904,
          3.0945637226104736,
          3.0945611000061035,
          3.093899726867676,
          3.093736171722412,
          3.094872236251831,
          3.096364736557007,
          3.0966968536376953,
          3.0970711708068848,
          3.0974173545837402,
          3.0984127521514893,
          3.0991573333740234,
          3.1005961894989014,
          3.1012110710144043,
          3.102795124053955,
          3.1052820682525635,
          3.1079585552215576,
          3.1083180904388428,
          3.1082515716552734,
          3.106308698654175,
          3.1037962436676025,
          3.1026079654693604,
          3.09993577003479,
          3.098644971847534,
          3.0963833332061768,
          3.0955493450164795,
          3.0940845012664795,
          3.093385696411133,
          3.09208083152771,
          3.0915746688842773,
          3.0914103984832764,
          3.0922770500183105,
          3.09334659576416,
          3.0934348106384277,
          3.093308925628662,
          3.091952323913574,
          3.0900580883026123,
          3.089151382446289,
          3.08842396736145,
          3.089111804962158,
          3.0917491912841797,
          3.0930418968200684,
          3.0953829288482666,
          3.09598970413208,
          3.09626841545105,
          3.0961501598358154,
          3.0961263179779053,
          3.0981810092926025,
          3.1013429164886475,
          3.1028530597686768,
          3.107407569885254,
          3.1130833625793457,
          3.123128890991211,
          3.1278183460235596,
          3.1370317935943604,
          3.141418695449829,
          3.1498165130615234,
          3.1536755561828613,
          3.1609842777252197,
          3.1644275188446045,
          3.170130968093872,
          3.17238712310791,
          3.1772279739379883,
          3.17952299118042,
          3.186652660369873,
          3.190096378326416,
          3.1971070766448975,
          3.1999528408050537,
          3.2013750076293945,
          3.1988840103149414,
          3.193959951400757,
          3.192138195037842,
          3.190340042114258,
          3.1900863647460938,
          3.190101385116577,
          3.1910831928253174,
          3.192492723464966,
          3.1956732273101807,
          3.197190284729004,
          3.199303150177002,
          3.1997389793395996,
          3.1999082565307617,
          3.19993257522583,
          3.1999335289001465,
          3.200026035308838,
          3.2035787105560303,
          3.208836793899536,
          3.211398124694824,
          3.216763973236084,
          3.219244956970215,
          3.222635507583618,
          3.2234957218170166,
          3.2246651649475098,
          3.225412368774414,
          3.227043390274048,
          3.2277796268463135,
          3.22920560836792,
          3.229860544204712,
          3.231722593307495,
          3.232609272003174,
          3.2346434593200684,
          3.2354955673217773,
          3.2359418869018555,
          3.2351582050323486,
          3.2344095706939697,
          3.235025644302368,
          3.236959218978882,
          3.237886667251587,
          3.23866605758667,
          3.2379791736602783,
          3.2367897033691406,
          3.236650228500366,
          3.2366514205932617,
          3.235107898712158,
          3.2347795963287354,
          3.2328743934631348,
          3.232304811477661,
          3.231234550476074,
          3.229849338531494,
          3.228445053100586,
          3.228512763977051,
          3.2292492389678955,
          3.229581117630005,
          3.230297088623047,
          3.230621814727783,
          3.231200695037842,
          3.231416940689087,
          3.231449604034424,
          3.2302801609039307,
          3.229081630706787,
          3.228893756866455,
          3.228896379470825,
          3.2291817665100098,
          3.2300548553466797,
          3.230414867401123,
          3.229344606399536,
          3.2274463176727295,
          3.226792335510254,
          3.226553201675415,
          3.2271525859832764,
          3.2278475761413574,
          3.227653980255127,
          3.226667881011963,
          3.226226806640625,
          3.2259936332702637,
          3.2271032333374023,
          3.229666233062744,
          3.2309038639068604,
          3.23283314704895,
          3.2333173751831055,
          3.233353853225708,
          3.23150634765625,
          3.2276721000671387,
          3.2259020805358887,
          3.2227413654327393,
          3.221986770629883,
          3.2219066619873047,
          3.223317861557007,
          3.225620746612549,
          3.2266740798950195,
          3.228736639022827,
          3.2296969890594482,
          3.231873035430908,
          3.232919931411743,
          3.2344253063201904,
          3.234668254852295,
          3.2346668243408203,
          3.2344486713409424,
          3.2328827381134033,
          3.231233835220337,
          3.230825901031494,
          3.2307910919189453,
          3.231994390487671,
          3.233823776245117,
          3.234649896621704,
          3.23483943939209,
          3.230757236480713,
          3.2226879596710205,
          3.218761920928955,
          3.2111685276031494,
          3.2081961631774902,
          3.2051079273223877,
          3.204665422439575,
          3.2046711444854736,
          3.204106092453003,
          3.2039713859558105,
          3.205341339111328,
          3.2088253498077393,
          3.2104296684265137,
          3.213470458984375,
          3.2143030166625977,
          3.2156128883361816,
          3.2169229984283447,
          3.219991683959961,
          3.221471071243286,
          3.2242045402526855,
          3.2251696586608887,
          3.2271296977996826,
          3.228020668029785,
          3.2292637825012207,
          3.229121685028076,
          3.228925943374634,
          3.229496717453003,
          3.231147050857544,
          3.2319231033325195,
          3.2340807914733887,
          3.235119104385376,
          3.236104726791382,
          3.235508918762207,
          3.2344419956207275,
          3.2343857288360596,
          3.234403610229492,
          3.233116865158081,
          3.231281280517578,
          3.2304604053497314,
          3.2294092178344727,
          3.2292070388793945,
          3.2292065620422363,
          3.230060338973999,
          3.2305212020874023,
          3.2301173210144043,
          3.2288875579833984,
          3.228306770324707,
          3.226970672607422,
          3.226344108581543,
          3.2256014347076416,
          3.22563099861145,
          3.2256672382354736,
          3.224691390991211,
          3.222548007965088,
          3.2188453674316406,
          3.214141368865967,
          3.212550401687622,
          3.2114949226379395,
          3.2118844985961914,
          3.2125370502471924,
          3.2123444080352783,
          3.2122609615325928,
          3.2140257358551025,
          3.217026948928833,
          3.2184536457061768,
          3.2208313941955566,
          3.2217094898223877,
          3.221987724304199,
          3.220621347427368,
          3.216749906539917,
          3.214228868484497,
          3.2086150646209717,
          3.205972909927368,
          3.202101230621338,
          3.20095157623291,
          3.2003965377807617,
          3.200819492340088,
          3.202040672302246,
          3.2026047706604004,
          3.2043261528015137,
          3.2066171169281006,
          3.210239887237549,
          3.2117679119110107,
          3.2154693603515625,
          3.217165231704712,
          3.221924304962158,
          3.224229097366333,
          3.2287046909332275,
          3.2306721210479736
         ]
        },
        {
         "name": "adversarial",
         "type": "scatter",
         "x": [
          0,
          0.06201885640621185,
          0.10000000149011612,
          0.16295067965984344,
          0.20000000298023224,
          0.2651435136795044,
          0.30000001192092896,
          0.37552109360694885,
          0.4000000059604645,
          0.4795045256614685,
          0.5,
          0.5761801600456238,
          0.6000000238418579,
          0.67319655418396,
          0.699999988079071,
          0.7722705602645874,
          0.800000011920929,
          0.8701767921447754,
          0.8999999761581421,
          0.9694509506225586,
          1,
          1.0699384212493896,
          1.100000023841858,
          1.1688106060028076,
          1.2000000476837158,
          1.2692842483520508,
          1.2999999523162842,
          1.3668164014816284,
          1.399999976158142,
          1.4663766622543335,
          1.5,
          1.5666378736495972,
          1.600000023841858,
          1.6664637327194214,
          1.7000000476837158,
          1.7686421871185303,
          1.7999999523162842,
          1.8671879768371582,
          1.899999976158142,
          1.967604637145996,
          2,
          2.0678906440734863,
          2.0999999046325684,
          2.167046308517456,
          2.200000047683716,
          2.2678020000457764,
          2.299999952316284,
          2.365792989730835,
          2.4000000953674316,
          2.467099905014038,
          2.5,
          2.56907320022583,
          2.5999999046325684,
          2.66658616065979,
          2.700000047683716,
          2.766127109527588,
          2.799999952316284,
          2.8653883934020996,
          2.9000000953674316,
          2.9729220867156982,
          3,
          3.0661416053771973,
          3.0999999046325684,
          3.17219877243042,
          3.200000047683716,
          3.2655489444732666,
          3.299999952316284,
          3.3654072284698486,
          3.4000000953674316,
          3.4644691944122314,
          3.5,
          3.5594699382781982,
          3.5999999046325684,
          3.6678972244262695,
          3.700000047683716,
          3.7577099800109863,
          3.799999952316284,
          3.8670217990875244,
          3.9000000953674316,
          3.9653773307800293,
          4,
          4.068336009979248,
          4.099999904632568,
          4.169872760772705,
          4.199999809265137,
          4.263643741607666,
          4.300000190734863,
          4.311933517456055,
          4.400000095367432,
          4.464666843414307,
          4.5,
          4.564746856689453,
          4.599999904632568,
          4.671459197998047,
          4.699999809265137,
          4.764030933380127,
          4.800000190734863,
          4.841531753540039,
          4.900000095367432,
          4.960749626159668,
          5,
          5.063933849334717,
          5.099999904632568,
          5.110419750213623,
          5.199999809265137,
          5.258487224578857,
          5.300000190734863,
          5.364974021911621,
          5.400000095367432,
          5.461488723754883,
          5.5,
          5.532402038574219,
          5.599999904632568,
          5.6658759117126465,
          5.699999809265137,
          5.766585350036621,
          5.800000190734863,
          5.865426540374756,
          5.900000095367432,
          5.963480472564697,
          6,
          6.0245561599731445,
          6.099999904632568,
          6.167702674865723,
          6.199999809265137,
          6.266411781311035,
          6.300000190734863,
          6.37002420425415,
          6.400000095367432,
          6.472795486450195,
          6.5,
          6.564716339111328,
          6.599999904632568,
          6.671746253967285,
          6.699999809265137,
          6.763409614562988,
          6.800000190734863,
          6.807668685913086,
          6.8843536376953125,
          6.900000095367432,
          6.962700843811035,
          7,
          7.012902736663818,
          7.099999904632568,
          7.142503261566162,
          7.199999809265137,
          7.2631425857543945,
          7.300000190734863,
          7.363093852996826,
          7.400000095367432,
          7.465997219085693,
          7.5,
          7.5662689208984375,
          7.599999904632568,
          7.653352737426758,
          7.699999809265137,
          7.762296199798584,
          7.800000190734863,
          7.813230037689209,
          7.900000095367432,
          7.967848300933838,
          8,
          8.068998336791992,
          8.100000381469727,
          8.164722442626953,
          8.199999809265137,
          8.269637107849121,
          8.300000190734863,
          8.365370750427246,
          8.399999618530273,
          8.446677207946777,
          8.5,
          8.562264442443848,
          8.600000381469727,
          8.622038841247559,
          8.699999809265137,
          8.768952369689941,
          8.800000190734863,
          8.859123229980469,
          8.899999618530273,
          8.972672462463379,
          9,
          9.06333065032959,
          9.100000381469727,
          9.161154747009277,
          9.199999809265137,
          9.217203140258789,
          9.300000190734863,
          9.36803913116455,
          9.399999618530273,
          9.457621574401855,
          9.5,
          9.566890716552734,
          9.600000381469727,
          9.667407035827637,
          9.699999809265137,
          9.766593933105469,
          9.800000190734863,
          9.867169380187988,
          9.899999618530273,
          9.964950561523438,
          10,
          10.072144508361816,
          10.100000381469727,
          10.171260833740234,
          10.199999809265137,
          10.265137672424316,
          10.300000190734863,
          10.357185363769531,
          10.399999618530273,
          10.464545249938965,
          10.5,
          10.562446594238281,
          10.600000381469727,
          10.605759620666504,
          10.66335391998291,
          10.699999809265137,
          10.76800537109375,
          10.800000190734863,
          10.862890243530273,
          10.899999618530273,
          10.965279579162598,
          11,
          11.001443862915039,
          11.01588249206543,
          11.100000381469727,
          11.168928146362305,
          11.199999809265137,
          11.266880989074707,
          11.300000190734863,
          11.363210678100586,
          11.399999618530273,
          11.468513488769531,
          11.5,
          11.567090034484863,
          11.600000381469727,
          11.667669296264648,
          11.699999809265137,
          11.773171424865723,
          11.800000190734863,
          11.865850448608398,
          11.899999618530273,
          11.957515716552734,
          12,
          12.059511184692383,
          12.100000381469727,
          12.1694917678833,
          12.199999809265137,
          12.25930118560791,
          12.300000190734863,
          12.362467765808105,
          12.399999618530273,
          12.408293724060059,
          12.491233825683594,
          12.5,
          12.563857078552246,
          12.600000381469727,
          12.657286643981934,
          12.699999809265137,
          12.761487007141113,
          12.800000190734863,
          12.868453025817871,
          12.899999618530273,
          12.968823432922363,
          13,
          13.066006660461426,
          13.100000381469727,
          13.125144004821777,
          13.199999809265137,
          13.262735366821289,
          13.300000190734863,
          13.304512977600098,
          13.34964656829834,
          13.399999618530273,
          13.454153060913086,
          13.5,
          13.56445026397705,
          13.600000381469727,
          13.656844139099121,
          13.699999809265137,
          13.760885238647461,
          13.800000190734863,
          13.87342357635498,
          13.899999618530273,
          13.947535514831543,
          14,
          14.06948471069336,
          14.100000381469727,
          14.163339614868164,
          14.199999809265137,
          14.22107982635498,
          14.300000190734863,
          14.373096466064453,
          14.399999618530273,
          14.463090896606445,
          14.5,
          14.531155586242676,
          14.600000381469727,
          14.66707706451416,
          14.699999809265137,
          14.76762580871582,
          14.800000190734863,
          14.869494438171387,
          14.899999618530273,
          14.962676048278809,
          15,
          15.00320816040039,
          15.03528881072998,
          15.100000381469727,
          15.163362503051758,
          15.199999809265137,
          15.225363731384277,
          15.300000190734863,
          15.367012977600098,
          15.399999618530273,
          15.427433967590332,
          15.5,
          15.570591926574707,
          15.600000381469727,
          15.664867401123047,
          15.699999809265137,
          15.762341499328613,
          15.800000190734863,
          15.824024200439453,
          15.899999618530273,
          15.937361717224121,
          16,
          16.073646545410156,
          16.100000381469727,
          16.163423538208008,
          16.200000762939453,
          16.261259078979492,
          16.299999237060547,
          16.370738983154297,
          16.399999618530273,
          16.464439392089844,
          16.5,
          16.573387145996094,
          16.600000381469727,
          16.661239624023438,
          16.700000762939453,
          16.755661010742188,
          16.799999237060547,
          16.8717041015625,
          16.899999618530273,
          16.969829559326172,
          17,
          17.05986213684082,
          17.100000381469727,
          17.1621150970459,
          17.200000762939453,
          17.21989631652832,
          17.299999237060547,
          17.366823196411133,
          17.399999618530273,
          17.46307945251465,
          17.5,
          17.514204025268555,
          17.600000381469727,
          17.65956687927246,
          17.700000762939453,
          17.769365310668945,
          17.799999237060547,
          17.86854362487793,
          17.899999618530273,
          17.961809158325195,
          18,
          18.0283203125,
          18.100000381469727,
          18.151334762573242,
          18.200000762939453,
          18.264101028442383,
          18.299999237060547,
          18.360416412353516,
          18.399999618530273,
          18.46085548400879,
          18.5,
          18.52875328063965,
          18.600000381469727,
          18.6679630279541,
          18.700000762939453,
          18.764739990234375,
          18.799999237060547,
          18.846769332885742,
          18.899999618530273,
          18.96803855895996,
          19,
          19.067293167114258,
          19.100000381469727,
          19.163619995117188,
          19.200000762939453,
          19.259763717651367,
          19.299999237060547,
          19.368017196655273,
          19.399999618530273,
          19.456737518310547,
          19.5,
          19.56565284729004,
          19.600000381469727,
          19.673391342163086,
          19.700000762939453,
          19.768566131591797,
          19.799999237060547,
          19.86610984802246,
          19.899999618530273
         ],
         "y": [
          -0.10000000149011612,
          -0.005620355252176523,
          0.05057564750313759,
          0.09698505699634552,
          0.12450715154409409,
          0.22325663268566132,
          0.27673816680908203,
          0.40019741654396057,
          0.4417850971221924,
          0.5459204912185669,
          0.5752820372581482,
          0.6469937562942505,
          0.6736611127853394,
          0.6887407302856445,
          0.7004213333129883,
          0.7190657258033752,
          0.7332941293716431,
          0.6765690445899963,
          0.6609914302825928,
          0.6071667671203613,
          0.5917145013809204,
          0.6009767055511475,
          0.6124337315559387,
          0.5812311768531799,
          0.5753819346427917,
          0.5941931009292603,
          0.6104171872138977,
          0.5026322603225708,
          0.458298921585083,
          0.36631670594215393,
          0.3268072009086609,
          0.274383544921875,
          0.2531984746456146,
          0.2100771814584732,
          0.1922815889120102,
          0.20237348973751068,
          0.20984230935573578,
          0.19231989979743958,
          0.1870155930519104,
          0.1801002472639084,
          0.1796663999557495,
          0.17890769243240356,
          0.18130531907081604,
          0.16580091416835785,
          0.1610284149646759,
          0.15995468199253082,
          0.1619342863559723,
          0.12718521058559418,
          0.11174950003623962,
          0.10318990051746368,
          0.10075557231903076,
          0.11242102831602097,
          0.11916052550077438,
          0.10405401140451431,
          0.0983797013759613,
          0.08089615404605865,
          0.07353197038173676,
          0.05404652655124664,
          0.04494234919548035,
          0.06886231899261475,
          0.07836160063743591,
          0.06440476328134537,
          0.058528680354356766,
          0.09070156514644623,
          0.10391661524772644,
          0.07912683486938477,
          0.06780452281236649,
          0.05002777650952339,
          0.04174279049038887,
          0.025540005415678024,
          0.017311662435531616,
          -0.0029075678903609514,
          -0.016362624242901802,
          -0.015424033626914024,
          -0.01523360051214695,
          -0.03599388524889946,
          -0.05153195187449455,
          -0.046803075820207596,
          -0.045293889939785004,
          -0.032748833298683167,
          -0.026851024478673935,
          -0.02730700373649597,
          -0.027930444106459618,
          -0.03248145058751106,
          -0.03485646843910217,
          -0.01737789995968342,
          -0.007989291101694107,
          0.003996436018496752,
          0.09151770919561386,
          0.060070451349020004,
          0.044420965015888214,
          0.028771713376045227,
          0.020992908626794815,
          0.03332982957363129,
          0.03856237232685089,
          0.021355710923671722,
          0.01234424114227295,
          -0.005590386223047972,
          -0.030442560091614723,
          -0.0022293729707598686,
          0.015443920157849789,
          0.007355991285294294,
          0.0030549790244549513,
          -0.0020070383325219154,
          -0.04509298875927925,
          0.009364048019051552,
          0.047145843505859375,
          0.03192967176437378,
          0.024510595947504044,
          0.004235668573528528,
          -0.008023659698665142,
          -0.02006090059876442,
          -0.04535391926765442,
          -0.0353902243077755,
          -0.030967634171247482,
          -0.02612304873764515,
          -0.024187572300434113,
          -0.0169135220348835,
          -0.013466743752360344,
          -0.005372082348912954,
          -0.0009454214596189559,
          -0.00309951975941658,
          -0.009721856564283371,
          -0.017088256776332855,
          -0.02076302282512188,
          -0.01663965731859207,
          -0.014887284487485886,
          -0.01697090081870556,
          -0.018081359565258026,
          -0.025065604597330093,
          -0.027922185137867928,
          -0.017375320196151733,
          -0.012090972624719143,
          -0.015391255728900433,
          -0.01686018332839012,
          -0.006987290922552347,
          -0.001578988623805344,
          0.001438315724954009,
          0.03131037577986717,
          0.037430163472890854,
          0.014035078696906567,
          0.0007714391103945673,
          -0.0011538416147232056,
          -0.014033379033207893,
          0.006248145364224911,
          0.03324694186449051,
          0.014282249845564365,
          0.0037869729567319155,
          0.008092976175248623,
          0.010683669708669186,
          0.019538527354598045,
          0.024286489933729172,
          0.019321046769618988,
          0.017184745520353317,
          0.04222290217876434,
          0.06450527906417847,
          0.02191120944917202,
          -0.0027302298694849014,
          -0.007340301293879747,
          -0.037496812641620636,
          -0.036850884556770325,
          -0.03712784871459007,
          -0.04060593619942665,
          -0.042730025947093964,
          -0.027477696537971497,
          -0.019878055900335312,
          -0.022345781326293945,
          -0.023716818541288376,
          -0.016382675617933273,
          -0.012887101620435715,
          0.0057656532153487206,
          0.026720033958554268,
          0.007842473685741425,
          -0.0031276182271540165,
          -0.008288363926112652,
          -0.026570970192551613,
          -0.028574224561452866,
          -0.029877834022045135,
          0.005030480679124594,
          0.02859889715909958,
          0.044198568910360336,
          0.05046162009239197,
          0.023850934579968452,
          0.009312611073255539,
          -0.00012163616338511929,
          -0.0059472182765603065,
          0.003152788383886218,
          0.04645843058824539,
          0.04683821648359299,
          0.04773600026965141,
          0.11046962440013885,
          0.15762510895729065,
          0.14390617609024048,
          0.1396285593509674,
          0.1347813606262207,
          0.13463734090328217,
          0.11857965588569641,
          0.11268597841262817,
          0.10577297955751419,
          0.10417862981557846,
          0.07221788167953491,
          0.056705866008996964,
          0.0779348835349083,
          0.08692219108343124,
          0.1138484925031662,
          0.12594933807849884,
          0.09024631232023239,
          0.07322455197572708,
          -0.02289627492427826,
          -0.09339483082294464,
          -0.05988113209605217,
          -0.04303959012031555,
          -0.014878746122121811,
          0.001300392090342939,
          0.0039388216100633144,
          0.03011881746351719,
          0.04684031009674072,
          0.04704899340867996,
          0.04787258431315422,
          0.01968103088438511,
          0.0038785524666309357,
          0.0013442704221233726,
          5.880707612959668e-05,
          0.0011185373878106475,
          0.011678677052259445,
          0.07285104691982269,
          0.08026870340108871,
          0.08471564203500748,
          0.0763719230890274,
          0.07358682155609131,
          0.03425244614481926,
          0.01263020746409893,
          0.02158382721245289,
          0.025900987908244133,
          0.022918574512004852,
          0.021863903850317,
          0.02044566720724106,
          0.020107710734009743,
          0.030944092199206352,
          0.03519035503268242,
          0.02685476839542389,
          0.02310311608016491,
          -0.007397748529911041,
          -0.029469236731529236,
          0.00406861025840044,
          0.026333432644605637,
          0.029519325122237206,
          0.03130919113755226,
          -0.0047708130441606045,
          -0.028941694647073746,
          -0.009366434067487717,
          0.0018883583834394813,
          -0.0015543742338195443,
          -0.035638947039842606,
          -0.0392589196562767,
          -0.020710336044430733,
          -0.0108788488432765,
          -0.02651112712919712,
          -0.03839884698390961,
          -0.007577023934572935,
          0.01104023214429617,
          0.01055982057005167,
          0.01050599105656147,
          0.010376456193625927,
          0.01047571375966072,
          0.007144765928387642,
          0.005597703158855438,
          -0.002990612294524908,
          -0.028239183127880096,
          -0.01018277183175087,
          5.12471488036681e-05,
          0.001102271256968379,
          0.011529212817549706,
          0.023165326565504074,
          -0.009683721698820591,
          -0.03698565438389778,
          -0.022197792306542397,
          -0.014661054126918316,
          0.006133391056209803,
          0.021624237298965454,
          0.001375771826133132,
          -0.011240082792937756,
          -0.015713907778263092,
          -0.017482740804553032,
          0.007555178366601467,
          0.03472021967172623,
          0.039315611124038696,
          0.04185047373175621,
          0.019382983446121216,
          0.0070982426404953,
          -0.0036045031156390905,
          -0.043194033205509186,
          -0.062057603150606155,
          -0.06958359479904175,
          -0.03113863803446293,
          -0.009852646850049496,
          0.004665681626647711,
          0.03630395233631134,
          0.03263680264353752,
          0.03141002729535103,
          0.02982240729033947,
          0.029551515355706215,
          0.03330068662762642,
          0.035385824739933014,
          0.012918058782815933,
          0.00015550729585811496,
          -0.001009140512906015,
          -0.012578155845403671,
          -0.0358554869890213,
          -0.016461465507745743,
          -0.005863468628376722,
          0.003096007276326418,
          0.029129451140761375,
          0.02568705566227436,
          0.024452459067106247,
          -0.010549567639827728,
          -0.10188926756381989,
          -0.12750570476055145,
          -0.1396544724702835,
          -0.09550831466913223,
          -0.07392487674951553,
          -0.025717396289110184,
          0.0021010322961956263,
          -0.0016191188478842378,
          -0.01325150951743126,
          0.0059788902290165424,
          0.03773605078458786,
          0.0571758970618248,
          0.06463637202978134,
          0.03174033388495445,
          0.01388076227158308,
          0.028941253200173378,
          0.03873857110738754,
          0.048322923481464386,
          0.052846308797597885,
          0.03238770738244057,
          0.021984774619340897,
          0.03160364180803299,
          0.03538559004664421,
          0.0054953936487436295,
          -0.012785897590219975,
          0.005655615124851465,
          0.02007744461297989,
          0.026108061894774437,
          0.02876921370625496,
          0.0332537405192852,
          0.03561532869935036,
          -0.0024043468292802572,
          -0.02723296359181404,
          -0.0073342579416930676,
          0.004321379587054253,
          -0.0024944583419710398,
          -0.02961881086230278,
          -0.02554359845817089,
          -0.023990202695131302,
          -0.00952292513102293,
          -0.0014694062992930412,
          0.0013927759137004614,
          0.018511120229959488,
          -0.00288913631811738,
          -0.017068913206458092,
          -0.01852148398756981,
          -0.019417058676481247,
          -0.019716579467058182,
          -0.02014925703406334,
          -0.004039437975734472,
          0.005556532181799412,
          -0.002965195570141077,
          -0.024254823103547096,
          -0.059278495609760284,
          -0.09304358810186386,
          -0.05442168936133385,
          -0.03436819463968277,
          -0.0008466606377623975,
          0.020484760403633118,
          0.001128279254771769,
          -0.010950271040201187,
          0.005117196124047041,
          0.04439336806535721,
          0.04425595700740814,
          0.044878289103507996,
          0.02891470305621624,
          0.02096826769411564,
          -0.008927669376134872,
          -0.042378682643175125,
          -0.0716901570558548,
          -0.08614794909954071,
          -0.08134341984987259,
          -0.08036509156227112,
          -0.04195685684680939,
          -0.02136971242725849,
          0.002621212275698781,
          0.0183754600584507,
          0.017673267051577568,
          0.01762654073536396,
          0.04309561848640442,
          0.06289683282375336,
          0.047937583178281784,
          0.04113994538784027,
          0.06005559861660004,
          0.06746535003185272,
          0.07185778766870499,
          0.07490088790655136,
          0.06105847656726837,
          0.05517293140292168
         ]
        }
       ],
       "layout": {
        "template": {
         "data": {
          "bar": [
           {
            "error_x": {
             "color": "#2a3f5f"
            },
            "error_y": {
             "color": "#2a3f5f"
            },
            "marker": {
             "line": {
              "color": "#E5ECF6",
              "width": 0.5
             }
            },
            "type": "bar"
           }
          ],
          "barpolar": [
           {
            "marker": {
             "line": {
              "color": "#E5ECF6",
              "width": 0.5
             }
            },
            "type": "barpolar"
           }
          ],
          "carpet": [
           {
            "aaxis": {
             "endlinecolor": "#2a3f5f",
             "gridcolor": "white",
             "linecolor": "white",
             "minorgridcolor": "white",
             "startlinecolor": "#2a3f5f"
            },
            "baxis": {
             "endlinecolor": "#2a3f5f",
             "gridcolor": "white",
             "linecolor": "white",
             "minorgridcolor": "white",
             "startlinecolor": "#2a3f5f"
            },
            "type": "carpet"
           }
          ],
          "choropleth": [
           {
            "colorbar": {
             "outlinewidth": 0,
             "ticks": ""
            },
            "type": "choropleth"
           }
          ],
          "contour": [
           {
            "colorbar": {
             "outlinewidth": 0,
             "ticks": ""
            },
            "colorscale": [
             [
              0,
              "#0d0887"
             ],
             [
              0.1111111111111111,
              "#46039f"
             ],
             [
              0.2222222222222222,
              "#7201a8"
             ],
             [
              0.3333333333333333,
              "#9c179e"
             ],
             [
              0.4444444444444444,
              "#bd3786"
             ],
             [
              0.5555555555555556,
              "#d8576b"
             ],
             [
              0.6666666666666666,
              "#ed7953"
             ],
             [
              0.7777777777777778,
              "#fb9f3a"
             ],
             [
              0.8888888888888888,
              "#fdca26"
             ],
             [
              1,
              "#f0f921"
             ]
            ],
            "type": "contour"
           }
          ],
          "contourcarpet": [
           {
            "colorbar": {
             "outlinewidth": 0,
             "ticks": ""
            },
            "type": "contourcarpet"
           }
          ],
          "heatmap": [
           {
            "colorbar": {
             "outlinewidth": 0,
             "ticks": ""
            },
            "colorscale": [
             [
              0,
              "#0d0887"
             ],
             [
              0.1111111111111111,
              "#46039f"
             ],
             [
              0.2222222222222222,
              "#7201a8"
             ],
             [
              0.3333333333333333,
              "#9c179e"
             ],
             [
              0.4444444444444444,
              "#bd3786"
             ],
             [
              0.5555555555555556,
              "#d8576b"
             ],
             [
              0.6666666666666666,
              "#ed7953"
             ],
             [
              0.7777777777777778,
              "#fb9f3a"
             ],
             [
              0.8888888888888888,
              "#fdca26"
             ],
             [
              1,
              "#f0f921"
             ]
            ],
            "type": "heatmap"
           }
          ],
          "heatmapgl": [
           {
            "colorbar": {
             "outlinewidth": 0,
             "ticks": ""
            },
            "colorscale": [
             [
              0,
              "#0d0887"
             ],
             [
              0.1111111111111111,
              "#46039f"
             ],
             [
              0.2222222222222222,
              "#7201a8"
             ],
             [
              0.3333333333333333,
              "#9c179e"
             ],
             [
              0.4444444444444444,
              "#bd3786"
             ],
             [
              0.5555555555555556,
              "#d8576b"
             ],
             [
              0.6666666666666666,
              "#ed7953"
             ],
             [
              0.7777777777777778,
              "#fb9f3a"
             ],
             [
              0.8888888888888888,
              "#fdca26"
             ],
             [
              1,
              "#f0f921"
             ]
            ],
            "type": "heatmapgl"
           }
          ],
          "histogram": [
           {
            "marker": {
             "colorbar": {
              "outlinewidth": 0,
              "ticks": ""
             }
            },
            "type": "histogram"
           }
          ],
          "histogram2d": [
           {
            "colorbar": {
             "outlinewidth": 0,
             "ticks": ""
            },
            "colorscale": [
             [
              0,
              "#0d0887"
             ],
             [
              0.1111111111111111,
              "#46039f"
             ],
             [
              0.2222222222222222,
              "#7201a8"
             ],
             [
              0.3333333333333333,
              "#9c179e"
             ],
             [
              0.4444444444444444,
              "#bd3786"
             ],
             [
              0.5555555555555556,
              "#d8576b"
             ],
             [
              0.6666666666666666,
              "#ed7953"
             ],
             [
              0.7777777777777778,
              "#fb9f3a"
             ],
             [
              0.8888888888888888,
              "#fdca26"
             ],
             [
              1,
              "#f0f921"
             ]
            ],
            "type": "histogram2d"
           }
          ],
          "histogram2dcontour": [
           {
            "colorbar": {
             "outlinewidth": 0,
             "ticks": ""
            },
            "colorscale": [
             [
              0,
              "#0d0887"
             ],
             [
              0.1111111111111111,
              "#46039f"
             ],
             [
              0.2222222222222222,
              "#7201a8"
             ],
             [
              0.3333333333333333,
              "#9c179e"
             ],
             [
              0.4444444444444444,
              "#bd3786"
             ],
             [
              0.5555555555555556,
              "#d8576b"
             ],
             [
              0.6666666666666666,
              "#ed7953"
             ],
             [
              0.7777777777777778,
              "#fb9f3a"
             ],
             [
              0.8888888888888888,
              "#fdca26"
             ],
             [
              1,
              "#f0f921"
             ]
            ],
            "type": "histogram2dcontour"
           }
          ],
          "mesh3d": [
           {
            "colorbar": {
             "outlinewidth": 0,
             "ticks": ""
            },
            "type": "mesh3d"
           }
          ],
          "parcoords": [
           {
            "line": {
             "colorbar": {
              "outlinewidth": 0,
              "ticks": ""
             }
            },
            "type": "parcoords"
           }
          ],
          "pie": [
           {
            "automargin": true,
            "type": "pie"
           }
          ],
          "scatter": [
           {
            "marker": {
             "colorbar": {
              "outlinewidth": 0,
              "ticks": ""
             }
            },
            "type": "scatter"
           }
          ],
          "scatter3d": [
           {
            "line": {
             "colorbar": {
              "outlinewidth": 0,
              "ticks": ""
             }
            },
            "marker": {
             "colorbar": {
              "outlinewidth": 0,
              "ticks": ""
             }
            },
            "type": "scatter3d"
           }
          ],
          "scattercarpet": [
           {
            "marker": {
             "colorbar": {
              "outlinewidth": 0,
              "ticks": ""
             }
            },
            "type": "scattercarpet"
           }
          ],
          "scattergeo": [
           {
            "marker": {
             "colorbar": {
              "outlinewidth": 0,
              "ticks": ""
             }
            },
            "type": "scattergeo"
           }
          ],
          "scattergl": [
           {
            "marker": {
             "colorbar": {
              "outlinewidth": 0,
              "ticks": ""
             }
            },
            "type": "scattergl"
           }
          ],
          "scattermapbox": [
           {
            "marker": {
             "colorbar": {
              "outlinewidth": 0,
              "ticks": ""
             }
            },
            "type": "scattermapbox"
           }
          ],
          "scatterpolar": [
           {
            "marker": {
             "colorbar": {
              "outlinewidth": 0,
              "ticks": ""
             }
            },
            "type": "scatterpolar"
           }
          ],
          "scatterpolargl": [
           {
            "marker": {
             "colorbar": {
              "outlinewidth": 0,
              "ticks": ""
             }
            },
            "type": "scatterpolargl"
           }
          ],
          "scatterternary": [
           {
            "marker": {
             "colorbar": {
              "outlinewidth": 0,
              "ticks": ""
             }
            },
            "type": "scatterternary"
           }
          ],
          "surface": [
           {
            "colorbar": {
             "outlinewidth": 0,
             "ticks": ""
            },
            "colorscale": [
             [
              0,
              "#0d0887"
             ],
             [
              0.1111111111111111,
              "#46039f"
             ],
             [
              0.2222222222222222,
              "#7201a8"
             ],
             [
              0.3333333333333333,
              "#9c179e"
             ],
             [
              0.4444444444444444,
              "#bd3786"
             ],
             [
              0.5555555555555556,
              "#d8576b"
             ],
             [
              0.6666666666666666,
              "#ed7953"
             ],
             [
              0.7777777777777778,
              "#fb9f3a"
             ],
             [
              0.8888888888888888,
              "#fdca26"
             ],
             [
              1,
              "#f0f921"
             ]
            ],
            "type": "surface"
           }
          ],
          "table": [
           {
            "cells": {
             "fill": {
              "color": "#EBF0F8"
             },
             "line": {
              "color": "white"
             }
            },
            "header": {
             "fill": {
              "color": "#C8D4E3"
             },
             "line": {
              "color": "white"
             }
            },
            "type": "table"
           }
          ]
         },
         "layout": {
          "annotationdefaults": {
           "arrowcolor": "#2a3f5f",
           "arrowhead": 0,
           "arrowwidth": 1
          },
          "coloraxis": {
           "colorbar": {
            "outlinewidth": 0,
            "ticks": ""
           }
          },
          "colorscale": {
           "diverging": [
            [
             0,
             "#8e0152"
            ],
            [
             0.1,
             "#c51b7d"
            ],
            [
             0.2,
             "#de77ae"
            ],
            [
             0.3,
             "#f1b6da"
            ],
            [
             0.4,
             "#fde0ef"
            ],
            [
             0.5,
             "#f7f7f7"
            ],
            [
             0.6,
             "#e6f5d0"
            ],
            [
             0.7,
             "#b8e186"
            ],
            [
             0.8,
             "#7fbc41"
            ],
            [
             0.9,
             "#4d9221"
            ],
            [
             1,
             "#276419"
            ]
           ],
           "sequential": [
            [
             0,
             "#0d0887"
            ],
            [
             0.1111111111111111,
             "#46039f"
            ],
            [
             0.2222222222222222,
             "#7201a8"
            ],
            [
             0.3333333333333333,
             "#9c179e"
            ],
            [
             0.4444444444444444,
             "#bd3786"
            ],
            [
             0.5555555555555556,
             "#d8576b"
            ],
            [
             0.6666666666666666,
             "#ed7953"
            ],
            [
             0.7777777777777778,
             "#fb9f3a"
            ],
            [
             0.8888888888888888,
             "#fdca26"
            ],
            [
             1,
             "#f0f921"
            ]
           ],
           "sequentialminus": [
            [
             0,
             "#0d0887"
            ],
            [
             0.1111111111111111,
             "#46039f"
            ],
            [
             0.2222222222222222,
             "#7201a8"
            ],
            [
             0.3333333333333333,
             "#9c179e"
            ],
            [
             0.4444444444444444,
             "#bd3786"
            ],
            [
             0.5555555555555556,
             "#d8576b"
            ],
            [
             0.6666666666666666,
             "#ed7953"
            ],
            [
             0.7777777777777778,
             "#fb9f3a"
            ],
            [
             0.8888888888888888,
             "#fdca26"
            ],
            [
             1,
             "#f0f921"
            ]
           ]
          },
          "colorway": [
           "#636efa",
           "#EF553B",
           "#00cc96",
           "#ab63fa",
           "#FFA15A",
           "#19d3f3",
           "#FF6692",
           "#B6E880",
           "#FF97FF",
           "#FECB52"
          ],
          "font": {
           "color": "#2a3f5f"
          },
          "geo": {
           "bgcolor": "white",
           "lakecolor": "white",
           "landcolor": "#E5ECF6",
           "showlakes": true,
           "showland": true,
           "subunitcolor": "white"
          },
          "hoverlabel": {
           "align": "left"
          },
          "hovermode": "closest",
          "mapbox": {
           "style": "light"
          },
          "paper_bgcolor": "white",
          "plot_bgcolor": "#E5ECF6",
          "polar": {
           "angularaxis": {
            "gridcolor": "white",
            "linecolor": "white",
            "ticks": ""
           },
           "bgcolor": "#E5ECF6",
           "radialaxis": {
            "gridcolor": "white",
            "linecolor": "white",
            "ticks": ""
           }
          },
          "scene": {
           "xaxis": {
            "backgroundcolor": "#E5ECF6",
            "gridcolor": "white",
            "gridwidth": 2,
            "linecolor": "white",
            "showbackground": true,
            "ticks": "",
            "zerolinecolor": "white"
           },
           "yaxis": {
            "backgroundcolor": "#E5ECF6",
            "gridcolor": "white",
            "gridwidth": 2,
            "linecolor": "white",
            "showbackground": true,
            "ticks": "",
            "zerolinecolor": "white"
           },
           "zaxis": {
            "backgroundcolor": "#E5ECF6",
            "gridcolor": "white",
            "gridwidth": 2,
            "linecolor": "white",
            "showbackground": true,
            "ticks": "",
            "zerolinecolor": "white"
           }
          },
          "shapedefaults": {
           "line": {
            "color": "#2a3f5f"
           }
          },
          "ternary": {
           "aaxis": {
            "gridcolor": "white",
            "linecolor": "white",
            "ticks": ""
           },
           "baxis": {
            "gridcolor": "white",
            "linecolor": "white",
            "ticks": ""
           },
           "bgcolor": "#E5ECF6",
           "caxis": {
            "gridcolor": "white",
            "linecolor": "white",
            "ticks": ""
           }
          },
          "title": {
           "x": 0.05
          },
          "xaxis": {
           "automargin": true,
           "gridcolor": "white",
           "linecolor": "white",
           "ticks": "",
           "title": {
            "standoff": 15
           },
           "zerolinecolor": "white",
           "zerolinewidth": 2
          },
          "yaxis": {
           "automargin": true,
           "gridcolor": "white",
           "linecolor": "white",
           "ticks": "",
           "title": {
            "standoff": 15
           },
           "zerolinecolor": "white",
           "zerolinewidth": 2
          }
         }
        }
       }
      },
      "text/html": [
       "<div>\n",
       "        \n",
       "        \n",
       "            <div id=\"2c39bd12-e783-4cdd-8290-f60dbee390fe\" class=\"plotly-graph-div\" style=\"height:525px; width:100%;\"></div>\n",
       "            <script type=\"text/javascript\">\n",
       "                require([\"plotly\"], function(Plotly) {\n",
       "                    window.PLOTLYENV=window.PLOTLYENV || {};\n",
       "                    \n",
       "                if (document.getElementById(\"2c39bd12-e783-4cdd-8290-f60dbee390fe\")) {\n",
       "                    Plotly.newPlot(\n",
       "                        '2c39bd12-e783-4cdd-8290-f60dbee390fe',\n",
       "                        [{\"name\": \"baseline\", \"type\": \"scatter\", \"x\": [0.0, 0.0833452045917511, 0.10000000149011612, 0.1821017861366272, 0.20000000298023224, 0.275289922952652, 0.30000001192092896, 0.3791501522064209, 0.4000000059604645, 0.477159708738327, 0.5, 0.5742930173873901, 0.6000000238418579, 0.6783674359321594, 0.699999988079071, 0.7712526321411133, 0.800000011920929, 0.8797773718833923, 0.8999999761581421, 0.961405336856842, 1.0, 1.061658501625061, 1.100000023841858, 1.1735568046569824, 1.2000000476837158, 1.2711682319641113, 1.2999999523162842, 1.3652071952819824, 1.399999976158142, 1.4674538373947144, 1.5, 1.570655345916748, 1.600000023841858, 1.6821805238723755, 1.7000000476837158, 1.7767726182937622, 1.7999999523162842, 1.8808586597442627, 1.899999976158142, 1.9796397686004639, 2.0, 2.0662426948547363, 2.0999999046325684, 2.1728005409240723, 2.200000047683716, 2.284987211227417, 2.299999952316284, 2.3547887802124023, 2.4000000953674316, 2.4733681678771973, 2.5, 2.565157651901245, 2.5999999046325684, 2.6890838146209717, 2.700000047683716, 2.7198426723480225, 2.799999952316284, 2.867554187774658, 2.9000000953674316, 2.920853853225708, 3.0, 3.0239405632019043, 3.0999999046325684, 3.1676111221313477, 3.200000047683716, 3.211963415145874, 3.299999952316284, 3.3844704627990723, 3.4000000953674316, 3.4622011184692383, 3.5, 3.554795026779175, 3.5999999046325684, 3.671685218811035, 3.700000047683716, 3.73748779296875, 3.799999952316284, 3.865652561187744, 3.9000000953674316, 3.9192099571228027, 4.0, 4.084066390991211, 4.099999904632568, 4.158729076385498, 4.199999809265137, 4.272372722625732, 4.300000190734863, 4.386022090911865, 4.400000095367432, 4.470683574676514, 4.5, 4.506294250488281, 4.569234848022461, 4.599999904632568, 4.672482490539551, 4.699999809265137, 4.770840644836426, 4.800000190734863, 4.82198429107666, 4.900000095367432, 4.979574203491211, 5.0, 5.06877326965332, 5.099999904632568, 5.151116847991943, 5.199999809265137, 5.2722697257995605, 5.300000190734863, 5.369469165802002, 5.400000095367432, 5.483098030090332, 5.5, 5.562383651733398, 5.599999904632568, 5.658735752105713, 5.699999809265137, 5.755016326904297, 5.800000190734863, 5.874978542327881, 5.900000095367432, 5.974559307098389, 6.0, 6.044132709503174, 6.099999904632568, 6.172296524047852, 6.199999809265137, 6.224587440490723, 6.300000190734863, 6.375296115875244, 6.400000095367432, 6.4479660987854, 6.5, 6.57800817489624, 6.599999904632568, 6.667474746704102, 6.699999809265137, 6.767991542816162, 6.800000190734863, 6.805825233459473, 6.864078521728516, 6.900000095367432, 6.9747772216796875, 7.0, 7.082576274871826, 7.099999904632568, 7.169906139373779, 7.199999809265137, 7.226663589477539, 7.300000190734863, 7.376476764678955, 7.400000095367432, 7.4787821769714355, 7.5, 7.572626113891602, 7.599999904632568, 7.642710208892822, 7.699999809265137, 7.723527431488037, 7.800000190734863, 7.870777606964111, 7.900000095367432, 7.966368675231934, 8.0, 8.06230354309082, 8.100000381469727, 8.159117698669434, 8.199999809265137, 8.272741317749023, 8.300000190734863, 8.319705963134766, 8.399999618530273, 8.46470832824707, 8.5, 8.583776473999023, 8.600000381469727, 8.665087699890137, 8.699999809265137, 8.764236450195312, 8.800000190734863, 8.85925006866455, 8.899999618530273, 8.957413673400879, 9.0, 9.05683422088623, 9.100000381469727, 9.182940483093262, 9.199999809265137, 9.28520679473877, 9.300000190734863, 9.371472358703613, 9.399999618530273, 9.44939136505127, 9.5, 9.57247543334961, 9.600000381469727, 9.67489242553711, 9.699999809265137, 9.71250057220459, 9.800000190734863, 9.875565528869629, 9.899999618530273, 9.980303764343262, 10.0, 10.056940078735352, 10.100000381469727, 10.184998512268066, 10.199999809265137, 10.275686264038086, 10.300000190734863, 10.378697395324707, 10.399999618530273, 10.47127914428711, 10.5, 10.557168960571289, 10.600000381469727, 10.671589851379395, 10.699999809265137, 10.721965789794922, 10.800000190734863, 10.86599349975586, 10.899999618530273, 10.960999488830566, 11.0, 11.019627571105957, 11.100000381469727, 11.157023429870605, 11.199999809265137, 11.257328987121582, 11.300000190734863, 11.369391441345215, 11.399999618530273, 11.459295272827148, 11.5, 11.562678337097168, 11.600000381469727, 11.624014854431152, 11.699999809265137, 11.77403450012207, 11.800000190734863, 11.872920036315918, 11.899999618530273, 11.977394104003906, 12.0, 12.069571495056152, 12.100000381469727, 12.168211936950684, 12.199999809265137, 12.203694343566895, 12.240639686584473, 12.300000190734863, 12.3859281539917, 12.399999618530273, 12.472079277038574, 12.5, 12.562301635742188, 12.600000381469727, 12.680155754089355, 12.699999809265137, 12.770523071289062, 12.800000190734863, 12.85719108581543, 12.899999618530273, 12.930166244506836, 13.0, 13.069273948669434, 13.100000381469727, 13.145578384399414, 13.199999809265137, 13.285567283630371, 13.300000190734863, 13.367044448852539, 13.399999618530273, 13.476973533630371, 13.5, 13.58492374420166, 13.600000381469727, 13.664250373840332, 13.699999809265137, 13.75830078125, 13.800000190734863, 13.86974811553955, 13.899999618530273, 13.92089557647705, 14.0, 14.078421592712402, 14.100000381469727, 14.174149513244629, 14.199999809265137, 14.26722240447998, 14.300000190734863, 14.359270095825195, 14.399999618530273, 14.458550453186035, 14.5, 14.578571319580078, 14.600000381469727, 14.676424980163574, 14.699999809265137, 14.782073020935059, 14.800000190734863, 14.872467041015625, 14.899999618530273, 14.961273193359375, 15.0, 15.076224327087402, 15.100000381469727, 15.143570899963379, 15.199999809265137, 15.271242141723633, 15.300000190734863, 15.369978904724121, 15.399999618530273, 15.466217041015625, 15.5, 15.510066986083984, 15.600000381469727, 15.685988426208496, 15.699999809265137, 15.772128105163574, 15.800000190734863, 15.88003921508789, 15.899999618530273, 15.976847648620605, 16.0, 16.034648895263672, 16.100000381469727, 16.171892166137695, 16.200000762939453, 16.264545440673828, 16.299999237060547, 16.361312866210938, 16.399999618530273, 16.474355697631836, 16.5, 16.556867599487305, 16.600000381469727, 16.66749382019043, 16.700000762939453, 16.7025089263916, 16.72759246826172, 16.799999237060547, 16.87470245361328, 16.899999618530273, 16.97186279296875, 17.0, 17.033214569091797, 17.100000381469727, 17.170286178588867, 17.200000762939453, 17.222158432006836, 17.299999237060547, 17.377880096435547, 17.399999618530273, 17.47115135192871, 17.5, 17.557395935058594, 17.600000381469727, 17.666156768798828, 17.700000762939453, 17.772329330444336, 17.799999237060547, 17.85724449157715, 17.899999618530273, 17.97611427307129, 18.0, 18.07202911376953, 18.100000381469727, 18.127662658691406, 18.200000762939453, 18.27050018310547, 18.299999237060547, 18.362764358520508, 18.399999618530273, 18.478778839111328, 18.5, 18.570301055908203, 18.600000381469727, 18.635623931884766, 18.700000762939453, 18.780860900878906, 18.799999237060547, 18.886024475097656, 18.899999618530273, 18.971729278564453, 19.0, 19.058340072631836, 19.100000381469727, 19.16367530822754, 19.200000762939453, 19.26548194885254, 19.299999237060547, 19.320589065551758, 19.399999618530273, 19.475305557250977, 19.5, 19.572202682495117, 19.600000381469727, 19.628259658813477, 19.700000762939453, 19.75962257385254, 19.799999237060547, 19.862266540527344, 19.899999618530273], \"y\": [2.1415927410125732, 2.132004499435425, 2.1297760009765625, 2.117192268371582, 2.1140780448913574, 2.101430892944336, 2.097566604614258, 2.085002899169922, 2.0815412998199463, 2.0689470767974854, 2.0653228759765625, 2.054946184158325, 2.051950454711914, 2.043419122695923, 2.041102647781372, 2.0352425575256348, 2.033839702606201, 2.030118227005005, 2.02898907661438, 2.027212142944336, 2.0278701782226562, 2.0289418697357178, 2.028564453125, 2.0273549556732178, 2.0270469188690186, 2.0260798931121826, 2.025559425354004, 2.0237793922424316, 2.0224053859710693, 2.0184237957000732, 2.015763521194458, 2.011155843734741, 2.010209083557129, 2.0082879066467285, 2.007856845855713, 2.006174087524414, 2.0057339668273926, 2.0039918422698975, 2.0035011768341064, 2.001464605331421, 2.000962257385254, 1.9987170696258545, 1.9970954656600952, 1.994064211845398, 1.9933356046676636, 1.9912694692611694, 1.9908770322799683, 1.990460753440857, 1.99164617061615, 1.9940705299377441, 1.9946612119674683, 1.9954112768173218, 1.9954010248184204, 1.9949604272842407, 1.9948986768722534, 1.9948722124099731, 1.996521234512329, 1.998207449913025, 1.9984091520309448, 1.9984278678894043, 1.9987399578094482, 1.9987760782241821, 1.9973821640014648, 1.995903491973877, 1.9957268238067627, 1.9957314729690552, 1.9962263107299805, 1.9971222877502441, 1.9972957372665405, 1.9976412057876587, 1.997510552406311, 1.9968557357788086, 1.9958935976028442, 1.994542121887207, 1.9942628145217896, 1.9941937923431396, 1.9949897527694702, 1.9958579540252686, 1.9958769083023071, 1.9957479238510132, 1.9939606189727783, 1.9906309843063354, 1.9899001121520996, 1.9887971878051758, 1.989963173866272, 1.9925987720489502, 1.9931997060775757, 1.9948506355285645, 1.9951426982879639, 1.9962034225463867, 1.9963955879211426, 1.9964423179626465, 1.999169111251831, 2.001981258392334, 2.008086681365967, 2.009565591812134, 2.0119175910949707, 2.0123889446258545, 2.0124549865722656, 2.0097713470458984, 2.004850387573242, 2.0036144256591797, 2.0007717609405518, 2.000322103500366, 1.9997648000717163, 1.9987841844558716, 1.9965325593948364, 1.9954122304916382, 1.9933346509933472, 1.9929816722869873, 1.9924792051315308, 1.9923771619796753, 1.9917958974838257, 1.991248607635498, 1.9908822774887085, 1.9913344383239746, 1.9916120767593384, 1.9908009767532349, 1.989015817642212, 1.988562822341919, 1.987542986869812, 1.987295389175415, 1.987195611000061, 1.987879753112793, 1.9889780282974243, 1.989210844039917, 1.9894952774047852, 1.9918842315673828, 1.9949036836624146, 1.9956865310668945, 1.9960964918136597, 1.9942831993103027, 1.9901349544525146, 1.989067792892456, 1.9869544506072998, 1.9867013692855835, 1.986653447151184, 1.986611247062683, 1.986611008644104, 1.9875390529632568, 1.9889453649520874, 1.9919627904891968, 1.9927351474761963, 1.99544358253479, 1.9961129426956177, 1.998049259185791, 1.9983917474746704, 1.998434066772461, 1.9971964359283447, 1.9951403141021729, 1.9946060180664062, 1.9929946660995483, 1.9925932884216309, 1.9915623664855957, 1.9913357496261597, 1.9912655353546143, 1.9918406009674072, 1.9925166368484497, 1.9986025094985962, 2.0046842098236084, 2.0059003829956055, 2.0071120262145996, 2.0071940422058105, 2.0069122314453125, 2.0066354274749756, 2.0058188438415527, 2.0048816204071045, 2.003365993499756, 2.0030083656311035, 2.002951145172119, 2.005995273590088, 2.0087153911590576, 2.0086889266967773, 2.0071818828582764, 2.0068418979644775, 2.006011724472046, 2.0060231685638428, 2.006486415863037, 2.0068776607513428, 2.007159471511841, 2.006844997406006, 2.0066211223602295, 2.007099151611328, 2.0073907375335693, 2.0066823959350586, 2.004481554031372, 2.0040066242218018, 2.0014281272888184, 2.0009403228759766, 1.9991734027862549, 1.998803973197937, 1.9986783266067505, 1.9992691278457642, 2.000305414199829, 2.0005345344543457, 2.000934600830078, 2.0010244846343994, 2.001096248626709, 2.0033955574035645, 2.006303071975708, 2.007070779800415, 2.009429931640625, 2.010002613067627, 2.01051926612854, 2.0094234943389893, 2.005740165710449, 2.0050296783447266, 2.001840591430664, 2.000994920730591, 1.9985296726226807, 1.997904658317566, 1.9963992834091187, 1.9960999488830566, 1.9953577518463135, 1.994388222694397, 1.9929778575897217, 1.992690086364746, 1.9926494359970093, 1.9944769144058228, 1.9962471723556519, 1.9963489770889282, 1.996229887008667, 1.9963421821594238, 1.996362328529358, 1.994949221611023, 1.9943610429763794, 1.995552897453308, 1.9997422695159912, 2.005023241043091, 2.012075901031494, 2.0133097171783447, 2.013843536376953, 2.0133349895477295, 2.012637138366699, 2.0128042697906494, 2.0128681659698486, 2.01071834564209, 2.0075314044952393, 2.006699800491333, 2.0050113201141357, 2.0046041011810303, 2.0037055015563965, 2.003478527069092, 2.0025782585144043, 2.002042531967163, 2.0011820793151855, 2.001072883605957, 2.0010738372802734, 2.001422166824341, 2.00325608253479, 2.0075535774230957, 2.0083587169647217, 2.011604070663452, 2.0123653411865234, 2.0144474506378174, 2.016369581222534, 2.0209710597991943, 2.022113084793091, 2.0250680446624756, 2.025663137435913, 2.025902509689331, 2.025362730026245, 2.0251967906951904, 2.0280532836914062, 2.0315663814544678, 2.0321648120880127, 2.0322864055633545, 2.031557083129883, 2.029404640197754, 2.028987169265747, 2.0262951850891113, 2.024446487426758, 2.020068645477295, 2.018882989883423, 2.014230728149414, 2.013321876525879, 2.0110230445861816, 2.0111255645751953, 2.0114691257476807, 2.0109739303588867, 2.0100481510162354, 2.0098960399627686, 2.009795665740967, 2.0085885524749756, 2.0068559646606445, 2.006413459777832, 2.0051825046539307, 2.0048742294311523, 2.0038769245147705, 2.0031919479370117, 2.002636432647705, 2.003166675567627, 2.003654718399048, 2.00304913520813, 2.001275062561035, 2.000825881958008, 1.9989017248153687, 1.9981669187545776, 1.995053768157959, 1.9942548274993896, 1.9916863441467285, 1.9910908937454224, 1.9905662536621094, 1.9908154010772705, 1.9916092157363892, 1.9918051958084106, 1.9923957586288452, 1.99390709400177, 1.9956822395324707, 1.996034026145935, 1.9964455366134644, 1.9965051412582397, 1.9966055154800415, 1.9966909885406494, 1.996695637702942, 1.9946194887161255, 1.990505576133728, 1.9897699356079102, 1.9868478775024414, 1.9861937761306763, 1.984407901763916, 1.9838746786117554, 1.9819916486740112, 1.9815127849578857, 1.9803285598754883, 1.9754173755645752, 1.9699333906173706, 1.968756914138794, 1.9675287008285522, 1.9675750732421875, 1.9683759212493896, 1.9691749811172485, 1.9705890417099, 1.970924735069275, 1.9720680713653564, 1.9735745191574097, 1.9754066467285156, 1.9756234884262085, 1.9756252765655518, 1.9758034944534302, 1.9779270887374878, 1.9807655811309814, 1.9814766645431519, 1.982837200164795, 1.9831126928329468, 1.9835368394851685, 1.9854830503463745, 1.9874775409698486, 1.9878419637680054, 1.9878838062286377, 1.9860533475875854, 1.9829689264297485, 1.982183814048767, 1.980403184890747, 1.9800605773925781, 1.9799306392669678, 1.980265498161316, 1.981386661529541, 1.982207179069519, 1.9836639165878296, 1.9839770793914795, 1.9848613739013672, 1.9860049486160278, 1.9880993366241455, 1.9886358976364136, 1.989776372909546, 1.9900126457214355, 1.9903262853622437, 1.9924144744873047, 1.9944992065429688, 1.9948872327804565, 1.9956849813461304, 1.9964114427566528, 1.99848473072052, 1.9991604089736938, 2.0008046627044678, 2.001102924346924, 2.001155376434326, 2.0004138946533203, 1.9985321760177612, 1.9980026483535767, 1.9953365325927734, 1.9948610067367554, 1.993017315864563, 1.9926254749298096, 1.9915963411331177, 1.9903613328933716, 1.989116907119751, 1.9892503023147583, 1.9897122383117676, 1.989702820777893, 1.9895983934402466, 1.9883110523223877, 1.9867159128189087, 1.9863123893737793, 1.985503077507019, 1.9853407144546509, 1.9851188659667969, 1.9836857318878174, 1.982954978942871, 1.9835479259490967, 1.9843673706054688, 1.9841364622116089]}, {\"name\": \"baseline\", \"type\": \"scatter\", \"x\": [0.0, 0.0833452045917511, 0.10000000149011612, 0.1821017861366272, 0.20000000298023224, 0.275289922952652, 0.30000001192092896, 0.3791501522064209, 0.4000000059604645, 0.477159708738327, 0.5, 0.5742930173873901, 0.6000000238418579, 0.6783674359321594, 0.699999988079071, 0.7712526321411133, 0.800000011920929, 0.8797773718833923, 0.8999999761581421, 0.961405336856842, 1.0, 1.061658501625061, 1.100000023841858, 1.1735568046569824, 1.2000000476837158, 1.2711682319641113, 1.2999999523162842, 1.3652071952819824, 1.399999976158142, 1.4674538373947144, 1.5, 1.570655345916748, 1.600000023841858, 1.6821805238723755, 1.7000000476837158, 1.7767726182937622, 1.7999999523162842, 1.8808586597442627, 1.899999976158142, 1.9796397686004639, 2.0, 2.0662426948547363, 2.0999999046325684, 2.1728005409240723, 2.200000047683716, 2.284987211227417, 2.299999952316284, 2.3547887802124023, 2.4000000953674316, 2.4733681678771973, 2.5, 2.565157651901245, 2.5999999046325684, 2.6890838146209717, 2.700000047683716, 2.7198426723480225, 2.799999952316284, 2.867554187774658, 2.9000000953674316, 2.920853853225708, 3.0, 3.0239405632019043, 3.0999999046325684, 3.1676111221313477, 3.200000047683716, 3.211963415145874, 3.299999952316284, 3.3844704627990723, 3.4000000953674316, 3.4622011184692383, 3.5, 3.554795026779175, 3.5999999046325684, 3.671685218811035, 3.700000047683716, 3.73748779296875, 3.799999952316284, 3.865652561187744, 3.9000000953674316, 3.9192099571228027, 4.0, 4.084066390991211, 4.099999904632568, 4.158729076385498, 4.199999809265137, 4.272372722625732, 4.300000190734863, 4.386022090911865, 4.400000095367432, 4.470683574676514, 4.5, 4.506294250488281, 4.569234848022461, 4.599999904632568, 4.672482490539551, 4.699999809265137, 4.770840644836426, 4.800000190734863, 4.82198429107666, 4.900000095367432, 4.979574203491211, 5.0, 5.06877326965332, 5.099999904632568, 5.151116847991943, 5.199999809265137, 5.2722697257995605, 5.300000190734863, 5.369469165802002, 5.400000095367432, 5.483098030090332, 5.5, 5.562383651733398, 5.599999904632568, 5.658735752105713, 5.699999809265137, 5.755016326904297, 5.800000190734863, 5.874978542327881, 5.900000095367432, 5.974559307098389, 6.0, 6.044132709503174, 6.099999904632568, 6.172296524047852, 6.199999809265137, 6.224587440490723, 6.300000190734863, 6.375296115875244, 6.400000095367432, 6.4479660987854, 6.5, 6.57800817489624, 6.599999904632568, 6.667474746704102, 6.699999809265137, 6.767991542816162, 6.800000190734863, 6.805825233459473, 6.864078521728516, 6.900000095367432, 6.9747772216796875, 7.0, 7.082576274871826, 7.099999904632568, 7.169906139373779, 7.199999809265137, 7.226663589477539, 7.300000190734863, 7.376476764678955, 7.400000095367432, 7.4787821769714355, 7.5, 7.572626113891602, 7.599999904632568, 7.642710208892822, 7.699999809265137, 7.723527431488037, 7.800000190734863, 7.870777606964111, 7.900000095367432, 7.966368675231934, 8.0, 8.06230354309082, 8.100000381469727, 8.159117698669434, 8.199999809265137, 8.272741317749023, 8.300000190734863, 8.319705963134766, 8.399999618530273, 8.46470832824707, 8.5, 8.583776473999023, 8.600000381469727, 8.665087699890137, 8.699999809265137, 8.764236450195312, 8.800000190734863, 8.85925006866455, 8.899999618530273, 8.957413673400879, 9.0, 9.05683422088623, 9.100000381469727, 9.182940483093262, 9.199999809265137, 9.28520679473877, 9.300000190734863, 9.371472358703613, 9.399999618530273, 9.44939136505127, 9.5, 9.57247543334961, 9.600000381469727, 9.67489242553711, 9.699999809265137, 9.71250057220459, 9.800000190734863, 9.875565528869629, 9.899999618530273, 9.980303764343262, 10.0, 10.056940078735352, 10.100000381469727, 10.184998512268066, 10.199999809265137, 10.275686264038086, 10.300000190734863, 10.378697395324707, 10.399999618530273, 10.47127914428711, 10.5, 10.557168960571289, 10.600000381469727, 10.671589851379395, 10.699999809265137, 10.721965789794922, 10.800000190734863, 10.86599349975586, 10.899999618530273, 10.960999488830566, 11.0, 11.019627571105957, 11.100000381469727, 11.157023429870605, 11.199999809265137, 11.257328987121582, 11.300000190734863, 11.369391441345215, 11.399999618530273, 11.459295272827148, 11.5, 11.562678337097168, 11.600000381469727, 11.624014854431152, 11.699999809265137, 11.77403450012207, 11.800000190734863, 11.872920036315918, 11.899999618530273, 11.977394104003906, 12.0, 12.069571495056152, 12.100000381469727, 12.168211936950684, 12.199999809265137, 12.203694343566895, 12.240639686584473, 12.300000190734863, 12.3859281539917, 12.399999618530273, 12.472079277038574, 12.5, 12.562301635742188, 12.600000381469727, 12.680155754089355, 12.699999809265137, 12.770523071289062, 12.800000190734863, 12.85719108581543, 12.899999618530273, 12.930166244506836, 13.0, 13.069273948669434, 13.100000381469727, 13.145578384399414, 13.199999809265137, 13.285567283630371, 13.300000190734863, 13.367044448852539, 13.399999618530273, 13.476973533630371, 13.5, 13.58492374420166, 13.600000381469727, 13.664250373840332, 13.699999809265137, 13.75830078125, 13.800000190734863, 13.86974811553955, 13.899999618530273, 13.92089557647705, 14.0, 14.078421592712402, 14.100000381469727, 14.174149513244629, 14.199999809265137, 14.26722240447998, 14.300000190734863, 14.359270095825195, 14.399999618530273, 14.458550453186035, 14.5, 14.578571319580078, 14.600000381469727, 14.676424980163574, 14.699999809265137, 14.782073020935059, 14.800000190734863, 14.872467041015625, 14.899999618530273, 14.961273193359375, 15.0, 15.076224327087402, 15.100000381469727, 15.143570899963379, 15.199999809265137, 15.271242141723633, 15.300000190734863, 15.369978904724121, 15.399999618530273, 15.466217041015625, 15.5, 15.510066986083984, 15.600000381469727, 15.685988426208496, 15.699999809265137, 15.772128105163574, 15.800000190734863, 15.88003921508789, 15.899999618530273, 15.976847648620605, 16.0, 16.034648895263672, 16.100000381469727, 16.171892166137695, 16.200000762939453, 16.264545440673828, 16.299999237060547, 16.361312866210938, 16.399999618530273, 16.474355697631836, 16.5, 16.556867599487305, 16.600000381469727, 16.66749382019043, 16.700000762939453, 16.7025089263916, 16.72759246826172, 16.799999237060547, 16.87470245361328, 16.899999618530273, 16.97186279296875, 17.0, 17.033214569091797, 17.100000381469727, 17.170286178588867, 17.200000762939453, 17.222158432006836, 17.299999237060547, 17.377880096435547, 17.399999618530273, 17.47115135192871, 17.5, 17.557395935058594, 17.600000381469727, 17.666156768798828, 17.700000762939453, 17.772329330444336, 17.799999237060547, 17.85724449157715, 17.899999618530273, 17.97611427307129, 18.0, 18.07202911376953, 18.100000381469727, 18.127662658691406, 18.200000762939453, 18.27050018310547, 18.299999237060547, 18.362764358520508, 18.399999618530273, 18.478778839111328, 18.5, 18.570301055908203, 18.600000381469727, 18.635623931884766, 18.700000762939453, 18.780860900878906, 18.799999237060547, 18.886024475097656, 18.899999618530273, 18.971729278564453, 19.0, 19.058340072631836, 19.100000381469727, 19.16367530822754, 19.200000762939453, 19.26548194885254, 19.299999237060547, 19.320589065551758, 19.399999618530273, 19.475305557250977, 19.5, 19.572202682495117, 19.600000381469727, 19.628259658813477, 19.700000762939453, 19.75962257385254, 19.799999237060547, 19.862266540527344, 19.899999618530273], \"y\": [-0.10000000149011612, -0.13057243824005127, -0.1370590329170227, -0.17014001309871674, -0.17790573835372925, -0.15896564722061157, -0.15389712154865265, -0.1643080711364746, -0.16779130697250366, -0.159477099776268, -0.15793541073799133, -0.12222059071063995, -0.11092507839202881, -0.10732768476009369, -0.10687781125307083, -0.05820527300238609, -0.03947769105434418, -0.05393914878368378, -0.05773370340466499, -0.0005100656417198479, 0.03450557589530945, 0.00048265434452332556, -0.02011246792972088, -0.01288375724107027, -0.010430822148919106, -0.01675713248550892, -0.01935211941599846, -0.0352385975420475, -0.043747954070568085, -0.07432401925325394, -0.08918475359678268, -0.04174717143177986, -0.022841699421405792, -0.024017104879021645, -0.02435256727039814, -0.01960684172809124, -0.018304934725165367, -0.024836750701069832, -0.026435213163495064, -0.02482936717569828, -0.024533051997423172, -0.04325162246823311, -0.052828285843133926, -0.030731432139873505, -0.022871334105730057, -0.025848396122455597, -0.02643578313291073, 0.011054647155106068, 0.04130694270133972, 0.024999601766467094, 0.019377121701836586, 0.0037662682589143515, -0.004332295618951321, -0.005578291602432728, -0.005738568026572466, 0.003063857788220048, 0.03793705254793167, 0.012205768376588821, 0.00026093461201526225, 0.0015418882248923182, 0.006327040493488312, -0.003289633197709918, -0.033244986087083817, -0.010690928436815739, -0.0002479218237567693, 0.0010200304677709937, 0.01018559280782938, 0.011072969995439053, 0.01126579474657774, -8.634124242234975e-05, -0.00680397218093276, -0.01707594282925129, -0.025490162894129753, -0.012359759770333767, -0.0073862201534211636, 0.0036714186426252127, 0.02173159457743168, 0.004846890456974506, -0.003716870443895459, -0.00969585869461298, -0.034480251371860504, -0.04484906420111656, -0.046898532658815384, 0.009022924117743969, 0.04737863317131996, 0.02571474015712738, 0.017814412713050842, 0.020643558353185654, 0.021147243678569794, 0.008988738059997559, 0.00413706386461854, 0.010721015743911266, 0.07569904625415802, 0.10709968209266663, 0.061938703060150146, 0.04561859369277954, 0.021043844521045685, 0.011334074661135674, -0.00531473383307457, -0.06325213611125946, -0.06071411073207855, -0.060334887355566025, -0.02267630770802498, -0.006186071317642927, -0.01559458114206791, -0.0245220884680748, -0.037820953875780106, -0.04299285262823105, -0.01706702448427677, -0.006087328307330608, -0.006034182850271463, -0.006043935194611549, -0.012583412230014801, -0.016516637057065964, 0.003928946331143379, 0.017953692004084587, -0.007734812796115875, -0.028275080025196075, -0.019487163051962852, -0.01673264428973198, -0.010709931142628193, -0.00876575242727995, 0.004192794673144817, 0.020250508561730385, 0.010245303623378277, 0.006573113612830639, 0.01654861867427826, 0.04673810675740242, 0.033696845173835754, 0.029704032465815544, -0.01242587435990572, -0.05714152380824089, -0.049477946013212204, -0.04759407415986061, -0.015322171151638031, -0.0002835823979694396, -0.0011238377774134278, -0.0015157536836341023, 0.0014159493148326874, 0.03034256398677826, 0.04794181138277054, 0.033003274351358414, 0.0282700564712286, 0.03741491958498955, 0.03941857069730759, 0.01620595157146454, 0.0065844119526445866, -0.0033852083142846823, -0.03026460111141205, -0.023653797805309296, -0.021788956597447395, -0.019217705354094505, -0.01862603798508644, -0.009865688160061836, -0.006708673667162657, 0.0033871594350785017, 0.01664632186293602, 0.040783993899822235, 0.1181996688246727, 0.05432356894016266, 0.028998391702771187, 0.007687805686146021, -0.002767430618405342, -0.006280313245952129, -0.008398213423788548, -0.019206266850233078, -0.026646967977285385, -0.01517160702496767, -0.011074884794652462, 0.005220396444201469, 0.07033856958150864, 0.014157071709632874, -0.015563210472464561, -0.020467327907681465, -0.021457336843013763, -0.004181377589702606, 0.004807616118341684, 0.009609009139239788, 0.012281340546905994, -0.0026839841157197952, -0.012732013128697872, 0.004840543027967215, 0.017582152038812637, -0.007189521100372076, -0.02558552473783493, -0.027598511427640915, -0.02809654362499714, -0.03254451975226402, -0.03339163586497307, -0.016242533922195435, -0.009679919108748436, 0.004529439378529787, 0.018776847049593925, 0.009928985498845577, 0.006717062089592218, 0.0040089101530611515, 0.0031468025408685207, 0.008336086757481098, 0.044094111770391464, 0.03307964652776718, 0.029783543199300766, 0.029106702655553818, 0.02906339056789875, -0.01070875022560358, -0.04010995477437973, -0.046729616820812225, -0.04800708219408989, -0.03649840131402016, -0.03308556228876114, -0.029721716418862343, -0.02896467223763466, -0.013438242487609386, -0.00743165472522378, -0.018510106950998306, -0.02675572969019413, -0.012796808034181595, -0.007482157088816166, 0.00375979277305305, 0.04291853308677673, 0.010985756292939186, -0.004953397903591394, 0.0010137537028640509, 0.004736969713121653, -0.0026625527534633875, -0.03238058462738991, 0.011521400883793831, 0.04385947436094284, 0.10217641294002533, 0.14534810185432434, 0.058760788291692734, 0.021982388570904732, -0.003827087115496397, -0.021116843447089195, -0.0012832364300265908, 0.010204246267676353, -0.00484941340982914, -0.05155157297849655, -0.03480764478445053, -0.029285216704010963, -0.017181389033794403, -0.012906471267342567, -0.010379237122833729, -0.009709782898426056, -0.016180511564016342, -0.019033236429095268, -0.006306147202849388, -0.000576671096496284, 0.0010998612269759178, 0.01771460846066475, 0.04401886835694313, 0.05616975948214531, 0.05826248228549957, 0.03211306780576706, 0.022449754178524017, 0.04436246678233147, 0.05761974677443504, 0.05745967477560043, 0.057661186903715134, 0.026468049734830856, 0.013955316506326199, -0.005481918808072805, -0.01970682479441166, 0.008636933751404285, 0.072944276034832, 0.02890990488231182, 0.010105791501700878, -0.004712841939181089, -0.022036248818039894, -0.02836409956216812, -0.029487600550055504, -0.05082648620009422, -0.06138890981674194, -0.05265215411782265, -0.05036886781454086, -0.05941015109419823, -0.06115468591451645, -0.01077277585864067, 0.016433006152510643, -0.004532983060926199, -0.01918051950633526, -0.007482012268155813, -0.0025937643367797136, -0.007004956714808941, -0.02347271516919136, -0.02082069218158722, -0.02020389772951603, -0.013103567063808441, -0.010766665451228619, -0.018904654309153557, -0.022891631349921227, 0.003986760973930359, 0.02201106771826744, -0.005188266281038523, -0.02398940734565258, -0.021279960870742798, -0.020654480904340744, -0.029740696772933006, -0.03260567784309387, -0.04335512965917587, -0.04579049348831177, -0.025345735251903534, -0.017931153997778893, 0.0006877616979181767, 0.012152717448771, 0.008738352917134762, 0.007744478061795235, 0.01933974027633667, 0.03421580791473389, 0.01581120677292347, 0.008677136152982712, 0.0031357344705611467, 0.0008423746912740171, 0.0021867582108825445, 0.0028690118342638016, -0.0019337633857503533, -0.04404594376683235, -0.051820605993270874, -0.05319405347108841, -0.028119349852204323, -0.018851133063435555, -0.02582094818353653, -0.027609970420598984, -0.021531587466597557, -0.019848568364977837, -0.048447731882333755, -0.10177305340766907, -0.051342204213142395, -0.032438360154628754, -0.005811620969325304, 0.008387766778469086, 0.017721109092235565, 0.02358526922762394, 0.014572271145880222, 0.011620594188570976, 0.028551584109663963, 0.041297946125268936, 0.013227611780166626, 0.0001537710049888119, 0.0013164427364245057, 0.012869695201516151, 0.04568914324045181, 0.030537592247128487, 0.0256985854357481, 0.012311477214097977, 0.0072815692983567715, 0.018238510936498642, 0.0400102362036705, 0.01696969009935856, 0.00759434187784791, -0.0038044126704335213, -0.04306448623538017, -0.03634720668196678, -0.03464976325631142, -0.015599323436617851, -0.008173706009984016, 0.0035839008633047342, 0.012116935104131699, 0.021772027015686035, 0.02672143094241619, 0.01370700541883707, 0.008939086459577084, 0.02192799001932144, 0.03156346455216408, 0.023625195026397705, 0.021314891055226326, 0.010473070666193962, 0.0064369672909379005, 0.016217024996876717, 0.04146680608391762, 0.017910834401845932, 0.008429868146777153, 0.016978776082396507, 0.022043006494641304, 0.030648717656731606, 0.033031415194272995, 0.013935297727584839, 0.006173104979097843, -0.0031962431967258453, -0.019783644005656242, -0.026812730357050896, -0.02853185310959816, -0.03357342630624771, -0.03446225821971893, -0.01714055985212326, -0.010597865097224712, -0.02465502731502056, -0.03463732823729515, -0.004659106954932213, 0.011956126429140568, 0.002225143602117896, -0.002752210944890976, -0.007383812218904495, -0.024990564212203026, -0.017500562593340874, -0.01519802212715149, -0.007304724771529436, -0.004389397334307432, -0.011299668811261654, -0.02861734665930271, 0.003914463799446821, 0.025404084473848343, 0.0010754415998235345, -0.013272427022457123]}, {\"name\": \"adversarial\", \"type\": \"scatter\", \"x\": [0.0, 0.06201885640621185, 0.10000000149011612, 0.16295067965984344, 0.20000000298023224, 0.2651435136795044, 0.30000001192092896, 0.37552109360694885, 0.4000000059604645, 0.4795045256614685, 0.5, 0.5761801600456238, 0.6000000238418579, 0.67319655418396, 0.699999988079071, 0.7722705602645874, 0.800000011920929, 0.8701767921447754, 0.8999999761581421, 0.9694509506225586, 1.0, 1.0699384212493896, 1.100000023841858, 1.1688106060028076, 1.2000000476837158, 1.2692842483520508, 1.2999999523162842, 1.3668164014816284, 1.399999976158142, 1.4663766622543335, 1.5, 1.5666378736495972, 1.600000023841858, 1.6664637327194214, 1.7000000476837158, 1.7686421871185303, 1.7999999523162842, 1.8671879768371582, 1.899999976158142, 1.967604637145996, 2.0, 2.0678906440734863, 2.0999999046325684, 2.167046308517456, 2.200000047683716, 2.2678020000457764, 2.299999952316284, 2.365792989730835, 2.4000000953674316, 2.467099905014038, 2.5, 2.56907320022583, 2.5999999046325684, 2.66658616065979, 2.700000047683716, 2.766127109527588, 2.799999952316284, 2.8653883934020996, 2.9000000953674316, 2.9729220867156982, 3.0, 3.0661416053771973, 3.0999999046325684, 3.17219877243042, 3.200000047683716, 3.2655489444732666, 3.299999952316284, 3.3654072284698486, 3.4000000953674316, 3.4644691944122314, 3.5, 3.5594699382781982, 3.5999999046325684, 3.6678972244262695, 3.700000047683716, 3.7577099800109863, 3.799999952316284, 3.8670217990875244, 3.9000000953674316, 3.9653773307800293, 4.0, 4.068336009979248, 4.099999904632568, 4.169872760772705, 4.199999809265137, 4.263643741607666, 4.300000190734863, 4.311933517456055, 4.400000095367432, 4.464666843414307, 4.5, 4.564746856689453, 4.599999904632568, 4.671459197998047, 4.699999809265137, 4.764030933380127, 4.800000190734863, 4.841531753540039, 4.900000095367432, 4.960749626159668, 5.0, 5.063933849334717, 5.099999904632568, 5.110419750213623, 5.199999809265137, 5.258487224578857, 5.300000190734863, 5.364974021911621, 5.400000095367432, 5.461488723754883, 5.5, 5.532402038574219, 5.599999904632568, 5.6658759117126465, 5.699999809265137, 5.766585350036621, 5.800000190734863, 5.865426540374756, 5.900000095367432, 5.963480472564697, 6.0, 6.0245561599731445, 6.099999904632568, 6.167702674865723, 6.199999809265137, 6.266411781311035, 6.300000190734863, 6.37002420425415, 6.400000095367432, 6.472795486450195, 6.5, 6.564716339111328, 6.599999904632568, 6.671746253967285, 6.699999809265137, 6.763409614562988, 6.800000190734863, 6.807668685913086, 6.8843536376953125, 6.900000095367432, 6.962700843811035, 7.0, 7.012902736663818, 7.099999904632568, 7.142503261566162, 7.199999809265137, 7.2631425857543945, 7.300000190734863, 7.363093852996826, 7.400000095367432, 7.465997219085693, 7.5, 7.5662689208984375, 7.599999904632568, 7.653352737426758, 7.699999809265137, 7.762296199798584, 7.800000190734863, 7.813230037689209, 7.900000095367432, 7.967848300933838, 8.0, 8.068998336791992, 8.100000381469727, 8.164722442626953, 8.199999809265137, 8.269637107849121, 8.300000190734863, 8.365370750427246, 8.399999618530273, 8.446677207946777, 8.5, 8.562264442443848, 8.600000381469727, 8.622038841247559, 8.699999809265137, 8.768952369689941, 8.800000190734863, 8.859123229980469, 8.899999618530273, 8.972672462463379, 9.0, 9.06333065032959, 9.100000381469727, 9.161154747009277, 9.199999809265137, 9.217203140258789, 9.300000190734863, 9.36803913116455, 9.399999618530273, 9.457621574401855, 9.5, 9.566890716552734, 9.600000381469727, 9.667407035827637, 9.699999809265137, 9.766593933105469, 9.800000190734863, 9.867169380187988, 9.899999618530273, 9.964950561523438, 10.0, 10.072144508361816, 10.100000381469727, 10.171260833740234, 10.199999809265137, 10.265137672424316, 10.300000190734863, 10.357185363769531, 10.399999618530273, 10.464545249938965, 10.5, 10.562446594238281, 10.600000381469727, 10.605759620666504, 10.66335391998291, 10.699999809265137, 10.76800537109375, 10.800000190734863, 10.862890243530273, 10.899999618530273, 10.965279579162598, 11.0, 11.001443862915039, 11.01588249206543, 11.100000381469727, 11.168928146362305, 11.199999809265137, 11.266880989074707, 11.300000190734863, 11.363210678100586, 11.399999618530273, 11.468513488769531, 11.5, 11.567090034484863, 11.600000381469727, 11.667669296264648, 11.699999809265137, 11.773171424865723, 11.800000190734863, 11.865850448608398, 11.899999618530273, 11.957515716552734, 12.0, 12.059511184692383, 12.100000381469727, 12.1694917678833, 12.199999809265137, 12.25930118560791, 12.300000190734863, 12.362467765808105, 12.399999618530273, 12.408293724060059, 12.491233825683594, 12.5, 12.563857078552246, 12.600000381469727, 12.657286643981934, 12.699999809265137, 12.761487007141113, 12.800000190734863, 12.868453025817871, 12.899999618530273, 12.968823432922363, 13.0, 13.066006660461426, 13.100000381469727, 13.125144004821777, 13.199999809265137, 13.262735366821289, 13.300000190734863, 13.304512977600098, 13.34964656829834, 13.399999618530273, 13.454153060913086, 13.5, 13.56445026397705, 13.600000381469727, 13.656844139099121, 13.699999809265137, 13.760885238647461, 13.800000190734863, 13.87342357635498, 13.899999618530273, 13.947535514831543, 14.0, 14.06948471069336, 14.100000381469727, 14.163339614868164, 14.199999809265137, 14.22107982635498, 14.300000190734863, 14.373096466064453, 14.399999618530273, 14.463090896606445, 14.5, 14.531155586242676, 14.600000381469727, 14.66707706451416, 14.699999809265137, 14.76762580871582, 14.800000190734863, 14.869494438171387, 14.899999618530273, 14.962676048278809, 15.0, 15.00320816040039, 15.03528881072998, 15.100000381469727, 15.163362503051758, 15.199999809265137, 15.225363731384277, 15.300000190734863, 15.367012977600098, 15.399999618530273, 15.427433967590332, 15.5, 15.570591926574707, 15.600000381469727, 15.664867401123047, 15.699999809265137, 15.762341499328613, 15.800000190734863, 15.824024200439453, 15.899999618530273, 15.937361717224121, 16.0, 16.073646545410156, 16.100000381469727, 16.163423538208008, 16.200000762939453, 16.261259078979492, 16.299999237060547, 16.370738983154297, 16.399999618530273, 16.464439392089844, 16.5, 16.573387145996094, 16.600000381469727, 16.661239624023438, 16.700000762939453, 16.755661010742188, 16.799999237060547, 16.8717041015625, 16.899999618530273, 16.969829559326172, 17.0, 17.05986213684082, 17.100000381469727, 17.1621150970459, 17.200000762939453, 17.21989631652832, 17.299999237060547, 17.366823196411133, 17.399999618530273, 17.46307945251465, 17.5, 17.514204025268555, 17.600000381469727, 17.65956687927246, 17.700000762939453, 17.769365310668945, 17.799999237060547, 17.86854362487793, 17.899999618530273, 17.961809158325195, 18.0, 18.0283203125, 18.100000381469727, 18.151334762573242, 18.200000762939453, 18.264101028442383, 18.299999237060547, 18.360416412353516, 18.399999618530273, 18.46085548400879, 18.5, 18.52875328063965, 18.600000381469727, 18.6679630279541, 18.700000762939453, 18.764739990234375, 18.799999237060547, 18.846769332885742, 18.899999618530273, 18.96803855895996, 19.0, 19.067293167114258, 19.100000381469727, 19.163619995117188, 19.200000762939453, 19.259763717651367, 19.299999237060547, 19.368017196655273, 19.399999618530273, 19.456737518310547, 19.5, 19.56565284729004, 19.600000381469727, 19.673391342163086, 19.700000762939453, 19.768566131591797, 19.799999237060547, 19.86610984802246, 19.899999618530273], \"y\": [2.1415927410125732, 2.138338088989258, 2.1391947269439697, 2.14383864402771, 2.1479408740997314, 2.159264087677002, 2.167975902557373, 2.1934986114501953, 2.2038021087646484, 2.2429702281951904, 2.25445818901062, 2.300889015197754, 2.3166136741638184, 2.3663270473480225, 2.384936571121216, 2.4360718727111816, 2.4561991691589355, 2.5055007934570312, 2.5254335403442383, 2.569316864013672, 2.5876169204711914, 2.629183053970337, 2.6474103927612305, 2.6883316040039062, 2.706355571746826, 2.7467310428619385, 2.765218734741211, 2.8022570610046387, 2.8181850910186768, 2.845442295074463, 2.8570828437805176, 2.8770344257354736, 2.885826349258423, 2.90116024017334, 2.907900333404541, 2.9213967323303223, 2.9278550148010254, 2.9413132667541504, 2.947531223297119, 2.9598939418792725, 2.9657163619995117, 2.9778430461883545, 2.98362135887146, 2.9952125549316406, 3.0005927085876465, 3.0114338397979736, 3.0166115760803223, 3.02608323097229, 3.030165195465088, 3.037348508834839, 3.0407004356384277, 3.048036575317383, 3.051614999771118, 3.0590171813964844, 3.0623958110809326, 3.0682990550994873, 3.0709118843078613, 3.0750648975372314, 3.0767757892608643, 3.0809125900268555, 3.0829050540924072, 3.0876071453094482, 3.089686155319214, 3.095057249069214, 3.097761392593384, 3.1037352085113525, 3.1062631607055664, 3.110100030899048, 3.111685276031494, 3.113844156265259, 3.1146042346954346, 3.115028142929077, 3.1146373748779297, 3.1135623455047607, 3.1130707263946533, 3.111593723297119, 3.1097445487976074, 3.106462240219116, 3.104944944381714, 3.102405071258545, 3.101374626159668, 3.0995309352874756, 3.0986571311950684, 3.0965540409088135, 3.0955402851104736, 3.093886613845825, 3.093426465988159, 3.093402624130249, 3.0976099967956543, 3.102489471435547, 3.104332685470581, 3.106691360473633, 3.107567310333252, 3.1095027923583984, 3.1105282306671143, 3.1124372482299805, 3.113042116165161, 3.1131808757781982, 3.1121268272399902, 3.1111416816711426, 3.1114017963409424, 3.1121270656585693, 3.112314224243164, 3.1123197078704834, 3.1102094650268555, 3.109175443649292, 3.110349416732788, 3.1129066944122314, 3.113893747329712, 3.114771842956543, 3.1146981716156006, 3.1142430305480957, 3.1120355129241943, 3.109387159347534, 3.1082561016082764, 3.106363296508789, 3.1055235862731934, 3.104184865951538, 3.1036603450775146, 3.1030657291412354, 3.1029508113861084, 3.1029012203216553, 3.1024181842803955, 3.1015126705169678, 3.1009016036987305, 3.0996649265289307, 3.0991361141204834, 3.098024606704712, 3.0974996089935303, 3.0959343910217285, 3.0952138900756836, 3.093755006790161, 3.093235969543457, 3.0922536849975586, 3.0917983055114746, 3.0910463333129883, 3.0908899307250977, 3.0908894538879395, 3.092146396636963, 3.092684030532837, 3.0942885875701904, 3.0945637226104736, 3.0945611000061035, 3.093899726867676, 3.093736171722412, 3.094872236251831, 3.096364736557007, 3.0966968536376953, 3.0970711708068848, 3.0974173545837402, 3.0984127521514893, 3.0991573333740234, 3.1005961894989014, 3.1012110710144043, 3.102795124053955, 3.1052820682525635, 3.1079585552215576, 3.1083180904388428, 3.1082515716552734, 3.106308698654175, 3.1037962436676025, 3.1026079654693604, 3.09993577003479, 3.098644971847534, 3.0963833332061768, 3.0955493450164795, 3.0940845012664795, 3.093385696411133, 3.09208083152771, 3.0915746688842773, 3.0914103984832764, 3.0922770500183105, 3.09334659576416, 3.0934348106384277, 3.093308925628662, 3.091952323913574, 3.0900580883026123, 3.089151382446289, 3.08842396736145, 3.089111804962158, 3.0917491912841797, 3.0930418968200684, 3.0953829288482666, 3.09598970413208, 3.09626841545105, 3.0961501598358154, 3.0961263179779053, 3.0981810092926025, 3.1013429164886475, 3.1028530597686768, 3.107407569885254, 3.1130833625793457, 3.123128890991211, 3.1278183460235596, 3.1370317935943604, 3.141418695449829, 3.1498165130615234, 3.1536755561828613, 3.1609842777252197, 3.1644275188446045, 3.170130968093872, 3.17238712310791, 3.1772279739379883, 3.17952299118042, 3.186652660369873, 3.190096378326416, 3.1971070766448975, 3.1999528408050537, 3.2013750076293945, 3.1988840103149414, 3.193959951400757, 3.192138195037842, 3.190340042114258, 3.1900863647460938, 3.190101385116577, 3.1910831928253174, 3.192492723464966, 3.1956732273101807, 3.197190284729004, 3.199303150177002, 3.1997389793395996, 3.1999082565307617, 3.19993257522583, 3.1999335289001465, 3.200026035308838, 3.2035787105560303, 3.208836793899536, 3.211398124694824, 3.216763973236084, 3.219244956970215, 3.222635507583618, 3.2234957218170166, 3.2246651649475098, 3.225412368774414, 3.227043390274048, 3.2277796268463135, 3.22920560836792, 3.229860544204712, 3.231722593307495, 3.232609272003174, 3.2346434593200684, 3.2354955673217773, 3.2359418869018555, 3.2351582050323486, 3.2344095706939697, 3.235025644302368, 3.236959218978882, 3.237886667251587, 3.23866605758667, 3.2379791736602783, 3.2367897033691406, 3.236650228500366, 3.2366514205932617, 3.235107898712158, 3.2347795963287354, 3.2328743934631348, 3.232304811477661, 3.231234550476074, 3.229849338531494, 3.228445053100586, 3.228512763977051, 3.2292492389678955, 3.229581117630005, 3.230297088623047, 3.230621814727783, 3.231200695037842, 3.231416940689087, 3.231449604034424, 3.2302801609039307, 3.229081630706787, 3.228893756866455, 3.228896379470825, 3.2291817665100098, 3.2300548553466797, 3.230414867401123, 3.229344606399536, 3.2274463176727295, 3.226792335510254, 3.226553201675415, 3.2271525859832764, 3.2278475761413574, 3.227653980255127, 3.226667881011963, 3.226226806640625, 3.2259936332702637, 3.2271032333374023, 3.229666233062744, 3.2309038639068604, 3.23283314704895, 3.2333173751831055, 3.233353853225708, 3.23150634765625, 3.2276721000671387, 3.2259020805358887, 3.2227413654327393, 3.221986770629883, 3.2219066619873047, 3.223317861557007, 3.225620746612549, 3.2266740798950195, 3.228736639022827, 3.2296969890594482, 3.231873035430908, 3.232919931411743, 3.2344253063201904, 3.234668254852295, 3.2346668243408203, 3.2344486713409424, 3.2328827381134033, 3.231233835220337, 3.230825901031494, 3.2307910919189453, 3.231994390487671, 3.233823776245117, 3.234649896621704, 3.23483943939209, 3.230757236480713, 3.2226879596710205, 3.218761920928955, 3.2111685276031494, 3.2081961631774902, 3.2051079273223877, 3.204665422439575, 3.2046711444854736, 3.204106092453003, 3.2039713859558105, 3.205341339111328, 3.2088253498077393, 3.2104296684265137, 3.213470458984375, 3.2143030166625977, 3.2156128883361816, 3.2169229984283447, 3.219991683959961, 3.221471071243286, 3.2242045402526855, 3.2251696586608887, 3.2271296977996826, 3.228020668029785, 3.2292637825012207, 3.229121685028076, 3.228925943374634, 3.229496717453003, 3.231147050857544, 3.2319231033325195, 3.2340807914733887, 3.235119104385376, 3.236104726791382, 3.235508918762207, 3.2344419956207275, 3.2343857288360596, 3.234403610229492, 3.233116865158081, 3.231281280517578, 3.2304604053497314, 3.2294092178344727, 3.2292070388793945, 3.2292065620422363, 3.230060338973999, 3.2305212020874023, 3.2301173210144043, 3.2288875579833984, 3.228306770324707, 3.226970672607422, 3.226344108581543, 3.2256014347076416, 3.22563099861145, 3.2256672382354736, 3.224691390991211, 3.222548007965088, 3.2188453674316406, 3.214141368865967, 3.212550401687622, 3.2114949226379395, 3.2118844985961914, 3.2125370502471924, 3.2123444080352783, 3.2122609615325928, 3.2140257358551025, 3.217026948928833, 3.2184536457061768, 3.2208313941955566, 3.2217094898223877, 3.221987724304199, 3.220621347427368, 3.216749906539917, 3.214228868484497, 3.2086150646209717, 3.205972909927368, 3.202101230621338, 3.20095157623291, 3.2003965377807617, 3.200819492340088, 3.202040672302246, 3.2026047706604004, 3.2043261528015137, 3.2066171169281006, 3.210239887237549, 3.2117679119110107, 3.2154693603515625, 3.217165231704712, 3.221924304962158, 3.224229097366333, 3.2287046909332275, 3.2306721210479736]}, {\"name\": \"adversarial\", \"type\": \"scatter\", \"x\": [0.0, 0.06201885640621185, 0.10000000149011612, 0.16295067965984344, 0.20000000298023224, 0.2651435136795044, 0.30000001192092896, 0.37552109360694885, 0.4000000059604645, 0.4795045256614685, 0.5, 0.5761801600456238, 0.6000000238418579, 0.67319655418396, 0.699999988079071, 0.7722705602645874, 0.800000011920929, 0.8701767921447754, 0.8999999761581421, 0.9694509506225586, 1.0, 1.0699384212493896, 1.100000023841858, 1.1688106060028076, 1.2000000476837158, 1.2692842483520508, 1.2999999523162842, 1.3668164014816284, 1.399999976158142, 1.4663766622543335, 1.5, 1.5666378736495972, 1.600000023841858, 1.6664637327194214, 1.7000000476837158, 1.7686421871185303, 1.7999999523162842, 1.8671879768371582, 1.899999976158142, 1.967604637145996, 2.0, 2.0678906440734863, 2.0999999046325684, 2.167046308517456, 2.200000047683716, 2.2678020000457764, 2.299999952316284, 2.365792989730835, 2.4000000953674316, 2.467099905014038, 2.5, 2.56907320022583, 2.5999999046325684, 2.66658616065979, 2.700000047683716, 2.766127109527588, 2.799999952316284, 2.8653883934020996, 2.9000000953674316, 2.9729220867156982, 3.0, 3.0661416053771973, 3.0999999046325684, 3.17219877243042, 3.200000047683716, 3.2655489444732666, 3.299999952316284, 3.3654072284698486, 3.4000000953674316, 3.4644691944122314, 3.5, 3.5594699382781982, 3.5999999046325684, 3.6678972244262695, 3.700000047683716, 3.7577099800109863, 3.799999952316284, 3.8670217990875244, 3.9000000953674316, 3.9653773307800293, 4.0, 4.068336009979248, 4.099999904632568, 4.169872760772705, 4.199999809265137, 4.263643741607666, 4.300000190734863, 4.311933517456055, 4.400000095367432, 4.464666843414307, 4.5, 4.564746856689453, 4.599999904632568, 4.671459197998047, 4.699999809265137, 4.764030933380127, 4.800000190734863, 4.841531753540039, 4.900000095367432, 4.960749626159668, 5.0, 5.063933849334717, 5.099999904632568, 5.110419750213623, 5.199999809265137, 5.258487224578857, 5.300000190734863, 5.364974021911621, 5.400000095367432, 5.461488723754883, 5.5, 5.532402038574219, 5.599999904632568, 5.6658759117126465, 5.699999809265137, 5.766585350036621, 5.800000190734863, 5.865426540374756, 5.900000095367432, 5.963480472564697, 6.0, 6.0245561599731445, 6.099999904632568, 6.167702674865723, 6.199999809265137, 6.266411781311035, 6.300000190734863, 6.37002420425415, 6.400000095367432, 6.472795486450195, 6.5, 6.564716339111328, 6.599999904632568, 6.671746253967285, 6.699999809265137, 6.763409614562988, 6.800000190734863, 6.807668685913086, 6.8843536376953125, 6.900000095367432, 6.962700843811035, 7.0, 7.012902736663818, 7.099999904632568, 7.142503261566162, 7.199999809265137, 7.2631425857543945, 7.300000190734863, 7.363093852996826, 7.400000095367432, 7.465997219085693, 7.5, 7.5662689208984375, 7.599999904632568, 7.653352737426758, 7.699999809265137, 7.762296199798584, 7.800000190734863, 7.813230037689209, 7.900000095367432, 7.967848300933838, 8.0, 8.068998336791992, 8.100000381469727, 8.164722442626953, 8.199999809265137, 8.269637107849121, 8.300000190734863, 8.365370750427246, 8.399999618530273, 8.446677207946777, 8.5, 8.562264442443848, 8.600000381469727, 8.622038841247559, 8.699999809265137, 8.768952369689941, 8.800000190734863, 8.859123229980469, 8.899999618530273, 8.972672462463379, 9.0, 9.06333065032959, 9.100000381469727, 9.161154747009277, 9.199999809265137, 9.217203140258789, 9.300000190734863, 9.36803913116455, 9.399999618530273, 9.457621574401855, 9.5, 9.566890716552734, 9.600000381469727, 9.667407035827637, 9.699999809265137, 9.766593933105469, 9.800000190734863, 9.867169380187988, 9.899999618530273, 9.964950561523438, 10.0, 10.072144508361816, 10.100000381469727, 10.171260833740234, 10.199999809265137, 10.265137672424316, 10.300000190734863, 10.357185363769531, 10.399999618530273, 10.464545249938965, 10.5, 10.562446594238281, 10.600000381469727, 10.605759620666504, 10.66335391998291, 10.699999809265137, 10.76800537109375, 10.800000190734863, 10.862890243530273, 10.899999618530273, 10.965279579162598, 11.0, 11.001443862915039, 11.01588249206543, 11.100000381469727, 11.168928146362305, 11.199999809265137, 11.266880989074707, 11.300000190734863, 11.363210678100586, 11.399999618530273, 11.468513488769531, 11.5, 11.567090034484863, 11.600000381469727, 11.667669296264648, 11.699999809265137, 11.773171424865723, 11.800000190734863, 11.865850448608398, 11.899999618530273, 11.957515716552734, 12.0, 12.059511184692383, 12.100000381469727, 12.1694917678833, 12.199999809265137, 12.25930118560791, 12.300000190734863, 12.362467765808105, 12.399999618530273, 12.408293724060059, 12.491233825683594, 12.5, 12.563857078552246, 12.600000381469727, 12.657286643981934, 12.699999809265137, 12.761487007141113, 12.800000190734863, 12.868453025817871, 12.899999618530273, 12.968823432922363, 13.0, 13.066006660461426, 13.100000381469727, 13.125144004821777, 13.199999809265137, 13.262735366821289, 13.300000190734863, 13.304512977600098, 13.34964656829834, 13.399999618530273, 13.454153060913086, 13.5, 13.56445026397705, 13.600000381469727, 13.656844139099121, 13.699999809265137, 13.760885238647461, 13.800000190734863, 13.87342357635498, 13.899999618530273, 13.947535514831543, 14.0, 14.06948471069336, 14.100000381469727, 14.163339614868164, 14.199999809265137, 14.22107982635498, 14.300000190734863, 14.373096466064453, 14.399999618530273, 14.463090896606445, 14.5, 14.531155586242676, 14.600000381469727, 14.66707706451416, 14.699999809265137, 14.76762580871582, 14.800000190734863, 14.869494438171387, 14.899999618530273, 14.962676048278809, 15.0, 15.00320816040039, 15.03528881072998, 15.100000381469727, 15.163362503051758, 15.199999809265137, 15.225363731384277, 15.300000190734863, 15.367012977600098, 15.399999618530273, 15.427433967590332, 15.5, 15.570591926574707, 15.600000381469727, 15.664867401123047, 15.699999809265137, 15.762341499328613, 15.800000190734863, 15.824024200439453, 15.899999618530273, 15.937361717224121, 16.0, 16.073646545410156, 16.100000381469727, 16.163423538208008, 16.200000762939453, 16.261259078979492, 16.299999237060547, 16.370738983154297, 16.399999618530273, 16.464439392089844, 16.5, 16.573387145996094, 16.600000381469727, 16.661239624023438, 16.700000762939453, 16.755661010742188, 16.799999237060547, 16.8717041015625, 16.899999618530273, 16.969829559326172, 17.0, 17.05986213684082, 17.100000381469727, 17.1621150970459, 17.200000762939453, 17.21989631652832, 17.299999237060547, 17.366823196411133, 17.399999618530273, 17.46307945251465, 17.5, 17.514204025268555, 17.600000381469727, 17.65956687927246, 17.700000762939453, 17.769365310668945, 17.799999237060547, 17.86854362487793, 17.899999618530273, 17.961809158325195, 18.0, 18.0283203125, 18.100000381469727, 18.151334762573242, 18.200000762939453, 18.264101028442383, 18.299999237060547, 18.360416412353516, 18.399999618530273, 18.46085548400879, 18.5, 18.52875328063965, 18.600000381469727, 18.6679630279541, 18.700000762939453, 18.764739990234375, 18.799999237060547, 18.846769332885742, 18.899999618530273, 18.96803855895996, 19.0, 19.067293167114258, 19.100000381469727, 19.163619995117188, 19.200000762939453, 19.259763717651367, 19.299999237060547, 19.368017196655273, 19.399999618530273, 19.456737518310547, 19.5, 19.56565284729004, 19.600000381469727, 19.673391342163086, 19.700000762939453, 19.768566131591797, 19.799999237060547, 19.86610984802246, 19.899999618530273], \"y\": [-0.10000000149011612, -0.005620355252176523, 0.05057564750313759, 0.09698505699634552, 0.12450715154409409, 0.22325663268566132, 0.27673816680908203, 0.40019741654396057, 0.4417850971221924, 0.5459204912185669, 0.5752820372581482, 0.6469937562942505, 0.6736611127853394, 0.6887407302856445, 0.7004213333129883, 0.7190657258033752, 0.7332941293716431, 0.6765690445899963, 0.6609914302825928, 0.6071667671203613, 0.5917145013809204, 0.6009767055511475, 0.6124337315559387, 0.5812311768531799, 0.5753819346427917, 0.5941931009292603, 0.6104171872138977, 0.5026322603225708, 0.458298921585083, 0.36631670594215393, 0.3268072009086609, 0.274383544921875, 0.2531984746456146, 0.2100771814584732, 0.1922815889120102, 0.20237348973751068, 0.20984230935573578, 0.19231989979743958, 0.1870155930519104, 0.1801002472639084, 0.1796663999557495, 0.17890769243240356, 0.18130531907081604, 0.16580091416835785, 0.1610284149646759, 0.15995468199253082, 0.1619342863559723, 0.12718521058559418, 0.11174950003623962, 0.10318990051746368, 0.10075557231903076, 0.11242102831602097, 0.11916052550077438, 0.10405401140451431, 0.0983797013759613, 0.08089615404605865, 0.07353197038173676, 0.05404652655124664, 0.04494234919548035, 0.06886231899261475, 0.07836160063743591, 0.06440476328134537, 0.058528680354356766, 0.09070156514644623, 0.10391661524772644, 0.07912683486938477, 0.06780452281236649, 0.05002777650952339, 0.04174279049038887, 0.025540005415678024, 0.017311662435531616, -0.0029075678903609514, -0.016362624242901802, -0.015424033626914024, -0.01523360051214695, -0.03599388524889946, -0.05153195187449455, -0.046803075820207596, -0.045293889939785004, -0.032748833298683167, -0.026851024478673935, -0.02730700373649597, -0.027930444106459618, -0.03248145058751106, -0.03485646843910217, -0.01737789995968342, -0.007989291101694107, 0.003996436018496752, 0.09151770919561386, 0.060070451349020004, 0.044420965015888214, 0.028771713376045227, 0.020992908626794815, 0.03332982957363129, 0.03856237232685089, 0.021355710923671722, 0.01234424114227295, -0.005590386223047972, -0.030442560091614723, -0.0022293729707598686, 0.015443920157849789, 0.007355991285294294, 0.0030549790244549513, -0.0020070383325219154, -0.04509298875927925, 0.009364048019051552, 0.047145843505859375, 0.03192967176437378, 0.024510595947504044, 0.004235668573528528, -0.008023659698665142, -0.02006090059876442, -0.04535391926765442, -0.0353902243077755, -0.030967634171247482, -0.02612304873764515, -0.024187572300434113, -0.0169135220348835, -0.013466743752360344, -0.005372082348912954, -0.0009454214596189559, -0.00309951975941658, -0.009721856564283371, -0.017088256776332855, -0.02076302282512188, -0.01663965731859207, -0.014887284487485886, -0.01697090081870556, -0.018081359565258026, -0.025065604597330093, -0.027922185137867928, -0.017375320196151733, -0.012090972624719143, -0.015391255728900433, -0.01686018332839012, -0.006987290922552347, -0.001578988623805344, 0.001438315724954009, 0.03131037577986717, 0.037430163472890854, 0.014035078696906567, 0.0007714391103945673, -0.0011538416147232056, -0.014033379033207893, 0.006248145364224911, 0.03324694186449051, 0.014282249845564365, 0.0037869729567319155, 0.008092976175248623, 0.010683669708669186, 0.019538527354598045, 0.024286489933729172, 0.019321046769618988, 0.017184745520353317, 0.04222290217876434, 0.06450527906417847, 0.02191120944917202, -0.0027302298694849014, -0.007340301293879747, -0.037496812641620636, -0.036850884556770325, -0.03712784871459007, -0.04060593619942665, -0.042730025947093964, -0.027477696537971497, -0.019878055900335312, -0.022345781326293945, -0.023716818541288376, -0.016382675617933273, -0.012887101620435715, 0.0057656532153487206, 0.026720033958554268, 0.007842473685741425, -0.0031276182271540165, -0.008288363926112652, -0.026570970192551613, -0.028574224561452866, -0.029877834022045135, 0.005030480679124594, 0.02859889715909958, 0.044198568910360336, 0.05046162009239197, 0.023850934579968452, 0.009312611073255539, -0.00012163616338511929, -0.0059472182765603065, 0.003152788383886218, 0.04645843058824539, 0.04683821648359299, 0.04773600026965141, 0.11046962440013885, 0.15762510895729065, 0.14390617609024048, 0.1396285593509674, 0.1347813606262207, 0.13463734090328217, 0.11857965588569641, 0.11268597841262817, 0.10577297955751419, 0.10417862981557846, 0.07221788167953491, 0.056705866008996964, 0.0779348835349083, 0.08692219108343124, 0.1138484925031662, 0.12594933807849884, 0.09024631232023239, 0.07322455197572708, -0.02289627492427826, -0.09339483082294464, -0.05988113209605217, -0.04303959012031555, -0.014878746122121811, 0.001300392090342939, 0.0039388216100633144, 0.03011881746351719, 0.04684031009674072, 0.04704899340867996, 0.04787258431315422, 0.01968103088438511, 0.0038785524666309357, 0.0013442704221233726, 5.880707612959668e-05, 0.0011185373878106475, 0.011678677052259445, 0.07285104691982269, 0.08026870340108871, 0.08471564203500748, 0.0763719230890274, 0.07358682155609131, 0.03425244614481926, 0.01263020746409893, 0.02158382721245289, 0.025900987908244133, 0.022918574512004852, 0.021863903850317, 0.02044566720724106, 0.020107710734009743, 0.030944092199206352, 0.03519035503268242, 0.02685476839542389, 0.02310311608016491, -0.007397748529911041, -0.029469236731529236, 0.00406861025840044, 0.026333432644605637, 0.029519325122237206, 0.03130919113755226, -0.0047708130441606045, -0.028941694647073746, -0.009366434067487717, 0.0018883583834394813, -0.0015543742338195443, -0.035638947039842606, -0.0392589196562767, -0.020710336044430733, -0.0108788488432765, -0.02651112712919712, -0.03839884698390961, -0.007577023934572935, 0.01104023214429617, 0.01055982057005167, 0.01050599105656147, 0.010376456193625927, 0.01047571375966072, 0.007144765928387642, 0.005597703158855438, -0.002990612294524908, -0.028239183127880096, -0.01018277183175087, 5.12471488036681e-05, 0.001102271256968379, 0.011529212817549706, 0.023165326565504074, -0.009683721698820591, -0.03698565438389778, -0.022197792306542397, -0.014661054126918316, 0.006133391056209803, 0.021624237298965454, 0.001375771826133132, -0.011240082792937756, -0.015713907778263092, -0.017482740804553032, 0.007555178366601467, 0.03472021967172623, 0.039315611124038696, 0.04185047373175621, 0.019382983446121216, 0.0070982426404953, -0.0036045031156390905, -0.043194033205509186, -0.062057603150606155, -0.06958359479904175, -0.03113863803446293, -0.009852646850049496, 0.004665681626647711, 0.03630395233631134, 0.03263680264353752, 0.03141002729535103, 0.02982240729033947, 0.029551515355706215, 0.03330068662762642, 0.035385824739933014, 0.012918058782815933, 0.00015550729585811496, -0.001009140512906015, -0.012578155845403671, -0.0358554869890213, -0.016461465507745743, -0.005863468628376722, 0.003096007276326418, 0.029129451140761375, 0.02568705566227436, 0.024452459067106247, -0.010549567639827728, -0.10188926756381989, -0.12750570476055145, -0.1396544724702835, -0.09550831466913223, -0.07392487674951553, -0.025717396289110184, 0.0021010322961956263, -0.0016191188478842378, -0.01325150951743126, 0.0059788902290165424, 0.03773605078458786, 0.0571758970618248, 0.06463637202978134, 0.03174033388495445, 0.01388076227158308, 0.028941253200173378, 0.03873857110738754, 0.048322923481464386, 0.052846308797597885, 0.03238770738244057, 0.021984774619340897, 0.03160364180803299, 0.03538559004664421, 0.0054953936487436295, -0.012785897590219975, 0.005655615124851465, 0.02007744461297989, 0.026108061894774437, 0.02876921370625496, 0.0332537405192852, 0.03561532869935036, -0.0024043468292802572, -0.02723296359181404, -0.0073342579416930676, 0.004321379587054253, -0.0024944583419710398, -0.02961881086230278, -0.02554359845817089, -0.023990202695131302, -0.00952292513102293, -0.0014694062992930412, 0.0013927759137004614, 0.018511120229959488, -0.00288913631811738, -0.017068913206458092, -0.01852148398756981, -0.019417058676481247, -0.019716579467058182, -0.02014925703406334, -0.004039437975734472, 0.005556532181799412, -0.002965195570141077, -0.024254823103547096, -0.059278495609760284, -0.09304358810186386, -0.05442168936133385, -0.03436819463968277, -0.0008466606377623975, 0.020484760403633118, 0.001128279254771769, -0.010950271040201187, 0.005117196124047041, 0.04439336806535721, 0.04425595700740814, 0.044878289103507996, 0.02891470305621624, 0.02096826769411564, -0.008927669376134872, -0.042378682643175125, -0.0716901570558548, -0.08614794909954071, -0.08134341984987259, -0.08036509156227112, -0.04195685684680939, -0.02136971242725849, 0.002621212275698781, 0.0183754600584507, 0.017673267051577568, 0.01762654073536396, 0.04309561848640442, 0.06289683282375336, 0.047937583178281784, 0.04113994538784027, 0.06005559861660004, 0.06746535003185272, 0.07185778766870499, 0.07490088790655136, 0.06105847656726837, 0.05517293140292168]}],\n",
       "                        {\"template\": {\"data\": {\"bar\": [{\"error_x\": {\"color\": \"#2a3f5f\"}, \"error_y\": {\"color\": \"#2a3f5f\"}, \"marker\": {\"line\": {\"color\": \"#E5ECF6\", \"width\": 0.5}}, \"type\": \"bar\"}], \"barpolar\": [{\"marker\": {\"line\": {\"color\": \"#E5ECF6\", \"width\": 0.5}}, \"type\": \"barpolar\"}], \"carpet\": [{\"aaxis\": {\"endlinecolor\": \"#2a3f5f\", \"gridcolor\": \"white\", \"linecolor\": \"white\", \"minorgridcolor\": \"white\", \"startlinecolor\": \"#2a3f5f\"}, \"baxis\": {\"endlinecolor\": \"#2a3f5f\", \"gridcolor\": \"white\", \"linecolor\": \"white\", \"minorgridcolor\": \"white\", \"startlinecolor\": \"#2a3f5f\"}, \"type\": \"carpet\"}], \"choropleth\": [{\"colorbar\": {\"outlinewidth\": 0, \"ticks\": \"\"}, \"type\": \"choropleth\"}], \"contour\": [{\"colorbar\": {\"outlinewidth\": 0, \"ticks\": \"\"}, \"colorscale\": [[0.0, \"#0d0887\"], [0.1111111111111111, \"#46039f\"], [0.2222222222222222, \"#7201a8\"], [0.3333333333333333, \"#9c179e\"], [0.4444444444444444, \"#bd3786\"], [0.5555555555555556, \"#d8576b\"], [0.6666666666666666, \"#ed7953\"], [0.7777777777777778, \"#fb9f3a\"], [0.8888888888888888, \"#fdca26\"], [1.0, \"#f0f921\"]], \"type\": \"contour\"}], \"contourcarpet\": [{\"colorbar\": {\"outlinewidth\": 0, \"ticks\": \"\"}, \"type\": \"contourcarpet\"}], \"heatmap\": [{\"colorbar\": {\"outlinewidth\": 0, \"ticks\": \"\"}, \"colorscale\": [[0.0, \"#0d0887\"], [0.1111111111111111, \"#46039f\"], [0.2222222222222222, \"#7201a8\"], [0.3333333333333333, \"#9c179e\"], [0.4444444444444444, \"#bd3786\"], [0.5555555555555556, \"#d8576b\"], [0.6666666666666666, \"#ed7953\"], [0.7777777777777778, \"#fb9f3a\"], [0.8888888888888888, \"#fdca26\"], [1.0, \"#f0f921\"]], \"type\": \"heatmap\"}], \"heatmapgl\": [{\"colorbar\": {\"outlinewidth\": 0, \"ticks\": \"\"}, \"colorscale\": [[0.0, \"#0d0887\"], [0.1111111111111111, \"#46039f\"], [0.2222222222222222, \"#7201a8\"], [0.3333333333333333, \"#9c179e\"], [0.4444444444444444, \"#bd3786\"], [0.5555555555555556, \"#d8576b\"], [0.6666666666666666, \"#ed7953\"], [0.7777777777777778, \"#fb9f3a\"], [0.8888888888888888, \"#fdca26\"], [1.0, \"#f0f921\"]], \"type\": \"heatmapgl\"}], \"histogram\": [{\"marker\": {\"colorbar\": {\"outlinewidth\": 0, \"ticks\": \"\"}}, \"type\": \"histogram\"}], \"histogram2d\": [{\"colorbar\": {\"outlinewidth\": 0, \"ticks\": \"\"}, \"colorscale\": [[0.0, \"#0d0887\"], [0.1111111111111111, \"#46039f\"], [0.2222222222222222, \"#7201a8\"], [0.3333333333333333, \"#9c179e\"], [0.4444444444444444, \"#bd3786\"], [0.5555555555555556, \"#d8576b\"], [0.6666666666666666, \"#ed7953\"], [0.7777777777777778, \"#fb9f3a\"], [0.8888888888888888, \"#fdca26\"], [1.0, \"#f0f921\"]], \"type\": \"histogram2d\"}], \"histogram2dcontour\": [{\"colorbar\": {\"outlinewidth\": 0, \"ticks\": \"\"}, \"colorscale\": [[0.0, \"#0d0887\"], [0.1111111111111111, \"#46039f\"], [0.2222222222222222, \"#7201a8\"], [0.3333333333333333, \"#9c179e\"], [0.4444444444444444, \"#bd3786\"], [0.5555555555555556, \"#d8576b\"], [0.6666666666666666, \"#ed7953\"], [0.7777777777777778, \"#fb9f3a\"], [0.8888888888888888, \"#fdca26\"], [1.0, \"#f0f921\"]], \"type\": \"histogram2dcontour\"}], \"mesh3d\": [{\"colorbar\": {\"outlinewidth\": 0, \"ticks\": \"\"}, \"type\": \"mesh3d\"}], \"parcoords\": [{\"line\": {\"colorbar\": {\"outlinewidth\": 0, \"ticks\": \"\"}}, \"type\": \"parcoords\"}], \"pie\": [{\"automargin\": true, \"type\": \"pie\"}], \"scatter\": [{\"marker\": {\"colorbar\": {\"outlinewidth\": 0, \"ticks\": \"\"}}, \"type\": \"scatter\"}], \"scatter3d\": [{\"line\": {\"colorbar\": {\"outlinewidth\": 0, \"ticks\": \"\"}}, \"marker\": {\"colorbar\": {\"outlinewidth\": 0, \"ticks\": \"\"}}, \"type\": \"scatter3d\"}], \"scattercarpet\": [{\"marker\": {\"colorbar\": {\"outlinewidth\": 0, \"ticks\": \"\"}}, \"type\": \"scattercarpet\"}], \"scattergeo\": [{\"marker\": {\"colorbar\": {\"outlinewidth\": 0, \"ticks\": \"\"}}, \"type\": \"scattergeo\"}], \"scattergl\": [{\"marker\": {\"colorbar\": {\"outlinewidth\": 0, \"ticks\": \"\"}}, \"type\": \"scattergl\"}], \"scattermapbox\": [{\"marker\": {\"colorbar\": {\"outlinewidth\": 0, \"ticks\": \"\"}}, \"type\": \"scattermapbox\"}], \"scatterpolar\": [{\"marker\": {\"colorbar\": {\"outlinewidth\": 0, \"ticks\": \"\"}}, \"type\": \"scatterpolar\"}], \"scatterpolargl\": [{\"marker\": {\"colorbar\": {\"outlinewidth\": 0, \"ticks\": \"\"}}, \"type\": \"scatterpolargl\"}], \"scatterternary\": [{\"marker\": {\"colorbar\": {\"outlinewidth\": 0, \"ticks\": \"\"}}, \"type\": \"scatterternary\"}], \"surface\": [{\"colorbar\": {\"outlinewidth\": 0, \"ticks\": \"\"}, \"colorscale\": [[0.0, \"#0d0887\"], [0.1111111111111111, \"#46039f\"], [0.2222222222222222, \"#7201a8\"], [0.3333333333333333, \"#9c179e\"], [0.4444444444444444, \"#bd3786\"], [0.5555555555555556, \"#d8576b\"], [0.6666666666666666, \"#ed7953\"], [0.7777777777777778, \"#fb9f3a\"], [0.8888888888888888, \"#fdca26\"], [1.0, \"#f0f921\"]], \"type\": \"surface\"}], \"table\": [{\"cells\": {\"fill\": {\"color\": \"#EBF0F8\"}, \"line\": {\"color\": \"white\"}}, \"header\": {\"fill\": {\"color\": \"#C8D4E3\"}, \"line\": {\"color\": \"white\"}}, \"type\": \"table\"}]}, \"layout\": {\"annotationdefaults\": {\"arrowcolor\": \"#2a3f5f\", \"arrowhead\": 0, \"arrowwidth\": 1}, \"coloraxis\": {\"colorbar\": {\"outlinewidth\": 0, \"ticks\": \"\"}}, \"colorscale\": {\"diverging\": [[0, \"#8e0152\"], [0.1, \"#c51b7d\"], [0.2, \"#de77ae\"], [0.3, \"#f1b6da\"], [0.4, \"#fde0ef\"], [0.5, \"#f7f7f7\"], [0.6, \"#e6f5d0\"], [0.7, \"#b8e186\"], [0.8, \"#7fbc41\"], [0.9, \"#4d9221\"], [1, \"#276419\"]], \"sequential\": [[0.0, \"#0d0887\"], [0.1111111111111111, \"#46039f\"], [0.2222222222222222, \"#7201a8\"], [0.3333333333333333, \"#9c179e\"], [0.4444444444444444, \"#bd3786\"], [0.5555555555555556, \"#d8576b\"], [0.6666666666666666, \"#ed7953\"], [0.7777777777777778, \"#fb9f3a\"], [0.8888888888888888, \"#fdca26\"], [1.0, \"#f0f921\"]], \"sequentialminus\": [[0.0, \"#0d0887\"], [0.1111111111111111, \"#46039f\"], [0.2222222222222222, \"#7201a8\"], [0.3333333333333333, \"#9c179e\"], [0.4444444444444444, \"#bd3786\"], [0.5555555555555556, \"#d8576b\"], [0.6666666666666666, \"#ed7953\"], [0.7777777777777778, \"#fb9f3a\"], [0.8888888888888888, \"#fdca26\"], [1.0, \"#f0f921\"]]}, \"colorway\": [\"#636efa\", \"#EF553B\", \"#00cc96\", \"#ab63fa\", \"#FFA15A\", \"#19d3f3\", \"#FF6692\", \"#B6E880\", \"#FF97FF\", \"#FECB52\"], \"font\": {\"color\": \"#2a3f5f\"}, \"geo\": {\"bgcolor\": \"white\", \"lakecolor\": \"white\", \"landcolor\": \"#E5ECF6\", \"showlakes\": true, \"showland\": true, \"subunitcolor\": \"white\"}, \"hoverlabel\": {\"align\": \"left\"}, \"hovermode\": \"closest\", \"mapbox\": {\"style\": \"light\"}, \"paper_bgcolor\": \"white\", \"plot_bgcolor\": \"#E5ECF6\", \"polar\": {\"angularaxis\": {\"gridcolor\": \"white\", \"linecolor\": \"white\", \"ticks\": \"\"}, \"bgcolor\": \"#E5ECF6\", \"radialaxis\": {\"gridcolor\": \"white\", \"linecolor\": \"white\", \"ticks\": \"\"}}, \"scene\": {\"xaxis\": {\"backgroundcolor\": \"#E5ECF6\", \"gridcolor\": \"white\", \"gridwidth\": 2, \"linecolor\": \"white\", \"showbackground\": true, \"ticks\": \"\", \"zerolinecolor\": \"white\"}, \"yaxis\": {\"backgroundcolor\": \"#E5ECF6\", \"gridcolor\": \"white\", \"gridwidth\": 2, \"linecolor\": \"white\", \"showbackground\": true, \"ticks\": \"\", \"zerolinecolor\": \"white\"}, \"zaxis\": {\"backgroundcolor\": \"#E5ECF6\", \"gridcolor\": \"white\", \"gridwidth\": 2, \"linecolor\": \"white\", \"showbackground\": true, \"ticks\": \"\", \"zerolinecolor\": \"white\"}}, \"shapedefaults\": {\"line\": {\"color\": \"#2a3f5f\"}}, \"ternary\": {\"aaxis\": {\"gridcolor\": \"white\", \"linecolor\": \"white\", \"ticks\": \"\"}, \"baxis\": {\"gridcolor\": \"white\", \"linecolor\": \"white\", \"ticks\": \"\"}, \"bgcolor\": \"#E5ECF6\", \"caxis\": {\"gridcolor\": \"white\", \"linecolor\": \"white\", \"ticks\": \"\"}}, \"title\": {\"x\": 0.05}, \"xaxis\": {\"automargin\": true, \"gridcolor\": \"white\", \"linecolor\": \"white\", \"ticks\": \"\", \"title\": {\"standoff\": 15}, \"zerolinecolor\": \"white\", \"zerolinewidth\": 2}, \"yaxis\": {\"automargin\": true, \"gridcolor\": \"white\", \"linecolor\": \"white\", \"ticks\": \"\", \"title\": {\"standoff\": 15}, \"zerolinecolor\": \"white\", \"zerolinewidth\": 2}}}},\n",
       "                        {\"responsive\": true}\n",
       "                    ).then(function(){\n",
       "                            \n",
       "var gd = document.getElementById('2c39bd12-e783-4cdd-8290-f60dbee390fe');\n",
       "var x = new MutationObserver(function (mutations, observer) {{\n",
       "        var display = window.getComputedStyle(gd).display;\n",
       "        if (!display || display === 'none') {{\n",
       "            console.log([gd, 'removed!']);\n",
       "            Plotly.purge(gd);\n",
       "            observer.disconnect();\n",
       "        }}\n",
       "}});\n",
       "\n",
       "// Listen for the removal of the full notebook cells\n",
       "var notebookContainer = gd.closest('#notebook-container');\n",
       "if (notebookContainer) {{\n",
       "    x.observe(notebookContainer, {childList: true});\n",
       "}}\n",
       "\n",
       "// Listen for the clearing of the current output cell\n",
       "var outputEl = gd.closest('.output');\n",
       "if (outputEl) {{\n",
       "    x.observe(outputEl, {childList: true});\n",
       "}}\n",
       "\n",
       "                        })\n",
       "                };\n",
       "                });\n",
       "            </script>\n",
       "        </div>"
      ]
     },
     "metadata": {},
     "output_type": "display_data"
    }
   ],
   "source": [
    "import pendulum_utils\n",
    "pendulum = pendulum_utils.PendulumNLP()\n",
    "vf = pendulum_utils.get_value_function(10)\n",
    "\n",
    "# ctrl = lambda x: (torch.zeros(1), torch.zeros(1), None)\n",
    "\n",
    "# ctrl = vf.get_optimal_controller()\n",
    "\n",
    "# ctrl = value_approximation.get_inifinite_horizon_ctrl(pendulum.dyn, vf, vf_approx.model)\n",
    "# ctrl = value_approximation.get_inifinite_horizon_ctrl(pendulum.dyn, vf, vf_approx_adv.model)\n",
    "\n",
    "\n",
    "fig = go.Figure()\n",
    "\n",
    "x0 = torch.Tensor([np.pi-1., -.1]).double()\n",
    "\n",
    "ctrl = value_approximation.get_sampling_infinite_horizon_controller(pendulum.dx, vf, vf_approx.model)\n",
    "x_traj_sim, t_traj_sim = acro.sim_ctrl(x0, ctrl, .1, 200)\n",
    "\n",
    "for i in range(2):\n",
    "    fig.add_trace(go.Scatter(\n",
    "        x=t_traj_sim,\n",
    "        y=x_traj_sim[i,:],\n",
    "        name='baseline',\n",
    "    ))\n",
    "    \n",
    "    \n",
    "ctrl = value_approximation.get_sampling_infinite_horizon_controller(pendulum.dx, vf, vf_approx_adv.model)\n",
    "x_traj_sim, t_traj_sim = acro.sim_ctrl(x0, ctrl, .1, 200)\n",
    "for i in range(2):\n",
    "    fig.add_trace(go.Scatter(\n",
    "        x=t_traj_sim,\n",
    "        y=x_traj_sim[i,:],\n",
    "        name='adversarial',\n",
    "    ))\n",
    "    \n",
    "fig.show()"
   ]
  },
  {
   "cell_type": "code",
   "execution_count": 208,
   "metadata": {},
   "outputs": [
    {
     "data": {
      "text/plain": [
       "(array([-18.11723651]), array([-18.11723651]), None)"
      ]
     },
     "execution_count": 208,
     "metadata": {},
     "output_type": "execute_result"
    }
   ],
   "source": [
    "eps=1.\n",
    "ctrl(torch.Tensor([np.pi+eps,0.]).double())"
   ]
  },
  {
   "cell_type": "code",
   "execution_count": 242,
   "metadata": {},
   "outputs": [],
   "source": [
    "import pendulum_utils\n",
    "\n",
    "vf = pendulum_utils.get_value_function(N=10)\n",
    "\n",
    "eps = .5\n",
    "x0_lo = torch.Tensor([np.pi-eps, -10.]).type(vf.dtype)\n",
    "x0_up = torch.Tensor([np.pi+eps, 10.]).type(vf.dtype)\n",
    "\n",
    "# file options\n",
    "sys_name = 'pendulum'\n",
    "x_samples_file = '../data/validation_' + sys_name + '_x'\n",
    "v_samples_file = '../data/validation_' + sys_name + '_v'\n",
    "model_file = '../data/' + sys_name"
   ]
  },
  {
   "cell_type": "code",
   "execution_count": 243,
   "metadata": {},
   "outputs": [],
   "source": [
    "opt = dict(\n",
    "    max_buffer_size = None,\n",
    "    batch_size = 30,\n",
    "    nn_width = 32,\n",
    "    nn_depth = 1,\n",
    "\n",
    "    init_num_samples = 10,\n",
    "    init_num_trainig_step = 1000,\n",
    "    \n",
    "    num_generations = 10,\n",
    "    num_samples_per_generation = 10,\n",
    "    num_train_step_per_gen = 1000,\n",
    "    \n",
    "    adv_max_iter = 3,\n",
    "    adv_conv_tol = 1e-5,\n",
    "    adv_learning_rate = .25,\n",
    "    \n",
    "    num_samples_validation = 500,\n",
    ")"
   ]
  },
  {
   "cell_type": "code",
   "execution_count": 244,
   "metadata": {},
   "outputs": [],
   "source": [
    "samples_buff = samples_buffer.SamplesBuffer(x0_lo.shape[0]*(vf.N-1), vf.N-1, vf.dtype, max_size=opt['max_buffer_size'])\n",
    "samples_gen = samples_generator.RandomSampleGenerator(vf, x0_lo, x0_up)\n",
    "vf_approx = value_approximation.InfiniteHorizonValueFunctionApproximation(x0_lo, x0_up, opt['nn_width'], opt['nn_depth'])\n",
    "train_log = training_log.TrainingLog(1, prefix=\"baseline\")"
   ]
  },
  {
   "cell_type": "code",
   "execution_count": 245,
   "metadata": {},
   "outputs": [],
   "source": [
    "x_samples_validation, v_labels_validation = samples_gen.generate_samples(opt['num_samples_validation'])"
   ]
  },
  {
   "cell_type": "code",
   "execution_count": 246,
   "metadata": {},
   "outputs": [],
   "source": [
    "torch.save(x_samples_validation, x_samples_file)\n",
    "torch.save(v_labels_validation, v_samples_file)"
   ]
  },
  {
   "cell_type": "code",
   "execution_count": 219,
   "metadata": {},
   "outputs": [],
   "source": [
    "x_samples_validation = torch.load(x_samples_file)\n",
    "v_labels_validation = torch.load(v_samples_file)"
   ]
  },
  {
   "cell_type": "code",
   "execution_count": 247,
   "metadata": {},
   "outputs": [],
   "source": [
    "(x_samples, v_labels) = samples_gen.generate_samples(opt['init_num_samples'])\n",
    "samples_buff.add_samples(x_samples, v_labels)"
   ]
  },
  {
   "cell_type": "code",
   "execution_count": 248,
   "metadata": {},
   "outputs": [],
   "source": [
    "for train_step_i in range(opt['init_num_trainig_step']):\n",
    "    x, v = samples_buff.get_random_samples(opt['batch_size'])\n",
    "    losses = vf_approx.train_step(x, v)\n",
    "    train_log.add_train_loss(losses)"
   ]
  },
  {
   "cell_type": "code",
   "execution_count": 249,
   "metadata": {},
   "outputs": [],
   "source": [
    "samples_buff_adv = copy.deepcopy(samples_buff)\n",
    "samples_gen_adv = samples_generator.AdversarialSampleGenerator(vf, x0_lo, x0_up, \n",
    "                                                               max_iter=opt['adv_max_iter'],\n",
    "                                                               conv_tol=opt['adv_conv_tol'],\n",
    "                                                               learning_rate=opt['adv_learning_rate'])\n",
    "vf_approx_adv = copy.deepcopy(vf_approx)\n",
    "train_log_adv = training_log.TrainingLog.get_copy(\n",
    "    train_log, prefix=\"adversarial\", keep_writer=True)"
   ]
  },
  {
   "cell_type": "code",
   "execution_count": 256,
   "metadata": {},
   "outputs": [],
   "source": [
    "validation_losses = vf_approx_adv.validation_loss(x_samples_validation, v_labels_validation)\n",
    "train_log_adv.add_validation_loss(validation_losses)\n",
    "validation_losses = vf_approx.validation_loss(x_samples_validation, v_labels_validation)\n",
    "train_log.add_validation_loss(validation_losses)\n",
    "for gen_i in range(opt['num_generations']):\n",
    "    # adverserial samples\n",
    "    (x_samples, v_labels) = samples_gen_adv.generate_samples(opt['num_samples_per_generation'], vf_approx_adv)\n",
    "    samples_buff_adv.add_samples(x_samples, v_labels)\n",
    "    # random samples\n",
    "    (x_samples, v_labels) = samples_gen.generate_samples(opt['num_samples_per_generation'])\n",
    "    samples_buff.add_samples(x_samples, v_labels)\n",
    "    for train_step_i in range(opt['num_train_step_per_gen']):\n",
    "        samples_indices = samples_buff_adv.get_random_sample_indices(opt['batch_size'])\n",
    "        x, v = samples_buff_adv.get_samples_from_indices(samples_indices)\n",
    "        losses = vf_approx_adv.train_step(x, v)\n",
    "        train_log_adv.add_train_loss(losses)\n",
    "        x, v = samples_buff.get_samples_from_indices(samples_indices)\n",
    "        losses = vf_approx.train_step(x, v)\n",
    "        train_log.add_train_loss(losses)\n",
    "    validation_losses = vf_approx_adv.validation_loss(x_samples_validation, v_labels_validation)\n",
    "    train_log_adv.add_validation_loss(validation_losses)\n",
    "    validation_losses = vf_approx.validation_loss(x_samples_validation, v_labels_validation)\n",
    "    train_log.add_validation_loss(validation_losses)\n",
    "    torch.save(vf_approx.model, 'vf_approx_model')\n",
    "    torch.save(vf_approx_adv.model, 'vf_approx_adv_model')"
   ]
  },
  {
   "cell_type": "markdown",
   "metadata": {},
   "source": [
    "# Double Integrator"
   ]
  },
  {
   "cell_type": "code",
   "execution_count": null,
   "metadata": {},
   "outputs": [],
   "source": [
    "import double_integrator_utils\n",
    "\n",
    "vf = double_integrator_utils.get_value_function(N=5)\n",
    "x0_lo = -1 * torch.ones(vf.sys.x_dim, dtype=vf.dtype)\n",
    "x0_up = 1 * torch.ones(vf.sys.x_dim, dtype=vf.dtype)\n",
    "\n",
    "# validation options\n",
    "num_breaks_validation = [100] * vf.sys.x_dim\n",
    "\n",
    "# file options\n",
    "sys_name = 'double_int'\n",
    "x_samples_file = '../data/learn_value_function_' + sys_name + '_x'\n",
    "v_samples_file = '../data/learn_value_function_' + sys_name + '_v'\n",
    "model_file = '../data/' + sys_name\n",
    "\n",
    "opt = dict(\n",
    "    max_buffer_size = None,\n",
    "    init_num_samples = 100,\n",
    "    init_num_trainig_step = 100,\n",
    "    num_generations = 50,\n",
    "    num_samples_per_generation = 10,\n",
    "    num_train_step_per_gen = 100,\n",
    "    batch_size = 30,\n",
    "    nn_width = 32,\n",
    "    nn_depth = 1,\n",
    "    num_samples_validation = 5000,\n",
    "    adv_max_iter = 3,\n",
    "    adv_conv_tol = 1e-5,\n",
    "    adv_learning_rate = .25,\n",
    ")"
   ]
  },
  {
   "cell_type": "code",
   "execution_count": null,
   "metadata": {},
   "outputs": [],
   "source": [
    "samples_buff = samples_buffer.SamplesBuffer(vf.sys.x_dim*(vf.N-1), vf.N-1, vf.dtype, max_size=opt['max_buffer_size'])\n",
    "samples_gen = samples_generator.RandomSampleGenerator(vf, x0_lo, x0_up)\n",
    "vf_approx = value_approximation.FiniteHorizonValueFunctionApproximation(vf, x0_lo, x0_up, opt['nn_width'], opt['nn_depth'])\n",
    "train_log = training_log.TrainingLog(vf.N-1, prefix=\"baseline\", first_value_only=False)"
   ]
  },
  {
   "cell_type": "code",
   "execution_count": null,
   "metadata": {},
   "outputs": [],
   "source": [
    "x_samples_validation, v_labels_validation = samples_gen.generate_samples(opt['num_samples_validation'])"
   ]
  },
  {
   "cell_type": "code",
   "execution_count": null,
   "metadata": {},
   "outputs": [],
   "source": [
    "(x_samples, v_labels) = samples_gen.generate_samples(opt['init_num_samples'])\n",
    "samples_buff.add_samples(x_samples, v_labels)\n",
    "for train_step_i in range(opt['init_num_trainig_step']):\n",
    "    x, v = samples_buff.get_random_samples(opt['batch_size'])\n",
    "    losses = vf_approx.train_step(x, v)\n",
    "    train_log.add_train_loss(losses)"
   ]
  },
  {
   "cell_type": "code",
   "execution_count": null,
   "metadata": {},
   "outputs": [],
   "source": [
    "samples_buff_adv = copy.deepcopy(samples_buff)\n",
    "samples_gen_adv = samples_generator.MIPAdversarialSampleGenerator(vf, x0_lo, x0_up, \n",
    "                                                                  max_iter=opt['adv_max_iter'],\n",
    "                                                                  conv_tol=opt['adv_conv_tol'],\n",
    "                                                                  learning_rate=opt['adv_learning_rate'])\n",
    "vf_approx_adv = copy.deepcopy(vf_approx)\n",
    "train_log_adv = training_log.TrainingLog.get_copy(\n",
    "    train_log, prefix=\"adversarial\", keep_writer=True)"
   ]
  },
  {
   "cell_type": "code",
   "execution_count": null,
   "metadata": {},
   "outputs": [],
   "source": [
    "validation_losses = vf_approx_adv.validation_loss(x_samples_validation, v_labels_validation)\n",
    "train_log_adv.add_validation_loss(validation_losses)\n",
    "validation_losses = vf_approx.validation_loss(x_samples_validation, v_labels_validation)\n",
    "train_log.add_validation_loss(validation_losses)\n",
    "for gen_i in range(opt['num_generations']):\n",
    "    # adverserial samples\n",
    "    (x_samples, v_labels) = samples_gen_adv.generate_samples(opt['num_samples_per_generation'], vf_approx_adv)\n",
    "    samples_buff_adv.add_samples(x_samples, v_labels)\n",
    "    # random samples\n",
    "    (x_samples, v_labels) = samples_gen.generate_samples(opt['num_samples_per_generation'])\n",
    "    samples_buff.add_samples(x_samples, v_labels)\n",
    "    for train_step_i in range(opt['num_train_step_per_gen']):\n",
    "        samples_indices = samples_buff_adv.get_random_sample_indices(opt['batch_size'])\n",
    "        x, v = samples_buff_adv.get_samples_from_indices(samples_indices)\n",
    "        losses = vf_approx_adv.train_step(x, v)\n",
    "        train_log_adv.add_train_loss(losses)\n",
    "        x, v = samples_buff.get_samples_from_indices(samples_indices)\n",
    "        losses = vf_approx.train_step(x, v)\n",
    "        train_log.add_train_loss(losses)\n",
    "    validation_losses = vf_approx_adv.validation_loss(x_samples_validation, v_labels_validation)\n",
    "    train_log_adv.add_validation_loss(validation_losses)\n",
    "    validation_losses = vf_approx.validation_loss(x_samples_validation, v_labels_validation)\n",
    "    train_log.add_validation_loss(validation_losses)"
   ]
  }
 ],
 "metadata": {
  "kernelspec": {
   "display_name": "Python 3",
   "language": "python",
   "name": "python3"
  },
  "language_info": {
   "codemirror_mode": {
    "name": "ipython",
    "version": 3
   },
   "file_extension": ".py",
   "mimetype": "text/x-python",
   "name": "python",
   "nbconvert_exporter": "python",
   "pygments_lexer": "ipython3",
   "version": "3.7.5"
  }
 },
 "nbformat": 4,
 "nbformat_minor": 2
}
