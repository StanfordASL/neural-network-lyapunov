{
 "cells": [
  {
   "cell_type": "code",
   "execution_count": 1,
   "metadata": {},
   "outputs": [],
   "source": [
    "%load_ext autoreload\n",
    "%autoreload 2"
   ]
  },
  {
   "cell_type": "code",
   "execution_count": 2,
   "metadata": {},
   "outputs": [
    {
     "data": {
      "text/html": [
       "        <script type=\"text/javascript\">\n",
       "        window.PlotlyConfig = {MathJaxConfig: 'local'};\n",
       "        if (window.MathJax) {MathJax.Hub.Config({SVG: {font: \"STIX-Web\"}});}\n",
       "        if (typeof require !== 'undefined') {\n",
       "        require.undef(\"plotly\");\n",
       "        requirejs.config({\n",
       "            paths: {\n",
       "                'plotly': ['https://cdn.plot.ly/plotly-latest.min']\n",
       "            }\n",
       "        });\n",
       "        require(['plotly'], function(Plotly) {\n",
       "            window._Plotly = Plotly;\n",
       "        });\n",
       "        }\n",
       "        </script>\n",
       "        "
      ]
     },
     "metadata": {},
     "output_type": "display_data"
    },
    {
     "name": "stderr",
     "output_type": "stream",
     "text": [
      "/home/blandry/Code/robust-value-approx/robust_value_approx/value_approximation.py:2: _DrakeImportWarning:\n",
      "\n",
      "\n",
      "You may have already (directly or indirectly) imported `torch` which uses\n",
      "`RTLD_GLOBAL`. Using `RTLD_GLOBAL` may cause symbol collisions which manifest\n",
      "themselves in bugs like \"free(): invalid pointer\". Please consider importing\n",
      "`pydrake` (and related C++-wrapped libraries like `cv2`, `open3d`, etc.)\n",
      "*before* importing `torch`. For more details, see:\n",
      "https://github.com/pytorch/pytorch/issues/3059#issuecomment-534676459\n",
      "\n",
      "\n"
     ]
    }
   ],
   "source": [
    "import sys\n",
    "sys.path.append(\"..\")\n",
    "sys.path.append(\".\")\n",
    "import torch\n",
    "import numpy as np\n",
    "import copy\n",
    "import plotly\n",
    "import plotly.graph_objs as go\n",
    "import pickle\n",
    "from datetime import datetime\n",
    "plotly.offline.init_notebook_mode(connected=True)\n",
    "\n",
    "import robust_value_approx.samples_generator as samples_generator\n",
    "import robust_value_approx.samples_buffer as samples_buffer\n",
    "import robust_value_approx.value_approximation as value_approximation\n",
    "import robust_value_approx.training_log as training_log\n",
    "import robust_value_approx.controllers as controllers\n",
    "\n",
    "import pendulum_utils\n",
    "import acrobot_utils"
   ]
  },
  {
   "cell_type": "markdown",
   "metadata": {},
   "source": [
    "# Pendulum"
   ]
  },
  {
   "cell_type": "code",
   "execution_count": 343,
   "metadata": {},
   "outputs": [],
   "source": [
    "pendulum = pendulum_utils.PendulumNLP()\n",
    "vf = pendulum_utils.get_value_function(5)\n",
    "V = vf.get_value_function()"
   ]
  },
  {
   "cell_type": "code",
   "execution_count": 344,
   "metadata": {},
   "outputs": [
    {
     "data": {
      "application/vnd.plotly.v1+json": {
       "config": {
        "plotlyServerURL": "https://plot.ly"
       },
       "data": [
        {
         "type": "scatter",
         "y": [
          4.641592502593994,
          6.216394424438477,
          5.418124198913574,
          3.9076201915740967,
          3.2475733757019043
         ]
        },
        {
         "type": "scatter",
         "y": [
          15,
          0.7480184435844421,
          -8.730718612670898,
          -6.374322891235352,
          -0.2261466085910797
         ]
        }
       ],
       "layout": {
        "template": {
         "data": {
          "bar": [
           {
            "error_x": {
             "color": "#2a3f5f"
            },
            "error_y": {
             "color": "#2a3f5f"
            },
            "marker": {
             "line": {
              "color": "#E5ECF6",
              "width": 0.5
             }
            },
            "type": "bar"
           }
          ],
          "barpolar": [
           {
            "marker": {
             "line": {
              "color": "#E5ECF6",
              "width": 0.5
             }
            },
            "type": "barpolar"
           }
          ],
          "carpet": [
           {
            "aaxis": {
             "endlinecolor": "#2a3f5f",
             "gridcolor": "white",
             "linecolor": "white",
             "minorgridcolor": "white",
             "startlinecolor": "#2a3f5f"
            },
            "baxis": {
             "endlinecolor": "#2a3f5f",
             "gridcolor": "white",
             "linecolor": "white",
             "minorgridcolor": "white",
             "startlinecolor": "#2a3f5f"
            },
            "type": "carpet"
           }
          ],
          "choropleth": [
           {
            "colorbar": {
             "outlinewidth": 0,
             "ticks": ""
            },
            "type": "choropleth"
           }
          ],
          "contour": [
           {
            "colorbar": {
             "outlinewidth": 0,
             "ticks": ""
            },
            "colorscale": [
             [
              0,
              "#0d0887"
             ],
             [
              0.1111111111111111,
              "#46039f"
             ],
             [
              0.2222222222222222,
              "#7201a8"
             ],
             [
              0.3333333333333333,
              "#9c179e"
             ],
             [
              0.4444444444444444,
              "#bd3786"
             ],
             [
              0.5555555555555556,
              "#d8576b"
             ],
             [
              0.6666666666666666,
              "#ed7953"
             ],
             [
              0.7777777777777778,
              "#fb9f3a"
             ],
             [
              0.8888888888888888,
              "#fdca26"
             ],
             [
              1,
              "#f0f921"
             ]
            ],
            "type": "contour"
           }
          ],
          "contourcarpet": [
           {
            "colorbar": {
             "outlinewidth": 0,
             "ticks": ""
            },
            "type": "contourcarpet"
           }
          ],
          "heatmap": [
           {
            "colorbar": {
             "outlinewidth": 0,
             "ticks": ""
            },
            "colorscale": [
             [
              0,
              "#0d0887"
             ],
             [
              0.1111111111111111,
              "#46039f"
             ],
             [
              0.2222222222222222,
              "#7201a8"
             ],
             [
              0.3333333333333333,
              "#9c179e"
             ],
             [
              0.4444444444444444,
              "#bd3786"
             ],
             [
              0.5555555555555556,
              "#d8576b"
             ],
             [
              0.6666666666666666,
              "#ed7953"
             ],
             [
              0.7777777777777778,
              "#fb9f3a"
             ],
             [
              0.8888888888888888,
              "#fdca26"
             ],
             [
              1,
              "#f0f921"
             ]
            ],
            "type": "heatmap"
           }
          ],
          "heatmapgl": [
           {
            "colorbar": {
             "outlinewidth": 0,
             "ticks": ""
            },
            "colorscale": [
             [
              0,
              "#0d0887"
             ],
             [
              0.1111111111111111,
              "#46039f"
             ],
             [
              0.2222222222222222,
              "#7201a8"
             ],
             [
              0.3333333333333333,
              "#9c179e"
             ],
             [
              0.4444444444444444,
              "#bd3786"
             ],
             [
              0.5555555555555556,
              "#d8576b"
             ],
             [
              0.6666666666666666,
              "#ed7953"
             ],
             [
              0.7777777777777778,
              "#fb9f3a"
             ],
             [
              0.8888888888888888,
              "#fdca26"
             ],
             [
              1,
              "#f0f921"
             ]
            ],
            "type": "heatmapgl"
           }
          ],
          "histogram": [
           {
            "marker": {
             "colorbar": {
              "outlinewidth": 0,
              "ticks": ""
             }
            },
            "type": "histogram"
           }
          ],
          "histogram2d": [
           {
            "colorbar": {
             "outlinewidth": 0,
             "ticks": ""
            },
            "colorscale": [
             [
              0,
              "#0d0887"
             ],
             [
              0.1111111111111111,
              "#46039f"
             ],
             [
              0.2222222222222222,
              "#7201a8"
             ],
             [
              0.3333333333333333,
              "#9c179e"
             ],
             [
              0.4444444444444444,
              "#bd3786"
             ],
             [
              0.5555555555555556,
              "#d8576b"
             ],
             [
              0.6666666666666666,
              "#ed7953"
             ],
             [
              0.7777777777777778,
              "#fb9f3a"
             ],
             [
              0.8888888888888888,
              "#fdca26"
             ],
             [
              1,
              "#f0f921"
             ]
            ],
            "type": "histogram2d"
           }
          ],
          "histogram2dcontour": [
           {
            "colorbar": {
             "outlinewidth": 0,
             "ticks": ""
            },
            "colorscale": [
             [
              0,
              "#0d0887"
             ],
             [
              0.1111111111111111,
              "#46039f"
             ],
             [
              0.2222222222222222,
              "#7201a8"
             ],
             [
              0.3333333333333333,
              "#9c179e"
             ],
             [
              0.4444444444444444,
              "#bd3786"
             ],
             [
              0.5555555555555556,
              "#d8576b"
             ],
             [
              0.6666666666666666,
              "#ed7953"
             ],
             [
              0.7777777777777778,
              "#fb9f3a"
             ],
             [
              0.8888888888888888,
              "#fdca26"
             ],
             [
              1,
              "#f0f921"
             ]
            ],
            "type": "histogram2dcontour"
           }
          ],
          "mesh3d": [
           {
            "colorbar": {
             "outlinewidth": 0,
             "ticks": ""
            },
            "type": "mesh3d"
           }
          ],
          "parcoords": [
           {
            "line": {
             "colorbar": {
              "outlinewidth": 0,
              "ticks": ""
             }
            },
            "type": "parcoords"
           }
          ],
          "pie": [
           {
            "automargin": true,
            "type": "pie"
           }
          ],
          "scatter": [
           {
            "marker": {
             "colorbar": {
              "outlinewidth": 0,
              "ticks": ""
             }
            },
            "type": "scatter"
           }
          ],
          "scatter3d": [
           {
            "line": {
             "colorbar": {
              "outlinewidth": 0,
              "ticks": ""
             }
            },
            "marker": {
             "colorbar": {
              "outlinewidth": 0,
              "ticks": ""
             }
            },
            "type": "scatter3d"
           }
          ],
          "scattercarpet": [
           {
            "marker": {
             "colorbar": {
              "outlinewidth": 0,
              "ticks": ""
             }
            },
            "type": "scattercarpet"
           }
          ],
          "scattergeo": [
           {
            "marker": {
             "colorbar": {
              "outlinewidth": 0,
              "ticks": ""
             }
            },
            "type": "scattergeo"
           }
          ],
          "scattergl": [
           {
            "marker": {
             "colorbar": {
              "outlinewidth": 0,
              "ticks": ""
             }
            },
            "type": "scattergl"
           }
          ],
          "scattermapbox": [
           {
            "marker": {
             "colorbar": {
              "outlinewidth": 0,
              "ticks": ""
             }
            },
            "type": "scattermapbox"
           }
          ],
          "scatterpolar": [
           {
            "marker": {
             "colorbar": {
              "outlinewidth": 0,
              "ticks": ""
             }
            },
            "type": "scatterpolar"
           }
          ],
          "scatterpolargl": [
           {
            "marker": {
             "colorbar": {
              "outlinewidth": 0,
              "ticks": ""
             }
            },
            "type": "scatterpolargl"
           }
          ],
          "scatterternary": [
           {
            "marker": {
             "colorbar": {
              "outlinewidth": 0,
              "ticks": ""
             }
            },
            "type": "scatterternary"
           }
          ],
          "surface": [
           {
            "colorbar": {
             "outlinewidth": 0,
             "ticks": ""
            },
            "colorscale": [
             [
              0,
              "#0d0887"
             ],
             [
              0.1111111111111111,
              "#46039f"
             ],
             [
              0.2222222222222222,
              "#7201a8"
             ],
             [
              0.3333333333333333,
              "#9c179e"
             ],
             [
              0.4444444444444444,
              "#bd3786"
             ],
             [
              0.5555555555555556,
              "#d8576b"
             ],
             [
              0.6666666666666666,
              "#ed7953"
             ],
             [
              0.7777777777777778,
              "#fb9f3a"
             ],
             [
              0.8888888888888888,
              "#fdca26"
             ],
             [
              1,
              "#f0f921"
             ]
            ],
            "type": "surface"
           }
          ],
          "table": [
           {
            "cells": {
             "fill": {
              "color": "#EBF0F8"
             },
             "line": {
              "color": "white"
             }
            },
            "header": {
             "fill": {
              "color": "#C8D4E3"
             },
             "line": {
              "color": "white"
             }
            },
            "type": "table"
           }
          ]
         },
         "layout": {
          "annotationdefaults": {
           "arrowcolor": "#2a3f5f",
           "arrowhead": 0,
           "arrowwidth": 1
          },
          "coloraxis": {
           "colorbar": {
            "outlinewidth": 0,
            "ticks": ""
           }
          },
          "colorscale": {
           "diverging": [
            [
             0,
             "#8e0152"
            ],
            [
             0.1,
             "#c51b7d"
            ],
            [
             0.2,
             "#de77ae"
            ],
            [
             0.3,
             "#f1b6da"
            ],
            [
             0.4,
             "#fde0ef"
            ],
            [
             0.5,
             "#f7f7f7"
            ],
            [
             0.6,
             "#e6f5d0"
            ],
            [
             0.7,
             "#b8e186"
            ],
            [
             0.8,
             "#7fbc41"
            ],
            [
             0.9,
             "#4d9221"
            ],
            [
             1,
             "#276419"
            ]
           ],
           "sequential": [
            [
             0,
             "#0d0887"
            ],
            [
             0.1111111111111111,
             "#46039f"
            ],
            [
             0.2222222222222222,
             "#7201a8"
            ],
            [
             0.3333333333333333,
             "#9c179e"
            ],
            [
             0.4444444444444444,
             "#bd3786"
            ],
            [
             0.5555555555555556,
             "#d8576b"
            ],
            [
             0.6666666666666666,
             "#ed7953"
            ],
            [
             0.7777777777777778,
             "#fb9f3a"
            ],
            [
             0.8888888888888888,
             "#fdca26"
            ],
            [
             1,
             "#f0f921"
            ]
           ],
           "sequentialminus": [
            [
             0,
             "#0d0887"
            ],
            [
             0.1111111111111111,
             "#46039f"
            ],
            [
             0.2222222222222222,
             "#7201a8"
            ],
            [
             0.3333333333333333,
             "#9c179e"
            ],
            [
             0.4444444444444444,
             "#bd3786"
            ],
            [
             0.5555555555555556,
             "#d8576b"
            ],
            [
             0.6666666666666666,
             "#ed7953"
            ],
            [
             0.7777777777777778,
             "#fb9f3a"
            ],
            [
             0.8888888888888888,
             "#fdca26"
            ],
            [
             1,
             "#f0f921"
            ]
           ]
          },
          "colorway": [
           "#636efa",
           "#EF553B",
           "#00cc96",
           "#ab63fa",
           "#FFA15A",
           "#19d3f3",
           "#FF6692",
           "#B6E880",
           "#FF97FF",
           "#FECB52"
          ],
          "font": {
           "color": "#2a3f5f"
          },
          "geo": {
           "bgcolor": "white",
           "lakecolor": "white",
           "landcolor": "#E5ECF6",
           "showlakes": true,
           "showland": true,
           "subunitcolor": "white"
          },
          "hoverlabel": {
           "align": "left"
          },
          "hovermode": "closest",
          "mapbox": {
           "style": "light"
          },
          "paper_bgcolor": "white",
          "plot_bgcolor": "#E5ECF6",
          "polar": {
           "angularaxis": {
            "gridcolor": "white",
            "linecolor": "white",
            "ticks": ""
           },
           "bgcolor": "#E5ECF6",
           "radialaxis": {
            "gridcolor": "white",
            "linecolor": "white",
            "ticks": ""
           }
          },
          "scene": {
           "xaxis": {
            "backgroundcolor": "#E5ECF6",
            "gridcolor": "white",
            "gridwidth": 2,
            "linecolor": "white",
            "showbackground": true,
            "ticks": "",
            "zerolinecolor": "white"
           },
           "yaxis": {
            "backgroundcolor": "#E5ECF6",
            "gridcolor": "white",
            "gridwidth": 2,
            "linecolor": "white",
            "showbackground": true,
            "ticks": "",
            "zerolinecolor": "white"
           },
           "zaxis": {
            "backgroundcolor": "#E5ECF6",
            "gridcolor": "white",
            "gridwidth": 2,
            "linecolor": "white",
            "showbackground": true,
            "ticks": "",
            "zerolinecolor": "white"
           }
          },
          "shapedefaults": {
           "line": {
            "color": "#2a3f5f"
           }
          },
          "ternary": {
           "aaxis": {
            "gridcolor": "white",
            "linecolor": "white",
            "ticks": ""
           },
           "baxis": {
            "gridcolor": "white",
            "linecolor": "white",
            "ticks": ""
           },
           "bgcolor": "#E5ECF6",
           "caxis": {
            "gridcolor": "white",
            "linecolor": "white",
            "ticks": ""
           }
          },
          "title": {
           "x": 0.05
          },
          "xaxis": {
           "automargin": true,
           "gridcolor": "white",
           "linecolor": "white",
           "ticks": "",
           "title": {
            "standoff": 15
           },
           "zerolinecolor": "white",
           "zerolinewidth": 2
          },
          "yaxis": {
           "automargin": true,
           "gridcolor": "white",
           "linecolor": "white",
           "ticks": "",
           "title": {
            "standoff": 15
           },
           "zerolinecolor": "white",
           "zerolinewidth": 2
          }
         }
        }
       }
      },
      "text/html": [
       "<div>\n",
       "        \n",
       "        \n",
       "            <div id=\"6d96f1f9-d1a4-4a1d-9586-803cd18d953a\" class=\"plotly-graph-div\" style=\"height:525px; width:100%;\"></div>\n",
       "            <script type=\"text/javascript\">\n",
       "                require([\"plotly\"], function(Plotly) {\n",
       "                    window.PLOTLYENV=window.PLOTLYENV || {};\n",
       "                    \n",
       "                if (document.getElementById(\"6d96f1f9-d1a4-4a1d-9586-803cd18d953a\")) {\n",
       "                    Plotly.newPlot(\n",
       "                        '6d96f1f9-d1a4-4a1d-9586-803cd18d953a',\n",
       "                        [{\"type\": \"scatter\", \"y\": [4.641592502593994, 6.216394424438477, 5.418124198913574, 3.9076201915740967, 3.2475733757019043]}, {\"type\": \"scatter\", \"y\": [15.0, 0.7480184435844421, -8.730718612670898, -6.374322891235352, -0.2261466085910797]}],\n",
       "                        {\"template\": {\"data\": {\"bar\": [{\"error_x\": {\"color\": \"#2a3f5f\"}, \"error_y\": {\"color\": \"#2a3f5f\"}, \"marker\": {\"line\": {\"color\": \"#E5ECF6\", \"width\": 0.5}}, \"type\": \"bar\"}], \"barpolar\": [{\"marker\": {\"line\": {\"color\": \"#E5ECF6\", \"width\": 0.5}}, \"type\": \"barpolar\"}], \"carpet\": [{\"aaxis\": {\"endlinecolor\": \"#2a3f5f\", \"gridcolor\": \"white\", \"linecolor\": \"white\", \"minorgridcolor\": \"white\", \"startlinecolor\": \"#2a3f5f\"}, \"baxis\": {\"endlinecolor\": \"#2a3f5f\", \"gridcolor\": \"white\", \"linecolor\": \"white\", \"minorgridcolor\": \"white\", \"startlinecolor\": \"#2a3f5f\"}, \"type\": \"carpet\"}], \"choropleth\": [{\"colorbar\": {\"outlinewidth\": 0, \"ticks\": \"\"}, \"type\": \"choropleth\"}], \"contour\": [{\"colorbar\": {\"outlinewidth\": 0, \"ticks\": \"\"}, \"colorscale\": [[0.0, \"#0d0887\"], [0.1111111111111111, \"#46039f\"], [0.2222222222222222, \"#7201a8\"], [0.3333333333333333, \"#9c179e\"], [0.4444444444444444, \"#bd3786\"], [0.5555555555555556, \"#d8576b\"], [0.6666666666666666, \"#ed7953\"], [0.7777777777777778, \"#fb9f3a\"], [0.8888888888888888, \"#fdca26\"], [1.0, \"#f0f921\"]], \"type\": \"contour\"}], \"contourcarpet\": [{\"colorbar\": {\"outlinewidth\": 0, \"ticks\": \"\"}, \"type\": \"contourcarpet\"}], \"heatmap\": [{\"colorbar\": {\"outlinewidth\": 0, \"ticks\": \"\"}, \"colorscale\": [[0.0, \"#0d0887\"], [0.1111111111111111, \"#46039f\"], [0.2222222222222222, \"#7201a8\"], [0.3333333333333333, \"#9c179e\"], [0.4444444444444444, \"#bd3786\"], [0.5555555555555556, \"#d8576b\"], [0.6666666666666666, \"#ed7953\"], [0.7777777777777778, \"#fb9f3a\"], [0.8888888888888888, \"#fdca26\"], [1.0, \"#f0f921\"]], \"type\": \"heatmap\"}], \"heatmapgl\": [{\"colorbar\": {\"outlinewidth\": 0, \"ticks\": \"\"}, \"colorscale\": [[0.0, \"#0d0887\"], [0.1111111111111111, \"#46039f\"], [0.2222222222222222, \"#7201a8\"], [0.3333333333333333, \"#9c179e\"], [0.4444444444444444, \"#bd3786\"], [0.5555555555555556, \"#d8576b\"], [0.6666666666666666, \"#ed7953\"], [0.7777777777777778, \"#fb9f3a\"], [0.8888888888888888, \"#fdca26\"], [1.0, \"#f0f921\"]], \"type\": \"heatmapgl\"}], \"histogram\": [{\"marker\": {\"colorbar\": {\"outlinewidth\": 0, \"ticks\": \"\"}}, \"type\": \"histogram\"}], \"histogram2d\": [{\"colorbar\": {\"outlinewidth\": 0, \"ticks\": \"\"}, \"colorscale\": [[0.0, \"#0d0887\"], [0.1111111111111111, \"#46039f\"], [0.2222222222222222, \"#7201a8\"], [0.3333333333333333, \"#9c179e\"], [0.4444444444444444, \"#bd3786\"], [0.5555555555555556, \"#d8576b\"], [0.6666666666666666, \"#ed7953\"], [0.7777777777777778, \"#fb9f3a\"], [0.8888888888888888, \"#fdca26\"], [1.0, \"#f0f921\"]], \"type\": \"histogram2d\"}], \"histogram2dcontour\": [{\"colorbar\": {\"outlinewidth\": 0, \"ticks\": \"\"}, \"colorscale\": [[0.0, \"#0d0887\"], [0.1111111111111111, \"#46039f\"], [0.2222222222222222, \"#7201a8\"], [0.3333333333333333, \"#9c179e\"], [0.4444444444444444, \"#bd3786\"], [0.5555555555555556, \"#d8576b\"], [0.6666666666666666, \"#ed7953\"], [0.7777777777777778, \"#fb9f3a\"], [0.8888888888888888, \"#fdca26\"], [1.0, \"#f0f921\"]], \"type\": \"histogram2dcontour\"}], \"mesh3d\": [{\"colorbar\": {\"outlinewidth\": 0, \"ticks\": \"\"}, \"type\": \"mesh3d\"}], \"parcoords\": [{\"line\": {\"colorbar\": {\"outlinewidth\": 0, \"ticks\": \"\"}}, \"type\": \"parcoords\"}], \"pie\": [{\"automargin\": true, \"type\": \"pie\"}], \"scatter\": [{\"marker\": {\"colorbar\": {\"outlinewidth\": 0, \"ticks\": \"\"}}, \"type\": \"scatter\"}], \"scatter3d\": [{\"line\": {\"colorbar\": {\"outlinewidth\": 0, \"ticks\": \"\"}}, \"marker\": {\"colorbar\": {\"outlinewidth\": 0, \"ticks\": \"\"}}, \"type\": \"scatter3d\"}], \"scattercarpet\": [{\"marker\": {\"colorbar\": {\"outlinewidth\": 0, \"ticks\": \"\"}}, \"type\": \"scattercarpet\"}], \"scattergeo\": [{\"marker\": {\"colorbar\": {\"outlinewidth\": 0, \"ticks\": \"\"}}, \"type\": \"scattergeo\"}], \"scattergl\": [{\"marker\": {\"colorbar\": {\"outlinewidth\": 0, \"ticks\": \"\"}}, \"type\": \"scattergl\"}], \"scattermapbox\": [{\"marker\": {\"colorbar\": {\"outlinewidth\": 0, \"ticks\": \"\"}}, \"type\": \"scattermapbox\"}], \"scatterpolar\": [{\"marker\": {\"colorbar\": {\"outlinewidth\": 0, \"ticks\": \"\"}}, \"type\": \"scatterpolar\"}], \"scatterpolargl\": [{\"marker\": {\"colorbar\": {\"outlinewidth\": 0, \"ticks\": \"\"}}, \"type\": \"scatterpolargl\"}], \"scatterternary\": [{\"marker\": {\"colorbar\": {\"outlinewidth\": 0, \"ticks\": \"\"}}, \"type\": \"scatterternary\"}], \"surface\": [{\"colorbar\": {\"outlinewidth\": 0, \"ticks\": \"\"}, \"colorscale\": [[0.0, \"#0d0887\"], [0.1111111111111111, \"#46039f\"], [0.2222222222222222, \"#7201a8\"], [0.3333333333333333, \"#9c179e\"], [0.4444444444444444, \"#bd3786\"], [0.5555555555555556, \"#d8576b\"], [0.6666666666666666, \"#ed7953\"], [0.7777777777777778, \"#fb9f3a\"], [0.8888888888888888, \"#fdca26\"], [1.0, \"#f0f921\"]], \"type\": \"surface\"}], \"table\": [{\"cells\": {\"fill\": {\"color\": \"#EBF0F8\"}, \"line\": {\"color\": \"white\"}}, \"header\": {\"fill\": {\"color\": \"#C8D4E3\"}, \"line\": {\"color\": \"white\"}}, \"type\": \"table\"}]}, \"layout\": {\"annotationdefaults\": {\"arrowcolor\": \"#2a3f5f\", \"arrowhead\": 0, \"arrowwidth\": 1}, \"coloraxis\": {\"colorbar\": {\"outlinewidth\": 0, \"ticks\": \"\"}}, \"colorscale\": {\"diverging\": [[0, \"#8e0152\"], [0.1, \"#c51b7d\"], [0.2, \"#de77ae\"], [0.3, \"#f1b6da\"], [0.4, \"#fde0ef\"], [0.5, \"#f7f7f7\"], [0.6, \"#e6f5d0\"], [0.7, \"#b8e186\"], [0.8, \"#7fbc41\"], [0.9, \"#4d9221\"], [1, \"#276419\"]], \"sequential\": [[0.0, \"#0d0887\"], [0.1111111111111111, \"#46039f\"], [0.2222222222222222, \"#7201a8\"], [0.3333333333333333, \"#9c179e\"], [0.4444444444444444, \"#bd3786\"], [0.5555555555555556, \"#d8576b\"], [0.6666666666666666, \"#ed7953\"], [0.7777777777777778, \"#fb9f3a\"], [0.8888888888888888, \"#fdca26\"], [1.0, \"#f0f921\"]], \"sequentialminus\": [[0.0, \"#0d0887\"], [0.1111111111111111, \"#46039f\"], [0.2222222222222222, \"#7201a8\"], [0.3333333333333333, \"#9c179e\"], [0.4444444444444444, \"#bd3786\"], [0.5555555555555556, \"#d8576b\"], [0.6666666666666666, \"#ed7953\"], [0.7777777777777778, \"#fb9f3a\"], [0.8888888888888888, \"#fdca26\"], [1.0, \"#f0f921\"]]}, \"colorway\": [\"#636efa\", \"#EF553B\", \"#00cc96\", \"#ab63fa\", \"#FFA15A\", \"#19d3f3\", \"#FF6692\", \"#B6E880\", \"#FF97FF\", \"#FECB52\"], \"font\": {\"color\": \"#2a3f5f\"}, \"geo\": {\"bgcolor\": \"white\", \"lakecolor\": \"white\", \"landcolor\": \"#E5ECF6\", \"showlakes\": true, \"showland\": true, \"subunitcolor\": \"white\"}, \"hoverlabel\": {\"align\": \"left\"}, \"hovermode\": \"closest\", \"mapbox\": {\"style\": \"light\"}, \"paper_bgcolor\": \"white\", \"plot_bgcolor\": \"#E5ECF6\", \"polar\": {\"angularaxis\": {\"gridcolor\": \"white\", \"linecolor\": \"white\", \"ticks\": \"\"}, \"bgcolor\": \"#E5ECF6\", \"radialaxis\": {\"gridcolor\": \"white\", \"linecolor\": \"white\", \"ticks\": \"\"}}, \"scene\": {\"xaxis\": {\"backgroundcolor\": \"#E5ECF6\", \"gridcolor\": \"white\", \"gridwidth\": 2, \"linecolor\": \"white\", \"showbackground\": true, \"ticks\": \"\", \"zerolinecolor\": \"white\"}, \"yaxis\": {\"backgroundcolor\": \"#E5ECF6\", \"gridcolor\": \"white\", \"gridwidth\": 2, \"linecolor\": \"white\", \"showbackground\": true, \"ticks\": \"\", \"zerolinecolor\": \"white\"}, \"zaxis\": {\"backgroundcolor\": \"#E5ECF6\", \"gridcolor\": \"white\", \"gridwidth\": 2, \"linecolor\": \"white\", \"showbackground\": true, \"ticks\": \"\", \"zerolinecolor\": \"white\"}}, \"shapedefaults\": {\"line\": {\"color\": \"#2a3f5f\"}}, \"ternary\": {\"aaxis\": {\"gridcolor\": \"white\", \"linecolor\": \"white\", \"ticks\": \"\"}, \"baxis\": {\"gridcolor\": \"white\", \"linecolor\": \"white\", \"ticks\": \"\"}, \"bgcolor\": \"#E5ECF6\", \"caxis\": {\"gridcolor\": \"white\", \"linecolor\": \"white\", \"ticks\": \"\"}}, \"title\": {\"x\": 0.05}, \"xaxis\": {\"automargin\": true, \"gridcolor\": \"white\", \"linecolor\": \"white\", \"ticks\": \"\", \"title\": {\"standoff\": 15}, \"zerolinecolor\": \"white\", \"zerolinewidth\": 2}, \"yaxis\": {\"automargin\": true, \"gridcolor\": \"white\", \"linecolor\": \"white\", \"ticks\": \"\", \"title\": {\"standoff\": 15}, \"zerolinecolor\": \"white\", \"zerolinewidth\": 2}}}},\n",
       "                        {\"responsive\": true}\n",
       "                    ).then(function(){\n",
       "                            \n",
       "var gd = document.getElementById('6d96f1f9-d1a4-4a1d-9586-803cd18d953a');\n",
       "var x = new MutationObserver(function (mutations, observer) {{\n",
       "        var display = window.getComputedStyle(gd).display;\n",
       "        if (!display || display === 'none') {{\n",
       "            console.log([gd, 'removed!']);\n",
       "            Plotly.purge(gd);\n",
       "            observer.disconnect();\n",
       "        }}\n",
       "}});\n",
       "\n",
       "// Listen for the removal of the full notebook cells\n",
       "var notebookContainer = gd.closest('#notebook-container');\n",
       "if (notebookContainer) {{\n",
       "    x.observe(notebookContainer, {childList: true});\n",
       "}}\n",
       "\n",
       "// Listen for the clearing of the current output cell\n",
       "var outputEl = gd.closest('.output');\n",
       "if (outputEl) {{\n",
       "    x.observe(outputEl, {childList: true});\n",
       "}}\n",
       "\n",
       "                        })\n",
       "                };\n",
       "                });\n",
       "            </script>\n",
       "        </div>"
      ]
     },
     "metadata": {},
     "output_type": "display_data"
    }
   ],
   "source": [
    "x0 = torch.Tensor([np.pi+1.5, 15.]).double()\n",
    "x_traj, u_traj, alpha_traj = vf.sol_to_traj(x0, *(V(x0)[1:]))\n",
    "fig = go.Figure()\n",
    "for i in range(2):\n",
    "    fig.add_trace(go.Scatter(\n",
    "        y=x_traj[i,:]\n",
    "    ))\n",
    "fig.show()"
   ]
  },
  {
   "cell_type": "code",
   "execution_count": 172,
   "metadata": {},
   "outputs": [
    {
     "data": {
      "application/vnd.plotly.v1+json": {
       "config": {
        "plotlyServerURL": "https://plot.ly"
       },
       "data": [
        {
         "type": "scatter",
         "x": [
          0,
          0.06022413447499275,
          0.10000000149011612,
          0.1557653248310089,
          0.20000000298023224,
          0.25075140595436096,
          0.30000001192092896,
          0.3535936176776886,
          0.4000000059604645,
          0.4853314757347107,
          0.5,
          0.585402250289917,
          0.6000000238418579,
          0.699024498462677,
          0.699999988079071,
          0.7863762974739075,
          0.800000011920929,
          0.8740042448043823,
          0.8999999761581421,
          0.9690865874290466,
          1,
          1.0667896270751953,
          1.100000023841858,
          1.1657065153121948,
          1.2000000476837158,
          1.2652432918548584,
          1.2999999523162842,
          1.3651171922683716,
          1.399999976158142,
          1.4651837348937988,
          1.5,
          1.565368413925171,
          1.600000023841858,
          1.6656335592269897,
          1.7000000476837158,
          1.7659642696380615,
          1.7999999523162842,
          1.8663594722747803,
          1.899999976158142,
          1.9668288230895996,
          2,
          2.0673928260803223,
          2.0999999046325684,
          2.1680853366851807,
          2.200000047683716,
          2.2689623832702637,
          2.299999952316284,
          2.370117425918579,
          2.4000000953674316,
          2.4717202186584473,
          2.5,
          2.5741090774536133,
          2.5999999046325684,
          2.678098201751709,
          2.700000047683716,
          2.7830142974853516,
          2.799999952316284,
          2.8833305835723877,
          2.9000000953674316,
          2.9841601848602295,
          3,
          3.07071852684021,
          3.0999999046325684,
          3.1632273197174072,
          3.200000047683716,
          3.262460947036743,
          3.299999952316284,
          3.36531925201416,
          3.4000000953674316,
          3.46759295463562,
          3.5,
          3.5696847438812256,
          3.5999999046325684,
          3.671755790710449,
          3.700000047683716,
          3.773923873901367,
          3.799999952316284,
          3.8762526512145996,
          3.9000000953674316,
          3.9787847995758057,
          4,
          4.081533432006836,
          4.099999904632568,
          4.184571743011475,
          4.199999809265137,
          4.287936687469482,
          4.300000190734863,
          4.391534805297852,
          4.400000095367432,
          4.495532989501953,
          4.5,
          4.5997796058654785,
          4.599999904632568,
          4.699999809265137,
          4.800000190734863,
          4.900000095367432
         ],
         "y": [
          4.641592502593994,
          5.430210113525391,
          5.809196472167969,
          6.176829814910889,
          6.3481125831604,
          6.432316303253174,
          6.420653343200684,
          6.322351932525635,
          6.183174133300781,
          5.8399763107299805,
          5.773110389709473,
          5.371998310089111,
          5.302628993988037,
          4.8543782234191895,
          4.850184917449951,
          4.506830215454102,
          4.457347393035889,
          4.213306903839111,
          4.136794567108154,
          3.9560530185699463,
          3.884897232055664,
          3.7499799728393555,
          3.69148850440979,
          3.590749740600586,
          3.5451884269714355,
          3.4701521396636963,
          3.435670852661133,
          3.3799822330474854,
          3.354346513748169,
          3.3131966590881348,
          3.2943742275238037,
          3.264115571975708,
          3.2504336833953857,
          3.2283027172088623,
          3.218446731567383,
          3.2023537158966064,
          3.195317506790161,
          3.1836886405944824,
          3.178713321685791,
          3.1703672409057617,
          3.166886568069458,
          3.1609413623809814,
          3.158536911010742,
          3.15433669090271,
          3.152700662612915,
          3.1497604846954346,
          3.1486687660217285,
          3.1466317176818848,
          3.1459217071533203,
          3.144526958465576,
          3.1440820693969727,
          3.1431386470794678,
          3.142876148223877,
          3.1422460079193115,
          3.142108201980591,
          3.1417012214660645,
          3.1416385173797607,
          3.14140248298645,
          3.1413686275482178,
          3.141244888305664,
          3.1412296295166016,
          3.141183614730835,
          3.141174077987671,
          3.1411666870117188,
          3.141169548034668,
          3.1411824226379395,
          3.1411941051483154,
          3.141218900680542,
          3.1412336826324463,
          3.1412642002105713,
          3.141279458999634,
          3.1413116455078125,
          3.1413254737854004,
          3.141356945037842,
          3.141368865966797,
          3.1413981914520264,
          3.1414079666137695,
          3.1414341926574707,
          3.141442060470581,
          3.141465187072754,
          3.1414709091186523,
          3.141491174697876,
          3.1414952278137207,
          3.141512632369995,
          3.1415154933929443,
          3.1415300369262695,
          3.1415317058563232,
          3.1415441036224365,
          3.141545057296753,
          3.1415553092956543,
          3.1415555477142334,
          3.141563892364502,
          3.141563892364502,
          3.141570568084717,
          3.141575813293457,
          3.1415798664093018
         ]
        },
        {
         "type": "scatter",
         "x": [
          0,
          0.06022413447499275,
          0.10000000149011612,
          0.1557653248310089,
          0.20000000298023224,
          0.25075140595436096,
          0.30000001192092896,
          0.3535936176776886,
          0.4000000059604645,
          0.4853314757347107,
          0.5,
          0.585402250289917,
          0.6000000238418579,
          0.699024498462677,
          0.699999988079071,
          0.7863762974739075,
          0.800000011920929,
          0.8740042448043823,
          0.8999999761581421,
          0.9690865874290466,
          1,
          1.0667896270751953,
          1.100000023841858,
          1.1657065153121948,
          1.2000000476837158,
          1.2652432918548584,
          1.2999999523162842,
          1.3651171922683716,
          1.399999976158142,
          1.4651837348937988,
          1.5,
          1.565368413925171,
          1.600000023841858,
          1.6656335592269897,
          1.7000000476837158,
          1.7659642696380615,
          1.7999999523162842,
          1.8663594722747803,
          1.899999976158142,
          1.9668288230895996,
          2,
          2.0673928260803223,
          2.0999999046325684,
          2.1680853366851807,
          2.200000047683716,
          2.2689623832702637,
          2.299999952316284,
          2.370117425918579,
          2.4000000953674316,
          2.4717202186584473,
          2.5,
          2.5741090774536133,
          2.5999999046325684,
          2.678098201751709,
          2.700000047683716,
          2.7830142974853516,
          2.799999952316284,
          2.8833305835723877,
          2.9000000953674316,
          2.9841601848602295,
          3,
          3.07071852684021,
          3.0999999046325684,
          3.1632273197174072,
          3.200000047683716,
          3.262460947036743,
          3.299999952316284,
          3.36531925201416,
          3.4000000953674316,
          3.46759295463562,
          3.5,
          3.5696847438812256,
          3.5999999046325684,
          3.671755790710449,
          3.700000047683716,
          3.773923873901367,
          3.799999952316284,
          3.8762526512145996,
          3.9000000953674316,
          3.9787847995758057,
          4,
          4.081533432006836,
          4.099999904632568,
          4.184571743011475,
          4.199999809265137,
          4.287936687469482,
          4.300000190734863,
          4.391534805297852,
          4.400000095367432,
          4.495532989501953,
          4.5,
          4.5997796058654785,
          4.599999904632568,
          4.699999809265137,
          4.800000190734863,
          4.900000095367432
         ],
         "y": [
          15,
          11.04810619354248,
          7.9395294189453125,
          5.147671699523926,
          2.5443131923675537,
          0.7327143549919128,
          -1.2368664741516113,
          -2.4473419189453125,
          -3.5583441257476807,
          -4.4808173179626465,
          -4.635927200317383,
          -4.745314598083496,
          -4.7587151527404785,
          -4.300433158874512,
          -4.2962541580200195,
          -3.6748974323272705,
          -3.590071678161621,
          -3.0272583961486816,
          -2.8622565269470215,
          -2.390061140060425,
          -2.217426300048828,
          -1.839223861694336,
          -1.6870795488357544,
          -1.3922700881958008,
          -1.2680647373199463,
          -1.0420358180999756,
          -0.9446035027503967,
          -0.7731804847717285,
          -0.6984909176826477,
          -0.5694996118545532,
          -0.513079822063446,
          -0.41663047671318054,
          -0.37445756793022156,
          -0.30274471640586853,
          -0.2714878022670746,
          -0.21844977140426636,
          -0.19546066224575043,
          -0.15643922984600067,
          -0.1396591067314148,
          -0.11110144108533859,
          -0.09895172715187073,
          -0.0781635269522667,
          -0.06944529712200165,
          -0.054395195096731186,
          -0.048205260187387466,
          -0.03736818954348564,
          -0.03303055465221405,
          -0.025267284363508224,
          -0.02228005975484848,
          -0.01674186810851097,
          -0.014735842123627663,
          -0.010791593231260777,
          -0.00949999038130045,
          -0.006673755589872599,
          -0.005912687163800001,
          -0.0039004806894809008,
          -0.003493325784802437,
          -0.002165618585422635,
          -0.0018933898536488414,
          -0.001035545952618122,
          -0.0008621792076155543,
          -0.0004268750490155071,
          -0.0002205342025263235,
          -2.467417971274699e-06,
          0.00015825284935999662,
          0.0002655214339029044,
          0.00036315227043814957,
          0.0004057420010212809,
          0.0004562914837151766,
          0.0004567359865177423,
          0.0004799333692062646,
          0.0004547430435195565,
          0.0004622279084287584,
          0.00042336073238402605,
          0.0004225316224619746,
          0.00037754466757178307,
          0.00037274928763508797,
          0.00032652364461682737,
          0.00032038011704571545,
          0.0002759509370662272,
          0.00026995790540240705,
          0.00022927482496015728,
          0.0002242409100290388,
          0.00018771823670249432,
          0.00018383897258900106,
          0.00015149120008572936,
          0.00014877197099849582,
          0.00012115715071558952,
          0.0001195554796140641,
          9.577009041095152e-05,
          9.505043999524787e-05,
          7.518295751651749e-05,
          7.515424658777192e-05,
          5.9089434216730297e-05,
          4.606727452483028e-05,
          3.5607376048574224e-05
         ]
        }
       ],
       "layout": {
        "template": {
         "data": {
          "bar": [
           {
            "error_x": {
             "color": "#2a3f5f"
            },
            "error_y": {
             "color": "#2a3f5f"
            },
            "marker": {
             "line": {
              "color": "#E5ECF6",
              "width": 0.5
             }
            },
            "type": "bar"
           }
          ],
          "barpolar": [
           {
            "marker": {
             "line": {
              "color": "#E5ECF6",
              "width": 0.5
             }
            },
            "type": "barpolar"
           }
          ],
          "carpet": [
           {
            "aaxis": {
             "endlinecolor": "#2a3f5f",
             "gridcolor": "white",
             "linecolor": "white",
             "minorgridcolor": "white",
             "startlinecolor": "#2a3f5f"
            },
            "baxis": {
             "endlinecolor": "#2a3f5f",
             "gridcolor": "white",
             "linecolor": "white",
             "minorgridcolor": "white",
             "startlinecolor": "#2a3f5f"
            },
            "type": "carpet"
           }
          ],
          "choropleth": [
           {
            "colorbar": {
             "outlinewidth": 0,
             "ticks": ""
            },
            "type": "choropleth"
           }
          ],
          "contour": [
           {
            "colorbar": {
             "outlinewidth": 0,
             "ticks": ""
            },
            "colorscale": [
             [
              0,
              "#0d0887"
             ],
             [
              0.1111111111111111,
              "#46039f"
             ],
             [
              0.2222222222222222,
              "#7201a8"
             ],
             [
              0.3333333333333333,
              "#9c179e"
             ],
             [
              0.4444444444444444,
              "#bd3786"
             ],
             [
              0.5555555555555556,
              "#d8576b"
             ],
             [
              0.6666666666666666,
              "#ed7953"
             ],
             [
              0.7777777777777778,
              "#fb9f3a"
             ],
             [
              0.8888888888888888,
              "#fdca26"
             ],
             [
              1,
              "#f0f921"
             ]
            ],
            "type": "contour"
           }
          ],
          "contourcarpet": [
           {
            "colorbar": {
             "outlinewidth": 0,
             "ticks": ""
            },
            "type": "contourcarpet"
           }
          ],
          "heatmap": [
           {
            "colorbar": {
             "outlinewidth": 0,
             "ticks": ""
            },
            "colorscale": [
             [
              0,
              "#0d0887"
             ],
             [
              0.1111111111111111,
              "#46039f"
             ],
             [
              0.2222222222222222,
              "#7201a8"
             ],
             [
              0.3333333333333333,
              "#9c179e"
             ],
             [
              0.4444444444444444,
              "#bd3786"
             ],
             [
              0.5555555555555556,
              "#d8576b"
             ],
             [
              0.6666666666666666,
              "#ed7953"
             ],
             [
              0.7777777777777778,
              "#fb9f3a"
             ],
             [
              0.8888888888888888,
              "#fdca26"
             ],
             [
              1,
              "#f0f921"
             ]
            ],
            "type": "heatmap"
           }
          ],
          "heatmapgl": [
           {
            "colorbar": {
             "outlinewidth": 0,
             "ticks": ""
            },
            "colorscale": [
             [
              0,
              "#0d0887"
             ],
             [
              0.1111111111111111,
              "#46039f"
             ],
             [
              0.2222222222222222,
              "#7201a8"
             ],
             [
              0.3333333333333333,
              "#9c179e"
             ],
             [
              0.4444444444444444,
              "#bd3786"
             ],
             [
              0.5555555555555556,
              "#d8576b"
             ],
             [
              0.6666666666666666,
              "#ed7953"
             ],
             [
              0.7777777777777778,
              "#fb9f3a"
             ],
             [
              0.8888888888888888,
              "#fdca26"
             ],
             [
              1,
              "#f0f921"
             ]
            ],
            "type": "heatmapgl"
           }
          ],
          "histogram": [
           {
            "marker": {
             "colorbar": {
              "outlinewidth": 0,
              "ticks": ""
             }
            },
            "type": "histogram"
           }
          ],
          "histogram2d": [
           {
            "colorbar": {
             "outlinewidth": 0,
             "ticks": ""
            },
            "colorscale": [
             [
              0,
              "#0d0887"
             ],
             [
              0.1111111111111111,
              "#46039f"
             ],
             [
              0.2222222222222222,
              "#7201a8"
             ],
             [
              0.3333333333333333,
              "#9c179e"
             ],
             [
              0.4444444444444444,
              "#bd3786"
             ],
             [
              0.5555555555555556,
              "#d8576b"
             ],
             [
              0.6666666666666666,
              "#ed7953"
             ],
             [
              0.7777777777777778,
              "#fb9f3a"
             ],
             [
              0.8888888888888888,
              "#fdca26"
             ],
             [
              1,
              "#f0f921"
             ]
            ],
            "type": "histogram2d"
           }
          ],
          "histogram2dcontour": [
           {
            "colorbar": {
             "outlinewidth": 0,
             "ticks": ""
            },
            "colorscale": [
             [
              0,
              "#0d0887"
             ],
             [
              0.1111111111111111,
              "#46039f"
             ],
             [
              0.2222222222222222,
              "#7201a8"
             ],
             [
              0.3333333333333333,
              "#9c179e"
             ],
             [
              0.4444444444444444,
              "#bd3786"
             ],
             [
              0.5555555555555556,
              "#d8576b"
             ],
             [
              0.6666666666666666,
              "#ed7953"
             ],
             [
              0.7777777777777778,
              "#fb9f3a"
             ],
             [
              0.8888888888888888,
              "#fdca26"
             ],
             [
              1,
              "#f0f921"
             ]
            ],
            "type": "histogram2dcontour"
           }
          ],
          "mesh3d": [
           {
            "colorbar": {
             "outlinewidth": 0,
             "ticks": ""
            },
            "type": "mesh3d"
           }
          ],
          "parcoords": [
           {
            "line": {
             "colorbar": {
              "outlinewidth": 0,
              "ticks": ""
             }
            },
            "type": "parcoords"
           }
          ],
          "pie": [
           {
            "automargin": true,
            "type": "pie"
           }
          ],
          "scatter": [
           {
            "marker": {
             "colorbar": {
              "outlinewidth": 0,
              "ticks": ""
             }
            },
            "type": "scatter"
           }
          ],
          "scatter3d": [
           {
            "line": {
             "colorbar": {
              "outlinewidth": 0,
              "ticks": ""
             }
            },
            "marker": {
             "colorbar": {
              "outlinewidth": 0,
              "ticks": ""
             }
            },
            "type": "scatter3d"
           }
          ],
          "scattercarpet": [
           {
            "marker": {
             "colorbar": {
              "outlinewidth": 0,
              "ticks": ""
             }
            },
            "type": "scattercarpet"
           }
          ],
          "scattergeo": [
           {
            "marker": {
             "colorbar": {
              "outlinewidth": 0,
              "ticks": ""
             }
            },
            "type": "scattergeo"
           }
          ],
          "scattergl": [
           {
            "marker": {
             "colorbar": {
              "outlinewidth": 0,
              "ticks": ""
             }
            },
            "type": "scattergl"
           }
          ],
          "scattermapbox": [
           {
            "marker": {
             "colorbar": {
              "outlinewidth": 0,
              "ticks": ""
             }
            },
            "type": "scattermapbox"
           }
          ],
          "scatterpolar": [
           {
            "marker": {
             "colorbar": {
              "outlinewidth": 0,
              "ticks": ""
             }
            },
            "type": "scatterpolar"
           }
          ],
          "scatterpolargl": [
           {
            "marker": {
             "colorbar": {
              "outlinewidth": 0,
              "ticks": ""
             }
            },
            "type": "scatterpolargl"
           }
          ],
          "scatterternary": [
           {
            "marker": {
             "colorbar": {
              "outlinewidth": 0,
              "ticks": ""
             }
            },
            "type": "scatterternary"
           }
          ],
          "surface": [
           {
            "colorbar": {
             "outlinewidth": 0,
             "ticks": ""
            },
            "colorscale": [
             [
              0,
              "#0d0887"
             ],
             [
              0.1111111111111111,
              "#46039f"
             ],
             [
              0.2222222222222222,
              "#7201a8"
             ],
             [
              0.3333333333333333,
              "#9c179e"
             ],
             [
              0.4444444444444444,
              "#bd3786"
             ],
             [
              0.5555555555555556,
              "#d8576b"
             ],
             [
              0.6666666666666666,
              "#ed7953"
             ],
             [
              0.7777777777777778,
              "#fb9f3a"
             ],
             [
              0.8888888888888888,
              "#fdca26"
             ],
             [
              1,
              "#f0f921"
             ]
            ],
            "type": "surface"
           }
          ],
          "table": [
           {
            "cells": {
             "fill": {
              "color": "#EBF0F8"
             },
             "line": {
              "color": "white"
             }
            },
            "header": {
             "fill": {
              "color": "#C8D4E3"
             },
             "line": {
              "color": "white"
             }
            },
            "type": "table"
           }
          ]
         },
         "layout": {
          "annotationdefaults": {
           "arrowcolor": "#2a3f5f",
           "arrowhead": 0,
           "arrowwidth": 1
          },
          "coloraxis": {
           "colorbar": {
            "outlinewidth": 0,
            "ticks": ""
           }
          },
          "colorscale": {
           "diverging": [
            [
             0,
             "#8e0152"
            ],
            [
             0.1,
             "#c51b7d"
            ],
            [
             0.2,
             "#de77ae"
            ],
            [
             0.3,
             "#f1b6da"
            ],
            [
             0.4,
             "#fde0ef"
            ],
            [
             0.5,
             "#f7f7f7"
            ],
            [
             0.6,
             "#e6f5d0"
            ],
            [
             0.7,
             "#b8e186"
            ],
            [
             0.8,
             "#7fbc41"
            ],
            [
             0.9,
             "#4d9221"
            ],
            [
             1,
             "#276419"
            ]
           ],
           "sequential": [
            [
             0,
             "#0d0887"
            ],
            [
             0.1111111111111111,
             "#46039f"
            ],
            [
             0.2222222222222222,
             "#7201a8"
            ],
            [
             0.3333333333333333,
             "#9c179e"
            ],
            [
             0.4444444444444444,
             "#bd3786"
            ],
            [
             0.5555555555555556,
             "#d8576b"
            ],
            [
             0.6666666666666666,
             "#ed7953"
            ],
            [
             0.7777777777777778,
             "#fb9f3a"
            ],
            [
             0.8888888888888888,
             "#fdca26"
            ],
            [
             1,
             "#f0f921"
            ]
           ],
           "sequentialminus": [
            [
             0,
             "#0d0887"
            ],
            [
             0.1111111111111111,
             "#46039f"
            ],
            [
             0.2222222222222222,
             "#7201a8"
            ],
            [
             0.3333333333333333,
             "#9c179e"
            ],
            [
             0.4444444444444444,
             "#bd3786"
            ],
            [
             0.5555555555555556,
             "#d8576b"
            ],
            [
             0.6666666666666666,
             "#ed7953"
            ],
            [
             0.7777777777777778,
             "#fb9f3a"
            ],
            [
             0.8888888888888888,
             "#fdca26"
            ],
            [
             1,
             "#f0f921"
            ]
           ]
          },
          "colorway": [
           "#636efa",
           "#EF553B",
           "#00cc96",
           "#ab63fa",
           "#FFA15A",
           "#19d3f3",
           "#FF6692",
           "#B6E880",
           "#FF97FF",
           "#FECB52"
          ],
          "font": {
           "color": "#2a3f5f"
          },
          "geo": {
           "bgcolor": "white",
           "lakecolor": "white",
           "landcolor": "#E5ECF6",
           "showlakes": true,
           "showland": true,
           "subunitcolor": "white"
          },
          "hoverlabel": {
           "align": "left"
          },
          "hovermode": "closest",
          "mapbox": {
           "style": "light"
          },
          "paper_bgcolor": "white",
          "plot_bgcolor": "#E5ECF6",
          "polar": {
           "angularaxis": {
            "gridcolor": "white",
            "linecolor": "white",
            "ticks": ""
           },
           "bgcolor": "#E5ECF6",
           "radialaxis": {
            "gridcolor": "white",
            "linecolor": "white",
            "ticks": ""
           }
          },
          "scene": {
           "xaxis": {
            "backgroundcolor": "#E5ECF6",
            "gridcolor": "white",
            "gridwidth": 2,
            "linecolor": "white",
            "showbackground": true,
            "ticks": "",
            "zerolinecolor": "white"
           },
           "yaxis": {
            "backgroundcolor": "#E5ECF6",
            "gridcolor": "white",
            "gridwidth": 2,
            "linecolor": "white",
            "showbackground": true,
            "ticks": "",
            "zerolinecolor": "white"
           },
           "zaxis": {
            "backgroundcolor": "#E5ECF6",
            "gridcolor": "white",
            "gridwidth": 2,
            "linecolor": "white",
            "showbackground": true,
            "ticks": "",
            "zerolinecolor": "white"
           }
          },
          "shapedefaults": {
           "line": {
            "color": "#2a3f5f"
           }
          },
          "ternary": {
           "aaxis": {
            "gridcolor": "white",
            "linecolor": "white",
            "ticks": ""
           },
           "baxis": {
            "gridcolor": "white",
            "linecolor": "white",
            "ticks": ""
           },
           "bgcolor": "#E5ECF6",
           "caxis": {
            "gridcolor": "white",
            "linecolor": "white",
            "ticks": ""
           }
          },
          "title": {
           "x": 0.05
          },
          "xaxis": {
           "automargin": true,
           "gridcolor": "white",
           "linecolor": "white",
           "ticks": "",
           "title": {
            "standoff": 15
           },
           "zerolinecolor": "white",
           "zerolinewidth": 2
          },
          "yaxis": {
           "automargin": true,
           "gridcolor": "white",
           "linecolor": "white",
           "ticks": "",
           "title": {
            "standoff": 15
           },
           "zerolinecolor": "white",
           "zerolinewidth": 2
          }
         }
        }
       }
      },
      "text/html": [
       "<div>\n",
       "        \n",
       "        \n",
       "            <div id=\"5f65e12b-855e-4c73-9832-f8876d045062\" class=\"plotly-graph-div\" style=\"height:525px; width:100%;\"></div>\n",
       "            <script type=\"text/javascript\">\n",
       "                require([\"plotly\"], function(Plotly) {\n",
       "                    window.PLOTLYENV=window.PLOTLYENV || {};\n",
       "                    \n",
       "                if (document.getElementById(\"5f65e12b-855e-4c73-9832-f8876d045062\")) {\n",
       "                    Plotly.newPlot(\n",
       "                        '5f65e12b-855e-4c73-9832-f8876d045062',\n",
       "                        [{\"type\": \"scatter\", \"x\": [0.0, 0.06022413447499275, 0.10000000149011612, 0.1557653248310089, 0.20000000298023224, 0.25075140595436096, 0.30000001192092896, 0.3535936176776886, 0.4000000059604645, 0.4853314757347107, 0.5, 0.585402250289917, 0.6000000238418579, 0.699024498462677, 0.699999988079071, 0.7863762974739075, 0.800000011920929, 0.8740042448043823, 0.8999999761581421, 0.9690865874290466, 1.0, 1.0667896270751953, 1.100000023841858, 1.1657065153121948, 1.2000000476837158, 1.2652432918548584, 1.2999999523162842, 1.3651171922683716, 1.399999976158142, 1.4651837348937988, 1.5, 1.565368413925171, 1.600000023841858, 1.6656335592269897, 1.7000000476837158, 1.7659642696380615, 1.7999999523162842, 1.8663594722747803, 1.899999976158142, 1.9668288230895996, 2.0, 2.0673928260803223, 2.0999999046325684, 2.1680853366851807, 2.200000047683716, 2.2689623832702637, 2.299999952316284, 2.370117425918579, 2.4000000953674316, 2.4717202186584473, 2.5, 2.5741090774536133, 2.5999999046325684, 2.678098201751709, 2.700000047683716, 2.7830142974853516, 2.799999952316284, 2.8833305835723877, 2.9000000953674316, 2.9841601848602295, 3.0, 3.07071852684021, 3.0999999046325684, 3.1632273197174072, 3.200000047683716, 3.262460947036743, 3.299999952316284, 3.36531925201416, 3.4000000953674316, 3.46759295463562, 3.5, 3.5696847438812256, 3.5999999046325684, 3.671755790710449, 3.700000047683716, 3.773923873901367, 3.799999952316284, 3.8762526512145996, 3.9000000953674316, 3.9787847995758057, 4.0, 4.081533432006836, 4.099999904632568, 4.184571743011475, 4.199999809265137, 4.287936687469482, 4.300000190734863, 4.391534805297852, 4.400000095367432, 4.495532989501953, 4.5, 4.5997796058654785, 4.599999904632568, 4.699999809265137, 4.800000190734863, 4.900000095367432], \"y\": [4.641592502593994, 5.430210113525391, 5.809196472167969, 6.176829814910889, 6.3481125831604, 6.432316303253174, 6.420653343200684, 6.322351932525635, 6.183174133300781, 5.8399763107299805, 5.773110389709473, 5.371998310089111, 5.302628993988037, 4.8543782234191895, 4.850184917449951, 4.506830215454102, 4.457347393035889, 4.213306903839111, 4.136794567108154, 3.9560530185699463, 3.884897232055664, 3.7499799728393555, 3.69148850440979, 3.590749740600586, 3.5451884269714355, 3.4701521396636963, 3.435670852661133, 3.3799822330474854, 3.354346513748169, 3.3131966590881348, 3.2943742275238037, 3.264115571975708, 3.2504336833953857, 3.2283027172088623, 3.218446731567383, 3.2023537158966064, 3.195317506790161, 3.1836886405944824, 3.178713321685791, 3.1703672409057617, 3.166886568069458, 3.1609413623809814, 3.158536911010742, 3.15433669090271, 3.152700662612915, 3.1497604846954346, 3.1486687660217285, 3.1466317176818848, 3.1459217071533203, 3.144526958465576, 3.1440820693969727, 3.1431386470794678, 3.142876148223877, 3.1422460079193115, 3.142108201980591, 3.1417012214660645, 3.1416385173797607, 3.14140248298645, 3.1413686275482178, 3.141244888305664, 3.1412296295166016, 3.141183614730835, 3.141174077987671, 3.1411666870117188, 3.141169548034668, 3.1411824226379395, 3.1411941051483154, 3.141218900680542, 3.1412336826324463, 3.1412642002105713, 3.141279458999634, 3.1413116455078125, 3.1413254737854004, 3.141356945037842, 3.141368865966797, 3.1413981914520264, 3.1414079666137695, 3.1414341926574707, 3.141442060470581, 3.141465187072754, 3.1414709091186523, 3.141491174697876, 3.1414952278137207, 3.141512632369995, 3.1415154933929443, 3.1415300369262695, 3.1415317058563232, 3.1415441036224365, 3.141545057296753, 3.1415553092956543, 3.1415555477142334, 3.141563892364502, 3.141563892364502, 3.141570568084717, 3.141575813293457, 3.1415798664093018]}, {\"type\": \"scatter\", \"x\": [0.0, 0.06022413447499275, 0.10000000149011612, 0.1557653248310089, 0.20000000298023224, 0.25075140595436096, 0.30000001192092896, 0.3535936176776886, 0.4000000059604645, 0.4853314757347107, 0.5, 0.585402250289917, 0.6000000238418579, 0.699024498462677, 0.699999988079071, 0.7863762974739075, 0.800000011920929, 0.8740042448043823, 0.8999999761581421, 0.9690865874290466, 1.0, 1.0667896270751953, 1.100000023841858, 1.1657065153121948, 1.2000000476837158, 1.2652432918548584, 1.2999999523162842, 1.3651171922683716, 1.399999976158142, 1.4651837348937988, 1.5, 1.565368413925171, 1.600000023841858, 1.6656335592269897, 1.7000000476837158, 1.7659642696380615, 1.7999999523162842, 1.8663594722747803, 1.899999976158142, 1.9668288230895996, 2.0, 2.0673928260803223, 2.0999999046325684, 2.1680853366851807, 2.200000047683716, 2.2689623832702637, 2.299999952316284, 2.370117425918579, 2.4000000953674316, 2.4717202186584473, 2.5, 2.5741090774536133, 2.5999999046325684, 2.678098201751709, 2.700000047683716, 2.7830142974853516, 2.799999952316284, 2.8833305835723877, 2.9000000953674316, 2.9841601848602295, 3.0, 3.07071852684021, 3.0999999046325684, 3.1632273197174072, 3.200000047683716, 3.262460947036743, 3.299999952316284, 3.36531925201416, 3.4000000953674316, 3.46759295463562, 3.5, 3.5696847438812256, 3.5999999046325684, 3.671755790710449, 3.700000047683716, 3.773923873901367, 3.799999952316284, 3.8762526512145996, 3.9000000953674316, 3.9787847995758057, 4.0, 4.081533432006836, 4.099999904632568, 4.184571743011475, 4.199999809265137, 4.287936687469482, 4.300000190734863, 4.391534805297852, 4.400000095367432, 4.495532989501953, 4.5, 4.5997796058654785, 4.599999904632568, 4.699999809265137, 4.800000190734863, 4.900000095367432], \"y\": [15.0, 11.04810619354248, 7.9395294189453125, 5.147671699523926, 2.5443131923675537, 0.7327143549919128, -1.2368664741516113, -2.4473419189453125, -3.5583441257476807, -4.4808173179626465, -4.635927200317383, -4.745314598083496, -4.7587151527404785, -4.300433158874512, -4.2962541580200195, -3.6748974323272705, -3.590071678161621, -3.0272583961486816, -2.8622565269470215, -2.390061140060425, -2.217426300048828, -1.839223861694336, -1.6870795488357544, -1.3922700881958008, -1.2680647373199463, -1.0420358180999756, -0.9446035027503967, -0.7731804847717285, -0.6984909176826477, -0.5694996118545532, -0.513079822063446, -0.41663047671318054, -0.37445756793022156, -0.30274471640586853, -0.2714878022670746, -0.21844977140426636, -0.19546066224575043, -0.15643922984600067, -0.1396591067314148, -0.11110144108533859, -0.09895172715187073, -0.0781635269522667, -0.06944529712200165, -0.054395195096731186, -0.048205260187387466, -0.03736818954348564, -0.03303055465221405, -0.025267284363508224, -0.02228005975484848, -0.01674186810851097, -0.014735842123627663, -0.010791593231260777, -0.00949999038130045, -0.006673755589872599, -0.005912687163800001, -0.0039004806894809008, -0.003493325784802437, -0.002165618585422635, -0.0018933898536488414, -0.001035545952618122, -0.0008621792076155543, -0.0004268750490155071, -0.0002205342025263235, -2.467417971274699e-06, 0.00015825284935999662, 0.0002655214339029044, 0.00036315227043814957, 0.0004057420010212809, 0.0004562914837151766, 0.0004567359865177423, 0.0004799333692062646, 0.0004547430435195565, 0.0004622279084287584, 0.00042336073238402605, 0.0004225316224619746, 0.00037754466757178307, 0.00037274928763508797, 0.00032652364461682737, 0.00032038011704571545, 0.0002759509370662272, 0.00026995790540240705, 0.00022927482496015728, 0.0002242409100290388, 0.00018771823670249432, 0.00018383897258900106, 0.00015149120008572936, 0.00014877197099849582, 0.00012115715071558952, 0.0001195554796140641, 9.577009041095152e-05, 9.505043999524787e-05, 7.518295751651749e-05, 7.515424658777192e-05, 5.9089434216730297e-05, 4.606727452483028e-05, 3.5607376048574224e-05]}],\n",
       "                        {\"template\": {\"data\": {\"bar\": [{\"error_x\": {\"color\": \"#2a3f5f\"}, \"error_y\": {\"color\": \"#2a3f5f\"}, \"marker\": {\"line\": {\"color\": \"#E5ECF6\", \"width\": 0.5}}, \"type\": \"bar\"}], \"barpolar\": [{\"marker\": {\"line\": {\"color\": \"#E5ECF6\", \"width\": 0.5}}, \"type\": \"barpolar\"}], \"carpet\": [{\"aaxis\": {\"endlinecolor\": \"#2a3f5f\", \"gridcolor\": \"white\", \"linecolor\": \"white\", \"minorgridcolor\": \"white\", \"startlinecolor\": \"#2a3f5f\"}, \"baxis\": {\"endlinecolor\": \"#2a3f5f\", \"gridcolor\": \"white\", \"linecolor\": \"white\", \"minorgridcolor\": \"white\", \"startlinecolor\": \"#2a3f5f\"}, \"type\": \"carpet\"}], \"choropleth\": [{\"colorbar\": {\"outlinewidth\": 0, \"ticks\": \"\"}, \"type\": \"choropleth\"}], \"contour\": [{\"colorbar\": {\"outlinewidth\": 0, \"ticks\": \"\"}, \"colorscale\": [[0.0, \"#0d0887\"], [0.1111111111111111, \"#46039f\"], [0.2222222222222222, \"#7201a8\"], [0.3333333333333333, \"#9c179e\"], [0.4444444444444444, \"#bd3786\"], [0.5555555555555556, \"#d8576b\"], [0.6666666666666666, \"#ed7953\"], [0.7777777777777778, \"#fb9f3a\"], [0.8888888888888888, \"#fdca26\"], [1.0, \"#f0f921\"]], \"type\": \"contour\"}], \"contourcarpet\": [{\"colorbar\": {\"outlinewidth\": 0, \"ticks\": \"\"}, \"type\": \"contourcarpet\"}], \"heatmap\": [{\"colorbar\": {\"outlinewidth\": 0, \"ticks\": \"\"}, \"colorscale\": [[0.0, \"#0d0887\"], [0.1111111111111111, \"#46039f\"], [0.2222222222222222, \"#7201a8\"], [0.3333333333333333, \"#9c179e\"], [0.4444444444444444, \"#bd3786\"], [0.5555555555555556, \"#d8576b\"], [0.6666666666666666, \"#ed7953\"], [0.7777777777777778, \"#fb9f3a\"], [0.8888888888888888, \"#fdca26\"], [1.0, \"#f0f921\"]], \"type\": \"heatmap\"}], \"heatmapgl\": [{\"colorbar\": {\"outlinewidth\": 0, \"ticks\": \"\"}, \"colorscale\": [[0.0, \"#0d0887\"], [0.1111111111111111, \"#46039f\"], [0.2222222222222222, \"#7201a8\"], [0.3333333333333333, \"#9c179e\"], [0.4444444444444444, \"#bd3786\"], [0.5555555555555556, \"#d8576b\"], [0.6666666666666666, \"#ed7953\"], [0.7777777777777778, \"#fb9f3a\"], [0.8888888888888888, \"#fdca26\"], [1.0, \"#f0f921\"]], \"type\": \"heatmapgl\"}], \"histogram\": [{\"marker\": {\"colorbar\": {\"outlinewidth\": 0, \"ticks\": \"\"}}, \"type\": \"histogram\"}], \"histogram2d\": [{\"colorbar\": {\"outlinewidth\": 0, \"ticks\": \"\"}, \"colorscale\": [[0.0, \"#0d0887\"], [0.1111111111111111, \"#46039f\"], [0.2222222222222222, \"#7201a8\"], [0.3333333333333333, \"#9c179e\"], [0.4444444444444444, \"#bd3786\"], [0.5555555555555556, \"#d8576b\"], [0.6666666666666666, \"#ed7953\"], [0.7777777777777778, \"#fb9f3a\"], [0.8888888888888888, \"#fdca26\"], [1.0, \"#f0f921\"]], \"type\": \"histogram2d\"}], \"histogram2dcontour\": [{\"colorbar\": {\"outlinewidth\": 0, \"ticks\": \"\"}, \"colorscale\": [[0.0, \"#0d0887\"], [0.1111111111111111, \"#46039f\"], [0.2222222222222222, \"#7201a8\"], [0.3333333333333333, \"#9c179e\"], [0.4444444444444444, \"#bd3786\"], [0.5555555555555556, \"#d8576b\"], [0.6666666666666666, \"#ed7953\"], [0.7777777777777778, \"#fb9f3a\"], [0.8888888888888888, \"#fdca26\"], [1.0, \"#f0f921\"]], \"type\": \"histogram2dcontour\"}], \"mesh3d\": [{\"colorbar\": {\"outlinewidth\": 0, \"ticks\": \"\"}, \"type\": \"mesh3d\"}], \"parcoords\": [{\"line\": {\"colorbar\": {\"outlinewidth\": 0, \"ticks\": \"\"}}, \"type\": \"parcoords\"}], \"pie\": [{\"automargin\": true, \"type\": \"pie\"}], \"scatter\": [{\"marker\": {\"colorbar\": {\"outlinewidth\": 0, \"ticks\": \"\"}}, \"type\": \"scatter\"}], \"scatter3d\": [{\"line\": {\"colorbar\": {\"outlinewidth\": 0, \"ticks\": \"\"}}, \"marker\": {\"colorbar\": {\"outlinewidth\": 0, \"ticks\": \"\"}}, \"type\": \"scatter3d\"}], \"scattercarpet\": [{\"marker\": {\"colorbar\": {\"outlinewidth\": 0, \"ticks\": \"\"}}, \"type\": \"scattercarpet\"}], \"scattergeo\": [{\"marker\": {\"colorbar\": {\"outlinewidth\": 0, \"ticks\": \"\"}}, \"type\": \"scattergeo\"}], \"scattergl\": [{\"marker\": {\"colorbar\": {\"outlinewidth\": 0, \"ticks\": \"\"}}, \"type\": \"scattergl\"}], \"scattermapbox\": [{\"marker\": {\"colorbar\": {\"outlinewidth\": 0, \"ticks\": \"\"}}, \"type\": \"scattermapbox\"}], \"scatterpolar\": [{\"marker\": {\"colorbar\": {\"outlinewidth\": 0, \"ticks\": \"\"}}, \"type\": \"scatterpolar\"}], \"scatterpolargl\": [{\"marker\": {\"colorbar\": {\"outlinewidth\": 0, \"ticks\": \"\"}}, \"type\": \"scatterpolargl\"}], \"scatterternary\": [{\"marker\": {\"colorbar\": {\"outlinewidth\": 0, \"ticks\": \"\"}}, \"type\": \"scatterternary\"}], \"surface\": [{\"colorbar\": {\"outlinewidth\": 0, \"ticks\": \"\"}, \"colorscale\": [[0.0, \"#0d0887\"], [0.1111111111111111, \"#46039f\"], [0.2222222222222222, \"#7201a8\"], [0.3333333333333333, \"#9c179e\"], [0.4444444444444444, \"#bd3786\"], [0.5555555555555556, \"#d8576b\"], [0.6666666666666666, \"#ed7953\"], [0.7777777777777778, \"#fb9f3a\"], [0.8888888888888888, \"#fdca26\"], [1.0, \"#f0f921\"]], \"type\": \"surface\"}], \"table\": [{\"cells\": {\"fill\": {\"color\": \"#EBF0F8\"}, \"line\": {\"color\": \"white\"}}, \"header\": {\"fill\": {\"color\": \"#C8D4E3\"}, \"line\": {\"color\": \"white\"}}, \"type\": \"table\"}]}, \"layout\": {\"annotationdefaults\": {\"arrowcolor\": \"#2a3f5f\", \"arrowhead\": 0, \"arrowwidth\": 1}, \"coloraxis\": {\"colorbar\": {\"outlinewidth\": 0, \"ticks\": \"\"}}, \"colorscale\": {\"diverging\": [[0, \"#8e0152\"], [0.1, \"#c51b7d\"], [0.2, \"#de77ae\"], [0.3, \"#f1b6da\"], [0.4, \"#fde0ef\"], [0.5, \"#f7f7f7\"], [0.6, \"#e6f5d0\"], [0.7, \"#b8e186\"], [0.8, \"#7fbc41\"], [0.9, \"#4d9221\"], [1, \"#276419\"]], \"sequential\": [[0.0, \"#0d0887\"], [0.1111111111111111, \"#46039f\"], [0.2222222222222222, \"#7201a8\"], [0.3333333333333333, \"#9c179e\"], [0.4444444444444444, \"#bd3786\"], [0.5555555555555556, \"#d8576b\"], [0.6666666666666666, \"#ed7953\"], [0.7777777777777778, \"#fb9f3a\"], [0.8888888888888888, \"#fdca26\"], [1.0, \"#f0f921\"]], \"sequentialminus\": [[0.0, \"#0d0887\"], [0.1111111111111111, \"#46039f\"], [0.2222222222222222, \"#7201a8\"], [0.3333333333333333, \"#9c179e\"], [0.4444444444444444, \"#bd3786\"], [0.5555555555555556, \"#d8576b\"], [0.6666666666666666, \"#ed7953\"], [0.7777777777777778, \"#fb9f3a\"], [0.8888888888888888, \"#fdca26\"], [1.0, \"#f0f921\"]]}, \"colorway\": [\"#636efa\", \"#EF553B\", \"#00cc96\", \"#ab63fa\", \"#FFA15A\", \"#19d3f3\", \"#FF6692\", \"#B6E880\", \"#FF97FF\", \"#FECB52\"], \"font\": {\"color\": \"#2a3f5f\"}, \"geo\": {\"bgcolor\": \"white\", \"lakecolor\": \"white\", \"landcolor\": \"#E5ECF6\", \"showlakes\": true, \"showland\": true, \"subunitcolor\": \"white\"}, \"hoverlabel\": {\"align\": \"left\"}, \"hovermode\": \"closest\", \"mapbox\": {\"style\": \"light\"}, \"paper_bgcolor\": \"white\", \"plot_bgcolor\": \"#E5ECF6\", \"polar\": {\"angularaxis\": {\"gridcolor\": \"white\", \"linecolor\": \"white\", \"ticks\": \"\"}, \"bgcolor\": \"#E5ECF6\", \"radialaxis\": {\"gridcolor\": \"white\", \"linecolor\": \"white\", \"ticks\": \"\"}}, \"scene\": {\"xaxis\": {\"backgroundcolor\": \"#E5ECF6\", \"gridcolor\": \"white\", \"gridwidth\": 2, \"linecolor\": \"white\", \"showbackground\": true, \"ticks\": \"\", \"zerolinecolor\": \"white\"}, \"yaxis\": {\"backgroundcolor\": \"#E5ECF6\", \"gridcolor\": \"white\", \"gridwidth\": 2, \"linecolor\": \"white\", \"showbackground\": true, \"ticks\": \"\", \"zerolinecolor\": \"white\"}, \"zaxis\": {\"backgroundcolor\": \"#E5ECF6\", \"gridcolor\": \"white\", \"gridwidth\": 2, \"linecolor\": \"white\", \"showbackground\": true, \"ticks\": \"\", \"zerolinecolor\": \"white\"}}, \"shapedefaults\": {\"line\": {\"color\": \"#2a3f5f\"}}, \"ternary\": {\"aaxis\": {\"gridcolor\": \"white\", \"linecolor\": \"white\", \"ticks\": \"\"}, \"baxis\": {\"gridcolor\": \"white\", \"linecolor\": \"white\", \"ticks\": \"\"}, \"bgcolor\": \"#E5ECF6\", \"caxis\": {\"gridcolor\": \"white\", \"linecolor\": \"white\", \"ticks\": \"\"}}, \"title\": {\"x\": 0.05}, \"xaxis\": {\"automargin\": true, \"gridcolor\": \"white\", \"linecolor\": \"white\", \"ticks\": \"\", \"title\": {\"standoff\": 15}, \"zerolinecolor\": \"white\", \"zerolinewidth\": 2}, \"yaxis\": {\"automargin\": true, \"gridcolor\": \"white\", \"linecolor\": \"white\", \"ticks\": \"\", \"title\": {\"standoff\": 15}, \"zerolinecolor\": \"white\", \"zerolinewidth\": 2}}}},\n",
       "                        {\"responsive\": true}\n",
       "                    ).then(function(){\n",
       "                            \n",
       "var gd = document.getElementById('5f65e12b-855e-4c73-9832-f8876d045062');\n",
       "var x = new MutationObserver(function (mutations, observer) {{\n",
       "        var display = window.getComputedStyle(gd).display;\n",
       "        if (!display || display === 'none') {{\n",
       "            console.log([gd, 'removed!']);\n",
       "            Plotly.purge(gd);\n",
       "            observer.disconnect();\n",
       "        }}\n",
       "}});\n",
       "\n",
       "// Listen for the removal of the full notebook cells\n",
       "var notebookContainer = gd.closest('#notebook-container');\n",
       "if (notebookContainer) {{\n",
       "    x.observe(notebookContainer, {childList: true});\n",
       "}}\n",
       "\n",
       "// Listen for the clearing of the current output cell\n",
       "var outputEl = gd.closest('.output');\n",
       "if (outputEl) {{\n",
       "    x.observe(outputEl, {childList: true});\n",
       "}}\n",
       "\n",
       "                        })\n",
       "                };\n",
       "                });\n",
       "            </script>\n",
       "        </div>"
      ]
     },
     "metadata": {},
     "output_type": "display_data"
    }
   ],
   "source": [
    "# ctrl = lambda x: (torch.zeros(1), torch.zeros(1), None)\n",
    "ctrl = controllers.get_optimal_controller(vf)\n",
    "# u_min = torch.Tensor(vf.u_lo[0]).type(vf.dtype)\n",
    "# u_max = torch.Tensor(vf.u_up[0]).type(vf.dtype)\n",
    "# ctrl = controllers.get_lqr_controller(pendulum.dx, x0, torch.zeros(u_min.shape[0]).type(vf.dtype), vf.Q[0], vf.R[0], u_min, u_max)\n",
    "\n",
    "x_traj_sim, t_traj_sim = controllers.sim_ctrl(x0, 1, pendulum.dx, ctrl, .1, 50)\n",
    "\n",
    "fig = go.Figure()\n",
    "for i in range(2):\n",
    "    fig.add_trace(go.Scatter(\n",
    "        x=t_traj_sim,\n",
    "        y=x_traj_sim[i,:]\n",
    "    ))\n",
    "fig.show()"
   ]
  },
  {
   "cell_type": "code",
   "execution_count": 373,
   "metadata": {},
   "outputs": [],
   "source": [
    "x0_lo = torch.Tensor([np.pi-1.5, -15.]).type(vf.dtype)\n",
    "x0_up = torch.Tensor([np.pi+1.5, 15.]).type(vf.dtype)\n",
    "\n",
    "# file options\n",
    "sys_name = 'pendulum'\n",
    "x_samples_file = '../data/validation_' + sys_name + '_x.pt'\n",
    "v_samples_file = '../data/validation_' + sys_name + '_v.pt'\n",
    "model_file = '../data/' + sys_name + '.pt'"
   ]
  },
  {
   "cell_type": "code",
   "execution_count": 419,
   "metadata": {},
   "outputs": [],
   "source": [
    "opt = dict(\n",
    "    max_buffer_size = 10,\n",
    "    batch_size = 5,\n",
    "    nn_width = 16,\n",
    "    nn_depth = 0,\n",
    "\n",
    "    init_num_samples = 0,\n",
    "    init_num_trainig_step = 0,\n",
    "    \n",
    "    num_generations = 20,\n",
    "    num_samples_per_generation = 10,\n",
    "    num_train_step_per_gen = 1000,\n",
    "    \n",
    "    adv_max_iter = 2,\n",
    "    adv_conv_tol = 1e-5,\n",
    "    adv_learning_rate = 1.,\n",
    "    \n",
    "    num_samples_validation = 500,\n",
    ")"
   ]
  },
  {
   "cell_type": "code",
   "execution_count": 420,
   "metadata": {},
   "outputs": [],
   "source": [
    "samples_buff = samples_buffer.SamplesBuffer(x0_lo.shape[0]*(vf.N-1), vf.N-1, vf.dtype, max_size=opt['max_buffer_size'])\n",
    "samples_gen = samples_generator.RandomSampleGenerator(vf, x0_lo, x0_up)\n",
    "vf_approx = value_approximation.InfiniteHorizonValueFunctionApproximation(x0_lo, x0_up, opt['nn_width'], opt['nn_depth'])\n",
    "train_log = training_log.TrainingLog(1, prefix=\"baseline\")"
   ]
  },
  {
   "cell_type": "code",
   "execution_count": 391,
   "metadata": {},
   "outputs": [],
   "source": [
    "x_samples_validation, v_labels_validation = samples_gen.generate_samples(opt['num_samples_validation'])"
   ]
  },
  {
   "cell_type": "code",
   "execution_count": 177,
   "metadata": {},
   "outputs": [],
   "source": [
    "torch.save(x_samples_validation, x_samples_file)\n",
    "torch.save(v_labels_validation, v_samples_file)"
   ]
  },
  {
   "cell_type": "code",
   "execution_count": 412,
   "metadata": {},
   "outputs": [],
   "source": [
    "x_samples_validation = torch.load(x_samples_file)\n",
    "v_labels_validation = torch.load(v_samples_file)"
   ]
  },
  {
   "cell_type": "code",
   "execution_count": 421,
   "metadata": {},
   "outputs": [],
   "source": [
    "(x_samples, v_labels) = samples_gen.generate_samples(opt['init_num_samples'])\n",
    "samples_buff.add_samples(x_samples, v_labels)"
   ]
  },
  {
   "cell_type": "code",
   "execution_count": 422,
   "metadata": {},
   "outputs": [],
   "source": [
    "for train_step_i in range(opt['init_num_trainig_step']):\n",
    "    x, v = samples_buff.get_random_samples(opt['batch_size'])\n",
    "    losses = vf_approx.train_step(x, v)\n",
    "    train_log.add_train_loss(losses)"
   ]
  },
  {
   "cell_type": "code",
   "execution_count": 423,
   "metadata": {},
   "outputs": [],
   "source": [
    "samples_buff_adv = copy.deepcopy(samples_buff)\n",
    "samples_gen_adv = samples_generator.AdversarialSampleGenerator(vf, x0_lo, x0_up, \n",
    "                                                               max_iter=opt['adv_max_iter'],\n",
    "                                                               conv_tol=opt['adv_conv_tol'],\n",
    "                                                               learning_rate=opt['adv_learning_rate'])\n",
    "vf_approx_adv = copy.deepcopy(vf_approx)\n",
    "train_log_adv = training_log.TrainingLog.get_copy(\n",
    "    train_log, prefix=\"adversarial\", keep_writer=True)"
   ]
  },
  {
   "cell_type": "code",
   "execution_count": 428,
   "metadata": {},
   "outputs": [],
   "source": [
    "validation_losses = vf_approx_adv.validation_loss(x_samples_validation, v_labels_validation)\n",
    "train_log_adv.add_validation_loss(validation_losses)\n",
    "validation_losses = vf_approx.validation_loss(x_samples_validation, v_labels_validation)\n",
    "train_log.add_validation_loss(validation_losses)\n",
    "for gen_i in range(opt['num_generations']):\n",
    "    # adverserial samples\n",
    "    (x_samples, v_labels) = samples_gen_adv.generate_samples(opt['num_samples_per_generation'], vf_approx_adv)\n",
    "    samples_buff_adv.add_samples(x_samples, v_labels)\n",
    "    # random samples\n",
    "    (x_samples, v_labels) = samples_gen.generate_samples(opt['num_samples_per_generation'])\n",
    "    samples_buff.add_samples(x_samples, v_labels)\n",
    "    for train_step_i in range(opt['num_train_step_per_gen']):\n",
    "        samples_indices = samples_buff_adv.get_random_sample_indices(opt['batch_size'])\n",
    "        x, v = samples_buff_adv.get_samples_from_indices(samples_indices)\n",
    "        losses = vf_approx_adv.train_step(x, v)\n",
    "        train_log_adv.add_train_loss(losses)\n",
    "        x, v = samples_buff.get_samples_from_indices(samples_indices)\n",
    "        losses = vf_approx.train_step(x, v)\n",
    "        train_log.add_train_loss(losses)\n",
    "    validation_losses = vf_approx_adv.validation_loss(x_samples_validation, v_labels_validation)\n",
    "    train_log_adv.add_validation_loss(validation_losses)\n",
    "    validation_losses = vf_approx.validation_loss(x_samples_validation, v_labels_validation)\n",
    "    train_log.add_validation_loss(validation_losses)"
   ]
  },
  {
   "cell_type": "code",
   "execution_count": 429,
   "metadata": {},
   "outputs": [
    {
     "data": {
      "application/vnd.plotly.v1+json": {
       "config": {
        "plotlyServerURL": "https://plot.ly"
       },
       "data": [
        {
         "type": "scatter",
         "x": [
          0,
          0.06355031579732895,
          0.10000000149011612,
          0.11738897860050201,
          0.20000000298023224,
          0.27052247524261475,
          0.30000001192092896,
          0.37164071202278137,
          0.4000000059604645,
          0.46663379669189453,
          0.5,
          0.5673065781593323,
          0.6000000238418579,
          0.666319727897644,
          0.699999988079071,
          0.7664187550544739,
          0.800000011920929,
          0.8664012551307678,
          0.8999999761581421,
          0.9692654013633728,
          1,
          1.0660704374313354,
          1.100000023841858,
          1.1645058393478394,
          1.2000000476837158,
          1.2674435377120972,
          1.2999999523162842,
          1.3477023839950562,
          1.399999976158142,
          1.4680302143096924,
          1.5,
          1.5598341226577759,
          1.600000023841858,
          1.661592721939087,
          1.7000000476837158,
          1.7198823690414429,
          1.7999999523162842,
          1.8420287370681763,
          1.899999976158142,
          1.9708495140075684,
          2,
          2.06325364112854,
          2.0999999046325684,
          2.1676645278930664,
          2.200000047683716,
          2.2665951251983643,
          2.299999952316284,
          2.3605868816375732,
          2.4000000953674316,
          2.46866774559021,
          2.5,
          2.5664069652557373,
          2.5999999046325684,
          2.6651949882507324,
          2.700000047683716,
          2.772017002105713,
          2.799999952316284,
          2.864438772201538,
          2.9000000953674316,
          2.960510492324829,
          3,
          3.0717289447784424,
          3.0999999046325684,
          3.164447784423828,
          3.200000047683716,
          3.2650208473205566,
          3.299999952316284,
          3.364748954772949,
          3.4000000953674316,
          3.4574484825134277,
          3.5,
          3.5669000148773193,
          3.5999999046325684,
          3.6667158603668213,
          3.700000047683716,
          3.735048532485962,
          3.799999952316284,
          3.863401174545288,
          3.9000000953674316,
          3.964743137359619,
          4,
          4.021886348724365,
          4.099999904632568,
          4.1637067794799805,
          4.199999809265137,
          4.260254859924316,
          4.300000190734863,
          4.319225311279297,
          4.400000095367432,
          4.464522838592529,
          4.5,
          4.56406831741333,
          4.599999904632568,
          4.617230415344238,
          4.699999809265137,
          4.762303352355957,
          4.800000190734863,
          4.806666851043701,
          4.8733344078063965,
          4.900000095367432,
          4.960333347320557,
          5,
          5.020872592926025,
          5.099999904632568,
          5.170459747314453,
          5.199999809265137,
          5.265964984893799,
          5.300000190734863,
          5.368374347686768,
          5.400000095367432,
          5.460574626922607,
          5.5,
          5.559377193450928,
          5.599999904632568,
          5.6690144538879395,
          5.699999809265137,
          5.764225959777832,
          5.800000190734863,
          5.8596720695495605,
          5.900000095367432,
          5.964664459228516,
          6,
          6.05760383605957,
          6.099999904632568,
          6.164391040802002,
          6.199999809265137,
          6.260897159576416,
          6.300000190734863,
          6.373116493225098,
          6.400000095367432,
          6.468645095825195,
          6.5,
          6.547961711883545,
          6.599999904632568,
          6.660077095031738,
          6.699999809265137,
          6.770448207855225,
          6.800000190734863,
          6.869884014129639,
          6.900000095367432,
          6.964613437652588,
          7,
          7.059794902801514,
          7.099999904632568,
          7.17120361328125,
          7.199999809265137,
          7.2650017738342285,
          7.300000190734863,
          7.361772537231445,
          7.400000095367432,
          7.417646408081055,
          7.5,
          7.5690083503723145,
          7.599999904632568,
          7.665279865264893,
          7.699999809265137,
          7.766891002655029,
          7.800000190734863,
          7.865784645080566,
          7.900000095367432,
          7.958714008331299,
          8,
          8.049079895019531,
          8.100000381469727,
          8.161510467529297,
          8.199999809265137,
          8.268672943115234,
          8.300000190734863,
          8.36783504486084,
          8.399999618530273,
          8.463821411132812,
          8.5,
          8.561992645263672,
          8.600000381469727,
          8.606559753417969,
          8.672161102294922,
          8.699999809265137,
          8.744308471679688,
          8.800000190734863,
          8.861711502075195,
          8.899999618530273,
          8.968180656433105,
          9,
          9.027165412902832,
          9.100000381469727,
          9.169591903686523,
          9.199999809265137,
          9.264505386352539,
          9.300000190734863,
          9.356369972229004,
          9.399999618530273,
          9.463780403137207,
          9.5,
          9.567756652832031,
          9.600000381469727,
          9.667380332946777,
          9.699999809265137,
          9.743382453918457,
          9.800000190734863,
          9.866620063781738,
          9.899999618530273
         ],
         "y": [
          3.6415927410125732,
          3.6862900257110596,
          3.695507764816284,
          3.69598126411438,
          3.667158603668213,
          3.619135856628418,
          3.5978355407714844,
          3.53959321975708,
          3.513258457183838,
          3.455319881439209,
          3.4305601119995117,
          3.385467767715454,
          3.36486554145813,
          3.327364683151245,
          3.3107833862304688,
          3.2819395065307617,
          3.268947124481201,
          3.246016502380371,
          3.235628604888916,
          3.213521957397461,
          3.2026710510253906,
          3.180703639984131,
          3.170886516571045,
          3.1562271118164062,
          3.1507091522216797,
          3.1420183181762695,
          3.1378772258758545,
          3.136065721511841,
          3.143724203109741,
          3.160393476486206,
          3.1684865951538086,
          3.1760482788085938,
          3.1725547313690186,
          3.165952682495117,
          3.165719985961914,
          3.165900707244873,
          3.1575326919555664,
          3.1550891399383545,
          3.17033314704895,
          3.2111783027648926,
          3.233473300933838,
          3.2725467681884766,
          3.2838995456695557,
          3.297231912612915,
          3.303576946258545,
          3.321493625640869,
          3.334188222885132,
          3.348048448562622,
          3.3450424671173096,
          3.3273584842681885,
          3.3163208961486816,
          3.281498908996582,
          3.25655198097229,
          3.2105090618133545,
          3.191434621810913,
          3.148857831954956,
          3.128448009490967,
          3.087541341781616,
          3.0719852447509766,
          3.0596389770507812,
          3.0622212886810303,
          3.076500415802002,
          3.0833513736724854,
          3.106645345687866,
          3.125473737716675,
          3.1583480834960938,
          3.1717817783355713,
          3.1904561519622803,
          3.1977686882019043,
          3.201475143432617,
          3.1957719326019287,
          3.1818833351135254,
          3.17539119720459,
          3.163200855255127,
          3.15755033493042,
          3.1558218002319336,
          3.17402982711792,
          3.197687864303589,
          3.204725742340088,
          3.211648941040039,
          3.214311361312866,
          3.216749429702759,
          3.241943836212158,
          3.265990734100342,
          3.273669958114624,
          3.2784602642059326,
          3.2768263816833496,
          3.2763314247131348,
          3.3002288341522217,
          3.32951283454895,
          3.3403987884521484,
          3.353308916091919,
          3.3575642108917236,
          3.358015775680542,
          3.329922676086426,
          3.3028552532196045,
          3.2985498905181885,
          3.298553705215454,
          3.296663284301758,
          3.294928789138794,
          3.2925891876220703,
          3.2934131622314453,
          3.293677806854248,
          3.282931327819824,
          3.2630507946014404,
          3.2533724308013916,
          3.232999324798584,
          3.2240219116210938,
          3.2064614295959473,
          3.197906017303467,
          3.1886847019195557,
          3.1905429363250732,
          3.1938321590423584,
          3.1914632320404053,
          3.181997299194336,
          3.1762068271636963,
          3.157686233520508,
          3.142507314682007,
          3.128687620162964,
          3.1353847980499268,
          3.152819871902466,
          3.1595661640167236,
          3.1752023696899414,
          3.1946427822113037,
          3.223024606704712,
          3.2335970401763916,
          3.2422783374786377,
          3.2412312030792236,
          3.2330424785614014,
          3.2292497158050537,
          3.2186167240142822,
          3.2134318351745605,
          3.2110025882720947,
          3.2210516929626465,
          3.2308690547943115,
          3.2272965908050537,
          3.2124125957489014,
          3.2051408290863037,
          3.185426712036133,
          3.1757397651672363,
          3.1578099727630615,
          3.150930404663086,
          3.1353912353515625,
          3.1185953617095947,
          3.078871726989746,
          3.059544801712036,
          3.020371675491333,
          3.004438877105713,
          2.9883201122283936,
          2.98712420463562,
          2.9887685775756836,
          3.0144755840301514,
          3.0503740310668945,
          3.067943811416626,
          3.1010448932647705,
          3.114903450012207,
          3.138214111328125,
          3.1491456031799316,
          3.168363571166992,
          3.176783561706543,
          3.182398796081543,
          3.1769466400146484,
          3.1736373901367188,
          3.1862893104553223,
          3.202007532119751,
          3.202584981918335,
          3.1957037448883057,
          3.191401958465576,
          3.181269407272339,
          3.176387310028076,
          3.168790102005005,
          3.1663312911987305,
          3.164335250854492,
          3.1641857624053955,
          3.164196014404297,
          3.160726308822632,
          3.1572978496551514,
          3.1463828086853027,
          3.1197545528411865,
          3.095418930053711,
          3.093212127685547,
          3.0979130268096924,
          3.1001787185668945,
          3.1035373210906982,
          3.126307487487793,
          3.160423755645752,
          3.177245616912842,
          3.20782470703125,
          3.219463348388672,
          3.2242939472198486,
          3.213322639465332,
          3.193624496459961,
          3.1872081756591797,
          3.1783366203308105,
          3.1740739345550537,
          3.1652984619140625,
          3.1611273288726807,
          3.1594789028167725,
          3.168872356414795,
          3.186452865600586,
          3.194580316543579
         ]
        },
        {
         "type": "scatter",
         "x": [
          0,
          0.06355031579732895,
          0.10000000149011612,
          0.11738897860050201,
          0.20000000298023224,
          0.27052247524261475,
          0.30000001192092896,
          0.37164071202278137,
          0.4000000059604645,
          0.46663379669189453,
          0.5,
          0.5673065781593323,
          0.6000000238418579,
          0.666319727897644,
          0.699999988079071,
          0.7664187550544739,
          0.800000011920929,
          0.8664012551307678,
          0.8999999761581421,
          0.9692654013633728,
          1,
          1.0660704374313354,
          1.100000023841858,
          1.1645058393478394,
          1.2000000476837158,
          1.2674435377120972,
          1.2999999523162842,
          1.3477023839950562,
          1.399999976158142,
          1.4680302143096924,
          1.5,
          1.5598341226577759,
          1.600000023841858,
          1.661592721939087,
          1.7000000476837158,
          1.7198823690414429,
          1.7999999523162842,
          1.8420287370681763,
          1.899999976158142,
          1.9708495140075684,
          2,
          2.06325364112854,
          2.0999999046325684,
          2.1676645278930664,
          2.200000047683716,
          2.2665951251983643,
          2.299999952316284,
          2.3605868816375732,
          2.4000000953674316,
          2.46866774559021,
          2.5,
          2.5664069652557373,
          2.5999999046325684,
          2.6651949882507324,
          2.700000047683716,
          2.772017002105713,
          2.799999952316284,
          2.864438772201538,
          2.9000000953674316,
          2.960510492324829,
          3,
          3.0717289447784424,
          3.0999999046325684,
          3.164447784423828,
          3.200000047683716,
          3.2650208473205566,
          3.299999952316284,
          3.364748954772949,
          3.4000000953674316,
          3.4574484825134277,
          3.5,
          3.5669000148773193,
          3.5999999046325684,
          3.6667158603668213,
          3.700000047683716,
          3.735048532485962,
          3.799999952316284,
          3.863401174545288,
          3.9000000953674316,
          3.964743137359619,
          4,
          4.021886348724365,
          4.099999904632568,
          4.1637067794799805,
          4.199999809265137,
          4.260254859924316,
          4.300000190734863,
          4.319225311279297,
          4.400000095367432,
          4.464522838592529,
          4.5,
          4.56406831741333,
          4.599999904632568,
          4.617230415344238,
          4.699999809265137,
          4.762303352355957,
          4.800000190734863,
          4.806666851043701,
          4.8733344078063965,
          4.900000095367432,
          4.960333347320557,
          5,
          5.020872592926025,
          5.099999904632568,
          5.170459747314453,
          5.199999809265137,
          5.265964984893799,
          5.300000190734863,
          5.368374347686768,
          5.400000095367432,
          5.460574626922607,
          5.5,
          5.559377193450928,
          5.599999904632568,
          5.6690144538879395,
          5.699999809265137,
          5.764225959777832,
          5.800000190734863,
          5.8596720695495605,
          5.900000095367432,
          5.964664459228516,
          6,
          6.05760383605957,
          6.099999904632568,
          6.164391040802002,
          6.199999809265137,
          6.260897159576416,
          6.300000190734863,
          6.373116493225098,
          6.400000095367432,
          6.468645095825195,
          6.5,
          6.547961711883545,
          6.599999904632568,
          6.660077095031738,
          6.699999809265137,
          6.770448207855225,
          6.800000190734863,
          6.869884014129639,
          6.900000095367432,
          6.964613437652588,
          7,
          7.059794902801514,
          7.099999904632568,
          7.17120361328125,
          7.199999809265137,
          7.2650017738342285,
          7.300000190734863,
          7.361772537231445,
          7.400000095367432,
          7.417646408081055,
          7.5,
          7.5690083503723145,
          7.599999904632568,
          7.665279865264893,
          7.699999809265137,
          7.766891002655029,
          7.800000190734863,
          7.865784645080566,
          7.900000095367432,
          7.958714008331299,
          8,
          8.049079895019531,
          8.100000381469727,
          8.161510467529297,
          8.199999809265137,
          8.268672943115234,
          8.300000190734863,
          8.36783504486084,
          8.399999618530273,
          8.463821411132812,
          8.5,
          8.561992645263672,
          8.600000381469727,
          8.606559753417969,
          8.672161102294922,
          8.699999809265137,
          8.744308471679688,
          8.800000190734863,
          8.861711502075195,
          8.899999618530273,
          8.968180656433105,
          9,
          9.027165412902832,
          9.100000381469727,
          9.169591903686523,
          9.199999809265137,
          9.264505386352539,
          9.300000190734863,
          9.356369972229004,
          9.399999618530273,
          9.463780403137207,
          9.5,
          9.567756652832031,
          9.600000381469727,
          9.667380332946777,
          9.699999809265137,
          9.743382453918457,
          9.800000190734863,
          9.866620063781738,
          9.899999618530273
         ],
         "y": [
          1,
          0.4137938618659973,
          0.09341935813426971,
          -0.03874881565570831,
          -0.6581135392189026,
          -0.7083603143692017,
          -0.737665057182312,
          -0.8935641646385193,
          -0.9646244645118713,
          -0.781347930431366,
          -0.7042785882949829,
          -0.6407723426818848,
          -0.6206833124160767,
          -0.5147908329963684,
          -0.4708646535873413,
          -0.4011562466621399,
          -0.3734248876571655,
          -0.32000869512557983,
          -0.2989688515663147,
          -0.34159180521965027,
          -0.3649936318397522,
          -0.3026862144470215,
          -0.27661627531051636,
          -0.17995774745941162,
          -0.1314273476600647,
          -0.12727542221546173,
          -0.12733988463878632,
          0.05053914338350296,
          0.24216531217098236,
          0.24969741702079773,
          0.2569969892501831,
          -0.002209607046097517,
          -0.1714116930961609,
          -0.044282834976911545,
          0.03191518783569336,
          -0.013665499165654182,
          -0.19511310756206512,
          0.07770615816116333,
          0.4478711783885956,
          0.7083237171173096,
          0.8221091032028198,
          0.4194834530353546,
          0.19975759088993073,
          0.19579483568668365,
          0.196990504860878,
          0.34220045804977417,
          0.4183133542537689,
          0.042458001524209976,
          -0.19440071284770966,
          -0.32187792658805847,
          -0.3830678164958954,
          -0.6678353548049927,
          -0.8183446526527405,
          -0.6001921892166138,
          -0.49726349115371704,
          -0.6890020370483398,
          -0.7704781889915466,
          -0.5048825144767761,
          -0.3712981939315796,
          -0.039665527641773224,
          0.16993388533592224,
          0.2295190840959549,
          0.2553972899913788,
          0.4687905013561249,
          0.5911319255828857,
          0.4244593679904938,
          0.34463486075401306,
          0.23475676774978638,
          0.18070192635059357,
          -0.050212763249874115,
          -0.2176535576581955,
          -0.19916673004627228,
          -0.1934872418642044,
          -0.17339064180850983,
          -0.16646185517311096,
          0.06703677028417587,
          0.49326109886169434,
          0.25672587752342224,
          0.12868909537792206,
          0.08613508939743042,
          0.06511145085096359,
          0.15760646760463715,
          0.4885145425796509,
          0.2700554132461548,
          0.1539318859577179,
          0.006273115053772926,
          -0.08828350901603699,
          0.03657317906618118,
          0.5547704696655273,
          0.35704582929611206,
          0.257546991109848,
          0.14737723767757416,
          0.08989883959293365,
          -0.03731090947985649,
          -0.6410754919052124,
          -0.2326463907957077,
          0.0032220815774053335,
          -0.0020788481924682856,
          -0.05454704537987709,
          -0.07557545602321625,
          -0.002575427293777466,
          0.04402843862771988,
          -0.018562454730272293,
          -0.25289177894592285,
          -0.313331663608551,
          -0.3423304557800293,
          -0.27790310978889465,
          -0.250214546918869,
          -0.26531291007995605,
          -0.27613958716392517,
          -0.030471738427877426,
          0.12435277551412582,
          -0.012572572566568851,
          -0.10390324890613556,
          -0.1710890233516693,
          -0.2028917819261551,
          -0.37485745549201965,
          -0.4743412137031555,
          0.007414234336465597,
          0.3240947723388672,
          0.21757414937019348,
          0.16480322182178497,
          0.3785286247730255,
          0.5393423438072205,
          0.34621506929397583,
          0.24849875271320343,
          0.03854241222143173,
          -0.09175022691488266,
          -0.1329594850540161,
          -0.14934952557086945,
          -0.16156050562858582,
          -0.16941417753696442,
          0.06698241084814072,
          0.31899502873420715,
          0.010333718731999397,
          -0.18885959684848785,
          -0.23513451218605042,
          -0.25729766488075256,
          -0.30884382128715515,
          -0.3348692059516907,
          -0.22261671721935272,
          -0.16676247119903564,
          -0.35358181595802307,
          -0.4825965166091919,
          -0.636879563331604,
          -0.7061827778816223,
          -0.5043342113494873,
          -0.4073558747768402,
          -0.11762005090713501,
          0.05443072319030762,
          0.1318836659193039,
          0.49337127804756165,
          0.5507265329360962,
          0.5839231014251709,
          0.43454113602638245,
          0.3647440969944,
          0.3349441587924957,
          0.3260120749473572,
          0.26068243384361267,
          0.23203568160533905,
          -0.03889589011669159,
          -0.22495216131210327,
          0.08855614066123962,
          0.4080759286880493,
          0.1061200350522995,
          -0.0754915103316307,
          -0.12540508806705475,
          -0.1493779420852661,
          -0.15048108994960785,
          -0.15333177149295807,
          -0.0858943983912468,
          -0.050284720957279205,
          -0.01449753437191248,
          0.006550806574523449,
          -0.0034267259761691093,
          -0.10218536108732224,
          -0.14418059587478638,
          -0.3485391139984131,
          -0.6089520454406738,
          -0.18436723947525024,
          0.06815070658922195,
          0.07025152444839478,
          0.07228417694568634,
          0.17489004135131836,
          0.45140308141708374,
          0.5324766635894775,
          0.57464998960495,
          0.37773066759109497,
          0.2790399491786957,
          -0.10540684312582016,
          -0.3972356915473938,
          -0.22343140840530396,
          -0.13151778280735016,
          -0.13133226335048676,
          -0.13329719007015228,
          -0.12817250192165375,
          -0.1277921050786972,
          0.05103915184736252,
          0.2805640697479248,
          0.2493056356906891,
          0.23814301192760468
         ]
        }
       ],
       "layout": {
        "template": {
         "data": {
          "bar": [
           {
            "error_x": {
             "color": "#2a3f5f"
            },
            "error_y": {
             "color": "#2a3f5f"
            },
            "marker": {
             "line": {
              "color": "#E5ECF6",
              "width": 0.5
             }
            },
            "type": "bar"
           }
          ],
          "barpolar": [
           {
            "marker": {
             "line": {
              "color": "#E5ECF6",
              "width": 0.5
             }
            },
            "type": "barpolar"
           }
          ],
          "carpet": [
           {
            "aaxis": {
             "endlinecolor": "#2a3f5f",
             "gridcolor": "white",
             "linecolor": "white",
             "minorgridcolor": "white",
             "startlinecolor": "#2a3f5f"
            },
            "baxis": {
             "endlinecolor": "#2a3f5f",
             "gridcolor": "white",
             "linecolor": "white",
             "minorgridcolor": "white",
             "startlinecolor": "#2a3f5f"
            },
            "type": "carpet"
           }
          ],
          "choropleth": [
           {
            "colorbar": {
             "outlinewidth": 0,
             "ticks": ""
            },
            "type": "choropleth"
           }
          ],
          "contour": [
           {
            "colorbar": {
             "outlinewidth": 0,
             "ticks": ""
            },
            "colorscale": [
             [
              0,
              "#0d0887"
             ],
             [
              0.1111111111111111,
              "#46039f"
             ],
             [
              0.2222222222222222,
              "#7201a8"
             ],
             [
              0.3333333333333333,
              "#9c179e"
             ],
             [
              0.4444444444444444,
              "#bd3786"
             ],
             [
              0.5555555555555556,
              "#d8576b"
             ],
             [
              0.6666666666666666,
              "#ed7953"
             ],
             [
              0.7777777777777778,
              "#fb9f3a"
             ],
             [
              0.8888888888888888,
              "#fdca26"
             ],
             [
              1,
              "#f0f921"
             ]
            ],
            "type": "contour"
           }
          ],
          "contourcarpet": [
           {
            "colorbar": {
             "outlinewidth": 0,
             "ticks": ""
            },
            "type": "contourcarpet"
           }
          ],
          "heatmap": [
           {
            "colorbar": {
             "outlinewidth": 0,
             "ticks": ""
            },
            "colorscale": [
             [
              0,
              "#0d0887"
             ],
             [
              0.1111111111111111,
              "#46039f"
             ],
             [
              0.2222222222222222,
              "#7201a8"
             ],
             [
              0.3333333333333333,
              "#9c179e"
             ],
             [
              0.4444444444444444,
              "#bd3786"
             ],
             [
              0.5555555555555556,
              "#d8576b"
             ],
             [
              0.6666666666666666,
              "#ed7953"
             ],
             [
              0.7777777777777778,
              "#fb9f3a"
             ],
             [
              0.8888888888888888,
              "#fdca26"
             ],
             [
              1,
              "#f0f921"
             ]
            ],
            "type": "heatmap"
           }
          ],
          "heatmapgl": [
           {
            "colorbar": {
             "outlinewidth": 0,
             "ticks": ""
            },
            "colorscale": [
             [
              0,
              "#0d0887"
             ],
             [
              0.1111111111111111,
              "#46039f"
             ],
             [
              0.2222222222222222,
              "#7201a8"
             ],
             [
              0.3333333333333333,
              "#9c179e"
             ],
             [
              0.4444444444444444,
              "#bd3786"
             ],
             [
              0.5555555555555556,
              "#d8576b"
             ],
             [
              0.6666666666666666,
              "#ed7953"
             ],
             [
              0.7777777777777778,
              "#fb9f3a"
             ],
             [
              0.8888888888888888,
              "#fdca26"
             ],
             [
              1,
              "#f0f921"
             ]
            ],
            "type": "heatmapgl"
           }
          ],
          "histogram": [
           {
            "marker": {
             "colorbar": {
              "outlinewidth": 0,
              "ticks": ""
             }
            },
            "type": "histogram"
           }
          ],
          "histogram2d": [
           {
            "colorbar": {
             "outlinewidth": 0,
             "ticks": ""
            },
            "colorscale": [
             [
              0,
              "#0d0887"
             ],
             [
              0.1111111111111111,
              "#46039f"
             ],
             [
              0.2222222222222222,
              "#7201a8"
             ],
             [
              0.3333333333333333,
              "#9c179e"
             ],
             [
              0.4444444444444444,
              "#bd3786"
             ],
             [
              0.5555555555555556,
              "#d8576b"
             ],
             [
              0.6666666666666666,
              "#ed7953"
             ],
             [
              0.7777777777777778,
              "#fb9f3a"
             ],
             [
              0.8888888888888888,
              "#fdca26"
             ],
             [
              1,
              "#f0f921"
             ]
            ],
            "type": "histogram2d"
           }
          ],
          "histogram2dcontour": [
           {
            "colorbar": {
             "outlinewidth": 0,
             "ticks": ""
            },
            "colorscale": [
             [
              0,
              "#0d0887"
             ],
             [
              0.1111111111111111,
              "#46039f"
             ],
             [
              0.2222222222222222,
              "#7201a8"
             ],
             [
              0.3333333333333333,
              "#9c179e"
             ],
             [
              0.4444444444444444,
              "#bd3786"
             ],
             [
              0.5555555555555556,
              "#d8576b"
             ],
             [
              0.6666666666666666,
              "#ed7953"
             ],
             [
              0.7777777777777778,
              "#fb9f3a"
             ],
             [
              0.8888888888888888,
              "#fdca26"
             ],
             [
              1,
              "#f0f921"
             ]
            ],
            "type": "histogram2dcontour"
           }
          ],
          "mesh3d": [
           {
            "colorbar": {
             "outlinewidth": 0,
             "ticks": ""
            },
            "type": "mesh3d"
           }
          ],
          "parcoords": [
           {
            "line": {
             "colorbar": {
              "outlinewidth": 0,
              "ticks": ""
             }
            },
            "type": "parcoords"
           }
          ],
          "pie": [
           {
            "automargin": true,
            "type": "pie"
           }
          ],
          "scatter": [
           {
            "marker": {
             "colorbar": {
              "outlinewidth": 0,
              "ticks": ""
             }
            },
            "type": "scatter"
           }
          ],
          "scatter3d": [
           {
            "line": {
             "colorbar": {
              "outlinewidth": 0,
              "ticks": ""
             }
            },
            "marker": {
             "colorbar": {
              "outlinewidth": 0,
              "ticks": ""
             }
            },
            "type": "scatter3d"
           }
          ],
          "scattercarpet": [
           {
            "marker": {
             "colorbar": {
              "outlinewidth": 0,
              "ticks": ""
             }
            },
            "type": "scattercarpet"
           }
          ],
          "scattergeo": [
           {
            "marker": {
             "colorbar": {
              "outlinewidth": 0,
              "ticks": ""
             }
            },
            "type": "scattergeo"
           }
          ],
          "scattergl": [
           {
            "marker": {
             "colorbar": {
              "outlinewidth": 0,
              "ticks": ""
             }
            },
            "type": "scattergl"
           }
          ],
          "scattermapbox": [
           {
            "marker": {
             "colorbar": {
              "outlinewidth": 0,
              "ticks": ""
             }
            },
            "type": "scattermapbox"
           }
          ],
          "scatterpolar": [
           {
            "marker": {
             "colorbar": {
              "outlinewidth": 0,
              "ticks": ""
             }
            },
            "type": "scatterpolar"
           }
          ],
          "scatterpolargl": [
           {
            "marker": {
             "colorbar": {
              "outlinewidth": 0,
              "ticks": ""
             }
            },
            "type": "scatterpolargl"
           }
          ],
          "scatterternary": [
           {
            "marker": {
             "colorbar": {
              "outlinewidth": 0,
              "ticks": ""
             }
            },
            "type": "scatterternary"
           }
          ],
          "surface": [
           {
            "colorbar": {
             "outlinewidth": 0,
             "ticks": ""
            },
            "colorscale": [
             [
              0,
              "#0d0887"
             ],
             [
              0.1111111111111111,
              "#46039f"
             ],
             [
              0.2222222222222222,
              "#7201a8"
             ],
             [
              0.3333333333333333,
              "#9c179e"
             ],
             [
              0.4444444444444444,
              "#bd3786"
             ],
             [
              0.5555555555555556,
              "#d8576b"
             ],
             [
              0.6666666666666666,
              "#ed7953"
             ],
             [
              0.7777777777777778,
              "#fb9f3a"
             ],
             [
              0.8888888888888888,
              "#fdca26"
             ],
             [
              1,
              "#f0f921"
             ]
            ],
            "type": "surface"
           }
          ],
          "table": [
           {
            "cells": {
             "fill": {
              "color": "#EBF0F8"
             },
             "line": {
              "color": "white"
             }
            },
            "header": {
             "fill": {
              "color": "#C8D4E3"
             },
             "line": {
              "color": "white"
             }
            },
            "type": "table"
           }
          ]
         },
         "layout": {
          "annotationdefaults": {
           "arrowcolor": "#2a3f5f",
           "arrowhead": 0,
           "arrowwidth": 1
          },
          "coloraxis": {
           "colorbar": {
            "outlinewidth": 0,
            "ticks": ""
           }
          },
          "colorscale": {
           "diverging": [
            [
             0,
             "#8e0152"
            ],
            [
             0.1,
             "#c51b7d"
            ],
            [
             0.2,
             "#de77ae"
            ],
            [
             0.3,
             "#f1b6da"
            ],
            [
             0.4,
             "#fde0ef"
            ],
            [
             0.5,
             "#f7f7f7"
            ],
            [
             0.6,
             "#e6f5d0"
            ],
            [
             0.7,
             "#b8e186"
            ],
            [
             0.8,
             "#7fbc41"
            ],
            [
             0.9,
             "#4d9221"
            ],
            [
             1,
             "#276419"
            ]
           ],
           "sequential": [
            [
             0,
             "#0d0887"
            ],
            [
             0.1111111111111111,
             "#46039f"
            ],
            [
             0.2222222222222222,
             "#7201a8"
            ],
            [
             0.3333333333333333,
             "#9c179e"
            ],
            [
             0.4444444444444444,
             "#bd3786"
            ],
            [
             0.5555555555555556,
             "#d8576b"
            ],
            [
             0.6666666666666666,
             "#ed7953"
            ],
            [
             0.7777777777777778,
             "#fb9f3a"
            ],
            [
             0.8888888888888888,
             "#fdca26"
            ],
            [
             1,
             "#f0f921"
            ]
           ],
           "sequentialminus": [
            [
             0,
             "#0d0887"
            ],
            [
             0.1111111111111111,
             "#46039f"
            ],
            [
             0.2222222222222222,
             "#7201a8"
            ],
            [
             0.3333333333333333,
             "#9c179e"
            ],
            [
             0.4444444444444444,
             "#bd3786"
            ],
            [
             0.5555555555555556,
             "#d8576b"
            ],
            [
             0.6666666666666666,
             "#ed7953"
            ],
            [
             0.7777777777777778,
             "#fb9f3a"
            ],
            [
             0.8888888888888888,
             "#fdca26"
            ],
            [
             1,
             "#f0f921"
            ]
           ]
          },
          "colorway": [
           "#636efa",
           "#EF553B",
           "#00cc96",
           "#ab63fa",
           "#FFA15A",
           "#19d3f3",
           "#FF6692",
           "#B6E880",
           "#FF97FF",
           "#FECB52"
          ],
          "font": {
           "color": "#2a3f5f"
          },
          "geo": {
           "bgcolor": "white",
           "lakecolor": "white",
           "landcolor": "#E5ECF6",
           "showlakes": true,
           "showland": true,
           "subunitcolor": "white"
          },
          "hoverlabel": {
           "align": "left"
          },
          "hovermode": "closest",
          "mapbox": {
           "style": "light"
          },
          "paper_bgcolor": "white",
          "plot_bgcolor": "#E5ECF6",
          "polar": {
           "angularaxis": {
            "gridcolor": "white",
            "linecolor": "white",
            "ticks": ""
           },
           "bgcolor": "#E5ECF6",
           "radialaxis": {
            "gridcolor": "white",
            "linecolor": "white",
            "ticks": ""
           }
          },
          "scene": {
           "xaxis": {
            "backgroundcolor": "#E5ECF6",
            "gridcolor": "white",
            "gridwidth": 2,
            "linecolor": "white",
            "showbackground": true,
            "ticks": "",
            "zerolinecolor": "white"
           },
           "yaxis": {
            "backgroundcolor": "#E5ECF6",
            "gridcolor": "white",
            "gridwidth": 2,
            "linecolor": "white",
            "showbackground": true,
            "ticks": "",
            "zerolinecolor": "white"
           },
           "zaxis": {
            "backgroundcolor": "#E5ECF6",
            "gridcolor": "white",
            "gridwidth": 2,
            "linecolor": "white",
            "showbackground": true,
            "ticks": "",
            "zerolinecolor": "white"
           }
          },
          "shapedefaults": {
           "line": {
            "color": "#2a3f5f"
           }
          },
          "ternary": {
           "aaxis": {
            "gridcolor": "white",
            "linecolor": "white",
            "ticks": ""
           },
           "baxis": {
            "gridcolor": "white",
            "linecolor": "white",
            "ticks": ""
           },
           "bgcolor": "#E5ECF6",
           "caxis": {
            "gridcolor": "white",
            "linecolor": "white",
            "ticks": ""
           }
          },
          "title": {
           "x": 0.05
          },
          "xaxis": {
           "automargin": true,
           "gridcolor": "white",
           "linecolor": "white",
           "ticks": "",
           "title": {
            "standoff": 15
           },
           "zerolinecolor": "white",
           "zerolinewidth": 2
          },
          "yaxis": {
           "automargin": true,
           "gridcolor": "white",
           "linecolor": "white",
           "ticks": "",
           "title": {
            "standoff": 15
           },
           "zerolinecolor": "white",
           "zerolinewidth": 2
          }
         }
        }
       }
      },
      "text/html": [
       "<div>\n",
       "        \n",
       "        \n",
       "            <div id=\"d5055a4f-b7d5-4041-a131-ac9c9eb950b5\" class=\"plotly-graph-div\" style=\"height:525px; width:100%;\"></div>\n",
       "            <script type=\"text/javascript\">\n",
       "                require([\"plotly\"], function(Plotly) {\n",
       "                    window.PLOTLYENV=window.PLOTLYENV || {};\n",
       "                    \n",
       "                if (document.getElementById(\"d5055a4f-b7d5-4041-a131-ac9c9eb950b5\")) {\n",
       "                    Plotly.newPlot(\n",
       "                        'd5055a4f-b7d5-4041-a131-ac9c9eb950b5',\n",
       "                        [{\"type\": \"scatter\", \"x\": [0.0, 0.06355031579732895, 0.10000000149011612, 0.11738897860050201, 0.20000000298023224, 0.27052247524261475, 0.30000001192092896, 0.37164071202278137, 0.4000000059604645, 0.46663379669189453, 0.5, 0.5673065781593323, 0.6000000238418579, 0.666319727897644, 0.699999988079071, 0.7664187550544739, 0.800000011920929, 0.8664012551307678, 0.8999999761581421, 0.9692654013633728, 1.0, 1.0660704374313354, 1.100000023841858, 1.1645058393478394, 1.2000000476837158, 1.2674435377120972, 1.2999999523162842, 1.3477023839950562, 1.399999976158142, 1.4680302143096924, 1.5, 1.5598341226577759, 1.600000023841858, 1.661592721939087, 1.7000000476837158, 1.7198823690414429, 1.7999999523162842, 1.8420287370681763, 1.899999976158142, 1.9708495140075684, 2.0, 2.06325364112854, 2.0999999046325684, 2.1676645278930664, 2.200000047683716, 2.2665951251983643, 2.299999952316284, 2.3605868816375732, 2.4000000953674316, 2.46866774559021, 2.5, 2.5664069652557373, 2.5999999046325684, 2.6651949882507324, 2.700000047683716, 2.772017002105713, 2.799999952316284, 2.864438772201538, 2.9000000953674316, 2.960510492324829, 3.0, 3.0717289447784424, 3.0999999046325684, 3.164447784423828, 3.200000047683716, 3.2650208473205566, 3.299999952316284, 3.364748954772949, 3.4000000953674316, 3.4574484825134277, 3.5, 3.5669000148773193, 3.5999999046325684, 3.6667158603668213, 3.700000047683716, 3.735048532485962, 3.799999952316284, 3.863401174545288, 3.9000000953674316, 3.964743137359619, 4.0, 4.021886348724365, 4.099999904632568, 4.1637067794799805, 4.199999809265137, 4.260254859924316, 4.300000190734863, 4.319225311279297, 4.400000095367432, 4.464522838592529, 4.5, 4.56406831741333, 4.599999904632568, 4.617230415344238, 4.699999809265137, 4.762303352355957, 4.800000190734863, 4.806666851043701, 4.8733344078063965, 4.900000095367432, 4.960333347320557, 5.0, 5.020872592926025, 5.099999904632568, 5.170459747314453, 5.199999809265137, 5.265964984893799, 5.300000190734863, 5.368374347686768, 5.400000095367432, 5.460574626922607, 5.5, 5.559377193450928, 5.599999904632568, 5.6690144538879395, 5.699999809265137, 5.764225959777832, 5.800000190734863, 5.8596720695495605, 5.900000095367432, 5.964664459228516, 6.0, 6.05760383605957, 6.099999904632568, 6.164391040802002, 6.199999809265137, 6.260897159576416, 6.300000190734863, 6.373116493225098, 6.400000095367432, 6.468645095825195, 6.5, 6.547961711883545, 6.599999904632568, 6.660077095031738, 6.699999809265137, 6.770448207855225, 6.800000190734863, 6.869884014129639, 6.900000095367432, 6.964613437652588, 7.0, 7.059794902801514, 7.099999904632568, 7.17120361328125, 7.199999809265137, 7.2650017738342285, 7.300000190734863, 7.361772537231445, 7.400000095367432, 7.417646408081055, 7.5, 7.5690083503723145, 7.599999904632568, 7.665279865264893, 7.699999809265137, 7.766891002655029, 7.800000190734863, 7.865784645080566, 7.900000095367432, 7.958714008331299, 8.0, 8.049079895019531, 8.100000381469727, 8.161510467529297, 8.199999809265137, 8.268672943115234, 8.300000190734863, 8.36783504486084, 8.399999618530273, 8.463821411132812, 8.5, 8.561992645263672, 8.600000381469727, 8.606559753417969, 8.672161102294922, 8.699999809265137, 8.744308471679688, 8.800000190734863, 8.861711502075195, 8.899999618530273, 8.968180656433105, 9.0, 9.027165412902832, 9.100000381469727, 9.169591903686523, 9.199999809265137, 9.264505386352539, 9.300000190734863, 9.356369972229004, 9.399999618530273, 9.463780403137207, 9.5, 9.567756652832031, 9.600000381469727, 9.667380332946777, 9.699999809265137, 9.743382453918457, 9.800000190734863, 9.866620063781738, 9.899999618530273], \"y\": [3.6415927410125732, 3.6862900257110596, 3.695507764816284, 3.69598126411438, 3.667158603668213, 3.619135856628418, 3.5978355407714844, 3.53959321975708, 3.513258457183838, 3.455319881439209, 3.4305601119995117, 3.385467767715454, 3.36486554145813, 3.327364683151245, 3.3107833862304688, 3.2819395065307617, 3.268947124481201, 3.246016502380371, 3.235628604888916, 3.213521957397461, 3.2026710510253906, 3.180703639984131, 3.170886516571045, 3.1562271118164062, 3.1507091522216797, 3.1420183181762695, 3.1378772258758545, 3.136065721511841, 3.143724203109741, 3.160393476486206, 3.1684865951538086, 3.1760482788085938, 3.1725547313690186, 3.165952682495117, 3.165719985961914, 3.165900707244873, 3.1575326919555664, 3.1550891399383545, 3.17033314704895, 3.2111783027648926, 3.233473300933838, 3.2725467681884766, 3.2838995456695557, 3.297231912612915, 3.303576946258545, 3.321493625640869, 3.334188222885132, 3.348048448562622, 3.3450424671173096, 3.3273584842681885, 3.3163208961486816, 3.281498908996582, 3.25655198097229, 3.2105090618133545, 3.191434621810913, 3.148857831954956, 3.128448009490967, 3.087541341781616, 3.0719852447509766, 3.0596389770507812, 3.0622212886810303, 3.076500415802002, 3.0833513736724854, 3.106645345687866, 3.125473737716675, 3.1583480834960938, 3.1717817783355713, 3.1904561519622803, 3.1977686882019043, 3.201475143432617, 3.1957719326019287, 3.1818833351135254, 3.17539119720459, 3.163200855255127, 3.15755033493042, 3.1558218002319336, 3.17402982711792, 3.197687864303589, 3.204725742340088, 3.211648941040039, 3.214311361312866, 3.216749429702759, 3.241943836212158, 3.265990734100342, 3.273669958114624, 3.2784602642059326, 3.2768263816833496, 3.2763314247131348, 3.3002288341522217, 3.32951283454895, 3.3403987884521484, 3.353308916091919, 3.3575642108917236, 3.358015775680542, 3.329922676086426, 3.3028552532196045, 3.2985498905181885, 3.298553705215454, 3.296663284301758, 3.294928789138794, 3.2925891876220703, 3.2934131622314453, 3.293677806854248, 3.282931327819824, 3.2630507946014404, 3.2533724308013916, 3.232999324798584, 3.2240219116210938, 3.2064614295959473, 3.197906017303467, 3.1886847019195557, 3.1905429363250732, 3.1938321590423584, 3.1914632320404053, 3.181997299194336, 3.1762068271636963, 3.157686233520508, 3.142507314682007, 3.128687620162964, 3.1353847980499268, 3.152819871902466, 3.1595661640167236, 3.1752023696899414, 3.1946427822113037, 3.223024606704712, 3.2335970401763916, 3.2422783374786377, 3.2412312030792236, 3.2330424785614014, 3.2292497158050537, 3.2186167240142822, 3.2134318351745605, 3.2110025882720947, 3.2210516929626465, 3.2308690547943115, 3.2272965908050537, 3.2124125957489014, 3.2051408290863037, 3.185426712036133, 3.1757397651672363, 3.1578099727630615, 3.150930404663086, 3.1353912353515625, 3.1185953617095947, 3.078871726989746, 3.059544801712036, 3.020371675491333, 3.004438877105713, 2.9883201122283936, 2.98712420463562, 2.9887685775756836, 3.0144755840301514, 3.0503740310668945, 3.067943811416626, 3.1010448932647705, 3.114903450012207, 3.138214111328125, 3.1491456031799316, 3.168363571166992, 3.176783561706543, 3.182398796081543, 3.1769466400146484, 3.1736373901367188, 3.1862893104553223, 3.202007532119751, 3.202584981918335, 3.1957037448883057, 3.191401958465576, 3.181269407272339, 3.176387310028076, 3.168790102005005, 3.1663312911987305, 3.164335250854492, 3.1641857624053955, 3.164196014404297, 3.160726308822632, 3.1572978496551514, 3.1463828086853027, 3.1197545528411865, 3.095418930053711, 3.093212127685547, 3.0979130268096924, 3.1001787185668945, 3.1035373210906982, 3.126307487487793, 3.160423755645752, 3.177245616912842, 3.20782470703125, 3.219463348388672, 3.2242939472198486, 3.213322639465332, 3.193624496459961, 3.1872081756591797, 3.1783366203308105, 3.1740739345550537, 3.1652984619140625, 3.1611273288726807, 3.1594789028167725, 3.168872356414795, 3.186452865600586, 3.194580316543579]}, {\"type\": \"scatter\", \"x\": [0.0, 0.06355031579732895, 0.10000000149011612, 0.11738897860050201, 0.20000000298023224, 0.27052247524261475, 0.30000001192092896, 0.37164071202278137, 0.4000000059604645, 0.46663379669189453, 0.5, 0.5673065781593323, 0.6000000238418579, 0.666319727897644, 0.699999988079071, 0.7664187550544739, 0.800000011920929, 0.8664012551307678, 0.8999999761581421, 0.9692654013633728, 1.0, 1.0660704374313354, 1.100000023841858, 1.1645058393478394, 1.2000000476837158, 1.2674435377120972, 1.2999999523162842, 1.3477023839950562, 1.399999976158142, 1.4680302143096924, 1.5, 1.5598341226577759, 1.600000023841858, 1.661592721939087, 1.7000000476837158, 1.7198823690414429, 1.7999999523162842, 1.8420287370681763, 1.899999976158142, 1.9708495140075684, 2.0, 2.06325364112854, 2.0999999046325684, 2.1676645278930664, 2.200000047683716, 2.2665951251983643, 2.299999952316284, 2.3605868816375732, 2.4000000953674316, 2.46866774559021, 2.5, 2.5664069652557373, 2.5999999046325684, 2.6651949882507324, 2.700000047683716, 2.772017002105713, 2.799999952316284, 2.864438772201538, 2.9000000953674316, 2.960510492324829, 3.0, 3.0717289447784424, 3.0999999046325684, 3.164447784423828, 3.200000047683716, 3.2650208473205566, 3.299999952316284, 3.364748954772949, 3.4000000953674316, 3.4574484825134277, 3.5, 3.5669000148773193, 3.5999999046325684, 3.6667158603668213, 3.700000047683716, 3.735048532485962, 3.799999952316284, 3.863401174545288, 3.9000000953674316, 3.964743137359619, 4.0, 4.021886348724365, 4.099999904632568, 4.1637067794799805, 4.199999809265137, 4.260254859924316, 4.300000190734863, 4.319225311279297, 4.400000095367432, 4.464522838592529, 4.5, 4.56406831741333, 4.599999904632568, 4.617230415344238, 4.699999809265137, 4.762303352355957, 4.800000190734863, 4.806666851043701, 4.8733344078063965, 4.900000095367432, 4.960333347320557, 5.0, 5.020872592926025, 5.099999904632568, 5.170459747314453, 5.199999809265137, 5.265964984893799, 5.300000190734863, 5.368374347686768, 5.400000095367432, 5.460574626922607, 5.5, 5.559377193450928, 5.599999904632568, 5.6690144538879395, 5.699999809265137, 5.764225959777832, 5.800000190734863, 5.8596720695495605, 5.900000095367432, 5.964664459228516, 6.0, 6.05760383605957, 6.099999904632568, 6.164391040802002, 6.199999809265137, 6.260897159576416, 6.300000190734863, 6.373116493225098, 6.400000095367432, 6.468645095825195, 6.5, 6.547961711883545, 6.599999904632568, 6.660077095031738, 6.699999809265137, 6.770448207855225, 6.800000190734863, 6.869884014129639, 6.900000095367432, 6.964613437652588, 7.0, 7.059794902801514, 7.099999904632568, 7.17120361328125, 7.199999809265137, 7.2650017738342285, 7.300000190734863, 7.361772537231445, 7.400000095367432, 7.417646408081055, 7.5, 7.5690083503723145, 7.599999904632568, 7.665279865264893, 7.699999809265137, 7.766891002655029, 7.800000190734863, 7.865784645080566, 7.900000095367432, 7.958714008331299, 8.0, 8.049079895019531, 8.100000381469727, 8.161510467529297, 8.199999809265137, 8.268672943115234, 8.300000190734863, 8.36783504486084, 8.399999618530273, 8.463821411132812, 8.5, 8.561992645263672, 8.600000381469727, 8.606559753417969, 8.672161102294922, 8.699999809265137, 8.744308471679688, 8.800000190734863, 8.861711502075195, 8.899999618530273, 8.968180656433105, 9.0, 9.027165412902832, 9.100000381469727, 9.169591903686523, 9.199999809265137, 9.264505386352539, 9.300000190734863, 9.356369972229004, 9.399999618530273, 9.463780403137207, 9.5, 9.567756652832031, 9.600000381469727, 9.667380332946777, 9.699999809265137, 9.743382453918457, 9.800000190734863, 9.866620063781738, 9.899999618530273], \"y\": [1.0, 0.4137938618659973, 0.09341935813426971, -0.03874881565570831, -0.6581135392189026, -0.7083603143692017, -0.737665057182312, -0.8935641646385193, -0.9646244645118713, -0.781347930431366, -0.7042785882949829, -0.6407723426818848, -0.6206833124160767, -0.5147908329963684, -0.4708646535873413, -0.4011562466621399, -0.3734248876571655, -0.32000869512557983, -0.2989688515663147, -0.34159180521965027, -0.3649936318397522, -0.3026862144470215, -0.27661627531051636, -0.17995774745941162, -0.1314273476600647, -0.12727542221546173, -0.12733988463878632, 0.05053914338350296, 0.24216531217098236, 0.24969741702079773, 0.2569969892501831, -0.002209607046097517, -0.1714116930961609, -0.044282834976911545, 0.03191518783569336, -0.013665499165654182, -0.19511310756206512, 0.07770615816116333, 0.4478711783885956, 0.7083237171173096, 0.8221091032028198, 0.4194834530353546, 0.19975759088993073, 0.19579483568668365, 0.196990504860878, 0.34220045804977417, 0.4183133542537689, 0.042458001524209976, -0.19440071284770966, -0.32187792658805847, -0.3830678164958954, -0.6678353548049927, -0.8183446526527405, -0.6001921892166138, -0.49726349115371704, -0.6890020370483398, -0.7704781889915466, -0.5048825144767761, -0.3712981939315796, -0.039665527641773224, 0.16993388533592224, 0.2295190840959549, 0.2553972899913788, 0.4687905013561249, 0.5911319255828857, 0.4244593679904938, 0.34463486075401306, 0.23475676774978638, 0.18070192635059357, -0.050212763249874115, -0.2176535576581955, -0.19916673004627228, -0.1934872418642044, -0.17339064180850983, -0.16646185517311096, 0.06703677028417587, 0.49326109886169434, 0.25672587752342224, 0.12868909537792206, 0.08613508939743042, 0.06511145085096359, 0.15760646760463715, 0.4885145425796509, 0.2700554132461548, 0.1539318859577179, 0.006273115053772926, -0.08828350901603699, 0.03657317906618118, 0.5547704696655273, 0.35704582929611206, 0.257546991109848, 0.14737723767757416, 0.08989883959293365, -0.03731090947985649, -0.6410754919052124, -0.2326463907957077, 0.0032220815774053335, -0.0020788481924682856, -0.05454704537987709, -0.07557545602321625, -0.002575427293777466, 0.04402843862771988, -0.018562454730272293, -0.25289177894592285, -0.313331663608551, -0.3423304557800293, -0.27790310978889465, -0.250214546918869, -0.26531291007995605, -0.27613958716392517, -0.030471738427877426, 0.12435277551412582, -0.012572572566568851, -0.10390324890613556, -0.1710890233516693, -0.2028917819261551, -0.37485745549201965, -0.4743412137031555, 0.007414234336465597, 0.3240947723388672, 0.21757414937019348, 0.16480322182178497, 0.3785286247730255, 0.5393423438072205, 0.34621506929397583, 0.24849875271320343, 0.03854241222143173, -0.09175022691488266, -0.1329594850540161, -0.14934952557086945, -0.16156050562858582, -0.16941417753696442, 0.06698241084814072, 0.31899502873420715, 0.010333718731999397, -0.18885959684848785, -0.23513451218605042, -0.25729766488075256, -0.30884382128715515, -0.3348692059516907, -0.22261671721935272, -0.16676247119903564, -0.35358181595802307, -0.4825965166091919, -0.636879563331604, -0.7061827778816223, -0.5043342113494873, -0.4073558747768402, -0.11762005090713501, 0.05443072319030762, 0.1318836659193039, 0.49337127804756165, 0.5507265329360962, 0.5839231014251709, 0.43454113602638245, 0.3647440969944, 0.3349441587924957, 0.3260120749473572, 0.26068243384361267, 0.23203568160533905, -0.03889589011669159, -0.22495216131210327, 0.08855614066123962, 0.4080759286880493, 0.1061200350522995, -0.0754915103316307, -0.12540508806705475, -0.1493779420852661, -0.15048108994960785, -0.15333177149295807, -0.0858943983912468, -0.050284720957279205, -0.01449753437191248, 0.006550806574523449, -0.0034267259761691093, -0.10218536108732224, -0.14418059587478638, -0.3485391139984131, -0.6089520454406738, -0.18436723947525024, 0.06815070658922195, 0.07025152444839478, 0.07228417694568634, 0.17489004135131836, 0.45140308141708374, 0.5324766635894775, 0.57464998960495, 0.37773066759109497, 0.2790399491786957, -0.10540684312582016, -0.3972356915473938, -0.22343140840530396, -0.13151778280735016, -0.13133226335048676, -0.13329719007015228, -0.12817250192165375, -0.1277921050786972, 0.05103915184736252, 0.2805640697479248, 0.2493056356906891, 0.23814301192760468]}],\n",
       "                        {\"template\": {\"data\": {\"bar\": [{\"error_x\": {\"color\": \"#2a3f5f\"}, \"error_y\": {\"color\": \"#2a3f5f\"}, \"marker\": {\"line\": {\"color\": \"#E5ECF6\", \"width\": 0.5}}, \"type\": \"bar\"}], \"barpolar\": [{\"marker\": {\"line\": {\"color\": \"#E5ECF6\", \"width\": 0.5}}, \"type\": \"barpolar\"}], \"carpet\": [{\"aaxis\": {\"endlinecolor\": \"#2a3f5f\", \"gridcolor\": \"white\", \"linecolor\": \"white\", \"minorgridcolor\": \"white\", \"startlinecolor\": \"#2a3f5f\"}, \"baxis\": {\"endlinecolor\": \"#2a3f5f\", \"gridcolor\": \"white\", \"linecolor\": \"white\", \"minorgridcolor\": \"white\", \"startlinecolor\": \"#2a3f5f\"}, \"type\": \"carpet\"}], \"choropleth\": [{\"colorbar\": {\"outlinewidth\": 0, \"ticks\": \"\"}, \"type\": \"choropleth\"}], \"contour\": [{\"colorbar\": {\"outlinewidth\": 0, \"ticks\": \"\"}, \"colorscale\": [[0.0, \"#0d0887\"], [0.1111111111111111, \"#46039f\"], [0.2222222222222222, \"#7201a8\"], [0.3333333333333333, \"#9c179e\"], [0.4444444444444444, \"#bd3786\"], [0.5555555555555556, \"#d8576b\"], [0.6666666666666666, \"#ed7953\"], [0.7777777777777778, \"#fb9f3a\"], [0.8888888888888888, \"#fdca26\"], [1.0, \"#f0f921\"]], \"type\": \"contour\"}], \"contourcarpet\": [{\"colorbar\": {\"outlinewidth\": 0, \"ticks\": \"\"}, \"type\": \"contourcarpet\"}], \"heatmap\": [{\"colorbar\": {\"outlinewidth\": 0, \"ticks\": \"\"}, \"colorscale\": [[0.0, \"#0d0887\"], [0.1111111111111111, \"#46039f\"], [0.2222222222222222, \"#7201a8\"], [0.3333333333333333, \"#9c179e\"], [0.4444444444444444, \"#bd3786\"], [0.5555555555555556, \"#d8576b\"], [0.6666666666666666, \"#ed7953\"], [0.7777777777777778, \"#fb9f3a\"], [0.8888888888888888, \"#fdca26\"], [1.0, \"#f0f921\"]], \"type\": \"heatmap\"}], \"heatmapgl\": [{\"colorbar\": {\"outlinewidth\": 0, \"ticks\": \"\"}, \"colorscale\": [[0.0, \"#0d0887\"], [0.1111111111111111, \"#46039f\"], [0.2222222222222222, \"#7201a8\"], [0.3333333333333333, \"#9c179e\"], [0.4444444444444444, \"#bd3786\"], [0.5555555555555556, \"#d8576b\"], [0.6666666666666666, \"#ed7953\"], [0.7777777777777778, \"#fb9f3a\"], [0.8888888888888888, \"#fdca26\"], [1.0, \"#f0f921\"]], \"type\": \"heatmapgl\"}], \"histogram\": [{\"marker\": {\"colorbar\": {\"outlinewidth\": 0, \"ticks\": \"\"}}, \"type\": \"histogram\"}], \"histogram2d\": [{\"colorbar\": {\"outlinewidth\": 0, \"ticks\": \"\"}, \"colorscale\": [[0.0, \"#0d0887\"], [0.1111111111111111, \"#46039f\"], [0.2222222222222222, \"#7201a8\"], [0.3333333333333333, \"#9c179e\"], [0.4444444444444444, \"#bd3786\"], [0.5555555555555556, \"#d8576b\"], [0.6666666666666666, \"#ed7953\"], [0.7777777777777778, \"#fb9f3a\"], [0.8888888888888888, \"#fdca26\"], [1.0, \"#f0f921\"]], \"type\": \"histogram2d\"}], \"histogram2dcontour\": [{\"colorbar\": {\"outlinewidth\": 0, \"ticks\": \"\"}, \"colorscale\": [[0.0, \"#0d0887\"], [0.1111111111111111, \"#46039f\"], [0.2222222222222222, \"#7201a8\"], [0.3333333333333333, \"#9c179e\"], [0.4444444444444444, \"#bd3786\"], [0.5555555555555556, \"#d8576b\"], [0.6666666666666666, \"#ed7953\"], [0.7777777777777778, \"#fb9f3a\"], [0.8888888888888888, \"#fdca26\"], [1.0, \"#f0f921\"]], \"type\": \"histogram2dcontour\"}], \"mesh3d\": [{\"colorbar\": {\"outlinewidth\": 0, \"ticks\": \"\"}, \"type\": \"mesh3d\"}], \"parcoords\": [{\"line\": {\"colorbar\": {\"outlinewidth\": 0, \"ticks\": \"\"}}, \"type\": \"parcoords\"}], \"pie\": [{\"automargin\": true, \"type\": \"pie\"}], \"scatter\": [{\"marker\": {\"colorbar\": {\"outlinewidth\": 0, \"ticks\": \"\"}}, \"type\": \"scatter\"}], \"scatter3d\": [{\"line\": {\"colorbar\": {\"outlinewidth\": 0, \"ticks\": \"\"}}, \"marker\": {\"colorbar\": {\"outlinewidth\": 0, \"ticks\": \"\"}}, \"type\": \"scatter3d\"}], \"scattercarpet\": [{\"marker\": {\"colorbar\": {\"outlinewidth\": 0, \"ticks\": \"\"}}, \"type\": \"scattercarpet\"}], \"scattergeo\": [{\"marker\": {\"colorbar\": {\"outlinewidth\": 0, \"ticks\": \"\"}}, \"type\": \"scattergeo\"}], \"scattergl\": [{\"marker\": {\"colorbar\": {\"outlinewidth\": 0, \"ticks\": \"\"}}, \"type\": \"scattergl\"}], \"scattermapbox\": [{\"marker\": {\"colorbar\": {\"outlinewidth\": 0, \"ticks\": \"\"}}, \"type\": \"scattermapbox\"}], \"scatterpolar\": [{\"marker\": {\"colorbar\": {\"outlinewidth\": 0, \"ticks\": \"\"}}, \"type\": \"scatterpolar\"}], \"scatterpolargl\": [{\"marker\": {\"colorbar\": {\"outlinewidth\": 0, \"ticks\": \"\"}}, \"type\": \"scatterpolargl\"}], \"scatterternary\": [{\"marker\": {\"colorbar\": {\"outlinewidth\": 0, \"ticks\": \"\"}}, \"type\": \"scatterternary\"}], \"surface\": [{\"colorbar\": {\"outlinewidth\": 0, \"ticks\": \"\"}, \"colorscale\": [[0.0, \"#0d0887\"], [0.1111111111111111, \"#46039f\"], [0.2222222222222222, \"#7201a8\"], [0.3333333333333333, \"#9c179e\"], [0.4444444444444444, \"#bd3786\"], [0.5555555555555556, \"#d8576b\"], [0.6666666666666666, \"#ed7953\"], [0.7777777777777778, \"#fb9f3a\"], [0.8888888888888888, \"#fdca26\"], [1.0, \"#f0f921\"]], \"type\": \"surface\"}], \"table\": [{\"cells\": {\"fill\": {\"color\": \"#EBF0F8\"}, \"line\": {\"color\": \"white\"}}, \"header\": {\"fill\": {\"color\": \"#C8D4E3\"}, \"line\": {\"color\": \"white\"}}, \"type\": \"table\"}]}, \"layout\": {\"annotationdefaults\": {\"arrowcolor\": \"#2a3f5f\", \"arrowhead\": 0, \"arrowwidth\": 1}, \"coloraxis\": {\"colorbar\": {\"outlinewidth\": 0, \"ticks\": \"\"}}, \"colorscale\": {\"diverging\": [[0, \"#8e0152\"], [0.1, \"#c51b7d\"], [0.2, \"#de77ae\"], [0.3, \"#f1b6da\"], [0.4, \"#fde0ef\"], [0.5, \"#f7f7f7\"], [0.6, \"#e6f5d0\"], [0.7, \"#b8e186\"], [0.8, \"#7fbc41\"], [0.9, \"#4d9221\"], [1, \"#276419\"]], \"sequential\": [[0.0, \"#0d0887\"], [0.1111111111111111, \"#46039f\"], [0.2222222222222222, \"#7201a8\"], [0.3333333333333333, \"#9c179e\"], [0.4444444444444444, \"#bd3786\"], [0.5555555555555556, \"#d8576b\"], [0.6666666666666666, \"#ed7953\"], [0.7777777777777778, \"#fb9f3a\"], [0.8888888888888888, \"#fdca26\"], [1.0, \"#f0f921\"]], \"sequentialminus\": [[0.0, \"#0d0887\"], [0.1111111111111111, \"#46039f\"], [0.2222222222222222, \"#7201a8\"], [0.3333333333333333, \"#9c179e\"], [0.4444444444444444, \"#bd3786\"], [0.5555555555555556, \"#d8576b\"], [0.6666666666666666, \"#ed7953\"], [0.7777777777777778, \"#fb9f3a\"], [0.8888888888888888, \"#fdca26\"], [1.0, \"#f0f921\"]]}, \"colorway\": [\"#636efa\", \"#EF553B\", \"#00cc96\", \"#ab63fa\", \"#FFA15A\", \"#19d3f3\", \"#FF6692\", \"#B6E880\", \"#FF97FF\", \"#FECB52\"], \"font\": {\"color\": \"#2a3f5f\"}, \"geo\": {\"bgcolor\": \"white\", \"lakecolor\": \"white\", \"landcolor\": \"#E5ECF6\", \"showlakes\": true, \"showland\": true, \"subunitcolor\": \"white\"}, \"hoverlabel\": {\"align\": \"left\"}, \"hovermode\": \"closest\", \"mapbox\": {\"style\": \"light\"}, \"paper_bgcolor\": \"white\", \"plot_bgcolor\": \"#E5ECF6\", \"polar\": {\"angularaxis\": {\"gridcolor\": \"white\", \"linecolor\": \"white\", \"ticks\": \"\"}, \"bgcolor\": \"#E5ECF6\", \"radialaxis\": {\"gridcolor\": \"white\", \"linecolor\": \"white\", \"ticks\": \"\"}}, \"scene\": {\"xaxis\": {\"backgroundcolor\": \"#E5ECF6\", \"gridcolor\": \"white\", \"gridwidth\": 2, \"linecolor\": \"white\", \"showbackground\": true, \"ticks\": \"\", \"zerolinecolor\": \"white\"}, \"yaxis\": {\"backgroundcolor\": \"#E5ECF6\", \"gridcolor\": \"white\", \"gridwidth\": 2, \"linecolor\": \"white\", \"showbackground\": true, \"ticks\": \"\", \"zerolinecolor\": \"white\"}, \"zaxis\": {\"backgroundcolor\": \"#E5ECF6\", \"gridcolor\": \"white\", \"gridwidth\": 2, \"linecolor\": \"white\", \"showbackground\": true, \"ticks\": \"\", \"zerolinecolor\": \"white\"}}, \"shapedefaults\": {\"line\": {\"color\": \"#2a3f5f\"}}, \"ternary\": {\"aaxis\": {\"gridcolor\": \"white\", \"linecolor\": \"white\", \"ticks\": \"\"}, \"baxis\": {\"gridcolor\": \"white\", \"linecolor\": \"white\", \"ticks\": \"\"}, \"bgcolor\": \"#E5ECF6\", \"caxis\": {\"gridcolor\": \"white\", \"linecolor\": \"white\", \"ticks\": \"\"}}, \"title\": {\"x\": 0.05}, \"xaxis\": {\"automargin\": true, \"gridcolor\": \"white\", \"linecolor\": \"white\", \"ticks\": \"\", \"title\": {\"standoff\": 15}, \"zerolinecolor\": \"white\", \"zerolinewidth\": 2}, \"yaxis\": {\"automargin\": true, \"gridcolor\": \"white\", \"linecolor\": \"white\", \"ticks\": \"\", \"title\": {\"standoff\": 15}, \"zerolinecolor\": \"white\", \"zerolinewidth\": 2}}}},\n",
       "                        {\"responsive\": true}\n",
       "                    ).then(function(){\n",
       "                            \n",
       "var gd = document.getElementById('d5055a4f-b7d5-4041-a131-ac9c9eb950b5');\n",
       "var x = new MutationObserver(function (mutations, observer) {{\n",
       "        var display = window.getComputedStyle(gd).display;\n",
       "        if (!display || display === 'none') {{\n",
       "            console.log([gd, 'removed!']);\n",
       "            Plotly.purge(gd);\n",
       "            observer.disconnect();\n",
       "        }}\n",
       "}});\n",
       "\n",
       "// Listen for the removal of the full notebook cells\n",
       "var notebookContainer = gd.closest('#notebook-container');\n",
       "if (notebookContainer) {{\n",
       "    x.observe(notebookContainer, {childList: true});\n",
       "}}\n",
       "\n",
       "// Listen for the clearing of the current output cell\n",
       "var outputEl = gd.closest('.output');\n",
       "if (outputEl) {{\n",
       "    x.observe(outputEl, {childList: true});\n",
       "}}\n",
       "\n",
       "                        })\n",
       "                };\n",
       "                });\n",
       "            </script>\n",
       "        </div>"
      ]
     },
     "metadata": {},
     "output_type": "display_data"
    }
   ],
   "source": [
    "dx = pendulum.dx\n",
    "step_cost = vf.step_cost\n",
    "u_min = torch.Tensor(vf.u_lo[0]).type(vf.dtype)\n",
    "u_max = torch.Tensor(vf.u_up[0]).type(vf.dtype)\n",
    "dt_ctrl = .2\n",
    "num_samples = 50\n",
    "\n",
    "ctrl = controllers.get_sampling_infinite_horizon_controller(dx, step_cost, vf_approx.model, u_min, u_max, dt_ctrl, num_samples)\n",
    "x0 = torch.Tensor([np.pi+0.5, 1.]).double()\n",
    "x_traj_sim, t_traj_sim = controllers.sim_ctrl(x0, 1, dx, ctrl, .1, 100)\n",
    "\n",
    "fig = go.Figure()\n",
    "for i in range(2):\n",
    "    fig.add_trace(go.Scatter(\n",
    "        x=t_traj_sim,\n",
    "        y=x_traj_sim[i,:]\n",
    "    ))\n",
    "fig.show()"
   ]
  },
  {
   "cell_type": "code",
   "execution_count": 430,
   "metadata": {},
   "outputs": [],
   "source": [
    "# controller params\n",
    "dx = pendulum.dx\n",
    "step_cost = vf.step_cost\n",
    "u_min = torch.Tensor(vf.u_lo[0]).type(vf.dtype)\n",
    "u_max = torch.Tensor(vf.u_up[0]).type(vf.dtype)\n",
    "dt_ctrl = .2\n",
    "num_samples = 40\n",
    "\n",
    "# benchmark params\n",
    "x0 = torch.Tensor([np.pi, 0.]).type(vf.dtype)\n",
    "# x0_eps = torch.Tensor([1.5, 15.]).type(vf.dtype)\n",
    "x0_eps = torch.Tensor([2., 30.]).type(vf.dtype)\n",
    "\n",
    "\n",
    "x_goal = torch.Tensor([np.pi, 0.]).type(vf.dtype)\n",
    "num_breaks = [10, 10]\n",
    "dt_sim = .1\n",
    "N = 10"
   ]
  },
  {
   "cell_type": "code",
   "execution_count": 431,
   "metadata": {},
   "outputs": [],
   "source": [
    "ctrl_adv = controllers.get_sampling_infinite_horizon_controller(dx, step_cost, vf_approx_adv.model, u_min, u_max, dt_ctrl, num_samples)\n",
    "bench_adv = controllers.benchmark_controller(u_min.shape[0], dx, ctrl_adv, x0, x0_eps, num_breaks, x_goal, dt_sim, N)"
   ]
  },
  {
   "cell_type": "code",
   "execution_count": 432,
   "metadata": {},
   "outputs": [],
   "source": [
    "ctrl_baseline = controllers.get_sampling_infinite_horizon_controller(dx, step_cost, vf_approx.model, u_min, u_max, dt_ctrl, num_samples)\n",
    "bench_baseline = controllers.benchmark_controller(u_min.shape[0], dx, ctrl_baseline, x0, x0_eps, num_breaks, x_goal, dt_sim, N)"
   ]
  },
  {
   "cell_type": "code",
   "execution_count": 433,
   "metadata": {},
   "outputs": [],
   "source": [
    "ctrl_lqr = controllers.get_lqr_controller(pendulum.dx, x0, torch.zeros(u_min.shape[0]).type(vf.dtype), vf.Q[0], vf.R[0], u_min, u_max)\n",
    "bench_lqr = controllers.benchmark_controller(u_min.shape[0], dx, ctrl_lqr, x0, x0_eps, num_breaks, x_goal, dt_sim, N)"
   ]
  },
  {
   "cell_type": "code",
   "execution_count": 434,
   "metadata": {
    "scrolled": false
   },
   "outputs": [
    {
     "name": "stdout",
     "output_type": "stream",
     "text": [
      "Baseline\n"
     ]
    },
    {
     "data": {
      "application/vnd.plotly.v1+json": {
       "config": {
        "plotlyServerURL": "https://plot.ly"
       },
       "data": [
        {
         "type": "heatmap",
         "z": [
          [
           7.637505752202023,
           5.295763685697204,
           3.6507786214470968,
           2.4419340807563694,
           1.6498207412488237,
           0.10467175009113273,
           0.23672851169972767,
           0.6983714098199837,
           1.2430081480264388,
           2.240608962832885
          ],
          [
           6.813752229174843,
           4.383193705119702,
           4.035420559204703,
           2.4135474268481505,
           1.370018650414886,
           0.39295724116303615,
           0.725748974406265,
           1.1351376094621708,
           2.478761742892141,
           3.4903293609335457
          ],
          [
           7.460051670046803,
           4.453027789532663,
           3.1256880403596305,
           0.7171488363280792,
           0.9629830311727566,
           0.2583202986225215,
           0.4665608254042844,
           1.0602966190223402,
           2.3080507451433823,
           3.9823568586369515
          ],
          [
           6.866273216473719,
           4.864326375582348,
           2.2994769398021293,
           1.5761345547564967,
           1.0740075595830425,
           0.2309145298176354,
           0.9014942866159351,
           1.7782199310053621,
           2.8058900450644377,
           4.238836746047498
          ],
          [
           5.8592390123525355,
           4.4569397888649265,
           2.3815385317141797,
           1.479696288738332,
           0.8452628724229884,
           0.7563969679910533,
           1.0478244978787579,
           2.204472266363093,
           3.368936750484011,
           5.480636244429986
          ],
          [
           5.245806700494642,
           3.697834203819987,
           2.2754638751576106,
           0.8457575773406953,
           0.08259254969463563,
           0.2950820087598238,
           1.361637770414716,
           2.6884098815922597,
           3.310065136022511,
           5.624029603253529
          ],
          [
           5.512286963639236,
           3.5896027328081512,
           1.7610863750099222,
           0.37850926288087416,
           0.378056727232525,
           0.27434347401700293,
           1.4673041028336735,
           2.6080829334077307,
           4.039078718620039,
           5.173026324740955
          ],
          [
           5.143554512731856,
           3.0975442544770244,
           1.3231702451946525,
           0.7569763209335021,
           0.5668633924394452,
           1.3891506356176044,
           1.6017730728974058,
           3.1181061916824198,
           3.9096853125403417,
           5.420875467681158
          ],
          [
           4.381725324968886,
           2.08486775173868,
           0.9958363539202141,
           0.36212140847651236,
           0.3040257526267617,
           0.755932259925233,
           1.3751234727815005,
           2.3336804641860214,
           4.117765592761949,
           5.45622032938872
          ],
          [
           3.9265550391035,
           1.5581294063041606,
           0.7591801203833433,
           0.17399151836640175,
           1.5330145642208803,
           1.6280949669550402,
           2.4810510469303964,
           2.619251366417531,
           3.806391865214623,
           6.271926595835038
          ]
         ],
         "zmax": 3,
         "zmin": 0
        }
       ],
       "layout": {
        "template": {
         "data": {
          "bar": [
           {
            "error_x": {
             "color": "#2a3f5f"
            },
            "error_y": {
             "color": "#2a3f5f"
            },
            "marker": {
             "line": {
              "color": "#E5ECF6",
              "width": 0.5
             }
            },
            "type": "bar"
           }
          ],
          "barpolar": [
           {
            "marker": {
             "line": {
              "color": "#E5ECF6",
              "width": 0.5
             }
            },
            "type": "barpolar"
           }
          ],
          "carpet": [
           {
            "aaxis": {
             "endlinecolor": "#2a3f5f",
             "gridcolor": "white",
             "linecolor": "white",
             "minorgridcolor": "white",
             "startlinecolor": "#2a3f5f"
            },
            "baxis": {
             "endlinecolor": "#2a3f5f",
             "gridcolor": "white",
             "linecolor": "white",
             "minorgridcolor": "white",
             "startlinecolor": "#2a3f5f"
            },
            "type": "carpet"
           }
          ],
          "choropleth": [
           {
            "colorbar": {
             "outlinewidth": 0,
             "ticks": ""
            },
            "type": "choropleth"
           }
          ],
          "contour": [
           {
            "colorbar": {
             "outlinewidth": 0,
             "ticks": ""
            },
            "colorscale": [
             [
              0,
              "#0d0887"
             ],
             [
              0.1111111111111111,
              "#46039f"
             ],
             [
              0.2222222222222222,
              "#7201a8"
             ],
             [
              0.3333333333333333,
              "#9c179e"
             ],
             [
              0.4444444444444444,
              "#bd3786"
             ],
             [
              0.5555555555555556,
              "#d8576b"
             ],
             [
              0.6666666666666666,
              "#ed7953"
             ],
             [
              0.7777777777777778,
              "#fb9f3a"
             ],
             [
              0.8888888888888888,
              "#fdca26"
             ],
             [
              1,
              "#f0f921"
             ]
            ],
            "type": "contour"
           }
          ],
          "contourcarpet": [
           {
            "colorbar": {
             "outlinewidth": 0,
             "ticks": ""
            },
            "type": "contourcarpet"
           }
          ],
          "heatmap": [
           {
            "colorbar": {
             "outlinewidth": 0,
             "ticks": ""
            },
            "colorscale": [
             [
              0,
              "#0d0887"
             ],
             [
              0.1111111111111111,
              "#46039f"
             ],
             [
              0.2222222222222222,
              "#7201a8"
             ],
             [
              0.3333333333333333,
              "#9c179e"
             ],
             [
              0.4444444444444444,
              "#bd3786"
             ],
             [
              0.5555555555555556,
              "#d8576b"
             ],
             [
              0.6666666666666666,
              "#ed7953"
             ],
             [
              0.7777777777777778,
              "#fb9f3a"
             ],
             [
              0.8888888888888888,
              "#fdca26"
             ],
             [
              1,
              "#f0f921"
             ]
            ],
            "type": "heatmap"
           }
          ],
          "heatmapgl": [
           {
            "colorbar": {
             "outlinewidth": 0,
             "ticks": ""
            },
            "colorscale": [
             [
              0,
              "#0d0887"
             ],
             [
              0.1111111111111111,
              "#46039f"
             ],
             [
              0.2222222222222222,
              "#7201a8"
             ],
             [
              0.3333333333333333,
              "#9c179e"
             ],
             [
              0.4444444444444444,
              "#bd3786"
             ],
             [
              0.5555555555555556,
              "#d8576b"
             ],
             [
              0.6666666666666666,
              "#ed7953"
             ],
             [
              0.7777777777777778,
              "#fb9f3a"
             ],
             [
              0.8888888888888888,
              "#fdca26"
             ],
             [
              1,
              "#f0f921"
             ]
            ],
            "type": "heatmapgl"
           }
          ],
          "histogram": [
           {
            "marker": {
             "colorbar": {
              "outlinewidth": 0,
              "ticks": ""
             }
            },
            "type": "histogram"
           }
          ],
          "histogram2d": [
           {
            "colorbar": {
             "outlinewidth": 0,
             "ticks": ""
            },
            "colorscale": [
             [
              0,
              "#0d0887"
             ],
             [
              0.1111111111111111,
              "#46039f"
             ],
             [
              0.2222222222222222,
              "#7201a8"
             ],
             [
              0.3333333333333333,
              "#9c179e"
             ],
             [
              0.4444444444444444,
              "#bd3786"
             ],
             [
              0.5555555555555556,
              "#d8576b"
             ],
             [
              0.6666666666666666,
              "#ed7953"
             ],
             [
              0.7777777777777778,
              "#fb9f3a"
             ],
             [
              0.8888888888888888,
              "#fdca26"
             ],
             [
              1,
              "#f0f921"
             ]
            ],
            "type": "histogram2d"
           }
          ],
          "histogram2dcontour": [
           {
            "colorbar": {
             "outlinewidth": 0,
             "ticks": ""
            },
            "colorscale": [
             [
              0,
              "#0d0887"
             ],
             [
              0.1111111111111111,
              "#46039f"
             ],
             [
              0.2222222222222222,
              "#7201a8"
             ],
             [
              0.3333333333333333,
              "#9c179e"
             ],
             [
              0.4444444444444444,
              "#bd3786"
             ],
             [
              0.5555555555555556,
              "#d8576b"
             ],
             [
              0.6666666666666666,
              "#ed7953"
             ],
             [
              0.7777777777777778,
              "#fb9f3a"
             ],
             [
              0.8888888888888888,
              "#fdca26"
             ],
             [
              1,
              "#f0f921"
             ]
            ],
            "type": "histogram2dcontour"
           }
          ],
          "mesh3d": [
           {
            "colorbar": {
             "outlinewidth": 0,
             "ticks": ""
            },
            "type": "mesh3d"
           }
          ],
          "parcoords": [
           {
            "line": {
             "colorbar": {
              "outlinewidth": 0,
              "ticks": ""
             }
            },
            "type": "parcoords"
           }
          ],
          "pie": [
           {
            "automargin": true,
            "type": "pie"
           }
          ],
          "scatter": [
           {
            "marker": {
             "colorbar": {
              "outlinewidth": 0,
              "ticks": ""
             }
            },
            "type": "scatter"
           }
          ],
          "scatter3d": [
           {
            "line": {
             "colorbar": {
              "outlinewidth": 0,
              "ticks": ""
             }
            },
            "marker": {
             "colorbar": {
              "outlinewidth": 0,
              "ticks": ""
             }
            },
            "type": "scatter3d"
           }
          ],
          "scattercarpet": [
           {
            "marker": {
             "colorbar": {
              "outlinewidth": 0,
              "ticks": ""
             }
            },
            "type": "scattercarpet"
           }
          ],
          "scattergeo": [
           {
            "marker": {
             "colorbar": {
              "outlinewidth": 0,
              "ticks": ""
             }
            },
            "type": "scattergeo"
           }
          ],
          "scattergl": [
           {
            "marker": {
             "colorbar": {
              "outlinewidth": 0,
              "ticks": ""
             }
            },
            "type": "scattergl"
           }
          ],
          "scattermapbox": [
           {
            "marker": {
             "colorbar": {
              "outlinewidth": 0,
              "ticks": ""
             }
            },
            "type": "scattermapbox"
           }
          ],
          "scatterpolar": [
           {
            "marker": {
             "colorbar": {
              "outlinewidth": 0,
              "ticks": ""
             }
            },
            "type": "scatterpolar"
           }
          ],
          "scatterpolargl": [
           {
            "marker": {
             "colorbar": {
              "outlinewidth": 0,
              "ticks": ""
             }
            },
            "type": "scatterpolargl"
           }
          ],
          "scatterternary": [
           {
            "marker": {
             "colorbar": {
              "outlinewidth": 0,
              "ticks": ""
             }
            },
            "type": "scatterternary"
           }
          ],
          "surface": [
           {
            "colorbar": {
             "outlinewidth": 0,
             "ticks": ""
            },
            "colorscale": [
             [
              0,
              "#0d0887"
             ],
             [
              0.1111111111111111,
              "#46039f"
             ],
             [
              0.2222222222222222,
              "#7201a8"
             ],
             [
              0.3333333333333333,
              "#9c179e"
             ],
             [
              0.4444444444444444,
              "#bd3786"
             ],
             [
              0.5555555555555556,
              "#d8576b"
             ],
             [
              0.6666666666666666,
              "#ed7953"
             ],
             [
              0.7777777777777778,
              "#fb9f3a"
             ],
             [
              0.8888888888888888,
              "#fdca26"
             ],
             [
              1,
              "#f0f921"
             ]
            ],
            "type": "surface"
           }
          ],
          "table": [
           {
            "cells": {
             "fill": {
              "color": "#EBF0F8"
             },
             "line": {
              "color": "white"
             }
            },
            "header": {
             "fill": {
              "color": "#C8D4E3"
             },
             "line": {
              "color": "white"
             }
            },
            "type": "table"
           }
          ]
         },
         "layout": {
          "annotationdefaults": {
           "arrowcolor": "#2a3f5f",
           "arrowhead": 0,
           "arrowwidth": 1
          },
          "coloraxis": {
           "colorbar": {
            "outlinewidth": 0,
            "ticks": ""
           }
          },
          "colorscale": {
           "diverging": [
            [
             0,
             "#8e0152"
            ],
            [
             0.1,
             "#c51b7d"
            ],
            [
             0.2,
             "#de77ae"
            ],
            [
             0.3,
             "#f1b6da"
            ],
            [
             0.4,
             "#fde0ef"
            ],
            [
             0.5,
             "#f7f7f7"
            ],
            [
             0.6,
             "#e6f5d0"
            ],
            [
             0.7,
             "#b8e186"
            ],
            [
             0.8,
             "#7fbc41"
            ],
            [
             0.9,
             "#4d9221"
            ],
            [
             1,
             "#276419"
            ]
           ],
           "sequential": [
            [
             0,
             "#0d0887"
            ],
            [
             0.1111111111111111,
             "#46039f"
            ],
            [
             0.2222222222222222,
             "#7201a8"
            ],
            [
             0.3333333333333333,
             "#9c179e"
            ],
            [
             0.4444444444444444,
             "#bd3786"
            ],
            [
             0.5555555555555556,
             "#d8576b"
            ],
            [
             0.6666666666666666,
             "#ed7953"
            ],
            [
             0.7777777777777778,
             "#fb9f3a"
            ],
            [
             0.8888888888888888,
             "#fdca26"
            ],
            [
             1,
             "#f0f921"
            ]
           ],
           "sequentialminus": [
            [
             0,
             "#0d0887"
            ],
            [
             0.1111111111111111,
             "#46039f"
            ],
            [
             0.2222222222222222,
             "#7201a8"
            ],
            [
             0.3333333333333333,
             "#9c179e"
            ],
            [
             0.4444444444444444,
             "#bd3786"
            ],
            [
             0.5555555555555556,
             "#d8576b"
            ],
            [
             0.6666666666666666,
             "#ed7953"
            ],
            [
             0.7777777777777778,
             "#fb9f3a"
            ],
            [
             0.8888888888888888,
             "#fdca26"
            ],
            [
             1,
             "#f0f921"
            ]
           ]
          },
          "colorway": [
           "#636efa",
           "#EF553B",
           "#00cc96",
           "#ab63fa",
           "#FFA15A",
           "#19d3f3",
           "#FF6692",
           "#B6E880",
           "#FF97FF",
           "#FECB52"
          ],
          "font": {
           "color": "#2a3f5f"
          },
          "geo": {
           "bgcolor": "white",
           "lakecolor": "white",
           "landcolor": "#E5ECF6",
           "showlakes": true,
           "showland": true,
           "subunitcolor": "white"
          },
          "hoverlabel": {
           "align": "left"
          },
          "hovermode": "closest",
          "mapbox": {
           "style": "light"
          },
          "paper_bgcolor": "white",
          "plot_bgcolor": "#E5ECF6",
          "polar": {
           "angularaxis": {
            "gridcolor": "white",
            "linecolor": "white",
            "ticks": ""
           },
           "bgcolor": "#E5ECF6",
           "radialaxis": {
            "gridcolor": "white",
            "linecolor": "white",
            "ticks": ""
           }
          },
          "scene": {
           "xaxis": {
            "backgroundcolor": "#E5ECF6",
            "gridcolor": "white",
            "gridwidth": 2,
            "linecolor": "white",
            "showbackground": true,
            "ticks": "",
            "zerolinecolor": "white"
           },
           "yaxis": {
            "backgroundcolor": "#E5ECF6",
            "gridcolor": "white",
            "gridwidth": 2,
            "linecolor": "white",
            "showbackground": true,
            "ticks": "",
            "zerolinecolor": "white"
           },
           "zaxis": {
            "backgroundcolor": "#E5ECF6",
            "gridcolor": "white",
            "gridwidth": 2,
            "linecolor": "white",
            "showbackground": true,
            "ticks": "",
            "zerolinecolor": "white"
           }
          },
          "shapedefaults": {
           "line": {
            "color": "#2a3f5f"
           }
          },
          "ternary": {
           "aaxis": {
            "gridcolor": "white",
            "linecolor": "white",
            "ticks": ""
           },
           "baxis": {
            "gridcolor": "white",
            "linecolor": "white",
            "ticks": ""
           },
           "bgcolor": "#E5ECF6",
           "caxis": {
            "gridcolor": "white",
            "linecolor": "white",
            "ticks": ""
           }
          },
          "title": {
           "x": 0.05
          },
          "xaxis": {
           "automargin": true,
           "gridcolor": "white",
           "linecolor": "white",
           "ticks": "",
           "title": {
            "standoff": 15
           },
           "zerolinecolor": "white",
           "zerolinewidth": 2
          },
          "yaxis": {
           "automargin": true,
           "gridcolor": "white",
           "linecolor": "white",
           "ticks": "",
           "title": {
            "standoff": 15
           },
           "zerolinecolor": "white",
           "zerolinewidth": 2
          }
         }
        }
       }
      },
      "text/html": [
       "<div>\n",
       "        \n",
       "        \n",
       "            <div id=\"3d780f41-3d3c-4df8-a42f-a75847db5e32\" class=\"plotly-graph-div\" style=\"height:525px; width:100%;\"></div>\n",
       "            <script type=\"text/javascript\">\n",
       "                require([\"plotly\"], function(Plotly) {\n",
       "                    window.PLOTLYENV=window.PLOTLYENV || {};\n",
       "                    \n",
       "                if (document.getElementById(\"3d780f41-3d3c-4df8-a42f-a75847db5e32\")) {\n",
       "                    Plotly.newPlot(\n",
       "                        '3d780f41-3d3c-4df8-a42f-a75847db5e32',\n",
       "                        [{\"type\": \"heatmap\", \"z\": [[7.637505752202023, 5.295763685697204, 3.6507786214470968, 2.4419340807563694, 1.6498207412488237, 0.10467175009113273, 0.23672851169972767, 0.6983714098199837, 1.2430081480264388, 2.240608962832885], [6.813752229174843, 4.383193705119702, 4.035420559204703, 2.4135474268481505, 1.370018650414886, 0.39295724116303615, 0.725748974406265, 1.1351376094621708, 2.478761742892141, 3.4903293609335457], [7.460051670046803, 4.453027789532663, 3.1256880403596305, 0.7171488363280792, 0.9629830311727566, 0.2583202986225215, 0.4665608254042844, 1.0602966190223402, 2.3080507451433823, 3.9823568586369515], [6.866273216473719, 4.864326375582348, 2.2994769398021293, 1.5761345547564967, 1.0740075595830425, 0.2309145298176354, 0.9014942866159351, 1.7782199310053621, 2.8058900450644377, 4.238836746047498], [5.8592390123525355, 4.4569397888649265, 2.3815385317141797, 1.479696288738332, 0.8452628724229884, 0.7563969679910533, 1.0478244978787579, 2.204472266363093, 3.368936750484011, 5.480636244429986], [5.245806700494642, 3.697834203819987, 2.2754638751576106, 0.8457575773406953, 0.08259254969463563, 0.2950820087598238, 1.361637770414716, 2.6884098815922597, 3.310065136022511, 5.624029603253529], [5.512286963639236, 3.5896027328081512, 1.7610863750099222, 0.37850926288087416, 0.378056727232525, 0.27434347401700293, 1.4673041028336735, 2.6080829334077307, 4.039078718620039, 5.173026324740955], [5.143554512731856, 3.0975442544770244, 1.3231702451946525, 0.7569763209335021, 0.5668633924394452, 1.3891506356176044, 1.6017730728974058, 3.1181061916824198, 3.9096853125403417, 5.420875467681158], [4.381725324968886, 2.08486775173868, 0.9958363539202141, 0.36212140847651236, 0.3040257526267617, 0.755932259925233, 1.3751234727815005, 2.3336804641860214, 4.117765592761949, 5.45622032938872], [3.9265550391035, 1.5581294063041606, 0.7591801203833433, 0.17399151836640175, 1.5330145642208803, 1.6280949669550402, 2.4810510469303964, 2.619251366417531, 3.806391865214623, 6.271926595835038]], \"zmax\": 3.0, \"zmin\": 0.0}],\n",
       "                        {\"template\": {\"data\": {\"bar\": [{\"error_x\": {\"color\": \"#2a3f5f\"}, \"error_y\": {\"color\": \"#2a3f5f\"}, \"marker\": {\"line\": {\"color\": \"#E5ECF6\", \"width\": 0.5}}, \"type\": \"bar\"}], \"barpolar\": [{\"marker\": {\"line\": {\"color\": \"#E5ECF6\", \"width\": 0.5}}, \"type\": \"barpolar\"}], \"carpet\": [{\"aaxis\": {\"endlinecolor\": \"#2a3f5f\", \"gridcolor\": \"white\", \"linecolor\": \"white\", \"minorgridcolor\": \"white\", \"startlinecolor\": \"#2a3f5f\"}, \"baxis\": {\"endlinecolor\": \"#2a3f5f\", \"gridcolor\": \"white\", \"linecolor\": \"white\", \"minorgridcolor\": \"white\", \"startlinecolor\": \"#2a3f5f\"}, \"type\": \"carpet\"}], \"choropleth\": [{\"colorbar\": {\"outlinewidth\": 0, \"ticks\": \"\"}, \"type\": \"choropleth\"}], \"contour\": [{\"colorbar\": {\"outlinewidth\": 0, \"ticks\": \"\"}, \"colorscale\": [[0.0, \"#0d0887\"], [0.1111111111111111, \"#46039f\"], [0.2222222222222222, \"#7201a8\"], [0.3333333333333333, \"#9c179e\"], [0.4444444444444444, \"#bd3786\"], [0.5555555555555556, \"#d8576b\"], [0.6666666666666666, \"#ed7953\"], [0.7777777777777778, \"#fb9f3a\"], [0.8888888888888888, \"#fdca26\"], [1.0, \"#f0f921\"]], \"type\": \"contour\"}], \"contourcarpet\": [{\"colorbar\": {\"outlinewidth\": 0, \"ticks\": \"\"}, \"type\": \"contourcarpet\"}], \"heatmap\": [{\"colorbar\": {\"outlinewidth\": 0, \"ticks\": \"\"}, \"colorscale\": [[0.0, \"#0d0887\"], [0.1111111111111111, \"#46039f\"], [0.2222222222222222, \"#7201a8\"], [0.3333333333333333, \"#9c179e\"], [0.4444444444444444, \"#bd3786\"], [0.5555555555555556, \"#d8576b\"], [0.6666666666666666, \"#ed7953\"], [0.7777777777777778, \"#fb9f3a\"], [0.8888888888888888, \"#fdca26\"], [1.0, \"#f0f921\"]], \"type\": \"heatmap\"}], \"heatmapgl\": [{\"colorbar\": {\"outlinewidth\": 0, \"ticks\": \"\"}, \"colorscale\": [[0.0, \"#0d0887\"], [0.1111111111111111, \"#46039f\"], [0.2222222222222222, \"#7201a8\"], [0.3333333333333333, \"#9c179e\"], [0.4444444444444444, \"#bd3786\"], [0.5555555555555556, \"#d8576b\"], [0.6666666666666666, \"#ed7953\"], [0.7777777777777778, \"#fb9f3a\"], [0.8888888888888888, \"#fdca26\"], [1.0, \"#f0f921\"]], \"type\": \"heatmapgl\"}], \"histogram\": [{\"marker\": {\"colorbar\": {\"outlinewidth\": 0, \"ticks\": \"\"}}, \"type\": \"histogram\"}], \"histogram2d\": [{\"colorbar\": {\"outlinewidth\": 0, \"ticks\": \"\"}, \"colorscale\": [[0.0, \"#0d0887\"], [0.1111111111111111, \"#46039f\"], [0.2222222222222222, \"#7201a8\"], [0.3333333333333333, \"#9c179e\"], [0.4444444444444444, \"#bd3786\"], [0.5555555555555556, \"#d8576b\"], [0.6666666666666666, \"#ed7953\"], [0.7777777777777778, \"#fb9f3a\"], [0.8888888888888888, \"#fdca26\"], [1.0, \"#f0f921\"]], \"type\": \"histogram2d\"}], \"histogram2dcontour\": [{\"colorbar\": {\"outlinewidth\": 0, \"ticks\": \"\"}, \"colorscale\": [[0.0, \"#0d0887\"], [0.1111111111111111, \"#46039f\"], [0.2222222222222222, \"#7201a8\"], [0.3333333333333333, \"#9c179e\"], [0.4444444444444444, \"#bd3786\"], [0.5555555555555556, \"#d8576b\"], [0.6666666666666666, \"#ed7953\"], [0.7777777777777778, \"#fb9f3a\"], [0.8888888888888888, \"#fdca26\"], [1.0, \"#f0f921\"]], \"type\": \"histogram2dcontour\"}], \"mesh3d\": [{\"colorbar\": {\"outlinewidth\": 0, \"ticks\": \"\"}, \"type\": \"mesh3d\"}], \"parcoords\": [{\"line\": {\"colorbar\": {\"outlinewidth\": 0, \"ticks\": \"\"}}, \"type\": \"parcoords\"}], \"pie\": [{\"automargin\": true, \"type\": \"pie\"}], \"scatter\": [{\"marker\": {\"colorbar\": {\"outlinewidth\": 0, \"ticks\": \"\"}}, \"type\": \"scatter\"}], \"scatter3d\": [{\"line\": {\"colorbar\": {\"outlinewidth\": 0, \"ticks\": \"\"}}, \"marker\": {\"colorbar\": {\"outlinewidth\": 0, \"ticks\": \"\"}}, \"type\": \"scatter3d\"}], \"scattercarpet\": [{\"marker\": {\"colorbar\": {\"outlinewidth\": 0, \"ticks\": \"\"}}, \"type\": \"scattercarpet\"}], \"scattergeo\": [{\"marker\": {\"colorbar\": {\"outlinewidth\": 0, \"ticks\": \"\"}}, \"type\": \"scattergeo\"}], \"scattergl\": [{\"marker\": {\"colorbar\": {\"outlinewidth\": 0, \"ticks\": \"\"}}, \"type\": \"scattergl\"}], \"scattermapbox\": [{\"marker\": {\"colorbar\": {\"outlinewidth\": 0, \"ticks\": \"\"}}, \"type\": \"scattermapbox\"}], \"scatterpolar\": [{\"marker\": {\"colorbar\": {\"outlinewidth\": 0, \"ticks\": \"\"}}, \"type\": \"scatterpolar\"}], \"scatterpolargl\": [{\"marker\": {\"colorbar\": {\"outlinewidth\": 0, \"ticks\": \"\"}}, \"type\": \"scatterpolargl\"}], \"scatterternary\": [{\"marker\": {\"colorbar\": {\"outlinewidth\": 0, \"ticks\": \"\"}}, \"type\": \"scatterternary\"}], \"surface\": [{\"colorbar\": {\"outlinewidth\": 0, \"ticks\": \"\"}, \"colorscale\": [[0.0, \"#0d0887\"], [0.1111111111111111, \"#46039f\"], [0.2222222222222222, \"#7201a8\"], [0.3333333333333333, \"#9c179e\"], [0.4444444444444444, \"#bd3786\"], [0.5555555555555556, \"#d8576b\"], [0.6666666666666666, \"#ed7953\"], [0.7777777777777778, \"#fb9f3a\"], [0.8888888888888888, \"#fdca26\"], [1.0, \"#f0f921\"]], \"type\": \"surface\"}], \"table\": [{\"cells\": {\"fill\": {\"color\": \"#EBF0F8\"}, \"line\": {\"color\": \"white\"}}, \"header\": {\"fill\": {\"color\": \"#C8D4E3\"}, \"line\": {\"color\": \"white\"}}, \"type\": \"table\"}]}, \"layout\": {\"annotationdefaults\": {\"arrowcolor\": \"#2a3f5f\", \"arrowhead\": 0, \"arrowwidth\": 1}, \"coloraxis\": {\"colorbar\": {\"outlinewidth\": 0, \"ticks\": \"\"}}, \"colorscale\": {\"diverging\": [[0, \"#8e0152\"], [0.1, \"#c51b7d\"], [0.2, \"#de77ae\"], [0.3, \"#f1b6da\"], [0.4, \"#fde0ef\"], [0.5, \"#f7f7f7\"], [0.6, \"#e6f5d0\"], [0.7, \"#b8e186\"], [0.8, \"#7fbc41\"], [0.9, \"#4d9221\"], [1, \"#276419\"]], \"sequential\": [[0.0, \"#0d0887\"], [0.1111111111111111, \"#46039f\"], [0.2222222222222222, \"#7201a8\"], [0.3333333333333333, \"#9c179e\"], [0.4444444444444444, \"#bd3786\"], [0.5555555555555556, \"#d8576b\"], [0.6666666666666666, \"#ed7953\"], [0.7777777777777778, \"#fb9f3a\"], [0.8888888888888888, \"#fdca26\"], [1.0, \"#f0f921\"]], \"sequentialminus\": [[0.0, \"#0d0887\"], [0.1111111111111111, \"#46039f\"], [0.2222222222222222, \"#7201a8\"], [0.3333333333333333, \"#9c179e\"], [0.4444444444444444, \"#bd3786\"], [0.5555555555555556, \"#d8576b\"], [0.6666666666666666, \"#ed7953\"], [0.7777777777777778, \"#fb9f3a\"], [0.8888888888888888, \"#fdca26\"], [1.0, \"#f0f921\"]]}, \"colorway\": [\"#636efa\", \"#EF553B\", \"#00cc96\", \"#ab63fa\", \"#FFA15A\", \"#19d3f3\", \"#FF6692\", \"#B6E880\", \"#FF97FF\", \"#FECB52\"], \"font\": {\"color\": \"#2a3f5f\"}, \"geo\": {\"bgcolor\": \"white\", \"lakecolor\": \"white\", \"landcolor\": \"#E5ECF6\", \"showlakes\": true, \"showland\": true, \"subunitcolor\": \"white\"}, \"hoverlabel\": {\"align\": \"left\"}, \"hovermode\": \"closest\", \"mapbox\": {\"style\": \"light\"}, \"paper_bgcolor\": \"white\", \"plot_bgcolor\": \"#E5ECF6\", \"polar\": {\"angularaxis\": {\"gridcolor\": \"white\", \"linecolor\": \"white\", \"ticks\": \"\"}, \"bgcolor\": \"#E5ECF6\", \"radialaxis\": {\"gridcolor\": \"white\", \"linecolor\": \"white\", \"ticks\": \"\"}}, \"scene\": {\"xaxis\": {\"backgroundcolor\": \"#E5ECF6\", \"gridcolor\": \"white\", \"gridwidth\": 2, \"linecolor\": \"white\", \"showbackground\": true, \"ticks\": \"\", \"zerolinecolor\": \"white\"}, \"yaxis\": {\"backgroundcolor\": \"#E5ECF6\", \"gridcolor\": \"white\", \"gridwidth\": 2, \"linecolor\": \"white\", \"showbackground\": true, \"ticks\": \"\", \"zerolinecolor\": \"white\"}, \"zaxis\": {\"backgroundcolor\": \"#E5ECF6\", \"gridcolor\": \"white\", \"gridwidth\": 2, \"linecolor\": \"white\", \"showbackground\": true, \"ticks\": \"\", \"zerolinecolor\": \"white\"}}, \"shapedefaults\": {\"line\": {\"color\": \"#2a3f5f\"}}, \"ternary\": {\"aaxis\": {\"gridcolor\": \"white\", \"linecolor\": \"white\", \"ticks\": \"\"}, \"baxis\": {\"gridcolor\": \"white\", \"linecolor\": \"white\", \"ticks\": \"\"}, \"bgcolor\": \"#E5ECF6\", \"caxis\": {\"gridcolor\": \"white\", \"linecolor\": \"white\", \"ticks\": \"\"}}, \"title\": {\"x\": 0.05}, \"xaxis\": {\"automargin\": true, \"gridcolor\": \"white\", \"linecolor\": \"white\", \"ticks\": \"\", \"title\": {\"standoff\": 15}, \"zerolinecolor\": \"white\", \"zerolinewidth\": 2}, \"yaxis\": {\"automargin\": true, \"gridcolor\": \"white\", \"linecolor\": \"white\", \"ticks\": \"\", \"title\": {\"standoff\": 15}, \"zerolinecolor\": \"white\", \"zerolinewidth\": 2}}}},\n",
       "                        {\"responsive\": true}\n",
       "                    ).then(function(){\n",
       "                            \n",
       "var gd = document.getElementById('3d780f41-3d3c-4df8-a42f-a75847db5e32');\n",
       "var x = new MutationObserver(function (mutations, observer) {{\n",
       "        var display = window.getComputedStyle(gd).display;\n",
       "        if (!display || display === 'none') {{\n",
       "            console.log([gd, 'removed!']);\n",
       "            Plotly.purge(gd);\n",
       "            observer.disconnect();\n",
       "        }}\n",
       "}});\n",
       "\n",
       "// Listen for the removal of the full notebook cells\n",
       "var notebookContainer = gd.closest('#notebook-container');\n",
       "if (notebookContainer) {{\n",
       "    x.observe(notebookContainer, {childList: true});\n",
       "}}\n",
       "\n",
       "// Listen for the clearing of the current output cell\n",
       "var outputEl = gd.closest('.output');\n",
       "if (outputEl) {{\n",
       "    x.observe(outputEl, {childList: true});\n",
       "}}\n",
       "\n",
       "                        })\n",
       "                };\n",
       "                });\n",
       "            </script>\n",
       "        </div>"
      ]
     },
     "metadata": {},
     "output_type": "display_data"
    },
    {
     "name": "stdout",
     "output_type": "stream",
     "text": [
      "Adversarial\n"
     ]
    },
    {
     "data": {
      "application/vnd.plotly.v1+json": {
       "config": {
        "plotlyServerURL": "https://plot.ly"
       },
       "data": [
        {
         "type": "heatmap",
         "z": [
          [
           6.274458476123917,
           4.039559491783933,
           2.8658535551717437,
           2.204561624067825,
           1.157542598922203,
           1.0407051322909255,
           0.3258118723661217,
           0.2924713036063999,
           1.7813363471893773,
           3.3378613191523483
          ],
          [
           6.802743268289754,
           3.5960962928458264,
           2.8098796488942646,
           1.6316602939918237,
           1.5002905731966087,
           1.1297275227380943,
           0.37955079322809443,
           0.8975576240947916,
           2.7649230315610045,
           3.4154902144359895
          ],
          [
           5.361963401843145,
           3.978229915689625,
           2.6179773633154118,
           1.7792832898634512,
           1.3974881496798766,
           0.3839412739315306,
           0.3386416993635507,
           1.173217274553347,
           2.615972595944637,
           4.80071634521865
          ],
          [
           5.065949627599088,
           3.3115280797126148,
           2.258813099365902,
           2.2974833331645654,
           1.0201020292298182,
           0.4280124265849773,
           0.6796045682367416,
           1.8524270647598986,
           2.3292380871490477,
           4.705563700518568
          ],
          [
           4.405547887965913,
           3.7131970884709786,
           2.1808219432837617,
           1.7487586681087668,
           0.565000102407311,
           0.862141253614531,
           0.7015950381286084,
           1.51333569816685,
           3.7353929558682077,
           4.169085734755676
          ],
          [
           5.200836083120773,
           2.625744685167879,
           2.0876441964326036,
           0.9446101126998537,
           0.5414424182044298,
           0.4412188052259943,
           1.3209897900501812,
           2.4033131012107325,
           4.111556569890248,
           5.626712366254898
          ],
          [
           4.1495606834297565,
           2.5634354745962726,
           1.6574187723568217,
           1.9104181235286481,
           0.09171081084985162,
           0.3041269317963975,
           1.5958807552429752,
           2.7884305833308485,
           2.9333536849247293,
           5.922078768880032
          ],
          [
           4.34537853454832,
           2.195987430375327,
           1.1614750046714926,
           0.9195996643647538,
           0.10496388704892885,
           1.3211692188117579,
           1.6425103736969808,
           2.4612312396856884,
           4.552561504091338,
           5.61175090321054
          ],
          [
           3.247082131187128,
           2.0582088374892784,
           2.017209310128354,
           0.7422748928436423,
           0.24826189394271367,
           1.616671919311262,
           2.706409928591868,
           2.6351154063794113,
           4.0860397138499716,
           6.2193960470617595
          ],
          [
           3.6905954807710337,
           2.1498097358477675,
           0.9839256520910735,
           0.40329473424269235,
           0.8203254008037218,
           1.1491053329577208,
           2.965630243679239,
           3.517895120917042,
           3.9175933843841104,
           7.905647259164185
          ]
         ],
         "zmax": 3,
         "zmin": 0
        }
       ],
       "layout": {
        "template": {
         "data": {
          "bar": [
           {
            "error_x": {
             "color": "#2a3f5f"
            },
            "error_y": {
             "color": "#2a3f5f"
            },
            "marker": {
             "line": {
              "color": "#E5ECF6",
              "width": 0.5
             }
            },
            "type": "bar"
           }
          ],
          "barpolar": [
           {
            "marker": {
             "line": {
              "color": "#E5ECF6",
              "width": 0.5
             }
            },
            "type": "barpolar"
           }
          ],
          "carpet": [
           {
            "aaxis": {
             "endlinecolor": "#2a3f5f",
             "gridcolor": "white",
             "linecolor": "white",
             "minorgridcolor": "white",
             "startlinecolor": "#2a3f5f"
            },
            "baxis": {
             "endlinecolor": "#2a3f5f",
             "gridcolor": "white",
             "linecolor": "white",
             "minorgridcolor": "white",
             "startlinecolor": "#2a3f5f"
            },
            "type": "carpet"
           }
          ],
          "choropleth": [
           {
            "colorbar": {
             "outlinewidth": 0,
             "ticks": ""
            },
            "type": "choropleth"
           }
          ],
          "contour": [
           {
            "colorbar": {
             "outlinewidth": 0,
             "ticks": ""
            },
            "colorscale": [
             [
              0,
              "#0d0887"
             ],
             [
              0.1111111111111111,
              "#46039f"
             ],
             [
              0.2222222222222222,
              "#7201a8"
             ],
             [
              0.3333333333333333,
              "#9c179e"
             ],
             [
              0.4444444444444444,
              "#bd3786"
             ],
             [
              0.5555555555555556,
              "#d8576b"
             ],
             [
              0.6666666666666666,
              "#ed7953"
             ],
             [
              0.7777777777777778,
              "#fb9f3a"
             ],
             [
              0.8888888888888888,
              "#fdca26"
             ],
             [
              1,
              "#f0f921"
             ]
            ],
            "type": "contour"
           }
          ],
          "contourcarpet": [
           {
            "colorbar": {
             "outlinewidth": 0,
             "ticks": ""
            },
            "type": "contourcarpet"
           }
          ],
          "heatmap": [
           {
            "colorbar": {
             "outlinewidth": 0,
             "ticks": ""
            },
            "colorscale": [
             [
              0,
              "#0d0887"
             ],
             [
              0.1111111111111111,
              "#46039f"
             ],
             [
              0.2222222222222222,
              "#7201a8"
             ],
             [
              0.3333333333333333,
              "#9c179e"
             ],
             [
              0.4444444444444444,
              "#bd3786"
             ],
             [
              0.5555555555555556,
              "#d8576b"
             ],
             [
              0.6666666666666666,
              "#ed7953"
             ],
             [
              0.7777777777777778,
              "#fb9f3a"
             ],
             [
              0.8888888888888888,
              "#fdca26"
             ],
             [
              1,
              "#f0f921"
             ]
            ],
            "type": "heatmap"
           }
          ],
          "heatmapgl": [
           {
            "colorbar": {
             "outlinewidth": 0,
             "ticks": ""
            },
            "colorscale": [
             [
              0,
              "#0d0887"
             ],
             [
              0.1111111111111111,
              "#46039f"
             ],
             [
              0.2222222222222222,
              "#7201a8"
             ],
             [
              0.3333333333333333,
              "#9c179e"
             ],
             [
              0.4444444444444444,
              "#bd3786"
             ],
             [
              0.5555555555555556,
              "#d8576b"
             ],
             [
              0.6666666666666666,
              "#ed7953"
             ],
             [
              0.7777777777777778,
              "#fb9f3a"
             ],
             [
              0.8888888888888888,
              "#fdca26"
             ],
             [
              1,
              "#f0f921"
             ]
            ],
            "type": "heatmapgl"
           }
          ],
          "histogram": [
           {
            "marker": {
             "colorbar": {
              "outlinewidth": 0,
              "ticks": ""
             }
            },
            "type": "histogram"
           }
          ],
          "histogram2d": [
           {
            "colorbar": {
             "outlinewidth": 0,
             "ticks": ""
            },
            "colorscale": [
             [
              0,
              "#0d0887"
             ],
             [
              0.1111111111111111,
              "#46039f"
             ],
             [
              0.2222222222222222,
              "#7201a8"
             ],
             [
              0.3333333333333333,
              "#9c179e"
             ],
             [
              0.4444444444444444,
              "#bd3786"
             ],
             [
              0.5555555555555556,
              "#d8576b"
             ],
             [
              0.6666666666666666,
              "#ed7953"
             ],
             [
              0.7777777777777778,
              "#fb9f3a"
             ],
             [
              0.8888888888888888,
              "#fdca26"
             ],
             [
              1,
              "#f0f921"
             ]
            ],
            "type": "histogram2d"
           }
          ],
          "histogram2dcontour": [
           {
            "colorbar": {
             "outlinewidth": 0,
             "ticks": ""
            },
            "colorscale": [
             [
              0,
              "#0d0887"
             ],
             [
              0.1111111111111111,
              "#46039f"
             ],
             [
              0.2222222222222222,
              "#7201a8"
             ],
             [
              0.3333333333333333,
              "#9c179e"
             ],
             [
              0.4444444444444444,
              "#bd3786"
             ],
             [
              0.5555555555555556,
              "#d8576b"
             ],
             [
              0.6666666666666666,
              "#ed7953"
             ],
             [
              0.7777777777777778,
              "#fb9f3a"
             ],
             [
              0.8888888888888888,
              "#fdca26"
             ],
             [
              1,
              "#f0f921"
             ]
            ],
            "type": "histogram2dcontour"
           }
          ],
          "mesh3d": [
           {
            "colorbar": {
             "outlinewidth": 0,
             "ticks": ""
            },
            "type": "mesh3d"
           }
          ],
          "parcoords": [
           {
            "line": {
             "colorbar": {
              "outlinewidth": 0,
              "ticks": ""
             }
            },
            "type": "parcoords"
           }
          ],
          "pie": [
           {
            "automargin": true,
            "type": "pie"
           }
          ],
          "scatter": [
           {
            "marker": {
             "colorbar": {
              "outlinewidth": 0,
              "ticks": ""
             }
            },
            "type": "scatter"
           }
          ],
          "scatter3d": [
           {
            "line": {
             "colorbar": {
              "outlinewidth": 0,
              "ticks": ""
             }
            },
            "marker": {
             "colorbar": {
              "outlinewidth": 0,
              "ticks": ""
             }
            },
            "type": "scatter3d"
           }
          ],
          "scattercarpet": [
           {
            "marker": {
             "colorbar": {
              "outlinewidth": 0,
              "ticks": ""
             }
            },
            "type": "scattercarpet"
           }
          ],
          "scattergeo": [
           {
            "marker": {
             "colorbar": {
              "outlinewidth": 0,
              "ticks": ""
             }
            },
            "type": "scattergeo"
           }
          ],
          "scattergl": [
           {
            "marker": {
             "colorbar": {
              "outlinewidth": 0,
              "ticks": ""
             }
            },
            "type": "scattergl"
           }
          ],
          "scattermapbox": [
           {
            "marker": {
             "colorbar": {
              "outlinewidth": 0,
              "ticks": ""
             }
            },
            "type": "scattermapbox"
           }
          ],
          "scatterpolar": [
           {
            "marker": {
             "colorbar": {
              "outlinewidth": 0,
              "ticks": ""
             }
            },
            "type": "scatterpolar"
           }
          ],
          "scatterpolargl": [
           {
            "marker": {
             "colorbar": {
              "outlinewidth": 0,
              "ticks": ""
             }
            },
            "type": "scatterpolargl"
           }
          ],
          "scatterternary": [
           {
            "marker": {
             "colorbar": {
              "outlinewidth": 0,
              "ticks": ""
             }
            },
            "type": "scatterternary"
           }
          ],
          "surface": [
           {
            "colorbar": {
             "outlinewidth": 0,
             "ticks": ""
            },
            "colorscale": [
             [
              0,
              "#0d0887"
             ],
             [
              0.1111111111111111,
              "#46039f"
             ],
             [
              0.2222222222222222,
              "#7201a8"
             ],
             [
              0.3333333333333333,
              "#9c179e"
             ],
             [
              0.4444444444444444,
              "#bd3786"
             ],
             [
              0.5555555555555556,
              "#d8576b"
             ],
             [
              0.6666666666666666,
              "#ed7953"
             ],
             [
              0.7777777777777778,
              "#fb9f3a"
             ],
             [
              0.8888888888888888,
              "#fdca26"
             ],
             [
              1,
              "#f0f921"
             ]
            ],
            "type": "surface"
           }
          ],
          "table": [
           {
            "cells": {
             "fill": {
              "color": "#EBF0F8"
             },
             "line": {
              "color": "white"
             }
            },
            "header": {
             "fill": {
              "color": "#C8D4E3"
             },
             "line": {
              "color": "white"
             }
            },
            "type": "table"
           }
          ]
         },
         "layout": {
          "annotationdefaults": {
           "arrowcolor": "#2a3f5f",
           "arrowhead": 0,
           "arrowwidth": 1
          },
          "coloraxis": {
           "colorbar": {
            "outlinewidth": 0,
            "ticks": ""
           }
          },
          "colorscale": {
           "diverging": [
            [
             0,
             "#8e0152"
            ],
            [
             0.1,
             "#c51b7d"
            ],
            [
             0.2,
             "#de77ae"
            ],
            [
             0.3,
             "#f1b6da"
            ],
            [
             0.4,
             "#fde0ef"
            ],
            [
             0.5,
             "#f7f7f7"
            ],
            [
             0.6,
             "#e6f5d0"
            ],
            [
             0.7,
             "#b8e186"
            ],
            [
             0.8,
             "#7fbc41"
            ],
            [
             0.9,
             "#4d9221"
            ],
            [
             1,
             "#276419"
            ]
           ],
           "sequential": [
            [
             0,
             "#0d0887"
            ],
            [
             0.1111111111111111,
             "#46039f"
            ],
            [
             0.2222222222222222,
             "#7201a8"
            ],
            [
             0.3333333333333333,
             "#9c179e"
            ],
            [
             0.4444444444444444,
             "#bd3786"
            ],
            [
             0.5555555555555556,
             "#d8576b"
            ],
            [
             0.6666666666666666,
             "#ed7953"
            ],
            [
             0.7777777777777778,
             "#fb9f3a"
            ],
            [
             0.8888888888888888,
             "#fdca26"
            ],
            [
             1,
             "#f0f921"
            ]
           ],
           "sequentialminus": [
            [
             0,
             "#0d0887"
            ],
            [
             0.1111111111111111,
             "#46039f"
            ],
            [
             0.2222222222222222,
             "#7201a8"
            ],
            [
             0.3333333333333333,
             "#9c179e"
            ],
            [
             0.4444444444444444,
             "#bd3786"
            ],
            [
             0.5555555555555556,
             "#d8576b"
            ],
            [
             0.6666666666666666,
             "#ed7953"
            ],
            [
             0.7777777777777778,
             "#fb9f3a"
            ],
            [
             0.8888888888888888,
             "#fdca26"
            ],
            [
             1,
             "#f0f921"
            ]
           ]
          },
          "colorway": [
           "#636efa",
           "#EF553B",
           "#00cc96",
           "#ab63fa",
           "#FFA15A",
           "#19d3f3",
           "#FF6692",
           "#B6E880",
           "#FF97FF",
           "#FECB52"
          ],
          "font": {
           "color": "#2a3f5f"
          },
          "geo": {
           "bgcolor": "white",
           "lakecolor": "white",
           "landcolor": "#E5ECF6",
           "showlakes": true,
           "showland": true,
           "subunitcolor": "white"
          },
          "hoverlabel": {
           "align": "left"
          },
          "hovermode": "closest",
          "mapbox": {
           "style": "light"
          },
          "paper_bgcolor": "white",
          "plot_bgcolor": "#E5ECF6",
          "polar": {
           "angularaxis": {
            "gridcolor": "white",
            "linecolor": "white",
            "ticks": ""
           },
           "bgcolor": "#E5ECF6",
           "radialaxis": {
            "gridcolor": "white",
            "linecolor": "white",
            "ticks": ""
           }
          },
          "scene": {
           "xaxis": {
            "backgroundcolor": "#E5ECF6",
            "gridcolor": "white",
            "gridwidth": 2,
            "linecolor": "white",
            "showbackground": true,
            "ticks": "",
            "zerolinecolor": "white"
           },
           "yaxis": {
            "backgroundcolor": "#E5ECF6",
            "gridcolor": "white",
            "gridwidth": 2,
            "linecolor": "white",
            "showbackground": true,
            "ticks": "",
            "zerolinecolor": "white"
           },
           "zaxis": {
            "backgroundcolor": "#E5ECF6",
            "gridcolor": "white",
            "gridwidth": 2,
            "linecolor": "white",
            "showbackground": true,
            "ticks": "",
            "zerolinecolor": "white"
           }
          },
          "shapedefaults": {
           "line": {
            "color": "#2a3f5f"
           }
          },
          "ternary": {
           "aaxis": {
            "gridcolor": "white",
            "linecolor": "white",
            "ticks": ""
           },
           "baxis": {
            "gridcolor": "white",
            "linecolor": "white",
            "ticks": ""
           },
           "bgcolor": "#E5ECF6",
           "caxis": {
            "gridcolor": "white",
            "linecolor": "white",
            "ticks": ""
           }
          },
          "title": {
           "x": 0.05
          },
          "xaxis": {
           "automargin": true,
           "gridcolor": "white",
           "linecolor": "white",
           "ticks": "",
           "title": {
            "standoff": 15
           },
           "zerolinecolor": "white",
           "zerolinewidth": 2
          },
          "yaxis": {
           "automargin": true,
           "gridcolor": "white",
           "linecolor": "white",
           "ticks": "",
           "title": {
            "standoff": 15
           },
           "zerolinecolor": "white",
           "zerolinewidth": 2
          }
         }
        }
       }
      },
      "text/html": [
       "<div>\n",
       "        \n",
       "        \n",
       "            <div id=\"1ff92551-9772-4708-8936-fe91fe158185\" class=\"plotly-graph-div\" style=\"height:525px; width:100%;\"></div>\n",
       "            <script type=\"text/javascript\">\n",
       "                require([\"plotly\"], function(Plotly) {\n",
       "                    window.PLOTLYENV=window.PLOTLYENV || {};\n",
       "                    \n",
       "                if (document.getElementById(\"1ff92551-9772-4708-8936-fe91fe158185\")) {\n",
       "                    Plotly.newPlot(\n",
       "                        '1ff92551-9772-4708-8936-fe91fe158185',\n",
       "                        [{\"type\": \"heatmap\", \"z\": [[6.274458476123917, 4.039559491783933, 2.8658535551717437, 2.204561624067825, 1.157542598922203, 1.0407051322909255, 0.3258118723661217, 0.2924713036063999, 1.7813363471893773, 3.3378613191523483], [6.802743268289754, 3.5960962928458264, 2.8098796488942646, 1.6316602939918237, 1.5002905731966087, 1.1297275227380943, 0.37955079322809443, 0.8975576240947916, 2.7649230315610045, 3.4154902144359895], [5.361963401843145, 3.978229915689625, 2.6179773633154118, 1.7792832898634512, 1.3974881496798766, 0.3839412739315306, 0.3386416993635507, 1.173217274553347, 2.615972595944637, 4.80071634521865], [5.065949627599088, 3.3115280797126148, 2.258813099365902, 2.2974833331645654, 1.0201020292298182, 0.4280124265849773, 0.6796045682367416, 1.8524270647598986, 2.3292380871490477, 4.705563700518568], [4.405547887965913, 3.7131970884709786, 2.1808219432837617, 1.7487586681087668, 0.565000102407311, 0.862141253614531, 0.7015950381286084, 1.51333569816685, 3.7353929558682077, 4.169085734755676], [5.200836083120773, 2.625744685167879, 2.0876441964326036, 0.9446101126998537, 0.5414424182044298, 0.4412188052259943, 1.3209897900501812, 2.4033131012107325, 4.111556569890248, 5.626712366254898], [4.1495606834297565, 2.5634354745962726, 1.6574187723568217, 1.9104181235286481, 0.09171081084985162, 0.3041269317963975, 1.5958807552429752, 2.7884305833308485, 2.9333536849247293, 5.922078768880032], [4.34537853454832, 2.195987430375327, 1.1614750046714926, 0.9195996643647538, 0.10496388704892885, 1.3211692188117579, 1.6425103736969808, 2.4612312396856884, 4.552561504091338, 5.61175090321054], [3.247082131187128, 2.0582088374892784, 2.017209310128354, 0.7422748928436423, 0.24826189394271367, 1.616671919311262, 2.706409928591868, 2.6351154063794113, 4.0860397138499716, 6.2193960470617595], [3.6905954807710337, 2.1498097358477675, 0.9839256520910735, 0.40329473424269235, 0.8203254008037218, 1.1491053329577208, 2.965630243679239, 3.517895120917042, 3.9175933843841104, 7.905647259164185]], \"zmax\": 3.0, \"zmin\": 0.0}],\n",
       "                        {\"template\": {\"data\": {\"bar\": [{\"error_x\": {\"color\": \"#2a3f5f\"}, \"error_y\": {\"color\": \"#2a3f5f\"}, \"marker\": {\"line\": {\"color\": \"#E5ECF6\", \"width\": 0.5}}, \"type\": \"bar\"}], \"barpolar\": [{\"marker\": {\"line\": {\"color\": \"#E5ECF6\", \"width\": 0.5}}, \"type\": \"barpolar\"}], \"carpet\": [{\"aaxis\": {\"endlinecolor\": \"#2a3f5f\", \"gridcolor\": \"white\", \"linecolor\": \"white\", \"minorgridcolor\": \"white\", \"startlinecolor\": \"#2a3f5f\"}, \"baxis\": {\"endlinecolor\": \"#2a3f5f\", \"gridcolor\": \"white\", \"linecolor\": \"white\", \"minorgridcolor\": \"white\", \"startlinecolor\": \"#2a3f5f\"}, \"type\": \"carpet\"}], \"choropleth\": [{\"colorbar\": {\"outlinewidth\": 0, \"ticks\": \"\"}, \"type\": \"choropleth\"}], \"contour\": [{\"colorbar\": {\"outlinewidth\": 0, \"ticks\": \"\"}, \"colorscale\": [[0.0, \"#0d0887\"], [0.1111111111111111, \"#46039f\"], [0.2222222222222222, \"#7201a8\"], [0.3333333333333333, \"#9c179e\"], [0.4444444444444444, \"#bd3786\"], [0.5555555555555556, \"#d8576b\"], [0.6666666666666666, \"#ed7953\"], [0.7777777777777778, \"#fb9f3a\"], [0.8888888888888888, \"#fdca26\"], [1.0, \"#f0f921\"]], \"type\": \"contour\"}], \"contourcarpet\": [{\"colorbar\": {\"outlinewidth\": 0, \"ticks\": \"\"}, \"type\": \"contourcarpet\"}], \"heatmap\": [{\"colorbar\": {\"outlinewidth\": 0, \"ticks\": \"\"}, \"colorscale\": [[0.0, \"#0d0887\"], [0.1111111111111111, \"#46039f\"], [0.2222222222222222, \"#7201a8\"], [0.3333333333333333, \"#9c179e\"], [0.4444444444444444, \"#bd3786\"], [0.5555555555555556, \"#d8576b\"], [0.6666666666666666, \"#ed7953\"], [0.7777777777777778, \"#fb9f3a\"], [0.8888888888888888, \"#fdca26\"], [1.0, \"#f0f921\"]], \"type\": \"heatmap\"}], \"heatmapgl\": [{\"colorbar\": {\"outlinewidth\": 0, \"ticks\": \"\"}, \"colorscale\": [[0.0, \"#0d0887\"], [0.1111111111111111, \"#46039f\"], [0.2222222222222222, \"#7201a8\"], [0.3333333333333333, \"#9c179e\"], [0.4444444444444444, \"#bd3786\"], [0.5555555555555556, \"#d8576b\"], [0.6666666666666666, \"#ed7953\"], [0.7777777777777778, \"#fb9f3a\"], [0.8888888888888888, \"#fdca26\"], [1.0, \"#f0f921\"]], \"type\": \"heatmapgl\"}], \"histogram\": [{\"marker\": {\"colorbar\": {\"outlinewidth\": 0, \"ticks\": \"\"}}, \"type\": \"histogram\"}], \"histogram2d\": [{\"colorbar\": {\"outlinewidth\": 0, \"ticks\": \"\"}, \"colorscale\": [[0.0, \"#0d0887\"], [0.1111111111111111, \"#46039f\"], [0.2222222222222222, \"#7201a8\"], [0.3333333333333333, \"#9c179e\"], [0.4444444444444444, \"#bd3786\"], [0.5555555555555556, \"#d8576b\"], [0.6666666666666666, \"#ed7953\"], [0.7777777777777778, \"#fb9f3a\"], [0.8888888888888888, \"#fdca26\"], [1.0, \"#f0f921\"]], \"type\": \"histogram2d\"}], \"histogram2dcontour\": [{\"colorbar\": {\"outlinewidth\": 0, \"ticks\": \"\"}, \"colorscale\": [[0.0, \"#0d0887\"], [0.1111111111111111, \"#46039f\"], [0.2222222222222222, \"#7201a8\"], [0.3333333333333333, \"#9c179e\"], [0.4444444444444444, \"#bd3786\"], [0.5555555555555556, \"#d8576b\"], [0.6666666666666666, \"#ed7953\"], [0.7777777777777778, \"#fb9f3a\"], [0.8888888888888888, \"#fdca26\"], [1.0, \"#f0f921\"]], \"type\": \"histogram2dcontour\"}], \"mesh3d\": [{\"colorbar\": {\"outlinewidth\": 0, \"ticks\": \"\"}, \"type\": \"mesh3d\"}], \"parcoords\": [{\"line\": {\"colorbar\": {\"outlinewidth\": 0, \"ticks\": \"\"}}, \"type\": \"parcoords\"}], \"pie\": [{\"automargin\": true, \"type\": \"pie\"}], \"scatter\": [{\"marker\": {\"colorbar\": {\"outlinewidth\": 0, \"ticks\": \"\"}}, \"type\": \"scatter\"}], \"scatter3d\": [{\"line\": {\"colorbar\": {\"outlinewidth\": 0, \"ticks\": \"\"}}, \"marker\": {\"colorbar\": {\"outlinewidth\": 0, \"ticks\": \"\"}}, \"type\": \"scatter3d\"}], \"scattercarpet\": [{\"marker\": {\"colorbar\": {\"outlinewidth\": 0, \"ticks\": \"\"}}, \"type\": \"scattercarpet\"}], \"scattergeo\": [{\"marker\": {\"colorbar\": {\"outlinewidth\": 0, \"ticks\": \"\"}}, \"type\": \"scattergeo\"}], \"scattergl\": [{\"marker\": {\"colorbar\": {\"outlinewidth\": 0, \"ticks\": \"\"}}, \"type\": \"scattergl\"}], \"scattermapbox\": [{\"marker\": {\"colorbar\": {\"outlinewidth\": 0, \"ticks\": \"\"}}, \"type\": \"scattermapbox\"}], \"scatterpolar\": [{\"marker\": {\"colorbar\": {\"outlinewidth\": 0, \"ticks\": \"\"}}, \"type\": \"scatterpolar\"}], \"scatterpolargl\": [{\"marker\": {\"colorbar\": {\"outlinewidth\": 0, \"ticks\": \"\"}}, \"type\": \"scatterpolargl\"}], \"scatterternary\": [{\"marker\": {\"colorbar\": {\"outlinewidth\": 0, \"ticks\": \"\"}}, \"type\": \"scatterternary\"}], \"surface\": [{\"colorbar\": {\"outlinewidth\": 0, \"ticks\": \"\"}, \"colorscale\": [[0.0, \"#0d0887\"], [0.1111111111111111, \"#46039f\"], [0.2222222222222222, \"#7201a8\"], [0.3333333333333333, \"#9c179e\"], [0.4444444444444444, \"#bd3786\"], [0.5555555555555556, \"#d8576b\"], [0.6666666666666666, \"#ed7953\"], [0.7777777777777778, \"#fb9f3a\"], [0.8888888888888888, \"#fdca26\"], [1.0, \"#f0f921\"]], \"type\": \"surface\"}], \"table\": [{\"cells\": {\"fill\": {\"color\": \"#EBF0F8\"}, \"line\": {\"color\": \"white\"}}, \"header\": {\"fill\": {\"color\": \"#C8D4E3\"}, \"line\": {\"color\": \"white\"}}, \"type\": \"table\"}]}, \"layout\": {\"annotationdefaults\": {\"arrowcolor\": \"#2a3f5f\", \"arrowhead\": 0, \"arrowwidth\": 1}, \"coloraxis\": {\"colorbar\": {\"outlinewidth\": 0, \"ticks\": \"\"}}, \"colorscale\": {\"diverging\": [[0, \"#8e0152\"], [0.1, \"#c51b7d\"], [0.2, \"#de77ae\"], [0.3, \"#f1b6da\"], [0.4, \"#fde0ef\"], [0.5, \"#f7f7f7\"], [0.6, \"#e6f5d0\"], [0.7, \"#b8e186\"], [0.8, \"#7fbc41\"], [0.9, \"#4d9221\"], [1, \"#276419\"]], \"sequential\": [[0.0, \"#0d0887\"], [0.1111111111111111, \"#46039f\"], [0.2222222222222222, \"#7201a8\"], [0.3333333333333333, \"#9c179e\"], [0.4444444444444444, \"#bd3786\"], [0.5555555555555556, \"#d8576b\"], [0.6666666666666666, \"#ed7953\"], [0.7777777777777778, \"#fb9f3a\"], [0.8888888888888888, \"#fdca26\"], [1.0, \"#f0f921\"]], \"sequentialminus\": [[0.0, \"#0d0887\"], [0.1111111111111111, \"#46039f\"], [0.2222222222222222, \"#7201a8\"], [0.3333333333333333, \"#9c179e\"], [0.4444444444444444, \"#bd3786\"], [0.5555555555555556, \"#d8576b\"], [0.6666666666666666, \"#ed7953\"], [0.7777777777777778, \"#fb9f3a\"], [0.8888888888888888, \"#fdca26\"], [1.0, \"#f0f921\"]]}, \"colorway\": [\"#636efa\", \"#EF553B\", \"#00cc96\", \"#ab63fa\", \"#FFA15A\", \"#19d3f3\", \"#FF6692\", \"#B6E880\", \"#FF97FF\", \"#FECB52\"], \"font\": {\"color\": \"#2a3f5f\"}, \"geo\": {\"bgcolor\": \"white\", \"lakecolor\": \"white\", \"landcolor\": \"#E5ECF6\", \"showlakes\": true, \"showland\": true, \"subunitcolor\": \"white\"}, \"hoverlabel\": {\"align\": \"left\"}, \"hovermode\": \"closest\", \"mapbox\": {\"style\": \"light\"}, \"paper_bgcolor\": \"white\", \"plot_bgcolor\": \"#E5ECF6\", \"polar\": {\"angularaxis\": {\"gridcolor\": \"white\", \"linecolor\": \"white\", \"ticks\": \"\"}, \"bgcolor\": \"#E5ECF6\", \"radialaxis\": {\"gridcolor\": \"white\", \"linecolor\": \"white\", \"ticks\": \"\"}}, \"scene\": {\"xaxis\": {\"backgroundcolor\": \"#E5ECF6\", \"gridcolor\": \"white\", \"gridwidth\": 2, \"linecolor\": \"white\", \"showbackground\": true, \"ticks\": \"\", \"zerolinecolor\": \"white\"}, \"yaxis\": {\"backgroundcolor\": \"#E5ECF6\", \"gridcolor\": \"white\", \"gridwidth\": 2, \"linecolor\": \"white\", \"showbackground\": true, \"ticks\": \"\", \"zerolinecolor\": \"white\"}, \"zaxis\": {\"backgroundcolor\": \"#E5ECF6\", \"gridcolor\": \"white\", \"gridwidth\": 2, \"linecolor\": \"white\", \"showbackground\": true, \"ticks\": \"\", \"zerolinecolor\": \"white\"}}, \"shapedefaults\": {\"line\": {\"color\": \"#2a3f5f\"}}, \"ternary\": {\"aaxis\": {\"gridcolor\": \"white\", \"linecolor\": \"white\", \"ticks\": \"\"}, \"baxis\": {\"gridcolor\": \"white\", \"linecolor\": \"white\", \"ticks\": \"\"}, \"bgcolor\": \"#E5ECF6\", \"caxis\": {\"gridcolor\": \"white\", \"linecolor\": \"white\", \"ticks\": \"\"}}, \"title\": {\"x\": 0.05}, \"xaxis\": {\"automargin\": true, \"gridcolor\": \"white\", \"linecolor\": \"white\", \"ticks\": \"\", \"title\": {\"standoff\": 15}, \"zerolinecolor\": \"white\", \"zerolinewidth\": 2}, \"yaxis\": {\"automargin\": true, \"gridcolor\": \"white\", \"linecolor\": \"white\", \"ticks\": \"\", \"title\": {\"standoff\": 15}, \"zerolinecolor\": \"white\", \"zerolinewidth\": 2}}}},\n",
       "                        {\"responsive\": true}\n",
       "                    ).then(function(){\n",
       "                            \n",
       "var gd = document.getElementById('1ff92551-9772-4708-8936-fe91fe158185');\n",
       "var x = new MutationObserver(function (mutations, observer) {{\n",
       "        var display = window.getComputedStyle(gd).display;\n",
       "        if (!display || display === 'none') {{\n",
       "            console.log([gd, 'removed!']);\n",
       "            Plotly.purge(gd);\n",
       "            observer.disconnect();\n",
       "        }}\n",
       "}});\n",
       "\n",
       "// Listen for the removal of the full notebook cells\n",
       "var notebookContainer = gd.closest('#notebook-container');\n",
       "if (notebookContainer) {{\n",
       "    x.observe(notebookContainer, {childList: true});\n",
       "}}\n",
       "\n",
       "// Listen for the clearing of the current output cell\n",
       "var outputEl = gd.closest('.output');\n",
       "if (outputEl) {{\n",
       "    x.observe(outputEl, {childList: true});\n",
       "}}\n",
       "\n",
       "                        })\n",
       "                };\n",
       "                });\n",
       "            </script>\n",
       "        </div>"
      ]
     },
     "metadata": {},
     "output_type": "display_data"
    },
    {
     "name": "stdout",
     "output_type": "stream",
     "text": [
      "LQR\n"
     ]
    },
    {
     "data": {
      "application/vnd.plotly.v1+json": {
       "config": {
        "plotlyServerURL": "https://plot.ly"
       },
       "data": [
        {
         "type": "heatmap",
         "z": [
          [
           2.0900312912681063,
           1.1581244806452593,
           0.8797043513842755,
           0.6861910760019528,
           0.526354840112357,
           0.35879530310997815,
           0.12011769213926245,
           0.17298589656024219,
           0.6176116646010743,
           1.279960002530067
          ],
          [
           1.848988269229428,
           1.1440892901922106,
           0.8855687176813943,
           0.670198778896891,
           0.503459651345002,
           0.29354809679431465,
           0.015282099586566891,
           0.29778730419096405,
           0.7811154654658734,
           1.4288745124440905
          ],
          [
           1.6791157218846227,
           1.1343001511504296,
           0.8671161137689003,
           0.6272935966739109,
           0.4491613182075245,
           0.19340393231551847,
           0.11666182188569577,
           0.4289481383527715,
           0.9219115705233659,
           1.5043418217751428
          ],
          [
           1.6228817263714905,
           1.1139823940557247,
           0.844424783272048,
           0.585704646109385,
           0.3587439850348237,
           0.06200232053165767,
           0.26054432890179047,
           0.5673044110905677,
           1.0595300609947789,
           1.5404979044140459
          ],
          [
           1.5866367891491882,
           1.1285422834151524,
           0.8073936181399468,
           0.5088510244092771,
           0.23421093647881766,
           0.08736470119770283,
           0.39723343247443516,
           0.7179623815908236,
           1.1188579312850746,
           1.5625781874438345
          ],
          [
           1.5625779030293978,
           1.118858097448423,
           0.71796266641513,
           0.397233672173716,
           0.08736487452457384,
           0.23421076609738453,
           0.5088513231955855,
           0.8073935039244393,
           1.1285424595977551,
           1.586637537986332
          ],
          [
           1.5404970374759623,
           1.0595305189982702,
           0.5673046383666394,
           0.26054404565521994,
           0.062002484645559644,
           0.3587437290844421,
           0.5857050449562238,
           0.8444245542925911,
           1.1139829720267083,
           1.6228870826952364
          ],
          [
           1.5043406658099665,
           0.9219112282440406,
           0.428948433250091,
           0.11666208241681254,
           0.19340374709106004,
           0.44916111883759496,
           0.6272934254498855,
           0.8671157694426647,
           1.1343011341305165,
           1.6791145063402684
          ],
          [
           1.4288724315317074,
           0.781115067318884,
           0.29778690841060895,
           0.015282189352738711,
           0.293547897216138,
           0.5034595087141434,
           0.670198159749656,
           0.8855684875134224,
           1.1440902730011688,
           1.8489896019964678
          ],
          [
           1.27995659635227,
           0.6176107571275514,
           0.17298561538154278,
           0.1201179066662253,
           0.35879565707793015,
           0.526354554380358,
           0.6861907894105722,
           0.8797039496690708,
           1.1581238477276052,
           2.090038032990845
          ]
         ],
         "zmax": 3,
         "zmin": 0
        }
       ],
       "layout": {
        "template": {
         "data": {
          "bar": [
           {
            "error_x": {
             "color": "#2a3f5f"
            },
            "error_y": {
             "color": "#2a3f5f"
            },
            "marker": {
             "line": {
              "color": "#E5ECF6",
              "width": 0.5
             }
            },
            "type": "bar"
           }
          ],
          "barpolar": [
           {
            "marker": {
             "line": {
              "color": "#E5ECF6",
              "width": 0.5
             }
            },
            "type": "barpolar"
           }
          ],
          "carpet": [
           {
            "aaxis": {
             "endlinecolor": "#2a3f5f",
             "gridcolor": "white",
             "linecolor": "white",
             "minorgridcolor": "white",
             "startlinecolor": "#2a3f5f"
            },
            "baxis": {
             "endlinecolor": "#2a3f5f",
             "gridcolor": "white",
             "linecolor": "white",
             "minorgridcolor": "white",
             "startlinecolor": "#2a3f5f"
            },
            "type": "carpet"
           }
          ],
          "choropleth": [
           {
            "colorbar": {
             "outlinewidth": 0,
             "ticks": ""
            },
            "type": "choropleth"
           }
          ],
          "contour": [
           {
            "colorbar": {
             "outlinewidth": 0,
             "ticks": ""
            },
            "colorscale": [
             [
              0,
              "#0d0887"
             ],
             [
              0.1111111111111111,
              "#46039f"
             ],
             [
              0.2222222222222222,
              "#7201a8"
             ],
             [
              0.3333333333333333,
              "#9c179e"
             ],
             [
              0.4444444444444444,
              "#bd3786"
             ],
             [
              0.5555555555555556,
              "#d8576b"
             ],
             [
              0.6666666666666666,
              "#ed7953"
             ],
             [
              0.7777777777777778,
              "#fb9f3a"
             ],
             [
              0.8888888888888888,
              "#fdca26"
             ],
             [
              1,
              "#f0f921"
             ]
            ],
            "type": "contour"
           }
          ],
          "contourcarpet": [
           {
            "colorbar": {
             "outlinewidth": 0,
             "ticks": ""
            },
            "type": "contourcarpet"
           }
          ],
          "heatmap": [
           {
            "colorbar": {
             "outlinewidth": 0,
             "ticks": ""
            },
            "colorscale": [
             [
              0,
              "#0d0887"
             ],
             [
              0.1111111111111111,
              "#46039f"
             ],
             [
              0.2222222222222222,
              "#7201a8"
             ],
             [
              0.3333333333333333,
              "#9c179e"
             ],
             [
              0.4444444444444444,
              "#bd3786"
             ],
             [
              0.5555555555555556,
              "#d8576b"
             ],
             [
              0.6666666666666666,
              "#ed7953"
             ],
             [
              0.7777777777777778,
              "#fb9f3a"
             ],
             [
              0.8888888888888888,
              "#fdca26"
             ],
             [
              1,
              "#f0f921"
             ]
            ],
            "type": "heatmap"
           }
          ],
          "heatmapgl": [
           {
            "colorbar": {
             "outlinewidth": 0,
             "ticks": ""
            },
            "colorscale": [
             [
              0,
              "#0d0887"
             ],
             [
              0.1111111111111111,
              "#46039f"
             ],
             [
              0.2222222222222222,
              "#7201a8"
             ],
             [
              0.3333333333333333,
              "#9c179e"
             ],
             [
              0.4444444444444444,
              "#bd3786"
             ],
             [
              0.5555555555555556,
              "#d8576b"
             ],
             [
              0.6666666666666666,
              "#ed7953"
             ],
             [
              0.7777777777777778,
              "#fb9f3a"
             ],
             [
              0.8888888888888888,
              "#fdca26"
             ],
             [
              1,
              "#f0f921"
             ]
            ],
            "type": "heatmapgl"
           }
          ],
          "histogram": [
           {
            "marker": {
             "colorbar": {
              "outlinewidth": 0,
              "ticks": ""
             }
            },
            "type": "histogram"
           }
          ],
          "histogram2d": [
           {
            "colorbar": {
             "outlinewidth": 0,
             "ticks": ""
            },
            "colorscale": [
             [
              0,
              "#0d0887"
             ],
             [
              0.1111111111111111,
              "#46039f"
             ],
             [
              0.2222222222222222,
              "#7201a8"
             ],
             [
              0.3333333333333333,
              "#9c179e"
             ],
             [
              0.4444444444444444,
              "#bd3786"
             ],
             [
              0.5555555555555556,
              "#d8576b"
             ],
             [
              0.6666666666666666,
              "#ed7953"
             ],
             [
              0.7777777777777778,
              "#fb9f3a"
             ],
             [
              0.8888888888888888,
              "#fdca26"
             ],
             [
              1,
              "#f0f921"
             ]
            ],
            "type": "histogram2d"
           }
          ],
          "histogram2dcontour": [
           {
            "colorbar": {
             "outlinewidth": 0,
             "ticks": ""
            },
            "colorscale": [
             [
              0,
              "#0d0887"
             ],
             [
              0.1111111111111111,
              "#46039f"
             ],
             [
              0.2222222222222222,
              "#7201a8"
             ],
             [
              0.3333333333333333,
              "#9c179e"
             ],
             [
              0.4444444444444444,
              "#bd3786"
             ],
             [
              0.5555555555555556,
              "#d8576b"
             ],
             [
              0.6666666666666666,
              "#ed7953"
             ],
             [
              0.7777777777777778,
              "#fb9f3a"
             ],
             [
              0.8888888888888888,
              "#fdca26"
             ],
             [
              1,
              "#f0f921"
             ]
            ],
            "type": "histogram2dcontour"
           }
          ],
          "mesh3d": [
           {
            "colorbar": {
             "outlinewidth": 0,
             "ticks": ""
            },
            "type": "mesh3d"
           }
          ],
          "parcoords": [
           {
            "line": {
             "colorbar": {
              "outlinewidth": 0,
              "ticks": ""
             }
            },
            "type": "parcoords"
           }
          ],
          "pie": [
           {
            "automargin": true,
            "type": "pie"
           }
          ],
          "scatter": [
           {
            "marker": {
             "colorbar": {
              "outlinewidth": 0,
              "ticks": ""
             }
            },
            "type": "scatter"
           }
          ],
          "scatter3d": [
           {
            "line": {
             "colorbar": {
              "outlinewidth": 0,
              "ticks": ""
             }
            },
            "marker": {
             "colorbar": {
              "outlinewidth": 0,
              "ticks": ""
             }
            },
            "type": "scatter3d"
           }
          ],
          "scattercarpet": [
           {
            "marker": {
             "colorbar": {
              "outlinewidth": 0,
              "ticks": ""
             }
            },
            "type": "scattercarpet"
           }
          ],
          "scattergeo": [
           {
            "marker": {
             "colorbar": {
              "outlinewidth": 0,
              "ticks": ""
             }
            },
            "type": "scattergeo"
           }
          ],
          "scattergl": [
           {
            "marker": {
             "colorbar": {
              "outlinewidth": 0,
              "ticks": ""
             }
            },
            "type": "scattergl"
           }
          ],
          "scattermapbox": [
           {
            "marker": {
             "colorbar": {
              "outlinewidth": 0,
              "ticks": ""
             }
            },
            "type": "scattermapbox"
           }
          ],
          "scatterpolar": [
           {
            "marker": {
             "colorbar": {
              "outlinewidth": 0,
              "ticks": ""
             }
            },
            "type": "scatterpolar"
           }
          ],
          "scatterpolargl": [
           {
            "marker": {
             "colorbar": {
              "outlinewidth": 0,
              "ticks": ""
             }
            },
            "type": "scatterpolargl"
           }
          ],
          "scatterternary": [
           {
            "marker": {
             "colorbar": {
              "outlinewidth": 0,
              "ticks": ""
             }
            },
            "type": "scatterternary"
           }
          ],
          "surface": [
           {
            "colorbar": {
             "outlinewidth": 0,
             "ticks": ""
            },
            "colorscale": [
             [
              0,
              "#0d0887"
             ],
             [
              0.1111111111111111,
              "#46039f"
             ],
             [
              0.2222222222222222,
              "#7201a8"
             ],
             [
              0.3333333333333333,
              "#9c179e"
             ],
             [
              0.4444444444444444,
              "#bd3786"
             ],
             [
              0.5555555555555556,
              "#d8576b"
             ],
             [
              0.6666666666666666,
              "#ed7953"
             ],
             [
              0.7777777777777778,
              "#fb9f3a"
             ],
             [
              0.8888888888888888,
              "#fdca26"
             ],
             [
              1,
              "#f0f921"
             ]
            ],
            "type": "surface"
           }
          ],
          "table": [
           {
            "cells": {
             "fill": {
              "color": "#EBF0F8"
             },
             "line": {
              "color": "white"
             }
            },
            "header": {
             "fill": {
              "color": "#C8D4E3"
             },
             "line": {
              "color": "white"
             }
            },
            "type": "table"
           }
          ]
         },
         "layout": {
          "annotationdefaults": {
           "arrowcolor": "#2a3f5f",
           "arrowhead": 0,
           "arrowwidth": 1
          },
          "coloraxis": {
           "colorbar": {
            "outlinewidth": 0,
            "ticks": ""
           }
          },
          "colorscale": {
           "diverging": [
            [
             0,
             "#8e0152"
            ],
            [
             0.1,
             "#c51b7d"
            ],
            [
             0.2,
             "#de77ae"
            ],
            [
             0.3,
             "#f1b6da"
            ],
            [
             0.4,
             "#fde0ef"
            ],
            [
             0.5,
             "#f7f7f7"
            ],
            [
             0.6,
             "#e6f5d0"
            ],
            [
             0.7,
             "#b8e186"
            ],
            [
             0.8,
             "#7fbc41"
            ],
            [
             0.9,
             "#4d9221"
            ],
            [
             1,
             "#276419"
            ]
           ],
           "sequential": [
            [
             0,
             "#0d0887"
            ],
            [
             0.1111111111111111,
             "#46039f"
            ],
            [
             0.2222222222222222,
             "#7201a8"
            ],
            [
             0.3333333333333333,
             "#9c179e"
            ],
            [
             0.4444444444444444,
             "#bd3786"
            ],
            [
             0.5555555555555556,
             "#d8576b"
            ],
            [
             0.6666666666666666,
             "#ed7953"
            ],
            [
             0.7777777777777778,
             "#fb9f3a"
            ],
            [
             0.8888888888888888,
             "#fdca26"
            ],
            [
             1,
             "#f0f921"
            ]
           ],
           "sequentialminus": [
            [
             0,
             "#0d0887"
            ],
            [
             0.1111111111111111,
             "#46039f"
            ],
            [
             0.2222222222222222,
             "#7201a8"
            ],
            [
             0.3333333333333333,
             "#9c179e"
            ],
            [
             0.4444444444444444,
             "#bd3786"
            ],
            [
             0.5555555555555556,
             "#d8576b"
            ],
            [
             0.6666666666666666,
             "#ed7953"
            ],
            [
             0.7777777777777778,
             "#fb9f3a"
            ],
            [
             0.8888888888888888,
             "#fdca26"
            ],
            [
             1,
             "#f0f921"
            ]
           ]
          },
          "colorway": [
           "#636efa",
           "#EF553B",
           "#00cc96",
           "#ab63fa",
           "#FFA15A",
           "#19d3f3",
           "#FF6692",
           "#B6E880",
           "#FF97FF",
           "#FECB52"
          ],
          "font": {
           "color": "#2a3f5f"
          },
          "geo": {
           "bgcolor": "white",
           "lakecolor": "white",
           "landcolor": "#E5ECF6",
           "showlakes": true,
           "showland": true,
           "subunitcolor": "white"
          },
          "hoverlabel": {
           "align": "left"
          },
          "hovermode": "closest",
          "mapbox": {
           "style": "light"
          },
          "paper_bgcolor": "white",
          "plot_bgcolor": "#E5ECF6",
          "polar": {
           "angularaxis": {
            "gridcolor": "white",
            "linecolor": "white",
            "ticks": ""
           },
           "bgcolor": "#E5ECF6",
           "radialaxis": {
            "gridcolor": "white",
            "linecolor": "white",
            "ticks": ""
           }
          },
          "scene": {
           "xaxis": {
            "backgroundcolor": "#E5ECF6",
            "gridcolor": "white",
            "gridwidth": 2,
            "linecolor": "white",
            "showbackground": true,
            "ticks": "",
            "zerolinecolor": "white"
           },
           "yaxis": {
            "backgroundcolor": "#E5ECF6",
            "gridcolor": "white",
            "gridwidth": 2,
            "linecolor": "white",
            "showbackground": true,
            "ticks": "",
            "zerolinecolor": "white"
           },
           "zaxis": {
            "backgroundcolor": "#E5ECF6",
            "gridcolor": "white",
            "gridwidth": 2,
            "linecolor": "white",
            "showbackground": true,
            "ticks": "",
            "zerolinecolor": "white"
           }
          },
          "shapedefaults": {
           "line": {
            "color": "#2a3f5f"
           }
          },
          "ternary": {
           "aaxis": {
            "gridcolor": "white",
            "linecolor": "white",
            "ticks": ""
           },
           "baxis": {
            "gridcolor": "white",
            "linecolor": "white",
            "ticks": ""
           },
           "bgcolor": "#E5ECF6",
           "caxis": {
            "gridcolor": "white",
            "linecolor": "white",
            "ticks": ""
           }
          },
          "title": {
           "x": 0.05
          },
          "xaxis": {
           "automargin": true,
           "gridcolor": "white",
           "linecolor": "white",
           "ticks": "",
           "title": {
            "standoff": 15
           },
           "zerolinecolor": "white",
           "zerolinewidth": 2
          },
          "yaxis": {
           "automargin": true,
           "gridcolor": "white",
           "linecolor": "white",
           "ticks": "",
           "title": {
            "standoff": 15
           },
           "zerolinecolor": "white",
           "zerolinewidth": 2
          }
         }
        }
       }
      },
      "text/html": [
       "<div>\n",
       "        \n",
       "        \n",
       "            <div id=\"01a77563-d637-4795-8565-8fe134027336\" class=\"plotly-graph-div\" style=\"height:525px; width:100%;\"></div>\n",
       "            <script type=\"text/javascript\">\n",
       "                require([\"plotly\"], function(Plotly) {\n",
       "                    window.PLOTLYENV=window.PLOTLYENV || {};\n",
       "                    \n",
       "                if (document.getElementById(\"01a77563-d637-4795-8565-8fe134027336\")) {\n",
       "                    Plotly.newPlot(\n",
       "                        '01a77563-d637-4795-8565-8fe134027336',\n",
       "                        [{\"type\": \"heatmap\", \"z\": [[2.0900312912681063, 1.1581244806452593, 0.8797043513842755, 0.6861910760019528, 0.526354840112357, 0.35879530310997815, 0.12011769213926245, 0.17298589656024219, 0.6176116646010743, 1.279960002530067], [1.848988269229428, 1.1440892901922106, 0.8855687176813943, 0.670198778896891, 0.503459651345002, 0.29354809679431465, 0.015282099586566891, 0.29778730419096405, 0.7811154654658734, 1.4288745124440905], [1.6791157218846227, 1.1343001511504296, 0.8671161137689003, 0.6272935966739109, 0.4491613182075245, 0.19340393231551847, 0.11666182188569577, 0.4289481383527715, 0.9219115705233659, 1.5043418217751428], [1.6228817263714905, 1.1139823940557247, 0.844424783272048, 0.585704646109385, 0.3587439850348237, 0.06200232053165767, 0.26054432890179047, 0.5673044110905677, 1.0595300609947789, 1.5404979044140459], [1.5866367891491882, 1.1285422834151524, 0.8073936181399468, 0.5088510244092771, 0.23421093647881766, 0.08736470119770283, 0.39723343247443516, 0.7179623815908236, 1.1188579312850746, 1.5625781874438345], [1.5625779030293978, 1.118858097448423, 0.71796266641513, 0.397233672173716, 0.08736487452457384, 0.23421076609738453, 0.5088513231955855, 0.8073935039244393, 1.1285424595977551, 1.586637537986332], [1.5404970374759623, 1.0595305189982702, 0.5673046383666394, 0.26054404565521994, 0.062002484645559644, 0.3587437290844421, 0.5857050449562238, 0.8444245542925911, 1.1139829720267083, 1.6228870826952364], [1.5043406658099665, 0.9219112282440406, 0.428948433250091, 0.11666208241681254, 0.19340374709106004, 0.44916111883759496, 0.6272934254498855, 0.8671157694426647, 1.1343011341305165, 1.6791145063402684], [1.4288724315317074, 0.781115067318884, 0.29778690841060895, 0.015282189352738711, 0.293547897216138, 0.5034595087141434, 0.670198159749656, 0.8855684875134224, 1.1440902730011688, 1.8489896019964678], [1.27995659635227, 0.6176107571275514, 0.17298561538154278, 0.1201179066662253, 0.35879565707793015, 0.526354554380358, 0.6861907894105722, 0.8797039496690708, 1.1581238477276052, 2.090038032990845]], \"zmax\": 3.0, \"zmin\": 0.0}],\n",
       "                        {\"template\": {\"data\": {\"bar\": [{\"error_x\": {\"color\": \"#2a3f5f\"}, \"error_y\": {\"color\": \"#2a3f5f\"}, \"marker\": {\"line\": {\"color\": \"#E5ECF6\", \"width\": 0.5}}, \"type\": \"bar\"}], \"barpolar\": [{\"marker\": {\"line\": {\"color\": \"#E5ECF6\", \"width\": 0.5}}, \"type\": \"barpolar\"}], \"carpet\": [{\"aaxis\": {\"endlinecolor\": \"#2a3f5f\", \"gridcolor\": \"white\", \"linecolor\": \"white\", \"minorgridcolor\": \"white\", \"startlinecolor\": \"#2a3f5f\"}, \"baxis\": {\"endlinecolor\": \"#2a3f5f\", \"gridcolor\": \"white\", \"linecolor\": \"white\", \"minorgridcolor\": \"white\", \"startlinecolor\": \"#2a3f5f\"}, \"type\": \"carpet\"}], \"choropleth\": [{\"colorbar\": {\"outlinewidth\": 0, \"ticks\": \"\"}, \"type\": \"choropleth\"}], \"contour\": [{\"colorbar\": {\"outlinewidth\": 0, \"ticks\": \"\"}, \"colorscale\": [[0.0, \"#0d0887\"], [0.1111111111111111, \"#46039f\"], [0.2222222222222222, \"#7201a8\"], [0.3333333333333333, \"#9c179e\"], [0.4444444444444444, \"#bd3786\"], [0.5555555555555556, \"#d8576b\"], [0.6666666666666666, \"#ed7953\"], [0.7777777777777778, \"#fb9f3a\"], [0.8888888888888888, \"#fdca26\"], [1.0, \"#f0f921\"]], \"type\": \"contour\"}], \"contourcarpet\": [{\"colorbar\": {\"outlinewidth\": 0, \"ticks\": \"\"}, \"type\": \"contourcarpet\"}], \"heatmap\": [{\"colorbar\": {\"outlinewidth\": 0, \"ticks\": \"\"}, \"colorscale\": [[0.0, \"#0d0887\"], [0.1111111111111111, \"#46039f\"], [0.2222222222222222, \"#7201a8\"], [0.3333333333333333, \"#9c179e\"], [0.4444444444444444, \"#bd3786\"], [0.5555555555555556, \"#d8576b\"], [0.6666666666666666, \"#ed7953\"], [0.7777777777777778, \"#fb9f3a\"], [0.8888888888888888, \"#fdca26\"], [1.0, \"#f0f921\"]], \"type\": \"heatmap\"}], \"heatmapgl\": [{\"colorbar\": {\"outlinewidth\": 0, \"ticks\": \"\"}, \"colorscale\": [[0.0, \"#0d0887\"], [0.1111111111111111, \"#46039f\"], [0.2222222222222222, \"#7201a8\"], [0.3333333333333333, \"#9c179e\"], [0.4444444444444444, \"#bd3786\"], [0.5555555555555556, \"#d8576b\"], [0.6666666666666666, \"#ed7953\"], [0.7777777777777778, \"#fb9f3a\"], [0.8888888888888888, \"#fdca26\"], [1.0, \"#f0f921\"]], \"type\": \"heatmapgl\"}], \"histogram\": [{\"marker\": {\"colorbar\": {\"outlinewidth\": 0, \"ticks\": \"\"}}, \"type\": \"histogram\"}], \"histogram2d\": [{\"colorbar\": {\"outlinewidth\": 0, \"ticks\": \"\"}, \"colorscale\": [[0.0, \"#0d0887\"], [0.1111111111111111, \"#46039f\"], [0.2222222222222222, \"#7201a8\"], [0.3333333333333333, \"#9c179e\"], [0.4444444444444444, \"#bd3786\"], [0.5555555555555556, \"#d8576b\"], [0.6666666666666666, \"#ed7953\"], [0.7777777777777778, \"#fb9f3a\"], [0.8888888888888888, \"#fdca26\"], [1.0, \"#f0f921\"]], \"type\": \"histogram2d\"}], \"histogram2dcontour\": [{\"colorbar\": {\"outlinewidth\": 0, \"ticks\": \"\"}, \"colorscale\": [[0.0, \"#0d0887\"], [0.1111111111111111, \"#46039f\"], [0.2222222222222222, \"#7201a8\"], [0.3333333333333333, \"#9c179e\"], [0.4444444444444444, \"#bd3786\"], [0.5555555555555556, \"#d8576b\"], [0.6666666666666666, \"#ed7953\"], [0.7777777777777778, \"#fb9f3a\"], [0.8888888888888888, \"#fdca26\"], [1.0, \"#f0f921\"]], \"type\": \"histogram2dcontour\"}], \"mesh3d\": [{\"colorbar\": {\"outlinewidth\": 0, \"ticks\": \"\"}, \"type\": \"mesh3d\"}], \"parcoords\": [{\"line\": {\"colorbar\": {\"outlinewidth\": 0, \"ticks\": \"\"}}, \"type\": \"parcoords\"}], \"pie\": [{\"automargin\": true, \"type\": \"pie\"}], \"scatter\": [{\"marker\": {\"colorbar\": {\"outlinewidth\": 0, \"ticks\": \"\"}}, \"type\": \"scatter\"}], \"scatter3d\": [{\"line\": {\"colorbar\": {\"outlinewidth\": 0, \"ticks\": \"\"}}, \"marker\": {\"colorbar\": {\"outlinewidth\": 0, \"ticks\": \"\"}}, \"type\": \"scatter3d\"}], \"scattercarpet\": [{\"marker\": {\"colorbar\": {\"outlinewidth\": 0, \"ticks\": \"\"}}, \"type\": \"scattercarpet\"}], \"scattergeo\": [{\"marker\": {\"colorbar\": {\"outlinewidth\": 0, \"ticks\": \"\"}}, \"type\": \"scattergeo\"}], \"scattergl\": [{\"marker\": {\"colorbar\": {\"outlinewidth\": 0, \"ticks\": \"\"}}, \"type\": \"scattergl\"}], \"scattermapbox\": [{\"marker\": {\"colorbar\": {\"outlinewidth\": 0, \"ticks\": \"\"}}, \"type\": \"scattermapbox\"}], \"scatterpolar\": [{\"marker\": {\"colorbar\": {\"outlinewidth\": 0, \"ticks\": \"\"}}, \"type\": \"scatterpolar\"}], \"scatterpolargl\": [{\"marker\": {\"colorbar\": {\"outlinewidth\": 0, \"ticks\": \"\"}}, \"type\": \"scatterpolargl\"}], \"scatterternary\": [{\"marker\": {\"colorbar\": {\"outlinewidth\": 0, \"ticks\": \"\"}}, \"type\": \"scatterternary\"}], \"surface\": [{\"colorbar\": {\"outlinewidth\": 0, \"ticks\": \"\"}, \"colorscale\": [[0.0, \"#0d0887\"], [0.1111111111111111, \"#46039f\"], [0.2222222222222222, \"#7201a8\"], [0.3333333333333333, \"#9c179e\"], [0.4444444444444444, \"#bd3786\"], [0.5555555555555556, \"#d8576b\"], [0.6666666666666666, \"#ed7953\"], [0.7777777777777778, \"#fb9f3a\"], [0.8888888888888888, \"#fdca26\"], [1.0, \"#f0f921\"]], \"type\": \"surface\"}], \"table\": [{\"cells\": {\"fill\": {\"color\": \"#EBF0F8\"}, \"line\": {\"color\": \"white\"}}, \"header\": {\"fill\": {\"color\": \"#C8D4E3\"}, \"line\": {\"color\": \"white\"}}, \"type\": \"table\"}]}, \"layout\": {\"annotationdefaults\": {\"arrowcolor\": \"#2a3f5f\", \"arrowhead\": 0, \"arrowwidth\": 1}, \"coloraxis\": {\"colorbar\": {\"outlinewidth\": 0, \"ticks\": \"\"}}, \"colorscale\": {\"diverging\": [[0, \"#8e0152\"], [0.1, \"#c51b7d\"], [0.2, \"#de77ae\"], [0.3, \"#f1b6da\"], [0.4, \"#fde0ef\"], [0.5, \"#f7f7f7\"], [0.6, \"#e6f5d0\"], [0.7, \"#b8e186\"], [0.8, \"#7fbc41\"], [0.9, \"#4d9221\"], [1, \"#276419\"]], \"sequential\": [[0.0, \"#0d0887\"], [0.1111111111111111, \"#46039f\"], [0.2222222222222222, \"#7201a8\"], [0.3333333333333333, \"#9c179e\"], [0.4444444444444444, \"#bd3786\"], [0.5555555555555556, \"#d8576b\"], [0.6666666666666666, \"#ed7953\"], [0.7777777777777778, \"#fb9f3a\"], [0.8888888888888888, \"#fdca26\"], [1.0, \"#f0f921\"]], \"sequentialminus\": [[0.0, \"#0d0887\"], [0.1111111111111111, \"#46039f\"], [0.2222222222222222, \"#7201a8\"], [0.3333333333333333, \"#9c179e\"], [0.4444444444444444, \"#bd3786\"], [0.5555555555555556, \"#d8576b\"], [0.6666666666666666, \"#ed7953\"], [0.7777777777777778, \"#fb9f3a\"], [0.8888888888888888, \"#fdca26\"], [1.0, \"#f0f921\"]]}, \"colorway\": [\"#636efa\", \"#EF553B\", \"#00cc96\", \"#ab63fa\", \"#FFA15A\", \"#19d3f3\", \"#FF6692\", \"#B6E880\", \"#FF97FF\", \"#FECB52\"], \"font\": {\"color\": \"#2a3f5f\"}, \"geo\": {\"bgcolor\": \"white\", \"lakecolor\": \"white\", \"landcolor\": \"#E5ECF6\", \"showlakes\": true, \"showland\": true, \"subunitcolor\": \"white\"}, \"hoverlabel\": {\"align\": \"left\"}, \"hovermode\": \"closest\", \"mapbox\": {\"style\": \"light\"}, \"paper_bgcolor\": \"white\", \"plot_bgcolor\": \"#E5ECF6\", \"polar\": {\"angularaxis\": {\"gridcolor\": \"white\", \"linecolor\": \"white\", \"ticks\": \"\"}, \"bgcolor\": \"#E5ECF6\", \"radialaxis\": {\"gridcolor\": \"white\", \"linecolor\": \"white\", \"ticks\": \"\"}}, \"scene\": {\"xaxis\": {\"backgroundcolor\": \"#E5ECF6\", \"gridcolor\": \"white\", \"gridwidth\": 2, \"linecolor\": \"white\", \"showbackground\": true, \"ticks\": \"\", \"zerolinecolor\": \"white\"}, \"yaxis\": {\"backgroundcolor\": \"#E5ECF6\", \"gridcolor\": \"white\", \"gridwidth\": 2, \"linecolor\": \"white\", \"showbackground\": true, \"ticks\": \"\", \"zerolinecolor\": \"white\"}, \"zaxis\": {\"backgroundcolor\": \"#E5ECF6\", \"gridcolor\": \"white\", \"gridwidth\": 2, \"linecolor\": \"white\", \"showbackground\": true, \"ticks\": \"\", \"zerolinecolor\": \"white\"}}, \"shapedefaults\": {\"line\": {\"color\": \"#2a3f5f\"}}, \"ternary\": {\"aaxis\": {\"gridcolor\": \"white\", \"linecolor\": \"white\", \"ticks\": \"\"}, \"baxis\": {\"gridcolor\": \"white\", \"linecolor\": \"white\", \"ticks\": \"\"}, \"bgcolor\": \"#E5ECF6\", \"caxis\": {\"gridcolor\": \"white\", \"linecolor\": \"white\", \"ticks\": \"\"}}, \"title\": {\"x\": 0.05}, \"xaxis\": {\"automargin\": true, \"gridcolor\": \"white\", \"linecolor\": \"white\", \"ticks\": \"\", \"title\": {\"standoff\": 15}, \"zerolinecolor\": \"white\", \"zerolinewidth\": 2}, \"yaxis\": {\"automargin\": true, \"gridcolor\": \"white\", \"linecolor\": \"white\", \"ticks\": \"\", \"title\": {\"standoff\": 15}, \"zerolinecolor\": \"white\", \"zerolinewidth\": 2}}}},\n",
       "                        {\"responsive\": true}\n",
       "                    ).then(function(){\n",
       "                            \n",
       "var gd = document.getElementById('01a77563-d637-4795-8565-8fe134027336');\n",
       "var x = new MutationObserver(function (mutations, observer) {{\n",
       "        var display = window.getComputedStyle(gd).display;\n",
       "        if (!display || display === 'none') {{\n",
       "            console.log([gd, 'removed!']);\n",
       "            Plotly.purge(gd);\n",
       "            observer.disconnect();\n",
       "        }}\n",
       "}});\n",
       "\n",
       "// Listen for the removal of the full notebook cells\n",
       "var notebookContainer = gd.closest('#notebook-container');\n",
       "if (notebookContainer) {{\n",
       "    x.observe(notebookContainer, {childList: true});\n",
       "}}\n",
       "\n",
       "// Listen for the clearing of the current output cell\n",
       "var outputEl = gd.closest('.output');\n",
       "if (outputEl) {{\n",
       "    x.observe(outputEl, {childList: true});\n",
       "}}\n",
       "\n",
       "                        })\n",
       "                };\n",
       "                });\n",
       "            </script>\n",
       "        </div>"
      ]
     },
     "metadata": {},
     "output_type": "display_data"
    },
    {
     "name": "stdout",
     "output_type": "stream",
     "text": [
      "Baseline\n"
     ]
    },
    {
     "data": {
      "application/vnd.plotly.v1+json": {
       "config": {
        "plotlyServerURL": "https://plot.ly"
       },
       "data": [
        {
         "type": "heatmap",
         "z": [
          [
           1,
           1,
           1,
           1,
           1,
           0,
           0,
           0,
           1,
           1
          ],
          [
           1,
           1,
           1,
           1,
           1,
           0,
           0,
           1,
           1,
           1
          ],
          [
           1,
           1,
           1,
           0,
           1,
           0,
           0,
           1,
           1,
           1
          ],
          [
           1,
           1,
           1,
           1,
           1,
           0,
           1,
           1,
           1,
           1
          ],
          [
           1,
           1,
           1,
           1,
           1,
           0,
           1,
           1,
           1,
           1
          ],
          [
           1,
           1,
           1,
           1,
           0,
           0,
           1,
           1,
           1,
           1
          ],
          [
           1,
           1,
           1,
           0,
           0,
           0,
           1,
           1,
           1,
           1
          ],
          [
           1,
           1,
           1,
           0,
           0,
           1,
           1,
           1,
           1,
           1
          ],
          [
           1,
           1,
           1,
           0,
           0,
           0,
           1,
           1,
           1,
           1
          ],
          [
           1,
           1,
           0,
           0,
           1,
           1,
           1,
           1,
           1,
           1
          ]
         ]
        }
       ],
       "layout": {
        "template": {
         "data": {
          "bar": [
           {
            "error_x": {
             "color": "#2a3f5f"
            },
            "error_y": {
             "color": "#2a3f5f"
            },
            "marker": {
             "line": {
              "color": "#E5ECF6",
              "width": 0.5
             }
            },
            "type": "bar"
           }
          ],
          "barpolar": [
           {
            "marker": {
             "line": {
              "color": "#E5ECF6",
              "width": 0.5
             }
            },
            "type": "barpolar"
           }
          ],
          "carpet": [
           {
            "aaxis": {
             "endlinecolor": "#2a3f5f",
             "gridcolor": "white",
             "linecolor": "white",
             "minorgridcolor": "white",
             "startlinecolor": "#2a3f5f"
            },
            "baxis": {
             "endlinecolor": "#2a3f5f",
             "gridcolor": "white",
             "linecolor": "white",
             "minorgridcolor": "white",
             "startlinecolor": "#2a3f5f"
            },
            "type": "carpet"
           }
          ],
          "choropleth": [
           {
            "colorbar": {
             "outlinewidth": 0,
             "ticks": ""
            },
            "type": "choropleth"
           }
          ],
          "contour": [
           {
            "colorbar": {
             "outlinewidth": 0,
             "ticks": ""
            },
            "colorscale": [
             [
              0,
              "#0d0887"
             ],
             [
              0.1111111111111111,
              "#46039f"
             ],
             [
              0.2222222222222222,
              "#7201a8"
             ],
             [
              0.3333333333333333,
              "#9c179e"
             ],
             [
              0.4444444444444444,
              "#bd3786"
             ],
             [
              0.5555555555555556,
              "#d8576b"
             ],
             [
              0.6666666666666666,
              "#ed7953"
             ],
             [
              0.7777777777777778,
              "#fb9f3a"
             ],
             [
              0.8888888888888888,
              "#fdca26"
             ],
             [
              1,
              "#f0f921"
             ]
            ],
            "type": "contour"
           }
          ],
          "contourcarpet": [
           {
            "colorbar": {
             "outlinewidth": 0,
             "ticks": ""
            },
            "type": "contourcarpet"
           }
          ],
          "heatmap": [
           {
            "colorbar": {
             "outlinewidth": 0,
             "ticks": ""
            },
            "colorscale": [
             [
              0,
              "#0d0887"
             ],
             [
              0.1111111111111111,
              "#46039f"
             ],
             [
              0.2222222222222222,
              "#7201a8"
             ],
             [
              0.3333333333333333,
              "#9c179e"
             ],
             [
              0.4444444444444444,
              "#bd3786"
             ],
             [
              0.5555555555555556,
              "#d8576b"
             ],
             [
              0.6666666666666666,
              "#ed7953"
             ],
             [
              0.7777777777777778,
              "#fb9f3a"
             ],
             [
              0.8888888888888888,
              "#fdca26"
             ],
             [
              1,
              "#f0f921"
             ]
            ],
            "type": "heatmap"
           }
          ],
          "heatmapgl": [
           {
            "colorbar": {
             "outlinewidth": 0,
             "ticks": ""
            },
            "colorscale": [
             [
              0,
              "#0d0887"
             ],
             [
              0.1111111111111111,
              "#46039f"
             ],
             [
              0.2222222222222222,
              "#7201a8"
             ],
             [
              0.3333333333333333,
              "#9c179e"
             ],
             [
              0.4444444444444444,
              "#bd3786"
             ],
             [
              0.5555555555555556,
              "#d8576b"
             ],
             [
              0.6666666666666666,
              "#ed7953"
             ],
             [
              0.7777777777777778,
              "#fb9f3a"
             ],
             [
              0.8888888888888888,
              "#fdca26"
             ],
             [
              1,
              "#f0f921"
             ]
            ],
            "type": "heatmapgl"
           }
          ],
          "histogram": [
           {
            "marker": {
             "colorbar": {
              "outlinewidth": 0,
              "ticks": ""
             }
            },
            "type": "histogram"
           }
          ],
          "histogram2d": [
           {
            "colorbar": {
             "outlinewidth": 0,
             "ticks": ""
            },
            "colorscale": [
             [
              0,
              "#0d0887"
             ],
             [
              0.1111111111111111,
              "#46039f"
             ],
             [
              0.2222222222222222,
              "#7201a8"
             ],
             [
              0.3333333333333333,
              "#9c179e"
             ],
             [
              0.4444444444444444,
              "#bd3786"
             ],
             [
              0.5555555555555556,
              "#d8576b"
             ],
             [
              0.6666666666666666,
              "#ed7953"
             ],
             [
              0.7777777777777778,
              "#fb9f3a"
             ],
             [
              0.8888888888888888,
              "#fdca26"
             ],
             [
              1,
              "#f0f921"
             ]
            ],
            "type": "histogram2d"
           }
          ],
          "histogram2dcontour": [
           {
            "colorbar": {
             "outlinewidth": 0,
             "ticks": ""
            },
            "colorscale": [
             [
              0,
              "#0d0887"
             ],
             [
              0.1111111111111111,
              "#46039f"
             ],
             [
              0.2222222222222222,
              "#7201a8"
             ],
             [
              0.3333333333333333,
              "#9c179e"
             ],
             [
              0.4444444444444444,
              "#bd3786"
             ],
             [
              0.5555555555555556,
              "#d8576b"
             ],
             [
              0.6666666666666666,
              "#ed7953"
             ],
             [
              0.7777777777777778,
              "#fb9f3a"
             ],
             [
              0.8888888888888888,
              "#fdca26"
             ],
             [
              1,
              "#f0f921"
             ]
            ],
            "type": "histogram2dcontour"
           }
          ],
          "mesh3d": [
           {
            "colorbar": {
             "outlinewidth": 0,
             "ticks": ""
            },
            "type": "mesh3d"
           }
          ],
          "parcoords": [
           {
            "line": {
             "colorbar": {
              "outlinewidth": 0,
              "ticks": ""
             }
            },
            "type": "parcoords"
           }
          ],
          "pie": [
           {
            "automargin": true,
            "type": "pie"
           }
          ],
          "scatter": [
           {
            "marker": {
             "colorbar": {
              "outlinewidth": 0,
              "ticks": ""
             }
            },
            "type": "scatter"
           }
          ],
          "scatter3d": [
           {
            "line": {
             "colorbar": {
              "outlinewidth": 0,
              "ticks": ""
             }
            },
            "marker": {
             "colorbar": {
              "outlinewidth": 0,
              "ticks": ""
             }
            },
            "type": "scatter3d"
           }
          ],
          "scattercarpet": [
           {
            "marker": {
             "colorbar": {
              "outlinewidth": 0,
              "ticks": ""
             }
            },
            "type": "scattercarpet"
           }
          ],
          "scattergeo": [
           {
            "marker": {
             "colorbar": {
              "outlinewidth": 0,
              "ticks": ""
             }
            },
            "type": "scattergeo"
           }
          ],
          "scattergl": [
           {
            "marker": {
             "colorbar": {
              "outlinewidth": 0,
              "ticks": ""
             }
            },
            "type": "scattergl"
           }
          ],
          "scattermapbox": [
           {
            "marker": {
             "colorbar": {
              "outlinewidth": 0,
              "ticks": ""
             }
            },
            "type": "scattermapbox"
           }
          ],
          "scatterpolar": [
           {
            "marker": {
             "colorbar": {
              "outlinewidth": 0,
              "ticks": ""
             }
            },
            "type": "scatterpolar"
           }
          ],
          "scatterpolargl": [
           {
            "marker": {
             "colorbar": {
              "outlinewidth": 0,
              "ticks": ""
             }
            },
            "type": "scatterpolargl"
           }
          ],
          "scatterternary": [
           {
            "marker": {
             "colorbar": {
              "outlinewidth": 0,
              "ticks": ""
             }
            },
            "type": "scatterternary"
           }
          ],
          "surface": [
           {
            "colorbar": {
             "outlinewidth": 0,
             "ticks": ""
            },
            "colorscale": [
             [
              0,
              "#0d0887"
             ],
             [
              0.1111111111111111,
              "#46039f"
             ],
             [
              0.2222222222222222,
              "#7201a8"
             ],
             [
              0.3333333333333333,
              "#9c179e"
             ],
             [
              0.4444444444444444,
              "#bd3786"
             ],
             [
              0.5555555555555556,
              "#d8576b"
             ],
             [
              0.6666666666666666,
              "#ed7953"
             ],
             [
              0.7777777777777778,
              "#fb9f3a"
             ],
             [
              0.8888888888888888,
              "#fdca26"
             ],
             [
              1,
              "#f0f921"
             ]
            ],
            "type": "surface"
           }
          ],
          "table": [
           {
            "cells": {
             "fill": {
              "color": "#EBF0F8"
             },
             "line": {
              "color": "white"
             }
            },
            "header": {
             "fill": {
              "color": "#C8D4E3"
             },
             "line": {
              "color": "white"
             }
            },
            "type": "table"
           }
          ]
         },
         "layout": {
          "annotationdefaults": {
           "arrowcolor": "#2a3f5f",
           "arrowhead": 0,
           "arrowwidth": 1
          },
          "coloraxis": {
           "colorbar": {
            "outlinewidth": 0,
            "ticks": ""
           }
          },
          "colorscale": {
           "diverging": [
            [
             0,
             "#8e0152"
            ],
            [
             0.1,
             "#c51b7d"
            ],
            [
             0.2,
             "#de77ae"
            ],
            [
             0.3,
             "#f1b6da"
            ],
            [
             0.4,
             "#fde0ef"
            ],
            [
             0.5,
             "#f7f7f7"
            ],
            [
             0.6,
             "#e6f5d0"
            ],
            [
             0.7,
             "#b8e186"
            ],
            [
             0.8,
             "#7fbc41"
            ],
            [
             0.9,
             "#4d9221"
            ],
            [
             1,
             "#276419"
            ]
           ],
           "sequential": [
            [
             0,
             "#0d0887"
            ],
            [
             0.1111111111111111,
             "#46039f"
            ],
            [
             0.2222222222222222,
             "#7201a8"
            ],
            [
             0.3333333333333333,
             "#9c179e"
            ],
            [
             0.4444444444444444,
             "#bd3786"
            ],
            [
             0.5555555555555556,
             "#d8576b"
            ],
            [
             0.6666666666666666,
             "#ed7953"
            ],
            [
             0.7777777777777778,
             "#fb9f3a"
            ],
            [
             0.8888888888888888,
             "#fdca26"
            ],
            [
             1,
             "#f0f921"
            ]
           ],
           "sequentialminus": [
            [
             0,
             "#0d0887"
            ],
            [
             0.1111111111111111,
             "#46039f"
            ],
            [
             0.2222222222222222,
             "#7201a8"
            ],
            [
             0.3333333333333333,
             "#9c179e"
            ],
            [
             0.4444444444444444,
             "#bd3786"
            ],
            [
             0.5555555555555556,
             "#d8576b"
            ],
            [
             0.6666666666666666,
             "#ed7953"
            ],
            [
             0.7777777777777778,
             "#fb9f3a"
            ],
            [
             0.8888888888888888,
             "#fdca26"
            ],
            [
             1,
             "#f0f921"
            ]
           ]
          },
          "colorway": [
           "#636efa",
           "#EF553B",
           "#00cc96",
           "#ab63fa",
           "#FFA15A",
           "#19d3f3",
           "#FF6692",
           "#B6E880",
           "#FF97FF",
           "#FECB52"
          ],
          "font": {
           "color": "#2a3f5f"
          },
          "geo": {
           "bgcolor": "white",
           "lakecolor": "white",
           "landcolor": "#E5ECF6",
           "showlakes": true,
           "showland": true,
           "subunitcolor": "white"
          },
          "hoverlabel": {
           "align": "left"
          },
          "hovermode": "closest",
          "mapbox": {
           "style": "light"
          },
          "paper_bgcolor": "white",
          "plot_bgcolor": "#E5ECF6",
          "polar": {
           "angularaxis": {
            "gridcolor": "white",
            "linecolor": "white",
            "ticks": ""
           },
           "bgcolor": "#E5ECF6",
           "radialaxis": {
            "gridcolor": "white",
            "linecolor": "white",
            "ticks": ""
           }
          },
          "scene": {
           "xaxis": {
            "backgroundcolor": "#E5ECF6",
            "gridcolor": "white",
            "gridwidth": 2,
            "linecolor": "white",
            "showbackground": true,
            "ticks": "",
            "zerolinecolor": "white"
           },
           "yaxis": {
            "backgroundcolor": "#E5ECF6",
            "gridcolor": "white",
            "gridwidth": 2,
            "linecolor": "white",
            "showbackground": true,
            "ticks": "",
            "zerolinecolor": "white"
           },
           "zaxis": {
            "backgroundcolor": "#E5ECF6",
            "gridcolor": "white",
            "gridwidth": 2,
            "linecolor": "white",
            "showbackground": true,
            "ticks": "",
            "zerolinecolor": "white"
           }
          },
          "shapedefaults": {
           "line": {
            "color": "#2a3f5f"
           }
          },
          "ternary": {
           "aaxis": {
            "gridcolor": "white",
            "linecolor": "white",
            "ticks": ""
           },
           "baxis": {
            "gridcolor": "white",
            "linecolor": "white",
            "ticks": ""
           },
           "bgcolor": "#E5ECF6",
           "caxis": {
            "gridcolor": "white",
            "linecolor": "white",
            "ticks": ""
           }
          },
          "title": {
           "x": 0.05
          },
          "xaxis": {
           "automargin": true,
           "gridcolor": "white",
           "linecolor": "white",
           "ticks": "",
           "title": {
            "standoff": 15
           },
           "zerolinecolor": "white",
           "zerolinewidth": 2
          },
          "yaxis": {
           "automargin": true,
           "gridcolor": "white",
           "linecolor": "white",
           "ticks": "",
           "title": {
            "standoff": 15
           },
           "zerolinecolor": "white",
           "zerolinewidth": 2
          }
         }
        }
       }
      },
      "text/html": [
       "<div>\n",
       "        \n",
       "        \n",
       "            <div id=\"7c99cb2e-b7e9-4903-972a-2cb134a27314\" class=\"plotly-graph-div\" style=\"height:525px; width:100%;\"></div>\n",
       "            <script type=\"text/javascript\">\n",
       "                require([\"plotly\"], function(Plotly) {\n",
       "                    window.PLOTLYENV=window.PLOTLYENV || {};\n",
       "                    \n",
       "                if (document.getElementById(\"7c99cb2e-b7e9-4903-972a-2cb134a27314\")) {\n",
       "                    Plotly.newPlot(\n",
       "                        '7c99cb2e-b7e9-4903-972a-2cb134a27314',\n",
       "                        [{\"type\": \"heatmap\", \"z\": [[1.0, 1.0, 1.0, 1.0, 1.0, 0.0, 0.0, 0.0, 1.0, 1.0], [1.0, 1.0, 1.0, 1.0, 1.0, 0.0, 0.0, 1.0, 1.0, 1.0], [1.0, 1.0, 1.0, 0.0, 1.0, 0.0, 0.0, 1.0, 1.0, 1.0], [1.0, 1.0, 1.0, 1.0, 1.0, 0.0, 1.0, 1.0, 1.0, 1.0], [1.0, 1.0, 1.0, 1.0, 1.0, 0.0, 1.0, 1.0, 1.0, 1.0], [1.0, 1.0, 1.0, 1.0, 0.0, 0.0, 1.0, 1.0, 1.0, 1.0], [1.0, 1.0, 1.0, 0.0, 0.0, 0.0, 1.0, 1.0, 1.0, 1.0], [1.0, 1.0, 1.0, 0.0, 0.0, 1.0, 1.0, 1.0, 1.0, 1.0], [1.0, 1.0, 1.0, 0.0, 0.0, 0.0, 1.0, 1.0, 1.0, 1.0], [1.0, 1.0, 0.0, 0.0, 1.0, 1.0, 1.0, 1.0, 1.0, 1.0]]}],\n",
       "                        {\"template\": {\"data\": {\"bar\": [{\"error_x\": {\"color\": \"#2a3f5f\"}, \"error_y\": {\"color\": \"#2a3f5f\"}, \"marker\": {\"line\": {\"color\": \"#E5ECF6\", \"width\": 0.5}}, \"type\": \"bar\"}], \"barpolar\": [{\"marker\": {\"line\": {\"color\": \"#E5ECF6\", \"width\": 0.5}}, \"type\": \"barpolar\"}], \"carpet\": [{\"aaxis\": {\"endlinecolor\": \"#2a3f5f\", \"gridcolor\": \"white\", \"linecolor\": \"white\", \"minorgridcolor\": \"white\", \"startlinecolor\": \"#2a3f5f\"}, \"baxis\": {\"endlinecolor\": \"#2a3f5f\", \"gridcolor\": \"white\", \"linecolor\": \"white\", \"minorgridcolor\": \"white\", \"startlinecolor\": \"#2a3f5f\"}, \"type\": \"carpet\"}], \"choropleth\": [{\"colorbar\": {\"outlinewidth\": 0, \"ticks\": \"\"}, \"type\": \"choropleth\"}], \"contour\": [{\"colorbar\": {\"outlinewidth\": 0, \"ticks\": \"\"}, \"colorscale\": [[0.0, \"#0d0887\"], [0.1111111111111111, \"#46039f\"], [0.2222222222222222, \"#7201a8\"], [0.3333333333333333, \"#9c179e\"], [0.4444444444444444, \"#bd3786\"], [0.5555555555555556, \"#d8576b\"], [0.6666666666666666, \"#ed7953\"], [0.7777777777777778, \"#fb9f3a\"], [0.8888888888888888, \"#fdca26\"], [1.0, \"#f0f921\"]], \"type\": \"contour\"}], \"contourcarpet\": [{\"colorbar\": {\"outlinewidth\": 0, \"ticks\": \"\"}, \"type\": \"contourcarpet\"}], \"heatmap\": [{\"colorbar\": {\"outlinewidth\": 0, \"ticks\": \"\"}, \"colorscale\": [[0.0, \"#0d0887\"], [0.1111111111111111, \"#46039f\"], [0.2222222222222222, \"#7201a8\"], [0.3333333333333333, \"#9c179e\"], [0.4444444444444444, \"#bd3786\"], [0.5555555555555556, \"#d8576b\"], [0.6666666666666666, \"#ed7953\"], [0.7777777777777778, \"#fb9f3a\"], [0.8888888888888888, \"#fdca26\"], [1.0, \"#f0f921\"]], \"type\": \"heatmap\"}], \"heatmapgl\": [{\"colorbar\": {\"outlinewidth\": 0, \"ticks\": \"\"}, \"colorscale\": [[0.0, \"#0d0887\"], [0.1111111111111111, \"#46039f\"], [0.2222222222222222, \"#7201a8\"], [0.3333333333333333, \"#9c179e\"], [0.4444444444444444, \"#bd3786\"], [0.5555555555555556, \"#d8576b\"], [0.6666666666666666, \"#ed7953\"], [0.7777777777777778, \"#fb9f3a\"], [0.8888888888888888, \"#fdca26\"], [1.0, \"#f0f921\"]], \"type\": \"heatmapgl\"}], \"histogram\": [{\"marker\": {\"colorbar\": {\"outlinewidth\": 0, \"ticks\": \"\"}}, \"type\": \"histogram\"}], \"histogram2d\": [{\"colorbar\": {\"outlinewidth\": 0, \"ticks\": \"\"}, \"colorscale\": [[0.0, \"#0d0887\"], [0.1111111111111111, \"#46039f\"], [0.2222222222222222, \"#7201a8\"], [0.3333333333333333, \"#9c179e\"], [0.4444444444444444, \"#bd3786\"], [0.5555555555555556, \"#d8576b\"], [0.6666666666666666, \"#ed7953\"], [0.7777777777777778, \"#fb9f3a\"], [0.8888888888888888, \"#fdca26\"], [1.0, \"#f0f921\"]], \"type\": \"histogram2d\"}], \"histogram2dcontour\": [{\"colorbar\": {\"outlinewidth\": 0, \"ticks\": \"\"}, \"colorscale\": [[0.0, \"#0d0887\"], [0.1111111111111111, \"#46039f\"], [0.2222222222222222, \"#7201a8\"], [0.3333333333333333, \"#9c179e\"], [0.4444444444444444, \"#bd3786\"], [0.5555555555555556, \"#d8576b\"], [0.6666666666666666, \"#ed7953\"], [0.7777777777777778, \"#fb9f3a\"], [0.8888888888888888, \"#fdca26\"], [1.0, \"#f0f921\"]], \"type\": \"histogram2dcontour\"}], \"mesh3d\": [{\"colorbar\": {\"outlinewidth\": 0, \"ticks\": \"\"}, \"type\": \"mesh3d\"}], \"parcoords\": [{\"line\": {\"colorbar\": {\"outlinewidth\": 0, \"ticks\": \"\"}}, \"type\": \"parcoords\"}], \"pie\": [{\"automargin\": true, \"type\": \"pie\"}], \"scatter\": [{\"marker\": {\"colorbar\": {\"outlinewidth\": 0, \"ticks\": \"\"}}, \"type\": \"scatter\"}], \"scatter3d\": [{\"line\": {\"colorbar\": {\"outlinewidth\": 0, \"ticks\": \"\"}}, \"marker\": {\"colorbar\": {\"outlinewidth\": 0, \"ticks\": \"\"}}, \"type\": \"scatter3d\"}], \"scattercarpet\": [{\"marker\": {\"colorbar\": {\"outlinewidth\": 0, \"ticks\": \"\"}}, \"type\": \"scattercarpet\"}], \"scattergeo\": [{\"marker\": {\"colorbar\": {\"outlinewidth\": 0, \"ticks\": \"\"}}, \"type\": \"scattergeo\"}], \"scattergl\": [{\"marker\": {\"colorbar\": {\"outlinewidth\": 0, \"ticks\": \"\"}}, \"type\": \"scattergl\"}], \"scattermapbox\": [{\"marker\": {\"colorbar\": {\"outlinewidth\": 0, \"ticks\": \"\"}}, \"type\": \"scattermapbox\"}], \"scatterpolar\": [{\"marker\": {\"colorbar\": {\"outlinewidth\": 0, \"ticks\": \"\"}}, \"type\": \"scatterpolar\"}], \"scatterpolargl\": [{\"marker\": {\"colorbar\": {\"outlinewidth\": 0, \"ticks\": \"\"}}, \"type\": \"scatterpolargl\"}], \"scatterternary\": [{\"marker\": {\"colorbar\": {\"outlinewidth\": 0, \"ticks\": \"\"}}, \"type\": \"scatterternary\"}], \"surface\": [{\"colorbar\": {\"outlinewidth\": 0, \"ticks\": \"\"}, \"colorscale\": [[0.0, \"#0d0887\"], [0.1111111111111111, \"#46039f\"], [0.2222222222222222, \"#7201a8\"], [0.3333333333333333, \"#9c179e\"], [0.4444444444444444, \"#bd3786\"], [0.5555555555555556, \"#d8576b\"], [0.6666666666666666, \"#ed7953\"], [0.7777777777777778, \"#fb9f3a\"], [0.8888888888888888, \"#fdca26\"], [1.0, \"#f0f921\"]], \"type\": \"surface\"}], \"table\": [{\"cells\": {\"fill\": {\"color\": \"#EBF0F8\"}, \"line\": {\"color\": \"white\"}}, \"header\": {\"fill\": {\"color\": \"#C8D4E3\"}, \"line\": {\"color\": \"white\"}}, \"type\": \"table\"}]}, \"layout\": {\"annotationdefaults\": {\"arrowcolor\": \"#2a3f5f\", \"arrowhead\": 0, \"arrowwidth\": 1}, \"coloraxis\": {\"colorbar\": {\"outlinewidth\": 0, \"ticks\": \"\"}}, \"colorscale\": {\"diverging\": [[0, \"#8e0152\"], [0.1, \"#c51b7d\"], [0.2, \"#de77ae\"], [0.3, \"#f1b6da\"], [0.4, \"#fde0ef\"], [0.5, \"#f7f7f7\"], [0.6, \"#e6f5d0\"], [0.7, \"#b8e186\"], [0.8, \"#7fbc41\"], [0.9, \"#4d9221\"], [1, \"#276419\"]], \"sequential\": [[0.0, \"#0d0887\"], [0.1111111111111111, \"#46039f\"], [0.2222222222222222, \"#7201a8\"], [0.3333333333333333, \"#9c179e\"], [0.4444444444444444, \"#bd3786\"], [0.5555555555555556, \"#d8576b\"], [0.6666666666666666, \"#ed7953\"], [0.7777777777777778, \"#fb9f3a\"], [0.8888888888888888, \"#fdca26\"], [1.0, \"#f0f921\"]], \"sequentialminus\": [[0.0, \"#0d0887\"], [0.1111111111111111, \"#46039f\"], [0.2222222222222222, \"#7201a8\"], [0.3333333333333333, \"#9c179e\"], [0.4444444444444444, \"#bd3786\"], [0.5555555555555556, \"#d8576b\"], [0.6666666666666666, \"#ed7953\"], [0.7777777777777778, \"#fb9f3a\"], [0.8888888888888888, \"#fdca26\"], [1.0, \"#f0f921\"]]}, \"colorway\": [\"#636efa\", \"#EF553B\", \"#00cc96\", \"#ab63fa\", \"#FFA15A\", \"#19d3f3\", \"#FF6692\", \"#B6E880\", \"#FF97FF\", \"#FECB52\"], \"font\": {\"color\": \"#2a3f5f\"}, \"geo\": {\"bgcolor\": \"white\", \"lakecolor\": \"white\", \"landcolor\": \"#E5ECF6\", \"showlakes\": true, \"showland\": true, \"subunitcolor\": \"white\"}, \"hoverlabel\": {\"align\": \"left\"}, \"hovermode\": \"closest\", \"mapbox\": {\"style\": \"light\"}, \"paper_bgcolor\": \"white\", \"plot_bgcolor\": \"#E5ECF6\", \"polar\": {\"angularaxis\": {\"gridcolor\": \"white\", \"linecolor\": \"white\", \"ticks\": \"\"}, \"bgcolor\": \"#E5ECF6\", \"radialaxis\": {\"gridcolor\": \"white\", \"linecolor\": \"white\", \"ticks\": \"\"}}, \"scene\": {\"xaxis\": {\"backgroundcolor\": \"#E5ECF6\", \"gridcolor\": \"white\", \"gridwidth\": 2, \"linecolor\": \"white\", \"showbackground\": true, \"ticks\": \"\", \"zerolinecolor\": \"white\"}, \"yaxis\": {\"backgroundcolor\": \"#E5ECF6\", \"gridcolor\": \"white\", \"gridwidth\": 2, \"linecolor\": \"white\", \"showbackground\": true, \"ticks\": \"\", \"zerolinecolor\": \"white\"}, \"zaxis\": {\"backgroundcolor\": \"#E5ECF6\", \"gridcolor\": \"white\", \"gridwidth\": 2, \"linecolor\": \"white\", \"showbackground\": true, \"ticks\": \"\", \"zerolinecolor\": \"white\"}}, \"shapedefaults\": {\"line\": {\"color\": \"#2a3f5f\"}}, \"ternary\": {\"aaxis\": {\"gridcolor\": \"white\", \"linecolor\": \"white\", \"ticks\": \"\"}, \"baxis\": {\"gridcolor\": \"white\", \"linecolor\": \"white\", \"ticks\": \"\"}, \"bgcolor\": \"#E5ECF6\", \"caxis\": {\"gridcolor\": \"white\", \"linecolor\": \"white\", \"ticks\": \"\"}}, \"title\": {\"x\": 0.05}, \"xaxis\": {\"automargin\": true, \"gridcolor\": \"white\", \"linecolor\": \"white\", \"ticks\": \"\", \"title\": {\"standoff\": 15}, \"zerolinecolor\": \"white\", \"zerolinewidth\": 2}, \"yaxis\": {\"automargin\": true, \"gridcolor\": \"white\", \"linecolor\": \"white\", \"ticks\": \"\", \"title\": {\"standoff\": 15}, \"zerolinecolor\": \"white\", \"zerolinewidth\": 2}}}},\n",
       "                        {\"responsive\": true}\n",
       "                    ).then(function(){\n",
       "                            \n",
       "var gd = document.getElementById('7c99cb2e-b7e9-4903-972a-2cb134a27314');\n",
       "var x = new MutationObserver(function (mutations, observer) {{\n",
       "        var display = window.getComputedStyle(gd).display;\n",
       "        if (!display || display === 'none') {{\n",
       "            console.log([gd, 'removed!']);\n",
       "            Plotly.purge(gd);\n",
       "            observer.disconnect();\n",
       "        }}\n",
       "}});\n",
       "\n",
       "// Listen for the removal of the full notebook cells\n",
       "var notebookContainer = gd.closest('#notebook-container');\n",
       "if (notebookContainer) {{\n",
       "    x.observe(notebookContainer, {childList: true});\n",
       "}}\n",
       "\n",
       "// Listen for the clearing of the current output cell\n",
       "var outputEl = gd.closest('.output');\n",
       "if (outputEl) {{\n",
       "    x.observe(outputEl, {childList: true});\n",
       "}}\n",
       "\n",
       "                        })\n",
       "                };\n",
       "                });\n",
       "            </script>\n",
       "        </div>"
      ]
     },
     "metadata": {},
     "output_type": "display_data"
    },
    {
     "name": "stdout",
     "output_type": "stream",
     "text": [
      "Adversarial\n"
     ]
    },
    {
     "data": {
      "application/vnd.plotly.v1+json": {
       "config": {
        "plotlyServerURL": "https://plot.ly"
       },
       "data": [
        {
         "type": "heatmap",
         "z": [
          [
           1,
           1,
           1,
           1,
           1,
           1,
           0,
           0,
           1,
           1
          ],
          [
           1,
           1,
           1,
           1,
           1,
           1,
           0,
           1,
           1,
           1
          ],
          [
           1,
           1,
           1,
           1,
           1,
           0,
           0,
           1,
           1,
           1
          ],
          [
           1,
           1,
           1,
           1,
           1,
           0,
           0,
           1,
           1,
           1
          ],
          [
           1,
           1,
           1,
           1,
           0,
           1,
           0,
           1,
           1,
           1
          ],
          [
           1,
           1,
           1,
           1,
           0,
           0,
           1,
           1,
           1,
           1
          ],
          [
           1,
           1,
           1,
           1,
           0,
           0,
           1,
           1,
           1,
           1
          ],
          [
           1,
           1,
           1,
           1,
           0,
           1,
           1,
           1,
           1,
           1
          ],
          [
           1,
           1,
           1,
           0,
           0,
           1,
           1,
           1,
           1,
           1
          ],
          [
           1,
           1,
           1,
           0,
           1,
           1,
           1,
           1,
           1,
           1
          ]
         ]
        }
       ],
       "layout": {
        "template": {
         "data": {
          "bar": [
           {
            "error_x": {
             "color": "#2a3f5f"
            },
            "error_y": {
             "color": "#2a3f5f"
            },
            "marker": {
             "line": {
              "color": "#E5ECF6",
              "width": 0.5
             }
            },
            "type": "bar"
           }
          ],
          "barpolar": [
           {
            "marker": {
             "line": {
              "color": "#E5ECF6",
              "width": 0.5
             }
            },
            "type": "barpolar"
           }
          ],
          "carpet": [
           {
            "aaxis": {
             "endlinecolor": "#2a3f5f",
             "gridcolor": "white",
             "linecolor": "white",
             "minorgridcolor": "white",
             "startlinecolor": "#2a3f5f"
            },
            "baxis": {
             "endlinecolor": "#2a3f5f",
             "gridcolor": "white",
             "linecolor": "white",
             "minorgridcolor": "white",
             "startlinecolor": "#2a3f5f"
            },
            "type": "carpet"
           }
          ],
          "choropleth": [
           {
            "colorbar": {
             "outlinewidth": 0,
             "ticks": ""
            },
            "type": "choropleth"
           }
          ],
          "contour": [
           {
            "colorbar": {
             "outlinewidth": 0,
             "ticks": ""
            },
            "colorscale": [
             [
              0,
              "#0d0887"
             ],
             [
              0.1111111111111111,
              "#46039f"
             ],
             [
              0.2222222222222222,
              "#7201a8"
             ],
             [
              0.3333333333333333,
              "#9c179e"
             ],
             [
              0.4444444444444444,
              "#bd3786"
             ],
             [
              0.5555555555555556,
              "#d8576b"
             ],
             [
              0.6666666666666666,
              "#ed7953"
             ],
             [
              0.7777777777777778,
              "#fb9f3a"
             ],
             [
              0.8888888888888888,
              "#fdca26"
             ],
             [
              1,
              "#f0f921"
             ]
            ],
            "type": "contour"
           }
          ],
          "contourcarpet": [
           {
            "colorbar": {
             "outlinewidth": 0,
             "ticks": ""
            },
            "type": "contourcarpet"
           }
          ],
          "heatmap": [
           {
            "colorbar": {
             "outlinewidth": 0,
             "ticks": ""
            },
            "colorscale": [
             [
              0,
              "#0d0887"
             ],
             [
              0.1111111111111111,
              "#46039f"
             ],
             [
              0.2222222222222222,
              "#7201a8"
             ],
             [
              0.3333333333333333,
              "#9c179e"
             ],
             [
              0.4444444444444444,
              "#bd3786"
             ],
             [
              0.5555555555555556,
              "#d8576b"
             ],
             [
              0.6666666666666666,
              "#ed7953"
             ],
             [
              0.7777777777777778,
              "#fb9f3a"
             ],
             [
              0.8888888888888888,
              "#fdca26"
             ],
             [
              1,
              "#f0f921"
             ]
            ],
            "type": "heatmap"
           }
          ],
          "heatmapgl": [
           {
            "colorbar": {
             "outlinewidth": 0,
             "ticks": ""
            },
            "colorscale": [
             [
              0,
              "#0d0887"
             ],
             [
              0.1111111111111111,
              "#46039f"
             ],
             [
              0.2222222222222222,
              "#7201a8"
             ],
             [
              0.3333333333333333,
              "#9c179e"
             ],
             [
              0.4444444444444444,
              "#bd3786"
             ],
             [
              0.5555555555555556,
              "#d8576b"
             ],
             [
              0.6666666666666666,
              "#ed7953"
             ],
             [
              0.7777777777777778,
              "#fb9f3a"
             ],
             [
              0.8888888888888888,
              "#fdca26"
             ],
             [
              1,
              "#f0f921"
             ]
            ],
            "type": "heatmapgl"
           }
          ],
          "histogram": [
           {
            "marker": {
             "colorbar": {
              "outlinewidth": 0,
              "ticks": ""
             }
            },
            "type": "histogram"
           }
          ],
          "histogram2d": [
           {
            "colorbar": {
             "outlinewidth": 0,
             "ticks": ""
            },
            "colorscale": [
             [
              0,
              "#0d0887"
             ],
             [
              0.1111111111111111,
              "#46039f"
             ],
             [
              0.2222222222222222,
              "#7201a8"
             ],
             [
              0.3333333333333333,
              "#9c179e"
             ],
             [
              0.4444444444444444,
              "#bd3786"
             ],
             [
              0.5555555555555556,
              "#d8576b"
             ],
             [
              0.6666666666666666,
              "#ed7953"
             ],
             [
              0.7777777777777778,
              "#fb9f3a"
             ],
             [
              0.8888888888888888,
              "#fdca26"
             ],
             [
              1,
              "#f0f921"
             ]
            ],
            "type": "histogram2d"
           }
          ],
          "histogram2dcontour": [
           {
            "colorbar": {
             "outlinewidth": 0,
             "ticks": ""
            },
            "colorscale": [
             [
              0,
              "#0d0887"
             ],
             [
              0.1111111111111111,
              "#46039f"
             ],
             [
              0.2222222222222222,
              "#7201a8"
             ],
             [
              0.3333333333333333,
              "#9c179e"
             ],
             [
              0.4444444444444444,
              "#bd3786"
             ],
             [
              0.5555555555555556,
              "#d8576b"
             ],
             [
              0.6666666666666666,
              "#ed7953"
             ],
             [
              0.7777777777777778,
              "#fb9f3a"
             ],
             [
              0.8888888888888888,
              "#fdca26"
             ],
             [
              1,
              "#f0f921"
             ]
            ],
            "type": "histogram2dcontour"
           }
          ],
          "mesh3d": [
           {
            "colorbar": {
             "outlinewidth": 0,
             "ticks": ""
            },
            "type": "mesh3d"
           }
          ],
          "parcoords": [
           {
            "line": {
             "colorbar": {
              "outlinewidth": 0,
              "ticks": ""
             }
            },
            "type": "parcoords"
           }
          ],
          "pie": [
           {
            "automargin": true,
            "type": "pie"
           }
          ],
          "scatter": [
           {
            "marker": {
             "colorbar": {
              "outlinewidth": 0,
              "ticks": ""
             }
            },
            "type": "scatter"
           }
          ],
          "scatter3d": [
           {
            "line": {
             "colorbar": {
              "outlinewidth": 0,
              "ticks": ""
             }
            },
            "marker": {
             "colorbar": {
              "outlinewidth": 0,
              "ticks": ""
             }
            },
            "type": "scatter3d"
           }
          ],
          "scattercarpet": [
           {
            "marker": {
             "colorbar": {
              "outlinewidth": 0,
              "ticks": ""
             }
            },
            "type": "scattercarpet"
           }
          ],
          "scattergeo": [
           {
            "marker": {
             "colorbar": {
              "outlinewidth": 0,
              "ticks": ""
             }
            },
            "type": "scattergeo"
           }
          ],
          "scattergl": [
           {
            "marker": {
             "colorbar": {
              "outlinewidth": 0,
              "ticks": ""
             }
            },
            "type": "scattergl"
           }
          ],
          "scattermapbox": [
           {
            "marker": {
             "colorbar": {
              "outlinewidth": 0,
              "ticks": ""
             }
            },
            "type": "scattermapbox"
           }
          ],
          "scatterpolar": [
           {
            "marker": {
             "colorbar": {
              "outlinewidth": 0,
              "ticks": ""
             }
            },
            "type": "scatterpolar"
           }
          ],
          "scatterpolargl": [
           {
            "marker": {
             "colorbar": {
              "outlinewidth": 0,
              "ticks": ""
             }
            },
            "type": "scatterpolargl"
           }
          ],
          "scatterternary": [
           {
            "marker": {
             "colorbar": {
              "outlinewidth": 0,
              "ticks": ""
             }
            },
            "type": "scatterternary"
           }
          ],
          "surface": [
           {
            "colorbar": {
             "outlinewidth": 0,
             "ticks": ""
            },
            "colorscale": [
             [
              0,
              "#0d0887"
             ],
             [
              0.1111111111111111,
              "#46039f"
             ],
             [
              0.2222222222222222,
              "#7201a8"
             ],
             [
              0.3333333333333333,
              "#9c179e"
             ],
             [
              0.4444444444444444,
              "#bd3786"
             ],
             [
              0.5555555555555556,
              "#d8576b"
             ],
             [
              0.6666666666666666,
              "#ed7953"
             ],
             [
              0.7777777777777778,
              "#fb9f3a"
             ],
             [
              0.8888888888888888,
              "#fdca26"
             ],
             [
              1,
              "#f0f921"
             ]
            ],
            "type": "surface"
           }
          ],
          "table": [
           {
            "cells": {
             "fill": {
              "color": "#EBF0F8"
             },
             "line": {
              "color": "white"
             }
            },
            "header": {
             "fill": {
              "color": "#C8D4E3"
             },
             "line": {
              "color": "white"
             }
            },
            "type": "table"
           }
          ]
         },
         "layout": {
          "annotationdefaults": {
           "arrowcolor": "#2a3f5f",
           "arrowhead": 0,
           "arrowwidth": 1
          },
          "coloraxis": {
           "colorbar": {
            "outlinewidth": 0,
            "ticks": ""
           }
          },
          "colorscale": {
           "diverging": [
            [
             0,
             "#8e0152"
            ],
            [
             0.1,
             "#c51b7d"
            ],
            [
             0.2,
             "#de77ae"
            ],
            [
             0.3,
             "#f1b6da"
            ],
            [
             0.4,
             "#fde0ef"
            ],
            [
             0.5,
             "#f7f7f7"
            ],
            [
             0.6,
             "#e6f5d0"
            ],
            [
             0.7,
             "#b8e186"
            ],
            [
             0.8,
             "#7fbc41"
            ],
            [
             0.9,
             "#4d9221"
            ],
            [
             1,
             "#276419"
            ]
           ],
           "sequential": [
            [
             0,
             "#0d0887"
            ],
            [
             0.1111111111111111,
             "#46039f"
            ],
            [
             0.2222222222222222,
             "#7201a8"
            ],
            [
             0.3333333333333333,
             "#9c179e"
            ],
            [
             0.4444444444444444,
             "#bd3786"
            ],
            [
             0.5555555555555556,
             "#d8576b"
            ],
            [
             0.6666666666666666,
             "#ed7953"
            ],
            [
             0.7777777777777778,
             "#fb9f3a"
            ],
            [
             0.8888888888888888,
             "#fdca26"
            ],
            [
             1,
             "#f0f921"
            ]
           ],
           "sequentialminus": [
            [
             0,
             "#0d0887"
            ],
            [
             0.1111111111111111,
             "#46039f"
            ],
            [
             0.2222222222222222,
             "#7201a8"
            ],
            [
             0.3333333333333333,
             "#9c179e"
            ],
            [
             0.4444444444444444,
             "#bd3786"
            ],
            [
             0.5555555555555556,
             "#d8576b"
            ],
            [
             0.6666666666666666,
             "#ed7953"
            ],
            [
             0.7777777777777778,
             "#fb9f3a"
            ],
            [
             0.8888888888888888,
             "#fdca26"
            ],
            [
             1,
             "#f0f921"
            ]
           ]
          },
          "colorway": [
           "#636efa",
           "#EF553B",
           "#00cc96",
           "#ab63fa",
           "#FFA15A",
           "#19d3f3",
           "#FF6692",
           "#B6E880",
           "#FF97FF",
           "#FECB52"
          ],
          "font": {
           "color": "#2a3f5f"
          },
          "geo": {
           "bgcolor": "white",
           "lakecolor": "white",
           "landcolor": "#E5ECF6",
           "showlakes": true,
           "showland": true,
           "subunitcolor": "white"
          },
          "hoverlabel": {
           "align": "left"
          },
          "hovermode": "closest",
          "mapbox": {
           "style": "light"
          },
          "paper_bgcolor": "white",
          "plot_bgcolor": "#E5ECF6",
          "polar": {
           "angularaxis": {
            "gridcolor": "white",
            "linecolor": "white",
            "ticks": ""
           },
           "bgcolor": "#E5ECF6",
           "radialaxis": {
            "gridcolor": "white",
            "linecolor": "white",
            "ticks": ""
           }
          },
          "scene": {
           "xaxis": {
            "backgroundcolor": "#E5ECF6",
            "gridcolor": "white",
            "gridwidth": 2,
            "linecolor": "white",
            "showbackground": true,
            "ticks": "",
            "zerolinecolor": "white"
           },
           "yaxis": {
            "backgroundcolor": "#E5ECF6",
            "gridcolor": "white",
            "gridwidth": 2,
            "linecolor": "white",
            "showbackground": true,
            "ticks": "",
            "zerolinecolor": "white"
           },
           "zaxis": {
            "backgroundcolor": "#E5ECF6",
            "gridcolor": "white",
            "gridwidth": 2,
            "linecolor": "white",
            "showbackground": true,
            "ticks": "",
            "zerolinecolor": "white"
           }
          },
          "shapedefaults": {
           "line": {
            "color": "#2a3f5f"
           }
          },
          "ternary": {
           "aaxis": {
            "gridcolor": "white",
            "linecolor": "white",
            "ticks": ""
           },
           "baxis": {
            "gridcolor": "white",
            "linecolor": "white",
            "ticks": ""
           },
           "bgcolor": "#E5ECF6",
           "caxis": {
            "gridcolor": "white",
            "linecolor": "white",
            "ticks": ""
           }
          },
          "title": {
           "x": 0.05
          },
          "xaxis": {
           "automargin": true,
           "gridcolor": "white",
           "linecolor": "white",
           "ticks": "",
           "title": {
            "standoff": 15
           },
           "zerolinecolor": "white",
           "zerolinewidth": 2
          },
          "yaxis": {
           "automargin": true,
           "gridcolor": "white",
           "linecolor": "white",
           "ticks": "",
           "title": {
            "standoff": 15
           },
           "zerolinecolor": "white",
           "zerolinewidth": 2
          }
         }
        }
       }
      },
      "text/html": [
       "<div>\n",
       "        \n",
       "        \n",
       "            <div id=\"7316f623-ce00-4848-9ca8-f6c5500d1957\" class=\"plotly-graph-div\" style=\"height:525px; width:100%;\"></div>\n",
       "            <script type=\"text/javascript\">\n",
       "                require([\"plotly\"], function(Plotly) {\n",
       "                    window.PLOTLYENV=window.PLOTLYENV || {};\n",
       "                    \n",
       "                if (document.getElementById(\"7316f623-ce00-4848-9ca8-f6c5500d1957\")) {\n",
       "                    Plotly.newPlot(\n",
       "                        '7316f623-ce00-4848-9ca8-f6c5500d1957',\n",
       "                        [{\"type\": \"heatmap\", \"z\": [[1.0, 1.0, 1.0, 1.0, 1.0, 1.0, 0.0, 0.0, 1.0, 1.0], [1.0, 1.0, 1.0, 1.0, 1.0, 1.0, 0.0, 1.0, 1.0, 1.0], [1.0, 1.0, 1.0, 1.0, 1.0, 0.0, 0.0, 1.0, 1.0, 1.0], [1.0, 1.0, 1.0, 1.0, 1.0, 0.0, 0.0, 1.0, 1.0, 1.0], [1.0, 1.0, 1.0, 1.0, 0.0, 1.0, 0.0, 1.0, 1.0, 1.0], [1.0, 1.0, 1.0, 1.0, 0.0, 0.0, 1.0, 1.0, 1.0, 1.0], [1.0, 1.0, 1.0, 1.0, 0.0, 0.0, 1.0, 1.0, 1.0, 1.0], [1.0, 1.0, 1.0, 1.0, 0.0, 1.0, 1.0, 1.0, 1.0, 1.0], [1.0, 1.0, 1.0, 0.0, 0.0, 1.0, 1.0, 1.0, 1.0, 1.0], [1.0, 1.0, 1.0, 0.0, 1.0, 1.0, 1.0, 1.0, 1.0, 1.0]]}],\n",
       "                        {\"template\": {\"data\": {\"bar\": [{\"error_x\": {\"color\": \"#2a3f5f\"}, \"error_y\": {\"color\": \"#2a3f5f\"}, \"marker\": {\"line\": {\"color\": \"#E5ECF6\", \"width\": 0.5}}, \"type\": \"bar\"}], \"barpolar\": [{\"marker\": {\"line\": {\"color\": \"#E5ECF6\", \"width\": 0.5}}, \"type\": \"barpolar\"}], \"carpet\": [{\"aaxis\": {\"endlinecolor\": \"#2a3f5f\", \"gridcolor\": \"white\", \"linecolor\": \"white\", \"minorgridcolor\": \"white\", \"startlinecolor\": \"#2a3f5f\"}, \"baxis\": {\"endlinecolor\": \"#2a3f5f\", \"gridcolor\": \"white\", \"linecolor\": \"white\", \"minorgridcolor\": \"white\", \"startlinecolor\": \"#2a3f5f\"}, \"type\": \"carpet\"}], \"choropleth\": [{\"colorbar\": {\"outlinewidth\": 0, \"ticks\": \"\"}, \"type\": \"choropleth\"}], \"contour\": [{\"colorbar\": {\"outlinewidth\": 0, \"ticks\": \"\"}, \"colorscale\": [[0.0, \"#0d0887\"], [0.1111111111111111, \"#46039f\"], [0.2222222222222222, \"#7201a8\"], [0.3333333333333333, \"#9c179e\"], [0.4444444444444444, \"#bd3786\"], [0.5555555555555556, \"#d8576b\"], [0.6666666666666666, \"#ed7953\"], [0.7777777777777778, \"#fb9f3a\"], [0.8888888888888888, \"#fdca26\"], [1.0, \"#f0f921\"]], \"type\": \"contour\"}], \"contourcarpet\": [{\"colorbar\": {\"outlinewidth\": 0, \"ticks\": \"\"}, \"type\": \"contourcarpet\"}], \"heatmap\": [{\"colorbar\": {\"outlinewidth\": 0, \"ticks\": \"\"}, \"colorscale\": [[0.0, \"#0d0887\"], [0.1111111111111111, \"#46039f\"], [0.2222222222222222, \"#7201a8\"], [0.3333333333333333, \"#9c179e\"], [0.4444444444444444, \"#bd3786\"], [0.5555555555555556, \"#d8576b\"], [0.6666666666666666, \"#ed7953\"], [0.7777777777777778, \"#fb9f3a\"], [0.8888888888888888, \"#fdca26\"], [1.0, \"#f0f921\"]], \"type\": \"heatmap\"}], \"heatmapgl\": [{\"colorbar\": {\"outlinewidth\": 0, \"ticks\": \"\"}, \"colorscale\": [[0.0, \"#0d0887\"], [0.1111111111111111, \"#46039f\"], [0.2222222222222222, \"#7201a8\"], [0.3333333333333333, \"#9c179e\"], [0.4444444444444444, \"#bd3786\"], [0.5555555555555556, \"#d8576b\"], [0.6666666666666666, \"#ed7953\"], [0.7777777777777778, \"#fb9f3a\"], [0.8888888888888888, \"#fdca26\"], [1.0, \"#f0f921\"]], \"type\": \"heatmapgl\"}], \"histogram\": [{\"marker\": {\"colorbar\": {\"outlinewidth\": 0, \"ticks\": \"\"}}, \"type\": \"histogram\"}], \"histogram2d\": [{\"colorbar\": {\"outlinewidth\": 0, \"ticks\": \"\"}, \"colorscale\": [[0.0, \"#0d0887\"], [0.1111111111111111, \"#46039f\"], [0.2222222222222222, \"#7201a8\"], [0.3333333333333333, \"#9c179e\"], [0.4444444444444444, \"#bd3786\"], [0.5555555555555556, \"#d8576b\"], [0.6666666666666666, \"#ed7953\"], [0.7777777777777778, \"#fb9f3a\"], [0.8888888888888888, \"#fdca26\"], [1.0, \"#f0f921\"]], \"type\": \"histogram2d\"}], \"histogram2dcontour\": [{\"colorbar\": {\"outlinewidth\": 0, \"ticks\": \"\"}, \"colorscale\": [[0.0, \"#0d0887\"], [0.1111111111111111, \"#46039f\"], [0.2222222222222222, \"#7201a8\"], [0.3333333333333333, \"#9c179e\"], [0.4444444444444444, \"#bd3786\"], [0.5555555555555556, \"#d8576b\"], [0.6666666666666666, \"#ed7953\"], [0.7777777777777778, \"#fb9f3a\"], [0.8888888888888888, \"#fdca26\"], [1.0, \"#f0f921\"]], \"type\": \"histogram2dcontour\"}], \"mesh3d\": [{\"colorbar\": {\"outlinewidth\": 0, \"ticks\": \"\"}, \"type\": \"mesh3d\"}], \"parcoords\": [{\"line\": {\"colorbar\": {\"outlinewidth\": 0, \"ticks\": \"\"}}, \"type\": \"parcoords\"}], \"pie\": [{\"automargin\": true, \"type\": \"pie\"}], \"scatter\": [{\"marker\": {\"colorbar\": {\"outlinewidth\": 0, \"ticks\": \"\"}}, \"type\": \"scatter\"}], \"scatter3d\": [{\"line\": {\"colorbar\": {\"outlinewidth\": 0, \"ticks\": \"\"}}, \"marker\": {\"colorbar\": {\"outlinewidth\": 0, \"ticks\": \"\"}}, \"type\": \"scatter3d\"}], \"scattercarpet\": [{\"marker\": {\"colorbar\": {\"outlinewidth\": 0, \"ticks\": \"\"}}, \"type\": \"scattercarpet\"}], \"scattergeo\": [{\"marker\": {\"colorbar\": {\"outlinewidth\": 0, \"ticks\": \"\"}}, \"type\": \"scattergeo\"}], \"scattergl\": [{\"marker\": {\"colorbar\": {\"outlinewidth\": 0, \"ticks\": \"\"}}, \"type\": \"scattergl\"}], \"scattermapbox\": [{\"marker\": {\"colorbar\": {\"outlinewidth\": 0, \"ticks\": \"\"}}, \"type\": \"scattermapbox\"}], \"scatterpolar\": [{\"marker\": {\"colorbar\": {\"outlinewidth\": 0, \"ticks\": \"\"}}, \"type\": \"scatterpolar\"}], \"scatterpolargl\": [{\"marker\": {\"colorbar\": {\"outlinewidth\": 0, \"ticks\": \"\"}}, \"type\": \"scatterpolargl\"}], \"scatterternary\": [{\"marker\": {\"colorbar\": {\"outlinewidth\": 0, \"ticks\": \"\"}}, \"type\": \"scatterternary\"}], \"surface\": [{\"colorbar\": {\"outlinewidth\": 0, \"ticks\": \"\"}, \"colorscale\": [[0.0, \"#0d0887\"], [0.1111111111111111, \"#46039f\"], [0.2222222222222222, \"#7201a8\"], [0.3333333333333333, \"#9c179e\"], [0.4444444444444444, \"#bd3786\"], [0.5555555555555556, \"#d8576b\"], [0.6666666666666666, \"#ed7953\"], [0.7777777777777778, \"#fb9f3a\"], [0.8888888888888888, \"#fdca26\"], [1.0, \"#f0f921\"]], \"type\": \"surface\"}], \"table\": [{\"cells\": {\"fill\": {\"color\": \"#EBF0F8\"}, \"line\": {\"color\": \"white\"}}, \"header\": {\"fill\": {\"color\": \"#C8D4E3\"}, \"line\": {\"color\": \"white\"}}, \"type\": \"table\"}]}, \"layout\": {\"annotationdefaults\": {\"arrowcolor\": \"#2a3f5f\", \"arrowhead\": 0, \"arrowwidth\": 1}, \"coloraxis\": {\"colorbar\": {\"outlinewidth\": 0, \"ticks\": \"\"}}, \"colorscale\": {\"diverging\": [[0, \"#8e0152\"], [0.1, \"#c51b7d\"], [0.2, \"#de77ae\"], [0.3, \"#f1b6da\"], [0.4, \"#fde0ef\"], [0.5, \"#f7f7f7\"], [0.6, \"#e6f5d0\"], [0.7, \"#b8e186\"], [0.8, \"#7fbc41\"], [0.9, \"#4d9221\"], [1, \"#276419\"]], \"sequential\": [[0.0, \"#0d0887\"], [0.1111111111111111, \"#46039f\"], [0.2222222222222222, \"#7201a8\"], [0.3333333333333333, \"#9c179e\"], [0.4444444444444444, \"#bd3786\"], [0.5555555555555556, \"#d8576b\"], [0.6666666666666666, \"#ed7953\"], [0.7777777777777778, \"#fb9f3a\"], [0.8888888888888888, \"#fdca26\"], [1.0, \"#f0f921\"]], \"sequentialminus\": [[0.0, \"#0d0887\"], [0.1111111111111111, \"#46039f\"], [0.2222222222222222, \"#7201a8\"], [0.3333333333333333, \"#9c179e\"], [0.4444444444444444, \"#bd3786\"], [0.5555555555555556, \"#d8576b\"], [0.6666666666666666, \"#ed7953\"], [0.7777777777777778, \"#fb9f3a\"], [0.8888888888888888, \"#fdca26\"], [1.0, \"#f0f921\"]]}, \"colorway\": [\"#636efa\", \"#EF553B\", \"#00cc96\", \"#ab63fa\", \"#FFA15A\", \"#19d3f3\", \"#FF6692\", \"#B6E880\", \"#FF97FF\", \"#FECB52\"], \"font\": {\"color\": \"#2a3f5f\"}, \"geo\": {\"bgcolor\": \"white\", \"lakecolor\": \"white\", \"landcolor\": \"#E5ECF6\", \"showlakes\": true, \"showland\": true, \"subunitcolor\": \"white\"}, \"hoverlabel\": {\"align\": \"left\"}, \"hovermode\": \"closest\", \"mapbox\": {\"style\": \"light\"}, \"paper_bgcolor\": \"white\", \"plot_bgcolor\": \"#E5ECF6\", \"polar\": {\"angularaxis\": {\"gridcolor\": \"white\", \"linecolor\": \"white\", \"ticks\": \"\"}, \"bgcolor\": \"#E5ECF6\", \"radialaxis\": {\"gridcolor\": \"white\", \"linecolor\": \"white\", \"ticks\": \"\"}}, \"scene\": {\"xaxis\": {\"backgroundcolor\": \"#E5ECF6\", \"gridcolor\": \"white\", \"gridwidth\": 2, \"linecolor\": \"white\", \"showbackground\": true, \"ticks\": \"\", \"zerolinecolor\": \"white\"}, \"yaxis\": {\"backgroundcolor\": \"#E5ECF6\", \"gridcolor\": \"white\", \"gridwidth\": 2, \"linecolor\": \"white\", \"showbackground\": true, \"ticks\": \"\", \"zerolinecolor\": \"white\"}, \"zaxis\": {\"backgroundcolor\": \"#E5ECF6\", \"gridcolor\": \"white\", \"gridwidth\": 2, \"linecolor\": \"white\", \"showbackground\": true, \"ticks\": \"\", \"zerolinecolor\": \"white\"}}, \"shapedefaults\": {\"line\": {\"color\": \"#2a3f5f\"}}, \"ternary\": {\"aaxis\": {\"gridcolor\": \"white\", \"linecolor\": \"white\", \"ticks\": \"\"}, \"baxis\": {\"gridcolor\": \"white\", \"linecolor\": \"white\", \"ticks\": \"\"}, \"bgcolor\": \"#E5ECF6\", \"caxis\": {\"gridcolor\": \"white\", \"linecolor\": \"white\", \"ticks\": \"\"}}, \"title\": {\"x\": 0.05}, \"xaxis\": {\"automargin\": true, \"gridcolor\": \"white\", \"linecolor\": \"white\", \"ticks\": \"\", \"title\": {\"standoff\": 15}, \"zerolinecolor\": \"white\", \"zerolinewidth\": 2}, \"yaxis\": {\"automargin\": true, \"gridcolor\": \"white\", \"linecolor\": \"white\", \"ticks\": \"\", \"title\": {\"standoff\": 15}, \"zerolinecolor\": \"white\", \"zerolinewidth\": 2}}}},\n",
       "                        {\"responsive\": true}\n",
       "                    ).then(function(){\n",
       "                            \n",
       "var gd = document.getElementById('7316f623-ce00-4848-9ca8-f6c5500d1957');\n",
       "var x = new MutationObserver(function (mutations, observer) {{\n",
       "        var display = window.getComputedStyle(gd).display;\n",
       "        if (!display || display === 'none') {{\n",
       "            console.log([gd, 'removed!']);\n",
       "            Plotly.purge(gd);\n",
       "            observer.disconnect();\n",
       "        }}\n",
       "}});\n",
       "\n",
       "// Listen for the removal of the full notebook cells\n",
       "var notebookContainer = gd.closest('#notebook-container');\n",
       "if (notebookContainer) {{\n",
       "    x.observe(notebookContainer, {childList: true});\n",
       "}}\n",
       "\n",
       "// Listen for the clearing of the current output cell\n",
       "var outputEl = gd.closest('.output');\n",
       "if (outputEl) {{\n",
       "    x.observe(outputEl, {childList: true});\n",
       "}}\n",
       "\n",
       "                        })\n",
       "                };\n",
       "                });\n",
       "            </script>\n",
       "        </div>"
      ]
     },
     "metadata": {},
     "output_type": "display_data"
    },
    {
     "name": "stdout",
     "output_type": "stream",
     "text": [
      "LQR\n"
     ]
    },
    {
     "data": {
      "application/vnd.plotly.v1+json": {
       "config": {
        "plotlyServerURL": "https://plot.ly"
       },
       "data": [
        {
         "type": "heatmap",
         "z": [
          [
           1,
           1,
           1,
           0,
           0,
           0,
           0,
           0,
           0,
           1
          ],
          [
           1,
           1,
           1,
           0,
           0,
           0,
           0,
           0,
           0,
           1
          ],
          [
           1,
           1,
           1,
           0,
           0,
           0,
           0,
           0,
           1,
           1
          ],
          [
           1,
           1,
           1,
           0,
           0,
           0,
           0,
           0,
           1,
           1
          ],
          [
           1,
           1,
           1,
           0,
           0,
           0,
           0,
           0,
           1,
           1
          ],
          [
           1,
           1,
           0,
           0,
           0,
           0,
           0,
           1,
           1,
           1
          ],
          [
           1,
           1,
           0,
           0,
           0,
           0,
           0,
           1,
           1,
           1
          ],
          [
           1,
           1,
           0,
           0,
           0,
           0,
           0,
           1,
           1,
           1
          ],
          [
           1,
           0,
           0,
           0,
           0,
           0,
           0,
           1,
           1,
           1
          ],
          [
           1,
           0,
           0,
           0,
           0,
           0,
           0,
           1,
           1,
           1
          ]
         ]
        }
       ],
       "layout": {
        "template": {
         "data": {
          "bar": [
           {
            "error_x": {
             "color": "#2a3f5f"
            },
            "error_y": {
             "color": "#2a3f5f"
            },
            "marker": {
             "line": {
              "color": "#E5ECF6",
              "width": 0.5
             }
            },
            "type": "bar"
           }
          ],
          "barpolar": [
           {
            "marker": {
             "line": {
              "color": "#E5ECF6",
              "width": 0.5
             }
            },
            "type": "barpolar"
           }
          ],
          "carpet": [
           {
            "aaxis": {
             "endlinecolor": "#2a3f5f",
             "gridcolor": "white",
             "linecolor": "white",
             "minorgridcolor": "white",
             "startlinecolor": "#2a3f5f"
            },
            "baxis": {
             "endlinecolor": "#2a3f5f",
             "gridcolor": "white",
             "linecolor": "white",
             "minorgridcolor": "white",
             "startlinecolor": "#2a3f5f"
            },
            "type": "carpet"
           }
          ],
          "choropleth": [
           {
            "colorbar": {
             "outlinewidth": 0,
             "ticks": ""
            },
            "type": "choropleth"
           }
          ],
          "contour": [
           {
            "colorbar": {
             "outlinewidth": 0,
             "ticks": ""
            },
            "colorscale": [
             [
              0,
              "#0d0887"
             ],
             [
              0.1111111111111111,
              "#46039f"
             ],
             [
              0.2222222222222222,
              "#7201a8"
             ],
             [
              0.3333333333333333,
              "#9c179e"
             ],
             [
              0.4444444444444444,
              "#bd3786"
             ],
             [
              0.5555555555555556,
              "#d8576b"
             ],
             [
              0.6666666666666666,
              "#ed7953"
             ],
             [
              0.7777777777777778,
              "#fb9f3a"
             ],
             [
              0.8888888888888888,
              "#fdca26"
             ],
             [
              1,
              "#f0f921"
             ]
            ],
            "type": "contour"
           }
          ],
          "contourcarpet": [
           {
            "colorbar": {
             "outlinewidth": 0,
             "ticks": ""
            },
            "type": "contourcarpet"
           }
          ],
          "heatmap": [
           {
            "colorbar": {
             "outlinewidth": 0,
             "ticks": ""
            },
            "colorscale": [
             [
              0,
              "#0d0887"
             ],
             [
              0.1111111111111111,
              "#46039f"
             ],
             [
              0.2222222222222222,
              "#7201a8"
             ],
             [
              0.3333333333333333,
              "#9c179e"
             ],
             [
              0.4444444444444444,
              "#bd3786"
             ],
             [
              0.5555555555555556,
              "#d8576b"
             ],
             [
              0.6666666666666666,
              "#ed7953"
             ],
             [
              0.7777777777777778,
              "#fb9f3a"
             ],
             [
              0.8888888888888888,
              "#fdca26"
             ],
             [
              1,
              "#f0f921"
             ]
            ],
            "type": "heatmap"
           }
          ],
          "heatmapgl": [
           {
            "colorbar": {
             "outlinewidth": 0,
             "ticks": ""
            },
            "colorscale": [
             [
              0,
              "#0d0887"
             ],
             [
              0.1111111111111111,
              "#46039f"
             ],
             [
              0.2222222222222222,
              "#7201a8"
             ],
             [
              0.3333333333333333,
              "#9c179e"
             ],
             [
              0.4444444444444444,
              "#bd3786"
             ],
             [
              0.5555555555555556,
              "#d8576b"
             ],
             [
              0.6666666666666666,
              "#ed7953"
             ],
             [
              0.7777777777777778,
              "#fb9f3a"
             ],
             [
              0.8888888888888888,
              "#fdca26"
             ],
             [
              1,
              "#f0f921"
             ]
            ],
            "type": "heatmapgl"
           }
          ],
          "histogram": [
           {
            "marker": {
             "colorbar": {
              "outlinewidth": 0,
              "ticks": ""
             }
            },
            "type": "histogram"
           }
          ],
          "histogram2d": [
           {
            "colorbar": {
             "outlinewidth": 0,
             "ticks": ""
            },
            "colorscale": [
             [
              0,
              "#0d0887"
             ],
             [
              0.1111111111111111,
              "#46039f"
             ],
             [
              0.2222222222222222,
              "#7201a8"
             ],
             [
              0.3333333333333333,
              "#9c179e"
             ],
             [
              0.4444444444444444,
              "#bd3786"
             ],
             [
              0.5555555555555556,
              "#d8576b"
             ],
             [
              0.6666666666666666,
              "#ed7953"
             ],
             [
              0.7777777777777778,
              "#fb9f3a"
             ],
             [
              0.8888888888888888,
              "#fdca26"
             ],
             [
              1,
              "#f0f921"
             ]
            ],
            "type": "histogram2d"
           }
          ],
          "histogram2dcontour": [
           {
            "colorbar": {
             "outlinewidth": 0,
             "ticks": ""
            },
            "colorscale": [
             [
              0,
              "#0d0887"
             ],
             [
              0.1111111111111111,
              "#46039f"
             ],
             [
              0.2222222222222222,
              "#7201a8"
             ],
             [
              0.3333333333333333,
              "#9c179e"
             ],
             [
              0.4444444444444444,
              "#bd3786"
             ],
             [
              0.5555555555555556,
              "#d8576b"
             ],
             [
              0.6666666666666666,
              "#ed7953"
             ],
             [
              0.7777777777777778,
              "#fb9f3a"
             ],
             [
              0.8888888888888888,
              "#fdca26"
             ],
             [
              1,
              "#f0f921"
             ]
            ],
            "type": "histogram2dcontour"
           }
          ],
          "mesh3d": [
           {
            "colorbar": {
             "outlinewidth": 0,
             "ticks": ""
            },
            "type": "mesh3d"
           }
          ],
          "parcoords": [
           {
            "line": {
             "colorbar": {
              "outlinewidth": 0,
              "ticks": ""
             }
            },
            "type": "parcoords"
           }
          ],
          "pie": [
           {
            "automargin": true,
            "type": "pie"
           }
          ],
          "scatter": [
           {
            "marker": {
             "colorbar": {
              "outlinewidth": 0,
              "ticks": ""
             }
            },
            "type": "scatter"
           }
          ],
          "scatter3d": [
           {
            "line": {
             "colorbar": {
              "outlinewidth": 0,
              "ticks": ""
             }
            },
            "marker": {
             "colorbar": {
              "outlinewidth": 0,
              "ticks": ""
             }
            },
            "type": "scatter3d"
           }
          ],
          "scattercarpet": [
           {
            "marker": {
             "colorbar": {
              "outlinewidth": 0,
              "ticks": ""
             }
            },
            "type": "scattercarpet"
           }
          ],
          "scattergeo": [
           {
            "marker": {
             "colorbar": {
              "outlinewidth": 0,
              "ticks": ""
             }
            },
            "type": "scattergeo"
           }
          ],
          "scattergl": [
           {
            "marker": {
             "colorbar": {
              "outlinewidth": 0,
              "ticks": ""
             }
            },
            "type": "scattergl"
           }
          ],
          "scattermapbox": [
           {
            "marker": {
             "colorbar": {
              "outlinewidth": 0,
              "ticks": ""
             }
            },
            "type": "scattermapbox"
           }
          ],
          "scatterpolar": [
           {
            "marker": {
             "colorbar": {
              "outlinewidth": 0,
              "ticks": ""
             }
            },
            "type": "scatterpolar"
           }
          ],
          "scatterpolargl": [
           {
            "marker": {
             "colorbar": {
              "outlinewidth": 0,
              "ticks": ""
             }
            },
            "type": "scatterpolargl"
           }
          ],
          "scatterternary": [
           {
            "marker": {
             "colorbar": {
              "outlinewidth": 0,
              "ticks": ""
             }
            },
            "type": "scatterternary"
           }
          ],
          "surface": [
           {
            "colorbar": {
             "outlinewidth": 0,
             "ticks": ""
            },
            "colorscale": [
             [
              0,
              "#0d0887"
             ],
             [
              0.1111111111111111,
              "#46039f"
             ],
             [
              0.2222222222222222,
              "#7201a8"
             ],
             [
              0.3333333333333333,
              "#9c179e"
             ],
             [
              0.4444444444444444,
              "#bd3786"
             ],
             [
              0.5555555555555556,
              "#d8576b"
             ],
             [
              0.6666666666666666,
              "#ed7953"
             ],
             [
              0.7777777777777778,
              "#fb9f3a"
             ],
             [
              0.8888888888888888,
              "#fdca26"
             ],
             [
              1,
              "#f0f921"
             ]
            ],
            "type": "surface"
           }
          ],
          "table": [
           {
            "cells": {
             "fill": {
              "color": "#EBF0F8"
             },
             "line": {
              "color": "white"
             }
            },
            "header": {
             "fill": {
              "color": "#C8D4E3"
             },
             "line": {
              "color": "white"
             }
            },
            "type": "table"
           }
          ]
         },
         "layout": {
          "annotationdefaults": {
           "arrowcolor": "#2a3f5f",
           "arrowhead": 0,
           "arrowwidth": 1
          },
          "coloraxis": {
           "colorbar": {
            "outlinewidth": 0,
            "ticks": ""
           }
          },
          "colorscale": {
           "diverging": [
            [
             0,
             "#8e0152"
            ],
            [
             0.1,
             "#c51b7d"
            ],
            [
             0.2,
             "#de77ae"
            ],
            [
             0.3,
             "#f1b6da"
            ],
            [
             0.4,
             "#fde0ef"
            ],
            [
             0.5,
             "#f7f7f7"
            ],
            [
             0.6,
             "#e6f5d0"
            ],
            [
             0.7,
             "#b8e186"
            ],
            [
             0.8,
             "#7fbc41"
            ],
            [
             0.9,
             "#4d9221"
            ],
            [
             1,
             "#276419"
            ]
           ],
           "sequential": [
            [
             0,
             "#0d0887"
            ],
            [
             0.1111111111111111,
             "#46039f"
            ],
            [
             0.2222222222222222,
             "#7201a8"
            ],
            [
             0.3333333333333333,
             "#9c179e"
            ],
            [
             0.4444444444444444,
             "#bd3786"
            ],
            [
             0.5555555555555556,
             "#d8576b"
            ],
            [
             0.6666666666666666,
             "#ed7953"
            ],
            [
             0.7777777777777778,
             "#fb9f3a"
            ],
            [
             0.8888888888888888,
             "#fdca26"
            ],
            [
             1,
             "#f0f921"
            ]
           ],
           "sequentialminus": [
            [
             0,
             "#0d0887"
            ],
            [
             0.1111111111111111,
             "#46039f"
            ],
            [
             0.2222222222222222,
             "#7201a8"
            ],
            [
             0.3333333333333333,
             "#9c179e"
            ],
            [
             0.4444444444444444,
             "#bd3786"
            ],
            [
             0.5555555555555556,
             "#d8576b"
            ],
            [
             0.6666666666666666,
             "#ed7953"
            ],
            [
             0.7777777777777778,
             "#fb9f3a"
            ],
            [
             0.8888888888888888,
             "#fdca26"
            ],
            [
             1,
             "#f0f921"
            ]
           ]
          },
          "colorway": [
           "#636efa",
           "#EF553B",
           "#00cc96",
           "#ab63fa",
           "#FFA15A",
           "#19d3f3",
           "#FF6692",
           "#B6E880",
           "#FF97FF",
           "#FECB52"
          ],
          "font": {
           "color": "#2a3f5f"
          },
          "geo": {
           "bgcolor": "white",
           "lakecolor": "white",
           "landcolor": "#E5ECF6",
           "showlakes": true,
           "showland": true,
           "subunitcolor": "white"
          },
          "hoverlabel": {
           "align": "left"
          },
          "hovermode": "closest",
          "mapbox": {
           "style": "light"
          },
          "paper_bgcolor": "white",
          "plot_bgcolor": "#E5ECF6",
          "polar": {
           "angularaxis": {
            "gridcolor": "white",
            "linecolor": "white",
            "ticks": ""
           },
           "bgcolor": "#E5ECF6",
           "radialaxis": {
            "gridcolor": "white",
            "linecolor": "white",
            "ticks": ""
           }
          },
          "scene": {
           "xaxis": {
            "backgroundcolor": "#E5ECF6",
            "gridcolor": "white",
            "gridwidth": 2,
            "linecolor": "white",
            "showbackground": true,
            "ticks": "",
            "zerolinecolor": "white"
           },
           "yaxis": {
            "backgroundcolor": "#E5ECF6",
            "gridcolor": "white",
            "gridwidth": 2,
            "linecolor": "white",
            "showbackground": true,
            "ticks": "",
            "zerolinecolor": "white"
           },
           "zaxis": {
            "backgroundcolor": "#E5ECF6",
            "gridcolor": "white",
            "gridwidth": 2,
            "linecolor": "white",
            "showbackground": true,
            "ticks": "",
            "zerolinecolor": "white"
           }
          },
          "shapedefaults": {
           "line": {
            "color": "#2a3f5f"
           }
          },
          "ternary": {
           "aaxis": {
            "gridcolor": "white",
            "linecolor": "white",
            "ticks": ""
           },
           "baxis": {
            "gridcolor": "white",
            "linecolor": "white",
            "ticks": ""
           },
           "bgcolor": "#E5ECF6",
           "caxis": {
            "gridcolor": "white",
            "linecolor": "white",
            "ticks": ""
           }
          },
          "title": {
           "x": 0.05
          },
          "xaxis": {
           "automargin": true,
           "gridcolor": "white",
           "linecolor": "white",
           "ticks": "",
           "title": {
            "standoff": 15
           },
           "zerolinecolor": "white",
           "zerolinewidth": 2
          },
          "yaxis": {
           "automargin": true,
           "gridcolor": "white",
           "linecolor": "white",
           "ticks": "",
           "title": {
            "standoff": 15
           },
           "zerolinecolor": "white",
           "zerolinewidth": 2
          }
         }
        }
       }
      },
      "text/html": [
       "<div>\n",
       "        \n",
       "        \n",
       "            <div id=\"3d139b37-f90d-4214-88c9-9f08ec04c3c3\" class=\"plotly-graph-div\" style=\"height:525px; width:100%;\"></div>\n",
       "            <script type=\"text/javascript\">\n",
       "                require([\"plotly\"], function(Plotly) {\n",
       "                    window.PLOTLYENV=window.PLOTLYENV || {};\n",
       "                    \n",
       "                if (document.getElementById(\"3d139b37-f90d-4214-88c9-9f08ec04c3c3\")) {\n",
       "                    Plotly.newPlot(\n",
       "                        '3d139b37-f90d-4214-88c9-9f08ec04c3c3',\n",
       "                        [{\"type\": \"heatmap\", \"z\": [[1.0, 1.0, 1.0, 0.0, 0.0, 0.0, 0.0, 0.0, 0.0, 1.0], [1.0, 1.0, 1.0, 0.0, 0.0, 0.0, 0.0, 0.0, 0.0, 1.0], [1.0, 1.0, 1.0, 0.0, 0.0, 0.0, 0.0, 0.0, 1.0, 1.0], [1.0, 1.0, 1.0, 0.0, 0.0, 0.0, 0.0, 0.0, 1.0, 1.0], [1.0, 1.0, 1.0, 0.0, 0.0, 0.0, 0.0, 0.0, 1.0, 1.0], [1.0, 1.0, 0.0, 0.0, 0.0, 0.0, 0.0, 1.0, 1.0, 1.0], [1.0, 1.0, 0.0, 0.0, 0.0, 0.0, 0.0, 1.0, 1.0, 1.0], [1.0, 1.0, 0.0, 0.0, 0.0, 0.0, 0.0, 1.0, 1.0, 1.0], [1.0, 0.0, 0.0, 0.0, 0.0, 0.0, 0.0, 1.0, 1.0, 1.0], [1.0, 0.0, 0.0, 0.0, 0.0, 0.0, 0.0, 1.0, 1.0, 1.0]]}],\n",
       "                        {\"template\": {\"data\": {\"bar\": [{\"error_x\": {\"color\": \"#2a3f5f\"}, \"error_y\": {\"color\": \"#2a3f5f\"}, \"marker\": {\"line\": {\"color\": \"#E5ECF6\", \"width\": 0.5}}, \"type\": \"bar\"}], \"barpolar\": [{\"marker\": {\"line\": {\"color\": \"#E5ECF6\", \"width\": 0.5}}, \"type\": \"barpolar\"}], \"carpet\": [{\"aaxis\": {\"endlinecolor\": \"#2a3f5f\", \"gridcolor\": \"white\", \"linecolor\": \"white\", \"minorgridcolor\": \"white\", \"startlinecolor\": \"#2a3f5f\"}, \"baxis\": {\"endlinecolor\": \"#2a3f5f\", \"gridcolor\": \"white\", \"linecolor\": \"white\", \"minorgridcolor\": \"white\", \"startlinecolor\": \"#2a3f5f\"}, \"type\": \"carpet\"}], \"choropleth\": [{\"colorbar\": {\"outlinewidth\": 0, \"ticks\": \"\"}, \"type\": \"choropleth\"}], \"contour\": [{\"colorbar\": {\"outlinewidth\": 0, \"ticks\": \"\"}, \"colorscale\": [[0.0, \"#0d0887\"], [0.1111111111111111, \"#46039f\"], [0.2222222222222222, \"#7201a8\"], [0.3333333333333333, \"#9c179e\"], [0.4444444444444444, \"#bd3786\"], [0.5555555555555556, \"#d8576b\"], [0.6666666666666666, \"#ed7953\"], [0.7777777777777778, \"#fb9f3a\"], [0.8888888888888888, \"#fdca26\"], [1.0, \"#f0f921\"]], \"type\": \"contour\"}], \"contourcarpet\": [{\"colorbar\": {\"outlinewidth\": 0, \"ticks\": \"\"}, \"type\": \"contourcarpet\"}], \"heatmap\": [{\"colorbar\": {\"outlinewidth\": 0, \"ticks\": \"\"}, \"colorscale\": [[0.0, \"#0d0887\"], [0.1111111111111111, \"#46039f\"], [0.2222222222222222, \"#7201a8\"], [0.3333333333333333, \"#9c179e\"], [0.4444444444444444, \"#bd3786\"], [0.5555555555555556, \"#d8576b\"], [0.6666666666666666, \"#ed7953\"], [0.7777777777777778, \"#fb9f3a\"], [0.8888888888888888, \"#fdca26\"], [1.0, \"#f0f921\"]], \"type\": \"heatmap\"}], \"heatmapgl\": [{\"colorbar\": {\"outlinewidth\": 0, \"ticks\": \"\"}, \"colorscale\": [[0.0, \"#0d0887\"], [0.1111111111111111, \"#46039f\"], [0.2222222222222222, \"#7201a8\"], [0.3333333333333333, \"#9c179e\"], [0.4444444444444444, \"#bd3786\"], [0.5555555555555556, \"#d8576b\"], [0.6666666666666666, \"#ed7953\"], [0.7777777777777778, \"#fb9f3a\"], [0.8888888888888888, \"#fdca26\"], [1.0, \"#f0f921\"]], \"type\": \"heatmapgl\"}], \"histogram\": [{\"marker\": {\"colorbar\": {\"outlinewidth\": 0, \"ticks\": \"\"}}, \"type\": \"histogram\"}], \"histogram2d\": [{\"colorbar\": {\"outlinewidth\": 0, \"ticks\": \"\"}, \"colorscale\": [[0.0, \"#0d0887\"], [0.1111111111111111, \"#46039f\"], [0.2222222222222222, \"#7201a8\"], [0.3333333333333333, \"#9c179e\"], [0.4444444444444444, \"#bd3786\"], [0.5555555555555556, \"#d8576b\"], [0.6666666666666666, \"#ed7953\"], [0.7777777777777778, \"#fb9f3a\"], [0.8888888888888888, \"#fdca26\"], [1.0, \"#f0f921\"]], \"type\": \"histogram2d\"}], \"histogram2dcontour\": [{\"colorbar\": {\"outlinewidth\": 0, \"ticks\": \"\"}, \"colorscale\": [[0.0, \"#0d0887\"], [0.1111111111111111, \"#46039f\"], [0.2222222222222222, \"#7201a8\"], [0.3333333333333333, \"#9c179e\"], [0.4444444444444444, \"#bd3786\"], [0.5555555555555556, \"#d8576b\"], [0.6666666666666666, \"#ed7953\"], [0.7777777777777778, \"#fb9f3a\"], [0.8888888888888888, \"#fdca26\"], [1.0, \"#f0f921\"]], \"type\": \"histogram2dcontour\"}], \"mesh3d\": [{\"colorbar\": {\"outlinewidth\": 0, \"ticks\": \"\"}, \"type\": \"mesh3d\"}], \"parcoords\": [{\"line\": {\"colorbar\": {\"outlinewidth\": 0, \"ticks\": \"\"}}, \"type\": \"parcoords\"}], \"pie\": [{\"automargin\": true, \"type\": \"pie\"}], \"scatter\": [{\"marker\": {\"colorbar\": {\"outlinewidth\": 0, \"ticks\": \"\"}}, \"type\": \"scatter\"}], \"scatter3d\": [{\"line\": {\"colorbar\": {\"outlinewidth\": 0, \"ticks\": \"\"}}, \"marker\": {\"colorbar\": {\"outlinewidth\": 0, \"ticks\": \"\"}}, \"type\": \"scatter3d\"}], \"scattercarpet\": [{\"marker\": {\"colorbar\": {\"outlinewidth\": 0, \"ticks\": \"\"}}, \"type\": \"scattercarpet\"}], \"scattergeo\": [{\"marker\": {\"colorbar\": {\"outlinewidth\": 0, \"ticks\": \"\"}}, \"type\": \"scattergeo\"}], \"scattergl\": [{\"marker\": {\"colorbar\": {\"outlinewidth\": 0, \"ticks\": \"\"}}, \"type\": \"scattergl\"}], \"scattermapbox\": [{\"marker\": {\"colorbar\": {\"outlinewidth\": 0, \"ticks\": \"\"}}, \"type\": \"scattermapbox\"}], \"scatterpolar\": [{\"marker\": {\"colorbar\": {\"outlinewidth\": 0, \"ticks\": \"\"}}, \"type\": \"scatterpolar\"}], \"scatterpolargl\": [{\"marker\": {\"colorbar\": {\"outlinewidth\": 0, \"ticks\": \"\"}}, \"type\": \"scatterpolargl\"}], \"scatterternary\": [{\"marker\": {\"colorbar\": {\"outlinewidth\": 0, \"ticks\": \"\"}}, \"type\": \"scatterternary\"}], \"surface\": [{\"colorbar\": {\"outlinewidth\": 0, \"ticks\": \"\"}, \"colorscale\": [[0.0, \"#0d0887\"], [0.1111111111111111, \"#46039f\"], [0.2222222222222222, \"#7201a8\"], [0.3333333333333333, \"#9c179e\"], [0.4444444444444444, \"#bd3786\"], [0.5555555555555556, \"#d8576b\"], [0.6666666666666666, \"#ed7953\"], [0.7777777777777778, \"#fb9f3a\"], [0.8888888888888888, \"#fdca26\"], [1.0, \"#f0f921\"]], \"type\": \"surface\"}], \"table\": [{\"cells\": {\"fill\": {\"color\": \"#EBF0F8\"}, \"line\": {\"color\": \"white\"}}, \"header\": {\"fill\": {\"color\": \"#C8D4E3\"}, \"line\": {\"color\": \"white\"}}, \"type\": \"table\"}]}, \"layout\": {\"annotationdefaults\": {\"arrowcolor\": \"#2a3f5f\", \"arrowhead\": 0, \"arrowwidth\": 1}, \"coloraxis\": {\"colorbar\": {\"outlinewidth\": 0, \"ticks\": \"\"}}, \"colorscale\": {\"diverging\": [[0, \"#8e0152\"], [0.1, \"#c51b7d\"], [0.2, \"#de77ae\"], [0.3, \"#f1b6da\"], [0.4, \"#fde0ef\"], [0.5, \"#f7f7f7\"], [0.6, \"#e6f5d0\"], [0.7, \"#b8e186\"], [0.8, \"#7fbc41\"], [0.9, \"#4d9221\"], [1, \"#276419\"]], \"sequential\": [[0.0, \"#0d0887\"], [0.1111111111111111, \"#46039f\"], [0.2222222222222222, \"#7201a8\"], [0.3333333333333333, \"#9c179e\"], [0.4444444444444444, \"#bd3786\"], [0.5555555555555556, \"#d8576b\"], [0.6666666666666666, \"#ed7953\"], [0.7777777777777778, \"#fb9f3a\"], [0.8888888888888888, \"#fdca26\"], [1.0, \"#f0f921\"]], \"sequentialminus\": [[0.0, \"#0d0887\"], [0.1111111111111111, \"#46039f\"], [0.2222222222222222, \"#7201a8\"], [0.3333333333333333, \"#9c179e\"], [0.4444444444444444, \"#bd3786\"], [0.5555555555555556, \"#d8576b\"], [0.6666666666666666, \"#ed7953\"], [0.7777777777777778, \"#fb9f3a\"], [0.8888888888888888, \"#fdca26\"], [1.0, \"#f0f921\"]]}, \"colorway\": [\"#636efa\", \"#EF553B\", \"#00cc96\", \"#ab63fa\", \"#FFA15A\", \"#19d3f3\", \"#FF6692\", \"#B6E880\", \"#FF97FF\", \"#FECB52\"], \"font\": {\"color\": \"#2a3f5f\"}, \"geo\": {\"bgcolor\": \"white\", \"lakecolor\": \"white\", \"landcolor\": \"#E5ECF6\", \"showlakes\": true, \"showland\": true, \"subunitcolor\": \"white\"}, \"hoverlabel\": {\"align\": \"left\"}, \"hovermode\": \"closest\", \"mapbox\": {\"style\": \"light\"}, \"paper_bgcolor\": \"white\", \"plot_bgcolor\": \"#E5ECF6\", \"polar\": {\"angularaxis\": {\"gridcolor\": \"white\", \"linecolor\": \"white\", \"ticks\": \"\"}, \"bgcolor\": \"#E5ECF6\", \"radialaxis\": {\"gridcolor\": \"white\", \"linecolor\": \"white\", \"ticks\": \"\"}}, \"scene\": {\"xaxis\": {\"backgroundcolor\": \"#E5ECF6\", \"gridcolor\": \"white\", \"gridwidth\": 2, \"linecolor\": \"white\", \"showbackground\": true, \"ticks\": \"\", \"zerolinecolor\": \"white\"}, \"yaxis\": {\"backgroundcolor\": \"#E5ECF6\", \"gridcolor\": \"white\", \"gridwidth\": 2, \"linecolor\": \"white\", \"showbackground\": true, \"ticks\": \"\", \"zerolinecolor\": \"white\"}, \"zaxis\": {\"backgroundcolor\": \"#E5ECF6\", \"gridcolor\": \"white\", \"gridwidth\": 2, \"linecolor\": \"white\", \"showbackground\": true, \"ticks\": \"\", \"zerolinecolor\": \"white\"}}, \"shapedefaults\": {\"line\": {\"color\": \"#2a3f5f\"}}, \"ternary\": {\"aaxis\": {\"gridcolor\": \"white\", \"linecolor\": \"white\", \"ticks\": \"\"}, \"baxis\": {\"gridcolor\": \"white\", \"linecolor\": \"white\", \"ticks\": \"\"}, \"bgcolor\": \"#E5ECF6\", \"caxis\": {\"gridcolor\": \"white\", \"linecolor\": \"white\", \"ticks\": \"\"}}, \"title\": {\"x\": 0.05}, \"xaxis\": {\"automargin\": true, \"gridcolor\": \"white\", \"linecolor\": \"white\", \"ticks\": \"\", \"title\": {\"standoff\": 15}, \"zerolinecolor\": \"white\", \"zerolinewidth\": 2}, \"yaxis\": {\"automargin\": true, \"gridcolor\": \"white\", \"linecolor\": \"white\", \"ticks\": \"\", \"title\": {\"standoff\": 15}, \"zerolinecolor\": \"white\", \"zerolinewidth\": 2}}}},\n",
       "                        {\"responsive\": true}\n",
       "                    ).then(function(){\n",
       "                            \n",
       "var gd = document.getElementById('3d139b37-f90d-4214-88c9-9f08ec04c3c3');\n",
       "var x = new MutationObserver(function (mutations, observer) {{\n",
       "        var display = window.getComputedStyle(gd).display;\n",
       "        if (!display || display === 'none') {{\n",
       "            console.log([gd, 'removed!']);\n",
       "            Plotly.purge(gd);\n",
       "            observer.disconnect();\n",
       "        }}\n",
       "}});\n",
       "\n",
       "// Listen for the removal of the full notebook cells\n",
       "var notebookContainer = gd.closest('#notebook-container');\n",
       "if (notebookContainer) {{\n",
       "    x.observe(notebookContainer, {childList: true});\n",
       "}}\n",
       "\n",
       "// Listen for the clearing of the current output cell\n",
       "var outputEl = gd.closest('.output');\n",
       "if (outputEl) {{\n",
       "    x.observe(outputEl, {childList: true});\n",
       "}}\n",
       "\n",
       "                        })\n",
       "                };\n",
       "                });\n",
       "            </script>\n",
       "        </div>"
      ]
     },
     "metadata": {},
     "output_type": "display_data"
    }
   ],
   "source": [
    "conv_thresh = .8\n",
    "zmin = 0.\n",
    "zmax = 3.\n",
    "\n",
    "baseline_plot = True\n",
    "adversarial_plot = True\n",
    "lqr_plot = True\n",
    "\n",
    "if baseline_plot:\n",
    "    print(\"Baseline\")\n",
    "    fig = go.Figure()\n",
    "    fig.add_trace(go.Heatmap(\n",
    "        z = bench_baseline.detach().numpy(),\n",
    "        zmin = zmin,\n",
    "        zmax = zmax,\n",
    "        ))\n",
    "    fig.show()\n",
    "\n",
    "if adversarial_plot:\n",
    "    print(\"Adversarial\")\n",
    "    fig = go.Figure()\n",
    "    fig.add_trace(go.Heatmap(\n",
    "        z = bench_adv.detach().numpy(),\n",
    "        zmin = zmin,\n",
    "        zmax = zmax,\n",
    "        ))\n",
    "    fig.show()\n",
    "\n",
    "if lqr_plot:\n",
    "    print(\"LQR\")\n",
    "    fig = go.Figure()\n",
    "    fig.add_trace(go.Heatmap(\n",
    "        z = bench_lqr.detach().numpy(),\n",
    "        zmin = zmin,\n",
    "        zmax = zmax,\n",
    "        ))\n",
    "    fig.show()\n",
    "\n",
    "if baseline_plot:\n",
    "    print(\"Baseline\")\n",
    "    fig = go.Figure()\n",
    "    fig.add_trace(go.Heatmap(\n",
    "        z = torch.Tensor(bench_baseline.detach().numpy() > conv_thresh).type(vf.dtype),\n",
    "        ))\n",
    "    fig.show()\n",
    "\n",
    "if adversarial_plot:\n",
    "    print(\"Adversarial\")\n",
    "    fig = go.Figure()\n",
    "    fig.add_trace(go.Heatmap(\n",
    "        z = torch.Tensor(bench_adv.detach().numpy() > conv_thresh).type(vf.dtype),\n",
    "        ))\n",
    "    fig.show()\n",
    "\n",
    "if lqr_plot:\n",
    "    print(\"LQR\")\n",
    "    fig = go.Figure()\n",
    "    fig.add_trace(go.Heatmap(\n",
    "        z = torch.Tensor(bench_lqr.detach().numpy() > conv_thresh).type(vf.dtype),\n",
    "        ))\n",
    "    fig.show()"
   ]
  },
  {
   "cell_type": "code",
   "execution_count": null,
   "metadata": {},
   "outputs": [],
   "source": [
    "if baseline_plot:\n",
    "    fig = go.Figure()\n",
    "    fig.add_trace(go.Heatmap(\n",
    "        z = (bench_baseline-bench_adv).detach().numpy(),\n",
    "        ))\n",
    "    fig.show()"
   ]
  },
  {
   "cell_type": "markdown",
   "metadata": {},
   "source": [
    "# Acrobot"
   ]
  },
  {
   "cell_type": "code",
   "execution_count": 320,
   "metadata": {},
   "outputs": [],
   "source": [
    "acrobot = acrobot_utils.AcrobotNLP()\n",
    "vf = acrobot_utils.get_value_function(10)\n",
    "V = vf.get_value_function()"
   ]
  },
  {
   "cell_type": "code",
   "execution_count": 321,
   "metadata": {},
   "outputs": [
    {
     "data": {
      "application/vnd.plotly.v1+json": {
       "config": {
        "plotlyServerURL": "https://plot.ly"
       },
       "data": [
        {
         "type": "scatter",
         "y": [
          3.2415926456451416,
          3.148874044418335,
          2.96331787109375,
          2.8436481952667236,
          2.8298919200897217,
          2.879812240600586,
          2.9678232669830322,
          3.0744714736938477,
          3.168369770050049,
          3.2178151607513428
         ]
        },
        {
         "type": "scatter",
         "y": [
          -0.10000000149011612,
          0.16473978757858276,
          0.7045403122901917,
          1.0715217590332031,
          1.1295467615127563,
          0.984349250793457,
          0.7209827899932861,
          0.412514865398407,
          0.1596955507993698,
          0.060710541903972626
         ]
        },
        {
         "type": "scatter",
         "y": [
          0,
          -0.9271851181983948,
          -0.9283780455589294,
          -0.268318772315979,
          0.13075654208660126,
          0.36844655871391296,
          0.511664628982544,
          0.554817795753479,
          0.38416412472724915,
          0.1102905347943306
         ]
        },
        {
         "type": "scatter",
         "y": [
          0,
          2.647397994995117,
          2.750607490539551,
          0.9192065000534058,
          -0.3389561176300049,
          -1.1130186319351196,
          -1.520646333694458,
          -1.564033031463623,
          -0.964160144329071,
          -0.0256898645311594
         ]
        }
       ],
       "layout": {
        "template": {
         "data": {
          "bar": [
           {
            "error_x": {
             "color": "#2a3f5f"
            },
            "error_y": {
             "color": "#2a3f5f"
            },
            "marker": {
             "line": {
              "color": "#E5ECF6",
              "width": 0.5
             }
            },
            "type": "bar"
           }
          ],
          "barpolar": [
           {
            "marker": {
             "line": {
              "color": "#E5ECF6",
              "width": 0.5
             }
            },
            "type": "barpolar"
           }
          ],
          "carpet": [
           {
            "aaxis": {
             "endlinecolor": "#2a3f5f",
             "gridcolor": "white",
             "linecolor": "white",
             "minorgridcolor": "white",
             "startlinecolor": "#2a3f5f"
            },
            "baxis": {
             "endlinecolor": "#2a3f5f",
             "gridcolor": "white",
             "linecolor": "white",
             "minorgridcolor": "white",
             "startlinecolor": "#2a3f5f"
            },
            "type": "carpet"
           }
          ],
          "choropleth": [
           {
            "colorbar": {
             "outlinewidth": 0,
             "ticks": ""
            },
            "type": "choropleth"
           }
          ],
          "contour": [
           {
            "colorbar": {
             "outlinewidth": 0,
             "ticks": ""
            },
            "colorscale": [
             [
              0,
              "#0d0887"
             ],
             [
              0.1111111111111111,
              "#46039f"
             ],
             [
              0.2222222222222222,
              "#7201a8"
             ],
             [
              0.3333333333333333,
              "#9c179e"
             ],
             [
              0.4444444444444444,
              "#bd3786"
             ],
             [
              0.5555555555555556,
              "#d8576b"
             ],
             [
              0.6666666666666666,
              "#ed7953"
             ],
             [
              0.7777777777777778,
              "#fb9f3a"
             ],
             [
              0.8888888888888888,
              "#fdca26"
             ],
             [
              1,
              "#f0f921"
             ]
            ],
            "type": "contour"
           }
          ],
          "contourcarpet": [
           {
            "colorbar": {
             "outlinewidth": 0,
             "ticks": ""
            },
            "type": "contourcarpet"
           }
          ],
          "heatmap": [
           {
            "colorbar": {
             "outlinewidth": 0,
             "ticks": ""
            },
            "colorscale": [
             [
              0,
              "#0d0887"
             ],
             [
              0.1111111111111111,
              "#46039f"
             ],
             [
              0.2222222222222222,
              "#7201a8"
             ],
             [
              0.3333333333333333,
              "#9c179e"
             ],
             [
              0.4444444444444444,
              "#bd3786"
             ],
             [
              0.5555555555555556,
              "#d8576b"
             ],
             [
              0.6666666666666666,
              "#ed7953"
             ],
             [
              0.7777777777777778,
              "#fb9f3a"
             ],
             [
              0.8888888888888888,
              "#fdca26"
             ],
             [
              1,
              "#f0f921"
             ]
            ],
            "type": "heatmap"
           }
          ],
          "heatmapgl": [
           {
            "colorbar": {
             "outlinewidth": 0,
             "ticks": ""
            },
            "colorscale": [
             [
              0,
              "#0d0887"
             ],
             [
              0.1111111111111111,
              "#46039f"
             ],
             [
              0.2222222222222222,
              "#7201a8"
             ],
             [
              0.3333333333333333,
              "#9c179e"
             ],
             [
              0.4444444444444444,
              "#bd3786"
             ],
             [
              0.5555555555555556,
              "#d8576b"
             ],
             [
              0.6666666666666666,
              "#ed7953"
             ],
             [
              0.7777777777777778,
              "#fb9f3a"
             ],
             [
              0.8888888888888888,
              "#fdca26"
             ],
             [
              1,
              "#f0f921"
             ]
            ],
            "type": "heatmapgl"
           }
          ],
          "histogram": [
           {
            "marker": {
             "colorbar": {
              "outlinewidth": 0,
              "ticks": ""
             }
            },
            "type": "histogram"
           }
          ],
          "histogram2d": [
           {
            "colorbar": {
             "outlinewidth": 0,
             "ticks": ""
            },
            "colorscale": [
             [
              0,
              "#0d0887"
             ],
             [
              0.1111111111111111,
              "#46039f"
             ],
             [
              0.2222222222222222,
              "#7201a8"
             ],
             [
              0.3333333333333333,
              "#9c179e"
             ],
             [
              0.4444444444444444,
              "#bd3786"
             ],
             [
              0.5555555555555556,
              "#d8576b"
             ],
             [
              0.6666666666666666,
              "#ed7953"
             ],
             [
              0.7777777777777778,
              "#fb9f3a"
             ],
             [
              0.8888888888888888,
              "#fdca26"
             ],
             [
              1,
              "#f0f921"
             ]
            ],
            "type": "histogram2d"
           }
          ],
          "histogram2dcontour": [
           {
            "colorbar": {
             "outlinewidth": 0,
             "ticks": ""
            },
            "colorscale": [
             [
              0,
              "#0d0887"
             ],
             [
              0.1111111111111111,
              "#46039f"
             ],
             [
              0.2222222222222222,
              "#7201a8"
             ],
             [
              0.3333333333333333,
              "#9c179e"
             ],
             [
              0.4444444444444444,
              "#bd3786"
             ],
             [
              0.5555555555555556,
              "#d8576b"
             ],
             [
              0.6666666666666666,
              "#ed7953"
             ],
             [
              0.7777777777777778,
              "#fb9f3a"
             ],
             [
              0.8888888888888888,
              "#fdca26"
             ],
             [
              1,
              "#f0f921"
             ]
            ],
            "type": "histogram2dcontour"
           }
          ],
          "mesh3d": [
           {
            "colorbar": {
             "outlinewidth": 0,
             "ticks": ""
            },
            "type": "mesh3d"
           }
          ],
          "parcoords": [
           {
            "line": {
             "colorbar": {
              "outlinewidth": 0,
              "ticks": ""
             }
            },
            "type": "parcoords"
           }
          ],
          "pie": [
           {
            "automargin": true,
            "type": "pie"
           }
          ],
          "scatter": [
           {
            "marker": {
             "colorbar": {
              "outlinewidth": 0,
              "ticks": ""
             }
            },
            "type": "scatter"
           }
          ],
          "scatter3d": [
           {
            "line": {
             "colorbar": {
              "outlinewidth": 0,
              "ticks": ""
             }
            },
            "marker": {
             "colorbar": {
              "outlinewidth": 0,
              "ticks": ""
             }
            },
            "type": "scatter3d"
           }
          ],
          "scattercarpet": [
           {
            "marker": {
             "colorbar": {
              "outlinewidth": 0,
              "ticks": ""
             }
            },
            "type": "scattercarpet"
           }
          ],
          "scattergeo": [
           {
            "marker": {
             "colorbar": {
              "outlinewidth": 0,
              "ticks": ""
             }
            },
            "type": "scattergeo"
           }
          ],
          "scattergl": [
           {
            "marker": {
             "colorbar": {
              "outlinewidth": 0,
              "ticks": ""
             }
            },
            "type": "scattergl"
           }
          ],
          "scattermapbox": [
           {
            "marker": {
             "colorbar": {
              "outlinewidth": 0,
              "ticks": ""
             }
            },
            "type": "scattermapbox"
           }
          ],
          "scatterpolar": [
           {
            "marker": {
             "colorbar": {
              "outlinewidth": 0,
              "ticks": ""
             }
            },
            "type": "scatterpolar"
           }
          ],
          "scatterpolargl": [
           {
            "marker": {
             "colorbar": {
              "outlinewidth": 0,
              "ticks": ""
             }
            },
            "type": "scatterpolargl"
           }
          ],
          "scatterternary": [
           {
            "marker": {
             "colorbar": {
              "outlinewidth": 0,
              "ticks": ""
             }
            },
            "type": "scatterternary"
           }
          ],
          "surface": [
           {
            "colorbar": {
             "outlinewidth": 0,
             "ticks": ""
            },
            "colorscale": [
             [
              0,
              "#0d0887"
             ],
             [
              0.1111111111111111,
              "#46039f"
             ],
             [
              0.2222222222222222,
              "#7201a8"
             ],
             [
              0.3333333333333333,
              "#9c179e"
             ],
             [
              0.4444444444444444,
              "#bd3786"
             ],
             [
              0.5555555555555556,
              "#d8576b"
             ],
             [
              0.6666666666666666,
              "#ed7953"
             ],
             [
              0.7777777777777778,
              "#fb9f3a"
             ],
             [
              0.8888888888888888,
              "#fdca26"
             ],
             [
              1,
              "#f0f921"
             ]
            ],
            "type": "surface"
           }
          ],
          "table": [
           {
            "cells": {
             "fill": {
              "color": "#EBF0F8"
             },
             "line": {
              "color": "white"
             }
            },
            "header": {
             "fill": {
              "color": "#C8D4E3"
             },
             "line": {
              "color": "white"
             }
            },
            "type": "table"
           }
          ]
         },
         "layout": {
          "annotationdefaults": {
           "arrowcolor": "#2a3f5f",
           "arrowhead": 0,
           "arrowwidth": 1
          },
          "coloraxis": {
           "colorbar": {
            "outlinewidth": 0,
            "ticks": ""
           }
          },
          "colorscale": {
           "diverging": [
            [
             0,
             "#8e0152"
            ],
            [
             0.1,
             "#c51b7d"
            ],
            [
             0.2,
             "#de77ae"
            ],
            [
             0.3,
             "#f1b6da"
            ],
            [
             0.4,
             "#fde0ef"
            ],
            [
             0.5,
             "#f7f7f7"
            ],
            [
             0.6,
             "#e6f5d0"
            ],
            [
             0.7,
             "#b8e186"
            ],
            [
             0.8,
             "#7fbc41"
            ],
            [
             0.9,
             "#4d9221"
            ],
            [
             1,
             "#276419"
            ]
           ],
           "sequential": [
            [
             0,
             "#0d0887"
            ],
            [
             0.1111111111111111,
             "#46039f"
            ],
            [
             0.2222222222222222,
             "#7201a8"
            ],
            [
             0.3333333333333333,
             "#9c179e"
            ],
            [
             0.4444444444444444,
             "#bd3786"
            ],
            [
             0.5555555555555556,
             "#d8576b"
            ],
            [
             0.6666666666666666,
             "#ed7953"
            ],
            [
             0.7777777777777778,
             "#fb9f3a"
            ],
            [
             0.8888888888888888,
             "#fdca26"
            ],
            [
             1,
             "#f0f921"
            ]
           ],
           "sequentialminus": [
            [
             0,
             "#0d0887"
            ],
            [
             0.1111111111111111,
             "#46039f"
            ],
            [
             0.2222222222222222,
             "#7201a8"
            ],
            [
             0.3333333333333333,
             "#9c179e"
            ],
            [
             0.4444444444444444,
             "#bd3786"
            ],
            [
             0.5555555555555556,
             "#d8576b"
            ],
            [
             0.6666666666666666,
             "#ed7953"
            ],
            [
             0.7777777777777778,
             "#fb9f3a"
            ],
            [
             0.8888888888888888,
             "#fdca26"
            ],
            [
             1,
             "#f0f921"
            ]
           ]
          },
          "colorway": [
           "#636efa",
           "#EF553B",
           "#00cc96",
           "#ab63fa",
           "#FFA15A",
           "#19d3f3",
           "#FF6692",
           "#B6E880",
           "#FF97FF",
           "#FECB52"
          ],
          "font": {
           "color": "#2a3f5f"
          },
          "geo": {
           "bgcolor": "white",
           "lakecolor": "white",
           "landcolor": "#E5ECF6",
           "showlakes": true,
           "showland": true,
           "subunitcolor": "white"
          },
          "hoverlabel": {
           "align": "left"
          },
          "hovermode": "closest",
          "mapbox": {
           "style": "light"
          },
          "paper_bgcolor": "white",
          "plot_bgcolor": "#E5ECF6",
          "polar": {
           "angularaxis": {
            "gridcolor": "white",
            "linecolor": "white",
            "ticks": ""
           },
           "bgcolor": "#E5ECF6",
           "radialaxis": {
            "gridcolor": "white",
            "linecolor": "white",
            "ticks": ""
           }
          },
          "scene": {
           "xaxis": {
            "backgroundcolor": "#E5ECF6",
            "gridcolor": "white",
            "gridwidth": 2,
            "linecolor": "white",
            "showbackground": true,
            "ticks": "",
            "zerolinecolor": "white"
           },
           "yaxis": {
            "backgroundcolor": "#E5ECF6",
            "gridcolor": "white",
            "gridwidth": 2,
            "linecolor": "white",
            "showbackground": true,
            "ticks": "",
            "zerolinecolor": "white"
           },
           "zaxis": {
            "backgroundcolor": "#E5ECF6",
            "gridcolor": "white",
            "gridwidth": 2,
            "linecolor": "white",
            "showbackground": true,
            "ticks": "",
            "zerolinecolor": "white"
           }
          },
          "shapedefaults": {
           "line": {
            "color": "#2a3f5f"
           }
          },
          "ternary": {
           "aaxis": {
            "gridcolor": "white",
            "linecolor": "white",
            "ticks": ""
           },
           "baxis": {
            "gridcolor": "white",
            "linecolor": "white",
            "ticks": ""
           },
           "bgcolor": "#E5ECF6",
           "caxis": {
            "gridcolor": "white",
            "linecolor": "white",
            "ticks": ""
           }
          },
          "title": {
           "x": 0.05
          },
          "xaxis": {
           "automargin": true,
           "gridcolor": "white",
           "linecolor": "white",
           "ticks": "",
           "title": {
            "standoff": 15
           },
           "zerolinecolor": "white",
           "zerolinewidth": 2
          },
          "yaxis": {
           "automargin": true,
           "gridcolor": "white",
           "linecolor": "white",
           "ticks": "",
           "title": {
            "standoff": 15
           },
           "zerolinecolor": "white",
           "zerolinewidth": 2
          }
         }
        }
       }
      },
      "text/html": [
       "<div>\n",
       "        \n",
       "        \n",
       "            <div id=\"be4da008-95d7-45d5-bdcb-ecc4cfeed0bd\" class=\"plotly-graph-div\" style=\"height:525px; width:100%;\"></div>\n",
       "            <script type=\"text/javascript\">\n",
       "                require([\"plotly\"], function(Plotly) {\n",
       "                    window.PLOTLYENV=window.PLOTLYENV || {};\n",
       "                    \n",
       "                if (document.getElementById(\"be4da008-95d7-45d5-bdcb-ecc4cfeed0bd\")) {\n",
       "                    Plotly.newPlot(\n",
       "                        'be4da008-95d7-45d5-bdcb-ecc4cfeed0bd',\n",
       "                        [{\"type\": \"scatter\", \"y\": [3.2415926456451416, 3.148874044418335, 2.96331787109375, 2.8436481952667236, 2.8298919200897217, 2.879812240600586, 2.9678232669830322, 3.0744714736938477, 3.168369770050049, 3.2178151607513428]}, {\"type\": \"scatter\", \"y\": [-0.10000000149011612, 0.16473978757858276, 0.7045403122901917, 1.0715217590332031, 1.1295467615127563, 0.984349250793457, 0.7209827899932861, 0.412514865398407, 0.1596955507993698, 0.060710541903972626]}, {\"type\": \"scatter\", \"y\": [0.0, -0.9271851181983948, -0.9283780455589294, -0.268318772315979, 0.13075654208660126, 0.36844655871391296, 0.511664628982544, 0.554817795753479, 0.38416412472724915, 0.1102905347943306]}, {\"type\": \"scatter\", \"y\": [0.0, 2.647397994995117, 2.750607490539551, 0.9192065000534058, -0.3389561176300049, -1.1130186319351196, -1.520646333694458, -1.564033031463623, -0.964160144329071, -0.0256898645311594]}],\n",
       "                        {\"template\": {\"data\": {\"bar\": [{\"error_x\": {\"color\": \"#2a3f5f\"}, \"error_y\": {\"color\": \"#2a3f5f\"}, \"marker\": {\"line\": {\"color\": \"#E5ECF6\", \"width\": 0.5}}, \"type\": \"bar\"}], \"barpolar\": [{\"marker\": {\"line\": {\"color\": \"#E5ECF6\", \"width\": 0.5}}, \"type\": \"barpolar\"}], \"carpet\": [{\"aaxis\": {\"endlinecolor\": \"#2a3f5f\", \"gridcolor\": \"white\", \"linecolor\": \"white\", \"minorgridcolor\": \"white\", \"startlinecolor\": \"#2a3f5f\"}, \"baxis\": {\"endlinecolor\": \"#2a3f5f\", \"gridcolor\": \"white\", \"linecolor\": \"white\", \"minorgridcolor\": \"white\", \"startlinecolor\": \"#2a3f5f\"}, \"type\": \"carpet\"}], \"choropleth\": [{\"colorbar\": {\"outlinewidth\": 0, \"ticks\": \"\"}, \"type\": \"choropleth\"}], \"contour\": [{\"colorbar\": {\"outlinewidth\": 0, \"ticks\": \"\"}, \"colorscale\": [[0.0, \"#0d0887\"], [0.1111111111111111, \"#46039f\"], [0.2222222222222222, \"#7201a8\"], [0.3333333333333333, \"#9c179e\"], [0.4444444444444444, \"#bd3786\"], [0.5555555555555556, \"#d8576b\"], [0.6666666666666666, \"#ed7953\"], [0.7777777777777778, \"#fb9f3a\"], [0.8888888888888888, \"#fdca26\"], [1.0, \"#f0f921\"]], \"type\": \"contour\"}], \"contourcarpet\": [{\"colorbar\": {\"outlinewidth\": 0, \"ticks\": \"\"}, \"type\": \"contourcarpet\"}], \"heatmap\": [{\"colorbar\": {\"outlinewidth\": 0, \"ticks\": \"\"}, \"colorscale\": [[0.0, \"#0d0887\"], [0.1111111111111111, \"#46039f\"], [0.2222222222222222, \"#7201a8\"], [0.3333333333333333, \"#9c179e\"], [0.4444444444444444, \"#bd3786\"], [0.5555555555555556, \"#d8576b\"], [0.6666666666666666, \"#ed7953\"], [0.7777777777777778, \"#fb9f3a\"], [0.8888888888888888, \"#fdca26\"], [1.0, \"#f0f921\"]], \"type\": \"heatmap\"}], \"heatmapgl\": [{\"colorbar\": {\"outlinewidth\": 0, \"ticks\": \"\"}, \"colorscale\": [[0.0, \"#0d0887\"], [0.1111111111111111, \"#46039f\"], [0.2222222222222222, \"#7201a8\"], [0.3333333333333333, \"#9c179e\"], [0.4444444444444444, \"#bd3786\"], [0.5555555555555556, \"#d8576b\"], [0.6666666666666666, \"#ed7953\"], [0.7777777777777778, \"#fb9f3a\"], [0.8888888888888888, \"#fdca26\"], [1.0, \"#f0f921\"]], \"type\": \"heatmapgl\"}], \"histogram\": [{\"marker\": {\"colorbar\": {\"outlinewidth\": 0, \"ticks\": \"\"}}, \"type\": \"histogram\"}], \"histogram2d\": [{\"colorbar\": {\"outlinewidth\": 0, \"ticks\": \"\"}, \"colorscale\": [[0.0, \"#0d0887\"], [0.1111111111111111, \"#46039f\"], [0.2222222222222222, \"#7201a8\"], [0.3333333333333333, \"#9c179e\"], [0.4444444444444444, \"#bd3786\"], [0.5555555555555556, \"#d8576b\"], [0.6666666666666666, \"#ed7953\"], [0.7777777777777778, \"#fb9f3a\"], [0.8888888888888888, \"#fdca26\"], [1.0, \"#f0f921\"]], \"type\": \"histogram2d\"}], \"histogram2dcontour\": [{\"colorbar\": {\"outlinewidth\": 0, \"ticks\": \"\"}, \"colorscale\": [[0.0, \"#0d0887\"], [0.1111111111111111, \"#46039f\"], [0.2222222222222222, \"#7201a8\"], [0.3333333333333333, \"#9c179e\"], [0.4444444444444444, \"#bd3786\"], [0.5555555555555556, \"#d8576b\"], [0.6666666666666666, \"#ed7953\"], [0.7777777777777778, \"#fb9f3a\"], [0.8888888888888888, \"#fdca26\"], [1.0, \"#f0f921\"]], \"type\": \"histogram2dcontour\"}], \"mesh3d\": [{\"colorbar\": {\"outlinewidth\": 0, \"ticks\": \"\"}, \"type\": \"mesh3d\"}], \"parcoords\": [{\"line\": {\"colorbar\": {\"outlinewidth\": 0, \"ticks\": \"\"}}, \"type\": \"parcoords\"}], \"pie\": [{\"automargin\": true, \"type\": \"pie\"}], \"scatter\": [{\"marker\": {\"colorbar\": {\"outlinewidth\": 0, \"ticks\": \"\"}}, \"type\": \"scatter\"}], \"scatter3d\": [{\"line\": {\"colorbar\": {\"outlinewidth\": 0, \"ticks\": \"\"}}, \"marker\": {\"colorbar\": {\"outlinewidth\": 0, \"ticks\": \"\"}}, \"type\": \"scatter3d\"}], \"scattercarpet\": [{\"marker\": {\"colorbar\": {\"outlinewidth\": 0, \"ticks\": \"\"}}, \"type\": \"scattercarpet\"}], \"scattergeo\": [{\"marker\": {\"colorbar\": {\"outlinewidth\": 0, \"ticks\": \"\"}}, \"type\": \"scattergeo\"}], \"scattergl\": [{\"marker\": {\"colorbar\": {\"outlinewidth\": 0, \"ticks\": \"\"}}, \"type\": \"scattergl\"}], \"scattermapbox\": [{\"marker\": {\"colorbar\": {\"outlinewidth\": 0, \"ticks\": \"\"}}, \"type\": \"scattermapbox\"}], \"scatterpolar\": [{\"marker\": {\"colorbar\": {\"outlinewidth\": 0, \"ticks\": \"\"}}, \"type\": \"scatterpolar\"}], \"scatterpolargl\": [{\"marker\": {\"colorbar\": {\"outlinewidth\": 0, \"ticks\": \"\"}}, \"type\": \"scatterpolargl\"}], \"scatterternary\": [{\"marker\": {\"colorbar\": {\"outlinewidth\": 0, \"ticks\": \"\"}}, \"type\": \"scatterternary\"}], \"surface\": [{\"colorbar\": {\"outlinewidth\": 0, \"ticks\": \"\"}, \"colorscale\": [[0.0, \"#0d0887\"], [0.1111111111111111, \"#46039f\"], [0.2222222222222222, \"#7201a8\"], [0.3333333333333333, \"#9c179e\"], [0.4444444444444444, \"#bd3786\"], [0.5555555555555556, \"#d8576b\"], [0.6666666666666666, \"#ed7953\"], [0.7777777777777778, \"#fb9f3a\"], [0.8888888888888888, \"#fdca26\"], [1.0, \"#f0f921\"]], \"type\": \"surface\"}], \"table\": [{\"cells\": {\"fill\": {\"color\": \"#EBF0F8\"}, \"line\": {\"color\": \"white\"}}, \"header\": {\"fill\": {\"color\": \"#C8D4E3\"}, \"line\": {\"color\": \"white\"}}, \"type\": \"table\"}]}, \"layout\": {\"annotationdefaults\": {\"arrowcolor\": \"#2a3f5f\", \"arrowhead\": 0, \"arrowwidth\": 1}, \"coloraxis\": {\"colorbar\": {\"outlinewidth\": 0, \"ticks\": \"\"}}, \"colorscale\": {\"diverging\": [[0, \"#8e0152\"], [0.1, \"#c51b7d\"], [0.2, \"#de77ae\"], [0.3, \"#f1b6da\"], [0.4, \"#fde0ef\"], [0.5, \"#f7f7f7\"], [0.6, \"#e6f5d0\"], [0.7, \"#b8e186\"], [0.8, \"#7fbc41\"], [0.9, \"#4d9221\"], [1, \"#276419\"]], \"sequential\": [[0.0, \"#0d0887\"], [0.1111111111111111, \"#46039f\"], [0.2222222222222222, \"#7201a8\"], [0.3333333333333333, \"#9c179e\"], [0.4444444444444444, \"#bd3786\"], [0.5555555555555556, \"#d8576b\"], [0.6666666666666666, \"#ed7953\"], [0.7777777777777778, \"#fb9f3a\"], [0.8888888888888888, \"#fdca26\"], [1.0, \"#f0f921\"]], \"sequentialminus\": [[0.0, \"#0d0887\"], [0.1111111111111111, \"#46039f\"], [0.2222222222222222, \"#7201a8\"], [0.3333333333333333, \"#9c179e\"], [0.4444444444444444, \"#bd3786\"], [0.5555555555555556, \"#d8576b\"], [0.6666666666666666, \"#ed7953\"], [0.7777777777777778, \"#fb9f3a\"], [0.8888888888888888, \"#fdca26\"], [1.0, \"#f0f921\"]]}, \"colorway\": [\"#636efa\", \"#EF553B\", \"#00cc96\", \"#ab63fa\", \"#FFA15A\", \"#19d3f3\", \"#FF6692\", \"#B6E880\", \"#FF97FF\", \"#FECB52\"], \"font\": {\"color\": \"#2a3f5f\"}, \"geo\": {\"bgcolor\": \"white\", \"lakecolor\": \"white\", \"landcolor\": \"#E5ECF6\", \"showlakes\": true, \"showland\": true, \"subunitcolor\": \"white\"}, \"hoverlabel\": {\"align\": \"left\"}, \"hovermode\": \"closest\", \"mapbox\": {\"style\": \"light\"}, \"paper_bgcolor\": \"white\", \"plot_bgcolor\": \"#E5ECF6\", \"polar\": {\"angularaxis\": {\"gridcolor\": \"white\", \"linecolor\": \"white\", \"ticks\": \"\"}, \"bgcolor\": \"#E5ECF6\", \"radialaxis\": {\"gridcolor\": \"white\", \"linecolor\": \"white\", \"ticks\": \"\"}}, \"scene\": {\"xaxis\": {\"backgroundcolor\": \"#E5ECF6\", \"gridcolor\": \"white\", \"gridwidth\": 2, \"linecolor\": \"white\", \"showbackground\": true, \"ticks\": \"\", \"zerolinecolor\": \"white\"}, \"yaxis\": {\"backgroundcolor\": \"#E5ECF6\", \"gridcolor\": \"white\", \"gridwidth\": 2, \"linecolor\": \"white\", \"showbackground\": true, \"ticks\": \"\", \"zerolinecolor\": \"white\"}, \"zaxis\": {\"backgroundcolor\": \"#E5ECF6\", \"gridcolor\": \"white\", \"gridwidth\": 2, \"linecolor\": \"white\", \"showbackground\": true, \"ticks\": \"\", \"zerolinecolor\": \"white\"}}, \"shapedefaults\": {\"line\": {\"color\": \"#2a3f5f\"}}, \"ternary\": {\"aaxis\": {\"gridcolor\": \"white\", \"linecolor\": \"white\", \"ticks\": \"\"}, \"baxis\": {\"gridcolor\": \"white\", \"linecolor\": \"white\", \"ticks\": \"\"}, \"bgcolor\": \"#E5ECF6\", \"caxis\": {\"gridcolor\": \"white\", \"linecolor\": \"white\", \"ticks\": \"\"}}, \"title\": {\"x\": 0.05}, \"xaxis\": {\"automargin\": true, \"gridcolor\": \"white\", \"linecolor\": \"white\", \"ticks\": \"\", \"title\": {\"standoff\": 15}, \"zerolinecolor\": \"white\", \"zerolinewidth\": 2}, \"yaxis\": {\"automargin\": true, \"gridcolor\": \"white\", \"linecolor\": \"white\", \"ticks\": \"\", \"title\": {\"standoff\": 15}, \"zerolinecolor\": \"white\", \"zerolinewidth\": 2}}}},\n",
       "                        {\"responsive\": true}\n",
       "                    ).then(function(){\n",
       "                            \n",
       "var gd = document.getElementById('be4da008-95d7-45d5-bdcb-ecc4cfeed0bd');\n",
       "var x = new MutationObserver(function (mutations, observer) {{\n",
       "        var display = window.getComputedStyle(gd).display;\n",
       "        if (!display || display === 'none') {{\n",
       "            console.log([gd, 'removed!']);\n",
       "            Plotly.purge(gd);\n",
       "            observer.disconnect();\n",
       "        }}\n",
       "}});\n",
       "\n",
       "// Listen for the removal of the full notebook cells\n",
       "var notebookContainer = gd.closest('#notebook-container');\n",
       "if (notebookContainer) {{\n",
       "    x.observe(notebookContainer, {childList: true});\n",
       "}}\n",
       "\n",
       "// Listen for the clearing of the current output cell\n",
       "var outputEl = gd.closest('.output');\n",
       "if (outputEl) {{\n",
       "    x.observe(outputEl, {childList: true});\n",
       "}}\n",
       "\n",
       "                        })\n",
       "                };\n",
       "                });\n",
       "            </script>\n",
       "        </div>"
      ]
     },
     "metadata": {},
     "output_type": "display_data"
    }
   ],
   "source": [
    "eps = .1\n",
    "x0 = torch.Tensor([np.pi+eps, -eps, 0., 0.]).double()\n",
    "x_traj, u_traj, alpha_traj = vf.sol_to_traj(x0, *(V(x0)[1:]))\n",
    "fig = go.Figure()\n",
    "for i in range(4):\n",
    "    fig.add_trace(go.Scatter(\n",
    "        y=x_traj[i,:]\n",
    "    ))\n",
    "fig.show()"
   ]
  },
  {
   "cell_type": "code",
   "execution_count": 325,
   "metadata": {},
   "outputs": [
    {
     "data": {
      "application/vnd.plotly.v1+json": {
       "config": {
        "plotlyServerURL": "https://plot.ly"
       },
       "data": [
        {
         "type": "scatter",
         "x": [
          0,
          8.953241922426969e-05,
          0.0009848566260188818,
          0.00993809849023819,
          0.09947051852941513,
          0.10000000149011612,
          0.1366489976644516,
          0.20000000298023224,
          0.24696865677833557,
          0.30000001192092896,
          0.3484542965888977,
          0.4000000059604645,
          0.44839751720428467,
          0.5,
          0.548477053642273,
          0.6000000238418579,
          0.6483030319213867,
          0.699999988079071,
          0.7473927140235901,
          0.800000011920929,
          0.8451878428459167,
          0.8999999761581421,
          0.940567672252655,
          1,
          1.0240044593811035,
          1.100000023841858,
          1.140533447265625,
          1.2000000476837158,
          1.2469934225082397,
          1.2999999523162842,
          1.3511568307876587,
          1.399999976158142,
          1.4546005725860596,
          1.5,
          1.5582518577575684,
          1.600000023841858,
          1.663381814956665,
          1.7000000476837158,
          1.773718237876892,
          1.7999999523162842,
          1.8882988691329956,
          1.899999976158142,
          1.9690114259719849,
          2,
          2.0612401962280273,
          2.0999999046325684,
          2.1223666667938232,
          2.200000047683716,
          2.2546534538269043,
          2.299999952316284,
          2.3524322509765625,
          2.4000000953674316,
          2.4500293731689453,
          2.5,
          2.5469272136688232,
          2.5999999046325684,
          2.6420998573303223,
          2.700000047683716,
          2.727797746658325,
          2.799999952316284,
          2.837567090988159,
          2.9000000953674316,
          2.9470036029815674,
          3,
          3.053107500076294,
          3.0999999046325684,
          3.1589670181274414,
          3.200000047683716,
          3.2662229537963867,
          3.299999952316284,
          3.379117250442505,
          3.4000000953674316,
          3.4948649406433105,
          3.5,
          3.575622797012329,
          3.5999999046325684,
          3.6673476696014404,
          3.700000047683716,
          3.762528657913208,
          3.799999952316284,
          3.8284196853637695,
          3.9000000953674316,
          3.9563252925872803,
          4,
          4.0539116859436035,
          4.099999904632568,
          4.1511759757995605,
          4.199999809265137,
          4.247879981994629,
          4.300000190734863,
          4.34318733215332,
          4.400000095367432,
          4.432353973388672,
          4.5,
          4.53712272644043,
          4.599999904632568,
          4.647309303283691,
          4.699999809265137,
          4.753960132598877,
          4.800000190734863,
          4.860576629638672,
          4.900000095367432,
          4.969196319580078,
          5,
          5.086827754974365,
          5.099999904632568,
          5.192050457000732,
          5.199999809265137,
          5.273937702178955,
          5.300000190734863,
          5.367021083831787,
          5.400000095367432,
          5.462621688842773,
          5.5,
          5.536498546600342,
          5.599999904632568,
          5.656597137451172,
          5.699999809265137,
          5.754168510437012,
          5.800000190734863,
          5.851429462432861,
          5.900000095367432,
          5.9481730461120605,
          6,
          6.043659210205078,
          6.099999904632568,
          6.134323596954346,
          6.199999809265137,
          6.2382707595825195,
          6.300000190734863,
          6.3480000495910645,
          6.400000095367432,
          6.4546403884887695,
          6.5,
          6.5613694190979,
          6.599999904632568,
          6.670286655426025,
          6.699999809265137,
          6.789289474487305,
          6.800000190734863,
          6.890106678009033,
          6.900000095367432,
          6.973928928375244,
          7,
          7.067169189453125,
          7.099999904632568,
          7.162896633148193,
          7.199999809265137,
          7.250402450561523,
          7.300000190734863,
          7.357054233551025,
          7.400000095367432,
          7.454654216766357,
          7.5,
          7.552043914794922,
          7.599999904632568,
          7.649020195007324,
          7.699999809265137,
          7.745050430297852,
          7.800000190734863,
          7.83828592300415,
          7.900000095367432,
          7.940865516662598,
          8,
          8.049529075622559,
          8.100000381469727,
          8.156005859375,
          8.199999809265137,
          8.262760162353516,
          8.300000190734863,
          8.372523307800293,
          8.399999618530273,
          8.492581367492676,
          8.5,
          8.58840274810791,
          8.600000381469727,
          8.674553871154785,
          8.699999809265137,
          8.768059730529785,
          8.800000190734863,
          8.863948822021484,
          8.899999618530273,
          8.960468292236328,
          9,
          9.058411598205566,
          9.100000381469727,
          9.155864715576172,
          9.199999809265137,
          9.25362777709961,
          9.300000190734863,
          9.35145378112793,
          9.399999618530273,
          9.448365211486816,
          9.5,
          9.543825149536133,
          9.600000381469727,
          9.645764350891113,
          9.699999809265137,
          9.75305461883545,
          9.800000190734863,
          9.859171867370605,
          9.899999618530273
         ],
         "y": [
          3.2415926456451416,
          3.2415926456451416,
          3.2415900230407715,
          3.2413394451141357,
          3.218851327896118,
          3.218623161315918,
          3.2006309032440186,
          3.161599636077881,
          3.127869129180908,
          3.087526798248291,
          3.0498461723327637,
          3.010690450668335,
          2.9756760597229004,
          2.941012144088745,
          2.9114694595336914,
          2.883394479751587,
          2.8604366779327393,
          2.8392653465270996,
          2.823066234588623,
          2.8083436489105225,
          2.7985289096832275,
          2.7897205352783203,
          2.7855215072631836,
          2.782386302947998,
          2.7823386192321777,
          2.785447597503662,
          2.789543390274048,
          2.7981579303741455,
          2.807298421859741,
          2.819833278656006,
          2.8341524600982666,
          2.84970760345459,
          2.869127035140991,
          2.8867850303649902,
          2.911177396774292,
          2.929739475250244,
          2.9592432975769043,
          2.9768917560577393,
          3.0131685733795166,
          3.0262393951416016,
          3.069889545440674,
          3.0755789279937744,
          3.1085128784179688,
          3.1226887702941895,
          3.1496262550354004,
          3.165586471557617,
          3.174379587173462,
          3.202770948410034,
          3.2203547954559326,
          3.233335018157959,
          3.246586561203003,
          3.2569265365600586,
          3.2661149501800537,
          3.2736120223999023,
          3.279129981994629,
          3.28373384475708,
          3.2861125469207764,
          3.287804365158081,
          3.2878730297088623,
          3.2864418029785156,
          3.2846181392669678,
          3.2803306579589844,
          3.2760043144226074,
          3.270203113555908,
          3.263449192047119,
          3.2568302154541016,
          3.247748613357544,
          3.241011142730713,
          3.229590892791748,
          3.2235560417175293,
          3.2091197967529297,
          3.205263137817383,
          3.187824010848999,
          3.186890125274658,
          3.173353672027588,
          3.169124126434326,
          3.1577863693237305,
          3.1525561809539795,
          3.1430046558380127,
          3.137659788131714,
          3.1337993144989014,
          3.1247811317443848,
          3.1184935569763184,
          3.1141412258148193,
          3.1093695163726807,
          3.105844736099243,
          3.1025094985961914,
          3.099893808364868,
          3.097857713699341,
          3.0962026119232178,
          3.0952820777893066,
          3.0946154594421387,
          3.0945398807525635,
          3.094921350479126,
          3.0954833030700684,
          3.0968692302703857,
          3.0982909202575684,
          3.100182294845581,
          3.1024365425109863,
          3.104569435119629,
          3.1076250076293945,
          3.109738826751709,
          3.113621711730957,
          3.115406036376953,
          3.120521068572998,
          3.1213035583496094,
          3.1267268657684326,
          3.1271884441375732,
          3.1314094066619873,
          3.1328482627868652,
          3.1364307403564453,
          3.138105869293213,
          3.141134262084961,
          3.1428208351135254,
          3.1443817615509033,
          3.146890163421631,
          3.1488840579986572,
          3.1502482891082764,
          3.151759624481201,
          3.1528637409210205,
          3.153918743133545,
          3.154736280441284,
          3.155378818511963,
          3.155893087387085,
          3.156182050704956,
          3.156383514404297,
          3.1564035415649414,
          3.1562743186950684,
          3.15608549118042,
          3.1556458473205566,
          3.155183792114258,
          3.1545872688293457,
          3.153859853744507,
          3.153191566467285,
          3.1522090435028076,
          3.151552438735962,
          3.1503043174743652,
          3.1497602462768555,
          3.1481001377105713,
          3.147899627685547,
          3.1462271213531494,
          3.1460464000701904,
          3.144719362258911,
          3.1442673206329346,
          3.1431403160095215,
          3.1426172256469727,
          3.1416640281677246,
          3.1411397457122803,
          3.140470504760742,
          3.139866352081299,
          3.1392383575439453,
          3.138817310333252,
          3.1383419036865234,
          3.1380021572113037,
          3.1376707553863525,
          3.137420892715454,
          3.137219190597534,
          3.1370644569396973,
          3.136974334716797,
          3.1369173526763916,
          3.136913537979126,
          3.136958122253418,
          3.137024402618408,
          3.13716197013855,
          3.137315034866333,
          3.137500047683716,
          3.1377367973327637,
          3.1379425525665283,
          3.13826060295105,
          3.138460636138916,
          3.1388676166534424,
          3.139026641845703,
          3.1395692825317383,
          3.139612913131714,
          3.140129566192627,
          3.1401963233947754,
          3.1406166553497314,
          3.1407551765441895,
          3.141113042831421,
          3.1412720680236816,
          3.1415750980377197,
          3.1417338848114014,
          3.1419827938079834,
          3.1421310901641846,
          3.1423306465148926,
          3.1424570083618164,
          3.1426079273223877,
          3.1427104473114014,
          3.1428163051605225,
          3.1428911685943604,
          3.142956018447876,
          3.143000602722168,
          3.14302921295166,
          3.1430439949035645,
          3.1430435180664062,
          3.1430280208587646,
          3.143002986907959,
          3.1429615020751953,
          3.1429085731506348,
          3.142853260040283,
          3.142773389816284,
          3.1427125930786133
         ]
        },
        {
         "type": "scatter",
         "x": [
          0,
          8.953241922426969e-05,
          0.0009848566260188818,
          0.00993809849023819,
          0.09947051852941513,
          0.10000000149011612,
          0.1366489976644516,
          0.20000000298023224,
          0.24696865677833557,
          0.30000001192092896,
          0.3484542965888977,
          0.4000000059604645,
          0.44839751720428467,
          0.5,
          0.548477053642273,
          0.6000000238418579,
          0.6483030319213867,
          0.699999988079071,
          0.7473927140235901,
          0.800000011920929,
          0.8451878428459167,
          0.8999999761581421,
          0.940567672252655,
          1,
          1.0240044593811035,
          1.100000023841858,
          1.140533447265625,
          1.2000000476837158,
          1.2469934225082397,
          1.2999999523162842,
          1.3511568307876587,
          1.399999976158142,
          1.4546005725860596,
          1.5,
          1.5582518577575684,
          1.600000023841858,
          1.663381814956665,
          1.7000000476837158,
          1.773718237876892,
          1.7999999523162842,
          1.8882988691329956,
          1.899999976158142,
          1.9690114259719849,
          2,
          2.0612401962280273,
          2.0999999046325684,
          2.1223666667938232,
          2.200000047683716,
          2.2546534538269043,
          2.299999952316284,
          2.3524322509765625,
          2.4000000953674316,
          2.4500293731689453,
          2.5,
          2.5469272136688232,
          2.5999999046325684,
          2.6420998573303223,
          2.700000047683716,
          2.727797746658325,
          2.799999952316284,
          2.837567090988159,
          2.9000000953674316,
          2.9470036029815674,
          3,
          3.053107500076294,
          3.0999999046325684,
          3.1589670181274414,
          3.200000047683716,
          3.2662229537963867,
          3.299999952316284,
          3.379117250442505,
          3.4000000953674316,
          3.4948649406433105,
          3.5,
          3.575622797012329,
          3.5999999046325684,
          3.6673476696014404,
          3.700000047683716,
          3.762528657913208,
          3.799999952316284,
          3.8284196853637695,
          3.9000000953674316,
          3.9563252925872803,
          4,
          4.0539116859436035,
          4.099999904632568,
          4.1511759757995605,
          4.199999809265137,
          4.247879981994629,
          4.300000190734863,
          4.34318733215332,
          4.400000095367432,
          4.432353973388672,
          4.5,
          4.53712272644043,
          4.599999904632568,
          4.647309303283691,
          4.699999809265137,
          4.753960132598877,
          4.800000190734863,
          4.860576629638672,
          4.900000095367432,
          4.969196319580078,
          5,
          5.086827754974365,
          5.099999904632568,
          5.192050457000732,
          5.199999809265137,
          5.273937702178955,
          5.300000190734863,
          5.367021083831787,
          5.400000095367432,
          5.462621688842773,
          5.5,
          5.536498546600342,
          5.599999904632568,
          5.656597137451172,
          5.699999809265137,
          5.754168510437012,
          5.800000190734863,
          5.851429462432861,
          5.900000095367432,
          5.9481730461120605,
          6,
          6.043659210205078,
          6.099999904632568,
          6.134323596954346,
          6.199999809265137,
          6.2382707595825195,
          6.300000190734863,
          6.3480000495910645,
          6.400000095367432,
          6.4546403884887695,
          6.5,
          6.5613694190979,
          6.599999904632568,
          6.670286655426025,
          6.699999809265137,
          6.789289474487305,
          6.800000190734863,
          6.890106678009033,
          6.900000095367432,
          6.973928928375244,
          7,
          7.067169189453125,
          7.099999904632568,
          7.162896633148193,
          7.199999809265137,
          7.250402450561523,
          7.300000190734863,
          7.357054233551025,
          7.400000095367432,
          7.454654216766357,
          7.5,
          7.552043914794922,
          7.599999904632568,
          7.649020195007324,
          7.699999809265137,
          7.745050430297852,
          7.800000190734863,
          7.83828592300415,
          7.900000095367432,
          7.940865516662598,
          8,
          8.049529075622559,
          8.100000381469727,
          8.156005859375,
          8.199999809265137,
          8.262760162353516,
          8.300000190734863,
          8.372523307800293,
          8.399999618530273,
          8.492581367492676,
          8.5,
          8.58840274810791,
          8.600000381469727,
          8.674553871154785,
          8.699999809265137,
          8.768059730529785,
          8.800000190734863,
          8.863948822021484,
          8.899999618530273,
          8.960468292236328,
          9,
          9.058411598205566,
          9.100000381469727,
          9.155864715576172,
          9.199999809265137,
          9.25362777709961,
          9.300000190734863,
          9.35145378112793,
          9.399999618530273,
          9.448365211486816,
          9.5,
          9.543825149536133,
          9.600000381469727,
          9.645764350891113,
          9.699999809265137,
          9.75305461883545,
          9.800000190734863,
          9.859171867370605,
          9.899999618530273
         ],
         "y": [
          -0.10000000149011612,
          -0.09999994188547134,
          -0.09999281913042068,
          -0.09927594661712646,
          -0.034566447138786316,
          -0.03390810266137123,
          0.01814485713839531,
          0.13187867403030396,
          0.23095063865184784,
          0.35068371891975403,
          0.46385785937309265,
          0.5832580327987671,
          0.6918694376945496,
          0.8014882206916809,
          0.8969129920005798,
          0.9895676374435425,
          1.0670809745788574,
          1.1400827169418335,
          1.1971571445465088,
          1.2499337196350098,
          1.2857434749603271,
          1.3181592226028442,
          1.3337748050689697,
          1.3451374769210815,
          1.34522545337677,
          1.3323734998703003,
          1.3162399530410767,
          1.282459020614624,
          1.2470862865447998,
          1.1990227699279785,
          1.144808292388916,
          1.0866225957870483,
          1.0149339437484741,
          0.9505854845046997,
          0.8628126382827759,
          0.7968153953552246,
          0.6930580139160156,
          0.6315950155258179,
          0.5063055753707886,
          0.46145591139793396,
          0.31235793232917786,
          0.29296445846557617,
          0.1808203160762787,
          0.13243474066257477,
          0.04034443572163582,
          -0.014559758827090263,
          -0.044953443109989166,
          -0.14368994534015656,
          -0.20570538938045502,
          -0.25212615728378296,
          -0.30021682381629944,
          -0.3384746015071869,
          -0.3732558488845825,
          -0.4024941027164459,
          -0.4249320328235626,
          -0.4448036551475525,
          -0.45630165934562683,
          -0.4666534960269928,
          -0.4691298305988312,
          -0.4697759449481964,
          -0.4664043188095093,
          -0.45626676082611084,
          -0.4447840750217438,
          -0.4285000264644623,
          -0.4088197946548462,
          -0.3890528976917267,
          -0.3614141643047333,
          -0.34062620997428894,
          -0.30496975779533386,
          -0.2859584391117096,
          -0.24007192254066467,
          -0.22773118317127228,
          -0.17150527238845825,
          -0.16847555339336395,
          -0.1243605986237526,
          -0.11048420518636703,
          -0.0731065571308136,
          -0.05573856085538864,
          -0.023846961557865143,
          -0.005853927694261074,
          0.0072111701592803,
          0.037947289645671844,
          0.0596386082470417,
          0.07483400404453278,
          0.09168970584869385,
          0.10434278100728989,
          0.1165369376540184,
          0.1263430118560791,
          0.13424183428287506,
          0.14099568128585815,
          0.14511516690254211,
          0.1487068235874176,
          0.14975421130657196,
          0.150079607963562,
          0.14908012747764587,
          0.14586566388607025,
          0.14215083420276642,
          0.13692303001880646,
          0.1304503083229065,
          0.12417047470808029,
          0.11499194800853729,
          0.10854712128639221,
          0.09654917567968369,
          0.09097851067781448,
          0.0748356357216835,
          0.07234658300876617,
          0.054953332990407944,
          0.05346166342496872,
          0.03975070267915726,
          0.03504134714603424,
          0.023250775411725044,
          0.017695479094982147,
          0.00759171461686492,
          0.00191769958473742,
          -0.0033637352753430605,
          -0.011917166411876678,
          -0.018793301656842232,
          -0.02355383336544037,
          -0.028889939188957214,
          -0.03285061568021774,
          -0.03670499473810196,
          -0.03976859524846077,
          -0.04226053133606911,
          -0.044360220432281494,
          -0.045656729489564896,
          -0.04675566032528877,
          -0.04708794131875038,
          -0.04714731499552727,
          -0.04680349677801132,
          -0.04577634856104851,
          -0.04456663876771927,
          -0.04291730374097824,
          -0.04082995653152466,
          -0.03886336460709572,
          -0.035914041101932526,
          -0.033913712948560715,
          -0.030059538781642914,
          -0.0283620897680521,
          -0.02312469854950905,
          -0.022486822679638863,
          -0.01712549850344658,
          -0.016541436314582825,
          -0.012231484055519104,
          -0.010751803405582905,
          -0.007042488548904657,
          -0.00530769769102335,
          -0.0021264436654746532,
          -0.0003621982759796083,
          0.001904217409901321,
          0.003968420904129744,
          0.0061347996816039085,
          0.007605280727148056,
          0.009284458123147488,
          0.010504662990570068,
          0.011717306450009346,
          0.012655199505388737,
          0.013439245522022247,
          0.014074468985199928,
          0.014482793398201466,
          0.014804113656282425,
          0.014908868819475174,
          0.014905426651239395,
          0.014779413118958473,
          0.014453251846134663,
          0.014050046913325787,
          0.013536535203456879,
          0.012854784727096558,
          0.012248437851667404,
          0.011292519979178905,
          0.010682143270969391,
          0.009424392133951187,
          0.008928126655519009,
          0.007214710116386414,
          0.0070754955522716045,
          0.005419222638010979,
          0.005203774198889732,
          0.0038376476150006056,
          0.003384301206097007,
          0.0022058936301618814,
          0.0016774671385064721,
          0.0006658361526206136,
          0.0001304334437008947,
          -0.0007132618338800967,
          -0.0012212180299684405,
          -0.0019112762529402971,
          -0.0023533417843282223,
          -0.002886524423956871,
          -0.0032552985940128565,
          -0.0036432857159525156,
          -0.003924223128706217,
          -0.0041778734885156155,
          -0.0043621486984193325,
          -0.004494028631597757,
          -0.004581854213029146,
          -0.004613623488694429,
          -0.0046040755696594715,
          -0.004554368555545807,
          -0.00445386441424489,
          -0.0043135033920407295,
          -0.004159167408943176,
          -0.003928765654563904,
          -0.0037492967676371336
         ]
        },
        {
         "type": "scatter",
         "x": [
          0,
          8.953241922426969e-05,
          0.0009848566260188818,
          0.00993809849023819,
          0.09947051852941513,
          0.10000000149011612,
          0.1366489976644516,
          0.20000000298023224,
          0.24696865677833557,
          0.30000001192092896,
          0.3484542965888977,
          0.4000000059604645,
          0.44839751720428467,
          0.5,
          0.548477053642273,
          0.6000000238418579,
          0.6483030319213867,
          0.699999988079071,
          0.7473927140235901,
          0.800000011920929,
          0.8451878428459167,
          0.8999999761581421,
          0.940567672252655,
          1,
          1.0240044593811035,
          1.100000023841858,
          1.140533447265625,
          1.2000000476837158,
          1.2469934225082397,
          1.2999999523162842,
          1.3511568307876587,
          1.399999976158142,
          1.4546005725860596,
          1.5,
          1.5582518577575684,
          1.600000023841858,
          1.663381814956665,
          1.7000000476837158,
          1.773718237876892,
          1.7999999523162842,
          1.8882988691329956,
          1.899999976158142,
          1.9690114259719849,
          2,
          2.0612401962280273,
          2.0999999046325684,
          2.1223666667938232,
          2.200000047683716,
          2.2546534538269043,
          2.299999952316284,
          2.3524322509765625,
          2.4000000953674316,
          2.4500293731689453,
          2.5,
          2.5469272136688232,
          2.5999999046325684,
          2.6420998573303223,
          2.700000047683716,
          2.727797746658325,
          2.799999952316284,
          2.837567090988159,
          2.9000000953674316,
          2.9470036029815674,
          3,
          3.053107500076294,
          3.0999999046325684,
          3.1589670181274414,
          3.200000047683716,
          3.2662229537963867,
          3.299999952316284,
          3.379117250442505,
          3.4000000953674316,
          3.4948649406433105,
          3.5,
          3.575622797012329,
          3.5999999046325684,
          3.6673476696014404,
          3.700000047683716,
          3.762528657913208,
          3.799999952316284,
          3.8284196853637695,
          3.9000000953674316,
          3.9563252925872803,
          4,
          4.0539116859436035,
          4.099999904632568,
          4.1511759757995605,
          4.199999809265137,
          4.247879981994629,
          4.300000190734863,
          4.34318733215332,
          4.400000095367432,
          4.432353973388672,
          4.5,
          4.53712272644043,
          4.599999904632568,
          4.647309303283691,
          4.699999809265137,
          4.753960132598877,
          4.800000190734863,
          4.860576629638672,
          4.900000095367432,
          4.969196319580078,
          5,
          5.086827754974365,
          5.099999904632568,
          5.192050457000732,
          5.199999809265137,
          5.273937702178955,
          5.300000190734863,
          5.367021083831787,
          5.400000095367432,
          5.462621688842773,
          5.5,
          5.536498546600342,
          5.599999904632568,
          5.656597137451172,
          5.699999809265137,
          5.754168510437012,
          5.800000190734863,
          5.851429462432861,
          5.900000095367432,
          5.9481730461120605,
          6,
          6.043659210205078,
          6.099999904632568,
          6.134323596954346,
          6.199999809265137,
          6.2382707595825195,
          6.300000190734863,
          6.3480000495910645,
          6.400000095367432,
          6.4546403884887695,
          6.5,
          6.5613694190979,
          6.599999904632568,
          6.670286655426025,
          6.699999809265137,
          6.789289474487305,
          6.800000190734863,
          6.890106678009033,
          6.900000095367432,
          6.973928928375244,
          7,
          7.067169189453125,
          7.099999904632568,
          7.162896633148193,
          7.199999809265137,
          7.250402450561523,
          7.300000190734863,
          7.357054233551025,
          7.400000095367432,
          7.454654216766357,
          7.5,
          7.552043914794922,
          7.599999904632568,
          7.649020195007324,
          7.699999809265137,
          7.745050430297852,
          7.800000190734863,
          7.83828592300415,
          7.900000095367432,
          7.940865516662598,
          8,
          8.049529075622559,
          8.100000381469727,
          8.156005859375,
          8.199999809265137,
          8.262760162353516,
          8.300000190734863,
          8.372523307800293,
          8.399999618530273,
          8.492581367492676,
          8.5,
          8.58840274810791,
          8.600000381469727,
          8.674553871154785,
          8.699999809265137,
          8.768059730529785,
          8.800000190734863,
          8.863948822021484,
          8.899999618530273,
          8.960468292236328,
          9,
          9.058411598205566,
          9.100000381469727,
          9.155864715576172,
          9.199999809265137,
          9.25362777709961,
          9.300000190734863,
          9.35145378112793,
          9.399999618530273,
          9.448365211486816,
          9.5,
          9.543825149536133,
          9.600000381469727,
          9.645764350891113,
          9.699999809265137,
          9.75305461883545,
          9.800000190734863,
          9.859171867370605,
          9.899999618530273
         ],
         "y": [
          0,
          -0.00046479044249281287,
          -0.005104131065309048,
          -0.050650931894779205,
          -0.42973968386650085,
          -0.4316043257713318,
          -0.5452916026115417,
          -0.6724309325218201,
          -0.7516663074493408,
          -0.7549000978469849,
          -0.7847843170166016,
          -0.7184581756591797,
          -0.7134732604026794,
          -0.6149934530258179,
          -0.5909693837165833,
          -0.48598918318748474,
          -0.45412614941596985,
          -0.35407963395118713,
          -0.321283221244812,
          -0.2288658767938614,
          -0.19921089708805084,
          -0.11308302730321884,
          -0.08947285264730453,
          -0.006281265523284674,
          0.0037375360261648893,
          0.0929778441786766,
          0.11296301335096359,
          0.18572047352790833,
          0.2083122283220291,
          0.2716732323169708,
          0.2938712239265442,
          0.3489060401916504,
          0.36849573254585266,
          0.4141117334365845,
          0.42931151390075684,
          0.4633610248565674,
          0.4727872610092163,
          0.4930429756641388,
          0.494652658700943,
          0.500490128993988,
          0.4873041808605194,
          0.4851429760456085,
          0.4653819501399994,
          0.44871246814727783,
          0.4259222149848938,
          0.3955346941947937,
          0.38990652561187744,
          0.33138349652290344,
          0.30676037073135376,
          0.26203617453575134,
          0.23859792947769165,
          0.19213269650936127,
          0.17101387679576874,
          0.12482821196317673,
          0.10696379095315933,
          0.062108732759952545,
          0.04843974485993385,
          0.005202950909733772,
          -0.001213500159792602,
          -0.04508599266409874,
          -0.05352688580751419,
          -0.08821402490139008,
          -0.09789641946554184,
          -0.12373746931552887,
          -0.13270562887191772,
          -0.15130987763404846,
          -0.15864500403404236,
          -0.17073334753513336,
          -0.17574676871299744,
          -0.18202649056911469,
          -0.18394188582897186,
          -0.18549975752830505,
          -0.18197977542877197,
          -0.18175636231899261,
          -0.17518942058086395,
          -0.17170122265815735,
          -0.16355648636817932,
          -0.15643806755542755,
          -0.14743304252624512,
          -0.1372351348400116,
          -0.13403598964214325,
          -0.11536826193332672,
          -0.10620754212141037,
          -0.09205228835344315,
          -0.08339304476976395,
          -0.06836337596178055,
          -0.06059234216809273,
          -0.045232709497213364,
          -0.038650620728731155,
          -0.023431552574038506,
          -0.018337076529860497,
          -0.0035668069031089544,
          -0.00067416817182675,
          0.013904285617172718,
          0.01686236821115017,
          0.028676068410277367,
          0.03207610175013542,
          0.040554601699113846,
          0.04366203397512436,
          0.04948712885379791,
          0.05197862908244133,
          0.05551804602146149,
          0.05716371908783913,
          0.058788783848285675,
          0.059296444058418274,
          0.05951385945081711,
          0.05815156549215317,
          0.05798656493425369,
          0.05582873895764351,
          0.05454326048493385,
          0.05190141126513481,
          0.04955439269542694,
          0.04664883017539978,
          0.043394528329372406,
          0.04193422198295593,
          0.03643523529171944,
          0.033492930233478546,
          0.029040465131402016,
          0.026266612112522125,
          0.021536244079470634,
          0.01904875598847866,
          0.014207272790372372,
          0.012098856270313263,
          0.007298905402421951,
          0.005656635854393244,
          0.001006484031677246,
          5.459296971821459e-06,
          -0.004524072166532278,
          -0.005502582527697086,
          -0.009183710440993309,
          -0.010280638001859188,
          -0.012916852720081806,
          -0.013911833986639977,
          -0.015706811100244522,
          -0.016497902572155,
          -0.017571914941072464,
          -0.01808529533445835,
          -0.018561825156211853,
          -0.018702678382396698,
          -0.018752185627818108,
          -0.01831098459661007,
          -0.01824093610048294,
          -0.017541350796818733,
          -0.017125168815255165,
          -0.016282260417938232,
          -0.015537751838564873,
          -0.014610594138503075,
          -0.01358605083078146,
          -0.012848169542849064,
          -0.0113900201395154,
          -0.010451200418174267,
          -0.009059982374310493,
          -0.008174153976142406,
          -0.006697603035718203,
          -0.00590039836242795,
          -0.004392838105559349,
          -0.003712886245921254,
          -0.002223934279754758,
          -0.0016830184031277895,
          -0.00024908664636313915,
          0.00011890568566741422,
          0.0014821350341662765,
          0.0018263575620949268,
          0.0029482506215572357,
          0.0033025825396180153,
          0.004104035906493664,
          0.004425051622092724,
          0.004969468340277672,
          0.005223608110100031,
          0.00554600078612566,
          0.005720102693885565,
          0.0058568245731294155,
          0.005891839507967234,
          0.005901191849261522,
          0.005763683933764696,
          0.005736077670007944,
          0.005504588596522808,
          0.0053718723356723785,
          0.005094427149742842,
          0.004861301276832819,
          0.004558189306408167,
          0.0042407214641571045,
          0.003931489307433367,
          0.0035456048790365458,
          0.003237095894291997,
          0.0028100053314119577,
          0.0025315636303275824,
          0.002080342033877969,
          0.0018231909489259124,
          0.0013617954682558775,
          0.0011253588600084186,
          0.0006706890999339521,
          0.00047911310684867203,
          4.843230271944776e-05,
          -9.41585676628165e-05,
          -0.0004946169210597873,
          -0.0006197742186486721,
          -0.0009473615791648626,
          -0.0010714333038777113,
          -0.0013074305607005954,
          -0.001415313221514225,
          -0.0015735019696876407
         ]
        },
        {
         "type": "scatter",
         "x": [
          0,
          8.953241922426969e-05,
          0.0009848566260188818,
          0.00993809849023819,
          0.09947051852941513,
          0.10000000149011612,
          0.1366489976644516,
          0.20000000298023224,
          0.24696865677833557,
          0.30000001192092896,
          0.3484542965888977,
          0.4000000059604645,
          0.44839751720428467,
          0.5,
          0.548477053642273,
          0.6000000238418579,
          0.6483030319213867,
          0.699999988079071,
          0.7473927140235901,
          0.800000011920929,
          0.8451878428459167,
          0.8999999761581421,
          0.940567672252655,
          1,
          1.0240044593811035,
          1.100000023841858,
          1.140533447265625,
          1.2000000476837158,
          1.2469934225082397,
          1.2999999523162842,
          1.3511568307876587,
          1.399999976158142,
          1.4546005725860596,
          1.5,
          1.5582518577575684,
          1.600000023841858,
          1.663381814956665,
          1.7000000476837158,
          1.773718237876892,
          1.7999999523162842,
          1.8882988691329956,
          1.899999976158142,
          1.9690114259719849,
          2,
          2.0612401962280273,
          2.0999999046325684,
          2.1223666667938232,
          2.200000047683716,
          2.2546534538269043,
          2.299999952316284,
          2.3524322509765625,
          2.4000000953674316,
          2.4500293731689453,
          2.5,
          2.5469272136688232,
          2.5999999046325684,
          2.6420998573303223,
          2.700000047683716,
          2.727797746658325,
          2.799999952316284,
          2.837567090988159,
          2.9000000953674316,
          2.9470036029815674,
          3,
          3.053107500076294,
          3.0999999046325684,
          3.1589670181274414,
          3.200000047683716,
          3.2662229537963867,
          3.299999952316284,
          3.379117250442505,
          3.4000000953674316,
          3.4948649406433105,
          3.5,
          3.575622797012329,
          3.5999999046325684,
          3.6673476696014404,
          3.700000047683716,
          3.762528657913208,
          3.799999952316284,
          3.8284196853637695,
          3.9000000953674316,
          3.9563252925872803,
          4,
          4.0539116859436035,
          4.099999904632568,
          4.1511759757995605,
          4.199999809265137,
          4.247879981994629,
          4.300000190734863,
          4.34318733215332,
          4.400000095367432,
          4.432353973388672,
          4.5,
          4.53712272644043,
          4.599999904632568,
          4.647309303283691,
          4.699999809265137,
          4.753960132598877,
          4.800000190734863,
          4.860576629638672,
          4.900000095367432,
          4.969196319580078,
          5,
          5.086827754974365,
          5.099999904632568,
          5.192050457000732,
          5.199999809265137,
          5.273937702178955,
          5.300000190734863,
          5.367021083831787,
          5.400000095367432,
          5.462621688842773,
          5.5,
          5.536498546600342,
          5.599999904632568,
          5.656597137451172,
          5.699999809265137,
          5.754168510437012,
          5.800000190734863,
          5.851429462432861,
          5.900000095367432,
          5.9481730461120605,
          6,
          6.043659210205078,
          6.099999904632568,
          6.134323596954346,
          6.199999809265137,
          6.2382707595825195,
          6.300000190734863,
          6.3480000495910645,
          6.400000095367432,
          6.4546403884887695,
          6.5,
          6.5613694190979,
          6.599999904632568,
          6.670286655426025,
          6.699999809265137,
          6.789289474487305,
          6.800000190734863,
          6.890106678009033,
          6.900000095367432,
          6.973928928375244,
          7,
          7.067169189453125,
          7.099999904632568,
          7.162896633148193,
          7.199999809265137,
          7.250402450561523,
          7.300000190734863,
          7.357054233551025,
          7.400000095367432,
          7.454654216766357,
          7.5,
          7.552043914794922,
          7.599999904632568,
          7.649020195007324,
          7.699999809265137,
          7.745050430297852,
          7.800000190734863,
          7.83828592300415,
          7.900000095367432,
          7.940865516662598,
          8,
          8.049529075622559,
          8.100000381469727,
          8.156005859375,
          8.199999809265137,
          8.262760162353516,
          8.300000190734863,
          8.372523307800293,
          8.399999618530273,
          8.492581367492676,
          8.5,
          8.58840274810791,
          8.600000381469727,
          8.674553871154785,
          8.699999809265137,
          8.768059730529785,
          8.800000190734863,
          8.863948822021484,
          8.899999618530273,
          8.960468292236328,
          9,
          9.058411598205566,
          9.100000381469727,
          9.155864715576172,
          9.199999809265137,
          9.25362777709961,
          9.300000190734863,
          9.35145378112793,
          9.399999618530273,
          9.448365211486816,
          9.5,
          9.543825149536133,
          9.600000381469727,
          9.645764350891113,
          9.699999809265137,
          9.75305461883545,
          9.800000190734863,
          9.859171867370605,
          9.899999618530273
         ],
         "y": [
          0,
          0.0013277893885970116,
          0.014582833275198936,
          0.14487077295780182,
          1.2406481504440308,
          1.246092677116394,
          1.5809131860733032,
          1.9701160192489624,
          2.2155990600585938,
          2.2595579624176025,
          2.3696141242980957,
          2.2189419269561768,
          2.2281124591827393,
          1.9777168035507202,
          1.9228895902633667,
          1.6360145807266235,
          1.5430933237075806,
          1.2484049797058105,
          1.1356452703475952,
          0.8416149616241455,
          0.7243759632110596,
          0.4308367967605591,
          0.3257804811000824,
          0.02782541513442993,
          -0.024612829089164734,
          -0.3561570346355438,
          -0.4507133364677429,
          -0.7099735736846924,
          -0.8091421127319336,
          -1.023074746131897,
          -1.1117901802062988,
          -1.286018967628479,
          -1.3559836149215698,
          -1.4910199642181396,
          -1.538171410560608,
          -1.6323747634887695,
          -1.6551446914672852,
          -1.70675790309906,
          -1.70134437084198,
          -1.7128793001174927,
          -1.6614278554916382,
          -1.6533246040344238,
          -1.5860023498535156,
          -1.5345557928085327,
          -1.4591625928878784,
          -1.3682314157485962,
          -1.3472708463668823,
          -1.1689283847808838,
          -1.0860449075698853,
          -0.9512962102890015,
          -0.8699550628662109,
          -0.7276628017425537,
          -0.6514756083488464,
          -0.5072873830795288,
          -0.43987616896629333,
          -0.29703488945961,
          -0.24258780479431152,
          -0.10213939845561981,
          -0.07349084317684174,
          0.07327353954315186,
          0.1102428212761879,
          0.2260424643754959,
          0.26782217621803284,
          0.353729784488678,
          0.39279037714004517,
          0.4546758532524109,
          0.4876079261302948,
          0.5280947685241699,
          0.5525986552238464,
          0.5741484761238098,
          0.5880559086799622,
          0.5940176844596863,
          0.5901989936828613,
          0.5897893905639648,
          0.5737269520759583,
          0.5644019842147827,
          0.5414749383926392,
          0.5213335156440735,
          0.4941539168357849,
          0.464503675699234,
          0.4538588225841522,
          0.3978635370731354,
          0.3677705228328705,
          0.32522130012512207,
          0.29581397771835327,
          0.25003427267074585,
          0.22276507318019867,
          0.17537958920001984,
          0.15145981311798096,
          0.10389288514852524,
          0.08457431197166443,
          0.037730757147073746,
          0.025874795392155647,
          -0.021413717418909073,
          -0.033710088580846786,
          -0.07233379781246185,
          -0.0863991305232048,
          -0.11421225219964981,
          -0.1273709237575531,
          -0.14670194685459137,
          -0.15779533982276917,
          -0.16980309784412384,
          -0.17805665731430054,
          -0.18385367095470428,
          -0.18848349153995514,
          -0.1894541233778,
          -0.1877995729446411,
          -0.18747080862522125,
          -0.18232132494449615,
          -0.1789291352033615,
          -0.17158257961273193,
          -0.16497907042503357,
          -0.15625374019145966,
          -0.14680546522140503,
          -0.1420394480228424,
          -0.12560038268566132,
          -0.11593745648860931,
          -0.10254254192113876,
          -0.09312330931425095,
          -0.07870850712060928,
          -0.0699874684214592,
          -0.055056601762771606,
          -0.04741014167666435,
          -0.03242601826786995,
          -0.02622217871248722,
          -0.011503234505653381,
          -0.007454275153577328,
          0.007180180866271257,
          0.011214224621653557,
          0.023216543719172478,
          0.027731141075491905,
          0.03636765107512474,
          0.04056767001748085,
          0.046525754034519196,
          0.050049133598804474,
          0.05370207130908966,
          0.056302089244127274,
          0.05801500752568245,
          0.059442371129989624,
          0.05967332422733307,
          0.05910651385784149,
          0.05896321311593056,
          0.05728365108370781,
          0.05618337541818619,
          0.053835466504096985,
          0.05173949897289276,
          0.048952989280223846,
          0.04597723111510277,
          0.04361749067902565,
          0.03928080201148987,
          0.03619705140590668,
          0.03201083466410637,
          0.029003901407122612,
          0.02450425922870636,
          0.021712252870202065,
          0.01706390455365181,
          0.014602519571781158,
          0.00995654333382845,
          0.007922651246190071,
          0.003389120800420642,
          0.0019254627404734492,
          -0.0024617898743599653,
          -0.003855951828882098,
          -0.0075025190599262714,
          -0.00896015390753746,
          -0.011584368534386158,
          -0.012935228645801544,
          -0.014741255901753902,
          -0.015869278460741043,
          -0.016965528950095177,
          -0.017823660746216774,
          -0.01831468567252159,
          -0.018742995336651802,
          -0.01878884620964527,
          -0.018606148660182953,
          -0.0185480248183012,
          -0.01798504777252674,
          -0.01763252168893814,
          -0.016856713220477104,
          -0.016199424862861633,
          -0.015287386253476143,
          -0.014364674687385559,
          -0.013387417420744896,
          -0.012243307195603848,
          -0.011232070624828339,
          -0.009947150945663452,
          -0.008996478281915188,
          -0.007620621006935835,
          -0.00671855453401804,
          -0.005296846851706505,
          -0.004452194087207317,
          -0.003037454094737768,
          -0.0023271292448043823,
          -0.0009694099426269531,
          -0.0004162884724792093,
          0.000865607347805053,
          0.0013658477691933513,
          0.0024266336113214493,
          0.0029285461641848087,
          0.0036987250205129385,
          0.004148697946220636,
          0.00467238575220108
         ]
        }
       ],
       "layout": {
        "template": {
         "data": {
          "bar": [
           {
            "error_x": {
             "color": "#2a3f5f"
            },
            "error_y": {
             "color": "#2a3f5f"
            },
            "marker": {
             "line": {
              "color": "#E5ECF6",
              "width": 0.5
             }
            },
            "type": "bar"
           }
          ],
          "barpolar": [
           {
            "marker": {
             "line": {
              "color": "#E5ECF6",
              "width": 0.5
             }
            },
            "type": "barpolar"
           }
          ],
          "carpet": [
           {
            "aaxis": {
             "endlinecolor": "#2a3f5f",
             "gridcolor": "white",
             "linecolor": "white",
             "minorgridcolor": "white",
             "startlinecolor": "#2a3f5f"
            },
            "baxis": {
             "endlinecolor": "#2a3f5f",
             "gridcolor": "white",
             "linecolor": "white",
             "minorgridcolor": "white",
             "startlinecolor": "#2a3f5f"
            },
            "type": "carpet"
           }
          ],
          "choropleth": [
           {
            "colorbar": {
             "outlinewidth": 0,
             "ticks": ""
            },
            "type": "choropleth"
           }
          ],
          "contour": [
           {
            "colorbar": {
             "outlinewidth": 0,
             "ticks": ""
            },
            "colorscale": [
             [
              0,
              "#0d0887"
             ],
             [
              0.1111111111111111,
              "#46039f"
             ],
             [
              0.2222222222222222,
              "#7201a8"
             ],
             [
              0.3333333333333333,
              "#9c179e"
             ],
             [
              0.4444444444444444,
              "#bd3786"
             ],
             [
              0.5555555555555556,
              "#d8576b"
             ],
             [
              0.6666666666666666,
              "#ed7953"
             ],
             [
              0.7777777777777778,
              "#fb9f3a"
             ],
             [
              0.8888888888888888,
              "#fdca26"
             ],
             [
              1,
              "#f0f921"
             ]
            ],
            "type": "contour"
           }
          ],
          "contourcarpet": [
           {
            "colorbar": {
             "outlinewidth": 0,
             "ticks": ""
            },
            "type": "contourcarpet"
           }
          ],
          "heatmap": [
           {
            "colorbar": {
             "outlinewidth": 0,
             "ticks": ""
            },
            "colorscale": [
             [
              0,
              "#0d0887"
             ],
             [
              0.1111111111111111,
              "#46039f"
             ],
             [
              0.2222222222222222,
              "#7201a8"
             ],
             [
              0.3333333333333333,
              "#9c179e"
             ],
             [
              0.4444444444444444,
              "#bd3786"
             ],
             [
              0.5555555555555556,
              "#d8576b"
             ],
             [
              0.6666666666666666,
              "#ed7953"
             ],
             [
              0.7777777777777778,
              "#fb9f3a"
             ],
             [
              0.8888888888888888,
              "#fdca26"
             ],
             [
              1,
              "#f0f921"
             ]
            ],
            "type": "heatmap"
           }
          ],
          "heatmapgl": [
           {
            "colorbar": {
             "outlinewidth": 0,
             "ticks": ""
            },
            "colorscale": [
             [
              0,
              "#0d0887"
             ],
             [
              0.1111111111111111,
              "#46039f"
             ],
             [
              0.2222222222222222,
              "#7201a8"
             ],
             [
              0.3333333333333333,
              "#9c179e"
             ],
             [
              0.4444444444444444,
              "#bd3786"
             ],
             [
              0.5555555555555556,
              "#d8576b"
             ],
             [
              0.6666666666666666,
              "#ed7953"
             ],
             [
              0.7777777777777778,
              "#fb9f3a"
             ],
             [
              0.8888888888888888,
              "#fdca26"
             ],
             [
              1,
              "#f0f921"
             ]
            ],
            "type": "heatmapgl"
           }
          ],
          "histogram": [
           {
            "marker": {
             "colorbar": {
              "outlinewidth": 0,
              "ticks": ""
             }
            },
            "type": "histogram"
           }
          ],
          "histogram2d": [
           {
            "colorbar": {
             "outlinewidth": 0,
             "ticks": ""
            },
            "colorscale": [
             [
              0,
              "#0d0887"
             ],
             [
              0.1111111111111111,
              "#46039f"
             ],
             [
              0.2222222222222222,
              "#7201a8"
             ],
             [
              0.3333333333333333,
              "#9c179e"
             ],
             [
              0.4444444444444444,
              "#bd3786"
             ],
             [
              0.5555555555555556,
              "#d8576b"
             ],
             [
              0.6666666666666666,
              "#ed7953"
             ],
             [
              0.7777777777777778,
              "#fb9f3a"
             ],
             [
              0.8888888888888888,
              "#fdca26"
             ],
             [
              1,
              "#f0f921"
             ]
            ],
            "type": "histogram2d"
           }
          ],
          "histogram2dcontour": [
           {
            "colorbar": {
             "outlinewidth": 0,
             "ticks": ""
            },
            "colorscale": [
             [
              0,
              "#0d0887"
             ],
             [
              0.1111111111111111,
              "#46039f"
             ],
             [
              0.2222222222222222,
              "#7201a8"
             ],
             [
              0.3333333333333333,
              "#9c179e"
             ],
             [
              0.4444444444444444,
              "#bd3786"
             ],
             [
              0.5555555555555556,
              "#d8576b"
             ],
             [
              0.6666666666666666,
              "#ed7953"
             ],
             [
              0.7777777777777778,
              "#fb9f3a"
             ],
             [
              0.8888888888888888,
              "#fdca26"
             ],
             [
              1,
              "#f0f921"
             ]
            ],
            "type": "histogram2dcontour"
           }
          ],
          "mesh3d": [
           {
            "colorbar": {
             "outlinewidth": 0,
             "ticks": ""
            },
            "type": "mesh3d"
           }
          ],
          "parcoords": [
           {
            "line": {
             "colorbar": {
              "outlinewidth": 0,
              "ticks": ""
             }
            },
            "type": "parcoords"
           }
          ],
          "pie": [
           {
            "automargin": true,
            "type": "pie"
           }
          ],
          "scatter": [
           {
            "marker": {
             "colorbar": {
              "outlinewidth": 0,
              "ticks": ""
             }
            },
            "type": "scatter"
           }
          ],
          "scatter3d": [
           {
            "line": {
             "colorbar": {
              "outlinewidth": 0,
              "ticks": ""
             }
            },
            "marker": {
             "colorbar": {
              "outlinewidth": 0,
              "ticks": ""
             }
            },
            "type": "scatter3d"
           }
          ],
          "scattercarpet": [
           {
            "marker": {
             "colorbar": {
              "outlinewidth": 0,
              "ticks": ""
             }
            },
            "type": "scattercarpet"
           }
          ],
          "scattergeo": [
           {
            "marker": {
             "colorbar": {
              "outlinewidth": 0,
              "ticks": ""
             }
            },
            "type": "scattergeo"
           }
          ],
          "scattergl": [
           {
            "marker": {
             "colorbar": {
              "outlinewidth": 0,
              "ticks": ""
             }
            },
            "type": "scattergl"
           }
          ],
          "scattermapbox": [
           {
            "marker": {
             "colorbar": {
              "outlinewidth": 0,
              "ticks": ""
             }
            },
            "type": "scattermapbox"
           }
          ],
          "scatterpolar": [
           {
            "marker": {
             "colorbar": {
              "outlinewidth": 0,
              "ticks": ""
             }
            },
            "type": "scatterpolar"
           }
          ],
          "scatterpolargl": [
           {
            "marker": {
             "colorbar": {
              "outlinewidth": 0,
              "ticks": ""
             }
            },
            "type": "scatterpolargl"
           }
          ],
          "scatterternary": [
           {
            "marker": {
             "colorbar": {
              "outlinewidth": 0,
              "ticks": ""
             }
            },
            "type": "scatterternary"
           }
          ],
          "surface": [
           {
            "colorbar": {
             "outlinewidth": 0,
             "ticks": ""
            },
            "colorscale": [
             [
              0,
              "#0d0887"
             ],
             [
              0.1111111111111111,
              "#46039f"
             ],
             [
              0.2222222222222222,
              "#7201a8"
             ],
             [
              0.3333333333333333,
              "#9c179e"
             ],
             [
              0.4444444444444444,
              "#bd3786"
             ],
             [
              0.5555555555555556,
              "#d8576b"
             ],
             [
              0.6666666666666666,
              "#ed7953"
             ],
             [
              0.7777777777777778,
              "#fb9f3a"
             ],
             [
              0.8888888888888888,
              "#fdca26"
             ],
             [
              1,
              "#f0f921"
             ]
            ],
            "type": "surface"
           }
          ],
          "table": [
           {
            "cells": {
             "fill": {
              "color": "#EBF0F8"
             },
             "line": {
              "color": "white"
             }
            },
            "header": {
             "fill": {
              "color": "#C8D4E3"
             },
             "line": {
              "color": "white"
             }
            },
            "type": "table"
           }
          ]
         },
         "layout": {
          "annotationdefaults": {
           "arrowcolor": "#2a3f5f",
           "arrowhead": 0,
           "arrowwidth": 1
          },
          "coloraxis": {
           "colorbar": {
            "outlinewidth": 0,
            "ticks": ""
           }
          },
          "colorscale": {
           "diverging": [
            [
             0,
             "#8e0152"
            ],
            [
             0.1,
             "#c51b7d"
            ],
            [
             0.2,
             "#de77ae"
            ],
            [
             0.3,
             "#f1b6da"
            ],
            [
             0.4,
             "#fde0ef"
            ],
            [
             0.5,
             "#f7f7f7"
            ],
            [
             0.6,
             "#e6f5d0"
            ],
            [
             0.7,
             "#b8e186"
            ],
            [
             0.8,
             "#7fbc41"
            ],
            [
             0.9,
             "#4d9221"
            ],
            [
             1,
             "#276419"
            ]
           ],
           "sequential": [
            [
             0,
             "#0d0887"
            ],
            [
             0.1111111111111111,
             "#46039f"
            ],
            [
             0.2222222222222222,
             "#7201a8"
            ],
            [
             0.3333333333333333,
             "#9c179e"
            ],
            [
             0.4444444444444444,
             "#bd3786"
            ],
            [
             0.5555555555555556,
             "#d8576b"
            ],
            [
             0.6666666666666666,
             "#ed7953"
            ],
            [
             0.7777777777777778,
             "#fb9f3a"
            ],
            [
             0.8888888888888888,
             "#fdca26"
            ],
            [
             1,
             "#f0f921"
            ]
           ],
           "sequentialminus": [
            [
             0,
             "#0d0887"
            ],
            [
             0.1111111111111111,
             "#46039f"
            ],
            [
             0.2222222222222222,
             "#7201a8"
            ],
            [
             0.3333333333333333,
             "#9c179e"
            ],
            [
             0.4444444444444444,
             "#bd3786"
            ],
            [
             0.5555555555555556,
             "#d8576b"
            ],
            [
             0.6666666666666666,
             "#ed7953"
            ],
            [
             0.7777777777777778,
             "#fb9f3a"
            ],
            [
             0.8888888888888888,
             "#fdca26"
            ],
            [
             1,
             "#f0f921"
            ]
           ]
          },
          "colorway": [
           "#636efa",
           "#EF553B",
           "#00cc96",
           "#ab63fa",
           "#FFA15A",
           "#19d3f3",
           "#FF6692",
           "#B6E880",
           "#FF97FF",
           "#FECB52"
          ],
          "font": {
           "color": "#2a3f5f"
          },
          "geo": {
           "bgcolor": "white",
           "lakecolor": "white",
           "landcolor": "#E5ECF6",
           "showlakes": true,
           "showland": true,
           "subunitcolor": "white"
          },
          "hoverlabel": {
           "align": "left"
          },
          "hovermode": "closest",
          "mapbox": {
           "style": "light"
          },
          "paper_bgcolor": "white",
          "plot_bgcolor": "#E5ECF6",
          "polar": {
           "angularaxis": {
            "gridcolor": "white",
            "linecolor": "white",
            "ticks": ""
           },
           "bgcolor": "#E5ECF6",
           "radialaxis": {
            "gridcolor": "white",
            "linecolor": "white",
            "ticks": ""
           }
          },
          "scene": {
           "xaxis": {
            "backgroundcolor": "#E5ECF6",
            "gridcolor": "white",
            "gridwidth": 2,
            "linecolor": "white",
            "showbackground": true,
            "ticks": "",
            "zerolinecolor": "white"
           },
           "yaxis": {
            "backgroundcolor": "#E5ECF6",
            "gridcolor": "white",
            "gridwidth": 2,
            "linecolor": "white",
            "showbackground": true,
            "ticks": "",
            "zerolinecolor": "white"
           },
           "zaxis": {
            "backgroundcolor": "#E5ECF6",
            "gridcolor": "white",
            "gridwidth": 2,
            "linecolor": "white",
            "showbackground": true,
            "ticks": "",
            "zerolinecolor": "white"
           }
          },
          "shapedefaults": {
           "line": {
            "color": "#2a3f5f"
           }
          },
          "ternary": {
           "aaxis": {
            "gridcolor": "white",
            "linecolor": "white",
            "ticks": ""
           },
           "baxis": {
            "gridcolor": "white",
            "linecolor": "white",
            "ticks": ""
           },
           "bgcolor": "#E5ECF6",
           "caxis": {
            "gridcolor": "white",
            "linecolor": "white",
            "ticks": ""
           }
          },
          "title": {
           "x": 0.05
          },
          "xaxis": {
           "automargin": true,
           "gridcolor": "white",
           "linecolor": "white",
           "ticks": "",
           "title": {
            "standoff": 15
           },
           "zerolinecolor": "white",
           "zerolinewidth": 2
          },
          "yaxis": {
           "automargin": true,
           "gridcolor": "white",
           "linecolor": "white",
           "ticks": "",
           "title": {
            "standoff": 15
           },
           "zerolinecolor": "white",
           "zerolinewidth": 2
          }
         }
        }
       }
      },
      "text/html": [
       "<div>\n",
       "        \n",
       "        \n",
       "            <div id=\"21ea39db-ffb8-4ba3-bdd7-73f9f50df740\" class=\"plotly-graph-div\" style=\"height:525px; width:100%;\"></div>\n",
       "            <script type=\"text/javascript\">\n",
       "                require([\"plotly\"], function(Plotly) {\n",
       "                    window.PLOTLYENV=window.PLOTLYENV || {};\n",
       "                    \n",
       "                if (document.getElementById(\"21ea39db-ffb8-4ba3-bdd7-73f9f50df740\")) {\n",
       "                    Plotly.newPlot(\n",
       "                        '21ea39db-ffb8-4ba3-bdd7-73f9f50df740',\n",
       "                        [{\"type\": \"scatter\", \"x\": [0.0, 8.953241922426969e-05, 0.0009848566260188818, 0.00993809849023819, 0.09947051852941513, 0.10000000149011612, 0.1366489976644516, 0.20000000298023224, 0.24696865677833557, 0.30000001192092896, 0.3484542965888977, 0.4000000059604645, 0.44839751720428467, 0.5, 0.548477053642273, 0.6000000238418579, 0.6483030319213867, 0.699999988079071, 0.7473927140235901, 0.800000011920929, 0.8451878428459167, 0.8999999761581421, 0.940567672252655, 1.0, 1.0240044593811035, 1.100000023841858, 1.140533447265625, 1.2000000476837158, 1.2469934225082397, 1.2999999523162842, 1.3511568307876587, 1.399999976158142, 1.4546005725860596, 1.5, 1.5582518577575684, 1.600000023841858, 1.663381814956665, 1.7000000476837158, 1.773718237876892, 1.7999999523162842, 1.8882988691329956, 1.899999976158142, 1.9690114259719849, 2.0, 2.0612401962280273, 2.0999999046325684, 2.1223666667938232, 2.200000047683716, 2.2546534538269043, 2.299999952316284, 2.3524322509765625, 2.4000000953674316, 2.4500293731689453, 2.5, 2.5469272136688232, 2.5999999046325684, 2.6420998573303223, 2.700000047683716, 2.727797746658325, 2.799999952316284, 2.837567090988159, 2.9000000953674316, 2.9470036029815674, 3.0, 3.053107500076294, 3.0999999046325684, 3.1589670181274414, 3.200000047683716, 3.2662229537963867, 3.299999952316284, 3.379117250442505, 3.4000000953674316, 3.4948649406433105, 3.5, 3.575622797012329, 3.5999999046325684, 3.6673476696014404, 3.700000047683716, 3.762528657913208, 3.799999952316284, 3.8284196853637695, 3.9000000953674316, 3.9563252925872803, 4.0, 4.0539116859436035, 4.099999904632568, 4.1511759757995605, 4.199999809265137, 4.247879981994629, 4.300000190734863, 4.34318733215332, 4.400000095367432, 4.432353973388672, 4.5, 4.53712272644043, 4.599999904632568, 4.647309303283691, 4.699999809265137, 4.753960132598877, 4.800000190734863, 4.860576629638672, 4.900000095367432, 4.969196319580078, 5.0, 5.086827754974365, 5.099999904632568, 5.192050457000732, 5.199999809265137, 5.273937702178955, 5.300000190734863, 5.367021083831787, 5.400000095367432, 5.462621688842773, 5.5, 5.536498546600342, 5.599999904632568, 5.656597137451172, 5.699999809265137, 5.754168510437012, 5.800000190734863, 5.851429462432861, 5.900000095367432, 5.9481730461120605, 6.0, 6.043659210205078, 6.099999904632568, 6.134323596954346, 6.199999809265137, 6.2382707595825195, 6.300000190734863, 6.3480000495910645, 6.400000095367432, 6.4546403884887695, 6.5, 6.5613694190979, 6.599999904632568, 6.670286655426025, 6.699999809265137, 6.789289474487305, 6.800000190734863, 6.890106678009033, 6.900000095367432, 6.973928928375244, 7.0, 7.067169189453125, 7.099999904632568, 7.162896633148193, 7.199999809265137, 7.250402450561523, 7.300000190734863, 7.357054233551025, 7.400000095367432, 7.454654216766357, 7.5, 7.552043914794922, 7.599999904632568, 7.649020195007324, 7.699999809265137, 7.745050430297852, 7.800000190734863, 7.83828592300415, 7.900000095367432, 7.940865516662598, 8.0, 8.049529075622559, 8.100000381469727, 8.156005859375, 8.199999809265137, 8.262760162353516, 8.300000190734863, 8.372523307800293, 8.399999618530273, 8.492581367492676, 8.5, 8.58840274810791, 8.600000381469727, 8.674553871154785, 8.699999809265137, 8.768059730529785, 8.800000190734863, 8.863948822021484, 8.899999618530273, 8.960468292236328, 9.0, 9.058411598205566, 9.100000381469727, 9.155864715576172, 9.199999809265137, 9.25362777709961, 9.300000190734863, 9.35145378112793, 9.399999618530273, 9.448365211486816, 9.5, 9.543825149536133, 9.600000381469727, 9.645764350891113, 9.699999809265137, 9.75305461883545, 9.800000190734863, 9.859171867370605, 9.899999618530273], \"y\": [3.2415926456451416, 3.2415926456451416, 3.2415900230407715, 3.2413394451141357, 3.218851327896118, 3.218623161315918, 3.2006309032440186, 3.161599636077881, 3.127869129180908, 3.087526798248291, 3.0498461723327637, 3.010690450668335, 2.9756760597229004, 2.941012144088745, 2.9114694595336914, 2.883394479751587, 2.8604366779327393, 2.8392653465270996, 2.823066234588623, 2.8083436489105225, 2.7985289096832275, 2.7897205352783203, 2.7855215072631836, 2.782386302947998, 2.7823386192321777, 2.785447597503662, 2.789543390274048, 2.7981579303741455, 2.807298421859741, 2.819833278656006, 2.8341524600982666, 2.84970760345459, 2.869127035140991, 2.8867850303649902, 2.911177396774292, 2.929739475250244, 2.9592432975769043, 2.9768917560577393, 3.0131685733795166, 3.0262393951416016, 3.069889545440674, 3.0755789279937744, 3.1085128784179688, 3.1226887702941895, 3.1496262550354004, 3.165586471557617, 3.174379587173462, 3.202770948410034, 3.2203547954559326, 3.233335018157959, 3.246586561203003, 3.2569265365600586, 3.2661149501800537, 3.2736120223999023, 3.279129981994629, 3.28373384475708, 3.2861125469207764, 3.287804365158081, 3.2878730297088623, 3.2864418029785156, 3.2846181392669678, 3.2803306579589844, 3.2760043144226074, 3.270203113555908, 3.263449192047119, 3.2568302154541016, 3.247748613357544, 3.241011142730713, 3.229590892791748, 3.2235560417175293, 3.2091197967529297, 3.205263137817383, 3.187824010848999, 3.186890125274658, 3.173353672027588, 3.169124126434326, 3.1577863693237305, 3.1525561809539795, 3.1430046558380127, 3.137659788131714, 3.1337993144989014, 3.1247811317443848, 3.1184935569763184, 3.1141412258148193, 3.1093695163726807, 3.105844736099243, 3.1025094985961914, 3.099893808364868, 3.097857713699341, 3.0962026119232178, 3.0952820777893066, 3.0946154594421387, 3.0945398807525635, 3.094921350479126, 3.0954833030700684, 3.0968692302703857, 3.0982909202575684, 3.100182294845581, 3.1024365425109863, 3.104569435119629, 3.1076250076293945, 3.109738826751709, 3.113621711730957, 3.115406036376953, 3.120521068572998, 3.1213035583496094, 3.1267268657684326, 3.1271884441375732, 3.1314094066619873, 3.1328482627868652, 3.1364307403564453, 3.138105869293213, 3.141134262084961, 3.1428208351135254, 3.1443817615509033, 3.146890163421631, 3.1488840579986572, 3.1502482891082764, 3.151759624481201, 3.1528637409210205, 3.153918743133545, 3.154736280441284, 3.155378818511963, 3.155893087387085, 3.156182050704956, 3.156383514404297, 3.1564035415649414, 3.1562743186950684, 3.15608549118042, 3.1556458473205566, 3.155183792114258, 3.1545872688293457, 3.153859853744507, 3.153191566467285, 3.1522090435028076, 3.151552438735962, 3.1503043174743652, 3.1497602462768555, 3.1481001377105713, 3.147899627685547, 3.1462271213531494, 3.1460464000701904, 3.144719362258911, 3.1442673206329346, 3.1431403160095215, 3.1426172256469727, 3.1416640281677246, 3.1411397457122803, 3.140470504760742, 3.139866352081299, 3.1392383575439453, 3.138817310333252, 3.1383419036865234, 3.1380021572113037, 3.1376707553863525, 3.137420892715454, 3.137219190597534, 3.1370644569396973, 3.136974334716797, 3.1369173526763916, 3.136913537979126, 3.136958122253418, 3.137024402618408, 3.13716197013855, 3.137315034866333, 3.137500047683716, 3.1377367973327637, 3.1379425525665283, 3.13826060295105, 3.138460636138916, 3.1388676166534424, 3.139026641845703, 3.1395692825317383, 3.139612913131714, 3.140129566192627, 3.1401963233947754, 3.1406166553497314, 3.1407551765441895, 3.141113042831421, 3.1412720680236816, 3.1415750980377197, 3.1417338848114014, 3.1419827938079834, 3.1421310901641846, 3.1423306465148926, 3.1424570083618164, 3.1426079273223877, 3.1427104473114014, 3.1428163051605225, 3.1428911685943604, 3.142956018447876, 3.143000602722168, 3.14302921295166, 3.1430439949035645, 3.1430435180664062, 3.1430280208587646, 3.143002986907959, 3.1429615020751953, 3.1429085731506348, 3.142853260040283, 3.142773389816284, 3.1427125930786133]}, {\"type\": \"scatter\", \"x\": [0.0, 8.953241922426969e-05, 0.0009848566260188818, 0.00993809849023819, 0.09947051852941513, 0.10000000149011612, 0.1366489976644516, 0.20000000298023224, 0.24696865677833557, 0.30000001192092896, 0.3484542965888977, 0.4000000059604645, 0.44839751720428467, 0.5, 0.548477053642273, 0.6000000238418579, 0.6483030319213867, 0.699999988079071, 0.7473927140235901, 0.800000011920929, 0.8451878428459167, 0.8999999761581421, 0.940567672252655, 1.0, 1.0240044593811035, 1.100000023841858, 1.140533447265625, 1.2000000476837158, 1.2469934225082397, 1.2999999523162842, 1.3511568307876587, 1.399999976158142, 1.4546005725860596, 1.5, 1.5582518577575684, 1.600000023841858, 1.663381814956665, 1.7000000476837158, 1.773718237876892, 1.7999999523162842, 1.8882988691329956, 1.899999976158142, 1.9690114259719849, 2.0, 2.0612401962280273, 2.0999999046325684, 2.1223666667938232, 2.200000047683716, 2.2546534538269043, 2.299999952316284, 2.3524322509765625, 2.4000000953674316, 2.4500293731689453, 2.5, 2.5469272136688232, 2.5999999046325684, 2.6420998573303223, 2.700000047683716, 2.727797746658325, 2.799999952316284, 2.837567090988159, 2.9000000953674316, 2.9470036029815674, 3.0, 3.053107500076294, 3.0999999046325684, 3.1589670181274414, 3.200000047683716, 3.2662229537963867, 3.299999952316284, 3.379117250442505, 3.4000000953674316, 3.4948649406433105, 3.5, 3.575622797012329, 3.5999999046325684, 3.6673476696014404, 3.700000047683716, 3.762528657913208, 3.799999952316284, 3.8284196853637695, 3.9000000953674316, 3.9563252925872803, 4.0, 4.0539116859436035, 4.099999904632568, 4.1511759757995605, 4.199999809265137, 4.247879981994629, 4.300000190734863, 4.34318733215332, 4.400000095367432, 4.432353973388672, 4.5, 4.53712272644043, 4.599999904632568, 4.647309303283691, 4.699999809265137, 4.753960132598877, 4.800000190734863, 4.860576629638672, 4.900000095367432, 4.969196319580078, 5.0, 5.086827754974365, 5.099999904632568, 5.192050457000732, 5.199999809265137, 5.273937702178955, 5.300000190734863, 5.367021083831787, 5.400000095367432, 5.462621688842773, 5.5, 5.536498546600342, 5.599999904632568, 5.656597137451172, 5.699999809265137, 5.754168510437012, 5.800000190734863, 5.851429462432861, 5.900000095367432, 5.9481730461120605, 6.0, 6.043659210205078, 6.099999904632568, 6.134323596954346, 6.199999809265137, 6.2382707595825195, 6.300000190734863, 6.3480000495910645, 6.400000095367432, 6.4546403884887695, 6.5, 6.5613694190979, 6.599999904632568, 6.670286655426025, 6.699999809265137, 6.789289474487305, 6.800000190734863, 6.890106678009033, 6.900000095367432, 6.973928928375244, 7.0, 7.067169189453125, 7.099999904632568, 7.162896633148193, 7.199999809265137, 7.250402450561523, 7.300000190734863, 7.357054233551025, 7.400000095367432, 7.454654216766357, 7.5, 7.552043914794922, 7.599999904632568, 7.649020195007324, 7.699999809265137, 7.745050430297852, 7.800000190734863, 7.83828592300415, 7.900000095367432, 7.940865516662598, 8.0, 8.049529075622559, 8.100000381469727, 8.156005859375, 8.199999809265137, 8.262760162353516, 8.300000190734863, 8.372523307800293, 8.399999618530273, 8.492581367492676, 8.5, 8.58840274810791, 8.600000381469727, 8.674553871154785, 8.699999809265137, 8.768059730529785, 8.800000190734863, 8.863948822021484, 8.899999618530273, 8.960468292236328, 9.0, 9.058411598205566, 9.100000381469727, 9.155864715576172, 9.199999809265137, 9.25362777709961, 9.300000190734863, 9.35145378112793, 9.399999618530273, 9.448365211486816, 9.5, 9.543825149536133, 9.600000381469727, 9.645764350891113, 9.699999809265137, 9.75305461883545, 9.800000190734863, 9.859171867370605, 9.899999618530273], \"y\": [-0.10000000149011612, -0.09999994188547134, -0.09999281913042068, -0.09927594661712646, -0.034566447138786316, -0.03390810266137123, 0.01814485713839531, 0.13187867403030396, 0.23095063865184784, 0.35068371891975403, 0.46385785937309265, 0.5832580327987671, 0.6918694376945496, 0.8014882206916809, 0.8969129920005798, 0.9895676374435425, 1.0670809745788574, 1.1400827169418335, 1.1971571445465088, 1.2499337196350098, 1.2857434749603271, 1.3181592226028442, 1.3337748050689697, 1.3451374769210815, 1.34522545337677, 1.3323734998703003, 1.3162399530410767, 1.282459020614624, 1.2470862865447998, 1.1990227699279785, 1.144808292388916, 1.0866225957870483, 1.0149339437484741, 0.9505854845046997, 0.8628126382827759, 0.7968153953552246, 0.6930580139160156, 0.6315950155258179, 0.5063055753707886, 0.46145591139793396, 0.31235793232917786, 0.29296445846557617, 0.1808203160762787, 0.13243474066257477, 0.04034443572163582, -0.014559758827090263, -0.044953443109989166, -0.14368994534015656, -0.20570538938045502, -0.25212615728378296, -0.30021682381629944, -0.3384746015071869, -0.3732558488845825, -0.4024941027164459, -0.4249320328235626, -0.4448036551475525, -0.45630165934562683, -0.4666534960269928, -0.4691298305988312, -0.4697759449481964, -0.4664043188095093, -0.45626676082611084, -0.4447840750217438, -0.4285000264644623, -0.4088197946548462, -0.3890528976917267, -0.3614141643047333, -0.34062620997428894, -0.30496975779533386, -0.2859584391117096, -0.24007192254066467, -0.22773118317127228, -0.17150527238845825, -0.16847555339336395, -0.1243605986237526, -0.11048420518636703, -0.0731065571308136, -0.05573856085538864, -0.023846961557865143, -0.005853927694261074, 0.0072111701592803, 0.037947289645671844, 0.0596386082470417, 0.07483400404453278, 0.09168970584869385, 0.10434278100728989, 0.1165369376540184, 0.1263430118560791, 0.13424183428287506, 0.14099568128585815, 0.14511516690254211, 0.1487068235874176, 0.14975421130657196, 0.150079607963562, 0.14908012747764587, 0.14586566388607025, 0.14215083420276642, 0.13692303001880646, 0.1304503083229065, 0.12417047470808029, 0.11499194800853729, 0.10854712128639221, 0.09654917567968369, 0.09097851067781448, 0.0748356357216835, 0.07234658300876617, 0.054953332990407944, 0.05346166342496872, 0.03975070267915726, 0.03504134714603424, 0.023250775411725044, 0.017695479094982147, 0.00759171461686492, 0.00191769958473742, -0.0033637352753430605, -0.011917166411876678, -0.018793301656842232, -0.02355383336544037, -0.028889939188957214, -0.03285061568021774, -0.03670499473810196, -0.03976859524846077, -0.04226053133606911, -0.044360220432281494, -0.045656729489564896, -0.04675566032528877, -0.04708794131875038, -0.04714731499552727, -0.04680349677801132, -0.04577634856104851, -0.04456663876771927, -0.04291730374097824, -0.04082995653152466, -0.03886336460709572, -0.035914041101932526, -0.033913712948560715, -0.030059538781642914, -0.0283620897680521, -0.02312469854950905, -0.022486822679638863, -0.01712549850344658, -0.016541436314582825, -0.012231484055519104, -0.010751803405582905, -0.007042488548904657, -0.00530769769102335, -0.0021264436654746532, -0.0003621982759796083, 0.001904217409901321, 0.003968420904129744, 0.0061347996816039085, 0.007605280727148056, 0.009284458123147488, 0.010504662990570068, 0.011717306450009346, 0.012655199505388737, 0.013439245522022247, 0.014074468985199928, 0.014482793398201466, 0.014804113656282425, 0.014908868819475174, 0.014905426651239395, 0.014779413118958473, 0.014453251846134663, 0.014050046913325787, 0.013536535203456879, 0.012854784727096558, 0.012248437851667404, 0.011292519979178905, 0.010682143270969391, 0.009424392133951187, 0.008928126655519009, 0.007214710116386414, 0.0070754955522716045, 0.005419222638010979, 0.005203774198889732, 0.0038376476150006056, 0.003384301206097007, 0.0022058936301618814, 0.0016774671385064721, 0.0006658361526206136, 0.0001304334437008947, -0.0007132618338800967, -0.0012212180299684405, -0.0019112762529402971, -0.0023533417843282223, -0.002886524423956871, -0.0032552985940128565, -0.0036432857159525156, -0.003924223128706217, -0.0041778734885156155, -0.0043621486984193325, -0.004494028631597757, -0.004581854213029146, -0.004613623488694429, -0.0046040755696594715, -0.004554368555545807, -0.00445386441424489, -0.0043135033920407295, -0.004159167408943176, -0.003928765654563904, -0.0037492967676371336]}, {\"type\": \"scatter\", \"x\": [0.0, 8.953241922426969e-05, 0.0009848566260188818, 0.00993809849023819, 0.09947051852941513, 0.10000000149011612, 0.1366489976644516, 0.20000000298023224, 0.24696865677833557, 0.30000001192092896, 0.3484542965888977, 0.4000000059604645, 0.44839751720428467, 0.5, 0.548477053642273, 0.6000000238418579, 0.6483030319213867, 0.699999988079071, 0.7473927140235901, 0.800000011920929, 0.8451878428459167, 0.8999999761581421, 0.940567672252655, 1.0, 1.0240044593811035, 1.100000023841858, 1.140533447265625, 1.2000000476837158, 1.2469934225082397, 1.2999999523162842, 1.3511568307876587, 1.399999976158142, 1.4546005725860596, 1.5, 1.5582518577575684, 1.600000023841858, 1.663381814956665, 1.7000000476837158, 1.773718237876892, 1.7999999523162842, 1.8882988691329956, 1.899999976158142, 1.9690114259719849, 2.0, 2.0612401962280273, 2.0999999046325684, 2.1223666667938232, 2.200000047683716, 2.2546534538269043, 2.299999952316284, 2.3524322509765625, 2.4000000953674316, 2.4500293731689453, 2.5, 2.5469272136688232, 2.5999999046325684, 2.6420998573303223, 2.700000047683716, 2.727797746658325, 2.799999952316284, 2.837567090988159, 2.9000000953674316, 2.9470036029815674, 3.0, 3.053107500076294, 3.0999999046325684, 3.1589670181274414, 3.200000047683716, 3.2662229537963867, 3.299999952316284, 3.379117250442505, 3.4000000953674316, 3.4948649406433105, 3.5, 3.575622797012329, 3.5999999046325684, 3.6673476696014404, 3.700000047683716, 3.762528657913208, 3.799999952316284, 3.8284196853637695, 3.9000000953674316, 3.9563252925872803, 4.0, 4.0539116859436035, 4.099999904632568, 4.1511759757995605, 4.199999809265137, 4.247879981994629, 4.300000190734863, 4.34318733215332, 4.400000095367432, 4.432353973388672, 4.5, 4.53712272644043, 4.599999904632568, 4.647309303283691, 4.699999809265137, 4.753960132598877, 4.800000190734863, 4.860576629638672, 4.900000095367432, 4.969196319580078, 5.0, 5.086827754974365, 5.099999904632568, 5.192050457000732, 5.199999809265137, 5.273937702178955, 5.300000190734863, 5.367021083831787, 5.400000095367432, 5.462621688842773, 5.5, 5.536498546600342, 5.599999904632568, 5.656597137451172, 5.699999809265137, 5.754168510437012, 5.800000190734863, 5.851429462432861, 5.900000095367432, 5.9481730461120605, 6.0, 6.043659210205078, 6.099999904632568, 6.134323596954346, 6.199999809265137, 6.2382707595825195, 6.300000190734863, 6.3480000495910645, 6.400000095367432, 6.4546403884887695, 6.5, 6.5613694190979, 6.599999904632568, 6.670286655426025, 6.699999809265137, 6.789289474487305, 6.800000190734863, 6.890106678009033, 6.900000095367432, 6.973928928375244, 7.0, 7.067169189453125, 7.099999904632568, 7.162896633148193, 7.199999809265137, 7.250402450561523, 7.300000190734863, 7.357054233551025, 7.400000095367432, 7.454654216766357, 7.5, 7.552043914794922, 7.599999904632568, 7.649020195007324, 7.699999809265137, 7.745050430297852, 7.800000190734863, 7.83828592300415, 7.900000095367432, 7.940865516662598, 8.0, 8.049529075622559, 8.100000381469727, 8.156005859375, 8.199999809265137, 8.262760162353516, 8.300000190734863, 8.372523307800293, 8.399999618530273, 8.492581367492676, 8.5, 8.58840274810791, 8.600000381469727, 8.674553871154785, 8.699999809265137, 8.768059730529785, 8.800000190734863, 8.863948822021484, 8.899999618530273, 8.960468292236328, 9.0, 9.058411598205566, 9.100000381469727, 9.155864715576172, 9.199999809265137, 9.25362777709961, 9.300000190734863, 9.35145378112793, 9.399999618530273, 9.448365211486816, 9.5, 9.543825149536133, 9.600000381469727, 9.645764350891113, 9.699999809265137, 9.75305461883545, 9.800000190734863, 9.859171867370605, 9.899999618530273], \"y\": [0.0, -0.00046479044249281287, -0.005104131065309048, -0.050650931894779205, -0.42973968386650085, -0.4316043257713318, -0.5452916026115417, -0.6724309325218201, -0.7516663074493408, -0.7549000978469849, -0.7847843170166016, -0.7184581756591797, -0.7134732604026794, -0.6149934530258179, -0.5909693837165833, -0.48598918318748474, -0.45412614941596985, -0.35407963395118713, -0.321283221244812, -0.2288658767938614, -0.19921089708805084, -0.11308302730321884, -0.08947285264730453, -0.006281265523284674, 0.0037375360261648893, 0.0929778441786766, 0.11296301335096359, 0.18572047352790833, 0.2083122283220291, 0.2716732323169708, 0.2938712239265442, 0.3489060401916504, 0.36849573254585266, 0.4141117334365845, 0.42931151390075684, 0.4633610248565674, 0.4727872610092163, 0.4930429756641388, 0.494652658700943, 0.500490128993988, 0.4873041808605194, 0.4851429760456085, 0.4653819501399994, 0.44871246814727783, 0.4259222149848938, 0.3955346941947937, 0.38990652561187744, 0.33138349652290344, 0.30676037073135376, 0.26203617453575134, 0.23859792947769165, 0.19213269650936127, 0.17101387679576874, 0.12482821196317673, 0.10696379095315933, 0.062108732759952545, 0.04843974485993385, 0.005202950909733772, -0.001213500159792602, -0.04508599266409874, -0.05352688580751419, -0.08821402490139008, -0.09789641946554184, -0.12373746931552887, -0.13270562887191772, -0.15130987763404846, -0.15864500403404236, -0.17073334753513336, -0.17574676871299744, -0.18202649056911469, -0.18394188582897186, -0.18549975752830505, -0.18197977542877197, -0.18175636231899261, -0.17518942058086395, -0.17170122265815735, -0.16355648636817932, -0.15643806755542755, -0.14743304252624512, -0.1372351348400116, -0.13403598964214325, -0.11536826193332672, -0.10620754212141037, -0.09205228835344315, -0.08339304476976395, -0.06836337596178055, -0.06059234216809273, -0.045232709497213364, -0.038650620728731155, -0.023431552574038506, -0.018337076529860497, -0.0035668069031089544, -0.00067416817182675, 0.013904285617172718, 0.01686236821115017, 0.028676068410277367, 0.03207610175013542, 0.040554601699113846, 0.04366203397512436, 0.04948712885379791, 0.05197862908244133, 0.05551804602146149, 0.05716371908783913, 0.058788783848285675, 0.059296444058418274, 0.05951385945081711, 0.05815156549215317, 0.05798656493425369, 0.05582873895764351, 0.05454326048493385, 0.05190141126513481, 0.04955439269542694, 0.04664883017539978, 0.043394528329372406, 0.04193422198295593, 0.03643523529171944, 0.033492930233478546, 0.029040465131402016, 0.026266612112522125, 0.021536244079470634, 0.01904875598847866, 0.014207272790372372, 0.012098856270313263, 0.007298905402421951, 0.005656635854393244, 0.001006484031677246, 5.459296971821459e-06, -0.004524072166532278, -0.005502582527697086, -0.009183710440993309, -0.010280638001859188, -0.012916852720081806, -0.013911833986639977, -0.015706811100244522, -0.016497902572155, -0.017571914941072464, -0.01808529533445835, -0.018561825156211853, -0.018702678382396698, -0.018752185627818108, -0.01831098459661007, -0.01824093610048294, -0.017541350796818733, -0.017125168815255165, -0.016282260417938232, -0.015537751838564873, -0.014610594138503075, -0.01358605083078146, -0.012848169542849064, -0.0113900201395154, -0.010451200418174267, -0.009059982374310493, -0.008174153976142406, -0.006697603035718203, -0.00590039836242795, -0.004392838105559349, -0.003712886245921254, -0.002223934279754758, -0.0016830184031277895, -0.00024908664636313915, 0.00011890568566741422, 0.0014821350341662765, 0.0018263575620949268, 0.0029482506215572357, 0.0033025825396180153, 0.004104035906493664, 0.004425051622092724, 0.004969468340277672, 0.005223608110100031, 0.00554600078612566, 0.005720102693885565, 0.0058568245731294155, 0.005891839507967234, 0.005901191849261522, 0.005763683933764696, 0.005736077670007944, 0.005504588596522808, 0.0053718723356723785, 0.005094427149742842, 0.004861301276832819, 0.004558189306408167, 0.0042407214641571045, 0.003931489307433367, 0.0035456048790365458, 0.003237095894291997, 0.0028100053314119577, 0.0025315636303275824, 0.002080342033877969, 0.0018231909489259124, 0.0013617954682558775, 0.0011253588600084186, 0.0006706890999339521, 0.00047911310684867203, 4.843230271944776e-05, -9.41585676628165e-05, -0.0004946169210597873, -0.0006197742186486721, -0.0009473615791648626, -0.0010714333038777113, -0.0013074305607005954, -0.001415313221514225, -0.0015735019696876407]}, {\"type\": \"scatter\", \"x\": [0.0, 8.953241922426969e-05, 0.0009848566260188818, 0.00993809849023819, 0.09947051852941513, 0.10000000149011612, 0.1366489976644516, 0.20000000298023224, 0.24696865677833557, 0.30000001192092896, 0.3484542965888977, 0.4000000059604645, 0.44839751720428467, 0.5, 0.548477053642273, 0.6000000238418579, 0.6483030319213867, 0.699999988079071, 0.7473927140235901, 0.800000011920929, 0.8451878428459167, 0.8999999761581421, 0.940567672252655, 1.0, 1.0240044593811035, 1.100000023841858, 1.140533447265625, 1.2000000476837158, 1.2469934225082397, 1.2999999523162842, 1.3511568307876587, 1.399999976158142, 1.4546005725860596, 1.5, 1.5582518577575684, 1.600000023841858, 1.663381814956665, 1.7000000476837158, 1.773718237876892, 1.7999999523162842, 1.8882988691329956, 1.899999976158142, 1.9690114259719849, 2.0, 2.0612401962280273, 2.0999999046325684, 2.1223666667938232, 2.200000047683716, 2.2546534538269043, 2.299999952316284, 2.3524322509765625, 2.4000000953674316, 2.4500293731689453, 2.5, 2.5469272136688232, 2.5999999046325684, 2.6420998573303223, 2.700000047683716, 2.727797746658325, 2.799999952316284, 2.837567090988159, 2.9000000953674316, 2.9470036029815674, 3.0, 3.053107500076294, 3.0999999046325684, 3.1589670181274414, 3.200000047683716, 3.2662229537963867, 3.299999952316284, 3.379117250442505, 3.4000000953674316, 3.4948649406433105, 3.5, 3.575622797012329, 3.5999999046325684, 3.6673476696014404, 3.700000047683716, 3.762528657913208, 3.799999952316284, 3.8284196853637695, 3.9000000953674316, 3.9563252925872803, 4.0, 4.0539116859436035, 4.099999904632568, 4.1511759757995605, 4.199999809265137, 4.247879981994629, 4.300000190734863, 4.34318733215332, 4.400000095367432, 4.432353973388672, 4.5, 4.53712272644043, 4.599999904632568, 4.647309303283691, 4.699999809265137, 4.753960132598877, 4.800000190734863, 4.860576629638672, 4.900000095367432, 4.969196319580078, 5.0, 5.086827754974365, 5.099999904632568, 5.192050457000732, 5.199999809265137, 5.273937702178955, 5.300000190734863, 5.367021083831787, 5.400000095367432, 5.462621688842773, 5.5, 5.536498546600342, 5.599999904632568, 5.656597137451172, 5.699999809265137, 5.754168510437012, 5.800000190734863, 5.851429462432861, 5.900000095367432, 5.9481730461120605, 6.0, 6.043659210205078, 6.099999904632568, 6.134323596954346, 6.199999809265137, 6.2382707595825195, 6.300000190734863, 6.3480000495910645, 6.400000095367432, 6.4546403884887695, 6.5, 6.5613694190979, 6.599999904632568, 6.670286655426025, 6.699999809265137, 6.789289474487305, 6.800000190734863, 6.890106678009033, 6.900000095367432, 6.973928928375244, 7.0, 7.067169189453125, 7.099999904632568, 7.162896633148193, 7.199999809265137, 7.250402450561523, 7.300000190734863, 7.357054233551025, 7.400000095367432, 7.454654216766357, 7.5, 7.552043914794922, 7.599999904632568, 7.649020195007324, 7.699999809265137, 7.745050430297852, 7.800000190734863, 7.83828592300415, 7.900000095367432, 7.940865516662598, 8.0, 8.049529075622559, 8.100000381469727, 8.156005859375, 8.199999809265137, 8.262760162353516, 8.300000190734863, 8.372523307800293, 8.399999618530273, 8.492581367492676, 8.5, 8.58840274810791, 8.600000381469727, 8.674553871154785, 8.699999809265137, 8.768059730529785, 8.800000190734863, 8.863948822021484, 8.899999618530273, 8.960468292236328, 9.0, 9.058411598205566, 9.100000381469727, 9.155864715576172, 9.199999809265137, 9.25362777709961, 9.300000190734863, 9.35145378112793, 9.399999618530273, 9.448365211486816, 9.5, 9.543825149536133, 9.600000381469727, 9.645764350891113, 9.699999809265137, 9.75305461883545, 9.800000190734863, 9.859171867370605, 9.899999618530273], \"y\": [0.0, 0.0013277893885970116, 0.014582833275198936, 0.14487077295780182, 1.2406481504440308, 1.246092677116394, 1.5809131860733032, 1.9701160192489624, 2.2155990600585938, 2.2595579624176025, 2.3696141242980957, 2.2189419269561768, 2.2281124591827393, 1.9777168035507202, 1.9228895902633667, 1.6360145807266235, 1.5430933237075806, 1.2484049797058105, 1.1356452703475952, 0.8416149616241455, 0.7243759632110596, 0.4308367967605591, 0.3257804811000824, 0.02782541513442993, -0.024612829089164734, -0.3561570346355438, -0.4507133364677429, -0.7099735736846924, -0.8091421127319336, -1.023074746131897, -1.1117901802062988, -1.286018967628479, -1.3559836149215698, -1.4910199642181396, -1.538171410560608, -1.6323747634887695, -1.6551446914672852, -1.70675790309906, -1.70134437084198, -1.7128793001174927, -1.6614278554916382, -1.6533246040344238, -1.5860023498535156, -1.5345557928085327, -1.4591625928878784, -1.3682314157485962, -1.3472708463668823, -1.1689283847808838, -1.0860449075698853, -0.9512962102890015, -0.8699550628662109, -0.7276628017425537, -0.6514756083488464, -0.5072873830795288, -0.43987616896629333, -0.29703488945961, -0.24258780479431152, -0.10213939845561981, -0.07349084317684174, 0.07327353954315186, 0.1102428212761879, 0.2260424643754959, 0.26782217621803284, 0.353729784488678, 0.39279037714004517, 0.4546758532524109, 0.4876079261302948, 0.5280947685241699, 0.5525986552238464, 0.5741484761238098, 0.5880559086799622, 0.5940176844596863, 0.5901989936828613, 0.5897893905639648, 0.5737269520759583, 0.5644019842147827, 0.5414749383926392, 0.5213335156440735, 0.4941539168357849, 0.464503675699234, 0.4538588225841522, 0.3978635370731354, 0.3677705228328705, 0.32522130012512207, 0.29581397771835327, 0.25003427267074585, 0.22276507318019867, 0.17537958920001984, 0.15145981311798096, 0.10389288514852524, 0.08457431197166443, 0.037730757147073746, 0.025874795392155647, -0.021413717418909073, -0.033710088580846786, -0.07233379781246185, -0.0863991305232048, -0.11421225219964981, -0.1273709237575531, -0.14670194685459137, -0.15779533982276917, -0.16980309784412384, -0.17805665731430054, -0.18385367095470428, -0.18848349153995514, -0.1894541233778, -0.1877995729446411, -0.18747080862522125, -0.18232132494449615, -0.1789291352033615, -0.17158257961273193, -0.16497907042503357, -0.15625374019145966, -0.14680546522140503, -0.1420394480228424, -0.12560038268566132, -0.11593745648860931, -0.10254254192113876, -0.09312330931425095, -0.07870850712060928, -0.0699874684214592, -0.055056601762771606, -0.04741014167666435, -0.03242601826786995, -0.02622217871248722, -0.011503234505653381, -0.007454275153577328, 0.007180180866271257, 0.011214224621653557, 0.023216543719172478, 0.027731141075491905, 0.03636765107512474, 0.04056767001748085, 0.046525754034519196, 0.050049133598804474, 0.05370207130908966, 0.056302089244127274, 0.05801500752568245, 0.059442371129989624, 0.05967332422733307, 0.05910651385784149, 0.05896321311593056, 0.05728365108370781, 0.05618337541818619, 0.053835466504096985, 0.05173949897289276, 0.048952989280223846, 0.04597723111510277, 0.04361749067902565, 0.03928080201148987, 0.03619705140590668, 0.03201083466410637, 0.029003901407122612, 0.02450425922870636, 0.021712252870202065, 0.01706390455365181, 0.014602519571781158, 0.00995654333382845, 0.007922651246190071, 0.003389120800420642, 0.0019254627404734492, -0.0024617898743599653, -0.003855951828882098, -0.0075025190599262714, -0.00896015390753746, -0.011584368534386158, -0.012935228645801544, -0.014741255901753902, -0.015869278460741043, -0.016965528950095177, -0.017823660746216774, -0.01831468567252159, -0.018742995336651802, -0.01878884620964527, -0.018606148660182953, -0.0185480248183012, -0.01798504777252674, -0.01763252168893814, -0.016856713220477104, -0.016199424862861633, -0.015287386253476143, -0.014364674687385559, -0.013387417420744896, -0.012243307195603848, -0.011232070624828339, -0.009947150945663452, -0.008996478281915188, -0.007620621006935835, -0.00671855453401804, -0.005296846851706505, -0.004452194087207317, -0.003037454094737768, -0.0023271292448043823, -0.0009694099426269531, -0.0004162884724792093, 0.000865607347805053, 0.0013658477691933513, 0.0024266336113214493, 0.0029285461641848087, 0.0036987250205129385, 0.004148697946220636, 0.00467238575220108]}],\n",
       "                        {\"template\": {\"data\": {\"bar\": [{\"error_x\": {\"color\": \"#2a3f5f\"}, \"error_y\": {\"color\": \"#2a3f5f\"}, \"marker\": {\"line\": {\"color\": \"#E5ECF6\", \"width\": 0.5}}, \"type\": \"bar\"}], \"barpolar\": [{\"marker\": {\"line\": {\"color\": \"#E5ECF6\", \"width\": 0.5}}, \"type\": \"barpolar\"}], \"carpet\": [{\"aaxis\": {\"endlinecolor\": \"#2a3f5f\", \"gridcolor\": \"white\", \"linecolor\": \"white\", \"minorgridcolor\": \"white\", \"startlinecolor\": \"#2a3f5f\"}, \"baxis\": {\"endlinecolor\": \"#2a3f5f\", \"gridcolor\": \"white\", \"linecolor\": \"white\", \"minorgridcolor\": \"white\", \"startlinecolor\": \"#2a3f5f\"}, \"type\": \"carpet\"}], \"choropleth\": [{\"colorbar\": {\"outlinewidth\": 0, \"ticks\": \"\"}, \"type\": \"choropleth\"}], \"contour\": [{\"colorbar\": {\"outlinewidth\": 0, \"ticks\": \"\"}, \"colorscale\": [[0.0, \"#0d0887\"], [0.1111111111111111, \"#46039f\"], [0.2222222222222222, \"#7201a8\"], [0.3333333333333333, \"#9c179e\"], [0.4444444444444444, \"#bd3786\"], [0.5555555555555556, \"#d8576b\"], [0.6666666666666666, \"#ed7953\"], [0.7777777777777778, \"#fb9f3a\"], [0.8888888888888888, \"#fdca26\"], [1.0, \"#f0f921\"]], \"type\": \"contour\"}], \"contourcarpet\": [{\"colorbar\": {\"outlinewidth\": 0, \"ticks\": \"\"}, \"type\": \"contourcarpet\"}], \"heatmap\": [{\"colorbar\": {\"outlinewidth\": 0, \"ticks\": \"\"}, \"colorscale\": [[0.0, \"#0d0887\"], [0.1111111111111111, \"#46039f\"], [0.2222222222222222, \"#7201a8\"], [0.3333333333333333, \"#9c179e\"], [0.4444444444444444, \"#bd3786\"], [0.5555555555555556, \"#d8576b\"], [0.6666666666666666, \"#ed7953\"], [0.7777777777777778, \"#fb9f3a\"], [0.8888888888888888, \"#fdca26\"], [1.0, \"#f0f921\"]], \"type\": \"heatmap\"}], \"heatmapgl\": [{\"colorbar\": {\"outlinewidth\": 0, \"ticks\": \"\"}, \"colorscale\": [[0.0, \"#0d0887\"], [0.1111111111111111, \"#46039f\"], [0.2222222222222222, \"#7201a8\"], [0.3333333333333333, \"#9c179e\"], [0.4444444444444444, \"#bd3786\"], [0.5555555555555556, \"#d8576b\"], [0.6666666666666666, \"#ed7953\"], [0.7777777777777778, \"#fb9f3a\"], [0.8888888888888888, \"#fdca26\"], [1.0, \"#f0f921\"]], \"type\": \"heatmapgl\"}], \"histogram\": [{\"marker\": {\"colorbar\": {\"outlinewidth\": 0, \"ticks\": \"\"}}, \"type\": \"histogram\"}], \"histogram2d\": [{\"colorbar\": {\"outlinewidth\": 0, \"ticks\": \"\"}, \"colorscale\": [[0.0, \"#0d0887\"], [0.1111111111111111, \"#46039f\"], [0.2222222222222222, \"#7201a8\"], [0.3333333333333333, \"#9c179e\"], [0.4444444444444444, \"#bd3786\"], [0.5555555555555556, \"#d8576b\"], [0.6666666666666666, \"#ed7953\"], [0.7777777777777778, \"#fb9f3a\"], [0.8888888888888888, \"#fdca26\"], [1.0, \"#f0f921\"]], \"type\": \"histogram2d\"}], \"histogram2dcontour\": [{\"colorbar\": {\"outlinewidth\": 0, \"ticks\": \"\"}, \"colorscale\": [[0.0, \"#0d0887\"], [0.1111111111111111, \"#46039f\"], [0.2222222222222222, \"#7201a8\"], [0.3333333333333333, \"#9c179e\"], [0.4444444444444444, \"#bd3786\"], [0.5555555555555556, \"#d8576b\"], [0.6666666666666666, \"#ed7953\"], [0.7777777777777778, \"#fb9f3a\"], [0.8888888888888888, \"#fdca26\"], [1.0, \"#f0f921\"]], \"type\": \"histogram2dcontour\"}], \"mesh3d\": [{\"colorbar\": {\"outlinewidth\": 0, \"ticks\": \"\"}, \"type\": \"mesh3d\"}], \"parcoords\": [{\"line\": {\"colorbar\": {\"outlinewidth\": 0, \"ticks\": \"\"}}, \"type\": \"parcoords\"}], \"pie\": [{\"automargin\": true, \"type\": \"pie\"}], \"scatter\": [{\"marker\": {\"colorbar\": {\"outlinewidth\": 0, \"ticks\": \"\"}}, \"type\": \"scatter\"}], \"scatter3d\": [{\"line\": {\"colorbar\": {\"outlinewidth\": 0, \"ticks\": \"\"}}, \"marker\": {\"colorbar\": {\"outlinewidth\": 0, \"ticks\": \"\"}}, \"type\": \"scatter3d\"}], \"scattercarpet\": [{\"marker\": {\"colorbar\": {\"outlinewidth\": 0, \"ticks\": \"\"}}, \"type\": \"scattercarpet\"}], \"scattergeo\": [{\"marker\": {\"colorbar\": {\"outlinewidth\": 0, \"ticks\": \"\"}}, \"type\": \"scattergeo\"}], \"scattergl\": [{\"marker\": {\"colorbar\": {\"outlinewidth\": 0, \"ticks\": \"\"}}, \"type\": \"scattergl\"}], \"scattermapbox\": [{\"marker\": {\"colorbar\": {\"outlinewidth\": 0, \"ticks\": \"\"}}, \"type\": \"scattermapbox\"}], \"scatterpolar\": [{\"marker\": {\"colorbar\": {\"outlinewidth\": 0, \"ticks\": \"\"}}, \"type\": \"scatterpolar\"}], \"scatterpolargl\": [{\"marker\": {\"colorbar\": {\"outlinewidth\": 0, \"ticks\": \"\"}}, \"type\": \"scatterpolargl\"}], \"scatterternary\": [{\"marker\": {\"colorbar\": {\"outlinewidth\": 0, \"ticks\": \"\"}}, \"type\": \"scatterternary\"}], \"surface\": [{\"colorbar\": {\"outlinewidth\": 0, \"ticks\": \"\"}, \"colorscale\": [[0.0, \"#0d0887\"], [0.1111111111111111, \"#46039f\"], [0.2222222222222222, \"#7201a8\"], [0.3333333333333333, \"#9c179e\"], [0.4444444444444444, \"#bd3786\"], [0.5555555555555556, \"#d8576b\"], [0.6666666666666666, \"#ed7953\"], [0.7777777777777778, \"#fb9f3a\"], [0.8888888888888888, \"#fdca26\"], [1.0, \"#f0f921\"]], \"type\": \"surface\"}], \"table\": [{\"cells\": {\"fill\": {\"color\": \"#EBF0F8\"}, \"line\": {\"color\": \"white\"}}, \"header\": {\"fill\": {\"color\": \"#C8D4E3\"}, \"line\": {\"color\": \"white\"}}, \"type\": \"table\"}]}, \"layout\": {\"annotationdefaults\": {\"arrowcolor\": \"#2a3f5f\", \"arrowhead\": 0, \"arrowwidth\": 1}, \"coloraxis\": {\"colorbar\": {\"outlinewidth\": 0, \"ticks\": \"\"}}, \"colorscale\": {\"diverging\": [[0, \"#8e0152\"], [0.1, \"#c51b7d\"], [0.2, \"#de77ae\"], [0.3, \"#f1b6da\"], [0.4, \"#fde0ef\"], [0.5, \"#f7f7f7\"], [0.6, \"#e6f5d0\"], [0.7, \"#b8e186\"], [0.8, \"#7fbc41\"], [0.9, \"#4d9221\"], [1, \"#276419\"]], \"sequential\": [[0.0, \"#0d0887\"], [0.1111111111111111, \"#46039f\"], [0.2222222222222222, \"#7201a8\"], [0.3333333333333333, \"#9c179e\"], [0.4444444444444444, \"#bd3786\"], [0.5555555555555556, \"#d8576b\"], [0.6666666666666666, \"#ed7953\"], [0.7777777777777778, \"#fb9f3a\"], [0.8888888888888888, \"#fdca26\"], [1.0, \"#f0f921\"]], \"sequentialminus\": [[0.0, \"#0d0887\"], [0.1111111111111111, \"#46039f\"], [0.2222222222222222, \"#7201a8\"], [0.3333333333333333, \"#9c179e\"], [0.4444444444444444, \"#bd3786\"], [0.5555555555555556, \"#d8576b\"], [0.6666666666666666, \"#ed7953\"], [0.7777777777777778, \"#fb9f3a\"], [0.8888888888888888, \"#fdca26\"], [1.0, \"#f0f921\"]]}, \"colorway\": [\"#636efa\", \"#EF553B\", \"#00cc96\", \"#ab63fa\", \"#FFA15A\", \"#19d3f3\", \"#FF6692\", \"#B6E880\", \"#FF97FF\", \"#FECB52\"], \"font\": {\"color\": \"#2a3f5f\"}, \"geo\": {\"bgcolor\": \"white\", \"lakecolor\": \"white\", \"landcolor\": \"#E5ECF6\", \"showlakes\": true, \"showland\": true, \"subunitcolor\": \"white\"}, \"hoverlabel\": {\"align\": \"left\"}, \"hovermode\": \"closest\", \"mapbox\": {\"style\": \"light\"}, \"paper_bgcolor\": \"white\", \"plot_bgcolor\": \"#E5ECF6\", \"polar\": {\"angularaxis\": {\"gridcolor\": \"white\", \"linecolor\": \"white\", \"ticks\": \"\"}, \"bgcolor\": \"#E5ECF6\", \"radialaxis\": {\"gridcolor\": \"white\", \"linecolor\": \"white\", \"ticks\": \"\"}}, \"scene\": {\"xaxis\": {\"backgroundcolor\": \"#E5ECF6\", \"gridcolor\": \"white\", \"gridwidth\": 2, \"linecolor\": \"white\", \"showbackground\": true, \"ticks\": \"\", \"zerolinecolor\": \"white\"}, \"yaxis\": {\"backgroundcolor\": \"#E5ECF6\", \"gridcolor\": \"white\", \"gridwidth\": 2, \"linecolor\": \"white\", \"showbackground\": true, \"ticks\": \"\", \"zerolinecolor\": \"white\"}, \"zaxis\": {\"backgroundcolor\": \"#E5ECF6\", \"gridcolor\": \"white\", \"gridwidth\": 2, \"linecolor\": \"white\", \"showbackground\": true, \"ticks\": \"\", \"zerolinecolor\": \"white\"}}, \"shapedefaults\": {\"line\": {\"color\": \"#2a3f5f\"}}, \"ternary\": {\"aaxis\": {\"gridcolor\": \"white\", \"linecolor\": \"white\", \"ticks\": \"\"}, \"baxis\": {\"gridcolor\": \"white\", \"linecolor\": \"white\", \"ticks\": \"\"}, \"bgcolor\": \"#E5ECF6\", \"caxis\": {\"gridcolor\": \"white\", \"linecolor\": \"white\", \"ticks\": \"\"}}, \"title\": {\"x\": 0.05}, \"xaxis\": {\"automargin\": true, \"gridcolor\": \"white\", \"linecolor\": \"white\", \"ticks\": \"\", \"title\": {\"standoff\": 15}, \"zerolinecolor\": \"white\", \"zerolinewidth\": 2}, \"yaxis\": {\"automargin\": true, \"gridcolor\": \"white\", \"linecolor\": \"white\", \"ticks\": \"\", \"title\": {\"standoff\": 15}, \"zerolinecolor\": \"white\", \"zerolinewidth\": 2}}}},\n",
       "                        {\"responsive\": true}\n",
       "                    ).then(function(){\n",
       "                            \n",
       "var gd = document.getElementById('21ea39db-ffb8-4ba3-bdd7-73f9f50df740');\n",
       "var x = new MutationObserver(function (mutations, observer) {{\n",
       "        var display = window.getComputedStyle(gd).display;\n",
       "        if (!display || display === 'none') {{\n",
       "            console.log([gd, 'removed!']);\n",
       "            Plotly.purge(gd);\n",
       "            observer.disconnect();\n",
       "        }}\n",
       "}});\n",
       "\n",
       "// Listen for the removal of the full notebook cells\n",
       "var notebookContainer = gd.closest('#notebook-container');\n",
       "if (notebookContainer) {{\n",
       "    x.observe(notebookContainer, {childList: true});\n",
       "}}\n",
       "\n",
       "// Listen for the clearing of the current output cell\n",
       "var outputEl = gd.closest('.output');\n",
       "if (outputEl) {{\n",
       "    x.observe(outputEl, {childList: true});\n",
       "}}\n",
       "\n",
       "                        })\n",
       "                };\n",
       "                });\n",
       "            </script>\n",
       "        </div>"
      ]
     },
     "metadata": {},
     "output_type": "display_data"
    }
   ],
   "source": [
    "# ctrl = lambda x: (torch.zeros(1), torch.zeros(1), None)\n",
    "\n",
    "ctrl = controllers.get_optimal_controller(vf)\n",
    "\n",
    "x0 = torch.Tensor([np.pi, 0., 0., 0.]).double()\n",
    "u_min = torch.Tensor(vf.u_lo[0]).type(vf.dtype)\n",
    "u_max = torch.Tensor(vf.u_up[0]).type(vf.dtype)\n",
    "Q = np.diag([1., 1., .1, .1])\n",
    "R = np.diag([.1])\n",
    "# ctrl = controllers.get_lqr_controller(acrobot.dx, x0, torch.zeros(u_min.shape[0]).type(vf.dtype), Q, R, u_min, u_max)\n",
    "\n",
    "eps = 0.1\n",
    "x0 = torch.Tensor([np.pi+eps, -eps, 0., 0.]).double()\n",
    "x_traj_sim, t_traj_sim = controllers.sim_ctrl(x0, 1, acrobot.dx, ctrl, .1, 100)\n",
    "\n",
    "fig = go.Figure()\n",
    "for i in range(4):\n",
    "    fig.add_trace(go.Scatter(\n",
    "        x=t_traj_sim,\n",
    "        y=x_traj_sim[i,:]\n",
    "    ))\n",
    "fig.show()"
   ]
  },
  {
   "cell_type": "code",
   "execution_count": 326,
   "metadata": {},
   "outputs": [],
   "source": [
    "eps = .1\n",
    "x0_lo = torch.Tensor([np.pi-eps, -eps, -5., -5.]).type(vf.dtype)\n",
    "x0_up = torch.Tensor([np.pi+eps, eps, 5., 5.]).type(vf.dtype)\n",
    "\n",
    "# file options\n",
    "sys_name = 'acrobot'\n",
    "x_samples_file = '../data/validation_' + sys_name + '_x.pt'\n",
    "v_samples_file = '../data/validation_' + sys_name + '_v.pt'\n",
    "model_file = '../data/' + sys_name + '.pt'"
   ]
  },
  {
   "cell_type": "code",
   "execution_count": 327,
   "metadata": {},
   "outputs": [],
   "source": [
    "# opt = dict(\n",
    "#     max_buffer_size = None,\n",
    "#     batch_size = 100,\n",
    "#     nn_width = 500,\n",
    "#     nn_depth = 2,\n",
    "\n",
    "#     init_num_samples = 10,\n",
    "#     init_num_trainig_step = 100,\n",
    "    \n",
    "#     num_generations = 10,\n",
    "#     num_samples_per_generation = 5,\n",
    "#     num_train_step_per_gen = 100,\n",
    "    \n",
    "#     adv_max_iter = 5,\n",
    "#     adv_conv_tol = 1e-5,\n",
    "#     adv_learning_rate = 1.,\n",
    "    \n",
    "#     num_samples_validation = 250,\n",
    "# )\n",
    "\n",
    "opt = dict(\n",
    "    max_buffer_size = 10,\n",
    "    batch_size = 5,\n",
    "    nn_width = 64,\n",
    "    nn_depth = 0,\n",
    "\n",
    "    init_num_samples = 5,\n",
    "    init_num_trainig_step = 100,\n",
    "    \n",
    "    num_generations = 100,\n",
    "    num_samples_per_generation = 10,\n",
    "    num_train_step_per_gen = 100,\n",
    "    \n",
    "    adv_max_iter = 5,\n",
    "    adv_conv_tol = 1e-5,\n",
    "    adv_learning_rate = .25,\n",
    "    \n",
    "    num_samples_validation = 500,\n",
    ")"
   ]
  },
  {
   "cell_type": "code",
   "execution_count": 328,
   "metadata": {},
   "outputs": [],
   "source": [
    "samples_buff = samples_buffer.SamplesBuffer(x0_lo.shape[0]*(vf.N-1), vf.N-1, vf.dtype, max_size=opt['max_buffer_size'])\n",
    "samples_gen = samples_generator.RandomSampleGenerator(vf, x0_lo, x0_up)"
   ]
  },
  {
   "cell_type": "code",
   "execution_count": 329,
   "metadata": {},
   "outputs": [],
   "source": [
    "vf_approx = value_approximation.InfiniteHorizonValueFunctionApproximation(x0_lo, x0_up, opt['nn_width'], opt['nn_depth'])\n",
    "train_log = training_log.TrainingLog(1, prefix=\"baseline\")"
   ]
  },
  {
   "cell_type": "code",
   "execution_count": 102,
   "metadata": {},
   "outputs": [],
   "source": [
    "x_samples_validation, v_labels_validation = samples_gen.generate_samples(opt['num_samples_validation'])"
   ]
  },
  {
   "cell_type": "code",
   "execution_count": 103,
   "metadata": {},
   "outputs": [],
   "source": [
    "torch.save(x_samples_validation, x_samples_file)\n",
    "torch.save(v_labels_validation, v_samples_file)"
   ]
  },
  {
   "cell_type": "code",
   "execution_count": 330,
   "metadata": {},
   "outputs": [],
   "source": [
    "x_samples_validation = torch.load(x_samples_file)\n",
    "v_labels_validation = torch.load(v_samples_file)"
   ]
  },
  {
   "cell_type": "code",
   "execution_count": 331,
   "metadata": {},
   "outputs": [],
   "source": [
    "(x_samples, v_labels) = samples_gen.generate_samples(opt['init_num_samples'])\n",
    "samples_buff.add_samples(x_samples, v_labels)"
   ]
  },
  {
   "cell_type": "code",
   "execution_count": 332,
   "metadata": {},
   "outputs": [],
   "source": [
    "for train_step_i in range(opt['init_num_trainig_step']):\n",
    "    x, v = samples_buff.get_random_samples(opt['batch_size'])\n",
    "    losses = vf_approx.train_step(x, v)\n",
    "    train_log.add_train_loss(losses)"
   ]
  },
  {
   "cell_type": "code",
   "execution_count": 333,
   "metadata": {},
   "outputs": [],
   "source": [
    "samples_buff_adv = copy.deepcopy(samples_buff)\n",
    "samples_gen_adv = samples_generator.AdversarialSampleGenerator(vf, x0_lo, x0_up, \n",
    "                                                               max_iter=opt['adv_max_iter'],\n",
    "                                                               conv_tol=opt['adv_conv_tol'],\n",
    "                                                               learning_rate=opt['adv_learning_rate'])\n",
    "vf_approx_adv = copy.deepcopy(vf_approx)\n",
    "train_log_adv = training_log.TrainingLog.get_copy(\n",
    "    train_log, prefix=\"adversarial\", keep_writer=True)"
   ]
  },
  {
   "cell_type": "code",
   "execution_count": 334,
   "metadata": {},
   "outputs": [
    {
     "ename": "KeyboardInterrupt",
     "evalue": "",
     "output_type": "error",
     "traceback": [
      "\u001b[0;31m---------------------------------------------------------------------------\u001b[0m",
      "\u001b[0;31mKeyboardInterrupt\u001b[0m                         Traceback (most recent call last)",
      "\u001b[0;32m<ipython-input-334-32bee30e56e9>\u001b[0m in \u001b[0;36m<module>\u001b[0;34m\u001b[0m\n\u001b[1;32m      5\u001b[0m \u001b[0;32mfor\u001b[0m \u001b[0mgen_i\u001b[0m \u001b[0;32min\u001b[0m \u001b[0mrange\u001b[0m\u001b[0;34m(\u001b[0m\u001b[0mopt\u001b[0m\u001b[0;34m[\u001b[0m\u001b[0;34m'num_generations'\u001b[0m\u001b[0;34m]\u001b[0m\u001b[0;34m)\u001b[0m\u001b[0;34m:\u001b[0m\u001b[0;34m\u001b[0m\u001b[0;34m\u001b[0m\u001b[0m\n\u001b[1;32m      6\u001b[0m     \u001b[0;31m# adverserial samples\u001b[0m\u001b[0;34m\u001b[0m\u001b[0;34m\u001b[0m\u001b[0;34m\u001b[0m\u001b[0m\n\u001b[0;32m----> 7\u001b[0;31m     \u001b[0;34m(\u001b[0m\u001b[0mx_samples\u001b[0m\u001b[0;34m,\u001b[0m \u001b[0mv_labels\u001b[0m\u001b[0;34m)\u001b[0m \u001b[0;34m=\u001b[0m \u001b[0msamples_gen_adv\u001b[0m\u001b[0;34m.\u001b[0m\u001b[0mgenerate_samples\u001b[0m\u001b[0;34m(\u001b[0m\u001b[0mopt\u001b[0m\u001b[0;34m[\u001b[0m\u001b[0;34m'num_samples_per_generation'\u001b[0m\u001b[0;34m]\u001b[0m\u001b[0;34m,\u001b[0m \u001b[0mvf_approx_adv\u001b[0m\u001b[0;34m)\u001b[0m\u001b[0;34m\u001b[0m\u001b[0;34m\u001b[0m\u001b[0m\n\u001b[0m\u001b[1;32m      8\u001b[0m     \u001b[0msamples_buff_adv\u001b[0m\u001b[0;34m.\u001b[0m\u001b[0madd_samples\u001b[0m\u001b[0;34m(\u001b[0m\u001b[0mx_samples\u001b[0m\u001b[0;34m,\u001b[0m \u001b[0mv_labels\u001b[0m\u001b[0;34m)\u001b[0m\u001b[0;34m\u001b[0m\u001b[0;34m\u001b[0m\u001b[0m\n\u001b[1;32m      9\u001b[0m     \u001b[0;31m# random samples\u001b[0m\u001b[0;34m\u001b[0m\u001b[0;34m\u001b[0m\u001b[0;34m\u001b[0m\u001b[0m\n",
      "\u001b[0;32m~/Code/robust-value-approx/robust_value_approx/samples_generator.py\u001b[0m in \u001b[0;36mgenerate_samples\u001b[0;34m(self, n, value_approx)\u001b[0m\n\u001b[1;32m    105\u001b[0m             \u001b[0mx_adv0\u001b[0m \u001b[0;34m=\u001b[0m \u001b[0mself\u001b[0m\u001b[0;34m.\u001b[0m\u001b[0mget_random_x0\u001b[0m\u001b[0;34m(\u001b[0m\u001b[0;34m)\u001b[0m\u001b[0;34m\u001b[0m\u001b[0;34m\u001b[0m\u001b[0m\n\u001b[1;32m    106\u001b[0m             (eps, x_adv_buff, cost_to_go_buff) = self.get_squared_bound_sample(\n\u001b[0;32m--> 107\u001b[0;31m                 value_approx, x_adv0=x_adv0, max_iter=max_iter)\n\u001b[0m\u001b[1;32m    108\u001b[0m             \u001b[0madv_data\u001b[0m \u001b[0;34m=\u001b[0m \u001b[0mtorch\u001b[0m\u001b[0;34m.\u001b[0m\u001b[0mcat\u001b[0m\u001b[0;34m(\u001b[0m\u001b[0;34m(\u001b[0m\u001b[0madv_data\u001b[0m\u001b[0;34m,\u001b[0m \u001b[0mx_adv_buff\u001b[0m\u001b[0;34m)\u001b[0m\u001b[0;34m,\u001b[0m \u001b[0maxis\u001b[0m\u001b[0;34m=\u001b[0m\u001b[0;36m0\u001b[0m\u001b[0;34m)\u001b[0m\u001b[0;34m\u001b[0m\u001b[0;34m\u001b[0m\u001b[0m\n\u001b[1;32m    109\u001b[0m             \u001b[0madv_label\u001b[0m \u001b[0;34m=\u001b[0m \u001b[0mtorch\u001b[0m\u001b[0;34m.\u001b[0m\u001b[0mcat\u001b[0m\u001b[0;34m(\u001b[0m\u001b[0;34m(\u001b[0m\u001b[0madv_label\u001b[0m\u001b[0;34m,\u001b[0m \u001b[0mcost_to_go_buff\u001b[0m\u001b[0;34m)\u001b[0m\u001b[0;34m,\u001b[0m \u001b[0maxis\u001b[0m\u001b[0;34m=\u001b[0m\u001b[0;36m0\u001b[0m\u001b[0;34m)\u001b[0m\u001b[0;34m\u001b[0m\u001b[0;34m\u001b[0m\u001b[0m\n",
      "\u001b[0;32m~/Code/robust-value-approx/robust_value_approx/samples_generator.py\u001b[0m in \u001b[0;36mget_squared_bound_sample\u001b[0;34m(self, value_approx, x_adv0, max_iter)\u001b[0m\n\u001b[1;32m    157\u001b[0m         \u001b[0mcost_to_go_buff\u001b[0m \u001b[0;34m=\u001b[0m \u001b[0mtorch\u001b[0m\u001b[0;34m.\u001b[0m\u001b[0mTensor\u001b[0m\u001b[0;34m(\u001b[0m\u001b[0;36m0\u001b[0m\u001b[0;34m,\u001b[0m \u001b[0mself\u001b[0m\u001b[0;34m.\u001b[0m\u001b[0mN\u001b[0m\u001b[0;34m-\u001b[0m\u001b[0;36m1\u001b[0m\u001b[0;34m)\u001b[0m\u001b[0;34m.\u001b[0m\u001b[0mtype\u001b[0m\u001b[0;34m(\u001b[0m\u001b[0mself\u001b[0m\u001b[0;34m.\u001b[0m\u001b[0mdtype\u001b[0m\u001b[0;34m)\u001b[0m\u001b[0;34m\u001b[0m\u001b[0;34m\u001b[0m\u001b[0m\n\u001b[1;32m    158\u001b[0m         \u001b[0;32mfor\u001b[0m \u001b[0mi\u001b[0m \u001b[0;32min\u001b[0m \u001b[0mrange\u001b[0m\u001b[0;34m(\u001b[0m\u001b[0mmax_iter\u001b[0m\u001b[0;34m)\u001b[0m\u001b[0;34m:\u001b[0m\u001b[0;34m\u001b[0m\u001b[0;34m\u001b[0m\u001b[0m\n\u001b[0;32m--> 159\u001b[0;31m             \u001b[0mx_traj_flat\u001b[0m\u001b[0;34m,\u001b[0m \u001b[0mcost_to_go\u001b[0m \u001b[0;34m=\u001b[0m \u001b[0mself\u001b[0m\u001b[0;34m.\u001b[0m\u001b[0mV_with_grad\u001b[0m\u001b[0;34m(\u001b[0m\u001b[0mx_adv\u001b[0m\u001b[0;34m)\u001b[0m\u001b[0;34m\u001b[0m\u001b[0;34m\u001b[0m\u001b[0m\n\u001b[0m\u001b[1;32m    160\u001b[0m             \u001b[0mVx\u001b[0m \u001b[0;34m=\u001b[0m \u001b[0mcost_to_go\u001b[0m\u001b[0;34m[\u001b[0m\u001b[0;36m0\u001b[0m\u001b[0;34m]\u001b[0m\u001b[0;34m\u001b[0m\u001b[0;34m\u001b[0m\u001b[0m\n\u001b[1;32m    161\u001b[0m             \u001b[0;32mif\u001b[0m \u001b[0mtorch\u001b[0m\u001b[0;34m.\u001b[0m\u001b[0many\u001b[0m\u001b[0;34m(\u001b[0m\u001b[0mtorch\u001b[0m\u001b[0;34m.\u001b[0m\u001b[0misnan\u001b[0m\u001b[0;34m(\u001b[0m\u001b[0mVx\u001b[0m\u001b[0;34m)\u001b[0m\u001b[0;34m)\u001b[0m\u001b[0;34m:\u001b[0m\u001b[0;34m\u001b[0m\u001b[0;34m\u001b[0m\u001b[0m\n",
      "\u001b[0;32m~/Code/robust-value-approx/robust_value_approx/value_to_optimization.py\u001b[0m in \u001b[0;36m<lambda>\u001b[0;34m(x)\u001b[0m\n\u001b[1;32m   1297\u001b[0m             \u001b[0;32mreturn\u001b[0m \u001b[0mdf\u001b[0m\u001b[0;34m\u001b[0m\u001b[0;34m\u001b[0m\u001b[0m\n\u001b[1;32m   1298\u001b[0m         \u001b[0mV_args\u001b[0m \u001b[0;34m=\u001b[0m \u001b[0mdict\u001b[0m\u001b[0;34m(\u001b[0m\u001b[0mvf\u001b[0m\u001b[0;34m=\u001b[0m\u001b[0mself\u001b[0m\u001b[0;34m,\u001b[0m \u001b[0mdfdx\u001b[0m\u001b[0;34m=\u001b[0m\u001b[0mdfdx\u001b[0m\u001b[0;34m,\u001b[0m \u001b[0mgrads_g\u001b[0m\u001b[0;34m=\u001b[0m\u001b[0mgrads_g\u001b[0m\u001b[0;34m,\u001b[0m \u001b[0mddfddx\u001b[0m\u001b[0;34m=\u001b[0m\u001b[0mddfddx\u001b[0m\u001b[0;34m)\u001b[0m\u001b[0;34m\u001b[0m\u001b[0;34m\u001b[0m\u001b[0m\n\u001b[0;32m-> 1299\u001b[0;31m         \u001b[0mV_with_grad\u001b[0m \u001b[0;34m=\u001b[0m \u001b[0;32mlambda\u001b[0m \u001b[0mx\u001b[0m\u001b[0;34m:\u001b[0m \u001b[0mDiffFiniteHorizonNLPValueFunction\u001b[0m\u001b[0;34m.\u001b[0m\u001b[0mapply\u001b[0m\u001b[0;34m(\u001b[0m\u001b[0mx\u001b[0m\u001b[0;34m,\u001b[0m \u001b[0mV_args\u001b[0m\u001b[0;34m)\u001b[0m\u001b[0;34m\u001b[0m\u001b[0;34m\u001b[0m\u001b[0m\n\u001b[0m\u001b[1;32m   1300\u001b[0m         \u001b[0;32mreturn\u001b[0m \u001b[0mV_with_grad\u001b[0m\u001b[0;34m\u001b[0m\u001b[0;34m\u001b[0m\u001b[0m\n",
      "\u001b[0;32m~/Code/robust-value-approx/robust_value_approx/value_to_optimization.py\u001b[0m in \u001b[0;36mforward\u001b[0;34m(ctx, x, args)\u001b[0m\n\u001b[1;32m    918\u001b[0m         \u001b[0margs\u001b[0m\u001b[0;34m[\u001b[0m\u001b[0;34m'vf'\u001b[0m\u001b[0;34m]\u001b[0m\u001b[0;34m.\u001b[0m\u001b[0mx0_constraint\u001b[0m\u001b[0;34m.\u001b[0m\u001b[0mevaluator\u001b[0m\u001b[0;34m(\u001b[0m\u001b[0;34m)\u001b[0m\u001b[0;34m.\u001b[0m\u001b[0mset_bounds\u001b[0m\u001b[0;34m(\u001b[0m\u001b[0mx_np\u001b[0m\u001b[0;34m,\u001b[0m \u001b[0mx_np\u001b[0m\u001b[0;34m)\u001b[0m\u001b[0;34m\u001b[0m\u001b[0;34m\u001b[0m\u001b[0m\n\u001b[1;32m    919\u001b[0m         result = args['vf'].solver.Solve(\n\u001b[0;32m--> 920\u001b[0;31m             args['vf'].prog, np.zeros(args['vf'].prog.num_vars()), None)\n\u001b[0m\u001b[1;32m    921\u001b[0m         \u001b[0;32mif\u001b[0m \u001b[0;32mnot\u001b[0m \u001b[0mresult\u001b[0m\u001b[0;34m.\u001b[0m\u001b[0mis_success\u001b[0m\u001b[0;34m(\u001b[0m\u001b[0;34m)\u001b[0m\u001b[0;34m:\u001b[0m\u001b[0;34m\u001b[0m\u001b[0;34m\u001b[0m\u001b[0m\n\u001b[1;32m    922\u001b[0m             \u001b[0mctx\u001b[0m\u001b[0;34m.\u001b[0m\u001b[0msuccess\u001b[0m \u001b[0;34m=\u001b[0m \u001b[0;32mFalse\u001b[0m\u001b[0;34m\u001b[0m\u001b[0;34m\u001b[0m\u001b[0m\n",
      "\u001b[0;32m~/Code/robust-value-approx/robust_value_approx/test/acrobot_utils.py\u001b[0m in \u001b[0;36mdyn\u001b[0;34m(self, var, arraylib)\u001b[0m\n\u001b[1;32m     74\u001b[0m         \u001b[0mu1\u001b[0m \u001b[0;34m=\u001b[0m \u001b[0mvar\u001b[0m\u001b[0;34m[\u001b[0m\u001b[0mx_dim\u001b[0m\u001b[0;34m+\u001b[0m\u001b[0mu_dim\u001b[0m\u001b[0;34m+\u001b[0m\u001b[0;36m1\u001b[0m\u001b[0;34m+\u001b[0m\u001b[0mx_dim\u001b[0m\u001b[0;34m:\u001b[0m\u001b[0mx_dim\u001b[0m\u001b[0;34m+\u001b[0m\u001b[0mu_dim\u001b[0m\u001b[0;34m+\u001b[0m\u001b[0;36m1\u001b[0m\u001b[0;34m+\u001b[0m\u001b[0mx_dim\u001b[0m\u001b[0;34m+\u001b[0m\u001b[0mu_dim\u001b[0m\u001b[0;34m]\u001b[0m\u001b[0;34m\u001b[0m\u001b[0;34m\u001b[0m\u001b[0m\n\u001b[1;32m     75\u001b[0m         \u001b[0mdx0\u001b[0m \u001b[0;34m=\u001b[0m \u001b[0mself\u001b[0m\u001b[0;34m.\u001b[0m\u001b[0mdx\u001b[0m\u001b[0;34m(\u001b[0m\u001b[0mx0\u001b[0m\u001b[0;34m,\u001b[0m \u001b[0mu0\u001b[0m\u001b[0;34m,\u001b[0m \u001b[0marraylib\u001b[0m\u001b[0;34m=\u001b[0m\u001b[0marraylib\u001b[0m\u001b[0;34m)\u001b[0m\u001b[0;34m\u001b[0m\u001b[0;34m\u001b[0m\u001b[0m\n\u001b[0;32m---> 76\u001b[0;31m         \u001b[0mdx1\u001b[0m \u001b[0;34m=\u001b[0m \u001b[0mself\u001b[0m\u001b[0;34m.\u001b[0m\u001b[0mdx\u001b[0m\u001b[0;34m(\u001b[0m\u001b[0mx1\u001b[0m\u001b[0;34m,\u001b[0m \u001b[0mu1\u001b[0m\u001b[0;34m,\u001b[0m \u001b[0marraylib\u001b[0m\u001b[0;34m=\u001b[0m\u001b[0marraylib\u001b[0m\u001b[0;34m)\u001b[0m\u001b[0;34m\u001b[0m\u001b[0;34m\u001b[0m\u001b[0m\n\u001b[0m\u001b[1;32m     77\u001b[0m         \u001b[0;32mreturn\u001b[0m \u001b[0mx0\u001b[0m \u001b[0;34m+\u001b[0m \u001b[0;36m.5\u001b[0m \u001b[0;34m*\u001b[0m \u001b[0;34m(\u001b[0m\u001b[0mdx0\u001b[0m \u001b[0;34m+\u001b[0m \u001b[0mdx1\u001b[0m\u001b[0;34m)\u001b[0m \u001b[0;34m*\u001b[0m \u001b[0mdt0\u001b[0m \u001b[0;34m-\u001b[0m \u001b[0mx1\u001b[0m\u001b[0;34m\u001b[0m\u001b[0;34m\u001b[0m\u001b[0m\n\u001b[1;32m     78\u001b[0m \u001b[0;34m\u001b[0m\u001b[0m\n",
      "\u001b[0;32m~/Code/robust-value-approx/robust_value_approx/test/acrobot_utils.py\u001b[0m in \u001b[0;36mdx\u001b[0;34m(self, x0, u0, arraylib)\u001b[0m\n\u001b[1;32m     60\u001b[0m                             [1.]])        \n\u001b[1;32m     61\u001b[0m         \u001b[0mHdet\u001b[0m \u001b[0;34m=\u001b[0m \u001b[0mH\u001b[0m\u001b[0;34m[\u001b[0m\u001b[0;36m0\u001b[0m\u001b[0;34m,\u001b[0m\u001b[0;36m0\u001b[0m\u001b[0;34m]\u001b[0m\u001b[0;34m*\u001b[0m\u001b[0mH\u001b[0m\u001b[0;34m[\u001b[0m\u001b[0;36m1\u001b[0m\u001b[0;34m,\u001b[0m\u001b[0;36m1\u001b[0m\u001b[0;34m]\u001b[0m \u001b[0;34m-\u001b[0m \u001b[0mH\u001b[0m\u001b[0;34m[\u001b[0m\u001b[0;36m0\u001b[0m\u001b[0;34m,\u001b[0m\u001b[0;36m1\u001b[0m\u001b[0;34m]\u001b[0m\u001b[0;34m*\u001b[0m\u001b[0mH\u001b[0m\u001b[0;34m[\u001b[0m\u001b[0;36m1\u001b[0m\u001b[0;34m,\u001b[0m\u001b[0;36m0\u001b[0m\u001b[0;34m]\u001b[0m\u001b[0;34m\u001b[0m\u001b[0;34m\u001b[0m\u001b[0m\n\u001b[0;32m---> 62\u001b[0;31m         \u001b[0mHinv\u001b[0m \u001b[0;34m=\u001b[0m \u001b[0;34m(\u001b[0m\u001b[0;36m1.\u001b[0m\u001b[0;34m/\u001b[0m\u001b[0mHdet\u001b[0m\u001b[0;34m)\u001b[0m\u001b[0;34m*\u001b[0m\u001b[0marraylib\u001b[0m\u001b[0;34m.\u001b[0m\u001b[0marray\u001b[0m\u001b[0;34m(\u001b[0m\u001b[0;34m[\u001b[0m\u001b[0;34m[\u001b[0m\u001b[0mH\u001b[0m\u001b[0;34m[\u001b[0m\u001b[0;36m1\u001b[0m\u001b[0;34m,\u001b[0m\u001b[0;36m1\u001b[0m\u001b[0;34m]\u001b[0m\u001b[0;34m,\u001b[0m \u001b[0;34m-\u001b[0m\u001b[0mH\u001b[0m\u001b[0;34m[\u001b[0m\u001b[0;36m0\u001b[0m\u001b[0;34m,\u001b[0m\u001b[0;36m1\u001b[0m\u001b[0;34m]\u001b[0m\u001b[0;34m]\u001b[0m\u001b[0;34m,\u001b[0m \u001b[0;34m[\u001b[0m\u001b[0;34m-\u001b[0m\u001b[0mH\u001b[0m\u001b[0;34m[\u001b[0m\u001b[0;36m1\u001b[0m\u001b[0;34m,\u001b[0m\u001b[0;36m0\u001b[0m\u001b[0;34m]\u001b[0m\u001b[0;34m,\u001b[0m \u001b[0mH\u001b[0m\u001b[0;34m[\u001b[0m\u001b[0;36m0\u001b[0m\u001b[0;34m,\u001b[0m\u001b[0;36m0\u001b[0m\u001b[0;34m]\u001b[0m\u001b[0;34m]\u001b[0m\u001b[0;34m]\u001b[0m\u001b[0;34m)\u001b[0m\u001b[0;34m\u001b[0m\u001b[0;34m\u001b[0m\u001b[0m\n\u001b[0m\u001b[1;32m     63\u001b[0m         \u001b[0mx_ddot\u001b[0m \u001b[0;34m=\u001b[0m \u001b[0mHinv\u001b[0m\u001b[0;34m@\u001b[0m\u001b[0;34m(\u001b[0m\u001b[0mG\u001b[0m \u001b[0;34m+\u001b[0m \u001b[0mB\u001b[0m\u001b[0;34m@\u001b[0m\u001b[0mu0\u001b[0m \u001b[0;34m-\u001b[0m \u001b[0mC\u001b[0m\u001b[0;34m@\u001b[0m\u001b[0mx0\u001b[0m\u001b[0;34m[\u001b[0m\u001b[0;36m2\u001b[0m\u001b[0;34m:\u001b[0m\u001b[0;34m]\u001b[0m\u001b[0;34m)\u001b[0m\u001b[0;34m\u001b[0m\u001b[0;34m\u001b[0m\u001b[0m\n\u001b[1;32m     64\u001b[0m         \u001b[0mdx0\u001b[0m \u001b[0;34m=\u001b[0m \u001b[0marraylib\u001b[0m\u001b[0;34m.\u001b[0m\u001b[0marray\u001b[0m\u001b[0;34m(\u001b[0m\u001b[0;34m[\u001b[0m\u001b[0mx0\u001b[0m\u001b[0;34m[\u001b[0m\u001b[0;36m2\u001b[0m\u001b[0;34m]\u001b[0m\u001b[0;34m,\u001b[0m \u001b[0mx0\u001b[0m\u001b[0;34m[\u001b[0m\u001b[0;36m3\u001b[0m\u001b[0;34m]\u001b[0m\u001b[0;34m,\u001b[0m \u001b[0mx_ddot\u001b[0m\u001b[0;34m[\u001b[0m\u001b[0;36m0\u001b[0m\u001b[0;34m]\u001b[0m\u001b[0;34m,\u001b[0m \u001b[0mx_ddot\u001b[0m\u001b[0;34m[\u001b[0m\u001b[0;36m1\u001b[0m\u001b[0;34m]\u001b[0m\u001b[0;34m]\u001b[0m\u001b[0;34m)\u001b[0m\u001b[0;34m\u001b[0m\u001b[0;34m\u001b[0m\u001b[0m\n",
      "\u001b[0;31mKeyboardInterrupt\u001b[0m: "
     ]
    }
   ],
   "source": [
    "validation_losses = vf_approx_adv.validation_loss(x_samples_validation, v_labels_validation)\n",
    "train_log_adv.add_validation_loss(validation_losses)\n",
    "validation_losses = vf_approx.validation_loss(x_samples_validation, v_labels_validation)\n",
    "train_log.add_validation_loss(validation_losses)\n",
    "for gen_i in range(opt['num_generations']):\n",
    "    # adverserial samples\n",
    "    (x_samples, v_labels) = samples_gen_adv.generate_samples(opt['num_samples_per_generation'], vf_approx_adv)\n",
    "    samples_buff_adv.add_samples(x_samples, v_labels)\n",
    "    # random samples\n",
    "    (x_samples, v_labels) = samples_gen.generate_samples(opt['num_samples_per_generation'])\n",
    "    samples_buff.add_samples(x_samples, v_labels)\n",
    "    for train_step_i in range(opt['num_train_step_per_gen']):\n",
    "        samples_indices = samples_buff_adv.get_random_sample_indices(opt['batch_size'])\n",
    "        x, v = samples_buff_adv.get_samples_from_indices(samples_indices)\n",
    "        losses = vf_approx_adv.train_step(x, v)\n",
    "        train_log_adv.add_train_loss(losses)\n",
    "        x, v = samples_buff.get_samples_from_indices(samples_indices)\n",
    "        losses = vf_approx.train_step(x, v)\n",
    "        train_log.add_train_loss(losses)\n",
    "    validation_losses = vf_approx_adv.validation_loss(x_samples_validation, v_labels_validation)\n",
    "    train_log_adv.add_validation_loss(validation_losses)\n",
    "    validation_losses = vf_approx.validation_loss(x_samples_validation, v_labels_validation)\n",
    "    train_log.add_validation_loss(validation_losses)"
   ]
  },
  {
   "cell_type": "code",
   "execution_count": 130,
   "metadata": {},
   "outputs": [
    {
     "data": {
      "application/vnd.plotly.v1+json": {
       "config": {
        "plotlyServerURL": "https://plot.ly"
       },
       "data": [
        {
         "type": "scatter",
         "x": [
          0,
          4.655042357626371e-05,
          0.000512054655700922,
          0.005167096853256226,
          0.051717519760131836,
          0.10000000149011612,
          0.1537749320268631,
          0.20000000298023224,
          0.26556649804115295,
          0.30000001192092896,
          0.36871451139450073,
          0.4000000059604645,
          0.4698781371116638,
          0.5,
          0.5713194012641907,
          0.6000000238418579,
          0.6740013957023621,
          0.699999988079071,
          0.7720763087272644,
          0.800000011920929,
          0.8805978298187256,
          0.8999999761581421,
          0.9815257787704468,
          1,
          1.0805621147155762,
          1.100000023841858,
          1.1818716526031494,
          1.2000000476837158,
          1.281857967376709,
          1.2999999523162842,
          1.3712528944015503,
          1.399999976158142,
          1.4689189195632935,
          1.5,
          1.5714242458343506,
          1.600000023841858,
          1.649511694908142,
          1.7000000476837158,
          1.7741745710372925,
          1.7999999523162842,
          1.866768479347229,
          1.899999976158142,
          1.9737143516540527,
          2,
          2.0733773708343506,
          2.0999999046325684,
          2.1758172512054443,
          2.200000047683716,
          2.2880477905273438,
          2.299999952316284,
          2.3951547145843506,
          2.4000000953674316,
          2.491525173187256,
          2.5,
          2.5878610610961914,
          2.5999999046325684,
          2.682889223098755,
          2.700000047683716,
          2.776047945022583,
          2.799999952316284,
          2.861189365386963,
          2.9000000953674316,
          2.9652905464172363,
          3,
          3.0760648250579834,
          3.0999999046325684,
          3.178252696990967,
          3.200000047683716,
          3.266514301300049,
          3.299999952316284,
          3.3512072563171387,
          3.4000000953674316,
          3.46488094329834,
          3.5,
          3.5757808685302734,
          3.5999999046325684,
          3.6854898929595947,
          3.700000047683716,
          3.768087387084961,
          3.799999952316284,
          3.8644931316375732,
          3.9000000953674316,
          3.9518356323242188,
          4,
          4.043095111846924,
          4.099999904632568,
          4.141930103302002,
          4.199999809265137,
          4.241804599761963,
          4.300000190734863,
          4.35768985748291,
          4.400000095367432,
          4.450605392456055,
          4.5,
          4.549111843109131,
          4.599999904632568,
          4.642871379852295,
          4.699999809265137,
          4.752613067626953,
          4.800000190734863,
          4.87365198135376,
          4.900000095367432
         ],
         "y": [
          3.1415927410125732,
          3.1415927410125732,
          3.1415936946868896,
          3.141693353652954,
          3.151700258255005,
          3.1796038150787354,
          3.218698263168335,
          3.2495205402374268,
          3.2903060913085938,
          3.310918092727661,
          3.3518869876861572,
          3.370931625366211,
          3.4149739742279053,
          3.4348714351654053,
          3.4848995208740234,
          3.5064523220062256,
          3.5675480365753174,
          3.5912578105926514,
          3.6713364124298096,
          3.7091524600982666,
          3.8359696865081787,
          3.8703014850616455,
          4.032533645629883,
          4.073647975921631,
          4.274494647979736,
          4.328695297241211,
          4.5843505859375,
          4.647276401519775,
          4.960425853729248,
          5.035937309265137,
          5.35130500793457,
          5.486383438110352,
          5.829433917999268,
          5.994884967803955,
          6.407510280609131,
          6.582957744598389,
          6.8833537101745605,
          7.163783550262451,
          7.516019821166992,
          7.623922348022461,
          7.873453617095947,
          7.983304023742676,
          8.196757316589355,
          8.263833999633789,
          8.430477142333984,
          8.484627723693848,
          8.623907089233398,
          8.664247512817383,
          8.796663284301758,
          8.812982559204102,
          8.92916488647461,
          8.934429168701172,
          9.022008895874023,
          9.028980255126953,
          9.090399742126465,
          9.097362518310547,
          9.13520336151123,
          9.140958786010742,
          9.158370018005371,
          9.161165237426758,
          9.162773132324219,
          9.159774780273438,
          9.147933959960938,
          9.138193130493164,
          9.107874870300293,
          9.095638275146484,
          9.046330451965332,
          9.029962539672852,
          8.971822738647461,
          8.937548637390137,
          8.878037452697754,
          8.812627792358398,
          8.710559844970703,
          8.647266387939453,
          8.48936653137207,
          8.432307243347168,
          8.20324993133545,
          8.159944534301758,
          7.9365410804748535,
          7.820234775543213,
          7.572629928588867,
          7.4327826499938965,
          7.2222418785095215,
          7.019828796386719,
          6.832629203796387,
          6.575547695159912,
          6.381355285644531,
          6.108957290649414,
          5.91435432434082,
          5.651072025299072,
          5.403425693511963,
          5.2319793701171875,
          5.03920316696167,
          4.86375617980957,
          4.700490474700928,
          4.541080474853516,
          4.4124064445495605,
          4.2456254959106445,
          4.094037055969238,
          3.9570400714874268,
          3.7389421463012695,
          3.6584603786468506
         ]
        },
        {
         "type": "scatter",
         "x": [
          0,
          4.655042357626371e-05,
          0.000512054655700922,
          0.005167096853256226,
          0.051717519760131836,
          0.10000000149011612,
          0.1537749320268631,
          0.20000000298023224,
          0.26556649804115295,
          0.30000001192092896,
          0.36871451139450073,
          0.4000000059604645,
          0.4698781371116638,
          0.5,
          0.5713194012641907,
          0.6000000238418579,
          0.6740013957023621,
          0.699999988079071,
          0.7720763087272644,
          0.800000011920929,
          0.8805978298187256,
          0.8999999761581421,
          0.9815257787704468,
          1,
          1.0805621147155762,
          1.100000023841858,
          1.1818716526031494,
          1.2000000476837158,
          1.281857967376709,
          1.2999999523162842,
          1.3712528944015503,
          1.399999976158142,
          1.4689189195632935,
          1.5,
          1.5714242458343506,
          1.600000023841858,
          1.649511694908142,
          1.7000000476837158,
          1.7741745710372925,
          1.7999999523162842,
          1.866768479347229,
          1.899999976158142,
          1.9737143516540527,
          2,
          2.0733773708343506,
          2.0999999046325684,
          2.1758172512054443,
          2.200000047683716,
          2.2880477905273438,
          2.299999952316284,
          2.3951547145843506,
          2.4000000953674316,
          2.491525173187256,
          2.5,
          2.5878610610961914,
          2.5999999046325684,
          2.682889223098755,
          2.700000047683716,
          2.776047945022583,
          2.799999952316284,
          2.861189365386963,
          2.9000000953674316,
          2.9652905464172363,
          3,
          3.0760648250579834,
          3.0999999046325684,
          3.178252696990967,
          3.200000047683716,
          3.266514301300049,
          3.299999952316284,
          3.3512072563171387,
          3.4000000953674316,
          3.46488094329834,
          3.5,
          3.5757808685302734,
          3.5999999046325684,
          3.6854898929595947,
          3.700000047683716,
          3.768087387084961,
          3.799999952316284,
          3.8644931316375732,
          3.9000000953674316,
          3.9518356323242188,
          4,
          4.043095111846924,
          4.099999904632568,
          4.141930103302002,
          4.199999809265137,
          4.241804599761963,
          4.300000190734863,
          4.35768985748291,
          4.400000095367432,
          4.450605392456055,
          4.5,
          4.549111843109131,
          4.599999904632568,
          4.642871379852295,
          4.699999809265137,
          4.752613067626953,
          4.800000190734863,
          4.87365198135376,
          4.900000095367432
         ],
         "y": [
          0,
          -2.1786323856076706e-08,
          -2.6361446998635074e-06,
          -0.0002684335340745747,
          -0.02694370411336422,
          -0.10124048590660095,
          -0.2049759477376938,
          -0.28606948256492615,
          -0.39163684844970703,
          -0.443905234336853,
          -0.5450723171234131,
          -0.5907633900642395,
          -0.6929227113723755,
          -0.7374681830406189,
          -0.8451700210571289,
          -0.8897928595542908,
          -1.0116782188415527,
          -1.0574281215667725,
          -1.2137328386306763,
          -1.2886247634887695,
          -1.5363987684249878,
          -1.6020559072494507,
          -1.90346097946167,
          -1.9774065017700195,
          -2.3243682384490967,
          -2.4140405654907227,
          -2.816735029220581,
          -2.911665916442871,
          -3.3722307682037354,
          -3.48272442817688,
          -3.956482172012329,
          -4.169611930847168,
          -4.747602462768555,
          -5.045664310455322,
          -5.83432674407959,
          -6.182921886444092,
          -6.78598690032959,
          -7.34645414352417,
          -8.039806365966797,
          -8.250687599182129,
          -8.742667198181152,
          -8.964954376220703,
          -9.418432235717773,
          -9.56922435760498,
          -9.965551376342773,
          -10.101263999938965,
          -10.46446704864502,
          -10.573108673095703,
          -10.939778327941895,
          -10.986065864562988,
          -11.324313163757324,
          -11.34009075164795,
          -11.611855506896973,
          -11.634520530700684,
          -11.846383094787598,
          -11.872468948364258,
          -12.030932426452637,
          -12.059584617614746,
          -12.171615600585938,
          -12.202061653137207,
          -12.270659446716309,
          -12.307929992675781,
          -12.361213684082031,
          -12.38522720336914,
          -12.427284240722656,
          -12.437498092651367,
          -12.461908340454102,
          -12.466291427612305,
          -12.472464561462402,
          -12.471139907836914,
          -12.463048934936523,
          -12.448037147521973,
          -12.414839744567871,
          -12.38967227935791,
          -12.316957473754883,
          -12.288257598876953,
          -12.166203498840332,
          -12.142528533935547,
          -12.015463829040527,
          -11.947949409484863,
          -11.826509475708008,
          -11.778301239013672,
          -11.725053787231445,
          -11.691320419311523,
          -11.668987274169922,
          -11.642284393310547,
          -11.62629222869873,
          -11.609064102172852,
          -11.604315757751465,
          -11.611987113952637,
          -11.635659217834473,
          -11.660836219787598,
          -11.69658374786377,
          -11.73305892944336,
          -11.76529312133789,
          -11.7885160446167,
          -11.794973373413086,
          -11.778054237365723,
          -11.732239723205566,
          -11.663371086120605,
          -11.499768257141113,
          -11.423918724060059
         ]
        }
       ],
       "layout": {
        "template": {
         "data": {
          "bar": [
           {
            "error_x": {
             "color": "#2a3f5f"
            },
            "error_y": {
             "color": "#2a3f5f"
            },
            "marker": {
             "line": {
              "color": "#E5ECF6",
              "width": 0.5
             }
            },
            "type": "bar"
           }
          ],
          "barpolar": [
           {
            "marker": {
             "line": {
              "color": "#E5ECF6",
              "width": 0.5
             }
            },
            "type": "barpolar"
           }
          ],
          "carpet": [
           {
            "aaxis": {
             "endlinecolor": "#2a3f5f",
             "gridcolor": "white",
             "linecolor": "white",
             "minorgridcolor": "white",
             "startlinecolor": "#2a3f5f"
            },
            "baxis": {
             "endlinecolor": "#2a3f5f",
             "gridcolor": "white",
             "linecolor": "white",
             "minorgridcolor": "white",
             "startlinecolor": "#2a3f5f"
            },
            "type": "carpet"
           }
          ],
          "choropleth": [
           {
            "colorbar": {
             "outlinewidth": 0,
             "ticks": ""
            },
            "type": "choropleth"
           }
          ],
          "contour": [
           {
            "colorbar": {
             "outlinewidth": 0,
             "ticks": ""
            },
            "colorscale": [
             [
              0,
              "#0d0887"
             ],
             [
              0.1111111111111111,
              "#46039f"
             ],
             [
              0.2222222222222222,
              "#7201a8"
             ],
             [
              0.3333333333333333,
              "#9c179e"
             ],
             [
              0.4444444444444444,
              "#bd3786"
             ],
             [
              0.5555555555555556,
              "#d8576b"
             ],
             [
              0.6666666666666666,
              "#ed7953"
             ],
             [
              0.7777777777777778,
              "#fb9f3a"
             ],
             [
              0.8888888888888888,
              "#fdca26"
             ],
             [
              1,
              "#f0f921"
             ]
            ],
            "type": "contour"
           }
          ],
          "contourcarpet": [
           {
            "colorbar": {
             "outlinewidth": 0,
             "ticks": ""
            },
            "type": "contourcarpet"
           }
          ],
          "heatmap": [
           {
            "colorbar": {
             "outlinewidth": 0,
             "ticks": ""
            },
            "colorscale": [
             [
              0,
              "#0d0887"
             ],
             [
              0.1111111111111111,
              "#46039f"
             ],
             [
              0.2222222222222222,
              "#7201a8"
             ],
             [
              0.3333333333333333,
              "#9c179e"
             ],
             [
              0.4444444444444444,
              "#bd3786"
             ],
             [
              0.5555555555555556,
              "#d8576b"
             ],
             [
              0.6666666666666666,
              "#ed7953"
             ],
             [
              0.7777777777777778,
              "#fb9f3a"
             ],
             [
              0.8888888888888888,
              "#fdca26"
             ],
             [
              1,
              "#f0f921"
             ]
            ],
            "type": "heatmap"
           }
          ],
          "heatmapgl": [
           {
            "colorbar": {
             "outlinewidth": 0,
             "ticks": ""
            },
            "colorscale": [
             [
              0,
              "#0d0887"
             ],
             [
              0.1111111111111111,
              "#46039f"
             ],
             [
              0.2222222222222222,
              "#7201a8"
             ],
             [
              0.3333333333333333,
              "#9c179e"
             ],
             [
              0.4444444444444444,
              "#bd3786"
             ],
             [
              0.5555555555555556,
              "#d8576b"
             ],
             [
              0.6666666666666666,
              "#ed7953"
             ],
             [
              0.7777777777777778,
              "#fb9f3a"
             ],
             [
              0.8888888888888888,
              "#fdca26"
             ],
             [
              1,
              "#f0f921"
             ]
            ],
            "type": "heatmapgl"
           }
          ],
          "histogram": [
           {
            "marker": {
             "colorbar": {
              "outlinewidth": 0,
              "ticks": ""
             }
            },
            "type": "histogram"
           }
          ],
          "histogram2d": [
           {
            "colorbar": {
             "outlinewidth": 0,
             "ticks": ""
            },
            "colorscale": [
             [
              0,
              "#0d0887"
             ],
             [
              0.1111111111111111,
              "#46039f"
             ],
             [
              0.2222222222222222,
              "#7201a8"
             ],
             [
              0.3333333333333333,
              "#9c179e"
             ],
             [
              0.4444444444444444,
              "#bd3786"
             ],
             [
              0.5555555555555556,
              "#d8576b"
             ],
             [
              0.6666666666666666,
              "#ed7953"
             ],
             [
              0.7777777777777778,
              "#fb9f3a"
             ],
             [
              0.8888888888888888,
              "#fdca26"
             ],
             [
              1,
              "#f0f921"
             ]
            ],
            "type": "histogram2d"
           }
          ],
          "histogram2dcontour": [
           {
            "colorbar": {
             "outlinewidth": 0,
             "ticks": ""
            },
            "colorscale": [
             [
              0,
              "#0d0887"
             ],
             [
              0.1111111111111111,
              "#46039f"
             ],
             [
              0.2222222222222222,
              "#7201a8"
             ],
             [
              0.3333333333333333,
              "#9c179e"
             ],
             [
              0.4444444444444444,
              "#bd3786"
             ],
             [
              0.5555555555555556,
              "#d8576b"
             ],
             [
              0.6666666666666666,
              "#ed7953"
             ],
             [
              0.7777777777777778,
              "#fb9f3a"
             ],
             [
              0.8888888888888888,
              "#fdca26"
             ],
             [
              1,
              "#f0f921"
             ]
            ],
            "type": "histogram2dcontour"
           }
          ],
          "mesh3d": [
           {
            "colorbar": {
             "outlinewidth": 0,
             "ticks": ""
            },
            "type": "mesh3d"
           }
          ],
          "parcoords": [
           {
            "line": {
             "colorbar": {
              "outlinewidth": 0,
              "ticks": ""
             }
            },
            "type": "parcoords"
           }
          ],
          "pie": [
           {
            "automargin": true,
            "type": "pie"
           }
          ],
          "scatter": [
           {
            "marker": {
             "colorbar": {
              "outlinewidth": 0,
              "ticks": ""
             }
            },
            "type": "scatter"
           }
          ],
          "scatter3d": [
           {
            "line": {
             "colorbar": {
              "outlinewidth": 0,
              "ticks": ""
             }
            },
            "marker": {
             "colorbar": {
              "outlinewidth": 0,
              "ticks": ""
             }
            },
            "type": "scatter3d"
           }
          ],
          "scattercarpet": [
           {
            "marker": {
             "colorbar": {
              "outlinewidth": 0,
              "ticks": ""
             }
            },
            "type": "scattercarpet"
           }
          ],
          "scattergeo": [
           {
            "marker": {
             "colorbar": {
              "outlinewidth": 0,
              "ticks": ""
             }
            },
            "type": "scattergeo"
           }
          ],
          "scattergl": [
           {
            "marker": {
             "colorbar": {
              "outlinewidth": 0,
              "ticks": ""
             }
            },
            "type": "scattergl"
           }
          ],
          "scattermapbox": [
           {
            "marker": {
             "colorbar": {
              "outlinewidth": 0,
              "ticks": ""
             }
            },
            "type": "scattermapbox"
           }
          ],
          "scatterpolar": [
           {
            "marker": {
             "colorbar": {
              "outlinewidth": 0,
              "ticks": ""
             }
            },
            "type": "scatterpolar"
           }
          ],
          "scatterpolargl": [
           {
            "marker": {
             "colorbar": {
              "outlinewidth": 0,
              "ticks": ""
             }
            },
            "type": "scatterpolargl"
           }
          ],
          "scatterternary": [
           {
            "marker": {
             "colorbar": {
              "outlinewidth": 0,
              "ticks": ""
             }
            },
            "type": "scatterternary"
           }
          ],
          "surface": [
           {
            "colorbar": {
             "outlinewidth": 0,
             "ticks": ""
            },
            "colorscale": [
             [
              0,
              "#0d0887"
             ],
             [
              0.1111111111111111,
              "#46039f"
             ],
             [
              0.2222222222222222,
              "#7201a8"
             ],
             [
              0.3333333333333333,
              "#9c179e"
             ],
             [
              0.4444444444444444,
              "#bd3786"
             ],
             [
              0.5555555555555556,
              "#d8576b"
             ],
             [
              0.6666666666666666,
              "#ed7953"
             ],
             [
              0.7777777777777778,
              "#fb9f3a"
             ],
             [
              0.8888888888888888,
              "#fdca26"
             ],
             [
              1,
              "#f0f921"
             ]
            ],
            "type": "surface"
           }
          ],
          "table": [
           {
            "cells": {
             "fill": {
              "color": "#EBF0F8"
             },
             "line": {
              "color": "white"
             }
            },
            "header": {
             "fill": {
              "color": "#C8D4E3"
             },
             "line": {
              "color": "white"
             }
            },
            "type": "table"
           }
          ]
         },
         "layout": {
          "annotationdefaults": {
           "arrowcolor": "#2a3f5f",
           "arrowhead": 0,
           "arrowwidth": 1
          },
          "coloraxis": {
           "colorbar": {
            "outlinewidth": 0,
            "ticks": ""
           }
          },
          "colorscale": {
           "diverging": [
            [
             0,
             "#8e0152"
            ],
            [
             0.1,
             "#c51b7d"
            ],
            [
             0.2,
             "#de77ae"
            ],
            [
             0.3,
             "#f1b6da"
            ],
            [
             0.4,
             "#fde0ef"
            ],
            [
             0.5,
             "#f7f7f7"
            ],
            [
             0.6,
             "#e6f5d0"
            ],
            [
             0.7,
             "#b8e186"
            ],
            [
             0.8,
             "#7fbc41"
            ],
            [
             0.9,
             "#4d9221"
            ],
            [
             1,
             "#276419"
            ]
           ],
           "sequential": [
            [
             0,
             "#0d0887"
            ],
            [
             0.1111111111111111,
             "#46039f"
            ],
            [
             0.2222222222222222,
             "#7201a8"
            ],
            [
             0.3333333333333333,
             "#9c179e"
            ],
            [
             0.4444444444444444,
             "#bd3786"
            ],
            [
             0.5555555555555556,
             "#d8576b"
            ],
            [
             0.6666666666666666,
             "#ed7953"
            ],
            [
             0.7777777777777778,
             "#fb9f3a"
            ],
            [
             0.8888888888888888,
             "#fdca26"
            ],
            [
             1,
             "#f0f921"
            ]
           ],
           "sequentialminus": [
            [
             0,
             "#0d0887"
            ],
            [
             0.1111111111111111,
             "#46039f"
            ],
            [
             0.2222222222222222,
             "#7201a8"
            ],
            [
             0.3333333333333333,
             "#9c179e"
            ],
            [
             0.4444444444444444,
             "#bd3786"
            ],
            [
             0.5555555555555556,
             "#d8576b"
            ],
            [
             0.6666666666666666,
             "#ed7953"
            ],
            [
             0.7777777777777778,
             "#fb9f3a"
            ],
            [
             0.8888888888888888,
             "#fdca26"
            ],
            [
             1,
             "#f0f921"
            ]
           ]
          },
          "colorway": [
           "#636efa",
           "#EF553B",
           "#00cc96",
           "#ab63fa",
           "#FFA15A",
           "#19d3f3",
           "#FF6692",
           "#B6E880",
           "#FF97FF",
           "#FECB52"
          ],
          "font": {
           "color": "#2a3f5f"
          },
          "geo": {
           "bgcolor": "white",
           "lakecolor": "white",
           "landcolor": "#E5ECF6",
           "showlakes": true,
           "showland": true,
           "subunitcolor": "white"
          },
          "hoverlabel": {
           "align": "left"
          },
          "hovermode": "closest",
          "mapbox": {
           "style": "light"
          },
          "paper_bgcolor": "white",
          "plot_bgcolor": "#E5ECF6",
          "polar": {
           "angularaxis": {
            "gridcolor": "white",
            "linecolor": "white",
            "ticks": ""
           },
           "bgcolor": "#E5ECF6",
           "radialaxis": {
            "gridcolor": "white",
            "linecolor": "white",
            "ticks": ""
           }
          },
          "scene": {
           "xaxis": {
            "backgroundcolor": "#E5ECF6",
            "gridcolor": "white",
            "gridwidth": 2,
            "linecolor": "white",
            "showbackground": true,
            "ticks": "",
            "zerolinecolor": "white"
           },
           "yaxis": {
            "backgroundcolor": "#E5ECF6",
            "gridcolor": "white",
            "gridwidth": 2,
            "linecolor": "white",
            "showbackground": true,
            "ticks": "",
            "zerolinecolor": "white"
           },
           "zaxis": {
            "backgroundcolor": "#E5ECF6",
            "gridcolor": "white",
            "gridwidth": 2,
            "linecolor": "white",
            "showbackground": true,
            "ticks": "",
            "zerolinecolor": "white"
           }
          },
          "shapedefaults": {
           "line": {
            "color": "#2a3f5f"
           }
          },
          "ternary": {
           "aaxis": {
            "gridcolor": "white",
            "linecolor": "white",
            "ticks": ""
           },
           "baxis": {
            "gridcolor": "white",
            "linecolor": "white",
            "ticks": ""
           },
           "bgcolor": "#E5ECF6",
           "caxis": {
            "gridcolor": "white",
            "linecolor": "white",
            "ticks": ""
           }
          },
          "title": {
           "x": 0.05
          },
          "xaxis": {
           "automargin": true,
           "gridcolor": "white",
           "linecolor": "white",
           "ticks": "",
           "title": {
            "standoff": 15
           },
           "zerolinecolor": "white",
           "zerolinewidth": 2
          },
          "yaxis": {
           "automargin": true,
           "gridcolor": "white",
           "linecolor": "white",
           "ticks": "",
           "title": {
            "standoff": 15
           },
           "zerolinecolor": "white",
           "zerolinewidth": 2
          }
         }
        }
       }
      },
      "text/html": [
       "<div>\n",
       "        \n",
       "        \n",
       "            <div id=\"5b156651-3509-4084-8ea4-a4866d27d1f0\" class=\"plotly-graph-div\" style=\"height:525px; width:100%;\"></div>\n",
       "            <script type=\"text/javascript\">\n",
       "                require([\"plotly\"], function(Plotly) {\n",
       "                    window.PLOTLYENV=window.PLOTLYENV || {};\n",
       "                    \n",
       "                if (document.getElementById(\"5b156651-3509-4084-8ea4-a4866d27d1f0\")) {\n",
       "                    Plotly.newPlot(\n",
       "                        '5b156651-3509-4084-8ea4-a4866d27d1f0',\n",
       "                        [{\"type\": \"scatter\", \"x\": [0.0, 4.655042357626371e-05, 0.000512054655700922, 0.005167096853256226, 0.051717519760131836, 0.10000000149011612, 0.1537749320268631, 0.20000000298023224, 0.26556649804115295, 0.30000001192092896, 0.36871451139450073, 0.4000000059604645, 0.4698781371116638, 0.5, 0.5713194012641907, 0.6000000238418579, 0.6740013957023621, 0.699999988079071, 0.7720763087272644, 0.800000011920929, 0.8805978298187256, 0.8999999761581421, 0.9815257787704468, 1.0, 1.0805621147155762, 1.100000023841858, 1.1818716526031494, 1.2000000476837158, 1.281857967376709, 1.2999999523162842, 1.3712528944015503, 1.399999976158142, 1.4689189195632935, 1.5, 1.5714242458343506, 1.600000023841858, 1.649511694908142, 1.7000000476837158, 1.7741745710372925, 1.7999999523162842, 1.866768479347229, 1.899999976158142, 1.9737143516540527, 2.0, 2.0733773708343506, 2.0999999046325684, 2.1758172512054443, 2.200000047683716, 2.2880477905273438, 2.299999952316284, 2.3951547145843506, 2.4000000953674316, 2.491525173187256, 2.5, 2.5878610610961914, 2.5999999046325684, 2.682889223098755, 2.700000047683716, 2.776047945022583, 2.799999952316284, 2.861189365386963, 2.9000000953674316, 2.9652905464172363, 3.0, 3.0760648250579834, 3.0999999046325684, 3.178252696990967, 3.200000047683716, 3.266514301300049, 3.299999952316284, 3.3512072563171387, 3.4000000953674316, 3.46488094329834, 3.5, 3.5757808685302734, 3.5999999046325684, 3.6854898929595947, 3.700000047683716, 3.768087387084961, 3.799999952316284, 3.8644931316375732, 3.9000000953674316, 3.9518356323242188, 4.0, 4.043095111846924, 4.099999904632568, 4.141930103302002, 4.199999809265137, 4.241804599761963, 4.300000190734863, 4.35768985748291, 4.400000095367432, 4.450605392456055, 4.5, 4.549111843109131, 4.599999904632568, 4.642871379852295, 4.699999809265137, 4.752613067626953, 4.800000190734863, 4.87365198135376, 4.900000095367432], \"y\": [3.1415927410125732, 3.1415927410125732, 3.1415936946868896, 3.141693353652954, 3.151700258255005, 3.1796038150787354, 3.218698263168335, 3.2495205402374268, 3.2903060913085938, 3.310918092727661, 3.3518869876861572, 3.370931625366211, 3.4149739742279053, 3.4348714351654053, 3.4848995208740234, 3.5064523220062256, 3.5675480365753174, 3.5912578105926514, 3.6713364124298096, 3.7091524600982666, 3.8359696865081787, 3.8703014850616455, 4.032533645629883, 4.073647975921631, 4.274494647979736, 4.328695297241211, 4.5843505859375, 4.647276401519775, 4.960425853729248, 5.035937309265137, 5.35130500793457, 5.486383438110352, 5.829433917999268, 5.994884967803955, 6.407510280609131, 6.582957744598389, 6.8833537101745605, 7.163783550262451, 7.516019821166992, 7.623922348022461, 7.873453617095947, 7.983304023742676, 8.196757316589355, 8.263833999633789, 8.430477142333984, 8.484627723693848, 8.623907089233398, 8.664247512817383, 8.796663284301758, 8.812982559204102, 8.92916488647461, 8.934429168701172, 9.022008895874023, 9.028980255126953, 9.090399742126465, 9.097362518310547, 9.13520336151123, 9.140958786010742, 9.158370018005371, 9.161165237426758, 9.162773132324219, 9.159774780273438, 9.147933959960938, 9.138193130493164, 9.107874870300293, 9.095638275146484, 9.046330451965332, 9.029962539672852, 8.971822738647461, 8.937548637390137, 8.878037452697754, 8.812627792358398, 8.710559844970703, 8.647266387939453, 8.48936653137207, 8.432307243347168, 8.20324993133545, 8.159944534301758, 7.9365410804748535, 7.820234775543213, 7.572629928588867, 7.4327826499938965, 7.2222418785095215, 7.019828796386719, 6.832629203796387, 6.575547695159912, 6.381355285644531, 6.108957290649414, 5.91435432434082, 5.651072025299072, 5.403425693511963, 5.2319793701171875, 5.03920316696167, 4.86375617980957, 4.700490474700928, 4.541080474853516, 4.4124064445495605, 4.2456254959106445, 4.094037055969238, 3.9570400714874268, 3.7389421463012695, 3.6584603786468506]}, {\"type\": \"scatter\", \"x\": [0.0, 4.655042357626371e-05, 0.000512054655700922, 0.005167096853256226, 0.051717519760131836, 0.10000000149011612, 0.1537749320268631, 0.20000000298023224, 0.26556649804115295, 0.30000001192092896, 0.36871451139450073, 0.4000000059604645, 0.4698781371116638, 0.5, 0.5713194012641907, 0.6000000238418579, 0.6740013957023621, 0.699999988079071, 0.7720763087272644, 0.800000011920929, 0.8805978298187256, 0.8999999761581421, 0.9815257787704468, 1.0, 1.0805621147155762, 1.100000023841858, 1.1818716526031494, 1.2000000476837158, 1.281857967376709, 1.2999999523162842, 1.3712528944015503, 1.399999976158142, 1.4689189195632935, 1.5, 1.5714242458343506, 1.600000023841858, 1.649511694908142, 1.7000000476837158, 1.7741745710372925, 1.7999999523162842, 1.866768479347229, 1.899999976158142, 1.9737143516540527, 2.0, 2.0733773708343506, 2.0999999046325684, 2.1758172512054443, 2.200000047683716, 2.2880477905273438, 2.299999952316284, 2.3951547145843506, 2.4000000953674316, 2.491525173187256, 2.5, 2.5878610610961914, 2.5999999046325684, 2.682889223098755, 2.700000047683716, 2.776047945022583, 2.799999952316284, 2.861189365386963, 2.9000000953674316, 2.9652905464172363, 3.0, 3.0760648250579834, 3.0999999046325684, 3.178252696990967, 3.200000047683716, 3.266514301300049, 3.299999952316284, 3.3512072563171387, 3.4000000953674316, 3.46488094329834, 3.5, 3.5757808685302734, 3.5999999046325684, 3.6854898929595947, 3.700000047683716, 3.768087387084961, 3.799999952316284, 3.8644931316375732, 3.9000000953674316, 3.9518356323242188, 4.0, 4.043095111846924, 4.099999904632568, 4.141930103302002, 4.199999809265137, 4.241804599761963, 4.300000190734863, 4.35768985748291, 4.400000095367432, 4.450605392456055, 4.5, 4.549111843109131, 4.599999904632568, 4.642871379852295, 4.699999809265137, 4.752613067626953, 4.800000190734863, 4.87365198135376, 4.900000095367432], \"y\": [-0.0, -2.1786323856076706e-08, -2.6361446998635074e-06, -0.0002684335340745747, -0.02694370411336422, -0.10124048590660095, -0.2049759477376938, -0.28606948256492615, -0.39163684844970703, -0.443905234336853, -0.5450723171234131, -0.5907633900642395, -0.6929227113723755, -0.7374681830406189, -0.8451700210571289, -0.8897928595542908, -1.0116782188415527, -1.0574281215667725, -1.2137328386306763, -1.2886247634887695, -1.5363987684249878, -1.6020559072494507, -1.90346097946167, -1.9774065017700195, -2.3243682384490967, -2.4140405654907227, -2.816735029220581, -2.911665916442871, -3.3722307682037354, -3.48272442817688, -3.956482172012329, -4.169611930847168, -4.747602462768555, -5.045664310455322, -5.83432674407959, -6.182921886444092, -6.78598690032959, -7.34645414352417, -8.039806365966797, -8.250687599182129, -8.742667198181152, -8.964954376220703, -9.418432235717773, -9.56922435760498, -9.965551376342773, -10.101263999938965, -10.46446704864502, -10.573108673095703, -10.939778327941895, -10.986065864562988, -11.324313163757324, -11.34009075164795, -11.611855506896973, -11.634520530700684, -11.846383094787598, -11.872468948364258, -12.030932426452637, -12.059584617614746, -12.171615600585938, -12.202061653137207, -12.270659446716309, -12.307929992675781, -12.361213684082031, -12.38522720336914, -12.427284240722656, -12.437498092651367, -12.461908340454102, -12.466291427612305, -12.472464561462402, -12.471139907836914, -12.463048934936523, -12.448037147521973, -12.414839744567871, -12.38967227935791, -12.316957473754883, -12.288257598876953, -12.166203498840332, -12.142528533935547, -12.015463829040527, -11.947949409484863, -11.826509475708008, -11.778301239013672, -11.725053787231445, -11.691320419311523, -11.668987274169922, -11.642284393310547, -11.62629222869873, -11.609064102172852, -11.604315757751465, -11.611987113952637, -11.635659217834473, -11.660836219787598, -11.69658374786377, -11.73305892944336, -11.76529312133789, -11.7885160446167, -11.794973373413086, -11.778054237365723, -11.732239723205566, -11.663371086120605, -11.499768257141113, -11.423918724060059]}],\n",
       "                        {\"template\": {\"data\": {\"bar\": [{\"error_x\": {\"color\": \"#2a3f5f\"}, \"error_y\": {\"color\": \"#2a3f5f\"}, \"marker\": {\"line\": {\"color\": \"#E5ECF6\", \"width\": 0.5}}, \"type\": \"bar\"}], \"barpolar\": [{\"marker\": {\"line\": {\"color\": \"#E5ECF6\", \"width\": 0.5}}, \"type\": \"barpolar\"}], \"carpet\": [{\"aaxis\": {\"endlinecolor\": \"#2a3f5f\", \"gridcolor\": \"white\", \"linecolor\": \"white\", \"minorgridcolor\": \"white\", \"startlinecolor\": \"#2a3f5f\"}, \"baxis\": {\"endlinecolor\": \"#2a3f5f\", \"gridcolor\": \"white\", \"linecolor\": \"white\", \"minorgridcolor\": \"white\", \"startlinecolor\": \"#2a3f5f\"}, \"type\": \"carpet\"}], \"choropleth\": [{\"colorbar\": {\"outlinewidth\": 0, \"ticks\": \"\"}, \"type\": \"choropleth\"}], \"contour\": [{\"colorbar\": {\"outlinewidth\": 0, \"ticks\": \"\"}, \"colorscale\": [[0.0, \"#0d0887\"], [0.1111111111111111, \"#46039f\"], [0.2222222222222222, \"#7201a8\"], [0.3333333333333333, \"#9c179e\"], [0.4444444444444444, \"#bd3786\"], [0.5555555555555556, \"#d8576b\"], [0.6666666666666666, \"#ed7953\"], [0.7777777777777778, \"#fb9f3a\"], [0.8888888888888888, \"#fdca26\"], [1.0, \"#f0f921\"]], \"type\": \"contour\"}], \"contourcarpet\": [{\"colorbar\": {\"outlinewidth\": 0, \"ticks\": \"\"}, \"type\": \"contourcarpet\"}], \"heatmap\": [{\"colorbar\": {\"outlinewidth\": 0, \"ticks\": \"\"}, \"colorscale\": [[0.0, \"#0d0887\"], [0.1111111111111111, \"#46039f\"], [0.2222222222222222, \"#7201a8\"], [0.3333333333333333, \"#9c179e\"], [0.4444444444444444, \"#bd3786\"], [0.5555555555555556, \"#d8576b\"], [0.6666666666666666, \"#ed7953\"], [0.7777777777777778, \"#fb9f3a\"], [0.8888888888888888, \"#fdca26\"], [1.0, \"#f0f921\"]], \"type\": \"heatmap\"}], \"heatmapgl\": [{\"colorbar\": {\"outlinewidth\": 0, \"ticks\": \"\"}, \"colorscale\": [[0.0, \"#0d0887\"], [0.1111111111111111, \"#46039f\"], [0.2222222222222222, \"#7201a8\"], [0.3333333333333333, \"#9c179e\"], [0.4444444444444444, \"#bd3786\"], [0.5555555555555556, \"#d8576b\"], [0.6666666666666666, \"#ed7953\"], [0.7777777777777778, \"#fb9f3a\"], [0.8888888888888888, \"#fdca26\"], [1.0, \"#f0f921\"]], \"type\": \"heatmapgl\"}], \"histogram\": [{\"marker\": {\"colorbar\": {\"outlinewidth\": 0, \"ticks\": \"\"}}, \"type\": \"histogram\"}], \"histogram2d\": [{\"colorbar\": {\"outlinewidth\": 0, \"ticks\": \"\"}, \"colorscale\": [[0.0, \"#0d0887\"], [0.1111111111111111, \"#46039f\"], [0.2222222222222222, \"#7201a8\"], [0.3333333333333333, \"#9c179e\"], [0.4444444444444444, \"#bd3786\"], [0.5555555555555556, \"#d8576b\"], [0.6666666666666666, \"#ed7953\"], [0.7777777777777778, \"#fb9f3a\"], [0.8888888888888888, \"#fdca26\"], [1.0, \"#f0f921\"]], \"type\": \"histogram2d\"}], \"histogram2dcontour\": [{\"colorbar\": {\"outlinewidth\": 0, \"ticks\": \"\"}, \"colorscale\": [[0.0, \"#0d0887\"], [0.1111111111111111, \"#46039f\"], [0.2222222222222222, \"#7201a8\"], [0.3333333333333333, \"#9c179e\"], [0.4444444444444444, \"#bd3786\"], [0.5555555555555556, \"#d8576b\"], [0.6666666666666666, \"#ed7953\"], [0.7777777777777778, \"#fb9f3a\"], [0.8888888888888888, \"#fdca26\"], [1.0, \"#f0f921\"]], \"type\": \"histogram2dcontour\"}], \"mesh3d\": [{\"colorbar\": {\"outlinewidth\": 0, \"ticks\": \"\"}, \"type\": \"mesh3d\"}], \"parcoords\": [{\"line\": {\"colorbar\": {\"outlinewidth\": 0, \"ticks\": \"\"}}, \"type\": \"parcoords\"}], \"pie\": [{\"automargin\": true, \"type\": \"pie\"}], \"scatter\": [{\"marker\": {\"colorbar\": {\"outlinewidth\": 0, \"ticks\": \"\"}}, \"type\": \"scatter\"}], \"scatter3d\": [{\"line\": {\"colorbar\": {\"outlinewidth\": 0, \"ticks\": \"\"}}, \"marker\": {\"colorbar\": {\"outlinewidth\": 0, \"ticks\": \"\"}}, \"type\": \"scatter3d\"}], \"scattercarpet\": [{\"marker\": {\"colorbar\": {\"outlinewidth\": 0, \"ticks\": \"\"}}, \"type\": \"scattercarpet\"}], \"scattergeo\": [{\"marker\": {\"colorbar\": {\"outlinewidth\": 0, \"ticks\": \"\"}}, \"type\": \"scattergeo\"}], \"scattergl\": [{\"marker\": {\"colorbar\": {\"outlinewidth\": 0, \"ticks\": \"\"}}, \"type\": \"scattergl\"}], \"scattermapbox\": [{\"marker\": {\"colorbar\": {\"outlinewidth\": 0, \"ticks\": \"\"}}, \"type\": \"scattermapbox\"}], \"scatterpolar\": [{\"marker\": {\"colorbar\": {\"outlinewidth\": 0, \"ticks\": \"\"}}, \"type\": \"scatterpolar\"}], \"scatterpolargl\": [{\"marker\": {\"colorbar\": {\"outlinewidth\": 0, \"ticks\": \"\"}}, \"type\": \"scatterpolargl\"}], \"scatterternary\": [{\"marker\": {\"colorbar\": {\"outlinewidth\": 0, \"ticks\": \"\"}}, \"type\": \"scatterternary\"}], \"surface\": [{\"colorbar\": {\"outlinewidth\": 0, \"ticks\": \"\"}, \"colorscale\": [[0.0, \"#0d0887\"], [0.1111111111111111, \"#46039f\"], [0.2222222222222222, \"#7201a8\"], [0.3333333333333333, \"#9c179e\"], [0.4444444444444444, \"#bd3786\"], [0.5555555555555556, \"#d8576b\"], [0.6666666666666666, \"#ed7953\"], [0.7777777777777778, \"#fb9f3a\"], [0.8888888888888888, \"#fdca26\"], [1.0, \"#f0f921\"]], \"type\": \"surface\"}], \"table\": [{\"cells\": {\"fill\": {\"color\": \"#EBF0F8\"}, \"line\": {\"color\": \"white\"}}, \"header\": {\"fill\": {\"color\": \"#C8D4E3\"}, \"line\": {\"color\": \"white\"}}, \"type\": \"table\"}]}, \"layout\": {\"annotationdefaults\": {\"arrowcolor\": \"#2a3f5f\", \"arrowhead\": 0, \"arrowwidth\": 1}, \"coloraxis\": {\"colorbar\": {\"outlinewidth\": 0, \"ticks\": \"\"}}, \"colorscale\": {\"diverging\": [[0, \"#8e0152\"], [0.1, \"#c51b7d\"], [0.2, \"#de77ae\"], [0.3, \"#f1b6da\"], [0.4, \"#fde0ef\"], [0.5, \"#f7f7f7\"], [0.6, \"#e6f5d0\"], [0.7, \"#b8e186\"], [0.8, \"#7fbc41\"], [0.9, \"#4d9221\"], [1, \"#276419\"]], \"sequential\": [[0.0, \"#0d0887\"], [0.1111111111111111, \"#46039f\"], [0.2222222222222222, \"#7201a8\"], [0.3333333333333333, \"#9c179e\"], [0.4444444444444444, \"#bd3786\"], [0.5555555555555556, \"#d8576b\"], [0.6666666666666666, \"#ed7953\"], [0.7777777777777778, \"#fb9f3a\"], [0.8888888888888888, \"#fdca26\"], [1.0, \"#f0f921\"]], \"sequentialminus\": [[0.0, \"#0d0887\"], [0.1111111111111111, \"#46039f\"], [0.2222222222222222, \"#7201a8\"], [0.3333333333333333, \"#9c179e\"], [0.4444444444444444, \"#bd3786\"], [0.5555555555555556, \"#d8576b\"], [0.6666666666666666, \"#ed7953\"], [0.7777777777777778, \"#fb9f3a\"], [0.8888888888888888, \"#fdca26\"], [1.0, \"#f0f921\"]]}, \"colorway\": [\"#636efa\", \"#EF553B\", \"#00cc96\", \"#ab63fa\", \"#FFA15A\", \"#19d3f3\", \"#FF6692\", \"#B6E880\", \"#FF97FF\", \"#FECB52\"], \"font\": {\"color\": \"#2a3f5f\"}, \"geo\": {\"bgcolor\": \"white\", \"lakecolor\": \"white\", \"landcolor\": \"#E5ECF6\", \"showlakes\": true, \"showland\": true, \"subunitcolor\": \"white\"}, \"hoverlabel\": {\"align\": \"left\"}, \"hovermode\": \"closest\", \"mapbox\": {\"style\": \"light\"}, \"paper_bgcolor\": \"white\", \"plot_bgcolor\": \"#E5ECF6\", \"polar\": {\"angularaxis\": {\"gridcolor\": \"white\", \"linecolor\": \"white\", \"ticks\": \"\"}, \"bgcolor\": \"#E5ECF6\", \"radialaxis\": {\"gridcolor\": \"white\", \"linecolor\": \"white\", \"ticks\": \"\"}}, \"scene\": {\"xaxis\": {\"backgroundcolor\": \"#E5ECF6\", \"gridcolor\": \"white\", \"gridwidth\": 2, \"linecolor\": \"white\", \"showbackground\": true, \"ticks\": \"\", \"zerolinecolor\": \"white\"}, \"yaxis\": {\"backgroundcolor\": \"#E5ECF6\", \"gridcolor\": \"white\", \"gridwidth\": 2, \"linecolor\": \"white\", \"showbackground\": true, \"ticks\": \"\", \"zerolinecolor\": \"white\"}, \"zaxis\": {\"backgroundcolor\": \"#E5ECF6\", \"gridcolor\": \"white\", \"gridwidth\": 2, \"linecolor\": \"white\", \"showbackground\": true, \"ticks\": \"\", \"zerolinecolor\": \"white\"}}, \"shapedefaults\": {\"line\": {\"color\": \"#2a3f5f\"}}, \"ternary\": {\"aaxis\": {\"gridcolor\": \"white\", \"linecolor\": \"white\", \"ticks\": \"\"}, \"baxis\": {\"gridcolor\": \"white\", \"linecolor\": \"white\", \"ticks\": \"\"}, \"bgcolor\": \"#E5ECF6\", \"caxis\": {\"gridcolor\": \"white\", \"linecolor\": \"white\", \"ticks\": \"\"}}, \"title\": {\"x\": 0.05}, \"xaxis\": {\"automargin\": true, \"gridcolor\": \"white\", \"linecolor\": \"white\", \"ticks\": \"\", \"title\": {\"standoff\": 15}, \"zerolinecolor\": \"white\", \"zerolinewidth\": 2}, \"yaxis\": {\"automargin\": true, \"gridcolor\": \"white\", \"linecolor\": \"white\", \"ticks\": \"\", \"title\": {\"standoff\": 15}, \"zerolinecolor\": \"white\", \"zerolinewidth\": 2}}}},\n",
       "                        {\"responsive\": true}\n",
       "                    ).then(function(){\n",
       "                            \n",
       "var gd = document.getElementById('5b156651-3509-4084-8ea4-a4866d27d1f0');\n",
       "var x = new MutationObserver(function (mutations, observer) {{\n",
       "        var display = window.getComputedStyle(gd).display;\n",
       "        if (!display || display === 'none') {{\n",
       "            console.log([gd, 'removed!']);\n",
       "            Plotly.purge(gd);\n",
       "            observer.disconnect();\n",
       "        }}\n",
       "}});\n",
       "\n",
       "// Listen for the removal of the full notebook cells\n",
       "var notebookContainer = gd.closest('#notebook-container');\n",
       "if (notebookContainer) {{\n",
       "    x.observe(notebookContainer, {childList: true});\n",
       "}}\n",
       "\n",
       "// Listen for the clearing of the current output cell\n",
       "var outputEl = gd.closest('.output');\n",
       "if (outputEl) {{\n",
       "    x.observe(outputEl, {childList: true});\n",
       "}}\n",
       "\n",
       "                        })\n",
       "                };\n",
       "                });\n",
       "            </script>\n",
       "        </div>"
      ]
     },
     "metadata": {},
     "output_type": "display_data"
    }
   ],
   "source": [
    "dx = acrobot.dx\n",
    "step_cost = vf.step_cost\n",
    "u_min = torch.Tensor(vf.u_lo[0]).type(vf.dtype)\n",
    "u_max = torch.Tensor(vf.u_up[0]).type(vf.dtype)\n",
    "dt_ctrl = .2\n",
    "num_samples = 100\n",
    "\n",
    "ctrl = controllers.get_sampling_infinite_horizon_controller(dx, step_cost, vf_approx.model, u_min, u_max, dt_ctrl, num_samples)\n",
    "eps = 0.\n",
    "x0 = torch.Tensor([np.pi+eps, -eps, 0., 0.]).double()\n",
    "x_traj_sim, t_traj_sim = controllers.sim_ctrl(x0, 1, acrobot.dx, ctrl, .1, 50)\n",
    "\n",
    "fig = go.Figure()\n",
    "for i in range(2):\n",
    "    fig.add_trace(go.Scatter(\n",
    "        x=t_traj_sim,\n",
    "        y=x_traj_sim[i,:]\n",
    "    ))\n",
    "fig.show()"
   ]
  },
  {
   "cell_type": "code",
   "execution_count": null,
   "metadata": {},
   "outputs": [],
   "source": [
    "# controller params\n",
    "dx = acrobot.dx\n",
    "step_cost = vf.step_cost\n",
    "u_min = torch.Tensor(vf.u_lo[0]).type(vf.dtype)\n",
    "u_max = torch.Tensor(vf.u_up[0]).type(vf.dtype)\n",
    "dt_ctrl = .1\n",
    "num_samples = 10\n",
    "\n",
    "# benchmark params\n",
    "x0 = torch.Tensor([np.pi, 0., 0., 0.]).type(vf.dtype)\n",
    "x0_eps = torch.Tensor([.1, .1, 0., 0.]).type(vf.dtype)\n",
    "x_goal = torch.Tensor([np.pi, 0., 0., 0.]).type(vf.dtype)\n",
    "num_breaks = [5, 5]\n",
    "dt_sim = .1\n",
    "N = 20"
   ]
  },
  {
   "cell_type": "code",
   "execution_count": null,
   "metadata": {},
   "outputs": [],
   "source": [
    "ctrl_adv = controllers.get_sampling_infinite_horizon_controller(dx, step_cost, vf_approx_adv.model, u_min, u_max, dt_ctrl, num_samples)\n",
    "bench_adv = controllers.benchmark_controller(u_min.shape[0], dx, ctrl_adv, x0, x0_eps, num_breaks, x_goal, dt_sim, N)"
   ]
  },
  {
   "cell_type": "code",
   "execution_count": null,
   "metadata": {},
   "outputs": [],
   "source": [
    "ctrl_baseline = controllers.get_sampling_infinite_horizon_controller(dx, step_cost, vf_approx.model, u_min, u_max, dt_ctrl, num_samples)\n",
    "bench_baseline = controllers.benchmark_controller(u_min.shape[0], dx, ctrl_baseline, x0, x0_eps, num_breaks, x_goal, dt_sim, N)"
   ]
  },
  {
   "cell_type": "code",
   "execution_count": null,
   "metadata": {},
   "outputs": [],
   "source": [
    "ctrl_lqr = controllers.get_lqr_controller(pendulum.dx, x0, torch.zeros(u_min.shape[0]).type(vf.dtype), vf.Q[0], vf.R[0], u_min, u_max)\n",
    "bench_lqr = controllers.benchmark_controller(u_min.shape[0], dx, ctrl_lqr, x0, x0_eps, num_breaks, x_goal, dt_sim, N)"
   ]
  },
  {
   "cell_type": "code",
   "execution_count": null,
   "metadata": {},
   "outputs": [],
   "source": [
    "conv_thresh = 1.\n",
    "zmin = 0.\n",
    "zmax = 5.\n",
    "\n",
    "print(\"Baseline\")\n",
    "fig = go.Figure()\n",
    "fig.add_trace(go.Heatmap(\n",
    "    z = bench_baseline.detach().numpy(),\n",
    "    zmin = zmin,\n",
    "    zmax = zmax,\n",
    "    ))\n",
    "fig.show()\n",
    "\n",
    "print(\"Adversarial\")\n",
    "fig = go.Figure()\n",
    "fig.add_trace(go.Heatmap(\n",
    "    z = bench_adv.detach().numpy(),\n",
    "    zmin = zmin,\n",
    "    zmax = zmax,\n",
    "    ))\n",
    "fig.show()\n",
    "\n",
    "print(\"LQR\")\n",
    "fig = go.Figure()\n",
    "fig.add_trace(go.Heatmap(\n",
    "    z = bench_lqr.detach().numpy(),\n",
    "    zmin = zmin,\n",
    "    zmax = zmax,\n",
    "    ))\n",
    "fig.show()\n",
    "\n",
    "print(\"Baseline\")\n",
    "fig = go.Figure()\n",
    "fig.add_trace(go.Heatmap(\n",
    "    z = torch.Tensor(bench_baseline.detach().numpy() > conv_thresh).type(vf.dtype),\n",
    "    ))\n",
    "fig.show()\n",
    "\n",
    "print(\"Adversarial\")\n",
    "fig = go.Figure()\n",
    "fig.add_trace(go.Heatmap(\n",
    "    z = torch.Tensor(bench_adv.detach().numpy() > conv_thresh).type(vf.dtype),\n",
    "    ))\n",
    "fig.show()\n",
    "\n",
    "print(\"LQR\")\n",
    "fig = go.Figure()\n",
    "fig.add_trace(go.Heatmap(\n",
    "    z = torch.Tensor(bench_lqr.detach().numpy() > conv_thresh).type(vf.dtype),\n",
    "    ))\n",
    "fig.show()"
   ]
  }
 ],
 "metadata": {
  "kernelspec": {
   "display_name": "env",
   "language": "python",
   "name": "env"
  },
  "language_info": {
   "codemirror_mode": {
    "name": "ipython",
    "version": 3
   },
   "file_extension": ".py",
   "mimetype": "text/x-python",
   "name": "python",
   "nbconvert_exporter": "python",
   "pygments_lexer": "ipython3",
   "version": "3.6.9"
  }
 },
 "nbformat": 4,
 "nbformat_minor": 4
}
