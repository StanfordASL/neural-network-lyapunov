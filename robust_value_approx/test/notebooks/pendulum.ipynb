{
 "cells": [
  {
   "cell_type": "markdown",
   "metadata": {},
   "source": [
    "# Pendulum"
   ]
  },
  {
   "cell_type": "code",
   "execution_count": 71,
   "metadata": {},
   "outputs": [],
   "source": [
    "%load_ext autoreload\n",
    "%autoreload 2"
   ]
  },
  {
   "cell_type": "code",
   "execution_count": 72,
   "metadata": {
    "scrolled": true
   },
   "outputs": [
    {
     "data": {
      "text/html": [
       "        <script type=\"text/javascript\">\n",
       "        window.PlotlyConfig = {MathJaxConfig: 'local'};\n",
       "        if (window.MathJax) {MathJax.Hub.Config({SVG: {font: \"STIX-Web\"}});}\n",
       "        if (typeof require !== 'undefined') {\n",
       "        require.undef(\"plotly\");\n",
       "        requirejs.config({\n",
       "            paths: {\n",
       "                'plotly': ['https://cdn.plot.ly/plotly-latest.min']\n",
       "            }\n",
       "        });\n",
       "        require(['plotly'], function(Plotly) {\n",
       "            window._Plotly = Plotly;\n",
       "        });\n",
       "        }\n",
       "        </script>\n",
       "        "
      ]
     },
     "metadata": {},
     "output_type": "display_data"
    }
   ],
   "source": [
    "import sys\n",
    "sys.path.append(\"..\")\n",
    "sys.path.append(\".\")\n",
    "import torch\n",
    "import numpy as np\n",
    "import copy\n",
    "import plotly\n",
    "import plotly.graph_objs as go\n",
    "import pickle\n",
    "from datetime import datetime\n",
    "plotly.offline.init_notebook_mode(connected=True)\n",
    "\n",
    "import robust_value_approx.samples_generator as samples_generator\n",
    "import robust_value_approx.samples_buffer as samples_buffer\n",
    "import robust_value_approx.value_approximation as value_approximation\n",
    "import robust_value_approx.training_log as training_log\n",
    "import robust_value_approx.controllers as controllers\n",
    "\n",
    "from pendulum_utils import get_value_function"
   ]
  },
  {
   "cell_type": "code",
   "execution_count": 74,
   "metadata": {},
   "outputs": [],
   "source": [
    "offline_horizon = 10\n",
    "vf, sys = get_value_function(offline_horizon)\n",
    "V = vf.get_value_function()"
   ]
  },
  {
   "cell_type": "code",
   "execution_count": 19,
   "metadata": {},
   "outputs": [
    {
     "data": {
      "application/vnd.plotly.v1+json": {
       "config": {
        "plotlyServerURL": "https://plot.ly"
       },
       "data": [
        {
         "name": "theta",
         "type": "scatter",
         "x": [
          0,
          0.20000000298023224,
          0.4000000059604645,
          0.6000000089406967,
          0.800000011920929,
          1.0000000149011612,
          1.2000000178813934,
          1.4000000208616257,
          1.600000023841858,
          1.8000000268220901
         ],
         "y": [
          4.641592502593994,
          4.654389381408691,
          4.349539279937744,
          3.9408395290374756,
          3.619357109069824,
          3.408226490020752,
          3.2789785861968994,
          3.2014148235321045,
          3.158825635910034,
          3.144526958465576
         ]
        },
        {
         "name": "theta_dot",
         "type": "scatter",
         "x": [
          0,
          0.20000000298023224,
          0.4000000059604645,
          0.6000000089406967,
          0.800000011920929,
          1.0000000149011612,
          1.2000000178813934,
          1.4000000208616257,
          1.600000023841858,
          1.8000000268220901
         ],
         "y": [
          1,
          -0.8720332384109497,
          -2.176464319229126,
          -1.9105347394943237,
          -1.3042889833450317,
          -0.8070175647735596,
          -0.48546159267425537,
          -0.29017695784568787,
          -0.13571445643901825,
          -0.0072723692283034325
         ]
        }
       ],
       "layout": {
        "template": {
         "data": {
          "bar": [
           {
            "error_x": {
             "color": "#2a3f5f"
            },
            "error_y": {
             "color": "#2a3f5f"
            },
            "marker": {
             "line": {
              "color": "#E5ECF6",
              "width": 0.5
             }
            },
            "type": "bar"
           }
          ],
          "barpolar": [
           {
            "marker": {
             "line": {
              "color": "#E5ECF6",
              "width": 0.5
             }
            },
            "type": "barpolar"
           }
          ],
          "carpet": [
           {
            "aaxis": {
             "endlinecolor": "#2a3f5f",
             "gridcolor": "white",
             "linecolor": "white",
             "minorgridcolor": "white",
             "startlinecolor": "#2a3f5f"
            },
            "baxis": {
             "endlinecolor": "#2a3f5f",
             "gridcolor": "white",
             "linecolor": "white",
             "minorgridcolor": "white",
             "startlinecolor": "#2a3f5f"
            },
            "type": "carpet"
           }
          ],
          "choropleth": [
           {
            "colorbar": {
             "outlinewidth": 0,
             "ticks": ""
            },
            "type": "choropleth"
           }
          ],
          "contour": [
           {
            "colorbar": {
             "outlinewidth": 0,
             "ticks": ""
            },
            "colorscale": [
             [
              0,
              "#0d0887"
             ],
             [
              0.1111111111111111,
              "#46039f"
             ],
             [
              0.2222222222222222,
              "#7201a8"
             ],
             [
              0.3333333333333333,
              "#9c179e"
             ],
             [
              0.4444444444444444,
              "#bd3786"
             ],
             [
              0.5555555555555556,
              "#d8576b"
             ],
             [
              0.6666666666666666,
              "#ed7953"
             ],
             [
              0.7777777777777778,
              "#fb9f3a"
             ],
             [
              0.8888888888888888,
              "#fdca26"
             ],
             [
              1,
              "#f0f921"
             ]
            ],
            "type": "contour"
           }
          ],
          "contourcarpet": [
           {
            "colorbar": {
             "outlinewidth": 0,
             "ticks": ""
            },
            "type": "contourcarpet"
           }
          ],
          "heatmap": [
           {
            "colorbar": {
             "outlinewidth": 0,
             "ticks": ""
            },
            "colorscale": [
             [
              0,
              "#0d0887"
             ],
             [
              0.1111111111111111,
              "#46039f"
             ],
             [
              0.2222222222222222,
              "#7201a8"
             ],
             [
              0.3333333333333333,
              "#9c179e"
             ],
             [
              0.4444444444444444,
              "#bd3786"
             ],
             [
              0.5555555555555556,
              "#d8576b"
             ],
             [
              0.6666666666666666,
              "#ed7953"
             ],
             [
              0.7777777777777778,
              "#fb9f3a"
             ],
             [
              0.8888888888888888,
              "#fdca26"
             ],
             [
              1,
              "#f0f921"
             ]
            ],
            "type": "heatmap"
           }
          ],
          "heatmapgl": [
           {
            "colorbar": {
             "outlinewidth": 0,
             "ticks": ""
            },
            "colorscale": [
             [
              0,
              "#0d0887"
             ],
             [
              0.1111111111111111,
              "#46039f"
             ],
             [
              0.2222222222222222,
              "#7201a8"
             ],
             [
              0.3333333333333333,
              "#9c179e"
             ],
             [
              0.4444444444444444,
              "#bd3786"
             ],
             [
              0.5555555555555556,
              "#d8576b"
             ],
             [
              0.6666666666666666,
              "#ed7953"
             ],
             [
              0.7777777777777778,
              "#fb9f3a"
             ],
             [
              0.8888888888888888,
              "#fdca26"
             ],
             [
              1,
              "#f0f921"
             ]
            ],
            "type": "heatmapgl"
           }
          ],
          "histogram": [
           {
            "marker": {
             "colorbar": {
              "outlinewidth": 0,
              "ticks": ""
             }
            },
            "type": "histogram"
           }
          ],
          "histogram2d": [
           {
            "colorbar": {
             "outlinewidth": 0,
             "ticks": ""
            },
            "colorscale": [
             [
              0,
              "#0d0887"
             ],
             [
              0.1111111111111111,
              "#46039f"
             ],
             [
              0.2222222222222222,
              "#7201a8"
             ],
             [
              0.3333333333333333,
              "#9c179e"
             ],
             [
              0.4444444444444444,
              "#bd3786"
             ],
             [
              0.5555555555555556,
              "#d8576b"
             ],
             [
              0.6666666666666666,
              "#ed7953"
             ],
             [
              0.7777777777777778,
              "#fb9f3a"
             ],
             [
              0.8888888888888888,
              "#fdca26"
             ],
             [
              1,
              "#f0f921"
             ]
            ],
            "type": "histogram2d"
           }
          ],
          "histogram2dcontour": [
           {
            "colorbar": {
             "outlinewidth": 0,
             "ticks": ""
            },
            "colorscale": [
             [
              0,
              "#0d0887"
             ],
             [
              0.1111111111111111,
              "#46039f"
             ],
             [
              0.2222222222222222,
              "#7201a8"
             ],
             [
              0.3333333333333333,
              "#9c179e"
             ],
             [
              0.4444444444444444,
              "#bd3786"
             ],
             [
              0.5555555555555556,
              "#d8576b"
             ],
             [
              0.6666666666666666,
              "#ed7953"
             ],
             [
              0.7777777777777778,
              "#fb9f3a"
             ],
             [
              0.8888888888888888,
              "#fdca26"
             ],
             [
              1,
              "#f0f921"
             ]
            ],
            "type": "histogram2dcontour"
           }
          ],
          "mesh3d": [
           {
            "colorbar": {
             "outlinewidth": 0,
             "ticks": ""
            },
            "type": "mesh3d"
           }
          ],
          "parcoords": [
           {
            "line": {
             "colorbar": {
              "outlinewidth": 0,
              "ticks": ""
             }
            },
            "type": "parcoords"
           }
          ],
          "pie": [
           {
            "automargin": true,
            "type": "pie"
           }
          ],
          "scatter": [
           {
            "marker": {
             "colorbar": {
              "outlinewidth": 0,
              "ticks": ""
             }
            },
            "type": "scatter"
           }
          ],
          "scatter3d": [
           {
            "line": {
             "colorbar": {
              "outlinewidth": 0,
              "ticks": ""
             }
            },
            "marker": {
             "colorbar": {
              "outlinewidth": 0,
              "ticks": ""
             }
            },
            "type": "scatter3d"
           }
          ],
          "scattercarpet": [
           {
            "marker": {
             "colorbar": {
              "outlinewidth": 0,
              "ticks": ""
             }
            },
            "type": "scattercarpet"
           }
          ],
          "scattergeo": [
           {
            "marker": {
             "colorbar": {
              "outlinewidth": 0,
              "ticks": ""
             }
            },
            "type": "scattergeo"
           }
          ],
          "scattergl": [
           {
            "marker": {
             "colorbar": {
              "outlinewidth": 0,
              "ticks": ""
             }
            },
            "type": "scattergl"
           }
          ],
          "scattermapbox": [
           {
            "marker": {
             "colorbar": {
              "outlinewidth": 0,
              "ticks": ""
             }
            },
            "type": "scattermapbox"
           }
          ],
          "scatterpolar": [
           {
            "marker": {
             "colorbar": {
              "outlinewidth": 0,
              "ticks": ""
             }
            },
            "type": "scatterpolar"
           }
          ],
          "scatterpolargl": [
           {
            "marker": {
             "colorbar": {
              "outlinewidth": 0,
              "ticks": ""
             }
            },
            "type": "scatterpolargl"
           }
          ],
          "scatterternary": [
           {
            "marker": {
             "colorbar": {
              "outlinewidth": 0,
              "ticks": ""
             }
            },
            "type": "scatterternary"
           }
          ],
          "surface": [
           {
            "colorbar": {
             "outlinewidth": 0,
             "ticks": ""
            },
            "colorscale": [
             [
              0,
              "#0d0887"
             ],
             [
              0.1111111111111111,
              "#46039f"
             ],
             [
              0.2222222222222222,
              "#7201a8"
             ],
             [
              0.3333333333333333,
              "#9c179e"
             ],
             [
              0.4444444444444444,
              "#bd3786"
             ],
             [
              0.5555555555555556,
              "#d8576b"
             ],
             [
              0.6666666666666666,
              "#ed7953"
             ],
             [
              0.7777777777777778,
              "#fb9f3a"
             ],
             [
              0.8888888888888888,
              "#fdca26"
             ],
             [
              1,
              "#f0f921"
             ]
            ],
            "type": "surface"
           }
          ],
          "table": [
           {
            "cells": {
             "fill": {
              "color": "#EBF0F8"
             },
             "line": {
              "color": "white"
             }
            },
            "header": {
             "fill": {
              "color": "#C8D4E3"
             },
             "line": {
              "color": "white"
             }
            },
            "type": "table"
           }
          ]
         },
         "layout": {
          "annotationdefaults": {
           "arrowcolor": "#2a3f5f",
           "arrowhead": 0,
           "arrowwidth": 1
          },
          "coloraxis": {
           "colorbar": {
            "outlinewidth": 0,
            "ticks": ""
           }
          },
          "colorscale": {
           "diverging": [
            [
             0,
             "#8e0152"
            ],
            [
             0.1,
             "#c51b7d"
            ],
            [
             0.2,
             "#de77ae"
            ],
            [
             0.3,
             "#f1b6da"
            ],
            [
             0.4,
             "#fde0ef"
            ],
            [
             0.5,
             "#f7f7f7"
            ],
            [
             0.6,
             "#e6f5d0"
            ],
            [
             0.7,
             "#b8e186"
            ],
            [
             0.8,
             "#7fbc41"
            ],
            [
             0.9,
             "#4d9221"
            ],
            [
             1,
             "#276419"
            ]
           ],
           "sequential": [
            [
             0,
             "#0d0887"
            ],
            [
             0.1111111111111111,
             "#46039f"
            ],
            [
             0.2222222222222222,
             "#7201a8"
            ],
            [
             0.3333333333333333,
             "#9c179e"
            ],
            [
             0.4444444444444444,
             "#bd3786"
            ],
            [
             0.5555555555555556,
             "#d8576b"
            ],
            [
             0.6666666666666666,
             "#ed7953"
            ],
            [
             0.7777777777777778,
             "#fb9f3a"
            ],
            [
             0.8888888888888888,
             "#fdca26"
            ],
            [
             1,
             "#f0f921"
            ]
           ],
           "sequentialminus": [
            [
             0,
             "#0d0887"
            ],
            [
             0.1111111111111111,
             "#46039f"
            ],
            [
             0.2222222222222222,
             "#7201a8"
            ],
            [
             0.3333333333333333,
             "#9c179e"
            ],
            [
             0.4444444444444444,
             "#bd3786"
            ],
            [
             0.5555555555555556,
             "#d8576b"
            ],
            [
             0.6666666666666666,
             "#ed7953"
            ],
            [
             0.7777777777777778,
             "#fb9f3a"
            ],
            [
             0.8888888888888888,
             "#fdca26"
            ],
            [
             1,
             "#f0f921"
            ]
           ]
          },
          "colorway": [
           "#636efa",
           "#EF553B",
           "#00cc96",
           "#ab63fa",
           "#FFA15A",
           "#19d3f3",
           "#FF6692",
           "#B6E880",
           "#FF97FF",
           "#FECB52"
          ],
          "font": {
           "color": "#2a3f5f"
          },
          "geo": {
           "bgcolor": "white",
           "lakecolor": "white",
           "landcolor": "#E5ECF6",
           "showlakes": true,
           "showland": true,
           "subunitcolor": "white"
          },
          "hoverlabel": {
           "align": "left"
          },
          "hovermode": "closest",
          "mapbox": {
           "style": "light"
          },
          "paper_bgcolor": "white",
          "plot_bgcolor": "#E5ECF6",
          "polar": {
           "angularaxis": {
            "gridcolor": "white",
            "linecolor": "white",
            "ticks": ""
           },
           "bgcolor": "#E5ECF6",
           "radialaxis": {
            "gridcolor": "white",
            "linecolor": "white",
            "ticks": ""
           }
          },
          "scene": {
           "xaxis": {
            "backgroundcolor": "#E5ECF6",
            "gridcolor": "white",
            "gridwidth": 2,
            "linecolor": "white",
            "showbackground": true,
            "ticks": "",
            "zerolinecolor": "white"
           },
           "yaxis": {
            "backgroundcolor": "#E5ECF6",
            "gridcolor": "white",
            "gridwidth": 2,
            "linecolor": "white",
            "showbackground": true,
            "ticks": "",
            "zerolinecolor": "white"
           },
           "zaxis": {
            "backgroundcolor": "#E5ECF6",
            "gridcolor": "white",
            "gridwidth": 2,
            "linecolor": "white",
            "showbackground": true,
            "ticks": "",
            "zerolinecolor": "white"
           }
          },
          "shapedefaults": {
           "line": {
            "color": "#2a3f5f"
           }
          },
          "ternary": {
           "aaxis": {
            "gridcolor": "white",
            "linecolor": "white",
            "ticks": ""
           },
           "baxis": {
            "gridcolor": "white",
            "linecolor": "white",
            "ticks": ""
           },
           "bgcolor": "#E5ECF6",
           "caxis": {
            "gridcolor": "white",
            "linecolor": "white",
            "ticks": ""
           }
          },
          "title": {
           "x": 0.05
          },
          "xaxis": {
           "automargin": true,
           "gridcolor": "white",
           "linecolor": "white",
           "ticks": "",
           "title": {
            "standoff": 15
           },
           "zerolinecolor": "white",
           "zerolinewidth": 2
          },
          "yaxis": {
           "automargin": true,
           "gridcolor": "white",
           "linecolor": "white",
           "ticks": "",
           "title": {
            "standoff": 15
           },
           "zerolinecolor": "white",
           "zerolinewidth": 2
          }
         }
        }
       }
      },
      "text/html": [
       "<div>\n",
       "        \n",
       "        \n",
       "            <div id=\"0deb827c-6983-4306-8899-539dfe64d34b\" class=\"plotly-graph-div\" style=\"height:525px; width:100%;\"></div>\n",
       "            <script type=\"text/javascript\">\n",
       "                require([\"plotly\"], function(Plotly) {\n",
       "                    window.PLOTLYENV=window.PLOTLYENV || {};\n",
       "                    \n",
       "                if (document.getElementById(\"0deb827c-6983-4306-8899-539dfe64d34b\")) {\n",
       "                    Plotly.newPlot(\n",
       "                        '0deb827c-6983-4306-8899-539dfe64d34b',\n",
       "                        [{\"name\": \"theta\", \"type\": \"scatter\", \"x\": [0.0, 0.20000000298023224, 0.4000000059604645, 0.6000000089406967, 0.800000011920929, 1.0000000149011612, 1.2000000178813934, 1.4000000208616257, 1.600000023841858, 1.8000000268220901], \"y\": [4.641592502593994, 4.654389381408691, 4.349539279937744, 3.9408395290374756, 3.619357109069824, 3.408226490020752, 3.2789785861968994, 3.2014148235321045, 3.158825635910034, 3.144526958465576]}, {\"name\": \"theta_dot\", \"type\": \"scatter\", \"x\": [0.0, 0.20000000298023224, 0.4000000059604645, 0.6000000089406967, 0.800000011920929, 1.0000000149011612, 1.2000000178813934, 1.4000000208616257, 1.600000023841858, 1.8000000268220901], \"y\": [1.0, -0.8720332384109497, -2.176464319229126, -1.9105347394943237, -1.3042889833450317, -0.8070175647735596, -0.48546159267425537, -0.29017695784568787, -0.13571445643901825, -0.0072723692283034325]}],\n",
       "                        {\"template\": {\"data\": {\"bar\": [{\"error_x\": {\"color\": \"#2a3f5f\"}, \"error_y\": {\"color\": \"#2a3f5f\"}, \"marker\": {\"line\": {\"color\": \"#E5ECF6\", \"width\": 0.5}}, \"type\": \"bar\"}], \"barpolar\": [{\"marker\": {\"line\": {\"color\": \"#E5ECF6\", \"width\": 0.5}}, \"type\": \"barpolar\"}], \"carpet\": [{\"aaxis\": {\"endlinecolor\": \"#2a3f5f\", \"gridcolor\": \"white\", \"linecolor\": \"white\", \"minorgridcolor\": \"white\", \"startlinecolor\": \"#2a3f5f\"}, \"baxis\": {\"endlinecolor\": \"#2a3f5f\", \"gridcolor\": \"white\", \"linecolor\": \"white\", \"minorgridcolor\": \"white\", \"startlinecolor\": \"#2a3f5f\"}, \"type\": \"carpet\"}], \"choropleth\": [{\"colorbar\": {\"outlinewidth\": 0, \"ticks\": \"\"}, \"type\": \"choropleth\"}], \"contour\": [{\"colorbar\": {\"outlinewidth\": 0, \"ticks\": \"\"}, \"colorscale\": [[0.0, \"#0d0887\"], [0.1111111111111111, \"#46039f\"], [0.2222222222222222, \"#7201a8\"], [0.3333333333333333, \"#9c179e\"], [0.4444444444444444, \"#bd3786\"], [0.5555555555555556, \"#d8576b\"], [0.6666666666666666, \"#ed7953\"], [0.7777777777777778, \"#fb9f3a\"], [0.8888888888888888, \"#fdca26\"], [1.0, \"#f0f921\"]], \"type\": \"contour\"}], \"contourcarpet\": [{\"colorbar\": {\"outlinewidth\": 0, \"ticks\": \"\"}, \"type\": \"contourcarpet\"}], \"heatmap\": [{\"colorbar\": {\"outlinewidth\": 0, \"ticks\": \"\"}, \"colorscale\": [[0.0, \"#0d0887\"], [0.1111111111111111, \"#46039f\"], [0.2222222222222222, \"#7201a8\"], [0.3333333333333333, \"#9c179e\"], [0.4444444444444444, \"#bd3786\"], [0.5555555555555556, \"#d8576b\"], [0.6666666666666666, \"#ed7953\"], [0.7777777777777778, \"#fb9f3a\"], [0.8888888888888888, \"#fdca26\"], [1.0, \"#f0f921\"]], \"type\": \"heatmap\"}], \"heatmapgl\": [{\"colorbar\": {\"outlinewidth\": 0, \"ticks\": \"\"}, \"colorscale\": [[0.0, \"#0d0887\"], [0.1111111111111111, \"#46039f\"], [0.2222222222222222, \"#7201a8\"], [0.3333333333333333, \"#9c179e\"], [0.4444444444444444, \"#bd3786\"], [0.5555555555555556, \"#d8576b\"], [0.6666666666666666, \"#ed7953\"], [0.7777777777777778, \"#fb9f3a\"], [0.8888888888888888, \"#fdca26\"], [1.0, \"#f0f921\"]], \"type\": \"heatmapgl\"}], \"histogram\": [{\"marker\": {\"colorbar\": {\"outlinewidth\": 0, \"ticks\": \"\"}}, \"type\": \"histogram\"}], \"histogram2d\": [{\"colorbar\": {\"outlinewidth\": 0, \"ticks\": \"\"}, \"colorscale\": [[0.0, \"#0d0887\"], [0.1111111111111111, \"#46039f\"], [0.2222222222222222, \"#7201a8\"], [0.3333333333333333, \"#9c179e\"], [0.4444444444444444, \"#bd3786\"], [0.5555555555555556, \"#d8576b\"], [0.6666666666666666, \"#ed7953\"], [0.7777777777777778, \"#fb9f3a\"], [0.8888888888888888, \"#fdca26\"], [1.0, \"#f0f921\"]], \"type\": \"histogram2d\"}], \"histogram2dcontour\": [{\"colorbar\": {\"outlinewidth\": 0, \"ticks\": \"\"}, \"colorscale\": [[0.0, \"#0d0887\"], [0.1111111111111111, \"#46039f\"], [0.2222222222222222, \"#7201a8\"], [0.3333333333333333, \"#9c179e\"], [0.4444444444444444, \"#bd3786\"], [0.5555555555555556, \"#d8576b\"], [0.6666666666666666, \"#ed7953\"], [0.7777777777777778, \"#fb9f3a\"], [0.8888888888888888, \"#fdca26\"], [1.0, \"#f0f921\"]], \"type\": \"histogram2dcontour\"}], \"mesh3d\": [{\"colorbar\": {\"outlinewidth\": 0, \"ticks\": \"\"}, \"type\": \"mesh3d\"}], \"parcoords\": [{\"line\": {\"colorbar\": {\"outlinewidth\": 0, \"ticks\": \"\"}}, \"type\": \"parcoords\"}], \"pie\": [{\"automargin\": true, \"type\": \"pie\"}], \"scatter\": [{\"marker\": {\"colorbar\": {\"outlinewidth\": 0, \"ticks\": \"\"}}, \"type\": \"scatter\"}], \"scatter3d\": [{\"line\": {\"colorbar\": {\"outlinewidth\": 0, \"ticks\": \"\"}}, \"marker\": {\"colorbar\": {\"outlinewidth\": 0, \"ticks\": \"\"}}, \"type\": \"scatter3d\"}], \"scattercarpet\": [{\"marker\": {\"colorbar\": {\"outlinewidth\": 0, \"ticks\": \"\"}}, \"type\": \"scattercarpet\"}], \"scattergeo\": [{\"marker\": {\"colorbar\": {\"outlinewidth\": 0, \"ticks\": \"\"}}, \"type\": \"scattergeo\"}], \"scattergl\": [{\"marker\": {\"colorbar\": {\"outlinewidth\": 0, \"ticks\": \"\"}}, \"type\": \"scattergl\"}], \"scattermapbox\": [{\"marker\": {\"colorbar\": {\"outlinewidth\": 0, \"ticks\": \"\"}}, \"type\": \"scattermapbox\"}], \"scatterpolar\": [{\"marker\": {\"colorbar\": {\"outlinewidth\": 0, \"ticks\": \"\"}}, \"type\": \"scatterpolar\"}], \"scatterpolargl\": [{\"marker\": {\"colorbar\": {\"outlinewidth\": 0, \"ticks\": \"\"}}, \"type\": \"scatterpolargl\"}], \"scatterternary\": [{\"marker\": {\"colorbar\": {\"outlinewidth\": 0, \"ticks\": \"\"}}, \"type\": \"scatterternary\"}], \"surface\": [{\"colorbar\": {\"outlinewidth\": 0, \"ticks\": \"\"}, \"colorscale\": [[0.0, \"#0d0887\"], [0.1111111111111111, \"#46039f\"], [0.2222222222222222, \"#7201a8\"], [0.3333333333333333, \"#9c179e\"], [0.4444444444444444, \"#bd3786\"], [0.5555555555555556, \"#d8576b\"], [0.6666666666666666, \"#ed7953\"], [0.7777777777777778, \"#fb9f3a\"], [0.8888888888888888, \"#fdca26\"], [1.0, \"#f0f921\"]], \"type\": \"surface\"}], \"table\": [{\"cells\": {\"fill\": {\"color\": \"#EBF0F8\"}, \"line\": {\"color\": \"white\"}}, \"header\": {\"fill\": {\"color\": \"#C8D4E3\"}, \"line\": {\"color\": \"white\"}}, \"type\": \"table\"}]}, \"layout\": {\"annotationdefaults\": {\"arrowcolor\": \"#2a3f5f\", \"arrowhead\": 0, \"arrowwidth\": 1}, \"coloraxis\": {\"colorbar\": {\"outlinewidth\": 0, \"ticks\": \"\"}}, \"colorscale\": {\"diverging\": [[0, \"#8e0152\"], [0.1, \"#c51b7d\"], [0.2, \"#de77ae\"], [0.3, \"#f1b6da\"], [0.4, \"#fde0ef\"], [0.5, \"#f7f7f7\"], [0.6, \"#e6f5d0\"], [0.7, \"#b8e186\"], [0.8, \"#7fbc41\"], [0.9, \"#4d9221\"], [1, \"#276419\"]], \"sequential\": [[0.0, \"#0d0887\"], [0.1111111111111111, \"#46039f\"], [0.2222222222222222, \"#7201a8\"], [0.3333333333333333, \"#9c179e\"], [0.4444444444444444, \"#bd3786\"], [0.5555555555555556, \"#d8576b\"], [0.6666666666666666, \"#ed7953\"], [0.7777777777777778, \"#fb9f3a\"], [0.8888888888888888, \"#fdca26\"], [1.0, \"#f0f921\"]], \"sequentialminus\": [[0.0, \"#0d0887\"], [0.1111111111111111, \"#46039f\"], [0.2222222222222222, \"#7201a8\"], [0.3333333333333333, \"#9c179e\"], [0.4444444444444444, \"#bd3786\"], [0.5555555555555556, \"#d8576b\"], [0.6666666666666666, \"#ed7953\"], [0.7777777777777778, \"#fb9f3a\"], [0.8888888888888888, \"#fdca26\"], [1.0, \"#f0f921\"]]}, \"colorway\": [\"#636efa\", \"#EF553B\", \"#00cc96\", \"#ab63fa\", \"#FFA15A\", \"#19d3f3\", \"#FF6692\", \"#B6E880\", \"#FF97FF\", \"#FECB52\"], \"font\": {\"color\": \"#2a3f5f\"}, \"geo\": {\"bgcolor\": \"white\", \"lakecolor\": \"white\", \"landcolor\": \"#E5ECF6\", \"showlakes\": true, \"showland\": true, \"subunitcolor\": \"white\"}, \"hoverlabel\": {\"align\": \"left\"}, \"hovermode\": \"closest\", \"mapbox\": {\"style\": \"light\"}, \"paper_bgcolor\": \"white\", \"plot_bgcolor\": \"#E5ECF6\", \"polar\": {\"angularaxis\": {\"gridcolor\": \"white\", \"linecolor\": \"white\", \"ticks\": \"\"}, \"bgcolor\": \"#E5ECF6\", \"radialaxis\": {\"gridcolor\": \"white\", \"linecolor\": \"white\", \"ticks\": \"\"}}, \"scene\": {\"xaxis\": {\"backgroundcolor\": \"#E5ECF6\", \"gridcolor\": \"white\", \"gridwidth\": 2, \"linecolor\": \"white\", \"showbackground\": true, \"ticks\": \"\", \"zerolinecolor\": \"white\"}, \"yaxis\": {\"backgroundcolor\": \"#E5ECF6\", \"gridcolor\": \"white\", \"gridwidth\": 2, \"linecolor\": \"white\", \"showbackground\": true, \"ticks\": \"\", \"zerolinecolor\": \"white\"}, \"zaxis\": {\"backgroundcolor\": \"#E5ECF6\", \"gridcolor\": \"white\", \"gridwidth\": 2, \"linecolor\": \"white\", \"showbackground\": true, \"ticks\": \"\", \"zerolinecolor\": \"white\"}}, \"shapedefaults\": {\"line\": {\"color\": \"#2a3f5f\"}}, \"ternary\": {\"aaxis\": {\"gridcolor\": \"white\", \"linecolor\": \"white\", \"ticks\": \"\"}, \"baxis\": {\"gridcolor\": \"white\", \"linecolor\": \"white\", \"ticks\": \"\"}, \"bgcolor\": \"#E5ECF6\", \"caxis\": {\"gridcolor\": \"white\", \"linecolor\": \"white\", \"ticks\": \"\"}}, \"title\": {\"x\": 0.05}, \"xaxis\": {\"automargin\": true, \"gridcolor\": \"white\", \"linecolor\": \"white\", \"ticks\": \"\", \"title\": {\"standoff\": 15}, \"zerolinecolor\": \"white\", \"zerolinewidth\": 2}, \"yaxis\": {\"automargin\": true, \"gridcolor\": \"white\", \"linecolor\": \"white\", \"ticks\": \"\", \"title\": {\"standoff\": 15}, \"zerolinecolor\": \"white\", \"zerolinewidth\": 2}}}},\n",
       "                        {\"responsive\": true}\n",
       "                    ).then(function(){\n",
       "                            \n",
       "var gd = document.getElementById('0deb827c-6983-4306-8899-539dfe64d34b');\n",
       "var x = new MutationObserver(function (mutations, observer) {{\n",
       "        var display = window.getComputedStyle(gd).display;\n",
       "        if (!display || display === 'none') {{\n",
       "            console.log([gd, 'removed!']);\n",
       "            Plotly.purge(gd);\n",
       "            observer.disconnect();\n",
       "        }}\n",
       "}});\n",
       "\n",
       "// Listen for the removal of the full notebook cells\n",
       "var notebookContainer = gd.closest('#notebook-container');\n",
       "if (notebookContainer) {{\n",
       "    x.observe(notebookContainer, {childList: true});\n",
       "}}\n",
       "\n",
       "// Listen for the clearing of the current output cell\n",
       "var outputEl = gd.closest('.output');\n",
       "if (outputEl) {{\n",
       "    x.observe(outputEl, {childList: true});\n",
       "}}\n",
       "\n",
       "                        })\n",
       "                };\n",
       "                });\n",
       "            </script>\n",
       "        </div>"
      ]
     },
     "metadata": {},
     "output_type": "display_data"
    }
   ],
   "source": [
    "x0 = torch.Tensor([np.pi+1.5, 1.]).double()\n",
    "v, res = V(x0)\n",
    "sys.plot_result(res).show()"
   ]
  },
  {
   "cell_type": "code",
   "execution_count": 23,
   "metadata": {},
   "outputs": [
    {
     "data": {
      "application/vnd.plotly.v1+json": {
       "config": {
        "plotlyServerURL": "https://plot.ly"
       },
       "data": [
        {
         "type": "scatter",
         "x": [
          0,
          0.0003069138911087066,
          0.003376052947714925,
          0.034067440778017044,
          0.10000000149011612,
          0.14409004151821136,
          0.20000000298023224,
          0.24964593350887299,
          0.30000001192092896,
          0.35253334045410156,
          0.4000000059604645,
          0.4540485441684723,
          0.5,
          0.5547991991043091,
          0.6000000238418579,
          0.6551221013069153,
          0.699999988079071,
          0.7552145719528198,
          0.800000011920929,
          0.8551889657974243,
          0.8999999761581421,
          0.9551072120666504,
          1,
          1.055002212524414,
          1.100000023841858,
          1.1548917293548584,
          1.2000000476837158,
          1.2547881603240967,
          1.2999999523162842,
          1.3546887636184692,
          1.399999976158142,
          1.4545986652374268,
          1.5,
          1.5545191764831543,
          1.600000023841858,
          1.6544500589370728,
          1.7000000476837158,
          1.7543907165527344,
          1.7999999523162842,
          1.8543407917022705,
          1.899999976158142,
          1.954299807548523,
          2,
          2.0542664527893066,
          2.0999999046325684,
          2.154240369796753,
          2.200000047683716,
          2.254220724105835,
          2.299999952316284,
          2.3542075157165527,
          2.4000000953674316,
          2.45419979095459,
          2.5,
          2.554197072982788,
          2.5999999046325684,
          2.6541998386383057,
          2.700000047683716,
          2.754206657409668,
          2.799999952316284,
          2.854219436645508,
          2.9000000953674316,
          2.9542369842529297,
          3,
          3.054259777069092,
          3.0999999046325684,
          3.1542882919311523,
          3.200000047683716,
          3.254322052001953,
          3.299999952316284,
          3.354363203048706,
          3.4000000953674316,
          3.4544479846954346,
          3.5,
          3.5545156002044678,
          3.5999999046325684,
          3.654585599899292,
          3.700000047683716,
          3.7546637058258057,
          3.799999952316284,
          3.8547511100769043,
          3.9000000953674316,
          3.954850912094116,
          4,
          4.054965019226074,
          4.099999904632568,
          4.155094623565674,
          4.199999809265137,
          4.255239009857178,
          4.300000190734863,
          4.355403900146484,
          4.400000095367432,
          4.455590724945068,
          4.5,
          4.5558013916015625,
          4.599999904632568,
          4.656041145324707,
          4.699999809265137,
          4.7563090324401855,
          4.800000190734863,
          4.856612205505371,
          4.900000095367432
         ],
         "y": [
          4.641592502593994,
          4.641592502593994,
          4.641573905944824,
          4.639308452606201,
          4.615416049957275,
          4.586024284362793,
          4.538158416748047,
          4.487369537353516,
          4.430638790130615,
          4.367538928985596,
          4.308666706085205,
          4.240865707397461,
          4.183457851409912,
          4.116268634796143,
          4.062323570251465,
          3.9989731311798096,
          3.949528694152832,
          3.891674757003784,
          3.8471519947052,
          3.7954084873199463,
          3.7558257579803467,
          3.710174083709717,
          3.6753008365631104,
          3.6353776454925537,
          3.6048450469970703,
          3.570124387741089,
          3.543503761291504,
          3.5134050846099854,
          3.490257978439331,
          3.464214324951172,
          3.444117784500122,
          3.421600580215454,
          3.4041666984558105,
          3.3847010135650635,
          3.3695812225341797,
          3.352748394012451,
          3.339635133743286,
          3.325070858001709,
          3.313695192337036,
          3.3010849952697754,
          3.291213035583496,
          3.2802865505218506,
          3.2717161178588867,
          3.2622416019439697,
          3.25479793548584,
          3.2465765476226807,
          3.2401087284088135,
          3.2329699993133545,
          3.2273480892181396,
          3.2211453914642334,
          3.216257095336914,
          3.2108652591705322,
          3.206613540649414,
          3.2019238471984863,
          3.1982247829437256,
          3.1941442489624023,
          3.190925359725952,
          3.187373399734497,
          3.1845719814300537,
          3.1814792156219482,
          3.1790406703948975,
          3.176346778869629,
          3.1742241382598877,
          3.171876907348633,
          3.1700289249420166,
          3.167983293533325,
          3.166374683380127,
          3.1645915508270264,
          3.163191080093384,
          3.1616363525390625,
          3.160417079925537,
          3.15906023979187,
          3.157999277114868,
          3.1568148136138916,
          3.1558914184570312,
          3.154857635498047,
          3.1540539264678955,
          3.153151512145996,
          3.152452230453491,
          3.1516647338867188,
          3.1510565280914307,
          3.1503686904907227,
          3.1498398780822754,
          3.1492393016815186,
          3.1487793922424316,
          3.148254871368408,
          3.147855520248413,
          3.147397041320801,
          3.147050142288208,
          3.1466495990753174,
          3.146348237991333,
          3.145998239517212,
          3.1457369327545166,
          3.145430564880371,
          3.1452038288116455,
          3.1449360847473145,
          3.1447396278381348,
          3.144505023956299,
          3.1443347930908203,
          3.144129514694214,
          3.143982172012329
         ]
        },
        {
         "type": "scatter",
         "x": [
          0,
          0.0003069138911087066,
          0.003376052947714925,
          0.034067440778017044,
          0.10000000149011612,
          0.14409004151821136,
          0.20000000298023224,
          0.24964593350887299,
          0.30000001192092896,
          0.35253334045410156,
          0.4000000059604645,
          0.4540485441684723,
          0.5,
          0.5547991991043091,
          0.6000000238418579,
          0.6551221013069153,
          0.699999988079071,
          0.7552145719528198,
          0.800000011920929,
          0.8551889657974243,
          0.8999999761581421,
          0.9551072120666504,
          1,
          1.055002212524414,
          1.100000023841858,
          1.1548917293548584,
          1.2000000476837158,
          1.2547881603240967,
          1.2999999523162842,
          1.3546887636184692,
          1.399999976158142,
          1.4545986652374268,
          1.5,
          1.5545191764831543,
          1.600000023841858,
          1.6544500589370728,
          1.7000000476837158,
          1.7543907165527344,
          1.7999999523162842,
          1.8543407917022705,
          1.899999976158142,
          1.954299807548523,
          2,
          2.0542664527893066,
          2.0999999046325684,
          2.154240369796753,
          2.200000047683716,
          2.254220724105835,
          2.299999952316284,
          2.3542075157165527,
          2.4000000953674316,
          2.45419979095459,
          2.5,
          2.554197072982788,
          2.5999999046325684,
          2.6541998386383057,
          2.700000047683716,
          2.754206657409668,
          2.799999952316284,
          2.854219436645508,
          2.9000000953674316,
          2.9542369842529297,
          3,
          3.054259777069092,
          3.0999999046325684,
          3.1542882919311523,
          3.200000047683716,
          3.254322052001953,
          3.299999952316284,
          3.354363203048706,
          3.4000000953674316,
          3.4544479846954346,
          3.5,
          3.5545156002044678,
          3.5999999046325684,
          3.654585599899292,
          3.700000047683716,
          3.7546637058258057,
          3.799999952316284,
          3.8547511100769043,
          3.9000000953674316,
          3.954850912094116,
          4,
          4.054965019226074,
          4.099999904632568,
          4.155094623565674,
          4.199999809265137,
          4.255239009857178,
          4.300000190734863,
          4.355403900146484,
          4.400000095367432,
          4.455590724945068,
          4.5,
          4.5558013916015625,
          4.599999904632568,
          4.656041145324707,
          4.699999809265137,
          4.7563090324401855,
          4.800000190734863,
          4.856612205505371,
          4.900000095367432
         ],
         "y": [
          0,
          -0.0010026100790128112,
          -0.011339358054101467,
          -0.14561158418655396,
          -0.6213933229446411,
          -0.7288362979888916,
          -1.010287880897522,
          -1.0550209283828735,
          -1.217915654182434,
          -1.2040115594863892,
          -1.2925258874893188,
          -1.235489010810852,
          -1.276847004890442,
          -1.1934208869934082,
          -1.2056121826171875,
          -1.1096426248550415,
          -1.1047152280807495,
          -1.0060502290725708,
          -0.9919394254684448,
          -0.8967900276184082,
          -0.8785370588302612,
          -0.7903480529785156,
          -0.7709983587265015,
          -0.6913191080093384,
          -0.6725848317146301,
          -0.6017881035804749,
          -0.5845382213592529,
          -0.5223239660263062,
          -0.5069124698638916,
          -0.45260781049728394,
          -0.4390909671783447,
          -0.39189550280570984,
          -0.3801787793636322,
          -0.3392673134803772,
          -0.32918375730514526,
          -0.29376569390296936,
          -0.28512200713157654,
          -0.25447455048561096,
          -0.24707907438278198,
          -0.22055889666080475,
          -0.21423445641994476,
          -0.19127768278121948,
          -0.18586675822734833,
          -0.16598354279994965,
          -0.16134943068027496,
          -0.14411714673042297,
          -0.1401430070400238,
          -0.12519823014736176,
          -0.1217849850654602,
          -0.10881578177213669,
          -0.10587994009256363,
          -0.09461786597967148,
          -0.09208876639604568,
          -0.0823037177324295,
          -0.08012226223945618,
          -0.07161586731672287,
          -0.06973177194595337,
          -0.06233366206288338,
          -0.0607050284743309,
          -0.054267752915620804,
          -0.0528581328690052,
          -0.04725507274270058,
          -0.04603429511189461,
          -0.041155800223350525,
          -0.040097955614328384,
          -0.03584890067577362,
          -0.03493161499500275,
          -0.031230049207806587,
          -0.030434638261795044,
          -0.027209095656871796,
          -0.02651898004114628,
          -0.023715808987617493,
          -0.023119967430830002,
          -0.020674096420407295,
          -0.020154854282736778,
          -0.0180203914642334,
          -0.017568314447999,
          -0.01570570096373558,
          -0.015312522649765015,
          -0.013686933554708958,
          -0.013345152139663696,
          -0.011927222833037376,
          -0.011631031520664692,
          -0.010393648408353329,
          -0.010136797092854977,
          -0.009056691080331802,
          -0.00883403792977333,
          -0.007891087792813778,
          -0.007698340341448784,
          -0.0068751126527786255,
          -0.006708493921905756,
          -0.0059896246530115604,
          -0.00584573857486248,
          -0.0052181147038936615,
          -0.005094258114695549,
          -0.00454581156373024,
          -0.004439062438905239,
          -0.003959975205361843,
          -0.0038683845195919275,
          -0.0034494800493121147,
          -0.003370812628418207
         ]
        }
       ],
       "layout": {
        "template": {
         "data": {
          "bar": [
           {
            "error_x": {
             "color": "#2a3f5f"
            },
            "error_y": {
             "color": "#2a3f5f"
            },
            "marker": {
             "line": {
              "color": "#E5ECF6",
              "width": 0.5
             }
            },
            "type": "bar"
           }
          ],
          "barpolar": [
           {
            "marker": {
             "line": {
              "color": "#E5ECF6",
              "width": 0.5
             }
            },
            "type": "barpolar"
           }
          ],
          "carpet": [
           {
            "aaxis": {
             "endlinecolor": "#2a3f5f",
             "gridcolor": "white",
             "linecolor": "white",
             "minorgridcolor": "white",
             "startlinecolor": "#2a3f5f"
            },
            "baxis": {
             "endlinecolor": "#2a3f5f",
             "gridcolor": "white",
             "linecolor": "white",
             "minorgridcolor": "white",
             "startlinecolor": "#2a3f5f"
            },
            "type": "carpet"
           }
          ],
          "choropleth": [
           {
            "colorbar": {
             "outlinewidth": 0,
             "ticks": ""
            },
            "type": "choropleth"
           }
          ],
          "contour": [
           {
            "colorbar": {
             "outlinewidth": 0,
             "ticks": ""
            },
            "colorscale": [
             [
              0,
              "#0d0887"
             ],
             [
              0.1111111111111111,
              "#46039f"
             ],
             [
              0.2222222222222222,
              "#7201a8"
             ],
             [
              0.3333333333333333,
              "#9c179e"
             ],
             [
              0.4444444444444444,
              "#bd3786"
             ],
             [
              0.5555555555555556,
              "#d8576b"
             ],
             [
              0.6666666666666666,
              "#ed7953"
             ],
             [
              0.7777777777777778,
              "#fb9f3a"
             ],
             [
              0.8888888888888888,
              "#fdca26"
             ],
             [
              1,
              "#f0f921"
             ]
            ],
            "type": "contour"
           }
          ],
          "contourcarpet": [
           {
            "colorbar": {
             "outlinewidth": 0,
             "ticks": ""
            },
            "type": "contourcarpet"
           }
          ],
          "heatmap": [
           {
            "colorbar": {
             "outlinewidth": 0,
             "ticks": ""
            },
            "colorscale": [
             [
              0,
              "#0d0887"
             ],
             [
              0.1111111111111111,
              "#46039f"
             ],
             [
              0.2222222222222222,
              "#7201a8"
             ],
             [
              0.3333333333333333,
              "#9c179e"
             ],
             [
              0.4444444444444444,
              "#bd3786"
             ],
             [
              0.5555555555555556,
              "#d8576b"
             ],
             [
              0.6666666666666666,
              "#ed7953"
             ],
             [
              0.7777777777777778,
              "#fb9f3a"
             ],
             [
              0.8888888888888888,
              "#fdca26"
             ],
             [
              1,
              "#f0f921"
             ]
            ],
            "type": "heatmap"
           }
          ],
          "heatmapgl": [
           {
            "colorbar": {
             "outlinewidth": 0,
             "ticks": ""
            },
            "colorscale": [
             [
              0,
              "#0d0887"
             ],
             [
              0.1111111111111111,
              "#46039f"
             ],
             [
              0.2222222222222222,
              "#7201a8"
             ],
             [
              0.3333333333333333,
              "#9c179e"
             ],
             [
              0.4444444444444444,
              "#bd3786"
             ],
             [
              0.5555555555555556,
              "#d8576b"
             ],
             [
              0.6666666666666666,
              "#ed7953"
             ],
             [
              0.7777777777777778,
              "#fb9f3a"
             ],
             [
              0.8888888888888888,
              "#fdca26"
             ],
             [
              1,
              "#f0f921"
             ]
            ],
            "type": "heatmapgl"
           }
          ],
          "histogram": [
           {
            "marker": {
             "colorbar": {
              "outlinewidth": 0,
              "ticks": ""
             }
            },
            "type": "histogram"
           }
          ],
          "histogram2d": [
           {
            "colorbar": {
             "outlinewidth": 0,
             "ticks": ""
            },
            "colorscale": [
             [
              0,
              "#0d0887"
             ],
             [
              0.1111111111111111,
              "#46039f"
             ],
             [
              0.2222222222222222,
              "#7201a8"
             ],
             [
              0.3333333333333333,
              "#9c179e"
             ],
             [
              0.4444444444444444,
              "#bd3786"
             ],
             [
              0.5555555555555556,
              "#d8576b"
             ],
             [
              0.6666666666666666,
              "#ed7953"
             ],
             [
              0.7777777777777778,
              "#fb9f3a"
             ],
             [
              0.8888888888888888,
              "#fdca26"
             ],
             [
              1,
              "#f0f921"
             ]
            ],
            "type": "histogram2d"
           }
          ],
          "histogram2dcontour": [
           {
            "colorbar": {
             "outlinewidth": 0,
             "ticks": ""
            },
            "colorscale": [
             [
              0,
              "#0d0887"
             ],
             [
              0.1111111111111111,
              "#46039f"
             ],
             [
              0.2222222222222222,
              "#7201a8"
             ],
             [
              0.3333333333333333,
              "#9c179e"
             ],
             [
              0.4444444444444444,
              "#bd3786"
             ],
             [
              0.5555555555555556,
              "#d8576b"
             ],
             [
              0.6666666666666666,
              "#ed7953"
             ],
             [
              0.7777777777777778,
              "#fb9f3a"
             ],
             [
              0.8888888888888888,
              "#fdca26"
             ],
             [
              1,
              "#f0f921"
             ]
            ],
            "type": "histogram2dcontour"
           }
          ],
          "mesh3d": [
           {
            "colorbar": {
             "outlinewidth": 0,
             "ticks": ""
            },
            "type": "mesh3d"
           }
          ],
          "parcoords": [
           {
            "line": {
             "colorbar": {
              "outlinewidth": 0,
              "ticks": ""
             }
            },
            "type": "parcoords"
           }
          ],
          "pie": [
           {
            "automargin": true,
            "type": "pie"
           }
          ],
          "scatter": [
           {
            "marker": {
             "colorbar": {
              "outlinewidth": 0,
              "ticks": ""
             }
            },
            "type": "scatter"
           }
          ],
          "scatter3d": [
           {
            "line": {
             "colorbar": {
              "outlinewidth": 0,
              "ticks": ""
             }
            },
            "marker": {
             "colorbar": {
              "outlinewidth": 0,
              "ticks": ""
             }
            },
            "type": "scatter3d"
           }
          ],
          "scattercarpet": [
           {
            "marker": {
             "colorbar": {
              "outlinewidth": 0,
              "ticks": ""
             }
            },
            "type": "scattercarpet"
           }
          ],
          "scattergeo": [
           {
            "marker": {
             "colorbar": {
              "outlinewidth": 0,
              "ticks": ""
             }
            },
            "type": "scattergeo"
           }
          ],
          "scattergl": [
           {
            "marker": {
             "colorbar": {
              "outlinewidth": 0,
              "ticks": ""
             }
            },
            "type": "scattergl"
           }
          ],
          "scattermapbox": [
           {
            "marker": {
             "colorbar": {
              "outlinewidth": 0,
              "ticks": ""
             }
            },
            "type": "scattermapbox"
           }
          ],
          "scatterpolar": [
           {
            "marker": {
             "colorbar": {
              "outlinewidth": 0,
              "ticks": ""
             }
            },
            "type": "scatterpolar"
           }
          ],
          "scatterpolargl": [
           {
            "marker": {
             "colorbar": {
              "outlinewidth": 0,
              "ticks": ""
             }
            },
            "type": "scatterpolargl"
           }
          ],
          "scatterternary": [
           {
            "marker": {
             "colorbar": {
              "outlinewidth": 0,
              "ticks": ""
             }
            },
            "type": "scatterternary"
           }
          ],
          "surface": [
           {
            "colorbar": {
             "outlinewidth": 0,
             "ticks": ""
            },
            "colorscale": [
             [
              0,
              "#0d0887"
             ],
             [
              0.1111111111111111,
              "#46039f"
             ],
             [
              0.2222222222222222,
              "#7201a8"
             ],
             [
              0.3333333333333333,
              "#9c179e"
             ],
             [
              0.4444444444444444,
              "#bd3786"
             ],
             [
              0.5555555555555556,
              "#d8576b"
             ],
             [
              0.6666666666666666,
              "#ed7953"
             ],
             [
              0.7777777777777778,
              "#fb9f3a"
             ],
             [
              0.8888888888888888,
              "#fdca26"
             ],
             [
              1,
              "#f0f921"
             ]
            ],
            "type": "surface"
           }
          ],
          "table": [
           {
            "cells": {
             "fill": {
              "color": "#EBF0F8"
             },
             "line": {
              "color": "white"
             }
            },
            "header": {
             "fill": {
              "color": "#C8D4E3"
             },
             "line": {
              "color": "white"
             }
            },
            "type": "table"
           }
          ]
         },
         "layout": {
          "annotationdefaults": {
           "arrowcolor": "#2a3f5f",
           "arrowhead": 0,
           "arrowwidth": 1
          },
          "coloraxis": {
           "colorbar": {
            "outlinewidth": 0,
            "ticks": ""
           }
          },
          "colorscale": {
           "diverging": [
            [
             0,
             "#8e0152"
            ],
            [
             0.1,
             "#c51b7d"
            ],
            [
             0.2,
             "#de77ae"
            ],
            [
             0.3,
             "#f1b6da"
            ],
            [
             0.4,
             "#fde0ef"
            ],
            [
             0.5,
             "#f7f7f7"
            ],
            [
             0.6,
             "#e6f5d0"
            ],
            [
             0.7,
             "#b8e186"
            ],
            [
             0.8,
             "#7fbc41"
            ],
            [
             0.9,
             "#4d9221"
            ],
            [
             1,
             "#276419"
            ]
           ],
           "sequential": [
            [
             0,
             "#0d0887"
            ],
            [
             0.1111111111111111,
             "#46039f"
            ],
            [
             0.2222222222222222,
             "#7201a8"
            ],
            [
             0.3333333333333333,
             "#9c179e"
            ],
            [
             0.4444444444444444,
             "#bd3786"
            ],
            [
             0.5555555555555556,
             "#d8576b"
            ],
            [
             0.6666666666666666,
             "#ed7953"
            ],
            [
             0.7777777777777778,
             "#fb9f3a"
            ],
            [
             0.8888888888888888,
             "#fdca26"
            ],
            [
             1,
             "#f0f921"
            ]
           ],
           "sequentialminus": [
            [
             0,
             "#0d0887"
            ],
            [
             0.1111111111111111,
             "#46039f"
            ],
            [
             0.2222222222222222,
             "#7201a8"
            ],
            [
             0.3333333333333333,
             "#9c179e"
            ],
            [
             0.4444444444444444,
             "#bd3786"
            ],
            [
             0.5555555555555556,
             "#d8576b"
            ],
            [
             0.6666666666666666,
             "#ed7953"
            ],
            [
             0.7777777777777778,
             "#fb9f3a"
            ],
            [
             0.8888888888888888,
             "#fdca26"
            ],
            [
             1,
             "#f0f921"
            ]
           ]
          },
          "colorway": [
           "#636efa",
           "#EF553B",
           "#00cc96",
           "#ab63fa",
           "#FFA15A",
           "#19d3f3",
           "#FF6692",
           "#B6E880",
           "#FF97FF",
           "#FECB52"
          ],
          "font": {
           "color": "#2a3f5f"
          },
          "geo": {
           "bgcolor": "white",
           "lakecolor": "white",
           "landcolor": "#E5ECF6",
           "showlakes": true,
           "showland": true,
           "subunitcolor": "white"
          },
          "hoverlabel": {
           "align": "left"
          },
          "hovermode": "closest",
          "mapbox": {
           "style": "light"
          },
          "paper_bgcolor": "white",
          "plot_bgcolor": "#E5ECF6",
          "polar": {
           "angularaxis": {
            "gridcolor": "white",
            "linecolor": "white",
            "ticks": ""
           },
           "bgcolor": "#E5ECF6",
           "radialaxis": {
            "gridcolor": "white",
            "linecolor": "white",
            "ticks": ""
           }
          },
          "scene": {
           "xaxis": {
            "backgroundcolor": "#E5ECF6",
            "gridcolor": "white",
            "gridwidth": 2,
            "linecolor": "white",
            "showbackground": true,
            "ticks": "",
            "zerolinecolor": "white"
           },
           "yaxis": {
            "backgroundcolor": "#E5ECF6",
            "gridcolor": "white",
            "gridwidth": 2,
            "linecolor": "white",
            "showbackground": true,
            "ticks": "",
            "zerolinecolor": "white"
           },
           "zaxis": {
            "backgroundcolor": "#E5ECF6",
            "gridcolor": "white",
            "gridwidth": 2,
            "linecolor": "white",
            "showbackground": true,
            "ticks": "",
            "zerolinecolor": "white"
           }
          },
          "shapedefaults": {
           "line": {
            "color": "#2a3f5f"
           }
          },
          "ternary": {
           "aaxis": {
            "gridcolor": "white",
            "linecolor": "white",
            "ticks": ""
           },
           "baxis": {
            "gridcolor": "white",
            "linecolor": "white",
            "ticks": ""
           },
           "bgcolor": "#E5ECF6",
           "caxis": {
            "gridcolor": "white",
            "linecolor": "white",
            "ticks": ""
           }
          },
          "title": {
           "x": 0.05
          },
          "xaxis": {
           "automargin": true,
           "gridcolor": "white",
           "linecolor": "white",
           "ticks": "",
           "title": {
            "standoff": 15
           },
           "zerolinecolor": "white",
           "zerolinewidth": 2
          },
          "yaxis": {
           "automargin": true,
           "gridcolor": "white",
           "linecolor": "white",
           "ticks": "",
           "title": {
            "standoff": 15
           },
           "zerolinecolor": "white",
           "zerolinewidth": 2
          }
         }
        }
       }
      },
      "text/html": [
       "<div>\n",
       "        \n",
       "        \n",
       "            <div id=\"d2ffb508-0d18-4b7a-aa13-1aea28e94af2\" class=\"plotly-graph-div\" style=\"height:525px; width:100%;\"></div>\n",
       "            <script type=\"text/javascript\">\n",
       "                require([\"plotly\"], function(Plotly) {\n",
       "                    window.PLOTLYENV=window.PLOTLYENV || {};\n",
       "                    \n",
       "                if (document.getElementById(\"d2ffb508-0d18-4b7a-aa13-1aea28e94af2\")) {\n",
       "                    Plotly.newPlot(\n",
       "                        'd2ffb508-0d18-4b7a-aa13-1aea28e94af2',\n",
       "                        [{\"type\": \"scatter\", \"x\": [0.0, 0.0003069138911087066, 0.003376052947714925, 0.034067440778017044, 0.10000000149011612, 0.14409004151821136, 0.20000000298023224, 0.24964593350887299, 0.30000001192092896, 0.35253334045410156, 0.4000000059604645, 0.4540485441684723, 0.5, 0.5547991991043091, 0.6000000238418579, 0.6551221013069153, 0.699999988079071, 0.7552145719528198, 0.800000011920929, 0.8551889657974243, 0.8999999761581421, 0.9551072120666504, 1.0, 1.055002212524414, 1.100000023841858, 1.1548917293548584, 1.2000000476837158, 1.2547881603240967, 1.2999999523162842, 1.3546887636184692, 1.399999976158142, 1.4545986652374268, 1.5, 1.5545191764831543, 1.600000023841858, 1.6544500589370728, 1.7000000476837158, 1.7543907165527344, 1.7999999523162842, 1.8543407917022705, 1.899999976158142, 1.954299807548523, 2.0, 2.0542664527893066, 2.0999999046325684, 2.154240369796753, 2.200000047683716, 2.254220724105835, 2.299999952316284, 2.3542075157165527, 2.4000000953674316, 2.45419979095459, 2.5, 2.554197072982788, 2.5999999046325684, 2.6541998386383057, 2.700000047683716, 2.754206657409668, 2.799999952316284, 2.854219436645508, 2.9000000953674316, 2.9542369842529297, 3.0, 3.054259777069092, 3.0999999046325684, 3.1542882919311523, 3.200000047683716, 3.254322052001953, 3.299999952316284, 3.354363203048706, 3.4000000953674316, 3.4544479846954346, 3.5, 3.5545156002044678, 3.5999999046325684, 3.654585599899292, 3.700000047683716, 3.7546637058258057, 3.799999952316284, 3.8547511100769043, 3.9000000953674316, 3.954850912094116, 4.0, 4.054965019226074, 4.099999904632568, 4.155094623565674, 4.199999809265137, 4.255239009857178, 4.300000190734863, 4.355403900146484, 4.400000095367432, 4.455590724945068, 4.5, 4.5558013916015625, 4.599999904632568, 4.656041145324707, 4.699999809265137, 4.7563090324401855, 4.800000190734863, 4.856612205505371, 4.900000095367432], \"y\": [4.641592502593994, 4.641592502593994, 4.641573905944824, 4.639308452606201, 4.615416049957275, 4.586024284362793, 4.538158416748047, 4.487369537353516, 4.430638790130615, 4.367538928985596, 4.308666706085205, 4.240865707397461, 4.183457851409912, 4.116268634796143, 4.062323570251465, 3.9989731311798096, 3.949528694152832, 3.891674757003784, 3.8471519947052, 3.7954084873199463, 3.7558257579803467, 3.710174083709717, 3.6753008365631104, 3.6353776454925537, 3.6048450469970703, 3.570124387741089, 3.543503761291504, 3.5134050846099854, 3.490257978439331, 3.464214324951172, 3.444117784500122, 3.421600580215454, 3.4041666984558105, 3.3847010135650635, 3.3695812225341797, 3.352748394012451, 3.339635133743286, 3.325070858001709, 3.313695192337036, 3.3010849952697754, 3.291213035583496, 3.2802865505218506, 3.2717161178588867, 3.2622416019439697, 3.25479793548584, 3.2465765476226807, 3.2401087284088135, 3.2329699993133545, 3.2273480892181396, 3.2211453914642334, 3.216257095336914, 3.2108652591705322, 3.206613540649414, 3.2019238471984863, 3.1982247829437256, 3.1941442489624023, 3.190925359725952, 3.187373399734497, 3.1845719814300537, 3.1814792156219482, 3.1790406703948975, 3.176346778869629, 3.1742241382598877, 3.171876907348633, 3.1700289249420166, 3.167983293533325, 3.166374683380127, 3.1645915508270264, 3.163191080093384, 3.1616363525390625, 3.160417079925537, 3.15906023979187, 3.157999277114868, 3.1568148136138916, 3.1558914184570312, 3.154857635498047, 3.1540539264678955, 3.153151512145996, 3.152452230453491, 3.1516647338867188, 3.1510565280914307, 3.1503686904907227, 3.1498398780822754, 3.1492393016815186, 3.1487793922424316, 3.148254871368408, 3.147855520248413, 3.147397041320801, 3.147050142288208, 3.1466495990753174, 3.146348237991333, 3.145998239517212, 3.1457369327545166, 3.145430564880371, 3.1452038288116455, 3.1449360847473145, 3.1447396278381348, 3.144505023956299, 3.1443347930908203, 3.144129514694214, 3.143982172012329]}, {\"type\": \"scatter\", \"x\": [0.0, 0.0003069138911087066, 0.003376052947714925, 0.034067440778017044, 0.10000000149011612, 0.14409004151821136, 0.20000000298023224, 0.24964593350887299, 0.30000001192092896, 0.35253334045410156, 0.4000000059604645, 0.4540485441684723, 0.5, 0.5547991991043091, 0.6000000238418579, 0.6551221013069153, 0.699999988079071, 0.7552145719528198, 0.800000011920929, 0.8551889657974243, 0.8999999761581421, 0.9551072120666504, 1.0, 1.055002212524414, 1.100000023841858, 1.1548917293548584, 1.2000000476837158, 1.2547881603240967, 1.2999999523162842, 1.3546887636184692, 1.399999976158142, 1.4545986652374268, 1.5, 1.5545191764831543, 1.600000023841858, 1.6544500589370728, 1.7000000476837158, 1.7543907165527344, 1.7999999523162842, 1.8543407917022705, 1.899999976158142, 1.954299807548523, 2.0, 2.0542664527893066, 2.0999999046325684, 2.154240369796753, 2.200000047683716, 2.254220724105835, 2.299999952316284, 2.3542075157165527, 2.4000000953674316, 2.45419979095459, 2.5, 2.554197072982788, 2.5999999046325684, 2.6541998386383057, 2.700000047683716, 2.754206657409668, 2.799999952316284, 2.854219436645508, 2.9000000953674316, 2.9542369842529297, 3.0, 3.054259777069092, 3.0999999046325684, 3.1542882919311523, 3.200000047683716, 3.254322052001953, 3.299999952316284, 3.354363203048706, 3.4000000953674316, 3.4544479846954346, 3.5, 3.5545156002044678, 3.5999999046325684, 3.654585599899292, 3.700000047683716, 3.7546637058258057, 3.799999952316284, 3.8547511100769043, 3.9000000953674316, 3.954850912094116, 4.0, 4.054965019226074, 4.099999904632568, 4.155094623565674, 4.199999809265137, 4.255239009857178, 4.300000190734863, 4.355403900146484, 4.400000095367432, 4.455590724945068, 4.5, 4.5558013916015625, 4.599999904632568, 4.656041145324707, 4.699999809265137, 4.7563090324401855, 4.800000190734863, 4.856612205505371, 4.900000095367432], \"y\": [0.0, -0.0010026100790128112, -0.011339358054101467, -0.14561158418655396, -0.6213933229446411, -0.7288362979888916, -1.010287880897522, -1.0550209283828735, -1.217915654182434, -1.2040115594863892, -1.2925258874893188, -1.235489010810852, -1.276847004890442, -1.1934208869934082, -1.2056121826171875, -1.1096426248550415, -1.1047152280807495, -1.0060502290725708, -0.9919394254684448, -0.8967900276184082, -0.8785370588302612, -0.7903480529785156, -0.7709983587265015, -0.6913191080093384, -0.6725848317146301, -0.6017881035804749, -0.5845382213592529, -0.5223239660263062, -0.5069124698638916, -0.45260781049728394, -0.4390909671783447, -0.39189550280570984, -0.3801787793636322, -0.3392673134803772, -0.32918375730514526, -0.29376569390296936, -0.28512200713157654, -0.25447455048561096, -0.24707907438278198, -0.22055889666080475, -0.21423445641994476, -0.19127768278121948, -0.18586675822734833, -0.16598354279994965, -0.16134943068027496, -0.14411714673042297, -0.1401430070400238, -0.12519823014736176, -0.1217849850654602, -0.10881578177213669, -0.10587994009256363, -0.09461786597967148, -0.09208876639604568, -0.0823037177324295, -0.08012226223945618, -0.07161586731672287, -0.06973177194595337, -0.06233366206288338, -0.0607050284743309, -0.054267752915620804, -0.0528581328690052, -0.04725507274270058, -0.04603429511189461, -0.041155800223350525, -0.040097955614328384, -0.03584890067577362, -0.03493161499500275, -0.031230049207806587, -0.030434638261795044, -0.027209095656871796, -0.02651898004114628, -0.023715808987617493, -0.023119967430830002, -0.020674096420407295, -0.020154854282736778, -0.0180203914642334, -0.017568314447999, -0.01570570096373558, -0.015312522649765015, -0.013686933554708958, -0.013345152139663696, -0.011927222833037376, -0.011631031520664692, -0.010393648408353329, -0.010136797092854977, -0.009056691080331802, -0.00883403792977333, -0.007891087792813778, -0.007698340341448784, -0.0068751126527786255, -0.006708493921905756, -0.0059896246530115604, -0.00584573857486248, -0.0052181147038936615, -0.005094258114695549, -0.00454581156373024, -0.004439062438905239, -0.003959975205361843, -0.0038683845195919275, -0.0034494800493121147, -0.003370812628418207]}],\n",
       "                        {\"template\": {\"data\": {\"bar\": [{\"error_x\": {\"color\": \"#2a3f5f\"}, \"error_y\": {\"color\": \"#2a3f5f\"}, \"marker\": {\"line\": {\"color\": \"#E5ECF6\", \"width\": 0.5}}, \"type\": \"bar\"}], \"barpolar\": [{\"marker\": {\"line\": {\"color\": \"#E5ECF6\", \"width\": 0.5}}, \"type\": \"barpolar\"}], \"carpet\": [{\"aaxis\": {\"endlinecolor\": \"#2a3f5f\", \"gridcolor\": \"white\", \"linecolor\": \"white\", \"minorgridcolor\": \"white\", \"startlinecolor\": \"#2a3f5f\"}, \"baxis\": {\"endlinecolor\": \"#2a3f5f\", \"gridcolor\": \"white\", \"linecolor\": \"white\", \"minorgridcolor\": \"white\", \"startlinecolor\": \"#2a3f5f\"}, \"type\": \"carpet\"}], \"choropleth\": [{\"colorbar\": {\"outlinewidth\": 0, \"ticks\": \"\"}, \"type\": \"choropleth\"}], \"contour\": [{\"colorbar\": {\"outlinewidth\": 0, \"ticks\": \"\"}, \"colorscale\": [[0.0, \"#0d0887\"], [0.1111111111111111, \"#46039f\"], [0.2222222222222222, \"#7201a8\"], [0.3333333333333333, \"#9c179e\"], [0.4444444444444444, \"#bd3786\"], [0.5555555555555556, \"#d8576b\"], [0.6666666666666666, \"#ed7953\"], [0.7777777777777778, \"#fb9f3a\"], [0.8888888888888888, \"#fdca26\"], [1.0, \"#f0f921\"]], \"type\": \"contour\"}], \"contourcarpet\": [{\"colorbar\": {\"outlinewidth\": 0, \"ticks\": \"\"}, \"type\": \"contourcarpet\"}], \"heatmap\": [{\"colorbar\": {\"outlinewidth\": 0, \"ticks\": \"\"}, \"colorscale\": [[0.0, \"#0d0887\"], [0.1111111111111111, \"#46039f\"], [0.2222222222222222, \"#7201a8\"], [0.3333333333333333, \"#9c179e\"], [0.4444444444444444, \"#bd3786\"], [0.5555555555555556, \"#d8576b\"], [0.6666666666666666, \"#ed7953\"], [0.7777777777777778, \"#fb9f3a\"], [0.8888888888888888, \"#fdca26\"], [1.0, \"#f0f921\"]], \"type\": \"heatmap\"}], \"heatmapgl\": [{\"colorbar\": {\"outlinewidth\": 0, \"ticks\": \"\"}, \"colorscale\": [[0.0, \"#0d0887\"], [0.1111111111111111, \"#46039f\"], [0.2222222222222222, \"#7201a8\"], [0.3333333333333333, \"#9c179e\"], [0.4444444444444444, \"#bd3786\"], [0.5555555555555556, \"#d8576b\"], [0.6666666666666666, \"#ed7953\"], [0.7777777777777778, \"#fb9f3a\"], [0.8888888888888888, \"#fdca26\"], [1.0, \"#f0f921\"]], \"type\": \"heatmapgl\"}], \"histogram\": [{\"marker\": {\"colorbar\": {\"outlinewidth\": 0, \"ticks\": \"\"}}, \"type\": \"histogram\"}], \"histogram2d\": [{\"colorbar\": {\"outlinewidth\": 0, \"ticks\": \"\"}, \"colorscale\": [[0.0, \"#0d0887\"], [0.1111111111111111, \"#46039f\"], [0.2222222222222222, \"#7201a8\"], [0.3333333333333333, \"#9c179e\"], [0.4444444444444444, \"#bd3786\"], [0.5555555555555556, \"#d8576b\"], [0.6666666666666666, \"#ed7953\"], [0.7777777777777778, \"#fb9f3a\"], [0.8888888888888888, \"#fdca26\"], [1.0, \"#f0f921\"]], \"type\": \"histogram2d\"}], \"histogram2dcontour\": [{\"colorbar\": {\"outlinewidth\": 0, \"ticks\": \"\"}, \"colorscale\": [[0.0, \"#0d0887\"], [0.1111111111111111, \"#46039f\"], [0.2222222222222222, \"#7201a8\"], [0.3333333333333333, \"#9c179e\"], [0.4444444444444444, \"#bd3786\"], [0.5555555555555556, \"#d8576b\"], [0.6666666666666666, \"#ed7953\"], [0.7777777777777778, \"#fb9f3a\"], [0.8888888888888888, \"#fdca26\"], [1.0, \"#f0f921\"]], \"type\": \"histogram2dcontour\"}], \"mesh3d\": [{\"colorbar\": {\"outlinewidth\": 0, \"ticks\": \"\"}, \"type\": \"mesh3d\"}], \"parcoords\": [{\"line\": {\"colorbar\": {\"outlinewidth\": 0, \"ticks\": \"\"}}, \"type\": \"parcoords\"}], \"pie\": [{\"automargin\": true, \"type\": \"pie\"}], \"scatter\": [{\"marker\": {\"colorbar\": {\"outlinewidth\": 0, \"ticks\": \"\"}}, \"type\": \"scatter\"}], \"scatter3d\": [{\"line\": {\"colorbar\": {\"outlinewidth\": 0, \"ticks\": \"\"}}, \"marker\": {\"colorbar\": {\"outlinewidth\": 0, \"ticks\": \"\"}}, \"type\": \"scatter3d\"}], \"scattercarpet\": [{\"marker\": {\"colorbar\": {\"outlinewidth\": 0, \"ticks\": \"\"}}, \"type\": \"scattercarpet\"}], \"scattergeo\": [{\"marker\": {\"colorbar\": {\"outlinewidth\": 0, \"ticks\": \"\"}}, \"type\": \"scattergeo\"}], \"scattergl\": [{\"marker\": {\"colorbar\": {\"outlinewidth\": 0, \"ticks\": \"\"}}, \"type\": \"scattergl\"}], \"scattermapbox\": [{\"marker\": {\"colorbar\": {\"outlinewidth\": 0, \"ticks\": \"\"}}, \"type\": \"scattermapbox\"}], \"scatterpolar\": [{\"marker\": {\"colorbar\": {\"outlinewidth\": 0, \"ticks\": \"\"}}, \"type\": \"scatterpolar\"}], \"scatterpolargl\": [{\"marker\": {\"colorbar\": {\"outlinewidth\": 0, \"ticks\": \"\"}}, \"type\": \"scatterpolargl\"}], \"scatterternary\": [{\"marker\": {\"colorbar\": {\"outlinewidth\": 0, \"ticks\": \"\"}}, \"type\": \"scatterternary\"}], \"surface\": [{\"colorbar\": {\"outlinewidth\": 0, \"ticks\": \"\"}, \"colorscale\": [[0.0, \"#0d0887\"], [0.1111111111111111, \"#46039f\"], [0.2222222222222222, \"#7201a8\"], [0.3333333333333333, \"#9c179e\"], [0.4444444444444444, \"#bd3786\"], [0.5555555555555556, \"#d8576b\"], [0.6666666666666666, \"#ed7953\"], [0.7777777777777778, \"#fb9f3a\"], [0.8888888888888888, \"#fdca26\"], [1.0, \"#f0f921\"]], \"type\": \"surface\"}], \"table\": [{\"cells\": {\"fill\": {\"color\": \"#EBF0F8\"}, \"line\": {\"color\": \"white\"}}, \"header\": {\"fill\": {\"color\": \"#C8D4E3\"}, \"line\": {\"color\": \"white\"}}, \"type\": \"table\"}]}, \"layout\": {\"annotationdefaults\": {\"arrowcolor\": \"#2a3f5f\", \"arrowhead\": 0, \"arrowwidth\": 1}, \"coloraxis\": {\"colorbar\": {\"outlinewidth\": 0, \"ticks\": \"\"}}, \"colorscale\": {\"diverging\": [[0, \"#8e0152\"], [0.1, \"#c51b7d\"], [0.2, \"#de77ae\"], [0.3, \"#f1b6da\"], [0.4, \"#fde0ef\"], [0.5, \"#f7f7f7\"], [0.6, \"#e6f5d0\"], [0.7, \"#b8e186\"], [0.8, \"#7fbc41\"], [0.9, \"#4d9221\"], [1, \"#276419\"]], \"sequential\": [[0.0, \"#0d0887\"], [0.1111111111111111, \"#46039f\"], [0.2222222222222222, \"#7201a8\"], [0.3333333333333333, \"#9c179e\"], [0.4444444444444444, \"#bd3786\"], [0.5555555555555556, \"#d8576b\"], [0.6666666666666666, \"#ed7953\"], [0.7777777777777778, \"#fb9f3a\"], [0.8888888888888888, \"#fdca26\"], [1.0, \"#f0f921\"]], \"sequentialminus\": [[0.0, \"#0d0887\"], [0.1111111111111111, \"#46039f\"], [0.2222222222222222, \"#7201a8\"], [0.3333333333333333, \"#9c179e\"], [0.4444444444444444, \"#bd3786\"], [0.5555555555555556, \"#d8576b\"], [0.6666666666666666, \"#ed7953\"], [0.7777777777777778, \"#fb9f3a\"], [0.8888888888888888, \"#fdca26\"], [1.0, \"#f0f921\"]]}, \"colorway\": [\"#636efa\", \"#EF553B\", \"#00cc96\", \"#ab63fa\", \"#FFA15A\", \"#19d3f3\", \"#FF6692\", \"#B6E880\", \"#FF97FF\", \"#FECB52\"], \"font\": {\"color\": \"#2a3f5f\"}, \"geo\": {\"bgcolor\": \"white\", \"lakecolor\": \"white\", \"landcolor\": \"#E5ECF6\", \"showlakes\": true, \"showland\": true, \"subunitcolor\": \"white\"}, \"hoverlabel\": {\"align\": \"left\"}, \"hovermode\": \"closest\", \"mapbox\": {\"style\": \"light\"}, \"paper_bgcolor\": \"white\", \"plot_bgcolor\": \"#E5ECF6\", \"polar\": {\"angularaxis\": {\"gridcolor\": \"white\", \"linecolor\": \"white\", \"ticks\": \"\"}, \"bgcolor\": \"#E5ECF6\", \"radialaxis\": {\"gridcolor\": \"white\", \"linecolor\": \"white\", \"ticks\": \"\"}}, \"scene\": {\"xaxis\": {\"backgroundcolor\": \"#E5ECF6\", \"gridcolor\": \"white\", \"gridwidth\": 2, \"linecolor\": \"white\", \"showbackground\": true, \"ticks\": \"\", \"zerolinecolor\": \"white\"}, \"yaxis\": {\"backgroundcolor\": \"#E5ECF6\", \"gridcolor\": \"white\", \"gridwidth\": 2, \"linecolor\": \"white\", \"showbackground\": true, \"ticks\": \"\", \"zerolinecolor\": \"white\"}, \"zaxis\": {\"backgroundcolor\": \"#E5ECF6\", \"gridcolor\": \"white\", \"gridwidth\": 2, \"linecolor\": \"white\", \"showbackground\": true, \"ticks\": \"\", \"zerolinecolor\": \"white\"}}, \"shapedefaults\": {\"line\": {\"color\": \"#2a3f5f\"}}, \"ternary\": {\"aaxis\": {\"gridcolor\": \"white\", \"linecolor\": \"white\", \"ticks\": \"\"}, \"baxis\": {\"gridcolor\": \"white\", \"linecolor\": \"white\", \"ticks\": \"\"}, \"bgcolor\": \"#E5ECF6\", \"caxis\": {\"gridcolor\": \"white\", \"linecolor\": \"white\", \"ticks\": \"\"}}, \"title\": {\"x\": 0.05}, \"xaxis\": {\"automargin\": true, \"gridcolor\": \"white\", \"linecolor\": \"white\", \"ticks\": \"\", \"title\": {\"standoff\": 15}, \"zerolinecolor\": \"white\", \"zerolinewidth\": 2}, \"yaxis\": {\"automargin\": true, \"gridcolor\": \"white\", \"linecolor\": \"white\", \"ticks\": \"\", \"title\": {\"standoff\": 15}, \"zerolinecolor\": \"white\", \"zerolinewidth\": 2}}}},\n",
       "                        {\"responsive\": true}\n",
       "                    ).then(function(){\n",
       "                            \n",
       "var gd = document.getElementById('d2ffb508-0d18-4b7a-aa13-1aea28e94af2');\n",
       "var x = new MutationObserver(function (mutations, observer) {{\n",
       "        var display = window.getComputedStyle(gd).display;\n",
       "        if (!display || display === 'none') {{\n",
       "            console.log([gd, 'removed!']);\n",
       "            Plotly.purge(gd);\n",
       "            observer.disconnect();\n",
       "        }}\n",
       "}});\n",
       "\n",
       "// Listen for the removal of the full notebook cells\n",
       "var notebookContainer = gd.closest('#notebook-container');\n",
       "if (notebookContainer) {{\n",
       "    x.observe(notebookContainer, {childList: true});\n",
       "}}\n",
       "\n",
       "// Listen for the clearing of the current output cell\n",
       "var outputEl = gd.closest('.output');\n",
       "if (outputEl) {{\n",
       "    x.observe(outputEl, {childList: true});\n",
       "}}\n",
       "\n",
       "                        })\n",
       "                };\n",
       "                });\n",
       "            </script>\n",
       "        </div>"
      ]
     },
     "metadata": {},
     "output_type": "display_data"
    }
   ],
   "source": [
    "x_nom = torch.tensor([np.pi, 0.], dtype=vf.dtype)\n",
    "u_nom = torch.zeros(vf.u_dim[0], dtype=vf.dtype)\n",
    "Q = torch.diag(torch.Tensor([1., 10.]))\n",
    "R = torch.diag(torch.Tensor([1.]))\n",
    "ctrl, S = controllers.get_lqr_controller(sys.dx, x_nom, u_nom, Q, R, vf.u_lo[0], vf.u_up[0])\n",
    "\n",
    "ctrl = controllers.get_limited_lookahead_controller(get_value_function(offline_horizon)[0])\n",
    "\n",
    "x0 = torch.tensor([np.pi+1.5, 0.], dtype=vf.dtype)\n",
    "x_traj_sim, t_traj_sim = controllers.sim_ctrl(x0, vf.u_dim[0], sys.dx, ctrl, .1, 50)\n",
    "\n",
    "fig = go.Figure()\n",
    "for i in range(2):\n",
    "    fig.add_trace(go.Scatter(\n",
    "        x=t_traj_sim,\n",
    "        y=x_traj_sim[i,:]\n",
    "    ))\n",
    "fig.show()"
   ]
  },
  {
   "cell_type": "code",
   "execution_count": 36,
   "metadata": {},
   "outputs": [],
   "source": [
    "opt = dict(\n",
    "    max_buffer_size = None,\n",
    "    batch_size = 10,\n",
    "    learning_rate = 1e-3,\n",
    "    \n",
    "    nn_width = 50,\n",
    "    nn_depth = 1,\n",
    "\n",
    "    num_samples_validation = 1000,\n",
    "    \n",
    "    init_num_samples = [100, 100],\n",
    "    init_num_trainig_step = 1000,\n",
    "\n",
    "#     num_generations = 100,\n",
    "#     num_samples_per_generation = 10,\n",
    "#     num_train_step_per_gen = 100,\n",
    "    \n",
    "#     adv_max_iter = 3,\n",
    "#     adv_conv_tol = 1e-5,\n",
    "#     adv_learning_rate = .25,\n",
    ")"
   ]
  },
  {
   "cell_type": "code",
   "execution_count": 31,
   "metadata": {},
   "outputs": [],
   "source": [
    "sys_name = 'pendulum'\n",
    "validation_file = '../data/validation_' + sys_name\n",
    "init_file = '../data/init_' + sys_name"
   ]
  },
  {
   "cell_type": "code",
   "execution_count": 187,
   "metadata": {},
   "outputs": [
    {
     "ename": "KeyError",
     "evalue": "'adv_max_iter'",
     "output_type": "error",
     "traceback": [
      "\u001b[0;31m---------------------------------------------------------------------------\u001b[0m",
      "\u001b[0;31mKeyError\u001b[0m                                  Traceback (most recent call last)",
      "\u001b[0;32m<ipython-input-187-d8366e9a4e38>\u001b[0m in \u001b[0;36m<module>\u001b[0;34m\u001b[0m\n\u001b[1;32m      5\u001b[0m \u001b[0msamples_gen_grid\u001b[0m \u001b[0;34m=\u001b[0m \u001b[0msamples_generator\u001b[0m\u001b[0;34m.\u001b[0m\u001b[0mGridSampleGenerator\u001b[0m\u001b[0;34m(\u001b[0m\u001b[0mvf\u001b[0m\u001b[0;34m,\u001b[0m \u001b[0mx0_lo\u001b[0m\u001b[0;34m,\u001b[0m \u001b[0mx0_up\u001b[0m\u001b[0;34m)\u001b[0m\u001b[0;34m\u001b[0m\u001b[0;34m\u001b[0m\u001b[0m\n\u001b[1;32m      6\u001b[0m samples_gen_adv = samples_generator.AdversarialSampleGenerator(vf, x0_lo, x0_up, \n\u001b[0;32m----> 7\u001b[0;31m                                                                \u001b[0mmax_iter\u001b[0m\u001b[0;34m=\u001b[0m\u001b[0mopt\u001b[0m\u001b[0;34m[\u001b[0m\u001b[0;34m'adv_max_iter'\u001b[0m\u001b[0;34m]\u001b[0m\u001b[0;34m,\u001b[0m\u001b[0;34m\u001b[0m\u001b[0;34m\u001b[0m\u001b[0m\n\u001b[0m\u001b[1;32m      8\u001b[0m                                                                \u001b[0mconv_tol\u001b[0m\u001b[0;34m=\u001b[0m\u001b[0mopt\u001b[0m\u001b[0;34m[\u001b[0m\u001b[0;34m'adv_conv_tol'\u001b[0m\u001b[0;34m]\u001b[0m\u001b[0;34m,\u001b[0m\u001b[0;34m\u001b[0m\u001b[0;34m\u001b[0m\u001b[0m\n\u001b[1;32m      9\u001b[0m                                                                learning_rate=opt['adv_learning_rate'])\n",
      "\u001b[0;31mKeyError\u001b[0m: 'adv_max_iter'"
     ]
    }
   ],
   "source": [
    "x0_lo = torch.tensor([np.pi-1.5, -15.], dtype=vf.dtype)\n",
    "x0_up = torch.tensor([np.pi+1.5, 15.], dtype=vf.dtype)\n",
    "\n",
    "samples_gen_rand = samples_generator.RandomSampleGenerator(vf, x0_lo, x0_up)\n",
    "samples_gen_grid = samples_generator.GridSampleGenerator(vf, x0_lo, x0_up)\n",
    "samples_gen_adv = samples_generator.AdversarialSampleGenerator(vf, x0_lo, x0_up, \n",
    "                                                               max_iter=opt['adv_max_iter'],\n",
    "                                                               conv_tol=opt['adv_conv_tol'],\n",
    "                                                               learning_rate=opt['adv_learning_rate'])"
   ]
  },
  {
   "cell_type": "code",
   "execution_count": 48,
   "metadata": {},
   "outputs": [
    {
     "name": "stdout",
     "output_type": "stream",
     "text": [
      "Progress: [########################################] 100.0%\n"
     ]
    }
   ],
   "source": [
    "x_validation, v_validation = samples_gen_rand.generate_samples(opt['num_samples_validation'],\n",
    "                                                               include_time=True,\n",
    "                                                               show_progress=True)"
   ]
  },
  {
   "cell_type": "code",
   "execution_count": 54,
   "metadata": {},
   "outputs": [],
   "source": [
    "torch.save(x_validation, validation_file + '_x.pt')\n",
    "torch.save(v_validation, validation_file + '_v.pt')"
   ]
  },
  {
   "cell_type": "code",
   "execution_count": 55,
   "metadata": {},
   "outputs": [],
   "source": [
    "x_validation = torch.load(validation_file + '_x.pt')\n",
    "v_validation = torch.load(validation_file + '_v.pt')"
   ]
  },
  {
   "cell_type": "code",
   "execution_count": 59,
   "metadata": {},
   "outputs": [
    {
     "name": "stdout",
     "output_type": "stream",
     "text": [
      "Progress: [########################################] 100.0%\n"
     ]
    }
   ],
   "source": [
    "x_init, v_init = samples_gen_grid.generate_samples(opt['init_num_samples'],\n",
    "                                                   include_time=True,\n",
    "                                                   show_progress=True)"
   ]
  },
  {
   "cell_type": "code",
   "execution_count": 60,
   "metadata": {},
   "outputs": [],
   "source": [
    "torch.save(x_init, init_file + '_x.pt')\n",
    "torch.save(v_init, init_file + '_v.pt')"
   ]
  },
  {
   "cell_type": "code",
   "execution_count": 61,
   "metadata": {},
   "outputs": [],
   "source": [
    "x_init = torch.load(init_file + '_x.pt')\n",
    "v_init = torch.load(init_file + '_v.pt')"
   ]
  },
  {
   "cell_type": "code",
   "execution_count": 86,
   "metadata": {},
   "outputs": [],
   "source": [
    "scaling = torch.mean(v_validation)\n",
    "\n",
    "# model = value_approximation.QuadraticModel(vf.dtype,\n",
    "#                                            1 + vf.x_dim[0],\n",
    "#                                            scaling=scaling)\n",
    "\n",
    "model = value_approximation.NeuralNetworkModel(vf.dtype,\n",
    "                                               1 + vf.x_dim[0],\n",
    "                                               opt['nn_width'],\n",
    "                                               opt['nn_depth'],\n",
    "                                               scaling=scaling)\n",
    "\n",
    "vf_approx = value_approximation.ValueFunctionApproximation(model, learning_rate=opt['learning_rate'])\n",
    "\n",
    "train_log = training_log.TrainingLog(prefix=\"baseline\")"
   ]
  },
  {
   "cell_type": "code",
   "execution_count": 58,
   "metadata": {},
   "outputs": [],
   "source": [
    "samples_buff = samples_buffer.SamplesBuffer(1 + vf.x_dim[0], 1, vf.dtype, max_size=opt['max_buffer_size'])"
   ]
  },
  {
   "cell_type": "code",
   "execution_count": 62,
   "metadata": {},
   "outputs": [],
   "source": [
    "samples_buff.add_samples(x_init, v_init)"
   ]
  },
  {
   "cell_type": "code",
   "execution_count": 105,
   "metadata": {},
   "outputs": [],
   "source": [
    "for train_step_i in range(opt['init_num_trainig_step']):\n",
    "    x, v = samples_buff.get_random_samples(opt['batch_size'])\n",
    "    loss = vf_approx.train_step(x, v)\n",
    "    train_log.add_train_loss(loss)"
   ]
  },
  {
   "cell_type": "code",
   "execution_count": 110,
   "metadata": {},
   "outputs": [],
   "source": [
    "x0 = torch.tensor([0., 15.], dtype=vf.dtype)\n",
    "online_horizon = 3"
   ]
  },
  {
   "cell_type": "code",
   "execution_count": 111,
   "metadata": {},
   "outputs": [
    {
     "data": {
      "application/vnd.plotly.v1+json": {
       "config": {
        "plotlyServerURL": "https://plot.ly"
       },
       "data": [
        {
         "type": "scatter",
         "x": [
          0,
          6.666222179774195e-05,
          0.0007332844543270767,
          0.007399506866931915,
          0.07406172901391983,
          0.10000000149011612,
          0.15445156395435333,
          0.20000000298023224,
          0.2582152783870697,
          0.30000001192092896,
          0.3540673553943634,
          0.4000000059604645,
          0.4492218792438507,
          0.5,
          0.5434367060661316,
          0.6000000238418579,
          0.6325514316558838,
          0.699999988079071,
          0.7383034229278564,
          0.800000011920929,
          0.8465970158576965,
          0.8999999761581421,
          0.9527547955513,
          1,
          1.0594106912612915,
          1.100000023841858,
          1.1699661016464233,
          1.2000000476837158,
          1.284619688987732,
          1.2999999523162842,
          1.3693464994430542,
          1.399999976158142,
          1.4600707292556763,
          1.5,
          1.554323673248291,
          1.600000023841858,
          1.6493936777114868,
          1.7000000476837158,
          1.743962287902832,
          1.7999999523162842,
          1.835275411605835,
          1.899999976158142,
          1.9420441389083862,
          2,
          2.0494987964630127,
          2.0999999046325684,
          2.1559057235717773,
          2.200000047683716,
          2.2634856700897217,
          2.299999952316284,
          2.376291036605835,
          2.4000000953674316,
          2.492708921432495,
          2.5,
          2.5780179500579834,
          2.5999999046325684,
          2.671382427215576,
          2.700000047683716,
          2.7698798179626465,
          2.799999952316284,
          2.868195056915283,
          2.9000000953674316,
          2.9733543395996094,
          3,
          3.0719027519226074,
          3.0999999046325684,
          3.184253215789795,
          3.200000047683716,
          3.2794036865234375,
          3.299999952316284,
          3.4000000953674316,
          3.5,
          3.5999999046325684,
          3.700000047683716,
          3.799999952316284,
          3.9000000953674316,
          4,
          4.099999904632568,
          4.199999809265137,
          4.300000190734863,
          4.400000095367432,
          4.5,
          4.599999904632568,
          4.699999809265137,
          4.800000190734863,
          4.900000095367432
         ],
         "y": [
          0,
          0.0009998880559578538,
          0.010993767529726028,
          0.11041022837162018,
          1.0311247110366821,
          1.3406227827072144,
          1.8965600728988647,
          2.2699382305145264,
          2.6365110874176025,
          2.8357856273651123,
          3.027376651763916,
          3.1431193351745605,
          3.228727340698242,
          3.28474497795105,
          3.3128018379211426,
          3.328693151473999,
          3.3303568363189697,
          3.320958375930786,
          3.3109991550445557,
          3.2905240058898926,
          3.2737298011779785,
          3.2541778087615967,
          3.235823154449463,
          3.2205514907836914,
          3.2034761905670166,
          3.1932168006896973,
          3.1782751083374023,
          3.172877311706543,
          3.160609483718872,
          3.1588099002838135,
          3.1520748138427734,
          3.1497418880462646,
          3.146139144897461,
          3.1443374156951904,
          3.1425154209136963,
          3.141432523727417,
          3.1406302452087402,
          3.140115737915039,
          3.1398606300354004,
          3.1397290229797363,
          3.1397242546081543,
          3.139829158782959,
          3.139944314956665,
          3.14013934135437,
          3.140317440032959,
          3.1404998302459717,
          3.140690803527832,
          3.1408298015594482,
          3.1410069465637207,
          3.1410961151123047,
          3.1412525177001953,
          3.1412932872772217,
          3.14142107963562,
          3.1414289474487305,
          3.141500473022461,
          3.1415162086486816,
          3.1415560245513916,
          3.1415679454803467,
          3.1415891647338867,
          3.1415956020355225,
          3.1416049003601074,
          3.1416075229644775,
          3.1416103839874268,
          3.141610622406006,
          3.1416096687316895,
          3.141608953475952,
          3.141605854034424,
          3.1416053771972656,
          3.141602039337158,
          3.141601324081421,
          3.1415979862213135,
          3.1415956020355225,
          3.1415936946868896,
          3.141592502593994,
          3.141592025756836,
          3.141592025756836,
          3.141592264175415,
          3.1415927410125732,
          3.1415932178497314,
          3.1415936946868896,
          3.141594409942627,
          3.141594886779785,
          3.1415953636169434,
          3.1415953636169434,
          3.1415956020355225,
          3.1415953636169434
         ]
        },
        {
         "type": "scatter",
         "x": [
          0,
          6.666222179774195e-05,
          0.0007332844543270767,
          0.007399506866931915,
          0.07406172901391983,
          0.10000000149011612,
          0.15445156395435333,
          0.20000000298023224,
          0.2582152783870697,
          0.30000001192092896,
          0.3540673553943634,
          0.4000000059604645,
          0.4492218792438507,
          0.5,
          0.5434367060661316,
          0.6000000238418579,
          0.6325514316558838,
          0.699999988079071,
          0.7383034229278564,
          0.800000011920929,
          0.8465970158576965,
          0.8999999761581421,
          0.9527547955513,
          1,
          1.0594106912612915,
          1.100000023841858,
          1.1699661016464233,
          1.2000000476837158,
          1.284619688987732,
          1.2999999523162842,
          1.3693464994430542,
          1.399999976158142,
          1.4600707292556763,
          1.5,
          1.554323673248291,
          1.600000023841858,
          1.6493936777114868,
          1.7000000476837158,
          1.743962287902832,
          1.7999999523162842,
          1.835275411605835,
          1.899999976158142,
          1.9420441389083862,
          2,
          2.0494987964630127,
          2.0999999046325684,
          2.1559057235717773,
          2.200000047683716,
          2.2634856700897217,
          2.299999952316284,
          2.376291036605835,
          2.4000000953674316,
          2.492708921432495,
          2.5,
          2.5780179500579834,
          2.5999999046325684,
          2.671382427215576,
          2.700000047683716,
          2.7698798179626465,
          2.799999952316284,
          2.868195056915283,
          2.9000000953674316,
          2.9733543395996094,
          3,
          3.0719027519226074,
          3.0999999046325684,
          3.184253215789795,
          3.200000047683716,
          3.2794036865234375,
          3.299999952316284,
          3.4000000953674316,
          3.5,
          3.5999999046325684,
          3.700000047683716,
          3.799999952316284,
          3.9000000953674316,
          4,
          4.099999904632568,
          4.199999809265137,
          4.300000190734863,
          4.400000095367432,
          4.5,
          4.599999904632568,
          4.699999809265137,
          4.800000190734863,
          4.900000095367432
         ],
         "y": [
          15,
          14.998641967773438,
          14.984968185424805,
          14.839235305786133,
          12.542203903198242,
          11.293731689453125,
          9.11478328704834,
          7.2841620445251465,
          5.367203235626221,
          4.198559284210205,
          2.9448249340057373,
          2.1312255859375,
          1.387012243270874,
          0.8579933643341064,
          0.457619845867157,
          0.14171716570854187,
          -0.029980584979057312,
          -0.21023505926132202,
          -0.3011319041252136,
          -0.34114500880241394,
          -0.37187618017196655,
          -0.35039985179901123,
          -0.3398725688457489,
          -0.30216747522354126,
          -0.2692088484764099,
          -0.23466594517230988,
          -0.19068486988544464,
          -0.16839446127414703,
          -0.12136595696210861,
          -0.11261384189128876,
          -0.08229754865169525,
          -0.07002261281013489,
          -0.05062204226851463,
          -0.03989092633128166,
          -0.027752313762903214,
          -0.020016396418213844,
          -0.012858942151069641,
          -0.007849431596696377,
          -0.003995447885245085,
          -0.0010597225045785308,
          0.0006747912848368287,
          0.0022323390003293753,
          0.0031342743895947933,
          0.003418129635974765,
          0.0036893633659929037,
          0.003453750628978014,
          0.003314393339678645,
          0.0029536753427237272,
          0.0025911000557243824,
          0.0022807633504271507,
          0.0018025529570877552,
          0.001629122532904148,
          0.0011250864481553435,
          0.0010847439989447594,
          0.0007559658261016011,
          0.0006715347990393639,
          0.00045260449405759573,
          0.00038012335426174104,
          0.00023623174638487399,
          0.00018963997717946768,
          9.504397166892886e-05,
          6.73519098199904e-05,
          1.5933999748085625e-05,
          5.916551799600711e-06,
          -2.6391215214971453e-05,
          -2.927772766270209e-05,
          -3.639704664237797e-05,
          -3.5160304832970724e-05,
          -4.0781840652925894e-05,
          -3.766169902519323e-05,
          -2.745033270912245e-05,
          -2.049653630820103e-05,
          -1.5970585081959143e-05,
          -7.985991942405235e-06,
          -1.158582563220989e-06,
          1.36705591557984e-06,
          3.918970833183266e-06,
          4.028538569400553e-06,
          4.545825504465029e-06,
          5.500851329998113e-06,
          6.964400654396741e-06,
          4.382950464787427e-06,
          2.3839259029045934e-06,
          7.460711231033201e-07,
          -3.174947380557569e-07,
          -1.3324192877917085e-06
         ]
        }
       ],
       "layout": {
        "template": {
         "data": {
          "bar": [
           {
            "error_x": {
             "color": "#2a3f5f"
            },
            "error_y": {
             "color": "#2a3f5f"
            },
            "marker": {
             "line": {
              "color": "#E5ECF6",
              "width": 0.5
             }
            },
            "type": "bar"
           }
          ],
          "barpolar": [
           {
            "marker": {
             "line": {
              "color": "#E5ECF6",
              "width": 0.5
             }
            },
            "type": "barpolar"
           }
          ],
          "carpet": [
           {
            "aaxis": {
             "endlinecolor": "#2a3f5f",
             "gridcolor": "white",
             "linecolor": "white",
             "minorgridcolor": "white",
             "startlinecolor": "#2a3f5f"
            },
            "baxis": {
             "endlinecolor": "#2a3f5f",
             "gridcolor": "white",
             "linecolor": "white",
             "minorgridcolor": "white",
             "startlinecolor": "#2a3f5f"
            },
            "type": "carpet"
           }
          ],
          "choropleth": [
           {
            "colorbar": {
             "outlinewidth": 0,
             "ticks": ""
            },
            "type": "choropleth"
           }
          ],
          "contour": [
           {
            "colorbar": {
             "outlinewidth": 0,
             "ticks": ""
            },
            "colorscale": [
             [
              0,
              "#0d0887"
             ],
             [
              0.1111111111111111,
              "#46039f"
             ],
             [
              0.2222222222222222,
              "#7201a8"
             ],
             [
              0.3333333333333333,
              "#9c179e"
             ],
             [
              0.4444444444444444,
              "#bd3786"
             ],
             [
              0.5555555555555556,
              "#d8576b"
             ],
             [
              0.6666666666666666,
              "#ed7953"
             ],
             [
              0.7777777777777778,
              "#fb9f3a"
             ],
             [
              0.8888888888888888,
              "#fdca26"
             ],
             [
              1,
              "#f0f921"
             ]
            ],
            "type": "contour"
           }
          ],
          "contourcarpet": [
           {
            "colorbar": {
             "outlinewidth": 0,
             "ticks": ""
            },
            "type": "contourcarpet"
           }
          ],
          "heatmap": [
           {
            "colorbar": {
             "outlinewidth": 0,
             "ticks": ""
            },
            "colorscale": [
             [
              0,
              "#0d0887"
             ],
             [
              0.1111111111111111,
              "#46039f"
             ],
             [
              0.2222222222222222,
              "#7201a8"
             ],
             [
              0.3333333333333333,
              "#9c179e"
             ],
             [
              0.4444444444444444,
              "#bd3786"
             ],
             [
              0.5555555555555556,
              "#d8576b"
             ],
             [
              0.6666666666666666,
              "#ed7953"
             ],
             [
              0.7777777777777778,
              "#fb9f3a"
             ],
             [
              0.8888888888888888,
              "#fdca26"
             ],
             [
              1,
              "#f0f921"
             ]
            ],
            "type": "heatmap"
           }
          ],
          "heatmapgl": [
           {
            "colorbar": {
             "outlinewidth": 0,
             "ticks": ""
            },
            "colorscale": [
             [
              0,
              "#0d0887"
             ],
             [
              0.1111111111111111,
              "#46039f"
             ],
             [
              0.2222222222222222,
              "#7201a8"
             ],
             [
              0.3333333333333333,
              "#9c179e"
             ],
             [
              0.4444444444444444,
              "#bd3786"
             ],
             [
              0.5555555555555556,
              "#d8576b"
             ],
             [
              0.6666666666666666,
              "#ed7953"
             ],
             [
              0.7777777777777778,
              "#fb9f3a"
             ],
             [
              0.8888888888888888,
              "#fdca26"
             ],
             [
              1,
              "#f0f921"
             ]
            ],
            "type": "heatmapgl"
           }
          ],
          "histogram": [
           {
            "marker": {
             "colorbar": {
              "outlinewidth": 0,
              "ticks": ""
             }
            },
            "type": "histogram"
           }
          ],
          "histogram2d": [
           {
            "colorbar": {
             "outlinewidth": 0,
             "ticks": ""
            },
            "colorscale": [
             [
              0,
              "#0d0887"
             ],
             [
              0.1111111111111111,
              "#46039f"
             ],
             [
              0.2222222222222222,
              "#7201a8"
             ],
             [
              0.3333333333333333,
              "#9c179e"
             ],
             [
              0.4444444444444444,
              "#bd3786"
             ],
             [
              0.5555555555555556,
              "#d8576b"
             ],
             [
              0.6666666666666666,
              "#ed7953"
             ],
             [
              0.7777777777777778,
              "#fb9f3a"
             ],
             [
              0.8888888888888888,
              "#fdca26"
             ],
             [
              1,
              "#f0f921"
             ]
            ],
            "type": "histogram2d"
           }
          ],
          "histogram2dcontour": [
           {
            "colorbar": {
             "outlinewidth": 0,
             "ticks": ""
            },
            "colorscale": [
             [
              0,
              "#0d0887"
             ],
             [
              0.1111111111111111,
              "#46039f"
             ],
             [
              0.2222222222222222,
              "#7201a8"
             ],
             [
              0.3333333333333333,
              "#9c179e"
             ],
             [
              0.4444444444444444,
              "#bd3786"
             ],
             [
              0.5555555555555556,
              "#d8576b"
             ],
             [
              0.6666666666666666,
              "#ed7953"
             ],
             [
              0.7777777777777778,
              "#fb9f3a"
             ],
             [
              0.8888888888888888,
              "#fdca26"
             ],
             [
              1,
              "#f0f921"
             ]
            ],
            "type": "histogram2dcontour"
           }
          ],
          "mesh3d": [
           {
            "colorbar": {
             "outlinewidth": 0,
             "ticks": ""
            },
            "type": "mesh3d"
           }
          ],
          "parcoords": [
           {
            "line": {
             "colorbar": {
              "outlinewidth": 0,
              "ticks": ""
             }
            },
            "type": "parcoords"
           }
          ],
          "pie": [
           {
            "automargin": true,
            "type": "pie"
           }
          ],
          "scatter": [
           {
            "marker": {
             "colorbar": {
              "outlinewidth": 0,
              "ticks": ""
             }
            },
            "type": "scatter"
           }
          ],
          "scatter3d": [
           {
            "line": {
             "colorbar": {
              "outlinewidth": 0,
              "ticks": ""
             }
            },
            "marker": {
             "colorbar": {
              "outlinewidth": 0,
              "ticks": ""
             }
            },
            "type": "scatter3d"
           }
          ],
          "scattercarpet": [
           {
            "marker": {
             "colorbar": {
              "outlinewidth": 0,
              "ticks": ""
             }
            },
            "type": "scattercarpet"
           }
          ],
          "scattergeo": [
           {
            "marker": {
             "colorbar": {
              "outlinewidth": 0,
              "ticks": ""
             }
            },
            "type": "scattergeo"
           }
          ],
          "scattergl": [
           {
            "marker": {
             "colorbar": {
              "outlinewidth": 0,
              "ticks": ""
             }
            },
            "type": "scattergl"
           }
          ],
          "scattermapbox": [
           {
            "marker": {
             "colorbar": {
              "outlinewidth": 0,
              "ticks": ""
             }
            },
            "type": "scattermapbox"
           }
          ],
          "scatterpolar": [
           {
            "marker": {
             "colorbar": {
              "outlinewidth": 0,
              "ticks": ""
             }
            },
            "type": "scatterpolar"
           }
          ],
          "scatterpolargl": [
           {
            "marker": {
             "colorbar": {
              "outlinewidth": 0,
              "ticks": ""
             }
            },
            "type": "scatterpolargl"
           }
          ],
          "scatterternary": [
           {
            "marker": {
             "colorbar": {
              "outlinewidth": 0,
              "ticks": ""
             }
            },
            "type": "scatterternary"
           }
          ],
          "surface": [
           {
            "colorbar": {
             "outlinewidth": 0,
             "ticks": ""
            },
            "colorscale": [
             [
              0,
              "#0d0887"
             ],
             [
              0.1111111111111111,
              "#46039f"
             ],
             [
              0.2222222222222222,
              "#7201a8"
             ],
             [
              0.3333333333333333,
              "#9c179e"
             ],
             [
              0.4444444444444444,
              "#bd3786"
             ],
             [
              0.5555555555555556,
              "#d8576b"
             ],
             [
              0.6666666666666666,
              "#ed7953"
             ],
             [
              0.7777777777777778,
              "#fb9f3a"
             ],
             [
              0.8888888888888888,
              "#fdca26"
             ],
             [
              1,
              "#f0f921"
             ]
            ],
            "type": "surface"
           }
          ],
          "table": [
           {
            "cells": {
             "fill": {
              "color": "#EBF0F8"
             },
             "line": {
              "color": "white"
             }
            },
            "header": {
             "fill": {
              "color": "#C8D4E3"
             },
             "line": {
              "color": "white"
             }
            },
            "type": "table"
           }
          ]
         },
         "layout": {
          "annotationdefaults": {
           "arrowcolor": "#2a3f5f",
           "arrowhead": 0,
           "arrowwidth": 1
          },
          "coloraxis": {
           "colorbar": {
            "outlinewidth": 0,
            "ticks": ""
           }
          },
          "colorscale": {
           "diverging": [
            [
             0,
             "#8e0152"
            ],
            [
             0.1,
             "#c51b7d"
            ],
            [
             0.2,
             "#de77ae"
            ],
            [
             0.3,
             "#f1b6da"
            ],
            [
             0.4,
             "#fde0ef"
            ],
            [
             0.5,
             "#f7f7f7"
            ],
            [
             0.6,
             "#e6f5d0"
            ],
            [
             0.7,
             "#b8e186"
            ],
            [
             0.8,
             "#7fbc41"
            ],
            [
             0.9,
             "#4d9221"
            ],
            [
             1,
             "#276419"
            ]
           ],
           "sequential": [
            [
             0,
             "#0d0887"
            ],
            [
             0.1111111111111111,
             "#46039f"
            ],
            [
             0.2222222222222222,
             "#7201a8"
            ],
            [
             0.3333333333333333,
             "#9c179e"
            ],
            [
             0.4444444444444444,
             "#bd3786"
            ],
            [
             0.5555555555555556,
             "#d8576b"
            ],
            [
             0.6666666666666666,
             "#ed7953"
            ],
            [
             0.7777777777777778,
             "#fb9f3a"
            ],
            [
             0.8888888888888888,
             "#fdca26"
            ],
            [
             1,
             "#f0f921"
            ]
           ],
           "sequentialminus": [
            [
             0,
             "#0d0887"
            ],
            [
             0.1111111111111111,
             "#46039f"
            ],
            [
             0.2222222222222222,
             "#7201a8"
            ],
            [
             0.3333333333333333,
             "#9c179e"
            ],
            [
             0.4444444444444444,
             "#bd3786"
            ],
            [
             0.5555555555555556,
             "#d8576b"
            ],
            [
             0.6666666666666666,
             "#ed7953"
            ],
            [
             0.7777777777777778,
             "#fb9f3a"
            ],
            [
             0.8888888888888888,
             "#fdca26"
            ],
            [
             1,
             "#f0f921"
            ]
           ]
          },
          "colorway": [
           "#636efa",
           "#EF553B",
           "#00cc96",
           "#ab63fa",
           "#FFA15A",
           "#19d3f3",
           "#FF6692",
           "#B6E880",
           "#FF97FF",
           "#FECB52"
          ],
          "font": {
           "color": "#2a3f5f"
          },
          "geo": {
           "bgcolor": "white",
           "lakecolor": "white",
           "landcolor": "#E5ECF6",
           "showlakes": true,
           "showland": true,
           "subunitcolor": "white"
          },
          "hoverlabel": {
           "align": "left"
          },
          "hovermode": "closest",
          "mapbox": {
           "style": "light"
          },
          "paper_bgcolor": "white",
          "plot_bgcolor": "#E5ECF6",
          "polar": {
           "angularaxis": {
            "gridcolor": "white",
            "linecolor": "white",
            "ticks": ""
           },
           "bgcolor": "#E5ECF6",
           "radialaxis": {
            "gridcolor": "white",
            "linecolor": "white",
            "ticks": ""
           }
          },
          "scene": {
           "xaxis": {
            "backgroundcolor": "#E5ECF6",
            "gridcolor": "white",
            "gridwidth": 2,
            "linecolor": "white",
            "showbackground": true,
            "ticks": "",
            "zerolinecolor": "white"
           },
           "yaxis": {
            "backgroundcolor": "#E5ECF6",
            "gridcolor": "white",
            "gridwidth": 2,
            "linecolor": "white",
            "showbackground": true,
            "ticks": "",
            "zerolinecolor": "white"
           },
           "zaxis": {
            "backgroundcolor": "#E5ECF6",
            "gridcolor": "white",
            "gridwidth": 2,
            "linecolor": "white",
            "showbackground": true,
            "ticks": "",
            "zerolinecolor": "white"
           }
          },
          "shapedefaults": {
           "line": {
            "color": "#2a3f5f"
           }
          },
          "ternary": {
           "aaxis": {
            "gridcolor": "white",
            "linecolor": "white",
            "ticks": ""
           },
           "baxis": {
            "gridcolor": "white",
            "linecolor": "white",
            "ticks": ""
           },
           "bgcolor": "#E5ECF6",
           "caxis": {
            "gridcolor": "white",
            "linecolor": "white",
            "ticks": ""
           }
          },
          "title": {
           "x": 0.05
          },
          "xaxis": {
           "automargin": true,
           "gridcolor": "white",
           "linecolor": "white",
           "ticks": "",
           "title": {
            "standoff": 15
           },
           "zerolinecolor": "white",
           "zerolinewidth": 2
          },
          "yaxis": {
           "automargin": true,
           "gridcolor": "white",
           "linecolor": "white",
           "ticks": "",
           "title": {
            "standoff": 15
           },
           "zerolinecolor": "white",
           "zerolinewidth": 2
          }
         }
        },
        "title": {
         "text": "Baseline"
        }
       }
      },
      "text/html": [
       "<div>\n",
       "        \n",
       "        \n",
       "            <div id=\"dff1cc69-43d0-43a3-862b-d845812a60dc\" class=\"plotly-graph-div\" style=\"height:525px; width:100%;\"></div>\n",
       "            <script type=\"text/javascript\">\n",
       "                require([\"plotly\"], function(Plotly) {\n",
       "                    window.PLOTLYENV=window.PLOTLYENV || {};\n",
       "                    \n",
       "                if (document.getElementById(\"dff1cc69-43d0-43a3-862b-d845812a60dc\")) {\n",
       "                    Plotly.newPlot(\n",
       "                        'dff1cc69-43d0-43a3-862b-d845812a60dc',\n",
       "                        [{\"type\": \"scatter\", \"x\": [0.0, 6.666222179774195e-05, 0.0007332844543270767, 0.007399506866931915, 0.07406172901391983, 0.10000000149011612, 0.15445156395435333, 0.20000000298023224, 0.2582152783870697, 0.30000001192092896, 0.3540673553943634, 0.4000000059604645, 0.4492218792438507, 0.5, 0.5434367060661316, 0.6000000238418579, 0.6325514316558838, 0.699999988079071, 0.7383034229278564, 0.800000011920929, 0.8465970158576965, 0.8999999761581421, 0.9527547955513, 1.0, 1.0594106912612915, 1.100000023841858, 1.1699661016464233, 1.2000000476837158, 1.284619688987732, 1.2999999523162842, 1.3693464994430542, 1.399999976158142, 1.4600707292556763, 1.5, 1.554323673248291, 1.600000023841858, 1.6493936777114868, 1.7000000476837158, 1.743962287902832, 1.7999999523162842, 1.835275411605835, 1.899999976158142, 1.9420441389083862, 2.0, 2.0494987964630127, 2.0999999046325684, 2.1559057235717773, 2.200000047683716, 2.2634856700897217, 2.299999952316284, 2.376291036605835, 2.4000000953674316, 2.492708921432495, 2.5, 2.5780179500579834, 2.5999999046325684, 2.671382427215576, 2.700000047683716, 2.7698798179626465, 2.799999952316284, 2.868195056915283, 2.9000000953674316, 2.9733543395996094, 3.0, 3.0719027519226074, 3.0999999046325684, 3.184253215789795, 3.200000047683716, 3.2794036865234375, 3.299999952316284, 3.4000000953674316, 3.5, 3.5999999046325684, 3.700000047683716, 3.799999952316284, 3.9000000953674316, 4.0, 4.099999904632568, 4.199999809265137, 4.300000190734863, 4.400000095367432, 4.5, 4.599999904632568, 4.699999809265137, 4.800000190734863, 4.900000095367432], \"y\": [0.0, 0.0009998880559578538, 0.010993767529726028, 0.11041022837162018, 1.0311247110366821, 1.3406227827072144, 1.8965600728988647, 2.2699382305145264, 2.6365110874176025, 2.8357856273651123, 3.027376651763916, 3.1431193351745605, 3.228727340698242, 3.28474497795105, 3.3128018379211426, 3.328693151473999, 3.3303568363189697, 3.320958375930786, 3.3109991550445557, 3.2905240058898926, 3.2737298011779785, 3.2541778087615967, 3.235823154449463, 3.2205514907836914, 3.2034761905670166, 3.1932168006896973, 3.1782751083374023, 3.172877311706543, 3.160609483718872, 3.1588099002838135, 3.1520748138427734, 3.1497418880462646, 3.146139144897461, 3.1443374156951904, 3.1425154209136963, 3.141432523727417, 3.1406302452087402, 3.140115737915039, 3.1398606300354004, 3.1397290229797363, 3.1397242546081543, 3.139829158782959, 3.139944314956665, 3.14013934135437, 3.140317440032959, 3.1404998302459717, 3.140690803527832, 3.1408298015594482, 3.1410069465637207, 3.1410961151123047, 3.1412525177001953, 3.1412932872772217, 3.14142107963562, 3.1414289474487305, 3.141500473022461, 3.1415162086486816, 3.1415560245513916, 3.1415679454803467, 3.1415891647338867, 3.1415956020355225, 3.1416049003601074, 3.1416075229644775, 3.1416103839874268, 3.141610622406006, 3.1416096687316895, 3.141608953475952, 3.141605854034424, 3.1416053771972656, 3.141602039337158, 3.141601324081421, 3.1415979862213135, 3.1415956020355225, 3.1415936946868896, 3.141592502593994, 3.141592025756836, 3.141592025756836, 3.141592264175415, 3.1415927410125732, 3.1415932178497314, 3.1415936946868896, 3.141594409942627, 3.141594886779785, 3.1415953636169434, 3.1415953636169434, 3.1415956020355225, 3.1415953636169434]}, {\"type\": \"scatter\", \"x\": [0.0, 6.666222179774195e-05, 0.0007332844543270767, 0.007399506866931915, 0.07406172901391983, 0.10000000149011612, 0.15445156395435333, 0.20000000298023224, 0.2582152783870697, 0.30000001192092896, 0.3540673553943634, 0.4000000059604645, 0.4492218792438507, 0.5, 0.5434367060661316, 0.6000000238418579, 0.6325514316558838, 0.699999988079071, 0.7383034229278564, 0.800000011920929, 0.8465970158576965, 0.8999999761581421, 0.9527547955513, 1.0, 1.0594106912612915, 1.100000023841858, 1.1699661016464233, 1.2000000476837158, 1.284619688987732, 1.2999999523162842, 1.3693464994430542, 1.399999976158142, 1.4600707292556763, 1.5, 1.554323673248291, 1.600000023841858, 1.6493936777114868, 1.7000000476837158, 1.743962287902832, 1.7999999523162842, 1.835275411605835, 1.899999976158142, 1.9420441389083862, 2.0, 2.0494987964630127, 2.0999999046325684, 2.1559057235717773, 2.200000047683716, 2.2634856700897217, 2.299999952316284, 2.376291036605835, 2.4000000953674316, 2.492708921432495, 2.5, 2.5780179500579834, 2.5999999046325684, 2.671382427215576, 2.700000047683716, 2.7698798179626465, 2.799999952316284, 2.868195056915283, 2.9000000953674316, 2.9733543395996094, 3.0, 3.0719027519226074, 3.0999999046325684, 3.184253215789795, 3.200000047683716, 3.2794036865234375, 3.299999952316284, 3.4000000953674316, 3.5, 3.5999999046325684, 3.700000047683716, 3.799999952316284, 3.9000000953674316, 4.0, 4.099999904632568, 4.199999809265137, 4.300000190734863, 4.400000095367432, 4.5, 4.599999904632568, 4.699999809265137, 4.800000190734863, 4.900000095367432], \"y\": [15.0, 14.998641967773438, 14.984968185424805, 14.839235305786133, 12.542203903198242, 11.293731689453125, 9.11478328704834, 7.2841620445251465, 5.367203235626221, 4.198559284210205, 2.9448249340057373, 2.1312255859375, 1.387012243270874, 0.8579933643341064, 0.457619845867157, 0.14171716570854187, -0.029980584979057312, -0.21023505926132202, -0.3011319041252136, -0.34114500880241394, -0.37187618017196655, -0.35039985179901123, -0.3398725688457489, -0.30216747522354126, -0.2692088484764099, -0.23466594517230988, -0.19068486988544464, -0.16839446127414703, -0.12136595696210861, -0.11261384189128876, -0.08229754865169525, -0.07002261281013489, -0.05062204226851463, -0.03989092633128166, -0.027752313762903214, -0.020016396418213844, -0.012858942151069641, -0.007849431596696377, -0.003995447885245085, -0.0010597225045785308, 0.0006747912848368287, 0.0022323390003293753, 0.0031342743895947933, 0.003418129635974765, 0.0036893633659929037, 0.003453750628978014, 0.003314393339678645, 0.0029536753427237272, 0.0025911000557243824, 0.0022807633504271507, 0.0018025529570877552, 0.001629122532904148, 0.0011250864481553435, 0.0010847439989447594, 0.0007559658261016011, 0.0006715347990393639, 0.00045260449405759573, 0.00038012335426174104, 0.00023623174638487399, 0.00018963997717946768, 9.504397166892886e-05, 6.73519098199904e-05, 1.5933999748085625e-05, 5.916551799600711e-06, -2.6391215214971453e-05, -2.927772766270209e-05, -3.639704664237797e-05, -3.5160304832970724e-05, -4.0781840652925894e-05, -3.766169902519323e-05, -2.745033270912245e-05, -2.049653630820103e-05, -1.5970585081959143e-05, -7.985991942405235e-06, -1.158582563220989e-06, 1.36705591557984e-06, 3.918970833183266e-06, 4.028538569400553e-06, 4.545825504465029e-06, 5.500851329998113e-06, 6.964400654396741e-06, 4.382950464787427e-06, 2.3839259029045934e-06, 7.460711231033201e-07, -3.174947380557569e-07, -1.3324192877917085e-06]}],\n",
       "                        {\"template\": {\"data\": {\"bar\": [{\"error_x\": {\"color\": \"#2a3f5f\"}, \"error_y\": {\"color\": \"#2a3f5f\"}, \"marker\": {\"line\": {\"color\": \"#E5ECF6\", \"width\": 0.5}}, \"type\": \"bar\"}], \"barpolar\": [{\"marker\": {\"line\": {\"color\": \"#E5ECF6\", \"width\": 0.5}}, \"type\": \"barpolar\"}], \"carpet\": [{\"aaxis\": {\"endlinecolor\": \"#2a3f5f\", \"gridcolor\": \"white\", \"linecolor\": \"white\", \"minorgridcolor\": \"white\", \"startlinecolor\": \"#2a3f5f\"}, \"baxis\": {\"endlinecolor\": \"#2a3f5f\", \"gridcolor\": \"white\", \"linecolor\": \"white\", \"minorgridcolor\": \"white\", \"startlinecolor\": \"#2a3f5f\"}, \"type\": \"carpet\"}], \"choropleth\": [{\"colorbar\": {\"outlinewidth\": 0, \"ticks\": \"\"}, \"type\": \"choropleth\"}], \"contour\": [{\"colorbar\": {\"outlinewidth\": 0, \"ticks\": \"\"}, \"colorscale\": [[0.0, \"#0d0887\"], [0.1111111111111111, \"#46039f\"], [0.2222222222222222, \"#7201a8\"], [0.3333333333333333, \"#9c179e\"], [0.4444444444444444, \"#bd3786\"], [0.5555555555555556, \"#d8576b\"], [0.6666666666666666, \"#ed7953\"], [0.7777777777777778, \"#fb9f3a\"], [0.8888888888888888, \"#fdca26\"], [1.0, \"#f0f921\"]], \"type\": \"contour\"}], \"contourcarpet\": [{\"colorbar\": {\"outlinewidth\": 0, \"ticks\": \"\"}, \"type\": \"contourcarpet\"}], \"heatmap\": [{\"colorbar\": {\"outlinewidth\": 0, \"ticks\": \"\"}, \"colorscale\": [[0.0, \"#0d0887\"], [0.1111111111111111, \"#46039f\"], [0.2222222222222222, \"#7201a8\"], [0.3333333333333333, \"#9c179e\"], [0.4444444444444444, \"#bd3786\"], [0.5555555555555556, \"#d8576b\"], [0.6666666666666666, \"#ed7953\"], [0.7777777777777778, \"#fb9f3a\"], [0.8888888888888888, \"#fdca26\"], [1.0, \"#f0f921\"]], \"type\": \"heatmap\"}], \"heatmapgl\": [{\"colorbar\": {\"outlinewidth\": 0, \"ticks\": \"\"}, \"colorscale\": [[0.0, \"#0d0887\"], [0.1111111111111111, \"#46039f\"], [0.2222222222222222, \"#7201a8\"], [0.3333333333333333, \"#9c179e\"], [0.4444444444444444, \"#bd3786\"], [0.5555555555555556, \"#d8576b\"], [0.6666666666666666, \"#ed7953\"], [0.7777777777777778, \"#fb9f3a\"], [0.8888888888888888, \"#fdca26\"], [1.0, \"#f0f921\"]], \"type\": \"heatmapgl\"}], \"histogram\": [{\"marker\": {\"colorbar\": {\"outlinewidth\": 0, \"ticks\": \"\"}}, \"type\": \"histogram\"}], \"histogram2d\": [{\"colorbar\": {\"outlinewidth\": 0, \"ticks\": \"\"}, \"colorscale\": [[0.0, \"#0d0887\"], [0.1111111111111111, \"#46039f\"], [0.2222222222222222, \"#7201a8\"], [0.3333333333333333, \"#9c179e\"], [0.4444444444444444, \"#bd3786\"], [0.5555555555555556, \"#d8576b\"], [0.6666666666666666, \"#ed7953\"], [0.7777777777777778, \"#fb9f3a\"], [0.8888888888888888, \"#fdca26\"], [1.0, \"#f0f921\"]], \"type\": \"histogram2d\"}], \"histogram2dcontour\": [{\"colorbar\": {\"outlinewidth\": 0, \"ticks\": \"\"}, \"colorscale\": [[0.0, \"#0d0887\"], [0.1111111111111111, \"#46039f\"], [0.2222222222222222, \"#7201a8\"], [0.3333333333333333, \"#9c179e\"], [0.4444444444444444, \"#bd3786\"], [0.5555555555555556, \"#d8576b\"], [0.6666666666666666, \"#ed7953\"], [0.7777777777777778, \"#fb9f3a\"], [0.8888888888888888, \"#fdca26\"], [1.0, \"#f0f921\"]], \"type\": \"histogram2dcontour\"}], \"mesh3d\": [{\"colorbar\": {\"outlinewidth\": 0, \"ticks\": \"\"}, \"type\": \"mesh3d\"}], \"parcoords\": [{\"line\": {\"colorbar\": {\"outlinewidth\": 0, \"ticks\": \"\"}}, \"type\": \"parcoords\"}], \"pie\": [{\"automargin\": true, \"type\": \"pie\"}], \"scatter\": [{\"marker\": {\"colorbar\": {\"outlinewidth\": 0, \"ticks\": \"\"}}, \"type\": \"scatter\"}], \"scatter3d\": [{\"line\": {\"colorbar\": {\"outlinewidth\": 0, \"ticks\": \"\"}}, \"marker\": {\"colorbar\": {\"outlinewidth\": 0, \"ticks\": \"\"}}, \"type\": \"scatter3d\"}], \"scattercarpet\": [{\"marker\": {\"colorbar\": {\"outlinewidth\": 0, \"ticks\": \"\"}}, \"type\": \"scattercarpet\"}], \"scattergeo\": [{\"marker\": {\"colorbar\": {\"outlinewidth\": 0, \"ticks\": \"\"}}, \"type\": \"scattergeo\"}], \"scattergl\": [{\"marker\": {\"colorbar\": {\"outlinewidth\": 0, \"ticks\": \"\"}}, \"type\": \"scattergl\"}], \"scattermapbox\": [{\"marker\": {\"colorbar\": {\"outlinewidth\": 0, \"ticks\": \"\"}}, \"type\": \"scattermapbox\"}], \"scatterpolar\": [{\"marker\": {\"colorbar\": {\"outlinewidth\": 0, \"ticks\": \"\"}}, \"type\": \"scatterpolar\"}], \"scatterpolargl\": [{\"marker\": {\"colorbar\": {\"outlinewidth\": 0, \"ticks\": \"\"}}, \"type\": \"scatterpolargl\"}], \"scatterternary\": [{\"marker\": {\"colorbar\": {\"outlinewidth\": 0, \"ticks\": \"\"}}, \"type\": \"scatterternary\"}], \"surface\": [{\"colorbar\": {\"outlinewidth\": 0, \"ticks\": \"\"}, \"colorscale\": [[0.0, \"#0d0887\"], [0.1111111111111111, \"#46039f\"], [0.2222222222222222, \"#7201a8\"], [0.3333333333333333, \"#9c179e\"], [0.4444444444444444, \"#bd3786\"], [0.5555555555555556, \"#d8576b\"], [0.6666666666666666, \"#ed7953\"], [0.7777777777777778, \"#fb9f3a\"], [0.8888888888888888, \"#fdca26\"], [1.0, \"#f0f921\"]], \"type\": \"surface\"}], \"table\": [{\"cells\": {\"fill\": {\"color\": \"#EBF0F8\"}, \"line\": {\"color\": \"white\"}}, \"header\": {\"fill\": {\"color\": \"#C8D4E3\"}, \"line\": {\"color\": \"white\"}}, \"type\": \"table\"}]}, \"layout\": {\"annotationdefaults\": {\"arrowcolor\": \"#2a3f5f\", \"arrowhead\": 0, \"arrowwidth\": 1}, \"coloraxis\": {\"colorbar\": {\"outlinewidth\": 0, \"ticks\": \"\"}}, \"colorscale\": {\"diverging\": [[0, \"#8e0152\"], [0.1, \"#c51b7d\"], [0.2, \"#de77ae\"], [0.3, \"#f1b6da\"], [0.4, \"#fde0ef\"], [0.5, \"#f7f7f7\"], [0.6, \"#e6f5d0\"], [0.7, \"#b8e186\"], [0.8, \"#7fbc41\"], [0.9, \"#4d9221\"], [1, \"#276419\"]], \"sequential\": [[0.0, \"#0d0887\"], [0.1111111111111111, \"#46039f\"], [0.2222222222222222, \"#7201a8\"], [0.3333333333333333, \"#9c179e\"], [0.4444444444444444, \"#bd3786\"], [0.5555555555555556, \"#d8576b\"], [0.6666666666666666, \"#ed7953\"], [0.7777777777777778, \"#fb9f3a\"], [0.8888888888888888, \"#fdca26\"], [1.0, \"#f0f921\"]], \"sequentialminus\": [[0.0, \"#0d0887\"], [0.1111111111111111, \"#46039f\"], [0.2222222222222222, \"#7201a8\"], [0.3333333333333333, \"#9c179e\"], [0.4444444444444444, \"#bd3786\"], [0.5555555555555556, \"#d8576b\"], [0.6666666666666666, \"#ed7953\"], [0.7777777777777778, \"#fb9f3a\"], [0.8888888888888888, \"#fdca26\"], [1.0, \"#f0f921\"]]}, \"colorway\": [\"#636efa\", \"#EF553B\", \"#00cc96\", \"#ab63fa\", \"#FFA15A\", \"#19d3f3\", \"#FF6692\", \"#B6E880\", \"#FF97FF\", \"#FECB52\"], \"font\": {\"color\": \"#2a3f5f\"}, \"geo\": {\"bgcolor\": \"white\", \"lakecolor\": \"white\", \"landcolor\": \"#E5ECF6\", \"showlakes\": true, \"showland\": true, \"subunitcolor\": \"white\"}, \"hoverlabel\": {\"align\": \"left\"}, \"hovermode\": \"closest\", \"mapbox\": {\"style\": \"light\"}, \"paper_bgcolor\": \"white\", \"plot_bgcolor\": \"#E5ECF6\", \"polar\": {\"angularaxis\": {\"gridcolor\": \"white\", \"linecolor\": \"white\", \"ticks\": \"\"}, \"bgcolor\": \"#E5ECF6\", \"radialaxis\": {\"gridcolor\": \"white\", \"linecolor\": \"white\", \"ticks\": \"\"}}, \"scene\": {\"xaxis\": {\"backgroundcolor\": \"#E5ECF6\", \"gridcolor\": \"white\", \"gridwidth\": 2, \"linecolor\": \"white\", \"showbackground\": true, \"ticks\": \"\", \"zerolinecolor\": \"white\"}, \"yaxis\": {\"backgroundcolor\": \"#E5ECF6\", \"gridcolor\": \"white\", \"gridwidth\": 2, \"linecolor\": \"white\", \"showbackground\": true, \"ticks\": \"\", \"zerolinecolor\": \"white\"}, \"zaxis\": {\"backgroundcolor\": \"#E5ECF6\", \"gridcolor\": \"white\", \"gridwidth\": 2, \"linecolor\": \"white\", \"showbackground\": true, \"ticks\": \"\", \"zerolinecolor\": \"white\"}}, \"shapedefaults\": {\"line\": {\"color\": \"#2a3f5f\"}}, \"ternary\": {\"aaxis\": {\"gridcolor\": \"white\", \"linecolor\": \"white\", \"ticks\": \"\"}, \"baxis\": {\"gridcolor\": \"white\", \"linecolor\": \"white\", \"ticks\": \"\"}, \"bgcolor\": \"#E5ECF6\", \"caxis\": {\"gridcolor\": \"white\", \"linecolor\": \"white\", \"ticks\": \"\"}}, \"title\": {\"x\": 0.05}, \"xaxis\": {\"automargin\": true, \"gridcolor\": \"white\", \"linecolor\": \"white\", \"ticks\": \"\", \"title\": {\"standoff\": 15}, \"zerolinecolor\": \"white\", \"zerolinewidth\": 2}, \"yaxis\": {\"automargin\": true, \"gridcolor\": \"white\", \"linecolor\": \"white\", \"ticks\": \"\", \"title\": {\"standoff\": 15}, \"zerolinecolor\": \"white\", \"zerolinewidth\": 2}}}, \"title\": {\"text\": \"Baseline\"}},\n",
       "                        {\"responsive\": true}\n",
       "                    ).then(function(){\n",
       "                            \n",
       "var gd = document.getElementById('dff1cc69-43d0-43a3-862b-d845812a60dc');\n",
       "var x = new MutationObserver(function (mutations, observer) {{\n",
       "        var display = window.getComputedStyle(gd).display;\n",
       "        if (!display || display === 'none') {{\n",
       "            console.log([gd, 'removed!']);\n",
       "            Plotly.purge(gd);\n",
       "            observer.disconnect();\n",
       "        }}\n",
       "}});\n",
       "\n",
       "// Listen for the removal of the full notebook cells\n",
       "var notebookContainer = gd.closest('#notebook-container');\n",
       "if (notebookContainer) {{\n",
       "    x.observe(notebookContainer, {childList: true});\n",
       "}}\n",
       "\n",
       "// Listen for the clearing of the current output cell\n",
       "var outputEl = gd.closest('.output');\n",
       "if (outputEl) {{\n",
       "    x.observe(outputEl, {childList: true});\n",
       "}}\n",
       "\n",
       "                        })\n",
       "                };\n",
       "                });\n",
       "            </script>\n",
       "        </div>"
      ]
     },
     "metadata": {},
     "output_type": "display_data"
    }
   ],
   "source": [
    "ctrl = controllers.get_limited_lookahead_controller(get_value_function(online_horizon)[0], vf_approx)\n",
    "x_traj_sim, t_traj_sim = controllers.sim_ctrl(x0, vf.u_dim[0], sys.dx, ctrl, .1, 50)\n",
    "controllers.plot_sim(t_traj_sim, x_traj_sim, \"Baseline\").show()"
   ]
  },
  {
   "cell_type": "code",
   "execution_count": 112,
   "metadata": {},
   "outputs": [
    {
     "data": {
      "application/vnd.plotly.v1+json": {
       "config": {
        "plotlyServerURL": "https://plot.ly"
       },
       "data": [
        {
         "type": "scatter",
         "x": [
          0,
          6.666222179774195e-05,
          0.0007332844543270767,
          0.007399506866931915,
          0.07406172901391983,
          0.10000000149011612,
          0.1544611006975174,
          0.20000000298023224,
          0.25823208689689636,
          0.30000001192092896,
          0.3540828227996826,
          0.4000000059604645,
          0.4492371678352356,
          0.5,
          0.5434572696685791,
          0.6000000238418579,
          0.632612407207489,
          0.699999988079071,
          0.7382690906524658,
          0.800000011920929,
          0.8465774655342102,
          0.8999999761581421,
          0.9527367353439331,
          1,
          1.0593878030776978,
          1.100000023841858,
          1.169919729232788,
          1.2000000476837158,
          1.2846333980560303,
          1.2999999523162842,
          1.3693873882293701,
          1.399999976158142,
          1.4600907564163208,
          1.5,
          1.5543397665023804,
          1.600000023841858,
          1.649409294128418,
          1.7000000476837158,
          1.7439825534820557,
          1.7999999523162842,
          1.8353219032287598,
          1.899999976158142,
          1.9420218467712402,
          2,
          2.0494794845581055,
          2.0999999046325684,
          2.1558897495269775,
          2.200000047683716,
          2.263455867767334,
          2.299999952316284,
          2.3762221336364746,
          2.4000000953674316,
          2.4927194118499756,
          2.5,
          2.5780327320098877,
          2.5999999046325684,
          2.671388626098633,
          2.700000047683716,
          2.7698721885681152,
          2.799999952316284,
          2.868204116821289,
          2.9000000953674316,
          2.973317861557007,
          3,
          3.0718605518341064,
          3.0999999046325684,
          3.184516191482544,
          3.200000047683716,
          3.2798988819122314,
          3.299999952316284,
          3.4000000953674316,
          3.5,
          3.5999999046325684,
          3.700000047683716,
          3.799999952316284,
          3.9000000953674316,
          4,
          4.099924564361572,
          4.099999904632568,
          4.198863983154297,
          4.199999809265137,
          4.2976484298706055,
          4.300000190734863,
          4.39824104309082,
          4.400000095367432,
          4.498569488525391,
          4.5,
          4.5980634689331055,
          4.599999904632568,
          4.697662353515625,
          4.699999809265137,
          4.797495365142822,
          4.800000190734863,
          4.895693778991699,
          4.900000095367432
         ],
         "y": [
          0,
          0.0009998877067118883,
          0.010993719100952148,
          0.11040546000003815,
          1.0308085680007935,
          1.3401596546173096,
          1.8959885835647583,
          2.2692015171051025,
          2.6358416080474854,
          2.8350448608398438,
          3.026733636856079,
          3.1424901485443115,
          3.22818922996521,
          3.2842609882354736,
          3.312389850616455,
          3.3283488750457764,
          3.3300514221191406,
          3.320730447769165,
          3.3108181953430176,
          3.290383815765381,
          3.2736284732818604,
          3.254099130630493,
          3.235774040222168,
          3.220512866973877,
          3.2034599781036377,
          3.193202495574951,
          3.1782798767089844,
          3.1728765964508057,
          3.1606125831604004,
          3.158815383911133,
          3.152078628540039,
          3.149749279022217,
          3.146145820617676,
          3.1443448066711426,
          3.142521858215332,
          3.1414387226104736,
          3.1406354904174805,
          3.140120506286621,
          3.139864683151245,
          3.1397323608398438,
          3.1397271156311035,
          3.13983154296875,
          3.1399459838867188,
          3.1401405334472656,
          3.1403181552886963,
          3.140500545501709,
          3.140691041946411,
          3.1408300399780273,
          3.1410069465637207,
          3.1410961151123047,
          3.1412525177001953,
          3.1412932872772217,
          3.141420841217041,
          3.1414289474487305,
          3.141500473022461,
          3.1415162086486816,
          3.1415560245513916,
          3.1415677070617676,
          3.1415889263153076,
          3.1415953636169434,
          3.1416049003601074,
          3.1416075229644775,
          3.1416103839874268,
          3.141610622406006,
          3.1416096687316895,
          3.141608715057373,
          3.141605854034424,
          3.1416053771972656,
          3.1416022777557373,
          3.141601324081421,
          3.1415982246398926,
          3.1415956020355225,
          3.1415936946868896,
          3.141592264175415,
          3.1415910720825195,
          3.141590118408203,
          3.1415891647338867,
          3.1415882110595703,
          3.1415882110595703,
          3.1415882110595703,
          3.1415882110595703,
          3.1415889263153076,
          3.1415889263153076,
          3.141590118408203,
          3.141590118408203,
          3.141591787338257,
          3.141591787338257,
          3.1415932178497314,
          3.1415932178497314,
          3.141594648361206,
          3.141594886779785,
          3.1415963172912598,
          3.1415963172912598,
          3.141596794128418,
          3.141596794128418
         ]
        },
        {
         "type": "scatter",
         "x": [
          0,
          6.666222179774195e-05,
          0.0007332844543270767,
          0.007399506866931915,
          0.07406172901391983,
          0.10000000149011612,
          0.1544611006975174,
          0.20000000298023224,
          0.25823208689689636,
          0.30000001192092896,
          0.3540828227996826,
          0.4000000059604645,
          0.4492371678352356,
          0.5,
          0.5434572696685791,
          0.6000000238418579,
          0.632612407207489,
          0.699999988079071,
          0.7382690906524658,
          0.800000011920929,
          0.8465774655342102,
          0.8999999761581421,
          0.9527367353439331,
          1,
          1.0593878030776978,
          1.100000023841858,
          1.169919729232788,
          1.2000000476837158,
          1.2846333980560303,
          1.2999999523162842,
          1.3693873882293701,
          1.399999976158142,
          1.4600907564163208,
          1.5,
          1.5543397665023804,
          1.600000023841858,
          1.649409294128418,
          1.7000000476837158,
          1.7439825534820557,
          1.7999999523162842,
          1.8353219032287598,
          1.899999976158142,
          1.9420218467712402,
          2,
          2.0494794845581055,
          2.0999999046325684,
          2.1558897495269775,
          2.200000047683716,
          2.263455867767334,
          2.299999952316284,
          2.3762221336364746,
          2.4000000953674316,
          2.4927194118499756,
          2.5,
          2.5780327320098877,
          2.5999999046325684,
          2.671388626098633,
          2.700000047683716,
          2.7698721885681152,
          2.799999952316284,
          2.868204116821289,
          2.9000000953674316,
          2.973317861557007,
          3,
          3.0718605518341064,
          3.0999999046325684,
          3.184516191482544,
          3.200000047683716,
          3.2798988819122314,
          3.299999952316284,
          3.4000000953674316,
          3.5,
          3.5999999046325684,
          3.700000047683716,
          3.799999952316284,
          3.9000000953674316,
          4,
          4.099924564361572,
          4.099999904632568,
          4.198863983154297,
          4.199999809265137,
          4.2976484298706055,
          4.300000190734863,
          4.39824104309082,
          4.400000095367432,
          4.498569488525391,
          4.5,
          4.5980634689331055,
          4.599999904632568,
          4.697662353515625,
          4.699999809265137,
          4.797495365142822,
          4.800000190734863,
          4.895693778991699,
          4.900000095367432
         ],
         "y": [
          15,
          14.998629570007324,
          14.98483657836914,
          14.837970733642578,
          12.536072731018066,
          11.28880786895752,
          9.11197566986084,
          7.283021926879883,
          5.36690092086792,
          4.199204444885254,
          2.9457168579101562,
          2.132546901702881,
          1.3883106708526611,
          0.8594244122505188,
          0.45889195799827576,
          0.14298750460147858,
          -0.029034312814474106,
          -0.20922914147377014,
          -0.3001589775085449,
          -0.34041282534599304,
          -0.3712484836578369,
          -0.34990397095680237,
          -0.3394860625267029,
          -0.30185502767562866,
          -0.2689962387084961,
          -0.2344847470521927,
          -0.19060227274894714,
          -0.1683008074760437,
          -0.12131356447935104,
          -0.11257515847682953,
          -0.08226674050092697,
          -0.07001487165689468,
          -0.05062008649110794,
          -0.039898231625556946,
          -0.027761807665228844,
          -0.020030012354254723,
          -0.012872160412371159,
          -0.007863789796829224,
          -0.004008211195468903,
          -0.0010723245795816183,
          0.0006647210102528334,
          0.0022224700078368187,
          0.0031248636078089476,
          0.003410535864531994,
          0.0036832375917583704,
          0.0034490469843149185,
          0.003310796804726124,
          0.002950719092041254,
          0.0025893826968967915,
          0.002279269741848111,
          0.0018023421289399266,
          0.0016285984311252832,
          0.001124788075685501,
          0.0010845180368050933,
          0.0007557574426755309,
          0.0006713946931995451,
          0.0004524670948740095,
          0.0003800009726546705,
          0.00023633921227883548,
          0.00018983858171850443,
          9.538916492601857e-05,
          6.777233647881076e-05,
          1.6137049897224642e-05,
          6.041755568730878e-06,
          -2.6377201720606536e-05,
          -2.9289160011103377e-05,
          -3.588720574043691e-05,
          -3.4608507121447474e-05,
          -4.000619810540229e-05,
          -3.703530819620937e-05,
          -2.711557681323029e-05,
          -2.040955951088108e-05,
          -1.6113575838971883e-05,
          -1.1997277397313155e-05,
          -9.356759619549848e-06,
          -7.865311999921687e-06,
          -7.32301123207435e-06,
          -7.636173904757015e-06,
          -7.631249900441617e-06,
          3.32726949636708e-06,
          3.3748963232937967e-06,
          9.314259841630701e-06,
          9.281288839702029e-06,
          1.2093189980078023e-05,
          1.2013386367470957e-05,
          1.5946330677252263e-05,
          1.5899571735644713e-05,
          1.3950521861261223e-05,
          1.376348973280983e-05,
          1.3387259969022125e-05,
          1.3196809049986769e-05,
          1.423644062015228e-05,
          1.406831870554015e-05,
          6.754065680070198e-07,
          4.23793920845128e-07
         ]
        }
       ],
       "layout": {
        "template": {
         "data": {
          "bar": [
           {
            "error_x": {
             "color": "#2a3f5f"
            },
            "error_y": {
             "color": "#2a3f5f"
            },
            "marker": {
             "line": {
              "color": "#E5ECF6",
              "width": 0.5
             }
            },
            "type": "bar"
           }
          ],
          "barpolar": [
           {
            "marker": {
             "line": {
              "color": "#E5ECF6",
              "width": 0.5
             }
            },
            "type": "barpolar"
           }
          ],
          "carpet": [
           {
            "aaxis": {
             "endlinecolor": "#2a3f5f",
             "gridcolor": "white",
             "linecolor": "white",
             "minorgridcolor": "white",
             "startlinecolor": "#2a3f5f"
            },
            "baxis": {
             "endlinecolor": "#2a3f5f",
             "gridcolor": "white",
             "linecolor": "white",
             "minorgridcolor": "white",
             "startlinecolor": "#2a3f5f"
            },
            "type": "carpet"
           }
          ],
          "choropleth": [
           {
            "colorbar": {
             "outlinewidth": 0,
             "ticks": ""
            },
            "type": "choropleth"
           }
          ],
          "contour": [
           {
            "colorbar": {
             "outlinewidth": 0,
             "ticks": ""
            },
            "colorscale": [
             [
              0,
              "#0d0887"
             ],
             [
              0.1111111111111111,
              "#46039f"
             ],
             [
              0.2222222222222222,
              "#7201a8"
             ],
             [
              0.3333333333333333,
              "#9c179e"
             ],
             [
              0.4444444444444444,
              "#bd3786"
             ],
             [
              0.5555555555555556,
              "#d8576b"
             ],
             [
              0.6666666666666666,
              "#ed7953"
             ],
             [
              0.7777777777777778,
              "#fb9f3a"
             ],
             [
              0.8888888888888888,
              "#fdca26"
             ],
             [
              1,
              "#f0f921"
             ]
            ],
            "type": "contour"
           }
          ],
          "contourcarpet": [
           {
            "colorbar": {
             "outlinewidth": 0,
             "ticks": ""
            },
            "type": "contourcarpet"
           }
          ],
          "heatmap": [
           {
            "colorbar": {
             "outlinewidth": 0,
             "ticks": ""
            },
            "colorscale": [
             [
              0,
              "#0d0887"
             ],
             [
              0.1111111111111111,
              "#46039f"
             ],
             [
              0.2222222222222222,
              "#7201a8"
             ],
             [
              0.3333333333333333,
              "#9c179e"
             ],
             [
              0.4444444444444444,
              "#bd3786"
             ],
             [
              0.5555555555555556,
              "#d8576b"
             ],
             [
              0.6666666666666666,
              "#ed7953"
             ],
             [
              0.7777777777777778,
              "#fb9f3a"
             ],
             [
              0.8888888888888888,
              "#fdca26"
             ],
             [
              1,
              "#f0f921"
             ]
            ],
            "type": "heatmap"
           }
          ],
          "heatmapgl": [
           {
            "colorbar": {
             "outlinewidth": 0,
             "ticks": ""
            },
            "colorscale": [
             [
              0,
              "#0d0887"
             ],
             [
              0.1111111111111111,
              "#46039f"
             ],
             [
              0.2222222222222222,
              "#7201a8"
             ],
             [
              0.3333333333333333,
              "#9c179e"
             ],
             [
              0.4444444444444444,
              "#bd3786"
             ],
             [
              0.5555555555555556,
              "#d8576b"
             ],
             [
              0.6666666666666666,
              "#ed7953"
             ],
             [
              0.7777777777777778,
              "#fb9f3a"
             ],
             [
              0.8888888888888888,
              "#fdca26"
             ],
             [
              1,
              "#f0f921"
             ]
            ],
            "type": "heatmapgl"
           }
          ],
          "histogram": [
           {
            "marker": {
             "colorbar": {
              "outlinewidth": 0,
              "ticks": ""
             }
            },
            "type": "histogram"
           }
          ],
          "histogram2d": [
           {
            "colorbar": {
             "outlinewidth": 0,
             "ticks": ""
            },
            "colorscale": [
             [
              0,
              "#0d0887"
             ],
             [
              0.1111111111111111,
              "#46039f"
             ],
             [
              0.2222222222222222,
              "#7201a8"
             ],
             [
              0.3333333333333333,
              "#9c179e"
             ],
             [
              0.4444444444444444,
              "#bd3786"
             ],
             [
              0.5555555555555556,
              "#d8576b"
             ],
             [
              0.6666666666666666,
              "#ed7953"
             ],
             [
              0.7777777777777778,
              "#fb9f3a"
             ],
             [
              0.8888888888888888,
              "#fdca26"
             ],
             [
              1,
              "#f0f921"
             ]
            ],
            "type": "histogram2d"
           }
          ],
          "histogram2dcontour": [
           {
            "colorbar": {
             "outlinewidth": 0,
             "ticks": ""
            },
            "colorscale": [
             [
              0,
              "#0d0887"
             ],
             [
              0.1111111111111111,
              "#46039f"
             ],
             [
              0.2222222222222222,
              "#7201a8"
             ],
             [
              0.3333333333333333,
              "#9c179e"
             ],
             [
              0.4444444444444444,
              "#bd3786"
             ],
             [
              0.5555555555555556,
              "#d8576b"
             ],
             [
              0.6666666666666666,
              "#ed7953"
             ],
             [
              0.7777777777777778,
              "#fb9f3a"
             ],
             [
              0.8888888888888888,
              "#fdca26"
             ],
             [
              1,
              "#f0f921"
             ]
            ],
            "type": "histogram2dcontour"
           }
          ],
          "mesh3d": [
           {
            "colorbar": {
             "outlinewidth": 0,
             "ticks": ""
            },
            "type": "mesh3d"
           }
          ],
          "parcoords": [
           {
            "line": {
             "colorbar": {
              "outlinewidth": 0,
              "ticks": ""
             }
            },
            "type": "parcoords"
           }
          ],
          "pie": [
           {
            "automargin": true,
            "type": "pie"
           }
          ],
          "scatter": [
           {
            "marker": {
             "colorbar": {
              "outlinewidth": 0,
              "ticks": ""
             }
            },
            "type": "scatter"
           }
          ],
          "scatter3d": [
           {
            "line": {
             "colorbar": {
              "outlinewidth": 0,
              "ticks": ""
             }
            },
            "marker": {
             "colorbar": {
              "outlinewidth": 0,
              "ticks": ""
             }
            },
            "type": "scatter3d"
           }
          ],
          "scattercarpet": [
           {
            "marker": {
             "colorbar": {
              "outlinewidth": 0,
              "ticks": ""
             }
            },
            "type": "scattercarpet"
           }
          ],
          "scattergeo": [
           {
            "marker": {
             "colorbar": {
              "outlinewidth": 0,
              "ticks": ""
             }
            },
            "type": "scattergeo"
           }
          ],
          "scattergl": [
           {
            "marker": {
             "colorbar": {
              "outlinewidth": 0,
              "ticks": ""
             }
            },
            "type": "scattergl"
           }
          ],
          "scattermapbox": [
           {
            "marker": {
             "colorbar": {
              "outlinewidth": 0,
              "ticks": ""
             }
            },
            "type": "scattermapbox"
           }
          ],
          "scatterpolar": [
           {
            "marker": {
             "colorbar": {
              "outlinewidth": 0,
              "ticks": ""
             }
            },
            "type": "scatterpolar"
           }
          ],
          "scatterpolargl": [
           {
            "marker": {
             "colorbar": {
              "outlinewidth": 0,
              "ticks": ""
             }
            },
            "type": "scatterpolargl"
           }
          ],
          "scatterternary": [
           {
            "marker": {
             "colorbar": {
              "outlinewidth": 0,
              "ticks": ""
             }
            },
            "type": "scatterternary"
           }
          ],
          "surface": [
           {
            "colorbar": {
             "outlinewidth": 0,
             "ticks": ""
            },
            "colorscale": [
             [
              0,
              "#0d0887"
             ],
             [
              0.1111111111111111,
              "#46039f"
             ],
             [
              0.2222222222222222,
              "#7201a8"
             ],
             [
              0.3333333333333333,
              "#9c179e"
             ],
             [
              0.4444444444444444,
              "#bd3786"
             ],
             [
              0.5555555555555556,
              "#d8576b"
             ],
             [
              0.6666666666666666,
              "#ed7953"
             ],
             [
              0.7777777777777778,
              "#fb9f3a"
             ],
             [
              0.8888888888888888,
              "#fdca26"
             ],
             [
              1,
              "#f0f921"
             ]
            ],
            "type": "surface"
           }
          ],
          "table": [
           {
            "cells": {
             "fill": {
              "color": "#EBF0F8"
             },
             "line": {
              "color": "white"
             }
            },
            "header": {
             "fill": {
              "color": "#C8D4E3"
             },
             "line": {
              "color": "white"
             }
            },
            "type": "table"
           }
          ]
         },
         "layout": {
          "annotationdefaults": {
           "arrowcolor": "#2a3f5f",
           "arrowhead": 0,
           "arrowwidth": 1
          },
          "coloraxis": {
           "colorbar": {
            "outlinewidth": 0,
            "ticks": ""
           }
          },
          "colorscale": {
           "diverging": [
            [
             0,
             "#8e0152"
            ],
            [
             0.1,
             "#c51b7d"
            ],
            [
             0.2,
             "#de77ae"
            ],
            [
             0.3,
             "#f1b6da"
            ],
            [
             0.4,
             "#fde0ef"
            ],
            [
             0.5,
             "#f7f7f7"
            ],
            [
             0.6,
             "#e6f5d0"
            ],
            [
             0.7,
             "#b8e186"
            ],
            [
             0.8,
             "#7fbc41"
            ],
            [
             0.9,
             "#4d9221"
            ],
            [
             1,
             "#276419"
            ]
           ],
           "sequential": [
            [
             0,
             "#0d0887"
            ],
            [
             0.1111111111111111,
             "#46039f"
            ],
            [
             0.2222222222222222,
             "#7201a8"
            ],
            [
             0.3333333333333333,
             "#9c179e"
            ],
            [
             0.4444444444444444,
             "#bd3786"
            ],
            [
             0.5555555555555556,
             "#d8576b"
            ],
            [
             0.6666666666666666,
             "#ed7953"
            ],
            [
             0.7777777777777778,
             "#fb9f3a"
            ],
            [
             0.8888888888888888,
             "#fdca26"
            ],
            [
             1,
             "#f0f921"
            ]
           ],
           "sequentialminus": [
            [
             0,
             "#0d0887"
            ],
            [
             0.1111111111111111,
             "#46039f"
            ],
            [
             0.2222222222222222,
             "#7201a8"
            ],
            [
             0.3333333333333333,
             "#9c179e"
            ],
            [
             0.4444444444444444,
             "#bd3786"
            ],
            [
             0.5555555555555556,
             "#d8576b"
            ],
            [
             0.6666666666666666,
             "#ed7953"
            ],
            [
             0.7777777777777778,
             "#fb9f3a"
            ],
            [
             0.8888888888888888,
             "#fdca26"
            ],
            [
             1,
             "#f0f921"
            ]
           ]
          },
          "colorway": [
           "#636efa",
           "#EF553B",
           "#00cc96",
           "#ab63fa",
           "#FFA15A",
           "#19d3f3",
           "#FF6692",
           "#B6E880",
           "#FF97FF",
           "#FECB52"
          ],
          "font": {
           "color": "#2a3f5f"
          },
          "geo": {
           "bgcolor": "white",
           "lakecolor": "white",
           "landcolor": "#E5ECF6",
           "showlakes": true,
           "showland": true,
           "subunitcolor": "white"
          },
          "hoverlabel": {
           "align": "left"
          },
          "hovermode": "closest",
          "mapbox": {
           "style": "light"
          },
          "paper_bgcolor": "white",
          "plot_bgcolor": "#E5ECF6",
          "polar": {
           "angularaxis": {
            "gridcolor": "white",
            "linecolor": "white",
            "ticks": ""
           },
           "bgcolor": "#E5ECF6",
           "radialaxis": {
            "gridcolor": "white",
            "linecolor": "white",
            "ticks": ""
           }
          },
          "scene": {
           "xaxis": {
            "backgroundcolor": "#E5ECF6",
            "gridcolor": "white",
            "gridwidth": 2,
            "linecolor": "white",
            "showbackground": true,
            "ticks": "",
            "zerolinecolor": "white"
           },
           "yaxis": {
            "backgroundcolor": "#E5ECF6",
            "gridcolor": "white",
            "gridwidth": 2,
            "linecolor": "white",
            "showbackground": true,
            "ticks": "",
            "zerolinecolor": "white"
           },
           "zaxis": {
            "backgroundcolor": "#E5ECF6",
            "gridcolor": "white",
            "gridwidth": 2,
            "linecolor": "white",
            "showbackground": true,
            "ticks": "",
            "zerolinecolor": "white"
           }
          },
          "shapedefaults": {
           "line": {
            "color": "#2a3f5f"
           }
          },
          "ternary": {
           "aaxis": {
            "gridcolor": "white",
            "linecolor": "white",
            "ticks": ""
           },
           "baxis": {
            "gridcolor": "white",
            "linecolor": "white",
            "ticks": ""
           },
           "bgcolor": "#E5ECF6",
           "caxis": {
            "gridcolor": "white",
            "linecolor": "white",
            "ticks": ""
           }
          },
          "title": {
           "x": 0.05
          },
          "xaxis": {
           "automargin": true,
           "gridcolor": "white",
           "linecolor": "white",
           "ticks": "",
           "title": {
            "standoff": 15
           },
           "zerolinecolor": "white",
           "zerolinewidth": 2
          },
          "yaxis": {
           "automargin": true,
           "gridcolor": "white",
           "linecolor": "white",
           "ticks": "",
           "title": {
            "standoff": 15
           },
           "zerolinecolor": "white",
           "zerolinewidth": 2
          }
         }
        },
        "title": {
         "text": "Baseline - No lookahead"
        }
       }
      },
      "text/html": [
       "<div>\n",
       "        \n",
       "        \n",
       "            <div id=\"2641c823-9241-4432-93c1-fac2c8c87227\" class=\"plotly-graph-div\" style=\"height:525px; width:100%;\"></div>\n",
       "            <script type=\"text/javascript\">\n",
       "                require([\"plotly\"], function(Plotly) {\n",
       "                    window.PLOTLYENV=window.PLOTLYENV || {};\n",
       "                    \n",
       "                if (document.getElementById(\"2641c823-9241-4432-93c1-fac2c8c87227\")) {\n",
       "                    Plotly.newPlot(\n",
       "                        '2641c823-9241-4432-93c1-fac2c8c87227',\n",
       "                        [{\"type\": \"scatter\", \"x\": [0.0, 6.666222179774195e-05, 0.0007332844543270767, 0.007399506866931915, 0.07406172901391983, 0.10000000149011612, 0.1544611006975174, 0.20000000298023224, 0.25823208689689636, 0.30000001192092896, 0.3540828227996826, 0.4000000059604645, 0.4492371678352356, 0.5, 0.5434572696685791, 0.6000000238418579, 0.632612407207489, 0.699999988079071, 0.7382690906524658, 0.800000011920929, 0.8465774655342102, 0.8999999761581421, 0.9527367353439331, 1.0, 1.0593878030776978, 1.100000023841858, 1.169919729232788, 1.2000000476837158, 1.2846333980560303, 1.2999999523162842, 1.3693873882293701, 1.399999976158142, 1.4600907564163208, 1.5, 1.5543397665023804, 1.600000023841858, 1.649409294128418, 1.7000000476837158, 1.7439825534820557, 1.7999999523162842, 1.8353219032287598, 1.899999976158142, 1.9420218467712402, 2.0, 2.0494794845581055, 2.0999999046325684, 2.1558897495269775, 2.200000047683716, 2.263455867767334, 2.299999952316284, 2.3762221336364746, 2.4000000953674316, 2.4927194118499756, 2.5, 2.5780327320098877, 2.5999999046325684, 2.671388626098633, 2.700000047683716, 2.7698721885681152, 2.799999952316284, 2.868204116821289, 2.9000000953674316, 2.973317861557007, 3.0, 3.0718605518341064, 3.0999999046325684, 3.184516191482544, 3.200000047683716, 3.2798988819122314, 3.299999952316284, 3.4000000953674316, 3.5, 3.5999999046325684, 3.700000047683716, 3.799999952316284, 3.9000000953674316, 4.0, 4.099924564361572, 4.099999904632568, 4.198863983154297, 4.199999809265137, 4.2976484298706055, 4.300000190734863, 4.39824104309082, 4.400000095367432, 4.498569488525391, 4.5, 4.5980634689331055, 4.599999904632568, 4.697662353515625, 4.699999809265137, 4.797495365142822, 4.800000190734863, 4.895693778991699, 4.900000095367432], \"y\": [0.0, 0.0009998877067118883, 0.010993719100952148, 0.11040546000003815, 1.0308085680007935, 1.3401596546173096, 1.8959885835647583, 2.2692015171051025, 2.6358416080474854, 2.8350448608398438, 3.026733636856079, 3.1424901485443115, 3.22818922996521, 3.2842609882354736, 3.312389850616455, 3.3283488750457764, 3.3300514221191406, 3.320730447769165, 3.3108181953430176, 3.290383815765381, 3.2736284732818604, 3.254099130630493, 3.235774040222168, 3.220512866973877, 3.2034599781036377, 3.193202495574951, 3.1782798767089844, 3.1728765964508057, 3.1606125831604004, 3.158815383911133, 3.152078628540039, 3.149749279022217, 3.146145820617676, 3.1443448066711426, 3.142521858215332, 3.1414387226104736, 3.1406354904174805, 3.140120506286621, 3.139864683151245, 3.1397323608398438, 3.1397271156311035, 3.13983154296875, 3.1399459838867188, 3.1401405334472656, 3.1403181552886963, 3.140500545501709, 3.140691041946411, 3.1408300399780273, 3.1410069465637207, 3.1410961151123047, 3.1412525177001953, 3.1412932872772217, 3.141420841217041, 3.1414289474487305, 3.141500473022461, 3.1415162086486816, 3.1415560245513916, 3.1415677070617676, 3.1415889263153076, 3.1415953636169434, 3.1416049003601074, 3.1416075229644775, 3.1416103839874268, 3.141610622406006, 3.1416096687316895, 3.141608715057373, 3.141605854034424, 3.1416053771972656, 3.1416022777557373, 3.141601324081421, 3.1415982246398926, 3.1415956020355225, 3.1415936946868896, 3.141592264175415, 3.1415910720825195, 3.141590118408203, 3.1415891647338867, 3.1415882110595703, 3.1415882110595703, 3.1415882110595703, 3.1415882110595703, 3.1415889263153076, 3.1415889263153076, 3.141590118408203, 3.141590118408203, 3.141591787338257, 3.141591787338257, 3.1415932178497314, 3.1415932178497314, 3.141594648361206, 3.141594886779785, 3.1415963172912598, 3.1415963172912598, 3.141596794128418, 3.141596794128418]}, {\"type\": \"scatter\", \"x\": [0.0, 6.666222179774195e-05, 0.0007332844543270767, 0.007399506866931915, 0.07406172901391983, 0.10000000149011612, 0.1544611006975174, 0.20000000298023224, 0.25823208689689636, 0.30000001192092896, 0.3540828227996826, 0.4000000059604645, 0.4492371678352356, 0.5, 0.5434572696685791, 0.6000000238418579, 0.632612407207489, 0.699999988079071, 0.7382690906524658, 0.800000011920929, 0.8465774655342102, 0.8999999761581421, 0.9527367353439331, 1.0, 1.0593878030776978, 1.100000023841858, 1.169919729232788, 1.2000000476837158, 1.2846333980560303, 1.2999999523162842, 1.3693873882293701, 1.399999976158142, 1.4600907564163208, 1.5, 1.5543397665023804, 1.600000023841858, 1.649409294128418, 1.7000000476837158, 1.7439825534820557, 1.7999999523162842, 1.8353219032287598, 1.899999976158142, 1.9420218467712402, 2.0, 2.0494794845581055, 2.0999999046325684, 2.1558897495269775, 2.200000047683716, 2.263455867767334, 2.299999952316284, 2.3762221336364746, 2.4000000953674316, 2.4927194118499756, 2.5, 2.5780327320098877, 2.5999999046325684, 2.671388626098633, 2.700000047683716, 2.7698721885681152, 2.799999952316284, 2.868204116821289, 2.9000000953674316, 2.973317861557007, 3.0, 3.0718605518341064, 3.0999999046325684, 3.184516191482544, 3.200000047683716, 3.2798988819122314, 3.299999952316284, 3.4000000953674316, 3.5, 3.5999999046325684, 3.700000047683716, 3.799999952316284, 3.9000000953674316, 4.0, 4.099924564361572, 4.099999904632568, 4.198863983154297, 4.199999809265137, 4.2976484298706055, 4.300000190734863, 4.39824104309082, 4.400000095367432, 4.498569488525391, 4.5, 4.5980634689331055, 4.599999904632568, 4.697662353515625, 4.699999809265137, 4.797495365142822, 4.800000190734863, 4.895693778991699, 4.900000095367432], \"y\": [15.0, 14.998629570007324, 14.98483657836914, 14.837970733642578, 12.536072731018066, 11.28880786895752, 9.11197566986084, 7.283021926879883, 5.36690092086792, 4.199204444885254, 2.9457168579101562, 2.132546901702881, 1.3883106708526611, 0.8594244122505188, 0.45889195799827576, 0.14298750460147858, -0.029034312814474106, -0.20922914147377014, -0.3001589775085449, -0.34041282534599304, -0.3712484836578369, -0.34990397095680237, -0.3394860625267029, -0.30185502767562866, -0.2689962387084961, -0.2344847470521927, -0.19060227274894714, -0.1683008074760437, -0.12131356447935104, -0.11257515847682953, -0.08226674050092697, -0.07001487165689468, -0.05062008649110794, -0.039898231625556946, -0.027761807665228844, -0.020030012354254723, -0.012872160412371159, -0.007863789796829224, -0.004008211195468903, -0.0010723245795816183, 0.0006647210102528334, 0.0022224700078368187, 0.0031248636078089476, 0.003410535864531994, 0.0036832375917583704, 0.0034490469843149185, 0.003310796804726124, 0.002950719092041254, 0.0025893826968967915, 0.002279269741848111, 0.0018023421289399266, 0.0016285984311252832, 0.001124788075685501, 0.0010845180368050933, 0.0007557574426755309, 0.0006713946931995451, 0.0004524670948740095, 0.0003800009726546705, 0.00023633921227883548, 0.00018983858171850443, 9.538916492601857e-05, 6.777233647881076e-05, 1.6137049897224642e-05, 6.041755568730878e-06, -2.6377201720606536e-05, -2.9289160011103377e-05, -3.588720574043691e-05, -3.4608507121447474e-05, -4.000619810540229e-05, -3.703530819620937e-05, -2.711557681323029e-05, -2.040955951088108e-05, -1.6113575838971883e-05, -1.1997277397313155e-05, -9.356759619549848e-06, -7.865311999921687e-06, -7.32301123207435e-06, -7.636173904757015e-06, -7.631249900441617e-06, 3.32726949636708e-06, 3.3748963232937967e-06, 9.314259841630701e-06, 9.281288839702029e-06, 1.2093189980078023e-05, 1.2013386367470957e-05, 1.5946330677252263e-05, 1.5899571735644713e-05, 1.3950521861261223e-05, 1.376348973280983e-05, 1.3387259969022125e-05, 1.3196809049986769e-05, 1.423644062015228e-05, 1.406831870554015e-05, 6.754065680070198e-07, 4.23793920845128e-07]}],\n",
       "                        {\"template\": {\"data\": {\"bar\": [{\"error_x\": {\"color\": \"#2a3f5f\"}, \"error_y\": {\"color\": \"#2a3f5f\"}, \"marker\": {\"line\": {\"color\": \"#E5ECF6\", \"width\": 0.5}}, \"type\": \"bar\"}], \"barpolar\": [{\"marker\": {\"line\": {\"color\": \"#E5ECF6\", \"width\": 0.5}}, \"type\": \"barpolar\"}], \"carpet\": [{\"aaxis\": {\"endlinecolor\": \"#2a3f5f\", \"gridcolor\": \"white\", \"linecolor\": \"white\", \"minorgridcolor\": \"white\", \"startlinecolor\": \"#2a3f5f\"}, \"baxis\": {\"endlinecolor\": \"#2a3f5f\", \"gridcolor\": \"white\", \"linecolor\": \"white\", \"minorgridcolor\": \"white\", \"startlinecolor\": \"#2a3f5f\"}, \"type\": \"carpet\"}], \"choropleth\": [{\"colorbar\": {\"outlinewidth\": 0, \"ticks\": \"\"}, \"type\": \"choropleth\"}], \"contour\": [{\"colorbar\": {\"outlinewidth\": 0, \"ticks\": \"\"}, \"colorscale\": [[0.0, \"#0d0887\"], [0.1111111111111111, \"#46039f\"], [0.2222222222222222, \"#7201a8\"], [0.3333333333333333, \"#9c179e\"], [0.4444444444444444, \"#bd3786\"], [0.5555555555555556, \"#d8576b\"], [0.6666666666666666, \"#ed7953\"], [0.7777777777777778, \"#fb9f3a\"], [0.8888888888888888, \"#fdca26\"], [1.0, \"#f0f921\"]], \"type\": \"contour\"}], \"contourcarpet\": [{\"colorbar\": {\"outlinewidth\": 0, \"ticks\": \"\"}, \"type\": \"contourcarpet\"}], \"heatmap\": [{\"colorbar\": {\"outlinewidth\": 0, \"ticks\": \"\"}, \"colorscale\": [[0.0, \"#0d0887\"], [0.1111111111111111, \"#46039f\"], [0.2222222222222222, \"#7201a8\"], [0.3333333333333333, \"#9c179e\"], [0.4444444444444444, \"#bd3786\"], [0.5555555555555556, \"#d8576b\"], [0.6666666666666666, \"#ed7953\"], [0.7777777777777778, \"#fb9f3a\"], [0.8888888888888888, \"#fdca26\"], [1.0, \"#f0f921\"]], \"type\": \"heatmap\"}], \"heatmapgl\": [{\"colorbar\": {\"outlinewidth\": 0, \"ticks\": \"\"}, \"colorscale\": [[0.0, \"#0d0887\"], [0.1111111111111111, \"#46039f\"], [0.2222222222222222, \"#7201a8\"], [0.3333333333333333, \"#9c179e\"], [0.4444444444444444, \"#bd3786\"], [0.5555555555555556, \"#d8576b\"], [0.6666666666666666, \"#ed7953\"], [0.7777777777777778, \"#fb9f3a\"], [0.8888888888888888, \"#fdca26\"], [1.0, \"#f0f921\"]], \"type\": \"heatmapgl\"}], \"histogram\": [{\"marker\": {\"colorbar\": {\"outlinewidth\": 0, \"ticks\": \"\"}}, \"type\": \"histogram\"}], \"histogram2d\": [{\"colorbar\": {\"outlinewidth\": 0, \"ticks\": \"\"}, \"colorscale\": [[0.0, \"#0d0887\"], [0.1111111111111111, \"#46039f\"], [0.2222222222222222, \"#7201a8\"], [0.3333333333333333, \"#9c179e\"], [0.4444444444444444, \"#bd3786\"], [0.5555555555555556, \"#d8576b\"], [0.6666666666666666, \"#ed7953\"], [0.7777777777777778, \"#fb9f3a\"], [0.8888888888888888, \"#fdca26\"], [1.0, \"#f0f921\"]], \"type\": \"histogram2d\"}], \"histogram2dcontour\": [{\"colorbar\": {\"outlinewidth\": 0, \"ticks\": \"\"}, \"colorscale\": [[0.0, \"#0d0887\"], [0.1111111111111111, \"#46039f\"], [0.2222222222222222, \"#7201a8\"], [0.3333333333333333, \"#9c179e\"], [0.4444444444444444, \"#bd3786\"], [0.5555555555555556, \"#d8576b\"], [0.6666666666666666, \"#ed7953\"], [0.7777777777777778, \"#fb9f3a\"], [0.8888888888888888, \"#fdca26\"], [1.0, \"#f0f921\"]], \"type\": \"histogram2dcontour\"}], \"mesh3d\": [{\"colorbar\": {\"outlinewidth\": 0, \"ticks\": \"\"}, \"type\": \"mesh3d\"}], \"parcoords\": [{\"line\": {\"colorbar\": {\"outlinewidth\": 0, \"ticks\": \"\"}}, \"type\": \"parcoords\"}], \"pie\": [{\"automargin\": true, \"type\": \"pie\"}], \"scatter\": [{\"marker\": {\"colorbar\": {\"outlinewidth\": 0, \"ticks\": \"\"}}, \"type\": \"scatter\"}], \"scatter3d\": [{\"line\": {\"colorbar\": {\"outlinewidth\": 0, \"ticks\": \"\"}}, \"marker\": {\"colorbar\": {\"outlinewidth\": 0, \"ticks\": \"\"}}, \"type\": \"scatter3d\"}], \"scattercarpet\": [{\"marker\": {\"colorbar\": {\"outlinewidth\": 0, \"ticks\": \"\"}}, \"type\": \"scattercarpet\"}], \"scattergeo\": [{\"marker\": {\"colorbar\": {\"outlinewidth\": 0, \"ticks\": \"\"}}, \"type\": \"scattergeo\"}], \"scattergl\": [{\"marker\": {\"colorbar\": {\"outlinewidth\": 0, \"ticks\": \"\"}}, \"type\": \"scattergl\"}], \"scattermapbox\": [{\"marker\": {\"colorbar\": {\"outlinewidth\": 0, \"ticks\": \"\"}}, \"type\": \"scattermapbox\"}], \"scatterpolar\": [{\"marker\": {\"colorbar\": {\"outlinewidth\": 0, \"ticks\": \"\"}}, \"type\": \"scatterpolar\"}], \"scatterpolargl\": [{\"marker\": {\"colorbar\": {\"outlinewidth\": 0, \"ticks\": \"\"}}, \"type\": \"scatterpolargl\"}], \"scatterternary\": [{\"marker\": {\"colorbar\": {\"outlinewidth\": 0, \"ticks\": \"\"}}, \"type\": \"scatterternary\"}], \"surface\": [{\"colorbar\": {\"outlinewidth\": 0, \"ticks\": \"\"}, \"colorscale\": [[0.0, \"#0d0887\"], [0.1111111111111111, \"#46039f\"], [0.2222222222222222, \"#7201a8\"], [0.3333333333333333, \"#9c179e\"], [0.4444444444444444, \"#bd3786\"], [0.5555555555555556, \"#d8576b\"], [0.6666666666666666, \"#ed7953\"], [0.7777777777777778, \"#fb9f3a\"], [0.8888888888888888, \"#fdca26\"], [1.0, \"#f0f921\"]], \"type\": \"surface\"}], \"table\": [{\"cells\": {\"fill\": {\"color\": \"#EBF0F8\"}, \"line\": {\"color\": \"white\"}}, \"header\": {\"fill\": {\"color\": \"#C8D4E3\"}, \"line\": {\"color\": \"white\"}}, \"type\": \"table\"}]}, \"layout\": {\"annotationdefaults\": {\"arrowcolor\": \"#2a3f5f\", \"arrowhead\": 0, \"arrowwidth\": 1}, \"coloraxis\": {\"colorbar\": {\"outlinewidth\": 0, \"ticks\": \"\"}}, \"colorscale\": {\"diverging\": [[0, \"#8e0152\"], [0.1, \"#c51b7d\"], [0.2, \"#de77ae\"], [0.3, \"#f1b6da\"], [0.4, \"#fde0ef\"], [0.5, \"#f7f7f7\"], [0.6, \"#e6f5d0\"], [0.7, \"#b8e186\"], [0.8, \"#7fbc41\"], [0.9, \"#4d9221\"], [1, \"#276419\"]], \"sequential\": [[0.0, \"#0d0887\"], [0.1111111111111111, \"#46039f\"], [0.2222222222222222, \"#7201a8\"], [0.3333333333333333, \"#9c179e\"], [0.4444444444444444, \"#bd3786\"], [0.5555555555555556, \"#d8576b\"], [0.6666666666666666, \"#ed7953\"], [0.7777777777777778, \"#fb9f3a\"], [0.8888888888888888, \"#fdca26\"], [1.0, \"#f0f921\"]], \"sequentialminus\": [[0.0, \"#0d0887\"], [0.1111111111111111, \"#46039f\"], [0.2222222222222222, \"#7201a8\"], [0.3333333333333333, \"#9c179e\"], [0.4444444444444444, \"#bd3786\"], [0.5555555555555556, \"#d8576b\"], [0.6666666666666666, \"#ed7953\"], [0.7777777777777778, \"#fb9f3a\"], [0.8888888888888888, \"#fdca26\"], [1.0, \"#f0f921\"]]}, \"colorway\": [\"#636efa\", \"#EF553B\", \"#00cc96\", \"#ab63fa\", \"#FFA15A\", \"#19d3f3\", \"#FF6692\", \"#B6E880\", \"#FF97FF\", \"#FECB52\"], \"font\": {\"color\": \"#2a3f5f\"}, \"geo\": {\"bgcolor\": \"white\", \"lakecolor\": \"white\", \"landcolor\": \"#E5ECF6\", \"showlakes\": true, \"showland\": true, \"subunitcolor\": \"white\"}, \"hoverlabel\": {\"align\": \"left\"}, \"hovermode\": \"closest\", \"mapbox\": {\"style\": \"light\"}, \"paper_bgcolor\": \"white\", \"plot_bgcolor\": \"#E5ECF6\", \"polar\": {\"angularaxis\": {\"gridcolor\": \"white\", \"linecolor\": \"white\", \"ticks\": \"\"}, \"bgcolor\": \"#E5ECF6\", \"radialaxis\": {\"gridcolor\": \"white\", \"linecolor\": \"white\", \"ticks\": \"\"}}, \"scene\": {\"xaxis\": {\"backgroundcolor\": \"#E5ECF6\", \"gridcolor\": \"white\", \"gridwidth\": 2, \"linecolor\": \"white\", \"showbackground\": true, \"ticks\": \"\", \"zerolinecolor\": \"white\"}, \"yaxis\": {\"backgroundcolor\": \"#E5ECF6\", \"gridcolor\": \"white\", \"gridwidth\": 2, \"linecolor\": \"white\", \"showbackground\": true, \"ticks\": \"\", \"zerolinecolor\": \"white\"}, \"zaxis\": {\"backgroundcolor\": \"#E5ECF6\", \"gridcolor\": \"white\", \"gridwidth\": 2, \"linecolor\": \"white\", \"showbackground\": true, \"ticks\": \"\", \"zerolinecolor\": \"white\"}}, \"shapedefaults\": {\"line\": {\"color\": \"#2a3f5f\"}}, \"ternary\": {\"aaxis\": {\"gridcolor\": \"white\", \"linecolor\": \"white\", \"ticks\": \"\"}, \"baxis\": {\"gridcolor\": \"white\", \"linecolor\": \"white\", \"ticks\": \"\"}, \"bgcolor\": \"#E5ECF6\", \"caxis\": {\"gridcolor\": \"white\", \"linecolor\": \"white\", \"ticks\": \"\"}}, \"title\": {\"x\": 0.05}, \"xaxis\": {\"automargin\": true, \"gridcolor\": \"white\", \"linecolor\": \"white\", \"ticks\": \"\", \"title\": {\"standoff\": 15}, \"zerolinecolor\": \"white\", \"zerolinewidth\": 2}, \"yaxis\": {\"automargin\": true, \"gridcolor\": \"white\", \"linecolor\": \"white\", \"ticks\": \"\", \"title\": {\"standoff\": 15}, \"zerolinecolor\": \"white\", \"zerolinewidth\": 2}}}, \"title\": {\"text\": \"Baseline - No lookahead\"}},\n",
       "                        {\"responsive\": true}\n",
       "                    ).then(function(){\n",
       "                            \n",
       "var gd = document.getElementById('2641c823-9241-4432-93c1-fac2c8c87227');\n",
       "var x = new MutationObserver(function (mutations, observer) {{\n",
       "        var display = window.getComputedStyle(gd).display;\n",
       "        if (!display || display === 'none') {{\n",
       "            console.log([gd, 'removed!']);\n",
       "            Plotly.purge(gd);\n",
       "            observer.disconnect();\n",
       "        }}\n",
       "}});\n",
       "\n",
       "// Listen for the removal of the full notebook cells\n",
       "var notebookContainer = gd.closest('#notebook-container');\n",
       "if (notebookContainer) {{\n",
       "    x.observe(notebookContainer, {childList: true});\n",
       "}}\n",
       "\n",
       "// Listen for the clearing of the current output cell\n",
       "var outputEl = gd.closest('.output');\n",
       "if (outputEl) {{\n",
       "    x.observe(outputEl, {childList: true});\n",
       "}}\n",
       "\n",
       "                        })\n",
       "                };\n",
       "                });\n",
       "            </script>\n",
       "        </div>"
      ]
     },
     "metadata": {},
     "output_type": "display_data"
    }
   ],
   "source": [
    "ctrl = controllers.get_limited_lookahead_controller(get_value_function(online_horizon)[0])\n",
    "x_traj_sim, t_traj_sim = controllers.sim_ctrl(x0, vf.u_dim[0], sys.dx, ctrl, .1, 50)\n",
    "controllers.plot_sim(t_traj_sim, x_traj_sim, \"Baseline - No lookahead\").show()"
   ]
  }
 ],
 "metadata": {
  "kernelspec": {
   "display_name": "Python 3",
   "language": "python",
   "name": "python3"
  },
  "language_info": {
   "codemirror_mode": {
    "name": "ipython",
    "version": 3
   },
   "file_extension": ".py",
   "mimetype": "text/x-python",
   "name": "python",
   "nbconvert_exporter": "python",
   "pygments_lexer": "ipython3",
   "version": "3.7.5"
  }
 },
 "nbformat": 4,
 "nbformat_minor": 2
}
