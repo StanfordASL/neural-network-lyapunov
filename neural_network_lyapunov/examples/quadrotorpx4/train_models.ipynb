{
 "cells": [
  {
   "cell_type": "code",
   "execution_count": null,
   "metadata": {},
   "outputs": [],
   "source": [
    "%load_ext autoreload\n",
    "%autoreload 2"
   ]
  },
  {
   "cell_type": "code",
   "execution_count": null,
   "metadata": {},
   "outputs": [],
   "source": [
    "%matplotlib widget\n",
    "\n",
    "import torch\n",
    "import numpy as np\n",
    "import matplotlib.pyplot as plt\n",
    "from scipy import signal\n",
    "import wandb\n",
    "\n",
    "import neural_network_lyapunov.examples.quadrotor3d.quadrotor as quadrotor\n",
    "import neural_network_lyapunov.utils as utils\n",
    "import neural_network_lyapunov.feedback_system as feedback_system\n",
    "import neural_network_lyapunov.lyapunov as lyapunov\n",
    "import neural_network_lyapunov.train_lyapunov as train_lyapunov"
   ]
  },
  {
   "cell_type": "code",
   "execution_count": null,
   "metadata": {},
   "outputs": [],
   "source": [
    "wandb.init(project=\"px4-lyapunov\")"
   ]
  },
  {
   "cell_type": "code",
   "execution_count": null,
   "metadata": {
    "scrolled": false
   },
   "outputs": [],
   "source": [
    "%run -d train_quadrotor_px4_demo.py data/px4_data.pt \\\n",
    "    --train_forward_model \\\n",
    "    --save_forward_model models/forward_model.pt \\\n",
    "    --forward_model_only"
   ]
  },
  {
   "cell_type": "code",
   "execution_count": null,
   "metadata": {
    "scrolled": false
   },
   "outputs": [],
   "source": [
    "%run -d train_quadrotor_px4_demo.py data/px4_data.pt \\\n",
    "    --train_forward_model \\\n",
    "    --load_forward_model models/forward_model.pt \\\n",
    "    --save_forward_model models/forward_model.pt \\\n",
    "    --forward_model_only"
   ]
  },
  {
   "cell_type": "code",
   "execution_count": null,
   "metadata": {},
   "outputs": [],
   "source": [
    "%run -d train_quadrotor_px4_demo.py data/px4_data.pt \\\n",
    "    --load_forward_model models/forward_model.pt \\\n",
    "    --train_on_samples"
   ]
  },
  {
   "cell_type": "code",
   "execution_count": null,
   "metadata": {
    "scrolled": true
   },
   "outputs": [],
   "source": [
    "%run -d train_quadrotor_px4_demo.py data/px4_data.pt \\\n",
    "    --load_forward_model models/forward_model.pt \\\n",
    "    --load_folder models"
   ]
  },
  {
   "cell_type": "markdown",
   "metadata": {},
   "source": [
    "## Checking model"
   ]
  },
  {
   "cell_type": "code",
   "execution_count": null,
   "metadata": {},
   "outputs": [],
   "source": [
    "dynamics_relu = torch.load('models/forward_model.pt')\n",
    "hover_thrust = .705\n",
    "xu_equ = torch.tensor([0., 0., 0., 0., 0., 0., hover_thrust], dtype=torch.float64)"
   ]
  },
  {
   "cell_type": "code",
   "execution_count": null,
   "metadata": {},
   "outputs": [],
   "source": [
    "data, labels = torch.load('data/px4_data.pt')\n",
    "\n",
    "val_ratio = .1\n",
    "num_val = int(val_ratio * data.shape[0])\n",
    "\n",
    "val_samples = np.random.choice(data.shape[0], num_val, replace=False)\n",
    "train_samples = np.array([i for i in range(data.shape[0]) if i not in val_samples])\n",
    "\n",
    "data_train = data[train_samples, :]\n",
    "labels_train = labels[train_samples, :]\n",
    "data_val = data[val_samples, :]\n",
    "labels_val = labels[val_samples, :]"
   ]
  },
  {
   "cell_type": "code",
   "execution_count": null,
   "metadata": {},
   "outputs": [],
   "source": [
    "y_pred_val = (dynamics_relu.eval()(data_val) - dynamics_relu.eval()(xu_equ)).detach()\n",
    "print(torch.mean(torch.square(y_pred_val - labels_val)))"
   ]
  },
  {
   "cell_type": "code",
   "execution_count": null,
   "metadata": {},
   "outputs": [],
   "source": [
    "for i in range(6):\n",
    "    plt.figure()\n",
    "    plt.plot(labels_val[:, i], '.-')\n",
    "    plt.plot(y_pred_val[:, i], '.-')\n",
    "    plt.legend(['true', 'predicted'])\n",
    "    plt.show()"
   ]
  },
  {
   "cell_type": "code",
   "execution_count": null,
   "metadata": {},
   "outputs": [],
   "source": [
    "n_start = 0\n",
    "n_end = n_start + 1000\n",
    "data_check = data_train[n_start:n_end, :]\n",
    "labels_check = labels_train[n_start:n_end, :]\n",
    "y_pred_train = (dynamics_relu.eval()(data_check) - dynamics_relu.eval()(xu_equ)).detach()\n",
    "print(torch.mean(torch.square(y_pred_train - labels_check)))"
   ]
  },
  {
   "cell_type": "code",
   "execution_count": null,
   "metadata": {},
   "outputs": [],
   "source": [
    "for i in range(6):\n",
    "    plt.figure()\n",
    "    plt.plot(labels_check[:, i])\n",
    "    plt.plot(y_pred_train[:, i])\n",
    "    plt.legend(['true', 'predicted'])\n",
    "    plt.show()"
   ]
  }
 ],
 "metadata": {
  "kernelspec": {
   "display_name": "Python 3",
   "language": "python",
   "name": "python3"
  },
  "language_info": {
   "codemirror_mode": {
    "name": "ipython",
    "version": 3
   },
   "file_extension": ".py",
   "mimetype": "text/x-python",
   "name": "python",
   "nbconvert_exporter": "python",
   "pygments_lexer": "ipython3",
   "version": "3.8.6"
  }
 },
 "nbformat": 4,
 "nbformat_minor": 4
}
