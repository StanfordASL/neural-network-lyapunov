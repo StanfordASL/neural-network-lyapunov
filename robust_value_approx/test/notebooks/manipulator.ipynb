{
 "cells": [
  {
   "cell_type": "code",
   "execution_count": 1,
   "metadata": {},
   "outputs": [],
   "source": [
    "%load_ext autoreload\n",
    "%autoreload 2"
   ]
  },
  {
   "cell_type": "code",
   "execution_count": 7,
   "metadata": {},
   "outputs": [],
   "source": [
    "import numpy as np\n",
    "import os\n",
    "import time\n",
    "\n",
    "import meshcat\n",
    "import meshcat.geometry as g\n",
    "import meshcat.transformations as tf"
   ]
  },
  {
   "cell_type": "code",
   "execution_count": 8,
   "metadata": {},
   "outputs": [
    {
     "name": "stdout",
     "output_type": "stream",
     "text": [
      "You can open the visualizer by visiting the following URL:\n",
      "http://127.0.0.1:7001/static/\n"
     ]
    }
   ],
   "source": [
    "# Create a new visualizer\n",
    "vis = meshcat.Visualizer()"
   ]
  },
  {
   "cell_type": "code",
   "execution_count": 10,
   "metadata": {},
   "outputs": [
    {
     "data": {
      "text/html": [
       "\n",
       "<div style=\"height: 400px; width: 600px; overflow-x: auto; overflow-y: hidden; resize: both\">\n",
       "<iframe src=\"http://127.0.0.1:7001/static/\" style=\"width: 100%; height: 100%; border: none\"></iframe>\n",
       "</div>\n"
      ],
      "text/plain": [
       "<IPython.core.display.HTML object>"
      ]
     },
     "execution_count": 10,
     "metadata": {},
     "output_type": "execute_result"
    }
   ],
   "source": [
    "vis.jupyter_cell()"
   ]
  },
  {
   "cell_type": "code",
   "execution_count": 11,
   "metadata": {},
   "outputs": [],
   "source": [
    "finger_base = vis[\"finger_base\"]\n",
    "finger_joint = finger_base[\"finger_joint\"]\n",
    "finger = finger_joint[\"finger\"]\n",
    "eef = finger[\"eef\"]\n",
    "ellipsoid = vis[\"ellipsoid\"]\n",
    "\n",
    "finger_base.set_object(g.Box([.05, .05, .05]))\n",
    "finger.set_object(g.Box([.5, 0.025, 0.025]))\n",
    "eef.set_object(g.Sphere(0.025), g.MeshLambertMaterial(color=0xff22dd, reflectivity=0.8))\n",
    "ellipsoid.set_object(g.Ellipsoid([.25, 0.05, .15]), g.MeshLambertMaterial(color=0x5a23cd, reflectivity=0.8))\n",
    "\n",
    "finger_base.set_transform(tf.translation_matrix([0, 0, .5]))\n",
    "finger.set_transform(tf.translation_matrix([-.25, 0, 0]))\n",
    "finger_joint.set_transform(tf.rotation_matrix(-np.pi/2, [1, 0, 0]))\n",
    "eef.set_transform(tf.translation_matrix([-.25, 0, 0]))\n",
    "\n"
   ]
  },
  {
   "cell_type": "code",
   "execution_count": 13,
   "metadata": {},
   "outputs": [],
   "source": [
    "for x in np.linspace(-np.pi, np.pi, 200):\n",
    "    finger_base.set_transform(tf.translation_matrix([.5 * x / np.pi, 0, .5]))\n",
    "    finger_joint.set_transform(tf.rotation_matrix(-x / 4 - np.pi / 2, [0, 1, 0]))\n",
    "    ellipsoid.set_transform(tf.rotation_matrix(-x / 4 - np.pi / 2, [0, 1, 0]))\n",
    "    time.sleep(0.005)"
   ]
  }
 ],
 "metadata": {
  "kernelspec": {
   "display_name": "Python 3",
   "language": "python",
   "name": "python3"
  },
  "language_info": {
   "codemirror_mode": {
    "name": "ipython",
    "version": 3
   },
   "file_extension": ".py",
   "mimetype": "text/x-python",
   "name": "python",
   "nbconvert_exporter": "python",
   "pygments_lexer": "ipython3",
   "version": "3.7.5"
  }
 },
 "nbformat": 4,
 "nbformat_minor": 2
}
