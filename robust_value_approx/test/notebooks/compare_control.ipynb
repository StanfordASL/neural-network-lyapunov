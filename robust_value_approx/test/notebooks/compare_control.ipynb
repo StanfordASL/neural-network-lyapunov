{
 "cells": [
  {
   "cell_type": "code",
   "execution_count": null,
   "metadata": {},
   "outputs": [],
   "source": [
    "%load_ext autoreload\n",
    "%autoreload 2"
   ]
  },
  {
   "cell_type": "code",
   "execution_count": null,
   "metadata": {},
   "outputs": [],
   "source": [
    "import sys\n",
    "sys.path.append(\"..\")\n",
    "import torch\n",
    "import plotly\n",
    "import plotly.graph_objs as go\n",
    "plotly.offline.init_notebook_mode(connected=True)\n",
    "\n",
    "import robust_value_approx.relu_mpc as relu_mpc\n",
    "import robust_value_approx.adversarial_sample as adversarial_sample\n",
    "import robust_value_approx.utils as utils"
   ]
  },
  {
   "cell_type": "markdown",
   "metadata": {},
   "source": [
    "# Double Integrator Example"
   ]
  },
  {
   "cell_type": "code",
   "execution_count": null,
   "metadata": {},
   "outputs": [],
   "source": [
    "import double_integrator_utils\n",
    "\n",
    "N = 5\n",
    "\n",
    "# value function we benchmark the resulting control against\n",
    "vf = double_integrator_utils.get_value_function(N=N+1)\n",
    "V = vf.get_value_function()\n",
    "\n",
    "# value function used by the controller beyond one time step\n",
    "vf_next = double_integrator_utils.get_value_function(N=N)\n",
    "V_next = vf_next.get_value_function()\n",
    "\n",
    "x0_lo = -1 * torch.ones(vf.sys.x_dim, dtype=vf.dtype)\n",
    "x0_up = 1 * torch.ones(vf.sys.x_dim, dtype=vf.dtype)\n",
    "\n",
    "# file options\n",
    "model_file = '../data/double_int'"
   ]
  },
  {
   "cell_type": "markdown",
   "metadata": {},
   "source": [
    "# Vertical Ball Paddle Example"
   ]
  },
  {
   "cell_type": "code",
   "execution_count": null,
   "metadata": {},
   "outputs": [],
   "source": [
    "import ball_paddle_utils\n",
    "\n",
    "N = 5\n",
    "\n",
    "# value function we benchmark the resulting control against\n",
    "vf = ball_paddle_utils.get_value_function_vertical(N=N+1)\n",
    "V = vf.get_value_function()\n",
    "\n",
    "# value function used by the controller beyond one time step\n",
    "vf_next = ball_paddle_utils.get_value_function_vertical(N=N)\n",
    "V_next = vf_next.get_value_function()\n",
    "\n",
    "x0_lo = torch.Tensor([1.5, .15, -5., -1.]).type(vf.dtype)\n",
    "x0_up = torch.Tensor([2., .15, 1., 5.]).type(vf.dtype)\n",
    "\n",
    "# file options\n",
    "model_file = '../data/vertical_ball_paddle'"
   ]
  },
  {
   "cell_type": "markdown",
   "metadata": {},
   "source": [
    "# Get Controllers"
   ]
  },
  {
   "cell_type": "code",
   "execution_count": null,
   "metadata": {},
   "outputs": [],
   "source": [
    "baseline_model = torch.load(model_file + '_baseline_model.pt')\n",
    "robust_model = torch.load(model_file + '_robust_model.pt')\n",
    "baseline_ctrl = relu_mpc.ReLUMPC(vf, baseline_model)\n",
    "robust_ctrl = relu_mpc.ReLUMPC(vf, robust_model)\n",
    "def eval_one_step_ctrl(ctrl, x0_samp):\n",
    "    (u0, x1) = ctrl.get_ctrl(x0_samp)\n",
    "    if u0 is None:\n",
    "        return (None, None, None)\n",
    "    (x_traj_next, u_traj_next, alpha_traj_next) = vf_next.sol_to_traj(x1, *V_next(x1)[1:])\n",
    "    if x_traj_next is None:\n",
    "        return (None, None, None)\n",
    "    x_traj = torch.cat((x0_samp.unsqueeze(0).t(), x_traj_next), axis=1)\n",
    "    u_traj = torch.cat((u0.unsqueeze(0).t(), u_traj_next), axis=1)\n",
    "    # assumes no cost on alpha! (true on all benchmarks)    \n",
    "    value = vf.traj_cost(x_traj[:,1:], u_traj)\n",
    "    return (value, x_traj, u_traj)"
   ]
  },
  {
   "cell_type": "markdown",
   "metadata": {},
   "source": [
    "# Evaluate their Performance on Average"
   ]
  },
  {
   "cell_type": "code",
   "execution_count": null,
   "metadata": {},
   "outputs": [],
   "source": [
    "cost_opt = torch.Tensor(0, 1).type(vf.dtype)\n",
    "cost_baseline = torch.Tensor(0, 1).type(vf.dtype)\n",
    "cost_robust = torch.Tensor(0, 1).type(vf.dtype)"
   ]
  },
  {
   "cell_type": "code",
   "execution_count": null,
   "metadata": {},
   "outputs": [],
   "source": [
    "num_samples = 100\n",
    "for i in range(num_samples):    \n",
    "    x0_samp = torch.rand(vf.sys.x_dim) * (x0_up - x0_lo) + x0_lo\n",
    "    \n",
    "    optimal_value, opt_s, opt_alpha = V(x0_samp)\n",
    "    if optimal_value is None:\n",
    "        continue\n",
    "    (x_traj_opt, u_traj_opt, alpha_traj_opt) = vf.sol_to_traj(x0_samp, opt_s, opt_alpha)\n",
    "\n",
    "    (baseline_value, baseline_x_traj, baseline_u_traj) = eval_one_step_ctrl(baseline_ctrl, x0_samp)\n",
    "    if baseline_value is None:\n",
    "        continue\n",
    "    \n",
    "    (robust_value, robust_x_traj, robust_u_traj) = eval_one_step_ctrl(robust_ctrl, x0_samp)\n",
    "    if robust_value is None:\n",
    "        continue\n",
    "\n",
    "    cost_opt = torch.cat((cost_opt, torch.Tensor([[optimal_value]]).type(vf.dtype)), 0)\n",
    "    cost_baseline = torch.cat((cost_baseline, torch.Tensor([[baseline_value.item()]]).type(vf.dtype)), 0)\n",
    "    cost_robust = torch.cat((cost_robust, torch.Tensor([[robust_value.item()]]).type(vf.dtype)), 0)                                                               \n",
    "    utils.update_progress((i + 1) / num_samples)"
   ]
  },
  {
   "cell_type": "code",
   "execution_count": null,
   "metadata": {},
   "outputs": [],
   "source": [
    "nbin = 100\n",
    "bartop = cost_opt.shape[0]\n",
    "\n",
    "sub_opt_baseline = (cost_baseline - cost_opt).squeeze()\n",
    "sub_opt_robust = (cost_robust - cost_opt).squeeze()\n",
    "layout = go.Layout(annotations=[dict(showarrow=False, x=torch.mean(sub_opt_baseline), y=int(.9*bartop),\n",
    "                                     text=\"baseline: mean\", xanchor=\"right\", xshift=-4, opacity=.95, textangle=0),\n",
    "                                dict(showarrow=False, x=torch.mean(sub_opt_robust), y=int(.8*bartop),\n",
    "                                     text=\"robust (ours): mean\", xanchor=\"right\", xshift=-4, opacity=.95, textangle=0),\n",
    "                               dict(showarrow=False, x=torch.max(sub_opt_baseline), y=int(.65*bartop),\n",
    "                                     text=\"baseline: max\", xanchor=\"right\", xshift=-4, opacity=.5, textangle=0),\n",
    "                               dict(showarrow=False, x=torch.max(sub_opt_robust), y=int(.85*bartop),\n",
    "                                     text=\"robust (ours): max\", xanchor=\"right\", xshift=-4, opacity=.5, textangle=0)])\n",
    "fig = go.Figure(layout=layout)\n",
    "fig.update_layout(barmode='overlay')\n",
    "fig.add_trace(go.Histogram(x=sub_opt_baseline, name=\"baseline\", nbinsx=nbin, bingroup=1, marker_color='#e32249'))\n",
    "fig.add_trace(go.Histogram(x=sub_opt_robust, name=\"robust\", bingroup=1, marker_color='#0f4c75'))\n",
    "fig.update_traces(opacity=0.75)\n",
    "fig.add_shape(go.layout.Shape(type='line', xref='x', yref='y',\n",
    "                              x0=torch.mean(sub_opt_baseline), y0=0, x1=torch.mean(sub_opt_baseline), y1=bartop,\n",
    "                              line=dict(dash='dash', color='#d8c962'),opacity=.5))\n",
    "fig.add_shape(go.layout.Shape(type='line', xref='x', yref='y',\n",
    "                              x0=torch.mean(sub_opt_robust), y0=0, x1=torch.mean(sub_opt_robust), y1=bartop,\n",
    "                              line=dict(dash='dash', color='#d8c962'),opacity=.5))\n",
    "fig.add_shape(go.layout.Shape(type='line', xref='x', yref='y',\n",
    "                              x0=torch.max(sub_opt_baseline), y0=0, x1=torch.max(sub_opt_baseline), y1=bartop,\n",
    "                              line=dict(dash='dash', color='#d8c962'),opacity=1.))\n",
    "fig.add_shape(go.layout.Shape(type='line', xref='x', yref='y',\n",
    "                              x0=torch.max(sub_opt_robust), y0=0, x1=torch.max(sub_opt_robust), y1=bartop,\n",
    "                              line=dict(dash='dash', color='#d8c962'),opacity=1.))\n",
    "fig.show()"
   ]
  },
  {
   "cell_type": "code",
   "execution_count": null,
   "metadata": {},
   "outputs": [],
   "source": [
    "as_generator = adversarial_sample.AdversarialSampleGenerator(vf_next, x0_lo, x0_up)\n",
    "# (eps_adv, x_adv) = as_generator.get_upper_bound_global(baseline_model, requires_grad=False)\n",
    "# (eps_adv, x_adv) = as_generator.get_upper_bound_global(robust_model, requires_grad=False)\n",
    "# (eps_adv, x_adv_, V_adv, _) = as_generator.get_squared_bound_sample(baseline_model, max_iter=15, conv_tol=1e-4, learning_rate=.1)\n",
    "(eps_adv, x_adv_, V_adv, _) = as_generator.get_squared_bound_sample(robust_model, max_iter=15, conv_tol=1e-4, learning_rate=.1)\n",
    "print(x_adv_)\n",
    "x_adv = x_adv_[-1, :]"
   ]
  },
  {
   "cell_type": "code",
   "execution_count": null,
   "metadata": {},
   "outputs": [],
   "source": [
    "x0_samp = torch.rand(vf.sys.x_dim) * (x0_up - x0_lo) + x0_lo\n",
    "# x0_samp = x_adv\n",
    "(optimal_value, opt_s, opt_alpha) = V(x0_samp)\n",
    "(x_traj_opt, u_traj_opt, alpha_traj_opt) = vf.sol_to_traj(x0_samp, opt_s, opt_alpha)\n",
    "(robust_value, robust_x_traj, robust_u_traj) = eval_one_step_ctrl(robust_ctrl, x0_samp)\n",
    "(baseline_value, baseline_x_traj, baseline_u_traj) = eval_one_step_ctrl(baseline_ctrl, x0_samp)\n",
    "\n",
    "data = []\n",
    "# data += [go.Scatter(y=robust_x_traj[0,:], name=\"ball y robust\", line=dict(color='green')),\n",
    "#          go.Scatter(y=robust_x_traj[1,:], name=\"paddle y robust\", line=dict(color='green'))]\n",
    "# data += [go.Scatter(y=baseline_x_traj[0,:], name=\"ball y baseline\", line=dict(color='blue')),\n",
    "#          go.Scatter(y=baseline_x_traj[1,:], name=\"paddle y baseline\",line=dict(color='blue'))]\n",
    "# data += [go.Scatter(y=x_traj_opt[0,:], name=\"ball y opt\", line=dict(dash=\"dash\", color='red')),\n",
    "#          go.Scatter(y=x_traj_opt[1,:], name=\"paddle y opt\", line=dict(dash=\"dash\", color='red'))]\n",
    "\n",
    "data += [go.Scatter(y=robust_u_traj[0,:], name=\"ball y robust\", line=dict(color='green'))]\n",
    "data += [go.Scatter(y=baseline_u_traj[0,:], name=\"ball y baseline\", line=dict(color='blue'))]\n",
    "data += [go.Scatter(y=u_traj_opt[0,:], name=\"ball y opt\", line=dict(dash='dash', color='red'))]\n",
    "plotly.offline.iplot(data)\n",
    "\n",
    "print(\"Optimal value: \" + str(optimal_value))\n",
    "print(\"Baseline value: \" + str(baseline_value.item()))\n",
    "print(\"Robust value: \" + str(robust_value.item()))"
   ]
  }
 ],
 "metadata": {
  "kernelspec": {
   "display_name": "Python 3",
   "language": "python",
   "name": "python3"
  },
  "language_info": {
   "codemirror_mode": {
    "name": "ipython",
    "version": 3
   },
   "file_extension": ".py",
   "mimetype": "text/x-python",
   "name": "python",
   "nbconvert_exporter": "python",
   "pygments_lexer": "ipython3",
   "version": "3.7.5"
  }
 },
 "nbformat": 4,
 "nbformat_minor": 2
}
